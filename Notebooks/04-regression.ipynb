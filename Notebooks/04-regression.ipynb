{
 "cells": [
  {
   "cell_type": "code",
   "execution_count": null,
   "metadata": {},
   "outputs": [],
   "source": [
    "using Pkg\n",
    "Pkg.activate(\"NB04\")\n",
    "Pkg.resolve();"
   ]
  },
  {
   "cell_type": "code",
   "execution_count": 3,
   "metadata": {},
   "outputs": [],
   "source": [
    "using LinearAlgebra, Plots, StatsBase\n",
    "using RDatasets\n",
    "using Optim"
   ]
  },
  {
   "cell_type": "markdown",
   "metadata": {},
   "source": [
    "# Regression\n",
    "\n",
    "Wir laden den Datensatz `cars` aus dem `RDatasets` package"
   ]
  },
  {
   "cell_type": "code",
   "execution_count": 41,
   "metadata": {},
   "outputs": [],
   "source": [
    "data_cars = dataset(\"datasets\", \"cars\");"
   ]
  },
  {
   "cell_type": "markdown",
   "metadata": {},
   "source": [
    "Wir schauen zunächst, welche Variablen in diesem Datensatz erhalten sind"
   ]
  },
  {
   "cell_type": "code",
   "execution_count": 42,
   "metadata": {},
   "outputs": [
    {
     "data": {
      "text/plain": [
       "2-element Vector{String}:\n",
       " \"Speed\"\n",
       " \"Dist\""
      ]
     },
     "execution_count": 42,
     "metadata": {},
     "output_type": "execute_result"
    }
   ],
   "source": [
    "names(data_cars)"
   ]
  },
  {
   "cell_type": "markdown",
   "metadata": {},
   "source": [
    "Die Datenpunkte stellen also Geschwindigkeit und zurückgelegte Distanz dar. \n",
    "\n",
    "Wir erwarten einen linearen Zusammenhang, also wählen wir das lineare Modell\n",
    "\n",
    "$$f_\\theta(x) =  a x + b$$\n",
    "\n",
    "mit $\\theta =(a,b)\\in\\mathbb R^2$."
   ]
  },
  {
   "cell_type": "code",
   "execution_count": 62,
   "metadata": {},
   "outputs": [
    {
     "data": {
      "image/svg+xml": [
       "<?xml version=\"1.0\" encoding=\"utf-8\"?>\n",
       "<svg xmlns=\"http://www.w3.org/2000/svg\" xmlns:xlink=\"http://www.w3.org/1999/xlink\" width=\"600\" height=\"300\" viewBox=\"0 0 2400 1200\">\n",
       "<defs>\n",
       "  <clipPath id=\"clip580\">\n",
       "    <rect x=\"0\" y=\"0\" width=\"2400\" height=\"1200\"/>\n",
       "  </clipPath>\n",
       "</defs>\n",
       "<path clip-path=\"url(#clip580)\" d=\"\n",
       "M0 1200 L2400 1200 L2400 0 L0 0  Z\n",
       "  \" fill=\"#ffffff\" fill-rule=\"evenodd\" fill-opacity=\"1\"/>\n",
       "<defs>\n",
       "  <clipPath id=\"clip581\">\n",
       "    <rect x=\"480\" y=\"0\" width=\"1681\" height=\"1200\"/>\n",
       "  </clipPath>\n",
       "</defs>\n",
       "<path clip-path=\"url(#clip580)\" d=\"\n",
       "M220.509 1047.7 L2352.76 1047.7 L2352.76 47.2441 L220.509 47.2441  Z\n",
       "  \" fill=\"#ffffff\" fill-rule=\"evenodd\" fill-opacity=\"1\"/>\n",
       "<defs>\n",
       "  <clipPath id=\"clip582\">\n",
       "    <rect x=\"220\" y=\"47\" width=\"2133\" height=\"1001\"/>\n",
       "  </clipPath>\n",
       "</defs>\n",
       "<polyline clip-path=\"url(#clip582)\" style=\"stroke:#000000; stroke-linecap:butt; stroke-linejoin:round; stroke-width:2; stroke-opacity:0.1; fill:none\" points=\"\n",
       "  376.644,1047.7 376.644,47.2441 \n",
       "  \"/>\n",
       "<polyline clip-path=\"url(#clip582)\" style=\"stroke:#000000; stroke-linecap:butt; stroke-linejoin:round; stroke-width:2; stroke-opacity:0.1; fill:none\" points=\"\n",
       "  855.585,1047.7 855.585,47.2441 \n",
       "  \"/>\n",
       "<polyline clip-path=\"url(#clip582)\" style=\"stroke:#000000; stroke-linecap:butt; stroke-linejoin:round; stroke-width:2; stroke-opacity:0.1; fill:none\" points=\"\n",
       "  1334.53,1047.7 1334.53,47.2441 \n",
       "  \"/>\n",
       "<polyline clip-path=\"url(#clip582)\" style=\"stroke:#000000; stroke-linecap:butt; stroke-linejoin:round; stroke-width:2; stroke-opacity:0.1; fill:none\" points=\"\n",
       "  1813.47,1047.7 1813.47,47.2441 \n",
       "  \"/>\n",
       "<polyline clip-path=\"url(#clip582)\" style=\"stroke:#000000; stroke-linecap:butt; stroke-linejoin:round; stroke-width:2; stroke-opacity:0.1; fill:none\" points=\"\n",
       "  2292.41,1047.7 2292.41,47.2441 \n",
       "  \"/>\n",
       "<polyline clip-path=\"url(#clip580)\" style=\"stroke:#000000; stroke-linecap:butt; stroke-linejoin:round; stroke-width:4; stroke-opacity:1; fill:none\" points=\"\n",
       "  220.509,1047.7 2352.76,1047.7 \n",
       "  \"/>\n",
       "<polyline clip-path=\"url(#clip580)\" style=\"stroke:#000000; stroke-linecap:butt; stroke-linejoin:round; stroke-width:4; stroke-opacity:1; fill:none\" points=\"\n",
       "  376.644,1047.7 376.644,1028.8 \n",
       "  \"/>\n",
       "<polyline clip-path=\"url(#clip580)\" style=\"stroke:#000000; stroke-linecap:butt; stroke-linejoin:round; stroke-width:4; stroke-opacity:1; fill:none\" points=\"\n",
       "  855.585,1047.7 855.585,1028.8 \n",
       "  \"/>\n",
       "<polyline clip-path=\"url(#clip580)\" style=\"stroke:#000000; stroke-linecap:butt; stroke-linejoin:round; stroke-width:4; stroke-opacity:1; fill:none\" points=\"\n",
       "  1334.53,1047.7 1334.53,1028.8 \n",
       "  \"/>\n",
       "<polyline clip-path=\"url(#clip580)\" style=\"stroke:#000000; stroke-linecap:butt; stroke-linejoin:round; stroke-width:4; stroke-opacity:1; fill:none\" points=\"\n",
       "  1813.47,1047.7 1813.47,1028.8 \n",
       "  \"/>\n",
       "<polyline clip-path=\"url(#clip580)\" style=\"stroke:#000000; stroke-linecap:butt; stroke-linejoin:round; stroke-width:4; stroke-opacity:1; fill:none\" points=\"\n",
       "  2292.41,1047.7 2292.41,1028.8 \n",
       "  \"/>\n",
       "<path clip-path=\"url(#clip580)\" d=\"M366.922 1075.54 L385.278 1075.54 L385.278 1079.48 L371.204 1079.48 L371.204 1087.95 Q372.223 1087.6 373.241 1087.44 Q374.26 1087.25 375.278 1087.25 Q381.065 1087.25 384.445 1090.42 Q387.825 1093.6 387.825 1099.01 Q387.825 1104.59 384.352 1107.69 Q380.88 1110.77 374.561 1110.77 Q372.385 1110.77 370.116 1110.4 Q367.871 1110.03 365.464 1109.29 L365.464 1104.59 Q367.547 1105.72 369.769 1106.28 Q371.991 1106.84 374.468 1106.84 Q378.473 1106.84 380.811 1104.73 Q383.149 1102.62 383.149 1099.01 Q383.149 1095.4 380.811 1093.29 Q378.473 1091.19 374.468 1091.19 Q372.593 1091.19 370.718 1091.6 Q368.866 1092.02 366.922 1092.9 L366.922 1075.54 Z\" fill=\"#000000\" fill-rule=\"evenodd\" fill-opacity=\"1\" /><path clip-path=\"url(#clip580)\" d=\"M830.273 1106.16 L837.912 1106.16 L837.912 1079.8 L829.602 1081.47 L829.602 1077.21 L837.866 1075.54 L842.542 1075.54 L842.542 1106.16 L850.18 1106.16 L850.18 1110.1 L830.273 1110.1 L830.273 1106.16 Z\" fill=\"#000000\" fill-rule=\"evenodd\" fill-opacity=\"1\" /><path clip-path=\"url(#clip580)\" d=\"M869.625 1078.62 Q866.014 1078.62 864.185 1082.18 Q862.379 1085.72 862.379 1092.85 Q862.379 1099.96 864.185 1103.53 Q866.014 1107.07 869.625 1107.07 Q873.259 1107.07 875.065 1103.53 Q876.893 1099.96 876.893 1092.85 Q876.893 1085.72 875.065 1082.18 Q873.259 1078.62 869.625 1078.62 M869.625 1074.91 Q875.435 1074.91 878.49 1079.52 Q881.569 1084.1 881.569 1092.85 Q881.569 1101.58 878.49 1106.19 Q875.435 1110.77 869.625 1110.77 Q863.815 1110.77 860.736 1106.19 Q857.68 1101.58 857.68 1092.85 Q857.68 1084.1 860.736 1079.52 Q863.815 1074.91 869.625 1074.91 Z\" fill=\"#000000\" fill-rule=\"evenodd\" fill-opacity=\"1\" /><path clip-path=\"url(#clip580)\" d=\"M1309.71 1106.16 L1317.35 1106.16 L1317.35 1079.8 L1309.04 1081.47 L1309.04 1077.21 L1317.3 1075.54 L1321.98 1075.54 L1321.98 1106.16 L1329.62 1106.16 L1329.62 1110.1 L1309.71 1110.1 L1309.71 1106.16 Z\" fill=\"#000000\" fill-rule=\"evenodd\" fill-opacity=\"1\" /><path clip-path=\"url(#clip580)\" d=\"M1339.11 1075.54 L1357.47 1075.54 L1357.47 1079.48 L1343.39 1079.48 L1343.39 1087.95 Q1344.41 1087.6 1345.43 1087.44 Q1346.45 1087.25 1347.47 1087.25 Q1353.25 1087.25 1356.63 1090.42 Q1360.01 1093.6 1360.01 1099.01 Q1360.01 1104.59 1356.54 1107.69 Q1353.07 1110.77 1346.75 1110.77 Q1344.57 1110.77 1342.3 1110.4 Q1340.06 1110.03 1337.65 1109.29 L1337.65 1104.59 Q1339.74 1105.72 1341.96 1106.28 Q1344.18 1106.84 1346.66 1106.84 Q1350.66 1106.84 1353 1104.73 Q1355.34 1102.62 1355.34 1099.01 Q1355.34 1095.4 1353 1093.29 Q1350.66 1091.19 1346.66 1091.19 Q1344.78 1091.19 1342.91 1091.6 Q1341.05 1092.02 1339.11 1092.9 L1339.11 1075.54 Z\" fill=\"#000000\" fill-rule=\"evenodd\" fill-opacity=\"1\" /><path clip-path=\"url(#clip580)\" d=\"M1792.24 1106.16 L1808.56 1106.16 L1808.56 1110.1 L1786.62 1110.1 L1786.62 1106.16 Q1789.28 1103.41 1793.86 1098.78 Q1798.47 1094.13 1799.65 1092.79 Q1801.89 1090.26 1802.77 1088.53 Q1803.68 1086.77 1803.68 1085.08 Q1803.68 1082.32 1801.73 1080.59 Q1799.81 1078.85 1796.71 1078.85 Q1794.51 1078.85 1792.06 1079.61 Q1789.63 1080.38 1786.85 1081.93 L1786.85 1077.21 Q1789.67 1076.07 1792.13 1075.49 Q1794.58 1074.91 1796.62 1074.91 Q1801.99 1074.91 1805.18 1077.6 Q1808.38 1080.29 1808.38 1084.78 Q1808.38 1086.91 1807.57 1088.83 Q1806.78 1090.72 1804.67 1093.32 Q1804.09 1093.99 1800.99 1097.21 Q1797.89 1100.4 1792.24 1106.16 Z\" fill=\"#000000\" fill-rule=\"evenodd\" fill-opacity=\"1\" /><path clip-path=\"url(#clip580)\" d=\"M1828.38 1078.62 Q1824.76 1078.62 1822.94 1082.18 Q1821.13 1085.72 1821.13 1092.85 Q1821.13 1099.96 1822.94 1103.53 Q1824.76 1107.07 1828.38 1107.07 Q1832.01 1107.07 1833.82 1103.53 Q1835.64 1099.96 1835.64 1092.85 Q1835.64 1085.72 1833.82 1082.18 Q1832.01 1078.62 1828.38 1078.62 M1828.38 1074.91 Q1834.19 1074.91 1837.24 1079.52 Q1840.32 1084.1 1840.32 1092.85 Q1840.32 1101.58 1837.24 1106.19 Q1834.19 1110.77 1828.38 1110.77 Q1822.57 1110.77 1819.49 1106.19 Q1816.43 1101.58 1816.43 1092.85 Q1816.43 1084.1 1819.49 1079.52 Q1822.57 1074.91 1828.38 1074.91 Z\" fill=\"#000000\" fill-rule=\"evenodd\" fill-opacity=\"1\" /><path clip-path=\"url(#clip580)\" d=\"M2271.68 1106.16 L2288 1106.16 L2288 1110.1 L2266.06 1110.1 L2266.06 1106.16 Q2268.72 1103.41 2273.3 1098.78 Q2277.91 1094.13 2279.09 1092.79 Q2281.33 1090.26 2282.21 1088.53 Q2283.12 1086.77 2283.12 1085.08 Q2283.12 1082.32 2281.17 1080.59 Q2279.25 1078.85 2276.15 1078.85 Q2273.95 1078.85 2271.5 1079.61 Q2269.06 1080.38 2266.29 1081.93 L2266.29 1077.21 Q2269.11 1076.07 2271.56 1075.49 Q2274.02 1074.91 2276.06 1074.91 Q2281.43 1074.91 2284.62 1077.6 Q2287.81 1080.29 2287.81 1084.78 Q2287.81 1086.91 2287 1088.83 Q2286.22 1090.72 2284.11 1093.32 Q2283.53 1093.99 2280.43 1097.21 Q2277.33 1100.4 2271.68 1106.16 Z\" fill=\"#000000\" fill-rule=\"evenodd\" fill-opacity=\"1\" /><path clip-path=\"url(#clip580)\" d=\"M2297.86 1075.54 L2316.22 1075.54 L2316.22 1079.48 L2302.14 1079.48 L2302.14 1087.95 Q2303.16 1087.6 2304.18 1087.44 Q2305.2 1087.25 2306.22 1087.25 Q2312 1087.25 2315.38 1090.42 Q2318.76 1093.6 2318.76 1099.01 Q2318.76 1104.59 2315.29 1107.69 Q2311.82 1110.77 2305.5 1110.77 Q2303.32 1110.77 2301.06 1110.4 Q2298.81 1110.03 2296.4 1109.29 L2296.4 1104.59 Q2298.49 1105.72 2300.71 1106.28 Q2302.93 1106.84 2305.41 1106.84 Q2309.41 1106.84 2311.75 1104.73 Q2314.09 1102.62 2314.09 1099.01 Q2314.09 1095.4 2311.75 1093.29 Q2309.41 1091.19 2305.41 1091.19 Q2303.53 1091.19 2301.66 1091.6 Q2299.81 1092.02 2297.86 1092.9 L2297.86 1075.54 Z\" fill=\"#000000\" fill-rule=\"evenodd\" fill-opacity=\"1\" /><path clip-path=\"url(#clip580)\" d=\"M1220.16 1146.6 L1220.16 1152.87 Q1216.5 1151.12 1213.25 1150.26 Q1210.01 1149.4 1206.98 1149.4 Q1201.73 1149.4 1198.87 1151.44 Q1196.03 1153.48 1196.03 1157.23 Q1196.03 1160.39 1197.91 1162.01 Q1199.82 1163.6 1205.1 1164.59 L1208.99 1165.38 Q1216.18 1166.75 1219.59 1170.22 Q1223.02 1173.66 1223.02 1179.45 Q1223.02 1186.36 1218.38 1189.92 Q1213.76 1193.49 1204.82 1193.49 Q1201.44 1193.49 1197.62 1192.72 Q1193.84 1191.96 1189.76 1190.46 L1189.76 1183.84 Q1193.68 1186.04 1197.43 1187.15 Q1201.19 1188.27 1204.82 1188.27 Q1210.32 1188.27 1213.32 1186.1 Q1216.31 1183.94 1216.31 1179.93 Q1216.31 1176.43 1214.14 1174.45 Q1212.01 1172.48 1207.11 1171.49 L1203.19 1170.73 Q1196 1169.3 1192.79 1166.24 Q1189.57 1163.19 1189.57 1157.74 Q1189.57 1151.44 1194 1147.81 Q1198.45 1144.18 1206.25 1144.18 Q1209.59 1144.18 1213.06 1144.79 Q1216.53 1145.39 1220.16 1146.6 Z\" fill=\"#000000\" fill-rule=\"evenodd\" fill-opacity=\"1\" /><path clip-path=\"url(#clip580)\" d=\"M1238.46 1187.22 L1238.46 1206.12 L1232.57 1206.12 L1232.57 1156.92 L1238.46 1156.92 L1238.46 1162.33 Q1240.31 1159.14 1243.11 1157.62 Q1245.94 1156.06 1249.85 1156.06 Q1256.35 1156.06 1260.39 1161.21 Q1264.46 1166.37 1264.46 1174.77 Q1264.46 1183.17 1260.39 1188.33 Q1256.35 1193.49 1249.85 1193.49 Q1245.94 1193.49 1243.11 1191.96 Q1240.31 1190.4 1238.46 1187.22 M1258.38 1174.77 Q1258.38 1168.31 1255.71 1164.65 Q1253.07 1160.96 1248.42 1160.96 Q1243.78 1160.96 1241.1 1164.65 Q1238.46 1168.31 1238.46 1174.77 Q1238.46 1181.23 1241.1 1184.92 Q1243.78 1188.59 1248.42 1188.59 Q1253.07 1188.59 1255.71 1184.92 Q1258.38 1181.23 1258.38 1174.77 Z\" fill=\"#000000\" fill-rule=\"evenodd\" fill-opacity=\"1\" /><path clip-path=\"url(#clip580)\" d=\"M1304.66 1173.28 L1304.66 1176.14 L1277.74 1176.14 Q1278.12 1182.19 1281.37 1185.37 Q1284.64 1188.52 1290.47 1188.52 Q1293.84 1188.52 1296.99 1187.69 Q1300.18 1186.87 1303.29 1185.21 L1303.29 1190.75 Q1300.14 1192.09 1296.83 1192.79 Q1293.52 1193.49 1290.12 1193.49 Q1281.59 1193.49 1276.59 1188.52 Q1271.63 1183.56 1271.63 1175.09 Q1271.63 1166.34 1276.34 1161.21 Q1281.08 1156.06 1289.1 1156.06 Q1296.29 1156.06 1300.46 1160.7 Q1304.66 1165.32 1304.66 1173.28 M1298.81 1171.56 Q1298.74 1166.75 1296.1 1163.89 Q1293.49 1161.02 1289.16 1161.02 Q1284.26 1161.02 1281.3 1163.79 Q1278.37 1166.56 1277.93 1171.59 L1298.81 1171.56 Z\" fill=\"#000000\" fill-rule=\"evenodd\" fill-opacity=\"1\" /><path clip-path=\"url(#clip580)\" d=\"M1344.77 1173.28 L1344.77 1176.14 L1317.84 1176.14 Q1318.22 1182.19 1321.47 1185.37 Q1324.75 1188.52 1330.57 1188.52 Q1333.95 1188.52 1337.1 1187.69 Q1340.28 1186.87 1343.4 1185.21 L1343.4 1190.75 Q1340.25 1192.09 1336.94 1192.79 Q1333.63 1193.49 1330.22 1193.49 Q1321.69 1193.49 1316.69 1188.52 Q1311.73 1183.56 1311.73 1175.09 Q1311.73 1166.34 1316.44 1161.21 Q1321.18 1156.06 1329.2 1156.06 Q1336.4 1156.06 1340.57 1160.7 Q1344.77 1165.32 1344.77 1173.28 M1338.91 1171.56 Q1338.85 1166.75 1336.21 1163.89 Q1333.6 1161.02 1329.27 1161.02 Q1324.37 1161.02 1321.41 1163.79 Q1318.48 1166.56 1318.03 1171.59 L1338.91 1171.56 Z\" fill=\"#000000\" fill-rule=\"evenodd\" fill-opacity=\"1\" /><path clip-path=\"url(#clip580)\" d=\"M1377.84 1162.33 L1377.84 1143.04 L1383.69 1143.04 L1383.69 1192.56 L1377.84 1192.56 L1377.84 1187.22 Q1375.99 1190.4 1373.16 1191.96 Q1370.36 1193.49 1366.41 1193.49 Q1359.95 1193.49 1355.88 1188.33 Q1351.83 1183.17 1351.83 1174.77 Q1351.83 1166.37 1355.88 1161.21 Q1359.95 1156.06 1366.41 1156.06 Q1370.36 1156.06 1373.16 1157.62 Q1375.99 1159.14 1377.84 1162.33 M1357.88 1174.77 Q1357.88 1181.23 1360.52 1184.92 Q1363.2 1188.59 1367.84 1188.59 Q1372.49 1188.59 1375.16 1184.92 Q1377.84 1181.23 1377.84 1174.77 Q1377.84 1168.31 1375.16 1164.65 Q1372.49 1160.96 1367.84 1160.96 Q1363.2 1160.96 1360.52 1164.65 Q1357.88 1168.31 1357.88 1174.77 Z\" fill=\"#000000\" fill-rule=\"evenodd\" fill-opacity=\"1\" /><polyline clip-path=\"url(#clip582)\" style=\"stroke:#000000; stroke-linecap:butt; stroke-linejoin:round; stroke-width:2; stroke-opacity:0.1; fill:none\" points=\"\n",
       "  220.509,1035.38 2352.76,1035.38 \n",
       "  \"/>\n",
       "<polyline clip-path=\"url(#clip582)\" style=\"stroke:#000000; stroke-linecap:butt; stroke-linejoin:round; stroke-width:2; stroke-opacity:0.1; fill:none\" points=\"\n",
       "  220.509,835.419 2352.76,835.419 \n",
       "  \"/>\n",
       "<polyline clip-path=\"url(#clip582)\" style=\"stroke:#000000; stroke-linecap:butt; stroke-linejoin:round; stroke-width:2; stroke-opacity:0.1; fill:none\" points=\"\n",
       "  220.509,635.456 2352.76,635.456 \n",
       "  \"/>\n",
       "<polyline clip-path=\"url(#clip582)\" style=\"stroke:#000000; stroke-linecap:butt; stroke-linejoin:round; stroke-width:2; stroke-opacity:0.1; fill:none\" points=\"\n",
       "  220.509,435.493 2352.76,435.493 \n",
       "  \"/>\n",
       "<polyline clip-path=\"url(#clip582)\" style=\"stroke:#000000; stroke-linecap:butt; stroke-linejoin:round; stroke-width:2; stroke-opacity:0.1; fill:none\" points=\"\n",
       "  220.509,235.529 2352.76,235.529 \n",
       "  \"/>\n",
       "<polyline clip-path=\"url(#clip580)\" style=\"stroke:#000000; stroke-linecap:butt; stroke-linejoin:round; stroke-width:4; stroke-opacity:1; fill:none\" points=\"\n",
       "  220.509,1047.7 220.509,47.2441 \n",
       "  \"/>\n",
       "<polyline clip-path=\"url(#clip580)\" style=\"stroke:#000000; stroke-linecap:butt; stroke-linejoin:round; stroke-width:4; stroke-opacity:1; fill:none\" points=\"\n",
       "  220.509,1035.38 239.407,1035.38 \n",
       "  \"/>\n",
       "<polyline clip-path=\"url(#clip580)\" style=\"stroke:#000000; stroke-linecap:butt; stroke-linejoin:round; stroke-width:4; stroke-opacity:1; fill:none\" points=\"\n",
       "  220.509,835.419 239.407,835.419 \n",
       "  \"/>\n",
       "<polyline clip-path=\"url(#clip580)\" style=\"stroke:#000000; stroke-linecap:butt; stroke-linejoin:round; stroke-width:4; stroke-opacity:1; fill:none\" points=\"\n",
       "  220.509,635.456 239.407,635.456 \n",
       "  \"/>\n",
       "<polyline clip-path=\"url(#clip580)\" style=\"stroke:#000000; stroke-linecap:butt; stroke-linejoin:round; stroke-width:4; stroke-opacity:1; fill:none\" points=\"\n",
       "  220.509,435.493 239.407,435.493 \n",
       "  \"/>\n",
       "<polyline clip-path=\"url(#clip580)\" style=\"stroke:#000000; stroke-linecap:butt; stroke-linejoin:round; stroke-width:4; stroke-opacity:1; fill:none\" points=\"\n",
       "  220.509,235.529 239.407,235.529 \n",
       "  \"/>\n",
       "<path clip-path=\"url(#clip580)\" d=\"M172.565 1021.18 Q168.954 1021.18 167.125 1024.75 Q165.32 1028.29 165.32 1035.42 Q165.32 1042.52 167.125 1046.09 Q168.954 1049.63 172.565 1049.63 Q176.199 1049.63 178.005 1046.09 Q179.833 1042.52 179.833 1035.42 Q179.833 1028.29 178.005 1024.75 Q176.199 1021.18 172.565 1021.18 M172.565 1017.48 Q178.375 1017.48 181.431 1022.08 Q184.509 1026.67 184.509 1035.42 Q184.509 1044.14 181.431 1048.75 Q178.375 1053.33 172.565 1053.33 Q166.755 1053.33 163.676 1048.75 Q160.621 1044.14 160.621 1035.42 Q160.621 1026.67 163.676 1022.08 Q166.755 1017.48 172.565 1017.48 Z\" fill=\"#000000\" fill-rule=\"evenodd\" fill-opacity=\"1\" /><path clip-path=\"url(#clip580)\" d=\"M137.426 848.764 L153.746 848.764 L153.746 852.699 L131.801 852.699 L131.801 848.764 Q134.463 846.009 139.047 841.38 Q143.653 836.727 144.834 835.384 Q147.079 832.861 147.959 831.125 Q148.861 829.366 148.861 827.676 Q148.861 824.921 146.917 823.185 Q144.996 821.449 141.894 821.449 Q139.695 821.449 137.241 822.213 Q134.811 822.977 132.033 824.528 L132.033 819.806 Q134.857 818.671 137.311 818.093 Q139.764 817.514 141.801 817.514 Q147.172 817.514 150.366 820.199 Q153.56 822.884 153.56 827.375 Q153.56 829.505 152.75 831.426 Q151.963 833.324 149.857 835.917 Q149.278 836.588 146.176 839.805 Q143.074 843 137.426 848.764 Z\" fill=\"#000000\" fill-rule=\"evenodd\" fill-opacity=\"1\" /><path clip-path=\"url(#clip580)\" d=\"M163.607 818.139 L181.963 818.139 L181.963 822.074 L167.889 822.074 L167.889 830.546 Q168.908 830.199 169.926 830.037 Q170.945 829.852 171.963 829.852 Q177.75 829.852 181.13 833.023 Q184.509 836.194 184.509 841.611 Q184.509 847.19 181.037 850.292 Q177.565 853.37 171.246 853.37 Q169.07 853.37 166.801 853 Q164.556 852.629 162.148 851.889 L162.148 847.19 Q164.232 848.324 166.454 848.88 Q168.676 849.435 171.153 849.435 Q175.158 849.435 177.495 847.329 Q179.833 845.222 179.833 841.611 Q179.833 838 177.495 835.893 Q175.158 833.787 171.153 833.787 Q169.278 833.787 167.403 834.204 Q165.551 834.62 163.607 835.5 L163.607 818.139 Z\" fill=\"#000000\" fill-rule=\"evenodd\" fill-opacity=\"1\" /><path clip-path=\"url(#clip580)\" d=\"M132.449 618.176 L150.806 618.176 L150.806 622.111 L136.732 622.111 L136.732 630.583 Q137.75 630.236 138.769 630.074 Q139.787 629.889 140.806 629.889 Q146.593 629.889 149.972 633.06 Q153.352 636.231 153.352 641.648 Q153.352 647.227 149.88 650.328 Q146.408 653.407 140.088 653.407 Q137.912 653.407 135.644 653.037 Q133.399 652.666 130.991 651.926 L130.991 647.227 Q133.074 648.361 135.297 648.916 Q137.519 649.472 139.996 649.472 Q144 649.472 146.338 647.365 Q148.676 645.259 148.676 641.648 Q148.676 638.037 146.338 635.93 Q144 633.824 139.996 633.824 Q138.121 633.824 136.246 634.24 Q134.394 634.657 132.449 635.537 L132.449 618.176 Z\" fill=\"#000000\" fill-rule=\"evenodd\" fill-opacity=\"1\" /><path clip-path=\"url(#clip580)\" d=\"M172.565 621.254 Q168.954 621.254 167.125 624.819 Q165.32 628.361 165.32 635.49 Q165.32 642.597 167.125 646.162 Q168.954 649.703 172.565 649.703 Q176.199 649.703 178.005 646.162 Q179.833 642.597 179.833 635.49 Q179.833 628.361 178.005 624.819 Q176.199 621.254 172.565 621.254 M172.565 617.551 Q178.375 617.551 181.431 622.157 Q184.509 626.741 184.509 635.49 Q184.509 644.217 181.431 648.824 Q178.375 653.407 172.565 653.407 Q166.755 653.407 163.676 648.824 Q160.621 644.217 160.621 635.49 Q160.621 626.741 163.676 622.157 Q166.755 617.551 172.565 617.551 Z\" fill=\"#000000\" fill-rule=\"evenodd\" fill-opacity=\"1\" /><path clip-path=\"url(#clip580)\" d=\"M132.218 418.213 L154.44 418.213 L154.44 420.203 L141.894 452.773 L137.01 452.773 L148.815 422.148 L132.218 422.148 L132.218 418.213 Z\" fill=\"#000000\" fill-rule=\"evenodd\" fill-opacity=\"1\" /><path clip-path=\"url(#clip580)\" d=\"M163.607 418.213 L181.963 418.213 L181.963 422.148 L167.889 422.148 L167.889 430.62 Q168.908 430.273 169.926 430.111 Q170.945 429.925 171.963 429.925 Q177.75 429.925 181.13 433.097 Q184.509 436.268 184.509 441.685 Q184.509 447.263 181.037 450.365 Q177.565 453.444 171.246 453.444 Q169.07 453.444 166.801 453.074 Q164.556 452.703 162.148 451.962 L162.148 447.263 Q164.232 448.398 166.454 448.953 Q168.676 449.509 171.153 449.509 Q175.158 449.509 177.495 447.402 Q179.833 445.296 179.833 441.685 Q179.833 438.074 177.495 435.967 Q175.158 433.861 171.153 433.861 Q169.278 433.861 167.403 434.277 Q165.551 434.694 163.607 435.574 L163.607 418.213 Z\" fill=\"#000000\" fill-rule=\"evenodd\" fill-opacity=\"1\" /><path clip-path=\"url(#clip580)\" d=\"M103.051 248.874 L110.69 248.874 L110.69 222.509 L102.38 224.175 L102.38 219.916 L110.644 218.249 L115.32 218.249 L115.32 248.874 L122.959 248.874 L122.959 252.809 L103.051 252.809 L103.051 248.874 Z\" fill=\"#000000\" fill-rule=\"evenodd\" fill-opacity=\"1\" /><path clip-path=\"url(#clip580)\" d=\"M142.403 221.328 Q138.792 221.328 136.963 224.893 Q135.158 228.435 135.158 235.564 Q135.158 242.671 136.963 246.235 Q138.792 249.777 142.403 249.777 Q146.037 249.777 147.843 246.235 Q149.672 242.671 149.672 235.564 Q149.672 228.435 147.843 224.893 Q146.037 221.328 142.403 221.328 M142.403 217.624 Q148.213 217.624 151.269 222.231 Q154.347 226.814 154.347 235.564 Q154.347 244.291 151.269 248.897 Q148.213 253.481 142.403 253.481 Q136.593 253.481 133.514 248.897 Q130.459 244.291 130.459 235.564 Q130.459 226.814 133.514 222.231 Q136.593 217.624 142.403 217.624 Z\" fill=\"#000000\" fill-rule=\"evenodd\" fill-opacity=\"1\" /><path clip-path=\"url(#clip580)\" d=\"M172.565 221.328 Q168.954 221.328 167.125 224.893 Q165.32 228.435 165.32 235.564 Q165.32 242.671 167.125 246.235 Q168.954 249.777 172.565 249.777 Q176.199 249.777 178.005 246.235 Q179.833 242.671 179.833 235.564 Q179.833 228.435 178.005 224.893 Q176.199 221.328 172.565 221.328 M172.565 217.624 Q178.375 217.624 181.431 222.231 Q184.509 226.814 184.509 235.564 Q184.509 244.291 181.431 248.897 Q178.375 253.481 172.565 253.481 Q166.755 253.481 163.676 248.897 Q160.621 244.291 160.621 235.564 Q160.621 226.814 163.676 222.231 Q166.755 217.624 172.565 217.624 Z\" fill=\"#000000\" fill-rule=\"evenodd\" fill-opacity=\"1\" /><path clip-path=\"url(#clip580)\" d=\"M9.88769 600.976 L46.8406 600.976 L46.8406 593.21 Q46.8406 583.375 42.3846 578.823 Q37.9286 574.24 28.3164 574.24 Q18.7679 574.24 14.3437 578.823 Q9.88769 583.375 9.88769 593.21 L9.88769 600.976 M4.60416 607.405 L4.60416 594.196 Q4.60416 580.383 10.3651 573.921 Q16.0943 567.46 28.3164 567.46 Q40.6022 567.46 46.3632 573.953 Q52.1242 580.446 52.1242 594.196 L52.1242 607.405 L4.60416 607.405 Z\" fill=\"#000000\" fill-rule=\"evenodd\" fill-opacity=\"1\" /><path clip-path=\"url(#clip580)\" d=\"M16.4762 557.466 L16.4762 551.61 L52.1242 551.61 L52.1242 557.466 L16.4762 557.466 M2.59896 557.466 L2.59896 551.61 L10.015 551.61 L10.015 557.466 L2.59896 557.466 Z\" fill=\"#000000\" fill-rule=\"evenodd\" fill-opacity=\"1\" /><path clip-path=\"url(#clip580)\" d=\"M17.5265 516.63 L23.0647 516.63 Q21.7916 519.113 21.155 521.786 Q20.5184 524.46 20.5184 527.325 Q20.5184 531.685 21.8552 533.881 Q23.192 536.046 25.8656 536.046 Q27.9026 536.046 29.0803 534.486 Q30.2261 532.926 31.2765 528.216 L31.7221 526.211 Q33.0589 519.972 35.5097 517.362 Q37.9286 514.72 42.2891 514.72 Q47.2544 514.72 50.1508 518.667 Q53.0472 522.582 53.0472 529.457 Q53.0472 532.322 52.4743 535.441 Q51.9332 538.528 50.8192 541.966 L44.7718 541.966 Q46.4587 538.719 47.318 535.568 Q48.1456 532.417 48.1456 529.33 Q48.1456 525.192 46.7451 522.964 Q45.3129 520.736 42.7347 520.736 Q40.3476 520.736 39.0745 522.359 Q37.8013 523.951 36.6237 529.393 L36.1462 531.43 Q35.0004 536.873 32.6451 539.292 Q30.258 541.711 26.1202 541.711 Q21.0913 541.711 18.3541 538.146 Q15.6168 534.581 15.6168 528.025 Q15.6168 524.778 16.0943 521.914 Q16.5717 519.049 17.5265 516.63 Z\" fill=\"#000000\" fill-rule=\"evenodd\" fill-opacity=\"1\" /><path clip-path=\"url(#clip580)\" d=\"M6.35473 499.602 L16.4762 499.602 L16.4762 487.539 L21.0277 487.539 L21.0277 499.602 L40.3794 499.602 Q44.7399 499.602 45.9813 498.424 Q47.2226 497.215 47.2226 493.554 L47.2226 487.539 L52.1242 487.539 L52.1242 493.554 Q52.1242 500.334 49.6097 502.912 Q47.0634 505.49 40.3794 505.49 L21.0277 505.49 L21.0277 509.787 L16.4762 509.787 L16.4762 505.49 L6.35473 505.49 L6.35473 499.602 Z\" fill=\"#000000\" fill-rule=\"evenodd\" fill-opacity=\"1\" /><circle clip-path=\"url(#clip582)\" cx=\"280.856\" cy=\"1019.39\" r=\"14\" fill=\"#009af9\" fill-rule=\"evenodd\" fill-opacity=\"1\" stroke=\"#000000\" stroke-opacity=\"1\" stroke-width=\"2.4\"/>\n",
       "<circle clip-path=\"url(#clip582)\" cx=\"280.856\" cy=\"955.397\" r=\"14\" fill=\"#009af9\" fill-rule=\"evenodd\" fill-opacity=\"1\" stroke=\"#000000\" stroke-opacity=\"1\" stroke-width=\"2.4\"/>\n",
       "<circle clip-path=\"url(#clip582)\" cx=\"568.221\" cy=\"1003.39\" r=\"14\" fill=\"#009af9\" fill-rule=\"evenodd\" fill-opacity=\"1\" stroke=\"#000000\" stroke-opacity=\"1\" stroke-width=\"2.4\"/>\n",
       "<circle clip-path=\"url(#clip582)\" cx=\"568.221\" cy=\"859.415\" r=\"14\" fill=\"#009af9\" fill-rule=\"evenodd\" fill-opacity=\"1\" stroke=\"#000000\" stroke-opacity=\"1\" stroke-width=\"2.4\"/>\n",
       "<circle clip-path=\"url(#clip582)\" cx=\"664.009\" cy=\"907.406\" r=\"14\" fill=\"#009af9\" fill-rule=\"evenodd\" fill-opacity=\"1\" stroke=\"#000000\" stroke-opacity=\"1\" stroke-width=\"2.4\"/>\n",
       "<circle clip-path=\"url(#clip582)\" cx=\"759.797\" cy=\"955.397\" r=\"14\" fill=\"#009af9\" fill-rule=\"evenodd\" fill-opacity=\"1\" stroke=\"#000000\" stroke-opacity=\"1\" stroke-width=\"2.4\"/>\n",
       "<circle clip-path=\"url(#clip582)\" cx=\"855.585\" cy=\"891.409\" r=\"14\" fill=\"#009af9\" fill-rule=\"evenodd\" fill-opacity=\"1\" stroke=\"#000000\" stroke-opacity=\"1\" stroke-width=\"2.4\"/>\n",
       "<circle clip-path=\"url(#clip582)\" cx=\"855.585\" cy=\"827.42\" r=\"14\" fill=\"#009af9\" fill-rule=\"evenodd\" fill-opacity=\"1\" stroke=\"#000000\" stroke-opacity=\"1\" stroke-width=\"2.4\"/>\n",
       "<circle clip-path=\"url(#clip582)\" cx=\"855.585\" cy=\"763.432\" r=\"14\" fill=\"#009af9\" fill-rule=\"evenodd\" fill-opacity=\"1\" stroke=\"#000000\" stroke-opacity=\"1\" stroke-width=\"2.4\"/>\n",
       "<circle clip-path=\"url(#clip582)\" cx=\"951.374\" cy=\"899.407\" r=\"14\" fill=\"#009af9\" fill-rule=\"evenodd\" fill-opacity=\"1\" stroke=\"#000000\" stroke-opacity=\"1\" stroke-width=\"2.4\"/>\n",
       "<circle clip-path=\"url(#clip582)\" cx=\"951.374\" cy=\"811.423\" r=\"14\" fill=\"#009af9\" fill-rule=\"evenodd\" fill-opacity=\"1\" stroke=\"#000000\" stroke-opacity=\"1\" stroke-width=\"2.4\"/>\n",
       "<circle clip-path=\"url(#clip582)\" cx=\"1047.16\" cy=\"923.403\" r=\"14\" fill=\"#009af9\" fill-rule=\"evenodd\" fill-opacity=\"1\" stroke=\"#000000\" stroke-opacity=\"1\" stroke-width=\"2.4\"/>\n",
       "<circle clip-path=\"url(#clip582)\" cx=\"1047.16\" cy=\"875.412\" r=\"14\" fill=\"#009af9\" fill-rule=\"evenodd\" fill-opacity=\"1\" stroke=\"#000000\" stroke-opacity=\"1\" stroke-width=\"2.4\"/>\n",
       "<circle clip-path=\"url(#clip582)\" cx=\"1047.16\" cy=\"843.417\" r=\"14\" fill=\"#009af9\" fill-rule=\"evenodd\" fill-opacity=\"1\" stroke=\"#000000\" stroke-opacity=\"1\" stroke-width=\"2.4\"/>\n",
       "<circle clip-path=\"url(#clip582)\" cx=\"1047.16\" cy=\"811.423\" r=\"14\" fill=\"#009af9\" fill-rule=\"evenodd\" fill-opacity=\"1\" stroke=\"#000000\" stroke-opacity=\"1\" stroke-width=\"2.4\"/>\n",
       "<circle clip-path=\"url(#clip582)\" cx=\"1142.95\" cy=\"827.42\" r=\"14\" fill=\"#009af9\" fill-rule=\"evenodd\" fill-opacity=\"1\" stroke=\"#000000\" stroke-opacity=\"1\" stroke-width=\"2.4\"/>\n",
       "<circle clip-path=\"url(#clip582)\" cx=\"1142.95\" cy=\"763.432\" r=\"14\" fill=\"#009af9\" fill-rule=\"evenodd\" fill-opacity=\"1\" stroke=\"#000000\" stroke-opacity=\"1\" stroke-width=\"2.4\"/>\n",
       "<circle clip-path=\"url(#clip582)\" cx=\"1142.95\" cy=\"763.432\" r=\"14\" fill=\"#009af9\" fill-rule=\"evenodd\" fill-opacity=\"1\" stroke=\"#000000\" stroke-opacity=\"1\" stroke-width=\"2.4\"/>\n",
       "<circle clip-path=\"url(#clip582)\" cx=\"1142.95\" cy=\"667.45\" r=\"14\" fill=\"#009af9\" fill-rule=\"evenodd\" fill-opacity=\"1\" stroke=\"#000000\" stroke-opacity=\"1\" stroke-width=\"2.4\"/>\n",
       "<circle clip-path=\"url(#clip582)\" cx=\"1238.74\" cy=\"827.42\" r=\"14\" fill=\"#009af9\" fill-rule=\"evenodd\" fill-opacity=\"1\" stroke=\"#000000\" stroke-opacity=\"1\" stroke-width=\"2.4\"/>\n",
       "<circle clip-path=\"url(#clip582)\" cx=\"1238.74\" cy=\"747.435\" r=\"14\" fill=\"#009af9\" fill-rule=\"evenodd\" fill-opacity=\"1\" stroke=\"#000000\" stroke-opacity=\"1\" stroke-width=\"2.4\"/>\n",
       "<circle clip-path=\"url(#clip582)\" cx=\"1238.74\" cy=\"555.47\" r=\"14\" fill=\"#009af9\" fill-rule=\"evenodd\" fill-opacity=\"1\" stroke=\"#000000\" stroke-opacity=\"1\" stroke-width=\"2.4\"/>\n",
       "<circle clip-path=\"url(#clip582)\" cx=\"1238.74\" cy=\"395.5\" r=\"14\" fill=\"#009af9\" fill-rule=\"evenodd\" fill-opacity=\"1\" stroke=\"#000000\" stroke-opacity=\"1\" stroke-width=\"2.4\"/>\n",
       "<circle clip-path=\"url(#clip582)\" cx=\"1334.53\" cy=\"875.412\" r=\"14\" fill=\"#009af9\" fill-rule=\"evenodd\" fill-opacity=\"1\" stroke=\"#000000\" stroke-opacity=\"1\" stroke-width=\"2.4\"/>\n",
       "<circle clip-path=\"url(#clip582)\" cx=\"1334.53\" cy=\"827.42\" r=\"14\" fill=\"#009af9\" fill-rule=\"evenodd\" fill-opacity=\"1\" stroke=\"#000000\" stroke-opacity=\"1\" stroke-width=\"2.4\"/>\n",
       "<circle clip-path=\"url(#clip582)\" cx=\"1334.53\" cy=\"603.462\" r=\"14\" fill=\"#009af9\" fill-rule=\"evenodd\" fill-opacity=\"1\" stroke=\"#000000\" stroke-opacity=\"1\" stroke-width=\"2.4\"/>\n",
       "<circle clip-path=\"url(#clip582)\" cx=\"1430.32\" cy=\"779.429\" r=\"14\" fill=\"#009af9\" fill-rule=\"evenodd\" fill-opacity=\"1\" stroke=\"#000000\" stroke-opacity=\"1\" stroke-width=\"2.4\"/>\n",
       "<circle clip-path=\"url(#clip582)\" cx=\"1430.32\" cy=\"715.441\" r=\"14\" fill=\"#009af9\" fill-rule=\"evenodd\" fill-opacity=\"1\" stroke=\"#000000\" stroke-opacity=\"1\" stroke-width=\"2.4\"/>\n",
       "<circle clip-path=\"url(#clip582)\" cx=\"1526.1\" cy=\"779.429\" r=\"14\" fill=\"#009af9\" fill-rule=\"evenodd\" fill-opacity=\"1\" stroke=\"#000000\" stroke-opacity=\"1\" stroke-width=\"2.4\"/>\n",
       "<circle clip-path=\"url(#clip582)\" cx=\"1526.1\" cy=\"715.441\" r=\"14\" fill=\"#009af9\" fill-rule=\"evenodd\" fill-opacity=\"1\" stroke=\"#000000\" stroke-opacity=\"1\" stroke-width=\"2.4\"/>\n",
       "<circle clip-path=\"url(#clip582)\" cx=\"1526.1\" cy=\"635.456\" r=\"14\" fill=\"#009af9\" fill-rule=\"evenodd\" fill-opacity=\"1\" stroke=\"#000000\" stroke-opacity=\"1\" stroke-width=\"2.4\"/>\n",
       "<circle clip-path=\"url(#clip582)\" cx=\"1621.89\" cy=\"699.444\" r=\"14\" fill=\"#009af9\" fill-rule=\"evenodd\" fill-opacity=\"1\" stroke=\"#000000\" stroke-opacity=\"1\" stroke-width=\"2.4\"/>\n",
       "<circle clip-path=\"url(#clip582)\" cx=\"1621.89\" cy=\"587.465\" r=\"14\" fill=\"#009af9\" fill-rule=\"evenodd\" fill-opacity=\"1\" stroke=\"#000000\" stroke-opacity=\"1\" stroke-width=\"2.4\"/>\n",
       "<circle clip-path=\"url(#clip582)\" cx=\"1621.89\" cy=\"427.494\" r=\"14\" fill=\"#009af9\" fill-rule=\"evenodd\" fill-opacity=\"1\" stroke=\"#000000\" stroke-opacity=\"1\" stroke-width=\"2.4\"/>\n",
       "<circle clip-path=\"url(#clip582)\" cx=\"1621.89\" cy=\"363.506\" r=\"14\" fill=\"#009af9\" fill-rule=\"evenodd\" fill-opacity=\"1\" stroke=\"#000000\" stroke-opacity=\"1\" stroke-width=\"2.4\"/>\n",
       "<circle clip-path=\"url(#clip582)\" cx=\"1717.68\" cy=\"747.435\" r=\"14\" fill=\"#009af9\" fill-rule=\"evenodd\" fill-opacity=\"1\" stroke=\"#000000\" stroke-opacity=\"1\" stroke-width=\"2.4\"/>\n",
       "<circle clip-path=\"url(#clip582)\" cx=\"1717.68\" cy=\"667.45\" r=\"14\" fill=\"#009af9\" fill-rule=\"evenodd\" fill-opacity=\"1\" stroke=\"#000000\" stroke-opacity=\"1\" stroke-width=\"2.4\"/>\n",
       "<circle clip-path=\"url(#clip582)\" cx=\"1717.68\" cy=\"491.482\" r=\"14\" fill=\"#009af9\" fill-rule=\"evenodd\" fill-opacity=\"1\" stroke=\"#000000\" stroke-opacity=\"1\" stroke-width=\"2.4\"/>\n",
       "<circle clip-path=\"url(#clip582)\" cx=\"1813.47\" cy=\"779.429\" r=\"14\" fill=\"#009af9\" fill-rule=\"evenodd\" fill-opacity=\"1\" stroke=\"#000000\" stroke-opacity=\"1\" stroke-width=\"2.4\"/>\n",
       "<circle clip-path=\"url(#clip582)\" cx=\"1813.47\" cy=\"651.453\" r=\"14\" fill=\"#009af9\" fill-rule=\"evenodd\" fill-opacity=\"1\" stroke=\"#000000\" stroke-opacity=\"1\" stroke-width=\"2.4\"/>\n",
       "<circle clip-path=\"url(#clip582)\" cx=\"1813.47\" cy=\"619.459\" r=\"14\" fill=\"#009af9\" fill-rule=\"evenodd\" fill-opacity=\"1\" stroke=\"#000000\" stroke-opacity=\"1\" stroke-width=\"2.4\"/>\n",
       "<circle clip-path=\"url(#clip582)\" cx=\"1813.47\" cy=\"587.465\" r=\"14\" fill=\"#009af9\" fill-rule=\"evenodd\" fill-opacity=\"1\" stroke=\"#000000\" stroke-opacity=\"1\" stroke-width=\"2.4\"/>\n",
       "<circle clip-path=\"url(#clip582)\" cx=\"1813.47\" cy=\"523.476\" r=\"14\" fill=\"#009af9\" fill-rule=\"evenodd\" fill-opacity=\"1\" stroke=\"#000000\" stroke-opacity=\"1\" stroke-width=\"2.4\"/>\n",
       "<circle clip-path=\"url(#clip582)\" cx=\"2005.04\" cy=\"507.479\" r=\"14\" fill=\"#009af9\" fill-rule=\"evenodd\" fill-opacity=\"1\" stroke=\"#000000\" stroke-opacity=\"1\" stroke-width=\"2.4\"/>\n",
       "<circle clip-path=\"url(#clip582)\" cx=\"2100.83\" cy=\"603.462\" r=\"14\" fill=\"#009af9\" fill-rule=\"evenodd\" fill-opacity=\"1\" stroke=\"#000000\" stroke-opacity=\"1\" stroke-width=\"2.4\"/>\n",
       "<circle clip-path=\"url(#clip582)\" cx=\"2196.62\" cy=\"475.485\" r=\"14\" fill=\"#009af9\" fill-rule=\"evenodd\" fill-opacity=\"1\" stroke=\"#000000\" stroke-opacity=\"1\" stroke-width=\"2.4\"/>\n",
       "<circle clip-path=\"url(#clip582)\" cx=\"2196.62\" cy=\"299.518\" r=\"14\" fill=\"#009af9\" fill-rule=\"evenodd\" fill-opacity=\"1\" stroke=\"#000000\" stroke-opacity=\"1\" stroke-width=\"2.4\"/>\n",
       "<circle clip-path=\"url(#clip582)\" cx=\"2196.62\" cy=\"291.519\" r=\"14\" fill=\"#009af9\" fill-rule=\"evenodd\" fill-opacity=\"1\" stroke=\"#000000\" stroke-opacity=\"1\" stroke-width=\"2.4\"/>\n",
       "<circle clip-path=\"url(#clip582)\" cx=\"2196.62\" cy=\"75.5589\" r=\"14\" fill=\"#009af9\" fill-rule=\"evenodd\" fill-opacity=\"1\" stroke=\"#000000\" stroke-opacity=\"1\" stroke-width=\"2.4\"/>\n",
       "<circle clip-path=\"url(#clip582)\" cx=\"2292.41\" cy=\"355.507\" r=\"14\" fill=\"#009af9\" fill-rule=\"evenodd\" fill-opacity=\"1\" stroke=\"#000000\" stroke-opacity=\"1\" stroke-width=\"2.4\"/>\n",
       "</svg>\n"
      ]
     },
     "execution_count": 62,
     "metadata": {},
     "output_type": "execute_result"
    }
   ],
   "source": [
    "scatter(data_cars[:,\"Speed\"], data_cars[:,\"Dist\"], \n",
    "            legend=false, \n",
    "            xlabel = \"Speed\",\n",
    "            ylabel = \"Dist\",\n",
    "            size = (600,300))"
   ]
  },
  {
   "cell_type": "markdown",
   "metadata": {},
   "source": [
    "Wir wollen die lineare Abhängigkeit dieser Variablen mittels Regression schätzen.\n",
    "\n",
    "Beide Variablen sind eindimensional. D.h:"
   ]
  },
  {
   "cell_type": "code",
   "execution_count": 63,
   "metadata": {},
   "outputs": [],
   "source": [
    "D = 1; N = 1;"
   ]
  },
  {
   "cell_type": "markdown",
   "metadata": {},
   "source": [
    "## Aufteilen der Daten"
   ]
  },
  {
   "cell_type": "markdown",
   "metadata": {},
   "source": [
    "Wir teilen die Daten in Trainings- und Testdaten auf.\n",
    "\n",
    "Die Wahl soll zufällig sein und $75\\%$ der Daten sollen Trainingsdaten sein."
   ]
  },
  {
   "cell_type": "code",
   "execution_count": 64,
   "metadata": {},
   "outputs": [],
   "source": [
    "k = size(data_cars, 1)\n",
    "n = round(Int, k * 0.75);"
   ]
  },
  {
   "cell_type": "markdown",
   "metadata": {},
   "source": [
    "Die Trainingsdaten speichern wir in den Vektoren `X` und `Y`."
   ]
  },
  {
   "cell_type": "code",
   "execution_count": 65,
   "metadata": {},
   "outputs": [],
   "source": [
    "i_training = sample(1:k, n, replace = false)\n",
    "X = data_cars[i_training,\"Speed\"]\n",
    "Y = data_cars[i_training,\"Dist\"];"
   ]
  },
  {
   "cell_type": "markdown",
   "metadata": {},
   "source": [
    "Die Testdaten speichern wir in den Vektoren `X_test` und `Y_test`."
   ]
  },
  {
   "cell_type": "code",
   "execution_count": 66,
   "metadata": {},
   "outputs": [],
   "source": [
    "i_test = setdiff(1:k, i_training)\n",
    "X_test = data_cars[i_test,\"Speed\"]\n",
    "Y_test = data_cars[i_test,\"Dist\"];"
   ]
  },
  {
   "cell_type": "markdown",
   "metadata": {},
   "source": [
    "## Definition des Modells\n",
    "\n",
    "Wir definieren nun das deterministische lineare Modell $f:\\mathbb R^D \\to \\mathbb R^N$:"
   ]
  },
  {
   "cell_type": "code",
   "execution_count": 73,
   "metadata": {},
   "outputs": [],
   "source": [
    "f(x::Number, θ) = θ[2] * x + θ[1];"
   ]
  },
  {
   "cell_type": "markdown",
   "metadata": {},
   "source": [
    "Da $N=1$ können wir für `x` den Typ `Number` angeben. \n",
    "\n",
    "Es wird später außerdem hilfreich sein, per Multiple-Dispatch die Definition von `f` auf Vektoren zu erweitern."
   ]
  },
  {
   "cell_type": "code",
   "execution_count": 74,
   "metadata": {},
   "outputs": [
    {
     "data": {
      "text/plain": [
       "f (generic function with 2 methods)"
      ]
     },
     "execution_count": 74,
     "metadata": {},
     "output_type": "execute_result"
    }
   ],
   "source": [
    "f(X::Vector, θ) = [f(x, θ) for x in X]"
   ]
  },
  {
   "cell_type": "markdown",
   "metadata": {},
   "source": [
    "Wir definieren weiterhin das statistische Modell für die Varianz $\\sigma^2=10$."
   ]
  },
  {
   "cell_type": "code",
   "execution_count": 75,
   "metadata": {},
   "outputs": [],
   "source": [
    "σ² = 10\n",
    "s = sqrt(σ²)\n",
    "Φ(x::Number, θ) = s * randn() + f(x, θ)\n",
    "Φ(X::Vector, θ) = [Φ(x, θ) for x in X];"
   ]
  },
  {
   "cell_type": "markdown",
   "metadata": {},
   "source": [
    "Wir definieren außerdem die Feature Matrix."
   ]
  },
  {
   "cell_type": "code",
   "execution_count": 76,
   "metadata": {},
   "outputs": [],
   "source": [
    "Ω = [ones(n) X];"
   ]
  },
  {
   "cell_type": "markdown",
   "metadata": {},
   "source": [
    "---\n",
    "## Training"
   ]
  },
  {
   "cell_type": "markdown",
   "metadata": {},
   "source": [
    "Jetzt trainieren wir unser Modell mit verschiedenen Methoden. "
   ]
  },
  {
   "cell_type": "markdown",
   "metadata": {},
   "source": [
    "#### Empirical Risk Minimization\n",
    "\n",
    "Bei ERM ist der Parameter durch $\\theta = \\Omega^\\dagger Y$ gegeben.\n",
    "\n",
    "Wir berechnen diesen Parameter wie folgt:"
   ]
  },
  {
   "cell_type": "code",
   "execution_count": 78,
   "metadata": {},
   "outputs": [],
   "source": [
    "θ_ERM = Ω\\Y;"
   ]
  },
  {
   "cell_type": "markdown",
   "metadata": {},
   "source": [
    "ERM hat die folgenden Parameter für $f_\\theta(x)=ax+b$ geschätzt."
   ]
  },
  {
   "cell_type": "code",
   "execution_count": 81,
   "metadata": {},
   "outputs": [
    {
     "name": "stdout",
     "output_type": "stream",
     "text": [
      "a = 3.704716627048669, b = -14.704091079694726\n"
     ]
    }
   ],
   "source": [
    "println(\"a = $(θ_ERM[2]), b = $(θ_ERM[1])\")"
   ]
  },
  {
   "cell_type": "markdown",
   "metadata": {},
   "source": [
    "Wir visualieren die geschätzte Funktion zusammen mit den Trainingsdaten."
   ]
  },
  {
   "cell_type": "code",
   "execution_count": 82,
   "metadata": {},
   "outputs": [
    {
     "data": {
      "image/svg+xml": [
       "<?xml version=\"1.0\" encoding=\"utf-8\"?>\n",
       "<svg xmlns=\"http://www.w3.org/2000/svg\" xmlns:xlink=\"http://www.w3.org/1999/xlink\" width=\"600\" height=\"300\" viewBox=\"0 0 2400 1200\">\n",
       "<defs>\n",
       "  <clipPath id=\"clip620\">\n",
       "    <rect x=\"0\" y=\"0\" width=\"2400\" height=\"1200\"/>\n",
       "  </clipPath>\n",
       "</defs>\n",
       "<path clip-path=\"url(#clip620)\" d=\"\n",
       "M0 1200 L2400 1200 L2400 0 L0 0  Z\n",
       "  \" fill=\"#ffffff\" fill-rule=\"evenodd\" fill-opacity=\"1\"/>\n",
       "<defs>\n",
       "  <clipPath id=\"clip621\">\n",
       "    <rect x=\"480\" y=\"0\" width=\"1681\" height=\"1200\"/>\n",
       "  </clipPath>\n",
       "</defs>\n",
       "<path clip-path=\"url(#clip620)\" d=\"\n",
       "M193.241 1047.7 L2352.76 1047.7 L2352.76 47.2441 L193.241 47.2441  Z\n",
       "  \" fill=\"#ffffff\" fill-rule=\"evenodd\" fill-opacity=\"1\"/>\n",
       "<defs>\n",
       "  <clipPath id=\"clip622\">\n",
       "    <rect x=\"193\" y=\"47\" width=\"2161\" height=\"1001\"/>\n",
       "  </clipPath>\n",
       "</defs>\n",
       "<polyline clip-path=\"url(#clip622)\" style=\"stroke:#000000; stroke-linecap:butt; stroke-linejoin:round; stroke-width:2; stroke-opacity:0.1; fill:none\" points=\"\n",
       "  439.566,1047.7 439.566,47.2441 \n",
       "  \"/>\n",
       "<polyline clip-path=\"url(#clip622)\" style=\"stroke:#000000; stroke-linecap:butt; stroke-linejoin:round; stroke-width:2; stroke-opacity:0.1; fill:none\" points=\"\n",
       "  902.584,1047.7 902.584,47.2441 \n",
       "  \"/>\n",
       "<polyline clip-path=\"url(#clip622)\" style=\"stroke:#000000; stroke-linecap:butt; stroke-linejoin:round; stroke-width:2; stroke-opacity:0.1; fill:none\" points=\"\n",
       "  1365.6,1047.7 1365.6,47.2441 \n",
       "  \"/>\n",
       "<polyline clip-path=\"url(#clip622)\" style=\"stroke:#000000; stroke-linecap:butt; stroke-linejoin:round; stroke-width:2; stroke-opacity:0.1; fill:none\" points=\"\n",
       "  1828.62,1047.7 1828.62,47.2441 \n",
       "  \"/>\n",
       "<polyline clip-path=\"url(#clip622)\" style=\"stroke:#000000; stroke-linecap:butt; stroke-linejoin:round; stroke-width:2; stroke-opacity:0.1; fill:none\" points=\"\n",
       "  2291.64,1047.7 2291.64,47.2441 \n",
       "  \"/>\n",
       "<polyline clip-path=\"url(#clip620)\" style=\"stroke:#000000; stroke-linecap:butt; stroke-linejoin:round; stroke-width:4; stroke-opacity:1; fill:none\" points=\"\n",
       "  193.241,1047.7 2352.76,1047.7 \n",
       "  \"/>\n",
       "<polyline clip-path=\"url(#clip620)\" style=\"stroke:#000000; stroke-linecap:butt; stroke-linejoin:round; stroke-width:4; stroke-opacity:1; fill:none\" points=\"\n",
       "  439.566,1047.7 439.566,1028.8 \n",
       "  \"/>\n",
       "<polyline clip-path=\"url(#clip620)\" style=\"stroke:#000000; stroke-linecap:butt; stroke-linejoin:round; stroke-width:4; stroke-opacity:1; fill:none\" points=\"\n",
       "  902.584,1047.7 902.584,1028.8 \n",
       "  \"/>\n",
       "<polyline clip-path=\"url(#clip620)\" style=\"stroke:#000000; stroke-linecap:butt; stroke-linejoin:round; stroke-width:4; stroke-opacity:1; fill:none\" points=\"\n",
       "  1365.6,1047.7 1365.6,1028.8 \n",
       "  \"/>\n",
       "<polyline clip-path=\"url(#clip620)\" style=\"stroke:#000000; stroke-linecap:butt; stroke-linejoin:round; stroke-width:4; stroke-opacity:1; fill:none\" points=\"\n",
       "  1828.62,1047.7 1828.62,1028.8 \n",
       "  \"/>\n",
       "<polyline clip-path=\"url(#clip620)\" style=\"stroke:#000000; stroke-linecap:butt; stroke-linejoin:round; stroke-width:4; stroke-opacity:1; fill:none\" points=\"\n",
       "  2291.64,1047.7 2291.64,1028.8 \n",
       "  \"/>\n",
       "<path clip-path=\"url(#clip620)\" d=\"M429.844 1075.54 L448.201 1075.54 L448.201 1079.48 L434.127 1079.48 L434.127 1087.95 Q435.145 1087.6 436.164 1087.44 Q437.182 1087.25 438.201 1087.25 Q443.988 1087.25 447.367 1090.42 Q450.747 1093.6 450.747 1099.01 Q450.747 1104.59 447.275 1107.69 Q443.803 1110.77 437.483 1110.77 Q435.307 1110.77 433.039 1110.4 Q430.793 1110.03 428.386 1109.29 L428.386 1104.59 Q430.469 1105.72 432.691 1106.28 Q434.914 1106.84 437.391 1106.84 Q441.395 1106.84 443.733 1104.73 Q446.071 1102.62 446.071 1099.01 Q446.071 1095.4 443.733 1093.29 Q441.395 1091.19 437.391 1091.19 Q435.516 1091.19 433.641 1091.6 Q431.789 1092.02 429.844 1092.9 L429.844 1075.54 Z\" fill=\"#000000\" fill-rule=\"evenodd\" fill-opacity=\"1\" /><path clip-path=\"url(#clip620)\" d=\"M877.272 1106.16 L884.911 1106.16 L884.911 1079.8 L876.601 1081.47 L876.601 1077.21 L884.864 1075.54 L889.54 1075.54 L889.54 1106.16 L897.179 1106.16 L897.179 1110.1 L877.272 1110.1 L877.272 1106.16 Z\" fill=\"#000000\" fill-rule=\"evenodd\" fill-opacity=\"1\" /><path clip-path=\"url(#clip620)\" d=\"M916.623 1078.62 Q913.012 1078.62 911.184 1082.18 Q909.378 1085.72 909.378 1092.85 Q909.378 1099.96 911.184 1103.53 Q913.012 1107.07 916.623 1107.07 Q920.258 1107.07 922.063 1103.53 Q923.892 1099.96 923.892 1092.85 Q923.892 1085.72 922.063 1082.18 Q920.258 1078.62 916.623 1078.62 M916.623 1074.91 Q922.434 1074.91 925.489 1079.52 Q928.568 1084.1 928.568 1092.85 Q928.568 1101.58 925.489 1106.19 Q922.434 1110.77 916.623 1110.77 Q910.813 1110.77 907.735 1106.19 Q904.679 1101.58 904.679 1092.85 Q904.679 1084.1 907.735 1079.52 Q910.813 1074.91 916.623 1074.91 Z\" fill=\"#000000\" fill-rule=\"evenodd\" fill-opacity=\"1\" /><path clip-path=\"url(#clip620)\" d=\"M1340.79 1106.16 L1348.43 1106.16 L1348.43 1079.8 L1340.12 1081.47 L1340.12 1077.21 L1348.38 1075.54 L1353.06 1075.54 L1353.06 1106.16 L1360.69 1106.16 L1360.69 1110.1 L1340.79 1110.1 L1340.79 1106.16 Z\" fill=\"#000000\" fill-rule=\"evenodd\" fill-opacity=\"1\" /><path clip-path=\"url(#clip620)\" d=\"M1370.19 1075.54 L1388.54 1075.54 L1388.54 1079.48 L1374.47 1079.48 L1374.47 1087.95 Q1375.49 1087.6 1376.5 1087.44 Q1377.52 1087.25 1378.54 1087.25 Q1384.33 1087.25 1387.71 1090.42 Q1391.09 1093.6 1391.09 1099.01 Q1391.09 1104.59 1387.62 1107.69 Q1384.14 1110.77 1377.82 1110.77 Q1375.65 1110.77 1373.38 1110.4 Q1371.13 1110.03 1368.73 1109.29 L1368.73 1104.59 Q1370.81 1105.72 1373.03 1106.28 Q1375.25 1106.84 1377.73 1106.84 Q1381.74 1106.84 1384.07 1104.73 Q1386.41 1102.62 1386.41 1099.01 Q1386.41 1095.4 1384.07 1093.29 Q1381.74 1091.19 1377.73 1091.19 Q1375.86 1091.19 1373.98 1091.6 Q1372.13 1092.02 1370.19 1092.9 L1370.19 1075.54 Z\" fill=\"#000000\" fill-rule=\"evenodd\" fill-opacity=\"1\" /><path clip-path=\"url(#clip620)\" d=\"M1807.39 1106.16 L1823.71 1106.16 L1823.71 1110.1 L1801.77 1110.1 L1801.77 1106.16 Q1804.43 1103.41 1809.01 1098.78 Q1813.62 1094.13 1814.8 1092.79 Q1817.05 1090.26 1817.93 1088.53 Q1818.83 1086.77 1818.83 1085.08 Q1818.83 1082.32 1816.88 1080.59 Q1814.96 1078.85 1811.86 1078.85 Q1809.66 1078.85 1807.21 1079.61 Q1804.78 1080.38 1802 1081.93 L1802 1077.21 Q1804.82 1076.07 1807.28 1075.49 Q1809.73 1074.91 1811.77 1074.91 Q1817.14 1074.91 1820.33 1077.6 Q1823.53 1080.29 1823.53 1084.78 Q1823.53 1086.91 1822.72 1088.83 Q1821.93 1090.72 1819.82 1093.32 Q1819.24 1093.99 1816.14 1097.21 Q1813.04 1100.4 1807.39 1106.16 Z\" fill=\"#000000\" fill-rule=\"evenodd\" fill-opacity=\"1\" /><path clip-path=\"url(#clip620)\" d=\"M1843.53 1078.62 Q1839.92 1078.62 1838.09 1082.18 Q1836.28 1085.72 1836.28 1092.85 Q1836.28 1099.96 1838.09 1103.53 Q1839.92 1107.07 1843.53 1107.07 Q1847.16 1107.07 1848.97 1103.53 Q1850.8 1099.96 1850.8 1092.85 Q1850.8 1085.72 1848.97 1082.18 Q1847.16 1078.62 1843.53 1078.62 M1843.53 1074.91 Q1849.34 1074.91 1852.39 1079.52 Q1855.47 1084.1 1855.47 1092.85 Q1855.47 1101.58 1852.39 1106.19 Q1849.34 1110.77 1843.53 1110.77 Q1837.72 1110.77 1834.64 1106.19 Q1831.58 1101.58 1831.58 1092.85 Q1831.58 1084.1 1834.64 1079.52 Q1837.72 1074.91 1843.53 1074.91 Z\" fill=\"#000000\" fill-rule=\"evenodd\" fill-opacity=\"1\" /><path clip-path=\"url(#clip620)\" d=\"M2270.91 1106.16 L2287.23 1106.16 L2287.23 1110.1 L2265.28 1110.1 L2265.28 1106.16 Q2267.95 1103.41 2272.53 1098.78 Q2277.14 1094.13 2278.32 1092.79 Q2280.56 1090.26 2281.44 1088.53 Q2282.34 1086.77 2282.34 1085.08 Q2282.34 1082.32 2280.4 1080.59 Q2278.48 1078.85 2275.38 1078.85 Q2273.18 1078.85 2270.72 1079.61 Q2268.29 1080.38 2265.52 1081.93 L2265.52 1077.21 Q2268.34 1076.07 2270.79 1075.49 Q2273.25 1074.91 2275.28 1074.91 Q2280.65 1074.91 2283.85 1077.6 Q2287.04 1080.29 2287.04 1084.78 Q2287.04 1086.91 2286.23 1088.83 Q2285.45 1090.72 2283.34 1093.32 Q2282.76 1093.99 2279.66 1097.21 Q2276.56 1100.4 2270.91 1106.16 Z\" fill=\"#000000\" fill-rule=\"evenodd\" fill-opacity=\"1\" /><path clip-path=\"url(#clip620)\" d=\"M2297.09 1075.54 L2315.45 1075.54 L2315.45 1079.48 L2301.37 1079.48 L2301.37 1087.95 Q2302.39 1087.6 2303.41 1087.44 Q2304.43 1087.25 2305.45 1087.25 Q2311.23 1087.25 2314.61 1090.42 Q2317.99 1093.6 2317.99 1099.01 Q2317.99 1104.59 2314.52 1107.69 Q2311.05 1110.77 2304.73 1110.77 Q2302.55 1110.77 2300.28 1110.4 Q2298.04 1110.03 2295.63 1109.29 L2295.63 1104.59 Q2297.71 1105.72 2299.94 1106.28 Q2302.16 1106.84 2304.64 1106.84 Q2308.64 1106.84 2310.98 1104.73 Q2313.32 1102.62 2313.32 1099.01 Q2313.32 1095.4 2310.98 1093.29 Q2308.64 1091.19 2304.64 1091.19 Q2302.76 1091.19 2300.89 1091.6 Q2299.03 1092.02 2297.09 1092.9 L2297.09 1075.54 Z\" fill=\"#000000\" fill-rule=\"evenodd\" fill-opacity=\"1\" /><path clip-path=\"url(#clip620)\" d=\"M1206.52 1146.6 L1206.52 1152.87 Q1202.86 1151.12 1199.62 1150.26 Q1196.37 1149.4 1193.35 1149.4 Q1188.1 1149.4 1185.23 1151.44 Q1182.4 1153.48 1182.4 1157.23 Q1182.4 1160.39 1184.28 1162.01 Q1186.19 1163.6 1191.47 1164.59 L1195.35 1165.38 Q1202.55 1166.75 1205.95 1170.22 Q1209.39 1173.66 1209.39 1179.45 Q1209.39 1186.36 1204.74 1189.92 Q1200.13 1193.49 1191.18 1193.49 Q1187.81 1193.49 1183.99 1192.72 Q1180.2 1191.96 1176.13 1190.46 L1176.13 1183.84 Q1180.04 1186.04 1183.8 1187.15 Q1187.55 1188.27 1191.18 1188.27 Q1196.69 1188.27 1199.68 1186.1 Q1202.67 1183.94 1202.67 1179.93 Q1202.67 1176.43 1200.51 1174.45 Q1198.38 1172.48 1193.47 1171.49 L1189.56 1170.73 Q1182.37 1169.3 1179.15 1166.24 Q1175.94 1163.19 1175.94 1157.74 Q1175.94 1151.44 1180.36 1147.81 Q1184.82 1144.18 1192.62 1144.18 Q1195.96 1144.18 1199.43 1144.79 Q1202.9 1145.39 1206.52 1146.6 Z\" fill=\"#000000\" fill-rule=\"evenodd\" fill-opacity=\"1\" /><path clip-path=\"url(#clip620)\" d=\"M1224.83 1187.22 L1224.83 1206.12 L1218.94 1206.12 L1218.94 1156.92 L1224.83 1156.92 L1224.83 1162.33 Q1226.67 1159.14 1229.47 1157.62 Q1232.31 1156.06 1236.22 1156.06 Q1242.71 1156.06 1246.76 1161.21 Q1250.83 1166.37 1250.83 1174.77 Q1250.83 1183.17 1246.76 1188.33 Q1242.71 1193.49 1236.22 1193.49 Q1232.31 1193.49 1229.47 1191.96 Q1226.67 1190.4 1224.83 1187.22 M1244.75 1174.77 Q1244.75 1168.31 1242.08 1164.65 Q1239.44 1160.96 1234.79 1160.96 Q1230.14 1160.96 1227.47 1164.65 Q1224.83 1168.31 1224.83 1174.77 Q1224.83 1181.23 1227.47 1184.92 Q1230.14 1188.59 1234.79 1188.59 Q1239.44 1188.59 1242.08 1184.92 Q1244.75 1181.23 1244.75 1174.77 Z\" fill=\"#000000\" fill-rule=\"evenodd\" fill-opacity=\"1\" /><path clip-path=\"url(#clip620)\" d=\"M1291.03 1173.28 L1291.03 1176.14 L1264.1 1176.14 Q1264.48 1182.19 1267.73 1185.37 Q1271.01 1188.52 1276.83 1188.52 Q1280.21 1188.52 1283.36 1187.69 Q1286.54 1186.87 1289.66 1185.21 L1289.66 1190.75 Q1286.51 1192.09 1283.2 1192.79 Q1279.89 1193.49 1276.48 1193.49 Q1267.95 1193.49 1262.96 1188.52 Q1257.99 1183.56 1257.99 1175.09 Q1257.99 1166.34 1262.7 1161.21 Q1267.44 1156.06 1275.47 1156.06 Q1282.66 1156.06 1286.83 1160.7 Q1291.03 1165.32 1291.03 1173.28 M1285.17 1171.56 Q1285.11 1166.75 1282.47 1163.89 Q1279.86 1161.02 1275.53 1161.02 Q1270.63 1161.02 1267.67 1163.79 Q1264.74 1166.56 1264.29 1171.59 L1285.17 1171.56 Z\" fill=\"#000000\" fill-rule=\"evenodd\" fill-opacity=\"1\" /><path clip-path=\"url(#clip620)\" d=\"M1331.13 1173.28 L1331.13 1176.14 L1304.21 1176.14 Q1304.59 1182.19 1307.83 1185.37 Q1311.11 1188.52 1316.94 1188.52 Q1320.31 1188.52 1323.46 1187.69 Q1326.65 1186.87 1329.76 1185.21 L1329.76 1190.75 Q1326.61 1192.09 1323.3 1192.79 Q1319.99 1193.49 1316.59 1193.49 Q1308.06 1193.49 1303.06 1188.52 Q1298.1 1183.56 1298.1 1175.09 Q1298.1 1166.34 1302.81 1161.21 Q1307.55 1156.06 1315.57 1156.06 Q1322.76 1156.06 1326.93 1160.7 Q1331.13 1165.32 1331.13 1173.28 M1325.28 1171.56 Q1325.21 1166.75 1322.57 1163.89 Q1319.96 1161.02 1315.63 1161.02 Q1310.73 1161.02 1307.77 1163.79 Q1304.84 1166.56 1304.4 1171.59 L1325.28 1171.56 Z\" fill=\"#000000\" fill-rule=\"evenodd\" fill-opacity=\"1\" /><path clip-path=\"url(#clip620)\" d=\"M1364.2 1162.33 L1364.2 1143.04 L1370.06 1143.04 L1370.06 1192.56 L1364.2 1192.56 L1364.2 1187.22 Q1362.36 1190.4 1359.52 1191.96 Q1356.72 1193.49 1352.78 1193.49 Q1346.32 1193.49 1342.24 1188.33 Q1338.2 1183.17 1338.2 1174.77 Q1338.2 1166.37 1342.24 1161.21 Q1346.32 1156.06 1352.78 1156.06 Q1356.72 1156.06 1359.52 1157.62 Q1362.36 1159.14 1364.2 1162.33 M1344.25 1174.77 Q1344.25 1181.23 1346.89 1184.92 Q1349.56 1188.59 1354.21 1188.59 Q1358.86 1188.59 1361.53 1184.92 Q1364.2 1181.23 1364.2 1174.77 Q1364.2 1168.31 1361.53 1164.65 Q1358.86 1160.96 1354.21 1160.96 Q1349.56 1160.96 1346.89 1164.65 Q1344.25 1168.31 1344.25 1174.77 Z\" fill=\"#000000\" fill-rule=\"evenodd\" fill-opacity=\"1\" /><polyline clip-path=\"url(#clip622)\" style=\"stroke:#000000; stroke-linecap:butt; stroke-linejoin:round; stroke-width:2; stroke-opacity:0.1; fill:none\" points=\"\n",
       "  193.241,984.306 2352.76,984.306 \n",
       "  \"/>\n",
       "<polyline clip-path=\"url(#clip622)\" style=\"stroke:#000000; stroke-linecap:butt; stroke-linejoin:round; stroke-width:2; stroke-opacity:0.1; fill:none\" points=\"\n",
       "  193.241,788.877 2352.76,788.877 \n",
       "  \"/>\n",
       "<polyline clip-path=\"url(#clip622)\" style=\"stroke:#000000; stroke-linecap:butt; stroke-linejoin:round; stroke-width:2; stroke-opacity:0.1; fill:none\" points=\"\n",
       "  193.241,593.447 2352.76,593.447 \n",
       "  \"/>\n",
       "<polyline clip-path=\"url(#clip622)\" style=\"stroke:#000000; stroke-linecap:butt; stroke-linejoin:round; stroke-width:2; stroke-opacity:0.1; fill:none\" points=\"\n",
       "  193.241,398.018 2352.76,398.018 \n",
       "  \"/>\n",
       "<polyline clip-path=\"url(#clip622)\" style=\"stroke:#000000; stroke-linecap:butt; stroke-linejoin:round; stroke-width:2; stroke-opacity:0.1; fill:none\" points=\"\n",
       "  193.241,202.588 2352.76,202.588 \n",
       "  \"/>\n",
       "<polyline clip-path=\"url(#clip620)\" style=\"stroke:#000000; stroke-linecap:butt; stroke-linejoin:round; stroke-width:4; stroke-opacity:1; fill:none\" points=\"\n",
       "  193.241,1047.7 193.241,47.2441 \n",
       "  \"/>\n",
       "<polyline clip-path=\"url(#clip620)\" style=\"stroke:#000000; stroke-linecap:butt; stroke-linejoin:round; stroke-width:4; stroke-opacity:1; fill:none\" points=\"\n",
       "  193.241,984.306 212.139,984.306 \n",
       "  \"/>\n",
       "<polyline clip-path=\"url(#clip620)\" style=\"stroke:#000000; stroke-linecap:butt; stroke-linejoin:round; stroke-width:4; stroke-opacity:1; fill:none\" points=\"\n",
       "  193.241,788.877 212.139,788.877 \n",
       "  \"/>\n",
       "<polyline clip-path=\"url(#clip620)\" style=\"stroke:#000000; stroke-linecap:butt; stroke-linejoin:round; stroke-width:4; stroke-opacity:1; fill:none\" points=\"\n",
       "  193.241,593.447 212.139,593.447 \n",
       "  \"/>\n",
       "<polyline clip-path=\"url(#clip620)\" style=\"stroke:#000000; stroke-linecap:butt; stroke-linejoin:round; stroke-width:4; stroke-opacity:1; fill:none\" points=\"\n",
       "  193.241,398.018 212.139,398.018 \n",
       "  \"/>\n",
       "<polyline clip-path=\"url(#clip620)\" style=\"stroke:#000000; stroke-linecap:butt; stroke-linejoin:round; stroke-width:4; stroke-opacity:1; fill:none\" points=\"\n",
       "  193.241,202.588 212.139,202.588 \n",
       "  \"/>\n",
       "<path clip-path=\"url(#clip620)\" d=\"M145.297 970.105 Q141.686 970.105 139.857 973.67 Q138.051 977.211 138.051 984.341 Q138.051 991.447 139.857 995.012 Q141.686 998.554 145.297 998.554 Q148.931 998.554 150.736 995.012 Q152.565 991.447 152.565 984.341 Q152.565 977.211 150.736 973.67 Q148.931 970.105 145.297 970.105 M145.297 966.401 Q151.107 966.401 154.162 971.007 Q157.241 975.591 157.241 984.341 Q157.241 993.068 154.162 997.674 Q151.107 1002.26 145.297 1002.26 Q139.486 1002.26 136.408 997.674 Q133.352 993.068 133.352 984.341 Q133.352 975.591 136.408 971.007 Q139.486 966.401 145.297 966.401 Z\" fill=\"#000000\" fill-rule=\"evenodd\" fill-opacity=\"1\" /><path clip-path=\"url(#clip620)\" d=\"M109.163 802.221 L125.482 802.221 L125.482 806.157 L103.538 806.157 L103.538 802.221 Q106.2 799.467 110.783 794.837 Q115.389 790.184 116.57 788.842 Q118.815 786.319 119.695 784.583 Q120.598 782.823 120.598 781.134 Q120.598 778.379 118.653 776.643 Q116.732 774.907 113.63 774.907 Q111.431 774.907 108.977 775.671 Q106.547 776.434 103.769 777.985 L103.769 773.263 Q106.593 772.129 109.047 771.55 Q111.5 770.972 113.538 770.972 Q118.908 770.972 122.102 773.657 Q125.297 776.342 125.297 780.833 Q125.297 782.962 124.487 784.884 Q123.699 786.782 121.593 789.374 Q121.014 790.046 117.912 793.263 Q114.811 796.458 109.163 802.221 Z\" fill=\"#000000\" fill-rule=\"evenodd\" fill-opacity=\"1\" /><path clip-path=\"url(#clip620)\" d=\"M145.297 774.675 Q141.686 774.675 139.857 778.24 Q138.051 781.782 138.051 788.911 Q138.051 796.018 139.857 799.583 Q141.686 803.124 145.297 803.124 Q148.931 803.124 150.736 799.583 Q152.565 796.018 152.565 788.911 Q152.565 781.782 150.736 778.24 Q148.931 774.675 145.297 774.675 M145.297 770.972 Q151.107 770.972 154.162 775.578 Q157.241 780.161 157.241 788.911 Q157.241 797.638 154.162 802.245 Q151.107 806.828 145.297 806.828 Q139.486 806.828 136.408 802.245 Q133.352 797.638 133.352 788.911 Q133.352 780.161 136.408 775.578 Q139.486 770.972 145.297 770.972 Z\" fill=\"#000000\" fill-rule=\"evenodd\" fill-opacity=\"1\" /><path clip-path=\"url(#clip620)\" d=\"M117.982 580.241 L106.176 598.69 L117.982 598.69 L117.982 580.241 M116.755 576.167 L122.635 576.167 L122.635 598.69 L127.565 598.69 L127.565 602.579 L122.635 602.579 L122.635 610.727 L117.982 610.727 L117.982 602.579 L102.38 602.579 L102.38 598.065 L116.755 576.167 Z\" fill=\"#000000\" fill-rule=\"evenodd\" fill-opacity=\"1\" /><path clip-path=\"url(#clip620)\" d=\"M145.297 579.246 Q141.686 579.246 139.857 582.811 Q138.051 586.352 138.051 593.482 Q138.051 600.588 139.857 604.153 Q141.686 607.695 145.297 607.695 Q148.931 607.695 150.736 604.153 Q152.565 600.588 152.565 593.482 Q152.565 586.352 150.736 582.811 Q148.931 579.246 145.297 579.246 M145.297 575.542 Q151.107 575.542 154.162 580.149 Q157.241 584.732 157.241 593.482 Q157.241 602.209 154.162 606.815 Q151.107 611.398 145.297 611.398 Q139.486 611.398 136.408 606.815 Q133.352 602.209 133.352 593.482 Q133.352 584.732 136.408 580.149 Q139.486 575.542 145.297 575.542 Z\" fill=\"#000000\" fill-rule=\"evenodd\" fill-opacity=\"1\" /><path clip-path=\"url(#clip620)\" d=\"M115.713 396.154 Q112.565 396.154 110.713 398.307 Q108.885 400.46 108.885 404.21 Q108.885 407.936 110.713 410.112 Q112.565 412.265 115.713 412.265 Q118.862 412.265 120.69 410.112 Q122.542 407.936 122.542 404.21 Q122.542 400.46 120.69 398.307 Q118.862 396.154 115.713 396.154 M124.996 381.501 L124.996 385.761 Q123.237 384.927 121.431 384.488 Q119.649 384.048 117.889 384.048 Q113.26 384.048 110.806 387.173 Q108.375 390.298 108.028 396.617 Q109.394 394.603 111.454 393.538 Q113.514 392.45 115.991 392.45 Q121.2 392.45 124.209 395.622 Q127.241 398.77 127.241 404.21 Q127.241 409.534 124.093 412.751 Q120.945 415.969 115.713 415.969 Q109.718 415.969 106.547 411.386 Q103.376 406.779 103.376 398.052 Q103.376 389.858 107.264 384.997 Q111.153 380.113 117.704 380.113 Q119.463 380.113 121.246 380.46 Q123.051 380.807 124.996 381.501 Z\" fill=\"#000000\" fill-rule=\"evenodd\" fill-opacity=\"1\" /><path clip-path=\"url(#clip620)\" d=\"M145.297 383.816 Q141.686 383.816 139.857 387.381 Q138.051 390.923 138.051 398.052 Q138.051 405.159 139.857 408.724 Q141.686 412.265 145.297 412.265 Q148.931 412.265 150.736 408.724 Q152.565 405.159 152.565 398.052 Q152.565 390.923 150.736 387.381 Q148.931 383.816 145.297 383.816 M145.297 380.113 Q151.107 380.113 154.162 384.719 Q157.241 389.302 157.241 398.052 Q157.241 406.779 154.162 411.386 Q151.107 415.969 145.297 415.969 Q139.486 415.969 136.408 411.386 Q133.352 406.779 133.352 398.052 Q133.352 389.302 136.408 384.719 Q139.486 380.113 145.297 380.113 Z\" fill=\"#000000\" fill-rule=\"evenodd\" fill-opacity=\"1\" /><path clip-path=\"url(#clip620)\" d=\"M115.135 203.456 Q111.801 203.456 109.88 205.239 Q107.982 207.021 107.982 210.146 Q107.982 213.271 109.88 215.053 Q111.801 216.836 115.135 216.836 Q118.468 216.836 120.389 215.053 Q122.311 213.248 122.311 210.146 Q122.311 207.021 120.389 205.239 Q118.491 203.456 115.135 203.456 M110.459 201.465 Q107.45 200.725 105.76 198.664 Q104.093 196.604 104.093 193.641 Q104.093 189.498 107.033 187.09 Q109.996 184.683 115.135 184.683 Q120.297 184.683 123.237 187.09 Q126.176 189.498 126.176 193.641 Q126.176 196.604 124.487 198.664 Q122.82 200.725 119.834 201.465 Q123.213 202.252 125.088 204.544 Q126.987 206.836 126.987 210.146 Q126.987 215.169 123.908 217.854 Q120.852 220.539 115.135 220.539 Q109.417 220.539 106.338 217.854 Q103.283 215.169 103.283 210.146 Q103.283 206.836 105.181 204.544 Q107.079 202.252 110.459 201.465 M108.746 194.081 Q108.746 196.766 110.413 198.271 Q112.102 199.776 115.135 199.776 Q118.144 199.776 119.834 198.271 Q121.547 196.766 121.547 194.081 Q121.547 191.396 119.834 189.891 Q118.144 188.387 115.135 188.387 Q112.102 188.387 110.413 189.891 Q108.746 191.396 108.746 194.081 Z\" fill=\"#000000\" fill-rule=\"evenodd\" fill-opacity=\"1\" /><path clip-path=\"url(#clip620)\" d=\"M145.297 188.387 Q141.686 188.387 139.857 191.952 Q138.051 195.493 138.051 202.623 Q138.051 209.729 139.857 213.294 Q141.686 216.836 145.297 216.836 Q148.931 216.836 150.736 213.294 Q152.565 209.729 152.565 202.623 Q152.565 195.493 150.736 191.952 Q148.931 188.387 145.297 188.387 M145.297 184.683 Q151.107 184.683 154.162 189.29 Q157.241 193.873 157.241 202.623 Q157.241 211.35 154.162 215.956 Q151.107 220.539 145.297 220.539 Q139.486 220.539 136.408 215.956 Q133.352 211.35 133.352 202.623 Q133.352 193.873 136.408 189.29 Q139.486 184.683 145.297 184.683 Z\" fill=\"#000000\" fill-rule=\"evenodd\" fill-opacity=\"1\" /><path clip-path=\"url(#clip620)\" d=\"M9.88769 600.976 L46.8406 600.976 L46.8406 593.21 Q46.8406 583.375 42.3846 578.823 Q37.9286 574.24 28.3164 574.24 Q18.7679 574.24 14.3437 578.823 Q9.88769 583.375 9.88769 593.21 L9.88769 600.976 M4.60416 607.405 L4.60416 594.196 Q4.60416 580.383 10.3651 573.921 Q16.0943 567.46 28.3164 567.46 Q40.6022 567.46 46.3632 573.953 Q52.1242 580.446 52.1242 594.196 L52.1242 607.405 L4.60416 607.405 Z\" fill=\"#000000\" fill-rule=\"evenodd\" fill-opacity=\"1\" /><path clip-path=\"url(#clip620)\" d=\"M16.4762 557.466 L16.4762 551.61 L52.1242 551.61 L52.1242 557.466 L16.4762 557.466 M2.59896 557.466 L2.59896 551.61 L10.015 551.61 L10.015 557.466 L2.59896 557.466 Z\" fill=\"#000000\" fill-rule=\"evenodd\" fill-opacity=\"1\" /><path clip-path=\"url(#clip620)\" d=\"M17.5265 516.63 L23.0647 516.63 Q21.7916 519.113 21.155 521.786 Q20.5184 524.46 20.5184 527.325 Q20.5184 531.685 21.8552 533.881 Q23.192 536.046 25.8656 536.046 Q27.9026 536.046 29.0803 534.486 Q30.2261 532.926 31.2765 528.216 L31.7221 526.211 Q33.0589 519.972 35.5097 517.362 Q37.9286 514.72 42.2891 514.72 Q47.2544 514.72 50.1508 518.667 Q53.0472 522.582 53.0472 529.457 Q53.0472 532.322 52.4743 535.441 Q51.9332 538.528 50.8192 541.966 L44.7718 541.966 Q46.4587 538.719 47.318 535.568 Q48.1456 532.417 48.1456 529.33 Q48.1456 525.192 46.7451 522.964 Q45.3129 520.736 42.7347 520.736 Q40.3476 520.736 39.0745 522.359 Q37.8013 523.951 36.6237 529.393 L36.1462 531.43 Q35.0004 536.873 32.6451 539.292 Q30.258 541.711 26.1202 541.711 Q21.0913 541.711 18.3541 538.146 Q15.6168 534.581 15.6168 528.025 Q15.6168 524.778 16.0943 521.914 Q16.5717 519.049 17.5265 516.63 Z\" fill=\"#000000\" fill-rule=\"evenodd\" fill-opacity=\"1\" /><path clip-path=\"url(#clip620)\" d=\"M6.35473 499.602 L16.4762 499.602 L16.4762 487.539 L21.0277 487.539 L21.0277 499.602 L40.3794 499.602 Q44.7399 499.602 45.9813 498.424 Q47.2226 497.215 47.2226 493.554 L47.2226 487.539 L52.1242 487.539 L52.1242 493.554 Q52.1242 500.334 49.6097 502.912 Q47.0634 505.49 40.3794 505.49 L21.0277 505.49 L21.0277 509.787 L16.4762 509.787 L16.4762 505.49 L6.35473 505.49 L6.35473 499.602 Z\" fill=\"#000000\" fill-rule=\"evenodd\" fill-opacity=\"1\" /><circle clip-path=\"url(#clip622)\" cx=\"902.584\" cy=\"808.419\" r=\"14\" fill=\"#009af9\" fill-rule=\"evenodd\" fill-opacity=\"1\" stroke=\"#000000\" stroke-opacity=\"1\" stroke-width=\"2.4\"/>\n",
       "<circle clip-path=\"url(#clip622)\" cx=\"624.774\" cy=\"769.334\" r=\"14\" fill=\"#009af9\" fill-rule=\"evenodd\" fill-opacity=\"1\" stroke=\"#000000\" stroke-opacity=\"1\" stroke-width=\"2.4\"/>\n",
       "<circle clip-path=\"url(#clip622)\" cx=\"1736.02\" cy=\"319.846\" r=\"14\" fill=\"#009af9\" fill-rule=\"evenodd\" fill-opacity=\"1\" stroke=\"#000000\" stroke-opacity=\"1\" stroke-width=\"2.4\"/>\n",
       "<circle clip-path=\"url(#clip622)\" cx=\"1180.39\" cy=\"534.818\" r=\"14\" fill=\"#009af9\" fill-rule=\"evenodd\" fill-opacity=\"1\" stroke=\"#000000\" stroke-opacity=\"1\" stroke-width=\"2.4\"/>\n",
       "<circle clip-path=\"url(#clip622)\" cx=\"1643.41\" cy=\"437.103\" r=\"14\" fill=\"#009af9\" fill-rule=\"evenodd\" fill-opacity=\"1\" stroke=\"#000000\" stroke-opacity=\"1\" stroke-width=\"2.4\"/>\n",
       "<circle clip-path=\"url(#clip622)\" cx=\"2199.03\" cy=\"85.3304\" r=\"14\" fill=\"#009af9\" fill-rule=\"evenodd\" fill-opacity=\"1\" stroke=\"#000000\" stroke-opacity=\"1\" stroke-width=\"2.4\"/>\n",
       "<circle clip-path=\"url(#clip622)\" cx=\"717.377\" cy=\"827.962\" r=\"14\" fill=\"#009af9\" fill-rule=\"evenodd\" fill-opacity=\"1\" stroke=\"#000000\" stroke-opacity=\"1\" stroke-width=\"2.4\"/>\n",
       "<circle clip-path=\"url(#clip622)\" cx=\"346.963\" cy=\"964.763\" r=\"14\" fill=\"#009af9\" fill-rule=\"evenodd\" fill-opacity=\"1\" stroke=\"#000000\" stroke-opacity=\"1\" stroke-width=\"2.4\"/>\n",
       "<circle clip-path=\"url(#clip622)\" cx=\"1643.41\" cy=\"573.904\" r=\"14\" fill=\"#009af9\" fill-rule=\"evenodd\" fill-opacity=\"1\" stroke=\"#000000\" stroke-opacity=\"1\" stroke-width=\"2.4\"/>\n",
       "<circle clip-path=\"url(#clip622)\" cx=\"1736.02\" cy=\"632.533\" r=\"14\" fill=\"#009af9\" fill-rule=\"evenodd\" fill-opacity=\"1\" stroke=\"#000000\" stroke-opacity=\"1\" stroke-width=\"2.4\"/>\n",
       "<circle clip-path=\"url(#clip622)\" cx=\"2199.03\" cy=\"300.303\" r=\"14\" fill=\"#009af9\" fill-rule=\"evenodd\" fill-opacity=\"1\" stroke=\"#000000\" stroke-opacity=\"1\" stroke-width=\"2.4\"/>\n",
       "<circle clip-path=\"url(#clip622)\" cx=\"1273\" cy=\"730.248\" r=\"14\" fill=\"#009af9\" fill-rule=\"evenodd\" fill-opacity=\"1\" stroke=\"#000000\" stroke-opacity=\"1\" stroke-width=\"2.4\"/>\n",
       "<circle clip-path=\"url(#clip622)\" cx=\"2199.03\" cy=\"75.5589\" r=\"14\" fill=\"#009af9\" fill-rule=\"evenodd\" fill-opacity=\"1\" stroke=\"#000000\" stroke-opacity=\"1\" stroke-width=\"2.4\"/>\n",
       "<circle clip-path=\"url(#clip622)\" cx=\"1643.41\" cy=\"241.674\" r=\"14\" fill=\"#009af9\" fill-rule=\"evenodd\" fill-opacity=\"1\" stroke=\"#000000\" stroke-opacity=\"1\" stroke-width=\"2.4\"/>\n",
       "<circle clip-path=\"url(#clip622)\" cx=\"1550.81\" cy=\"671.619\" r=\"14\" fill=\"#009af9\" fill-rule=\"evenodd\" fill-opacity=\"1\" stroke=\"#000000\" stroke-opacity=\"1\" stroke-width=\"2.4\"/>\n",
       "<circle clip-path=\"url(#clip622)\" cx=\"902.584\" cy=\"652.076\" r=\"14\" fill=\"#009af9\" fill-rule=\"evenodd\" fill-opacity=\"1\" stroke=\"#000000\" stroke-opacity=\"1\" stroke-width=\"2.4\"/>\n",
       "<circle clip-path=\"url(#clip622)\" cx=\"1458.21\" cy=\"593.447\" r=\"14\" fill=\"#009af9\" fill-rule=\"evenodd\" fill-opacity=\"1\" stroke=\"#000000\" stroke-opacity=\"1\" stroke-width=\"2.4\"/>\n",
       "<circle clip-path=\"url(#clip622)\" cx=\"1828.62\" cy=\"476.189\" r=\"14\" fill=\"#009af9\" fill-rule=\"evenodd\" fill-opacity=\"1\" stroke=\"#000000\" stroke-opacity=\"1\" stroke-width=\"2.4\"/>\n",
       "<circle clip-path=\"url(#clip622)\" cx=\"1365.6\" cy=\"456.646\" r=\"14\" fill=\"#009af9\" fill-rule=\"evenodd\" fill-opacity=\"1\" stroke=\"#000000\" stroke-opacity=\"1\" stroke-width=\"2.4\"/>\n",
       "<circle clip-path=\"url(#clip622)\" cx=\"1365.6\" cy=\"730.248\" r=\"14\" fill=\"#009af9\" fill-rule=\"evenodd\" fill-opacity=\"1\" stroke=\"#000000\" stroke-opacity=\"1\" stroke-width=\"2.4\"/>\n",
       "<circle clip-path=\"url(#clip622)\" cx=\"2013.83\" cy=\"339.389\" r=\"14\" fill=\"#009af9\" fill-rule=\"evenodd\" fill-opacity=\"1\" stroke=\"#000000\" stroke-opacity=\"1\" stroke-width=\"2.4\"/>\n",
       "<circle clip-path=\"url(#clip622)\" cx=\"1365.6\" cy=\"788.877\" r=\"14\" fill=\"#009af9\" fill-rule=\"evenodd\" fill-opacity=\"1\" stroke=\"#000000\" stroke-opacity=\"1\" stroke-width=\"2.4\"/>\n",
       "<circle clip-path=\"url(#clip622)\" cx=\"1550.81\" cy=\"593.447\" r=\"14\" fill=\"#009af9\" fill-rule=\"evenodd\" fill-opacity=\"1\" stroke=\"#000000\" stroke-opacity=\"1\" stroke-width=\"2.4\"/>\n",
       "<circle clip-path=\"url(#clip622)\" cx=\"1828.62\" cy=\"358.932\" r=\"14\" fill=\"#009af9\" fill-rule=\"evenodd\" fill-opacity=\"1\" stroke=\"#000000\" stroke-opacity=\"1\" stroke-width=\"2.4\"/>\n",
       "<circle clip-path=\"url(#clip622)\" cx=\"1087.79\" cy=\"710.705\" r=\"14\" fill=\"#009af9\" fill-rule=\"evenodd\" fill-opacity=\"1\" stroke=\"#000000\" stroke-opacity=\"1\" stroke-width=\"2.4\"/>\n",
       "<circle clip-path=\"url(#clip622)\" cx=\"1643.41\" cy=\"163.502\" r=\"14\" fill=\"#009af9\" fill-rule=\"evenodd\" fill-opacity=\"1\" stroke=\"#000000\" stroke-opacity=\"1\" stroke-width=\"2.4\"/>\n",
       "<circle clip-path=\"url(#clip622)\" cx=\"1087.79\" cy=\"788.877\" r=\"14\" fill=\"#009af9\" fill-rule=\"evenodd\" fill-opacity=\"1\" stroke=\"#000000\" stroke-opacity=\"1\" stroke-width=\"2.4\"/>\n",
       "<circle clip-path=\"url(#clip622)\" cx=\"1828.62\" cy=\"515.275\" r=\"14\" fill=\"#009af9\" fill-rule=\"evenodd\" fill-opacity=\"1\" stroke=\"#000000\" stroke-opacity=\"1\" stroke-width=\"2.4\"/>\n",
       "<circle clip-path=\"url(#clip622)\" cx=\"1087.79\" cy=\"749.791\" r=\"14\" fill=\"#009af9\" fill-rule=\"evenodd\" fill-opacity=\"1\" stroke=\"#000000\" stroke-opacity=\"1\" stroke-width=\"2.4\"/>\n",
       "<circle clip-path=\"url(#clip622)\" cx=\"1273\" cy=\"398.018\" r=\"14\" fill=\"#009af9\" fill-rule=\"evenodd\" fill-opacity=\"1\" stroke=\"#000000\" stroke-opacity=\"1\" stroke-width=\"2.4\"/>\n",
       "<circle clip-path=\"url(#clip622)\" cx=\"624.774\" cy=\"945.22\" r=\"14\" fill=\"#009af9\" fill-rule=\"evenodd\" fill-opacity=\"1\" stroke=\"#000000\" stroke-opacity=\"1\" stroke-width=\"2.4\"/>\n",
       "<circle clip-path=\"url(#clip622)\" cx=\"1273\" cy=\"632.533\" r=\"14\" fill=\"#009af9\" fill-rule=\"evenodd\" fill-opacity=\"1\" stroke=\"#000000\" stroke-opacity=\"1\" stroke-width=\"2.4\"/>\n",
       "<circle clip-path=\"url(#clip622)\" cx=\"346.963\" cy=\"886.591\" r=\"14\" fill=\"#009af9\" fill-rule=\"evenodd\" fill-opacity=\"1\" stroke=\"#000000\" stroke-opacity=\"1\" stroke-width=\"2.4\"/>\n",
       "<circle clip-path=\"url(#clip622)\" cx=\"1180.39\" cy=\"730.248\" r=\"14\" fill=\"#009af9\" fill-rule=\"evenodd\" fill-opacity=\"1\" stroke=\"#000000\" stroke-opacity=\"1\" stroke-width=\"2.4\"/>\n",
       "<circle clip-path=\"url(#clip622)\" cx=\"809.981\" cy=\"886.591\" r=\"14\" fill=\"#009af9\" fill-rule=\"evenodd\" fill-opacity=\"1\" stroke=\"#000000\" stroke-opacity=\"1\" stroke-width=\"2.4\"/>\n",
       "<circle clip-path=\"url(#clip622)\" cx=\"1828.62\" cy=\"671.619\" r=\"14\" fill=\"#009af9\" fill-rule=\"evenodd\" fill-opacity=\"1\" stroke=\"#000000\" stroke-opacity=\"1\" stroke-width=\"2.4\"/>\n",
       "<circle clip-path=\"url(#clip622)\" cx=\"902.584\" cy=\"730.248\" r=\"14\" fill=\"#009af9\" fill-rule=\"evenodd\" fill-opacity=\"1\" stroke=\"#000000\" stroke-opacity=\"1\" stroke-width=\"2.4\"/>\n",
       "<circle clip-path=\"url(#clip622)\" cx=\"995.188\" cy=\"710.705\" r=\"14\" fill=\"#009af9\" fill-rule=\"evenodd\" fill-opacity=\"1\" stroke=\"#000000\" stroke-opacity=\"1\" stroke-width=\"2.4\"/>\n",
       "<polyline clip-path=\"url(#clip622)\" style=\"stroke:#e26f46; stroke-linecap:butt; stroke-linejoin:round; stroke-width:8; stroke-opacity:1; fill:none\" points=\"\n",
       "  254.359,1019.39 346.963,983.185 439.566,946.984 532.17,910.783 624.774,874.583 717.377,838.382 809.981,802.182 902.584,765.981 995.188,729.781 1087.79,693.58 \n",
       "  1180.39,657.38 1273,621.179 1365.6,584.979 1458.21,548.778 1550.81,512.577 1643.41,476.377 1736.02,440.176 1828.62,403.976 1921.22,367.775 2013.83,331.575 \n",
       "  2106.43,295.374 2199.03,259.174 2291.64,222.973 \n",
       "  \"/>\n",
       "</svg>\n"
      ]
     },
     "execution_count": 82,
     "metadata": {},
     "output_type": "execute_result"
    }
   ],
   "source": [
    "p = collect((minimum(X)-1):(maximum(X)+1))\n",
    "\n",
    "scatter(X,Y, legend=false, \n",
    "            xlabel = \"Speed\",\n",
    "            ylabel = \"Dist\",\n",
    "            size = (600,300))\n",
    "plot!(p, f(p, θ_ERM), lw = 2)"
   ]
  },
  {
   "cell_type": "markdown",
   "metadata": {},
   "source": [
    "### Ridge Regression"
   ]
  },
  {
   "cell_type": "markdown",
   "metadata": {},
   "source": [
    "Der Ridge-Regression Schätzer mit Parameter $\\lambda$ wird wie folgt berechnet."
   ]
  },
  {
   "cell_type": "code",
   "execution_count": 85,
   "metadata": {},
   "outputs": [
    {
     "data": {
      "text/plain": [
       "θ_T (generic function with 1 method)"
      ]
     },
     "execution_count": 85,
     "metadata": {},
     "output_type": "execute_result"
    }
   ],
   "source": [
    "θ_T(λ) = (Ω' * Ω + (n*λ) .* diagm(ones(D+1))) \\ (Ω' * Y)"
   ]
  },
  {
   "cell_type": "markdown",
   "metadata": {},
   "source": [
    "Wir plotten den RR-Schätzer für verschiedene Werte von $\\lambda$"
   ]
  },
  {
   "cell_type": "code",
   "execution_count": 89,
   "metadata": {},
   "outputs": [
    {
     "name": "stderr",
     "output_type": "stream",
     "text": [
      "┌ Info: Saved animation to \n",
      "│   fn = /Users/pb/ridge_regression.gif\n",
      "└ @ Plots /Users/pb/.julia/packages/Plots/1KWPG/src/animation.jl:114\n"
     ]
    },
    {
     "data": {
      "text/html": [
       "<img src=\"data:image/gif;base64,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\" />"
      ],
      "text/plain": [
       "Plots.AnimatedGif(\"/Users/pb/ridge_regression.gif\")"
      ]
     },
     "execution_count": 89,
     "metadata": {},
     "output_type": "execute_result"
    }
   ],
   "source": [
    "anim = @animate for i in 0:0.02:0.25\n",
    "    scatter(X,Y, label=false, \n",
    "            xlabel = \"Speed\",\n",
    "            ylabel = \"Dist\",\n",
    "            size = (600,300))\n",
    "    plot!(p, f(p, θ_T(i)), lw = 2, label = \"λ = $i\")\n",
    "    ylims!(0,100)\n",
    "end\n",
    "gif(anim, \"/Users/pb/ridge_regression.gif\", fps = 3)"
   ]
  },
  {
   "cell_type": "markdown",
   "metadata": {},
   "source": [
    "Der Animation nach zu urteilen scheint $\\lambda=0.2$ eine gute Wahl zu sein."
   ]
  },
  {
   "cell_type": "code",
   "execution_count": 91,
   "metadata": {},
   "outputs": [],
   "source": [
    "θ_RR = θ_T(0.2);"
   ]
  },
  {
   "cell_type": "markdown",
   "metadata": {},
   "source": [
    "RR hat die folgenden Parameter für $f_\\theta(x)=ax+b$ geschätzt."
   ]
  },
  {
   "cell_type": "code",
   "execution_count": 92,
   "metadata": {},
   "outputs": [
    {
     "name": "stdout",
     "output_type": "stream",
     "text": [
      "a = 3.1299564290827533, b = -5.157137490648899\n"
     ]
    }
   ],
   "source": [
    "println(\"a = $(θ_RR[2]), b = $(θ_RR[1])\")"
   ]
  },
  {
   "cell_type": "markdown",
   "metadata": {},
   "source": [
    "### Maximum Likelihood und Maximum a-Posteriori Estimation"
   ]
  },
  {
   "cell_type": "markdown",
   "metadata": {},
   "source": [
    "Der Parameter für ML ist durch `θ_ERM` bestimmt\n",
    "\n",
    "Der Parameter für MAP ist durch `θ_T(λ)` für $\\lambda = \\sigma^2/n$ bestimmt."
   ]
  },
  {
   "cell_type": "code",
   "execution_count": 94,
   "metadata": {},
   "outputs": [],
   "source": [
    "θ_ML = θ_ERM\n",
    "θ_MAP = θ_T(σ²/n);"
   ]
  },
  {
   "cell_type": "markdown",
   "metadata": {},
   "source": [
    "Jetzt können wir diese Parameter in das statistische Modell einsetzen und von diesem samplen. "
   ]
  },
  {
   "cell_type": "code",
   "execution_count": 96,
   "metadata": {},
   "outputs": [
    {
     "data": {
      "image/svg+xml": [
       "<?xml version=\"1.0\" encoding=\"utf-8\"?>\n",
       "<svg xmlns=\"http://www.w3.org/2000/svg\" xmlns:xlink=\"http://www.w3.org/1999/xlink\" width=\"600\" height=\"300\" viewBox=\"0 0 2400 1200\">\n",
       "<defs>\n",
       "  <clipPath id=\"clip180\">\n",
       "    <rect x=\"0\" y=\"0\" width=\"2400\" height=\"1200\"/>\n",
       "  </clipPath>\n",
       "</defs>\n",
       "<path clip-path=\"url(#clip180)\" d=\"\n",
       "M0 1200 L2400 1200 L2400 0 L0 0  Z\n",
       "  \" fill=\"#ffffff\" fill-rule=\"evenodd\" fill-opacity=\"1\"/>\n",
       "<defs>\n",
       "  <clipPath id=\"clip181\">\n",
       "    <rect x=\"480\" y=\"0\" width=\"1681\" height=\"1200\"/>\n",
       "  </clipPath>\n",
       "</defs>\n",
       "<path clip-path=\"url(#clip180)\" d=\"\n",
       "M193.241 1047.7 L2352.76 1047.7 L2352.76 47.2441 L193.241 47.2441  Z\n",
       "  \" fill=\"#ffffff\" fill-rule=\"evenodd\" fill-opacity=\"1\"/>\n",
       "<defs>\n",
       "  <clipPath id=\"clip182\">\n",
       "    <rect x=\"193\" y=\"47\" width=\"2161\" height=\"1001\"/>\n",
       "  </clipPath>\n",
       "</defs>\n",
       "<polyline clip-path=\"url(#clip182)\" style=\"stroke:#000000; stroke-linecap:butt; stroke-linejoin:round; stroke-width:2; stroke-opacity:0.1; fill:none\" points=\"\n",
       "  439.566,1047.7 439.566,47.2441 \n",
       "  \"/>\n",
       "<polyline clip-path=\"url(#clip182)\" style=\"stroke:#000000; stroke-linecap:butt; stroke-linejoin:round; stroke-width:2; stroke-opacity:0.1; fill:none\" points=\"\n",
       "  902.584,1047.7 902.584,47.2441 \n",
       "  \"/>\n",
       "<polyline clip-path=\"url(#clip182)\" style=\"stroke:#000000; stroke-linecap:butt; stroke-linejoin:round; stroke-width:2; stroke-opacity:0.1; fill:none\" points=\"\n",
       "  1365.6,1047.7 1365.6,47.2441 \n",
       "  \"/>\n",
       "<polyline clip-path=\"url(#clip182)\" style=\"stroke:#000000; stroke-linecap:butt; stroke-linejoin:round; stroke-width:2; stroke-opacity:0.1; fill:none\" points=\"\n",
       "  1828.62,1047.7 1828.62,47.2441 \n",
       "  \"/>\n",
       "<polyline clip-path=\"url(#clip182)\" style=\"stroke:#000000; stroke-linecap:butt; stroke-linejoin:round; stroke-width:2; stroke-opacity:0.1; fill:none\" points=\"\n",
       "  2291.64,1047.7 2291.64,47.2441 \n",
       "  \"/>\n",
       "<polyline clip-path=\"url(#clip180)\" style=\"stroke:#000000; stroke-linecap:butt; stroke-linejoin:round; stroke-width:4; stroke-opacity:1; fill:none\" points=\"\n",
       "  193.241,1047.7 2352.76,1047.7 \n",
       "  \"/>\n",
       "<polyline clip-path=\"url(#clip180)\" style=\"stroke:#000000; stroke-linecap:butt; stroke-linejoin:round; stroke-width:4; stroke-opacity:1; fill:none\" points=\"\n",
       "  439.566,1047.7 439.566,1028.8 \n",
       "  \"/>\n",
       "<polyline clip-path=\"url(#clip180)\" style=\"stroke:#000000; stroke-linecap:butt; stroke-linejoin:round; stroke-width:4; stroke-opacity:1; fill:none\" points=\"\n",
       "  902.584,1047.7 902.584,1028.8 \n",
       "  \"/>\n",
       "<polyline clip-path=\"url(#clip180)\" style=\"stroke:#000000; stroke-linecap:butt; stroke-linejoin:round; stroke-width:4; stroke-opacity:1; fill:none\" points=\"\n",
       "  1365.6,1047.7 1365.6,1028.8 \n",
       "  \"/>\n",
       "<polyline clip-path=\"url(#clip180)\" style=\"stroke:#000000; stroke-linecap:butt; stroke-linejoin:round; stroke-width:4; stroke-opacity:1; fill:none\" points=\"\n",
       "  1828.62,1047.7 1828.62,1028.8 \n",
       "  \"/>\n",
       "<polyline clip-path=\"url(#clip180)\" style=\"stroke:#000000; stroke-linecap:butt; stroke-linejoin:round; stroke-width:4; stroke-opacity:1; fill:none\" points=\"\n",
       "  2291.64,1047.7 2291.64,1028.8 \n",
       "  \"/>\n",
       "<path clip-path=\"url(#clip180)\" d=\"M429.844 1075.54 L448.201 1075.54 L448.201 1079.48 L434.127 1079.48 L434.127 1087.95 Q435.145 1087.6 436.164 1087.44 Q437.182 1087.25 438.201 1087.25 Q443.988 1087.25 447.367 1090.42 Q450.747 1093.6 450.747 1099.01 Q450.747 1104.59 447.275 1107.69 Q443.803 1110.77 437.483 1110.77 Q435.307 1110.77 433.039 1110.4 Q430.793 1110.03 428.386 1109.29 L428.386 1104.59 Q430.469 1105.72 432.691 1106.28 Q434.914 1106.84 437.391 1106.84 Q441.395 1106.84 443.733 1104.73 Q446.071 1102.62 446.071 1099.01 Q446.071 1095.4 443.733 1093.29 Q441.395 1091.19 437.391 1091.19 Q435.516 1091.19 433.641 1091.6 Q431.789 1092.02 429.844 1092.9 L429.844 1075.54 Z\" fill=\"#000000\" fill-rule=\"evenodd\" fill-opacity=\"1\" /><path clip-path=\"url(#clip180)\" d=\"M877.272 1106.16 L884.911 1106.16 L884.911 1079.8 L876.601 1081.47 L876.601 1077.21 L884.864 1075.54 L889.54 1075.54 L889.54 1106.16 L897.179 1106.16 L897.179 1110.1 L877.272 1110.1 L877.272 1106.16 Z\" fill=\"#000000\" fill-rule=\"evenodd\" fill-opacity=\"1\" /><path clip-path=\"url(#clip180)\" d=\"M916.623 1078.62 Q913.012 1078.62 911.184 1082.18 Q909.378 1085.72 909.378 1092.85 Q909.378 1099.96 911.184 1103.53 Q913.012 1107.07 916.623 1107.07 Q920.258 1107.07 922.063 1103.53 Q923.892 1099.96 923.892 1092.85 Q923.892 1085.72 922.063 1082.18 Q920.258 1078.62 916.623 1078.62 M916.623 1074.91 Q922.434 1074.91 925.489 1079.52 Q928.568 1084.1 928.568 1092.85 Q928.568 1101.58 925.489 1106.19 Q922.434 1110.77 916.623 1110.77 Q910.813 1110.77 907.735 1106.19 Q904.679 1101.58 904.679 1092.85 Q904.679 1084.1 907.735 1079.52 Q910.813 1074.91 916.623 1074.91 Z\" fill=\"#000000\" fill-rule=\"evenodd\" fill-opacity=\"1\" /><path clip-path=\"url(#clip180)\" d=\"M1340.79 1106.16 L1348.43 1106.16 L1348.43 1079.8 L1340.12 1081.47 L1340.12 1077.21 L1348.38 1075.54 L1353.06 1075.54 L1353.06 1106.16 L1360.69 1106.16 L1360.69 1110.1 L1340.79 1110.1 L1340.79 1106.16 Z\" fill=\"#000000\" fill-rule=\"evenodd\" fill-opacity=\"1\" /><path clip-path=\"url(#clip180)\" d=\"M1370.19 1075.54 L1388.54 1075.54 L1388.54 1079.48 L1374.47 1079.48 L1374.47 1087.95 Q1375.49 1087.6 1376.5 1087.44 Q1377.52 1087.25 1378.54 1087.25 Q1384.33 1087.25 1387.71 1090.42 Q1391.09 1093.6 1391.09 1099.01 Q1391.09 1104.59 1387.62 1107.69 Q1384.14 1110.77 1377.82 1110.77 Q1375.65 1110.77 1373.38 1110.4 Q1371.13 1110.03 1368.73 1109.29 L1368.73 1104.59 Q1370.81 1105.72 1373.03 1106.28 Q1375.25 1106.84 1377.73 1106.84 Q1381.74 1106.84 1384.07 1104.73 Q1386.41 1102.62 1386.41 1099.01 Q1386.41 1095.4 1384.07 1093.29 Q1381.74 1091.19 1377.73 1091.19 Q1375.86 1091.19 1373.98 1091.6 Q1372.13 1092.02 1370.19 1092.9 L1370.19 1075.54 Z\" fill=\"#000000\" fill-rule=\"evenodd\" fill-opacity=\"1\" /><path clip-path=\"url(#clip180)\" d=\"M1807.39 1106.16 L1823.71 1106.16 L1823.71 1110.1 L1801.77 1110.1 L1801.77 1106.16 Q1804.43 1103.41 1809.01 1098.78 Q1813.62 1094.13 1814.8 1092.79 Q1817.05 1090.26 1817.93 1088.53 Q1818.83 1086.77 1818.83 1085.08 Q1818.83 1082.32 1816.88 1080.59 Q1814.96 1078.85 1811.86 1078.85 Q1809.66 1078.85 1807.21 1079.61 Q1804.78 1080.38 1802 1081.93 L1802 1077.21 Q1804.82 1076.07 1807.28 1075.49 Q1809.73 1074.91 1811.77 1074.91 Q1817.14 1074.91 1820.33 1077.6 Q1823.53 1080.29 1823.53 1084.78 Q1823.53 1086.91 1822.72 1088.83 Q1821.93 1090.72 1819.82 1093.32 Q1819.24 1093.99 1816.14 1097.21 Q1813.04 1100.4 1807.39 1106.16 Z\" fill=\"#000000\" fill-rule=\"evenodd\" fill-opacity=\"1\" /><path clip-path=\"url(#clip180)\" d=\"M1843.53 1078.62 Q1839.92 1078.62 1838.09 1082.18 Q1836.28 1085.72 1836.28 1092.85 Q1836.28 1099.96 1838.09 1103.53 Q1839.92 1107.07 1843.53 1107.07 Q1847.16 1107.07 1848.97 1103.53 Q1850.8 1099.96 1850.8 1092.85 Q1850.8 1085.72 1848.97 1082.18 Q1847.16 1078.62 1843.53 1078.62 M1843.53 1074.91 Q1849.34 1074.91 1852.39 1079.52 Q1855.47 1084.1 1855.47 1092.85 Q1855.47 1101.58 1852.39 1106.19 Q1849.34 1110.77 1843.53 1110.77 Q1837.72 1110.77 1834.64 1106.19 Q1831.58 1101.58 1831.58 1092.85 Q1831.58 1084.1 1834.64 1079.52 Q1837.72 1074.91 1843.53 1074.91 Z\" fill=\"#000000\" fill-rule=\"evenodd\" fill-opacity=\"1\" /><path clip-path=\"url(#clip180)\" d=\"M2270.91 1106.16 L2287.23 1106.16 L2287.23 1110.1 L2265.28 1110.1 L2265.28 1106.16 Q2267.95 1103.41 2272.53 1098.78 Q2277.14 1094.13 2278.32 1092.79 Q2280.56 1090.26 2281.44 1088.53 Q2282.34 1086.77 2282.34 1085.08 Q2282.34 1082.32 2280.4 1080.59 Q2278.48 1078.85 2275.38 1078.85 Q2273.18 1078.85 2270.72 1079.61 Q2268.29 1080.38 2265.52 1081.93 L2265.52 1077.21 Q2268.34 1076.07 2270.79 1075.49 Q2273.25 1074.91 2275.28 1074.91 Q2280.65 1074.91 2283.85 1077.6 Q2287.04 1080.29 2287.04 1084.78 Q2287.04 1086.91 2286.23 1088.83 Q2285.45 1090.72 2283.34 1093.32 Q2282.76 1093.99 2279.66 1097.21 Q2276.56 1100.4 2270.91 1106.16 Z\" fill=\"#000000\" fill-rule=\"evenodd\" fill-opacity=\"1\" /><path clip-path=\"url(#clip180)\" d=\"M2297.09 1075.54 L2315.45 1075.54 L2315.45 1079.48 L2301.37 1079.48 L2301.37 1087.95 Q2302.39 1087.6 2303.41 1087.44 Q2304.43 1087.25 2305.45 1087.25 Q2311.23 1087.25 2314.61 1090.42 Q2317.99 1093.6 2317.99 1099.01 Q2317.99 1104.59 2314.52 1107.69 Q2311.05 1110.77 2304.73 1110.77 Q2302.55 1110.77 2300.28 1110.4 Q2298.04 1110.03 2295.63 1109.29 L2295.63 1104.59 Q2297.71 1105.72 2299.94 1106.28 Q2302.16 1106.84 2304.64 1106.84 Q2308.64 1106.84 2310.98 1104.73 Q2313.32 1102.62 2313.32 1099.01 Q2313.32 1095.4 2310.98 1093.29 Q2308.64 1091.19 2304.64 1091.19 Q2302.76 1091.19 2300.89 1091.6 Q2299.03 1092.02 2297.09 1092.9 L2297.09 1075.54 Z\" fill=\"#000000\" fill-rule=\"evenodd\" fill-opacity=\"1\" /><path clip-path=\"url(#clip180)\" d=\"M1206.52 1146.6 L1206.52 1152.87 Q1202.86 1151.12 1199.62 1150.26 Q1196.37 1149.4 1193.35 1149.4 Q1188.1 1149.4 1185.23 1151.44 Q1182.4 1153.48 1182.4 1157.23 Q1182.4 1160.39 1184.28 1162.01 Q1186.19 1163.6 1191.47 1164.59 L1195.35 1165.38 Q1202.55 1166.75 1205.95 1170.22 Q1209.39 1173.66 1209.39 1179.45 Q1209.39 1186.36 1204.74 1189.92 Q1200.13 1193.49 1191.18 1193.49 Q1187.81 1193.49 1183.99 1192.72 Q1180.2 1191.96 1176.13 1190.46 L1176.13 1183.84 Q1180.04 1186.04 1183.8 1187.15 Q1187.55 1188.27 1191.18 1188.27 Q1196.69 1188.27 1199.68 1186.1 Q1202.67 1183.94 1202.67 1179.93 Q1202.67 1176.43 1200.51 1174.45 Q1198.38 1172.48 1193.47 1171.49 L1189.56 1170.73 Q1182.37 1169.3 1179.15 1166.24 Q1175.94 1163.19 1175.94 1157.74 Q1175.94 1151.44 1180.36 1147.81 Q1184.82 1144.18 1192.62 1144.18 Q1195.96 1144.18 1199.43 1144.79 Q1202.9 1145.39 1206.52 1146.6 Z\" fill=\"#000000\" fill-rule=\"evenodd\" fill-opacity=\"1\" /><path clip-path=\"url(#clip180)\" d=\"M1224.83 1187.22 L1224.83 1206.12 L1218.94 1206.12 L1218.94 1156.92 L1224.83 1156.92 L1224.83 1162.33 Q1226.67 1159.14 1229.47 1157.62 Q1232.31 1156.06 1236.22 1156.06 Q1242.71 1156.06 1246.76 1161.21 Q1250.83 1166.37 1250.83 1174.77 Q1250.83 1183.17 1246.76 1188.33 Q1242.71 1193.49 1236.22 1193.49 Q1232.31 1193.49 1229.47 1191.96 Q1226.67 1190.4 1224.83 1187.22 M1244.75 1174.77 Q1244.75 1168.31 1242.08 1164.65 Q1239.44 1160.96 1234.79 1160.96 Q1230.14 1160.96 1227.47 1164.65 Q1224.83 1168.31 1224.83 1174.77 Q1224.83 1181.23 1227.47 1184.92 Q1230.14 1188.59 1234.79 1188.59 Q1239.44 1188.59 1242.08 1184.92 Q1244.75 1181.23 1244.75 1174.77 Z\" fill=\"#000000\" fill-rule=\"evenodd\" fill-opacity=\"1\" /><path clip-path=\"url(#clip180)\" d=\"M1291.03 1173.28 L1291.03 1176.14 L1264.1 1176.14 Q1264.48 1182.19 1267.73 1185.37 Q1271.01 1188.52 1276.83 1188.52 Q1280.21 1188.52 1283.36 1187.69 Q1286.54 1186.87 1289.66 1185.21 L1289.66 1190.75 Q1286.51 1192.09 1283.2 1192.79 Q1279.89 1193.49 1276.48 1193.49 Q1267.95 1193.49 1262.96 1188.52 Q1257.99 1183.56 1257.99 1175.09 Q1257.99 1166.34 1262.7 1161.21 Q1267.44 1156.06 1275.47 1156.06 Q1282.66 1156.06 1286.83 1160.7 Q1291.03 1165.32 1291.03 1173.28 M1285.17 1171.56 Q1285.11 1166.75 1282.47 1163.89 Q1279.86 1161.02 1275.53 1161.02 Q1270.63 1161.02 1267.67 1163.79 Q1264.74 1166.56 1264.29 1171.59 L1285.17 1171.56 Z\" fill=\"#000000\" fill-rule=\"evenodd\" fill-opacity=\"1\" /><path clip-path=\"url(#clip180)\" d=\"M1331.13 1173.28 L1331.13 1176.14 L1304.21 1176.14 Q1304.59 1182.19 1307.83 1185.37 Q1311.11 1188.52 1316.94 1188.52 Q1320.31 1188.52 1323.46 1187.69 Q1326.65 1186.87 1329.76 1185.21 L1329.76 1190.75 Q1326.61 1192.09 1323.3 1192.79 Q1319.99 1193.49 1316.59 1193.49 Q1308.06 1193.49 1303.06 1188.52 Q1298.1 1183.56 1298.1 1175.09 Q1298.1 1166.34 1302.81 1161.21 Q1307.55 1156.06 1315.57 1156.06 Q1322.76 1156.06 1326.93 1160.7 Q1331.13 1165.32 1331.13 1173.28 M1325.28 1171.56 Q1325.21 1166.75 1322.57 1163.89 Q1319.96 1161.02 1315.63 1161.02 Q1310.73 1161.02 1307.77 1163.79 Q1304.84 1166.56 1304.4 1171.59 L1325.28 1171.56 Z\" fill=\"#000000\" fill-rule=\"evenodd\" fill-opacity=\"1\" /><path clip-path=\"url(#clip180)\" d=\"M1364.2 1162.33 L1364.2 1143.04 L1370.06 1143.04 L1370.06 1192.56 L1364.2 1192.56 L1364.2 1187.22 Q1362.36 1190.4 1359.52 1191.96 Q1356.72 1193.49 1352.78 1193.49 Q1346.32 1193.49 1342.24 1188.33 Q1338.2 1183.17 1338.2 1174.77 Q1338.2 1166.37 1342.24 1161.21 Q1346.32 1156.06 1352.78 1156.06 Q1356.72 1156.06 1359.52 1157.62 Q1362.36 1159.14 1364.2 1162.33 M1344.25 1174.77 Q1344.25 1181.23 1346.89 1184.92 Q1349.56 1188.59 1354.21 1188.59 Q1358.86 1188.59 1361.53 1184.92 Q1364.2 1181.23 1364.2 1174.77 Q1364.2 1168.31 1361.53 1164.65 Q1358.86 1160.96 1354.21 1160.96 Q1349.56 1160.96 1346.89 1164.65 Q1344.25 1168.31 1344.25 1174.77 Z\" fill=\"#000000\" fill-rule=\"evenodd\" fill-opacity=\"1\" /><polyline clip-path=\"url(#clip182)\" style=\"stroke:#000000; stroke-linecap:butt; stroke-linejoin:round; stroke-width:2; stroke-opacity:0.1; fill:none\" points=\"\n",
       "  193.241,1014.58 2352.76,1014.58 \n",
       "  \"/>\n",
       "<polyline clip-path=\"url(#clip182)\" style=\"stroke:#000000; stroke-linecap:butt; stroke-linejoin:round; stroke-width:2; stroke-opacity:0.1; fill:none\" points=\"\n",
       "  193.241,812.642 2352.76,812.642 \n",
       "  \"/>\n",
       "<polyline clip-path=\"url(#clip182)\" style=\"stroke:#000000; stroke-linecap:butt; stroke-linejoin:round; stroke-width:2; stroke-opacity:0.1; fill:none\" points=\"\n",
       "  193.241,610.701 2352.76,610.701 \n",
       "  \"/>\n",
       "<polyline clip-path=\"url(#clip182)\" style=\"stroke:#000000; stroke-linecap:butt; stroke-linejoin:round; stroke-width:2; stroke-opacity:0.1; fill:none\" points=\"\n",
       "  193.241,408.761 2352.76,408.761 \n",
       "  \"/>\n",
       "<polyline clip-path=\"url(#clip182)\" style=\"stroke:#000000; stroke-linecap:butt; stroke-linejoin:round; stroke-width:2; stroke-opacity:0.1; fill:none\" points=\"\n",
       "  193.241,206.82 2352.76,206.82 \n",
       "  \"/>\n",
       "<polyline clip-path=\"url(#clip180)\" style=\"stroke:#000000; stroke-linecap:butt; stroke-linejoin:round; stroke-width:4; stroke-opacity:1; fill:none\" points=\"\n",
       "  193.241,1047.7 193.241,47.2441 \n",
       "  \"/>\n",
       "<polyline clip-path=\"url(#clip180)\" style=\"stroke:#000000; stroke-linecap:butt; stroke-linejoin:round; stroke-width:4; stroke-opacity:1; fill:none\" points=\"\n",
       "  193.241,1014.58 212.139,1014.58 \n",
       "  \"/>\n",
       "<polyline clip-path=\"url(#clip180)\" style=\"stroke:#000000; stroke-linecap:butt; stroke-linejoin:round; stroke-width:4; stroke-opacity:1; fill:none\" points=\"\n",
       "  193.241,812.642 212.139,812.642 \n",
       "  \"/>\n",
       "<polyline clip-path=\"url(#clip180)\" style=\"stroke:#000000; stroke-linecap:butt; stroke-linejoin:round; stroke-width:4; stroke-opacity:1; fill:none\" points=\"\n",
       "  193.241,610.701 212.139,610.701 \n",
       "  \"/>\n",
       "<polyline clip-path=\"url(#clip180)\" style=\"stroke:#000000; stroke-linecap:butt; stroke-linejoin:round; stroke-width:4; stroke-opacity:1; fill:none\" points=\"\n",
       "  193.241,408.761 212.139,408.761 \n",
       "  \"/>\n",
       "<polyline clip-path=\"url(#clip180)\" style=\"stroke:#000000; stroke-linecap:butt; stroke-linejoin:round; stroke-width:4; stroke-opacity:1; fill:none\" points=\"\n",
       "  193.241,206.82 212.139,206.82 \n",
       "  \"/>\n",
       "<path clip-path=\"url(#clip180)\" d=\"M145.297 1000.38 Q141.686 1000.38 139.857 1003.95 Q138.051 1007.49 138.051 1014.62 Q138.051 1021.72 139.857 1025.29 Q141.686 1028.83 145.297 1028.83 Q148.931 1028.83 150.736 1025.29 Q152.565 1021.72 152.565 1014.62 Q152.565 1007.49 150.736 1003.95 Q148.931 1000.38 145.297 1000.38 M145.297 996.678 Q151.107 996.678 154.162 1001.28 Q157.241 1005.87 157.241 1014.62 Q157.241 1023.34 154.162 1027.95 Q151.107 1032.53 145.297 1032.53 Q139.486 1032.53 136.408 1027.95 Q133.352 1023.34 133.352 1014.62 Q133.352 1005.87 136.408 1001.28 Q139.486 996.678 145.297 996.678 Z\" fill=\"#000000\" fill-rule=\"evenodd\" fill-opacity=\"1\" /><path clip-path=\"url(#clip180)\" d=\"M109.163 825.987 L125.482 825.987 L125.482 829.922 L103.538 829.922 L103.538 825.987 Q106.2 823.232 110.783 818.603 Q115.389 813.95 116.57 812.607 Q118.815 810.084 119.695 808.348 Q120.598 806.589 120.598 804.899 Q120.598 802.144 118.653 800.408 Q116.732 798.672 113.63 798.672 Q111.431 798.672 108.977 799.436 Q106.547 800.2 103.769 801.751 L103.769 797.029 Q106.593 795.894 109.047 795.316 Q111.5 794.737 113.538 794.737 Q118.908 794.737 122.102 797.422 Q125.297 800.107 125.297 804.598 Q125.297 806.728 124.487 808.649 Q123.699 810.547 121.593 813.14 Q121.014 813.811 117.912 817.029 Q114.811 820.223 109.163 825.987 Z\" fill=\"#000000\" fill-rule=\"evenodd\" fill-opacity=\"1\" /><path clip-path=\"url(#clip180)\" d=\"M145.297 798.441 Q141.686 798.441 139.857 802.005 Q138.051 805.547 138.051 812.677 Q138.051 819.783 139.857 823.348 Q141.686 826.89 145.297 826.89 Q148.931 826.89 150.736 823.348 Q152.565 819.783 152.565 812.677 Q152.565 805.547 150.736 802.005 Q148.931 798.441 145.297 798.441 M145.297 794.737 Q151.107 794.737 154.162 799.343 Q157.241 803.927 157.241 812.677 Q157.241 821.404 154.162 826.01 Q151.107 830.593 145.297 830.593 Q139.486 830.593 136.408 826.01 Q133.352 821.404 133.352 812.677 Q133.352 803.927 136.408 799.343 Q139.486 794.737 145.297 794.737 Z\" fill=\"#000000\" fill-rule=\"evenodd\" fill-opacity=\"1\" /><path clip-path=\"url(#clip180)\" d=\"M117.982 597.495 L106.176 615.944 L117.982 615.944 L117.982 597.495 M116.755 593.421 L122.635 593.421 L122.635 615.944 L127.565 615.944 L127.565 619.833 L122.635 619.833 L122.635 627.981 L117.982 627.981 L117.982 619.833 L102.38 619.833 L102.38 615.319 L116.755 593.421 Z\" fill=\"#000000\" fill-rule=\"evenodd\" fill-opacity=\"1\" /><path clip-path=\"url(#clip180)\" d=\"M145.297 596.5 Q141.686 596.5 139.857 600.065 Q138.051 603.607 138.051 610.736 Q138.051 617.843 139.857 621.407 Q141.686 624.949 145.297 624.949 Q148.931 624.949 150.736 621.407 Q152.565 617.843 152.565 610.736 Q152.565 603.607 150.736 600.065 Q148.931 596.5 145.297 596.5 M145.297 592.796 Q151.107 592.796 154.162 597.403 Q157.241 601.986 157.241 610.736 Q157.241 619.463 154.162 624.069 Q151.107 628.653 145.297 628.653 Q139.486 628.653 136.408 624.069 Q133.352 619.463 133.352 610.736 Q133.352 601.986 136.408 597.403 Q139.486 592.796 145.297 592.796 Z\" fill=\"#000000\" fill-rule=\"evenodd\" fill-opacity=\"1\" /><path clip-path=\"url(#clip180)\" d=\"M115.713 406.897 Q112.565 406.897 110.713 409.05 Q108.885 411.203 108.885 414.953 Q108.885 418.68 110.713 420.856 Q112.565 423.008 115.713 423.008 Q118.862 423.008 120.69 420.856 Q122.542 418.68 122.542 414.953 Q122.542 411.203 120.69 409.05 Q118.862 406.897 115.713 406.897 M124.996 392.245 L124.996 396.504 Q123.237 395.671 121.431 395.231 Q119.649 394.791 117.889 394.791 Q113.26 394.791 110.806 397.916 Q108.375 401.041 108.028 407.36 Q109.394 405.347 111.454 404.282 Q113.514 403.194 115.991 403.194 Q121.2 403.194 124.209 406.365 Q127.241 409.513 127.241 414.953 Q127.241 420.277 124.093 423.495 Q120.945 426.712 115.713 426.712 Q109.718 426.712 106.547 422.129 Q103.376 417.522 103.376 408.796 Q103.376 400.601 107.264 395.74 Q111.153 390.856 117.704 390.856 Q119.463 390.856 121.246 391.203 Q123.051 391.55 124.996 392.245 Z\" fill=\"#000000\" fill-rule=\"evenodd\" fill-opacity=\"1\" /><path clip-path=\"url(#clip180)\" d=\"M145.297 394.56 Q141.686 394.56 139.857 398.124 Q138.051 401.666 138.051 408.796 Q138.051 415.902 139.857 419.467 Q141.686 423.008 145.297 423.008 Q148.931 423.008 150.736 419.467 Q152.565 415.902 152.565 408.796 Q152.565 401.666 150.736 398.124 Q148.931 394.56 145.297 394.56 M145.297 390.856 Q151.107 390.856 154.162 395.462 Q157.241 400.046 157.241 408.796 Q157.241 417.522 154.162 422.129 Q151.107 426.712 145.297 426.712 Q139.486 426.712 136.408 422.129 Q133.352 417.522 133.352 408.796 Q133.352 400.046 136.408 395.462 Q139.486 390.856 145.297 390.856 Z\" fill=\"#000000\" fill-rule=\"evenodd\" fill-opacity=\"1\" /><path clip-path=\"url(#clip180)\" d=\"M115.135 207.688 Q111.801 207.688 109.88 209.471 Q107.982 211.253 107.982 214.378 Q107.982 217.503 109.88 219.285 Q111.801 221.068 115.135 221.068 Q118.468 221.068 120.389 219.285 Q122.311 217.48 122.311 214.378 Q122.311 211.253 120.389 209.471 Q118.491 207.688 115.135 207.688 M110.459 205.698 Q107.45 204.957 105.76 202.897 Q104.093 200.836 104.093 197.874 Q104.093 193.73 107.033 191.323 Q109.996 188.915 115.135 188.915 Q120.297 188.915 123.237 191.323 Q126.176 193.73 126.176 197.874 Q126.176 200.836 124.487 202.897 Q122.82 204.957 119.834 205.698 Q123.213 206.485 125.088 208.776 Q126.987 211.068 126.987 214.378 Q126.987 219.401 123.908 222.086 Q120.852 224.772 115.135 224.772 Q109.417 224.772 106.338 222.086 Q103.283 219.401 103.283 214.378 Q103.283 211.068 105.181 208.776 Q107.079 206.485 110.459 205.698 M108.746 198.313 Q108.746 200.999 110.413 202.503 Q112.102 204.008 115.135 204.008 Q118.144 204.008 119.834 202.503 Q121.547 200.999 121.547 198.313 Q121.547 195.628 119.834 194.124 Q118.144 192.619 115.135 192.619 Q112.102 192.619 110.413 194.124 Q108.746 195.628 108.746 198.313 Z\" fill=\"#000000\" fill-rule=\"evenodd\" fill-opacity=\"1\" /><path clip-path=\"url(#clip180)\" d=\"M145.297 192.619 Q141.686 192.619 139.857 196.184 Q138.051 199.725 138.051 206.855 Q138.051 213.961 139.857 217.526 Q141.686 221.068 145.297 221.068 Q148.931 221.068 150.736 217.526 Q152.565 213.961 152.565 206.855 Q152.565 199.725 150.736 196.184 Q148.931 192.619 145.297 192.619 M145.297 188.915 Q151.107 188.915 154.162 193.522 Q157.241 198.105 157.241 206.855 Q157.241 215.582 154.162 220.188 Q151.107 224.772 145.297 224.772 Q139.486 224.772 136.408 220.188 Q133.352 215.582 133.352 206.855 Q133.352 198.105 136.408 193.522 Q139.486 188.915 145.297 188.915 Z\" fill=\"#000000\" fill-rule=\"evenodd\" fill-opacity=\"1\" /><path clip-path=\"url(#clip180)\" d=\"M9.88769 600.976 L46.8406 600.976 L46.8406 593.21 Q46.8406 583.375 42.3846 578.823 Q37.9286 574.24 28.3164 574.24 Q18.7679 574.24 14.3437 578.823 Q9.88769 583.375 9.88769 593.21 L9.88769 600.976 M4.60416 607.405 L4.60416 594.196 Q4.60416 580.383 10.3651 573.921 Q16.0943 567.46 28.3164 567.46 Q40.6022 567.46 46.3632 573.953 Q52.1242 580.446 52.1242 594.196 L52.1242 607.405 L4.60416 607.405 Z\" fill=\"#000000\" fill-rule=\"evenodd\" fill-opacity=\"1\" /><path clip-path=\"url(#clip180)\" d=\"M16.4762 557.466 L16.4762 551.61 L52.1242 551.61 L52.1242 557.466 L16.4762 557.466 M2.59896 557.466 L2.59896 551.61 L10.015 551.61 L10.015 557.466 L2.59896 557.466 Z\" fill=\"#000000\" fill-rule=\"evenodd\" fill-opacity=\"1\" /><path clip-path=\"url(#clip180)\" d=\"M17.5265 516.63 L23.0647 516.63 Q21.7916 519.113 21.155 521.786 Q20.5184 524.46 20.5184 527.325 Q20.5184 531.685 21.8552 533.881 Q23.192 536.046 25.8656 536.046 Q27.9026 536.046 29.0803 534.486 Q30.2261 532.926 31.2765 528.216 L31.7221 526.211 Q33.0589 519.972 35.5097 517.362 Q37.9286 514.72 42.2891 514.72 Q47.2544 514.72 50.1508 518.667 Q53.0472 522.582 53.0472 529.457 Q53.0472 532.322 52.4743 535.441 Q51.9332 538.528 50.8192 541.966 L44.7718 541.966 Q46.4587 538.719 47.318 535.568 Q48.1456 532.417 48.1456 529.33 Q48.1456 525.192 46.7451 522.964 Q45.3129 520.736 42.7347 520.736 Q40.3476 520.736 39.0745 522.359 Q37.8013 523.951 36.6237 529.393 L36.1462 531.43 Q35.0004 536.873 32.6451 539.292 Q30.258 541.711 26.1202 541.711 Q21.0913 541.711 18.3541 538.146 Q15.6168 534.581 15.6168 528.025 Q15.6168 524.778 16.0943 521.914 Q16.5717 519.049 17.5265 516.63 Z\" fill=\"#000000\" fill-rule=\"evenodd\" fill-opacity=\"1\" /><path clip-path=\"url(#clip180)\" d=\"M6.35473 499.602 L16.4762 499.602 L16.4762 487.539 L21.0277 487.539 L21.0277 499.602 L40.3794 499.602 Q44.7399 499.602 45.9813 498.424 Q47.2226 497.215 47.2226 493.554 L47.2226 487.539 L52.1242 487.539 L52.1242 493.554 Q52.1242 500.334 49.6097 502.912 Q47.0634 505.49 40.3794 505.49 L21.0277 505.49 L21.0277 509.787 L16.4762 509.787 L16.4762 505.49 L6.35473 505.49 L6.35473 499.602 Z\" fill=\"#000000\" fill-rule=\"evenodd\" fill-opacity=\"1\" /><circle clip-path=\"url(#clip182)\" cx=\"902.584\" cy=\"832.836\" r=\"14\" fill=\"#009af9\" fill-rule=\"evenodd\" fill-opacity=\"1\" stroke=\"#000000\" stroke-opacity=\"1\" stroke-width=\"2.4\"/>\n",
       "<circle clip-path=\"url(#clip182)\" cx=\"624.774\" cy=\"792.448\" r=\"14\" fill=\"#009af9\" fill-rule=\"evenodd\" fill-opacity=\"1\" stroke=\"#000000\" stroke-opacity=\"1\" stroke-width=\"2.4\"/>\n",
       "<circle clip-path=\"url(#clip182)\" cx=\"1736.02\" cy=\"327.985\" r=\"14\" fill=\"#009af9\" fill-rule=\"evenodd\" fill-opacity=\"1\" stroke=\"#000000\" stroke-opacity=\"1\" stroke-width=\"2.4\"/>\n",
       "<circle clip-path=\"url(#clip182)\" cx=\"1180.39\" cy=\"550.119\" r=\"14\" fill=\"#009af9\" fill-rule=\"evenodd\" fill-opacity=\"1\" stroke=\"#000000\" stroke-opacity=\"1\" stroke-width=\"2.4\"/>\n",
       "<circle clip-path=\"url(#clip182)\" cx=\"1643.41\" cy=\"449.149\" r=\"14\" fill=\"#009af9\" fill-rule=\"evenodd\" fill-opacity=\"1\" stroke=\"#000000\" stroke-opacity=\"1\" stroke-width=\"2.4\"/>\n",
       "<circle clip-path=\"url(#clip182)\" cx=\"2199.03\" cy=\"85.6559\" r=\"14\" fill=\"#009af9\" fill-rule=\"evenodd\" fill-opacity=\"1\" stroke=\"#000000\" stroke-opacity=\"1\" stroke-width=\"2.4\"/>\n",
       "<circle clip-path=\"url(#clip182)\" cx=\"717.377\" cy=\"853.03\" r=\"14\" fill=\"#009af9\" fill-rule=\"evenodd\" fill-opacity=\"1\" stroke=\"#000000\" stroke-opacity=\"1\" stroke-width=\"2.4\"/>\n",
       "<circle clip-path=\"url(#clip182)\" cx=\"346.963\" cy=\"994.389\" r=\"14\" fill=\"#009af9\" fill-rule=\"evenodd\" fill-opacity=\"1\" stroke=\"#000000\" stroke-opacity=\"1\" stroke-width=\"2.4\"/>\n",
       "<circle clip-path=\"url(#clip182)\" cx=\"1643.41\" cy=\"590.507\" r=\"14\" fill=\"#009af9\" fill-rule=\"evenodd\" fill-opacity=\"1\" stroke=\"#000000\" stroke-opacity=\"1\" stroke-width=\"2.4\"/>\n",
       "<circle clip-path=\"url(#clip182)\" cx=\"1736.02\" cy=\"651.09\" r=\"14\" fill=\"#009af9\" fill-rule=\"evenodd\" fill-opacity=\"1\" stroke=\"#000000\" stroke-opacity=\"1\" stroke-width=\"2.4\"/>\n",
       "<circle clip-path=\"url(#clip182)\" cx=\"2199.03\" cy=\"307.791\" r=\"14\" fill=\"#009af9\" fill-rule=\"evenodd\" fill-opacity=\"1\" stroke=\"#000000\" stroke-opacity=\"1\" stroke-width=\"2.4\"/>\n",
       "<circle clip-path=\"url(#clip182)\" cx=\"1273\" cy=\"752.06\" r=\"14\" fill=\"#009af9\" fill-rule=\"evenodd\" fill-opacity=\"1\" stroke=\"#000000\" stroke-opacity=\"1\" stroke-width=\"2.4\"/>\n",
       "<circle clip-path=\"url(#clip182)\" cx=\"2199.03\" cy=\"75.5589\" r=\"14\" fill=\"#009af9\" fill-rule=\"evenodd\" fill-opacity=\"1\" stroke=\"#000000\" stroke-opacity=\"1\" stroke-width=\"2.4\"/>\n",
       "<circle clip-path=\"url(#clip182)\" cx=\"1643.41\" cy=\"247.208\" r=\"14\" fill=\"#009af9\" fill-rule=\"evenodd\" fill-opacity=\"1\" stroke=\"#000000\" stroke-opacity=\"1\" stroke-width=\"2.4\"/>\n",
       "<circle clip-path=\"url(#clip182)\" cx=\"1550.81\" cy=\"691.478\" r=\"14\" fill=\"#009af9\" fill-rule=\"evenodd\" fill-opacity=\"1\" stroke=\"#000000\" stroke-opacity=\"1\" stroke-width=\"2.4\"/>\n",
       "<circle clip-path=\"url(#clip182)\" cx=\"902.584\" cy=\"671.284\" r=\"14\" fill=\"#009af9\" fill-rule=\"evenodd\" fill-opacity=\"1\" stroke=\"#000000\" stroke-opacity=\"1\" stroke-width=\"2.4\"/>\n",
       "<circle clip-path=\"url(#clip182)\" cx=\"1458.21\" cy=\"610.701\" r=\"14\" fill=\"#009af9\" fill-rule=\"evenodd\" fill-opacity=\"1\" stroke=\"#000000\" stroke-opacity=\"1\" stroke-width=\"2.4\"/>\n",
       "<circle clip-path=\"url(#clip182)\" cx=\"1828.62\" cy=\"489.537\" r=\"14\" fill=\"#009af9\" fill-rule=\"evenodd\" fill-opacity=\"1\" stroke=\"#000000\" stroke-opacity=\"1\" stroke-width=\"2.4\"/>\n",
       "<circle clip-path=\"url(#clip182)\" cx=\"1365.6\" cy=\"469.343\" r=\"14\" fill=\"#009af9\" fill-rule=\"evenodd\" fill-opacity=\"1\" stroke=\"#000000\" stroke-opacity=\"1\" stroke-width=\"2.4\"/>\n",
       "<circle clip-path=\"url(#clip182)\" cx=\"1365.6\" cy=\"752.06\" r=\"14\" fill=\"#009af9\" fill-rule=\"evenodd\" fill-opacity=\"1\" stroke=\"#000000\" stroke-opacity=\"1\" stroke-width=\"2.4\"/>\n",
       "<circle clip-path=\"url(#clip182)\" cx=\"2013.83\" cy=\"348.179\" r=\"14\" fill=\"#009af9\" fill-rule=\"evenodd\" fill-opacity=\"1\" stroke=\"#000000\" stroke-opacity=\"1\" stroke-width=\"2.4\"/>\n",
       "<circle clip-path=\"url(#clip182)\" cx=\"1365.6\" cy=\"812.642\" r=\"14\" fill=\"#009af9\" fill-rule=\"evenodd\" fill-opacity=\"1\" stroke=\"#000000\" stroke-opacity=\"1\" stroke-width=\"2.4\"/>\n",
       "<circle clip-path=\"url(#clip182)\" cx=\"1550.81\" cy=\"610.701\" r=\"14\" fill=\"#009af9\" fill-rule=\"evenodd\" fill-opacity=\"1\" stroke=\"#000000\" stroke-opacity=\"1\" stroke-width=\"2.4\"/>\n",
       "<circle clip-path=\"url(#clip182)\" cx=\"1828.62\" cy=\"368.373\" r=\"14\" fill=\"#009af9\" fill-rule=\"evenodd\" fill-opacity=\"1\" stroke=\"#000000\" stroke-opacity=\"1\" stroke-width=\"2.4\"/>\n",
       "<circle clip-path=\"url(#clip182)\" cx=\"1087.79\" cy=\"731.866\" r=\"14\" fill=\"#009af9\" fill-rule=\"evenodd\" fill-opacity=\"1\" stroke=\"#000000\" stroke-opacity=\"1\" stroke-width=\"2.4\"/>\n",
       "<circle clip-path=\"url(#clip182)\" cx=\"1643.41\" cy=\"166.432\" r=\"14\" fill=\"#009af9\" fill-rule=\"evenodd\" fill-opacity=\"1\" stroke=\"#000000\" stroke-opacity=\"1\" stroke-width=\"2.4\"/>\n",
       "<circle clip-path=\"url(#clip182)\" cx=\"1087.79\" cy=\"812.642\" r=\"14\" fill=\"#009af9\" fill-rule=\"evenodd\" fill-opacity=\"1\" stroke=\"#000000\" stroke-opacity=\"1\" stroke-width=\"2.4\"/>\n",
       "<circle clip-path=\"url(#clip182)\" cx=\"1828.62\" cy=\"529.925\" r=\"14\" fill=\"#009af9\" fill-rule=\"evenodd\" fill-opacity=\"1\" stroke=\"#000000\" stroke-opacity=\"1\" stroke-width=\"2.4\"/>\n",
       "<circle clip-path=\"url(#clip182)\" cx=\"1087.79\" cy=\"772.254\" r=\"14\" fill=\"#009af9\" fill-rule=\"evenodd\" fill-opacity=\"1\" stroke=\"#000000\" stroke-opacity=\"1\" stroke-width=\"2.4\"/>\n",
       "<circle clip-path=\"url(#clip182)\" cx=\"1273\" cy=\"408.761\" r=\"14\" fill=\"#009af9\" fill-rule=\"evenodd\" fill-opacity=\"1\" stroke=\"#000000\" stroke-opacity=\"1\" stroke-width=\"2.4\"/>\n",
       "<circle clip-path=\"url(#clip182)\" cx=\"624.774\" cy=\"974.194\" r=\"14\" fill=\"#009af9\" fill-rule=\"evenodd\" fill-opacity=\"1\" stroke=\"#000000\" stroke-opacity=\"1\" stroke-width=\"2.4\"/>\n",
       "<circle clip-path=\"url(#clip182)\" cx=\"1273\" cy=\"651.09\" r=\"14\" fill=\"#009af9\" fill-rule=\"evenodd\" fill-opacity=\"1\" stroke=\"#000000\" stroke-opacity=\"1\" stroke-width=\"2.4\"/>\n",
       "<circle clip-path=\"url(#clip182)\" cx=\"346.963\" cy=\"913.612\" r=\"14\" fill=\"#009af9\" fill-rule=\"evenodd\" fill-opacity=\"1\" stroke=\"#000000\" stroke-opacity=\"1\" stroke-width=\"2.4\"/>\n",
       "<circle clip-path=\"url(#clip182)\" cx=\"1180.39\" cy=\"752.06\" r=\"14\" fill=\"#009af9\" fill-rule=\"evenodd\" fill-opacity=\"1\" stroke=\"#000000\" stroke-opacity=\"1\" stroke-width=\"2.4\"/>\n",
       "<circle clip-path=\"url(#clip182)\" cx=\"809.981\" cy=\"913.612\" r=\"14\" fill=\"#009af9\" fill-rule=\"evenodd\" fill-opacity=\"1\" stroke=\"#000000\" stroke-opacity=\"1\" stroke-width=\"2.4\"/>\n",
       "<circle clip-path=\"url(#clip182)\" cx=\"1828.62\" cy=\"691.478\" r=\"14\" fill=\"#009af9\" fill-rule=\"evenodd\" fill-opacity=\"1\" stroke=\"#000000\" stroke-opacity=\"1\" stroke-width=\"2.4\"/>\n",
       "<circle clip-path=\"url(#clip182)\" cx=\"902.584\" cy=\"752.06\" r=\"14\" fill=\"#009af9\" fill-rule=\"evenodd\" fill-opacity=\"1\" stroke=\"#000000\" stroke-opacity=\"1\" stroke-width=\"2.4\"/>\n",
       "<circle clip-path=\"url(#clip182)\" cx=\"995.188\" cy=\"731.866\" r=\"14\" fill=\"#009af9\" fill-rule=\"evenodd\" fill-opacity=\"1\" stroke=\"#000000\" stroke-opacity=\"1\" stroke-width=\"2.4\"/>\n",
       "<polyline clip-path=\"url(#clip182)\" style=\"stroke:#e26f46; stroke-linecap:butt; stroke-linejoin:round; stroke-width:8; stroke-opacity:1; fill:none\" points=\"\n",
       "  254.359,1019.39 346.963,989.88 439.566,885.862 532.17,890.745 624.774,896.463 717.377,825.122 809.981,859.495 902.584,763.284 995.188,759.208 1087.79,757.006 \n",
       "  1180.39,662.368 1273,720.334 1365.6,597.957 1458.21,548.307 1550.81,536.17 1643.41,523.017 1736.02,399.982 1828.62,343.024 1921.22,410.58 2013.83,360.674 \n",
       "  2106.43,354.613 2199.03,317.595 2291.64,198.853 \n",
       "  \"/>\n",
       "<polyline clip-path=\"url(#clip182)\" style=\"stroke:#2e8b57; stroke-linecap:butt; stroke-linejoin:round; stroke-width:8; stroke-opacity:1; fill:none\" points=\"\n",
       "  254.359,933.861 346.963,920.007 439.566,928.035 532.17,853.352 624.774,841.326 717.377,795.831 809.981,811.189 902.584,751.98 995.188,697.863 1087.79,742.684 \n",
       "  1180.39,614.056 1273,578.44 1365.6,599.377 1458.21,646.415 1550.81,501.813 1643.41,555.474 1736.02,523.361 1828.62,429.062 1921.22,360.774 2013.83,398.645 \n",
       "  2106.43,301.243 2199.03,290.325 2291.64,291.899 \n",
       "  \"/>\n",
       "</svg>\n"
      ]
     },
     "execution_count": 96,
     "metadata": {},
     "output_type": "execute_result"
    }
   ],
   "source": [
    "scatter(X,Y, legend=false, \n",
    "            xlabel = \"Speed\",\n",
    "            ylabel = \"Dist\",\n",
    "            size = (600,300))\n",
    "plot!(p, Φ(p, θ_ML), lw = 2)\n",
    "plot!(p, Φ(p, θ_MAP), lw = 2, c = :seagreen)"
   ]
  },
  {
   "cell_type": "markdown",
   "metadata": {},
   "source": [
    "### Neural Network"
   ]
  },
  {
   "cell_type": "markdown",
   "metadata": {},
   "source": [
    "Zuletzt wollen wir die Abhängigkeit von `Dist` und `Speed` durch ein neuronales Netz bestimmen.\n",
    "\n",
    "Wir verwenden die ReLu Activation Function."
   ]
  },
  {
   "cell_type": "code",
   "execution_count": 98,
   "metadata": {},
   "outputs": [],
   "source": [
    "σ(z) = max(0,z);"
   ]
  },
  {
   "cell_type": "markdown",
   "metadata": {},
   "source": [
    "Wir definieren das Modell durch ein neuronales Netz von Tiefe 2 und mit inneren Layer, der durch lineare Funktionen $\\mathbb R^1\\to \\mathbb R^2$ und $\\mathbb R^2\\to \\mathbb R^1$ gegeben ist. \n",
    "\n",
    "Dies ist ein sehr simples neuronales Netz, eignet sich daher aber gut um die Funktionsweise zu veranschaulichen."
   ]
  },
  {
   "cell_type": "code",
   "execution_count": 100,
   "metadata": {},
   "outputs": [],
   "source": [
    "function f_NN(x::Number, θ)\n",
    "    A, b = reshape(θ[1:2], 2, 1), θ[3:4]\n",
    "    y = σ.(A * x + b)\n",
    "    \n",
    "    A, b = reshape(θ[5:6], 1, 2), θ[7:7]\n",
    "    z = σ.(A * y + b)\n",
    "    \n",
    "    z[1]\n",
    "end\n",
    "f_NN(X::Vector, θ) = [f_NN(x, θ) for x in X];"
   ]
  },
  {
   "cell_type": "markdown",
   "metadata": {},
   "source": [
    "Da wir für das neuronale Netz keine geschlossene Form für den ERM-Schätzer `θ_ERM` haben, müssen wir `θ_ERM` durch Optimierungsmethoden bestimmen.\n",
    "\n",
    "Wir werden die Blackbox `optimize` Funktion aus dem Package `Optim.jl`."
   ]
  },
  {
   "cell_type": "code",
   "execution_count": 101,
   "metadata": {},
   "outputs": [],
   "source": [
    "R_NN(θ, X, Y) = mean((f_NN(X, θ) - Y).^2)\n",
    "o = optimize(θ -> R_NN(θ, X, Y), rand(7))\n",
    "θ_NN = Optim.minimizer(o);"
   ]
  },
  {
   "cell_type": "markdown",
   "metadata": {},
   "source": [
    "Das neuronale Netz hat nun eine Funktion geschätzt, die wir wieder zusammen mit den Trainingsdaten visualisieren."
   ]
  },
  {
   "cell_type": "code",
   "execution_count": 104,
   "metadata": {},
   "outputs": [
    {
     "data": {
      "image/svg+xml": [
       "<?xml version=\"1.0\" encoding=\"utf-8\"?>\n",
       "<svg xmlns=\"http://www.w3.org/2000/svg\" xmlns:xlink=\"http://www.w3.org/1999/xlink\" width=\"600\" height=\"300\" viewBox=\"0 0 2400 1200\">\n",
       "<defs>\n",
       "  <clipPath id=\"clip220\">\n",
       "    <rect x=\"0\" y=\"0\" width=\"2400\" height=\"1200\"/>\n",
       "  </clipPath>\n",
       "</defs>\n",
       "<path clip-path=\"url(#clip220)\" d=\"\n",
       "M0 1200 L2400 1200 L2400 0 L0 0  Z\n",
       "  \" fill=\"#ffffff\" fill-rule=\"evenodd\" fill-opacity=\"1\"/>\n",
       "<defs>\n",
       "  <clipPath id=\"clip221\">\n",
       "    <rect x=\"480\" y=\"0\" width=\"1681\" height=\"1200\"/>\n",
       "  </clipPath>\n",
       "</defs>\n",
       "<path clip-path=\"url(#clip220)\" d=\"\n",
       "M193.241 1047.7 L2352.76 1047.7 L2352.76 47.2441 L193.241 47.2441  Z\n",
       "  \" fill=\"#ffffff\" fill-rule=\"evenodd\" fill-opacity=\"1\"/>\n",
       "<defs>\n",
       "  <clipPath id=\"clip222\">\n",
       "    <rect x=\"193\" y=\"47\" width=\"2161\" height=\"1001\"/>\n",
       "  </clipPath>\n",
       "</defs>\n",
       "<polyline clip-path=\"url(#clip222)\" style=\"stroke:#000000; stroke-linecap:butt; stroke-linejoin:round; stroke-width:2; stroke-opacity:0.1; fill:none\" points=\"\n",
       "  439.566,1047.7 439.566,47.2441 \n",
       "  \"/>\n",
       "<polyline clip-path=\"url(#clip222)\" style=\"stroke:#000000; stroke-linecap:butt; stroke-linejoin:round; stroke-width:2; stroke-opacity:0.1; fill:none\" points=\"\n",
       "  902.584,1047.7 902.584,47.2441 \n",
       "  \"/>\n",
       "<polyline clip-path=\"url(#clip222)\" style=\"stroke:#000000; stroke-linecap:butt; stroke-linejoin:round; stroke-width:2; stroke-opacity:0.1; fill:none\" points=\"\n",
       "  1365.6,1047.7 1365.6,47.2441 \n",
       "  \"/>\n",
       "<polyline clip-path=\"url(#clip222)\" style=\"stroke:#000000; stroke-linecap:butt; stroke-linejoin:round; stroke-width:2; stroke-opacity:0.1; fill:none\" points=\"\n",
       "  1828.62,1047.7 1828.62,47.2441 \n",
       "  \"/>\n",
       "<polyline clip-path=\"url(#clip222)\" style=\"stroke:#000000; stroke-linecap:butt; stroke-linejoin:round; stroke-width:2; stroke-opacity:0.1; fill:none\" points=\"\n",
       "  2291.64,1047.7 2291.64,47.2441 \n",
       "  \"/>\n",
       "<polyline clip-path=\"url(#clip220)\" style=\"stroke:#000000; stroke-linecap:butt; stroke-linejoin:round; stroke-width:4; stroke-opacity:1; fill:none\" points=\"\n",
       "  193.241,1047.7 2352.76,1047.7 \n",
       "  \"/>\n",
       "<polyline clip-path=\"url(#clip220)\" style=\"stroke:#000000; stroke-linecap:butt; stroke-linejoin:round; stroke-width:4; stroke-opacity:1; fill:none\" points=\"\n",
       "  439.566,1047.7 439.566,1028.8 \n",
       "  \"/>\n",
       "<polyline clip-path=\"url(#clip220)\" style=\"stroke:#000000; stroke-linecap:butt; stroke-linejoin:round; stroke-width:4; stroke-opacity:1; fill:none\" points=\"\n",
       "  902.584,1047.7 902.584,1028.8 \n",
       "  \"/>\n",
       "<polyline clip-path=\"url(#clip220)\" style=\"stroke:#000000; stroke-linecap:butt; stroke-linejoin:round; stroke-width:4; stroke-opacity:1; fill:none\" points=\"\n",
       "  1365.6,1047.7 1365.6,1028.8 \n",
       "  \"/>\n",
       "<polyline clip-path=\"url(#clip220)\" style=\"stroke:#000000; stroke-linecap:butt; stroke-linejoin:round; stroke-width:4; stroke-opacity:1; fill:none\" points=\"\n",
       "  1828.62,1047.7 1828.62,1028.8 \n",
       "  \"/>\n",
       "<polyline clip-path=\"url(#clip220)\" style=\"stroke:#000000; stroke-linecap:butt; stroke-linejoin:round; stroke-width:4; stroke-opacity:1; fill:none\" points=\"\n",
       "  2291.64,1047.7 2291.64,1028.8 \n",
       "  \"/>\n",
       "<path clip-path=\"url(#clip220)\" d=\"M429.844 1075.54 L448.201 1075.54 L448.201 1079.48 L434.127 1079.48 L434.127 1087.95 Q435.145 1087.6 436.164 1087.44 Q437.182 1087.25 438.201 1087.25 Q443.988 1087.25 447.367 1090.42 Q450.747 1093.6 450.747 1099.01 Q450.747 1104.59 447.275 1107.69 Q443.803 1110.77 437.483 1110.77 Q435.307 1110.77 433.039 1110.4 Q430.793 1110.03 428.386 1109.29 L428.386 1104.59 Q430.469 1105.72 432.691 1106.28 Q434.914 1106.84 437.391 1106.84 Q441.395 1106.84 443.733 1104.73 Q446.071 1102.62 446.071 1099.01 Q446.071 1095.4 443.733 1093.29 Q441.395 1091.19 437.391 1091.19 Q435.516 1091.19 433.641 1091.6 Q431.789 1092.02 429.844 1092.9 L429.844 1075.54 Z\" fill=\"#000000\" fill-rule=\"evenodd\" fill-opacity=\"1\" /><path clip-path=\"url(#clip220)\" d=\"M877.272 1106.16 L884.911 1106.16 L884.911 1079.8 L876.601 1081.47 L876.601 1077.21 L884.864 1075.54 L889.54 1075.54 L889.54 1106.16 L897.179 1106.16 L897.179 1110.1 L877.272 1110.1 L877.272 1106.16 Z\" fill=\"#000000\" fill-rule=\"evenodd\" fill-opacity=\"1\" /><path clip-path=\"url(#clip220)\" d=\"M916.623 1078.62 Q913.012 1078.62 911.184 1082.18 Q909.378 1085.72 909.378 1092.85 Q909.378 1099.96 911.184 1103.53 Q913.012 1107.07 916.623 1107.07 Q920.258 1107.07 922.063 1103.53 Q923.892 1099.96 923.892 1092.85 Q923.892 1085.72 922.063 1082.18 Q920.258 1078.62 916.623 1078.62 M916.623 1074.91 Q922.434 1074.91 925.489 1079.52 Q928.568 1084.1 928.568 1092.85 Q928.568 1101.58 925.489 1106.19 Q922.434 1110.77 916.623 1110.77 Q910.813 1110.77 907.735 1106.19 Q904.679 1101.58 904.679 1092.85 Q904.679 1084.1 907.735 1079.52 Q910.813 1074.91 916.623 1074.91 Z\" fill=\"#000000\" fill-rule=\"evenodd\" fill-opacity=\"1\" /><path clip-path=\"url(#clip220)\" d=\"M1340.79 1106.16 L1348.43 1106.16 L1348.43 1079.8 L1340.12 1081.47 L1340.12 1077.21 L1348.38 1075.54 L1353.06 1075.54 L1353.06 1106.16 L1360.69 1106.16 L1360.69 1110.1 L1340.79 1110.1 L1340.79 1106.16 Z\" fill=\"#000000\" fill-rule=\"evenodd\" fill-opacity=\"1\" /><path clip-path=\"url(#clip220)\" d=\"M1370.19 1075.54 L1388.54 1075.54 L1388.54 1079.48 L1374.47 1079.48 L1374.47 1087.95 Q1375.49 1087.6 1376.5 1087.44 Q1377.52 1087.25 1378.54 1087.25 Q1384.33 1087.25 1387.71 1090.42 Q1391.09 1093.6 1391.09 1099.01 Q1391.09 1104.59 1387.62 1107.69 Q1384.14 1110.77 1377.82 1110.77 Q1375.65 1110.77 1373.38 1110.4 Q1371.13 1110.03 1368.73 1109.29 L1368.73 1104.59 Q1370.81 1105.72 1373.03 1106.28 Q1375.25 1106.84 1377.73 1106.84 Q1381.74 1106.84 1384.07 1104.73 Q1386.41 1102.62 1386.41 1099.01 Q1386.41 1095.4 1384.07 1093.29 Q1381.74 1091.19 1377.73 1091.19 Q1375.86 1091.19 1373.98 1091.6 Q1372.13 1092.02 1370.19 1092.9 L1370.19 1075.54 Z\" fill=\"#000000\" fill-rule=\"evenodd\" fill-opacity=\"1\" /><path clip-path=\"url(#clip220)\" d=\"M1807.39 1106.16 L1823.71 1106.16 L1823.71 1110.1 L1801.77 1110.1 L1801.77 1106.16 Q1804.43 1103.41 1809.01 1098.78 Q1813.62 1094.13 1814.8 1092.79 Q1817.05 1090.26 1817.93 1088.53 Q1818.83 1086.77 1818.83 1085.08 Q1818.83 1082.32 1816.88 1080.59 Q1814.96 1078.85 1811.86 1078.85 Q1809.66 1078.85 1807.21 1079.61 Q1804.78 1080.38 1802 1081.93 L1802 1077.21 Q1804.82 1076.07 1807.28 1075.49 Q1809.73 1074.91 1811.77 1074.91 Q1817.14 1074.91 1820.33 1077.6 Q1823.53 1080.29 1823.53 1084.78 Q1823.53 1086.91 1822.72 1088.83 Q1821.93 1090.72 1819.82 1093.32 Q1819.24 1093.99 1816.14 1097.21 Q1813.04 1100.4 1807.39 1106.16 Z\" fill=\"#000000\" fill-rule=\"evenodd\" fill-opacity=\"1\" /><path clip-path=\"url(#clip220)\" d=\"M1843.53 1078.62 Q1839.92 1078.62 1838.09 1082.18 Q1836.28 1085.72 1836.28 1092.85 Q1836.28 1099.96 1838.09 1103.53 Q1839.92 1107.07 1843.53 1107.07 Q1847.16 1107.07 1848.97 1103.53 Q1850.8 1099.96 1850.8 1092.85 Q1850.8 1085.72 1848.97 1082.18 Q1847.16 1078.62 1843.53 1078.62 M1843.53 1074.91 Q1849.34 1074.91 1852.39 1079.52 Q1855.47 1084.1 1855.47 1092.85 Q1855.47 1101.58 1852.39 1106.19 Q1849.34 1110.77 1843.53 1110.77 Q1837.72 1110.77 1834.64 1106.19 Q1831.58 1101.58 1831.58 1092.85 Q1831.58 1084.1 1834.64 1079.52 Q1837.72 1074.91 1843.53 1074.91 Z\" fill=\"#000000\" fill-rule=\"evenodd\" fill-opacity=\"1\" /><path clip-path=\"url(#clip220)\" d=\"M2270.91 1106.16 L2287.23 1106.16 L2287.23 1110.1 L2265.28 1110.1 L2265.28 1106.16 Q2267.95 1103.41 2272.53 1098.78 Q2277.14 1094.13 2278.32 1092.79 Q2280.56 1090.26 2281.44 1088.53 Q2282.34 1086.77 2282.34 1085.08 Q2282.34 1082.32 2280.4 1080.59 Q2278.48 1078.85 2275.38 1078.85 Q2273.18 1078.85 2270.72 1079.61 Q2268.29 1080.38 2265.52 1081.93 L2265.52 1077.21 Q2268.34 1076.07 2270.79 1075.49 Q2273.25 1074.91 2275.28 1074.91 Q2280.65 1074.91 2283.85 1077.6 Q2287.04 1080.29 2287.04 1084.78 Q2287.04 1086.91 2286.23 1088.83 Q2285.45 1090.72 2283.34 1093.32 Q2282.76 1093.99 2279.66 1097.21 Q2276.56 1100.4 2270.91 1106.16 Z\" fill=\"#000000\" fill-rule=\"evenodd\" fill-opacity=\"1\" /><path clip-path=\"url(#clip220)\" d=\"M2297.09 1075.54 L2315.45 1075.54 L2315.45 1079.48 L2301.37 1079.48 L2301.37 1087.95 Q2302.39 1087.6 2303.41 1087.44 Q2304.43 1087.25 2305.45 1087.25 Q2311.23 1087.25 2314.61 1090.42 Q2317.99 1093.6 2317.99 1099.01 Q2317.99 1104.59 2314.52 1107.69 Q2311.05 1110.77 2304.73 1110.77 Q2302.55 1110.77 2300.28 1110.4 Q2298.04 1110.03 2295.63 1109.29 L2295.63 1104.59 Q2297.71 1105.72 2299.94 1106.28 Q2302.16 1106.84 2304.64 1106.84 Q2308.64 1106.84 2310.98 1104.73 Q2313.32 1102.62 2313.32 1099.01 Q2313.32 1095.4 2310.98 1093.29 Q2308.64 1091.19 2304.64 1091.19 Q2302.76 1091.19 2300.89 1091.6 Q2299.03 1092.02 2297.09 1092.9 L2297.09 1075.54 Z\" fill=\"#000000\" fill-rule=\"evenodd\" fill-opacity=\"1\" /><path clip-path=\"url(#clip220)\" d=\"M1206.52 1146.6 L1206.52 1152.87 Q1202.86 1151.12 1199.62 1150.26 Q1196.37 1149.4 1193.35 1149.4 Q1188.1 1149.4 1185.23 1151.44 Q1182.4 1153.48 1182.4 1157.23 Q1182.4 1160.39 1184.28 1162.01 Q1186.19 1163.6 1191.47 1164.59 L1195.35 1165.38 Q1202.55 1166.75 1205.95 1170.22 Q1209.39 1173.66 1209.39 1179.45 Q1209.39 1186.36 1204.74 1189.92 Q1200.13 1193.49 1191.18 1193.49 Q1187.81 1193.49 1183.99 1192.72 Q1180.2 1191.96 1176.13 1190.46 L1176.13 1183.84 Q1180.04 1186.04 1183.8 1187.15 Q1187.55 1188.27 1191.18 1188.27 Q1196.69 1188.27 1199.68 1186.1 Q1202.67 1183.94 1202.67 1179.93 Q1202.67 1176.43 1200.51 1174.45 Q1198.38 1172.48 1193.47 1171.49 L1189.56 1170.73 Q1182.37 1169.3 1179.15 1166.24 Q1175.94 1163.19 1175.94 1157.74 Q1175.94 1151.44 1180.36 1147.81 Q1184.82 1144.18 1192.62 1144.18 Q1195.96 1144.18 1199.43 1144.79 Q1202.9 1145.39 1206.52 1146.6 Z\" fill=\"#000000\" fill-rule=\"evenodd\" fill-opacity=\"1\" /><path clip-path=\"url(#clip220)\" d=\"M1224.83 1187.22 L1224.83 1206.12 L1218.94 1206.12 L1218.94 1156.92 L1224.83 1156.92 L1224.83 1162.33 Q1226.67 1159.14 1229.47 1157.62 Q1232.31 1156.06 1236.22 1156.06 Q1242.71 1156.06 1246.76 1161.21 Q1250.83 1166.37 1250.83 1174.77 Q1250.83 1183.17 1246.76 1188.33 Q1242.71 1193.49 1236.22 1193.49 Q1232.31 1193.49 1229.47 1191.96 Q1226.67 1190.4 1224.83 1187.22 M1244.75 1174.77 Q1244.75 1168.31 1242.08 1164.65 Q1239.44 1160.96 1234.79 1160.96 Q1230.14 1160.96 1227.47 1164.65 Q1224.83 1168.31 1224.83 1174.77 Q1224.83 1181.23 1227.47 1184.92 Q1230.14 1188.59 1234.79 1188.59 Q1239.44 1188.59 1242.08 1184.92 Q1244.75 1181.23 1244.75 1174.77 Z\" fill=\"#000000\" fill-rule=\"evenodd\" fill-opacity=\"1\" /><path clip-path=\"url(#clip220)\" d=\"M1291.03 1173.28 L1291.03 1176.14 L1264.1 1176.14 Q1264.48 1182.19 1267.73 1185.37 Q1271.01 1188.52 1276.83 1188.52 Q1280.21 1188.52 1283.36 1187.69 Q1286.54 1186.87 1289.66 1185.21 L1289.66 1190.75 Q1286.51 1192.09 1283.2 1192.79 Q1279.89 1193.49 1276.48 1193.49 Q1267.95 1193.49 1262.96 1188.52 Q1257.99 1183.56 1257.99 1175.09 Q1257.99 1166.34 1262.7 1161.21 Q1267.44 1156.06 1275.47 1156.06 Q1282.66 1156.06 1286.83 1160.7 Q1291.03 1165.32 1291.03 1173.28 M1285.17 1171.56 Q1285.11 1166.75 1282.47 1163.89 Q1279.86 1161.02 1275.53 1161.02 Q1270.63 1161.02 1267.67 1163.79 Q1264.74 1166.56 1264.29 1171.59 L1285.17 1171.56 Z\" fill=\"#000000\" fill-rule=\"evenodd\" fill-opacity=\"1\" /><path clip-path=\"url(#clip220)\" d=\"M1331.13 1173.28 L1331.13 1176.14 L1304.21 1176.14 Q1304.59 1182.19 1307.83 1185.37 Q1311.11 1188.52 1316.94 1188.52 Q1320.31 1188.52 1323.46 1187.69 Q1326.65 1186.87 1329.76 1185.21 L1329.76 1190.75 Q1326.61 1192.09 1323.3 1192.79 Q1319.99 1193.49 1316.59 1193.49 Q1308.06 1193.49 1303.06 1188.52 Q1298.1 1183.56 1298.1 1175.09 Q1298.1 1166.34 1302.81 1161.21 Q1307.55 1156.06 1315.57 1156.06 Q1322.76 1156.06 1326.93 1160.7 Q1331.13 1165.32 1331.13 1173.28 M1325.28 1171.56 Q1325.21 1166.75 1322.57 1163.89 Q1319.96 1161.02 1315.63 1161.02 Q1310.73 1161.02 1307.77 1163.79 Q1304.84 1166.56 1304.4 1171.59 L1325.28 1171.56 Z\" fill=\"#000000\" fill-rule=\"evenodd\" fill-opacity=\"1\" /><path clip-path=\"url(#clip220)\" d=\"M1364.2 1162.33 L1364.2 1143.04 L1370.06 1143.04 L1370.06 1192.56 L1364.2 1192.56 L1364.2 1187.22 Q1362.36 1190.4 1359.52 1191.96 Q1356.72 1193.49 1352.78 1193.49 Q1346.32 1193.49 1342.24 1188.33 Q1338.2 1183.17 1338.2 1174.77 Q1338.2 1166.37 1342.24 1161.21 Q1346.32 1156.06 1352.78 1156.06 Q1356.72 1156.06 1359.52 1157.62 Q1362.36 1159.14 1364.2 1162.33 M1344.25 1174.77 Q1344.25 1181.23 1346.89 1184.92 Q1349.56 1188.59 1354.21 1188.59 Q1358.86 1188.59 1361.53 1184.92 Q1364.2 1181.23 1364.2 1174.77 Q1364.2 1168.31 1361.53 1164.65 Q1358.86 1160.96 1354.21 1160.96 Q1349.56 1160.96 1346.89 1164.65 Q1344.25 1168.31 1344.25 1174.77 Z\" fill=\"#000000\" fill-rule=\"evenodd\" fill-opacity=\"1\" /><polyline clip-path=\"url(#clip222)\" style=\"stroke:#000000; stroke-linecap:butt; stroke-linejoin:round; stroke-width:2; stroke-opacity:0.1; fill:none\" points=\"\n",
       "  193.241,1037.83 2352.76,1037.83 \n",
       "  \"/>\n",
       "<polyline clip-path=\"url(#clip222)\" style=\"stroke:#000000; stroke-linecap:butt; stroke-linejoin:round; stroke-width:2; stroke-opacity:0.1; fill:none\" points=\"\n",
       "  193.241,830.891 2352.76,830.891 \n",
       "  \"/>\n",
       "<polyline clip-path=\"url(#clip222)\" style=\"stroke:#000000; stroke-linecap:butt; stroke-linejoin:round; stroke-width:2; stroke-opacity:0.1; fill:none\" points=\"\n",
       "  193.241,623.951 2352.76,623.951 \n",
       "  \"/>\n",
       "<polyline clip-path=\"url(#clip222)\" style=\"stroke:#000000; stroke-linecap:butt; stroke-linejoin:round; stroke-width:2; stroke-opacity:0.1; fill:none\" points=\"\n",
       "  193.241,417.011 2352.76,417.011 \n",
       "  \"/>\n",
       "<polyline clip-path=\"url(#clip222)\" style=\"stroke:#000000; stroke-linecap:butt; stroke-linejoin:round; stroke-width:2; stroke-opacity:0.1; fill:none\" points=\"\n",
       "  193.241,210.07 2352.76,210.07 \n",
       "  \"/>\n",
       "<polyline clip-path=\"url(#clip220)\" style=\"stroke:#000000; stroke-linecap:butt; stroke-linejoin:round; stroke-width:4; stroke-opacity:1; fill:none\" points=\"\n",
       "  193.241,1047.7 193.241,47.2441 \n",
       "  \"/>\n",
       "<polyline clip-path=\"url(#clip220)\" style=\"stroke:#000000; stroke-linecap:butt; stroke-linejoin:round; stroke-width:4; stroke-opacity:1; fill:none\" points=\"\n",
       "  193.241,1037.83 212.139,1037.83 \n",
       "  \"/>\n",
       "<polyline clip-path=\"url(#clip220)\" style=\"stroke:#000000; stroke-linecap:butt; stroke-linejoin:round; stroke-width:4; stroke-opacity:1; fill:none\" points=\"\n",
       "  193.241,830.891 212.139,830.891 \n",
       "  \"/>\n",
       "<polyline clip-path=\"url(#clip220)\" style=\"stroke:#000000; stroke-linecap:butt; stroke-linejoin:round; stroke-width:4; stroke-opacity:1; fill:none\" points=\"\n",
       "  193.241,623.951 212.139,623.951 \n",
       "  \"/>\n",
       "<polyline clip-path=\"url(#clip220)\" style=\"stroke:#000000; stroke-linecap:butt; stroke-linejoin:round; stroke-width:4; stroke-opacity:1; fill:none\" points=\"\n",
       "  193.241,417.011 212.139,417.011 \n",
       "  \"/>\n",
       "<polyline clip-path=\"url(#clip220)\" style=\"stroke:#000000; stroke-linecap:butt; stroke-linejoin:round; stroke-width:4; stroke-opacity:1; fill:none\" points=\"\n",
       "  193.241,210.07 212.139,210.07 \n",
       "  \"/>\n",
       "<path clip-path=\"url(#clip220)\" d=\"M145.297 1023.63 Q141.686 1023.63 139.857 1027.2 Q138.051 1030.74 138.051 1037.87 Q138.051 1044.97 139.857 1048.54 Q141.686 1052.08 145.297 1052.08 Q148.931 1052.08 150.736 1048.54 Q152.565 1044.97 152.565 1037.87 Q152.565 1030.74 150.736 1027.2 Q148.931 1023.63 145.297 1023.63 M145.297 1019.93 Q151.107 1019.93 154.162 1024.53 Q157.241 1029.12 157.241 1037.87 Q157.241 1046.59 154.162 1051.2 Q151.107 1055.78 145.297 1055.78 Q139.486 1055.78 136.408 1051.2 Q133.352 1046.59 133.352 1037.87 Q133.352 1029.12 136.408 1024.53 Q139.486 1019.93 145.297 1019.93 Z\" fill=\"#000000\" fill-rule=\"evenodd\" fill-opacity=\"1\" /><path clip-path=\"url(#clip220)\" d=\"M109.163 844.236 L125.482 844.236 L125.482 848.171 L103.538 848.171 L103.538 844.236 Q106.2 841.482 110.783 836.852 Q115.389 832.199 116.57 830.857 Q118.815 828.334 119.695 826.597 Q120.598 824.838 120.598 823.148 Q120.598 820.394 118.653 818.658 Q116.732 816.922 113.63 816.922 Q111.431 816.922 108.977 817.685 Q106.547 818.449 103.769 820 L103.769 815.278 Q106.593 814.144 109.047 813.565 Q111.5 812.986 113.538 812.986 Q118.908 812.986 122.102 815.672 Q125.297 818.357 125.297 822.847 Q125.297 824.977 124.487 826.898 Q123.699 828.796 121.593 831.389 Q121.014 832.06 117.912 835.278 Q114.811 838.472 109.163 844.236 Z\" fill=\"#000000\" fill-rule=\"evenodd\" fill-opacity=\"1\" /><path clip-path=\"url(#clip220)\" d=\"M145.297 816.69 Q141.686 816.69 139.857 820.255 Q138.051 823.797 138.051 830.926 Q138.051 838.033 139.857 841.597 Q141.686 845.139 145.297 845.139 Q148.931 845.139 150.736 841.597 Q152.565 838.033 152.565 830.926 Q152.565 823.797 150.736 820.255 Q148.931 816.69 145.297 816.69 M145.297 812.986 Q151.107 812.986 154.162 817.593 Q157.241 822.176 157.241 830.926 Q157.241 839.653 154.162 844.259 Q151.107 848.843 145.297 848.843 Q139.486 848.843 136.408 844.259 Q133.352 839.653 133.352 830.926 Q133.352 822.176 136.408 817.593 Q139.486 812.986 145.297 812.986 Z\" fill=\"#000000\" fill-rule=\"evenodd\" fill-opacity=\"1\" /><path clip-path=\"url(#clip220)\" d=\"M117.982 610.745 L106.176 629.194 L117.982 629.194 L117.982 610.745 M116.755 606.671 L122.635 606.671 L122.635 629.194 L127.565 629.194 L127.565 633.083 L122.635 633.083 L122.635 641.231 L117.982 641.231 L117.982 633.083 L102.38 633.083 L102.38 628.569 L116.755 606.671 Z\" fill=\"#000000\" fill-rule=\"evenodd\" fill-opacity=\"1\" /><path clip-path=\"url(#clip220)\" d=\"M145.297 609.75 Q141.686 609.75 139.857 613.314 Q138.051 616.856 138.051 623.986 Q138.051 631.092 139.857 634.657 Q141.686 638.199 145.297 638.199 Q148.931 638.199 150.736 634.657 Q152.565 631.092 152.565 623.986 Q152.565 616.856 150.736 613.314 Q148.931 609.75 145.297 609.75 M145.297 606.046 Q151.107 606.046 154.162 610.652 Q157.241 615.236 157.241 623.986 Q157.241 632.712 154.162 637.319 Q151.107 641.902 145.297 641.902 Q139.486 641.902 136.408 637.319 Q133.352 632.712 133.352 623.986 Q133.352 615.236 136.408 610.652 Q139.486 606.046 145.297 606.046 Z\" fill=\"#000000\" fill-rule=\"evenodd\" fill-opacity=\"1\" /><path clip-path=\"url(#clip220)\" d=\"M115.713 415.147 Q112.565 415.147 110.713 417.3 Q108.885 419.453 108.885 423.203 Q108.885 426.929 110.713 429.105 Q112.565 431.258 115.713 431.258 Q118.862 431.258 120.69 429.105 Q122.542 426.929 122.542 423.203 Q122.542 419.453 120.69 417.3 Q118.862 415.147 115.713 415.147 M124.996 400.494 L124.996 404.754 Q123.237 403.92 121.431 403.481 Q119.649 403.041 117.889 403.041 Q113.26 403.041 110.806 406.166 Q108.375 409.291 108.028 415.61 Q109.394 413.596 111.454 412.531 Q113.514 411.443 115.991 411.443 Q121.2 411.443 124.209 414.615 Q127.241 417.763 127.241 423.203 Q127.241 428.527 124.093 431.744 Q120.945 434.962 115.713 434.962 Q109.718 434.962 106.547 430.379 Q103.376 425.772 103.376 417.045 Q103.376 408.851 107.264 403.99 Q111.153 399.106 117.704 399.106 Q119.463 399.106 121.246 399.453 Q123.051 399.8 124.996 400.494 Z\" fill=\"#000000\" fill-rule=\"evenodd\" fill-opacity=\"1\" /><path clip-path=\"url(#clip220)\" d=\"M145.297 402.809 Q141.686 402.809 139.857 406.374 Q138.051 409.916 138.051 417.045 Q138.051 424.152 139.857 427.717 Q141.686 431.258 145.297 431.258 Q148.931 431.258 150.736 427.717 Q152.565 424.152 152.565 417.045 Q152.565 409.916 150.736 406.374 Q148.931 402.809 145.297 402.809 M145.297 399.106 Q151.107 399.106 154.162 403.712 Q157.241 408.295 157.241 417.045 Q157.241 425.772 154.162 430.379 Q151.107 434.962 145.297 434.962 Q139.486 434.962 136.408 430.379 Q133.352 425.772 133.352 417.045 Q133.352 408.295 136.408 403.712 Q139.486 399.106 145.297 399.106 Z\" fill=\"#000000\" fill-rule=\"evenodd\" fill-opacity=\"1\" /><path clip-path=\"url(#clip220)\" d=\"M115.135 210.938 Q111.801 210.938 109.88 212.721 Q107.982 214.503 107.982 217.628 Q107.982 220.753 109.88 222.535 Q111.801 224.318 115.135 224.318 Q118.468 224.318 120.389 222.535 Q122.311 220.73 122.311 217.628 Q122.311 214.503 120.389 212.721 Q118.491 210.938 115.135 210.938 M110.459 208.947 Q107.45 208.207 105.76 206.147 Q104.093 204.086 104.093 201.123 Q104.093 196.98 107.033 194.573 Q109.996 192.165 115.135 192.165 Q120.297 192.165 123.237 194.573 Q126.176 196.98 126.176 201.123 Q126.176 204.086 124.487 206.147 Q122.82 208.207 119.834 208.947 Q123.213 209.734 125.088 212.026 Q126.987 214.318 126.987 217.628 Q126.987 222.651 123.908 225.336 Q120.852 228.021 115.135 228.021 Q109.417 228.021 106.338 225.336 Q103.283 222.651 103.283 217.628 Q103.283 214.318 105.181 212.026 Q107.079 209.734 110.459 208.947 M108.746 201.563 Q108.746 204.248 110.413 205.753 Q112.102 207.258 115.135 207.258 Q118.144 207.258 119.834 205.753 Q121.547 204.248 121.547 201.563 Q121.547 198.878 119.834 197.373 Q118.144 195.869 115.135 195.869 Q112.102 195.869 110.413 197.373 Q108.746 198.878 108.746 201.563 Z\" fill=\"#000000\" fill-rule=\"evenodd\" fill-opacity=\"1\" /><path clip-path=\"url(#clip220)\" d=\"M145.297 195.869 Q141.686 195.869 139.857 199.434 Q138.051 202.975 138.051 210.105 Q138.051 217.211 139.857 220.776 Q141.686 224.318 145.297 224.318 Q148.931 224.318 150.736 220.776 Q152.565 217.211 152.565 210.105 Q152.565 202.975 150.736 199.434 Q148.931 195.869 145.297 195.869 M145.297 192.165 Q151.107 192.165 154.162 196.772 Q157.241 201.355 157.241 210.105 Q157.241 218.832 154.162 223.438 Q151.107 228.021 145.297 228.021 Q139.486 228.021 136.408 223.438 Q133.352 218.832 133.352 210.105 Q133.352 201.355 136.408 196.772 Q139.486 192.165 145.297 192.165 Z\" fill=\"#000000\" fill-rule=\"evenodd\" fill-opacity=\"1\" /><path clip-path=\"url(#clip220)\" d=\"M9.88769 600.976 L46.8406 600.976 L46.8406 593.21 Q46.8406 583.375 42.3846 578.823 Q37.9286 574.24 28.3164 574.24 Q18.7679 574.24 14.3437 578.823 Q9.88769 583.375 9.88769 593.21 L9.88769 600.976 M4.60416 607.405 L4.60416 594.196 Q4.60416 580.383 10.3651 573.921 Q16.0943 567.46 28.3164 567.46 Q40.6022 567.46 46.3632 573.953 Q52.1242 580.446 52.1242 594.196 L52.1242 607.405 L4.60416 607.405 Z\" fill=\"#000000\" fill-rule=\"evenodd\" fill-opacity=\"1\" /><path clip-path=\"url(#clip220)\" d=\"M16.4762 557.466 L16.4762 551.61 L52.1242 551.61 L52.1242 557.466 L16.4762 557.466 M2.59896 557.466 L2.59896 551.61 L10.015 551.61 L10.015 557.466 L2.59896 557.466 Z\" fill=\"#000000\" fill-rule=\"evenodd\" fill-opacity=\"1\" /><path clip-path=\"url(#clip220)\" d=\"M17.5265 516.63 L23.0647 516.63 Q21.7916 519.113 21.155 521.786 Q20.5184 524.46 20.5184 527.325 Q20.5184 531.685 21.8552 533.881 Q23.192 536.046 25.8656 536.046 Q27.9026 536.046 29.0803 534.486 Q30.2261 532.926 31.2765 528.216 L31.7221 526.211 Q33.0589 519.972 35.5097 517.362 Q37.9286 514.72 42.2891 514.72 Q47.2544 514.72 50.1508 518.667 Q53.0472 522.582 53.0472 529.457 Q53.0472 532.322 52.4743 535.441 Q51.9332 538.528 50.8192 541.966 L44.7718 541.966 Q46.4587 538.719 47.318 535.568 Q48.1456 532.417 48.1456 529.33 Q48.1456 525.192 46.7451 522.964 Q45.3129 520.736 42.7347 520.736 Q40.3476 520.736 39.0745 522.359 Q37.8013 523.951 36.6237 529.393 L36.1462 531.43 Q35.0004 536.873 32.6451 539.292 Q30.258 541.711 26.1202 541.711 Q21.0913 541.711 18.3541 538.146 Q15.6168 534.581 15.6168 528.025 Q15.6168 524.778 16.0943 521.914 Q16.5717 519.049 17.5265 516.63 Z\" fill=\"#000000\" fill-rule=\"evenodd\" fill-opacity=\"1\" /><path clip-path=\"url(#clip220)\" d=\"M6.35473 499.602 L16.4762 499.602 L16.4762 487.539 L21.0277 487.539 L21.0277 499.602 L40.3794 499.602 Q44.7399 499.602 45.9813 498.424 Q47.2226 497.215 47.2226 493.554 L47.2226 487.539 L52.1242 487.539 L52.1242 493.554 Q52.1242 500.334 49.6097 502.912 Q47.0634 505.49 40.3794 505.49 L21.0277 505.49 L21.0277 509.787 L16.4762 509.787 L16.4762 505.49 L6.35473 505.49 L6.35473 499.602 Z\" fill=\"#000000\" fill-rule=\"evenodd\" fill-opacity=\"1\" /><circle clip-path=\"url(#clip222)\" cx=\"902.584\" cy=\"851.585\" r=\"14\" fill=\"#009af9\" fill-rule=\"evenodd\" fill-opacity=\"1\" stroke=\"#000000\" stroke-opacity=\"1\" stroke-width=\"2.4\"/>\n",
       "<circle clip-path=\"url(#clip222)\" cx=\"624.774\" cy=\"810.197\" r=\"14\" fill=\"#009af9\" fill-rule=\"evenodd\" fill-opacity=\"1\" stroke=\"#000000\" stroke-opacity=\"1\" stroke-width=\"2.4\"/>\n",
       "<circle clip-path=\"url(#clip222)\" cx=\"1736.02\" cy=\"334.234\" r=\"14\" fill=\"#009af9\" fill-rule=\"evenodd\" fill-opacity=\"1\" stroke=\"#000000\" stroke-opacity=\"1\" stroke-width=\"2.4\"/>\n",
       "<circle clip-path=\"url(#clip222)\" cx=\"1180.39\" cy=\"561.869\" r=\"14\" fill=\"#009af9\" fill-rule=\"evenodd\" fill-opacity=\"1\" stroke=\"#000000\" stroke-opacity=\"1\" stroke-width=\"2.4\"/>\n",
       "<circle clip-path=\"url(#clip222)\" cx=\"1643.41\" cy=\"458.399\" r=\"14\" fill=\"#009af9\" fill-rule=\"evenodd\" fill-opacity=\"1\" stroke=\"#000000\" stroke-opacity=\"1\" stroke-width=\"2.4\"/>\n",
       "<circle clip-path=\"url(#clip222)\" cx=\"2199.03\" cy=\"85.9059\" r=\"14\" fill=\"#009af9\" fill-rule=\"evenodd\" fill-opacity=\"1\" stroke=\"#000000\" stroke-opacity=\"1\" stroke-width=\"2.4\"/>\n",
       "<circle clip-path=\"url(#clip222)\" cx=\"717.377\" cy=\"872.279\" r=\"14\" fill=\"#009af9\" fill-rule=\"evenodd\" fill-opacity=\"1\" stroke=\"#000000\" stroke-opacity=\"1\" stroke-width=\"2.4\"/>\n",
       "<circle clip-path=\"url(#clip222)\" cx=\"346.963\" cy=\"1017.14\" r=\"14\" fill=\"#009af9\" fill-rule=\"evenodd\" fill-opacity=\"1\" stroke=\"#000000\" stroke-opacity=\"1\" stroke-width=\"2.4\"/>\n",
       "<circle clip-path=\"url(#clip222)\" cx=\"1643.41\" cy=\"603.257\" r=\"14\" fill=\"#009af9\" fill-rule=\"evenodd\" fill-opacity=\"1\" stroke=\"#000000\" stroke-opacity=\"1\" stroke-width=\"2.4\"/>\n",
       "<circle clip-path=\"url(#clip222)\" cx=\"1736.02\" cy=\"665.339\" r=\"14\" fill=\"#009af9\" fill-rule=\"evenodd\" fill-opacity=\"1\" stroke=\"#000000\" stroke-opacity=\"1\" stroke-width=\"2.4\"/>\n",
       "<circle clip-path=\"url(#clip222)\" cx=\"2199.03\" cy=\"313.54\" r=\"14\" fill=\"#009af9\" fill-rule=\"evenodd\" fill-opacity=\"1\" stroke=\"#000000\" stroke-opacity=\"1\" stroke-width=\"2.4\"/>\n",
       "<circle clip-path=\"url(#clip222)\" cx=\"1273\" cy=\"768.809\" r=\"14\" fill=\"#009af9\" fill-rule=\"evenodd\" fill-opacity=\"1\" stroke=\"#000000\" stroke-opacity=\"1\" stroke-width=\"2.4\"/>\n",
       "<circle clip-path=\"url(#clip222)\" cx=\"2199.03\" cy=\"75.5589\" r=\"14\" fill=\"#009af9\" fill-rule=\"evenodd\" fill-opacity=\"1\" stroke=\"#000000\" stroke-opacity=\"1\" stroke-width=\"2.4\"/>\n",
       "<circle clip-path=\"url(#clip222)\" cx=\"1643.41\" cy=\"251.458\" r=\"14\" fill=\"#009af9\" fill-rule=\"evenodd\" fill-opacity=\"1\" stroke=\"#000000\" stroke-opacity=\"1\" stroke-width=\"2.4\"/>\n",
       "<circle clip-path=\"url(#clip222)\" cx=\"1550.81\" cy=\"706.727\" r=\"14\" fill=\"#009af9\" fill-rule=\"evenodd\" fill-opacity=\"1\" stroke=\"#000000\" stroke-opacity=\"1\" stroke-width=\"2.4\"/>\n",
       "<circle clip-path=\"url(#clip222)\" cx=\"902.584\" cy=\"686.033\" r=\"14\" fill=\"#009af9\" fill-rule=\"evenodd\" fill-opacity=\"1\" stroke=\"#000000\" stroke-opacity=\"1\" stroke-width=\"2.4\"/>\n",
       "<circle clip-path=\"url(#clip222)\" cx=\"1458.21\" cy=\"623.951\" r=\"14\" fill=\"#009af9\" fill-rule=\"evenodd\" fill-opacity=\"1\" stroke=\"#000000\" stroke-opacity=\"1\" stroke-width=\"2.4\"/>\n",
       "<circle clip-path=\"url(#clip222)\" cx=\"1828.62\" cy=\"499.787\" r=\"14\" fill=\"#009af9\" fill-rule=\"evenodd\" fill-opacity=\"1\" stroke=\"#000000\" stroke-opacity=\"1\" stroke-width=\"2.4\"/>\n",
       "<circle clip-path=\"url(#clip222)\" cx=\"1365.6\" cy=\"479.093\" r=\"14\" fill=\"#009af9\" fill-rule=\"evenodd\" fill-opacity=\"1\" stroke=\"#000000\" stroke-opacity=\"1\" stroke-width=\"2.4\"/>\n",
       "<circle clip-path=\"url(#clip222)\" cx=\"1365.6\" cy=\"768.809\" r=\"14\" fill=\"#009af9\" fill-rule=\"evenodd\" fill-opacity=\"1\" stroke=\"#000000\" stroke-opacity=\"1\" stroke-width=\"2.4\"/>\n",
       "<circle clip-path=\"url(#clip222)\" cx=\"2013.83\" cy=\"354.928\" r=\"14\" fill=\"#009af9\" fill-rule=\"evenodd\" fill-opacity=\"1\" stroke=\"#000000\" stroke-opacity=\"1\" stroke-width=\"2.4\"/>\n",
       "<circle clip-path=\"url(#clip222)\" cx=\"1365.6\" cy=\"830.891\" r=\"14\" fill=\"#009af9\" fill-rule=\"evenodd\" fill-opacity=\"1\" stroke=\"#000000\" stroke-opacity=\"1\" stroke-width=\"2.4\"/>\n",
       "<circle clip-path=\"url(#clip222)\" cx=\"1550.81\" cy=\"623.951\" r=\"14\" fill=\"#009af9\" fill-rule=\"evenodd\" fill-opacity=\"1\" stroke=\"#000000\" stroke-opacity=\"1\" stroke-width=\"2.4\"/>\n",
       "<circle clip-path=\"url(#clip222)\" cx=\"1828.62\" cy=\"375.622\" r=\"14\" fill=\"#009af9\" fill-rule=\"evenodd\" fill-opacity=\"1\" stroke=\"#000000\" stroke-opacity=\"1\" stroke-width=\"2.4\"/>\n",
       "<circle clip-path=\"url(#clip222)\" cx=\"1087.79\" cy=\"748.115\" r=\"14\" fill=\"#009af9\" fill-rule=\"evenodd\" fill-opacity=\"1\" stroke=\"#000000\" stroke-opacity=\"1\" stroke-width=\"2.4\"/>\n",
       "<circle clip-path=\"url(#clip222)\" cx=\"1643.41\" cy=\"168.682\" r=\"14\" fill=\"#009af9\" fill-rule=\"evenodd\" fill-opacity=\"1\" stroke=\"#000000\" stroke-opacity=\"1\" stroke-width=\"2.4\"/>\n",
       "<circle clip-path=\"url(#clip222)\" cx=\"1087.79\" cy=\"830.891\" r=\"14\" fill=\"#009af9\" fill-rule=\"evenodd\" fill-opacity=\"1\" stroke=\"#000000\" stroke-opacity=\"1\" stroke-width=\"2.4\"/>\n",
       "<circle clip-path=\"url(#clip222)\" cx=\"1828.62\" cy=\"541.175\" r=\"14\" fill=\"#009af9\" fill-rule=\"evenodd\" fill-opacity=\"1\" stroke=\"#000000\" stroke-opacity=\"1\" stroke-width=\"2.4\"/>\n",
       "<circle clip-path=\"url(#clip222)\" cx=\"1087.79\" cy=\"789.503\" r=\"14\" fill=\"#009af9\" fill-rule=\"evenodd\" fill-opacity=\"1\" stroke=\"#000000\" stroke-opacity=\"1\" stroke-width=\"2.4\"/>\n",
       "<circle clip-path=\"url(#clip222)\" cx=\"1273\" cy=\"417.011\" r=\"14\" fill=\"#009af9\" fill-rule=\"evenodd\" fill-opacity=\"1\" stroke=\"#000000\" stroke-opacity=\"1\" stroke-width=\"2.4\"/>\n",
       "<circle clip-path=\"url(#clip222)\" cx=\"624.774\" cy=\"996.444\" r=\"14\" fill=\"#009af9\" fill-rule=\"evenodd\" fill-opacity=\"1\" stroke=\"#000000\" stroke-opacity=\"1\" stroke-width=\"2.4\"/>\n",
       "<circle clip-path=\"url(#clip222)\" cx=\"1273\" cy=\"665.339\" r=\"14\" fill=\"#009af9\" fill-rule=\"evenodd\" fill-opacity=\"1\" stroke=\"#000000\" stroke-opacity=\"1\" stroke-width=\"2.4\"/>\n",
       "<circle clip-path=\"url(#clip222)\" cx=\"346.963\" cy=\"934.362\" r=\"14\" fill=\"#009af9\" fill-rule=\"evenodd\" fill-opacity=\"1\" stroke=\"#000000\" stroke-opacity=\"1\" stroke-width=\"2.4\"/>\n",
       "<circle clip-path=\"url(#clip222)\" cx=\"1180.39\" cy=\"768.809\" r=\"14\" fill=\"#009af9\" fill-rule=\"evenodd\" fill-opacity=\"1\" stroke=\"#000000\" stroke-opacity=\"1\" stroke-width=\"2.4\"/>\n",
       "<circle clip-path=\"url(#clip222)\" cx=\"809.981\" cy=\"934.362\" r=\"14\" fill=\"#009af9\" fill-rule=\"evenodd\" fill-opacity=\"1\" stroke=\"#000000\" stroke-opacity=\"1\" stroke-width=\"2.4\"/>\n",
       "<circle clip-path=\"url(#clip222)\" cx=\"1828.62\" cy=\"706.727\" r=\"14\" fill=\"#009af9\" fill-rule=\"evenodd\" fill-opacity=\"1\" stroke=\"#000000\" stroke-opacity=\"1\" stroke-width=\"2.4\"/>\n",
       "<circle clip-path=\"url(#clip222)\" cx=\"902.584\" cy=\"768.809\" r=\"14\" fill=\"#009af9\" fill-rule=\"evenodd\" fill-opacity=\"1\" stroke=\"#000000\" stroke-opacity=\"1\" stroke-width=\"2.4\"/>\n",
       "<circle clip-path=\"url(#clip222)\" cx=\"995.188\" cy=\"748.115\" r=\"14\" fill=\"#009af9\" fill-rule=\"evenodd\" fill-opacity=\"1\" stroke=\"#000000\" stroke-opacity=\"1\" stroke-width=\"2.4\"/>\n",
       "<polyline clip-path=\"url(#clip222)\" style=\"stroke:#e26f46; stroke-linecap:butt; stroke-linejoin:round; stroke-width:8; stroke-opacity:1; fill:none\" points=\"\n",
       "  254.359,1019.39 346.963,988.357 439.566,957.329 532.17,926.3 624.774,895.272 717.377,864.244 809.981,833.216 902.584,802.187 995.188,771.159 1087.79,740.131 \n",
       "  1180.39,709.103 1273,678.075 1365.6,647.046 1458.21,616.018 1550.81,570.255 1643.41,518.977 1736.02,467.699 1828.62,416.421 1921.22,365.142 2013.83,313.864 \n",
       "  2106.43,262.586 2199.03,211.308 2291.64,160.03 \n",
       "  \"/>\n",
       "</svg>\n"
      ]
     },
     "execution_count": 104,
     "metadata": {},
     "output_type": "execute_result"
    }
   ],
   "source": [
    "scatter(X,Y, legend=false, \n",
    "            xlabel = \"Speed\",\n",
    "            ylabel = \"Dist\",\n",
    "            size = (600,300))\n",
    "plot!(p, f_NN(p, θ_NN), lw = 2)"
   ]
  },
  {
   "cell_type": "markdown",
   "metadata": {},
   "source": [
    "## Model Selection"
   ]
  },
  {
   "cell_type": "markdown",
   "metadata": {},
   "source": [
    "Zuletzt wollen wir beurteilen, welches Modell am besten geeignet ist, um die Daten zu beschreiben. Dazu evaluieren wir die Schätzer auf den Testdaten.\n",
    "\n",
    "Zuerst plotten wir alle geschätzten Funktionen zusammen mit den Testdaten."
   ]
  },
  {
   "cell_type": "code",
   "execution_count": 112,
   "metadata": {},
   "outputs": [
    {
     "data": {
      "image/svg+xml": [
       "<?xml version=\"1.0\" encoding=\"utf-8\"?>\n",
       "<svg xmlns=\"http://www.w3.org/2000/svg\" xmlns:xlink=\"http://www.w3.org/1999/xlink\" width=\"600\" height=\"300\" viewBox=\"0 0 2400 1200\">\n",
       "<defs>\n",
       "  <clipPath id=\"clip260\">\n",
       "    <rect x=\"0\" y=\"0\" width=\"2400\" height=\"1200\"/>\n",
       "  </clipPath>\n",
       "</defs>\n",
       "<path clip-path=\"url(#clip260)\" d=\"\n",
       "M0 1200 L2400 1200 L2400 0 L0 0  Z\n",
       "  \" fill=\"#ffffff\" fill-rule=\"evenodd\" fill-opacity=\"1\"/>\n",
       "<defs>\n",
       "  <clipPath id=\"clip261\">\n",
       "    <rect x=\"480\" y=\"0\" width=\"1681\" height=\"1200\"/>\n",
       "  </clipPath>\n",
       "</defs>\n",
       "<path clip-path=\"url(#clip260)\" d=\"\n",
       "M220.509 1047.7 L2352.76 1047.7 L2352.76 47.2441 L220.509 47.2441  Z\n",
       "  \" fill=\"#ffffff\" fill-rule=\"evenodd\" fill-opacity=\"1\"/>\n",
       "<defs>\n",
       "  <clipPath id=\"clip262\">\n",
       "    <rect x=\"220\" y=\"47\" width=\"2133\" height=\"1001\"/>\n",
       "  </clipPath>\n",
       "</defs>\n",
       "<polyline clip-path=\"url(#clip262)\" style=\"stroke:#000000; stroke-linecap:butt; stroke-linejoin:round; stroke-width:2; stroke-opacity:0.1; fill:none\" points=\"\n",
       "  463.724,1047.7 463.724,47.2441 \n",
       "  \"/>\n",
       "<polyline clip-path=\"url(#clip262)\" style=\"stroke:#000000; stroke-linecap:butt; stroke-linejoin:round; stroke-width:2; stroke-opacity:0.1; fill:none\" points=\"\n",
       "  920.896,1047.7 920.896,47.2441 \n",
       "  \"/>\n",
       "<polyline clip-path=\"url(#clip262)\" style=\"stroke:#000000; stroke-linecap:butt; stroke-linejoin:round; stroke-width:2; stroke-opacity:0.1; fill:none\" points=\"\n",
       "  1378.07,1047.7 1378.07,47.2441 \n",
       "  \"/>\n",
       "<polyline clip-path=\"url(#clip262)\" style=\"stroke:#000000; stroke-linecap:butt; stroke-linejoin:round; stroke-width:2; stroke-opacity:0.1; fill:none\" points=\"\n",
       "  1835.24,1047.7 1835.24,47.2441 \n",
       "  \"/>\n",
       "<polyline clip-path=\"url(#clip262)\" style=\"stroke:#000000; stroke-linecap:butt; stroke-linejoin:round; stroke-width:2; stroke-opacity:0.1; fill:none\" points=\"\n",
       "  2292.41,1047.7 2292.41,47.2441 \n",
       "  \"/>\n",
       "<polyline clip-path=\"url(#clip260)\" style=\"stroke:#000000; stroke-linecap:butt; stroke-linejoin:round; stroke-width:4; stroke-opacity:1; fill:none\" points=\"\n",
       "  220.509,1047.7 2352.76,1047.7 \n",
       "  \"/>\n",
       "<polyline clip-path=\"url(#clip260)\" style=\"stroke:#000000; stroke-linecap:butt; stroke-linejoin:round; stroke-width:4; stroke-opacity:1; fill:none\" points=\"\n",
       "  463.724,1047.7 463.724,1028.8 \n",
       "  \"/>\n",
       "<polyline clip-path=\"url(#clip260)\" style=\"stroke:#000000; stroke-linecap:butt; stroke-linejoin:round; stroke-width:4; stroke-opacity:1; fill:none\" points=\"\n",
       "  920.896,1047.7 920.896,1028.8 \n",
       "  \"/>\n",
       "<polyline clip-path=\"url(#clip260)\" style=\"stroke:#000000; stroke-linecap:butt; stroke-linejoin:round; stroke-width:4; stroke-opacity:1; fill:none\" points=\"\n",
       "  1378.07,1047.7 1378.07,1028.8 \n",
       "  \"/>\n",
       "<polyline clip-path=\"url(#clip260)\" style=\"stroke:#000000; stroke-linecap:butt; stroke-linejoin:round; stroke-width:4; stroke-opacity:1; fill:none\" points=\"\n",
       "  1835.24,1047.7 1835.24,1028.8 \n",
       "  \"/>\n",
       "<polyline clip-path=\"url(#clip260)\" style=\"stroke:#000000; stroke-linecap:butt; stroke-linejoin:round; stroke-width:4; stroke-opacity:1; fill:none\" points=\"\n",
       "  2292.41,1047.7 2292.41,1028.8 \n",
       "  \"/>\n",
       "<path clip-path=\"url(#clip260)\" d=\"M454.002 1075.54 L472.359 1075.54 L472.359 1079.48 L458.285 1079.48 L458.285 1087.95 Q459.303 1087.6 460.322 1087.44 Q461.34 1087.25 462.359 1087.25 Q468.146 1087.25 471.525 1090.42 Q474.905 1093.6 474.905 1099.01 Q474.905 1104.59 471.433 1107.69 Q467.961 1110.77 461.641 1110.77 Q459.465 1110.77 457.197 1110.4 Q454.951 1110.03 452.544 1109.29 L452.544 1104.59 Q454.627 1105.72 456.849 1106.28 Q459.072 1106.84 461.549 1106.84 Q465.553 1106.84 467.891 1104.73 Q470.229 1102.62 470.229 1099.01 Q470.229 1095.4 467.891 1093.29 Q465.553 1091.19 461.549 1091.19 Q459.674 1091.19 457.799 1091.6 Q455.947 1092.02 454.002 1092.9 L454.002 1075.54 Z\" fill=\"#000000\" fill-rule=\"evenodd\" fill-opacity=\"1\" /><path clip-path=\"url(#clip260)\" d=\"M895.583 1106.16 L903.222 1106.16 L903.222 1079.8 L894.912 1081.47 L894.912 1077.21 L903.176 1075.54 L907.852 1075.54 L907.852 1106.16 L915.491 1106.16 L915.491 1110.1 L895.583 1110.1 L895.583 1106.16 Z\" fill=\"#000000\" fill-rule=\"evenodd\" fill-opacity=\"1\" /><path clip-path=\"url(#clip260)\" d=\"M934.935 1078.62 Q931.324 1078.62 929.495 1082.18 Q927.69 1085.72 927.69 1092.85 Q927.69 1099.96 929.495 1103.53 Q931.324 1107.07 934.935 1107.07 Q938.569 1107.07 940.375 1103.53 Q942.203 1099.96 942.203 1092.85 Q942.203 1085.72 940.375 1082.18 Q938.569 1078.62 934.935 1078.62 M934.935 1074.91 Q940.745 1074.91 943.801 1079.52 Q946.879 1084.1 946.879 1092.85 Q946.879 1101.58 943.801 1106.19 Q940.745 1110.77 934.935 1110.77 Q929.125 1110.77 926.046 1106.19 Q922.991 1101.58 922.991 1092.85 Q922.991 1084.1 926.046 1079.52 Q929.125 1074.91 934.935 1074.91 Z\" fill=\"#000000\" fill-rule=\"evenodd\" fill-opacity=\"1\" /><path clip-path=\"url(#clip260)\" d=\"M1353.25 1106.16 L1360.89 1106.16 L1360.89 1079.8 L1352.58 1081.47 L1352.58 1077.21 L1360.84 1075.54 L1365.52 1075.54 L1365.52 1106.16 L1373.16 1106.16 L1373.16 1110.1 L1353.25 1110.1 L1353.25 1106.16 Z\" fill=\"#000000\" fill-rule=\"evenodd\" fill-opacity=\"1\" /><path clip-path=\"url(#clip260)\" d=\"M1382.65 1075.54 L1401.01 1075.54 L1401.01 1079.48 L1386.93 1079.48 L1386.93 1087.95 Q1387.95 1087.6 1388.97 1087.44 Q1389.99 1087.25 1391.01 1087.25 Q1396.79 1087.25 1400.17 1090.42 Q1403.55 1093.6 1403.55 1099.01 Q1403.55 1104.59 1400.08 1107.69 Q1396.61 1110.77 1390.29 1110.77 Q1388.11 1110.77 1385.84 1110.4 Q1383.6 1110.03 1381.19 1109.29 L1381.19 1104.59 Q1383.28 1105.72 1385.5 1106.28 Q1387.72 1106.84 1390.2 1106.84 Q1394.2 1106.84 1396.54 1104.73 Q1398.88 1102.62 1398.88 1099.01 Q1398.88 1095.4 1396.54 1093.29 Q1394.2 1091.19 1390.2 1091.19 Q1388.32 1091.19 1386.45 1091.6 Q1384.59 1092.02 1382.65 1092.9 L1382.65 1075.54 Z\" fill=\"#000000\" fill-rule=\"evenodd\" fill-opacity=\"1\" /><path clip-path=\"url(#clip260)\" d=\"M1814.01 1106.16 L1830.33 1106.16 L1830.33 1110.1 L1808.39 1110.1 L1808.39 1106.16 Q1811.05 1103.41 1815.63 1098.78 Q1820.24 1094.13 1821.42 1092.79 Q1823.66 1090.26 1824.54 1088.53 Q1825.45 1086.77 1825.45 1085.08 Q1825.45 1082.32 1823.5 1080.59 Q1821.58 1078.85 1818.48 1078.85 Q1816.28 1078.85 1813.83 1079.61 Q1811.4 1080.38 1808.62 1081.93 L1808.62 1077.21 Q1811.44 1076.07 1813.9 1075.49 Q1816.35 1074.91 1818.39 1074.91 Q1823.76 1074.91 1826.95 1077.6 Q1830.15 1080.29 1830.15 1084.78 Q1830.15 1086.91 1829.34 1088.83 Q1828.55 1090.72 1826.44 1093.32 Q1825.86 1093.99 1822.76 1097.21 Q1819.66 1100.4 1814.01 1106.16 Z\" fill=\"#000000\" fill-rule=\"evenodd\" fill-opacity=\"1\" /><path clip-path=\"url(#clip260)\" d=\"M1850.15 1078.62 Q1846.53 1078.62 1844.71 1082.18 Q1842.9 1085.72 1842.9 1092.85 Q1842.9 1099.96 1844.71 1103.53 Q1846.53 1107.07 1850.15 1107.07 Q1853.78 1107.07 1855.59 1103.53 Q1857.41 1099.96 1857.41 1092.85 Q1857.41 1085.72 1855.59 1082.18 Q1853.78 1078.62 1850.15 1078.62 M1850.15 1074.91 Q1855.96 1074.91 1859.01 1079.52 Q1862.09 1084.1 1862.09 1092.85 Q1862.09 1101.58 1859.01 1106.19 Q1855.96 1110.77 1850.15 1110.77 Q1844.34 1110.77 1841.26 1106.19 Q1838.2 1101.58 1838.2 1092.85 Q1838.2 1084.1 1841.26 1079.52 Q1844.34 1074.91 1850.15 1074.91 Z\" fill=\"#000000\" fill-rule=\"evenodd\" fill-opacity=\"1\" /><path clip-path=\"url(#clip260)\" d=\"M2271.68 1106.16 L2288 1106.16 L2288 1110.1 L2266.06 1110.1 L2266.06 1106.16 Q2268.72 1103.41 2273.3 1098.78 Q2277.91 1094.13 2279.09 1092.79 Q2281.33 1090.26 2282.21 1088.53 Q2283.12 1086.77 2283.12 1085.08 Q2283.12 1082.32 2281.17 1080.59 Q2279.25 1078.85 2276.15 1078.85 Q2273.95 1078.85 2271.5 1079.61 Q2269.06 1080.38 2266.29 1081.93 L2266.29 1077.21 Q2269.11 1076.07 2271.56 1075.49 Q2274.02 1074.91 2276.06 1074.91 Q2281.43 1074.91 2284.62 1077.6 Q2287.81 1080.29 2287.81 1084.78 Q2287.81 1086.91 2287 1088.83 Q2286.22 1090.72 2284.11 1093.32 Q2283.53 1093.99 2280.43 1097.21 Q2277.33 1100.4 2271.68 1106.16 Z\" fill=\"#000000\" fill-rule=\"evenodd\" fill-opacity=\"1\" /><path clip-path=\"url(#clip260)\" d=\"M2297.86 1075.54 L2316.22 1075.54 L2316.22 1079.48 L2302.14 1079.48 L2302.14 1087.95 Q2303.16 1087.6 2304.18 1087.44 Q2305.2 1087.25 2306.22 1087.25 Q2312 1087.25 2315.38 1090.42 Q2318.76 1093.6 2318.76 1099.01 Q2318.76 1104.59 2315.29 1107.69 Q2311.82 1110.77 2305.5 1110.77 Q2303.32 1110.77 2301.06 1110.4 Q2298.81 1110.03 2296.4 1109.29 L2296.4 1104.59 Q2298.49 1105.72 2300.71 1106.28 Q2302.93 1106.84 2305.41 1106.84 Q2309.41 1106.84 2311.75 1104.73 Q2314.09 1102.62 2314.09 1099.01 Q2314.09 1095.4 2311.75 1093.29 Q2309.41 1091.19 2305.41 1091.19 Q2303.53 1091.19 2301.66 1091.6 Q2299.81 1092.02 2297.86 1092.9 L2297.86 1075.54 Z\" fill=\"#000000\" fill-rule=\"evenodd\" fill-opacity=\"1\" /><path clip-path=\"url(#clip260)\" d=\"M1220.16 1146.6 L1220.16 1152.87 Q1216.5 1151.12 1213.25 1150.26 Q1210.01 1149.4 1206.98 1149.4 Q1201.73 1149.4 1198.87 1151.44 Q1196.03 1153.48 1196.03 1157.23 Q1196.03 1160.39 1197.91 1162.01 Q1199.82 1163.6 1205.1 1164.59 L1208.99 1165.38 Q1216.18 1166.75 1219.59 1170.22 Q1223.02 1173.66 1223.02 1179.45 Q1223.02 1186.36 1218.38 1189.92 Q1213.76 1193.49 1204.82 1193.49 Q1201.44 1193.49 1197.62 1192.72 Q1193.84 1191.96 1189.76 1190.46 L1189.76 1183.84 Q1193.68 1186.04 1197.43 1187.15 Q1201.19 1188.27 1204.82 1188.27 Q1210.32 1188.27 1213.32 1186.1 Q1216.31 1183.94 1216.31 1179.93 Q1216.31 1176.43 1214.14 1174.45 Q1212.01 1172.48 1207.11 1171.49 L1203.19 1170.73 Q1196 1169.3 1192.79 1166.24 Q1189.57 1163.19 1189.57 1157.74 Q1189.57 1151.44 1194 1147.81 Q1198.45 1144.18 1206.25 1144.18 Q1209.59 1144.18 1213.06 1144.79 Q1216.53 1145.39 1220.16 1146.6 Z\" fill=\"#000000\" fill-rule=\"evenodd\" fill-opacity=\"1\" /><path clip-path=\"url(#clip260)\" d=\"M1238.46 1187.22 L1238.46 1206.12 L1232.57 1206.12 L1232.57 1156.92 L1238.46 1156.92 L1238.46 1162.33 Q1240.31 1159.14 1243.11 1157.62 Q1245.94 1156.06 1249.85 1156.06 Q1256.35 1156.06 1260.39 1161.21 Q1264.46 1166.37 1264.46 1174.77 Q1264.46 1183.17 1260.39 1188.33 Q1256.35 1193.49 1249.85 1193.49 Q1245.94 1193.49 1243.11 1191.96 Q1240.31 1190.4 1238.46 1187.22 M1258.38 1174.77 Q1258.38 1168.31 1255.71 1164.65 Q1253.07 1160.96 1248.42 1160.96 Q1243.78 1160.96 1241.1 1164.65 Q1238.46 1168.31 1238.46 1174.77 Q1238.46 1181.23 1241.1 1184.92 Q1243.78 1188.59 1248.42 1188.59 Q1253.07 1188.59 1255.71 1184.92 Q1258.38 1181.23 1258.38 1174.77 Z\" fill=\"#000000\" fill-rule=\"evenodd\" fill-opacity=\"1\" /><path clip-path=\"url(#clip260)\" d=\"M1304.66 1173.28 L1304.66 1176.14 L1277.74 1176.14 Q1278.12 1182.19 1281.37 1185.37 Q1284.64 1188.52 1290.47 1188.52 Q1293.84 1188.52 1296.99 1187.69 Q1300.18 1186.87 1303.29 1185.21 L1303.29 1190.75 Q1300.14 1192.09 1296.83 1192.79 Q1293.52 1193.49 1290.12 1193.49 Q1281.59 1193.49 1276.59 1188.52 Q1271.63 1183.56 1271.63 1175.09 Q1271.63 1166.34 1276.34 1161.21 Q1281.08 1156.06 1289.1 1156.06 Q1296.29 1156.06 1300.46 1160.7 Q1304.66 1165.32 1304.66 1173.28 M1298.81 1171.56 Q1298.74 1166.75 1296.1 1163.89 Q1293.49 1161.02 1289.16 1161.02 Q1284.26 1161.02 1281.3 1163.79 Q1278.37 1166.56 1277.93 1171.59 L1298.81 1171.56 Z\" fill=\"#000000\" fill-rule=\"evenodd\" fill-opacity=\"1\" /><path clip-path=\"url(#clip260)\" d=\"M1344.77 1173.28 L1344.77 1176.14 L1317.84 1176.14 Q1318.22 1182.19 1321.47 1185.37 Q1324.75 1188.52 1330.57 1188.52 Q1333.95 1188.52 1337.1 1187.69 Q1340.28 1186.87 1343.4 1185.21 L1343.4 1190.75 Q1340.25 1192.09 1336.94 1192.79 Q1333.63 1193.49 1330.22 1193.49 Q1321.69 1193.49 1316.69 1188.52 Q1311.73 1183.56 1311.73 1175.09 Q1311.73 1166.34 1316.44 1161.21 Q1321.18 1156.06 1329.2 1156.06 Q1336.4 1156.06 1340.57 1160.7 Q1344.77 1165.32 1344.77 1173.28 M1338.91 1171.56 Q1338.85 1166.75 1336.21 1163.89 Q1333.6 1161.02 1329.27 1161.02 Q1324.37 1161.02 1321.41 1163.79 Q1318.48 1166.56 1318.03 1171.59 L1338.91 1171.56 Z\" fill=\"#000000\" fill-rule=\"evenodd\" fill-opacity=\"1\" /><path clip-path=\"url(#clip260)\" d=\"M1377.84 1162.33 L1377.84 1143.04 L1383.69 1143.04 L1383.69 1192.56 L1377.84 1192.56 L1377.84 1187.22 Q1375.99 1190.4 1373.16 1191.96 Q1370.36 1193.49 1366.41 1193.49 Q1359.95 1193.49 1355.88 1188.33 Q1351.83 1183.17 1351.83 1174.77 Q1351.83 1166.37 1355.88 1161.21 Q1359.95 1156.06 1366.41 1156.06 Q1370.36 1156.06 1373.16 1157.62 Q1375.99 1159.14 1377.84 1162.33 M1357.88 1174.77 Q1357.88 1181.23 1360.52 1184.92 Q1363.2 1188.59 1367.84 1188.59 Q1372.49 1188.59 1375.16 1184.92 Q1377.84 1181.23 1377.84 1174.77 Q1377.84 1168.31 1375.16 1164.65 Q1372.49 1160.96 1367.84 1160.96 Q1363.2 1160.96 1360.52 1164.65 Q1357.88 1168.31 1357.88 1174.77 Z\" fill=\"#000000\" fill-rule=\"evenodd\" fill-opacity=\"1\" /><polyline clip-path=\"url(#clip262)\" style=\"stroke:#000000; stroke-linecap:butt; stroke-linejoin:round; stroke-width:2; stroke-opacity:0.1; fill:none\" points=\"\n",
       "  220.509,987.494 2352.76,987.494 \n",
       "  \"/>\n",
       "<polyline clip-path=\"url(#clip262)\" style=\"stroke:#000000; stroke-linecap:butt; stroke-linejoin:round; stroke-width:2; stroke-opacity:0.1; fill:none\" points=\"\n",
       "  220.509,797.507 2352.76,797.507 \n",
       "  \"/>\n",
       "<polyline clip-path=\"url(#clip262)\" style=\"stroke:#000000; stroke-linecap:butt; stroke-linejoin:round; stroke-width:2; stroke-opacity:0.1; fill:none\" points=\"\n",
       "  220.509,607.521 2352.76,607.521 \n",
       "  \"/>\n",
       "<polyline clip-path=\"url(#clip262)\" style=\"stroke:#000000; stroke-linecap:butt; stroke-linejoin:round; stroke-width:2; stroke-opacity:0.1; fill:none\" points=\"\n",
       "  220.509,417.535 2352.76,417.535 \n",
       "  \"/>\n",
       "<polyline clip-path=\"url(#clip262)\" style=\"stroke:#000000; stroke-linecap:butt; stroke-linejoin:round; stroke-width:2; stroke-opacity:0.1; fill:none\" points=\"\n",
       "  220.509,227.548 2352.76,227.548 \n",
       "  \"/>\n",
       "<polyline clip-path=\"url(#clip260)\" style=\"stroke:#000000; stroke-linecap:butt; stroke-linejoin:round; stroke-width:4; stroke-opacity:1; fill:none\" points=\"\n",
       "  220.509,1047.7 220.509,47.2441 \n",
       "  \"/>\n",
       "<polyline clip-path=\"url(#clip260)\" style=\"stroke:#000000; stroke-linecap:butt; stroke-linejoin:round; stroke-width:4; stroke-opacity:1; fill:none\" points=\"\n",
       "  220.509,987.494 239.407,987.494 \n",
       "  \"/>\n",
       "<polyline clip-path=\"url(#clip260)\" style=\"stroke:#000000; stroke-linecap:butt; stroke-linejoin:round; stroke-width:4; stroke-opacity:1; fill:none\" points=\"\n",
       "  220.509,797.507 239.407,797.507 \n",
       "  \"/>\n",
       "<polyline clip-path=\"url(#clip260)\" style=\"stroke:#000000; stroke-linecap:butt; stroke-linejoin:round; stroke-width:4; stroke-opacity:1; fill:none\" points=\"\n",
       "  220.509,607.521 239.407,607.521 \n",
       "  \"/>\n",
       "<polyline clip-path=\"url(#clip260)\" style=\"stroke:#000000; stroke-linecap:butt; stroke-linejoin:round; stroke-width:4; stroke-opacity:1; fill:none\" points=\"\n",
       "  220.509,417.535 239.407,417.535 \n",
       "  \"/>\n",
       "<polyline clip-path=\"url(#clip260)\" style=\"stroke:#000000; stroke-linecap:butt; stroke-linejoin:round; stroke-width:4; stroke-opacity:1; fill:none\" points=\"\n",
       "  220.509,227.548 239.407,227.548 \n",
       "  \"/>\n",
       "<path clip-path=\"url(#clip260)\" d=\"M172.565 973.293 Q168.954 973.293 167.125 976.857 Q165.32 980.399 165.32 987.529 Q165.32 994.635 167.125 998.2 Q168.954 1001.74 172.565 1001.74 Q176.199 1001.74 178.005 998.2 Q179.833 994.635 179.833 987.529 Q179.833 980.399 178.005 976.857 Q176.199 973.293 172.565 973.293 M172.565 969.589 Q178.375 969.589 181.431 974.195 Q184.509 978.779 184.509 987.529 Q184.509 996.256 181.431 1000.86 Q178.375 1005.45 172.565 1005.45 Q166.755 1005.45 163.676 1000.86 Q160.621 996.256 160.621 987.529 Q160.621 978.779 163.676 974.195 Q166.755 969.589 172.565 969.589 Z\" fill=\"#000000\" fill-rule=\"evenodd\" fill-opacity=\"1\" /><path clip-path=\"url(#clip260)\" d=\"M137.426 810.852 L153.746 810.852 L153.746 814.787 L131.801 814.787 L131.801 810.852 Q134.463 808.098 139.047 803.468 Q143.653 798.815 144.834 797.473 Q147.079 794.95 147.959 793.214 Q148.861 791.454 148.861 789.764 Q148.861 787.01 146.917 785.274 Q144.996 783.538 141.894 783.538 Q139.695 783.538 137.241 784.302 Q134.811 785.065 132.033 786.616 L132.033 781.894 Q134.857 780.76 137.311 780.181 Q139.764 779.603 141.801 779.603 Q147.172 779.603 150.366 782.288 Q153.56 784.973 153.56 789.464 Q153.56 791.593 152.75 793.514 Q151.963 795.413 149.857 798.005 Q149.278 798.676 146.176 801.894 Q143.074 805.088 137.426 810.852 Z\" fill=\"#000000\" fill-rule=\"evenodd\" fill-opacity=\"1\" /><path clip-path=\"url(#clip260)\" d=\"M163.607 780.227 L181.963 780.227 L181.963 784.163 L167.889 784.163 L167.889 792.635 Q168.908 792.288 169.926 792.126 Q170.945 791.94 171.963 791.94 Q177.75 791.94 181.13 795.112 Q184.509 798.283 184.509 803.7 Q184.509 809.278 181.037 812.38 Q177.565 815.459 171.246 815.459 Q169.07 815.459 166.801 815.088 Q164.556 814.718 162.148 813.977 L162.148 809.278 Q164.232 810.413 166.454 810.968 Q168.676 811.524 171.153 811.524 Q175.158 811.524 177.495 809.417 Q179.833 807.311 179.833 803.7 Q179.833 800.089 177.495 797.982 Q175.158 795.876 171.153 795.876 Q169.278 795.876 167.403 796.292 Q165.551 796.709 163.607 797.589 L163.607 780.227 Z\" fill=\"#000000\" fill-rule=\"evenodd\" fill-opacity=\"1\" /><path clip-path=\"url(#clip260)\" d=\"M132.449 590.241 L150.806 590.241 L150.806 594.176 L136.732 594.176 L136.732 602.648 Q137.75 602.301 138.769 602.139 Q139.787 601.954 140.806 601.954 Q146.593 601.954 149.972 605.125 Q153.352 608.296 153.352 613.713 Q153.352 619.292 149.88 622.394 Q146.408 625.472 140.088 625.472 Q137.912 625.472 135.644 625.102 Q133.399 624.732 130.991 623.991 L130.991 619.292 Q133.074 620.426 135.297 620.982 Q137.519 621.537 139.996 621.537 Q144 621.537 146.338 619.431 Q148.676 617.324 148.676 613.713 Q148.676 610.102 146.338 607.996 Q144 605.889 139.996 605.889 Q138.121 605.889 136.246 606.306 Q134.394 606.722 132.449 607.602 L132.449 590.241 Z\" fill=\"#000000\" fill-rule=\"evenodd\" fill-opacity=\"1\" /><path clip-path=\"url(#clip260)\" d=\"M172.565 593.32 Q168.954 593.32 167.125 596.885 Q165.32 600.426 165.32 607.556 Q165.32 614.662 167.125 618.227 Q168.954 621.769 172.565 621.769 Q176.199 621.769 178.005 618.227 Q179.833 614.662 179.833 607.556 Q179.833 600.426 178.005 596.885 Q176.199 593.32 172.565 593.32 M172.565 589.616 Q178.375 589.616 181.431 594.222 Q184.509 598.806 184.509 607.556 Q184.509 616.283 181.431 620.889 Q178.375 625.472 172.565 625.472 Q166.755 625.472 163.676 620.889 Q160.621 616.283 160.621 607.556 Q160.621 598.806 163.676 594.222 Q166.755 589.616 172.565 589.616 Z\" fill=\"#000000\" fill-rule=\"evenodd\" fill-opacity=\"1\" /><path clip-path=\"url(#clip260)\" d=\"M132.218 400.255 L154.44 400.255 L154.44 402.245 L141.894 434.815 L137.01 434.815 L148.815 404.19 L132.218 404.19 L132.218 400.255 Z\" fill=\"#000000\" fill-rule=\"evenodd\" fill-opacity=\"1\" /><path clip-path=\"url(#clip260)\" d=\"M163.607 400.255 L181.963 400.255 L181.963 404.19 L167.889 404.19 L167.889 412.662 Q168.908 412.315 169.926 412.153 Q170.945 411.967 171.963 411.967 Q177.75 411.967 181.13 415.139 Q184.509 418.31 184.509 423.727 Q184.509 429.305 181.037 432.407 Q177.565 435.486 171.246 435.486 Q169.07 435.486 166.801 435.115 Q164.556 434.745 162.148 434.004 L162.148 429.305 Q164.232 430.44 166.454 430.995 Q168.676 431.551 171.153 431.551 Q175.158 431.551 177.495 429.444 Q179.833 427.338 179.833 423.727 Q179.833 420.116 177.495 418.009 Q175.158 415.903 171.153 415.903 Q169.278 415.903 167.403 416.319 Q165.551 416.736 163.607 417.616 L163.607 400.255 Z\" fill=\"#000000\" fill-rule=\"evenodd\" fill-opacity=\"1\" /><path clip-path=\"url(#clip260)\" d=\"M103.051 240.893 L110.69 240.893 L110.69 214.527 L102.38 216.194 L102.38 211.935 L110.644 210.268 L115.32 210.268 L115.32 240.893 L122.959 240.893 L122.959 244.828 L103.051 244.828 L103.051 240.893 Z\" fill=\"#000000\" fill-rule=\"evenodd\" fill-opacity=\"1\" /><path clip-path=\"url(#clip260)\" d=\"M142.403 213.347 Q138.792 213.347 136.963 216.912 Q135.158 220.453 135.158 227.583 Q135.158 234.689 136.963 238.254 Q138.792 241.796 142.403 241.796 Q146.037 241.796 147.843 238.254 Q149.672 234.689 149.672 227.583 Q149.672 220.453 147.843 216.912 Q146.037 213.347 142.403 213.347 M142.403 209.643 Q148.213 209.643 151.269 214.25 Q154.347 218.833 154.347 227.583 Q154.347 236.31 151.269 240.916 Q148.213 245.499 142.403 245.499 Q136.593 245.499 133.514 240.916 Q130.459 236.31 130.459 227.583 Q130.459 218.833 133.514 214.25 Q136.593 209.643 142.403 209.643 Z\" fill=\"#000000\" fill-rule=\"evenodd\" fill-opacity=\"1\" /><path clip-path=\"url(#clip260)\" d=\"M172.565 213.347 Q168.954 213.347 167.125 216.912 Q165.32 220.453 165.32 227.583 Q165.32 234.689 167.125 238.254 Q168.954 241.796 172.565 241.796 Q176.199 241.796 178.005 238.254 Q179.833 234.689 179.833 227.583 Q179.833 220.453 178.005 216.912 Q176.199 213.347 172.565 213.347 M172.565 209.643 Q178.375 209.643 181.431 214.25 Q184.509 218.833 184.509 227.583 Q184.509 236.31 181.431 240.916 Q178.375 245.499 172.565 245.499 Q166.755 245.499 163.676 240.916 Q160.621 236.31 160.621 227.583 Q160.621 218.833 163.676 214.25 Q166.755 209.643 172.565 209.643 Z\" fill=\"#000000\" fill-rule=\"evenodd\" fill-opacity=\"1\" /><path clip-path=\"url(#clip260)\" d=\"M9.88769 600.976 L46.8406 600.976 L46.8406 593.21 Q46.8406 583.375 42.3846 578.823 Q37.9286 574.24 28.3164 574.24 Q18.7679 574.24 14.3437 578.823 Q9.88769 583.375 9.88769 593.21 L9.88769 600.976 M4.60416 607.405 L4.60416 594.196 Q4.60416 580.383 10.3651 573.921 Q16.0943 567.46 28.3164 567.46 Q40.6022 567.46 46.3632 573.953 Q52.1242 580.446 52.1242 594.196 L52.1242 607.405 L4.60416 607.405 Z\" fill=\"#000000\" fill-rule=\"evenodd\" fill-opacity=\"1\" /><path clip-path=\"url(#clip260)\" d=\"M16.4762 557.466 L16.4762 551.61 L52.1242 551.61 L52.1242 557.466 L16.4762 557.466 M2.59896 557.466 L2.59896 551.61 L10.015 551.61 L10.015 557.466 L2.59896 557.466 Z\" fill=\"#000000\" fill-rule=\"evenodd\" fill-opacity=\"1\" /><path clip-path=\"url(#clip260)\" d=\"M17.5265 516.63 L23.0647 516.63 Q21.7916 519.113 21.155 521.786 Q20.5184 524.46 20.5184 527.325 Q20.5184 531.685 21.8552 533.881 Q23.192 536.046 25.8656 536.046 Q27.9026 536.046 29.0803 534.486 Q30.2261 532.926 31.2765 528.216 L31.7221 526.211 Q33.0589 519.972 35.5097 517.362 Q37.9286 514.72 42.2891 514.72 Q47.2544 514.72 50.1508 518.667 Q53.0472 522.582 53.0472 529.457 Q53.0472 532.322 52.4743 535.441 Q51.9332 538.528 50.8192 541.966 L44.7718 541.966 Q46.4587 538.719 47.318 535.568 Q48.1456 532.417 48.1456 529.33 Q48.1456 525.192 46.7451 522.964 Q45.3129 520.736 42.7347 520.736 Q40.3476 520.736 39.0745 522.359 Q37.8013 523.951 36.6237 529.393 L36.1462 531.43 Q35.0004 536.873 32.6451 539.292 Q30.258 541.711 26.1202 541.711 Q21.0913 541.711 18.3541 538.146 Q15.6168 534.581 15.6168 528.025 Q15.6168 524.778 16.0943 521.914 Q16.5717 519.049 17.5265 516.63 Z\" fill=\"#000000\" fill-rule=\"evenodd\" fill-opacity=\"1\" /><path clip-path=\"url(#clip260)\" d=\"M6.35473 499.602 L16.4762 499.602 L16.4762 487.539 L21.0277 487.539 L21.0277 499.602 L40.3794 499.602 Q44.7399 499.602 45.9813 498.424 Q47.2226 497.215 47.2226 493.554 L47.2226 487.539 L52.1242 487.539 L52.1242 493.554 Q52.1242 500.334 49.6097 502.912 Q47.0634 505.49 40.3794 505.49 L21.0277 505.49 L21.0277 509.787 L16.4762 509.787 L16.4762 505.49 L6.35473 505.49 L6.35473 499.602 Z\" fill=\"#000000\" fill-rule=\"evenodd\" fill-opacity=\"1\" /><circle clip-path=\"url(#clip262)\" cx=\"1012.33\" cy=\"858.303\" r=\"14\" fill=\"#009af9\" fill-rule=\"evenodd\" fill-opacity=\"1\" stroke=\"#000000\" stroke-opacity=\"1\" stroke-width=\"2.4\"/>\n",
       "<circle clip-path=\"url(#clip262)\" cx=\"1103.76\" cy=\"881.102\" r=\"14\" fill=\"#009af9\" fill-rule=\"evenodd\" fill-opacity=\"1\" stroke=\"#000000\" stroke-opacity=\"1\" stroke-width=\"2.4\"/>\n",
       "<circle clip-path=\"url(#clip262)\" cx=\"1195.2\" cy=\"729.112\" r=\"14\" fill=\"#009af9\" fill-rule=\"evenodd\" fill-opacity=\"1\" stroke=\"#000000\" stroke-opacity=\"1\" stroke-width=\"2.4\"/>\n",
       "<circle clip-path=\"url(#clip262)\" cx=\"1195.2\" cy=\"729.112\" r=\"14\" fill=\"#009af9\" fill-rule=\"evenodd\" fill-opacity=\"1\" stroke=\"#000000\" stroke-opacity=\"1\" stroke-width=\"2.4\"/>\n",
       "<circle clip-path=\"url(#clip262)\" cx=\"1286.63\" cy=\"379.537\" r=\"14\" fill=\"#009af9\" fill-rule=\"evenodd\" fill-opacity=\"1\" stroke=\"#000000\" stroke-opacity=\"1\" stroke-width=\"2.4\"/>\n",
       "<circle clip-path=\"url(#clip262)\" cx=\"1469.5\" cy=\"744.311\" r=\"14\" fill=\"#009af9\" fill-rule=\"evenodd\" fill-opacity=\"1\" stroke=\"#000000\" stroke-opacity=\"1\" stroke-width=\"2.4\"/>\n",
       "<circle clip-path=\"url(#clip262)\" cx=\"1560.94\" cy=\"607.521\" r=\"14\" fill=\"#009af9\" fill-rule=\"evenodd\" fill-opacity=\"1\" stroke=\"#000000\" stroke-opacity=\"1\" stroke-width=\"2.4\"/>\n",
       "<circle clip-path=\"url(#clip262)\" cx=\"1743.8\" cy=\"637.919\" r=\"14\" fill=\"#009af9\" fill-rule=\"evenodd\" fill-opacity=\"1\" stroke=\"#000000\" stroke-opacity=\"1\" stroke-width=\"2.4\"/>\n",
       "<circle clip-path=\"url(#clip262)\" cx=\"1835.24\" cy=\"561.924\" r=\"14\" fill=\"#009af9\" fill-rule=\"evenodd\" fill-opacity=\"1\" stroke=\"#000000\" stroke-opacity=\"1\" stroke-width=\"2.4\"/>\n",
       "<circle clip-path=\"url(#clip262)\" cx=\"2109.54\" cy=\"577.123\" r=\"14\" fill=\"#009af9\" fill-rule=\"evenodd\" fill-opacity=\"1\" stroke=\"#000000\" stroke-opacity=\"1\" stroke-width=\"2.4\"/>\n",
       "<circle clip-path=\"url(#clip262)\" cx=\"2200.98\" cy=\"75.5589\" r=\"14\" fill=\"#009af9\" fill-rule=\"evenodd\" fill-opacity=\"1\" stroke=\"#000000\" stroke-opacity=\"1\" stroke-width=\"2.4\"/>\n",
       "<circle clip-path=\"url(#clip262)\" cx=\"2292.41\" cy=\"341.54\" r=\"14\" fill=\"#009af9\" fill-rule=\"evenodd\" fill-opacity=\"1\" stroke=\"#000000\" stroke-opacity=\"1\" stroke-width=\"2.4\"/>\n",
       "<polyline clip-path=\"url(#clip262)\" style=\"stroke:#e26f46; stroke-linecap:butt; stroke-linejoin:round; stroke-width:8; stroke-opacity:1; fill:none\" points=\"\n",
       "  280.856,1014.78 372.29,986.622 463.724,958.468 555.159,930.314 646.593,902.16 738.027,874.006 829.461,845.853 920.896,817.699 1012.33,789.545 1103.76,761.391 \n",
       "  1195.2,733.237 1286.63,705.083 1378.07,676.929 1469.5,648.776 1560.94,620.622 1652.37,592.468 1743.8,564.314 1835.24,536.16 1926.67,508.006 2018.11,479.853 \n",
       "  2109.54,451.699 2200.98,423.545 2292.41,395.391 \n",
       "  \"/>\n",
       "<polyline clip-path=\"url(#clip262)\" style=\"stroke:#3da44d; stroke-linecap:butt; stroke-linejoin:round; stroke-width:8; stroke-opacity:1; fill:none\" points=\"\n",
       "  280.856,955.328 372.29,931.542 463.724,907.756 555.159,883.97 646.593,860.184 738.027,836.398 829.461,812.612 920.896,788.826 1012.33,765.04 1103.76,741.254 \n",
       "  1195.2,717.468 1286.63,693.682 1378.07,669.896 1469.5,646.11 1560.94,622.324 1652.37,598.538 1743.8,574.752 1835.24,550.966 1926.67,527.18 2018.11,503.394 \n",
       "  2109.54,479.608 2200.98,455.822 2292.41,432.036 \n",
       "  \"/>\n",
       "<polyline clip-path=\"url(#clip262)\" style=\"stroke:#c271d2; stroke-linecap:butt; stroke-linejoin:round; stroke-width:8; stroke-opacity:1; fill:none\" points=\"\n",
       "  280.856,961.563 372.29,1019.39 463.724,941.511 555.159,950.814 646.593,930.192 738.027,866.999 829.461,815.4 920.896,800.58 1012.33,773.28 1103.76,747.761 \n",
       "  1195.2,751.144 1286.63,702.121 1378.07,676.143 1469.5,652.081 1560.94,600.246 1652.37,574.034 1743.8,523.431 1835.24,539.155 1926.67,491.025 2018.11,467.488 \n",
       "  2109.54,408.626 2200.98,448.085 2292.41,378.625 \n",
       "  \"/>\n",
       "<polyline clip-path=\"url(#clip262)\" style=\"stroke:#ac8d18; stroke-linecap:butt; stroke-linejoin:round; stroke-width:8; stroke-opacity:1; fill:none\" points=\"\n",
       "  280.856,949.405 372.29,897.732 463.724,869.922 555.159,882.145 646.593,848.822 738.027,801.123 829.461,818.386 920.896,796.633 1012.33,719.15 1103.76,729.012 \n",
       "  1195.2,720.409 1286.63,744.402 1378.07,697.166 1469.5,624.666 1560.94,619.999 1652.37,613.296 1743.8,544.215 1835.24,497.02 1926.67,515.542 2018.11,451.331 \n",
       "  2109.54,482.632 2200.98,415.939 2292.41,404.23 \n",
       "  \"/>\n",
       "<polyline clip-path=\"url(#clip262)\" style=\"stroke:#00a9ad; stroke-linecap:butt; stroke-linejoin:round; stroke-width:8; stroke-opacity:1; fill:none\" points=\"\n",
       "  280.856,973.946 372.29,951.157 463.724,928.368 555.159,905.579 646.593,882.79 738.027,860.001 829.461,837.212 920.896,814.423 1012.33,791.634 1103.76,768.845 \n",
       "  1195.2,746.056 1286.63,723.267 1378.07,700.478 1469.5,677.689 1560.94,644.078 1652.37,606.417 1743.8,568.755 1835.24,531.093 1926.67,493.431 2018.11,455.77 \n",
       "  2109.54,418.108 2200.98,380.446 2292.41,342.784 \n",
       "  \"/>\n",
       "<path clip-path=\"url(#clip260)\" d=\"\n",
       "M1949.12 791.8 L2281.68 791.8 L2281.68 480.76 L1949.12 480.76  Z\n",
       "  \" fill=\"#ffffff\" fill-rule=\"evenodd\" fill-opacity=\"1\"/>\n",
       "<polyline clip-path=\"url(#clip260)\" style=\"stroke:#000000; stroke-linecap:butt; stroke-linejoin:round; stroke-width:4; stroke-opacity:1; fill:none\" points=\"\n",
       "  1949.12,791.8 2281.68,791.8 2281.68,480.76 1949.12,480.76 1949.12,791.8 \n",
       "  \"/>\n",
       "<polyline clip-path=\"url(#clip260)\" style=\"stroke:#e26f46; stroke-linecap:butt; stroke-linejoin:round; stroke-width:4; stroke-opacity:1; fill:none\" points=\"\n",
       "  1972.81,532.6 2114.96,532.6 \n",
       "  \"/>\n",
       "<path clip-path=\"url(#clip260)\" d=\"M2138.65 515.32 L2160.5 515.32 L2160.5 519.255 L2143.33 519.255 L2143.33 529.487 L2159.78 529.487 L2159.78 533.422 L2143.33 533.422 L2143.33 545.945 L2160.92 545.945 L2160.92 549.88 L2138.65 549.88 L2138.65 515.32 Z\" fill=\"#000000\" fill-rule=\"evenodd\" fill-opacity=\"1\" /><path clip-path=\"url(#clip260)\" d=\"M2184.99 533.676 Q2186.5 534.186 2187.91 535.852 Q2189.34 537.519 2190.78 540.436 L2195.52 549.88 L2190.5 549.88 L2186.08 541.014 Q2184.37 537.542 2182.75 536.408 Q2181.15 535.274 2178.37 535.274 L2173.28 535.274 L2173.28 549.88 L2168.6 549.88 L2168.6 515.32 L2179.16 515.32 Q2185.09 515.32 2188 517.797 Q2190.92 520.274 2190.92 525.274 Q2190.92 528.537 2189.39 530.69 Q2187.89 532.843 2184.99 533.676 M2173.28 519.163 L2173.28 531.431 L2179.16 531.431 Q2182.54 531.431 2184.25 529.88 Q2185.99 528.306 2185.99 525.274 Q2185.99 522.241 2184.25 520.713 Q2182.54 519.163 2179.16 519.163 L2173.28 519.163 Z\" fill=\"#000000\" fill-rule=\"evenodd\" fill-opacity=\"1\" /><path clip-path=\"url(#clip260)\" d=\"M2201.54 515.32 L2208.51 515.32 L2217.33 538.838 L2226.2 515.32 L2233.16 515.32 L2233.16 549.88 L2228.6 549.88 L2228.6 519.533 L2219.69 543.236 L2214.99 543.236 L2206.08 519.533 L2206.08 549.88 L2201.54 549.88 L2201.54 515.32 Z\" fill=\"#000000\" fill-rule=\"evenodd\" fill-opacity=\"1\" /><polyline clip-path=\"url(#clip260)\" style=\"stroke:#3da44d; stroke-linecap:butt; stroke-linejoin:round; stroke-width:4; stroke-opacity:1; fill:none\" points=\"\n",
       "  1972.81,584.44 2114.96,584.44 \n",
       "  \"/>\n",
       "<path clip-path=\"url(#clip260)\" d=\"M2155.04 585.516 Q2156.54 586.026 2157.96 587.692 Q2159.39 589.359 2160.83 592.276 L2165.57 601.72 L2160.55 601.72 L2156.13 592.854 Q2154.41 589.382 2152.79 588.248 Q2151.2 587.114 2148.42 587.114 L2143.33 587.114 L2143.33 601.72 L2138.65 601.72 L2138.65 567.16 L2149.21 567.16 Q2155.13 567.16 2158.05 569.637 Q2160.96 572.114 2160.96 577.114 Q2160.96 580.377 2159.44 582.53 Q2157.93 584.683 2155.04 585.516 M2143.33 571.003 L2143.33 583.271 L2149.21 583.271 Q2152.59 583.271 2154.3 581.72 Q2156.03 580.146 2156.03 577.114 Q2156.03 574.081 2154.3 572.553 Q2152.59 571.003 2149.21 571.003 L2143.33 571.003 Z\" fill=\"#000000\" fill-rule=\"evenodd\" fill-opacity=\"1\" /><path clip-path=\"url(#clip260)\" d=\"M2187.98 585.516 Q2189.48 586.026 2190.9 587.692 Q2192.33 589.359 2193.77 592.276 L2198.51 601.72 L2193.49 601.72 L2189.07 592.854 Q2187.35 589.382 2185.73 588.248 Q2184.14 587.114 2181.36 587.114 L2176.27 587.114 L2176.27 601.72 L2171.59 601.72 L2171.59 567.16 L2182.15 567.16 Q2188.07 567.16 2190.99 569.637 Q2193.9 572.114 2193.9 577.114 Q2193.9 580.377 2192.38 582.53 Q2190.87 584.683 2187.98 585.516 M2176.27 571.003 L2176.27 583.271 L2182.15 583.271 Q2185.52 583.271 2187.24 581.72 Q2188.97 580.146 2188.97 577.114 Q2188.97 574.081 2187.24 572.553 Q2185.52 571.003 2182.15 571.003 L2176.27 571.003 Z\" fill=\"#000000\" fill-rule=\"evenodd\" fill-opacity=\"1\" /><polyline clip-path=\"url(#clip260)\" style=\"stroke:#c271d2; stroke-linecap:butt; stroke-linejoin:round; stroke-width:4; stroke-opacity:1; fill:none\" points=\"\n",
       "  1972.81,636.28 2114.96,636.28 \n",
       "  \"/>\n",
       "<path clip-path=\"url(#clip260)\" d=\"M2138.65 619 L2145.62 619 L2154.44 642.518 L2163.3 619 L2170.27 619 L2170.27 653.56 L2165.71 653.56 L2165.71 623.213 L2156.8 646.916 L2152.1 646.916 L2143.19 623.213 L2143.19 653.56 L2138.65 653.56 L2138.65 619 Z\" fill=\"#000000\" fill-rule=\"evenodd\" fill-opacity=\"1\" /><path clip-path=\"url(#clip260)\" d=\"M2179.55 619 L2184.23 619 L2184.23 649.625 L2201.06 649.625 L2201.06 653.56 L2179.55 653.56 L2179.55 619 Z\" fill=\"#000000\" fill-rule=\"evenodd\" fill-opacity=\"1\" /><polyline clip-path=\"url(#clip260)\" style=\"stroke:#ac8d18; stroke-linecap:butt; stroke-linejoin:round; stroke-width:4; stroke-opacity:1; fill:none\" points=\"\n",
       "  1972.81,688.12 2114.96,688.12 \n",
       "  \"/>\n",
       "<path clip-path=\"url(#clip260)\" d=\"M2138.65 670.84 L2145.62 670.84 L2154.44 694.358 L2163.3 670.84 L2170.27 670.84 L2170.27 705.4 L2165.71 705.4 L2165.71 675.053 L2156.8 698.756 L2152.1 698.756 L2143.19 675.053 L2143.19 705.4 L2138.65 705.4 L2138.65 670.84 Z\" fill=\"#000000\" fill-rule=\"evenodd\" fill-opacity=\"1\" /><path clip-path=\"url(#clip260)\" d=\"M2191.1 675.446 L2184.76 692.645 L2197.47 692.645 L2191.1 675.446 M2188.46 670.84 L2193.77 670.84 L2206.94 705.4 L2202.08 705.4 L2198.93 696.534 L2183.35 696.534 L2180.2 705.4 L2175.27 705.4 L2188.46 670.84 Z\" fill=\"#000000\" fill-rule=\"evenodd\" fill-opacity=\"1\" /><path clip-path=\"url(#clip260)\" d=\"M2216.66 674.683 L2216.66 687.669 L2222.54 687.669 Q2225.8 687.669 2227.58 685.979 Q2229.37 684.289 2229.37 681.164 Q2229.37 678.062 2227.58 676.372 Q2225.8 674.683 2222.54 674.683 L2216.66 674.683 M2211.98 670.84 L2222.54 670.84 Q2228.35 670.84 2231.31 673.479 Q2234.3 676.095 2234.3 681.164 Q2234.3 686.28 2231.31 688.895 Q2228.35 691.511 2222.54 691.511 L2216.66 691.511 L2216.66 705.4 L2211.98 705.4 L2211.98 670.84 Z\" fill=\"#000000\" fill-rule=\"evenodd\" fill-opacity=\"1\" /><polyline clip-path=\"url(#clip260)\" style=\"stroke:#00a9ad; stroke-linecap:butt; stroke-linejoin:round; stroke-width:4; stroke-opacity:1; fill:none\" points=\"\n",
       "  1972.81,739.96 2114.96,739.96 \n",
       "  \"/>\n",
       "<path clip-path=\"url(#clip260)\" d=\"M2138.65 722.68 L2144.95 722.68 L2160.27 751.592 L2160.27 722.68 L2164.81 722.68 L2164.81 757.24 L2158.51 757.24 L2143.19 728.328 L2143.19 757.24 L2138.65 757.24 L2138.65 722.68 Z\" fill=\"#000000\" fill-rule=\"evenodd\" fill-opacity=\"1\" /><path clip-path=\"url(#clip260)\" d=\"M2174.11 722.68 L2180.41 722.68 L2195.73 751.592 L2195.73 722.68 L2200.27 722.68 L2200.27 757.24 L2193.97 757.24 L2178.65 728.328 L2178.65 757.24 L2174.11 757.24 L2174.11 722.68 Z\" fill=\"#000000\" fill-rule=\"evenodd\" fill-opacity=\"1\" /></svg>\n"
      ]
     },
     "execution_count": 112,
     "metadata": {},
     "output_type": "execute_result"
    }
   ],
   "source": [
    "scatter(X_test,Y_test, legend=1,\n",
    "            label = false,\n",
    "            xlabel = \"Speed\",\n",
    "            ylabel = \"Dist\",\n",
    "            size = (600,300))\n",
    "plot!(p, f(p, θ_ERM), lw = 2, label = \"ERM\")\n",
    "plot!(p, f(p, θ_R), lw = 2, label = \"RR\")\n",
    "plot!(p, Φ(p, θ_ML), lw = 2, label = \"ML\")\n",
    "plot!(p, Φ(p, θ_MAP), lw = 2, label = \"MAP\")\n",
    "plot!(p, f_NN(p, θ_NN), lw = 2, label = \"NN\")"
   ]
  },
  {
   "cell_type": "markdown",
   "metadata": {},
   "source": [
    "Um zu beurteilen, welches Modell wie gut funktioniert, definieren wir das empirische Risiko."
   ]
  },
  {
   "cell_type": "code",
   "execution_count": 113,
   "metadata": {},
   "outputs": [
    {
     "data": {
      "text/plain": [
       "R (generic function with 1 method)"
      ]
     },
     "execution_count": 113,
     "metadata": {},
     "output_type": "execute_result"
    }
   ],
   "source": [
    "R(θ, f, X, Y) = mean((f(X, θ) - Y).^2)"
   ]
  },
  {
   "cell_type": "markdown",
   "metadata": {},
   "source": [
    "Das empirische Risiko für Trainings- und Testdaten im deterministischen linearen Modell ist wie folgt."
   ]
  },
  {
   "cell_type": "code",
   "execution_count": 114,
   "metadata": {},
   "outputs": [
    {
     "name": "stdout",
     "output_type": "stream",
     "text": [
      "Risiko Testdaten ERM: 404.2851310539052\n",
      "\n",
      "Risiko Trainingsdaten ERM: 173.5016349832419\n",
      "\n",
      "ERM Risikoverhältnis: 2.330151707751654\n",
      "\n",
      "Risiko Testdaten RR: 437.915904436881\n",
      "\n",
      "Risiko Trainingsdaten RR: 183.7084203137135\n",
      "\n",
      "RR Risikoverhältnis: 2.38375521214033\n",
      "\n"
     ]
    }
   ],
   "source": [
    "r = [(R(θ, f, X_test, Y_test), R(θ, f, X, Y)) for θ in [θ_ERM, θ_R]]   \n",
    "println(\"Risiko Testdaten ERM: $(r[1][1])\\n\")\n",
    "println(\"Risiko Trainingsdaten ERM: $(r[1][2])\\n\")\n",
    "println(\"ERM Risikoverhältnis: $(r[1][1]/r[1][2])\\n\")\n",
    "println(\"Risiko Testdaten RR: $(r[2][1])\\n\")\n",
    "println(\"Risiko Trainingsdaten RR: $(r[2][2])\\n\")\n",
    "println(\"RR Risikoverhältnis: $(r[2][1]/r[2][2])\\n\")"
   ]
  },
  {
   "cell_type": "markdown",
   "metadata": {},
   "source": [
    "Für das neuronale Netz ergeben sich folgende Werte."
   ]
  },
  {
   "cell_type": "code",
   "execution_count": 115,
   "metadata": {},
   "outputs": [
    {
     "name": "stdout",
     "output_type": "stream",
     "text": [
      "Risiko Testdaten NN: 383.1390591534273\n",
      "\n",
      "Risiko Trainingsdaten NN: 166.33235851562375\n",
      "\n",
      "NN Risikoverhältnis: 2.3034547370855605\n",
      "\n"
     ]
    }
   ],
   "source": [
    "r = (R(θ_NN, f_NN, X_test, Y_test), R(θ_NN, f_NN, X, Y))\n",
    "println(\"Risiko Testdaten NN: $(r[1])\\n\")\n",
    "println(\"Risiko Trainingsdaten NN: $(r[2])\\n\")\n",
    "println(\"NN Risikoverhältnis: $(r[1]/r[2])\\n\")"
   ]
  }
 ],
 "metadata": {
  "@webio": {
   "lastCommId": null,
   "lastKernelId": null
  },
  "kernelspec": {
   "display_name": "Julia 1.7.2",
   "language": "julia",
   "name": "julia-1.7"
  },
  "language_info": {
   "file_extension": ".jl",
   "mimetype": "application/julia",
   "name": "julia",
   "version": "1.7.2"
  }
 },
 "nbformat": 4,
 "nbformat_minor": 2
}
