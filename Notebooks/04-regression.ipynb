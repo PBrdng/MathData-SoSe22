{
 "cells": [
  {
   "cell_type": "code",
   "execution_count": null,
   "metadata": {},
   "outputs": [],
   "source": [
    "using Pkg\n",
    "Pkg.activate(\"NB04\")\n",
    "Pkg.resolve();"
   ]
  },
  {
   "cell_type": "code",
   "execution_count": null,
   "metadata": {},
   "outputs": [],
   "source": [
    "using LinearAlgebra, Plots, StatsBase\n",
    "using RDatasets\n",
    "using Optim"
   ]
  },
  {
   "cell_type": "markdown",
   "metadata": {},
   "source": [
    "# Regression\n",
    "\n",
    "Wir laden den Datensatz `cars` aus dem `RDatasets` package"
   ]
  },
  {
   "cell_type": "code",
   "execution_count": 4,
   "metadata": {},
   "outputs": [],
   "source": [
    "data_cars = dataset(\"datasets\", \"cars\");"
   ]
  },
  {
   "cell_type": "markdown",
   "metadata": {},
   "source": [
    "Wir schauen zunächst, welche Variablen in diesem Datensatz erhalten sind"
   ]
  },
  {
   "cell_type": "code",
   "execution_count": 5,
   "metadata": {},
   "outputs": [
    {
     "data": {
      "text/plain": [
       "2-element Vector{String}:\n",
       " \"Speed\"\n",
       " \"Dist\""
      ]
     },
     "execution_count": 5,
     "metadata": {},
     "output_type": "execute_result"
    }
   ],
   "source": [
    "names(data_cars)"
   ]
  },
  {
   "cell_type": "code",
   "execution_count": 6,
   "metadata": {},
   "outputs": [
    {
     "data": {
      "text/plain": [
       "50"
      ]
     },
     "execution_count": 6,
     "metadata": {},
     "output_type": "execute_result"
    }
   ],
   "source": [
    "size(data_cars,1)"
   ]
  },
  {
   "cell_type": "markdown",
   "metadata": {},
   "source": [
    "Die Datenpunkte stellen also Geschwindigkeit und zurückgelegte Distanz dar. \n",
    "\n",
    "Wir erwarten einen linearen Zusammenhang, also wählen wir das lineare Modell\n",
    "\n",
    "$$f_\\theta(x) =  a x + b$$\n",
    "\n",
    "mit $\\theta =(a,b)\\in\\mathbb R^2$."
   ]
  },
  {
   "cell_type": "code",
   "execution_count": 7,
   "metadata": {},
   "outputs": [
    {
     "data": {
      "image/svg+xml": [
       "<?xml version=\"1.0\" encoding=\"utf-8\"?>\n",
       "<svg xmlns=\"http://www.w3.org/2000/svg\" xmlns:xlink=\"http://www.w3.org/1999/xlink\" width=\"600\" height=\"300\" viewBox=\"0 0 2400 1200\">\n",
       "<defs>\n",
       "  <clipPath id=\"clip980\">\n",
       "    <rect x=\"0\" y=\"0\" width=\"2400\" height=\"1200\"/>\n",
       "  </clipPath>\n",
       "</defs>\n",
       "<path clip-path=\"url(#clip980)\" d=\"\n",
       "M0 1200 L2400 1200 L2400 0 L0 0  Z\n",
       "  \" fill=\"#ffffff\" fill-rule=\"evenodd\" fill-opacity=\"1\"/>\n",
       "<defs>\n",
       "  <clipPath id=\"clip981\">\n",
       "    <rect x=\"480\" y=\"0\" width=\"1681\" height=\"1200\"/>\n",
       "  </clipPath>\n",
       "</defs>\n",
       "<path clip-path=\"url(#clip980)\" d=\"\n",
       "M220.509 1047.7 L2352.76 1047.7 L2352.76 47.2441 L220.509 47.2441  Z\n",
       "  \" fill=\"#ffffff\" fill-rule=\"evenodd\" fill-opacity=\"1\"/>\n",
       "<defs>\n",
       "  <clipPath id=\"clip982\">\n",
       "    <rect x=\"220\" y=\"47\" width=\"2133\" height=\"1001\"/>\n",
       "  </clipPath>\n",
       "</defs>\n",
       "<polyline clip-path=\"url(#clip982)\" style=\"stroke:#000000; stroke-linecap:butt; stroke-linejoin:round; stroke-width:2; stroke-opacity:0.1; fill:none\" points=\"\n",
       "  376.644,1047.7 376.644,47.2441 \n",
       "  \"/>\n",
       "<polyline clip-path=\"url(#clip982)\" style=\"stroke:#000000; stroke-linecap:butt; stroke-linejoin:round; stroke-width:2; stroke-opacity:0.1; fill:none\" points=\"\n",
       "  855.585,1047.7 855.585,47.2441 \n",
       "  \"/>\n",
       "<polyline clip-path=\"url(#clip982)\" style=\"stroke:#000000; stroke-linecap:butt; stroke-linejoin:round; stroke-width:2; stroke-opacity:0.1; fill:none\" points=\"\n",
       "  1334.53,1047.7 1334.53,47.2441 \n",
       "  \"/>\n",
       "<polyline clip-path=\"url(#clip982)\" style=\"stroke:#000000; stroke-linecap:butt; stroke-linejoin:round; stroke-width:2; stroke-opacity:0.1; fill:none\" points=\"\n",
       "  1813.47,1047.7 1813.47,47.2441 \n",
       "  \"/>\n",
       "<polyline clip-path=\"url(#clip982)\" style=\"stroke:#000000; stroke-linecap:butt; stroke-linejoin:round; stroke-width:2; stroke-opacity:0.1; fill:none\" points=\"\n",
       "  2292.41,1047.7 2292.41,47.2441 \n",
       "  \"/>\n",
       "<polyline clip-path=\"url(#clip980)\" style=\"stroke:#000000; stroke-linecap:butt; stroke-linejoin:round; stroke-width:4; stroke-opacity:1; fill:none\" points=\"\n",
       "  220.509,1047.7 2352.76,1047.7 \n",
       "  \"/>\n",
       "<polyline clip-path=\"url(#clip980)\" style=\"stroke:#000000; stroke-linecap:butt; stroke-linejoin:round; stroke-width:4; stroke-opacity:1; fill:none\" points=\"\n",
       "  376.644,1047.7 376.644,1028.8 \n",
       "  \"/>\n",
       "<polyline clip-path=\"url(#clip980)\" style=\"stroke:#000000; stroke-linecap:butt; stroke-linejoin:round; stroke-width:4; stroke-opacity:1; fill:none\" points=\"\n",
       "  855.585,1047.7 855.585,1028.8 \n",
       "  \"/>\n",
       "<polyline clip-path=\"url(#clip980)\" style=\"stroke:#000000; stroke-linecap:butt; stroke-linejoin:round; stroke-width:4; stroke-opacity:1; fill:none\" points=\"\n",
       "  1334.53,1047.7 1334.53,1028.8 \n",
       "  \"/>\n",
       "<polyline clip-path=\"url(#clip980)\" style=\"stroke:#000000; stroke-linecap:butt; stroke-linejoin:round; stroke-width:4; stroke-opacity:1; fill:none\" points=\"\n",
       "  1813.47,1047.7 1813.47,1028.8 \n",
       "  \"/>\n",
       "<polyline clip-path=\"url(#clip980)\" style=\"stroke:#000000; stroke-linecap:butt; stroke-linejoin:round; stroke-width:4; stroke-opacity:1; fill:none\" points=\"\n",
       "  2292.41,1047.7 2292.41,1028.8 \n",
       "  \"/>\n",
       "<path clip-path=\"url(#clip980)\" d=\"M366.922 1075.54 L385.278 1075.54 L385.278 1079.48 L371.204 1079.48 L371.204 1087.95 Q372.223 1087.6 373.241 1087.44 Q374.26 1087.25 375.278 1087.25 Q381.065 1087.25 384.445 1090.42 Q387.825 1093.6 387.825 1099.01 Q387.825 1104.59 384.352 1107.69 Q380.88 1110.77 374.561 1110.77 Q372.385 1110.77 370.116 1110.4 Q367.871 1110.03 365.464 1109.29 L365.464 1104.59 Q367.547 1105.72 369.769 1106.28 Q371.991 1106.84 374.468 1106.84 Q378.473 1106.84 380.811 1104.73 Q383.149 1102.62 383.149 1099.01 Q383.149 1095.4 380.811 1093.29 Q378.473 1091.19 374.468 1091.19 Q372.593 1091.19 370.718 1091.6 Q368.866 1092.02 366.922 1092.9 L366.922 1075.54 Z\" fill=\"#000000\" fill-rule=\"evenodd\" fill-opacity=\"1\" /><path clip-path=\"url(#clip980)\" d=\"M830.273 1106.16 L837.912 1106.16 L837.912 1079.8 L829.602 1081.47 L829.602 1077.21 L837.866 1075.54 L842.542 1075.54 L842.542 1106.16 L850.18 1106.16 L850.18 1110.1 L830.273 1110.1 L830.273 1106.16 Z\" fill=\"#000000\" fill-rule=\"evenodd\" fill-opacity=\"1\" /><path clip-path=\"url(#clip980)\" d=\"M869.625 1078.62 Q866.014 1078.62 864.185 1082.18 Q862.379 1085.72 862.379 1092.85 Q862.379 1099.96 864.185 1103.53 Q866.014 1107.07 869.625 1107.07 Q873.259 1107.07 875.065 1103.53 Q876.893 1099.96 876.893 1092.85 Q876.893 1085.72 875.065 1082.18 Q873.259 1078.62 869.625 1078.62 M869.625 1074.91 Q875.435 1074.91 878.49 1079.52 Q881.569 1084.1 881.569 1092.85 Q881.569 1101.58 878.49 1106.19 Q875.435 1110.77 869.625 1110.77 Q863.815 1110.77 860.736 1106.19 Q857.68 1101.58 857.68 1092.85 Q857.68 1084.1 860.736 1079.52 Q863.815 1074.91 869.625 1074.91 Z\" fill=\"#000000\" fill-rule=\"evenodd\" fill-opacity=\"1\" /><path clip-path=\"url(#clip980)\" d=\"M1309.71 1106.16 L1317.35 1106.16 L1317.35 1079.8 L1309.04 1081.47 L1309.04 1077.21 L1317.3 1075.54 L1321.98 1075.54 L1321.98 1106.16 L1329.62 1106.16 L1329.62 1110.1 L1309.71 1110.1 L1309.71 1106.16 Z\" fill=\"#000000\" fill-rule=\"evenodd\" fill-opacity=\"1\" /><path clip-path=\"url(#clip980)\" d=\"M1339.11 1075.54 L1357.47 1075.54 L1357.47 1079.48 L1343.39 1079.48 L1343.39 1087.95 Q1344.41 1087.6 1345.43 1087.44 Q1346.45 1087.25 1347.47 1087.25 Q1353.25 1087.25 1356.63 1090.42 Q1360.01 1093.6 1360.01 1099.01 Q1360.01 1104.59 1356.54 1107.69 Q1353.07 1110.77 1346.75 1110.77 Q1344.57 1110.77 1342.3 1110.4 Q1340.06 1110.03 1337.65 1109.29 L1337.65 1104.59 Q1339.74 1105.72 1341.96 1106.28 Q1344.18 1106.84 1346.66 1106.84 Q1350.66 1106.84 1353 1104.73 Q1355.34 1102.62 1355.34 1099.01 Q1355.34 1095.4 1353 1093.29 Q1350.66 1091.19 1346.66 1091.19 Q1344.78 1091.19 1342.91 1091.6 Q1341.05 1092.02 1339.11 1092.9 L1339.11 1075.54 Z\" fill=\"#000000\" fill-rule=\"evenodd\" fill-opacity=\"1\" /><path clip-path=\"url(#clip980)\" d=\"M1792.24 1106.16 L1808.56 1106.16 L1808.56 1110.1 L1786.62 1110.1 L1786.62 1106.16 Q1789.28 1103.41 1793.86 1098.78 Q1798.47 1094.13 1799.65 1092.79 Q1801.89 1090.26 1802.77 1088.53 Q1803.68 1086.77 1803.68 1085.08 Q1803.68 1082.32 1801.73 1080.59 Q1799.81 1078.85 1796.71 1078.85 Q1794.51 1078.85 1792.06 1079.61 Q1789.63 1080.38 1786.85 1081.93 L1786.85 1077.21 Q1789.67 1076.07 1792.13 1075.49 Q1794.58 1074.91 1796.62 1074.91 Q1801.99 1074.91 1805.18 1077.6 Q1808.38 1080.29 1808.38 1084.78 Q1808.38 1086.91 1807.57 1088.83 Q1806.78 1090.72 1804.67 1093.32 Q1804.09 1093.99 1800.99 1097.21 Q1797.89 1100.4 1792.24 1106.16 Z\" fill=\"#000000\" fill-rule=\"evenodd\" fill-opacity=\"1\" /><path clip-path=\"url(#clip980)\" d=\"M1828.38 1078.62 Q1824.76 1078.62 1822.94 1082.18 Q1821.13 1085.72 1821.13 1092.85 Q1821.13 1099.96 1822.94 1103.53 Q1824.76 1107.07 1828.38 1107.07 Q1832.01 1107.07 1833.82 1103.53 Q1835.64 1099.96 1835.64 1092.85 Q1835.64 1085.72 1833.82 1082.18 Q1832.01 1078.62 1828.38 1078.62 M1828.38 1074.91 Q1834.19 1074.91 1837.24 1079.52 Q1840.32 1084.1 1840.32 1092.85 Q1840.32 1101.58 1837.24 1106.19 Q1834.19 1110.77 1828.38 1110.77 Q1822.57 1110.77 1819.49 1106.19 Q1816.43 1101.58 1816.43 1092.85 Q1816.43 1084.1 1819.49 1079.52 Q1822.57 1074.91 1828.38 1074.91 Z\" fill=\"#000000\" fill-rule=\"evenodd\" fill-opacity=\"1\" /><path clip-path=\"url(#clip980)\" d=\"M2271.68 1106.16 L2288 1106.16 L2288 1110.1 L2266.06 1110.1 L2266.06 1106.16 Q2268.72 1103.41 2273.3 1098.78 Q2277.91 1094.13 2279.09 1092.79 Q2281.33 1090.26 2282.21 1088.53 Q2283.12 1086.77 2283.12 1085.08 Q2283.12 1082.32 2281.17 1080.59 Q2279.25 1078.85 2276.15 1078.85 Q2273.95 1078.85 2271.5 1079.61 Q2269.06 1080.38 2266.29 1081.93 L2266.29 1077.21 Q2269.11 1076.07 2271.56 1075.49 Q2274.02 1074.91 2276.06 1074.91 Q2281.43 1074.91 2284.62 1077.6 Q2287.81 1080.29 2287.81 1084.78 Q2287.81 1086.91 2287 1088.83 Q2286.22 1090.72 2284.11 1093.32 Q2283.53 1093.99 2280.43 1097.21 Q2277.33 1100.4 2271.68 1106.16 Z\" fill=\"#000000\" fill-rule=\"evenodd\" fill-opacity=\"1\" /><path clip-path=\"url(#clip980)\" d=\"M2297.86 1075.54 L2316.22 1075.54 L2316.22 1079.48 L2302.14 1079.48 L2302.14 1087.95 Q2303.16 1087.6 2304.18 1087.44 Q2305.2 1087.25 2306.22 1087.25 Q2312 1087.25 2315.38 1090.42 Q2318.76 1093.6 2318.76 1099.01 Q2318.76 1104.59 2315.29 1107.69 Q2311.82 1110.77 2305.5 1110.77 Q2303.32 1110.77 2301.06 1110.4 Q2298.81 1110.03 2296.4 1109.29 L2296.4 1104.59 Q2298.49 1105.72 2300.71 1106.28 Q2302.93 1106.84 2305.41 1106.84 Q2309.41 1106.84 2311.75 1104.73 Q2314.09 1102.62 2314.09 1099.01 Q2314.09 1095.4 2311.75 1093.29 Q2309.41 1091.19 2305.41 1091.19 Q2303.53 1091.19 2301.66 1091.6 Q2299.81 1092.02 2297.86 1092.9 L2297.86 1075.54 Z\" fill=\"#000000\" fill-rule=\"evenodd\" fill-opacity=\"1\" /><path clip-path=\"url(#clip980)\" d=\"M1220.16 1146.6 L1220.16 1152.87 Q1216.5 1151.12 1213.25 1150.26 Q1210.01 1149.4 1206.98 1149.4 Q1201.73 1149.4 1198.87 1151.44 Q1196.03 1153.48 1196.03 1157.23 Q1196.03 1160.39 1197.91 1162.01 Q1199.82 1163.6 1205.1 1164.59 L1208.99 1165.38 Q1216.18 1166.75 1219.59 1170.22 Q1223.02 1173.66 1223.02 1179.45 Q1223.02 1186.36 1218.38 1189.92 Q1213.76 1193.49 1204.82 1193.49 Q1201.44 1193.49 1197.62 1192.72 Q1193.84 1191.96 1189.76 1190.46 L1189.76 1183.84 Q1193.68 1186.04 1197.43 1187.15 Q1201.19 1188.27 1204.82 1188.27 Q1210.32 1188.27 1213.32 1186.1 Q1216.31 1183.94 1216.31 1179.93 Q1216.31 1176.43 1214.14 1174.45 Q1212.01 1172.48 1207.11 1171.49 L1203.19 1170.73 Q1196 1169.3 1192.79 1166.24 Q1189.57 1163.19 1189.57 1157.74 Q1189.57 1151.44 1194 1147.81 Q1198.45 1144.18 1206.25 1144.18 Q1209.59 1144.18 1213.06 1144.79 Q1216.53 1145.39 1220.16 1146.6 Z\" fill=\"#000000\" fill-rule=\"evenodd\" fill-opacity=\"1\" /><path clip-path=\"url(#clip980)\" d=\"M1238.46 1187.22 L1238.46 1206.12 L1232.57 1206.12 L1232.57 1156.92 L1238.46 1156.92 L1238.46 1162.33 Q1240.31 1159.14 1243.11 1157.62 Q1245.94 1156.06 1249.85 1156.06 Q1256.35 1156.06 1260.39 1161.21 Q1264.46 1166.37 1264.46 1174.77 Q1264.46 1183.17 1260.39 1188.33 Q1256.35 1193.49 1249.85 1193.49 Q1245.94 1193.49 1243.11 1191.96 Q1240.31 1190.4 1238.46 1187.22 M1258.38 1174.77 Q1258.38 1168.31 1255.71 1164.65 Q1253.07 1160.96 1248.42 1160.96 Q1243.78 1160.96 1241.1 1164.65 Q1238.46 1168.31 1238.46 1174.77 Q1238.46 1181.23 1241.1 1184.92 Q1243.78 1188.59 1248.42 1188.59 Q1253.07 1188.59 1255.71 1184.92 Q1258.38 1181.23 1258.38 1174.77 Z\" fill=\"#000000\" fill-rule=\"evenodd\" fill-opacity=\"1\" /><path clip-path=\"url(#clip980)\" d=\"M1304.66 1173.28 L1304.66 1176.14 L1277.74 1176.14 Q1278.12 1182.19 1281.37 1185.37 Q1284.64 1188.52 1290.47 1188.52 Q1293.84 1188.52 1296.99 1187.69 Q1300.18 1186.87 1303.29 1185.21 L1303.29 1190.75 Q1300.14 1192.09 1296.83 1192.79 Q1293.52 1193.49 1290.12 1193.49 Q1281.59 1193.49 1276.59 1188.52 Q1271.63 1183.56 1271.63 1175.09 Q1271.63 1166.34 1276.34 1161.21 Q1281.08 1156.06 1289.1 1156.06 Q1296.29 1156.06 1300.46 1160.7 Q1304.66 1165.32 1304.66 1173.28 M1298.81 1171.56 Q1298.74 1166.75 1296.1 1163.89 Q1293.49 1161.02 1289.16 1161.02 Q1284.26 1161.02 1281.3 1163.79 Q1278.37 1166.56 1277.93 1171.59 L1298.81 1171.56 Z\" fill=\"#000000\" fill-rule=\"evenodd\" fill-opacity=\"1\" /><path clip-path=\"url(#clip980)\" d=\"M1344.77 1173.28 L1344.77 1176.14 L1317.84 1176.14 Q1318.22 1182.19 1321.47 1185.37 Q1324.75 1188.52 1330.57 1188.52 Q1333.95 1188.52 1337.1 1187.69 Q1340.28 1186.87 1343.4 1185.21 L1343.4 1190.75 Q1340.25 1192.09 1336.94 1192.79 Q1333.63 1193.49 1330.22 1193.49 Q1321.69 1193.49 1316.69 1188.52 Q1311.73 1183.56 1311.73 1175.09 Q1311.73 1166.34 1316.44 1161.21 Q1321.18 1156.06 1329.2 1156.06 Q1336.4 1156.06 1340.57 1160.7 Q1344.77 1165.32 1344.77 1173.28 M1338.91 1171.56 Q1338.85 1166.75 1336.21 1163.89 Q1333.6 1161.02 1329.27 1161.02 Q1324.37 1161.02 1321.41 1163.79 Q1318.48 1166.56 1318.03 1171.59 L1338.91 1171.56 Z\" fill=\"#000000\" fill-rule=\"evenodd\" fill-opacity=\"1\" /><path clip-path=\"url(#clip980)\" d=\"M1377.84 1162.33 L1377.84 1143.04 L1383.69 1143.04 L1383.69 1192.56 L1377.84 1192.56 L1377.84 1187.22 Q1375.99 1190.4 1373.16 1191.96 Q1370.36 1193.49 1366.41 1193.49 Q1359.95 1193.49 1355.88 1188.33 Q1351.83 1183.17 1351.83 1174.77 Q1351.83 1166.37 1355.88 1161.21 Q1359.95 1156.06 1366.41 1156.06 Q1370.36 1156.06 1373.16 1157.62 Q1375.99 1159.14 1377.84 1162.33 M1357.88 1174.77 Q1357.88 1181.23 1360.52 1184.92 Q1363.2 1188.59 1367.84 1188.59 Q1372.49 1188.59 1375.16 1184.92 Q1377.84 1181.23 1377.84 1174.77 Q1377.84 1168.31 1375.16 1164.65 Q1372.49 1160.96 1367.84 1160.96 Q1363.2 1160.96 1360.52 1164.65 Q1357.88 1168.31 1357.88 1174.77 Z\" fill=\"#000000\" fill-rule=\"evenodd\" fill-opacity=\"1\" /><polyline clip-path=\"url(#clip982)\" style=\"stroke:#000000; stroke-linecap:butt; stroke-linejoin:round; stroke-width:2; stroke-opacity:0.1; fill:none\" points=\"\n",
       "  220.509,1035.38 2352.76,1035.38 \n",
       "  \"/>\n",
       "<polyline clip-path=\"url(#clip982)\" style=\"stroke:#000000; stroke-linecap:butt; stroke-linejoin:round; stroke-width:2; stroke-opacity:0.1; fill:none\" points=\"\n",
       "  220.509,835.419 2352.76,835.419 \n",
       "  \"/>\n",
       "<polyline clip-path=\"url(#clip982)\" style=\"stroke:#000000; stroke-linecap:butt; stroke-linejoin:round; stroke-width:2; stroke-opacity:0.1; fill:none\" points=\"\n",
       "  220.509,635.456 2352.76,635.456 \n",
       "  \"/>\n",
       "<polyline clip-path=\"url(#clip982)\" style=\"stroke:#000000; stroke-linecap:butt; stroke-linejoin:round; stroke-width:2; stroke-opacity:0.1; fill:none\" points=\"\n",
       "  220.509,435.493 2352.76,435.493 \n",
       "  \"/>\n",
       "<polyline clip-path=\"url(#clip982)\" style=\"stroke:#000000; stroke-linecap:butt; stroke-linejoin:round; stroke-width:2; stroke-opacity:0.1; fill:none\" points=\"\n",
       "  220.509,235.529 2352.76,235.529 \n",
       "  \"/>\n",
       "<polyline clip-path=\"url(#clip980)\" style=\"stroke:#000000; stroke-linecap:butt; stroke-linejoin:round; stroke-width:4; stroke-opacity:1; fill:none\" points=\"\n",
       "  220.509,1047.7 220.509,47.2441 \n",
       "  \"/>\n",
       "<polyline clip-path=\"url(#clip980)\" style=\"stroke:#000000; stroke-linecap:butt; stroke-linejoin:round; stroke-width:4; stroke-opacity:1; fill:none\" points=\"\n",
       "  220.509,1035.38 239.407,1035.38 \n",
       "  \"/>\n",
       "<polyline clip-path=\"url(#clip980)\" style=\"stroke:#000000; stroke-linecap:butt; stroke-linejoin:round; stroke-width:4; stroke-opacity:1; fill:none\" points=\"\n",
       "  220.509,835.419 239.407,835.419 \n",
       "  \"/>\n",
       "<polyline clip-path=\"url(#clip980)\" style=\"stroke:#000000; stroke-linecap:butt; stroke-linejoin:round; stroke-width:4; stroke-opacity:1; fill:none\" points=\"\n",
       "  220.509,635.456 239.407,635.456 \n",
       "  \"/>\n",
       "<polyline clip-path=\"url(#clip980)\" style=\"stroke:#000000; stroke-linecap:butt; stroke-linejoin:round; stroke-width:4; stroke-opacity:1; fill:none\" points=\"\n",
       "  220.509,435.493 239.407,435.493 \n",
       "  \"/>\n",
       "<polyline clip-path=\"url(#clip980)\" style=\"stroke:#000000; stroke-linecap:butt; stroke-linejoin:round; stroke-width:4; stroke-opacity:1; fill:none\" points=\"\n",
       "  220.509,235.529 239.407,235.529 \n",
       "  \"/>\n",
       "<path clip-path=\"url(#clip980)\" d=\"M172.565 1021.18 Q168.954 1021.18 167.125 1024.75 Q165.32 1028.29 165.32 1035.42 Q165.32 1042.52 167.125 1046.09 Q168.954 1049.63 172.565 1049.63 Q176.199 1049.63 178.005 1046.09 Q179.833 1042.52 179.833 1035.42 Q179.833 1028.29 178.005 1024.75 Q176.199 1021.18 172.565 1021.18 M172.565 1017.48 Q178.375 1017.48 181.431 1022.08 Q184.509 1026.67 184.509 1035.42 Q184.509 1044.14 181.431 1048.75 Q178.375 1053.33 172.565 1053.33 Q166.755 1053.33 163.676 1048.75 Q160.621 1044.14 160.621 1035.42 Q160.621 1026.67 163.676 1022.08 Q166.755 1017.48 172.565 1017.48 Z\" fill=\"#000000\" fill-rule=\"evenodd\" fill-opacity=\"1\" /><path clip-path=\"url(#clip980)\" d=\"M137.426 848.764 L153.746 848.764 L153.746 852.699 L131.801 852.699 L131.801 848.764 Q134.463 846.009 139.047 841.38 Q143.653 836.727 144.834 835.384 Q147.079 832.861 147.959 831.125 Q148.861 829.366 148.861 827.676 Q148.861 824.921 146.917 823.185 Q144.996 821.449 141.894 821.449 Q139.695 821.449 137.241 822.213 Q134.811 822.977 132.033 824.528 L132.033 819.806 Q134.857 818.671 137.311 818.093 Q139.764 817.514 141.801 817.514 Q147.172 817.514 150.366 820.199 Q153.56 822.884 153.56 827.375 Q153.56 829.505 152.75 831.426 Q151.963 833.324 149.857 835.917 Q149.278 836.588 146.176 839.805 Q143.074 843 137.426 848.764 Z\" fill=\"#000000\" fill-rule=\"evenodd\" fill-opacity=\"1\" /><path clip-path=\"url(#clip980)\" d=\"M163.607 818.139 L181.963 818.139 L181.963 822.074 L167.889 822.074 L167.889 830.546 Q168.908 830.199 169.926 830.037 Q170.945 829.852 171.963 829.852 Q177.75 829.852 181.13 833.023 Q184.509 836.194 184.509 841.611 Q184.509 847.19 181.037 850.292 Q177.565 853.37 171.246 853.37 Q169.07 853.37 166.801 853 Q164.556 852.629 162.148 851.889 L162.148 847.19 Q164.232 848.324 166.454 848.88 Q168.676 849.435 171.153 849.435 Q175.158 849.435 177.495 847.329 Q179.833 845.222 179.833 841.611 Q179.833 838 177.495 835.893 Q175.158 833.787 171.153 833.787 Q169.278 833.787 167.403 834.204 Q165.551 834.62 163.607 835.5 L163.607 818.139 Z\" fill=\"#000000\" fill-rule=\"evenodd\" fill-opacity=\"1\" /><path clip-path=\"url(#clip980)\" d=\"M132.449 618.176 L150.806 618.176 L150.806 622.111 L136.732 622.111 L136.732 630.583 Q137.75 630.236 138.769 630.074 Q139.787 629.889 140.806 629.889 Q146.593 629.889 149.972 633.06 Q153.352 636.231 153.352 641.648 Q153.352 647.227 149.88 650.328 Q146.408 653.407 140.088 653.407 Q137.912 653.407 135.644 653.037 Q133.399 652.666 130.991 651.926 L130.991 647.227 Q133.074 648.361 135.297 648.916 Q137.519 649.472 139.996 649.472 Q144 649.472 146.338 647.365 Q148.676 645.259 148.676 641.648 Q148.676 638.037 146.338 635.93 Q144 633.824 139.996 633.824 Q138.121 633.824 136.246 634.24 Q134.394 634.657 132.449 635.537 L132.449 618.176 Z\" fill=\"#000000\" fill-rule=\"evenodd\" fill-opacity=\"1\" /><path clip-path=\"url(#clip980)\" d=\"M172.565 621.254 Q168.954 621.254 167.125 624.819 Q165.32 628.361 165.32 635.49 Q165.32 642.597 167.125 646.162 Q168.954 649.703 172.565 649.703 Q176.199 649.703 178.005 646.162 Q179.833 642.597 179.833 635.49 Q179.833 628.361 178.005 624.819 Q176.199 621.254 172.565 621.254 M172.565 617.551 Q178.375 617.551 181.431 622.157 Q184.509 626.741 184.509 635.49 Q184.509 644.217 181.431 648.824 Q178.375 653.407 172.565 653.407 Q166.755 653.407 163.676 648.824 Q160.621 644.217 160.621 635.49 Q160.621 626.741 163.676 622.157 Q166.755 617.551 172.565 617.551 Z\" fill=\"#000000\" fill-rule=\"evenodd\" fill-opacity=\"1\" /><path clip-path=\"url(#clip980)\" d=\"M132.218 418.213 L154.44 418.213 L154.44 420.203 L141.894 452.773 L137.01 452.773 L148.815 422.148 L132.218 422.148 L132.218 418.213 Z\" fill=\"#000000\" fill-rule=\"evenodd\" fill-opacity=\"1\" /><path clip-path=\"url(#clip980)\" d=\"M163.607 418.213 L181.963 418.213 L181.963 422.148 L167.889 422.148 L167.889 430.62 Q168.908 430.273 169.926 430.111 Q170.945 429.925 171.963 429.925 Q177.75 429.925 181.13 433.097 Q184.509 436.268 184.509 441.685 Q184.509 447.263 181.037 450.365 Q177.565 453.444 171.246 453.444 Q169.07 453.444 166.801 453.074 Q164.556 452.703 162.148 451.962 L162.148 447.263 Q164.232 448.398 166.454 448.953 Q168.676 449.509 171.153 449.509 Q175.158 449.509 177.495 447.402 Q179.833 445.296 179.833 441.685 Q179.833 438.074 177.495 435.967 Q175.158 433.861 171.153 433.861 Q169.278 433.861 167.403 434.277 Q165.551 434.694 163.607 435.574 L163.607 418.213 Z\" fill=\"#000000\" fill-rule=\"evenodd\" fill-opacity=\"1\" /><path clip-path=\"url(#clip980)\" d=\"M103.051 248.874 L110.69 248.874 L110.69 222.509 L102.38 224.175 L102.38 219.916 L110.644 218.249 L115.32 218.249 L115.32 248.874 L122.959 248.874 L122.959 252.809 L103.051 252.809 L103.051 248.874 Z\" fill=\"#000000\" fill-rule=\"evenodd\" fill-opacity=\"1\" /><path clip-path=\"url(#clip980)\" d=\"M142.403 221.328 Q138.792 221.328 136.963 224.893 Q135.158 228.435 135.158 235.564 Q135.158 242.671 136.963 246.235 Q138.792 249.777 142.403 249.777 Q146.037 249.777 147.843 246.235 Q149.672 242.671 149.672 235.564 Q149.672 228.435 147.843 224.893 Q146.037 221.328 142.403 221.328 M142.403 217.624 Q148.213 217.624 151.269 222.231 Q154.347 226.814 154.347 235.564 Q154.347 244.291 151.269 248.897 Q148.213 253.481 142.403 253.481 Q136.593 253.481 133.514 248.897 Q130.459 244.291 130.459 235.564 Q130.459 226.814 133.514 222.231 Q136.593 217.624 142.403 217.624 Z\" fill=\"#000000\" fill-rule=\"evenodd\" fill-opacity=\"1\" /><path clip-path=\"url(#clip980)\" d=\"M172.565 221.328 Q168.954 221.328 167.125 224.893 Q165.32 228.435 165.32 235.564 Q165.32 242.671 167.125 246.235 Q168.954 249.777 172.565 249.777 Q176.199 249.777 178.005 246.235 Q179.833 242.671 179.833 235.564 Q179.833 228.435 178.005 224.893 Q176.199 221.328 172.565 221.328 M172.565 217.624 Q178.375 217.624 181.431 222.231 Q184.509 226.814 184.509 235.564 Q184.509 244.291 181.431 248.897 Q178.375 253.481 172.565 253.481 Q166.755 253.481 163.676 248.897 Q160.621 244.291 160.621 235.564 Q160.621 226.814 163.676 222.231 Q166.755 217.624 172.565 217.624 Z\" fill=\"#000000\" fill-rule=\"evenodd\" fill-opacity=\"1\" /><path clip-path=\"url(#clip980)\" d=\"M9.88769 600.976 L46.8406 600.976 L46.8406 593.21 Q46.8406 583.375 42.3846 578.823 Q37.9286 574.24 28.3164 574.24 Q18.7679 574.24 14.3437 578.823 Q9.88769 583.375 9.88769 593.21 L9.88769 600.976 M4.60416 607.405 L4.60416 594.196 Q4.60416 580.383 10.3651 573.921 Q16.0943 567.46 28.3164 567.46 Q40.6022 567.46 46.3632 573.953 Q52.1242 580.446 52.1242 594.196 L52.1242 607.405 L4.60416 607.405 Z\" fill=\"#000000\" fill-rule=\"evenodd\" fill-opacity=\"1\" /><path clip-path=\"url(#clip980)\" d=\"M16.4762 557.466 L16.4762 551.61 L52.1242 551.61 L52.1242 557.466 L16.4762 557.466 M2.59896 557.466 L2.59896 551.61 L10.015 551.61 L10.015 557.466 L2.59896 557.466 Z\" fill=\"#000000\" fill-rule=\"evenodd\" fill-opacity=\"1\" /><path clip-path=\"url(#clip980)\" d=\"M17.5265 516.63 L23.0647 516.63 Q21.7916 519.113 21.155 521.786 Q20.5184 524.46 20.5184 527.325 Q20.5184 531.685 21.8552 533.881 Q23.192 536.046 25.8656 536.046 Q27.9026 536.046 29.0803 534.486 Q30.2261 532.926 31.2765 528.216 L31.7221 526.211 Q33.0589 519.972 35.5097 517.362 Q37.9286 514.72 42.2891 514.72 Q47.2544 514.72 50.1508 518.667 Q53.0472 522.582 53.0472 529.457 Q53.0472 532.322 52.4743 535.441 Q51.9332 538.528 50.8192 541.966 L44.7718 541.966 Q46.4587 538.719 47.318 535.568 Q48.1456 532.417 48.1456 529.33 Q48.1456 525.192 46.7451 522.964 Q45.3129 520.736 42.7347 520.736 Q40.3476 520.736 39.0745 522.359 Q37.8013 523.951 36.6237 529.393 L36.1462 531.43 Q35.0004 536.873 32.6451 539.292 Q30.258 541.711 26.1202 541.711 Q21.0913 541.711 18.3541 538.146 Q15.6168 534.581 15.6168 528.025 Q15.6168 524.778 16.0943 521.914 Q16.5717 519.049 17.5265 516.63 Z\" fill=\"#000000\" fill-rule=\"evenodd\" fill-opacity=\"1\" /><path clip-path=\"url(#clip980)\" d=\"M6.35473 499.602 L16.4762 499.602 L16.4762 487.539 L21.0277 487.539 L21.0277 499.602 L40.3794 499.602 Q44.7399 499.602 45.9813 498.424 Q47.2226 497.215 47.2226 493.554 L47.2226 487.539 L52.1242 487.539 L52.1242 493.554 Q52.1242 500.334 49.6097 502.912 Q47.0634 505.49 40.3794 505.49 L21.0277 505.49 L21.0277 509.787 L16.4762 509.787 L16.4762 505.49 L6.35473 505.49 L6.35473 499.602 Z\" fill=\"#000000\" fill-rule=\"evenodd\" fill-opacity=\"1\" /><circle clip-path=\"url(#clip982)\" cx=\"280.856\" cy=\"1019.39\" r=\"14\" fill=\"#009af9\" fill-rule=\"evenodd\" fill-opacity=\"1\" stroke=\"#000000\" stroke-opacity=\"1\" stroke-width=\"2.4\"/>\n",
       "<circle clip-path=\"url(#clip982)\" cx=\"280.856\" cy=\"955.397\" r=\"14\" fill=\"#009af9\" fill-rule=\"evenodd\" fill-opacity=\"1\" stroke=\"#000000\" stroke-opacity=\"1\" stroke-width=\"2.4\"/>\n",
       "<circle clip-path=\"url(#clip982)\" cx=\"568.221\" cy=\"1003.39\" r=\"14\" fill=\"#009af9\" fill-rule=\"evenodd\" fill-opacity=\"1\" stroke=\"#000000\" stroke-opacity=\"1\" stroke-width=\"2.4\"/>\n",
       "<circle clip-path=\"url(#clip982)\" cx=\"568.221\" cy=\"859.415\" r=\"14\" fill=\"#009af9\" fill-rule=\"evenodd\" fill-opacity=\"1\" stroke=\"#000000\" stroke-opacity=\"1\" stroke-width=\"2.4\"/>\n",
       "<circle clip-path=\"url(#clip982)\" cx=\"664.009\" cy=\"907.406\" r=\"14\" fill=\"#009af9\" fill-rule=\"evenodd\" fill-opacity=\"1\" stroke=\"#000000\" stroke-opacity=\"1\" stroke-width=\"2.4\"/>\n",
       "<circle clip-path=\"url(#clip982)\" cx=\"759.797\" cy=\"955.397\" r=\"14\" fill=\"#009af9\" fill-rule=\"evenodd\" fill-opacity=\"1\" stroke=\"#000000\" stroke-opacity=\"1\" stroke-width=\"2.4\"/>\n",
       "<circle clip-path=\"url(#clip982)\" cx=\"855.585\" cy=\"891.409\" r=\"14\" fill=\"#009af9\" fill-rule=\"evenodd\" fill-opacity=\"1\" stroke=\"#000000\" stroke-opacity=\"1\" stroke-width=\"2.4\"/>\n",
       "<circle clip-path=\"url(#clip982)\" cx=\"855.585\" cy=\"827.42\" r=\"14\" fill=\"#009af9\" fill-rule=\"evenodd\" fill-opacity=\"1\" stroke=\"#000000\" stroke-opacity=\"1\" stroke-width=\"2.4\"/>\n",
       "<circle clip-path=\"url(#clip982)\" cx=\"855.585\" cy=\"763.432\" r=\"14\" fill=\"#009af9\" fill-rule=\"evenodd\" fill-opacity=\"1\" stroke=\"#000000\" stroke-opacity=\"1\" stroke-width=\"2.4\"/>\n",
       "<circle clip-path=\"url(#clip982)\" cx=\"951.374\" cy=\"899.407\" r=\"14\" fill=\"#009af9\" fill-rule=\"evenodd\" fill-opacity=\"1\" stroke=\"#000000\" stroke-opacity=\"1\" stroke-width=\"2.4\"/>\n",
       "<circle clip-path=\"url(#clip982)\" cx=\"951.374\" cy=\"811.423\" r=\"14\" fill=\"#009af9\" fill-rule=\"evenodd\" fill-opacity=\"1\" stroke=\"#000000\" stroke-opacity=\"1\" stroke-width=\"2.4\"/>\n",
       "<circle clip-path=\"url(#clip982)\" cx=\"1047.16\" cy=\"923.403\" r=\"14\" fill=\"#009af9\" fill-rule=\"evenodd\" fill-opacity=\"1\" stroke=\"#000000\" stroke-opacity=\"1\" stroke-width=\"2.4\"/>\n",
       "<circle clip-path=\"url(#clip982)\" cx=\"1047.16\" cy=\"875.412\" r=\"14\" fill=\"#009af9\" fill-rule=\"evenodd\" fill-opacity=\"1\" stroke=\"#000000\" stroke-opacity=\"1\" stroke-width=\"2.4\"/>\n",
       "<circle clip-path=\"url(#clip982)\" cx=\"1047.16\" cy=\"843.417\" r=\"14\" fill=\"#009af9\" fill-rule=\"evenodd\" fill-opacity=\"1\" stroke=\"#000000\" stroke-opacity=\"1\" stroke-width=\"2.4\"/>\n",
       "<circle clip-path=\"url(#clip982)\" cx=\"1047.16\" cy=\"811.423\" r=\"14\" fill=\"#009af9\" fill-rule=\"evenodd\" fill-opacity=\"1\" stroke=\"#000000\" stroke-opacity=\"1\" stroke-width=\"2.4\"/>\n",
       "<circle clip-path=\"url(#clip982)\" cx=\"1142.95\" cy=\"827.42\" r=\"14\" fill=\"#009af9\" fill-rule=\"evenodd\" fill-opacity=\"1\" stroke=\"#000000\" stroke-opacity=\"1\" stroke-width=\"2.4\"/>\n",
       "<circle clip-path=\"url(#clip982)\" cx=\"1142.95\" cy=\"763.432\" r=\"14\" fill=\"#009af9\" fill-rule=\"evenodd\" fill-opacity=\"1\" stroke=\"#000000\" stroke-opacity=\"1\" stroke-width=\"2.4\"/>\n",
       "<circle clip-path=\"url(#clip982)\" cx=\"1142.95\" cy=\"763.432\" r=\"14\" fill=\"#009af9\" fill-rule=\"evenodd\" fill-opacity=\"1\" stroke=\"#000000\" stroke-opacity=\"1\" stroke-width=\"2.4\"/>\n",
       "<circle clip-path=\"url(#clip982)\" cx=\"1142.95\" cy=\"667.45\" r=\"14\" fill=\"#009af9\" fill-rule=\"evenodd\" fill-opacity=\"1\" stroke=\"#000000\" stroke-opacity=\"1\" stroke-width=\"2.4\"/>\n",
       "<circle clip-path=\"url(#clip982)\" cx=\"1238.74\" cy=\"827.42\" r=\"14\" fill=\"#009af9\" fill-rule=\"evenodd\" fill-opacity=\"1\" stroke=\"#000000\" stroke-opacity=\"1\" stroke-width=\"2.4\"/>\n",
       "<circle clip-path=\"url(#clip982)\" cx=\"1238.74\" cy=\"747.435\" r=\"14\" fill=\"#009af9\" fill-rule=\"evenodd\" fill-opacity=\"1\" stroke=\"#000000\" stroke-opacity=\"1\" stroke-width=\"2.4\"/>\n",
       "<circle clip-path=\"url(#clip982)\" cx=\"1238.74\" cy=\"555.47\" r=\"14\" fill=\"#009af9\" fill-rule=\"evenodd\" fill-opacity=\"1\" stroke=\"#000000\" stroke-opacity=\"1\" stroke-width=\"2.4\"/>\n",
       "<circle clip-path=\"url(#clip982)\" cx=\"1238.74\" cy=\"395.5\" r=\"14\" fill=\"#009af9\" fill-rule=\"evenodd\" fill-opacity=\"1\" stroke=\"#000000\" stroke-opacity=\"1\" stroke-width=\"2.4\"/>\n",
       "<circle clip-path=\"url(#clip982)\" cx=\"1334.53\" cy=\"875.412\" r=\"14\" fill=\"#009af9\" fill-rule=\"evenodd\" fill-opacity=\"1\" stroke=\"#000000\" stroke-opacity=\"1\" stroke-width=\"2.4\"/>\n",
       "<circle clip-path=\"url(#clip982)\" cx=\"1334.53\" cy=\"827.42\" r=\"14\" fill=\"#009af9\" fill-rule=\"evenodd\" fill-opacity=\"1\" stroke=\"#000000\" stroke-opacity=\"1\" stroke-width=\"2.4\"/>\n",
       "<circle clip-path=\"url(#clip982)\" cx=\"1334.53\" cy=\"603.462\" r=\"14\" fill=\"#009af9\" fill-rule=\"evenodd\" fill-opacity=\"1\" stroke=\"#000000\" stroke-opacity=\"1\" stroke-width=\"2.4\"/>\n",
       "<circle clip-path=\"url(#clip982)\" cx=\"1430.32\" cy=\"779.429\" r=\"14\" fill=\"#009af9\" fill-rule=\"evenodd\" fill-opacity=\"1\" stroke=\"#000000\" stroke-opacity=\"1\" stroke-width=\"2.4\"/>\n",
       "<circle clip-path=\"url(#clip982)\" cx=\"1430.32\" cy=\"715.441\" r=\"14\" fill=\"#009af9\" fill-rule=\"evenodd\" fill-opacity=\"1\" stroke=\"#000000\" stroke-opacity=\"1\" stroke-width=\"2.4\"/>\n",
       "<circle clip-path=\"url(#clip982)\" cx=\"1526.1\" cy=\"779.429\" r=\"14\" fill=\"#009af9\" fill-rule=\"evenodd\" fill-opacity=\"1\" stroke=\"#000000\" stroke-opacity=\"1\" stroke-width=\"2.4\"/>\n",
       "<circle clip-path=\"url(#clip982)\" cx=\"1526.1\" cy=\"715.441\" r=\"14\" fill=\"#009af9\" fill-rule=\"evenodd\" fill-opacity=\"1\" stroke=\"#000000\" stroke-opacity=\"1\" stroke-width=\"2.4\"/>\n",
       "<circle clip-path=\"url(#clip982)\" cx=\"1526.1\" cy=\"635.456\" r=\"14\" fill=\"#009af9\" fill-rule=\"evenodd\" fill-opacity=\"1\" stroke=\"#000000\" stroke-opacity=\"1\" stroke-width=\"2.4\"/>\n",
       "<circle clip-path=\"url(#clip982)\" cx=\"1621.89\" cy=\"699.444\" r=\"14\" fill=\"#009af9\" fill-rule=\"evenodd\" fill-opacity=\"1\" stroke=\"#000000\" stroke-opacity=\"1\" stroke-width=\"2.4\"/>\n",
       "<circle clip-path=\"url(#clip982)\" cx=\"1621.89\" cy=\"587.465\" r=\"14\" fill=\"#009af9\" fill-rule=\"evenodd\" fill-opacity=\"1\" stroke=\"#000000\" stroke-opacity=\"1\" stroke-width=\"2.4\"/>\n",
       "<circle clip-path=\"url(#clip982)\" cx=\"1621.89\" cy=\"427.494\" r=\"14\" fill=\"#009af9\" fill-rule=\"evenodd\" fill-opacity=\"1\" stroke=\"#000000\" stroke-opacity=\"1\" stroke-width=\"2.4\"/>\n",
       "<circle clip-path=\"url(#clip982)\" cx=\"1621.89\" cy=\"363.506\" r=\"14\" fill=\"#009af9\" fill-rule=\"evenodd\" fill-opacity=\"1\" stroke=\"#000000\" stroke-opacity=\"1\" stroke-width=\"2.4\"/>\n",
       "<circle clip-path=\"url(#clip982)\" cx=\"1717.68\" cy=\"747.435\" r=\"14\" fill=\"#009af9\" fill-rule=\"evenodd\" fill-opacity=\"1\" stroke=\"#000000\" stroke-opacity=\"1\" stroke-width=\"2.4\"/>\n",
       "<circle clip-path=\"url(#clip982)\" cx=\"1717.68\" cy=\"667.45\" r=\"14\" fill=\"#009af9\" fill-rule=\"evenodd\" fill-opacity=\"1\" stroke=\"#000000\" stroke-opacity=\"1\" stroke-width=\"2.4\"/>\n",
       "<circle clip-path=\"url(#clip982)\" cx=\"1717.68\" cy=\"491.482\" r=\"14\" fill=\"#009af9\" fill-rule=\"evenodd\" fill-opacity=\"1\" stroke=\"#000000\" stroke-opacity=\"1\" stroke-width=\"2.4\"/>\n",
       "<circle clip-path=\"url(#clip982)\" cx=\"1813.47\" cy=\"779.429\" r=\"14\" fill=\"#009af9\" fill-rule=\"evenodd\" fill-opacity=\"1\" stroke=\"#000000\" stroke-opacity=\"1\" stroke-width=\"2.4\"/>\n",
       "<circle clip-path=\"url(#clip982)\" cx=\"1813.47\" cy=\"651.453\" r=\"14\" fill=\"#009af9\" fill-rule=\"evenodd\" fill-opacity=\"1\" stroke=\"#000000\" stroke-opacity=\"1\" stroke-width=\"2.4\"/>\n",
       "<circle clip-path=\"url(#clip982)\" cx=\"1813.47\" cy=\"619.459\" r=\"14\" fill=\"#009af9\" fill-rule=\"evenodd\" fill-opacity=\"1\" stroke=\"#000000\" stroke-opacity=\"1\" stroke-width=\"2.4\"/>\n",
       "<circle clip-path=\"url(#clip982)\" cx=\"1813.47\" cy=\"587.465\" r=\"14\" fill=\"#009af9\" fill-rule=\"evenodd\" fill-opacity=\"1\" stroke=\"#000000\" stroke-opacity=\"1\" stroke-width=\"2.4\"/>\n",
       "<circle clip-path=\"url(#clip982)\" cx=\"1813.47\" cy=\"523.476\" r=\"14\" fill=\"#009af9\" fill-rule=\"evenodd\" fill-opacity=\"1\" stroke=\"#000000\" stroke-opacity=\"1\" stroke-width=\"2.4\"/>\n",
       "<circle clip-path=\"url(#clip982)\" cx=\"2005.04\" cy=\"507.479\" r=\"14\" fill=\"#009af9\" fill-rule=\"evenodd\" fill-opacity=\"1\" stroke=\"#000000\" stroke-opacity=\"1\" stroke-width=\"2.4\"/>\n",
       "<circle clip-path=\"url(#clip982)\" cx=\"2100.83\" cy=\"603.462\" r=\"14\" fill=\"#009af9\" fill-rule=\"evenodd\" fill-opacity=\"1\" stroke=\"#000000\" stroke-opacity=\"1\" stroke-width=\"2.4\"/>\n",
       "<circle clip-path=\"url(#clip982)\" cx=\"2196.62\" cy=\"475.485\" r=\"14\" fill=\"#009af9\" fill-rule=\"evenodd\" fill-opacity=\"1\" stroke=\"#000000\" stroke-opacity=\"1\" stroke-width=\"2.4\"/>\n",
       "<circle clip-path=\"url(#clip982)\" cx=\"2196.62\" cy=\"299.518\" r=\"14\" fill=\"#009af9\" fill-rule=\"evenodd\" fill-opacity=\"1\" stroke=\"#000000\" stroke-opacity=\"1\" stroke-width=\"2.4\"/>\n",
       "<circle clip-path=\"url(#clip982)\" cx=\"2196.62\" cy=\"291.519\" r=\"14\" fill=\"#009af9\" fill-rule=\"evenodd\" fill-opacity=\"1\" stroke=\"#000000\" stroke-opacity=\"1\" stroke-width=\"2.4\"/>\n",
       "<circle clip-path=\"url(#clip982)\" cx=\"2196.62\" cy=\"75.5589\" r=\"14\" fill=\"#009af9\" fill-rule=\"evenodd\" fill-opacity=\"1\" stroke=\"#000000\" stroke-opacity=\"1\" stroke-width=\"2.4\"/>\n",
       "<circle clip-path=\"url(#clip982)\" cx=\"2292.41\" cy=\"355.507\" r=\"14\" fill=\"#009af9\" fill-rule=\"evenodd\" fill-opacity=\"1\" stroke=\"#000000\" stroke-opacity=\"1\" stroke-width=\"2.4\"/>\n",
       "</svg>\n"
      ]
     },
     "execution_count": 7,
     "metadata": {},
     "output_type": "execute_result"
    },
    {
     "name": "stderr",
     "output_type": "stream",
     "text": [
      "┌ Info: Precompiling GR_jll [d2c73de3-f751-5644-a686-071e5b155ba9]\n",
      "└ @ Base loading.jl:1423\n"
     ]
    }
   ],
   "source": [
    "scatter(data_cars[:,\"Speed\"], data_cars[:,\"Dist\"], \n",
    "            legend=false, \n",
    "            xlabel = \"Speed\",\n",
    "            ylabel = \"Dist\",\n",
    "            size = (600,300))"
   ]
  },
  {
   "cell_type": "markdown",
   "metadata": {},
   "source": [
    "Wir wollen die lineare Abhängigkeit dieser Variablen mittels Regression schätzen.\n",
    "\n",
    "Beide Variablen sind eindimensional. D.h:"
   ]
  },
  {
   "cell_type": "code",
   "execution_count": 8,
   "metadata": {},
   "outputs": [],
   "source": [
    "D = 1; N = 1;"
   ]
  },
  {
   "cell_type": "markdown",
   "metadata": {},
   "source": [
    "## Aufteilen der Daten"
   ]
  },
  {
   "cell_type": "markdown",
   "metadata": {},
   "source": [
    "Wir teilen die Daten in Trainings- und Testdaten auf.\n",
    "\n",
    "Die Wahl soll zufällig sein und $75\\%$ der Daten sollen Trainingsdaten sein."
   ]
  },
  {
   "cell_type": "code",
   "execution_count": 9,
   "metadata": {},
   "outputs": [
    {
     "data": {
      "text/plain": [
       "38"
      ]
     },
     "execution_count": 9,
     "metadata": {},
     "output_type": "execute_result"
    }
   ],
   "source": [
    "k = size(data_cars, 1)\n",
    "n = round(Int, k * 0.75)"
   ]
  },
  {
   "cell_type": "markdown",
   "metadata": {},
   "source": [
    "Die Trainingsdaten speichern wir in den Vektoren `X` und `Y`."
   ]
  },
  {
   "cell_type": "code",
   "execution_count": 10,
   "metadata": {},
   "outputs": [],
   "source": [
    "i_training = sample(1:k, n, replace = false)\n",
    "X = data_cars[i_training,\"Speed\"]\n",
    "Y = data_cars[i_training,\"Dist\"];"
   ]
  },
  {
   "cell_type": "markdown",
   "metadata": {},
   "source": [
    "Die Testdaten speichern wir in den Vektoren `X_test` und `Y_test`."
   ]
  },
  {
   "cell_type": "code",
   "execution_count": 11,
   "metadata": {},
   "outputs": [],
   "source": [
    "i_test = setdiff(1:k, i_training)\n",
    "X_test = data_cars[i_test,\"Speed\"]\n",
    "Y_test = data_cars[i_test,\"Dist\"];"
   ]
  },
  {
   "cell_type": "markdown",
   "metadata": {},
   "source": [
    "## Definition des Modells\n",
    "\n",
    "Wir definieren nun das deterministische lineare Modell $f:\\mathbb R^D \\to \\mathbb R^N$:"
   ]
  },
  {
   "cell_type": "code",
   "execution_count": 12,
   "metadata": {},
   "outputs": [],
   "source": [
    "f(x::Number, θ) = θ[2] * x + θ[1];"
   ]
  },
  {
   "cell_type": "markdown",
   "metadata": {},
   "source": [
    "Da $N=1$ können wir für `x` den Typ `Number` angeben. \n",
    "\n",
    "Es wird später außerdem hilfreich sein, per Multiple-Dispatch die Definition von `f` auf Vektoren zu erweitern."
   ]
  },
  {
   "cell_type": "code",
   "execution_count": 13,
   "metadata": {},
   "outputs": [
    {
     "data": {
      "text/plain": [
       "f (generic function with 2 methods)"
      ]
     },
     "execution_count": 13,
     "metadata": {},
     "output_type": "execute_result"
    }
   ],
   "source": [
    "f(X::Vector, θ) = [f(x, θ) for x in X]"
   ]
  },
  {
   "cell_type": "markdown",
   "metadata": {},
   "source": [
    "Wir definieren weiterhin das statistische Modell für die Varianz $\\sigma^2=10$."
   ]
  },
  {
   "cell_type": "code",
   "execution_count": 14,
   "metadata": {},
   "outputs": [],
   "source": [
    "σ² = 10\n",
    "s = sqrt(σ²)\n",
    "Φ(x::Number, θ) = s * randn() + f(x, θ)\n",
    "Φ(X::Vector, θ) = [Φ(x, θ) for x in X];"
   ]
  },
  {
   "cell_type": "markdown",
   "metadata": {},
   "source": [
    "Wir definieren außerdem die Feature Matrix."
   ]
  },
  {
   "cell_type": "code",
   "execution_count": 15,
   "metadata": {},
   "outputs": [],
   "source": [
    "Ω = [ones(n) X];"
   ]
  },
  {
   "cell_type": "markdown",
   "metadata": {},
   "source": [
    "---\n",
    "## Training"
   ]
  },
  {
   "cell_type": "markdown",
   "metadata": {},
   "source": [
    "Jetzt trainieren wir unser Modell mit verschiedenen Methoden. "
   ]
  },
  {
   "cell_type": "markdown",
   "metadata": {},
   "source": [
    "#### Empirical Risk Minimization\n",
    "\n",
    "Bei ERM ist der Parameter durch $\\theta = \\Omega^\\dagger Y$ gegeben.\n",
    "\n",
    "Wir berechnen diesen Parameter wie folgt:"
   ]
  },
  {
   "cell_type": "code",
   "execution_count": 16,
   "metadata": {},
   "outputs": [
    {
     "data": {
      "text/plain": [
       "2-element Vector{Float64}:\n",
       " -21.132455668995167\n",
       "   3.9780225685115536"
      ]
     },
     "execution_count": 16,
     "metadata": {},
     "output_type": "execute_result"
    }
   ],
   "source": [
    "θ_ERM = Ω \\ Y"
   ]
  },
  {
   "cell_type": "markdown",
   "metadata": {},
   "source": [
    "ERM hat die folgenden Parameter für $f_\\theta(x)=ax+b$ geschätzt."
   ]
  },
  {
   "cell_type": "code",
   "execution_count": 17,
   "metadata": {},
   "outputs": [
    {
     "name": "stdout",
     "output_type": "stream",
     "text": [
      "a = 3.9780225685115536, b = -21.132455668995167\n"
     ]
    }
   ],
   "source": [
    "println(\"a = $(θ_ERM[2]), b = $(θ_ERM[1])\")"
   ]
  },
  {
   "cell_type": "markdown",
   "metadata": {},
   "source": [
    "Wir visualieren die geschätzte Funktion zusammen mit den Trainingsdaten."
   ]
  },
  {
   "cell_type": "code",
   "execution_count": 25,
   "metadata": {},
   "outputs": [
    {
     "data": {
      "image/svg+xml": [
       "<?xml version=\"1.0\" encoding=\"utf-8\"?>\n",
       "<svg xmlns=\"http://www.w3.org/2000/svg\" xmlns:xlink=\"http://www.w3.org/1999/xlink\" width=\"600\" height=\"300\" viewBox=\"0 0 2400 1200\">\n",
       "<defs>\n",
       "  <clipPath id=\"clip230\">\n",
       "    <rect x=\"0\" y=\"0\" width=\"2400\" height=\"1200\"/>\n",
       "  </clipPath>\n",
       "</defs>\n",
       "<path clip-path=\"url(#clip230)\" d=\"\n",
       "M0 1200 L2400 1200 L2400 0 L0 0  Z\n",
       "  \" fill=\"#ffffff\" fill-rule=\"evenodd\" fill-opacity=\"1\"/>\n",
       "<defs>\n",
       "  <clipPath id=\"clip231\">\n",
       "    <rect x=\"480\" y=\"0\" width=\"1681\" height=\"1200\"/>\n",
       "  </clipPath>\n",
       "</defs>\n",
       "<path clip-path=\"url(#clip230)\" d=\"\n",
       "M220.509 1047.7 L2352.76 1047.7 L2352.76 47.2441 L220.509 47.2441  Z\n",
       "  \" fill=\"#ffffff\" fill-rule=\"evenodd\" fill-opacity=\"1\"/>\n",
       "<defs>\n",
       "  <clipPath id=\"clip232\">\n",
       "    <rect x=\"220\" y=\"47\" width=\"2133\" height=\"1001\"/>\n",
       "  </clipPath>\n",
       "</defs>\n",
       "<polyline clip-path=\"url(#clip232)\" style=\"stroke:#000000; stroke-linecap:butt; stroke-linejoin:round; stroke-width:2; stroke-opacity:0.1; fill:none\" points=\"\n",
       "  463.724,1047.7 463.724,47.2441 \n",
       "  \"/>\n",
       "<polyline clip-path=\"url(#clip232)\" style=\"stroke:#000000; stroke-linecap:butt; stroke-linejoin:round; stroke-width:2; stroke-opacity:0.1; fill:none\" points=\"\n",
       "  920.896,1047.7 920.896,47.2441 \n",
       "  \"/>\n",
       "<polyline clip-path=\"url(#clip232)\" style=\"stroke:#000000; stroke-linecap:butt; stroke-linejoin:round; stroke-width:2; stroke-opacity:0.1; fill:none\" points=\"\n",
       "  1378.07,1047.7 1378.07,47.2441 \n",
       "  \"/>\n",
       "<polyline clip-path=\"url(#clip232)\" style=\"stroke:#000000; stroke-linecap:butt; stroke-linejoin:round; stroke-width:2; stroke-opacity:0.1; fill:none\" points=\"\n",
       "  1835.24,1047.7 1835.24,47.2441 \n",
       "  \"/>\n",
       "<polyline clip-path=\"url(#clip232)\" style=\"stroke:#000000; stroke-linecap:butt; stroke-linejoin:round; stroke-width:2; stroke-opacity:0.1; fill:none\" points=\"\n",
       "  2292.41,1047.7 2292.41,47.2441 \n",
       "  \"/>\n",
       "<polyline clip-path=\"url(#clip230)\" style=\"stroke:#000000; stroke-linecap:butt; stroke-linejoin:round; stroke-width:4; stroke-opacity:1; fill:none\" points=\"\n",
       "  220.509,1047.7 2352.76,1047.7 \n",
       "  \"/>\n",
       "<polyline clip-path=\"url(#clip230)\" style=\"stroke:#000000; stroke-linecap:butt; stroke-linejoin:round; stroke-width:4; stroke-opacity:1; fill:none\" points=\"\n",
       "  463.724,1047.7 463.724,1028.8 \n",
       "  \"/>\n",
       "<polyline clip-path=\"url(#clip230)\" style=\"stroke:#000000; stroke-linecap:butt; stroke-linejoin:round; stroke-width:4; stroke-opacity:1; fill:none\" points=\"\n",
       "  920.896,1047.7 920.896,1028.8 \n",
       "  \"/>\n",
       "<polyline clip-path=\"url(#clip230)\" style=\"stroke:#000000; stroke-linecap:butt; stroke-linejoin:round; stroke-width:4; stroke-opacity:1; fill:none\" points=\"\n",
       "  1378.07,1047.7 1378.07,1028.8 \n",
       "  \"/>\n",
       "<polyline clip-path=\"url(#clip230)\" style=\"stroke:#000000; stroke-linecap:butt; stroke-linejoin:round; stroke-width:4; stroke-opacity:1; fill:none\" points=\"\n",
       "  1835.24,1047.7 1835.24,1028.8 \n",
       "  \"/>\n",
       "<polyline clip-path=\"url(#clip230)\" style=\"stroke:#000000; stroke-linecap:butt; stroke-linejoin:round; stroke-width:4; stroke-opacity:1; fill:none\" points=\"\n",
       "  2292.41,1047.7 2292.41,1028.8 \n",
       "  \"/>\n",
       "<path clip-path=\"url(#clip230)\" d=\"M454.002 1075.54 L472.359 1075.54 L472.359 1079.48 L458.285 1079.48 L458.285 1087.95 Q459.303 1087.6 460.322 1087.44 Q461.34 1087.25 462.359 1087.25 Q468.146 1087.25 471.525 1090.42 Q474.905 1093.6 474.905 1099.01 Q474.905 1104.59 471.433 1107.69 Q467.961 1110.77 461.641 1110.77 Q459.465 1110.77 457.197 1110.4 Q454.951 1110.03 452.544 1109.29 L452.544 1104.59 Q454.627 1105.72 456.849 1106.28 Q459.072 1106.84 461.549 1106.84 Q465.553 1106.84 467.891 1104.73 Q470.229 1102.62 470.229 1099.01 Q470.229 1095.4 467.891 1093.29 Q465.553 1091.19 461.549 1091.19 Q459.674 1091.19 457.799 1091.6 Q455.947 1092.02 454.002 1092.9 L454.002 1075.54 Z\" fill=\"#000000\" fill-rule=\"evenodd\" fill-opacity=\"1\" /><path clip-path=\"url(#clip230)\" d=\"M895.583 1106.16 L903.222 1106.16 L903.222 1079.8 L894.912 1081.47 L894.912 1077.21 L903.176 1075.54 L907.852 1075.54 L907.852 1106.16 L915.491 1106.16 L915.491 1110.1 L895.583 1110.1 L895.583 1106.16 Z\" fill=\"#000000\" fill-rule=\"evenodd\" fill-opacity=\"1\" /><path clip-path=\"url(#clip230)\" d=\"M934.935 1078.62 Q931.324 1078.62 929.495 1082.18 Q927.69 1085.72 927.69 1092.85 Q927.69 1099.96 929.495 1103.53 Q931.324 1107.07 934.935 1107.07 Q938.569 1107.07 940.375 1103.53 Q942.203 1099.96 942.203 1092.85 Q942.203 1085.72 940.375 1082.18 Q938.569 1078.62 934.935 1078.62 M934.935 1074.91 Q940.745 1074.91 943.801 1079.52 Q946.879 1084.1 946.879 1092.85 Q946.879 1101.58 943.801 1106.19 Q940.745 1110.77 934.935 1110.77 Q929.125 1110.77 926.046 1106.19 Q922.991 1101.58 922.991 1092.85 Q922.991 1084.1 926.046 1079.52 Q929.125 1074.91 934.935 1074.91 Z\" fill=\"#000000\" fill-rule=\"evenodd\" fill-opacity=\"1\" /><path clip-path=\"url(#clip230)\" d=\"M1353.25 1106.16 L1360.89 1106.16 L1360.89 1079.8 L1352.58 1081.47 L1352.58 1077.21 L1360.84 1075.54 L1365.52 1075.54 L1365.52 1106.16 L1373.16 1106.16 L1373.16 1110.1 L1353.25 1110.1 L1353.25 1106.16 Z\" fill=\"#000000\" fill-rule=\"evenodd\" fill-opacity=\"1\" /><path clip-path=\"url(#clip230)\" d=\"M1382.65 1075.54 L1401.01 1075.54 L1401.01 1079.48 L1386.93 1079.48 L1386.93 1087.95 Q1387.95 1087.6 1388.97 1087.44 Q1389.99 1087.25 1391.01 1087.25 Q1396.79 1087.25 1400.17 1090.42 Q1403.55 1093.6 1403.55 1099.01 Q1403.55 1104.59 1400.08 1107.69 Q1396.61 1110.77 1390.29 1110.77 Q1388.11 1110.77 1385.84 1110.4 Q1383.6 1110.03 1381.19 1109.29 L1381.19 1104.59 Q1383.28 1105.72 1385.5 1106.28 Q1387.72 1106.84 1390.2 1106.84 Q1394.2 1106.84 1396.54 1104.73 Q1398.88 1102.62 1398.88 1099.01 Q1398.88 1095.4 1396.54 1093.29 Q1394.2 1091.19 1390.2 1091.19 Q1388.32 1091.19 1386.45 1091.6 Q1384.59 1092.02 1382.65 1092.9 L1382.65 1075.54 Z\" fill=\"#000000\" fill-rule=\"evenodd\" fill-opacity=\"1\" /><path clip-path=\"url(#clip230)\" d=\"M1814.01 1106.16 L1830.33 1106.16 L1830.33 1110.1 L1808.39 1110.1 L1808.39 1106.16 Q1811.05 1103.41 1815.63 1098.78 Q1820.24 1094.13 1821.42 1092.79 Q1823.66 1090.26 1824.54 1088.53 Q1825.45 1086.77 1825.45 1085.08 Q1825.45 1082.32 1823.5 1080.59 Q1821.58 1078.85 1818.48 1078.85 Q1816.28 1078.85 1813.83 1079.61 Q1811.4 1080.38 1808.62 1081.93 L1808.62 1077.21 Q1811.44 1076.07 1813.9 1075.49 Q1816.35 1074.91 1818.39 1074.91 Q1823.76 1074.91 1826.95 1077.6 Q1830.15 1080.29 1830.15 1084.78 Q1830.15 1086.91 1829.34 1088.83 Q1828.55 1090.72 1826.44 1093.32 Q1825.86 1093.99 1822.76 1097.21 Q1819.66 1100.4 1814.01 1106.16 Z\" fill=\"#000000\" fill-rule=\"evenodd\" fill-opacity=\"1\" /><path clip-path=\"url(#clip230)\" d=\"M1850.15 1078.62 Q1846.53 1078.62 1844.71 1082.18 Q1842.9 1085.72 1842.9 1092.85 Q1842.9 1099.96 1844.71 1103.53 Q1846.53 1107.07 1850.15 1107.07 Q1853.78 1107.07 1855.59 1103.53 Q1857.41 1099.96 1857.41 1092.85 Q1857.41 1085.72 1855.59 1082.18 Q1853.78 1078.62 1850.15 1078.62 M1850.15 1074.91 Q1855.96 1074.91 1859.01 1079.52 Q1862.09 1084.1 1862.09 1092.85 Q1862.09 1101.58 1859.01 1106.19 Q1855.96 1110.77 1850.15 1110.77 Q1844.34 1110.77 1841.26 1106.19 Q1838.2 1101.58 1838.2 1092.85 Q1838.2 1084.1 1841.26 1079.52 Q1844.34 1074.91 1850.15 1074.91 Z\" fill=\"#000000\" fill-rule=\"evenodd\" fill-opacity=\"1\" /><path clip-path=\"url(#clip230)\" d=\"M2271.68 1106.16 L2288 1106.16 L2288 1110.1 L2266.06 1110.1 L2266.06 1106.16 Q2268.72 1103.41 2273.3 1098.78 Q2277.91 1094.13 2279.09 1092.79 Q2281.33 1090.26 2282.21 1088.53 Q2283.12 1086.77 2283.12 1085.08 Q2283.12 1082.32 2281.17 1080.59 Q2279.25 1078.85 2276.15 1078.85 Q2273.95 1078.85 2271.5 1079.61 Q2269.06 1080.38 2266.29 1081.93 L2266.29 1077.21 Q2269.11 1076.07 2271.56 1075.49 Q2274.02 1074.91 2276.06 1074.91 Q2281.43 1074.91 2284.62 1077.6 Q2287.81 1080.29 2287.81 1084.78 Q2287.81 1086.91 2287 1088.83 Q2286.22 1090.72 2284.11 1093.32 Q2283.53 1093.99 2280.43 1097.21 Q2277.33 1100.4 2271.68 1106.16 Z\" fill=\"#000000\" fill-rule=\"evenodd\" fill-opacity=\"1\" /><path clip-path=\"url(#clip230)\" d=\"M2297.86 1075.54 L2316.22 1075.54 L2316.22 1079.48 L2302.14 1079.48 L2302.14 1087.95 Q2303.16 1087.6 2304.18 1087.44 Q2305.2 1087.25 2306.22 1087.25 Q2312 1087.25 2315.38 1090.42 Q2318.76 1093.6 2318.76 1099.01 Q2318.76 1104.59 2315.29 1107.69 Q2311.82 1110.77 2305.5 1110.77 Q2303.32 1110.77 2301.06 1110.4 Q2298.81 1110.03 2296.4 1109.29 L2296.4 1104.59 Q2298.49 1105.72 2300.71 1106.28 Q2302.93 1106.84 2305.41 1106.84 Q2309.41 1106.84 2311.75 1104.73 Q2314.09 1102.62 2314.09 1099.01 Q2314.09 1095.4 2311.75 1093.29 Q2309.41 1091.19 2305.41 1091.19 Q2303.53 1091.19 2301.66 1091.6 Q2299.81 1092.02 2297.86 1092.9 L2297.86 1075.54 Z\" fill=\"#000000\" fill-rule=\"evenodd\" fill-opacity=\"1\" /><path clip-path=\"url(#clip230)\" d=\"M1220.16 1146.6 L1220.16 1152.87 Q1216.5 1151.12 1213.25 1150.26 Q1210.01 1149.4 1206.98 1149.4 Q1201.73 1149.4 1198.87 1151.44 Q1196.03 1153.48 1196.03 1157.23 Q1196.03 1160.39 1197.91 1162.01 Q1199.82 1163.6 1205.1 1164.59 L1208.99 1165.38 Q1216.18 1166.75 1219.59 1170.22 Q1223.02 1173.66 1223.02 1179.45 Q1223.02 1186.36 1218.38 1189.92 Q1213.76 1193.49 1204.82 1193.49 Q1201.44 1193.49 1197.62 1192.72 Q1193.84 1191.96 1189.76 1190.46 L1189.76 1183.84 Q1193.68 1186.04 1197.43 1187.15 Q1201.19 1188.27 1204.82 1188.27 Q1210.32 1188.27 1213.32 1186.1 Q1216.31 1183.94 1216.31 1179.93 Q1216.31 1176.43 1214.14 1174.45 Q1212.01 1172.48 1207.11 1171.49 L1203.19 1170.73 Q1196 1169.3 1192.79 1166.24 Q1189.57 1163.19 1189.57 1157.74 Q1189.57 1151.44 1194 1147.81 Q1198.45 1144.18 1206.25 1144.18 Q1209.59 1144.18 1213.06 1144.79 Q1216.53 1145.39 1220.16 1146.6 Z\" fill=\"#000000\" fill-rule=\"evenodd\" fill-opacity=\"1\" /><path clip-path=\"url(#clip230)\" d=\"M1238.46 1187.22 L1238.46 1206.12 L1232.57 1206.12 L1232.57 1156.92 L1238.46 1156.92 L1238.46 1162.33 Q1240.31 1159.14 1243.11 1157.62 Q1245.94 1156.06 1249.85 1156.06 Q1256.35 1156.06 1260.39 1161.21 Q1264.46 1166.37 1264.46 1174.77 Q1264.46 1183.17 1260.39 1188.33 Q1256.35 1193.49 1249.85 1193.49 Q1245.94 1193.49 1243.11 1191.96 Q1240.31 1190.4 1238.46 1187.22 M1258.38 1174.77 Q1258.38 1168.31 1255.71 1164.65 Q1253.07 1160.96 1248.42 1160.96 Q1243.78 1160.96 1241.1 1164.65 Q1238.46 1168.31 1238.46 1174.77 Q1238.46 1181.23 1241.1 1184.92 Q1243.78 1188.59 1248.42 1188.59 Q1253.07 1188.59 1255.71 1184.92 Q1258.38 1181.23 1258.38 1174.77 Z\" fill=\"#000000\" fill-rule=\"evenodd\" fill-opacity=\"1\" /><path clip-path=\"url(#clip230)\" d=\"M1304.66 1173.28 L1304.66 1176.14 L1277.74 1176.14 Q1278.12 1182.19 1281.37 1185.37 Q1284.64 1188.52 1290.47 1188.52 Q1293.84 1188.52 1296.99 1187.69 Q1300.18 1186.87 1303.29 1185.21 L1303.29 1190.75 Q1300.14 1192.09 1296.83 1192.79 Q1293.52 1193.49 1290.12 1193.49 Q1281.59 1193.49 1276.59 1188.52 Q1271.63 1183.56 1271.63 1175.09 Q1271.63 1166.34 1276.34 1161.21 Q1281.08 1156.06 1289.1 1156.06 Q1296.29 1156.06 1300.46 1160.7 Q1304.66 1165.32 1304.66 1173.28 M1298.81 1171.56 Q1298.74 1166.75 1296.1 1163.89 Q1293.49 1161.02 1289.16 1161.02 Q1284.26 1161.02 1281.3 1163.79 Q1278.37 1166.56 1277.93 1171.59 L1298.81 1171.56 Z\" fill=\"#000000\" fill-rule=\"evenodd\" fill-opacity=\"1\" /><path clip-path=\"url(#clip230)\" d=\"M1344.77 1173.28 L1344.77 1176.14 L1317.84 1176.14 Q1318.22 1182.19 1321.47 1185.37 Q1324.75 1188.52 1330.57 1188.52 Q1333.95 1188.52 1337.1 1187.69 Q1340.28 1186.87 1343.4 1185.21 L1343.4 1190.75 Q1340.25 1192.09 1336.94 1192.79 Q1333.63 1193.49 1330.22 1193.49 Q1321.69 1193.49 1316.69 1188.52 Q1311.73 1183.56 1311.73 1175.09 Q1311.73 1166.34 1316.44 1161.21 Q1321.18 1156.06 1329.2 1156.06 Q1336.4 1156.06 1340.57 1160.7 Q1344.77 1165.32 1344.77 1173.28 M1338.91 1171.56 Q1338.85 1166.75 1336.21 1163.89 Q1333.6 1161.02 1329.27 1161.02 Q1324.37 1161.02 1321.41 1163.79 Q1318.48 1166.56 1318.03 1171.59 L1338.91 1171.56 Z\" fill=\"#000000\" fill-rule=\"evenodd\" fill-opacity=\"1\" /><path clip-path=\"url(#clip230)\" d=\"M1377.84 1162.33 L1377.84 1143.04 L1383.69 1143.04 L1383.69 1192.56 L1377.84 1192.56 L1377.84 1187.22 Q1375.99 1190.4 1373.16 1191.96 Q1370.36 1193.49 1366.41 1193.49 Q1359.95 1193.49 1355.88 1188.33 Q1351.83 1183.17 1351.83 1174.77 Q1351.83 1166.37 1355.88 1161.21 Q1359.95 1156.06 1366.41 1156.06 Q1370.36 1156.06 1373.16 1157.62 Q1375.99 1159.14 1377.84 1162.33 M1357.88 1174.77 Q1357.88 1181.23 1360.52 1184.92 Q1363.2 1188.59 1367.84 1188.59 Q1372.49 1188.59 1375.16 1184.92 Q1377.84 1181.23 1377.84 1174.77 Q1377.84 1168.31 1375.16 1164.65 Q1372.49 1160.96 1367.84 1160.96 Q1363.2 1160.96 1360.52 1164.65 Q1357.88 1168.31 1357.88 1174.77 Z\" fill=\"#000000\" fill-rule=\"evenodd\" fill-opacity=\"1\" /><polyline clip-path=\"url(#clip232)\" style=\"stroke:#000000; stroke-linecap:butt; stroke-linejoin:round; stroke-width:2; stroke-opacity:0.1; fill:none\" points=\"\n",
       "  220.509,952.189 2352.76,952.189 \n",
       "  \"/>\n",
       "<polyline clip-path=\"url(#clip232)\" style=\"stroke:#000000; stroke-linecap:butt; stroke-linejoin:round; stroke-width:2; stroke-opacity:0.1; fill:none\" points=\"\n",
       "  220.509,769.557 2352.76,769.557 \n",
       "  \"/>\n",
       "<polyline clip-path=\"url(#clip232)\" style=\"stroke:#000000; stroke-linecap:butt; stroke-linejoin:round; stroke-width:2; stroke-opacity:0.1; fill:none\" points=\"\n",
       "  220.509,586.926 2352.76,586.926 \n",
       "  \"/>\n",
       "<polyline clip-path=\"url(#clip232)\" style=\"stroke:#000000; stroke-linecap:butt; stroke-linejoin:round; stroke-width:2; stroke-opacity:0.1; fill:none\" points=\"\n",
       "  220.509,404.295 2352.76,404.295 \n",
       "  \"/>\n",
       "<polyline clip-path=\"url(#clip232)\" style=\"stroke:#000000; stroke-linecap:butt; stroke-linejoin:round; stroke-width:2; stroke-opacity:0.1; fill:none\" points=\"\n",
       "  220.509,221.664 2352.76,221.664 \n",
       "  \"/>\n",
       "<polyline clip-path=\"url(#clip230)\" style=\"stroke:#000000; stroke-linecap:butt; stroke-linejoin:round; stroke-width:4; stroke-opacity:1; fill:none\" points=\"\n",
       "  220.509,1047.7 220.509,47.2441 \n",
       "  \"/>\n",
       "<polyline clip-path=\"url(#clip230)\" style=\"stroke:#000000; stroke-linecap:butt; stroke-linejoin:round; stroke-width:4; stroke-opacity:1; fill:none\" points=\"\n",
       "  220.509,952.189 239.407,952.189 \n",
       "  \"/>\n",
       "<polyline clip-path=\"url(#clip230)\" style=\"stroke:#000000; stroke-linecap:butt; stroke-linejoin:round; stroke-width:4; stroke-opacity:1; fill:none\" points=\"\n",
       "  220.509,769.557 239.407,769.557 \n",
       "  \"/>\n",
       "<polyline clip-path=\"url(#clip230)\" style=\"stroke:#000000; stroke-linecap:butt; stroke-linejoin:round; stroke-width:4; stroke-opacity:1; fill:none\" points=\"\n",
       "  220.509,586.926 239.407,586.926 \n",
       "  \"/>\n",
       "<polyline clip-path=\"url(#clip230)\" style=\"stroke:#000000; stroke-linecap:butt; stroke-linejoin:round; stroke-width:4; stroke-opacity:1; fill:none\" points=\"\n",
       "  220.509,404.295 239.407,404.295 \n",
       "  \"/>\n",
       "<polyline clip-path=\"url(#clip230)\" style=\"stroke:#000000; stroke-linecap:butt; stroke-linejoin:round; stroke-width:4; stroke-opacity:1; fill:none\" points=\"\n",
       "  220.509,221.664 239.407,221.664 \n",
       "  \"/>\n",
       "<path clip-path=\"url(#clip230)\" d=\"M172.565 937.987 Q168.954 937.987 167.125 941.552 Q165.32 945.094 165.32 952.223 Q165.32 959.33 167.125 962.895 Q168.954 966.436 172.565 966.436 Q176.199 966.436 178.005 962.895 Q179.833 959.33 179.833 952.223 Q179.833 945.094 178.005 941.552 Q176.199 937.987 172.565 937.987 M172.565 934.284 Q178.375 934.284 181.431 938.89 Q184.509 943.473 184.509 952.223 Q184.509 960.95 181.431 965.557 Q178.375 970.14 172.565 970.14 Q166.755 970.14 163.676 965.557 Q160.621 960.95 160.621 952.223 Q160.621 943.473 163.676 938.89 Q166.755 934.284 172.565 934.284 Z\" fill=\"#000000\" fill-rule=\"evenodd\" fill-opacity=\"1\" /><path clip-path=\"url(#clip230)\" d=\"M137.426 782.902 L153.746 782.902 L153.746 786.837 L131.801 786.837 L131.801 782.902 Q134.463 780.148 139.047 775.518 Q143.653 770.865 144.834 769.523 Q147.079 767 147.959 765.263 Q148.861 763.504 148.861 761.814 Q148.861 759.06 146.917 757.324 Q144.996 755.588 141.894 755.588 Q139.695 755.588 137.241 756.351 Q134.811 757.115 132.033 758.666 L132.033 753.944 Q134.857 752.81 137.311 752.231 Q139.764 751.652 141.801 751.652 Q147.172 751.652 150.366 754.338 Q153.56 757.023 153.56 761.513 Q153.56 763.643 152.75 765.564 Q151.963 767.462 149.857 770.055 Q149.278 770.726 146.176 773.944 Q143.074 777.138 137.426 782.902 Z\" fill=\"#000000\" fill-rule=\"evenodd\" fill-opacity=\"1\" /><path clip-path=\"url(#clip230)\" d=\"M163.607 752.277 L181.963 752.277 L181.963 756.213 L167.889 756.213 L167.889 764.685 Q168.908 764.337 169.926 764.175 Q170.945 763.99 171.963 763.99 Q177.75 763.99 181.13 767.162 Q184.509 770.333 184.509 775.749 Q184.509 781.328 181.037 784.43 Q177.565 787.509 171.246 787.509 Q169.07 787.509 166.801 787.138 Q164.556 786.768 162.148 786.027 L162.148 781.328 Q164.232 782.462 166.454 783.018 Q168.676 783.574 171.153 783.574 Q175.158 783.574 177.495 781.467 Q179.833 779.361 179.833 775.749 Q179.833 772.138 177.495 770.032 Q175.158 767.925 171.153 767.925 Q169.278 767.925 167.403 768.342 Q165.551 768.759 163.607 769.638 L163.607 752.277 Z\" fill=\"#000000\" fill-rule=\"evenodd\" fill-opacity=\"1\" /><path clip-path=\"url(#clip230)\" d=\"M132.449 569.646 L150.806 569.646 L150.806 573.581 L136.732 573.581 L136.732 582.054 Q137.75 581.706 138.769 581.544 Q139.787 581.359 140.806 581.359 Q146.593 581.359 149.972 584.53 Q153.352 587.702 153.352 593.118 Q153.352 598.697 149.88 601.799 Q146.408 604.877 140.088 604.877 Q137.912 604.877 135.644 604.507 Q133.399 604.137 130.991 603.396 L130.991 598.697 Q133.074 599.831 135.297 600.387 Q137.519 600.942 139.996 600.942 Q144 600.942 146.338 598.836 Q148.676 596.729 148.676 593.118 Q148.676 589.507 146.338 587.401 Q144 585.294 139.996 585.294 Q138.121 585.294 136.246 585.711 Q134.394 586.128 132.449 587.007 L132.449 569.646 Z\" fill=\"#000000\" fill-rule=\"evenodd\" fill-opacity=\"1\" /><path clip-path=\"url(#clip230)\" d=\"M172.565 572.725 Q168.954 572.725 167.125 576.29 Q165.32 579.831 165.32 586.961 Q165.32 594.067 167.125 597.632 Q168.954 601.174 172.565 601.174 Q176.199 601.174 178.005 597.632 Q179.833 594.067 179.833 586.961 Q179.833 579.831 178.005 576.29 Q176.199 572.725 172.565 572.725 M172.565 569.021 Q178.375 569.021 181.431 573.628 Q184.509 578.211 184.509 586.961 Q184.509 595.688 181.431 600.294 Q178.375 604.877 172.565 604.877 Q166.755 604.877 163.676 600.294 Q160.621 595.688 160.621 586.961 Q160.621 578.211 163.676 573.628 Q166.755 569.021 172.565 569.021 Z\" fill=\"#000000\" fill-rule=\"evenodd\" fill-opacity=\"1\" /><path clip-path=\"url(#clip230)\" d=\"M132.218 387.015 L154.44 387.015 L154.44 389.006 L141.894 421.575 L137.01 421.575 L148.815 390.95 L132.218 390.95 L132.218 387.015 Z\" fill=\"#000000\" fill-rule=\"evenodd\" fill-opacity=\"1\" /><path clip-path=\"url(#clip230)\" d=\"M163.607 387.015 L181.963 387.015 L181.963 390.95 L167.889 390.95 L167.889 399.422 Q168.908 399.075 169.926 398.913 Q170.945 398.728 171.963 398.728 Q177.75 398.728 181.13 401.899 Q184.509 405.07 184.509 410.487 Q184.509 416.066 181.037 419.168 Q177.565 422.246 171.246 422.246 Q169.07 422.246 166.801 421.876 Q164.556 421.506 162.148 420.765 L162.148 416.066 Q164.232 417.2 166.454 417.756 Q168.676 418.311 171.153 418.311 Q175.158 418.311 177.495 416.205 Q179.833 414.098 179.833 410.487 Q179.833 406.876 177.495 404.77 Q175.158 402.663 171.153 402.663 Q169.278 402.663 167.403 403.08 Q165.551 403.496 163.607 404.376 L163.607 387.015 Z\" fill=\"#000000\" fill-rule=\"evenodd\" fill-opacity=\"1\" /><path clip-path=\"url(#clip230)\" d=\"M103.051 235.009 L110.69 235.009 L110.69 208.643 L102.38 210.31 L102.38 206.05 L110.644 204.384 L115.32 204.384 L115.32 235.009 L122.959 235.009 L122.959 238.944 L103.051 238.944 L103.051 235.009 Z\" fill=\"#000000\" fill-rule=\"evenodd\" fill-opacity=\"1\" /><path clip-path=\"url(#clip230)\" d=\"M142.403 207.463 Q138.792 207.463 136.963 211.027 Q135.158 214.569 135.158 221.699 Q135.158 228.805 136.963 232.37 Q138.792 235.911 142.403 235.911 Q146.037 235.911 147.843 232.37 Q149.672 228.805 149.672 221.699 Q149.672 214.569 147.843 211.027 Q146.037 207.463 142.403 207.463 M142.403 203.759 Q148.213 203.759 151.269 208.365 Q154.347 212.949 154.347 221.699 Q154.347 230.425 151.269 235.032 Q148.213 239.615 142.403 239.615 Q136.593 239.615 133.514 235.032 Q130.459 230.425 130.459 221.699 Q130.459 212.949 133.514 208.365 Q136.593 203.759 142.403 203.759 Z\" fill=\"#000000\" fill-rule=\"evenodd\" fill-opacity=\"1\" /><path clip-path=\"url(#clip230)\" d=\"M172.565 207.463 Q168.954 207.463 167.125 211.027 Q165.32 214.569 165.32 221.699 Q165.32 228.805 167.125 232.37 Q168.954 235.911 172.565 235.911 Q176.199 235.911 178.005 232.37 Q179.833 228.805 179.833 221.699 Q179.833 214.569 178.005 211.027 Q176.199 207.463 172.565 207.463 M172.565 203.759 Q178.375 203.759 181.431 208.365 Q184.509 212.949 184.509 221.699 Q184.509 230.425 181.431 235.032 Q178.375 239.615 172.565 239.615 Q166.755 239.615 163.676 235.032 Q160.621 230.425 160.621 221.699 Q160.621 212.949 163.676 208.365 Q166.755 203.759 172.565 203.759 Z\" fill=\"#000000\" fill-rule=\"evenodd\" fill-opacity=\"1\" /><path clip-path=\"url(#clip230)\" d=\"M9.88769 600.976 L46.8406 600.976 L46.8406 593.21 Q46.8406 583.375 42.3846 578.823 Q37.9286 574.24 28.3164 574.24 Q18.7679 574.24 14.3437 578.823 Q9.88769 583.375 9.88769 593.21 L9.88769 600.976 M4.60416 607.405 L4.60416 594.196 Q4.60416 580.383 10.3651 573.921 Q16.0943 567.46 28.3164 567.46 Q40.6022 567.46 46.3632 573.953 Q52.1242 580.446 52.1242 594.196 L52.1242 607.405 L4.60416 607.405 Z\" fill=\"#000000\" fill-rule=\"evenodd\" fill-opacity=\"1\" /><path clip-path=\"url(#clip230)\" d=\"M16.4762 557.466 L16.4762 551.61 L52.1242 551.61 L52.1242 557.466 L16.4762 557.466 M2.59896 557.466 L2.59896 551.61 L10.015 551.61 L10.015 557.466 L2.59896 557.466 Z\" fill=\"#000000\" fill-rule=\"evenodd\" fill-opacity=\"1\" /><path clip-path=\"url(#clip230)\" d=\"M17.5265 516.63 L23.0647 516.63 Q21.7916 519.113 21.155 521.786 Q20.5184 524.46 20.5184 527.325 Q20.5184 531.685 21.8552 533.881 Q23.192 536.046 25.8656 536.046 Q27.9026 536.046 29.0803 534.486 Q30.2261 532.926 31.2765 528.216 L31.7221 526.211 Q33.0589 519.972 35.5097 517.362 Q37.9286 514.72 42.2891 514.72 Q47.2544 514.72 50.1508 518.667 Q53.0472 522.582 53.0472 529.457 Q53.0472 532.322 52.4743 535.441 Q51.9332 538.528 50.8192 541.966 L44.7718 541.966 Q46.4587 538.719 47.318 535.568 Q48.1456 532.417 48.1456 529.33 Q48.1456 525.192 46.7451 522.964 Q45.3129 520.736 42.7347 520.736 Q40.3476 520.736 39.0745 522.359 Q37.8013 523.951 36.6237 529.393 L36.1462 531.43 Q35.0004 536.873 32.6451 539.292 Q30.258 541.711 26.1202 541.711 Q21.0913 541.711 18.3541 538.146 Q15.6168 534.581 15.6168 528.025 Q15.6168 524.778 16.0943 521.914 Q16.5717 519.049 17.5265 516.63 Z\" fill=\"#000000\" fill-rule=\"evenodd\" fill-opacity=\"1\" /><path clip-path=\"url(#clip230)\" d=\"M6.35473 499.602 L16.4762 499.602 L16.4762 487.539 L21.0277 487.539 L21.0277 499.602 L40.3794 499.602 Q44.7399 499.602 45.9813 498.424 Q47.2226 497.215 47.2226 493.554 L47.2226 487.539 L52.1242 487.539 L52.1242 493.554 Q52.1242 500.334 49.6097 502.912 Q47.0634 505.49 40.3794 505.49 L21.0277 505.49 L21.0277 509.787 L16.4762 509.787 L16.4762 505.49 L6.35473 505.49 L6.35473 499.602 Z\" fill=\"#000000\" fill-rule=\"evenodd\" fill-opacity=\"1\" /><circle clip-path=\"url(#clip232)\" cx=\"1560.94\" cy=\"659.979\" r=\"14\" fill=\"#009af9\" fill-rule=\"evenodd\" fill-opacity=\"1\" stroke=\"#000000\" stroke-opacity=\"1\" stroke-width=\"2.4\"/>\n",
       "<circle clip-path=\"url(#clip232)\" cx=\"1286.63\" cy=\"513.874\" r=\"14\" fill=\"#009af9\" fill-rule=\"evenodd\" fill-opacity=\"1\" stroke=\"#000000\" stroke-opacity=\"1\" stroke-width=\"2.4\"/>\n",
       "<circle clip-path=\"url(#clip232)\" cx=\"1378.07\" cy=\"557.705\" r=\"14\" fill=\"#009af9\" fill-rule=\"evenodd\" fill-opacity=\"1\" stroke=\"#000000\" stroke-opacity=\"1\" stroke-width=\"2.4\"/>\n",
       "<circle clip-path=\"url(#clip232)\" cx=\"2109.54\" cy=\"557.705\" r=\"14\" fill=\"#009af9\" fill-rule=\"evenodd\" fill-opacity=\"1\" stroke=\"#000000\" stroke-opacity=\"1\" stroke-width=\"2.4\"/>\n",
       "<circle clip-path=\"url(#clip232)\" cx=\"1378.07\" cy=\"806.084\" r=\"14\" fill=\"#009af9\" fill-rule=\"evenodd\" fill-opacity=\"1\" stroke=\"#000000\" stroke-opacity=\"1\" stroke-width=\"2.4\"/>\n",
       "<circle clip-path=\"url(#clip232)\" cx=\"1560.94\" cy=\"586.926\" r=\"14\" fill=\"#009af9\" fill-rule=\"evenodd\" fill-opacity=\"1\" stroke=\"#000000\" stroke-opacity=\"1\" stroke-width=\"2.4\"/>\n",
       "<circle clip-path=\"url(#clip232)\" cx=\"2200.98\" cy=\"272.801\" r=\"14\" fill=\"#009af9\" fill-rule=\"evenodd\" fill-opacity=\"1\" stroke=\"#000000\" stroke-opacity=\"1\" stroke-width=\"2.4\"/>\n",
       "<circle clip-path=\"url(#clip232)\" cx=\"1560.94\" cy=\"718.421\" r=\"14\" fill=\"#009af9\" fill-rule=\"evenodd\" fill-opacity=\"1\" stroke=\"#000000\" stroke-opacity=\"1\" stroke-width=\"2.4\"/>\n",
       "<circle clip-path=\"url(#clip232)\" cx=\"1835.24\" cy=\"718.421\" r=\"14\" fill=\"#009af9\" fill-rule=\"evenodd\" fill-opacity=\"1\" stroke=\"#000000\" stroke-opacity=\"1\" stroke-width=\"2.4\"/>\n",
       "<circle clip-path=\"url(#clip232)\" cx=\"1286.63\" cy=\"762.252\" r=\"14\" fill=\"#009af9\" fill-rule=\"evenodd\" fill-opacity=\"1\" stroke=\"#000000\" stroke-opacity=\"1\" stroke-width=\"2.4\"/>\n",
       "<circle clip-path=\"url(#clip232)\" cx=\"1652.37\" cy=\"645.368\" r=\"14\" fill=\"#009af9\" fill-rule=\"evenodd\" fill-opacity=\"1\" stroke=\"#000000\" stroke-opacity=\"1\" stroke-width=\"2.4\"/>\n",
       "<circle clip-path=\"url(#clip232)\" cx=\"920.896\" cy=\"703.81\" r=\"14\" fill=\"#009af9\" fill-rule=\"evenodd\" fill-opacity=\"1\" stroke=\"#000000\" stroke-opacity=\"1\" stroke-width=\"2.4\"/>\n",
       "<circle clip-path=\"url(#clip232)\" cx=\"1469.5\" cy=\"718.421\" r=\"14\" fill=\"#009af9\" fill-rule=\"evenodd\" fill-opacity=\"1\" stroke=\"#000000\" stroke-opacity=\"1\" stroke-width=\"2.4\"/>\n",
       "<circle clip-path=\"url(#clip232)\" cx=\"646.593\" cy=\"922.968\" r=\"14\" fill=\"#009af9\" fill-rule=\"evenodd\" fill-opacity=\"1\" stroke=\"#000000\" stroke-opacity=\"1\" stroke-width=\"2.4\"/>\n",
       "<circle clip-path=\"url(#clip232)\" cx=\"1195.2\" cy=\"616.147\" r=\"14\" fill=\"#009af9\" fill-rule=\"evenodd\" fill-opacity=\"1\" stroke=\"#000000\" stroke-opacity=\"1\" stroke-width=\"2.4\"/>\n",
       "<circle clip-path=\"url(#clip232)\" cx=\"1469.5\" cy=\"659.979\" r=\"14\" fill=\"#009af9\" fill-rule=\"evenodd\" fill-opacity=\"1\" stroke=\"#000000\" stroke-opacity=\"1\" stroke-width=\"2.4\"/>\n",
       "<circle clip-path=\"url(#clip232)\" cx=\"1103.76\" cy=\"806.084\" r=\"14\" fill=\"#009af9\" fill-rule=\"evenodd\" fill-opacity=\"1\" stroke=\"#000000\" stroke-opacity=\"1\" stroke-width=\"2.4\"/>\n",
       "<circle clip-path=\"url(#clip232)\" cx=\"1743.8\" cy=\"616.147\" r=\"14\" fill=\"#009af9\" fill-rule=\"evenodd\" fill-opacity=\"1\" stroke=\"#000000\" stroke-opacity=\"1\" stroke-width=\"2.4\"/>\n",
       "<circle clip-path=\"url(#clip232)\" cx=\"1195.2\" cy=\"703.81\" r=\"14\" fill=\"#009af9\" fill-rule=\"evenodd\" fill-opacity=\"1\" stroke=\"#000000\" stroke-opacity=\"1\" stroke-width=\"2.4\"/>\n",
       "<circle clip-path=\"url(#clip232)\" cx=\"829.461\" cy=\"879.136\" r=\"14\" fill=\"#009af9\" fill-rule=\"evenodd\" fill-opacity=\"1\" stroke=\"#000000\" stroke-opacity=\"1\" stroke-width=\"2.4\"/>\n",
       "<circle clip-path=\"url(#clip232)\" cx=\"1195.2\" cy=\"762.252\" r=\"14\" fill=\"#009af9\" fill-rule=\"evenodd\" fill-opacity=\"1\" stroke=\"#000000\" stroke-opacity=\"1\" stroke-width=\"2.4\"/>\n",
       "<circle clip-path=\"url(#clip232)\" cx=\"1103.76\" cy=\"849.915\" r=\"14\" fill=\"#009af9\" fill-rule=\"evenodd\" fill-opacity=\"1\" stroke=\"#000000\" stroke-opacity=\"1\" stroke-width=\"2.4\"/>\n",
       "<circle clip-path=\"url(#clip232)\" cx=\"2200.98\" cy=\"75.5589\" r=\"14\" fill=\"#009af9\" fill-rule=\"evenodd\" fill-opacity=\"1\" stroke=\"#000000\" stroke-opacity=\"1\" stroke-width=\"2.4\"/>\n",
       "<circle clip-path=\"url(#clip232)\" cx=\"1012.33\" cy=\"747.642\" r=\"14\" fill=\"#009af9\" fill-rule=\"evenodd\" fill-opacity=\"1\" stroke=\"#000000\" stroke-opacity=\"1\" stroke-width=\"2.4\"/>\n",
       "<circle clip-path=\"url(#clip232)\" cx=\"738.027\" cy=\"835.305\" r=\"14\" fill=\"#009af9\" fill-rule=\"evenodd\" fill-opacity=\"1\" stroke=\"#000000\" stroke-opacity=\"1\" stroke-width=\"2.4\"/>\n",
       "<circle clip-path=\"url(#clip232)\" cx=\"1835.24\" cy=\"601.537\" r=\"14\" fill=\"#009af9\" fill-rule=\"evenodd\" fill-opacity=\"1\" stroke=\"#000000\" stroke-opacity=\"1\" stroke-width=\"2.4\"/>\n",
       "<circle clip-path=\"url(#clip232)\" cx=\"920.896\" cy=\"820.694\" r=\"14\" fill=\"#009af9\" fill-rule=\"evenodd\" fill-opacity=\"1\" stroke=\"#000000\" stroke-opacity=\"1\" stroke-width=\"2.4\"/>\n",
       "<circle clip-path=\"url(#clip232)\" cx=\"2200.98\" cy=\"280.106\" r=\"14\" fill=\"#009af9\" fill-rule=\"evenodd\" fill-opacity=\"1\" stroke=\"#000000\" stroke-opacity=\"1\" stroke-width=\"2.4\"/>\n",
       "<circle clip-path=\"url(#clip232)\" cx=\"1743.8\" cy=\"689.2\" r=\"14\" fill=\"#009af9\" fill-rule=\"evenodd\" fill-opacity=\"1\" stroke=\"#000000\" stroke-opacity=\"1\" stroke-width=\"2.4\"/>\n",
       "<circle clip-path=\"url(#clip232)\" cx=\"1835.24\" cy=\"484.653\" r=\"14\" fill=\"#009af9\" fill-rule=\"evenodd\" fill-opacity=\"1\" stroke=\"#000000\" stroke-opacity=\"1\" stroke-width=\"2.4\"/>\n",
       "<circle clip-path=\"url(#clip232)\" cx=\"1835.24\" cy=\"543.095\" r=\"14\" fill=\"#009af9\" fill-rule=\"evenodd\" fill-opacity=\"1\" stroke=\"#000000\" stroke-opacity=\"1\" stroke-width=\"2.4\"/>\n",
       "<circle clip-path=\"url(#clip232)\" cx=\"1195.2\" cy=\"703.81\" r=\"14\" fill=\"#009af9\" fill-rule=\"evenodd\" fill-opacity=\"1\" stroke=\"#000000\" stroke-opacity=\"1\" stroke-width=\"2.4\"/>\n",
       "<circle clip-path=\"url(#clip232)\" cx=\"1103.76\" cy=\"776.863\" r=\"14\" fill=\"#009af9\" fill-rule=\"evenodd\" fill-opacity=\"1\" stroke=\"#000000\" stroke-opacity=\"1\" stroke-width=\"2.4\"/>\n",
       "<circle clip-path=\"url(#clip232)\" cx=\"1012.33\" cy=\"827.999\" r=\"14\" fill=\"#009af9\" fill-rule=\"evenodd\" fill-opacity=\"1\" stroke=\"#000000\" stroke-opacity=\"1\" stroke-width=\"2.4\"/>\n",
       "<circle clip-path=\"url(#clip232)\" cx=\"372.29\" cy=\"879.136\" r=\"14\" fill=\"#009af9\" fill-rule=\"evenodd\" fill-opacity=\"1\" stroke=\"#000000\" stroke-opacity=\"1\" stroke-width=\"2.4\"/>\n",
       "<circle clip-path=\"url(#clip232)\" cx=\"1286.63\" cy=\"689.2\" r=\"14\" fill=\"#009af9\" fill-rule=\"evenodd\" fill-opacity=\"1\" stroke=\"#000000\" stroke-opacity=\"1\" stroke-width=\"2.4\"/>\n",
       "<circle clip-path=\"url(#clip232)\" cx=\"2200.98\" cy=\"440.821\" r=\"14\" fill=\"#009af9\" fill-rule=\"evenodd\" fill-opacity=\"1\" stroke=\"#000000\" stroke-opacity=\"1\" stroke-width=\"2.4\"/>\n",
       "<circle clip-path=\"url(#clip232)\" cx=\"2018.11\" cy=\"470.042\" r=\"14\" fill=\"#009af9\" fill-rule=\"evenodd\" fill-opacity=\"1\" stroke=\"#000000\" stroke-opacity=\"1\" stroke-width=\"2.4\"/>\n",
       "<polyline clip-path=\"url(#clip232)\" style=\"stroke:#e26f46; stroke-linecap:butt; stroke-linejoin:round; stroke-width:8; stroke-opacity:1; fill:none\" points=\"\n",
       "  280.856,1019.39 326.573,1004.85 372.29,990.325 418.007,975.794 463.724,961.264 509.442,946.734 555.159,932.204 600.876,917.674 646.593,903.143 692.31,888.613 \n",
       "  738.027,874.083 783.744,859.553 829.461,845.022 875.179,830.492 920.896,815.962 966.613,801.432 1012.33,786.902 1058.05,772.371 1103.76,757.841 1149.48,743.311 \n",
       "  1195.2,728.781 1240.92,714.25 1286.63,699.72 1332.35,685.19 1378.07,670.66 1423.78,656.13 1469.5,641.599 1515.22,627.069 1560.94,612.539 1606.65,598.009 \n",
       "  1652.37,583.478 1698.09,568.948 1743.8,554.418 1789.52,539.888 1835.24,525.358 1880.96,510.827 1926.67,496.297 1972.39,481.767 2018.11,467.237 2063.82,452.707 \n",
       "  2109.54,438.176 2155.26,423.646 2200.98,409.116 2246.69,394.586 2292.41,380.055 \n",
       "  \"/>\n",
       "</svg>\n"
      ]
     },
     "execution_count": 25,
     "metadata": {},
     "output_type": "execute_result"
    }
   ],
   "source": [
    "p = collect((minimum(X)-1):0.5:(maximum(X)+1))\n",
    "\n",
    "scatter(X,Y, legend=false, \n",
    "            xlabel = \"Speed\",\n",
    "            ylabel = \"Dist\",\n",
    "            size = (600,300))\n",
    "plot!(p, f(p, θ_ERM), lw = 2)"
   ]
  },
  {
   "cell_type": "markdown",
   "metadata": {},
   "source": [
    "### Ridge Regression"
   ]
  },
  {
   "cell_type": "markdown",
   "metadata": {},
   "source": [
    "Der Ridge-Regression Schätzer mit Parameter $\\lambda$ wird wie folgt berechnet."
   ]
  },
  {
   "cell_type": "code",
   "execution_count": 19,
   "metadata": {},
   "outputs": [
    {
     "data": {
      "text/plain": [
       "θ_T (generic function with 1 method)"
      ]
     },
     "execution_count": 19,
     "metadata": {},
     "output_type": "execute_result"
    }
   ],
   "source": [
    "θ_T(λ) = (Ω' * Ω + (n*λ) .* diagm(ones(D+1))) \\ (Ω' * Y)"
   ]
  },
  {
   "cell_type": "markdown",
   "metadata": {},
   "source": [
    "Wir plotten den RR-Schätzer für verschiedene Werte von $\\lambda$"
   ]
  },
  {
   "cell_type": "code",
   "execution_count": 20,
   "metadata": {},
   "outputs": [
    {
     "name": "stderr",
     "output_type": "stream",
     "text": [
      "┌ Info: Saved animation to \n",
      "│   fn = /Users/pb/ridge_regression.gif\n",
      "└ @ Plots /Users/pb/.julia/packages/Plots/1KWPG/src/animation.jl:114\n"
     ]
    },
    {
     "data": {
      "text/html": [
       "<img src=\"data:image/gif;base64,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\" />"
      ],
      "text/plain": [
       "Plots.AnimatedGif(\"/Users/pb/ridge_regression.gif\")"
      ]
     },
     "execution_count": 20,
     "metadata": {},
     "output_type": "execute_result"
    }
   ],
   "source": [
    "anim = @animate for λ in 0:0.02:0.25\n",
    "    scatter(X,Y, label=false, \n",
    "            xlabel = \"Speed\",\n",
    "            ylabel = \"Dist\",\n",
    "            size = (600,300))\n",
    "    plot!(p, f(p, θ_T(λ)), lw = 2, label = \"λ = $λ\")\n",
    "    ylims!(0,100)\n",
    "end\n",
    "gif(anim, \"/Users/pb/ridge_regression.gif\", fps = 3)"
   ]
  },
  {
   "cell_type": "markdown",
   "metadata": {},
   "source": [
    "Der Animation nach zu urteilen scheint $\\lambda=0.2$ eine gute Wahl zu sein."
   ]
  },
  {
   "cell_type": "code",
   "execution_count": 21,
   "metadata": {},
   "outputs": [],
   "source": [
    "θ_RR = θ_T(0.2);"
   ]
  },
  {
   "cell_type": "markdown",
   "metadata": {},
   "source": [
    "RR hat die folgenden Parameter für $f_\\theta(x)=ax+b$ geschätzt."
   ]
  },
  {
   "cell_type": "code",
   "execution_count": 22,
   "metadata": {},
   "outputs": [
    {
     "name": "stdout",
     "output_type": "stream",
     "text": [
      "a = 3.139358300264781, b = -6.759241165706599\n"
     ]
    }
   ],
   "source": [
    "println(\"a = $(θ_RR[2]), b = $(θ_RR[1])\")"
   ]
  },
  {
   "cell_type": "markdown",
   "metadata": {},
   "source": [
    "### Maximum Likelihood und Maximum a-Posteriori Estimation"
   ]
  },
  {
   "cell_type": "markdown",
   "metadata": {},
   "source": [
    "Der Parameter für ML ist durch `θ_ERM` bestimmt\n",
    "\n",
    "Der Parameter für MAP ist durch `θ_T(λ)` für $\\lambda = \\sigma^2/n$ bestimmt."
   ]
  },
  {
   "cell_type": "code",
   "execution_count": 23,
   "metadata": {},
   "outputs": [],
   "source": [
    "θ_ML = θ_ERM\n",
    "θ_MAP = θ_T(σ²/n);"
   ]
  },
  {
   "cell_type": "markdown",
   "metadata": {},
   "source": [
    "Jetzt können wir diese Parameter in das statistische Modell einsetzen und von diesem samplen. "
   ]
  },
  {
   "cell_type": "code",
   "execution_count": 30,
   "metadata": {},
   "outputs": [
    {
     "data": {
      "image/svg+xml": [
       "<?xml version=\"1.0\" encoding=\"utf-8\"?>\n",
       "<svg xmlns=\"http://www.w3.org/2000/svg\" xmlns:xlink=\"http://www.w3.org/1999/xlink\" width=\"600\" height=\"300\" viewBox=\"0 0 2400 1200\">\n",
       "<defs>\n",
       "  <clipPath id=\"clip430\">\n",
       "    <rect x=\"0\" y=\"0\" width=\"2400\" height=\"1200\"/>\n",
       "  </clipPath>\n",
       "</defs>\n",
       "<path clip-path=\"url(#clip430)\" d=\"\n",
       "M0 1200 L2400 1200 L2400 0 L0 0  Z\n",
       "  \" fill=\"#ffffff\" fill-rule=\"evenodd\" fill-opacity=\"1\"/>\n",
       "<defs>\n",
       "  <clipPath id=\"clip431\">\n",
       "    <rect x=\"480\" y=\"0\" width=\"1681\" height=\"1200\"/>\n",
       "  </clipPath>\n",
       "</defs>\n",
       "<path clip-path=\"url(#clip430)\" d=\"\n",
       "M220.509 1047.7 L2352.76 1047.7 L2352.76 47.2441 L220.509 47.2441  Z\n",
       "  \" fill=\"#ffffff\" fill-rule=\"evenodd\" fill-opacity=\"1\"/>\n",
       "<defs>\n",
       "  <clipPath id=\"clip432\">\n",
       "    <rect x=\"220\" y=\"47\" width=\"2133\" height=\"1001\"/>\n",
       "  </clipPath>\n",
       "</defs>\n",
       "<polyline clip-path=\"url(#clip432)\" style=\"stroke:#000000; stroke-linecap:butt; stroke-linejoin:round; stroke-width:2; stroke-opacity:0.1; fill:none\" points=\"\n",
       "  463.724,1047.7 463.724,47.2441 \n",
       "  \"/>\n",
       "<polyline clip-path=\"url(#clip432)\" style=\"stroke:#000000; stroke-linecap:butt; stroke-linejoin:round; stroke-width:2; stroke-opacity:0.1; fill:none\" points=\"\n",
       "  920.896,1047.7 920.896,47.2441 \n",
       "  \"/>\n",
       "<polyline clip-path=\"url(#clip432)\" style=\"stroke:#000000; stroke-linecap:butt; stroke-linejoin:round; stroke-width:2; stroke-opacity:0.1; fill:none\" points=\"\n",
       "  1378.07,1047.7 1378.07,47.2441 \n",
       "  \"/>\n",
       "<polyline clip-path=\"url(#clip432)\" style=\"stroke:#000000; stroke-linecap:butt; stroke-linejoin:round; stroke-width:2; stroke-opacity:0.1; fill:none\" points=\"\n",
       "  1835.24,1047.7 1835.24,47.2441 \n",
       "  \"/>\n",
       "<polyline clip-path=\"url(#clip432)\" style=\"stroke:#000000; stroke-linecap:butt; stroke-linejoin:round; stroke-width:2; stroke-opacity:0.1; fill:none\" points=\"\n",
       "  2292.41,1047.7 2292.41,47.2441 \n",
       "  \"/>\n",
       "<polyline clip-path=\"url(#clip430)\" style=\"stroke:#000000; stroke-linecap:butt; stroke-linejoin:round; stroke-width:4; stroke-opacity:1; fill:none\" points=\"\n",
       "  220.509,1047.7 2352.76,1047.7 \n",
       "  \"/>\n",
       "<polyline clip-path=\"url(#clip430)\" style=\"stroke:#000000; stroke-linecap:butt; stroke-linejoin:round; stroke-width:4; stroke-opacity:1; fill:none\" points=\"\n",
       "  463.724,1047.7 463.724,1028.8 \n",
       "  \"/>\n",
       "<polyline clip-path=\"url(#clip430)\" style=\"stroke:#000000; stroke-linecap:butt; stroke-linejoin:round; stroke-width:4; stroke-opacity:1; fill:none\" points=\"\n",
       "  920.896,1047.7 920.896,1028.8 \n",
       "  \"/>\n",
       "<polyline clip-path=\"url(#clip430)\" style=\"stroke:#000000; stroke-linecap:butt; stroke-linejoin:round; stroke-width:4; stroke-opacity:1; fill:none\" points=\"\n",
       "  1378.07,1047.7 1378.07,1028.8 \n",
       "  \"/>\n",
       "<polyline clip-path=\"url(#clip430)\" style=\"stroke:#000000; stroke-linecap:butt; stroke-linejoin:round; stroke-width:4; stroke-opacity:1; fill:none\" points=\"\n",
       "  1835.24,1047.7 1835.24,1028.8 \n",
       "  \"/>\n",
       "<polyline clip-path=\"url(#clip430)\" style=\"stroke:#000000; stroke-linecap:butt; stroke-linejoin:round; stroke-width:4; stroke-opacity:1; fill:none\" points=\"\n",
       "  2292.41,1047.7 2292.41,1028.8 \n",
       "  \"/>\n",
       "<path clip-path=\"url(#clip430)\" d=\"M454.002 1075.54 L472.359 1075.54 L472.359 1079.48 L458.285 1079.48 L458.285 1087.95 Q459.303 1087.6 460.322 1087.44 Q461.34 1087.25 462.359 1087.25 Q468.146 1087.25 471.525 1090.42 Q474.905 1093.6 474.905 1099.01 Q474.905 1104.59 471.433 1107.69 Q467.961 1110.77 461.641 1110.77 Q459.465 1110.77 457.197 1110.4 Q454.951 1110.03 452.544 1109.29 L452.544 1104.59 Q454.627 1105.72 456.849 1106.28 Q459.072 1106.84 461.549 1106.84 Q465.553 1106.84 467.891 1104.73 Q470.229 1102.62 470.229 1099.01 Q470.229 1095.4 467.891 1093.29 Q465.553 1091.19 461.549 1091.19 Q459.674 1091.19 457.799 1091.6 Q455.947 1092.02 454.002 1092.9 L454.002 1075.54 Z\" fill=\"#000000\" fill-rule=\"evenodd\" fill-opacity=\"1\" /><path clip-path=\"url(#clip430)\" d=\"M895.583 1106.16 L903.222 1106.16 L903.222 1079.8 L894.912 1081.47 L894.912 1077.21 L903.176 1075.54 L907.852 1075.54 L907.852 1106.16 L915.491 1106.16 L915.491 1110.1 L895.583 1110.1 L895.583 1106.16 Z\" fill=\"#000000\" fill-rule=\"evenodd\" fill-opacity=\"1\" /><path clip-path=\"url(#clip430)\" d=\"M934.935 1078.62 Q931.324 1078.62 929.495 1082.18 Q927.69 1085.72 927.69 1092.85 Q927.69 1099.96 929.495 1103.53 Q931.324 1107.07 934.935 1107.07 Q938.569 1107.07 940.375 1103.53 Q942.203 1099.96 942.203 1092.85 Q942.203 1085.72 940.375 1082.18 Q938.569 1078.62 934.935 1078.62 M934.935 1074.91 Q940.745 1074.91 943.801 1079.52 Q946.879 1084.1 946.879 1092.85 Q946.879 1101.58 943.801 1106.19 Q940.745 1110.77 934.935 1110.77 Q929.125 1110.77 926.046 1106.19 Q922.991 1101.58 922.991 1092.85 Q922.991 1084.1 926.046 1079.52 Q929.125 1074.91 934.935 1074.91 Z\" fill=\"#000000\" fill-rule=\"evenodd\" fill-opacity=\"1\" /><path clip-path=\"url(#clip430)\" d=\"M1353.25 1106.16 L1360.89 1106.16 L1360.89 1079.8 L1352.58 1081.47 L1352.58 1077.21 L1360.84 1075.54 L1365.52 1075.54 L1365.52 1106.16 L1373.16 1106.16 L1373.16 1110.1 L1353.25 1110.1 L1353.25 1106.16 Z\" fill=\"#000000\" fill-rule=\"evenodd\" fill-opacity=\"1\" /><path clip-path=\"url(#clip430)\" d=\"M1382.65 1075.54 L1401.01 1075.54 L1401.01 1079.48 L1386.93 1079.48 L1386.93 1087.95 Q1387.95 1087.6 1388.97 1087.44 Q1389.99 1087.25 1391.01 1087.25 Q1396.79 1087.25 1400.17 1090.42 Q1403.55 1093.6 1403.55 1099.01 Q1403.55 1104.59 1400.08 1107.69 Q1396.61 1110.77 1390.29 1110.77 Q1388.11 1110.77 1385.84 1110.4 Q1383.6 1110.03 1381.19 1109.29 L1381.19 1104.59 Q1383.28 1105.72 1385.5 1106.28 Q1387.72 1106.84 1390.2 1106.84 Q1394.2 1106.84 1396.54 1104.73 Q1398.88 1102.62 1398.88 1099.01 Q1398.88 1095.4 1396.54 1093.29 Q1394.2 1091.19 1390.2 1091.19 Q1388.32 1091.19 1386.45 1091.6 Q1384.59 1092.02 1382.65 1092.9 L1382.65 1075.54 Z\" fill=\"#000000\" fill-rule=\"evenodd\" fill-opacity=\"1\" /><path clip-path=\"url(#clip430)\" d=\"M1814.01 1106.16 L1830.33 1106.16 L1830.33 1110.1 L1808.39 1110.1 L1808.39 1106.16 Q1811.05 1103.41 1815.63 1098.78 Q1820.24 1094.13 1821.42 1092.79 Q1823.66 1090.26 1824.54 1088.53 Q1825.45 1086.77 1825.45 1085.08 Q1825.45 1082.32 1823.5 1080.59 Q1821.58 1078.85 1818.48 1078.85 Q1816.28 1078.85 1813.83 1079.61 Q1811.4 1080.38 1808.62 1081.93 L1808.62 1077.21 Q1811.44 1076.07 1813.9 1075.49 Q1816.35 1074.91 1818.39 1074.91 Q1823.76 1074.91 1826.95 1077.6 Q1830.15 1080.29 1830.15 1084.78 Q1830.15 1086.91 1829.34 1088.83 Q1828.55 1090.72 1826.44 1093.32 Q1825.86 1093.99 1822.76 1097.21 Q1819.66 1100.4 1814.01 1106.16 Z\" fill=\"#000000\" fill-rule=\"evenodd\" fill-opacity=\"1\" /><path clip-path=\"url(#clip430)\" d=\"M1850.15 1078.62 Q1846.53 1078.62 1844.71 1082.18 Q1842.9 1085.72 1842.9 1092.85 Q1842.9 1099.96 1844.71 1103.53 Q1846.53 1107.07 1850.15 1107.07 Q1853.78 1107.07 1855.59 1103.53 Q1857.41 1099.96 1857.41 1092.85 Q1857.41 1085.72 1855.59 1082.18 Q1853.78 1078.62 1850.15 1078.62 M1850.15 1074.91 Q1855.96 1074.91 1859.01 1079.52 Q1862.09 1084.1 1862.09 1092.85 Q1862.09 1101.58 1859.01 1106.19 Q1855.96 1110.77 1850.15 1110.77 Q1844.34 1110.77 1841.26 1106.19 Q1838.2 1101.58 1838.2 1092.85 Q1838.2 1084.1 1841.26 1079.52 Q1844.34 1074.91 1850.15 1074.91 Z\" fill=\"#000000\" fill-rule=\"evenodd\" fill-opacity=\"1\" /><path clip-path=\"url(#clip430)\" d=\"M2271.68 1106.16 L2288 1106.16 L2288 1110.1 L2266.06 1110.1 L2266.06 1106.16 Q2268.72 1103.41 2273.3 1098.78 Q2277.91 1094.13 2279.09 1092.79 Q2281.33 1090.26 2282.21 1088.53 Q2283.12 1086.77 2283.12 1085.08 Q2283.12 1082.32 2281.17 1080.59 Q2279.25 1078.85 2276.15 1078.85 Q2273.95 1078.85 2271.5 1079.61 Q2269.06 1080.38 2266.29 1081.93 L2266.29 1077.21 Q2269.11 1076.07 2271.56 1075.49 Q2274.02 1074.91 2276.06 1074.91 Q2281.43 1074.91 2284.62 1077.6 Q2287.81 1080.29 2287.81 1084.78 Q2287.81 1086.91 2287 1088.83 Q2286.22 1090.72 2284.11 1093.32 Q2283.53 1093.99 2280.43 1097.21 Q2277.33 1100.4 2271.68 1106.16 Z\" fill=\"#000000\" fill-rule=\"evenodd\" fill-opacity=\"1\" /><path clip-path=\"url(#clip430)\" d=\"M2297.86 1075.54 L2316.22 1075.54 L2316.22 1079.48 L2302.14 1079.48 L2302.14 1087.95 Q2303.16 1087.6 2304.18 1087.44 Q2305.2 1087.25 2306.22 1087.25 Q2312 1087.25 2315.38 1090.42 Q2318.76 1093.6 2318.76 1099.01 Q2318.76 1104.59 2315.29 1107.69 Q2311.82 1110.77 2305.5 1110.77 Q2303.32 1110.77 2301.06 1110.4 Q2298.81 1110.03 2296.4 1109.29 L2296.4 1104.59 Q2298.49 1105.72 2300.71 1106.28 Q2302.93 1106.84 2305.41 1106.84 Q2309.41 1106.84 2311.75 1104.73 Q2314.09 1102.62 2314.09 1099.01 Q2314.09 1095.4 2311.75 1093.29 Q2309.41 1091.19 2305.41 1091.19 Q2303.53 1091.19 2301.66 1091.6 Q2299.81 1092.02 2297.86 1092.9 L2297.86 1075.54 Z\" fill=\"#000000\" fill-rule=\"evenodd\" fill-opacity=\"1\" /><path clip-path=\"url(#clip430)\" d=\"M1220.16 1146.6 L1220.16 1152.87 Q1216.5 1151.12 1213.25 1150.26 Q1210.01 1149.4 1206.98 1149.4 Q1201.73 1149.4 1198.87 1151.44 Q1196.03 1153.48 1196.03 1157.23 Q1196.03 1160.39 1197.91 1162.01 Q1199.82 1163.6 1205.1 1164.59 L1208.99 1165.38 Q1216.18 1166.75 1219.59 1170.22 Q1223.02 1173.66 1223.02 1179.45 Q1223.02 1186.36 1218.38 1189.92 Q1213.76 1193.49 1204.82 1193.49 Q1201.44 1193.49 1197.62 1192.72 Q1193.84 1191.96 1189.76 1190.46 L1189.76 1183.84 Q1193.68 1186.04 1197.43 1187.15 Q1201.19 1188.27 1204.82 1188.27 Q1210.32 1188.27 1213.32 1186.1 Q1216.31 1183.94 1216.31 1179.93 Q1216.31 1176.43 1214.14 1174.45 Q1212.01 1172.48 1207.11 1171.49 L1203.19 1170.73 Q1196 1169.3 1192.79 1166.24 Q1189.57 1163.19 1189.57 1157.74 Q1189.57 1151.44 1194 1147.81 Q1198.45 1144.18 1206.25 1144.18 Q1209.59 1144.18 1213.06 1144.79 Q1216.53 1145.39 1220.16 1146.6 Z\" fill=\"#000000\" fill-rule=\"evenodd\" fill-opacity=\"1\" /><path clip-path=\"url(#clip430)\" d=\"M1238.46 1187.22 L1238.46 1206.12 L1232.57 1206.12 L1232.57 1156.92 L1238.46 1156.92 L1238.46 1162.33 Q1240.31 1159.14 1243.11 1157.62 Q1245.94 1156.06 1249.85 1156.06 Q1256.35 1156.06 1260.39 1161.21 Q1264.46 1166.37 1264.46 1174.77 Q1264.46 1183.17 1260.39 1188.33 Q1256.35 1193.49 1249.85 1193.49 Q1245.94 1193.49 1243.11 1191.96 Q1240.31 1190.4 1238.46 1187.22 M1258.38 1174.77 Q1258.38 1168.31 1255.71 1164.65 Q1253.07 1160.96 1248.42 1160.96 Q1243.78 1160.96 1241.1 1164.65 Q1238.46 1168.31 1238.46 1174.77 Q1238.46 1181.23 1241.1 1184.92 Q1243.78 1188.59 1248.42 1188.59 Q1253.07 1188.59 1255.71 1184.92 Q1258.38 1181.23 1258.38 1174.77 Z\" fill=\"#000000\" fill-rule=\"evenodd\" fill-opacity=\"1\" /><path clip-path=\"url(#clip430)\" d=\"M1304.66 1173.28 L1304.66 1176.14 L1277.74 1176.14 Q1278.12 1182.19 1281.37 1185.37 Q1284.64 1188.52 1290.47 1188.52 Q1293.84 1188.52 1296.99 1187.69 Q1300.18 1186.87 1303.29 1185.21 L1303.29 1190.75 Q1300.14 1192.09 1296.83 1192.79 Q1293.52 1193.49 1290.12 1193.49 Q1281.59 1193.49 1276.59 1188.52 Q1271.63 1183.56 1271.63 1175.09 Q1271.63 1166.34 1276.34 1161.21 Q1281.08 1156.06 1289.1 1156.06 Q1296.29 1156.06 1300.46 1160.7 Q1304.66 1165.32 1304.66 1173.28 M1298.81 1171.56 Q1298.74 1166.75 1296.1 1163.89 Q1293.49 1161.02 1289.16 1161.02 Q1284.26 1161.02 1281.3 1163.79 Q1278.37 1166.56 1277.93 1171.59 L1298.81 1171.56 Z\" fill=\"#000000\" fill-rule=\"evenodd\" fill-opacity=\"1\" /><path clip-path=\"url(#clip430)\" d=\"M1344.77 1173.28 L1344.77 1176.14 L1317.84 1176.14 Q1318.22 1182.19 1321.47 1185.37 Q1324.75 1188.52 1330.57 1188.52 Q1333.95 1188.52 1337.1 1187.69 Q1340.28 1186.87 1343.4 1185.21 L1343.4 1190.75 Q1340.25 1192.09 1336.94 1192.79 Q1333.63 1193.49 1330.22 1193.49 Q1321.69 1193.49 1316.69 1188.52 Q1311.73 1183.56 1311.73 1175.09 Q1311.73 1166.34 1316.44 1161.21 Q1321.18 1156.06 1329.2 1156.06 Q1336.4 1156.06 1340.57 1160.7 Q1344.77 1165.32 1344.77 1173.28 M1338.91 1171.56 Q1338.85 1166.75 1336.21 1163.89 Q1333.6 1161.02 1329.27 1161.02 Q1324.37 1161.02 1321.41 1163.79 Q1318.48 1166.56 1318.03 1171.59 L1338.91 1171.56 Z\" fill=\"#000000\" fill-rule=\"evenodd\" fill-opacity=\"1\" /><path clip-path=\"url(#clip430)\" d=\"M1377.84 1162.33 L1377.84 1143.04 L1383.69 1143.04 L1383.69 1192.56 L1377.84 1192.56 L1377.84 1187.22 Q1375.99 1190.4 1373.16 1191.96 Q1370.36 1193.49 1366.41 1193.49 Q1359.95 1193.49 1355.88 1188.33 Q1351.83 1183.17 1351.83 1174.77 Q1351.83 1166.37 1355.88 1161.21 Q1359.95 1156.06 1366.41 1156.06 Q1370.36 1156.06 1373.16 1157.62 Q1375.99 1159.14 1377.84 1162.33 M1357.88 1174.77 Q1357.88 1181.23 1360.52 1184.92 Q1363.2 1188.59 1367.84 1188.59 Q1372.49 1188.59 1375.16 1184.92 Q1377.84 1181.23 1377.84 1174.77 Q1377.84 1168.31 1375.16 1164.65 Q1372.49 1160.96 1367.84 1160.96 Q1363.2 1160.96 1360.52 1164.65 Q1357.88 1168.31 1357.88 1174.77 Z\" fill=\"#000000\" fill-rule=\"evenodd\" fill-opacity=\"1\" /><polyline clip-path=\"url(#clip432)\" style=\"stroke:#000000; stroke-linecap:butt; stroke-linejoin:round; stroke-width:2; stroke-opacity:0.1; fill:none\" points=\"\n",
       "  220.509,934.902 2352.76,934.902 \n",
       "  \"/>\n",
       "<polyline clip-path=\"url(#clip432)\" style=\"stroke:#000000; stroke-linecap:butt; stroke-linejoin:round; stroke-width:2; stroke-opacity:0.1; fill:none\" points=\"\n",
       "  220.509,755.872 2352.76,755.872 \n",
       "  \"/>\n",
       "<polyline clip-path=\"url(#clip432)\" style=\"stroke:#000000; stroke-linecap:butt; stroke-linejoin:round; stroke-width:2; stroke-opacity:0.1; fill:none\" points=\"\n",
       "  220.509,576.842 2352.76,576.842 \n",
       "  \"/>\n",
       "<polyline clip-path=\"url(#clip432)\" style=\"stroke:#000000; stroke-linecap:butt; stroke-linejoin:round; stroke-width:2; stroke-opacity:0.1; fill:none\" points=\"\n",
       "  220.509,397.812 2352.76,397.812 \n",
       "  \"/>\n",
       "<polyline clip-path=\"url(#clip432)\" style=\"stroke:#000000; stroke-linecap:butt; stroke-linejoin:round; stroke-width:2; stroke-opacity:0.1; fill:none\" points=\"\n",
       "  220.509,218.783 2352.76,218.783 \n",
       "  \"/>\n",
       "<polyline clip-path=\"url(#clip430)\" style=\"stroke:#000000; stroke-linecap:butt; stroke-linejoin:round; stroke-width:4; stroke-opacity:1; fill:none\" points=\"\n",
       "  220.509,1047.7 220.509,47.2441 \n",
       "  \"/>\n",
       "<polyline clip-path=\"url(#clip430)\" style=\"stroke:#000000; stroke-linecap:butt; stroke-linejoin:round; stroke-width:4; stroke-opacity:1; fill:none\" points=\"\n",
       "  220.509,934.902 239.407,934.902 \n",
       "  \"/>\n",
       "<polyline clip-path=\"url(#clip430)\" style=\"stroke:#000000; stroke-linecap:butt; stroke-linejoin:round; stroke-width:4; stroke-opacity:1; fill:none\" points=\"\n",
       "  220.509,755.872 239.407,755.872 \n",
       "  \"/>\n",
       "<polyline clip-path=\"url(#clip430)\" style=\"stroke:#000000; stroke-linecap:butt; stroke-linejoin:round; stroke-width:4; stroke-opacity:1; fill:none\" points=\"\n",
       "  220.509,576.842 239.407,576.842 \n",
       "  \"/>\n",
       "<polyline clip-path=\"url(#clip430)\" style=\"stroke:#000000; stroke-linecap:butt; stroke-linejoin:round; stroke-width:4; stroke-opacity:1; fill:none\" points=\"\n",
       "  220.509,397.812 239.407,397.812 \n",
       "  \"/>\n",
       "<polyline clip-path=\"url(#clip430)\" style=\"stroke:#000000; stroke-linecap:butt; stroke-linejoin:round; stroke-width:4; stroke-opacity:1; fill:none\" points=\"\n",
       "  220.509,218.783 239.407,218.783 \n",
       "  \"/>\n",
       "<path clip-path=\"url(#clip430)\" d=\"M172.565 920.7 Q168.954 920.7 167.125 924.265 Q165.32 927.807 165.32 934.936 Q165.32 942.043 167.125 945.607 Q168.954 949.149 172.565 949.149 Q176.199 949.149 178.005 945.607 Q179.833 942.043 179.833 934.936 Q179.833 927.807 178.005 924.265 Q176.199 920.7 172.565 920.7 M172.565 916.997 Q178.375 916.997 181.431 921.603 Q184.509 926.186 184.509 934.936 Q184.509 943.663 181.431 948.269 Q178.375 952.853 172.565 952.853 Q166.755 952.853 163.676 948.269 Q160.621 943.663 160.621 934.936 Q160.621 926.186 163.676 921.603 Q166.755 916.997 172.565 916.997 Z\" fill=\"#000000\" fill-rule=\"evenodd\" fill-opacity=\"1\" /><path clip-path=\"url(#clip430)\" d=\"M137.426 769.217 L153.746 769.217 L153.746 773.152 L131.801 773.152 L131.801 769.217 Q134.463 766.462 139.047 761.832 Q143.653 757.18 144.834 755.837 Q147.079 753.314 147.959 751.578 Q148.861 749.819 148.861 748.129 Q148.861 745.374 146.917 743.638 Q144.996 741.902 141.894 741.902 Q139.695 741.902 137.241 742.666 Q134.811 743.43 132.033 744.981 L132.033 740.258 Q134.857 739.124 137.311 738.545 Q139.764 737.967 141.801 737.967 Q147.172 737.967 150.366 740.652 Q153.56 743.337 153.56 747.828 Q153.56 749.957 152.75 751.879 Q151.963 753.777 149.857 756.369 Q149.278 757.041 146.176 760.258 Q143.074 763.453 137.426 769.217 Z\" fill=\"#000000\" fill-rule=\"evenodd\" fill-opacity=\"1\" /><path clip-path=\"url(#clip430)\" d=\"M163.607 738.592 L181.963 738.592 L181.963 742.527 L167.889 742.527 L167.889 750.999 Q168.908 750.652 169.926 750.49 Q170.945 750.305 171.963 750.305 Q177.75 750.305 181.13 753.476 Q184.509 756.647 184.509 762.064 Q184.509 767.643 181.037 770.744 Q177.565 773.823 171.246 773.823 Q169.07 773.823 166.801 773.453 Q164.556 773.082 162.148 772.342 L162.148 767.643 Q164.232 768.777 166.454 769.332 Q168.676 769.888 171.153 769.888 Q175.158 769.888 177.495 767.781 Q179.833 765.675 179.833 762.064 Q179.833 758.453 177.495 756.346 Q175.158 754.24 171.153 754.24 Q169.278 754.24 167.403 754.657 Q165.551 755.073 163.607 755.953 L163.607 738.592 Z\" fill=\"#000000\" fill-rule=\"evenodd\" fill-opacity=\"1\" /><path clip-path=\"url(#clip430)\" d=\"M132.449 559.562 L150.806 559.562 L150.806 563.497 L136.732 563.497 L136.732 571.969 Q137.75 571.622 138.769 571.46 Q139.787 571.275 140.806 571.275 Q146.593 571.275 149.972 574.446 Q153.352 577.618 153.352 583.034 Q153.352 588.613 149.88 591.715 Q146.408 594.793 140.088 594.793 Q137.912 594.793 135.644 594.423 Q133.399 594.053 130.991 593.312 L130.991 588.613 Q133.074 589.747 135.297 590.303 Q137.519 590.858 139.996 590.858 Q144 590.858 146.338 588.752 Q148.676 586.645 148.676 583.034 Q148.676 579.423 146.338 577.317 Q144 575.21 139.996 575.21 Q138.121 575.21 136.246 575.627 Q134.394 576.043 132.449 576.923 L132.449 559.562 Z\" fill=\"#000000\" fill-rule=\"evenodd\" fill-opacity=\"1\" /><path clip-path=\"url(#clip430)\" d=\"M172.565 562.641 Q168.954 562.641 167.125 566.206 Q165.32 569.747 165.32 576.877 Q165.32 583.983 167.125 587.548 Q168.954 591.09 172.565 591.09 Q176.199 591.09 178.005 587.548 Q179.833 583.983 179.833 576.877 Q179.833 569.747 178.005 566.206 Q176.199 562.641 172.565 562.641 M172.565 558.937 Q178.375 558.937 181.431 563.544 Q184.509 568.127 184.509 576.877 Q184.509 585.604 181.431 590.21 Q178.375 594.793 172.565 594.793 Q166.755 594.793 163.676 590.21 Q160.621 585.604 160.621 576.877 Q160.621 568.127 163.676 563.544 Q166.755 558.937 172.565 558.937 Z\" fill=\"#000000\" fill-rule=\"evenodd\" fill-opacity=\"1\" /><path clip-path=\"url(#clip430)\" d=\"M132.218 380.532 L154.44 380.532 L154.44 382.523 L141.894 415.092 L137.01 415.092 L148.815 384.468 L132.218 384.468 L132.218 380.532 Z\" fill=\"#000000\" fill-rule=\"evenodd\" fill-opacity=\"1\" /><path clip-path=\"url(#clip430)\" d=\"M163.607 380.532 L181.963 380.532 L181.963 384.468 L167.889 384.468 L167.889 392.94 Q168.908 392.592 169.926 392.43 Q170.945 392.245 171.963 392.245 Q177.75 392.245 181.13 395.417 Q184.509 398.588 184.509 404.004 Q184.509 409.583 181.037 412.685 Q177.565 415.764 171.246 415.764 Q169.07 415.764 166.801 415.393 Q164.556 415.023 162.148 414.282 L162.148 409.583 Q164.232 410.717 166.454 411.273 Q168.676 411.828 171.153 411.828 Q175.158 411.828 177.495 409.722 Q179.833 407.616 179.833 404.004 Q179.833 400.393 177.495 398.287 Q175.158 396.18 171.153 396.18 Q169.278 396.18 167.403 396.597 Q165.551 397.014 163.607 397.893 L163.607 380.532 Z\" fill=\"#000000\" fill-rule=\"evenodd\" fill-opacity=\"1\" /><path clip-path=\"url(#clip430)\" d=\"M103.051 232.127 L110.69 232.127 L110.69 205.762 L102.38 207.429 L102.38 203.169 L110.644 201.503 L115.32 201.503 L115.32 232.127 L122.959 232.127 L122.959 236.063 L103.051 236.063 L103.051 232.127 Z\" fill=\"#000000\" fill-rule=\"evenodd\" fill-opacity=\"1\" /><path clip-path=\"url(#clip430)\" d=\"M142.403 204.581 Q138.792 204.581 136.963 208.146 Q135.158 211.688 135.158 218.817 Q135.158 225.924 136.963 229.489 Q138.792 233.03 142.403 233.03 Q146.037 233.03 147.843 229.489 Q149.672 225.924 149.672 218.817 Q149.672 211.688 147.843 208.146 Q146.037 204.581 142.403 204.581 M142.403 200.878 Q148.213 200.878 151.269 205.484 Q154.347 210.067 154.347 218.817 Q154.347 227.544 151.269 232.151 Q148.213 236.734 142.403 236.734 Q136.593 236.734 133.514 232.151 Q130.459 227.544 130.459 218.817 Q130.459 210.067 133.514 205.484 Q136.593 200.878 142.403 200.878 Z\" fill=\"#000000\" fill-rule=\"evenodd\" fill-opacity=\"1\" /><path clip-path=\"url(#clip430)\" d=\"M172.565 204.581 Q168.954 204.581 167.125 208.146 Q165.32 211.688 165.32 218.817 Q165.32 225.924 167.125 229.489 Q168.954 233.03 172.565 233.03 Q176.199 233.03 178.005 229.489 Q179.833 225.924 179.833 218.817 Q179.833 211.688 178.005 208.146 Q176.199 204.581 172.565 204.581 M172.565 200.878 Q178.375 200.878 181.431 205.484 Q184.509 210.067 184.509 218.817 Q184.509 227.544 181.431 232.151 Q178.375 236.734 172.565 236.734 Q166.755 236.734 163.676 232.151 Q160.621 227.544 160.621 218.817 Q160.621 210.067 163.676 205.484 Q166.755 200.878 172.565 200.878 Z\" fill=\"#000000\" fill-rule=\"evenodd\" fill-opacity=\"1\" /><path clip-path=\"url(#clip430)\" d=\"M9.88769 600.976 L46.8406 600.976 L46.8406 593.21 Q46.8406 583.375 42.3846 578.823 Q37.9286 574.24 28.3164 574.24 Q18.7679 574.24 14.3437 578.823 Q9.88769 583.375 9.88769 593.21 L9.88769 600.976 M4.60416 607.405 L4.60416 594.196 Q4.60416 580.383 10.3651 573.921 Q16.0943 567.46 28.3164 567.46 Q40.6022 567.46 46.3632 573.953 Q52.1242 580.446 52.1242 594.196 L52.1242 607.405 L4.60416 607.405 Z\" fill=\"#000000\" fill-rule=\"evenodd\" fill-opacity=\"1\" /><path clip-path=\"url(#clip430)\" d=\"M16.4762 557.466 L16.4762 551.61 L52.1242 551.61 L52.1242 557.466 L16.4762 557.466 M2.59896 557.466 L2.59896 551.61 L10.015 551.61 L10.015 557.466 L2.59896 557.466 Z\" fill=\"#000000\" fill-rule=\"evenodd\" fill-opacity=\"1\" /><path clip-path=\"url(#clip430)\" d=\"M17.5265 516.63 L23.0647 516.63 Q21.7916 519.113 21.155 521.786 Q20.5184 524.46 20.5184 527.325 Q20.5184 531.685 21.8552 533.881 Q23.192 536.046 25.8656 536.046 Q27.9026 536.046 29.0803 534.486 Q30.2261 532.926 31.2765 528.216 L31.7221 526.211 Q33.0589 519.972 35.5097 517.362 Q37.9286 514.72 42.2891 514.72 Q47.2544 514.72 50.1508 518.667 Q53.0472 522.582 53.0472 529.457 Q53.0472 532.322 52.4743 535.441 Q51.9332 538.528 50.8192 541.966 L44.7718 541.966 Q46.4587 538.719 47.318 535.568 Q48.1456 532.417 48.1456 529.33 Q48.1456 525.192 46.7451 522.964 Q45.3129 520.736 42.7347 520.736 Q40.3476 520.736 39.0745 522.359 Q37.8013 523.951 36.6237 529.393 L36.1462 531.43 Q35.0004 536.873 32.6451 539.292 Q30.258 541.711 26.1202 541.711 Q21.0913 541.711 18.3541 538.146 Q15.6168 534.581 15.6168 528.025 Q15.6168 524.778 16.0943 521.914 Q16.5717 519.049 17.5265 516.63 Z\" fill=\"#000000\" fill-rule=\"evenodd\" fill-opacity=\"1\" /><path clip-path=\"url(#clip430)\" d=\"M6.35473 499.602 L16.4762 499.602 L16.4762 487.539 L21.0277 487.539 L21.0277 499.602 L40.3794 499.602 Q44.7399 499.602 45.9813 498.424 Q47.2226 497.215 47.2226 493.554 L47.2226 487.539 L52.1242 487.539 L52.1242 493.554 Q52.1242 500.334 49.6097 502.912 Q47.0634 505.49 40.3794 505.49 L21.0277 505.49 L21.0277 509.787 L16.4762 509.787 L16.4762 505.49 L6.35473 505.49 L6.35473 499.602 Z\" fill=\"#000000\" fill-rule=\"evenodd\" fill-opacity=\"1\" /><circle clip-path=\"url(#clip432)\" cx=\"1560.94\" cy=\"648.454\" r=\"14\" fill=\"#009af9\" fill-rule=\"evenodd\" fill-opacity=\"1\" stroke=\"#000000\" stroke-opacity=\"1\" stroke-width=\"2.4\"/>\n",
       "<circle clip-path=\"url(#clip432)\" cx=\"1286.63\" cy=\"505.23\" r=\"14\" fill=\"#009af9\" fill-rule=\"evenodd\" fill-opacity=\"1\" stroke=\"#000000\" stroke-opacity=\"1\" stroke-width=\"2.4\"/>\n",
       "<circle clip-path=\"url(#clip432)\" cx=\"1378.07\" cy=\"548.197\" r=\"14\" fill=\"#009af9\" fill-rule=\"evenodd\" fill-opacity=\"1\" stroke=\"#000000\" stroke-opacity=\"1\" stroke-width=\"2.4\"/>\n",
       "<circle clip-path=\"url(#clip432)\" cx=\"2109.54\" cy=\"548.197\" r=\"14\" fill=\"#009af9\" fill-rule=\"evenodd\" fill-opacity=\"1\" stroke=\"#000000\" stroke-opacity=\"1\" stroke-width=\"2.4\"/>\n",
       "<circle clip-path=\"url(#clip432)\" cx=\"1378.07\" cy=\"791.678\" r=\"14\" fill=\"#009af9\" fill-rule=\"evenodd\" fill-opacity=\"1\" stroke=\"#000000\" stroke-opacity=\"1\" stroke-width=\"2.4\"/>\n",
       "<circle clip-path=\"url(#clip432)\" cx=\"1560.94\" cy=\"576.842\" r=\"14\" fill=\"#009af9\" fill-rule=\"evenodd\" fill-opacity=\"1\" stroke=\"#000000\" stroke-opacity=\"1\" stroke-width=\"2.4\"/>\n",
       "<circle clip-path=\"url(#clip432)\" cx=\"2200.98\" cy=\"268.911\" r=\"14\" fill=\"#009af9\" fill-rule=\"evenodd\" fill-opacity=\"1\" stroke=\"#000000\" stroke-opacity=\"1\" stroke-width=\"2.4\"/>\n",
       "<circle clip-path=\"url(#clip432)\" cx=\"1560.94\" cy=\"705.743\" r=\"14\" fill=\"#009af9\" fill-rule=\"evenodd\" fill-opacity=\"1\" stroke=\"#000000\" stroke-opacity=\"1\" stroke-width=\"2.4\"/>\n",
       "<circle clip-path=\"url(#clip432)\" cx=\"1835.24\" cy=\"705.743\" r=\"14\" fill=\"#009af9\" fill-rule=\"evenodd\" fill-opacity=\"1\" stroke=\"#000000\" stroke-opacity=\"1\" stroke-width=\"2.4\"/>\n",
       "<circle clip-path=\"url(#clip432)\" cx=\"1286.63\" cy=\"748.711\" r=\"14\" fill=\"#009af9\" fill-rule=\"evenodd\" fill-opacity=\"1\" stroke=\"#000000\" stroke-opacity=\"1\" stroke-width=\"2.4\"/>\n",
       "<circle clip-path=\"url(#clip432)\" cx=\"1652.37\" cy=\"634.132\" r=\"14\" fill=\"#009af9\" fill-rule=\"evenodd\" fill-opacity=\"1\" stroke=\"#000000\" stroke-opacity=\"1\" stroke-width=\"2.4\"/>\n",
       "<circle clip-path=\"url(#clip432)\" cx=\"920.896\" cy=\"691.421\" r=\"14\" fill=\"#009af9\" fill-rule=\"evenodd\" fill-opacity=\"1\" stroke=\"#000000\" stroke-opacity=\"1\" stroke-width=\"2.4\"/>\n",
       "<circle clip-path=\"url(#clip432)\" cx=\"1469.5\" cy=\"705.743\" r=\"14\" fill=\"#009af9\" fill-rule=\"evenodd\" fill-opacity=\"1\" stroke=\"#000000\" stroke-opacity=\"1\" stroke-width=\"2.4\"/>\n",
       "<circle clip-path=\"url(#clip432)\" cx=\"646.593\" cy=\"906.257\" r=\"14\" fill=\"#009af9\" fill-rule=\"evenodd\" fill-opacity=\"1\" stroke=\"#000000\" stroke-opacity=\"1\" stroke-width=\"2.4\"/>\n",
       "<circle clip-path=\"url(#clip432)\" cx=\"1195.2\" cy=\"605.487\" r=\"14\" fill=\"#009af9\" fill-rule=\"evenodd\" fill-opacity=\"1\" stroke=\"#000000\" stroke-opacity=\"1\" stroke-width=\"2.4\"/>\n",
       "<circle clip-path=\"url(#clip432)\" cx=\"1469.5\" cy=\"648.454\" r=\"14\" fill=\"#009af9\" fill-rule=\"evenodd\" fill-opacity=\"1\" stroke=\"#000000\" stroke-opacity=\"1\" stroke-width=\"2.4\"/>\n",
       "<circle clip-path=\"url(#clip432)\" cx=\"1103.76\" cy=\"791.678\" r=\"14\" fill=\"#009af9\" fill-rule=\"evenodd\" fill-opacity=\"1\" stroke=\"#000000\" stroke-opacity=\"1\" stroke-width=\"2.4\"/>\n",
       "<circle clip-path=\"url(#clip432)\" cx=\"1743.8\" cy=\"605.487\" r=\"14\" fill=\"#009af9\" fill-rule=\"evenodd\" fill-opacity=\"1\" stroke=\"#000000\" stroke-opacity=\"1\" stroke-width=\"2.4\"/>\n",
       "<circle clip-path=\"url(#clip432)\" cx=\"1195.2\" cy=\"691.421\" r=\"14\" fill=\"#009af9\" fill-rule=\"evenodd\" fill-opacity=\"1\" stroke=\"#000000\" stroke-opacity=\"1\" stroke-width=\"2.4\"/>\n",
       "<circle clip-path=\"url(#clip432)\" cx=\"829.461\" cy=\"863.29\" r=\"14\" fill=\"#009af9\" fill-rule=\"evenodd\" fill-opacity=\"1\" stroke=\"#000000\" stroke-opacity=\"1\" stroke-width=\"2.4\"/>\n",
       "<circle clip-path=\"url(#clip432)\" cx=\"1195.2\" cy=\"748.711\" r=\"14\" fill=\"#009af9\" fill-rule=\"evenodd\" fill-opacity=\"1\" stroke=\"#000000\" stroke-opacity=\"1\" stroke-width=\"2.4\"/>\n",
       "<circle clip-path=\"url(#clip432)\" cx=\"1103.76\" cy=\"834.645\" r=\"14\" fill=\"#009af9\" fill-rule=\"evenodd\" fill-opacity=\"1\" stroke=\"#000000\" stroke-opacity=\"1\" stroke-width=\"2.4\"/>\n",
       "<circle clip-path=\"url(#clip432)\" cx=\"2200.98\" cy=\"75.5589\" r=\"14\" fill=\"#009af9\" fill-rule=\"evenodd\" fill-opacity=\"1\" stroke=\"#000000\" stroke-opacity=\"1\" stroke-width=\"2.4\"/>\n",
       "<circle clip-path=\"url(#clip432)\" cx=\"1012.33\" cy=\"734.388\" r=\"14\" fill=\"#009af9\" fill-rule=\"evenodd\" fill-opacity=\"1\" stroke=\"#000000\" stroke-opacity=\"1\" stroke-width=\"2.4\"/>\n",
       "<circle clip-path=\"url(#clip432)\" cx=\"738.027\" cy=\"820.322\" r=\"14\" fill=\"#009af9\" fill-rule=\"evenodd\" fill-opacity=\"1\" stroke=\"#000000\" stroke-opacity=\"1\" stroke-width=\"2.4\"/>\n",
       "<circle clip-path=\"url(#clip432)\" cx=\"1835.24\" cy=\"591.164\" r=\"14\" fill=\"#009af9\" fill-rule=\"evenodd\" fill-opacity=\"1\" stroke=\"#000000\" stroke-opacity=\"1\" stroke-width=\"2.4\"/>\n",
       "<circle clip-path=\"url(#clip432)\" cx=\"920.896\" cy=\"806\" r=\"14\" fill=\"#009af9\" fill-rule=\"evenodd\" fill-opacity=\"1\" stroke=\"#000000\" stroke-opacity=\"1\" stroke-width=\"2.4\"/>\n",
       "<circle clip-path=\"url(#clip432)\" cx=\"2200.98\" cy=\"276.072\" r=\"14\" fill=\"#009af9\" fill-rule=\"evenodd\" fill-opacity=\"1\" stroke=\"#000000\" stroke-opacity=\"1\" stroke-width=\"2.4\"/>\n",
       "<circle clip-path=\"url(#clip432)\" cx=\"1743.8\" cy=\"677.099\" r=\"14\" fill=\"#009af9\" fill-rule=\"evenodd\" fill-opacity=\"1\" stroke=\"#000000\" stroke-opacity=\"1\" stroke-width=\"2.4\"/>\n",
       "<circle clip-path=\"url(#clip432)\" cx=\"1835.24\" cy=\"476.585\" r=\"14\" fill=\"#009af9\" fill-rule=\"evenodd\" fill-opacity=\"1\" stroke=\"#000000\" stroke-opacity=\"1\" stroke-width=\"2.4\"/>\n",
       "<circle clip-path=\"url(#clip432)\" cx=\"1835.24\" cy=\"533.875\" r=\"14\" fill=\"#009af9\" fill-rule=\"evenodd\" fill-opacity=\"1\" stroke=\"#000000\" stroke-opacity=\"1\" stroke-width=\"2.4\"/>\n",
       "<circle clip-path=\"url(#clip432)\" cx=\"1195.2\" cy=\"691.421\" r=\"14\" fill=\"#009af9\" fill-rule=\"evenodd\" fill-opacity=\"1\" stroke=\"#000000\" stroke-opacity=\"1\" stroke-width=\"2.4\"/>\n",
       "<circle clip-path=\"url(#clip432)\" cx=\"1103.76\" cy=\"763.033\" r=\"14\" fill=\"#009af9\" fill-rule=\"evenodd\" fill-opacity=\"1\" stroke=\"#000000\" stroke-opacity=\"1\" stroke-width=\"2.4\"/>\n",
       "<circle clip-path=\"url(#clip432)\" cx=\"1012.33\" cy=\"813.161\" r=\"14\" fill=\"#009af9\" fill-rule=\"evenodd\" fill-opacity=\"1\" stroke=\"#000000\" stroke-opacity=\"1\" stroke-width=\"2.4\"/>\n",
       "<circle clip-path=\"url(#clip432)\" cx=\"372.29\" cy=\"863.29\" r=\"14\" fill=\"#009af9\" fill-rule=\"evenodd\" fill-opacity=\"1\" stroke=\"#000000\" stroke-opacity=\"1\" stroke-width=\"2.4\"/>\n",
       "<circle clip-path=\"url(#clip432)\" cx=\"1286.63\" cy=\"677.099\" r=\"14\" fill=\"#009af9\" fill-rule=\"evenodd\" fill-opacity=\"1\" stroke=\"#000000\" stroke-opacity=\"1\" stroke-width=\"2.4\"/>\n",
       "<circle clip-path=\"url(#clip432)\" cx=\"2200.98\" cy=\"433.618\" r=\"14\" fill=\"#009af9\" fill-rule=\"evenodd\" fill-opacity=\"1\" stroke=\"#000000\" stroke-opacity=\"1\" stroke-width=\"2.4\"/>\n",
       "<circle clip-path=\"url(#clip432)\" cx=\"2018.11\" cy=\"462.263\" r=\"14\" fill=\"#009af9\" fill-rule=\"evenodd\" fill-opacity=\"1\" stroke=\"#000000\" stroke-opacity=\"1\" stroke-width=\"2.4\"/>\n",
       "<circle clip-path=\"url(#clip432)\" cx=\"280.856\" cy=\"1013.97\" r=\"14\" fill=\"#cd5c5c\" fill-rule=\"evenodd\" fill-opacity=\"1\" stroke=\"#000000\" stroke-opacity=\"1\" stroke-width=\"2.4\"/>\n",
       "<circle clip-path=\"url(#clip432)\" cx=\"326.573\" cy=\"1019.39\" r=\"14\" fill=\"#cd5c5c\" fill-rule=\"evenodd\" fill-opacity=\"1\" stroke=\"#000000\" stroke-opacity=\"1\" stroke-width=\"2.4\"/>\n",
       "<circle clip-path=\"url(#clip432)\" cx=\"372.29\" cy=\"952.31\" r=\"14\" fill=\"#cd5c5c\" fill-rule=\"evenodd\" fill-opacity=\"1\" stroke=\"#000000\" stroke-opacity=\"1\" stroke-width=\"2.4\"/>\n",
       "<circle clip-path=\"url(#clip432)\" cx=\"418.007\" cy=\"952.636\" r=\"14\" fill=\"#cd5c5c\" fill-rule=\"evenodd\" fill-opacity=\"1\" stroke=\"#000000\" stroke-opacity=\"1\" stroke-width=\"2.4\"/>\n",
       "<circle clip-path=\"url(#clip432)\" cx=\"463.724\" cy=\"974.885\" r=\"14\" fill=\"#cd5c5c\" fill-rule=\"evenodd\" fill-opacity=\"1\" stroke=\"#000000\" stroke-opacity=\"1\" stroke-width=\"2.4\"/>\n",
       "<circle clip-path=\"url(#clip432)\" cx=\"509.442\" cy=\"928.273\" r=\"14\" fill=\"#cd5c5c\" fill-rule=\"evenodd\" fill-opacity=\"1\" stroke=\"#000000\" stroke-opacity=\"1\" stroke-width=\"2.4\"/>\n",
       "<circle clip-path=\"url(#clip432)\" cx=\"555.159\" cy=\"958.895\" r=\"14\" fill=\"#cd5c5c\" fill-rule=\"evenodd\" fill-opacity=\"1\" stroke=\"#000000\" stroke-opacity=\"1\" stroke-width=\"2.4\"/>\n",
       "<circle clip-path=\"url(#clip432)\" cx=\"600.876\" cy=\"904.185\" r=\"14\" fill=\"#cd5c5c\" fill-rule=\"evenodd\" fill-opacity=\"1\" stroke=\"#000000\" stroke-opacity=\"1\" stroke-width=\"2.4\"/>\n",
       "<circle clip-path=\"url(#clip432)\" cx=\"646.593\" cy=\"895.511\" r=\"14\" fill=\"#cd5c5c\" fill-rule=\"evenodd\" fill-opacity=\"1\" stroke=\"#000000\" stroke-opacity=\"1\" stroke-width=\"2.4\"/>\n",
       "<circle clip-path=\"url(#clip432)\" cx=\"692.31\" cy=\"816.501\" r=\"14\" fill=\"#cd5c5c\" fill-rule=\"evenodd\" fill-opacity=\"1\" stroke=\"#000000\" stroke-opacity=\"1\" stroke-width=\"2.4\"/>\n",
       "<circle clip-path=\"url(#clip432)\" cx=\"738.027\" cy=\"879.402\" r=\"14\" fill=\"#cd5c5c\" fill-rule=\"evenodd\" fill-opacity=\"1\" stroke=\"#000000\" stroke-opacity=\"1\" stroke-width=\"2.4\"/>\n",
       "<circle clip-path=\"url(#clip432)\" cx=\"783.744\" cy=\"826.108\" r=\"14\" fill=\"#cd5c5c\" fill-rule=\"evenodd\" fill-opacity=\"1\" stroke=\"#000000\" stroke-opacity=\"1\" stroke-width=\"2.4\"/>\n",
       "<circle clip-path=\"url(#clip432)\" cx=\"829.461\" cy=\"816.927\" r=\"14\" fill=\"#cd5c5c\" fill-rule=\"evenodd\" fill-opacity=\"1\" stroke=\"#000000\" stroke-opacity=\"1\" stroke-width=\"2.4\"/>\n",
       "<circle clip-path=\"url(#clip432)\" cx=\"875.179\" cy=\"847.16\" r=\"14\" fill=\"#cd5c5c\" fill-rule=\"evenodd\" fill-opacity=\"1\" stroke=\"#000000\" stroke-opacity=\"1\" stroke-width=\"2.4\"/>\n",
       "<circle clip-path=\"url(#clip432)\" cx=\"920.896\" cy=\"798.151\" r=\"14\" fill=\"#cd5c5c\" fill-rule=\"evenodd\" fill-opacity=\"1\" stroke=\"#000000\" stroke-opacity=\"1\" stroke-width=\"2.4\"/>\n",
       "<circle clip-path=\"url(#clip432)\" cx=\"966.613\" cy=\"817.947\" r=\"14\" fill=\"#cd5c5c\" fill-rule=\"evenodd\" fill-opacity=\"1\" stroke=\"#000000\" stroke-opacity=\"1\" stroke-width=\"2.4\"/>\n",
       "<circle clip-path=\"url(#clip432)\" cx=\"1012.33\" cy=\"772.761\" r=\"14\" fill=\"#cd5c5c\" fill-rule=\"evenodd\" fill-opacity=\"1\" stroke=\"#000000\" stroke-opacity=\"1\" stroke-width=\"2.4\"/>\n",
       "<circle clip-path=\"url(#clip432)\" cx=\"1058.05\" cy=\"722.692\" r=\"14\" fill=\"#cd5c5c\" fill-rule=\"evenodd\" fill-opacity=\"1\" stroke=\"#000000\" stroke-opacity=\"1\" stroke-width=\"2.4\"/>\n",
       "<circle clip-path=\"url(#clip432)\" cx=\"1103.76\" cy=\"739.327\" r=\"14\" fill=\"#cd5c5c\" fill-rule=\"evenodd\" fill-opacity=\"1\" stroke=\"#000000\" stroke-opacity=\"1\" stroke-width=\"2.4\"/>\n",
       "<circle clip-path=\"url(#clip432)\" cx=\"1149.48\" cy=\"727.77\" r=\"14\" fill=\"#cd5c5c\" fill-rule=\"evenodd\" fill-opacity=\"1\" stroke=\"#000000\" stroke-opacity=\"1\" stroke-width=\"2.4\"/>\n",
       "<circle clip-path=\"url(#clip432)\" cx=\"1195.2\" cy=\"700.227\" r=\"14\" fill=\"#cd5c5c\" fill-rule=\"evenodd\" fill-opacity=\"1\" stroke=\"#000000\" stroke-opacity=\"1\" stroke-width=\"2.4\"/>\n",
       "<circle clip-path=\"url(#clip432)\" cx=\"1240.92\" cy=\"671.572\" r=\"14\" fill=\"#cd5c5c\" fill-rule=\"evenodd\" fill-opacity=\"1\" stroke=\"#000000\" stroke-opacity=\"1\" stroke-width=\"2.4\"/>\n",
       "<circle clip-path=\"url(#clip432)\" cx=\"1286.63\" cy=\"685.024\" r=\"14\" fill=\"#cd5c5c\" fill-rule=\"evenodd\" fill-opacity=\"1\" stroke=\"#000000\" stroke-opacity=\"1\" stroke-width=\"2.4\"/>\n",
       "<circle clip-path=\"url(#clip432)\" cx=\"1332.35\" cy=\"670.59\" r=\"14\" fill=\"#cd5c5c\" fill-rule=\"evenodd\" fill-opacity=\"1\" stroke=\"#000000\" stroke-opacity=\"1\" stroke-width=\"2.4\"/>\n",
       "<circle clip-path=\"url(#clip432)\" cx=\"1378.07\" cy=\"700.448\" r=\"14\" fill=\"#cd5c5c\" fill-rule=\"evenodd\" fill-opacity=\"1\" stroke=\"#000000\" stroke-opacity=\"1\" stroke-width=\"2.4\"/>\n",
       "<circle clip-path=\"url(#clip432)\" cx=\"1423.78\" cy=\"645.926\" r=\"14\" fill=\"#cd5c5c\" fill-rule=\"evenodd\" fill-opacity=\"1\" stroke=\"#000000\" stroke-opacity=\"1\" stroke-width=\"2.4\"/>\n",
       "<circle clip-path=\"url(#clip432)\" cx=\"1469.5\" cy=\"630.63\" r=\"14\" fill=\"#cd5c5c\" fill-rule=\"evenodd\" fill-opacity=\"1\" stroke=\"#000000\" stroke-opacity=\"1\" stroke-width=\"2.4\"/>\n",
       "<circle clip-path=\"url(#clip432)\" cx=\"1515.22\" cy=\"607.91\" r=\"14\" fill=\"#cd5c5c\" fill-rule=\"evenodd\" fill-opacity=\"1\" stroke=\"#000000\" stroke-opacity=\"1\" stroke-width=\"2.4\"/>\n",
       "<circle clip-path=\"url(#clip432)\" cx=\"1560.94\" cy=\"604.328\" r=\"14\" fill=\"#cd5c5c\" fill-rule=\"evenodd\" fill-opacity=\"1\" stroke=\"#000000\" stroke-opacity=\"1\" stroke-width=\"2.4\"/>\n",
       "<circle clip-path=\"url(#clip432)\" cx=\"1606.65\" cy=\"601.826\" r=\"14\" fill=\"#cd5c5c\" fill-rule=\"evenodd\" fill-opacity=\"1\" stroke=\"#000000\" stroke-opacity=\"1\" stroke-width=\"2.4\"/>\n",
       "<circle clip-path=\"url(#clip432)\" cx=\"1652.37\" cy=\"607.624\" r=\"14\" fill=\"#cd5c5c\" fill-rule=\"evenodd\" fill-opacity=\"1\" stroke=\"#000000\" stroke-opacity=\"1\" stroke-width=\"2.4\"/>\n",
       "<circle clip-path=\"url(#clip432)\" cx=\"1698.09\" cy=\"575.458\" r=\"14\" fill=\"#cd5c5c\" fill-rule=\"evenodd\" fill-opacity=\"1\" stroke=\"#000000\" stroke-opacity=\"1\" stroke-width=\"2.4\"/>\n",
       "<circle clip-path=\"url(#clip432)\" cx=\"1743.8\" cy=\"569.739\" r=\"14\" fill=\"#cd5c5c\" fill-rule=\"evenodd\" fill-opacity=\"1\" stroke=\"#000000\" stroke-opacity=\"1\" stroke-width=\"2.4\"/>\n",
       "<circle clip-path=\"url(#clip432)\" cx=\"1789.52\" cy=\"541.951\" r=\"14\" fill=\"#cd5c5c\" fill-rule=\"evenodd\" fill-opacity=\"1\" stroke=\"#000000\" stroke-opacity=\"1\" stroke-width=\"2.4\"/>\n",
       "<circle clip-path=\"url(#clip432)\" cx=\"1835.24\" cy=\"477.17\" r=\"14\" fill=\"#cd5c5c\" fill-rule=\"evenodd\" fill-opacity=\"1\" stroke=\"#000000\" stroke-opacity=\"1\" stroke-width=\"2.4\"/>\n",
       "<circle clip-path=\"url(#clip432)\" cx=\"1880.96\" cy=\"488.94\" r=\"14\" fill=\"#cd5c5c\" fill-rule=\"evenodd\" fill-opacity=\"1\" stroke=\"#000000\" stroke-opacity=\"1\" stroke-width=\"2.4\"/>\n",
       "<circle clip-path=\"url(#clip432)\" cx=\"1926.67\" cy=\"469.884\" r=\"14\" fill=\"#cd5c5c\" fill-rule=\"evenodd\" fill-opacity=\"1\" stroke=\"#000000\" stroke-opacity=\"1\" stroke-width=\"2.4\"/>\n",
       "<circle clip-path=\"url(#clip432)\" cx=\"1972.39\" cy=\"496.859\" r=\"14\" fill=\"#cd5c5c\" fill-rule=\"evenodd\" fill-opacity=\"1\" stroke=\"#000000\" stroke-opacity=\"1\" stroke-width=\"2.4\"/>\n",
       "<circle clip-path=\"url(#clip432)\" cx=\"2018.11\" cy=\"429.389\" r=\"14\" fill=\"#cd5c5c\" fill-rule=\"evenodd\" fill-opacity=\"1\" stroke=\"#000000\" stroke-opacity=\"1\" stroke-width=\"2.4\"/>\n",
       "<circle clip-path=\"url(#clip432)\" cx=\"2063.82\" cy=\"448.107\" r=\"14\" fill=\"#cd5c5c\" fill-rule=\"evenodd\" fill-opacity=\"1\" stroke=\"#000000\" stroke-opacity=\"1\" stroke-width=\"2.4\"/>\n",
       "<circle clip-path=\"url(#clip432)\" cx=\"2109.54\" cy=\"426.528\" r=\"14\" fill=\"#cd5c5c\" fill-rule=\"evenodd\" fill-opacity=\"1\" stroke=\"#000000\" stroke-opacity=\"1\" stroke-width=\"2.4\"/>\n",
       "<circle clip-path=\"url(#clip432)\" cx=\"2155.26\" cy=\"393.774\" r=\"14\" fill=\"#cd5c5c\" fill-rule=\"evenodd\" fill-opacity=\"1\" stroke=\"#000000\" stroke-opacity=\"1\" stroke-width=\"2.4\"/>\n",
       "<circle clip-path=\"url(#clip432)\" cx=\"2200.98\" cy=\"395.771\" r=\"14\" fill=\"#cd5c5c\" fill-rule=\"evenodd\" fill-opacity=\"1\" stroke=\"#000000\" stroke-opacity=\"1\" stroke-width=\"2.4\"/>\n",
       "<circle clip-path=\"url(#clip432)\" cx=\"2246.69\" cy=\"368.393\" r=\"14\" fill=\"#cd5c5c\" fill-rule=\"evenodd\" fill-opacity=\"1\" stroke=\"#000000\" stroke-opacity=\"1\" stroke-width=\"2.4\"/>\n",
       "<circle clip-path=\"url(#clip432)\" cx=\"2292.41\" cy=\"382.382\" r=\"14\" fill=\"#cd5c5c\" fill-rule=\"evenodd\" fill-opacity=\"1\" stroke=\"#000000\" stroke-opacity=\"1\" stroke-width=\"2.4\"/>\n",
       "<circle clip-path=\"url(#clip432)\" cx=\"280.856\" cy=\"906.352\" r=\"14\" fill=\"#2e8b57\" fill-rule=\"evenodd\" fill-opacity=\"1\" stroke=\"#000000\" stroke-opacity=\"1\" stroke-width=\"2.4\"/>\n",
       "<circle clip-path=\"url(#clip432)\" cx=\"326.573\" cy=\"870.47\" r=\"14\" fill=\"#2e8b57\" fill-rule=\"evenodd\" fill-opacity=\"1\" stroke=\"#000000\" stroke-opacity=\"1\" stroke-width=\"2.4\"/>\n",
       "<circle clip-path=\"url(#clip432)\" cx=\"372.29\" cy=\"879.692\" r=\"14\" fill=\"#2e8b57\" fill-rule=\"evenodd\" fill-opacity=\"1\" stroke=\"#000000\" stroke-opacity=\"1\" stroke-width=\"2.4\"/>\n",
       "<circle clip-path=\"url(#clip432)\" cx=\"418.007\" cy=\"858.275\" r=\"14\" fill=\"#2e8b57\" fill-rule=\"evenodd\" fill-opacity=\"1\" stroke=\"#000000\" stroke-opacity=\"1\" stroke-width=\"2.4\"/>\n",
       "<circle clip-path=\"url(#clip432)\" cx=\"463.724\" cy=\"854.656\" r=\"14\" fill=\"#2e8b57\" fill-rule=\"evenodd\" fill-opacity=\"1\" stroke=\"#000000\" stroke-opacity=\"1\" stroke-width=\"2.4\"/>\n",
       "<circle clip-path=\"url(#clip432)\" cx=\"509.442\" cy=\"879.166\" r=\"14\" fill=\"#2e8b57\" fill-rule=\"evenodd\" fill-opacity=\"1\" stroke=\"#000000\" stroke-opacity=\"1\" stroke-width=\"2.4\"/>\n",
       "<circle clip-path=\"url(#clip432)\" cx=\"555.159\" cy=\"830.987\" r=\"14\" fill=\"#2e8b57\" fill-rule=\"evenodd\" fill-opacity=\"1\" stroke=\"#000000\" stroke-opacity=\"1\" stroke-width=\"2.4\"/>\n",
       "<circle clip-path=\"url(#clip432)\" cx=\"600.876\" cy=\"840.963\" r=\"14\" fill=\"#2e8b57\" fill-rule=\"evenodd\" fill-opacity=\"1\" stroke=\"#000000\" stroke-opacity=\"1\" stroke-width=\"2.4\"/>\n",
       "<circle clip-path=\"url(#clip432)\" cx=\"646.593\" cy=\"816.179\" r=\"14\" fill=\"#2e8b57\" fill-rule=\"evenodd\" fill-opacity=\"1\" stroke=\"#000000\" stroke-opacity=\"1\" stroke-width=\"2.4\"/>\n",
       "<circle clip-path=\"url(#clip432)\" cx=\"692.31\" cy=\"842.72\" r=\"14\" fill=\"#2e8b57\" fill-rule=\"evenodd\" fill-opacity=\"1\" stroke=\"#000000\" stroke-opacity=\"1\" stroke-width=\"2.4\"/>\n",
       "<circle clip-path=\"url(#clip432)\" cx=\"738.027\" cy=\"823.523\" r=\"14\" fill=\"#2e8b57\" fill-rule=\"evenodd\" fill-opacity=\"1\" stroke=\"#000000\" stroke-opacity=\"1\" stroke-width=\"2.4\"/>\n",
       "<circle clip-path=\"url(#clip432)\" cx=\"783.744\" cy=\"780.896\" r=\"14\" fill=\"#2e8b57\" fill-rule=\"evenodd\" fill-opacity=\"1\" stroke=\"#000000\" stroke-opacity=\"1\" stroke-width=\"2.4\"/>\n",
       "<circle clip-path=\"url(#clip432)\" cx=\"829.461\" cy=\"780.788\" r=\"14\" fill=\"#2e8b57\" fill-rule=\"evenodd\" fill-opacity=\"1\" stroke=\"#000000\" stroke-opacity=\"1\" stroke-width=\"2.4\"/>\n",
       "<circle clip-path=\"url(#clip432)\" cx=\"875.179\" cy=\"744.923\" r=\"14\" fill=\"#2e8b57\" fill-rule=\"evenodd\" fill-opacity=\"1\" stroke=\"#000000\" stroke-opacity=\"1\" stroke-width=\"2.4\"/>\n",
       "<circle clip-path=\"url(#clip432)\" cx=\"920.896\" cy=\"787.377\" r=\"14\" fill=\"#2e8b57\" fill-rule=\"evenodd\" fill-opacity=\"1\" stroke=\"#000000\" stroke-opacity=\"1\" stroke-width=\"2.4\"/>\n",
       "<circle clip-path=\"url(#clip432)\" cx=\"966.613\" cy=\"768.535\" r=\"14\" fill=\"#2e8b57\" fill-rule=\"evenodd\" fill-opacity=\"1\" stroke=\"#000000\" stroke-opacity=\"1\" stroke-width=\"2.4\"/>\n",
       "<circle clip-path=\"url(#clip432)\" cx=\"1012.33\" cy=\"712.727\" r=\"14\" fill=\"#2e8b57\" fill-rule=\"evenodd\" fill-opacity=\"1\" stroke=\"#000000\" stroke-opacity=\"1\" stroke-width=\"2.4\"/>\n",
       "<circle clip-path=\"url(#clip432)\" cx=\"1058.05\" cy=\"681.916\" r=\"14\" fill=\"#2e8b57\" fill-rule=\"evenodd\" fill-opacity=\"1\" stroke=\"#000000\" stroke-opacity=\"1\" stroke-width=\"2.4\"/>\n",
       "<circle clip-path=\"url(#clip432)\" cx=\"1103.76\" cy=\"730.66\" r=\"14\" fill=\"#2e8b57\" fill-rule=\"evenodd\" fill-opacity=\"1\" stroke=\"#000000\" stroke-opacity=\"1\" stroke-width=\"2.4\"/>\n",
       "<circle clip-path=\"url(#clip432)\" cx=\"1149.48\" cy=\"666.556\" r=\"14\" fill=\"#2e8b57\" fill-rule=\"evenodd\" fill-opacity=\"1\" stroke=\"#000000\" stroke-opacity=\"1\" stroke-width=\"2.4\"/>\n",
       "<circle clip-path=\"url(#clip432)\" cx=\"1195.2\" cy=\"717.671\" r=\"14\" fill=\"#2e8b57\" fill-rule=\"evenodd\" fill-opacity=\"1\" stroke=\"#000000\" stroke-opacity=\"1\" stroke-width=\"2.4\"/>\n",
       "<circle clip-path=\"url(#clip432)\" cx=\"1240.92\" cy=\"664.851\" r=\"14\" fill=\"#2e8b57\" fill-rule=\"evenodd\" fill-opacity=\"1\" stroke=\"#000000\" stroke-opacity=\"1\" stroke-width=\"2.4\"/>\n",
       "<circle clip-path=\"url(#clip432)\" cx=\"1286.63\" cy=\"653.967\" r=\"14\" fill=\"#2e8b57\" fill-rule=\"evenodd\" fill-opacity=\"1\" stroke=\"#000000\" stroke-opacity=\"1\" stroke-width=\"2.4\"/>\n",
       "<circle clip-path=\"url(#clip432)\" cx=\"1332.35\" cy=\"664.938\" r=\"14\" fill=\"#2e8b57\" fill-rule=\"evenodd\" fill-opacity=\"1\" stroke=\"#000000\" stroke-opacity=\"1\" stroke-width=\"2.4\"/>\n",
       "<circle clip-path=\"url(#clip432)\" cx=\"1378.07\" cy=\"628.955\" r=\"14\" fill=\"#2e8b57\" fill-rule=\"evenodd\" fill-opacity=\"1\" stroke=\"#000000\" stroke-opacity=\"1\" stroke-width=\"2.4\"/>\n",
       "<circle clip-path=\"url(#clip432)\" cx=\"1423.78\" cy=\"650.747\" r=\"14\" fill=\"#2e8b57\" fill-rule=\"evenodd\" fill-opacity=\"1\" stroke=\"#000000\" stroke-opacity=\"1\" stroke-width=\"2.4\"/>\n",
       "<circle clip-path=\"url(#clip432)\" cx=\"1469.5\" cy=\"648.077\" r=\"14\" fill=\"#2e8b57\" fill-rule=\"evenodd\" fill-opacity=\"1\" stroke=\"#000000\" stroke-opacity=\"1\" stroke-width=\"2.4\"/>\n",
       "<circle clip-path=\"url(#clip432)\" cx=\"1515.22\" cy=\"613.58\" r=\"14\" fill=\"#2e8b57\" fill-rule=\"evenodd\" fill-opacity=\"1\" stroke=\"#000000\" stroke-opacity=\"1\" stroke-width=\"2.4\"/>\n",
       "<circle clip-path=\"url(#clip432)\" cx=\"1560.94\" cy=\"587.979\" r=\"14\" fill=\"#2e8b57\" fill-rule=\"evenodd\" fill-opacity=\"1\" stroke=\"#000000\" stroke-opacity=\"1\" stroke-width=\"2.4\"/>\n",
       "<circle clip-path=\"url(#clip432)\" cx=\"1606.65\" cy=\"529.834\" r=\"14\" fill=\"#2e8b57\" fill-rule=\"evenodd\" fill-opacity=\"1\" stroke=\"#000000\" stroke-opacity=\"1\" stroke-width=\"2.4\"/>\n",
       "<circle clip-path=\"url(#clip432)\" cx=\"1652.37\" cy=\"587.709\" r=\"14\" fill=\"#2e8b57\" fill-rule=\"evenodd\" fill-opacity=\"1\" stroke=\"#000000\" stroke-opacity=\"1\" stroke-width=\"2.4\"/>\n",
       "<circle clip-path=\"url(#clip432)\" cx=\"1698.09\" cy=\"573.474\" r=\"14\" fill=\"#2e8b57\" fill-rule=\"evenodd\" fill-opacity=\"1\" stroke=\"#000000\" stroke-opacity=\"1\" stroke-width=\"2.4\"/>\n",
       "<circle clip-path=\"url(#clip432)\" cx=\"1743.8\" cy=\"526.289\" r=\"14\" fill=\"#2e8b57\" fill-rule=\"evenodd\" fill-opacity=\"1\" stroke=\"#000000\" stroke-opacity=\"1\" stroke-width=\"2.4\"/>\n",
       "<circle clip-path=\"url(#clip432)\" cx=\"1789.52\" cy=\"557.246\" r=\"14\" fill=\"#2e8b57\" fill-rule=\"evenodd\" fill-opacity=\"1\" stroke=\"#000000\" stroke-opacity=\"1\" stroke-width=\"2.4\"/>\n",
       "<circle clip-path=\"url(#clip432)\" cx=\"1835.24\" cy=\"519.027\" r=\"14\" fill=\"#2e8b57\" fill-rule=\"evenodd\" fill-opacity=\"1\" stroke=\"#000000\" stroke-opacity=\"1\" stroke-width=\"2.4\"/>\n",
       "<circle clip-path=\"url(#clip432)\" cx=\"1880.96\" cy=\"525.631\" r=\"14\" fill=\"#2e8b57\" fill-rule=\"evenodd\" fill-opacity=\"1\" stroke=\"#000000\" stroke-opacity=\"1\" stroke-width=\"2.4\"/>\n",
       "<circle clip-path=\"url(#clip432)\" cx=\"1926.67\" cy=\"499.716\" r=\"14\" fill=\"#2e8b57\" fill-rule=\"evenodd\" fill-opacity=\"1\" stroke=\"#000000\" stroke-opacity=\"1\" stroke-width=\"2.4\"/>\n",
       "<circle clip-path=\"url(#clip432)\" cx=\"1972.39\" cy=\"519.843\" r=\"14\" fill=\"#2e8b57\" fill-rule=\"evenodd\" fill-opacity=\"1\" stroke=\"#000000\" stroke-opacity=\"1\" stroke-width=\"2.4\"/>\n",
       "<circle clip-path=\"url(#clip432)\" cx=\"2018.11\" cy=\"510.57\" r=\"14\" fill=\"#2e8b57\" fill-rule=\"evenodd\" fill-opacity=\"1\" stroke=\"#000000\" stroke-opacity=\"1\" stroke-width=\"2.4\"/>\n",
       "<circle clip-path=\"url(#clip432)\" cx=\"2063.82\" cy=\"489.111\" r=\"14\" fill=\"#2e8b57\" fill-rule=\"evenodd\" fill-opacity=\"1\" stroke=\"#000000\" stroke-opacity=\"1\" stroke-width=\"2.4\"/>\n",
       "<circle clip-path=\"url(#clip432)\" cx=\"2109.54\" cy=\"455.162\" r=\"14\" fill=\"#2e8b57\" fill-rule=\"evenodd\" fill-opacity=\"1\" stroke=\"#000000\" stroke-opacity=\"1\" stroke-width=\"2.4\"/>\n",
       "<circle clip-path=\"url(#clip432)\" cx=\"2155.26\" cy=\"447.683\" r=\"14\" fill=\"#2e8b57\" fill-rule=\"evenodd\" fill-opacity=\"1\" stroke=\"#000000\" stroke-opacity=\"1\" stroke-width=\"2.4\"/>\n",
       "<circle clip-path=\"url(#clip432)\" cx=\"2200.98\" cy=\"448.007\" r=\"14\" fill=\"#2e8b57\" fill-rule=\"evenodd\" fill-opacity=\"1\" stroke=\"#000000\" stroke-opacity=\"1\" stroke-width=\"2.4\"/>\n",
       "<circle clip-path=\"url(#clip432)\" cx=\"2246.69\" cy=\"457.804\" r=\"14\" fill=\"#2e8b57\" fill-rule=\"evenodd\" fill-opacity=\"1\" stroke=\"#000000\" stroke-opacity=\"1\" stroke-width=\"2.4\"/>\n",
       "<circle clip-path=\"url(#clip432)\" cx=\"2292.41\" cy=\"408.694\" r=\"14\" fill=\"#2e8b57\" fill-rule=\"evenodd\" fill-opacity=\"1\" stroke=\"#000000\" stroke-opacity=\"1\" stroke-width=\"2.4\"/>\n",
       "<polyline clip-path=\"url(#clip432)\" style=\"stroke:#cd5c5c; stroke-linecap:butt; stroke-linejoin:round; stroke-width:8; stroke-opacity:1; fill:none\" points=\"\n",
       "  280.856,1013.97 326.573,1019.39 372.29,952.31 418.007,952.636 463.724,974.885 509.442,928.273 555.159,958.895 600.876,904.185 646.593,895.511 692.31,816.501 \n",
       "  738.027,879.402 783.744,826.108 829.461,816.927 875.179,847.16 920.896,798.151 966.613,817.947 1012.33,772.761 1058.05,722.692 1103.76,739.327 1149.48,727.77 \n",
       "  1195.2,700.227 1240.92,671.572 1286.63,685.024 1332.35,670.59 1378.07,700.448 1423.78,645.926 1469.5,630.63 1515.22,607.91 1560.94,604.328 1606.65,601.826 \n",
       "  1652.37,607.624 1698.09,575.458 1743.8,569.739 1789.52,541.951 1835.24,477.17 1880.96,488.94 1926.67,469.884 1972.39,496.859 2018.11,429.389 2063.82,448.107 \n",
       "  2109.54,426.528 2155.26,393.774 2200.98,395.771 2246.69,368.393 2292.41,382.382 \n",
       "  \"/>\n",
       "<polyline clip-path=\"url(#clip432)\" style=\"stroke:#2e8b57; stroke-linecap:butt; stroke-linejoin:round; stroke-width:8; stroke-opacity:1; fill:none\" points=\"\n",
       "  280.856,906.352 326.573,870.47 372.29,879.692 418.007,858.275 463.724,854.656 509.442,879.166 555.159,830.987 600.876,840.963 646.593,816.179 692.31,842.72 \n",
       "  738.027,823.523 783.744,780.896 829.461,780.788 875.179,744.923 920.896,787.377 966.613,768.535 1012.33,712.727 1058.05,681.916 1103.76,730.66 1149.48,666.556 \n",
       "  1195.2,717.671 1240.92,664.851 1286.63,653.967 1332.35,664.938 1378.07,628.955 1423.78,650.747 1469.5,648.077 1515.22,613.58 1560.94,587.979 1606.65,529.834 \n",
       "  1652.37,587.709 1698.09,573.474 1743.8,526.289 1789.52,557.246 1835.24,519.027 1880.96,525.631 1926.67,499.716 1972.39,519.843 2018.11,510.57 2063.82,489.111 \n",
       "  2109.54,455.162 2155.26,447.683 2200.98,448.007 2246.69,457.804 2292.41,408.694 \n",
       "  \"/>\n",
       "</svg>\n"
      ]
     },
     "execution_count": 30,
     "metadata": {},
     "output_type": "execute_result"
    }
   ],
   "source": [
    "a1 = Φ(p, θ_ML)\n",
    "a2 =  Φ(p, θ_MAP)\n",
    "scatter(X,Y, legend=false, \n",
    "            xlabel = \"Speed\",\n",
    "            ylabel = \"Dist\",\n",
    "            size = (600,300))\n",
    "scatter!(p, a1, lw = 2, c = :indianred)\n",
    "scatter!(p, a2, lw = 2, c = :seagreen)\n",
    "plot!(p, a1, lw = 2, c = :indianred)\n",
    "plot!(p, a2, lw = 2, c = :seagreen)"
   ]
  },
  {
   "cell_type": "markdown",
   "metadata": {},
   "source": [
    "### Neural Network"
   ]
  },
  {
   "cell_type": "markdown",
   "metadata": {},
   "source": [
    "Zuletzt wollen wir die Abhängigkeit von `Dist` und `Speed` durch ein neuronales Netz bestimmen.\n",
    "\n",
    "Wir verwenden die ReLu Activation Function."
   ]
  },
  {
   "cell_type": "code",
   "execution_count": 149,
   "metadata": {},
   "outputs": [],
   "source": [
    "σ(z) = max(0,z);"
   ]
  },
  {
   "cell_type": "markdown",
   "metadata": {},
   "source": [
    "Wir definieren das Modell durch ein neuronales Netz von Tiefe 2 und mit inneren Layer, der durch lineare Funktionen $\\mathbb R^1\\to \\mathbb R^2$ und $\\mathbb R^2\\to \\mathbb R^1$ gegeben ist. \n",
    "\n",
    "Dies ist ein sehr simples neuronales Netz, eignet sich daher aber gut um die Funktionsweise zu veranschaulichen."
   ]
  },
  {
   "cell_type": "code",
   "execution_count": 150,
   "metadata": {},
   "outputs": [],
   "source": [
    "function f_NN(x::Number, θ)\n",
    "    A, b = reshape(θ[1:2], 2, 1), θ[3:4]\n",
    "    y = σ.(A * x + b)\n",
    "    \n",
    "    A, b = reshape(θ[5:6], 1, 2), θ[7:7]\n",
    "    z = σ.(A * y + b)\n",
    "    \n",
    "    z[1]\n",
    "end\n",
    "f_NN(X::Vector, θ) = [f_NN(x, θ) for x in X];"
   ]
  },
  {
   "cell_type": "markdown",
   "metadata": {},
   "source": [
    "Da wir für das neuronale Netz keine geschlossene Form für den ERM-Schätzer `θ_ERM` haben, müssen wir `θ_ERM` durch Optimierungsmethoden bestimmen.\n",
    "\n",
    "Wir werden die Blackbox `optimize` Funktion aus dem Package `Optim.jl`."
   ]
  },
  {
   "cell_type": "code",
   "execution_count": 151,
   "metadata": {},
   "outputs": [],
   "source": [
    "R_NN(θ, X, Y) = mean((f_NN(X, θ) - Y).^2)\n",
    "o = optimize(θ -> R_NN(θ, X, Y), rand(7))\n",
    "θ_NN = Optim.minimizer(o);"
   ]
  },
  {
   "cell_type": "markdown",
   "metadata": {},
   "source": [
    "Das neuronale Netz hat nun eine Funktion geschätzt, die wir wieder zusammen mit den Trainingsdaten visualisieren."
   ]
  },
  {
   "cell_type": "code",
   "execution_count": 152,
   "metadata": {},
   "outputs": [
    {
     "data": {
      "image/svg+xml": [
       "<?xml version=\"1.0\" encoding=\"utf-8\"?>\n",
       "<svg xmlns=\"http://www.w3.org/2000/svg\" xmlns:xlink=\"http://www.w3.org/1999/xlink\" width=\"600\" height=\"300\" viewBox=\"0 0 2400 1200\">\n",
       "<defs>\n",
       "  <clipPath id=\"clip280\">\n",
       "    <rect x=\"0\" y=\"0\" width=\"2400\" height=\"1200\"/>\n",
       "  </clipPath>\n",
       "</defs>\n",
       "<path clip-path=\"url(#clip280)\" d=\"\n",
       "M0 1200 L2400 1200 L2400 0 L0 0  Z\n",
       "  \" fill=\"#ffffff\" fill-rule=\"evenodd\" fill-opacity=\"1\"/>\n",
       "<defs>\n",
       "  <clipPath id=\"clip281\">\n",
       "    <rect x=\"480\" y=\"0\" width=\"1681\" height=\"1200\"/>\n",
       "  </clipPath>\n",
       "</defs>\n",
       "<path clip-path=\"url(#clip280)\" d=\"\n",
       "M220.509 1047.7 L2352.76 1047.7 L2352.76 47.2441 L220.509 47.2441  Z\n",
       "  \" fill=\"#ffffff\" fill-rule=\"evenodd\" fill-opacity=\"1\"/>\n",
       "<defs>\n",
       "  <clipPath id=\"clip282\">\n",
       "    <rect x=\"220\" y=\"47\" width=\"2133\" height=\"1001\"/>\n",
       "  </clipPath>\n",
       "</defs>\n",
       "<polyline clip-path=\"url(#clip282)\" style=\"stroke:#000000; stroke-linecap:butt; stroke-linejoin:round; stroke-width:2; stroke-opacity:0.1; fill:none\" points=\"\n",
       "  455.774,1047.7 455.774,47.2441 \n",
       "  \"/>\n",
       "<polyline clip-path=\"url(#clip282)\" style=\"stroke:#000000; stroke-linecap:butt; stroke-linejoin:round; stroke-width:2; stroke-opacity:0.1; fill:none\" points=\"\n",
       "  893.068,1047.7 893.068,47.2441 \n",
       "  \"/>\n",
       "<polyline clip-path=\"url(#clip282)\" style=\"stroke:#000000; stroke-linecap:butt; stroke-linejoin:round; stroke-width:2; stroke-opacity:0.1; fill:none\" points=\"\n",
       "  1330.36,1047.7 1330.36,47.2441 \n",
       "  \"/>\n",
       "<polyline clip-path=\"url(#clip282)\" style=\"stroke:#000000; stroke-linecap:butt; stroke-linejoin:round; stroke-width:2; stroke-opacity:0.1; fill:none\" points=\"\n",
       "  1767.66,1047.7 1767.66,47.2441 \n",
       "  \"/>\n",
       "<polyline clip-path=\"url(#clip282)\" style=\"stroke:#000000; stroke-linecap:butt; stroke-linejoin:round; stroke-width:2; stroke-opacity:0.1; fill:none\" points=\"\n",
       "  2204.95,1047.7 2204.95,47.2441 \n",
       "  \"/>\n",
       "<polyline clip-path=\"url(#clip280)\" style=\"stroke:#000000; stroke-linecap:butt; stroke-linejoin:round; stroke-width:4; stroke-opacity:1; fill:none\" points=\"\n",
       "  220.509,1047.7 2352.76,1047.7 \n",
       "  \"/>\n",
       "<polyline clip-path=\"url(#clip280)\" style=\"stroke:#000000; stroke-linecap:butt; stroke-linejoin:round; stroke-width:4; stroke-opacity:1; fill:none\" points=\"\n",
       "  455.774,1047.7 455.774,1028.8 \n",
       "  \"/>\n",
       "<polyline clip-path=\"url(#clip280)\" style=\"stroke:#000000; stroke-linecap:butt; stroke-linejoin:round; stroke-width:4; stroke-opacity:1; fill:none\" points=\"\n",
       "  893.068,1047.7 893.068,1028.8 \n",
       "  \"/>\n",
       "<polyline clip-path=\"url(#clip280)\" style=\"stroke:#000000; stroke-linecap:butt; stroke-linejoin:round; stroke-width:4; stroke-opacity:1; fill:none\" points=\"\n",
       "  1330.36,1047.7 1330.36,1028.8 \n",
       "  \"/>\n",
       "<polyline clip-path=\"url(#clip280)\" style=\"stroke:#000000; stroke-linecap:butt; stroke-linejoin:round; stroke-width:4; stroke-opacity:1; fill:none\" points=\"\n",
       "  1767.66,1047.7 1767.66,1028.8 \n",
       "  \"/>\n",
       "<polyline clip-path=\"url(#clip280)\" style=\"stroke:#000000; stroke-linecap:butt; stroke-linejoin:round; stroke-width:4; stroke-opacity:1; fill:none\" points=\"\n",
       "  2204.95,1047.7 2204.95,1028.8 \n",
       "  \"/>\n",
       "<path clip-path=\"url(#clip280)\" d=\"M446.051 1075.54 L464.408 1075.54 L464.408 1079.48 L450.334 1079.48 L450.334 1087.95 Q451.352 1087.6 452.371 1087.44 Q453.389 1087.25 454.408 1087.25 Q460.195 1087.25 463.575 1090.42 Q466.954 1093.6 466.954 1099.01 Q466.954 1104.59 463.482 1107.69 Q460.01 1110.77 453.69 1110.77 Q451.514 1110.77 449.246 1110.4 Q447.001 1110.03 444.593 1109.29 L444.593 1104.59 Q446.676 1105.72 448.899 1106.28 Q451.121 1106.84 453.598 1106.84 Q457.602 1106.84 459.94 1104.73 Q462.278 1102.62 462.278 1099.01 Q462.278 1095.4 459.94 1093.29 Q457.602 1091.19 453.598 1091.19 Q451.723 1091.19 449.848 1091.6 Q447.996 1092.02 446.051 1092.9 L446.051 1075.54 Z\" fill=\"#000000\" fill-rule=\"evenodd\" fill-opacity=\"1\" /><path clip-path=\"url(#clip280)\" d=\"M867.755 1106.16 L875.394 1106.16 L875.394 1079.8 L867.084 1081.47 L867.084 1077.21 L875.348 1075.54 L880.024 1075.54 L880.024 1106.16 L887.663 1106.16 L887.663 1110.1 L867.755 1110.1 L867.755 1106.16 Z\" fill=\"#000000\" fill-rule=\"evenodd\" fill-opacity=\"1\" /><path clip-path=\"url(#clip280)\" d=\"M907.107 1078.62 Q903.496 1078.62 901.667 1082.18 Q899.862 1085.72 899.862 1092.85 Q899.862 1099.96 901.667 1103.53 Q903.496 1107.07 907.107 1107.07 Q910.741 1107.07 912.547 1103.53 Q914.376 1099.96 914.376 1092.85 Q914.376 1085.72 912.547 1082.18 Q910.741 1078.62 907.107 1078.62 M907.107 1074.91 Q912.917 1074.91 915.973 1079.52 Q919.051 1084.1 919.051 1092.85 Q919.051 1101.58 915.973 1106.19 Q912.917 1110.77 907.107 1110.77 Q901.297 1110.77 898.218 1106.19 Q895.163 1101.58 895.163 1092.85 Q895.163 1084.1 898.218 1079.52 Q901.297 1074.91 907.107 1074.91 Z\" fill=\"#000000\" fill-rule=\"evenodd\" fill-opacity=\"1\" /><path clip-path=\"url(#clip280)\" d=\"M1305.55 1106.16 L1313.19 1106.16 L1313.19 1079.8 L1304.88 1081.47 L1304.88 1077.21 L1313.14 1075.54 L1317.82 1075.54 L1317.82 1106.16 L1325.45 1106.16 L1325.45 1110.1 L1305.55 1110.1 L1305.55 1106.16 Z\" fill=\"#000000\" fill-rule=\"evenodd\" fill-opacity=\"1\" /><path clip-path=\"url(#clip280)\" d=\"M1334.95 1075.54 L1353.3 1075.54 L1353.3 1079.48 L1339.23 1079.48 L1339.23 1087.95 Q1340.25 1087.6 1341.26 1087.44 Q1342.28 1087.25 1343.3 1087.25 Q1349.09 1087.25 1352.47 1090.42 Q1355.85 1093.6 1355.85 1099.01 Q1355.85 1104.59 1352.38 1107.69 Q1348.9 1110.77 1342.58 1110.77 Q1340.41 1110.77 1338.14 1110.4 Q1335.89 1110.03 1333.49 1109.29 L1333.49 1104.59 Q1335.57 1105.72 1337.79 1106.28 Q1340.01 1106.84 1342.49 1106.84 Q1346.5 1106.84 1348.83 1104.73 Q1351.17 1102.62 1351.17 1099.01 Q1351.17 1095.4 1348.83 1093.29 Q1346.5 1091.19 1342.49 1091.19 Q1340.62 1091.19 1338.74 1091.6 Q1336.89 1092.02 1334.95 1092.9 L1334.95 1075.54 Z\" fill=\"#000000\" fill-rule=\"evenodd\" fill-opacity=\"1\" /><path clip-path=\"url(#clip280)\" d=\"M1746.43 1106.16 L1762.75 1106.16 L1762.75 1110.1 L1740.8 1110.1 L1740.8 1106.16 Q1743.47 1103.41 1748.05 1098.78 Q1752.66 1094.13 1753.84 1092.79 Q1756.08 1090.26 1756.96 1088.53 Q1757.86 1086.77 1757.86 1085.08 Q1757.86 1082.32 1755.92 1080.59 Q1754 1078.85 1750.9 1078.85 Q1748.7 1078.85 1746.24 1079.61 Q1743.81 1080.38 1741.04 1081.93 L1741.04 1077.21 Q1743.86 1076.07 1746.31 1075.49 Q1748.77 1074.91 1750.8 1074.91 Q1756.17 1074.91 1759.37 1077.6 Q1762.56 1080.29 1762.56 1084.78 Q1762.56 1086.91 1761.75 1088.83 Q1760.97 1090.72 1758.86 1093.32 Q1758.28 1093.99 1755.18 1097.21 Q1752.08 1100.4 1746.43 1106.16 Z\" fill=\"#000000\" fill-rule=\"evenodd\" fill-opacity=\"1\" /><path clip-path=\"url(#clip280)\" d=\"M1782.56 1078.62 Q1778.95 1078.62 1777.12 1082.18 Q1775.32 1085.72 1775.32 1092.85 Q1775.32 1099.96 1777.12 1103.53 Q1778.95 1107.07 1782.56 1107.07 Q1786.2 1107.07 1788 1103.53 Q1789.83 1099.96 1789.83 1092.85 Q1789.83 1085.72 1788 1082.18 Q1786.2 1078.62 1782.56 1078.62 M1782.56 1074.91 Q1788.37 1074.91 1791.43 1079.52 Q1794.51 1084.1 1794.51 1092.85 Q1794.51 1101.58 1791.43 1106.19 Q1788.37 1110.77 1782.56 1110.77 Q1776.75 1110.77 1773.67 1106.19 Q1770.62 1101.58 1770.62 1092.85 Q1770.62 1084.1 1773.67 1079.52 Q1776.75 1074.91 1782.56 1074.91 Z\" fill=\"#000000\" fill-rule=\"evenodd\" fill-opacity=\"1\" /><path clip-path=\"url(#clip280)\" d=\"M2184.22 1106.16 L2200.54 1106.16 L2200.54 1110.1 L2178.6 1110.1 L2178.6 1106.16 Q2181.26 1103.41 2185.84 1098.78 Q2190.45 1094.13 2191.63 1092.79 Q2193.87 1090.26 2194.75 1088.53 Q2195.66 1086.77 2195.66 1085.08 Q2195.66 1082.32 2193.71 1080.59 Q2191.79 1078.85 2188.69 1078.85 Q2186.49 1078.85 2184.04 1079.61 Q2181.61 1080.38 2178.83 1081.93 L2178.83 1077.21 Q2181.65 1076.07 2184.11 1075.49 Q2186.56 1074.91 2188.6 1074.91 Q2193.97 1074.91 2197.16 1077.6 Q2200.36 1080.29 2200.36 1084.78 Q2200.36 1086.91 2199.55 1088.83 Q2198.76 1090.72 2196.65 1093.32 Q2196.07 1093.99 2192.97 1097.21 Q2189.87 1100.4 2184.22 1106.16 Z\" fill=\"#000000\" fill-rule=\"evenodd\" fill-opacity=\"1\" /><path clip-path=\"url(#clip280)\" d=\"M2210.4 1075.54 L2228.76 1075.54 L2228.76 1079.48 L2214.68 1079.48 L2214.68 1087.95 Q2215.7 1087.6 2216.72 1087.44 Q2217.74 1087.25 2218.76 1087.25 Q2224.55 1087.25 2227.92 1090.42 Q2231.3 1093.6 2231.3 1099.01 Q2231.3 1104.59 2227.83 1107.69 Q2224.36 1110.77 2218.04 1110.77 Q2215.86 1110.77 2213.6 1110.4 Q2211.35 1110.03 2208.94 1109.29 L2208.94 1104.59 Q2211.03 1105.72 2213.25 1106.28 Q2215.47 1106.84 2217.95 1106.84 Q2221.95 1106.84 2224.29 1104.73 Q2226.63 1102.62 2226.63 1099.01 Q2226.63 1095.4 2224.29 1093.29 Q2221.95 1091.19 2217.95 1091.19 Q2216.07 1091.19 2214.2 1091.6 Q2212.35 1092.02 2210.4 1092.9 L2210.4 1075.54 Z\" fill=\"#000000\" fill-rule=\"evenodd\" fill-opacity=\"1\" /><path clip-path=\"url(#clip280)\" d=\"M1220.16 1146.6 L1220.16 1152.87 Q1216.5 1151.12 1213.25 1150.26 Q1210.01 1149.4 1206.98 1149.4 Q1201.73 1149.4 1198.87 1151.44 Q1196.03 1153.48 1196.03 1157.23 Q1196.03 1160.39 1197.91 1162.01 Q1199.82 1163.6 1205.1 1164.59 L1208.99 1165.38 Q1216.18 1166.75 1219.59 1170.22 Q1223.02 1173.66 1223.02 1179.45 Q1223.02 1186.36 1218.38 1189.92 Q1213.76 1193.49 1204.82 1193.49 Q1201.44 1193.49 1197.62 1192.72 Q1193.84 1191.96 1189.76 1190.46 L1189.76 1183.84 Q1193.68 1186.04 1197.43 1187.15 Q1201.19 1188.27 1204.82 1188.27 Q1210.32 1188.27 1213.32 1186.1 Q1216.31 1183.94 1216.31 1179.93 Q1216.31 1176.43 1214.14 1174.45 Q1212.01 1172.48 1207.11 1171.49 L1203.19 1170.73 Q1196 1169.3 1192.79 1166.24 Q1189.57 1163.19 1189.57 1157.74 Q1189.57 1151.44 1194 1147.81 Q1198.45 1144.18 1206.25 1144.18 Q1209.59 1144.18 1213.06 1144.79 Q1216.53 1145.39 1220.16 1146.6 Z\" fill=\"#000000\" fill-rule=\"evenodd\" fill-opacity=\"1\" /><path clip-path=\"url(#clip280)\" d=\"M1238.46 1187.22 L1238.46 1206.12 L1232.57 1206.12 L1232.57 1156.92 L1238.46 1156.92 L1238.46 1162.33 Q1240.31 1159.14 1243.11 1157.62 Q1245.94 1156.06 1249.85 1156.06 Q1256.35 1156.06 1260.39 1161.21 Q1264.46 1166.37 1264.46 1174.77 Q1264.46 1183.17 1260.39 1188.33 Q1256.35 1193.49 1249.85 1193.49 Q1245.94 1193.49 1243.11 1191.96 Q1240.31 1190.4 1238.46 1187.22 M1258.38 1174.77 Q1258.38 1168.31 1255.71 1164.65 Q1253.07 1160.96 1248.42 1160.96 Q1243.78 1160.96 1241.1 1164.65 Q1238.46 1168.31 1238.46 1174.77 Q1238.46 1181.23 1241.1 1184.92 Q1243.78 1188.59 1248.42 1188.59 Q1253.07 1188.59 1255.71 1184.92 Q1258.38 1181.23 1258.38 1174.77 Z\" fill=\"#000000\" fill-rule=\"evenodd\" fill-opacity=\"1\" /><path clip-path=\"url(#clip280)\" d=\"M1304.66 1173.28 L1304.66 1176.14 L1277.74 1176.14 Q1278.12 1182.19 1281.37 1185.37 Q1284.64 1188.52 1290.47 1188.52 Q1293.84 1188.52 1296.99 1187.69 Q1300.18 1186.87 1303.29 1185.21 L1303.29 1190.75 Q1300.14 1192.09 1296.83 1192.79 Q1293.52 1193.49 1290.12 1193.49 Q1281.59 1193.49 1276.59 1188.52 Q1271.63 1183.56 1271.63 1175.09 Q1271.63 1166.34 1276.34 1161.21 Q1281.08 1156.06 1289.1 1156.06 Q1296.29 1156.06 1300.46 1160.7 Q1304.66 1165.32 1304.66 1173.28 M1298.81 1171.56 Q1298.74 1166.75 1296.1 1163.89 Q1293.49 1161.02 1289.16 1161.02 Q1284.26 1161.02 1281.3 1163.79 Q1278.37 1166.56 1277.93 1171.59 L1298.81 1171.56 Z\" fill=\"#000000\" fill-rule=\"evenodd\" fill-opacity=\"1\" /><path clip-path=\"url(#clip280)\" d=\"M1344.77 1173.28 L1344.77 1176.14 L1317.84 1176.14 Q1318.22 1182.19 1321.47 1185.37 Q1324.75 1188.52 1330.57 1188.52 Q1333.95 1188.52 1337.1 1187.69 Q1340.28 1186.87 1343.4 1185.21 L1343.4 1190.75 Q1340.25 1192.09 1336.94 1192.79 Q1333.63 1193.49 1330.22 1193.49 Q1321.69 1193.49 1316.69 1188.52 Q1311.73 1183.56 1311.73 1175.09 Q1311.73 1166.34 1316.44 1161.21 Q1321.18 1156.06 1329.2 1156.06 Q1336.4 1156.06 1340.57 1160.7 Q1344.77 1165.32 1344.77 1173.28 M1338.91 1171.56 Q1338.85 1166.75 1336.21 1163.89 Q1333.6 1161.02 1329.27 1161.02 Q1324.37 1161.02 1321.41 1163.79 Q1318.48 1166.56 1318.03 1171.59 L1338.91 1171.56 Z\" fill=\"#000000\" fill-rule=\"evenodd\" fill-opacity=\"1\" /><path clip-path=\"url(#clip280)\" d=\"M1377.84 1162.33 L1377.84 1143.04 L1383.69 1143.04 L1383.69 1192.56 L1377.84 1192.56 L1377.84 1187.22 Q1375.99 1190.4 1373.16 1191.96 Q1370.36 1193.49 1366.41 1193.49 Q1359.95 1193.49 1355.88 1188.33 Q1351.83 1183.17 1351.83 1174.77 Q1351.83 1166.37 1355.88 1161.21 Q1359.95 1156.06 1366.41 1156.06 Q1370.36 1156.06 1373.16 1157.62 Q1375.99 1159.14 1377.84 1162.33 M1357.88 1174.77 Q1357.88 1181.23 1360.52 1184.92 Q1363.2 1188.59 1367.84 1188.59 Q1372.49 1188.59 1375.16 1184.92 Q1377.84 1181.23 1377.84 1174.77 Q1377.84 1168.31 1375.16 1164.65 Q1372.49 1160.96 1367.84 1160.96 Q1363.2 1160.96 1360.52 1164.65 Q1357.88 1168.31 1357.88 1174.77 Z\" fill=\"#000000\" fill-rule=\"evenodd\" fill-opacity=\"1\" /><polyline clip-path=\"url(#clip282)\" style=\"stroke:#000000; stroke-linecap:butt; stroke-linejoin:round; stroke-width:2; stroke-opacity:0.1; fill:none\" points=\"\n",
       "  220.509,852.688 2352.76,852.688 \n",
       "  \"/>\n",
       "<polyline clip-path=\"url(#clip282)\" style=\"stroke:#000000; stroke-linecap:butt; stroke-linejoin:round; stroke-width:2; stroke-opacity:0.1; fill:none\" points=\"\n",
       "  220.509,648.181 2352.76,648.181 \n",
       "  \"/>\n",
       "<polyline clip-path=\"url(#clip282)\" style=\"stroke:#000000; stroke-linecap:butt; stroke-linejoin:round; stroke-width:2; stroke-opacity:0.1; fill:none\" points=\"\n",
       "  220.509,443.673 2352.76,443.673 \n",
       "  \"/>\n",
       "<polyline clip-path=\"url(#clip282)\" style=\"stroke:#000000; stroke-linecap:butt; stroke-linejoin:round; stroke-width:2; stroke-opacity:0.1; fill:none\" points=\"\n",
       "  220.509,239.165 2352.76,239.165 \n",
       "  \"/>\n",
       "<polyline clip-path=\"url(#clip280)\" style=\"stroke:#000000; stroke-linecap:butt; stroke-linejoin:round; stroke-width:4; stroke-opacity:1; fill:none\" points=\"\n",
       "  220.509,1047.7 220.509,47.2441 \n",
       "  \"/>\n",
       "<polyline clip-path=\"url(#clip280)\" style=\"stroke:#000000; stroke-linecap:butt; stroke-linejoin:round; stroke-width:4; stroke-opacity:1; fill:none\" points=\"\n",
       "  220.509,852.688 239.407,852.688 \n",
       "  \"/>\n",
       "<polyline clip-path=\"url(#clip280)\" style=\"stroke:#000000; stroke-linecap:butt; stroke-linejoin:round; stroke-width:4; stroke-opacity:1; fill:none\" points=\"\n",
       "  220.509,648.181 239.407,648.181 \n",
       "  \"/>\n",
       "<polyline clip-path=\"url(#clip280)\" style=\"stroke:#000000; stroke-linecap:butt; stroke-linejoin:round; stroke-width:4; stroke-opacity:1; fill:none\" points=\"\n",
       "  220.509,443.673 239.407,443.673 \n",
       "  \"/>\n",
       "<polyline clip-path=\"url(#clip280)\" style=\"stroke:#000000; stroke-linecap:butt; stroke-linejoin:round; stroke-width:4; stroke-opacity:1; fill:none\" points=\"\n",
       "  220.509,239.165 239.407,239.165 \n",
       "  \"/>\n",
       "<path clip-path=\"url(#clip280)\" d=\"M137.426 866.033 L153.746 866.033 L153.746 869.968 L131.801 869.968 L131.801 866.033 Q134.463 863.279 139.047 858.649 Q143.653 853.996 144.834 852.654 Q147.079 850.131 147.959 848.394 Q148.861 846.635 148.861 844.945 Q148.861 842.191 146.917 840.455 Q144.996 838.719 141.894 838.719 Q139.695 838.719 137.241 839.482 Q134.811 840.246 132.033 841.797 L132.033 837.075 Q134.857 835.941 137.311 835.362 Q139.764 834.783 141.801 834.783 Q147.172 834.783 150.366 837.469 Q153.56 840.154 153.56 844.644 Q153.56 846.774 152.75 848.695 Q151.963 850.594 149.857 853.186 Q149.278 853.857 146.176 857.075 Q143.074 860.269 137.426 866.033 Z\" fill=\"#000000\" fill-rule=\"evenodd\" fill-opacity=\"1\" /><path clip-path=\"url(#clip280)\" d=\"M163.607 835.408 L181.963 835.408 L181.963 839.344 L167.889 839.344 L167.889 847.816 Q168.908 847.469 169.926 847.307 Q170.945 847.121 171.963 847.121 Q177.75 847.121 181.13 850.293 Q184.509 853.464 184.509 858.881 Q184.509 864.459 181.037 867.561 Q177.565 870.64 171.246 870.64 Q169.07 870.64 166.801 870.269 Q164.556 869.899 162.148 869.158 L162.148 864.459 Q164.232 865.593 166.454 866.149 Q168.676 866.705 171.153 866.705 Q175.158 866.705 177.495 864.598 Q179.833 862.492 179.833 858.881 Q179.833 855.269 177.495 853.163 Q175.158 851.056 171.153 851.056 Q169.278 851.056 167.403 851.473 Q165.551 851.89 163.607 852.769 L163.607 835.408 Z\" fill=\"#000000\" fill-rule=\"evenodd\" fill-opacity=\"1\" /><path clip-path=\"url(#clip280)\" d=\"M132.449 630.901 L150.806 630.901 L150.806 634.836 L136.732 634.836 L136.732 643.308 Q137.75 642.961 138.769 642.799 Q139.787 642.614 140.806 642.614 Q146.593 642.614 149.972 645.785 Q153.352 648.956 153.352 654.373 Q153.352 659.951 149.88 663.053 Q146.408 666.132 140.088 666.132 Q137.912 666.132 135.644 665.762 Q133.399 665.391 130.991 664.65 L130.991 659.951 Q133.074 661.086 135.297 661.641 Q137.519 662.197 139.996 662.197 Q144 662.197 146.338 660.09 Q148.676 657.984 148.676 654.373 Q148.676 650.762 146.338 648.655 Q144 646.549 139.996 646.549 Q138.121 646.549 136.246 646.965 Q134.394 647.382 132.449 648.262 L132.449 630.901 Z\" fill=\"#000000\" fill-rule=\"evenodd\" fill-opacity=\"1\" /><path clip-path=\"url(#clip280)\" d=\"M172.565 633.979 Q168.954 633.979 167.125 637.544 Q165.32 641.086 165.32 648.215 Q165.32 655.322 167.125 658.887 Q168.954 662.428 172.565 662.428 Q176.199 662.428 178.005 658.887 Q179.833 655.322 179.833 648.215 Q179.833 641.086 178.005 637.544 Q176.199 633.979 172.565 633.979 M172.565 630.276 Q178.375 630.276 181.431 634.882 Q184.509 639.465 184.509 648.215 Q184.509 656.942 181.431 661.549 Q178.375 666.132 172.565 666.132 Q166.755 666.132 163.676 661.549 Q160.621 656.942 160.621 648.215 Q160.621 639.465 163.676 634.882 Q166.755 630.276 172.565 630.276 Z\" fill=\"#000000\" fill-rule=\"evenodd\" fill-opacity=\"1\" /><path clip-path=\"url(#clip280)\" d=\"M132.218 426.393 L154.44 426.393 L154.44 428.384 L141.894 460.953 L137.01 460.953 L148.815 430.328 L132.218 430.328 L132.218 426.393 Z\" fill=\"#000000\" fill-rule=\"evenodd\" fill-opacity=\"1\" /><path clip-path=\"url(#clip280)\" d=\"M163.607 426.393 L181.963 426.393 L181.963 430.328 L167.889 430.328 L167.889 438.8 Q168.908 438.453 169.926 438.291 Q170.945 438.106 171.963 438.106 Q177.75 438.106 181.13 441.277 Q184.509 444.448 184.509 449.865 Q184.509 455.444 181.037 458.545 Q177.565 461.624 171.246 461.624 Q169.07 461.624 166.801 461.254 Q164.556 460.883 162.148 460.143 L162.148 455.444 Q164.232 456.578 166.454 457.133 Q168.676 457.689 171.153 457.689 Q175.158 457.689 177.495 455.583 Q179.833 453.476 179.833 449.865 Q179.833 446.254 177.495 444.147 Q175.158 442.041 171.153 442.041 Q169.278 442.041 167.403 442.458 Q165.551 442.874 163.607 443.754 L163.607 426.393 Z\" fill=\"#000000\" fill-rule=\"evenodd\" fill-opacity=\"1\" /><path clip-path=\"url(#clip280)\" d=\"M103.051 252.51 L110.69 252.51 L110.69 226.144 L102.38 227.811 L102.38 223.552 L110.644 221.885 L115.32 221.885 L115.32 252.51 L122.959 252.51 L122.959 256.445 L103.051 256.445 L103.051 252.51 Z\" fill=\"#000000\" fill-rule=\"evenodd\" fill-opacity=\"1\" /><path clip-path=\"url(#clip280)\" d=\"M142.403 224.964 Q138.792 224.964 136.963 228.529 Q135.158 232.07 135.158 239.2 Q135.158 246.306 136.963 249.871 Q138.792 253.413 142.403 253.413 Q146.037 253.413 147.843 249.871 Q149.672 246.306 149.672 239.2 Q149.672 232.07 147.843 228.529 Q146.037 224.964 142.403 224.964 M142.403 221.26 Q148.213 221.26 151.269 225.867 Q154.347 230.45 154.347 239.2 Q154.347 247.927 151.269 252.533 Q148.213 257.116 142.403 257.116 Q136.593 257.116 133.514 252.533 Q130.459 247.927 130.459 239.2 Q130.459 230.45 133.514 225.867 Q136.593 221.26 142.403 221.26 Z\" fill=\"#000000\" fill-rule=\"evenodd\" fill-opacity=\"1\" /><path clip-path=\"url(#clip280)\" d=\"M172.565 224.964 Q168.954 224.964 167.125 228.529 Q165.32 232.07 165.32 239.2 Q165.32 246.306 167.125 249.871 Q168.954 253.413 172.565 253.413 Q176.199 253.413 178.005 249.871 Q179.833 246.306 179.833 239.2 Q179.833 232.07 178.005 228.529 Q176.199 224.964 172.565 224.964 M172.565 221.26 Q178.375 221.26 181.431 225.867 Q184.509 230.45 184.509 239.2 Q184.509 247.927 181.431 252.533 Q178.375 257.116 172.565 257.116 Q166.755 257.116 163.676 252.533 Q160.621 247.927 160.621 239.2 Q160.621 230.45 163.676 225.867 Q166.755 221.26 172.565 221.26 Z\" fill=\"#000000\" fill-rule=\"evenodd\" fill-opacity=\"1\" /><path clip-path=\"url(#clip280)\" d=\"M9.88769 600.976 L46.8406 600.976 L46.8406 593.21 Q46.8406 583.375 42.3846 578.823 Q37.9286 574.24 28.3164 574.24 Q18.7679 574.24 14.3437 578.823 Q9.88769 583.375 9.88769 593.21 L9.88769 600.976 M4.60416 607.405 L4.60416 594.196 Q4.60416 580.383 10.3651 573.921 Q16.0943 567.46 28.3164 567.46 Q40.6022 567.46 46.3632 573.953 Q52.1242 580.446 52.1242 594.196 L52.1242 607.405 L4.60416 607.405 Z\" fill=\"#000000\" fill-rule=\"evenodd\" fill-opacity=\"1\" /><path clip-path=\"url(#clip280)\" d=\"M16.4762 557.466 L16.4762 551.61 L52.1242 551.61 L52.1242 557.466 L16.4762 557.466 M2.59896 557.466 L2.59896 551.61 L10.015 551.61 L10.015 557.466 L2.59896 557.466 Z\" fill=\"#000000\" fill-rule=\"evenodd\" fill-opacity=\"1\" /><path clip-path=\"url(#clip280)\" d=\"M17.5265 516.63 L23.0647 516.63 Q21.7916 519.113 21.155 521.786 Q20.5184 524.46 20.5184 527.325 Q20.5184 531.685 21.8552 533.881 Q23.192 536.046 25.8656 536.046 Q27.9026 536.046 29.0803 534.486 Q30.2261 532.926 31.2765 528.216 L31.7221 526.211 Q33.0589 519.972 35.5097 517.362 Q37.9286 514.72 42.2891 514.72 Q47.2544 514.72 50.1508 518.667 Q53.0472 522.582 53.0472 529.457 Q53.0472 532.322 52.4743 535.441 Q51.9332 538.528 50.8192 541.966 L44.7718 541.966 Q46.4587 538.719 47.318 535.568 Q48.1456 532.417 48.1456 529.33 Q48.1456 525.192 46.7451 522.964 Q45.3129 520.736 42.7347 520.736 Q40.3476 520.736 39.0745 522.359 Q37.8013 523.951 36.6237 529.393 L36.1462 531.43 Q35.0004 536.873 32.6451 539.292 Q30.258 541.711 26.1202 541.711 Q21.0913 541.711 18.3541 538.146 Q15.6168 534.581 15.6168 528.025 Q15.6168 524.778 16.0943 521.914 Q16.5717 519.049 17.5265 516.63 Z\" fill=\"#000000\" fill-rule=\"evenodd\" fill-opacity=\"1\" /><path clip-path=\"url(#clip280)\" d=\"M6.35473 499.602 L16.4762 499.602 L16.4762 487.539 L21.0277 487.539 L21.0277 499.602 L40.3794 499.602 Q44.7399 499.602 45.9813 498.424 Q47.2226 497.215 47.2226 493.554 L47.2226 487.539 L52.1242 487.539 L52.1242 493.554 Q52.1242 500.334 49.6097 502.912 Q47.0634 505.49 40.3794 505.49 L21.0277 505.49 L21.0277 509.787 L16.4762 509.787 L16.4762 505.49 L6.35473 505.49 L6.35473 499.602 Z\" fill=\"#000000\" fill-rule=\"evenodd\" fill-opacity=\"1\" /><circle clip-path=\"url(#clip282)\" cx=\"1505.28\" cy=\"729.984\" r=\"14\" fill=\"#009af9\" fill-rule=\"evenodd\" fill-opacity=\"1\" stroke=\"#000000\" stroke-opacity=\"1\" stroke-width=\"2.4\"/>\n",
       "<circle clip-path=\"url(#clip282)\" cx=\"1592.74\" cy=\"713.623\" r=\"14\" fill=\"#009af9\" fill-rule=\"evenodd\" fill-opacity=\"1\" stroke=\"#000000\" stroke-opacity=\"1\" stroke-width=\"2.4\"/>\n",
       "<circle clip-path=\"url(#clip282)\" cx=\"1592.74\" cy=\"370.05\" r=\"14\" fill=\"#009af9\" fill-rule=\"evenodd\" fill-opacity=\"1\" stroke=\"#000000\" stroke-opacity=\"1\" stroke-width=\"2.4\"/>\n",
       "<circle clip-path=\"url(#clip282)\" cx=\"1067.99\" cy=\"860.869\" r=\"14\" fill=\"#009af9\" fill-rule=\"evenodd\" fill-opacity=\"1\" stroke=\"#000000\" stroke-opacity=\"1\" stroke-width=\"2.4\"/>\n",
       "<circle clip-path=\"url(#clip282)\" cx=\"1767.66\" cy=\"795.426\" r=\"14\" fill=\"#009af9\" fill-rule=\"evenodd\" fill-opacity=\"1\" stroke=\"#000000\" stroke-opacity=\"1\" stroke-width=\"2.4\"/>\n",
       "<circle clip-path=\"url(#clip282)\" cx=\"1767.66\" cy=\"664.541\" r=\"14\" fill=\"#009af9\" fill-rule=\"evenodd\" fill-opacity=\"1\" stroke=\"#000000\" stroke-opacity=\"1\" stroke-width=\"2.4\"/>\n",
       "<circle clip-path=\"url(#clip282)\" cx=\"1767.66\" cy=\"533.656\" r=\"14\" fill=\"#009af9\" fill-rule=\"evenodd\" fill-opacity=\"1\" stroke=\"#000000\" stroke-opacity=\"1\" stroke-width=\"2.4\"/>\n",
       "<circle clip-path=\"url(#clip282)\" cx=\"2117.49\" cy=\"296.427\" r=\"14\" fill=\"#009af9\" fill-rule=\"evenodd\" fill-opacity=\"1\" stroke=\"#000000\" stroke-opacity=\"1\" stroke-width=\"2.4\"/>\n",
       "<circle clip-path=\"url(#clip282)\" cx=\"1680.2\" cy=\"680.902\" r=\"14\" fill=\"#009af9\" fill-rule=\"evenodd\" fill-opacity=\"1\" stroke=\"#000000\" stroke-opacity=\"1\" stroke-width=\"2.4\"/>\n",
       "<circle clip-path=\"url(#clip282)\" cx=\"1155.44\" cy=\"779.066\" r=\"14\" fill=\"#009af9\" fill-rule=\"evenodd\" fill-opacity=\"1\" stroke=\"#000000\" stroke-opacity=\"1\" stroke-width=\"2.4\"/>\n",
       "<circle clip-path=\"url(#clip282)\" cx=\"1592.74\" cy=\"435.493\" r=\"14\" fill=\"#009af9\" fill-rule=\"evenodd\" fill-opacity=\"1\" stroke=\"#000000\" stroke-opacity=\"1\" stroke-width=\"2.4\"/>\n",
       "<circle clip-path=\"url(#clip282)\" cx=\"805.609\" cy=\"975.393\" r=\"14\" fill=\"#009af9\" fill-rule=\"evenodd\" fill-opacity=\"1\" stroke=\"#000000\" stroke-opacity=\"1\" stroke-width=\"2.4\"/>\n",
       "<circle clip-path=\"url(#clip282)\" cx=\"1330.36\" cy=\"844.508\" r=\"14\" fill=\"#009af9\" fill-rule=\"evenodd\" fill-opacity=\"1\" stroke=\"#000000\" stroke-opacity=\"1\" stroke-width=\"2.4\"/>\n",
       "<circle clip-path=\"url(#clip282)\" cx=\"1242.9\" cy=\"762.705\" r=\"14\" fill=\"#009af9\" fill-rule=\"evenodd\" fill-opacity=\"1\" stroke=\"#000000\" stroke-opacity=\"1\" stroke-width=\"2.4\"/>\n",
       "<circle clip-path=\"url(#clip282)\" cx=\"893.068\" cy=\"844.508\" r=\"14\" fill=\"#009af9\" fill-rule=\"evenodd\" fill-opacity=\"1\" stroke=\"#000000\" stroke-opacity=\"1\" stroke-width=\"2.4\"/>\n",
       "<circle clip-path=\"url(#clip282)\" cx=\"980.527\" cy=\"828.147\" r=\"14\" fill=\"#009af9\" fill-rule=\"evenodd\" fill-opacity=\"1\" stroke=\"#000000\" stroke-opacity=\"1\" stroke-width=\"2.4\"/>\n",
       "<circle clip-path=\"url(#clip282)\" cx=\"2204.95\" cy=\"361.87\" r=\"14\" fill=\"#009af9\" fill-rule=\"evenodd\" fill-opacity=\"1\" stroke=\"#000000\" stroke-opacity=\"1\" stroke-width=\"2.4\"/>\n",
       "<circle clip-path=\"url(#clip282)\" cx=\"1505.28\" cy=\"795.426\" r=\"14\" fill=\"#009af9\" fill-rule=\"evenodd\" fill-opacity=\"1\" stroke=\"#000000\" stroke-opacity=\"1\" stroke-width=\"2.4\"/>\n",
       "<circle clip-path=\"url(#clip282)\" cx=\"718.15\" cy=\"926.311\" r=\"14\" fill=\"#009af9\" fill-rule=\"evenodd\" fill-opacity=\"1\" stroke=\"#000000\" stroke-opacity=\"1\" stroke-width=\"2.4\"/>\n",
       "<circle clip-path=\"url(#clip282)\" cx=\"1242.9\" cy=\"566.378\" r=\"14\" fill=\"#009af9\" fill-rule=\"evenodd\" fill-opacity=\"1\" stroke=\"#000000\" stroke-opacity=\"1\" stroke-width=\"2.4\"/>\n",
       "<circle clip-path=\"url(#clip282)\" cx=\"1942.57\" cy=\"517.296\" r=\"14\" fill=\"#009af9\" fill-rule=\"evenodd\" fill-opacity=\"1\" stroke=\"#000000\" stroke-opacity=\"1\" stroke-width=\"2.4\"/>\n",
       "<circle clip-path=\"url(#clip282)\" cx=\"2117.49\" cy=\"304.608\" r=\"14\" fill=\"#009af9\" fill-rule=\"evenodd\" fill-opacity=\"1\" stroke=\"#000000\" stroke-opacity=\"1\" stroke-width=\"2.4\"/>\n",
       "<circle clip-path=\"url(#clip282)\" cx=\"2117.49\" cy=\"75.5589\" r=\"14\" fill=\"#009af9\" fill-rule=\"evenodd\" fill-opacity=\"1\" stroke=\"#000000\" stroke-opacity=\"1\" stroke-width=\"2.4\"/>\n",
       "<circle clip-path=\"url(#clip282)\" cx=\"1680.2\" cy=\"500.935\" r=\"14\" fill=\"#009af9\" fill-rule=\"evenodd\" fill-opacity=\"1\" stroke=\"#000000\" stroke-opacity=\"1\" stroke-width=\"2.4\"/>\n",
       "<circle clip-path=\"url(#clip282)\" cx=\"1767.66\" cy=\"599.099\" r=\"14\" fill=\"#009af9\" fill-rule=\"evenodd\" fill-opacity=\"1\" stroke=\"#000000\" stroke-opacity=\"1\" stroke-width=\"2.4\"/>\n",
       "<circle clip-path=\"url(#clip282)\" cx=\"1067.99\" cy=\"942.672\" r=\"14\" fill=\"#009af9\" fill-rule=\"evenodd\" fill-opacity=\"1\" stroke=\"#000000\" stroke-opacity=\"1\" stroke-width=\"2.4\"/>\n",
       "<circle clip-path=\"url(#clip282)\" cx=\"1767.66\" cy=\"631.82\" r=\"14\" fill=\"#009af9\" fill-rule=\"evenodd\" fill-opacity=\"1\" stroke=\"#000000\" stroke-opacity=\"1\" stroke-width=\"2.4\"/>\n",
       "<circle clip-path=\"url(#clip282)\" cx=\"893.068\" cy=\"909.951\" r=\"14\" fill=\"#009af9\" fill-rule=\"evenodd\" fill-opacity=\"1\" stroke=\"#000000\" stroke-opacity=\"1\" stroke-width=\"2.4\"/>\n",
       "<circle clip-path=\"url(#clip282)\" cx=\"1417.82\" cy=\"795.426\" r=\"14\" fill=\"#009af9\" fill-rule=\"evenodd\" fill-opacity=\"1\" stroke=\"#000000\" stroke-opacity=\"1\" stroke-width=\"2.4\"/>\n",
       "<circle clip-path=\"url(#clip282)\" cx=\"1155.44\" cy=\"680.902\" r=\"14\" fill=\"#009af9\" fill-rule=\"evenodd\" fill-opacity=\"1\" stroke=\"#000000\" stroke-opacity=\"1\" stroke-width=\"2.4\"/>\n",
       "<circle clip-path=\"url(#clip282)\" cx=\"1067.99\" cy=\"828.147\" r=\"14\" fill=\"#009af9\" fill-rule=\"evenodd\" fill-opacity=\"1\" stroke=\"#000000\" stroke-opacity=\"1\" stroke-width=\"2.4\"/>\n",
       "<circle clip-path=\"url(#clip282)\" cx=\"1067.99\" cy=\"893.59\" r=\"14\" fill=\"#009af9\" fill-rule=\"evenodd\" fill-opacity=\"1\" stroke=\"#000000\" stroke-opacity=\"1\" stroke-width=\"2.4\"/>\n",
       "<circle clip-path=\"url(#clip282)\" cx=\"1155.44\" cy=\"844.508\" r=\"14\" fill=\"#009af9\" fill-rule=\"evenodd\" fill-opacity=\"1\" stroke=\"#000000\" stroke-opacity=\"1\" stroke-width=\"2.4\"/>\n",
       "<circle clip-path=\"url(#clip282)\" cx=\"1242.9\" cy=\"844.508\" r=\"14\" fill=\"#009af9\" fill-rule=\"evenodd\" fill-opacity=\"1\" stroke=\"#000000\" stroke-opacity=\"1\" stroke-width=\"2.4\"/>\n",
       "<circle clip-path=\"url(#clip282)\" cx=\"1592.74\" cy=\"599.099\" r=\"14\" fill=\"#009af9\" fill-rule=\"evenodd\" fill-opacity=\"1\" stroke=\"#000000\" stroke-opacity=\"1\" stroke-width=\"2.4\"/>\n",
       "<circle clip-path=\"url(#clip282)\" cx=\"368.315\" cy=\"975.393\" r=\"14\" fill=\"#009af9\" fill-rule=\"evenodd\" fill-opacity=\"1\" stroke=\"#000000\" stroke-opacity=\"1\" stroke-width=\"2.4\"/>\n",
       "<circle clip-path=\"url(#clip282)\" cx=\"893.068\" cy=\"779.066\" r=\"14\" fill=\"#009af9\" fill-rule=\"evenodd\" fill-opacity=\"1\" stroke=\"#000000\" stroke-opacity=\"1\" stroke-width=\"2.4\"/>\n",
       "<circle clip-path=\"url(#clip282)\" cx=\"1155.44\" cy=\"779.066\" r=\"14\" fill=\"#009af9\" fill-rule=\"evenodd\" fill-opacity=\"1\" stroke=\"#000000\" stroke-opacity=\"1\" stroke-width=\"2.4\"/>\n",
       "<polyline clip-path=\"url(#clip282)\" style=\"stroke:#e26f46; stroke-linecap:butt; stroke-linejoin:round; stroke-width:8; stroke-opacity:1; fill:none\" points=\"\n",
       "  280.856,1019.39 368.315,998.09 455.774,976.796 543.232,955.501 630.691,934.206 718.15,912.911 805.609,891.617 893.068,870.322 980.527,849.027 1067.99,827.733 \n",
       "  1155.44,806.438 1242.9,785.143 1330.36,763.848 1417.82,742.554 1505.28,703.82 1592.74,650.084 1680.2,596.348 1767.66,542.612 1855.12,488.877 1942.57,435.141 \n",
       "  2030.03,381.405 2117.49,327.669 2204.95,273.933 2292.41,220.198 \n",
       "  \"/>\n",
       "</svg>\n"
      ]
     },
     "execution_count": 152,
     "metadata": {},
     "output_type": "execute_result"
    }
   ],
   "source": [
    "scatter(X,Y, legend=false, \n",
    "            xlabel = \"Speed\",\n",
    "            ylabel = \"Dist\",\n",
    "            size = (600,300))\n",
    "plot!(p, f_NN(p, θ_NN), lw = 2)"
   ]
  },
  {
   "cell_type": "markdown",
   "metadata": {},
   "source": [
    "## Model Selection"
   ]
  },
  {
   "cell_type": "markdown",
   "metadata": {},
   "source": [
    "Zuletzt wollen wir beurteilen, welches Modell am besten geeignet ist, um die Daten zu beschreiben. Dazu evaluieren wir die Schätzer auf den Testdaten.\n",
    "\n",
    "Zuerst plotten wir alle geschätzten Funktionen zusammen mit den Testdaten."
   ]
  },
  {
   "cell_type": "code",
   "execution_count": 153,
   "metadata": {},
   "outputs": [
    {
     "data": {
      "image/svg+xml": [
       "<?xml version=\"1.0\" encoding=\"utf-8\"?>\n",
       "<svg xmlns=\"http://www.w3.org/2000/svg\" xmlns:xlink=\"http://www.w3.org/1999/xlink\" width=\"600\" height=\"300\" viewBox=\"0 0 2400 1200\">\n",
       "<defs>\n",
       "  <clipPath id=\"clip320\">\n",
       "    <rect x=\"0\" y=\"0\" width=\"2400\" height=\"1200\"/>\n",
       "  </clipPath>\n",
       "</defs>\n",
       "<path clip-path=\"url(#clip320)\" d=\"\n",
       "M0 1200 L2400 1200 L2400 0 L0 0  Z\n",
       "  \" fill=\"#ffffff\" fill-rule=\"evenodd\" fill-opacity=\"1\"/>\n",
       "<defs>\n",
       "  <clipPath id=\"clip321\">\n",
       "    <rect x=\"480\" y=\"0\" width=\"1681\" height=\"1200\"/>\n",
       "  </clipPath>\n",
       "</defs>\n",
       "<path clip-path=\"url(#clip320)\" d=\"\n",
       "M220.509 1047.7 L2352.76 1047.7 L2352.76 47.2441 L220.509 47.2441  Z\n",
       "  \" fill=\"#ffffff\" fill-rule=\"evenodd\" fill-opacity=\"1\"/>\n",
       "<defs>\n",
       "  <clipPath id=\"clip322\">\n",
       "    <rect x=\"220\" y=\"47\" width=\"2133\" height=\"1001\"/>\n",
       "  </clipPath>\n",
       "</defs>\n",
       "<polyline clip-path=\"url(#clip322)\" style=\"stroke:#000000; stroke-linecap:butt; stroke-linejoin:round; stroke-width:2; stroke-opacity:0.1; fill:none\" points=\"\n",
       "  455.774,1047.7 455.774,47.2441 \n",
       "  \"/>\n",
       "<polyline clip-path=\"url(#clip322)\" style=\"stroke:#000000; stroke-linecap:butt; stroke-linejoin:round; stroke-width:2; stroke-opacity:0.1; fill:none\" points=\"\n",
       "  893.068,1047.7 893.068,47.2441 \n",
       "  \"/>\n",
       "<polyline clip-path=\"url(#clip322)\" style=\"stroke:#000000; stroke-linecap:butt; stroke-linejoin:round; stroke-width:2; stroke-opacity:0.1; fill:none\" points=\"\n",
       "  1330.36,1047.7 1330.36,47.2441 \n",
       "  \"/>\n",
       "<polyline clip-path=\"url(#clip322)\" style=\"stroke:#000000; stroke-linecap:butt; stroke-linejoin:round; stroke-width:2; stroke-opacity:0.1; fill:none\" points=\"\n",
       "  1767.66,1047.7 1767.66,47.2441 \n",
       "  \"/>\n",
       "<polyline clip-path=\"url(#clip322)\" style=\"stroke:#000000; stroke-linecap:butt; stroke-linejoin:round; stroke-width:2; stroke-opacity:0.1; fill:none\" points=\"\n",
       "  2204.95,1047.7 2204.95,47.2441 \n",
       "  \"/>\n",
       "<polyline clip-path=\"url(#clip320)\" style=\"stroke:#000000; stroke-linecap:butt; stroke-linejoin:round; stroke-width:4; stroke-opacity:1; fill:none\" points=\"\n",
       "  220.509,1047.7 2352.76,1047.7 \n",
       "  \"/>\n",
       "<polyline clip-path=\"url(#clip320)\" style=\"stroke:#000000; stroke-linecap:butt; stroke-linejoin:round; stroke-width:4; stroke-opacity:1; fill:none\" points=\"\n",
       "  455.774,1047.7 455.774,1028.8 \n",
       "  \"/>\n",
       "<polyline clip-path=\"url(#clip320)\" style=\"stroke:#000000; stroke-linecap:butt; stroke-linejoin:round; stroke-width:4; stroke-opacity:1; fill:none\" points=\"\n",
       "  893.068,1047.7 893.068,1028.8 \n",
       "  \"/>\n",
       "<polyline clip-path=\"url(#clip320)\" style=\"stroke:#000000; stroke-linecap:butt; stroke-linejoin:round; stroke-width:4; stroke-opacity:1; fill:none\" points=\"\n",
       "  1330.36,1047.7 1330.36,1028.8 \n",
       "  \"/>\n",
       "<polyline clip-path=\"url(#clip320)\" style=\"stroke:#000000; stroke-linecap:butt; stroke-linejoin:round; stroke-width:4; stroke-opacity:1; fill:none\" points=\"\n",
       "  1767.66,1047.7 1767.66,1028.8 \n",
       "  \"/>\n",
       "<polyline clip-path=\"url(#clip320)\" style=\"stroke:#000000; stroke-linecap:butt; stroke-linejoin:round; stroke-width:4; stroke-opacity:1; fill:none\" points=\"\n",
       "  2204.95,1047.7 2204.95,1028.8 \n",
       "  \"/>\n",
       "<path clip-path=\"url(#clip320)\" d=\"M446.051 1075.54 L464.408 1075.54 L464.408 1079.48 L450.334 1079.48 L450.334 1087.95 Q451.352 1087.6 452.371 1087.44 Q453.389 1087.25 454.408 1087.25 Q460.195 1087.25 463.575 1090.42 Q466.954 1093.6 466.954 1099.01 Q466.954 1104.59 463.482 1107.69 Q460.01 1110.77 453.69 1110.77 Q451.514 1110.77 449.246 1110.4 Q447.001 1110.03 444.593 1109.29 L444.593 1104.59 Q446.676 1105.72 448.899 1106.28 Q451.121 1106.84 453.598 1106.84 Q457.602 1106.84 459.94 1104.73 Q462.278 1102.62 462.278 1099.01 Q462.278 1095.4 459.94 1093.29 Q457.602 1091.19 453.598 1091.19 Q451.723 1091.19 449.848 1091.6 Q447.996 1092.02 446.051 1092.9 L446.051 1075.54 Z\" fill=\"#000000\" fill-rule=\"evenodd\" fill-opacity=\"1\" /><path clip-path=\"url(#clip320)\" d=\"M867.755 1106.16 L875.394 1106.16 L875.394 1079.8 L867.084 1081.47 L867.084 1077.21 L875.348 1075.54 L880.024 1075.54 L880.024 1106.16 L887.663 1106.16 L887.663 1110.1 L867.755 1110.1 L867.755 1106.16 Z\" fill=\"#000000\" fill-rule=\"evenodd\" fill-opacity=\"1\" /><path clip-path=\"url(#clip320)\" d=\"M907.107 1078.62 Q903.496 1078.62 901.667 1082.18 Q899.862 1085.72 899.862 1092.85 Q899.862 1099.96 901.667 1103.53 Q903.496 1107.07 907.107 1107.07 Q910.741 1107.07 912.547 1103.53 Q914.376 1099.96 914.376 1092.85 Q914.376 1085.72 912.547 1082.18 Q910.741 1078.62 907.107 1078.62 M907.107 1074.91 Q912.917 1074.91 915.973 1079.52 Q919.051 1084.1 919.051 1092.85 Q919.051 1101.58 915.973 1106.19 Q912.917 1110.77 907.107 1110.77 Q901.297 1110.77 898.218 1106.19 Q895.163 1101.58 895.163 1092.85 Q895.163 1084.1 898.218 1079.52 Q901.297 1074.91 907.107 1074.91 Z\" fill=\"#000000\" fill-rule=\"evenodd\" fill-opacity=\"1\" /><path clip-path=\"url(#clip320)\" d=\"M1305.55 1106.16 L1313.19 1106.16 L1313.19 1079.8 L1304.88 1081.47 L1304.88 1077.21 L1313.14 1075.54 L1317.82 1075.54 L1317.82 1106.16 L1325.45 1106.16 L1325.45 1110.1 L1305.55 1110.1 L1305.55 1106.16 Z\" fill=\"#000000\" fill-rule=\"evenodd\" fill-opacity=\"1\" /><path clip-path=\"url(#clip320)\" d=\"M1334.95 1075.54 L1353.3 1075.54 L1353.3 1079.48 L1339.23 1079.48 L1339.23 1087.95 Q1340.25 1087.6 1341.26 1087.44 Q1342.28 1087.25 1343.3 1087.25 Q1349.09 1087.25 1352.47 1090.42 Q1355.85 1093.6 1355.85 1099.01 Q1355.85 1104.59 1352.38 1107.69 Q1348.9 1110.77 1342.58 1110.77 Q1340.41 1110.77 1338.14 1110.4 Q1335.89 1110.03 1333.49 1109.29 L1333.49 1104.59 Q1335.57 1105.72 1337.79 1106.28 Q1340.01 1106.84 1342.49 1106.84 Q1346.5 1106.84 1348.83 1104.73 Q1351.17 1102.62 1351.17 1099.01 Q1351.17 1095.4 1348.83 1093.29 Q1346.5 1091.19 1342.49 1091.19 Q1340.62 1091.19 1338.74 1091.6 Q1336.89 1092.02 1334.95 1092.9 L1334.95 1075.54 Z\" fill=\"#000000\" fill-rule=\"evenodd\" fill-opacity=\"1\" /><path clip-path=\"url(#clip320)\" d=\"M1746.43 1106.16 L1762.75 1106.16 L1762.75 1110.1 L1740.8 1110.1 L1740.8 1106.16 Q1743.47 1103.41 1748.05 1098.78 Q1752.66 1094.13 1753.84 1092.79 Q1756.08 1090.26 1756.96 1088.53 Q1757.86 1086.77 1757.86 1085.08 Q1757.86 1082.32 1755.92 1080.59 Q1754 1078.85 1750.9 1078.85 Q1748.7 1078.85 1746.24 1079.61 Q1743.81 1080.38 1741.04 1081.93 L1741.04 1077.21 Q1743.86 1076.07 1746.31 1075.49 Q1748.77 1074.91 1750.8 1074.91 Q1756.17 1074.91 1759.37 1077.6 Q1762.56 1080.29 1762.56 1084.78 Q1762.56 1086.91 1761.75 1088.83 Q1760.97 1090.72 1758.86 1093.32 Q1758.28 1093.99 1755.18 1097.21 Q1752.08 1100.4 1746.43 1106.16 Z\" fill=\"#000000\" fill-rule=\"evenodd\" fill-opacity=\"1\" /><path clip-path=\"url(#clip320)\" d=\"M1782.56 1078.62 Q1778.95 1078.62 1777.12 1082.18 Q1775.32 1085.72 1775.32 1092.85 Q1775.32 1099.96 1777.12 1103.53 Q1778.95 1107.07 1782.56 1107.07 Q1786.2 1107.07 1788 1103.53 Q1789.83 1099.96 1789.83 1092.85 Q1789.83 1085.72 1788 1082.18 Q1786.2 1078.62 1782.56 1078.62 M1782.56 1074.91 Q1788.37 1074.91 1791.43 1079.52 Q1794.51 1084.1 1794.51 1092.85 Q1794.51 1101.58 1791.43 1106.19 Q1788.37 1110.77 1782.56 1110.77 Q1776.75 1110.77 1773.67 1106.19 Q1770.62 1101.58 1770.62 1092.85 Q1770.62 1084.1 1773.67 1079.52 Q1776.75 1074.91 1782.56 1074.91 Z\" fill=\"#000000\" fill-rule=\"evenodd\" fill-opacity=\"1\" /><path clip-path=\"url(#clip320)\" d=\"M2184.22 1106.16 L2200.54 1106.16 L2200.54 1110.1 L2178.6 1110.1 L2178.6 1106.16 Q2181.26 1103.41 2185.84 1098.78 Q2190.45 1094.13 2191.63 1092.79 Q2193.87 1090.26 2194.75 1088.53 Q2195.66 1086.77 2195.66 1085.08 Q2195.66 1082.32 2193.71 1080.59 Q2191.79 1078.85 2188.69 1078.85 Q2186.49 1078.85 2184.04 1079.61 Q2181.61 1080.38 2178.83 1081.93 L2178.83 1077.21 Q2181.65 1076.07 2184.11 1075.49 Q2186.56 1074.91 2188.6 1074.91 Q2193.97 1074.91 2197.16 1077.6 Q2200.36 1080.29 2200.36 1084.78 Q2200.36 1086.91 2199.55 1088.83 Q2198.76 1090.72 2196.65 1093.32 Q2196.07 1093.99 2192.97 1097.21 Q2189.87 1100.4 2184.22 1106.16 Z\" fill=\"#000000\" fill-rule=\"evenodd\" fill-opacity=\"1\" /><path clip-path=\"url(#clip320)\" d=\"M2210.4 1075.54 L2228.76 1075.54 L2228.76 1079.48 L2214.68 1079.48 L2214.68 1087.95 Q2215.7 1087.6 2216.72 1087.44 Q2217.74 1087.25 2218.76 1087.25 Q2224.55 1087.25 2227.92 1090.42 Q2231.3 1093.6 2231.3 1099.01 Q2231.3 1104.59 2227.83 1107.69 Q2224.36 1110.77 2218.04 1110.77 Q2215.86 1110.77 2213.6 1110.4 Q2211.35 1110.03 2208.94 1109.29 L2208.94 1104.59 Q2211.03 1105.72 2213.25 1106.28 Q2215.47 1106.84 2217.95 1106.84 Q2221.95 1106.84 2224.29 1104.73 Q2226.63 1102.62 2226.63 1099.01 Q2226.63 1095.4 2224.29 1093.29 Q2221.95 1091.19 2217.95 1091.19 Q2216.07 1091.19 2214.2 1091.6 Q2212.35 1092.02 2210.4 1092.9 L2210.4 1075.54 Z\" fill=\"#000000\" fill-rule=\"evenodd\" fill-opacity=\"1\" /><path clip-path=\"url(#clip320)\" d=\"M1220.16 1146.6 L1220.16 1152.87 Q1216.5 1151.12 1213.25 1150.26 Q1210.01 1149.4 1206.98 1149.4 Q1201.73 1149.4 1198.87 1151.44 Q1196.03 1153.48 1196.03 1157.23 Q1196.03 1160.39 1197.91 1162.01 Q1199.82 1163.6 1205.1 1164.59 L1208.99 1165.38 Q1216.18 1166.75 1219.59 1170.22 Q1223.02 1173.66 1223.02 1179.45 Q1223.02 1186.36 1218.38 1189.92 Q1213.76 1193.49 1204.82 1193.49 Q1201.44 1193.49 1197.62 1192.72 Q1193.84 1191.96 1189.76 1190.46 L1189.76 1183.84 Q1193.68 1186.04 1197.43 1187.15 Q1201.19 1188.27 1204.82 1188.27 Q1210.32 1188.27 1213.32 1186.1 Q1216.31 1183.94 1216.31 1179.93 Q1216.31 1176.43 1214.14 1174.45 Q1212.01 1172.48 1207.11 1171.49 L1203.19 1170.73 Q1196 1169.3 1192.79 1166.24 Q1189.57 1163.19 1189.57 1157.74 Q1189.57 1151.44 1194 1147.81 Q1198.45 1144.18 1206.25 1144.18 Q1209.59 1144.18 1213.06 1144.79 Q1216.53 1145.39 1220.16 1146.6 Z\" fill=\"#000000\" fill-rule=\"evenodd\" fill-opacity=\"1\" /><path clip-path=\"url(#clip320)\" d=\"M1238.46 1187.22 L1238.46 1206.12 L1232.57 1206.12 L1232.57 1156.92 L1238.46 1156.92 L1238.46 1162.33 Q1240.31 1159.14 1243.11 1157.62 Q1245.94 1156.06 1249.85 1156.06 Q1256.35 1156.06 1260.39 1161.21 Q1264.46 1166.37 1264.46 1174.77 Q1264.46 1183.17 1260.39 1188.33 Q1256.35 1193.49 1249.85 1193.49 Q1245.94 1193.49 1243.11 1191.96 Q1240.31 1190.4 1238.46 1187.22 M1258.38 1174.77 Q1258.38 1168.31 1255.71 1164.65 Q1253.07 1160.96 1248.42 1160.96 Q1243.78 1160.96 1241.1 1164.65 Q1238.46 1168.31 1238.46 1174.77 Q1238.46 1181.23 1241.1 1184.92 Q1243.78 1188.59 1248.42 1188.59 Q1253.07 1188.59 1255.71 1184.92 Q1258.38 1181.23 1258.38 1174.77 Z\" fill=\"#000000\" fill-rule=\"evenodd\" fill-opacity=\"1\" /><path clip-path=\"url(#clip320)\" d=\"M1304.66 1173.28 L1304.66 1176.14 L1277.74 1176.14 Q1278.12 1182.19 1281.37 1185.37 Q1284.64 1188.52 1290.47 1188.52 Q1293.84 1188.52 1296.99 1187.69 Q1300.18 1186.87 1303.29 1185.21 L1303.29 1190.75 Q1300.14 1192.09 1296.83 1192.79 Q1293.52 1193.49 1290.12 1193.49 Q1281.59 1193.49 1276.59 1188.52 Q1271.63 1183.56 1271.63 1175.09 Q1271.63 1166.34 1276.34 1161.21 Q1281.08 1156.06 1289.1 1156.06 Q1296.29 1156.06 1300.46 1160.7 Q1304.66 1165.32 1304.66 1173.28 M1298.81 1171.56 Q1298.74 1166.75 1296.1 1163.89 Q1293.49 1161.02 1289.16 1161.02 Q1284.26 1161.02 1281.3 1163.79 Q1278.37 1166.56 1277.93 1171.59 L1298.81 1171.56 Z\" fill=\"#000000\" fill-rule=\"evenodd\" fill-opacity=\"1\" /><path clip-path=\"url(#clip320)\" d=\"M1344.77 1173.28 L1344.77 1176.14 L1317.84 1176.14 Q1318.22 1182.19 1321.47 1185.37 Q1324.75 1188.52 1330.57 1188.52 Q1333.95 1188.52 1337.1 1187.69 Q1340.28 1186.87 1343.4 1185.21 L1343.4 1190.75 Q1340.25 1192.09 1336.94 1192.79 Q1333.63 1193.49 1330.22 1193.49 Q1321.69 1193.49 1316.69 1188.52 Q1311.73 1183.56 1311.73 1175.09 Q1311.73 1166.34 1316.44 1161.21 Q1321.18 1156.06 1329.2 1156.06 Q1336.4 1156.06 1340.57 1160.7 Q1344.77 1165.32 1344.77 1173.28 M1338.91 1171.56 Q1338.85 1166.75 1336.21 1163.89 Q1333.6 1161.02 1329.27 1161.02 Q1324.37 1161.02 1321.41 1163.79 Q1318.48 1166.56 1318.03 1171.59 L1338.91 1171.56 Z\" fill=\"#000000\" fill-rule=\"evenodd\" fill-opacity=\"1\" /><path clip-path=\"url(#clip320)\" d=\"M1377.84 1162.33 L1377.84 1143.04 L1383.69 1143.04 L1383.69 1192.56 L1377.84 1192.56 L1377.84 1187.22 Q1375.99 1190.4 1373.16 1191.96 Q1370.36 1193.49 1366.41 1193.49 Q1359.95 1193.49 1355.88 1188.33 Q1351.83 1183.17 1351.83 1174.77 Q1351.83 1166.37 1355.88 1161.21 Q1359.95 1156.06 1366.41 1156.06 Q1370.36 1156.06 1373.16 1157.62 Q1375.99 1159.14 1377.84 1162.33 M1357.88 1174.77 Q1357.88 1181.23 1360.52 1184.92 Q1363.2 1188.59 1367.84 1188.59 Q1372.49 1188.59 1375.16 1184.92 Q1377.84 1181.23 1377.84 1174.77 Q1377.84 1168.31 1375.16 1164.65 Q1372.49 1160.96 1367.84 1160.96 Q1363.2 1160.96 1360.52 1164.65 Q1357.88 1168.31 1357.88 1174.77 Z\" fill=\"#000000\" fill-rule=\"evenodd\" fill-opacity=\"1\" /><polyline clip-path=\"url(#clip322)\" style=\"stroke:#000000; stroke-linecap:butt; stroke-linejoin:round; stroke-width:2; stroke-opacity:0.1; fill:none\" points=\"\n",
       "  220.509,930.162 2352.76,930.162 \n",
       "  \"/>\n",
       "<polyline clip-path=\"url(#clip322)\" style=\"stroke:#000000; stroke-linecap:butt; stroke-linejoin:round; stroke-width:2; stroke-opacity:0.1; fill:none\" points=\"\n",
       "  220.509,721.353 2352.76,721.353 \n",
       "  \"/>\n",
       "<polyline clip-path=\"url(#clip322)\" style=\"stroke:#000000; stroke-linecap:butt; stroke-linejoin:round; stroke-width:2; stroke-opacity:0.1; fill:none\" points=\"\n",
       "  220.509,512.544 2352.76,512.544 \n",
       "  \"/>\n",
       "<polyline clip-path=\"url(#clip322)\" style=\"stroke:#000000; stroke-linecap:butt; stroke-linejoin:round; stroke-width:2; stroke-opacity:0.1; fill:none\" points=\"\n",
       "  220.509,303.734 2352.76,303.734 \n",
       "  \"/>\n",
       "<polyline clip-path=\"url(#clip322)\" style=\"stroke:#000000; stroke-linecap:butt; stroke-linejoin:round; stroke-width:2; stroke-opacity:0.1; fill:none\" points=\"\n",
       "  220.509,94.9253 2352.76,94.9253 \n",
       "  \"/>\n",
       "<polyline clip-path=\"url(#clip320)\" style=\"stroke:#000000; stroke-linecap:butt; stroke-linejoin:round; stroke-width:4; stroke-opacity:1; fill:none\" points=\"\n",
       "  220.509,1047.7 220.509,47.2441 \n",
       "  \"/>\n",
       "<polyline clip-path=\"url(#clip320)\" style=\"stroke:#000000; stroke-linecap:butt; stroke-linejoin:round; stroke-width:4; stroke-opacity:1; fill:none\" points=\"\n",
       "  220.509,930.162 239.407,930.162 \n",
       "  \"/>\n",
       "<polyline clip-path=\"url(#clip320)\" style=\"stroke:#000000; stroke-linecap:butt; stroke-linejoin:round; stroke-width:4; stroke-opacity:1; fill:none\" points=\"\n",
       "  220.509,721.353 239.407,721.353 \n",
       "  \"/>\n",
       "<polyline clip-path=\"url(#clip320)\" style=\"stroke:#000000; stroke-linecap:butt; stroke-linejoin:round; stroke-width:4; stroke-opacity:1; fill:none\" points=\"\n",
       "  220.509,512.544 239.407,512.544 \n",
       "  \"/>\n",
       "<polyline clip-path=\"url(#clip320)\" style=\"stroke:#000000; stroke-linecap:butt; stroke-linejoin:round; stroke-width:4; stroke-opacity:1; fill:none\" points=\"\n",
       "  220.509,303.734 239.407,303.734 \n",
       "  \"/>\n",
       "<polyline clip-path=\"url(#clip320)\" style=\"stroke:#000000; stroke-linecap:butt; stroke-linejoin:round; stroke-width:4; stroke-opacity:1; fill:none\" points=\"\n",
       "  220.509,94.9253 239.407,94.9253 \n",
       "  \"/>\n",
       "<path clip-path=\"url(#clip320)\" d=\"M172.565 915.96 Q168.954 915.96 167.125 919.525 Q165.32 923.067 165.32 930.196 Q165.32 937.303 167.125 940.868 Q168.954 944.409 172.565 944.409 Q176.199 944.409 178.005 940.868 Q179.833 937.303 179.833 930.196 Q179.833 923.067 178.005 919.525 Q176.199 915.96 172.565 915.96 M172.565 912.257 Q178.375 912.257 181.431 916.863 Q184.509 921.447 184.509 930.196 Q184.509 938.923 181.431 943.53 Q178.375 948.113 172.565 948.113 Q166.755 948.113 163.676 943.53 Q160.621 938.923 160.621 930.196 Q160.621 921.447 163.676 916.863 Q166.755 912.257 172.565 912.257 Z\" fill=\"#000000\" fill-rule=\"evenodd\" fill-opacity=\"1\" /><path clip-path=\"url(#clip320)\" d=\"M137.426 734.697 L153.746 734.697 L153.746 738.633 L131.801 738.633 L131.801 734.697 Q134.463 731.943 139.047 727.313 Q143.653 722.66 144.834 721.318 Q147.079 718.795 147.959 717.059 Q148.861 715.299 148.861 713.61 Q148.861 710.855 146.917 709.119 Q144.996 707.383 141.894 707.383 Q139.695 707.383 137.241 708.147 Q134.811 708.911 132.033 710.461 L132.033 705.739 Q134.857 704.605 137.311 704.026 Q139.764 703.448 141.801 703.448 Q147.172 703.448 150.366 706.133 Q153.56 708.818 153.56 713.309 Q153.56 715.438 152.75 717.36 Q151.963 719.258 149.857 721.85 Q149.278 722.522 146.176 725.739 Q143.074 728.934 137.426 734.697 Z\" fill=\"#000000\" fill-rule=\"evenodd\" fill-opacity=\"1\" /><path clip-path=\"url(#clip320)\" d=\"M163.607 704.073 L181.963 704.073 L181.963 708.008 L167.889 708.008 L167.889 716.48 Q168.908 716.133 169.926 715.971 Q170.945 715.786 171.963 715.786 Q177.75 715.786 181.13 718.957 Q184.509 722.128 184.509 727.545 Q184.509 733.123 181.037 736.225 Q177.565 739.304 171.246 739.304 Q169.07 739.304 166.801 738.934 Q164.556 738.563 162.148 737.822 L162.148 733.123 Q164.232 734.258 166.454 734.813 Q168.676 735.369 171.153 735.369 Q175.158 735.369 177.495 733.262 Q179.833 731.156 179.833 727.545 Q179.833 723.934 177.495 721.827 Q175.158 719.721 171.153 719.721 Q169.278 719.721 167.403 720.137 Q165.551 720.554 163.607 721.434 L163.607 704.073 Z\" fill=\"#000000\" fill-rule=\"evenodd\" fill-opacity=\"1\" /><path clip-path=\"url(#clip320)\" d=\"M132.449 495.264 L150.806 495.264 L150.806 499.199 L136.732 499.199 L136.732 507.671 Q137.75 507.324 138.769 507.162 Q139.787 506.976 140.806 506.976 Q146.593 506.976 149.972 510.148 Q153.352 513.319 153.352 518.736 Q153.352 524.314 149.88 527.416 Q146.408 530.495 140.088 530.495 Q137.912 530.495 135.644 530.124 Q133.399 529.754 130.991 529.013 L130.991 524.314 Q133.074 525.449 135.297 526.004 Q137.519 526.56 139.996 526.56 Q144 526.56 146.338 524.453 Q148.676 522.347 148.676 518.736 Q148.676 515.125 146.338 513.018 Q144 510.912 139.996 510.912 Q138.121 510.912 136.246 511.328 Q134.394 511.745 132.449 512.625 L132.449 495.264 Z\" fill=\"#000000\" fill-rule=\"evenodd\" fill-opacity=\"1\" /><path clip-path=\"url(#clip320)\" d=\"M172.565 498.342 Q168.954 498.342 167.125 501.907 Q165.32 505.449 165.32 512.578 Q165.32 519.685 167.125 523.249 Q168.954 526.791 172.565 526.791 Q176.199 526.791 178.005 523.249 Q179.833 519.685 179.833 512.578 Q179.833 505.449 178.005 501.907 Q176.199 498.342 172.565 498.342 M172.565 494.639 Q178.375 494.639 181.431 499.245 Q184.509 503.828 184.509 512.578 Q184.509 521.305 181.431 525.911 Q178.375 530.495 172.565 530.495 Q166.755 530.495 163.676 525.911 Q160.621 521.305 160.621 512.578 Q160.621 503.828 163.676 499.245 Q166.755 494.639 172.565 494.639 Z\" fill=\"#000000\" fill-rule=\"evenodd\" fill-opacity=\"1\" /><path clip-path=\"url(#clip320)\" d=\"M132.218 286.454 L154.44 286.454 L154.44 288.445 L141.894 321.014 L137.01 321.014 L148.815 290.39 L132.218 290.39 L132.218 286.454 Z\" fill=\"#000000\" fill-rule=\"evenodd\" fill-opacity=\"1\" /><path clip-path=\"url(#clip320)\" d=\"M163.607 286.454 L181.963 286.454 L181.963 290.39 L167.889 290.39 L167.889 298.862 Q168.908 298.515 169.926 298.352 Q170.945 298.167 171.963 298.167 Q177.75 298.167 181.13 301.339 Q184.509 304.51 184.509 309.926 Q184.509 315.505 181.037 318.607 Q177.565 321.686 171.246 321.686 Q169.07 321.686 166.801 321.315 Q164.556 320.945 162.148 320.204 L162.148 315.505 Q164.232 316.639 166.454 317.195 Q168.676 317.751 171.153 317.751 Q175.158 317.751 177.495 315.644 Q179.833 313.538 179.833 309.926 Q179.833 306.315 177.495 304.209 Q175.158 302.102 171.153 302.102 Q169.278 302.102 167.403 302.519 Q165.551 302.936 163.607 303.815 L163.607 286.454 Z\" fill=\"#000000\" fill-rule=\"evenodd\" fill-opacity=\"1\" /><path clip-path=\"url(#clip320)\" d=\"M103.051 108.27 L110.69 108.27 L110.69 81.9045 L102.38 83.5712 L102.38 79.3119 L110.644 77.6453 L115.32 77.6453 L115.32 108.27 L122.959 108.27 L122.959 112.205 L103.051 112.205 L103.051 108.27 Z\" fill=\"#000000\" fill-rule=\"evenodd\" fill-opacity=\"1\" /><path clip-path=\"url(#clip320)\" d=\"M142.403 80.724 Q138.792 80.724 136.963 84.2887 Q135.158 87.8304 135.158 94.96 Q135.158 102.066 136.963 105.631 Q138.792 109.173 142.403 109.173 Q146.037 109.173 147.843 105.631 Q149.672 102.066 149.672 94.96 Q149.672 87.8304 147.843 84.2887 Q146.037 80.724 142.403 80.724 M142.403 77.0203 Q148.213 77.0203 151.269 81.6267 Q154.347 86.21 154.347 94.96 Q154.347 103.687 151.269 108.293 Q148.213 112.877 142.403 112.877 Q136.593 112.877 133.514 108.293 Q130.459 103.687 130.459 94.96 Q130.459 86.21 133.514 81.6267 Q136.593 77.0203 142.403 77.0203 Z\" fill=\"#000000\" fill-rule=\"evenodd\" fill-opacity=\"1\" /><path clip-path=\"url(#clip320)\" d=\"M172.565 80.724 Q168.954 80.724 167.125 84.2887 Q165.32 87.8304 165.32 94.96 Q165.32 102.066 167.125 105.631 Q168.954 109.173 172.565 109.173 Q176.199 109.173 178.005 105.631 Q179.833 102.066 179.833 94.96 Q179.833 87.8304 178.005 84.2887 Q176.199 80.724 172.565 80.724 M172.565 77.0203 Q178.375 77.0203 181.431 81.6267 Q184.509 86.21 184.509 94.96 Q184.509 103.687 181.431 108.293 Q178.375 112.877 172.565 112.877 Q166.755 112.877 163.676 108.293 Q160.621 103.687 160.621 94.96 Q160.621 86.21 163.676 81.6267 Q166.755 77.0203 172.565 77.0203 Z\" fill=\"#000000\" fill-rule=\"evenodd\" fill-opacity=\"1\" /><path clip-path=\"url(#clip320)\" d=\"M9.88769 600.976 L46.8406 600.976 L46.8406 593.21 Q46.8406 583.375 42.3846 578.823 Q37.9286 574.24 28.3164 574.24 Q18.7679 574.24 14.3437 578.823 Q9.88769 583.375 9.88769 593.21 L9.88769 600.976 M4.60416 607.405 L4.60416 594.196 Q4.60416 580.383 10.3651 573.921 Q16.0943 567.46 28.3164 567.46 Q40.6022 567.46 46.3632 573.953 Q52.1242 580.446 52.1242 594.196 L52.1242 607.405 L4.60416 607.405 Z\" fill=\"#000000\" fill-rule=\"evenodd\" fill-opacity=\"1\" /><path clip-path=\"url(#clip320)\" d=\"M16.4762 557.466 L16.4762 551.61 L52.1242 551.61 L52.1242 557.466 L16.4762 557.466 M2.59896 557.466 L2.59896 551.61 L10.015 551.61 L10.015 557.466 L2.59896 557.466 Z\" fill=\"#000000\" fill-rule=\"evenodd\" fill-opacity=\"1\" /><path clip-path=\"url(#clip320)\" d=\"M17.5265 516.63 L23.0647 516.63 Q21.7916 519.113 21.155 521.786 Q20.5184 524.46 20.5184 527.325 Q20.5184 531.685 21.8552 533.881 Q23.192 536.046 25.8656 536.046 Q27.9026 536.046 29.0803 534.486 Q30.2261 532.926 31.2765 528.216 L31.7221 526.211 Q33.0589 519.972 35.5097 517.362 Q37.9286 514.72 42.2891 514.72 Q47.2544 514.72 50.1508 518.667 Q53.0472 522.582 53.0472 529.457 Q53.0472 532.322 52.4743 535.441 Q51.9332 538.528 50.8192 541.966 L44.7718 541.966 Q46.4587 538.719 47.318 535.568 Q48.1456 532.417 48.1456 529.33 Q48.1456 525.192 46.7451 522.964 Q45.3129 520.736 42.7347 520.736 Q40.3476 520.736 39.0745 522.359 Q37.8013 523.951 36.6237 529.393 L36.1462 531.43 Q35.0004 536.873 32.6451 539.292 Q30.258 541.711 26.1202 541.711 Q21.0913 541.711 18.3541 538.146 Q15.6168 534.581 15.6168 528.025 Q15.6168 524.778 16.0943 521.914 Q16.5717 519.049 17.5265 516.63 Z\" fill=\"#000000\" fill-rule=\"evenodd\" fill-opacity=\"1\" /><path clip-path=\"url(#clip320)\" d=\"M6.35473 499.602 L16.4762 499.602 L16.4762 487.539 L21.0277 487.539 L21.0277 499.602 L40.3794 499.602 Q44.7399 499.602 45.9813 498.424 Q47.2226 497.215 47.2226 493.554 L47.2226 487.539 L52.1242 487.539 L52.1242 493.554 Q52.1242 500.334 49.6097 502.912 Q47.0634 505.49 40.3794 505.49 L21.0277 505.49 L21.0277 509.787 L16.4762 509.787 L16.4762 505.49 L6.35473 505.49 L6.35473 499.602 Z\" fill=\"#000000\" fill-rule=\"evenodd\" fill-opacity=\"1\" /><circle clip-path=\"url(#clip322)\" cx=\"368.315\" cy=\"913.457\" r=\"14\" fill=\"#009af9\" fill-rule=\"evenodd\" fill-opacity=\"1\" stroke=\"#000000\" stroke-opacity=\"1\" stroke-width=\"2.4\"/>\n",
       "<circle clip-path=\"url(#clip322)\" cx=\"630.691\" cy=\"896.752\" r=\"14\" fill=\"#009af9\" fill-rule=\"evenodd\" fill-opacity=\"1\" stroke=\"#000000\" stroke-opacity=\"1\" stroke-width=\"2.4\"/>\n",
       "<circle clip-path=\"url(#clip322)\" cx=\"630.691\" cy=\"746.41\" r=\"14\" fill=\"#009af9\" fill-rule=\"evenodd\" fill-opacity=\"1\" stroke=\"#000000\" stroke-opacity=\"1\" stroke-width=\"2.4\"/>\n",
       "<circle clip-path=\"url(#clip322)\" cx=\"980.527\" cy=\"788.172\" r=\"14\" fill=\"#009af9\" fill-rule=\"evenodd\" fill-opacity=\"1\" stroke=\"#000000\" stroke-opacity=\"1\" stroke-width=\"2.4\"/>\n",
       "<circle clip-path=\"url(#clip322)\" cx=\"1242.9\" cy=\"261.973\" r=\"14\" fill=\"#009af9\" fill-rule=\"evenodd\" fill-opacity=\"1\" stroke=\"#000000\" stroke-opacity=\"1\" stroke-width=\"2.4\"/>\n",
       "<circle clip-path=\"url(#clip322)\" cx=\"1330.36\" cy=\"763.114\" r=\"14\" fill=\"#009af9\" fill-rule=\"evenodd\" fill-opacity=\"1\" stroke=\"#000000\" stroke-opacity=\"1\" stroke-width=\"2.4\"/>\n",
       "<circle clip-path=\"url(#clip322)\" cx=\"1330.36\" cy=\"479.134\" r=\"14\" fill=\"#009af9\" fill-rule=\"evenodd\" fill-opacity=\"1\" stroke=\"#000000\" stroke-opacity=\"1\" stroke-width=\"2.4\"/>\n",
       "<circle clip-path=\"url(#clip322)\" cx=\"1417.82\" cy=\"596.067\" r=\"14\" fill=\"#009af9\" fill-rule=\"evenodd\" fill-opacity=\"1\" stroke=\"#000000\" stroke-opacity=\"1\" stroke-width=\"2.4\"/>\n",
       "<circle clip-path=\"url(#clip322)\" cx=\"1505.28\" cy=\"512.544\" r=\"14\" fill=\"#009af9\" fill-rule=\"evenodd\" fill-opacity=\"1\" stroke=\"#000000\" stroke-opacity=\"1\" stroke-width=\"2.4\"/>\n",
       "<circle clip-path=\"url(#clip322)\" cx=\"1680.2\" cy=\"629.477\" r=\"14\" fill=\"#009af9\" fill-rule=\"evenodd\" fill-opacity=\"1\" stroke=\"#000000\" stroke-opacity=\"1\" stroke-width=\"2.4\"/>\n",
       "<circle clip-path=\"url(#clip322)\" cx=\"2030.03\" cy=\"479.134\" r=\"14\" fill=\"#009af9\" fill-rule=\"evenodd\" fill-opacity=\"1\" stroke=\"#000000\" stroke-opacity=\"1\" stroke-width=\"2.4\"/>\n",
       "<circle clip-path=\"url(#clip322)\" cx=\"2117.49\" cy=\"345.496\" r=\"14\" fill=\"#009af9\" fill-rule=\"evenodd\" fill-opacity=\"1\" stroke=\"#000000\" stroke-opacity=\"1\" stroke-width=\"2.4\"/>\n",
       "<polyline clip-path=\"url(#clip322)\" style=\"stroke:#e26f46; stroke-linecap:butt; stroke-linejoin:round; stroke-width:8; stroke-opacity:1; fill:none\" points=\"\n",
       "  280.856,1019.39 368.315,983.043 455.774,946.701 543.232,910.359 630.691,874.017 718.15,837.675 805.609,801.333 893.068,764.991 980.527,728.649 1067.99,692.307 \n",
       "  1155.44,655.966 1242.9,619.624 1330.36,583.282 1417.82,546.94 1505.28,510.598 1592.74,474.256 1680.2,437.914 1767.66,401.572 1855.12,365.23 1942.57,328.888 \n",
       "  2030.03,292.546 2117.49,256.204 2204.95,219.862 2292.41,183.52 \n",
       "  \"/>\n",
       "<polyline clip-path=\"url(#clip322)\" style=\"stroke:#3da44d; stroke-linecap:butt; stroke-linejoin:round; stroke-width:8; stroke-opacity:1; fill:none\" points=\"\n",
       "  280.856,905.335 368.315,877.003 455.774,848.67 543.232,820.338 630.691,792.005 718.15,763.673 805.609,735.34 893.068,707.008 980.527,678.676 1067.99,650.343 \n",
       "  1155.44,622.011 1242.9,593.678 1330.36,565.346 1417.82,537.013 1505.28,508.681 1592.74,480.348 1680.2,452.016 1767.66,423.683 1855.12,395.351 1942.57,367.019 \n",
       "  2030.03,338.686 2117.49,310.354 2204.95,282.021 2292.41,253.689 \n",
       "  \"/>\n",
       "<polyline clip-path=\"url(#clip322)\" style=\"stroke:#c271d2; stroke-linecap:butt; stroke-linejoin:round; stroke-width:8; stroke-opacity:1; fill:none\" points=\"\n",
       "  280.856,983.185 368.315,950.527 455.774,931.526 543.232,915.805 630.691,846.593 718.15,856 805.609,745.77 893.068,745.013 980.527,715.178 1067.99,677.646 \n",
       "  1155.44,646.918 1242.9,643.774 1330.36,598.503 1417.82,536.486 1505.28,533.58 1592.74,514.105 1680.2,422.667 1767.66,417.854 1855.12,346.012 1942.57,311.291 \n",
       "  2030.03,288.067 2117.49,248.547 2204.95,238.016 2292.41,179.149 \n",
       "  \"/>\n",
       "<polyline clip-path=\"url(#clip322)\" style=\"stroke:#ac8d18; stroke-linecap:butt; stroke-linejoin:round; stroke-width:8; stroke-opacity:1; fill:none\" points=\"\n",
       "  280.856,899.958 368.315,873.156 455.774,803.713 543.232,820.113 630.691,776.591 718.15,734.539 805.609,760.599 893.068,725.022 980.527,668.375 1067.99,611.833 \n",
       "  1155.44,614.378 1242.9,572.958 1330.36,618.631 1417.82,546.524 1505.28,542.415 1592.74,483.256 1680.2,442.043 1767.66,442.827 1855.12,389.571 1942.57,371.698 \n",
       "  2030.03,333.891 2117.49,281.022 2204.95,309.524 2292.41,231.613 \n",
       "  \"/>\n",
       "<polyline clip-path=\"url(#clip322)\" style=\"stroke:#00a9ad; stroke-linecap:butt; stroke-linejoin:round; stroke-width:8; stroke-opacity:1; fill:none\" points=\"\n",
       "  280.856,891.555 368.315,869.813 455.774,848.07 543.232,826.328 630.691,804.585 718.15,782.842 805.609,761.1 893.068,739.357 980.527,717.615 1067.99,695.872 \n",
       "  1155.44,674.129 1242.9,652.387 1330.36,630.644 1417.82,608.901 1505.28,569.353 1592.74,514.487 1680.2,459.621 1767.66,404.755 1855.12,349.889 1942.57,295.023 \n",
       "  2030.03,240.157 2117.49,185.291 2204.95,130.425 2292.41,75.5589 \n",
       "  \"/>\n",
       "<path clip-path=\"url(#clip320)\" d=\"\n",
       "M1949.12 791.8 L2281.68 791.8 L2281.68 480.76 L1949.12 480.76  Z\n",
       "  \" fill=\"#ffffff\" fill-rule=\"evenodd\" fill-opacity=\"1\"/>\n",
       "<polyline clip-path=\"url(#clip320)\" style=\"stroke:#000000; stroke-linecap:butt; stroke-linejoin:round; stroke-width:4; stroke-opacity:1; fill:none\" points=\"\n",
       "  1949.12,791.8 2281.68,791.8 2281.68,480.76 1949.12,480.76 1949.12,791.8 \n",
       "  \"/>\n",
       "<polyline clip-path=\"url(#clip320)\" style=\"stroke:#e26f46; stroke-linecap:butt; stroke-linejoin:round; stroke-width:4; stroke-opacity:1; fill:none\" points=\"\n",
       "  1972.81,532.6 2114.96,532.6 \n",
       "  \"/>\n",
       "<path clip-path=\"url(#clip320)\" d=\"M2138.65 515.32 L2160.5 515.32 L2160.5 519.255 L2143.33 519.255 L2143.33 529.487 L2159.78 529.487 L2159.78 533.422 L2143.33 533.422 L2143.33 545.945 L2160.92 545.945 L2160.92 549.88 L2138.65 549.88 L2138.65 515.32 Z\" fill=\"#000000\" fill-rule=\"evenodd\" fill-opacity=\"1\" /><path clip-path=\"url(#clip320)\" d=\"M2184.99 533.676 Q2186.5 534.186 2187.91 535.852 Q2189.34 537.519 2190.78 540.436 L2195.52 549.88 L2190.5 549.88 L2186.08 541.014 Q2184.37 537.542 2182.75 536.408 Q2181.15 535.274 2178.37 535.274 L2173.28 535.274 L2173.28 549.88 L2168.6 549.88 L2168.6 515.32 L2179.16 515.32 Q2185.09 515.32 2188 517.797 Q2190.92 520.274 2190.92 525.274 Q2190.92 528.537 2189.39 530.69 Q2187.89 532.843 2184.99 533.676 M2173.28 519.163 L2173.28 531.431 L2179.16 531.431 Q2182.54 531.431 2184.25 529.88 Q2185.99 528.306 2185.99 525.274 Q2185.99 522.241 2184.25 520.713 Q2182.54 519.163 2179.16 519.163 L2173.28 519.163 Z\" fill=\"#000000\" fill-rule=\"evenodd\" fill-opacity=\"1\" /><path clip-path=\"url(#clip320)\" d=\"M2201.54 515.32 L2208.51 515.32 L2217.33 538.838 L2226.2 515.32 L2233.16 515.32 L2233.16 549.88 L2228.6 549.88 L2228.6 519.533 L2219.69 543.236 L2214.99 543.236 L2206.08 519.533 L2206.08 549.88 L2201.54 549.88 L2201.54 515.32 Z\" fill=\"#000000\" fill-rule=\"evenodd\" fill-opacity=\"1\" /><polyline clip-path=\"url(#clip320)\" style=\"stroke:#3da44d; stroke-linecap:butt; stroke-linejoin:round; stroke-width:4; stroke-opacity:1; fill:none\" points=\"\n",
       "  1972.81,584.44 2114.96,584.44 \n",
       "  \"/>\n",
       "<path clip-path=\"url(#clip320)\" d=\"M2155.04 585.516 Q2156.54 586.026 2157.96 587.692 Q2159.39 589.359 2160.83 592.276 L2165.57 601.72 L2160.55 601.72 L2156.13 592.854 Q2154.41 589.382 2152.79 588.248 Q2151.2 587.114 2148.42 587.114 L2143.33 587.114 L2143.33 601.72 L2138.65 601.72 L2138.65 567.16 L2149.21 567.16 Q2155.13 567.16 2158.05 569.637 Q2160.96 572.114 2160.96 577.114 Q2160.96 580.377 2159.44 582.53 Q2157.93 584.683 2155.04 585.516 M2143.33 571.003 L2143.33 583.271 L2149.21 583.271 Q2152.59 583.271 2154.3 581.72 Q2156.03 580.146 2156.03 577.114 Q2156.03 574.081 2154.3 572.553 Q2152.59 571.003 2149.21 571.003 L2143.33 571.003 Z\" fill=\"#000000\" fill-rule=\"evenodd\" fill-opacity=\"1\" /><path clip-path=\"url(#clip320)\" d=\"M2187.98 585.516 Q2189.48 586.026 2190.9 587.692 Q2192.33 589.359 2193.77 592.276 L2198.51 601.72 L2193.49 601.72 L2189.07 592.854 Q2187.35 589.382 2185.73 588.248 Q2184.14 587.114 2181.36 587.114 L2176.27 587.114 L2176.27 601.72 L2171.59 601.72 L2171.59 567.16 L2182.15 567.16 Q2188.07 567.16 2190.99 569.637 Q2193.9 572.114 2193.9 577.114 Q2193.9 580.377 2192.38 582.53 Q2190.87 584.683 2187.98 585.516 M2176.27 571.003 L2176.27 583.271 L2182.15 583.271 Q2185.52 583.271 2187.24 581.72 Q2188.97 580.146 2188.97 577.114 Q2188.97 574.081 2187.24 572.553 Q2185.52 571.003 2182.15 571.003 L2176.27 571.003 Z\" fill=\"#000000\" fill-rule=\"evenodd\" fill-opacity=\"1\" /><polyline clip-path=\"url(#clip320)\" style=\"stroke:#c271d2; stroke-linecap:butt; stroke-linejoin:round; stroke-width:4; stroke-opacity:1; fill:none\" points=\"\n",
       "  1972.81,636.28 2114.96,636.28 \n",
       "  \"/>\n",
       "<path clip-path=\"url(#clip320)\" d=\"M2138.65 619 L2145.62 619 L2154.44 642.518 L2163.3 619 L2170.27 619 L2170.27 653.56 L2165.71 653.56 L2165.71 623.213 L2156.8 646.916 L2152.1 646.916 L2143.19 623.213 L2143.19 653.56 L2138.65 653.56 L2138.65 619 Z\" fill=\"#000000\" fill-rule=\"evenodd\" fill-opacity=\"1\" /><path clip-path=\"url(#clip320)\" d=\"M2179.55 619 L2184.23 619 L2184.23 649.625 L2201.06 649.625 L2201.06 653.56 L2179.55 653.56 L2179.55 619 Z\" fill=\"#000000\" fill-rule=\"evenodd\" fill-opacity=\"1\" /><polyline clip-path=\"url(#clip320)\" style=\"stroke:#ac8d18; stroke-linecap:butt; stroke-linejoin:round; stroke-width:4; stroke-opacity:1; fill:none\" points=\"\n",
       "  1972.81,688.12 2114.96,688.12 \n",
       "  \"/>\n",
       "<path clip-path=\"url(#clip320)\" d=\"M2138.65 670.84 L2145.62 670.84 L2154.44 694.358 L2163.3 670.84 L2170.27 670.84 L2170.27 705.4 L2165.71 705.4 L2165.71 675.053 L2156.8 698.756 L2152.1 698.756 L2143.19 675.053 L2143.19 705.4 L2138.65 705.4 L2138.65 670.84 Z\" fill=\"#000000\" fill-rule=\"evenodd\" fill-opacity=\"1\" /><path clip-path=\"url(#clip320)\" d=\"M2191.1 675.446 L2184.76 692.645 L2197.47 692.645 L2191.1 675.446 M2188.46 670.84 L2193.77 670.84 L2206.94 705.4 L2202.08 705.4 L2198.93 696.534 L2183.35 696.534 L2180.2 705.4 L2175.27 705.4 L2188.46 670.84 Z\" fill=\"#000000\" fill-rule=\"evenodd\" fill-opacity=\"1\" /><path clip-path=\"url(#clip320)\" d=\"M2216.66 674.683 L2216.66 687.669 L2222.54 687.669 Q2225.8 687.669 2227.58 685.979 Q2229.37 684.289 2229.37 681.164 Q2229.37 678.062 2227.58 676.372 Q2225.8 674.683 2222.54 674.683 L2216.66 674.683 M2211.98 670.84 L2222.54 670.84 Q2228.35 670.84 2231.31 673.479 Q2234.3 676.095 2234.3 681.164 Q2234.3 686.28 2231.31 688.895 Q2228.35 691.511 2222.54 691.511 L2216.66 691.511 L2216.66 705.4 L2211.98 705.4 L2211.98 670.84 Z\" fill=\"#000000\" fill-rule=\"evenodd\" fill-opacity=\"1\" /><polyline clip-path=\"url(#clip320)\" style=\"stroke:#00a9ad; stroke-linecap:butt; stroke-linejoin:round; stroke-width:4; stroke-opacity:1; fill:none\" points=\"\n",
       "  1972.81,739.96 2114.96,739.96 \n",
       "  \"/>\n",
       "<path clip-path=\"url(#clip320)\" d=\"M2138.65 722.68 L2144.95 722.68 L2160.27 751.592 L2160.27 722.68 L2164.81 722.68 L2164.81 757.24 L2158.51 757.24 L2143.19 728.328 L2143.19 757.24 L2138.65 757.24 L2138.65 722.68 Z\" fill=\"#000000\" fill-rule=\"evenodd\" fill-opacity=\"1\" /><path clip-path=\"url(#clip320)\" d=\"M2174.11 722.68 L2180.41 722.68 L2195.73 751.592 L2195.73 722.68 L2200.27 722.68 L2200.27 757.24 L2193.97 757.24 L2178.65 728.328 L2178.65 757.24 L2174.11 757.24 L2174.11 722.68 Z\" fill=\"#000000\" fill-rule=\"evenodd\" fill-opacity=\"1\" /></svg>\n"
      ]
     },
     "execution_count": 153,
     "metadata": {},
     "output_type": "execute_result"
    }
   ],
   "source": [
    "scatter(X_test,Y_test, legend=1,\n",
    "            label = false,\n",
    "            xlabel = \"Speed\",\n",
    "            ylabel = \"Dist\",\n",
    "            size = (600,300))\n",
    "plot!(p, f(p, θ_ERM), lw = 2, label = \"ERM\")\n",
    "plot!(p, f(p, θ_RR), lw = 2, label = \"RR\")\n",
    "plot!(p, Φ(p, θ_ML), lw = 2, label = \"ML\")\n",
    "plot!(p, Φ(p, θ_MAP), lw = 2, label = \"MAP\")\n",
    "plot!(p, f_NN(p, θ_NN), lw = 2, label = \"NN\")"
   ]
  },
  {
   "cell_type": "markdown",
   "metadata": {},
   "source": [
    "Um zu beurteilen, welches Modell wie gut funktioniert, definieren wir das empirische Risiko."
   ]
  },
  {
   "cell_type": "code",
   "execution_count": 154,
   "metadata": {},
   "outputs": [
    {
     "data": {
      "text/plain": [
       "R (generic function with 1 method)"
      ]
     },
     "execution_count": 154,
     "metadata": {},
     "output_type": "execute_result"
    }
   ],
   "source": [
    "R(θ, f, X, Y) = mean((f(X, θ) - Y).^2)"
   ]
  },
  {
   "cell_type": "markdown",
   "metadata": {},
   "source": [
    "Das empirische Risiko für Trainings- und Testdaten im deterministischen linearen Modell ist wie folgt."
   ]
  },
  {
   "cell_type": "code",
   "execution_count": 155,
   "metadata": {},
   "outputs": [
    {
     "name": "stdout",
     "output_type": "stream",
     "text": [
      "Risiko Testdaten ERM: 332.30640034322425\n",
      "\n",
      "Risiko Trainingsdaten ERM: 200.26963132150703\n",
      "\n",
      "ERM Risikoverhältnis: 1.6592950121815986\n",
      "\n",
      "Risiko Testdaten RR: 285.3725545807998\n",
      "\n",
      "Risiko Trainingsdaten RR: 224.73914069625516\n",
      "\n",
      "RR Risikoverhältnis: 1.2697946325535405\n",
      "\n"
     ]
    }
   ],
   "source": [
    "r = [(R(θ, f, X_test, Y_test), R(θ, f, X, Y)) for θ in [θ_ERM, θ_RR]]   \n",
    "println(\"Risiko Testdaten ERM: $(r[1][1])\\n\")\n",
    "println(\"Risiko Trainingsdaten ERM: $(r[1][2])\\n\")\n",
    "println(\"ERM Risikoverhältnis: $(r[1][1]/r[1][2])\\n\")\n",
    "println(\"Risiko Testdaten RR: $(r[2][1])\\n\")\n",
    "println(\"Risiko Trainingsdaten RR: $(r[2][2])\\n\")\n",
    "println(\"RR Risikoverhältnis: $(r[2][1]/r[2][2])\\n\")"
   ]
  },
  {
   "cell_type": "markdown",
   "metadata": {},
   "source": [
    "Für das neuronale Netz ergeben sich folgende Werte."
   ]
  },
  {
   "cell_type": "code",
   "execution_count": 156,
   "metadata": {},
   "outputs": [
    {
     "name": "stdout",
     "output_type": "stream",
     "text": [
      "Risiko Testdaten NN: 390.2649963109238\n",
      "\n",
      "Risiko Trainingsdaten NN: 174.3110442832809\n",
      "\n",
      "NN Risikoverhältnis: 2.238899995783894\n",
      "\n"
     ]
    }
   ],
   "source": [
    "r = (R(θ_NN, f_NN, X_test, Y_test), R(θ_NN, f_NN, X, Y))\n",
    "println(\"Risiko Testdaten NN: $(r[1])\\n\")\n",
    "println(\"Risiko Trainingsdaten NN: $(r[2])\\n\")\n",
    "println(\"NN Risikoverhältnis: $(r[1]/r[2])\\n\")"
   ]
  },
  {
   "cell_type": "markdown",
   "metadata": {},
   "source": [
    "---\n",
    "# Regularisierung\n",
    "\n",
    "In obigem Beispiel sehen wir keinen großen Unterschied zwischen ERM und RR. \n",
    "\n",
    "Es folgt ein Beispiel, für das Regularisierung wichtig ist.\n",
    "\n",
    "Dazu generieren wir $n=20$ synthetische Daten von einem kubischen Polynom plus Noise:"
   ]
  },
  {
   "cell_type": "code",
   "execution_count": 32,
   "metadata": {},
   "outputs": [],
   "source": [
    "q = (x -> 1 + 4*x + 2*x^2 - 0.5*x^3)\n",
    "\n",
    "n = 20\n",
    "P = 4\n",
    "X = 10 .* (rand(n) .- 0.5); # randn sampled von Unif([-5,5])\n",
    "Y = map(q, X) + 5 .* randn(n);"
   ]
  },
  {
   "cell_type": "markdown",
   "metadata": {},
   "source": [
    "Wir plotten die Daten:"
   ]
  },
  {
   "cell_type": "code",
   "execution_count": 33,
   "metadata": {},
   "outputs": [
    {
     "data": {
      "image/svg+xml": [
       "<?xml version=\"1.0\" encoding=\"utf-8\"?>\n",
       "<svg xmlns=\"http://www.w3.org/2000/svg\" xmlns:xlink=\"http://www.w3.org/1999/xlink\" width=\"600\" height=\"300\" viewBox=\"0 0 2400 1200\">\n",
       "<defs>\n",
       "  <clipPath id=\"clip480\">\n",
       "    <rect x=\"0\" y=\"0\" width=\"2400\" height=\"1200\"/>\n",
       "  </clipPath>\n",
       "</defs>\n",
       "<path clip-path=\"url(#clip480)\" d=\"\n",
       "M0 1200 L2400 1200 L2400 0 L0 0  Z\n",
       "  \" fill=\"#ffffff\" fill-rule=\"evenodd\" fill-opacity=\"1\"/>\n",
       "<defs>\n",
       "  <clipPath id=\"clip481\">\n",
       "    <rect x=\"480\" y=\"0\" width=\"1681\" height=\"1200\"/>\n",
       "  </clipPath>\n",
       "</defs>\n",
       "<path clip-path=\"url(#clip480)\" d=\"\n",
       "M141.853 1099.09 L2352.76 1099.09 L2352.76 47.2441 L141.853 47.2441  Z\n",
       "  \" fill=\"#ffffff\" fill-rule=\"evenodd\" fill-opacity=\"1\"/>\n",
       "<defs>\n",
       "  <clipPath id=\"clip482\">\n",
       "    <rect x=\"141\" y=\"47\" width=\"2212\" height=\"1053\"/>\n",
       "  </clipPath>\n",
       "</defs>\n",
       "<polyline clip-path=\"url(#clip482)\" style=\"stroke:#000000; stroke-linecap:butt; stroke-linejoin:round; stroke-width:2; stroke-opacity:0.1; fill:none\" points=\"\n",
       "  413.001,1099.09 413.001,47.2441 \n",
       "  \"/>\n",
       "<polyline clip-path=\"url(#clip482)\" style=\"stroke:#000000; stroke-linecap:butt; stroke-linejoin:round; stroke-width:2; stroke-opacity:0.1; fill:none\" points=\"\n",
       "  830.153,1099.09 830.153,47.2441 \n",
       "  \"/>\n",
       "<polyline clip-path=\"url(#clip482)\" style=\"stroke:#000000; stroke-linecap:butt; stroke-linejoin:round; stroke-width:2; stroke-opacity:0.1; fill:none\" points=\"\n",
       "  1247.3,1099.09 1247.3,47.2441 \n",
       "  \"/>\n",
       "<polyline clip-path=\"url(#clip482)\" style=\"stroke:#000000; stroke-linecap:butt; stroke-linejoin:round; stroke-width:2; stroke-opacity:0.1; fill:none\" points=\"\n",
       "  1664.46,1099.09 1664.46,47.2441 \n",
       "  \"/>\n",
       "<polyline clip-path=\"url(#clip482)\" style=\"stroke:#000000; stroke-linecap:butt; stroke-linejoin:round; stroke-width:2; stroke-opacity:0.1; fill:none\" points=\"\n",
       "  2081.61,1099.09 2081.61,47.2441 \n",
       "  \"/>\n",
       "<polyline clip-path=\"url(#clip480)\" style=\"stroke:#000000; stroke-linecap:butt; stroke-linejoin:round; stroke-width:4; stroke-opacity:1; fill:none\" points=\"\n",
       "  141.853,1099.09 2352.76,1099.09 \n",
       "  \"/>\n",
       "<polyline clip-path=\"url(#clip480)\" style=\"stroke:#000000; stroke-linecap:butt; stroke-linejoin:round; stroke-width:4; stroke-opacity:1; fill:none\" points=\"\n",
       "  413.001,1099.09 413.001,1080.19 \n",
       "  \"/>\n",
       "<polyline clip-path=\"url(#clip480)\" style=\"stroke:#000000; stroke-linecap:butt; stroke-linejoin:round; stroke-width:4; stroke-opacity:1; fill:none\" points=\"\n",
       "  830.153,1099.09 830.153,1080.19 \n",
       "  \"/>\n",
       "<polyline clip-path=\"url(#clip480)\" style=\"stroke:#000000; stroke-linecap:butt; stroke-linejoin:round; stroke-width:4; stroke-opacity:1; fill:none\" points=\"\n",
       "  1247.3,1099.09 1247.3,1080.19 \n",
       "  \"/>\n",
       "<polyline clip-path=\"url(#clip480)\" style=\"stroke:#000000; stroke-linecap:butt; stroke-linejoin:round; stroke-width:4; stroke-opacity:1; fill:none\" points=\"\n",
       "  1664.46,1099.09 1664.46,1080.19 \n",
       "  \"/>\n",
       "<polyline clip-path=\"url(#clip480)\" style=\"stroke:#000000; stroke-linecap:butt; stroke-linejoin:round; stroke-width:4; stroke-opacity:1; fill:none\" points=\"\n",
       "  2081.61,1099.09 2081.61,1080.19 \n",
       "  \"/>\n",
       "<path clip-path=\"url(#clip480)\" d=\"M381.902 1144.66 L411.578 1144.66 L411.578 1148.59 L381.902 1148.59 L381.902 1144.66 Z\" fill=\"#000000\" fill-rule=\"evenodd\" fill-opacity=\"1\" /><path clip-path=\"url(#clip480)\" d=\"M434.518 1131 L422.712 1149.45 L434.518 1149.45 L434.518 1131 M433.291 1126.93 L439.17 1126.93 L439.17 1149.45 L444.101 1149.45 L444.101 1153.34 L439.17 1153.34 L439.17 1161.49 L434.518 1161.49 L434.518 1153.34 L418.916 1153.34 L418.916 1148.83 L433.291 1126.93 Z\" fill=\"#000000\" fill-rule=\"evenodd\" fill-opacity=\"1\" /><path clip-path=\"url(#clip480)\" d=\"M800.095 1144.66 L829.771 1144.66 L829.771 1148.59 L800.095 1148.59 L800.095 1144.66 Z\" fill=\"#000000\" fill-rule=\"evenodd\" fill-opacity=\"1\" /><path clip-path=\"url(#clip480)\" d=\"M843.891 1157.55 L860.211 1157.55 L860.211 1161.49 L838.266 1161.49 L838.266 1157.55 Q840.928 1154.8 845.512 1150.17 Q850.118 1145.52 851.299 1144.17 Q853.544 1141.65 854.424 1139.91 Q855.326 1138.15 855.326 1136.46 Q855.326 1133.71 853.382 1131.97 Q851.461 1130.24 848.359 1130.24 Q846.16 1130.24 843.706 1131 Q841.276 1131.77 838.498 1133.32 L838.498 1128.59 Q841.322 1127.46 843.776 1126.88 Q846.229 1126.3 848.266 1126.3 Q853.637 1126.3 856.831 1128.99 Q860.025 1131.67 860.025 1136.16 Q860.025 1138.29 859.215 1140.21 Q858.428 1142.11 856.322 1144.71 Q855.743 1145.38 852.641 1148.59 Q849.539 1151.79 843.891 1157.55 Z\" fill=\"#000000\" fill-rule=\"evenodd\" fill-opacity=\"1\" /><path clip-path=\"url(#clip480)\" d=\"M1247.3 1130.01 Q1243.69 1130.01 1241.86 1133.57 Q1240.06 1137.11 1240.06 1144.24 Q1240.06 1151.35 1241.86 1154.91 Q1243.69 1158.46 1247.3 1158.46 Q1250.94 1158.46 1252.74 1154.91 Q1254.57 1151.35 1254.57 1144.24 Q1254.57 1137.11 1252.74 1133.57 Q1250.94 1130.01 1247.3 1130.01 M1247.3 1126.3 Q1253.11 1126.3 1256.17 1130.91 Q1259.25 1135.49 1259.25 1144.24 Q1259.25 1152.97 1256.17 1157.58 Q1253.11 1162.16 1247.3 1162.16 Q1241.49 1162.16 1238.42 1157.58 Q1235.36 1152.97 1235.36 1144.24 Q1235.36 1135.49 1238.42 1130.91 Q1241.49 1126.3 1247.3 1126.3 Z\" fill=\"#000000\" fill-rule=\"evenodd\" fill-opacity=\"1\" /><path clip-path=\"url(#clip480)\" d=\"M1659.11 1157.55 L1675.43 1157.55 L1675.43 1161.49 L1653.48 1161.49 L1653.48 1157.55 Q1656.15 1154.8 1660.73 1150.17 Q1665.34 1145.52 1666.52 1144.17 Q1668.76 1141.65 1669.64 1139.91 Q1670.54 1138.15 1670.54 1136.46 Q1670.54 1133.71 1668.6 1131.97 Q1666.68 1130.24 1663.58 1130.24 Q1661.38 1130.24 1658.92 1131 Q1656.49 1131.77 1653.72 1133.32 L1653.72 1128.59 Q1656.54 1127.46 1658.99 1126.88 Q1661.45 1126.3 1663.48 1126.3 Q1668.85 1126.3 1672.05 1128.99 Q1675.24 1131.67 1675.24 1136.16 Q1675.24 1138.29 1674.43 1140.21 Q1673.65 1142.11 1671.54 1144.71 Q1670.96 1145.38 1667.86 1148.59 Q1664.76 1151.79 1659.11 1157.55 Z\" fill=\"#000000\" fill-rule=\"evenodd\" fill-opacity=\"1\" /><path clip-path=\"url(#clip480)\" d=\"M2084.62 1131 L2072.81 1149.45 L2084.62 1149.45 L2084.62 1131 M2083.39 1126.93 L2089.27 1126.93 L2089.27 1149.45 L2094.2 1149.45 L2094.2 1153.34 L2089.27 1153.34 L2089.27 1161.49 L2084.62 1161.49 L2084.62 1153.34 L2069.01 1153.34 L2069.01 1148.83 L2083.39 1126.93 Z\" fill=\"#000000\" fill-rule=\"evenodd\" fill-opacity=\"1\" /><polyline clip-path=\"url(#clip482)\" style=\"stroke:#000000; stroke-linecap:butt; stroke-linejoin:round; stroke-width:2; stroke-opacity:0.1; fill:none\" points=\"\n",
       "  141.853,1015.99 2352.76,1015.99 \n",
       "  \"/>\n",
       "<polyline clip-path=\"url(#clip482)\" style=\"stroke:#000000; stroke-linecap:butt; stroke-linejoin:round; stroke-width:2; stroke-opacity:0.1; fill:none\" points=\"\n",
       "  141.853,815.137 2352.76,815.137 \n",
       "  \"/>\n",
       "<polyline clip-path=\"url(#clip482)\" style=\"stroke:#000000; stroke-linecap:butt; stroke-linejoin:round; stroke-width:2; stroke-opacity:0.1; fill:none\" points=\"\n",
       "  141.853,614.287 2352.76,614.287 \n",
       "  \"/>\n",
       "<polyline clip-path=\"url(#clip482)\" style=\"stroke:#000000; stroke-linecap:butt; stroke-linejoin:round; stroke-width:2; stroke-opacity:0.1; fill:none\" points=\"\n",
       "  141.853,413.437 2352.76,413.437 \n",
       "  \"/>\n",
       "<polyline clip-path=\"url(#clip482)\" style=\"stroke:#000000; stroke-linecap:butt; stroke-linejoin:round; stroke-width:2; stroke-opacity:0.1; fill:none\" points=\"\n",
       "  141.853,212.587 2352.76,212.587 \n",
       "  \"/>\n",
       "<polyline clip-path=\"url(#clip480)\" style=\"stroke:#000000; stroke-linecap:butt; stroke-linejoin:round; stroke-width:4; stroke-opacity:1; fill:none\" points=\"\n",
       "  141.853,1099.09 141.853,47.2441 \n",
       "  \"/>\n",
       "<polyline clip-path=\"url(#clip480)\" style=\"stroke:#000000; stroke-linecap:butt; stroke-linejoin:round; stroke-width:4; stroke-opacity:1; fill:none\" points=\"\n",
       "  141.853,1015.99 160.751,1015.99 \n",
       "  \"/>\n",
       "<polyline clip-path=\"url(#clip480)\" style=\"stroke:#000000; stroke-linecap:butt; stroke-linejoin:round; stroke-width:4; stroke-opacity:1; fill:none\" points=\"\n",
       "  141.853,815.137 160.751,815.137 \n",
       "  \"/>\n",
       "<polyline clip-path=\"url(#clip480)\" style=\"stroke:#000000; stroke-linecap:butt; stroke-linejoin:round; stroke-width:4; stroke-opacity:1; fill:none\" points=\"\n",
       "  141.853,614.287 160.751,614.287 \n",
       "  \"/>\n",
       "<polyline clip-path=\"url(#clip480)\" style=\"stroke:#000000; stroke-linecap:butt; stroke-linejoin:round; stroke-width:4; stroke-opacity:1; fill:none\" points=\"\n",
       "  141.853,413.437 160.751,413.437 \n",
       "  \"/>\n",
       "<polyline clip-path=\"url(#clip480)\" style=\"stroke:#000000; stroke-linecap:butt; stroke-linejoin:round; stroke-width:4; stroke-opacity:1; fill:none\" points=\"\n",
       "  141.853,212.587 160.751,212.587 \n",
       "  \"/>\n",
       "<path clip-path=\"url(#clip480)\" d=\"M93.9086 1001.79 Q90.2975 1001.79 88.4688 1005.35 Q86.6632 1008.89 86.6632 1016.02 Q86.6632 1023.13 88.4688 1026.69 Q90.2975 1030.23 93.9086 1030.23 Q97.5428 1030.23 99.3483 1026.69 Q101.177 1023.13 101.177 1016.02 Q101.177 1008.89 99.3483 1005.35 Q97.5428 1001.79 93.9086 1001.79 M93.9086 998.082 Q99.7187 998.082 102.774 1002.69 Q105.853 1007.27 105.853 1016.02 Q105.853 1024.75 102.774 1029.35 Q99.7187 1033.94 93.9086 1033.94 Q88.0984 1033.94 85.0197 1029.35 Q81.9642 1024.75 81.9642 1016.02 Q81.9642 1007.27 85.0197 1002.69 Q88.0984 998.082 93.9086 998.082 Z\" fill=\"#000000\" fill-rule=\"evenodd\" fill-opacity=\"1\" /><path clip-path=\"url(#clip480)\" d=\"M57.7745 828.482 L74.0939 828.482 L74.0939 832.417 L52.1495 832.417 L52.1495 828.482 Q54.8115 825.727 59.3949 821.097 Q64.0013 816.445 65.1819 815.102 Q67.4272 812.579 68.3068 810.843 Q69.2096 809.084 69.2096 807.394 Q69.2096 804.639 67.2652 802.903 Q65.3439 801.167 62.2421 801.167 Q60.043 801.167 57.5893 801.931 Q55.1588 802.695 52.381 804.246 L52.381 799.524 Q55.2051 798.389 57.6588 797.811 Q60.1124 797.232 62.1495 797.232 Q67.5198 797.232 70.7142 799.917 Q73.9087 802.602 73.9087 807.093 Q73.9087 809.223 73.0985 811.144 Q72.3115 813.042 70.205 815.635 Q69.6263 816.306 66.5245 819.523 Q63.4226 822.718 57.7745 828.482 Z\" fill=\"#000000\" fill-rule=\"evenodd\" fill-opacity=\"1\" /><path clip-path=\"url(#clip480)\" d=\"M93.9086 800.936 Q90.2975 800.936 88.4688 804.5 Q86.6632 808.042 86.6632 815.172 Q86.6632 822.278 88.4688 825.843 Q90.2975 829.384 93.9086 829.384 Q97.5428 829.384 99.3483 825.843 Q101.177 822.278 101.177 815.172 Q101.177 808.042 99.3483 804.5 Q97.5428 800.936 93.9086 800.936 M93.9086 797.232 Q99.7187 797.232 102.774 801.838 Q105.853 806.422 105.853 815.172 Q105.853 823.898 102.774 828.505 Q99.7187 833.088 93.9086 833.088 Q88.0984 833.088 85.0197 828.505 Q81.9642 823.898 81.9642 815.172 Q81.9642 806.422 85.0197 801.838 Q88.0984 797.232 93.9086 797.232 Z\" fill=\"#000000\" fill-rule=\"evenodd\" fill-opacity=\"1\" /><path clip-path=\"url(#clip480)\" d=\"M66.5939 601.081 L54.7884 619.53 L66.5939 619.53 L66.5939 601.081 M65.367 597.007 L71.2466 597.007 L71.2466 619.53 L76.1772 619.53 L76.1772 623.419 L71.2466 623.419 L71.2466 631.567 L66.5939 631.567 L66.5939 623.419 L50.9921 623.419 L50.9921 618.905 L65.367 597.007 Z\" fill=\"#000000\" fill-rule=\"evenodd\" fill-opacity=\"1\" /><path clip-path=\"url(#clip480)\" d=\"M93.9086 600.086 Q90.2975 600.086 88.4688 603.65 Q86.6632 607.192 86.6632 614.322 Q86.6632 621.428 88.4688 624.993 Q90.2975 628.535 93.9086 628.535 Q97.5428 628.535 99.3483 624.993 Q101.177 621.428 101.177 614.322 Q101.177 607.192 99.3483 603.65 Q97.5428 600.086 93.9086 600.086 M93.9086 596.382 Q99.7187 596.382 102.774 600.988 Q105.853 605.572 105.853 614.322 Q105.853 623.048 102.774 627.655 Q99.7187 632.238 93.9086 632.238 Q88.0984 632.238 85.0197 627.655 Q81.9642 623.048 81.9642 614.322 Q81.9642 605.572 85.0197 600.988 Q88.0984 596.382 93.9086 596.382 Z\" fill=\"#000000\" fill-rule=\"evenodd\" fill-opacity=\"1\" /><path clip-path=\"url(#clip480)\" d=\"M64.3254 411.574 Q61.1773 411.574 59.3254 413.726 Q57.4967 415.879 57.4967 419.629 Q57.4967 423.356 59.3254 425.532 Q61.1773 427.685 64.3254 427.685 Q67.4735 427.685 69.3022 425.532 Q71.1541 423.356 71.1541 419.629 Q71.1541 415.879 69.3022 413.726 Q67.4735 411.574 64.3254 411.574 M73.6077 396.921 L73.6077 401.18 Q71.8485 400.347 70.0429 399.907 Q68.2606 399.467 66.5013 399.467 Q61.8717 399.467 59.418 402.592 Q56.9875 405.717 56.6402 412.036 Q58.006 410.023 60.0662 408.958 Q62.1263 407.87 64.6032 407.87 Q69.8115 407.87 72.8207 411.041 Q75.8531 414.189 75.8531 419.629 Q75.8531 424.953 72.705 428.171 Q69.5568 431.388 64.3254 431.388 Q58.33 431.388 55.1588 426.805 Q51.9875 422.198 51.9875 413.472 Q51.9875 405.277 55.8764 400.416 Q59.7652 395.532 66.3161 395.532 Q68.0754 395.532 69.8578 395.879 Q71.6633 396.226 73.6077 396.921 Z\" fill=\"#000000\" fill-rule=\"evenodd\" fill-opacity=\"1\" /><path clip-path=\"url(#clip480)\" d=\"M93.9086 399.236 Q90.2975 399.236 88.4688 402.8 Q86.6632 406.342 86.6632 413.472 Q86.6632 420.578 88.4688 424.143 Q90.2975 427.685 93.9086 427.685 Q97.5428 427.685 99.3483 424.143 Q101.177 420.578 101.177 413.472 Q101.177 406.342 99.3483 402.8 Q97.5428 399.236 93.9086 399.236 M93.9086 395.532 Q99.7187 395.532 102.774 400.138 Q105.853 404.722 105.853 413.472 Q105.853 422.198 102.774 426.805 Q99.7187 431.388 93.9086 431.388 Q88.0984 431.388 85.0197 426.805 Q81.9642 422.198 81.9642 413.472 Q81.9642 404.722 85.0197 400.138 Q88.0984 395.532 93.9086 395.532 Z\" fill=\"#000000\" fill-rule=\"evenodd\" fill-opacity=\"1\" /><path clip-path=\"url(#clip480)\" d=\"M63.7467 213.455 Q60.4134 213.455 58.4921 215.237 Q56.5939 217.02 56.5939 220.145 Q56.5939 223.27 58.4921 225.052 Q60.4134 226.835 63.7467 226.835 Q67.08 226.835 69.0013 225.052 Q70.9226 223.247 70.9226 220.145 Q70.9226 217.02 69.0013 215.237 Q67.1032 213.455 63.7467 213.455 M59.0708 211.464 Q56.0615 210.724 54.3717 208.663 Q52.7051 206.603 52.7051 203.64 Q52.7051 199.497 55.6449 197.089 Q58.6078 194.682 63.7467 194.682 Q68.9087 194.682 71.8485 197.089 Q74.7883 199.497 74.7883 203.64 Q74.7883 206.603 73.0985 208.663 Q71.4318 210.724 68.4457 211.464 Q71.8253 212.251 73.7003 214.543 Q75.5985 216.835 75.5985 220.145 Q75.5985 225.168 72.5198 227.853 Q69.4642 230.538 63.7467 230.538 Q58.0291 230.538 54.9504 227.853 Q51.8949 225.168 51.8949 220.145 Q51.8949 216.835 53.793 214.543 Q55.6912 212.251 59.0708 211.464 M57.3578 204.08 Q57.3578 206.765 59.0245 208.27 Q60.7143 209.774 63.7467 209.774 Q66.7559 209.774 68.4457 208.27 Q70.1587 206.765 70.1587 204.08 Q70.1587 201.395 68.4457 199.89 Q66.7559 198.386 63.7467 198.386 Q60.7143 198.386 59.0245 199.89 Q57.3578 201.395 57.3578 204.08 Z\" fill=\"#000000\" fill-rule=\"evenodd\" fill-opacity=\"1\" /><path clip-path=\"url(#clip480)\" d=\"M93.9086 198.386 Q90.2975 198.386 88.4688 201.95 Q86.6632 205.492 86.6632 212.622 Q86.6632 219.728 88.4688 223.293 Q90.2975 226.835 93.9086 226.835 Q97.5428 226.835 99.3483 223.293 Q101.177 219.728 101.177 212.622 Q101.177 205.492 99.3483 201.95 Q97.5428 198.386 93.9086 198.386 M93.9086 194.682 Q99.7187 194.682 102.774 199.288 Q105.853 203.872 105.853 212.622 Q105.853 221.349 102.774 225.955 Q99.7187 230.538 93.9086 230.538 Q88.0984 230.538 85.0197 225.955 Q81.9642 221.349 81.9642 212.622 Q81.9642 203.872 85.0197 199.288 Q88.0984 194.682 93.9086 194.682 Z\" fill=\"#000000\" fill-rule=\"evenodd\" fill-opacity=\"1\" /><polyline clip-path=\"url(#clip482)\" style=\"stroke:#4682b4; stroke-linecap:butt; stroke-linejoin:round; stroke-width:4; stroke-opacity:1; fill:none\" stroke-dasharray=\"16, 10\" points=\"\n",
       "  204.426,77.0133 207.821,85.7329 211.215,94.4021 214.61,103.021 218.005,111.59 233.7,150.557 249.395,188.467 265.091,225.334 280.786,261.17 296.481,295.988 \n",
       "  312.176,329.801 327.871,362.621 343.566,394.462 362.431,431.454 381.295,467.073 400.159,501.339 419.024,534.276 434.973,561.103 450.923,587.009 466.872,612.007 \n",
       "  482.822,636.111 500.147,661.298 517.473,685.463 534.799,708.623 552.124,730.796 568.097,750.378 584.07,769.148 600.042,787.122 616.015,804.311 633.139,821.885 \n",
       "  650.264,838.59 667.388,854.443 684.513,869.46 704.353,885.837 724.193,901.14 744.034,915.396 763.874,928.631 781.506,939.557 799.138,949.714 816.769,959.122 \n",
       "  834.401,967.799 865.324,981.305 896.247,992.715 929.961,1002.88 963.675,1010.8 997.59,1016.63 1031.5,1020.44 1069,1022.47 1106.5,1022.36 1142.18,1020.45 \n",
       "  1177.85,1016.91 1214.95,1011.67 1252.05,1005.02 1283.27,998.445 1314.5,991.086 1390.75,970.451 1460.6,949.231 1525.11,928.675 1590.46,907.851 1663.7,885.654 \n",
       "  1730.06,867.632 1768.05,858.6 1806.04,850.73 1841.22,844.639 1876.4,839.845 1911.08,836.53 1945.76,834.754 1979.43,834.636 2013.1,836.226 2047.62,839.763 \n",
       "  2082.13,845.366 2101.04,849.36 2119.95,854.038 2138.86,859.421 2157.77,865.533 2185.24,875.755 2212.71,887.629 2240.17,901.226 2267.64,916.613 2273.28,919.997 \n",
       "  2278.91,923.46 2284.55,927.003 2290.18,930.626 \n",
       "  \"/>\n",
       "<circle clip-path=\"url(#clip482)\" cx=\"1733.48\" cy=\"874.714\" r=\"14\" fill=\"#0000ff\" fill-rule=\"evenodd\" fill-opacity=\"1\" stroke=\"#000000\" stroke-opacity=\"1\" stroke-width=\"2.4\"/>\n",
       "<circle clip-path=\"url(#clip482)\" cx=\"875.433\" cy=\"850.804\" r=\"14\" fill=\"#0000ff\" fill-rule=\"evenodd\" fill-opacity=\"1\" stroke=\"#000000\" stroke-opacity=\"1\" stroke-width=\"2.4\"/>\n",
       "<circle clip-path=\"url(#clip482)\" cx=\"339.047\" cy=\"376.146\" r=\"14\" fill=\"#0000ff\" fill-rule=\"evenodd\" fill-opacity=\"1\" stroke=\"#000000\" stroke-opacity=\"1\" stroke-width=\"2.4\"/>\n",
       "<circle clip-path=\"url(#clip482)\" cx=\"1930.06\" cy=\"866.228\" r=\"14\" fill=\"#0000ff\" fill-rule=\"evenodd\" fill-opacity=\"1\" stroke=\"#000000\" stroke-opacity=\"1\" stroke-width=\"2.4\"/>\n",
       "<circle clip-path=\"url(#clip482)\" cx=\"1342.62\" cy=\"967.098\" r=\"14\" fill=\"#0000ff\" fill-rule=\"evenodd\" fill-opacity=\"1\" stroke=\"#000000\" stroke-opacity=\"1\" stroke-width=\"2.4\"/>\n",
       "<circle clip-path=\"url(#clip482)\" cx=\"1315.26\" cy=\"1069.32\" r=\"14\" fill=\"#0000ff\" fill-rule=\"evenodd\" fill-opacity=\"1\" stroke=\"#000000\" stroke-opacity=\"1\" stroke-width=\"2.4\"/>\n",
       "<circle clip-path=\"url(#clip482)\" cx=\"1740.77\" cy=\"886.062\" r=\"14\" fill=\"#0000ff\" fill-rule=\"evenodd\" fill-opacity=\"1\" stroke=\"#000000\" stroke-opacity=\"1\" stroke-width=\"2.4\"/>\n",
       "<circle clip-path=\"url(#clip482)\" cx=\"489.219\" cy=\"583.847\" r=\"14\" fill=\"#0000ff\" fill-rule=\"evenodd\" fill-opacity=\"1\" stroke=\"#000000\" stroke-opacity=\"1\" stroke-width=\"2.4\"/>\n",
       "<circle clip-path=\"url(#clip482)\" cx=\"1461.82\" cy=\"966.176\" r=\"14\" fill=\"#0000ff\" fill-rule=\"evenodd\" fill-opacity=\"1\" stroke=\"#000000\" stroke-opacity=\"1\" stroke-width=\"2.4\"/>\n",
       "<circle clip-path=\"url(#clip482)\" cx=\"1476.05\" cy=\"981.504\" r=\"14\" fill=\"#0000ff\" fill-rule=\"evenodd\" fill-opacity=\"1\" stroke=\"#000000\" stroke-opacity=\"1\" stroke-width=\"2.4\"/>\n",
       "<circle clip-path=\"url(#clip482)\" cx=\"786.878\" cy=\"927.432\" r=\"14\" fill=\"#0000ff\" fill-rule=\"evenodd\" fill-opacity=\"1\" stroke=\"#000000\" stroke-opacity=\"1\" stroke-width=\"2.4\"/>\n",
       "<circle clip-path=\"url(#clip482)\" cx=\"1516.53\" cy=\"912.439\" r=\"14\" fill=\"#0000ff\" fill-rule=\"evenodd\" fill-opacity=\"1\" stroke=\"#000000\" stroke-opacity=\"1\" stroke-width=\"2.4\"/>\n",
       "<circle clip-path=\"url(#clip482)\" cx=\"672.616\" cy=\"941.224\" r=\"14\" fill=\"#0000ff\" fill-rule=\"evenodd\" fill-opacity=\"1\" stroke=\"#000000\" stroke-opacity=\"1\" stroke-width=\"2.4\"/>\n",
       "<circle clip-path=\"url(#clip482)\" cx=\"1924.67\" cy=\"791.18\" r=\"14\" fill=\"#0000ff\" fill-rule=\"evenodd\" fill-opacity=\"1\" stroke=\"#000000\" stroke-opacity=\"1\" stroke-width=\"2.4\"/>\n",
       "<circle clip-path=\"url(#clip482)\" cx=\"2249.07\" cy=\"873.535\" r=\"14\" fill=\"#0000ff\" fill-rule=\"evenodd\" fill-opacity=\"1\" stroke=\"#000000\" stroke-opacity=\"1\" stroke-width=\"2.4\"/>\n",
       "<circle clip-path=\"url(#clip482)\" cx=\"816.405\" cy=\"1026.25\" r=\"14\" fill=\"#0000ff\" fill-rule=\"evenodd\" fill-opacity=\"1\" stroke=\"#000000\" stroke-opacity=\"1\" stroke-width=\"2.4\"/>\n",
       "<circle clip-path=\"url(#clip482)\" cx=\"2152.35\" cy=\"834.71\" r=\"14\" fill=\"#0000ff\" fill-rule=\"evenodd\" fill-opacity=\"1\" stroke=\"#000000\" stroke-opacity=\"1\" stroke-width=\"2.4\"/>\n",
       "<circle clip-path=\"url(#clip482)\" cx=\"548.787\" cy=\"777.086\" r=\"14\" fill=\"#0000ff\" fill-rule=\"evenodd\" fill-opacity=\"1\" stroke=\"#000000\" stroke-opacity=\"1\" stroke-width=\"2.4\"/>\n",
       "<circle clip-path=\"url(#clip482)\" cx=\"1819.77\" cy=\"822.386\" r=\"14\" fill=\"#0000ff\" fill-rule=\"evenodd\" fill-opacity=\"1\" stroke=\"#000000\" stroke-opacity=\"1\" stroke-width=\"2.4\"/>\n",
       "<circle clip-path=\"url(#clip482)\" cx=\"1903.19\" cy=\"832.47\" r=\"14\" fill=\"#0000ff\" fill-rule=\"evenodd\" fill-opacity=\"1\" stroke=\"#000000\" stroke-opacity=\"1\" stroke-width=\"2.4\"/>\n",
       "<path clip-path=\"url(#clip480)\" d=\"\n",
       "M2010.23 185.986 L2279.06 185.986 L2279.06 82.3056 L2010.23 82.3056  Z\n",
       "  \" fill=\"#ffffff\" fill-rule=\"evenodd\" fill-opacity=\"1\"/>\n",
       "<polyline clip-path=\"url(#clip480)\" style=\"stroke:#000000; stroke-linecap:butt; stroke-linejoin:round; stroke-width:4; stroke-opacity:1; fill:none\" points=\"\n",
       "  2010.23,185.986 2279.06,185.986 2279.06,82.3056 2010.23,82.3056 2010.23,185.986 \n",
       "  \"/>\n",
       "<polyline clip-path=\"url(#clip480)\" style=\"stroke:#4682b4; stroke-linecap:butt; stroke-linejoin:round; stroke-width:4; stroke-opacity:1; fill:none\" stroke-dasharray=\"16, 10\" points=\"\n",
       "  2034.8,134.146 2182.19,134.146 \n",
       "  \"/>\n",
       "<path clip-path=\"url(#clip480)\" d=\"M2211.15 138.486 Q2211.15 143.185 2213.08 145.87 Q2215.02 148.532 2218.4 148.532 Q2221.78 148.532 2223.72 145.87 Q2225.67 143.185 2225.67 138.486 Q2225.67 133.787 2223.72 131.125 Q2221.78 128.44 2218.4 128.44 Q2215.02 128.44 2213.08 131.125 Q2211.15 133.787 2211.15 138.486 M2225.67 147.537 Q2224.33 149.851 2222.27 150.986 Q2220.23 152.097 2217.36 152.097 Q2212.66 152.097 2209.7 148.347 Q2206.76 144.597 2206.76 138.486 Q2206.76 132.375 2209.7 128.625 Q2212.66 124.875 2217.36 124.875 Q2220.23 124.875 2222.27 126.009 Q2224.33 127.12 2225.67 129.435 L2225.67 125.5 L2229.93 125.5 L2229.93 161.287 L2225.67 161.287 L2225.67 147.537 Z\" fill=\"#000000\" fill-rule=\"evenodd\" fill-opacity=\"1\" /></svg>\n"
      ]
     },
     "execution_count": 33,
     "metadata": {},
     "output_type": "execute_result"
    }
   ],
   "source": [
    "plot(q, label = \"q\", size = (600,300), linestyle = :dash, color = :steelblue)\n",
    "scatter!(X,Y, label=false, color = :blue)"
   ]
  },
  {
   "cell_type": "markdown",
   "metadata": {},
   "source": [
    "Wir berechnen Feature Matrix und RR Parameter."
   ]
  },
  {
   "cell_type": "code",
   "execution_count": 34,
   "metadata": {},
   "outputs": [
    {
     "data": {
      "text/plain": [
       "θ_T (generic function with 1 method)"
      ]
     },
     "execution_count": 34,
     "metadata": {},
     "output_type": "execute_result"
    }
   ],
   "source": [
    "Ω = hcat([X.^i for i in 0:P-1]...)\n",
    "θ_T(λ) = (Ω' * Ω + (n*λ) .* diagm(ones(P))) \\ (Ω' * Y)"
   ]
  },
  {
   "cell_type": "markdown",
   "metadata": {},
   "source": [
    "Für jeden Wert von $\\lambda$ erhalten wir dann ein Polynom wie folgt:'"
   ]
  },
  {
   "cell_type": "code",
   "execution_count": 35,
   "metadata": {},
   "outputs": [
    {
     "data": {
      "text/plain": [
       "Q (generic function with 1 method)"
      ]
     },
     "execution_count": 35,
     "metadata": {},
     "output_type": "execute_result"
    }
   ],
   "source": [
    "Q(λ) = (x -> sum(θ * x^(i-1) for (i,θ) in enumerate(θ_T(λ))))"
   ]
  },
  {
   "cell_type": "markdown",
   "metadata": {},
   "source": [
    "Die folgende Animation zeigt, dass Regularisierung ($\\lambda >0$) ein besseres Ergebnis als keine Regularisierung ($\\lambda =0$) erzielt. "
   ]
  },
  {
   "cell_type": "code",
   "execution_count": 38,
   "metadata": {},
   "outputs": [
    {
     "name": "stderr",
     "output_type": "stream",
     "text": [
      "┌ Info: Saved animation to \n",
      "│   fn = /Users/pb/ridge_regression.gif\n",
      "└ @ Plots /Users/pb/.julia/packages/Plots/1KWPG/src/animation.jl:114\n"
     ]
    },
    {
     "data": {
      "text/html": [
       "<img src=\"data:image/gif;base64,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\" />"
      ],
      "text/plain": [
       "Plots.AnimatedGif(\"/Users/pb/ridge_regression.gif\")"
      ]
     },
     "execution_count": 38,
     "metadata": {},
     "output_type": "execute_result"
    }
   ],
   "source": [
    "anim = @animate for λ in 0:10\n",
    "    plot(q, label = \"q\", size = (600,300), linestyle = :dash, lw = 2,\n",
    "        color = :steelblue, \n",
    "        xlims = (-5,5),\n",
    "        ylims = (-20, 120))\n",
    "    scatter!(X,Y, label=false, color = :blue)\n",
    "    plot!(Q(λ/n), label = \"λ = $(λ/n)\", color = :red, lw = 2)\n",
    "end\n",
    "gif(anim, \"/Users/pb/ridge_regression.gif\", fps = 2)"
   ]
  },
  {
   "cell_type": "code",
   "execution_count": null,
   "metadata": {},
   "outputs": [],
   "source": []
  }
 ],
 "metadata": {
  "@webio": {
   "lastCommId": null,
   "lastKernelId": null
  },
  "kernelspec": {
   "display_name": "Julia 1.7.2",
   "language": "julia",
   "name": "julia-1.7"
  },
  "language_info": {
   "file_extension": ".jl",
   "mimetype": "application/julia",
   "name": "julia",
   "version": "1.7.2"
  }
 },
 "nbformat": 4,
 "nbformat_minor": 2
}
