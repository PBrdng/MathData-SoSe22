{
 "cells": [
  {
   "cell_type": "code",
   "execution_count": null,
   "metadata": {},
   "outputs": [],
   "source": [
    "using Pkg\n",
    "Pkg.activate(\"NB04\")\n",
    "Pkg.resolve();"
   ]
  },
  {
   "cell_type": "code",
   "execution_count": null,
   "metadata": {},
   "outputs": [],
   "source": [
    "using LinearAlgebra, Plots, StatsBase\n",
    "using RDatasets\n",
    "using Optim"
   ]
  },
  {
   "cell_type": "markdown",
   "metadata": {},
   "source": [
    "# Regression\n",
    "\n",
    "Wir laden den Datensatz `cars` aus dem `RDatasets` package"
   ]
  },
  {
   "cell_type": "code",
   "execution_count": 40,
   "metadata": {},
   "outputs": [],
   "source": [
    "data_cars = dataset(\"datasets\", \"cars\");"
   ]
  },
  {
   "cell_type": "markdown",
   "metadata": {},
   "source": [
    "Wir schauen zunächst, welche Variablen in diesem Datensatz erhalten sind"
   ]
  },
  {
   "cell_type": "code",
   "execution_count": 41,
   "metadata": {},
   "outputs": [
    {
     "data": {
      "text/plain": [
       "2-element Vector{String}:\n",
       " \"Speed\"\n",
       " \"Dist\""
      ]
     },
     "execution_count": 41,
     "metadata": {},
     "output_type": "execute_result"
    }
   ],
   "source": [
    "names(data_cars)"
   ]
  },
  {
   "cell_type": "code",
   "execution_count": 42,
   "metadata": {},
   "outputs": [
    {
     "data": {
      "text/plain": [
       "50"
      ]
     },
     "execution_count": 42,
     "metadata": {},
     "output_type": "execute_result"
    }
   ],
   "source": [
    "size(data_cars,1)"
   ]
  },
  {
   "cell_type": "markdown",
   "metadata": {},
   "source": [
    "Die Datenpunkte stellen also Geschwindigkeit und zurückgelegte Distanz dar. \n",
    "\n",
    "Wir erwarten einen linearen Zusammenhang, also wählen wir das lineare Modell\n",
    "\n",
    "$$f_\\theta(x) =  a x + b$$\n",
    "\n",
    "mit $\\theta =(a,b)\\in\\mathbb R^2$."
   ]
  },
  {
   "cell_type": "code",
   "execution_count": 43,
   "metadata": {},
   "outputs": [
    {
     "data": {
      "image/svg+xml": [
       "<?xml version=\"1.0\" encoding=\"utf-8\"?>\n",
       "<svg xmlns=\"http://www.w3.org/2000/svg\" xmlns:xlink=\"http://www.w3.org/1999/xlink\" width=\"600\" height=\"300\" viewBox=\"0 0 2400 1200\">\n",
       "<defs>\n",
       "  <clipPath id=\"clip890\">\n",
       "    <rect x=\"0\" y=\"0\" width=\"2400\" height=\"1200\"/>\n",
       "  </clipPath>\n",
       "</defs>\n",
       "<path clip-path=\"url(#clip890)\" d=\"\n",
       "M0 1200 L2400 1200 L2400 0 L0 0  Z\n",
       "  \" fill=\"#ffffff\" fill-rule=\"evenodd\" fill-opacity=\"1\"/>\n",
       "<defs>\n",
       "  <clipPath id=\"clip891\">\n",
       "    <rect x=\"480\" y=\"0\" width=\"1681\" height=\"1200\"/>\n",
       "  </clipPath>\n",
       "</defs>\n",
       "<path clip-path=\"url(#clip890)\" d=\"\n",
       "M220.509 1047.7 L2352.76 1047.7 L2352.76 47.2441 L220.509 47.2441  Z\n",
       "  \" fill=\"#ffffff\" fill-rule=\"evenodd\" fill-opacity=\"1\"/>\n",
       "<defs>\n",
       "  <clipPath id=\"clip892\">\n",
       "    <rect x=\"220\" y=\"47\" width=\"2133\" height=\"1001\"/>\n",
       "  </clipPath>\n",
       "</defs>\n",
       "<polyline clip-path=\"url(#clip892)\" style=\"stroke:#000000; stroke-linecap:butt; stroke-linejoin:round; stroke-width:2; stroke-opacity:0.1; fill:none\" points=\"\n",
       "  376.644,1047.7 376.644,47.2441 \n",
       "  \"/>\n",
       "<polyline clip-path=\"url(#clip892)\" style=\"stroke:#000000; stroke-linecap:butt; stroke-linejoin:round; stroke-width:2; stroke-opacity:0.1; fill:none\" points=\"\n",
       "  855.585,1047.7 855.585,47.2441 \n",
       "  \"/>\n",
       "<polyline clip-path=\"url(#clip892)\" style=\"stroke:#000000; stroke-linecap:butt; stroke-linejoin:round; stroke-width:2; stroke-opacity:0.1; fill:none\" points=\"\n",
       "  1334.53,1047.7 1334.53,47.2441 \n",
       "  \"/>\n",
       "<polyline clip-path=\"url(#clip892)\" style=\"stroke:#000000; stroke-linecap:butt; stroke-linejoin:round; stroke-width:2; stroke-opacity:0.1; fill:none\" points=\"\n",
       "  1813.47,1047.7 1813.47,47.2441 \n",
       "  \"/>\n",
       "<polyline clip-path=\"url(#clip892)\" style=\"stroke:#000000; stroke-linecap:butt; stroke-linejoin:round; stroke-width:2; stroke-opacity:0.1; fill:none\" points=\"\n",
       "  2292.41,1047.7 2292.41,47.2441 \n",
       "  \"/>\n",
       "<polyline clip-path=\"url(#clip890)\" style=\"stroke:#000000; stroke-linecap:butt; stroke-linejoin:round; stroke-width:4; stroke-opacity:1; fill:none\" points=\"\n",
       "  220.509,1047.7 2352.76,1047.7 \n",
       "  \"/>\n",
       "<polyline clip-path=\"url(#clip890)\" style=\"stroke:#000000; stroke-linecap:butt; stroke-linejoin:round; stroke-width:4; stroke-opacity:1; fill:none\" points=\"\n",
       "  376.644,1047.7 376.644,1028.8 \n",
       "  \"/>\n",
       "<polyline clip-path=\"url(#clip890)\" style=\"stroke:#000000; stroke-linecap:butt; stroke-linejoin:round; stroke-width:4; stroke-opacity:1; fill:none\" points=\"\n",
       "  855.585,1047.7 855.585,1028.8 \n",
       "  \"/>\n",
       "<polyline clip-path=\"url(#clip890)\" style=\"stroke:#000000; stroke-linecap:butt; stroke-linejoin:round; stroke-width:4; stroke-opacity:1; fill:none\" points=\"\n",
       "  1334.53,1047.7 1334.53,1028.8 \n",
       "  \"/>\n",
       "<polyline clip-path=\"url(#clip890)\" style=\"stroke:#000000; stroke-linecap:butt; stroke-linejoin:round; stroke-width:4; stroke-opacity:1; fill:none\" points=\"\n",
       "  1813.47,1047.7 1813.47,1028.8 \n",
       "  \"/>\n",
       "<polyline clip-path=\"url(#clip890)\" style=\"stroke:#000000; stroke-linecap:butt; stroke-linejoin:round; stroke-width:4; stroke-opacity:1; fill:none\" points=\"\n",
       "  2292.41,1047.7 2292.41,1028.8 \n",
       "  \"/>\n",
       "<path clip-path=\"url(#clip890)\" d=\"M366.922 1075.54 L385.278 1075.54 L385.278 1079.48 L371.204 1079.48 L371.204 1087.95 Q372.223 1087.6 373.241 1087.44 Q374.26 1087.25 375.278 1087.25 Q381.065 1087.25 384.445 1090.42 Q387.825 1093.6 387.825 1099.01 Q387.825 1104.59 384.352 1107.69 Q380.88 1110.77 374.561 1110.77 Q372.385 1110.77 370.116 1110.4 Q367.871 1110.03 365.464 1109.29 L365.464 1104.59 Q367.547 1105.72 369.769 1106.28 Q371.991 1106.84 374.468 1106.84 Q378.473 1106.84 380.811 1104.73 Q383.149 1102.62 383.149 1099.01 Q383.149 1095.4 380.811 1093.29 Q378.473 1091.19 374.468 1091.19 Q372.593 1091.19 370.718 1091.6 Q368.866 1092.02 366.922 1092.9 L366.922 1075.54 Z\" fill=\"#000000\" fill-rule=\"evenodd\" fill-opacity=\"1\" /><path clip-path=\"url(#clip890)\" d=\"M830.273 1106.16 L837.912 1106.16 L837.912 1079.8 L829.602 1081.47 L829.602 1077.21 L837.866 1075.54 L842.542 1075.54 L842.542 1106.16 L850.18 1106.16 L850.18 1110.1 L830.273 1110.1 L830.273 1106.16 Z\" fill=\"#000000\" fill-rule=\"evenodd\" fill-opacity=\"1\" /><path clip-path=\"url(#clip890)\" d=\"M869.625 1078.62 Q866.014 1078.62 864.185 1082.18 Q862.379 1085.72 862.379 1092.85 Q862.379 1099.96 864.185 1103.53 Q866.014 1107.07 869.625 1107.07 Q873.259 1107.07 875.065 1103.53 Q876.893 1099.96 876.893 1092.85 Q876.893 1085.72 875.065 1082.18 Q873.259 1078.62 869.625 1078.62 M869.625 1074.91 Q875.435 1074.91 878.49 1079.52 Q881.569 1084.1 881.569 1092.85 Q881.569 1101.58 878.49 1106.19 Q875.435 1110.77 869.625 1110.77 Q863.815 1110.77 860.736 1106.19 Q857.68 1101.58 857.68 1092.85 Q857.68 1084.1 860.736 1079.52 Q863.815 1074.91 869.625 1074.91 Z\" fill=\"#000000\" fill-rule=\"evenodd\" fill-opacity=\"1\" /><path clip-path=\"url(#clip890)\" d=\"M1309.71 1106.16 L1317.35 1106.16 L1317.35 1079.8 L1309.04 1081.47 L1309.04 1077.21 L1317.3 1075.54 L1321.98 1075.54 L1321.98 1106.16 L1329.62 1106.16 L1329.62 1110.1 L1309.71 1110.1 L1309.71 1106.16 Z\" fill=\"#000000\" fill-rule=\"evenodd\" fill-opacity=\"1\" /><path clip-path=\"url(#clip890)\" d=\"M1339.11 1075.54 L1357.47 1075.54 L1357.47 1079.48 L1343.39 1079.48 L1343.39 1087.95 Q1344.41 1087.6 1345.43 1087.44 Q1346.45 1087.25 1347.47 1087.25 Q1353.25 1087.25 1356.63 1090.42 Q1360.01 1093.6 1360.01 1099.01 Q1360.01 1104.59 1356.54 1107.69 Q1353.07 1110.77 1346.75 1110.77 Q1344.57 1110.77 1342.3 1110.4 Q1340.06 1110.03 1337.65 1109.29 L1337.65 1104.59 Q1339.74 1105.72 1341.96 1106.28 Q1344.18 1106.84 1346.66 1106.84 Q1350.66 1106.84 1353 1104.73 Q1355.34 1102.62 1355.34 1099.01 Q1355.34 1095.4 1353 1093.29 Q1350.66 1091.19 1346.66 1091.19 Q1344.78 1091.19 1342.91 1091.6 Q1341.05 1092.02 1339.11 1092.9 L1339.11 1075.54 Z\" fill=\"#000000\" fill-rule=\"evenodd\" fill-opacity=\"1\" /><path clip-path=\"url(#clip890)\" d=\"M1792.24 1106.16 L1808.56 1106.16 L1808.56 1110.1 L1786.62 1110.1 L1786.62 1106.16 Q1789.28 1103.41 1793.86 1098.78 Q1798.47 1094.13 1799.65 1092.79 Q1801.89 1090.26 1802.77 1088.53 Q1803.68 1086.77 1803.68 1085.08 Q1803.68 1082.32 1801.73 1080.59 Q1799.81 1078.85 1796.71 1078.85 Q1794.51 1078.85 1792.06 1079.61 Q1789.63 1080.38 1786.85 1081.93 L1786.85 1077.21 Q1789.67 1076.07 1792.13 1075.49 Q1794.58 1074.91 1796.62 1074.91 Q1801.99 1074.91 1805.18 1077.6 Q1808.38 1080.29 1808.38 1084.78 Q1808.38 1086.91 1807.57 1088.83 Q1806.78 1090.72 1804.67 1093.32 Q1804.09 1093.99 1800.99 1097.21 Q1797.89 1100.4 1792.24 1106.16 Z\" fill=\"#000000\" fill-rule=\"evenodd\" fill-opacity=\"1\" /><path clip-path=\"url(#clip890)\" d=\"M1828.38 1078.62 Q1824.76 1078.62 1822.94 1082.18 Q1821.13 1085.72 1821.13 1092.85 Q1821.13 1099.96 1822.94 1103.53 Q1824.76 1107.07 1828.38 1107.07 Q1832.01 1107.07 1833.82 1103.53 Q1835.64 1099.96 1835.64 1092.85 Q1835.64 1085.72 1833.82 1082.18 Q1832.01 1078.62 1828.38 1078.62 M1828.38 1074.91 Q1834.19 1074.91 1837.24 1079.52 Q1840.32 1084.1 1840.32 1092.85 Q1840.32 1101.58 1837.24 1106.19 Q1834.19 1110.77 1828.38 1110.77 Q1822.57 1110.77 1819.49 1106.19 Q1816.43 1101.58 1816.43 1092.85 Q1816.43 1084.1 1819.49 1079.52 Q1822.57 1074.91 1828.38 1074.91 Z\" fill=\"#000000\" fill-rule=\"evenodd\" fill-opacity=\"1\" /><path clip-path=\"url(#clip890)\" d=\"M2271.68 1106.16 L2288 1106.16 L2288 1110.1 L2266.06 1110.1 L2266.06 1106.16 Q2268.72 1103.41 2273.3 1098.78 Q2277.91 1094.13 2279.09 1092.79 Q2281.33 1090.26 2282.21 1088.53 Q2283.12 1086.77 2283.12 1085.08 Q2283.12 1082.32 2281.17 1080.59 Q2279.25 1078.85 2276.15 1078.85 Q2273.95 1078.85 2271.5 1079.61 Q2269.06 1080.38 2266.29 1081.93 L2266.29 1077.21 Q2269.11 1076.07 2271.56 1075.49 Q2274.02 1074.91 2276.06 1074.91 Q2281.43 1074.91 2284.62 1077.6 Q2287.81 1080.29 2287.81 1084.78 Q2287.81 1086.91 2287 1088.83 Q2286.22 1090.72 2284.11 1093.32 Q2283.53 1093.99 2280.43 1097.21 Q2277.33 1100.4 2271.68 1106.16 Z\" fill=\"#000000\" fill-rule=\"evenodd\" fill-opacity=\"1\" /><path clip-path=\"url(#clip890)\" d=\"M2297.86 1075.54 L2316.22 1075.54 L2316.22 1079.48 L2302.14 1079.48 L2302.14 1087.95 Q2303.16 1087.6 2304.18 1087.44 Q2305.2 1087.25 2306.22 1087.25 Q2312 1087.25 2315.38 1090.42 Q2318.76 1093.6 2318.76 1099.01 Q2318.76 1104.59 2315.29 1107.69 Q2311.82 1110.77 2305.5 1110.77 Q2303.32 1110.77 2301.06 1110.4 Q2298.81 1110.03 2296.4 1109.29 L2296.4 1104.59 Q2298.49 1105.72 2300.71 1106.28 Q2302.93 1106.84 2305.41 1106.84 Q2309.41 1106.84 2311.75 1104.73 Q2314.09 1102.62 2314.09 1099.01 Q2314.09 1095.4 2311.75 1093.29 Q2309.41 1091.19 2305.41 1091.19 Q2303.53 1091.19 2301.66 1091.6 Q2299.81 1092.02 2297.86 1092.9 L2297.86 1075.54 Z\" fill=\"#000000\" fill-rule=\"evenodd\" fill-opacity=\"1\" /><path clip-path=\"url(#clip890)\" d=\"M1220.16 1146.6 L1220.16 1152.87 Q1216.5 1151.12 1213.25 1150.26 Q1210.01 1149.4 1206.98 1149.4 Q1201.73 1149.4 1198.87 1151.44 Q1196.03 1153.48 1196.03 1157.23 Q1196.03 1160.39 1197.91 1162.01 Q1199.82 1163.6 1205.1 1164.59 L1208.99 1165.38 Q1216.18 1166.75 1219.59 1170.22 Q1223.02 1173.66 1223.02 1179.45 Q1223.02 1186.36 1218.38 1189.92 Q1213.76 1193.49 1204.82 1193.49 Q1201.44 1193.49 1197.62 1192.72 Q1193.84 1191.96 1189.76 1190.46 L1189.76 1183.84 Q1193.68 1186.04 1197.43 1187.15 Q1201.19 1188.27 1204.82 1188.27 Q1210.32 1188.27 1213.32 1186.1 Q1216.31 1183.94 1216.31 1179.93 Q1216.31 1176.43 1214.14 1174.45 Q1212.01 1172.48 1207.11 1171.49 L1203.19 1170.73 Q1196 1169.3 1192.79 1166.24 Q1189.57 1163.19 1189.57 1157.74 Q1189.57 1151.44 1194 1147.81 Q1198.45 1144.18 1206.25 1144.18 Q1209.59 1144.18 1213.06 1144.79 Q1216.53 1145.39 1220.16 1146.6 Z\" fill=\"#000000\" fill-rule=\"evenodd\" fill-opacity=\"1\" /><path clip-path=\"url(#clip890)\" d=\"M1238.46 1187.22 L1238.46 1206.12 L1232.57 1206.12 L1232.57 1156.92 L1238.46 1156.92 L1238.46 1162.33 Q1240.31 1159.14 1243.11 1157.62 Q1245.94 1156.06 1249.85 1156.06 Q1256.35 1156.06 1260.39 1161.21 Q1264.46 1166.37 1264.46 1174.77 Q1264.46 1183.17 1260.39 1188.33 Q1256.35 1193.49 1249.85 1193.49 Q1245.94 1193.49 1243.11 1191.96 Q1240.31 1190.4 1238.46 1187.22 M1258.38 1174.77 Q1258.38 1168.31 1255.71 1164.65 Q1253.07 1160.96 1248.42 1160.96 Q1243.78 1160.96 1241.1 1164.65 Q1238.46 1168.31 1238.46 1174.77 Q1238.46 1181.23 1241.1 1184.92 Q1243.78 1188.59 1248.42 1188.59 Q1253.07 1188.59 1255.71 1184.92 Q1258.38 1181.23 1258.38 1174.77 Z\" fill=\"#000000\" fill-rule=\"evenodd\" fill-opacity=\"1\" /><path clip-path=\"url(#clip890)\" d=\"M1304.66 1173.28 L1304.66 1176.14 L1277.74 1176.14 Q1278.12 1182.19 1281.37 1185.37 Q1284.64 1188.52 1290.47 1188.52 Q1293.84 1188.52 1296.99 1187.69 Q1300.18 1186.87 1303.29 1185.21 L1303.29 1190.75 Q1300.14 1192.09 1296.83 1192.79 Q1293.52 1193.49 1290.12 1193.49 Q1281.59 1193.49 1276.59 1188.52 Q1271.63 1183.56 1271.63 1175.09 Q1271.63 1166.34 1276.34 1161.21 Q1281.08 1156.06 1289.1 1156.06 Q1296.29 1156.06 1300.46 1160.7 Q1304.66 1165.32 1304.66 1173.28 M1298.81 1171.56 Q1298.74 1166.75 1296.1 1163.89 Q1293.49 1161.02 1289.16 1161.02 Q1284.26 1161.02 1281.3 1163.79 Q1278.37 1166.56 1277.93 1171.59 L1298.81 1171.56 Z\" fill=\"#000000\" fill-rule=\"evenodd\" fill-opacity=\"1\" /><path clip-path=\"url(#clip890)\" d=\"M1344.77 1173.28 L1344.77 1176.14 L1317.84 1176.14 Q1318.22 1182.19 1321.47 1185.37 Q1324.75 1188.52 1330.57 1188.52 Q1333.95 1188.52 1337.1 1187.69 Q1340.28 1186.87 1343.4 1185.21 L1343.4 1190.75 Q1340.25 1192.09 1336.94 1192.79 Q1333.63 1193.49 1330.22 1193.49 Q1321.69 1193.49 1316.69 1188.52 Q1311.73 1183.56 1311.73 1175.09 Q1311.73 1166.34 1316.44 1161.21 Q1321.18 1156.06 1329.2 1156.06 Q1336.4 1156.06 1340.57 1160.7 Q1344.77 1165.32 1344.77 1173.28 M1338.91 1171.56 Q1338.85 1166.75 1336.21 1163.89 Q1333.6 1161.02 1329.27 1161.02 Q1324.37 1161.02 1321.41 1163.79 Q1318.48 1166.56 1318.03 1171.59 L1338.91 1171.56 Z\" fill=\"#000000\" fill-rule=\"evenodd\" fill-opacity=\"1\" /><path clip-path=\"url(#clip890)\" d=\"M1377.84 1162.33 L1377.84 1143.04 L1383.69 1143.04 L1383.69 1192.56 L1377.84 1192.56 L1377.84 1187.22 Q1375.99 1190.4 1373.16 1191.96 Q1370.36 1193.49 1366.41 1193.49 Q1359.95 1193.49 1355.88 1188.33 Q1351.83 1183.17 1351.83 1174.77 Q1351.83 1166.37 1355.88 1161.21 Q1359.95 1156.06 1366.41 1156.06 Q1370.36 1156.06 1373.16 1157.62 Q1375.99 1159.14 1377.84 1162.33 M1357.88 1174.77 Q1357.88 1181.23 1360.52 1184.92 Q1363.2 1188.59 1367.84 1188.59 Q1372.49 1188.59 1375.16 1184.92 Q1377.84 1181.23 1377.84 1174.77 Q1377.84 1168.31 1375.16 1164.65 Q1372.49 1160.96 1367.84 1160.96 Q1363.2 1160.96 1360.52 1164.65 Q1357.88 1168.31 1357.88 1174.77 Z\" fill=\"#000000\" fill-rule=\"evenodd\" fill-opacity=\"1\" /><polyline clip-path=\"url(#clip892)\" style=\"stroke:#000000; stroke-linecap:butt; stroke-linejoin:round; stroke-width:2; stroke-opacity:0.1; fill:none\" points=\"\n",
       "  220.509,1035.38 2352.76,1035.38 \n",
       "  \"/>\n",
       "<polyline clip-path=\"url(#clip892)\" style=\"stroke:#000000; stroke-linecap:butt; stroke-linejoin:round; stroke-width:2; stroke-opacity:0.1; fill:none\" points=\"\n",
       "  220.509,835.419 2352.76,835.419 \n",
       "  \"/>\n",
       "<polyline clip-path=\"url(#clip892)\" style=\"stroke:#000000; stroke-linecap:butt; stroke-linejoin:round; stroke-width:2; stroke-opacity:0.1; fill:none\" points=\"\n",
       "  220.509,635.456 2352.76,635.456 \n",
       "  \"/>\n",
       "<polyline clip-path=\"url(#clip892)\" style=\"stroke:#000000; stroke-linecap:butt; stroke-linejoin:round; stroke-width:2; stroke-opacity:0.1; fill:none\" points=\"\n",
       "  220.509,435.493 2352.76,435.493 \n",
       "  \"/>\n",
       "<polyline clip-path=\"url(#clip892)\" style=\"stroke:#000000; stroke-linecap:butt; stroke-linejoin:round; stroke-width:2; stroke-opacity:0.1; fill:none\" points=\"\n",
       "  220.509,235.529 2352.76,235.529 \n",
       "  \"/>\n",
       "<polyline clip-path=\"url(#clip890)\" style=\"stroke:#000000; stroke-linecap:butt; stroke-linejoin:round; stroke-width:4; stroke-opacity:1; fill:none\" points=\"\n",
       "  220.509,1047.7 220.509,47.2441 \n",
       "  \"/>\n",
       "<polyline clip-path=\"url(#clip890)\" style=\"stroke:#000000; stroke-linecap:butt; stroke-linejoin:round; stroke-width:4; stroke-opacity:1; fill:none\" points=\"\n",
       "  220.509,1035.38 239.407,1035.38 \n",
       "  \"/>\n",
       "<polyline clip-path=\"url(#clip890)\" style=\"stroke:#000000; stroke-linecap:butt; stroke-linejoin:round; stroke-width:4; stroke-opacity:1; fill:none\" points=\"\n",
       "  220.509,835.419 239.407,835.419 \n",
       "  \"/>\n",
       "<polyline clip-path=\"url(#clip890)\" style=\"stroke:#000000; stroke-linecap:butt; stroke-linejoin:round; stroke-width:4; stroke-opacity:1; fill:none\" points=\"\n",
       "  220.509,635.456 239.407,635.456 \n",
       "  \"/>\n",
       "<polyline clip-path=\"url(#clip890)\" style=\"stroke:#000000; stroke-linecap:butt; stroke-linejoin:round; stroke-width:4; stroke-opacity:1; fill:none\" points=\"\n",
       "  220.509,435.493 239.407,435.493 \n",
       "  \"/>\n",
       "<polyline clip-path=\"url(#clip890)\" style=\"stroke:#000000; stroke-linecap:butt; stroke-linejoin:round; stroke-width:4; stroke-opacity:1; fill:none\" points=\"\n",
       "  220.509,235.529 239.407,235.529 \n",
       "  \"/>\n",
       "<path clip-path=\"url(#clip890)\" d=\"M172.565 1021.18 Q168.954 1021.18 167.125 1024.75 Q165.32 1028.29 165.32 1035.42 Q165.32 1042.52 167.125 1046.09 Q168.954 1049.63 172.565 1049.63 Q176.199 1049.63 178.005 1046.09 Q179.833 1042.52 179.833 1035.42 Q179.833 1028.29 178.005 1024.75 Q176.199 1021.18 172.565 1021.18 M172.565 1017.48 Q178.375 1017.48 181.431 1022.08 Q184.509 1026.67 184.509 1035.42 Q184.509 1044.14 181.431 1048.75 Q178.375 1053.33 172.565 1053.33 Q166.755 1053.33 163.676 1048.75 Q160.621 1044.14 160.621 1035.42 Q160.621 1026.67 163.676 1022.08 Q166.755 1017.48 172.565 1017.48 Z\" fill=\"#000000\" fill-rule=\"evenodd\" fill-opacity=\"1\" /><path clip-path=\"url(#clip890)\" d=\"M137.426 848.764 L153.746 848.764 L153.746 852.699 L131.801 852.699 L131.801 848.764 Q134.463 846.009 139.047 841.38 Q143.653 836.727 144.834 835.384 Q147.079 832.861 147.959 831.125 Q148.861 829.366 148.861 827.676 Q148.861 824.921 146.917 823.185 Q144.996 821.449 141.894 821.449 Q139.695 821.449 137.241 822.213 Q134.811 822.977 132.033 824.528 L132.033 819.806 Q134.857 818.671 137.311 818.093 Q139.764 817.514 141.801 817.514 Q147.172 817.514 150.366 820.199 Q153.56 822.884 153.56 827.375 Q153.56 829.505 152.75 831.426 Q151.963 833.324 149.857 835.917 Q149.278 836.588 146.176 839.805 Q143.074 843 137.426 848.764 Z\" fill=\"#000000\" fill-rule=\"evenodd\" fill-opacity=\"1\" /><path clip-path=\"url(#clip890)\" d=\"M163.607 818.139 L181.963 818.139 L181.963 822.074 L167.889 822.074 L167.889 830.546 Q168.908 830.199 169.926 830.037 Q170.945 829.852 171.963 829.852 Q177.75 829.852 181.13 833.023 Q184.509 836.194 184.509 841.611 Q184.509 847.19 181.037 850.292 Q177.565 853.37 171.246 853.37 Q169.07 853.37 166.801 853 Q164.556 852.629 162.148 851.889 L162.148 847.19 Q164.232 848.324 166.454 848.88 Q168.676 849.435 171.153 849.435 Q175.158 849.435 177.495 847.329 Q179.833 845.222 179.833 841.611 Q179.833 838 177.495 835.893 Q175.158 833.787 171.153 833.787 Q169.278 833.787 167.403 834.204 Q165.551 834.62 163.607 835.5 L163.607 818.139 Z\" fill=\"#000000\" fill-rule=\"evenodd\" fill-opacity=\"1\" /><path clip-path=\"url(#clip890)\" d=\"M132.449 618.176 L150.806 618.176 L150.806 622.111 L136.732 622.111 L136.732 630.583 Q137.75 630.236 138.769 630.074 Q139.787 629.889 140.806 629.889 Q146.593 629.889 149.972 633.06 Q153.352 636.231 153.352 641.648 Q153.352 647.227 149.88 650.328 Q146.408 653.407 140.088 653.407 Q137.912 653.407 135.644 653.037 Q133.399 652.666 130.991 651.926 L130.991 647.227 Q133.074 648.361 135.297 648.916 Q137.519 649.472 139.996 649.472 Q144 649.472 146.338 647.365 Q148.676 645.259 148.676 641.648 Q148.676 638.037 146.338 635.93 Q144 633.824 139.996 633.824 Q138.121 633.824 136.246 634.24 Q134.394 634.657 132.449 635.537 L132.449 618.176 Z\" fill=\"#000000\" fill-rule=\"evenodd\" fill-opacity=\"1\" /><path clip-path=\"url(#clip890)\" d=\"M172.565 621.254 Q168.954 621.254 167.125 624.819 Q165.32 628.361 165.32 635.49 Q165.32 642.597 167.125 646.162 Q168.954 649.703 172.565 649.703 Q176.199 649.703 178.005 646.162 Q179.833 642.597 179.833 635.49 Q179.833 628.361 178.005 624.819 Q176.199 621.254 172.565 621.254 M172.565 617.551 Q178.375 617.551 181.431 622.157 Q184.509 626.741 184.509 635.49 Q184.509 644.217 181.431 648.824 Q178.375 653.407 172.565 653.407 Q166.755 653.407 163.676 648.824 Q160.621 644.217 160.621 635.49 Q160.621 626.741 163.676 622.157 Q166.755 617.551 172.565 617.551 Z\" fill=\"#000000\" fill-rule=\"evenodd\" fill-opacity=\"1\" /><path clip-path=\"url(#clip890)\" d=\"M132.218 418.213 L154.44 418.213 L154.44 420.203 L141.894 452.773 L137.01 452.773 L148.815 422.148 L132.218 422.148 L132.218 418.213 Z\" fill=\"#000000\" fill-rule=\"evenodd\" fill-opacity=\"1\" /><path clip-path=\"url(#clip890)\" d=\"M163.607 418.213 L181.963 418.213 L181.963 422.148 L167.889 422.148 L167.889 430.62 Q168.908 430.273 169.926 430.111 Q170.945 429.925 171.963 429.925 Q177.75 429.925 181.13 433.097 Q184.509 436.268 184.509 441.685 Q184.509 447.263 181.037 450.365 Q177.565 453.444 171.246 453.444 Q169.07 453.444 166.801 453.074 Q164.556 452.703 162.148 451.962 L162.148 447.263 Q164.232 448.398 166.454 448.953 Q168.676 449.509 171.153 449.509 Q175.158 449.509 177.495 447.402 Q179.833 445.296 179.833 441.685 Q179.833 438.074 177.495 435.967 Q175.158 433.861 171.153 433.861 Q169.278 433.861 167.403 434.277 Q165.551 434.694 163.607 435.574 L163.607 418.213 Z\" fill=\"#000000\" fill-rule=\"evenodd\" fill-opacity=\"1\" /><path clip-path=\"url(#clip890)\" d=\"M103.051 248.874 L110.69 248.874 L110.69 222.509 L102.38 224.175 L102.38 219.916 L110.644 218.249 L115.32 218.249 L115.32 248.874 L122.959 248.874 L122.959 252.809 L103.051 252.809 L103.051 248.874 Z\" fill=\"#000000\" fill-rule=\"evenodd\" fill-opacity=\"1\" /><path clip-path=\"url(#clip890)\" d=\"M142.403 221.328 Q138.792 221.328 136.963 224.893 Q135.158 228.435 135.158 235.564 Q135.158 242.671 136.963 246.235 Q138.792 249.777 142.403 249.777 Q146.037 249.777 147.843 246.235 Q149.672 242.671 149.672 235.564 Q149.672 228.435 147.843 224.893 Q146.037 221.328 142.403 221.328 M142.403 217.624 Q148.213 217.624 151.269 222.231 Q154.347 226.814 154.347 235.564 Q154.347 244.291 151.269 248.897 Q148.213 253.481 142.403 253.481 Q136.593 253.481 133.514 248.897 Q130.459 244.291 130.459 235.564 Q130.459 226.814 133.514 222.231 Q136.593 217.624 142.403 217.624 Z\" fill=\"#000000\" fill-rule=\"evenodd\" fill-opacity=\"1\" /><path clip-path=\"url(#clip890)\" d=\"M172.565 221.328 Q168.954 221.328 167.125 224.893 Q165.32 228.435 165.32 235.564 Q165.32 242.671 167.125 246.235 Q168.954 249.777 172.565 249.777 Q176.199 249.777 178.005 246.235 Q179.833 242.671 179.833 235.564 Q179.833 228.435 178.005 224.893 Q176.199 221.328 172.565 221.328 M172.565 217.624 Q178.375 217.624 181.431 222.231 Q184.509 226.814 184.509 235.564 Q184.509 244.291 181.431 248.897 Q178.375 253.481 172.565 253.481 Q166.755 253.481 163.676 248.897 Q160.621 244.291 160.621 235.564 Q160.621 226.814 163.676 222.231 Q166.755 217.624 172.565 217.624 Z\" fill=\"#000000\" fill-rule=\"evenodd\" fill-opacity=\"1\" /><path clip-path=\"url(#clip890)\" d=\"M9.88769 600.976 L46.8406 600.976 L46.8406 593.21 Q46.8406 583.375 42.3846 578.823 Q37.9286 574.24 28.3164 574.24 Q18.7679 574.24 14.3437 578.823 Q9.88769 583.375 9.88769 593.21 L9.88769 600.976 M4.60416 607.405 L4.60416 594.196 Q4.60416 580.383 10.3651 573.921 Q16.0943 567.46 28.3164 567.46 Q40.6022 567.46 46.3632 573.953 Q52.1242 580.446 52.1242 594.196 L52.1242 607.405 L4.60416 607.405 Z\" fill=\"#000000\" fill-rule=\"evenodd\" fill-opacity=\"1\" /><path clip-path=\"url(#clip890)\" d=\"M16.4762 557.466 L16.4762 551.61 L52.1242 551.61 L52.1242 557.466 L16.4762 557.466 M2.59896 557.466 L2.59896 551.61 L10.015 551.61 L10.015 557.466 L2.59896 557.466 Z\" fill=\"#000000\" fill-rule=\"evenodd\" fill-opacity=\"1\" /><path clip-path=\"url(#clip890)\" d=\"M17.5265 516.63 L23.0647 516.63 Q21.7916 519.113 21.155 521.786 Q20.5184 524.46 20.5184 527.325 Q20.5184 531.685 21.8552 533.881 Q23.192 536.046 25.8656 536.046 Q27.9026 536.046 29.0803 534.486 Q30.2261 532.926 31.2765 528.216 L31.7221 526.211 Q33.0589 519.972 35.5097 517.362 Q37.9286 514.72 42.2891 514.72 Q47.2544 514.72 50.1508 518.667 Q53.0472 522.582 53.0472 529.457 Q53.0472 532.322 52.4743 535.441 Q51.9332 538.528 50.8192 541.966 L44.7718 541.966 Q46.4587 538.719 47.318 535.568 Q48.1456 532.417 48.1456 529.33 Q48.1456 525.192 46.7451 522.964 Q45.3129 520.736 42.7347 520.736 Q40.3476 520.736 39.0745 522.359 Q37.8013 523.951 36.6237 529.393 L36.1462 531.43 Q35.0004 536.873 32.6451 539.292 Q30.258 541.711 26.1202 541.711 Q21.0913 541.711 18.3541 538.146 Q15.6168 534.581 15.6168 528.025 Q15.6168 524.778 16.0943 521.914 Q16.5717 519.049 17.5265 516.63 Z\" fill=\"#000000\" fill-rule=\"evenodd\" fill-opacity=\"1\" /><path clip-path=\"url(#clip890)\" d=\"M6.35473 499.602 L16.4762 499.602 L16.4762 487.539 L21.0277 487.539 L21.0277 499.602 L40.3794 499.602 Q44.7399 499.602 45.9813 498.424 Q47.2226 497.215 47.2226 493.554 L47.2226 487.539 L52.1242 487.539 L52.1242 493.554 Q52.1242 500.334 49.6097 502.912 Q47.0634 505.49 40.3794 505.49 L21.0277 505.49 L21.0277 509.787 L16.4762 509.787 L16.4762 505.49 L6.35473 505.49 L6.35473 499.602 Z\" fill=\"#000000\" fill-rule=\"evenodd\" fill-opacity=\"1\" /><circle clip-path=\"url(#clip892)\" cx=\"280.856\" cy=\"1019.39\" r=\"14\" fill=\"#009af9\" fill-rule=\"evenodd\" fill-opacity=\"1\" stroke=\"#000000\" stroke-opacity=\"1\" stroke-width=\"2.4\"/>\n",
       "<circle clip-path=\"url(#clip892)\" cx=\"280.856\" cy=\"955.397\" r=\"14\" fill=\"#009af9\" fill-rule=\"evenodd\" fill-opacity=\"1\" stroke=\"#000000\" stroke-opacity=\"1\" stroke-width=\"2.4\"/>\n",
       "<circle clip-path=\"url(#clip892)\" cx=\"568.221\" cy=\"1003.39\" r=\"14\" fill=\"#009af9\" fill-rule=\"evenodd\" fill-opacity=\"1\" stroke=\"#000000\" stroke-opacity=\"1\" stroke-width=\"2.4\"/>\n",
       "<circle clip-path=\"url(#clip892)\" cx=\"568.221\" cy=\"859.415\" r=\"14\" fill=\"#009af9\" fill-rule=\"evenodd\" fill-opacity=\"1\" stroke=\"#000000\" stroke-opacity=\"1\" stroke-width=\"2.4\"/>\n",
       "<circle clip-path=\"url(#clip892)\" cx=\"664.009\" cy=\"907.406\" r=\"14\" fill=\"#009af9\" fill-rule=\"evenodd\" fill-opacity=\"1\" stroke=\"#000000\" stroke-opacity=\"1\" stroke-width=\"2.4\"/>\n",
       "<circle clip-path=\"url(#clip892)\" cx=\"759.797\" cy=\"955.397\" r=\"14\" fill=\"#009af9\" fill-rule=\"evenodd\" fill-opacity=\"1\" stroke=\"#000000\" stroke-opacity=\"1\" stroke-width=\"2.4\"/>\n",
       "<circle clip-path=\"url(#clip892)\" cx=\"855.585\" cy=\"891.409\" r=\"14\" fill=\"#009af9\" fill-rule=\"evenodd\" fill-opacity=\"1\" stroke=\"#000000\" stroke-opacity=\"1\" stroke-width=\"2.4\"/>\n",
       "<circle clip-path=\"url(#clip892)\" cx=\"855.585\" cy=\"827.42\" r=\"14\" fill=\"#009af9\" fill-rule=\"evenodd\" fill-opacity=\"1\" stroke=\"#000000\" stroke-opacity=\"1\" stroke-width=\"2.4\"/>\n",
       "<circle clip-path=\"url(#clip892)\" cx=\"855.585\" cy=\"763.432\" r=\"14\" fill=\"#009af9\" fill-rule=\"evenodd\" fill-opacity=\"1\" stroke=\"#000000\" stroke-opacity=\"1\" stroke-width=\"2.4\"/>\n",
       "<circle clip-path=\"url(#clip892)\" cx=\"951.374\" cy=\"899.407\" r=\"14\" fill=\"#009af9\" fill-rule=\"evenodd\" fill-opacity=\"1\" stroke=\"#000000\" stroke-opacity=\"1\" stroke-width=\"2.4\"/>\n",
       "<circle clip-path=\"url(#clip892)\" cx=\"951.374\" cy=\"811.423\" r=\"14\" fill=\"#009af9\" fill-rule=\"evenodd\" fill-opacity=\"1\" stroke=\"#000000\" stroke-opacity=\"1\" stroke-width=\"2.4\"/>\n",
       "<circle clip-path=\"url(#clip892)\" cx=\"1047.16\" cy=\"923.403\" r=\"14\" fill=\"#009af9\" fill-rule=\"evenodd\" fill-opacity=\"1\" stroke=\"#000000\" stroke-opacity=\"1\" stroke-width=\"2.4\"/>\n",
       "<circle clip-path=\"url(#clip892)\" cx=\"1047.16\" cy=\"875.412\" r=\"14\" fill=\"#009af9\" fill-rule=\"evenodd\" fill-opacity=\"1\" stroke=\"#000000\" stroke-opacity=\"1\" stroke-width=\"2.4\"/>\n",
       "<circle clip-path=\"url(#clip892)\" cx=\"1047.16\" cy=\"843.417\" r=\"14\" fill=\"#009af9\" fill-rule=\"evenodd\" fill-opacity=\"1\" stroke=\"#000000\" stroke-opacity=\"1\" stroke-width=\"2.4\"/>\n",
       "<circle clip-path=\"url(#clip892)\" cx=\"1047.16\" cy=\"811.423\" r=\"14\" fill=\"#009af9\" fill-rule=\"evenodd\" fill-opacity=\"1\" stroke=\"#000000\" stroke-opacity=\"1\" stroke-width=\"2.4\"/>\n",
       "<circle clip-path=\"url(#clip892)\" cx=\"1142.95\" cy=\"827.42\" r=\"14\" fill=\"#009af9\" fill-rule=\"evenodd\" fill-opacity=\"1\" stroke=\"#000000\" stroke-opacity=\"1\" stroke-width=\"2.4\"/>\n",
       "<circle clip-path=\"url(#clip892)\" cx=\"1142.95\" cy=\"763.432\" r=\"14\" fill=\"#009af9\" fill-rule=\"evenodd\" fill-opacity=\"1\" stroke=\"#000000\" stroke-opacity=\"1\" stroke-width=\"2.4\"/>\n",
       "<circle clip-path=\"url(#clip892)\" cx=\"1142.95\" cy=\"763.432\" r=\"14\" fill=\"#009af9\" fill-rule=\"evenodd\" fill-opacity=\"1\" stroke=\"#000000\" stroke-opacity=\"1\" stroke-width=\"2.4\"/>\n",
       "<circle clip-path=\"url(#clip892)\" cx=\"1142.95\" cy=\"667.45\" r=\"14\" fill=\"#009af9\" fill-rule=\"evenodd\" fill-opacity=\"1\" stroke=\"#000000\" stroke-opacity=\"1\" stroke-width=\"2.4\"/>\n",
       "<circle clip-path=\"url(#clip892)\" cx=\"1238.74\" cy=\"827.42\" r=\"14\" fill=\"#009af9\" fill-rule=\"evenodd\" fill-opacity=\"1\" stroke=\"#000000\" stroke-opacity=\"1\" stroke-width=\"2.4\"/>\n",
       "<circle clip-path=\"url(#clip892)\" cx=\"1238.74\" cy=\"747.435\" r=\"14\" fill=\"#009af9\" fill-rule=\"evenodd\" fill-opacity=\"1\" stroke=\"#000000\" stroke-opacity=\"1\" stroke-width=\"2.4\"/>\n",
       "<circle clip-path=\"url(#clip892)\" cx=\"1238.74\" cy=\"555.47\" r=\"14\" fill=\"#009af9\" fill-rule=\"evenodd\" fill-opacity=\"1\" stroke=\"#000000\" stroke-opacity=\"1\" stroke-width=\"2.4\"/>\n",
       "<circle clip-path=\"url(#clip892)\" cx=\"1238.74\" cy=\"395.5\" r=\"14\" fill=\"#009af9\" fill-rule=\"evenodd\" fill-opacity=\"1\" stroke=\"#000000\" stroke-opacity=\"1\" stroke-width=\"2.4\"/>\n",
       "<circle clip-path=\"url(#clip892)\" cx=\"1334.53\" cy=\"875.412\" r=\"14\" fill=\"#009af9\" fill-rule=\"evenodd\" fill-opacity=\"1\" stroke=\"#000000\" stroke-opacity=\"1\" stroke-width=\"2.4\"/>\n",
       "<circle clip-path=\"url(#clip892)\" cx=\"1334.53\" cy=\"827.42\" r=\"14\" fill=\"#009af9\" fill-rule=\"evenodd\" fill-opacity=\"1\" stroke=\"#000000\" stroke-opacity=\"1\" stroke-width=\"2.4\"/>\n",
       "<circle clip-path=\"url(#clip892)\" cx=\"1334.53\" cy=\"603.462\" r=\"14\" fill=\"#009af9\" fill-rule=\"evenodd\" fill-opacity=\"1\" stroke=\"#000000\" stroke-opacity=\"1\" stroke-width=\"2.4\"/>\n",
       "<circle clip-path=\"url(#clip892)\" cx=\"1430.32\" cy=\"779.429\" r=\"14\" fill=\"#009af9\" fill-rule=\"evenodd\" fill-opacity=\"1\" stroke=\"#000000\" stroke-opacity=\"1\" stroke-width=\"2.4\"/>\n",
       "<circle clip-path=\"url(#clip892)\" cx=\"1430.32\" cy=\"715.441\" r=\"14\" fill=\"#009af9\" fill-rule=\"evenodd\" fill-opacity=\"1\" stroke=\"#000000\" stroke-opacity=\"1\" stroke-width=\"2.4\"/>\n",
       "<circle clip-path=\"url(#clip892)\" cx=\"1526.1\" cy=\"779.429\" r=\"14\" fill=\"#009af9\" fill-rule=\"evenodd\" fill-opacity=\"1\" stroke=\"#000000\" stroke-opacity=\"1\" stroke-width=\"2.4\"/>\n",
       "<circle clip-path=\"url(#clip892)\" cx=\"1526.1\" cy=\"715.441\" r=\"14\" fill=\"#009af9\" fill-rule=\"evenodd\" fill-opacity=\"1\" stroke=\"#000000\" stroke-opacity=\"1\" stroke-width=\"2.4\"/>\n",
       "<circle clip-path=\"url(#clip892)\" cx=\"1526.1\" cy=\"635.456\" r=\"14\" fill=\"#009af9\" fill-rule=\"evenodd\" fill-opacity=\"1\" stroke=\"#000000\" stroke-opacity=\"1\" stroke-width=\"2.4\"/>\n",
       "<circle clip-path=\"url(#clip892)\" cx=\"1621.89\" cy=\"699.444\" r=\"14\" fill=\"#009af9\" fill-rule=\"evenodd\" fill-opacity=\"1\" stroke=\"#000000\" stroke-opacity=\"1\" stroke-width=\"2.4\"/>\n",
       "<circle clip-path=\"url(#clip892)\" cx=\"1621.89\" cy=\"587.465\" r=\"14\" fill=\"#009af9\" fill-rule=\"evenodd\" fill-opacity=\"1\" stroke=\"#000000\" stroke-opacity=\"1\" stroke-width=\"2.4\"/>\n",
       "<circle clip-path=\"url(#clip892)\" cx=\"1621.89\" cy=\"427.494\" r=\"14\" fill=\"#009af9\" fill-rule=\"evenodd\" fill-opacity=\"1\" stroke=\"#000000\" stroke-opacity=\"1\" stroke-width=\"2.4\"/>\n",
       "<circle clip-path=\"url(#clip892)\" cx=\"1621.89\" cy=\"363.506\" r=\"14\" fill=\"#009af9\" fill-rule=\"evenodd\" fill-opacity=\"1\" stroke=\"#000000\" stroke-opacity=\"1\" stroke-width=\"2.4\"/>\n",
       "<circle clip-path=\"url(#clip892)\" cx=\"1717.68\" cy=\"747.435\" r=\"14\" fill=\"#009af9\" fill-rule=\"evenodd\" fill-opacity=\"1\" stroke=\"#000000\" stroke-opacity=\"1\" stroke-width=\"2.4\"/>\n",
       "<circle clip-path=\"url(#clip892)\" cx=\"1717.68\" cy=\"667.45\" r=\"14\" fill=\"#009af9\" fill-rule=\"evenodd\" fill-opacity=\"1\" stroke=\"#000000\" stroke-opacity=\"1\" stroke-width=\"2.4\"/>\n",
       "<circle clip-path=\"url(#clip892)\" cx=\"1717.68\" cy=\"491.482\" r=\"14\" fill=\"#009af9\" fill-rule=\"evenodd\" fill-opacity=\"1\" stroke=\"#000000\" stroke-opacity=\"1\" stroke-width=\"2.4\"/>\n",
       "<circle clip-path=\"url(#clip892)\" cx=\"1813.47\" cy=\"779.429\" r=\"14\" fill=\"#009af9\" fill-rule=\"evenodd\" fill-opacity=\"1\" stroke=\"#000000\" stroke-opacity=\"1\" stroke-width=\"2.4\"/>\n",
       "<circle clip-path=\"url(#clip892)\" cx=\"1813.47\" cy=\"651.453\" r=\"14\" fill=\"#009af9\" fill-rule=\"evenodd\" fill-opacity=\"1\" stroke=\"#000000\" stroke-opacity=\"1\" stroke-width=\"2.4\"/>\n",
       "<circle clip-path=\"url(#clip892)\" cx=\"1813.47\" cy=\"619.459\" r=\"14\" fill=\"#009af9\" fill-rule=\"evenodd\" fill-opacity=\"1\" stroke=\"#000000\" stroke-opacity=\"1\" stroke-width=\"2.4\"/>\n",
       "<circle clip-path=\"url(#clip892)\" cx=\"1813.47\" cy=\"587.465\" r=\"14\" fill=\"#009af9\" fill-rule=\"evenodd\" fill-opacity=\"1\" stroke=\"#000000\" stroke-opacity=\"1\" stroke-width=\"2.4\"/>\n",
       "<circle clip-path=\"url(#clip892)\" cx=\"1813.47\" cy=\"523.476\" r=\"14\" fill=\"#009af9\" fill-rule=\"evenodd\" fill-opacity=\"1\" stroke=\"#000000\" stroke-opacity=\"1\" stroke-width=\"2.4\"/>\n",
       "<circle clip-path=\"url(#clip892)\" cx=\"2005.04\" cy=\"507.479\" r=\"14\" fill=\"#009af9\" fill-rule=\"evenodd\" fill-opacity=\"1\" stroke=\"#000000\" stroke-opacity=\"1\" stroke-width=\"2.4\"/>\n",
       "<circle clip-path=\"url(#clip892)\" cx=\"2100.83\" cy=\"603.462\" r=\"14\" fill=\"#009af9\" fill-rule=\"evenodd\" fill-opacity=\"1\" stroke=\"#000000\" stroke-opacity=\"1\" stroke-width=\"2.4\"/>\n",
       "<circle clip-path=\"url(#clip892)\" cx=\"2196.62\" cy=\"475.485\" r=\"14\" fill=\"#009af9\" fill-rule=\"evenodd\" fill-opacity=\"1\" stroke=\"#000000\" stroke-opacity=\"1\" stroke-width=\"2.4\"/>\n",
       "<circle clip-path=\"url(#clip892)\" cx=\"2196.62\" cy=\"299.518\" r=\"14\" fill=\"#009af9\" fill-rule=\"evenodd\" fill-opacity=\"1\" stroke=\"#000000\" stroke-opacity=\"1\" stroke-width=\"2.4\"/>\n",
       "<circle clip-path=\"url(#clip892)\" cx=\"2196.62\" cy=\"291.519\" r=\"14\" fill=\"#009af9\" fill-rule=\"evenodd\" fill-opacity=\"1\" stroke=\"#000000\" stroke-opacity=\"1\" stroke-width=\"2.4\"/>\n",
       "<circle clip-path=\"url(#clip892)\" cx=\"2196.62\" cy=\"75.5589\" r=\"14\" fill=\"#009af9\" fill-rule=\"evenodd\" fill-opacity=\"1\" stroke=\"#000000\" stroke-opacity=\"1\" stroke-width=\"2.4\"/>\n",
       "<circle clip-path=\"url(#clip892)\" cx=\"2292.41\" cy=\"355.507\" r=\"14\" fill=\"#009af9\" fill-rule=\"evenodd\" fill-opacity=\"1\" stroke=\"#000000\" stroke-opacity=\"1\" stroke-width=\"2.4\"/>\n",
       "</svg>\n"
      ]
     },
     "execution_count": 43,
     "metadata": {},
     "output_type": "execute_result"
    }
   ],
   "source": [
    "scatter(data_cars[:,\"Speed\"], data_cars[:,\"Dist\"], \n",
    "            legend=false, \n",
    "            xlabel = \"Speed\",\n",
    "            ylabel = \"Dist\",\n",
    "            size = (600,300))"
   ]
  },
  {
   "cell_type": "markdown",
   "metadata": {},
   "source": [
    "Wir wollen die lineare Abhängigkeit dieser Variablen mittels Regression schätzen.\n",
    "\n",
    "Beide Variablen sind eindimensional. D.h:"
   ]
  },
  {
   "cell_type": "code",
   "execution_count": 44,
   "metadata": {},
   "outputs": [],
   "source": [
    "D = 1; N = 1;"
   ]
  },
  {
   "cell_type": "markdown",
   "metadata": {},
   "source": [
    "## Aufteilen der Daten"
   ]
  },
  {
   "cell_type": "markdown",
   "metadata": {},
   "source": [
    "Wir teilen die Daten in Trainings- und Testdaten auf.\n",
    "\n",
    "Die Wahl soll zufällig sein und $75\\%$ der Daten sollen Trainingsdaten sein."
   ]
  },
  {
   "cell_type": "code",
   "execution_count": 45,
   "metadata": {},
   "outputs": [
    {
     "data": {
      "text/plain": [
       "38"
      ]
     },
     "execution_count": 45,
     "metadata": {},
     "output_type": "execute_result"
    }
   ],
   "source": [
    "k = size(data_cars, 1)\n",
    "n = round(Int, k * 0.75)"
   ]
  },
  {
   "cell_type": "markdown",
   "metadata": {},
   "source": [
    "Die Trainingsdaten speichern wir in den Vektoren `X` und `Y`."
   ]
  },
  {
   "cell_type": "code",
   "execution_count": 46,
   "metadata": {},
   "outputs": [],
   "source": [
    "i_training = sample(1:k, n, replace = false)\n",
    "X = data_cars[i_training,\"Speed\"]\n",
    "Y = data_cars[i_training,\"Dist\"];"
   ]
  },
  {
   "cell_type": "markdown",
   "metadata": {},
   "source": [
    "Die Testdaten speichern wir in den Vektoren `X_test` und `Y_test`."
   ]
  },
  {
   "cell_type": "code",
   "execution_count": 47,
   "metadata": {},
   "outputs": [],
   "source": [
    "i_test = setdiff(1:k, i_training)\n",
    "X_test = data_cars[i_test,\"Speed\"]\n",
    "Y_test = data_cars[i_test,\"Dist\"];"
   ]
  },
  {
   "cell_type": "markdown",
   "metadata": {},
   "source": [
    "## Definition des Modells\n",
    "\n",
    "Wir definieren nun das deterministische lineare Modell $f:\\mathbb R^D \\to \\mathbb R^N$:"
   ]
  },
  {
   "cell_type": "code",
   "execution_count": 48,
   "metadata": {},
   "outputs": [],
   "source": [
    "f(x::Number, θ) = θ[2] * x + θ[1];"
   ]
  },
  {
   "cell_type": "markdown",
   "metadata": {},
   "source": [
    "Da $N=1$ können wir für `x` den Typ `Number` angeben. \n",
    "\n",
    "Es wird später außerdem hilfreich sein, per Multiple-Dispatch die Definition von `f` auf Vektoren zu erweitern."
   ]
  },
  {
   "cell_type": "code",
   "execution_count": 49,
   "metadata": {},
   "outputs": [
    {
     "data": {
      "text/plain": [
       "f (generic function with 2 methods)"
      ]
     },
     "execution_count": 49,
     "metadata": {},
     "output_type": "execute_result"
    }
   ],
   "source": [
    "f(X::Vector, θ) = [f(x, θ) for x in X]"
   ]
  },
  {
   "cell_type": "markdown",
   "metadata": {},
   "source": [
    "Wir definieren weiterhin das statistische Modell für die Varianz $\\sigma^2=10$."
   ]
  },
  {
   "cell_type": "code",
   "execution_count": 50,
   "metadata": {},
   "outputs": [],
   "source": [
    "σ² = 10\n",
    "s = sqrt(σ²)\n",
    "Φ(x::Number, θ) = s * randn() + f(x, θ)\n",
    "Φ(X::Vector, θ) = [Φ(x, θ) for x in X];"
   ]
  },
  {
   "cell_type": "markdown",
   "metadata": {},
   "source": [
    "Wir definieren außerdem die Feature Matrix."
   ]
  },
  {
   "cell_type": "code",
   "execution_count": 51,
   "metadata": {},
   "outputs": [],
   "source": [
    "Ω = [ones(n) X];"
   ]
  },
  {
   "cell_type": "markdown",
   "metadata": {},
   "source": [
    "---\n",
    "## Training"
   ]
  },
  {
   "cell_type": "markdown",
   "metadata": {},
   "source": [
    "Jetzt trainieren wir unser Modell mit verschiedenen Methoden. "
   ]
  },
  {
   "cell_type": "markdown",
   "metadata": {},
   "source": [
    "#### Empirical Risk Minimization\n",
    "\n",
    "Bei ERM ist der Parameter durch $\\theta = \\Omega^\\dagger Y$ gegeben.\n",
    "\n",
    "Wir berechnen diesen Parameter wie folgt:"
   ]
  },
  {
   "cell_type": "code",
   "execution_count": 52,
   "metadata": {},
   "outputs": [
    {
     "data": {
      "text/plain": [
       "2-element Vector{Float64}:\n",
       " -22.0448343079922\n",
       "   4.2592592592592595"
      ]
     },
     "execution_count": 52,
     "metadata": {},
     "output_type": "execute_result"
    }
   ],
   "source": [
    "θ_ERM = Ω \\ Y"
   ]
  },
  {
   "cell_type": "markdown",
   "metadata": {},
   "source": [
    "ERM hat die folgenden Parameter für $f_\\theta(x)=ax+b$ geschätzt."
   ]
  },
  {
   "cell_type": "code",
   "execution_count": 53,
   "metadata": {},
   "outputs": [
    {
     "name": "stdout",
     "output_type": "stream",
     "text": [
      "a = 4.2592592592592595, b = -22.0448343079922\n"
     ]
    }
   ],
   "source": [
    "println(\"a = $(θ_ERM[2]), b = $(θ_ERM[1])\")"
   ]
  },
  {
   "cell_type": "markdown",
   "metadata": {},
   "source": [
    "Wir visualieren die geschätzte Funktion zusammen mit den Trainingsdaten."
   ]
  },
  {
   "cell_type": "code",
   "execution_count": 54,
   "metadata": {},
   "outputs": [
    {
     "data": {
      "image/svg+xml": [
       "<?xml version=\"1.0\" encoding=\"utf-8\"?>\n",
       "<svg xmlns=\"http://www.w3.org/2000/svg\" xmlns:xlink=\"http://www.w3.org/1999/xlink\" width=\"600\" height=\"300\" viewBox=\"0 0 2400 1200\">\n",
       "<defs>\n",
       "  <clipPath id=\"clip930\">\n",
       "    <rect x=\"0\" y=\"0\" width=\"2400\" height=\"1200\"/>\n",
       "  </clipPath>\n",
       "</defs>\n",
       "<path clip-path=\"url(#clip930)\" d=\"\n",
       "M0 1200 L2400 1200 L2400 0 L0 0  Z\n",
       "  \" fill=\"#ffffff\" fill-rule=\"evenodd\" fill-opacity=\"1\"/>\n",
       "<defs>\n",
       "  <clipPath id=\"clip931\">\n",
       "    <rect x=\"480\" y=\"0\" width=\"1681\" height=\"1200\"/>\n",
       "  </clipPath>\n",
       "</defs>\n",
       "<path clip-path=\"url(#clip930)\" d=\"\n",
       "M220.509 1047.7 L2352.76 1047.7 L2352.76 47.2441 L220.509 47.2441  Z\n",
       "  \" fill=\"#ffffff\" fill-rule=\"evenodd\" fill-opacity=\"1\"/>\n",
       "<defs>\n",
       "  <clipPath id=\"clip932\">\n",
       "    <rect x=\"220\" y=\"47\" width=\"2133\" height=\"1001\"/>\n",
       "  </clipPath>\n",
       "</defs>\n",
       "<polyline clip-path=\"url(#clip932)\" style=\"stroke:#000000; stroke-linecap:butt; stroke-linejoin:round; stroke-width:2; stroke-opacity:0.1; fill:none\" points=\"\n",
       "  455.774,1047.7 455.774,47.2441 \n",
       "  \"/>\n",
       "<polyline clip-path=\"url(#clip932)\" style=\"stroke:#000000; stroke-linecap:butt; stroke-linejoin:round; stroke-width:2; stroke-opacity:0.1; fill:none\" points=\"\n",
       "  893.068,1047.7 893.068,47.2441 \n",
       "  \"/>\n",
       "<polyline clip-path=\"url(#clip932)\" style=\"stroke:#000000; stroke-linecap:butt; stroke-linejoin:round; stroke-width:2; stroke-opacity:0.1; fill:none\" points=\"\n",
       "  1330.36,1047.7 1330.36,47.2441 \n",
       "  \"/>\n",
       "<polyline clip-path=\"url(#clip932)\" style=\"stroke:#000000; stroke-linecap:butt; stroke-linejoin:round; stroke-width:2; stroke-opacity:0.1; fill:none\" points=\"\n",
       "  1767.66,1047.7 1767.66,47.2441 \n",
       "  \"/>\n",
       "<polyline clip-path=\"url(#clip932)\" style=\"stroke:#000000; stroke-linecap:butt; stroke-linejoin:round; stroke-width:2; stroke-opacity:0.1; fill:none\" points=\"\n",
       "  2204.95,1047.7 2204.95,47.2441 \n",
       "  \"/>\n",
       "<polyline clip-path=\"url(#clip930)\" style=\"stroke:#000000; stroke-linecap:butt; stroke-linejoin:round; stroke-width:4; stroke-opacity:1; fill:none\" points=\"\n",
       "  220.509,1047.7 2352.76,1047.7 \n",
       "  \"/>\n",
       "<polyline clip-path=\"url(#clip930)\" style=\"stroke:#000000; stroke-linecap:butt; stroke-linejoin:round; stroke-width:4; stroke-opacity:1; fill:none\" points=\"\n",
       "  455.774,1047.7 455.774,1028.8 \n",
       "  \"/>\n",
       "<polyline clip-path=\"url(#clip930)\" style=\"stroke:#000000; stroke-linecap:butt; stroke-linejoin:round; stroke-width:4; stroke-opacity:1; fill:none\" points=\"\n",
       "  893.068,1047.7 893.068,1028.8 \n",
       "  \"/>\n",
       "<polyline clip-path=\"url(#clip930)\" style=\"stroke:#000000; stroke-linecap:butt; stroke-linejoin:round; stroke-width:4; stroke-opacity:1; fill:none\" points=\"\n",
       "  1330.36,1047.7 1330.36,1028.8 \n",
       "  \"/>\n",
       "<polyline clip-path=\"url(#clip930)\" style=\"stroke:#000000; stroke-linecap:butt; stroke-linejoin:round; stroke-width:4; stroke-opacity:1; fill:none\" points=\"\n",
       "  1767.66,1047.7 1767.66,1028.8 \n",
       "  \"/>\n",
       "<polyline clip-path=\"url(#clip930)\" style=\"stroke:#000000; stroke-linecap:butt; stroke-linejoin:round; stroke-width:4; stroke-opacity:1; fill:none\" points=\"\n",
       "  2204.95,1047.7 2204.95,1028.8 \n",
       "  \"/>\n",
       "<path clip-path=\"url(#clip930)\" d=\"M446.051 1075.54 L464.408 1075.54 L464.408 1079.48 L450.334 1079.48 L450.334 1087.95 Q451.352 1087.6 452.371 1087.44 Q453.389 1087.25 454.408 1087.25 Q460.195 1087.25 463.575 1090.42 Q466.954 1093.6 466.954 1099.01 Q466.954 1104.59 463.482 1107.69 Q460.01 1110.77 453.69 1110.77 Q451.514 1110.77 449.246 1110.4 Q447.001 1110.03 444.593 1109.29 L444.593 1104.59 Q446.676 1105.72 448.899 1106.28 Q451.121 1106.84 453.598 1106.84 Q457.602 1106.84 459.94 1104.73 Q462.278 1102.62 462.278 1099.01 Q462.278 1095.4 459.94 1093.29 Q457.602 1091.19 453.598 1091.19 Q451.723 1091.19 449.848 1091.6 Q447.996 1092.02 446.051 1092.9 L446.051 1075.54 Z\" fill=\"#000000\" fill-rule=\"evenodd\" fill-opacity=\"1\" /><path clip-path=\"url(#clip930)\" d=\"M867.755 1106.16 L875.394 1106.16 L875.394 1079.8 L867.084 1081.47 L867.084 1077.21 L875.348 1075.54 L880.024 1075.54 L880.024 1106.16 L887.663 1106.16 L887.663 1110.1 L867.755 1110.1 L867.755 1106.16 Z\" fill=\"#000000\" fill-rule=\"evenodd\" fill-opacity=\"1\" /><path clip-path=\"url(#clip930)\" d=\"M907.107 1078.62 Q903.496 1078.62 901.667 1082.18 Q899.862 1085.72 899.862 1092.85 Q899.862 1099.96 901.667 1103.53 Q903.496 1107.07 907.107 1107.07 Q910.741 1107.07 912.547 1103.53 Q914.376 1099.96 914.376 1092.85 Q914.376 1085.72 912.547 1082.18 Q910.741 1078.62 907.107 1078.62 M907.107 1074.91 Q912.917 1074.91 915.973 1079.52 Q919.051 1084.1 919.051 1092.85 Q919.051 1101.58 915.973 1106.19 Q912.917 1110.77 907.107 1110.77 Q901.297 1110.77 898.218 1106.19 Q895.163 1101.58 895.163 1092.85 Q895.163 1084.1 898.218 1079.52 Q901.297 1074.91 907.107 1074.91 Z\" fill=\"#000000\" fill-rule=\"evenodd\" fill-opacity=\"1\" /><path clip-path=\"url(#clip930)\" d=\"M1305.55 1106.16 L1313.19 1106.16 L1313.19 1079.8 L1304.88 1081.47 L1304.88 1077.21 L1313.14 1075.54 L1317.82 1075.54 L1317.82 1106.16 L1325.45 1106.16 L1325.45 1110.1 L1305.55 1110.1 L1305.55 1106.16 Z\" fill=\"#000000\" fill-rule=\"evenodd\" fill-opacity=\"1\" /><path clip-path=\"url(#clip930)\" d=\"M1334.95 1075.54 L1353.3 1075.54 L1353.3 1079.48 L1339.23 1079.48 L1339.23 1087.95 Q1340.25 1087.6 1341.26 1087.44 Q1342.28 1087.25 1343.3 1087.25 Q1349.09 1087.25 1352.47 1090.42 Q1355.85 1093.6 1355.85 1099.01 Q1355.85 1104.59 1352.38 1107.69 Q1348.9 1110.77 1342.58 1110.77 Q1340.41 1110.77 1338.14 1110.4 Q1335.89 1110.03 1333.49 1109.29 L1333.49 1104.59 Q1335.57 1105.72 1337.79 1106.28 Q1340.01 1106.84 1342.49 1106.84 Q1346.5 1106.84 1348.83 1104.73 Q1351.17 1102.62 1351.17 1099.01 Q1351.17 1095.4 1348.83 1093.29 Q1346.5 1091.19 1342.49 1091.19 Q1340.62 1091.19 1338.74 1091.6 Q1336.89 1092.02 1334.95 1092.9 L1334.95 1075.54 Z\" fill=\"#000000\" fill-rule=\"evenodd\" fill-opacity=\"1\" /><path clip-path=\"url(#clip930)\" d=\"M1746.43 1106.16 L1762.75 1106.16 L1762.75 1110.1 L1740.8 1110.1 L1740.8 1106.16 Q1743.47 1103.41 1748.05 1098.78 Q1752.66 1094.13 1753.84 1092.79 Q1756.08 1090.26 1756.96 1088.53 Q1757.86 1086.77 1757.86 1085.08 Q1757.86 1082.32 1755.92 1080.59 Q1754 1078.85 1750.9 1078.85 Q1748.7 1078.85 1746.24 1079.61 Q1743.81 1080.38 1741.04 1081.93 L1741.04 1077.21 Q1743.86 1076.07 1746.31 1075.49 Q1748.77 1074.91 1750.8 1074.91 Q1756.17 1074.91 1759.37 1077.6 Q1762.56 1080.29 1762.56 1084.78 Q1762.56 1086.91 1761.75 1088.83 Q1760.97 1090.72 1758.86 1093.32 Q1758.28 1093.99 1755.18 1097.21 Q1752.08 1100.4 1746.43 1106.16 Z\" fill=\"#000000\" fill-rule=\"evenodd\" fill-opacity=\"1\" /><path clip-path=\"url(#clip930)\" d=\"M1782.56 1078.62 Q1778.95 1078.62 1777.12 1082.18 Q1775.32 1085.72 1775.32 1092.85 Q1775.32 1099.96 1777.12 1103.53 Q1778.95 1107.07 1782.56 1107.07 Q1786.2 1107.07 1788 1103.53 Q1789.83 1099.96 1789.83 1092.85 Q1789.83 1085.72 1788 1082.18 Q1786.2 1078.62 1782.56 1078.62 M1782.56 1074.91 Q1788.37 1074.91 1791.43 1079.52 Q1794.51 1084.1 1794.51 1092.85 Q1794.51 1101.58 1791.43 1106.19 Q1788.37 1110.77 1782.56 1110.77 Q1776.75 1110.77 1773.67 1106.19 Q1770.62 1101.58 1770.62 1092.85 Q1770.62 1084.1 1773.67 1079.52 Q1776.75 1074.91 1782.56 1074.91 Z\" fill=\"#000000\" fill-rule=\"evenodd\" fill-opacity=\"1\" /><path clip-path=\"url(#clip930)\" d=\"M2184.22 1106.16 L2200.54 1106.16 L2200.54 1110.1 L2178.6 1110.1 L2178.6 1106.16 Q2181.26 1103.41 2185.84 1098.78 Q2190.45 1094.13 2191.63 1092.79 Q2193.87 1090.26 2194.75 1088.53 Q2195.66 1086.77 2195.66 1085.08 Q2195.66 1082.32 2193.71 1080.59 Q2191.79 1078.85 2188.69 1078.85 Q2186.49 1078.85 2184.04 1079.61 Q2181.61 1080.38 2178.83 1081.93 L2178.83 1077.21 Q2181.65 1076.07 2184.11 1075.49 Q2186.56 1074.91 2188.6 1074.91 Q2193.97 1074.91 2197.16 1077.6 Q2200.36 1080.29 2200.36 1084.78 Q2200.36 1086.91 2199.55 1088.83 Q2198.76 1090.72 2196.65 1093.32 Q2196.07 1093.99 2192.97 1097.21 Q2189.87 1100.4 2184.22 1106.16 Z\" fill=\"#000000\" fill-rule=\"evenodd\" fill-opacity=\"1\" /><path clip-path=\"url(#clip930)\" d=\"M2210.4 1075.54 L2228.76 1075.54 L2228.76 1079.48 L2214.68 1079.48 L2214.68 1087.95 Q2215.7 1087.6 2216.72 1087.44 Q2217.74 1087.25 2218.76 1087.25 Q2224.55 1087.25 2227.92 1090.42 Q2231.3 1093.6 2231.3 1099.01 Q2231.3 1104.59 2227.83 1107.69 Q2224.36 1110.77 2218.04 1110.77 Q2215.86 1110.77 2213.6 1110.4 Q2211.35 1110.03 2208.94 1109.29 L2208.94 1104.59 Q2211.03 1105.72 2213.25 1106.28 Q2215.47 1106.84 2217.95 1106.84 Q2221.95 1106.84 2224.29 1104.73 Q2226.63 1102.62 2226.63 1099.01 Q2226.63 1095.4 2224.29 1093.29 Q2221.95 1091.19 2217.95 1091.19 Q2216.07 1091.19 2214.2 1091.6 Q2212.35 1092.02 2210.4 1092.9 L2210.4 1075.54 Z\" fill=\"#000000\" fill-rule=\"evenodd\" fill-opacity=\"1\" /><path clip-path=\"url(#clip930)\" d=\"M1220.16 1146.6 L1220.16 1152.87 Q1216.5 1151.12 1213.25 1150.26 Q1210.01 1149.4 1206.98 1149.4 Q1201.73 1149.4 1198.87 1151.44 Q1196.03 1153.48 1196.03 1157.23 Q1196.03 1160.39 1197.91 1162.01 Q1199.82 1163.6 1205.1 1164.59 L1208.99 1165.38 Q1216.18 1166.75 1219.59 1170.22 Q1223.02 1173.66 1223.02 1179.45 Q1223.02 1186.36 1218.38 1189.92 Q1213.76 1193.49 1204.82 1193.49 Q1201.44 1193.49 1197.62 1192.72 Q1193.84 1191.96 1189.76 1190.46 L1189.76 1183.84 Q1193.68 1186.04 1197.43 1187.15 Q1201.19 1188.27 1204.82 1188.27 Q1210.32 1188.27 1213.32 1186.1 Q1216.31 1183.94 1216.31 1179.93 Q1216.31 1176.43 1214.14 1174.45 Q1212.01 1172.48 1207.11 1171.49 L1203.19 1170.73 Q1196 1169.3 1192.79 1166.24 Q1189.57 1163.19 1189.57 1157.74 Q1189.57 1151.44 1194 1147.81 Q1198.45 1144.18 1206.25 1144.18 Q1209.59 1144.18 1213.06 1144.79 Q1216.53 1145.39 1220.16 1146.6 Z\" fill=\"#000000\" fill-rule=\"evenodd\" fill-opacity=\"1\" /><path clip-path=\"url(#clip930)\" d=\"M1238.46 1187.22 L1238.46 1206.12 L1232.57 1206.12 L1232.57 1156.92 L1238.46 1156.92 L1238.46 1162.33 Q1240.31 1159.14 1243.11 1157.62 Q1245.94 1156.06 1249.85 1156.06 Q1256.35 1156.06 1260.39 1161.21 Q1264.46 1166.37 1264.46 1174.77 Q1264.46 1183.17 1260.39 1188.33 Q1256.35 1193.49 1249.85 1193.49 Q1245.94 1193.49 1243.11 1191.96 Q1240.31 1190.4 1238.46 1187.22 M1258.38 1174.77 Q1258.38 1168.31 1255.71 1164.65 Q1253.07 1160.96 1248.42 1160.96 Q1243.78 1160.96 1241.1 1164.65 Q1238.46 1168.31 1238.46 1174.77 Q1238.46 1181.23 1241.1 1184.92 Q1243.78 1188.59 1248.42 1188.59 Q1253.07 1188.59 1255.71 1184.92 Q1258.38 1181.23 1258.38 1174.77 Z\" fill=\"#000000\" fill-rule=\"evenodd\" fill-opacity=\"1\" /><path clip-path=\"url(#clip930)\" d=\"M1304.66 1173.28 L1304.66 1176.14 L1277.74 1176.14 Q1278.12 1182.19 1281.37 1185.37 Q1284.64 1188.52 1290.47 1188.52 Q1293.84 1188.52 1296.99 1187.69 Q1300.18 1186.87 1303.29 1185.21 L1303.29 1190.75 Q1300.14 1192.09 1296.83 1192.79 Q1293.52 1193.49 1290.12 1193.49 Q1281.59 1193.49 1276.59 1188.52 Q1271.63 1183.56 1271.63 1175.09 Q1271.63 1166.34 1276.34 1161.21 Q1281.08 1156.06 1289.1 1156.06 Q1296.29 1156.06 1300.46 1160.7 Q1304.66 1165.32 1304.66 1173.28 M1298.81 1171.56 Q1298.74 1166.75 1296.1 1163.89 Q1293.49 1161.02 1289.16 1161.02 Q1284.26 1161.02 1281.3 1163.79 Q1278.37 1166.56 1277.93 1171.59 L1298.81 1171.56 Z\" fill=\"#000000\" fill-rule=\"evenodd\" fill-opacity=\"1\" /><path clip-path=\"url(#clip930)\" d=\"M1344.77 1173.28 L1344.77 1176.14 L1317.84 1176.14 Q1318.22 1182.19 1321.47 1185.37 Q1324.75 1188.52 1330.57 1188.52 Q1333.95 1188.52 1337.1 1187.69 Q1340.28 1186.87 1343.4 1185.21 L1343.4 1190.75 Q1340.25 1192.09 1336.94 1192.79 Q1333.63 1193.49 1330.22 1193.49 Q1321.69 1193.49 1316.69 1188.52 Q1311.73 1183.56 1311.73 1175.09 Q1311.73 1166.34 1316.44 1161.21 Q1321.18 1156.06 1329.2 1156.06 Q1336.4 1156.06 1340.57 1160.7 Q1344.77 1165.32 1344.77 1173.28 M1338.91 1171.56 Q1338.85 1166.75 1336.21 1163.89 Q1333.6 1161.02 1329.27 1161.02 Q1324.37 1161.02 1321.41 1163.79 Q1318.48 1166.56 1318.03 1171.59 L1338.91 1171.56 Z\" fill=\"#000000\" fill-rule=\"evenodd\" fill-opacity=\"1\" /><path clip-path=\"url(#clip930)\" d=\"M1377.84 1162.33 L1377.84 1143.04 L1383.69 1143.04 L1383.69 1192.56 L1377.84 1192.56 L1377.84 1187.22 Q1375.99 1190.4 1373.16 1191.96 Q1370.36 1193.49 1366.41 1193.49 Q1359.95 1193.49 1355.88 1188.33 Q1351.83 1183.17 1351.83 1174.77 Q1351.83 1166.37 1355.88 1161.21 Q1359.95 1156.06 1366.41 1156.06 Q1370.36 1156.06 1373.16 1157.62 Q1375.99 1159.14 1377.84 1162.33 M1357.88 1174.77 Q1357.88 1181.23 1360.52 1184.92 Q1363.2 1188.59 1367.84 1188.59 Q1372.49 1188.59 1375.16 1184.92 Q1377.84 1181.23 1377.84 1174.77 Q1377.84 1168.31 1375.16 1164.65 Q1372.49 1160.96 1367.84 1160.96 Q1363.2 1160.96 1360.52 1164.65 Q1357.88 1168.31 1357.88 1174.77 Z\" fill=\"#000000\" fill-rule=\"evenodd\" fill-opacity=\"1\" /><polyline clip-path=\"url(#clip932)\" style=\"stroke:#000000; stroke-linecap:butt; stroke-linejoin:round; stroke-width:2; stroke-opacity:0.1; fill:none\" points=\"\n",
       "  220.509,951.723 2352.76,951.723 \n",
       "  \"/>\n",
       "<polyline clip-path=\"url(#clip932)\" style=\"stroke:#000000; stroke-linecap:butt; stroke-linejoin:round; stroke-width:2; stroke-opacity:0.1; fill:none\" points=\"\n",
       "  220.509,769.189 2352.76,769.189 \n",
       "  \"/>\n",
       "<polyline clip-path=\"url(#clip932)\" style=\"stroke:#000000; stroke-linecap:butt; stroke-linejoin:round; stroke-width:2; stroke-opacity:0.1; fill:none\" points=\"\n",
       "  220.509,586.655 2352.76,586.655 \n",
       "  \"/>\n",
       "<polyline clip-path=\"url(#clip932)\" style=\"stroke:#000000; stroke-linecap:butt; stroke-linejoin:round; stroke-width:2; stroke-opacity:0.1; fill:none\" points=\"\n",
       "  220.509,404.12 2352.76,404.12 \n",
       "  \"/>\n",
       "<polyline clip-path=\"url(#clip932)\" style=\"stroke:#000000; stroke-linecap:butt; stroke-linejoin:round; stroke-width:2; stroke-opacity:0.1; fill:none\" points=\"\n",
       "  220.509,221.586 2352.76,221.586 \n",
       "  \"/>\n",
       "<polyline clip-path=\"url(#clip930)\" style=\"stroke:#000000; stroke-linecap:butt; stroke-linejoin:round; stroke-width:4; stroke-opacity:1; fill:none\" points=\"\n",
       "  220.509,1047.7 220.509,47.2441 \n",
       "  \"/>\n",
       "<polyline clip-path=\"url(#clip930)\" style=\"stroke:#000000; stroke-linecap:butt; stroke-linejoin:round; stroke-width:4; stroke-opacity:1; fill:none\" points=\"\n",
       "  220.509,951.723 239.407,951.723 \n",
       "  \"/>\n",
       "<polyline clip-path=\"url(#clip930)\" style=\"stroke:#000000; stroke-linecap:butt; stroke-linejoin:round; stroke-width:4; stroke-opacity:1; fill:none\" points=\"\n",
       "  220.509,769.189 239.407,769.189 \n",
       "  \"/>\n",
       "<polyline clip-path=\"url(#clip930)\" style=\"stroke:#000000; stroke-linecap:butt; stroke-linejoin:round; stroke-width:4; stroke-opacity:1; fill:none\" points=\"\n",
       "  220.509,586.655 239.407,586.655 \n",
       "  \"/>\n",
       "<polyline clip-path=\"url(#clip930)\" style=\"stroke:#000000; stroke-linecap:butt; stroke-linejoin:round; stroke-width:4; stroke-opacity:1; fill:none\" points=\"\n",
       "  220.509,404.12 239.407,404.12 \n",
       "  \"/>\n",
       "<polyline clip-path=\"url(#clip930)\" style=\"stroke:#000000; stroke-linecap:butt; stroke-linejoin:round; stroke-width:4; stroke-opacity:1; fill:none\" points=\"\n",
       "  220.509,221.586 239.407,221.586 \n",
       "  \"/>\n",
       "<path clip-path=\"url(#clip930)\" d=\"M172.565 937.522 Q168.954 937.522 167.125 941.086 Q165.32 944.628 165.32 951.758 Q165.32 958.864 167.125 962.429 Q168.954 965.97 172.565 965.97 Q176.199 965.97 178.005 962.429 Q179.833 958.864 179.833 951.758 Q179.833 944.628 178.005 941.086 Q176.199 937.522 172.565 937.522 M172.565 933.818 Q178.375 933.818 181.431 938.424 Q184.509 943.008 184.509 951.758 Q184.509 960.484 181.431 965.091 Q178.375 969.674 172.565 969.674 Q166.755 969.674 163.676 965.091 Q160.621 960.484 160.621 951.758 Q160.621 943.008 163.676 938.424 Q166.755 933.818 172.565 933.818 Z\" fill=\"#000000\" fill-rule=\"evenodd\" fill-opacity=\"1\" /><path clip-path=\"url(#clip930)\" d=\"M137.426 782.534 L153.746 782.534 L153.746 786.469 L131.801 786.469 L131.801 782.534 Q134.463 779.779 139.047 775.149 Q143.653 770.497 144.834 769.154 Q147.079 766.631 147.959 764.895 Q148.861 763.136 148.861 761.446 Q148.861 758.691 146.917 756.955 Q144.996 755.219 141.894 755.219 Q139.695 755.219 137.241 755.983 Q134.811 756.747 132.033 758.298 L132.033 753.575 Q134.857 752.441 137.311 751.862 Q139.764 751.284 141.801 751.284 Q147.172 751.284 150.366 753.969 Q153.56 756.654 153.56 761.145 Q153.56 763.274 152.75 765.196 Q151.963 767.094 149.857 769.686 Q149.278 770.358 146.176 773.575 Q143.074 776.77 137.426 782.534 Z\" fill=\"#000000\" fill-rule=\"evenodd\" fill-opacity=\"1\" /><path clip-path=\"url(#clip930)\" d=\"M163.607 751.909 L181.963 751.909 L181.963 755.844 L167.889 755.844 L167.889 764.316 Q168.908 763.969 169.926 763.807 Q170.945 763.622 171.963 763.622 Q177.75 763.622 181.13 766.793 Q184.509 769.964 184.509 775.381 Q184.509 780.959 181.037 784.061 Q177.565 787.14 171.246 787.14 Q169.07 787.14 166.801 786.77 Q164.556 786.399 162.148 785.659 L162.148 780.959 Q164.232 782.094 166.454 782.649 Q168.676 783.205 171.153 783.205 Q175.158 783.205 177.495 781.098 Q179.833 778.992 179.833 775.381 Q179.833 771.77 177.495 769.663 Q175.158 767.557 171.153 767.557 Q169.278 767.557 167.403 767.973 Q165.551 768.39 163.607 769.27 L163.607 751.909 Z\" fill=\"#000000\" fill-rule=\"evenodd\" fill-opacity=\"1\" /><path clip-path=\"url(#clip930)\" d=\"M132.449 569.375 L150.806 569.375 L150.806 573.31 L136.732 573.31 L136.732 581.782 Q137.75 581.435 138.769 581.273 Q139.787 581.087 140.806 581.087 Q146.593 581.087 149.972 584.259 Q153.352 587.43 153.352 592.847 Q153.352 598.425 149.88 601.527 Q146.408 604.606 140.088 604.606 Q137.912 604.606 135.644 604.235 Q133.399 603.865 130.991 603.124 L130.991 598.425 Q133.074 599.56 135.297 600.115 Q137.519 600.671 139.996 600.671 Q144 600.671 146.338 598.564 Q148.676 596.458 148.676 592.847 Q148.676 589.236 146.338 587.129 Q144 585.023 139.996 585.023 Q138.121 585.023 136.246 585.439 Q134.394 585.856 132.449 586.736 L132.449 569.375 Z\" fill=\"#000000\" fill-rule=\"evenodd\" fill-opacity=\"1\" /><path clip-path=\"url(#clip930)\" d=\"M172.565 572.453 Q168.954 572.453 167.125 576.018 Q165.32 579.56 165.32 586.689 Q165.32 593.796 167.125 597.361 Q168.954 600.902 172.565 600.902 Q176.199 600.902 178.005 597.361 Q179.833 593.796 179.833 586.689 Q179.833 579.56 178.005 576.018 Q176.199 572.453 172.565 572.453 M172.565 568.75 Q178.375 568.75 181.431 573.356 Q184.509 577.939 184.509 586.689 Q184.509 595.416 181.431 600.023 Q178.375 604.606 172.565 604.606 Q166.755 604.606 163.676 600.023 Q160.621 595.416 160.621 586.689 Q160.621 577.939 163.676 573.356 Q166.755 568.75 172.565 568.75 Z\" fill=\"#000000\" fill-rule=\"evenodd\" fill-opacity=\"1\" /><path clip-path=\"url(#clip930)\" d=\"M132.218 386.84 L154.44 386.84 L154.44 388.831 L141.894 421.4 L137.01 421.4 L148.815 390.776 L132.218 390.776 L132.218 386.84 Z\" fill=\"#000000\" fill-rule=\"evenodd\" fill-opacity=\"1\" /><path clip-path=\"url(#clip930)\" d=\"M163.607 386.84 L181.963 386.84 L181.963 390.776 L167.889 390.776 L167.889 399.248 Q168.908 398.901 169.926 398.738 Q170.945 398.553 171.963 398.553 Q177.75 398.553 181.13 401.725 Q184.509 404.896 184.509 410.312 Q184.509 415.891 181.037 418.993 Q177.565 422.072 171.246 422.072 Q169.07 422.072 166.801 421.701 Q164.556 421.331 162.148 420.59 L162.148 415.891 Q164.232 417.025 166.454 417.581 Q168.676 418.137 171.153 418.137 Q175.158 418.137 177.495 416.03 Q179.833 413.924 179.833 410.312 Q179.833 406.701 177.495 404.595 Q175.158 402.488 171.153 402.488 Q169.278 402.488 167.403 402.905 Q165.551 403.322 163.607 404.201 L163.607 386.84 Z\" fill=\"#000000\" fill-rule=\"evenodd\" fill-opacity=\"1\" /><path clip-path=\"url(#clip930)\" d=\"M103.051 234.931 L110.69 234.931 L110.69 208.565 L102.38 210.232 L102.38 205.973 L110.644 204.306 L115.32 204.306 L115.32 234.931 L122.959 234.931 L122.959 238.866 L103.051 238.866 L103.051 234.931 Z\" fill=\"#000000\" fill-rule=\"evenodd\" fill-opacity=\"1\" /><path clip-path=\"url(#clip930)\" d=\"M142.403 207.385 Q138.792 207.385 136.963 210.95 Q135.158 214.491 135.158 221.621 Q135.158 228.727 136.963 232.292 Q138.792 235.834 142.403 235.834 Q146.037 235.834 147.843 232.292 Q149.672 228.727 149.672 221.621 Q149.672 214.491 147.843 210.95 Q146.037 207.385 142.403 207.385 M142.403 203.681 Q148.213 203.681 151.269 208.288 Q154.347 212.871 154.347 221.621 Q154.347 230.348 151.269 234.954 Q148.213 239.538 142.403 239.538 Q136.593 239.538 133.514 234.954 Q130.459 230.348 130.459 221.621 Q130.459 212.871 133.514 208.288 Q136.593 203.681 142.403 203.681 Z\" fill=\"#000000\" fill-rule=\"evenodd\" fill-opacity=\"1\" /><path clip-path=\"url(#clip930)\" d=\"M172.565 207.385 Q168.954 207.385 167.125 210.95 Q165.32 214.491 165.32 221.621 Q165.32 228.727 167.125 232.292 Q168.954 235.834 172.565 235.834 Q176.199 235.834 178.005 232.292 Q179.833 228.727 179.833 221.621 Q179.833 214.491 178.005 210.95 Q176.199 207.385 172.565 207.385 M172.565 203.681 Q178.375 203.681 181.431 208.288 Q184.509 212.871 184.509 221.621 Q184.509 230.348 181.431 234.954 Q178.375 239.538 172.565 239.538 Q166.755 239.538 163.676 234.954 Q160.621 230.348 160.621 221.621 Q160.621 212.871 163.676 208.288 Q166.755 203.681 172.565 203.681 Z\" fill=\"#000000\" fill-rule=\"evenodd\" fill-opacity=\"1\" /><path clip-path=\"url(#clip930)\" d=\"M9.88769 600.976 L46.8406 600.976 L46.8406 593.21 Q46.8406 583.375 42.3846 578.823 Q37.9286 574.24 28.3164 574.24 Q18.7679 574.24 14.3437 578.823 Q9.88769 583.375 9.88769 593.21 L9.88769 600.976 M4.60416 607.405 L4.60416 594.196 Q4.60416 580.383 10.3651 573.921 Q16.0943 567.46 28.3164 567.46 Q40.6022 567.46 46.3632 573.953 Q52.1242 580.446 52.1242 594.196 L52.1242 607.405 L4.60416 607.405 Z\" fill=\"#000000\" fill-rule=\"evenodd\" fill-opacity=\"1\" /><path clip-path=\"url(#clip930)\" d=\"M16.4762 557.466 L16.4762 551.61 L52.1242 551.61 L52.1242 557.466 L16.4762 557.466 M2.59896 557.466 L2.59896 551.61 L10.015 551.61 L10.015 557.466 L2.59896 557.466 Z\" fill=\"#000000\" fill-rule=\"evenodd\" fill-opacity=\"1\" /><path clip-path=\"url(#clip930)\" d=\"M17.5265 516.63 L23.0647 516.63 Q21.7916 519.113 21.155 521.786 Q20.5184 524.46 20.5184 527.325 Q20.5184 531.685 21.8552 533.881 Q23.192 536.046 25.8656 536.046 Q27.9026 536.046 29.0803 534.486 Q30.2261 532.926 31.2765 528.216 L31.7221 526.211 Q33.0589 519.972 35.5097 517.362 Q37.9286 514.72 42.2891 514.72 Q47.2544 514.72 50.1508 518.667 Q53.0472 522.582 53.0472 529.457 Q53.0472 532.322 52.4743 535.441 Q51.9332 538.528 50.8192 541.966 L44.7718 541.966 Q46.4587 538.719 47.318 535.568 Q48.1456 532.417 48.1456 529.33 Q48.1456 525.192 46.7451 522.964 Q45.3129 520.736 42.7347 520.736 Q40.3476 520.736 39.0745 522.359 Q37.8013 523.951 36.6237 529.393 L36.1462 531.43 Q35.0004 536.873 32.6451 539.292 Q30.258 541.711 26.1202 541.711 Q21.0913 541.711 18.3541 538.146 Q15.6168 534.581 15.6168 528.025 Q15.6168 524.778 16.0943 521.914 Q16.5717 519.049 17.5265 516.63 Z\" fill=\"#000000\" fill-rule=\"evenodd\" fill-opacity=\"1\" /><path clip-path=\"url(#clip930)\" d=\"M6.35473 499.602 L16.4762 499.602 L16.4762 487.539 L21.0277 487.539 L21.0277 499.602 L40.3794 499.602 Q44.7399 499.602 45.9813 498.424 Q47.2226 497.215 47.2226 493.554 L47.2226 487.539 L52.1242 487.539 L52.1242 493.554 Q52.1242 500.334 49.6097 502.912 Q47.0634 505.49 40.3794 505.49 L21.0277 505.49 L21.0277 509.787 L16.4762 509.787 L16.4762 505.49 L6.35473 505.49 L6.35473 499.602 Z\" fill=\"#000000\" fill-rule=\"evenodd\" fill-opacity=\"1\" /><circle clip-path=\"url(#clip932)\" cx=\"1505.28\" cy=\"586.655\" r=\"14\" fill=\"#009af9\" fill-rule=\"evenodd\" fill-opacity=\"1\" stroke=\"#000000\" stroke-opacity=\"1\" stroke-width=\"2.4\"/>\n",
       "<circle clip-path=\"url(#clip932)\" cx=\"1067.99\" cy=\"805.696\" r=\"14\" fill=\"#009af9\" fill-rule=\"evenodd\" fill-opacity=\"1\" stroke=\"#000000\" stroke-opacity=\"1\" stroke-width=\"2.4\"/>\n",
       "<circle clip-path=\"url(#clip932)\" cx=\"1592.74\" cy=\"338.408\" r=\"14\" fill=\"#009af9\" fill-rule=\"evenodd\" fill-opacity=\"1\" stroke=\"#000000\" stroke-opacity=\"1\" stroke-width=\"2.4\"/>\n",
       "<circle clip-path=\"url(#clip932)\" cx=\"1505.28\" cy=\"659.668\" r=\"14\" fill=\"#009af9\" fill-rule=\"evenodd\" fill-opacity=\"1\" stroke=\"#000000\" stroke-opacity=\"1\" stroke-width=\"2.4\"/>\n",
       "<circle clip-path=\"url(#clip932)\" cx=\"1417.82\" cy=\"659.668\" r=\"14\" fill=\"#009af9\" fill-rule=\"evenodd\" fill-opacity=\"1\" stroke=\"#000000\" stroke-opacity=\"1\" stroke-width=\"2.4\"/>\n",
       "<circle clip-path=\"url(#clip932)\" cx=\"1592.74\" cy=\"396.819\" r=\"14\" fill=\"#009af9\" fill-rule=\"evenodd\" fill-opacity=\"1\" stroke=\"#000000\" stroke-opacity=\"1\" stroke-width=\"2.4\"/>\n",
       "<circle clip-path=\"url(#clip932)\" cx=\"1417.82\" cy=\"718.079\" r=\"14\" fill=\"#009af9\" fill-rule=\"evenodd\" fill-opacity=\"1\" stroke=\"#000000\" stroke-opacity=\"1\" stroke-width=\"2.4\"/>\n",
       "<circle clip-path=\"url(#clip932)\" cx=\"1505.28\" cy=\"718.079\" r=\"14\" fill=\"#009af9\" fill-rule=\"evenodd\" fill-opacity=\"1\" stroke=\"#000000\" stroke-opacity=\"1\" stroke-width=\"2.4\"/>\n",
       "<circle clip-path=\"url(#clip932)\" cx=\"1680.2\" cy=\"455.23\" r=\"14\" fill=\"#009af9\" fill-rule=\"evenodd\" fill-opacity=\"1\" stroke=\"#000000\" stroke-opacity=\"1\" stroke-width=\"2.4\"/>\n",
       "<circle clip-path=\"url(#clip932)\" cx=\"1242.9\" cy=\"513.641\" r=\"14\" fill=\"#009af9\" fill-rule=\"evenodd\" fill-opacity=\"1\" stroke=\"#000000\" stroke-opacity=\"1\" stroke-width=\"2.4\"/>\n",
       "<circle clip-path=\"url(#clip932)\" cx=\"893.068\" cy=\"820.298\" r=\"14\" fill=\"#009af9\" fill-rule=\"evenodd\" fill-opacity=\"1\" stroke=\"#000000\" stroke-opacity=\"1\" stroke-width=\"2.4\"/>\n",
       "<circle clip-path=\"url(#clip932)\" cx=\"1942.57\" cy=\"469.833\" r=\"14\" fill=\"#009af9\" fill-rule=\"evenodd\" fill-opacity=\"1\" stroke=\"#000000\" stroke-opacity=\"1\" stroke-width=\"2.4\"/>\n",
       "<circle clip-path=\"url(#clip932)\" cx=\"1767.66\" cy=\"484.435\" r=\"14\" fill=\"#009af9\" fill-rule=\"evenodd\" fill-opacity=\"1\" stroke=\"#000000\" stroke-opacity=\"1\" stroke-width=\"2.4\"/>\n",
       "<circle clip-path=\"url(#clip932)\" cx=\"1067.99\" cy=\"776.49\" r=\"14\" fill=\"#009af9\" fill-rule=\"evenodd\" fill-opacity=\"1\" stroke=\"#000000\" stroke-opacity=\"1\" stroke-width=\"2.4\"/>\n",
       "<circle clip-path=\"url(#clip932)\" cx=\"1592.74\" cy=\"542.846\" r=\"14\" fill=\"#009af9\" fill-rule=\"evenodd\" fill-opacity=\"1\" stroke=\"#000000\" stroke-opacity=\"1\" stroke-width=\"2.4\"/>\n",
       "<circle clip-path=\"url(#clip932)\" cx=\"2117.49\" cy=\"272.696\" r=\"14\" fill=\"#009af9\" fill-rule=\"evenodd\" fill-opacity=\"1\" stroke=\"#000000\" stroke-opacity=\"1\" stroke-width=\"2.4\"/>\n",
       "<circle clip-path=\"url(#clip932)\" cx=\"980.527\" cy=\"747.285\" r=\"14\" fill=\"#009af9\" fill-rule=\"evenodd\" fill-opacity=\"1\" stroke=\"#000000\" stroke-opacity=\"1\" stroke-width=\"2.4\"/>\n",
       "<circle clip-path=\"url(#clip932)\" cx=\"1330.36\" cy=\"805.696\" r=\"14\" fill=\"#009af9\" fill-rule=\"evenodd\" fill-opacity=\"1\" stroke=\"#000000\" stroke-opacity=\"1\" stroke-width=\"2.4\"/>\n",
       "<circle clip-path=\"url(#clip932)\" cx=\"1242.9\" cy=\"367.614\" r=\"14\" fill=\"#009af9\" fill-rule=\"evenodd\" fill-opacity=\"1\" stroke=\"#000000\" stroke-opacity=\"1\" stroke-width=\"2.4\"/>\n",
       "<circle clip-path=\"url(#clip932)\" cx=\"1242.9\" cy=\"688.874\" r=\"14\" fill=\"#009af9\" fill-rule=\"evenodd\" fill-opacity=\"1\" stroke=\"#000000\" stroke-opacity=\"1\" stroke-width=\"2.4\"/>\n",
       "<circle clip-path=\"url(#clip932)\" cx=\"2204.95\" cy=\"331.107\" r=\"14\" fill=\"#009af9\" fill-rule=\"evenodd\" fill-opacity=\"1\" stroke=\"#000000\" stroke-opacity=\"1\" stroke-width=\"2.4\"/>\n",
       "<circle clip-path=\"url(#clip932)\" cx=\"1155.44\" cy=\"703.476\" r=\"14\" fill=\"#009af9\" fill-rule=\"evenodd\" fill-opacity=\"1\" stroke=\"#000000\" stroke-opacity=\"1\" stroke-width=\"2.4\"/>\n",
       "<circle clip-path=\"url(#clip932)\" cx=\"1767.66\" cy=\"601.257\" r=\"14\" fill=\"#009af9\" fill-rule=\"evenodd\" fill-opacity=\"1\" stroke=\"#000000\" stroke-opacity=\"1\" stroke-width=\"2.4\"/>\n",
       "<circle clip-path=\"url(#clip932)\" cx=\"1592.74\" cy=\"645.065\" r=\"14\" fill=\"#009af9\" fill-rule=\"evenodd\" fill-opacity=\"1\" stroke=\"#000000\" stroke-opacity=\"1\" stroke-width=\"2.4\"/>\n",
       "<circle clip-path=\"url(#clip932)\" cx=\"1767.66\" cy=\"718.079\" r=\"14\" fill=\"#009af9\" fill-rule=\"evenodd\" fill-opacity=\"1\" stroke=\"#000000\" stroke-opacity=\"1\" stroke-width=\"2.4\"/>\n",
       "<circle clip-path=\"url(#clip932)\" cx=\"805.609\" cy=\"878.709\" r=\"14\" fill=\"#009af9\" fill-rule=\"evenodd\" fill-opacity=\"1\" stroke=\"#000000\" stroke-opacity=\"1\" stroke-width=\"2.4\"/>\n",
       "<circle clip-path=\"url(#clip932)\" cx=\"1155.44\" cy=\"615.86\" r=\"14\" fill=\"#009af9\" fill-rule=\"evenodd\" fill-opacity=\"1\" stroke=\"#000000\" stroke-opacity=\"1\" stroke-width=\"2.4\"/>\n",
       "<circle clip-path=\"url(#clip932)\" cx=\"1767.66\" cy=\"542.846\" r=\"14\" fill=\"#009af9\" fill-rule=\"evenodd\" fill-opacity=\"1\" stroke=\"#000000\" stroke-opacity=\"1\" stroke-width=\"2.4\"/>\n",
       "<circle clip-path=\"url(#clip932)\" cx=\"1767.66\" cy=\"572.052\" r=\"14\" fill=\"#009af9\" fill-rule=\"evenodd\" fill-opacity=\"1\" stroke=\"#000000\" stroke-opacity=\"1\" stroke-width=\"2.4\"/>\n",
       "<circle clip-path=\"url(#clip932)\" cx=\"1330.36\" cy=\"761.887\" r=\"14\" fill=\"#009af9\" fill-rule=\"evenodd\" fill-opacity=\"1\" stroke=\"#000000\" stroke-opacity=\"1\" stroke-width=\"2.4\"/>\n",
       "<circle clip-path=\"url(#clip932)\" cx=\"2117.49\" cy=\"75.5589\" r=\"14\" fill=\"#009af9\" fill-rule=\"evenodd\" fill-opacity=\"1\" stroke=\"#000000\" stroke-opacity=\"1\" stroke-width=\"2.4\"/>\n",
       "<circle clip-path=\"url(#clip932)\" cx=\"630.691\" cy=\"922.517\" r=\"14\" fill=\"#009af9\" fill-rule=\"evenodd\" fill-opacity=\"1\" stroke=\"#000000\" stroke-opacity=\"1\" stroke-width=\"2.4\"/>\n",
       "<circle clip-path=\"url(#clip932)\" cx=\"1067.99\" cy=\"747.285\" r=\"14\" fill=\"#009af9\" fill-rule=\"evenodd\" fill-opacity=\"1\" stroke=\"#000000\" stroke-opacity=\"1\" stroke-width=\"2.4\"/>\n",
       "<circle clip-path=\"url(#clip932)\" cx=\"1155.44\" cy=\"761.887\" r=\"14\" fill=\"#009af9\" fill-rule=\"evenodd\" fill-opacity=\"1\" stroke=\"#000000\" stroke-opacity=\"1\" stroke-width=\"2.4\"/>\n",
       "<circle clip-path=\"url(#clip932)\" cx=\"368.315\" cy=\"878.709\" r=\"14\" fill=\"#009af9\" fill-rule=\"evenodd\" fill-opacity=\"1\" stroke=\"#000000\" stroke-opacity=\"1\" stroke-width=\"2.4\"/>\n",
       "<circle clip-path=\"url(#clip932)\" cx=\"1242.9\" cy=\"761.887\" r=\"14\" fill=\"#009af9\" fill-rule=\"evenodd\" fill-opacity=\"1\" stroke=\"#000000\" stroke-opacity=\"1\" stroke-width=\"2.4\"/>\n",
       "<circle clip-path=\"url(#clip932)\" cx=\"980.527\" cy=\"827.6\" r=\"14\" fill=\"#009af9\" fill-rule=\"evenodd\" fill-opacity=\"1\" stroke=\"#000000\" stroke-opacity=\"1\" stroke-width=\"2.4\"/>\n",
       "<circle clip-path=\"url(#clip932)\" cx=\"630.691\" cy=\"791.093\" r=\"14\" fill=\"#009af9\" fill-rule=\"evenodd\" fill-opacity=\"1\" stroke=\"#000000\" stroke-opacity=\"1\" stroke-width=\"2.4\"/>\n",
       "<polyline clip-path=\"url(#clip932)\" style=\"stroke:#e26f46; stroke-linecap:butt; stroke-linejoin:round; stroke-width:8; stroke-opacity:1; fill:none\" points=\"\n",
       "  280.856,1019.39 324.585,1003.84 368.315,988.287 412.044,972.737 455.774,957.188 499.503,941.639 543.232,926.09 586.962,910.541 630.691,894.991 674.421,879.442 \n",
       "  718.15,863.893 761.88,848.344 805.609,832.795 849.338,817.245 893.068,801.696 936.797,786.147 980.527,770.598 1024.26,755.049 1067.99,739.499 1111.71,723.95 \n",
       "  1155.44,708.401 1199.17,692.852 1242.9,677.303 1286.63,661.753 1330.36,646.204 1374.09,630.655 1417.82,615.106 1461.55,599.556 1505.28,584.007 1549.01,568.458 \n",
       "  1592.74,552.909 1636.47,537.36 1680.2,521.81 1723.93,506.261 1767.66,490.712 1811.39,475.163 1855.12,459.614 1898.84,444.064 1942.57,428.515 1986.3,412.966 \n",
       "  2030.03,397.417 2073.76,381.868 2117.49,366.318 2161.22,350.769 2204.95,335.22 2248.68,319.671 2292.41,304.122 \n",
       "  \"/>\n",
       "</svg>\n"
      ]
     },
     "execution_count": 54,
     "metadata": {},
     "output_type": "execute_result"
    }
   ],
   "source": [
    "p = collect((minimum(X)-1):0.5:(maximum(X)+1))\n",
    "\n",
    "scatter(X,Y, legend=false, \n",
    "            xlabel = \"Speed\",\n",
    "            ylabel = \"Dist\",\n",
    "            size = (600,300))\n",
    "plot!(p, f(p, θ_ERM), lw = 2)"
   ]
  },
  {
   "cell_type": "markdown",
   "metadata": {},
   "source": [
    "### Ridge Regression"
   ]
  },
  {
   "cell_type": "markdown",
   "metadata": {},
   "source": [
    "Der Ridge-Regression Schätzer mit Parameter $\\lambda$ wird wie folgt berechnet."
   ]
  },
  {
   "cell_type": "code",
   "execution_count": 55,
   "metadata": {},
   "outputs": [
    {
     "data": {
      "text/plain": [
       "θ_T (generic function with 1 method)"
      ]
     },
     "execution_count": 55,
     "metadata": {},
     "output_type": "execute_result"
    }
   ],
   "source": [
    "θ_T(λ) = (Ω' * Ω + (n*λ) .* diagm(ones(D+1))) \\ (Ω' * Y)"
   ]
  },
  {
   "cell_type": "markdown",
   "metadata": {},
   "source": [
    "Wir plotten den RR-Schätzer für verschiedene Werte von $\\lambda$"
   ]
  },
  {
   "cell_type": "code",
   "execution_count": 56,
   "metadata": {},
   "outputs": [
    {
     "name": "stderr",
     "output_type": "stream",
     "text": [
      "┌ Info: Saved animation to \n",
      "│   fn = /Users/pb/ridge_regression.gif\n",
      "└ @ Plots /Users/pb/.julia/packages/Plots/1KWPG/src/animation.jl:114\n"
     ]
    },
    {
     "data": {
      "text/html": [
       "<img src=\"data:image/gif;base64,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\" />"
      ],
      "text/plain": [
       "Plots.AnimatedGif(\"/Users/pb/ridge_regression.gif\")"
      ]
     },
     "execution_count": 56,
     "metadata": {},
     "output_type": "execute_result"
    }
   ],
   "source": [
    "anim = @animate for λ in 0:0.02:0.25\n",
    "    scatter(X,Y, label=false, \n",
    "            xlabel = \"Speed\",\n",
    "            ylabel = \"Dist\",\n",
    "            size = (600,300))\n",
    "    plot!(p, f(p, θ_T(λ)), lw = 2, label = \"λ = $λ\")\n",
    "    ylims!(0,100)\n",
    "end\n",
    "gif(anim, \"/Users/pb/ridge_regression.gif\", fps = 3)"
   ]
  },
  {
   "cell_type": "markdown",
   "metadata": {},
   "source": [
    "Der Animation nach zu urteilen scheint $\\lambda=0.2$ eine gute Wahl zu sein."
   ]
  },
  {
   "cell_type": "code",
   "execution_count": 57,
   "metadata": {},
   "outputs": [],
   "source": [
    "θ_RR = θ_T(0.2);"
   ]
  },
  {
   "cell_type": "markdown",
   "metadata": {},
   "source": [
    "RR hat die folgenden Parameter für $f_\\theta(x)=ax+b$ geschätzt."
   ]
  },
  {
   "cell_type": "code",
   "execution_count": 58,
   "metadata": {},
   "outputs": [
    {
     "name": "stdout",
     "output_type": "stream",
     "text": [
      "a = 3.3466180982126152, b = -6.5824135931410135\n"
     ]
    }
   ],
   "source": [
    "println(\"a = $(θ_RR[2]), b = $(θ_RR[1])\")"
   ]
  },
  {
   "cell_type": "markdown",
   "metadata": {},
   "source": [
    "### Maximum Likelihood und Maximum a-Posteriori Estimation"
   ]
  },
  {
   "cell_type": "markdown",
   "metadata": {},
   "source": [
    "Der Parameter für ML ist durch `θ_ERM` bestimmt\n",
    "\n",
    "Der Parameter für MAP ist durch `θ_T(λ)` für $\\lambda = \\sigma^2/n$ bestimmt."
   ]
  },
  {
   "cell_type": "code",
   "execution_count": 59,
   "metadata": {},
   "outputs": [],
   "source": [
    "θ_ML = θ_ERM\n",
    "θ_MAP = θ_T(σ²/n);"
   ]
  },
  {
   "cell_type": "markdown",
   "metadata": {},
   "source": [
    "Jetzt können wir diese Parameter in das statistische Modell einsetzen und von diesem samplen. "
   ]
  },
  {
   "cell_type": "code",
   "execution_count": 63,
   "metadata": {},
   "outputs": [
    {
     "data": {
      "image/svg+xml": [
       "<?xml version=\"1.0\" encoding=\"utf-8\"?>\n",
       "<svg xmlns=\"http://www.w3.org/2000/svg\" xmlns:xlink=\"http://www.w3.org/1999/xlink\" width=\"600\" height=\"300\" viewBox=\"0 0 2400 1200\">\n",
       "<defs>\n",
       "  <clipPath id=\"clip220\">\n",
       "    <rect x=\"0\" y=\"0\" width=\"2400\" height=\"1200\"/>\n",
       "  </clipPath>\n",
       "</defs>\n",
       "<path clip-path=\"url(#clip220)\" d=\"\n",
       "M0 1200 L2400 1200 L2400 0 L0 0  Z\n",
       "  \" fill=\"#ffffff\" fill-rule=\"evenodd\" fill-opacity=\"1\"/>\n",
       "<defs>\n",
       "  <clipPath id=\"clip221\">\n",
       "    <rect x=\"480\" y=\"0\" width=\"1681\" height=\"1200\"/>\n",
       "  </clipPath>\n",
       "</defs>\n",
       "<path clip-path=\"url(#clip220)\" d=\"\n",
       "M220.509 1047.7 L2352.76 1047.7 L2352.76 47.2441 L220.509 47.2441  Z\n",
       "  \" fill=\"#ffffff\" fill-rule=\"evenodd\" fill-opacity=\"1\"/>\n",
       "<defs>\n",
       "  <clipPath id=\"clip222\">\n",
       "    <rect x=\"220\" y=\"47\" width=\"2133\" height=\"1001\"/>\n",
       "  </clipPath>\n",
       "</defs>\n",
       "<polyline clip-path=\"url(#clip222)\" style=\"stroke:#000000; stroke-linecap:butt; stroke-linejoin:round; stroke-width:2; stroke-opacity:0.1; fill:none\" points=\"\n",
       "  455.774,1047.7 455.774,47.2441 \n",
       "  \"/>\n",
       "<polyline clip-path=\"url(#clip222)\" style=\"stroke:#000000; stroke-linecap:butt; stroke-linejoin:round; stroke-width:2; stroke-opacity:0.1; fill:none\" points=\"\n",
       "  893.068,1047.7 893.068,47.2441 \n",
       "  \"/>\n",
       "<polyline clip-path=\"url(#clip222)\" style=\"stroke:#000000; stroke-linecap:butt; stroke-linejoin:round; stroke-width:2; stroke-opacity:0.1; fill:none\" points=\"\n",
       "  1330.36,1047.7 1330.36,47.2441 \n",
       "  \"/>\n",
       "<polyline clip-path=\"url(#clip222)\" style=\"stroke:#000000; stroke-linecap:butt; stroke-linejoin:round; stroke-width:2; stroke-opacity:0.1; fill:none\" points=\"\n",
       "  1767.66,1047.7 1767.66,47.2441 \n",
       "  \"/>\n",
       "<polyline clip-path=\"url(#clip222)\" style=\"stroke:#000000; stroke-linecap:butt; stroke-linejoin:round; stroke-width:2; stroke-opacity:0.1; fill:none\" points=\"\n",
       "  2204.95,1047.7 2204.95,47.2441 \n",
       "  \"/>\n",
       "<polyline clip-path=\"url(#clip220)\" style=\"stroke:#000000; stroke-linecap:butt; stroke-linejoin:round; stroke-width:4; stroke-opacity:1; fill:none\" points=\"\n",
       "  220.509,1047.7 2352.76,1047.7 \n",
       "  \"/>\n",
       "<polyline clip-path=\"url(#clip220)\" style=\"stroke:#000000; stroke-linecap:butt; stroke-linejoin:round; stroke-width:4; stroke-opacity:1; fill:none\" points=\"\n",
       "  455.774,1047.7 455.774,1028.8 \n",
       "  \"/>\n",
       "<polyline clip-path=\"url(#clip220)\" style=\"stroke:#000000; stroke-linecap:butt; stroke-linejoin:round; stroke-width:4; stroke-opacity:1; fill:none\" points=\"\n",
       "  893.068,1047.7 893.068,1028.8 \n",
       "  \"/>\n",
       "<polyline clip-path=\"url(#clip220)\" style=\"stroke:#000000; stroke-linecap:butt; stroke-linejoin:round; stroke-width:4; stroke-opacity:1; fill:none\" points=\"\n",
       "  1330.36,1047.7 1330.36,1028.8 \n",
       "  \"/>\n",
       "<polyline clip-path=\"url(#clip220)\" style=\"stroke:#000000; stroke-linecap:butt; stroke-linejoin:round; stroke-width:4; stroke-opacity:1; fill:none\" points=\"\n",
       "  1767.66,1047.7 1767.66,1028.8 \n",
       "  \"/>\n",
       "<polyline clip-path=\"url(#clip220)\" style=\"stroke:#000000; stroke-linecap:butt; stroke-linejoin:round; stroke-width:4; stroke-opacity:1; fill:none\" points=\"\n",
       "  2204.95,1047.7 2204.95,1028.8 \n",
       "  \"/>\n",
       "<path clip-path=\"url(#clip220)\" d=\"M446.051 1075.54 L464.408 1075.54 L464.408 1079.48 L450.334 1079.48 L450.334 1087.95 Q451.352 1087.6 452.371 1087.44 Q453.389 1087.25 454.408 1087.25 Q460.195 1087.25 463.575 1090.42 Q466.954 1093.6 466.954 1099.01 Q466.954 1104.59 463.482 1107.69 Q460.01 1110.77 453.69 1110.77 Q451.514 1110.77 449.246 1110.4 Q447.001 1110.03 444.593 1109.29 L444.593 1104.59 Q446.676 1105.72 448.899 1106.28 Q451.121 1106.84 453.598 1106.84 Q457.602 1106.84 459.94 1104.73 Q462.278 1102.62 462.278 1099.01 Q462.278 1095.4 459.94 1093.29 Q457.602 1091.19 453.598 1091.19 Q451.723 1091.19 449.848 1091.6 Q447.996 1092.02 446.051 1092.9 L446.051 1075.54 Z\" fill=\"#000000\" fill-rule=\"evenodd\" fill-opacity=\"1\" /><path clip-path=\"url(#clip220)\" d=\"M867.755 1106.16 L875.394 1106.16 L875.394 1079.8 L867.084 1081.47 L867.084 1077.21 L875.348 1075.54 L880.024 1075.54 L880.024 1106.16 L887.663 1106.16 L887.663 1110.1 L867.755 1110.1 L867.755 1106.16 Z\" fill=\"#000000\" fill-rule=\"evenodd\" fill-opacity=\"1\" /><path clip-path=\"url(#clip220)\" d=\"M907.107 1078.62 Q903.496 1078.62 901.667 1082.18 Q899.862 1085.72 899.862 1092.85 Q899.862 1099.96 901.667 1103.53 Q903.496 1107.07 907.107 1107.07 Q910.741 1107.07 912.547 1103.53 Q914.376 1099.96 914.376 1092.85 Q914.376 1085.72 912.547 1082.18 Q910.741 1078.62 907.107 1078.62 M907.107 1074.91 Q912.917 1074.91 915.973 1079.52 Q919.051 1084.1 919.051 1092.85 Q919.051 1101.58 915.973 1106.19 Q912.917 1110.77 907.107 1110.77 Q901.297 1110.77 898.218 1106.19 Q895.163 1101.58 895.163 1092.85 Q895.163 1084.1 898.218 1079.52 Q901.297 1074.91 907.107 1074.91 Z\" fill=\"#000000\" fill-rule=\"evenodd\" fill-opacity=\"1\" /><path clip-path=\"url(#clip220)\" d=\"M1305.55 1106.16 L1313.19 1106.16 L1313.19 1079.8 L1304.88 1081.47 L1304.88 1077.21 L1313.14 1075.54 L1317.82 1075.54 L1317.82 1106.16 L1325.45 1106.16 L1325.45 1110.1 L1305.55 1110.1 L1305.55 1106.16 Z\" fill=\"#000000\" fill-rule=\"evenodd\" fill-opacity=\"1\" /><path clip-path=\"url(#clip220)\" d=\"M1334.95 1075.54 L1353.3 1075.54 L1353.3 1079.48 L1339.23 1079.48 L1339.23 1087.95 Q1340.25 1087.6 1341.26 1087.44 Q1342.28 1087.25 1343.3 1087.25 Q1349.09 1087.25 1352.47 1090.42 Q1355.85 1093.6 1355.85 1099.01 Q1355.85 1104.59 1352.38 1107.69 Q1348.9 1110.77 1342.58 1110.77 Q1340.41 1110.77 1338.14 1110.4 Q1335.89 1110.03 1333.49 1109.29 L1333.49 1104.59 Q1335.57 1105.72 1337.79 1106.28 Q1340.01 1106.84 1342.49 1106.84 Q1346.5 1106.84 1348.83 1104.73 Q1351.17 1102.62 1351.17 1099.01 Q1351.17 1095.4 1348.83 1093.29 Q1346.5 1091.19 1342.49 1091.19 Q1340.62 1091.19 1338.74 1091.6 Q1336.89 1092.02 1334.95 1092.9 L1334.95 1075.54 Z\" fill=\"#000000\" fill-rule=\"evenodd\" fill-opacity=\"1\" /><path clip-path=\"url(#clip220)\" d=\"M1746.43 1106.16 L1762.75 1106.16 L1762.75 1110.1 L1740.8 1110.1 L1740.8 1106.16 Q1743.47 1103.41 1748.05 1098.78 Q1752.66 1094.13 1753.84 1092.79 Q1756.08 1090.26 1756.96 1088.53 Q1757.86 1086.77 1757.86 1085.08 Q1757.86 1082.32 1755.92 1080.59 Q1754 1078.85 1750.9 1078.85 Q1748.7 1078.85 1746.24 1079.61 Q1743.81 1080.38 1741.04 1081.93 L1741.04 1077.21 Q1743.86 1076.07 1746.31 1075.49 Q1748.77 1074.91 1750.8 1074.91 Q1756.17 1074.91 1759.37 1077.6 Q1762.56 1080.29 1762.56 1084.78 Q1762.56 1086.91 1761.75 1088.83 Q1760.97 1090.72 1758.86 1093.32 Q1758.28 1093.99 1755.18 1097.21 Q1752.08 1100.4 1746.43 1106.16 Z\" fill=\"#000000\" fill-rule=\"evenodd\" fill-opacity=\"1\" /><path clip-path=\"url(#clip220)\" d=\"M1782.56 1078.62 Q1778.95 1078.62 1777.12 1082.18 Q1775.32 1085.72 1775.32 1092.85 Q1775.32 1099.96 1777.12 1103.53 Q1778.95 1107.07 1782.56 1107.07 Q1786.2 1107.07 1788 1103.53 Q1789.83 1099.96 1789.83 1092.85 Q1789.83 1085.72 1788 1082.18 Q1786.2 1078.62 1782.56 1078.62 M1782.56 1074.91 Q1788.37 1074.91 1791.43 1079.52 Q1794.51 1084.1 1794.51 1092.85 Q1794.51 1101.58 1791.43 1106.19 Q1788.37 1110.77 1782.56 1110.77 Q1776.75 1110.77 1773.67 1106.19 Q1770.62 1101.58 1770.62 1092.85 Q1770.62 1084.1 1773.67 1079.52 Q1776.75 1074.91 1782.56 1074.91 Z\" fill=\"#000000\" fill-rule=\"evenodd\" fill-opacity=\"1\" /><path clip-path=\"url(#clip220)\" d=\"M2184.22 1106.16 L2200.54 1106.16 L2200.54 1110.1 L2178.6 1110.1 L2178.6 1106.16 Q2181.26 1103.41 2185.84 1098.78 Q2190.45 1094.13 2191.63 1092.79 Q2193.87 1090.26 2194.75 1088.53 Q2195.66 1086.77 2195.66 1085.08 Q2195.66 1082.32 2193.71 1080.59 Q2191.79 1078.85 2188.69 1078.85 Q2186.49 1078.85 2184.04 1079.61 Q2181.61 1080.38 2178.83 1081.93 L2178.83 1077.21 Q2181.65 1076.07 2184.11 1075.49 Q2186.56 1074.91 2188.6 1074.91 Q2193.97 1074.91 2197.16 1077.6 Q2200.36 1080.29 2200.36 1084.78 Q2200.36 1086.91 2199.55 1088.83 Q2198.76 1090.72 2196.65 1093.32 Q2196.07 1093.99 2192.97 1097.21 Q2189.87 1100.4 2184.22 1106.16 Z\" fill=\"#000000\" fill-rule=\"evenodd\" fill-opacity=\"1\" /><path clip-path=\"url(#clip220)\" d=\"M2210.4 1075.54 L2228.76 1075.54 L2228.76 1079.48 L2214.68 1079.48 L2214.68 1087.95 Q2215.7 1087.6 2216.72 1087.44 Q2217.74 1087.25 2218.76 1087.25 Q2224.55 1087.25 2227.92 1090.42 Q2231.3 1093.6 2231.3 1099.01 Q2231.3 1104.59 2227.83 1107.69 Q2224.36 1110.77 2218.04 1110.77 Q2215.86 1110.77 2213.6 1110.4 Q2211.35 1110.03 2208.94 1109.29 L2208.94 1104.59 Q2211.03 1105.72 2213.25 1106.28 Q2215.47 1106.84 2217.95 1106.84 Q2221.95 1106.84 2224.29 1104.73 Q2226.63 1102.62 2226.63 1099.01 Q2226.63 1095.4 2224.29 1093.29 Q2221.95 1091.19 2217.95 1091.19 Q2216.07 1091.19 2214.2 1091.6 Q2212.35 1092.02 2210.4 1092.9 L2210.4 1075.54 Z\" fill=\"#000000\" fill-rule=\"evenodd\" fill-opacity=\"1\" /><path clip-path=\"url(#clip220)\" d=\"M1220.16 1146.6 L1220.16 1152.87 Q1216.5 1151.12 1213.25 1150.26 Q1210.01 1149.4 1206.98 1149.4 Q1201.73 1149.4 1198.87 1151.44 Q1196.03 1153.48 1196.03 1157.23 Q1196.03 1160.39 1197.91 1162.01 Q1199.82 1163.6 1205.1 1164.59 L1208.99 1165.38 Q1216.18 1166.75 1219.59 1170.22 Q1223.02 1173.66 1223.02 1179.45 Q1223.02 1186.36 1218.38 1189.92 Q1213.76 1193.49 1204.82 1193.49 Q1201.44 1193.49 1197.62 1192.72 Q1193.84 1191.96 1189.76 1190.46 L1189.76 1183.84 Q1193.68 1186.04 1197.43 1187.15 Q1201.19 1188.27 1204.82 1188.27 Q1210.32 1188.27 1213.32 1186.1 Q1216.31 1183.94 1216.31 1179.93 Q1216.31 1176.43 1214.14 1174.45 Q1212.01 1172.48 1207.11 1171.49 L1203.19 1170.73 Q1196 1169.3 1192.79 1166.24 Q1189.57 1163.19 1189.57 1157.74 Q1189.57 1151.44 1194 1147.81 Q1198.45 1144.18 1206.25 1144.18 Q1209.59 1144.18 1213.06 1144.79 Q1216.53 1145.39 1220.16 1146.6 Z\" fill=\"#000000\" fill-rule=\"evenodd\" fill-opacity=\"1\" /><path clip-path=\"url(#clip220)\" d=\"M1238.46 1187.22 L1238.46 1206.12 L1232.57 1206.12 L1232.57 1156.92 L1238.46 1156.92 L1238.46 1162.33 Q1240.31 1159.14 1243.11 1157.62 Q1245.94 1156.06 1249.85 1156.06 Q1256.35 1156.06 1260.39 1161.21 Q1264.46 1166.37 1264.46 1174.77 Q1264.46 1183.17 1260.39 1188.33 Q1256.35 1193.49 1249.85 1193.49 Q1245.94 1193.49 1243.11 1191.96 Q1240.31 1190.4 1238.46 1187.22 M1258.38 1174.77 Q1258.38 1168.31 1255.71 1164.65 Q1253.07 1160.96 1248.42 1160.96 Q1243.78 1160.96 1241.1 1164.65 Q1238.46 1168.31 1238.46 1174.77 Q1238.46 1181.23 1241.1 1184.92 Q1243.78 1188.59 1248.42 1188.59 Q1253.07 1188.59 1255.71 1184.92 Q1258.38 1181.23 1258.38 1174.77 Z\" fill=\"#000000\" fill-rule=\"evenodd\" fill-opacity=\"1\" /><path clip-path=\"url(#clip220)\" d=\"M1304.66 1173.28 L1304.66 1176.14 L1277.74 1176.14 Q1278.12 1182.19 1281.37 1185.37 Q1284.64 1188.52 1290.47 1188.52 Q1293.84 1188.52 1296.99 1187.69 Q1300.18 1186.87 1303.29 1185.21 L1303.29 1190.75 Q1300.14 1192.09 1296.83 1192.79 Q1293.52 1193.49 1290.12 1193.49 Q1281.59 1193.49 1276.59 1188.52 Q1271.63 1183.56 1271.63 1175.09 Q1271.63 1166.34 1276.34 1161.21 Q1281.08 1156.06 1289.1 1156.06 Q1296.29 1156.06 1300.46 1160.7 Q1304.66 1165.32 1304.66 1173.28 M1298.81 1171.56 Q1298.74 1166.75 1296.1 1163.89 Q1293.49 1161.02 1289.16 1161.02 Q1284.26 1161.02 1281.3 1163.79 Q1278.37 1166.56 1277.93 1171.59 L1298.81 1171.56 Z\" fill=\"#000000\" fill-rule=\"evenodd\" fill-opacity=\"1\" /><path clip-path=\"url(#clip220)\" d=\"M1344.77 1173.28 L1344.77 1176.14 L1317.84 1176.14 Q1318.22 1182.19 1321.47 1185.37 Q1324.75 1188.52 1330.57 1188.52 Q1333.95 1188.52 1337.1 1187.69 Q1340.28 1186.87 1343.4 1185.21 L1343.4 1190.75 Q1340.25 1192.09 1336.94 1192.79 Q1333.63 1193.49 1330.22 1193.49 Q1321.69 1193.49 1316.69 1188.52 Q1311.73 1183.56 1311.73 1175.09 Q1311.73 1166.34 1316.44 1161.21 Q1321.18 1156.06 1329.2 1156.06 Q1336.4 1156.06 1340.57 1160.7 Q1344.77 1165.32 1344.77 1173.28 M1338.91 1171.56 Q1338.85 1166.75 1336.21 1163.89 Q1333.6 1161.02 1329.27 1161.02 Q1324.37 1161.02 1321.41 1163.79 Q1318.48 1166.56 1318.03 1171.59 L1338.91 1171.56 Z\" fill=\"#000000\" fill-rule=\"evenodd\" fill-opacity=\"1\" /><path clip-path=\"url(#clip220)\" d=\"M1377.84 1162.33 L1377.84 1143.04 L1383.69 1143.04 L1383.69 1192.56 L1377.84 1192.56 L1377.84 1187.22 Q1375.99 1190.4 1373.16 1191.96 Q1370.36 1193.49 1366.41 1193.49 Q1359.95 1193.49 1355.88 1188.33 Q1351.83 1183.17 1351.83 1174.77 Q1351.83 1166.37 1355.88 1161.21 Q1359.95 1156.06 1366.41 1156.06 Q1370.36 1156.06 1373.16 1157.62 Q1375.99 1159.14 1377.84 1162.33 M1357.88 1174.77 Q1357.88 1181.23 1360.52 1184.92 Q1363.2 1188.59 1367.84 1188.59 Q1372.49 1188.59 1375.16 1184.92 Q1377.84 1181.23 1377.84 1174.77 Q1377.84 1168.31 1375.16 1164.65 Q1372.49 1160.96 1367.84 1160.96 Q1363.2 1160.96 1360.52 1164.65 Q1357.88 1168.31 1357.88 1174.77 Z\" fill=\"#000000\" fill-rule=\"evenodd\" fill-opacity=\"1\" /><polyline clip-path=\"url(#clip222)\" style=\"stroke:#000000; stroke-linecap:butt; stroke-linejoin:round; stroke-width:2; stroke-opacity:0.1; fill:none\" points=\"\n",
       "  220.509,932.127 2352.76,932.127 \n",
       "  \"/>\n",
       "<polyline clip-path=\"url(#clip222)\" style=\"stroke:#000000; stroke-linecap:butt; stroke-linejoin:round; stroke-width:2; stroke-opacity:0.1; fill:none\" points=\"\n",
       "  220.509,753.675 2352.76,753.675 \n",
       "  \"/>\n",
       "<polyline clip-path=\"url(#clip222)\" style=\"stroke:#000000; stroke-linecap:butt; stroke-linejoin:round; stroke-width:2; stroke-opacity:0.1; fill:none\" points=\"\n",
       "  220.509,575.224 2352.76,575.224 \n",
       "  \"/>\n",
       "<polyline clip-path=\"url(#clip222)\" style=\"stroke:#000000; stroke-linecap:butt; stroke-linejoin:round; stroke-width:2; stroke-opacity:0.1; fill:none\" points=\"\n",
       "  220.509,396.772 2352.76,396.772 \n",
       "  \"/>\n",
       "<polyline clip-path=\"url(#clip222)\" style=\"stroke:#000000; stroke-linecap:butt; stroke-linejoin:round; stroke-width:2; stroke-opacity:0.1; fill:none\" points=\"\n",
       "  220.509,218.32 2352.76,218.32 \n",
       "  \"/>\n",
       "<polyline clip-path=\"url(#clip220)\" style=\"stroke:#000000; stroke-linecap:butt; stroke-linejoin:round; stroke-width:4; stroke-opacity:1; fill:none\" points=\"\n",
       "  220.509,1047.7 220.509,47.2441 \n",
       "  \"/>\n",
       "<polyline clip-path=\"url(#clip220)\" style=\"stroke:#000000; stroke-linecap:butt; stroke-linejoin:round; stroke-width:4; stroke-opacity:1; fill:none\" points=\"\n",
       "  220.509,932.127 239.407,932.127 \n",
       "  \"/>\n",
       "<polyline clip-path=\"url(#clip220)\" style=\"stroke:#000000; stroke-linecap:butt; stroke-linejoin:round; stroke-width:4; stroke-opacity:1; fill:none\" points=\"\n",
       "  220.509,753.675 239.407,753.675 \n",
       "  \"/>\n",
       "<polyline clip-path=\"url(#clip220)\" style=\"stroke:#000000; stroke-linecap:butt; stroke-linejoin:round; stroke-width:4; stroke-opacity:1; fill:none\" points=\"\n",
       "  220.509,575.224 239.407,575.224 \n",
       "  \"/>\n",
       "<polyline clip-path=\"url(#clip220)\" style=\"stroke:#000000; stroke-linecap:butt; stroke-linejoin:round; stroke-width:4; stroke-opacity:1; fill:none\" points=\"\n",
       "  220.509,396.772 239.407,396.772 \n",
       "  \"/>\n",
       "<polyline clip-path=\"url(#clip220)\" style=\"stroke:#000000; stroke-linecap:butt; stroke-linejoin:round; stroke-width:4; stroke-opacity:1; fill:none\" points=\"\n",
       "  220.509,218.32 239.407,218.32 \n",
       "  \"/>\n",
       "<path clip-path=\"url(#clip220)\" d=\"M172.565 917.926 Q168.954 917.926 167.125 921.49 Q165.32 925.032 165.32 932.162 Q165.32 939.268 167.125 942.833 Q168.954 946.374 172.565 946.374 Q176.199 946.374 178.005 942.833 Q179.833 939.268 179.833 932.162 Q179.833 925.032 178.005 921.49 Q176.199 917.926 172.565 917.926 M172.565 914.222 Q178.375 914.222 181.431 918.828 Q184.509 923.412 184.509 932.162 Q184.509 940.888 181.431 945.495 Q178.375 950.078 172.565 950.078 Q166.755 950.078 163.676 945.495 Q160.621 940.888 160.621 932.162 Q160.621 923.412 163.676 918.828 Q166.755 914.222 172.565 914.222 Z\" fill=\"#000000\" fill-rule=\"evenodd\" fill-opacity=\"1\" /><path clip-path=\"url(#clip220)\" d=\"M137.426 767.02 L153.746 767.02 L153.746 770.955 L131.801 770.955 L131.801 767.02 Q134.463 764.265 139.047 759.636 Q143.653 754.983 144.834 753.64 Q147.079 751.117 147.959 749.381 Q148.861 747.622 148.861 745.932 Q148.861 743.178 146.917 741.441 Q144.996 739.705 141.894 739.705 Q139.695 739.705 137.241 740.469 Q134.811 741.233 132.033 742.784 L132.033 738.062 Q134.857 736.928 137.311 736.349 Q139.764 735.77 141.801 735.77 Q147.172 735.77 150.366 738.455 Q153.56 741.141 153.56 745.631 Q153.56 747.761 152.75 749.682 Q151.963 751.58 149.857 754.173 Q149.278 754.844 146.176 758.062 Q143.074 761.256 137.426 767.02 Z\" fill=\"#000000\" fill-rule=\"evenodd\" fill-opacity=\"1\" /><path clip-path=\"url(#clip220)\" d=\"M163.607 736.395 L181.963 736.395 L181.963 740.33 L167.889 740.33 L167.889 748.803 Q168.908 748.455 169.926 748.293 Q170.945 748.108 171.963 748.108 Q177.75 748.108 181.13 751.279 Q184.509 754.451 184.509 759.867 Q184.509 765.446 181.037 768.548 Q177.565 771.626 171.246 771.626 Q169.07 771.626 166.801 771.256 Q164.556 770.886 162.148 770.145 L162.148 765.446 Q164.232 766.58 166.454 767.136 Q168.676 767.691 171.153 767.691 Q175.158 767.691 177.495 765.585 Q179.833 763.478 179.833 759.867 Q179.833 756.256 177.495 754.15 Q175.158 752.043 171.153 752.043 Q169.278 752.043 167.403 752.46 Q165.551 752.877 163.607 753.756 L163.607 736.395 Z\" fill=\"#000000\" fill-rule=\"evenodd\" fill-opacity=\"1\" /><path clip-path=\"url(#clip220)\" d=\"M132.449 557.944 L150.806 557.944 L150.806 561.879 L136.732 561.879 L136.732 570.351 Q137.75 570.004 138.769 569.842 Q139.787 569.656 140.806 569.656 Q146.593 569.656 149.972 572.828 Q153.352 575.999 153.352 581.416 Q153.352 586.994 149.88 590.096 Q146.408 593.175 140.088 593.175 Q137.912 593.175 135.644 592.804 Q133.399 592.434 130.991 591.693 L130.991 586.994 Q133.074 588.129 135.297 588.684 Q137.519 589.24 139.996 589.24 Q144 589.24 146.338 587.133 Q148.676 585.027 148.676 581.416 Q148.676 577.805 146.338 575.698 Q144 573.592 139.996 573.592 Q138.121 573.592 136.246 574.008 Q134.394 574.425 132.449 575.305 L132.449 557.944 Z\" fill=\"#000000\" fill-rule=\"evenodd\" fill-opacity=\"1\" /><path clip-path=\"url(#clip220)\" d=\"M172.565 561.022 Q168.954 561.022 167.125 564.587 Q165.32 568.129 165.32 575.258 Q165.32 582.365 167.125 585.929 Q168.954 589.471 172.565 589.471 Q176.199 589.471 178.005 585.929 Q179.833 582.365 179.833 575.258 Q179.833 568.129 178.005 564.587 Q176.199 561.022 172.565 561.022 M172.565 557.319 Q178.375 557.319 181.431 561.925 Q184.509 566.508 184.509 575.258 Q184.509 583.985 181.431 588.592 Q178.375 593.175 172.565 593.175 Q166.755 593.175 163.676 588.592 Q160.621 583.985 160.621 575.258 Q160.621 566.508 163.676 561.925 Q166.755 557.319 172.565 557.319 Z\" fill=\"#000000\" fill-rule=\"evenodd\" fill-opacity=\"1\" /><path clip-path=\"url(#clip220)\" d=\"M132.218 379.492 L154.44 379.492 L154.44 381.483 L141.894 414.052 L137.01 414.052 L148.815 383.427 L132.218 383.427 L132.218 379.492 Z\" fill=\"#000000\" fill-rule=\"evenodd\" fill-opacity=\"1\" /><path clip-path=\"url(#clip220)\" d=\"M163.607 379.492 L181.963 379.492 L181.963 383.427 L167.889 383.427 L167.889 391.899 Q168.908 391.552 169.926 391.39 Q170.945 391.205 171.963 391.205 Q177.75 391.205 181.13 394.376 Q184.509 397.547 184.509 402.964 Q184.509 408.543 181.037 411.644 Q177.565 414.723 171.246 414.723 Q169.07 414.723 166.801 414.353 Q164.556 413.982 162.148 413.242 L162.148 408.543 Q164.232 409.677 166.454 410.232 Q168.676 410.788 171.153 410.788 Q175.158 410.788 177.495 408.682 Q179.833 406.575 179.833 402.964 Q179.833 399.353 177.495 397.246 Q175.158 395.14 171.153 395.14 Q169.278 395.14 167.403 395.557 Q165.551 395.973 163.607 396.853 L163.607 379.492 Z\" fill=\"#000000\" fill-rule=\"evenodd\" fill-opacity=\"1\" /><path clip-path=\"url(#clip220)\" d=\"M103.051 231.665 L110.69 231.665 L110.69 205.299 L102.38 206.966 L102.38 202.707 L110.644 201.04 L115.32 201.04 L115.32 231.665 L122.959 231.665 L122.959 235.6 L103.051 235.6 L103.051 231.665 Z\" fill=\"#000000\" fill-rule=\"evenodd\" fill-opacity=\"1\" /><path clip-path=\"url(#clip220)\" d=\"M142.403 204.119 Q138.792 204.119 136.963 207.684 Q135.158 211.225 135.158 218.355 Q135.158 225.461 136.963 229.026 Q138.792 232.568 142.403 232.568 Q146.037 232.568 147.843 229.026 Q149.672 225.461 149.672 218.355 Q149.672 211.225 147.843 207.684 Q146.037 204.119 142.403 204.119 M142.403 200.415 Q148.213 200.415 151.269 205.022 Q154.347 209.605 154.347 218.355 Q154.347 227.082 151.269 231.688 Q148.213 236.272 142.403 236.272 Q136.593 236.272 133.514 231.688 Q130.459 227.082 130.459 218.355 Q130.459 209.605 133.514 205.022 Q136.593 200.415 142.403 200.415 Z\" fill=\"#000000\" fill-rule=\"evenodd\" fill-opacity=\"1\" /><path clip-path=\"url(#clip220)\" d=\"M172.565 204.119 Q168.954 204.119 167.125 207.684 Q165.32 211.225 165.32 218.355 Q165.32 225.461 167.125 229.026 Q168.954 232.568 172.565 232.568 Q176.199 232.568 178.005 229.026 Q179.833 225.461 179.833 218.355 Q179.833 211.225 178.005 207.684 Q176.199 204.119 172.565 204.119 M172.565 200.415 Q178.375 200.415 181.431 205.022 Q184.509 209.605 184.509 218.355 Q184.509 227.082 181.431 231.688 Q178.375 236.272 172.565 236.272 Q166.755 236.272 163.676 231.688 Q160.621 227.082 160.621 218.355 Q160.621 209.605 163.676 205.022 Q166.755 200.415 172.565 200.415 Z\" fill=\"#000000\" fill-rule=\"evenodd\" fill-opacity=\"1\" /><path clip-path=\"url(#clip220)\" d=\"M9.88769 600.976 L46.8406 600.976 L46.8406 593.21 Q46.8406 583.375 42.3846 578.823 Q37.9286 574.24 28.3164 574.24 Q18.7679 574.24 14.3437 578.823 Q9.88769 583.375 9.88769 593.21 L9.88769 600.976 M4.60416 607.405 L4.60416 594.196 Q4.60416 580.383 10.3651 573.921 Q16.0943 567.46 28.3164 567.46 Q40.6022 567.46 46.3632 573.953 Q52.1242 580.446 52.1242 594.196 L52.1242 607.405 L4.60416 607.405 Z\" fill=\"#000000\" fill-rule=\"evenodd\" fill-opacity=\"1\" /><path clip-path=\"url(#clip220)\" d=\"M16.4762 557.466 L16.4762 551.61 L52.1242 551.61 L52.1242 557.466 L16.4762 557.466 M2.59896 557.466 L2.59896 551.61 L10.015 551.61 L10.015 557.466 L2.59896 557.466 Z\" fill=\"#000000\" fill-rule=\"evenodd\" fill-opacity=\"1\" /><path clip-path=\"url(#clip220)\" d=\"M17.5265 516.63 L23.0647 516.63 Q21.7916 519.113 21.155 521.786 Q20.5184 524.46 20.5184 527.325 Q20.5184 531.685 21.8552 533.881 Q23.192 536.046 25.8656 536.046 Q27.9026 536.046 29.0803 534.486 Q30.2261 532.926 31.2765 528.216 L31.7221 526.211 Q33.0589 519.972 35.5097 517.362 Q37.9286 514.72 42.2891 514.72 Q47.2544 514.72 50.1508 518.667 Q53.0472 522.582 53.0472 529.457 Q53.0472 532.322 52.4743 535.441 Q51.9332 538.528 50.8192 541.966 L44.7718 541.966 Q46.4587 538.719 47.318 535.568 Q48.1456 532.417 48.1456 529.33 Q48.1456 525.192 46.7451 522.964 Q45.3129 520.736 42.7347 520.736 Q40.3476 520.736 39.0745 522.359 Q37.8013 523.951 36.6237 529.393 L36.1462 531.43 Q35.0004 536.873 32.6451 539.292 Q30.258 541.711 26.1202 541.711 Q21.0913 541.711 18.3541 538.146 Q15.6168 534.581 15.6168 528.025 Q15.6168 524.778 16.0943 521.914 Q16.5717 519.049 17.5265 516.63 Z\" fill=\"#000000\" fill-rule=\"evenodd\" fill-opacity=\"1\" /><path clip-path=\"url(#clip220)\" d=\"M6.35473 499.602 L16.4762 499.602 L16.4762 487.539 L21.0277 487.539 L21.0277 499.602 L40.3794 499.602 Q44.7399 499.602 45.9813 498.424 Q47.2226 497.215 47.2226 493.554 L47.2226 487.539 L52.1242 487.539 L52.1242 493.554 Q52.1242 500.334 49.6097 502.912 Q47.0634 505.49 40.3794 505.49 L21.0277 505.49 L21.0277 509.787 L16.4762 509.787 L16.4762 505.49 L6.35473 505.49 L6.35473 499.602 Z\" fill=\"#000000\" fill-rule=\"evenodd\" fill-opacity=\"1\" /><circle clip-path=\"url(#clip222)\" cx=\"1505.28\" cy=\"575.224\" r=\"14\" fill=\"#009af9\" fill-rule=\"evenodd\" fill-opacity=\"1\" stroke=\"#000000\" stroke-opacity=\"1\" stroke-width=\"2.4\"/>\n",
       "<circle clip-path=\"url(#clip222)\" cx=\"1067.99\" cy=\"789.366\" r=\"14\" fill=\"#009af9\" fill-rule=\"evenodd\" fill-opacity=\"1\" stroke=\"#000000\" stroke-opacity=\"1\" stroke-width=\"2.4\"/>\n",
       "<circle clip-path=\"url(#clip222)\" cx=\"1592.74\" cy=\"332.529\" r=\"14\" fill=\"#009af9\" fill-rule=\"evenodd\" fill-opacity=\"1\" stroke=\"#000000\" stroke-opacity=\"1\" stroke-width=\"2.4\"/>\n",
       "<circle clip-path=\"url(#clip222)\" cx=\"1505.28\" cy=\"646.604\" r=\"14\" fill=\"#009af9\" fill-rule=\"evenodd\" fill-opacity=\"1\" stroke=\"#000000\" stroke-opacity=\"1\" stroke-width=\"2.4\"/>\n",
       "<circle clip-path=\"url(#clip222)\" cx=\"1417.82\" cy=\"646.604\" r=\"14\" fill=\"#009af9\" fill-rule=\"evenodd\" fill-opacity=\"1\" stroke=\"#000000\" stroke-opacity=\"1\" stroke-width=\"2.4\"/>\n",
       "<circle clip-path=\"url(#clip222)\" cx=\"1592.74\" cy=\"389.634\" r=\"14\" fill=\"#009af9\" fill-rule=\"evenodd\" fill-opacity=\"1\" stroke=\"#000000\" stroke-opacity=\"1\" stroke-width=\"2.4\"/>\n",
       "<circle clip-path=\"url(#clip222)\" cx=\"1417.82\" cy=\"703.709\" r=\"14\" fill=\"#009af9\" fill-rule=\"evenodd\" fill-opacity=\"1\" stroke=\"#000000\" stroke-opacity=\"1\" stroke-width=\"2.4\"/>\n",
       "<circle clip-path=\"url(#clip222)\" cx=\"1505.28\" cy=\"703.709\" r=\"14\" fill=\"#009af9\" fill-rule=\"evenodd\" fill-opacity=\"1\" stroke=\"#000000\" stroke-opacity=\"1\" stroke-width=\"2.4\"/>\n",
       "<circle clip-path=\"url(#clip222)\" cx=\"1680.2\" cy=\"446.738\" r=\"14\" fill=\"#009af9\" fill-rule=\"evenodd\" fill-opacity=\"1\" stroke=\"#000000\" stroke-opacity=\"1\" stroke-width=\"2.4\"/>\n",
       "<circle clip-path=\"url(#clip222)\" cx=\"1242.9\" cy=\"503.843\" r=\"14\" fill=\"#009af9\" fill-rule=\"evenodd\" fill-opacity=\"1\" stroke=\"#000000\" stroke-opacity=\"1\" stroke-width=\"2.4\"/>\n",
       "<circle clip-path=\"url(#clip222)\" cx=\"893.068\" cy=\"803.642\" r=\"14\" fill=\"#009af9\" fill-rule=\"evenodd\" fill-opacity=\"1\" stroke=\"#000000\" stroke-opacity=\"1\" stroke-width=\"2.4\"/>\n",
       "<circle clip-path=\"url(#clip222)\" cx=\"1942.57\" cy=\"461.014\" r=\"14\" fill=\"#009af9\" fill-rule=\"evenodd\" fill-opacity=\"1\" stroke=\"#000000\" stroke-opacity=\"1\" stroke-width=\"2.4\"/>\n",
       "<circle clip-path=\"url(#clip222)\" cx=\"1767.66\" cy=\"475.291\" r=\"14\" fill=\"#009af9\" fill-rule=\"evenodd\" fill-opacity=\"1\" stroke=\"#000000\" stroke-opacity=\"1\" stroke-width=\"2.4\"/>\n",
       "<circle clip-path=\"url(#clip222)\" cx=\"1067.99\" cy=\"760.813\" r=\"14\" fill=\"#009af9\" fill-rule=\"evenodd\" fill-opacity=\"1\" stroke=\"#000000\" stroke-opacity=\"1\" stroke-width=\"2.4\"/>\n",
       "<circle clip-path=\"url(#clip222)\" cx=\"1592.74\" cy=\"532.395\" r=\"14\" fill=\"#009af9\" fill-rule=\"evenodd\" fill-opacity=\"1\" stroke=\"#000000\" stroke-opacity=\"1\" stroke-width=\"2.4\"/>\n",
       "<circle clip-path=\"url(#clip222)\" cx=\"2117.49\" cy=\"268.287\" r=\"14\" fill=\"#009af9\" fill-rule=\"evenodd\" fill-opacity=\"1\" stroke=\"#000000\" stroke-opacity=\"1\" stroke-width=\"2.4\"/>\n",
       "<circle clip-path=\"url(#clip222)\" cx=\"980.527\" cy=\"732.261\" r=\"14\" fill=\"#009af9\" fill-rule=\"evenodd\" fill-opacity=\"1\" stroke=\"#000000\" stroke-opacity=\"1\" stroke-width=\"2.4\"/>\n",
       "<circle clip-path=\"url(#clip222)\" cx=\"1330.36\" cy=\"789.366\" r=\"14\" fill=\"#009af9\" fill-rule=\"evenodd\" fill-opacity=\"1\" stroke=\"#000000\" stroke-opacity=\"1\" stroke-width=\"2.4\"/>\n",
       "<circle clip-path=\"url(#clip222)\" cx=\"1242.9\" cy=\"361.082\" r=\"14\" fill=\"#009af9\" fill-rule=\"evenodd\" fill-opacity=\"1\" stroke=\"#000000\" stroke-opacity=\"1\" stroke-width=\"2.4\"/>\n",
       "<circle clip-path=\"url(#clip222)\" cx=\"1242.9\" cy=\"675.156\" r=\"14\" fill=\"#009af9\" fill-rule=\"evenodd\" fill-opacity=\"1\" stroke=\"#000000\" stroke-opacity=\"1\" stroke-width=\"2.4\"/>\n",
       "<circle clip-path=\"url(#clip222)\" cx=\"2204.95\" cy=\"325.391\" r=\"14\" fill=\"#009af9\" fill-rule=\"evenodd\" fill-opacity=\"1\" stroke=\"#000000\" stroke-opacity=\"1\" stroke-width=\"2.4\"/>\n",
       "<circle clip-path=\"url(#clip222)\" cx=\"1155.44\" cy=\"689.433\" r=\"14\" fill=\"#009af9\" fill-rule=\"evenodd\" fill-opacity=\"1\" stroke=\"#000000\" stroke-opacity=\"1\" stroke-width=\"2.4\"/>\n",
       "<circle clip-path=\"url(#clip222)\" cx=\"1767.66\" cy=\"589.5\" r=\"14\" fill=\"#009af9\" fill-rule=\"evenodd\" fill-opacity=\"1\" stroke=\"#000000\" stroke-opacity=\"1\" stroke-width=\"2.4\"/>\n",
       "<circle clip-path=\"url(#clip222)\" cx=\"1592.74\" cy=\"632.328\" r=\"14\" fill=\"#009af9\" fill-rule=\"evenodd\" fill-opacity=\"1\" stroke=\"#000000\" stroke-opacity=\"1\" stroke-width=\"2.4\"/>\n",
       "<circle clip-path=\"url(#clip222)\" cx=\"1767.66\" cy=\"703.709\" r=\"14\" fill=\"#009af9\" fill-rule=\"evenodd\" fill-opacity=\"1\" stroke=\"#000000\" stroke-opacity=\"1\" stroke-width=\"2.4\"/>\n",
       "<circle clip-path=\"url(#clip222)\" cx=\"805.609\" cy=\"860.746\" r=\"14\" fill=\"#009af9\" fill-rule=\"evenodd\" fill-opacity=\"1\" stroke=\"#000000\" stroke-opacity=\"1\" stroke-width=\"2.4\"/>\n",
       "<circle clip-path=\"url(#clip222)\" cx=\"1155.44\" cy=\"603.776\" r=\"14\" fill=\"#009af9\" fill-rule=\"evenodd\" fill-opacity=\"1\" stroke=\"#000000\" stroke-opacity=\"1\" stroke-width=\"2.4\"/>\n",
       "<circle clip-path=\"url(#clip222)\" cx=\"1767.66\" cy=\"532.395\" r=\"14\" fill=\"#009af9\" fill-rule=\"evenodd\" fill-opacity=\"1\" stroke=\"#000000\" stroke-opacity=\"1\" stroke-width=\"2.4\"/>\n",
       "<circle clip-path=\"url(#clip222)\" cx=\"1767.66\" cy=\"560.947\" r=\"14\" fill=\"#009af9\" fill-rule=\"evenodd\" fill-opacity=\"1\" stroke=\"#000000\" stroke-opacity=\"1\" stroke-width=\"2.4\"/>\n",
       "<circle clip-path=\"url(#clip222)\" cx=\"1330.36\" cy=\"746.537\" r=\"14\" fill=\"#009af9\" fill-rule=\"evenodd\" fill-opacity=\"1\" stroke=\"#000000\" stroke-opacity=\"1\" stroke-width=\"2.4\"/>\n",
       "<circle clip-path=\"url(#clip222)\" cx=\"2117.49\" cy=\"75.5589\" r=\"14\" fill=\"#009af9\" fill-rule=\"evenodd\" fill-opacity=\"1\" stroke=\"#000000\" stroke-opacity=\"1\" stroke-width=\"2.4\"/>\n",
       "<circle clip-path=\"url(#clip222)\" cx=\"630.691\" cy=\"903.575\" r=\"14\" fill=\"#009af9\" fill-rule=\"evenodd\" fill-opacity=\"1\" stroke=\"#000000\" stroke-opacity=\"1\" stroke-width=\"2.4\"/>\n",
       "<circle clip-path=\"url(#clip222)\" cx=\"1067.99\" cy=\"732.261\" r=\"14\" fill=\"#009af9\" fill-rule=\"evenodd\" fill-opacity=\"1\" stroke=\"#000000\" stroke-opacity=\"1\" stroke-width=\"2.4\"/>\n",
       "<circle clip-path=\"url(#clip222)\" cx=\"1155.44\" cy=\"746.537\" r=\"14\" fill=\"#009af9\" fill-rule=\"evenodd\" fill-opacity=\"1\" stroke=\"#000000\" stroke-opacity=\"1\" stroke-width=\"2.4\"/>\n",
       "<circle clip-path=\"url(#clip222)\" cx=\"368.315\" cy=\"860.746\" r=\"14\" fill=\"#009af9\" fill-rule=\"evenodd\" fill-opacity=\"1\" stroke=\"#000000\" stroke-opacity=\"1\" stroke-width=\"2.4\"/>\n",
       "<circle clip-path=\"url(#clip222)\" cx=\"1242.9\" cy=\"746.537\" r=\"14\" fill=\"#009af9\" fill-rule=\"evenodd\" fill-opacity=\"1\" stroke=\"#000000\" stroke-opacity=\"1\" stroke-width=\"2.4\"/>\n",
       "<circle clip-path=\"url(#clip222)\" cx=\"980.527\" cy=\"810.78\" r=\"14\" fill=\"#009af9\" fill-rule=\"evenodd\" fill-opacity=\"1\" stroke=\"#000000\" stroke-opacity=\"1\" stroke-width=\"2.4\"/>\n",
       "<circle clip-path=\"url(#clip222)\" cx=\"630.691\" cy=\"775.089\" r=\"14\" fill=\"#009af9\" fill-rule=\"evenodd\" fill-opacity=\"1\" stroke=\"#000000\" stroke-opacity=\"1\" stroke-width=\"2.4\"/>\n",
       "<circle clip-path=\"url(#clip222)\" cx=\"280.856\" cy=\"1019.39\" r=\"14\" fill=\"#cd5c5c\" fill-rule=\"evenodd\" fill-opacity=\"1\" stroke=\"#000000\" stroke-opacity=\"1\" stroke-width=\"2.4\"/>\n",
       "<circle clip-path=\"url(#clip222)\" cx=\"324.585\" cy=\"979.518\" r=\"14\" fill=\"#cd5c5c\" fill-rule=\"evenodd\" fill-opacity=\"1\" stroke=\"#000000\" stroke-opacity=\"1\" stroke-width=\"2.4\"/>\n",
       "<circle clip-path=\"url(#clip222)\" cx=\"368.315\" cy=\"943.307\" r=\"14\" fill=\"#cd5c5c\" fill-rule=\"evenodd\" fill-opacity=\"1\" stroke=\"#000000\" stroke-opacity=\"1\" stroke-width=\"2.4\"/>\n",
       "<circle clip-path=\"url(#clip222)\" cx=\"412.044\" cy=\"924.624\" r=\"14\" fill=\"#cd5c5c\" fill-rule=\"evenodd\" fill-opacity=\"1\" stroke=\"#000000\" stroke-opacity=\"1\" stroke-width=\"2.4\"/>\n",
       "<circle clip-path=\"url(#clip222)\" cx=\"455.774\" cy=\"940.737\" r=\"14\" fill=\"#cd5c5c\" fill-rule=\"evenodd\" fill-opacity=\"1\" stroke=\"#000000\" stroke-opacity=\"1\" stroke-width=\"2.4\"/>\n",
       "<circle clip-path=\"url(#clip222)\" cx=\"499.503\" cy=\"936.611\" r=\"14\" fill=\"#cd5c5c\" fill-rule=\"evenodd\" fill-opacity=\"1\" stroke=\"#000000\" stroke-opacity=\"1\" stroke-width=\"2.4\"/>\n",
       "<circle clip-path=\"url(#clip222)\" cx=\"543.232\" cy=\"874.292\" r=\"14\" fill=\"#cd5c5c\" fill-rule=\"evenodd\" fill-opacity=\"1\" stroke=\"#000000\" stroke-opacity=\"1\" stroke-width=\"2.4\"/>\n",
       "<circle clip-path=\"url(#clip222)\" cx=\"586.962\" cy=\"889.55\" r=\"14\" fill=\"#cd5c5c\" fill-rule=\"evenodd\" fill-opacity=\"1\" stroke=\"#000000\" stroke-opacity=\"1\" stroke-width=\"2.4\"/>\n",
       "<circle clip-path=\"url(#clip222)\" cx=\"630.691\" cy=\"862.261\" r=\"14\" fill=\"#cd5c5c\" fill-rule=\"evenodd\" fill-opacity=\"1\" stroke=\"#000000\" stroke-opacity=\"1\" stroke-width=\"2.4\"/>\n",
       "<circle clip-path=\"url(#clip222)\" cx=\"674.421\" cy=\"887.252\" r=\"14\" fill=\"#cd5c5c\" fill-rule=\"evenodd\" fill-opacity=\"1\" stroke=\"#000000\" stroke-opacity=\"1\" stroke-width=\"2.4\"/>\n",
       "<circle clip-path=\"url(#clip222)\" cx=\"718.15\" cy=\"859.463\" r=\"14\" fill=\"#cd5c5c\" fill-rule=\"evenodd\" fill-opacity=\"1\" stroke=\"#000000\" stroke-opacity=\"1\" stroke-width=\"2.4\"/>\n",
       "<circle clip-path=\"url(#clip222)\" cx=\"761.88\" cy=\"806.479\" r=\"14\" fill=\"#cd5c5c\" fill-rule=\"evenodd\" fill-opacity=\"1\" stroke=\"#000000\" stroke-opacity=\"1\" stroke-width=\"2.4\"/>\n",
       "<circle clip-path=\"url(#clip222)\" cx=\"805.609\" cy=\"788.057\" r=\"14\" fill=\"#cd5c5c\" fill-rule=\"evenodd\" fill-opacity=\"1\" stroke=\"#000000\" stroke-opacity=\"1\" stroke-width=\"2.4\"/>\n",
       "<circle clip-path=\"url(#clip222)\" cx=\"849.338\" cy=\"813.178\" r=\"14\" fill=\"#cd5c5c\" fill-rule=\"evenodd\" fill-opacity=\"1\" stroke=\"#000000\" stroke-opacity=\"1\" stroke-width=\"2.4\"/>\n",
       "<circle clip-path=\"url(#clip222)\" cx=\"893.068\" cy=\"814.596\" r=\"14\" fill=\"#cd5c5c\" fill-rule=\"evenodd\" fill-opacity=\"1\" stroke=\"#000000\" stroke-opacity=\"1\" stroke-width=\"2.4\"/>\n",
       "<circle clip-path=\"url(#clip222)\" cx=\"936.797\" cy=\"766.677\" r=\"14\" fill=\"#cd5c5c\" fill-rule=\"evenodd\" fill-opacity=\"1\" stroke=\"#000000\" stroke-opacity=\"1\" stroke-width=\"2.4\"/>\n",
       "<circle clip-path=\"url(#clip222)\" cx=\"980.527\" cy=\"787.47\" r=\"14\" fill=\"#cd5c5c\" fill-rule=\"evenodd\" fill-opacity=\"1\" stroke=\"#000000\" stroke-opacity=\"1\" stroke-width=\"2.4\"/>\n",
       "<circle clip-path=\"url(#clip222)\" cx=\"1024.26\" cy=\"734.523\" r=\"14\" fill=\"#cd5c5c\" fill-rule=\"evenodd\" fill-opacity=\"1\" stroke=\"#000000\" stroke-opacity=\"1\" stroke-width=\"2.4\"/>\n",
       "<circle clip-path=\"url(#clip222)\" cx=\"1067.99\" cy=\"760.451\" r=\"14\" fill=\"#cd5c5c\" fill-rule=\"evenodd\" fill-opacity=\"1\" stroke=\"#000000\" stroke-opacity=\"1\" stroke-width=\"2.4\"/>\n",
       "<circle clip-path=\"url(#clip222)\" cx=\"1111.71\" cy=\"701.314\" r=\"14\" fill=\"#cd5c5c\" fill-rule=\"evenodd\" fill-opacity=\"1\" stroke=\"#000000\" stroke-opacity=\"1\" stroke-width=\"2.4\"/>\n",
       "<circle clip-path=\"url(#clip222)\" cx=\"1155.44\" cy=\"720.012\" r=\"14\" fill=\"#cd5c5c\" fill-rule=\"evenodd\" fill-opacity=\"1\" stroke=\"#000000\" stroke-opacity=\"1\" stroke-width=\"2.4\"/>\n",
       "<circle clip-path=\"url(#clip222)\" cx=\"1199.17\" cy=\"661.312\" r=\"14\" fill=\"#cd5c5c\" fill-rule=\"evenodd\" fill-opacity=\"1\" stroke=\"#000000\" stroke-opacity=\"1\" stroke-width=\"2.4\"/>\n",
       "<circle clip-path=\"url(#clip222)\" cx=\"1242.9\" cy=\"654.386\" r=\"14\" fill=\"#cd5c5c\" fill-rule=\"evenodd\" fill-opacity=\"1\" stroke=\"#000000\" stroke-opacity=\"1\" stroke-width=\"2.4\"/>\n",
       "<circle clip-path=\"url(#clip222)\" cx=\"1286.63\" cy=\"657.8\" r=\"14\" fill=\"#cd5c5c\" fill-rule=\"evenodd\" fill-opacity=\"1\" stroke=\"#000000\" stroke-opacity=\"1\" stroke-width=\"2.4\"/>\n",
       "<circle clip-path=\"url(#clip222)\" cx=\"1330.36\" cy=\"625.008\" r=\"14\" fill=\"#cd5c5c\" fill-rule=\"evenodd\" fill-opacity=\"1\" stroke=\"#000000\" stroke-opacity=\"1\" stroke-width=\"2.4\"/>\n",
       "<circle clip-path=\"url(#clip222)\" cx=\"1374.09\" cy=\"624.403\" r=\"14\" fill=\"#cd5c5c\" fill-rule=\"evenodd\" fill-opacity=\"1\" stroke=\"#000000\" stroke-opacity=\"1\" stroke-width=\"2.4\"/>\n",
       "<circle clip-path=\"url(#clip222)\" cx=\"1417.82\" cy=\"598.169\" r=\"14\" fill=\"#cd5c5c\" fill-rule=\"evenodd\" fill-opacity=\"1\" stroke=\"#000000\" stroke-opacity=\"1\" stroke-width=\"2.4\"/>\n",
       "<circle clip-path=\"url(#clip222)\" cx=\"1461.55\" cy=\"593.002\" r=\"14\" fill=\"#cd5c5c\" fill-rule=\"evenodd\" fill-opacity=\"1\" stroke=\"#000000\" stroke-opacity=\"1\" stroke-width=\"2.4\"/>\n",
       "<circle clip-path=\"url(#clip222)\" cx=\"1505.28\" cy=\"542.866\" r=\"14\" fill=\"#cd5c5c\" fill-rule=\"evenodd\" fill-opacity=\"1\" stroke=\"#000000\" stroke-opacity=\"1\" stroke-width=\"2.4\"/>\n",
       "<circle clip-path=\"url(#clip222)\" cx=\"1549.01\" cy=\"569.334\" r=\"14\" fill=\"#cd5c5c\" fill-rule=\"evenodd\" fill-opacity=\"1\" stroke=\"#000000\" stroke-opacity=\"1\" stroke-width=\"2.4\"/>\n",
       "<circle clip-path=\"url(#clip222)\" cx=\"1592.74\" cy=\"576.461\" r=\"14\" fill=\"#cd5c5c\" fill-rule=\"evenodd\" fill-opacity=\"1\" stroke=\"#000000\" stroke-opacity=\"1\" stroke-width=\"2.4\"/>\n",
       "<circle clip-path=\"url(#clip222)\" cx=\"1636.47\" cy=\"524.811\" r=\"14\" fill=\"#cd5c5c\" fill-rule=\"evenodd\" fill-opacity=\"1\" stroke=\"#000000\" stroke-opacity=\"1\" stroke-width=\"2.4\"/>\n",
       "<circle clip-path=\"url(#clip222)\" cx=\"1680.2\" cy=\"531.774\" r=\"14\" fill=\"#cd5c5c\" fill-rule=\"evenodd\" fill-opacity=\"1\" stroke=\"#000000\" stroke-opacity=\"1\" stroke-width=\"2.4\"/>\n",
       "<circle clip-path=\"url(#clip222)\" cx=\"1723.93\" cy=\"528.887\" r=\"14\" fill=\"#cd5c5c\" fill-rule=\"evenodd\" fill-opacity=\"1\" stroke=\"#000000\" stroke-opacity=\"1\" stroke-width=\"2.4\"/>\n",
       "<circle clip-path=\"url(#clip222)\" cx=\"1767.66\" cy=\"467.452\" r=\"14\" fill=\"#cd5c5c\" fill-rule=\"evenodd\" fill-opacity=\"1\" stroke=\"#000000\" stroke-opacity=\"1\" stroke-width=\"2.4\"/>\n",
       "<circle clip-path=\"url(#clip222)\" cx=\"1811.39\" cy=\"436.642\" r=\"14\" fill=\"#cd5c5c\" fill-rule=\"evenodd\" fill-opacity=\"1\" stroke=\"#000000\" stroke-opacity=\"1\" stroke-width=\"2.4\"/>\n",
       "<circle clip-path=\"url(#clip222)\" cx=\"1855.12\" cy=\"483.746\" r=\"14\" fill=\"#cd5c5c\" fill-rule=\"evenodd\" fill-opacity=\"1\" stroke=\"#000000\" stroke-opacity=\"1\" stroke-width=\"2.4\"/>\n",
       "<circle clip-path=\"url(#clip222)\" cx=\"1898.84\" cy=\"393.465\" r=\"14\" fill=\"#cd5c5c\" fill-rule=\"evenodd\" fill-opacity=\"1\" stroke=\"#000000\" stroke-opacity=\"1\" stroke-width=\"2.4\"/>\n",
       "<circle clip-path=\"url(#clip222)\" cx=\"1942.57\" cy=\"451.497\" r=\"14\" fill=\"#cd5c5c\" fill-rule=\"evenodd\" fill-opacity=\"1\" stroke=\"#000000\" stroke-opacity=\"1\" stroke-width=\"2.4\"/>\n",
       "<circle clip-path=\"url(#clip222)\" cx=\"1986.3\" cy=\"404.1\" r=\"14\" fill=\"#cd5c5c\" fill-rule=\"evenodd\" fill-opacity=\"1\" stroke=\"#000000\" stroke-opacity=\"1\" stroke-width=\"2.4\"/>\n",
       "<circle clip-path=\"url(#clip222)\" cx=\"2030.03\" cy=\"377.022\" r=\"14\" fill=\"#cd5c5c\" fill-rule=\"evenodd\" fill-opacity=\"1\" stroke=\"#000000\" stroke-opacity=\"1\" stroke-width=\"2.4\"/>\n",
       "<circle clip-path=\"url(#clip222)\" cx=\"2073.76\" cy=\"365.502\" r=\"14\" fill=\"#cd5c5c\" fill-rule=\"evenodd\" fill-opacity=\"1\" stroke=\"#000000\" stroke-opacity=\"1\" stroke-width=\"2.4\"/>\n",
       "<circle clip-path=\"url(#clip222)\" cx=\"2117.49\" cy=\"320.94\" r=\"14\" fill=\"#cd5c5c\" fill-rule=\"evenodd\" fill-opacity=\"1\" stroke=\"#000000\" stroke-opacity=\"1\" stroke-width=\"2.4\"/>\n",
       "<circle clip-path=\"url(#clip222)\" cx=\"2161.22\" cy=\"333.588\" r=\"14\" fill=\"#cd5c5c\" fill-rule=\"evenodd\" fill-opacity=\"1\" stroke=\"#000000\" stroke-opacity=\"1\" stroke-width=\"2.4\"/>\n",
       "<circle clip-path=\"url(#clip222)\" cx=\"2204.95\" cy=\"309.863\" r=\"14\" fill=\"#cd5c5c\" fill-rule=\"evenodd\" fill-opacity=\"1\" stroke=\"#000000\" stroke-opacity=\"1\" stroke-width=\"2.4\"/>\n",
       "<circle clip-path=\"url(#clip222)\" cx=\"2248.68\" cy=\"297.61\" r=\"14\" fill=\"#cd5c5c\" fill-rule=\"evenodd\" fill-opacity=\"1\" stroke=\"#000000\" stroke-opacity=\"1\" stroke-width=\"2.4\"/>\n",
       "<circle clip-path=\"url(#clip222)\" cx=\"2292.41\" cy=\"270.99\" r=\"14\" fill=\"#cd5c5c\" fill-rule=\"evenodd\" fill-opacity=\"1\" stroke=\"#000000\" stroke-opacity=\"1\" stroke-width=\"2.4\"/>\n",
       "<circle clip-path=\"url(#clip222)\" cx=\"280.856\" cy=\"900.9\" r=\"14\" fill=\"#2e8b57\" fill-rule=\"evenodd\" fill-opacity=\"1\" stroke=\"#000000\" stroke-opacity=\"1\" stroke-width=\"2.4\"/>\n",
       "<circle clip-path=\"url(#clip222)\" cx=\"324.585\" cy=\"915.356\" r=\"14\" fill=\"#2e8b57\" fill-rule=\"evenodd\" fill-opacity=\"1\" stroke=\"#000000\" stroke-opacity=\"1\" stroke-width=\"2.4\"/>\n",
       "<circle clip-path=\"url(#clip222)\" cx=\"368.315\" cy=\"841.582\" r=\"14\" fill=\"#2e8b57\" fill-rule=\"evenodd\" fill-opacity=\"1\" stroke=\"#000000\" stroke-opacity=\"1\" stroke-width=\"2.4\"/>\n",
       "<circle clip-path=\"url(#clip222)\" cx=\"412.044\" cy=\"858.194\" r=\"14\" fill=\"#2e8b57\" fill-rule=\"evenodd\" fill-opacity=\"1\" stroke=\"#000000\" stroke-opacity=\"1\" stroke-width=\"2.4\"/>\n",
       "<circle clip-path=\"url(#clip222)\" cx=\"455.774\" cy=\"870.418\" r=\"14\" fill=\"#2e8b57\" fill-rule=\"evenodd\" fill-opacity=\"1\" stroke=\"#000000\" stroke-opacity=\"1\" stroke-width=\"2.4\"/>\n",
       "<circle clip-path=\"url(#clip222)\" cx=\"499.503\" cy=\"822.227\" r=\"14\" fill=\"#2e8b57\" fill-rule=\"evenodd\" fill-opacity=\"1\" stroke=\"#000000\" stroke-opacity=\"1\" stroke-width=\"2.4\"/>\n",
       "<circle clip-path=\"url(#clip222)\" cx=\"543.232\" cy=\"810.049\" r=\"14\" fill=\"#2e8b57\" fill-rule=\"evenodd\" fill-opacity=\"1\" stroke=\"#000000\" stroke-opacity=\"1\" stroke-width=\"2.4\"/>\n",
       "<circle clip-path=\"url(#clip222)\" cx=\"586.962\" cy=\"799.375\" r=\"14\" fill=\"#2e8b57\" fill-rule=\"evenodd\" fill-opacity=\"1\" stroke=\"#000000\" stroke-opacity=\"1\" stroke-width=\"2.4\"/>\n",
       "<circle clip-path=\"url(#clip222)\" cx=\"630.691\" cy=\"805.395\" r=\"14\" fill=\"#2e8b57\" fill-rule=\"evenodd\" fill-opacity=\"1\" stroke=\"#000000\" stroke-opacity=\"1\" stroke-width=\"2.4\"/>\n",
       "<circle clip-path=\"url(#clip222)\" cx=\"674.421\" cy=\"755.239\" r=\"14\" fill=\"#2e8b57\" fill-rule=\"evenodd\" fill-opacity=\"1\" stroke=\"#000000\" stroke-opacity=\"1\" stroke-width=\"2.4\"/>\n",
       "<circle clip-path=\"url(#clip222)\" cx=\"718.15\" cy=\"800.453\" r=\"14\" fill=\"#2e8b57\" fill-rule=\"evenodd\" fill-opacity=\"1\" stroke=\"#000000\" stroke-opacity=\"1\" stroke-width=\"2.4\"/>\n",
       "<circle clip-path=\"url(#clip222)\" cx=\"761.88\" cy=\"798.07\" r=\"14\" fill=\"#2e8b57\" fill-rule=\"evenodd\" fill-opacity=\"1\" stroke=\"#000000\" stroke-opacity=\"1\" stroke-width=\"2.4\"/>\n",
       "<circle clip-path=\"url(#clip222)\" cx=\"805.609\" cy=\"738.703\" r=\"14\" fill=\"#2e8b57\" fill-rule=\"evenodd\" fill-opacity=\"1\" stroke=\"#000000\" stroke-opacity=\"1\" stroke-width=\"2.4\"/>\n",
       "<circle clip-path=\"url(#clip222)\" cx=\"849.338\" cy=\"766.003\" r=\"14\" fill=\"#2e8b57\" fill-rule=\"evenodd\" fill-opacity=\"1\" stroke=\"#000000\" stroke-opacity=\"1\" stroke-width=\"2.4\"/>\n",
       "<circle clip-path=\"url(#clip222)\" cx=\"893.068\" cy=\"710.542\" r=\"14\" fill=\"#2e8b57\" fill-rule=\"evenodd\" fill-opacity=\"1\" stroke=\"#000000\" stroke-opacity=\"1\" stroke-width=\"2.4\"/>\n",
       "<circle clip-path=\"url(#clip222)\" cx=\"936.797\" cy=\"741.071\" r=\"14\" fill=\"#2e8b57\" fill-rule=\"evenodd\" fill-opacity=\"1\" stroke=\"#000000\" stroke-opacity=\"1\" stroke-width=\"2.4\"/>\n",
       "<circle clip-path=\"url(#clip222)\" cx=\"980.527\" cy=\"717.774\" r=\"14\" fill=\"#2e8b57\" fill-rule=\"evenodd\" fill-opacity=\"1\" stroke=\"#000000\" stroke-opacity=\"1\" stroke-width=\"2.4\"/>\n",
       "<circle clip-path=\"url(#clip222)\" cx=\"1024.26\" cy=\"682.961\" r=\"14\" fill=\"#2e8b57\" fill-rule=\"evenodd\" fill-opacity=\"1\" stroke=\"#000000\" stroke-opacity=\"1\" stroke-width=\"2.4\"/>\n",
       "<circle clip-path=\"url(#clip222)\" cx=\"1067.99\" cy=\"672.729\" r=\"14\" fill=\"#2e8b57\" fill-rule=\"evenodd\" fill-opacity=\"1\" stroke=\"#000000\" stroke-opacity=\"1\" stroke-width=\"2.4\"/>\n",
       "<circle clip-path=\"url(#clip222)\" cx=\"1111.71\" cy=\"659.251\" r=\"14\" fill=\"#2e8b57\" fill-rule=\"evenodd\" fill-opacity=\"1\" stroke=\"#000000\" stroke-opacity=\"1\" stroke-width=\"2.4\"/>\n",
       "<circle clip-path=\"url(#clip222)\" cx=\"1155.44\" cy=\"674.11\" r=\"14\" fill=\"#2e8b57\" fill-rule=\"evenodd\" fill-opacity=\"1\" stroke=\"#000000\" stroke-opacity=\"1\" stroke-width=\"2.4\"/>\n",
       "<circle clip-path=\"url(#clip222)\" cx=\"1199.17\" cy=\"620.978\" r=\"14\" fill=\"#2e8b57\" fill-rule=\"evenodd\" fill-opacity=\"1\" stroke=\"#000000\" stroke-opacity=\"1\" stroke-width=\"2.4\"/>\n",
       "<circle clip-path=\"url(#clip222)\" cx=\"1242.9\" cy=\"626.1\" r=\"14\" fill=\"#2e8b57\" fill-rule=\"evenodd\" fill-opacity=\"1\" stroke=\"#000000\" stroke-opacity=\"1\" stroke-width=\"2.4\"/>\n",
       "<circle clip-path=\"url(#clip222)\" cx=\"1286.63\" cy=\"672.975\" r=\"14\" fill=\"#2e8b57\" fill-rule=\"evenodd\" fill-opacity=\"1\" stroke=\"#000000\" stroke-opacity=\"1\" stroke-width=\"2.4\"/>\n",
       "<circle clip-path=\"url(#clip222)\" cx=\"1330.36\" cy=\"660.83\" r=\"14\" fill=\"#2e8b57\" fill-rule=\"evenodd\" fill-opacity=\"1\" stroke=\"#000000\" stroke-opacity=\"1\" stroke-width=\"2.4\"/>\n",
       "<circle clip-path=\"url(#clip222)\" cx=\"1374.09\" cy=\"604.509\" r=\"14\" fill=\"#2e8b57\" fill-rule=\"evenodd\" fill-opacity=\"1\" stroke=\"#000000\" stroke-opacity=\"1\" stroke-width=\"2.4\"/>\n",
       "<circle clip-path=\"url(#clip222)\" cx=\"1417.82\" cy=\"592.941\" r=\"14\" fill=\"#2e8b57\" fill-rule=\"evenodd\" fill-opacity=\"1\" stroke=\"#000000\" stroke-opacity=\"1\" stroke-width=\"2.4\"/>\n",
       "<circle clip-path=\"url(#clip222)\" cx=\"1461.55\" cy=\"575.14\" r=\"14\" fill=\"#2e8b57\" fill-rule=\"evenodd\" fill-opacity=\"1\" stroke=\"#000000\" stroke-opacity=\"1\" stroke-width=\"2.4\"/>\n",
       "<circle clip-path=\"url(#clip222)\" cx=\"1505.28\" cy=\"579.447\" r=\"14\" fill=\"#2e8b57\" fill-rule=\"evenodd\" fill-opacity=\"1\" stroke=\"#000000\" stroke-opacity=\"1\" stroke-width=\"2.4\"/>\n",
       "<circle clip-path=\"url(#clip222)\" cx=\"1549.01\" cy=\"551.696\" r=\"14\" fill=\"#2e8b57\" fill-rule=\"evenodd\" fill-opacity=\"1\" stroke=\"#000000\" stroke-opacity=\"1\" stroke-width=\"2.4\"/>\n",
       "<circle clip-path=\"url(#clip222)\" cx=\"1592.74\" cy=\"526.659\" r=\"14\" fill=\"#2e8b57\" fill-rule=\"evenodd\" fill-opacity=\"1\" stroke=\"#000000\" stroke-opacity=\"1\" stroke-width=\"2.4\"/>\n",
       "<circle clip-path=\"url(#clip222)\" cx=\"1636.47\" cy=\"533.473\" r=\"14\" fill=\"#2e8b57\" fill-rule=\"evenodd\" fill-opacity=\"1\" stroke=\"#000000\" stroke-opacity=\"1\" stroke-width=\"2.4\"/>\n",
       "<circle clip-path=\"url(#clip222)\" cx=\"1680.2\" cy=\"488.301\" r=\"14\" fill=\"#2e8b57\" fill-rule=\"evenodd\" fill-opacity=\"1\" stroke=\"#000000\" stroke-opacity=\"1\" stroke-width=\"2.4\"/>\n",
       "<circle clip-path=\"url(#clip222)\" cx=\"1723.93\" cy=\"540.414\" r=\"14\" fill=\"#2e8b57\" fill-rule=\"evenodd\" fill-opacity=\"1\" stroke=\"#000000\" stroke-opacity=\"1\" stroke-width=\"2.4\"/>\n",
       "<circle clip-path=\"url(#clip222)\" cx=\"1767.66\" cy=\"504.491\" r=\"14\" fill=\"#2e8b57\" fill-rule=\"evenodd\" fill-opacity=\"1\" stroke=\"#000000\" stroke-opacity=\"1\" stroke-width=\"2.4\"/>\n",
       "<circle clip-path=\"url(#clip222)\" cx=\"1811.39\" cy=\"490.944\" r=\"14\" fill=\"#2e8b57\" fill-rule=\"evenodd\" fill-opacity=\"1\" stroke=\"#000000\" stroke-opacity=\"1\" stroke-width=\"2.4\"/>\n",
       "<circle clip-path=\"url(#clip222)\" cx=\"1855.12\" cy=\"492.526\" r=\"14\" fill=\"#2e8b57\" fill-rule=\"evenodd\" fill-opacity=\"1\" stroke=\"#000000\" stroke-opacity=\"1\" stroke-width=\"2.4\"/>\n",
       "<circle clip-path=\"url(#clip222)\" cx=\"1898.84\" cy=\"479.206\" r=\"14\" fill=\"#2e8b57\" fill-rule=\"evenodd\" fill-opacity=\"1\" stroke=\"#000000\" stroke-opacity=\"1\" stroke-width=\"2.4\"/>\n",
       "<circle clip-path=\"url(#clip222)\" cx=\"1942.57\" cy=\"449.363\" r=\"14\" fill=\"#2e8b57\" fill-rule=\"evenodd\" fill-opacity=\"1\" stroke=\"#000000\" stroke-opacity=\"1\" stroke-width=\"2.4\"/>\n",
       "<circle clip-path=\"url(#clip222)\" cx=\"1986.3\" cy=\"449.812\" r=\"14\" fill=\"#2e8b57\" fill-rule=\"evenodd\" fill-opacity=\"1\" stroke=\"#000000\" stroke-opacity=\"1\" stroke-width=\"2.4\"/>\n",
       "<circle clip-path=\"url(#clip222)\" cx=\"2030.03\" cy=\"443.945\" r=\"14\" fill=\"#2e8b57\" fill-rule=\"evenodd\" fill-opacity=\"1\" stroke=\"#000000\" stroke-opacity=\"1\" stroke-width=\"2.4\"/>\n",
       "<circle clip-path=\"url(#clip222)\" cx=\"2073.76\" cy=\"460.685\" r=\"14\" fill=\"#2e8b57\" fill-rule=\"evenodd\" fill-opacity=\"1\" stroke=\"#000000\" stroke-opacity=\"1\" stroke-width=\"2.4\"/>\n",
       "<circle clip-path=\"url(#clip222)\" cx=\"2117.49\" cy=\"460.371\" r=\"14\" fill=\"#2e8b57\" fill-rule=\"evenodd\" fill-opacity=\"1\" stroke=\"#000000\" stroke-opacity=\"1\" stroke-width=\"2.4\"/>\n",
       "<circle clip-path=\"url(#clip222)\" cx=\"2161.22\" cy=\"389.944\" r=\"14\" fill=\"#2e8b57\" fill-rule=\"evenodd\" fill-opacity=\"1\" stroke=\"#000000\" stroke-opacity=\"1\" stroke-width=\"2.4\"/>\n",
       "<circle clip-path=\"url(#clip222)\" cx=\"2204.95\" cy=\"363.145\" r=\"14\" fill=\"#2e8b57\" fill-rule=\"evenodd\" fill-opacity=\"1\" stroke=\"#000000\" stroke-opacity=\"1\" stroke-width=\"2.4\"/>\n",
       "<circle clip-path=\"url(#clip222)\" cx=\"2248.68\" cy=\"378.1\" r=\"14\" fill=\"#2e8b57\" fill-rule=\"evenodd\" fill-opacity=\"1\" stroke=\"#000000\" stroke-opacity=\"1\" stroke-width=\"2.4\"/>\n",
       "<circle clip-path=\"url(#clip222)\" cx=\"2292.41\" cy=\"392.055\" r=\"14\" fill=\"#2e8b57\" fill-rule=\"evenodd\" fill-opacity=\"1\" stroke=\"#000000\" stroke-opacity=\"1\" stroke-width=\"2.4\"/>\n",
       "<polyline clip-path=\"url(#clip222)\" style=\"stroke:#cd5c5c; stroke-linecap:butt; stroke-linejoin:round; stroke-width:8; stroke-opacity:1; fill:none\" points=\"\n",
       "  280.856,1019.39 324.585,979.518 368.315,943.307 412.044,924.624 455.774,940.737 499.503,936.611 543.232,874.292 586.962,889.55 630.691,862.261 674.421,887.252 \n",
       "  718.15,859.463 761.88,806.479 805.609,788.057 849.338,813.178 893.068,814.596 936.797,766.677 980.527,787.47 1024.26,734.523 1067.99,760.451 1111.71,701.314 \n",
       "  1155.44,720.012 1199.17,661.312 1242.9,654.386 1286.63,657.8 1330.36,625.008 1374.09,624.403 1417.82,598.169 1461.55,593.002 1505.28,542.866 1549.01,569.334 \n",
       "  1592.74,576.461 1636.47,524.811 1680.2,531.774 1723.93,528.887 1767.66,467.452 1811.39,436.642 1855.12,483.746 1898.84,393.465 1942.57,451.497 1986.3,404.1 \n",
       "  2030.03,377.022 2073.76,365.502 2117.49,320.94 2161.22,333.588 2204.95,309.863 2248.68,297.61 2292.41,270.99 \n",
       "  \"/>\n",
       "<polyline clip-path=\"url(#clip222)\" style=\"stroke:#2e8b57; stroke-linecap:butt; stroke-linejoin:round; stroke-width:8; stroke-opacity:1; fill:none\" points=\"\n",
       "  280.856,900.9 324.585,915.356 368.315,841.582 412.044,858.194 455.774,870.418 499.503,822.227 543.232,810.049 586.962,799.375 630.691,805.395 674.421,755.239 \n",
       "  718.15,800.453 761.88,798.07 805.609,738.703 849.338,766.003 893.068,710.542 936.797,741.071 980.527,717.774 1024.26,682.961 1067.99,672.729 1111.71,659.251 \n",
       "  1155.44,674.11 1199.17,620.978 1242.9,626.1 1286.63,672.975 1330.36,660.83 1374.09,604.509 1417.82,592.941 1461.55,575.14 1505.28,579.447 1549.01,551.696 \n",
       "  1592.74,526.659 1636.47,533.473 1680.2,488.301 1723.93,540.414 1767.66,504.491 1811.39,490.944 1855.12,492.526 1898.84,479.206 1942.57,449.363 1986.3,449.812 \n",
       "  2030.03,443.945 2073.76,460.685 2117.49,460.371 2161.22,389.944 2204.95,363.145 2248.68,378.1 2292.41,392.055 \n",
       "  \"/>\n",
       "<path clip-path=\"url(#clip220)\" d=\"\n",
       "M457.426 402.855 L794.202 402.855 L794.202 195.495 L457.426 195.495  Z\n",
       "  \" fill=\"#ffffff\" fill-rule=\"evenodd\" fill-opacity=\"1\"/>\n",
       "<polyline clip-path=\"url(#clip220)\" style=\"stroke:#000000; stroke-linecap:butt; stroke-linejoin:round; stroke-width:4; stroke-opacity:1; fill:none\" points=\"\n",
       "  457.426,402.855 794.202,402.855 794.202,195.495 457.426,195.495 457.426,402.855 \n",
       "  \"/>\n",
       "<circle clip-path=\"url(#clip220)\" cx=\"552.192\" cy=\"247.335\" r=\"23\" fill=\"#009af9\" fill-rule=\"evenodd\" fill-opacity=\"1\" stroke=\"#000000\" stroke-opacity=\"1\" stroke-width=\"3.84\"/>\n",
       "<path clip-path=\"url(#clip220)\" d=\"M665.871 242.625 L665.871 228.597 L670.13 228.597 L670.13 264.615 L665.871 264.615 L665.871 260.726 Q664.528 263.041 662.468 264.175 Q660.431 265.287 657.56 265.287 Q652.861 265.287 649.898 261.537 Q646.959 257.787 646.959 251.675 Q646.959 245.564 649.898 241.814 Q652.861 238.064 657.56 238.064 Q660.431 238.064 662.468 239.199 Q664.528 240.31 665.871 242.625 M651.357 251.675 Q651.357 256.375 653.278 259.06 Q655.223 261.722 658.602 261.722 Q661.982 261.722 663.926 259.06 Q665.871 256.375 665.871 251.675 Q665.871 246.976 663.926 244.314 Q661.982 241.629 658.602 241.629 Q655.223 241.629 653.278 244.314 Q651.357 246.976 651.357 251.675 Z\" fill=\"#000000\" fill-rule=\"evenodd\" fill-opacity=\"1\" /><path clip-path=\"url(#clip220)\" d=\"M690.685 251.583 Q685.523 251.583 683.533 252.763 Q681.542 253.944 681.542 256.791 Q681.542 259.06 683.023 260.402 Q684.528 261.722 687.097 261.722 Q690.639 261.722 692.769 259.222 Q694.921 256.699 694.921 252.532 L694.921 251.583 L690.685 251.583 M699.181 249.824 L699.181 264.615 L694.921 264.615 L694.921 260.68 Q693.463 263.041 691.287 264.175 Q689.111 265.287 685.963 265.287 Q681.982 265.287 679.621 263.064 Q677.283 260.819 677.283 257.069 Q677.283 252.694 680.199 250.472 Q683.139 248.25 688.949 248.25 L694.921 248.25 L694.921 247.833 Q694.921 244.893 692.977 243.296 Q691.056 241.676 687.56 241.676 Q685.338 241.676 683.232 242.208 Q681.125 242.74 679.181 243.805 L679.181 239.87 Q681.519 238.967 683.718 238.527 Q685.917 238.064 688 238.064 Q693.625 238.064 696.403 240.981 Q699.181 243.898 699.181 249.824 Z\" fill=\"#000000\" fill-rule=\"evenodd\" fill-opacity=\"1\" /><path clip-path=\"url(#clip220)\" d=\"M712.167 231.328 L712.167 238.689 L720.94 238.689 L720.94 242 L712.167 242 L712.167 256.074 Q712.167 259.245 713.023 260.148 Q713.903 261.05 716.565 261.05 L720.94 261.05 L720.94 264.615 L716.565 264.615 Q711.634 264.615 709.759 262.787 Q707.884 260.935 707.884 256.074 L707.884 242 L704.759 242 L704.759 238.689 L707.884 238.689 L707.884 231.328 L712.167 231.328 Z\" fill=\"#000000\" fill-rule=\"evenodd\" fill-opacity=\"1\" /><path clip-path=\"url(#clip220)\" d=\"M738.324 251.583 Q733.162 251.583 731.171 252.763 Q729.18 253.944 729.18 256.791 Q729.18 259.06 730.662 260.402 Q732.167 261.722 734.736 261.722 Q738.278 261.722 740.407 259.222 Q742.56 256.699 742.56 252.532 L742.56 251.583 L738.324 251.583 M746.819 249.824 L746.819 264.615 L742.56 264.615 L742.56 260.68 Q741.102 263.041 738.926 264.175 Q736.75 265.287 733.602 265.287 Q729.62 265.287 727.259 263.064 Q724.921 260.819 724.921 257.069 Q724.921 252.694 727.838 250.472 Q730.778 248.25 736.588 248.25 L742.56 248.25 L742.56 247.833 Q742.56 244.893 740.616 243.296 Q738.694 241.676 735.199 241.676 Q732.977 241.676 730.87 242.208 Q728.764 242.74 726.819 243.805 L726.819 239.87 Q729.157 238.967 731.356 238.527 Q733.555 238.064 735.639 238.064 Q741.264 238.064 744.041 240.981 Q746.819 243.898 746.819 249.824 Z\" fill=\"#000000\" fill-rule=\"evenodd\" fill-opacity=\"1\" /><circle clip-path=\"url(#clip220)\" cx=\"552.192\" cy=\"299.175\" r=\"23\" fill=\"#cd5c5c\" fill-rule=\"evenodd\" fill-opacity=\"1\" stroke=\"#000000\" stroke-opacity=\"1\" stroke-width=\"3.84\"/>\n",
       "<path clip-path=\"url(#clip220)\" d=\"M646.959 281.895 L653.926 281.895 L662.746 305.414 L671.611 281.895 L678.579 281.895 L678.579 316.455 L674.019 316.455 L674.019 286.108 L665.107 309.812 L660.408 309.812 L651.496 286.108 L651.496 316.455 L646.959 316.455 L646.959 281.895 Z\" fill=\"#000000\" fill-rule=\"evenodd\" fill-opacity=\"1\" /><path clip-path=\"url(#clip220)\" d=\"M687.861 281.895 L692.537 281.895 L692.537 312.52 L709.366 312.52 L709.366 316.455 L687.861 316.455 L687.861 281.895 Z\" fill=\"#000000\" fill-rule=\"evenodd\" fill-opacity=\"1\" /><circle clip-path=\"url(#clip220)\" cx=\"552.192\" cy=\"351.015\" r=\"23\" fill=\"#2e8b57\" fill-rule=\"evenodd\" fill-opacity=\"1\" stroke=\"#000000\" stroke-opacity=\"1\" stroke-width=\"3.84\"/>\n",
       "<path clip-path=\"url(#clip220)\" d=\"M646.959 333.735 L653.926 333.735 L662.746 357.254 L671.611 333.735 L678.579 333.735 L678.579 368.295 L674.019 368.295 L674.019 337.948 L665.107 361.652 L660.408 361.652 L651.496 337.948 L651.496 368.295 L646.959 368.295 L646.959 333.735 Z\" fill=\"#000000\" fill-rule=\"evenodd\" fill-opacity=\"1\" /><path clip-path=\"url(#clip220)\" d=\"M699.412 338.342 L693.07 355.541 L705.778 355.541 L699.412 338.342 M696.773 333.735 L702.074 333.735 L715.245 368.295 L710.384 368.295 L707.236 359.43 L691.657 359.43 L688.509 368.295 L683.579 368.295 L696.773 333.735 Z\" fill=\"#000000\" fill-rule=\"evenodd\" fill-opacity=\"1\" /><path clip-path=\"url(#clip220)\" d=\"M724.967 337.578 L724.967 350.564 L730.847 350.564 Q734.111 350.564 735.893 348.874 Q737.676 347.184 737.676 344.059 Q737.676 340.957 735.893 339.268 Q734.111 337.578 730.847 337.578 L724.967 337.578 M720.292 333.735 L730.847 333.735 Q736.657 333.735 739.62 336.374 Q742.606 338.99 742.606 344.059 Q742.606 349.175 739.62 351.791 Q736.657 354.406 730.847 354.406 L724.967 354.406 L724.967 368.295 L720.292 368.295 L720.292 333.735 Z\" fill=\"#000000\" fill-rule=\"evenodd\" fill-opacity=\"1\" /></svg>\n"
      ]
     },
     "execution_count": 63,
     "metadata": {},
     "output_type": "execute_result"
    }
   ],
   "source": [
    "a1 = Φ(p, θ_ML)\n",
    "a2 =  Φ(p, θ_MAP)\n",
    "scatter(X,Y, label = \"data\", legend = (0.2,0.8),\n",
    "            xlabel = \"Speed\",\n",
    "            ylabel = \"Dist\",\n",
    "            size = (600,300))\n",
    "scatter!(p, a1, lw = 2, c = :indianred, label =\"ML\")\n",
    "scatter!(p, a2, lw = 2, c = :seagreen, label = \"MAP\")\n",
    "plot!(p, a1, lw = 2, c = :indianred, label = false)\n",
    "plot!(p, a2, lw = 2, c = :seagreen, label = false)"
   ]
  },
  {
   "cell_type": "markdown",
   "metadata": {},
   "source": [
    "### Neural Network"
   ]
  },
  {
   "cell_type": "markdown",
   "metadata": {},
   "source": [
    "Zuletzt wollen wir die Abhängigkeit von `Dist` und `Speed` durch ein neuronales Netz bestimmen.\n",
    "\n",
    "Wir verwenden die ReLu Activation Function."
   ]
  },
  {
   "cell_type": "code",
   "execution_count": 149,
   "metadata": {},
   "outputs": [],
   "source": [
    "σ(z) = max(0,z);"
   ]
  },
  {
   "cell_type": "markdown",
   "metadata": {},
   "source": [
    "Wir definieren das Modell durch ein neuronales Netz von Tiefe 2 und mit inneren Layer, der durch lineare Funktionen $\\mathbb R^1\\to \\mathbb R^2$ und $\\mathbb R^2\\to \\mathbb R^1$ gegeben ist. \n",
    "\n",
    "Dies ist ein sehr simples neuronales Netz, eignet sich daher aber gut um die Funktionsweise zu veranschaulichen."
   ]
  },
  {
   "cell_type": "code",
   "execution_count": 150,
   "metadata": {},
   "outputs": [],
   "source": [
    "function f_NN(x::Number, θ)\n",
    "    A, b = reshape(θ[1:2], 2, 1), θ[3:4]\n",
    "    y = σ.(A * x + b)\n",
    "    \n",
    "    A, b = reshape(θ[5:6], 1, 2), θ[7:7]\n",
    "    z = σ.(A * y + b)\n",
    "    \n",
    "    z[1]\n",
    "end\n",
    "f_NN(X::Vector, θ) = [f_NN(x, θ) for x in X];"
   ]
  },
  {
   "cell_type": "markdown",
   "metadata": {},
   "source": [
    "Da wir für das neuronale Netz keine geschlossene Form für den ERM-Schätzer `θ_ERM` haben, müssen wir `θ_ERM` durch Optimierungsmethoden bestimmen.\n",
    "\n",
    "Wir werden die Blackbox `optimize` Funktion aus dem Package `Optim.jl`."
   ]
  },
  {
   "cell_type": "code",
   "execution_count": 151,
   "metadata": {},
   "outputs": [],
   "source": [
    "R_NN(θ, X, Y) = mean((f_NN(X, θ) - Y).^2)\n",
    "o = optimize(θ -> R_NN(θ, X, Y), rand(7))\n",
    "θ_NN = Optim.minimizer(o);"
   ]
  },
  {
   "cell_type": "markdown",
   "metadata": {},
   "source": [
    "Das neuronale Netz hat nun eine Funktion geschätzt, die wir wieder zusammen mit den Trainingsdaten visualisieren."
   ]
  },
  {
   "cell_type": "code",
   "execution_count": 152,
   "metadata": {},
   "outputs": [
    {
     "data": {
      "image/svg+xml": [
       "<?xml version=\"1.0\" encoding=\"utf-8\"?>\n",
       "<svg xmlns=\"http://www.w3.org/2000/svg\" xmlns:xlink=\"http://www.w3.org/1999/xlink\" width=\"600\" height=\"300\" viewBox=\"0 0 2400 1200\">\n",
       "<defs>\n",
       "  <clipPath id=\"clip280\">\n",
       "    <rect x=\"0\" y=\"0\" width=\"2400\" height=\"1200\"/>\n",
       "  </clipPath>\n",
       "</defs>\n",
       "<path clip-path=\"url(#clip280)\" d=\"\n",
       "M0 1200 L2400 1200 L2400 0 L0 0  Z\n",
       "  \" fill=\"#ffffff\" fill-rule=\"evenodd\" fill-opacity=\"1\"/>\n",
       "<defs>\n",
       "  <clipPath id=\"clip281\">\n",
       "    <rect x=\"480\" y=\"0\" width=\"1681\" height=\"1200\"/>\n",
       "  </clipPath>\n",
       "</defs>\n",
       "<path clip-path=\"url(#clip280)\" d=\"\n",
       "M220.509 1047.7 L2352.76 1047.7 L2352.76 47.2441 L220.509 47.2441  Z\n",
       "  \" fill=\"#ffffff\" fill-rule=\"evenodd\" fill-opacity=\"1\"/>\n",
       "<defs>\n",
       "  <clipPath id=\"clip282\">\n",
       "    <rect x=\"220\" y=\"47\" width=\"2133\" height=\"1001\"/>\n",
       "  </clipPath>\n",
       "</defs>\n",
       "<polyline clip-path=\"url(#clip282)\" style=\"stroke:#000000; stroke-linecap:butt; stroke-linejoin:round; stroke-width:2; stroke-opacity:0.1; fill:none\" points=\"\n",
       "  455.774,1047.7 455.774,47.2441 \n",
       "  \"/>\n",
       "<polyline clip-path=\"url(#clip282)\" style=\"stroke:#000000; stroke-linecap:butt; stroke-linejoin:round; stroke-width:2; stroke-opacity:0.1; fill:none\" points=\"\n",
       "  893.068,1047.7 893.068,47.2441 \n",
       "  \"/>\n",
       "<polyline clip-path=\"url(#clip282)\" style=\"stroke:#000000; stroke-linecap:butt; stroke-linejoin:round; stroke-width:2; stroke-opacity:0.1; fill:none\" points=\"\n",
       "  1330.36,1047.7 1330.36,47.2441 \n",
       "  \"/>\n",
       "<polyline clip-path=\"url(#clip282)\" style=\"stroke:#000000; stroke-linecap:butt; stroke-linejoin:round; stroke-width:2; stroke-opacity:0.1; fill:none\" points=\"\n",
       "  1767.66,1047.7 1767.66,47.2441 \n",
       "  \"/>\n",
       "<polyline clip-path=\"url(#clip282)\" style=\"stroke:#000000; stroke-linecap:butt; stroke-linejoin:round; stroke-width:2; stroke-opacity:0.1; fill:none\" points=\"\n",
       "  2204.95,1047.7 2204.95,47.2441 \n",
       "  \"/>\n",
       "<polyline clip-path=\"url(#clip280)\" style=\"stroke:#000000; stroke-linecap:butt; stroke-linejoin:round; stroke-width:4; stroke-opacity:1; fill:none\" points=\"\n",
       "  220.509,1047.7 2352.76,1047.7 \n",
       "  \"/>\n",
       "<polyline clip-path=\"url(#clip280)\" style=\"stroke:#000000; stroke-linecap:butt; stroke-linejoin:round; stroke-width:4; stroke-opacity:1; fill:none\" points=\"\n",
       "  455.774,1047.7 455.774,1028.8 \n",
       "  \"/>\n",
       "<polyline clip-path=\"url(#clip280)\" style=\"stroke:#000000; stroke-linecap:butt; stroke-linejoin:round; stroke-width:4; stroke-opacity:1; fill:none\" points=\"\n",
       "  893.068,1047.7 893.068,1028.8 \n",
       "  \"/>\n",
       "<polyline clip-path=\"url(#clip280)\" style=\"stroke:#000000; stroke-linecap:butt; stroke-linejoin:round; stroke-width:4; stroke-opacity:1; fill:none\" points=\"\n",
       "  1330.36,1047.7 1330.36,1028.8 \n",
       "  \"/>\n",
       "<polyline clip-path=\"url(#clip280)\" style=\"stroke:#000000; stroke-linecap:butt; stroke-linejoin:round; stroke-width:4; stroke-opacity:1; fill:none\" points=\"\n",
       "  1767.66,1047.7 1767.66,1028.8 \n",
       "  \"/>\n",
       "<polyline clip-path=\"url(#clip280)\" style=\"stroke:#000000; stroke-linecap:butt; stroke-linejoin:round; stroke-width:4; stroke-opacity:1; fill:none\" points=\"\n",
       "  2204.95,1047.7 2204.95,1028.8 \n",
       "  \"/>\n",
       "<path clip-path=\"url(#clip280)\" d=\"M446.051 1075.54 L464.408 1075.54 L464.408 1079.48 L450.334 1079.48 L450.334 1087.95 Q451.352 1087.6 452.371 1087.44 Q453.389 1087.25 454.408 1087.25 Q460.195 1087.25 463.575 1090.42 Q466.954 1093.6 466.954 1099.01 Q466.954 1104.59 463.482 1107.69 Q460.01 1110.77 453.69 1110.77 Q451.514 1110.77 449.246 1110.4 Q447.001 1110.03 444.593 1109.29 L444.593 1104.59 Q446.676 1105.72 448.899 1106.28 Q451.121 1106.84 453.598 1106.84 Q457.602 1106.84 459.94 1104.73 Q462.278 1102.62 462.278 1099.01 Q462.278 1095.4 459.94 1093.29 Q457.602 1091.19 453.598 1091.19 Q451.723 1091.19 449.848 1091.6 Q447.996 1092.02 446.051 1092.9 L446.051 1075.54 Z\" fill=\"#000000\" fill-rule=\"evenodd\" fill-opacity=\"1\" /><path clip-path=\"url(#clip280)\" d=\"M867.755 1106.16 L875.394 1106.16 L875.394 1079.8 L867.084 1081.47 L867.084 1077.21 L875.348 1075.54 L880.024 1075.54 L880.024 1106.16 L887.663 1106.16 L887.663 1110.1 L867.755 1110.1 L867.755 1106.16 Z\" fill=\"#000000\" fill-rule=\"evenodd\" fill-opacity=\"1\" /><path clip-path=\"url(#clip280)\" d=\"M907.107 1078.62 Q903.496 1078.62 901.667 1082.18 Q899.862 1085.72 899.862 1092.85 Q899.862 1099.96 901.667 1103.53 Q903.496 1107.07 907.107 1107.07 Q910.741 1107.07 912.547 1103.53 Q914.376 1099.96 914.376 1092.85 Q914.376 1085.72 912.547 1082.18 Q910.741 1078.62 907.107 1078.62 M907.107 1074.91 Q912.917 1074.91 915.973 1079.52 Q919.051 1084.1 919.051 1092.85 Q919.051 1101.58 915.973 1106.19 Q912.917 1110.77 907.107 1110.77 Q901.297 1110.77 898.218 1106.19 Q895.163 1101.58 895.163 1092.85 Q895.163 1084.1 898.218 1079.52 Q901.297 1074.91 907.107 1074.91 Z\" fill=\"#000000\" fill-rule=\"evenodd\" fill-opacity=\"1\" /><path clip-path=\"url(#clip280)\" d=\"M1305.55 1106.16 L1313.19 1106.16 L1313.19 1079.8 L1304.88 1081.47 L1304.88 1077.21 L1313.14 1075.54 L1317.82 1075.54 L1317.82 1106.16 L1325.45 1106.16 L1325.45 1110.1 L1305.55 1110.1 L1305.55 1106.16 Z\" fill=\"#000000\" fill-rule=\"evenodd\" fill-opacity=\"1\" /><path clip-path=\"url(#clip280)\" d=\"M1334.95 1075.54 L1353.3 1075.54 L1353.3 1079.48 L1339.23 1079.48 L1339.23 1087.95 Q1340.25 1087.6 1341.26 1087.44 Q1342.28 1087.25 1343.3 1087.25 Q1349.09 1087.25 1352.47 1090.42 Q1355.85 1093.6 1355.85 1099.01 Q1355.85 1104.59 1352.38 1107.69 Q1348.9 1110.77 1342.58 1110.77 Q1340.41 1110.77 1338.14 1110.4 Q1335.89 1110.03 1333.49 1109.29 L1333.49 1104.59 Q1335.57 1105.72 1337.79 1106.28 Q1340.01 1106.84 1342.49 1106.84 Q1346.5 1106.84 1348.83 1104.73 Q1351.17 1102.62 1351.17 1099.01 Q1351.17 1095.4 1348.83 1093.29 Q1346.5 1091.19 1342.49 1091.19 Q1340.62 1091.19 1338.74 1091.6 Q1336.89 1092.02 1334.95 1092.9 L1334.95 1075.54 Z\" fill=\"#000000\" fill-rule=\"evenodd\" fill-opacity=\"1\" /><path clip-path=\"url(#clip280)\" d=\"M1746.43 1106.16 L1762.75 1106.16 L1762.75 1110.1 L1740.8 1110.1 L1740.8 1106.16 Q1743.47 1103.41 1748.05 1098.78 Q1752.66 1094.13 1753.84 1092.79 Q1756.08 1090.26 1756.96 1088.53 Q1757.86 1086.77 1757.86 1085.08 Q1757.86 1082.32 1755.92 1080.59 Q1754 1078.85 1750.9 1078.85 Q1748.7 1078.85 1746.24 1079.61 Q1743.81 1080.38 1741.04 1081.93 L1741.04 1077.21 Q1743.86 1076.07 1746.31 1075.49 Q1748.77 1074.91 1750.8 1074.91 Q1756.17 1074.91 1759.37 1077.6 Q1762.56 1080.29 1762.56 1084.78 Q1762.56 1086.91 1761.75 1088.83 Q1760.97 1090.72 1758.86 1093.32 Q1758.28 1093.99 1755.18 1097.21 Q1752.08 1100.4 1746.43 1106.16 Z\" fill=\"#000000\" fill-rule=\"evenodd\" fill-opacity=\"1\" /><path clip-path=\"url(#clip280)\" d=\"M1782.56 1078.62 Q1778.95 1078.62 1777.12 1082.18 Q1775.32 1085.72 1775.32 1092.85 Q1775.32 1099.96 1777.12 1103.53 Q1778.95 1107.07 1782.56 1107.07 Q1786.2 1107.07 1788 1103.53 Q1789.83 1099.96 1789.83 1092.85 Q1789.83 1085.72 1788 1082.18 Q1786.2 1078.62 1782.56 1078.62 M1782.56 1074.91 Q1788.37 1074.91 1791.43 1079.52 Q1794.51 1084.1 1794.51 1092.85 Q1794.51 1101.58 1791.43 1106.19 Q1788.37 1110.77 1782.56 1110.77 Q1776.75 1110.77 1773.67 1106.19 Q1770.62 1101.58 1770.62 1092.85 Q1770.62 1084.1 1773.67 1079.52 Q1776.75 1074.91 1782.56 1074.91 Z\" fill=\"#000000\" fill-rule=\"evenodd\" fill-opacity=\"1\" /><path clip-path=\"url(#clip280)\" d=\"M2184.22 1106.16 L2200.54 1106.16 L2200.54 1110.1 L2178.6 1110.1 L2178.6 1106.16 Q2181.26 1103.41 2185.84 1098.78 Q2190.45 1094.13 2191.63 1092.79 Q2193.87 1090.26 2194.75 1088.53 Q2195.66 1086.77 2195.66 1085.08 Q2195.66 1082.32 2193.71 1080.59 Q2191.79 1078.85 2188.69 1078.85 Q2186.49 1078.85 2184.04 1079.61 Q2181.61 1080.38 2178.83 1081.93 L2178.83 1077.21 Q2181.65 1076.07 2184.11 1075.49 Q2186.56 1074.91 2188.6 1074.91 Q2193.97 1074.91 2197.16 1077.6 Q2200.36 1080.29 2200.36 1084.78 Q2200.36 1086.91 2199.55 1088.83 Q2198.76 1090.72 2196.65 1093.32 Q2196.07 1093.99 2192.97 1097.21 Q2189.87 1100.4 2184.22 1106.16 Z\" fill=\"#000000\" fill-rule=\"evenodd\" fill-opacity=\"1\" /><path clip-path=\"url(#clip280)\" d=\"M2210.4 1075.54 L2228.76 1075.54 L2228.76 1079.48 L2214.68 1079.48 L2214.68 1087.95 Q2215.7 1087.6 2216.72 1087.44 Q2217.74 1087.25 2218.76 1087.25 Q2224.55 1087.25 2227.92 1090.42 Q2231.3 1093.6 2231.3 1099.01 Q2231.3 1104.59 2227.83 1107.69 Q2224.36 1110.77 2218.04 1110.77 Q2215.86 1110.77 2213.6 1110.4 Q2211.35 1110.03 2208.94 1109.29 L2208.94 1104.59 Q2211.03 1105.72 2213.25 1106.28 Q2215.47 1106.84 2217.95 1106.84 Q2221.95 1106.84 2224.29 1104.73 Q2226.63 1102.62 2226.63 1099.01 Q2226.63 1095.4 2224.29 1093.29 Q2221.95 1091.19 2217.95 1091.19 Q2216.07 1091.19 2214.2 1091.6 Q2212.35 1092.02 2210.4 1092.9 L2210.4 1075.54 Z\" fill=\"#000000\" fill-rule=\"evenodd\" fill-opacity=\"1\" /><path clip-path=\"url(#clip280)\" d=\"M1220.16 1146.6 L1220.16 1152.87 Q1216.5 1151.12 1213.25 1150.26 Q1210.01 1149.4 1206.98 1149.4 Q1201.73 1149.4 1198.87 1151.44 Q1196.03 1153.48 1196.03 1157.23 Q1196.03 1160.39 1197.91 1162.01 Q1199.82 1163.6 1205.1 1164.59 L1208.99 1165.38 Q1216.18 1166.75 1219.59 1170.22 Q1223.02 1173.66 1223.02 1179.45 Q1223.02 1186.36 1218.38 1189.92 Q1213.76 1193.49 1204.82 1193.49 Q1201.44 1193.49 1197.62 1192.72 Q1193.84 1191.96 1189.76 1190.46 L1189.76 1183.84 Q1193.68 1186.04 1197.43 1187.15 Q1201.19 1188.27 1204.82 1188.27 Q1210.32 1188.27 1213.32 1186.1 Q1216.31 1183.94 1216.31 1179.93 Q1216.31 1176.43 1214.14 1174.45 Q1212.01 1172.48 1207.11 1171.49 L1203.19 1170.73 Q1196 1169.3 1192.79 1166.24 Q1189.57 1163.19 1189.57 1157.74 Q1189.57 1151.44 1194 1147.81 Q1198.45 1144.18 1206.25 1144.18 Q1209.59 1144.18 1213.06 1144.79 Q1216.53 1145.39 1220.16 1146.6 Z\" fill=\"#000000\" fill-rule=\"evenodd\" fill-opacity=\"1\" /><path clip-path=\"url(#clip280)\" d=\"M1238.46 1187.22 L1238.46 1206.12 L1232.57 1206.12 L1232.57 1156.92 L1238.46 1156.92 L1238.46 1162.33 Q1240.31 1159.14 1243.11 1157.62 Q1245.94 1156.06 1249.85 1156.06 Q1256.35 1156.06 1260.39 1161.21 Q1264.46 1166.37 1264.46 1174.77 Q1264.46 1183.17 1260.39 1188.33 Q1256.35 1193.49 1249.85 1193.49 Q1245.94 1193.49 1243.11 1191.96 Q1240.31 1190.4 1238.46 1187.22 M1258.38 1174.77 Q1258.38 1168.31 1255.71 1164.65 Q1253.07 1160.96 1248.42 1160.96 Q1243.78 1160.96 1241.1 1164.65 Q1238.46 1168.31 1238.46 1174.77 Q1238.46 1181.23 1241.1 1184.92 Q1243.78 1188.59 1248.42 1188.59 Q1253.07 1188.59 1255.71 1184.92 Q1258.38 1181.23 1258.38 1174.77 Z\" fill=\"#000000\" fill-rule=\"evenodd\" fill-opacity=\"1\" /><path clip-path=\"url(#clip280)\" d=\"M1304.66 1173.28 L1304.66 1176.14 L1277.74 1176.14 Q1278.12 1182.19 1281.37 1185.37 Q1284.64 1188.52 1290.47 1188.52 Q1293.84 1188.52 1296.99 1187.69 Q1300.18 1186.87 1303.29 1185.21 L1303.29 1190.75 Q1300.14 1192.09 1296.83 1192.79 Q1293.52 1193.49 1290.12 1193.49 Q1281.59 1193.49 1276.59 1188.52 Q1271.63 1183.56 1271.63 1175.09 Q1271.63 1166.34 1276.34 1161.21 Q1281.08 1156.06 1289.1 1156.06 Q1296.29 1156.06 1300.46 1160.7 Q1304.66 1165.32 1304.66 1173.28 M1298.81 1171.56 Q1298.74 1166.75 1296.1 1163.89 Q1293.49 1161.02 1289.16 1161.02 Q1284.26 1161.02 1281.3 1163.79 Q1278.37 1166.56 1277.93 1171.59 L1298.81 1171.56 Z\" fill=\"#000000\" fill-rule=\"evenodd\" fill-opacity=\"1\" /><path clip-path=\"url(#clip280)\" d=\"M1344.77 1173.28 L1344.77 1176.14 L1317.84 1176.14 Q1318.22 1182.19 1321.47 1185.37 Q1324.75 1188.52 1330.57 1188.52 Q1333.95 1188.52 1337.1 1187.69 Q1340.28 1186.87 1343.4 1185.21 L1343.4 1190.75 Q1340.25 1192.09 1336.94 1192.79 Q1333.63 1193.49 1330.22 1193.49 Q1321.69 1193.49 1316.69 1188.52 Q1311.73 1183.56 1311.73 1175.09 Q1311.73 1166.34 1316.44 1161.21 Q1321.18 1156.06 1329.2 1156.06 Q1336.4 1156.06 1340.57 1160.7 Q1344.77 1165.32 1344.77 1173.28 M1338.91 1171.56 Q1338.85 1166.75 1336.21 1163.89 Q1333.6 1161.02 1329.27 1161.02 Q1324.37 1161.02 1321.41 1163.79 Q1318.48 1166.56 1318.03 1171.59 L1338.91 1171.56 Z\" fill=\"#000000\" fill-rule=\"evenodd\" fill-opacity=\"1\" /><path clip-path=\"url(#clip280)\" d=\"M1377.84 1162.33 L1377.84 1143.04 L1383.69 1143.04 L1383.69 1192.56 L1377.84 1192.56 L1377.84 1187.22 Q1375.99 1190.4 1373.16 1191.96 Q1370.36 1193.49 1366.41 1193.49 Q1359.95 1193.49 1355.88 1188.33 Q1351.83 1183.17 1351.83 1174.77 Q1351.83 1166.37 1355.88 1161.21 Q1359.95 1156.06 1366.41 1156.06 Q1370.36 1156.06 1373.16 1157.62 Q1375.99 1159.14 1377.84 1162.33 M1357.88 1174.77 Q1357.88 1181.23 1360.52 1184.92 Q1363.2 1188.59 1367.84 1188.59 Q1372.49 1188.59 1375.16 1184.92 Q1377.84 1181.23 1377.84 1174.77 Q1377.84 1168.31 1375.16 1164.65 Q1372.49 1160.96 1367.84 1160.96 Q1363.2 1160.96 1360.52 1164.65 Q1357.88 1168.31 1357.88 1174.77 Z\" fill=\"#000000\" fill-rule=\"evenodd\" fill-opacity=\"1\" /><polyline clip-path=\"url(#clip282)\" style=\"stroke:#000000; stroke-linecap:butt; stroke-linejoin:round; stroke-width:2; stroke-opacity:0.1; fill:none\" points=\"\n",
       "  220.509,852.688 2352.76,852.688 \n",
       "  \"/>\n",
       "<polyline clip-path=\"url(#clip282)\" style=\"stroke:#000000; stroke-linecap:butt; stroke-linejoin:round; stroke-width:2; stroke-opacity:0.1; fill:none\" points=\"\n",
       "  220.509,648.181 2352.76,648.181 \n",
       "  \"/>\n",
       "<polyline clip-path=\"url(#clip282)\" style=\"stroke:#000000; stroke-linecap:butt; stroke-linejoin:round; stroke-width:2; stroke-opacity:0.1; fill:none\" points=\"\n",
       "  220.509,443.673 2352.76,443.673 \n",
       "  \"/>\n",
       "<polyline clip-path=\"url(#clip282)\" style=\"stroke:#000000; stroke-linecap:butt; stroke-linejoin:round; stroke-width:2; stroke-opacity:0.1; fill:none\" points=\"\n",
       "  220.509,239.165 2352.76,239.165 \n",
       "  \"/>\n",
       "<polyline clip-path=\"url(#clip280)\" style=\"stroke:#000000; stroke-linecap:butt; stroke-linejoin:round; stroke-width:4; stroke-opacity:1; fill:none\" points=\"\n",
       "  220.509,1047.7 220.509,47.2441 \n",
       "  \"/>\n",
       "<polyline clip-path=\"url(#clip280)\" style=\"stroke:#000000; stroke-linecap:butt; stroke-linejoin:round; stroke-width:4; stroke-opacity:1; fill:none\" points=\"\n",
       "  220.509,852.688 239.407,852.688 \n",
       "  \"/>\n",
       "<polyline clip-path=\"url(#clip280)\" style=\"stroke:#000000; stroke-linecap:butt; stroke-linejoin:round; stroke-width:4; stroke-opacity:1; fill:none\" points=\"\n",
       "  220.509,648.181 239.407,648.181 \n",
       "  \"/>\n",
       "<polyline clip-path=\"url(#clip280)\" style=\"stroke:#000000; stroke-linecap:butt; stroke-linejoin:round; stroke-width:4; stroke-opacity:1; fill:none\" points=\"\n",
       "  220.509,443.673 239.407,443.673 \n",
       "  \"/>\n",
       "<polyline clip-path=\"url(#clip280)\" style=\"stroke:#000000; stroke-linecap:butt; stroke-linejoin:round; stroke-width:4; stroke-opacity:1; fill:none\" points=\"\n",
       "  220.509,239.165 239.407,239.165 \n",
       "  \"/>\n",
       "<path clip-path=\"url(#clip280)\" d=\"M137.426 866.033 L153.746 866.033 L153.746 869.968 L131.801 869.968 L131.801 866.033 Q134.463 863.279 139.047 858.649 Q143.653 853.996 144.834 852.654 Q147.079 850.131 147.959 848.394 Q148.861 846.635 148.861 844.945 Q148.861 842.191 146.917 840.455 Q144.996 838.719 141.894 838.719 Q139.695 838.719 137.241 839.482 Q134.811 840.246 132.033 841.797 L132.033 837.075 Q134.857 835.941 137.311 835.362 Q139.764 834.783 141.801 834.783 Q147.172 834.783 150.366 837.469 Q153.56 840.154 153.56 844.644 Q153.56 846.774 152.75 848.695 Q151.963 850.594 149.857 853.186 Q149.278 853.857 146.176 857.075 Q143.074 860.269 137.426 866.033 Z\" fill=\"#000000\" fill-rule=\"evenodd\" fill-opacity=\"1\" /><path clip-path=\"url(#clip280)\" d=\"M163.607 835.408 L181.963 835.408 L181.963 839.344 L167.889 839.344 L167.889 847.816 Q168.908 847.469 169.926 847.307 Q170.945 847.121 171.963 847.121 Q177.75 847.121 181.13 850.293 Q184.509 853.464 184.509 858.881 Q184.509 864.459 181.037 867.561 Q177.565 870.64 171.246 870.64 Q169.07 870.64 166.801 870.269 Q164.556 869.899 162.148 869.158 L162.148 864.459 Q164.232 865.593 166.454 866.149 Q168.676 866.705 171.153 866.705 Q175.158 866.705 177.495 864.598 Q179.833 862.492 179.833 858.881 Q179.833 855.269 177.495 853.163 Q175.158 851.056 171.153 851.056 Q169.278 851.056 167.403 851.473 Q165.551 851.89 163.607 852.769 L163.607 835.408 Z\" fill=\"#000000\" fill-rule=\"evenodd\" fill-opacity=\"1\" /><path clip-path=\"url(#clip280)\" d=\"M132.449 630.901 L150.806 630.901 L150.806 634.836 L136.732 634.836 L136.732 643.308 Q137.75 642.961 138.769 642.799 Q139.787 642.614 140.806 642.614 Q146.593 642.614 149.972 645.785 Q153.352 648.956 153.352 654.373 Q153.352 659.951 149.88 663.053 Q146.408 666.132 140.088 666.132 Q137.912 666.132 135.644 665.762 Q133.399 665.391 130.991 664.65 L130.991 659.951 Q133.074 661.086 135.297 661.641 Q137.519 662.197 139.996 662.197 Q144 662.197 146.338 660.09 Q148.676 657.984 148.676 654.373 Q148.676 650.762 146.338 648.655 Q144 646.549 139.996 646.549 Q138.121 646.549 136.246 646.965 Q134.394 647.382 132.449 648.262 L132.449 630.901 Z\" fill=\"#000000\" fill-rule=\"evenodd\" fill-opacity=\"1\" /><path clip-path=\"url(#clip280)\" d=\"M172.565 633.979 Q168.954 633.979 167.125 637.544 Q165.32 641.086 165.32 648.215 Q165.32 655.322 167.125 658.887 Q168.954 662.428 172.565 662.428 Q176.199 662.428 178.005 658.887 Q179.833 655.322 179.833 648.215 Q179.833 641.086 178.005 637.544 Q176.199 633.979 172.565 633.979 M172.565 630.276 Q178.375 630.276 181.431 634.882 Q184.509 639.465 184.509 648.215 Q184.509 656.942 181.431 661.549 Q178.375 666.132 172.565 666.132 Q166.755 666.132 163.676 661.549 Q160.621 656.942 160.621 648.215 Q160.621 639.465 163.676 634.882 Q166.755 630.276 172.565 630.276 Z\" fill=\"#000000\" fill-rule=\"evenodd\" fill-opacity=\"1\" /><path clip-path=\"url(#clip280)\" d=\"M132.218 426.393 L154.44 426.393 L154.44 428.384 L141.894 460.953 L137.01 460.953 L148.815 430.328 L132.218 430.328 L132.218 426.393 Z\" fill=\"#000000\" fill-rule=\"evenodd\" fill-opacity=\"1\" /><path clip-path=\"url(#clip280)\" d=\"M163.607 426.393 L181.963 426.393 L181.963 430.328 L167.889 430.328 L167.889 438.8 Q168.908 438.453 169.926 438.291 Q170.945 438.106 171.963 438.106 Q177.75 438.106 181.13 441.277 Q184.509 444.448 184.509 449.865 Q184.509 455.444 181.037 458.545 Q177.565 461.624 171.246 461.624 Q169.07 461.624 166.801 461.254 Q164.556 460.883 162.148 460.143 L162.148 455.444 Q164.232 456.578 166.454 457.133 Q168.676 457.689 171.153 457.689 Q175.158 457.689 177.495 455.583 Q179.833 453.476 179.833 449.865 Q179.833 446.254 177.495 444.147 Q175.158 442.041 171.153 442.041 Q169.278 442.041 167.403 442.458 Q165.551 442.874 163.607 443.754 L163.607 426.393 Z\" fill=\"#000000\" fill-rule=\"evenodd\" fill-opacity=\"1\" /><path clip-path=\"url(#clip280)\" d=\"M103.051 252.51 L110.69 252.51 L110.69 226.144 L102.38 227.811 L102.38 223.552 L110.644 221.885 L115.32 221.885 L115.32 252.51 L122.959 252.51 L122.959 256.445 L103.051 256.445 L103.051 252.51 Z\" fill=\"#000000\" fill-rule=\"evenodd\" fill-opacity=\"1\" /><path clip-path=\"url(#clip280)\" d=\"M142.403 224.964 Q138.792 224.964 136.963 228.529 Q135.158 232.07 135.158 239.2 Q135.158 246.306 136.963 249.871 Q138.792 253.413 142.403 253.413 Q146.037 253.413 147.843 249.871 Q149.672 246.306 149.672 239.2 Q149.672 232.07 147.843 228.529 Q146.037 224.964 142.403 224.964 M142.403 221.26 Q148.213 221.26 151.269 225.867 Q154.347 230.45 154.347 239.2 Q154.347 247.927 151.269 252.533 Q148.213 257.116 142.403 257.116 Q136.593 257.116 133.514 252.533 Q130.459 247.927 130.459 239.2 Q130.459 230.45 133.514 225.867 Q136.593 221.26 142.403 221.26 Z\" fill=\"#000000\" fill-rule=\"evenodd\" fill-opacity=\"1\" /><path clip-path=\"url(#clip280)\" d=\"M172.565 224.964 Q168.954 224.964 167.125 228.529 Q165.32 232.07 165.32 239.2 Q165.32 246.306 167.125 249.871 Q168.954 253.413 172.565 253.413 Q176.199 253.413 178.005 249.871 Q179.833 246.306 179.833 239.2 Q179.833 232.07 178.005 228.529 Q176.199 224.964 172.565 224.964 M172.565 221.26 Q178.375 221.26 181.431 225.867 Q184.509 230.45 184.509 239.2 Q184.509 247.927 181.431 252.533 Q178.375 257.116 172.565 257.116 Q166.755 257.116 163.676 252.533 Q160.621 247.927 160.621 239.2 Q160.621 230.45 163.676 225.867 Q166.755 221.26 172.565 221.26 Z\" fill=\"#000000\" fill-rule=\"evenodd\" fill-opacity=\"1\" /><path clip-path=\"url(#clip280)\" d=\"M9.88769 600.976 L46.8406 600.976 L46.8406 593.21 Q46.8406 583.375 42.3846 578.823 Q37.9286 574.24 28.3164 574.24 Q18.7679 574.24 14.3437 578.823 Q9.88769 583.375 9.88769 593.21 L9.88769 600.976 M4.60416 607.405 L4.60416 594.196 Q4.60416 580.383 10.3651 573.921 Q16.0943 567.46 28.3164 567.46 Q40.6022 567.46 46.3632 573.953 Q52.1242 580.446 52.1242 594.196 L52.1242 607.405 L4.60416 607.405 Z\" fill=\"#000000\" fill-rule=\"evenodd\" fill-opacity=\"1\" /><path clip-path=\"url(#clip280)\" d=\"M16.4762 557.466 L16.4762 551.61 L52.1242 551.61 L52.1242 557.466 L16.4762 557.466 M2.59896 557.466 L2.59896 551.61 L10.015 551.61 L10.015 557.466 L2.59896 557.466 Z\" fill=\"#000000\" fill-rule=\"evenodd\" fill-opacity=\"1\" /><path clip-path=\"url(#clip280)\" d=\"M17.5265 516.63 L23.0647 516.63 Q21.7916 519.113 21.155 521.786 Q20.5184 524.46 20.5184 527.325 Q20.5184 531.685 21.8552 533.881 Q23.192 536.046 25.8656 536.046 Q27.9026 536.046 29.0803 534.486 Q30.2261 532.926 31.2765 528.216 L31.7221 526.211 Q33.0589 519.972 35.5097 517.362 Q37.9286 514.72 42.2891 514.72 Q47.2544 514.72 50.1508 518.667 Q53.0472 522.582 53.0472 529.457 Q53.0472 532.322 52.4743 535.441 Q51.9332 538.528 50.8192 541.966 L44.7718 541.966 Q46.4587 538.719 47.318 535.568 Q48.1456 532.417 48.1456 529.33 Q48.1456 525.192 46.7451 522.964 Q45.3129 520.736 42.7347 520.736 Q40.3476 520.736 39.0745 522.359 Q37.8013 523.951 36.6237 529.393 L36.1462 531.43 Q35.0004 536.873 32.6451 539.292 Q30.258 541.711 26.1202 541.711 Q21.0913 541.711 18.3541 538.146 Q15.6168 534.581 15.6168 528.025 Q15.6168 524.778 16.0943 521.914 Q16.5717 519.049 17.5265 516.63 Z\" fill=\"#000000\" fill-rule=\"evenodd\" fill-opacity=\"1\" /><path clip-path=\"url(#clip280)\" d=\"M6.35473 499.602 L16.4762 499.602 L16.4762 487.539 L21.0277 487.539 L21.0277 499.602 L40.3794 499.602 Q44.7399 499.602 45.9813 498.424 Q47.2226 497.215 47.2226 493.554 L47.2226 487.539 L52.1242 487.539 L52.1242 493.554 Q52.1242 500.334 49.6097 502.912 Q47.0634 505.49 40.3794 505.49 L21.0277 505.49 L21.0277 509.787 L16.4762 509.787 L16.4762 505.49 L6.35473 505.49 L6.35473 499.602 Z\" fill=\"#000000\" fill-rule=\"evenodd\" fill-opacity=\"1\" /><circle clip-path=\"url(#clip282)\" cx=\"1505.28\" cy=\"729.984\" r=\"14\" fill=\"#009af9\" fill-rule=\"evenodd\" fill-opacity=\"1\" stroke=\"#000000\" stroke-opacity=\"1\" stroke-width=\"2.4\"/>\n",
       "<circle clip-path=\"url(#clip282)\" cx=\"1592.74\" cy=\"713.623\" r=\"14\" fill=\"#009af9\" fill-rule=\"evenodd\" fill-opacity=\"1\" stroke=\"#000000\" stroke-opacity=\"1\" stroke-width=\"2.4\"/>\n",
       "<circle clip-path=\"url(#clip282)\" cx=\"1592.74\" cy=\"370.05\" r=\"14\" fill=\"#009af9\" fill-rule=\"evenodd\" fill-opacity=\"1\" stroke=\"#000000\" stroke-opacity=\"1\" stroke-width=\"2.4\"/>\n",
       "<circle clip-path=\"url(#clip282)\" cx=\"1067.99\" cy=\"860.869\" r=\"14\" fill=\"#009af9\" fill-rule=\"evenodd\" fill-opacity=\"1\" stroke=\"#000000\" stroke-opacity=\"1\" stroke-width=\"2.4\"/>\n",
       "<circle clip-path=\"url(#clip282)\" cx=\"1767.66\" cy=\"795.426\" r=\"14\" fill=\"#009af9\" fill-rule=\"evenodd\" fill-opacity=\"1\" stroke=\"#000000\" stroke-opacity=\"1\" stroke-width=\"2.4\"/>\n",
       "<circle clip-path=\"url(#clip282)\" cx=\"1767.66\" cy=\"664.541\" r=\"14\" fill=\"#009af9\" fill-rule=\"evenodd\" fill-opacity=\"1\" stroke=\"#000000\" stroke-opacity=\"1\" stroke-width=\"2.4\"/>\n",
       "<circle clip-path=\"url(#clip282)\" cx=\"1767.66\" cy=\"533.656\" r=\"14\" fill=\"#009af9\" fill-rule=\"evenodd\" fill-opacity=\"1\" stroke=\"#000000\" stroke-opacity=\"1\" stroke-width=\"2.4\"/>\n",
       "<circle clip-path=\"url(#clip282)\" cx=\"2117.49\" cy=\"296.427\" r=\"14\" fill=\"#009af9\" fill-rule=\"evenodd\" fill-opacity=\"1\" stroke=\"#000000\" stroke-opacity=\"1\" stroke-width=\"2.4\"/>\n",
       "<circle clip-path=\"url(#clip282)\" cx=\"1680.2\" cy=\"680.902\" r=\"14\" fill=\"#009af9\" fill-rule=\"evenodd\" fill-opacity=\"1\" stroke=\"#000000\" stroke-opacity=\"1\" stroke-width=\"2.4\"/>\n",
       "<circle clip-path=\"url(#clip282)\" cx=\"1155.44\" cy=\"779.066\" r=\"14\" fill=\"#009af9\" fill-rule=\"evenodd\" fill-opacity=\"1\" stroke=\"#000000\" stroke-opacity=\"1\" stroke-width=\"2.4\"/>\n",
       "<circle clip-path=\"url(#clip282)\" cx=\"1592.74\" cy=\"435.493\" r=\"14\" fill=\"#009af9\" fill-rule=\"evenodd\" fill-opacity=\"1\" stroke=\"#000000\" stroke-opacity=\"1\" stroke-width=\"2.4\"/>\n",
       "<circle clip-path=\"url(#clip282)\" cx=\"805.609\" cy=\"975.393\" r=\"14\" fill=\"#009af9\" fill-rule=\"evenodd\" fill-opacity=\"1\" stroke=\"#000000\" stroke-opacity=\"1\" stroke-width=\"2.4\"/>\n",
       "<circle clip-path=\"url(#clip282)\" cx=\"1330.36\" cy=\"844.508\" r=\"14\" fill=\"#009af9\" fill-rule=\"evenodd\" fill-opacity=\"1\" stroke=\"#000000\" stroke-opacity=\"1\" stroke-width=\"2.4\"/>\n",
       "<circle clip-path=\"url(#clip282)\" cx=\"1242.9\" cy=\"762.705\" r=\"14\" fill=\"#009af9\" fill-rule=\"evenodd\" fill-opacity=\"1\" stroke=\"#000000\" stroke-opacity=\"1\" stroke-width=\"2.4\"/>\n",
       "<circle clip-path=\"url(#clip282)\" cx=\"893.068\" cy=\"844.508\" r=\"14\" fill=\"#009af9\" fill-rule=\"evenodd\" fill-opacity=\"1\" stroke=\"#000000\" stroke-opacity=\"1\" stroke-width=\"2.4\"/>\n",
       "<circle clip-path=\"url(#clip282)\" cx=\"980.527\" cy=\"828.147\" r=\"14\" fill=\"#009af9\" fill-rule=\"evenodd\" fill-opacity=\"1\" stroke=\"#000000\" stroke-opacity=\"1\" stroke-width=\"2.4\"/>\n",
       "<circle clip-path=\"url(#clip282)\" cx=\"2204.95\" cy=\"361.87\" r=\"14\" fill=\"#009af9\" fill-rule=\"evenodd\" fill-opacity=\"1\" stroke=\"#000000\" stroke-opacity=\"1\" stroke-width=\"2.4\"/>\n",
       "<circle clip-path=\"url(#clip282)\" cx=\"1505.28\" cy=\"795.426\" r=\"14\" fill=\"#009af9\" fill-rule=\"evenodd\" fill-opacity=\"1\" stroke=\"#000000\" stroke-opacity=\"1\" stroke-width=\"2.4\"/>\n",
       "<circle clip-path=\"url(#clip282)\" cx=\"718.15\" cy=\"926.311\" r=\"14\" fill=\"#009af9\" fill-rule=\"evenodd\" fill-opacity=\"1\" stroke=\"#000000\" stroke-opacity=\"1\" stroke-width=\"2.4\"/>\n",
       "<circle clip-path=\"url(#clip282)\" cx=\"1242.9\" cy=\"566.378\" r=\"14\" fill=\"#009af9\" fill-rule=\"evenodd\" fill-opacity=\"1\" stroke=\"#000000\" stroke-opacity=\"1\" stroke-width=\"2.4\"/>\n",
       "<circle clip-path=\"url(#clip282)\" cx=\"1942.57\" cy=\"517.296\" r=\"14\" fill=\"#009af9\" fill-rule=\"evenodd\" fill-opacity=\"1\" stroke=\"#000000\" stroke-opacity=\"1\" stroke-width=\"2.4\"/>\n",
       "<circle clip-path=\"url(#clip282)\" cx=\"2117.49\" cy=\"304.608\" r=\"14\" fill=\"#009af9\" fill-rule=\"evenodd\" fill-opacity=\"1\" stroke=\"#000000\" stroke-opacity=\"1\" stroke-width=\"2.4\"/>\n",
       "<circle clip-path=\"url(#clip282)\" cx=\"2117.49\" cy=\"75.5589\" r=\"14\" fill=\"#009af9\" fill-rule=\"evenodd\" fill-opacity=\"1\" stroke=\"#000000\" stroke-opacity=\"1\" stroke-width=\"2.4\"/>\n",
       "<circle clip-path=\"url(#clip282)\" cx=\"1680.2\" cy=\"500.935\" r=\"14\" fill=\"#009af9\" fill-rule=\"evenodd\" fill-opacity=\"1\" stroke=\"#000000\" stroke-opacity=\"1\" stroke-width=\"2.4\"/>\n",
       "<circle clip-path=\"url(#clip282)\" cx=\"1767.66\" cy=\"599.099\" r=\"14\" fill=\"#009af9\" fill-rule=\"evenodd\" fill-opacity=\"1\" stroke=\"#000000\" stroke-opacity=\"1\" stroke-width=\"2.4\"/>\n",
       "<circle clip-path=\"url(#clip282)\" cx=\"1067.99\" cy=\"942.672\" r=\"14\" fill=\"#009af9\" fill-rule=\"evenodd\" fill-opacity=\"1\" stroke=\"#000000\" stroke-opacity=\"1\" stroke-width=\"2.4\"/>\n",
       "<circle clip-path=\"url(#clip282)\" cx=\"1767.66\" cy=\"631.82\" r=\"14\" fill=\"#009af9\" fill-rule=\"evenodd\" fill-opacity=\"1\" stroke=\"#000000\" stroke-opacity=\"1\" stroke-width=\"2.4\"/>\n",
       "<circle clip-path=\"url(#clip282)\" cx=\"893.068\" cy=\"909.951\" r=\"14\" fill=\"#009af9\" fill-rule=\"evenodd\" fill-opacity=\"1\" stroke=\"#000000\" stroke-opacity=\"1\" stroke-width=\"2.4\"/>\n",
       "<circle clip-path=\"url(#clip282)\" cx=\"1417.82\" cy=\"795.426\" r=\"14\" fill=\"#009af9\" fill-rule=\"evenodd\" fill-opacity=\"1\" stroke=\"#000000\" stroke-opacity=\"1\" stroke-width=\"2.4\"/>\n",
       "<circle clip-path=\"url(#clip282)\" cx=\"1155.44\" cy=\"680.902\" r=\"14\" fill=\"#009af9\" fill-rule=\"evenodd\" fill-opacity=\"1\" stroke=\"#000000\" stroke-opacity=\"1\" stroke-width=\"2.4\"/>\n",
       "<circle clip-path=\"url(#clip282)\" cx=\"1067.99\" cy=\"828.147\" r=\"14\" fill=\"#009af9\" fill-rule=\"evenodd\" fill-opacity=\"1\" stroke=\"#000000\" stroke-opacity=\"1\" stroke-width=\"2.4\"/>\n",
       "<circle clip-path=\"url(#clip282)\" cx=\"1067.99\" cy=\"893.59\" r=\"14\" fill=\"#009af9\" fill-rule=\"evenodd\" fill-opacity=\"1\" stroke=\"#000000\" stroke-opacity=\"1\" stroke-width=\"2.4\"/>\n",
       "<circle clip-path=\"url(#clip282)\" cx=\"1155.44\" cy=\"844.508\" r=\"14\" fill=\"#009af9\" fill-rule=\"evenodd\" fill-opacity=\"1\" stroke=\"#000000\" stroke-opacity=\"1\" stroke-width=\"2.4\"/>\n",
       "<circle clip-path=\"url(#clip282)\" cx=\"1242.9\" cy=\"844.508\" r=\"14\" fill=\"#009af9\" fill-rule=\"evenodd\" fill-opacity=\"1\" stroke=\"#000000\" stroke-opacity=\"1\" stroke-width=\"2.4\"/>\n",
       "<circle clip-path=\"url(#clip282)\" cx=\"1592.74\" cy=\"599.099\" r=\"14\" fill=\"#009af9\" fill-rule=\"evenodd\" fill-opacity=\"1\" stroke=\"#000000\" stroke-opacity=\"1\" stroke-width=\"2.4\"/>\n",
       "<circle clip-path=\"url(#clip282)\" cx=\"368.315\" cy=\"975.393\" r=\"14\" fill=\"#009af9\" fill-rule=\"evenodd\" fill-opacity=\"1\" stroke=\"#000000\" stroke-opacity=\"1\" stroke-width=\"2.4\"/>\n",
       "<circle clip-path=\"url(#clip282)\" cx=\"893.068\" cy=\"779.066\" r=\"14\" fill=\"#009af9\" fill-rule=\"evenodd\" fill-opacity=\"1\" stroke=\"#000000\" stroke-opacity=\"1\" stroke-width=\"2.4\"/>\n",
       "<circle clip-path=\"url(#clip282)\" cx=\"1155.44\" cy=\"779.066\" r=\"14\" fill=\"#009af9\" fill-rule=\"evenodd\" fill-opacity=\"1\" stroke=\"#000000\" stroke-opacity=\"1\" stroke-width=\"2.4\"/>\n",
       "<polyline clip-path=\"url(#clip282)\" style=\"stroke:#e26f46; stroke-linecap:butt; stroke-linejoin:round; stroke-width:8; stroke-opacity:1; fill:none\" points=\"\n",
       "  280.856,1019.39 368.315,998.09 455.774,976.796 543.232,955.501 630.691,934.206 718.15,912.911 805.609,891.617 893.068,870.322 980.527,849.027 1067.99,827.733 \n",
       "  1155.44,806.438 1242.9,785.143 1330.36,763.848 1417.82,742.554 1505.28,703.82 1592.74,650.084 1680.2,596.348 1767.66,542.612 1855.12,488.877 1942.57,435.141 \n",
       "  2030.03,381.405 2117.49,327.669 2204.95,273.933 2292.41,220.198 \n",
       "  \"/>\n",
       "</svg>\n"
      ]
     },
     "execution_count": 152,
     "metadata": {},
     "output_type": "execute_result"
    }
   ],
   "source": [
    "scatter(X,Y, legend=false, \n",
    "            xlabel = \"Speed\",\n",
    "            ylabel = \"Dist\",\n",
    "            size = (600,300))\n",
    "plot!(p, f_NN(p, θ_NN), lw = 2)"
   ]
  },
  {
   "cell_type": "markdown",
   "metadata": {},
   "source": [
    "## Model Selection"
   ]
  },
  {
   "cell_type": "markdown",
   "metadata": {},
   "source": [
    "Zuletzt wollen wir beurteilen, welches Modell am besten geeignet ist, um die Daten zu beschreiben. Dazu evaluieren wir die Schätzer auf den Testdaten.\n",
    "\n",
    "Zuerst plotten wir alle geschätzten Funktionen zusammen mit den Testdaten."
   ]
  },
  {
   "cell_type": "code",
   "execution_count": 153,
   "metadata": {},
   "outputs": [
    {
     "data": {
      "image/svg+xml": [
       "<?xml version=\"1.0\" encoding=\"utf-8\"?>\n",
       "<svg xmlns=\"http://www.w3.org/2000/svg\" xmlns:xlink=\"http://www.w3.org/1999/xlink\" width=\"600\" height=\"300\" viewBox=\"0 0 2400 1200\">\n",
       "<defs>\n",
       "  <clipPath id=\"clip320\">\n",
       "    <rect x=\"0\" y=\"0\" width=\"2400\" height=\"1200\"/>\n",
       "  </clipPath>\n",
       "</defs>\n",
       "<path clip-path=\"url(#clip320)\" d=\"\n",
       "M0 1200 L2400 1200 L2400 0 L0 0  Z\n",
       "  \" fill=\"#ffffff\" fill-rule=\"evenodd\" fill-opacity=\"1\"/>\n",
       "<defs>\n",
       "  <clipPath id=\"clip321\">\n",
       "    <rect x=\"480\" y=\"0\" width=\"1681\" height=\"1200\"/>\n",
       "  </clipPath>\n",
       "</defs>\n",
       "<path clip-path=\"url(#clip320)\" d=\"\n",
       "M220.509 1047.7 L2352.76 1047.7 L2352.76 47.2441 L220.509 47.2441  Z\n",
       "  \" fill=\"#ffffff\" fill-rule=\"evenodd\" fill-opacity=\"1\"/>\n",
       "<defs>\n",
       "  <clipPath id=\"clip322\">\n",
       "    <rect x=\"220\" y=\"47\" width=\"2133\" height=\"1001\"/>\n",
       "  </clipPath>\n",
       "</defs>\n",
       "<polyline clip-path=\"url(#clip322)\" style=\"stroke:#000000; stroke-linecap:butt; stroke-linejoin:round; stroke-width:2; stroke-opacity:0.1; fill:none\" points=\"\n",
       "  455.774,1047.7 455.774,47.2441 \n",
       "  \"/>\n",
       "<polyline clip-path=\"url(#clip322)\" style=\"stroke:#000000; stroke-linecap:butt; stroke-linejoin:round; stroke-width:2; stroke-opacity:0.1; fill:none\" points=\"\n",
       "  893.068,1047.7 893.068,47.2441 \n",
       "  \"/>\n",
       "<polyline clip-path=\"url(#clip322)\" style=\"stroke:#000000; stroke-linecap:butt; stroke-linejoin:round; stroke-width:2; stroke-opacity:0.1; fill:none\" points=\"\n",
       "  1330.36,1047.7 1330.36,47.2441 \n",
       "  \"/>\n",
       "<polyline clip-path=\"url(#clip322)\" style=\"stroke:#000000; stroke-linecap:butt; stroke-linejoin:round; stroke-width:2; stroke-opacity:0.1; fill:none\" points=\"\n",
       "  1767.66,1047.7 1767.66,47.2441 \n",
       "  \"/>\n",
       "<polyline clip-path=\"url(#clip322)\" style=\"stroke:#000000; stroke-linecap:butt; stroke-linejoin:round; stroke-width:2; stroke-opacity:0.1; fill:none\" points=\"\n",
       "  2204.95,1047.7 2204.95,47.2441 \n",
       "  \"/>\n",
       "<polyline clip-path=\"url(#clip320)\" style=\"stroke:#000000; stroke-linecap:butt; stroke-linejoin:round; stroke-width:4; stroke-opacity:1; fill:none\" points=\"\n",
       "  220.509,1047.7 2352.76,1047.7 \n",
       "  \"/>\n",
       "<polyline clip-path=\"url(#clip320)\" style=\"stroke:#000000; stroke-linecap:butt; stroke-linejoin:round; stroke-width:4; stroke-opacity:1; fill:none\" points=\"\n",
       "  455.774,1047.7 455.774,1028.8 \n",
       "  \"/>\n",
       "<polyline clip-path=\"url(#clip320)\" style=\"stroke:#000000; stroke-linecap:butt; stroke-linejoin:round; stroke-width:4; stroke-opacity:1; fill:none\" points=\"\n",
       "  893.068,1047.7 893.068,1028.8 \n",
       "  \"/>\n",
       "<polyline clip-path=\"url(#clip320)\" style=\"stroke:#000000; stroke-linecap:butt; stroke-linejoin:round; stroke-width:4; stroke-opacity:1; fill:none\" points=\"\n",
       "  1330.36,1047.7 1330.36,1028.8 \n",
       "  \"/>\n",
       "<polyline clip-path=\"url(#clip320)\" style=\"stroke:#000000; stroke-linecap:butt; stroke-linejoin:round; stroke-width:4; stroke-opacity:1; fill:none\" points=\"\n",
       "  1767.66,1047.7 1767.66,1028.8 \n",
       "  \"/>\n",
       "<polyline clip-path=\"url(#clip320)\" style=\"stroke:#000000; stroke-linecap:butt; stroke-linejoin:round; stroke-width:4; stroke-opacity:1; fill:none\" points=\"\n",
       "  2204.95,1047.7 2204.95,1028.8 \n",
       "  \"/>\n",
       "<path clip-path=\"url(#clip320)\" d=\"M446.051 1075.54 L464.408 1075.54 L464.408 1079.48 L450.334 1079.48 L450.334 1087.95 Q451.352 1087.6 452.371 1087.44 Q453.389 1087.25 454.408 1087.25 Q460.195 1087.25 463.575 1090.42 Q466.954 1093.6 466.954 1099.01 Q466.954 1104.59 463.482 1107.69 Q460.01 1110.77 453.69 1110.77 Q451.514 1110.77 449.246 1110.4 Q447.001 1110.03 444.593 1109.29 L444.593 1104.59 Q446.676 1105.72 448.899 1106.28 Q451.121 1106.84 453.598 1106.84 Q457.602 1106.84 459.94 1104.73 Q462.278 1102.62 462.278 1099.01 Q462.278 1095.4 459.94 1093.29 Q457.602 1091.19 453.598 1091.19 Q451.723 1091.19 449.848 1091.6 Q447.996 1092.02 446.051 1092.9 L446.051 1075.54 Z\" fill=\"#000000\" fill-rule=\"evenodd\" fill-opacity=\"1\" /><path clip-path=\"url(#clip320)\" d=\"M867.755 1106.16 L875.394 1106.16 L875.394 1079.8 L867.084 1081.47 L867.084 1077.21 L875.348 1075.54 L880.024 1075.54 L880.024 1106.16 L887.663 1106.16 L887.663 1110.1 L867.755 1110.1 L867.755 1106.16 Z\" fill=\"#000000\" fill-rule=\"evenodd\" fill-opacity=\"1\" /><path clip-path=\"url(#clip320)\" d=\"M907.107 1078.62 Q903.496 1078.62 901.667 1082.18 Q899.862 1085.72 899.862 1092.85 Q899.862 1099.96 901.667 1103.53 Q903.496 1107.07 907.107 1107.07 Q910.741 1107.07 912.547 1103.53 Q914.376 1099.96 914.376 1092.85 Q914.376 1085.72 912.547 1082.18 Q910.741 1078.62 907.107 1078.62 M907.107 1074.91 Q912.917 1074.91 915.973 1079.52 Q919.051 1084.1 919.051 1092.85 Q919.051 1101.58 915.973 1106.19 Q912.917 1110.77 907.107 1110.77 Q901.297 1110.77 898.218 1106.19 Q895.163 1101.58 895.163 1092.85 Q895.163 1084.1 898.218 1079.52 Q901.297 1074.91 907.107 1074.91 Z\" fill=\"#000000\" fill-rule=\"evenodd\" fill-opacity=\"1\" /><path clip-path=\"url(#clip320)\" d=\"M1305.55 1106.16 L1313.19 1106.16 L1313.19 1079.8 L1304.88 1081.47 L1304.88 1077.21 L1313.14 1075.54 L1317.82 1075.54 L1317.82 1106.16 L1325.45 1106.16 L1325.45 1110.1 L1305.55 1110.1 L1305.55 1106.16 Z\" fill=\"#000000\" fill-rule=\"evenodd\" fill-opacity=\"1\" /><path clip-path=\"url(#clip320)\" d=\"M1334.95 1075.54 L1353.3 1075.54 L1353.3 1079.48 L1339.23 1079.48 L1339.23 1087.95 Q1340.25 1087.6 1341.26 1087.44 Q1342.28 1087.25 1343.3 1087.25 Q1349.09 1087.25 1352.47 1090.42 Q1355.85 1093.6 1355.85 1099.01 Q1355.85 1104.59 1352.38 1107.69 Q1348.9 1110.77 1342.58 1110.77 Q1340.41 1110.77 1338.14 1110.4 Q1335.89 1110.03 1333.49 1109.29 L1333.49 1104.59 Q1335.57 1105.72 1337.79 1106.28 Q1340.01 1106.84 1342.49 1106.84 Q1346.5 1106.84 1348.83 1104.73 Q1351.17 1102.62 1351.17 1099.01 Q1351.17 1095.4 1348.83 1093.29 Q1346.5 1091.19 1342.49 1091.19 Q1340.62 1091.19 1338.74 1091.6 Q1336.89 1092.02 1334.95 1092.9 L1334.95 1075.54 Z\" fill=\"#000000\" fill-rule=\"evenodd\" fill-opacity=\"1\" /><path clip-path=\"url(#clip320)\" d=\"M1746.43 1106.16 L1762.75 1106.16 L1762.75 1110.1 L1740.8 1110.1 L1740.8 1106.16 Q1743.47 1103.41 1748.05 1098.78 Q1752.66 1094.13 1753.84 1092.79 Q1756.08 1090.26 1756.96 1088.53 Q1757.86 1086.77 1757.86 1085.08 Q1757.86 1082.32 1755.92 1080.59 Q1754 1078.85 1750.9 1078.85 Q1748.7 1078.85 1746.24 1079.61 Q1743.81 1080.38 1741.04 1081.93 L1741.04 1077.21 Q1743.86 1076.07 1746.31 1075.49 Q1748.77 1074.91 1750.8 1074.91 Q1756.17 1074.91 1759.37 1077.6 Q1762.56 1080.29 1762.56 1084.78 Q1762.56 1086.91 1761.75 1088.83 Q1760.97 1090.72 1758.86 1093.32 Q1758.28 1093.99 1755.18 1097.21 Q1752.08 1100.4 1746.43 1106.16 Z\" fill=\"#000000\" fill-rule=\"evenodd\" fill-opacity=\"1\" /><path clip-path=\"url(#clip320)\" d=\"M1782.56 1078.62 Q1778.95 1078.62 1777.12 1082.18 Q1775.32 1085.72 1775.32 1092.85 Q1775.32 1099.96 1777.12 1103.53 Q1778.95 1107.07 1782.56 1107.07 Q1786.2 1107.07 1788 1103.53 Q1789.83 1099.96 1789.83 1092.85 Q1789.83 1085.72 1788 1082.18 Q1786.2 1078.62 1782.56 1078.62 M1782.56 1074.91 Q1788.37 1074.91 1791.43 1079.52 Q1794.51 1084.1 1794.51 1092.85 Q1794.51 1101.58 1791.43 1106.19 Q1788.37 1110.77 1782.56 1110.77 Q1776.75 1110.77 1773.67 1106.19 Q1770.62 1101.58 1770.62 1092.85 Q1770.62 1084.1 1773.67 1079.52 Q1776.75 1074.91 1782.56 1074.91 Z\" fill=\"#000000\" fill-rule=\"evenodd\" fill-opacity=\"1\" /><path clip-path=\"url(#clip320)\" d=\"M2184.22 1106.16 L2200.54 1106.16 L2200.54 1110.1 L2178.6 1110.1 L2178.6 1106.16 Q2181.26 1103.41 2185.84 1098.78 Q2190.45 1094.13 2191.63 1092.79 Q2193.87 1090.26 2194.75 1088.53 Q2195.66 1086.77 2195.66 1085.08 Q2195.66 1082.32 2193.71 1080.59 Q2191.79 1078.85 2188.69 1078.85 Q2186.49 1078.85 2184.04 1079.61 Q2181.61 1080.38 2178.83 1081.93 L2178.83 1077.21 Q2181.65 1076.07 2184.11 1075.49 Q2186.56 1074.91 2188.6 1074.91 Q2193.97 1074.91 2197.16 1077.6 Q2200.36 1080.29 2200.36 1084.78 Q2200.36 1086.91 2199.55 1088.83 Q2198.76 1090.72 2196.65 1093.32 Q2196.07 1093.99 2192.97 1097.21 Q2189.87 1100.4 2184.22 1106.16 Z\" fill=\"#000000\" fill-rule=\"evenodd\" fill-opacity=\"1\" /><path clip-path=\"url(#clip320)\" d=\"M2210.4 1075.54 L2228.76 1075.54 L2228.76 1079.48 L2214.68 1079.48 L2214.68 1087.95 Q2215.7 1087.6 2216.72 1087.44 Q2217.74 1087.25 2218.76 1087.25 Q2224.55 1087.25 2227.92 1090.42 Q2231.3 1093.6 2231.3 1099.01 Q2231.3 1104.59 2227.83 1107.69 Q2224.36 1110.77 2218.04 1110.77 Q2215.86 1110.77 2213.6 1110.4 Q2211.35 1110.03 2208.94 1109.29 L2208.94 1104.59 Q2211.03 1105.72 2213.25 1106.28 Q2215.47 1106.84 2217.95 1106.84 Q2221.95 1106.84 2224.29 1104.73 Q2226.63 1102.62 2226.63 1099.01 Q2226.63 1095.4 2224.29 1093.29 Q2221.95 1091.19 2217.95 1091.19 Q2216.07 1091.19 2214.2 1091.6 Q2212.35 1092.02 2210.4 1092.9 L2210.4 1075.54 Z\" fill=\"#000000\" fill-rule=\"evenodd\" fill-opacity=\"1\" /><path clip-path=\"url(#clip320)\" d=\"M1220.16 1146.6 L1220.16 1152.87 Q1216.5 1151.12 1213.25 1150.26 Q1210.01 1149.4 1206.98 1149.4 Q1201.73 1149.4 1198.87 1151.44 Q1196.03 1153.48 1196.03 1157.23 Q1196.03 1160.39 1197.91 1162.01 Q1199.82 1163.6 1205.1 1164.59 L1208.99 1165.38 Q1216.18 1166.75 1219.59 1170.22 Q1223.02 1173.66 1223.02 1179.45 Q1223.02 1186.36 1218.38 1189.92 Q1213.76 1193.49 1204.82 1193.49 Q1201.44 1193.49 1197.62 1192.72 Q1193.84 1191.96 1189.76 1190.46 L1189.76 1183.84 Q1193.68 1186.04 1197.43 1187.15 Q1201.19 1188.27 1204.82 1188.27 Q1210.32 1188.27 1213.32 1186.1 Q1216.31 1183.94 1216.31 1179.93 Q1216.31 1176.43 1214.14 1174.45 Q1212.01 1172.48 1207.11 1171.49 L1203.19 1170.73 Q1196 1169.3 1192.79 1166.24 Q1189.57 1163.19 1189.57 1157.74 Q1189.57 1151.44 1194 1147.81 Q1198.45 1144.18 1206.25 1144.18 Q1209.59 1144.18 1213.06 1144.79 Q1216.53 1145.39 1220.16 1146.6 Z\" fill=\"#000000\" fill-rule=\"evenodd\" fill-opacity=\"1\" /><path clip-path=\"url(#clip320)\" d=\"M1238.46 1187.22 L1238.46 1206.12 L1232.57 1206.12 L1232.57 1156.92 L1238.46 1156.92 L1238.46 1162.33 Q1240.31 1159.14 1243.11 1157.62 Q1245.94 1156.06 1249.85 1156.06 Q1256.35 1156.06 1260.39 1161.21 Q1264.46 1166.37 1264.46 1174.77 Q1264.46 1183.17 1260.39 1188.33 Q1256.35 1193.49 1249.85 1193.49 Q1245.94 1193.49 1243.11 1191.96 Q1240.31 1190.4 1238.46 1187.22 M1258.38 1174.77 Q1258.38 1168.31 1255.71 1164.65 Q1253.07 1160.96 1248.42 1160.96 Q1243.78 1160.96 1241.1 1164.65 Q1238.46 1168.31 1238.46 1174.77 Q1238.46 1181.23 1241.1 1184.92 Q1243.78 1188.59 1248.42 1188.59 Q1253.07 1188.59 1255.71 1184.92 Q1258.38 1181.23 1258.38 1174.77 Z\" fill=\"#000000\" fill-rule=\"evenodd\" fill-opacity=\"1\" /><path clip-path=\"url(#clip320)\" d=\"M1304.66 1173.28 L1304.66 1176.14 L1277.74 1176.14 Q1278.12 1182.19 1281.37 1185.37 Q1284.64 1188.52 1290.47 1188.52 Q1293.84 1188.52 1296.99 1187.69 Q1300.18 1186.87 1303.29 1185.21 L1303.29 1190.75 Q1300.14 1192.09 1296.83 1192.79 Q1293.52 1193.49 1290.12 1193.49 Q1281.59 1193.49 1276.59 1188.52 Q1271.63 1183.56 1271.63 1175.09 Q1271.63 1166.34 1276.34 1161.21 Q1281.08 1156.06 1289.1 1156.06 Q1296.29 1156.06 1300.46 1160.7 Q1304.66 1165.32 1304.66 1173.28 M1298.81 1171.56 Q1298.74 1166.75 1296.1 1163.89 Q1293.49 1161.02 1289.16 1161.02 Q1284.26 1161.02 1281.3 1163.79 Q1278.37 1166.56 1277.93 1171.59 L1298.81 1171.56 Z\" fill=\"#000000\" fill-rule=\"evenodd\" fill-opacity=\"1\" /><path clip-path=\"url(#clip320)\" d=\"M1344.77 1173.28 L1344.77 1176.14 L1317.84 1176.14 Q1318.22 1182.19 1321.47 1185.37 Q1324.75 1188.52 1330.57 1188.52 Q1333.95 1188.52 1337.1 1187.69 Q1340.28 1186.87 1343.4 1185.21 L1343.4 1190.75 Q1340.25 1192.09 1336.94 1192.79 Q1333.63 1193.49 1330.22 1193.49 Q1321.69 1193.49 1316.69 1188.52 Q1311.73 1183.56 1311.73 1175.09 Q1311.73 1166.34 1316.44 1161.21 Q1321.18 1156.06 1329.2 1156.06 Q1336.4 1156.06 1340.57 1160.7 Q1344.77 1165.32 1344.77 1173.28 M1338.91 1171.56 Q1338.85 1166.75 1336.21 1163.89 Q1333.6 1161.02 1329.27 1161.02 Q1324.37 1161.02 1321.41 1163.79 Q1318.48 1166.56 1318.03 1171.59 L1338.91 1171.56 Z\" fill=\"#000000\" fill-rule=\"evenodd\" fill-opacity=\"1\" /><path clip-path=\"url(#clip320)\" d=\"M1377.84 1162.33 L1377.84 1143.04 L1383.69 1143.04 L1383.69 1192.56 L1377.84 1192.56 L1377.84 1187.22 Q1375.99 1190.4 1373.16 1191.96 Q1370.36 1193.49 1366.41 1193.49 Q1359.95 1193.49 1355.88 1188.33 Q1351.83 1183.17 1351.83 1174.77 Q1351.83 1166.37 1355.88 1161.21 Q1359.95 1156.06 1366.41 1156.06 Q1370.36 1156.06 1373.16 1157.62 Q1375.99 1159.14 1377.84 1162.33 M1357.88 1174.77 Q1357.88 1181.23 1360.52 1184.92 Q1363.2 1188.59 1367.84 1188.59 Q1372.49 1188.59 1375.16 1184.92 Q1377.84 1181.23 1377.84 1174.77 Q1377.84 1168.31 1375.16 1164.65 Q1372.49 1160.96 1367.84 1160.96 Q1363.2 1160.96 1360.52 1164.65 Q1357.88 1168.31 1357.88 1174.77 Z\" fill=\"#000000\" fill-rule=\"evenodd\" fill-opacity=\"1\" /><polyline clip-path=\"url(#clip322)\" style=\"stroke:#000000; stroke-linecap:butt; stroke-linejoin:round; stroke-width:2; stroke-opacity:0.1; fill:none\" points=\"\n",
       "  220.509,930.162 2352.76,930.162 \n",
       "  \"/>\n",
       "<polyline clip-path=\"url(#clip322)\" style=\"stroke:#000000; stroke-linecap:butt; stroke-linejoin:round; stroke-width:2; stroke-opacity:0.1; fill:none\" points=\"\n",
       "  220.509,721.353 2352.76,721.353 \n",
       "  \"/>\n",
       "<polyline clip-path=\"url(#clip322)\" style=\"stroke:#000000; stroke-linecap:butt; stroke-linejoin:round; stroke-width:2; stroke-opacity:0.1; fill:none\" points=\"\n",
       "  220.509,512.544 2352.76,512.544 \n",
       "  \"/>\n",
       "<polyline clip-path=\"url(#clip322)\" style=\"stroke:#000000; stroke-linecap:butt; stroke-linejoin:round; stroke-width:2; stroke-opacity:0.1; fill:none\" points=\"\n",
       "  220.509,303.734 2352.76,303.734 \n",
       "  \"/>\n",
       "<polyline clip-path=\"url(#clip322)\" style=\"stroke:#000000; stroke-linecap:butt; stroke-linejoin:round; stroke-width:2; stroke-opacity:0.1; fill:none\" points=\"\n",
       "  220.509,94.9253 2352.76,94.9253 \n",
       "  \"/>\n",
       "<polyline clip-path=\"url(#clip320)\" style=\"stroke:#000000; stroke-linecap:butt; stroke-linejoin:round; stroke-width:4; stroke-opacity:1; fill:none\" points=\"\n",
       "  220.509,1047.7 220.509,47.2441 \n",
       "  \"/>\n",
       "<polyline clip-path=\"url(#clip320)\" style=\"stroke:#000000; stroke-linecap:butt; stroke-linejoin:round; stroke-width:4; stroke-opacity:1; fill:none\" points=\"\n",
       "  220.509,930.162 239.407,930.162 \n",
       "  \"/>\n",
       "<polyline clip-path=\"url(#clip320)\" style=\"stroke:#000000; stroke-linecap:butt; stroke-linejoin:round; stroke-width:4; stroke-opacity:1; fill:none\" points=\"\n",
       "  220.509,721.353 239.407,721.353 \n",
       "  \"/>\n",
       "<polyline clip-path=\"url(#clip320)\" style=\"stroke:#000000; stroke-linecap:butt; stroke-linejoin:round; stroke-width:4; stroke-opacity:1; fill:none\" points=\"\n",
       "  220.509,512.544 239.407,512.544 \n",
       "  \"/>\n",
       "<polyline clip-path=\"url(#clip320)\" style=\"stroke:#000000; stroke-linecap:butt; stroke-linejoin:round; stroke-width:4; stroke-opacity:1; fill:none\" points=\"\n",
       "  220.509,303.734 239.407,303.734 \n",
       "  \"/>\n",
       "<polyline clip-path=\"url(#clip320)\" style=\"stroke:#000000; stroke-linecap:butt; stroke-linejoin:round; stroke-width:4; stroke-opacity:1; fill:none\" points=\"\n",
       "  220.509,94.9253 239.407,94.9253 \n",
       "  \"/>\n",
       "<path clip-path=\"url(#clip320)\" d=\"M172.565 915.96 Q168.954 915.96 167.125 919.525 Q165.32 923.067 165.32 930.196 Q165.32 937.303 167.125 940.868 Q168.954 944.409 172.565 944.409 Q176.199 944.409 178.005 940.868 Q179.833 937.303 179.833 930.196 Q179.833 923.067 178.005 919.525 Q176.199 915.96 172.565 915.96 M172.565 912.257 Q178.375 912.257 181.431 916.863 Q184.509 921.447 184.509 930.196 Q184.509 938.923 181.431 943.53 Q178.375 948.113 172.565 948.113 Q166.755 948.113 163.676 943.53 Q160.621 938.923 160.621 930.196 Q160.621 921.447 163.676 916.863 Q166.755 912.257 172.565 912.257 Z\" fill=\"#000000\" fill-rule=\"evenodd\" fill-opacity=\"1\" /><path clip-path=\"url(#clip320)\" d=\"M137.426 734.697 L153.746 734.697 L153.746 738.633 L131.801 738.633 L131.801 734.697 Q134.463 731.943 139.047 727.313 Q143.653 722.66 144.834 721.318 Q147.079 718.795 147.959 717.059 Q148.861 715.299 148.861 713.61 Q148.861 710.855 146.917 709.119 Q144.996 707.383 141.894 707.383 Q139.695 707.383 137.241 708.147 Q134.811 708.911 132.033 710.461 L132.033 705.739 Q134.857 704.605 137.311 704.026 Q139.764 703.448 141.801 703.448 Q147.172 703.448 150.366 706.133 Q153.56 708.818 153.56 713.309 Q153.56 715.438 152.75 717.36 Q151.963 719.258 149.857 721.85 Q149.278 722.522 146.176 725.739 Q143.074 728.934 137.426 734.697 Z\" fill=\"#000000\" fill-rule=\"evenodd\" fill-opacity=\"1\" /><path clip-path=\"url(#clip320)\" d=\"M163.607 704.073 L181.963 704.073 L181.963 708.008 L167.889 708.008 L167.889 716.48 Q168.908 716.133 169.926 715.971 Q170.945 715.786 171.963 715.786 Q177.75 715.786 181.13 718.957 Q184.509 722.128 184.509 727.545 Q184.509 733.123 181.037 736.225 Q177.565 739.304 171.246 739.304 Q169.07 739.304 166.801 738.934 Q164.556 738.563 162.148 737.822 L162.148 733.123 Q164.232 734.258 166.454 734.813 Q168.676 735.369 171.153 735.369 Q175.158 735.369 177.495 733.262 Q179.833 731.156 179.833 727.545 Q179.833 723.934 177.495 721.827 Q175.158 719.721 171.153 719.721 Q169.278 719.721 167.403 720.137 Q165.551 720.554 163.607 721.434 L163.607 704.073 Z\" fill=\"#000000\" fill-rule=\"evenodd\" fill-opacity=\"1\" /><path clip-path=\"url(#clip320)\" d=\"M132.449 495.264 L150.806 495.264 L150.806 499.199 L136.732 499.199 L136.732 507.671 Q137.75 507.324 138.769 507.162 Q139.787 506.976 140.806 506.976 Q146.593 506.976 149.972 510.148 Q153.352 513.319 153.352 518.736 Q153.352 524.314 149.88 527.416 Q146.408 530.495 140.088 530.495 Q137.912 530.495 135.644 530.124 Q133.399 529.754 130.991 529.013 L130.991 524.314 Q133.074 525.449 135.297 526.004 Q137.519 526.56 139.996 526.56 Q144 526.56 146.338 524.453 Q148.676 522.347 148.676 518.736 Q148.676 515.125 146.338 513.018 Q144 510.912 139.996 510.912 Q138.121 510.912 136.246 511.328 Q134.394 511.745 132.449 512.625 L132.449 495.264 Z\" fill=\"#000000\" fill-rule=\"evenodd\" fill-opacity=\"1\" /><path clip-path=\"url(#clip320)\" d=\"M172.565 498.342 Q168.954 498.342 167.125 501.907 Q165.32 505.449 165.32 512.578 Q165.32 519.685 167.125 523.249 Q168.954 526.791 172.565 526.791 Q176.199 526.791 178.005 523.249 Q179.833 519.685 179.833 512.578 Q179.833 505.449 178.005 501.907 Q176.199 498.342 172.565 498.342 M172.565 494.639 Q178.375 494.639 181.431 499.245 Q184.509 503.828 184.509 512.578 Q184.509 521.305 181.431 525.911 Q178.375 530.495 172.565 530.495 Q166.755 530.495 163.676 525.911 Q160.621 521.305 160.621 512.578 Q160.621 503.828 163.676 499.245 Q166.755 494.639 172.565 494.639 Z\" fill=\"#000000\" fill-rule=\"evenodd\" fill-opacity=\"1\" /><path clip-path=\"url(#clip320)\" d=\"M132.218 286.454 L154.44 286.454 L154.44 288.445 L141.894 321.014 L137.01 321.014 L148.815 290.39 L132.218 290.39 L132.218 286.454 Z\" fill=\"#000000\" fill-rule=\"evenodd\" fill-opacity=\"1\" /><path clip-path=\"url(#clip320)\" d=\"M163.607 286.454 L181.963 286.454 L181.963 290.39 L167.889 290.39 L167.889 298.862 Q168.908 298.515 169.926 298.352 Q170.945 298.167 171.963 298.167 Q177.75 298.167 181.13 301.339 Q184.509 304.51 184.509 309.926 Q184.509 315.505 181.037 318.607 Q177.565 321.686 171.246 321.686 Q169.07 321.686 166.801 321.315 Q164.556 320.945 162.148 320.204 L162.148 315.505 Q164.232 316.639 166.454 317.195 Q168.676 317.751 171.153 317.751 Q175.158 317.751 177.495 315.644 Q179.833 313.538 179.833 309.926 Q179.833 306.315 177.495 304.209 Q175.158 302.102 171.153 302.102 Q169.278 302.102 167.403 302.519 Q165.551 302.936 163.607 303.815 L163.607 286.454 Z\" fill=\"#000000\" fill-rule=\"evenodd\" fill-opacity=\"1\" /><path clip-path=\"url(#clip320)\" d=\"M103.051 108.27 L110.69 108.27 L110.69 81.9045 L102.38 83.5712 L102.38 79.3119 L110.644 77.6453 L115.32 77.6453 L115.32 108.27 L122.959 108.27 L122.959 112.205 L103.051 112.205 L103.051 108.27 Z\" fill=\"#000000\" fill-rule=\"evenodd\" fill-opacity=\"1\" /><path clip-path=\"url(#clip320)\" d=\"M142.403 80.724 Q138.792 80.724 136.963 84.2887 Q135.158 87.8304 135.158 94.96 Q135.158 102.066 136.963 105.631 Q138.792 109.173 142.403 109.173 Q146.037 109.173 147.843 105.631 Q149.672 102.066 149.672 94.96 Q149.672 87.8304 147.843 84.2887 Q146.037 80.724 142.403 80.724 M142.403 77.0203 Q148.213 77.0203 151.269 81.6267 Q154.347 86.21 154.347 94.96 Q154.347 103.687 151.269 108.293 Q148.213 112.877 142.403 112.877 Q136.593 112.877 133.514 108.293 Q130.459 103.687 130.459 94.96 Q130.459 86.21 133.514 81.6267 Q136.593 77.0203 142.403 77.0203 Z\" fill=\"#000000\" fill-rule=\"evenodd\" fill-opacity=\"1\" /><path clip-path=\"url(#clip320)\" d=\"M172.565 80.724 Q168.954 80.724 167.125 84.2887 Q165.32 87.8304 165.32 94.96 Q165.32 102.066 167.125 105.631 Q168.954 109.173 172.565 109.173 Q176.199 109.173 178.005 105.631 Q179.833 102.066 179.833 94.96 Q179.833 87.8304 178.005 84.2887 Q176.199 80.724 172.565 80.724 M172.565 77.0203 Q178.375 77.0203 181.431 81.6267 Q184.509 86.21 184.509 94.96 Q184.509 103.687 181.431 108.293 Q178.375 112.877 172.565 112.877 Q166.755 112.877 163.676 108.293 Q160.621 103.687 160.621 94.96 Q160.621 86.21 163.676 81.6267 Q166.755 77.0203 172.565 77.0203 Z\" fill=\"#000000\" fill-rule=\"evenodd\" fill-opacity=\"1\" /><path clip-path=\"url(#clip320)\" d=\"M9.88769 600.976 L46.8406 600.976 L46.8406 593.21 Q46.8406 583.375 42.3846 578.823 Q37.9286 574.24 28.3164 574.24 Q18.7679 574.24 14.3437 578.823 Q9.88769 583.375 9.88769 593.21 L9.88769 600.976 M4.60416 607.405 L4.60416 594.196 Q4.60416 580.383 10.3651 573.921 Q16.0943 567.46 28.3164 567.46 Q40.6022 567.46 46.3632 573.953 Q52.1242 580.446 52.1242 594.196 L52.1242 607.405 L4.60416 607.405 Z\" fill=\"#000000\" fill-rule=\"evenodd\" fill-opacity=\"1\" /><path clip-path=\"url(#clip320)\" d=\"M16.4762 557.466 L16.4762 551.61 L52.1242 551.61 L52.1242 557.466 L16.4762 557.466 M2.59896 557.466 L2.59896 551.61 L10.015 551.61 L10.015 557.466 L2.59896 557.466 Z\" fill=\"#000000\" fill-rule=\"evenodd\" fill-opacity=\"1\" /><path clip-path=\"url(#clip320)\" d=\"M17.5265 516.63 L23.0647 516.63 Q21.7916 519.113 21.155 521.786 Q20.5184 524.46 20.5184 527.325 Q20.5184 531.685 21.8552 533.881 Q23.192 536.046 25.8656 536.046 Q27.9026 536.046 29.0803 534.486 Q30.2261 532.926 31.2765 528.216 L31.7221 526.211 Q33.0589 519.972 35.5097 517.362 Q37.9286 514.72 42.2891 514.72 Q47.2544 514.72 50.1508 518.667 Q53.0472 522.582 53.0472 529.457 Q53.0472 532.322 52.4743 535.441 Q51.9332 538.528 50.8192 541.966 L44.7718 541.966 Q46.4587 538.719 47.318 535.568 Q48.1456 532.417 48.1456 529.33 Q48.1456 525.192 46.7451 522.964 Q45.3129 520.736 42.7347 520.736 Q40.3476 520.736 39.0745 522.359 Q37.8013 523.951 36.6237 529.393 L36.1462 531.43 Q35.0004 536.873 32.6451 539.292 Q30.258 541.711 26.1202 541.711 Q21.0913 541.711 18.3541 538.146 Q15.6168 534.581 15.6168 528.025 Q15.6168 524.778 16.0943 521.914 Q16.5717 519.049 17.5265 516.63 Z\" fill=\"#000000\" fill-rule=\"evenodd\" fill-opacity=\"1\" /><path clip-path=\"url(#clip320)\" d=\"M6.35473 499.602 L16.4762 499.602 L16.4762 487.539 L21.0277 487.539 L21.0277 499.602 L40.3794 499.602 Q44.7399 499.602 45.9813 498.424 Q47.2226 497.215 47.2226 493.554 L47.2226 487.539 L52.1242 487.539 L52.1242 493.554 Q52.1242 500.334 49.6097 502.912 Q47.0634 505.49 40.3794 505.49 L21.0277 505.49 L21.0277 509.787 L16.4762 509.787 L16.4762 505.49 L6.35473 505.49 L6.35473 499.602 Z\" fill=\"#000000\" fill-rule=\"evenodd\" fill-opacity=\"1\" /><circle clip-path=\"url(#clip322)\" cx=\"368.315\" cy=\"913.457\" r=\"14\" fill=\"#009af9\" fill-rule=\"evenodd\" fill-opacity=\"1\" stroke=\"#000000\" stroke-opacity=\"1\" stroke-width=\"2.4\"/>\n",
       "<circle clip-path=\"url(#clip322)\" cx=\"630.691\" cy=\"896.752\" r=\"14\" fill=\"#009af9\" fill-rule=\"evenodd\" fill-opacity=\"1\" stroke=\"#000000\" stroke-opacity=\"1\" stroke-width=\"2.4\"/>\n",
       "<circle clip-path=\"url(#clip322)\" cx=\"630.691\" cy=\"746.41\" r=\"14\" fill=\"#009af9\" fill-rule=\"evenodd\" fill-opacity=\"1\" stroke=\"#000000\" stroke-opacity=\"1\" stroke-width=\"2.4\"/>\n",
       "<circle clip-path=\"url(#clip322)\" cx=\"980.527\" cy=\"788.172\" r=\"14\" fill=\"#009af9\" fill-rule=\"evenodd\" fill-opacity=\"1\" stroke=\"#000000\" stroke-opacity=\"1\" stroke-width=\"2.4\"/>\n",
       "<circle clip-path=\"url(#clip322)\" cx=\"1242.9\" cy=\"261.973\" r=\"14\" fill=\"#009af9\" fill-rule=\"evenodd\" fill-opacity=\"1\" stroke=\"#000000\" stroke-opacity=\"1\" stroke-width=\"2.4\"/>\n",
       "<circle clip-path=\"url(#clip322)\" cx=\"1330.36\" cy=\"763.114\" r=\"14\" fill=\"#009af9\" fill-rule=\"evenodd\" fill-opacity=\"1\" stroke=\"#000000\" stroke-opacity=\"1\" stroke-width=\"2.4\"/>\n",
       "<circle clip-path=\"url(#clip322)\" cx=\"1330.36\" cy=\"479.134\" r=\"14\" fill=\"#009af9\" fill-rule=\"evenodd\" fill-opacity=\"1\" stroke=\"#000000\" stroke-opacity=\"1\" stroke-width=\"2.4\"/>\n",
       "<circle clip-path=\"url(#clip322)\" cx=\"1417.82\" cy=\"596.067\" r=\"14\" fill=\"#009af9\" fill-rule=\"evenodd\" fill-opacity=\"1\" stroke=\"#000000\" stroke-opacity=\"1\" stroke-width=\"2.4\"/>\n",
       "<circle clip-path=\"url(#clip322)\" cx=\"1505.28\" cy=\"512.544\" r=\"14\" fill=\"#009af9\" fill-rule=\"evenodd\" fill-opacity=\"1\" stroke=\"#000000\" stroke-opacity=\"1\" stroke-width=\"2.4\"/>\n",
       "<circle clip-path=\"url(#clip322)\" cx=\"1680.2\" cy=\"629.477\" r=\"14\" fill=\"#009af9\" fill-rule=\"evenodd\" fill-opacity=\"1\" stroke=\"#000000\" stroke-opacity=\"1\" stroke-width=\"2.4\"/>\n",
       "<circle clip-path=\"url(#clip322)\" cx=\"2030.03\" cy=\"479.134\" r=\"14\" fill=\"#009af9\" fill-rule=\"evenodd\" fill-opacity=\"1\" stroke=\"#000000\" stroke-opacity=\"1\" stroke-width=\"2.4\"/>\n",
       "<circle clip-path=\"url(#clip322)\" cx=\"2117.49\" cy=\"345.496\" r=\"14\" fill=\"#009af9\" fill-rule=\"evenodd\" fill-opacity=\"1\" stroke=\"#000000\" stroke-opacity=\"1\" stroke-width=\"2.4\"/>\n",
       "<polyline clip-path=\"url(#clip322)\" style=\"stroke:#e26f46; stroke-linecap:butt; stroke-linejoin:round; stroke-width:8; stroke-opacity:1; fill:none\" points=\"\n",
       "  280.856,1019.39 368.315,983.043 455.774,946.701 543.232,910.359 630.691,874.017 718.15,837.675 805.609,801.333 893.068,764.991 980.527,728.649 1067.99,692.307 \n",
       "  1155.44,655.966 1242.9,619.624 1330.36,583.282 1417.82,546.94 1505.28,510.598 1592.74,474.256 1680.2,437.914 1767.66,401.572 1855.12,365.23 1942.57,328.888 \n",
       "  2030.03,292.546 2117.49,256.204 2204.95,219.862 2292.41,183.52 \n",
       "  \"/>\n",
       "<polyline clip-path=\"url(#clip322)\" style=\"stroke:#3da44d; stroke-linecap:butt; stroke-linejoin:round; stroke-width:8; stroke-opacity:1; fill:none\" points=\"\n",
       "  280.856,905.335 368.315,877.003 455.774,848.67 543.232,820.338 630.691,792.005 718.15,763.673 805.609,735.34 893.068,707.008 980.527,678.676 1067.99,650.343 \n",
       "  1155.44,622.011 1242.9,593.678 1330.36,565.346 1417.82,537.013 1505.28,508.681 1592.74,480.348 1680.2,452.016 1767.66,423.683 1855.12,395.351 1942.57,367.019 \n",
       "  2030.03,338.686 2117.49,310.354 2204.95,282.021 2292.41,253.689 \n",
       "  \"/>\n",
       "<polyline clip-path=\"url(#clip322)\" style=\"stroke:#c271d2; stroke-linecap:butt; stroke-linejoin:round; stroke-width:8; stroke-opacity:1; fill:none\" points=\"\n",
       "  280.856,983.185 368.315,950.527 455.774,931.526 543.232,915.805 630.691,846.593 718.15,856 805.609,745.77 893.068,745.013 980.527,715.178 1067.99,677.646 \n",
       "  1155.44,646.918 1242.9,643.774 1330.36,598.503 1417.82,536.486 1505.28,533.58 1592.74,514.105 1680.2,422.667 1767.66,417.854 1855.12,346.012 1942.57,311.291 \n",
       "  2030.03,288.067 2117.49,248.547 2204.95,238.016 2292.41,179.149 \n",
       "  \"/>\n",
       "<polyline clip-path=\"url(#clip322)\" style=\"stroke:#ac8d18; stroke-linecap:butt; stroke-linejoin:round; stroke-width:8; stroke-opacity:1; fill:none\" points=\"\n",
       "  280.856,899.958 368.315,873.156 455.774,803.713 543.232,820.113 630.691,776.591 718.15,734.539 805.609,760.599 893.068,725.022 980.527,668.375 1067.99,611.833 \n",
       "  1155.44,614.378 1242.9,572.958 1330.36,618.631 1417.82,546.524 1505.28,542.415 1592.74,483.256 1680.2,442.043 1767.66,442.827 1855.12,389.571 1942.57,371.698 \n",
       "  2030.03,333.891 2117.49,281.022 2204.95,309.524 2292.41,231.613 \n",
       "  \"/>\n",
       "<polyline clip-path=\"url(#clip322)\" style=\"stroke:#00a9ad; stroke-linecap:butt; stroke-linejoin:round; stroke-width:8; stroke-opacity:1; fill:none\" points=\"\n",
       "  280.856,891.555 368.315,869.813 455.774,848.07 543.232,826.328 630.691,804.585 718.15,782.842 805.609,761.1 893.068,739.357 980.527,717.615 1067.99,695.872 \n",
       "  1155.44,674.129 1242.9,652.387 1330.36,630.644 1417.82,608.901 1505.28,569.353 1592.74,514.487 1680.2,459.621 1767.66,404.755 1855.12,349.889 1942.57,295.023 \n",
       "  2030.03,240.157 2117.49,185.291 2204.95,130.425 2292.41,75.5589 \n",
       "  \"/>\n",
       "<path clip-path=\"url(#clip320)\" d=\"\n",
       "M1949.12 791.8 L2281.68 791.8 L2281.68 480.76 L1949.12 480.76  Z\n",
       "  \" fill=\"#ffffff\" fill-rule=\"evenodd\" fill-opacity=\"1\"/>\n",
       "<polyline clip-path=\"url(#clip320)\" style=\"stroke:#000000; stroke-linecap:butt; stroke-linejoin:round; stroke-width:4; stroke-opacity:1; fill:none\" points=\"\n",
       "  1949.12,791.8 2281.68,791.8 2281.68,480.76 1949.12,480.76 1949.12,791.8 \n",
       "  \"/>\n",
       "<polyline clip-path=\"url(#clip320)\" style=\"stroke:#e26f46; stroke-linecap:butt; stroke-linejoin:round; stroke-width:4; stroke-opacity:1; fill:none\" points=\"\n",
       "  1972.81,532.6 2114.96,532.6 \n",
       "  \"/>\n",
       "<path clip-path=\"url(#clip320)\" d=\"M2138.65 515.32 L2160.5 515.32 L2160.5 519.255 L2143.33 519.255 L2143.33 529.487 L2159.78 529.487 L2159.78 533.422 L2143.33 533.422 L2143.33 545.945 L2160.92 545.945 L2160.92 549.88 L2138.65 549.88 L2138.65 515.32 Z\" fill=\"#000000\" fill-rule=\"evenodd\" fill-opacity=\"1\" /><path clip-path=\"url(#clip320)\" d=\"M2184.99 533.676 Q2186.5 534.186 2187.91 535.852 Q2189.34 537.519 2190.78 540.436 L2195.52 549.88 L2190.5 549.88 L2186.08 541.014 Q2184.37 537.542 2182.75 536.408 Q2181.15 535.274 2178.37 535.274 L2173.28 535.274 L2173.28 549.88 L2168.6 549.88 L2168.6 515.32 L2179.16 515.32 Q2185.09 515.32 2188 517.797 Q2190.92 520.274 2190.92 525.274 Q2190.92 528.537 2189.39 530.69 Q2187.89 532.843 2184.99 533.676 M2173.28 519.163 L2173.28 531.431 L2179.16 531.431 Q2182.54 531.431 2184.25 529.88 Q2185.99 528.306 2185.99 525.274 Q2185.99 522.241 2184.25 520.713 Q2182.54 519.163 2179.16 519.163 L2173.28 519.163 Z\" fill=\"#000000\" fill-rule=\"evenodd\" fill-opacity=\"1\" /><path clip-path=\"url(#clip320)\" d=\"M2201.54 515.32 L2208.51 515.32 L2217.33 538.838 L2226.2 515.32 L2233.16 515.32 L2233.16 549.88 L2228.6 549.88 L2228.6 519.533 L2219.69 543.236 L2214.99 543.236 L2206.08 519.533 L2206.08 549.88 L2201.54 549.88 L2201.54 515.32 Z\" fill=\"#000000\" fill-rule=\"evenodd\" fill-opacity=\"1\" /><polyline clip-path=\"url(#clip320)\" style=\"stroke:#3da44d; stroke-linecap:butt; stroke-linejoin:round; stroke-width:4; stroke-opacity:1; fill:none\" points=\"\n",
       "  1972.81,584.44 2114.96,584.44 \n",
       "  \"/>\n",
       "<path clip-path=\"url(#clip320)\" d=\"M2155.04 585.516 Q2156.54 586.026 2157.96 587.692 Q2159.39 589.359 2160.83 592.276 L2165.57 601.72 L2160.55 601.72 L2156.13 592.854 Q2154.41 589.382 2152.79 588.248 Q2151.2 587.114 2148.42 587.114 L2143.33 587.114 L2143.33 601.72 L2138.65 601.72 L2138.65 567.16 L2149.21 567.16 Q2155.13 567.16 2158.05 569.637 Q2160.96 572.114 2160.96 577.114 Q2160.96 580.377 2159.44 582.53 Q2157.93 584.683 2155.04 585.516 M2143.33 571.003 L2143.33 583.271 L2149.21 583.271 Q2152.59 583.271 2154.3 581.72 Q2156.03 580.146 2156.03 577.114 Q2156.03 574.081 2154.3 572.553 Q2152.59 571.003 2149.21 571.003 L2143.33 571.003 Z\" fill=\"#000000\" fill-rule=\"evenodd\" fill-opacity=\"1\" /><path clip-path=\"url(#clip320)\" d=\"M2187.98 585.516 Q2189.48 586.026 2190.9 587.692 Q2192.33 589.359 2193.77 592.276 L2198.51 601.72 L2193.49 601.72 L2189.07 592.854 Q2187.35 589.382 2185.73 588.248 Q2184.14 587.114 2181.36 587.114 L2176.27 587.114 L2176.27 601.72 L2171.59 601.72 L2171.59 567.16 L2182.15 567.16 Q2188.07 567.16 2190.99 569.637 Q2193.9 572.114 2193.9 577.114 Q2193.9 580.377 2192.38 582.53 Q2190.87 584.683 2187.98 585.516 M2176.27 571.003 L2176.27 583.271 L2182.15 583.271 Q2185.52 583.271 2187.24 581.72 Q2188.97 580.146 2188.97 577.114 Q2188.97 574.081 2187.24 572.553 Q2185.52 571.003 2182.15 571.003 L2176.27 571.003 Z\" fill=\"#000000\" fill-rule=\"evenodd\" fill-opacity=\"1\" /><polyline clip-path=\"url(#clip320)\" style=\"stroke:#c271d2; stroke-linecap:butt; stroke-linejoin:round; stroke-width:4; stroke-opacity:1; fill:none\" points=\"\n",
       "  1972.81,636.28 2114.96,636.28 \n",
       "  \"/>\n",
       "<path clip-path=\"url(#clip320)\" d=\"M2138.65 619 L2145.62 619 L2154.44 642.518 L2163.3 619 L2170.27 619 L2170.27 653.56 L2165.71 653.56 L2165.71 623.213 L2156.8 646.916 L2152.1 646.916 L2143.19 623.213 L2143.19 653.56 L2138.65 653.56 L2138.65 619 Z\" fill=\"#000000\" fill-rule=\"evenodd\" fill-opacity=\"1\" /><path clip-path=\"url(#clip320)\" d=\"M2179.55 619 L2184.23 619 L2184.23 649.625 L2201.06 649.625 L2201.06 653.56 L2179.55 653.56 L2179.55 619 Z\" fill=\"#000000\" fill-rule=\"evenodd\" fill-opacity=\"1\" /><polyline clip-path=\"url(#clip320)\" style=\"stroke:#ac8d18; stroke-linecap:butt; stroke-linejoin:round; stroke-width:4; stroke-opacity:1; fill:none\" points=\"\n",
       "  1972.81,688.12 2114.96,688.12 \n",
       "  \"/>\n",
       "<path clip-path=\"url(#clip320)\" d=\"M2138.65 670.84 L2145.62 670.84 L2154.44 694.358 L2163.3 670.84 L2170.27 670.84 L2170.27 705.4 L2165.71 705.4 L2165.71 675.053 L2156.8 698.756 L2152.1 698.756 L2143.19 675.053 L2143.19 705.4 L2138.65 705.4 L2138.65 670.84 Z\" fill=\"#000000\" fill-rule=\"evenodd\" fill-opacity=\"1\" /><path clip-path=\"url(#clip320)\" d=\"M2191.1 675.446 L2184.76 692.645 L2197.47 692.645 L2191.1 675.446 M2188.46 670.84 L2193.77 670.84 L2206.94 705.4 L2202.08 705.4 L2198.93 696.534 L2183.35 696.534 L2180.2 705.4 L2175.27 705.4 L2188.46 670.84 Z\" fill=\"#000000\" fill-rule=\"evenodd\" fill-opacity=\"1\" /><path clip-path=\"url(#clip320)\" d=\"M2216.66 674.683 L2216.66 687.669 L2222.54 687.669 Q2225.8 687.669 2227.58 685.979 Q2229.37 684.289 2229.37 681.164 Q2229.37 678.062 2227.58 676.372 Q2225.8 674.683 2222.54 674.683 L2216.66 674.683 M2211.98 670.84 L2222.54 670.84 Q2228.35 670.84 2231.31 673.479 Q2234.3 676.095 2234.3 681.164 Q2234.3 686.28 2231.31 688.895 Q2228.35 691.511 2222.54 691.511 L2216.66 691.511 L2216.66 705.4 L2211.98 705.4 L2211.98 670.84 Z\" fill=\"#000000\" fill-rule=\"evenodd\" fill-opacity=\"1\" /><polyline clip-path=\"url(#clip320)\" style=\"stroke:#00a9ad; stroke-linecap:butt; stroke-linejoin:round; stroke-width:4; stroke-opacity:1; fill:none\" points=\"\n",
       "  1972.81,739.96 2114.96,739.96 \n",
       "  \"/>\n",
       "<path clip-path=\"url(#clip320)\" d=\"M2138.65 722.68 L2144.95 722.68 L2160.27 751.592 L2160.27 722.68 L2164.81 722.68 L2164.81 757.24 L2158.51 757.24 L2143.19 728.328 L2143.19 757.24 L2138.65 757.24 L2138.65 722.68 Z\" fill=\"#000000\" fill-rule=\"evenodd\" fill-opacity=\"1\" /><path clip-path=\"url(#clip320)\" d=\"M2174.11 722.68 L2180.41 722.68 L2195.73 751.592 L2195.73 722.68 L2200.27 722.68 L2200.27 757.24 L2193.97 757.24 L2178.65 728.328 L2178.65 757.24 L2174.11 757.24 L2174.11 722.68 Z\" fill=\"#000000\" fill-rule=\"evenodd\" fill-opacity=\"1\" /></svg>\n"
      ]
     },
     "execution_count": 153,
     "metadata": {},
     "output_type": "execute_result"
    }
   ],
   "source": [
    "scatter(X_test,Y_test, legend=1,\n",
    "            label = false,\n",
    "            xlabel = \"Speed\",\n",
    "            ylabel = \"Dist\",\n",
    "            size = (600,300))\n",
    "plot!(p, f(p, θ_ERM), lw = 2, label = \"ERM\")\n",
    "plot!(p, f(p, θ_RR), lw = 2, label = \"RR\")\n",
    "plot!(p, Φ(p, θ_ML), lw = 2, label = \"ML\")\n",
    "plot!(p, Φ(p, θ_MAP), lw = 2, label = \"MAP\")\n",
    "plot!(p, f_NN(p, θ_NN), lw = 2, label = \"NN\")"
   ]
  },
  {
   "cell_type": "markdown",
   "metadata": {},
   "source": [
    "Um zu beurteilen, welches Modell wie gut funktioniert, definieren wir das empirische Risiko."
   ]
  },
  {
   "cell_type": "code",
   "execution_count": 154,
   "metadata": {},
   "outputs": [
    {
     "data": {
      "text/plain": [
       "R (generic function with 1 method)"
      ]
     },
     "execution_count": 154,
     "metadata": {},
     "output_type": "execute_result"
    }
   ],
   "source": [
    "R(θ, f, X, Y) = mean((f(X, θ) - Y).^2)"
   ]
  },
  {
   "cell_type": "markdown",
   "metadata": {},
   "source": [
    "Das empirische Risiko für Trainings- und Testdaten im deterministischen linearen Modell ist wie folgt."
   ]
  },
  {
   "cell_type": "code",
   "execution_count": 155,
   "metadata": {},
   "outputs": [
    {
     "name": "stdout",
     "output_type": "stream",
     "text": [
      "Risiko Testdaten ERM: 332.30640034322425\n",
      "\n",
      "Risiko Trainingsdaten ERM: 200.26963132150703\n",
      "\n",
      "ERM Risikoverhältnis: 1.6592950121815986\n",
      "\n",
      "Risiko Testdaten RR: 285.3725545807998\n",
      "\n",
      "Risiko Trainingsdaten RR: 224.73914069625516\n",
      "\n",
      "RR Risikoverhältnis: 1.2697946325535405\n",
      "\n"
     ]
    }
   ],
   "source": [
    "r = [(R(θ, f, X_test, Y_test), R(θ, f, X, Y)) for θ in [θ_ERM, θ_RR]]   \n",
    "println(\"Risiko Testdaten ERM: $(r[1][1])\\n\")\n",
    "println(\"Risiko Trainingsdaten ERM: $(r[1][2])\\n\")\n",
    "println(\"ERM Risikoverhältnis: $(r[1][1]/r[1][2])\\n\")\n",
    "println(\"Risiko Testdaten RR: $(r[2][1])\\n\")\n",
    "println(\"Risiko Trainingsdaten RR: $(r[2][2])\\n\")\n",
    "println(\"RR Risikoverhältnis: $(r[2][1]/r[2][2])\\n\")"
   ]
  },
  {
   "cell_type": "markdown",
   "metadata": {},
   "source": [
    "Für das neuronale Netz ergeben sich folgende Werte."
   ]
  },
  {
   "cell_type": "code",
   "execution_count": 156,
   "metadata": {},
   "outputs": [
    {
     "name": "stdout",
     "output_type": "stream",
     "text": [
      "Risiko Testdaten NN: 390.2649963109238\n",
      "\n",
      "Risiko Trainingsdaten NN: 174.3110442832809\n",
      "\n",
      "NN Risikoverhältnis: 2.238899995783894\n",
      "\n"
     ]
    }
   ],
   "source": [
    "r = (R(θ_NN, f_NN, X_test, Y_test), R(θ_NN, f_NN, X, Y))\n",
    "println(\"Risiko Testdaten NN: $(r[1])\\n\")\n",
    "println(\"Risiko Trainingsdaten NN: $(r[2])\\n\")\n",
    "println(\"NN Risikoverhältnis: $(r[1]/r[2])\\n\")"
   ]
  },
  {
   "cell_type": "markdown",
   "metadata": {},
   "source": [
    "---\n",
    "# Regularisierung\n",
    "\n",
    "In obigem Beispiel sehen wir keinen großen Unterschied zwischen ERM und RR. \n",
    "\n",
    "Es folgt ein Beispiel, für das Regularisierung wichtig ist.\n",
    "\n",
    "Dazu generieren wir $n=20$ synthetische Daten von einem kubischen Polynom plus Noise:"
   ]
  },
  {
   "cell_type": "code",
   "execution_count": 32,
   "metadata": {},
   "outputs": [],
   "source": [
    "q = (x -> 1 + 4*x + 2*x^2 - 0.5*x^3)\n",
    "\n",
    "n = 20\n",
    "P = 4\n",
    "X = 10 .* (rand(n) .- 0.5); # randn sampled von Unif([-5,5])\n",
    "Y = map(q, X) + 5 .* randn(n);"
   ]
  },
  {
   "cell_type": "markdown",
   "metadata": {},
   "source": [
    "Wir plotten die Daten:"
   ]
  },
  {
   "cell_type": "code",
   "execution_count": 33,
   "metadata": {},
   "outputs": [
    {
     "data": {
      "image/svg+xml": [
       "<?xml version=\"1.0\" encoding=\"utf-8\"?>\n",
       "<svg xmlns=\"http://www.w3.org/2000/svg\" xmlns:xlink=\"http://www.w3.org/1999/xlink\" width=\"600\" height=\"300\" viewBox=\"0 0 2400 1200\">\n",
       "<defs>\n",
       "  <clipPath id=\"clip480\">\n",
       "    <rect x=\"0\" y=\"0\" width=\"2400\" height=\"1200\"/>\n",
       "  </clipPath>\n",
       "</defs>\n",
       "<path clip-path=\"url(#clip480)\" d=\"\n",
       "M0 1200 L2400 1200 L2400 0 L0 0  Z\n",
       "  \" fill=\"#ffffff\" fill-rule=\"evenodd\" fill-opacity=\"1\"/>\n",
       "<defs>\n",
       "  <clipPath id=\"clip481\">\n",
       "    <rect x=\"480\" y=\"0\" width=\"1681\" height=\"1200\"/>\n",
       "  </clipPath>\n",
       "</defs>\n",
       "<path clip-path=\"url(#clip480)\" d=\"\n",
       "M141.853 1099.09 L2352.76 1099.09 L2352.76 47.2441 L141.853 47.2441  Z\n",
       "  \" fill=\"#ffffff\" fill-rule=\"evenodd\" fill-opacity=\"1\"/>\n",
       "<defs>\n",
       "  <clipPath id=\"clip482\">\n",
       "    <rect x=\"141\" y=\"47\" width=\"2212\" height=\"1053\"/>\n",
       "  </clipPath>\n",
       "</defs>\n",
       "<polyline clip-path=\"url(#clip482)\" style=\"stroke:#000000; stroke-linecap:butt; stroke-linejoin:round; stroke-width:2; stroke-opacity:0.1; fill:none\" points=\"\n",
       "  413.001,1099.09 413.001,47.2441 \n",
       "  \"/>\n",
       "<polyline clip-path=\"url(#clip482)\" style=\"stroke:#000000; stroke-linecap:butt; stroke-linejoin:round; stroke-width:2; stroke-opacity:0.1; fill:none\" points=\"\n",
       "  830.153,1099.09 830.153,47.2441 \n",
       "  \"/>\n",
       "<polyline clip-path=\"url(#clip482)\" style=\"stroke:#000000; stroke-linecap:butt; stroke-linejoin:round; stroke-width:2; stroke-opacity:0.1; fill:none\" points=\"\n",
       "  1247.3,1099.09 1247.3,47.2441 \n",
       "  \"/>\n",
       "<polyline clip-path=\"url(#clip482)\" style=\"stroke:#000000; stroke-linecap:butt; stroke-linejoin:round; stroke-width:2; stroke-opacity:0.1; fill:none\" points=\"\n",
       "  1664.46,1099.09 1664.46,47.2441 \n",
       "  \"/>\n",
       "<polyline clip-path=\"url(#clip482)\" style=\"stroke:#000000; stroke-linecap:butt; stroke-linejoin:round; stroke-width:2; stroke-opacity:0.1; fill:none\" points=\"\n",
       "  2081.61,1099.09 2081.61,47.2441 \n",
       "  \"/>\n",
       "<polyline clip-path=\"url(#clip480)\" style=\"stroke:#000000; stroke-linecap:butt; stroke-linejoin:round; stroke-width:4; stroke-opacity:1; fill:none\" points=\"\n",
       "  141.853,1099.09 2352.76,1099.09 \n",
       "  \"/>\n",
       "<polyline clip-path=\"url(#clip480)\" style=\"stroke:#000000; stroke-linecap:butt; stroke-linejoin:round; stroke-width:4; stroke-opacity:1; fill:none\" points=\"\n",
       "  413.001,1099.09 413.001,1080.19 \n",
       "  \"/>\n",
       "<polyline clip-path=\"url(#clip480)\" style=\"stroke:#000000; stroke-linecap:butt; stroke-linejoin:round; stroke-width:4; stroke-opacity:1; fill:none\" points=\"\n",
       "  830.153,1099.09 830.153,1080.19 \n",
       "  \"/>\n",
       "<polyline clip-path=\"url(#clip480)\" style=\"stroke:#000000; stroke-linecap:butt; stroke-linejoin:round; stroke-width:4; stroke-opacity:1; fill:none\" points=\"\n",
       "  1247.3,1099.09 1247.3,1080.19 \n",
       "  \"/>\n",
       "<polyline clip-path=\"url(#clip480)\" style=\"stroke:#000000; stroke-linecap:butt; stroke-linejoin:round; stroke-width:4; stroke-opacity:1; fill:none\" points=\"\n",
       "  1664.46,1099.09 1664.46,1080.19 \n",
       "  \"/>\n",
       "<polyline clip-path=\"url(#clip480)\" style=\"stroke:#000000; stroke-linecap:butt; stroke-linejoin:round; stroke-width:4; stroke-opacity:1; fill:none\" points=\"\n",
       "  2081.61,1099.09 2081.61,1080.19 \n",
       "  \"/>\n",
       "<path clip-path=\"url(#clip480)\" d=\"M381.902 1144.66 L411.578 1144.66 L411.578 1148.59 L381.902 1148.59 L381.902 1144.66 Z\" fill=\"#000000\" fill-rule=\"evenodd\" fill-opacity=\"1\" /><path clip-path=\"url(#clip480)\" d=\"M434.518 1131 L422.712 1149.45 L434.518 1149.45 L434.518 1131 M433.291 1126.93 L439.17 1126.93 L439.17 1149.45 L444.101 1149.45 L444.101 1153.34 L439.17 1153.34 L439.17 1161.49 L434.518 1161.49 L434.518 1153.34 L418.916 1153.34 L418.916 1148.83 L433.291 1126.93 Z\" fill=\"#000000\" fill-rule=\"evenodd\" fill-opacity=\"1\" /><path clip-path=\"url(#clip480)\" d=\"M800.095 1144.66 L829.771 1144.66 L829.771 1148.59 L800.095 1148.59 L800.095 1144.66 Z\" fill=\"#000000\" fill-rule=\"evenodd\" fill-opacity=\"1\" /><path clip-path=\"url(#clip480)\" d=\"M843.891 1157.55 L860.211 1157.55 L860.211 1161.49 L838.266 1161.49 L838.266 1157.55 Q840.928 1154.8 845.512 1150.17 Q850.118 1145.52 851.299 1144.17 Q853.544 1141.65 854.424 1139.91 Q855.326 1138.15 855.326 1136.46 Q855.326 1133.71 853.382 1131.97 Q851.461 1130.24 848.359 1130.24 Q846.16 1130.24 843.706 1131 Q841.276 1131.77 838.498 1133.32 L838.498 1128.59 Q841.322 1127.46 843.776 1126.88 Q846.229 1126.3 848.266 1126.3 Q853.637 1126.3 856.831 1128.99 Q860.025 1131.67 860.025 1136.16 Q860.025 1138.29 859.215 1140.21 Q858.428 1142.11 856.322 1144.71 Q855.743 1145.38 852.641 1148.59 Q849.539 1151.79 843.891 1157.55 Z\" fill=\"#000000\" fill-rule=\"evenodd\" fill-opacity=\"1\" /><path clip-path=\"url(#clip480)\" d=\"M1247.3 1130.01 Q1243.69 1130.01 1241.86 1133.57 Q1240.06 1137.11 1240.06 1144.24 Q1240.06 1151.35 1241.86 1154.91 Q1243.69 1158.46 1247.3 1158.46 Q1250.94 1158.46 1252.74 1154.91 Q1254.57 1151.35 1254.57 1144.24 Q1254.57 1137.11 1252.74 1133.57 Q1250.94 1130.01 1247.3 1130.01 M1247.3 1126.3 Q1253.11 1126.3 1256.17 1130.91 Q1259.25 1135.49 1259.25 1144.24 Q1259.25 1152.97 1256.17 1157.58 Q1253.11 1162.16 1247.3 1162.16 Q1241.49 1162.16 1238.42 1157.58 Q1235.36 1152.97 1235.36 1144.24 Q1235.36 1135.49 1238.42 1130.91 Q1241.49 1126.3 1247.3 1126.3 Z\" fill=\"#000000\" fill-rule=\"evenodd\" fill-opacity=\"1\" /><path clip-path=\"url(#clip480)\" d=\"M1659.11 1157.55 L1675.43 1157.55 L1675.43 1161.49 L1653.48 1161.49 L1653.48 1157.55 Q1656.15 1154.8 1660.73 1150.17 Q1665.34 1145.52 1666.52 1144.17 Q1668.76 1141.65 1669.64 1139.91 Q1670.54 1138.15 1670.54 1136.46 Q1670.54 1133.71 1668.6 1131.97 Q1666.68 1130.24 1663.58 1130.24 Q1661.38 1130.24 1658.92 1131 Q1656.49 1131.77 1653.72 1133.32 L1653.72 1128.59 Q1656.54 1127.46 1658.99 1126.88 Q1661.45 1126.3 1663.48 1126.3 Q1668.85 1126.3 1672.05 1128.99 Q1675.24 1131.67 1675.24 1136.16 Q1675.24 1138.29 1674.43 1140.21 Q1673.65 1142.11 1671.54 1144.71 Q1670.96 1145.38 1667.86 1148.59 Q1664.76 1151.79 1659.11 1157.55 Z\" fill=\"#000000\" fill-rule=\"evenodd\" fill-opacity=\"1\" /><path clip-path=\"url(#clip480)\" d=\"M2084.62 1131 L2072.81 1149.45 L2084.62 1149.45 L2084.62 1131 M2083.39 1126.93 L2089.27 1126.93 L2089.27 1149.45 L2094.2 1149.45 L2094.2 1153.34 L2089.27 1153.34 L2089.27 1161.49 L2084.62 1161.49 L2084.62 1153.34 L2069.01 1153.34 L2069.01 1148.83 L2083.39 1126.93 Z\" fill=\"#000000\" fill-rule=\"evenodd\" fill-opacity=\"1\" /><polyline clip-path=\"url(#clip482)\" style=\"stroke:#000000; stroke-linecap:butt; stroke-linejoin:round; stroke-width:2; stroke-opacity:0.1; fill:none\" points=\"\n",
       "  141.853,1015.99 2352.76,1015.99 \n",
       "  \"/>\n",
       "<polyline clip-path=\"url(#clip482)\" style=\"stroke:#000000; stroke-linecap:butt; stroke-linejoin:round; stroke-width:2; stroke-opacity:0.1; fill:none\" points=\"\n",
       "  141.853,815.137 2352.76,815.137 \n",
       "  \"/>\n",
       "<polyline clip-path=\"url(#clip482)\" style=\"stroke:#000000; stroke-linecap:butt; stroke-linejoin:round; stroke-width:2; stroke-opacity:0.1; fill:none\" points=\"\n",
       "  141.853,614.287 2352.76,614.287 \n",
       "  \"/>\n",
       "<polyline clip-path=\"url(#clip482)\" style=\"stroke:#000000; stroke-linecap:butt; stroke-linejoin:round; stroke-width:2; stroke-opacity:0.1; fill:none\" points=\"\n",
       "  141.853,413.437 2352.76,413.437 \n",
       "  \"/>\n",
       "<polyline clip-path=\"url(#clip482)\" style=\"stroke:#000000; stroke-linecap:butt; stroke-linejoin:round; stroke-width:2; stroke-opacity:0.1; fill:none\" points=\"\n",
       "  141.853,212.587 2352.76,212.587 \n",
       "  \"/>\n",
       "<polyline clip-path=\"url(#clip480)\" style=\"stroke:#000000; stroke-linecap:butt; stroke-linejoin:round; stroke-width:4; stroke-opacity:1; fill:none\" points=\"\n",
       "  141.853,1099.09 141.853,47.2441 \n",
       "  \"/>\n",
       "<polyline clip-path=\"url(#clip480)\" style=\"stroke:#000000; stroke-linecap:butt; stroke-linejoin:round; stroke-width:4; stroke-opacity:1; fill:none\" points=\"\n",
       "  141.853,1015.99 160.751,1015.99 \n",
       "  \"/>\n",
       "<polyline clip-path=\"url(#clip480)\" style=\"stroke:#000000; stroke-linecap:butt; stroke-linejoin:round; stroke-width:4; stroke-opacity:1; fill:none\" points=\"\n",
       "  141.853,815.137 160.751,815.137 \n",
       "  \"/>\n",
       "<polyline clip-path=\"url(#clip480)\" style=\"stroke:#000000; stroke-linecap:butt; stroke-linejoin:round; stroke-width:4; stroke-opacity:1; fill:none\" points=\"\n",
       "  141.853,614.287 160.751,614.287 \n",
       "  \"/>\n",
       "<polyline clip-path=\"url(#clip480)\" style=\"stroke:#000000; stroke-linecap:butt; stroke-linejoin:round; stroke-width:4; stroke-opacity:1; fill:none\" points=\"\n",
       "  141.853,413.437 160.751,413.437 \n",
       "  \"/>\n",
       "<polyline clip-path=\"url(#clip480)\" style=\"stroke:#000000; stroke-linecap:butt; stroke-linejoin:round; stroke-width:4; stroke-opacity:1; fill:none\" points=\"\n",
       "  141.853,212.587 160.751,212.587 \n",
       "  \"/>\n",
       "<path clip-path=\"url(#clip480)\" d=\"M93.9086 1001.79 Q90.2975 1001.79 88.4688 1005.35 Q86.6632 1008.89 86.6632 1016.02 Q86.6632 1023.13 88.4688 1026.69 Q90.2975 1030.23 93.9086 1030.23 Q97.5428 1030.23 99.3483 1026.69 Q101.177 1023.13 101.177 1016.02 Q101.177 1008.89 99.3483 1005.35 Q97.5428 1001.79 93.9086 1001.79 M93.9086 998.082 Q99.7187 998.082 102.774 1002.69 Q105.853 1007.27 105.853 1016.02 Q105.853 1024.75 102.774 1029.35 Q99.7187 1033.94 93.9086 1033.94 Q88.0984 1033.94 85.0197 1029.35 Q81.9642 1024.75 81.9642 1016.02 Q81.9642 1007.27 85.0197 1002.69 Q88.0984 998.082 93.9086 998.082 Z\" fill=\"#000000\" fill-rule=\"evenodd\" fill-opacity=\"1\" /><path clip-path=\"url(#clip480)\" d=\"M57.7745 828.482 L74.0939 828.482 L74.0939 832.417 L52.1495 832.417 L52.1495 828.482 Q54.8115 825.727 59.3949 821.097 Q64.0013 816.445 65.1819 815.102 Q67.4272 812.579 68.3068 810.843 Q69.2096 809.084 69.2096 807.394 Q69.2096 804.639 67.2652 802.903 Q65.3439 801.167 62.2421 801.167 Q60.043 801.167 57.5893 801.931 Q55.1588 802.695 52.381 804.246 L52.381 799.524 Q55.2051 798.389 57.6588 797.811 Q60.1124 797.232 62.1495 797.232 Q67.5198 797.232 70.7142 799.917 Q73.9087 802.602 73.9087 807.093 Q73.9087 809.223 73.0985 811.144 Q72.3115 813.042 70.205 815.635 Q69.6263 816.306 66.5245 819.523 Q63.4226 822.718 57.7745 828.482 Z\" fill=\"#000000\" fill-rule=\"evenodd\" fill-opacity=\"1\" /><path clip-path=\"url(#clip480)\" d=\"M93.9086 800.936 Q90.2975 800.936 88.4688 804.5 Q86.6632 808.042 86.6632 815.172 Q86.6632 822.278 88.4688 825.843 Q90.2975 829.384 93.9086 829.384 Q97.5428 829.384 99.3483 825.843 Q101.177 822.278 101.177 815.172 Q101.177 808.042 99.3483 804.5 Q97.5428 800.936 93.9086 800.936 M93.9086 797.232 Q99.7187 797.232 102.774 801.838 Q105.853 806.422 105.853 815.172 Q105.853 823.898 102.774 828.505 Q99.7187 833.088 93.9086 833.088 Q88.0984 833.088 85.0197 828.505 Q81.9642 823.898 81.9642 815.172 Q81.9642 806.422 85.0197 801.838 Q88.0984 797.232 93.9086 797.232 Z\" fill=\"#000000\" fill-rule=\"evenodd\" fill-opacity=\"1\" /><path clip-path=\"url(#clip480)\" d=\"M66.5939 601.081 L54.7884 619.53 L66.5939 619.53 L66.5939 601.081 M65.367 597.007 L71.2466 597.007 L71.2466 619.53 L76.1772 619.53 L76.1772 623.419 L71.2466 623.419 L71.2466 631.567 L66.5939 631.567 L66.5939 623.419 L50.9921 623.419 L50.9921 618.905 L65.367 597.007 Z\" fill=\"#000000\" fill-rule=\"evenodd\" fill-opacity=\"1\" /><path clip-path=\"url(#clip480)\" d=\"M93.9086 600.086 Q90.2975 600.086 88.4688 603.65 Q86.6632 607.192 86.6632 614.322 Q86.6632 621.428 88.4688 624.993 Q90.2975 628.535 93.9086 628.535 Q97.5428 628.535 99.3483 624.993 Q101.177 621.428 101.177 614.322 Q101.177 607.192 99.3483 603.65 Q97.5428 600.086 93.9086 600.086 M93.9086 596.382 Q99.7187 596.382 102.774 600.988 Q105.853 605.572 105.853 614.322 Q105.853 623.048 102.774 627.655 Q99.7187 632.238 93.9086 632.238 Q88.0984 632.238 85.0197 627.655 Q81.9642 623.048 81.9642 614.322 Q81.9642 605.572 85.0197 600.988 Q88.0984 596.382 93.9086 596.382 Z\" fill=\"#000000\" fill-rule=\"evenodd\" fill-opacity=\"1\" /><path clip-path=\"url(#clip480)\" d=\"M64.3254 411.574 Q61.1773 411.574 59.3254 413.726 Q57.4967 415.879 57.4967 419.629 Q57.4967 423.356 59.3254 425.532 Q61.1773 427.685 64.3254 427.685 Q67.4735 427.685 69.3022 425.532 Q71.1541 423.356 71.1541 419.629 Q71.1541 415.879 69.3022 413.726 Q67.4735 411.574 64.3254 411.574 M73.6077 396.921 L73.6077 401.18 Q71.8485 400.347 70.0429 399.907 Q68.2606 399.467 66.5013 399.467 Q61.8717 399.467 59.418 402.592 Q56.9875 405.717 56.6402 412.036 Q58.006 410.023 60.0662 408.958 Q62.1263 407.87 64.6032 407.87 Q69.8115 407.87 72.8207 411.041 Q75.8531 414.189 75.8531 419.629 Q75.8531 424.953 72.705 428.171 Q69.5568 431.388 64.3254 431.388 Q58.33 431.388 55.1588 426.805 Q51.9875 422.198 51.9875 413.472 Q51.9875 405.277 55.8764 400.416 Q59.7652 395.532 66.3161 395.532 Q68.0754 395.532 69.8578 395.879 Q71.6633 396.226 73.6077 396.921 Z\" fill=\"#000000\" fill-rule=\"evenodd\" fill-opacity=\"1\" /><path clip-path=\"url(#clip480)\" d=\"M93.9086 399.236 Q90.2975 399.236 88.4688 402.8 Q86.6632 406.342 86.6632 413.472 Q86.6632 420.578 88.4688 424.143 Q90.2975 427.685 93.9086 427.685 Q97.5428 427.685 99.3483 424.143 Q101.177 420.578 101.177 413.472 Q101.177 406.342 99.3483 402.8 Q97.5428 399.236 93.9086 399.236 M93.9086 395.532 Q99.7187 395.532 102.774 400.138 Q105.853 404.722 105.853 413.472 Q105.853 422.198 102.774 426.805 Q99.7187 431.388 93.9086 431.388 Q88.0984 431.388 85.0197 426.805 Q81.9642 422.198 81.9642 413.472 Q81.9642 404.722 85.0197 400.138 Q88.0984 395.532 93.9086 395.532 Z\" fill=\"#000000\" fill-rule=\"evenodd\" fill-opacity=\"1\" /><path clip-path=\"url(#clip480)\" d=\"M63.7467 213.455 Q60.4134 213.455 58.4921 215.237 Q56.5939 217.02 56.5939 220.145 Q56.5939 223.27 58.4921 225.052 Q60.4134 226.835 63.7467 226.835 Q67.08 226.835 69.0013 225.052 Q70.9226 223.247 70.9226 220.145 Q70.9226 217.02 69.0013 215.237 Q67.1032 213.455 63.7467 213.455 M59.0708 211.464 Q56.0615 210.724 54.3717 208.663 Q52.7051 206.603 52.7051 203.64 Q52.7051 199.497 55.6449 197.089 Q58.6078 194.682 63.7467 194.682 Q68.9087 194.682 71.8485 197.089 Q74.7883 199.497 74.7883 203.64 Q74.7883 206.603 73.0985 208.663 Q71.4318 210.724 68.4457 211.464 Q71.8253 212.251 73.7003 214.543 Q75.5985 216.835 75.5985 220.145 Q75.5985 225.168 72.5198 227.853 Q69.4642 230.538 63.7467 230.538 Q58.0291 230.538 54.9504 227.853 Q51.8949 225.168 51.8949 220.145 Q51.8949 216.835 53.793 214.543 Q55.6912 212.251 59.0708 211.464 M57.3578 204.08 Q57.3578 206.765 59.0245 208.27 Q60.7143 209.774 63.7467 209.774 Q66.7559 209.774 68.4457 208.27 Q70.1587 206.765 70.1587 204.08 Q70.1587 201.395 68.4457 199.89 Q66.7559 198.386 63.7467 198.386 Q60.7143 198.386 59.0245 199.89 Q57.3578 201.395 57.3578 204.08 Z\" fill=\"#000000\" fill-rule=\"evenodd\" fill-opacity=\"1\" /><path clip-path=\"url(#clip480)\" d=\"M93.9086 198.386 Q90.2975 198.386 88.4688 201.95 Q86.6632 205.492 86.6632 212.622 Q86.6632 219.728 88.4688 223.293 Q90.2975 226.835 93.9086 226.835 Q97.5428 226.835 99.3483 223.293 Q101.177 219.728 101.177 212.622 Q101.177 205.492 99.3483 201.95 Q97.5428 198.386 93.9086 198.386 M93.9086 194.682 Q99.7187 194.682 102.774 199.288 Q105.853 203.872 105.853 212.622 Q105.853 221.349 102.774 225.955 Q99.7187 230.538 93.9086 230.538 Q88.0984 230.538 85.0197 225.955 Q81.9642 221.349 81.9642 212.622 Q81.9642 203.872 85.0197 199.288 Q88.0984 194.682 93.9086 194.682 Z\" fill=\"#000000\" fill-rule=\"evenodd\" fill-opacity=\"1\" /><polyline clip-path=\"url(#clip482)\" style=\"stroke:#4682b4; stroke-linecap:butt; stroke-linejoin:round; stroke-width:4; stroke-opacity:1; fill:none\" stroke-dasharray=\"16, 10\" points=\"\n",
       "  204.426,77.0133 207.821,85.7329 211.215,94.4021 214.61,103.021 218.005,111.59 233.7,150.557 249.395,188.467 265.091,225.334 280.786,261.17 296.481,295.988 \n",
       "  312.176,329.801 327.871,362.621 343.566,394.462 362.431,431.454 381.295,467.073 400.159,501.339 419.024,534.276 434.973,561.103 450.923,587.009 466.872,612.007 \n",
       "  482.822,636.111 500.147,661.298 517.473,685.463 534.799,708.623 552.124,730.796 568.097,750.378 584.07,769.148 600.042,787.122 616.015,804.311 633.139,821.885 \n",
       "  650.264,838.59 667.388,854.443 684.513,869.46 704.353,885.837 724.193,901.14 744.034,915.396 763.874,928.631 781.506,939.557 799.138,949.714 816.769,959.122 \n",
       "  834.401,967.799 865.324,981.305 896.247,992.715 929.961,1002.88 963.675,1010.8 997.59,1016.63 1031.5,1020.44 1069,1022.47 1106.5,1022.36 1142.18,1020.45 \n",
       "  1177.85,1016.91 1214.95,1011.67 1252.05,1005.02 1283.27,998.445 1314.5,991.086 1390.75,970.451 1460.6,949.231 1525.11,928.675 1590.46,907.851 1663.7,885.654 \n",
       "  1730.06,867.632 1768.05,858.6 1806.04,850.73 1841.22,844.639 1876.4,839.845 1911.08,836.53 1945.76,834.754 1979.43,834.636 2013.1,836.226 2047.62,839.763 \n",
       "  2082.13,845.366 2101.04,849.36 2119.95,854.038 2138.86,859.421 2157.77,865.533 2185.24,875.755 2212.71,887.629 2240.17,901.226 2267.64,916.613 2273.28,919.997 \n",
       "  2278.91,923.46 2284.55,927.003 2290.18,930.626 \n",
       "  \"/>\n",
       "<circle clip-path=\"url(#clip482)\" cx=\"1733.48\" cy=\"874.714\" r=\"14\" fill=\"#0000ff\" fill-rule=\"evenodd\" fill-opacity=\"1\" stroke=\"#000000\" stroke-opacity=\"1\" stroke-width=\"2.4\"/>\n",
       "<circle clip-path=\"url(#clip482)\" cx=\"875.433\" cy=\"850.804\" r=\"14\" fill=\"#0000ff\" fill-rule=\"evenodd\" fill-opacity=\"1\" stroke=\"#000000\" stroke-opacity=\"1\" stroke-width=\"2.4\"/>\n",
       "<circle clip-path=\"url(#clip482)\" cx=\"339.047\" cy=\"376.146\" r=\"14\" fill=\"#0000ff\" fill-rule=\"evenodd\" fill-opacity=\"1\" stroke=\"#000000\" stroke-opacity=\"1\" stroke-width=\"2.4\"/>\n",
       "<circle clip-path=\"url(#clip482)\" cx=\"1930.06\" cy=\"866.228\" r=\"14\" fill=\"#0000ff\" fill-rule=\"evenodd\" fill-opacity=\"1\" stroke=\"#000000\" stroke-opacity=\"1\" stroke-width=\"2.4\"/>\n",
       "<circle clip-path=\"url(#clip482)\" cx=\"1342.62\" cy=\"967.098\" r=\"14\" fill=\"#0000ff\" fill-rule=\"evenodd\" fill-opacity=\"1\" stroke=\"#000000\" stroke-opacity=\"1\" stroke-width=\"2.4\"/>\n",
       "<circle clip-path=\"url(#clip482)\" cx=\"1315.26\" cy=\"1069.32\" r=\"14\" fill=\"#0000ff\" fill-rule=\"evenodd\" fill-opacity=\"1\" stroke=\"#000000\" stroke-opacity=\"1\" stroke-width=\"2.4\"/>\n",
       "<circle clip-path=\"url(#clip482)\" cx=\"1740.77\" cy=\"886.062\" r=\"14\" fill=\"#0000ff\" fill-rule=\"evenodd\" fill-opacity=\"1\" stroke=\"#000000\" stroke-opacity=\"1\" stroke-width=\"2.4\"/>\n",
       "<circle clip-path=\"url(#clip482)\" cx=\"489.219\" cy=\"583.847\" r=\"14\" fill=\"#0000ff\" fill-rule=\"evenodd\" fill-opacity=\"1\" stroke=\"#000000\" stroke-opacity=\"1\" stroke-width=\"2.4\"/>\n",
       "<circle clip-path=\"url(#clip482)\" cx=\"1461.82\" cy=\"966.176\" r=\"14\" fill=\"#0000ff\" fill-rule=\"evenodd\" fill-opacity=\"1\" stroke=\"#000000\" stroke-opacity=\"1\" stroke-width=\"2.4\"/>\n",
       "<circle clip-path=\"url(#clip482)\" cx=\"1476.05\" cy=\"981.504\" r=\"14\" fill=\"#0000ff\" fill-rule=\"evenodd\" fill-opacity=\"1\" stroke=\"#000000\" stroke-opacity=\"1\" stroke-width=\"2.4\"/>\n",
       "<circle clip-path=\"url(#clip482)\" cx=\"786.878\" cy=\"927.432\" r=\"14\" fill=\"#0000ff\" fill-rule=\"evenodd\" fill-opacity=\"1\" stroke=\"#000000\" stroke-opacity=\"1\" stroke-width=\"2.4\"/>\n",
       "<circle clip-path=\"url(#clip482)\" cx=\"1516.53\" cy=\"912.439\" r=\"14\" fill=\"#0000ff\" fill-rule=\"evenodd\" fill-opacity=\"1\" stroke=\"#000000\" stroke-opacity=\"1\" stroke-width=\"2.4\"/>\n",
       "<circle clip-path=\"url(#clip482)\" cx=\"672.616\" cy=\"941.224\" r=\"14\" fill=\"#0000ff\" fill-rule=\"evenodd\" fill-opacity=\"1\" stroke=\"#000000\" stroke-opacity=\"1\" stroke-width=\"2.4\"/>\n",
       "<circle clip-path=\"url(#clip482)\" cx=\"1924.67\" cy=\"791.18\" r=\"14\" fill=\"#0000ff\" fill-rule=\"evenodd\" fill-opacity=\"1\" stroke=\"#000000\" stroke-opacity=\"1\" stroke-width=\"2.4\"/>\n",
       "<circle clip-path=\"url(#clip482)\" cx=\"2249.07\" cy=\"873.535\" r=\"14\" fill=\"#0000ff\" fill-rule=\"evenodd\" fill-opacity=\"1\" stroke=\"#000000\" stroke-opacity=\"1\" stroke-width=\"2.4\"/>\n",
       "<circle clip-path=\"url(#clip482)\" cx=\"816.405\" cy=\"1026.25\" r=\"14\" fill=\"#0000ff\" fill-rule=\"evenodd\" fill-opacity=\"1\" stroke=\"#000000\" stroke-opacity=\"1\" stroke-width=\"2.4\"/>\n",
       "<circle clip-path=\"url(#clip482)\" cx=\"2152.35\" cy=\"834.71\" r=\"14\" fill=\"#0000ff\" fill-rule=\"evenodd\" fill-opacity=\"1\" stroke=\"#000000\" stroke-opacity=\"1\" stroke-width=\"2.4\"/>\n",
       "<circle clip-path=\"url(#clip482)\" cx=\"548.787\" cy=\"777.086\" r=\"14\" fill=\"#0000ff\" fill-rule=\"evenodd\" fill-opacity=\"1\" stroke=\"#000000\" stroke-opacity=\"1\" stroke-width=\"2.4\"/>\n",
       "<circle clip-path=\"url(#clip482)\" cx=\"1819.77\" cy=\"822.386\" r=\"14\" fill=\"#0000ff\" fill-rule=\"evenodd\" fill-opacity=\"1\" stroke=\"#000000\" stroke-opacity=\"1\" stroke-width=\"2.4\"/>\n",
       "<circle clip-path=\"url(#clip482)\" cx=\"1903.19\" cy=\"832.47\" r=\"14\" fill=\"#0000ff\" fill-rule=\"evenodd\" fill-opacity=\"1\" stroke=\"#000000\" stroke-opacity=\"1\" stroke-width=\"2.4\"/>\n",
       "<path clip-path=\"url(#clip480)\" d=\"\n",
       "M2010.23 185.986 L2279.06 185.986 L2279.06 82.3056 L2010.23 82.3056  Z\n",
       "  \" fill=\"#ffffff\" fill-rule=\"evenodd\" fill-opacity=\"1\"/>\n",
       "<polyline clip-path=\"url(#clip480)\" style=\"stroke:#000000; stroke-linecap:butt; stroke-linejoin:round; stroke-width:4; stroke-opacity:1; fill:none\" points=\"\n",
       "  2010.23,185.986 2279.06,185.986 2279.06,82.3056 2010.23,82.3056 2010.23,185.986 \n",
       "  \"/>\n",
       "<polyline clip-path=\"url(#clip480)\" style=\"stroke:#4682b4; stroke-linecap:butt; stroke-linejoin:round; stroke-width:4; stroke-opacity:1; fill:none\" stroke-dasharray=\"16, 10\" points=\"\n",
       "  2034.8,134.146 2182.19,134.146 \n",
       "  \"/>\n",
       "<path clip-path=\"url(#clip480)\" d=\"M2211.15 138.486 Q2211.15 143.185 2213.08 145.87 Q2215.02 148.532 2218.4 148.532 Q2221.78 148.532 2223.72 145.87 Q2225.67 143.185 2225.67 138.486 Q2225.67 133.787 2223.72 131.125 Q2221.78 128.44 2218.4 128.44 Q2215.02 128.44 2213.08 131.125 Q2211.15 133.787 2211.15 138.486 M2225.67 147.537 Q2224.33 149.851 2222.27 150.986 Q2220.23 152.097 2217.36 152.097 Q2212.66 152.097 2209.7 148.347 Q2206.76 144.597 2206.76 138.486 Q2206.76 132.375 2209.7 128.625 Q2212.66 124.875 2217.36 124.875 Q2220.23 124.875 2222.27 126.009 Q2224.33 127.12 2225.67 129.435 L2225.67 125.5 L2229.93 125.5 L2229.93 161.287 L2225.67 161.287 L2225.67 147.537 Z\" fill=\"#000000\" fill-rule=\"evenodd\" fill-opacity=\"1\" /></svg>\n"
      ]
     },
     "execution_count": 33,
     "metadata": {},
     "output_type": "execute_result"
    }
   ],
   "source": [
    "plot(q, label = \"q\", size = (600,300), linestyle = :dash, color = :steelblue)\n",
    "scatter!(X,Y, label=false, color = :blue)"
   ]
  },
  {
   "cell_type": "markdown",
   "metadata": {},
   "source": [
    "Wir berechnen Feature Matrix und RR Parameter."
   ]
  },
  {
   "cell_type": "code",
   "execution_count": 34,
   "metadata": {},
   "outputs": [
    {
     "data": {
      "text/plain": [
       "θ_T (generic function with 1 method)"
      ]
     },
     "execution_count": 34,
     "metadata": {},
     "output_type": "execute_result"
    }
   ],
   "source": [
    "Ω = hcat([X.^i for i in 0:P-1]...)\n",
    "θ_T(λ) = (Ω' * Ω + (n*λ) .* diagm(ones(P))) \\ (Ω' * Y)"
   ]
  },
  {
   "cell_type": "markdown",
   "metadata": {},
   "source": [
    "Für jeden Wert von $\\lambda$ erhalten wir dann ein Polynom wie folgt:'"
   ]
  },
  {
   "cell_type": "code",
   "execution_count": 35,
   "metadata": {},
   "outputs": [
    {
     "data": {
      "text/plain": [
       "Q (generic function with 1 method)"
      ]
     },
     "execution_count": 35,
     "metadata": {},
     "output_type": "execute_result"
    }
   ],
   "source": [
    "Q(λ) = (x -> sum(θ * x^(i-1) for (i,θ) in enumerate(θ_T(λ))))"
   ]
  },
  {
   "cell_type": "markdown",
   "metadata": {},
   "source": [
    "Die folgende Animation zeigt, dass Regularisierung ($\\lambda >0$) ein besseres Ergebnis als keine Regularisierung ($\\lambda =0$) erzielt. "
   ]
  },
  {
   "cell_type": "code",
   "execution_count": 38,
   "metadata": {},
   "outputs": [
    {
     "name": "stderr",
     "output_type": "stream",
     "text": [
      "┌ Info: Saved animation to \n",
      "│   fn = /Users/pb/ridge_regression.gif\n",
      "└ @ Plots /Users/pb/.julia/packages/Plots/1KWPG/src/animation.jl:114\n"
     ]
    },
    {
     "data": {
      "text/html": [
       "<img src=\"data:image/gif;base64,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\" />"
      ],
      "text/plain": [
       "Plots.AnimatedGif(\"/Users/pb/ridge_regression.gif\")"
      ]
     },
     "execution_count": 38,
     "metadata": {},
     "output_type": "execute_result"
    }
   ],
   "source": [
    "anim = @animate for λ in 0:10\n",
    "    plot(q, label = \"q\", size = (600,300), linestyle = :dash, lw = 2,\n",
    "        color = :steelblue, \n",
    "        xlims = (-5,5),\n",
    "        ylims = (-20, 120))\n",
    "    scatter!(X,Y, label=false, color = :blue)\n",
    "    plot!(Q(λ/n), label = \"λ = $(λ/n)\", color = :red, lw = 2)\n",
    "end\n",
    "gif(anim, \"/Users/pb/ridge_regression.gif\", fps = 2)"
   ]
  },
  {
   "cell_type": "code",
   "execution_count": null,
   "metadata": {},
   "outputs": [],
   "source": []
  }
 ],
 "metadata": {
  "@webio": {
   "lastCommId": null,
   "lastKernelId": null
  },
  "kernelspec": {
   "display_name": "Julia 1.7.2",
   "language": "julia",
   "name": "julia-1.7"
  },
  "language_info": {
   "file_extension": ".jl",
   "mimetype": "application/julia",
   "name": "julia",
   "version": "1.7.2"
  }
 },
 "nbformat": 4,
 "nbformat_minor": 2
}
