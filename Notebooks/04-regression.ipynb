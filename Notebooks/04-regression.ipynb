{
 "cells": [
  {
   "cell_type": "code",
   "execution_count": null,
   "metadata": {},
   "outputs": [],
   "source": [
    "using Pkg\n",
    "Pkg.activate(\"NB04\")\n",
    "Pkg.resolve();"
   ]
  },
  {
   "cell_type": "code",
   "execution_count": 60,
   "metadata": {},
   "outputs": [],
   "source": [
    "using LinearAlgebra, Plots, StatsBase\n",
    "using RDatasets\n",
    "using Optim"
   ]
  },
  {
   "cell_type": "markdown",
   "metadata": {},
   "source": [
    "# Regression\n",
    "\n",
    "Wir laden den Datensatz `cars` aus dem `RDatasets` package"
   ]
  },
  {
   "cell_type": "code",
   "execution_count": 61,
   "metadata": {},
   "outputs": [],
   "source": [
    "data_cars = dataset(\"datasets\", \"cars\");"
   ]
  },
  {
   "cell_type": "markdown",
   "metadata": {},
   "source": [
    "Wir schauen zunächst, welche Variablen in diesem Datensatz erhalten sind"
   ]
  },
  {
   "cell_type": "code",
   "execution_count": 62,
   "metadata": {},
   "outputs": [
    {
     "data": {
      "text/plain": [
       "2-element Vector{String}:\n",
       " \"Speed\"\n",
       " \"Dist\""
      ]
     },
     "execution_count": 62,
     "metadata": {},
     "output_type": "execute_result"
    }
   ],
   "source": [
    "names(data_cars)"
   ]
  },
  {
   "cell_type": "markdown",
   "metadata": {},
   "source": [
    "Die Datenpunkte stellen also Geschwindigkeit und zurückgelegte Distanz dar. \n",
    "\n",
    "Wir erwarten einen linearen Zusammenhang, also wählen wir das lineare Modell\n",
    "\n",
    "$$f_\\theta(x) =  a x + b$$\n",
    "\n",
    "mit $\\theta =(a,b)\\in\\mathbb R^2$."
   ]
  },
  {
   "cell_type": "code",
   "execution_count": 63,
   "metadata": {},
   "outputs": [
    {
     "data": {
      "image/svg+xml": [
       "<?xml version=\"1.0\" encoding=\"utf-8\"?>\n",
       "<svg xmlns=\"http://www.w3.org/2000/svg\" xmlns:xlink=\"http://www.w3.org/1999/xlink\" width=\"600\" height=\"300\" viewBox=\"0 0 2400 1200\">\n",
       "<defs>\n",
       "  <clipPath id=\"clip550\">\n",
       "    <rect x=\"0\" y=\"0\" width=\"2400\" height=\"1200\"/>\n",
       "  </clipPath>\n",
       "</defs>\n",
       "<path clip-path=\"url(#clip550)\" d=\"\n",
       "M0 1200 L2400 1200 L2400 0 L0 0  Z\n",
       "  \" fill=\"#ffffff\" fill-rule=\"evenodd\" fill-opacity=\"1\"/>\n",
       "<defs>\n",
       "  <clipPath id=\"clip551\">\n",
       "    <rect x=\"480\" y=\"0\" width=\"1681\" height=\"1200\"/>\n",
       "  </clipPath>\n",
       "</defs>\n",
       "<path clip-path=\"url(#clip550)\" d=\"\n",
       "M220.509 1047.7 L2352.76 1047.7 L2352.76 47.2441 L220.509 47.2441  Z\n",
       "  \" fill=\"#ffffff\" fill-rule=\"evenodd\" fill-opacity=\"1\"/>\n",
       "<defs>\n",
       "  <clipPath id=\"clip552\">\n",
       "    <rect x=\"220\" y=\"47\" width=\"2133\" height=\"1001\"/>\n",
       "  </clipPath>\n",
       "</defs>\n",
       "<polyline clip-path=\"url(#clip552)\" style=\"stroke:#000000; stroke-linecap:butt; stroke-linejoin:round; stroke-width:2; stroke-opacity:0.1; fill:none\" points=\"\n",
       "  376.644,1047.7 376.644,47.2441 \n",
       "  \"/>\n",
       "<polyline clip-path=\"url(#clip552)\" style=\"stroke:#000000; stroke-linecap:butt; stroke-linejoin:round; stroke-width:2; stroke-opacity:0.1; fill:none\" points=\"\n",
       "  855.585,1047.7 855.585,47.2441 \n",
       "  \"/>\n",
       "<polyline clip-path=\"url(#clip552)\" style=\"stroke:#000000; stroke-linecap:butt; stroke-linejoin:round; stroke-width:2; stroke-opacity:0.1; fill:none\" points=\"\n",
       "  1334.53,1047.7 1334.53,47.2441 \n",
       "  \"/>\n",
       "<polyline clip-path=\"url(#clip552)\" style=\"stroke:#000000; stroke-linecap:butt; stroke-linejoin:round; stroke-width:2; stroke-opacity:0.1; fill:none\" points=\"\n",
       "  1813.47,1047.7 1813.47,47.2441 \n",
       "  \"/>\n",
       "<polyline clip-path=\"url(#clip552)\" style=\"stroke:#000000; stroke-linecap:butt; stroke-linejoin:round; stroke-width:2; stroke-opacity:0.1; fill:none\" points=\"\n",
       "  2292.41,1047.7 2292.41,47.2441 \n",
       "  \"/>\n",
       "<polyline clip-path=\"url(#clip550)\" style=\"stroke:#000000; stroke-linecap:butt; stroke-linejoin:round; stroke-width:4; stroke-opacity:1; fill:none\" points=\"\n",
       "  220.509,1047.7 2352.76,1047.7 \n",
       "  \"/>\n",
       "<polyline clip-path=\"url(#clip550)\" style=\"stroke:#000000; stroke-linecap:butt; stroke-linejoin:round; stroke-width:4; stroke-opacity:1; fill:none\" points=\"\n",
       "  376.644,1047.7 376.644,1028.8 \n",
       "  \"/>\n",
       "<polyline clip-path=\"url(#clip550)\" style=\"stroke:#000000; stroke-linecap:butt; stroke-linejoin:round; stroke-width:4; stroke-opacity:1; fill:none\" points=\"\n",
       "  855.585,1047.7 855.585,1028.8 \n",
       "  \"/>\n",
       "<polyline clip-path=\"url(#clip550)\" style=\"stroke:#000000; stroke-linecap:butt; stroke-linejoin:round; stroke-width:4; stroke-opacity:1; fill:none\" points=\"\n",
       "  1334.53,1047.7 1334.53,1028.8 \n",
       "  \"/>\n",
       "<polyline clip-path=\"url(#clip550)\" style=\"stroke:#000000; stroke-linecap:butt; stroke-linejoin:round; stroke-width:4; stroke-opacity:1; fill:none\" points=\"\n",
       "  1813.47,1047.7 1813.47,1028.8 \n",
       "  \"/>\n",
       "<polyline clip-path=\"url(#clip550)\" style=\"stroke:#000000; stroke-linecap:butt; stroke-linejoin:round; stroke-width:4; stroke-opacity:1; fill:none\" points=\"\n",
       "  2292.41,1047.7 2292.41,1028.8 \n",
       "  \"/>\n",
       "<path clip-path=\"url(#clip550)\" d=\"M366.922 1075.54 L385.278 1075.54 L385.278 1079.48 L371.204 1079.48 L371.204 1087.95 Q372.223 1087.6 373.241 1087.44 Q374.26 1087.25 375.278 1087.25 Q381.065 1087.25 384.445 1090.42 Q387.825 1093.6 387.825 1099.01 Q387.825 1104.59 384.352 1107.69 Q380.88 1110.77 374.561 1110.77 Q372.385 1110.77 370.116 1110.4 Q367.871 1110.03 365.464 1109.29 L365.464 1104.59 Q367.547 1105.72 369.769 1106.28 Q371.991 1106.84 374.468 1106.84 Q378.473 1106.84 380.811 1104.73 Q383.149 1102.62 383.149 1099.01 Q383.149 1095.4 380.811 1093.29 Q378.473 1091.19 374.468 1091.19 Q372.593 1091.19 370.718 1091.6 Q368.866 1092.02 366.922 1092.9 L366.922 1075.54 Z\" fill=\"#000000\" fill-rule=\"evenodd\" fill-opacity=\"1\" /><path clip-path=\"url(#clip550)\" d=\"M830.273 1106.16 L837.912 1106.16 L837.912 1079.8 L829.602 1081.47 L829.602 1077.21 L837.866 1075.54 L842.542 1075.54 L842.542 1106.16 L850.18 1106.16 L850.18 1110.1 L830.273 1110.1 L830.273 1106.16 Z\" fill=\"#000000\" fill-rule=\"evenodd\" fill-opacity=\"1\" /><path clip-path=\"url(#clip550)\" d=\"M869.625 1078.62 Q866.014 1078.62 864.185 1082.18 Q862.379 1085.72 862.379 1092.85 Q862.379 1099.96 864.185 1103.53 Q866.014 1107.07 869.625 1107.07 Q873.259 1107.07 875.065 1103.53 Q876.893 1099.96 876.893 1092.85 Q876.893 1085.72 875.065 1082.18 Q873.259 1078.62 869.625 1078.62 M869.625 1074.91 Q875.435 1074.91 878.49 1079.52 Q881.569 1084.1 881.569 1092.85 Q881.569 1101.58 878.49 1106.19 Q875.435 1110.77 869.625 1110.77 Q863.815 1110.77 860.736 1106.19 Q857.68 1101.58 857.68 1092.85 Q857.68 1084.1 860.736 1079.52 Q863.815 1074.91 869.625 1074.91 Z\" fill=\"#000000\" fill-rule=\"evenodd\" fill-opacity=\"1\" /><path clip-path=\"url(#clip550)\" d=\"M1309.71 1106.16 L1317.35 1106.16 L1317.35 1079.8 L1309.04 1081.47 L1309.04 1077.21 L1317.3 1075.54 L1321.98 1075.54 L1321.98 1106.16 L1329.62 1106.16 L1329.62 1110.1 L1309.71 1110.1 L1309.71 1106.16 Z\" fill=\"#000000\" fill-rule=\"evenodd\" fill-opacity=\"1\" /><path clip-path=\"url(#clip550)\" d=\"M1339.11 1075.54 L1357.47 1075.54 L1357.47 1079.48 L1343.39 1079.48 L1343.39 1087.95 Q1344.41 1087.6 1345.43 1087.44 Q1346.45 1087.25 1347.47 1087.25 Q1353.25 1087.25 1356.63 1090.42 Q1360.01 1093.6 1360.01 1099.01 Q1360.01 1104.59 1356.54 1107.69 Q1353.07 1110.77 1346.75 1110.77 Q1344.57 1110.77 1342.3 1110.4 Q1340.06 1110.03 1337.65 1109.29 L1337.65 1104.59 Q1339.74 1105.72 1341.96 1106.28 Q1344.18 1106.84 1346.66 1106.84 Q1350.66 1106.84 1353 1104.73 Q1355.34 1102.62 1355.34 1099.01 Q1355.34 1095.4 1353 1093.29 Q1350.66 1091.19 1346.66 1091.19 Q1344.78 1091.19 1342.91 1091.6 Q1341.05 1092.02 1339.11 1092.9 L1339.11 1075.54 Z\" fill=\"#000000\" fill-rule=\"evenodd\" fill-opacity=\"1\" /><path clip-path=\"url(#clip550)\" d=\"M1792.24 1106.16 L1808.56 1106.16 L1808.56 1110.1 L1786.62 1110.1 L1786.62 1106.16 Q1789.28 1103.41 1793.86 1098.78 Q1798.47 1094.13 1799.65 1092.79 Q1801.89 1090.26 1802.77 1088.53 Q1803.68 1086.77 1803.68 1085.08 Q1803.68 1082.32 1801.73 1080.59 Q1799.81 1078.85 1796.71 1078.85 Q1794.51 1078.85 1792.06 1079.61 Q1789.63 1080.38 1786.85 1081.93 L1786.85 1077.21 Q1789.67 1076.07 1792.13 1075.49 Q1794.58 1074.91 1796.62 1074.91 Q1801.99 1074.91 1805.18 1077.6 Q1808.38 1080.29 1808.38 1084.78 Q1808.38 1086.91 1807.57 1088.83 Q1806.78 1090.72 1804.67 1093.32 Q1804.09 1093.99 1800.99 1097.21 Q1797.89 1100.4 1792.24 1106.16 Z\" fill=\"#000000\" fill-rule=\"evenodd\" fill-opacity=\"1\" /><path clip-path=\"url(#clip550)\" d=\"M1828.38 1078.62 Q1824.76 1078.62 1822.94 1082.18 Q1821.13 1085.72 1821.13 1092.85 Q1821.13 1099.96 1822.94 1103.53 Q1824.76 1107.07 1828.38 1107.07 Q1832.01 1107.07 1833.82 1103.53 Q1835.64 1099.96 1835.64 1092.85 Q1835.64 1085.72 1833.82 1082.18 Q1832.01 1078.62 1828.38 1078.62 M1828.38 1074.91 Q1834.19 1074.91 1837.24 1079.52 Q1840.32 1084.1 1840.32 1092.85 Q1840.32 1101.58 1837.24 1106.19 Q1834.19 1110.77 1828.38 1110.77 Q1822.57 1110.77 1819.49 1106.19 Q1816.43 1101.58 1816.43 1092.85 Q1816.43 1084.1 1819.49 1079.52 Q1822.57 1074.91 1828.38 1074.91 Z\" fill=\"#000000\" fill-rule=\"evenodd\" fill-opacity=\"1\" /><path clip-path=\"url(#clip550)\" d=\"M2271.68 1106.16 L2288 1106.16 L2288 1110.1 L2266.06 1110.1 L2266.06 1106.16 Q2268.72 1103.41 2273.3 1098.78 Q2277.91 1094.13 2279.09 1092.79 Q2281.33 1090.26 2282.21 1088.53 Q2283.12 1086.77 2283.12 1085.08 Q2283.12 1082.32 2281.17 1080.59 Q2279.25 1078.85 2276.15 1078.85 Q2273.95 1078.85 2271.5 1079.61 Q2269.06 1080.38 2266.29 1081.93 L2266.29 1077.21 Q2269.11 1076.07 2271.56 1075.49 Q2274.02 1074.91 2276.06 1074.91 Q2281.43 1074.91 2284.62 1077.6 Q2287.81 1080.29 2287.81 1084.78 Q2287.81 1086.91 2287 1088.83 Q2286.22 1090.72 2284.11 1093.32 Q2283.53 1093.99 2280.43 1097.21 Q2277.33 1100.4 2271.68 1106.16 Z\" fill=\"#000000\" fill-rule=\"evenodd\" fill-opacity=\"1\" /><path clip-path=\"url(#clip550)\" d=\"M2297.86 1075.54 L2316.22 1075.54 L2316.22 1079.48 L2302.14 1079.48 L2302.14 1087.95 Q2303.16 1087.6 2304.18 1087.44 Q2305.2 1087.25 2306.22 1087.25 Q2312 1087.25 2315.38 1090.42 Q2318.76 1093.6 2318.76 1099.01 Q2318.76 1104.59 2315.29 1107.69 Q2311.82 1110.77 2305.5 1110.77 Q2303.32 1110.77 2301.06 1110.4 Q2298.81 1110.03 2296.4 1109.29 L2296.4 1104.59 Q2298.49 1105.72 2300.71 1106.28 Q2302.93 1106.84 2305.41 1106.84 Q2309.41 1106.84 2311.75 1104.73 Q2314.09 1102.62 2314.09 1099.01 Q2314.09 1095.4 2311.75 1093.29 Q2309.41 1091.19 2305.41 1091.19 Q2303.53 1091.19 2301.66 1091.6 Q2299.81 1092.02 2297.86 1092.9 L2297.86 1075.54 Z\" fill=\"#000000\" fill-rule=\"evenodd\" fill-opacity=\"1\" /><path clip-path=\"url(#clip550)\" d=\"M1220.16 1146.6 L1220.16 1152.87 Q1216.5 1151.12 1213.25 1150.26 Q1210.01 1149.4 1206.98 1149.4 Q1201.73 1149.4 1198.87 1151.44 Q1196.03 1153.48 1196.03 1157.23 Q1196.03 1160.39 1197.91 1162.01 Q1199.82 1163.6 1205.1 1164.59 L1208.99 1165.38 Q1216.18 1166.75 1219.59 1170.22 Q1223.02 1173.66 1223.02 1179.45 Q1223.02 1186.36 1218.38 1189.92 Q1213.76 1193.49 1204.82 1193.49 Q1201.44 1193.49 1197.62 1192.72 Q1193.84 1191.96 1189.76 1190.46 L1189.76 1183.84 Q1193.68 1186.04 1197.43 1187.15 Q1201.19 1188.27 1204.82 1188.27 Q1210.32 1188.27 1213.32 1186.1 Q1216.31 1183.94 1216.31 1179.93 Q1216.31 1176.43 1214.14 1174.45 Q1212.01 1172.48 1207.11 1171.49 L1203.19 1170.73 Q1196 1169.3 1192.79 1166.24 Q1189.57 1163.19 1189.57 1157.74 Q1189.57 1151.44 1194 1147.81 Q1198.45 1144.18 1206.25 1144.18 Q1209.59 1144.18 1213.06 1144.79 Q1216.53 1145.39 1220.16 1146.6 Z\" fill=\"#000000\" fill-rule=\"evenodd\" fill-opacity=\"1\" /><path clip-path=\"url(#clip550)\" d=\"M1238.46 1187.22 L1238.46 1206.12 L1232.57 1206.12 L1232.57 1156.92 L1238.46 1156.92 L1238.46 1162.33 Q1240.31 1159.14 1243.11 1157.62 Q1245.94 1156.06 1249.85 1156.06 Q1256.35 1156.06 1260.39 1161.21 Q1264.46 1166.37 1264.46 1174.77 Q1264.46 1183.17 1260.39 1188.33 Q1256.35 1193.49 1249.85 1193.49 Q1245.94 1193.49 1243.11 1191.96 Q1240.31 1190.4 1238.46 1187.22 M1258.38 1174.77 Q1258.38 1168.31 1255.71 1164.65 Q1253.07 1160.96 1248.42 1160.96 Q1243.78 1160.96 1241.1 1164.65 Q1238.46 1168.31 1238.46 1174.77 Q1238.46 1181.23 1241.1 1184.92 Q1243.78 1188.59 1248.42 1188.59 Q1253.07 1188.59 1255.71 1184.92 Q1258.38 1181.23 1258.38 1174.77 Z\" fill=\"#000000\" fill-rule=\"evenodd\" fill-opacity=\"1\" /><path clip-path=\"url(#clip550)\" d=\"M1304.66 1173.28 L1304.66 1176.14 L1277.74 1176.14 Q1278.12 1182.19 1281.37 1185.37 Q1284.64 1188.52 1290.47 1188.52 Q1293.84 1188.52 1296.99 1187.69 Q1300.18 1186.87 1303.29 1185.21 L1303.29 1190.75 Q1300.14 1192.09 1296.83 1192.79 Q1293.52 1193.49 1290.12 1193.49 Q1281.59 1193.49 1276.59 1188.52 Q1271.63 1183.56 1271.63 1175.09 Q1271.63 1166.34 1276.34 1161.21 Q1281.08 1156.06 1289.1 1156.06 Q1296.29 1156.06 1300.46 1160.7 Q1304.66 1165.32 1304.66 1173.28 M1298.81 1171.56 Q1298.74 1166.75 1296.1 1163.89 Q1293.49 1161.02 1289.16 1161.02 Q1284.26 1161.02 1281.3 1163.79 Q1278.37 1166.56 1277.93 1171.59 L1298.81 1171.56 Z\" fill=\"#000000\" fill-rule=\"evenodd\" fill-opacity=\"1\" /><path clip-path=\"url(#clip550)\" d=\"M1344.77 1173.28 L1344.77 1176.14 L1317.84 1176.14 Q1318.22 1182.19 1321.47 1185.37 Q1324.75 1188.52 1330.57 1188.52 Q1333.95 1188.52 1337.1 1187.69 Q1340.28 1186.87 1343.4 1185.21 L1343.4 1190.75 Q1340.25 1192.09 1336.94 1192.79 Q1333.63 1193.49 1330.22 1193.49 Q1321.69 1193.49 1316.69 1188.52 Q1311.73 1183.56 1311.73 1175.09 Q1311.73 1166.34 1316.44 1161.21 Q1321.18 1156.06 1329.2 1156.06 Q1336.4 1156.06 1340.57 1160.7 Q1344.77 1165.32 1344.77 1173.28 M1338.91 1171.56 Q1338.85 1166.75 1336.21 1163.89 Q1333.6 1161.02 1329.27 1161.02 Q1324.37 1161.02 1321.41 1163.79 Q1318.48 1166.56 1318.03 1171.59 L1338.91 1171.56 Z\" fill=\"#000000\" fill-rule=\"evenodd\" fill-opacity=\"1\" /><path clip-path=\"url(#clip550)\" d=\"M1377.84 1162.33 L1377.84 1143.04 L1383.69 1143.04 L1383.69 1192.56 L1377.84 1192.56 L1377.84 1187.22 Q1375.99 1190.4 1373.16 1191.96 Q1370.36 1193.49 1366.41 1193.49 Q1359.95 1193.49 1355.88 1188.33 Q1351.83 1183.17 1351.83 1174.77 Q1351.83 1166.37 1355.88 1161.21 Q1359.95 1156.06 1366.41 1156.06 Q1370.36 1156.06 1373.16 1157.62 Q1375.99 1159.14 1377.84 1162.33 M1357.88 1174.77 Q1357.88 1181.23 1360.52 1184.92 Q1363.2 1188.59 1367.84 1188.59 Q1372.49 1188.59 1375.16 1184.92 Q1377.84 1181.23 1377.84 1174.77 Q1377.84 1168.31 1375.16 1164.65 Q1372.49 1160.96 1367.84 1160.96 Q1363.2 1160.96 1360.52 1164.65 Q1357.88 1168.31 1357.88 1174.77 Z\" fill=\"#000000\" fill-rule=\"evenodd\" fill-opacity=\"1\" /><polyline clip-path=\"url(#clip552)\" style=\"stroke:#000000; stroke-linecap:butt; stroke-linejoin:round; stroke-width:2; stroke-opacity:0.1; fill:none\" points=\"\n",
       "  220.509,1035.38 2352.76,1035.38 \n",
       "  \"/>\n",
       "<polyline clip-path=\"url(#clip552)\" style=\"stroke:#000000; stroke-linecap:butt; stroke-linejoin:round; stroke-width:2; stroke-opacity:0.1; fill:none\" points=\"\n",
       "  220.509,835.419 2352.76,835.419 \n",
       "  \"/>\n",
       "<polyline clip-path=\"url(#clip552)\" style=\"stroke:#000000; stroke-linecap:butt; stroke-linejoin:round; stroke-width:2; stroke-opacity:0.1; fill:none\" points=\"\n",
       "  220.509,635.456 2352.76,635.456 \n",
       "  \"/>\n",
       "<polyline clip-path=\"url(#clip552)\" style=\"stroke:#000000; stroke-linecap:butt; stroke-linejoin:round; stroke-width:2; stroke-opacity:0.1; fill:none\" points=\"\n",
       "  220.509,435.493 2352.76,435.493 \n",
       "  \"/>\n",
       "<polyline clip-path=\"url(#clip552)\" style=\"stroke:#000000; stroke-linecap:butt; stroke-linejoin:round; stroke-width:2; stroke-opacity:0.1; fill:none\" points=\"\n",
       "  220.509,235.529 2352.76,235.529 \n",
       "  \"/>\n",
       "<polyline clip-path=\"url(#clip550)\" style=\"stroke:#000000; stroke-linecap:butt; stroke-linejoin:round; stroke-width:4; stroke-opacity:1; fill:none\" points=\"\n",
       "  220.509,1047.7 220.509,47.2441 \n",
       "  \"/>\n",
       "<polyline clip-path=\"url(#clip550)\" style=\"stroke:#000000; stroke-linecap:butt; stroke-linejoin:round; stroke-width:4; stroke-opacity:1; fill:none\" points=\"\n",
       "  220.509,1035.38 239.407,1035.38 \n",
       "  \"/>\n",
       "<polyline clip-path=\"url(#clip550)\" style=\"stroke:#000000; stroke-linecap:butt; stroke-linejoin:round; stroke-width:4; stroke-opacity:1; fill:none\" points=\"\n",
       "  220.509,835.419 239.407,835.419 \n",
       "  \"/>\n",
       "<polyline clip-path=\"url(#clip550)\" style=\"stroke:#000000; stroke-linecap:butt; stroke-linejoin:round; stroke-width:4; stroke-opacity:1; fill:none\" points=\"\n",
       "  220.509,635.456 239.407,635.456 \n",
       "  \"/>\n",
       "<polyline clip-path=\"url(#clip550)\" style=\"stroke:#000000; stroke-linecap:butt; stroke-linejoin:round; stroke-width:4; stroke-opacity:1; fill:none\" points=\"\n",
       "  220.509,435.493 239.407,435.493 \n",
       "  \"/>\n",
       "<polyline clip-path=\"url(#clip550)\" style=\"stroke:#000000; stroke-linecap:butt; stroke-linejoin:round; stroke-width:4; stroke-opacity:1; fill:none\" points=\"\n",
       "  220.509,235.529 239.407,235.529 \n",
       "  \"/>\n",
       "<path clip-path=\"url(#clip550)\" d=\"M172.565 1021.18 Q168.954 1021.18 167.125 1024.75 Q165.32 1028.29 165.32 1035.42 Q165.32 1042.52 167.125 1046.09 Q168.954 1049.63 172.565 1049.63 Q176.199 1049.63 178.005 1046.09 Q179.833 1042.52 179.833 1035.42 Q179.833 1028.29 178.005 1024.75 Q176.199 1021.18 172.565 1021.18 M172.565 1017.48 Q178.375 1017.48 181.431 1022.08 Q184.509 1026.67 184.509 1035.42 Q184.509 1044.14 181.431 1048.75 Q178.375 1053.33 172.565 1053.33 Q166.755 1053.33 163.676 1048.75 Q160.621 1044.14 160.621 1035.42 Q160.621 1026.67 163.676 1022.08 Q166.755 1017.48 172.565 1017.48 Z\" fill=\"#000000\" fill-rule=\"evenodd\" fill-opacity=\"1\" /><path clip-path=\"url(#clip550)\" d=\"M137.426 848.764 L153.746 848.764 L153.746 852.699 L131.801 852.699 L131.801 848.764 Q134.463 846.009 139.047 841.38 Q143.653 836.727 144.834 835.384 Q147.079 832.861 147.959 831.125 Q148.861 829.366 148.861 827.676 Q148.861 824.921 146.917 823.185 Q144.996 821.449 141.894 821.449 Q139.695 821.449 137.241 822.213 Q134.811 822.977 132.033 824.528 L132.033 819.806 Q134.857 818.671 137.311 818.093 Q139.764 817.514 141.801 817.514 Q147.172 817.514 150.366 820.199 Q153.56 822.884 153.56 827.375 Q153.56 829.505 152.75 831.426 Q151.963 833.324 149.857 835.917 Q149.278 836.588 146.176 839.805 Q143.074 843 137.426 848.764 Z\" fill=\"#000000\" fill-rule=\"evenodd\" fill-opacity=\"1\" /><path clip-path=\"url(#clip550)\" d=\"M163.607 818.139 L181.963 818.139 L181.963 822.074 L167.889 822.074 L167.889 830.546 Q168.908 830.199 169.926 830.037 Q170.945 829.852 171.963 829.852 Q177.75 829.852 181.13 833.023 Q184.509 836.194 184.509 841.611 Q184.509 847.19 181.037 850.292 Q177.565 853.37 171.246 853.37 Q169.07 853.37 166.801 853 Q164.556 852.629 162.148 851.889 L162.148 847.19 Q164.232 848.324 166.454 848.88 Q168.676 849.435 171.153 849.435 Q175.158 849.435 177.495 847.329 Q179.833 845.222 179.833 841.611 Q179.833 838 177.495 835.893 Q175.158 833.787 171.153 833.787 Q169.278 833.787 167.403 834.204 Q165.551 834.62 163.607 835.5 L163.607 818.139 Z\" fill=\"#000000\" fill-rule=\"evenodd\" fill-opacity=\"1\" /><path clip-path=\"url(#clip550)\" d=\"M132.449 618.176 L150.806 618.176 L150.806 622.111 L136.732 622.111 L136.732 630.583 Q137.75 630.236 138.769 630.074 Q139.787 629.889 140.806 629.889 Q146.593 629.889 149.972 633.06 Q153.352 636.231 153.352 641.648 Q153.352 647.227 149.88 650.328 Q146.408 653.407 140.088 653.407 Q137.912 653.407 135.644 653.037 Q133.399 652.666 130.991 651.926 L130.991 647.227 Q133.074 648.361 135.297 648.916 Q137.519 649.472 139.996 649.472 Q144 649.472 146.338 647.365 Q148.676 645.259 148.676 641.648 Q148.676 638.037 146.338 635.93 Q144 633.824 139.996 633.824 Q138.121 633.824 136.246 634.24 Q134.394 634.657 132.449 635.537 L132.449 618.176 Z\" fill=\"#000000\" fill-rule=\"evenodd\" fill-opacity=\"1\" /><path clip-path=\"url(#clip550)\" d=\"M172.565 621.254 Q168.954 621.254 167.125 624.819 Q165.32 628.361 165.32 635.49 Q165.32 642.597 167.125 646.162 Q168.954 649.703 172.565 649.703 Q176.199 649.703 178.005 646.162 Q179.833 642.597 179.833 635.49 Q179.833 628.361 178.005 624.819 Q176.199 621.254 172.565 621.254 M172.565 617.551 Q178.375 617.551 181.431 622.157 Q184.509 626.741 184.509 635.49 Q184.509 644.217 181.431 648.824 Q178.375 653.407 172.565 653.407 Q166.755 653.407 163.676 648.824 Q160.621 644.217 160.621 635.49 Q160.621 626.741 163.676 622.157 Q166.755 617.551 172.565 617.551 Z\" fill=\"#000000\" fill-rule=\"evenodd\" fill-opacity=\"1\" /><path clip-path=\"url(#clip550)\" d=\"M132.218 418.213 L154.44 418.213 L154.44 420.203 L141.894 452.773 L137.01 452.773 L148.815 422.148 L132.218 422.148 L132.218 418.213 Z\" fill=\"#000000\" fill-rule=\"evenodd\" fill-opacity=\"1\" /><path clip-path=\"url(#clip550)\" d=\"M163.607 418.213 L181.963 418.213 L181.963 422.148 L167.889 422.148 L167.889 430.62 Q168.908 430.273 169.926 430.111 Q170.945 429.925 171.963 429.925 Q177.75 429.925 181.13 433.097 Q184.509 436.268 184.509 441.685 Q184.509 447.263 181.037 450.365 Q177.565 453.444 171.246 453.444 Q169.07 453.444 166.801 453.074 Q164.556 452.703 162.148 451.962 L162.148 447.263 Q164.232 448.398 166.454 448.953 Q168.676 449.509 171.153 449.509 Q175.158 449.509 177.495 447.402 Q179.833 445.296 179.833 441.685 Q179.833 438.074 177.495 435.967 Q175.158 433.861 171.153 433.861 Q169.278 433.861 167.403 434.277 Q165.551 434.694 163.607 435.574 L163.607 418.213 Z\" fill=\"#000000\" fill-rule=\"evenodd\" fill-opacity=\"1\" /><path clip-path=\"url(#clip550)\" d=\"M103.051 248.874 L110.69 248.874 L110.69 222.509 L102.38 224.175 L102.38 219.916 L110.644 218.249 L115.32 218.249 L115.32 248.874 L122.959 248.874 L122.959 252.809 L103.051 252.809 L103.051 248.874 Z\" fill=\"#000000\" fill-rule=\"evenodd\" fill-opacity=\"1\" /><path clip-path=\"url(#clip550)\" d=\"M142.403 221.328 Q138.792 221.328 136.963 224.893 Q135.158 228.435 135.158 235.564 Q135.158 242.671 136.963 246.235 Q138.792 249.777 142.403 249.777 Q146.037 249.777 147.843 246.235 Q149.672 242.671 149.672 235.564 Q149.672 228.435 147.843 224.893 Q146.037 221.328 142.403 221.328 M142.403 217.624 Q148.213 217.624 151.269 222.231 Q154.347 226.814 154.347 235.564 Q154.347 244.291 151.269 248.897 Q148.213 253.481 142.403 253.481 Q136.593 253.481 133.514 248.897 Q130.459 244.291 130.459 235.564 Q130.459 226.814 133.514 222.231 Q136.593 217.624 142.403 217.624 Z\" fill=\"#000000\" fill-rule=\"evenodd\" fill-opacity=\"1\" /><path clip-path=\"url(#clip550)\" d=\"M172.565 221.328 Q168.954 221.328 167.125 224.893 Q165.32 228.435 165.32 235.564 Q165.32 242.671 167.125 246.235 Q168.954 249.777 172.565 249.777 Q176.199 249.777 178.005 246.235 Q179.833 242.671 179.833 235.564 Q179.833 228.435 178.005 224.893 Q176.199 221.328 172.565 221.328 M172.565 217.624 Q178.375 217.624 181.431 222.231 Q184.509 226.814 184.509 235.564 Q184.509 244.291 181.431 248.897 Q178.375 253.481 172.565 253.481 Q166.755 253.481 163.676 248.897 Q160.621 244.291 160.621 235.564 Q160.621 226.814 163.676 222.231 Q166.755 217.624 172.565 217.624 Z\" fill=\"#000000\" fill-rule=\"evenodd\" fill-opacity=\"1\" /><path clip-path=\"url(#clip550)\" d=\"M9.88769 600.976 L46.8406 600.976 L46.8406 593.21 Q46.8406 583.375 42.3846 578.823 Q37.9286 574.24 28.3164 574.24 Q18.7679 574.24 14.3437 578.823 Q9.88769 583.375 9.88769 593.21 L9.88769 600.976 M4.60416 607.405 L4.60416 594.196 Q4.60416 580.383 10.3651 573.921 Q16.0943 567.46 28.3164 567.46 Q40.6022 567.46 46.3632 573.953 Q52.1242 580.446 52.1242 594.196 L52.1242 607.405 L4.60416 607.405 Z\" fill=\"#000000\" fill-rule=\"evenodd\" fill-opacity=\"1\" /><path clip-path=\"url(#clip550)\" d=\"M16.4762 557.466 L16.4762 551.61 L52.1242 551.61 L52.1242 557.466 L16.4762 557.466 M2.59896 557.466 L2.59896 551.61 L10.015 551.61 L10.015 557.466 L2.59896 557.466 Z\" fill=\"#000000\" fill-rule=\"evenodd\" fill-opacity=\"1\" /><path clip-path=\"url(#clip550)\" d=\"M17.5265 516.63 L23.0647 516.63 Q21.7916 519.113 21.155 521.786 Q20.5184 524.46 20.5184 527.325 Q20.5184 531.685 21.8552 533.881 Q23.192 536.046 25.8656 536.046 Q27.9026 536.046 29.0803 534.486 Q30.2261 532.926 31.2765 528.216 L31.7221 526.211 Q33.0589 519.972 35.5097 517.362 Q37.9286 514.72 42.2891 514.72 Q47.2544 514.72 50.1508 518.667 Q53.0472 522.582 53.0472 529.457 Q53.0472 532.322 52.4743 535.441 Q51.9332 538.528 50.8192 541.966 L44.7718 541.966 Q46.4587 538.719 47.318 535.568 Q48.1456 532.417 48.1456 529.33 Q48.1456 525.192 46.7451 522.964 Q45.3129 520.736 42.7347 520.736 Q40.3476 520.736 39.0745 522.359 Q37.8013 523.951 36.6237 529.393 L36.1462 531.43 Q35.0004 536.873 32.6451 539.292 Q30.258 541.711 26.1202 541.711 Q21.0913 541.711 18.3541 538.146 Q15.6168 534.581 15.6168 528.025 Q15.6168 524.778 16.0943 521.914 Q16.5717 519.049 17.5265 516.63 Z\" fill=\"#000000\" fill-rule=\"evenodd\" fill-opacity=\"1\" /><path clip-path=\"url(#clip550)\" d=\"M6.35473 499.602 L16.4762 499.602 L16.4762 487.539 L21.0277 487.539 L21.0277 499.602 L40.3794 499.602 Q44.7399 499.602 45.9813 498.424 Q47.2226 497.215 47.2226 493.554 L47.2226 487.539 L52.1242 487.539 L52.1242 493.554 Q52.1242 500.334 49.6097 502.912 Q47.0634 505.49 40.3794 505.49 L21.0277 505.49 L21.0277 509.787 L16.4762 509.787 L16.4762 505.49 L6.35473 505.49 L6.35473 499.602 Z\" fill=\"#000000\" fill-rule=\"evenodd\" fill-opacity=\"1\" /><circle clip-path=\"url(#clip552)\" cx=\"280.856\" cy=\"1019.39\" r=\"14\" fill=\"#009af9\" fill-rule=\"evenodd\" fill-opacity=\"1\" stroke=\"#000000\" stroke-opacity=\"1\" stroke-width=\"2.4\"/>\n",
       "<circle clip-path=\"url(#clip552)\" cx=\"280.856\" cy=\"955.397\" r=\"14\" fill=\"#009af9\" fill-rule=\"evenodd\" fill-opacity=\"1\" stroke=\"#000000\" stroke-opacity=\"1\" stroke-width=\"2.4\"/>\n",
       "<circle clip-path=\"url(#clip552)\" cx=\"568.221\" cy=\"1003.39\" r=\"14\" fill=\"#009af9\" fill-rule=\"evenodd\" fill-opacity=\"1\" stroke=\"#000000\" stroke-opacity=\"1\" stroke-width=\"2.4\"/>\n",
       "<circle clip-path=\"url(#clip552)\" cx=\"568.221\" cy=\"859.415\" r=\"14\" fill=\"#009af9\" fill-rule=\"evenodd\" fill-opacity=\"1\" stroke=\"#000000\" stroke-opacity=\"1\" stroke-width=\"2.4\"/>\n",
       "<circle clip-path=\"url(#clip552)\" cx=\"664.009\" cy=\"907.406\" r=\"14\" fill=\"#009af9\" fill-rule=\"evenodd\" fill-opacity=\"1\" stroke=\"#000000\" stroke-opacity=\"1\" stroke-width=\"2.4\"/>\n",
       "<circle clip-path=\"url(#clip552)\" cx=\"759.797\" cy=\"955.397\" r=\"14\" fill=\"#009af9\" fill-rule=\"evenodd\" fill-opacity=\"1\" stroke=\"#000000\" stroke-opacity=\"1\" stroke-width=\"2.4\"/>\n",
       "<circle clip-path=\"url(#clip552)\" cx=\"855.585\" cy=\"891.409\" r=\"14\" fill=\"#009af9\" fill-rule=\"evenodd\" fill-opacity=\"1\" stroke=\"#000000\" stroke-opacity=\"1\" stroke-width=\"2.4\"/>\n",
       "<circle clip-path=\"url(#clip552)\" cx=\"855.585\" cy=\"827.42\" r=\"14\" fill=\"#009af9\" fill-rule=\"evenodd\" fill-opacity=\"1\" stroke=\"#000000\" stroke-opacity=\"1\" stroke-width=\"2.4\"/>\n",
       "<circle clip-path=\"url(#clip552)\" cx=\"855.585\" cy=\"763.432\" r=\"14\" fill=\"#009af9\" fill-rule=\"evenodd\" fill-opacity=\"1\" stroke=\"#000000\" stroke-opacity=\"1\" stroke-width=\"2.4\"/>\n",
       "<circle clip-path=\"url(#clip552)\" cx=\"951.374\" cy=\"899.407\" r=\"14\" fill=\"#009af9\" fill-rule=\"evenodd\" fill-opacity=\"1\" stroke=\"#000000\" stroke-opacity=\"1\" stroke-width=\"2.4\"/>\n",
       "<circle clip-path=\"url(#clip552)\" cx=\"951.374\" cy=\"811.423\" r=\"14\" fill=\"#009af9\" fill-rule=\"evenodd\" fill-opacity=\"1\" stroke=\"#000000\" stroke-opacity=\"1\" stroke-width=\"2.4\"/>\n",
       "<circle clip-path=\"url(#clip552)\" cx=\"1047.16\" cy=\"923.403\" r=\"14\" fill=\"#009af9\" fill-rule=\"evenodd\" fill-opacity=\"1\" stroke=\"#000000\" stroke-opacity=\"1\" stroke-width=\"2.4\"/>\n",
       "<circle clip-path=\"url(#clip552)\" cx=\"1047.16\" cy=\"875.412\" r=\"14\" fill=\"#009af9\" fill-rule=\"evenodd\" fill-opacity=\"1\" stroke=\"#000000\" stroke-opacity=\"1\" stroke-width=\"2.4\"/>\n",
       "<circle clip-path=\"url(#clip552)\" cx=\"1047.16\" cy=\"843.417\" r=\"14\" fill=\"#009af9\" fill-rule=\"evenodd\" fill-opacity=\"1\" stroke=\"#000000\" stroke-opacity=\"1\" stroke-width=\"2.4\"/>\n",
       "<circle clip-path=\"url(#clip552)\" cx=\"1047.16\" cy=\"811.423\" r=\"14\" fill=\"#009af9\" fill-rule=\"evenodd\" fill-opacity=\"1\" stroke=\"#000000\" stroke-opacity=\"1\" stroke-width=\"2.4\"/>\n",
       "<circle clip-path=\"url(#clip552)\" cx=\"1142.95\" cy=\"827.42\" r=\"14\" fill=\"#009af9\" fill-rule=\"evenodd\" fill-opacity=\"1\" stroke=\"#000000\" stroke-opacity=\"1\" stroke-width=\"2.4\"/>\n",
       "<circle clip-path=\"url(#clip552)\" cx=\"1142.95\" cy=\"763.432\" r=\"14\" fill=\"#009af9\" fill-rule=\"evenodd\" fill-opacity=\"1\" stroke=\"#000000\" stroke-opacity=\"1\" stroke-width=\"2.4\"/>\n",
       "<circle clip-path=\"url(#clip552)\" cx=\"1142.95\" cy=\"763.432\" r=\"14\" fill=\"#009af9\" fill-rule=\"evenodd\" fill-opacity=\"1\" stroke=\"#000000\" stroke-opacity=\"1\" stroke-width=\"2.4\"/>\n",
       "<circle clip-path=\"url(#clip552)\" cx=\"1142.95\" cy=\"667.45\" r=\"14\" fill=\"#009af9\" fill-rule=\"evenodd\" fill-opacity=\"1\" stroke=\"#000000\" stroke-opacity=\"1\" stroke-width=\"2.4\"/>\n",
       "<circle clip-path=\"url(#clip552)\" cx=\"1238.74\" cy=\"827.42\" r=\"14\" fill=\"#009af9\" fill-rule=\"evenodd\" fill-opacity=\"1\" stroke=\"#000000\" stroke-opacity=\"1\" stroke-width=\"2.4\"/>\n",
       "<circle clip-path=\"url(#clip552)\" cx=\"1238.74\" cy=\"747.435\" r=\"14\" fill=\"#009af9\" fill-rule=\"evenodd\" fill-opacity=\"1\" stroke=\"#000000\" stroke-opacity=\"1\" stroke-width=\"2.4\"/>\n",
       "<circle clip-path=\"url(#clip552)\" cx=\"1238.74\" cy=\"555.47\" r=\"14\" fill=\"#009af9\" fill-rule=\"evenodd\" fill-opacity=\"1\" stroke=\"#000000\" stroke-opacity=\"1\" stroke-width=\"2.4\"/>\n",
       "<circle clip-path=\"url(#clip552)\" cx=\"1238.74\" cy=\"395.5\" r=\"14\" fill=\"#009af9\" fill-rule=\"evenodd\" fill-opacity=\"1\" stroke=\"#000000\" stroke-opacity=\"1\" stroke-width=\"2.4\"/>\n",
       "<circle clip-path=\"url(#clip552)\" cx=\"1334.53\" cy=\"875.412\" r=\"14\" fill=\"#009af9\" fill-rule=\"evenodd\" fill-opacity=\"1\" stroke=\"#000000\" stroke-opacity=\"1\" stroke-width=\"2.4\"/>\n",
       "<circle clip-path=\"url(#clip552)\" cx=\"1334.53\" cy=\"827.42\" r=\"14\" fill=\"#009af9\" fill-rule=\"evenodd\" fill-opacity=\"1\" stroke=\"#000000\" stroke-opacity=\"1\" stroke-width=\"2.4\"/>\n",
       "<circle clip-path=\"url(#clip552)\" cx=\"1334.53\" cy=\"603.462\" r=\"14\" fill=\"#009af9\" fill-rule=\"evenodd\" fill-opacity=\"1\" stroke=\"#000000\" stroke-opacity=\"1\" stroke-width=\"2.4\"/>\n",
       "<circle clip-path=\"url(#clip552)\" cx=\"1430.32\" cy=\"779.429\" r=\"14\" fill=\"#009af9\" fill-rule=\"evenodd\" fill-opacity=\"1\" stroke=\"#000000\" stroke-opacity=\"1\" stroke-width=\"2.4\"/>\n",
       "<circle clip-path=\"url(#clip552)\" cx=\"1430.32\" cy=\"715.441\" r=\"14\" fill=\"#009af9\" fill-rule=\"evenodd\" fill-opacity=\"1\" stroke=\"#000000\" stroke-opacity=\"1\" stroke-width=\"2.4\"/>\n",
       "<circle clip-path=\"url(#clip552)\" cx=\"1526.1\" cy=\"779.429\" r=\"14\" fill=\"#009af9\" fill-rule=\"evenodd\" fill-opacity=\"1\" stroke=\"#000000\" stroke-opacity=\"1\" stroke-width=\"2.4\"/>\n",
       "<circle clip-path=\"url(#clip552)\" cx=\"1526.1\" cy=\"715.441\" r=\"14\" fill=\"#009af9\" fill-rule=\"evenodd\" fill-opacity=\"1\" stroke=\"#000000\" stroke-opacity=\"1\" stroke-width=\"2.4\"/>\n",
       "<circle clip-path=\"url(#clip552)\" cx=\"1526.1\" cy=\"635.456\" r=\"14\" fill=\"#009af9\" fill-rule=\"evenodd\" fill-opacity=\"1\" stroke=\"#000000\" stroke-opacity=\"1\" stroke-width=\"2.4\"/>\n",
       "<circle clip-path=\"url(#clip552)\" cx=\"1621.89\" cy=\"699.444\" r=\"14\" fill=\"#009af9\" fill-rule=\"evenodd\" fill-opacity=\"1\" stroke=\"#000000\" stroke-opacity=\"1\" stroke-width=\"2.4\"/>\n",
       "<circle clip-path=\"url(#clip552)\" cx=\"1621.89\" cy=\"587.465\" r=\"14\" fill=\"#009af9\" fill-rule=\"evenodd\" fill-opacity=\"1\" stroke=\"#000000\" stroke-opacity=\"1\" stroke-width=\"2.4\"/>\n",
       "<circle clip-path=\"url(#clip552)\" cx=\"1621.89\" cy=\"427.494\" r=\"14\" fill=\"#009af9\" fill-rule=\"evenodd\" fill-opacity=\"1\" stroke=\"#000000\" stroke-opacity=\"1\" stroke-width=\"2.4\"/>\n",
       "<circle clip-path=\"url(#clip552)\" cx=\"1621.89\" cy=\"363.506\" r=\"14\" fill=\"#009af9\" fill-rule=\"evenodd\" fill-opacity=\"1\" stroke=\"#000000\" stroke-opacity=\"1\" stroke-width=\"2.4\"/>\n",
       "<circle clip-path=\"url(#clip552)\" cx=\"1717.68\" cy=\"747.435\" r=\"14\" fill=\"#009af9\" fill-rule=\"evenodd\" fill-opacity=\"1\" stroke=\"#000000\" stroke-opacity=\"1\" stroke-width=\"2.4\"/>\n",
       "<circle clip-path=\"url(#clip552)\" cx=\"1717.68\" cy=\"667.45\" r=\"14\" fill=\"#009af9\" fill-rule=\"evenodd\" fill-opacity=\"1\" stroke=\"#000000\" stroke-opacity=\"1\" stroke-width=\"2.4\"/>\n",
       "<circle clip-path=\"url(#clip552)\" cx=\"1717.68\" cy=\"491.482\" r=\"14\" fill=\"#009af9\" fill-rule=\"evenodd\" fill-opacity=\"1\" stroke=\"#000000\" stroke-opacity=\"1\" stroke-width=\"2.4\"/>\n",
       "<circle clip-path=\"url(#clip552)\" cx=\"1813.47\" cy=\"779.429\" r=\"14\" fill=\"#009af9\" fill-rule=\"evenodd\" fill-opacity=\"1\" stroke=\"#000000\" stroke-opacity=\"1\" stroke-width=\"2.4\"/>\n",
       "<circle clip-path=\"url(#clip552)\" cx=\"1813.47\" cy=\"651.453\" r=\"14\" fill=\"#009af9\" fill-rule=\"evenodd\" fill-opacity=\"1\" stroke=\"#000000\" stroke-opacity=\"1\" stroke-width=\"2.4\"/>\n",
       "<circle clip-path=\"url(#clip552)\" cx=\"1813.47\" cy=\"619.459\" r=\"14\" fill=\"#009af9\" fill-rule=\"evenodd\" fill-opacity=\"1\" stroke=\"#000000\" stroke-opacity=\"1\" stroke-width=\"2.4\"/>\n",
       "<circle clip-path=\"url(#clip552)\" cx=\"1813.47\" cy=\"587.465\" r=\"14\" fill=\"#009af9\" fill-rule=\"evenodd\" fill-opacity=\"1\" stroke=\"#000000\" stroke-opacity=\"1\" stroke-width=\"2.4\"/>\n",
       "<circle clip-path=\"url(#clip552)\" cx=\"1813.47\" cy=\"523.476\" r=\"14\" fill=\"#009af9\" fill-rule=\"evenodd\" fill-opacity=\"1\" stroke=\"#000000\" stroke-opacity=\"1\" stroke-width=\"2.4\"/>\n",
       "<circle clip-path=\"url(#clip552)\" cx=\"2005.04\" cy=\"507.479\" r=\"14\" fill=\"#009af9\" fill-rule=\"evenodd\" fill-opacity=\"1\" stroke=\"#000000\" stroke-opacity=\"1\" stroke-width=\"2.4\"/>\n",
       "<circle clip-path=\"url(#clip552)\" cx=\"2100.83\" cy=\"603.462\" r=\"14\" fill=\"#009af9\" fill-rule=\"evenodd\" fill-opacity=\"1\" stroke=\"#000000\" stroke-opacity=\"1\" stroke-width=\"2.4\"/>\n",
       "<circle clip-path=\"url(#clip552)\" cx=\"2196.62\" cy=\"475.485\" r=\"14\" fill=\"#009af9\" fill-rule=\"evenodd\" fill-opacity=\"1\" stroke=\"#000000\" stroke-opacity=\"1\" stroke-width=\"2.4\"/>\n",
       "<circle clip-path=\"url(#clip552)\" cx=\"2196.62\" cy=\"299.518\" r=\"14\" fill=\"#009af9\" fill-rule=\"evenodd\" fill-opacity=\"1\" stroke=\"#000000\" stroke-opacity=\"1\" stroke-width=\"2.4\"/>\n",
       "<circle clip-path=\"url(#clip552)\" cx=\"2196.62\" cy=\"291.519\" r=\"14\" fill=\"#009af9\" fill-rule=\"evenodd\" fill-opacity=\"1\" stroke=\"#000000\" stroke-opacity=\"1\" stroke-width=\"2.4\"/>\n",
       "<circle clip-path=\"url(#clip552)\" cx=\"2196.62\" cy=\"75.5589\" r=\"14\" fill=\"#009af9\" fill-rule=\"evenodd\" fill-opacity=\"1\" stroke=\"#000000\" stroke-opacity=\"1\" stroke-width=\"2.4\"/>\n",
       "<circle clip-path=\"url(#clip552)\" cx=\"2292.41\" cy=\"355.507\" r=\"14\" fill=\"#009af9\" fill-rule=\"evenodd\" fill-opacity=\"1\" stroke=\"#000000\" stroke-opacity=\"1\" stroke-width=\"2.4\"/>\n",
       "</svg>\n"
      ]
     },
     "execution_count": 63,
     "metadata": {},
     "output_type": "execute_result"
    }
   ],
   "source": [
    "scatter(data_cars[:,\"Speed\"], data_cars[:,\"Dist\"], \n",
    "            legend=false, \n",
    "            xlabel = \"Speed\",\n",
    "            ylabel = \"Dist\",\n",
    "            size = (600,300))"
   ]
  },
  {
   "cell_type": "markdown",
   "metadata": {},
   "source": [
    "Wir wollen die lineare Abhängigkeit dieser Variablen mittels Regression schätzen.\n",
    "\n",
    "Beide Variablen sind eindimensional. D.h:"
   ]
  },
  {
   "cell_type": "code",
   "execution_count": 64,
   "metadata": {},
   "outputs": [],
   "source": [
    "D = 1; N = 1;"
   ]
  },
  {
   "cell_type": "markdown",
   "metadata": {},
   "source": [
    "## Aufteilen der Daten"
   ]
  },
  {
   "cell_type": "markdown",
   "metadata": {},
   "source": [
    "Wir teilen die Daten in Trainings- und Testdaten auf.\n",
    "\n",
    "Die Wahl soll zufällig sein und $75\\%$ der Daten sollen Trainingsdaten sein."
   ]
  },
  {
   "cell_type": "code",
   "execution_count": 65,
   "metadata": {},
   "outputs": [],
   "source": [
    "k = size(data_cars, 1)\n",
    "n = round(Int, k * 0.75);"
   ]
  },
  {
   "cell_type": "markdown",
   "metadata": {},
   "source": [
    "Die Trainingsdaten speichern wir in den Vektoren `X` und `Y`."
   ]
  },
  {
   "cell_type": "code",
   "execution_count": 66,
   "metadata": {},
   "outputs": [],
   "source": [
    "i_training = sample(1:k, n, replace = false)\n",
    "X = data_cars[i_training,\"Speed\"]\n",
    "Y = data_cars[i_training,\"Dist\"];"
   ]
  },
  {
   "cell_type": "markdown",
   "metadata": {},
   "source": [
    "Die Testdaten speichern wir in den Vektoren `X_test` und `Y_test`."
   ]
  },
  {
   "cell_type": "code",
   "execution_count": 67,
   "metadata": {},
   "outputs": [],
   "source": [
    "i_test = setdiff(1:k, i_training)\n",
    "X_test = data_cars[i_test,\"Speed\"]\n",
    "Y_test = data_cars[i_test,\"Dist\"];"
   ]
  },
  {
   "cell_type": "markdown",
   "metadata": {},
   "source": [
    "## Definition des Modells\n",
    "\n",
    "Wir definieren nun das deterministische lineare Modell $f:\\mathbb R^D \\to \\mathbb R^N$:"
   ]
  },
  {
   "cell_type": "code",
   "execution_count": 68,
   "metadata": {},
   "outputs": [],
   "source": [
    "f(x::Number, θ) = θ[2] * x + θ[1];"
   ]
  },
  {
   "cell_type": "markdown",
   "metadata": {},
   "source": [
    "Da $N=1$ können wir für `x` den Typ `Number` angeben. \n",
    "\n",
    "Es wird später außerdem hilfreich sein, per Multiple-Dispatch die Definition von `f` auf Vektoren zu erweitern."
   ]
  },
  {
   "cell_type": "code",
   "execution_count": 69,
   "metadata": {},
   "outputs": [
    {
     "data": {
      "text/plain": [
       "f (generic function with 2 methods)"
      ]
     },
     "execution_count": 69,
     "metadata": {},
     "output_type": "execute_result"
    }
   ],
   "source": [
    "f(X::Vector, θ) = [f(x, θ) for x in X]"
   ]
  },
  {
   "cell_type": "markdown",
   "metadata": {},
   "source": [
    "Wir definieren weiterhin das statistische Modell für die Varianz $\\sigma^2=10$."
   ]
  },
  {
   "cell_type": "code",
   "execution_count": 70,
   "metadata": {},
   "outputs": [],
   "source": [
    "σ² = 10\n",
    "s = sqrt(σ²)\n",
    "Φ(x::Number, θ) = s * randn() + f(x, θ)\n",
    "Φ(X::Vector, θ) = [Φ(x, θ) for x in X];"
   ]
  },
  {
   "cell_type": "markdown",
   "metadata": {},
   "source": [
    "Wir definieren außerdem die Feature Matrix."
   ]
  },
  {
   "cell_type": "code",
   "execution_count": 71,
   "metadata": {},
   "outputs": [],
   "source": [
    "Ω = [ones(n) X];"
   ]
  },
  {
   "cell_type": "markdown",
   "metadata": {},
   "source": [
    "---\n",
    "## Training"
   ]
  },
  {
   "cell_type": "markdown",
   "metadata": {},
   "source": [
    "Jetzt trainieren wir unser Modell mit verschiedenen Methoden. "
   ]
  },
  {
   "cell_type": "markdown",
   "metadata": {},
   "source": [
    "#### Empirical Risk Minimization\n",
    "\n",
    "Bei ERM ist der Parameter durch $\\theta = \\Omega^\\dagger Y$ gegeben.\n",
    "\n",
    "Wir berechnen diesen Parameter wie folgt:"
   ]
  },
  {
   "cell_type": "code",
   "execution_count": 72,
   "metadata": {},
   "outputs": [],
   "source": [
    "θ_ERM = Ω\\Y;"
   ]
  },
  {
   "cell_type": "markdown",
   "metadata": {},
   "source": [
    "ERM hat die folgenden Parameter für $f_\\theta(x)=ax+b$ geschätzt."
   ]
  },
  {
   "cell_type": "code",
   "execution_count": 73,
   "metadata": {},
   "outputs": [
    {
     "name": "stdout",
     "output_type": "stream",
     "text": [
      "a = 3.518678282443824, b = -13.882601708534215\n"
     ]
    }
   ],
   "source": [
    "println(\"a = $(θ_ERM[2]), b = $(θ_ERM[1])\")"
   ]
  },
  {
   "cell_type": "markdown",
   "metadata": {},
   "source": [
    "Wir visualieren die geschätzte Funktion zusammen mit den Trainingsdaten."
   ]
  },
  {
   "cell_type": "code",
   "execution_count": 74,
   "metadata": {},
   "outputs": [
    {
     "data": {
      "image/svg+xml": [
       "<?xml version=\"1.0\" encoding=\"utf-8\"?>\n",
       "<svg xmlns=\"http://www.w3.org/2000/svg\" xmlns:xlink=\"http://www.w3.org/1999/xlink\" width=\"600\" height=\"300\" viewBox=\"0 0 2400 1200\">\n",
       "<defs>\n",
       "  <clipPath id=\"clip590\">\n",
       "    <rect x=\"0\" y=\"0\" width=\"2400\" height=\"1200\"/>\n",
       "  </clipPath>\n",
       "</defs>\n",
       "<path clip-path=\"url(#clip590)\" d=\"\n",
       "M0 1200 L2400 1200 L2400 0 L0 0  Z\n",
       "  \" fill=\"#ffffff\" fill-rule=\"evenodd\" fill-opacity=\"1\"/>\n",
       "<defs>\n",
       "  <clipPath id=\"clip591\">\n",
       "    <rect x=\"480\" y=\"0\" width=\"1681\" height=\"1200\"/>\n",
       "  </clipPath>\n",
       "</defs>\n",
       "<path clip-path=\"url(#clip590)\" d=\"\n",
       "M193.241 1047.7 L2352.76 1047.7 L2352.76 47.2441 L193.241 47.2441  Z\n",
       "  \" fill=\"#ffffff\" fill-rule=\"evenodd\" fill-opacity=\"1\"/>\n",
       "<defs>\n",
       "  <clipPath id=\"clip592\">\n",
       "    <rect x=\"193\" y=\"47\" width=\"2161\" height=\"1001\"/>\n",
       "  </clipPath>\n",
       "</defs>\n",
       "<polyline clip-path=\"url(#clip592)\" style=\"stroke:#000000; stroke-linecap:butt; stroke-linejoin:round; stroke-width:2; stroke-opacity:0.1; fill:none\" points=\"\n",
       "  431.514,1047.7 431.514,47.2441 \n",
       "  \"/>\n",
       "<polyline clip-path=\"url(#clip592)\" style=\"stroke:#000000; stroke-linecap:butt; stroke-linejoin:round; stroke-width:2; stroke-opacity:0.1; fill:none\" points=\"\n",
       "  874.401,1047.7 874.401,47.2441 \n",
       "  \"/>\n",
       "<polyline clip-path=\"url(#clip592)\" style=\"stroke:#000000; stroke-linecap:butt; stroke-linejoin:round; stroke-width:2; stroke-opacity:0.1; fill:none\" points=\"\n",
       "  1317.29,1047.7 1317.29,47.2441 \n",
       "  \"/>\n",
       "<polyline clip-path=\"url(#clip592)\" style=\"stroke:#000000; stroke-linecap:butt; stroke-linejoin:round; stroke-width:2; stroke-opacity:0.1; fill:none\" points=\"\n",
       "  1760.17,1047.7 1760.17,47.2441 \n",
       "  \"/>\n",
       "<polyline clip-path=\"url(#clip592)\" style=\"stroke:#000000; stroke-linecap:butt; stroke-linejoin:round; stroke-width:2; stroke-opacity:0.1; fill:none\" points=\"\n",
       "  2203.06,1047.7 2203.06,47.2441 \n",
       "  \"/>\n",
       "<polyline clip-path=\"url(#clip590)\" style=\"stroke:#000000; stroke-linecap:butt; stroke-linejoin:round; stroke-width:4; stroke-opacity:1; fill:none\" points=\"\n",
       "  193.241,1047.7 2352.76,1047.7 \n",
       "  \"/>\n",
       "<polyline clip-path=\"url(#clip590)\" style=\"stroke:#000000; stroke-linecap:butt; stroke-linejoin:round; stroke-width:4; stroke-opacity:1; fill:none\" points=\"\n",
       "  431.514,1047.7 431.514,1028.8 \n",
       "  \"/>\n",
       "<polyline clip-path=\"url(#clip590)\" style=\"stroke:#000000; stroke-linecap:butt; stroke-linejoin:round; stroke-width:4; stroke-opacity:1; fill:none\" points=\"\n",
       "  874.401,1047.7 874.401,1028.8 \n",
       "  \"/>\n",
       "<polyline clip-path=\"url(#clip590)\" style=\"stroke:#000000; stroke-linecap:butt; stroke-linejoin:round; stroke-width:4; stroke-opacity:1; fill:none\" points=\"\n",
       "  1317.29,1047.7 1317.29,1028.8 \n",
       "  \"/>\n",
       "<polyline clip-path=\"url(#clip590)\" style=\"stroke:#000000; stroke-linecap:butt; stroke-linejoin:round; stroke-width:4; stroke-opacity:1; fill:none\" points=\"\n",
       "  1760.17,1047.7 1760.17,1028.8 \n",
       "  \"/>\n",
       "<polyline clip-path=\"url(#clip590)\" style=\"stroke:#000000; stroke-linecap:butt; stroke-linejoin:round; stroke-width:4; stroke-opacity:1; fill:none\" points=\"\n",
       "  2203.06,1047.7 2203.06,1028.8 \n",
       "  \"/>\n",
       "<path clip-path=\"url(#clip590)\" d=\"M421.792 1075.54 L440.148 1075.54 L440.148 1079.48 L426.074 1079.48 L426.074 1087.95 Q427.093 1087.6 428.111 1087.44 Q429.13 1087.25 430.148 1087.25 Q435.935 1087.25 439.315 1090.42 Q442.694 1093.6 442.694 1099.01 Q442.694 1104.59 439.222 1107.69 Q435.75 1110.77 429.431 1110.77 Q427.255 1110.77 424.986 1110.4 Q422.741 1110.03 420.333 1109.29 L420.333 1104.59 Q422.417 1105.72 424.639 1106.28 Q426.861 1106.84 429.338 1106.84 Q433.343 1106.84 435.681 1104.73 Q438.019 1102.62 438.019 1099.01 Q438.019 1095.4 435.681 1093.29 Q433.343 1091.19 429.338 1091.19 Q427.463 1091.19 425.588 1091.6 Q423.736 1092.02 421.792 1092.9 L421.792 1075.54 Z\" fill=\"#000000\" fill-rule=\"evenodd\" fill-opacity=\"1\" /><path clip-path=\"url(#clip590)\" d=\"M849.088 1106.16 L856.727 1106.16 L856.727 1079.8 L848.417 1081.47 L848.417 1077.21 L856.681 1075.54 L861.357 1075.54 L861.357 1106.16 L868.995 1106.16 L868.995 1110.1 L849.088 1110.1 L849.088 1106.16 Z\" fill=\"#000000\" fill-rule=\"evenodd\" fill-opacity=\"1\" /><path clip-path=\"url(#clip590)\" d=\"M888.44 1078.62 Q884.829 1078.62 883 1082.18 Q881.194 1085.72 881.194 1092.85 Q881.194 1099.96 883 1103.53 Q884.829 1107.07 888.44 1107.07 Q892.074 1107.07 893.88 1103.53 Q895.708 1099.96 895.708 1092.85 Q895.708 1085.72 893.88 1082.18 Q892.074 1078.62 888.44 1078.62 M888.44 1074.91 Q894.25 1074.91 897.305 1079.52 Q900.384 1084.1 900.384 1092.85 Q900.384 1101.58 897.305 1106.19 Q894.25 1110.77 888.44 1110.77 Q882.63 1110.77 879.551 1106.19 Q876.495 1101.58 876.495 1092.85 Q876.495 1084.1 879.551 1079.52 Q882.63 1074.91 888.44 1074.91 Z\" fill=\"#000000\" fill-rule=\"evenodd\" fill-opacity=\"1\" /><path clip-path=\"url(#clip590)\" d=\"M1292.47 1106.16 L1300.11 1106.16 L1300.11 1079.8 L1291.8 1081.47 L1291.8 1077.21 L1300.06 1075.54 L1304.74 1075.54 L1304.74 1106.16 L1312.38 1106.16 L1312.38 1110.1 L1292.47 1110.1 L1292.47 1106.16 Z\" fill=\"#000000\" fill-rule=\"evenodd\" fill-opacity=\"1\" /><path clip-path=\"url(#clip590)\" d=\"M1321.87 1075.54 L1340.23 1075.54 L1340.23 1079.48 L1326.15 1079.48 L1326.15 1087.95 Q1327.17 1087.6 1328.19 1087.44 Q1329.21 1087.25 1330.23 1087.25 Q1336.01 1087.25 1339.39 1090.42 Q1342.77 1093.6 1342.77 1099.01 Q1342.77 1104.59 1339.3 1107.69 Q1335.83 1110.77 1329.51 1110.77 Q1327.33 1110.77 1325.06 1110.4 Q1322.82 1110.03 1320.41 1109.29 L1320.41 1104.59 Q1322.5 1105.72 1324.72 1106.28 Q1326.94 1106.84 1329.42 1106.84 Q1333.42 1106.84 1335.76 1104.73 Q1338.1 1102.62 1338.1 1099.01 Q1338.1 1095.4 1335.76 1093.29 Q1333.42 1091.19 1329.42 1091.19 Q1327.54 1091.19 1325.67 1091.6 Q1323.81 1092.02 1321.87 1092.9 L1321.87 1075.54 Z\" fill=\"#000000\" fill-rule=\"evenodd\" fill-opacity=\"1\" /><path clip-path=\"url(#clip590)\" d=\"M1738.95 1106.16 L1755.27 1106.16 L1755.27 1110.1 L1733.32 1110.1 L1733.32 1106.16 Q1735.98 1103.41 1740.57 1098.78 Q1745.17 1094.13 1746.35 1092.79 Q1748.6 1090.26 1749.48 1088.53 Q1750.38 1086.77 1750.38 1085.08 Q1750.38 1082.32 1748.44 1080.59 Q1746.52 1078.85 1743.41 1078.85 Q1741.22 1078.85 1738.76 1079.61 Q1736.33 1080.38 1733.55 1081.93 L1733.55 1077.21 Q1736.38 1076.07 1738.83 1075.49 Q1741.28 1074.91 1743.32 1074.91 Q1748.69 1074.91 1751.89 1077.6 Q1755.08 1080.29 1755.08 1084.78 Q1755.08 1086.91 1754.27 1088.83 Q1753.48 1090.72 1751.38 1093.32 Q1750.8 1093.99 1747.7 1097.21 Q1744.6 1100.4 1738.95 1106.16 Z\" fill=\"#000000\" fill-rule=\"evenodd\" fill-opacity=\"1\" /><path clip-path=\"url(#clip590)\" d=\"M1775.08 1078.62 Q1771.47 1078.62 1769.64 1082.18 Q1767.84 1085.72 1767.84 1092.85 Q1767.84 1099.96 1769.64 1103.53 Q1771.47 1107.07 1775.08 1107.07 Q1778.72 1107.07 1780.52 1103.53 Q1782.35 1099.96 1782.35 1092.85 Q1782.35 1085.72 1780.52 1082.18 Q1778.72 1078.62 1775.08 1078.62 M1775.08 1074.91 Q1780.89 1074.91 1783.95 1079.52 Q1787.03 1084.1 1787.03 1092.85 Q1787.03 1101.58 1783.95 1106.19 Q1780.89 1110.77 1775.08 1110.77 Q1769.27 1110.77 1766.19 1106.19 Q1763.14 1101.58 1763.14 1092.85 Q1763.14 1084.1 1766.19 1079.52 Q1769.27 1074.91 1775.08 1074.91 Z\" fill=\"#000000\" fill-rule=\"evenodd\" fill-opacity=\"1\" /><path clip-path=\"url(#clip590)\" d=\"M2182.33 1106.16 L2198.65 1106.16 L2198.65 1110.1 L2176.71 1110.1 L2176.71 1106.16 Q2179.37 1103.41 2183.95 1098.78 Q2188.56 1094.13 2189.74 1092.79 Q2191.98 1090.26 2192.86 1088.53 Q2193.77 1086.77 2193.77 1085.08 Q2193.77 1082.32 2191.82 1080.59 Q2189.9 1078.85 2186.8 1078.85 Q2184.6 1078.85 2182.15 1079.61 Q2179.72 1080.38 2176.94 1081.93 L2176.94 1077.21 Q2179.76 1076.07 2182.22 1075.49 Q2184.67 1074.91 2186.71 1074.91 Q2192.08 1074.91 2195.27 1077.6 Q2198.47 1080.29 2198.47 1084.78 Q2198.47 1086.91 2197.66 1088.83 Q2196.87 1090.72 2194.76 1093.32 Q2194.18 1093.99 2191.08 1097.21 Q2187.98 1100.4 2182.33 1106.16 Z\" fill=\"#000000\" fill-rule=\"evenodd\" fill-opacity=\"1\" /><path clip-path=\"url(#clip590)\" d=\"M2208.51 1075.54 L2226.87 1075.54 L2226.87 1079.48 L2212.79 1079.48 L2212.79 1087.95 Q2213.81 1087.6 2214.83 1087.44 Q2215.85 1087.25 2216.87 1087.25 Q2222.66 1087.25 2226.03 1090.42 Q2229.41 1093.6 2229.41 1099.01 Q2229.41 1104.59 2225.94 1107.69 Q2222.47 1110.77 2216.15 1110.77 Q2213.97 1110.77 2211.71 1110.4 Q2209.46 1110.03 2207.05 1109.29 L2207.05 1104.59 Q2209.14 1105.72 2211.36 1106.28 Q2213.58 1106.84 2216.06 1106.84 Q2220.06 1106.84 2222.4 1104.73 Q2224.74 1102.62 2224.74 1099.01 Q2224.74 1095.4 2222.4 1093.29 Q2220.06 1091.19 2216.06 1091.19 Q2214.18 1091.19 2212.31 1091.6 Q2210.46 1092.02 2208.51 1092.9 L2208.51 1075.54 Z\" fill=\"#000000\" fill-rule=\"evenodd\" fill-opacity=\"1\" /><path clip-path=\"url(#clip590)\" d=\"M1206.52 1146.6 L1206.52 1152.87 Q1202.86 1151.12 1199.62 1150.26 Q1196.37 1149.4 1193.35 1149.4 Q1188.1 1149.4 1185.23 1151.44 Q1182.4 1153.48 1182.4 1157.23 Q1182.4 1160.39 1184.28 1162.01 Q1186.19 1163.6 1191.47 1164.59 L1195.35 1165.38 Q1202.55 1166.75 1205.95 1170.22 Q1209.39 1173.66 1209.39 1179.45 Q1209.39 1186.36 1204.74 1189.92 Q1200.13 1193.49 1191.18 1193.49 Q1187.81 1193.49 1183.99 1192.72 Q1180.2 1191.96 1176.13 1190.46 L1176.13 1183.84 Q1180.04 1186.04 1183.8 1187.15 Q1187.55 1188.27 1191.18 1188.27 Q1196.69 1188.27 1199.68 1186.1 Q1202.67 1183.94 1202.67 1179.93 Q1202.67 1176.43 1200.51 1174.45 Q1198.38 1172.48 1193.47 1171.49 L1189.56 1170.73 Q1182.37 1169.3 1179.15 1166.24 Q1175.94 1163.19 1175.94 1157.74 Q1175.94 1151.44 1180.36 1147.81 Q1184.82 1144.18 1192.62 1144.18 Q1195.96 1144.18 1199.43 1144.79 Q1202.9 1145.39 1206.52 1146.6 Z\" fill=\"#000000\" fill-rule=\"evenodd\" fill-opacity=\"1\" /><path clip-path=\"url(#clip590)\" d=\"M1224.83 1187.22 L1224.83 1206.12 L1218.94 1206.12 L1218.94 1156.92 L1224.83 1156.92 L1224.83 1162.33 Q1226.67 1159.14 1229.47 1157.62 Q1232.31 1156.06 1236.22 1156.06 Q1242.71 1156.06 1246.76 1161.21 Q1250.83 1166.37 1250.83 1174.77 Q1250.83 1183.17 1246.76 1188.33 Q1242.71 1193.49 1236.22 1193.49 Q1232.31 1193.49 1229.47 1191.96 Q1226.67 1190.4 1224.83 1187.22 M1244.75 1174.77 Q1244.75 1168.31 1242.08 1164.65 Q1239.44 1160.96 1234.79 1160.96 Q1230.14 1160.96 1227.47 1164.65 Q1224.83 1168.31 1224.83 1174.77 Q1224.83 1181.23 1227.47 1184.92 Q1230.14 1188.59 1234.79 1188.59 Q1239.44 1188.59 1242.08 1184.92 Q1244.75 1181.23 1244.75 1174.77 Z\" fill=\"#000000\" fill-rule=\"evenodd\" fill-opacity=\"1\" /><path clip-path=\"url(#clip590)\" d=\"M1291.03 1173.28 L1291.03 1176.14 L1264.1 1176.14 Q1264.48 1182.19 1267.73 1185.37 Q1271.01 1188.52 1276.83 1188.52 Q1280.21 1188.52 1283.36 1187.69 Q1286.54 1186.87 1289.66 1185.21 L1289.66 1190.75 Q1286.51 1192.09 1283.2 1192.79 Q1279.89 1193.49 1276.48 1193.49 Q1267.95 1193.49 1262.96 1188.52 Q1257.99 1183.56 1257.99 1175.09 Q1257.99 1166.34 1262.7 1161.21 Q1267.44 1156.06 1275.47 1156.06 Q1282.66 1156.06 1286.83 1160.7 Q1291.03 1165.32 1291.03 1173.28 M1285.17 1171.56 Q1285.11 1166.75 1282.47 1163.89 Q1279.86 1161.02 1275.53 1161.02 Q1270.63 1161.02 1267.67 1163.79 Q1264.74 1166.56 1264.29 1171.59 L1285.17 1171.56 Z\" fill=\"#000000\" fill-rule=\"evenodd\" fill-opacity=\"1\" /><path clip-path=\"url(#clip590)\" d=\"M1331.13 1173.28 L1331.13 1176.14 L1304.21 1176.14 Q1304.59 1182.19 1307.83 1185.37 Q1311.11 1188.52 1316.94 1188.52 Q1320.31 1188.52 1323.46 1187.69 Q1326.65 1186.87 1329.76 1185.21 L1329.76 1190.75 Q1326.61 1192.09 1323.3 1192.79 Q1319.99 1193.49 1316.59 1193.49 Q1308.06 1193.49 1303.06 1188.52 Q1298.1 1183.56 1298.1 1175.09 Q1298.1 1166.34 1302.81 1161.21 Q1307.55 1156.06 1315.57 1156.06 Q1322.76 1156.06 1326.93 1160.7 Q1331.13 1165.32 1331.13 1173.28 M1325.28 1171.56 Q1325.21 1166.75 1322.57 1163.89 Q1319.96 1161.02 1315.63 1161.02 Q1310.73 1161.02 1307.77 1163.79 Q1304.84 1166.56 1304.4 1171.59 L1325.28 1171.56 Z\" fill=\"#000000\" fill-rule=\"evenodd\" fill-opacity=\"1\" /><path clip-path=\"url(#clip590)\" d=\"M1364.2 1162.33 L1364.2 1143.04 L1370.06 1143.04 L1370.06 1192.56 L1364.2 1192.56 L1364.2 1187.22 Q1362.36 1190.4 1359.52 1191.96 Q1356.72 1193.49 1352.78 1193.49 Q1346.32 1193.49 1342.24 1188.33 Q1338.2 1183.17 1338.2 1174.77 Q1338.2 1166.37 1342.24 1161.21 Q1346.32 1156.06 1352.78 1156.06 Q1356.72 1156.06 1359.52 1157.62 Q1362.36 1159.14 1364.2 1162.33 M1344.25 1174.77 Q1344.25 1181.23 1346.89 1184.92 Q1349.56 1188.59 1354.21 1188.59 Q1358.86 1188.59 1361.53 1184.92 Q1364.2 1181.23 1364.2 1174.77 Q1364.2 1168.31 1361.53 1164.65 Q1358.86 1160.96 1354.21 1160.96 Q1349.56 1160.96 1346.89 1164.65 Q1344.25 1168.31 1344.25 1174.77 Z\" fill=\"#000000\" fill-rule=\"evenodd\" fill-opacity=\"1\" /><polyline clip-path=\"url(#clip592)\" style=\"stroke:#000000; stroke-linecap:butt; stroke-linejoin:round; stroke-width:2; stroke-opacity:0.1; fill:none\" points=\"\n",
       "  193.241,986.449 2352.76,986.449 \n",
       "  \"/>\n",
       "<polyline clip-path=\"url(#clip592)\" style=\"stroke:#000000; stroke-linecap:butt; stroke-linejoin:round; stroke-width:2; stroke-opacity:0.1; fill:none\" points=\"\n",
       "  193.241,788.429 2352.76,788.429 \n",
       "  \"/>\n",
       "<polyline clip-path=\"url(#clip592)\" style=\"stroke:#000000; stroke-linecap:butt; stroke-linejoin:round; stroke-width:2; stroke-opacity:0.1; fill:none\" points=\"\n",
       "  193.241,590.41 2352.76,590.41 \n",
       "  \"/>\n",
       "<polyline clip-path=\"url(#clip592)\" style=\"stroke:#000000; stroke-linecap:butt; stroke-linejoin:round; stroke-width:2; stroke-opacity:0.1; fill:none\" points=\"\n",
       "  193.241,392.39 2352.76,392.39 \n",
       "  \"/>\n",
       "<polyline clip-path=\"url(#clip592)\" style=\"stroke:#000000; stroke-linecap:butt; stroke-linejoin:round; stroke-width:2; stroke-opacity:0.1; fill:none\" points=\"\n",
       "  193.241,194.371 2352.76,194.371 \n",
       "  \"/>\n",
       "<polyline clip-path=\"url(#clip590)\" style=\"stroke:#000000; stroke-linecap:butt; stroke-linejoin:round; stroke-width:4; stroke-opacity:1; fill:none\" points=\"\n",
       "  193.241,1047.7 193.241,47.2441 \n",
       "  \"/>\n",
       "<polyline clip-path=\"url(#clip590)\" style=\"stroke:#000000; stroke-linecap:butt; stroke-linejoin:round; stroke-width:4; stroke-opacity:1; fill:none\" points=\"\n",
       "  193.241,986.449 212.139,986.449 \n",
       "  \"/>\n",
       "<polyline clip-path=\"url(#clip590)\" style=\"stroke:#000000; stroke-linecap:butt; stroke-linejoin:round; stroke-width:4; stroke-opacity:1; fill:none\" points=\"\n",
       "  193.241,788.429 212.139,788.429 \n",
       "  \"/>\n",
       "<polyline clip-path=\"url(#clip590)\" style=\"stroke:#000000; stroke-linecap:butt; stroke-linejoin:round; stroke-width:4; stroke-opacity:1; fill:none\" points=\"\n",
       "  193.241,590.41 212.139,590.41 \n",
       "  \"/>\n",
       "<polyline clip-path=\"url(#clip590)\" style=\"stroke:#000000; stroke-linecap:butt; stroke-linejoin:round; stroke-width:4; stroke-opacity:1; fill:none\" points=\"\n",
       "  193.241,392.39 212.139,392.39 \n",
       "  \"/>\n",
       "<polyline clip-path=\"url(#clip590)\" style=\"stroke:#000000; stroke-linecap:butt; stroke-linejoin:round; stroke-width:4; stroke-opacity:1; fill:none\" points=\"\n",
       "  193.241,194.371 212.139,194.371 \n",
       "  \"/>\n",
       "<path clip-path=\"url(#clip590)\" d=\"M145.297 972.247 Q141.686 972.247 139.857 975.812 Q138.051 979.354 138.051 986.484 Q138.051 993.59 139.857 997.155 Q141.686 1000.7 145.297 1000.7 Q148.931 1000.7 150.736 997.155 Q152.565 993.59 152.565 986.484 Q152.565 979.354 150.736 975.812 Q148.931 972.247 145.297 972.247 M145.297 968.544 Q151.107 968.544 154.162 973.15 Q157.241 977.734 157.241 986.484 Q157.241 995.21 154.162 999.817 Q151.107 1004.4 145.297 1004.4 Q139.486 1004.4 136.408 999.817 Q133.352 995.21 133.352 986.484 Q133.352 977.734 136.408 973.15 Q139.486 968.544 145.297 968.544 Z\" fill=\"#000000\" fill-rule=\"evenodd\" fill-opacity=\"1\" /><path clip-path=\"url(#clip590)\" d=\"M109.163 801.774 L125.482 801.774 L125.482 805.709 L103.538 805.709 L103.538 801.774 Q106.2 799.019 110.783 794.39 Q115.389 789.737 116.57 788.395 Q118.815 785.871 119.695 784.135 Q120.598 782.376 120.598 780.686 Q120.598 777.932 118.653 776.196 Q116.732 774.459 113.63 774.459 Q111.431 774.459 108.977 775.223 Q106.547 775.987 103.769 777.538 L103.769 772.816 Q106.593 771.682 109.047 771.103 Q111.5 770.524 113.538 770.524 Q118.908 770.524 122.102 773.209 Q125.297 775.895 125.297 780.385 Q125.297 782.515 124.487 784.436 Q123.699 786.334 121.593 788.927 Q121.014 789.598 117.912 792.816 Q114.811 796.01 109.163 801.774 Z\" fill=\"#000000\" fill-rule=\"evenodd\" fill-opacity=\"1\" /><path clip-path=\"url(#clip590)\" d=\"M145.297 774.228 Q141.686 774.228 139.857 777.793 Q138.051 781.334 138.051 788.464 Q138.051 795.57 139.857 799.135 Q141.686 802.677 145.297 802.677 Q148.931 802.677 150.736 799.135 Q152.565 795.57 152.565 788.464 Q152.565 781.334 150.736 777.793 Q148.931 774.228 145.297 774.228 M145.297 770.524 Q151.107 770.524 154.162 775.131 Q157.241 779.714 157.241 788.464 Q157.241 797.191 154.162 801.797 Q151.107 806.381 145.297 806.381 Q139.486 806.381 136.408 801.797 Q133.352 797.191 133.352 788.464 Q133.352 779.714 136.408 775.131 Q139.486 770.524 145.297 770.524 Z\" fill=\"#000000\" fill-rule=\"evenodd\" fill-opacity=\"1\" /><path clip-path=\"url(#clip590)\" d=\"M117.982 577.204 L106.176 595.653 L117.982 595.653 L117.982 577.204 M116.755 573.13 L122.635 573.13 L122.635 595.653 L127.565 595.653 L127.565 599.542 L122.635 599.542 L122.635 607.69 L117.982 607.69 L117.982 599.542 L102.38 599.542 L102.38 595.028 L116.755 573.13 Z\" fill=\"#000000\" fill-rule=\"evenodd\" fill-opacity=\"1\" /><path clip-path=\"url(#clip590)\" d=\"M145.297 576.208 Q141.686 576.208 139.857 579.773 Q138.051 583.315 138.051 590.444 Q138.051 597.551 139.857 601.116 Q141.686 604.657 145.297 604.657 Q148.931 604.657 150.736 601.116 Q152.565 597.551 152.565 590.444 Q152.565 583.315 150.736 579.773 Q148.931 576.208 145.297 576.208 M145.297 572.505 Q151.107 572.505 154.162 577.111 Q157.241 581.694 157.241 590.444 Q157.241 599.171 154.162 603.778 Q151.107 608.361 145.297 608.361 Q139.486 608.361 136.408 603.778 Q133.352 599.171 133.352 590.444 Q133.352 581.694 136.408 577.111 Q139.486 572.505 145.297 572.505 Z\" fill=\"#000000\" fill-rule=\"evenodd\" fill-opacity=\"1\" /><path clip-path=\"url(#clip590)\" d=\"M115.713 390.527 Q112.565 390.527 110.713 392.68 Q108.885 394.832 108.885 398.582 Q108.885 402.309 110.713 404.485 Q112.565 406.638 115.713 406.638 Q118.862 406.638 120.69 404.485 Q122.542 402.309 122.542 398.582 Q122.542 394.832 120.69 392.68 Q118.862 390.527 115.713 390.527 M124.996 375.874 L124.996 380.133 Q123.237 379.3 121.431 378.86 Q119.649 378.42 117.889 378.42 Q113.26 378.42 110.806 381.545 Q108.375 384.67 108.028 390.99 Q109.394 388.976 111.454 387.911 Q113.514 386.823 115.991 386.823 Q121.2 386.823 124.209 389.994 Q127.241 393.142 127.241 398.582 Q127.241 403.906 124.093 407.124 Q120.945 410.341 115.713 410.341 Q109.718 410.341 106.547 405.758 Q103.376 401.152 103.376 392.425 Q103.376 384.23 107.264 379.369 Q111.153 374.485 117.704 374.485 Q119.463 374.485 121.246 374.832 Q123.051 375.18 124.996 375.874 Z\" fill=\"#000000\" fill-rule=\"evenodd\" fill-opacity=\"1\" /><path clip-path=\"url(#clip590)\" d=\"M145.297 378.189 Q141.686 378.189 139.857 381.754 Q138.051 385.295 138.051 392.425 Q138.051 399.531 139.857 403.096 Q141.686 406.638 145.297 406.638 Q148.931 406.638 150.736 403.096 Q152.565 399.531 152.565 392.425 Q152.565 385.295 150.736 381.754 Q148.931 378.189 145.297 378.189 M145.297 374.485 Q151.107 374.485 154.162 379.092 Q157.241 383.675 157.241 392.425 Q157.241 401.152 154.162 405.758 Q151.107 410.341 145.297 410.341 Q139.486 410.341 136.408 405.758 Q133.352 401.152 133.352 392.425 Q133.352 383.675 136.408 379.092 Q139.486 374.485 145.297 374.485 Z\" fill=\"#000000\" fill-rule=\"evenodd\" fill-opacity=\"1\" /><path clip-path=\"url(#clip590)\" d=\"M115.135 195.239 Q111.801 195.239 109.88 197.021 Q107.982 198.803 107.982 201.928 Q107.982 205.053 109.88 206.836 Q111.801 208.618 115.135 208.618 Q118.468 208.618 120.389 206.836 Q122.311 205.03 122.311 201.928 Q122.311 198.803 120.389 197.021 Q118.491 195.239 115.135 195.239 M110.459 193.248 Q107.45 192.507 105.76 190.447 Q104.093 188.387 104.093 185.424 Q104.093 181.28 107.033 178.873 Q109.996 176.466 115.135 176.466 Q120.297 176.466 123.237 178.873 Q126.176 181.28 126.176 185.424 Q126.176 188.387 124.487 190.447 Q122.82 192.507 119.834 193.248 Q123.213 194.035 125.088 196.327 Q126.987 198.618 126.987 201.928 Q126.987 206.952 123.908 209.637 Q120.852 212.322 115.135 212.322 Q109.417 212.322 106.338 209.637 Q103.283 206.952 103.283 201.928 Q103.283 198.618 105.181 196.327 Q107.079 194.035 110.459 193.248 M108.746 185.864 Q108.746 188.549 110.413 190.054 Q112.102 191.558 115.135 191.558 Q118.144 191.558 119.834 190.054 Q121.547 188.549 121.547 185.864 Q121.547 183.179 119.834 181.674 Q118.144 180.169 115.135 180.169 Q112.102 180.169 110.413 181.674 Q108.746 183.179 108.746 185.864 Z\" fill=\"#000000\" fill-rule=\"evenodd\" fill-opacity=\"1\" /><path clip-path=\"url(#clip590)\" d=\"M145.297 180.169 Q141.686 180.169 139.857 183.734 Q138.051 187.276 138.051 194.405 Q138.051 201.512 139.857 205.077 Q141.686 208.618 145.297 208.618 Q148.931 208.618 150.736 205.077 Q152.565 201.512 152.565 194.405 Q152.565 187.276 150.736 183.734 Q148.931 180.169 145.297 180.169 M145.297 176.466 Q151.107 176.466 154.162 181.072 Q157.241 185.655 157.241 194.405 Q157.241 203.132 154.162 207.739 Q151.107 212.322 145.297 212.322 Q139.486 212.322 136.408 207.739 Q133.352 203.132 133.352 194.405 Q133.352 185.655 136.408 181.072 Q139.486 176.466 145.297 176.466 Z\" fill=\"#000000\" fill-rule=\"evenodd\" fill-opacity=\"1\" /><path clip-path=\"url(#clip590)\" d=\"M9.88769 600.976 L46.8406 600.976 L46.8406 593.21 Q46.8406 583.375 42.3846 578.823 Q37.9286 574.24 28.3164 574.24 Q18.7679 574.24 14.3437 578.823 Q9.88769 583.375 9.88769 593.21 L9.88769 600.976 M4.60416 607.405 L4.60416 594.196 Q4.60416 580.383 10.3651 573.921 Q16.0943 567.46 28.3164 567.46 Q40.6022 567.46 46.3632 573.953 Q52.1242 580.446 52.1242 594.196 L52.1242 607.405 L4.60416 607.405 Z\" fill=\"#000000\" fill-rule=\"evenodd\" fill-opacity=\"1\" /><path clip-path=\"url(#clip590)\" d=\"M16.4762 557.466 L16.4762 551.61 L52.1242 551.61 L52.1242 557.466 L16.4762 557.466 M2.59896 557.466 L2.59896 551.61 L10.015 551.61 L10.015 557.466 L2.59896 557.466 Z\" fill=\"#000000\" fill-rule=\"evenodd\" fill-opacity=\"1\" /><path clip-path=\"url(#clip590)\" d=\"M17.5265 516.63 L23.0647 516.63 Q21.7916 519.113 21.155 521.786 Q20.5184 524.46 20.5184 527.325 Q20.5184 531.685 21.8552 533.881 Q23.192 536.046 25.8656 536.046 Q27.9026 536.046 29.0803 534.486 Q30.2261 532.926 31.2765 528.216 L31.7221 526.211 Q33.0589 519.972 35.5097 517.362 Q37.9286 514.72 42.2891 514.72 Q47.2544 514.72 50.1508 518.667 Q53.0472 522.582 53.0472 529.457 Q53.0472 532.322 52.4743 535.441 Q51.9332 538.528 50.8192 541.966 L44.7718 541.966 Q46.4587 538.719 47.318 535.568 Q48.1456 532.417 48.1456 529.33 Q48.1456 525.192 46.7451 522.964 Q45.3129 520.736 42.7347 520.736 Q40.3476 520.736 39.0745 522.359 Q37.8013 523.951 36.6237 529.393 L36.1462 531.43 Q35.0004 536.873 32.6451 539.292 Q30.258 541.711 26.1202 541.711 Q21.0913 541.711 18.3541 538.146 Q15.6168 534.581 15.6168 528.025 Q15.6168 524.778 16.0943 521.914 Q16.5717 519.049 17.5265 516.63 Z\" fill=\"#000000\" fill-rule=\"evenodd\" fill-opacity=\"1\" /><path clip-path=\"url(#clip590)\" d=\"M6.35473 499.602 L16.4762 499.602 L16.4762 487.539 L21.0277 487.539 L21.0277 499.602 L40.3794 499.602 Q44.7399 499.602 45.9813 498.424 Q47.2226 497.215 47.2226 493.554 L47.2226 487.539 L52.1242 487.539 L52.1242 493.554 Q52.1242 500.334 49.6097 502.912 Q47.0634 505.49 40.3794 505.49 L21.0277 505.49 L21.0277 509.787 L16.4762 509.787 L16.4762 505.49 L6.35473 505.49 L6.35473 499.602 Z\" fill=\"#000000\" fill-rule=\"evenodd\" fill-opacity=\"1\" /><circle clip-path=\"url(#clip592)\" cx=\"1051.56\" cy=\"748.825\" r=\"14\" fill=\"#009af9\" fill-rule=\"evenodd\" fill-opacity=\"1\" stroke=\"#000000\" stroke-opacity=\"1\" stroke-width=\"2.4\"/>\n",
       "<circle clip-path=\"url(#clip592)\" cx=\"2114.48\" cy=\"293.38\" r=\"14\" fill=\"#009af9\" fill-rule=\"evenodd\" fill-opacity=\"1\" stroke=\"#000000\" stroke-opacity=\"1\" stroke-width=\"2.4\"/>\n",
       "<circle clip-path=\"url(#clip592)\" cx=\"1760.17\" cy=\"431.994\" r=\"14\" fill=\"#009af9\" fill-rule=\"evenodd\" fill-opacity=\"1\" stroke=\"#000000\" stroke-opacity=\"1\" stroke-width=\"2.4\"/>\n",
       "<circle clip-path=\"url(#clip592)\" cx=\"1140.13\" cy=\"531.004\" r=\"14\" fill=\"#009af9\" fill-rule=\"evenodd\" fill-opacity=\"1\" stroke=\"#000000\" stroke-opacity=\"1\" stroke-width=\"2.4\"/>\n",
       "<circle clip-path=\"url(#clip592)\" cx=\"1583.02\" cy=\"570.608\" r=\"14\" fill=\"#009af9\" fill-rule=\"evenodd\" fill-opacity=\"1\" stroke=\"#000000\" stroke-opacity=\"1\" stroke-width=\"2.4\"/>\n",
       "<circle clip-path=\"url(#clip592)\" cx=\"1494.44\" cy=\"590.41\" r=\"14\" fill=\"#009af9\" fill-rule=\"evenodd\" fill-opacity=\"1\" stroke=\"#000000\" stroke-opacity=\"1\" stroke-width=\"2.4\"/>\n",
       "<circle clip-path=\"url(#clip592)\" cx=\"1228.71\" cy=\"729.023\" r=\"14\" fill=\"#009af9\" fill-rule=\"evenodd\" fill-opacity=\"1\" stroke=\"#000000\" stroke-opacity=\"1\" stroke-width=\"2.4\"/>\n",
       "<circle clip-path=\"url(#clip592)\" cx=\"1760.17\" cy=\"669.618\" r=\"14\" fill=\"#009af9\" fill-rule=\"evenodd\" fill-opacity=\"1\" stroke=\"#000000\" stroke-opacity=\"1\" stroke-width=\"2.4\"/>\n",
       "<circle clip-path=\"url(#clip592)\" cx=\"2114.48\" cy=\"75.5589\" r=\"14\" fill=\"#009af9\" fill-rule=\"evenodd\" fill-opacity=\"1\" stroke=\"#000000\" stroke-opacity=\"1\" stroke-width=\"2.4\"/>\n",
       "<circle clip-path=\"url(#clip592)\" cx=\"1671.6\" cy=\"313.182\" r=\"14\" fill=\"#009af9\" fill-rule=\"evenodd\" fill-opacity=\"1\" stroke=\"#000000\" stroke-opacity=\"1\" stroke-width=\"2.4\"/>\n",
       "<circle clip-path=\"url(#clip592)\" cx=\"1405.86\" cy=\"669.618\" r=\"14\" fill=\"#009af9\" fill-rule=\"evenodd\" fill-opacity=\"1\" stroke=\"#000000\" stroke-opacity=\"1\" stroke-width=\"2.4\"/>\n",
       "<circle clip-path=\"url(#clip592)\" cx=\"1317.29\" cy=\"788.429\" r=\"14\" fill=\"#009af9\" fill-rule=\"evenodd\" fill-opacity=\"1\" stroke=\"#000000\" stroke-opacity=\"1\" stroke-width=\"2.4\"/>\n",
       "<circle clip-path=\"url(#clip592)\" cx=\"1937.33\" cy=\"332.984\" r=\"14\" fill=\"#009af9\" fill-rule=\"evenodd\" fill-opacity=\"1\" stroke=\"#000000\" stroke-opacity=\"1\" stroke-width=\"2.4\"/>\n",
       "<circle clip-path=\"url(#clip592)\" cx=\"1051.56\" cy=\"709.221\" r=\"14\" fill=\"#009af9\" fill-rule=\"evenodd\" fill-opacity=\"1\" stroke=\"#000000\" stroke-opacity=\"1\" stroke-width=\"2.4\"/>\n",
       "<circle clip-path=\"url(#clip592)\" cx=\"697.246\" cy=\"828.033\" r=\"14\" fill=\"#009af9\" fill-rule=\"evenodd\" fill-opacity=\"1\" stroke=\"#000000\" stroke-opacity=\"1\" stroke-width=\"2.4\"/>\n",
       "<circle clip-path=\"url(#clip592)\" cx=\"1760.17\" cy=\"471.598\" r=\"14\" fill=\"#009af9\" fill-rule=\"evenodd\" fill-opacity=\"1\" stroke=\"#000000\" stroke-opacity=\"1\" stroke-width=\"2.4\"/>\n",
       "<circle clip-path=\"url(#clip592)\" cx=\"1317.29\" cy=\"451.796\" r=\"14\" fill=\"#009af9\" fill-rule=\"evenodd\" fill-opacity=\"1\" stroke=\"#000000\" stroke-opacity=\"1\" stroke-width=\"2.4\"/>\n",
       "<circle clip-path=\"url(#clip592)\" cx=\"1140.13\" cy=\"649.816\" r=\"14\" fill=\"#009af9\" fill-rule=\"evenodd\" fill-opacity=\"1\" stroke=\"#000000\" stroke-opacity=\"1\" stroke-width=\"2.4\"/>\n",
       "<circle clip-path=\"url(#clip592)\" cx=\"962.978\" cy=\"818.132\" r=\"14\" fill=\"#009af9\" fill-rule=\"evenodd\" fill-opacity=\"1\" stroke=\"#000000\" stroke-opacity=\"1\" stroke-width=\"2.4\"/>\n",
       "<circle clip-path=\"url(#clip592)\" cx=\"342.937\" cy=\"966.647\" r=\"14\" fill=\"#009af9\" fill-rule=\"evenodd\" fill-opacity=\"1\" stroke=\"#000000\" stroke-opacity=\"1\" stroke-width=\"2.4\"/>\n",
       "<circle clip-path=\"url(#clip592)\" cx=\"2203.06\" cy=\"144.866\" r=\"14\" fill=\"#009af9\" fill-rule=\"evenodd\" fill-opacity=\"1\" stroke=\"#000000\" stroke-opacity=\"1\" stroke-width=\"2.4\"/>\n",
       "<circle clip-path=\"url(#clip592)\" cx=\"1228.71\" cy=\"194.371\" r=\"14\" fill=\"#009af9\" fill-rule=\"evenodd\" fill-opacity=\"1\" stroke=\"#000000\" stroke-opacity=\"1\" stroke-width=\"2.4\"/>\n",
       "<circle clip-path=\"url(#clip592)\" cx=\"1140.13\" cy=\"649.816\" r=\"14\" fill=\"#009af9\" fill-rule=\"evenodd\" fill-opacity=\"1\" stroke=\"#000000\" stroke-opacity=\"1\" stroke-width=\"2.4\"/>\n",
       "<circle clip-path=\"url(#clip592)\" cx=\"1051.56\" cy=\"847.835\" r=\"14\" fill=\"#009af9\" fill-rule=\"evenodd\" fill-opacity=\"1\" stroke=\"#000000\" stroke-opacity=\"1\" stroke-width=\"2.4\"/>\n",
       "<circle clip-path=\"url(#clip592)\" cx=\"874.401\" cy=\"729.023\" r=\"14\" fill=\"#009af9\" fill-rule=\"evenodd\" fill-opacity=\"1\" stroke=\"#000000\" stroke-opacity=\"1\" stroke-width=\"2.4\"/>\n",
       "<circle clip-path=\"url(#clip592)\" cx=\"1317.29\" cy=\"729.023\" r=\"14\" fill=\"#009af9\" fill-rule=\"evenodd\" fill-opacity=\"1\" stroke=\"#000000\" stroke-opacity=\"1\" stroke-width=\"2.4\"/>\n",
       "<circle clip-path=\"url(#clip592)\" cx=\"1494.44\" cy=\"669.618\" r=\"14\" fill=\"#009af9\" fill-rule=\"evenodd\" fill-opacity=\"1\" stroke=\"#000000\" stroke-opacity=\"1\" stroke-width=\"2.4\"/>\n",
       "<circle clip-path=\"url(#clip592)\" cx=\"1671.6\" cy=\"531.004\" r=\"14\" fill=\"#009af9\" fill-rule=\"evenodd\" fill-opacity=\"1\" stroke=\"#000000\" stroke-opacity=\"1\" stroke-width=\"2.4\"/>\n",
       "<circle clip-path=\"url(#clip592)\" cx=\"2025.91\" cy=\"451.796\" r=\"14\" fill=\"#009af9\" fill-rule=\"evenodd\" fill-opacity=\"1\" stroke=\"#000000\" stroke-opacity=\"1\" stroke-width=\"2.4\"/>\n",
       "<circle clip-path=\"url(#clip592)\" cx=\"608.669\" cy=\"768.627\" r=\"14\" fill=\"#009af9\" fill-rule=\"evenodd\" fill-opacity=\"1\" stroke=\"#000000\" stroke-opacity=\"1\" stroke-width=\"2.4\"/>\n",
       "<circle clip-path=\"url(#clip592)\" cx=\"608.669\" cy=\"946.845\" r=\"14\" fill=\"#009af9\" fill-rule=\"evenodd\" fill-opacity=\"1\" stroke=\"#000000\" stroke-opacity=\"1\" stroke-width=\"2.4\"/>\n",
       "<circle clip-path=\"url(#clip592)\" cx=\"1228.71\" cy=\"630.014\" r=\"14\" fill=\"#009af9\" fill-rule=\"evenodd\" fill-opacity=\"1\" stroke=\"#000000\" stroke-opacity=\"1\" stroke-width=\"2.4\"/>\n",
       "<circle clip-path=\"url(#clip592)\" cx=\"1583.02\" cy=\"233.975\" r=\"14\" fill=\"#009af9\" fill-rule=\"evenodd\" fill-opacity=\"1\" stroke=\"#000000\" stroke-opacity=\"1\" stroke-width=\"2.4\"/>\n",
       "<circle clip-path=\"url(#clip592)\" cx=\"874.401\" cy=\"808.231\" r=\"14\" fill=\"#009af9\" fill-rule=\"evenodd\" fill-opacity=\"1\" stroke=\"#000000\" stroke-opacity=\"1\" stroke-width=\"2.4\"/>\n",
       "<circle clip-path=\"url(#clip592)\" cx=\"1671.6\" cy=\"630.014\" r=\"14\" fill=\"#009af9\" fill-rule=\"evenodd\" fill-opacity=\"1\" stroke=\"#000000\" stroke-opacity=\"1\" stroke-width=\"2.4\"/>\n",
       "<circle clip-path=\"url(#clip592)\" cx=\"1405.86\" cy=\"590.41\" r=\"14\" fill=\"#009af9\" fill-rule=\"evenodd\" fill-opacity=\"1\" stroke=\"#000000\" stroke-opacity=\"1\" stroke-width=\"2.4\"/>\n",
       "<circle clip-path=\"url(#clip592)\" cx=\"1494.44\" cy=\"491.4\" r=\"14\" fill=\"#009af9\" fill-rule=\"evenodd\" fill-opacity=\"1\" stroke=\"#000000\" stroke-opacity=\"1\" stroke-width=\"2.4\"/>\n",
       "<circle clip-path=\"url(#clip592)\" cx=\"1583.02\" cy=\"431.994\" r=\"14\" fill=\"#009af9\" fill-rule=\"evenodd\" fill-opacity=\"1\" stroke=\"#000000\" stroke-opacity=\"1\" stroke-width=\"2.4\"/>\n",
       "<polyline clip-path=\"url(#clip592)\" style=\"stroke:#e26f46; stroke-linecap:butt; stroke-linejoin:round; stroke-width:8; stroke-opacity:1; fill:none\" points=\"\n",
       "  254.359,1019.39 342.937,984.547 431.514,949.708 520.091,914.87 608.669,880.032 697.246,845.193 785.823,810.355 874.401,775.517 962.978,740.678 1051.56,705.84 \n",
       "  1140.13,671.002 1228.71,636.163 1317.29,601.325 1405.86,566.486 1494.44,531.648 1583.02,496.81 1671.6,461.971 1760.17,427.133 1848.75,392.295 1937.33,357.456 \n",
       "  2025.91,322.618 2114.48,287.78 2203.06,252.941 2291.64,218.103 \n",
       "  \"/>\n",
       "</svg>\n"
      ]
     },
     "execution_count": 74,
     "metadata": {},
     "output_type": "execute_result"
    }
   ],
   "source": [
    "p = collect((minimum(X)-1):(maximum(X)+1))\n",
    "\n",
    "scatter(X,Y, legend=false, \n",
    "            xlabel = \"Speed\",\n",
    "            ylabel = \"Dist\",\n",
    "            size = (600,300))\n",
    "plot!(p, f(p, θ_ERM), lw = 2)"
   ]
  },
  {
   "cell_type": "markdown",
   "metadata": {},
   "source": [
    "### Ridge Regression"
   ]
  },
  {
   "cell_type": "markdown",
   "metadata": {},
   "source": [
    "Der Ridge-Regression Schätzer mit Parameter $\\lambda$ wird wie folgt berechnet."
   ]
  },
  {
   "cell_type": "code",
   "execution_count": 75,
   "metadata": {},
   "outputs": [
    {
     "data": {
      "text/plain": [
       "θ_T (generic function with 1 method)"
      ]
     },
     "execution_count": 75,
     "metadata": {},
     "output_type": "execute_result"
    }
   ],
   "source": [
    "θ_T(λ) = (Ω' * Ω + (n*λ) .* diagm(ones(D+1))) \\ (Ω' * Y)"
   ]
  },
  {
   "cell_type": "markdown",
   "metadata": {},
   "source": [
    "Wir plotten den RR-Schätzer für verschiedene Werte von $\\lambda$"
   ]
  },
  {
   "cell_type": "code",
   "execution_count": 76,
   "metadata": {},
   "outputs": [
    {
     "name": "stderr",
     "output_type": "stream",
     "text": [
      "┌ Info: Saved animation to \n",
      "│   fn = /Users/pb/ridge_regression.gif\n",
      "└ @ Plots /Users/pb/.julia/packages/Plots/1KWPG/src/animation.jl:114\n"
     ]
    },
    {
     "data": {
      "text/html": [
       "<img src=\"data:image/gif;base64,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\" />"
      ],
      "text/plain": [
       "Plots.AnimatedGif(\"/Users/pb/ridge_regression.gif\")"
      ]
     },
     "execution_count": 76,
     "metadata": {},
     "output_type": "execute_result"
    }
   ],
   "source": [
    "anim = @animate for i in 0:0.02:0.25\n",
    "    scatter(X,Y, label=false, \n",
    "            xlabel = \"Speed\",\n",
    "            ylabel = \"Dist\",\n",
    "            size = (600,300))\n",
    "    plot!(p, f(p, θ_T(i)), lw = 2, label = \"λ = $i\")\n",
    "    ylims!(0,100)\n",
    "end\n",
    "gif(anim, \"/Users/pb/ridge_regression.gif\", fps = 3)"
   ]
  },
  {
   "cell_type": "markdown",
   "metadata": {},
   "source": [
    "Der Animation nach zu urteilen scheint $\\lambda=0.2$ eine gute Wahl zu sein."
   ]
  },
  {
   "cell_type": "code",
   "execution_count": 77,
   "metadata": {},
   "outputs": [],
   "source": [
    "θ_RR = θ_T(0.2);"
   ]
  },
  {
   "cell_type": "markdown",
   "metadata": {},
   "source": [
    "RR hat die folgenden Parameter für $f_\\theta(x)=ax+b$ geschätzt."
   ]
  },
  {
   "cell_type": "code",
   "execution_count": 78,
   "metadata": {},
   "outputs": [
    {
     "name": "stdout",
     "output_type": "stream",
     "text": [
      "a = 2.954902188221297, b = -4.261999851727773\n"
     ]
    }
   ],
   "source": [
    "println(\"a = $(θ_RR[2]), b = $(θ_RR[1])\")"
   ]
  },
  {
   "cell_type": "markdown",
   "metadata": {},
   "source": [
    "### Maximum Likelihood und Maximum a-Posteriori Estimation"
   ]
  },
  {
   "cell_type": "markdown",
   "metadata": {},
   "source": [
    "Der Parameter für ML ist durch `θ_ERM` bestimmt\n",
    "\n",
    "Der Parameter für MAP ist durch `θ_T(λ)` für $\\lambda = \\sigma^2/n$ bestimmt."
   ]
  },
  {
   "cell_type": "code",
   "execution_count": 79,
   "metadata": {},
   "outputs": [],
   "source": [
    "θ_ML = θ_ERM\n",
    "θ_MAP = θ_T(σ²/n);"
   ]
  },
  {
   "cell_type": "markdown",
   "metadata": {},
   "source": [
    "Jetzt können wir diese Parameter in das statistische Modell einsetzen und von diesem samplen. "
   ]
  },
  {
   "cell_type": "code",
   "execution_count": 80,
   "metadata": {},
   "outputs": [
    {
     "data": {
      "image/svg+xml": [
       "<?xml version=\"1.0\" encoding=\"utf-8\"?>\n",
       "<svg xmlns=\"http://www.w3.org/2000/svg\" xmlns:xlink=\"http://www.w3.org/1999/xlink\" width=\"600\" height=\"300\" viewBox=\"0 0 2400 1200\">\n",
       "<defs>\n",
       "  <clipPath id=\"clip760\">\n",
       "    <rect x=\"0\" y=\"0\" width=\"2400\" height=\"1200\"/>\n",
       "  </clipPath>\n",
       "</defs>\n",
       "<path clip-path=\"url(#clip760)\" d=\"\n",
       "M0 1200 L2400 1200 L2400 0 L0 0  Z\n",
       "  \" fill=\"#ffffff\" fill-rule=\"evenodd\" fill-opacity=\"1\"/>\n",
       "<defs>\n",
       "  <clipPath id=\"clip761\">\n",
       "    <rect x=\"480\" y=\"0\" width=\"1681\" height=\"1200\"/>\n",
       "  </clipPath>\n",
       "</defs>\n",
       "<path clip-path=\"url(#clip760)\" d=\"\n",
       "M193.241 1047.7 L2352.76 1047.7 L2352.76 47.2441 L193.241 47.2441  Z\n",
       "  \" fill=\"#ffffff\" fill-rule=\"evenodd\" fill-opacity=\"1\"/>\n",
       "<defs>\n",
       "  <clipPath id=\"clip762\">\n",
       "    <rect x=\"193\" y=\"47\" width=\"2161\" height=\"1001\"/>\n",
       "  </clipPath>\n",
       "</defs>\n",
       "<polyline clip-path=\"url(#clip762)\" style=\"stroke:#000000; stroke-linecap:butt; stroke-linejoin:round; stroke-width:2; stroke-opacity:0.1; fill:none\" points=\"\n",
       "  431.514,1047.7 431.514,47.2441 \n",
       "  \"/>\n",
       "<polyline clip-path=\"url(#clip762)\" style=\"stroke:#000000; stroke-linecap:butt; stroke-linejoin:round; stroke-width:2; stroke-opacity:0.1; fill:none\" points=\"\n",
       "  874.401,1047.7 874.401,47.2441 \n",
       "  \"/>\n",
       "<polyline clip-path=\"url(#clip762)\" style=\"stroke:#000000; stroke-linecap:butt; stroke-linejoin:round; stroke-width:2; stroke-opacity:0.1; fill:none\" points=\"\n",
       "  1317.29,1047.7 1317.29,47.2441 \n",
       "  \"/>\n",
       "<polyline clip-path=\"url(#clip762)\" style=\"stroke:#000000; stroke-linecap:butt; stroke-linejoin:round; stroke-width:2; stroke-opacity:0.1; fill:none\" points=\"\n",
       "  1760.17,1047.7 1760.17,47.2441 \n",
       "  \"/>\n",
       "<polyline clip-path=\"url(#clip762)\" style=\"stroke:#000000; stroke-linecap:butt; stroke-linejoin:round; stroke-width:2; stroke-opacity:0.1; fill:none\" points=\"\n",
       "  2203.06,1047.7 2203.06,47.2441 \n",
       "  \"/>\n",
       "<polyline clip-path=\"url(#clip760)\" style=\"stroke:#000000; stroke-linecap:butt; stroke-linejoin:round; stroke-width:4; stroke-opacity:1; fill:none\" points=\"\n",
       "  193.241,1047.7 2352.76,1047.7 \n",
       "  \"/>\n",
       "<polyline clip-path=\"url(#clip760)\" style=\"stroke:#000000; stroke-linecap:butt; stroke-linejoin:round; stroke-width:4; stroke-opacity:1; fill:none\" points=\"\n",
       "  431.514,1047.7 431.514,1028.8 \n",
       "  \"/>\n",
       "<polyline clip-path=\"url(#clip760)\" style=\"stroke:#000000; stroke-linecap:butt; stroke-linejoin:round; stroke-width:4; stroke-opacity:1; fill:none\" points=\"\n",
       "  874.401,1047.7 874.401,1028.8 \n",
       "  \"/>\n",
       "<polyline clip-path=\"url(#clip760)\" style=\"stroke:#000000; stroke-linecap:butt; stroke-linejoin:round; stroke-width:4; stroke-opacity:1; fill:none\" points=\"\n",
       "  1317.29,1047.7 1317.29,1028.8 \n",
       "  \"/>\n",
       "<polyline clip-path=\"url(#clip760)\" style=\"stroke:#000000; stroke-linecap:butt; stroke-linejoin:round; stroke-width:4; stroke-opacity:1; fill:none\" points=\"\n",
       "  1760.17,1047.7 1760.17,1028.8 \n",
       "  \"/>\n",
       "<polyline clip-path=\"url(#clip760)\" style=\"stroke:#000000; stroke-linecap:butt; stroke-linejoin:round; stroke-width:4; stroke-opacity:1; fill:none\" points=\"\n",
       "  2203.06,1047.7 2203.06,1028.8 \n",
       "  \"/>\n",
       "<path clip-path=\"url(#clip760)\" d=\"M421.792 1075.54 L440.148 1075.54 L440.148 1079.48 L426.074 1079.48 L426.074 1087.95 Q427.093 1087.6 428.111 1087.44 Q429.13 1087.25 430.148 1087.25 Q435.935 1087.25 439.315 1090.42 Q442.694 1093.6 442.694 1099.01 Q442.694 1104.59 439.222 1107.69 Q435.75 1110.77 429.431 1110.77 Q427.255 1110.77 424.986 1110.4 Q422.741 1110.03 420.333 1109.29 L420.333 1104.59 Q422.417 1105.72 424.639 1106.28 Q426.861 1106.84 429.338 1106.84 Q433.343 1106.84 435.681 1104.73 Q438.019 1102.62 438.019 1099.01 Q438.019 1095.4 435.681 1093.29 Q433.343 1091.19 429.338 1091.19 Q427.463 1091.19 425.588 1091.6 Q423.736 1092.02 421.792 1092.9 L421.792 1075.54 Z\" fill=\"#000000\" fill-rule=\"evenodd\" fill-opacity=\"1\" /><path clip-path=\"url(#clip760)\" d=\"M849.088 1106.16 L856.727 1106.16 L856.727 1079.8 L848.417 1081.47 L848.417 1077.21 L856.681 1075.54 L861.357 1075.54 L861.357 1106.16 L868.995 1106.16 L868.995 1110.1 L849.088 1110.1 L849.088 1106.16 Z\" fill=\"#000000\" fill-rule=\"evenodd\" fill-opacity=\"1\" /><path clip-path=\"url(#clip760)\" d=\"M888.44 1078.62 Q884.829 1078.62 883 1082.18 Q881.194 1085.72 881.194 1092.85 Q881.194 1099.96 883 1103.53 Q884.829 1107.07 888.44 1107.07 Q892.074 1107.07 893.88 1103.53 Q895.708 1099.96 895.708 1092.85 Q895.708 1085.72 893.88 1082.18 Q892.074 1078.62 888.44 1078.62 M888.44 1074.91 Q894.25 1074.91 897.305 1079.52 Q900.384 1084.1 900.384 1092.85 Q900.384 1101.58 897.305 1106.19 Q894.25 1110.77 888.44 1110.77 Q882.63 1110.77 879.551 1106.19 Q876.495 1101.58 876.495 1092.85 Q876.495 1084.1 879.551 1079.52 Q882.63 1074.91 888.44 1074.91 Z\" fill=\"#000000\" fill-rule=\"evenodd\" fill-opacity=\"1\" /><path clip-path=\"url(#clip760)\" d=\"M1292.47 1106.16 L1300.11 1106.16 L1300.11 1079.8 L1291.8 1081.47 L1291.8 1077.21 L1300.06 1075.54 L1304.74 1075.54 L1304.74 1106.16 L1312.38 1106.16 L1312.38 1110.1 L1292.47 1110.1 L1292.47 1106.16 Z\" fill=\"#000000\" fill-rule=\"evenodd\" fill-opacity=\"1\" /><path clip-path=\"url(#clip760)\" d=\"M1321.87 1075.54 L1340.23 1075.54 L1340.23 1079.48 L1326.15 1079.48 L1326.15 1087.95 Q1327.17 1087.6 1328.19 1087.44 Q1329.21 1087.25 1330.23 1087.25 Q1336.01 1087.25 1339.39 1090.42 Q1342.77 1093.6 1342.77 1099.01 Q1342.77 1104.59 1339.3 1107.69 Q1335.83 1110.77 1329.51 1110.77 Q1327.33 1110.77 1325.06 1110.4 Q1322.82 1110.03 1320.41 1109.29 L1320.41 1104.59 Q1322.5 1105.72 1324.72 1106.28 Q1326.94 1106.84 1329.42 1106.84 Q1333.42 1106.84 1335.76 1104.73 Q1338.1 1102.62 1338.1 1099.01 Q1338.1 1095.4 1335.76 1093.29 Q1333.42 1091.19 1329.42 1091.19 Q1327.54 1091.19 1325.67 1091.6 Q1323.81 1092.02 1321.87 1092.9 L1321.87 1075.54 Z\" fill=\"#000000\" fill-rule=\"evenodd\" fill-opacity=\"1\" /><path clip-path=\"url(#clip760)\" d=\"M1738.95 1106.16 L1755.27 1106.16 L1755.27 1110.1 L1733.32 1110.1 L1733.32 1106.16 Q1735.98 1103.41 1740.57 1098.78 Q1745.17 1094.13 1746.35 1092.79 Q1748.6 1090.26 1749.48 1088.53 Q1750.38 1086.77 1750.38 1085.08 Q1750.38 1082.32 1748.44 1080.59 Q1746.52 1078.85 1743.41 1078.85 Q1741.22 1078.85 1738.76 1079.61 Q1736.33 1080.38 1733.55 1081.93 L1733.55 1077.21 Q1736.38 1076.07 1738.83 1075.49 Q1741.28 1074.91 1743.32 1074.91 Q1748.69 1074.91 1751.89 1077.6 Q1755.08 1080.29 1755.08 1084.78 Q1755.08 1086.91 1754.27 1088.83 Q1753.48 1090.72 1751.38 1093.32 Q1750.8 1093.99 1747.7 1097.21 Q1744.6 1100.4 1738.95 1106.16 Z\" fill=\"#000000\" fill-rule=\"evenodd\" fill-opacity=\"1\" /><path clip-path=\"url(#clip760)\" d=\"M1775.08 1078.62 Q1771.47 1078.62 1769.64 1082.18 Q1767.84 1085.72 1767.84 1092.85 Q1767.84 1099.96 1769.64 1103.53 Q1771.47 1107.07 1775.08 1107.07 Q1778.72 1107.07 1780.52 1103.53 Q1782.35 1099.96 1782.35 1092.85 Q1782.35 1085.72 1780.52 1082.18 Q1778.72 1078.62 1775.08 1078.62 M1775.08 1074.91 Q1780.89 1074.91 1783.95 1079.52 Q1787.03 1084.1 1787.03 1092.85 Q1787.03 1101.58 1783.95 1106.19 Q1780.89 1110.77 1775.08 1110.77 Q1769.27 1110.77 1766.19 1106.19 Q1763.14 1101.58 1763.14 1092.85 Q1763.14 1084.1 1766.19 1079.52 Q1769.27 1074.91 1775.08 1074.91 Z\" fill=\"#000000\" fill-rule=\"evenodd\" fill-opacity=\"1\" /><path clip-path=\"url(#clip760)\" d=\"M2182.33 1106.16 L2198.65 1106.16 L2198.65 1110.1 L2176.71 1110.1 L2176.71 1106.16 Q2179.37 1103.41 2183.95 1098.78 Q2188.56 1094.13 2189.74 1092.79 Q2191.98 1090.26 2192.86 1088.53 Q2193.77 1086.77 2193.77 1085.08 Q2193.77 1082.32 2191.82 1080.59 Q2189.9 1078.85 2186.8 1078.85 Q2184.6 1078.85 2182.15 1079.61 Q2179.72 1080.38 2176.94 1081.93 L2176.94 1077.21 Q2179.76 1076.07 2182.22 1075.49 Q2184.67 1074.91 2186.71 1074.91 Q2192.08 1074.91 2195.27 1077.6 Q2198.47 1080.29 2198.47 1084.78 Q2198.47 1086.91 2197.66 1088.83 Q2196.87 1090.72 2194.76 1093.32 Q2194.18 1093.99 2191.08 1097.21 Q2187.98 1100.4 2182.33 1106.16 Z\" fill=\"#000000\" fill-rule=\"evenodd\" fill-opacity=\"1\" /><path clip-path=\"url(#clip760)\" d=\"M2208.51 1075.54 L2226.87 1075.54 L2226.87 1079.48 L2212.79 1079.48 L2212.79 1087.95 Q2213.81 1087.6 2214.83 1087.44 Q2215.85 1087.25 2216.87 1087.25 Q2222.66 1087.25 2226.03 1090.42 Q2229.41 1093.6 2229.41 1099.01 Q2229.41 1104.59 2225.94 1107.69 Q2222.47 1110.77 2216.15 1110.77 Q2213.97 1110.77 2211.71 1110.4 Q2209.46 1110.03 2207.05 1109.29 L2207.05 1104.59 Q2209.14 1105.72 2211.36 1106.28 Q2213.58 1106.84 2216.06 1106.84 Q2220.06 1106.84 2222.4 1104.73 Q2224.74 1102.62 2224.74 1099.01 Q2224.74 1095.4 2222.4 1093.29 Q2220.06 1091.19 2216.06 1091.19 Q2214.18 1091.19 2212.31 1091.6 Q2210.46 1092.02 2208.51 1092.9 L2208.51 1075.54 Z\" fill=\"#000000\" fill-rule=\"evenodd\" fill-opacity=\"1\" /><path clip-path=\"url(#clip760)\" d=\"M1206.52 1146.6 L1206.52 1152.87 Q1202.86 1151.12 1199.62 1150.26 Q1196.37 1149.4 1193.35 1149.4 Q1188.1 1149.4 1185.23 1151.44 Q1182.4 1153.48 1182.4 1157.23 Q1182.4 1160.39 1184.28 1162.01 Q1186.19 1163.6 1191.47 1164.59 L1195.35 1165.38 Q1202.55 1166.75 1205.95 1170.22 Q1209.39 1173.66 1209.39 1179.45 Q1209.39 1186.36 1204.74 1189.92 Q1200.13 1193.49 1191.18 1193.49 Q1187.81 1193.49 1183.99 1192.72 Q1180.2 1191.96 1176.13 1190.46 L1176.13 1183.84 Q1180.04 1186.04 1183.8 1187.15 Q1187.55 1188.27 1191.18 1188.27 Q1196.69 1188.27 1199.68 1186.1 Q1202.67 1183.94 1202.67 1179.93 Q1202.67 1176.43 1200.51 1174.45 Q1198.38 1172.48 1193.47 1171.49 L1189.56 1170.73 Q1182.37 1169.3 1179.15 1166.24 Q1175.94 1163.19 1175.94 1157.74 Q1175.94 1151.44 1180.36 1147.81 Q1184.82 1144.18 1192.62 1144.18 Q1195.96 1144.18 1199.43 1144.79 Q1202.9 1145.39 1206.52 1146.6 Z\" fill=\"#000000\" fill-rule=\"evenodd\" fill-opacity=\"1\" /><path clip-path=\"url(#clip760)\" d=\"M1224.83 1187.22 L1224.83 1206.12 L1218.94 1206.12 L1218.94 1156.92 L1224.83 1156.92 L1224.83 1162.33 Q1226.67 1159.14 1229.47 1157.62 Q1232.31 1156.06 1236.22 1156.06 Q1242.71 1156.06 1246.76 1161.21 Q1250.83 1166.37 1250.83 1174.77 Q1250.83 1183.17 1246.76 1188.33 Q1242.71 1193.49 1236.22 1193.49 Q1232.31 1193.49 1229.47 1191.96 Q1226.67 1190.4 1224.83 1187.22 M1244.75 1174.77 Q1244.75 1168.31 1242.08 1164.65 Q1239.44 1160.96 1234.79 1160.96 Q1230.14 1160.96 1227.47 1164.65 Q1224.83 1168.31 1224.83 1174.77 Q1224.83 1181.23 1227.47 1184.92 Q1230.14 1188.59 1234.79 1188.59 Q1239.44 1188.59 1242.08 1184.92 Q1244.75 1181.23 1244.75 1174.77 Z\" fill=\"#000000\" fill-rule=\"evenodd\" fill-opacity=\"1\" /><path clip-path=\"url(#clip760)\" d=\"M1291.03 1173.28 L1291.03 1176.14 L1264.1 1176.14 Q1264.48 1182.19 1267.73 1185.37 Q1271.01 1188.52 1276.83 1188.52 Q1280.21 1188.52 1283.36 1187.69 Q1286.54 1186.87 1289.66 1185.21 L1289.66 1190.75 Q1286.51 1192.09 1283.2 1192.79 Q1279.89 1193.49 1276.48 1193.49 Q1267.95 1193.49 1262.96 1188.52 Q1257.99 1183.56 1257.99 1175.09 Q1257.99 1166.34 1262.7 1161.21 Q1267.44 1156.06 1275.47 1156.06 Q1282.66 1156.06 1286.83 1160.7 Q1291.03 1165.32 1291.03 1173.28 M1285.17 1171.56 Q1285.11 1166.75 1282.47 1163.89 Q1279.86 1161.02 1275.53 1161.02 Q1270.63 1161.02 1267.67 1163.79 Q1264.74 1166.56 1264.29 1171.59 L1285.17 1171.56 Z\" fill=\"#000000\" fill-rule=\"evenodd\" fill-opacity=\"1\" /><path clip-path=\"url(#clip760)\" d=\"M1331.13 1173.28 L1331.13 1176.14 L1304.21 1176.14 Q1304.59 1182.19 1307.83 1185.37 Q1311.11 1188.52 1316.94 1188.52 Q1320.31 1188.52 1323.46 1187.69 Q1326.65 1186.87 1329.76 1185.21 L1329.76 1190.75 Q1326.61 1192.09 1323.3 1192.79 Q1319.99 1193.49 1316.59 1193.49 Q1308.06 1193.49 1303.06 1188.52 Q1298.1 1183.56 1298.1 1175.09 Q1298.1 1166.34 1302.81 1161.21 Q1307.55 1156.06 1315.57 1156.06 Q1322.76 1156.06 1326.93 1160.7 Q1331.13 1165.32 1331.13 1173.28 M1325.28 1171.56 Q1325.21 1166.75 1322.57 1163.89 Q1319.96 1161.02 1315.63 1161.02 Q1310.73 1161.02 1307.77 1163.79 Q1304.84 1166.56 1304.4 1171.59 L1325.28 1171.56 Z\" fill=\"#000000\" fill-rule=\"evenodd\" fill-opacity=\"1\" /><path clip-path=\"url(#clip760)\" d=\"M1364.2 1162.33 L1364.2 1143.04 L1370.06 1143.04 L1370.06 1192.56 L1364.2 1192.56 L1364.2 1187.22 Q1362.36 1190.4 1359.52 1191.96 Q1356.72 1193.49 1352.78 1193.49 Q1346.32 1193.49 1342.24 1188.33 Q1338.2 1183.17 1338.2 1174.77 Q1338.2 1166.37 1342.24 1161.21 Q1346.32 1156.06 1352.78 1156.06 Q1356.72 1156.06 1359.52 1157.62 Q1362.36 1159.14 1364.2 1162.33 M1344.25 1174.77 Q1344.25 1181.23 1346.89 1184.92 Q1349.56 1188.59 1354.21 1188.59 Q1358.86 1188.59 1361.53 1184.92 Q1364.2 1181.23 1364.2 1174.77 Q1364.2 1168.31 1361.53 1164.65 Q1358.86 1160.96 1354.21 1160.96 Q1349.56 1160.96 1346.89 1164.65 Q1344.25 1168.31 1344.25 1174.77 Z\" fill=\"#000000\" fill-rule=\"evenodd\" fill-opacity=\"1\" /><polyline clip-path=\"url(#clip762)\" style=\"stroke:#000000; stroke-linecap:butt; stroke-linejoin:round; stroke-width:2; stroke-opacity:0.1; fill:none\" points=\"\n",
       "  193.241,982.06 2352.76,982.06 \n",
       "  \"/>\n",
       "<polyline clip-path=\"url(#clip762)\" style=\"stroke:#000000; stroke-linecap:butt; stroke-linejoin:round; stroke-width:2; stroke-opacity:0.1; fill:none\" points=\"\n",
       "  193.241,784.995 2352.76,784.995 \n",
       "  \"/>\n",
       "<polyline clip-path=\"url(#clip762)\" style=\"stroke:#000000; stroke-linecap:butt; stroke-linejoin:round; stroke-width:2; stroke-opacity:0.1; fill:none\" points=\"\n",
       "  193.241,587.929 2352.76,587.929 \n",
       "  \"/>\n",
       "<polyline clip-path=\"url(#clip762)\" style=\"stroke:#000000; stroke-linecap:butt; stroke-linejoin:round; stroke-width:2; stroke-opacity:0.1; fill:none\" points=\"\n",
       "  193.241,390.864 2352.76,390.864 \n",
       "  \"/>\n",
       "<polyline clip-path=\"url(#clip762)\" style=\"stroke:#000000; stroke-linecap:butt; stroke-linejoin:round; stroke-width:2; stroke-opacity:0.1; fill:none\" points=\"\n",
       "  193.241,193.798 2352.76,193.798 \n",
       "  \"/>\n",
       "<polyline clip-path=\"url(#clip760)\" style=\"stroke:#000000; stroke-linecap:butt; stroke-linejoin:round; stroke-width:4; stroke-opacity:1; fill:none\" points=\"\n",
       "  193.241,1047.7 193.241,47.2441 \n",
       "  \"/>\n",
       "<polyline clip-path=\"url(#clip760)\" style=\"stroke:#000000; stroke-linecap:butt; stroke-linejoin:round; stroke-width:4; stroke-opacity:1; fill:none\" points=\"\n",
       "  193.241,982.06 212.139,982.06 \n",
       "  \"/>\n",
       "<polyline clip-path=\"url(#clip760)\" style=\"stroke:#000000; stroke-linecap:butt; stroke-linejoin:round; stroke-width:4; stroke-opacity:1; fill:none\" points=\"\n",
       "  193.241,784.995 212.139,784.995 \n",
       "  \"/>\n",
       "<polyline clip-path=\"url(#clip760)\" style=\"stroke:#000000; stroke-linecap:butt; stroke-linejoin:round; stroke-width:4; stroke-opacity:1; fill:none\" points=\"\n",
       "  193.241,587.929 212.139,587.929 \n",
       "  \"/>\n",
       "<polyline clip-path=\"url(#clip760)\" style=\"stroke:#000000; stroke-linecap:butt; stroke-linejoin:round; stroke-width:4; stroke-opacity:1; fill:none\" points=\"\n",
       "  193.241,390.864 212.139,390.864 \n",
       "  \"/>\n",
       "<polyline clip-path=\"url(#clip760)\" style=\"stroke:#000000; stroke-linecap:butt; stroke-linejoin:round; stroke-width:4; stroke-opacity:1; fill:none\" points=\"\n",
       "  193.241,193.798 212.139,193.798 \n",
       "  \"/>\n",
       "<path clip-path=\"url(#clip760)\" d=\"M145.297 967.859 Q141.686 967.859 139.857 971.424 Q138.051 974.965 138.051 982.095 Q138.051 989.201 139.857 992.766 Q141.686 996.308 145.297 996.308 Q148.931 996.308 150.736 992.766 Q152.565 989.201 152.565 982.095 Q152.565 974.965 150.736 971.424 Q148.931 967.859 145.297 967.859 M145.297 964.155 Q151.107 964.155 154.162 968.762 Q157.241 973.345 157.241 982.095 Q157.241 990.822 154.162 995.428 Q151.107 1000.01 145.297 1000.01 Q139.486 1000.01 136.408 995.428 Q133.352 990.822 133.352 982.095 Q133.352 973.345 136.408 968.762 Q139.486 964.155 145.297 964.155 Z\" fill=\"#000000\" fill-rule=\"evenodd\" fill-opacity=\"1\" /><path clip-path=\"url(#clip760)\" d=\"M109.163 798.339 L125.482 798.339 L125.482 802.275 L103.538 802.275 L103.538 798.339 Q106.2 795.585 110.783 790.955 Q115.389 786.303 116.57 784.96 Q118.815 782.437 119.695 780.701 Q120.598 778.941 120.598 777.252 Q120.598 774.497 118.653 772.761 Q116.732 771.025 113.63 771.025 Q111.431 771.025 108.977 771.789 Q106.547 772.553 103.769 774.104 L103.769 769.381 Q106.593 768.247 109.047 767.668 Q111.5 767.09 113.538 767.09 Q118.908 767.09 122.102 769.775 Q125.297 772.46 125.297 776.951 Q125.297 779.08 124.487 781.002 Q123.699 782.9 121.593 785.492 Q121.014 786.164 117.912 789.381 Q114.811 792.576 109.163 798.339 Z\" fill=\"#000000\" fill-rule=\"evenodd\" fill-opacity=\"1\" /><path clip-path=\"url(#clip760)\" d=\"M145.297 770.793 Q141.686 770.793 139.857 774.358 Q138.051 777.9 138.051 785.029 Q138.051 792.136 139.857 795.701 Q141.686 799.242 145.297 799.242 Q148.931 799.242 150.736 795.701 Q152.565 792.136 152.565 785.029 Q152.565 777.9 150.736 774.358 Q148.931 770.793 145.297 770.793 M145.297 767.09 Q151.107 767.09 154.162 771.696 Q157.241 776.279 157.241 785.029 Q157.241 793.756 154.162 798.363 Q151.107 802.946 145.297 802.946 Q139.486 802.946 136.408 798.363 Q133.352 793.756 133.352 785.029 Q133.352 776.279 136.408 771.696 Q139.486 767.09 145.297 767.09 Z\" fill=\"#000000\" fill-rule=\"evenodd\" fill-opacity=\"1\" /><path clip-path=\"url(#clip760)\" d=\"M117.982 574.723 L106.176 593.172 L117.982 593.172 L117.982 574.723 M116.755 570.649 L122.635 570.649 L122.635 593.172 L127.565 593.172 L127.565 597.061 L122.635 597.061 L122.635 605.209 L117.982 605.209 L117.982 597.061 L102.38 597.061 L102.38 592.547 L116.755 570.649 Z\" fill=\"#000000\" fill-rule=\"evenodd\" fill-opacity=\"1\" /><path clip-path=\"url(#clip760)\" d=\"M145.297 573.728 Q141.686 573.728 139.857 577.293 Q138.051 580.834 138.051 587.964 Q138.051 595.07 139.857 598.635 Q141.686 602.177 145.297 602.177 Q148.931 602.177 150.736 598.635 Q152.565 595.07 152.565 587.964 Q152.565 580.834 150.736 577.293 Q148.931 573.728 145.297 573.728 M145.297 570.024 Q151.107 570.024 154.162 574.631 Q157.241 579.214 157.241 587.964 Q157.241 596.691 154.162 601.297 Q151.107 605.88 145.297 605.88 Q139.486 605.88 136.408 601.297 Q133.352 596.691 133.352 587.964 Q133.352 579.214 136.408 574.631 Q139.486 570.024 145.297 570.024 Z\" fill=\"#000000\" fill-rule=\"evenodd\" fill-opacity=\"1\" /><path clip-path=\"url(#clip760)\" d=\"M115.713 389 Q112.565 389 110.713 391.153 Q108.885 393.306 108.885 397.056 Q108.885 400.783 110.713 402.959 Q112.565 405.111 115.713 405.111 Q118.862 405.111 120.69 402.959 Q122.542 400.783 122.542 397.056 Q122.542 393.306 120.69 391.153 Q118.862 389 115.713 389 M124.996 374.348 L124.996 378.607 Q123.237 377.773 121.431 377.334 Q119.649 376.894 117.889 376.894 Q113.26 376.894 110.806 380.019 Q108.375 383.144 108.028 389.463 Q109.394 387.449 111.454 386.385 Q113.514 385.297 115.991 385.297 Q121.2 385.297 124.209 388.468 Q127.241 391.616 127.241 397.056 Q127.241 402.38 124.093 405.597 Q120.945 408.815 115.713 408.815 Q109.718 408.815 106.547 404.232 Q103.376 399.625 103.376 390.898 Q103.376 382.704 107.264 377.843 Q111.153 372.959 117.704 372.959 Q119.463 372.959 121.246 373.306 Q123.051 373.653 124.996 374.348 Z\" fill=\"#000000\" fill-rule=\"evenodd\" fill-opacity=\"1\" /><path clip-path=\"url(#clip760)\" d=\"M145.297 376.662 Q141.686 376.662 139.857 380.227 Q138.051 383.769 138.051 390.898 Q138.051 398.005 139.857 401.57 Q141.686 405.111 145.297 405.111 Q148.931 405.111 150.736 401.57 Q152.565 398.005 152.565 390.898 Q152.565 383.769 150.736 380.227 Q148.931 376.662 145.297 376.662 M145.297 372.959 Q151.107 372.959 154.162 377.565 Q157.241 382.148 157.241 390.898 Q157.241 399.625 154.162 404.232 Q151.107 408.815 145.297 408.815 Q139.486 408.815 136.408 404.232 Q133.352 399.625 133.352 390.898 Q133.352 382.148 136.408 377.565 Q139.486 372.959 145.297 372.959 Z\" fill=\"#000000\" fill-rule=\"evenodd\" fill-opacity=\"1\" /><path clip-path=\"url(#clip760)\" d=\"M115.135 194.666 Q111.801 194.666 109.88 196.449 Q107.982 198.231 107.982 201.356 Q107.982 204.481 109.88 206.263 Q111.801 208.046 115.135 208.046 Q118.468 208.046 120.389 206.263 Q122.311 204.458 122.311 201.356 Q122.311 198.231 120.389 196.449 Q118.491 194.666 115.135 194.666 M110.459 192.675 Q107.45 191.935 105.76 189.875 Q104.093 187.814 104.093 184.851 Q104.093 180.708 107.033 178.301 Q109.996 175.893 115.135 175.893 Q120.297 175.893 123.237 178.301 Q126.176 180.708 126.176 184.851 Q126.176 187.814 124.487 189.875 Q122.82 191.935 119.834 192.675 Q123.213 193.463 125.088 195.754 Q126.987 198.046 126.987 201.356 Q126.987 206.379 123.908 209.064 Q120.852 211.749 115.135 211.749 Q109.417 211.749 106.338 209.064 Q103.283 206.379 103.283 201.356 Q103.283 198.046 105.181 195.754 Q107.079 193.463 110.459 192.675 M108.746 185.291 Q108.746 187.976 110.413 189.481 Q112.102 190.986 115.135 190.986 Q118.144 190.986 119.834 189.481 Q121.547 187.976 121.547 185.291 Q121.547 182.606 119.834 181.101 Q118.144 179.597 115.135 179.597 Q112.102 179.597 110.413 181.101 Q108.746 182.606 108.746 185.291 Z\" fill=\"#000000\" fill-rule=\"evenodd\" fill-opacity=\"1\" /><path clip-path=\"url(#clip760)\" d=\"M145.297 179.597 Q141.686 179.597 139.857 183.162 Q138.051 186.703 138.051 193.833 Q138.051 200.939 139.857 204.504 Q141.686 208.046 145.297 208.046 Q148.931 208.046 150.736 204.504 Q152.565 200.939 152.565 193.833 Q152.565 186.703 150.736 183.162 Q148.931 179.597 145.297 179.597 M145.297 175.893 Q151.107 175.893 154.162 180.5 Q157.241 185.083 157.241 193.833 Q157.241 202.56 154.162 207.166 Q151.107 211.749 145.297 211.749 Q139.486 211.749 136.408 207.166 Q133.352 202.56 133.352 193.833 Q133.352 185.083 136.408 180.5 Q139.486 175.893 145.297 175.893 Z\" fill=\"#000000\" fill-rule=\"evenodd\" fill-opacity=\"1\" /><path clip-path=\"url(#clip760)\" d=\"M9.88769 600.976 L46.8406 600.976 L46.8406 593.21 Q46.8406 583.375 42.3846 578.823 Q37.9286 574.24 28.3164 574.24 Q18.7679 574.24 14.3437 578.823 Q9.88769 583.375 9.88769 593.21 L9.88769 600.976 M4.60416 607.405 L4.60416 594.196 Q4.60416 580.383 10.3651 573.921 Q16.0943 567.46 28.3164 567.46 Q40.6022 567.46 46.3632 573.953 Q52.1242 580.446 52.1242 594.196 L52.1242 607.405 L4.60416 607.405 Z\" fill=\"#000000\" fill-rule=\"evenodd\" fill-opacity=\"1\" /><path clip-path=\"url(#clip760)\" d=\"M16.4762 557.466 L16.4762 551.61 L52.1242 551.61 L52.1242 557.466 L16.4762 557.466 M2.59896 557.466 L2.59896 551.61 L10.015 551.61 L10.015 557.466 L2.59896 557.466 Z\" fill=\"#000000\" fill-rule=\"evenodd\" fill-opacity=\"1\" /><path clip-path=\"url(#clip760)\" d=\"M17.5265 516.63 L23.0647 516.63 Q21.7916 519.113 21.155 521.786 Q20.5184 524.46 20.5184 527.325 Q20.5184 531.685 21.8552 533.881 Q23.192 536.046 25.8656 536.046 Q27.9026 536.046 29.0803 534.486 Q30.2261 532.926 31.2765 528.216 L31.7221 526.211 Q33.0589 519.972 35.5097 517.362 Q37.9286 514.72 42.2891 514.72 Q47.2544 514.72 50.1508 518.667 Q53.0472 522.582 53.0472 529.457 Q53.0472 532.322 52.4743 535.441 Q51.9332 538.528 50.8192 541.966 L44.7718 541.966 Q46.4587 538.719 47.318 535.568 Q48.1456 532.417 48.1456 529.33 Q48.1456 525.192 46.7451 522.964 Q45.3129 520.736 42.7347 520.736 Q40.3476 520.736 39.0745 522.359 Q37.8013 523.951 36.6237 529.393 L36.1462 531.43 Q35.0004 536.873 32.6451 539.292 Q30.258 541.711 26.1202 541.711 Q21.0913 541.711 18.3541 538.146 Q15.6168 534.581 15.6168 528.025 Q15.6168 524.778 16.0943 521.914 Q16.5717 519.049 17.5265 516.63 Z\" fill=\"#000000\" fill-rule=\"evenodd\" fill-opacity=\"1\" /><path clip-path=\"url(#clip760)\" d=\"M6.35473 499.602 L16.4762 499.602 L16.4762 487.539 L21.0277 487.539 L21.0277 499.602 L40.3794 499.602 Q44.7399 499.602 45.9813 498.424 Q47.2226 497.215 47.2226 493.554 L47.2226 487.539 L52.1242 487.539 L52.1242 493.554 Q52.1242 500.334 49.6097 502.912 Q47.0634 505.49 40.3794 505.49 L21.0277 505.49 L21.0277 509.787 L16.4762 509.787 L16.4762 505.49 L6.35473 505.49 L6.35473 499.602 Z\" fill=\"#000000\" fill-rule=\"evenodd\" fill-opacity=\"1\" /><circle clip-path=\"url(#clip762)\" cx=\"1051.56\" cy=\"745.582\" r=\"14\" fill=\"#009af9\" fill-rule=\"evenodd\" fill-opacity=\"1\" stroke=\"#000000\" stroke-opacity=\"1\" stroke-width=\"2.4\"/>\n",
       "<circle clip-path=\"url(#clip762)\" cx=\"2114.48\" cy=\"292.331\" r=\"14\" fill=\"#009af9\" fill-rule=\"evenodd\" fill-opacity=\"1\" stroke=\"#000000\" stroke-opacity=\"1\" stroke-width=\"2.4\"/>\n",
       "<circle clip-path=\"url(#clip762)\" cx=\"1760.17\" cy=\"430.277\" r=\"14\" fill=\"#009af9\" fill-rule=\"evenodd\" fill-opacity=\"1\" stroke=\"#000000\" stroke-opacity=\"1\" stroke-width=\"2.4\"/>\n",
       "<circle clip-path=\"url(#clip762)\" cx=\"1140.13\" cy=\"528.81\" r=\"14\" fill=\"#009af9\" fill-rule=\"evenodd\" fill-opacity=\"1\" stroke=\"#000000\" stroke-opacity=\"1\" stroke-width=\"2.4\"/>\n",
       "<circle clip-path=\"url(#clip762)\" cx=\"1583.02\" cy=\"568.223\" r=\"14\" fill=\"#009af9\" fill-rule=\"evenodd\" fill-opacity=\"1\" stroke=\"#000000\" stroke-opacity=\"1\" stroke-width=\"2.4\"/>\n",
       "<circle clip-path=\"url(#clip762)\" cx=\"1494.44\" cy=\"587.929\" r=\"14\" fill=\"#009af9\" fill-rule=\"evenodd\" fill-opacity=\"1\" stroke=\"#000000\" stroke-opacity=\"1\" stroke-width=\"2.4\"/>\n",
       "<circle clip-path=\"url(#clip762)\" cx=\"1228.71\" cy=\"725.875\" r=\"14\" fill=\"#009af9\" fill-rule=\"evenodd\" fill-opacity=\"1\" stroke=\"#000000\" stroke-opacity=\"1\" stroke-width=\"2.4\"/>\n",
       "<circle clip-path=\"url(#clip762)\" cx=\"1760.17\" cy=\"666.755\" r=\"14\" fill=\"#009af9\" fill-rule=\"evenodd\" fill-opacity=\"1\" stroke=\"#000000\" stroke-opacity=\"1\" stroke-width=\"2.4\"/>\n",
       "<circle clip-path=\"url(#clip762)\" cx=\"2114.48\" cy=\"75.5589\" r=\"14\" fill=\"#009af9\" fill-rule=\"evenodd\" fill-opacity=\"1\" stroke=\"#000000\" stroke-opacity=\"1\" stroke-width=\"2.4\"/>\n",
       "<circle clip-path=\"url(#clip762)\" cx=\"1671.6\" cy=\"312.037\" r=\"14\" fill=\"#009af9\" fill-rule=\"evenodd\" fill-opacity=\"1\" stroke=\"#000000\" stroke-opacity=\"1\" stroke-width=\"2.4\"/>\n",
       "<circle clip-path=\"url(#clip762)\" cx=\"1405.86\" cy=\"666.755\" r=\"14\" fill=\"#009af9\" fill-rule=\"evenodd\" fill-opacity=\"1\" stroke=\"#000000\" stroke-opacity=\"1\" stroke-width=\"2.4\"/>\n",
       "<circle clip-path=\"url(#clip762)\" cx=\"1317.29\" cy=\"784.995\" r=\"14\" fill=\"#009af9\" fill-rule=\"evenodd\" fill-opacity=\"1\" stroke=\"#000000\" stroke-opacity=\"1\" stroke-width=\"2.4\"/>\n",
       "<circle clip-path=\"url(#clip762)\" cx=\"1937.33\" cy=\"331.744\" r=\"14\" fill=\"#009af9\" fill-rule=\"evenodd\" fill-opacity=\"1\" stroke=\"#000000\" stroke-opacity=\"1\" stroke-width=\"2.4\"/>\n",
       "<circle clip-path=\"url(#clip762)\" cx=\"1051.56\" cy=\"706.168\" r=\"14\" fill=\"#009af9\" fill-rule=\"evenodd\" fill-opacity=\"1\" stroke=\"#000000\" stroke-opacity=\"1\" stroke-width=\"2.4\"/>\n",
       "<circle clip-path=\"url(#clip762)\" cx=\"697.246\" cy=\"824.408\" r=\"14\" fill=\"#009af9\" fill-rule=\"evenodd\" fill-opacity=\"1\" stroke=\"#000000\" stroke-opacity=\"1\" stroke-width=\"2.4\"/>\n",
       "<circle clip-path=\"url(#clip762)\" cx=\"1760.17\" cy=\"469.69\" r=\"14\" fill=\"#009af9\" fill-rule=\"evenodd\" fill-opacity=\"1\" stroke=\"#000000\" stroke-opacity=\"1\" stroke-width=\"2.4\"/>\n",
       "<circle clip-path=\"url(#clip762)\" cx=\"1317.29\" cy=\"449.983\" r=\"14\" fill=\"#009af9\" fill-rule=\"evenodd\" fill-opacity=\"1\" stroke=\"#000000\" stroke-opacity=\"1\" stroke-width=\"2.4\"/>\n",
       "<circle clip-path=\"url(#clip762)\" cx=\"1140.13\" cy=\"647.049\" r=\"14\" fill=\"#009af9\" fill-rule=\"evenodd\" fill-opacity=\"1\" stroke=\"#000000\" stroke-opacity=\"1\" stroke-width=\"2.4\"/>\n",
       "<circle clip-path=\"url(#clip762)\" cx=\"962.978\" cy=\"814.554\" r=\"14\" fill=\"#009af9\" fill-rule=\"evenodd\" fill-opacity=\"1\" stroke=\"#000000\" stroke-opacity=\"1\" stroke-width=\"2.4\"/>\n",
       "<circle clip-path=\"url(#clip762)\" cx=\"342.937\" cy=\"962.354\" r=\"14\" fill=\"#009af9\" fill-rule=\"evenodd\" fill-opacity=\"1\" stroke=\"#000000\" stroke-opacity=\"1\" stroke-width=\"2.4\"/>\n",
       "<circle clip-path=\"url(#clip762)\" cx=\"2203.06\" cy=\"144.532\" r=\"14\" fill=\"#009af9\" fill-rule=\"evenodd\" fill-opacity=\"1\" stroke=\"#000000\" stroke-opacity=\"1\" stroke-width=\"2.4\"/>\n",
       "<circle clip-path=\"url(#clip762)\" cx=\"1228.71\" cy=\"193.798\" r=\"14\" fill=\"#009af9\" fill-rule=\"evenodd\" fill-opacity=\"1\" stroke=\"#000000\" stroke-opacity=\"1\" stroke-width=\"2.4\"/>\n",
       "<circle clip-path=\"url(#clip762)\" cx=\"1140.13\" cy=\"647.049\" r=\"14\" fill=\"#009af9\" fill-rule=\"evenodd\" fill-opacity=\"1\" stroke=\"#000000\" stroke-opacity=\"1\" stroke-width=\"2.4\"/>\n",
       "<circle clip-path=\"url(#clip762)\" cx=\"1051.56\" cy=\"844.114\" r=\"14\" fill=\"#009af9\" fill-rule=\"evenodd\" fill-opacity=\"1\" stroke=\"#000000\" stroke-opacity=\"1\" stroke-width=\"2.4\"/>\n",
       "<circle clip-path=\"url(#clip762)\" cx=\"874.401\" cy=\"725.875\" r=\"14\" fill=\"#009af9\" fill-rule=\"evenodd\" fill-opacity=\"1\" stroke=\"#000000\" stroke-opacity=\"1\" stroke-width=\"2.4\"/>\n",
       "<circle clip-path=\"url(#clip762)\" cx=\"1317.29\" cy=\"725.875\" r=\"14\" fill=\"#009af9\" fill-rule=\"evenodd\" fill-opacity=\"1\" stroke=\"#000000\" stroke-opacity=\"1\" stroke-width=\"2.4\"/>\n",
       "<circle clip-path=\"url(#clip762)\" cx=\"1494.44\" cy=\"666.755\" r=\"14\" fill=\"#009af9\" fill-rule=\"evenodd\" fill-opacity=\"1\" stroke=\"#000000\" stroke-opacity=\"1\" stroke-width=\"2.4\"/>\n",
       "<circle clip-path=\"url(#clip762)\" cx=\"1671.6\" cy=\"528.81\" r=\"14\" fill=\"#009af9\" fill-rule=\"evenodd\" fill-opacity=\"1\" stroke=\"#000000\" stroke-opacity=\"1\" stroke-width=\"2.4\"/>\n",
       "<circle clip-path=\"url(#clip762)\" cx=\"2025.91\" cy=\"449.983\" r=\"14\" fill=\"#009af9\" fill-rule=\"evenodd\" fill-opacity=\"1\" stroke=\"#000000\" stroke-opacity=\"1\" stroke-width=\"2.4\"/>\n",
       "<circle clip-path=\"url(#clip762)\" cx=\"608.669\" cy=\"765.288\" r=\"14\" fill=\"#009af9\" fill-rule=\"evenodd\" fill-opacity=\"1\" stroke=\"#000000\" stroke-opacity=\"1\" stroke-width=\"2.4\"/>\n",
       "<circle clip-path=\"url(#clip762)\" cx=\"608.669\" cy=\"942.647\" r=\"14\" fill=\"#009af9\" fill-rule=\"evenodd\" fill-opacity=\"1\" stroke=\"#000000\" stroke-opacity=\"1\" stroke-width=\"2.4\"/>\n",
       "<circle clip-path=\"url(#clip762)\" cx=\"1228.71\" cy=\"627.342\" r=\"14\" fill=\"#009af9\" fill-rule=\"evenodd\" fill-opacity=\"1\" stroke=\"#000000\" stroke-opacity=\"1\" stroke-width=\"2.4\"/>\n",
       "<circle clip-path=\"url(#clip762)\" cx=\"1583.02\" cy=\"233.211\" r=\"14\" fill=\"#009af9\" fill-rule=\"evenodd\" fill-opacity=\"1\" stroke=\"#000000\" stroke-opacity=\"1\" stroke-width=\"2.4\"/>\n",
       "<circle clip-path=\"url(#clip762)\" cx=\"874.401\" cy=\"804.701\" r=\"14\" fill=\"#009af9\" fill-rule=\"evenodd\" fill-opacity=\"1\" stroke=\"#000000\" stroke-opacity=\"1\" stroke-width=\"2.4\"/>\n",
       "<circle clip-path=\"url(#clip762)\" cx=\"1671.6\" cy=\"627.342\" r=\"14\" fill=\"#009af9\" fill-rule=\"evenodd\" fill-opacity=\"1\" stroke=\"#000000\" stroke-opacity=\"1\" stroke-width=\"2.4\"/>\n",
       "<circle clip-path=\"url(#clip762)\" cx=\"1405.86\" cy=\"587.929\" r=\"14\" fill=\"#009af9\" fill-rule=\"evenodd\" fill-opacity=\"1\" stroke=\"#000000\" stroke-opacity=\"1\" stroke-width=\"2.4\"/>\n",
       "<circle clip-path=\"url(#clip762)\" cx=\"1494.44\" cy=\"489.396\" r=\"14\" fill=\"#009af9\" fill-rule=\"evenodd\" fill-opacity=\"1\" stroke=\"#000000\" stroke-opacity=\"1\" stroke-width=\"2.4\"/>\n",
       "<circle clip-path=\"url(#clip762)\" cx=\"1583.02\" cy=\"430.277\" r=\"14\" fill=\"#009af9\" fill-rule=\"evenodd\" fill-opacity=\"1\" stroke=\"#000000\" stroke-opacity=\"1\" stroke-width=\"2.4\"/>\n",
       "<polyline clip-path=\"url(#clip762)\" style=\"stroke:#e26f46; stroke-linecap:butt; stroke-linejoin:round; stroke-width:8; stroke-opacity:1; fill:none\" points=\"\n",
       "  254.359,1019.39 342.937,1009.8 431.514,965.776 520.091,888.378 608.669,852.187 697.246,788.873 785.823,832.664 874.401,742.29 962.978,731.241 1051.56,646.141 \n",
       "  1140.13,743.464 1228.71,667.335 1317.29,589.749 1405.86,563.186 1494.44,548.056 1583.02,473.587 1671.6,465.107 1760.17,419.231 1848.75,496.358 1937.33,382.364 \n",
       "  2025.91,325.067 2114.48,242.099 2203.06,271.393 2291.64,260.285 \n",
       "  \"/>\n",
       "<polyline clip-path=\"url(#clip762)\" style=\"stroke:#2e8b57; stroke-linecap:butt; stroke-linejoin:round; stroke-width:8; stroke-opacity:1; fill:none\" points=\"\n",
       "  254.359,869.406 342.937,908.517 431.514,776.574 520.091,820.934 608.669,849.54 697.246,782.757 785.823,762.432 874.401,745.808 962.978,689.075 1051.56,680.069 \n",
       "  1140.13,606.489 1228.71,653.702 1317.29,606.758 1405.86,568.45 1494.44,490.387 1583.02,484.044 1671.6,449.938 1760.17,401.978 1848.75,453.076 1937.33,431.119 \n",
       "  2025.91,312.42 2114.48,314.046 2203.06,391.164 2291.64,292.139 \n",
       "  \"/>\n",
       "</svg>\n"
      ]
     },
     "execution_count": 80,
     "metadata": {},
     "output_type": "execute_result"
    }
   ],
   "source": [
    "scatter(X,Y, legend=false, \n",
    "            xlabel = \"Speed\",\n",
    "            ylabel = \"Dist\",\n",
    "            size = (600,300))\n",
    "plot!(p, Φ(p, θ_ML), lw = 2)\n",
    "plot!(p, Φ(p, θ_MAP), lw = 2, c = :seagreen)"
   ]
  },
  {
   "cell_type": "markdown",
   "metadata": {},
   "source": [
    "### Neural Network"
   ]
  },
  {
   "cell_type": "markdown",
   "metadata": {},
   "source": [
    "Zuletzt wollen wir die Abhängigkeit von `Dist` und `Speed` durch ein neuronales Netz bestimmen.\n",
    "\n",
    "Wir verwenden die ReLu Activation Function."
   ]
  },
  {
   "cell_type": "code",
   "execution_count": 81,
   "metadata": {},
   "outputs": [],
   "source": [
    "σ(z) = max(0,z);"
   ]
  },
  {
   "cell_type": "markdown",
   "metadata": {},
   "source": [
    "Wir definieren das Modell durch ein neuronales Netz von Tiefe 2 und mit inneren Layer, der durch lineare Funktionen $\\mathbb R^1\\to \\mathbb R^2$ und $\\mathbb R^2\\to \\mathbb R^1$ gegeben ist. \n",
    "\n",
    "Dies ist ein sehr simples neuronales Netz, eignet sich daher aber gut um die Funktionsweise zu veranschaulichen."
   ]
  },
  {
   "cell_type": "code",
   "execution_count": 82,
   "metadata": {},
   "outputs": [],
   "source": [
    "function f_NN(x::Number, θ)\n",
    "    A, b = reshape(θ[1:2], 2, 1), θ[3:4]\n",
    "    y = σ.(A * x + b)\n",
    "    \n",
    "    A, b = reshape(θ[5:6], 1, 2), θ[7:7]\n",
    "    z = σ.(A * y + b)\n",
    "    \n",
    "    z[1]\n",
    "end\n",
    "f_NN(X::Vector, θ) = [f_NN(x, θ) for x in X];"
   ]
  },
  {
   "cell_type": "markdown",
   "metadata": {},
   "source": [
    "Da wir für das neuronale Netz keine geschlossene Form für den ERM-Schätzer `θ_ERM` haben, müssen wir `θ_ERM` durch Optimierungsmethoden bestimmen.\n",
    "\n",
    "Wir werden die Blackbox `optimize` Funktion aus dem Package `Optim.jl`."
   ]
  },
  {
   "cell_type": "code",
   "execution_count": 83,
   "metadata": {},
   "outputs": [],
   "source": [
    "R_NN(θ, X, Y) = mean((f_NN(X, θ) - Y).^2)\n",
    "o = optimize(θ -> R_NN(θ, X, Y), rand(7))\n",
    "θ_NN = Optim.minimizer(o);"
   ]
  },
  {
   "cell_type": "markdown",
   "metadata": {},
   "source": [
    "Das neuronale Netz hat nun eine Funktion geschätzt, die wir wieder zusammen mit den Trainingsdaten visualisieren."
   ]
  },
  {
   "cell_type": "code",
   "execution_count": 84,
   "metadata": {},
   "outputs": [
    {
     "data": {
      "image/svg+xml": [
       "<?xml version=\"1.0\" encoding=\"utf-8\"?>\n",
       "<svg xmlns=\"http://www.w3.org/2000/svg\" xmlns:xlink=\"http://www.w3.org/1999/xlink\" width=\"600\" height=\"300\" viewBox=\"0 0 2400 1200\">\n",
       "<defs>\n",
       "  <clipPath id=\"clip800\">\n",
       "    <rect x=\"0\" y=\"0\" width=\"2400\" height=\"1200\"/>\n",
       "  </clipPath>\n",
       "</defs>\n",
       "<path clip-path=\"url(#clip800)\" d=\"\n",
       "M0 1200 L2400 1200 L2400 0 L0 0  Z\n",
       "  \" fill=\"#ffffff\" fill-rule=\"evenodd\" fill-opacity=\"1\"/>\n",
       "<defs>\n",
       "  <clipPath id=\"clip801\">\n",
       "    <rect x=\"480\" y=\"0\" width=\"1681\" height=\"1200\"/>\n",
       "  </clipPath>\n",
       "</defs>\n",
       "<path clip-path=\"url(#clip800)\" d=\"\n",
       "M193.241 1047.7 L2352.76 1047.7 L2352.76 47.2441 L193.241 47.2441  Z\n",
       "  \" fill=\"#ffffff\" fill-rule=\"evenodd\" fill-opacity=\"1\"/>\n",
       "<defs>\n",
       "  <clipPath id=\"clip802\">\n",
       "    <rect x=\"193\" y=\"47\" width=\"2161\" height=\"1001\"/>\n",
       "  </clipPath>\n",
       "</defs>\n",
       "<polyline clip-path=\"url(#clip802)\" style=\"stroke:#000000; stroke-linecap:butt; stroke-linejoin:round; stroke-width:2; stroke-opacity:0.1; fill:none\" points=\"\n",
       "  431.514,1047.7 431.514,47.2441 \n",
       "  \"/>\n",
       "<polyline clip-path=\"url(#clip802)\" style=\"stroke:#000000; stroke-linecap:butt; stroke-linejoin:round; stroke-width:2; stroke-opacity:0.1; fill:none\" points=\"\n",
       "  874.401,1047.7 874.401,47.2441 \n",
       "  \"/>\n",
       "<polyline clip-path=\"url(#clip802)\" style=\"stroke:#000000; stroke-linecap:butt; stroke-linejoin:round; stroke-width:2; stroke-opacity:0.1; fill:none\" points=\"\n",
       "  1317.29,1047.7 1317.29,47.2441 \n",
       "  \"/>\n",
       "<polyline clip-path=\"url(#clip802)\" style=\"stroke:#000000; stroke-linecap:butt; stroke-linejoin:round; stroke-width:2; stroke-opacity:0.1; fill:none\" points=\"\n",
       "  1760.17,1047.7 1760.17,47.2441 \n",
       "  \"/>\n",
       "<polyline clip-path=\"url(#clip802)\" style=\"stroke:#000000; stroke-linecap:butt; stroke-linejoin:round; stroke-width:2; stroke-opacity:0.1; fill:none\" points=\"\n",
       "  2203.06,1047.7 2203.06,47.2441 \n",
       "  \"/>\n",
       "<polyline clip-path=\"url(#clip800)\" style=\"stroke:#000000; stroke-linecap:butt; stroke-linejoin:round; stroke-width:4; stroke-opacity:1; fill:none\" points=\"\n",
       "  193.241,1047.7 2352.76,1047.7 \n",
       "  \"/>\n",
       "<polyline clip-path=\"url(#clip800)\" style=\"stroke:#000000; stroke-linecap:butt; stroke-linejoin:round; stroke-width:4; stroke-opacity:1; fill:none\" points=\"\n",
       "  431.514,1047.7 431.514,1028.8 \n",
       "  \"/>\n",
       "<polyline clip-path=\"url(#clip800)\" style=\"stroke:#000000; stroke-linecap:butt; stroke-linejoin:round; stroke-width:4; stroke-opacity:1; fill:none\" points=\"\n",
       "  874.401,1047.7 874.401,1028.8 \n",
       "  \"/>\n",
       "<polyline clip-path=\"url(#clip800)\" style=\"stroke:#000000; stroke-linecap:butt; stroke-linejoin:round; stroke-width:4; stroke-opacity:1; fill:none\" points=\"\n",
       "  1317.29,1047.7 1317.29,1028.8 \n",
       "  \"/>\n",
       "<polyline clip-path=\"url(#clip800)\" style=\"stroke:#000000; stroke-linecap:butt; stroke-linejoin:round; stroke-width:4; stroke-opacity:1; fill:none\" points=\"\n",
       "  1760.17,1047.7 1760.17,1028.8 \n",
       "  \"/>\n",
       "<polyline clip-path=\"url(#clip800)\" style=\"stroke:#000000; stroke-linecap:butt; stroke-linejoin:round; stroke-width:4; stroke-opacity:1; fill:none\" points=\"\n",
       "  2203.06,1047.7 2203.06,1028.8 \n",
       "  \"/>\n",
       "<path clip-path=\"url(#clip800)\" d=\"M421.792 1075.54 L440.148 1075.54 L440.148 1079.48 L426.074 1079.48 L426.074 1087.95 Q427.093 1087.6 428.111 1087.44 Q429.13 1087.25 430.148 1087.25 Q435.935 1087.25 439.315 1090.42 Q442.694 1093.6 442.694 1099.01 Q442.694 1104.59 439.222 1107.69 Q435.75 1110.77 429.431 1110.77 Q427.255 1110.77 424.986 1110.4 Q422.741 1110.03 420.333 1109.29 L420.333 1104.59 Q422.417 1105.72 424.639 1106.28 Q426.861 1106.84 429.338 1106.84 Q433.343 1106.84 435.681 1104.73 Q438.019 1102.62 438.019 1099.01 Q438.019 1095.4 435.681 1093.29 Q433.343 1091.19 429.338 1091.19 Q427.463 1091.19 425.588 1091.6 Q423.736 1092.02 421.792 1092.9 L421.792 1075.54 Z\" fill=\"#000000\" fill-rule=\"evenodd\" fill-opacity=\"1\" /><path clip-path=\"url(#clip800)\" d=\"M849.088 1106.16 L856.727 1106.16 L856.727 1079.8 L848.417 1081.47 L848.417 1077.21 L856.681 1075.54 L861.357 1075.54 L861.357 1106.16 L868.995 1106.16 L868.995 1110.1 L849.088 1110.1 L849.088 1106.16 Z\" fill=\"#000000\" fill-rule=\"evenodd\" fill-opacity=\"1\" /><path clip-path=\"url(#clip800)\" d=\"M888.44 1078.62 Q884.829 1078.62 883 1082.18 Q881.194 1085.72 881.194 1092.85 Q881.194 1099.96 883 1103.53 Q884.829 1107.07 888.44 1107.07 Q892.074 1107.07 893.88 1103.53 Q895.708 1099.96 895.708 1092.85 Q895.708 1085.72 893.88 1082.18 Q892.074 1078.62 888.44 1078.62 M888.44 1074.91 Q894.25 1074.91 897.305 1079.52 Q900.384 1084.1 900.384 1092.85 Q900.384 1101.58 897.305 1106.19 Q894.25 1110.77 888.44 1110.77 Q882.63 1110.77 879.551 1106.19 Q876.495 1101.58 876.495 1092.85 Q876.495 1084.1 879.551 1079.52 Q882.63 1074.91 888.44 1074.91 Z\" fill=\"#000000\" fill-rule=\"evenodd\" fill-opacity=\"1\" /><path clip-path=\"url(#clip800)\" d=\"M1292.47 1106.16 L1300.11 1106.16 L1300.11 1079.8 L1291.8 1081.47 L1291.8 1077.21 L1300.06 1075.54 L1304.74 1075.54 L1304.74 1106.16 L1312.38 1106.16 L1312.38 1110.1 L1292.47 1110.1 L1292.47 1106.16 Z\" fill=\"#000000\" fill-rule=\"evenodd\" fill-opacity=\"1\" /><path clip-path=\"url(#clip800)\" d=\"M1321.87 1075.54 L1340.23 1075.54 L1340.23 1079.48 L1326.15 1079.48 L1326.15 1087.95 Q1327.17 1087.6 1328.19 1087.44 Q1329.21 1087.25 1330.23 1087.25 Q1336.01 1087.25 1339.39 1090.42 Q1342.77 1093.6 1342.77 1099.01 Q1342.77 1104.59 1339.3 1107.69 Q1335.83 1110.77 1329.51 1110.77 Q1327.33 1110.77 1325.06 1110.4 Q1322.82 1110.03 1320.41 1109.29 L1320.41 1104.59 Q1322.5 1105.72 1324.72 1106.28 Q1326.94 1106.84 1329.42 1106.84 Q1333.42 1106.84 1335.76 1104.73 Q1338.1 1102.62 1338.1 1099.01 Q1338.1 1095.4 1335.76 1093.29 Q1333.42 1091.19 1329.42 1091.19 Q1327.54 1091.19 1325.67 1091.6 Q1323.81 1092.02 1321.87 1092.9 L1321.87 1075.54 Z\" fill=\"#000000\" fill-rule=\"evenodd\" fill-opacity=\"1\" /><path clip-path=\"url(#clip800)\" d=\"M1738.95 1106.16 L1755.27 1106.16 L1755.27 1110.1 L1733.32 1110.1 L1733.32 1106.16 Q1735.98 1103.41 1740.57 1098.78 Q1745.17 1094.13 1746.35 1092.79 Q1748.6 1090.26 1749.48 1088.53 Q1750.38 1086.77 1750.38 1085.08 Q1750.38 1082.32 1748.44 1080.59 Q1746.52 1078.85 1743.41 1078.85 Q1741.22 1078.85 1738.76 1079.61 Q1736.33 1080.38 1733.55 1081.93 L1733.55 1077.21 Q1736.38 1076.07 1738.83 1075.49 Q1741.28 1074.91 1743.32 1074.91 Q1748.69 1074.91 1751.89 1077.6 Q1755.08 1080.29 1755.08 1084.78 Q1755.08 1086.91 1754.27 1088.83 Q1753.48 1090.72 1751.38 1093.32 Q1750.8 1093.99 1747.7 1097.21 Q1744.6 1100.4 1738.95 1106.16 Z\" fill=\"#000000\" fill-rule=\"evenodd\" fill-opacity=\"1\" /><path clip-path=\"url(#clip800)\" d=\"M1775.08 1078.62 Q1771.47 1078.62 1769.64 1082.18 Q1767.84 1085.72 1767.84 1092.85 Q1767.84 1099.96 1769.64 1103.53 Q1771.47 1107.07 1775.08 1107.07 Q1778.72 1107.07 1780.52 1103.53 Q1782.35 1099.96 1782.35 1092.85 Q1782.35 1085.72 1780.52 1082.18 Q1778.72 1078.62 1775.08 1078.62 M1775.08 1074.91 Q1780.89 1074.91 1783.95 1079.52 Q1787.03 1084.1 1787.03 1092.85 Q1787.03 1101.58 1783.95 1106.19 Q1780.89 1110.77 1775.08 1110.77 Q1769.27 1110.77 1766.19 1106.19 Q1763.14 1101.58 1763.14 1092.85 Q1763.14 1084.1 1766.19 1079.52 Q1769.27 1074.91 1775.08 1074.91 Z\" fill=\"#000000\" fill-rule=\"evenodd\" fill-opacity=\"1\" /><path clip-path=\"url(#clip800)\" d=\"M2182.33 1106.16 L2198.65 1106.16 L2198.65 1110.1 L2176.71 1110.1 L2176.71 1106.16 Q2179.37 1103.41 2183.95 1098.78 Q2188.56 1094.13 2189.74 1092.79 Q2191.98 1090.26 2192.86 1088.53 Q2193.77 1086.77 2193.77 1085.08 Q2193.77 1082.32 2191.82 1080.59 Q2189.9 1078.85 2186.8 1078.85 Q2184.6 1078.85 2182.15 1079.61 Q2179.72 1080.38 2176.94 1081.93 L2176.94 1077.21 Q2179.76 1076.07 2182.22 1075.49 Q2184.67 1074.91 2186.71 1074.91 Q2192.08 1074.91 2195.27 1077.6 Q2198.47 1080.29 2198.47 1084.78 Q2198.47 1086.91 2197.66 1088.83 Q2196.87 1090.72 2194.76 1093.32 Q2194.18 1093.99 2191.08 1097.21 Q2187.98 1100.4 2182.33 1106.16 Z\" fill=\"#000000\" fill-rule=\"evenodd\" fill-opacity=\"1\" /><path clip-path=\"url(#clip800)\" d=\"M2208.51 1075.54 L2226.87 1075.54 L2226.87 1079.48 L2212.79 1079.48 L2212.79 1087.95 Q2213.81 1087.6 2214.83 1087.44 Q2215.85 1087.25 2216.87 1087.25 Q2222.66 1087.25 2226.03 1090.42 Q2229.41 1093.6 2229.41 1099.01 Q2229.41 1104.59 2225.94 1107.69 Q2222.47 1110.77 2216.15 1110.77 Q2213.97 1110.77 2211.71 1110.4 Q2209.46 1110.03 2207.05 1109.29 L2207.05 1104.59 Q2209.14 1105.72 2211.36 1106.28 Q2213.58 1106.84 2216.06 1106.84 Q2220.06 1106.84 2222.4 1104.73 Q2224.74 1102.62 2224.74 1099.01 Q2224.74 1095.4 2222.4 1093.29 Q2220.06 1091.19 2216.06 1091.19 Q2214.18 1091.19 2212.31 1091.6 Q2210.46 1092.02 2208.51 1092.9 L2208.51 1075.54 Z\" fill=\"#000000\" fill-rule=\"evenodd\" fill-opacity=\"1\" /><path clip-path=\"url(#clip800)\" d=\"M1206.52 1146.6 L1206.52 1152.87 Q1202.86 1151.12 1199.62 1150.26 Q1196.37 1149.4 1193.35 1149.4 Q1188.1 1149.4 1185.23 1151.44 Q1182.4 1153.48 1182.4 1157.23 Q1182.4 1160.39 1184.28 1162.01 Q1186.19 1163.6 1191.47 1164.59 L1195.35 1165.38 Q1202.55 1166.75 1205.95 1170.22 Q1209.39 1173.66 1209.39 1179.45 Q1209.39 1186.36 1204.74 1189.92 Q1200.13 1193.49 1191.18 1193.49 Q1187.81 1193.49 1183.99 1192.72 Q1180.2 1191.96 1176.13 1190.46 L1176.13 1183.84 Q1180.04 1186.04 1183.8 1187.15 Q1187.55 1188.27 1191.18 1188.27 Q1196.69 1188.27 1199.68 1186.1 Q1202.67 1183.94 1202.67 1179.93 Q1202.67 1176.43 1200.51 1174.45 Q1198.38 1172.48 1193.47 1171.49 L1189.56 1170.73 Q1182.37 1169.3 1179.15 1166.24 Q1175.94 1163.19 1175.94 1157.74 Q1175.94 1151.44 1180.36 1147.81 Q1184.82 1144.18 1192.62 1144.18 Q1195.96 1144.18 1199.43 1144.79 Q1202.9 1145.39 1206.52 1146.6 Z\" fill=\"#000000\" fill-rule=\"evenodd\" fill-opacity=\"1\" /><path clip-path=\"url(#clip800)\" d=\"M1224.83 1187.22 L1224.83 1206.12 L1218.94 1206.12 L1218.94 1156.92 L1224.83 1156.92 L1224.83 1162.33 Q1226.67 1159.14 1229.47 1157.62 Q1232.31 1156.06 1236.22 1156.06 Q1242.71 1156.06 1246.76 1161.21 Q1250.83 1166.37 1250.83 1174.77 Q1250.83 1183.17 1246.76 1188.33 Q1242.71 1193.49 1236.22 1193.49 Q1232.31 1193.49 1229.47 1191.96 Q1226.67 1190.4 1224.83 1187.22 M1244.75 1174.77 Q1244.75 1168.31 1242.08 1164.65 Q1239.44 1160.96 1234.79 1160.96 Q1230.14 1160.96 1227.47 1164.65 Q1224.83 1168.31 1224.83 1174.77 Q1224.83 1181.23 1227.47 1184.92 Q1230.14 1188.59 1234.79 1188.59 Q1239.44 1188.59 1242.08 1184.92 Q1244.75 1181.23 1244.75 1174.77 Z\" fill=\"#000000\" fill-rule=\"evenodd\" fill-opacity=\"1\" /><path clip-path=\"url(#clip800)\" d=\"M1291.03 1173.28 L1291.03 1176.14 L1264.1 1176.14 Q1264.48 1182.19 1267.73 1185.37 Q1271.01 1188.52 1276.83 1188.52 Q1280.21 1188.52 1283.36 1187.69 Q1286.54 1186.87 1289.66 1185.21 L1289.66 1190.75 Q1286.51 1192.09 1283.2 1192.79 Q1279.89 1193.49 1276.48 1193.49 Q1267.95 1193.49 1262.96 1188.52 Q1257.99 1183.56 1257.99 1175.09 Q1257.99 1166.34 1262.7 1161.21 Q1267.44 1156.06 1275.47 1156.06 Q1282.66 1156.06 1286.83 1160.7 Q1291.03 1165.32 1291.03 1173.28 M1285.17 1171.56 Q1285.11 1166.75 1282.47 1163.89 Q1279.86 1161.02 1275.53 1161.02 Q1270.63 1161.02 1267.67 1163.79 Q1264.74 1166.56 1264.29 1171.59 L1285.17 1171.56 Z\" fill=\"#000000\" fill-rule=\"evenodd\" fill-opacity=\"1\" /><path clip-path=\"url(#clip800)\" d=\"M1331.13 1173.28 L1331.13 1176.14 L1304.21 1176.14 Q1304.59 1182.19 1307.83 1185.37 Q1311.11 1188.52 1316.94 1188.52 Q1320.31 1188.52 1323.46 1187.69 Q1326.65 1186.87 1329.76 1185.21 L1329.76 1190.75 Q1326.61 1192.09 1323.3 1192.79 Q1319.99 1193.49 1316.59 1193.49 Q1308.06 1193.49 1303.06 1188.52 Q1298.1 1183.56 1298.1 1175.09 Q1298.1 1166.34 1302.81 1161.21 Q1307.55 1156.06 1315.57 1156.06 Q1322.76 1156.06 1326.93 1160.7 Q1331.13 1165.32 1331.13 1173.28 M1325.28 1171.56 Q1325.21 1166.75 1322.57 1163.89 Q1319.96 1161.02 1315.63 1161.02 Q1310.73 1161.02 1307.77 1163.79 Q1304.84 1166.56 1304.4 1171.59 L1325.28 1171.56 Z\" fill=\"#000000\" fill-rule=\"evenodd\" fill-opacity=\"1\" /><path clip-path=\"url(#clip800)\" d=\"M1364.2 1162.33 L1364.2 1143.04 L1370.06 1143.04 L1370.06 1192.56 L1364.2 1192.56 L1364.2 1187.22 Q1362.36 1190.4 1359.52 1191.96 Q1356.72 1193.49 1352.78 1193.49 Q1346.32 1193.49 1342.24 1188.33 Q1338.2 1183.17 1338.2 1174.77 Q1338.2 1166.37 1342.24 1161.21 Q1346.32 1156.06 1352.78 1156.06 Q1356.72 1156.06 1359.52 1157.62 Q1362.36 1159.14 1364.2 1162.33 M1344.25 1174.77 Q1344.25 1181.23 1346.89 1184.92 Q1349.56 1188.59 1354.21 1188.59 Q1358.86 1188.59 1361.53 1184.92 Q1364.2 1181.23 1364.2 1174.77 Q1364.2 1168.31 1361.53 1164.65 Q1358.86 1160.96 1354.21 1160.96 Q1349.56 1160.96 1346.89 1164.65 Q1344.25 1168.31 1344.25 1174.77 Z\" fill=\"#000000\" fill-rule=\"evenodd\" fill-opacity=\"1\" /><polyline clip-path=\"url(#clip802)\" style=\"stroke:#000000; stroke-linecap:butt; stroke-linejoin:round; stroke-width:2; stroke-opacity:0.1; fill:none\" points=\"\n",
       "  193.241,1033.6 2352.76,1033.6 \n",
       "  \"/>\n",
       "<polyline clip-path=\"url(#clip802)\" style=\"stroke:#000000; stroke-linecap:butt; stroke-linejoin:round; stroke-width:2; stroke-opacity:0.1; fill:none\" points=\"\n",
       "  193.241,825.332 2352.76,825.332 \n",
       "  \"/>\n",
       "<polyline clip-path=\"url(#clip802)\" style=\"stroke:#000000; stroke-linecap:butt; stroke-linejoin:round; stroke-width:2; stroke-opacity:0.1; fill:none\" points=\"\n",
       "  193.241,617.062 2352.76,617.062 \n",
       "  \"/>\n",
       "<polyline clip-path=\"url(#clip802)\" style=\"stroke:#000000; stroke-linecap:butt; stroke-linejoin:round; stroke-width:2; stroke-opacity:0.1; fill:none\" points=\"\n",
       "  193.241,408.792 2352.76,408.792 \n",
       "  \"/>\n",
       "<polyline clip-path=\"url(#clip802)\" style=\"stroke:#000000; stroke-linecap:butt; stroke-linejoin:round; stroke-width:2; stroke-opacity:0.1; fill:none\" points=\"\n",
       "  193.241,200.521 2352.76,200.521 \n",
       "  \"/>\n",
       "<polyline clip-path=\"url(#clip800)\" style=\"stroke:#000000; stroke-linecap:butt; stroke-linejoin:round; stroke-width:4; stroke-opacity:1; fill:none\" points=\"\n",
       "  193.241,1047.7 193.241,47.2441 \n",
       "  \"/>\n",
       "<polyline clip-path=\"url(#clip800)\" style=\"stroke:#000000; stroke-linecap:butt; stroke-linejoin:round; stroke-width:4; stroke-opacity:1; fill:none\" points=\"\n",
       "  193.241,1033.6 212.139,1033.6 \n",
       "  \"/>\n",
       "<polyline clip-path=\"url(#clip800)\" style=\"stroke:#000000; stroke-linecap:butt; stroke-linejoin:round; stroke-width:4; stroke-opacity:1; fill:none\" points=\"\n",
       "  193.241,825.332 212.139,825.332 \n",
       "  \"/>\n",
       "<polyline clip-path=\"url(#clip800)\" style=\"stroke:#000000; stroke-linecap:butt; stroke-linejoin:round; stroke-width:4; stroke-opacity:1; fill:none\" points=\"\n",
       "  193.241,617.062 212.139,617.062 \n",
       "  \"/>\n",
       "<polyline clip-path=\"url(#clip800)\" style=\"stroke:#000000; stroke-linecap:butt; stroke-linejoin:round; stroke-width:4; stroke-opacity:1; fill:none\" points=\"\n",
       "  193.241,408.792 212.139,408.792 \n",
       "  \"/>\n",
       "<polyline clip-path=\"url(#clip800)\" style=\"stroke:#000000; stroke-linecap:butt; stroke-linejoin:round; stroke-width:4; stroke-opacity:1; fill:none\" points=\"\n",
       "  193.241,200.521 212.139,200.521 \n",
       "  \"/>\n",
       "<path clip-path=\"url(#clip800)\" d=\"M145.297 1019.4 Q141.686 1019.4 139.857 1022.97 Q138.051 1026.51 138.051 1033.64 Q138.051 1040.74 139.857 1044.31 Q141.686 1047.85 145.297 1047.85 Q148.931 1047.85 150.736 1044.31 Q152.565 1040.74 152.565 1033.64 Q152.565 1026.51 150.736 1022.97 Q148.931 1019.4 145.297 1019.4 M145.297 1015.7 Q151.107 1015.7 154.162 1020.3 Q157.241 1024.89 157.241 1033.64 Q157.241 1042.36 154.162 1046.97 Q151.107 1051.55 145.297 1051.55 Q139.486 1051.55 136.408 1046.97 Q133.352 1042.36 133.352 1033.64 Q133.352 1024.89 136.408 1020.3 Q139.486 1015.7 145.297 1015.7 Z\" fill=\"#000000\" fill-rule=\"evenodd\" fill-opacity=\"1\" /><path clip-path=\"url(#clip800)\" d=\"M109.163 838.677 L125.482 838.677 L125.482 842.612 L103.538 842.612 L103.538 838.677 Q106.2 835.923 110.783 831.293 Q115.389 826.64 116.57 825.298 Q118.815 822.775 119.695 821.038 Q120.598 819.279 120.598 817.589 Q120.598 814.835 118.653 813.099 Q116.732 811.363 113.63 811.363 Q111.431 811.363 108.977 812.127 Q106.547 812.89 103.769 814.441 L103.769 809.719 Q106.593 808.585 109.047 808.006 Q111.5 807.427 113.538 807.427 Q118.908 807.427 122.102 810.113 Q125.297 812.798 125.297 817.289 Q125.297 819.418 124.487 821.339 Q123.699 823.238 121.593 825.83 Q121.014 826.501 117.912 829.719 Q114.811 832.913 109.163 838.677 Z\" fill=\"#000000\" fill-rule=\"evenodd\" fill-opacity=\"1\" /><path clip-path=\"url(#clip800)\" d=\"M145.297 811.131 Q141.686 811.131 139.857 814.696 Q138.051 818.238 138.051 825.367 Q138.051 832.474 139.857 836.038 Q141.686 839.58 145.297 839.58 Q148.931 839.58 150.736 836.038 Q152.565 832.474 152.565 825.367 Q152.565 818.238 150.736 814.696 Q148.931 811.131 145.297 811.131 M145.297 807.427 Q151.107 807.427 154.162 812.034 Q157.241 816.617 157.241 825.367 Q157.241 834.094 154.162 838.7 Q151.107 843.284 145.297 843.284 Q139.486 843.284 136.408 838.7 Q133.352 834.094 133.352 825.367 Q133.352 816.617 136.408 812.034 Q139.486 807.427 145.297 807.427 Z\" fill=\"#000000\" fill-rule=\"evenodd\" fill-opacity=\"1\" /><path clip-path=\"url(#clip800)\" d=\"M117.982 603.856 L106.176 622.305 L117.982 622.305 L117.982 603.856 M116.755 599.782 L122.635 599.782 L122.635 622.305 L127.565 622.305 L127.565 626.194 L122.635 626.194 L122.635 634.342 L117.982 634.342 L117.982 626.194 L102.38 626.194 L102.38 621.68 L116.755 599.782 Z\" fill=\"#000000\" fill-rule=\"evenodd\" fill-opacity=\"1\" /><path clip-path=\"url(#clip800)\" d=\"M145.297 602.861 Q141.686 602.861 139.857 606.426 Q138.051 609.967 138.051 617.097 Q138.051 624.203 139.857 627.768 Q141.686 631.31 145.297 631.31 Q148.931 631.31 150.736 627.768 Q152.565 624.203 152.565 617.097 Q152.565 609.967 150.736 606.426 Q148.931 602.861 145.297 602.861 M145.297 599.157 Q151.107 599.157 154.162 603.763 Q157.241 608.347 157.241 617.097 Q157.241 625.824 154.162 630.43 Q151.107 635.013 145.297 635.013 Q139.486 635.013 136.408 630.43 Q133.352 625.824 133.352 617.097 Q133.352 608.347 136.408 603.763 Q139.486 599.157 145.297 599.157 Z\" fill=\"#000000\" fill-rule=\"evenodd\" fill-opacity=\"1\" /><path clip-path=\"url(#clip800)\" d=\"M115.713 406.928 Q112.565 406.928 110.713 409.081 Q108.885 411.234 108.885 414.984 Q108.885 418.711 110.713 420.886 Q112.565 423.039 115.713 423.039 Q118.862 423.039 120.69 420.886 Q122.542 418.711 122.542 414.984 Q122.542 411.234 120.69 409.081 Q118.862 406.928 115.713 406.928 M124.996 392.275 L124.996 396.535 Q123.237 395.701 121.431 395.262 Q119.649 394.822 117.889 394.822 Q113.26 394.822 110.806 397.947 Q108.375 401.072 108.028 407.391 Q109.394 405.377 111.454 404.312 Q113.514 403.224 115.991 403.224 Q121.2 403.224 124.209 406.396 Q127.241 409.544 127.241 414.984 Q127.241 420.308 124.093 423.525 Q120.945 426.743 115.713 426.743 Q109.718 426.743 106.547 422.16 Q103.376 417.553 103.376 408.826 Q103.376 400.632 107.264 395.771 Q111.153 390.887 117.704 390.887 Q119.463 390.887 121.246 391.234 Q123.051 391.581 124.996 392.275 Z\" fill=\"#000000\" fill-rule=\"evenodd\" fill-opacity=\"1\" /><path clip-path=\"url(#clip800)\" d=\"M145.297 394.59 Q141.686 394.59 139.857 398.155 Q138.051 401.697 138.051 408.826 Q138.051 415.933 139.857 419.498 Q141.686 423.039 145.297 423.039 Q148.931 423.039 150.736 419.498 Q152.565 415.933 152.565 408.826 Q152.565 401.697 150.736 398.155 Q148.931 394.59 145.297 394.59 M145.297 390.887 Q151.107 390.887 154.162 395.493 Q157.241 400.076 157.241 408.826 Q157.241 417.553 154.162 422.16 Q151.107 426.743 145.297 426.743 Q139.486 426.743 136.408 422.16 Q133.352 417.553 133.352 408.826 Q133.352 400.076 136.408 395.493 Q139.486 390.887 145.297 390.887 Z\" fill=\"#000000\" fill-rule=\"evenodd\" fill-opacity=\"1\" /><path clip-path=\"url(#clip800)\" d=\"M115.135 201.389 Q111.801 201.389 109.88 203.172 Q107.982 204.954 107.982 208.079 Q107.982 211.204 109.88 212.986 Q111.801 214.769 115.135 214.769 Q118.468 214.769 120.389 212.986 Q122.311 211.181 122.311 208.079 Q122.311 204.954 120.389 203.172 Q118.491 201.389 115.135 201.389 M110.459 199.398 Q107.45 198.658 105.76 196.598 Q104.093 194.537 104.093 191.574 Q104.093 187.431 107.033 185.024 Q109.996 182.616 115.135 182.616 Q120.297 182.616 123.237 185.024 Q126.176 187.431 126.176 191.574 Q126.176 194.537 124.487 196.598 Q122.82 198.658 119.834 199.398 Q123.213 200.185 125.088 202.477 Q126.987 204.769 126.987 208.079 Q126.987 213.102 123.908 215.787 Q120.852 218.472 115.135 218.472 Q109.417 218.472 106.338 215.787 Q103.283 213.102 103.283 208.079 Q103.283 204.769 105.181 202.477 Q107.079 200.185 110.459 199.398 M108.746 192.014 Q108.746 194.699 110.413 196.204 Q112.102 197.709 115.135 197.709 Q118.144 197.709 119.834 196.204 Q121.547 194.699 121.547 192.014 Q121.547 189.329 119.834 187.824 Q118.144 186.32 115.135 186.32 Q112.102 186.32 110.413 187.824 Q108.746 189.329 108.746 192.014 Z\" fill=\"#000000\" fill-rule=\"evenodd\" fill-opacity=\"1\" /><path clip-path=\"url(#clip800)\" d=\"M145.297 186.32 Q141.686 186.32 139.857 189.885 Q138.051 193.426 138.051 200.556 Q138.051 207.662 139.857 211.227 Q141.686 214.769 145.297 214.769 Q148.931 214.769 150.736 211.227 Q152.565 207.662 152.565 200.556 Q152.565 193.426 150.736 189.885 Q148.931 186.32 145.297 186.32 M145.297 182.616 Q151.107 182.616 154.162 187.223 Q157.241 191.806 157.241 200.556 Q157.241 209.283 154.162 213.889 Q151.107 218.472 145.297 218.472 Q139.486 218.472 136.408 213.889 Q133.352 209.283 133.352 200.556 Q133.352 191.806 136.408 187.223 Q139.486 182.616 145.297 182.616 Z\" fill=\"#000000\" fill-rule=\"evenodd\" fill-opacity=\"1\" /><path clip-path=\"url(#clip800)\" d=\"M9.88769 600.976 L46.8406 600.976 L46.8406 593.21 Q46.8406 583.375 42.3846 578.823 Q37.9286 574.24 28.3164 574.24 Q18.7679 574.24 14.3437 578.823 Q9.88769 583.375 9.88769 593.21 L9.88769 600.976 M4.60416 607.405 L4.60416 594.196 Q4.60416 580.383 10.3651 573.921 Q16.0943 567.46 28.3164 567.46 Q40.6022 567.46 46.3632 573.953 Q52.1242 580.446 52.1242 594.196 L52.1242 607.405 L4.60416 607.405 Z\" fill=\"#000000\" fill-rule=\"evenodd\" fill-opacity=\"1\" /><path clip-path=\"url(#clip800)\" d=\"M16.4762 557.466 L16.4762 551.61 L52.1242 551.61 L52.1242 557.466 L16.4762 557.466 M2.59896 557.466 L2.59896 551.61 L10.015 551.61 L10.015 557.466 L2.59896 557.466 Z\" fill=\"#000000\" fill-rule=\"evenodd\" fill-opacity=\"1\" /><path clip-path=\"url(#clip800)\" d=\"M17.5265 516.63 L23.0647 516.63 Q21.7916 519.113 21.155 521.786 Q20.5184 524.46 20.5184 527.325 Q20.5184 531.685 21.8552 533.881 Q23.192 536.046 25.8656 536.046 Q27.9026 536.046 29.0803 534.486 Q30.2261 532.926 31.2765 528.216 L31.7221 526.211 Q33.0589 519.972 35.5097 517.362 Q37.9286 514.72 42.2891 514.72 Q47.2544 514.72 50.1508 518.667 Q53.0472 522.582 53.0472 529.457 Q53.0472 532.322 52.4743 535.441 Q51.9332 538.528 50.8192 541.966 L44.7718 541.966 Q46.4587 538.719 47.318 535.568 Q48.1456 532.417 48.1456 529.33 Q48.1456 525.192 46.7451 522.964 Q45.3129 520.736 42.7347 520.736 Q40.3476 520.736 39.0745 522.359 Q37.8013 523.951 36.6237 529.393 L36.1462 531.43 Q35.0004 536.873 32.6451 539.292 Q30.258 541.711 26.1202 541.711 Q21.0913 541.711 18.3541 538.146 Q15.6168 534.581 15.6168 528.025 Q15.6168 524.778 16.0943 521.914 Q16.5717 519.049 17.5265 516.63 Z\" fill=\"#000000\" fill-rule=\"evenodd\" fill-opacity=\"1\" /><path clip-path=\"url(#clip800)\" d=\"M6.35473 499.602 L16.4762 499.602 L16.4762 487.539 L21.0277 487.539 L21.0277 499.602 L40.3794 499.602 Q44.7399 499.602 45.9813 498.424 Q47.2226 497.215 47.2226 493.554 L47.2226 487.539 L52.1242 487.539 L52.1242 493.554 Q52.1242 500.334 49.6097 502.912 Q47.0634 505.49 40.3794 505.49 L21.0277 505.49 L21.0277 509.787 L16.4762 509.787 L16.4762 505.49 L6.35473 505.49 L6.35473 499.602 Z\" fill=\"#000000\" fill-rule=\"evenodd\" fill-opacity=\"1\" /><circle clip-path=\"url(#clip802)\" cx=\"1051.56\" cy=\"783.678\" r=\"14\" fill=\"#009af9\" fill-rule=\"evenodd\" fill-opacity=\"1\" stroke=\"#000000\" stroke-opacity=\"1\" stroke-width=\"2.4\"/>\n",
       "<circle clip-path=\"url(#clip802)\" cx=\"2114.48\" cy=\"304.656\" r=\"14\" fill=\"#009af9\" fill-rule=\"evenodd\" fill-opacity=\"1\" stroke=\"#000000\" stroke-opacity=\"1\" stroke-width=\"2.4\"/>\n",
       "<circle clip-path=\"url(#clip802)\" cx=\"1760.17\" cy=\"450.446\" r=\"14\" fill=\"#009af9\" fill-rule=\"evenodd\" fill-opacity=\"1\" stroke=\"#000000\" stroke-opacity=\"1\" stroke-width=\"2.4\"/>\n",
       "<circle clip-path=\"url(#clip802)\" cx=\"1140.13\" cy=\"554.581\" r=\"14\" fill=\"#009af9\" fill-rule=\"evenodd\" fill-opacity=\"1\" stroke=\"#000000\" stroke-opacity=\"1\" stroke-width=\"2.4\"/>\n",
       "<circle clip-path=\"url(#clip802)\" cx=\"1583.02\" cy=\"596.235\" r=\"14\" fill=\"#009af9\" fill-rule=\"evenodd\" fill-opacity=\"1\" stroke=\"#000000\" stroke-opacity=\"1\" stroke-width=\"2.4\"/>\n",
       "<circle clip-path=\"url(#clip802)\" cx=\"1494.44\" cy=\"617.062\" r=\"14\" fill=\"#009af9\" fill-rule=\"evenodd\" fill-opacity=\"1\" stroke=\"#000000\" stroke-opacity=\"1\" stroke-width=\"2.4\"/>\n",
       "<circle clip-path=\"url(#clip802)\" cx=\"1228.71\" cy=\"762.851\" r=\"14\" fill=\"#009af9\" fill-rule=\"evenodd\" fill-opacity=\"1\" stroke=\"#000000\" stroke-opacity=\"1\" stroke-width=\"2.4\"/>\n",
       "<circle clip-path=\"url(#clip802)\" cx=\"1760.17\" cy=\"700.37\" r=\"14\" fill=\"#009af9\" fill-rule=\"evenodd\" fill-opacity=\"1\" stroke=\"#000000\" stroke-opacity=\"1\" stroke-width=\"2.4\"/>\n",
       "<circle clip-path=\"url(#clip802)\" cx=\"2114.48\" cy=\"75.5589\" r=\"14\" fill=\"#009af9\" fill-rule=\"evenodd\" fill-opacity=\"1\" stroke=\"#000000\" stroke-opacity=\"1\" stroke-width=\"2.4\"/>\n",
       "<circle clip-path=\"url(#clip802)\" cx=\"1671.6\" cy=\"325.483\" r=\"14\" fill=\"#009af9\" fill-rule=\"evenodd\" fill-opacity=\"1\" stroke=\"#000000\" stroke-opacity=\"1\" stroke-width=\"2.4\"/>\n",
       "<circle clip-path=\"url(#clip802)\" cx=\"1405.86\" cy=\"700.37\" r=\"14\" fill=\"#009af9\" fill-rule=\"evenodd\" fill-opacity=\"1\" stroke=\"#000000\" stroke-opacity=\"1\" stroke-width=\"2.4\"/>\n",
       "<circle clip-path=\"url(#clip802)\" cx=\"1317.29\" cy=\"825.332\" r=\"14\" fill=\"#009af9\" fill-rule=\"evenodd\" fill-opacity=\"1\" stroke=\"#000000\" stroke-opacity=\"1\" stroke-width=\"2.4\"/>\n",
       "<circle clip-path=\"url(#clip802)\" cx=\"1937.33\" cy=\"346.31\" r=\"14\" fill=\"#009af9\" fill-rule=\"evenodd\" fill-opacity=\"1\" stroke=\"#000000\" stroke-opacity=\"1\" stroke-width=\"2.4\"/>\n",
       "<circle clip-path=\"url(#clip802)\" cx=\"1051.56\" cy=\"742.024\" r=\"14\" fill=\"#009af9\" fill-rule=\"evenodd\" fill-opacity=\"1\" stroke=\"#000000\" stroke-opacity=\"1\" stroke-width=\"2.4\"/>\n",
       "<circle clip-path=\"url(#clip802)\" cx=\"697.246\" cy=\"866.987\" r=\"14\" fill=\"#009af9\" fill-rule=\"evenodd\" fill-opacity=\"1\" stroke=\"#000000\" stroke-opacity=\"1\" stroke-width=\"2.4\"/>\n",
       "<circle clip-path=\"url(#clip802)\" cx=\"1760.17\" cy=\"492.1\" r=\"14\" fill=\"#009af9\" fill-rule=\"evenodd\" fill-opacity=\"1\" stroke=\"#000000\" stroke-opacity=\"1\" stroke-width=\"2.4\"/>\n",
       "<circle clip-path=\"url(#clip802)\" cx=\"1317.29\" cy=\"471.273\" r=\"14\" fill=\"#009af9\" fill-rule=\"evenodd\" fill-opacity=\"1\" stroke=\"#000000\" stroke-opacity=\"1\" stroke-width=\"2.4\"/>\n",
       "<circle clip-path=\"url(#clip802)\" cx=\"1140.13\" cy=\"679.543\" r=\"14\" fill=\"#009af9\" fill-rule=\"evenodd\" fill-opacity=\"1\" stroke=\"#000000\" stroke-opacity=\"1\" stroke-width=\"2.4\"/>\n",
       "<circle clip-path=\"url(#clip802)\" cx=\"962.978\" cy=\"856.573\" r=\"14\" fill=\"#009af9\" fill-rule=\"evenodd\" fill-opacity=\"1\" stroke=\"#000000\" stroke-opacity=\"1\" stroke-width=\"2.4\"/>\n",
       "<circle clip-path=\"url(#clip802)\" cx=\"342.937\" cy=\"1012.78\" r=\"14\" fill=\"#009af9\" fill-rule=\"evenodd\" fill-opacity=\"1\" stroke=\"#000000\" stroke-opacity=\"1\" stroke-width=\"2.4\"/>\n",
       "<circle clip-path=\"url(#clip802)\" cx=\"2203.06\" cy=\"148.454\" r=\"14\" fill=\"#009af9\" fill-rule=\"evenodd\" fill-opacity=\"1\" stroke=\"#000000\" stroke-opacity=\"1\" stroke-width=\"2.4\"/>\n",
       "<circle clip-path=\"url(#clip802)\" cx=\"1228.71\" cy=\"200.521\" r=\"14\" fill=\"#009af9\" fill-rule=\"evenodd\" fill-opacity=\"1\" stroke=\"#000000\" stroke-opacity=\"1\" stroke-width=\"2.4\"/>\n",
       "<circle clip-path=\"url(#clip802)\" cx=\"1140.13\" cy=\"679.543\" r=\"14\" fill=\"#009af9\" fill-rule=\"evenodd\" fill-opacity=\"1\" stroke=\"#000000\" stroke-opacity=\"1\" stroke-width=\"2.4\"/>\n",
       "<circle clip-path=\"url(#clip802)\" cx=\"1051.56\" cy=\"887.814\" r=\"14\" fill=\"#009af9\" fill-rule=\"evenodd\" fill-opacity=\"1\" stroke=\"#000000\" stroke-opacity=\"1\" stroke-width=\"2.4\"/>\n",
       "<circle clip-path=\"url(#clip802)\" cx=\"874.401\" cy=\"762.851\" r=\"14\" fill=\"#009af9\" fill-rule=\"evenodd\" fill-opacity=\"1\" stroke=\"#000000\" stroke-opacity=\"1\" stroke-width=\"2.4\"/>\n",
       "<circle clip-path=\"url(#clip802)\" cx=\"1317.29\" cy=\"762.851\" r=\"14\" fill=\"#009af9\" fill-rule=\"evenodd\" fill-opacity=\"1\" stroke=\"#000000\" stroke-opacity=\"1\" stroke-width=\"2.4\"/>\n",
       "<circle clip-path=\"url(#clip802)\" cx=\"1494.44\" cy=\"700.37\" r=\"14\" fill=\"#009af9\" fill-rule=\"evenodd\" fill-opacity=\"1\" stroke=\"#000000\" stroke-opacity=\"1\" stroke-width=\"2.4\"/>\n",
       "<circle clip-path=\"url(#clip802)\" cx=\"1671.6\" cy=\"554.581\" r=\"14\" fill=\"#009af9\" fill-rule=\"evenodd\" fill-opacity=\"1\" stroke=\"#000000\" stroke-opacity=\"1\" stroke-width=\"2.4\"/>\n",
       "<circle clip-path=\"url(#clip802)\" cx=\"2025.91\" cy=\"471.273\" r=\"14\" fill=\"#009af9\" fill-rule=\"evenodd\" fill-opacity=\"1\" stroke=\"#000000\" stroke-opacity=\"1\" stroke-width=\"2.4\"/>\n",
       "<circle clip-path=\"url(#clip802)\" cx=\"608.669\" cy=\"804.505\" r=\"14\" fill=\"#009af9\" fill-rule=\"evenodd\" fill-opacity=\"1\" stroke=\"#000000\" stroke-opacity=\"1\" stroke-width=\"2.4\"/>\n",
       "<circle clip-path=\"url(#clip802)\" cx=\"608.669\" cy=\"991.949\" r=\"14\" fill=\"#009af9\" fill-rule=\"evenodd\" fill-opacity=\"1\" stroke=\"#000000\" stroke-opacity=\"1\" stroke-width=\"2.4\"/>\n",
       "<circle clip-path=\"url(#clip802)\" cx=\"1228.71\" cy=\"658.716\" r=\"14\" fill=\"#009af9\" fill-rule=\"evenodd\" fill-opacity=\"1\" stroke=\"#000000\" stroke-opacity=\"1\" stroke-width=\"2.4\"/>\n",
       "<circle clip-path=\"url(#clip802)\" cx=\"1583.02\" cy=\"242.175\" r=\"14\" fill=\"#009af9\" fill-rule=\"evenodd\" fill-opacity=\"1\" stroke=\"#000000\" stroke-opacity=\"1\" stroke-width=\"2.4\"/>\n",
       "<circle clip-path=\"url(#clip802)\" cx=\"874.401\" cy=\"846.16\" r=\"14\" fill=\"#009af9\" fill-rule=\"evenodd\" fill-opacity=\"1\" stroke=\"#000000\" stroke-opacity=\"1\" stroke-width=\"2.4\"/>\n",
       "<circle clip-path=\"url(#clip802)\" cx=\"1671.6\" cy=\"658.716\" r=\"14\" fill=\"#009af9\" fill-rule=\"evenodd\" fill-opacity=\"1\" stroke=\"#000000\" stroke-opacity=\"1\" stroke-width=\"2.4\"/>\n",
       "<circle clip-path=\"url(#clip802)\" cx=\"1405.86\" cy=\"617.062\" r=\"14\" fill=\"#009af9\" fill-rule=\"evenodd\" fill-opacity=\"1\" stroke=\"#000000\" stroke-opacity=\"1\" stroke-width=\"2.4\"/>\n",
       "<circle clip-path=\"url(#clip802)\" cx=\"1494.44\" cy=\"512.927\" r=\"14\" fill=\"#009af9\" fill-rule=\"evenodd\" fill-opacity=\"1\" stroke=\"#000000\" stroke-opacity=\"1\" stroke-width=\"2.4\"/>\n",
       "<circle clip-path=\"url(#clip802)\" cx=\"1583.02\" cy=\"450.446\" r=\"14\" fill=\"#009af9\" fill-rule=\"evenodd\" fill-opacity=\"1\" stroke=\"#000000\" stroke-opacity=\"1\" stroke-width=\"2.4\"/>\n",
       "<polyline clip-path=\"url(#clip802)\" style=\"stroke:#e26f46; stroke-linecap:butt; stroke-linejoin:round; stroke-width:8; stroke-opacity:1; fill:none\" points=\"\n",
       "  254.359,1019.39 342.937,1012.77 431.514,998.517 520.091,961.594 608.669,924.672 697.246,887.75 785.823,850.827 874.401,813.905 962.978,776.983 1051.56,740.06 \n",
       "  1140.13,703.138 1228.71,666.216 1317.29,629.293 1405.86,592.371 1494.44,555.449 1583.02,518.526 1671.6,481.604 1760.17,444.682 1848.75,407.759 1937.33,370.837 \n",
       "  2025.91,333.915 2114.48,296.992 2203.06,260.07 2291.64,223.148 \n",
       "  \"/>\n",
       "</svg>\n"
      ]
     },
     "execution_count": 84,
     "metadata": {},
     "output_type": "execute_result"
    }
   ],
   "source": [
    "scatter(X,Y, legend=false, \n",
    "            xlabel = \"Speed\",\n",
    "            ylabel = \"Dist\",\n",
    "            size = (600,300))\n",
    "plot!(p, f_NN(p, θ_NN), lw = 2)"
   ]
  },
  {
   "cell_type": "markdown",
   "metadata": {},
   "source": [
    "## Model Selection"
   ]
  },
  {
   "cell_type": "markdown",
   "metadata": {},
   "source": [
    "Zuletzt wollen wir beurteilen, welches Modell am besten geeignet ist, um die Daten zu beschreiben. Dazu evaluieren wir die Schätzer auf den Testdaten.\n",
    "\n",
    "Zuerst plotten wir alle geschätzten Funktionen zusammen mit den Testdaten."
   ]
  },
  {
   "cell_type": "code",
   "execution_count": 85,
   "metadata": {},
   "outputs": [
    {
     "data": {
      "image/svg+xml": [
       "<?xml version=\"1.0\" encoding=\"utf-8\"?>\n",
       "<svg xmlns=\"http://www.w3.org/2000/svg\" xmlns:xlink=\"http://www.w3.org/1999/xlink\" width=\"600\" height=\"300\" viewBox=\"0 0 2400 1200\">\n",
       "<defs>\n",
       "  <clipPath id=\"clip840\">\n",
       "    <rect x=\"0\" y=\"0\" width=\"2400\" height=\"1200\"/>\n",
       "  </clipPath>\n",
       "</defs>\n",
       "<path clip-path=\"url(#clip840)\" d=\"\n",
       "M0 1200 L2400 1200 L2400 0 L0 0  Z\n",
       "  \" fill=\"#ffffff\" fill-rule=\"evenodd\" fill-opacity=\"1\"/>\n",
       "<defs>\n",
       "  <clipPath id=\"clip841\">\n",
       "    <rect x=\"480\" y=\"0\" width=\"1681\" height=\"1200\"/>\n",
       "  </clipPath>\n",
       "</defs>\n",
       "<path clip-path=\"url(#clip840)\" d=\"\n",
       "M220.509 1047.7 L2352.76 1047.7 L2352.76 47.2441 L220.509 47.2441  Z\n",
       "  \" fill=\"#ffffff\" fill-rule=\"evenodd\" fill-opacity=\"1\"/>\n",
       "<defs>\n",
       "  <clipPath id=\"clip842\">\n",
       "    <rect x=\"220\" y=\"47\" width=\"2133\" height=\"1001\"/>\n",
       "  </clipPath>\n",
       "</defs>\n",
       "<polyline clip-path=\"url(#clip842)\" style=\"stroke:#000000; stroke-linecap:butt; stroke-linejoin:round; stroke-width:2; stroke-opacity:0.1; fill:none\" points=\"\n",
       "  455.774,1047.7 455.774,47.2441 \n",
       "  \"/>\n",
       "<polyline clip-path=\"url(#clip842)\" style=\"stroke:#000000; stroke-linecap:butt; stroke-linejoin:round; stroke-width:2; stroke-opacity:0.1; fill:none\" points=\"\n",
       "  893.068,1047.7 893.068,47.2441 \n",
       "  \"/>\n",
       "<polyline clip-path=\"url(#clip842)\" style=\"stroke:#000000; stroke-linecap:butt; stroke-linejoin:round; stroke-width:2; stroke-opacity:0.1; fill:none\" points=\"\n",
       "  1330.36,1047.7 1330.36,47.2441 \n",
       "  \"/>\n",
       "<polyline clip-path=\"url(#clip842)\" style=\"stroke:#000000; stroke-linecap:butt; stroke-linejoin:round; stroke-width:2; stroke-opacity:0.1; fill:none\" points=\"\n",
       "  1767.66,1047.7 1767.66,47.2441 \n",
       "  \"/>\n",
       "<polyline clip-path=\"url(#clip842)\" style=\"stroke:#000000; stroke-linecap:butt; stroke-linejoin:round; stroke-width:2; stroke-opacity:0.1; fill:none\" points=\"\n",
       "  2204.95,1047.7 2204.95,47.2441 \n",
       "  \"/>\n",
       "<polyline clip-path=\"url(#clip840)\" style=\"stroke:#000000; stroke-linecap:butt; stroke-linejoin:round; stroke-width:4; stroke-opacity:1; fill:none\" points=\"\n",
       "  220.509,1047.7 2352.76,1047.7 \n",
       "  \"/>\n",
       "<polyline clip-path=\"url(#clip840)\" style=\"stroke:#000000; stroke-linecap:butt; stroke-linejoin:round; stroke-width:4; stroke-opacity:1; fill:none\" points=\"\n",
       "  455.774,1047.7 455.774,1028.8 \n",
       "  \"/>\n",
       "<polyline clip-path=\"url(#clip840)\" style=\"stroke:#000000; stroke-linecap:butt; stroke-linejoin:round; stroke-width:4; stroke-opacity:1; fill:none\" points=\"\n",
       "  893.068,1047.7 893.068,1028.8 \n",
       "  \"/>\n",
       "<polyline clip-path=\"url(#clip840)\" style=\"stroke:#000000; stroke-linecap:butt; stroke-linejoin:round; stroke-width:4; stroke-opacity:1; fill:none\" points=\"\n",
       "  1330.36,1047.7 1330.36,1028.8 \n",
       "  \"/>\n",
       "<polyline clip-path=\"url(#clip840)\" style=\"stroke:#000000; stroke-linecap:butt; stroke-linejoin:round; stroke-width:4; stroke-opacity:1; fill:none\" points=\"\n",
       "  1767.66,1047.7 1767.66,1028.8 \n",
       "  \"/>\n",
       "<polyline clip-path=\"url(#clip840)\" style=\"stroke:#000000; stroke-linecap:butt; stroke-linejoin:round; stroke-width:4; stroke-opacity:1; fill:none\" points=\"\n",
       "  2204.95,1047.7 2204.95,1028.8 \n",
       "  \"/>\n",
       "<path clip-path=\"url(#clip840)\" d=\"M446.051 1075.54 L464.408 1075.54 L464.408 1079.48 L450.334 1079.48 L450.334 1087.95 Q451.352 1087.6 452.371 1087.44 Q453.389 1087.25 454.408 1087.25 Q460.195 1087.25 463.575 1090.42 Q466.954 1093.6 466.954 1099.01 Q466.954 1104.59 463.482 1107.69 Q460.01 1110.77 453.69 1110.77 Q451.514 1110.77 449.246 1110.4 Q447.001 1110.03 444.593 1109.29 L444.593 1104.59 Q446.676 1105.72 448.899 1106.28 Q451.121 1106.84 453.598 1106.84 Q457.602 1106.84 459.94 1104.73 Q462.278 1102.62 462.278 1099.01 Q462.278 1095.4 459.94 1093.29 Q457.602 1091.19 453.598 1091.19 Q451.723 1091.19 449.848 1091.6 Q447.996 1092.02 446.051 1092.9 L446.051 1075.54 Z\" fill=\"#000000\" fill-rule=\"evenodd\" fill-opacity=\"1\" /><path clip-path=\"url(#clip840)\" d=\"M867.755 1106.16 L875.394 1106.16 L875.394 1079.8 L867.084 1081.47 L867.084 1077.21 L875.348 1075.54 L880.024 1075.54 L880.024 1106.16 L887.663 1106.16 L887.663 1110.1 L867.755 1110.1 L867.755 1106.16 Z\" fill=\"#000000\" fill-rule=\"evenodd\" fill-opacity=\"1\" /><path clip-path=\"url(#clip840)\" d=\"M907.107 1078.62 Q903.496 1078.62 901.667 1082.18 Q899.862 1085.72 899.862 1092.85 Q899.862 1099.96 901.667 1103.53 Q903.496 1107.07 907.107 1107.07 Q910.741 1107.07 912.547 1103.53 Q914.376 1099.96 914.376 1092.85 Q914.376 1085.72 912.547 1082.18 Q910.741 1078.62 907.107 1078.62 M907.107 1074.91 Q912.917 1074.91 915.973 1079.52 Q919.051 1084.1 919.051 1092.85 Q919.051 1101.58 915.973 1106.19 Q912.917 1110.77 907.107 1110.77 Q901.297 1110.77 898.218 1106.19 Q895.163 1101.58 895.163 1092.85 Q895.163 1084.1 898.218 1079.52 Q901.297 1074.91 907.107 1074.91 Z\" fill=\"#000000\" fill-rule=\"evenodd\" fill-opacity=\"1\" /><path clip-path=\"url(#clip840)\" d=\"M1305.55 1106.16 L1313.19 1106.16 L1313.19 1079.8 L1304.88 1081.47 L1304.88 1077.21 L1313.14 1075.54 L1317.82 1075.54 L1317.82 1106.16 L1325.45 1106.16 L1325.45 1110.1 L1305.55 1110.1 L1305.55 1106.16 Z\" fill=\"#000000\" fill-rule=\"evenodd\" fill-opacity=\"1\" /><path clip-path=\"url(#clip840)\" d=\"M1334.95 1075.54 L1353.3 1075.54 L1353.3 1079.48 L1339.23 1079.48 L1339.23 1087.95 Q1340.25 1087.6 1341.26 1087.44 Q1342.28 1087.25 1343.3 1087.25 Q1349.09 1087.25 1352.47 1090.42 Q1355.85 1093.6 1355.85 1099.01 Q1355.85 1104.59 1352.38 1107.69 Q1348.9 1110.77 1342.58 1110.77 Q1340.41 1110.77 1338.14 1110.4 Q1335.89 1110.03 1333.49 1109.29 L1333.49 1104.59 Q1335.57 1105.72 1337.79 1106.28 Q1340.01 1106.84 1342.49 1106.84 Q1346.5 1106.84 1348.83 1104.73 Q1351.17 1102.62 1351.17 1099.01 Q1351.17 1095.4 1348.83 1093.29 Q1346.5 1091.19 1342.49 1091.19 Q1340.62 1091.19 1338.74 1091.6 Q1336.89 1092.02 1334.95 1092.9 L1334.95 1075.54 Z\" fill=\"#000000\" fill-rule=\"evenodd\" fill-opacity=\"1\" /><path clip-path=\"url(#clip840)\" d=\"M1746.43 1106.16 L1762.75 1106.16 L1762.75 1110.1 L1740.8 1110.1 L1740.8 1106.16 Q1743.47 1103.41 1748.05 1098.78 Q1752.66 1094.13 1753.84 1092.79 Q1756.08 1090.26 1756.96 1088.53 Q1757.86 1086.77 1757.86 1085.08 Q1757.86 1082.32 1755.92 1080.59 Q1754 1078.85 1750.9 1078.85 Q1748.7 1078.85 1746.24 1079.61 Q1743.81 1080.38 1741.04 1081.93 L1741.04 1077.21 Q1743.86 1076.07 1746.31 1075.49 Q1748.77 1074.91 1750.8 1074.91 Q1756.17 1074.91 1759.37 1077.6 Q1762.56 1080.29 1762.56 1084.78 Q1762.56 1086.91 1761.75 1088.83 Q1760.97 1090.72 1758.86 1093.32 Q1758.28 1093.99 1755.18 1097.21 Q1752.08 1100.4 1746.43 1106.16 Z\" fill=\"#000000\" fill-rule=\"evenodd\" fill-opacity=\"1\" /><path clip-path=\"url(#clip840)\" d=\"M1782.56 1078.62 Q1778.95 1078.62 1777.12 1082.18 Q1775.32 1085.72 1775.32 1092.85 Q1775.32 1099.96 1777.12 1103.53 Q1778.95 1107.07 1782.56 1107.07 Q1786.2 1107.07 1788 1103.53 Q1789.83 1099.96 1789.83 1092.85 Q1789.83 1085.72 1788 1082.18 Q1786.2 1078.62 1782.56 1078.62 M1782.56 1074.91 Q1788.37 1074.91 1791.43 1079.52 Q1794.51 1084.1 1794.51 1092.85 Q1794.51 1101.58 1791.43 1106.19 Q1788.37 1110.77 1782.56 1110.77 Q1776.75 1110.77 1773.67 1106.19 Q1770.62 1101.58 1770.62 1092.85 Q1770.62 1084.1 1773.67 1079.52 Q1776.75 1074.91 1782.56 1074.91 Z\" fill=\"#000000\" fill-rule=\"evenodd\" fill-opacity=\"1\" /><path clip-path=\"url(#clip840)\" d=\"M2184.22 1106.16 L2200.54 1106.16 L2200.54 1110.1 L2178.6 1110.1 L2178.6 1106.16 Q2181.26 1103.41 2185.84 1098.78 Q2190.45 1094.13 2191.63 1092.79 Q2193.87 1090.26 2194.75 1088.53 Q2195.66 1086.77 2195.66 1085.08 Q2195.66 1082.32 2193.71 1080.59 Q2191.79 1078.85 2188.69 1078.85 Q2186.49 1078.85 2184.04 1079.61 Q2181.61 1080.38 2178.83 1081.93 L2178.83 1077.21 Q2181.65 1076.07 2184.11 1075.49 Q2186.56 1074.91 2188.6 1074.91 Q2193.97 1074.91 2197.16 1077.6 Q2200.36 1080.29 2200.36 1084.78 Q2200.36 1086.91 2199.55 1088.83 Q2198.76 1090.72 2196.65 1093.32 Q2196.07 1093.99 2192.97 1097.21 Q2189.87 1100.4 2184.22 1106.16 Z\" fill=\"#000000\" fill-rule=\"evenodd\" fill-opacity=\"1\" /><path clip-path=\"url(#clip840)\" d=\"M2210.4 1075.54 L2228.76 1075.54 L2228.76 1079.48 L2214.68 1079.48 L2214.68 1087.95 Q2215.7 1087.6 2216.72 1087.44 Q2217.74 1087.25 2218.76 1087.25 Q2224.55 1087.25 2227.92 1090.42 Q2231.3 1093.6 2231.3 1099.01 Q2231.3 1104.59 2227.83 1107.69 Q2224.36 1110.77 2218.04 1110.77 Q2215.86 1110.77 2213.6 1110.4 Q2211.35 1110.03 2208.94 1109.29 L2208.94 1104.59 Q2211.03 1105.72 2213.25 1106.28 Q2215.47 1106.84 2217.95 1106.84 Q2221.95 1106.84 2224.29 1104.73 Q2226.63 1102.62 2226.63 1099.01 Q2226.63 1095.4 2224.29 1093.29 Q2221.95 1091.19 2217.95 1091.19 Q2216.07 1091.19 2214.2 1091.6 Q2212.35 1092.02 2210.4 1092.9 L2210.4 1075.54 Z\" fill=\"#000000\" fill-rule=\"evenodd\" fill-opacity=\"1\" /><path clip-path=\"url(#clip840)\" d=\"M1220.16 1146.6 L1220.16 1152.87 Q1216.5 1151.12 1213.25 1150.26 Q1210.01 1149.4 1206.98 1149.4 Q1201.73 1149.4 1198.87 1151.44 Q1196.03 1153.48 1196.03 1157.23 Q1196.03 1160.39 1197.91 1162.01 Q1199.82 1163.6 1205.1 1164.59 L1208.99 1165.38 Q1216.18 1166.75 1219.59 1170.22 Q1223.02 1173.66 1223.02 1179.45 Q1223.02 1186.36 1218.38 1189.92 Q1213.76 1193.49 1204.82 1193.49 Q1201.44 1193.49 1197.62 1192.72 Q1193.84 1191.96 1189.76 1190.46 L1189.76 1183.84 Q1193.68 1186.04 1197.43 1187.15 Q1201.19 1188.27 1204.82 1188.27 Q1210.32 1188.27 1213.32 1186.1 Q1216.31 1183.94 1216.31 1179.93 Q1216.31 1176.43 1214.14 1174.45 Q1212.01 1172.48 1207.11 1171.49 L1203.19 1170.73 Q1196 1169.3 1192.79 1166.24 Q1189.57 1163.19 1189.57 1157.74 Q1189.57 1151.44 1194 1147.81 Q1198.45 1144.18 1206.25 1144.18 Q1209.59 1144.18 1213.06 1144.79 Q1216.53 1145.39 1220.16 1146.6 Z\" fill=\"#000000\" fill-rule=\"evenodd\" fill-opacity=\"1\" /><path clip-path=\"url(#clip840)\" d=\"M1238.46 1187.22 L1238.46 1206.12 L1232.57 1206.12 L1232.57 1156.92 L1238.46 1156.92 L1238.46 1162.33 Q1240.31 1159.14 1243.11 1157.62 Q1245.94 1156.06 1249.85 1156.06 Q1256.35 1156.06 1260.39 1161.21 Q1264.46 1166.37 1264.46 1174.77 Q1264.46 1183.17 1260.39 1188.33 Q1256.35 1193.49 1249.85 1193.49 Q1245.94 1193.49 1243.11 1191.96 Q1240.31 1190.4 1238.46 1187.22 M1258.38 1174.77 Q1258.38 1168.31 1255.71 1164.65 Q1253.07 1160.96 1248.42 1160.96 Q1243.78 1160.96 1241.1 1164.65 Q1238.46 1168.31 1238.46 1174.77 Q1238.46 1181.23 1241.1 1184.92 Q1243.78 1188.59 1248.42 1188.59 Q1253.07 1188.59 1255.71 1184.92 Q1258.38 1181.23 1258.38 1174.77 Z\" fill=\"#000000\" fill-rule=\"evenodd\" fill-opacity=\"1\" /><path clip-path=\"url(#clip840)\" d=\"M1304.66 1173.28 L1304.66 1176.14 L1277.74 1176.14 Q1278.12 1182.19 1281.37 1185.37 Q1284.64 1188.52 1290.47 1188.52 Q1293.84 1188.52 1296.99 1187.69 Q1300.18 1186.87 1303.29 1185.21 L1303.29 1190.75 Q1300.14 1192.09 1296.83 1192.79 Q1293.52 1193.49 1290.12 1193.49 Q1281.59 1193.49 1276.59 1188.52 Q1271.63 1183.56 1271.63 1175.09 Q1271.63 1166.34 1276.34 1161.21 Q1281.08 1156.06 1289.1 1156.06 Q1296.29 1156.06 1300.46 1160.7 Q1304.66 1165.32 1304.66 1173.28 M1298.81 1171.56 Q1298.74 1166.75 1296.1 1163.89 Q1293.49 1161.02 1289.16 1161.02 Q1284.26 1161.02 1281.3 1163.79 Q1278.37 1166.56 1277.93 1171.59 L1298.81 1171.56 Z\" fill=\"#000000\" fill-rule=\"evenodd\" fill-opacity=\"1\" /><path clip-path=\"url(#clip840)\" d=\"M1344.77 1173.28 L1344.77 1176.14 L1317.84 1176.14 Q1318.22 1182.19 1321.47 1185.37 Q1324.75 1188.52 1330.57 1188.52 Q1333.95 1188.52 1337.1 1187.69 Q1340.28 1186.87 1343.4 1185.21 L1343.4 1190.75 Q1340.25 1192.09 1336.94 1192.79 Q1333.63 1193.49 1330.22 1193.49 Q1321.69 1193.49 1316.69 1188.52 Q1311.73 1183.56 1311.73 1175.09 Q1311.73 1166.34 1316.44 1161.21 Q1321.18 1156.06 1329.2 1156.06 Q1336.4 1156.06 1340.57 1160.7 Q1344.77 1165.32 1344.77 1173.28 M1338.91 1171.56 Q1338.85 1166.75 1336.21 1163.89 Q1333.6 1161.02 1329.27 1161.02 Q1324.37 1161.02 1321.41 1163.79 Q1318.48 1166.56 1318.03 1171.59 L1338.91 1171.56 Z\" fill=\"#000000\" fill-rule=\"evenodd\" fill-opacity=\"1\" /><path clip-path=\"url(#clip840)\" d=\"M1377.84 1162.33 L1377.84 1143.04 L1383.69 1143.04 L1383.69 1192.56 L1377.84 1192.56 L1377.84 1187.22 Q1375.99 1190.4 1373.16 1191.96 Q1370.36 1193.49 1366.41 1193.49 Q1359.95 1193.49 1355.88 1188.33 Q1351.83 1183.17 1351.83 1174.77 Q1351.83 1166.37 1355.88 1161.21 Q1359.95 1156.06 1366.41 1156.06 Q1370.36 1156.06 1373.16 1157.62 Q1375.99 1159.14 1377.84 1162.33 M1357.88 1174.77 Q1357.88 1181.23 1360.52 1184.92 Q1363.2 1188.59 1367.84 1188.59 Q1372.49 1188.59 1375.16 1184.92 Q1377.84 1181.23 1377.84 1174.77 Q1377.84 1168.31 1375.16 1164.65 Q1372.49 1160.96 1367.84 1160.96 Q1363.2 1160.96 1360.52 1164.65 Q1357.88 1168.31 1357.88 1174.77 Z\" fill=\"#000000\" fill-rule=\"evenodd\" fill-opacity=\"1\" /><polyline clip-path=\"url(#clip842)\" style=\"stroke:#000000; stroke-linecap:butt; stroke-linejoin:round; stroke-width:2; stroke-opacity:0.1; fill:none\" points=\"\n",
       "  220.509,981.885 2352.76,981.885 \n",
       "  \"/>\n",
       "<polyline clip-path=\"url(#clip842)\" style=\"stroke:#000000; stroke-linecap:butt; stroke-linejoin:round; stroke-width:2; stroke-opacity:0.1; fill:none\" points=\"\n",
       "  220.509,793.067 2352.76,793.067 \n",
       "  \"/>\n",
       "<polyline clip-path=\"url(#clip842)\" style=\"stroke:#000000; stroke-linecap:butt; stroke-linejoin:round; stroke-width:2; stroke-opacity:0.1; fill:none\" points=\"\n",
       "  220.509,604.249 2352.76,604.249 \n",
       "  \"/>\n",
       "<polyline clip-path=\"url(#clip842)\" style=\"stroke:#000000; stroke-linecap:butt; stroke-linejoin:round; stroke-width:2; stroke-opacity:0.1; fill:none\" points=\"\n",
       "  220.509,415.431 2352.76,415.431 \n",
       "  \"/>\n",
       "<polyline clip-path=\"url(#clip842)\" style=\"stroke:#000000; stroke-linecap:butt; stroke-linejoin:round; stroke-width:2; stroke-opacity:0.1; fill:none\" points=\"\n",
       "  220.509,226.613 2352.76,226.613 \n",
       "  \"/>\n",
       "<polyline clip-path=\"url(#clip840)\" style=\"stroke:#000000; stroke-linecap:butt; stroke-linejoin:round; stroke-width:4; stroke-opacity:1; fill:none\" points=\"\n",
       "  220.509,1047.7 220.509,47.2441 \n",
       "  \"/>\n",
       "<polyline clip-path=\"url(#clip840)\" style=\"stroke:#000000; stroke-linecap:butt; stroke-linejoin:round; stroke-width:4; stroke-opacity:1; fill:none\" points=\"\n",
       "  220.509,981.885 239.407,981.885 \n",
       "  \"/>\n",
       "<polyline clip-path=\"url(#clip840)\" style=\"stroke:#000000; stroke-linecap:butt; stroke-linejoin:round; stroke-width:4; stroke-opacity:1; fill:none\" points=\"\n",
       "  220.509,793.067 239.407,793.067 \n",
       "  \"/>\n",
       "<polyline clip-path=\"url(#clip840)\" style=\"stroke:#000000; stroke-linecap:butt; stroke-linejoin:round; stroke-width:4; stroke-opacity:1; fill:none\" points=\"\n",
       "  220.509,604.249 239.407,604.249 \n",
       "  \"/>\n",
       "<polyline clip-path=\"url(#clip840)\" style=\"stroke:#000000; stroke-linecap:butt; stroke-linejoin:round; stroke-width:4; stroke-opacity:1; fill:none\" points=\"\n",
       "  220.509,415.431 239.407,415.431 \n",
       "  \"/>\n",
       "<polyline clip-path=\"url(#clip840)\" style=\"stroke:#000000; stroke-linecap:butt; stroke-linejoin:round; stroke-width:4; stroke-opacity:1; fill:none\" points=\"\n",
       "  220.509,226.613 239.407,226.613 \n",
       "  \"/>\n",
       "<path clip-path=\"url(#clip840)\" d=\"M172.565 967.683 Q168.954 967.683 167.125 971.248 Q165.32 974.79 165.32 981.919 Q165.32 989.026 167.125 992.591 Q168.954 996.132 172.565 996.132 Q176.199 996.132 178.005 992.591 Q179.833 989.026 179.833 981.919 Q179.833 974.79 178.005 971.248 Q176.199 967.683 172.565 967.683 M172.565 963.98 Q178.375 963.98 181.431 968.586 Q184.509 973.169 184.509 981.919 Q184.509 990.646 181.431 995.253 Q178.375 999.836 172.565 999.836 Q166.755 999.836 163.676 995.253 Q160.621 990.646 160.621 981.919 Q160.621 973.169 163.676 968.586 Q166.755 963.98 172.565 963.98 Z\" fill=\"#000000\" fill-rule=\"evenodd\" fill-opacity=\"1\" /><path clip-path=\"url(#clip840)\" d=\"M137.426 806.412 L153.746 806.412 L153.746 810.347 L131.801 810.347 L131.801 806.412 Q134.463 803.657 139.047 799.027 Q143.653 794.375 144.834 793.032 Q147.079 790.509 147.959 788.773 Q148.861 787.014 148.861 785.324 Q148.861 782.569 146.917 780.833 Q144.996 779.097 141.894 779.097 Q139.695 779.097 137.241 779.861 Q134.811 780.625 132.033 782.176 L132.033 777.453 Q134.857 776.319 137.311 775.741 Q139.764 775.162 141.801 775.162 Q147.172 775.162 150.366 777.847 Q153.56 780.532 153.56 785.023 Q153.56 787.152 152.75 789.074 Q151.963 790.972 149.857 793.564 Q149.278 794.236 146.176 797.453 Q143.074 800.648 137.426 806.412 Z\" fill=\"#000000\" fill-rule=\"evenodd\" fill-opacity=\"1\" /><path clip-path=\"url(#clip840)\" d=\"M163.607 775.787 L181.963 775.787 L181.963 779.722 L167.889 779.722 L167.889 788.194 Q168.908 787.847 169.926 787.685 Q170.945 787.5 171.963 787.5 Q177.75 787.5 181.13 790.671 Q184.509 793.842 184.509 799.259 Q184.509 804.838 181.037 807.939 Q177.565 811.018 171.246 811.018 Q169.07 811.018 166.801 810.648 Q164.556 810.277 162.148 809.537 L162.148 804.838 Q164.232 805.972 166.454 806.527 Q168.676 807.083 171.153 807.083 Q175.158 807.083 177.495 804.976 Q179.833 802.87 179.833 799.259 Q179.833 795.648 177.495 793.541 Q175.158 791.435 171.153 791.435 Q169.278 791.435 167.403 791.852 Q165.551 792.268 163.607 793.148 L163.607 775.787 Z\" fill=\"#000000\" fill-rule=\"evenodd\" fill-opacity=\"1\" /><path clip-path=\"url(#clip840)\" d=\"M132.449 586.969 L150.806 586.969 L150.806 590.904 L136.732 590.904 L136.732 599.376 Q137.75 599.029 138.769 598.867 Q139.787 598.682 140.806 598.682 Q146.593 598.682 149.972 601.853 Q153.352 605.024 153.352 610.441 Q153.352 616.02 149.88 619.122 Q146.408 622.2 140.088 622.2 Q137.912 622.2 135.644 621.83 Q133.399 621.459 130.991 620.719 L130.991 616.02 Q133.074 617.154 135.297 617.71 Q137.519 618.265 139.996 618.265 Q144 618.265 146.338 616.159 Q148.676 614.052 148.676 610.441 Q148.676 606.83 146.338 604.723 Q144 602.617 139.996 602.617 Q138.121 602.617 136.246 603.034 Q134.394 603.45 132.449 604.33 L132.449 586.969 Z\" fill=\"#000000\" fill-rule=\"evenodd\" fill-opacity=\"1\" /><path clip-path=\"url(#clip840)\" d=\"M172.565 590.048 Q168.954 590.048 167.125 593.612 Q165.32 597.154 165.32 604.284 Q165.32 611.39 167.125 614.955 Q168.954 618.497 172.565 618.497 Q176.199 618.497 178.005 614.955 Q179.833 611.39 179.833 604.284 Q179.833 597.154 178.005 593.612 Q176.199 590.048 172.565 590.048 M172.565 586.344 Q178.375 586.344 181.431 590.95 Q184.509 595.534 184.509 604.284 Q184.509 613.01 181.431 617.617 Q178.375 622.2 172.565 622.2 Q166.755 622.2 163.676 617.617 Q160.621 613.01 160.621 604.284 Q160.621 595.534 163.676 590.95 Q166.755 586.344 172.565 586.344 Z\" fill=\"#000000\" fill-rule=\"evenodd\" fill-opacity=\"1\" /><path clip-path=\"url(#clip840)\" d=\"M132.218 398.151 L154.44 398.151 L154.44 400.142 L141.894 432.711 L137.01 432.711 L148.815 402.086 L132.218 402.086 L132.218 398.151 Z\" fill=\"#000000\" fill-rule=\"evenodd\" fill-opacity=\"1\" /><path clip-path=\"url(#clip840)\" d=\"M163.607 398.151 L181.963 398.151 L181.963 402.086 L167.889 402.086 L167.889 410.558 Q168.908 410.211 169.926 410.049 Q170.945 409.864 171.963 409.864 Q177.75 409.864 181.13 413.035 Q184.509 416.207 184.509 421.623 Q184.509 427.202 181.037 430.304 Q177.565 433.382 171.246 433.382 Q169.07 433.382 166.801 433.012 Q164.556 432.642 162.148 431.901 L162.148 427.202 Q164.232 428.336 166.454 428.892 Q168.676 429.447 171.153 429.447 Q175.158 429.447 177.495 427.341 Q179.833 425.234 179.833 421.623 Q179.833 418.012 177.495 415.906 Q175.158 413.799 171.153 413.799 Q169.278 413.799 167.403 414.216 Q165.551 414.632 163.607 415.512 L163.607 398.151 Z\" fill=\"#000000\" fill-rule=\"evenodd\" fill-opacity=\"1\" /><path clip-path=\"url(#clip840)\" d=\"M103.051 239.958 L110.69 239.958 L110.69 213.592 L102.38 215.259 L102.38 211 L110.644 209.333 L115.32 209.333 L115.32 239.958 L122.959 239.958 L122.959 243.893 L103.051 243.893 L103.051 239.958 Z\" fill=\"#000000\" fill-rule=\"evenodd\" fill-opacity=\"1\" /><path clip-path=\"url(#clip840)\" d=\"M142.403 212.412 Q138.792 212.412 136.963 215.977 Q135.158 219.518 135.158 226.648 Q135.158 233.754 136.963 237.319 Q138.792 240.861 142.403 240.861 Q146.037 240.861 147.843 237.319 Q149.672 233.754 149.672 226.648 Q149.672 219.518 147.843 215.977 Q146.037 212.412 142.403 212.412 M142.403 208.708 Q148.213 208.708 151.269 213.315 Q154.347 217.898 154.347 226.648 Q154.347 235.375 151.269 239.981 Q148.213 244.564 142.403 244.564 Q136.593 244.564 133.514 239.981 Q130.459 235.375 130.459 226.648 Q130.459 217.898 133.514 213.315 Q136.593 208.708 142.403 208.708 Z\" fill=\"#000000\" fill-rule=\"evenodd\" fill-opacity=\"1\" /><path clip-path=\"url(#clip840)\" d=\"M172.565 212.412 Q168.954 212.412 167.125 215.977 Q165.32 219.518 165.32 226.648 Q165.32 233.754 167.125 237.319 Q168.954 240.861 172.565 240.861 Q176.199 240.861 178.005 237.319 Q179.833 233.754 179.833 226.648 Q179.833 219.518 178.005 215.977 Q176.199 212.412 172.565 212.412 M172.565 208.708 Q178.375 208.708 181.431 213.315 Q184.509 217.898 184.509 226.648 Q184.509 235.375 181.431 239.981 Q178.375 244.564 172.565 244.564 Q166.755 244.564 163.676 239.981 Q160.621 235.375 160.621 226.648 Q160.621 217.898 163.676 213.315 Q166.755 208.708 172.565 208.708 Z\" fill=\"#000000\" fill-rule=\"evenodd\" fill-opacity=\"1\" /><path clip-path=\"url(#clip840)\" d=\"M9.88769 600.976 L46.8406 600.976 L46.8406 593.21 Q46.8406 583.375 42.3846 578.823 Q37.9286 574.24 28.3164 574.24 Q18.7679 574.24 14.3437 578.823 Q9.88769 583.375 9.88769 593.21 L9.88769 600.976 M4.60416 607.405 L4.60416 594.196 Q4.60416 580.383 10.3651 573.921 Q16.0943 567.46 28.3164 567.46 Q40.6022 567.46 46.3632 573.953 Q52.1242 580.446 52.1242 594.196 L52.1242 607.405 L4.60416 607.405 Z\" fill=\"#000000\" fill-rule=\"evenodd\" fill-opacity=\"1\" /><path clip-path=\"url(#clip840)\" d=\"M16.4762 557.466 L16.4762 551.61 L52.1242 551.61 L52.1242 557.466 L16.4762 557.466 M2.59896 557.466 L2.59896 551.61 L10.015 551.61 L10.015 557.466 L2.59896 557.466 Z\" fill=\"#000000\" fill-rule=\"evenodd\" fill-opacity=\"1\" /><path clip-path=\"url(#clip840)\" d=\"M17.5265 516.63 L23.0647 516.63 Q21.7916 519.113 21.155 521.786 Q20.5184 524.46 20.5184 527.325 Q20.5184 531.685 21.8552 533.881 Q23.192 536.046 25.8656 536.046 Q27.9026 536.046 29.0803 534.486 Q30.2261 532.926 31.2765 528.216 L31.7221 526.211 Q33.0589 519.972 35.5097 517.362 Q37.9286 514.72 42.2891 514.72 Q47.2544 514.72 50.1508 518.667 Q53.0472 522.582 53.0472 529.457 Q53.0472 532.322 52.4743 535.441 Q51.9332 538.528 50.8192 541.966 L44.7718 541.966 Q46.4587 538.719 47.318 535.568 Q48.1456 532.417 48.1456 529.33 Q48.1456 525.192 46.7451 522.964 Q45.3129 520.736 42.7347 520.736 Q40.3476 520.736 39.0745 522.359 Q37.8013 523.951 36.6237 529.393 L36.1462 531.43 Q35.0004 536.873 32.6451 539.292 Q30.258 541.711 26.1202 541.711 Q21.0913 541.711 18.3541 538.146 Q15.6168 534.581 15.6168 528.025 Q15.6168 524.778 16.0943 521.914 Q16.5717 519.049 17.5265 516.63 Z\" fill=\"#000000\" fill-rule=\"evenodd\" fill-opacity=\"1\" /><path clip-path=\"url(#clip840)\" d=\"M6.35473 499.602 L16.4762 499.602 L16.4762 487.539 L21.0277 487.539 L21.0277 499.602 L40.3794 499.602 Q44.7399 499.602 45.9813 498.424 Q47.2226 497.215 47.2226 493.554 L47.2226 487.539 L52.1242 487.539 L52.1242 493.554 Q52.1242 500.334 49.6097 502.912 Q47.0634 505.49 40.3794 505.49 L21.0277 505.49 L21.0277 509.787 L16.4762 509.787 L16.4762 505.49 L6.35473 505.49 L6.35473 499.602 Z\" fill=\"#000000\" fill-rule=\"evenodd\" fill-opacity=\"1\" /><circle clip-path=\"url(#clip842)\" cx=\"368.315\" cy=\"906.358\" r=\"14\" fill=\"#009af9\" fill-rule=\"evenodd\" fill-opacity=\"1\" stroke=\"#000000\" stroke-opacity=\"1\" stroke-width=\"2.4\"/>\n",
       "<circle clip-path=\"url(#clip842)\" cx=\"805.609\" cy=\"906.358\" r=\"14\" fill=\"#009af9\" fill-rule=\"evenodd\" fill-opacity=\"1\" stroke=\"#000000\" stroke-opacity=\"1\" stroke-width=\"2.4\"/>\n",
       "<circle clip-path=\"url(#clip842)\" cx=\"893.068\" cy=\"725.092\" r=\"14\" fill=\"#009af9\" fill-rule=\"evenodd\" fill-opacity=\"1\" stroke=\"#000000\" stroke-opacity=\"1\" stroke-width=\"2.4\"/>\n",
       "<circle clip-path=\"url(#clip842)\" cx=\"980.527\" cy=\"770.409\" r=\"14\" fill=\"#009af9\" fill-rule=\"evenodd\" fill-opacity=\"1\" stroke=\"#000000\" stroke-opacity=\"1\" stroke-width=\"2.4\"/>\n",
       "<circle clip-path=\"url(#clip842)\" cx=\"1067.99\" cy=\"830.83\" r=\"14\" fill=\"#009af9\" fill-rule=\"evenodd\" fill-opacity=\"1\" stroke=\"#000000\" stroke-opacity=\"1\" stroke-width=\"2.4\"/>\n",
       "<circle clip-path=\"url(#clip842)\" cx=\"1155.44\" cy=\"785.514\" r=\"14\" fill=\"#009af9\" fill-rule=\"evenodd\" fill-opacity=\"1\" stroke=\"#000000\" stroke-opacity=\"1\" stroke-width=\"2.4\"/>\n",
       "<circle clip-path=\"url(#clip842)\" cx=\"1242.9\" cy=\"528.722\" r=\"14\" fill=\"#009af9\" fill-rule=\"evenodd\" fill-opacity=\"1\" stroke=\"#000000\" stroke-opacity=\"1\" stroke-width=\"2.4\"/>\n",
       "<circle clip-path=\"url(#clip842)\" cx=\"1592.74\" cy=\"347.457\" r=\"14\" fill=\"#009af9\" fill-rule=\"evenodd\" fill-opacity=\"1\" stroke=\"#000000\" stroke-opacity=\"1\" stroke-width=\"2.4\"/>\n",
       "<circle clip-path=\"url(#clip842)\" cx=\"1767.66\" cy=\"619.354\" r=\"14\" fill=\"#009af9\" fill-rule=\"evenodd\" fill-opacity=\"1\" stroke=\"#000000\" stroke-opacity=\"1\" stroke-width=\"2.4\"/>\n",
       "<circle clip-path=\"url(#clip842)\" cx=\"1767.66\" cy=\"498.511\" r=\"14\" fill=\"#009af9\" fill-rule=\"evenodd\" fill-opacity=\"1\" stroke=\"#000000\" stroke-opacity=\"1\" stroke-width=\"2.4\"/>\n",
       "<circle clip-path=\"url(#clip842)\" cx=\"2117.49\" cy=\"279.482\" r=\"14\" fill=\"#009af9\" fill-rule=\"evenodd\" fill-opacity=\"1\" stroke=\"#000000\" stroke-opacity=\"1\" stroke-width=\"2.4\"/>\n",
       "<circle clip-path=\"url(#clip842)\" cx=\"2117.49\" cy=\"75.5589\" r=\"14\" fill=\"#009af9\" fill-rule=\"evenodd\" fill-opacity=\"1\" stroke=\"#000000\" stroke-opacity=\"1\" stroke-width=\"2.4\"/>\n",
       "<polyline clip-path=\"url(#clip842)\" style=\"stroke:#e26f46; stroke-linecap:butt; stroke-linejoin:round; stroke-width:8; stroke-opacity:1; fill:none\" points=\"\n",
       "  280.856,1007.01 368.315,980.434 455.774,953.858 543.232,927.283 630.691,900.707 718.15,874.131 805.609,847.556 893.068,820.98 980.527,794.405 1067.99,767.829 \n",
       "  1155.44,741.254 1242.9,714.678 1330.36,688.102 1417.82,661.527 1505.28,634.951 1592.74,608.376 1680.2,581.8 1767.66,555.225 1855.12,528.649 1942.57,502.073 \n",
       "  2030.03,475.498 2117.49,448.922 2204.95,422.347 2292.41,395.771 \n",
       "  \"/>\n",
       "<polyline clip-path=\"url(#clip842)\" style=\"stroke:#3da44d; stroke-linecap:butt; stroke-linejoin:round; stroke-width:8; stroke-opacity:1; fill:none\" points=\"\n",
       "  280.856,947.122 368.315,924.804 455.774,902.487 543.232,880.169 630.691,857.852 718.15,835.534 805.609,813.217 893.068,790.899 980.527,768.581 1067.99,746.264 \n",
       "  1155.44,723.946 1242.9,701.629 1330.36,679.311 1417.82,656.994 1505.28,634.676 1592.74,612.359 1680.2,590.041 1767.66,567.724 1855.12,545.406 1942.57,523.089 \n",
       "  2030.03,500.771 2117.49,478.454 2204.95,456.136 2292.41,433.818 \n",
       "  \"/>\n",
       "<polyline clip-path=\"url(#clip842)\" style=\"stroke:#c271d2; stroke-linecap:butt; stroke-linejoin:round; stroke-width:8; stroke-opacity:1; fill:none\" points=\"\n",
       "  280.856,1019.39 368.315,1016.13 455.774,949.613 543.232,938.569 630.691,921.23 718.15,887.032 805.609,853.862 893.068,846.838 980.527,800.235 1067.99,788.768 \n",
       "  1155.44,701.669 1242.9,713.379 1330.36,707.331 1417.82,706.339 1505.28,610.622 1592.74,626.095 1680.2,599.827 1767.66,545.369 1855.12,503.752 1942.57,553.772 \n",
       "  2030.03,493.717 2117.49,460.36 2204.95,421.213 2292.41,445.89 \n",
       "  \"/>\n",
       "<polyline clip-path=\"url(#clip842)\" style=\"stroke:#ac8d18; stroke-linecap:butt; stroke-linejoin:round; stroke-width:8; stroke-opacity:1; fill:none\" points=\"\n",
       "  280.856,949.978 368.315,901.996 455.774,922.113 543.232,852.911 630.691,860.733 718.15,830.801 805.609,827.832 893.068,811.018 980.527,783.902 1067.99,744.494 \n",
       "  1155.44,738.307 1242.9,703.559 1330.36,646.317 1417.82,633.973 1505.28,642.305 1592.74,616.669 1680.2,577.977 1767.66,586.763 1855.12,548.472 1942.57,557.577 \n",
       "  2030.03,532.423 2117.49,490.682 2204.95,474.928 2292.41,435.124 \n",
       "  \"/>\n",
       "<polyline clip-path=\"url(#clip842)\" style=\"stroke:#00a9ad; stroke-linecap:butt; stroke-linejoin:round; stroke-width:8; stroke-opacity:1; fill:none\" points=\"\n",
       "  280.856,971.573 368.315,966.777 455.774,956.437 543.232,929.658 630.691,902.879 718.15,876.1 805.609,849.321 893.068,822.542 980.527,795.763 1067.99,768.984 \n",
       "  1155.44,742.205 1242.9,715.426 1330.36,688.647 1417.82,661.868 1505.28,635.089 1592.74,608.31 1680.2,581.531 1767.66,554.752 1855.12,527.973 1942.57,501.194 \n",
       "  2030.03,474.415 2117.49,447.636 2204.95,420.857 2292.41,394.078 \n",
       "  \"/>\n",
       "<path clip-path=\"url(#clip840)\" d=\"\n",
       "M1949.12 791.8 L2281.68 791.8 L2281.68 480.76 L1949.12 480.76  Z\n",
       "  \" fill=\"#ffffff\" fill-rule=\"evenodd\" fill-opacity=\"1\"/>\n",
       "<polyline clip-path=\"url(#clip840)\" style=\"stroke:#000000; stroke-linecap:butt; stroke-linejoin:round; stroke-width:4; stroke-opacity:1; fill:none\" points=\"\n",
       "  1949.12,791.8 2281.68,791.8 2281.68,480.76 1949.12,480.76 1949.12,791.8 \n",
       "  \"/>\n",
       "<polyline clip-path=\"url(#clip840)\" style=\"stroke:#e26f46; stroke-linecap:butt; stroke-linejoin:round; stroke-width:4; stroke-opacity:1; fill:none\" points=\"\n",
       "  1972.81,532.6 2114.96,532.6 \n",
       "  \"/>\n",
       "<path clip-path=\"url(#clip840)\" d=\"M2138.65 515.32 L2160.5 515.32 L2160.5 519.255 L2143.33 519.255 L2143.33 529.487 L2159.78 529.487 L2159.78 533.422 L2143.33 533.422 L2143.33 545.945 L2160.92 545.945 L2160.92 549.88 L2138.65 549.88 L2138.65 515.32 Z\" fill=\"#000000\" fill-rule=\"evenodd\" fill-opacity=\"1\" /><path clip-path=\"url(#clip840)\" d=\"M2184.99 533.676 Q2186.5 534.186 2187.91 535.852 Q2189.34 537.519 2190.78 540.436 L2195.52 549.88 L2190.5 549.88 L2186.08 541.014 Q2184.37 537.542 2182.75 536.408 Q2181.15 535.274 2178.37 535.274 L2173.28 535.274 L2173.28 549.88 L2168.6 549.88 L2168.6 515.32 L2179.16 515.32 Q2185.09 515.32 2188 517.797 Q2190.92 520.274 2190.92 525.274 Q2190.92 528.537 2189.39 530.69 Q2187.89 532.843 2184.99 533.676 M2173.28 519.163 L2173.28 531.431 L2179.16 531.431 Q2182.54 531.431 2184.25 529.88 Q2185.99 528.306 2185.99 525.274 Q2185.99 522.241 2184.25 520.713 Q2182.54 519.163 2179.16 519.163 L2173.28 519.163 Z\" fill=\"#000000\" fill-rule=\"evenodd\" fill-opacity=\"1\" /><path clip-path=\"url(#clip840)\" d=\"M2201.54 515.32 L2208.51 515.32 L2217.33 538.838 L2226.2 515.32 L2233.16 515.32 L2233.16 549.88 L2228.6 549.88 L2228.6 519.533 L2219.69 543.236 L2214.99 543.236 L2206.08 519.533 L2206.08 549.88 L2201.54 549.88 L2201.54 515.32 Z\" fill=\"#000000\" fill-rule=\"evenodd\" fill-opacity=\"1\" /><polyline clip-path=\"url(#clip840)\" style=\"stroke:#3da44d; stroke-linecap:butt; stroke-linejoin:round; stroke-width:4; stroke-opacity:1; fill:none\" points=\"\n",
       "  1972.81,584.44 2114.96,584.44 \n",
       "  \"/>\n",
       "<path clip-path=\"url(#clip840)\" d=\"M2155.04 585.516 Q2156.54 586.026 2157.96 587.692 Q2159.39 589.359 2160.83 592.276 L2165.57 601.72 L2160.55 601.72 L2156.13 592.854 Q2154.41 589.382 2152.79 588.248 Q2151.2 587.114 2148.42 587.114 L2143.33 587.114 L2143.33 601.72 L2138.65 601.72 L2138.65 567.16 L2149.21 567.16 Q2155.13 567.16 2158.05 569.637 Q2160.96 572.114 2160.96 577.114 Q2160.96 580.377 2159.44 582.53 Q2157.93 584.683 2155.04 585.516 M2143.33 571.003 L2143.33 583.271 L2149.21 583.271 Q2152.59 583.271 2154.3 581.72 Q2156.03 580.146 2156.03 577.114 Q2156.03 574.081 2154.3 572.553 Q2152.59 571.003 2149.21 571.003 L2143.33 571.003 Z\" fill=\"#000000\" fill-rule=\"evenodd\" fill-opacity=\"1\" /><path clip-path=\"url(#clip840)\" d=\"M2187.98 585.516 Q2189.48 586.026 2190.9 587.692 Q2192.33 589.359 2193.77 592.276 L2198.51 601.72 L2193.49 601.72 L2189.07 592.854 Q2187.35 589.382 2185.73 588.248 Q2184.14 587.114 2181.36 587.114 L2176.27 587.114 L2176.27 601.72 L2171.59 601.72 L2171.59 567.16 L2182.15 567.16 Q2188.07 567.16 2190.99 569.637 Q2193.9 572.114 2193.9 577.114 Q2193.9 580.377 2192.38 582.53 Q2190.87 584.683 2187.98 585.516 M2176.27 571.003 L2176.27 583.271 L2182.15 583.271 Q2185.52 583.271 2187.24 581.72 Q2188.97 580.146 2188.97 577.114 Q2188.97 574.081 2187.24 572.553 Q2185.52 571.003 2182.15 571.003 L2176.27 571.003 Z\" fill=\"#000000\" fill-rule=\"evenodd\" fill-opacity=\"1\" /><polyline clip-path=\"url(#clip840)\" style=\"stroke:#c271d2; stroke-linecap:butt; stroke-linejoin:round; stroke-width:4; stroke-opacity:1; fill:none\" points=\"\n",
       "  1972.81,636.28 2114.96,636.28 \n",
       "  \"/>\n",
       "<path clip-path=\"url(#clip840)\" d=\"M2138.65 619 L2145.62 619 L2154.44 642.518 L2163.3 619 L2170.27 619 L2170.27 653.56 L2165.71 653.56 L2165.71 623.213 L2156.8 646.916 L2152.1 646.916 L2143.19 623.213 L2143.19 653.56 L2138.65 653.56 L2138.65 619 Z\" fill=\"#000000\" fill-rule=\"evenodd\" fill-opacity=\"1\" /><path clip-path=\"url(#clip840)\" d=\"M2179.55 619 L2184.23 619 L2184.23 649.625 L2201.06 649.625 L2201.06 653.56 L2179.55 653.56 L2179.55 619 Z\" fill=\"#000000\" fill-rule=\"evenodd\" fill-opacity=\"1\" /><polyline clip-path=\"url(#clip840)\" style=\"stroke:#ac8d18; stroke-linecap:butt; stroke-linejoin:round; stroke-width:4; stroke-opacity:1; fill:none\" points=\"\n",
       "  1972.81,688.12 2114.96,688.12 \n",
       "  \"/>\n",
       "<path clip-path=\"url(#clip840)\" d=\"M2138.65 670.84 L2145.62 670.84 L2154.44 694.358 L2163.3 670.84 L2170.27 670.84 L2170.27 705.4 L2165.71 705.4 L2165.71 675.053 L2156.8 698.756 L2152.1 698.756 L2143.19 675.053 L2143.19 705.4 L2138.65 705.4 L2138.65 670.84 Z\" fill=\"#000000\" fill-rule=\"evenodd\" fill-opacity=\"1\" /><path clip-path=\"url(#clip840)\" d=\"M2191.1 675.446 L2184.76 692.645 L2197.47 692.645 L2191.1 675.446 M2188.46 670.84 L2193.77 670.84 L2206.94 705.4 L2202.08 705.4 L2198.93 696.534 L2183.35 696.534 L2180.2 705.4 L2175.27 705.4 L2188.46 670.84 Z\" fill=\"#000000\" fill-rule=\"evenodd\" fill-opacity=\"1\" /><path clip-path=\"url(#clip840)\" d=\"M2216.66 674.683 L2216.66 687.669 L2222.54 687.669 Q2225.8 687.669 2227.58 685.979 Q2229.37 684.289 2229.37 681.164 Q2229.37 678.062 2227.58 676.372 Q2225.8 674.683 2222.54 674.683 L2216.66 674.683 M2211.98 670.84 L2222.54 670.84 Q2228.35 670.84 2231.31 673.479 Q2234.3 676.095 2234.3 681.164 Q2234.3 686.28 2231.31 688.895 Q2228.35 691.511 2222.54 691.511 L2216.66 691.511 L2216.66 705.4 L2211.98 705.4 L2211.98 670.84 Z\" fill=\"#000000\" fill-rule=\"evenodd\" fill-opacity=\"1\" /><polyline clip-path=\"url(#clip840)\" style=\"stroke:#00a9ad; stroke-linecap:butt; stroke-linejoin:round; stroke-width:4; stroke-opacity:1; fill:none\" points=\"\n",
       "  1972.81,739.96 2114.96,739.96 \n",
       "  \"/>\n",
       "<path clip-path=\"url(#clip840)\" d=\"M2138.65 722.68 L2144.95 722.68 L2160.27 751.592 L2160.27 722.68 L2164.81 722.68 L2164.81 757.24 L2158.51 757.24 L2143.19 728.328 L2143.19 757.24 L2138.65 757.24 L2138.65 722.68 Z\" fill=\"#000000\" fill-rule=\"evenodd\" fill-opacity=\"1\" /><path clip-path=\"url(#clip840)\" d=\"M2174.11 722.68 L2180.41 722.68 L2195.73 751.592 L2195.73 722.68 L2200.27 722.68 L2200.27 757.24 L2193.97 757.24 L2178.65 728.328 L2178.65 757.24 L2174.11 757.24 L2174.11 722.68 Z\" fill=\"#000000\" fill-rule=\"evenodd\" fill-opacity=\"1\" /></svg>\n"
      ]
     },
     "execution_count": 85,
     "metadata": {},
     "output_type": "execute_result"
    }
   ],
   "source": [
    "scatter(X_test,Y_test, legend=1,\n",
    "            label = false,\n",
    "            xlabel = \"Speed\",\n",
    "            ylabel = \"Dist\",\n",
    "            size = (600,300))\n",
    "plot!(p, f(p, θ_ERM), lw = 2, label = \"ERM\")\n",
    "plot!(p, f(p, θ_RR), lw = 2, label = \"RR\")\n",
    "plot!(p, Φ(p, θ_ML), lw = 2, label = \"ML\")\n",
    "plot!(p, Φ(p, θ_MAP), lw = 2, label = \"MAP\")\n",
    "plot!(p, f_NN(p, θ_NN), lw = 2, label = \"NN\")"
   ]
  },
  {
   "cell_type": "markdown",
   "metadata": {},
   "source": [
    "Um zu beurteilen, welches Modell wie gut funktioniert, definieren wir das empirische Risiko."
   ]
  },
  {
   "cell_type": "code",
   "execution_count": 86,
   "metadata": {},
   "outputs": [
    {
     "data": {
      "text/plain": [
       "R (generic function with 1 method)"
      ]
     },
     "execution_count": 86,
     "metadata": {},
     "output_type": "execute_result"
    }
   ],
   "source": [
    "R(θ, f, X, Y) = mean((f(X, θ) - Y).^2)"
   ]
  },
  {
   "cell_type": "markdown",
   "metadata": {},
   "source": [
    "Das empirische Risiko für Trainings- und Testdaten im deterministischen linearen Modell ist wie folgt."
   ]
  },
  {
   "cell_type": "code",
   "execution_count": 87,
   "metadata": {},
   "outputs": [
    {
     "name": "stdout",
     "output_type": "stream",
     "text": [
      "Risiko Testdaten ERM: 442.26628885614156\n",
      "\n",
      "Risiko Trainingsdaten ERM: 174.70005238080398\n",
      "\n",
      "ERM Risikoverhältnis: 2.531575021466552\n",
      "\n",
      "Risiko Testdaten RR: 487.53910090825076\n",
      "\n",
      "Risiko Trainingsdaten RR: 183.23383376114927\n",
      "\n",
      "RR Risikoverhältnis: 2.660748241199671\n",
      "\n"
     ]
    }
   ],
   "source": [
    "r = [(R(θ, f, X_test, Y_test), R(θ, f, X, Y)) for θ in [θ_ERM, θ_RR]]   \n",
    "println(\"Risiko Testdaten ERM: $(r[1][1])\\n\")\n",
    "println(\"Risiko Trainingsdaten ERM: $(r[1][2])\\n\")\n",
    "println(\"ERM Risikoverhältnis: $(r[1][1]/r[1][2])\\n\")\n",
    "println(\"Risiko Testdaten RR: $(r[2][1])\\n\")\n",
    "println(\"Risiko Trainingsdaten RR: $(r[2][2])\\n\")\n",
    "println(\"RR Risikoverhältnis: $(r[2][1]/r[2][2])\\n\")"
   ]
  },
  {
   "cell_type": "markdown",
   "metadata": {},
   "source": [
    "Für das neuronale Netz ergeben sich folgende Werte."
   ]
  },
  {
   "cell_type": "code",
   "execution_count": 88,
   "metadata": {},
   "outputs": [
    {
     "name": "stdout",
     "output_type": "stream",
     "text": [
      "Risiko Testdaten NN: 437.8242890828266\n",
      "\n",
      "Risiko Trainingsdaten NN: 174.59651028567694\n",
      "\n",
      "NN Risikoverhältnis: 2.507634822519953\n",
      "\n"
     ]
    }
   ],
   "source": [
    "r = (R(θ_NN, f_NN, X_test, Y_test), R(θ_NN, f_NN, X, Y))\n",
    "println(\"Risiko Testdaten NN: $(r[1])\\n\")\n",
    "println(\"Risiko Trainingsdaten NN: $(r[2])\\n\")\n",
    "println(\"NN Risikoverhältnis: $(r[1]/r[2])\\n\")"
   ]
  },
  {
   "cell_type": "markdown",
   "metadata": {},
   "source": [
    "---\n",
    "# Regularisierung\n",
    "\n",
    "In obigem Beispiel sehen wir keinen großen Unterschied zwischen ERM und RR. \n",
    "\n",
    "Es folgt ein Beispiel, für das Regularisierung wichtig ist.\n",
    "\n",
    "Dazu generieren wir $n=20$ synthetische Daten von einem kubischen Polynom plus Noise:"
   ]
  },
  {
   "cell_type": "code",
   "execution_count": 89,
   "metadata": {},
   "outputs": [],
   "source": [
    "q = (x -> 1 + 4*x + 2*x^2 - 0.5*x^3)\n",
    "\n",
    "n = 20\n",
    "P = 4\n",
    "X = 10 .* (rand(n) .- 0.5); # randn sampled von Unif([0,1])\n",
    "Y = map(q, X) + 5 .* randn(n);"
   ]
  },
  {
   "cell_type": "markdown",
   "metadata": {},
   "source": [
    "Wir plotten die Daten:"
   ]
  },
  {
   "cell_type": "code",
   "execution_count": 90,
   "metadata": {},
   "outputs": [
    {
     "data": {
      "image/svg+xml": [
       "<?xml version=\"1.0\" encoding=\"utf-8\"?>\n",
       "<svg xmlns=\"http://www.w3.org/2000/svg\" xmlns:xlink=\"http://www.w3.org/1999/xlink\" width=\"600\" height=\"300\" viewBox=\"0 0 2400 1200\">\n",
       "<defs>\n",
       "  <clipPath id=\"clip880\">\n",
       "    <rect x=\"0\" y=\"0\" width=\"2400\" height=\"1200\"/>\n",
       "  </clipPath>\n",
       "</defs>\n",
       "<path clip-path=\"url(#clip880)\" d=\"\n",
       "M0 1200 L2400 1200 L2400 0 L0 0  Z\n",
       "  \" fill=\"#ffffff\" fill-rule=\"evenodd\" fill-opacity=\"1\"/>\n",
       "<defs>\n",
       "  <clipPath id=\"clip881\">\n",
       "    <rect x=\"480\" y=\"0\" width=\"1681\" height=\"1200\"/>\n",
       "  </clipPath>\n",
       "</defs>\n",
       "<path clip-path=\"url(#clip880)\" d=\"\n",
       "M141.853 1099.09 L2352.76 1099.09 L2352.76 47.2441 L141.853 47.2441  Z\n",
       "  \" fill=\"#ffffff\" fill-rule=\"evenodd\" fill-opacity=\"1\"/>\n",
       "<defs>\n",
       "  <clipPath id=\"clip882\">\n",
       "    <rect x=\"141\" y=\"47\" width=\"2212\" height=\"1053\"/>\n",
       "  </clipPath>\n",
       "</defs>\n",
       "<polyline clip-path=\"url(#clip882)\" style=\"stroke:#000000; stroke-linecap:butt; stroke-linejoin:round; stroke-width:2; stroke-opacity:0.1; fill:none\" points=\"\n",
       "  413.001,1099.09 413.001,47.2441 \n",
       "  \"/>\n",
       "<polyline clip-path=\"url(#clip882)\" style=\"stroke:#000000; stroke-linecap:butt; stroke-linejoin:round; stroke-width:2; stroke-opacity:0.1; fill:none\" points=\"\n",
       "  830.153,1099.09 830.153,47.2441 \n",
       "  \"/>\n",
       "<polyline clip-path=\"url(#clip882)\" style=\"stroke:#000000; stroke-linecap:butt; stroke-linejoin:round; stroke-width:2; stroke-opacity:0.1; fill:none\" points=\"\n",
       "  1247.3,1099.09 1247.3,47.2441 \n",
       "  \"/>\n",
       "<polyline clip-path=\"url(#clip882)\" style=\"stroke:#000000; stroke-linecap:butt; stroke-linejoin:round; stroke-width:2; stroke-opacity:0.1; fill:none\" points=\"\n",
       "  1664.46,1099.09 1664.46,47.2441 \n",
       "  \"/>\n",
       "<polyline clip-path=\"url(#clip882)\" style=\"stroke:#000000; stroke-linecap:butt; stroke-linejoin:round; stroke-width:2; stroke-opacity:0.1; fill:none\" points=\"\n",
       "  2081.61,1099.09 2081.61,47.2441 \n",
       "  \"/>\n",
       "<polyline clip-path=\"url(#clip880)\" style=\"stroke:#000000; stroke-linecap:butt; stroke-linejoin:round; stroke-width:4; stroke-opacity:1; fill:none\" points=\"\n",
       "  141.853,1099.09 2352.76,1099.09 \n",
       "  \"/>\n",
       "<polyline clip-path=\"url(#clip880)\" style=\"stroke:#000000; stroke-linecap:butt; stroke-linejoin:round; stroke-width:4; stroke-opacity:1; fill:none\" points=\"\n",
       "  413.001,1099.09 413.001,1080.19 \n",
       "  \"/>\n",
       "<polyline clip-path=\"url(#clip880)\" style=\"stroke:#000000; stroke-linecap:butt; stroke-linejoin:round; stroke-width:4; stroke-opacity:1; fill:none\" points=\"\n",
       "  830.153,1099.09 830.153,1080.19 \n",
       "  \"/>\n",
       "<polyline clip-path=\"url(#clip880)\" style=\"stroke:#000000; stroke-linecap:butt; stroke-linejoin:round; stroke-width:4; stroke-opacity:1; fill:none\" points=\"\n",
       "  1247.3,1099.09 1247.3,1080.19 \n",
       "  \"/>\n",
       "<polyline clip-path=\"url(#clip880)\" style=\"stroke:#000000; stroke-linecap:butt; stroke-linejoin:round; stroke-width:4; stroke-opacity:1; fill:none\" points=\"\n",
       "  1664.46,1099.09 1664.46,1080.19 \n",
       "  \"/>\n",
       "<polyline clip-path=\"url(#clip880)\" style=\"stroke:#000000; stroke-linecap:butt; stroke-linejoin:round; stroke-width:4; stroke-opacity:1; fill:none\" points=\"\n",
       "  2081.61,1099.09 2081.61,1080.19 \n",
       "  \"/>\n",
       "<path clip-path=\"url(#clip880)\" d=\"M381.902 1144.66 L411.578 1144.66 L411.578 1148.59 L381.902 1148.59 L381.902 1144.66 Z\" fill=\"#000000\" fill-rule=\"evenodd\" fill-opacity=\"1\" /><path clip-path=\"url(#clip880)\" d=\"M434.518 1131 L422.712 1149.45 L434.518 1149.45 L434.518 1131 M433.291 1126.93 L439.17 1126.93 L439.17 1149.45 L444.101 1149.45 L444.101 1153.34 L439.17 1153.34 L439.17 1161.49 L434.518 1161.49 L434.518 1153.34 L418.916 1153.34 L418.916 1148.83 L433.291 1126.93 Z\" fill=\"#000000\" fill-rule=\"evenodd\" fill-opacity=\"1\" /><path clip-path=\"url(#clip880)\" d=\"M800.095 1144.66 L829.771 1144.66 L829.771 1148.59 L800.095 1148.59 L800.095 1144.66 Z\" fill=\"#000000\" fill-rule=\"evenodd\" fill-opacity=\"1\" /><path clip-path=\"url(#clip880)\" d=\"M843.891 1157.55 L860.211 1157.55 L860.211 1161.49 L838.266 1161.49 L838.266 1157.55 Q840.928 1154.8 845.512 1150.17 Q850.118 1145.52 851.299 1144.17 Q853.544 1141.65 854.424 1139.91 Q855.326 1138.15 855.326 1136.46 Q855.326 1133.71 853.382 1131.97 Q851.461 1130.24 848.359 1130.24 Q846.16 1130.24 843.706 1131 Q841.276 1131.77 838.498 1133.32 L838.498 1128.59 Q841.322 1127.46 843.776 1126.88 Q846.229 1126.3 848.266 1126.3 Q853.637 1126.3 856.831 1128.99 Q860.025 1131.67 860.025 1136.16 Q860.025 1138.29 859.215 1140.21 Q858.428 1142.11 856.322 1144.71 Q855.743 1145.38 852.641 1148.59 Q849.539 1151.79 843.891 1157.55 Z\" fill=\"#000000\" fill-rule=\"evenodd\" fill-opacity=\"1\" /><path clip-path=\"url(#clip880)\" d=\"M1247.3 1130.01 Q1243.69 1130.01 1241.86 1133.57 Q1240.06 1137.11 1240.06 1144.24 Q1240.06 1151.35 1241.86 1154.91 Q1243.69 1158.46 1247.3 1158.46 Q1250.94 1158.46 1252.74 1154.91 Q1254.57 1151.35 1254.57 1144.24 Q1254.57 1137.11 1252.74 1133.57 Q1250.94 1130.01 1247.3 1130.01 M1247.3 1126.3 Q1253.11 1126.3 1256.17 1130.91 Q1259.25 1135.49 1259.25 1144.24 Q1259.25 1152.97 1256.17 1157.58 Q1253.11 1162.16 1247.3 1162.16 Q1241.49 1162.16 1238.42 1157.58 Q1235.36 1152.97 1235.36 1144.24 Q1235.36 1135.49 1238.42 1130.91 Q1241.49 1126.3 1247.3 1126.3 Z\" fill=\"#000000\" fill-rule=\"evenodd\" fill-opacity=\"1\" /><path clip-path=\"url(#clip880)\" d=\"M1659.11 1157.55 L1675.43 1157.55 L1675.43 1161.49 L1653.48 1161.49 L1653.48 1157.55 Q1656.15 1154.8 1660.73 1150.17 Q1665.34 1145.52 1666.52 1144.17 Q1668.76 1141.65 1669.64 1139.91 Q1670.54 1138.15 1670.54 1136.46 Q1670.54 1133.71 1668.6 1131.97 Q1666.68 1130.24 1663.58 1130.24 Q1661.38 1130.24 1658.92 1131 Q1656.49 1131.77 1653.72 1133.32 L1653.72 1128.59 Q1656.54 1127.46 1658.99 1126.88 Q1661.45 1126.3 1663.48 1126.3 Q1668.85 1126.3 1672.05 1128.99 Q1675.24 1131.67 1675.24 1136.16 Q1675.24 1138.29 1674.43 1140.21 Q1673.65 1142.11 1671.54 1144.71 Q1670.96 1145.38 1667.86 1148.59 Q1664.76 1151.79 1659.11 1157.55 Z\" fill=\"#000000\" fill-rule=\"evenodd\" fill-opacity=\"1\" /><path clip-path=\"url(#clip880)\" d=\"M2084.62 1131 L2072.81 1149.45 L2084.62 1149.45 L2084.62 1131 M2083.39 1126.93 L2089.27 1126.93 L2089.27 1149.45 L2094.2 1149.45 L2094.2 1153.34 L2089.27 1153.34 L2089.27 1161.49 L2084.62 1161.49 L2084.62 1153.34 L2069.01 1153.34 L2069.01 1148.83 L2083.39 1126.93 Z\" fill=\"#000000\" fill-rule=\"evenodd\" fill-opacity=\"1\" /><polyline clip-path=\"url(#clip882)\" style=\"stroke:#000000; stroke-linecap:butt; stroke-linejoin:round; stroke-width:2; stroke-opacity:0.1; fill:none\" points=\"\n",
       "  141.853,1045.41 2352.76,1045.41 \n",
       "  \"/>\n",
       "<polyline clip-path=\"url(#clip882)\" style=\"stroke:#000000; stroke-linecap:butt; stroke-linejoin:round; stroke-width:2; stroke-opacity:0.1; fill:none\" points=\"\n",
       "  141.853,838.268 2352.76,838.268 \n",
       "  \"/>\n",
       "<polyline clip-path=\"url(#clip882)\" style=\"stroke:#000000; stroke-linecap:butt; stroke-linejoin:round; stroke-width:2; stroke-opacity:0.1; fill:none\" points=\"\n",
       "  141.853,631.124 2352.76,631.124 \n",
       "  \"/>\n",
       "<polyline clip-path=\"url(#clip882)\" style=\"stroke:#000000; stroke-linecap:butt; stroke-linejoin:round; stroke-width:2; stroke-opacity:0.1; fill:none\" points=\"\n",
       "  141.853,423.98 2352.76,423.98 \n",
       "  \"/>\n",
       "<polyline clip-path=\"url(#clip882)\" style=\"stroke:#000000; stroke-linecap:butt; stroke-linejoin:round; stroke-width:2; stroke-opacity:0.1; fill:none\" points=\"\n",
       "  141.853,216.836 2352.76,216.836 \n",
       "  \"/>\n",
       "<polyline clip-path=\"url(#clip880)\" style=\"stroke:#000000; stroke-linecap:butt; stroke-linejoin:round; stroke-width:4; stroke-opacity:1; fill:none\" points=\"\n",
       "  141.853,1099.09 141.853,47.2441 \n",
       "  \"/>\n",
       "<polyline clip-path=\"url(#clip880)\" style=\"stroke:#000000; stroke-linecap:butt; stroke-linejoin:round; stroke-width:4; stroke-opacity:1; fill:none\" points=\"\n",
       "  141.853,1045.41 160.751,1045.41 \n",
       "  \"/>\n",
       "<polyline clip-path=\"url(#clip880)\" style=\"stroke:#000000; stroke-linecap:butt; stroke-linejoin:round; stroke-width:4; stroke-opacity:1; fill:none\" points=\"\n",
       "  141.853,838.268 160.751,838.268 \n",
       "  \"/>\n",
       "<polyline clip-path=\"url(#clip880)\" style=\"stroke:#000000; stroke-linecap:butt; stroke-linejoin:round; stroke-width:4; stroke-opacity:1; fill:none\" points=\"\n",
       "  141.853,631.124 160.751,631.124 \n",
       "  \"/>\n",
       "<polyline clip-path=\"url(#clip880)\" style=\"stroke:#000000; stroke-linecap:butt; stroke-linejoin:round; stroke-width:4; stroke-opacity:1; fill:none\" points=\"\n",
       "  141.853,423.98 160.751,423.98 \n",
       "  \"/>\n",
       "<polyline clip-path=\"url(#clip880)\" style=\"stroke:#000000; stroke-linecap:butt; stroke-linejoin:round; stroke-width:4; stroke-opacity:1; fill:none\" points=\"\n",
       "  141.853,216.836 160.751,216.836 \n",
       "  \"/>\n",
       "<path clip-path=\"url(#clip880)\" d=\"M93.9086 1031.21 Q90.2975 1031.21 88.4688 1034.78 Q86.6632 1038.32 86.6632 1045.45 Q86.6632 1052.55 88.4688 1056.12 Q90.2975 1059.66 93.9086 1059.66 Q97.5428 1059.66 99.3483 1056.12 Q101.177 1052.55 101.177 1045.45 Q101.177 1038.32 99.3483 1034.78 Q97.5428 1031.21 93.9086 1031.21 M93.9086 1027.51 Q99.7187 1027.51 102.774 1032.11 Q105.853 1036.7 105.853 1045.45 Q105.853 1054.17 102.774 1058.78 Q99.7187 1063.36 93.9086 1063.36 Q88.0984 1063.36 85.0197 1058.78 Q81.9642 1054.17 81.9642 1045.45 Q81.9642 1036.7 85.0197 1032.11 Q88.0984 1027.51 93.9086 1027.51 Z\" fill=\"#000000\" fill-rule=\"evenodd\" fill-opacity=\"1\" /><path clip-path=\"url(#clip880)\" d=\"M57.7745 851.613 L74.0939 851.613 L74.0939 855.548 L52.1495 855.548 L52.1495 851.613 Q54.8115 848.858 59.3949 844.229 Q64.0013 839.576 65.1819 838.233 Q67.4272 835.71 68.3068 833.974 Q69.2096 832.215 69.2096 830.525 Q69.2096 827.77 67.2652 826.034 Q65.3439 824.298 62.2421 824.298 Q60.043 824.298 57.5893 825.062 Q55.1588 825.826 52.381 827.377 L52.381 822.655 Q55.2051 821.52 57.6588 820.942 Q60.1124 820.363 62.1495 820.363 Q67.5198 820.363 70.7142 823.048 Q73.9087 825.733 73.9087 830.224 Q73.9087 832.354 73.0985 834.275 Q72.3115 836.173 70.205 838.766 Q69.6263 839.437 66.5245 842.654 Q63.4226 845.849 57.7745 851.613 Z\" fill=\"#000000\" fill-rule=\"evenodd\" fill-opacity=\"1\" /><path clip-path=\"url(#clip880)\" d=\"M93.9086 824.067 Q90.2975 824.067 88.4688 827.631 Q86.6632 831.173 86.6632 838.303 Q86.6632 845.409 88.4688 848.974 Q90.2975 852.516 93.9086 852.516 Q97.5428 852.516 99.3483 848.974 Q101.177 845.409 101.177 838.303 Q101.177 831.173 99.3483 827.631 Q97.5428 824.067 93.9086 824.067 M93.9086 820.363 Q99.7187 820.363 102.774 824.969 Q105.853 829.553 105.853 838.303 Q105.853 847.029 102.774 851.636 Q99.7187 856.219 93.9086 856.219 Q88.0984 856.219 85.0197 851.636 Q81.9642 847.029 81.9642 838.303 Q81.9642 829.553 85.0197 824.969 Q88.0984 820.363 93.9086 820.363 Z\" fill=\"#000000\" fill-rule=\"evenodd\" fill-opacity=\"1\" /><path clip-path=\"url(#clip880)\" d=\"M66.5939 617.918 L54.7884 636.367 L66.5939 636.367 L66.5939 617.918 M65.367 613.844 L71.2466 613.844 L71.2466 636.367 L76.1772 636.367 L76.1772 640.256 L71.2466 640.256 L71.2466 648.404 L66.5939 648.404 L66.5939 640.256 L50.9921 640.256 L50.9921 635.742 L65.367 613.844 Z\" fill=\"#000000\" fill-rule=\"evenodd\" fill-opacity=\"1\" /><path clip-path=\"url(#clip880)\" d=\"M93.9086 616.922 Q90.2975 616.922 88.4688 620.487 Q86.6632 624.029 86.6632 631.159 Q86.6632 638.265 88.4688 641.83 Q90.2975 645.371 93.9086 645.371 Q97.5428 645.371 99.3483 641.83 Q101.177 638.265 101.177 631.159 Q101.177 624.029 99.3483 620.487 Q97.5428 616.922 93.9086 616.922 M93.9086 613.219 Q99.7187 613.219 102.774 617.825 Q105.853 622.409 105.853 631.159 Q105.853 639.885 102.774 644.492 Q99.7187 649.075 93.9086 649.075 Q88.0984 649.075 85.0197 644.492 Q81.9642 639.885 81.9642 631.159 Q81.9642 622.409 85.0197 617.825 Q88.0984 613.219 93.9086 613.219 Z\" fill=\"#000000\" fill-rule=\"evenodd\" fill-opacity=\"1\" /><path clip-path=\"url(#clip880)\" d=\"M64.3254 422.116 Q61.1773 422.116 59.3254 424.269 Q57.4967 426.422 57.4967 430.172 Q57.4967 433.899 59.3254 436.075 Q61.1773 438.227 64.3254 438.227 Q67.4735 438.227 69.3022 436.075 Q71.1541 433.899 71.1541 430.172 Q71.1541 426.422 69.3022 424.269 Q67.4735 422.116 64.3254 422.116 M73.6077 407.464 L73.6077 411.723 Q71.8485 410.889 70.0429 410.45 Q68.2606 410.01 66.5013 410.01 Q61.8717 410.01 59.418 413.135 Q56.9875 416.26 56.6402 422.579 Q58.006 420.565 60.0662 419.501 Q62.1263 418.413 64.6032 418.413 Q69.8115 418.413 72.8207 421.584 Q75.8531 424.732 75.8531 430.172 Q75.8531 435.496 72.705 438.713 Q69.5568 441.931 64.3254 441.931 Q58.33 441.931 55.1588 437.348 Q51.9875 432.741 51.9875 424.014 Q51.9875 415.82 55.8764 410.959 Q59.7652 406.075 66.3161 406.075 Q68.0754 406.075 69.8578 406.422 Q71.6633 406.769 73.6077 407.464 Z\" fill=\"#000000\" fill-rule=\"evenodd\" fill-opacity=\"1\" /><path clip-path=\"url(#clip880)\" d=\"M93.9086 409.778 Q90.2975 409.778 88.4688 413.343 Q86.6632 416.885 86.6632 424.014 Q86.6632 431.121 88.4688 434.686 Q90.2975 438.227 93.9086 438.227 Q97.5428 438.227 99.3483 434.686 Q101.177 431.121 101.177 424.014 Q101.177 416.885 99.3483 413.343 Q97.5428 409.778 93.9086 409.778 M93.9086 406.075 Q99.7187 406.075 102.774 410.681 Q105.853 415.264 105.853 424.014 Q105.853 432.741 102.774 437.348 Q99.7187 441.931 93.9086 441.931 Q88.0984 441.931 85.0197 437.348 Q81.9642 432.741 81.9642 424.014 Q81.9642 415.264 85.0197 410.681 Q88.0984 406.075 93.9086 406.075 Z\" fill=\"#000000\" fill-rule=\"evenodd\" fill-opacity=\"1\" /><path clip-path=\"url(#clip880)\" d=\"M63.7467 217.704 Q60.4134 217.704 58.4921 219.486 Q56.5939 221.268 56.5939 224.393 Q56.5939 227.518 58.4921 229.301 Q60.4134 231.083 63.7467 231.083 Q67.08 231.083 69.0013 229.301 Q70.9226 227.495 70.9226 224.393 Q70.9226 221.268 69.0013 219.486 Q67.1032 217.704 63.7467 217.704 M59.0708 215.713 Q56.0615 214.972 54.3717 212.912 Q52.7051 210.852 52.7051 207.889 Q52.7051 203.745 55.6449 201.338 Q58.6078 198.931 63.7467 198.931 Q68.9087 198.931 71.8485 201.338 Q74.7883 203.745 74.7883 207.889 Q74.7883 210.852 73.0985 212.912 Q71.4318 214.972 68.4457 215.713 Q71.8253 216.5 73.7003 218.792 Q75.5985 221.083 75.5985 224.393 Q75.5985 229.416 72.5198 232.102 Q69.4642 234.787 63.7467 234.787 Q58.0291 234.787 54.9504 232.102 Q51.8949 229.416 51.8949 224.393 Q51.8949 221.083 53.793 218.792 Q55.6912 216.5 59.0708 215.713 M57.3578 208.329 Q57.3578 211.014 59.0245 212.518 Q60.7143 214.023 63.7467 214.023 Q66.7559 214.023 68.4457 212.518 Q70.1587 211.014 70.1587 208.329 Q70.1587 205.643 68.4457 204.139 Q66.7559 202.634 63.7467 202.634 Q60.7143 202.634 59.0245 204.139 Q57.3578 205.643 57.3578 208.329 Z\" fill=\"#000000\" fill-rule=\"evenodd\" fill-opacity=\"1\" /><path clip-path=\"url(#clip880)\" d=\"M93.9086 202.634 Q90.2975 202.634 88.4688 206.199 Q86.6632 209.741 86.6632 216.87 Q86.6632 223.977 88.4688 227.542 Q90.2975 231.083 93.9086 231.083 Q97.5428 231.083 99.3483 227.542 Q101.177 223.977 101.177 216.87 Q101.177 209.741 99.3483 206.199 Q97.5428 202.634 93.9086 202.634 M93.9086 198.931 Q99.7187 198.931 102.774 203.537 Q105.853 208.12 105.853 216.87 Q105.853 225.597 102.774 230.204 Q99.7187 234.787 93.9086 234.787 Q88.0984 234.787 85.0197 230.204 Q81.9642 225.597 81.9642 216.87 Q81.9642 208.12 85.0197 203.537 Q88.0984 198.931 93.9086 198.931 Z\" fill=\"#000000\" fill-rule=\"evenodd\" fill-opacity=\"1\" /><polyline clip-path=\"url(#clip882)\" style=\"stroke:#4682b4; stroke-linecap:butt; stroke-linejoin:round; stroke-width:4; stroke-opacity:1; fill:none\" stroke-dasharray=\"16, 10\" points=\"\n",
       "  204.426,77.0133 207.821,86.0061 211.215,94.947 214.61,103.836 218.005,112.673 233.7,152.861 249.395,191.96 265.091,229.982 280.786,266.941 296.481,302.85 \n",
       "  312.176,337.722 327.871,371.571 343.566,404.41 362.431,442.562 381.295,479.296 400.159,514.636 419.024,548.605 434.973,576.273 450.923,602.991 466.872,628.773 \n",
       "  482.822,653.632 500.147,679.608 517.473,704.53 534.799,728.416 552.124,751.284 568.097,771.479 584.07,790.838 600.042,809.375 616.015,827.103 633.139,845.227 \n",
       "  650.264,862.456 667.388,878.805 684.513,894.293 704.353,911.183 724.193,926.966 744.034,941.669 763.874,955.319 781.506,966.587 799.138,977.063 816.769,986.766 \n",
       "  834.401,995.714 865.324,1009.64 896.247,1021.41 929.961,1031.9 963.675,1040.07 997.59,1046.08 1031.5,1050.01 1069,1052.1 1106.5,1051.99 1142.18,1050.01 \n",
       "  1177.85,1046.36 1214.95,1040.96 1252.05,1034.1 1283.27,1027.32 1314.5,1019.73 1390.75,998.45 1460.6,976.564 1525.11,955.364 1590.46,933.888 1663.7,910.995 \n",
       "  1730.06,892.408 1768.05,883.093 1806.04,874.976 1841.22,868.694 1876.4,863.75 1911.08,860.331 1945.76,858.5 1979.43,858.378 2013.1,860.018 2047.62,863.666 \n",
       "  2082.13,869.444 2101.04,873.564 2119.95,878.388 2138.86,883.94 2157.77,890.243 2185.24,900.785 2212.71,913.032 2240.17,927.055 2267.64,942.924 2273.28,946.414 \n",
       "  2278.91,949.986 2284.55,953.64 2290.18,957.376 \n",
       "  \"/>\n",
       "<circle clip-path=\"url(#clip882)\" cx=\"1063.13\" cy=\"1069.32\" r=\"14\" fill=\"#0000ff\" fill-rule=\"evenodd\" fill-opacity=\"1\" stroke=\"#000000\" stroke-opacity=\"1\" stroke-width=\"2.4\"/>\n",
       "<circle clip-path=\"url(#clip882)\" cx=\"1457.9\" cy=\"966.051\" r=\"14\" fill=\"#0000ff\" fill-rule=\"evenodd\" fill-opacity=\"1\" stroke=\"#000000\" stroke-opacity=\"1\" stroke-width=\"2.4\"/>\n",
       "<circle clip-path=\"url(#clip882)\" cx=\"1878.63\" cy=\"851.008\" r=\"14\" fill=\"#0000ff\" fill-rule=\"evenodd\" fill-opacity=\"1\" stroke=\"#000000\" stroke-opacity=\"1\" stroke-width=\"2.4\"/>\n",
       "<circle clip-path=\"url(#clip882)\" cx=\"441.318\" cy=\"628.984\" r=\"14\" fill=\"#0000ff\" fill-rule=\"evenodd\" fill-opacity=\"1\" stroke=\"#000000\" stroke-opacity=\"1\" stroke-width=\"2.4\"/>\n",
       "<circle clip-path=\"url(#clip882)\" cx=\"438.718\" cy=\"633.122\" r=\"14\" fill=\"#0000ff\" fill-rule=\"evenodd\" fill-opacity=\"1\" stroke=\"#000000\" stroke-opacity=\"1\" stroke-width=\"2.4\"/>\n",
       "<circle clip-path=\"url(#clip882)\" cx=\"1822.65\" cy=\"842.684\" r=\"14\" fill=\"#0000ff\" fill-rule=\"evenodd\" fill-opacity=\"1\" stroke=\"#000000\" stroke-opacity=\"1\" stroke-width=\"2.4\"/>\n",
       "<circle clip-path=\"url(#clip882)\" cx=\"1857.2\" cy=\"737.102\" r=\"14\" fill=\"#0000ff\" fill-rule=\"evenodd\" fill-opacity=\"1\" stroke=\"#000000\" stroke-opacity=\"1\" stroke-width=\"2.4\"/>\n",
       "<circle clip-path=\"url(#clip882)\" cx=\"1519.24\" cy=\"1003.38\" r=\"14\" fill=\"#0000ff\" fill-rule=\"evenodd\" fill-opacity=\"1\" stroke=\"#000000\" stroke-opacity=\"1\" stroke-width=\"2.4\"/>\n",
       "<circle clip-path=\"url(#clip882)\" cx=\"1598.91\" cy=\"1029.8\" r=\"14\" fill=\"#0000ff\" fill-rule=\"evenodd\" fill-opacity=\"1\" stroke=\"#000000\" stroke-opacity=\"1\" stroke-width=\"2.4\"/>\n",
       "<circle clip-path=\"url(#clip882)\" cx=\"1304.23\" cy=\"1015.95\" r=\"14\" fill=\"#0000ff\" fill-rule=\"evenodd\" fill-opacity=\"1\" stroke=\"#000000\" stroke-opacity=\"1\" stroke-width=\"2.4\"/>\n",
       "<circle clip-path=\"url(#clip882)\" cx=\"1240.6\" cy=\"1021.59\" r=\"14\" fill=\"#0000ff\" fill-rule=\"evenodd\" fill-opacity=\"1\" stroke=\"#000000\" stroke-opacity=\"1\" stroke-width=\"2.4\"/>\n",
       "<circle clip-path=\"url(#clip882)\" cx=\"1491.53\" cy=\"1017.16\" r=\"14\" fill=\"#0000ff\" fill-rule=\"evenodd\" fill-opacity=\"1\" stroke=\"#000000\" stroke-opacity=\"1\" stroke-width=\"2.4\"/>\n",
       "<circle clip-path=\"url(#clip882)\" cx=\"648.817\" cy=\"918.018\" r=\"14\" fill=\"#0000ff\" fill-rule=\"evenodd\" fill-opacity=\"1\" stroke=\"#000000\" stroke-opacity=\"1\" stroke-width=\"2.4\"/>\n",
       "<circle clip-path=\"url(#clip882)\" cx=\"2023.54\" cy=\"788.005\" r=\"14\" fill=\"#0000ff\" fill-rule=\"evenodd\" fill-opacity=\"1\" stroke=\"#000000\" stroke-opacity=\"1\" stroke-width=\"2.4\"/>\n",
       "<circle clip-path=\"url(#clip882)\" cx=\"2157.98\" cy=\"920.155\" r=\"14\" fill=\"#0000ff\" fill-rule=\"evenodd\" fill-opacity=\"1\" stroke=\"#000000\" stroke-opacity=\"1\" stroke-width=\"2.4\"/>\n",
       "<circle clip-path=\"url(#clip882)\" cx=\"1550.53\" cy=\"869.528\" r=\"14\" fill=\"#0000ff\" fill-rule=\"evenodd\" fill-opacity=\"1\" stroke=\"#000000\" stroke-opacity=\"1\" stroke-width=\"2.4\"/>\n",
       "<circle clip-path=\"url(#clip882)\" cx=\"1617.1\" cy=\"907.062\" r=\"14\" fill=\"#0000ff\" fill-rule=\"evenodd\" fill-opacity=\"1\" stroke=\"#000000\" stroke-opacity=\"1\" stroke-width=\"2.4\"/>\n",
       "<circle clip-path=\"url(#clip882)\" cx=\"837.039\" cy=\"1016.78\" r=\"14\" fill=\"#0000ff\" fill-rule=\"evenodd\" fill-opacity=\"1\" stroke=\"#000000\" stroke-opacity=\"1\" stroke-width=\"2.4\"/>\n",
       "<circle clip-path=\"url(#clip882)\" cx=\"1984.55\" cy=\"922.44\" r=\"14\" fill=\"#0000ff\" fill-rule=\"evenodd\" fill-opacity=\"1\" stroke=\"#000000\" stroke-opacity=\"1\" stroke-width=\"2.4\"/>\n",
       "<circle clip-path=\"url(#clip882)\" cx=\"391.734\" cy=\"398.429\" r=\"14\" fill=\"#0000ff\" fill-rule=\"evenodd\" fill-opacity=\"1\" stroke=\"#000000\" stroke-opacity=\"1\" stroke-width=\"2.4\"/>\n",
       "<path clip-path=\"url(#clip880)\" d=\"\n",
       "M2010.23 185.986 L2279.06 185.986 L2279.06 82.3056 L2010.23 82.3056  Z\n",
       "  \" fill=\"#ffffff\" fill-rule=\"evenodd\" fill-opacity=\"1\"/>\n",
       "<polyline clip-path=\"url(#clip880)\" style=\"stroke:#000000; stroke-linecap:butt; stroke-linejoin:round; stroke-width:4; stroke-opacity:1; fill:none\" points=\"\n",
       "  2010.23,185.986 2279.06,185.986 2279.06,82.3056 2010.23,82.3056 2010.23,185.986 \n",
       "  \"/>\n",
       "<polyline clip-path=\"url(#clip880)\" style=\"stroke:#4682b4; stroke-linecap:butt; stroke-linejoin:round; stroke-width:4; stroke-opacity:1; fill:none\" stroke-dasharray=\"16, 10\" points=\"\n",
       "  2034.8,134.146 2182.19,134.146 \n",
       "  \"/>\n",
       "<path clip-path=\"url(#clip880)\" d=\"M2211.15 138.486 Q2211.15 143.185 2213.08 145.87 Q2215.02 148.532 2218.4 148.532 Q2221.78 148.532 2223.72 145.87 Q2225.67 143.185 2225.67 138.486 Q2225.67 133.787 2223.72 131.125 Q2221.78 128.44 2218.4 128.44 Q2215.02 128.44 2213.08 131.125 Q2211.15 133.787 2211.15 138.486 M2225.67 147.537 Q2224.33 149.851 2222.27 150.986 Q2220.23 152.097 2217.36 152.097 Q2212.66 152.097 2209.7 148.347 Q2206.76 144.597 2206.76 138.486 Q2206.76 132.375 2209.7 128.625 Q2212.66 124.875 2217.36 124.875 Q2220.23 124.875 2222.27 126.009 Q2224.33 127.12 2225.67 129.435 L2225.67 125.5 L2229.93 125.5 L2229.93 161.287 L2225.67 161.287 L2225.67 147.537 Z\" fill=\"#000000\" fill-rule=\"evenodd\" fill-opacity=\"1\" /></svg>\n"
      ]
     },
     "execution_count": 90,
     "metadata": {},
     "output_type": "execute_result"
    }
   ],
   "source": [
    "plot(q, label = \"q\", size = (600,300), linestyle = :dash, color = :steelblue)\n",
    "scatter!(X,Y, label=false, color = :blue)"
   ]
  },
  {
   "cell_type": "markdown",
   "metadata": {},
   "source": [
    "Wir berechnen Feature Matrix und RR Parameter."
   ]
  },
  {
   "cell_type": "code",
   "execution_count": 91,
   "metadata": {},
   "outputs": [
    {
     "data": {
      "text/plain": [
       "θ_T (generic function with 1 method)"
      ]
     },
     "execution_count": 91,
     "metadata": {},
     "output_type": "execute_result"
    }
   ],
   "source": [
    "Ω = hcat([X.^i for i in 0:P-1]...)\n",
    "θ_T(λ) = (Ω' * Ω + (n*λ) .* diagm(ones(P))) \\ (Ω' * Y)"
   ]
  },
  {
   "cell_type": "markdown",
   "metadata": {},
   "source": [
    "Für jeden Wert von $\\lambda$ erhalten wir dann ein Polynom wie folgt:'"
   ]
  },
  {
   "cell_type": "code",
   "execution_count": 92,
   "metadata": {},
   "outputs": [
    {
     "data": {
      "text/plain": [
       "Q (generic function with 1 method)"
      ]
     },
     "execution_count": 92,
     "metadata": {},
     "output_type": "execute_result"
    }
   ],
   "source": [
    "Q(λ) = (x -> sum(θ * x^(i-1) for (i,θ) in enumerate(θ_T(λ))))"
   ]
  },
  {
   "cell_type": "markdown",
   "metadata": {},
   "source": [
    "Die folgende Animation zeigt, dass Regularisierung ($\\lambda >0$) ein besseres Ergebnis als keine Regularisierung ($\\lambda =0$) erzielt. "
   ]
  },
  {
   "cell_type": "code",
   "execution_count": 93,
   "metadata": {},
   "outputs": [
    {
     "name": "stderr",
     "output_type": "stream",
     "text": [
      "┌ Info: Saved animation to \n",
      "│   fn = /Users/pb/ridge_regression.gif\n",
      "└ @ Plots /Users/pb/.julia/packages/Plots/1KWPG/src/animation.jl:114\n"
     ]
    },
    {
     "data": {
      "text/html": [
       "<img src=\"data:image/gif;base64,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\" />"
      ],
      "text/plain": [
       "Plots.AnimatedGif(\"/Users/pb/ridge_regression.gif\")"
      ]
     },
     "execution_count": 93,
     "metadata": {},
     "output_type": "execute_result"
    }
   ],
   "source": [
    "anim = @animate for λ in 0:10\n",
    "    plot(q, label = \"q\", size = (600,300), linestyle = :dash, lw = 2,\n",
    "        color = :steelblue, \n",
    "        xlims = (-6,6),\n",
    "        ylims = (-20, 120))\n",
    "    scatter!(X,Y, label=false, color = :blue)\n",
    "    plot!(Q(λ/n), label = \"λ = $(λ/n)\", color = :red, lw = 2)\n",
    "end\n",
    "gif(anim, \"/Users/pb/ridge_regression.gif\", fps = 2)"
   ]
  },
  {
   "cell_type": "code",
   "execution_count": null,
   "metadata": {},
   "outputs": [],
   "source": []
  }
 ],
 "metadata": {
  "@webio": {
   "lastCommId": null,
   "lastKernelId": null
  },
  "kernelspec": {
   "display_name": "Julia 1.7.2",
   "language": "julia",
   "name": "julia-1.7"
  },
  "language_info": {
   "file_extension": ".jl",
   "mimetype": "application/julia",
   "name": "julia",
   "version": "1.7.2"
  }
 },
 "nbformat": 4,
 "nbformat_minor": 2
}
