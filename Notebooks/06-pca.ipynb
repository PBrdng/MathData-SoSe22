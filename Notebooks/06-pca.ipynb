{
 "cells": [
  {
   "cell_type": "code",
   "execution_count": 1,
   "metadata": {},
   "outputs": [
    {
     "name": "stderr",
     "output_type": "stream",
     "text": [
      "\u001b[32m\u001b[1m  Activating\u001b[22m\u001b[39m project at `~/Documents/Lehre/Uni Osnabrück/Math Methoden der Datenanalyse 2022/MathData-SoSe22/Notebooks/NB06`\n"
     ]
    }
   ],
   "source": [
    "using Pkg\n",
    "Pkg.activate(\"NB06\")"
   ]
  },
  {
   "cell_type": "code",
   "execution_count": 2,
   "metadata": {},
   "outputs": [],
   "source": [
    "using MLDatasets\n",
    "using Plots, LinearAlgebra, StatsBase, Distributions\n",
    "using Images, ImageCore\n",
    "import Base.Iterators: product"
   ]
  },
  {
   "cell_type": "markdown",
   "metadata": {},
   "source": [
    "*Warning:* For this notebook I had to pin `CSV.jl` to version 0.8.5, because otherwise `MLDatasets` would not compile. This restricts `MLDatasets` to version 0.5. The latest version has a different syntax than the one used here."
   ]
  },
  {
   "cell_type": "markdown",
   "metadata": {},
   "source": [
    "# Principal Component Analysis\n",
    "\n",
    "In this notebook we will apply PCA to three datasets.\n"
   ]
  },
  {
   "cell_type": "markdown",
   "metadata": {},
   "source": [
    "## Points on a circle\n",
    "\n",
    "\n",
    "The first dataset is synthetic data generated from the unit circle $S^1 \\subset \\mathbb R^2$.\n",
    "\n",
    "We want to use PCA to learn the geometry of the data.\n",
    "\n",
    "Let us first generate $n=100$ random points on $S^1$ and add Gaussian noise with variance $\\sigma^2 = 0.01$."
   ]
  },
  {
   "cell_type": "code",
   "execution_count": 11,
   "metadata": {},
   "outputs": [],
   "source": [
    "n = 100\n",
    "σ² = 0.01\n",
    "X = [[cos(ϕ); sin(ϕ)] + sqrt(σ²) .* randn(2) for ϕ in rand(0:0.1:2π, n)];"
   ]
  },
  {
   "cell_type": "markdown",
   "metadata": {},
   "source": [
    "We center the data"
   ]
  },
  {
   "cell_type": "code",
   "execution_count": 12,
   "metadata": {},
   "outputs": [],
   "source": [
    "x̄ = mean(X);\n",
    "X = map(x -> x - x̄, X);"
   ]
  },
  {
   "cell_type": "markdown",
   "metadata": {},
   "source": [
    "and plot the data."
   ]
  },
  {
   "cell_type": "code",
   "execution_count": 13,
   "metadata": {},
   "outputs": [
    {
     "data": {
      "image/svg+xml": [
       "<?xml version=\"1.0\" encoding=\"utf-8\"?>\n",
       "<svg xmlns=\"http://www.w3.org/2000/svg\" xmlns:xlink=\"http://www.w3.org/1999/xlink\" width=\"800\" height=\"250\" viewBox=\"0 0 3200 1000\">\n",
       "<defs>\n",
       "  <clipPath id=\"clip830\">\n",
       "    <rect x=\"0\" y=\"0\" width=\"3200\" height=\"1000\"/>\n",
       "  </clipPath>\n",
       "</defs>\n",
       "<path clip-path=\"url(#clip830)\" d=\"\n",
       "M0 1000 L3200 1000 L3200 0 L0 0  Z\n",
       "  \" fill=\"#ffffff\" fill-rule=\"evenodd\" fill-opacity=\"1\"/>\n",
       "<defs>\n",
       "  <clipPath id=\"clip831\">\n",
       "    <rect x=\"640\" y=\"0\" width=\"2241\" height=\"1000\"/>\n",
       "  </clipPath>\n",
       "</defs>\n",
       "<path clip-path=\"url(#clip830)\" d=\"\n",
       "M201.936 910.808 L3152.76 910.808 L3152.76 47.2441 L201.936 47.2441  Z\n",
       "  \" fill=\"#ffffff\" fill-rule=\"evenodd\" fill-opacity=\"1\"/>\n",
       "<defs>\n",
       "  <clipPath id=\"clip832\">\n",
       "    <rect x=\"201\" y=\"47\" width=\"2952\" height=\"865\"/>\n",
       "  </clipPath>\n",
       "</defs>\n",
       "<polyline clip-path=\"url(#clip832)\" style=\"stroke:#000000; stroke-linecap:butt; stroke-linejoin:round; stroke-width:2; stroke-opacity:0.1; fill:none\" points=\"\n",
       "  285.018,910.808 285.018,47.2441 \n",
       "  \"/>\n",
       "<polyline clip-path=\"url(#clip832)\" style=\"stroke:#000000; stroke-linecap:butt; stroke-linejoin:round; stroke-width:2; stroke-opacity:0.1; fill:none\" points=\"\n",
       "  986.282,910.808 986.282,47.2441 \n",
       "  \"/>\n",
       "<polyline clip-path=\"url(#clip832)\" style=\"stroke:#000000; stroke-linecap:butt; stroke-linejoin:round; stroke-width:2; stroke-opacity:0.1; fill:none\" points=\"\n",
       "  1687.55,910.808 1687.55,47.2441 \n",
       "  \"/>\n",
       "<polyline clip-path=\"url(#clip832)\" style=\"stroke:#000000; stroke-linecap:butt; stroke-linejoin:round; stroke-width:2; stroke-opacity:0.1; fill:none\" points=\"\n",
       "  2388.81,910.808 2388.81,47.2441 \n",
       "  \"/>\n",
       "<polyline clip-path=\"url(#clip832)\" style=\"stroke:#000000; stroke-linecap:butt; stroke-linejoin:round; stroke-width:2; stroke-opacity:0.1; fill:none\" points=\"\n",
       "  3090.07,910.808 3090.07,47.2441 \n",
       "  \"/>\n",
       "<polyline clip-path=\"url(#clip830)\" style=\"stroke:#000000; stroke-linecap:butt; stroke-linejoin:round; stroke-width:4; stroke-opacity:1; fill:none\" points=\"\n",
       "  201.936,910.808 3152.76,910.808 \n",
       "  \"/>\n",
       "<polyline clip-path=\"url(#clip830)\" style=\"stroke:#000000; stroke-linecap:butt; stroke-linejoin:round; stroke-width:4; stroke-opacity:1; fill:none\" points=\"\n",
       "  285.018,910.808 285.018,891.91 \n",
       "  \"/>\n",
       "<polyline clip-path=\"url(#clip830)\" style=\"stroke:#000000; stroke-linecap:butt; stroke-linejoin:round; stroke-width:4; stroke-opacity:1; fill:none\" points=\"\n",
       "  986.282,910.808 986.282,891.91 \n",
       "  \"/>\n",
       "<polyline clip-path=\"url(#clip830)\" style=\"stroke:#000000; stroke-linecap:butt; stroke-linejoin:round; stroke-width:4; stroke-opacity:1; fill:none\" points=\"\n",
       "  1687.55,910.808 1687.55,891.91 \n",
       "  \"/>\n",
       "<polyline clip-path=\"url(#clip830)\" style=\"stroke:#000000; stroke-linecap:butt; stroke-linejoin:round; stroke-width:4; stroke-opacity:1; fill:none\" points=\"\n",
       "  2388.81,910.808 2388.81,891.91 \n",
       "  \"/>\n",
       "<polyline clip-path=\"url(#clip830)\" style=\"stroke:#000000; stroke-linecap:butt; stroke-linejoin:round; stroke-width:4; stroke-opacity:1; fill:none\" points=\"\n",
       "  3090.07,910.808 3090.07,891.91 \n",
       "  \"/>\n",
       "<path clip-path=\"url(#clip830)\" d=\"M253.919 962.779 L283.595 962.779 L283.595 966.714 L253.919 966.714 L253.919 962.779 Z\" fill=\"#000000\" fill-rule=\"evenodd\" fill-opacity=\"1\" /><path clip-path=\"url(#clip830)\" d=\"M306.534 949.122 L294.729 967.571 L306.534 967.571 L306.534 949.122 M305.308 945.048 L311.187 945.048 L311.187 967.571 L316.118 967.571 L316.118 971.46 L311.187 971.46 L311.187 979.608 L306.534 979.608 L306.534 971.46 L290.933 971.46 L290.933 966.946 L305.308 945.048 Z\" fill=\"#000000\" fill-rule=\"evenodd\" fill-opacity=\"1\" /><path clip-path=\"url(#clip830)\" d=\"M956.225 962.779 L985.9 962.779 L985.9 966.714 L956.225 966.714 L956.225 962.779 Z\" fill=\"#000000\" fill-rule=\"evenodd\" fill-opacity=\"1\" /><path clip-path=\"url(#clip830)\" d=\"M1000.02 975.673 L1016.34 975.673 L1016.34 979.608 L994.396 979.608 L994.396 975.673 Q997.058 972.918 1001.64 968.288 Q1006.25 963.636 1007.43 962.293 Q1009.67 959.77 1010.55 958.034 Q1011.46 956.275 1011.46 954.585 Q1011.46 951.83 1009.51 950.094 Q1007.59 948.358 1004.49 948.358 Q1002.29 948.358 999.836 949.122 Q997.405 949.886 994.627 951.437 L994.627 946.715 Q997.451 945.58 999.905 945.002 Q1002.36 944.423 1004.4 944.423 Q1009.77 944.423 1012.96 947.108 Q1016.15 949.793 1016.15 954.284 Q1016.15 956.414 1015.34 958.335 Q1014.56 960.233 1012.45 962.826 Q1011.87 963.497 1008.77 966.714 Q1005.67 969.909 1000.02 975.673 Z\" fill=\"#000000\" fill-rule=\"evenodd\" fill-opacity=\"1\" /><path clip-path=\"url(#clip830)\" d=\"M1687.55 948.127 Q1683.94 948.127 1682.11 951.691 Q1680.3 955.233 1680.3 962.363 Q1680.3 969.469 1682.11 973.034 Q1683.94 976.575 1687.55 976.575 Q1691.18 976.575 1692.99 973.034 Q1694.81 969.469 1694.81 962.363 Q1694.81 955.233 1692.99 951.691 Q1691.18 948.127 1687.55 948.127 M1687.55 944.423 Q1693.36 944.423 1696.41 949.029 Q1699.49 953.613 1699.49 962.363 Q1699.49 971.089 1696.41 975.696 Q1693.36 980.279 1687.55 980.279 Q1681.74 980.279 1678.66 975.696 Q1675.6 971.089 1675.6 962.363 Q1675.6 953.613 1678.66 949.029 Q1681.74 944.423 1687.55 944.423 Z\" fill=\"#000000\" fill-rule=\"evenodd\" fill-opacity=\"1\" /><path clip-path=\"url(#clip830)\" d=\"M2383.46 975.673 L2399.78 975.673 L2399.78 979.608 L2377.84 979.608 L2377.84 975.673 Q2380.5 972.918 2385.08 968.288 Q2389.69 963.636 2390.87 962.293 Q2393.12 959.77 2394 958.034 Q2394.9 956.275 2394.9 954.585 Q2394.9 951.83 2392.95 950.094 Q2391.03 948.358 2387.93 948.358 Q2385.73 948.358 2383.28 949.122 Q2380.85 949.886 2378.07 951.437 L2378.07 946.715 Q2380.89 945.58 2383.35 945.002 Q2385.8 944.423 2387.84 944.423 Q2393.21 944.423 2396.4 947.108 Q2399.6 949.793 2399.6 954.284 Q2399.6 956.414 2398.79 958.335 Q2398 960.233 2395.89 962.826 Q2395.32 963.497 2392.21 966.714 Q2389.11 969.909 2383.46 975.673 Z\" fill=\"#000000\" fill-rule=\"evenodd\" fill-opacity=\"1\" /><path clip-path=\"url(#clip830)\" d=\"M3093.08 949.122 L3081.28 967.571 L3093.08 967.571 L3093.08 949.122 M3091.86 945.048 L3097.74 945.048 L3097.74 967.571 L3102.67 967.571 L3102.67 971.46 L3097.74 971.46 L3097.74 979.608 L3093.08 979.608 L3093.08 971.46 L3077.48 971.46 L3077.48 966.946 L3091.86 945.048 Z\" fill=\"#000000\" fill-rule=\"evenodd\" fill-opacity=\"1\" /><polyline clip-path=\"url(#clip832)\" style=\"stroke:#000000; stroke-linecap:butt; stroke-linejoin:round; stroke-width:2; stroke-opacity:0.1; fill:none\" points=\"\n",
       "  201.936,795.99 3152.76,795.99 \n",
       "  \"/>\n",
       "<polyline clip-path=\"url(#clip832)\" style=\"stroke:#000000; stroke-linecap:butt; stroke-linejoin:round; stroke-width:2; stroke-opacity:0.1; fill:none\" points=\"\n",
       "  201.936,620.674 3152.76,620.674 \n",
       "  \"/>\n",
       "<polyline clip-path=\"url(#clip832)\" style=\"stroke:#000000; stroke-linecap:butt; stroke-linejoin:round; stroke-width:2; stroke-opacity:0.1; fill:none\" points=\"\n",
       "  201.936,445.358 3152.76,445.358 \n",
       "  \"/>\n",
       "<polyline clip-path=\"url(#clip832)\" style=\"stroke:#000000; stroke-linecap:butt; stroke-linejoin:round; stroke-width:2; stroke-opacity:0.1; fill:none\" points=\"\n",
       "  201.936,270.042 3152.76,270.042 \n",
       "  \"/>\n",
       "<polyline clip-path=\"url(#clip832)\" style=\"stroke:#000000; stroke-linecap:butt; stroke-linejoin:round; stroke-width:2; stroke-opacity:0.1; fill:none\" points=\"\n",
       "  201.936,94.7256 3152.76,94.7256 \n",
       "  \"/>\n",
       "<polyline clip-path=\"url(#clip830)\" style=\"stroke:#000000; stroke-linecap:butt; stroke-linejoin:round; stroke-width:4; stroke-opacity:1; fill:none\" points=\"\n",
       "  201.936,910.808 201.936,47.2441 \n",
       "  \"/>\n",
       "<polyline clip-path=\"url(#clip830)\" style=\"stroke:#000000; stroke-linecap:butt; stroke-linejoin:round; stroke-width:4; stroke-opacity:1; fill:none\" points=\"\n",
       "  201.936,795.99 220.834,795.99 \n",
       "  \"/>\n",
       "<polyline clip-path=\"url(#clip830)\" style=\"stroke:#000000; stroke-linecap:butt; stroke-linejoin:round; stroke-width:4; stroke-opacity:1; fill:none\" points=\"\n",
       "  201.936,620.674 220.834,620.674 \n",
       "  \"/>\n",
       "<polyline clip-path=\"url(#clip830)\" style=\"stroke:#000000; stroke-linecap:butt; stroke-linejoin:round; stroke-width:4; stroke-opacity:1; fill:none\" points=\"\n",
       "  201.936,445.358 220.834,445.358 \n",
       "  \"/>\n",
       "<polyline clip-path=\"url(#clip830)\" style=\"stroke:#000000; stroke-linecap:butt; stroke-linejoin:round; stroke-width:4; stroke-opacity:1; fill:none\" points=\"\n",
       "  201.936,270.042 220.834,270.042 \n",
       "  \"/>\n",
       "<polyline clip-path=\"url(#clip830)\" style=\"stroke:#000000; stroke-linecap:butt; stroke-linejoin:round; stroke-width:4; stroke-opacity:1; fill:none\" points=\"\n",
       "  201.936,94.7256 220.834,94.7256 \n",
       "  \"/>\n",
       "<path clip-path=\"url(#clip830)\" d=\"M46.9921 796.441 L76.6679 796.441 L76.6679 800.376 L46.9921 800.376 L46.9921 796.441 Z\" fill=\"#000000\" fill-rule=\"evenodd\" fill-opacity=\"1\" /><path clip-path=\"url(#clip830)\" d=\"M87.5706 809.335 L95.2095 809.335 L95.2095 782.969 L86.8993 784.636 L86.8993 780.376 L95.1632 778.71 L99.8391 778.71 L99.8391 809.335 L107.478 809.335 L107.478 813.27 L87.5706 813.27 L87.5706 809.335 Z\" fill=\"#000000\" fill-rule=\"evenodd\" fill-opacity=\"1\" /><path clip-path=\"url(#clip830)\" d=\"M116.922 807.39 L121.807 807.39 L121.807 813.27 L116.922 813.27 L116.922 807.39 Z\" fill=\"#000000\" fill-rule=\"evenodd\" fill-opacity=\"1\" /><path clip-path=\"url(#clip830)\" d=\"M141.992 781.788 Q138.381 781.788 136.552 785.353 Q134.746 788.895 134.746 796.024 Q134.746 803.131 136.552 806.696 Q138.381 810.237 141.992 810.237 Q145.626 810.237 147.431 806.696 Q149.26 803.131 149.26 796.024 Q149.26 788.895 147.431 785.353 Q145.626 781.788 141.992 781.788 M141.992 778.085 Q147.802 778.085 150.857 782.691 Q153.936 787.274 153.936 796.024 Q153.936 804.751 150.857 809.358 Q147.802 813.941 141.992 813.941 Q136.181 813.941 133.103 809.358 Q130.047 804.751 130.047 796.024 Q130.047 787.274 133.103 782.691 Q136.181 778.085 141.992 778.085 Z\" fill=\"#000000\" fill-rule=\"evenodd\" fill-opacity=\"1\" /><path clip-path=\"url(#clip830)\" d=\"M47.9875 621.125 L77.6633 621.125 L77.6633 625.06 L47.9875 625.06 L47.9875 621.125 Z\" fill=\"#000000\" fill-rule=\"evenodd\" fill-opacity=\"1\" /><path clip-path=\"url(#clip830)\" d=\"M97.7557 606.472 Q94.1447 606.472 92.316 610.037 Q90.5104 613.579 90.5104 620.708 Q90.5104 627.815 92.316 631.38 Q94.1447 634.921 97.7557 634.921 Q101.39 634.921 103.196 631.38 Q105.024 627.815 105.024 620.708 Q105.024 613.579 103.196 610.037 Q101.39 606.472 97.7557 606.472 M97.7557 602.769 Q103.566 602.769 106.621 607.375 Q109.7 611.958 109.7 620.708 Q109.7 629.435 106.621 634.042 Q103.566 638.625 97.7557 638.625 Q91.9456 638.625 88.8669 634.042 Q85.8114 629.435 85.8114 620.708 Q85.8114 611.958 88.8669 607.375 Q91.9456 602.769 97.7557 602.769 Z\" fill=\"#000000\" fill-rule=\"evenodd\" fill-opacity=\"1\" /><path clip-path=\"url(#clip830)\" d=\"M117.918 632.074 L122.802 632.074 L122.802 637.954 L117.918 637.954 L117.918 632.074 Z\" fill=\"#000000\" fill-rule=\"evenodd\" fill-opacity=\"1\" /><path clip-path=\"url(#clip830)\" d=\"M133.033 603.394 L151.39 603.394 L151.39 607.329 L137.316 607.329 L137.316 615.801 Q138.334 615.454 139.353 615.292 Q140.371 615.107 141.39 615.107 Q147.177 615.107 150.556 618.278 Q153.936 621.449 153.936 626.866 Q153.936 632.444 150.464 635.546 Q146.992 638.625 140.672 638.625 Q138.496 638.625 136.228 638.255 Q133.982 637.884 131.575 637.143 L131.575 632.444 Q133.658 633.579 135.881 634.134 Q138.103 634.69 140.58 634.69 Q144.584 634.69 146.922 632.583 Q149.26 630.477 149.26 626.866 Q149.26 623.255 146.922 621.148 Q144.584 619.042 140.58 619.042 Q138.705 619.042 136.83 619.458 Q134.978 619.875 133.033 620.755 L133.033 603.394 Z\" fill=\"#000000\" fill-rule=\"evenodd\" fill-opacity=\"1\" /><path clip-path=\"url(#clip830)\" d=\"M96.7604 431.156 Q93.1493 431.156 91.3206 434.721 Q89.515 438.263 89.515 445.392 Q89.515 452.499 91.3206 456.064 Q93.1493 459.605 96.7604 459.605 Q100.395 459.605 102.2 456.064 Q104.029 452.499 104.029 445.392 Q104.029 438.263 102.2 434.721 Q100.395 431.156 96.7604 431.156 M96.7604 427.453 Q102.571 427.453 105.626 432.059 Q108.705 436.642 108.705 445.392 Q108.705 454.119 105.626 458.726 Q102.571 463.309 96.7604 463.309 Q90.9502 463.309 87.8715 458.726 Q84.816 454.119 84.816 445.392 Q84.816 436.642 87.8715 432.059 Q90.9502 427.453 96.7604 427.453 Z\" fill=\"#000000\" fill-rule=\"evenodd\" fill-opacity=\"1\" /><path clip-path=\"url(#clip830)\" d=\"M116.922 456.758 L121.807 456.758 L121.807 462.638 L116.922 462.638 L116.922 456.758 Z\" fill=\"#000000\" fill-rule=\"evenodd\" fill-opacity=\"1\" /><path clip-path=\"url(#clip830)\" d=\"M141.992 431.156 Q138.381 431.156 136.552 434.721 Q134.746 438.263 134.746 445.392 Q134.746 452.499 136.552 456.064 Q138.381 459.605 141.992 459.605 Q145.626 459.605 147.431 456.064 Q149.26 452.499 149.26 445.392 Q149.26 438.263 147.431 434.721 Q145.626 431.156 141.992 431.156 M141.992 427.453 Q147.802 427.453 150.857 432.059 Q153.936 436.642 153.936 445.392 Q153.936 454.119 150.857 458.726 Q147.802 463.309 141.992 463.309 Q136.181 463.309 133.103 458.726 Q130.047 454.119 130.047 445.392 Q130.047 436.642 133.103 432.059 Q136.181 427.453 141.992 427.453 Z\" fill=\"#000000\" fill-rule=\"evenodd\" fill-opacity=\"1\" /><path clip-path=\"url(#clip830)\" d=\"M97.7557 255.84 Q94.1447 255.84 92.316 259.405 Q90.5104 262.947 90.5104 270.076 Q90.5104 277.183 92.316 280.748 Q94.1447 284.289 97.7557 284.289 Q101.39 284.289 103.196 280.748 Q105.024 277.183 105.024 270.076 Q105.024 262.947 103.196 259.405 Q101.39 255.84 97.7557 255.84 M97.7557 252.137 Q103.566 252.137 106.621 256.743 Q109.7 261.326 109.7 270.076 Q109.7 278.803 106.621 283.41 Q103.566 287.993 97.7557 287.993 Q91.9456 287.993 88.8669 283.41 Q85.8114 278.803 85.8114 270.076 Q85.8114 261.326 88.8669 256.743 Q91.9456 252.137 97.7557 252.137 Z\" fill=\"#000000\" fill-rule=\"evenodd\" fill-opacity=\"1\" /><path clip-path=\"url(#clip830)\" d=\"M117.918 281.442 L122.802 281.442 L122.802 287.322 L117.918 287.322 L117.918 281.442 Z\" fill=\"#000000\" fill-rule=\"evenodd\" fill-opacity=\"1\" /><path clip-path=\"url(#clip830)\" d=\"M133.033 252.762 L151.39 252.762 L151.39 256.697 L137.316 256.697 L137.316 265.169 Q138.334 264.822 139.353 264.66 Q140.371 264.475 141.39 264.475 Q147.177 264.475 150.556 267.646 Q153.936 270.817 153.936 276.234 Q153.936 281.812 150.464 284.914 Q146.992 287.993 140.672 287.993 Q138.496 287.993 136.228 287.623 Q133.982 287.252 131.575 286.511 L131.575 281.812 Q133.658 282.947 135.881 283.502 Q138.103 284.058 140.58 284.058 Q144.584 284.058 146.922 281.951 Q149.26 279.845 149.26 276.234 Q149.26 272.623 146.922 270.516 Q144.584 268.41 140.58 268.41 Q138.705 268.41 136.83 268.826 Q134.978 269.243 133.033 270.123 L133.033 252.762 Z\" fill=\"#000000\" fill-rule=\"evenodd\" fill-opacity=\"1\" /><path clip-path=\"url(#clip830)\" d=\"M87.5706 108.07 L95.2095 108.07 L95.2095 81.7048 L86.8993 83.3715 L86.8993 79.1122 L95.1632 77.4456 L99.8391 77.4456 L99.8391 108.07 L107.478 108.07 L107.478 112.006 L87.5706 112.006 L87.5706 108.07 Z\" fill=\"#000000\" fill-rule=\"evenodd\" fill-opacity=\"1\" /><path clip-path=\"url(#clip830)\" d=\"M116.922 106.126 L121.807 106.126 L121.807 112.006 L116.922 112.006 L116.922 106.126 Z\" fill=\"#000000\" fill-rule=\"evenodd\" fill-opacity=\"1\" /><path clip-path=\"url(#clip830)\" d=\"M141.992 80.5243 Q138.381 80.5243 136.552 84.0891 Q134.746 87.6307 134.746 94.7603 Q134.746 101.867 136.552 105.432 Q138.381 108.973 141.992 108.973 Q145.626 108.973 147.431 105.432 Q149.26 101.867 149.26 94.7603 Q149.26 87.6307 147.431 84.0891 Q145.626 80.5243 141.992 80.5243 M141.992 76.8206 Q147.802 76.8206 150.857 81.427 Q153.936 86.0104 153.936 94.7603 Q153.936 103.487 150.857 108.094 Q147.802 112.677 141.992 112.677 Q136.181 112.677 133.103 108.094 Q130.047 103.487 130.047 94.7603 Q130.047 86.0104 133.103 81.427 Q136.181 76.8206 141.992 76.8206 Z\" fill=\"#000000\" fill-rule=\"evenodd\" fill-opacity=\"1\" /><circle clip-path=\"url(#clip832)\" cx=\"1932.61\" cy=\"663.927\" r=\"14\" fill=\"#4682b4\" fill-rule=\"evenodd\" fill-opacity=\"1\" stroke=\"#000000\" stroke-opacity=\"1\" stroke-width=\"2\"/>\n",
       "<circle clip-path=\"url(#clip832)\" cx=\"1540.78\" cy=\"801.091\" r=\"14\" fill=\"#4682b4\" fill-rule=\"evenodd\" fill-opacity=\"1\" stroke=\"#000000\" stroke-opacity=\"1\" stroke-width=\"2\"/>\n",
       "<circle clip-path=\"url(#clip832)\" cx=\"1674.34\" cy=\"775.468\" r=\"14\" fill=\"#4682b4\" fill-rule=\"evenodd\" fill-opacity=\"1\" stroke=\"#000000\" stroke-opacity=\"1\" stroke-width=\"2\"/>\n",
       "<circle clip-path=\"url(#clip832)\" cx=\"1379.68\" cy=\"589.543\" r=\"14\" fill=\"#4682b4\" fill-rule=\"evenodd\" fill-opacity=\"1\" stroke=\"#000000\" stroke-opacity=\"1\" stroke-width=\"2\"/>\n",
       "<circle clip-path=\"url(#clip832)\" cx=\"1425.07\" cy=\"163.427\" r=\"14\" fill=\"#4682b4\" fill-rule=\"evenodd\" fill-opacity=\"1\" stroke=\"#000000\" stroke-opacity=\"1\" stroke-width=\"2\"/>\n",
       "<circle clip-path=\"url(#clip832)\" cx=\"1930.17\" cy=\"201.345\" r=\"14\" fill=\"#4682b4\" fill-rule=\"evenodd\" fill-opacity=\"1\" stroke=\"#000000\" stroke-opacity=\"1\" stroke-width=\"2\"/>\n",
       "<circle clip-path=\"url(#clip832)\" cx=\"1895.46\" cy=\"139.595\" r=\"14\" fill=\"#4682b4\" fill-rule=\"evenodd\" fill-opacity=\"1\" stroke=\"#000000\" stroke-opacity=\"1\" stroke-width=\"2\"/>\n",
       "<circle clip-path=\"url(#clip832)\" cx=\"1438.97\" cy=\"675.605\" r=\"14\" fill=\"#4682b4\" fill-rule=\"evenodd\" fill-opacity=\"1\" stroke=\"#000000\" stroke-opacity=\"1\" stroke-width=\"2\"/>\n",
       "<circle clip-path=\"url(#clip832)\" cx=\"2009.29\" cy=\"689.326\" r=\"14\" fill=\"#4682b4\" fill-rule=\"evenodd\" fill-opacity=\"1\" stroke=\"#000000\" stroke-opacity=\"1\" stroke-width=\"2\"/>\n",
       "<circle clip-path=\"url(#clip832)\" cx=\"1804.56\" cy=\"137.49\" r=\"14\" fill=\"#4682b4\" fill-rule=\"evenodd\" fill-opacity=\"1\" stroke=\"#000000\" stroke-opacity=\"1\" stroke-width=\"2\"/>\n",
       "<circle clip-path=\"url(#clip832)\" cx=\"1558.19\" cy=\"886.367\" r=\"14\" fill=\"#4682b4\" fill-rule=\"evenodd\" fill-opacity=\"1\" stroke=\"#000000\" stroke-opacity=\"1\" stroke-width=\"2\"/>\n",
       "<circle clip-path=\"url(#clip832)\" cx=\"1483.6\" cy=\"202.86\" r=\"14\" fill=\"#4682b4\" fill-rule=\"evenodd\" fill-opacity=\"1\" stroke=\"#000000\" stroke-opacity=\"1\" stroke-width=\"2\"/>\n",
       "<circle clip-path=\"url(#clip832)\" cx=\"2041.74\" cy=\"492.386\" r=\"14\" fill=\"#4682b4\" fill-rule=\"evenodd\" fill-opacity=\"1\" stroke=\"#000000\" stroke-opacity=\"1\" stroke-width=\"2\"/>\n",
       "<circle clip-path=\"url(#clip832)\" cx=\"1453.26\" cy=\"135.965\" r=\"14\" fill=\"#4682b4\" fill-rule=\"evenodd\" fill-opacity=\"1\" stroke=\"#000000\" stroke-opacity=\"1\" stroke-width=\"2\"/>\n",
       "<circle clip-path=\"url(#clip832)\" cx=\"1839.37\" cy=\"161.588\" r=\"14\" fill=\"#4682b4\" fill-rule=\"evenodd\" fill-opacity=\"1\" stroke=\"#000000\" stroke-opacity=\"1\" stroke-width=\"2\"/>\n",
       "<circle clip-path=\"url(#clip832)\" cx=\"1661.09\" cy=\"117.814\" r=\"14\" fill=\"#4682b4\" fill-rule=\"evenodd\" fill-opacity=\"1\" stroke=\"#000000\" stroke-opacity=\"1\" stroke-width=\"2\"/>\n",
       "<circle clip-path=\"url(#clip832)\" cx=\"1832.53\" cy=\"133.951\" r=\"14\" fill=\"#4682b4\" fill-rule=\"evenodd\" fill-opacity=\"1\" stroke=\"#000000\" stroke-opacity=\"1\" stroke-width=\"2\"/>\n",
       "<circle clip-path=\"url(#clip832)\" cx=\"1436.94\" cy=\"200.704\" r=\"14\" fill=\"#4682b4\" fill-rule=\"evenodd\" fill-opacity=\"1\" stroke=\"#000000\" stroke-opacity=\"1\" stroke-width=\"2\"/>\n",
       "<circle clip-path=\"url(#clip832)\" cx=\"2039.55\" cy=\"547.275\" r=\"14\" fill=\"#4682b4\" fill-rule=\"evenodd\" fill-opacity=\"1\" stroke=\"#000000\" stroke-opacity=\"1\" stroke-width=\"2\"/>\n",
       "<circle clip-path=\"url(#clip832)\" cx=\"1447.05\" cy=\"481.456\" r=\"14\" fill=\"#4682b4\" fill-rule=\"evenodd\" fill-opacity=\"1\" stroke=\"#000000\" stroke-opacity=\"1\" stroke-width=\"2\"/>\n",
       "<circle clip-path=\"url(#clip832)\" cx=\"1960.34\" cy=\"639.961\" r=\"14\" fill=\"#4682b4\" fill-rule=\"evenodd\" fill-opacity=\"1\" stroke=\"#000000\" stroke-opacity=\"1\" stroke-width=\"2\"/>\n",
       "<circle clip-path=\"url(#clip832)\" cx=\"1631.08\" cy=\"75.3149\" r=\"14\" fill=\"#4682b4\" fill-rule=\"evenodd\" fill-opacity=\"1\" stroke=\"#000000\" stroke-opacity=\"1\" stroke-width=\"2\"/>\n",
       "<circle clip-path=\"url(#clip832)\" cx=\"1369.91\" cy=\"556.861\" r=\"14\" fill=\"#4682b4\" fill-rule=\"evenodd\" fill-opacity=\"1\" stroke=\"#000000\" stroke-opacity=\"1\" stroke-width=\"2\"/>\n",
       "<circle clip-path=\"url(#clip832)\" cx=\"1322.5\" cy=\"427.651\" r=\"14\" fill=\"#4682b4\" fill-rule=\"evenodd\" fill-opacity=\"1\" stroke=\"#000000\" stroke-opacity=\"1\" stroke-width=\"2\"/>\n",
       "<circle clip-path=\"url(#clip832)\" cx=\"2007.5\" cy=\"442.857\" r=\"14\" fill=\"#4682b4\" fill-rule=\"evenodd\" fill-opacity=\"1\" stroke=\"#000000\" stroke-opacity=\"1\" stroke-width=\"2\"/>\n",
       "<circle clip-path=\"url(#clip832)\" cx=\"1781.76\" cy=\"818.072\" r=\"14\" fill=\"#4682b4\" fill-rule=\"evenodd\" fill-opacity=\"1\" stroke=\"#000000\" stroke-opacity=\"1\" stroke-width=\"2\"/>\n",
       "<circle clip-path=\"url(#clip832)\" cx=\"1993.99\" cy=\"297.823\" r=\"14\" fill=\"#4682b4\" fill-rule=\"evenodd\" fill-opacity=\"1\" stroke=\"#000000\" stroke-opacity=\"1\" stroke-width=\"2\"/>\n",
       "<circle clip-path=\"url(#clip832)\" cx=\"1435.73\" cy=\"683.417\" r=\"14\" fill=\"#4682b4\" fill-rule=\"evenodd\" fill-opacity=\"1\" stroke=\"#000000\" stroke-opacity=\"1\" stroke-width=\"2\"/>\n",
       "<circle clip-path=\"url(#clip832)\" cx=\"1940.12\" cy=\"693.126\" r=\"14\" fill=\"#4682b4\" fill-rule=\"evenodd\" fill-opacity=\"1\" stroke=\"#000000\" stroke-opacity=\"1\" stroke-width=\"2\"/>\n",
       "<circle clip-path=\"url(#clip832)\" cx=\"1407.02\" cy=\"733.436\" r=\"14\" fill=\"#4682b4\" fill-rule=\"evenodd\" fill-opacity=\"1\" stroke=\"#000000\" stroke-opacity=\"1\" stroke-width=\"2\"/>\n",
       "<circle clip-path=\"url(#clip832)\" cx=\"1705.99\" cy=\"789.058\" r=\"14\" fill=\"#4682b4\" fill-rule=\"evenodd\" fill-opacity=\"1\" stroke=\"#000000\" stroke-opacity=\"1\" stroke-width=\"2\"/>\n",
       "<circle clip-path=\"url(#clip832)\" cx=\"1603.76\" cy=\"95.038\" r=\"14\" fill=\"#4682b4\" fill-rule=\"evenodd\" fill-opacity=\"1\" stroke=\"#000000\" stroke-opacity=\"1\" stroke-width=\"2\"/>\n",
       "<circle clip-path=\"url(#clip832)\" cx=\"2002.69\" cy=\"623.521\" r=\"14\" fill=\"#4682b4\" fill-rule=\"evenodd\" fill-opacity=\"1\" stroke=\"#000000\" stroke-opacity=\"1\" stroke-width=\"2\"/>\n",
       "<circle clip-path=\"url(#clip832)\" cx=\"1417.3\" cy=\"790.978\" r=\"14\" fill=\"#4682b4\" fill-rule=\"evenodd\" fill-opacity=\"1\" stroke=\"#000000\" stroke-opacity=\"1\" stroke-width=\"2\"/>\n",
       "<circle clip-path=\"url(#clip832)\" cx=\"1588.22\" cy=\"145.059\" r=\"14\" fill=\"#4682b4\" fill-rule=\"evenodd\" fill-opacity=\"1\" stroke=\"#000000\" stroke-opacity=\"1\" stroke-width=\"2\"/>\n",
       "<circle clip-path=\"url(#clip832)\" cx=\"1840.83\" cy=\"178.923\" r=\"14\" fill=\"#4682b4\" fill-rule=\"evenodd\" fill-opacity=\"1\" stroke=\"#000000\" stroke-opacity=\"1\" stroke-width=\"2\"/>\n",
       "<circle clip-path=\"url(#clip832)\" cx=\"1449.73\" cy=\"199.774\" r=\"14\" fill=\"#4682b4\" fill-rule=\"evenodd\" fill-opacity=\"1\" stroke=\"#000000\" stroke-opacity=\"1\" stroke-width=\"2\"/>\n",
       "<circle clip-path=\"url(#clip832)\" cx=\"1996.15\" cy=\"255.623\" r=\"14\" fill=\"#4682b4\" fill-rule=\"evenodd\" fill-opacity=\"1\" stroke=\"#000000\" stroke-opacity=\"1\" stroke-width=\"2\"/>\n",
       "<circle clip-path=\"url(#clip832)\" cx=\"1554.87\" cy=\"158.403\" r=\"14\" fill=\"#4682b4\" fill-rule=\"evenodd\" fill-opacity=\"1\" stroke=\"#000000\" stroke-opacity=\"1\" stroke-width=\"2\"/>\n",
       "<circle clip-path=\"url(#clip832)\" cx=\"1341.53\" cy=\"644.35\" r=\"14\" fill=\"#4682b4\" fill-rule=\"evenodd\" fill-opacity=\"1\" stroke=\"#000000\" stroke-opacity=\"1\" stroke-width=\"2\"/>\n",
       "<circle clip-path=\"url(#clip832)\" cx=\"1309.02\" cy=\"336.488\" r=\"14\" fill=\"#4682b4\" fill-rule=\"evenodd\" fill-opacity=\"1\" stroke=\"#000000\" stroke-opacity=\"1\" stroke-width=\"2\"/>\n",
       "<circle clip-path=\"url(#clip832)\" cx=\"1945.04\" cy=\"196.601\" r=\"14\" fill=\"#4682b4\" fill-rule=\"evenodd\" fill-opacity=\"1\" stroke=\"#000000\" stroke-opacity=\"1\" stroke-width=\"2\"/>\n",
       "<circle clip-path=\"url(#clip832)\" cx=\"2009.17\" cy=\"671.161\" r=\"14\" fill=\"#4682b4\" fill-rule=\"evenodd\" fill-opacity=\"1\" stroke=\"#000000\" stroke-opacity=\"1\" stroke-width=\"2\"/>\n",
       "<circle clip-path=\"url(#clip832)\" cx=\"1466.48\" cy=\"71.6846\" r=\"14\" fill=\"#4682b4\" fill-rule=\"evenodd\" fill-opacity=\"1\" stroke=\"#000000\" stroke-opacity=\"1\" stroke-width=\"2\"/>\n",
       "<circle clip-path=\"url(#clip832)\" cx=\"1532.36\" cy=\"193.744\" r=\"14\" fill=\"#4682b4\" fill-rule=\"evenodd\" fill-opacity=\"1\" stroke=\"#000000\" stroke-opacity=\"1\" stroke-width=\"2\"/>\n",
       "<circle clip-path=\"url(#clip832)\" cx=\"1907.61\" cy=\"213.739\" r=\"14\" fill=\"#4682b4\" fill-rule=\"evenodd\" fill-opacity=\"1\" stroke=\"#000000\" stroke-opacity=\"1\" stroke-width=\"2\"/>\n",
       "<circle clip-path=\"url(#clip832)\" cx=\"2008.06\" cy=\"345.91\" r=\"14\" fill=\"#4682b4\" fill-rule=\"evenodd\" fill-opacity=\"1\" stroke=\"#000000\" stroke-opacity=\"1\" stroke-width=\"2\"/>\n",
       "<circle clip-path=\"url(#clip832)\" cx=\"1422.74\" cy=\"770.536\" r=\"14\" fill=\"#4682b4\" fill-rule=\"evenodd\" fill-opacity=\"1\" stroke=\"#000000\" stroke-opacity=\"1\" stroke-width=\"2\"/>\n",
       "<circle clip-path=\"url(#clip832)\" cx=\"1973.77\" cy=\"575.69\" r=\"14\" fill=\"#4682b4\" fill-rule=\"evenodd\" fill-opacity=\"1\" stroke=\"#000000\" stroke-opacity=\"1\" stroke-width=\"2\"/>\n",
       "<circle clip-path=\"url(#clip832)\" cx=\"1475.6\" cy=\"783.798\" r=\"14\" fill=\"#4682b4\" fill-rule=\"evenodd\" fill-opacity=\"1\" stroke=\"#000000\" stroke-opacity=\"1\" stroke-width=\"2\"/>\n",
       "<circle clip-path=\"url(#clip832)\" cx=\"1439.44\" cy=\"764.406\" r=\"14\" fill=\"#4682b4\" fill-rule=\"evenodd\" fill-opacity=\"1\" stroke=\"#000000\" stroke-opacity=\"1\" stroke-width=\"2\"/>\n",
       "<circle clip-path=\"url(#clip832)\" cx=\"1822.96\" cy=\"213.5\" r=\"14\" fill=\"#4682b4\" fill-rule=\"evenodd\" fill-opacity=\"1\" stroke=\"#000000\" stroke-opacity=\"1\" stroke-width=\"2\"/>\n",
       "<circle clip-path=\"url(#clip832)\" cx=\"1941.25\" cy=\"153.529\" r=\"14\" fill=\"#4682b4\" fill-rule=\"evenodd\" fill-opacity=\"1\" stroke=\"#000000\" stroke-opacity=\"1\" stroke-width=\"2\"/>\n",
       "<circle clip-path=\"url(#clip832)\" cx=\"1767.83\" cy=\"241.492\" r=\"14\" fill=\"#4682b4\" fill-rule=\"evenodd\" fill-opacity=\"1\" stroke=\"#000000\" stroke-opacity=\"1\" stroke-width=\"2\"/>\n",
       "<circle clip-path=\"url(#clip832)\" cx=\"1967.35\" cy=\"757.723\" r=\"14\" fill=\"#4682b4\" fill-rule=\"evenodd\" fill-opacity=\"1\" stroke=\"#000000\" stroke-opacity=\"1\" stroke-width=\"2\"/>\n",
       "<circle clip-path=\"url(#clip832)\" cx=\"1381.31\" cy=\"395.569\" r=\"14\" fill=\"#4682b4\" fill-rule=\"evenodd\" fill-opacity=\"1\" stroke=\"#000000\" stroke-opacity=\"1\" stroke-width=\"2\"/>\n",
       "<circle clip-path=\"url(#clip832)\" cx=\"1884.83\" cy=\"245.799\" r=\"14\" fill=\"#4682b4\" fill-rule=\"evenodd\" fill-opacity=\"1\" stroke=\"#000000\" stroke-opacity=\"1\" stroke-width=\"2\"/>\n",
       "<circle clip-path=\"url(#clip832)\" cx=\"1758.41\" cy=\"796.454\" r=\"14\" fill=\"#4682b4\" fill-rule=\"evenodd\" fill-opacity=\"1\" stroke=\"#000000\" stroke-opacity=\"1\" stroke-width=\"2\"/>\n",
       "<circle clip-path=\"url(#clip832)\" cx=\"1651.15\" cy=\"131.784\" r=\"14\" fill=\"#4682b4\" fill-rule=\"evenodd\" fill-opacity=\"1\" stroke=\"#000000\" stroke-opacity=\"1\" stroke-width=\"2\"/>\n",
       "<circle clip-path=\"url(#clip832)\" cx=\"1429.37\" cy=\"342.745\" r=\"14\" fill=\"#4682b4\" fill-rule=\"evenodd\" fill-opacity=\"1\" stroke=\"#000000\" stroke-opacity=\"1\" stroke-width=\"2\"/>\n",
       "<circle clip-path=\"url(#clip832)\" cx=\"1373.06\" cy=\"656.847\" r=\"14\" fill=\"#4682b4\" fill-rule=\"evenodd\" fill-opacity=\"1\" stroke=\"#000000\" stroke-opacity=\"1\" stroke-width=\"2\"/>\n",
       "<circle clip-path=\"url(#clip832)\" cx=\"1341.86\" cy=\"512.857\" r=\"14\" fill=\"#4682b4\" fill-rule=\"evenodd\" fill-opacity=\"1\" stroke=\"#000000\" stroke-opacity=\"1\" stroke-width=\"2\"/>\n",
       "<circle clip-path=\"url(#clip832)\" cx=\"1358.59\" cy=\"611.052\" r=\"14\" fill=\"#4682b4\" fill-rule=\"evenodd\" fill-opacity=\"1\" stroke=\"#000000\" stroke-opacity=\"1\" stroke-width=\"2\"/>\n",
       "<circle clip-path=\"url(#clip832)\" cx=\"1779.19\" cy=\"165.224\" r=\"14\" fill=\"#4682b4\" fill-rule=\"evenodd\" fill-opacity=\"1\" stroke=\"#000000\" stroke-opacity=\"1\" stroke-width=\"2\"/>\n",
       "<circle clip-path=\"url(#clip832)\" cx=\"1984.14\" cy=\"632.408\" r=\"14\" fill=\"#4682b4\" fill-rule=\"evenodd\" fill-opacity=\"1\" stroke=\"#000000\" stroke-opacity=\"1\" stroke-width=\"2\"/>\n",
       "<circle clip-path=\"url(#clip832)\" cx=\"1492.93\" cy=\"133.523\" r=\"14\" fill=\"#4682b4\" fill-rule=\"evenodd\" fill-opacity=\"1\" stroke=\"#000000\" stroke-opacity=\"1\" stroke-width=\"2\"/>\n",
       "<circle clip-path=\"url(#clip832)\" cx=\"1743.56\" cy=\"176.696\" r=\"14\" fill=\"#4682b4\" fill-rule=\"evenodd\" fill-opacity=\"1\" stroke=\"#000000\" stroke-opacity=\"1\" stroke-width=\"2\"/>\n",
       "<circle clip-path=\"url(#clip832)\" cx=\"1692.43\" cy=\"821.156\" r=\"14\" fill=\"#4682b4\" fill-rule=\"evenodd\" fill-opacity=\"1\" stroke=\"#000000\" stroke-opacity=\"1\" stroke-width=\"2\"/>\n",
       "<circle clip-path=\"url(#clip832)\" cx=\"2027.56\" cy=\"582.416\" r=\"14\" fill=\"#4682b4\" fill-rule=\"evenodd\" fill-opacity=\"1\" stroke=\"#000000\" stroke-opacity=\"1\" stroke-width=\"2\"/>\n",
       "<circle clip-path=\"url(#clip832)\" cx=\"1893\" cy=\"203.662\" r=\"14\" fill=\"#4682b4\" fill-rule=\"evenodd\" fill-opacity=\"1\" stroke=\"#000000\" stroke-opacity=\"1\" stroke-width=\"2\"/>\n",
       "<circle clip-path=\"url(#clip832)\" cx=\"1526.57\" cy=\"218.582\" r=\"14\" fill=\"#4682b4\" fill-rule=\"evenodd\" fill-opacity=\"1\" stroke=\"#000000\" stroke-opacity=\"1\" stroke-width=\"2\"/>\n",
       "<circle clip-path=\"url(#clip832)\" cx=\"1950.2\" cy=\"734.968\" r=\"14\" fill=\"#4682b4\" fill-rule=\"evenodd\" fill-opacity=\"1\" stroke=\"#000000\" stroke-opacity=\"1\" stroke-width=\"2\"/>\n",
       "<circle clip-path=\"url(#clip832)\" cx=\"1989.5\" cy=\"595.252\" r=\"14\" fill=\"#4682b4\" fill-rule=\"evenodd\" fill-opacity=\"1\" stroke=\"#000000\" stroke-opacity=\"1\" stroke-width=\"2\"/>\n",
       "<circle clip-path=\"url(#clip832)\" cx=\"1624.07\" cy=\"835.087\" r=\"14\" fill=\"#4682b4\" fill-rule=\"evenodd\" fill-opacity=\"1\" stroke=\"#000000\" stroke-opacity=\"1\" stroke-width=\"2\"/>\n",
       "<circle clip-path=\"url(#clip832)\" cx=\"1966.7\" cy=\"469.658\" r=\"14\" fill=\"#4682b4\" fill-rule=\"evenodd\" fill-opacity=\"1\" stroke=\"#000000\" stroke-opacity=\"1\" stroke-width=\"2\"/>\n",
       "<circle clip-path=\"url(#clip832)\" cx=\"1367.14\" cy=\"475.039\" r=\"14\" fill=\"#4682b4\" fill-rule=\"evenodd\" fill-opacity=\"1\" stroke=\"#000000\" stroke-opacity=\"1\" stroke-width=\"2\"/>\n",
       "<circle clip-path=\"url(#clip832)\" cx=\"1913.69\" cy=\"193.416\" r=\"14\" fill=\"#4682b4\" fill-rule=\"evenodd\" fill-opacity=\"1\" stroke=\"#000000\" stroke-opacity=\"1\" stroke-width=\"2\"/>\n",
       "<circle clip-path=\"url(#clip832)\" cx=\"1991.56\" cy=\"593.472\" r=\"14\" fill=\"#4682b4\" fill-rule=\"evenodd\" fill-opacity=\"1\" stroke=\"#000000\" stroke-opacity=\"1\" stroke-width=\"2\"/>\n",
       "<circle clip-path=\"url(#clip832)\" cx=\"1643.08\" cy=\"806.108\" r=\"14\" fill=\"#4682b4\" fill-rule=\"evenodd\" fill-opacity=\"1\" stroke=\"#000000\" stroke-opacity=\"1\" stroke-width=\"2\"/>\n",
       "<circle clip-path=\"url(#clip832)\" cx=\"1500.13\" cy=\"239.862\" r=\"14\" fill=\"#4682b4\" fill-rule=\"evenodd\" fill-opacity=\"1\" stroke=\"#000000\" stroke-opacity=\"1\" stroke-width=\"2\"/>\n",
       "<circle clip-path=\"url(#clip832)\" cx=\"1760.09\" cy=\"715.316\" r=\"14\" fill=\"#4682b4\" fill-rule=\"evenodd\" fill-opacity=\"1\" stroke=\"#000000\" stroke-opacity=\"1\" stroke-width=\"2\"/>\n",
       "<circle clip-path=\"url(#clip832)\" cx=\"1742.06\" cy=\"880.496\" r=\"14\" fill=\"#4682b4\" fill-rule=\"evenodd\" fill-opacity=\"1\" stroke=\"#000000\" stroke-opacity=\"1\" stroke-width=\"2\"/>\n",
       "<circle clip-path=\"url(#clip832)\" cx=\"1598.86\" cy=\"106.29\" r=\"14\" fill=\"#4682b4\" fill-rule=\"evenodd\" fill-opacity=\"1\" stroke=\"#000000\" stroke-opacity=\"1\" stroke-width=\"2\"/>\n",
       "<circle clip-path=\"url(#clip832)\" cx=\"1378.74\" cy=\"435.574\" r=\"14\" fill=\"#4682b4\" fill-rule=\"evenodd\" fill-opacity=\"1\" stroke=\"#000000\" stroke-opacity=\"1\" stroke-width=\"2\"/>\n",
       "<circle clip-path=\"url(#clip832)\" cx=\"1554.3\" cy=\"164.102\" r=\"14\" fill=\"#4682b4\" fill-rule=\"evenodd\" fill-opacity=\"1\" stroke=\"#000000\" stroke-opacity=\"1\" stroke-width=\"2\"/>\n",
       "<circle clip-path=\"url(#clip832)\" cx=\"1304.15\" cy=\"578.205\" r=\"14\" fill=\"#4682b4\" fill-rule=\"evenodd\" fill-opacity=\"1\" stroke=\"#000000\" stroke-opacity=\"1\" stroke-width=\"2\"/>\n",
       "<circle clip-path=\"url(#clip832)\" cx=\"1368.49\" cy=\"554.69\" r=\"14\" fill=\"#4682b4\" fill-rule=\"evenodd\" fill-opacity=\"1\" stroke=\"#000000\" stroke-opacity=\"1\" stroke-width=\"2\"/>\n",
       "<circle clip-path=\"url(#clip832)\" cx=\"1475.39\" cy=\"146.905\" r=\"14\" fill=\"#4682b4\" fill-rule=\"evenodd\" fill-opacity=\"1\" stroke=\"#000000\" stroke-opacity=\"1\" stroke-width=\"2\"/>\n",
       "<circle clip-path=\"url(#clip832)\" cx=\"1918.51\" cy=\"188.369\" r=\"14\" fill=\"#4682b4\" fill-rule=\"evenodd\" fill-opacity=\"1\" stroke=\"#000000\" stroke-opacity=\"1\" stroke-width=\"2\"/>\n",
       "<circle clip-path=\"url(#clip832)\" cx=\"1993.83\" cy=\"360.47\" r=\"14\" fill=\"#4682b4\" fill-rule=\"evenodd\" fill-opacity=\"1\" stroke=\"#000000\" stroke-opacity=\"1\" stroke-width=\"2\"/>\n",
       "<circle clip-path=\"url(#clip832)\" cx=\"1958.39\" cy=\"656.845\" r=\"14\" fill=\"#4682b4\" fill-rule=\"evenodd\" fill-opacity=\"1\" stroke=\"#000000\" stroke-opacity=\"1\" stroke-width=\"2\"/>\n",
       "<circle clip-path=\"url(#clip832)\" cx=\"2050.54\" cy=\"451.334\" r=\"14\" fill=\"#4682b4\" fill-rule=\"evenodd\" fill-opacity=\"1\" stroke=\"#000000\" stroke-opacity=\"1\" stroke-width=\"2\"/>\n",
       "<circle clip-path=\"url(#clip832)\" cx=\"1868.92\" cy=\"748.887\" r=\"14\" fill=\"#4682b4\" fill-rule=\"evenodd\" fill-opacity=\"1\" stroke=\"#000000\" stroke-opacity=\"1\" stroke-width=\"2\"/>\n",
       "<circle clip-path=\"url(#clip832)\" cx=\"1597.24\" cy=\"825.757\" r=\"14\" fill=\"#4682b4\" fill-rule=\"evenodd\" fill-opacity=\"1\" stroke=\"#000000\" stroke-opacity=\"1\" stroke-width=\"2\"/>\n",
       "<circle clip-path=\"url(#clip832)\" cx=\"1502.77\" cy=\"839.344\" r=\"14\" fill=\"#4682b4\" fill-rule=\"evenodd\" fill-opacity=\"1\" stroke=\"#000000\" stroke-opacity=\"1\" stroke-width=\"2\"/>\n",
       "<circle clip-path=\"url(#clip832)\" cx=\"1896.88\" cy=\"277.086\" r=\"14\" fill=\"#4682b4\" fill-rule=\"evenodd\" fill-opacity=\"1\" stroke=\"#000000\" stroke-opacity=\"1\" stroke-width=\"2\"/>\n",
       "<circle clip-path=\"url(#clip832)\" cx=\"1372.67\" cy=\"278.982\" r=\"14\" fill=\"#4682b4\" fill-rule=\"evenodd\" fill-opacity=\"1\" stroke=\"#000000\" stroke-opacity=\"1\" stroke-width=\"2\"/>\n",
       "<circle clip-path=\"url(#clip832)\" cx=\"1929.4\" cy=\"724.946\" r=\"14\" fill=\"#4682b4\" fill-rule=\"evenodd\" fill-opacity=\"1\" stroke=\"#000000\" stroke-opacity=\"1\" stroke-width=\"2\"/>\n",
       "<circle clip-path=\"url(#clip832)\" cx=\"1523.1\" cy=\"155.287\" r=\"14\" fill=\"#4682b4\" fill-rule=\"evenodd\" fill-opacity=\"1\" stroke=\"#000000\" stroke-opacity=\"1\" stroke-width=\"2\"/>\n",
       "<circle clip-path=\"url(#clip832)\" cx=\"1532.35\" cy=\"140.815\" r=\"14\" fill=\"#4682b4\" fill-rule=\"evenodd\" fill-opacity=\"1\" stroke=\"#000000\" stroke-opacity=\"1\" stroke-width=\"2\"/>\n",
       "<path clip-path=\"url(#clip830)\" d=\"\n",
       "M2674.1 179.71 L3054.4 179.71 L3054.4 76.0296 L2674.1 76.0296  Z\n",
       "  \" fill=\"#ffffff\" fill-rule=\"evenodd\" fill-opacity=\"1\"/>\n",
       "<polyline clip-path=\"url(#clip830)\" style=\"stroke:#000000; stroke-linecap:butt; stroke-linejoin:round; stroke-width:4; stroke-opacity:1; fill:none\" points=\"\n",
       "  2674.1,179.71 3054.4,179.71 3054.4,76.0296 2674.1,76.0296 2674.1,179.71 \n",
       "  \"/>\n",
       "<circle clip-path=\"url(#clip830)\" cx=\"2805.24\" cy=\"127.87\" r=\"23\" fill=\"#4682b4\" fill-rule=\"evenodd\" fill-opacity=\"1\" stroke=\"#000000\" stroke-opacity=\"1\" stroke-width=\"3.2\"/>\n",
       "<path clip-path=\"url(#clip830)\" d=\"M2950.23 147.557 Q2948.43 152.187 2946.72 153.599 Q2945 155.011 2942.13 155.011 L2938.73 155.011 L2938.73 151.446 L2941.23 151.446 Q2942.99 151.446 2943.96 150.612 Q2944.93 149.779 2946.11 146.677 L2946.88 144.733 L2936.39 119.224 L2940.91 119.224 L2949.01 139.501 L2957.11 119.224 L2961.62 119.224 L2950.23 147.557 Z\" fill=\"#000000\" fill-rule=\"evenodd\" fill-opacity=\"1\" /><path clip-path=\"url(#clip830)\" d=\"M2968.91 141.214 L2976.55 141.214 L2976.55 114.849 L2968.24 116.515 L2968.24 112.256 L2976.51 110.59 L2981.18 110.59 L2981.18 141.214 L2988.82 141.214 L2988.82 145.15 L2968.91 145.15 L2968.91 141.214 Z\" fill=\"#000000\" fill-rule=\"evenodd\" fill-opacity=\"1\" /></svg>\n"
      ]
     },
     "execution_count": 13,
     "metadata": {},
     "output_type": "execute_result"
    }
   ],
   "source": [
    "X_mat = hcat(X...);\n",
    "scatter(X_mat[1,:], X_mat[2,:], \n",
    "        color = :steelblue, size = (800,250), aspect_ratio = :equal)"
   ]
  },
  {
   "cell_type": "markdown",
   "metadata": {},
   "source": [
    "We suspect that there is a polynomial of degree 2 vanishing on the data set.\n",
    "\n",
    "To detect this using PCA we introduce the feature map $\\phi :\\mathbb R^2 \\to \\mathbb R^6$ that sends $x$ to all monomials of degree at most 2 in $x$."
   ]
  },
  {
   "cell_type": "code",
   "execution_count": 14,
   "metadata": {},
   "outputs": [
    {
     "data": {
      "text/plain": [
       "ϕ (generic function with 1 method)"
      ]
     },
     "execution_count": 14,
     "metadata": {},
     "output_type": "execute_result"
    }
   ],
   "source": [
    "ϕ(x) = [1; x[1]; x[2]; x[1]*x[2]; x[1]^2; x[2]^2]"
   ]
  },
  {
   "cell_type": "markdown",
   "metadata": {},
   "source": [
    "The corresponding feature matrix is $\\Omega$."
   ]
  },
  {
   "cell_type": "code",
   "execution_count": 15,
   "metadata": {},
   "outputs": [],
   "source": [
    "Ω = hcat(map(ϕ, X)...) |> transpose;"
   ]
  },
  {
   "cell_type": "markdown",
   "metadata": {},
   "source": [
    "Let us compute a singular value decomposition of $\\Omega$.\n",
    "\n",
    "We extract the singular values in the array `svals`."
   ]
  },
  {
   "cell_type": "code",
   "execution_count": 16,
   "metadata": {},
   "outputs": [],
   "source": [
    "S = svd(Ω)\n",
    "svals = S.S;"
   ]
  },
  {
   "cell_type": "markdown",
   "metadata": {},
   "source": [
    "The normalized differences of the entries of `svals` are"
   ]
  },
  {
   "cell_type": "code",
   "execution_count": 17,
   "metadata": {},
   "outputs": [
    {
     "data": {
      "text/plain": [
       "5-element Vector{Float64}:\n",
       " -0.673415237835637\n",
       " -0.07115503852359681\n",
       " -0.5017552465732357\n",
       " -0.17201275781845862\n",
       " -2.2211749338275766"
      ]
     },
     "execution_count": 17,
     "metadata": {},
     "output_type": "execute_result"
    }
   ],
   "source": [
    "diff(svals) ./ svals[2:end]"
   ]
  },
  {
   "cell_type": "markdown",
   "metadata": {},
   "source": [
    "It seems that there is significant gap when passing from the 5th to the 6th singular value.\n",
    "\n",
    "Let us check the singular vector corresponding to the 6th singular value."
   ]
  },
  {
   "cell_type": "code",
   "execution_count": 18,
   "metadata": {},
   "outputs": [
    {
     "name": "stdout",
     "output_type": "stream",
     "text": [
      "-1.093 + 0.059 x₁ + 0.176 x₂ + -0.005 x₁x₂ + 1.16 x₁²+ 1.0 x₂²\n"
     ]
    }
   ],
   "source": [
    "u = S.V[:, 6] \n",
    "f = round.(u ./ u[end], digits = 3)\n",
    "println(\"$(f[1]) + $(f[2]) x₁ + $(f[3]) x₂ + $(f[4]) x₁x₂ + $(f[5]) x₁²+ $(f[6]) x₂²\")"
   ]
  },
  {
   "cell_type": "markdown",
   "metadata": {},
   "source": [
    "This is close to the actual equation $-1 + x_1^2 + x_2^2 = 0$."
   ]
  },
  {
   "cell_type": "markdown",
   "metadata": {},
   "source": [
    "# Geometry of Images\n",
    "\n",
    "Let us next consider data from the [CIFAR10](http://www.cs.toronto.edu/~kriz/cifar.html) dataset."
   ]
  },
  {
   "cell_type": "code",
   "execution_count": 19,
   "metadata": {},
   "outputs": [],
   "source": [
    "data_X, data_Y = CIFAR10.traindata();"
   ]
  },
  {
   "cell_type": "markdown",
   "metadata": {},
   "source": [
    "The dataset contains images of 10 classes of objects:"
   ]
  },
  {
   "cell_type": "code",
   "execution_count": 20,
   "metadata": {},
   "outputs": [],
   "source": [
    "labels = [\"airplane\", \n",
    "          \"automobile\", \n",
    "          \"bird\", \n",
    "          \"cat\", \n",
    "          \"deer\", \n",
    "          \"dog\", \n",
    "          \"frog\", \n",
    "          \"horse\", \n",
    "          \"ship\", \n",
    "          \"truck\"];"
   ]
  },
  {
   "cell_type": "markdown",
   "metadata": {},
   "source": [
    "Let us take the subsset consisting of images of trucks."
   ]
  },
  {
   "cell_type": "code",
   "execution_count": 21,
   "metadata": {},
   "outputs": [],
   "source": [
    "idx = findfirst(labels .== \"truck\") - 1\n",
    "trucks = data_X[:,:,:, data_Y .== idx];"
   ]
  },
  {
   "cell_type": "markdown",
   "metadata": {},
   "source": [
    "We now have 5000 images of trucks."
   ]
  },
  {
   "cell_type": "code",
   "execution_count": 22,
   "metadata": {},
   "outputs": [
    {
     "data": {
      "text/plain": [
       "5000"
      ]
     },
     "execution_count": 22,
     "metadata": {},
     "output_type": "execute_result"
    }
   ],
   "source": [
    "n_images = size(trucks, 4)"
   ]
  },
  {
   "cell_type": "markdown",
   "metadata": {},
   "source": [
    "Each image consists of $D=32 \\cdot 32 \\cdot 3 = 3072$ numerical values. \n",
    "\n",
    "They represent the RGB values of $32\\times 32$ pixels.\n",
    "\n",
    "Thus, we have data in $\\mathbb R^D$."
   ]
  },
  {
   "cell_type": "code",
   "execution_count": 23,
   "metadata": {},
   "outputs": [
    {
     "data": {
      "text/plain": [
       "3072"
      ]
     },
     "execution_count": 23,
     "metadata": {},
     "output_type": "execute_result"
    }
   ],
   "source": [
    "D = 32 * 32 * 3"
   ]
  },
  {
   "cell_type": "markdown",
   "metadata": {},
   "source": [
    "Let us consider a subset $X$ of 500 data points."
   ]
  },
  {
   "cell_type": "code",
   "execution_count": 24,
   "metadata": {},
   "outputs": [],
   "source": [
    "n = 500\n",
    "subsample = sample(1:n_images, n, replace = false)\n",
    "\n",
    "X = map(subsample) do i\n",
    "    xᵢ = vec(trucks[:,:,:,i])\n",
    "    Float64.(xᵢ)\n",
    "    end;"
   ]
  },
  {
   "cell_type": "markdown",
   "metadata": {},
   "source": [
    "We normalize the data."
   ]
  },
  {
   "cell_type": "code",
   "execution_count": 25,
   "metadata": {},
   "outputs": [],
   "source": [
    "x̄ = mean(X);\n",
    "stds = std(X);\n",
    "X = map(x -> (x - x̄) ./ stds, X);"
   ]
  },
  {
   "cell_type": "markdown",
   "metadata": {},
   "source": [
    "Let us take a look at a random subset of 6 images from our data."
   ]
  },
  {
   "cell_type": "code",
   "execution_count": 26,
   "metadata": {},
   "outputs": [
    {
     "data": {
      "text/html": [
       "<table><tbody><tr><td style='text-align:center;vertical-align:middle; margin: 0.5em;border:1px #90999f solid;border-collapse:collapse'><img style='max-width: 100px; max-height:100px;display:inline' src=\"data:image/png;base64,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\"></td><td style='text-align:center;vertical-align:middle; margin: 0.5em;border:1px #90999f solid;border-collapse:collapse'><img style='max-width: 100px; max-height:100px;display:inline' src=\"data:image/png;base64,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\"></td><td style='text-align:center;vertical-align:middle; margin: 0.5em;border:1px #90999f solid;border-collapse:collapse'><img style='max-width: 100px; max-height:100px;display:inline' src=\"data:image/png;base64,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\"></td><td style='text-align:center;vertical-align:middle; margin: 0.5em;border:1px #90999f solid;border-collapse:collapse'><img style='max-width: 100px; max-height:100px;display:inline' src=\"data:image/png;base64,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\"></td><td style='text-align:center;vertical-align:middle; margin: 0.5em;border:1px #90999f solid;border-collapse:collapse'><img style='max-width: 100px; max-height:100px;display:inline' src=\"data:image/png;base64,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\"></td><td style='text-align:center;vertical-align:middle; margin: 0.5em;border:1px #90999f solid;border-collapse:collapse'><img style='max-width: 100px; max-height:100px;display:inline' src=\"data:image/png;base64,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\"></td></tr></tbody></table><div><small>(a vector displayed as a row to save space)</small></div>"
      ],
      "text/plain": [
       "6-element Vector{Base.ReinterpretArray{RGB{N0f8}, 2, N0f8, Array{N0f8, 3}, true}}:\n",
       " [RGB{N0f8}(0.976,0.925,0.851) RGB{N0f8}(0.961,0.91,0.843) … RGB{N0f8}(0.082,0.075,0.043) RGB{N0f8}(0.043,0.035,0.02); RGB{N0f8}(0.965,0.918,0.859) RGB{N0f8}(0.945,0.89,0.843) … RGB{N0f8}(0.051,0.051,0.02) RGB{N0f8}(0.078,0.067,0.043); … ; RGB{N0f8}(0.439,0.294,0.286) RGB{N0f8}(0.439,0.306,0.29) … RGB{N0f8}(0.376,0.251,0.212) RGB{N0f8}(0.396,0.247,0.216); RGB{N0f8}(0.424,0.278,0.271) RGB{N0f8}(0.431,0.286,0.275) … RGB{N0f8}(0.384,0.247,0.212) RGB{N0f8}(0.396,0.243,0.216)]\n",
       " [RGB{N0f8}(0.333,0.471,0.627) RGB{N0f8}(0.333,0.471,0.624) … RGB{N0f8}(0.325,0.455,0.631) RGB{N0f8}(0.318,0.451,0.624); RGB{N0f8}(0.349,0.486,0.647) RGB{N0f8}(0.349,0.486,0.643) … RGB{N0f8}(0.337,0.475,0.651) RGB{N0f8}(0.333,0.467,0.643); … ; RGB{N0f8}(0.686,0.592,0.514) RGB{N0f8}(0.635,0.549,0.478) … RGB{N0f8}(0.584,0.482,0.424) RGB{N0f8}(0.612,0.498,0.439); RGB{N0f8}(0.663,0.573,0.502) RGB{N0f8}(0.639,0.557,0.482) … RGB{N0f8}(0.588,0.49,0.416) RGB{N0f8}(0.588,0.486,0.424)]\n",
       " [RGB{N0f8}(0.992,0.988,1.0) RGB{N0f8}(0.976,0.973,0.988) … RGB{N0f8}(0.906,0.918,0.976) RGB{N0f8}(0.902,0.914,0.973); RGB{N0f8}(0.984,0.98,0.996) RGB{N0f8}(0.976,0.973,0.992) … RGB{N0f8}(0.886,0.898,0.976) RGB{N0f8}(0.886,0.898,0.976); … ; RGB{N0f8}(0.471,0.475,0.451) RGB{N0f8}(0.443,0.435,0.42) … RGB{N0f8}(0.467,0.522,0.514) RGB{N0f8}(0.431,0.494,0.467); RGB{N0f8}(0.412,0.42,0.396) RGB{N0f8}(0.408,0.412,0.392) … RGB{N0f8}(0.349,0.412,0.325) RGB{N0f8}(0.357,0.443,0.337)]\n",
       " [RGB{N0f8}(0.396,0.455,0.58) RGB{N0f8}(0.439,0.498,0.6) … RGB{N0f8}(0.455,0.514,0.616) RGB{N0f8}(0.49,0.545,0.643); RGB{N0f8}(0.439,0.498,0.612) RGB{N0f8}(0.518,0.569,0.663) … RGB{N0f8}(0.463,0.522,0.635) RGB{N0f8}(0.518,0.569,0.671); … ; RGB{N0f8}(0.545,0.518,0.518) RGB{N0f8}(0.51,0.478,0.475) … RGB{N0f8}(0.569,0.486,0.365) RGB{N0f8}(0.565,0.498,0.431); RGB{N0f8}(0.596,0.549,0.533) RGB{N0f8}(0.576,0.529,0.502) … RGB{N0f8}(0.557,0.482,0.353) RGB{N0f8}(0.549,0.482,0.416)]\n",
       " [RGB{N0f8}(0.898,0.878,0.89) RGB{N0f8}(0.855,0.831,0.847) … RGB{N0f8}(0.882,0.906,0.969) RGB{N0f8}(0.855,0.878,0.941); RGB{N0f8}(0.902,0.878,0.894) RGB{N0f8}(0.796,0.773,0.788) … RGB{N0f8}(0.875,0.898,0.961) RGB{N0f8}(0.847,0.871,0.933); … ; RGB{N0f8}(0.608,0.608,0.604) RGB{N0f8}(0.596,0.596,0.596) … RGB{N0f8}(0.459,0.463,0.471) RGB{N0f8}(0.455,0.459,0.467); RGB{N0f8}(0.592,0.592,0.592) RGB{N0f8}(0.6,0.6,0.6) … RGB{N0f8}(0.451,0.455,0.463) RGB{N0f8}(0.451,0.455,0.463)]\n",
       " [RGB{N0f8}(0.933,0.973,0.953) RGB{N0f8}(0.976,0.973,0.953) … RGB{N0f8}(0.306,0.412,0.153) RGB{N0f8}(0.286,0.392,0.133); RGB{N0f8}(0.663,0.737,0.678) RGB{N0f8}(0.718,0.741,0.667) … RGB{N0f8}(0.286,0.392,0.141) RGB{N0f8}(0.227,0.329,0.094); … ; RGB{N0f8}(0.584,0.514,0.427) RGB{N0f8}(0.612,0.533,0.486) … RGB{N0f8}(0.671,0.58,0.494) RGB{N0f8}(0.686,0.604,0.522); RGB{N0f8}(0.616,0.545,0.451) RGB{N0f8}(0.616,0.533,0.459) … RGB{N0f8}(0.682,0.592,0.506) RGB{N0f8}(0.702,0.616,0.533)]"
      ]
     },
     "execution_count": 26,
     "metadata": {},
     "output_type": "execute_result"
    }
   ],
   "source": [
    "k = rand(subsample, 6)\n",
    "[CIFAR10.convert2image(trucks[:,:,:,i]) for i in k]"
   ]
  },
  {
   "cell_type": "markdown",
   "metadata": {},
   "source": [
    "We now want to see if there could be a polynomial equation of degree $k=4$ vanishing on the data.\n",
    "\n",
    "For this, we define the kernel map."
   ]
  },
  {
   "cell_type": "code",
   "execution_count": 27,
   "metadata": {},
   "outputs": [
    {
     "data": {
      "text/plain": [
       "κ (generic function with 1 method)"
      ]
     },
     "execution_count": 27,
     "metadata": {},
     "output_type": "execute_result"
    }
   ],
   "source": [
    "k = 4\n",
    "κ(x₁, x₂) = (x₁ ⋅ x₂ + 1)^k"
   ]
  },
  {
   "cell_type": "markdown",
   "metadata": {},
   "source": [
    "Next, we compute the matrix $R:=W^TW$ from the lecture notes."
   ]
  },
  {
   "cell_type": "code",
   "execution_count": 28,
   "metadata": {},
   "outputs": [],
   "source": [
    "e = ones(n);\n",
    "P = diagm(e) - (1/n) .* (e*e');\n",
    "G = [κ(x₁, x₂) for (x₁, x₂) in product(X,X)]\n",
    "\n",
    "R = P * G * P;"
   ]
  },
  {
   "cell_type": "markdown",
   "metadata": {},
   "source": [
    "We compute the eigenvalues of $R$"
   ]
  },
  {
   "cell_type": "code",
   "execution_count": 29,
   "metadata": {},
   "outputs": [],
   "source": [
    "E = eigen(R);\n",
    "evals = E.values;"
   ]
  },
  {
   "cell_type": "markdown",
   "metadata": {},
   "source": [
    "and plot their normalized differences."
   ]
  },
  {
   "cell_type": "code",
   "execution_count": 96,
   "metadata": {},
   "outputs": [
    {
     "data": {
      "image/svg+xml": [
       "<?xml version=\"1.0\" encoding=\"utf-8\"?>\n",
       "<svg xmlns=\"http://www.w3.org/2000/svg\" xmlns:xlink=\"http://www.w3.org/1999/xlink\" width=\"800\" height=\"250\" viewBox=\"0 0 3200 1000\">\n",
       "<defs>\n",
       "  <clipPath id=\"clip290\">\n",
       "    <rect x=\"0\" y=\"0\" width=\"3200\" height=\"1000\"/>\n",
       "  </clipPath>\n",
       "</defs>\n",
       "<path clip-path=\"url(#clip290)\" d=\"\n",
       "M0 1000 L3200 1000 L3200 0 L0 0  Z\n",
       "  \" fill=\"#ffffff\" fill-rule=\"evenodd\" fill-opacity=\"1\"/>\n",
       "<defs>\n",
       "  <clipPath id=\"clip291\">\n",
       "    <rect x=\"640\" y=\"0\" width=\"2241\" height=\"1000\"/>\n",
       "  </clipPath>\n",
       "</defs>\n",
       "<path clip-path=\"url(#clip290)\" d=\"\n",
       "M194.274 910.808 L3152.76 910.808 L3152.76 47.2441 L194.274 47.2441  Z\n",
       "  \" fill=\"#ffffff\" fill-rule=\"evenodd\" fill-opacity=\"1\"/>\n",
       "<defs>\n",
       "  <clipPath id=\"clip292\">\n",
       "    <rect x=\"194\" y=\"47\" width=\"2959\" height=\"865\"/>\n",
       "  </clipPath>\n",
       "</defs>\n",
       "<polyline clip-path=\"url(#clip292)\" style=\"stroke:#000000; stroke-linecap:butt; stroke-linejoin:round; stroke-width:2; stroke-opacity:0.1; fill:none\" points=\"\n",
       "  272.4,910.808 272.4,47.2441 \n",
       "  \"/>\n",
       "<polyline clip-path=\"url(#clip292)\" style=\"stroke:#000000; stroke-linecap:butt; stroke-linejoin:round; stroke-width:2; stroke-opacity:0.1; fill:none\" points=\"\n",
       "  832.846,910.808 832.846,47.2441 \n",
       "  \"/>\n",
       "<polyline clip-path=\"url(#clip292)\" style=\"stroke:#000000; stroke-linecap:butt; stroke-linejoin:round; stroke-width:2; stroke-opacity:0.1; fill:none\" points=\"\n",
       "  1393.29,910.808 1393.29,47.2441 \n",
       "  \"/>\n",
       "<polyline clip-path=\"url(#clip292)\" style=\"stroke:#000000; stroke-linecap:butt; stroke-linejoin:round; stroke-width:2; stroke-opacity:0.1; fill:none\" points=\"\n",
       "  1953.74,910.808 1953.74,47.2441 \n",
       "  \"/>\n",
       "<polyline clip-path=\"url(#clip292)\" style=\"stroke:#000000; stroke-linecap:butt; stroke-linejoin:round; stroke-width:2; stroke-opacity:0.1; fill:none\" points=\"\n",
       "  2514.18,910.808 2514.18,47.2441 \n",
       "  \"/>\n",
       "<polyline clip-path=\"url(#clip292)\" style=\"stroke:#000000; stroke-linecap:butt; stroke-linejoin:round; stroke-width:2; stroke-opacity:0.1; fill:none\" points=\"\n",
       "  3074.63,910.808 3074.63,47.2441 \n",
       "  \"/>\n",
       "<polyline clip-path=\"url(#clip290)\" style=\"stroke:#000000; stroke-linecap:butt; stroke-linejoin:round; stroke-width:4; stroke-opacity:1; fill:none\" points=\"\n",
       "  194.274,910.808 3152.76,910.808 \n",
       "  \"/>\n",
       "<polyline clip-path=\"url(#clip290)\" style=\"stroke:#000000; stroke-linecap:butt; stroke-linejoin:round; stroke-width:4; stroke-opacity:1; fill:none\" points=\"\n",
       "  272.4,910.808 272.4,891.91 \n",
       "  \"/>\n",
       "<polyline clip-path=\"url(#clip290)\" style=\"stroke:#000000; stroke-linecap:butt; stroke-linejoin:round; stroke-width:4; stroke-opacity:1; fill:none\" points=\"\n",
       "  832.846,910.808 832.846,891.91 \n",
       "  \"/>\n",
       "<polyline clip-path=\"url(#clip290)\" style=\"stroke:#000000; stroke-linecap:butt; stroke-linejoin:round; stroke-width:4; stroke-opacity:1; fill:none\" points=\"\n",
       "  1393.29,910.808 1393.29,891.91 \n",
       "  \"/>\n",
       "<polyline clip-path=\"url(#clip290)\" style=\"stroke:#000000; stroke-linecap:butt; stroke-linejoin:round; stroke-width:4; stroke-opacity:1; fill:none\" points=\"\n",
       "  1953.74,910.808 1953.74,891.91 \n",
       "  \"/>\n",
       "<polyline clip-path=\"url(#clip290)\" style=\"stroke:#000000; stroke-linecap:butt; stroke-linejoin:round; stroke-width:4; stroke-opacity:1; fill:none\" points=\"\n",
       "  2514.18,910.808 2514.18,891.91 \n",
       "  \"/>\n",
       "<polyline clip-path=\"url(#clip290)\" style=\"stroke:#000000; stroke-linecap:butt; stroke-linejoin:round; stroke-width:4; stroke-opacity:1; fill:none\" points=\"\n",
       "  3074.63,910.808 3074.63,891.91 \n",
       "  \"/>\n",
       "<path clip-path=\"url(#clip290)\" d=\"M272.4 948.127 Q268.789 948.127 266.96 951.691 Q265.155 955.233 265.155 962.363 Q265.155 969.469 266.96 973.034 Q268.789 976.575 272.4 976.575 Q276.034 976.575 277.84 973.034 Q279.669 969.469 279.669 962.363 Q279.669 955.233 277.84 951.691 Q276.034 948.127 272.4 948.127 M272.4 944.423 Q278.21 944.423 281.266 949.029 Q284.345 953.613 284.345 962.363 Q284.345 971.089 281.266 975.696 Q278.21 980.279 272.4 980.279 Q266.59 980.279 263.511 975.696 Q260.456 971.089 260.456 962.363 Q260.456 953.613 263.511 949.029 Q266.59 944.423 272.4 944.423 Z\" fill=\"#000000\" fill-rule=\"evenodd\" fill-opacity=\"1\" /><path clip-path=\"url(#clip290)\" d=\"M792.453 975.673 L800.092 975.673 L800.092 949.307 L791.781 950.974 L791.781 946.715 L800.045 945.048 L804.721 945.048 L804.721 975.673 L812.36 975.673 L812.36 979.608 L792.453 979.608 L792.453 975.673 Z\" fill=\"#000000\" fill-rule=\"evenodd\" fill-opacity=\"1\" /><path clip-path=\"url(#clip290)\" d=\"M831.804 948.127 Q828.193 948.127 826.365 951.691 Q824.559 955.233 824.559 962.363 Q824.559 969.469 826.365 973.034 Q828.193 976.575 831.804 976.575 Q835.439 976.575 837.244 973.034 Q839.073 969.469 839.073 962.363 Q839.073 955.233 837.244 951.691 Q835.439 948.127 831.804 948.127 M831.804 944.423 Q837.615 944.423 840.67 949.029 Q843.749 953.613 843.749 962.363 Q843.749 971.089 840.67 975.696 Q837.615 980.279 831.804 980.279 Q825.994 980.279 822.916 975.696 Q819.86 971.089 819.86 962.363 Q819.86 953.613 822.916 949.029 Q825.994 944.423 831.804 944.423 Z\" fill=\"#000000\" fill-rule=\"evenodd\" fill-opacity=\"1\" /><path clip-path=\"url(#clip290)\" d=\"M861.966 948.127 Q858.355 948.127 856.527 951.691 Q854.721 955.233 854.721 962.363 Q854.721 969.469 856.527 973.034 Q858.355 976.575 861.966 976.575 Q865.601 976.575 867.406 973.034 Q869.235 969.469 869.235 962.363 Q869.235 955.233 867.406 951.691 Q865.601 948.127 861.966 948.127 M861.966 944.423 Q867.776 944.423 870.832 949.029 Q873.911 953.613 873.911 962.363 Q873.911 971.089 870.832 975.696 Q867.776 980.279 861.966 980.279 Q856.156 980.279 853.077 975.696 Q850.022 971.089 850.022 962.363 Q850.022 953.613 853.077 949.029 Q856.156 944.423 861.966 944.423 Z\" fill=\"#000000\" fill-rule=\"evenodd\" fill-opacity=\"1\" /><path clip-path=\"url(#clip290)\" d=\"M1356.98 975.673 L1373.3 975.673 L1373.3 979.608 L1351.36 979.608 L1351.36 975.673 Q1354.02 972.918 1358.6 968.288 Q1363.21 963.636 1364.39 962.293 Q1366.64 959.77 1367.52 958.034 Q1368.42 956.275 1368.42 954.585 Q1368.42 951.83 1366.48 950.094 Q1364.55 948.358 1361.45 948.358 Q1359.25 948.358 1356.8 949.122 Q1354.37 949.886 1351.59 951.437 L1351.59 946.715 Q1354.41 945.58 1356.87 945.002 Q1359.32 944.423 1361.36 944.423 Q1366.73 944.423 1369.92 947.108 Q1373.12 949.793 1373.12 954.284 Q1373.12 956.414 1372.31 958.335 Q1371.52 960.233 1369.41 962.826 Q1368.84 963.497 1365.73 966.714 Q1362.63 969.909 1356.98 975.673 Z\" fill=\"#000000\" fill-rule=\"evenodd\" fill-opacity=\"1\" /><path clip-path=\"url(#clip290)\" d=\"M1393.12 948.127 Q1389.51 948.127 1387.68 951.691 Q1385.87 955.233 1385.87 962.363 Q1385.87 969.469 1387.68 973.034 Q1389.51 976.575 1393.12 976.575 Q1396.75 976.575 1398.56 973.034 Q1400.39 969.469 1400.39 962.363 Q1400.39 955.233 1398.56 951.691 Q1396.75 948.127 1393.12 948.127 M1393.12 944.423 Q1398.93 944.423 1401.98 949.029 Q1405.06 953.613 1405.06 962.363 Q1405.06 971.089 1401.98 975.696 Q1398.93 980.279 1393.12 980.279 Q1387.31 980.279 1384.23 975.696 Q1381.17 971.089 1381.17 962.363 Q1381.17 953.613 1384.23 949.029 Q1387.31 944.423 1393.12 944.423 Z\" fill=\"#000000\" fill-rule=\"evenodd\" fill-opacity=\"1\" /><path clip-path=\"url(#clip290)\" d=\"M1423.28 948.127 Q1419.67 948.127 1417.84 951.691 Q1416.03 955.233 1416.03 962.363 Q1416.03 969.469 1417.84 973.034 Q1419.67 976.575 1423.28 976.575 Q1426.91 976.575 1428.72 973.034 Q1430.55 969.469 1430.55 962.363 Q1430.55 955.233 1428.72 951.691 Q1426.91 948.127 1423.28 948.127 M1423.28 944.423 Q1429.09 944.423 1432.15 949.029 Q1435.22 953.613 1435.22 962.363 Q1435.22 971.089 1432.15 975.696 Q1429.09 980.279 1423.28 980.279 Q1417.47 980.279 1414.39 975.696 Q1411.34 971.089 1411.34 962.363 Q1411.34 953.613 1414.39 949.029 Q1417.47 944.423 1423.28 944.423 Z\" fill=\"#000000\" fill-rule=\"evenodd\" fill-opacity=\"1\" /><path clip-path=\"url(#clip290)\" d=\"M1927.5 960.974 Q1930.86 961.691 1932.73 963.96 Q1934.63 966.228 1934.63 969.562 Q1934.63 974.677 1931.11 977.478 Q1927.59 980.279 1921.11 980.279 Q1918.93 980.279 1916.62 979.839 Q1914.33 979.423 1911.87 978.566 L1911.87 974.052 Q1913.82 975.187 1916.13 975.765 Q1918.45 976.344 1920.97 976.344 Q1925.37 976.344 1927.66 974.608 Q1929.98 972.872 1929.98 969.562 Q1929.98 966.506 1927.82 964.793 Q1925.69 963.057 1921.87 963.057 L1917.85 963.057 L1917.85 959.214 L1922.06 959.214 Q1925.51 959.214 1927.34 957.849 Q1929.17 956.46 1929.17 953.867 Q1929.17 951.205 1927.27 949.793 Q1925.39 948.358 1921.87 948.358 Q1919.95 948.358 1917.75 948.775 Q1915.56 949.191 1912.92 950.071 L1912.92 945.904 Q1915.58 945.164 1917.89 944.793 Q1920.23 944.423 1922.29 944.423 Q1927.62 944.423 1930.72 946.853 Q1933.82 949.261 1933.82 953.381 Q1933.82 956.252 1932.18 958.242 Q1930.53 960.21 1927.5 960.974 Z\" fill=\"#000000\" fill-rule=\"evenodd\" fill-opacity=\"1\" /><path clip-path=\"url(#clip290)\" d=\"M1953.49 948.127 Q1949.88 948.127 1948.06 951.691 Q1946.25 955.233 1946.25 962.363 Q1946.25 969.469 1948.06 973.034 Q1949.88 976.575 1953.49 976.575 Q1957.13 976.575 1958.93 973.034 Q1960.76 969.469 1960.76 962.363 Q1960.76 955.233 1958.93 951.691 Q1957.13 948.127 1953.49 948.127 M1953.49 944.423 Q1959.31 944.423 1962.36 949.029 Q1965.44 953.613 1965.44 962.363 Q1965.44 971.089 1962.36 975.696 Q1959.31 980.279 1953.49 980.279 Q1947.68 980.279 1944.61 975.696 Q1941.55 971.089 1941.55 962.363 Q1941.55 953.613 1944.61 949.029 Q1947.68 944.423 1953.49 944.423 Z\" fill=\"#000000\" fill-rule=\"evenodd\" fill-opacity=\"1\" /><path clip-path=\"url(#clip290)\" d=\"M1983.66 948.127 Q1980.05 948.127 1978.22 951.691 Q1976.41 955.233 1976.41 962.363 Q1976.41 969.469 1978.22 973.034 Q1980.05 976.575 1983.66 976.575 Q1987.29 976.575 1989.1 973.034 Q1990.93 969.469 1990.93 962.363 Q1990.93 955.233 1989.1 951.691 Q1987.29 948.127 1983.66 948.127 M1983.66 944.423 Q1989.47 944.423 1992.52 949.029 Q1995.6 953.613 1995.6 962.363 Q1995.6 971.089 1992.52 975.696 Q1989.47 980.279 1983.66 980.279 Q1977.85 980.279 1974.77 975.696 Q1971.71 971.089 1971.71 962.363 Q1971.71 953.613 1974.77 949.029 Q1977.85 944.423 1983.66 944.423 Z\" fill=\"#000000\" fill-rule=\"evenodd\" fill-opacity=\"1\" /><path clip-path=\"url(#clip290)\" d=\"M2487.27 949.122 L2475.47 967.571 L2487.27 967.571 L2487.27 949.122 M2486.05 945.048 L2491.93 945.048 L2491.93 967.571 L2496.86 967.571 L2496.86 971.46 L2491.93 971.46 L2491.93 979.608 L2487.27 979.608 L2487.27 971.46 L2471.67 971.46 L2471.67 966.946 L2486.05 945.048 Z\" fill=\"#000000\" fill-rule=\"evenodd\" fill-opacity=\"1\" /><path clip-path=\"url(#clip290)\" d=\"M2514.59 948.127 Q2510.98 948.127 2509.15 951.691 Q2507.34 955.233 2507.34 962.363 Q2507.34 969.469 2509.15 973.034 Q2510.98 976.575 2514.59 976.575 Q2518.22 976.575 2520.03 973.034 Q2521.86 969.469 2521.86 962.363 Q2521.86 955.233 2520.03 951.691 Q2518.22 948.127 2514.59 948.127 M2514.59 944.423 Q2520.4 944.423 2523.45 949.029 Q2526.53 953.613 2526.53 962.363 Q2526.53 971.089 2523.45 975.696 Q2520.4 980.279 2514.59 980.279 Q2508.78 980.279 2505.7 975.696 Q2502.64 971.089 2502.64 962.363 Q2502.64 953.613 2505.7 949.029 Q2508.78 944.423 2514.59 944.423 Z\" fill=\"#000000\" fill-rule=\"evenodd\" fill-opacity=\"1\" /><path clip-path=\"url(#clip290)\" d=\"M2544.75 948.127 Q2541.14 948.127 2539.31 951.691 Q2537.51 955.233 2537.51 962.363 Q2537.51 969.469 2539.31 973.034 Q2541.14 976.575 2544.75 976.575 Q2548.39 976.575 2550.19 973.034 Q2552.02 969.469 2552.02 962.363 Q2552.02 955.233 2550.19 951.691 Q2548.39 948.127 2544.75 948.127 M2544.75 944.423 Q2550.56 944.423 2553.62 949.029 Q2556.7 953.613 2556.7 962.363 Q2556.7 971.089 2553.62 975.696 Q2550.56 980.279 2544.75 980.279 Q2538.94 980.279 2535.86 975.696 Q2532.81 971.089 2532.81 962.363 Q2532.81 953.613 2535.86 949.029 Q2538.94 944.423 2544.75 944.423 Z\" fill=\"#000000\" fill-rule=\"evenodd\" fill-opacity=\"1\" /><path clip-path=\"url(#clip290)\" d=\"M3034.25 945.048 L3052.6 945.048 L3052.6 948.983 L3038.53 948.983 L3038.53 957.455 Q3039.55 957.108 3040.57 956.946 Q3041.59 956.761 3042.6 956.761 Q3048.39 956.761 3051.77 959.932 Q3055.15 963.103 3055.15 968.52 Q3055.15 974.099 3051.68 977.2 Q3048.21 980.279 3041.89 980.279 Q3039.71 980.279 3037.44 979.909 Q3035.2 979.538 3032.79 978.798 L3032.79 974.099 Q3034.87 975.233 3037.1 975.788 Q3039.32 976.344 3041.79 976.344 Q3045.8 976.344 3048.14 974.238 Q3050.47 972.131 3050.47 968.52 Q3050.47 964.909 3048.14 962.802 Q3045.8 960.696 3041.79 960.696 Q3039.92 960.696 3038.04 961.113 Q3036.19 961.529 3034.25 962.409 L3034.25 945.048 Z\" fill=\"#000000\" fill-rule=\"evenodd\" fill-opacity=\"1\" /><path clip-path=\"url(#clip290)\" d=\"M3074.36 948.127 Q3070.75 948.127 3068.92 951.691 Q3067.12 955.233 3067.12 962.363 Q3067.12 969.469 3068.92 973.034 Q3070.75 976.575 3074.36 976.575 Q3078 976.575 3079.8 973.034 Q3081.63 969.469 3081.63 962.363 Q3081.63 955.233 3079.8 951.691 Q3078 948.127 3074.36 948.127 M3074.36 944.423 Q3080.17 944.423 3083.23 949.029 Q3086.31 953.613 3086.31 962.363 Q3086.31 971.089 3083.23 975.696 Q3080.17 980.279 3074.36 980.279 Q3068.55 980.279 3065.47 975.696 Q3062.42 971.089 3062.42 962.363 Q3062.42 953.613 3065.47 949.029 Q3068.55 944.423 3074.36 944.423 Z\" fill=\"#000000\" fill-rule=\"evenodd\" fill-opacity=\"1\" /><path clip-path=\"url(#clip290)\" d=\"M3104.53 948.127 Q3100.91 948.127 3099.09 951.691 Q3097.28 955.233 3097.28 962.363 Q3097.28 969.469 3099.09 973.034 Q3100.91 976.575 3104.53 976.575 Q3108.16 976.575 3109.97 973.034 Q3111.79 969.469 3111.79 962.363 Q3111.79 955.233 3109.97 951.691 Q3108.16 948.127 3104.53 948.127 M3104.53 944.423 Q3110.34 944.423 3113.39 949.029 Q3116.47 953.613 3116.47 962.363 Q3116.47 971.089 3113.39 975.696 Q3110.34 980.279 3104.53 980.279 Q3098.72 980.279 3095.64 975.696 Q3092.58 971.089 3092.58 962.363 Q3092.58 953.613 3095.64 949.029 Q3098.72 944.423 3104.53 944.423 Z\" fill=\"#000000\" fill-rule=\"evenodd\" fill-opacity=\"1\" /><polyline clip-path=\"url(#clip292)\" style=\"stroke:#000000; stroke-linecap:butt; stroke-linejoin:round; stroke-width:2; stroke-opacity:0.1; fill:none\" points=\"\n",
       "  194.274,886.626 3152.76,886.626 \n",
       "  \"/>\n",
       "<polyline clip-path=\"url(#clip292)\" style=\"stroke:#000000; stroke-linecap:butt; stroke-linejoin:round; stroke-width:2; stroke-opacity:0.1; fill:none\" points=\"\n",
       "  194.274,682.891 3152.76,682.891 \n",
       "  \"/>\n",
       "<polyline clip-path=\"url(#clip292)\" style=\"stroke:#000000; stroke-linecap:butt; stroke-linejoin:round; stroke-width:2; stroke-opacity:0.1; fill:none\" points=\"\n",
       "  194.274,479.156 3152.76,479.156 \n",
       "  \"/>\n",
       "<polyline clip-path=\"url(#clip292)\" style=\"stroke:#000000; stroke-linecap:butt; stroke-linejoin:round; stroke-width:2; stroke-opacity:0.1; fill:none\" points=\"\n",
       "  194.274,275.42 3152.76,275.42 \n",
       "  \"/>\n",
       "<polyline clip-path=\"url(#clip292)\" style=\"stroke:#000000; stroke-linecap:butt; stroke-linejoin:round; stroke-width:2; stroke-opacity:0.1; fill:none\" points=\"\n",
       "  194.274,71.6846 3152.76,71.6846 \n",
       "  \"/>\n",
       "<polyline clip-path=\"url(#clip290)\" style=\"stroke:#000000; stroke-linecap:butt; stroke-linejoin:round; stroke-width:4; stroke-opacity:1; fill:none\" points=\"\n",
       "  194.274,910.808 194.274,47.2441 \n",
       "  \"/>\n",
       "<polyline clip-path=\"url(#clip290)\" style=\"stroke:#000000; stroke-linecap:butt; stroke-linejoin:round; stroke-width:4; stroke-opacity:1; fill:none\" points=\"\n",
       "  194.274,886.626 213.172,886.626 \n",
       "  \"/>\n",
       "<polyline clip-path=\"url(#clip290)\" style=\"stroke:#000000; stroke-linecap:butt; stroke-linejoin:round; stroke-width:4; stroke-opacity:1; fill:none\" points=\"\n",
       "  194.274,682.891 213.172,682.891 \n",
       "  \"/>\n",
       "<polyline clip-path=\"url(#clip290)\" style=\"stroke:#000000; stroke-linecap:butt; stroke-linejoin:round; stroke-width:4; stroke-opacity:1; fill:none\" points=\"\n",
       "  194.274,479.156 213.172,479.156 \n",
       "  \"/>\n",
       "<polyline clip-path=\"url(#clip290)\" style=\"stroke:#000000; stroke-linecap:butt; stroke-linejoin:round; stroke-width:4; stroke-opacity:1; fill:none\" points=\"\n",
       "  194.274,275.42 213.172,275.42 \n",
       "  \"/>\n",
       "<polyline clip-path=\"url(#clip290)\" style=\"stroke:#000000; stroke-linecap:butt; stroke-linejoin:round; stroke-width:4; stroke-opacity:1; fill:none\" points=\"\n",
       "  194.274,71.6846 213.172,71.6846 \n",
       "  \"/>\n",
       "<path clip-path=\"url(#clip290)\" d=\"M58.9365 872.425 Q55.3254 872.425 53.4967 875.99 Q51.6912 879.532 51.6912 886.661 Q51.6912 893.768 53.4967 897.332 Q55.3254 900.874 58.9365 900.874 Q62.5707 900.874 64.3763 897.332 Q66.205 893.768 66.205 886.661 Q66.205 879.532 64.3763 875.99 Q62.5707 872.425 58.9365 872.425 M58.9365 868.721 Q64.7467 868.721 67.8022 873.328 Q70.8809 877.911 70.8809 886.661 Q70.8809 895.388 67.8022 899.994 Q64.7467 904.578 58.9365 904.578 Q53.1264 904.578 50.0477 899.994 Q46.9921 895.388 46.9921 886.661 Q46.9921 877.911 50.0477 873.328 Q53.1264 868.721 58.9365 868.721 Z\" fill=\"#000000\" fill-rule=\"evenodd\" fill-opacity=\"1\" /><path clip-path=\"url(#clip290)\" d=\"M79.0984 898.027 L83.9827 898.027 L83.9827 903.906 L79.0984 903.906 L79.0984 898.027 Z\" fill=\"#000000\" fill-rule=\"evenodd\" fill-opacity=\"1\" /><path clip-path=\"url(#clip290)\" d=\"M104.168 872.425 Q100.557 872.425 98.728 875.99 Q96.9224 879.532 96.9224 886.661 Q96.9224 893.768 98.728 897.332 Q100.557 900.874 104.168 900.874 Q107.802 900.874 109.608 897.332 Q111.436 893.768 111.436 886.661 Q111.436 879.532 109.608 875.99 Q107.802 872.425 104.168 872.425 M104.168 868.721 Q109.978 868.721 113.033 873.328 Q116.112 877.911 116.112 886.661 Q116.112 895.388 113.033 899.994 Q109.978 904.578 104.168 904.578 Q98.3576 904.578 95.2789 899.994 Q92.2234 895.388 92.2234 886.661 Q92.2234 877.911 95.2789 873.328 Q98.3576 868.721 104.168 868.721 Z\" fill=\"#000000\" fill-rule=\"evenodd\" fill-opacity=\"1\" /><path clip-path=\"url(#clip290)\" d=\"M134.33 872.425 Q130.719 872.425 128.89 875.99 Q127.084 879.532 127.084 886.661 Q127.084 893.768 128.89 897.332 Q130.719 900.874 134.33 900.874 Q137.964 900.874 139.769 897.332 Q141.598 893.768 141.598 886.661 Q141.598 879.532 139.769 875.99 Q137.964 872.425 134.33 872.425 M134.33 868.721 Q140.14 868.721 143.195 873.328 Q146.274 877.911 146.274 886.661 Q146.274 895.388 143.195 899.994 Q140.14 904.578 134.33 904.578 Q128.519 904.578 125.441 899.994 Q122.385 895.388 122.385 886.661 Q122.385 877.911 125.441 873.328 Q128.519 868.721 134.33 868.721 Z\" fill=\"#000000\" fill-rule=\"evenodd\" fill-opacity=\"1\" /><path clip-path=\"url(#clip290)\" d=\"M59.9319 668.69 Q56.3208 668.69 54.4921 672.254 Q52.6865 675.796 52.6865 682.926 Q52.6865 690.032 54.4921 693.597 Q56.3208 697.139 59.9319 697.139 Q63.5661 697.139 65.3717 693.597 Q67.2004 690.032 67.2004 682.926 Q67.2004 675.796 65.3717 672.254 Q63.5661 668.69 59.9319 668.69 M59.9319 664.986 Q65.742 664.986 68.7976 669.592 Q71.8763 674.176 71.8763 682.926 Q71.8763 691.652 68.7976 696.259 Q65.742 700.842 59.9319 700.842 Q54.1217 700.842 51.043 696.259 Q47.9875 691.652 47.9875 682.926 Q47.9875 674.176 51.043 669.592 Q54.1217 664.986 59.9319 664.986 Z\" fill=\"#000000\" fill-rule=\"evenodd\" fill-opacity=\"1\" /><path clip-path=\"url(#clip290)\" d=\"M80.0938 694.291 L84.978 694.291 L84.978 700.171 L80.0938 700.171 L80.0938 694.291 Z\" fill=\"#000000\" fill-rule=\"evenodd\" fill-opacity=\"1\" /><path clip-path=\"url(#clip290)\" d=\"M99.1909 696.236 L115.51 696.236 L115.51 700.171 L93.566 700.171 L93.566 696.236 Q96.228 693.481 100.811 688.852 Q105.418 684.199 106.598 682.856 Q108.844 680.333 109.723 678.597 Q110.626 676.838 110.626 675.148 Q110.626 672.393 108.682 670.657 Q106.76 668.921 103.658 668.921 Q101.459 668.921 99.0057 669.685 Q96.5752 670.449 93.7974 672 L93.7974 667.278 Q96.6215 666.143 99.0752 665.565 Q101.529 664.986 103.566 664.986 Q108.936 664.986 112.131 667.671 Q115.325 670.356 115.325 674.847 Q115.325 676.977 114.515 678.898 Q113.728 680.796 111.621 683.389 Q111.043 684.06 107.941 687.278 Q104.839 690.472 99.1909 696.236 Z\" fill=\"#000000\" fill-rule=\"evenodd\" fill-opacity=\"1\" /><path clip-path=\"url(#clip290)\" d=\"M125.371 665.611 L143.728 665.611 L143.728 669.546 L129.654 669.546 L129.654 678.018 Q130.672 677.671 131.691 677.509 Q132.709 677.324 133.728 677.324 Q139.515 677.324 142.894 680.495 Q146.274 683.666 146.274 689.083 Q146.274 694.662 142.802 697.764 Q139.33 700.842 133.01 700.842 Q130.834 700.842 128.566 700.472 Q126.32 700.102 123.913 699.361 L123.913 694.662 Q125.996 695.796 128.219 696.352 Q130.441 696.907 132.918 696.907 Q136.922 696.907 139.26 694.801 Q141.598 692.694 141.598 689.083 Q141.598 685.472 139.26 683.365 Q136.922 681.259 132.918 681.259 Q131.043 681.259 129.168 681.676 Q127.316 682.092 125.371 682.972 L125.371 665.611 Z\" fill=\"#000000\" fill-rule=\"evenodd\" fill-opacity=\"1\" /><path clip-path=\"url(#clip290)\" d=\"M58.9365 464.954 Q55.3254 464.954 53.4967 468.519 Q51.6912 472.061 51.6912 479.19 Q51.6912 486.297 53.4967 489.861 Q55.3254 493.403 58.9365 493.403 Q62.5707 493.403 64.3763 489.861 Q66.205 486.297 66.205 479.19 Q66.205 472.061 64.3763 468.519 Q62.5707 464.954 58.9365 464.954 M58.9365 461.251 Q64.7467 461.251 67.8022 465.857 Q70.8809 470.44 70.8809 479.19 Q70.8809 487.917 67.8022 492.523 Q64.7467 497.107 58.9365 497.107 Q53.1264 497.107 50.0477 492.523 Q46.9921 487.917 46.9921 479.19 Q46.9921 470.44 50.0477 465.857 Q53.1264 461.251 58.9365 461.251 Z\" fill=\"#000000\" fill-rule=\"evenodd\" fill-opacity=\"1\" /><path clip-path=\"url(#clip290)\" d=\"M79.0984 490.556 L83.9827 490.556 L83.9827 496.436 L79.0984 496.436 L79.0984 490.556 Z\" fill=\"#000000\" fill-rule=\"evenodd\" fill-opacity=\"1\" /><path clip-path=\"url(#clip290)\" d=\"M94.2141 461.876 L112.57 461.876 L112.57 465.811 L98.4965 465.811 L98.4965 474.283 Q99.515 473.936 100.534 473.774 Q101.552 473.588 102.571 473.588 Q108.358 473.588 111.737 476.76 Q115.117 479.931 115.117 485.348 Q115.117 490.926 111.645 494.028 Q108.172 497.107 101.853 497.107 Q99.677 497.107 97.4085 496.736 Q95.1632 496.366 92.7558 495.625 L92.7558 490.926 Q94.8391 492.061 97.0613 492.616 Q99.2835 493.172 101.76 493.172 Q105.765 493.172 108.103 491.065 Q110.441 488.959 110.441 485.348 Q110.441 481.737 108.103 479.63 Q105.765 477.524 101.76 477.524 Q99.8854 477.524 98.0104 477.94 Q96.1585 478.357 94.2141 479.237 L94.2141 461.876 Z\" fill=\"#000000\" fill-rule=\"evenodd\" fill-opacity=\"1\" /><path clip-path=\"url(#clip290)\" d=\"M134.33 464.954 Q130.719 464.954 128.89 468.519 Q127.084 472.061 127.084 479.19 Q127.084 486.297 128.89 489.861 Q130.719 493.403 134.33 493.403 Q137.964 493.403 139.769 489.861 Q141.598 486.297 141.598 479.19 Q141.598 472.061 139.769 468.519 Q137.964 464.954 134.33 464.954 M134.33 461.251 Q140.14 461.251 143.195 465.857 Q146.274 470.44 146.274 479.19 Q146.274 487.917 143.195 492.523 Q140.14 497.107 134.33 497.107 Q128.519 497.107 125.441 492.523 Q122.385 487.917 122.385 479.19 Q122.385 470.44 125.441 465.857 Q128.519 461.251 134.33 461.251 Z\" fill=\"#000000\" fill-rule=\"evenodd\" fill-opacity=\"1\" /><path clip-path=\"url(#clip290)\" d=\"M59.9319 261.219 Q56.3208 261.219 54.4921 264.784 Q52.6865 268.325 52.6865 275.455 Q52.6865 282.561 54.4921 286.126 Q56.3208 289.668 59.9319 289.668 Q63.5661 289.668 65.3717 286.126 Q67.2004 282.561 67.2004 275.455 Q67.2004 268.325 65.3717 264.784 Q63.5661 261.219 59.9319 261.219 M59.9319 257.515 Q65.742 257.515 68.7976 262.122 Q71.8763 266.705 71.8763 275.455 Q71.8763 284.182 68.7976 288.788 Q65.742 293.371 59.9319 293.371 Q54.1217 293.371 51.043 288.788 Q47.9875 284.182 47.9875 275.455 Q47.9875 266.705 51.043 262.122 Q54.1217 257.515 59.9319 257.515 Z\" fill=\"#000000\" fill-rule=\"evenodd\" fill-opacity=\"1\" /><path clip-path=\"url(#clip290)\" d=\"M80.0938 286.82 L84.978 286.82 L84.978 292.7 L80.0938 292.7 L80.0938 286.82 Z\" fill=\"#000000\" fill-rule=\"evenodd\" fill-opacity=\"1\" /><path clip-path=\"url(#clip290)\" d=\"M93.9826 258.14 L116.205 258.14 L116.205 260.131 L103.658 292.7 L98.7743 292.7 L110.58 262.075 L93.9826 262.075 L93.9826 258.14 Z\" fill=\"#000000\" fill-rule=\"evenodd\" fill-opacity=\"1\" /><path clip-path=\"url(#clip290)\" d=\"M125.371 258.14 L143.728 258.14 L143.728 262.075 L129.654 262.075 L129.654 270.547 Q130.672 270.2 131.691 270.038 Q132.709 269.853 133.728 269.853 Q139.515 269.853 142.894 273.024 Q146.274 276.195 146.274 281.612 Q146.274 287.191 142.802 290.293 Q139.33 293.371 133.01 293.371 Q130.834 293.371 128.566 293.001 Q126.32 292.631 123.913 291.89 L123.913 287.191 Q125.996 288.325 128.219 288.881 Q130.441 289.436 132.918 289.436 Q136.922 289.436 139.26 287.33 Q141.598 285.223 141.598 281.612 Q141.598 278.001 139.26 275.895 Q136.922 273.788 132.918 273.788 Q131.043 273.788 129.168 274.205 Q127.316 274.621 125.371 275.501 L125.371 258.14 Z\" fill=\"#000000\" fill-rule=\"evenodd\" fill-opacity=\"1\" /><path clip-path=\"url(#clip290)\" d=\"M49.7467 85.0294 L57.3856 85.0294 L57.3856 58.6638 L49.0754 60.3305 L49.0754 56.0712 L57.3393 54.4046 L62.0152 54.4046 L62.0152 85.0294 L69.654 85.0294 L69.654 88.9646 L49.7467 88.9646 L49.7467 85.0294 Z\" fill=\"#000000\" fill-rule=\"evenodd\" fill-opacity=\"1\" /><path clip-path=\"url(#clip290)\" d=\"M79.0984 83.085 L83.9827 83.085 L83.9827 88.9646 L79.0984 88.9646 L79.0984 83.085 Z\" fill=\"#000000\" fill-rule=\"evenodd\" fill-opacity=\"1\" /><path clip-path=\"url(#clip290)\" d=\"M104.168 57.4833 Q100.557 57.4833 98.728 61.0481 Q96.9224 64.5897 96.9224 71.7193 Q96.9224 78.8257 98.728 82.3905 Q100.557 85.9322 104.168 85.9322 Q107.802 85.9322 109.608 82.3905 Q111.436 78.8257 111.436 71.7193 Q111.436 64.5897 109.608 61.0481 Q107.802 57.4833 104.168 57.4833 M104.168 53.7796 Q109.978 53.7796 113.033 58.386 Q116.112 62.9693 116.112 71.7193 Q116.112 80.4461 113.033 85.0526 Q109.978 89.6359 104.168 89.6359 Q98.3576 89.6359 95.2789 85.0526 Q92.2234 80.4461 92.2234 71.7193 Q92.2234 62.9693 95.2789 58.386 Q98.3576 53.7796 104.168 53.7796 Z\" fill=\"#000000\" fill-rule=\"evenodd\" fill-opacity=\"1\" /><path clip-path=\"url(#clip290)\" d=\"M134.33 57.4833 Q130.719 57.4833 128.89 61.0481 Q127.084 64.5897 127.084 71.7193 Q127.084 78.8257 128.89 82.3905 Q130.719 85.9322 134.33 85.9322 Q137.964 85.9322 139.769 82.3905 Q141.598 78.8257 141.598 71.7193 Q141.598 64.5897 139.769 61.0481 Q137.964 57.4833 134.33 57.4833 M134.33 53.7796 Q140.14 53.7796 143.195 58.386 Q146.274 62.9693 146.274 71.7193 Q146.274 80.4461 143.195 85.0526 Q140.14 89.6359 134.33 89.6359 Q128.519 89.6359 125.441 85.0526 Q122.385 80.4461 122.385 71.7193 Q122.385 62.9693 125.441 58.386 Q128.519 53.7796 134.33 53.7796 Z\" fill=\"#000000\" fill-rule=\"evenodd\" fill-opacity=\"1\" /><polyline clip-path=\"url(#clip292)\" style=\"stroke:#009af9; stroke-linecap:butt; stroke-linejoin:round; stroke-width:10; stroke-opacity:1; fill:none\" stroke-dasharray=\"40, 25\" points=\"\n",
       "  278.005,71.6846 283.609,167.904 289.214,567.278 294.818,729.24 300.422,728.458 306.027,726.103 311.631,757.551 317.236,799.093 322.84,860.469 328.445,812.438 \n",
       "  334.049,880.851 339.654,843.508 345.258,667.5 350.863,878.657 356.467,881.44 362.072,874.447 367.676,879.507 373.28,866.1 378.885,867.809 384.489,857.366 \n",
       "  390.094,855.308 395.698,882.597 401.303,865.016 406.907,851.666 412.512,847.182 418.116,869.974 423.721,864.593 429.325,843.486 434.929,865.205 440.534,844.547 \n",
       "  446.138,825.491 451.743,862.031 457.347,858.618 462.952,880.872 468.556,870.975 474.161,876.746 479.765,868.097 485.37,851.801 490.974,874.105 496.579,878.869 \n",
       "  502.183,876.688 507.787,877.585 513.392,869.744 518.996,875.109 524.601,871.99 530.205,866.8 535.81,873.15 541.414,875.963 547.019,877.619 552.623,883.843 \n",
       "  558.228,880.117 563.832,864.6 569.436,865.798 575.041,874.363 580.645,877.069 586.25,872.711 591.854,878.245 597.459,874.673 603.063,882.838 608.668,885.752 \n",
       "  614.272,884.067 619.877,883.459 625.481,874.834 631.086,874.575 636.69,873.96 642.294,871.042 647.899,874.198 653.503,881.525 659.108,880.786 664.712,875.273 \n",
       "  670.317,869.538 675.921,861.268 681.526,882.826 687.13,878.542 692.735,873.807 698.339,884.804 703.944,877.773 709.548,880.851 715.152,883.504 720.757,884.622 \n",
       "  726.361,881.762 731.966,883.991 737.57,875.472 743.175,878.105 748.779,877.458 754.384,881.247 759.988,874.793 765.593,868.137 771.197,880.664 776.801,879.359 \n",
       "  782.406,882.712 788.01,875.756 793.615,883.546 799.219,874.793 804.824,868.289 810.428,873.039 816.033,881.668 821.637,877.426 827.242,882.41 832.846,877.16 \n",
       "  838.451,885.031 844.055,864.687 849.659,874.452 855.264,878.43 860.868,878.759 866.473,870.125 872.077,870.031 877.682,879.086 883.286,871.23 888.891,876.573 \n",
       "  894.495,880.278 900.1,874.145 905.704,880.973 911.309,881.422 916.913,881.062 922.517,878.331 928.122,885.19 933.726,875.773 939.331,880.37 944.935,879.966 \n",
       "  950.54,882.592 956.144,885.394 961.749,885.429 967.353,880.288 972.958,864.89 978.562,874.052 984.166,874.049 989.771,881.218 995.375,879.302 1000.98,881.798 \n",
       "  1006.58,880.899 1012.19,884.559 1017.79,870.41 1023.4,867.873 1029,875.608 1034.61,873.829 1040.21,871.229 1045.82,884.51 1051.42,883.138 1057.02,877.566 \n",
       "  1062.63,886.007 1068.23,880.846 1073.84,881.937 1079.44,877.972 1085.05,881.612 1090.65,883.763 1096.26,884.525 1101.86,880.649 1107.46,881.784 1113.07,876.414 \n",
       "  1118.67,872.696 1124.28,880.017 1129.88,877.664 1135.49,882.912 1141.09,882.017 1146.7,880.673 1152.3,885.285 1157.9,878.516 1163.51,884.366 1169.11,878.669 \n",
       "  1174.72,880.351 1180.32,876.298 1185.93,885.735 1191.53,881.531 1197.14,883.111 1202.74,885.917 1208.34,883.14 1213.95,884.329 1219.55,882.163 1225.16,880.273 \n",
       "  1230.76,882.83 1236.37,881.021 1241.97,883.745 1247.58,883.718 1253.18,871.283 1258.78,879.422 1264.39,885.061 1269.99,884.589 1275.6,873.27 1281.2,882.438 \n",
       "  1286.81,884.526 1292.41,882.372 1298.02,877.449 1303.62,875.711 1309.23,881.744 1314.83,882.169 1320.43,879.835 1326.04,879.05 1331.64,884.081 1337.25,884.739 \n",
       "  1342.85,882.761 1348.46,881.925 1354.06,879.645 1359.67,884.68 1365.27,877.908 1370.87,882.385 1376.48,883.072 1382.08,883.687 1387.69,880.189 1393.29,875.787 \n",
       "  1398.9,879.13 1404.5,884.848 1410.11,878.78 1415.71,877.958 1421.31,883.477 1426.92,884.105 1432.52,880.044 1438.13,881.079 1443.73,871.668 1449.34,879.651 \n",
       "  1454.94,879.906 1460.55,879.587 1466.15,880.762 1471.75,880.001 1477.36,883.854 1482.96,878.028 1488.57,881.3 1494.17,886.157 1499.78,881.616 1505.38,877.557 \n",
       "  1510.99,878.427 1516.59,880.36 1522.19,884.336 1527.8,871.78 1533.4,877.952 1539.01,885.442 1544.61,884.583 1550.22,882.012 1555.82,885.112 1561.43,883.178 \n",
       "  1567.03,866.791 1572.63,870.886 1578.24,884.419 1583.84,876.18 1589.45,881.807 1595.05,877.96 1600.66,881.071 1606.26,879.488 1611.87,882.328 1617.47,880.308 \n",
       "  1623.07,884.966 1628.68,881.158 1634.28,879.946 1639.89,883.457 1645.49,881.731 1651.1,877.731 1656.7,881.775 1662.31,881.6 1667.91,880.553 1673.51,882.352 \n",
       "  1679.12,882.307 1684.72,885.699 1690.33,883.523 1695.93,872.708 1701.54,882.187 1707.14,873.608 1712.75,882.907 1718.35,866.242 1723.96,881.814 1729.56,876.538 \n",
       "  1735.16,873.663 1740.77,881.8 1746.37,884.743 1751.98,883.602 1757.58,880.444 1763.19,881.102 1768.79,884.66 1774.4,878.028 1780,876.011 1785.6,881.576 \n",
       "  1791.21,878.453 1796.81,875.444 1802.42,882.105 1808.02,885.663 1813.63,872.964 1819.23,884.894 1824.84,884.535 1830.44,882.18 1836.04,883.768 1841.65,883.437 \n",
       "  1847.25,868.483 1852.86,884.059 1858.46,870.014 1864.07,885.173 1869.67,868.926 1875.28,877.875 1880.88,882.639 1886.48,878.693 1892.09,882.943 1897.69,871.687 \n",
       "  1903.3,885.58 1908.9,877.773 1914.51,880.278 1920.11,885.071 1925.72,884.408 1931.32,879.447 1936.92,875.506 1942.53,881.898 1948.13,880.81 1953.74,884.266 \n",
       "  1959.34,882.103 1964.95,880.701 1970.55,880.121 1976.16,876.555 1981.76,880.237 1987.36,875.77 1992.97,884.692 1998.57,882.347 2004.18,880.891 2009.78,879.207 \n",
       "  2015.39,883.144 2020.99,882.82 2026.6,874.764 2032.2,876.155 2037.8,885.25 2043.41,883.622 2049.01,879.323 2054.62,885.111 2060.22,885.531 2065.83,884.245 \n",
       "  2071.43,879.972 2077.04,885.752 2082.64,886.105 2088.24,877.871 2093.85,877.001 2099.45,878.854 2105.06,886.367 2110.66,881.151 2116.27,883.681 2121.87,882.77 \n",
       "  2127.48,882.305 2133.08,874.764 2138.69,878.365 2144.29,880.566 2149.89,885.32 2155.5,878.343 2161.1,885.158 2166.71,876.973 2172.31,883.598 2177.92,884.703 \n",
       "  2183.52,883.672 2189.13,882.688 2194.73,881.305 2200.33,878.51 2205.94,886.028 2211.54,879.073 2217.15,882.481 2222.75,875.838 2228.36,874.103 2233.96,883.742 \n",
       "  2239.57,877.805 2245.17,883.233 2250.77,877.366 2256.38,883.632 2261.98,878.545 2267.59,880.936 2273.19,882.259 2278.8,870.208 2284.4,883.236 2290.01,886.01 \n",
       "  2295.61,881.115 2301.21,884.507 2306.82,881.455 2312.42,880.345 2318.03,883.119 2323.63,872.598 2329.24,882.726 2334.84,881.519 2340.45,873.033 2346.05,879.33 \n",
       "  2351.65,877.382 2357.26,883.23 2362.86,883.699 2368.47,880.497 2374.07,873.782 2379.68,882.477 2385.28,881.089 2390.89,881.967 2396.49,854.227 2402.09,880.566 \n",
       "  2407.7,882.254 2413.3,882.064 2418.91,885.827 2424.51,876.398 2430.12,870.098 2435.72,882.82 2441.33,880.437 2446.93,880.35 2452.53,871.151 2458.14,881.02 \n",
       "  2463.74,880.397 2469.35,878.879 2474.95,872.428 2480.56,878.698 2486.16,876.932 2491.77,860.666 2497.37,871.302 2502.97,866.932 2508.58,878.123 2514.18,875.437 \n",
       "  2519.79,875.802 2525.39,879.969 2531,883.523 2536.6,878.558 2542.21,880.191 2547.81,870.321 2553.42,882.332 2559.02,875.285 2564.62,877.598 2570.23,875.298 \n",
       "  2575.83,868.484 2581.44,872.505 2587.04,879.397 2592.65,882.742 2598.25,872.989 2603.86,883.403 2609.46,884.571 2615.06,872.861 2620.67,881.96 2626.27,868.429 \n",
       "  2631.88,883.034 2637.48,880.532 2643.09,864.735 2648.69,885.479 2654.3,871.453 2659.9,876.535 2665.5,880.333 2671.11,869.471 2676.71,885.344 2682.32,875.5 \n",
       "  2687.92,868.269 2693.53,884.229 2699.13,881.826 2704.74,879.748 2710.34,865.832 2715.94,873.536 2721.55,874.755 2727.15,875.909 2732.76,880.193 2738.36,879.996 \n",
       "  2743.97,876.988 2749.57,876.025 2755.18,878.7 2760.78,874.774 2766.38,876.963 2771.99,873.407 2777.59,879.943 2783.2,881.839 2788.8,883.788 2794.41,881.083 \n",
       "  2800.01,872.913 2805.62,872.958 2811.22,881.642 2816.82,846.105 2822.43,864.526 2828.03,881.084 2833.64,865.144 2839.24,877.857 2844.85,870.737 2850.45,865.966 \n",
       "  2856.06,868.879 2861.66,860.509 2867.26,865.509 2872.87,856.555 2878.47,831.871 2884.08,873.751 2889.68,868.429 2895.29,857.471 2900.89,880.888 2906.5,853.674 \n",
       "  2912.1,817.221 2917.7,873.422 2923.31,854.327 2928.91,859.818 2934.52,872.783 2940.12,863.654 2945.73,798.532 2951.33,850.769 2956.94,827.178 2962.54,872.4 \n",
       "  2968.15,866.679 2973.75,844.61 2979.35,846.01 2984.96,847.263 2990.56,837.982 2996.17,835.005 3001.77,845.047 3007.38,871.981 3012.98,868.189 3018.59,833.538 \n",
       "  3024.19,846.276 3029.79,819.074 3035.4,742.109 3041,829.241 3046.61,873.69 3052.21,802.547 3057.82,795.265 3063.42,662.631 3069.03,499.391 \n",
       "  \"/>\n",
       "<circle clip-path=\"url(#clip292)\" cx=\"278.005\" cy=\"71.6846\" r=\"14\" fill=\"#cd5c5c\" fill-rule=\"evenodd\" fill-opacity=\"1\" stroke=\"none\"/>\n",
       "<circle clip-path=\"url(#clip292)\" cx=\"283.609\" cy=\"167.904\" r=\"14\" fill=\"#cd5c5c\" fill-rule=\"evenodd\" fill-opacity=\"1\" stroke=\"none\"/>\n",
       "<circle clip-path=\"url(#clip292)\" cx=\"289.214\" cy=\"567.278\" r=\"14\" fill=\"#cd5c5c\" fill-rule=\"evenodd\" fill-opacity=\"1\" stroke=\"none\"/>\n",
       "<circle clip-path=\"url(#clip292)\" cx=\"294.818\" cy=\"729.24\" r=\"14\" fill=\"#cd5c5c\" fill-rule=\"evenodd\" fill-opacity=\"1\" stroke=\"none\"/>\n",
       "<circle clip-path=\"url(#clip292)\" cx=\"300.422\" cy=\"728.458\" r=\"14\" fill=\"#cd5c5c\" fill-rule=\"evenodd\" fill-opacity=\"1\" stroke=\"none\"/>\n",
       "<circle clip-path=\"url(#clip292)\" cx=\"306.027\" cy=\"726.103\" r=\"14\" fill=\"#cd5c5c\" fill-rule=\"evenodd\" fill-opacity=\"1\" stroke=\"none\"/>\n",
       "<circle clip-path=\"url(#clip292)\" cx=\"311.631\" cy=\"757.551\" r=\"14\" fill=\"#cd5c5c\" fill-rule=\"evenodd\" fill-opacity=\"1\" stroke=\"none\"/>\n",
       "<circle clip-path=\"url(#clip292)\" cx=\"317.236\" cy=\"799.093\" r=\"14\" fill=\"#cd5c5c\" fill-rule=\"evenodd\" fill-opacity=\"1\" stroke=\"none\"/>\n",
       "<circle clip-path=\"url(#clip292)\" cx=\"322.84\" cy=\"860.469\" r=\"14\" fill=\"#cd5c5c\" fill-rule=\"evenodd\" fill-opacity=\"1\" stroke=\"none\"/>\n",
       "<circle clip-path=\"url(#clip292)\" cx=\"328.445\" cy=\"812.438\" r=\"14\" fill=\"#cd5c5c\" fill-rule=\"evenodd\" fill-opacity=\"1\" stroke=\"none\"/>\n",
       "<circle clip-path=\"url(#clip292)\" cx=\"334.049\" cy=\"880.851\" r=\"14\" fill=\"#cd5c5c\" fill-rule=\"evenodd\" fill-opacity=\"1\" stroke=\"none\"/>\n",
       "<circle clip-path=\"url(#clip292)\" cx=\"339.654\" cy=\"843.508\" r=\"14\" fill=\"#cd5c5c\" fill-rule=\"evenodd\" fill-opacity=\"1\" stroke=\"none\"/>\n",
       "<circle clip-path=\"url(#clip292)\" cx=\"345.258\" cy=\"667.5\" r=\"14\" fill=\"#cd5c5c\" fill-rule=\"evenodd\" fill-opacity=\"1\" stroke=\"none\"/>\n",
       "<circle clip-path=\"url(#clip292)\" cx=\"350.863\" cy=\"878.657\" r=\"14\" fill=\"#cd5c5c\" fill-rule=\"evenodd\" fill-opacity=\"1\" stroke=\"none\"/>\n",
       "<circle clip-path=\"url(#clip292)\" cx=\"356.467\" cy=\"881.44\" r=\"14\" fill=\"#cd5c5c\" fill-rule=\"evenodd\" fill-opacity=\"1\" stroke=\"none\"/>\n",
       "<circle clip-path=\"url(#clip292)\" cx=\"362.072\" cy=\"874.447\" r=\"14\" fill=\"#cd5c5c\" fill-rule=\"evenodd\" fill-opacity=\"1\" stroke=\"none\"/>\n",
       "<circle clip-path=\"url(#clip292)\" cx=\"367.676\" cy=\"879.507\" r=\"14\" fill=\"#cd5c5c\" fill-rule=\"evenodd\" fill-opacity=\"1\" stroke=\"none\"/>\n",
       "<circle clip-path=\"url(#clip292)\" cx=\"373.28\" cy=\"866.1\" r=\"14\" fill=\"#cd5c5c\" fill-rule=\"evenodd\" fill-opacity=\"1\" stroke=\"none\"/>\n",
       "<circle clip-path=\"url(#clip292)\" cx=\"378.885\" cy=\"867.809\" r=\"14\" fill=\"#cd5c5c\" fill-rule=\"evenodd\" fill-opacity=\"1\" stroke=\"none\"/>\n",
       "<circle clip-path=\"url(#clip292)\" cx=\"384.489\" cy=\"857.366\" r=\"14\" fill=\"#cd5c5c\" fill-rule=\"evenodd\" fill-opacity=\"1\" stroke=\"none\"/>\n",
       "<circle clip-path=\"url(#clip292)\" cx=\"390.094\" cy=\"855.308\" r=\"14\" fill=\"#cd5c5c\" fill-rule=\"evenodd\" fill-opacity=\"1\" stroke=\"none\"/>\n",
       "<circle clip-path=\"url(#clip292)\" cx=\"395.698\" cy=\"882.597\" r=\"14\" fill=\"#cd5c5c\" fill-rule=\"evenodd\" fill-opacity=\"1\" stroke=\"none\"/>\n",
       "<circle clip-path=\"url(#clip292)\" cx=\"401.303\" cy=\"865.016\" r=\"14\" fill=\"#cd5c5c\" fill-rule=\"evenodd\" fill-opacity=\"1\" stroke=\"none\"/>\n",
       "<circle clip-path=\"url(#clip292)\" cx=\"406.907\" cy=\"851.666\" r=\"14\" fill=\"#cd5c5c\" fill-rule=\"evenodd\" fill-opacity=\"1\" stroke=\"none\"/>\n",
       "<circle clip-path=\"url(#clip292)\" cx=\"412.512\" cy=\"847.182\" r=\"14\" fill=\"#cd5c5c\" fill-rule=\"evenodd\" fill-opacity=\"1\" stroke=\"none\"/>\n",
       "<circle clip-path=\"url(#clip292)\" cx=\"418.116\" cy=\"869.974\" r=\"14\" fill=\"#cd5c5c\" fill-rule=\"evenodd\" fill-opacity=\"1\" stroke=\"none\"/>\n",
       "<circle clip-path=\"url(#clip292)\" cx=\"423.721\" cy=\"864.593\" r=\"14\" fill=\"#cd5c5c\" fill-rule=\"evenodd\" fill-opacity=\"1\" stroke=\"none\"/>\n",
       "<circle clip-path=\"url(#clip292)\" cx=\"429.325\" cy=\"843.486\" r=\"14\" fill=\"#cd5c5c\" fill-rule=\"evenodd\" fill-opacity=\"1\" stroke=\"none\"/>\n",
       "<circle clip-path=\"url(#clip292)\" cx=\"434.929\" cy=\"865.205\" r=\"14\" fill=\"#cd5c5c\" fill-rule=\"evenodd\" fill-opacity=\"1\" stroke=\"none\"/>\n",
       "<circle clip-path=\"url(#clip292)\" cx=\"440.534\" cy=\"844.547\" r=\"14\" fill=\"#cd5c5c\" fill-rule=\"evenodd\" fill-opacity=\"1\" stroke=\"none\"/>\n",
       "<circle clip-path=\"url(#clip292)\" cx=\"446.138\" cy=\"825.491\" r=\"14\" fill=\"#cd5c5c\" fill-rule=\"evenodd\" fill-opacity=\"1\" stroke=\"none\"/>\n",
       "<circle clip-path=\"url(#clip292)\" cx=\"451.743\" cy=\"862.031\" r=\"14\" fill=\"#cd5c5c\" fill-rule=\"evenodd\" fill-opacity=\"1\" stroke=\"none\"/>\n",
       "<circle clip-path=\"url(#clip292)\" cx=\"457.347\" cy=\"858.618\" r=\"14\" fill=\"#cd5c5c\" fill-rule=\"evenodd\" fill-opacity=\"1\" stroke=\"none\"/>\n",
       "<circle clip-path=\"url(#clip292)\" cx=\"462.952\" cy=\"880.872\" r=\"14\" fill=\"#cd5c5c\" fill-rule=\"evenodd\" fill-opacity=\"1\" stroke=\"none\"/>\n",
       "<circle clip-path=\"url(#clip292)\" cx=\"468.556\" cy=\"870.975\" r=\"14\" fill=\"#cd5c5c\" fill-rule=\"evenodd\" fill-opacity=\"1\" stroke=\"none\"/>\n",
       "<circle clip-path=\"url(#clip292)\" cx=\"474.161\" cy=\"876.746\" r=\"14\" fill=\"#cd5c5c\" fill-rule=\"evenodd\" fill-opacity=\"1\" stroke=\"none\"/>\n",
       "<circle clip-path=\"url(#clip292)\" cx=\"479.765\" cy=\"868.097\" r=\"14\" fill=\"#cd5c5c\" fill-rule=\"evenodd\" fill-opacity=\"1\" stroke=\"none\"/>\n",
       "<circle clip-path=\"url(#clip292)\" cx=\"485.37\" cy=\"851.801\" r=\"14\" fill=\"#cd5c5c\" fill-rule=\"evenodd\" fill-opacity=\"1\" stroke=\"none\"/>\n",
       "<circle clip-path=\"url(#clip292)\" cx=\"490.974\" cy=\"874.105\" r=\"14\" fill=\"#cd5c5c\" fill-rule=\"evenodd\" fill-opacity=\"1\" stroke=\"none\"/>\n",
       "<circle clip-path=\"url(#clip292)\" cx=\"496.579\" cy=\"878.869\" r=\"14\" fill=\"#cd5c5c\" fill-rule=\"evenodd\" fill-opacity=\"1\" stroke=\"none\"/>\n",
       "<circle clip-path=\"url(#clip292)\" cx=\"502.183\" cy=\"876.688\" r=\"14\" fill=\"#cd5c5c\" fill-rule=\"evenodd\" fill-opacity=\"1\" stroke=\"none\"/>\n",
       "<circle clip-path=\"url(#clip292)\" cx=\"507.787\" cy=\"877.585\" r=\"14\" fill=\"#cd5c5c\" fill-rule=\"evenodd\" fill-opacity=\"1\" stroke=\"none\"/>\n",
       "<circle clip-path=\"url(#clip292)\" cx=\"513.392\" cy=\"869.744\" r=\"14\" fill=\"#cd5c5c\" fill-rule=\"evenodd\" fill-opacity=\"1\" stroke=\"none\"/>\n",
       "<circle clip-path=\"url(#clip292)\" cx=\"518.996\" cy=\"875.109\" r=\"14\" fill=\"#cd5c5c\" fill-rule=\"evenodd\" fill-opacity=\"1\" stroke=\"none\"/>\n",
       "<circle clip-path=\"url(#clip292)\" cx=\"524.601\" cy=\"871.99\" r=\"14\" fill=\"#cd5c5c\" fill-rule=\"evenodd\" fill-opacity=\"1\" stroke=\"none\"/>\n",
       "<circle clip-path=\"url(#clip292)\" cx=\"530.205\" cy=\"866.8\" r=\"14\" fill=\"#cd5c5c\" fill-rule=\"evenodd\" fill-opacity=\"1\" stroke=\"none\"/>\n",
       "<circle clip-path=\"url(#clip292)\" cx=\"535.81\" cy=\"873.15\" r=\"14\" fill=\"#cd5c5c\" fill-rule=\"evenodd\" fill-opacity=\"1\" stroke=\"none\"/>\n",
       "<circle clip-path=\"url(#clip292)\" cx=\"541.414\" cy=\"875.963\" r=\"14\" fill=\"#cd5c5c\" fill-rule=\"evenodd\" fill-opacity=\"1\" stroke=\"none\"/>\n",
       "<circle clip-path=\"url(#clip292)\" cx=\"547.019\" cy=\"877.619\" r=\"14\" fill=\"#cd5c5c\" fill-rule=\"evenodd\" fill-opacity=\"1\" stroke=\"none\"/>\n",
       "<circle clip-path=\"url(#clip292)\" cx=\"552.623\" cy=\"883.843\" r=\"14\" fill=\"#cd5c5c\" fill-rule=\"evenodd\" fill-opacity=\"1\" stroke=\"none\"/>\n",
       "<circle clip-path=\"url(#clip292)\" cx=\"558.228\" cy=\"880.117\" r=\"14\" fill=\"#cd5c5c\" fill-rule=\"evenodd\" fill-opacity=\"1\" stroke=\"none\"/>\n",
       "<circle clip-path=\"url(#clip292)\" cx=\"563.832\" cy=\"864.6\" r=\"14\" fill=\"#cd5c5c\" fill-rule=\"evenodd\" fill-opacity=\"1\" stroke=\"none\"/>\n",
       "<circle clip-path=\"url(#clip292)\" cx=\"569.436\" cy=\"865.798\" r=\"14\" fill=\"#cd5c5c\" fill-rule=\"evenodd\" fill-opacity=\"1\" stroke=\"none\"/>\n",
       "<circle clip-path=\"url(#clip292)\" cx=\"575.041\" cy=\"874.363\" r=\"14\" fill=\"#cd5c5c\" fill-rule=\"evenodd\" fill-opacity=\"1\" stroke=\"none\"/>\n",
       "<circle clip-path=\"url(#clip292)\" cx=\"580.645\" cy=\"877.069\" r=\"14\" fill=\"#cd5c5c\" fill-rule=\"evenodd\" fill-opacity=\"1\" stroke=\"none\"/>\n",
       "<circle clip-path=\"url(#clip292)\" cx=\"586.25\" cy=\"872.711\" r=\"14\" fill=\"#cd5c5c\" fill-rule=\"evenodd\" fill-opacity=\"1\" stroke=\"none\"/>\n",
       "<circle clip-path=\"url(#clip292)\" cx=\"591.854\" cy=\"878.245\" r=\"14\" fill=\"#cd5c5c\" fill-rule=\"evenodd\" fill-opacity=\"1\" stroke=\"none\"/>\n",
       "<circle clip-path=\"url(#clip292)\" cx=\"597.459\" cy=\"874.673\" r=\"14\" fill=\"#cd5c5c\" fill-rule=\"evenodd\" fill-opacity=\"1\" stroke=\"none\"/>\n",
       "<circle clip-path=\"url(#clip292)\" cx=\"603.063\" cy=\"882.838\" r=\"14\" fill=\"#cd5c5c\" fill-rule=\"evenodd\" fill-opacity=\"1\" stroke=\"none\"/>\n",
       "<circle clip-path=\"url(#clip292)\" cx=\"608.668\" cy=\"885.752\" r=\"14\" fill=\"#cd5c5c\" fill-rule=\"evenodd\" fill-opacity=\"1\" stroke=\"none\"/>\n",
       "<circle clip-path=\"url(#clip292)\" cx=\"614.272\" cy=\"884.067\" r=\"14\" fill=\"#cd5c5c\" fill-rule=\"evenodd\" fill-opacity=\"1\" stroke=\"none\"/>\n",
       "<circle clip-path=\"url(#clip292)\" cx=\"619.877\" cy=\"883.459\" r=\"14\" fill=\"#cd5c5c\" fill-rule=\"evenodd\" fill-opacity=\"1\" stroke=\"none\"/>\n",
       "<circle clip-path=\"url(#clip292)\" cx=\"625.481\" cy=\"874.834\" r=\"14\" fill=\"#cd5c5c\" fill-rule=\"evenodd\" fill-opacity=\"1\" stroke=\"none\"/>\n",
       "<circle clip-path=\"url(#clip292)\" cx=\"631.086\" cy=\"874.575\" r=\"14\" fill=\"#cd5c5c\" fill-rule=\"evenodd\" fill-opacity=\"1\" stroke=\"none\"/>\n",
       "<circle clip-path=\"url(#clip292)\" cx=\"636.69\" cy=\"873.96\" r=\"14\" fill=\"#cd5c5c\" fill-rule=\"evenodd\" fill-opacity=\"1\" stroke=\"none\"/>\n",
       "<circle clip-path=\"url(#clip292)\" cx=\"642.294\" cy=\"871.042\" r=\"14\" fill=\"#cd5c5c\" fill-rule=\"evenodd\" fill-opacity=\"1\" stroke=\"none\"/>\n",
       "<circle clip-path=\"url(#clip292)\" cx=\"647.899\" cy=\"874.198\" r=\"14\" fill=\"#cd5c5c\" fill-rule=\"evenodd\" fill-opacity=\"1\" stroke=\"none\"/>\n",
       "<circle clip-path=\"url(#clip292)\" cx=\"653.503\" cy=\"881.525\" r=\"14\" fill=\"#cd5c5c\" fill-rule=\"evenodd\" fill-opacity=\"1\" stroke=\"none\"/>\n",
       "<circle clip-path=\"url(#clip292)\" cx=\"659.108\" cy=\"880.786\" r=\"14\" fill=\"#cd5c5c\" fill-rule=\"evenodd\" fill-opacity=\"1\" stroke=\"none\"/>\n",
       "<circle clip-path=\"url(#clip292)\" cx=\"664.712\" cy=\"875.273\" r=\"14\" fill=\"#cd5c5c\" fill-rule=\"evenodd\" fill-opacity=\"1\" stroke=\"none\"/>\n",
       "<circle clip-path=\"url(#clip292)\" cx=\"670.317\" cy=\"869.538\" r=\"14\" fill=\"#cd5c5c\" fill-rule=\"evenodd\" fill-opacity=\"1\" stroke=\"none\"/>\n",
       "<circle clip-path=\"url(#clip292)\" cx=\"675.921\" cy=\"861.268\" r=\"14\" fill=\"#cd5c5c\" fill-rule=\"evenodd\" fill-opacity=\"1\" stroke=\"none\"/>\n",
       "<circle clip-path=\"url(#clip292)\" cx=\"681.526\" cy=\"882.826\" r=\"14\" fill=\"#cd5c5c\" fill-rule=\"evenodd\" fill-opacity=\"1\" stroke=\"none\"/>\n",
       "<circle clip-path=\"url(#clip292)\" cx=\"687.13\" cy=\"878.542\" r=\"14\" fill=\"#cd5c5c\" fill-rule=\"evenodd\" fill-opacity=\"1\" stroke=\"none\"/>\n",
       "<circle clip-path=\"url(#clip292)\" cx=\"692.735\" cy=\"873.807\" r=\"14\" fill=\"#cd5c5c\" fill-rule=\"evenodd\" fill-opacity=\"1\" stroke=\"none\"/>\n",
       "<circle clip-path=\"url(#clip292)\" cx=\"698.339\" cy=\"884.804\" r=\"14\" fill=\"#cd5c5c\" fill-rule=\"evenodd\" fill-opacity=\"1\" stroke=\"none\"/>\n",
       "<circle clip-path=\"url(#clip292)\" cx=\"703.944\" cy=\"877.773\" r=\"14\" fill=\"#cd5c5c\" fill-rule=\"evenodd\" fill-opacity=\"1\" stroke=\"none\"/>\n",
       "<circle clip-path=\"url(#clip292)\" cx=\"709.548\" cy=\"880.851\" r=\"14\" fill=\"#cd5c5c\" fill-rule=\"evenodd\" fill-opacity=\"1\" stroke=\"none\"/>\n",
       "<circle clip-path=\"url(#clip292)\" cx=\"715.152\" cy=\"883.504\" r=\"14\" fill=\"#cd5c5c\" fill-rule=\"evenodd\" fill-opacity=\"1\" stroke=\"none\"/>\n",
       "<circle clip-path=\"url(#clip292)\" cx=\"720.757\" cy=\"884.622\" r=\"14\" fill=\"#cd5c5c\" fill-rule=\"evenodd\" fill-opacity=\"1\" stroke=\"none\"/>\n",
       "<circle clip-path=\"url(#clip292)\" cx=\"726.361\" cy=\"881.762\" r=\"14\" fill=\"#cd5c5c\" fill-rule=\"evenodd\" fill-opacity=\"1\" stroke=\"none\"/>\n",
       "<circle clip-path=\"url(#clip292)\" cx=\"731.966\" cy=\"883.991\" r=\"14\" fill=\"#cd5c5c\" fill-rule=\"evenodd\" fill-opacity=\"1\" stroke=\"none\"/>\n",
       "<circle clip-path=\"url(#clip292)\" cx=\"737.57\" cy=\"875.472\" r=\"14\" fill=\"#cd5c5c\" fill-rule=\"evenodd\" fill-opacity=\"1\" stroke=\"none\"/>\n",
       "<circle clip-path=\"url(#clip292)\" cx=\"743.175\" cy=\"878.105\" r=\"14\" fill=\"#cd5c5c\" fill-rule=\"evenodd\" fill-opacity=\"1\" stroke=\"none\"/>\n",
       "<circle clip-path=\"url(#clip292)\" cx=\"748.779\" cy=\"877.458\" r=\"14\" fill=\"#cd5c5c\" fill-rule=\"evenodd\" fill-opacity=\"1\" stroke=\"none\"/>\n",
       "<circle clip-path=\"url(#clip292)\" cx=\"754.384\" cy=\"881.247\" r=\"14\" fill=\"#cd5c5c\" fill-rule=\"evenodd\" fill-opacity=\"1\" stroke=\"none\"/>\n",
       "<circle clip-path=\"url(#clip292)\" cx=\"759.988\" cy=\"874.793\" r=\"14\" fill=\"#cd5c5c\" fill-rule=\"evenodd\" fill-opacity=\"1\" stroke=\"none\"/>\n",
       "<circle clip-path=\"url(#clip292)\" cx=\"765.593\" cy=\"868.137\" r=\"14\" fill=\"#cd5c5c\" fill-rule=\"evenodd\" fill-opacity=\"1\" stroke=\"none\"/>\n",
       "<circle clip-path=\"url(#clip292)\" cx=\"771.197\" cy=\"880.664\" r=\"14\" fill=\"#cd5c5c\" fill-rule=\"evenodd\" fill-opacity=\"1\" stroke=\"none\"/>\n",
       "<circle clip-path=\"url(#clip292)\" cx=\"776.801\" cy=\"879.359\" r=\"14\" fill=\"#cd5c5c\" fill-rule=\"evenodd\" fill-opacity=\"1\" stroke=\"none\"/>\n",
       "<circle clip-path=\"url(#clip292)\" cx=\"782.406\" cy=\"882.712\" r=\"14\" fill=\"#cd5c5c\" fill-rule=\"evenodd\" fill-opacity=\"1\" stroke=\"none\"/>\n",
       "<circle clip-path=\"url(#clip292)\" cx=\"788.01\" cy=\"875.756\" r=\"14\" fill=\"#cd5c5c\" fill-rule=\"evenodd\" fill-opacity=\"1\" stroke=\"none\"/>\n",
       "<circle clip-path=\"url(#clip292)\" cx=\"793.615\" cy=\"883.546\" r=\"14\" fill=\"#cd5c5c\" fill-rule=\"evenodd\" fill-opacity=\"1\" stroke=\"none\"/>\n",
       "<circle clip-path=\"url(#clip292)\" cx=\"799.219\" cy=\"874.793\" r=\"14\" fill=\"#cd5c5c\" fill-rule=\"evenodd\" fill-opacity=\"1\" stroke=\"none\"/>\n",
       "<circle clip-path=\"url(#clip292)\" cx=\"804.824\" cy=\"868.289\" r=\"14\" fill=\"#cd5c5c\" fill-rule=\"evenodd\" fill-opacity=\"1\" stroke=\"none\"/>\n",
       "<circle clip-path=\"url(#clip292)\" cx=\"810.428\" cy=\"873.039\" r=\"14\" fill=\"#cd5c5c\" fill-rule=\"evenodd\" fill-opacity=\"1\" stroke=\"none\"/>\n",
       "<circle clip-path=\"url(#clip292)\" cx=\"816.033\" cy=\"881.668\" r=\"14\" fill=\"#cd5c5c\" fill-rule=\"evenodd\" fill-opacity=\"1\" stroke=\"none\"/>\n",
       "<circle clip-path=\"url(#clip292)\" cx=\"821.637\" cy=\"877.426\" r=\"14\" fill=\"#cd5c5c\" fill-rule=\"evenodd\" fill-opacity=\"1\" stroke=\"none\"/>\n",
       "<circle clip-path=\"url(#clip292)\" cx=\"827.242\" cy=\"882.41\" r=\"14\" fill=\"#cd5c5c\" fill-rule=\"evenodd\" fill-opacity=\"1\" stroke=\"none\"/>\n",
       "<circle clip-path=\"url(#clip292)\" cx=\"832.846\" cy=\"877.16\" r=\"14\" fill=\"#cd5c5c\" fill-rule=\"evenodd\" fill-opacity=\"1\" stroke=\"none\"/>\n",
       "<circle clip-path=\"url(#clip292)\" cx=\"838.451\" cy=\"885.031\" r=\"14\" fill=\"#cd5c5c\" fill-rule=\"evenodd\" fill-opacity=\"1\" stroke=\"none\"/>\n",
       "<circle clip-path=\"url(#clip292)\" cx=\"844.055\" cy=\"864.687\" r=\"14\" fill=\"#cd5c5c\" fill-rule=\"evenodd\" fill-opacity=\"1\" stroke=\"none\"/>\n",
       "<circle clip-path=\"url(#clip292)\" cx=\"849.659\" cy=\"874.452\" r=\"14\" fill=\"#cd5c5c\" fill-rule=\"evenodd\" fill-opacity=\"1\" stroke=\"none\"/>\n",
       "<circle clip-path=\"url(#clip292)\" cx=\"855.264\" cy=\"878.43\" r=\"14\" fill=\"#cd5c5c\" fill-rule=\"evenodd\" fill-opacity=\"1\" stroke=\"none\"/>\n",
       "<circle clip-path=\"url(#clip292)\" cx=\"860.868\" cy=\"878.759\" r=\"14\" fill=\"#cd5c5c\" fill-rule=\"evenodd\" fill-opacity=\"1\" stroke=\"none\"/>\n",
       "<circle clip-path=\"url(#clip292)\" cx=\"866.473\" cy=\"870.125\" r=\"14\" fill=\"#cd5c5c\" fill-rule=\"evenodd\" fill-opacity=\"1\" stroke=\"none\"/>\n",
       "<circle clip-path=\"url(#clip292)\" cx=\"872.077\" cy=\"870.031\" r=\"14\" fill=\"#cd5c5c\" fill-rule=\"evenodd\" fill-opacity=\"1\" stroke=\"none\"/>\n",
       "<circle clip-path=\"url(#clip292)\" cx=\"877.682\" cy=\"879.086\" r=\"14\" fill=\"#cd5c5c\" fill-rule=\"evenodd\" fill-opacity=\"1\" stroke=\"none\"/>\n",
       "<circle clip-path=\"url(#clip292)\" cx=\"883.286\" cy=\"871.23\" r=\"14\" fill=\"#cd5c5c\" fill-rule=\"evenodd\" fill-opacity=\"1\" stroke=\"none\"/>\n",
       "<circle clip-path=\"url(#clip292)\" cx=\"888.891\" cy=\"876.573\" r=\"14\" fill=\"#cd5c5c\" fill-rule=\"evenodd\" fill-opacity=\"1\" stroke=\"none\"/>\n",
       "<circle clip-path=\"url(#clip292)\" cx=\"894.495\" cy=\"880.278\" r=\"14\" fill=\"#cd5c5c\" fill-rule=\"evenodd\" fill-opacity=\"1\" stroke=\"none\"/>\n",
       "<circle clip-path=\"url(#clip292)\" cx=\"900.1\" cy=\"874.145\" r=\"14\" fill=\"#cd5c5c\" fill-rule=\"evenodd\" fill-opacity=\"1\" stroke=\"none\"/>\n",
       "<circle clip-path=\"url(#clip292)\" cx=\"905.704\" cy=\"880.973\" r=\"14\" fill=\"#cd5c5c\" fill-rule=\"evenodd\" fill-opacity=\"1\" stroke=\"none\"/>\n",
       "<circle clip-path=\"url(#clip292)\" cx=\"911.309\" cy=\"881.422\" r=\"14\" fill=\"#cd5c5c\" fill-rule=\"evenodd\" fill-opacity=\"1\" stroke=\"none\"/>\n",
       "<circle clip-path=\"url(#clip292)\" cx=\"916.913\" cy=\"881.062\" r=\"14\" fill=\"#cd5c5c\" fill-rule=\"evenodd\" fill-opacity=\"1\" stroke=\"none\"/>\n",
       "<circle clip-path=\"url(#clip292)\" cx=\"922.517\" cy=\"878.331\" r=\"14\" fill=\"#cd5c5c\" fill-rule=\"evenodd\" fill-opacity=\"1\" stroke=\"none\"/>\n",
       "<circle clip-path=\"url(#clip292)\" cx=\"928.122\" cy=\"885.19\" r=\"14\" fill=\"#cd5c5c\" fill-rule=\"evenodd\" fill-opacity=\"1\" stroke=\"none\"/>\n",
       "<circle clip-path=\"url(#clip292)\" cx=\"933.726\" cy=\"875.773\" r=\"14\" fill=\"#cd5c5c\" fill-rule=\"evenodd\" fill-opacity=\"1\" stroke=\"none\"/>\n",
       "<circle clip-path=\"url(#clip292)\" cx=\"939.331\" cy=\"880.37\" r=\"14\" fill=\"#cd5c5c\" fill-rule=\"evenodd\" fill-opacity=\"1\" stroke=\"none\"/>\n",
       "<circle clip-path=\"url(#clip292)\" cx=\"944.935\" cy=\"879.966\" r=\"14\" fill=\"#cd5c5c\" fill-rule=\"evenodd\" fill-opacity=\"1\" stroke=\"none\"/>\n",
       "<circle clip-path=\"url(#clip292)\" cx=\"950.54\" cy=\"882.592\" r=\"14\" fill=\"#cd5c5c\" fill-rule=\"evenodd\" fill-opacity=\"1\" stroke=\"none\"/>\n",
       "<circle clip-path=\"url(#clip292)\" cx=\"956.144\" cy=\"885.394\" r=\"14\" fill=\"#cd5c5c\" fill-rule=\"evenodd\" fill-opacity=\"1\" stroke=\"none\"/>\n",
       "<circle clip-path=\"url(#clip292)\" cx=\"961.749\" cy=\"885.429\" r=\"14\" fill=\"#cd5c5c\" fill-rule=\"evenodd\" fill-opacity=\"1\" stroke=\"none\"/>\n",
       "<circle clip-path=\"url(#clip292)\" cx=\"967.353\" cy=\"880.288\" r=\"14\" fill=\"#cd5c5c\" fill-rule=\"evenodd\" fill-opacity=\"1\" stroke=\"none\"/>\n",
       "<circle clip-path=\"url(#clip292)\" cx=\"972.958\" cy=\"864.89\" r=\"14\" fill=\"#cd5c5c\" fill-rule=\"evenodd\" fill-opacity=\"1\" stroke=\"none\"/>\n",
       "<circle clip-path=\"url(#clip292)\" cx=\"978.562\" cy=\"874.052\" r=\"14\" fill=\"#cd5c5c\" fill-rule=\"evenodd\" fill-opacity=\"1\" stroke=\"none\"/>\n",
       "<circle clip-path=\"url(#clip292)\" cx=\"984.166\" cy=\"874.049\" r=\"14\" fill=\"#cd5c5c\" fill-rule=\"evenodd\" fill-opacity=\"1\" stroke=\"none\"/>\n",
       "<circle clip-path=\"url(#clip292)\" cx=\"989.771\" cy=\"881.218\" r=\"14\" fill=\"#cd5c5c\" fill-rule=\"evenodd\" fill-opacity=\"1\" stroke=\"none\"/>\n",
       "<circle clip-path=\"url(#clip292)\" cx=\"995.375\" cy=\"879.302\" r=\"14\" fill=\"#cd5c5c\" fill-rule=\"evenodd\" fill-opacity=\"1\" stroke=\"none\"/>\n",
       "<circle clip-path=\"url(#clip292)\" cx=\"1000.98\" cy=\"881.798\" r=\"14\" fill=\"#cd5c5c\" fill-rule=\"evenodd\" fill-opacity=\"1\" stroke=\"none\"/>\n",
       "<circle clip-path=\"url(#clip292)\" cx=\"1006.58\" cy=\"880.899\" r=\"14\" fill=\"#cd5c5c\" fill-rule=\"evenodd\" fill-opacity=\"1\" stroke=\"none\"/>\n",
       "<circle clip-path=\"url(#clip292)\" cx=\"1012.19\" cy=\"884.559\" r=\"14\" fill=\"#cd5c5c\" fill-rule=\"evenodd\" fill-opacity=\"1\" stroke=\"none\"/>\n",
       "<circle clip-path=\"url(#clip292)\" cx=\"1017.79\" cy=\"870.41\" r=\"14\" fill=\"#cd5c5c\" fill-rule=\"evenodd\" fill-opacity=\"1\" stroke=\"none\"/>\n",
       "<circle clip-path=\"url(#clip292)\" cx=\"1023.4\" cy=\"867.873\" r=\"14\" fill=\"#cd5c5c\" fill-rule=\"evenodd\" fill-opacity=\"1\" stroke=\"none\"/>\n",
       "<circle clip-path=\"url(#clip292)\" cx=\"1029\" cy=\"875.608\" r=\"14\" fill=\"#cd5c5c\" fill-rule=\"evenodd\" fill-opacity=\"1\" stroke=\"none\"/>\n",
       "<circle clip-path=\"url(#clip292)\" cx=\"1034.61\" cy=\"873.829\" r=\"14\" fill=\"#cd5c5c\" fill-rule=\"evenodd\" fill-opacity=\"1\" stroke=\"none\"/>\n",
       "<circle clip-path=\"url(#clip292)\" cx=\"1040.21\" cy=\"871.229\" r=\"14\" fill=\"#cd5c5c\" fill-rule=\"evenodd\" fill-opacity=\"1\" stroke=\"none\"/>\n",
       "<circle clip-path=\"url(#clip292)\" cx=\"1045.82\" cy=\"884.51\" r=\"14\" fill=\"#cd5c5c\" fill-rule=\"evenodd\" fill-opacity=\"1\" stroke=\"none\"/>\n",
       "<circle clip-path=\"url(#clip292)\" cx=\"1051.42\" cy=\"883.138\" r=\"14\" fill=\"#cd5c5c\" fill-rule=\"evenodd\" fill-opacity=\"1\" stroke=\"none\"/>\n",
       "<circle clip-path=\"url(#clip292)\" cx=\"1057.02\" cy=\"877.566\" r=\"14\" fill=\"#cd5c5c\" fill-rule=\"evenodd\" fill-opacity=\"1\" stroke=\"none\"/>\n",
       "<circle clip-path=\"url(#clip292)\" cx=\"1062.63\" cy=\"886.007\" r=\"14\" fill=\"#cd5c5c\" fill-rule=\"evenodd\" fill-opacity=\"1\" stroke=\"none\"/>\n",
       "<circle clip-path=\"url(#clip292)\" cx=\"1068.23\" cy=\"880.846\" r=\"14\" fill=\"#cd5c5c\" fill-rule=\"evenodd\" fill-opacity=\"1\" stroke=\"none\"/>\n",
       "<circle clip-path=\"url(#clip292)\" cx=\"1073.84\" cy=\"881.937\" r=\"14\" fill=\"#cd5c5c\" fill-rule=\"evenodd\" fill-opacity=\"1\" stroke=\"none\"/>\n",
       "<circle clip-path=\"url(#clip292)\" cx=\"1079.44\" cy=\"877.972\" r=\"14\" fill=\"#cd5c5c\" fill-rule=\"evenodd\" fill-opacity=\"1\" stroke=\"none\"/>\n",
       "<circle clip-path=\"url(#clip292)\" cx=\"1085.05\" cy=\"881.612\" r=\"14\" fill=\"#cd5c5c\" fill-rule=\"evenodd\" fill-opacity=\"1\" stroke=\"none\"/>\n",
       "<circle clip-path=\"url(#clip292)\" cx=\"1090.65\" cy=\"883.763\" r=\"14\" fill=\"#cd5c5c\" fill-rule=\"evenodd\" fill-opacity=\"1\" stroke=\"none\"/>\n",
       "<circle clip-path=\"url(#clip292)\" cx=\"1096.26\" cy=\"884.525\" r=\"14\" fill=\"#cd5c5c\" fill-rule=\"evenodd\" fill-opacity=\"1\" stroke=\"none\"/>\n",
       "<circle clip-path=\"url(#clip292)\" cx=\"1101.86\" cy=\"880.649\" r=\"14\" fill=\"#cd5c5c\" fill-rule=\"evenodd\" fill-opacity=\"1\" stroke=\"none\"/>\n",
       "<circle clip-path=\"url(#clip292)\" cx=\"1107.46\" cy=\"881.784\" r=\"14\" fill=\"#cd5c5c\" fill-rule=\"evenodd\" fill-opacity=\"1\" stroke=\"none\"/>\n",
       "<circle clip-path=\"url(#clip292)\" cx=\"1113.07\" cy=\"876.414\" r=\"14\" fill=\"#cd5c5c\" fill-rule=\"evenodd\" fill-opacity=\"1\" stroke=\"none\"/>\n",
       "<circle clip-path=\"url(#clip292)\" cx=\"1118.67\" cy=\"872.696\" r=\"14\" fill=\"#cd5c5c\" fill-rule=\"evenodd\" fill-opacity=\"1\" stroke=\"none\"/>\n",
       "<circle clip-path=\"url(#clip292)\" cx=\"1124.28\" cy=\"880.017\" r=\"14\" fill=\"#cd5c5c\" fill-rule=\"evenodd\" fill-opacity=\"1\" stroke=\"none\"/>\n",
       "<circle clip-path=\"url(#clip292)\" cx=\"1129.88\" cy=\"877.664\" r=\"14\" fill=\"#cd5c5c\" fill-rule=\"evenodd\" fill-opacity=\"1\" stroke=\"none\"/>\n",
       "<circle clip-path=\"url(#clip292)\" cx=\"1135.49\" cy=\"882.912\" r=\"14\" fill=\"#cd5c5c\" fill-rule=\"evenodd\" fill-opacity=\"1\" stroke=\"none\"/>\n",
       "<circle clip-path=\"url(#clip292)\" cx=\"1141.09\" cy=\"882.017\" r=\"14\" fill=\"#cd5c5c\" fill-rule=\"evenodd\" fill-opacity=\"1\" stroke=\"none\"/>\n",
       "<circle clip-path=\"url(#clip292)\" cx=\"1146.7\" cy=\"880.673\" r=\"14\" fill=\"#cd5c5c\" fill-rule=\"evenodd\" fill-opacity=\"1\" stroke=\"none\"/>\n",
       "<circle clip-path=\"url(#clip292)\" cx=\"1152.3\" cy=\"885.285\" r=\"14\" fill=\"#cd5c5c\" fill-rule=\"evenodd\" fill-opacity=\"1\" stroke=\"none\"/>\n",
       "<circle clip-path=\"url(#clip292)\" cx=\"1157.9\" cy=\"878.516\" r=\"14\" fill=\"#cd5c5c\" fill-rule=\"evenodd\" fill-opacity=\"1\" stroke=\"none\"/>\n",
       "<circle clip-path=\"url(#clip292)\" cx=\"1163.51\" cy=\"884.366\" r=\"14\" fill=\"#cd5c5c\" fill-rule=\"evenodd\" fill-opacity=\"1\" stroke=\"none\"/>\n",
       "<circle clip-path=\"url(#clip292)\" cx=\"1169.11\" cy=\"878.669\" r=\"14\" fill=\"#cd5c5c\" fill-rule=\"evenodd\" fill-opacity=\"1\" stroke=\"none\"/>\n",
       "<circle clip-path=\"url(#clip292)\" cx=\"1174.72\" cy=\"880.351\" r=\"14\" fill=\"#cd5c5c\" fill-rule=\"evenodd\" fill-opacity=\"1\" stroke=\"none\"/>\n",
       "<circle clip-path=\"url(#clip292)\" cx=\"1180.32\" cy=\"876.298\" r=\"14\" fill=\"#cd5c5c\" fill-rule=\"evenodd\" fill-opacity=\"1\" stroke=\"none\"/>\n",
       "<circle clip-path=\"url(#clip292)\" cx=\"1185.93\" cy=\"885.735\" r=\"14\" fill=\"#cd5c5c\" fill-rule=\"evenodd\" fill-opacity=\"1\" stroke=\"none\"/>\n",
       "<circle clip-path=\"url(#clip292)\" cx=\"1191.53\" cy=\"881.531\" r=\"14\" fill=\"#cd5c5c\" fill-rule=\"evenodd\" fill-opacity=\"1\" stroke=\"none\"/>\n",
       "<circle clip-path=\"url(#clip292)\" cx=\"1197.14\" cy=\"883.111\" r=\"14\" fill=\"#cd5c5c\" fill-rule=\"evenodd\" fill-opacity=\"1\" stroke=\"none\"/>\n",
       "<circle clip-path=\"url(#clip292)\" cx=\"1202.74\" cy=\"885.917\" r=\"14\" fill=\"#cd5c5c\" fill-rule=\"evenodd\" fill-opacity=\"1\" stroke=\"none\"/>\n",
       "<circle clip-path=\"url(#clip292)\" cx=\"1208.34\" cy=\"883.14\" r=\"14\" fill=\"#cd5c5c\" fill-rule=\"evenodd\" fill-opacity=\"1\" stroke=\"none\"/>\n",
       "<circle clip-path=\"url(#clip292)\" cx=\"1213.95\" cy=\"884.329\" r=\"14\" fill=\"#cd5c5c\" fill-rule=\"evenodd\" fill-opacity=\"1\" stroke=\"none\"/>\n",
       "<circle clip-path=\"url(#clip292)\" cx=\"1219.55\" cy=\"882.163\" r=\"14\" fill=\"#cd5c5c\" fill-rule=\"evenodd\" fill-opacity=\"1\" stroke=\"none\"/>\n",
       "<circle clip-path=\"url(#clip292)\" cx=\"1225.16\" cy=\"880.273\" r=\"14\" fill=\"#cd5c5c\" fill-rule=\"evenodd\" fill-opacity=\"1\" stroke=\"none\"/>\n",
       "<circle clip-path=\"url(#clip292)\" cx=\"1230.76\" cy=\"882.83\" r=\"14\" fill=\"#cd5c5c\" fill-rule=\"evenodd\" fill-opacity=\"1\" stroke=\"none\"/>\n",
       "<circle clip-path=\"url(#clip292)\" cx=\"1236.37\" cy=\"881.021\" r=\"14\" fill=\"#cd5c5c\" fill-rule=\"evenodd\" fill-opacity=\"1\" stroke=\"none\"/>\n",
       "<circle clip-path=\"url(#clip292)\" cx=\"1241.97\" cy=\"883.745\" r=\"14\" fill=\"#cd5c5c\" fill-rule=\"evenodd\" fill-opacity=\"1\" stroke=\"none\"/>\n",
       "<circle clip-path=\"url(#clip292)\" cx=\"1247.58\" cy=\"883.718\" r=\"14\" fill=\"#cd5c5c\" fill-rule=\"evenodd\" fill-opacity=\"1\" stroke=\"none\"/>\n",
       "<circle clip-path=\"url(#clip292)\" cx=\"1253.18\" cy=\"871.283\" r=\"14\" fill=\"#cd5c5c\" fill-rule=\"evenodd\" fill-opacity=\"1\" stroke=\"none\"/>\n",
       "<circle clip-path=\"url(#clip292)\" cx=\"1258.78\" cy=\"879.422\" r=\"14\" fill=\"#cd5c5c\" fill-rule=\"evenodd\" fill-opacity=\"1\" stroke=\"none\"/>\n",
       "<circle clip-path=\"url(#clip292)\" cx=\"1264.39\" cy=\"885.061\" r=\"14\" fill=\"#cd5c5c\" fill-rule=\"evenodd\" fill-opacity=\"1\" stroke=\"none\"/>\n",
       "<circle clip-path=\"url(#clip292)\" cx=\"1269.99\" cy=\"884.589\" r=\"14\" fill=\"#cd5c5c\" fill-rule=\"evenodd\" fill-opacity=\"1\" stroke=\"none\"/>\n",
       "<circle clip-path=\"url(#clip292)\" cx=\"1275.6\" cy=\"873.27\" r=\"14\" fill=\"#cd5c5c\" fill-rule=\"evenodd\" fill-opacity=\"1\" stroke=\"none\"/>\n",
       "<circle clip-path=\"url(#clip292)\" cx=\"1281.2\" cy=\"882.438\" r=\"14\" fill=\"#cd5c5c\" fill-rule=\"evenodd\" fill-opacity=\"1\" stroke=\"none\"/>\n",
       "<circle clip-path=\"url(#clip292)\" cx=\"1286.81\" cy=\"884.526\" r=\"14\" fill=\"#cd5c5c\" fill-rule=\"evenodd\" fill-opacity=\"1\" stroke=\"none\"/>\n",
       "<circle clip-path=\"url(#clip292)\" cx=\"1292.41\" cy=\"882.372\" r=\"14\" fill=\"#cd5c5c\" fill-rule=\"evenodd\" fill-opacity=\"1\" stroke=\"none\"/>\n",
       "<circle clip-path=\"url(#clip292)\" cx=\"1298.02\" cy=\"877.449\" r=\"14\" fill=\"#cd5c5c\" fill-rule=\"evenodd\" fill-opacity=\"1\" stroke=\"none\"/>\n",
       "<circle clip-path=\"url(#clip292)\" cx=\"1303.62\" cy=\"875.711\" r=\"14\" fill=\"#cd5c5c\" fill-rule=\"evenodd\" fill-opacity=\"1\" stroke=\"none\"/>\n",
       "<circle clip-path=\"url(#clip292)\" cx=\"1309.23\" cy=\"881.744\" r=\"14\" fill=\"#cd5c5c\" fill-rule=\"evenodd\" fill-opacity=\"1\" stroke=\"none\"/>\n",
       "<circle clip-path=\"url(#clip292)\" cx=\"1314.83\" cy=\"882.169\" r=\"14\" fill=\"#cd5c5c\" fill-rule=\"evenodd\" fill-opacity=\"1\" stroke=\"none\"/>\n",
       "<circle clip-path=\"url(#clip292)\" cx=\"1320.43\" cy=\"879.835\" r=\"14\" fill=\"#cd5c5c\" fill-rule=\"evenodd\" fill-opacity=\"1\" stroke=\"none\"/>\n",
       "<circle clip-path=\"url(#clip292)\" cx=\"1326.04\" cy=\"879.05\" r=\"14\" fill=\"#cd5c5c\" fill-rule=\"evenodd\" fill-opacity=\"1\" stroke=\"none\"/>\n",
       "<circle clip-path=\"url(#clip292)\" cx=\"1331.64\" cy=\"884.081\" r=\"14\" fill=\"#cd5c5c\" fill-rule=\"evenodd\" fill-opacity=\"1\" stroke=\"none\"/>\n",
       "<circle clip-path=\"url(#clip292)\" cx=\"1337.25\" cy=\"884.739\" r=\"14\" fill=\"#cd5c5c\" fill-rule=\"evenodd\" fill-opacity=\"1\" stroke=\"none\"/>\n",
       "<circle clip-path=\"url(#clip292)\" cx=\"1342.85\" cy=\"882.761\" r=\"14\" fill=\"#cd5c5c\" fill-rule=\"evenodd\" fill-opacity=\"1\" stroke=\"none\"/>\n",
       "<circle clip-path=\"url(#clip292)\" cx=\"1348.46\" cy=\"881.925\" r=\"14\" fill=\"#cd5c5c\" fill-rule=\"evenodd\" fill-opacity=\"1\" stroke=\"none\"/>\n",
       "<circle clip-path=\"url(#clip292)\" cx=\"1354.06\" cy=\"879.645\" r=\"14\" fill=\"#cd5c5c\" fill-rule=\"evenodd\" fill-opacity=\"1\" stroke=\"none\"/>\n",
       "<circle clip-path=\"url(#clip292)\" cx=\"1359.67\" cy=\"884.68\" r=\"14\" fill=\"#cd5c5c\" fill-rule=\"evenodd\" fill-opacity=\"1\" stroke=\"none\"/>\n",
       "<circle clip-path=\"url(#clip292)\" cx=\"1365.27\" cy=\"877.908\" r=\"14\" fill=\"#cd5c5c\" fill-rule=\"evenodd\" fill-opacity=\"1\" stroke=\"none\"/>\n",
       "<circle clip-path=\"url(#clip292)\" cx=\"1370.87\" cy=\"882.385\" r=\"14\" fill=\"#cd5c5c\" fill-rule=\"evenodd\" fill-opacity=\"1\" stroke=\"none\"/>\n",
       "<circle clip-path=\"url(#clip292)\" cx=\"1376.48\" cy=\"883.072\" r=\"14\" fill=\"#cd5c5c\" fill-rule=\"evenodd\" fill-opacity=\"1\" stroke=\"none\"/>\n",
       "<circle clip-path=\"url(#clip292)\" cx=\"1382.08\" cy=\"883.687\" r=\"14\" fill=\"#cd5c5c\" fill-rule=\"evenodd\" fill-opacity=\"1\" stroke=\"none\"/>\n",
       "<circle clip-path=\"url(#clip292)\" cx=\"1387.69\" cy=\"880.189\" r=\"14\" fill=\"#cd5c5c\" fill-rule=\"evenodd\" fill-opacity=\"1\" stroke=\"none\"/>\n",
       "<circle clip-path=\"url(#clip292)\" cx=\"1393.29\" cy=\"875.787\" r=\"14\" fill=\"#cd5c5c\" fill-rule=\"evenodd\" fill-opacity=\"1\" stroke=\"none\"/>\n",
       "<circle clip-path=\"url(#clip292)\" cx=\"1398.9\" cy=\"879.13\" r=\"14\" fill=\"#cd5c5c\" fill-rule=\"evenodd\" fill-opacity=\"1\" stroke=\"none\"/>\n",
       "<circle clip-path=\"url(#clip292)\" cx=\"1404.5\" cy=\"884.848\" r=\"14\" fill=\"#cd5c5c\" fill-rule=\"evenodd\" fill-opacity=\"1\" stroke=\"none\"/>\n",
       "<circle clip-path=\"url(#clip292)\" cx=\"1410.11\" cy=\"878.78\" r=\"14\" fill=\"#cd5c5c\" fill-rule=\"evenodd\" fill-opacity=\"1\" stroke=\"none\"/>\n",
       "<circle clip-path=\"url(#clip292)\" cx=\"1415.71\" cy=\"877.958\" r=\"14\" fill=\"#cd5c5c\" fill-rule=\"evenodd\" fill-opacity=\"1\" stroke=\"none\"/>\n",
       "<circle clip-path=\"url(#clip292)\" cx=\"1421.31\" cy=\"883.477\" r=\"14\" fill=\"#cd5c5c\" fill-rule=\"evenodd\" fill-opacity=\"1\" stroke=\"none\"/>\n",
       "<circle clip-path=\"url(#clip292)\" cx=\"1426.92\" cy=\"884.105\" r=\"14\" fill=\"#cd5c5c\" fill-rule=\"evenodd\" fill-opacity=\"1\" stroke=\"none\"/>\n",
       "<circle clip-path=\"url(#clip292)\" cx=\"1432.52\" cy=\"880.044\" r=\"14\" fill=\"#cd5c5c\" fill-rule=\"evenodd\" fill-opacity=\"1\" stroke=\"none\"/>\n",
       "<circle clip-path=\"url(#clip292)\" cx=\"1438.13\" cy=\"881.079\" r=\"14\" fill=\"#cd5c5c\" fill-rule=\"evenodd\" fill-opacity=\"1\" stroke=\"none\"/>\n",
       "<circle clip-path=\"url(#clip292)\" cx=\"1443.73\" cy=\"871.668\" r=\"14\" fill=\"#cd5c5c\" fill-rule=\"evenodd\" fill-opacity=\"1\" stroke=\"none\"/>\n",
       "<circle clip-path=\"url(#clip292)\" cx=\"1449.34\" cy=\"879.651\" r=\"14\" fill=\"#cd5c5c\" fill-rule=\"evenodd\" fill-opacity=\"1\" stroke=\"none\"/>\n",
       "<circle clip-path=\"url(#clip292)\" cx=\"1454.94\" cy=\"879.906\" r=\"14\" fill=\"#cd5c5c\" fill-rule=\"evenodd\" fill-opacity=\"1\" stroke=\"none\"/>\n",
       "<circle clip-path=\"url(#clip292)\" cx=\"1460.55\" cy=\"879.587\" r=\"14\" fill=\"#cd5c5c\" fill-rule=\"evenodd\" fill-opacity=\"1\" stroke=\"none\"/>\n",
       "<circle clip-path=\"url(#clip292)\" cx=\"1466.15\" cy=\"880.762\" r=\"14\" fill=\"#cd5c5c\" fill-rule=\"evenodd\" fill-opacity=\"1\" stroke=\"none\"/>\n",
       "<circle clip-path=\"url(#clip292)\" cx=\"1471.75\" cy=\"880.001\" r=\"14\" fill=\"#cd5c5c\" fill-rule=\"evenodd\" fill-opacity=\"1\" stroke=\"none\"/>\n",
       "<circle clip-path=\"url(#clip292)\" cx=\"1477.36\" cy=\"883.854\" r=\"14\" fill=\"#cd5c5c\" fill-rule=\"evenodd\" fill-opacity=\"1\" stroke=\"none\"/>\n",
       "<circle clip-path=\"url(#clip292)\" cx=\"1482.96\" cy=\"878.028\" r=\"14\" fill=\"#cd5c5c\" fill-rule=\"evenodd\" fill-opacity=\"1\" stroke=\"none\"/>\n",
       "<circle clip-path=\"url(#clip292)\" cx=\"1488.57\" cy=\"881.3\" r=\"14\" fill=\"#cd5c5c\" fill-rule=\"evenodd\" fill-opacity=\"1\" stroke=\"none\"/>\n",
       "<circle clip-path=\"url(#clip292)\" cx=\"1494.17\" cy=\"886.157\" r=\"14\" fill=\"#cd5c5c\" fill-rule=\"evenodd\" fill-opacity=\"1\" stroke=\"none\"/>\n",
       "<circle clip-path=\"url(#clip292)\" cx=\"1499.78\" cy=\"881.616\" r=\"14\" fill=\"#cd5c5c\" fill-rule=\"evenodd\" fill-opacity=\"1\" stroke=\"none\"/>\n",
       "<circle clip-path=\"url(#clip292)\" cx=\"1505.38\" cy=\"877.557\" r=\"14\" fill=\"#cd5c5c\" fill-rule=\"evenodd\" fill-opacity=\"1\" stroke=\"none\"/>\n",
       "<circle clip-path=\"url(#clip292)\" cx=\"1510.99\" cy=\"878.427\" r=\"14\" fill=\"#cd5c5c\" fill-rule=\"evenodd\" fill-opacity=\"1\" stroke=\"none\"/>\n",
       "<circle clip-path=\"url(#clip292)\" cx=\"1516.59\" cy=\"880.36\" r=\"14\" fill=\"#cd5c5c\" fill-rule=\"evenodd\" fill-opacity=\"1\" stroke=\"none\"/>\n",
       "<circle clip-path=\"url(#clip292)\" cx=\"1522.19\" cy=\"884.336\" r=\"14\" fill=\"#cd5c5c\" fill-rule=\"evenodd\" fill-opacity=\"1\" stroke=\"none\"/>\n",
       "<circle clip-path=\"url(#clip292)\" cx=\"1527.8\" cy=\"871.78\" r=\"14\" fill=\"#cd5c5c\" fill-rule=\"evenodd\" fill-opacity=\"1\" stroke=\"none\"/>\n",
       "<circle clip-path=\"url(#clip292)\" cx=\"1533.4\" cy=\"877.952\" r=\"14\" fill=\"#cd5c5c\" fill-rule=\"evenodd\" fill-opacity=\"1\" stroke=\"none\"/>\n",
       "<circle clip-path=\"url(#clip292)\" cx=\"1539.01\" cy=\"885.442\" r=\"14\" fill=\"#cd5c5c\" fill-rule=\"evenodd\" fill-opacity=\"1\" stroke=\"none\"/>\n",
       "<circle clip-path=\"url(#clip292)\" cx=\"1544.61\" cy=\"884.583\" r=\"14\" fill=\"#cd5c5c\" fill-rule=\"evenodd\" fill-opacity=\"1\" stroke=\"none\"/>\n",
       "<circle clip-path=\"url(#clip292)\" cx=\"1550.22\" cy=\"882.012\" r=\"14\" fill=\"#cd5c5c\" fill-rule=\"evenodd\" fill-opacity=\"1\" stroke=\"none\"/>\n",
       "<circle clip-path=\"url(#clip292)\" cx=\"1555.82\" cy=\"885.112\" r=\"14\" fill=\"#cd5c5c\" fill-rule=\"evenodd\" fill-opacity=\"1\" stroke=\"none\"/>\n",
       "<circle clip-path=\"url(#clip292)\" cx=\"1561.43\" cy=\"883.178\" r=\"14\" fill=\"#cd5c5c\" fill-rule=\"evenodd\" fill-opacity=\"1\" stroke=\"none\"/>\n",
       "<circle clip-path=\"url(#clip292)\" cx=\"1567.03\" cy=\"866.791\" r=\"14\" fill=\"#cd5c5c\" fill-rule=\"evenodd\" fill-opacity=\"1\" stroke=\"none\"/>\n",
       "<circle clip-path=\"url(#clip292)\" cx=\"1572.63\" cy=\"870.886\" r=\"14\" fill=\"#cd5c5c\" fill-rule=\"evenodd\" fill-opacity=\"1\" stroke=\"none\"/>\n",
       "<circle clip-path=\"url(#clip292)\" cx=\"1578.24\" cy=\"884.419\" r=\"14\" fill=\"#cd5c5c\" fill-rule=\"evenodd\" fill-opacity=\"1\" stroke=\"none\"/>\n",
       "<circle clip-path=\"url(#clip292)\" cx=\"1583.84\" cy=\"876.18\" r=\"14\" fill=\"#cd5c5c\" fill-rule=\"evenodd\" fill-opacity=\"1\" stroke=\"none\"/>\n",
       "<circle clip-path=\"url(#clip292)\" cx=\"1589.45\" cy=\"881.807\" r=\"14\" fill=\"#cd5c5c\" fill-rule=\"evenodd\" fill-opacity=\"1\" stroke=\"none\"/>\n",
       "<circle clip-path=\"url(#clip292)\" cx=\"1595.05\" cy=\"877.96\" r=\"14\" fill=\"#cd5c5c\" fill-rule=\"evenodd\" fill-opacity=\"1\" stroke=\"none\"/>\n",
       "<circle clip-path=\"url(#clip292)\" cx=\"1600.66\" cy=\"881.071\" r=\"14\" fill=\"#cd5c5c\" fill-rule=\"evenodd\" fill-opacity=\"1\" stroke=\"none\"/>\n",
       "<circle clip-path=\"url(#clip292)\" cx=\"1606.26\" cy=\"879.488\" r=\"14\" fill=\"#cd5c5c\" fill-rule=\"evenodd\" fill-opacity=\"1\" stroke=\"none\"/>\n",
       "<circle clip-path=\"url(#clip292)\" cx=\"1611.87\" cy=\"882.328\" r=\"14\" fill=\"#cd5c5c\" fill-rule=\"evenodd\" fill-opacity=\"1\" stroke=\"none\"/>\n",
       "<circle clip-path=\"url(#clip292)\" cx=\"1617.47\" cy=\"880.308\" r=\"14\" fill=\"#cd5c5c\" fill-rule=\"evenodd\" fill-opacity=\"1\" stroke=\"none\"/>\n",
       "<circle clip-path=\"url(#clip292)\" cx=\"1623.07\" cy=\"884.966\" r=\"14\" fill=\"#cd5c5c\" fill-rule=\"evenodd\" fill-opacity=\"1\" stroke=\"none\"/>\n",
       "<circle clip-path=\"url(#clip292)\" cx=\"1628.68\" cy=\"881.158\" r=\"14\" fill=\"#cd5c5c\" fill-rule=\"evenodd\" fill-opacity=\"1\" stroke=\"none\"/>\n",
       "<circle clip-path=\"url(#clip292)\" cx=\"1634.28\" cy=\"879.946\" r=\"14\" fill=\"#cd5c5c\" fill-rule=\"evenodd\" fill-opacity=\"1\" stroke=\"none\"/>\n",
       "<circle clip-path=\"url(#clip292)\" cx=\"1639.89\" cy=\"883.457\" r=\"14\" fill=\"#cd5c5c\" fill-rule=\"evenodd\" fill-opacity=\"1\" stroke=\"none\"/>\n",
       "<circle clip-path=\"url(#clip292)\" cx=\"1645.49\" cy=\"881.731\" r=\"14\" fill=\"#cd5c5c\" fill-rule=\"evenodd\" fill-opacity=\"1\" stroke=\"none\"/>\n",
       "<circle clip-path=\"url(#clip292)\" cx=\"1651.1\" cy=\"877.731\" r=\"14\" fill=\"#cd5c5c\" fill-rule=\"evenodd\" fill-opacity=\"1\" stroke=\"none\"/>\n",
       "<circle clip-path=\"url(#clip292)\" cx=\"1656.7\" cy=\"881.775\" r=\"14\" fill=\"#cd5c5c\" fill-rule=\"evenodd\" fill-opacity=\"1\" stroke=\"none\"/>\n",
       "<circle clip-path=\"url(#clip292)\" cx=\"1662.31\" cy=\"881.6\" r=\"14\" fill=\"#cd5c5c\" fill-rule=\"evenodd\" fill-opacity=\"1\" stroke=\"none\"/>\n",
       "<circle clip-path=\"url(#clip292)\" cx=\"1667.91\" cy=\"880.553\" r=\"14\" fill=\"#cd5c5c\" fill-rule=\"evenodd\" fill-opacity=\"1\" stroke=\"none\"/>\n",
       "<circle clip-path=\"url(#clip292)\" cx=\"1673.51\" cy=\"882.352\" r=\"14\" fill=\"#cd5c5c\" fill-rule=\"evenodd\" fill-opacity=\"1\" stroke=\"none\"/>\n",
       "<circle clip-path=\"url(#clip292)\" cx=\"1679.12\" cy=\"882.307\" r=\"14\" fill=\"#cd5c5c\" fill-rule=\"evenodd\" fill-opacity=\"1\" stroke=\"none\"/>\n",
       "<circle clip-path=\"url(#clip292)\" cx=\"1684.72\" cy=\"885.699\" r=\"14\" fill=\"#cd5c5c\" fill-rule=\"evenodd\" fill-opacity=\"1\" stroke=\"none\"/>\n",
       "<circle clip-path=\"url(#clip292)\" cx=\"1690.33\" cy=\"883.523\" r=\"14\" fill=\"#cd5c5c\" fill-rule=\"evenodd\" fill-opacity=\"1\" stroke=\"none\"/>\n",
       "<circle clip-path=\"url(#clip292)\" cx=\"1695.93\" cy=\"872.708\" r=\"14\" fill=\"#cd5c5c\" fill-rule=\"evenodd\" fill-opacity=\"1\" stroke=\"none\"/>\n",
       "<circle clip-path=\"url(#clip292)\" cx=\"1701.54\" cy=\"882.187\" r=\"14\" fill=\"#cd5c5c\" fill-rule=\"evenodd\" fill-opacity=\"1\" stroke=\"none\"/>\n",
       "<circle clip-path=\"url(#clip292)\" cx=\"1707.14\" cy=\"873.608\" r=\"14\" fill=\"#cd5c5c\" fill-rule=\"evenodd\" fill-opacity=\"1\" stroke=\"none\"/>\n",
       "<circle clip-path=\"url(#clip292)\" cx=\"1712.75\" cy=\"882.907\" r=\"14\" fill=\"#cd5c5c\" fill-rule=\"evenodd\" fill-opacity=\"1\" stroke=\"none\"/>\n",
       "<circle clip-path=\"url(#clip292)\" cx=\"1718.35\" cy=\"866.242\" r=\"14\" fill=\"#cd5c5c\" fill-rule=\"evenodd\" fill-opacity=\"1\" stroke=\"none\"/>\n",
       "<circle clip-path=\"url(#clip292)\" cx=\"1723.96\" cy=\"881.814\" r=\"14\" fill=\"#cd5c5c\" fill-rule=\"evenodd\" fill-opacity=\"1\" stroke=\"none\"/>\n",
       "<circle clip-path=\"url(#clip292)\" cx=\"1729.56\" cy=\"876.538\" r=\"14\" fill=\"#cd5c5c\" fill-rule=\"evenodd\" fill-opacity=\"1\" stroke=\"none\"/>\n",
       "<circle clip-path=\"url(#clip292)\" cx=\"1735.16\" cy=\"873.663\" r=\"14\" fill=\"#cd5c5c\" fill-rule=\"evenodd\" fill-opacity=\"1\" stroke=\"none\"/>\n",
       "<circle clip-path=\"url(#clip292)\" cx=\"1740.77\" cy=\"881.8\" r=\"14\" fill=\"#cd5c5c\" fill-rule=\"evenodd\" fill-opacity=\"1\" stroke=\"none\"/>\n",
       "<circle clip-path=\"url(#clip292)\" cx=\"1746.37\" cy=\"884.743\" r=\"14\" fill=\"#cd5c5c\" fill-rule=\"evenodd\" fill-opacity=\"1\" stroke=\"none\"/>\n",
       "<circle clip-path=\"url(#clip292)\" cx=\"1751.98\" cy=\"883.602\" r=\"14\" fill=\"#cd5c5c\" fill-rule=\"evenodd\" fill-opacity=\"1\" stroke=\"none\"/>\n",
       "<circle clip-path=\"url(#clip292)\" cx=\"1757.58\" cy=\"880.444\" r=\"14\" fill=\"#cd5c5c\" fill-rule=\"evenodd\" fill-opacity=\"1\" stroke=\"none\"/>\n",
       "<circle clip-path=\"url(#clip292)\" cx=\"1763.19\" cy=\"881.102\" r=\"14\" fill=\"#cd5c5c\" fill-rule=\"evenodd\" fill-opacity=\"1\" stroke=\"none\"/>\n",
       "<circle clip-path=\"url(#clip292)\" cx=\"1768.79\" cy=\"884.66\" r=\"14\" fill=\"#cd5c5c\" fill-rule=\"evenodd\" fill-opacity=\"1\" stroke=\"none\"/>\n",
       "<circle clip-path=\"url(#clip292)\" cx=\"1774.4\" cy=\"878.028\" r=\"14\" fill=\"#cd5c5c\" fill-rule=\"evenodd\" fill-opacity=\"1\" stroke=\"none\"/>\n",
       "<circle clip-path=\"url(#clip292)\" cx=\"1780\" cy=\"876.011\" r=\"14\" fill=\"#cd5c5c\" fill-rule=\"evenodd\" fill-opacity=\"1\" stroke=\"none\"/>\n",
       "<circle clip-path=\"url(#clip292)\" cx=\"1785.6\" cy=\"881.576\" r=\"14\" fill=\"#cd5c5c\" fill-rule=\"evenodd\" fill-opacity=\"1\" stroke=\"none\"/>\n",
       "<circle clip-path=\"url(#clip292)\" cx=\"1791.21\" cy=\"878.453\" r=\"14\" fill=\"#cd5c5c\" fill-rule=\"evenodd\" fill-opacity=\"1\" stroke=\"none\"/>\n",
       "<circle clip-path=\"url(#clip292)\" cx=\"1796.81\" cy=\"875.444\" r=\"14\" fill=\"#cd5c5c\" fill-rule=\"evenodd\" fill-opacity=\"1\" stroke=\"none\"/>\n",
       "<circle clip-path=\"url(#clip292)\" cx=\"1802.42\" cy=\"882.105\" r=\"14\" fill=\"#cd5c5c\" fill-rule=\"evenodd\" fill-opacity=\"1\" stroke=\"none\"/>\n",
       "<circle clip-path=\"url(#clip292)\" cx=\"1808.02\" cy=\"885.663\" r=\"14\" fill=\"#cd5c5c\" fill-rule=\"evenodd\" fill-opacity=\"1\" stroke=\"none\"/>\n",
       "<circle clip-path=\"url(#clip292)\" cx=\"1813.63\" cy=\"872.964\" r=\"14\" fill=\"#cd5c5c\" fill-rule=\"evenodd\" fill-opacity=\"1\" stroke=\"none\"/>\n",
       "<circle clip-path=\"url(#clip292)\" cx=\"1819.23\" cy=\"884.894\" r=\"14\" fill=\"#cd5c5c\" fill-rule=\"evenodd\" fill-opacity=\"1\" stroke=\"none\"/>\n",
       "<circle clip-path=\"url(#clip292)\" cx=\"1824.84\" cy=\"884.535\" r=\"14\" fill=\"#cd5c5c\" fill-rule=\"evenodd\" fill-opacity=\"1\" stroke=\"none\"/>\n",
       "<circle clip-path=\"url(#clip292)\" cx=\"1830.44\" cy=\"882.18\" r=\"14\" fill=\"#cd5c5c\" fill-rule=\"evenodd\" fill-opacity=\"1\" stroke=\"none\"/>\n",
       "<circle clip-path=\"url(#clip292)\" cx=\"1836.04\" cy=\"883.768\" r=\"14\" fill=\"#cd5c5c\" fill-rule=\"evenodd\" fill-opacity=\"1\" stroke=\"none\"/>\n",
       "<circle clip-path=\"url(#clip292)\" cx=\"1841.65\" cy=\"883.437\" r=\"14\" fill=\"#cd5c5c\" fill-rule=\"evenodd\" fill-opacity=\"1\" stroke=\"none\"/>\n",
       "<circle clip-path=\"url(#clip292)\" cx=\"1847.25\" cy=\"868.483\" r=\"14\" fill=\"#cd5c5c\" fill-rule=\"evenodd\" fill-opacity=\"1\" stroke=\"none\"/>\n",
       "<circle clip-path=\"url(#clip292)\" cx=\"1852.86\" cy=\"884.059\" r=\"14\" fill=\"#cd5c5c\" fill-rule=\"evenodd\" fill-opacity=\"1\" stroke=\"none\"/>\n",
       "<circle clip-path=\"url(#clip292)\" cx=\"1858.46\" cy=\"870.014\" r=\"14\" fill=\"#cd5c5c\" fill-rule=\"evenodd\" fill-opacity=\"1\" stroke=\"none\"/>\n",
       "<circle clip-path=\"url(#clip292)\" cx=\"1864.07\" cy=\"885.173\" r=\"14\" fill=\"#cd5c5c\" fill-rule=\"evenodd\" fill-opacity=\"1\" stroke=\"none\"/>\n",
       "<circle clip-path=\"url(#clip292)\" cx=\"1869.67\" cy=\"868.926\" r=\"14\" fill=\"#cd5c5c\" fill-rule=\"evenodd\" fill-opacity=\"1\" stroke=\"none\"/>\n",
       "<circle clip-path=\"url(#clip292)\" cx=\"1875.28\" cy=\"877.875\" r=\"14\" fill=\"#cd5c5c\" fill-rule=\"evenodd\" fill-opacity=\"1\" stroke=\"none\"/>\n",
       "<circle clip-path=\"url(#clip292)\" cx=\"1880.88\" cy=\"882.639\" r=\"14\" fill=\"#cd5c5c\" fill-rule=\"evenodd\" fill-opacity=\"1\" stroke=\"none\"/>\n",
       "<circle clip-path=\"url(#clip292)\" cx=\"1886.48\" cy=\"878.693\" r=\"14\" fill=\"#cd5c5c\" fill-rule=\"evenodd\" fill-opacity=\"1\" stroke=\"none\"/>\n",
       "<circle clip-path=\"url(#clip292)\" cx=\"1892.09\" cy=\"882.943\" r=\"14\" fill=\"#cd5c5c\" fill-rule=\"evenodd\" fill-opacity=\"1\" stroke=\"none\"/>\n",
       "<circle clip-path=\"url(#clip292)\" cx=\"1897.69\" cy=\"871.687\" r=\"14\" fill=\"#cd5c5c\" fill-rule=\"evenodd\" fill-opacity=\"1\" stroke=\"none\"/>\n",
       "<circle clip-path=\"url(#clip292)\" cx=\"1903.3\" cy=\"885.58\" r=\"14\" fill=\"#cd5c5c\" fill-rule=\"evenodd\" fill-opacity=\"1\" stroke=\"none\"/>\n",
       "<circle clip-path=\"url(#clip292)\" cx=\"1908.9\" cy=\"877.773\" r=\"14\" fill=\"#cd5c5c\" fill-rule=\"evenodd\" fill-opacity=\"1\" stroke=\"none\"/>\n",
       "<circle clip-path=\"url(#clip292)\" cx=\"1914.51\" cy=\"880.278\" r=\"14\" fill=\"#cd5c5c\" fill-rule=\"evenodd\" fill-opacity=\"1\" stroke=\"none\"/>\n",
       "<circle clip-path=\"url(#clip292)\" cx=\"1920.11\" cy=\"885.071\" r=\"14\" fill=\"#cd5c5c\" fill-rule=\"evenodd\" fill-opacity=\"1\" stroke=\"none\"/>\n",
       "<circle clip-path=\"url(#clip292)\" cx=\"1925.72\" cy=\"884.408\" r=\"14\" fill=\"#cd5c5c\" fill-rule=\"evenodd\" fill-opacity=\"1\" stroke=\"none\"/>\n",
       "<circle clip-path=\"url(#clip292)\" cx=\"1931.32\" cy=\"879.447\" r=\"14\" fill=\"#cd5c5c\" fill-rule=\"evenodd\" fill-opacity=\"1\" stroke=\"none\"/>\n",
       "<circle clip-path=\"url(#clip292)\" cx=\"1936.92\" cy=\"875.506\" r=\"14\" fill=\"#cd5c5c\" fill-rule=\"evenodd\" fill-opacity=\"1\" stroke=\"none\"/>\n",
       "<circle clip-path=\"url(#clip292)\" cx=\"1942.53\" cy=\"881.898\" r=\"14\" fill=\"#cd5c5c\" fill-rule=\"evenodd\" fill-opacity=\"1\" stroke=\"none\"/>\n",
       "<circle clip-path=\"url(#clip292)\" cx=\"1948.13\" cy=\"880.81\" r=\"14\" fill=\"#cd5c5c\" fill-rule=\"evenodd\" fill-opacity=\"1\" stroke=\"none\"/>\n",
       "<circle clip-path=\"url(#clip292)\" cx=\"1953.74\" cy=\"884.266\" r=\"14\" fill=\"#cd5c5c\" fill-rule=\"evenodd\" fill-opacity=\"1\" stroke=\"none\"/>\n",
       "<circle clip-path=\"url(#clip292)\" cx=\"1959.34\" cy=\"882.103\" r=\"14\" fill=\"#cd5c5c\" fill-rule=\"evenodd\" fill-opacity=\"1\" stroke=\"none\"/>\n",
       "<circle clip-path=\"url(#clip292)\" cx=\"1964.95\" cy=\"880.701\" r=\"14\" fill=\"#cd5c5c\" fill-rule=\"evenodd\" fill-opacity=\"1\" stroke=\"none\"/>\n",
       "<circle clip-path=\"url(#clip292)\" cx=\"1970.55\" cy=\"880.121\" r=\"14\" fill=\"#cd5c5c\" fill-rule=\"evenodd\" fill-opacity=\"1\" stroke=\"none\"/>\n",
       "<circle clip-path=\"url(#clip292)\" cx=\"1976.16\" cy=\"876.555\" r=\"14\" fill=\"#cd5c5c\" fill-rule=\"evenodd\" fill-opacity=\"1\" stroke=\"none\"/>\n",
       "<circle clip-path=\"url(#clip292)\" cx=\"1981.76\" cy=\"880.237\" r=\"14\" fill=\"#cd5c5c\" fill-rule=\"evenodd\" fill-opacity=\"1\" stroke=\"none\"/>\n",
       "<circle clip-path=\"url(#clip292)\" cx=\"1987.36\" cy=\"875.77\" r=\"14\" fill=\"#cd5c5c\" fill-rule=\"evenodd\" fill-opacity=\"1\" stroke=\"none\"/>\n",
       "<circle clip-path=\"url(#clip292)\" cx=\"1992.97\" cy=\"884.692\" r=\"14\" fill=\"#cd5c5c\" fill-rule=\"evenodd\" fill-opacity=\"1\" stroke=\"none\"/>\n",
       "<circle clip-path=\"url(#clip292)\" cx=\"1998.57\" cy=\"882.347\" r=\"14\" fill=\"#cd5c5c\" fill-rule=\"evenodd\" fill-opacity=\"1\" stroke=\"none\"/>\n",
       "<circle clip-path=\"url(#clip292)\" cx=\"2004.18\" cy=\"880.891\" r=\"14\" fill=\"#cd5c5c\" fill-rule=\"evenodd\" fill-opacity=\"1\" stroke=\"none\"/>\n",
       "<circle clip-path=\"url(#clip292)\" cx=\"2009.78\" cy=\"879.207\" r=\"14\" fill=\"#cd5c5c\" fill-rule=\"evenodd\" fill-opacity=\"1\" stroke=\"none\"/>\n",
       "<circle clip-path=\"url(#clip292)\" cx=\"2015.39\" cy=\"883.144\" r=\"14\" fill=\"#cd5c5c\" fill-rule=\"evenodd\" fill-opacity=\"1\" stroke=\"none\"/>\n",
       "<circle clip-path=\"url(#clip292)\" cx=\"2020.99\" cy=\"882.82\" r=\"14\" fill=\"#cd5c5c\" fill-rule=\"evenodd\" fill-opacity=\"1\" stroke=\"none\"/>\n",
       "<circle clip-path=\"url(#clip292)\" cx=\"2026.6\" cy=\"874.764\" r=\"14\" fill=\"#cd5c5c\" fill-rule=\"evenodd\" fill-opacity=\"1\" stroke=\"none\"/>\n",
       "<circle clip-path=\"url(#clip292)\" cx=\"2032.2\" cy=\"876.155\" r=\"14\" fill=\"#cd5c5c\" fill-rule=\"evenodd\" fill-opacity=\"1\" stroke=\"none\"/>\n",
       "<circle clip-path=\"url(#clip292)\" cx=\"2037.8\" cy=\"885.25\" r=\"14\" fill=\"#cd5c5c\" fill-rule=\"evenodd\" fill-opacity=\"1\" stroke=\"none\"/>\n",
       "<circle clip-path=\"url(#clip292)\" cx=\"2043.41\" cy=\"883.622\" r=\"14\" fill=\"#cd5c5c\" fill-rule=\"evenodd\" fill-opacity=\"1\" stroke=\"none\"/>\n",
       "<circle clip-path=\"url(#clip292)\" cx=\"2049.01\" cy=\"879.323\" r=\"14\" fill=\"#cd5c5c\" fill-rule=\"evenodd\" fill-opacity=\"1\" stroke=\"none\"/>\n",
       "<circle clip-path=\"url(#clip292)\" cx=\"2054.62\" cy=\"885.111\" r=\"14\" fill=\"#cd5c5c\" fill-rule=\"evenodd\" fill-opacity=\"1\" stroke=\"none\"/>\n",
       "<circle clip-path=\"url(#clip292)\" cx=\"2060.22\" cy=\"885.531\" r=\"14\" fill=\"#cd5c5c\" fill-rule=\"evenodd\" fill-opacity=\"1\" stroke=\"none\"/>\n",
       "<circle clip-path=\"url(#clip292)\" cx=\"2065.83\" cy=\"884.245\" r=\"14\" fill=\"#cd5c5c\" fill-rule=\"evenodd\" fill-opacity=\"1\" stroke=\"none\"/>\n",
       "<circle clip-path=\"url(#clip292)\" cx=\"2071.43\" cy=\"879.972\" r=\"14\" fill=\"#cd5c5c\" fill-rule=\"evenodd\" fill-opacity=\"1\" stroke=\"none\"/>\n",
       "<circle clip-path=\"url(#clip292)\" cx=\"2077.04\" cy=\"885.752\" r=\"14\" fill=\"#cd5c5c\" fill-rule=\"evenodd\" fill-opacity=\"1\" stroke=\"none\"/>\n",
       "<circle clip-path=\"url(#clip292)\" cx=\"2082.64\" cy=\"886.105\" r=\"14\" fill=\"#cd5c5c\" fill-rule=\"evenodd\" fill-opacity=\"1\" stroke=\"none\"/>\n",
       "<circle clip-path=\"url(#clip292)\" cx=\"2088.24\" cy=\"877.871\" r=\"14\" fill=\"#cd5c5c\" fill-rule=\"evenodd\" fill-opacity=\"1\" stroke=\"none\"/>\n",
       "<circle clip-path=\"url(#clip292)\" cx=\"2093.85\" cy=\"877.001\" r=\"14\" fill=\"#cd5c5c\" fill-rule=\"evenodd\" fill-opacity=\"1\" stroke=\"none\"/>\n",
       "<circle clip-path=\"url(#clip292)\" cx=\"2099.45\" cy=\"878.854\" r=\"14\" fill=\"#cd5c5c\" fill-rule=\"evenodd\" fill-opacity=\"1\" stroke=\"none\"/>\n",
       "<circle clip-path=\"url(#clip292)\" cx=\"2105.06\" cy=\"886.367\" r=\"14\" fill=\"#cd5c5c\" fill-rule=\"evenodd\" fill-opacity=\"1\" stroke=\"none\"/>\n",
       "<circle clip-path=\"url(#clip292)\" cx=\"2110.66\" cy=\"881.151\" r=\"14\" fill=\"#cd5c5c\" fill-rule=\"evenodd\" fill-opacity=\"1\" stroke=\"none\"/>\n",
       "<circle clip-path=\"url(#clip292)\" cx=\"2116.27\" cy=\"883.681\" r=\"14\" fill=\"#cd5c5c\" fill-rule=\"evenodd\" fill-opacity=\"1\" stroke=\"none\"/>\n",
       "<circle clip-path=\"url(#clip292)\" cx=\"2121.87\" cy=\"882.77\" r=\"14\" fill=\"#cd5c5c\" fill-rule=\"evenodd\" fill-opacity=\"1\" stroke=\"none\"/>\n",
       "<circle clip-path=\"url(#clip292)\" cx=\"2127.48\" cy=\"882.305\" r=\"14\" fill=\"#cd5c5c\" fill-rule=\"evenodd\" fill-opacity=\"1\" stroke=\"none\"/>\n",
       "<circle clip-path=\"url(#clip292)\" cx=\"2133.08\" cy=\"874.764\" r=\"14\" fill=\"#cd5c5c\" fill-rule=\"evenodd\" fill-opacity=\"1\" stroke=\"none\"/>\n",
       "<circle clip-path=\"url(#clip292)\" cx=\"2138.69\" cy=\"878.365\" r=\"14\" fill=\"#cd5c5c\" fill-rule=\"evenodd\" fill-opacity=\"1\" stroke=\"none\"/>\n",
       "<circle clip-path=\"url(#clip292)\" cx=\"2144.29\" cy=\"880.566\" r=\"14\" fill=\"#cd5c5c\" fill-rule=\"evenodd\" fill-opacity=\"1\" stroke=\"none\"/>\n",
       "<circle clip-path=\"url(#clip292)\" cx=\"2149.89\" cy=\"885.32\" r=\"14\" fill=\"#cd5c5c\" fill-rule=\"evenodd\" fill-opacity=\"1\" stroke=\"none\"/>\n",
       "<circle clip-path=\"url(#clip292)\" cx=\"2155.5\" cy=\"878.343\" r=\"14\" fill=\"#cd5c5c\" fill-rule=\"evenodd\" fill-opacity=\"1\" stroke=\"none\"/>\n",
       "<circle clip-path=\"url(#clip292)\" cx=\"2161.1\" cy=\"885.158\" r=\"14\" fill=\"#cd5c5c\" fill-rule=\"evenodd\" fill-opacity=\"1\" stroke=\"none\"/>\n",
       "<circle clip-path=\"url(#clip292)\" cx=\"2166.71\" cy=\"876.973\" r=\"14\" fill=\"#cd5c5c\" fill-rule=\"evenodd\" fill-opacity=\"1\" stroke=\"none\"/>\n",
       "<circle clip-path=\"url(#clip292)\" cx=\"2172.31\" cy=\"883.598\" r=\"14\" fill=\"#cd5c5c\" fill-rule=\"evenodd\" fill-opacity=\"1\" stroke=\"none\"/>\n",
       "<circle clip-path=\"url(#clip292)\" cx=\"2177.92\" cy=\"884.703\" r=\"14\" fill=\"#cd5c5c\" fill-rule=\"evenodd\" fill-opacity=\"1\" stroke=\"none\"/>\n",
       "<circle clip-path=\"url(#clip292)\" cx=\"2183.52\" cy=\"883.672\" r=\"14\" fill=\"#cd5c5c\" fill-rule=\"evenodd\" fill-opacity=\"1\" stroke=\"none\"/>\n",
       "<circle clip-path=\"url(#clip292)\" cx=\"2189.13\" cy=\"882.688\" r=\"14\" fill=\"#cd5c5c\" fill-rule=\"evenodd\" fill-opacity=\"1\" stroke=\"none\"/>\n",
       "<circle clip-path=\"url(#clip292)\" cx=\"2194.73\" cy=\"881.305\" r=\"14\" fill=\"#cd5c5c\" fill-rule=\"evenodd\" fill-opacity=\"1\" stroke=\"none\"/>\n",
       "<circle clip-path=\"url(#clip292)\" cx=\"2200.33\" cy=\"878.51\" r=\"14\" fill=\"#cd5c5c\" fill-rule=\"evenodd\" fill-opacity=\"1\" stroke=\"none\"/>\n",
       "<circle clip-path=\"url(#clip292)\" cx=\"2205.94\" cy=\"886.028\" r=\"14\" fill=\"#cd5c5c\" fill-rule=\"evenodd\" fill-opacity=\"1\" stroke=\"none\"/>\n",
       "<circle clip-path=\"url(#clip292)\" cx=\"2211.54\" cy=\"879.073\" r=\"14\" fill=\"#cd5c5c\" fill-rule=\"evenodd\" fill-opacity=\"1\" stroke=\"none\"/>\n",
       "<circle clip-path=\"url(#clip292)\" cx=\"2217.15\" cy=\"882.481\" r=\"14\" fill=\"#cd5c5c\" fill-rule=\"evenodd\" fill-opacity=\"1\" stroke=\"none\"/>\n",
       "<circle clip-path=\"url(#clip292)\" cx=\"2222.75\" cy=\"875.838\" r=\"14\" fill=\"#cd5c5c\" fill-rule=\"evenodd\" fill-opacity=\"1\" stroke=\"none\"/>\n",
       "<circle clip-path=\"url(#clip292)\" cx=\"2228.36\" cy=\"874.103\" r=\"14\" fill=\"#cd5c5c\" fill-rule=\"evenodd\" fill-opacity=\"1\" stroke=\"none\"/>\n",
       "<circle clip-path=\"url(#clip292)\" cx=\"2233.96\" cy=\"883.742\" r=\"14\" fill=\"#cd5c5c\" fill-rule=\"evenodd\" fill-opacity=\"1\" stroke=\"none\"/>\n",
       "<circle clip-path=\"url(#clip292)\" cx=\"2239.57\" cy=\"877.805\" r=\"14\" fill=\"#cd5c5c\" fill-rule=\"evenodd\" fill-opacity=\"1\" stroke=\"none\"/>\n",
       "<circle clip-path=\"url(#clip292)\" cx=\"2245.17\" cy=\"883.233\" r=\"14\" fill=\"#cd5c5c\" fill-rule=\"evenodd\" fill-opacity=\"1\" stroke=\"none\"/>\n",
       "<circle clip-path=\"url(#clip292)\" cx=\"2250.77\" cy=\"877.366\" r=\"14\" fill=\"#cd5c5c\" fill-rule=\"evenodd\" fill-opacity=\"1\" stroke=\"none\"/>\n",
       "<circle clip-path=\"url(#clip292)\" cx=\"2256.38\" cy=\"883.632\" r=\"14\" fill=\"#cd5c5c\" fill-rule=\"evenodd\" fill-opacity=\"1\" stroke=\"none\"/>\n",
       "<circle clip-path=\"url(#clip292)\" cx=\"2261.98\" cy=\"878.545\" r=\"14\" fill=\"#cd5c5c\" fill-rule=\"evenodd\" fill-opacity=\"1\" stroke=\"none\"/>\n",
       "<circle clip-path=\"url(#clip292)\" cx=\"2267.59\" cy=\"880.936\" r=\"14\" fill=\"#cd5c5c\" fill-rule=\"evenodd\" fill-opacity=\"1\" stroke=\"none\"/>\n",
       "<circle clip-path=\"url(#clip292)\" cx=\"2273.19\" cy=\"882.259\" r=\"14\" fill=\"#cd5c5c\" fill-rule=\"evenodd\" fill-opacity=\"1\" stroke=\"none\"/>\n",
       "<circle clip-path=\"url(#clip292)\" cx=\"2278.8\" cy=\"870.208\" r=\"14\" fill=\"#cd5c5c\" fill-rule=\"evenodd\" fill-opacity=\"1\" stroke=\"none\"/>\n",
       "<circle clip-path=\"url(#clip292)\" cx=\"2284.4\" cy=\"883.236\" r=\"14\" fill=\"#cd5c5c\" fill-rule=\"evenodd\" fill-opacity=\"1\" stroke=\"none\"/>\n",
       "<circle clip-path=\"url(#clip292)\" cx=\"2290.01\" cy=\"886.01\" r=\"14\" fill=\"#cd5c5c\" fill-rule=\"evenodd\" fill-opacity=\"1\" stroke=\"none\"/>\n",
       "<circle clip-path=\"url(#clip292)\" cx=\"2295.61\" cy=\"881.115\" r=\"14\" fill=\"#cd5c5c\" fill-rule=\"evenodd\" fill-opacity=\"1\" stroke=\"none\"/>\n",
       "<circle clip-path=\"url(#clip292)\" cx=\"2301.21\" cy=\"884.507\" r=\"14\" fill=\"#cd5c5c\" fill-rule=\"evenodd\" fill-opacity=\"1\" stroke=\"none\"/>\n",
       "<circle clip-path=\"url(#clip292)\" cx=\"2306.82\" cy=\"881.455\" r=\"14\" fill=\"#cd5c5c\" fill-rule=\"evenodd\" fill-opacity=\"1\" stroke=\"none\"/>\n",
       "<circle clip-path=\"url(#clip292)\" cx=\"2312.42\" cy=\"880.345\" r=\"14\" fill=\"#cd5c5c\" fill-rule=\"evenodd\" fill-opacity=\"1\" stroke=\"none\"/>\n",
       "<circle clip-path=\"url(#clip292)\" cx=\"2318.03\" cy=\"883.119\" r=\"14\" fill=\"#cd5c5c\" fill-rule=\"evenodd\" fill-opacity=\"1\" stroke=\"none\"/>\n",
       "<circle clip-path=\"url(#clip292)\" cx=\"2323.63\" cy=\"872.598\" r=\"14\" fill=\"#cd5c5c\" fill-rule=\"evenodd\" fill-opacity=\"1\" stroke=\"none\"/>\n",
       "<circle clip-path=\"url(#clip292)\" cx=\"2329.24\" cy=\"882.726\" r=\"14\" fill=\"#cd5c5c\" fill-rule=\"evenodd\" fill-opacity=\"1\" stroke=\"none\"/>\n",
       "<circle clip-path=\"url(#clip292)\" cx=\"2334.84\" cy=\"881.519\" r=\"14\" fill=\"#cd5c5c\" fill-rule=\"evenodd\" fill-opacity=\"1\" stroke=\"none\"/>\n",
       "<circle clip-path=\"url(#clip292)\" cx=\"2340.45\" cy=\"873.033\" r=\"14\" fill=\"#cd5c5c\" fill-rule=\"evenodd\" fill-opacity=\"1\" stroke=\"none\"/>\n",
       "<circle clip-path=\"url(#clip292)\" cx=\"2346.05\" cy=\"879.33\" r=\"14\" fill=\"#cd5c5c\" fill-rule=\"evenodd\" fill-opacity=\"1\" stroke=\"none\"/>\n",
       "<circle clip-path=\"url(#clip292)\" cx=\"2351.65\" cy=\"877.382\" r=\"14\" fill=\"#cd5c5c\" fill-rule=\"evenodd\" fill-opacity=\"1\" stroke=\"none\"/>\n",
       "<circle clip-path=\"url(#clip292)\" cx=\"2357.26\" cy=\"883.23\" r=\"14\" fill=\"#cd5c5c\" fill-rule=\"evenodd\" fill-opacity=\"1\" stroke=\"none\"/>\n",
       "<circle clip-path=\"url(#clip292)\" cx=\"2362.86\" cy=\"883.699\" r=\"14\" fill=\"#cd5c5c\" fill-rule=\"evenodd\" fill-opacity=\"1\" stroke=\"none\"/>\n",
       "<circle clip-path=\"url(#clip292)\" cx=\"2368.47\" cy=\"880.497\" r=\"14\" fill=\"#cd5c5c\" fill-rule=\"evenodd\" fill-opacity=\"1\" stroke=\"none\"/>\n",
       "<circle clip-path=\"url(#clip292)\" cx=\"2374.07\" cy=\"873.782\" r=\"14\" fill=\"#cd5c5c\" fill-rule=\"evenodd\" fill-opacity=\"1\" stroke=\"none\"/>\n",
       "<circle clip-path=\"url(#clip292)\" cx=\"2379.68\" cy=\"882.477\" r=\"14\" fill=\"#cd5c5c\" fill-rule=\"evenodd\" fill-opacity=\"1\" stroke=\"none\"/>\n",
       "<circle clip-path=\"url(#clip292)\" cx=\"2385.28\" cy=\"881.089\" r=\"14\" fill=\"#cd5c5c\" fill-rule=\"evenodd\" fill-opacity=\"1\" stroke=\"none\"/>\n",
       "<circle clip-path=\"url(#clip292)\" cx=\"2390.89\" cy=\"881.967\" r=\"14\" fill=\"#cd5c5c\" fill-rule=\"evenodd\" fill-opacity=\"1\" stroke=\"none\"/>\n",
       "<circle clip-path=\"url(#clip292)\" cx=\"2396.49\" cy=\"854.227\" r=\"14\" fill=\"#cd5c5c\" fill-rule=\"evenodd\" fill-opacity=\"1\" stroke=\"none\"/>\n",
       "<circle clip-path=\"url(#clip292)\" cx=\"2402.09\" cy=\"880.566\" r=\"14\" fill=\"#cd5c5c\" fill-rule=\"evenodd\" fill-opacity=\"1\" stroke=\"none\"/>\n",
       "<circle clip-path=\"url(#clip292)\" cx=\"2407.7\" cy=\"882.254\" r=\"14\" fill=\"#cd5c5c\" fill-rule=\"evenodd\" fill-opacity=\"1\" stroke=\"none\"/>\n",
       "<circle clip-path=\"url(#clip292)\" cx=\"2413.3\" cy=\"882.064\" r=\"14\" fill=\"#cd5c5c\" fill-rule=\"evenodd\" fill-opacity=\"1\" stroke=\"none\"/>\n",
       "<circle clip-path=\"url(#clip292)\" cx=\"2418.91\" cy=\"885.827\" r=\"14\" fill=\"#cd5c5c\" fill-rule=\"evenodd\" fill-opacity=\"1\" stroke=\"none\"/>\n",
       "<circle clip-path=\"url(#clip292)\" cx=\"2424.51\" cy=\"876.398\" r=\"14\" fill=\"#cd5c5c\" fill-rule=\"evenodd\" fill-opacity=\"1\" stroke=\"none\"/>\n",
       "<circle clip-path=\"url(#clip292)\" cx=\"2430.12\" cy=\"870.098\" r=\"14\" fill=\"#cd5c5c\" fill-rule=\"evenodd\" fill-opacity=\"1\" stroke=\"none\"/>\n",
       "<circle clip-path=\"url(#clip292)\" cx=\"2435.72\" cy=\"882.82\" r=\"14\" fill=\"#cd5c5c\" fill-rule=\"evenodd\" fill-opacity=\"1\" stroke=\"none\"/>\n",
       "<circle clip-path=\"url(#clip292)\" cx=\"2441.33\" cy=\"880.437\" r=\"14\" fill=\"#cd5c5c\" fill-rule=\"evenodd\" fill-opacity=\"1\" stroke=\"none\"/>\n",
       "<circle clip-path=\"url(#clip292)\" cx=\"2446.93\" cy=\"880.35\" r=\"14\" fill=\"#cd5c5c\" fill-rule=\"evenodd\" fill-opacity=\"1\" stroke=\"none\"/>\n",
       "<circle clip-path=\"url(#clip292)\" cx=\"2452.53\" cy=\"871.151\" r=\"14\" fill=\"#cd5c5c\" fill-rule=\"evenodd\" fill-opacity=\"1\" stroke=\"none\"/>\n",
       "<circle clip-path=\"url(#clip292)\" cx=\"2458.14\" cy=\"881.02\" r=\"14\" fill=\"#cd5c5c\" fill-rule=\"evenodd\" fill-opacity=\"1\" stroke=\"none\"/>\n",
       "<circle clip-path=\"url(#clip292)\" cx=\"2463.74\" cy=\"880.397\" r=\"14\" fill=\"#cd5c5c\" fill-rule=\"evenodd\" fill-opacity=\"1\" stroke=\"none\"/>\n",
       "<circle clip-path=\"url(#clip292)\" cx=\"2469.35\" cy=\"878.879\" r=\"14\" fill=\"#cd5c5c\" fill-rule=\"evenodd\" fill-opacity=\"1\" stroke=\"none\"/>\n",
       "<circle clip-path=\"url(#clip292)\" cx=\"2474.95\" cy=\"872.428\" r=\"14\" fill=\"#cd5c5c\" fill-rule=\"evenodd\" fill-opacity=\"1\" stroke=\"none\"/>\n",
       "<circle clip-path=\"url(#clip292)\" cx=\"2480.56\" cy=\"878.698\" r=\"14\" fill=\"#cd5c5c\" fill-rule=\"evenodd\" fill-opacity=\"1\" stroke=\"none\"/>\n",
       "<circle clip-path=\"url(#clip292)\" cx=\"2486.16\" cy=\"876.932\" r=\"14\" fill=\"#cd5c5c\" fill-rule=\"evenodd\" fill-opacity=\"1\" stroke=\"none\"/>\n",
       "<circle clip-path=\"url(#clip292)\" cx=\"2491.77\" cy=\"860.666\" r=\"14\" fill=\"#cd5c5c\" fill-rule=\"evenodd\" fill-opacity=\"1\" stroke=\"none\"/>\n",
       "<circle clip-path=\"url(#clip292)\" cx=\"2497.37\" cy=\"871.302\" r=\"14\" fill=\"#cd5c5c\" fill-rule=\"evenodd\" fill-opacity=\"1\" stroke=\"none\"/>\n",
       "<circle clip-path=\"url(#clip292)\" cx=\"2502.97\" cy=\"866.932\" r=\"14\" fill=\"#cd5c5c\" fill-rule=\"evenodd\" fill-opacity=\"1\" stroke=\"none\"/>\n",
       "<circle clip-path=\"url(#clip292)\" cx=\"2508.58\" cy=\"878.123\" r=\"14\" fill=\"#cd5c5c\" fill-rule=\"evenodd\" fill-opacity=\"1\" stroke=\"none\"/>\n",
       "<circle clip-path=\"url(#clip292)\" cx=\"2514.18\" cy=\"875.437\" r=\"14\" fill=\"#cd5c5c\" fill-rule=\"evenodd\" fill-opacity=\"1\" stroke=\"none\"/>\n",
       "<circle clip-path=\"url(#clip292)\" cx=\"2519.79\" cy=\"875.802\" r=\"14\" fill=\"#cd5c5c\" fill-rule=\"evenodd\" fill-opacity=\"1\" stroke=\"none\"/>\n",
       "<circle clip-path=\"url(#clip292)\" cx=\"2525.39\" cy=\"879.969\" r=\"14\" fill=\"#cd5c5c\" fill-rule=\"evenodd\" fill-opacity=\"1\" stroke=\"none\"/>\n",
       "<circle clip-path=\"url(#clip292)\" cx=\"2531\" cy=\"883.523\" r=\"14\" fill=\"#cd5c5c\" fill-rule=\"evenodd\" fill-opacity=\"1\" stroke=\"none\"/>\n",
       "<circle clip-path=\"url(#clip292)\" cx=\"2536.6\" cy=\"878.558\" r=\"14\" fill=\"#cd5c5c\" fill-rule=\"evenodd\" fill-opacity=\"1\" stroke=\"none\"/>\n",
       "<circle clip-path=\"url(#clip292)\" cx=\"2542.21\" cy=\"880.191\" r=\"14\" fill=\"#cd5c5c\" fill-rule=\"evenodd\" fill-opacity=\"1\" stroke=\"none\"/>\n",
       "<circle clip-path=\"url(#clip292)\" cx=\"2547.81\" cy=\"870.321\" r=\"14\" fill=\"#cd5c5c\" fill-rule=\"evenodd\" fill-opacity=\"1\" stroke=\"none\"/>\n",
       "<circle clip-path=\"url(#clip292)\" cx=\"2553.42\" cy=\"882.332\" r=\"14\" fill=\"#cd5c5c\" fill-rule=\"evenodd\" fill-opacity=\"1\" stroke=\"none\"/>\n",
       "<circle clip-path=\"url(#clip292)\" cx=\"2559.02\" cy=\"875.285\" r=\"14\" fill=\"#cd5c5c\" fill-rule=\"evenodd\" fill-opacity=\"1\" stroke=\"none\"/>\n",
       "<circle clip-path=\"url(#clip292)\" cx=\"2564.62\" cy=\"877.598\" r=\"14\" fill=\"#cd5c5c\" fill-rule=\"evenodd\" fill-opacity=\"1\" stroke=\"none\"/>\n",
       "<circle clip-path=\"url(#clip292)\" cx=\"2570.23\" cy=\"875.298\" r=\"14\" fill=\"#cd5c5c\" fill-rule=\"evenodd\" fill-opacity=\"1\" stroke=\"none\"/>\n",
       "<circle clip-path=\"url(#clip292)\" cx=\"2575.83\" cy=\"868.484\" r=\"14\" fill=\"#cd5c5c\" fill-rule=\"evenodd\" fill-opacity=\"1\" stroke=\"none\"/>\n",
       "<circle clip-path=\"url(#clip292)\" cx=\"2581.44\" cy=\"872.505\" r=\"14\" fill=\"#cd5c5c\" fill-rule=\"evenodd\" fill-opacity=\"1\" stroke=\"none\"/>\n",
       "<circle clip-path=\"url(#clip292)\" cx=\"2587.04\" cy=\"879.397\" r=\"14\" fill=\"#cd5c5c\" fill-rule=\"evenodd\" fill-opacity=\"1\" stroke=\"none\"/>\n",
       "<circle clip-path=\"url(#clip292)\" cx=\"2592.65\" cy=\"882.742\" r=\"14\" fill=\"#cd5c5c\" fill-rule=\"evenodd\" fill-opacity=\"1\" stroke=\"none\"/>\n",
       "<circle clip-path=\"url(#clip292)\" cx=\"2598.25\" cy=\"872.989\" r=\"14\" fill=\"#cd5c5c\" fill-rule=\"evenodd\" fill-opacity=\"1\" stroke=\"none\"/>\n",
       "<circle clip-path=\"url(#clip292)\" cx=\"2603.86\" cy=\"883.403\" r=\"14\" fill=\"#cd5c5c\" fill-rule=\"evenodd\" fill-opacity=\"1\" stroke=\"none\"/>\n",
       "<circle clip-path=\"url(#clip292)\" cx=\"2609.46\" cy=\"884.571\" r=\"14\" fill=\"#cd5c5c\" fill-rule=\"evenodd\" fill-opacity=\"1\" stroke=\"none\"/>\n",
       "<circle clip-path=\"url(#clip292)\" cx=\"2615.06\" cy=\"872.861\" r=\"14\" fill=\"#cd5c5c\" fill-rule=\"evenodd\" fill-opacity=\"1\" stroke=\"none\"/>\n",
       "<circle clip-path=\"url(#clip292)\" cx=\"2620.67\" cy=\"881.96\" r=\"14\" fill=\"#cd5c5c\" fill-rule=\"evenodd\" fill-opacity=\"1\" stroke=\"none\"/>\n",
       "<circle clip-path=\"url(#clip292)\" cx=\"2626.27\" cy=\"868.429\" r=\"14\" fill=\"#cd5c5c\" fill-rule=\"evenodd\" fill-opacity=\"1\" stroke=\"none\"/>\n",
       "<circle clip-path=\"url(#clip292)\" cx=\"2631.88\" cy=\"883.034\" r=\"14\" fill=\"#cd5c5c\" fill-rule=\"evenodd\" fill-opacity=\"1\" stroke=\"none\"/>\n",
       "<circle clip-path=\"url(#clip292)\" cx=\"2637.48\" cy=\"880.532\" r=\"14\" fill=\"#cd5c5c\" fill-rule=\"evenodd\" fill-opacity=\"1\" stroke=\"none\"/>\n",
       "<circle clip-path=\"url(#clip292)\" cx=\"2643.09\" cy=\"864.735\" r=\"14\" fill=\"#cd5c5c\" fill-rule=\"evenodd\" fill-opacity=\"1\" stroke=\"none\"/>\n",
       "<circle clip-path=\"url(#clip292)\" cx=\"2648.69\" cy=\"885.479\" r=\"14\" fill=\"#cd5c5c\" fill-rule=\"evenodd\" fill-opacity=\"1\" stroke=\"none\"/>\n",
       "<circle clip-path=\"url(#clip292)\" cx=\"2654.3\" cy=\"871.453\" r=\"14\" fill=\"#cd5c5c\" fill-rule=\"evenodd\" fill-opacity=\"1\" stroke=\"none\"/>\n",
       "<circle clip-path=\"url(#clip292)\" cx=\"2659.9\" cy=\"876.535\" r=\"14\" fill=\"#cd5c5c\" fill-rule=\"evenodd\" fill-opacity=\"1\" stroke=\"none\"/>\n",
       "<circle clip-path=\"url(#clip292)\" cx=\"2665.5\" cy=\"880.333\" r=\"14\" fill=\"#cd5c5c\" fill-rule=\"evenodd\" fill-opacity=\"1\" stroke=\"none\"/>\n",
       "<circle clip-path=\"url(#clip292)\" cx=\"2671.11\" cy=\"869.471\" r=\"14\" fill=\"#cd5c5c\" fill-rule=\"evenodd\" fill-opacity=\"1\" stroke=\"none\"/>\n",
       "<circle clip-path=\"url(#clip292)\" cx=\"2676.71\" cy=\"885.344\" r=\"14\" fill=\"#cd5c5c\" fill-rule=\"evenodd\" fill-opacity=\"1\" stroke=\"none\"/>\n",
       "<circle clip-path=\"url(#clip292)\" cx=\"2682.32\" cy=\"875.5\" r=\"14\" fill=\"#cd5c5c\" fill-rule=\"evenodd\" fill-opacity=\"1\" stroke=\"none\"/>\n",
       "<circle clip-path=\"url(#clip292)\" cx=\"2687.92\" cy=\"868.269\" r=\"14\" fill=\"#cd5c5c\" fill-rule=\"evenodd\" fill-opacity=\"1\" stroke=\"none\"/>\n",
       "<circle clip-path=\"url(#clip292)\" cx=\"2693.53\" cy=\"884.229\" r=\"14\" fill=\"#cd5c5c\" fill-rule=\"evenodd\" fill-opacity=\"1\" stroke=\"none\"/>\n",
       "<circle clip-path=\"url(#clip292)\" cx=\"2699.13\" cy=\"881.826\" r=\"14\" fill=\"#cd5c5c\" fill-rule=\"evenodd\" fill-opacity=\"1\" stroke=\"none\"/>\n",
       "<circle clip-path=\"url(#clip292)\" cx=\"2704.74\" cy=\"879.748\" r=\"14\" fill=\"#cd5c5c\" fill-rule=\"evenodd\" fill-opacity=\"1\" stroke=\"none\"/>\n",
       "<circle clip-path=\"url(#clip292)\" cx=\"2710.34\" cy=\"865.832\" r=\"14\" fill=\"#cd5c5c\" fill-rule=\"evenodd\" fill-opacity=\"1\" stroke=\"none\"/>\n",
       "<circle clip-path=\"url(#clip292)\" cx=\"2715.94\" cy=\"873.536\" r=\"14\" fill=\"#cd5c5c\" fill-rule=\"evenodd\" fill-opacity=\"1\" stroke=\"none\"/>\n",
       "<circle clip-path=\"url(#clip292)\" cx=\"2721.55\" cy=\"874.755\" r=\"14\" fill=\"#cd5c5c\" fill-rule=\"evenodd\" fill-opacity=\"1\" stroke=\"none\"/>\n",
       "<circle clip-path=\"url(#clip292)\" cx=\"2727.15\" cy=\"875.909\" r=\"14\" fill=\"#cd5c5c\" fill-rule=\"evenodd\" fill-opacity=\"1\" stroke=\"none\"/>\n",
       "<circle clip-path=\"url(#clip292)\" cx=\"2732.76\" cy=\"880.193\" r=\"14\" fill=\"#cd5c5c\" fill-rule=\"evenodd\" fill-opacity=\"1\" stroke=\"none\"/>\n",
       "<circle clip-path=\"url(#clip292)\" cx=\"2738.36\" cy=\"879.996\" r=\"14\" fill=\"#cd5c5c\" fill-rule=\"evenodd\" fill-opacity=\"1\" stroke=\"none\"/>\n",
       "<circle clip-path=\"url(#clip292)\" cx=\"2743.97\" cy=\"876.988\" r=\"14\" fill=\"#cd5c5c\" fill-rule=\"evenodd\" fill-opacity=\"1\" stroke=\"none\"/>\n",
       "<circle clip-path=\"url(#clip292)\" cx=\"2749.57\" cy=\"876.025\" r=\"14\" fill=\"#cd5c5c\" fill-rule=\"evenodd\" fill-opacity=\"1\" stroke=\"none\"/>\n",
       "<circle clip-path=\"url(#clip292)\" cx=\"2755.18\" cy=\"878.7\" r=\"14\" fill=\"#cd5c5c\" fill-rule=\"evenodd\" fill-opacity=\"1\" stroke=\"none\"/>\n",
       "<circle clip-path=\"url(#clip292)\" cx=\"2760.78\" cy=\"874.774\" r=\"14\" fill=\"#cd5c5c\" fill-rule=\"evenodd\" fill-opacity=\"1\" stroke=\"none\"/>\n",
       "<circle clip-path=\"url(#clip292)\" cx=\"2766.38\" cy=\"876.963\" r=\"14\" fill=\"#cd5c5c\" fill-rule=\"evenodd\" fill-opacity=\"1\" stroke=\"none\"/>\n",
       "<circle clip-path=\"url(#clip292)\" cx=\"2771.99\" cy=\"873.407\" r=\"14\" fill=\"#cd5c5c\" fill-rule=\"evenodd\" fill-opacity=\"1\" stroke=\"none\"/>\n",
       "<circle clip-path=\"url(#clip292)\" cx=\"2777.59\" cy=\"879.943\" r=\"14\" fill=\"#cd5c5c\" fill-rule=\"evenodd\" fill-opacity=\"1\" stroke=\"none\"/>\n",
       "<circle clip-path=\"url(#clip292)\" cx=\"2783.2\" cy=\"881.839\" r=\"14\" fill=\"#cd5c5c\" fill-rule=\"evenodd\" fill-opacity=\"1\" stroke=\"none\"/>\n",
       "<circle clip-path=\"url(#clip292)\" cx=\"2788.8\" cy=\"883.788\" r=\"14\" fill=\"#cd5c5c\" fill-rule=\"evenodd\" fill-opacity=\"1\" stroke=\"none\"/>\n",
       "<circle clip-path=\"url(#clip292)\" cx=\"2794.41\" cy=\"881.083\" r=\"14\" fill=\"#cd5c5c\" fill-rule=\"evenodd\" fill-opacity=\"1\" stroke=\"none\"/>\n",
       "<circle clip-path=\"url(#clip292)\" cx=\"2800.01\" cy=\"872.913\" r=\"14\" fill=\"#cd5c5c\" fill-rule=\"evenodd\" fill-opacity=\"1\" stroke=\"none\"/>\n",
       "<circle clip-path=\"url(#clip292)\" cx=\"2805.62\" cy=\"872.958\" r=\"14\" fill=\"#cd5c5c\" fill-rule=\"evenodd\" fill-opacity=\"1\" stroke=\"none\"/>\n",
       "<circle clip-path=\"url(#clip292)\" cx=\"2811.22\" cy=\"881.642\" r=\"14\" fill=\"#cd5c5c\" fill-rule=\"evenodd\" fill-opacity=\"1\" stroke=\"none\"/>\n",
       "<circle clip-path=\"url(#clip292)\" cx=\"2816.82\" cy=\"846.105\" r=\"14\" fill=\"#cd5c5c\" fill-rule=\"evenodd\" fill-opacity=\"1\" stroke=\"none\"/>\n",
       "<circle clip-path=\"url(#clip292)\" cx=\"2822.43\" cy=\"864.526\" r=\"14\" fill=\"#cd5c5c\" fill-rule=\"evenodd\" fill-opacity=\"1\" stroke=\"none\"/>\n",
       "<circle clip-path=\"url(#clip292)\" cx=\"2828.03\" cy=\"881.084\" r=\"14\" fill=\"#cd5c5c\" fill-rule=\"evenodd\" fill-opacity=\"1\" stroke=\"none\"/>\n",
       "<circle clip-path=\"url(#clip292)\" cx=\"2833.64\" cy=\"865.144\" r=\"14\" fill=\"#cd5c5c\" fill-rule=\"evenodd\" fill-opacity=\"1\" stroke=\"none\"/>\n",
       "<circle clip-path=\"url(#clip292)\" cx=\"2839.24\" cy=\"877.857\" r=\"14\" fill=\"#cd5c5c\" fill-rule=\"evenodd\" fill-opacity=\"1\" stroke=\"none\"/>\n",
       "<circle clip-path=\"url(#clip292)\" cx=\"2844.85\" cy=\"870.737\" r=\"14\" fill=\"#cd5c5c\" fill-rule=\"evenodd\" fill-opacity=\"1\" stroke=\"none\"/>\n",
       "<circle clip-path=\"url(#clip292)\" cx=\"2850.45\" cy=\"865.966\" r=\"14\" fill=\"#cd5c5c\" fill-rule=\"evenodd\" fill-opacity=\"1\" stroke=\"none\"/>\n",
       "<circle clip-path=\"url(#clip292)\" cx=\"2856.06\" cy=\"868.879\" r=\"14\" fill=\"#cd5c5c\" fill-rule=\"evenodd\" fill-opacity=\"1\" stroke=\"none\"/>\n",
       "<circle clip-path=\"url(#clip292)\" cx=\"2861.66\" cy=\"860.509\" r=\"14\" fill=\"#cd5c5c\" fill-rule=\"evenodd\" fill-opacity=\"1\" stroke=\"none\"/>\n",
       "<circle clip-path=\"url(#clip292)\" cx=\"2867.26\" cy=\"865.509\" r=\"14\" fill=\"#cd5c5c\" fill-rule=\"evenodd\" fill-opacity=\"1\" stroke=\"none\"/>\n",
       "<circle clip-path=\"url(#clip292)\" cx=\"2872.87\" cy=\"856.555\" r=\"14\" fill=\"#cd5c5c\" fill-rule=\"evenodd\" fill-opacity=\"1\" stroke=\"none\"/>\n",
       "<circle clip-path=\"url(#clip292)\" cx=\"2878.47\" cy=\"831.871\" r=\"14\" fill=\"#cd5c5c\" fill-rule=\"evenodd\" fill-opacity=\"1\" stroke=\"none\"/>\n",
       "<circle clip-path=\"url(#clip292)\" cx=\"2884.08\" cy=\"873.751\" r=\"14\" fill=\"#cd5c5c\" fill-rule=\"evenodd\" fill-opacity=\"1\" stroke=\"none\"/>\n",
       "<circle clip-path=\"url(#clip292)\" cx=\"2889.68\" cy=\"868.429\" r=\"14\" fill=\"#cd5c5c\" fill-rule=\"evenodd\" fill-opacity=\"1\" stroke=\"none\"/>\n",
       "<circle clip-path=\"url(#clip292)\" cx=\"2895.29\" cy=\"857.471\" r=\"14\" fill=\"#cd5c5c\" fill-rule=\"evenodd\" fill-opacity=\"1\" stroke=\"none\"/>\n",
       "<circle clip-path=\"url(#clip292)\" cx=\"2900.89\" cy=\"880.888\" r=\"14\" fill=\"#cd5c5c\" fill-rule=\"evenodd\" fill-opacity=\"1\" stroke=\"none\"/>\n",
       "<circle clip-path=\"url(#clip292)\" cx=\"2906.5\" cy=\"853.674\" r=\"14\" fill=\"#cd5c5c\" fill-rule=\"evenodd\" fill-opacity=\"1\" stroke=\"none\"/>\n",
       "<circle clip-path=\"url(#clip292)\" cx=\"2912.1\" cy=\"817.221\" r=\"14\" fill=\"#cd5c5c\" fill-rule=\"evenodd\" fill-opacity=\"1\" stroke=\"none\"/>\n",
       "<circle clip-path=\"url(#clip292)\" cx=\"2917.7\" cy=\"873.422\" r=\"14\" fill=\"#cd5c5c\" fill-rule=\"evenodd\" fill-opacity=\"1\" stroke=\"none\"/>\n",
       "<circle clip-path=\"url(#clip292)\" cx=\"2923.31\" cy=\"854.327\" r=\"14\" fill=\"#cd5c5c\" fill-rule=\"evenodd\" fill-opacity=\"1\" stroke=\"none\"/>\n",
       "<circle clip-path=\"url(#clip292)\" cx=\"2928.91\" cy=\"859.818\" r=\"14\" fill=\"#cd5c5c\" fill-rule=\"evenodd\" fill-opacity=\"1\" stroke=\"none\"/>\n",
       "<circle clip-path=\"url(#clip292)\" cx=\"2934.52\" cy=\"872.783\" r=\"14\" fill=\"#cd5c5c\" fill-rule=\"evenodd\" fill-opacity=\"1\" stroke=\"none\"/>\n",
       "<circle clip-path=\"url(#clip292)\" cx=\"2940.12\" cy=\"863.654\" r=\"14\" fill=\"#cd5c5c\" fill-rule=\"evenodd\" fill-opacity=\"1\" stroke=\"none\"/>\n",
       "<circle clip-path=\"url(#clip292)\" cx=\"2945.73\" cy=\"798.532\" r=\"14\" fill=\"#cd5c5c\" fill-rule=\"evenodd\" fill-opacity=\"1\" stroke=\"none\"/>\n",
       "<circle clip-path=\"url(#clip292)\" cx=\"2951.33\" cy=\"850.769\" r=\"14\" fill=\"#cd5c5c\" fill-rule=\"evenodd\" fill-opacity=\"1\" stroke=\"none\"/>\n",
       "<circle clip-path=\"url(#clip292)\" cx=\"2956.94\" cy=\"827.178\" r=\"14\" fill=\"#cd5c5c\" fill-rule=\"evenodd\" fill-opacity=\"1\" stroke=\"none\"/>\n",
       "<circle clip-path=\"url(#clip292)\" cx=\"2962.54\" cy=\"872.4\" r=\"14\" fill=\"#cd5c5c\" fill-rule=\"evenodd\" fill-opacity=\"1\" stroke=\"none\"/>\n",
       "<circle clip-path=\"url(#clip292)\" cx=\"2968.15\" cy=\"866.679\" r=\"14\" fill=\"#cd5c5c\" fill-rule=\"evenodd\" fill-opacity=\"1\" stroke=\"none\"/>\n",
       "<circle clip-path=\"url(#clip292)\" cx=\"2973.75\" cy=\"844.61\" r=\"14\" fill=\"#cd5c5c\" fill-rule=\"evenodd\" fill-opacity=\"1\" stroke=\"none\"/>\n",
       "<circle clip-path=\"url(#clip292)\" cx=\"2979.35\" cy=\"846.01\" r=\"14\" fill=\"#cd5c5c\" fill-rule=\"evenodd\" fill-opacity=\"1\" stroke=\"none\"/>\n",
       "<circle clip-path=\"url(#clip292)\" cx=\"2984.96\" cy=\"847.263\" r=\"14\" fill=\"#cd5c5c\" fill-rule=\"evenodd\" fill-opacity=\"1\" stroke=\"none\"/>\n",
       "<circle clip-path=\"url(#clip292)\" cx=\"2990.56\" cy=\"837.982\" r=\"14\" fill=\"#cd5c5c\" fill-rule=\"evenodd\" fill-opacity=\"1\" stroke=\"none\"/>\n",
       "<circle clip-path=\"url(#clip292)\" cx=\"2996.17\" cy=\"835.005\" r=\"14\" fill=\"#cd5c5c\" fill-rule=\"evenodd\" fill-opacity=\"1\" stroke=\"none\"/>\n",
       "<circle clip-path=\"url(#clip292)\" cx=\"3001.77\" cy=\"845.047\" r=\"14\" fill=\"#cd5c5c\" fill-rule=\"evenodd\" fill-opacity=\"1\" stroke=\"none\"/>\n",
       "<circle clip-path=\"url(#clip292)\" cx=\"3007.38\" cy=\"871.981\" r=\"14\" fill=\"#cd5c5c\" fill-rule=\"evenodd\" fill-opacity=\"1\" stroke=\"none\"/>\n",
       "<circle clip-path=\"url(#clip292)\" cx=\"3012.98\" cy=\"868.189\" r=\"14\" fill=\"#cd5c5c\" fill-rule=\"evenodd\" fill-opacity=\"1\" stroke=\"none\"/>\n",
       "<circle clip-path=\"url(#clip292)\" cx=\"3018.59\" cy=\"833.538\" r=\"14\" fill=\"#cd5c5c\" fill-rule=\"evenodd\" fill-opacity=\"1\" stroke=\"none\"/>\n",
       "<circle clip-path=\"url(#clip292)\" cx=\"3024.19\" cy=\"846.276\" r=\"14\" fill=\"#cd5c5c\" fill-rule=\"evenodd\" fill-opacity=\"1\" stroke=\"none\"/>\n",
       "<circle clip-path=\"url(#clip292)\" cx=\"3029.79\" cy=\"819.074\" r=\"14\" fill=\"#cd5c5c\" fill-rule=\"evenodd\" fill-opacity=\"1\" stroke=\"none\"/>\n",
       "<circle clip-path=\"url(#clip292)\" cx=\"3035.4\" cy=\"742.109\" r=\"14\" fill=\"#cd5c5c\" fill-rule=\"evenodd\" fill-opacity=\"1\" stroke=\"none\"/>\n",
       "<circle clip-path=\"url(#clip292)\" cx=\"3041\" cy=\"829.241\" r=\"14\" fill=\"#cd5c5c\" fill-rule=\"evenodd\" fill-opacity=\"1\" stroke=\"none\"/>\n",
       "<circle clip-path=\"url(#clip292)\" cx=\"3046.61\" cy=\"873.69\" r=\"14\" fill=\"#cd5c5c\" fill-rule=\"evenodd\" fill-opacity=\"1\" stroke=\"none\"/>\n",
       "<circle clip-path=\"url(#clip292)\" cx=\"3052.21\" cy=\"802.547\" r=\"14\" fill=\"#cd5c5c\" fill-rule=\"evenodd\" fill-opacity=\"1\" stroke=\"none\"/>\n",
       "<circle clip-path=\"url(#clip292)\" cx=\"3057.82\" cy=\"795.265\" r=\"14\" fill=\"#cd5c5c\" fill-rule=\"evenodd\" fill-opacity=\"1\" stroke=\"none\"/>\n",
       "<circle clip-path=\"url(#clip292)\" cx=\"3063.42\" cy=\"662.631\" r=\"14\" fill=\"#cd5c5c\" fill-rule=\"evenodd\" fill-opacity=\"1\" stroke=\"none\"/>\n",
       "<circle clip-path=\"url(#clip292)\" cx=\"3069.03\" cy=\"499.391\" r=\"14\" fill=\"#cd5c5c\" fill-rule=\"evenodd\" fill-opacity=\"1\" stroke=\"none\"/>\n",
       "</svg>\n"
      ]
     },
     "execution_count": 96,
     "metadata": {},
     "output_type": "execute_result"
    }
   ],
   "source": [
    "plot(diff(evals) ./ evals[2:end], legend = false, size = (800,250), linewidth = 2.5, linestyle = :dash)\n",
    "scatter!(diff(evals) ./ evals[2:end], \n",
    "        markercolor = :indianred, markerstrokecolor = :indianred, markersize = 4)"
   ]
  },
  {
   "cell_type": "markdown",
   "metadata": {},
   "source": [
    "The eigenvalues are increasing from left to right. \n",
    "\n",
    "We know that $R$ always has a kernel. This is the leftmost point on top.\n",
    "\n",
    "In addition, we see more points on the left separating from the rest. \n",
    "\n",
    "This is an indicator that there could be indeed polynomial equations (approximately) vanishing on the data.\n",
    "\n",
    "For instance, the trucks are photographed from different angles, so that the equation could describe rotational symmetry."
   ]
  },
  {
   "cell_type": "markdown",
   "metadata": {},
   "source": [
    "# Generative Models\n",
    "\n",
    "We consider again the [FashionMNIST](https://github.com/zalandoresearch/fashion-mnist) dataset from [Zalando Research](https://github.com/zalandoresearch)."
   ]
  },
  {
   "cell_type": "code",
   "execution_count": 3,
   "metadata": {},
   "outputs": [],
   "source": [
    "data_X, data_Y = FashionMNIST.traindata();"
   ]
  },
  {
   "cell_type": "code",
   "execution_count": 4,
   "metadata": {},
   "outputs": [],
   "source": [
    "labels = [\"T-shirt/top\", \n",
    "            \"Trouser\", \n",
    "            \"Pullover\", \n",
    "            \"Dress\", \n",
    "            \"Coat\", \n",
    "            \"Sandal\", \n",
    "            \"Shirt\", \n",
    "            \"Sneaker\", \n",
    "            \"Bag\", \n",
    "            \"Ankle boot\"];"
   ]
  },
  {
   "cell_type": "markdown",
   "metadata": {},
   "source": [
    "Let us consider the subset of the data consisting of images of sneakers."
   ]
  },
  {
   "cell_type": "code",
   "execution_count": 5,
   "metadata": {},
   "outputs": [],
   "source": [
    "idx = findfirst(labels .== \"Sneaker\") - 1\n",
    "sneakers = data_X[:,:, data_Y .== idx];"
   ]
  },
  {
   "cell_type": "markdown",
   "metadata": {},
   "source": [
    "This dataset contains 6000 images. "
   ]
  },
  {
   "cell_type": "code",
   "execution_count": 6,
   "metadata": {},
   "outputs": [
    {
     "data": {
      "text/plain": [
       "6000"
      ]
     },
     "execution_count": 6,
     "metadata": {},
     "output_type": "execute_result"
    }
   ],
   "source": [
    "n_images = size(sneakers, 3)"
   ]
  },
  {
   "cell_type": "markdown",
   "metadata": {},
   "source": [
    "We take a subset of $n=500$ images."
   ]
  },
  {
   "cell_type": "code",
   "execution_count": 7,
   "metadata": {},
   "outputs": [],
   "source": [
    "n = 500\n",
    "subsample = sample(1:n_images, n, replace = false);"
   ]
  },
  {
   "cell_type": "markdown",
   "metadata": {},
   "source": [
    "Let us take a look at 6 randomly chosen images from our dataset."
   ]
  },
  {
   "cell_type": "code",
   "execution_count": 8,
   "metadata": {},
   "outputs": [
    {
     "data": {
      "text/html": [
       "<table><tbody><tr><td style='text-align:center;vertical-align:middle; margin: 0.5em;border:1px #90999f solid;border-collapse:collapse'><img style='max-width: 100px; max-height:100px;display:inline' src=\"data:image/png;base64,iVBORw0KGgoAAAANSUhEUgAAAHAAAABwCAAAAADji6uXAAAABGdBTUEAALGPC/xhBQAAAAFzUkdCAK7OHOkAAAAgY0hSTQAAeiYAAICEAAD6AAAAgOgAAHUwAADqYAAAOpgAABdwnLpRPAAAAvhJREFUaAW9wc9r1gUcB/DXs94y98ypa/mjjKQfh7CM7GKZmlQQJUQeDKGgQ1TQpb+gQx26dIluFfSDwqBuQZcQLCNIIQyxOTNcMQPT4ZrCM53b8yR8gwfpoBB8Xq8oFsWiWBSLYlEsikWxKBbFolgUi2JRLIpFsSgWxaJYFItiUSyKRbEoFsWiWBSLawgWXG0UMxjGvTiobwA99DSGMKcvikWxKBbXIVjQeBbP4zPcj/V4Dwc0uvoexxkc0RfFolgUi2tY0PcaduE09mADTuEpHHC1MUzjCLbgMOYQxaJYFIvr8AzuwRvYj7O4GeNYxFacwKOYwhCexAX8jC4WNKJYFItiaaGFHlrooafvTWxEBx/gRcxiBKNYxGpcxkv4FndjHus0jmE39iKKRbEolh56Gj209O3E6/gEw7gJ+7EJEwgOYRbzOIet6GAeHbyClZjEXkSxKBbF4opV2IKDOI31eAdj2IeHsQ+34jA+xAs4hgF8hxnswVn8ge3YhePoYlYjikWxKJYxvI9L2IlJnMS7WIb78Cqexh/YgI8wiFFcxgh+wp+Ywh14AhNoYxFLNaJYFItieRBBB8vxGPbgc3yMlzGOcfyGAdyOX9DCWtyIu/ApbsNbmEEbi5hBWyOKRbEolhO4iFEswTA62IbNaKOLMRzEMmzTOIqj+B7rsA27EbSxElO4BZMaUSyKRbH8ikPYgb/RxSBWoIs25rERK/A1jmMddmA7TuIUdmELWjiHCSziL4xrRLEoFsXiirfxOx7BKSzFIEawUmMa6/EcvsIIJnEJo9iECXyD8xhEGwvoYAM2I4pFsSiWFnr4Ej/iITyAJZjWOI8ejiJo4xIuYAQ3YA3msQZzuICLWIVhzGIOUSyKRbH0NFqYwhS+wGqsxaDGGszgTgxgGmexHB3MYwRDOI1ZDGEO5zGNLqJYFIti8a+eq53BGf/1g/8nikWxKBbFolgUi2JRLIpFsSgWxaJYFItiUSyKRbEoFsWiWBSLYlEsikWxKPYP7+urrLdxfgEAAAAASUVORK5C\"></td><td style='text-align:center;vertical-align:middle; margin: 0.5em;border:1px #90999f solid;border-collapse:collapse'><img style='max-width: 100px; max-height:100px;display:inline' src=\"data:image/png;base64,iVBORw0KGgoAAAANSUhEUgAAAHAAAABwCAAAAADji6uXAAAABGdBTUEAALGPC/xhBQAAAAFzUkdCAK7OHOkAAAAgY0hSTQAAeiYAAICEAAD6AAAAgOgAAHUwAADqYAAAOpgAABdwnLpRPAAAAkpJREFUaAW9wT+rlQUAB+DnPed3/5jXP4NlURLZFGFLNUSTe/gFpKmtz+ASBO0NttfWot+htdFoEjKiggK9XDvqPfe8b8IrXEyKGvo9T5RFWZRFWZRFWZRFWZRFWZRFWZRFWZRFWZRFWZRFWZRFWZRFWZRFWZRFWZRFWZRFWZRFWZRFWfwHS2z8swUmTGYLbGONDaIsyqIs/oUBEzZmp3ADL+ECTpstsDRbY4ERDx2LsiiLsvgbg9mEyewCPsNV/I4VdvAhvsKI0bHR7Bpu4SaiLMqiLJ7YxgYbs8mxd/A53sNv+BEj9nCIL7GHLxx7Cx/hMi7hO9xElEVZlMUTh552Hh/gCq5gH79giRM4gQ3WZtdx3bMe4C4GsyiLsiiLxwZ8jPfxLl7HXZzBI/yEX/Ez3sCLWGKBNe7hEFsINpgw4ggPcNEsyqIsyvIyvsFp7GILD7DEvtlZnMNFTHiIYMCO2S5GTNjCgBELLLGL04iyKIuyfIozuIVdjDjCeSwR7GIHZzFixAYbswWWmDBijRXu4yRWOIfXEGVRFmX5AQPexiH+wCPcw4gJB1hiwAKnzDYYMWLAhDUGbJsdILiNK4iyKIuyfIKvcQ2X8YpnTVhhhSMMGDFhgZM4gTV2sPS0FZ7DI0RZlEVZPPY9rpq9iudxCW/iLF7AgAFHCAY8xAH2cR+HCPZwByscYsQBbiDKoizK4i/u4A6+9f+IsiiLsiiLsiiLsiiLsiiLsiiLsiiLsiiLsiiLsiiLsiiLsiiLsiiLsiiLsiiLsj8BoKN53fwCWUwAAAAASUVORK5C\"></td><td style='text-align:center;vertical-align:middle; margin: 0.5em;border:1px #90999f solid;border-collapse:collapse'><img style='max-width: 100px; max-height:100px;display:inline' src=\"data:image/png;base64,iVBORw0KGgoAAAANSUhEUgAAAHAAAABwCAAAAADji6uXAAAABGdBTUEAALGPC/xhBQAAAAFzUkdCAK7OHOkAAAAgY0hSTQAAeiYAAICEAAD6AAAAgOgAAHUwAADqYAAAOpgAABdwnLpRPAAAAwtJREFUaAW9wUuLlQUcB+DnPed3jqPO5JjWhA2SCoWS0CLb5aZNBO2yC0SLttEqovQr9CFatShaBF0oqGUItglNUKOLWHSxcRpt1JlzeRPO4qBNBEr/54liUSyKRbEoFsWiWBSLYlEsikWxKBbFolgUi2JRLIpFsbgNDVpTD2AZK/5bFItiUSxuU4MWDd7CKl7DkokuRv4pikWxKBa3oTX1BS5hBSdwDO9iZKKHFkMTUSyKRbG4A4ewhCHmcQpv4hiO4hMM3CyKRbEoFnfgGVzGPnTQ4BTW8TZO4x18hZMmolgUi2KxgcZUa6pBa+IJLOI+9PEHFrEdMziOLXgRr+AcnkcUi2JRLDbQ2lhr4hCOYA/WcAWzuIAFNNiCEdZxFftMRLEoFsXiFg1adDFGa+owXsJedPAnLuAgrqHB75jHCB0ELQYmolgUi2LxLxq0pnbjKHZiGYtYx0V0MYttWMI6Ohihjw72425EsSgWxeIWLRoMTX2ABfyEy9iEE3gPr+JefItgM1rMYR49nMUaHkIUi2JRLG5o0GBsojXxOp7CGZzFCBfwMj7Ec3gS3+NB9DHGEn7ER/gGK3gBzyKKRbEoFje0aN3sfXTwNVrMYScO4wrewDZ8hus4j5M4jxF2YBFPYxH78SmiWBSLYnHDY3gEQ+zF/fgFl9DBPHo4hc9xDVexiksYYBcO4FHsxmb00MEA36GPKBbFolgO4nEsYIx78AOGaLEdaziOBn3MYit24AgOYA5drGMdHXTRYowGQ0SxKBbFcgbn0Mce7MI8FrAZqziNHubQwww6eBiLuIifMcAa7sI61rCMX7GMLxHFolgUyxzGGOEkTqJBg02YxSx66KFBH118jN8wRA8DDLGGgY1FsSgWxXIZc9iKOTQY4hrGWMUKOuigQTDAEEEH62hM9DGDLrrooY+/EMWiWBTLEMumeuiijxn0EIwwNjHGjIkxWhMjtCYaNBjiCkYYIYpFsSgWtxhggOv+H1EsikWxKBbFolgUi2JRLIpFsSgWxaJYFItiUSyKRbG/AQEGsdUoPgfNAAAAAElFTkSuQmCC\"></td><td style='text-align:center;vertical-align:middle; margin: 0.5em;border:1px #90999f solid;border-collapse:collapse'><img style='max-width: 100px; max-height:100px;display:inline' src=\"data:image/png;base64,iVBORw0KGgoAAAANSUhEUgAAAHAAAABwCAAAAADji6uXAAAABGdBTUEAALGPC/xhBQAAAAFzUkdCAK7OHOkAAAAgY0hSTQAAeiYAAICEAAD6AAAAgOgAAHUwAADqYAAAOpgAABdwnLpRPAAAAmpJREFUaAW9wc1rFgQAB+DndT/3kTObmqUkJJIYSUQQ1iUKIaiLpwRvHfr4B6JbdOqP6NCpa0RQoJ3s0KVDQRha6+Aww9nEbbA5t/XyJryHCAkj6Pc8URZlURZlURZlURZlURZlURZlURZlURZlURZlURZlURZlURZlURZlURZlURZlURZlURZlURZl8R+cxY+46N97DPsQZVEWZXEfA4yM7cWb+BY73WuAkXs9ihfwKaIsyqIs7mNkbA+m8BWeNfYDnkBwEAtYwSM4gkWcwW18hxGiLMqiLAOM/LMpHMYsZnEcv2IJH2I/FvELDuAIVrGGO5jE17hkLMqiLMoy8ne7jZ3GGs5hA/txE9cxxCzW8AbewjG8jW/wOSbwHC7jcVw0FmVRFmVx1xQexAyGeBk3sIgXMY8BduFLfIxz+AgX8ApOYBsHcBJT+A0LOIVjuIooi7IoywAvYR038CouYR2v4QucwFFcwVmcx/N4GHvxCU5jEvMYYhJLGOIy5o1FWZRFWabxPdYxh3ncxHFcxAZ+xjVs4z08gyuYwbt4BxdwCq/jDJ7EJA5iA1eNRVmURVn2YQszWMYFTGMR25jBBIaYw2cY4hY28AGu42m8j5PYxk/YiT1Y8Jcoi7IoyxBHMYM/sG5sCyNjt7GJO7iFSezAKpbxFNaxivOYwzK2cA2HsAeriLIoi7Jcx+/YjcPYiwnsxACbGGATW5jEBg7hIaxgC9OYwwPYgV0IlrCGbWNRFmVRFncNsYIV/78oi7Ioi7Ioi7Ioi7Ioi7Ioi7Ioi7Ioi7Ioi7Ioi7Ioi7Ioi7Ioi7Ioi7Ioi7Io+xNdnX9rdp2hSwAAAABJRU5ErkJg\"></td><td style='text-align:center;vertical-align:middle; margin: 0.5em;border:1px #90999f solid;border-collapse:collapse'><img style='max-width: 100px; max-height:100px;display:inline' src=\"data:image/png;base64,iVBORw0KGgoAAAANSUhEUgAAAHAAAABwCAAAAADji6uXAAAABGdBTUEAALGPC/xhBQAAAAFzUkdCAK7OHOkAAAAgY0hSTQAAeiYAAICEAAD6AAAAgOgAAHUwAADqYAAAOpgAABdwnLpRPAAAAsZJREFUaAW9wUuL1XUcB+DnnPM5zkVNR8jsouVYVOYiUcxsp5WYtShwFfQSWrVrEW1qE0S9ji6LluGmIMIWEURCZXRBK3Qax8s0x+Gcf8FvYAgiLOj7PFEsikWxKBbFolgUi2JRLIpFsSgWxaJYFItiUSyKRbEoFsWiWBSLYlEsikWxKBb/QQ+d5gWcxnk3J4pFsSgW/0IPHTrNkziM+/GydT106KFDD1NYQRSLYlEsbsIAY3SakziCJXyGE3gO76GHTtPHGKcwwTuIYlEsisU/6GnGmt04hHswhwNYwALu1XTWjTV7saiJYlEsisXf6Gk6zR7sxXYcxS58gwG2YArX8Qw+8Fc9LGARWxDFolgUizUDDDFCp9mKE5jFIdyNT/AWZvESrmIDDmIPnsAXWMYc5vEmbsUQUSyKRbFYM8ZYsxUnMcDTWMQqvsTH+BYDfI59+BmrmMND2I0JVjGFN7AdLyKKRbEoFms2Yw77sQOPoMMlvIpTeADP4hx24EMcxQqu4jqmMdAEVzTncQuiWBSLYvGnY7gPIzyIRfyKM3gUJ/A+Xsc2PIYfcQ2f4mGMrFvFDVzGJvSxA8uIYlEsiuUYDmEZY3yFfbiCXZjGU3gXX+NxHMfbGOMMDmMKE00fs5jGAEuY4HZEsSgWxbIX81jADC7gMi5jM65jhFdwG67iTryGWfyOZcxiggn6GGKsGWIVS4hiUSyKZQlzmj72IdiADrPo4w7NT9ikuYCRdZ1miAnm0MdIM0EUi2JRLB/hOLZhBhN0mmsY4hq+wzx2YgNmsFOzERtxAx1+0Iwx0kzhEqJYFIti+R7PYxv24yAOYBfuwgymcQQXcUNzEWexgl+wpBmhwwRDXMEKzuIcolgUi2Kx5jecxmn/rygWxaJYFItiUSyKRbEoFsWiWBSLYlEsikWxKBbFolgUi2JRLIpFsSgWxaLYH4w/k3e75ZLSAAAAAElFTkSuQmCC\"></td><td style='text-align:center;vertical-align:middle; margin: 0.5em;border:1px #90999f solid;border-collapse:collapse'><img style='max-width: 100px; max-height:100px;display:inline' src=\"data:image/png;base64,iVBORw0KGgoAAAANSUhEUgAAAHAAAABwCAAAAADji6uXAAAABGdBTUEAALGPC/xhBQAAAAFzUkdCAK7OHOkAAAAgY0hSTQAAeiYAAICEAAD6AAAAgOgAAHUwAADqYAAAOpgAABdwnLpRPAAAAt5JREFUaAW9wT2I1wUcB+Dnd//PeXee3v09xLqzs6AibimywaEkIoq0KGhpCKLFsaaGNoegtaVBaHEpgmgQoSgqcCgaQnqhKGowLus0Q0/vRe/t18FvMMPghvg+TxSLYlEsikWxKBbFolgUi2JRLIpFsSgWxaJYFItiUSyKRbEoFsWiWBSLYlEsisUWNGj9txdx3I0aNNiOVVxDgygWxaJYbEHr5u7Cq7gfO/CmG21gwY2iWBSLYrFFA9jQGcIxTOvM4Vm8iws6rc5RnMZJtIhiUSyKxRZt6DyNt/Aj5tFiHRs4hYdwUedt3IsDOIXLiGJRLIrFvwRrGMCG6x7HcziIo7gdD2AFoxjCEr7Bp7gHLS5gFx7BCUSxKBbF0qDVadBiEKs6U3gZj2EWH2M77sQE1jCIcczjIg7gLwyij214HicQxaJYFItNPayjxTrWdV7CU1jEF5jHfdiL7biKZSzhT4yhwSJGsQ3LWMUz2I0oFsWiWFqsu24aB3EEPaxgAjNYw2m0WMEixjCBETS4gAaDWMQwlvE9bkUUi2JRLDY9jCOYxDgazGIVo2jwB37BLZjAGgYwhiHMocEwxjGMqxjCVdyNKUSxKBbFMo0X8DM+xzh2YgQNFtDHAqYxgZ24AztwHvPYgzUs4RzmMYZdWMDv+A1RLIpFsRxCH/swiR7W0EODa2gxhBmsYg5f4SQexD5cwRXswjXsxiUsYBhncA5RLIpFsXyIS5jCHvTQw4BOi4uYw7f4Dss6T+IQPsIS9uMYDuMDvIKfsIo+xhHFolgUyyx6mESLL7EH593cqM4neBRnMYUfsB8NZtDDXpzVmcIkolgUi2Kx6QzOoI8+DuN9PIFpvIMjmMUIWryON3AZt6GPzzCEr/ErjmMFKziNFUSxKBbF4h8u6RzXec91r/l/RLEoFsWiWBSLYlEsikWxKBbFolgUi2JRLIpFsSgWxaJYFItiUSyKRbEoFsX+Bn3WmxLAQclYAAAAAElFTkSuQmCC\"></td></tr></tbody></table><div><small>(a vector displayed as a row to save space)</small></div>"
      ],
      "text/plain": [
       "6-element Vector{Base.ReinterpretArray{Gray{N0f8}, 2, N0f8, Matrix{N0f8}, true}}:\n",
       " [Gray{N0f8}(0.0) Gray{N0f8}(0.0) … Gray{N0f8}(0.0) Gray{N0f8}(0.0); Gray{N0f8}(0.0) Gray{N0f8}(0.0) … Gray{N0f8}(0.0) Gray{N0f8}(0.0); … ; Gray{N0f8}(0.0) Gray{N0f8}(0.0) … Gray{N0f8}(0.0) Gray{N0f8}(0.0); Gray{N0f8}(0.0) Gray{N0f8}(0.0) … Gray{N0f8}(0.0) Gray{N0f8}(0.0)]\n",
       " [Gray{N0f8}(0.0) Gray{N0f8}(0.0) … Gray{N0f8}(0.0) Gray{N0f8}(0.0); Gray{N0f8}(0.0) Gray{N0f8}(0.0) … Gray{N0f8}(0.0) Gray{N0f8}(0.0); … ; Gray{N0f8}(0.0) Gray{N0f8}(0.0) … Gray{N0f8}(0.0) Gray{N0f8}(0.0); Gray{N0f8}(0.0) Gray{N0f8}(0.0) … Gray{N0f8}(0.0) Gray{N0f8}(0.0)]\n",
       " [Gray{N0f8}(0.0) Gray{N0f8}(0.0) … Gray{N0f8}(0.0) Gray{N0f8}(0.0); Gray{N0f8}(0.0) Gray{N0f8}(0.0) … Gray{N0f8}(0.0) Gray{N0f8}(0.0); … ; Gray{N0f8}(0.0) Gray{N0f8}(0.0) … Gray{N0f8}(0.0) Gray{N0f8}(0.0); Gray{N0f8}(0.0) Gray{N0f8}(0.0) … Gray{N0f8}(0.0) Gray{N0f8}(0.0)]\n",
       " [Gray{N0f8}(0.0) Gray{N0f8}(0.0) … Gray{N0f8}(0.0) Gray{N0f8}(0.0); Gray{N0f8}(0.0) Gray{N0f8}(0.0) … Gray{N0f8}(0.0) Gray{N0f8}(0.0); … ; Gray{N0f8}(0.0) Gray{N0f8}(0.0) … Gray{N0f8}(0.0) Gray{N0f8}(0.0); Gray{N0f8}(0.0) Gray{N0f8}(0.0) … Gray{N0f8}(0.0) Gray{N0f8}(0.0)]\n",
       " [Gray{N0f8}(0.0) Gray{N0f8}(0.0) … Gray{N0f8}(0.0) Gray{N0f8}(0.0); Gray{N0f8}(0.0) Gray{N0f8}(0.0) … Gray{N0f8}(0.0) Gray{N0f8}(0.0); … ; Gray{N0f8}(0.0) Gray{N0f8}(0.0) … Gray{N0f8}(0.0) Gray{N0f8}(0.0); Gray{N0f8}(0.0) Gray{N0f8}(0.0) … Gray{N0f8}(0.0) Gray{N0f8}(0.0)]\n",
       " [Gray{N0f8}(0.0) Gray{N0f8}(0.0) … Gray{N0f8}(0.0) Gray{N0f8}(0.0); Gray{N0f8}(0.0) Gray{N0f8}(0.0) … Gray{N0f8}(0.0) Gray{N0f8}(0.0); … ; Gray{N0f8}(0.0) Gray{N0f8}(0.0) … Gray{N0f8}(0.0) Gray{N0f8}(0.0); Gray{N0f8}(0.0) Gray{N0f8}(0.0) … Gray{N0f8}(0.0) Gray{N0f8}(0.0)]"
      ]
     },
     "execution_count": 8,
     "metadata": {},
     "output_type": "execute_result"
    }
   ],
   "source": [
    "k = rand(subsample, 6)\n",
    "[FashionMNIST.convert2image(sneakers[:,:,i]) for i in k]"
   ]
  },
  {
   "cell_type": "markdown",
   "metadata": {},
   "source": [
    "We embed the data in $\\mathbb R^D$ ($D= 28^2 = 784$ for $28\\times 28$ pixels) and center the data."
   ]
  },
  {
   "cell_type": "code",
   "execution_count": 9,
   "metadata": {},
   "outputs": [
    {
     "data": {
      "text/plain": [
       "784"
      ]
     },
     "execution_count": 9,
     "metadata": {},
     "output_type": "execute_result"
    }
   ],
   "source": [
    "D = 28^2"
   ]
  },
  {
   "cell_type": "code",
   "execution_count": 10,
   "metadata": {},
   "outputs": [],
   "source": [
    "X = map(subsample) do i\n",
    "    xᵢ = vec(sneakers[:,:,i])\n",
    "    Float64.(xᵢ)\n",
    "    end;\n",
    "\n",
    "x̄ = mean(X);\n",
    "X = map(x -> x .- x̄, X);"
   ]
  },
  {
   "cell_type": "markdown",
   "metadata": {},
   "source": [
    "The feature matrix $\\Omega$ in this case is simply the matrix having the data as rows."
   ]
  },
  {
   "cell_type": "code",
   "execution_count": 11,
   "metadata": {},
   "outputs": [],
   "source": [
    "Ω = hcat(X...) |> transpose;"
   ]
  },
  {
   "cell_type": "markdown",
   "metadata": {},
   "source": [
    "Now, we compute a singular value decomposition of $\\Omega$."
   ]
  },
  {
   "cell_type": "code",
   "execution_count": 12,
   "metadata": {},
   "outputs": [],
   "source": [
    "S = svd(Ω)\n",
    "svals = S.S;"
   ]
  },
  {
   "cell_type": "markdown",
   "metadata": {},
   "source": [
    "Let us plot the logarithms of the values in `svals`."
   ]
  },
  {
   "cell_type": "code",
   "execution_count": 13,
   "metadata": {
    "scrolled": true
   },
   "outputs": [
    {
     "data": {
      "image/svg+xml": [
       "<?xml version=\"1.0\" encoding=\"utf-8\"?>\n",
       "<svg xmlns=\"http://www.w3.org/2000/svg\" xmlns:xlink=\"http://www.w3.org/1999/xlink\" width=\"800\" height=\"250\" viewBox=\"0 0 3200 1000\">\n",
       "<defs>\n",
       "  <clipPath id=\"clip320\">\n",
       "    <rect x=\"0\" y=\"0\" width=\"3200\" height=\"1000\"/>\n",
       "  </clipPath>\n",
       "</defs>\n",
       "<path clip-path=\"url(#clip320)\" d=\"\n",
       "M0 1000 L3200 1000 L3200 0 L0 0  Z\n",
       "  \" fill=\"#ffffff\" fill-rule=\"evenodd\" fill-opacity=\"1\"/>\n",
       "<defs>\n",
       "  <clipPath id=\"clip321\">\n",
       "    <rect x=\"640\" y=\"0\" width=\"2241\" height=\"1000\"/>\n",
       "  </clipPath>\n",
       "</defs>\n",
       "<path clip-path=\"url(#clip320)\" d=\"\n",
       "M149.853 910.808 L3152.76 910.808 L3152.76 47.2441 L149.853 47.2441  Z\n",
       "  \" fill=\"#ffffff\" fill-rule=\"evenodd\" fill-opacity=\"1\"/>\n",
       "<defs>\n",
       "  <clipPath id=\"clip322\">\n",
       "    <rect x=\"149\" y=\"47\" width=\"3004\" height=\"865\"/>\n",
       "  </clipPath>\n",
       "</defs>\n",
       "<polyline clip-path=\"url(#clip322)\" style=\"stroke:#000000; stroke-linecap:butt; stroke-linejoin:round; stroke-width:2; stroke-opacity:0.1; fill:none\" points=\"\n",
       "  149.853,910.808 149.853,47.2441 \n",
       "  \"/>\n",
       "<polyline clip-path=\"url(#clip322)\" style=\"stroke:#000000; stroke-linecap:butt; stroke-linejoin:round; stroke-width:2; stroke-opacity:0.1; fill:none\" points=\"\n",
       "  400.095,910.808 400.095,47.2441 \n",
       "  \"/>\n",
       "<polyline clip-path=\"url(#clip322)\" style=\"stroke:#000000; stroke-linecap:butt; stroke-linejoin:round; stroke-width:2; stroke-opacity:0.1; fill:none\" points=\"\n",
       "  650.337,910.808 650.337,47.2441 \n",
       "  \"/>\n",
       "<polyline clip-path=\"url(#clip322)\" style=\"stroke:#000000; stroke-linecap:butt; stroke-linejoin:round; stroke-width:2; stroke-opacity:0.1; fill:none\" points=\"\n",
       "  900.579,910.808 900.579,47.2441 \n",
       "  \"/>\n",
       "<polyline clip-path=\"url(#clip322)\" style=\"stroke:#000000; stroke-linecap:butt; stroke-linejoin:round; stroke-width:2; stroke-opacity:0.1; fill:none\" points=\"\n",
       "  1150.82,910.808 1150.82,47.2441 \n",
       "  \"/>\n",
       "<polyline clip-path=\"url(#clip322)\" style=\"stroke:#000000; stroke-linecap:butt; stroke-linejoin:round; stroke-width:2; stroke-opacity:0.1; fill:none\" points=\"\n",
       "  1401.06,910.808 1401.06,47.2441 \n",
       "  \"/>\n",
       "<polyline clip-path=\"url(#clip322)\" style=\"stroke:#000000; stroke-linecap:butt; stroke-linejoin:round; stroke-width:2; stroke-opacity:0.1; fill:none\" points=\"\n",
       "  1651.3,910.808 1651.3,47.2441 \n",
       "  \"/>\n",
       "<polyline clip-path=\"url(#clip322)\" style=\"stroke:#000000; stroke-linecap:butt; stroke-linejoin:round; stroke-width:2; stroke-opacity:0.1; fill:none\" points=\"\n",
       "  1901.55,910.808 1901.55,47.2441 \n",
       "  \"/>\n",
       "<polyline clip-path=\"url(#clip322)\" style=\"stroke:#000000; stroke-linecap:butt; stroke-linejoin:round; stroke-width:2; stroke-opacity:0.1; fill:none\" points=\"\n",
       "  2151.79,910.808 2151.79,47.2441 \n",
       "  \"/>\n",
       "<polyline clip-path=\"url(#clip322)\" style=\"stroke:#000000; stroke-linecap:butt; stroke-linejoin:round; stroke-width:2; stroke-opacity:0.1; fill:none\" points=\"\n",
       "  2402.03,910.808 2402.03,47.2441 \n",
       "  \"/>\n",
       "<polyline clip-path=\"url(#clip322)\" style=\"stroke:#000000; stroke-linecap:butt; stroke-linejoin:round; stroke-width:2; stroke-opacity:0.1; fill:none\" points=\"\n",
       "  2652.27,910.808 2652.27,47.2441 \n",
       "  \"/>\n",
       "<polyline clip-path=\"url(#clip322)\" style=\"stroke:#000000; stroke-linecap:butt; stroke-linejoin:round; stroke-width:2; stroke-opacity:0.1; fill:none\" points=\"\n",
       "  2902.51,910.808 2902.51,47.2441 \n",
       "  \"/>\n",
       "<polyline clip-path=\"url(#clip322)\" style=\"stroke:#000000; stroke-linecap:butt; stroke-linejoin:round; stroke-width:2; stroke-opacity:0.1; fill:none\" points=\"\n",
       "  3152.76,910.808 3152.76,47.2441 \n",
       "  \"/>\n",
       "<polyline clip-path=\"url(#clip320)\" style=\"stroke:#000000; stroke-linecap:butt; stroke-linejoin:round; stroke-width:4; stroke-opacity:1; fill:none\" points=\"\n",
       "  149.853,910.808 3152.76,910.808 \n",
       "  \"/>\n",
       "<polyline clip-path=\"url(#clip320)\" style=\"stroke:#000000; stroke-linecap:butt; stroke-linejoin:round; stroke-width:4; stroke-opacity:1; fill:none\" points=\"\n",
       "  149.853,910.808 149.853,891.91 \n",
       "  \"/>\n",
       "<polyline clip-path=\"url(#clip320)\" style=\"stroke:#000000; stroke-linecap:butt; stroke-linejoin:round; stroke-width:4; stroke-opacity:1; fill:none\" points=\"\n",
       "  400.095,910.808 400.095,891.91 \n",
       "  \"/>\n",
       "<polyline clip-path=\"url(#clip320)\" style=\"stroke:#000000; stroke-linecap:butt; stroke-linejoin:round; stroke-width:4; stroke-opacity:1; fill:none\" points=\"\n",
       "  650.337,910.808 650.337,891.91 \n",
       "  \"/>\n",
       "<polyline clip-path=\"url(#clip320)\" style=\"stroke:#000000; stroke-linecap:butt; stroke-linejoin:round; stroke-width:4; stroke-opacity:1; fill:none\" points=\"\n",
       "  900.579,910.808 900.579,891.91 \n",
       "  \"/>\n",
       "<polyline clip-path=\"url(#clip320)\" style=\"stroke:#000000; stroke-linecap:butt; stroke-linejoin:round; stroke-width:4; stroke-opacity:1; fill:none\" points=\"\n",
       "  1150.82,910.808 1150.82,891.91 \n",
       "  \"/>\n",
       "<polyline clip-path=\"url(#clip320)\" style=\"stroke:#000000; stroke-linecap:butt; stroke-linejoin:round; stroke-width:4; stroke-opacity:1; fill:none\" points=\"\n",
       "  1401.06,910.808 1401.06,891.91 \n",
       "  \"/>\n",
       "<polyline clip-path=\"url(#clip320)\" style=\"stroke:#000000; stroke-linecap:butt; stroke-linejoin:round; stroke-width:4; stroke-opacity:1; fill:none\" points=\"\n",
       "  1651.3,910.808 1651.3,891.91 \n",
       "  \"/>\n",
       "<polyline clip-path=\"url(#clip320)\" style=\"stroke:#000000; stroke-linecap:butt; stroke-linejoin:round; stroke-width:4; stroke-opacity:1; fill:none\" points=\"\n",
       "  1901.55,910.808 1901.55,891.91 \n",
       "  \"/>\n",
       "<polyline clip-path=\"url(#clip320)\" style=\"stroke:#000000; stroke-linecap:butt; stroke-linejoin:round; stroke-width:4; stroke-opacity:1; fill:none\" points=\"\n",
       "  2151.79,910.808 2151.79,891.91 \n",
       "  \"/>\n",
       "<polyline clip-path=\"url(#clip320)\" style=\"stroke:#000000; stroke-linecap:butt; stroke-linejoin:round; stroke-width:4; stroke-opacity:1; fill:none\" points=\"\n",
       "  2402.03,910.808 2402.03,891.91 \n",
       "  \"/>\n",
       "<polyline clip-path=\"url(#clip320)\" style=\"stroke:#000000; stroke-linecap:butt; stroke-linejoin:round; stroke-width:4; stroke-opacity:1; fill:none\" points=\"\n",
       "  2652.27,910.808 2652.27,891.91 \n",
       "  \"/>\n",
       "<polyline clip-path=\"url(#clip320)\" style=\"stroke:#000000; stroke-linecap:butt; stroke-linejoin:round; stroke-width:4; stroke-opacity:1; fill:none\" points=\"\n",
       "  2902.51,910.808 2902.51,891.91 \n",
       "  \"/>\n",
       "<polyline clip-path=\"url(#clip320)\" style=\"stroke:#000000; stroke-linecap:butt; stroke-linejoin:round; stroke-width:4; stroke-opacity:1; fill:none\" points=\"\n",
       "  3152.76,910.808 3152.76,891.91 \n",
       "  \"/>\n",
       "<path clip-path=\"url(#clip320)\" d=\"M103.673 962.779 L133.348 962.779 L133.348 966.714 L103.673 966.714 L103.673 962.779 Z\" fill=\"#000000\" fill-rule=\"evenodd\" fill-opacity=\"1\" /><path clip-path=\"url(#clip320)\" d=\"M144.251 975.673 L151.89 975.673 L151.89 949.307 L143.58 950.974 L143.58 946.715 L151.844 945.048 L156.52 945.048 L156.52 975.673 L164.158 975.673 L164.158 979.608 L144.251 979.608 L144.251 975.673 Z\" fill=\"#000000\" fill-rule=\"evenodd\" fill-opacity=\"1\" /><path clip-path=\"url(#clip320)\" d=\"M186.45 949.122 L174.644 967.571 L186.45 967.571 L186.45 949.122 M185.223 945.048 L191.103 945.048 L191.103 967.571 L196.033 967.571 L196.033 971.46 L191.103 971.46 L191.103 979.608 L186.45 979.608 L186.45 971.46 L170.848 971.46 L170.848 966.946 L185.223 945.048 Z\" fill=\"#000000\" fill-rule=\"evenodd\" fill-opacity=\"1\" /><path clip-path=\"url(#clip320)\" d=\"M354.956 962.779 L384.632 962.779 L384.632 966.714 L354.956 966.714 L354.956 962.779 Z\" fill=\"#000000\" fill-rule=\"evenodd\" fill-opacity=\"1\" /><path clip-path=\"url(#clip320)\" d=\"M395.535 975.673 L403.174 975.673 L403.174 949.307 L394.863 950.974 L394.863 946.715 L403.127 945.048 L407.803 945.048 L407.803 975.673 L415.442 975.673 L415.442 979.608 L395.535 979.608 L395.535 975.673 Z\" fill=\"#000000\" fill-rule=\"evenodd\" fill-opacity=\"1\" /><path clip-path=\"url(#clip320)\" d=\"M428.914 975.673 L445.234 975.673 L445.234 979.608 L423.289 979.608 L423.289 975.673 Q425.951 972.918 430.535 968.288 Q435.141 963.636 436.322 962.293 Q438.567 959.77 439.446 958.034 Q440.349 956.275 440.349 954.585 Q440.349 951.83 438.405 950.094 Q436.484 948.358 433.382 948.358 Q431.183 948.358 428.729 949.122 Q426.298 949.886 423.521 951.437 L423.521 946.715 Q426.345 945.58 428.798 945.002 Q431.252 944.423 433.289 944.423 Q438.659 944.423 441.854 947.108 Q445.048 949.793 445.048 954.284 Q445.048 956.414 444.238 958.335 Q443.451 960.233 441.345 962.826 Q440.766 963.497 437.664 966.714 Q434.562 969.909 428.914 975.673 Z\" fill=\"#000000\" fill-rule=\"evenodd\" fill-opacity=\"1\" /><path clip-path=\"url(#clip320)\" d=\"M604.4 962.779 L634.075 962.779 L634.075 966.714 L604.4 966.714 L604.4 962.779 Z\" fill=\"#000000\" fill-rule=\"evenodd\" fill-opacity=\"1\" /><path clip-path=\"url(#clip320)\" d=\"M644.978 975.673 L652.617 975.673 L652.617 949.307 L644.307 950.974 L644.307 946.715 L652.571 945.048 L657.246 945.048 L657.246 975.673 L664.885 975.673 L664.885 979.608 L644.978 979.608 L644.978 975.673 Z\" fill=\"#000000\" fill-rule=\"evenodd\" fill-opacity=\"1\" /><path clip-path=\"url(#clip320)\" d=\"M684.33 948.127 Q680.719 948.127 678.89 951.691 Q677.084 955.233 677.084 962.363 Q677.084 969.469 678.89 973.034 Q680.719 976.575 684.33 976.575 Q687.964 976.575 689.769 973.034 Q691.598 969.469 691.598 962.363 Q691.598 955.233 689.769 951.691 Q687.964 948.127 684.33 948.127 M684.33 944.423 Q690.14 944.423 693.195 949.029 Q696.274 953.613 696.274 962.363 Q696.274 971.089 693.195 975.696 Q690.14 980.279 684.33 980.279 Q678.519 980.279 675.441 975.696 Q672.385 971.089 672.385 962.363 Q672.385 953.613 675.441 949.029 Q678.519 944.423 684.33 944.423 Z\" fill=\"#000000\" fill-rule=\"evenodd\" fill-opacity=\"1\" /><path clip-path=\"url(#clip320)\" d=\"M869.769 962.779 L899.444 962.779 L899.444 966.714 L869.769 966.714 L869.769 962.779 Z\" fill=\"#000000\" fill-rule=\"evenodd\" fill-opacity=\"1\" /><path clip-path=\"url(#clip320)\" d=\"M919.537 963.196 Q916.204 963.196 914.282 964.978 Q912.384 966.761 912.384 969.886 Q912.384 973.011 914.282 974.793 Q916.204 976.575 919.537 976.575 Q922.87 976.575 924.792 974.793 Q926.713 972.988 926.713 969.886 Q926.713 966.761 924.792 964.978 Q922.893 963.196 919.537 963.196 M914.861 961.205 Q911.852 960.464 910.162 958.404 Q908.495 956.344 908.495 953.381 Q908.495 949.238 911.435 946.83 Q914.398 944.423 919.537 944.423 Q924.699 944.423 927.639 946.83 Q930.579 949.238 930.579 953.381 Q930.579 956.344 928.889 958.404 Q927.222 960.464 924.236 961.205 Q927.616 961.992 929.491 964.284 Q931.389 966.576 931.389 969.886 Q931.389 974.909 928.31 977.594 Q925.254 980.279 919.537 980.279 Q913.819 980.279 910.741 977.594 Q907.685 974.909 907.685 969.886 Q907.685 966.576 909.583 964.284 Q911.481 961.992 914.861 961.205 M913.148 953.821 Q913.148 956.506 914.815 958.011 Q916.505 959.515 919.537 959.515 Q922.546 959.515 924.236 958.011 Q925.949 956.506 925.949 953.821 Q925.949 951.136 924.236 949.631 Q922.546 948.127 919.537 948.127 Q916.505 948.127 914.815 949.631 Q913.148 951.136 913.148 953.821 Z\" fill=\"#000000\" fill-rule=\"evenodd\" fill-opacity=\"1\" /><path clip-path=\"url(#clip320)\" d=\"M1119.88 962.779 L1149.56 962.779 L1149.56 966.714 L1119.88 966.714 L1119.88 962.779 Z\" fill=\"#000000\" fill-rule=\"evenodd\" fill-opacity=\"1\" /><path clip-path=\"url(#clip320)\" d=\"M1170.23 960.464 Q1167.08 960.464 1165.23 962.617 Q1163.4 964.77 1163.4 968.52 Q1163.4 972.247 1165.23 974.423 Q1167.08 976.575 1170.23 976.575 Q1173.38 976.575 1175.21 974.423 Q1177.06 972.247 1177.06 968.52 Q1177.06 964.77 1175.21 962.617 Q1173.38 960.464 1170.23 960.464 M1179.51 945.812 L1179.51 950.071 Q1177.75 949.238 1175.95 948.798 Q1174.17 948.358 1172.41 948.358 Q1167.78 948.358 1165.32 951.483 Q1162.89 954.608 1162.55 960.927 Q1163.91 958.914 1165.97 957.849 Q1168.03 956.761 1170.51 956.761 Q1175.72 956.761 1178.73 959.932 Q1181.76 963.08 1181.76 968.52 Q1181.76 973.844 1178.61 977.062 Q1175.46 980.279 1170.23 980.279 Q1164.23 980.279 1161.06 975.696 Q1157.89 971.089 1157.89 962.363 Q1157.89 954.168 1161.78 949.307 Q1165.67 944.423 1172.22 944.423 Q1173.98 944.423 1175.76 944.77 Q1177.57 945.117 1179.51 945.812 Z\" fill=\"#000000\" fill-rule=\"evenodd\" fill-opacity=\"1\" /><path clip-path=\"url(#clip320)\" d=\"M1369.96 962.779 L1399.64 962.779 L1399.64 966.714 L1369.96 966.714 L1369.96 962.779 Z\" fill=\"#000000\" fill-rule=\"evenodd\" fill-opacity=\"1\" /><path clip-path=\"url(#clip320)\" d=\"M1422.58 949.122 L1410.77 967.571 L1422.58 967.571 L1422.58 949.122 M1421.35 945.048 L1427.23 945.048 L1427.23 967.571 L1432.16 967.571 L1432.16 971.46 L1427.23 971.46 L1427.23 979.608 L1422.58 979.608 L1422.58 971.46 L1406.98 971.46 L1406.98 966.946 L1421.35 945.048 Z\" fill=\"#000000\" fill-rule=\"evenodd\" fill-opacity=\"1\" /><path clip-path=\"url(#clip320)\" d=\"M1621.25 962.779 L1650.92 962.779 L1650.92 966.714 L1621.25 966.714 L1621.25 962.779 Z\" fill=\"#000000\" fill-rule=\"evenodd\" fill-opacity=\"1\" /><path clip-path=\"url(#clip320)\" d=\"M1665.04 975.673 L1681.36 975.673 L1681.36 979.608 L1659.42 979.608 L1659.42 975.673 Q1662.08 972.918 1666.66 968.288 Q1671.27 963.636 1672.45 962.293 Q1674.7 959.77 1675.58 958.034 Q1676.48 956.275 1676.48 954.585 Q1676.48 951.83 1674.53 950.094 Q1672.61 948.358 1669.51 948.358 Q1667.31 948.358 1664.86 949.122 Q1662.43 949.886 1659.65 951.437 L1659.65 946.715 Q1662.47 945.58 1664.93 945.002 Q1667.38 944.423 1669.42 944.423 Q1674.79 944.423 1677.98 947.108 Q1681.18 949.793 1681.18 954.284 Q1681.18 956.414 1680.37 958.335 Q1679.58 960.233 1677.47 962.826 Q1676.89 963.497 1673.79 966.714 Q1670.69 969.909 1665.04 975.673 Z\" fill=\"#000000\" fill-rule=\"evenodd\" fill-opacity=\"1\" /><path clip-path=\"url(#clip320)\" d=\"M1901.55 948.127 Q1897.94 948.127 1896.11 951.691 Q1894.3 955.233 1894.3 962.363 Q1894.3 969.469 1896.11 973.034 Q1897.94 976.575 1901.55 976.575 Q1905.18 976.575 1906.99 973.034 Q1908.81 969.469 1908.81 962.363 Q1908.81 955.233 1906.99 951.691 Q1905.18 948.127 1901.55 948.127 M1901.55 944.423 Q1907.36 944.423 1910.41 949.029 Q1913.49 953.613 1913.49 962.363 Q1913.49 971.089 1910.41 975.696 Q1907.36 980.279 1901.55 980.279 Q1895.74 980.279 1892.66 975.696 Q1889.6 971.089 1889.6 962.363 Q1889.6 953.613 1892.66 949.029 Q1895.74 944.423 1901.55 944.423 Z\" fill=\"#000000\" fill-rule=\"evenodd\" fill-opacity=\"1\" /><path clip-path=\"url(#clip320)\" d=\"M2146.44 975.673 L2162.76 975.673 L2162.76 979.608 L2140.82 979.608 L2140.82 975.673 Q2143.48 972.918 2148.06 968.288 Q2152.67 963.636 2153.85 962.293 Q2156.09 959.77 2156.97 958.034 Q2157.88 956.275 2157.88 954.585 Q2157.88 951.83 2155.93 950.094 Q2154.01 948.358 2150.91 948.358 Q2148.71 948.358 2146.26 949.122 Q2143.83 949.886 2141.05 951.437 L2141.05 946.715 Q2143.87 945.58 2146.33 945.002 Q2148.78 944.423 2150.82 944.423 Q2156.19 944.423 2159.38 947.108 Q2162.58 949.793 2162.58 954.284 Q2162.58 956.414 2161.77 958.335 Q2160.98 960.233 2158.87 962.826 Q2158.29 963.497 2155.19 966.714 Q2152.09 969.909 2146.44 975.673 Z\" fill=\"#000000\" fill-rule=\"evenodd\" fill-opacity=\"1\" /><path clip-path=\"url(#clip320)\" d=\"M2405.04 949.122 L2393.23 967.571 L2405.04 967.571 L2405.04 949.122 M2403.81 945.048 L2409.69 945.048 L2409.69 967.571 L2414.62 967.571 L2414.62 971.46 L2409.69 971.46 L2409.69 979.608 L2405.04 979.608 L2405.04 971.46 L2389.44 971.46 L2389.44 966.946 L2403.81 945.048 Z\" fill=\"#000000\" fill-rule=\"evenodd\" fill-opacity=\"1\" /><path clip-path=\"url(#clip320)\" d=\"M2652.68 960.464 Q2649.53 960.464 2647.68 962.617 Q2645.85 964.77 2645.85 968.52 Q2645.85 972.247 2647.68 974.423 Q2649.53 976.575 2652.68 976.575 Q2655.83 976.575 2657.65 974.423 Q2659.51 972.247 2659.51 968.52 Q2659.51 964.77 2657.65 962.617 Q2655.83 960.464 2652.68 960.464 M2661.96 945.812 L2661.96 950.071 Q2660.2 949.238 2658.39 948.798 Q2656.61 948.358 2654.85 948.358 Q2650.22 948.358 2647.77 951.483 Q2645.34 954.608 2644.99 960.927 Q2646.36 958.914 2648.42 957.849 Q2650.48 956.761 2652.95 956.761 Q2658.16 956.761 2661.17 959.932 Q2664.2 963.08 2664.2 968.52 Q2664.2 973.844 2661.06 977.062 Q2657.91 980.279 2652.68 980.279 Q2646.68 980.279 2643.51 975.696 Q2640.34 971.089 2640.34 962.363 Q2640.34 954.168 2644.23 949.307 Q2648.12 944.423 2654.67 944.423 Q2656.43 944.423 2658.21 944.77 Q2660.02 945.117 2661.96 945.812 Z\" fill=\"#000000\" fill-rule=\"evenodd\" fill-opacity=\"1\" /><path clip-path=\"url(#clip320)\" d=\"M2902.51 963.196 Q2899.18 963.196 2897.26 964.978 Q2895.36 966.761 2895.36 969.886 Q2895.36 973.011 2897.26 974.793 Q2899.18 976.575 2902.51 976.575 Q2905.85 976.575 2907.77 974.793 Q2909.69 972.988 2909.69 969.886 Q2909.69 966.761 2907.77 964.978 Q2905.87 963.196 2902.51 963.196 M2897.84 961.205 Q2894.83 960.464 2893.14 958.404 Q2891.47 956.344 2891.47 953.381 Q2891.47 949.238 2894.41 946.83 Q2897.38 944.423 2902.51 944.423 Q2907.68 944.423 2910.62 946.83 Q2913.56 949.238 2913.56 953.381 Q2913.56 956.344 2911.87 958.404 Q2910.2 960.464 2907.21 961.205 Q2910.59 961.992 2912.47 964.284 Q2914.37 966.576 2914.37 969.886 Q2914.37 974.909 2911.29 977.594 Q2908.23 980.279 2902.51 980.279 Q2896.8 980.279 2893.72 977.594 Q2890.66 974.909 2890.66 969.886 Q2890.66 966.576 2892.56 964.284 Q2894.46 961.992 2897.84 961.205 M2896.13 953.821 Q2896.13 956.506 2897.79 958.011 Q2899.48 959.515 2902.51 959.515 Q2905.52 959.515 2907.21 958.011 Q2908.93 956.506 2908.93 953.821 Q2908.93 951.136 2907.21 949.631 Q2905.52 948.127 2902.51 948.127 Q2899.48 948.127 2897.79 949.631 Q2896.13 951.136 2896.13 953.821 Z\" fill=\"#000000\" fill-rule=\"evenodd\" fill-opacity=\"1\" /><path clip-path=\"url(#clip320)\" d=\"M3127.44 975.673 L3135.08 975.673 L3135.08 949.307 L3126.77 950.974 L3126.77 946.715 L3135.04 945.048 L3139.71 945.048 L3139.71 975.673 L3147.35 975.673 L3147.35 979.608 L3127.44 979.608 L3127.44 975.673 Z\" fill=\"#000000\" fill-rule=\"evenodd\" fill-opacity=\"1\" /><path clip-path=\"url(#clip320)\" d=\"M3166.8 948.127 Q3163.18 948.127 3161.36 951.691 Q3159.55 955.233 3159.55 962.363 Q3159.55 969.469 3161.36 973.034 Q3163.18 976.575 3166.8 976.575 Q3170.43 976.575 3172.23 973.034 Q3174.06 969.469 3174.06 962.363 Q3174.06 955.233 3172.23 951.691 Q3170.43 948.127 3166.8 948.127 M3166.8 944.423 Q3172.61 944.423 3175.66 949.029 Q3178.74 953.613 3178.74 962.363 Q3178.74 971.089 3175.66 975.696 Q3172.61 980.279 3166.8 980.279 Q3160.99 980.279 3157.91 975.696 Q3154.85 971.089 3154.85 962.363 Q3154.85 953.613 3157.91 949.029 Q3160.99 944.423 3166.8 944.423 Z\" fill=\"#000000\" fill-rule=\"evenodd\" fill-opacity=\"1\" /><polyline clip-path=\"url(#clip322)\" style=\"stroke:#000000; stroke-linecap:butt; stroke-linejoin:round; stroke-width:2; stroke-opacity:0.1; fill:none\" points=\"\n",
       "  149.853,886.367 3152.76,886.367 \n",
       "  \"/>\n",
       "<polyline clip-path=\"url(#clip322)\" style=\"stroke:#000000; stroke-linecap:butt; stroke-linejoin:round; stroke-width:2; stroke-opacity:0.1; fill:none\" points=\"\n",
       "  149.853,757.053 3152.76,757.053 \n",
       "  \"/>\n",
       "<polyline clip-path=\"url(#clip322)\" style=\"stroke:#000000; stroke-linecap:butt; stroke-linejoin:round; stroke-width:2; stroke-opacity:0.1; fill:none\" points=\"\n",
       "  149.853,627.738 3152.76,627.738 \n",
       "  \"/>\n",
       "<polyline clip-path=\"url(#clip322)\" style=\"stroke:#000000; stroke-linecap:butt; stroke-linejoin:round; stroke-width:2; stroke-opacity:0.1; fill:none\" points=\"\n",
       "  149.853,498.423 3152.76,498.423 \n",
       "  \"/>\n",
       "<polyline clip-path=\"url(#clip322)\" style=\"stroke:#000000; stroke-linecap:butt; stroke-linejoin:round; stroke-width:2; stroke-opacity:0.1; fill:none\" points=\"\n",
       "  149.853,369.108 3152.76,369.108 \n",
       "  \"/>\n",
       "<polyline clip-path=\"url(#clip322)\" style=\"stroke:#000000; stroke-linecap:butt; stroke-linejoin:round; stroke-width:2; stroke-opacity:0.1; fill:none\" points=\"\n",
       "  149.853,239.794 3152.76,239.794 \n",
       "  \"/>\n",
       "<polyline clip-path=\"url(#clip322)\" style=\"stroke:#000000; stroke-linecap:butt; stroke-linejoin:round; stroke-width:2; stroke-opacity:0.1; fill:none\" points=\"\n",
       "  149.853,110.479 3152.76,110.479 \n",
       "  \"/>\n",
       "<polyline clip-path=\"url(#clip320)\" style=\"stroke:#000000; stroke-linecap:butt; stroke-linejoin:round; stroke-width:4; stroke-opacity:1; fill:none\" points=\"\n",
       "  149.853,910.808 149.853,47.2441 \n",
       "  \"/>\n",
       "<polyline clip-path=\"url(#clip320)\" style=\"stroke:#000000; stroke-linecap:butt; stroke-linejoin:round; stroke-width:4; stroke-opacity:1; fill:none\" points=\"\n",
       "  149.853,886.367 168.751,886.367 \n",
       "  \"/>\n",
       "<polyline clip-path=\"url(#clip320)\" style=\"stroke:#000000; stroke-linecap:butt; stroke-linejoin:round; stroke-width:4; stroke-opacity:1; fill:none\" points=\"\n",
       "  149.853,757.053 168.751,757.053 \n",
       "  \"/>\n",
       "<polyline clip-path=\"url(#clip320)\" style=\"stroke:#000000; stroke-linecap:butt; stroke-linejoin:round; stroke-width:4; stroke-opacity:1; fill:none\" points=\"\n",
       "  149.853,627.738 168.751,627.738 \n",
       "  \"/>\n",
       "<polyline clip-path=\"url(#clip320)\" style=\"stroke:#000000; stroke-linecap:butt; stroke-linejoin:round; stroke-width:4; stroke-opacity:1; fill:none\" points=\"\n",
       "  149.853,498.423 168.751,498.423 \n",
       "  \"/>\n",
       "<polyline clip-path=\"url(#clip320)\" style=\"stroke:#000000; stroke-linecap:butt; stroke-linejoin:round; stroke-width:4; stroke-opacity:1; fill:none\" points=\"\n",
       "  149.853,369.108 168.751,369.108 \n",
       "  \"/>\n",
       "<polyline clip-path=\"url(#clip320)\" style=\"stroke:#000000; stroke-linecap:butt; stroke-linejoin:round; stroke-width:4; stroke-opacity:1; fill:none\" points=\"\n",
       "  149.853,239.794 168.751,239.794 \n",
       "  \"/>\n",
       "<polyline clip-path=\"url(#clip320)\" style=\"stroke:#000000; stroke-linecap:butt; stroke-linejoin:round; stroke-width:4; stroke-opacity:1; fill:none\" points=\"\n",
       "  149.853,110.479 168.751,110.479 \n",
       "  \"/>\n",
       "<path clip-path=\"url(#clip320)\" d=\"M89.9086 872.166 Q86.2975 872.166 84.4688 875.731 Q82.6632 879.273 82.6632 886.402 Q82.6632 893.509 84.4688 897.073 Q86.2975 900.615 89.9086 900.615 Q93.5428 900.615 95.3483 897.073 Q97.177 893.509 97.177 886.402 Q97.177 879.273 95.3483 875.731 Q93.5428 872.166 89.9086 872.166 M89.9086 868.462 Q95.7187 868.462 98.7743 873.069 Q101.853 877.652 101.853 886.402 Q101.853 895.129 98.7743 899.735 Q95.7187 904.319 89.9086 904.319 Q84.0984 904.319 81.0197 899.735 Q77.9642 895.129 77.9642 886.402 Q77.9642 877.652 81.0197 873.069 Q84.0984 868.462 89.9086 868.462 Z\" fill=\"#000000\" fill-rule=\"evenodd\" fill-opacity=\"1\" /><path clip-path=\"url(#clip320)\" d=\"M50.5569 770.397 L58.1958 770.397 L58.1958 744.032 L49.8856 745.699 L49.8856 741.439 L58.1495 739.773 L62.8254 739.773 L62.8254 770.397 L70.4642 770.397 L70.4642 774.333 L50.5569 774.333 L50.5569 770.397 Z\" fill=\"#000000\" fill-rule=\"evenodd\" fill-opacity=\"1\" /><path clip-path=\"url(#clip320)\" d=\"M89.9086 742.851 Q86.2975 742.851 84.4688 746.416 Q82.6632 749.958 82.6632 757.087 Q82.6632 764.194 84.4688 767.759 Q86.2975 771.3 89.9086 771.3 Q93.5428 771.3 95.3483 767.759 Q97.177 764.194 97.177 757.087 Q97.177 749.958 95.3483 746.416 Q93.5428 742.851 89.9086 742.851 M89.9086 739.148 Q95.7187 739.148 98.7743 743.754 Q101.853 748.337 101.853 757.087 Q101.853 765.814 98.7743 770.421 Q95.7187 775.004 89.9086 775.004 Q84.0984 775.004 81.0197 770.421 Q77.9642 765.814 77.9642 757.087 Q77.9642 748.337 81.0197 743.754 Q84.0984 739.148 89.9086 739.148 Z\" fill=\"#000000\" fill-rule=\"evenodd\" fill-opacity=\"1\" /><path clip-path=\"url(#clip320)\" d=\"M53.7745 641.083 L70.0939 641.083 L70.0939 645.018 L48.1495 645.018 L48.1495 641.083 Q50.8115 638.328 55.3949 633.699 Q60.0013 629.046 61.1819 627.703 Q63.4272 625.18 64.3068 623.444 Q65.2096 621.685 65.2096 619.995 Q65.2096 617.24 63.2652 615.504 Q61.3439 613.768 58.2421 613.768 Q56.043 613.768 53.5893 614.532 Q51.1588 615.296 48.381 616.847 L48.381 612.125 Q51.2051 610.99 53.6588 610.412 Q56.1124 609.833 58.1495 609.833 Q63.5198 609.833 66.7142 612.518 Q69.9087 615.203 69.9087 619.694 Q69.9087 621.824 69.0985 623.745 Q68.3115 625.643 66.205 628.236 Q65.6263 628.907 62.5245 632.124 Q59.4226 635.319 53.7745 641.083 Z\" fill=\"#000000\" fill-rule=\"evenodd\" fill-opacity=\"1\" /><path clip-path=\"url(#clip320)\" d=\"M89.9086 613.537 Q86.2975 613.537 84.4688 617.101 Q82.6632 620.643 82.6632 627.773 Q82.6632 634.879 84.4688 638.444 Q86.2975 641.986 89.9086 641.986 Q93.5428 641.986 95.3483 638.444 Q97.177 634.879 97.177 627.773 Q97.177 620.643 95.3483 617.101 Q93.5428 613.537 89.9086 613.537 M89.9086 609.833 Q95.7187 609.833 98.7743 614.439 Q101.853 619.023 101.853 627.773 Q101.853 636.499 98.7743 641.106 Q95.7187 645.689 89.9086 645.689 Q84.0984 645.689 81.0197 641.106 Q77.9642 636.499 77.9642 627.773 Q77.9642 619.023 81.0197 614.439 Q84.0984 609.833 89.9086 609.833 Z\" fill=\"#000000\" fill-rule=\"evenodd\" fill-opacity=\"1\" /><path clip-path=\"url(#clip320)\" d=\"M63.9133 497.069 Q67.2698 497.787 69.1448 500.055 Q71.0429 502.324 71.0429 505.657 Q71.0429 510.773 67.5244 513.574 Q64.0059 516.374 57.5245 516.374 Q55.3486 516.374 53.0338 515.935 Q50.7421 515.518 48.2884 514.662 L48.2884 510.148 Q50.2328 511.282 52.5477 511.861 Q54.8625 512.439 57.3856 512.439 Q61.7837 512.439 64.0754 510.703 Q66.3902 508.967 66.3902 505.657 Q66.3902 502.601 64.2374 500.888 Q62.1078 499.152 58.2884 499.152 L54.2606 499.152 L54.2606 495.31 L58.4735 495.31 Q61.9226 495.31 63.7513 493.944 Q65.58 492.555 65.58 489.963 Q65.58 487.301 63.6819 485.889 Q61.8069 484.453 58.2884 484.453 Q56.3671 484.453 54.168 484.87 Q51.969 485.287 49.3301 486.166 L49.3301 482 Q51.9921 481.259 54.3069 480.889 Q56.6449 480.518 58.705 480.518 Q64.0291 480.518 67.1309 482.949 Q70.2327 485.356 70.2327 489.476 Q70.2327 492.347 68.5892 494.338 Q66.9457 496.305 63.9133 497.069 Z\" fill=\"#000000\" fill-rule=\"evenodd\" fill-opacity=\"1\" /><path clip-path=\"url(#clip320)\" d=\"M89.9086 484.222 Q86.2975 484.222 84.4688 487.787 Q82.6632 491.328 82.6632 498.458 Q82.6632 505.564 84.4688 509.129 Q86.2975 512.671 89.9086 512.671 Q93.5428 512.671 95.3483 509.129 Q97.177 505.564 97.177 498.458 Q97.177 491.328 95.3483 487.787 Q93.5428 484.222 89.9086 484.222 M89.9086 480.518 Q95.7187 480.518 98.7743 485.125 Q101.853 489.708 101.853 498.458 Q101.853 507.185 98.7743 511.791 Q95.7187 516.374 89.9086 516.374 Q84.0984 516.374 81.0197 511.791 Q77.9642 507.185 77.9642 498.458 Q77.9642 489.708 81.0197 485.125 Q84.0984 480.518 89.9086 480.518 Z\" fill=\"#000000\" fill-rule=\"evenodd\" fill-opacity=\"1\" /><path clip-path=\"url(#clip320)\" d=\"M62.5939 355.903 L50.7884 374.351 L62.5939 374.351 L62.5939 355.903 M61.367 351.828 L67.2466 351.828 L67.2466 374.351 L72.1772 374.351 L72.1772 378.24 L67.2466 378.24 L67.2466 386.388 L62.5939 386.388 L62.5939 378.24 L46.9921 378.24 L46.9921 373.726 L61.367 351.828 Z\" fill=\"#000000\" fill-rule=\"evenodd\" fill-opacity=\"1\" /><path clip-path=\"url(#clip320)\" d=\"M89.9086 354.907 Q86.2975 354.907 84.4688 358.472 Q82.6632 362.014 82.6632 369.143 Q82.6632 376.25 84.4688 379.814 Q86.2975 383.356 89.9086 383.356 Q93.5428 383.356 95.3483 379.814 Q97.177 376.25 97.177 369.143 Q97.177 362.014 95.3483 358.472 Q93.5428 354.907 89.9086 354.907 M89.9086 351.203 Q95.7187 351.203 98.7743 355.81 Q101.853 360.393 101.853 369.143 Q101.853 377.87 98.7743 382.476 Q95.7187 387.06 89.9086 387.06 Q84.0984 387.06 81.0197 382.476 Q77.9642 377.87 77.9642 369.143 Q77.9642 360.393 81.0197 355.81 Q84.0984 351.203 89.9086 351.203 Z\" fill=\"#000000\" fill-rule=\"evenodd\" fill-opacity=\"1\" /><path clip-path=\"url(#clip320)\" d=\"M49.793 222.514 L68.1494 222.514 L68.1494 226.449 L54.0754 226.449 L54.0754 234.921 Q55.0939 234.574 56.1124 234.412 Q57.131 234.227 58.1495 234.227 Q63.9365 234.227 67.3161 237.398 Q70.6957 240.569 70.6957 245.986 Q70.6957 251.565 67.2235 254.666 Q63.7513 257.745 57.4319 257.745 Q55.256 257.745 52.9875 257.375 Q50.7421 257.004 48.3347 256.264 L48.3347 251.565 Q50.418 252.699 52.6402 253.254 Q54.8625 253.81 57.3393 253.81 Q61.3439 253.81 63.6819 251.703 Q66.0198 249.597 66.0198 245.986 Q66.0198 242.375 63.6819 240.268 Q61.3439 238.162 57.3393 238.162 Q55.4643 238.162 53.5893 238.578 Q51.7375 238.995 49.793 239.875 L49.793 222.514 Z\" fill=\"#000000\" fill-rule=\"evenodd\" fill-opacity=\"1\" /><path clip-path=\"url(#clip320)\" d=\"M89.9086 225.592 Q86.2975 225.592 84.4688 229.157 Q82.6632 232.699 82.6632 239.828 Q82.6632 246.935 84.4688 250.5 Q86.2975 254.041 89.9086 254.041 Q93.5428 254.041 95.3483 250.5 Q97.177 246.935 97.177 239.828 Q97.177 232.699 95.3483 229.157 Q93.5428 225.592 89.9086 225.592 M89.9086 221.889 Q95.7187 221.889 98.7743 226.495 Q101.853 231.078 101.853 239.828 Q101.853 248.555 98.7743 253.162 Q95.7187 257.745 89.9086 257.745 Q84.0984 257.745 81.0197 253.162 Q77.9642 248.555 77.9642 239.828 Q77.9642 231.078 81.0197 226.495 Q84.0984 221.889 89.9086 221.889 Z\" fill=\"#000000\" fill-rule=\"evenodd\" fill-opacity=\"1\" /><path clip-path=\"url(#clip320)\" d=\"M60.3254 108.616 Q57.1773 108.616 55.3254 110.768 Q53.4967 112.921 53.4967 116.671 Q53.4967 120.398 55.3254 122.574 Q57.1773 124.727 60.3254 124.727 Q63.4735 124.727 65.3022 122.574 Q67.1541 120.398 67.1541 116.671 Q67.1541 112.921 65.3022 110.768 Q63.4735 108.616 60.3254 108.616 M69.6077 93.9629 L69.6077 98.2221 Q67.8485 97.3888 66.0429 96.949 Q64.2606 96.5092 62.5013 96.5092 Q57.8717 96.5092 55.418 99.6341 Q52.9875 102.759 52.6402 109.079 Q54.006 107.065 56.0662 106 Q58.1263 104.912 60.6032 104.912 Q65.8115 104.912 68.8207 108.083 Q71.8531 111.231 71.8531 116.671 Q71.8531 121.995 68.705 125.213 Q65.5568 128.43 60.3254 128.43 Q54.33 128.43 51.1588 123.847 Q47.9875 119.241 47.9875 110.514 Q47.9875 102.319 51.8764 97.4582 Q55.7652 92.574 62.3161 92.574 Q64.0754 92.574 65.8578 92.9212 Q67.6633 93.2684 69.6077 93.9629 Z\" fill=\"#000000\" fill-rule=\"evenodd\" fill-opacity=\"1\" /><path clip-path=\"url(#clip320)\" d=\"M89.9086 96.2777 Q86.2975 96.2777 84.4688 99.8425 Q82.6632 103.384 82.6632 110.514 Q82.6632 117.62 84.4688 121.185 Q86.2975 124.727 89.9086 124.727 Q93.5428 124.727 95.3483 121.185 Q97.177 117.62 97.177 110.514 Q97.177 103.384 95.3483 99.8425 Q93.5428 96.2777 89.9086 96.2777 M89.9086 92.574 Q95.7187 92.574 98.7743 97.1805 Q101.853 101.764 101.853 110.514 Q101.853 119.241 98.7743 123.847 Q95.7187 128.43 89.9086 128.43 Q84.0984 128.43 81.0197 123.847 Q77.9642 119.241 77.9642 110.514 Q77.9642 101.764 81.0197 97.1805 Q84.0984 92.574 89.9086 92.574 Z\" fill=\"#000000\" fill-rule=\"evenodd\" fill-opacity=\"1\" /><path clip-path=\"url(#clip322)\" d=\"\n",
       "M-2352.57 873.436 L-2352.57 886.367 L-2290.01 886.367 L-2290.01 873.436 L-2352.57 873.436 L-2352.57 873.436  Z\n",
       "  \" fill=\"#4682b4\" fill-rule=\"evenodd\" fill-opacity=\"1\"/>\n",
       "<polyline clip-path=\"url(#clip322)\" style=\"stroke:#000000; stroke-linecap:butt; stroke-linejoin:round; stroke-width:4; stroke-opacity:1; fill:none\" points=\"\n",
       "  -2352.57,873.436 -2352.57,886.367 -2290.01,886.367 -2290.01,873.436 -2352.57,873.436 \n",
       "  \"/>\n",
       "<path clip-path=\"url(#clip322)\" d=\"\n",
       "M-2290.01 847.573 L-2290.01 886.367 L-2227.45 886.367 L-2227.45 847.573 L-2290.01 847.573 L-2290.01 847.573  Z\n",
       "  \" fill=\"#4682b4\" fill-rule=\"evenodd\" fill-opacity=\"1\"/>\n",
       "<polyline clip-path=\"url(#clip322)\" style=\"stroke:#000000; stroke-linecap:butt; stroke-linejoin:round; stroke-width:4; stroke-opacity:1; fill:none\" points=\"\n",
       "  -2290.01,847.573 -2290.01,886.367 -2227.45,886.367 -2227.45,847.573 -2290.01,847.573 \n",
       "  \"/>\n",
       "<path clip-path=\"url(#clip322)\" d=\"\n",
       "M-2227.45 886.367 L-2227.45 886.367 L-2164.88 886.367 L-2164.88 886.367 L-2227.45 886.367 L-2227.45 886.367  Z\n",
       "  \" fill=\"#4682b4\" fill-rule=\"evenodd\" fill-opacity=\"1\"/>\n",
       "<polyline clip-path=\"url(#clip322)\" style=\"stroke:#000000; stroke-linecap:butt; stroke-linejoin:round; stroke-width:4; stroke-opacity:1; fill:none\" points=\"\n",
       "  -2227.45,886.367 -2227.45,886.367 -2164.88,886.367 -2227.45,886.367 \n",
       "  \"/>\n",
       "<path clip-path=\"url(#clip322)\" d=\"\n",
       "M-2164.88 886.367 L-2164.88 886.367 L-2102.32 886.367 L-2102.32 886.367 L-2164.88 886.367 L-2164.88 886.367  Z\n",
       "  \" fill=\"#4682b4\" fill-rule=\"evenodd\" fill-opacity=\"1\"/>\n",
       "<polyline clip-path=\"url(#clip322)\" style=\"stroke:#000000; stroke-linecap:butt; stroke-linejoin:round; stroke-width:4; stroke-opacity:1; fill:none\" points=\"\n",
       "  -2164.88,886.367 -2164.88,886.367 -2102.32,886.367 -2164.88,886.367 \n",
       "  \"/>\n",
       "<path clip-path=\"url(#clip322)\" d=\"\n",
       "M-2102.32 886.367 L-2102.32 886.367 L-2039.76 886.367 L-2039.76 886.367 L-2102.32 886.367 L-2102.32 886.367  Z\n",
       "  \" fill=\"#4682b4\" fill-rule=\"evenodd\" fill-opacity=\"1\"/>\n",
       "<polyline clip-path=\"url(#clip322)\" style=\"stroke:#000000; stroke-linecap:butt; stroke-linejoin:round; stroke-width:4; stroke-opacity:1; fill:none\" points=\"\n",
       "  -2102.32,886.367 -2102.32,886.367 -2039.76,886.367 -2102.32,886.367 \n",
       "  \"/>\n",
       "<path clip-path=\"url(#clip322)\" d=\"\n",
       "M-2039.76 873.436 L-2039.76 886.367 L-1977.2 886.367 L-1977.2 873.436 L-2039.76 873.436 L-2039.76 873.436  Z\n",
       "  \" fill=\"#4682b4\" fill-rule=\"evenodd\" fill-opacity=\"1\"/>\n",
       "<polyline clip-path=\"url(#clip322)\" style=\"stroke:#000000; stroke-linecap:butt; stroke-linejoin:round; stroke-width:4; stroke-opacity:1; fill:none\" points=\"\n",
       "  -2039.76,873.436 -2039.76,886.367 -1977.2,886.367 -1977.2,873.436 -2039.76,873.436 \n",
       "  \"/>\n",
       "<path clip-path=\"url(#clip322)\" d=\"\n",
       "M-1977.2 886.367 L-1977.2 886.367 L-1914.64 886.367 L-1914.64 886.367 L-1977.2 886.367 L-1977.2 886.367  Z\n",
       "  \" fill=\"#4682b4\" fill-rule=\"evenodd\" fill-opacity=\"1\"/>\n",
       "<polyline clip-path=\"url(#clip322)\" style=\"stroke:#000000; stroke-linecap:butt; stroke-linejoin:round; stroke-width:4; stroke-opacity:1; fill:none\" points=\"\n",
       "  -1977.2,886.367 -1977.2,886.367 -1914.64,886.367 -1977.2,886.367 \n",
       "  \"/>\n",
       "<path clip-path=\"url(#clip322)\" d=\"\n",
       "M-1914.64 886.367 L-1914.64 886.367 L-1852.08 886.367 L-1852.08 886.367 L-1914.64 886.367 L-1914.64 886.367  Z\n",
       "  \" fill=\"#4682b4\" fill-rule=\"evenodd\" fill-opacity=\"1\"/>\n",
       "<polyline clip-path=\"url(#clip322)\" style=\"stroke:#000000; stroke-linecap:butt; stroke-linejoin:round; stroke-width:4; stroke-opacity:1; fill:none\" points=\"\n",
       "  -1914.64,886.367 -1914.64,886.367 -1852.08,886.367 -1914.64,886.367 \n",
       "  \"/>\n",
       "<path clip-path=\"url(#clip322)\" d=\"\n",
       "M-1852.08 886.367 L-1852.08 886.367 L-1789.52 886.367 L-1789.52 886.367 L-1852.08 886.367 L-1852.08 886.367  Z\n",
       "  \" fill=\"#4682b4\" fill-rule=\"evenodd\" fill-opacity=\"1\"/>\n",
       "<polyline clip-path=\"url(#clip322)\" style=\"stroke:#000000; stroke-linecap:butt; stroke-linejoin:round; stroke-width:4; stroke-opacity:1; fill:none\" points=\"\n",
       "  -1852.08,886.367 -1852.08,886.367 -1789.52,886.367 -1852.08,886.367 \n",
       "  \"/>\n",
       "<path clip-path=\"url(#clip322)\" d=\"\n",
       "M-1789.52 886.367 L-1789.52 886.367 L-1726.96 886.367 L-1726.96 886.367 L-1789.52 886.367 L-1789.52 886.367  Z\n",
       "  \" fill=\"#4682b4\" fill-rule=\"evenodd\" fill-opacity=\"1\"/>\n",
       "<polyline clip-path=\"url(#clip322)\" style=\"stroke:#000000; stroke-linecap:butt; stroke-linejoin:round; stroke-width:4; stroke-opacity:1; fill:none\" points=\"\n",
       "  -1789.52,886.367 -1789.52,886.367 -1726.96,886.367 -1789.52,886.367 \n",
       "  \"/>\n",
       "<path clip-path=\"url(#clip322)\" d=\"\n",
       "M-1726.96 886.367 L-1726.96 886.367 L-1664.4 886.367 L-1664.4 886.367 L-1726.96 886.367 L-1726.96 886.367  Z\n",
       "  \" fill=\"#4682b4\" fill-rule=\"evenodd\" fill-opacity=\"1\"/>\n",
       "<polyline clip-path=\"url(#clip322)\" style=\"stroke:#000000; stroke-linecap:butt; stroke-linejoin:round; stroke-width:4; stroke-opacity:1; fill:none\" points=\"\n",
       "  -1726.96,886.367 -1726.96,886.367 -1664.4,886.367 -1726.96,886.367 \n",
       "  \"/>\n",
       "<path clip-path=\"url(#clip322)\" d=\"\n",
       "M-1664.4 886.367 L-1664.4 886.367 L-1601.84 886.367 L-1601.84 886.367 L-1664.4 886.367 L-1664.4 886.367  Z\n",
       "  \" fill=\"#4682b4\" fill-rule=\"evenodd\" fill-opacity=\"1\"/>\n",
       "<polyline clip-path=\"url(#clip322)\" style=\"stroke:#000000; stroke-linecap:butt; stroke-linejoin:round; stroke-width:4; stroke-opacity:1; fill:none\" points=\"\n",
       "  -1664.4,886.367 -1664.4,886.367 -1601.84,886.367 -1664.4,886.367 \n",
       "  \"/>\n",
       "<path clip-path=\"url(#clip322)\" d=\"\n",
       "M-1601.84 886.367 L-1601.84 886.367 L-1539.28 886.367 L-1539.28 886.367 L-1601.84 886.367 L-1601.84 886.367  Z\n",
       "  \" fill=\"#4682b4\" fill-rule=\"evenodd\" fill-opacity=\"1\"/>\n",
       "<polyline clip-path=\"url(#clip322)\" style=\"stroke:#000000; stroke-linecap:butt; stroke-linejoin:round; stroke-width:4; stroke-opacity:1; fill:none\" points=\"\n",
       "  -1601.84,886.367 -1601.84,886.367 -1539.28,886.367 -1601.84,886.367 \n",
       "  \"/>\n",
       "<path clip-path=\"url(#clip322)\" d=\"\n",
       "M-1539.28 886.367 L-1539.28 886.367 L-1476.72 886.367 L-1476.72 886.367 L-1539.28 886.367 L-1539.28 886.367  Z\n",
       "  \" fill=\"#4682b4\" fill-rule=\"evenodd\" fill-opacity=\"1\"/>\n",
       "<polyline clip-path=\"url(#clip322)\" style=\"stroke:#000000; stroke-linecap:butt; stroke-linejoin:round; stroke-width:4; stroke-opacity:1; fill:none\" points=\"\n",
       "  -1539.28,886.367 -1539.28,886.367 -1476.72,886.367 -1539.28,886.367 \n",
       "  \"/>\n",
       "<path clip-path=\"url(#clip322)\" d=\"\n",
       "M-1476.72 886.367 L-1476.72 886.367 L-1414.16 886.367 L-1414.16 886.367 L-1476.72 886.367 L-1476.72 886.367  Z\n",
       "  \" fill=\"#4682b4\" fill-rule=\"evenodd\" fill-opacity=\"1\"/>\n",
       "<polyline clip-path=\"url(#clip322)\" style=\"stroke:#000000; stroke-linecap:butt; stroke-linejoin:round; stroke-width:4; stroke-opacity:1; fill:none\" points=\"\n",
       "  -1476.72,886.367 -1476.72,886.367 -1414.16,886.367 -1476.72,886.367 \n",
       "  \"/>\n",
       "<path clip-path=\"url(#clip322)\" d=\"\n",
       "M-1414.16 886.367 L-1414.16 886.367 L-1351.6 886.367 L-1351.6 886.367 L-1414.16 886.367 L-1414.16 886.367  Z\n",
       "  \" fill=\"#4682b4\" fill-rule=\"evenodd\" fill-opacity=\"1\"/>\n",
       "<polyline clip-path=\"url(#clip322)\" style=\"stroke:#000000; stroke-linecap:butt; stroke-linejoin:round; stroke-width:4; stroke-opacity:1; fill:none\" points=\"\n",
       "  -1414.16,886.367 -1414.16,886.367 -1351.6,886.367 -1414.16,886.367 \n",
       "  \"/>\n",
       "<path clip-path=\"url(#clip322)\" d=\"\n",
       "M-1351.6 886.367 L-1351.6 886.367 L-1289.04 886.367 L-1289.04 886.367 L-1351.6 886.367 L-1351.6 886.367  Z\n",
       "  \" fill=\"#4682b4\" fill-rule=\"evenodd\" fill-opacity=\"1\"/>\n",
       "<polyline clip-path=\"url(#clip322)\" style=\"stroke:#000000; stroke-linecap:butt; stroke-linejoin:round; stroke-width:4; stroke-opacity:1; fill:none\" points=\"\n",
       "  -1351.6,886.367 -1351.6,886.367 -1289.04,886.367 -1351.6,886.367 \n",
       "  \"/>\n",
       "<path clip-path=\"url(#clip322)\" d=\"\n",
       "M-1289.04 886.367 L-1289.04 886.367 L-1226.48 886.367 L-1226.48 886.367 L-1289.04 886.367 L-1289.04 886.367  Z\n",
       "  \" fill=\"#4682b4\" fill-rule=\"evenodd\" fill-opacity=\"1\"/>\n",
       "<polyline clip-path=\"url(#clip322)\" style=\"stroke:#000000; stroke-linecap:butt; stroke-linejoin:round; stroke-width:4; stroke-opacity:1; fill:none\" points=\"\n",
       "  -1289.04,886.367 -1289.04,886.367 -1226.48,886.367 -1289.04,886.367 \n",
       "  \"/>\n",
       "<path clip-path=\"url(#clip322)\" d=\"\n",
       "M-1226.48 886.367 L-1226.48 886.367 L-1163.92 886.367 L-1163.92 886.367 L-1226.48 886.367 L-1226.48 886.367  Z\n",
       "  \" fill=\"#4682b4\" fill-rule=\"evenodd\" fill-opacity=\"1\"/>\n",
       "<polyline clip-path=\"url(#clip322)\" style=\"stroke:#000000; stroke-linecap:butt; stroke-linejoin:round; stroke-width:4; stroke-opacity:1; fill:none\" points=\"\n",
       "  -1226.48,886.367 -1226.48,886.367 -1163.92,886.367 -1226.48,886.367 \n",
       "  \"/>\n",
       "<path clip-path=\"url(#clip322)\" d=\"\n",
       "M-1163.92 886.367 L-1163.92 886.367 L-1101.36 886.367 L-1101.36 886.367 L-1163.92 886.367 L-1163.92 886.367  Z\n",
       "  \" fill=\"#4682b4\" fill-rule=\"evenodd\" fill-opacity=\"1\"/>\n",
       "<polyline clip-path=\"url(#clip322)\" style=\"stroke:#000000; stroke-linecap:butt; stroke-linejoin:round; stroke-width:4; stroke-opacity:1; fill:none\" points=\"\n",
       "  -1163.92,886.367 -1163.92,886.367 -1101.36,886.367 -1163.92,886.367 \n",
       "  \"/>\n",
       "<path clip-path=\"url(#clip322)\" d=\"\n",
       "M-1101.36 873.436 L-1101.36 886.367 L-1038.8 886.367 L-1038.8 873.436 L-1101.36 873.436 L-1101.36 873.436  Z\n",
       "  \" fill=\"#4682b4\" fill-rule=\"evenodd\" fill-opacity=\"1\"/>\n",
       "<polyline clip-path=\"url(#clip322)\" style=\"stroke:#000000; stroke-linecap:butt; stroke-linejoin:round; stroke-width:4; stroke-opacity:1; fill:none\" points=\"\n",
       "  -1101.36,873.436 -1101.36,886.367 -1038.8,886.367 -1038.8,873.436 -1101.36,873.436 \n",
       "  \"/>\n",
       "<path clip-path=\"url(#clip322)\" d=\"\n",
       "M-1038.8 886.367 L-1038.8 886.367 L-976.236 886.367 L-976.236 886.367 L-1038.8 886.367 L-1038.8 886.367  Z\n",
       "  \" fill=\"#4682b4\" fill-rule=\"evenodd\" fill-opacity=\"1\"/>\n",
       "<polyline clip-path=\"url(#clip322)\" style=\"stroke:#000000; stroke-linecap:butt; stroke-linejoin:round; stroke-width:4; stroke-opacity:1; fill:none\" points=\"\n",
       "  -1038.8,886.367 -1038.8,886.367 -976.236,886.367 -1038.8,886.367 \n",
       "  \"/>\n",
       "<path clip-path=\"url(#clip322)\" d=\"\n",
       "M-976.236 886.367 L-976.236 886.367 L-913.675 886.367 L-913.675 886.367 L-976.236 886.367 L-976.236 886.367  Z\n",
       "  \" fill=\"#4682b4\" fill-rule=\"evenodd\" fill-opacity=\"1\"/>\n",
       "<polyline clip-path=\"url(#clip322)\" style=\"stroke:#000000; stroke-linecap:butt; stroke-linejoin:round; stroke-width:4; stroke-opacity:1; fill:none\" points=\"\n",
       "  -976.236,886.367 -976.236,886.367 -913.675,886.367 -976.236,886.367 \n",
       "  \"/>\n",
       "<path clip-path=\"url(#clip322)\" d=\"\n",
       "M-913.675 886.367 L-913.675 886.367 L-851.115 886.367 L-851.115 886.367 L-913.675 886.367 L-913.675 886.367  Z\n",
       "  \" fill=\"#4682b4\" fill-rule=\"evenodd\" fill-opacity=\"1\"/>\n",
       "<polyline clip-path=\"url(#clip322)\" style=\"stroke:#000000; stroke-linecap:butt; stroke-linejoin:round; stroke-width:4; stroke-opacity:1; fill:none\" points=\"\n",
       "  -913.675,886.367 -913.675,886.367 -851.115,886.367 -913.675,886.367 \n",
       "  \"/>\n",
       "<path clip-path=\"url(#clip322)\" d=\"\n",
       "M-851.115 886.367 L-851.115 886.367 L-788.554 886.367 L-788.554 886.367 L-851.115 886.367 L-851.115 886.367  Z\n",
       "  \" fill=\"#4682b4\" fill-rule=\"evenodd\" fill-opacity=\"1\"/>\n",
       "<polyline clip-path=\"url(#clip322)\" style=\"stroke:#000000; stroke-linecap:butt; stroke-linejoin:round; stroke-width:4; stroke-opacity:1; fill:none\" points=\"\n",
       "  -851.115,886.367 -851.115,886.367 -788.554,886.367 -851.115,886.367 \n",
       "  \"/>\n",
       "<path clip-path=\"url(#clip322)\" d=\"\n",
       "M-788.554 886.367 L-788.554 886.367 L-725.994 886.367 L-725.994 886.367 L-788.554 886.367 L-788.554 886.367  Z\n",
       "  \" fill=\"#4682b4\" fill-rule=\"evenodd\" fill-opacity=\"1\"/>\n",
       "<polyline clip-path=\"url(#clip322)\" style=\"stroke:#000000; stroke-linecap:butt; stroke-linejoin:round; stroke-width:4; stroke-opacity:1; fill:none\" points=\"\n",
       "  -788.554,886.367 -788.554,886.367 -725.994,886.367 -788.554,886.367 \n",
       "  \"/>\n",
       "<path clip-path=\"url(#clip322)\" d=\"\n",
       "M-725.994 886.367 L-725.994 886.367 L-663.433 886.367 L-663.433 886.367 L-725.994 886.367 L-725.994 886.367  Z\n",
       "  \" fill=\"#4682b4\" fill-rule=\"evenodd\" fill-opacity=\"1\"/>\n",
       "<polyline clip-path=\"url(#clip322)\" style=\"stroke:#000000; stroke-linecap:butt; stroke-linejoin:round; stroke-width:4; stroke-opacity:1; fill:none\" points=\"\n",
       "  -725.994,886.367 -725.994,886.367 -663.433,886.367 -725.994,886.367 \n",
       "  \"/>\n",
       "<path clip-path=\"url(#clip322)\" d=\"\n",
       "M-663.433 886.367 L-663.433 886.367 L-600.873 886.367 L-600.873 886.367 L-663.433 886.367 L-663.433 886.367  Z\n",
       "  \" fill=\"#4682b4\" fill-rule=\"evenodd\" fill-opacity=\"1\"/>\n",
       "<polyline clip-path=\"url(#clip322)\" style=\"stroke:#000000; stroke-linecap:butt; stroke-linejoin:round; stroke-width:4; stroke-opacity:1; fill:none\" points=\"\n",
       "  -663.433,886.367 -663.433,886.367 -600.873,886.367 -663.433,886.367 \n",
       "  \"/>\n",
       "<path clip-path=\"url(#clip322)\" d=\"\n",
       "M-600.873 886.367 L-600.873 886.367 L-538.312 886.367 L-538.312 886.367 L-600.873 886.367 L-600.873 886.367  Z\n",
       "  \" fill=\"#4682b4\" fill-rule=\"evenodd\" fill-opacity=\"1\"/>\n",
       "<polyline clip-path=\"url(#clip322)\" style=\"stroke:#000000; stroke-linecap:butt; stroke-linejoin:round; stroke-width:4; stroke-opacity:1; fill:none\" points=\"\n",
       "  -600.873,886.367 -600.873,886.367 -538.312,886.367 -600.873,886.367 \n",
       "  \"/>\n",
       "<path clip-path=\"url(#clip322)\" d=\"\n",
       "M-538.312 886.367 L-538.312 886.367 L-475.752 886.367 L-475.752 886.367 L-538.312 886.367 L-538.312 886.367  Z\n",
       "  \" fill=\"#4682b4\" fill-rule=\"evenodd\" fill-opacity=\"1\"/>\n",
       "<polyline clip-path=\"url(#clip322)\" style=\"stroke:#000000; stroke-linecap:butt; stroke-linejoin:round; stroke-width:4; stroke-opacity:1; fill:none\" points=\"\n",
       "  -538.312,886.367 -538.312,886.367 -475.752,886.367 -538.312,886.367 \n",
       "  \"/>\n",
       "<path clip-path=\"url(#clip322)\" d=\"\n",
       "M-475.752 886.367 L-475.752 886.367 L-413.191 886.367 L-413.191 886.367 L-475.752 886.367 L-475.752 886.367  Z\n",
       "  \" fill=\"#4682b4\" fill-rule=\"evenodd\" fill-opacity=\"1\"/>\n",
       "<polyline clip-path=\"url(#clip322)\" style=\"stroke:#000000; stroke-linecap:butt; stroke-linejoin:round; stroke-width:4; stroke-opacity:1; fill:none\" points=\"\n",
       "  -475.752,886.367 -475.752,886.367 -413.191,886.367 -475.752,886.367 \n",
       "  \"/>\n",
       "<path clip-path=\"url(#clip322)\" d=\"\n",
       "M-413.191 886.367 L-413.191 886.367 L-350.631 886.367 L-350.631 886.367 L-413.191 886.367 L-413.191 886.367  Z\n",
       "  \" fill=\"#4682b4\" fill-rule=\"evenodd\" fill-opacity=\"1\"/>\n",
       "<polyline clip-path=\"url(#clip322)\" style=\"stroke:#000000; stroke-linecap:butt; stroke-linejoin:round; stroke-width:4; stroke-opacity:1; fill:none\" points=\"\n",
       "  -413.191,886.367 -413.191,886.367 -350.631,886.367 -413.191,886.367 \n",
       "  \"/>\n",
       "<path clip-path=\"url(#clip322)\" d=\"\n",
       "M-350.631 873.436 L-350.631 886.367 L-288.07 886.367 L-288.07 873.436 L-350.631 873.436 L-350.631 873.436  Z\n",
       "  \" fill=\"#4682b4\" fill-rule=\"evenodd\" fill-opacity=\"1\"/>\n",
       "<polyline clip-path=\"url(#clip322)\" style=\"stroke:#000000; stroke-linecap:butt; stroke-linejoin:round; stroke-width:4; stroke-opacity:1; fill:none\" points=\"\n",
       "  -350.631,873.436 -350.631,886.367 -288.07,886.367 -288.07,873.436 -350.631,873.436 \n",
       "  \"/>\n",
       "<path clip-path=\"url(#clip322)\" d=\"\n",
       "M-288.07 886.367 L-288.07 886.367 L-225.51 886.367 L-225.51 886.367 L-288.07 886.367 L-288.07 886.367  Z\n",
       "  \" fill=\"#4682b4\" fill-rule=\"evenodd\" fill-opacity=\"1\"/>\n",
       "<polyline clip-path=\"url(#clip322)\" style=\"stroke:#000000; stroke-linecap:butt; stroke-linejoin:round; stroke-width:4; stroke-opacity:1; fill:none\" points=\"\n",
       "  -288.07,886.367 -288.07,886.367 -225.51,886.367 -288.07,886.367 \n",
       "  \"/>\n",
       "<path clip-path=\"url(#clip322)\" d=\"\n",
       "M-225.51 886.367 L-225.51 886.367 L-162.949 886.367 L-162.949 886.367 L-225.51 886.367 L-225.51 886.367  Z\n",
       "  \" fill=\"#4682b4\" fill-rule=\"evenodd\" fill-opacity=\"1\"/>\n",
       "<polyline clip-path=\"url(#clip322)\" style=\"stroke:#000000; stroke-linecap:butt; stroke-linejoin:round; stroke-width:4; stroke-opacity:1; fill:none\" points=\"\n",
       "  -225.51,886.367 -225.51,886.367 -162.949,886.367 -225.51,886.367 \n",
       "  \"/>\n",
       "<path clip-path=\"url(#clip322)\" d=\"\n",
       "M-162.949 886.367 L-162.949 886.367 L-100.389 886.367 L-100.389 886.367 L-162.949 886.367 L-162.949 886.367  Z\n",
       "  \" fill=\"#4682b4\" fill-rule=\"evenodd\" fill-opacity=\"1\"/>\n",
       "<polyline clip-path=\"url(#clip322)\" style=\"stroke:#000000; stroke-linecap:butt; stroke-linejoin:round; stroke-width:4; stroke-opacity:1; fill:none\" points=\"\n",
       "  -162.949,886.367 -162.949,886.367 -100.389,886.367 -162.949,886.367 \n",
       "  \"/>\n",
       "<path clip-path=\"url(#clip322)\" d=\"\n",
       "M-100.389 886.367 L-100.389 886.367 L-37.8285 886.367 L-37.8285 886.367 L-100.389 886.367 L-100.389 886.367  Z\n",
       "  \" fill=\"#4682b4\" fill-rule=\"evenodd\" fill-opacity=\"1\"/>\n",
       "<polyline clip-path=\"url(#clip322)\" style=\"stroke:#000000; stroke-linecap:butt; stroke-linejoin:round; stroke-width:4; stroke-opacity:1; fill:none\" points=\"\n",
       "  -100.389,886.367 -100.389,886.367 -37.8285,886.367 -100.389,886.367 \n",
       "  \"/>\n",
       "<path clip-path=\"url(#clip322)\" d=\"\n",
       "M-37.8285 886.367 L-37.8285 886.367 L24.732 886.367 L24.732 886.367 L-37.8285 886.367 L-37.8285 886.367  Z\n",
       "  \" fill=\"#4682b4\" fill-rule=\"evenodd\" fill-opacity=\"1\"/>\n",
       "<polyline clip-path=\"url(#clip322)\" style=\"stroke:#000000; stroke-linecap:butt; stroke-linejoin:round; stroke-width:4; stroke-opacity:1; fill:none\" points=\"\n",
       "  -37.8285,886.367 -37.8285,886.367 24.732,886.367 -37.8285,886.367 \n",
       "  \"/>\n",
       "<path clip-path=\"url(#clip322)\" d=\"\n",
       "M24.732 886.367 L24.732 886.367 L87.2925 886.367 L87.2925 886.367 L24.732 886.367 L24.732 886.367  Z\n",
       "  \" fill=\"#4682b4\" fill-rule=\"evenodd\" fill-opacity=\"1\"/>\n",
       "<polyline clip-path=\"url(#clip322)\" style=\"stroke:#000000; stroke-linecap:butt; stroke-linejoin:round; stroke-width:4; stroke-opacity:1; fill:none\" points=\"\n",
       "  24.732,886.367 24.732,886.367 87.2925,886.367 24.732,886.367 \n",
       "  \"/>\n",
       "<path clip-path=\"url(#clip322)\" d=\"\n",
       "M87.2925 860.504 L87.2925 886.367 L149.853 886.367 L149.853 860.504 L87.2925 860.504 L87.2925 860.504  Z\n",
       "  \" fill=\"#4682b4\" fill-rule=\"evenodd\" fill-opacity=\"1\"/>\n",
       "<polyline clip-path=\"url(#clip322)\" style=\"stroke:#000000; stroke-linecap:butt; stroke-linejoin:round; stroke-width:4; stroke-opacity:1; fill:none\" points=\"\n",
       "  87.2925,860.504 87.2925,886.367 149.853,886.367 149.853,860.504 87.2925,860.504 \n",
       "  \"/>\n",
       "<path clip-path=\"url(#clip322)\" d=\"\n",
       "M149.853 886.367 L149.853 886.367 L212.413 886.367 L212.413 886.367 L149.853 886.367 L149.853 886.367  Z\n",
       "  \" fill=\"#4682b4\" fill-rule=\"evenodd\" fill-opacity=\"1\"/>\n",
       "<polyline clip-path=\"url(#clip322)\" style=\"stroke:#000000; stroke-linecap:butt; stroke-linejoin:round; stroke-width:4; stroke-opacity:1; fill:none\" points=\"\n",
       "  149.853,886.367 149.853,886.367 212.413,886.367 149.853,886.367 \n",
       "  \"/>\n",
       "<path clip-path=\"url(#clip322)\" d=\"\n",
       "M212.413 873.436 L212.413 886.367 L274.974 886.367 L274.974 873.436 L212.413 873.436 L212.413 873.436  Z\n",
       "  \" fill=\"#4682b4\" fill-rule=\"evenodd\" fill-opacity=\"1\"/>\n",
       "<polyline clip-path=\"url(#clip322)\" style=\"stroke:#000000; stroke-linecap:butt; stroke-linejoin:round; stroke-width:4; stroke-opacity:1; fill:none\" points=\"\n",
       "  212.413,873.436 212.413,886.367 274.974,886.367 274.974,873.436 212.413,873.436 \n",
       "  \"/>\n",
       "<path clip-path=\"url(#clip322)\" d=\"\n",
       "M274.974 886.367 L274.974 886.367 L337.534 886.367 L337.534 886.367 L274.974 886.367 L274.974 886.367  Z\n",
       "  \" fill=\"#4682b4\" fill-rule=\"evenodd\" fill-opacity=\"1\"/>\n",
       "<polyline clip-path=\"url(#clip322)\" style=\"stroke:#000000; stroke-linecap:butt; stroke-linejoin:round; stroke-width:4; stroke-opacity:1; fill:none\" points=\"\n",
       "  274.974,886.367 274.974,886.367 337.534,886.367 274.974,886.367 \n",
       "  \"/>\n",
       "<path clip-path=\"url(#clip322)\" d=\"\n",
       "M337.534 886.367 L337.534 886.367 L400.095 886.367 L400.095 886.367 L337.534 886.367 L337.534 886.367  Z\n",
       "  \" fill=\"#4682b4\" fill-rule=\"evenodd\" fill-opacity=\"1\"/>\n",
       "<polyline clip-path=\"url(#clip322)\" style=\"stroke:#000000; stroke-linecap:butt; stroke-linejoin:round; stroke-width:4; stroke-opacity:1; fill:none\" points=\"\n",
       "  337.534,886.367 337.534,886.367 400.095,886.367 337.534,886.367 \n",
       "  \"/>\n",
       "<path clip-path=\"url(#clip322)\" d=\"\n",
       "M400.095 847.573 L400.095 886.367 L462.655 886.367 L462.655 847.573 L400.095 847.573 L400.095 847.573  Z\n",
       "  \" fill=\"#4682b4\" fill-rule=\"evenodd\" fill-opacity=\"1\"/>\n",
       "<polyline clip-path=\"url(#clip322)\" style=\"stroke:#000000; stroke-linecap:butt; stroke-linejoin:round; stroke-width:4; stroke-opacity:1; fill:none\" points=\"\n",
       "  400.095,847.573 400.095,886.367 462.655,886.367 462.655,847.573 400.095,847.573 \n",
       "  \"/>\n",
       "<path clip-path=\"url(#clip322)\" d=\"\n",
       "M462.655 886.367 L462.655 886.367 L525.216 886.367 L525.216 886.367 L462.655 886.367 L462.655 886.367  Z\n",
       "  \" fill=\"#4682b4\" fill-rule=\"evenodd\" fill-opacity=\"1\"/>\n",
       "<polyline clip-path=\"url(#clip322)\" style=\"stroke:#000000; stroke-linecap:butt; stroke-linejoin:round; stroke-width:4; stroke-opacity:1; fill:none\" points=\"\n",
       "  462.655,886.367 462.655,886.367 525.216,886.367 462.655,886.367 \n",
       "  \"/>\n",
       "<path clip-path=\"url(#clip322)\" d=\"\n",
       "M525.216 873.436 L525.216 886.367 L587.776 886.367 L587.776 873.436 L525.216 873.436 L525.216 873.436  Z\n",
       "  \" fill=\"#4682b4\" fill-rule=\"evenodd\" fill-opacity=\"1\"/>\n",
       "<polyline clip-path=\"url(#clip322)\" style=\"stroke:#000000; stroke-linecap:butt; stroke-linejoin:round; stroke-width:4; stroke-opacity:1; fill:none\" points=\"\n",
       "  525.216,873.436 525.216,886.367 587.776,886.367 587.776,873.436 525.216,873.436 \n",
       "  \"/>\n",
       "<path clip-path=\"url(#clip322)\" d=\"\n",
       "M587.776 873.436 L587.776 886.367 L650.337 886.367 L650.337 873.436 L587.776 873.436 L587.776 873.436  Z\n",
       "  \" fill=\"#4682b4\" fill-rule=\"evenodd\" fill-opacity=\"1\"/>\n",
       "<polyline clip-path=\"url(#clip322)\" style=\"stroke:#000000; stroke-linecap:butt; stroke-linejoin:round; stroke-width:4; stroke-opacity:1; fill:none\" points=\"\n",
       "  587.776,873.436 587.776,886.367 650.337,886.367 650.337,873.436 587.776,873.436 \n",
       "  \"/>\n",
       "<path clip-path=\"url(#clip322)\" d=\"\n",
       "M650.337 873.436 L650.337 886.367 L712.897 886.367 L712.897 873.436 L650.337 873.436 L650.337 873.436  Z\n",
       "  \" fill=\"#4682b4\" fill-rule=\"evenodd\" fill-opacity=\"1\"/>\n",
       "<polyline clip-path=\"url(#clip322)\" style=\"stroke:#000000; stroke-linecap:butt; stroke-linejoin:round; stroke-width:4; stroke-opacity:1; fill:none\" points=\"\n",
       "  650.337,873.436 650.337,886.367 712.897,886.367 712.897,873.436 650.337,873.436 \n",
       "  \"/>\n",
       "<path clip-path=\"url(#clip322)\" d=\"\n",
       "M712.897 860.504 L712.897 886.367 L775.458 886.367 L775.458 860.504 L712.897 860.504 L712.897 860.504  Z\n",
       "  \" fill=\"#4682b4\" fill-rule=\"evenodd\" fill-opacity=\"1\"/>\n",
       "<polyline clip-path=\"url(#clip322)\" style=\"stroke:#000000; stroke-linecap:butt; stroke-linejoin:round; stroke-width:4; stroke-opacity:1; fill:none\" points=\"\n",
       "  712.897,860.504 712.897,886.367 775.458,886.367 775.458,860.504 712.897,860.504 \n",
       "  \"/>\n",
       "<path clip-path=\"url(#clip322)\" d=\"\n",
       "M775.458 860.504 L775.458 886.367 L838.018 886.367 L838.018 860.504 L775.458 860.504 L775.458 860.504  Z\n",
       "  \" fill=\"#4682b4\" fill-rule=\"evenodd\" fill-opacity=\"1\"/>\n",
       "<polyline clip-path=\"url(#clip322)\" style=\"stroke:#000000; stroke-linecap:butt; stroke-linejoin:round; stroke-width:4; stroke-opacity:1; fill:none\" points=\"\n",
       "  775.458,860.504 775.458,886.367 838.018,886.367 838.018,860.504 775.458,860.504 \n",
       "  \"/>\n",
       "<path clip-path=\"url(#clip322)\" d=\"\n",
       "M838.018 834.641 L838.018 886.367 L900.579 886.367 L900.579 834.641 L838.018 834.641 L838.018 834.641  Z\n",
       "  \" fill=\"#4682b4\" fill-rule=\"evenodd\" fill-opacity=\"1\"/>\n",
       "<polyline clip-path=\"url(#clip322)\" style=\"stroke:#000000; stroke-linecap:butt; stroke-linejoin:round; stroke-width:4; stroke-opacity:1; fill:none\" points=\"\n",
       "  838.018,834.641 838.018,886.367 900.579,886.367 900.579,834.641 838.018,834.641 \n",
       "  \"/>\n",
       "<path clip-path=\"url(#clip322)\" d=\"\n",
       "M900.579 834.641 L900.579 886.367 L963.139 886.367 L963.139 834.641 L900.579 834.641 L900.579 834.641  Z\n",
       "  \" fill=\"#4682b4\" fill-rule=\"evenodd\" fill-opacity=\"1\"/>\n",
       "<polyline clip-path=\"url(#clip322)\" style=\"stroke:#000000; stroke-linecap:butt; stroke-linejoin:round; stroke-width:4; stroke-opacity:1; fill:none\" points=\"\n",
       "  900.579,834.641 900.579,886.367 963.139,886.367 963.139,834.641 900.579,834.641 \n",
       "  \"/>\n",
       "<path clip-path=\"url(#clip322)\" d=\"\n",
       "M963.139 834.641 L963.139 886.367 L1025.7 886.367 L1025.7 834.641 L963.139 834.641 L963.139 834.641  Z\n",
       "  \" fill=\"#4682b4\" fill-rule=\"evenodd\" fill-opacity=\"1\"/>\n",
       "<polyline clip-path=\"url(#clip322)\" style=\"stroke:#000000; stroke-linecap:butt; stroke-linejoin:round; stroke-width:4; stroke-opacity:1; fill:none\" points=\"\n",
       "  963.139,834.641 963.139,886.367 1025.7,886.367 1025.7,834.641 963.139,834.641 \n",
       "  \"/>\n",
       "<path clip-path=\"url(#clip322)\" d=\"\n",
       "M1025.7 821.71 L1025.7 886.367 L1088.26 886.367 L1088.26 821.71 L1025.7 821.71 L1025.7 821.71  Z\n",
       "  \" fill=\"#4682b4\" fill-rule=\"evenodd\" fill-opacity=\"1\"/>\n",
       "<polyline clip-path=\"url(#clip322)\" style=\"stroke:#000000; stroke-linecap:butt; stroke-linejoin:round; stroke-width:4; stroke-opacity:1; fill:none\" points=\"\n",
       "  1025.7,821.71 1025.7,886.367 1088.26,886.367 1088.26,821.71 1025.7,821.71 \n",
       "  \"/>\n",
       "<path clip-path=\"url(#clip322)\" d=\"\n",
       "M1088.26 821.71 L1088.26 886.367 L1150.82 886.367 L1150.82 821.71 L1088.26 821.71 L1088.26 821.71  Z\n",
       "  \" fill=\"#4682b4\" fill-rule=\"evenodd\" fill-opacity=\"1\"/>\n",
       "<polyline clip-path=\"url(#clip322)\" style=\"stroke:#000000; stroke-linecap:butt; stroke-linejoin:round; stroke-width:4; stroke-opacity:1; fill:none\" points=\"\n",
       "  1088.26,821.71 1088.26,886.367 1150.82,886.367 1150.82,821.71 1088.26,821.71 \n",
       "  \"/>\n",
       "<path clip-path=\"url(#clip322)\" d=\"\n",
       "M1150.82 782.916 L1150.82 886.367 L1213.38 886.367 L1213.38 782.916 L1150.82 782.916 L1150.82 782.916  Z\n",
       "  \" fill=\"#4682b4\" fill-rule=\"evenodd\" fill-opacity=\"1\"/>\n",
       "<polyline clip-path=\"url(#clip322)\" style=\"stroke:#000000; stroke-linecap:butt; stroke-linejoin:round; stroke-width:4; stroke-opacity:1; fill:none\" points=\"\n",
       "  1150.82,782.916 1150.82,886.367 1213.38,886.367 1213.38,782.916 1150.82,782.916 \n",
       "  \"/>\n",
       "<path clip-path=\"url(#clip322)\" d=\"\n",
       "M1213.38 795.847 L1213.38 886.367 L1275.94 886.367 L1275.94 795.847 L1213.38 795.847 L1213.38 795.847  Z\n",
       "  \" fill=\"#4682b4\" fill-rule=\"evenodd\" fill-opacity=\"1\"/>\n",
       "<polyline clip-path=\"url(#clip322)\" style=\"stroke:#000000; stroke-linecap:butt; stroke-linejoin:round; stroke-width:4; stroke-opacity:1; fill:none\" points=\"\n",
       "  1213.38,795.847 1213.38,886.367 1275.94,886.367 1275.94,795.847 1213.38,795.847 \n",
       "  \"/>\n",
       "<path clip-path=\"url(#clip322)\" d=\"\n",
       "M1275.94 782.916 L1275.94 886.367 L1338.5 886.367 L1338.5 782.916 L1275.94 782.916 L1275.94 782.916  Z\n",
       "  \" fill=\"#4682b4\" fill-rule=\"evenodd\" fill-opacity=\"1\"/>\n",
       "<polyline clip-path=\"url(#clip322)\" style=\"stroke:#000000; stroke-linecap:butt; stroke-linejoin:round; stroke-width:4; stroke-opacity:1; fill:none\" points=\"\n",
       "  1275.94,782.916 1275.94,886.367 1338.5,886.367 1338.5,782.916 1275.94,782.916 \n",
       "  \"/>\n",
       "<path clip-path=\"url(#clip322)\" d=\"\n",
       "M1338.5 757.053 L1338.5 886.367 L1401.06 886.367 L1401.06 757.053 L1338.5 757.053 L1338.5 757.053  Z\n",
       "  \" fill=\"#4682b4\" fill-rule=\"evenodd\" fill-opacity=\"1\"/>\n",
       "<polyline clip-path=\"url(#clip322)\" style=\"stroke:#000000; stroke-linecap:butt; stroke-linejoin:round; stroke-width:4; stroke-opacity:1; fill:none\" points=\"\n",
       "  1338.5,757.053 1338.5,886.367 1401.06,886.367 1401.06,757.053 1338.5,757.053 \n",
       "  \"/>\n",
       "<path clip-path=\"url(#clip322)\" d=\"\n",
       "M1401.06 731.19 L1401.06 886.367 L1463.62 886.367 L1463.62 731.19 L1401.06 731.19 L1401.06 731.19  Z\n",
       "  \" fill=\"#4682b4\" fill-rule=\"evenodd\" fill-opacity=\"1\"/>\n",
       "<polyline clip-path=\"url(#clip322)\" style=\"stroke:#000000; stroke-linecap:butt; stroke-linejoin:round; stroke-width:4; stroke-opacity:1; fill:none\" points=\"\n",
       "  1401.06,731.19 1401.06,886.367 1463.62,886.367 1463.62,731.19 1401.06,731.19 \n",
       "  \"/>\n",
       "<path clip-path=\"url(#clip322)\" d=\"\n",
       "M1463.62 705.327 L1463.62 886.367 L1526.18 886.367 L1526.18 705.327 L1463.62 705.327 L1463.62 705.327  Z\n",
       "  \" fill=\"#4682b4\" fill-rule=\"evenodd\" fill-opacity=\"1\"/>\n",
       "<polyline clip-path=\"url(#clip322)\" style=\"stroke:#000000; stroke-linecap:butt; stroke-linejoin:round; stroke-width:4; stroke-opacity:1; fill:none\" points=\"\n",
       "  1463.62,705.327 1463.62,886.367 1526.18,886.367 1526.18,705.327 1463.62,705.327 \n",
       "  \"/>\n",
       "<path clip-path=\"url(#clip322)\" d=\"\n",
       "M1526.18 731.19 L1526.18 886.367 L1588.74 886.367 L1588.74 731.19 L1526.18 731.19 L1526.18 731.19  Z\n",
       "  \" fill=\"#4682b4\" fill-rule=\"evenodd\" fill-opacity=\"1\"/>\n",
       "<polyline clip-path=\"url(#clip322)\" style=\"stroke:#000000; stroke-linecap:butt; stroke-linejoin:round; stroke-width:4; stroke-opacity:1; fill:none\" points=\"\n",
       "  1526.18,731.19 1526.18,886.367 1588.74,886.367 1588.74,731.19 1526.18,731.19 \n",
       "  \"/>\n",
       "<path clip-path=\"url(#clip322)\" d=\"\n",
       "M1588.74 718.258 L1588.74 886.367 L1651.3 886.367 L1651.3 718.258 L1588.74 718.258 L1588.74 718.258  Z\n",
       "  \" fill=\"#4682b4\" fill-rule=\"evenodd\" fill-opacity=\"1\"/>\n",
       "<polyline clip-path=\"url(#clip322)\" style=\"stroke:#000000; stroke-linecap:butt; stroke-linejoin:round; stroke-width:4; stroke-opacity:1; fill:none\" points=\"\n",
       "  1588.74,718.258 1588.74,886.367 1651.3,886.367 1651.3,718.258 1588.74,718.258 \n",
       "  \"/>\n",
       "<path clip-path=\"url(#clip322)\" d=\"\n",
       "M1651.3 627.738 L1651.3 886.367 L1713.86 886.367 L1713.86 627.738 L1651.3 627.738 L1651.3 627.738  Z\n",
       "  \" fill=\"#4682b4\" fill-rule=\"evenodd\" fill-opacity=\"1\"/>\n",
       "<polyline clip-path=\"url(#clip322)\" style=\"stroke:#000000; stroke-linecap:butt; stroke-linejoin:round; stroke-width:4; stroke-opacity:1; fill:none\" points=\"\n",
       "  1651.3,627.738 1651.3,886.367 1713.86,886.367 1713.86,627.738 1651.3,627.738 \n",
       "  \"/>\n",
       "<path clip-path=\"url(#clip322)\" d=\"\n",
       "M1713.86 537.218 L1713.86 886.367 L1776.43 886.367 L1776.43 537.218 L1713.86 537.218 L1713.86 537.218  Z\n",
       "  \" fill=\"#4682b4\" fill-rule=\"evenodd\" fill-opacity=\"1\"/>\n",
       "<polyline clip-path=\"url(#clip322)\" style=\"stroke:#000000; stroke-linecap:butt; stroke-linejoin:round; stroke-width:4; stroke-opacity:1; fill:none\" points=\"\n",
       "  1713.86,537.218 1713.86,886.367 1776.43,886.367 1776.43,537.218 1713.86,537.218 \n",
       "  \"/>\n",
       "<path clip-path=\"url(#clip322)\" d=\"\n",
       "M1776.43 382.04 L1776.43 886.367 L1838.99 886.367 L1838.99 382.04 L1776.43 382.04 L1776.43 382.04  Z\n",
       "  \" fill=\"#4682b4\" fill-rule=\"evenodd\" fill-opacity=\"1\"/>\n",
       "<polyline clip-path=\"url(#clip322)\" style=\"stroke:#000000; stroke-linecap:butt; stroke-linejoin:round; stroke-width:4; stroke-opacity:1; fill:none\" points=\"\n",
       "  1776.43,382.04 1776.43,886.367 1838.99,886.367 1838.99,382.04 1776.43,382.04 \n",
       "  \"/>\n",
       "<path clip-path=\"url(#clip322)\" d=\"\n",
       "M1838.99 265.657 L1838.99 886.367 L1901.55 886.367 L1901.55 265.657 L1838.99 265.657 L1838.99 265.657  Z\n",
       "  \" fill=\"#4682b4\" fill-rule=\"evenodd\" fill-opacity=\"1\"/>\n",
       "<polyline clip-path=\"url(#clip322)\" style=\"stroke:#000000; stroke-linecap:butt; stroke-linejoin:round; stroke-width:4; stroke-opacity:1; fill:none\" points=\"\n",
       "  1838.99,265.657 1838.99,886.367 1901.55,886.367 1901.55,265.657 1838.99,265.657 \n",
       "  \"/>\n",
       "<path clip-path=\"url(#clip322)\" d=\"\n",
       "M1901.55 162.205 L1901.55 886.367 L1964.11 886.367 L1964.11 162.205 L1901.55 162.205 L1901.55 162.205  Z\n",
       "  \" fill=\"#4682b4\" fill-rule=\"evenodd\" fill-opacity=\"1\"/>\n",
       "<polyline clip-path=\"url(#clip322)\" style=\"stroke:#000000; stroke-linecap:butt; stroke-linejoin:round; stroke-width:4; stroke-opacity:1; fill:none\" points=\"\n",
       "  1901.55,162.205 1901.55,886.367 1964.11,886.367 1964.11,162.205 1901.55,162.205 \n",
       "  \"/>\n",
       "<path clip-path=\"url(#clip322)\" d=\"\n",
       "M1964.11 71.6846 L1964.11 886.367 L2026.67 886.367 L2026.67 71.6846 L1964.11 71.6846 L1964.11 71.6846  Z\n",
       "  \" fill=\"#4682b4\" fill-rule=\"evenodd\" fill-opacity=\"1\"/>\n",
       "<polyline clip-path=\"url(#clip322)\" style=\"stroke:#000000; stroke-linecap:butt; stroke-linejoin:round; stroke-width:4; stroke-opacity:1; fill:none\" points=\"\n",
       "  1964.11,71.6846 1964.11,886.367 2026.67,886.367 2026.67,71.6846 1964.11,71.6846 \n",
       "  \"/>\n",
       "<path clip-path=\"url(#clip322)\" d=\"\n",
       "M2026.67 175.136 L2026.67 886.367 L2089.23 886.367 L2089.23 175.136 L2026.67 175.136 L2026.67 175.136  Z\n",
       "  \" fill=\"#4682b4\" fill-rule=\"evenodd\" fill-opacity=\"1\"/>\n",
       "<polyline clip-path=\"url(#clip322)\" style=\"stroke:#000000; stroke-linecap:butt; stroke-linejoin:round; stroke-width:4; stroke-opacity:1; fill:none\" points=\"\n",
       "  2026.67,175.136 2026.67,886.367 2089.23,886.367 2089.23,175.136 2026.67,175.136 \n",
       "  \"/>\n",
       "<path clip-path=\"url(#clip322)\" d=\"\n",
       "M2089.23 420.834 L2089.23 886.367 L2151.79 886.367 L2151.79 420.834 L2089.23 420.834 L2089.23 420.834  Z\n",
       "  \" fill=\"#4682b4\" fill-rule=\"evenodd\" fill-opacity=\"1\"/>\n",
       "<polyline clip-path=\"url(#clip322)\" style=\"stroke:#000000; stroke-linecap:butt; stroke-linejoin:round; stroke-width:4; stroke-opacity:1; fill:none\" points=\"\n",
       "  2089.23,420.834 2089.23,886.367 2151.79,886.367 2151.79,420.834 2089.23,420.834 \n",
       "  \"/>\n",
       "<path clip-path=\"url(#clip322)\" d=\"\n",
       "M2151.79 666.532 L2151.79 886.367 L2214.35 886.367 L2214.35 666.532 L2151.79 666.532 L2151.79 666.532  Z\n",
       "  \" fill=\"#4682b4\" fill-rule=\"evenodd\" fill-opacity=\"1\"/>\n",
       "<polyline clip-path=\"url(#clip322)\" style=\"stroke:#000000; stroke-linecap:butt; stroke-linejoin:round; stroke-width:4; stroke-opacity:1; fill:none\" points=\"\n",
       "  2151.79,666.532 2151.79,886.367 2214.35,886.367 2214.35,666.532 2151.79,666.532 \n",
       "  \"/>\n",
       "<path clip-path=\"url(#clip322)\" d=\"\n",
       "M2214.35 795.847 L2214.35 886.367 L2276.91 886.367 L2276.91 795.847 L2214.35 795.847 L2214.35 795.847  Z\n",
       "  \" fill=\"#4682b4\" fill-rule=\"evenodd\" fill-opacity=\"1\"/>\n",
       "<polyline clip-path=\"url(#clip322)\" style=\"stroke:#000000; stroke-linecap:butt; stroke-linejoin:round; stroke-width:4; stroke-opacity:1; fill:none\" points=\"\n",
       "  2214.35,795.847 2214.35,886.367 2276.91,886.367 2276.91,795.847 2214.35,795.847 \n",
       "  \"/>\n",
       "<path clip-path=\"url(#clip322)\" d=\"\n",
       "M2276.91 834.641 L2276.91 886.367 L2339.47 886.367 L2339.47 834.641 L2276.91 834.641 L2276.91 834.641  Z\n",
       "  \" fill=\"#4682b4\" fill-rule=\"evenodd\" fill-opacity=\"1\"/>\n",
       "<polyline clip-path=\"url(#clip322)\" style=\"stroke:#000000; stroke-linecap:butt; stroke-linejoin:round; stroke-width:4; stroke-opacity:1; fill:none\" points=\"\n",
       "  2276.91,834.641 2276.91,886.367 2339.47,886.367 2339.47,834.641 2276.91,834.641 \n",
       "  \"/>\n",
       "<path clip-path=\"url(#clip322)\" d=\"\n",
       "M2339.47 860.504 L2339.47 886.367 L2402.03 886.367 L2402.03 860.504 L2339.47 860.504 L2339.47 860.504  Z\n",
       "  \" fill=\"#4682b4\" fill-rule=\"evenodd\" fill-opacity=\"1\"/>\n",
       "<polyline clip-path=\"url(#clip322)\" style=\"stroke:#000000; stroke-linecap:butt; stroke-linejoin:round; stroke-width:4; stroke-opacity:1; fill:none\" points=\"\n",
       "  2339.47,860.504 2339.47,886.367 2402.03,886.367 2402.03,860.504 2339.47,860.504 \n",
       "  \"/>\n",
       "<circle clip-path=\"url(#clip322)\" style=\"fill:#4682b4; stroke:none; fill-opacity:0\" cx=\"181.133\" cy=\"886.367\" r=\"2\"/>\n",
       "<circle clip-path=\"url(#clip322)\" style=\"fill:#4682b4; stroke:none; fill-opacity:0\" cx=\"243.694\" cy=\"873.436\" r=\"2\"/>\n",
       "<circle clip-path=\"url(#clip322)\" style=\"fill:#4682b4; stroke:none; fill-opacity:0\" cx=\"306.254\" cy=\"886.367\" r=\"2\"/>\n",
       "<circle clip-path=\"url(#clip322)\" style=\"fill:#4682b4; stroke:none; fill-opacity:0\" cx=\"368.815\" cy=\"886.367\" r=\"2\"/>\n",
       "<circle clip-path=\"url(#clip322)\" style=\"fill:#4682b4; stroke:none; fill-opacity:0\" cx=\"431.375\" cy=\"847.573\" r=\"2\"/>\n",
       "<circle clip-path=\"url(#clip322)\" style=\"fill:#4682b4; stroke:none; fill-opacity:0\" cx=\"493.936\" cy=\"886.367\" r=\"2\"/>\n",
       "<circle clip-path=\"url(#clip322)\" style=\"fill:#4682b4; stroke:none; fill-opacity:0\" cx=\"556.496\" cy=\"873.436\" r=\"2\"/>\n",
       "<circle clip-path=\"url(#clip322)\" style=\"fill:#4682b4; stroke:none; fill-opacity:0\" cx=\"619.057\" cy=\"873.436\" r=\"2\"/>\n",
       "<circle clip-path=\"url(#clip322)\" style=\"fill:#4682b4; stroke:none; fill-opacity:0\" cx=\"681.617\" cy=\"873.436\" r=\"2\"/>\n",
       "<circle clip-path=\"url(#clip322)\" style=\"fill:#4682b4; stroke:none; fill-opacity:0\" cx=\"744.177\" cy=\"860.504\" r=\"2\"/>\n",
       "<circle clip-path=\"url(#clip322)\" style=\"fill:#4682b4; stroke:none; fill-opacity:0\" cx=\"806.738\" cy=\"860.504\" r=\"2\"/>\n",
       "<circle clip-path=\"url(#clip322)\" style=\"fill:#4682b4; stroke:none; fill-opacity:0\" cx=\"869.298\" cy=\"834.641\" r=\"2\"/>\n",
       "<circle clip-path=\"url(#clip322)\" style=\"fill:#4682b4; stroke:none; fill-opacity:0\" cx=\"931.859\" cy=\"834.641\" r=\"2\"/>\n",
       "<circle clip-path=\"url(#clip322)\" style=\"fill:#4682b4; stroke:none; fill-opacity:0\" cx=\"994.419\" cy=\"834.641\" r=\"2\"/>\n",
       "<circle clip-path=\"url(#clip322)\" style=\"fill:#4682b4; stroke:none; fill-opacity:0\" cx=\"1056.98\" cy=\"821.71\" r=\"2\"/>\n",
       "<circle clip-path=\"url(#clip322)\" style=\"fill:#4682b4; stroke:none; fill-opacity:0\" cx=\"1119.54\" cy=\"821.71\" r=\"2\"/>\n",
       "<circle clip-path=\"url(#clip322)\" style=\"fill:#4682b4; stroke:none; fill-opacity:0\" cx=\"1182.1\" cy=\"782.916\" r=\"2\"/>\n",
       "<circle clip-path=\"url(#clip322)\" style=\"fill:#4682b4; stroke:none; fill-opacity:0\" cx=\"1244.66\" cy=\"795.847\" r=\"2\"/>\n",
       "<circle clip-path=\"url(#clip322)\" style=\"fill:#4682b4; stroke:none; fill-opacity:0\" cx=\"1307.22\" cy=\"782.916\" r=\"2\"/>\n",
       "<circle clip-path=\"url(#clip322)\" style=\"fill:#4682b4; stroke:none; fill-opacity:0\" cx=\"1369.78\" cy=\"757.053\" r=\"2\"/>\n",
       "<circle clip-path=\"url(#clip322)\" style=\"fill:#4682b4; stroke:none; fill-opacity:0\" cx=\"1432.34\" cy=\"731.19\" r=\"2\"/>\n",
       "<circle clip-path=\"url(#clip322)\" style=\"fill:#4682b4; stroke:none; fill-opacity:0\" cx=\"1494.9\" cy=\"705.327\" r=\"2\"/>\n",
       "<circle clip-path=\"url(#clip322)\" style=\"fill:#4682b4; stroke:none; fill-opacity:0\" cx=\"1557.46\" cy=\"731.19\" r=\"2\"/>\n",
       "<circle clip-path=\"url(#clip322)\" style=\"fill:#4682b4; stroke:none; fill-opacity:0\" cx=\"1620.02\" cy=\"718.258\" r=\"2\"/>\n",
       "<circle clip-path=\"url(#clip322)\" style=\"fill:#4682b4; stroke:none; fill-opacity:0\" cx=\"1682.58\" cy=\"627.738\" r=\"2\"/>\n",
       "<circle clip-path=\"url(#clip322)\" style=\"fill:#4682b4; stroke:none; fill-opacity:0\" cx=\"1745.15\" cy=\"537.218\" r=\"2\"/>\n",
       "<circle clip-path=\"url(#clip322)\" style=\"fill:#4682b4; stroke:none; fill-opacity:0\" cx=\"1807.71\" cy=\"382.04\" r=\"2\"/>\n",
       "<circle clip-path=\"url(#clip322)\" style=\"fill:#4682b4; stroke:none; fill-opacity:0\" cx=\"1870.27\" cy=\"265.657\" r=\"2\"/>\n",
       "<circle clip-path=\"url(#clip322)\" style=\"fill:#4682b4; stroke:none; fill-opacity:0\" cx=\"1932.83\" cy=\"162.205\" r=\"2\"/>\n",
       "<circle clip-path=\"url(#clip322)\" style=\"fill:#4682b4; stroke:none; fill-opacity:0\" cx=\"1995.39\" cy=\"71.6846\" r=\"2\"/>\n",
       "<circle clip-path=\"url(#clip322)\" style=\"fill:#4682b4; stroke:none; fill-opacity:0\" cx=\"2057.95\" cy=\"175.136\" r=\"2\"/>\n",
       "<circle clip-path=\"url(#clip322)\" style=\"fill:#4682b4; stroke:none; fill-opacity:0\" cx=\"2120.51\" cy=\"420.834\" r=\"2\"/>\n",
       "<circle clip-path=\"url(#clip322)\" style=\"fill:#4682b4; stroke:none; fill-opacity:0\" cx=\"2183.07\" cy=\"666.532\" r=\"2\"/>\n",
       "<circle clip-path=\"url(#clip322)\" style=\"fill:#4682b4; stroke:none; fill-opacity:0\" cx=\"2245.63\" cy=\"795.847\" r=\"2\"/>\n",
       "<circle clip-path=\"url(#clip322)\" style=\"fill:#4682b4; stroke:none; fill-opacity:0\" cx=\"2308.19\" cy=\"834.641\" r=\"2\"/>\n",
       "<circle clip-path=\"url(#clip322)\" style=\"fill:#4682b4; stroke:none; fill-opacity:0\" cx=\"2370.75\" cy=\"860.504\" r=\"2\"/>\n",
       "<path clip-path=\"url(#clip320)\" d=\"\n",
       "M483.509 530.866 L1611.3 530.866 L1611.3 427.186 L483.509 427.186  Z\n",
       "  \" fill=\"#ffffff\" fill-rule=\"evenodd\" fill-opacity=\"1\"/>\n",
       "<polyline clip-path=\"url(#clip320)\" style=\"stroke:#000000; stroke-linecap:butt; stroke-linejoin:round; stroke-width:4; stroke-opacity:1; fill:none\" points=\"\n",
       "  483.509,530.866 1611.3,530.866 1611.3,427.186 483.509,427.186 483.509,530.866 \n",
       "  \"/>\n",
       "<path clip-path=\"url(#clip320)\" d=\"\n",
       "M516.874 499.762 L717.068 499.762 L717.068 458.29 L516.874 458.29 L516.874 499.762  Z\n",
       "  \" fill=\"#4682b4\" fill-rule=\"evenodd\" fill-opacity=\"1\"/>\n",
       "<polyline clip-path=\"url(#clip320)\" style=\"stroke:#000000; stroke-linecap:butt; stroke-linejoin:round; stroke-width:4; stroke-opacity:1; fill:none\" points=\"\n",
       "  516.874,499.762 717.068,499.762 717.068,458.29 516.874,458.29 516.874,499.762 \n",
       "  \"/>\n",
       "<path clip-path=\"url(#clip320)\" d=\"M750.434 460.288 L754.693 460.288 L754.693 496.306 L750.434 496.306 L750.434 460.288 Z\" fill=\"#000000\" fill-rule=\"evenodd\" fill-opacity=\"1\" /><path clip-path=\"url(#clip320)\" d=\"M773.651 473.366 Q770.225 473.366 768.234 476.051 Q766.244 478.713 766.244 483.366 Q766.244 488.019 768.211 490.704 Q770.202 493.366 773.651 493.366 Q777.054 493.366 779.044 490.681 Q781.035 487.996 781.035 483.366 Q781.035 478.76 779.044 476.075 Q777.054 473.366 773.651 473.366 M773.651 469.755 Q779.207 469.755 782.378 473.366 Q785.549 476.977 785.549 483.366 Q785.549 489.732 782.378 493.366 Q779.207 496.977 773.651 496.977 Q768.072 496.977 764.901 493.366 Q761.753 489.732 761.753 483.366 Q761.753 476.977 764.901 473.366 Q768.072 469.755 773.651 469.755 Z\" fill=\"#000000\" fill-rule=\"evenodd\" fill-opacity=\"1\" /><path clip-path=\"url(#clip320)\" d=\"M809.669 483.042 Q809.669 478.413 807.748 475.866 Q805.85 473.32 802.401 473.32 Q798.975 473.32 797.054 475.866 Q795.156 478.413 795.156 483.042 Q795.156 487.649 797.054 490.195 Q798.975 492.741 802.401 492.741 Q805.85 492.741 807.748 490.195 Q809.669 487.649 809.669 483.042 M813.929 493.088 Q813.929 499.709 810.989 502.926 Q808.049 506.167 801.984 506.167 Q799.739 506.167 797.748 505.82 Q795.757 505.496 793.882 504.801 L793.882 500.658 Q795.757 501.676 797.586 502.162 Q799.415 502.649 801.313 502.649 Q805.503 502.649 807.586 500.449 Q809.669 498.274 809.669 493.852 L809.669 491.746 Q808.35 494.037 806.29 495.172 Q804.23 496.306 801.359 496.306 Q796.591 496.306 793.674 492.672 Q790.757 489.038 790.757 483.042 Q790.757 477.024 793.674 473.389 Q796.591 469.755 801.359 469.755 Q804.23 469.755 806.29 470.889 Q808.35 472.024 809.669 474.315 L809.669 470.38 L813.929 470.38 L813.929 493.088 Z\" fill=\"#000000\" fill-rule=\"evenodd\" fill-opacity=\"1\" /><path clip-path=\"url(#clip320)\" d=\"M834.484 483.274 Q829.322 483.274 827.331 484.454 Q825.341 485.635 825.341 488.482 Q825.341 490.75 826.822 492.093 Q828.327 493.412 830.896 493.412 Q834.438 493.412 836.567 490.912 Q838.72 488.389 838.72 484.223 L838.72 483.274 L834.484 483.274 M842.979 481.514 L842.979 496.306 L838.72 496.306 L838.72 492.371 Q837.262 494.732 835.086 495.866 Q832.91 496.977 829.762 496.977 Q825.78 496.977 823.419 494.755 Q821.081 492.51 821.081 488.76 Q821.081 484.385 823.998 482.163 Q826.938 479.94 832.748 479.94 L838.72 479.94 L838.72 479.524 Q838.72 476.584 836.776 474.987 Q834.854 473.366 831.359 473.366 Q829.137 473.366 827.03 473.899 Q824.924 474.431 822.979 475.496 L822.979 471.561 Q825.317 470.658 827.516 470.218 Q829.716 469.755 831.799 469.755 Q837.424 469.755 840.202 472.672 Q842.979 475.589 842.979 481.514 Z\" fill=\"#000000\" fill-rule=\"evenodd\" fill-opacity=\"1\" /><path clip-path=\"url(#clip320)\" d=\"M866.776 474.362 Q866.058 473.945 865.201 473.76 Q864.368 473.551 863.35 473.551 Q859.739 473.551 857.794 475.913 Q855.873 478.251 855.873 482.649 L855.873 496.306 L851.59 496.306 L851.59 470.38 L855.873 470.38 L855.873 474.408 Q857.215 472.047 859.368 470.913 Q861.521 469.755 864.6 469.755 Q865.039 469.755 865.572 469.825 Q866.104 469.871 866.752 469.987 L866.776 474.362 Z\" fill=\"#000000\" fill-rule=\"evenodd\" fill-opacity=\"1\" /><path clip-path=\"url(#clip320)\" d=\"M871.243 470.38 L875.502 470.38 L875.502 496.306 L871.243 496.306 L871.243 470.38 M871.243 460.288 L875.502 460.288 L875.502 465.681 L871.243 465.681 L871.243 460.288 Z\" fill=\"#000000\" fill-rule=\"evenodd\" fill-opacity=\"1\" /><path clip-path=\"url(#clip320)\" d=\"M888.627 463.019 L888.627 470.38 L897.4 470.38 L897.4 473.69 L888.627 473.69 L888.627 487.764 Q888.627 490.936 889.484 491.838 Q890.363 492.741 893.025 492.741 L897.4 492.741 L897.4 496.306 L893.025 496.306 Q888.095 496.306 886.22 494.477 Q884.345 492.625 884.345 487.764 L884.345 473.69 L881.22 473.69 L881.22 470.38 L884.345 470.38 L884.345 463.019 L888.627 463.019 Z\" fill=\"#000000\" fill-rule=\"evenodd\" fill-opacity=\"1\" /><path clip-path=\"url(#clip320)\" d=\"M924.553 480.658 L924.553 496.306 L920.294 496.306 L920.294 480.797 Q920.294 477.116 918.859 475.288 Q917.423 473.459 914.553 473.459 Q911.104 473.459 909.113 475.658 Q907.123 477.857 907.123 481.653 L907.123 496.306 L902.84 496.306 L902.84 460.288 L907.123 460.288 L907.123 474.408 Q908.65 472.07 910.71 470.913 Q912.794 469.755 915.502 469.755 Q919.97 469.755 922.261 472.533 Q924.553 475.288 924.553 480.658 Z\" fill=\"#000000\" fill-rule=\"evenodd\" fill-opacity=\"1\" /><path clip-path=\"url(#clip320)\" d=\"M953.233 475.357 Q954.831 472.487 957.053 471.121 Q959.275 469.755 962.284 469.755 Q966.335 469.755 968.534 472.602 Q970.733 475.426 970.733 480.658 L970.733 496.306 L966.451 496.306 L966.451 480.797 Q966.451 477.07 965.131 475.264 Q963.812 473.459 961.104 473.459 Q957.794 473.459 955.872 475.658 Q953.951 477.857 953.951 481.653 L953.951 496.306 L949.669 496.306 L949.669 480.797 Q949.669 477.047 948.349 475.264 Q947.03 473.459 944.275 473.459 Q941.011 473.459 939.09 475.681 Q937.169 477.88 937.169 481.653 L937.169 496.306 L932.886 496.306 L932.886 470.38 L937.169 470.38 L937.169 474.408 Q938.627 472.024 940.664 470.889 Q942.701 469.755 945.502 469.755 Q948.326 469.755 950.294 471.19 Q952.284 472.626 953.233 475.357 Z\" fill=\"#000000\" fill-rule=\"evenodd\" fill-opacity=\"1\" /><path clip-path=\"url(#clip320)\" d=\"M995.756 471.144 L995.756 475.172 Q993.951 474.246 992.006 473.783 Q990.062 473.32 987.979 473.32 Q984.807 473.32 983.21 474.292 Q981.636 475.264 981.636 477.209 Q981.636 478.69 982.77 479.547 Q983.905 480.38 987.33 481.144 L988.789 481.468 Q993.326 482.44 995.224 484.223 Q997.145 485.982 997.145 489.153 Q997.145 492.764 994.275 494.871 Q991.428 496.977 986.428 496.977 Q984.344 496.977 982.076 496.561 Q979.83 496.167 977.33 495.357 L977.33 490.959 Q979.692 492.186 981.983 492.811 Q984.275 493.412 986.52 493.412 Q989.529 493.412 991.15 492.394 Q992.77 491.352 992.77 489.477 Q992.77 487.741 991.59 486.815 Q990.432 485.889 986.474 485.033 L984.992 484.686 Q981.034 483.852 979.275 482.139 Q977.516 480.403 977.516 477.394 Q977.516 473.737 980.108 471.746 Q982.701 469.755 987.469 469.755 Q989.83 469.755 991.914 470.102 Q993.997 470.45 995.756 471.144 Z\" fill=\"#000000\" fill-rule=\"evenodd\" fill-opacity=\"1\" /><path clip-path=\"url(#clip320)\" d=\"M1029.04 473.366 Q1025.62 473.366 1023.63 476.051 Q1021.64 478.713 1021.64 483.366 Q1021.64 488.019 1023.6 490.704 Q1025.59 493.366 1029.04 493.366 Q1032.45 493.366 1034.44 490.681 Q1036.43 487.996 1036.43 483.366 Q1036.43 478.76 1034.44 476.075 Q1032.45 473.366 1029.04 473.366 M1029.04 469.755 Q1034.6 469.755 1037.77 473.366 Q1040.94 476.977 1040.94 483.366 Q1040.94 489.732 1037.77 493.366 Q1034.6 496.977 1029.04 496.977 Q1023.46 496.977 1020.29 493.366 Q1017.15 489.732 1017.15 483.366 Q1017.15 476.977 1020.29 473.366 Q1023.46 469.755 1029.04 469.755 Z\" fill=\"#000000\" fill-rule=\"evenodd\" fill-opacity=\"1\" /><path clip-path=\"url(#clip320)\" d=\"M1061.13 460.288 L1061.13 463.829 L1057.05 463.829 Q1054.76 463.829 1053.86 464.755 Q1052.98 465.681 1052.98 468.089 L1052.98 470.38 L1059.99 470.38 L1059.99 473.69 L1052.98 473.69 L1052.98 496.306 L1048.7 496.306 L1048.7 473.69 L1044.62 473.69 L1044.62 470.38 L1048.7 470.38 L1048.7 468.575 Q1048.7 464.246 1050.71 462.278 Q1052.72 460.288 1057.1 460.288 L1061.13 460.288 Z\" fill=\"#000000\" fill-rule=\"evenodd\" fill-opacity=\"1\" /><path clip-path=\"url(#clip320)\" d=\"M1096.29 471.144 L1096.29 475.172 Q1094.48 474.246 1092.54 473.783 Q1090.59 473.32 1088.51 473.32 Q1085.34 473.32 1083.74 474.292 Q1082.17 475.264 1082.17 477.209 Q1082.17 478.69 1083.3 479.547 Q1084.44 480.38 1087.86 481.144 L1089.32 481.468 Q1093.86 482.44 1095.76 484.223 Q1097.68 485.982 1097.68 489.153 Q1097.68 492.764 1094.81 494.871 Q1091.96 496.977 1086.96 496.977 Q1084.88 496.977 1082.61 496.561 Q1080.36 496.167 1077.86 495.357 L1077.86 490.959 Q1080.22 492.186 1082.52 492.811 Q1084.81 493.412 1087.05 493.412 Q1090.06 493.412 1091.68 492.394 Q1093.3 491.352 1093.3 489.477 Q1093.3 487.741 1092.12 486.815 Q1090.96 485.889 1087.01 485.033 L1085.52 484.686 Q1081.57 483.852 1079.81 482.139 Q1078.05 480.403 1078.05 477.394 Q1078.05 473.737 1080.64 471.746 Q1083.23 469.755 1088 469.755 Q1090.36 469.755 1092.45 470.102 Q1094.53 470.45 1096.29 471.144 Z\" fill=\"#000000\" fill-rule=\"evenodd\" fill-opacity=\"1\" /><path clip-path=\"url(#clip320)\" d=\"M1104.46 470.38 L1108.72 470.38 L1108.72 496.306 L1104.46 496.306 L1104.46 470.38 M1104.46 460.288 L1108.72 460.288 L1108.72 465.681 L1104.46 465.681 L1104.46 460.288 Z\" fill=\"#000000\" fill-rule=\"evenodd\" fill-opacity=\"1\" /><path clip-path=\"url(#clip320)\" d=\"M1139.18 480.658 L1139.18 496.306 L1134.92 496.306 L1134.92 480.797 Q1134.92 477.116 1133.49 475.288 Q1132.05 473.459 1129.18 473.459 Q1125.73 473.459 1123.74 475.658 Q1121.75 477.857 1121.75 481.653 L1121.75 496.306 L1117.47 496.306 L1117.47 470.38 L1121.75 470.38 L1121.75 474.408 Q1123.28 472.07 1125.34 470.913 Q1127.42 469.755 1130.13 469.755 Q1134.6 469.755 1136.89 472.533 Q1139.18 475.288 1139.18 480.658 Z\" fill=\"#000000\" fill-rule=\"evenodd\" fill-opacity=\"1\" /><path clip-path=\"url(#clip320)\" d=\"M1164.74 483.042 Q1164.74 478.413 1162.82 475.866 Q1160.92 473.32 1157.47 473.32 Q1154.04 473.32 1152.12 475.866 Q1150.22 478.413 1150.22 483.042 Q1150.22 487.649 1152.12 490.195 Q1154.04 492.741 1157.47 492.741 Q1160.92 492.741 1162.82 490.195 Q1164.74 487.649 1164.74 483.042 M1169 493.088 Q1169 499.709 1166.06 502.926 Q1163.12 506.167 1157.05 506.167 Q1154.81 506.167 1152.82 505.82 Q1150.82 505.496 1148.95 504.801 L1148.95 500.658 Q1150.82 501.676 1152.65 502.162 Q1154.48 502.649 1156.38 502.649 Q1160.57 502.649 1162.65 500.449 Q1164.74 498.274 1164.74 493.852 L1164.74 491.746 Q1163.42 494.037 1161.36 495.172 Q1159.3 496.306 1156.43 496.306 Q1151.66 496.306 1148.74 492.672 Q1145.82 489.038 1145.82 483.042 Q1145.82 477.024 1148.74 473.389 Q1151.66 469.755 1156.43 469.755 Q1159.3 469.755 1161.36 470.889 Q1163.42 472.024 1164.74 474.315 L1164.74 470.38 L1169 470.38 L1169 493.088 Z\" fill=\"#000000\" fill-rule=\"evenodd\" fill-opacity=\"1\" /><path clip-path=\"url(#clip320)\" d=\"M1177.33 486.075 L1177.33 470.38 L1181.59 470.38 L1181.59 485.913 Q1181.59 489.593 1183.02 491.445 Q1184.46 493.274 1187.33 493.274 Q1190.78 493.274 1192.77 491.075 Q1194.78 488.875 1194.78 485.079 L1194.78 470.38 L1199.04 470.38 L1199.04 496.306 L1194.78 496.306 L1194.78 492.325 Q1193.23 494.686 1191.17 495.843 Q1189.13 496.977 1186.43 496.977 Q1181.96 496.977 1179.64 494.2 Q1177.33 491.422 1177.33 486.075 M1188.05 469.755 L1188.05 469.755 Z\" fill=\"#000000\" fill-rule=\"evenodd\" fill-opacity=\"1\" /><path clip-path=\"url(#clip320)\" d=\"M1207.82 460.288 L1212.07 460.288 L1212.07 496.306 L1207.82 496.306 L1207.82 460.288 Z\" fill=\"#000000\" fill-rule=\"evenodd\" fill-opacity=\"1\" /><path clip-path=\"url(#clip320)\" d=\"M1232.77 483.274 Q1227.61 483.274 1225.62 484.454 Q1223.63 485.635 1223.63 488.482 Q1223.63 490.75 1225.11 492.093 Q1226.61 493.412 1229.18 493.412 Q1232.72 493.412 1234.85 490.912 Q1237.01 488.389 1237.01 484.223 L1237.01 483.274 L1232.77 483.274 M1241.26 481.514 L1241.26 496.306 L1237.01 496.306 L1237.01 492.371 Q1235.55 494.732 1233.37 495.866 Q1231.19 496.977 1228.05 496.977 Q1224.07 496.977 1221.7 494.755 Q1219.37 492.51 1219.37 488.76 Q1219.37 484.385 1222.28 482.163 Q1225.22 479.94 1231.03 479.94 L1237.01 479.94 L1237.01 479.524 Q1237.01 476.584 1235.06 474.987 Q1233.14 473.366 1229.64 473.366 Q1227.42 473.366 1225.32 473.899 Q1223.21 474.431 1221.26 475.496 L1221.26 471.561 Q1223.6 470.658 1225.8 470.218 Q1228 469.755 1230.08 469.755 Q1235.71 469.755 1238.49 472.672 Q1241.26 475.589 1241.26 481.514 Z\" fill=\"#000000\" fill-rule=\"evenodd\" fill-opacity=\"1\" /><path clip-path=\"url(#clip320)\" d=\"M1265.06 474.362 Q1264.34 473.945 1263.49 473.76 Q1262.65 473.551 1261.63 473.551 Q1258.02 473.551 1256.08 475.913 Q1254.16 478.251 1254.16 482.649 L1254.16 496.306 L1249.88 496.306 L1249.88 470.38 L1254.16 470.38 L1254.16 474.408 Q1255.5 472.047 1257.65 470.913 Q1259.81 469.755 1262.88 469.755 Q1263.32 469.755 1263.86 469.825 Q1264.39 469.871 1265.04 469.987 L1265.06 474.362 Z\" fill=\"#000000\" fill-rule=\"evenodd\" fill-opacity=\"1\" /><path clip-path=\"url(#clip320)\" d=\"M1281.54 470.38 L1286.06 470.38 L1294.16 492.139 L1302.26 470.38 L1306.77 470.38 L1297.05 496.306 L1291.26 496.306 L1281.54 470.38 Z\" fill=\"#000000\" fill-rule=\"evenodd\" fill-opacity=\"1\" /><path clip-path=\"url(#clip320)\" d=\"M1324.44 483.274 Q1319.27 483.274 1317.28 484.454 Q1315.29 485.635 1315.29 488.482 Q1315.29 490.75 1316.77 492.093 Q1318.28 493.412 1320.85 493.412 Q1324.39 493.412 1326.52 490.912 Q1328.67 488.389 1328.67 484.223 L1328.67 483.274 L1324.44 483.274 M1332.93 481.514 L1332.93 496.306 L1328.67 496.306 L1328.67 492.371 Q1327.21 494.732 1325.04 495.866 Q1322.86 496.977 1319.71 496.977 Q1315.73 496.977 1313.37 494.755 Q1311.03 492.51 1311.03 488.76 Q1311.03 484.385 1313.95 482.163 Q1316.89 479.94 1322.7 479.94 L1328.67 479.94 L1328.67 479.524 Q1328.67 476.584 1326.73 474.987 Q1324.81 473.366 1321.31 473.366 Q1319.09 473.366 1316.98 473.899 Q1314.87 474.431 1312.93 475.496 L1312.93 471.561 Q1315.27 470.658 1317.47 470.218 Q1319.67 469.755 1321.75 469.755 Q1327.37 469.755 1330.15 472.672 Q1332.93 475.589 1332.93 481.514 Z\" fill=\"#000000\" fill-rule=\"evenodd\" fill-opacity=\"1\" /><path clip-path=\"url(#clip320)\" d=\"M1341.7 460.288 L1345.96 460.288 L1345.96 496.306 L1341.7 496.306 L1341.7 460.288 Z\" fill=\"#000000\" fill-rule=\"evenodd\" fill-opacity=\"1\" /><path clip-path=\"url(#clip320)\" d=\"M1354.43 486.075 L1354.43 470.38 L1358.69 470.38 L1358.69 485.913 Q1358.69 489.593 1360.13 491.445 Q1361.56 493.274 1364.43 493.274 Q1367.88 493.274 1369.87 491.075 Q1371.89 488.875 1371.89 485.079 L1371.89 470.38 L1376.15 470.38 L1376.15 496.306 L1371.89 496.306 L1371.89 492.325 Q1370.34 494.686 1368.28 495.843 Q1366.24 496.977 1363.53 496.977 Q1359.06 496.977 1356.75 494.2 Q1354.43 491.422 1354.43 486.075 M1365.15 469.755 L1365.15 469.755 Z\" fill=\"#000000\" fill-rule=\"evenodd\" fill-opacity=\"1\" /><path clip-path=\"url(#clip320)\" d=\"M1407.1 482.278 L1407.1 484.362 L1387.51 484.362 Q1387.79 488.76 1390.15 491.075 Q1392.54 493.366 1396.77 493.366 Q1399.23 493.366 1401.52 492.764 Q1403.83 492.162 1406.1 490.959 L1406.1 494.987 Q1403.81 495.959 1401.4 496.468 Q1398.99 496.977 1396.52 496.977 Q1390.31 496.977 1386.68 493.366 Q1383.07 489.755 1383.07 483.598 Q1383.07 477.232 1386.49 473.505 Q1389.94 469.755 1395.78 469.755 Q1401.01 469.755 1404.04 473.135 Q1407.1 476.491 1407.1 482.278 M1402.84 481.028 Q1402.79 477.533 1400.87 475.45 Q1398.97 473.366 1395.82 473.366 Q1392.26 473.366 1390.11 475.38 Q1387.98 477.394 1387.65 481.051 L1402.84 481.028 Z\" fill=\"#000000\" fill-rule=\"evenodd\" fill-opacity=\"1\" /><path clip-path=\"url(#clip320)\" d=\"M1430.62 471.144 L1430.62 475.172 Q1428.81 474.246 1426.87 473.783 Q1424.92 473.32 1422.84 473.32 Q1419.67 473.32 1418.07 474.292 Q1416.49 475.264 1416.49 477.209 Q1416.49 478.69 1417.63 479.547 Q1418.76 480.38 1422.19 481.144 L1423.65 481.468 Q1428.18 482.44 1430.08 484.223 Q1432 485.982 1432 489.153 Q1432 492.764 1429.13 494.871 Q1426.29 496.977 1421.29 496.977 Q1419.2 496.977 1416.93 496.561 Q1414.69 496.167 1412.19 495.357 L1412.19 490.959 Q1414.55 492.186 1416.84 492.811 Q1419.13 493.412 1421.38 493.412 Q1424.39 493.412 1426.01 492.394 Q1427.63 491.352 1427.63 489.477 Q1427.63 487.741 1426.45 486.815 Q1425.29 485.889 1421.33 485.033 L1419.85 484.686 Q1415.89 483.852 1414.13 482.139 Q1412.37 480.403 1412.37 477.394 Q1412.37 473.737 1414.97 471.746 Q1417.56 469.755 1422.33 469.755 Q1424.69 469.755 1426.77 470.102 Q1428.86 470.45 1430.62 471.144 Z\" fill=\"#000000\" fill-rule=\"evenodd\" fill-opacity=\"1\" /><path clip-path=\"url(#clip320)\" d=\"M1463.9 473.366 Q1460.48 473.366 1458.49 476.051 Q1456.49 478.713 1456.49 483.366 Q1456.49 488.019 1458.46 490.704 Q1460.45 493.366 1463.9 493.366 Q1467.3 493.366 1469.3 490.681 Q1471.29 487.996 1471.29 483.366 Q1471.29 478.76 1469.3 476.075 Q1467.3 473.366 1463.9 473.366 M1463.9 469.755 Q1469.46 469.755 1472.63 473.366 Q1475.8 476.977 1475.8 483.366 Q1475.8 489.732 1472.63 493.366 Q1469.46 496.977 1463.9 496.977 Q1458.32 496.977 1455.15 493.366 Q1452 489.732 1452 483.366 Q1452 476.977 1455.15 473.366 Q1458.32 469.755 1463.9 469.755 Z\" fill=\"#000000\" fill-rule=\"evenodd\" fill-opacity=\"1\" /><path clip-path=\"url(#clip320)\" d=\"M1495.99 460.288 L1495.99 463.829 L1491.91 463.829 Q1489.62 463.829 1488.72 464.755 Q1487.84 465.681 1487.84 468.089 L1487.84 470.38 L1494.85 470.38 L1494.85 473.69 L1487.84 473.69 L1487.84 496.306 L1483.55 496.306 L1483.55 473.69 L1479.48 473.69 L1479.48 470.38 L1483.55 470.38 L1483.55 468.575 Q1483.55 464.246 1485.57 462.278 Q1487.58 460.288 1491.96 460.288 L1495.99 460.288 Z\" fill=\"#000000\" fill-rule=\"evenodd\" fill-opacity=\"1\" /><path clip-path=\"url(#clip320)\" d=\"M1544.57 492.186 L1544.57 496.306 L1530.68 496.306 L1530.68 492.186 Q1534.78 489.94 1537.07 486.098 Q1539.36 482.255 1539.36 477.579 Q1539.36 472.024 1536.31 468.667 Q1533.25 465.311 1528.25 465.311 Q1523.25 465.311 1520.17 468.69 Q1517.12 472.047 1517.12 477.579 Q1517.12 482.255 1519.41 486.098 Q1521.73 489.94 1525.85 492.186 L1525.85 496.306 L1511.96 496.306 L1511.96 492.186 L1519.34 492.186 Q1515.68 488.968 1513.99 485.519 Q1512.33 482.07 1512.33 477.811 Q1512.33 470.45 1516.77 465.889 Q1521.19 461.329 1528.25 461.329 Q1535.27 461.329 1539.73 465.889 Q1544.18 470.426 1544.18 477.579 Q1544.18 482.07 1542.54 485.496 Q1540.89 488.922 1537.17 492.186 L1544.57 492.186 Z\" fill=\"#000000\" fill-rule=\"evenodd\" fill-opacity=\"1\" /></svg>\n"
      ]
     },
     "execution_count": 13,
     "metadata": {},
     "output_type": "execute_result"
    }
   ],
   "source": [
    "histogram(log.(svals), color = :steelblue, nbins = 100, size = (800,250), \n",
    "                     xticks = -14:2:10, xlims = (-14,10),\n",
    "                     label = \"logarithms of singular values of Ω\", legend = (0.2,0.5))"
   ]
  },
  {
   "cell_type": "markdown",
   "metadata": {},
   "source": [
    "It seems that the majority of singular values is below $\\exp(2)$.\n",
    "\n",
    "Let us choose the linear subspace that is spanned by all eigenvectors for eigenvalues $\\lambda \\geq \\exp(x)$. "
   ]
  },
  {
   "cell_type": "code",
   "execution_count": 14,
   "metadata": {},
   "outputs": [
    {
     "data": {
      "text/plain": [
       "31"
      ]
     },
     "execution_count": 14,
     "metadata": {},
     "output_type": "execute_result"
    }
   ],
   "source": [
    "λ = exp(2)\n",
    "d = findfirst(svals .< λ)"
   ]
  },
  {
   "cell_type": "markdown",
   "metadata": {},
   "source": [
    "We aim to approximate the data by a model $x = A\\zeta + b + \\epsilon$ of dimension, where $A\\in\\mathbb R^{D\\times d}$ and\n",
    "\n",
    "$$\\epsilon \\sim N(0,\\sigma^2\\mathbf{1}_D) \\text{ and } \\zeta \\sim N(\\nu, B)$$\n",
    "\n",
    "If $\\Omega = UDV^T$ we take $A$ to be the first $d$ columns of $V$ and $d=\\bar{x}$."
   ]
  },
  {
   "cell_type": "code",
   "execution_count": 16,
   "metadata": {},
   "outputs": [],
   "source": [
    "A = S.V[:, 1:d];\n",
    "b = x̄;"
   ]
  },
  {
   "cell_type": "markdown",
   "metadata": {},
   "source": [
    "We also take $\\sigma^2 = 0.001$, $\\nu = 0$ and $C=2\\mathbf 1_d$. \n",
    "\n",
    "This choice seems to work well."
   ]
  },
  {
   "cell_type": "code",
   "execution_count": 17,
   "metadata": {},
   "outputs": [],
   "source": [
    "σ² = 0.001\n",
    "ν = zeros(d)\n",
    "B = diagm(2 .* ones(d));"
   ]
  },
  {
   "cell_type": "markdown",
   "metadata": {},
   "source": [
    " We use the [Distributions.jl](https://juliastats.org/Distributions.jl/stable/) package to generate the distributions for $\\epsilon$ and $\\zeta$."
   ]
  },
  {
   "cell_type": "code",
   "execution_count": 18,
   "metadata": {},
   "outputs": [],
   "source": [
    "N_ζ = MvNormal(ν, B);\n",
    "N_ϵ = MvNormal(zeros(D), diagm(σ² .* ones(D)));"
   ]
  },
  {
   "cell_type": "markdown",
   "metadata": {},
   "source": [
    "Let us now use our model to generate synthetic data."
   ]
  },
  {
   "cell_type": "code",
   "execution_count": 19,
   "metadata": {},
   "outputs": [],
   "source": [
    "ζ = rand(N_ζ, 8)\n",
    "ϵ = rand(N_ϵ, 8)\n",
    "synthetic_data =[A * ζ[:,i] + b + ϵ[:,i] for i in 1:8];\n",
    "synthetic_images = [reshape(u, 28, 28) for u in synthetic_data];"
   ]
  },
  {
   "cell_type": "markdown",
   "metadata": {},
   "source": [
    "The array `synthetic_images` now contains 8 randomly chosen points from our model.\n",
    "\n",
    "Let us display the corresponding pictures."
   ]
  },
  {
   "cell_type": "code",
   "execution_count": 20,
   "metadata": {},
   "outputs": [
    {
     "data": {
      "text/html": [
       "<table><tbody><tr><td style='text-align:center;vertical-align:middle; margin: 0.5em;border:1px #90999f solid;border-collapse:collapse'><img style='max-width: 100px; max-height:100px;display:inline' src=\"data:image/png;base64,iVBORw0KGgoAAAANSUhEUgAAAHAAAABwCAAAAADji6uXAAAABGdBTUEAALGPC/xhBQAAAAFzUkdCAK7OHOkAAAAgY0hSTQAAeiYAAICEAAD6AAAAgOgAAHUwAADqYAAAOpgAABdwnLpRPAAABL5JREFUaAW9wU2InHcdAOBnZn7zPZvdbJI2JCkxYtEWYiQxKiriRVGEqiDe9GK9ePHiTVAKXgQvIt6KBz2JJ8UPEFFRj3oTEluSNm1NtvnYr+7szLwz74yB/2FdInj7PU8EFhiiwhI1BqiwQAcVuooaC8d1UKGDCn1MFB1UeBohWUgWksVCMVZ0UGOhaKGpmDluHe+gg6WigwoTRRczRY2QLCQLySKwQAstdLFAhR6mqBUdtPAUdnAGgZGijT300cEUM8wUOwjJQrKQLGo0UKNGhSYGOHRcA2exhR4q9DHAAPdwCTtYYIIhDhSBkCwkC8lihREWaGCCJRYY4BANrLBEhTX0cBo7iiGex5sYYIIm5oo+JgjJQrKQLIaosMQCXcywwqGiiyYCFQZo4wFGGGIPj9BFCz20cRl/xgIthGQhWUgWY8ct0MbckRUa2Md5NLDCEAe4hY/jDCoM0EcPbbwHr6BGSBaShWThvzRRo0ZTscQMM/TwABfQwyNsKf6ouIYuavQwRQ8nsI2QLCQLyaKLmWKJFlYIVBiiwhxTnMQhDtH0pH/gDD6N92IXN7CtCMlCspAs5o700UWFQ3QxdtwUL2CGf2GABV535AF+g3P4Oi7gb4qQLCQLyaKJpWKCNhaKlSddwRfxSfwCUzyPH+B3juziGXwM1/FdRUgWkoVksXTcHJVi6chlfBbfV/wet/EBtPENXMRv8QaewUu4jnuOhGQhWUgWS8dNFF2sYYSv4iVH/oqbuI5T2MMQL+IFTPFBbOHH+AhexMsIyUKykCw81sUQQ/TRxxVcxTcVB7iFH+EtfBmHGGIdNXYwxgamqPEFnMe38TJCspAsJIs1fB6fwAU8hT42cA5z/Bw/wTo6+BDu413YRl+xhsu4iLdwAaE4qwjJQrKQLK7iZ550Cz/EDbRxGeu4imvYwp9wEZuocQl9NNBQrCvuKEKykCwki2f9b318CXfwUUfuooUpzuIB3sYabmKIm+igjVdwFvcUIVlIFpLFr/EdVKjwEA1s4v0Y4Jd4HQ/xB9zHbcedw4dxAuvYxBR9XMLn8CuEZCFZSBZb+Cm+gnfjTWxjA9t4gBk2cBlX8BnMcMr/t49tjHGAkCwkC8nCY3fwPTyHr+FTuIah4w5xHzv4O/6CWxhhGzXGGOOfaGGFBRpYISQLyUKy8NgGdnED33KkjZPoYBeb6OHf2MQAe3gaJzDCCm1cxWk0cBdzvIqQLCQLycJjLTyHJsZYwxIdLBXvUyxxHhto4W1M8RoqPMIZNHAbB6jQxhwhWUgWksUpnEcDc9QI9LCGKXro4D7uYwOvYYTbWEONR2ijwj7WcQoTnMFthGQhWUgWc0wR2McAB4pDzDHAPQwxQo0Ke+hhF6cxwgBtBPqYYhNbqBGShWQhWRxgjEc4iSXa2MUS63hHMUYfE5zCNhpooIE+ajTQwQ6WqNHHFCFZSBaSRR+BHibYRwcbGGAXbcyxiR2MsY4p2gjM0ESFFSrMUKFChS5CspAsJIsp3sAAEzyLPdxFDxN0scISFWrU6CgqtBHoYwcnMMAKQ6xhHyFZSBaSRReHaCLwKlZYYaYYYRtzzLCGfSzRxhwVGlihg4foY4QZaswRkoVkIdl/AItqVAhPsvzxAAAAAElFTkSuQmCC\"></td><td style='text-align:center;vertical-align:middle; margin: 0.5em;border:1px #90999f solid;border-collapse:collapse'><img style='max-width: 100px; max-height:100px;display:inline' src=\"data:image/png;base64,iVBORw0KGgoAAAANSUhEUgAAAHAAAABwCAAAAADji6uXAAAABGdBTUEAALGPC/xhBQAAAAFzUkdCAK7OHOkAAAAgY0hSTQAAeiYAAICEAAD6AAAAgOgAAHUwAADqYAAAOpgAABdwnLpRPAAAA99JREFUaAW9wUuIlWUYAOBnznnnPupMTpNZdDOiG2UKQkQIUZSUJLVSCHJdyxa1CWrbvlW0iAhqU2CL2tWqVbqIkhLLtLyk5jgzZ+bc/n8KPuEgMxUZvc8TrhjHiquNoIshTKBlYBQdTGHJwBBWMYmeYhU9NBCShWQhWUyijVVFA4EuGpjCElqKEayio1jCCBpoKwItjGMIFcbRRkgWkoVk0UIDbTRQo4vr8LtiAssYx4piGFNYQmAzLqGDnmJFMalYRUgWkoVk4U8zaKOBDgIrBipFZWAafcxiES3U2IQKHSwrWopRhGQhWUgWI7iomEQXXWzCCC6jo+grmpjBiKLGOcUkKnQUY2hjGF2EZCFZSBaVgZ5iBMvoKYbRQ63YiAXMooMZdDCP87gRy5jDZvyKBUwgJAvJQrKoDHQxgXHMW6uBGmPYhHmMosajOIoTaGEn+hhDA9+jQkgWkoVk0URloI1lBBpoYAqX0ECNOdyFUVS4jB+xEVtxJ+7GCZzHGB7CYYRkIVlIFpWr1Yq+osYlBIYxi1twLz7CUezG9TiO7bgDPdyKh3Ea76FCSBaShWRhHU1UisA0ltDBLryI5xRD+BK7cAqnMIKdmMMGHEVLEZKFZCFZjKNCV7EBi4pAHwuo8SRO4TnF8ziJLjoGuvgKe/ANbjYQkoVkIVm0MaxoYhGBPvqKLvbiEG7DPjyNd/AturjBWl/jBbyC9xUhWUgWksUquopK0VcENmIDDuFuvIsKn2EGL+Fz/Iqd+A4dPIFdeBZb8DreREgWkoVksQVnra+P33E/DuI1fIC3sQU34zQexTacRhN78BQuYIfiDbyJkCwkC8li0V/bibdwHy7gVXyCHVjBDAI/YRPmsBd78aD1hWQhWUgWlWIa12M7dmEHHlN8io/xDHZjBlvxGXrYgw5mcScu4AtMYwG/4IAiJAvJQrK4B4et7zS+xIc4gyWM4hscQ4UmWopJ3IRz6OFxHMAjioMIyUKykCyO4W1M4wHcb2Ar9mO/4hguYQlHsU8xhK3+2XUIyUKykCxuxzs44t972V/bjDnM4wxuQwchWUgWksUyzrjaXfjBtdmIbdiACk20cQKbEZKFZCFZHFdMYUnxg2u3gCPWdxEhWUgWkoUrVnALptDCNGZxAXP4Hr9hGh1UGMZF/05IFpKFZOGKCZw08LP1nfXfhGQhWUgWw+hhUY6QLCQLyaKHUTSx7P/VREgWkoVkEehjSNFA7b9porK+kCwkC8mijzEDtbUaqBUN1P5eZX0VQrKQLCQLf6owhi5qa9UYRg+BrrUaqDGKDkbRRaCnGEJIFpKFZH8ARXH+IS/LR08AAAAASUVORK5C\"></td><td style='text-align:center;vertical-align:middle; margin: 0.5em;border:1px #90999f solid;border-collapse:collapse'><img style='max-width: 100px; max-height:100px;display:inline' src=\"data:image/png;base64,iVBORw0KGgoAAAANSUhEUgAAAHAAAABwCAAAAADji6uXAAAABGdBTUEAALGPC/xhBQAAAAFzUkdCAK7OHOkAAAAgY0hSTQAAeiYAAICEAAD6AAAAgOgAAHUwAADqYAAAOpgAABdwnLpRPAAABJNJREFUaAW9wU2I3HcZAOBnZt+Z2Z2dzGZ3m1K3tikFC5UgSDFVg8aCFAVR8aAXKV705K2KVY9KQQSLiD17EorpQYsgUg8R6aHUKtZEKjRGuzF2t8l+ZHa+/rMzBn6BYdmgt/d5ooWRuwtMzNUxNddApaihgbG5wAQ1RQshWUgWksUIdUzRRl8RmKCFCRYQGCsmqMzNMDa3ih1FC1M0EJKFZCFZuK2OKfpYwhQjxQiBBhYwUyygUkwdt2tuqBgjJAvJQrJwW02xhAFW0MQYNXSxjRkaqBy3gj3UMUWgQqCOsSIkC8lCsnBbhXuxr9jDAg7RwJbjAhNzXTSxraghMEHdXEgWkoVk0cEYW6iZO1QcooWRYgEVJo66hhVzY9QV6xhggJAsJAvJoqdYw03UMcNMMcVIsYw6ho5awgB1PIgutjFCH9tYwiFCspAsJAt33EINU6xhBzM0MVYcuLsBzmAVf1HUsWtuoAjJQrKQLBqYoEIHPQwUixj6/76FwBs4jwrXcQNt7JoLyUKykCwqcz20MMQMUzRQoY2+476KM7gPW6iwidNYx324Bz9WhGQhWUgWgYm5kbmxub7jvo8RfoQf4kFcwMO4Hx1cwpdRx3MIyUKykCwOsYgKh4oaFjBxdx28gOfxOq7jk/gwPo4RfosOnsCnsITnEJKFZCFZ1DB01AwTtPEYXsNA8Qw+jxdwGR/BHzDBdVxEF0/jA+go3qcIyUKykCymqGGmOIUP4ilcxrOKDXwXn8a3cQWP4zQ+gwH+iJexgR7ewAoW8KgiJAvJQrJo4xs4h4+ig7fwDC7gQ3gK57CJL2CAx3GAH+AUzqKF53EaD+Ef2MLP8T1FSBaShWTxU3wFF/EiDvEWHsHvsISr+AUCX8PnMMMIFxx3C7/E7/FnbOJjipAsJAvJYop3cB7nzd3EuzjEDvpYw1ls4K84o/g1XsHf8Rv0FHV8Al/C+/EkQrKQLCSLl/EIfoUxnsBM8Sr2sIOTuIaf4HUMsYQ38TBO4AF8E+ewjEfRwxDb6CIkC8lCsvgTLuG9eAXP4iI2FW30/W9/U7yKFx3XwtexgZAsJAvJ4k18B+fwWTyJp9HHZWzjbVzDDAdo4goOcRNfxFnciybuxwbWHPUzhGQhWUgWMwzxEl4y18QK3oNF7OAE9lHHOpbwGP6JGjqooY4armKIf+EkXkNIFpKFZNFA31FNNLCNbXfXRg0tjHAJNTSwidNYxS5uoYcJQrKQLCSLJipHjVEpTqJCA01s4R4cYAkVDtDGFOvooIcFXMUyhlhGSBaShWQxRhcdDNDHIiao0EcTYxygjRGaiiZWMcMQ/0EPDdxAHTtYxw2EZCFZSBYVKsUYD+Ea1rCHdUyxiwFOoI9FDHCILiaYooYOmtjDGv6NOmYIyUKykCzcsY8FXMEUPTyA61hFoIbAFDN00cMI+9jAADvoooVddLCPGkKykCwkC3e0UKGOSrGFwLtYVuxghhH2FCto4B00UEeFAU5iiClmCMlCspAsmhhjCYED1LCIIUaKXdTQxh5O4bpiT7GMA0WFLnbRRKUIyUKykOy/DpVFVoQw6BIAAAAASUVORK5C\"></td><td style='text-align:center;vertical-align:middle; margin: 0.5em;border:1px #90999f solid;border-collapse:collapse'><img style='max-width: 100px; max-height:100px;display:inline' src=\"data:image/png;base64,iVBORw0KGgoAAAANSUhEUgAAAHAAAABwCAAAAADji6uXAAAABGdBTUEAALGPC/xhBQAAAAFzUkdCAK7OHOkAAAAgY0hSTQAAeiYAAICEAAD6AAAAgOgAAHUwAADqYAAAOpgAABdwnLpRPAAABCVJREFUaAW9wc2L3HcdAOBnfvPZnZmd3dk0Jq2EvFSNrSCmwSpFEUoRwSLqpZXeevGi14AeBC899CL+Cx6kB0HwKFIhSLEWJDYpaguxvtVG7Rqy2czszPzmzYFv4UdImvbSz/OEtUALM8UGluhipKiwdKcOpoqeYux2LcUKIVlIFpKFtTm6aKHGTDFCB1MEakUfc9SYarQxRAdzbGKMlUZIFpKFZGFtgAN0FF1MFG3FLvYxwwgtDHBTsYEhKkzRwhg7uKURkoVkIVnsYKyoFRONSnGAGbaxxCFqjRm2McESK8Ut9FBhjJAsJAvJYoYZNjBDGwt0MUGtmKKNoUYPY42hRoUWltjCdUVIFpKFZNFBjRl6WGKJiaLWqLBAFy0MvbelxnWNkCwkC8niJjqYYoFao4WVxkyxQBu1D66NNkKykCwkC2tTRR8zrBQrRSgqtFBjrnEfbri3BRYIyUKykCx6mKCNG+hhjB4mqBRzbGKOE/goAl/DVfzUnc7iDIa4hglCspAsJIsOxpjjOPbQxlixUHRQ4bP4AR7HDv6AFzT6+CKO4VF8GefxTbyIkCwkC8liHx1MsadYYIAhltjCaXwJ38MncQlfwFPY1XgS57GDz+O8YoEKIVlIFpKFtaWiQgdjTHEKHTyMp/EUengOP8SjOI2P4Lu4iHP4BnbwoOLvuIhDhGQhWUgW1uaKbRxgA2dR49P4Fs7hNVzAf/Bx/AgfwxnFHv6B+/GA4rf4J76OnyMkC8lCsmhhFx0cwQBD/AmB7+MRvI7n8Sq28BO8jA7OKI7juNsdw1VcU4RkIVlIFivso4//KnZxAd/Gr/BjvII/Kr6qeAyn3N0KL+IS3sEBKoRkIVlIFtbO4hls4EEcwQAX8RKu4iiexe/xEjYxxi52cb/iIbyCCS7hCPZwRRGShWQhWbRwAedxiCv4NVZY4U30McE+/ooJXnC7x3AOb+NlvOruQrKQLCSLTXxH0cZncA6P4FN4DdsYYY6vYB8/w2k8oRjgN7iCCU5igBUG+DNuISQLyUKyGOAYhngLl3HZvX0OI/wO13AdfbyNCWqcxCmMMMYncBkhWUgWksUe9rCLJ3EcHbyDIY5iii62cRRzBDZxFFvYwQn8BSMcwd/Qwlu4imMIyUKykCy86yZ+qehjhhN4E30ssImHsY8eKjyAG5jhJMbo4xeYY4wD/As1QrKQLCQLdzFS/A9DbKGFHt5AD9v4t2Lp7tpYuF1IFpKFZOEehopDxUhR46b3t3CnkCwkC8mii4k8IVlIFpLFBIEKtQ9fSBaShWRhbYEKHWziEAtFhaX3tonaBxeShWQhWXhXrdHFSLHUaGGFCktsY6yosFS00MHEnUKykCwkC2sr9DDGFFP0UGOBLRxiCyMsEZihixEqLBUrdDDR2EAgJAvJQrL/AxzWEQt9JuxdAAAAAElFTkSuQmCC\"></td><td style='text-align:center;vertical-align:middle; margin: 0.5em;border:1px #90999f solid;border-collapse:collapse'><img style='max-width: 100px; max-height:100px;display:inline' src=\"data:image/png;base64,iVBORw0KGgoAAAANSUhEUgAAAHAAAABwCAAAAADji6uXAAAABGdBTUEAALGPC/xhBQAAAAFzUkdCAK7OHOkAAAAgY0hSTQAAeiYAAICEAAD6AAAAgOgAAHUwAADqYAAAOpgAABdwnLpRPAAABCFJREFUaAW9wc2P3HUdAODnN/OZfd8t3e1SArXtCpQYmyomhgRBjB4IHgoaI/HgwZuRRPDIhZsSwp9Bgic8aQ8aDypRg9GmkFUp9JWU0G27Zbu7szsvvxk3+R7Gza4JMfB5nrAjMMA4mtgw0sA4eugrKgwxi3VMYICeooHa/kKykCwkCzv6ii0EmqgxhTa2McQYKnQU64oOWqgwQG23QB8TCMlCspAsGmiip+gbaSuGiq7dWmjiIG5jYH99xTZCspAsJIsBptFTVGgh0Pa/HcMaKmxgGzOYVmxg00gTNUKykCwkCzuaRoZooo0makyhjwH6ijuYxj04p9hAEx1M2K1WhGQhWUgW4/hYMYU2emihQo0aXUygjwcxwL1YwDgu40OsYRFdnMA6rmOIIUKykCwkiw4qNNHGBAboKip0FNuKLdyHFt7HLJ7EH7CCGziACbSwhHexjpAsJAvJosIQFSaxhTl0FUMjgT4O4SCu4p84jPP4Kr6MJVzAJGZwAV/AWYRkIVlIFkNUii0E7hiZQhsV+ljAEs7houK64m2cwhV0cQ09HMUU3kJIFpKFZDGBbfTQxEAxjzXUijls4wEMcREVvodv4Ke4jTcxjzG8r3gIx9BFSBaShWSxbaQ2sokaNQJrmMY7+AFO40dG3sQvFRtGnsDDmFGEZCFZSBb+S4UKk9jELNbRV/wEzyFw026v4zm8iHms4ud4HOdxGUcRkoVkIVlUGEMHQwyxqVjHAn6In+EO3sU3cZ/iFhYUX8Mf7fUqzuMIQrKQLCSLJjr2N4szeAA1juKk4jwu4FvoYsxeF3EGN3EK8wjJQrKQLPr2msTTeAoHUGFR8QYm8VccwTI2cAKHjfTxOXwHHbyNpxCShWQhWdjHabyAR4zU+B2uYhUz+Btexst43G6BP+MGGugpQrKQLCQLOxq4Cw/iUXwRFX6LcczgHM7hEn6Nu/AYvo/LeAuLWMIKPkLg83gYX8e/EJKFZCFZ2HEaj2IFx7CK3yvuxnEcxkkcwjFcwpfwXfxbcRXLOIgtzCn+jjX8CSFZSBaSxSNYwS+whAU0cQo38RssI9DDPAIdrOIMergfNe6gxv34CqZwBI9hAyFZSBaSxQn08B7OKo4r7sazuIJ70cJJrGAKB9DAIh6yv9v4C36MXyEkC8lCsvgHnsBLCNzCWbyheM2nZwwhWUgWksUylnEK38YinsHzWEMDNW7hBuZwHT3U2MQ1bOIDbGOAmziONg7gCtoIyUKykCzsmMYlvIIWDilmMIcaNVYxxDWfzDv2CslCspAs7Ng00sWHPjshWUgWksUsGljz2ZtFSBaShWSxhTlMoe3T0URtr3WEZCFZSBYDrGISgQEq1P5/tf21EJKFZCFZDBQN9H1y4+goxtFRNDDAPfjIbj2EZCFZSPYfQScP7QY9Zt4AAAAASUVORK5C\"></td><td style='text-align:center;vertical-align:middle; margin: 0.5em;border:1px #90999f solid;border-collapse:collapse'><img style='max-width: 100px; max-height:100px;display:inline' src=\"data:image/png;base64,iVBORw0KGgoAAAANSUhEUgAAAHAAAABwCAAAAADji6uXAAAABGdBTUEAALGPC/xhBQAAAAFzUkdCAK7OHOkAAAAgY0hSTQAAeiYAAICEAAD6AAAAgOgAAHUwAADqYAAAOpgAABdwnLpRPAAABFhJREFUaAW9wV1rHXYdAODnJL+cc5ImTdKka8c6bK3t3FZ2IdbaaXvhS7cxlQl+AJk3Mj/BJji8F8GrCYKoV96I4IW7EOfQzRfURtspSru1IQtb06bNy+l5zTnHwV84FFOlir/niUkM0EENHSOBHSxgEztGquhiGg1UMUQPU+ihjm1FDR2EZCFZSBYtjCs62INAD23MYh017BjpKlqYQhNVzGFD0TPSUYRkIVlIFlX0UUUXtxWBATYVHbvro6nooutf1dFGBSFZSBaSRVcxwDj6qKCiqGCIQB9D966jGCIkC8lCspjDBoboY0zRUwwxgZ7/3lBRRUgWkoVkcVtRQaCnqKKLGjp2V8VhbOMddzeOProIyUKykCx6igr2YAsDdFFHGxXU0DZSwwxW0MJp/AZ1HMEYGngHe7GNDkKykCwkiyk0MUAXs7ilaCuGaLvTUQzwKfTwI8UHcQ5buIb9mMZv8QZCspAsJIu2kSaaqKKLMdTRRA0djOMUvooTOIc1I3/CbRzF8ziLtzCH3yMkC8lCshgoDuCaoqKYQgMzikk8hxfwDTxtd5ewiSuo4iE8jipCspAsJAvvWUQDE+ihi0BTUcNxvIx3MW2khnM4iL/idcUavoLHcBrP4hhCspAsJAvv2cIQ81jDEDuYwFN4AfvwGfwKZ7GBLh7Bg/gCrmIeLaziMRzDx7CCgwjJQrKQLPzTNAKHcB+exlPYwZexjZfwJB7HBRzGLNbxA+zDc+hgCgto4ibO4FGEZCFZSBaz+BCeQQ3HcAa/wLfwLi4obqFi5Cq+j8/iAdTxNg4j8AZq+DT24RZCspAsJIuzeBG/xGtYwkuYwA+NfBdfcqeT+BxO4STmcB2r+AAO4mHFDh5CSBaShWSxga/hCXwHdXf6Gb6Oo3gWD+AWZnAR5/FxXMYBHEAD03jYyEX8DiFZSBaSRQs/xjzGsIObOI9X8QecwSY+govYj3EcxzexhE9ggJOKCmp4HRdQx2sIyUKykCwmsIQTmMF5bOPv+DyexBxuoIIJPIG9eBXTOIVDmMQr+BsaeBMDXMZeRUgWkoVkcRHP46M4gkN4EM9gET/BT7GBBn6NF/GmYgE/RxvruIr34TAWcR011BUhWUgWkkUDb+MaeljByxjHeSz59/ZjDMexjXP4JA6ihUtYwgRuIiQLyUKyeBSBZTQxhpOYxCM4gS5O4zramMIRLOCPqGEFX8T9WMUV3MBfsIxXFCFZSBaSRQtn0ccalnEZbcU4tvBnrGMGb9ndt/1nIVlIFpLFMr6HI/gwTqODAVbQwD7FImZxH2ZwCduYwv1YwxrmMY5JdDGDTfQQkoVkIVn0FVdwxcgCOtiD92MVLdSxiT5uYxrTWEUDE4oN3MAitrCsCMlCspAs3MW6ooFr7m4cy+60iWm0cAMDTKGJkCwkC8nC/6CCTbtrKJpGJhCShWQhWcyjgpvu3dC96SEkC8lCsuihgUAfQ/9fIVlIFpL9A5cNJHgCnZsTAAAAAElFTkSuQmCC\"></td><td style='text-align:center;vertical-align:middle; margin: 0.5em;border:1px #90999f solid;border-collapse:collapse'><img style='max-width: 100px; max-height:100px;display:inline' src=\"data:image/png;base64,iVBORw0KGgoAAAANSUhEUgAAAHAAAABwCAAAAADji6uXAAAABGdBTUEAALGPC/xhBQAAAAFzUkdCAK7OHOkAAAAgY0hSTQAAeiYAAICEAAD6AAAAgOgAAHUwAADqYAAAOpgAABdwnLpRPAAABFhJREFUaAW9wcurXAcdAODvnPnNzJ25SW6SmzS5NF6SVrFaqjRVq1CktQuh4M5uVGyxolulf4NLcSHoyj/Ahc+FiNSFj1oJ+IooJMWSxjzaNMnNkJs7z3OOgRMYBisaF7/vC3d1UKGHBUosrFrHFAewgwI1SgRmGGKMg9ixtIExZgjJQrKQLNxVac3QxRwDzFCgwBxdjNCgQAcNZuhhT2vHqpHWBkKykCwkC3d1UKGDRmuCjtbcv6utmvnvpgjJQrKQLLqYa1XoY4ECCxRYQ4Op+9fHVKtBSBaShWRRYQ0TrGGCEjU2MMHEUoHG/26qtYERQrKQLCSLGhOtCUrUWiNL+3EbjftXYKQVkoVkIVkMMEYPc9TooLJUYu7/1yCwQEgWkoVkMcYmbqPRGuK2VmCBCQIL7+4JHMJrGKO2aoFNhGQhWUgWBW6hQokudrWGWg0q1Oihwdyqr+EKPo6/4k08jeO4jG/jBkKykCwkiwYVOqgwRQ8LrcpSjU2cwHtxEa/iU/g8CvwRT6LBIRzGebyCtxCShWQhWbinsjTDQYzQaK3hcTyGl7CN1/E97KHQOo3TVv0cz+O7CMlCspAs3NVBZamDW3gQgaN4Ct+ydAnn8Sxewcv4plUVPoPP4UX8FCFZSBaSRWBhqYcaWziB0/iOVd/Q2sE2TuHPeB43MMU/UOLr+ILWFkKykCwkiwUewAYGaPAAjuMlPGPpNfwIj+Ik1nEVD6GHS/gktvBp7Mc/cRkP4lGEZCFZSBZDfASHcR0P43F8FhtaP8YvsYVnsY0PoMHfcQ7P4CjWsYUpfojXsYUv4mmEZCFZSBYfwgXUeBIPo8QP8GscwTa+gvdjYanAEM9hDTNMcQZ3sEAHHSzQRUgWkoVk8WV8Ar/Br/AL7KKHAY7hbZzBX3AWJ7CJ9+EoruG3WOAKKq0NXMcfMMMxhGQhWUgWL+P7+BK+iuvYQYk/ocDf8DMcQo2zOICLuIQaHeziJObo4SR6OIencAshWUgWksUAL2AbH8Mm9uFN3EYfI5Qo0MUpDPBRDPAIZphigfegRIECV/EcfoKQLCQLyeIknsAY57CDEns4hU1UeAQdbKLEQezHGezhLIY4hot4Ax9Eg6v4HV5FSBaShWRxDb/HDGME1tHFNVxBBzdxE7vo4zIewnnM0MVxHEGFfTiDAfo4gmsIyUKykCwuoMYBzDDGHBUGqLCGGxhgHW/gBPr4MN7BMRSYay1QoMbbmGKGkCwkC8ligAuWephhHX2McRgHMEQPj6HBOnbQwwgFeriBDYzxDobYwwghWUgWksUdq2Zad3BH6zKuorZUoLGqjynWcBEVurhpKSQLyUKycE+J2n9WW9VY2oddTLUmGGIPc60+pgjJQrKQLNxTu38lauxaVWJPaw0N5ughJAvJQrJwH7qYW6q9uxp9zDGxVCEkC8lCsijQoERt1RomWl3MUaLW6qDEXGuIPa0pOlpD7KFESBaShWT/Ak6lKbdqabq9AAAAAElFTkSuQmCC\"></td><td style='text-align:center;vertical-align:middle; margin: 0.5em;border:1px #90999f solid;border-collapse:collapse'><img style='max-width: 100px; max-height:100px;display:inline' src=\"data:image/png;base64,iVBORw0KGgoAAAANSUhEUgAAAHAAAABwCAAAAADji6uXAAAABGdBTUEAALGPC/xhBQAAAAFzUkdCAK7OHOkAAAAgY0hSTQAAeiYAAICEAAD6AAAAgOgAAHUwAADqYAAAOpgAABdwnLpRPAAABMxJREFUaAW9wVuLnAcZAOBnZt7db3d2Z3eS3STrkmybpCttTGNVJIJFRYSAVFCxP0ERvQwewJ8h6F/oRREvquCNaUHoRXSltqA9aBLbnHazh+zsaWa+mTHwCcPS6uX7PFGgqzKFIx83g0NMYoQhmniMGkYqi3hkbAGbmMEIBwjJQrKQLEpjJRoI1HCEFjoqR2hiiAbaOECJAo9QYIQGdlX2UUcTIVlIFpJFHQNM4Qg19FCo9B1XxznsYwkbOItdnMI2BuhgHrv4EFM4QEgWkoVk0Vc5wiR6mMMuCozQRA8NLGGIAtuYxz4KdNFHH3PYw0ncRQ/zCMlCspAsGpjHFnqoY6TSVQmUOIkjjFBDG3fQxBBNLGGIx5jHBoYY4hAhWUgWkoUntlUCJToqk5jGYzSwjRVMYBJHmEOBdUzhPhooMMQiNjBADyFZSBaSxQANjFBghAIleuihhgEWVQ7Rwi100MIymngPByrn0UQDJ/EQIVlIFpKFJwYq+8Z6aGCAkcoWTqHEPXRUOngRc9jFv1TuIjCLOgIhWUgWksU0Do3N4kAlMDDWwD6mcddx1/BF7OCXOIlL+COew68xg5AsJAvJokSgRAN7qKGOLqZxiBr6WMe+457Dt7CMKXwT72MTF/FdrOFNhGQhWUgWfZUCXZUpdFUOVQJ97OM0XsUN7OHPWMMFY6sY4h7+gTdwCSFZSBaSRR01jFQChyjQNdbHObyPAj9DDV/CHn6L7znuFbyKH+MKnkFIFpKFZFHHCC2M0McQE+iqXMYNLOJPuI57eB6r+A7+iVcwwizexh9Qw038EN9ASBaShWQxhQNsOu5p/ARfx2Xcx49wA+fxVXweNfRUnsYCbuNFfBl/w1sq1xGShWQhWexhGQv4Ahawis/gKbyFRXRxFS/gZfwAa3gDz+M8LqmsYh2/wQU8MBaShWQhWbyEX6GH+7iDGg7xc9zEZXwFs5jFPG7hAjZwBivYwwQe4iMsoYslYyFZSBaSxQjXsYcRljGHy7iGX2AGT6n8GyvYQBvXjM2qrGDFJwvJQrKQLH6nsoBNxy2jRB2XcBWTeBbvYhXfRtP/1sVfsYbfIyQLyUKy8F8n8DKWcRuPcQc7uIIzmMY8zuEq7uEdbON1/AV3sIFtYw1cwWcRkoVkIVm00cIH+EDlJXwNP8UFLPpku9jEBk7h+9jBA9zCA0zjLG5jDSFZSBaSRQcv4BK2sYXX8JqPO4sBBmhiHiWOMMIOtlTmsKsyg9M4gZAsJAvJYoDXsYBP4yI+h1OYwxwa2EQbJS6ixCo2sIfbuIMaBmihhwLvqryNkCwkC8nCE59CiTeNTWIRgTM4i3dQosAkOtjHIToIlP6/kCwkC8niJKZxHh2so0SJLh5iEzexiBbW0cEC1o2VjquhjW1MoI6QLCQLyWIfc/g7JlVaaKCGZ9HHNmoosIxHmMQDlTpqmEAfBUrsYwpDdBGShWQhWXRRosAAW5jAAh6jr9LGAfrYRYH3sIIttLCLNnroo4U+9tBCiZAsJAvJwhMfoYYzWMUOupjCDpr4EPN4iBnMYwFtFNjEM9jBJHZwCiWW0MIaQrKQLCSLGkYY4QHWcQJdtHGII8yii9O4hy0McFdlFrewa2wbbfTQRB8hWUgWkv0HBeRSuqkB/IEAAAAASUVORK5C\"></td></tr></tbody></table><div><small>(a vector displayed as a row to save space)</small></div>"
      ],
      "text/plain": [
       "8-element Vector{Adjoint{Gray{Float64}, Matrix{Gray{Float64}}}}:\n",
       " [Gray{Float64}(0.015434823783809422) Gray{Float64}(-0.00874795882000687) … Gray{Float64}(-0.020490173538535713) Gray{Float64}(0.09053244697405646); Gray{Float64}(-0.025508156781671586) Gray{Float64}(-0.007221476021017682) … Gray{Float64}(-0.01298241945973168) Gray{Float64}(0.07742040269450248); … ; Gray{Float64}(0.012559356045600632) Gray{Float64}(0.003380795269765993) … Gray{Float64}(0.07340190586175999) Gray{Float64}(0.020049763309637026); Gray{Float64}(0.038926598988423294) Gray{Float64}(-0.05284375494278164) … Gray{Float64}(0.03061414726546658) Gray{Float64}(-0.008361988371904844)]\n",
       " [Gray{Float64}(-0.010241931716767622) Gray{Float64}(-0.0659233074990781) … Gray{Float64}(-0.020544518326295485) Gray{Float64}(0.009553458433383316); Gray{Float64}(0.04177797790222626) Gray{Float64}(0.011201025010548133) … Gray{Float64}(0.035072561781640914) Gray{Float64}(0.004140515084387604); … ; Gray{Float64}(-0.024785217887048766) Gray{Float64}(0.03295761718300061) … Gray{Float64}(-0.08602902843087247) Gray{Float64}(-0.02892341718059061); Gray{Float64}(-0.061254679537864405) Gray{Float64}(0.018326063386441167) … Gray{Float64}(-0.0471374800607638) Gray{Float64}(0.004299459020390781)]\n",
       " [Gray{Float64}(0.029136011132050322) Gray{Float64}(-0.0027552905299972528) … Gray{Float64}(0.00535507750002701) Gray{Float64}(0.029575270279902324); Gray{Float64}(-0.018984662284562446) Gray{Float64}(0.00703071560628684) … Gray{Float64}(0.021784209869305977) Gray{Float64}(0.0515824528945869); … ; Gray{Float64}(-0.022928155413895986) Gray{Float64}(-0.030906118958898467) … Gray{Float64}(0.01918633908799689) Gray{Float64}(-0.014443493988258522); Gray{Float64}(0.024996244740125975) Gray{Float64}(-0.04523618727416786) … Gray{Float64}(-0.00596510878699539) Gray{Float64}(-0.014656171038674963)]\n",
       " [Gray{Float64}(-0.024717953379436) Gray{Float64}(0.014112577278569006) … Gray{Float64}(0.0031449886719978684) Gray{Float64}(-0.046140739587744554); Gray{Float64}(-0.050286803463225685) Gray{Float64}(-0.01876055676279195) … Gray{Float64}(-0.013852471867294774) Gray{Float64}(-0.0215553314590419); … ; Gray{Float64}(-0.05286225737675243) Gray{Float64}(0.003854693650045065) … Gray{Float64}(-0.03017747104727698) Gray{Float64}(-0.003297446548680919); Gray{Float64}(-0.01037892447780074) Gray{Float64}(-0.02763460146963856) … Gray{Float64}(0.019227872053322125) Gray{Float64}(0.03647787630147144)]\n",
       " [Gray{Float64}(-0.028515033145588335) Gray{Float64}(0.017166056329415837) … Gray{Float64}(-0.06210539986775337) Gray{Float64}(-0.006659306797454531); Gray{Float64}(-0.003900942233375789) Gray{Float64}(-0.01780724503424889) … Gray{Float64}(-0.031298568300520226) Gray{Float64}(0.03041039535552434); … ; Gray{Float64}(0.008522204080655137) Gray{Float64}(-0.024507941699280486) … Gray{Float64}(-0.03617312408973432) Gray{Float64}(0.01886222443347449); Gray{Float64}(-0.010125085819149669) Gray{Float64}(-0.029397255991634282) … Gray{Float64}(-0.01980967242624526) Gray{Float64}(-0.04187548241030562)]\n",
       " [Gray{Float64}(0.03593272240608057) Gray{Float64}(0.02845092983734084) … Gray{Float64}(0.02730315623863744) Gray{Float64}(-0.011028341549947177); Gray{Float64}(-0.05569391843841115) Gray{Float64}(0.012058994113648686) … Gray{Float64}(-0.04059996911828594) Gray{Float64}(-0.009386024552516479); … ; Gray{Float64}(0.06476637661694841) Gray{Float64}(0.07065877845304644) … Gray{Float64}(-0.16040501615398403) Gray{Float64}(-0.027574673972749125); Gray{Float64}(0.0468308511820607) Gray{Float64}(-0.013104531538454478) … Gray{Float64}(-0.06152922443374122) Gray{Float64}(-0.0219914151171308)]\n",
       " [Gray{Float64}(-0.027099761198491182) Gray{Float64}(0.013026078067221811) … Gray{Float64}(0.023407995213105614) Gray{Float64}(-0.020088097183476768); Gray{Float64}(-0.05082041245556878) Gray{Float64}(-0.006368375875148502) … Gray{Float64}(-0.014606393195823873) Gray{Float64}(0.058037494070048413); … ; Gray{Float64}(-0.015057383991581663) Gray{Float64}(-0.029749659371143097) … Gray{Float64}(-0.02539653314234029) Gray{Float64}(0.010452574301332968); Gray{Float64}(0.005012903519500178) Gray{Float64}(-0.02168579494105755) … Gray{Float64}(-0.016011533039536244) Gray{Float64}(0.019095481885490196)]\n",
       " [Gray{Float64}(0.02760314470375715) Gray{Float64}(-0.02414547802739079) … Gray{Float64}(0.038785799989429444) Gray{Float64}(-0.029299609767976718); Gray{Float64}(0.012774562844137142) Gray{Float64}(-0.0152339225350873) … Gray{Float64}(0.009025960395679546) Gray{Float64}(0.03728741653493204); … ; Gray{Float64}(-0.02561771594900825) Gray{Float64}(-0.006731548201261521) … Gray{Float64}(0.2161027867713845) Gray{Float64}(0.018630934384945178); Gray{Float64}(0.0023258170618958205) Gray{Float64}(-0.0011805004939932989) … Gray{Float64}(0.07974602210369758) Gray{Float64}(-0.021045060290774208)]"
      ]
     },
     "execution_count": 20,
     "metadata": {},
     "output_type": "execute_result"
    }
   ],
   "source": [
    "create_RGB_image(img) = [Gray(img[i,j]) for (i,j) in product(1:28, 1:28)]'\n",
    "map(create_RGB_image, synthetic_images)"
   ]
  },
  {
   "cell_type": "markdown",
   "metadata": {},
   "source": [
    "Finally, we use the distribution $N(\\nu,B)$ as a prior to compute the distribution of $(\\zeta \\mid x)$, where $x$ is an additional data point outside of our subsample"
   ]
  },
  {
   "cell_type": "code",
   "execution_count": 28,
   "metadata": {},
   "outputs": [],
   "source": [
    "testsample = setdiff(1:n_images, subsample);\n",
    "x =  Float64.(vec(sneakers[:,:,testsample[1]]));"
   ]
  },
  {
   "cell_type": "markdown",
   "metadata": {},
   "source": [
    "Let us look at the image corresponding to `x`."
   ]
  },
  {
   "cell_type": "code",
   "execution_count": 29,
   "metadata": {},
   "outputs": [
    {
     "data": {
      "image/png": "[encoded data removed]",
      "text/plain": [
       "28×28 reinterpret(reshape, Gray{N0f8}, ::Array{N0f8,2}) with eltype Gray{N0f8}:\n",
       " Gray{N0f8}(0.0)    Gray{N0f8}(0.0)    …  Gray{N0f8}(0.0)\n",
       " Gray{N0f8}(0.0)    Gray{N0f8}(0.0)       Gray{N0f8}(0.0)\n",
       " Gray{N0f8}(0.0)    Gray{N0f8}(0.0)       Gray{N0f8}(0.0)\n",
       " Gray{N0f8}(0.0)    Gray{N0f8}(0.0)       Gray{N0f8}(0.0)\n",
       " Gray{N0f8}(0.0)    Gray{N0f8}(0.0)       Gray{N0f8}(0.0)\n",
       " Gray{N0f8}(0.0)    Gray{N0f8}(0.0)    …  Gray{N0f8}(0.0)\n",
       " Gray{N0f8}(0.0)    Gray{N0f8}(0.0)       Gray{N0f8}(0.0)\n",
       " Gray{N0f8}(0.0)    Gray{N0f8}(0.0)       Gray{N0f8}(0.0)\n",
       " Gray{N0f8}(0.0)    Gray{N0f8}(0.0)       Gray{N0f8}(0.0)\n",
       " Gray{N0f8}(0.0)    Gray{N0f8}(0.0)       Gray{N0f8}(0.0)\n",
       " Gray{N0f8}(0.0)    Gray{N0f8}(0.0)    …  Gray{N0f8}(0.227)\n",
       " Gray{N0f8}(0.0)    Gray{N0f8}(0.0)       Gray{N0f8}(0.0)\n",
       " Gray{N0f8}(0.0)    Gray{N0f8}(0.0)       Gray{N0f8}(0.0)\n",
       " ⋮                                     ⋱  \n",
       " Gray{N0f8}(0.435)  Gray{N0f8}(0.78)      Gray{N0f8}(0.0)\n",
       " Gray{N0f8}(0.553)  Gray{N0f8}(0.859)     Gray{N0f8}(0.38)\n",
       " Gray{N0f8}(0.035)  Gray{N0f8}(0.71)      Gray{N0f8}(0.569)\n",
       " Gray{N0f8}(0.0)    Gray{N0f8}(0.0)       Gray{N0f8}(0.0)\n",
       " Gray{N0f8}(0.0)    Gray{N0f8}(0.0)    …  Gray{N0f8}(0.0)\n",
       " Gray{N0f8}(0.0)    Gray{N0f8}(0.0)       Gray{N0f8}(0.0)\n",
       " Gray{N0f8}(0.0)    Gray{N0f8}(0.0)       Gray{N0f8}(0.0)\n",
       " Gray{N0f8}(0.0)    Gray{N0f8}(0.0)       Gray{N0f8}(0.0)\n",
       " Gray{N0f8}(0.0)    Gray{N0f8}(0.0)       Gray{N0f8}(0.0)\n",
       " Gray{N0f8}(0.0)    Gray{N0f8}(0.0)    …  Gray{N0f8}(0.0)\n",
       " Gray{N0f8}(0.0)    Gray{N0f8}(0.0)       Gray{N0f8}(0.0)\n",
       " Gray{N0f8}(0.0)    Gray{N0f8}(0.0)       Gray{N0f8}(0.0)"
      ]
     },
     "execution_count": 29,
     "metadata": {},
     "output_type": "execute_result"
    }
   ],
   "source": [
    "FashionMNIST.convert2image(sneakers[:,:,j])"
   ]
  },
  {
   "cell_type": "markdown",
   "metadata": {},
   "source": [
    "We use the formula for the posterior distribution"
   ]
  },
  {
   "cell_type": "code",
   "execution_count": 30,
   "metadata": {},
   "outputs": [],
   "source": [
    "B⁻¹ = inv(B)\n",
    "C = inv((1/σ²) .* diagm(ones(d)) + B⁻¹)\n",
    "m = C * ((1/σ²) .* A' * (x - b) + B⁻¹ * ν);\n",
    "N_ζ_posterior = MvNormal(m, C);"
   ]
  },
  {
   "cell_type": "markdown",
   "metadata": {},
   "source": [
    "and use the posterior distribution for generating synthetic data."
   ]
  },
  {
   "cell_type": "code",
   "execution_count": 37,
   "metadata": {},
   "outputs": [],
   "source": [
    "ζ = rand(N_ζ_posterior, 8)\n",
    "ϵ = rand(N_ϵ, 8)\n",
    "synthetic_data_2 =[A * ζ[:,i] + b + ϵ[:,i] for i in 1:8]\n",
    "synthetic_images_2 = [reshape(u, 28, 28) for u in synthetic_data_2];"
   ]
  },
  {
   "cell_type": "code",
   "execution_count": 32,
   "metadata": {},
   "outputs": [
    {
     "data": {
      "text/html": [
       "<table><tbody><tr><td style='text-align:center;vertical-align:middle; margin: 0.5em;border:1px #90999f solid;border-collapse:collapse'><img style='max-width: 100px; max-height:100px;display:inline' src=\"data:image/png;base64,iVBORw0KGgoAAAANSUhEUgAAAHAAAABwCAAAAADji6uXAAAABGdBTUEAALGPC/xhBQAAAAFzUkdCAK7OHOkAAAAgY0hSTQAAeiYAAICEAAD6AAAAgOgAAHUwAADqYAAAOpgAABdwnLpRPAAABHRJREFUaAW9wVuLHGkZAOCnqt4+TWdmsjm4MYnC4ro3suyFJxYVRL3xDwjBe/+Mf0rwTrwR8YSLyWpcNZlk0tPd093VXVUOfEIzeP8+T7gxxRYzbDDHBgMGBHr0jiaosEfn6Bxb7NE7ajAgJAvJQrJwY4YtQrHGGC0m2CkmGFCjwx5jVDggsMbB/xtjg5AsJAvJwo1LTLBy1CsOijFqdBhQKebYYIK14gwNLh1t0CAkC8lCsqjRYIeRYo8DavQItIo51niAC7ToFSPscaUYYUCPCTYIyUKykCx69KgVezTo0OMOrvEQl1grloq1o3DbHufYYIMKIVlIFpLFKZaosFd0OMUSK8Vr1I52ihH2ioOjCg12aBVjhGQhWUgWS8UcLXYYsFSc4FoxQmCHg2JwW40xthihwwh7VAjJQrKQLMZoscSgmGOtuHY0xUJRo8fBbT22aHBAoEFgg5AsJAvJolUMijG2ijFaRwtMMcFdfK44w6f4A/b4D2ao0GPlKCQLyUKycCNwwBQVWsUYraMJ5lhiofgIz/AEM/wKd9FgiVZRo0dIFpKFZHEfCwT2aBRnuEKDTvFlvFB8Ez/HI9R4H9/DFm/wEo+xwgV6TBCShWQhWbxxNMVWsUeFE2xwwAt8jF/g21hjiR22eIgTzNCgwiPcx+/wHCFZSBaShf85wxXGaNFhwBJjfIJneIYXWGCBLc6xwtfwU7zCa3wVU/wdH+MLhGQhWUgWgR4dKrSKFg/xXfwMP8EWv1G8j8fY4BIrLPABPsRbvMUSd9FihpAsJAvJ4oB7eOvo6/ghfoRPscRnqPAUNSpMcAcz1JjhJT7HBJd4gpHiEUKykCwkCzce4Qf4MSp8Bx/gHd7hLSZ4gkuMFW+wQY8J/oEJzvEAH6HCCgM+QUgWkoVk8S38EjsMGKHBX7FDi3uY4h0OqHCFHe7hCZaYoMb38Qb3cY036PFbhGQhWUgWFX6NUzzABGd4DzVOFYEvua1Do3gPHyqeo8ZL/A3/whl+j5AsJAvJ4k/4I+Z4ihXmOMWAh7iPazzGGgsscAcDLrDCDANWOMMlGnTo8Q4hWUgWksWADoHn6FCjReAKT7FGjx57fAPX6DDFFcZ4jMAGczzCa5zgEiFZSBaShRt7fIER9riLCR6gwRR30GCBA67Q4AQVHqLFBQZ8Ba/wT6zxF1wgJAvJQrLYolPsFe8Uewz4DDV6R//GDBtFg87Rn9FhghYDKoRkIVlIFm4EDriDa/SKa/SK3m0NNqjRY4qNokenaDHHBh1CspAsJIsBHSqsFA1G2GKGBnvsFCMcMMIJFlgjUGOGLfbosUODCUKykCwki0ExYIwOHUIxYIU5plggMKDGArXioGgVp5hhiyvUCMlCspAsBkywQ4tzLFArtoo15ooNahwwx9ptZ1jhgFcYK/YIyUKykCxqtIopFoqNYoxWMcMaU2wV1zhDjQUGVOhRKVpFh5AsJAvJolecY4fAQXGCa0xQ4QJTdIoKA64wQmCPheJaUWHACCFZSBaS/Renr12LO7wjzgAAAABJRU5ErkJg\"></td><td style='text-align:center;vertical-align:middle; margin: 0.5em;border:1px #90999f solid;border-collapse:collapse'><img style='max-width: 100px; max-height:100px;display:inline' src=\"data:image/png;base64,iVBORw0KGgoAAAANSUhEUgAAAHAAAABwCAAAAADji6uXAAAABGdBTUEAALGPC/xhBQAAAAFzUkdCAK7OHOkAAAAgY0hSTQAAeiYAAICEAAD6AAAAgOgAAHUwAADqYAAAOpgAABdwnLpRPAAABG9JREFUaAW9wc2KZGcZAOCnznnrVHVV10zPZBxHnYyZRUgMiZHBlZCloCC49AJcuvYKvArX3oQXIC6CIOhCRTAR0sn8pe3qrp/zXzZ8gaIJLtx8zxNuzLHAGnMMaFFglEwwOKokrWSJATUqjOhRoXUUMguZhcyiQocLyRZTjJiil0xRYS85YHS0RYUCraMWgSn2CJmFzEJmUaKVLFDi2td16LDCNQ4YcIIOPVpMMUomWGKDShIyC5mFzGLiaIelowYlBkc1CvSSPUqc4RKd5D461JiikYTMQmYhs9hJlhiwRaBHYIm1ow4r7DDigAGdpECFPfY4xcZRyCxkFjILX9k6KjBBj7XbAjWWaDDHGlvJBAM6SY0SAx4gZBYyC5mFGzM0mKFB63/rUWGCBo2jCU7QSw64iy8l1wiZhcxCZlGgkTSYocEUA0p0khkatGhRYHR0wAYFRqxwhRIDGoTMQmYhsxgxRYEGI2YYMGLEAjtJiSWW+EJS4hle4xyBHSYo0DkKmYXMQmZRokMlmaCRzNGjkzRYosaV5BF+hffxOxzwAo/RYue2kFnILGQWgQEFZmgwQ4E9SswxwRleSj7EL/AmWpzgGa7wHezQ4QTn6CUhs5BZyCxGSY2JpJFMUaJBh5f4AL/EM7zGBiv0KPAYW2zxAm/hI7zCHxAyC5mFzKJHoMJOcoIZLtFJ3sev8RE+xQVWWKNHhw/wEP9Ajx/hDp5jim8gZBYyC5lFgQojCozYY48pfoKf48do8Wcc8BQLlKjRYoUD3sM/0eALFDjBNUJmIbOQWUyxc9tb+Cl+hh/iAn/FN/EutjigwfexQY0ar/BHzBE4xQOc4x2EzEJmIbM44G28ix/gCd7GIzzEv7HGU4w4RYsBDf6GAp+ixw5zPEGDx1jjAd5DyCxkFjKLD/EblHiAa0yxx59wD4HAFS7xBs5R47vo8Q5KfAsXeIQLnOASB3yMkFnILGQWr/B7PMSbuIczjHiCM8xwigkKTPA9jCjctsEVvsRzDPgLKvwdIbOQWcgs/oPf4hFmWGGBDk9xigVqDFhhgzUKPEeJPe5ggzMc8BmWeI0SJUJmIbOQWRRo0OFzVKixwGd4ifuSASV6BE6xR4U5GtzDFUq8gQ73McMnCJmFzEJmcSE5l8xQYoIa93AHLQ7oEFhhgQIDVniJGisEJvgXChT4BCGzkFnILHxlRGCNAnuUGPC5pEKPAuf+f3OEzEJmIbNwY44avSTQosCA+9jigBEnGCUjZhjQSyq0blthh5BZyCxkFm5UqBCo0WKKBTbYosRBMmCUVGgcFejcVuBaEjILmYXMwo09OizRosdUMkjO8AJLjKhQYYMZGkwlvaMChWREyCxkFjKLU+wlA3rJiA4VSrzGGS6xwF1c4S5qTHGKGgeMCLQYHYXMQmYhs9igxESywE6yw7dxgSUuMUWHV5hijcABe0zQo0SJORrJCUJmIbOQWbgxIFD7ukvUmCPQSQI9CvQoUEsqtGgxwRIblAiZhcxCZv8FHUZSuETcKTcAAAAASUVORK5C\"></td><td style='text-align:center;vertical-align:middle; margin: 0.5em;border:1px #90999f solid;border-collapse:collapse'><img style='max-width: 100px; max-height:100px;display:inline' src=\"data:image/png;base64,iVBORw0KGgoAAAANSUhEUgAAAHAAAABwCAAAAADji6uXAAAABGdBTUEAALGPC/xhBQAAAAFzUkdCAK7OHOkAAAAgY0hSTQAAeiYAAICEAAD6AAAAgOgAAHUwAADqYAAAOpgAABdwnLpRPAAABH5JREFUaAW9wUuOXGcZANBzb31V1dVP223HiDhRQiAKihCSB4hIEROGsAIGzLIFVsE2mLEJECtASIkEQgl2guNO2/2oqltV90VLP1LJyvw7J6ZY4EZxhJXvm6LFFC2OsVTUOMEWG3uBKRoEZgjJQrKQLM7wSjHHzpvm2KJVtDjBreIQa1x7U4UOnaJDhZAsJAvJ4tLe1t4h1tgppmgVKyywQ4WFosEEPRaY4hoT1OgRkoVkIVmMihqBDgPWihEVTnFpr8URlqhRocagWNs7wS1mCMlCspAs3JmiRYXB9424URxjiUNsMGDwphOMWGHEFaaYISQLyUKyCLSKLU6xxKA4xhI15lgqlooagzftsEVlr8eAkCwkC8ligSVGLLDGFCNqLDFTbBU1RtxDg403BTr09kb0CMlCspAsdgi0aBQdagw4xhYDDhDoMeIWnb0KIxoMOMUaHUY0CMlCspAsdhjt1Rgw4BANekWHc8WIV/Z+hgFf4wpH2OEYDXp0CMlCspAsHuASUwQaex2OMeIGRwiscat4C3/AB/gzWtSo8QobxQI9QrKQLCSLS0WPDgdo0aNChxXOcIyvFU/xexzjLczwKV7jPq4wwRIrjHgLIVlIFpKF/xswxwQbRaDGDNe4xqf4HZ5iQIvneIIznOMWh4qP8AQv8VeEZCFZSBbunOIGCwRWmKLDFhU+wWd4iud4gSme4RQ9TvBbfI4eG5zhNWocICQLyUKyOMUSh7hWHKDFKX6Nz/AUc/wNO/wYB3gPz/AdDvEE51jhBS4wx0O8i5AsJAvJ4kaxtvchPsFv8Et8i38h8D6mCMxxgClWaPAfrNFhiUcYscM7CMlCspAs3PkRfoEP8DZ+jp/gAl+hwzkO0OMVAof4Nzos8AL/xQMs8AOMWKPBY4RkIVlIFh/jj9jgEQYc4wWe4RwztAiscI4vELiP+5igxa8QqHGLAZd4hL8jJAvJQrKo8RdM8S7OMcUBPlacYYvH9n6KBgtFh4/Q4xKvscUF/okt/oGQLCQLyeIKf8ISNd7DfQxo8A7mCEwxw7eoMEeDC0xQocYBrtBjhQbv4xlCspAsJIsNOjzELT7HDg8x4ktc4RQtRtziAaZ4hAYrPMYZXmCGIzzAa2zRICQLyUKyuFBsscURjhCKwIfYYY37+ArnCKwReBtbXGCBGa6xxjMELhGShWQhWbgTaDDiBhP0mKDCl4o5XqLBa5ziBoEeo70pKuwwx1YRkoVkIVm402OCCoFGMaJHhVGxxRmusUKNGTaKETVaezt7IVlIFpKFO4EOU2wUj/FScYAGE8ywwxkmeIU1FooGA85wiwFnuEGFkCwkC8nCnR4T7BSP0eAM12gUFdboEVgrAo1iihbXuIcrXOEEHUKykCwki0O09ua4wRYDZugwoMJDXGODUVEppvbm2GGGCh0ahGQhWUgWa9QYMcEW52gUO3tLLBU1BkWLGi0migFbPMFzeyFZSBaShTsDHuI7xSVqDIpjLHGEFSrM0WJEjwH3MOAGLSp8gx/iG0VIFpKFZP8DBTdjnTAaPpsAAAAASUVORK5C\"></td><td style='text-align:center;vertical-align:middle; margin: 0.5em;border:1px #90999f solid;border-collapse:collapse'><img style='max-width: 100px; max-height:100px;display:inline' src=\"data:image/png;base64,iVBORw0KGgoAAAANSUhEUgAAAHAAAABwCAAAAADji6uXAAAABGdBTUEAALGPC/xhBQAAAAFzUkdCAK7OHOkAAAAgY0hSTQAAeiYAAICEAAD6AAAAgOgAAHUwAADqYAAAOpgAABdwnLpRPAAABIpJREFUaAW9wcuOHGcZANBTXV93V3ePZ3ps7LFNYpuIIISUIBAowCYLHoIFSCxZ8AA8DS/AM7DmsozCIomMBCFW4onn0vdLdVUx0m9pZAWx/M+JPlqMscAYa5xgJhlihzEOGGKBAUpsJMeYo8Je0komkpBZyCxkFrVkIVnjDmY4wcatNSbY4AhLhKRE7U1D1DhggxOEzEJmIbMocYw1dphgIdlhiIWkh5VkiRE2kgadpMYUcxSSFmuEzEJmIbNosHJrLbmDBbaSCluc4QIHbFCikWwlDWZoMHDrgJBZyCxkFm7scQcFethiKelJGslLVOijxQ49tAiU2KFFgT0CBzQImYXMQmbhxgQLnGCLDgVK9FFijQIdthhgjwKt5IBWMsQWPfTcCpmFzEJmMcYKFWaSCRoU2GOPzq1C0kftTa2kwQg1SkxxjZBZyCxkFrVkiAJbNOgQGKHDChW26LD3/9WoJR22kpBZyCxkFrVkjhL38ApDrDHFTLLFCEcocC4J/EDyHDs0OEYPc1QoETILmYXMwmsdDrhCDzvJJXoITNDha7ee4Xd4B3/CCuc4YI2DZCMJmYXMQmbhtRINGm/qoUCBFgvJj/FbnGCKIX6IczzBAR9jhw1OsEbILGQWMguvdb7pDhboo0aNH+E3+DleocMcQ3wHT/ESPTzE2zjCGn9DyCxkFjKLCgdU6KHGRrKS1PgJfo8PUOMFLjDCU9R4hF/iM1Qo8S28wkfoEDILmYXMokWJPfZ4hn9JBvgQv8aHkr/iGBU+wOfo8CXu4jHexR5LfCF5Cw8QMguZhcyiwAB79PEl3sd7+BV+gRk+RYH3McIFlvg+5pjgCB/ha7zAGC0eYIinCJmFzEJmscMT/Az38R7exUNU+ALXeBsNxniOCQp8jL7kOS7xCN9DHwcsscJ3ETILmYXM4qf4A+5hgykW+CdaHKPCDlvs8BgrrPEEZ3iJ+6hwgiW+jX+jwhr/QcgsZBYyi0v8BQ9wDyXu4RRrPMIOFe6iRU9yhVPJGbaoMcQMn+ASf8cZ/oyQWcgsZBZX+CMmaPEMxxiiwAT30aGPFucocIEehrhGIxlgjTUKXOIUO4TMQmYhs7jEQ1So8Q8MsMM7mKGPFxigwgFTFNijjxUmGOMuOlQ4wRQjfIKQWcgsZBZufCV5C6c44Ag1WkwxxblkghIVNniMKfpY4QInmGGLDXr4HCGzkFnILNy4gwVeovZNr7BF4IAxtmglM6z8bz20OEaDkFnILGQWbixwhA41jjHHAHtM8RUOCNQYoo859ijRoMQAG0lgj7kkZBYyC5mFG0cY4gI9NDjCVnItGWGDY7SYY4IVhmjQx0FSoECJRhIyC5mFzGKMNZY4Qg8VznEiWWCIDXpYo0BgiyF2kg61pMNO0keHkFnILGQWa7eWkj2G6DDHXVxKWpToocUBpaRCHzu3TnGNEg1CZiGzkFm4ETigQIctRigwxrVkhAJrb9qjxBYtTnElqTHAThIyC5mFzMKNVtLHHmN0mElGaLFHhT6GWLo1Qh8zXLm1xBk2WCBkFjILmf0XpUxXmAFqGj0AAAAASUVORK5C\"></td><td style='text-align:center;vertical-align:middle; margin: 0.5em;border:1px #90999f solid;border-collapse:collapse'><img style='max-width: 100px; max-height:100px;display:inline' src=\"data:image/png;base64,iVBORw0KGgoAAAANSUhEUgAAAHAAAABwCAAAAADji6uXAAAABGdBTUEAALGPC/xhBQAAAAFzUkdCAK7OHOkAAAAgY0hSTQAAeiYAAICEAAD6AAAAgOgAAHUwAADqYAAAOpgAABdwnLpRPAAABHxJREFUaAW9wUtvXGcZAODnzLxzt2M7SS9ulAAFIaGIixAIxIoVBYkdu+5YIn4Cv4UlP6Eb9qxAYkkpBQIVTlKc2GMfz+2cOYOlr9JglQ2b93niALW7eopOEegUPbT2KoywwxatYooFeujQRyAkC8lCsqgxxgyX6NDhBHOM0FesUCHQKgIrd/VQYYYbxRY7hGQhWUgWblWo0ccYWzSosHTXIdaKEdaKAQZYYIgOa8UELTqEZCFZSBZH2GCNAzToFD1sFSO0uFYEWsUUC7SKNXboYYgGHcYIyUKykCzmqBQNBqjRKGbYYYU+Amu0igoLjLFS9NFiiD5aDLFASBaShWTh1g49dKjtjXFjL7CxN8FSsbLXoocNHuACawwQkoVkIVm4NUSHRjHBCiv0sMMOGxxgjQYjLH1eYIAVrjFGjQYhWUgWksUAO7T2lhhiiFpxiGv00KDClf+tjxYz1DhUPEBIFpKFZNGgj0Brr0KNHjpc4wA1jlDhUtHDD/AM51jhPlq8gzPFa4RkIVlIFm5t3XWEvmKNITaocYqX6BQP8Qs8xa/xF5zjBoEze4GQLCQLycJneqgwwByBFn00GOABniu+h5/hPka4h5+gxSEG+CtOcIEJdgjJQrKQLEbYoMMxrjFFhRZbBBq8wHfxPn6Il9jgHFuM8S6GmONdPEGDJX6PkCwkC8lijQmWWGGHDQIjrHGEU/wSP8UznOMKVzjCBk/Rw1fwCvcwQo0/4SFCspAsJIshlphgiRkCcxzgx3gf7+ET/AE1HuMp/o0lXuAE38A5+vgzlugwwxQhWUgWksUGEywVFd7Gz/EevoUz/A4zfB1ztBjhm3iJr+EFXuI1zlHhFEsM8RFCspAsJAu33sSP0Mf38QRPsMMZzvEm+uhQ4RJr/B09RY0L9PAIGzzAhzjFVxGShWQhWXwHv8JbuMQbqPEcDU7xCNeYoEGLwDm+gBPc4DF2GGCCFSrMMMQfEZKFZCFZzPFbfBvH2OItvIEBZmjwGFN0GCpWGCtuMMQA/8AZAs/xMVp8hJAsJAvJ4gy/wQfo4z6e4FN8CQM0GOJtnKPGCDdo0OECHY6xwhXuKV7iIf6GkCwkC8mixRA1+ljgY3T4EAdoUGODQItDPMIrHGCOL2KJGieYYI4pOhwiJAvJQrJYo0MfK0xwH1tMsMIEM0xxiH9iiwGO0ceXcYMdDnGDGmu8wgjPEJKFZCFZuNWgsfcpGoywRqDFGD0sFP/y/wvJQrKQLHzmCDcILHGIJUZYo8IWI8UUfazQYIo1tvamWOAIC+wQkoVkIVn00OEKfVxjhi1atJhigQZLxRQ1WkWDrWKMFXYYYIEOW4RkIVlIFh1OcYm1vY27QrFRzNHgGC1ucIw1looRloqHuEBIFpKFZOHWAkscYIhrtAjssEKn6OMdfKJoMMYWG/QUE1yiQh/nipAsJAvJwq25onZX6/O2OLPXYIMdWoxxhK2ijyFaRUgWkoVk4b+MMMNrBCq0qFBhghtsEaiwwQkuFBusFBW2WCimCMlCspDsPzLTXgCjABcuAAAAAElFTkSuQmCC\"></td><td style='text-align:center;vertical-align:middle; margin: 0.5em;border:1px #90999f solid;border-collapse:collapse'><img style='max-width: 100px; max-height:100px;display:inline' src=\"data:image/png;base64,iVBORw0KGgoAAAANSUhEUgAAAHAAAABwCAAAAADji6uXAAAABGdBTUEAALGPC/xhBQAAAAFzUkdCAK7OHOkAAAAgY0hSTQAAeiYAAICEAAD6AAAAgOgAAHUwAADqYAAAOpgAABdwnLpRPAAABI5JREFUaAW9wc9uXHcZANBz7/1mPGNPbDdxHAcBTbtoUGmREAKhCt4A3oMlexYseAmeBbFnAeqiqoRYgJrQhiSW/3tm7tyZewdLv4UVUbH8zokDtFgpagyYosIWKwy+XY0JWgyKQ1zhETqsscEaIVlIFpLFlaJCpagwwjX2MCgCA/ZwgwpTzL3rElPMscQBOkVIFpKFZFGjwRpHOFUs0GCuqLHBHm4UW6xxgCvFGB2WGCnmihohWUgWkoU7FWqcYoQ1BhziXDHDEq2ixoABLRpFp9jBBHNMUOMaIVlIFpJFgw67GNAqJjjHDla4xhg9agyoscFGcYAWK8UVprhFhWOEZCFZSBYbVFhgFzvYYIM9zDHCFC3GaLCDS++6xR5WWCmWmKDHCiFZSBaSxRa7WKBXVOjQocYaa8UUG8z8rx5rxTHO0KNV3CIkC8lCstjFCjPcKo7xFg1qDIrAUnHu2y3R4Aw9drHAIW4QkoVkIVksFI17t6jRo8cEHTZ4iAfo8bXiezhBi5e4xRQDDrHAJSYIyUKykCzcaXCDBxjQYcAxWlwramzxwr3v4LfYx5+xxgusMeDCvRYhWUgWkoU7j3GOG+xhq7jAGhNM0ONC8Qv8ChNM8Ay/xDVO8ApLDPgG+3iAkCwkC8nCndeoFHNFjS0mqLHBLd7H7/AJTrHFBgMqfIR/4mP8FT/HCf6BvyAkC8lCsnCnQWClmKFDh43iB/g9fow3eIM5bvEUNZ5hi11U+BRHuMEbjBGShWQhWbgzoMNDXGJAhyP8BL/BzzDGnzDFYzzHa9xijof4IX6KtzjDDbb4AI8RkoVkIVm4M8MNzhUn+DU+w2dY4184xqdYYI4Bz/EWY7xEgy+wxBL7CHyI9xCShWQhWRzgAzzHY3yET/AMPV5iiiOMMMc+KmzxJW4xoMMFpjjEE0ywj8CPEJKFZCFZPMMfcIBL964wxy5aXOEEGzQIfIMZnqLBNd7HBY7Q4gBfY4MvEJKFZCFZXOJzzDDGx9jHh3iFwPcxxgMMqP1/7+E/GPA5XqDD3xCShWQhWXT4IwKBR5iixhEGzDDGGD3mWGGMBea4xggjTHCGGhuco0GNkCwkC8mixSWe4xRLXKHBE1zhIbY4R40LfBcLPEaPFk+wQosVDjHDTPEKIVlIFpLFheIrHKJBjSlaPMI19nCAHTzENZ7iHAc4wRL76NBhhBr/Ro+vEJKFZCFZHKDCJV4jsMECFXZRocUSLRr0eI0ZTjGgwwiBAX/3rhFCspAsJIslKkWNjaLBFiuMMKBV9NjHBmu07vVYY6qYYoldLBCShWQhWdRoMcOg6LBBhR6BGk/wRjFHr3iKM0WHPdSKJaboFCFZSBaSxQQrVFjgGGd4gBvsYKkYUGGECXrMcYoN9tGgwty9JSbYICQLyUKyuFTcKK4xoMcOGlTYKsZYYYOxYosplhjQYxcLjNFhjTFCspAsJIsJeqwVPaZYKPawVSzQKAKtYoK5eyMsUKNRDKgQkoVkIVm0qL1rgRoD5qgxYA81VgjUaDHHDmqssEaDHjtYYotASBaShWT/BcPyZIn/Yh7GAAAAAElFTkSuQmCC\"></td><td style='text-align:center;vertical-align:middle; margin: 0.5em;border:1px #90999f solid;border-collapse:collapse'><img style='max-width: 100px; max-height:100px;display:inline' src=\"data:image/png;base64,iVBORw0KGgoAAAANSUhEUgAAAHAAAABwCAAAAADji6uXAAAABGdBTUEAALGPC/xhBQAAAAFzUkdCAK7OHOkAAAAgY0hSTQAAeiYAAICEAAD6AAAAgOgAAHUwAADqYAAAOpgAABdwnLpRPAAABJFJREFUaAW9wcuOHGcZANDTVV919W2m7RhjElshLHIBRcLyArFjATwCC3asWbGAh+EpeIsgIbFIwoJFcISCwKPxXHqmq7u6qrsLSz9SYyG2/zlRY+d/1QhJgym2eIQrFDg6GaNEhwI9nuACNXaSkFnILGQWnaTAgBka7FFhjRE61LiSnGOFEiVG2ErOcIsLTNChQImQWcgsZBZTbHDEFBsnA+bY4oADSoxwiwX22GFw0iKwxxFHyREhs5BZyCw2OJfcSSpMcI8ljk4OqLHHGgUGPMQaPTqUmKNxMkbILGQWMovAnZOR5B6BlWSMAiUaFBgkS9xggh5jHFBhjkbSIWQWMguZxR5z9OgxYI5b7DHCgA6BFjV2mGOEkaSVdJjgFiF5iBuEzEJmIbPwRoXGyR2m2GKJFQYnB8mAHfbedsQGS6wlN5giZBYyC5mFN25RYECNHfY4wy0KLNCgxBkabPx/U5Q4Q4sWC4TMQmYhsyhRoMcELQr0CAQC95ijwwx7dJIlPsEr/B0ztDhihhYFLhEyC5mFzOKAMXqUKHCUbCV7VGiwwCU6yUP8Bh/jDxjjGlNcYSc5SkJmIbOQWXhjK2lQYYQaG8k5esywkvwAv8YcgQo/wgrv4RLfwxp/xVQSMguZhczCfynQS/Z4gFt06LHFD/ErPEeLOxQYUOFd3GCDLR7j5/gCLxEyC5mFzMJ/BPao0GOBa8kIL/BL/AJ/QoPX2OADnOEBAne4xARzvMYj/AUhs5BZyCxqlNghMMYYd3iGJ/gdfooOf8Q9PsBT7PAa93iAF2jxCvfYocIFzhEyC5mFzGKMMTaSEp/gJ/gxnmONl2jxLXwXE4zxHcywwQJf4xsEblAh8DFeImQWMguZxQHv42dY4jk+xPdxiRZbvIMlavwNNS7wJZa4RoF/YoIRPsU91pjhI4TMQmYhs/gIv0WNM4xxwFe4wBwLtNjjAu9ghVs8xWM8wTVe4AwrPMFr9LjClwiZhcxCZtHiczzFI4zxKSqUeIYRKrznbdd4iJGTPf6BCf6Fr/ASBT5DyCxkFjKLe/weJb6NxxhQYYJnaLHFMxxxiTVqNDjgBoECZ3gp2aPCQ7xGyCxkFjKLlaTAN7hGhxGO6DHBOT7DHQZMMcccI0xxhynO8C4KBF5hhjFCZiGzkFmsJQs0kkDgfQSuEKhwRIcFakywwQEFOlxgwIAjSvwZK4TMQmYhs5igxRaBHcbo8DnGGDBgjjUOuEbgiKMksEeNnWSMDoEKIbOQWcgsWtSYYIUpGnQ4wxo1DlhhgTUmaFFLehwkO0mBDiUKdAiZhcxCZuGNHQpMsEWNEg0GjHHECDtJ4BGuMMMeR5QocUCFFnNsJSGzkFnILCqU2OIcNRocJLVkIimwRONkQIWZZMAaMxxxjxo9QmYhs5BZDDhggT02kkrS44AeBXa4k+zwCFeSFiUOeIBbzNFjghYhs5BZyCz2KLDGCHM0OOCIqWTrpMYOA65QYIoSHZboUaPBBGtJyCxkFjKLMSa4w4BGUqHExtsK9JIBJQY0GKNDiQYPcECLJVYImYXMQmb/BpdOW89LyAhhAAAAAElFTkSuQmCC\"></td><td style='text-align:center;vertical-align:middle; margin: 0.5em;border:1px #90999f solid;border-collapse:collapse'><img style='max-width: 100px; max-height:100px;display:inline' src=\"data:image/png;base64,iVBORw0KGgoAAAANSUhEUgAAAHAAAABwCAAAAADji6uXAAAABGdBTUEAALGPC/xhBQAAAAFzUkdCAK7OHOkAAAAgY0hSTQAAeiYAAICEAAD6AAAAgOgAAHUwAADqYAAAOpgAABdwnLpRPAAABIFJREFUaAW9wcuOG2kZANDjqq/sdrs7nZ4maSaDAtEAm7lkYIGQ2CH2LIG3GIlX4FF4CSTYsWHDhgUwCRoxUSA3pm92265yVRHpRzJ5ge+c8FZghxozzHDhXTV61OgxQ4Mea8UEDVrFAit7c4RkIVlIFpW9CrfYKL6Lf2BEjwNscIhbBHrMscaoCOzsneAKHUKykCwkiyk2+ADPFQ06PMVdXCo2mOIWNVY4whpzVFjZW2GKK0UgJAvJQrI4wAbPFRNsFRWWaNDhED1m2CqWqLG2d4AN7uISEwR2CMlCspAsLhVzBG4wRYsBNTrFraJBgylWGL1rorhEg14xIiQLyUKyaBQd1qjQYo4NJvZOcYFO0aFBjRFbTLG212GBFWqEZCFZSBbemmCKHQIDWkVr7wY1ensdOnutvfu4Rq3oEZKFZCFZdJhjhQotavTeVWGnmGLAzrsmGFFjxBsMqDDHDiFZSBaSxRQtAgdYorc3wQk6dFjgEDW+UhzgO9hiideYoEGLCi06hGQhWUgWA87xb6wUh1hjggG3CLQYcGHvDJ/jHL/DE9TosMBXWCIUIVlIFpLFDtcYEQhUGFHjAFsc4RTPFZ/hF/gWBpzgJ9jhEC3+iTnWCFQIyUKykCy8FYoddvZGBGp8rfgMn+MHeIYWA2qc4gHWCIw4xYf4Er9HSBaShWThrUscYWnvCCtc4xyP8Wt8gmd4ghErHOMMU3yEYyzxCY5RYY0HCMlCspAsalRosMAKd3GJD/Aj/BI/xQR/wxqn+CYGXGCNezjDD/ES1/gaHe5ijpAsJAvJYkCDC3un+BV+hp/jKb7AG9zBI7zGXYxoUOMCT3GFLZaY4QSPcIaQLCQLyaLGAzzG9/AAj/FtXOFPCNzDfexwgw0u8BK32OIF5qgVH2GFFoFPEZKFZCFZfIrfoMYUgRGv8AJznCLwEj16vI+neIhHeIOPscV9tFjgFU6wwV8QkoVkIVls8Qc8xIdo8X0c4gyHuMIMP1bc4hAf23uEHQJ/R49/ocUfUeHPCMlCspAsnuG3OECHMzzEFvfQ4htoMMUGS9xggRqXGHGDa7yHDa7Ro8MCzxCShWQhWVTYYIFbfIG/4g561LjBOSZoMWCOCi3mGHGIHu/jCjMcYYsFeoRkIVlIFpdocIU7OMAxZliiwjkqTLHEBlM0mOEEV3iD99ChR4tb1HiFLxGShWQhWVQIdLhGhStFgw4vMUVg6V01BjRo8R88QYcJRkwwwYCQLCQLyaLCGlM06LFRBDoM2KBRVBgUNXr0ih6DYkSDHg06hGQhWUgWvWLESrFAjx4NdphiQIUTXKBGq+hxjAmuFTPsMGCrCMlCspAsRkWPCY5RYYVjLDEisMYhehxgRIU5rnGDKebYYYs51riHW4RkIVlIFv5nwBxLDAi0qDDHFjN0qLFRVFjba3GMNeZYY4LXipAsJAvJwv/ZoEGLHY5wgw4dDhQ3ilPcYIIGHU5wpTjBGoEOU4RkIVlIFoGd4ggbe5eKUbFBb+9CUWFQ7BQVXmCCThEIyUKykOy/XSlbkcnDBDIAAAAASUVORK5C\"></td></tr></tbody></table><div><small>(a vector displayed as a row to save space)</small></div>"
      ],
      "text/plain": [
       "8-element Vector{Adjoint{Gray{Float64}, Matrix{Gray{Float64}}}}:\n",
       " [Gray{Float64}(-0.030595284191828193) Gray{Float64}(0.031058672190365885) … Gray{Float64}(0.010203169046122704) Gray{Float64}(0.006767800518182262); Gray{Float64}(-0.022287941197549305) Gray{Float64}(0.06590031998243645) … Gray{Float64}(0.03385357846108491) Gray{Float64}(-0.0683684685919); … ; Gray{Float64}(0.006070147975045854) Gray{Float64}(0.004593260547501154) … Gray{Float64}(-0.0028785598188890028) Gray{Float64}(0.0007020960963857851); Gray{Float64}(-0.040633797232838303) Gray{Float64}(-0.025202087884940178) … Gray{Float64}(-0.023925774986502415) Gray{Float64}(0.019890379676948188)]\n",
       " [Gray{Float64}(0.0004800818956318863) Gray{Float64}(0.03295828863305401) … Gray{Float64}(-0.005404995076155411) Gray{Float64}(-0.04178572946637179); Gray{Float64}(0.024382768354639952) Gray{Float64}(0.01000301964963112) … Gray{Float64}(0.034829859199464276) Gray{Float64}(-0.01205367217456472); … ; Gray{Float64}(-0.050287934563528466) Gray{Float64}(0.01328385723734776) … Gray{Float64}(0.0036602196344335276) Gray{Float64}(0.040866002482856004); Gray{Float64}(-0.021373821762112163) Gray{Float64}(-0.02989372505988306) … Gray{Float64}(-0.0006929999239556868) Gray{Float64}(0.05224289133473056)]\n",
       " [Gray{Float64}(0.018140650294411437) Gray{Float64}(0.056700220836591896) … Gray{Float64}(0.015406948823818054) Gray{Float64}(0.03982630484256957); Gray{Float64}(0.07855945836750307) Gray{Float64}(0.008425726528054133) … Gray{Float64}(-0.006670005998081468) Gray{Float64}(0.02052806872932588); … ; Gray{Float64}(-0.017893399099363574) Gray{Float64}(0.006878011930883637) … Gray{Float64}(-0.017216257929197756) Gray{Float64}(-0.006752212961009014); Gray{Float64}(-0.016910808454709) Gray{Float64}(-0.025118931623816232) … Gray{Float64}(-0.06387483443704524) Gray{Float64}(-0.021777974416147518)]\n",
       " [Gray{Float64}(0.02002454015479971) Gray{Float64}(0.013053229762931913) … Gray{Float64}(0.04295429938723486) Gray{Float64}(0.0432534562287271); Gray{Float64}(-0.011343127347835522) Gray{Float64}(-0.033522840867819745) … Gray{Float64}(0.007037019140883529) Gray{Float64}(0.06741182198290793); … ; Gray{Float64}(-0.01775736177181268) Gray{Float64}(0.01539326807355327) … Gray{Float64}(0.004307197262880905) Gray{Float64}(0.002393199913325452); Gray{Float64}(-0.026222290982449315) Gray{Float64}(0.007491711895809645) … Gray{Float64}(0.05327242097288888) Gray{Float64}(0.004059546045666468)]\n",
       " [Gray{Float64}(0.048149670383834955) Gray{Float64}(-0.0036759896763605875) … Gray{Float64}(0.01360387345598808) Gray{Float64}(0.02681317513315076); Gray{Float64}(-0.047400175515019356) Gray{Float64}(0.03071196214447103) … Gray{Float64}(0.001665383825641935) Gray{Float64}(0.008745456235540005); … ; Gray{Float64}(-0.020471110892111084) Gray{Float64}(-0.01590946731640698) … Gray{Float64}(-0.008765353316987412) Gray{Float64}(-0.019000605277643964); Gray{Float64}(-0.0026093615553790294) Gray{Float64}(-0.029427958550557947) … Gray{Float64}(-0.008525646502104547) Gray{Float64}(0.038092401658788015)]\n",
       " [Gray{Float64}(0.0576179763429688) Gray{Float64}(0.029289765933541118) … Gray{Float64}(0.01999511799560464) Gray{Float64}(-0.043659888330614655); Gray{Float64}(0.0014857083741561515) Gray{Float64}(-0.06844339438370277) … Gray{Float64}(0.011222284292266668) Gray{Float64}(-0.019937579405349442); … ; Gray{Float64}(0.033138123044543714) Gray{Float64}(0.02117381322720388) … Gray{Float64}(0.00440807504060668) Gray{Float64}(0.016178900099556325); Gray{Float64}(-0.04594117229342544) Gray{Float64}(0.00681110938564237) … Gray{Float64}(-0.01423243627285132) Gray{Float64}(0.03110479175964896)]\n",
       " [Gray{Float64}(0.02827806334717202) Gray{Float64}(-0.019750727361295812) … Gray{Float64}(-0.022641536651594626) Gray{Float64}(-0.0031896403754966395); Gray{Float64}(0.003677137674827132) Gray{Float64}(-0.023812081984782216) … Gray{Float64}(0.00877996232527772) Gray{Float64}(0.02151112890921216); … ; Gray{Float64}(-0.04801732869513011) Gray{Float64}(0.006266983156776807) … Gray{Float64}(0.014854324547901072) Gray{Float64}(-0.04773931845718498); Gray{Float64}(0.0252418689915898) Gray{Float64}(0.05683759998800646) … Gray{Float64}(0.05865996925053678) Gray{Float64}(-0.05933883353556781)]\n",
       " [Gray{Float64}(-0.06645365449530505) Gray{Float64}(0.015179891011448655) … Gray{Float64}(-0.03636520502498235) Gray{Float64}(0.03604236620324144); Gray{Float64}(0.006258097609919685) Gray{Float64}(0.016035629314698725) … Gray{Float64}(-0.005809109146227444) Gray{Float64}(0.01476618838105715); … ; Gray{Float64}(-0.0168413492466127) Gray{Float64}(-0.016491770551570875) … Gray{Float64}(-0.015821011881722406) Gray{Float64}(0.025405955912760913); Gray{Float64}(0.015464625260406368) Gray{Float64}(-0.03694205354430145) … Gray{Float64}(0.000545946757260843) Gray{Float64}(0.038383744954987274)]"
      ]
     },
     "execution_count": 32,
     "metadata": {},
     "output_type": "execute_result"
    }
   ],
   "source": [
    "map(create_RGB_image, synthetic_images_2)"
   ]
  },
  {
   "cell_type": "markdown",
   "metadata": {},
   "source": [
    "We can use this to create a new statistical model for $x$. \n",
    "\n",
    "Namely, we first choose uniformly a point from `testsample` and then sample $x$ from the corresponding posterior distribution. "
   ]
  },
  {
   "cell_type": "code",
   "execution_count": 35,
   "metadata": {},
   "outputs": [
    {
     "data": {
      "text/plain": [
       "random_sneaker (generic function with 1 method)"
      ]
     },
     "execution_count": 35,
     "metadata": {},
     "output_type": "execute_result"
    }
   ],
   "source": [
    "function random_sneaker()\n",
    "    j = rand(testsample)\n",
    "    x =  Float64.(vec(sneakers[:,:,j]));\n",
    "    B⁻¹ = inv(B)\n",
    "    C = inv((1/σ²) .* diagm(ones(d)) + B⁻¹)\n",
    "    m = C * ((1/σ²) .* A' * (x - b) + B⁻¹ * ν);\n",
    "    N_ζ_posterior = MvNormal(m, C);\n",
    "    ζ = rand(N_ζ_posterior)\n",
    "    ϵ = rand(N_ϵ)\n",
    "    A * ζ + b + ϵ\n",
    "end"
   ]
  },
  {
   "cell_type": "markdown",
   "metadata": {},
   "source": [
    "Here is a list of 8 random sneakers:"
   ]
  },
  {
   "cell_type": "code",
   "execution_count": 38,
   "metadata": {},
   "outputs": [
    {
     "data": {
      "text/html": [
       "<table><tbody><tr><td style='text-align:center;vertical-align:middle; margin: 0.5em;border:1px #90999f solid;border-collapse:collapse'><img style='max-width: 100px; max-height:100px;display:inline' src=\"data:image/png;base64,iVBORw0KGgoAAAANSUhEUgAAAHAAAABwCAAAAADji6uXAAAABGdBTUEAALGPC/xhBQAAAAFzUkdCAK7OHOkAAAAgY0hSTQAAeiYAAICEAAD6AAAAgOgAAHUwAADqYAAAOpgAABdwnLpRPAAABIdJREFUaAW9wbuOnGcZAODnn/+d867XY7x22ECIIwgKBlHERUpORSQkSkoKytwB18F1RJEoKLgABBVShIxEBEJAnNhZ73qyc/yPjPQhjVbpv+eJESpJiVYSaDDHKT53W6CRDFFjhi0GaDFFgY1khpBZyCxkFpWjQjLFFifYoccIlaRA46jGGDv0uIcVenSYY40NQmYhs5BZOJgiJDfYSlZYoEYlGWOPE6wc7VGgwDV6tJIGQ0wRMguZhcxigq2vGqHCDlvMUGEvWTkqMcFa0kge4jl6FFgjZBYyC5lFJRljjxF6VBigl1RoJAN0kiFqVJISLUZ4jhIFKgwQMguZhcyiQ4FSUjk6x5VkgDECO0mBAkPUkilabCVDdJIeIbOQWcgsTnGDja+6Ro0BKkywdlRiiCkuJSvJEAPsHPUImYXMQmbROyrQ4xR7VJIBOnSSKbZoMMYSA3SOaowwxdZRyCxkFjKLLabYopfcYI4CezSSBoGt5Bu4j7+jxgAlpugxRo27mOAZQmYhs5BZOKgRaDDHGhO8lIxQoUSDM/wI38FdfIi/YIo1asxR4QT3cQf/RcgsZBYyixYDdAisUeIlJtihlDzED/A+vo0lHuD7+A3+hgla1KhxgZ/gDH9FyCxkFjILB2dYoUWgkewkDd7Fz/EWHuAZzvE1lPgAf8TvMEKNd/Br/BQ3+C1CZiGzkFk4eIUSHcZoJGe4g5/hx1jgOfZ4HSeocIpf4hf4AFcY4wKv4QUe4QIhs5BZyCwc9Gjcdg/v4T28gR2e4QlG2KDGAv/GDh3eQYcJpvgE/8BDPEbILGQWMgv/t8AQ57jAW3iCVvIYY3yJGcao8CmGmOAV/oU5LjFAjzv4DOcImYXMQmbh4Fd4hAqt5B5e4ls4wQ57FLiS3EeBAnMM0aHCDC/wpmSAa4TMQmYhs3gDP8Q5OmwxlUwxxSmmKFBgglMscIIxBrjEEh0KLHCDNRY4QcgsZBYyiyeSf6LB2+jQYokeDVY4w110eIVPsEODz7DBfVxhg3OU+BLn+Bghs5BZyCwcfB3fxRf4FNd4gD2uscUMa3yMIfbocIYLPEIrafEAPWossMBDhMxCZiGz+Ag7vIv38RgVaqzxGi5RY4bvocMpXsczTNBhiRpvokeJF5jgHCVCZiGzkFn0+D3+gA9xgbfxTdzBDlvcwVNM0WGFFU5wjR6BmWSLLcb4HP/BnxAyC5mFzMJBgQZP8RR/xgZj7CUlFiiwxBYj1OglIWncNsNGEjILmYXMokAvGWOPG8nGUYsdlo4qtzWSEi0CU6wwR4eQWcgsZBYj7DGRFOglY5TYYoKlJLDAF5ihRI8dGrQY4hQrTLGWhMxCZiGz2OMerjDACEM02EkG2DrqsZIMscQZGkywQ40rSY8zLBEyC5mFzMLBFUq0aLHH3NECSzSYoUElaTBEixlG2GGIAfaosZGEzEJmIbNwUCDQYo4aNUq0eOloIykwkdSoMUAnqSWBBjXmCJmFzEJm4WCIPQJLlGgdzbDHBC12GGOPHiNU6NG5bYIJLiUhs5BZyOx/ihFVJQOPHY0AAAAASUVORK5C\"></td><td style='text-align:center;vertical-align:middle; margin: 0.5em;border:1px #90999f solid;border-collapse:collapse'><img style='max-width: 100px; max-height:100px;display:inline' src=\"data:image/png;base64,iVBORw0KGgoAAAANSUhEUgAAAHAAAABwCAAAAADji6uXAAAABGdBTUEAALGPC/xhBQAAAAFzUkdCAK7OHOkAAAAgY0hSTQAAeiYAAICEAAD6AAAAgOgAAHUwAADqYAAAOpgAABdwnLpRPAAABKNJREFUaAW9wUtvXGcZAODnnPPO2DOOPfY4jk2ai7gU3JQKEKqESiUqWKDSJfsukZD4PfwDVog9GzasWFAJoQZEL5SSVLWJ7Thjz/XMOUOkr9IoYlM23/OELwzxDAWW6KDGJmYo0UoqtOhhYq2LhaRC40UFQmYhs5BZeO4mziTbuEKBHhp00aKVNJIJKvQxxwJ9TDDEBRpJhQYhs5BZyCw8d4ZNtLiSrDC11kOJBXqosYlrXKEnKRF4gsJag32EzEJmIbOoUEg6WGATM3RQS2ZYocJUMkOFEtuSFbpYooMFCqxwjpBZyCxkFo1khZmkiwJTaxtoUCJQo0CF72OFER5K9nEuWSEkIbOQWcgsSrTo40oyslahwcxaBy0KHGGKOzhAiU/xFBU6WKGLK4TMQmYhs+hgjitrBVYIFGisbWGMHnaxjbu4jwPs4if4Bz7BGEt8jkDILGQWMovS/9pAixUq1NjCGJVkij28hAO8gkMc4Qnu4yPUeIQGlwiZhcxCZtFHjQoryRwD1BhLxpKRtS5u4V3U6OEIPQRexwXewwR/RMgsZBYyizGWCJSYInDpRV0svKiPY3wHDSYYYYF9tLiNp/gr7iBkFjILmcVCMrO2lHRQo4OlFx3gXfwSO5LHOMGrOME+7qPAbzFDyCxkFjKLCh3MUaJAgxK1pPait/ArvIEdyRy3MMOHuI37khr/xBlCZiGzkFnUkg5aNJIWJVpsYYxN/Bzv4Bi38CcUOMIZdtBFgznGqHEPf0PILGQWMgtfqCV7mKKHLp6ixev4EX6BLeyiwT0ssMAGttFgicdoMMWb+D1CZiGzkFl4rkKLEk+xj2vJ93APP8bbqDHD5zhEgxpDnKHFNa6wiw0MsSsJmYXMQmbhuUbSWLuHb+PreAk/wE2cocKn2MAILVps4RluYQcNNiQPJCGzkFnILI4xwEN8E3vYxzfQ4mW8hsBfsI0efogxhuihwClexRQ9XKDCCA8wQMgsZBYyiyF+hp/iHHcxxjEaPECBFlto0EoeYg8vo8GhpIcT1BhhGyu8jZBZyCxkFp+hxHdR4Q4KXKIveYYhuhjhEH/HAb4qqSQ15ghMMMAMB1ggZBYyC5nFCL/GW+jja/gW7qGDAsf4Cv6NIQ5xGxf4M3YxQQcTLNDFFE8ww2d4HyGzkFnILPYwwO8wlfRwF69giJuYYoRrnOAEE5z4ckq0CJmFzEJmUeENvIn38Qn+hQ/wgf9fHxMMMEEXO7iNDYTMQmYhs3iMP+AuXsM7qDHFJkoMcIESu6gxRIsSU5xiB4EzrNBiCwUa/AYhs5BZyCymqPAIp7jEAIfYxA0ssIUuppjiDEf4CLfxH+yii1P0MMUNPMIYpwiZhcxCZtHHx5hhgC4G+Bg1DnGCIa5QoIMxTrDAJbbxHjbQk6zwIfpo0UXILGQWMouJpIM55rhEHxt4hgYzjNBFoMQlzrGLx9iUXKLGADPUmGAbIbOQWcgsSrRoUCIwwzPJGHOM0MUFRmjRoocrbGKGKZbo4Rw3MEcPS4TMQmYhsyhQYhNTzK0VqLHEEgu0KDGTNGhxhQ466KBB4BpbCIwQMguZhcz+C9eNUX2Zx74wAAAAAElFTkSuQmCC\"></td><td style='text-align:center;vertical-align:middle; margin: 0.5em;border:1px #90999f solid;border-collapse:collapse'><img style='max-width: 100px; max-height:100px;display:inline' src=\"data:image/png;base64,iVBORw0KGgoAAAANSUhEUgAAAHAAAABwCAAAAADji6uXAAAABGdBTUEAALGPC/xhBQAAAAFzUkdCAK7OHOkAAAAgY0hSTQAAeiYAAICEAAD6AAAAgOgAAHUwAADqYAAAOpgAABdwnLpRPAAABFxJREFUaAW9wTuPJGcVANBT1bffPeOd1QzmEXjlRSReW8ICOSQggoSIkABHZET8LggROQESiRNkW0IkFvbuaOfVr+ruqi5W+iy1RyvSe074jnM8OJli66TCAkvFCHvMsfZYhV4RaBEIyUKykCwW6LDFEoGneIUGNY6KHkuMscfeSaBVhKLFDHNco0VIFpKFZLHHAjsc0eJWscAeLSbY4ogaEwRWWGOOMdZoFWNssEGNI0KykCwkiz1uMECNETrFEjWO6HBUbDFCh17RocIQB8UIFTocFCFZSBaShW+d4Q4HdJggsFI0OMMSgad46aRCiwHOcY8KPQ6YYYOQLCQLycK37hSdonEywQEHxQDfINAqDhhhiBVabDDCCBtFSBaShWThOyr0GGPnpEGFRrHDAisnLVrFQNGiQyhGCMlCspAsvDFAhx4VOsyxxhQd9rjCDTps/H8zLBU9KoywR0gWkoVk4Y1OMccaLTrU2CMU106O3hZosVSMsMdeMUBIFpKFZDFBgwHWTnr0ig4THNApPsIFfooH/AMPWONGsXcyQIeQLCQLyaJFoPW2GTYYoFG8i0/xCd5TbPEu/oKXGKBT/AAvMMffEJKFZCFZeKN1MsARPTao0eEMv8Gn+Am+Qo0FxvgDLvBnfIHAh/gZfotX+CtCspAsJIshZnhQdB6r8Hv8Gp/gBl/iHFMc8T7G+BP+iM/Q4XvoFD/EjxGShWQhWeyxxRRbJ0/xK/wSH+MO36DGM9xihgHucI0KH+AjvMQQKzzBFX6BkCwkC8miQo1LzHGJD/ECH2OCVxjiFs/RYokFRlihxgD/xQJjTHCGNV7hAiFZSBaSxQy/w8+xwwznqPAaM0wxRY8BtniODbZ44W3nOGKDAS7xHkKykCwkiwpf4+94giv8B++jwhBDNLjEEUM0GGOqeIkL3KPDFlvUuMUGXyAkC8lCsljgc7R4goXin9jhR5higR5T7NChxjWG2GGAA4aYYoMR7hWfISQLyUKyWOMdtBgpXmOOa7zGER1a7PAMAxxwQIc1LnCNM1ToccQdnmOHkCwkC8lijX/hCv/GGAt8jSO+jwYTtBihQYcKV7hBjwbP8IADjhjiHA1uEJKFZCFZDHDEtaJC7+RL7DBEg3DSYoyd4gxLnKHGvWKKrSIkC8lCsjiiwxgdWkWNChuPzbDCERV2GKBGj8DSY1snIVlIFpJFhznWqDxWo3MyQItz3OEJbtEpVooZNooJGgQqhGQhWUgWHXpFjyEO6HFQVOjwFEv0ilvMsEOPGkdsUaHCGDWO2CEkC8lCsvDGXrHACoFAgwVWCLQYYa0YI7DBFL2iwwE97hWBIUKykCwkizF2ii0maNAqNoohHnCFIXbYYodLxQqNYoLGSYshQrKQLCSLHWaoFRu8gx0aLLBGgwWuMcBYMUODFWqM0TmZY405hgjJQrKQLLyxwRAHTHCPkeJBcYk7RYcNAjXWqDDCEEtFjY1irQjJQrKQ7H8mRlEBL7CLhgAAAABJRU5ErkJg\"></td><td style='text-align:center;vertical-align:middle; margin: 0.5em;border:1px #90999f solid;border-collapse:collapse'><img style='max-width: 100px; max-height:100px;display:inline' src=\"data:image/png;base64,iVBORw0KGgoAAAANSUhEUgAAAHAAAABwCAAAAADji6uXAAAABGdBTUEAALGPC/xhBQAAAAFzUkdCAK7OHOkAAAAgY0hSTQAAeiYAAICEAAD6AAAAgOgAAHUwAADqYAAAOpgAABdwnLpRPAAABINJREFUaAW9wU2LXXcdAODnnPu7b3PvzCQzJhJrJLUqFQuiKVjRrERcC34El/0Crvwe/QguCu7cKviydVEXiqJNGkibzGRm7uu595xj4R+4hOx/zxO+NMEGt3GJGj16zLBCjR5nuECHCYa4cTDHQjHAFAvFECFZSBaSxRgbxaWic7BUtIrnqBVbbDDGACssMEOLCgtMscYOIVlIFpJFj8Aegb1ihAZzdFhhqhhhg8AaW9QOOmwcTLFWhGQhWUgWjYO9YowOZ1igwQRrxRo1thjgDFssMUeDWnGCC1ToEZKFZCFZeKVCr2jQY4le0SnGaLHHHEs0qHGMAVo0ihtMsMEQIVlIFpKFV0KxwwB7DLFQ3MYzbDHBHiuMsPCmE2zQoFX0CMlCspAsRmhRY4szLFFjiRmWeOZgoBhi4HVzbHCNUzQYY4s9QrKQLCSLBjW2igtUGGKGheIMF4pasVUE7uIp9thjip1i6yAkC8lCsvClDhV6BzUWmKHBNQIVbhx8Dd/FAE+xwTmWWHtTSBaShWRxhBWGGKLCAlvFUjHGBFcY4QO8h/fwI/wBf8YaLxzcx7fxF+wRkoVkIVlUqNGgxkAxwQhrNGixxvv4Db6DNZ5hhw/wPv7oYIxf4l38E08QkoVkIVnsEWiwcRC4RoUKj/AhfoxP8T/FHcUMv8IUn+AID/E9vIuHeIKQLCQLyaJGgxmWqNDjBif4BX6Nn+Az/A0zjPAVrNHjHI9wjAu8g3uY4Aw/w+8RkoVkIVns0WKpOMMKP8eHuI8X+BhrvI0xxuhwjgq3EahwDwP06HGGR4qQLCQLyaLGQ/wUt3EPd/A2nuMTvMC3MMXnOMYILR7jLfwHQwyxxQ2W2GGCFqcIyUKykCy+j9/iDFcYYYn/4iUe4B3UaDHGApeY4AoTbHGMc1xjhRYDrHAXRwjJQrKQLE5wgx9ihQlW6DFFh0tMsMbX8RS3cYxvYIZr3MU1hphiiRk+xVM8QEgWkoVk8Xd8hN/hHn6At/BVdDhDjT22+Bwd/oEej/FvrLFEhbWDHa5xir8iJAvJQrL4An/CHDt8hB1O0OAOLjFEizV2OMWVNwUCQ1RoscSJIiQLyUKyOMIINeZYoUeLDZ6hwwIz3MEKIzzADTrU+CY+Q4MdArdwihZzhGQhWUgWK6xQ4xb2mOIEp1hhgFbxBe7jMS7Q4kTxLxzjCkNUiiFGuERIFpKFZOGVY1xgjBuM8VxRo8ItTPAEO0xwgkv0GGCDCh1eosWNg5AsJAvJYogdrhRbxQpD7FBjjxdet8XGQYvWQY3wupAsJAvJYoAaW4xQYYsNOsVeMcPSwRxLdJhjgTkWqNHh0sEYIVlIFpLFDq2iRYsxOvToMcYWDWocYYUlOkyxUCwwQoNbeIkRGgwQkoVkIVm0qHGOBcZ4iTla9NhhhqVigRqdIlAj0GCIBhtFgwlWCMlCspAsaozxHD32GGKFDoEOSweBPQY4wo1ip2gxReVgowjJQrKQLAZoUKHHDhPsMEaD3usqRYudYoAWQ2xQYeRgrAjJQrKQ7P/re1mhLhx1RwAAAABJRU5ErkJg\"></td><td style='text-align:center;vertical-align:middle; margin: 0.5em;border:1px #90999f solid;border-collapse:collapse'><img style='max-width: 100px; max-height:100px;display:inline' src=\"data:image/png;base64,iVBORw0KGgoAAAANSUhEUgAAAHAAAABwCAAAAADji6uXAAAABGdBTUEAALGPC/xhBQAAAAFzUkdCAK7OHOkAAAAgY0hSTQAAeiYAAICEAAD6AAAAgOgAAHUwAADqYAAAOpgAABdwnLpRPAAABHZJREFUaAW9wcuOHGcZANBT3V9fqnvG9njCGIjjTEIQwVwMSCwQC1jxHuxYsObVEDsCK1gi4UQgDLZjAvbYY89Md/WlqgtLv6WWFbH9zglvTNBijAaVYoIVrmOJGhc4xnOMEKgUK+wwwhYVhpjiCiFZSBaShTc2iqGiV6wxxCvFVnGOQIVGUdlrFT0muFKEZCFZSBZeG6FFj8ZeKAJTTPEc7+Iptpja6xUVegRajLFWhGQhWUgWXruBM0WnqLFFiwFWWGCMJ5gotooKvaJXBFqcK64jJAvJQrKY4xkm6NAisEGHORaKMTaKNYboFDPs0NjbYowNBniFkCwkC8lihylWmKDCCA2uKQItNvamWNlbYOxtHToMFQOEZCFZSBZzvFSsFTOs0GOAa7jEDh0CK19WY4MRdugQmOOVIiQLyUKyOLNXoUenuESgxQgdhmgxRGevwhgnaLDBBDOMsMEGIVlIFpKFNwaoscACgR1axVYxwBATHOGR4g5m2GGCCU5wjIdYK0KykCwkiyFG2GKBwDFe+rLAKW7jq9jgOirM8B08xAEucIoTnGCEvyAkC8lCsujQY6doscDW3gSBb+PnuIsaT/Ej/BMd7uIYS3wD7+EmPsUh/oaQLCQLyWKMDUbYKq5wiB4z/Bh38SsscYUnOMYtHOE+foB7mOMMgfv4PsY4QkgWkoVk0eMdnGGOBUZ4Dx/hl/gFZvgvLvAZdvZm+Bke4e/4CBeocYwaX8cIIVlIFpLFFjfxTRziNn6Kn2CKA9xHiwWe4Vt4giUmGOMxJvgKxriDAR6ixQwHCMlCspAsvodf42NM0eAEDzDCYwzwIZ7iFBsc4BoWqPE+Kkwwxxeo0OKl4gOEZCFZSBbv4zP8CVt8jEuc4hi3cIQd7uEADXoMcIbbeAcrrPEFRtigQYfneIyQLCQLyWKNT/BXbLHDEd7FKXrcwxg7NBhihBWO8G8scIF/YahY4lPUaLFCSBaShWTxZ/wQv8EKD/ES/8AfsMTvMMQcHRqM0OEWOlzhCGMM0eOF4gp3UCMkC8lCsrjC7/EIH2KM7+IeWjTo0eNr6LHGAFvMMMQQL9Bih//gA1xihUP8ESFZSBaSxRw7PMADxW9xAzucYI4J7iOwQY0BKjzDOT7HTXR4jimGqNAoQrKQLCSLBTrFFC1aVNjiGT7HCjdw7v+r8RTXFGv0iilWCMlCspAsOsUYK3svFEvFEOf2KhziAjV6NIoLRW9vpQjJQrKQLLxWo1GMsMUEa3udt/WKGRrU3jbC1t4QHUKykCwkiwkae1vFGjUaBHpFhyOcY6noscRAcYhXmGKNHjNcIiQLyUKy2CoGCLSY4xKNYoIFZuixVARWCLTYKUaosMEYM1xhjJAsJAvJolYssEGFBWoEOqxRY4c1pqjsBVrFIc4wxhBrdNhiiJAsJAvJosMKY/TYoUODGZaKVlFjhQFWmGOhqHGJI6wRaHCBATqEZCFZSBadYqOYoFM0GGBnr1FUioWiQo8xWqyxxHWsEbhCSBaShWT/A2FuUeKaOa0GAAAAAElFTkSuQmCC\"></td><td style='text-align:center;vertical-align:middle; margin: 0.5em;border:1px #90999f solid;border-collapse:collapse'><img style='max-width: 100px; max-height:100px;display:inline' src=\"data:image/png;base64,iVBORw0KGgoAAAANSUhEUgAAAHAAAABwCAAAAADji6uXAAAABGdBTUEAALGPC/xhBQAAAAFzUkdCAK7OHOkAAAAgY0hSTQAAeiYAAICEAAD6AAAAgOgAAHUwAADqYAAAOpgAABdwnLpRPAAABGZJREFUaAW9wdmOHGcZANBTVV/1NtM94/HYIwdErNgQRJCIhHgBHpQbHocrBEICI0ARCZ44s/dWS1dh6b9oLHH9nxMFRkcLbFHh4FNLPGGBraNAgQ41eoyOapRoEDILmYXMYpQUKNDjHPcocIonzPCECbYoMKJE76iTzLCXdJhIQmYhs5BZLPGECRq0jkoUqLGXzNHiGe4xSOYY0KBE51OBFiGzkFnILDaYY+eoRY0Oj5IJWnQo8YQBBUZMcS+p0ElWeEQvCZmFzEJmMWAnCfSSDjU6nGIj2aJAhwKBDveYYY8BNXo8SlpJyCxkFjIL/6PHCo8IdKix9qlRMmKQVNhjih4dzvAgmaBHyCxkFjKLCgfJFFuUKCWdZIEGB5QYJAfJAk9oHD2iRkhKhMxCZiGzGCUn6DBDi9bRHFvM0aPDHM8xQ4VHjOgxopF0GDHBDiGzkFnILAbJRjKi86kGE+wx4hmW+BXeIvBn/BEz3OEESyzxhG8kIbOQWcgspmhxhhEPkikaXOAWLUq8wdc4w5eoUeI17rDGFDVW+Bor/A7vETILmYXMosEMa6xQY0CDwC3OUOFzvMUMj2jQYMAb/BbfosUCS/wGK/wBW4TMQmYhs/DRXnKLcFSjx2t8iQvU2OBnWOAU/8Y/8Aa/wIg5Vthjjys8ImQWMguZRYWDpJascILP8RJXeMAcc/wUG7zAFl/hB7zHj7GU/BWD5CtJyCxkFjKLUwTmWKDAFzhHj3OMeIsJtrjBS9xggs9whWtc4xn+iTkqPMc3kpBZyCxkFmv8Gj9BhQdc4QTPMeAS73GKBi9xwC/xhGt8gQ4b3GGFKa4xSC4RMguZhcziFS6wwo8wRY05SqxxjRXOcYY5LrHFAjv8HQ0CN2hR43vUuMUJQmYhs5BZvMZn6PAtFviABU5xj3P0KLFBiwbfYSPZo0KPG3xAjUuMkluEzEJmIbO4xs+xwRQ9GuwQ2KBBib/hHi0OOMFzLHCFLV7iAjuUuMMZJvg9QmYhs5BZvJMscYYJ5pijwxSBAZd4iQscUOIVblHhCs/RY4IBS9zhL/gTQmYhs5BZFHgnmeMZlrjEKQ7YYYEDdlhjijV2KDDiAQssUGFAjyX+hQNCZiGzkFnU6DCiwneSdyjRI1Ch8akaIybYSnbYo8MTChQ4wwwhs5BZyCxaR2tHAwbJCreSGh0KdJIeM9ToscHcUeAeLxAyC5mFzML/UWJAicAWFWrsJSMucCuZ4gFneEAnGdFKvkfILGQWMgsf1aiwl9RoMKB19Ax7R7coMcEOBR4wRYkenaRGh5BZyCxkFj7q0DlqHNWSDj84eoEPOEWFNUaUOOAUN5gg0EpCZiGzkFkERhwwQYsSgQEdTjCixyvc4wOWeMQKNTqU6LHHKdZoUUpCZiGzkFn0kgILFGjQOqoxwR3+Iwl0KPDoqMcEe1QI9BgkIbOQWcgspmgwokWFE2wkNe4xQ4kBBabYoMQoqSUtKlSYYIsRM4TMQmYhs/8Cv7RM5Q/jR44AAAAASUVORK5C\"></td><td style='text-align:center;vertical-align:middle; margin: 0.5em;border:1px #90999f solid;border-collapse:collapse'><img style='max-width: 100px; max-height:100px;display:inline' src=\"data:image/png;base64,iVBORw0KGgoAAAANSUhEUgAAAHAAAABwCAAAAADji6uXAAAABGdBTUEAALGPC/xhBQAAAAFzUkdCAK7OHOkAAAAgY0hSTQAAeiYAAICEAAD6AAAAgOgAAHUwAADqYAAAOpgAABdwnLpRPAAABIRJREFUaAW9wTuPXGcZAODnnHnntutd79obHNYEyxGXyEQIQYVoTIGgAZpAR0NHQ5F/QUmB+BFQQAstQnIRARWXAgLGtzj2sp7rOXNmDpG+YrRCoXyfJ3yMAXboUaHGBEv0/tcEaxxh5uOFZCFZSBYjtIojzHCEmeIULRZYKIbYoEaNDhuMMMMBlvYqDNAhJAvJQrLY2FshsMQRZrjETlFjh41igI3iOhaKpat6TDBHSBaShWTRY4gNRooKM0WvCHSu2ipqtNjYq7FTDLHBCCFZSBaSRY2NYo1reGWvV3T2RmhRKXaKHSpMsUSFHhvFdYRkIVlIFjt7O7xyVY0dRooWHUbocIoLzBWfwkMM0KNW3Ma/EJKFZCFZHGKBCrW9CRp0itZeoMUEF6gQ2OIhAp29wCNMEJKFZCFZLBS9YoshFooaPQ6xxA6t4gwHeIkZakWjGGKDE/R4gZAsJAvJokKlqHGAmaJCoMUWO8URPoc38Sb+il9hhEoR2OAOWnyACiFZSBaSRY8p1hhigpmixw1coMEx7uDb+DFqvI+/4Ake2OvwGdzHPfwM7yMkC8lCsvCRGjssscEEFWpcoMdtfAvv4i38Hb/Da/gB3sBP8B6e4xhfwTfxDTzAI4RkIVlIFlPMcYgKDTaoETjH2/gRPo8pfoELnOIUz3Ef9/FLPMUcX8MdTPAF/BohWUgWksUagQUqjDBGha/jS3gHNR6gQYdzvIEjPMa/cQ/v4EM0uIYX6PBd/BwhWUgWksUQFc6xw+u4hZv4Hj6Bh3gPZ+hxght4hgYHWOK3OEaHcwxxgkN8ETcRkoVkIVm0+A5uocIOZ3gdz/Fn3MJdzHGAz2KNE/wHNVY4wxRjjLHAFB22GCEkC8lCsvg+fohDLLHC39DgT7iLFkNMcBMvMMRjjPAhzjHHIQItaixxiSEOEZKFZCFZNDjHHRyjw1dRY41n+CQ2mGKJE3QYosIUQ6wxUbzADEs8xQArhGQhWUgWv8dPcROBt3APx/g0XsNY8QwVLvEc/8Af8BKvMMMRGswwxwiPcIwdQrKQLCSL5/gNvowx/ogxPkSPHh2u4yVqvMQlLnCKG1jjCGNscYgNTnAL1/BPhGQhWUgWFR7iCc5Q422cYotLHOMMA4xxFy1uY4UNWkywwg1sFJfY4RmeICQLyUKy6DFVPEWFx64aKLb+v5GiVQwUEyxQISQLyUKyqLBSBIY4wBoDrLBRTLFSTLDGBGsEWldtFZWiR0gWkoVk0SsOsESHFQYYYoPbeIQhVoq1Yo0buMQQNRpFhR5zTNEhJAvJQrLwkWtY4ggzxRaV4pFigetYYIseA1xiiy3GmGKNQzTYYKUIyUKykCxOEZijVUzRoHfVFpeKAXoEGkWFRjHCXFHjCJcIyUKykCxm6BQNphhghylWGGCACg2O0WOFBjUOMFdM0WCKFXZoMEZIFpKFZNG5aodWMUSDEYZYKV4h0GGCFnOMscFK0dhbK0KykCwkiwEqdJhgjRoDvEKNFVr0qBFoMcLaXqM4xCE+QIUBOkVIFpKFZP8FtpZL2DU9dLoAAAAASUVORK5C\"></td><td style='text-align:center;vertical-align:middle; margin: 0.5em;border:1px #90999f solid;border-collapse:collapse'><img style='max-width: 100px; max-height:100px;display:inline' src=\"data:image/png;base64,iVBORw0KGgoAAAANSUhEUgAAAHAAAABwCAAAAADji6uXAAAABGdBTUEAALGPC/xhBQAAAAFzUkdCAK7OHOkAAAAgY0hSTQAAeiYAAICEAAD6AAAAgOgAAHUwAADqYAAAOpgAABdwnLpRPAAABFFJREFUaAW9wcuOHGcZANBTVV9fZ6YznoziOGFhYoKQyArYICQur4DE+7KFTTYgIQwkchxhgz0ed09PdVd3VWPpXxRWWLD6zokag+ICG8UcO8yxQ+BoNEWHM2yxwgYn76twQo0BIVlIFpLFOdaKOzTosUOFHZaYYI0GPU6KrWLtf5tiUFQIyUKykCx6TFBhwNHohAnuFZe4VRzQINBggreKM2xRY+99IVlIFpLFFg1qHDHBgB4NDkYb7+tRocM9Fjhii4d4qZiiQ4OQLCQLyWKB1qjHoJiixlYxQY8JDligRaU4KM7w0uiASxwRkoVkIVk0WCCwQ409Zjigxxw77LDCHeZo0aBXHLHEFiuccESLW0wRkoVkIVlsEWixQIsJ9ooKR6MKA5aKndE1XinWqDEY1QjJQrKQLE44YI4WU3SYYY8TjoozvEWFWwzed48LHHDAYHSGLUKykCwkiwVmuMUS94red20VE3RGV4oboxn2igW2ipAsJAvJokWHCveYIHAwmmOnqNEpfoINPscfjM7RGn2Kb7BHSBaShWTRoFc0aDCgR40BE+wUgV/iR/gGS5xwideKO0WNB/gKFzggJAvJQrLocYEe95hihwYrbLBBhd/gFzjhr/gYl9jjMV5gazTFa3yBKf6EkCwkC8nCOxvFAh1q9HiDGj/Hr/AR/oJnWOERjvgcD3GNL/E3rPAhZniCBf6BkCwkC8nCf2kxwx4f4mf4NXo8xZdYYoUe/8QT3OABfocvcItPcIMFGqzwFCFZSBaSRYUprnCFx/gUn+AcT/ECPe7wFX6Iz7DHtxhwrvgMAyossccBb3CFkCwkC8niEX6LBq+xROBrTPASl9jgY1ziOWp0eIMnGHCHBiu8Ro8Bc/T4ACFZSBaSxU/xEZ7jMxywxvcwwRw7fIBr/Bnfx4Af4xUe4gd4hIe4xR1WeI23uMG/EJKFZCFZ/BEvcI4NztBghn/jEh1aBKa4xjP8HS1e4PeKA9aYo8Eeb41CspAsJIsbvDSqcMIS97hChwP2igtc4xl639VgjiNqLLDDI4RkIVlIFgecYY7AHjPscUKHe1yjQWCKczzGOV5hgbnigDXujWZ4jpAsJAvJwjstjqiwwxxnaLHAFAeccINa0SJw9P8LyUKykCwu0WODOZZo0WCOVrHDFDVazBVHBGqccPC+B1jjDHcIyUKykCzucFTsEIotFkaBTjHDTlFjiTVC0aBXvFGssURIFpKFZFErGvQ4okGPFhVOOKHGgD1qDAisUeGo6NGgN1qhQ0gWkoVk0aHCGXbo0KBXLLDDCQMCJ9QY0ClOigts0CtmOKJDh5AsJAvJwjsnrLFAjc7ohMHohAXujJbYo8EGC7SosFdUGBCShWQhWTzAFg1qzDDDLeaYKlpc4QZ3qDEoKvRGrWKCiWKPxwjJQrKQLLYY0OECA25Rocdbow1m2GPADHtsMccOK6wVHTqjrxGShWQh2X8AqxNPQz0dEUYAAAAASUVORK5C\"></td></tr></tbody></table><div><small>(a vector displayed as a row to save space)</small></div>"
      ],
      "text/plain": [
       "8-element Vector{Adjoint{Gray{Float64}, Matrix{Gray{Float64}}}}:\n",
       " [Gray{Float64}(0.02350660766684705) Gray{Float64}(-0.08628973733398955) … Gray{Float64}(-0.040731292479907616) Gray{Float64}(0.03962638571583689); Gray{Float64}(-0.032184313946248544) Gray{Float64}(-0.013633731850095561) … Gray{Float64}(-0.02241771200624738) Gray{Float64}(-0.01980895264321039); … ; Gray{Float64}(-0.015255316679123712) Gray{Float64}(0.002184956640833651) … Gray{Float64}(-0.04206097005904777) Gray{Float64}(0.042346151472140936); Gray{Float64}(-0.012596705619281627) Gray{Float64}(0.02445355351878491) … Gray{Float64}(-0.004085316246280921) Gray{Float64}(0.04318212408839954)]\n",
       " [Gray{Float64}(-0.026715930396914042) Gray{Float64}(-0.019146037179732105) … Gray{Float64}(-0.0042826715195897975) Gray{Float64}(0.0026110659134986635); Gray{Float64}(-0.04036904624399443) Gray{Float64}(0.08025223685204047) … Gray{Float64}(0.011410415178434859) Gray{Float64}(-0.03716946793840966); … ; Gray{Float64}(0.0077219246849206365) Gray{Float64}(-0.02724673223643883) … Gray{Float64}(0.033699315170757194) Gray{Float64}(0.03456687010394173); Gray{Float64}(0.01171827239883306) Gray{Float64}(0.006949360529960415) … Gray{Float64}(0.06003325112887169) Gray{Float64}(0.0034717769723062067)]\n",
       " [Gray{Float64}(-0.05925257636901379) Gray{Float64}(-0.04855874290079544) … Gray{Float64}(-0.003397010224334554) Gray{Float64}(0.016266774447172342); Gray{Float64}(0.048878984571671946) Gray{Float64}(0.03337793614575288) … Gray{Float64}(-0.01544355110197757) Gray{Float64}(0.0008065981838692377); … ; Gray{Float64}(-0.0670325035096805) Gray{Float64}(0.03769719726010513) … Gray{Float64}(0.043433628371893004) Gray{Float64}(0.0633131372728275); Gray{Float64}(-0.011941993870976955) Gray{Float64}(-0.06630449668292523) … Gray{Float64}(-0.010129085034240148) Gray{Float64}(-0.02473532368261205)]\n",
       " [Gray{Float64}(-0.04281062667186457) Gray{Float64}(0.03188054705094912) … Gray{Float64}(-0.01683540425816804) Gray{Float64}(0.021237343247187877); Gray{Float64}(0.027232444049928622) Gray{Float64}(-0.03867800502012377) … Gray{Float64}(-0.01701271462095881) Gray{Float64}(-0.08221939209299467); … ; Gray{Float64}(0.006067038168384317) Gray{Float64}(0.03416288125795707) … Gray{Float64}(-0.001287041308512796) Gray{Float64}(-0.051338082082281696); Gray{Float64}(0.01827503789083109) Gray{Float64}(0.011271159189494345) … Gray{Float64}(0.02744768074605059) Gray{Float64}(0.02885844489589895)]\n",
       " [Gray{Float64}(0.0006767834201024463) Gray{Float64}(-0.02477154618802028) … Gray{Float64}(0.04613142923051894) Gray{Float64}(-0.0331773693024958); Gray{Float64}(-0.0556030415124536) Gray{Float64}(-0.016667257908989874) … Gray{Float64}(-0.006728185799742259) Gray{Float64}(-0.012556146252853962); … ; Gray{Float64}(0.03169320630669767) Gray{Float64}(-0.021834887569555577) … Gray{Float64}(0.009198634299527483) Gray{Float64}(-0.0162404354899175); Gray{Float64}(0.019992428594539417) Gray{Float64}(-0.023985009558449046) … Gray{Float64}(0.04863884495619113) Gray{Float64}(-0.06053736669462706)]\n",
       " [Gray{Float64}(0.003620086362689993) Gray{Float64}(2.6796648145098412e-5) … Gray{Float64}(0.028857703808801115) Gray{Float64}(-0.005920030824581769); Gray{Float64}(-0.027470629792835766) Gray{Float64}(-0.04314073474651477) … Gray{Float64}(0.02188302798690816) Gray{Float64}(-0.0007691434339798849); … ; Gray{Float64}(-0.03649618299070549) Gray{Float64}(-0.037464492844648874) … Gray{Float64}(-0.02077981755207107) Gray{Float64}(-0.02674605527258837); Gray{Float64}(0.028399785764497285) Gray{Float64}(-0.0032630195688733567) … Gray{Float64}(0.003409271624306972) Gray{Float64}(0.03682476419642362)]\n",
       " [Gray{Float64}(-0.05116199269623953) Gray{Float64}(-0.011676043400924003) … Gray{Float64}(-0.06019831950788539) Gray{Float64}(-0.017487950054871863); Gray{Float64}(0.022747107337556454) Gray{Float64}(-9.011551460395861e-5) … Gray{Float64}(0.014096495259898376) Gray{Float64}(-0.02909155108941961); … ; Gray{Float64}(-0.0478855031160143) Gray{Float64}(-0.018304077101914475) … Gray{Float64}(-0.010663324629577703) Gray{Float64}(-0.014748449864996932); Gray{Float64}(0.012690179790463113) Gray{Float64}(0.014234383486568108) … Gray{Float64}(-0.036844474218816675) Gray{Float64}(-0.031796782059494766)]\n",
       " [Gray{Float64}(0.008293464553633053) Gray{Float64}(-0.04219013396488415) … Gray{Float64}(0.006190191036635814) Gray{Float64}(-0.040674044447086576); Gray{Float64}(0.053765332007006734) Gray{Float64}(-0.037012160972309166) … Gray{Float64}(0.02026314406066) Gray{Float64}(0.00984558335320226); … ; Gray{Float64}(0.0652313110983307) Gray{Float64}(0.02408276175250109) … Gray{Float64}(0.014296770006443194) Gray{Float64}(0.12537425519917608); Gray{Float64}(0.023295354634592192) Gray{Float64}(0.015080611268813488) … Gray{Float64}(-0.006319373918878327) Gray{Float64}(-0.018639509340336254)]"
      ]
     },
     "execution_count": 38,
     "metadata": {},
     "output_type": "execute_result"
    }
   ],
   "source": [
    "synthetic_data_3 =[random_sneaker() for _ in 1:8]\n",
    "synthetic_images_3 = [reshape(u, 28, 28) for u in synthetic_data_3];\n",
    "map(create_RGB_image, synthetic_images_3)"
   ]
  }
 ],
 "metadata": {
  "@webio": {
   "lastCommId": null,
   "lastKernelId": null
  },
  "kernelspec": {
   "display_name": "Julia 1.7.2",
   "language": "julia",
   "name": "julia-1.7"
  },
  "language_info": {
   "file_extension": ".jl",
   "mimetype": "application/julia",
   "name": "julia",
   "version": "1.7.2"
  }
 },
 "nbformat": 4,
 "nbformat_minor": 2
}
