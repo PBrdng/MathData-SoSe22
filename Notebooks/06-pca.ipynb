{
 "cells": [
  {
   "cell_type": "code",
   "execution_count": null,
   "metadata": {},
   "outputs": [],
   "source": [
    "using Pkg\n",
    "Pkg.activate(\"NB06\")\n",
    "Pkg.instantiate();"
   ]
  },
  {
   "cell_type": "code",
   "execution_count": null,
   "metadata": {},
   "outputs": [],
   "source": [
    "using MLDatasets\n",
    "using Plots, LinearAlgebra, StatsBase, Distributions\n",
    "using Images, ImageCore\n",
    "import Base.Iterators: product"
   ]
  },
  {
   "cell_type": "markdown",
   "metadata": {},
   "source": [
    "*Warning:* For this notebook I had to pin `CSV.jl` to version 0.8.5, because otherwise `MLDatasets` would not compile. This restricts `MLDatasets` to version 0.5. The latest version has a different syntax than the one used here."
   ]
  },
  {
   "cell_type": "markdown",
   "metadata": {},
   "source": [
    "# Principal Component Analysis\n",
    "\n",
    "In this notebook we will apply PCA to three datasets.\n"
   ]
  },
  {
   "cell_type": "markdown",
   "metadata": {},
   "source": [
    "## Points on a circle\n",
    "\n",
    "\n",
    "The first dataset is synthetic data generated from the unit circle $S^1 \\subset \\mathbb R^2$.\n",
    "\n",
    "We want to use PCA to learn the geometry of the data.\n",
    "\n",
    "Let us first generate $n=100$ random points on $S^1$ and add Gaussian noise with variance $\\sigma^2 = 0.01$."
   ]
  },
  {
   "cell_type": "code",
   "execution_count": 84,
   "metadata": {},
   "outputs": [],
   "source": [
    "n = 100\n",
    "σ² = 0.01\n",
    "X = [[cos(ϕ); sin(ϕ)] + sqrt(σ²) .* randn(2) \n",
    "        for ϕ in rand(0:0.1:2π, n)];"
   ]
  },
  {
   "cell_type": "markdown",
   "metadata": {},
   "source": [
    "We center the data"
   ]
  },
  {
   "cell_type": "code",
   "execution_count": 85,
   "metadata": {},
   "outputs": [],
   "source": [
    "x̄ = mean(X);\n",
    "X = map(x -> x - x̄, X);"
   ]
  },
  {
   "cell_type": "markdown",
   "metadata": {},
   "source": [
    "and plot the data."
   ]
  },
  {
   "cell_type": "code",
   "execution_count": 86,
   "metadata": {},
   "outputs": [
    {
     "data": {
      "image/svg+xml": [
       "<?xml version=\"1.0\" encoding=\"utf-8\"?>\n",
       "<svg xmlns=\"http://www.w3.org/2000/svg\" xmlns:xlink=\"http://www.w3.org/1999/xlink\" width=\"750\" height=\"250\" viewBox=\"0 0 3000 1000\">\n",
       "<defs>\n",
       "  <clipPath id=\"clip570\">\n",
       "    <rect x=\"0\" y=\"0\" width=\"3000\" height=\"1000\"/>\n",
       "  </clipPath>\n",
       "</defs>\n",
       "<path clip-path=\"url(#clip570)\" d=\"\n",
       "M0 1000 L3000 1000 L3000 0 L0 0  Z\n",
       "  \" fill=\"#ffffff\" fill-rule=\"evenodd\" fill-opacity=\"1\"/>\n",
       "<defs>\n",
       "  <clipPath id=\"clip571\">\n",
       "    <rect x=\"600\" y=\"0\" width=\"2101\" height=\"1000\"/>\n",
       "  </clipPath>\n",
       "</defs>\n",
       "<path clip-path=\"url(#clip570)\" d=\"\n",
       "M199.936 909.728 L2952.76 909.728 L2952.76 47.2441 L199.936 47.2441  Z\n",
       "  \" fill=\"#ffffff\" fill-rule=\"evenodd\" fill-opacity=\"1\"/>\n",
       "<defs>\n",
       "  <clipPath id=\"clip572\">\n",
       "    <rect x=\"199\" y=\"47\" width=\"2754\" height=\"863\"/>\n",
       "  </clipPath>\n",
       "</defs>\n",
       "<polyline clip-path=\"url(#clip572)\" style=\"stroke:#000000; stroke-linecap:butt; stroke-linejoin:round; stroke-width:2; stroke-opacity:0.1; fill:none\" points=\"\n",
       "  485.339,909.728 485.339,47.2441 \n",
       "  \"/>\n",
       "<polyline clip-path=\"url(#clip572)\" style=\"stroke:#000000; stroke-linecap:butt; stroke-linejoin:round; stroke-width:2; stroke-opacity:0.1; fill:none\" points=\"\n",
       "  839.442,909.728 839.442,47.2441 \n",
       "  \"/>\n",
       "<polyline clip-path=\"url(#clip572)\" style=\"stroke:#000000; stroke-linecap:butt; stroke-linejoin:round; stroke-width:2; stroke-opacity:0.1; fill:none\" points=\"\n",
       "  1193.55,909.728 1193.55,47.2441 \n",
       "  \"/>\n",
       "<polyline clip-path=\"url(#clip572)\" style=\"stroke:#000000; stroke-linecap:butt; stroke-linejoin:round; stroke-width:2; stroke-opacity:0.1; fill:none\" points=\"\n",
       "  1547.65,909.728 1547.65,47.2441 \n",
       "  \"/>\n",
       "<polyline clip-path=\"url(#clip572)\" style=\"stroke:#000000; stroke-linecap:butt; stroke-linejoin:round; stroke-width:2; stroke-opacity:0.1; fill:none\" points=\"\n",
       "  1901.75,909.728 1901.75,47.2441 \n",
       "  \"/>\n",
       "<polyline clip-path=\"url(#clip572)\" style=\"stroke:#000000; stroke-linecap:butt; stroke-linejoin:round; stroke-width:2; stroke-opacity:0.1; fill:none\" points=\"\n",
       "  2255.85,909.728 2255.85,47.2441 \n",
       "  \"/>\n",
       "<polyline clip-path=\"url(#clip572)\" style=\"stroke:#000000; stroke-linecap:butt; stroke-linejoin:round; stroke-width:2; stroke-opacity:0.1; fill:none\" points=\"\n",
       "  2609.96,909.728 2609.96,47.2441 \n",
       "  \"/>\n",
       "<polyline clip-path=\"url(#clip570)\" style=\"stroke:#000000; stroke-linecap:butt; stroke-linejoin:round; stroke-width:4; stroke-opacity:1; fill:none\" points=\"\n",
       "  199.936,909.728 2952.76,909.728 \n",
       "  \"/>\n",
       "<polyline clip-path=\"url(#clip570)\" style=\"stroke:#000000; stroke-linecap:butt; stroke-linejoin:round; stroke-width:4; stroke-opacity:1; fill:none\" points=\"\n",
       "  485.339,909.728 485.339,890.83 \n",
       "  \"/>\n",
       "<polyline clip-path=\"url(#clip570)\" style=\"stroke:#000000; stroke-linecap:butt; stroke-linejoin:round; stroke-width:4; stroke-opacity:1; fill:none\" points=\"\n",
       "  839.442,909.728 839.442,890.83 \n",
       "  \"/>\n",
       "<polyline clip-path=\"url(#clip570)\" style=\"stroke:#000000; stroke-linecap:butt; stroke-linejoin:round; stroke-width:4; stroke-opacity:1; fill:none\" points=\"\n",
       "  1193.55,909.728 1193.55,890.83 \n",
       "  \"/>\n",
       "<polyline clip-path=\"url(#clip570)\" style=\"stroke:#000000; stroke-linecap:butt; stroke-linejoin:round; stroke-width:4; stroke-opacity:1; fill:none\" points=\"\n",
       "  1547.65,909.728 1547.65,890.83 \n",
       "  \"/>\n",
       "<polyline clip-path=\"url(#clip570)\" style=\"stroke:#000000; stroke-linecap:butt; stroke-linejoin:round; stroke-width:4; stroke-opacity:1; fill:none\" points=\"\n",
       "  1901.75,909.728 1901.75,890.83 \n",
       "  \"/>\n",
       "<polyline clip-path=\"url(#clip570)\" style=\"stroke:#000000; stroke-linecap:butt; stroke-linejoin:round; stroke-width:4; stroke-opacity:1; fill:none\" points=\"\n",
       "  2255.85,909.728 2255.85,890.83 \n",
       "  \"/>\n",
       "<polyline clip-path=\"url(#clip570)\" style=\"stroke:#000000; stroke-linecap:butt; stroke-linejoin:round; stroke-width:4; stroke-opacity:1; fill:none\" points=\"\n",
       "  2609.96,909.728 2609.96,890.83 \n",
       "  \"/>\n",
       "<path clip-path=\"url(#clip570)\" d=\"M454.807 960.099 L484.483 960.099 L484.483 964.034 L454.807 964.034 L454.807 960.099 Z\" fill=\"#000000\" fill-rule=\"evenodd\" fill-opacity=\"1\" /><path clip-path=\"url(#clip570)\" d=\"M508.742 958.294 Q512.099 959.011 513.973 961.28 Q515.872 963.548 515.872 966.882 Q515.872 971.997 512.353 974.798 Q508.835 977.599 502.353 977.599 Q500.177 977.599 497.862 977.159 Q495.571 976.743 493.117 975.886 L493.117 971.372 Q495.062 972.507 497.376 973.085 Q499.691 973.664 502.214 973.664 Q506.612 973.664 508.904 971.928 Q511.219 970.192 511.219 966.882 Q511.219 963.826 509.066 962.113 Q506.936 960.377 503.117 960.377 L499.089 960.377 L499.089 956.534 L503.302 956.534 Q506.751 956.534 508.58 955.169 Q510.409 953.78 510.409 951.187 Q510.409 948.525 508.511 947.113 Q506.636 945.678 503.117 945.678 Q501.196 945.678 498.997 946.095 Q496.798 946.511 494.159 947.391 L494.159 943.224 Q496.821 942.484 499.136 942.113 Q501.474 941.743 503.534 941.743 Q508.858 941.743 511.96 944.173 Q515.061 946.581 515.061 950.701 Q515.061 953.572 513.418 955.562 Q511.774 957.53 508.742 958.294 Z\" fill=\"#000000\" fill-rule=\"evenodd\" fill-opacity=\"1\" /><path clip-path=\"url(#clip570)\" d=\"M809.385 960.099 L839.06 960.099 L839.06 964.034 L809.385 964.034 L809.385 960.099 Z\" fill=\"#000000\" fill-rule=\"evenodd\" fill-opacity=\"1\" /><path clip-path=\"url(#clip570)\" d=\"M853.181 972.993 L869.5 972.993 L869.5 976.928 L847.556 976.928 L847.556 972.993 Q850.218 970.238 854.801 965.608 Q859.408 960.956 860.588 959.613 Q862.833 957.09 863.713 955.354 Q864.616 953.595 864.616 951.905 Q864.616 949.15 862.671 947.414 Q860.75 945.678 857.648 945.678 Q855.449 945.678 852.996 946.442 Q850.565 947.206 847.787 948.757 L847.787 944.035 Q850.611 942.9 853.065 942.322 Q855.519 941.743 857.556 941.743 Q862.926 941.743 866.12 944.428 Q869.315 947.113 869.315 951.604 Q869.315 953.734 868.505 955.655 Q867.718 957.553 865.611 960.146 Q865.032 960.817 861.931 964.034 Q858.829 967.229 853.181 972.993 Z\" fill=\"#000000\" fill-rule=\"evenodd\" fill-opacity=\"1\" /><path clip-path=\"url(#clip570)\" d=\"M1163.3 960.099 L1192.98 960.099 L1192.98 964.034 L1163.3 964.034 L1163.3 960.099 Z\" fill=\"#000000\" fill-rule=\"evenodd\" fill-opacity=\"1\" /><path clip-path=\"url(#clip570)\" d=\"M1203.88 972.993 L1211.52 972.993 L1211.52 946.627 L1203.21 948.294 L1203.21 944.035 L1211.47 942.368 L1216.15 942.368 L1216.15 972.993 L1223.79 972.993 L1223.79 976.928 L1203.88 976.928 L1203.88 972.993 Z\" fill=\"#000000\" fill-rule=\"evenodd\" fill-opacity=\"1\" /><path clip-path=\"url(#clip570)\" d=\"M1547.65 945.447 Q1544.04 945.447 1542.21 949.011 Q1540.4 952.553 1540.4 959.683 Q1540.4 966.789 1542.21 970.354 Q1544.04 973.895 1547.65 973.895 Q1551.28 973.895 1553.09 970.354 Q1554.92 966.789 1554.92 959.683 Q1554.92 952.553 1553.09 949.011 Q1551.28 945.447 1547.65 945.447 M1547.65 941.743 Q1553.46 941.743 1556.51 946.349 Q1559.59 950.933 1559.59 959.683 Q1559.59 968.409 1556.51 973.016 Q1553.46 977.599 1547.65 977.599 Q1541.84 977.599 1538.76 973.016 Q1535.7 968.409 1535.7 959.683 Q1535.7 950.933 1538.76 946.349 Q1541.84 941.743 1547.65 941.743 Z\" fill=\"#000000\" fill-rule=\"evenodd\" fill-opacity=\"1\" /><path clip-path=\"url(#clip570)\" d=\"M1892.13 972.993 L1899.77 972.993 L1899.77 946.627 L1891.46 948.294 L1891.46 944.035 L1899.73 942.368 L1904.4 942.368 L1904.4 972.993 L1912.04 972.993 L1912.04 976.928 L1892.13 976.928 L1892.13 972.993 Z\" fill=\"#000000\" fill-rule=\"evenodd\" fill-opacity=\"1\" /><path clip-path=\"url(#clip570)\" d=\"M2250.51 972.993 L2266.83 972.993 L2266.83 976.928 L2244.88 976.928 L2244.88 972.993 Q2247.54 970.238 2252.13 965.608 Q2256.73 960.956 2257.91 959.613 Q2260.16 957.09 2261.04 955.354 Q2261.94 953.595 2261.94 951.905 Q2261.94 949.15 2260 947.414 Q2258.08 945.678 2254.97 945.678 Q2252.78 945.678 2250.32 946.442 Q2247.89 947.206 2245.11 948.757 L2245.11 944.035 Q2247.94 942.9 2250.39 942.322 Q2252.84 941.743 2254.88 941.743 Q2260.25 941.743 2263.45 944.428 Q2266.64 947.113 2266.64 951.604 Q2266.64 953.734 2265.83 955.655 Q2265.04 957.553 2262.94 960.146 Q2262.36 960.817 2259.26 964.034 Q2256.16 967.229 2250.51 972.993 Z\" fill=\"#000000\" fill-rule=\"evenodd\" fill-opacity=\"1\" /><path clip-path=\"url(#clip570)\" d=\"M2614.2 958.294 Q2617.56 959.011 2619.44 961.28 Q2621.33 963.548 2621.33 966.882 Q2621.33 971.997 2617.82 974.798 Q2614.3 977.599 2607.82 977.599 Q2605.64 977.599 2603.33 977.159 Q2601.03 976.743 2598.58 975.886 L2598.58 971.372 Q2600.52 972.507 2602.84 973.085 Q2605.15 973.664 2607.68 973.664 Q2612.08 973.664 2614.37 971.928 Q2616.68 970.192 2616.68 966.882 Q2616.68 963.826 2614.53 962.113 Q2612.4 960.377 2608.58 960.377 L2604.55 960.377 L2604.55 956.534 L2608.76 956.534 Q2612.21 956.534 2614.04 955.169 Q2615.87 953.78 2615.87 951.187 Q2615.87 948.525 2613.97 947.113 Q2612.1 945.678 2608.58 945.678 Q2606.66 945.678 2604.46 946.095 Q2602.26 946.511 2599.62 947.391 L2599.62 943.224 Q2602.28 942.484 2604.6 942.113 Q2606.94 941.743 2609 941.743 Q2614.32 941.743 2617.42 944.173 Q2620.52 946.581 2620.52 950.701 Q2620.52 953.572 2618.88 955.562 Q2617.24 957.53 2614.2 958.294 Z\" fill=\"#000000\" fill-rule=\"evenodd\" fill-opacity=\"1\" /><polyline clip-path=\"url(#clip572)\" style=\"stroke:#000000; stroke-linecap:butt; stroke-linejoin:round; stroke-width:2; stroke-opacity:0.1; fill:none\" points=\"\n",
       "  199.936,844.914 2952.76,844.914 \n",
       "  \"/>\n",
       "<polyline clip-path=\"url(#clip572)\" style=\"stroke:#000000; stroke-linecap:butt; stroke-linejoin:round; stroke-width:2; stroke-opacity:0.1; fill:none\" points=\"\n",
       "  199.936,667.863 2952.76,667.863 \n",
       "  \"/>\n",
       "<polyline clip-path=\"url(#clip572)\" style=\"stroke:#000000; stroke-linecap:butt; stroke-linejoin:round; stroke-width:2; stroke-opacity:0.1; fill:none\" points=\"\n",
       "  199.936,490.811 2952.76,490.811 \n",
       "  \"/>\n",
       "<polyline clip-path=\"url(#clip572)\" style=\"stroke:#000000; stroke-linecap:butt; stroke-linejoin:round; stroke-width:2; stroke-opacity:0.1; fill:none\" points=\"\n",
       "  199.936,313.76 2952.76,313.76 \n",
       "  \"/>\n",
       "<polyline clip-path=\"url(#clip572)\" style=\"stroke:#000000; stroke-linecap:butt; stroke-linejoin:round; stroke-width:2; stroke-opacity:0.1; fill:none\" points=\"\n",
       "  199.936,136.708 2952.76,136.708 \n",
       "  \"/>\n",
       "<polyline clip-path=\"url(#clip570)\" style=\"stroke:#000000; stroke-linecap:butt; stroke-linejoin:round; stroke-width:4; stroke-opacity:1; fill:none\" points=\"\n",
       "  199.936,909.728 199.936,47.2441 \n",
       "  \"/>\n",
       "<polyline clip-path=\"url(#clip570)\" style=\"stroke:#000000; stroke-linecap:butt; stroke-linejoin:round; stroke-width:4; stroke-opacity:1; fill:none\" points=\"\n",
       "  199.936,844.914 218.834,844.914 \n",
       "  \"/>\n",
       "<polyline clip-path=\"url(#clip570)\" style=\"stroke:#000000; stroke-linecap:butt; stroke-linejoin:round; stroke-width:4; stroke-opacity:1; fill:none\" points=\"\n",
       "  199.936,667.863 218.834,667.863 \n",
       "  \"/>\n",
       "<polyline clip-path=\"url(#clip570)\" style=\"stroke:#000000; stroke-linecap:butt; stroke-linejoin:round; stroke-width:4; stroke-opacity:1; fill:none\" points=\"\n",
       "  199.936,490.811 218.834,490.811 \n",
       "  \"/>\n",
       "<polyline clip-path=\"url(#clip570)\" style=\"stroke:#000000; stroke-linecap:butt; stroke-linejoin:round; stroke-width:4; stroke-opacity:1; fill:none\" points=\"\n",
       "  199.936,313.76 218.834,313.76 \n",
       "  \"/>\n",
       "<polyline clip-path=\"url(#clip570)\" style=\"stroke:#000000; stroke-linecap:butt; stroke-linejoin:round; stroke-width:4; stroke-opacity:1; fill:none\" points=\"\n",
       "  199.936,136.708 218.834,136.708 \n",
       "  \"/>\n",
       "<path clip-path=\"url(#clip570)\" d=\"M47.9921 845.366 L77.6679 845.366 L77.6679 849.301 L47.9921 849.301 L47.9921 845.366 Z\" fill=\"#000000\" fill-rule=\"evenodd\" fill-opacity=\"1\" /><path clip-path=\"url(#clip570)\" d=\"M88.5706 858.259 L96.2095 858.259 L96.2095 831.894 L87.8993 833.56 L87.8993 829.301 L96.1632 827.634 L100.839 827.634 L100.839 858.259 L108.478 858.259 L108.478 862.194 L88.5706 862.194 L88.5706 858.259 Z\" fill=\"#000000\" fill-rule=\"evenodd\" fill-opacity=\"1\" /><path clip-path=\"url(#clip570)\" d=\"M117.922 856.315 L122.807 856.315 L122.807 862.194 L117.922 862.194 L117.922 856.315 Z\" fill=\"#000000\" fill-rule=\"evenodd\" fill-opacity=\"1\" /><path clip-path=\"url(#clip570)\" d=\"M142.992 830.713 Q139.381 830.713 137.552 834.278 Q135.746 837.819 135.746 844.949 Q135.746 852.055 137.552 855.62 Q139.381 859.162 142.992 859.162 Q146.626 859.162 148.431 855.62 Q150.26 852.055 150.26 844.949 Q150.26 837.819 148.431 834.278 Q146.626 830.713 142.992 830.713 M142.992 827.009 Q148.802 827.009 151.857 831.616 Q154.936 836.199 154.936 844.949 Q154.936 853.676 151.857 858.282 Q148.802 862.866 142.992 862.866 Q137.181 862.866 134.103 858.282 Q131.047 853.676 131.047 844.949 Q131.047 836.199 134.103 831.616 Q137.181 827.009 142.992 827.009 Z\" fill=\"#000000\" fill-rule=\"evenodd\" fill-opacity=\"1\" /><path clip-path=\"url(#clip570)\" d=\"M48.9875 668.314 L78.6633 668.314 L78.6633 672.249 L48.9875 672.249 L48.9875 668.314 Z\" fill=\"#000000\" fill-rule=\"evenodd\" fill-opacity=\"1\" /><path clip-path=\"url(#clip570)\" d=\"M98.7557 653.662 Q95.1447 653.662 93.316 657.226 Q91.5104 660.768 91.5104 667.898 Q91.5104 675.004 93.316 678.569 Q95.1447 682.11 98.7557 682.11 Q102.39 682.11 104.196 678.569 Q106.024 675.004 106.024 667.898 Q106.024 660.768 104.196 657.226 Q102.39 653.662 98.7557 653.662 M98.7557 649.958 Q104.566 649.958 107.621 654.564 Q110.7 659.148 110.7 667.898 Q110.7 676.624 107.621 681.231 Q104.566 685.814 98.7557 685.814 Q92.9456 685.814 89.8669 681.231 Q86.8114 676.624 86.8114 667.898 Q86.8114 659.148 89.8669 654.564 Q92.9456 649.958 98.7557 649.958 Z\" fill=\"#000000\" fill-rule=\"evenodd\" fill-opacity=\"1\" /><path clip-path=\"url(#clip570)\" d=\"M118.918 679.263 L123.802 679.263 L123.802 685.143 L118.918 685.143 L118.918 679.263 Z\" fill=\"#000000\" fill-rule=\"evenodd\" fill-opacity=\"1\" /><path clip-path=\"url(#clip570)\" d=\"M134.033 650.583 L152.39 650.583 L152.39 654.518 L138.316 654.518 L138.316 662.99 Q139.334 662.643 140.353 662.481 Q141.371 662.296 142.39 662.296 Q148.177 662.296 151.556 665.467 Q154.936 668.638 154.936 674.055 Q154.936 679.634 151.464 682.735 Q147.992 685.814 141.672 685.814 Q139.496 685.814 137.228 685.444 Q134.982 685.073 132.575 684.333 L132.575 679.634 Q134.658 680.768 136.881 681.323 Q139.103 681.879 141.58 681.879 Q145.584 681.879 147.922 679.772 Q150.26 677.666 150.26 674.055 Q150.26 670.444 147.922 668.337 Q145.584 666.231 141.58 666.231 Q139.705 666.231 137.83 666.648 Q135.978 667.064 134.033 667.944 L134.033 650.583 Z\" fill=\"#000000\" fill-rule=\"evenodd\" fill-opacity=\"1\" /><path clip-path=\"url(#clip570)\" d=\"M97.7604 476.61 Q94.1493 476.61 92.3206 480.175 Q90.515 483.716 90.515 490.846 Q90.515 497.953 92.3206 501.517 Q94.1493 505.059 97.7604 505.059 Q101.395 505.059 103.2 501.517 Q105.029 497.953 105.029 490.846 Q105.029 483.716 103.2 480.175 Q101.395 476.61 97.7604 476.61 M97.7604 472.906 Q103.571 472.906 106.626 477.513 Q109.705 482.096 109.705 490.846 Q109.705 499.573 106.626 504.179 Q103.571 508.763 97.7604 508.763 Q91.9502 508.763 88.8715 504.179 Q85.816 499.573 85.816 490.846 Q85.816 482.096 88.8715 477.513 Q91.9502 472.906 97.7604 472.906 Z\" fill=\"#000000\" fill-rule=\"evenodd\" fill-opacity=\"1\" /><path clip-path=\"url(#clip570)\" d=\"M117.922 502.212 L122.807 502.212 L122.807 508.091 L117.922 508.091 L117.922 502.212 Z\" fill=\"#000000\" fill-rule=\"evenodd\" fill-opacity=\"1\" /><path clip-path=\"url(#clip570)\" d=\"M142.992 476.61 Q139.381 476.61 137.552 480.175 Q135.746 483.716 135.746 490.846 Q135.746 497.953 137.552 501.517 Q139.381 505.059 142.992 505.059 Q146.626 505.059 148.431 501.517 Q150.26 497.953 150.26 490.846 Q150.26 483.716 148.431 480.175 Q146.626 476.61 142.992 476.61 M142.992 472.906 Q148.802 472.906 151.857 477.513 Q154.936 482.096 154.936 490.846 Q154.936 499.573 151.857 504.179 Q148.802 508.763 142.992 508.763 Q137.181 508.763 134.103 504.179 Q131.047 499.573 131.047 490.846 Q131.047 482.096 134.103 477.513 Q137.181 472.906 142.992 472.906 Z\" fill=\"#000000\" fill-rule=\"evenodd\" fill-opacity=\"1\" /><path clip-path=\"url(#clip570)\" d=\"M98.7557 299.559 Q95.1447 299.559 93.316 303.123 Q91.5104 306.665 91.5104 313.795 Q91.5104 320.901 93.316 324.466 Q95.1447 328.007 98.7557 328.007 Q102.39 328.007 104.196 324.466 Q106.024 320.901 106.024 313.795 Q106.024 306.665 104.196 303.123 Q102.39 299.559 98.7557 299.559 M98.7557 295.855 Q104.566 295.855 107.621 300.461 Q110.7 305.045 110.7 313.795 Q110.7 322.521 107.621 327.128 Q104.566 331.711 98.7557 331.711 Q92.9456 331.711 89.8669 327.128 Q86.8114 322.521 86.8114 313.795 Q86.8114 305.045 89.8669 300.461 Q92.9456 295.855 98.7557 295.855 Z\" fill=\"#000000\" fill-rule=\"evenodd\" fill-opacity=\"1\" /><path clip-path=\"url(#clip570)\" d=\"M118.918 325.16 L123.802 325.16 L123.802 331.04 L118.918 331.04 L118.918 325.16 Z\" fill=\"#000000\" fill-rule=\"evenodd\" fill-opacity=\"1\" /><path clip-path=\"url(#clip570)\" d=\"M134.033 296.48 L152.39 296.48 L152.39 300.415 L138.316 300.415 L138.316 308.887 Q139.334 308.54 140.353 308.378 Q141.371 308.193 142.39 308.193 Q148.177 308.193 151.556 311.364 Q154.936 314.535 154.936 319.952 Q154.936 325.531 151.464 328.632 Q147.992 331.711 141.672 331.711 Q139.496 331.711 137.228 331.341 Q134.982 330.97 132.575 330.23 L132.575 325.531 Q134.658 326.665 136.881 327.22 Q139.103 327.776 141.58 327.776 Q145.584 327.776 147.922 325.67 Q150.26 323.563 150.26 319.952 Q150.26 316.341 147.922 314.234 Q145.584 312.128 141.58 312.128 Q139.705 312.128 137.83 312.545 Q135.978 312.961 134.033 313.841 L134.033 296.48 Z\" fill=\"#000000\" fill-rule=\"evenodd\" fill-opacity=\"1\" /><path clip-path=\"url(#clip570)\" d=\"M88.5706 150.053 L96.2095 150.053 L96.2095 123.688 L87.8993 125.354 L87.8993 121.095 L96.1632 119.428 L100.839 119.428 L100.839 150.053 L108.478 150.053 L108.478 153.988 L88.5706 153.988 L88.5706 150.053 Z\" fill=\"#000000\" fill-rule=\"evenodd\" fill-opacity=\"1\" /><path clip-path=\"url(#clip570)\" d=\"M117.922 148.109 L122.807 148.109 L122.807 153.988 L117.922 153.988 L117.922 148.109 Z\" fill=\"#000000\" fill-rule=\"evenodd\" fill-opacity=\"1\" /><path clip-path=\"url(#clip570)\" d=\"M142.992 122.507 Q139.381 122.507 137.552 126.072 Q135.746 129.614 135.746 136.743 Q135.746 143.85 137.552 147.414 Q139.381 150.956 142.992 150.956 Q146.626 150.956 148.431 147.414 Q150.26 143.85 150.26 136.743 Q150.26 129.614 148.431 126.072 Q146.626 122.507 142.992 122.507 M142.992 118.803 Q148.802 118.803 151.857 123.41 Q154.936 127.993 154.936 136.743 Q154.936 145.47 151.857 150.076 Q148.802 154.66 142.992 154.66 Q137.181 154.66 134.103 150.076 Q131.047 145.47 131.047 136.743 Q131.047 127.993 134.103 123.41 Q137.181 118.803 142.992 118.803 Z\" fill=\"#000000\" fill-rule=\"evenodd\" fill-opacity=\"1\" /><circle clip-path=\"url(#clip572)\" cx=\"1203.24\" cy=\"300.53\" r=\"14\" fill=\"#4682b4\" fill-rule=\"evenodd\" fill-opacity=\"1\" stroke=\"#000000\" stroke-opacity=\"1\" stroke-width=\"2\"/>\n",
       "<circle clip-path=\"url(#clip572)\" cx=\"1541.66\" cy=\"808.032\" r=\"14\" fill=\"#4682b4\" fill-rule=\"evenodd\" fill-opacity=\"1\" stroke=\"#000000\" stroke-opacity=\"1\" stroke-width=\"2\"/>\n",
       "<circle clip-path=\"url(#clip572)\" cx=\"1318.34\" cy=\"807.849\" r=\"14\" fill=\"#4682b4\" fill-rule=\"evenodd\" fill-opacity=\"1\" stroke=\"#000000\" stroke-opacity=\"1\" stroke-width=\"2\"/>\n",
       "<circle clip-path=\"url(#clip572)\" cx=\"1808.5\" cy=\"747.612\" r=\"14\" fill=\"#4682b4\" fill-rule=\"evenodd\" fill-opacity=\"1\" stroke=\"#000000\" stroke-opacity=\"1\" stroke-width=\"2\"/>\n",
       "<circle clip-path=\"url(#clip572)\" cx=\"1839.92\" cy=\"732.958\" r=\"14\" fill=\"#4682b4\" fill-rule=\"evenodd\" fill-opacity=\"1\" stroke=\"#000000\" stroke-opacity=\"1\" stroke-width=\"2\"/>\n",
       "<circle clip-path=\"url(#clip572)\" cx=\"1450.79\" cy=\"112.185\" r=\"14\" fill=\"#4682b4\" fill-rule=\"evenodd\" fill-opacity=\"1\" stroke=\"#000000\" stroke-opacity=\"1\" stroke-width=\"2\"/>\n",
       "<circle clip-path=\"url(#clip572)\" cx=\"1369.08\" cy=\"715.288\" r=\"14\" fill=\"#4682b4\" fill-rule=\"evenodd\" fill-opacity=\"1\" stroke=\"#000000\" stroke-opacity=\"1\" stroke-width=\"2\"/>\n",
       "<circle clip-path=\"url(#clip572)\" cx=\"1866.92\" cy=\"640.272\" r=\"14\" fill=\"#4682b4\" fill-rule=\"evenodd\" fill-opacity=\"1\" stroke=\"#000000\" stroke-opacity=\"1\" stroke-width=\"2\"/>\n",
       "<circle clip-path=\"url(#clip572)\" cx=\"1758.84\" cy=\"236.808\" r=\"14\" fill=\"#4682b4\" fill-rule=\"evenodd\" fill-opacity=\"1\" stroke=\"#000000\" stroke-opacity=\"1\" stroke-width=\"2\"/>\n",
       "<circle clip-path=\"url(#clip572)\" cx=\"1441.12\" cy=\"79.4437\" r=\"14\" fill=\"#4682b4\" fill-rule=\"evenodd\" fill-opacity=\"1\" stroke=\"#000000\" stroke-opacity=\"1\" stroke-width=\"2\"/>\n",
       "<circle clip-path=\"url(#clip572)\" cx=\"1969.45\" cy=\"406.319\" r=\"14\" fill=\"#4682b4\" fill-rule=\"evenodd\" fill-opacity=\"1\" stroke=\"#000000\" stroke-opacity=\"1\" stroke-width=\"2\"/>\n",
       "<circle clip-path=\"url(#clip572)\" cx=\"1311.29\" cy=\"752.86\" r=\"14\" fill=\"#4682b4\" fill-rule=\"evenodd\" fill-opacity=\"1\" stroke=\"#000000\" stroke-opacity=\"1\" stroke-width=\"2\"/>\n",
       "<circle clip-path=\"url(#clip572)\" cx=\"1740.71\" cy=\"739.943\" r=\"14\" fill=\"#4682b4\" fill-rule=\"evenodd\" fill-opacity=\"1\" stroke=\"#000000\" stroke-opacity=\"1\" stroke-width=\"2\"/>\n",
       "<circle clip-path=\"url(#clip572)\" cx=\"1466.06\" cy=\"814.477\" r=\"14\" fill=\"#4682b4\" fill-rule=\"evenodd\" fill-opacity=\"1\" stroke=\"#000000\" stroke-opacity=\"1\" stroke-width=\"2\"/>\n",
       "<circle clip-path=\"url(#clip572)\" cx=\"1959.13\" cy=\"290.207\" r=\"14\" fill=\"#4682b4\" fill-rule=\"evenodd\" fill-opacity=\"1\" stroke=\"#000000\" stroke-opacity=\"1\" stroke-width=\"2\"/>\n",
       "<circle clip-path=\"url(#clip572)\" cx=\"1707.95\" cy=\"135.459\" r=\"14\" fill=\"#4682b4\" fill-rule=\"evenodd\" fill-opacity=\"1\" stroke=\"#000000\" stroke-opacity=\"1\" stroke-width=\"2\"/>\n",
       "<circle clip-path=\"url(#clip572)\" cx=\"1264.68\" cy=\"234.238\" r=\"14\" fill=\"#4682b4\" fill-rule=\"evenodd\" fill-opacity=\"1\" stroke=\"#000000\" stroke-opacity=\"1\" stroke-width=\"2\"/>\n",
       "<circle clip-path=\"url(#clip572)\" cx=\"1533.67\" cy=\"839.492\" r=\"14\" fill=\"#4682b4\" fill-rule=\"evenodd\" fill-opacity=\"1\" stroke=\"#000000\" stroke-opacity=\"1\" stroke-width=\"2\"/>\n",
       "<circle clip-path=\"url(#clip572)\" cx=\"1350.48\" cy=\"691.592\" r=\"14\" fill=\"#4682b4\" fill-rule=\"evenodd\" fill-opacity=\"1\" stroke=\"#000000\" stroke-opacity=\"1\" stroke-width=\"2\"/>\n",
       "<circle clip-path=\"url(#clip572)\" cx=\"1654.78\" cy=\"796.411\" r=\"14\" fill=\"#4682b4\" fill-rule=\"evenodd\" fill-opacity=\"1\" stroke=\"#000000\" stroke-opacity=\"1\" stroke-width=\"2\"/>\n",
       "<circle clip-path=\"url(#clip572)\" cx=\"1605.17\" cy=\"780.582\" r=\"14\" fill=\"#4682b4\" fill-rule=\"evenodd\" fill-opacity=\"1\" stroke=\"#000000\" stroke-opacity=\"1\" stroke-width=\"2\"/>\n",
       "<circle clip-path=\"url(#clip572)\" cx=\"1337.36\" cy=\"204.991\" r=\"14\" fill=\"#4682b4\" fill-rule=\"evenodd\" fill-opacity=\"1\" stroke=\"#000000\" stroke-opacity=\"1\" stroke-width=\"2\"/>\n",
       "<circle clip-path=\"url(#clip572)\" cx=\"1955.05\" cy=\"398.645\" r=\"14\" fill=\"#4682b4\" fill-rule=\"evenodd\" fill-opacity=\"1\" stroke=\"#000000\" stroke-opacity=\"1\" stroke-width=\"2\"/>\n",
       "<circle clip-path=\"url(#clip572)\" cx=\"1656.39\" cy=\"104.061\" r=\"14\" fill=\"#4682b4\" fill-rule=\"evenodd\" fill-opacity=\"1\" stroke=\"#000000\" stroke-opacity=\"1\" stroke-width=\"2\"/>\n",
       "<circle clip-path=\"url(#clip572)\" cx=\"1362.98\" cy=\"210.317\" r=\"14\" fill=\"#4682b4\" fill-rule=\"evenodd\" fill-opacity=\"1\" stroke=\"#000000\" stroke-opacity=\"1\" stroke-width=\"2\"/>\n",
       "<circle clip-path=\"url(#clip572)\" cx=\"1360.89\" cy=\"701.251\" r=\"14\" fill=\"#4682b4\" fill-rule=\"evenodd\" fill-opacity=\"1\" stroke=\"#000000\" stroke-opacity=\"1\" stroke-width=\"2\"/>\n",
       "<circle clip-path=\"url(#clip572)\" cx=\"1978.06\" cy=\"308.645\" r=\"14\" fill=\"#4682b4\" fill-rule=\"evenodd\" fill-opacity=\"1\" stroke=\"#000000\" stroke-opacity=\"1\" stroke-width=\"2\"/>\n",
       "<circle clip-path=\"url(#clip572)\" cx=\"1796.14\" cy=\"143.569\" r=\"14\" fill=\"#4682b4\" fill-rule=\"evenodd\" fill-opacity=\"1\" stroke=\"#000000\" stroke-opacity=\"1\" stroke-width=\"2\"/>\n",
       "<circle clip-path=\"url(#clip572)\" cx=\"1212.36\" cy=\"449.427\" r=\"14\" fill=\"#4682b4\" fill-rule=\"evenodd\" fill-opacity=\"1\" stroke=\"#000000\" stroke-opacity=\"1\" stroke-width=\"2\"/>\n",
       "<circle clip-path=\"url(#clip572)\" cx=\"1413.44\" cy=\"827.65\" r=\"14\" fill=\"#4682b4\" fill-rule=\"evenodd\" fill-opacity=\"1\" stroke=\"#000000\" stroke-opacity=\"1\" stroke-width=\"2\"/>\n",
       "<circle clip-path=\"url(#clip572)\" cx=\"1813.85\" cy=\"833.007\" r=\"14\" fill=\"#4682b4\" fill-rule=\"evenodd\" fill-opacity=\"1\" stroke=\"#000000\" stroke-opacity=\"1\" stroke-width=\"2\"/>\n",
       "<circle clip-path=\"url(#clip572)\" cx=\"1833.17\" cy=\"184.975\" r=\"14\" fill=\"#4682b4\" fill-rule=\"evenodd\" fill-opacity=\"1\" stroke=\"#000000\" stroke-opacity=\"1\" stroke-width=\"2\"/>\n",
       "<circle clip-path=\"url(#clip572)\" cx=\"1806.46\" cy=\"711.353\" r=\"14\" fill=\"#4682b4\" fill-rule=\"evenodd\" fill-opacity=\"1\" stroke=\"#000000\" stroke-opacity=\"1\" stroke-width=\"2\"/>\n",
       "<circle clip-path=\"url(#clip572)\" cx=\"1433.17\" cy=\"803.614\" r=\"14\" fill=\"#4682b4\" fill-rule=\"evenodd\" fill-opacity=\"1\" stroke=\"#000000\" stroke-opacity=\"1\" stroke-width=\"2\"/>\n",
       "<circle clip-path=\"url(#clip572)\" cx=\"1328.56\" cy=\"536.187\" r=\"14\" fill=\"#4682b4\" fill-rule=\"evenodd\" fill-opacity=\"1\" stroke=\"#000000\" stroke-opacity=\"1\" stroke-width=\"2\"/>\n",
       "<circle clip-path=\"url(#clip572)\" cx=\"1514.52\" cy=\"831.637\" r=\"14\" fill=\"#4682b4\" fill-rule=\"evenodd\" fill-opacity=\"1\" stroke=\"#000000\" stroke-opacity=\"1\" stroke-width=\"2\"/>\n",
       "<circle clip-path=\"url(#clip572)\" cx=\"1563.4\" cy=\"819.706\" r=\"14\" fill=\"#4682b4\" fill-rule=\"evenodd\" fill-opacity=\"1\" stroke=\"#000000\" stroke-opacity=\"1\" stroke-width=\"2\"/>\n",
       "<circle clip-path=\"url(#clip572)\" cx=\"1940.67\" cy=\"501.829\" r=\"14\" fill=\"#4682b4\" fill-rule=\"evenodd\" fill-opacity=\"1\" stroke=\"#000000\" stroke-opacity=\"1\" stroke-width=\"2\"/>\n",
       "<circle clip-path=\"url(#clip572)\" cx=\"1260.07\" cy=\"388.219\" r=\"14\" fill=\"#4682b4\" fill-rule=\"evenodd\" fill-opacity=\"1\" stroke=\"#000000\" stroke-opacity=\"1\" stroke-width=\"2\"/>\n",
       "<circle clip-path=\"url(#clip572)\" cx=\"1842.83\" cy=\"678.197\" r=\"14\" fill=\"#4682b4\" fill-rule=\"evenodd\" fill-opacity=\"1\" stroke=\"#000000\" stroke-opacity=\"1\" stroke-width=\"2\"/>\n",
       "<circle clip-path=\"url(#clip572)\" cx=\"1473.57\" cy=\"90.4094\" r=\"14\" fill=\"#4682b4\" fill-rule=\"evenodd\" fill-opacity=\"1\" stroke=\"#000000\" stroke-opacity=\"1\" stroke-width=\"2\"/>\n",
       "<circle clip-path=\"url(#clip572)\" cx=\"1766.63\" cy=\"167.06\" r=\"14\" fill=\"#4682b4\" fill-rule=\"evenodd\" fill-opacity=\"1\" stroke=\"#000000\" stroke-opacity=\"1\" stroke-width=\"2\"/>\n",
       "<circle clip-path=\"url(#clip572)\" cx=\"1563.43\" cy=\"768.781\" r=\"14\" fill=\"#4682b4\" fill-rule=\"evenodd\" fill-opacity=\"1\" stroke=\"#000000\" stroke-opacity=\"1\" stroke-width=\"2\"/>\n",
       "<circle clip-path=\"url(#clip572)\" cx=\"1915.82\" cy=\"415.779\" r=\"14\" fill=\"#4682b4\" fill-rule=\"evenodd\" fill-opacity=\"1\" stroke=\"#000000\" stroke-opacity=\"1\" stroke-width=\"2\"/>\n",
       "<circle clip-path=\"url(#clip572)\" cx=\"1257.55\" cy=\"315.727\" r=\"14\" fill=\"#4682b4\" fill-rule=\"evenodd\" fill-opacity=\"1\" stroke=\"#000000\" stroke-opacity=\"1\" stroke-width=\"2\"/>\n",
       "<circle clip-path=\"url(#clip572)\" cx=\"1638.44\" cy=\"857.579\" r=\"14\" fill=\"#4682b4\" fill-rule=\"evenodd\" fill-opacity=\"1\" stroke=\"#000000\" stroke-opacity=\"1\" stroke-width=\"2\"/>\n",
       "<circle clip-path=\"url(#clip572)\" cx=\"1318.76\" cy=\"246.387\" r=\"14\" fill=\"#4682b4\" fill-rule=\"evenodd\" fill-opacity=\"1\" stroke=\"#000000\" stroke-opacity=\"1\" stroke-width=\"2\"/>\n",
       "<circle clip-path=\"url(#clip572)\" cx=\"1228.76\" cy=\"598.185\" r=\"14\" fill=\"#4682b4\" fill-rule=\"evenodd\" fill-opacity=\"1\" stroke=\"#000000\" stroke-opacity=\"1\" stroke-width=\"2\"/>\n",
       "<circle clip-path=\"url(#clip572)\" cx=\"1456.04\" cy=\"98.3189\" r=\"14\" fill=\"#4682b4\" fill-rule=\"evenodd\" fill-opacity=\"1\" stroke=\"#000000\" stroke-opacity=\"1\" stroke-width=\"2\"/>\n",
       "<circle clip-path=\"url(#clip572)\" cx=\"1312.07\" cy=\"681.59\" r=\"14\" fill=\"#4682b4\" fill-rule=\"evenodd\" fill-opacity=\"1\" stroke=\"#000000\" stroke-opacity=\"1\" stroke-width=\"2\"/>\n",
       "<circle clip-path=\"url(#clip572)\" cx=\"1710.74\" cy=\"144.605\" r=\"14\" fill=\"#4682b4\" fill-rule=\"evenodd\" fill-opacity=\"1\" stroke=\"#000000\" stroke-opacity=\"1\" stroke-width=\"2\"/>\n",
       "<circle clip-path=\"url(#clip572)\" cx=\"1330.97\" cy=\"667.559\" r=\"14\" fill=\"#4682b4\" fill-rule=\"evenodd\" fill-opacity=\"1\" stroke=\"#000000\" stroke-opacity=\"1\" stroke-width=\"2\"/>\n",
       "<circle clip-path=\"url(#clip572)\" cx=\"1564.84\" cy=\"71.654\" r=\"14\" fill=\"#4682b4\" fill-rule=\"evenodd\" fill-opacity=\"1\" stroke=\"#000000\" stroke-opacity=\"1\" stroke-width=\"2\"/>\n",
       "<circle clip-path=\"url(#clip572)\" cx=\"1230.57\" cy=\"556.515\" r=\"14\" fill=\"#4682b4\" fill-rule=\"evenodd\" fill-opacity=\"1\" stroke=\"#000000\" stroke-opacity=\"1\" stroke-width=\"2\"/>\n",
       "<circle clip-path=\"url(#clip572)\" cx=\"1459.33\" cy=\"124.806\" r=\"14\" fill=\"#4682b4\" fill-rule=\"evenodd\" fill-opacity=\"1\" stroke=\"#000000\" stroke-opacity=\"1\" stroke-width=\"2\"/>\n",
       "<circle clip-path=\"url(#clip572)\" cx=\"1706.01\" cy=\"138.776\" r=\"14\" fill=\"#4682b4\" fill-rule=\"evenodd\" fill-opacity=\"1\" stroke=\"#000000\" stroke-opacity=\"1\" stroke-width=\"2\"/>\n",
       "<circle clip-path=\"url(#clip572)\" cx=\"1913.09\" cy=\"233.616\" r=\"14\" fill=\"#4682b4\" fill-rule=\"evenodd\" fill-opacity=\"1\" stroke=\"#000000\" stroke-opacity=\"1\" stroke-width=\"2\"/>\n",
       "<circle clip-path=\"url(#clip572)\" cx=\"1446.31\" cy=\"824.517\" r=\"14\" fill=\"#4682b4\" fill-rule=\"evenodd\" fill-opacity=\"1\" stroke=\"#000000\" stroke-opacity=\"1\" stroke-width=\"2\"/>\n",
       "<circle clip-path=\"url(#clip572)\" cx=\"1363.7\" cy=\"653.625\" r=\"14\" fill=\"#4682b4\" fill-rule=\"evenodd\" fill-opacity=\"1\" stroke=\"#000000\" stroke-opacity=\"1\" stroke-width=\"2\"/>\n",
       "<circle clip-path=\"url(#clip572)\" cx=\"1637.69\" cy=\"113.719\" r=\"14\" fill=\"#4682b4\" fill-rule=\"evenodd\" fill-opacity=\"1\" stroke=\"#000000\" stroke-opacity=\"1\" stroke-width=\"2\"/>\n",
       "<circle clip-path=\"url(#clip572)\" cx=\"1298.14\" cy=\"729.772\" r=\"14\" fill=\"#4682b4\" fill-rule=\"evenodd\" fill-opacity=\"1\" stroke=\"#000000\" stroke-opacity=\"1\" stroke-width=\"2\"/>\n",
       "<circle clip-path=\"url(#clip572)\" cx=\"1263.83\" cy=\"513.66\" r=\"14\" fill=\"#4682b4\" fill-rule=\"evenodd\" fill-opacity=\"1\" stroke=\"#000000\" stroke-opacity=\"1\" stroke-width=\"2\"/>\n",
       "<circle clip-path=\"url(#clip572)\" cx=\"1657.64\" cy=\"138.799\" r=\"14\" fill=\"#4682b4\" fill-rule=\"evenodd\" fill-opacity=\"1\" stroke=\"#000000\" stroke-opacity=\"1\" stroke-width=\"2\"/>\n",
       "<circle clip-path=\"url(#clip572)\" cx=\"1208.99\" cy=\"483.974\" r=\"14\" fill=\"#4682b4\" fill-rule=\"evenodd\" fill-opacity=\"1\" stroke=\"#000000\" stroke-opacity=\"1\" stroke-width=\"2\"/>\n",
       "<circle clip-path=\"url(#clip572)\" cx=\"1366.27\" cy=\"560.367\" r=\"14\" fill=\"#4682b4\" fill-rule=\"evenodd\" fill-opacity=\"1\" stroke=\"#000000\" stroke-opacity=\"1\" stroke-width=\"2\"/>\n",
       "<circle clip-path=\"url(#clip572)\" cx=\"1295.1\" cy=\"249.511\" r=\"14\" fill=\"#4682b4\" fill-rule=\"evenodd\" fill-opacity=\"1\" stroke=\"#000000\" stroke-opacity=\"1\" stroke-width=\"2\"/>\n",
       "<circle clip-path=\"url(#clip572)\" cx=\"1874.24\" cy=\"699.035\" r=\"14\" fill=\"#4682b4\" fill-rule=\"evenodd\" fill-opacity=\"1\" stroke=\"#000000\" stroke-opacity=\"1\" stroke-width=\"2\"/>\n",
       "<circle clip-path=\"url(#clip572)\" cx=\"1356.07\" cy=\"744.761\" r=\"14\" fill=\"#4682b4\" fill-rule=\"evenodd\" fill-opacity=\"1\" stroke=\"#000000\" stroke-opacity=\"1\" stroke-width=\"2\"/>\n",
       "<circle clip-path=\"url(#clip572)\" cx=\"1213.88\" cy=\"360.422\" r=\"14\" fill=\"#4682b4\" fill-rule=\"evenodd\" fill-opacity=\"1\" stroke=\"#000000\" stroke-opacity=\"1\" stroke-width=\"2\"/>\n",
       "<circle clip-path=\"url(#clip572)\" cx=\"1576.89\" cy=\"803.081\" r=\"14\" fill=\"#4682b4\" fill-rule=\"evenodd\" fill-opacity=\"1\" stroke=\"#000000\" stroke-opacity=\"1\" stroke-width=\"2\"/>\n",
       "<circle clip-path=\"url(#clip572)\" cx=\"1335.66\" cy=\"712.884\" r=\"14\" fill=\"#4682b4\" fill-rule=\"evenodd\" fill-opacity=\"1\" stroke=\"#000000\" stroke-opacity=\"1\" stroke-width=\"2\"/>\n",
       "<circle clip-path=\"url(#clip572)\" cx=\"1573.42\" cy=\"877.2\" r=\"14\" fill=\"#4682b4\" fill-rule=\"evenodd\" fill-opacity=\"1\" stroke=\"#000000\" stroke-opacity=\"1\" stroke-width=\"2\"/>\n",
       "<circle clip-path=\"url(#clip572)\" cx=\"1796.37\" cy=\"770.234\" r=\"14\" fill=\"#4682b4\" fill-rule=\"evenodd\" fill-opacity=\"1\" stroke=\"#000000\" stroke-opacity=\"1\" stroke-width=\"2\"/>\n",
       "<circle clip-path=\"url(#clip572)\" cx=\"1845.82\" cy=\"264.087\" r=\"14\" fill=\"#4682b4\" fill-rule=\"evenodd\" fill-opacity=\"1\" stroke=\"#000000\" stroke-opacity=\"1\" stroke-width=\"2\"/>\n",
       "<circle clip-path=\"url(#clip572)\" cx=\"1416.38\" cy=\"781.874\" r=\"14\" fill=\"#4682b4\" fill-rule=\"evenodd\" fill-opacity=\"1\" stroke=\"#000000\" stroke-opacity=\"1\" stroke-width=\"2\"/>\n",
       "<circle clip-path=\"url(#clip572)\" cx=\"1466.61\" cy=\"108.897\" r=\"14\" fill=\"#4682b4\" fill-rule=\"evenodd\" fill-opacity=\"1\" stroke=\"#000000\" stroke-opacity=\"1\" stroke-width=\"2\"/>\n",
       "<circle clip-path=\"url(#clip572)\" cx=\"1451.13\" cy=\"885.318\" r=\"14\" fill=\"#4682b4\" fill-rule=\"evenodd\" fill-opacity=\"1\" stroke=\"#000000\" stroke-opacity=\"1\" stroke-width=\"2\"/>\n",
       "<circle clip-path=\"url(#clip572)\" cx=\"1236.92\" cy=\"307.426\" r=\"14\" fill=\"#4682b4\" fill-rule=\"evenodd\" fill-opacity=\"1\" stroke=\"#000000\" stroke-opacity=\"1\" stroke-width=\"2\"/>\n",
       "<circle clip-path=\"url(#clip572)\" cx=\"1669.06\" cy=\"124.901\" r=\"14\" fill=\"#4682b4\" fill-rule=\"evenodd\" fill-opacity=\"1\" stroke=\"#000000\" stroke-opacity=\"1\" stroke-width=\"2\"/>\n",
       "<circle clip-path=\"url(#clip572)\" cx=\"1314.85\" cy=\"292.92\" r=\"14\" fill=\"#4682b4\" fill-rule=\"evenodd\" fill-opacity=\"1\" stroke=\"#000000\" stroke-opacity=\"1\" stroke-width=\"2\"/>\n",
       "<circle clip-path=\"url(#clip572)\" cx=\"1798.93\" cy=\"702.879\" r=\"14\" fill=\"#4682b4\" fill-rule=\"evenodd\" fill-opacity=\"1\" stroke=\"#000000\" stroke-opacity=\"1\" stroke-width=\"2\"/>\n",
       "<circle clip-path=\"url(#clip572)\" cx=\"1848.97\" cy=\"256.125\" r=\"14\" fill=\"#4682b4\" fill-rule=\"evenodd\" fill-opacity=\"1\" stroke=\"#000000\" stroke-opacity=\"1\" stroke-width=\"2\"/>\n",
       "<circle clip-path=\"url(#clip572)\" cx=\"1868.88\" cy=\"231.384\" r=\"14\" fill=\"#4682b4\" fill-rule=\"evenodd\" fill-opacity=\"1\" stroke=\"#000000\" stroke-opacity=\"1\" stroke-width=\"2\"/>\n",
       "<circle clip-path=\"url(#clip572)\" cx=\"1318.5\" cy=\"298.406\" r=\"14\" fill=\"#4682b4\" fill-rule=\"evenodd\" fill-opacity=\"1\" stroke=\"#000000\" stroke-opacity=\"1\" stroke-width=\"2\"/>\n",
       "<circle clip-path=\"url(#clip572)\" cx=\"1897.16\" cy=\"512.433\" r=\"14\" fill=\"#4682b4\" fill-rule=\"evenodd\" fill-opacity=\"1\" stroke=\"#000000\" stroke-opacity=\"1\" stroke-width=\"2\"/>\n",
       "<circle clip-path=\"url(#clip572)\" cx=\"1375.7\" cy=\"764.748\" r=\"14\" fill=\"#4682b4\" fill-rule=\"evenodd\" fill-opacity=\"1\" stroke=\"#000000\" stroke-opacity=\"1\" stroke-width=\"2\"/>\n",
       "<circle clip-path=\"url(#clip572)\" cx=\"1297.59\" cy=\"301.13\" r=\"14\" fill=\"#4682b4\" fill-rule=\"evenodd\" fill-opacity=\"1\" stroke=\"#000000\" stroke-opacity=\"1\" stroke-width=\"2\"/>\n",
       "<circle clip-path=\"url(#clip572)\" cx=\"1564.64\" cy=\"102.507\" r=\"14\" fill=\"#4682b4\" fill-rule=\"evenodd\" fill-opacity=\"1\" stroke=\"#000000\" stroke-opacity=\"1\" stroke-width=\"2\"/>\n",
       "<circle clip-path=\"url(#clip572)\" cx=\"1826.39\" cy=\"791.88\" r=\"14\" fill=\"#4682b4\" fill-rule=\"evenodd\" fill-opacity=\"1\" stroke=\"#000000\" stroke-opacity=\"1\" stroke-width=\"2\"/>\n",
       "<circle clip-path=\"url(#clip572)\" cx=\"1272.37\" cy=\"333.214\" r=\"14\" fill=\"#4682b4\" fill-rule=\"evenodd\" fill-opacity=\"1\" stroke=\"#000000\" stroke-opacity=\"1\" stroke-width=\"2\"/>\n",
       "<circle clip-path=\"url(#clip572)\" cx=\"1725.44\" cy=\"100.818\" r=\"14\" fill=\"#4682b4\" fill-rule=\"evenodd\" fill-opacity=\"1\" stroke=\"#000000\" stroke-opacity=\"1\" stroke-width=\"2\"/>\n",
       "<circle clip-path=\"url(#clip572)\" cx=\"1174.63\" cy=\"555.085\" r=\"14\" fill=\"#4682b4\" fill-rule=\"evenodd\" fill-opacity=\"1\" stroke=\"#000000\" stroke-opacity=\"1\" stroke-width=\"2\"/>\n",
       "<circle clip-path=\"url(#clip572)\" cx=\"1791.18\" cy=\"708.847\" r=\"14\" fill=\"#4682b4\" fill-rule=\"evenodd\" fill-opacity=\"1\" stroke=\"#000000\" stroke-opacity=\"1\" stroke-width=\"2\"/>\n",
       "<circle clip-path=\"url(#clip572)\" cx=\"1520.06\" cy=\"843.724\" r=\"14\" fill=\"#4682b4\" fill-rule=\"evenodd\" fill-opacity=\"1\" stroke=\"#000000\" stroke-opacity=\"1\" stroke-width=\"2\"/>\n",
       "<circle clip-path=\"url(#clip572)\" cx=\"1258.25\" cy=\"434.426\" r=\"14\" fill=\"#4682b4\" fill-rule=\"evenodd\" fill-opacity=\"1\" stroke=\"#000000\" stroke-opacity=\"1\" stroke-width=\"2\"/>\n",
       "<circle clip-path=\"url(#clip572)\" cx=\"1703.74\" cy=\"781.049\" r=\"14\" fill=\"#4682b4\" fill-rule=\"evenodd\" fill-opacity=\"1\" stroke=\"#000000\" stroke-opacity=\"1\" stroke-width=\"2\"/>\n",
       "<circle clip-path=\"url(#clip572)\" cx=\"1223.19\" cy=\"583.434\" r=\"14\" fill=\"#4682b4\" fill-rule=\"evenodd\" fill-opacity=\"1\" stroke=\"#000000\" stroke-opacity=\"1\" stroke-width=\"2\"/>\n",
       "<circle clip-path=\"url(#clip572)\" cx=\"1570.57\" cy=\"864.681\" r=\"14\" fill=\"#4682b4\" fill-rule=\"evenodd\" fill-opacity=\"1\" stroke=\"#000000\" stroke-opacity=\"1\" stroke-width=\"2\"/>\n",
       "<circle clip-path=\"url(#clip572)\" cx=\"1939.86\" cy=\"310.685\" r=\"14\" fill=\"#4682b4\" fill-rule=\"evenodd\" fill-opacity=\"1\" stroke=\"#000000\" stroke-opacity=\"1\" stroke-width=\"2\"/>\n",
       "<circle clip-path=\"url(#clip572)\" cx=\"1706.01\" cy=\"125.509\" r=\"14\" fill=\"#4682b4\" fill-rule=\"evenodd\" fill-opacity=\"1\" stroke=\"#000000\" stroke-opacity=\"1\" stroke-width=\"2\"/>\n",
       "</svg>\n"
      ]
     },
     "execution_count": 86,
     "metadata": {},
     "output_type": "execute_result"
    }
   ],
   "source": [
    "X_mat = hcat(X...);\n",
    "scatter(X_mat[1,:], X_mat[2,:], \n",
    "        color = :steelblue, size = (750,250), aspect_ratio = :equal, legend = false)"
   ]
  },
  {
   "cell_type": "markdown",
   "metadata": {},
   "source": [
    "We suspect that there is a polynomial of degree 2 vanishing on the data set.\n",
    "\n",
    "To detect this using PCA we introduce the feature map $\\phi :\\mathbb R^2 \\to \\mathbb R^6$ that sends $x$ to all monomials of degree at most 2 in $x$."
   ]
  },
  {
   "cell_type": "code",
   "execution_count": 87,
   "metadata": {},
   "outputs": [
    {
     "data": {
      "text/plain": [
       "ϕ (generic function with 1 method)"
      ]
     },
     "execution_count": 87,
     "metadata": {},
     "output_type": "execute_result"
    }
   ],
   "source": [
    "ϕ(x) = [1; x[1]; x[2]; x[1]*x[2]; x[1]^2; x[2]^2]"
   ]
  },
  {
   "cell_type": "markdown",
   "metadata": {},
   "source": [
    "The corresponding feature matrix is $\\Omega$."
   ]
  },
  {
   "cell_type": "code",
   "execution_count": 88,
   "metadata": {},
   "outputs": [],
   "source": [
    "Ω = hcat(map(ϕ, X)...) |> transpose;"
   ]
  },
  {
   "cell_type": "code",
   "execution_count": 89,
   "metadata": {},
   "outputs": [
    {
     "data": {
      "text/plain": [
       "(100, 6)"
      ]
     },
     "execution_count": 89,
     "metadata": {},
     "output_type": "execute_result"
    }
   ],
   "source": [
    "size(Ω)"
   ]
  },
  {
   "cell_type": "markdown",
   "metadata": {},
   "source": [
    "Let us compute a singular value decomposition of $\\Omega$.\n",
    "\n",
    "We extract the singular values in the array `svals`."
   ]
  },
  {
   "cell_type": "code",
   "execution_count": 90,
   "metadata": {},
   "outputs": [
    {
     "data": {
      "text/plain": [
       "6-element Vector{Float64}:\n",
       " 12.492039757561804\n",
       "  7.752828529508795\n",
       "  6.684926021669093\n",
       "  5.029725788531149\n",
       "  3.7555828702495546\n",
       "  1.128970736398507"
      ]
     },
     "execution_count": 90,
     "metadata": {},
     "output_type": "execute_result"
    }
   ],
   "source": [
    "S = svd(Ω)\n",
    "svals = S.S"
   ]
  },
  {
   "cell_type": "markdown",
   "metadata": {},
   "source": [
    "The normalized differences of the entries of `svals` are"
   ]
  },
  {
   "cell_type": "code",
   "execution_count": 91,
   "metadata": {},
   "outputs": [
    {
     "data": {
      "text/plain": [
       "5-element Vector{Float64}:\n",
       " -0.6112880234632606\n",
       " -0.15974784229146458\n",
       " -0.3290835927700383\n",
       " -0.3392663568616524\n",
       " -2.326554665384966"
      ]
     },
     "execution_count": 91,
     "metadata": {},
     "output_type": "execute_result"
    }
   ],
   "source": [
    "diff(svals) ./ svals[2:end]"
   ]
  },
  {
   "cell_type": "markdown",
   "metadata": {},
   "source": [
    "It seems that there is significant gap when passing from the 5th to the 6th singular value.\n",
    "\n",
    "Let us check the singular vector corresponding to the 6th singular value."
   ]
  },
  {
   "cell_type": "code",
   "execution_count": 92,
   "metadata": {},
   "outputs": [
    {
     "name": "stdout",
     "output_type": "stream",
     "text": [
      "-1.07 + -0.229 x₁ + -0.146 x₂ + -0.043 x₁x₂ + 1.064 x₁²+ 1.0 x₂²\n"
     ]
    }
   ],
   "source": [
    "u = S.V[:, 6] \n",
    "f = round.(u ./ u[end], digits = 3)\n",
    "println(\"$(f[1]) + $(f[2]) x₁ + $(f[3]) x₂ + $(f[4]) x₁x₂ + $(f[5]) x₁²+ $(f[6]) x₂²\")"
   ]
  },
  {
   "cell_type": "markdown",
   "metadata": {},
   "source": [
    "This is close to the actual equation $-1 + x_1^2 + x_2^2 = 0$."
   ]
  },
  {
   "cell_type": "markdown",
   "metadata": {},
   "source": [
    "# Geometry of Images\n",
    "\n",
    "Let us next consider data from the [CIFAR10](http://www.cs.toronto.edu/~kriz/cifar.html) dataset."
   ]
  },
  {
   "cell_type": "code",
   "execution_count": 93,
   "metadata": {},
   "outputs": [],
   "source": [
    "data_X, data_Y = CIFAR10.traindata();"
   ]
  },
  {
   "cell_type": "markdown",
   "metadata": {},
   "source": [
    "The dataset contains images of 10 classes of objects:"
   ]
  },
  {
   "cell_type": "code",
   "execution_count": 95,
   "metadata": {},
   "outputs": [],
   "source": [
    "labels = [\"airplane\", \n",
    "          \"automobile\", \n",
    "          \"bird\", \n",
    "          \"cat\", \n",
    "          \"deer\", \n",
    "          \"dog\", \n",
    "          \"frog\", \n",
    "          \"horse\", \n",
    "          \"ship\", \n",
    "          \"truck\"];"
   ]
  },
  {
   "cell_type": "markdown",
   "metadata": {},
   "source": [
    "Let us take the subsset consisting of images of trucks."
   ]
  },
  {
   "cell_type": "code",
   "execution_count": 134,
   "metadata": {},
   "outputs": [],
   "source": [
    "idx = findfirst(labels .== \"cat\") - 1\n",
    "trucks = data_X[:,:,:, data_Y .== idx];"
   ]
  },
  {
   "cell_type": "markdown",
   "metadata": {},
   "source": [
    "We now have 5000 images of trucks."
   ]
  },
  {
   "cell_type": "code",
   "execution_count": 135,
   "metadata": {},
   "outputs": [
    {
     "data": {
      "text/plain": [
       "5000"
      ]
     },
     "execution_count": 135,
     "metadata": {},
     "output_type": "execute_result"
    }
   ],
   "source": [
    "n_images = size(trucks, 4)"
   ]
  },
  {
   "cell_type": "markdown",
   "metadata": {},
   "source": [
    "Each image consists of $D=32 \\cdot 32 \\cdot 3 = 3072$ numerical values. \n",
    "\n",
    "They represent the RGB values of $32\\times 32$ pixels.\n",
    "\n",
    "Thus, we have data in $\\mathbb R^D$."
   ]
  },
  {
   "cell_type": "code",
   "execution_count": 136,
   "metadata": {},
   "outputs": [
    {
     "data": {
      "text/plain": [
       "3072"
      ]
     },
     "execution_count": 136,
     "metadata": {},
     "output_type": "execute_result"
    }
   ],
   "source": [
    "D = 32 * 32 * 3"
   ]
  },
  {
   "cell_type": "markdown",
   "metadata": {},
   "source": [
    "Let us consider a subset $X$ of 500 data points."
   ]
  },
  {
   "cell_type": "code",
   "execution_count": 137,
   "metadata": {},
   "outputs": [],
   "source": [
    "n = 500\n",
    "subsample = sample(1:n_images, n, replace = false)\n",
    "\n",
    "X = map(subsample) do i\n",
    "    xᵢ = vec(trucks[:,:,:,i])\n",
    "    Float64.(xᵢ)\n",
    "    end;"
   ]
  },
  {
   "cell_type": "markdown",
   "metadata": {},
   "source": [
    "We normalize the data."
   ]
  },
  {
   "cell_type": "code",
   "execution_count": 138,
   "metadata": {},
   "outputs": [],
   "source": [
    "x̄ = mean(X);\n",
    "stds = std(X);\n",
    "X = map(x -> (x - x̄) ./ stds, X);"
   ]
  },
  {
   "cell_type": "markdown",
   "metadata": {},
   "source": [
    "Let us take a look at a random subset of 6 images from our data."
   ]
  },
  {
   "cell_type": "code",
   "execution_count": 140,
   "metadata": {},
   "outputs": [
    {
     "data": {
      "text/html": [
       "<table><tbody><tr><td style='text-align:center;vertical-align:middle; margin: 0.5em;border:1px #90999f solid;border-collapse:collapse'><img style='max-width: 100px; max-height:100px;display:inline' src=\"data:image/png;base64,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\"></td><td style='text-align:center;vertical-align:middle; margin: 0.5em;border:1px #90999f solid;border-collapse:collapse'><img style='max-width: 100px; max-height:100px;display:inline' src=\"data:image/png;base64,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\"></td><td style='text-align:center;vertical-align:middle; margin: 0.5em;border:1px #90999f solid;border-collapse:collapse'><img style='max-width: 100px; max-height:100px;display:inline' src=\"data:image/png;base64,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\"></td><td style='text-align:center;vertical-align:middle; margin: 0.5em;border:1px #90999f solid;border-collapse:collapse'><img style='max-width: 100px; max-height:100px;display:inline' src=\"data:image/png;base64,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\"></td><td style='text-align:center;vertical-align:middle; margin: 0.5em;border:1px #90999f solid;border-collapse:collapse'><img style='max-width: 100px; max-height:100px;display:inline' src=\"data:image/png;base64,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\"></td><td style='text-align:center;vertical-align:middle; margin: 0.5em;border:1px #90999f solid;border-collapse:collapse'><img style='max-width: 100px; max-height:100px;display:inline' src=\"data:image/png;base64,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\"></td></tr></tbody></table><div><small>(a vector displayed as a row to save space)</small></div>"
      ],
      "text/plain": [
       "6-element Vector{Base.ReinterpretArray{RGB{N0f8}, 2, N0f8, Array{N0f8, 3}, true}}:\n",
       " [RGB{N0f8}(0.176,0.196,0.196) RGB{N0f8}(0.188,0.204,0.208) … RGB{N0f8}(0.047,0.055,0.078) RGB{N0f8}(0.039,0.047,0.071); RGB{N0f8}(0.188,0.212,0.212) RGB{N0f8}(0.196,0.22,0.22) … RGB{N0f8}(0.239,0.251,0.29) RGB{N0f8}(0.227,0.243,0.278); … ; RGB{N0f8}(0.055,0.043,0.031) RGB{N0f8}(0.165,0.11,0.047) … RGB{N0f8}(0.612,0.478,0.353) RGB{N0f8}(0.588,0.463,0.345); RGB{N0f8}(0.031,0.031,0.024) RGB{N0f8}(0.122,0.082,0.043) … RGB{N0f8}(0.557,0.427,0.302) RGB{N0f8}(0.533,0.408,0.294)]\n",
       " [RGB{N0f8}(0.592,0.643,0.6) RGB{N0f8}(0.592,0.627,0.584) … RGB{N0f8}(0.514,0.553,0.506) RGB{N0f8}(0.518,0.565,0.518); RGB{N0f8}(0.553,0.588,0.545) RGB{N0f8}(0.404,0.404,0.361) … RGB{N0f8}(0.451,0.455,0.396) RGB{N0f8}(0.447,0.467,0.412); … ; RGB{N0f8}(0.506,0.427,0.337) RGB{N0f8}(0.329,0.259,0.176) … RGB{N0f8}(0.541,0.62,0.584) RGB{N0f8}(0.561,0.639,0.604); RGB{N0f8}(0.42,0.349,0.267) RGB{N0f8}(0.361,0.302,0.227) … RGB{N0f8}(0.529,0.608,0.573) RGB{N0f8}(0.553,0.631,0.596)]\n",
       " [RGB{N0f8}(0.6,0.459,0.502) RGB{N0f8}(0.643,0.502,0.561) … RGB{N0f8}(0.133,0.094,0.071) RGB{N0f8}(0.098,0.067,0.063); RGB{N0f8}(0.522,0.416,0.447) RGB{N0f8}(0.573,0.451,0.498) … RGB{N0f8}(0.129,0.09,0.067) RGB{N0f8}(0.094,0.063,0.055); … ; RGB{N0f8}(0.027,0.067,0.102) RGB{N0f8}(0.035,0.075,0.11) … RGB{N0f8}(0.035,0.035,0.063) RGB{N0f8}(0.031,0.031,0.051); RGB{N0f8}(0.027,0.071,0.106) RGB{N0f8}(0.035,0.075,0.11) … RGB{N0f8}(0.039,0.039,0.067) RGB{N0f8}(0.031,0.035,0.055)]\n",
       " [RGB{N0f8}(0.486,0.373,0.322) RGB{N0f8}(0.588,0.451,0.365) … RGB{N0f8}(0.494,0.502,0.471) RGB{N0f8}(0.545,0.557,0.537); RGB{N0f8}(0.506,0.333,0.251) RGB{N0f8}(0.596,0.341,0.243) … RGB{N0f8}(0.541,0.545,0.49) RGB{N0f8}(0.643,0.651,0.616); … ; RGB{N0f8}(0.557,0.337,0.2) RGB{N0f8}(0.62,0.333,0.149) … RGB{N0f8}(0.533,0.278,0.114) RGB{N0f8}(0.49,0.275,0.133); RGB{N0f8}(0.478,0.337,0.255) RGB{N0f8}(0.529,0.333,0.208) … RGB{N0f8}(0.451,0.282,0.18) RGB{N0f8}(0.42,0.267,0.173)]\n",
       " [RGB{N0f8}(0.608,0.612,0.62) RGB{N0f8}(0.6,0.604,0.58) … RGB{N0f8}(0.031,0.027,0.027) RGB{N0f8}(0.071,0.063,0.051); RGB{N0f8}(0.639,0.651,0.667) RGB{N0f8}(0.624,0.627,0.62) … RGB{N0f8}(0.031,0.031,0.031) RGB{N0f8}(0.075,0.055,0.047); … ; RGB{N0f8}(0.545,0.549,0.561) RGB{N0f8}(0.557,0.561,0.565) … RGB{N0f8}(0.235,0.255,0.235) RGB{N0f8}(0.271,0.298,0.278); RGB{N0f8}(0.529,0.533,0.541) RGB{N0f8}(0.541,0.545,0.553) … RGB{N0f8}(0.345,0.38,0.365) RGB{N0f8}(0.318,0.349,0.333)]\n",
       " [RGB{N0f8}(0.573,0.592,0.565) RGB{N0f8}(0.592,0.612,0.584) … RGB{N0f8}(0.612,0.62,0.576) RGB{N0f8}(0.604,0.612,0.569); RGB{N0f8}(0.58,0.6,0.573) RGB{N0f8}(0.608,0.627,0.6) … RGB{N0f8}(0.631,0.635,0.604) RGB{N0f8}(0.608,0.616,0.58); … ; RGB{N0f8}(0.588,0.608,0.588) RGB{N0f8}(0.627,0.643,0.624) … RGB{N0f8}(0.631,0.635,0.604) RGB{N0f8}(0.624,0.627,0.592); RGB{N0f8}(0.498,0.514,0.49) RGB{N0f8}(0.518,0.529,0.502) … RGB{N0f8}(0.6,0.604,0.573) RGB{N0f8}(0.6,0.604,0.573)]"
      ]
     },
     "execution_count": 140,
     "metadata": {},
     "output_type": "execute_result"
    }
   ],
   "source": [
    "k = rand(subsample, 6)\n",
    "[CIFAR10.convert2image(trucks[:,:,:,i]) for i in k]"
   ]
  },
  {
   "cell_type": "markdown",
   "metadata": {},
   "source": [
    "We now want to see if there could be a polynomial equation of degree $k=4$ vanishing on the data.\n",
    "\n",
    "For this, we define the kernel map."
   ]
  },
  {
   "cell_type": "code",
   "execution_count": 141,
   "metadata": {},
   "outputs": [
    {
     "data": {
      "text/plain": [
       "κ (generic function with 1 method)"
      ]
     },
     "execution_count": 141,
     "metadata": {},
     "output_type": "execute_result"
    }
   ],
   "source": [
    "k = 4\n",
    "κ(x₁, x₂) = (x₁ ⋅ x₂ + 1)^k"
   ]
  },
  {
   "cell_type": "markdown",
   "metadata": {},
   "source": [
    "Next, we compute the matrix $R:=W^TW$ from the lecture notes."
   ]
  },
  {
   "cell_type": "code",
   "execution_count": 142,
   "metadata": {},
   "outputs": [],
   "source": [
    "e = ones(n);\n",
    "P = diagm(e) - (1/n) .* (e*e');\n",
    "G = [κ(x₁, x₂) for (x₁, x₂) in product(X,X)]\n",
    "\n",
    "R = P * G * P;"
   ]
  },
  {
   "cell_type": "markdown",
   "metadata": {},
   "source": [
    "We compute the eigenvalues of $R$"
   ]
  },
  {
   "cell_type": "code",
   "execution_count": 143,
   "metadata": {},
   "outputs": [],
   "source": [
    "E = eigen(R);\n",
    "evals = E.values;"
   ]
  },
  {
   "cell_type": "markdown",
   "metadata": {},
   "source": [
    "and plot their normalized differences."
   ]
  },
  {
   "cell_type": "code",
   "execution_count": 144,
   "metadata": {},
   "outputs": [
    {
     "data": {
      "image/svg+xml": [
       "<?xml version=\"1.0\" encoding=\"utf-8\"?>\n",
       "<svg xmlns=\"http://www.w3.org/2000/svg\" xmlns:xlink=\"http://www.w3.org/1999/xlink\" width=\"500\" height=\"250\" viewBox=\"0 0 2000 1000\">\n",
       "<defs>\n",
       "  <clipPath id=\"clip890\">\n",
       "    <rect x=\"0\" y=\"0\" width=\"2000\" height=\"1000\"/>\n",
       "  </clipPath>\n",
       "</defs>\n",
       "<path clip-path=\"url(#clip890)\" d=\"\n",
       "M0 1000 L2000 1000 L2000 0 L0 0  Z\n",
       "  \" fill=\"#ffffff\" fill-rule=\"evenodd\" fill-opacity=\"1\"/>\n",
       "<defs>\n",
       "  <clipPath id=\"clip891\">\n",
       "    <rect x=\"400\" y=\"0\" width=\"1401\" height=\"1000\"/>\n",
       "  </clipPath>\n",
       "</defs>\n",
       "<path clip-path=\"url(#clip890)\" d=\"\n",
       "M182.274 901.088 L1952.76 901.088 L1952.76 47.2441 L182.274 47.2441  Z\n",
       "  \" fill=\"#ffffff\" fill-rule=\"evenodd\" fill-opacity=\"1\"/>\n",
       "<defs>\n",
       "  <clipPath id=\"clip892\">\n",
       "    <rect x=\"182\" y=\"47\" width=\"1771\" height=\"855\"/>\n",
       "  </clipPath>\n",
       "</defs>\n",
       "<polyline clip-path=\"url(#clip892)\" style=\"stroke:#000000; stroke-linecap:butt; stroke-linejoin:round; stroke-width:2; stroke-opacity:0.1; fill:none\" points=\"\n",
       "  229.028,901.088 229.028,47.2441 \n",
       "  \"/>\n",
       "<polyline clip-path=\"url(#clip892)\" style=\"stroke:#000000; stroke-linecap:butt; stroke-linejoin:round; stroke-width:2; stroke-opacity:0.1; fill:none\" points=\"\n",
       "  564.423,901.088 564.423,47.2441 \n",
       "  \"/>\n",
       "<polyline clip-path=\"url(#clip892)\" style=\"stroke:#000000; stroke-linecap:butt; stroke-linejoin:round; stroke-width:2; stroke-opacity:0.1; fill:none\" points=\"\n",
       "  899.818,901.088 899.818,47.2441 \n",
       "  \"/>\n",
       "<polyline clip-path=\"url(#clip892)\" style=\"stroke:#000000; stroke-linecap:butt; stroke-linejoin:round; stroke-width:2; stroke-opacity:0.1; fill:none\" points=\"\n",
       "  1235.21,901.088 1235.21,47.2441 \n",
       "  \"/>\n",
       "<polyline clip-path=\"url(#clip892)\" style=\"stroke:#000000; stroke-linecap:butt; stroke-linejoin:round; stroke-width:2; stroke-opacity:0.1; fill:none\" points=\"\n",
       "  1570.61,901.088 1570.61,47.2441 \n",
       "  \"/>\n",
       "<polyline clip-path=\"url(#clip892)\" style=\"stroke:#000000; stroke-linecap:butt; stroke-linejoin:round; stroke-width:2; stroke-opacity:0.1; fill:none\" points=\"\n",
       "  1906,901.088 1906,47.2441 \n",
       "  \"/>\n",
       "<polyline clip-path=\"url(#clip890)\" style=\"stroke:#000000; stroke-linecap:butt; stroke-linejoin:round; stroke-width:4; stroke-opacity:1; fill:none\" points=\"\n",
       "  182.274,901.088 1952.76,901.088 \n",
       "  \"/>\n",
       "<polyline clip-path=\"url(#clip890)\" style=\"stroke:#000000; stroke-linecap:butt; stroke-linejoin:round; stroke-width:4; stroke-opacity:1; fill:none\" points=\"\n",
       "  229.028,901.088 229.028,882.19 \n",
       "  \"/>\n",
       "<polyline clip-path=\"url(#clip890)\" style=\"stroke:#000000; stroke-linecap:butt; stroke-linejoin:round; stroke-width:4; stroke-opacity:1; fill:none\" points=\"\n",
       "  564.423,901.088 564.423,882.19 \n",
       "  \"/>\n",
       "<polyline clip-path=\"url(#clip890)\" style=\"stroke:#000000; stroke-linecap:butt; stroke-linejoin:round; stroke-width:4; stroke-opacity:1; fill:none\" points=\"\n",
       "  899.818,901.088 899.818,882.19 \n",
       "  \"/>\n",
       "<polyline clip-path=\"url(#clip890)\" style=\"stroke:#000000; stroke-linecap:butt; stroke-linejoin:round; stroke-width:4; stroke-opacity:1; fill:none\" points=\"\n",
       "  1235.21,901.088 1235.21,882.19 \n",
       "  \"/>\n",
       "<polyline clip-path=\"url(#clip890)\" style=\"stroke:#000000; stroke-linecap:butt; stroke-linejoin:round; stroke-width:4; stroke-opacity:1; fill:none\" points=\"\n",
       "  1570.61,901.088 1570.61,882.19 \n",
       "  \"/>\n",
       "<polyline clip-path=\"url(#clip890)\" style=\"stroke:#000000; stroke-linecap:butt; stroke-linejoin:round; stroke-width:4; stroke-opacity:1; fill:none\" points=\"\n",
       "  1906,901.088 1906,882.19 \n",
       "  \"/>\n",
       "<path clip-path=\"url(#clip890)\" d=\"M229.028 928.807 Q225.417 928.807 223.588 932.371 Q221.783 935.913 221.783 943.043 Q221.783 950.149 223.588 953.714 Q225.417 957.255 229.028 957.255 Q232.662 957.255 234.468 953.714 Q236.297 950.149 236.297 943.043 Q236.297 935.913 234.468 932.371 Q232.662 928.807 229.028 928.807 M229.028 925.103 Q234.838 925.103 237.894 929.709 Q240.972 934.293 240.972 943.043 Q240.972 951.769 237.894 956.376 Q234.838 960.959 229.028 960.959 Q223.218 960.959 220.139 956.376 Q217.084 951.769 217.084 943.043 Q217.084 934.293 220.139 929.709 Q223.218 925.103 229.028 925.103 Z\" fill=\"#000000\" fill-rule=\"evenodd\" fill-opacity=\"1\" /><path clip-path=\"url(#clip890)\" d=\"M524.029 956.353 L531.668 956.353 L531.668 929.987 L523.358 931.654 L523.358 927.395 L531.622 925.728 L536.298 925.728 L536.298 956.353 L543.937 956.353 L543.937 960.288 L524.029 960.288 L524.029 956.353 Z\" fill=\"#000000\" fill-rule=\"evenodd\" fill-opacity=\"1\" /><path clip-path=\"url(#clip890)\" d=\"M563.381 928.807 Q559.77 928.807 557.941 932.371 Q556.136 935.913 556.136 943.043 Q556.136 950.149 557.941 953.714 Q559.77 957.255 563.381 957.255 Q567.015 957.255 568.821 953.714 Q570.65 950.149 570.65 943.043 Q570.65 935.913 568.821 932.371 Q567.015 928.807 563.381 928.807 M563.381 925.103 Q569.191 925.103 572.247 929.709 Q575.326 934.293 575.326 943.043 Q575.326 951.769 572.247 956.376 Q569.191 960.959 563.381 960.959 Q557.571 960.959 554.492 956.376 Q551.437 951.769 551.437 943.043 Q551.437 934.293 554.492 929.709 Q557.571 925.103 563.381 925.103 Z\" fill=\"#000000\" fill-rule=\"evenodd\" fill-opacity=\"1\" /><path clip-path=\"url(#clip890)\" d=\"M593.543 928.807 Q589.932 928.807 588.103 932.371 Q586.298 935.913 586.298 943.043 Q586.298 950.149 588.103 953.714 Q589.932 957.255 593.543 957.255 Q597.177 957.255 598.983 953.714 Q600.811 950.149 600.811 943.043 Q600.811 935.913 598.983 932.371 Q597.177 928.807 593.543 928.807 M593.543 925.103 Q599.353 925.103 602.409 929.709 Q605.487 934.293 605.487 943.043 Q605.487 951.769 602.409 956.376 Q599.353 960.959 593.543 960.959 Q587.733 960.959 584.654 956.376 Q581.599 951.769 581.599 943.043 Q581.599 934.293 584.654 929.709 Q587.733 925.103 593.543 925.103 Z\" fill=\"#000000\" fill-rule=\"evenodd\" fill-opacity=\"1\" /><path clip-path=\"url(#clip890)\" d=\"M863.51 956.353 L879.829 956.353 L879.829 960.288 L857.885 960.288 L857.885 956.353 Q860.547 953.598 865.13 948.968 Q869.737 944.316 870.917 942.973 Q873.163 940.45 874.042 938.714 Q874.945 936.955 874.945 935.265 Q874.945 932.51 873.001 930.774 Q871.079 929.038 867.977 929.038 Q865.778 929.038 863.325 929.802 Q860.894 930.566 858.116 932.117 L858.116 927.395 Q860.94 926.26 863.394 925.682 Q865.848 925.103 867.885 925.103 Q873.255 925.103 876.45 927.788 Q879.644 930.473 879.644 934.964 Q879.644 937.094 878.834 939.015 Q878.047 940.913 875.94 943.506 Q875.362 944.177 872.26 947.394 Q869.158 950.589 863.51 956.353 Z\" fill=\"#000000\" fill-rule=\"evenodd\" fill-opacity=\"1\" /><path clip-path=\"url(#clip890)\" d=\"M899.644 928.807 Q896.033 928.807 894.204 932.371 Q892.399 935.913 892.399 943.043 Q892.399 950.149 894.204 953.714 Q896.033 957.255 899.644 957.255 Q903.278 957.255 905.084 953.714 Q906.912 950.149 906.912 943.043 Q906.912 935.913 905.084 932.371 Q903.278 928.807 899.644 928.807 M899.644 925.103 Q905.454 925.103 908.51 929.709 Q911.588 934.293 911.588 943.043 Q911.588 951.769 908.51 956.376 Q905.454 960.959 899.644 960.959 Q893.834 960.959 890.755 956.376 Q887.7 951.769 887.7 943.043 Q887.7 934.293 890.755 929.709 Q893.834 925.103 899.644 925.103 Z\" fill=\"#000000\" fill-rule=\"evenodd\" fill-opacity=\"1\" /><path clip-path=\"url(#clip890)\" d=\"M929.806 928.807 Q926.195 928.807 924.366 932.371 Q922.561 935.913 922.561 943.043 Q922.561 950.149 924.366 953.714 Q926.195 957.255 929.806 957.255 Q933.44 957.255 935.246 953.714 Q937.074 950.149 937.074 943.043 Q937.074 935.913 935.246 932.371 Q933.44 928.807 929.806 928.807 M929.806 925.103 Q935.616 925.103 938.672 929.709 Q941.75 934.293 941.75 943.043 Q941.75 951.769 938.672 956.376 Q935.616 960.959 929.806 960.959 Q923.996 960.959 920.917 956.376 Q917.861 951.769 917.861 943.043 Q917.861 934.293 920.917 929.709 Q923.996 925.103 929.806 925.103 Z\" fill=\"#000000\" fill-rule=\"evenodd\" fill-opacity=\"1\" /><path clip-path=\"url(#clip890)\" d=\"M1208.97 941.654 Q1212.33 942.371 1214.21 944.64 Q1216.1 946.908 1216.1 950.242 Q1216.1 955.357 1212.59 958.158 Q1209.07 960.959 1202.59 960.959 Q1200.41 960.959 1198.09 960.519 Q1195.8 960.103 1193.35 959.246 L1193.35 954.732 Q1195.29 955.867 1197.61 956.445 Q1199.92 957.024 1202.45 957.024 Q1206.84 957.024 1209.14 955.288 Q1211.45 953.552 1211.45 950.242 Q1211.45 947.186 1209.3 945.473 Q1207.17 943.737 1203.35 943.737 L1199.32 943.737 L1199.32 939.894 L1203.53 939.894 Q1206.98 939.894 1208.81 938.529 Q1210.64 937.14 1210.64 934.547 Q1210.64 931.885 1208.74 930.473 Q1206.87 929.038 1203.35 929.038 Q1201.43 929.038 1199.23 929.455 Q1197.03 929.871 1194.39 930.751 L1194.39 926.584 Q1197.05 925.844 1199.37 925.473 Q1201.71 925.103 1203.77 925.103 Q1209.09 925.103 1212.19 927.533 Q1215.29 929.941 1215.29 934.061 Q1215.29 936.932 1213.65 938.922 Q1212.01 940.89 1208.97 941.654 Z\" fill=\"#000000\" fill-rule=\"evenodd\" fill-opacity=\"1\" /><path clip-path=\"url(#clip890)\" d=\"M1234.97 928.807 Q1231.36 928.807 1229.53 932.371 Q1227.72 935.913 1227.72 943.043 Q1227.72 950.149 1229.53 953.714 Q1231.36 957.255 1234.97 957.255 Q1238.6 957.255 1240.41 953.714 Q1242.24 950.149 1242.24 943.043 Q1242.24 935.913 1240.41 932.371 Q1238.6 928.807 1234.97 928.807 M1234.97 925.103 Q1240.78 925.103 1243.83 929.709 Q1246.91 934.293 1246.91 943.043 Q1246.91 951.769 1243.83 956.376 Q1240.78 960.959 1234.97 960.959 Q1229.16 960.959 1226.08 956.376 Q1223.02 951.769 1223.02 943.043 Q1223.02 934.293 1226.08 929.709 Q1229.16 925.103 1234.97 925.103 Z\" fill=\"#000000\" fill-rule=\"evenodd\" fill-opacity=\"1\" /><path clip-path=\"url(#clip890)\" d=\"M1265.13 928.807 Q1261.52 928.807 1259.69 932.371 Q1257.89 935.913 1257.89 943.043 Q1257.89 950.149 1259.69 953.714 Q1261.52 957.255 1265.13 957.255 Q1268.77 957.255 1270.57 953.714 Q1272.4 950.149 1272.4 943.043 Q1272.4 935.913 1270.57 932.371 Q1268.77 928.807 1265.13 928.807 M1265.13 925.103 Q1270.94 925.103 1274 929.709 Q1277.08 934.293 1277.08 943.043 Q1277.08 951.769 1274 956.376 Q1270.94 960.959 1265.13 960.959 Q1259.32 960.959 1256.24 956.376 Q1253.19 951.769 1253.19 943.043 Q1253.19 934.293 1256.24 929.709 Q1259.32 925.103 1265.13 925.103 Z\" fill=\"#000000\" fill-rule=\"evenodd\" fill-opacity=\"1\" /><path clip-path=\"url(#clip890)\" d=\"M1543.7 929.802 L1531.89 948.251 L1543.7 948.251 L1543.7 929.802 M1542.47 925.728 L1548.35 925.728 L1548.35 948.251 L1553.28 948.251 L1553.28 952.14 L1548.35 952.14 L1548.35 960.288 L1543.7 960.288 L1543.7 952.14 L1528.1 952.14 L1528.1 947.626 L1542.47 925.728 Z\" fill=\"#000000\" fill-rule=\"evenodd\" fill-opacity=\"1\" /><path clip-path=\"url(#clip890)\" d=\"M1571.01 928.807 Q1567.4 928.807 1565.57 932.371 Q1563.77 935.913 1563.77 943.043 Q1563.77 950.149 1565.57 953.714 Q1567.4 957.255 1571.01 957.255 Q1574.65 957.255 1576.45 953.714 Q1578.28 950.149 1578.28 943.043 Q1578.28 935.913 1576.45 932.371 Q1574.65 928.807 1571.01 928.807 M1571.01 925.103 Q1576.82 925.103 1579.88 929.709 Q1582.96 934.293 1582.96 943.043 Q1582.96 951.769 1579.88 956.376 Q1576.82 960.959 1571.01 960.959 Q1565.2 960.959 1562.12 956.376 Q1559.07 951.769 1559.07 943.043 Q1559.07 934.293 1562.12 929.709 Q1565.2 925.103 1571.01 925.103 Z\" fill=\"#000000\" fill-rule=\"evenodd\" fill-opacity=\"1\" /><path clip-path=\"url(#clip890)\" d=\"M1601.17 928.807 Q1597.56 928.807 1595.73 932.371 Q1593.93 935.913 1593.93 943.043 Q1593.93 950.149 1595.73 953.714 Q1597.56 957.255 1601.17 957.255 Q1604.81 957.255 1606.61 953.714 Q1608.44 950.149 1608.44 943.043 Q1608.44 935.913 1606.61 932.371 Q1604.81 928.807 1601.17 928.807 M1601.17 925.103 Q1606.98 925.103 1610.04 929.709 Q1613.12 934.293 1613.12 943.043 Q1613.12 951.769 1610.04 956.376 Q1606.98 960.959 1601.17 960.959 Q1595.36 960.959 1592.29 956.376 Q1589.23 951.769 1589.23 943.043 Q1589.23 934.293 1592.29 929.709 Q1595.36 925.103 1601.17 925.103 Z\" fill=\"#000000\" fill-rule=\"evenodd\" fill-opacity=\"1\" /><path clip-path=\"url(#clip890)\" d=\"M1865.62 925.728 L1883.98 925.728 L1883.98 929.663 L1869.9 929.663 L1869.9 938.135 Q1870.92 937.788 1871.94 937.626 Q1872.96 937.441 1873.98 937.441 Q1879.76 937.441 1883.14 940.612 Q1886.52 943.783 1886.52 949.2 Q1886.52 954.779 1883.05 957.88 Q1879.58 960.959 1873.26 960.959 Q1871.08 960.959 1868.81 960.589 Q1866.57 960.218 1864.16 959.478 L1864.16 954.779 Q1866.25 955.913 1868.47 956.468 Q1870.69 957.024 1873.17 957.024 Q1877.17 957.024 1879.51 954.918 Q1881.85 952.811 1881.85 949.2 Q1881.85 945.589 1879.51 943.482 Q1877.17 941.376 1873.17 941.376 Q1871.29 941.376 1869.42 941.793 Q1867.56 942.209 1865.62 943.089 L1865.62 925.728 Z\" fill=\"#000000\" fill-rule=\"evenodd\" fill-opacity=\"1\" /><path clip-path=\"url(#clip890)\" d=\"M1905.74 928.807 Q1902.12 928.807 1900.3 932.371 Q1898.49 935.913 1898.49 943.043 Q1898.49 950.149 1900.3 953.714 Q1902.12 957.255 1905.74 957.255 Q1909.37 957.255 1911.18 953.714 Q1913 950.149 1913 943.043 Q1913 935.913 1911.18 932.371 Q1909.37 928.807 1905.74 928.807 M1905.74 925.103 Q1911.55 925.103 1914.6 929.709 Q1917.68 934.293 1917.68 943.043 Q1917.68 951.769 1914.6 956.376 Q1911.55 960.959 1905.74 960.959 Q1899.93 960.959 1896.85 956.376 Q1893.79 951.769 1893.79 943.043 Q1893.79 934.293 1896.85 929.709 Q1899.93 925.103 1905.74 925.103 Z\" fill=\"#000000\" fill-rule=\"evenodd\" fill-opacity=\"1\" /><path clip-path=\"url(#clip890)\" d=\"M1935.9 928.807 Q1932.29 928.807 1930.46 932.371 Q1928.65 935.913 1928.65 943.043 Q1928.65 950.149 1930.46 953.714 Q1932.29 957.255 1935.9 957.255 Q1939.53 957.255 1941.34 953.714 Q1943.17 950.149 1943.17 943.043 Q1943.17 935.913 1941.34 932.371 Q1939.53 928.807 1935.9 928.807 M1935.9 925.103 Q1941.71 925.103 1944.76 929.709 Q1947.84 934.293 1947.84 943.043 Q1947.84 951.769 1944.76 956.376 Q1941.71 960.959 1935.9 960.959 Q1930.09 960.959 1927.01 956.376 Q1923.95 951.769 1923.95 943.043 Q1923.95 934.293 1927.01 929.709 Q1930.09 925.103 1935.9 925.103 Z\" fill=\"#000000\" fill-rule=\"evenodd\" fill-opacity=\"1\" /><polyline clip-path=\"url(#clip892)\" style=\"stroke:#000000; stroke-linecap:butt; stroke-linejoin:round; stroke-width:2; stroke-opacity:0.1; fill:none\" points=\"\n",
       "  182.274,877.511 1952.76,877.511 \n",
       "  \"/>\n",
       "<polyline clip-path=\"url(#clip892)\" style=\"stroke:#000000; stroke-linecap:butt; stroke-linejoin:round; stroke-width:2; stroke-opacity:0.1; fill:none\" points=\"\n",
       "  182.274,675.986 1952.76,675.986 \n",
       "  \"/>\n",
       "<polyline clip-path=\"url(#clip892)\" style=\"stroke:#000000; stroke-linecap:butt; stroke-linejoin:round; stroke-width:2; stroke-opacity:0.1; fill:none\" points=\"\n",
       "  182.274,474.46 1952.76,474.46 \n",
       "  \"/>\n",
       "<polyline clip-path=\"url(#clip892)\" style=\"stroke:#000000; stroke-linecap:butt; stroke-linejoin:round; stroke-width:2; stroke-opacity:0.1; fill:none\" points=\"\n",
       "  182.274,272.935 1952.76,272.935 \n",
       "  \"/>\n",
       "<polyline clip-path=\"url(#clip892)\" style=\"stroke:#000000; stroke-linecap:butt; stroke-linejoin:round; stroke-width:2; stroke-opacity:0.1; fill:none\" points=\"\n",
       "  182.274,71.4095 1952.76,71.4095 \n",
       "  \"/>\n",
       "<polyline clip-path=\"url(#clip890)\" style=\"stroke:#000000; stroke-linecap:butt; stroke-linejoin:round; stroke-width:4; stroke-opacity:1; fill:none\" points=\"\n",
       "  182.274,901.088 182.274,47.2441 \n",
       "  \"/>\n",
       "<polyline clip-path=\"url(#clip890)\" style=\"stroke:#000000; stroke-linecap:butt; stroke-linejoin:round; stroke-width:4; stroke-opacity:1; fill:none\" points=\"\n",
       "  182.274,877.511 201.172,877.511 \n",
       "  \"/>\n",
       "<polyline clip-path=\"url(#clip890)\" style=\"stroke:#000000; stroke-linecap:butt; stroke-linejoin:round; stroke-width:4; stroke-opacity:1; fill:none\" points=\"\n",
       "  182.274,675.986 201.172,675.986 \n",
       "  \"/>\n",
       "<polyline clip-path=\"url(#clip890)\" style=\"stroke:#000000; stroke-linecap:butt; stroke-linejoin:round; stroke-width:4; stroke-opacity:1; fill:none\" points=\"\n",
       "  182.274,474.46 201.172,474.46 \n",
       "  \"/>\n",
       "<polyline clip-path=\"url(#clip890)\" style=\"stroke:#000000; stroke-linecap:butt; stroke-linejoin:round; stroke-width:4; stroke-opacity:1; fill:none\" points=\"\n",
       "  182.274,272.935 201.172,272.935 \n",
       "  \"/>\n",
       "<polyline clip-path=\"url(#clip890)\" style=\"stroke:#000000; stroke-linecap:butt; stroke-linejoin:round; stroke-width:4; stroke-opacity:1; fill:none\" points=\"\n",
       "  182.274,71.4095 201.172,71.4095 \n",
       "  \"/>\n",
       "<path clip-path=\"url(#clip890)\" d=\"M64.9365 863.31 Q61.3254 863.31 59.4967 866.875 Q57.6912 870.417 57.6912 877.546 Q57.6912 884.653 59.4967 888.217 Q61.3254 891.759 64.9365 891.759 Q68.5707 891.759 70.3763 888.217 Q72.205 884.653 72.205 877.546 Q72.205 870.417 70.3763 866.875 Q68.5707 863.31 64.9365 863.31 M64.9365 859.606 Q70.7467 859.606 73.8022 864.213 Q76.8809 868.796 76.8809 877.546 Q76.8809 886.273 73.8022 890.879 Q70.7467 895.463 64.9365 895.463 Q59.1264 895.463 56.0477 890.879 Q52.9921 886.273 52.9921 877.546 Q52.9921 868.796 56.0477 864.213 Q59.1264 859.606 64.9365 859.606 Z\" fill=\"#000000\" fill-rule=\"evenodd\" fill-opacity=\"1\" /><path clip-path=\"url(#clip890)\" d=\"M85.0984 888.912 L89.9827 888.912 L89.9827 894.791 L85.0984 894.791 L85.0984 888.912 Z\" fill=\"#000000\" fill-rule=\"evenodd\" fill-opacity=\"1\" /><path clip-path=\"url(#clip890)\" d=\"M110.168 863.31 Q106.557 863.31 104.728 866.875 Q102.922 870.417 102.922 877.546 Q102.922 884.653 104.728 888.217 Q106.557 891.759 110.168 891.759 Q113.802 891.759 115.608 888.217 Q117.436 884.653 117.436 877.546 Q117.436 870.417 115.608 866.875 Q113.802 863.31 110.168 863.31 M110.168 859.606 Q115.978 859.606 119.033 864.213 Q122.112 868.796 122.112 877.546 Q122.112 886.273 119.033 890.879 Q115.978 895.463 110.168 895.463 Q104.358 895.463 101.279 890.879 Q98.2234 886.273 98.2234 877.546 Q98.2234 868.796 101.279 864.213 Q104.358 859.606 110.168 859.606 Z\" fill=\"#000000\" fill-rule=\"evenodd\" fill-opacity=\"1\" /><path clip-path=\"url(#clip890)\" d=\"M140.33 863.31 Q136.719 863.31 134.89 866.875 Q133.084 870.417 133.084 877.546 Q133.084 884.653 134.89 888.217 Q136.719 891.759 140.33 891.759 Q143.964 891.759 145.769 888.217 Q147.598 884.653 147.598 877.546 Q147.598 870.417 145.769 866.875 Q143.964 863.31 140.33 863.31 M140.33 859.606 Q146.14 859.606 149.195 864.213 Q152.274 868.796 152.274 877.546 Q152.274 886.273 149.195 890.879 Q146.14 895.463 140.33 895.463 Q134.519 895.463 131.441 890.879 Q128.385 886.273 128.385 877.546 Q128.385 868.796 131.441 864.213 Q134.519 859.606 140.33 859.606 Z\" fill=\"#000000\" fill-rule=\"evenodd\" fill-opacity=\"1\" /><path clip-path=\"url(#clip890)\" d=\"M65.9319 661.785 Q62.3208 661.785 60.4921 665.349 Q58.6865 668.891 58.6865 676.021 Q58.6865 683.127 60.4921 686.692 Q62.3208 690.234 65.9319 690.234 Q69.5661 690.234 71.3717 686.692 Q73.2004 683.127 73.2004 676.021 Q73.2004 668.891 71.3717 665.349 Q69.5661 661.785 65.9319 661.785 M65.9319 658.081 Q71.742 658.081 74.7976 662.687 Q77.8763 667.271 77.8763 676.021 Q77.8763 684.748 74.7976 689.354 Q71.742 693.937 65.9319 693.937 Q60.1217 693.937 57.043 689.354 Q53.9875 684.748 53.9875 676.021 Q53.9875 667.271 57.043 662.687 Q60.1217 658.081 65.9319 658.081 Z\" fill=\"#000000\" fill-rule=\"evenodd\" fill-opacity=\"1\" /><path clip-path=\"url(#clip890)\" d=\"M86.0938 687.386 L90.978 687.386 L90.978 693.266 L86.0938 693.266 L86.0938 687.386 Z\" fill=\"#000000\" fill-rule=\"evenodd\" fill-opacity=\"1\" /><path clip-path=\"url(#clip890)\" d=\"M105.191 689.331 L121.51 689.331 L121.51 693.266 L99.566 693.266 L99.566 689.331 Q102.228 686.576 106.811 681.947 Q111.418 677.294 112.598 675.951 Q114.844 673.428 115.723 671.692 Q116.626 669.933 116.626 668.243 Q116.626 665.488 114.682 663.752 Q112.76 662.016 109.658 662.016 Q107.459 662.016 105.006 662.78 Q102.575 663.544 99.7974 665.095 L99.7974 660.373 Q102.621 659.238 105.075 658.66 Q107.529 658.081 109.566 658.081 Q114.936 658.081 118.131 660.766 Q121.325 663.451 121.325 667.942 Q121.325 670.072 120.515 671.993 Q119.728 673.891 117.621 676.484 Q117.043 677.155 113.941 680.373 Q110.839 683.567 105.191 689.331 Z\" fill=\"#000000\" fill-rule=\"evenodd\" fill-opacity=\"1\" /><path clip-path=\"url(#clip890)\" d=\"M131.371 658.706 L149.728 658.706 L149.728 662.641 L135.654 662.641 L135.654 671.113 Q136.672 670.766 137.691 670.604 Q138.709 670.419 139.728 670.419 Q145.515 670.419 148.894 673.59 Q152.274 676.761 152.274 682.178 Q152.274 687.757 148.802 690.859 Q145.33 693.937 139.01 693.937 Q136.834 693.937 134.566 693.567 Q132.32 693.197 129.913 692.456 L129.913 687.757 Q131.996 688.891 134.219 689.447 Q136.441 690.002 138.918 690.002 Q142.922 690.002 145.26 687.896 Q147.598 685.789 147.598 682.178 Q147.598 678.567 145.26 676.461 Q142.922 674.354 138.918 674.354 Q137.043 674.354 135.168 674.771 Q133.316 675.187 131.371 676.067 L131.371 658.706 Z\" fill=\"#000000\" fill-rule=\"evenodd\" fill-opacity=\"1\" /><path clip-path=\"url(#clip890)\" d=\"M64.9365 460.259 Q61.3254 460.259 59.4967 463.824 Q57.6912 467.366 57.6912 474.495 Q57.6912 481.602 59.4967 485.166 Q61.3254 488.708 64.9365 488.708 Q68.5707 488.708 70.3763 485.166 Q72.205 481.602 72.205 474.495 Q72.205 467.366 70.3763 463.824 Q68.5707 460.259 64.9365 460.259 M64.9365 456.555 Q70.7467 456.555 73.8022 461.162 Q76.8809 465.745 76.8809 474.495 Q76.8809 483.222 73.8022 487.828 Q70.7467 492.412 64.9365 492.412 Q59.1264 492.412 56.0477 487.828 Q52.9921 483.222 52.9921 474.495 Q52.9921 465.745 56.0477 461.162 Q59.1264 456.555 64.9365 456.555 Z\" fill=\"#000000\" fill-rule=\"evenodd\" fill-opacity=\"1\" /><path clip-path=\"url(#clip890)\" d=\"M85.0984 485.861 L89.9827 485.861 L89.9827 491.74 L85.0984 491.74 L85.0984 485.861 Z\" fill=\"#000000\" fill-rule=\"evenodd\" fill-opacity=\"1\" /><path clip-path=\"url(#clip890)\" d=\"M100.214 457.18 L118.57 457.18 L118.57 461.116 L104.496 461.116 L104.496 469.588 Q105.515 469.241 106.534 469.079 Q107.552 468.893 108.571 468.893 Q114.358 468.893 117.737 472.065 Q121.117 475.236 121.117 480.653 Q121.117 486.231 117.645 489.333 Q114.172 492.412 107.853 492.412 Q105.677 492.412 103.409 492.041 Q101.163 491.671 98.7558 490.93 L98.7558 486.231 Q100.839 487.366 103.061 487.921 Q105.284 488.477 107.76 488.477 Q111.765 488.477 114.103 486.37 Q116.441 484.264 116.441 480.653 Q116.441 477.041 114.103 474.935 Q111.765 472.829 107.76 472.829 Q105.885 472.829 104.01 473.245 Q102.159 473.662 100.214 474.542 L100.214 457.18 Z\" fill=\"#000000\" fill-rule=\"evenodd\" fill-opacity=\"1\" /><path clip-path=\"url(#clip890)\" d=\"M140.33 460.259 Q136.719 460.259 134.89 463.824 Q133.084 467.366 133.084 474.495 Q133.084 481.602 134.89 485.166 Q136.719 488.708 140.33 488.708 Q143.964 488.708 145.769 485.166 Q147.598 481.602 147.598 474.495 Q147.598 467.366 145.769 463.824 Q143.964 460.259 140.33 460.259 M140.33 456.555 Q146.14 456.555 149.195 461.162 Q152.274 465.745 152.274 474.495 Q152.274 483.222 149.195 487.828 Q146.14 492.412 140.33 492.412 Q134.519 492.412 131.441 487.828 Q128.385 483.222 128.385 474.495 Q128.385 465.745 131.441 461.162 Q134.519 456.555 140.33 456.555 Z\" fill=\"#000000\" fill-rule=\"evenodd\" fill-opacity=\"1\" /><path clip-path=\"url(#clip890)\" d=\"M65.9319 258.734 Q62.3208 258.734 60.4921 262.298 Q58.6865 265.84 58.6865 272.97 Q58.6865 280.076 60.4921 283.641 Q62.3208 287.183 65.9319 287.183 Q69.5661 287.183 71.3717 283.641 Q73.2004 280.076 73.2004 272.97 Q73.2004 265.84 71.3717 262.298 Q69.5661 258.734 65.9319 258.734 M65.9319 255.03 Q71.742 255.03 74.7976 259.636 Q77.8763 264.22 77.8763 272.97 Q77.8763 281.697 74.7976 286.303 Q71.742 290.886 65.9319 290.886 Q60.1217 290.886 57.043 286.303 Q53.9875 281.697 53.9875 272.97 Q53.9875 264.22 57.043 259.636 Q60.1217 255.03 65.9319 255.03 Z\" fill=\"#000000\" fill-rule=\"evenodd\" fill-opacity=\"1\" /><path clip-path=\"url(#clip890)\" d=\"M86.0938 284.335 L90.978 284.335 L90.978 290.215 L86.0938 290.215 L86.0938 284.335 Z\" fill=\"#000000\" fill-rule=\"evenodd\" fill-opacity=\"1\" /><path clip-path=\"url(#clip890)\" d=\"M99.9826 255.655 L122.205 255.655 L122.205 257.646 L109.658 290.215 L104.774 290.215 L116.58 259.59 L99.9826 259.59 L99.9826 255.655 Z\" fill=\"#000000\" fill-rule=\"evenodd\" fill-opacity=\"1\" /><path clip-path=\"url(#clip890)\" d=\"M131.371 255.655 L149.728 255.655 L149.728 259.59 L135.654 259.59 L135.654 268.062 Q136.672 267.715 137.691 267.553 Q138.709 267.368 139.728 267.368 Q145.515 267.368 148.894 270.539 Q152.274 273.71 152.274 279.127 Q152.274 284.706 148.802 287.808 Q145.33 290.886 139.01 290.886 Q136.834 290.886 134.566 290.516 Q132.32 290.146 129.913 289.405 L129.913 284.706 Q131.996 285.84 134.219 286.396 Q136.441 286.951 138.918 286.951 Q142.922 286.951 145.26 284.845 Q147.598 282.738 147.598 279.127 Q147.598 275.516 145.26 273.41 Q142.922 271.303 138.918 271.303 Q137.043 271.303 135.168 271.72 Q133.316 272.136 131.371 273.016 L131.371 255.655 Z\" fill=\"#000000\" fill-rule=\"evenodd\" fill-opacity=\"1\" /><path clip-path=\"url(#clip890)\" d=\"M55.7467 84.7543 L63.3856 84.7543 L63.3856 58.3887 L55.0754 60.0554 L55.0754 55.7961 L63.3393 54.1295 L68.0152 54.1295 L68.0152 84.7543 L75.654 84.7543 L75.654 88.6895 L55.7467 88.6895 L55.7467 84.7543 Z\" fill=\"#000000\" fill-rule=\"evenodd\" fill-opacity=\"1\" /><path clip-path=\"url(#clip890)\" d=\"M85.0984 82.8099 L89.9827 82.8099 L89.9827 88.6895 L85.0984 88.6895 L85.0984 82.8099 Z\" fill=\"#000000\" fill-rule=\"evenodd\" fill-opacity=\"1\" /><path clip-path=\"url(#clip890)\" d=\"M110.168 57.2082 Q106.557 57.2082 104.728 60.773 Q102.922 64.3146 102.922 71.4442 Q102.922 78.5506 104.728 82.1154 Q106.557 85.6571 110.168 85.6571 Q113.802 85.6571 115.608 82.1154 Q117.436 78.5506 117.436 71.4442 Q117.436 64.3146 115.608 60.773 Q113.802 57.2082 110.168 57.2082 M110.168 53.5045 Q115.978 53.5045 119.033 58.1109 Q122.112 62.6943 122.112 71.4442 Q122.112 80.171 119.033 84.7775 Q115.978 89.3608 110.168 89.3608 Q104.358 89.3608 101.279 84.7775 Q98.2234 80.171 98.2234 71.4442 Q98.2234 62.6943 101.279 58.1109 Q104.358 53.5045 110.168 53.5045 Z\" fill=\"#000000\" fill-rule=\"evenodd\" fill-opacity=\"1\" /><path clip-path=\"url(#clip890)\" d=\"M140.33 57.2082 Q136.719 57.2082 134.89 60.773 Q133.084 64.3146 133.084 71.4442 Q133.084 78.5506 134.89 82.1154 Q136.719 85.6571 140.33 85.6571 Q143.964 85.6571 145.769 82.1154 Q147.598 78.5506 147.598 71.4442 Q147.598 64.3146 145.769 60.773 Q143.964 57.2082 140.33 57.2082 M140.33 53.5045 Q146.14 53.5045 149.195 58.1109 Q152.274 62.6943 152.274 71.4442 Q152.274 80.171 149.195 84.7775 Q146.14 89.3608 140.33 89.3608 Q134.519 89.3608 131.441 84.7775 Q128.385 80.171 128.385 71.4442 Q128.385 62.6943 131.441 58.1109 Q134.519 53.5045 140.33 53.5045 Z\" fill=\"#000000\" fill-rule=\"evenodd\" fill-opacity=\"1\" /><polyline clip-path=\"url(#clip892)\" style=\"stroke:#009af9; stroke-linecap:butt; stroke-linejoin:round; stroke-width:10; stroke-opacity:1; fill:none\" stroke-dasharray=\"40, 25\" points=\"\n",
       "  232.382,71.4095 235.736,573.28 239.09,595.021 242.444,653.473 245.798,711.329 249.152,694.516 252.506,821.786 255.86,824.047 259.214,769.143 262.568,734.564 \n",
       "  265.921,801.419 269.275,712.984 272.629,841.375 275.983,856.623 279.337,837.166 282.691,844.15 286.045,873.009 289.399,824.232 292.753,770.861 296.107,870.408 \n",
       "  299.461,857.551 302.815,850.738 306.169,856.682 309.523,851.082 312.877,833.5 316.231,865.902 319.585,859.268 322.939,869.571 326.293,840.17 329.646,828.375 \n",
       "  333,856.996 336.354,855.419 339.708,840.919 343.062,851.32 346.416,834.688 349.77,863.359 353.124,869.565 356.478,874.264 359.832,869.49 363.186,858.997 \n",
       "  366.54,864.348 369.894,871.465 373.248,867.429 376.602,855.046 379.956,829.281 383.31,826.815 386.664,866.542 390.018,870.645 393.371,860.601 396.725,866.525 \n",
       "  400.079,868.686 403.433,867.453 406.787,875.468 410.141,852.287 413.495,860.41 416.849,871.29 420.203,863.665 423.557,870.631 426.911,857.183 430.265,874.494 \n",
       "  433.619,863.009 436.973,863.552 440.327,872.946 443.681,874.457 447.035,865.761 450.389,871.571 453.743,870.809 457.096,870.742 460.45,862.474 463.804,835.507 \n",
       "  467.158,861.556 470.512,864.866 473.866,836.838 477.22,840.935 480.574,874.226 483.928,863.862 487.282,864.274 490.636,873.511 493.99,874.701 497.344,866.067 \n",
       "  500.698,862.232 504.052,857.496 507.406,864.606 510.76,842.46 514.114,853.461 517.468,841.59 520.821,866.864 524.175,860.213 527.529,872.424 530.883,873.192 \n",
       "  534.237,867.503 537.591,872.547 540.945,864.54 544.299,869.44 547.653,856.225 551.007,864.591 554.361,860.54 557.715,873.659 561.069,871.241 564.423,872.738 \n",
       "  567.777,863.624 571.131,871.298 574.485,875.91 577.839,861.512 581.193,870.714 584.546,842.499 587.9,852.713 591.254,855.228 594.608,873.521 597.962,864.453 \n",
       "  601.316,862.961 604.67,859.416 608.024,866.257 611.378,855.967 614.732,873.816 618.086,840.04 621.44,875.268 624.794,871.008 628.148,868.609 631.502,874.878 \n",
       "  634.856,865.555 638.21,873.272 641.564,871.855 644.918,863.992 648.271,872.051 651.625,866.585 654.979,874.862 658.333,874.634 661.687,873.09 665.041,874.018 \n",
       "  668.395,874.083 671.749,867.1 675.103,858.473 678.457,856.136 681.811,870.156 685.165,847.666 688.519,872.281 691.873,868.641 695.227,868.305 698.581,872.605 \n",
       "  701.935,871.241 705.289,875.462 708.643,866.434 711.996,864.029 715.35,864.07 718.704,868.604 722.058,872.384 725.412,864.95 728.766,875.242 732.12,854.599 \n",
       "  735.474,849.212 738.828,857.238 742.182,865.349 745.536,854.661 748.89,867.493 752.244,871.491 755.598,874.967 758.952,873.475 762.306,873.668 765.66,863.43 \n",
       "  769.014,868.697 772.368,873.018 775.722,867.142 779.075,873.042 782.429,868.649 785.783,869.275 789.137,876.443 792.491,861.855 795.845,870.491 799.199,856.736 \n",
       "  802.553,873.831 805.907,872.069 809.261,870.826 812.615,871.616 815.969,874.11 819.323,873.634 822.677,873.592 826.031,874.907 829.385,873.534 832.739,876.922 \n",
       "  836.093,871.011 839.447,871.539 842.8,875.723 846.154,867.367 849.508,863.78 852.862,870.76 856.216,870.697 859.57,871.925 862.924,857.884 866.278,855.695 \n",
       "  869.632,862.211 872.986,871.382 876.34,862.744 879.694,873.877 883.048,869.515 886.402,874.691 889.756,870.971 893.11,874.725 896.464,874.33 899.818,871.414 \n",
       "  903.172,872.761 906.525,870.985 909.879,873.547 913.233,868.488 916.587,859.82 919.941,873.456 923.295,868.136 926.649,873.331 930.003,876.303 933.357,869.433 \n",
       "  936.711,873.509 940.065,869.456 943.419,873.095 946.773,866.373 950.127,874.032 953.481,872.466 956.835,869.935 960.189,876.107 963.543,872.524 966.897,867.211 \n",
       "  970.25,871.98 973.604,869.856 976.958,871.912 980.312,867.085 983.666,875.092 987.02,872.708 990.374,872.199 993.728,873.347 997.082,864.861 1000.44,838.75 \n",
       "  1003.79,872.303 1007.14,874.957 1010.5,864.806 1013.85,867.273 1017.21,868.744 1020.56,869.46 1023.91,875.821 1027.27,872.566 1030.62,871.541 1033.98,872.649 \n",
       "  1037.33,873.137 1040.68,871.16 1044.04,874.053 1047.39,868.884 1050.75,872.064 1054.1,862.494 1057.45,874.286 1060.81,872.911 1064.16,873.893 1067.51,870.875 \n",
       "  1070.87,873.142 1074.22,870.103 1077.58,875.39 1080.93,868.518 1084.28,868.48 1087.64,872.616 1090.99,871.401 1094.35,874.925 1097.7,873.303 1101.05,872.86 \n",
       "  1104.41,874.721 1107.76,875.585 1111.12,865.798 1114.47,875.837 1117.82,871.711 1121.18,871.066 1124.53,875.331 1127.89,873.456 1131.24,870.522 1134.59,874.813 \n",
       "  1137.95,876.194 1141.3,872.365 1144.66,868.258 1148.01,869.853 1151.36,875.19 1154.72,869.958 1158.07,876.861 1161.43,872.875 1164.78,868.982 1168.13,869.958 \n",
       "  1171.49,866.913 1174.84,869.455 1178.2,869.67 1181.55,869.839 1184.9,874.308 1188.26,873.854 1191.61,871.186 1194.96,875.101 1198.32,866.004 1201.67,874.407 \n",
       "  1205.03,870.652 1208.38,872.513 1211.73,864.642 1215.09,869.748 1218.44,876.83 1221.8,863.522 1225.15,873.516 1228.5,868.268 1231.86,870.55 1235.21,874.379 \n",
       "  1238.57,872.516 1241.92,868.573 1245.27,874.53 1248.63,860.567 1251.98,876.298 1255.34,872.706 1258.69,863.473 1262.04,868.159 1265.4,869.192 1268.75,871.082 \n",
       "  1272.11,865.464 1275.46,872.098 1278.81,852.709 1282.17,876.57 1285.52,868.902 1288.88,870.864 1292.23,857.49 1295.58,876.466 1298.94,865.154 1302.29,868.125 \n",
       "  1305.65,874.552 1309,870.351 1312.35,873.492 1315.71,873.463 1319.06,870.696 1322.41,874.719 1325.77,872.084 1329.12,867.729 1332.48,872.899 1335.83,875.046 \n",
       "  1339.18,874.314 1342.54,872.339 1345.89,866.896 1349.25,866.104 1352.6,874.047 1355.95,870.661 1359.31,871.76 1362.66,866.153 1366.02,875.398 1369.37,873.007 \n",
       "  1372.72,868.611 1376.08,863.56 1379.43,869.569 1382.79,872.271 1386.14,866.445 1389.49,872.376 1392.85,862.466 1396.2,876.706 1399.56,866.263 1402.91,873.343 \n",
       "  1406.26,873.527 1409.62,864.893 1412.97,870.68 1416.33,874.671 1419.68,873.629 1423.03,875.745 1426.39,874.424 1429.74,864.591 1433.1,868.084 1436.45,862.049 \n",
       "  1439.8,865.469 1443.16,872.125 1446.51,866.036 1449.86,873.19 1453.22,866.353 1456.57,819.7 1459.93,860.445 1463.28,862.079 1466.63,869.091 1469.99,875.356 \n",
       "  1473.34,867.513 1476.7,872.495 1480.05,851.677 1483.4,860.738 1486.76,869.692 1490.11,875.044 1493.47,858.022 1496.82,873.561 1500.17,865.594 1503.53,854.399 \n",
       "  1506.88,870.527 1510.24,869.476 1513.59,868.856 1516.94,861.133 1520.3,866.697 1523.65,872.711 1527.01,863.414 1530.36,870.159 1533.71,872.777 1537.07,868.695 \n",
       "  1540.42,863.158 1543.78,865.038 1547.13,872.257 1550.48,864.885 1553.84,867.954 1557.19,873.504 1560.55,865.838 1563.9,875.111 1567.25,865.632 1570.61,864.332 \n",
       "  1573.96,869.773 1577.32,862.026 1580.67,871.946 1584.02,867.048 1587.38,862.427 1590.73,844.455 1594.08,868.937 1597.44,861.793 1600.79,871.497 1604.15,872.175 \n",
       "  1607.5,868.044 1610.85,863.851 1614.21,863.492 1617.56,858.806 1620.92,871.256 1624.27,850.044 1627.62,870.842 1630.98,868.28 1634.33,873.294 1637.69,865.981 \n",
       "  1641.04,872.229 1644.39,846.047 1647.75,865.034 1651.1,872.956 1654.46,863.589 1657.81,857.981 1661.16,864.13 1664.52,868.796 1667.87,847.098 1671.23,867.752 \n",
       "  1674.58,873.448 1677.93,850.943 1681.29,872.535 1684.64,858.978 1688,859.936 1691.35,864.04 1694.7,866.772 1698.06,859.086 1701.41,868.864 1704.77,839.174 \n",
       "  1708.12,858.72 1711.47,857.549 1714.83,854.405 1718.18,857.595 1721.53,858.52 1724.89,861.65 1728.24,855.806 1731.6,873.104 1734.95,867.681 1738.3,863.895 \n",
       "  1741.66,852.728 1745.01,869.735 1748.37,859.046 1751.72,871.009 1755.07,857.374 1758.43,846.44 1761.78,869.765 1765.14,831.147 1768.49,854.759 1771.84,842.44 \n",
       "  1775.2,871.752 1778.55,867.483 1781.91,869.398 1785.26,858.935 1788.61,846.713 1791.97,868.322 1795.32,824.314 1798.68,814.255 1802.03,819.634 1805.38,865.195 \n",
       "  1808.74,852.1 1812.09,867.431 1815.45,872.973 1818.8,814.688 1822.15,851.925 1825.51,812.143 1828.86,864.087 1832.22,846.807 1835.57,834.313 1838.92,854.103 \n",
       "  1842.28,810.887 1845.63,873.157 1848.98,826.289 1852.34,780.3 1855.69,846.035 1859.05,800.578 1862.4,819.748 1865.75,860.438 1869.11,864.439 1872.46,780.835 \n",
       "  1875.82,803.168 1879.17,829.021 1882.52,772.308 1885.88,816.228 1889.23,747.042 1892.59,760.818 1895.94,749.777 1899.29,666.022 1902.65,341.915 \n",
       "  \"/>\n",
       "<circle clip-path=\"url(#clip892)\" cx=\"232.382\" cy=\"71.4095\" r=\"14\" fill=\"#cd5c5c\" fill-rule=\"evenodd\" fill-opacity=\"1\" stroke=\"none\"/>\n",
       "<circle clip-path=\"url(#clip892)\" cx=\"235.736\" cy=\"573.28\" r=\"14\" fill=\"#cd5c5c\" fill-rule=\"evenodd\" fill-opacity=\"1\" stroke=\"none\"/>\n",
       "<circle clip-path=\"url(#clip892)\" cx=\"239.09\" cy=\"595.021\" r=\"14\" fill=\"#cd5c5c\" fill-rule=\"evenodd\" fill-opacity=\"1\" stroke=\"none\"/>\n",
       "<circle clip-path=\"url(#clip892)\" cx=\"242.444\" cy=\"653.473\" r=\"14\" fill=\"#cd5c5c\" fill-rule=\"evenodd\" fill-opacity=\"1\" stroke=\"none\"/>\n",
       "<circle clip-path=\"url(#clip892)\" cx=\"245.798\" cy=\"711.329\" r=\"14\" fill=\"#cd5c5c\" fill-rule=\"evenodd\" fill-opacity=\"1\" stroke=\"none\"/>\n",
       "<circle clip-path=\"url(#clip892)\" cx=\"249.152\" cy=\"694.516\" r=\"14\" fill=\"#cd5c5c\" fill-rule=\"evenodd\" fill-opacity=\"1\" stroke=\"none\"/>\n",
       "<circle clip-path=\"url(#clip892)\" cx=\"252.506\" cy=\"821.786\" r=\"14\" fill=\"#cd5c5c\" fill-rule=\"evenodd\" fill-opacity=\"1\" stroke=\"none\"/>\n",
       "<circle clip-path=\"url(#clip892)\" cx=\"255.86\" cy=\"824.047\" r=\"14\" fill=\"#cd5c5c\" fill-rule=\"evenodd\" fill-opacity=\"1\" stroke=\"none\"/>\n",
       "<circle clip-path=\"url(#clip892)\" cx=\"259.214\" cy=\"769.143\" r=\"14\" fill=\"#cd5c5c\" fill-rule=\"evenodd\" fill-opacity=\"1\" stroke=\"none\"/>\n",
       "<circle clip-path=\"url(#clip892)\" cx=\"262.568\" cy=\"734.564\" r=\"14\" fill=\"#cd5c5c\" fill-rule=\"evenodd\" fill-opacity=\"1\" stroke=\"none\"/>\n",
       "<circle clip-path=\"url(#clip892)\" cx=\"265.921\" cy=\"801.419\" r=\"14\" fill=\"#cd5c5c\" fill-rule=\"evenodd\" fill-opacity=\"1\" stroke=\"none\"/>\n",
       "<circle clip-path=\"url(#clip892)\" cx=\"269.275\" cy=\"712.984\" r=\"14\" fill=\"#cd5c5c\" fill-rule=\"evenodd\" fill-opacity=\"1\" stroke=\"none\"/>\n",
       "<circle clip-path=\"url(#clip892)\" cx=\"272.629\" cy=\"841.375\" r=\"14\" fill=\"#cd5c5c\" fill-rule=\"evenodd\" fill-opacity=\"1\" stroke=\"none\"/>\n",
       "<circle clip-path=\"url(#clip892)\" cx=\"275.983\" cy=\"856.623\" r=\"14\" fill=\"#cd5c5c\" fill-rule=\"evenodd\" fill-opacity=\"1\" stroke=\"none\"/>\n",
       "<circle clip-path=\"url(#clip892)\" cx=\"279.337\" cy=\"837.166\" r=\"14\" fill=\"#cd5c5c\" fill-rule=\"evenodd\" fill-opacity=\"1\" stroke=\"none\"/>\n",
       "<circle clip-path=\"url(#clip892)\" cx=\"282.691\" cy=\"844.15\" r=\"14\" fill=\"#cd5c5c\" fill-rule=\"evenodd\" fill-opacity=\"1\" stroke=\"none\"/>\n",
       "<circle clip-path=\"url(#clip892)\" cx=\"286.045\" cy=\"873.009\" r=\"14\" fill=\"#cd5c5c\" fill-rule=\"evenodd\" fill-opacity=\"1\" stroke=\"none\"/>\n",
       "<circle clip-path=\"url(#clip892)\" cx=\"289.399\" cy=\"824.232\" r=\"14\" fill=\"#cd5c5c\" fill-rule=\"evenodd\" fill-opacity=\"1\" stroke=\"none\"/>\n",
       "<circle clip-path=\"url(#clip892)\" cx=\"292.753\" cy=\"770.861\" r=\"14\" fill=\"#cd5c5c\" fill-rule=\"evenodd\" fill-opacity=\"1\" stroke=\"none\"/>\n",
       "<circle clip-path=\"url(#clip892)\" cx=\"296.107\" cy=\"870.408\" r=\"14\" fill=\"#cd5c5c\" fill-rule=\"evenodd\" fill-opacity=\"1\" stroke=\"none\"/>\n",
       "<circle clip-path=\"url(#clip892)\" cx=\"299.461\" cy=\"857.551\" r=\"14\" fill=\"#cd5c5c\" fill-rule=\"evenodd\" fill-opacity=\"1\" stroke=\"none\"/>\n",
       "<circle clip-path=\"url(#clip892)\" cx=\"302.815\" cy=\"850.738\" r=\"14\" fill=\"#cd5c5c\" fill-rule=\"evenodd\" fill-opacity=\"1\" stroke=\"none\"/>\n",
       "<circle clip-path=\"url(#clip892)\" cx=\"306.169\" cy=\"856.682\" r=\"14\" fill=\"#cd5c5c\" fill-rule=\"evenodd\" fill-opacity=\"1\" stroke=\"none\"/>\n",
       "<circle clip-path=\"url(#clip892)\" cx=\"309.523\" cy=\"851.082\" r=\"14\" fill=\"#cd5c5c\" fill-rule=\"evenodd\" fill-opacity=\"1\" stroke=\"none\"/>\n",
       "<circle clip-path=\"url(#clip892)\" cx=\"312.877\" cy=\"833.5\" r=\"14\" fill=\"#cd5c5c\" fill-rule=\"evenodd\" fill-opacity=\"1\" stroke=\"none\"/>\n",
       "<circle clip-path=\"url(#clip892)\" cx=\"316.231\" cy=\"865.902\" r=\"14\" fill=\"#cd5c5c\" fill-rule=\"evenodd\" fill-opacity=\"1\" stroke=\"none\"/>\n",
       "<circle clip-path=\"url(#clip892)\" cx=\"319.585\" cy=\"859.268\" r=\"14\" fill=\"#cd5c5c\" fill-rule=\"evenodd\" fill-opacity=\"1\" stroke=\"none\"/>\n",
       "<circle clip-path=\"url(#clip892)\" cx=\"322.939\" cy=\"869.571\" r=\"14\" fill=\"#cd5c5c\" fill-rule=\"evenodd\" fill-opacity=\"1\" stroke=\"none\"/>\n",
       "<circle clip-path=\"url(#clip892)\" cx=\"326.293\" cy=\"840.17\" r=\"14\" fill=\"#cd5c5c\" fill-rule=\"evenodd\" fill-opacity=\"1\" stroke=\"none\"/>\n",
       "<circle clip-path=\"url(#clip892)\" cx=\"329.646\" cy=\"828.375\" r=\"14\" fill=\"#cd5c5c\" fill-rule=\"evenodd\" fill-opacity=\"1\" stroke=\"none\"/>\n",
       "<circle clip-path=\"url(#clip892)\" cx=\"333\" cy=\"856.996\" r=\"14\" fill=\"#cd5c5c\" fill-rule=\"evenodd\" fill-opacity=\"1\" stroke=\"none\"/>\n",
       "<circle clip-path=\"url(#clip892)\" cx=\"336.354\" cy=\"855.419\" r=\"14\" fill=\"#cd5c5c\" fill-rule=\"evenodd\" fill-opacity=\"1\" stroke=\"none\"/>\n",
       "<circle clip-path=\"url(#clip892)\" cx=\"339.708\" cy=\"840.919\" r=\"14\" fill=\"#cd5c5c\" fill-rule=\"evenodd\" fill-opacity=\"1\" stroke=\"none\"/>\n",
       "<circle clip-path=\"url(#clip892)\" cx=\"343.062\" cy=\"851.32\" r=\"14\" fill=\"#cd5c5c\" fill-rule=\"evenodd\" fill-opacity=\"1\" stroke=\"none\"/>\n",
       "<circle clip-path=\"url(#clip892)\" cx=\"346.416\" cy=\"834.688\" r=\"14\" fill=\"#cd5c5c\" fill-rule=\"evenodd\" fill-opacity=\"1\" stroke=\"none\"/>\n",
       "<circle clip-path=\"url(#clip892)\" cx=\"349.77\" cy=\"863.359\" r=\"14\" fill=\"#cd5c5c\" fill-rule=\"evenodd\" fill-opacity=\"1\" stroke=\"none\"/>\n",
       "<circle clip-path=\"url(#clip892)\" cx=\"353.124\" cy=\"869.565\" r=\"14\" fill=\"#cd5c5c\" fill-rule=\"evenodd\" fill-opacity=\"1\" stroke=\"none\"/>\n",
       "<circle clip-path=\"url(#clip892)\" cx=\"356.478\" cy=\"874.264\" r=\"14\" fill=\"#cd5c5c\" fill-rule=\"evenodd\" fill-opacity=\"1\" stroke=\"none\"/>\n",
       "<circle clip-path=\"url(#clip892)\" cx=\"359.832\" cy=\"869.49\" r=\"14\" fill=\"#cd5c5c\" fill-rule=\"evenodd\" fill-opacity=\"1\" stroke=\"none\"/>\n",
       "<circle clip-path=\"url(#clip892)\" cx=\"363.186\" cy=\"858.997\" r=\"14\" fill=\"#cd5c5c\" fill-rule=\"evenodd\" fill-opacity=\"1\" stroke=\"none\"/>\n",
       "<circle clip-path=\"url(#clip892)\" cx=\"366.54\" cy=\"864.348\" r=\"14\" fill=\"#cd5c5c\" fill-rule=\"evenodd\" fill-opacity=\"1\" stroke=\"none\"/>\n",
       "<circle clip-path=\"url(#clip892)\" cx=\"369.894\" cy=\"871.465\" r=\"14\" fill=\"#cd5c5c\" fill-rule=\"evenodd\" fill-opacity=\"1\" stroke=\"none\"/>\n",
       "<circle clip-path=\"url(#clip892)\" cx=\"373.248\" cy=\"867.429\" r=\"14\" fill=\"#cd5c5c\" fill-rule=\"evenodd\" fill-opacity=\"1\" stroke=\"none\"/>\n",
       "<circle clip-path=\"url(#clip892)\" cx=\"376.602\" cy=\"855.046\" r=\"14\" fill=\"#cd5c5c\" fill-rule=\"evenodd\" fill-opacity=\"1\" stroke=\"none\"/>\n",
       "<circle clip-path=\"url(#clip892)\" cx=\"379.956\" cy=\"829.281\" r=\"14\" fill=\"#cd5c5c\" fill-rule=\"evenodd\" fill-opacity=\"1\" stroke=\"none\"/>\n",
       "<circle clip-path=\"url(#clip892)\" cx=\"383.31\" cy=\"826.815\" r=\"14\" fill=\"#cd5c5c\" fill-rule=\"evenodd\" fill-opacity=\"1\" stroke=\"none\"/>\n",
       "<circle clip-path=\"url(#clip892)\" cx=\"386.664\" cy=\"866.542\" r=\"14\" fill=\"#cd5c5c\" fill-rule=\"evenodd\" fill-opacity=\"1\" stroke=\"none\"/>\n",
       "<circle clip-path=\"url(#clip892)\" cx=\"390.018\" cy=\"870.645\" r=\"14\" fill=\"#cd5c5c\" fill-rule=\"evenodd\" fill-opacity=\"1\" stroke=\"none\"/>\n",
       "<circle clip-path=\"url(#clip892)\" cx=\"393.371\" cy=\"860.601\" r=\"14\" fill=\"#cd5c5c\" fill-rule=\"evenodd\" fill-opacity=\"1\" stroke=\"none\"/>\n",
       "<circle clip-path=\"url(#clip892)\" cx=\"396.725\" cy=\"866.525\" r=\"14\" fill=\"#cd5c5c\" fill-rule=\"evenodd\" fill-opacity=\"1\" stroke=\"none\"/>\n",
       "<circle clip-path=\"url(#clip892)\" cx=\"400.079\" cy=\"868.686\" r=\"14\" fill=\"#cd5c5c\" fill-rule=\"evenodd\" fill-opacity=\"1\" stroke=\"none\"/>\n",
       "<circle clip-path=\"url(#clip892)\" cx=\"403.433\" cy=\"867.453\" r=\"14\" fill=\"#cd5c5c\" fill-rule=\"evenodd\" fill-opacity=\"1\" stroke=\"none\"/>\n",
       "<circle clip-path=\"url(#clip892)\" cx=\"406.787\" cy=\"875.468\" r=\"14\" fill=\"#cd5c5c\" fill-rule=\"evenodd\" fill-opacity=\"1\" stroke=\"none\"/>\n",
       "<circle clip-path=\"url(#clip892)\" cx=\"410.141\" cy=\"852.287\" r=\"14\" fill=\"#cd5c5c\" fill-rule=\"evenodd\" fill-opacity=\"1\" stroke=\"none\"/>\n",
       "<circle clip-path=\"url(#clip892)\" cx=\"413.495\" cy=\"860.41\" r=\"14\" fill=\"#cd5c5c\" fill-rule=\"evenodd\" fill-opacity=\"1\" stroke=\"none\"/>\n",
       "<circle clip-path=\"url(#clip892)\" cx=\"416.849\" cy=\"871.29\" r=\"14\" fill=\"#cd5c5c\" fill-rule=\"evenodd\" fill-opacity=\"1\" stroke=\"none\"/>\n",
       "<circle clip-path=\"url(#clip892)\" cx=\"420.203\" cy=\"863.665\" r=\"14\" fill=\"#cd5c5c\" fill-rule=\"evenodd\" fill-opacity=\"1\" stroke=\"none\"/>\n",
       "<circle clip-path=\"url(#clip892)\" cx=\"423.557\" cy=\"870.631\" r=\"14\" fill=\"#cd5c5c\" fill-rule=\"evenodd\" fill-opacity=\"1\" stroke=\"none\"/>\n",
       "<circle clip-path=\"url(#clip892)\" cx=\"426.911\" cy=\"857.183\" r=\"14\" fill=\"#cd5c5c\" fill-rule=\"evenodd\" fill-opacity=\"1\" stroke=\"none\"/>\n",
       "<circle clip-path=\"url(#clip892)\" cx=\"430.265\" cy=\"874.494\" r=\"14\" fill=\"#cd5c5c\" fill-rule=\"evenodd\" fill-opacity=\"1\" stroke=\"none\"/>\n",
       "<circle clip-path=\"url(#clip892)\" cx=\"433.619\" cy=\"863.009\" r=\"14\" fill=\"#cd5c5c\" fill-rule=\"evenodd\" fill-opacity=\"1\" stroke=\"none\"/>\n",
       "<circle clip-path=\"url(#clip892)\" cx=\"436.973\" cy=\"863.552\" r=\"14\" fill=\"#cd5c5c\" fill-rule=\"evenodd\" fill-opacity=\"1\" stroke=\"none\"/>\n",
       "<circle clip-path=\"url(#clip892)\" cx=\"440.327\" cy=\"872.946\" r=\"14\" fill=\"#cd5c5c\" fill-rule=\"evenodd\" fill-opacity=\"1\" stroke=\"none\"/>\n",
       "<circle clip-path=\"url(#clip892)\" cx=\"443.681\" cy=\"874.457\" r=\"14\" fill=\"#cd5c5c\" fill-rule=\"evenodd\" fill-opacity=\"1\" stroke=\"none\"/>\n",
       "<circle clip-path=\"url(#clip892)\" cx=\"447.035\" cy=\"865.761\" r=\"14\" fill=\"#cd5c5c\" fill-rule=\"evenodd\" fill-opacity=\"1\" stroke=\"none\"/>\n",
       "<circle clip-path=\"url(#clip892)\" cx=\"450.389\" cy=\"871.571\" r=\"14\" fill=\"#cd5c5c\" fill-rule=\"evenodd\" fill-opacity=\"1\" stroke=\"none\"/>\n",
       "<circle clip-path=\"url(#clip892)\" cx=\"453.743\" cy=\"870.809\" r=\"14\" fill=\"#cd5c5c\" fill-rule=\"evenodd\" fill-opacity=\"1\" stroke=\"none\"/>\n",
       "<circle clip-path=\"url(#clip892)\" cx=\"457.096\" cy=\"870.742\" r=\"14\" fill=\"#cd5c5c\" fill-rule=\"evenodd\" fill-opacity=\"1\" stroke=\"none\"/>\n",
       "<circle clip-path=\"url(#clip892)\" cx=\"460.45\" cy=\"862.474\" r=\"14\" fill=\"#cd5c5c\" fill-rule=\"evenodd\" fill-opacity=\"1\" stroke=\"none\"/>\n",
       "<circle clip-path=\"url(#clip892)\" cx=\"463.804\" cy=\"835.507\" r=\"14\" fill=\"#cd5c5c\" fill-rule=\"evenodd\" fill-opacity=\"1\" stroke=\"none\"/>\n",
       "<circle clip-path=\"url(#clip892)\" cx=\"467.158\" cy=\"861.556\" r=\"14\" fill=\"#cd5c5c\" fill-rule=\"evenodd\" fill-opacity=\"1\" stroke=\"none\"/>\n",
       "<circle clip-path=\"url(#clip892)\" cx=\"470.512\" cy=\"864.866\" r=\"14\" fill=\"#cd5c5c\" fill-rule=\"evenodd\" fill-opacity=\"1\" stroke=\"none\"/>\n",
       "<circle clip-path=\"url(#clip892)\" cx=\"473.866\" cy=\"836.838\" r=\"14\" fill=\"#cd5c5c\" fill-rule=\"evenodd\" fill-opacity=\"1\" stroke=\"none\"/>\n",
       "<circle clip-path=\"url(#clip892)\" cx=\"477.22\" cy=\"840.935\" r=\"14\" fill=\"#cd5c5c\" fill-rule=\"evenodd\" fill-opacity=\"1\" stroke=\"none\"/>\n",
       "<circle clip-path=\"url(#clip892)\" cx=\"480.574\" cy=\"874.226\" r=\"14\" fill=\"#cd5c5c\" fill-rule=\"evenodd\" fill-opacity=\"1\" stroke=\"none\"/>\n",
       "<circle clip-path=\"url(#clip892)\" cx=\"483.928\" cy=\"863.862\" r=\"14\" fill=\"#cd5c5c\" fill-rule=\"evenodd\" fill-opacity=\"1\" stroke=\"none\"/>\n",
       "<circle clip-path=\"url(#clip892)\" cx=\"487.282\" cy=\"864.274\" r=\"14\" fill=\"#cd5c5c\" fill-rule=\"evenodd\" fill-opacity=\"1\" stroke=\"none\"/>\n",
       "<circle clip-path=\"url(#clip892)\" cx=\"490.636\" cy=\"873.511\" r=\"14\" fill=\"#cd5c5c\" fill-rule=\"evenodd\" fill-opacity=\"1\" stroke=\"none\"/>\n",
       "<circle clip-path=\"url(#clip892)\" cx=\"493.99\" cy=\"874.701\" r=\"14\" fill=\"#cd5c5c\" fill-rule=\"evenodd\" fill-opacity=\"1\" stroke=\"none\"/>\n",
       "<circle clip-path=\"url(#clip892)\" cx=\"497.344\" cy=\"866.067\" r=\"14\" fill=\"#cd5c5c\" fill-rule=\"evenodd\" fill-opacity=\"1\" stroke=\"none\"/>\n",
       "<circle clip-path=\"url(#clip892)\" cx=\"500.698\" cy=\"862.232\" r=\"14\" fill=\"#cd5c5c\" fill-rule=\"evenodd\" fill-opacity=\"1\" stroke=\"none\"/>\n",
       "<circle clip-path=\"url(#clip892)\" cx=\"504.052\" cy=\"857.496\" r=\"14\" fill=\"#cd5c5c\" fill-rule=\"evenodd\" fill-opacity=\"1\" stroke=\"none\"/>\n",
       "<circle clip-path=\"url(#clip892)\" cx=\"507.406\" cy=\"864.606\" r=\"14\" fill=\"#cd5c5c\" fill-rule=\"evenodd\" fill-opacity=\"1\" stroke=\"none\"/>\n",
       "<circle clip-path=\"url(#clip892)\" cx=\"510.76\" cy=\"842.46\" r=\"14\" fill=\"#cd5c5c\" fill-rule=\"evenodd\" fill-opacity=\"1\" stroke=\"none\"/>\n",
       "<circle clip-path=\"url(#clip892)\" cx=\"514.114\" cy=\"853.461\" r=\"14\" fill=\"#cd5c5c\" fill-rule=\"evenodd\" fill-opacity=\"1\" stroke=\"none\"/>\n",
       "<circle clip-path=\"url(#clip892)\" cx=\"517.468\" cy=\"841.59\" r=\"14\" fill=\"#cd5c5c\" fill-rule=\"evenodd\" fill-opacity=\"1\" stroke=\"none\"/>\n",
       "<circle clip-path=\"url(#clip892)\" cx=\"520.821\" cy=\"866.864\" r=\"14\" fill=\"#cd5c5c\" fill-rule=\"evenodd\" fill-opacity=\"1\" stroke=\"none\"/>\n",
       "<circle clip-path=\"url(#clip892)\" cx=\"524.175\" cy=\"860.213\" r=\"14\" fill=\"#cd5c5c\" fill-rule=\"evenodd\" fill-opacity=\"1\" stroke=\"none\"/>\n",
       "<circle clip-path=\"url(#clip892)\" cx=\"527.529\" cy=\"872.424\" r=\"14\" fill=\"#cd5c5c\" fill-rule=\"evenodd\" fill-opacity=\"1\" stroke=\"none\"/>\n",
       "<circle clip-path=\"url(#clip892)\" cx=\"530.883\" cy=\"873.192\" r=\"14\" fill=\"#cd5c5c\" fill-rule=\"evenodd\" fill-opacity=\"1\" stroke=\"none\"/>\n",
       "<circle clip-path=\"url(#clip892)\" cx=\"534.237\" cy=\"867.503\" r=\"14\" fill=\"#cd5c5c\" fill-rule=\"evenodd\" fill-opacity=\"1\" stroke=\"none\"/>\n",
       "<circle clip-path=\"url(#clip892)\" cx=\"537.591\" cy=\"872.547\" r=\"14\" fill=\"#cd5c5c\" fill-rule=\"evenodd\" fill-opacity=\"1\" stroke=\"none\"/>\n",
       "<circle clip-path=\"url(#clip892)\" cx=\"540.945\" cy=\"864.54\" r=\"14\" fill=\"#cd5c5c\" fill-rule=\"evenodd\" fill-opacity=\"1\" stroke=\"none\"/>\n",
       "<circle clip-path=\"url(#clip892)\" cx=\"544.299\" cy=\"869.44\" r=\"14\" fill=\"#cd5c5c\" fill-rule=\"evenodd\" fill-opacity=\"1\" stroke=\"none\"/>\n",
       "<circle clip-path=\"url(#clip892)\" cx=\"547.653\" cy=\"856.225\" r=\"14\" fill=\"#cd5c5c\" fill-rule=\"evenodd\" fill-opacity=\"1\" stroke=\"none\"/>\n",
       "<circle clip-path=\"url(#clip892)\" cx=\"551.007\" cy=\"864.591\" r=\"14\" fill=\"#cd5c5c\" fill-rule=\"evenodd\" fill-opacity=\"1\" stroke=\"none\"/>\n",
       "<circle clip-path=\"url(#clip892)\" cx=\"554.361\" cy=\"860.54\" r=\"14\" fill=\"#cd5c5c\" fill-rule=\"evenodd\" fill-opacity=\"1\" stroke=\"none\"/>\n",
       "<circle clip-path=\"url(#clip892)\" cx=\"557.715\" cy=\"873.659\" r=\"14\" fill=\"#cd5c5c\" fill-rule=\"evenodd\" fill-opacity=\"1\" stroke=\"none\"/>\n",
       "<circle clip-path=\"url(#clip892)\" cx=\"561.069\" cy=\"871.241\" r=\"14\" fill=\"#cd5c5c\" fill-rule=\"evenodd\" fill-opacity=\"1\" stroke=\"none\"/>\n",
       "<circle clip-path=\"url(#clip892)\" cx=\"564.423\" cy=\"872.738\" r=\"14\" fill=\"#cd5c5c\" fill-rule=\"evenodd\" fill-opacity=\"1\" stroke=\"none\"/>\n",
       "<circle clip-path=\"url(#clip892)\" cx=\"567.777\" cy=\"863.624\" r=\"14\" fill=\"#cd5c5c\" fill-rule=\"evenodd\" fill-opacity=\"1\" stroke=\"none\"/>\n",
       "<circle clip-path=\"url(#clip892)\" cx=\"571.131\" cy=\"871.298\" r=\"14\" fill=\"#cd5c5c\" fill-rule=\"evenodd\" fill-opacity=\"1\" stroke=\"none\"/>\n",
       "<circle clip-path=\"url(#clip892)\" cx=\"574.485\" cy=\"875.91\" r=\"14\" fill=\"#cd5c5c\" fill-rule=\"evenodd\" fill-opacity=\"1\" stroke=\"none\"/>\n",
       "<circle clip-path=\"url(#clip892)\" cx=\"577.839\" cy=\"861.512\" r=\"14\" fill=\"#cd5c5c\" fill-rule=\"evenodd\" fill-opacity=\"1\" stroke=\"none\"/>\n",
       "<circle clip-path=\"url(#clip892)\" cx=\"581.193\" cy=\"870.714\" r=\"14\" fill=\"#cd5c5c\" fill-rule=\"evenodd\" fill-opacity=\"1\" stroke=\"none\"/>\n",
       "<circle clip-path=\"url(#clip892)\" cx=\"584.546\" cy=\"842.499\" r=\"14\" fill=\"#cd5c5c\" fill-rule=\"evenodd\" fill-opacity=\"1\" stroke=\"none\"/>\n",
       "<circle clip-path=\"url(#clip892)\" cx=\"587.9\" cy=\"852.713\" r=\"14\" fill=\"#cd5c5c\" fill-rule=\"evenodd\" fill-opacity=\"1\" stroke=\"none\"/>\n",
       "<circle clip-path=\"url(#clip892)\" cx=\"591.254\" cy=\"855.228\" r=\"14\" fill=\"#cd5c5c\" fill-rule=\"evenodd\" fill-opacity=\"1\" stroke=\"none\"/>\n",
       "<circle clip-path=\"url(#clip892)\" cx=\"594.608\" cy=\"873.521\" r=\"14\" fill=\"#cd5c5c\" fill-rule=\"evenodd\" fill-opacity=\"1\" stroke=\"none\"/>\n",
       "<circle clip-path=\"url(#clip892)\" cx=\"597.962\" cy=\"864.453\" r=\"14\" fill=\"#cd5c5c\" fill-rule=\"evenodd\" fill-opacity=\"1\" stroke=\"none\"/>\n",
       "<circle clip-path=\"url(#clip892)\" cx=\"601.316\" cy=\"862.961\" r=\"14\" fill=\"#cd5c5c\" fill-rule=\"evenodd\" fill-opacity=\"1\" stroke=\"none\"/>\n",
       "<circle clip-path=\"url(#clip892)\" cx=\"604.67\" cy=\"859.416\" r=\"14\" fill=\"#cd5c5c\" fill-rule=\"evenodd\" fill-opacity=\"1\" stroke=\"none\"/>\n",
       "<circle clip-path=\"url(#clip892)\" cx=\"608.024\" cy=\"866.257\" r=\"14\" fill=\"#cd5c5c\" fill-rule=\"evenodd\" fill-opacity=\"1\" stroke=\"none\"/>\n",
       "<circle clip-path=\"url(#clip892)\" cx=\"611.378\" cy=\"855.967\" r=\"14\" fill=\"#cd5c5c\" fill-rule=\"evenodd\" fill-opacity=\"1\" stroke=\"none\"/>\n",
       "<circle clip-path=\"url(#clip892)\" cx=\"614.732\" cy=\"873.816\" r=\"14\" fill=\"#cd5c5c\" fill-rule=\"evenodd\" fill-opacity=\"1\" stroke=\"none\"/>\n",
       "<circle clip-path=\"url(#clip892)\" cx=\"618.086\" cy=\"840.04\" r=\"14\" fill=\"#cd5c5c\" fill-rule=\"evenodd\" fill-opacity=\"1\" stroke=\"none\"/>\n",
       "<circle clip-path=\"url(#clip892)\" cx=\"621.44\" cy=\"875.268\" r=\"14\" fill=\"#cd5c5c\" fill-rule=\"evenodd\" fill-opacity=\"1\" stroke=\"none\"/>\n",
       "<circle clip-path=\"url(#clip892)\" cx=\"624.794\" cy=\"871.008\" r=\"14\" fill=\"#cd5c5c\" fill-rule=\"evenodd\" fill-opacity=\"1\" stroke=\"none\"/>\n",
       "<circle clip-path=\"url(#clip892)\" cx=\"628.148\" cy=\"868.609\" r=\"14\" fill=\"#cd5c5c\" fill-rule=\"evenodd\" fill-opacity=\"1\" stroke=\"none\"/>\n",
       "<circle clip-path=\"url(#clip892)\" cx=\"631.502\" cy=\"874.878\" r=\"14\" fill=\"#cd5c5c\" fill-rule=\"evenodd\" fill-opacity=\"1\" stroke=\"none\"/>\n",
       "<circle clip-path=\"url(#clip892)\" cx=\"634.856\" cy=\"865.555\" r=\"14\" fill=\"#cd5c5c\" fill-rule=\"evenodd\" fill-opacity=\"1\" stroke=\"none\"/>\n",
       "<circle clip-path=\"url(#clip892)\" cx=\"638.21\" cy=\"873.272\" r=\"14\" fill=\"#cd5c5c\" fill-rule=\"evenodd\" fill-opacity=\"1\" stroke=\"none\"/>\n",
       "<circle clip-path=\"url(#clip892)\" cx=\"641.564\" cy=\"871.855\" r=\"14\" fill=\"#cd5c5c\" fill-rule=\"evenodd\" fill-opacity=\"1\" stroke=\"none\"/>\n",
       "<circle clip-path=\"url(#clip892)\" cx=\"644.918\" cy=\"863.992\" r=\"14\" fill=\"#cd5c5c\" fill-rule=\"evenodd\" fill-opacity=\"1\" stroke=\"none\"/>\n",
       "<circle clip-path=\"url(#clip892)\" cx=\"648.271\" cy=\"872.051\" r=\"14\" fill=\"#cd5c5c\" fill-rule=\"evenodd\" fill-opacity=\"1\" stroke=\"none\"/>\n",
       "<circle clip-path=\"url(#clip892)\" cx=\"651.625\" cy=\"866.585\" r=\"14\" fill=\"#cd5c5c\" fill-rule=\"evenodd\" fill-opacity=\"1\" stroke=\"none\"/>\n",
       "<circle clip-path=\"url(#clip892)\" cx=\"654.979\" cy=\"874.862\" r=\"14\" fill=\"#cd5c5c\" fill-rule=\"evenodd\" fill-opacity=\"1\" stroke=\"none\"/>\n",
       "<circle clip-path=\"url(#clip892)\" cx=\"658.333\" cy=\"874.634\" r=\"14\" fill=\"#cd5c5c\" fill-rule=\"evenodd\" fill-opacity=\"1\" stroke=\"none\"/>\n",
       "<circle clip-path=\"url(#clip892)\" cx=\"661.687\" cy=\"873.09\" r=\"14\" fill=\"#cd5c5c\" fill-rule=\"evenodd\" fill-opacity=\"1\" stroke=\"none\"/>\n",
       "<circle clip-path=\"url(#clip892)\" cx=\"665.041\" cy=\"874.018\" r=\"14\" fill=\"#cd5c5c\" fill-rule=\"evenodd\" fill-opacity=\"1\" stroke=\"none\"/>\n",
       "<circle clip-path=\"url(#clip892)\" cx=\"668.395\" cy=\"874.083\" r=\"14\" fill=\"#cd5c5c\" fill-rule=\"evenodd\" fill-opacity=\"1\" stroke=\"none\"/>\n",
       "<circle clip-path=\"url(#clip892)\" cx=\"671.749\" cy=\"867.1\" r=\"14\" fill=\"#cd5c5c\" fill-rule=\"evenodd\" fill-opacity=\"1\" stroke=\"none\"/>\n",
       "<circle clip-path=\"url(#clip892)\" cx=\"675.103\" cy=\"858.473\" r=\"14\" fill=\"#cd5c5c\" fill-rule=\"evenodd\" fill-opacity=\"1\" stroke=\"none\"/>\n",
       "<circle clip-path=\"url(#clip892)\" cx=\"678.457\" cy=\"856.136\" r=\"14\" fill=\"#cd5c5c\" fill-rule=\"evenodd\" fill-opacity=\"1\" stroke=\"none\"/>\n",
       "<circle clip-path=\"url(#clip892)\" cx=\"681.811\" cy=\"870.156\" r=\"14\" fill=\"#cd5c5c\" fill-rule=\"evenodd\" fill-opacity=\"1\" stroke=\"none\"/>\n",
       "<circle clip-path=\"url(#clip892)\" cx=\"685.165\" cy=\"847.666\" r=\"14\" fill=\"#cd5c5c\" fill-rule=\"evenodd\" fill-opacity=\"1\" stroke=\"none\"/>\n",
       "<circle clip-path=\"url(#clip892)\" cx=\"688.519\" cy=\"872.281\" r=\"14\" fill=\"#cd5c5c\" fill-rule=\"evenodd\" fill-opacity=\"1\" stroke=\"none\"/>\n",
       "<circle clip-path=\"url(#clip892)\" cx=\"691.873\" cy=\"868.641\" r=\"14\" fill=\"#cd5c5c\" fill-rule=\"evenodd\" fill-opacity=\"1\" stroke=\"none\"/>\n",
       "<circle clip-path=\"url(#clip892)\" cx=\"695.227\" cy=\"868.305\" r=\"14\" fill=\"#cd5c5c\" fill-rule=\"evenodd\" fill-opacity=\"1\" stroke=\"none\"/>\n",
       "<circle clip-path=\"url(#clip892)\" cx=\"698.581\" cy=\"872.605\" r=\"14\" fill=\"#cd5c5c\" fill-rule=\"evenodd\" fill-opacity=\"1\" stroke=\"none\"/>\n",
       "<circle clip-path=\"url(#clip892)\" cx=\"701.935\" cy=\"871.241\" r=\"14\" fill=\"#cd5c5c\" fill-rule=\"evenodd\" fill-opacity=\"1\" stroke=\"none\"/>\n",
       "<circle clip-path=\"url(#clip892)\" cx=\"705.289\" cy=\"875.462\" r=\"14\" fill=\"#cd5c5c\" fill-rule=\"evenodd\" fill-opacity=\"1\" stroke=\"none\"/>\n",
       "<circle clip-path=\"url(#clip892)\" cx=\"708.643\" cy=\"866.434\" r=\"14\" fill=\"#cd5c5c\" fill-rule=\"evenodd\" fill-opacity=\"1\" stroke=\"none\"/>\n",
       "<circle clip-path=\"url(#clip892)\" cx=\"711.996\" cy=\"864.029\" r=\"14\" fill=\"#cd5c5c\" fill-rule=\"evenodd\" fill-opacity=\"1\" stroke=\"none\"/>\n",
       "<circle clip-path=\"url(#clip892)\" cx=\"715.35\" cy=\"864.07\" r=\"14\" fill=\"#cd5c5c\" fill-rule=\"evenodd\" fill-opacity=\"1\" stroke=\"none\"/>\n",
       "<circle clip-path=\"url(#clip892)\" cx=\"718.704\" cy=\"868.604\" r=\"14\" fill=\"#cd5c5c\" fill-rule=\"evenodd\" fill-opacity=\"1\" stroke=\"none\"/>\n",
       "<circle clip-path=\"url(#clip892)\" cx=\"722.058\" cy=\"872.384\" r=\"14\" fill=\"#cd5c5c\" fill-rule=\"evenodd\" fill-opacity=\"1\" stroke=\"none\"/>\n",
       "<circle clip-path=\"url(#clip892)\" cx=\"725.412\" cy=\"864.95\" r=\"14\" fill=\"#cd5c5c\" fill-rule=\"evenodd\" fill-opacity=\"1\" stroke=\"none\"/>\n",
       "<circle clip-path=\"url(#clip892)\" cx=\"728.766\" cy=\"875.242\" r=\"14\" fill=\"#cd5c5c\" fill-rule=\"evenodd\" fill-opacity=\"1\" stroke=\"none\"/>\n",
       "<circle clip-path=\"url(#clip892)\" cx=\"732.12\" cy=\"854.599\" r=\"14\" fill=\"#cd5c5c\" fill-rule=\"evenodd\" fill-opacity=\"1\" stroke=\"none\"/>\n",
       "<circle clip-path=\"url(#clip892)\" cx=\"735.474\" cy=\"849.212\" r=\"14\" fill=\"#cd5c5c\" fill-rule=\"evenodd\" fill-opacity=\"1\" stroke=\"none\"/>\n",
       "<circle clip-path=\"url(#clip892)\" cx=\"738.828\" cy=\"857.238\" r=\"14\" fill=\"#cd5c5c\" fill-rule=\"evenodd\" fill-opacity=\"1\" stroke=\"none\"/>\n",
       "<circle clip-path=\"url(#clip892)\" cx=\"742.182\" cy=\"865.349\" r=\"14\" fill=\"#cd5c5c\" fill-rule=\"evenodd\" fill-opacity=\"1\" stroke=\"none\"/>\n",
       "<circle clip-path=\"url(#clip892)\" cx=\"745.536\" cy=\"854.661\" r=\"14\" fill=\"#cd5c5c\" fill-rule=\"evenodd\" fill-opacity=\"1\" stroke=\"none\"/>\n",
       "<circle clip-path=\"url(#clip892)\" cx=\"748.89\" cy=\"867.493\" r=\"14\" fill=\"#cd5c5c\" fill-rule=\"evenodd\" fill-opacity=\"1\" stroke=\"none\"/>\n",
       "<circle clip-path=\"url(#clip892)\" cx=\"752.244\" cy=\"871.491\" r=\"14\" fill=\"#cd5c5c\" fill-rule=\"evenodd\" fill-opacity=\"1\" stroke=\"none\"/>\n",
       "<circle clip-path=\"url(#clip892)\" cx=\"755.598\" cy=\"874.967\" r=\"14\" fill=\"#cd5c5c\" fill-rule=\"evenodd\" fill-opacity=\"1\" stroke=\"none\"/>\n",
       "<circle clip-path=\"url(#clip892)\" cx=\"758.952\" cy=\"873.475\" r=\"14\" fill=\"#cd5c5c\" fill-rule=\"evenodd\" fill-opacity=\"1\" stroke=\"none\"/>\n",
       "<circle clip-path=\"url(#clip892)\" cx=\"762.306\" cy=\"873.668\" r=\"14\" fill=\"#cd5c5c\" fill-rule=\"evenodd\" fill-opacity=\"1\" stroke=\"none\"/>\n",
       "<circle clip-path=\"url(#clip892)\" cx=\"765.66\" cy=\"863.43\" r=\"14\" fill=\"#cd5c5c\" fill-rule=\"evenodd\" fill-opacity=\"1\" stroke=\"none\"/>\n",
       "<circle clip-path=\"url(#clip892)\" cx=\"769.014\" cy=\"868.697\" r=\"14\" fill=\"#cd5c5c\" fill-rule=\"evenodd\" fill-opacity=\"1\" stroke=\"none\"/>\n",
       "<circle clip-path=\"url(#clip892)\" cx=\"772.368\" cy=\"873.018\" r=\"14\" fill=\"#cd5c5c\" fill-rule=\"evenodd\" fill-opacity=\"1\" stroke=\"none\"/>\n",
       "<circle clip-path=\"url(#clip892)\" cx=\"775.722\" cy=\"867.142\" r=\"14\" fill=\"#cd5c5c\" fill-rule=\"evenodd\" fill-opacity=\"1\" stroke=\"none\"/>\n",
       "<circle clip-path=\"url(#clip892)\" cx=\"779.075\" cy=\"873.042\" r=\"14\" fill=\"#cd5c5c\" fill-rule=\"evenodd\" fill-opacity=\"1\" stroke=\"none\"/>\n",
       "<circle clip-path=\"url(#clip892)\" cx=\"782.429\" cy=\"868.649\" r=\"14\" fill=\"#cd5c5c\" fill-rule=\"evenodd\" fill-opacity=\"1\" stroke=\"none\"/>\n",
       "<circle clip-path=\"url(#clip892)\" cx=\"785.783\" cy=\"869.275\" r=\"14\" fill=\"#cd5c5c\" fill-rule=\"evenodd\" fill-opacity=\"1\" stroke=\"none\"/>\n",
       "<circle clip-path=\"url(#clip892)\" cx=\"789.137\" cy=\"876.443\" r=\"14\" fill=\"#cd5c5c\" fill-rule=\"evenodd\" fill-opacity=\"1\" stroke=\"none\"/>\n",
       "<circle clip-path=\"url(#clip892)\" cx=\"792.491\" cy=\"861.855\" r=\"14\" fill=\"#cd5c5c\" fill-rule=\"evenodd\" fill-opacity=\"1\" stroke=\"none\"/>\n",
       "<circle clip-path=\"url(#clip892)\" cx=\"795.845\" cy=\"870.491\" r=\"14\" fill=\"#cd5c5c\" fill-rule=\"evenodd\" fill-opacity=\"1\" stroke=\"none\"/>\n",
       "<circle clip-path=\"url(#clip892)\" cx=\"799.199\" cy=\"856.736\" r=\"14\" fill=\"#cd5c5c\" fill-rule=\"evenodd\" fill-opacity=\"1\" stroke=\"none\"/>\n",
       "<circle clip-path=\"url(#clip892)\" cx=\"802.553\" cy=\"873.831\" r=\"14\" fill=\"#cd5c5c\" fill-rule=\"evenodd\" fill-opacity=\"1\" stroke=\"none\"/>\n",
       "<circle clip-path=\"url(#clip892)\" cx=\"805.907\" cy=\"872.069\" r=\"14\" fill=\"#cd5c5c\" fill-rule=\"evenodd\" fill-opacity=\"1\" stroke=\"none\"/>\n",
       "<circle clip-path=\"url(#clip892)\" cx=\"809.261\" cy=\"870.826\" r=\"14\" fill=\"#cd5c5c\" fill-rule=\"evenodd\" fill-opacity=\"1\" stroke=\"none\"/>\n",
       "<circle clip-path=\"url(#clip892)\" cx=\"812.615\" cy=\"871.616\" r=\"14\" fill=\"#cd5c5c\" fill-rule=\"evenodd\" fill-opacity=\"1\" stroke=\"none\"/>\n",
       "<circle clip-path=\"url(#clip892)\" cx=\"815.969\" cy=\"874.11\" r=\"14\" fill=\"#cd5c5c\" fill-rule=\"evenodd\" fill-opacity=\"1\" stroke=\"none\"/>\n",
       "<circle clip-path=\"url(#clip892)\" cx=\"819.323\" cy=\"873.634\" r=\"14\" fill=\"#cd5c5c\" fill-rule=\"evenodd\" fill-opacity=\"1\" stroke=\"none\"/>\n",
       "<circle clip-path=\"url(#clip892)\" cx=\"822.677\" cy=\"873.592\" r=\"14\" fill=\"#cd5c5c\" fill-rule=\"evenodd\" fill-opacity=\"1\" stroke=\"none\"/>\n",
       "<circle clip-path=\"url(#clip892)\" cx=\"826.031\" cy=\"874.907\" r=\"14\" fill=\"#cd5c5c\" fill-rule=\"evenodd\" fill-opacity=\"1\" stroke=\"none\"/>\n",
       "<circle clip-path=\"url(#clip892)\" cx=\"829.385\" cy=\"873.534\" r=\"14\" fill=\"#cd5c5c\" fill-rule=\"evenodd\" fill-opacity=\"1\" stroke=\"none\"/>\n",
       "<circle clip-path=\"url(#clip892)\" cx=\"832.739\" cy=\"876.922\" r=\"14\" fill=\"#cd5c5c\" fill-rule=\"evenodd\" fill-opacity=\"1\" stroke=\"none\"/>\n",
       "<circle clip-path=\"url(#clip892)\" cx=\"836.093\" cy=\"871.011\" r=\"14\" fill=\"#cd5c5c\" fill-rule=\"evenodd\" fill-opacity=\"1\" stroke=\"none\"/>\n",
       "<circle clip-path=\"url(#clip892)\" cx=\"839.447\" cy=\"871.539\" r=\"14\" fill=\"#cd5c5c\" fill-rule=\"evenodd\" fill-opacity=\"1\" stroke=\"none\"/>\n",
       "<circle clip-path=\"url(#clip892)\" cx=\"842.8\" cy=\"875.723\" r=\"14\" fill=\"#cd5c5c\" fill-rule=\"evenodd\" fill-opacity=\"1\" stroke=\"none\"/>\n",
       "<circle clip-path=\"url(#clip892)\" cx=\"846.154\" cy=\"867.367\" r=\"14\" fill=\"#cd5c5c\" fill-rule=\"evenodd\" fill-opacity=\"1\" stroke=\"none\"/>\n",
       "<circle clip-path=\"url(#clip892)\" cx=\"849.508\" cy=\"863.78\" r=\"14\" fill=\"#cd5c5c\" fill-rule=\"evenodd\" fill-opacity=\"1\" stroke=\"none\"/>\n",
       "<circle clip-path=\"url(#clip892)\" cx=\"852.862\" cy=\"870.76\" r=\"14\" fill=\"#cd5c5c\" fill-rule=\"evenodd\" fill-opacity=\"1\" stroke=\"none\"/>\n",
       "<circle clip-path=\"url(#clip892)\" cx=\"856.216\" cy=\"870.697\" r=\"14\" fill=\"#cd5c5c\" fill-rule=\"evenodd\" fill-opacity=\"1\" stroke=\"none\"/>\n",
       "<circle clip-path=\"url(#clip892)\" cx=\"859.57\" cy=\"871.925\" r=\"14\" fill=\"#cd5c5c\" fill-rule=\"evenodd\" fill-opacity=\"1\" stroke=\"none\"/>\n",
       "<circle clip-path=\"url(#clip892)\" cx=\"862.924\" cy=\"857.884\" r=\"14\" fill=\"#cd5c5c\" fill-rule=\"evenodd\" fill-opacity=\"1\" stroke=\"none\"/>\n",
       "<circle clip-path=\"url(#clip892)\" cx=\"866.278\" cy=\"855.695\" r=\"14\" fill=\"#cd5c5c\" fill-rule=\"evenodd\" fill-opacity=\"1\" stroke=\"none\"/>\n",
       "<circle clip-path=\"url(#clip892)\" cx=\"869.632\" cy=\"862.211\" r=\"14\" fill=\"#cd5c5c\" fill-rule=\"evenodd\" fill-opacity=\"1\" stroke=\"none\"/>\n",
       "<circle clip-path=\"url(#clip892)\" cx=\"872.986\" cy=\"871.382\" r=\"14\" fill=\"#cd5c5c\" fill-rule=\"evenodd\" fill-opacity=\"1\" stroke=\"none\"/>\n",
       "<circle clip-path=\"url(#clip892)\" cx=\"876.34\" cy=\"862.744\" r=\"14\" fill=\"#cd5c5c\" fill-rule=\"evenodd\" fill-opacity=\"1\" stroke=\"none\"/>\n",
       "<circle clip-path=\"url(#clip892)\" cx=\"879.694\" cy=\"873.877\" r=\"14\" fill=\"#cd5c5c\" fill-rule=\"evenodd\" fill-opacity=\"1\" stroke=\"none\"/>\n",
       "<circle clip-path=\"url(#clip892)\" cx=\"883.048\" cy=\"869.515\" r=\"14\" fill=\"#cd5c5c\" fill-rule=\"evenodd\" fill-opacity=\"1\" stroke=\"none\"/>\n",
       "<circle clip-path=\"url(#clip892)\" cx=\"886.402\" cy=\"874.691\" r=\"14\" fill=\"#cd5c5c\" fill-rule=\"evenodd\" fill-opacity=\"1\" stroke=\"none\"/>\n",
       "<circle clip-path=\"url(#clip892)\" cx=\"889.756\" cy=\"870.971\" r=\"14\" fill=\"#cd5c5c\" fill-rule=\"evenodd\" fill-opacity=\"1\" stroke=\"none\"/>\n",
       "<circle clip-path=\"url(#clip892)\" cx=\"893.11\" cy=\"874.725\" r=\"14\" fill=\"#cd5c5c\" fill-rule=\"evenodd\" fill-opacity=\"1\" stroke=\"none\"/>\n",
       "<circle clip-path=\"url(#clip892)\" cx=\"896.464\" cy=\"874.33\" r=\"14\" fill=\"#cd5c5c\" fill-rule=\"evenodd\" fill-opacity=\"1\" stroke=\"none\"/>\n",
       "<circle clip-path=\"url(#clip892)\" cx=\"899.818\" cy=\"871.414\" r=\"14\" fill=\"#cd5c5c\" fill-rule=\"evenodd\" fill-opacity=\"1\" stroke=\"none\"/>\n",
       "<circle clip-path=\"url(#clip892)\" cx=\"903.172\" cy=\"872.761\" r=\"14\" fill=\"#cd5c5c\" fill-rule=\"evenodd\" fill-opacity=\"1\" stroke=\"none\"/>\n",
       "<circle clip-path=\"url(#clip892)\" cx=\"906.525\" cy=\"870.985\" r=\"14\" fill=\"#cd5c5c\" fill-rule=\"evenodd\" fill-opacity=\"1\" stroke=\"none\"/>\n",
       "<circle clip-path=\"url(#clip892)\" cx=\"909.879\" cy=\"873.547\" r=\"14\" fill=\"#cd5c5c\" fill-rule=\"evenodd\" fill-opacity=\"1\" stroke=\"none\"/>\n",
       "<circle clip-path=\"url(#clip892)\" cx=\"913.233\" cy=\"868.488\" r=\"14\" fill=\"#cd5c5c\" fill-rule=\"evenodd\" fill-opacity=\"1\" stroke=\"none\"/>\n",
       "<circle clip-path=\"url(#clip892)\" cx=\"916.587\" cy=\"859.82\" r=\"14\" fill=\"#cd5c5c\" fill-rule=\"evenodd\" fill-opacity=\"1\" stroke=\"none\"/>\n",
       "<circle clip-path=\"url(#clip892)\" cx=\"919.941\" cy=\"873.456\" r=\"14\" fill=\"#cd5c5c\" fill-rule=\"evenodd\" fill-opacity=\"1\" stroke=\"none\"/>\n",
       "<circle clip-path=\"url(#clip892)\" cx=\"923.295\" cy=\"868.136\" r=\"14\" fill=\"#cd5c5c\" fill-rule=\"evenodd\" fill-opacity=\"1\" stroke=\"none\"/>\n",
       "<circle clip-path=\"url(#clip892)\" cx=\"926.649\" cy=\"873.331\" r=\"14\" fill=\"#cd5c5c\" fill-rule=\"evenodd\" fill-opacity=\"1\" stroke=\"none\"/>\n",
       "<circle clip-path=\"url(#clip892)\" cx=\"930.003\" cy=\"876.303\" r=\"14\" fill=\"#cd5c5c\" fill-rule=\"evenodd\" fill-opacity=\"1\" stroke=\"none\"/>\n",
       "<circle clip-path=\"url(#clip892)\" cx=\"933.357\" cy=\"869.433\" r=\"14\" fill=\"#cd5c5c\" fill-rule=\"evenodd\" fill-opacity=\"1\" stroke=\"none\"/>\n",
       "<circle clip-path=\"url(#clip892)\" cx=\"936.711\" cy=\"873.509\" r=\"14\" fill=\"#cd5c5c\" fill-rule=\"evenodd\" fill-opacity=\"1\" stroke=\"none\"/>\n",
       "<circle clip-path=\"url(#clip892)\" cx=\"940.065\" cy=\"869.456\" r=\"14\" fill=\"#cd5c5c\" fill-rule=\"evenodd\" fill-opacity=\"1\" stroke=\"none\"/>\n",
       "<circle clip-path=\"url(#clip892)\" cx=\"943.419\" cy=\"873.095\" r=\"14\" fill=\"#cd5c5c\" fill-rule=\"evenodd\" fill-opacity=\"1\" stroke=\"none\"/>\n",
       "<circle clip-path=\"url(#clip892)\" cx=\"946.773\" cy=\"866.373\" r=\"14\" fill=\"#cd5c5c\" fill-rule=\"evenodd\" fill-opacity=\"1\" stroke=\"none\"/>\n",
       "<circle clip-path=\"url(#clip892)\" cx=\"950.127\" cy=\"874.032\" r=\"14\" fill=\"#cd5c5c\" fill-rule=\"evenodd\" fill-opacity=\"1\" stroke=\"none\"/>\n",
       "<circle clip-path=\"url(#clip892)\" cx=\"953.481\" cy=\"872.466\" r=\"14\" fill=\"#cd5c5c\" fill-rule=\"evenodd\" fill-opacity=\"1\" stroke=\"none\"/>\n",
       "<circle clip-path=\"url(#clip892)\" cx=\"956.835\" cy=\"869.935\" r=\"14\" fill=\"#cd5c5c\" fill-rule=\"evenodd\" fill-opacity=\"1\" stroke=\"none\"/>\n",
       "<circle clip-path=\"url(#clip892)\" cx=\"960.189\" cy=\"876.107\" r=\"14\" fill=\"#cd5c5c\" fill-rule=\"evenodd\" fill-opacity=\"1\" stroke=\"none\"/>\n",
       "<circle clip-path=\"url(#clip892)\" cx=\"963.543\" cy=\"872.524\" r=\"14\" fill=\"#cd5c5c\" fill-rule=\"evenodd\" fill-opacity=\"1\" stroke=\"none\"/>\n",
       "<circle clip-path=\"url(#clip892)\" cx=\"966.897\" cy=\"867.211\" r=\"14\" fill=\"#cd5c5c\" fill-rule=\"evenodd\" fill-opacity=\"1\" stroke=\"none\"/>\n",
       "<circle clip-path=\"url(#clip892)\" cx=\"970.25\" cy=\"871.98\" r=\"14\" fill=\"#cd5c5c\" fill-rule=\"evenodd\" fill-opacity=\"1\" stroke=\"none\"/>\n",
       "<circle clip-path=\"url(#clip892)\" cx=\"973.604\" cy=\"869.856\" r=\"14\" fill=\"#cd5c5c\" fill-rule=\"evenodd\" fill-opacity=\"1\" stroke=\"none\"/>\n",
       "<circle clip-path=\"url(#clip892)\" cx=\"976.958\" cy=\"871.912\" r=\"14\" fill=\"#cd5c5c\" fill-rule=\"evenodd\" fill-opacity=\"1\" stroke=\"none\"/>\n",
       "<circle clip-path=\"url(#clip892)\" cx=\"980.312\" cy=\"867.085\" r=\"14\" fill=\"#cd5c5c\" fill-rule=\"evenodd\" fill-opacity=\"1\" stroke=\"none\"/>\n",
       "<circle clip-path=\"url(#clip892)\" cx=\"983.666\" cy=\"875.092\" r=\"14\" fill=\"#cd5c5c\" fill-rule=\"evenodd\" fill-opacity=\"1\" stroke=\"none\"/>\n",
       "<circle clip-path=\"url(#clip892)\" cx=\"987.02\" cy=\"872.708\" r=\"14\" fill=\"#cd5c5c\" fill-rule=\"evenodd\" fill-opacity=\"1\" stroke=\"none\"/>\n",
       "<circle clip-path=\"url(#clip892)\" cx=\"990.374\" cy=\"872.199\" r=\"14\" fill=\"#cd5c5c\" fill-rule=\"evenodd\" fill-opacity=\"1\" stroke=\"none\"/>\n",
       "<circle clip-path=\"url(#clip892)\" cx=\"993.728\" cy=\"873.347\" r=\"14\" fill=\"#cd5c5c\" fill-rule=\"evenodd\" fill-opacity=\"1\" stroke=\"none\"/>\n",
       "<circle clip-path=\"url(#clip892)\" cx=\"997.082\" cy=\"864.861\" r=\"14\" fill=\"#cd5c5c\" fill-rule=\"evenodd\" fill-opacity=\"1\" stroke=\"none\"/>\n",
       "<circle clip-path=\"url(#clip892)\" cx=\"1000.44\" cy=\"838.75\" r=\"14\" fill=\"#cd5c5c\" fill-rule=\"evenodd\" fill-opacity=\"1\" stroke=\"none\"/>\n",
       "<circle clip-path=\"url(#clip892)\" cx=\"1003.79\" cy=\"872.303\" r=\"14\" fill=\"#cd5c5c\" fill-rule=\"evenodd\" fill-opacity=\"1\" stroke=\"none\"/>\n",
       "<circle clip-path=\"url(#clip892)\" cx=\"1007.14\" cy=\"874.957\" r=\"14\" fill=\"#cd5c5c\" fill-rule=\"evenodd\" fill-opacity=\"1\" stroke=\"none\"/>\n",
       "<circle clip-path=\"url(#clip892)\" cx=\"1010.5\" cy=\"864.806\" r=\"14\" fill=\"#cd5c5c\" fill-rule=\"evenodd\" fill-opacity=\"1\" stroke=\"none\"/>\n",
       "<circle clip-path=\"url(#clip892)\" cx=\"1013.85\" cy=\"867.273\" r=\"14\" fill=\"#cd5c5c\" fill-rule=\"evenodd\" fill-opacity=\"1\" stroke=\"none\"/>\n",
       "<circle clip-path=\"url(#clip892)\" cx=\"1017.21\" cy=\"868.744\" r=\"14\" fill=\"#cd5c5c\" fill-rule=\"evenodd\" fill-opacity=\"1\" stroke=\"none\"/>\n",
       "<circle clip-path=\"url(#clip892)\" cx=\"1020.56\" cy=\"869.46\" r=\"14\" fill=\"#cd5c5c\" fill-rule=\"evenodd\" fill-opacity=\"1\" stroke=\"none\"/>\n",
       "<circle clip-path=\"url(#clip892)\" cx=\"1023.91\" cy=\"875.821\" r=\"14\" fill=\"#cd5c5c\" fill-rule=\"evenodd\" fill-opacity=\"1\" stroke=\"none\"/>\n",
       "<circle clip-path=\"url(#clip892)\" cx=\"1027.27\" cy=\"872.566\" r=\"14\" fill=\"#cd5c5c\" fill-rule=\"evenodd\" fill-opacity=\"1\" stroke=\"none\"/>\n",
       "<circle clip-path=\"url(#clip892)\" cx=\"1030.62\" cy=\"871.541\" r=\"14\" fill=\"#cd5c5c\" fill-rule=\"evenodd\" fill-opacity=\"1\" stroke=\"none\"/>\n",
       "<circle clip-path=\"url(#clip892)\" cx=\"1033.98\" cy=\"872.649\" r=\"14\" fill=\"#cd5c5c\" fill-rule=\"evenodd\" fill-opacity=\"1\" stroke=\"none\"/>\n",
       "<circle clip-path=\"url(#clip892)\" cx=\"1037.33\" cy=\"873.137\" r=\"14\" fill=\"#cd5c5c\" fill-rule=\"evenodd\" fill-opacity=\"1\" stroke=\"none\"/>\n",
       "<circle clip-path=\"url(#clip892)\" cx=\"1040.68\" cy=\"871.16\" r=\"14\" fill=\"#cd5c5c\" fill-rule=\"evenodd\" fill-opacity=\"1\" stroke=\"none\"/>\n",
       "<circle clip-path=\"url(#clip892)\" cx=\"1044.04\" cy=\"874.053\" r=\"14\" fill=\"#cd5c5c\" fill-rule=\"evenodd\" fill-opacity=\"1\" stroke=\"none\"/>\n",
       "<circle clip-path=\"url(#clip892)\" cx=\"1047.39\" cy=\"868.884\" r=\"14\" fill=\"#cd5c5c\" fill-rule=\"evenodd\" fill-opacity=\"1\" stroke=\"none\"/>\n",
       "<circle clip-path=\"url(#clip892)\" cx=\"1050.75\" cy=\"872.064\" r=\"14\" fill=\"#cd5c5c\" fill-rule=\"evenodd\" fill-opacity=\"1\" stroke=\"none\"/>\n",
       "<circle clip-path=\"url(#clip892)\" cx=\"1054.1\" cy=\"862.494\" r=\"14\" fill=\"#cd5c5c\" fill-rule=\"evenodd\" fill-opacity=\"1\" stroke=\"none\"/>\n",
       "<circle clip-path=\"url(#clip892)\" cx=\"1057.45\" cy=\"874.286\" r=\"14\" fill=\"#cd5c5c\" fill-rule=\"evenodd\" fill-opacity=\"1\" stroke=\"none\"/>\n",
       "<circle clip-path=\"url(#clip892)\" cx=\"1060.81\" cy=\"872.911\" r=\"14\" fill=\"#cd5c5c\" fill-rule=\"evenodd\" fill-opacity=\"1\" stroke=\"none\"/>\n",
       "<circle clip-path=\"url(#clip892)\" cx=\"1064.16\" cy=\"873.893\" r=\"14\" fill=\"#cd5c5c\" fill-rule=\"evenodd\" fill-opacity=\"1\" stroke=\"none\"/>\n",
       "<circle clip-path=\"url(#clip892)\" cx=\"1067.51\" cy=\"870.875\" r=\"14\" fill=\"#cd5c5c\" fill-rule=\"evenodd\" fill-opacity=\"1\" stroke=\"none\"/>\n",
       "<circle clip-path=\"url(#clip892)\" cx=\"1070.87\" cy=\"873.142\" r=\"14\" fill=\"#cd5c5c\" fill-rule=\"evenodd\" fill-opacity=\"1\" stroke=\"none\"/>\n",
       "<circle clip-path=\"url(#clip892)\" cx=\"1074.22\" cy=\"870.103\" r=\"14\" fill=\"#cd5c5c\" fill-rule=\"evenodd\" fill-opacity=\"1\" stroke=\"none\"/>\n",
       "<circle clip-path=\"url(#clip892)\" cx=\"1077.58\" cy=\"875.39\" r=\"14\" fill=\"#cd5c5c\" fill-rule=\"evenodd\" fill-opacity=\"1\" stroke=\"none\"/>\n",
       "<circle clip-path=\"url(#clip892)\" cx=\"1080.93\" cy=\"868.518\" r=\"14\" fill=\"#cd5c5c\" fill-rule=\"evenodd\" fill-opacity=\"1\" stroke=\"none\"/>\n",
       "<circle clip-path=\"url(#clip892)\" cx=\"1084.28\" cy=\"868.48\" r=\"14\" fill=\"#cd5c5c\" fill-rule=\"evenodd\" fill-opacity=\"1\" stroke=\"none\"/>\n",
       "<circle clip-path=\"url(#clip892)\" cx=\"1087.64\" cy=\"872.616\" r=\"14\" fill=\"#cd5c5c\" fill-rule=\"evenodd\" fill-opacity=\"1\" stroke=\"none\"/>\n",
       "<circle clip-path=\"url(#clip892)\" cx=\"1090.99\" cy=\"871.401\" r=\"14\" fill=\"#cd5c5c\" fill-rule=\"evenodd\" fill-opacity=\"1\" stroke=\"none\"/>\n",
       "<circle clip-path=\"url(#clip892)\" cx=\"1094.35\" cy=\"874.925\" r=\"14\" fill=\"#cd5c5c\" fill-rule=\"evenodd\" fill-opacity=\"1\" stroke=\"none\"/>\n",
       "<circle clip-path=\"url(#clip892)\" cx=\"1097.7\" cy=\"873.303\" r=\"14\" fill=\"#cd5c5c\" fill-rule=\"evenodd\" fill-opacity=\"1\" stroke=\"none\"/>\n",
       "<circle clip-path=\"url(#clip892)\" cx=\"1101.05\" cy=\"872.86\" r=\"14\" fill=\"#cd5c5c\" fill-rule=\"evenodd\" fill-opacity=\"1\" stroke=\"none\"/>\n",
       "<circle clip-path=\"url(#clip892)\" cx=\"1104.41\" cy=\"874.721\" r=\"14\" fill=\"#cd5c5c\" fill-rule=\"evenodd\" fill-opacity=\"1\" stroke=\"none\"/>\n",
       "<circle clip-path=\"url(#clip892)\" cx=\"1107.76\" cy=\"875.585\" r=\"14\" fill=\"#cd5c5c\" fill-rule=\"evenodd\" fill-opacity=\"1\" stroke=\"none\"/>\n",
       "<circle clip-path=\"url(#clip892)\" cx=\"1111.12\" cy=\"865.798\" r=\"14\" fill=\"#cd5c5c\" fill-rule=\"evenodd\" fill-opacity=\"1\" stroke=\"none\"/>\n",
       "<circle clip-path=\"url(#clip892)\" cx=\"1114.47\" cy=\"875.837\" r=\"14\" fill=\"#cd5c5c\" fill-rule=\"evenodd\" fill-opacity=\"1\" stroke=\"none\"/>\n",
       "<circle clip-path=\"url(#clip892)\" cx=\"1117.82\" cy=\"871.711\" r=\"14\" fill=\"#cd5c5c\" fill-rule=\"evenodd\" fill-opacity=\"1\" stroke=\"none\"/>\n",
       "<circle clip-path=\"url(#clip892)\" cx=\"1121.18\" cy=\"871.066\" r=\"14\" fill=\"#cd5c5c\" fill-rule=\"evenodd\" fill-opacity=\"1\" stroke=\"none\"/>\n",
       "<circle clip-path=\"url(#clip892)\" cx=\"1124.53\" cy=\"875.331\" r=\"14\" fill=\"#cd5c5c\" fill-rule=\"evenodd\" fill-opacity=\"1\" stroke=\"none\"/>\n",
       "<circle clip-path=\"url(#clip892)\" cx=\"1127.89\" cy=\"873.456\" r=\"14\" fill=\"#cd5c5c\" fill-rule=\"evenodd\" fill-opacity=\"1\" stroke=\"none\"/>\n",
       "<circle clip-path=\"url(#clip892)\" cx=\"1131.24\" cy=\"870.522\" r=\"14\" fill=\"#cd5c5c\" fill-rule=\"evenodd\" fill-opacity=\"1\" stroke=\"none\"/>\n",
       "<circle clip-path=\"url(#clip892)\" cx=\"1134.59\" cy=\"874.813\" r=\"14\" fill=\"#cd5c5c\" fill-rule=\"evenodd\" fill-opacity=\"1\" stroke=\"none\"/>\n",
       "<circle clip-path=\"url(#clip892)\" cx=\"1137.95\" cy=\"876.194\" r=\"14\" fill=\"#cd5c5c\" fill-rule=\"evenodd\" fill-opacity=\"1\" stroke=\"none\"/>\n",
       "<circle clip-path=\"url(#clip892)\" cx=\"1141.3\" cy=\"872.365\" r=\"14\" fill=\"#cd5c5c\" fill-rule=\"evenodd\" fill-opacity=\"1\" stroke=\"none\"/>\n",
       "<circle clip-path=\"url(#clip892)\" cx=\"1144.66\" cy=\"868.258\" r=\"14\" fill=\"#cd5c5c\" fill-rule=\"evenodd\" fill-opacity=\"1\" stroke=\"none\"/>\n",
       "<circle clip-path=\"url(#clip892)\" cx=\"1148.01\" cy=\"869.853\" r=\"14\" fill=\"#cd5c5c\" fill-rule=\"evenodd\" fill-opacity=\"1\" stroke=\"none\"/>\n",
       "<circle clip-path=\"url(#clip892)\" cx=\"1151.36\" cy=\"875.19\" r=\"14\" fill=\"#cd5c5c\" fill-rule=\"evenodd\" fill-opacity=\"1\" stroke=\"none\"/>\n",
       "<circle clip-path=\"url(#clip892)\" cx=\"1154.72\" cy=\"869.958\" r=\"14\" fill=\"#cd5c5c\" fill-rule=\"evenodd\" fill-opacity=\"1\" stroke=\"none\"/>\n",
       "<circle clip-path=\"url(#clip892)\" cx=\"1158.07\" cy=\"876.861\" r=\"14\" fill=\"#cd5c5c\" fill-rule=\"evenodd\" fill-opacity=\"1\" stroke=\"none\"/>\n",
       "<circle clip-path=\"url(#clip892)\" cx=\"1161.43\" cy=\"872.875\" r=\"14\" fill=\"#cd5c5c\" fill-rule=\"evenodd\" fill-opacity=\"1\" stroke=\"none\"/>\n",
       "<circle clip-path=\"url(#clip892)\" cx=\"1164.78\" cy=\"868.982\" r=\"14\" fill=\"#cd5c5c\" fill-rule=\"evenodd\" fill-opacity=\"1\" stroke=\"none\"/>\n",
       "<circle clip-path=\"url(#clip892)\" cx=\"1168.13\" cy=\"869.958\" r=\"14\" fill=\"#cd5c5c\" fill-rule=\"evenodd\" fill-opacity=\"1\" stroke=\"none\"/>\n",
       "<circle clip-path=\"url(#clip892)\" cx=\"1171.49\" cy=\"866.913\" r=\"14\" fill=\"#cd5c5c\" fill-rule=\"evenodd\" fill-opacity=\"1\" stroke=\"none\"/>\n",
       "<circle clip-path=\"url(#clip892)\" cx=\"1174.84\" cy=\"869.455\" r=\"14\" fill=\"#cd5c5c\" fill-rule=\"evenodd\" fill-opacity=\"1\" stroke=\"none\"/>\n",
       "<circle clip-path=\"url(#clip892)\" cx=\"1178.2\" cy=\"869.67\" r=\"14\" fill=\"#cd5c5c\" fill-rule=\"evenodd\" fill-opacity=\"1\" stroke=\"none\"/>\n",
       "<circle clip-path=\"url(#clip892)\" cx=\"1181.55\" cy=\"869.839\" r=\"14\" fill=\"#cd5c5c\" fill-rule=\"evenodd\" fill-opacity=\"1\" stroke=\"none\"/>\n",
       "<circle clip-path=\"url(#clip892)\" cx=\"1184.9\" cy=\"874.308\" r=\"14\" fill=\"#cd5c5c\" fill-rule=\"evenodd\" fill-opacity=\"1\" stroke=\"none\"/>\n",
       "<circle clip-path=\"url(#clip892)\" cx=\"1188.26\" cy=\"873.854\" r=\"14\" fill=\"#cd5c5c\" fill-rule=\"evenodd\" fill-opacity=\"1\" stroke=\"none\"/>\n",
       "<circle clip-path=\"url(#clip892)\" cx=\"1191.61\" cy=\"871.186\" r=\"14\" fill=\"#cd5c5c\" fill-rule=\"evenodd\" fill-opacity=\"1\" stroke=\"none\"/>\n",
       "<circle clip-path=\"url(#clip892)\" cx=\"1194.96\" cy=\"875.101\" r=\"14\" fill=\"#cd5c5c\" fill-rule=\"evenodd\" fill-opacity=\"1\" stroke=\"none\"/>\n",
       "<circle clip-path=\"url(#clip892)\" cx=\"1198.32\" cy=\"866.004\" r=\"14\" fill=\"#cd5c5c\" fill-rule=\"evenodd\" fill-opacity=\"1\" stroke=\"none\"/>\n",
       "<circle clip-path=\"url(#clip892)\" cx=\"1201.67\" cy=\"874.407\" r=\"14\" fill=\"#cd5c5c\" fill-rule=\"evenodd\" fill-opacity=\"1\" stroke=\"none\"/>\n",
       "<circle clip-path=\"url(#clip892)\" cx=\"1205.03\" cy=\"870.652\" r=\"14\" fill=\"#cd5c5c\" fill-rule=\"evenodd\" fill-opacity=\"1\" stroke=\"none\"/>\n",
       "<circle clip-path=\"url(#clip892)\" cx=\"1208.38\" cy=\"872.513\" r=\"14\" fill=\"#cd5c5c\" fill-rule=\"evenodd\" fill-opacity=\"1\" stroke=\"none\"/>\n",
       "<circle clip-path=\"url(#clip892)\" cx=\"1211.73\" cy=\"864.642\" r=\"14\" fill=\"#cd5c5c\" fill-rule=\"evenodd\" fill-opacity=\"1\" stroke=\"none\"/>\n",
       "<circle clip-path=\"url(#clip892)\" cx=\"1215.09\" cy=\"869.748\" r=\"14\" fill=\"#cd5c5c\" fill-rule=\"evenodd\" fill-opacity=\"1\" stroke=\"none\"/>\n",
       "<circle clip-path=\"url(#clip892)\" cx=\"1218.44\" cy=\"876.83\" r=\"14\" fill=\"#cd5c5c\" fill-rule=\"evenodd\" fill-opacity=\"1\" stroke=\"none\"/>\n",
       "<circle clip-path=\"url(#clip892)\" cx=\"1221.8\" cy=\"863.522\" r=\"14\" fill=\"#cd5c5c\" fill-rule=\"evenodd\" fill-opacity=\"1\" stroke=\"none\"/>\n",
       "<circle clip-path=\"url(#clip892)\" cx=\"1225.15\" cy=\"873.516\" r=\"14\" fill=\"#cd5c5c\" fill-rule=\"evenodd\" fill-opacity=\"1\" stroke=\"none\"/>\n",
       "<circle clip-path=\"url(#clip892)\" cx=\"1228.5\" cy=\"868.268\" r=\"14\" fill=\"#cd5c5c\" fill-rule=\"evenodd\" fill-opacity=\"1\" stroke=\"none\"/>\n",
       "<circle clip-path=\"url(#clip892)\" cx=\"1231.86\" cy=\"870.55\" r=\"14\" fill=\"#cd5c5c\" fill-rule=\"evenodd\" fill-opacity=\"1\" stroke=\"none\"/>\n",
       "<circle clip-path=\"url(#clip892)\" cx=\"1235.21\" cy=\"874.379\" r=\"14\" fill=\"#cd5c5c\" fill-rule=\"evenodd\" fill-opacity=\"1\" stroke=\"none\"/>\n",
       "<circle clip-path=\"url(#clip892)\" cx=\"1238.57\" cy=\"872.516\" r=\"14\" fill=\"#cd5c5c\" fill-rule=\"evenodd\" fill-opacity=\"1\" stroke=\"none\"/>\n",
       "<circle clip-path=\"url(#clip892)\" cx=\"1241.92\" cy=\"868.573\" r=\"14\" fill=\"#cd5c5c\" fill-rule=\"evenodd\" fill-opacity=\"1\" stroke=\"none\"/>\n",
       "<circle clip-path=\"url(#clip892)\" cx=\"1245.27\" cy=\"874.53\" r=\"14\" fill=\"#cd5c5c\" fill-rule=\"evenodd\" fill-opacity=\"1\" stroke=\"none\"/>\n",
       "<circle clip-path=\"url(#clip892)\" cx=\"1248.63\" cy=\"860.567\" r=\"14\" fill=\"#cd5c5c\" fill-rule=\"evenodd\" fill-opacity=\"1\" stroke=\"none\"/>\n",
       "<circle clip-path=\"url(#clip892)\" cx=\"1251.98\" cy=\"876.298\" r=\"14\" fill=\"#cd5c5c\" fill-rule=\"evenodd\" fill-opacity=\"1\" stroke=\"none\"/>\n",
       "<circle clip-path=\"url(#clip892)\" cx=\"1255.34\" cy=\"872.706\" r=\"14\" fill=\"#cd5c5c\" fill-rule=\"evenodd\" fill-opacity=\"1\" stroke=\"none\"/>\n",
       "<circle clip-path=\"url(#clip892)\" cx=\"1258.69\" cy=\"863.473\" r=\"14\" fill=\"#cd5c5c\" fill-rule=\"evenodd\" fill-opacity=\"1\" stroke=\"none\"/>\n",
       "<circle clip-path=\"url(#clip892)\" cx=\"1262.04\" cy=\"868.159\" r=\"14\" fill=\"#cd5c5c\" fill-rule=\"evenodd\" fill-opacity=\"1\" stroke=\"none\"/>\n",
       "<circle clip-path=\"url(#clip892)\" cx=\"1265.4\" cy=\"869.192\" r=\"14\" fill=\"#cd5c5c\" fill-rule=\"evenodd\" fill-opacity=\"1\" stroke=\"none\"/>\n",
       "<circle clip-path=\"url(#clip892)\" cx=\"1268.75\" cy=\"871.082\" r=\"14\" fill=\"#cd5c5c\" fill-rule=\"evenodd\" fill-opacity=\"1\" stroke=\"none\"/>\n",
       "<circle clip-path=\"url(#clip892)\" cx=\"1272.11\" cy=\"865.464\" r=\"14\" fill=\"#cd5c5c\" fill-rule=\"evenodd\" fill-opacity=\"1\" stroke=\"none\"/>\n",
       "<circle clip-path=\"url(#clip892)\" cx=\"1275.46\" cy=\"872.098\" r=\"14\" fill=\"#cd5c5c\" fill-rule=\"evenodd\" fill-opacity=\"1\" stroke=\"none\"/>\n",
       "<circle clip-path=\"url(#clip892)\" cx=\"1278.81\" cy=\"852.709\" r=\"14\" fill=\"#cd5c5c\" fill-rule=\"evenodd\" fill-opacity=\"1\" stroke=\"none\"/>\n",
       "<circle clip-path=\"url(#clip892)\" cx=\"1282.17\" cy=\"876.57\" r=\"14\" fill=\"#cd5c5c\" fill-rule=\"evenodd\" fill-opacity=\"1\" stroke=\"none\"/>\n",
       "<circle clip-path=\"url(#clip892)\" cx=\"1285.52\" cy=\"868.902\" r=\"14\" fill=\"#cd5c5c\" fill-rule=\"evenodd\" fill-opacity=\"1\" stroke=\"none\"/>\n",
       "<circle clip-path=\"url(#clip892)\" cx=\"1288.88\" cy=\"870.864\" r=\"14\" fill=\"#cd5c5c\" fill-rule=\"evenodd\" fill-opacity=\"1\" stroke=\"none\"/>\n",
       "<circle clip-path=\"url(#clip892)\" cx=\"1292.23\" cy=\"857.49\" r=\"14\" fill=\"#cd5c5c\" fill-rule=\"evenodd\" fill-opacity=\"1\" stroke=\"none\"/>\n",
       "<circle clip-path=\"url(#clip892)\" cx=\"1295.58\" cy=\"876.466\" r=\"14\" fill=\"#cd5c5c\" fill-rule=\"evenodd\" fill-opacity=\"1\" stroke=\"none\"/>\n",
       "<circle clip-path=\"url(#clip892)\" cx=\"1298.94\" cy=\"865.154\" r=\"14\" fill=\"#cd5c5c\" fill-rule=\"evenodd\" fill-opacity=\"1\" stroke=\"none\"/>\n",
       "<circle clip-path=\"url(#clip892)\" cx=\"1302.29\" cy=\"868.125\" r=\"14\" fill=\"#cd5c5c\" fill-rule=\"evenodd\" fill-opacity=\"1\" stroke=\"none\"/>\n",
       "<circle clip-path=\"url(#clip892)\" cx=\"1305.65\" cy=\"874.552\" r=\"14\" fill=\"#cd5c5c\" fill-rule=\"evenodd\" fill-opacity=\"1\" stroke=\"none\"/>\n",
       "<circle clip-path=\"url(#clip892)\" cx=\"1309\" cy=\"870.351\" r=\"14\" fill=\"#cd5c5c\" fill-rule=\"evenodd\" fill-opacity=\"1\" stroke=\"none\"/>\n",
       "<circle clip-path=\"url(#clip892)\" cx=\"1312.35\" cy=\"873.492\" r=\"14\" fill=\"#cd5c5c\" fill-rule=\"evenodd\" fill-opacity=\"1\" stroke=\"none\"/>\n",
       "<circle clip-path=\"url(#clip892)\" cx=\"1315.71\" cy=\"873.463\" r=\"14\" fill=\"#cd5c5c\" fill-rule=\"evenodd\" fill-opacity=\"1\" stroke=\"none\"/>\n",
       "<circle clip-path=\"url(#clip892)\" cx=\"1319.06\" cy=\"870.696\" r=\"14\" fill=\"#cd5c5c\" fill-rule=\"evenodd\" fill-opacity=\"1\" stroke=\"none\"/>\n",
       "<circle clip-path=\"url(#clip892)\" cx=\"1322.41\" cy=\"874.719\" r=\"14\" fill=\"#cd5c5c\" fill-rule=\"evenodd\" fill-opacity=\"1\" stroke=\"none\"/>\n",
       "<circle clip-path=\"url(#clip892)\" cx=\"1325.77\" cy=\"872.084\" r=\"14\" fill=\"#cd5c5c\" fill-rule=\"evenodd\" fill-opacity=\"1\" stroke=\"none\"/>\n",
       "<circle clip-path=\"url(#clip892)\" cx=\"1329.12\" cy=\"867.729\" r=\"14\" fill=\"#cd5c5c\" fill-rule=\"evenodd\" fill-opacity=\"1\" stroke=\"none\"/>\n",
       "<circle clip-path=\"url(#clip892)\" cx=\"1332.48\" cy=\"872.899\" r=\"14\" fill=\"#cd5c5c\" fill-rule=\"evenodd\" fill-opacity=\"1\" stroke=\"none\"/>\n",
       "<circle clip-path=\"url(#clip892)\" cx=\"1335.83\" cy=\"875.046\" r=\"14\" fill=\"#cd5c5c\" fill-rule=\"evenodd\" fill-opacity=\"1\" stroke=\"none\"/>\n",
       "<circle clip-path=\"url(#clip892)\" cx=\"1339.18\" cy=\"874.314\" r=\"14\" fill=\"#cd5c5c\" fill-rule=\"evenodd\" fill-opacity=\"1\" stroke=\"none\"/>\n",
       "<circle clip-path=\"url(#clip892)\" cx=\"1342.54\" cy=\"872.339\" r=\"14\" fill=\"#cd5c5c\" fill-rule=\"evenodd\" fill-opacity=\"1\" stroke=\"none\"/>\n",
       "<circle clip-path=\"url(#clip892)\" cx=\"1345.89\" cy=\"866.896\" r=\"14\" fill=\"#cd5c5c\" fill-rule=\"evenodd\" fill-opacity=\"1\" stroke=\"none\"/>\n",
       "<circle clip-path=\"url(#clip892)\" cx=\"1349.25\" cy=\"866.104\" r=\"14\" fill=\"#cd5c5c\" fill-rule=\"evenodd\" fill-opacity=\"1\" stroke=\"none\"/>\n",
       "<circle clip-path=\"url(#clip892)\" cx=\"1352.6\" cy=\"874.047\" r=\"14\" fill=\"#cd5c5c\" fill-rule=\"evenodd\" fill-opacity=\"1\" stroke=\"none\"/>\n",
       "<circle clip-path=\"url(#clip892)\" cx=\"1355.95\" cy=\"870.661\" r=\"14\" fill=\"#cd5c5c\" fill-rule=\"evenodd\" fill-opacity=\"1\" stroke=\"none\"/>\n",
       "<circle clip-path=\"url(#clip892)\" cx=\"1359.31\" cy=\"871.76\" r=\"14\" fill=\"#cd5c5c\" fill-rule=\"evenodd\" fill-opacity=\"1\" stroke=\"none\"/>\n",
       "<circle clip-path=\"url(#clip892)\" cx=\"1362.66\" cy=\"866.153\" r=\"14\" fill=\"#cd5c5c\" fill-rule=\"evenodd\" fill-opacity=\"1\" stroke=\"none\"/>\n",
       "<circle clip-path=\"url(#clip892)\" cx=\"1366.02\" cy=\"875.398\" r=\"14\" fill=\"#cd5c5c\" fill-rule=\"evenodd\" fill-opacity=\"1\" stroke=\"none\"/>\n",
       "<circle clip-path=\"url(#clip892)\" cx=\"1369.37\" cy=\"873.007\" r=\"14\" fill=\"#cd5c5c\" fill-rule=\"evenodd\" fill-opacity=\"1\" stroke=\"none\"/>\n",
       "<circle clip-path=\"url(#clip892)\" cx=\"1372.72\" cy=\"868.611\" r=\"14\" fill=\"#cd5c5c\" fill-rule=\"evenodd\" fill-opacity=\"1\" stroke=\"none\"/>\n",
       "<circle clip-path=\"url(#clip892)\" cx=\"1376.08\" cy=\"863.56\" r=\"14\" fill=\"#cd5c5c\" fill-rule=\"evenodd\" fill-opacity=\"1\" stroke=\"none\"/>\n",
       "<circle clip-path=\"url(#clip892)\" cx=\"1379.43\" cy=\"869.569\" r=\"14\" fill=\"#cd5c5c\" fill-rule=\"evenodd\" fill-opacity=\"1\" stroke=\"none\"/>\n",
       "<circle clip-path=\"url(#clip892)\" cx=\"1382.79\" cy=\"872.271\" r=\"14\" fill=\"#cd5c5c\" fill-rule=\"evenodd\" fill-opacity=\"1\" stroke=\"none\"/>\n",
       "<circle clip-path=\"url(#clip892)\" cx=\"1386.14\" cy=\"866.445\" r=\"14\" fill=\"#cd5c5c\" fill-rule=\"evenodd\" fill-opacity=\"1\" stroke=\"none\"/>\n",
       "<circle clip-path=\"url(#clip892)\" cx=\"1389.49\" cy=\"872.376\" r=\"14\" fill=\"#cd5c5c\" fill-rule=\"evenodd\" fill-opacity=\"1\" stroke=\"none\"/>\n",
       "<circle clip-path=\"url(#clip892)\" cx=\"1392.85\" cy=\"862.466\" r=\"14\" fill=\"#cd5c5c\" fill-rule=\"evenodd\" fill-opacity=\"1\" stroke=\"none\"/>\n",
       "<circle clip-path=\"url(#clip892)\" cx=\"1396.2\" cy=\"876.706\" r=\"14\" fill=\"#cd5c5c\" fill-rule=\"evenodd\" fill-opacity=\"1\" stroke=\"none\"/>\n",
       "<circle clip-path=\"url(#clip892)\" cx=\"1399.56\" cy=\"866.263\" r=\"14\" fill=\"#cd5c5c\" fill-rule=\"evenodd\" fill-opacity=\"1\" stroke=\"none\"/>\n",
       "<circle clip-path=\"url(#clip892)\" cx=\"1402.91\" cy=\"873.343\" r=\"14\" fill=\"#cd5c5c\" fill-rule=\"evenodd\" fill-opacity=\"1\" stroke=\"none\"/>\n",
       "<circle clip-path=\"url(#clip892)\" cx=\"1406.26\" cy=\"873.527\" r=\"14\" fill=\"#cd5c5c\" fill-rule=\"evenodd\" fill-opacity=\"1\" stroke=\"none\"/>\n",
       "<circle clip-path=\"url(#clip892)\" cx=\"1409.62\" cy=\"864.893\" r=\"14\" fill=\"#cd5c5c\" fill-rule=\"evenodd\" fill-opacity=\"1\" stroke=\"none\"/>\n",
       "<circle clip-path=\"url(#clip892)\" cx=\"1412.97\" cy=\"870.68\" r=\"14\" fill=\"#cd5c5c\" fill-rule=\"evenodd\" fill-opacity=\"1\" stroke=\"none\"/>\n",
       "<circle clip-path=\"url(#clip892)\" cx=\"1416.33\" cy=\"874.671\" r=\"14\" fill=\"#cd5c5c\" fill-rule=\"evenodd\" fill-opacity=\"1\" stroke=\"none\"/>\n",
       "<circle clip-path=\"url(#clip892)\" cx=\"1419.68\" cy=\"873.629\" r=\"14\" fill=\"#cd5c5c\" fill-rule=\"evenodd\" fill-opacity=\"1\" stroke=\"none\"/>\n",
       "<circle clip-path=\"url(#clip892)\" cx=\"1423.03\" cy=\"875.745\" r=\"14\" fill=\"#cd5c5c\" fill-rule=\"evenodd\" fill-opacity=\"1\" stroke=\"none\"/>\n",
       "<circle clip-path=\"url(#clip892)\" cx=\"1426.39\" cy=\"874.424\" r=\"14\" fill=\"#cd5c5c\" fill-rule=\"evenodd\" fill-opacity=\"1\" stroke=\"none\"/>\n",
       "<circle clip-path=\"url(#clip892)\" cx=\"1429.74\" cy=\"864.591\" r=\"14\" fill=\"#cd5c5c\" fill-rule=\"evenodd\" fill-opacity=\"1\" stroke=\"none\"/>\n",
       "<circle clip-path=\"url(#clip892)\" cx=\"1433.1\" cy=\"868.084\" r=\"14\" fill=\"#cd5c5c\" fill-rule=\"evenodd\" fill-opacity=\"1\" stroke=\"none\"/>\n",
       "<circle clip-path=\"url(#clip892)\" cx=\"1436.45\" cy=\"862.049\" r=\"14\" fill=\"#cd5c5c\" fill-rule=\"evenodd\" fill-opacity=\"1\" stroke=\"none\"/>\n",
       "<circle clip-path=\"url(#clip892)\" cx=\"1439.8\" cy=\"865.469\" r=\"14\" fill=\"#cd5c5c\" fill-rule=\"evenodd\" fill-opacity=\"1\" stroke=\"none\"/>\n",
       "<circle clip-path=\"url(#clip892)\" cx=\"1443.16\" cy=\"872.125\" r=\"14\" fill=\"#cd5c5c\" fill-rule=\"evenodd\" fill-opacity=\"1\" stroke=\"none\"/>\n",
       "<circle clip-path=\"url(#clip892)\" cx=\"1446.51\" cy=\"866.036\" r=\"14\" fill=\"#cd5c5c\" fill-rule=\"evenodd\" fill-opacity=\"1\" stroke=\"none\"/>\n",
       "<circle clip-path=\"url(#clip892)\" cx=\"1449.86\" cy=\"873.19\" r=\"14\" fill=\"#cd5c5c\" fill-rule=\"evenodd\" fill-opacity=\"1\" stroke=\"none\"/>\n",
       "<circle clip-path=\"url(#clip892)\" cx=\"1453.22\" cy=\"866.353\" r=\"14\" fill=\"#cd5c5c\" fill-rule=\"evenodd\" fill-opacity=\"1\" stroke=\"none\"/>\n",
       "<circle clip-path=\"url(#clip892)\" cx=\"1456.57\" cy=\"819.7\" r=\"14\" fill=\"#cd5c5c\" fill-rule=\"evenodd\" fill-opacity=\"1\" stroke=\"none\"/>\n",
       "<circle clip-path=\"url(#clip892)\" cx=\"1459.93\" cy=\"860.445\" r=\"14\" fill=\"#cd5c5c\" fill-rule=\"evenodd\" fill-opacity=\"1\" stroke=\"none\"/>\n",
       "<circle clip-path=\"url(#clip892)\" cx=\"1463.28\" cy=\"862.079\" r=\"14\" fill=\"#cd5c5c\" fill-rule=\"evenodd\" fill-opacity=\"1\" stroke=\"none\"/>\n",
       "<circle clip-path=\"url(#clip892)\" cx=\"1466.63\" cy=\"869.091\" r=\"14\" fill=\"#cd5c5c\" fill-rule=\"evenodd\" fill-opacity=\"1\" stroke=\"none\"/>\n",
       "<circle clip-path=\"url(#clip892)\" cx=\"1469.99\" cy=\"875.356\" r=\"14\" fill=\"#cd5c5c\" fill-rule=\"evenodd\" fill-opacity=\"1\" stroke=\"none\"/>\n",
       "<circle clip-path=\"url(#clip892)\" cx=\"1473.34\" cy=\"867.513\" r=\"14\" fill=\"#cd5c5c\" fill-rule=\"evenodd\" fill-opacity=\"1\" stroke=\"none\"/>\n",
       "<circle clip-path=\"url(#clip892)\" cx=\"1476.7\" cy=\"872.495\" r=\"14\" fill=\"#cd5c5c\" fill-rule=\"evenodd\" fill-opacity=\"1\" stroke=\"none\"/>\n",
       "<circle clip-path=\"url(#clip892)\" cx=\"1480.05\" cy=\"851.677\" r=\"14\" fill=\"#cd5c5c\" fill-rule=\"evenodd\" fill-opacity=\"1\" stroke=\"none\"/>\n",
       "<circle clip-path=\"url(#clip892)\" cx=\"1483.4\" cy=\"860.738\" r=\"14\" fill=\"#cd5c5c\" fill-rule=\"evenodd\" fill-opacity=\"1\" stroke=\"none\"/>\n",
       "<circle clip-path=\"url(#clip892)\" cx=\"1486.76\" cy=\"869.692\" r=\"14\" fill=\"#cd5c5c\" fill-rule=\"evenodd\" fill-opacity=\"1\" stroke=\"none\"/>\n",
       "<circle clip-path=\"url(#clip892)\" cx=\"1490.11\" cy=\"875.044\" r=\"14\" fill=\"#cd5c5c\" fill-rule=\"evenodd\" fill-opacity=\"1\" stroke=\"none\"/>\n",
       "<circle clip-path=\"url(#clip892)\" cx=\"1493.47\" cy=\"858.022\" r=\"14\" fill=\"#cd5c5c\" fill-rule=\"evenodd\" fill-opacity=\"1\" stroke=\"none\"/>\n",
       "<circle clip-path=\"url(#clip892)\" cx=\"1496.82\" cy=\"873.561\" r=\"14\" fill=\"#cd5c5c\" fill-rule=\"evenodd\" fill-opacity=\"1\" stroke=\"none\"/>\n",
       "<circle clip-path=\"url(#clip892)\" cx=\"1500.17\" cy=\"865.594\" r=\"14\" fill=\"#cd5c5c\" fill-rule=\"evenodd\" fill-opacity=\"1\" stroke=\"none\"/>\n",
       "<circle clip-path=\"url(#clip892)\" cx=\"1503.53\" cy=\"854.399\" r=\"14\" fill=\"#cd5c5c\" fill-rule=\"evenodd\" fill-opacity=\"1\" stroke=\"none\"/>\n",
       "<circle clip-path=\"url(#clip892)\" cx=\"1506.88\" cy=\"870.527\" r=\"14\" fill=\"#cd5c5c\" fill-rule=\"evenodd\" fill-opacity=\"1\" stroke=\"none\"/>\n",
       "<circle clip-path=\"url(#clip892)\" cx=\"1510.24\" cy=\"869.476\" r=\"14\" fill=\"#cd5c5c\" fill-rule=\"evenodd\" fill-opacity=\"1\" stroke=\"none\"/>\n",
       "<circle clip-path=\"url(#clip892)\" cx=\"1513.59\" cy=\"868.856\" r=\"14\" fill=\"#cd5c5c\" fill-rule=\"evenodd\" fill-opacity=\"1\" stroke=\"none\"/>\n",
       "<circle clip-path=\"url(#clip892)\" cx=\"1516.94\" cy=\"861.133\" r=\"14\" fill=\"#cd5c5c\" fill-rule=\"evenodd\" fill-opacity=\"1\" stroke=\"none\"/>\n",
       "<circle clip-path=\"url(#clip892)\" cx=\"1520.3\" cy=\"866.697\" r=\"14\" fill=\"#cd5c5c\" fill-rule=\"evenodd\" fill-opacity=\"1\" stroke=\"none\"/>\n",
       "<circle clip-path=\"url(#clip892)\" cx=\"1523.65\" cy=\"872.711\" r=\"14\" fill=\"#cd5c5c\" fill-rule=\"evenodd\" fill-opacity=\"1\" stroke=\"none\"/>\n",
       "<circle clip-path=\"url(#clip892)\" cx=\"1527.01\" cy=\"863.414\" r=\"14\" fill=\"#cd5c5c\" fill-rule=\"evenodd\" fill-opacity=\"1\" stroke=\"none\"/>\n",
       "<circle clip-path=\"url(#clip892)\" cx=\"1530.36\" cy=\"870.159\" r=\"14\" fill=\"#cd5c5c\" fill-rule=\"evenodd\" fill-opacity=\"1\" stroke=\"none\"/>\n",
       "<circle clip-path=\"url(#clip892)\" cx=\"1533.71\" cy=\"872.777\" r=\"14\" fill=\"#cd5c5c\" fill-rule=\"evenodd\" fill-opacity=\"1\" stroke=\"none\"/>\n",
       "<circle clip-path=\"url(#clip892)\" cx=\"1537.07\" cy=\"868.695\" r=\"14\" fill=\"#cd5c5c\" fill-rule=\"evenodd\" fill-opacity=\"1\" stroke=\"none\"/>\n",
       "<circle clip-path=\"url(#clip892)\" cx=\"1540.42\" cy=\"863.158\" r=\"14\" fill=\"#cd5c5c\" fill-rule=\"evenodd\" fill-opacity=\"1\" stroke=\"none\"/>\n",
       "<circle clip-path=\"url(#clip892)\" cx=\"1543.78\" cy=\"865.038\" r=\"14\" fill=\"#cd5c5c\" fill-rule=\"evenodd\" fill-opacity=\"1\" stroke=\"none\"/>\n",
       "<circle clip-path=\"url(#clip892)\" cx=\"1547.13\" cy=\"872.257\" r=\"14\" fill=\"#cd5c5c\" fill-rule=\"evenodd\" fill-opacity=\"1\" stroke=\"none\"/>\n",
       "<circle clip-path=\"url(#clip892)\" cx=\"1550.48\" cy=\"864.885\" r=\"14\" fill=\"#cd5c5c\" fill-rule=\"evenodd\" fill-opacity=\"1\" stroke=\"none\"/>\n",
       "<circle clip-path=\"url(#clip892)\" cx=\"1553.84\" cy=\"867.954\" r=\"14\" fill=\"#cd5c5c\" fill-rule=\"evenodd\" fill-opacity=\"1\" stroke=\"none\"/>\n",
       "<circle clip-path=\"url(#clip892)\" cx=\"1557.19\" cy=\"873.504\" r=\"14\" fill=\"#cd5c5c\" fill-rule=\"evenodd\" fill-opacity=\"1\" stroke=\"none\"/>\n",
       "<circle clip-path=\"url(#clip892)\" cx=\"1560.55\" cy=\"865.838\" r=\"14\" fill=\"#cd5c5c\" fill-rule=\"evenodd\" fill-opacity=\"1\" stroke=\"none\"/>\n",
       "<circle clip-path=\"url(#clip892)\" cx=\"1563.9\" cy=\"875.111\" r=\"14\" fill=\"#cd5c5c\" fill-rule=\"evenodd\" fill-opacity=\"1\" stroke=\"none\"/>\n",
       "<circle clip-path=\"url(#clip892)\" cx=\"1567.25\" cy=\"865.632\" r=\"14\" fill=\"#cd5c5c\" fill-rule=\"evenodd\" fill-opacity=\"1\" stroke=\"none\"/>\n",
       "<circle clip-path=\"url(#clip892)\" cx=\"1570.61\" cy=\"864.332\" r=\"14\" fill=\"#cd5c5c\" fill-rule=\"evenodd\" fill-opacity=\"1\" stroke=\"none\"/>\n",
       "<circle clip-path=\"url(#clip892)\" cx=\"1573.96\" cy=\"869.773\" r=\"14\" fill=\"#cd5c5c\" fill-rule=\"evenodd\" fill-opacity=\"1\" stroke=\"none\"/>\n",
       "<circle clip-path=\"url(#clip892)\" cx=\"1577.32\" cy=\"862.026\" r=\"14\" fill=\"#cd5c5c\" fill-rule=\"evenodd\" fill-opacity=\"1\" stroke=\"none\"/>\n",
       "<circle clip-path=\"url(#clip892)\" cx=\"1580.67\" cy=\"871.946\" r=\"14\" fill=\"#cd5c5c\" fill-rule=\"evenodd\" fill-opacity=\"1\" stroke=\"none\"/>\n",
       "<circle clip-path=\"url(#clip892)\" cx=\"1584.02\" cy=\"867.048\" r=\"14\" fill=\"#cd5c5c\" fill-rule=\"evenodd\" fill-opacity=\"1\" stroke=\"none\"/>\n",
       "<circle clip-path=\"url(#clip892)\" cx=\"1587.38\" cy=\"862.427\" r=\"14\" fill=\"#cd5c5c\" fill-rule=\"evenodd\" fill-opacity=\"1\" stroke=\"none\"/>\n",
       "<circle clip-path=\"url(#clip892)\" cx=\"1590.73\" cy=\"844.455\" r=\"14\" fill=\"#cd5c5c\" fill-rule=\"evenodd\" fill-opacity=\"1\" stroke=\"none\"/>\n",
       "<circle clip-path=\"url(#clip892)\" cx=\"1594.08\" cy=\"868.937\" r=\"14\" fill=\"#cd5c5c\" fill-rule=\"evenodd\" fill-opacity=\"1\" stroke=\"none\"/>\n",
       "<circle clip-path=\"url(#clip892)\" cx=\"1597.44\" cy=\"861.793\" r=\"14\" fill=\"#cd5c5c\" fill-rule=\"evenodd\" fill-opacity=\"1\" stroke=\"none\"/>\n",
       "<circle clip-path=\"url(#clip892)\" cx=\"1600.79\" cy=\"871.497\" r=\"14\" fill=\"#cd5c5c\" fill-rule=\"evenodd\" fill-opacity=\"1\" stroke=\"none\"/>\n",
       "<circle clip-path=\"url(#clip892)\" cx=\"1604.15\" cy=\"872.175\" r=\"14\" fill=\"#cd5c5c\" fill-rule=\"evenodd\" fill-opacity=\"1\" stroke=\"none\"/>\n",
       "<circle clip-path=\"url(#clip892)\" cx=\"1607.5\" cy=\"868.044\" r=\"14\" fill=\"#cd5c5c\" fill-rule=\"evenodd\" fill-opacity=\"1\" stroke=\"none\"/>\n",
       "<circle clip-path=\"url(#clip892)\" cx=\"1610.85\" cy=\"863.851\" r=\"14\" fill=\"#cd5c5c\" fill-rule=\"evenodd\" fill-opacity=\"1\" stroke=\"none\"/>\n",
       "<circle clip-path=\"url(#clip892)\" cx=\"1614.21\" cy=\"863.492\" r=\"14\" fill=\"#cd5c5c\" fill-rule=\"evenodd\" fill-opacity=\"1\" stroke=\"none\"/>\n",
       "<circle clip-path=\"url(#clip892)\" cx=\"1617.56\" cy=\"858.806\" r=\"14\" fill=\"#cd5c5c\" fill-rule=\"evenodd\" fill-opacity=\"1\" stroke=\"none\"/>\n",
       "<circle clip-path=\"url(#clip892)\" cx=\"1620.92\" cy=\"871.256\" r=\"14\" fill=\"#cd5c5c\" fill-rule=\"evenodd\" fill-opacity=\"1\" stroke=\"none\"/>\n",
       "<circle clip-path=\"url(#clip892)\" cx=\"1624.27\" cy=\"850.044\" r=\"14\" fill=\"#cd5c5c\" fill-rule=\"evenodd\" fill-opacity=\"1\" stroke=\"none\"/>\n",
       "<circle clip-path=\"url(#clip892)\" cx=\"1627.62\" cy=\"870.842\" r=\"14\" fill=\"#cd5c5c\" fill-rule=\"evenodd\" fill-opacity=\"1\" stroke=\"none\"/>\n",
       "<circle clip-path=\"url(#clip892)\" cx=\"1630.98\" cy=\"868.28\" r=\"14\" fill=\"#cd5c5c\" fill-rule=\"evenodd\" fill-opacity=\"1\" stroke=\"none\"/>\n",
       "<circle clip-path=\"url(#clip892)\" cx=\"1634.33\" cy=\"873.294\" r=\"14\" fill=\"#cd5c5c\" fill-rule=\"evenodd\" fill-opacity=\"1\" stroke=\"none\"/>\n",
       "<circle clip-path=\"url(#clip892)\" cx=\"1637.69\" cy=\"865.981\" r=\"14\" fill=\"#cd5c5c\" fill-rule=\"evenodd\" fill-opacity=\"1\" stroke=\"none\"/>\n",
       "<circle clip-path=\"url(#clip892)\" cx=\"1641.04\" cy=\"872.229\" r=\"14\" fill=\"#cd5c5c\" fill-rule=\"evenodd\" fill-opacity=\"1\" stroke=\"none\"/>\n",
       "<circle clip-path=\"url(#clip892)\" cx=\"1644.39\" cy=\"846.047\" r=\"14\" fill=\"#cd5c5c\" fill-rule=\"evenodd\" fill-opacity=\"1\" stroke=\"none\"/>\n",
       "<circle clip-path=\"url(#clip892)\" cx=\"1647.75\" cy=\"865.034\" r=\"14\" fill=\"#cd5c5c\" fill-rule=\"evenodd\" fill-opacity=\"1\" stroke=\"none\"/>\n",
       "<circle clip-path=\"url(#clip892)\" cx=\"1651.1\" cy=\"872.956\" r=\"14\" fill=\"#cd5c5c\" fill-rule=\"evenodd\" fill-opacity=\"1\" stroke=\"none\"/>\n",
       "<circle clip-path=\"url(#clip892)\" cx=\"1654.46\" cy=\"863.589\" r=\"14\" fill=\"#cd5c5c\" fill-rule=\"evenodd\" fill-opacity=\"1\" stroke=\"none\"/>\n",
       "<circle clip-path=\"url(#clip892)\" cx=\"1657.81\" cy=\"857.981\" r=\"14\" fill=\"#cd5c5c\" fill-rule=\"evenodd\" fill-opacity=\"1\" stroke=\"none\"/>\n",
       "<circle clip-path=\"url(#clip892)\" cx=\"1661.16\" cy=\"864.13\" r=\"14\" fill=\"#cd5c5c\" fill-rule=\"evenodd\" fill-opacity=\"1\" stroke=\"none\"/>\n",
       "<circle clip-path=\"url(#clip892)\" cx=\"1664.52\" cy=\"868.796\" r=\"14\" fill=\"#cd5c5c\" fill-rule=\"evenodd\" fill-opacity=\"1\" stroke=\"none\"/>\n",
       "<circle clip-path=\"url(#clip892)\" cx=\"1667.87\" cy=\"847.098\" r=\"14\" fill=\"#cd5c5c\" fill-rule=\"evenodd\" fill-opacity=\"1\" stroke=\"none\"/>\n",
       "<circle clip-path=\"url(#clip892)\" cx=\"1671.23\" cy=\"867.752\" r=\"14\" fill=\"#cd5c5c\" fill-rule=\"evenodd\" fill-opacity=\"1\" stroke=\"none\"/>\n",
       "<circle clip-path=\"url(#clip892)\" cx=\"1674.58\" cy=\"873.448\" r=\"14\" fill=\"#cd5c5c\" fill-rule=\"evenodd\" fill-opacity=\"1\" stroke=\"none\"/>\n",
       "<circle clip-path=\"url(#clip892)\" cx=\"1677.93\" cy=\"850.943\" r=\"14\" fill=\"#cd5c5c\" fill-rule=\"evenodd\" fill-opacity=\"1\" stroke=\"none\"/>\n",
       "<circle clip-path=\"url(#clip892)\" cx=\"1681.29\" cy=\"872.535\" r=\"14\" fill=\"#cd5c5c\" fill-rule=\"evenodd\" fill-opacity=\"1\" stroke=\"none\"/>\n",
       "<circle clip-path=\"url(#clip892)\" cx=\"1684.64\" cy=\"858.978\" r=\"14\" fill=\"#cd5c5c\" fill-rule=\"evenodd\" fill-opacity=\"1\" stroke=\"none\"/>\n",
       "<circle clip-path=\"url(#clip892)\" cx=\"1688\" cy=\"859.936\" r=\"14\" fill=\"#cd5c5c\" fill-rule=\"evenodd\" fill-opacity=\"1\" stroke=\"none\"/>\n",
       "<circle clip-path=\"url(#clip892)\" cx=\"1691.35\" cy=\"864.04\" r=\"14\" fill=\"#cd5c5c\" fill-rule=\"evenodd\" fill-opacity=\"1\" stroke=\"none\"/>\n",
       "<circle clip-path=\"url(#clip892)\" cx=\"1694.7\" cy=\"866.772\" r=\"14\" fill=\"#cd5c5c\" fill-rule=\"evenodd\" fill-opacity=\"1\" stroke=\"none\"/>\n",
       "<circle clip-path=\"url(#clip892)\" cx=\"1698.06\" cy=\"859.086\" r=\"14\" fill=\"#cd5c5c\" fill-rule=\"evenodd\" fill-opacity=\"1\" stroke=\"none\"/>\n",
       "<circle clip-path=\"url(#clip892)\" cx=\"1701.41\" cy=\"868.864\" r=\"14\" fill=\"#cd5c5c\" fill-rule=\"evenodd\" fill-opacity=\"1\" stroke=\"none\"/>\n",
       "<circle clip-path=\"url(#clip892)\" cx=\"1704.77\" cy=\"839.174\" r=\"14\" fill=\"#cd5c5c\" fill-rule=\"evenodd\" fill-opacity=\"1\" stroke=\"none\"/>\n",
       "<circle clip-path=\"url(#clip892)\" cx=\"1708.12\" cy=\"858.72\" r=\"14\" fill=\"#cd5c5c\" fill-rule=\"evenodd\" fill-opacity=\"1\" stroke=\"none\"/>\n",
       "<circle clip-path=\"url(#clip892)\" cx=\"1711.47\" cy=\"857.549\" r=\"14\" fill=\"#cd5c5c\" fill-rule=\"evenodd\" fill-opacity=\"1\" stroke=\"none\"/>\n",
       "<circle clip-path=\"url(#clip892)\" cx=\"1714.83\" cy=\"854.405\" r=\"14\" fill=\"#cd5c5c\" fill-rule=\"evenodd\" fill-opacity=\"1\" stroke=\"none\"/>\n",
       "<circle clip-path=\"url(#clip892)\" cx=\"1718.18\" cy=\"857.595\" r=\"14\" fill=\"#cd5c5c\" fill-rule=\"evenodd\" fill-opacity=\"1\" stroke=\"none\"/>\n",
       "<circle clip-path=\"url(#clip892)\" cx=\"1721.53\" cy=\"858.52\" r=\"14\" fill=\"#cd5c5c\" fill-rule=\"evenodd\" fill-opacity=\"1\" stroke=\"none\"/>\n",
       "<circle clip-path=\"url(#clip892)\" cx=\"1724.89\" cy=\"861.65\" r=\"14\" fill=\"#cd5c5c\" fill-rule=\"evenodd\" fill-opacity=\"1\" stroke=\"none\"/>\n",
       "<circle clip-path=\"url(#clip892)\" cx=\"1728.24\" cy=\"855.806\" r=\"14\" fill=\"#cd5c5c\" fill-rule=\"evenodd\" fill-opacity=\"1\" stroke=\"none\"/>\n",
       "<circle clip-path=\"url(#clip892)\" cx=\"1731.6\" cy=\"873.104\" r=\"14\" fill=\"#cd5c5c\" fill-rule=\"evenodd\" fill-opacity=\"1\" stroke=\"none\"/>\n",
       "<circle clip-path=\"url(#clip892)\" cx=\"1734.95\" cy=\"867.681\" r=\"14\" fill=\"#cd5c5c\" fill-rule=\"evenodd\" fill-opacity=\"1\" stroke=\"none\"/>\n",
       "<circle clip-path=\"url(#clip892)\" cx=\"1738.3\" cy=\"863.895\" r=\"14\" fill=\"#cd5c5c\" fill-rule=\"evenodd\" fill-opacity=\"1\" stroke=\"none\"/>\n",
       "<circle clip-path=\"url(#clip892)\" cx=\"1741.66\" cy=\"852.728\" r=\"14\" fill=\"#cd5c5c\" fill-rule=\"evenodd\" fill-opacity=\"1\" stroke=\"none\"/>\n",
       "<circle clip-path=\"url(#clip892)\" cx=\"1745.01\" cy=\"869.735\" r=\"14\" fill=\"#cd5c5c\" fill-rule=\"evenodd\" fill-opacity=\"1\" stroke=\"none\"/>\n",
       "<circle clip-path=\"url(#clip892)\" cx=\"1748.37\" cy=\"859.046\" r=\"14\" fill=\"#cd5c5c\" fill-rule=\"evenodd\" fill-opacity=\"1\" stroke=\"none\"/>\n",
       "<circle clip-path=\"url(#clip892)\" cx=\"1751.72\" cy=\"871.009\" r=\"14\" fill=\"#cd5c5c\" fill-rule=\"evenodd\" fill-opacity=\"1\" stroke=\"none\"/>\n",
       "<circle clip-path=\"url(#clip892)\" cx=\"1755.07\" cy=\"857.374\" r=\"14\" fill=\"#cd5c5c\" fill-rule=\"evenodd\" fill-opacity=\"1\" stroke=\"none\"/>\n",
       "<circle clip-path=\"url(#clip892)\" cx=\"1758.43\" cy=\"846.44\" r=\"14\" fill=\"#cd5c5c\" fill-rule=\"evenodd\" fill-opacity=\"1\" stroke=\"none\"/>\n",
       "<circle clip-path=\"url(#clip892)\" cx=\"1761.78\" cy=\"869.765\" r=\"14\" fill=\"#cd5c5c\" fill-rule=\"evenodd\" fill-opacity=\"1\" stroke=\"none\"/>\n",
       "<circle clip-path=\"url(#clip892)\" cx=\"1765.14\" cy=\"831.147\" r=\"14\" fill=\"#cd5c5c\" fill-rule=\"evenodd\" fill-opacity=\"1\" stroke=\"none\"/>\n",
       "<circle clip-path=\"url(#clip892)\" cx=\"1768.49\" cy=\"854.759\" r=\"14\" fill=\"#cd5c5c\" fill-rule=\"evenodd\" fill-opacity=\"1\" stroke=\"none\"/>\n",
       "<circle clip-path=\"url(#clip892)\" cx=\"1771.84\" cy=\"842.44\" r=\"14\" fill=\"#cd5c5c\" fill-rule=\"evenodd\" fill-opacity=\"1\" stroke=\"none\"/>\n",
       "<circle clip-path=\"url(#clip892)\" cx=\"1775.2\" cy=\"871.752\" r=\"14\" fill=\"#cd5c5c\" fill-rule=\"evenodd\" fill-opacity=\"1\" stroke=\"none\"/>\n",
       "<circle clip-path=\"url(#clip892)\" cx=\"1778.55\" cy=\"867.483\" r=\"14\" fill=\"#cd5c5c\" fill-rule=\"evenodd\" fill-opacity=\"1\" stroke=\"none\"/>\n",
       "<circle clip-path=\"url(#clip892)\" cx=\"1781.91\" cy=\"869.398\" r=\"14\" fill=\"#cd5c5c\" fill-rule=\"evenodd\" fill-opacity=\"1\" stroke=\"none\"/>\n",
       "<circle clip-path=\"url(#clip892)\" cx=\"1785.26\" cy=\"858.935\" r=\"14\" fill=\"#cd5c5c\" fill-rule=\"evenodd\" fill-opacity=\"1\" stroke=\"none\"/>\n",
       "<circle clip-path=\"url(#clip892)\" cx=\"1788.61\" cy=\"846.713\" r=\"14\" fill=\"#cd5c5c\" fill-rule=\"evenodd\" fill-opacity=\"1\" stroke=\"none\"/>\n",
       "<circle clip-path=\"url(#clip892)\" cx=\"1791.97\" cy=\"868.322\" r=\"14\" fill=\"#cd5c5c\" fill-rule=\"evenodd\" fill-opacity=\"1\" stroke=\"none\"/>\n",
       "<circle clip-path=\"url(#clip892)\" cx=\"1795.32\" cy=\"824.314\" r=\"14\" fill=\"#cd5c5c\" fill-rule=\"evenodd\" fill-opacity=\"1\" stroke=\"none\"/>\n",
       "<circle clip-path=\"url(#clip892)\" cx=\"1798.68\" cy=\"814.255\" r=\"14\" fill=\"#cd5c5c\" fill-rule=\"evenodd\" fill-opacity=\"1\" stroke=\"none\"/>\n",
       "<circle clip-path=\"url(#clip892)\" cx=\"1802.03\" cy=\"819.634\" r=\"14\" fill=\"#cd5c5c\" fill-rule=\"evenodd\" fill-opacity=\"1\" stroke=\"none\"/>\n",
       "<circle clip-path=\"url(#clip892)\" cx=\"1805.38\" cy=\"865.195\" r=\"14\" fill=\"#cd5c5c\" fill-rule=\"evenodd\" fill-opacity=\"1\" stroke=\"none\"/>\n",
       "<circle clip-path=\"url(#clip892)\" cx=\"1808.74\" cy=\"852.1\" r=\"14\" fill=\"#cd5c5c\" fill-rule=\"evenodd\" fill-opacity=\"1\" stroke=\"none\"/>\n",
       "<circle clip-path=\"url(#clip892)\" cx=\"1812.09\" cy=\"867.431\" r=\"14\" fill=\"#cd5c5c\" fill-rule=\"evenodd\" fill-opacity=\"1\" stroke=\"none\"/>\n",
       "<circle clip-path=\"url(#clip892)\" cx=\"1815.45\" cy=\"872.973\" r=\"14\" fill=\"#cd5c5c\" fill-rule=\"evenodd\" fill-opacity=\"1\" stroke=\"none\"/>\n",
       "<circle clip-path=\"url(#clip892)\" cx=\"1818.8\" cy=\"814.688\" r=\"14\" fill=\"#cd5c5c\" fill-rule=\"evenodd\" fill-opacity=\"1\" stroke=\"none\"/>\n",
       "<circle clip-path=\"url(#clip892)\" cx=\"1822.15\" cy=\"851.925\" r=\"14\" fill=\"#cd5c5c\" fill-rule=\"evenodd\" fill-opacity=\"1\" stroke=\"none\"/>\n",
       "<circle clip-path=\"url(#clip892)\" cx=\"1825.51\" cy=\"812.143\" r=\"14\" fill=\"#cd5c5c\" fill-rule=\"evenodd\" fill-opacity=\"1\" stroke=\"none\"/>\n",
       "<circle clip-path=\"url(#clip892)\" cx=\"1828.86\" cy=\"864.087\" r=\"14\" fill=\"#cd5c5c\" fill-rule=\"evenodd\" fill-opacity=\"1\" stroke=\"none\"/>\n",
       "<circle clip-path=\"url(#clip892)\" cx=\"1832.22\" cy=\"846.807\" r=\"14\" fill=\"#cd5c5c\" fill-rule=\"evenodd\" fill-opacity=\"1\" stroke=\"none\"/>\n",
       "<circle clip-path=\"url(#clip892)\" cx=\"1835.57\" cy=\"834.313\" r=\"14\" fill=\"#cd5c5c\" fill-rule=\"evenodd\" fill-opacity=\"1\" stroke=\"none\"/>\n",
       "<circle clip-path=\"url(#clip892)\" cx=\"1838.92\" cy=\"854.103\" r=\"14\" fill=\"#cd5c5c\" fill-rule=\"evenodd\" fill-opacity=\"1\" stroke=\"none\"/>\n",
       "<circle clip-path=\"url(#clip892)\" cx=\"1842.28\" cy=\"810.887\" r=\"14\" fill=\"#cd5c5c\" fill-rule=\"evenodd\" fill-opacity=\"1\" stroke=\"none\"/>\n",
       "<circle clip-path=\"url(#clip892)\" cx=\"1845.63\" cy=\"873.157\" r=\"14\" fill=\"#cd5c5c\" fill-rule=\"evenodd\" fill-opacity=\"1\" stroke=\"none\"/>\n",
       "<circle clip-path=\"url(#clip892)\" cx=\"1848.98\" cy=\"826.289\" r=\"14\" fill=\"#cd5c5c\" fill-rule=\"evenodd\" fill-opacity=\"1\" stroke=\"none\"/>\n",
       "<circle clip-path=\"url(#clip892)\" cx=\"1852.34\" cy=\"780.3\" r=\"14\" fill=\"#cd5c5c\" fill-rule=\"evenodd\" fill-opacity=\"1\" stroke=\"none\"/>\n",
       "<circle clip-path=\"url(#clip892)\" cx=\"1855.69\" cy=\"846.035\" r=\"14\" fill=\"#cd5c5c\" fill-rule=\"evenodd\" fill-opacity=\"1\" stroke=\"none\"/>\n",
       "<circle clip-path=\"url(#clip892)\" cx=\"1859.05\" cy=\"800.578\" r=\"14\" fill=\"#cd5c5c\" fill-rule=\"evenodd\" fill-opacity=\"1\" stroke=\"none\"/>\n",
       "<circle clip-path=\"url(#clip892)\" cx=\"1862.4\" cy=\"819.748\" r=\"14\" fill=\"#cd5c5c\" fill-rule=\"evenodd\" fill-opacity=\"1\" stroke=\"none\"/>\n",
       "<circle clip-path=\"url(#clip892)\" cx=\"1865.75\" cy=\"860.438\" r=\"14\" fill=\"#cd5c5c\" fill-rule=\"evenodd\" fill-opacity=\"1\" stroke=\"none\"/>\n",
       "<circle clip-path=\"url(#clip892)\" cx=\"1869.11\" cy=\"864.439\" r=\"14\" fill=\"#cd5c5c\" fill-rule=\"evenodd\" fill-opacity=\"1\" stroke=\"none\"/>\n",
       "<circle clip-path=\"url(#clip892)\" cx=\"1872.46\" cy=\"780.835\" r=\"14\" fill=\"#cd5c5c\" fill-rule=\"evenodd\" fill-opacity=\"1\" stroke=\"none\"/>\n",
       "<circle clip-path=\"url(#clip892)\" cx=\"1875.82\" cy=\"803.168\" r=\"14\" fill=\"#cd5c5c\" fill-rule=\"evenodd\" fill-opacity=\"1\" stroke=\"none\"/>\n",
       "<circle clip-path=\"url(#clip892)\" cx=\"1879.17\" cy=\"829.021\" r=\"14\" fill=\"#cd5c5c\" fill-rule=\"evenodd\" fill-opacity=\"1\" stroke=\"none\"/>\n",
       "<circle clip-path=\"url(#clip892)\" cx=\"1882.52\" cy=\"772.308\" r=\"14\" fill=\"#cd5c5c\" fill-rule=\"evenodd\" fill-opacity=\"1\" stroke=\"none\"/>\n",
       "<circle clip-path=\"url(#clip892)\" cx=\"1885.88\" cy=\"816.228\" r=\"14\" fill=\"#cd5c5c\" fill-rule=\"evenodd\" fill-opacity=\"1\" stroke=\"none\"/>\n",
       "<circle clip-path=\"url(#clip892)\" cx=\"1889.23\" cy=\"747.042\" r=\"14\" fill=\"#cd5c5c\" fill-rule=\"evenodd\" fill-opacity=\"1\" stroke=\"none\"/>\n",
       "<circle clip-path=\"url(#clip892)\" cx=\"1892.59\" cy=\"760.818\" r=\"14\" fill=\"#cd5c5c\" fill-rule=\"evenodd\" fill-opacity=\"1\" stroke=\"none\"/>\n",
       "<circle clip-path=\"url(#clip892)\" cx=\"1895.94\" cy=\"749.777\" r=\"14\" fill=\"#cd5c5c\" fill-rule=\"evenodd\" fill-opacity=\"1\" stroke=\"none\"/>\n",
       "<circle clip-path=\"url(#clip892)\" cx=\"1899.29\" cy=\"666.022\" r=\"14\" fill=\"#cd5c5c\" fill-rule=\"evenodd\" fill-opacity=\"1\" stroke=\"none\"/>\n",
       "<circle clip-path=\"url(#clip892)\" cx=\"1902.65\" cy=\"341.915\" r=\"14\" fill=\"#cd5c5c\" fill-rule=\"evenodd\" fill-opacity=\"1\" stroke=\"none\"/>\n",
       "</svg>\n"
      ]
     },
     "execution_count": 144,
     "metadata": {},
     "output_type": "execute_result"
    }
   ],
   "source": [
    "plot1 = plot(diff(evals) ./ evals[2:end], \n",
    "        legend = false, size = (500,250), \n",
    "        linewidth = 2.5, linestyle = :dash)\n",
    "scatter!(diff(evals) ./ evals[2:end], \n",
    "        markercolor = :indianred, \n",
    "        markerstrokecolor = :indianred, markersize = 4)"
   ]
  },
  {
   "cell_type": "markdown",
   "metadata": {},
   "source": [
    "The eigenvalues are increasing from left to right. \n",
    "\n",
    "We know that $R$ always has a kernel. This is the leftmost point on top.\n",
    "\n",
    "In addition, we see more points on the left separating from the rest. \n",
    "\n",
    "This is an indicator that there could be indeed polynomial equations (approximately) vanishing on the data.\n",
    "\n",
    "For instance, the trucks are photographed from different angles, so that the equation could describe rotational symmetry."
   ]
  },
  {
   "cell_type": "markdown",
   "metadata": {},
   "source": [
    "# Generative Models\n",
    "\n",
    "We consider again the [FashionMNIST](https://github.com/zalandoresearch/fashion-mnist) dataset from [Zalando Research](https://github.com/zalandoresearch)."
   ]
  },
  {
   "cell_type": "code",
   "execution_count": 145,
   "metadata": {},
   "outputs": [],
   "source": [
    "data_X, data_Y = FashionMNIST.traindata();"
   ]
  },
  {
   "cell_type": "code",
   "execution_count": 146,
   "metadata": {},
   "outputs": [],
   "source": [
    "labels = [\"T-shirt/top\", \n",
    "            \"Trouser\", \n",
    "            \"Pullover\", \n",
    "            \"Dress\", \n",
    "            \"Coat\", \n",
    "            \"Sandal\", \n",
    "            \"Shirt\", \n",
    "            \"Sneaker\", \n",
    "            \"Bag\", \n",
    "            \"Ankle boot\"];"
   ]
  },
  {
   "cell_type": "markdown",
   "metadata": {},
   "source": [
    "Let us consider the subset of the data consisting of images of sneakers."
   ]
  },
  {
   "cell_type": "code",
   "execution_count": 147,
   "metadata": {},
   "outputs": [],
   "source": [
    "idx = findfirst(labels .== \"Sneaker\") - 1\n",
    "sneakers = data_X[:,:, data_Y .== idx];"
   ]
  },
  {
   "cell_type": "markdown",
   "metadata": {},
   "source": [
    "This dataset contains 6000 images. "
   ]
  },
  {
   "cell_type": "code",
   "execution_count": 148,
   "metadata": {},
   "outputs": [
    {
     "data": {
      "text/plain": [
       "6000"
      ]
     },
     "execution_count": 148,
     "metadata": {},
     "output_type": "execute_result"
    }
   ],
   "source": [
    "n_images = size(sneakers, 3)"
   ]
  },
  {
   "cell_type": "markdown",
   "metadata": {},
   "source": [
    "We take a subset of $n=500$ images."
   ]
  },
  {
   "cell_type": "code",
   "execution_count": 149,
   "metadata": {},
   "outputs": [],
   "source": [
    "n = 500\n",
    "subsample = sample(1:n_images, n, replace = false);"
   ]
  },
  {
   "cell_type": "markdown",
   "metadata": {},
   "source": [
    "Let us take a look at 6 randomly chosen images from our dataset."
   ]
  },
  {
   "cell_type": "code",
   "execution_count": 150,
   "metadata": {},
   "outputs": [
    {
     "data": {
      "text/html": [
       "<table><tbody><tr><td style='text-align:center;vertical-align:middle; margin: 0.5em;border:1px #90999f solid;border-collapse:collapse'><img style='max-width: 100px; max-height:100px;display:inline' src=\"data:image/png;base64,iVBORw0KGgoAAAANSUhEUgAAAHAAAABwCAAAAADji6uXAAAABGdBTUEAALGPC/xhBQAAAAFzUkdCAK7OHOkAAAAgY0hSTQAAeiYAAICEAAD6AAAAgOgAAHUwAADqYAAAOpgAABdwnLpRPAAAAtdJREFUaAW9wU2IlAUcB+Dnnfm5m7Vhi5oW4UdflhZEQShR1K2iw3ZQqEgQunQMb9VFKLJrtw51CQq6RJEHqUOIVoQSgR1SITCwsoz8nG1235kG3mARAw/F/3miWBSLYlEsikWxKBbFolgUi2JRLIpFsSgWxaJYFItiUSyKRbEoFsWiWBSLYlEsrqLRGbvSVnyCG3Ua9NBiCkNXimJRLIrFVYxdbhMewZPYiBN4Fa9hjJHOUOdlBHsxRBSLYlEsrqKPVmcOezHAcRzDNdiJu/EcxpYcwXnMYagTxaJYFIt/0eiM0erswnZ8i41Yh+/xIC7hMQzwBt7Co1iLC3gI+3SiWBSLYjHRR2vJ2JJZvIltOITHcRQbsAUncA/OYojd2IOfcQ534m08iwOIYlEsisVE63LXYj3uwvOYwjF8jmnswHe4BT/iJ8zgAgY4ixEanMYK7MYBRLEoFsViYgY78AA243asxA8Y4wymsAG7sBkNfkEPl3ATzqPFH2jRRx8LmNaJYlEsiuV+vIQeLuEgDmMay7ERy7AfT+BLvIgjOIHlGOMcGp0Gy9FDiwZrdKJYFItiuQ9b8SumcK9OD/MY4HrMoY9DuBnP4AMc1OmhrzNCHz0EU7ioE8WiWBTLu5jDbZhHMEIPN2AWY4yxiOP4EA/jBaxGi2XoYYQWy9DDAC326ESxKBbFYuIdvIIRVmIGLRZ0GrRodW7FbxhhhEX00UODBj2MsIjVeB2fIYpFsSgWEx/jLO7AUWzCFqzHBkxjFjNYwABD9LGIEf7CABcxxDwu4hQGGOlEsSgWxeIfX+BrbMdXeB9D/49Z7MBTiGJRLIrFRIMx5vGeztNocBI7sQ/bcBrrcB1W4BTW4k+swu9Yg5NYhSHO4Bt8iigWxaJYTIxd6SNLDuvs999FsSgWxaJYFItiUSyKRbEoFsWiWBSLYlEsikWxKBbFolgUi2JRLIpFsSgWxf4G42GbUzX3zkMAAAAASUVORK5C\"></td><td style='text-align:center;vertical-align:middle; margin: 0.5em;border:1px #90999f solid;border-collapse:collapse'><img style='max-width: 100px; max-height:100px;display:inline' src=\"data:image/png;base64,iVBORw0KGgoAAAANSUhEUgAAAHAAAABwCAAAAADji6uXAAAABGdBTUEAALGPC/xhBQAAAAFzUkdCAK7OHOkAAAAgY0hSTQAAeiYAAICEAAD6AAAAgOgAAHUwAADqYAAAOpgAABdwnLpRPAAAAm1JREFUaAW9wb2rlQUAB+DnPfd3jx3tptxAJxH6mBwa3MLRdIggwmhoai2uNTQ09LG1RH9DUIMQQltr0BgEtUUQuWdFyvXaufectwtvcBEhXfo9T5RFWZRFWZRFWZRFWZRFWZRFWZRFWZRFWZRFWZRFWZRFWZRFWZRFWZRFWZRFWZRFWTyiAaMHXcD3/tscaxwgyqIsyuIRDJhh5cjT2MFlfIgbmGHtyGCydCTKoizK4iFmWGNl8j5eww/4Et/hPXyFlckMI0aTF/Et7iDKoizK4iHWJjt4ASfwCU7jOVzFPj7H6yZrR17CJfyMO4iyKIuyODSYjB70Ct7B7/gUF3Aez+Ms/kDwKi7hY1zHXVzCBbyNbZMoi7Ioi0Oj+13ENfyKK/jC5GU8i5OY40+cxIBfsIWPcA1P4Q18gPN4C28iyqIsyuLQKZzCTbyLM/gNe7hhso1nsMASA4I9LLCFe7iHET9hB1dxBo/jIqIsyqIsT2ATN3EcV/ANtnEaJ7GFsziOTSywgU0MJnOMWGGFJbZxDn9hicuIsiiLshzHGnNs4zOcxhJP4hwGLHEPc9zCGivsYxcjZriLTcywwoBdLPAjoizKoiwDFlhgia+xh789aDCZY45gjRk2MGLAiBUOsMI+BuwjyqIsyrKLAcewhW2ssI8ZBswwx2OYY4YDrDFzZMCI0WSNA9zFBm4jyqIsynIbtzHDAgucwDGcwAaC4AB7mGFlsoEBawzuN2JEsMIdRFmURVn8a41d7OKW/0+URVmURVmURVmURVmURVmURVmURVmURVmURVmURVmURVmURVmURVmURVmURVmU/QPR63b0f5dP7wAAAABJRU5ErkJg\"></td><td style='text-align:center;vertical-align:middle; margin: 0.5em;border:1px #90999f solid;border-collapse:collapse'><img style='max-width: 100px; max-height:100px;display:inline' src=\"data:image/png;base64,iVBORw0KGgoAAAANSUhEUgAAAHAAAABwCAAAAADji6uXAAAABGdBTUEAALGPC/xhBQAAAAFzUkdCAK7OHOkAAAAgY0hSTQAAeiYAAICEAAD6AAAAgOgAAHUwAADqYAAAOpgAABdwnLpRPAAAAtFJREFUaAW9wU9o1gUcB+Dn1z7zfefwz7Spc6EQxSIKPBoEiyCoS4cIyogg6tChboHQtUNBXYuuEQSeIujPOSjrUodCtAZiS2qt6ZbKNpnv+0v4HcYGZV6+zxPFolgUi2JRLIpFsSgWxaJYFItiUSyKRbEoFsWiWBSLYlEsikWxKBbFolgUi2JxCyMYokGr06JBq/MKZnHCpgbBAK1OiygWxaJY3MIADYa2anVex6s4gwatTosNmxqdKBbFoljchhEMbLoLM3gTp/EQTtvqMWzgK50oFsWiWPwPrc5A5xAexQq+wCgewB78hKs6L2ESP2IfLiGKRbEoFrdhFx7GEczhBbyPaczgGzyPt3Ee5/AJ/sIkLiGKRbEoFts0aG11FHtxHNcxjQWcxVv4GH/gEfyAWUxip87dWMMviGJRLIrFNq1NPUziKWygwWUEJ/AsTuEUPsd5TOE+jGEeVzGF7zGOKBbFolhs08M9OII92MAFHMS9mMIbeBlzeA5P4F3MYwJDXMRO7MBvGGAXolgUi2Jx0z4cwFEcRIM1LGMN+/EtPsB7+AxP4ne8ho/wKR7EEtZxCAvYj3H8qhPFolgUyzRmMESwhFZnHHswwOM4hnfwNE7iCr7GLA5jAX0cx0UcQh8LOIpFRLEoFsUygmWdISYwhh5anT5WcSdexAquoY8bWMdZnMMo5rCBDYxiFUuYQBSLYlEsF9HDZYxgDA0m0dNp0McyguAaxrCOa7iEGTSY0GnQYqizG1EsikWxDDGPcUxhF1YwjmBUZ4j96GGAA9iJP3ESz+AYZjBAH4fRwxKGmEcUi2JRLG66juu4jDvQxxXcwDh2YDf2YhH3Yw6LWMTP+BJ/YwUjWMMyVnEGV3WiWBSLYrHNEKuY9+++s9UyPtS54L9FsSgWxaJYFItiUSyKRbEoFsWiWBSLYlEsikWxKBbFolgUi2JRLIpFsSgWxf4BDUuZGRe6c70AAAAASUVORK5C\"></td><td style='text-align:center;vertical-align:middle; margin: 0.5em;border:1px #90999f solid;border-collapse:collapse'><img style='max-width: 100px; max-height:100px;display:inline' src=\"data:image/png;base64,iVBORw0KGgoAAAANSUhEUgAAAHAAAABwCAAAAADji6uXAAAABGdBTUEAALGPC/xhBQAAAAFzUkdCAK7OHOkAAAAgY0hSTQAAeiYAAICEAAD6AAAAgOgAAHUwAADqYAAAOpgAABdwnLpRPAAAAwVJREFUaAW9wcGK1AUcB/DP7HydcddNRdmsNgKtMCzqYIh66AWkQ1AUHjtERxEMhKgHsB4g0AeoXiCESC8FlRCapnUwFWl1W0MY222c2X8L/4MpJmr0+3yiWBSLYlEsikWxKBbFolgUi2JRLIpFsSgWxaJYFItiUSz+gw4ard3o4Zh7i2JRLIrFQ+igQaO1FQPsx168499FsSgWxeIhTGh1sQsXcQ6HsQ9f4m1c0NqIBa0oFsWiWDykMcY4gs9xEBvwPaawC4vYiwEOa0WxKBbF4gF1MNZ6D2/iFLZjP+ZxDZuwB3/iiFYXUSyKRbF4AB00WtuwBz9giE/wKy5hA3q4hhEGWmNEsSgWxeI+dLGMBh28gJN4EafwDS7hMhpcRQ8d9DCj1UEUi2JRLO6ig0ari2U0WjvwEV7Cz/gYlzGHVRhhEQP0sRbP4jgaRLEoFsXiDh23G6OHIfaij/dxEq+jjzlMY4xgEjcxwI/YjB6GiGJRLIrFHRq3m0Qfh/ABpjCPA3gZI3RxAxNaXXQwxAgT2I1jiGJRLIrFPfRwAJ/hEB7FLryCJZxDFw2CVehgAgNcxSTmsAPHEMWiWBSLf+hiGQ0ex7v4EM9hJ7ZjCksYYzWuYBGr0cc0JjHALNZhjE+1olgUi2Lp4jFcwRirMIMb+Ar7sBlr0UMXy+ihi2fwJIYY4Q8sYA0u4zucxbdaUSyKRbFY8QiGmMcQNzCLp7CAi9iEYBLTGGIBV3AdV3EdS2gwiTks4wlsxASiWBSLYpnBRUxgG3r4HefxC4buTx9PYwsGGGEakwjOYiuiWBSLYtmCnTiB41rrsQY3MaU1QgdjDDFG45a/cAZn3N0sOohiUSyK5WtM4w28hd/wE+ZxAYsYYAaTWI8ZrMF6rMNq9N0yRoMZrEMfZ3EQUSyKRbFYcRRH8TxexWuYxVhrAj100UPQYAmLGGEZYzQYo4PzOIE5fKEVxaJYFIsVQRencdr/K4pFsSgWK0YYqRHFolgUi2JRLIpFsSgWxaJYFItiUSyKRbG/AXPHrZzdwYfAAAAAAElFTkSuQmCC\"></td><td style='text-align:center;vertical-align:middle; margin: 0.5em;border:1px #90999f solid;border-collapse:collapse'><img style='max-width: 100px; max-height:100px;display:inline' src=\"data:image/png;base64,iVBORw0KGgoAAAANSUhEUgAAAHAAAABwCAAAAADji6uXAAAABGdBTUEAALGPC/xhBQAAAAFzUkdCAK7OHOkAAAAgY0hSTQAAeiYAAICEAAD6AAAAgOgAAHUwAADqYAAAOpgAABdwnLpRPAAAApxJREFUaAW9wb9rnAUcB+Dnvftcjtq0CTU/lFYjirWNKBQ6iBRBcFDH6ODm7OIk9f9w7ObgJBScCg4tWBAqLlJchIJGh2KT2kvaJrnc5bXwCqFDxcXv80SxKBbFolgUi2JRLIpFsSgWxaJYFItiUSyKRbEoFsWiWBSLYlEsikWxKBbFolgUi2JRLIrFf9CgwYFDH+IsLuNnT7aANVzSiWJRLIrFv2jQxwStzhl8hn3MYw3X8TWue9wxfIlz+Ak3EMWiWBSLJ+hjiolD7+AD/I57OIElvIIv8AO+wQDP4yK28SfO4waiWBSLYvFIgz4a7OtMdV7Au/gI93EFC3gddzDGis5ruIBF/IURRngK53SiWBSLYgkmmHjcCj7Gq7iDm5jFHE5iAzu4hiHmcQoz2MQm+higxQmdKBbFolgmOsEbeBOncRyXcQt38Swu4g98j5exiCWcwQQ97OMX7GIBQ0xwUieKRbEoFo98ijWsY4TfcIDPMcIqFnENn2ADc5hHg7s6DbawgBnsYgP7mMcRRLEoFsWyivcwwh6mmMUKejiLdVzFTQxwAdvYwgPsYg8txpjFDgYI7mOARUSxKBbF8jaexhhLGGKKPdzCr5jgON7HCFcxQB99nTH66GGEKfoY4iiW8RaiWBSLYlnHMWwi2EODIVbRww6mGGMOLVq0OECDIRr00GCAfRxggns4gigWxaJYvsMM5tHHi3iAMR5ijKNoHZpB49AUE/TQ02l0GmzhOTxEFItiUSwjvIRncArnsYxlLGGo06JFH9uYokWLVqeHBg1mMMUexvgWXyGKRbEoFv+4jdv40f8rikWxKBbFolgUi2JRLIpFsSgWxaJYFItiUSyKRbEoFsWiWBSLYlEsikWxKBbFolgUi2J/A8lRiKiFeIK5AAAAAElFTkSuQmCC\"></td><td style='text-align:center;vertical-align:middle; margin: 0.5em;border:1px #90999f solid;border-collapse:collapse'><img style='max-width: 100px; max-height:100px;display:inline' src=\"data:image/png;base64,iVBORw0KGgoAAAANSUhEUgAAAHAAAABwCAAAAADji6uXAAAABGdBTUEAALGPC/xhBQAAAAFzUkdCAK7OHOkAAAAgY0hSTQAAeiYAAICEAAD6AAAAgOgAAHUwAADqYAAAOpgAABdwnLpRPAAAApFJREFUaAW9wc+LlAUcB+DnnfnMusq2ZGIiGOl2yF+IZFaXsEiIqP6D/oAO0V/QrVOXLh26dSwiCOrQyRC6hCyYdRE6dAkzrLUdpnSaX2/CKwwl6B7i+zxRLIpFsSgWxaJYFItiUSyKRbEoFsWiWBSLYlEsikWxKBbFolgUi2JRLIpFsSgWxaJYFIti8QCNTmtnGrToY+5eUSyKRbF4gNa9NvAWPsUGPrHU6syxB0/jG0tRLIpFsdiBBq3OU/gM17GGUxjiK50Grc4mfsOXeF8nikWxKBY70Op8jGewiS9wDhfxNia4gFbnDfyIm3jMUhSLYlEs/qOHFj3MMcCHGOE83sRZPI8RzmKId/ACvsVxvIhfsR/HcQxXEcWiWBRLT6dFi4XOXOc9vIQP8C6exRmM8Qsu4Shu4WW8ij8wxUlMcQjncRVRLIpFsSz82wAncAIHcASfYy9WsQtP4lF8jT24gR6uYR0nMcIMLf7EKZ0oFsWiWNxxBEdxGI9jBQtcxyZexyYWOIgfMMMUD6HFGFNsYIQFVjHBGMd0olgUi2J5Bc9hgj6GWGCAR/A3vsdpXMQaruFhtOhjgSHOYB0TrKHR6eO0ThSLYlEsB/EEtnEbE7SYood92MJfOIdbOGCpjzH24hC2sAvb2MbPuIDv0EcUi2JRLB/hMl7DYezDOlrMMMTv+AnruIxLuIGbGGGOHmbubz+iWBSLYnHHFVzRaRC0OjP3t4IVzDHAAAOsYBXBAgsEUSyKRbG4q8EAu3Um2I0GQdBgjhYz9CwN0EODFn2MMcEKpthCFItiUSzuajHBxNJt/78oFsWiWBSLYlEsikWxKBbFolgUi2JRLIpFsSgWxaJYFItiUSyKRbEoFsWi2D/0V4sOZG9i3gAAAABJRU5ErkJg\"></td></tr></tbody></table><div><small>(a vector displayed as a row to save space)</small></div>"
      ],
      "text/plain": [
       "6-element Vector{Base.ReinterpretArray{Gray{N0f8}, 2, N0f8, Matrix{N0f8}, true}}:\n",
       " [Gray{N0f8}(0.0) Gray{N0f8}(0.0) … Gray{N0f8}(0.0) Gray{N0f8}(0.0); Gray{N0f8}(0.0) Gray{N0f8}(0.0) … Gray{N0f8}(0.0) Gray{N0f8}(0.0); … ; Gray{N0f8}(0.0) Gray{N0f8}(0.0) … Gray{N0f8}(0.0) Gray{N0f8}(0.0); Gray{N0f8}(0.0) Gray{N0f8}(0.0) … Gray{N0f8}(0.0) Gray{N0f8}(0.0)]\n",
       " [Gray{N0f8}(0.0) Gray{N0f8}(0.0) … Gray{N0f8}(0.0) Gray{N0f8}(0.0); Gray{N0f8}(0.0) Gray{N0f8}(0.0) … Gray{N0f8}(0.0) Gray{N0f8}(0.0); … ; Gray{N0f8}(0.0) Gray{N0f8}(0.0) … Gray{N0f8}(0.0) Gray{N0f8}(0.0); Gray{N0f8}(0.0) Gray{N0f8}(0.0) … Gray{N0f8}(0.0) Gray{N0f8}(0.0)]\n",
       " [Gray{N0f8}(0.0) Gray{N0f8}(0.0) … Gray{N0f8}(0.0) Gray{N0f8}(0.0); Gray{N0f8}(0.0) Gray{N0f8}(0.0) … Gray{N0f8}(0.0) Gray{N0f8}(0.0); … ; Gray{N0f8}(0.0) Gray{N0f8}(0.0) … Gray{N0f8}(0.0) Gray{N0f8}(0.0); Gray{N0f8}(0.0) Gray{N0f8}(0.0) … Gray{N0f8}(0.0) Gray{N0f8}(0.0)]\n",
       " [Gray{N0f8}(0.0) Gray{N0f8}(0.0) … Gray{N0f8}(0.0) Gray{N0f8}(0.0); Gray{N0f8}(0.0) Gray{N0f8}(0.0) … Gray{N0f8}(0.0) Gray{N0f8}(0.0); … ; Gray{N0f8}(0.0) Gray{N0f8}(0.0) … Gray{N0f8}(0.0) Gray{N0f8}(0.0); Gray{N0f8}(0.0) Gray{N0f8}(0.0) … Gray{N0f8}(0.0) Gray{N0f8}(0.0)]\n",
       " [Gray{N0f8}(0.0) Gray{N0f8}(0.0) … Gray{N0f8}(0.0) Gray{N0f8}(0.0); Gray{N0f8}(0.0) Gray{N0f8}(0.0) … Gray{N0f8}(0.0) Gray{N0f8}(0.0); … ; Gray{N0f8}(0.0) Gray{N0f8}(0.0) … Gray{N0f8}(0.0) Gray{N0f8}(0.0); Gray{N0f8}(0.0) Gray{N0f8}(0.0) … Gray{N0f8}(0.0) Gray{N0f8}(0.0)]\n",
       " [Gray{N0f8}(0.0) Gray{N0f8}(0.0) … Gray{N0f8}(0.0) Gray{N0f8}(0.0); Gray{N0f8}(0.0) Gray{N0f8}(0.0) … Gray{N0f8}(0.0) Gray{N0f8}(0.0); … ; Gray{N0f8}(0.0) Gray{N0f8}(0.0) … Gray{N0f8}(0.0) Gray{N0f8}(0.0); Gray{N0f8}(0.0) Gray{N0f8}(0.0) … Gray{N0f8}(0.0) Gray{N0f8}(0.0)]"
      ]
     },
     "execution_count": 150,
     "metadata": {},
     "output_type": "execute_result"
    }
   ],
   "source": [
    "k = rand(subsample, 6)\n",
    "[FashionMNIST.convert2image(sneakers[:,:,i]) for i in k]"
   ]
  },
  {
   "cell_type": "markdown",
   "metadata": {},
   "source": [
    "We embed the data in $\\mathbb R^D$ ($D= 28^2 = 784$ for $28\\times 28$ pixels) and center the data."
   ]
  },
  {
   "cell_type": "code",
   "execution_count": 151,
   "metadata": {},
   "outputs": [
    {
     "data": {
      "text/plain": [
       "784"
      ]
     },
     "execution_count": 151,
     "metadata": {},
     "output_type": "execute_result"
    }
   ],
   "source": [
    "D = 28^2"
   ]
  },
  {
   "cell_type": "code",
   "execution_count": 152,
   "metadata": {},
   "outputs": [],
   "source": [
    "X = map(subsample) do i\n",
    "    xᵢ = vec(sneakers[:,:,i])\n",
    "    Float64.(xᵢ)\n",
    "    end;\n",
    "\n",
    "x̄ = mean(X);\n",
    "X = map(x -> x .- x̄, X);"
   ]
  },
  {
   "cell_type": "markdown",
   "metadata": {},
   "source": [
    "The feature matrix $\\Omega$ in this case is simply the matrix having the data as rows."
   ]
  },
  {
   "cell_type": "code",
   "execution_count": 153,
   "metadata": {},
   "outputs": [],
   "source": [
    "Ω = hcat(X...) |> transpose;"
   ]
  },
  {
   "cell_type": "code",
   "execution_count": 154,
   "metadata": {},
   "outputs": [
    {
     "data": {
      "text/plain": [
       "(500, 784)"
      ]
     },
     "execution_count": 154,
     "metadata": {},
     "output_type": "execute_result"
    }
   ],
   "source": [
    "size(Ω)"
   ]
  },
  {
   "cell_type": "markdown",
   "metadata": {},
   "source": [
    "Now, we compute a singular value decomposition of $\\Omega$."
   ]
  },
  {
   "cell_type": "code",
   "execution_count": 155,
   "metadata": {},
   "outputs": [],
   "source": [
    "S = svd(Ω)\n",
    "svals = S.S;"
   ]
  },
  {
   "cell_type": "markdown",
   "metadata": {},
   "source": [
    "Let us plot the logarithms of the values in `svals`."
   ]
  },
  {
   "cell_type": "code",
   "execution_count": 156,
   "metadata": {
    "scrolled": true
   },
   "outputs": [
    {
     "data": {
      "image/svg+xml": [
       "<?xml version=\"1.0\" encoding=\"utf-8\"?>\n",
       "<svg xmlns=\"http://www.w3.org/2000/svg\" xmlns:xlink=\"http://www.w3.org/1999/xlink\" width=\"500\" height=\"250\" viewBox=\"0 0 2000 1000\">\n",
       "<defs>\n",
       "  <clipPath id=\"clip930\">\n",
       "    <rect x=\"0\" y=\"0\" width=\"2000\" height=\"1000\"/>\n",
       "  </clipPath>\n",
       "</defs>\n",
       "<path clip-path=\"url(#clip930)\" d=\"\n",
       "M0 1000 L2000 1000 L2000 0 L0 0  Z\n",
       "  \" fill=\"#ffffff\" fill-rule=\"evenodd\" fill-opacity=\"1\"/>\n",
       "<defs>\n",
       "  <clipPath id=\"clip931\">\n",
       "    <rect x=\"400\" y=\"0\" width=\"1401\" height=\"1000\"/>\n",
       "  </clipPath>\n",
       "</defs>\n",
       "<path clip-path=\"url(#clip930)\" d=\"\n",
       "M137.853 901.088 L1952.76 901.088 L1952.76 47.2441 L137.853 47.2441  Z\n",
       "  \" fill=\"#ffffff\" fill-rule=\"evenodd\" fill-opacity=\"1\"/>\n",
       "<defs>\n",
       "  <clipPath id=\"clip932\">\n",
       "    <rect x=\"137\" y=\"47\" width=\"1816\" height=\"855\"/>\n",
       "  </clipPath>\n",
       "</defs>\n",
       "<polyline clip-path=\"url(#clip932)\" style=\"stroke:#000000; stroke-linecap:butt; stroke-linejoin:round; stroke-width:2; stroke-opacity:0.1; fill:none\" points=\"\n",
       "  137.853,901.088 137.853,47.2441 \n",
       "  \"/>\n",
       "<polyline clip-path=\"url(#clip932)\" style=\"stroke:#000000; stroke-linecap:butt; stroke-linejoin:round; stroke-width:2; stroke-opacity:0.1; fill:none\" points=\"\n",
       "  289.095,901.088 289.095,47.2441 \n",
       "  \"/>\n",
       "<polyline clip-path=\"url(#clip932)\" style=\"stroke:#000000; stroke-linecap:butt; stroke-linejoin:round; stroke-width:2; stroke-opacity:0.1; fill:none\" points=\"\n",
       "  440.337,901.088 440.337,47.2441 \n",
       "  \"/>\n",
       "<polyline clip-path=\"url(#clip932)\" style=\"stroke:#000000; stroke-linecap:butt; stroke-linejoin:round; stroke-width:2; stroke-opacity:0.1; fill:none\" points=\"\n",
       "  591.579,901.088 591.579,47.2441 \n",
       "  \"/>\n",
       "<polyline clip-path=\"url(#clip932)\" style=\"stroke:#000000; stroke-linecap:butt; stroke-linejoin:round; stroke-width:2; stroke-opacity:0.1; fill:none\" points=\"\n",
       "  742.821,901.088 742.821,47.2441 \n",
       "  \"/>\n",
       "<polyline clip-path=\"url(#clip932)\" style=\"stroke:#000000; stroke-linecap:butt; stroke-linejoin:round; stroke-width:2; stroke-opacity:0.1; fill:none\" points=\"\n",
       "  894.063,901.088 894.063,47.2441 \n",
       "  \"/>\n",
       "<polyline clip-path=\"url(#clip932)\" style=\"stroke:#000000; stroke-linecap:butt; stroke-linejoin:round; stroke-width:2; stroke-opacity:0.1; fill:none\" points=\"\n",
       "  1045.3,901.088 1045.3,47.2441 \n",
       "  \"/>\n",
       "<polyline clip-path=\"url(#clip932)\" style=\"stroke:#000000; stroke-linecap:butt; stroke-linejoin:round; stroke-width:2; stroke-opacity:0.1; fill:none\" points=\"\n",
       "  1196.55,901.088 1196.55,47.2441 \n",
       "  \"/>\n",
       "<polyline clip-path=\"url(#clip932)\" style=\"stroke:#000000; stroke-linecap:butt; stroke-linejoin:round; stroke-width:2; stroke-opacity:0.1; fill:none\" points=\"\n",
       "  1347.79,901.088 1347.79,47.2441 \n",
       "  \"/>\n",
       "<polyline clip-path=\"url(#clip932)\" style=\"stroke:#000000; stroke-linecap:butt; stroke-linejoin:round; stroke-width:2; stroke-opacity:0.1; fill:none\" points=\"\n",
       "  1499.03,901.088 1499.03,47.2441 \n",
       "  \"/>\n",
       "<polyline clip-path=\"url(#clip932)\" style=\"stroke:#000000; stroke-linecap:butt; stroke-linejoin:round; stroke-width:2; stroke-opacity:0.1; fill:none\" points=\"\n",
       "  1650.27,901.088 1650.27,47.2441 \n",
       "  \"/>\n",
       "<polyline clip-path=\"url(#clip932)\" style=\"stroke:#000000; stroke-linecap:butt; stroke-linejoin:round; stroke-width:2; stroke-opacity:0.1; fill:none\" points=\"\n",
       "  1801.51,901.088 1801.51,47.2441 \n",
       "  \"/>\n",
       "<polyline clip-path=\"url(#clip932)\" style=\"stroke:#000000; stroke-linecap:butt; stroke-linejoin:round; stroke-width:2; stroke-opacity:0.1; fill:none\" points=\"\n",
       "  1952.76,901.088 1952.76,47.2441 \n",
       "  \"/>\n",
       "<polyline clip-path=\"url(#clip930)\" style=\"stroke:#000000; stroke-linecap:butt; stroke-linejoin:round; stroke-width:4; stroke-opacity:1; fill:none\" points=\"\n",
       "  137.853,901.088 1952.76,901.088 \n",
       "  \"/>\n",
       "<polyline clip-path=\"url(#clip930)\" style=\"stroke:#000000; stroke-linecap:butt; stroke-linejoin:round; stroke-width:4; stroke-opacity:1; fill:none\" points=\"\n",
       "  137.853,901.088 137.853,882.19 \n",
       "  \"/>\n",
       "<polyline clip-path=\"url(#clip930)\" style=\"stroke:#000000; stroke-linecap:butt; stroke-linejoin:round; stroke-width:4; stroke-opacity:1; fill:none\" points=\"\n",
       "  289.095,901.088 289.095,882.19 \n",
       "  \"/>\n",
       "<polyline clip-path=\"url(#clip930)\" style=\"stroke:#000000; stroke-linecap:butt; stroke-linejoin:round; stroke-width:4; stroke-opacity:1; fill:none\" points=\"\n",
       "  440.337,901.088 440.337,882.19 \n",
       "  \"/>\n",
       "<polyline clip-path=\"url(#clip930)\" style=\"stroke:#000000; stroke-linecap:butt; stroke-linejoin:round; stroke-width:4; stroke-opacity:1; fill:none\" points=\"\n",
       "  591.579,901.088 591.579,882.19 \n",
       "  \"/>\n",
       "<polyline clip-path=\"url(#clip930)\" style=\"stroke:#000000; stroke-linecap:butt; stroke-linejoin:round; stroke-width:4; stroke-opacity:1; fill:none\" points=\"\n",
       "  742.821,901.088 742.821,882.19 \n",
       "  \"/>\n",
       "<polyline clip-path=\"url(#clip930)\" style=\"stroke:#000000; stroke-linecap:butt; stroke-linejoin:round; stroke-width:4; stroke-opacity:1; fill:none\" points=\"\n",
       "  894.063,901.088 894.063,882.19 \n",
       "  \"/>\n",
       "<polyline clip-path=\"url(#clip930)\" style=\"stroke:#000000; stroke-linecap:butt; stroke-linejoin:round; stroke-width:4; stroke-opacity:1; fill:none\" points=\"\n",
       "  1045.3,901.088 1045.3,882.19 \n",
       "  \"/>\n",
       "<polyline clip-path=\"url(#clip930)\" style=\"stroke:#000000; stroke-linecap:butt; stroke-linejoin:round; stroke-width:4; stroke-opacity:1; fill:none\" points=\"\n",
       "  1196.55,901.088 1196.55,882.19 \n",
       "  \"/>\n",
       "<polyline clip-path=\"url(#clip930)\" style=\"stroke:#000000; stroke-linecap:butt; stroke-linejoin:round; stroke-width:4; stroke-opacity:1; fill:none\" points=\"\n",
       "  1347.79,901.088 1347.79,882.19 \n",
       "  \"/>\n",
       "<polyline clip-path=\"url(#clip930)\" style=\"stroke:#000000; stroke-linecap:butt; stroke-linejoin:round; stroke-width:4; stroke-opacity:1; fill:none\" points=\"\n",
       "  1499.03,901.088 1499.03,882.19 \n",
       "  \"/>\n",
       "<polyline clip-path=\"url(#clip930)\" style=\"stroke:#000000; stroke-linecap:butt; stroke-linejoin:round; stroke-width:4; stroke-opacity:1; fill:none\" points=\"\n",
       "  1650.27,901.088 1650.27,882.19 \n",
       "  \"/>\n",
       "<polyline clip-path=\"url(#clip930)\" style=\"stroke:#000000; stroke-linecap:butt; stroke-linejoin:round; stroke-width:4; stroke-opacity:1; fill:none\" points=\"\n",
       "  1801.51,901.088 1801.51,882.19 \n",
       "  \"/>\n",
       "<polyline clip-path=\"url(#clip930)\" style=\"stroke:#000000; stroke-linecap:butt; stroke-linejoin:round; stroke-width:4; stroke-opacity:1; fill:none\" points=\"\n",
       "  1952.76,901.088 1952.76,882.19 \n",
       "  \"/>\n",
       "<path clip-path=\"url(#clip930)\" d=\"M91.6726 943.459 L121.348 943.459 L121.348 947.394 L91.6726 947.394 L91.6726 943.459 Z\" fill=\"#000000\" fill-rule=\"evenodd\" fill-opacity=\"1\" /><path clip-path=\"url(#clip930)\" d=\"M132.251 956.353 L139.89 956.353 L139.89 929.987 L131.58 931.654 L131.58 927.395 L139.844 925.728 L144.52 925.728 L144.52 956.353 L152.158 956.353 L152.158 960.288 L132.251 960.288 L132.251 956.353 Z\" fill=\"#000000\" fill-rule=\"evenodd\" fill-opacity=\"1\" /><path clip-path=\"url(#clip930)\" d=\"M174.45 929.802 L162.644 948.251 L174.45 948.251 L174.45 929.802 M173.223 925.728 L179.103 925.728 L179.103 948.251 L184.033 948.251 L184.033 952.14 L179.103 952.14 L179.103 960.288 L174.45 960.288 L174.45 952.14 L158.848 952.14 L158.848 947.626 L173.223 925.728 Z\" fill=\"#000000\" fill-rule=\"evenodd\" fill-opacity=\"1\" /><path clip-path=\"url(#clip930)\" d=\"M243.956 943.459 L273.632 943.459 L273.632 947.394 L243.956 947.394 L243.956 943.459 Z\" fill=\"#000000\" fill-rule=\"evenodd\" fill-opacity=\"1\" /><path clip-path=\"url(#clip930)\" d=\"M284.535 956.353 L292.174 956.353 L292.174 929.987 L283.863 931.654 L283.863 927.395 L292.127 925.728 L296.803 925.728 L296.803 956.353 L304.442 956.353 L304.442 960.288 L284.535 960.288 L284.535 956.353 Z\" fill=\"#000000\" fill-rule=\"evenodd\" fill-opacity=\"1\" /><path clip-path=\"url(#clip930)\" d=\"M317.914 956.353 L334.234 956.353 L334.234 960.288 L312.289 960.288 L312.289 956.353 Q314.951 953.598 319.535 948.968 Q324.141 944.316 325.322 942.973 Q327.567 940.45 328.446 938.714 Q329.349 936.955 329.349 935.265 Q329.349 932.51 327.405 930.774 Q325.484 929.038 322.382 929.038 Q320.183 929.038 317.729 929.802 Q315.298 930.566 312.521 932.117 L312.521 927.395 Q315.345 926.26 317.798 925.682 Q320.252 925.103 322.289 925.103 Q327.659 925.103 330.854 927.788 Q334.048 930.473 334.048 934.964 Q334.048 937.094 333.238 939.015 Q332.451 940.913 330.345 943.506 Q329.766 944.177 326.664 947.394 Q323.562 950.589 317.914 956.353 Z\" fill=\"#000000\" fill-rule=\"evenodd\" fill-opacity=\"1\" /><path clip-path=\"url(#clip930)\" d=\"M394.4 943.459 L424.075 943.459 L424.075 947.394 L394.4 947.394 L394.4 943.459 Z\" fill=\"#000000\" fill-rule=\"evenodd\" fill-opacity=\"1\" /><path clip-path=\"url(#clip930)\" d=\"M434.978 956.353 L442.617 956.353 L442.617 929.987 L434.307 931.654 L434.307 927.395 L442.571 925.728 L447.246 925.728 L447.246 956.353 L454.885 956.353 L454.885 960.288 L434.978 960.288 L434.978 956.353 Z\" fill=\"#000000\" fill-rule=\"evenodd\" fill-opacity=\"1\" /><path clip-path=\"url(#clip930)\" d=\"M474.33 928.807 Q470.719 928.807 468.89 932.371 Q467.084 935.913 467.084 943.043 Q467.084 950.149 468.89 953.714 Q470.719 957.255 474.33 957.255 Q477.964 957.255 479.769 953.714 Q481.598 950.149 481.598 943.043 Q481.598 935.913 479.769 932.371 Q477.964 928.807 474.33 928.807 M474.33 925.103 Q480.14 925.103 483.195 929.709 Q486.274 934.293 486.274 943.043 Q486.274 951.769 483.195 956.376 Q480.14 960.959 474.33 960.959 Q468.519 960.959 465.441 956.376 Q462.385 951.769 462.385 943.043 Q462.385 934.293 465.441 929.709 Q468.519 925.103 474.33 925.103 Z\" fill=\"#000000\" fill-rule=\"evenodd\" fill-opacity=\"1\" /><path clip-path=\"url(#clip930)\" d=\"M560.769 943.459 L590.444 943.459 L590.444 947.394 L560.769 947.394 L560.769 943.459 Z\" fill=\"#000000\" fill-rule=\"evenodd\" fill-opacity=\"1\" /><path clip-path=\"url(#clip930)\" d=\"M610.537 943.876 Q607.204 943.876 605.282 945.658 Q603.384 947.441 603.384 950.566 Q603.384 953.691 605.282 955.473 Q607.204 957.255 610.537 957.255 Q613.87 957.255 615.792 955.473 Q617.713 953.668 617.713 950.566 Q617.713 947.441 615.792 945.658 Q613.893 943.876 610.537 943.876 M605.861 941.885 Q602.852 941.144 601.162 939.084 Q599.495 937.024 599.495 934.061 Q599.495 929.918 602.435 927.51 Q605.398 925.103 610.537 925.103 Q615.699 925.103 618.639 927.51 Q621.579 929.918 621.579 934.061 Q621.579 937.024 619.889 939.084 Q618.222 941.144 615.236 941.885 Q618.616 942.672 620.491 944.964 Q622.389 947.256 622.389 950.566 Q622.389 955.589 619.31 958.274 Q616.254 960.959 610.537 960.959 Q604.819 960.959 601.741 958.274 Q598.685 955.589 598.685 950.566 Q598.685 947.256 600.583 944.964 Q602.481 942.672 605.861 941.885 M604.148 934.501 Q604.148 937.186 605.815 938.691 Q607.505 940.195 610.537 940.195 Q613.546 940.195 615.236 938.691 Q616.949 937.186 616.949 934.501 Q616.949 931.816 615.236 930.311 Q613.546 928.807 610.537 928.807 Q607.505 928.807 605.815 930.311 Q604.148 931.816 604.148 934.501 Z\" fill=\"#000000\" fill-rule=\"evenodd\" fill-opacity=\"1\" /><path clip-path=\"url(#clip930)\" d=\"M711.883 943.459 L741.559 943.459 L741.559 947.394 L711.883 947.394 L711.883 943.459 Z\" fill=\"#000000\" fill-rule=\"evenodd\" fill-opacity=\"1\" /><path clip-path=\"url(#clip930)\" d=\"M762.23 941.144 Q759.082 941.144 757.23 943.297 Q755.402 945.45 755.402 949.2 Q755.402 952.927 757.23 955.103 Q759.082 957.255 762.23 957.255 Q765.378 957.255 767.207 955.103 Q769.059 952.927 769.059 949.2 Q769.059 945.45 767.207 943.297 Q765.378 941.144 762.23 941.144 M771.513 926.492 L771.513 930.751 Q769.753 929.918 767.948 929.478 Q766.165 929.038 764.406 929.038 Q759.777 929.038 757.323 932.163 Q754.892 935.288 754.545 941.607 Q755.911 939.594 757.971 938.529 Q760.031 937.441 762.508 937.441 Q767.716 937.441 770.726 940.612 Q773.758 943.76 773.758 949.2 Q773.758 954.524 770.61 957.742 Q767.462 960.959 762.23 960.959 Q756.235 960.959 753.064 956.376 Q749.892 951.769 749.892 943.043 Q749.892 934.848 753.781 929.987 Q757.67 925.103 764.221 925.103 Q765.98 925.103 767.763 925.45 Q769.568 925.797 771.513 926.492 Z\" fill=\"#000000\" fill-rule=\"evenodd\" fill-opacity=\"1\" /><path clip-path=\"url(#clip930)\" d=\"M862.963 943.459 L892.639 943.459 L892.639 947.394 L862.963 947.394 L862.963 943.459 Z\" fill=\"#000000\" fill-rule=\"evenodd\" fill-opacity=\"1\" /><path clip-path=\"url(#clip930)\" d=\"M915.579 929.802 L903.773 948.251 L915.579 948.251 L915.579 929.802 M914.352 925.728 L920.231 925.728 L920.231 948.251 L925.162 948.251 L925.162 952.14 L920.231 952.14 L920.231 960.288 L915.579 960.288 L915.579 952.14 L899.977 952.14 L899.977 947.626 L914.352 925.728 Z\" fill=\"#000000\" fill-rule=\"evenodd\" fill-opacity=\"1\" /><path clip-path=\"url(#clip930)\" d=\"M1015.25 943.459 L1044.92 943.459 L1044.92 947.394 L1015.25 947.394 L1015.25 943.459 Z\" fill=\"#000000\" fill-rule=\"evenodd\" fill-opacity=\"1\" /><path clip-path=\"url(#clip930)\" d=\"M1059.04 956.353 L1075.36 956.353 L1075.36 960.288 L1053.42 960.288 L1053.42 956.353 Q1056.08 953.598 1060.66 948.968 Q1065.27 944.316 1066.45 942.973 Q1068.7 940.45 1069.58 938.714 Q1070.48 936.955 1070.48 935.265 Q1070.48 932.51 1068.53 930.774 Q1066.61 929.038 1063.51 929.038 Q1061.31 929.038 1058.86 929.802 Q1056.43 930.566 1053.65 932.117 L1053.65 927.395 Q1056.47 926.26 1058.93 925.682 Q1061.38 925.103 1063.42 925.103 Q1068.79 925.103 1071.98 927.788 Q1075.18 930.473 1075.18 934.964 Q1075.18 937.094 1074.37 939.015 Q1073.58 940.913 1071.47 943.506 Q1070.89 944.177 1067.79 947.394 Q1064.69 950.589 1059.04 956.353 Z\" fill=\"#000000\" fill-rule=\"evenodd\" fill-opacity=\"1\" /><path clip-path=\"url(#clip930)\" d=\"M1196.55 928.807 Q1192.94 928.807 1191.11 932.371 Q1189.3 935.913 1189.3 943.043 Q1189.3 950.149 1191.11 953.714 Q1192.94 957.255 1196.55 957.255 Q1200.18 957.255 1201.99 953.714 Q1203.81 950.149 1203.81 943.043 Q1203.81 935.913 1201.99 932.371 Q1200.18 928.807 1196.55 928.807 M1196.55 925.103 Q1202.36 925.103 1205.41 929.709 Q1208.49 934.293 1208.49 943.043 Q1208.49 951.769 1205.41 956.376 Q1202.36 960.959 1196.55 960.959 Q1190.74 960.959 1187.66 956.376 Q1184.6 951.769 1184.6 943.043 Q1184.6 934.293 1187.66 929.709 Q1190.74 925.103 1196.55 925.103 Z\" fill=\"#000000\" fill-rule=\"evenodd\" fill-opacity=\"1\" /><path clip-path=\"url(#clip930)\" d=\"M1342.44 956.353 L1358.76 956.353 L1358.76 960.288 L1336.82 960.288 L1336.82 956.353 Q1339.48 953.598 1344.06 948.968 Q1348.67 944.316 1349.85 942.973 Q1352.09 940.45 1352.97 938.714 Q1353.88 936.955 1353.88 935.265 Q1353.88 932.51 1351.93 930.774 Q1350.01 929.038 1346.91 929.038 Q1344.71 929.038 1342.26 929.802 Q1339.83 930.566 1337.05 932.117 L1337.05 927.395 Q1339.87 926.26 1342.33 925.682 Q1344.78 925.103 1346.82 925.103 Q1352.19 925.103 1355.38 927.788 Q1358.58 930.473 1358.58 934.964 Q1358.58 937.094 1357.77 939.015 Q1356.98 940.913 1354.87 943.506 Q1354.29 944.177 1351.19 947.394 Q1348.09 950.589 1342.44 956.353 Z\" fill=\"#000000\" fill-rule=\"evenodd\" fill-opacity=\"1\" /><path clip-path=\"url(#clip930)\" d=\"M1502.04 929.802 L1490.23 948.251 L1502.04 948.251 L1502.04 929.802 M1500.81 925.728 L1506.69 925.728 L1506.69 948.251 L1511.62 948.251 L1511.62 952.14 L1506.69 952.14 L1506.69 960.288 L1502.04 960.288 L1502.04 952.14 L1486.44 952.14 L1486.44 947.626 L1500.81 925.728 Z\" fill=\"#000000\" fill-rule=\"evenodd\" fill-opacity=\"1\" /><path clip-path=\"url(#clip930)\" d=\"M1650.68 941.144 Q1647.53 941.144 1645.68 943.297 Q1643.85 945.45 1643.85 949.2 Q1643.85 952.927 1645.68 955.103 Q1647.53 957.255 1650.68 957.255 Q1653.83 957.255 1655.65 955.103 Q1657.51 952.927 1657.51 949.2 Q1657.51 945.45 1655.65 943.297 Q1653.83 941.144 1650.68 941.144 M1659.96 926.492 L1659.96 930.751 Q1658.2 929.918 1656.39 929.478 Q1654.61 929.038 1652.85 929.038 Q1648.22 929.038 1645.77 932.163 Q1643.34 935.288 1642.99 941.607 Q1644.36 939.594 1646.42 938.529 Q1648.48 937.441 1650.95 937.441 Q1656.16 937.441 1659.17 940.612 Q1662.2 943.76 1662.2 949.2 Q1662.2 954.524 1659.06 957.742 Q1655.91 960.959 1650.68 960.959 Q1644.68 960.959 1641.51 956.376 Q1638.34 951.769 1638.34 943.043 Q1638.34 934.848 1642.23 929.987 Q1646.12 925.103 1652.67 925.103 Q1654.43 925.103 1656.21 925.45 Q1658.02 925.797 1659.96 926.492 Z\" fill=\"#000000\" fill-rule=\"evenodd\" fill-opacity=\"1\" /><path clip-path=\"url(#clip930)\" d=\"M1801.51 943.876 Q1798.18 943.876 1796.26 945.658 Q1794.36 947.441 1794.36 950.566 Q1794.36 953.691 1796.26 955.473 Q1798.18 957.255 1801.51 957.255 Q1804.85 957.255 1806.77 955.473 Q1808.69 953.668 1808.69 950.566 Q1808.69 947.441 1806.77 945.658 Q1804.87 943.876 1801.51 943.876 M1796.84 941.885 Q1793.83 941.144 1792.14 939.084 Q1790.47 937.024 1790.47 934.061 Q1790.47 929.918 1793.41 927.51 Q1796.38 925.103 1801.51 925.103 Q1806.68 925.103 1809.62 927.51 Q1812.56 929.918 1812.56 934.061 Q1812.56 937.024 1810.87 939.084 Q1809.2 941.144 1806.21 941.885 Q1809.59 942.672 1811.47 944.964 Q1813.37 947.256 1813.37 950.566 Q1813.37 955.589 1810.29 958.274 Q1807.23 960.959 1801.51 960.959 Q1795.8 960.959 1792.72 958.274 Q1789.66 955.589 1789.66 950.566 Q1789.66 947.256 1791.56 944.964 Q1793.46 942.672 1796.84 941.885 M1795.13 934.501 Q1795.13 937.186 1796.79 938.691 Q1798.48 940.195 1801.51 940.195 Q1804.52 940.195 1806.21 938.691 Q1807.93 937.186 1807.93 934.501 Q1807.93 931.816 1806.21 930.311 Q1804.52 928.807 1801.51 928.807 Q1798.48 928.807 1796.79 930.311 Q1795.13 931.816 1795.13 934.501 Z\" fill=\"#000000\" fill-rule=\"evenodd\" fill-opacity=\"1\" /><path clip-path=\"url(#clip930)\" d=\"M1927.44 956.353 L1935.08 956.353 L1935.08 929.987 L1926.77 931.654 L1926.77 927.395 L1935.04 925.728 L1939.71 925.728 L1939.71 956.353 L1947.35 956.353 L1947.35 960.288 L1927.44 960.288 L1927.44 956.353 Z\" fill=\"#000000\" fill-rule=\"evenodd\" fill-opacity=\"1\" /><path clip-path=\"url(#clip930)\" d=\"M1966.8 928.807 Q1963.18 928.807 1961.36 932.371 Q1959.55 935.913 1959.55 943.043 Q1959.55 950.149 1961.36 953.714 Q1963.18 957.255 1966.8 957.255 Q1970.43 957.255 1972.23 953.714 Q1974.06 950.149 1974.06 943.043 Q1974.06 935.913 1972.23 932.371 Q1970.43 928.807 1966.8 928.807 M1966.8 925.103 Q1972.61 925.103 1975.66 929.709 Q1978.74 934.293 1978.74 943.043 Q1978.74 951.769 1975.66 956.376 Q1972.61 960.959 1966.8 960.959 Q1960.99 960.959 1957.91 956.376 Q1954.85 951.769 1954.85 943.043 Q1954.85 934.293 1957.91 929.709 Q1960.99 925.103 1966.8 925.103 Z\" fill=\"#000000\" fill-rule=\"evenodd\" fill-opacity=\"1\" /><polyline clip-path=\"url(#clip932)\" style=\"stroke:#000000; stroke-linecap:butt; stroke-linejoin:round; stroke-width:2; stroke-opacity:0.1; fill:none\" points=\"\n",
       "  137.853,876.922 1952.76,876.922 \n",
       "  \"/>\n",
       "<polyline clip-path=\"url(#clip932)\" style=\"stroke:#000000; stroke-linecap:butt; stroke-linejoin:round; stroke-width:2; stroke-opacity:0.1; fill:none\" points=\"\n",
       "  137.853,749.063 1952.76,749.063 \n",
       "  \"/>\n",
       "<polyline clip-path=\"url(#clip932)\" style=\"stroke:#000000; stroke-linecap:butt; stroke-linejoin:round; stroke-width:2; stroke-opacity:0.1; fill:none\" points=\"\n",
       "  137.853,621.204 1952.76,621.204 \n",
       "  \"/>\n",
       "<polyline clip-path=\"url(#clip932)\" style=\"stroke:#000000; stroke-linecap:butt; stroke-linejoin:round; stroke-width:2; stroke-opacity:0.1; fill:none\" points=\"\n",
       "  137.853,493.345 1952.76,493.345 \n",
       "  \"/>\n",
       "<polyline clip-path=\"url(#clip932)\" style=\"stroke:#000000; stroke-linecap:butt; stroke-linejoin:round; stroke-width:2; stroke-opacity:0.1; fill:none\" points=\"\n",
       "  137.853,365.486 1952.76,365.486 \n",
       "  \"/>\n",
       "<polyline clip-path=\"url(#clip932)\" style=\"stroke:#000000; stroke-linecap:butt; stroke-linejoin:round; stroke-width:2; stroke-opacity:0.1; fill:none\" points=\"\n",
       "  137.853,237.626 1952.76,237.626 \n",
       "  \"/>\n",
       "<polyline clip-path=\"url(#clip932)\" style=\"stroke:#000000; stroke-linecap:butt; stroke-linejoin:round; stroke-width:2; stroke-opacity:0.1; fill:none\" points=\"\n",
       "  137.853,109.767 1952.76,109.767 \n",
       "  \"/>\n",
       "<polyline clip-path=\"url(#clip930)\" style=\"stroke:#000000; stroke-linecap:butt; stroke-linejoin:round; stroke-width:4; stroke-opacity:1; fill:none\" points=\"\n",
       "  137.853,901.088 137.853,47.2441 \n",
       "  \"/>\n",
       "<polyline clip-path=\"url(#clip930)\" style=\"stroke:#000000; stroke-linecap:butt; stroke-linejoin:round; stroke-width:4; stroke-opacity:1; fill:none\" points=\"\n",
       "  137.853,876.922 156.751,876.922 \n",
       "  \"/>\n",
       "<polyline clip-path=\"url(#clip930)\" style=\"stroke:#000000; stroke-linecap:butt; stroke-linejoin:round; stroke-width:4; stroke-opacity:1; fill:none\" points=\"\n",
       "  137.853,749.063 156.751,749.063 \n",
       "  \"/>\n",
       "<polyline clip-path=\"url(#clip930)\" style=\"stroke:#000000; stroke-linecap:butt; stroke-linejoin:round; stroke-width:4; stroke-opacity:1; fill:none\" points=\"\n",
       "  137.853,621.204 156.751,621.204 \n",
       "  \"/>\n",
       "<polyline clip-path=\"url(#clip930)\" style=\"stroke:#000000; stroke-linecap:butt; stroke-linejoin:round; stroke-width:4; stroke-opacity:1; fill:none\" points=\"\n",
       "  137.853,493.345 156.751,493.345 \n",
       "  \"/>\n",
       "<polyline clip-path=\"url(#clip930)\" style=\"stroke:#000000; stroke-linecap:butt; stroke-linejoin:round; stroke-width:4; stroke-opacity:1; fill:none\" points=\"\n",
       "  137.853,365.486 156.751,365.486 \n",
       "  \"/>\n",
       "<polyline clip-path=\"url(#clip930)\" style=\"stroke:#000000; stroke-linecap:butt; stroke-linejoin:round; stroke-width:4; stroke-opacity:1; fill:none\" points=\"\n",
       "  137.853,237.626 156.751,237.626 \n",
       "  \"/>\n",
       "<polyline clip-path=\"url(#clip930)\" style=\"stroke:#000000; stroke-linecap:butt; stroke-linejoin:round; stroke-width:4; stroke-opacity:1; fill:none\" points=\"\n",
       "  137.853,109.767 156.751,109.767 \n",
       "  \"/>\n",
       "<path clip-path=\"url(#clip930)\" d=\"M95.9086 862.721 Q92.2975 862.721 90.4688 866.286 Q88.6632 869.828 88.6632 876.957 Q88.6632 884.064 90.4688 887.628 Q92.2975 891.17 95.9086 891.17 Q99.5428 891.17 101.348 887.628 Q103.177 884.064 103.177 876.957 Q103.177 869.828 101.348 866.286 Q99.5428 862.721 95.9086 862.721 M95.9086 859.017 Q101.719 859.017 104.774 863.624 Q107.853 868.207 107.853 876.957 Q107.853 885.684 104.774 890.29 Q101.719 894.874 95.9086 894.874 Q90.0984 894.874 87.0197 890.29 Q83.9642 885.684 83.9642 876.957 Q83.9642 868.207 87.0197 863.624 Q90.0984 859.017 95.9086 859.017 Z\" fill=\"#000000\" fill-rule=\"evenodd\" fill-opacity=\"1\" /><path clip-path=\"url(#clip930)\" d=\"M56.5569 762.408 L64.1958 762.408 L64.1958 736.043 L55.8856 737.709 L55.8856 733.45 L64.1495 731.783 L68.8254 731.783 L68.8254 762.408 L76.4642 762.408 L76.4642 766.343 L56.5569 766.343 L56.5569 762.408 Z\" fill=\"#000000\" fill-rule=\"evenodd\" fill-opacity=\"1\" /><path clip-path=\"url(#clip930)\" d=\"M95.9086 734.862 Q92.2975 734.862 90.4688 738.427 Q88.6632 741.968 88.6632 749.098 Q88.6632 756.204 90.4688 759.769 Q92.2975 763.311 95.9086 763.311 Q99.5428 763.311 101.348 759.769 Q103.177 756.204 103.177 749.098 Q103.177 741.968 101.348 738.427 Q99.5428 734.862 95.9086 734.862 M95.9086 731.158 Q101.719 731.158 104.774 735.765 Q107.853 740.348 107.853 749.098 Q107.853 757.825 104.774 762.431 Q101.719 767.015 95.9086 767.015 Q90.0984 767.015 87.0197 762.431 Q83.9642 757.825 83.9642 749.098 Q83.9642 740.348 87.0197 735.765 Q90.0984 731.158 95.9086 731.158 Z\" fill=\"#000000\" fill-rule=\"evenodd\" fill-opacity=\"1\" /><path clip-path=\"url(#clip930)\" d=\"M59.7745 634.549 L76.0939 634.549 L76.0939 638.484 L54.1495 638.484 L54.1495 634.549 Q56.8115 631.794 61.3949 627.165 Q66.0013 622.512 67.1819 621.169 Q69.4272 618.646 70.3068 616.91 Q71.2096 615.151 71.2096 613.461 Q71.2096 610.706 69.2652 608.97 Q67.3439 607.234 64.2421 607.234 Q62.043 607.234 59.5893 607.998 Q57.1588 608.762 54.381 610.313 L54.381 605.591 Q57.2051 604.456 59.6588 603.878 Q62.1124 603.299 64.1495 603.299 Q69.5198 603.299 72.7142 605.984 Q75.9087 608.669 75.9087 613.16 Q75.9087 615.29 75.0985 617.211 Q74.3115 619.109 72.205 621.702 Q71.6263 622.373 68.5245 625.591 Q65.4226 628.785 59.7745 634.549 Z\" fill=\"#000000\" fill-rule=\"evenodd\" fill-opacity=\"1\" /><path clip-path=\"url(#clip930)\" d=\"M95.9086 607.003 Q92.2975 607.003 90.4688 610.568 Q88.6632 614.109 88.6632 621.239 Q88.6632 628.345 90.4688 631.91 Q92.2975 635.452 95.9086 635.452 Q99.5428 635.452 101.348 631.91 Q103.177 628.345 103.177 621.239 Q103.177 614.109 101.348 610.568 Q99.5428 607.003 95.9086 607.003 M95.9086 603.299 Q101.719 603.299 104.774 607.906 Q107.853 612.489 107.853 621.239 Q107.853 629.966 104.774 634.572 Q101.719 639.155 95.9086 639.155 Q90.0984 639.155 87.0197 634.572 Q83.9642 629.966 83.9642 621.239 Q83.9642 612.489 87.0197 607.906 Q90.0984 603.299 95.9086 603.299 Z\" fill=\"#000000\" fill-rule=\"evenodd\" fill-opacity=\"1\" /><path clip-path=\"url(#clip930)\" d=\"M69.9133 491.991 Q73.2698 492.708 75.1448 494.977 Q77.0429 497.245 77.0429 500.579 Q77.0429 505.694 73.5244 508.495 Q70.0059 511.296 63.5245 511.296 Q61.3486 511.296 59.0338 510.856 Q56.7421 510.44 54.2884 509.583 L54.2884 505.069 Q56.2328 506.204 58.5477 506.782 Q60.8625 507.361 63.3856 507.361 Q67.7837 507.361 70.0754 505.625 Q72.3902 503.889 72.3902 500.579 Q72.3902 497.523 70.2374 495.81 Q68.1078 494.074 64.2884 494.074 L60.2606 494.074 L60.2606 490.231 L64.4735 490.231 Q67.9226 490.231 69.7513 488.866 Q71.58 487.477 71.58 484.884 Q71.58 482.222 69.6819 480.81 Q67.8069 479.375 64.2884 479.375 Q62.3671 479.375 60.168 479.792 Q57.969 480.208 55.3301 481.088 L55.3301 476.921 Q57.9921 476.181 60.3069 475.81 Q62.6449 475.44 64.705 475.44 Q70.0291 475.44 73.1309 477.87 Q76.2327 480.278 76.2327 484.398 Q76.2327 487.269 74.5892 489.259 Q72.9457 491.227 69.9133 491.991 Z\" fill=\"#000000\" fill-rule=\"evenodd\" fill-opacity=\"1\" /><path clip-path=\"url(#clip930)\" d=\"M95.9086 479.144 Q92.2975 479.144 90.4688 482.708 Q88.6632 486.25 88.6632 493.38 Q88.6632 500.486 90.4688 504.051 Q92.2975 507.592 95.9086 507.592 Q99.5428 507.592 101.348 504.051 Q103.177 500.486 103.177 493.38 Q103.177 486.25 101.348 482.708 Q99.5428 479.144 95.9086 479.144 M95.9086 475.44 Q101.719 475.44 104.774 480.046 Q107.853 484.63 107.853 493.38 Q107.853 502.106 104.774 506.713 Q101.719 511.296 95.9086 511.296 Q90.0984 511.296 87.0197 506.713 Q83.9642 502.106 83.9642 493.38 Q83.9642 484.63 87.0197 480.046 Q90.0984 475.44 95.9086 475.44 Z\" fill=\"#000000\" fill-rule=\"evenodd\" fill-opacity=\"1\" /><path clip-path=\"url(#clip930)\" d=\"M68.5939 352.28 L56.7884 370.729 L68.5939 370.729 L68.5939 352.28 M67.367 348.206 L73.2466 348.206 L73.2466 370.729 L78.1772 370.729 L78.1772 374.618 L73.2466 374.618 L73.2466 382.766 L68.5939 382.766 L68.5939 374.618 L52.9921 374.618 L52.9921 370.104 L67.367 348.206 Z\" fill=\"#000000\" fill-rule=\"evenodd\" fill-opacity=\"1\" /><path clip-path=\"url(#clip930)\" d=\"M95.9086 351.284 Q92.2975 351.284 90.4688 354.849 Q88.6632 358.391 88.6632 365.52 Q88.6632 372.627 90.4688 376.192 Q92.2975 379.733 95.9086 379.733 Q99.5428 379.733 101.348 376.192 Q103.177 372.627 103.177 365.52 Q103.177 358.391 101.348 354.849 Q99.5428 351.284 95.9086 351.284 M95.9086 347.581 Q101.719 347.581 104.774 352.187 Q107.853 356.77 107.853 365.52 Q107.853 374.247 104.774 378.854 Q101.719 383.437 95.9086 383.437 Q90.0984 383.437 87.0197 378.854 Q83.9642 374.247 83.9642 365.52 Q83.9642 356.77 87.0197 352.187 Q90.0984 347.581 95.9086 347.581 Z\" fill=\"#000000\" fill-rule=\"evenodd\" fill-opacity=\"1\" /><path clip-path=\"url(#clip930)\" d=\"M55.793 220.346 L74.1494 220.346 L74.1494 224.282 L60.0754 224.282 L60.0754 232.754 Q61.0939 232.407 62.1124 232.245 Q63.131 232.059 64.1495 232.059 Q69.9365 232.059 73.3161 235.231 Q76.6957 238.402 76.6957 243.819 Q76.6957 249.397 73.2235 252.499 Q69.7513 255.578 63.4319 255.578 Q61.256 255.578 58.9875 255.207 Q56.7421 254.837 54.3347 254.096 L54.3347 249.397 Q56.418 250.531 58.6402 251.087 Q60.8625 251.643 63.3393 251.643 Q67.3439 251.643 69.6819 249.536 Q72.0198 247.43 72.0198 243.819 Q72.0198 240.207 69.6819 238.101 Q67.3439 235.995 63.3393 235.995 Q61.4643 235.995 59.5893 236.411 Q57.7375 236.828 55.793 237.707 L55.793 220.346 Z\" fill=\"#000000\" fill-rule=\"evenodd\" fill-opacity=\"1\" /><path clip-path=\"url(#clip930)\" d=\"M95.9086 223.425 Q92.2975 223.425 90.4688 226.99 Q88.6632 230.532 88.6632 237.661 Q88.6632 244.768 90.4688 248.332 Q92.2975 251.874 95.9086 251.874 Q99.5428 251.874 101.348 248.332 Q103.177 244.768 103.177 237.661 Q103.177 230.532 101.348 226.99 Q99.5428 223.425 95.9086 223.425 M95.9086 219.721 Q101.719 219.721 104.774 224.328 Q107.853 228.911 107.853 237.661 Q107.853 246.388 104.774 250.994 Q101.719 255.578 95.9086 255.578 Q90.0984 255.578 87.0197 250.994 Q83.9642 246.388 83.9642 237.661 Q83.9642 228.911 87.0197 224.328 Q90.0984 219.721 95.9086 219.721 Z\" fill=\"#000000\" fill-rule=\"evenodd\" fill-opacity=\"1\" /><path clip-path=\"url(#clip930)\" d=\"M66.3254 107.904 Q63.1773 107.904 61.3254 110.057 Q59.4967 112.209 59.4967 115.959 Q59.4967 119.686 61.3254 121.862 Q63.1773 124.015 66.3254 124.015 Q69.4735 124.015 71.3022 121.862 Q73.1541 119.686 73.1541 115.959 Q73.1541 112.209 71.3022 110.057 Q69.4735 107.904 66.3254 107.904 M75.6077 93.2511 L75.6077 97.5104 Q73.8485 96.677 72.0429 96.2372 Q70.2606 95.7974 68.5013 95.7974 Q63.8717 95.7974 61.418 98.9224 Q58.9875 102.047 58.6402 108.367 Q60.006 106.353 62.0662 105.288 Q64.1263 104.2 66.6032 104.2 Q71.8115 104.2 74.8207 107.371 Q77.8531 110.52 77.8531 115.959 Q77.8531 121.283 74.705 124.501 Q71.5568 127.719 66.3254 127.719 Q60.33 127.719 57.1588 123.135 Q53.9875 118.529 53.9875 109.802 Q53.9875 101.608 57.8764 96.7465 Q61.7652 91.8622 68.3161 91.8622 Q70.0754 91.8622 71.8578 92.2095 Q73.6633 92.5567 75.6077 93.2511 Z\" fill=\"#000000\" fill-rule=\"evenodd\" fill-opacity=\"1\" /><path clip-path=\"url(#clip930)\" d=\"M95.9086 95.5659 Q92.2975 95.5659 90.4688 99.1307 Q88.6632 102.672 88.6632 109.802 Q88.6632 116.908 90.4688 120.473 Q92.2975 124.015 95.9086 124.015 Q99.5428 124.015 101.348 120.473 Q103.177 116.908 103.177 109.802 Q103.177 102.672 101.348 99.1307 Q99.5428 95.5659 95.9086 95.5659 M95.9086 91.8622 Q101.719 91.8622 104.774 96.4687 Q107.853 101.052 107.853 109.802 Q107.853 118.529 104.774 123.135 Q101.719 127.719 95.9086 127.719 Q90.0984 127.719 87.0197 123.135 Q83.9642 118.529 83.9642 109.802 Q83.9642 101.052 87.0197 96.4687 Q90.0984 91.8622 95.9086 91.8622 Z\" fill=\"#000000\" fill-rule=\"evenodd\" fill-opacity=\"1\" /><path clip-path=\"url(#clip932)\" d=\"\n",
       "M-1336.76 851.351 L-1336.76 876.922 L-1298.95 876.922 L-1298.95 851.351 L-1336.76 851.351 L-1336.76 851.351  Z\n",
       "  \" fill=\"#4682b4\" fill-rule=\"evenodd\" fill-opacity=\"1\"/>\n",
       "<polyline clip-path=\"url(#clip932)\" style=\"stroke:#000000; stroke-linecap:butt; stroke-linejoin:round; stroke-width:4; stroke-opacity:1; fill:none\" points=\"\n",
       "  -1336.76,851.351 -1336.76,876.922 -1298.95,876.922 -1298.95,851.351 -1336.76,851.351 \n",
       "  \"/>\n",
       "<path clip-path=\"url(#clip932)\" d=\"\n",
       "M-1298.95 876.922 L-1298.95 876.922 L-1261.13 876.922 L-1261.13 876.922 L-1298.95 876.922 L-1298.95 876.922  Z\n",
       "  \" fill=\"#4682b4\" fill-rule=\"evenodd\" fill-opacity=\"1\"/>\n",
       "<polyline clip-path=\"url(#clip932)\" style=\"stroke:#000000; stroke-linecap:butt; stroke-linejoin:round; stroke-width:4; stroke-opacity:1; fill:none\" points=\"\n",
       "  -1298.95,876.922 -1298.95,876.922 -1261.13,876.922 -1298.95,876.922 \n",
       "  \"/>\n",
       "<path clip-path=\"url(#clip932)\" d=\"\n",
       "M-1261.13 876.922 L-1261.13 876.922 L-1223.32 876.922 L-1223.32 876.922 L-1261.13 876.922 L-1261.13 876.922  Z\n",
       "  \" fill=\"#4682b4\" fill-rule=\"evenodd\" fill-opacity=\"1\"/>\n",
       "<polyline clip-path=\"url(#clip932)\" style=\"stroke:#000000; stroke-linecap:butt; stroke-linejoin:round; stroke-width:4; stroke-opacity:1; fill:none\" points=\"\n",
       "  -1261.13,876.922 -1261.13,876.922 -1223.32,876.922 -1261.13,876.922 \n",
       "  \"/>\n",
       "<path clip-path=\"url(#clip932)\" d=\"\n",
       "M-1223.32 876.922 L-1223.32 876.922 L-1185.51 876.922 L-1185.51 876.922 L-1223.32 876.922 L-1223.32 876.922  Z\n",
       "  \" fill=\"#4682b4\" fill-rule=\"evenodd\" fill-opacity=\"1\"/>\n",
       "<polyline clip-path=\"url(#clip932)\" style=\"stroke:#000000; stroke-linecap:butt; stroke-linejoin:round; stroke-width:4; stroke-opacity:1; fill:none\" points=\"\n",
       "  -1223.32,876.922 -1223.32,876.922 -1185.51,876.922 -1223.32,876.922 \n",
       "  \"/>\n",
       "<path clip-path=\"url(#clip932)\" d=\"\n",
       "M-1185.51 864.137 L-1185.51 876.922 L-1147.7 876.922 L-1147.7 864.137 L-1185.51 864.137 L-1185.51 864.137  Z\n",
       "  \" fill=\"#4682b4\" fill-rule=\"evenodd\" fill-opacity=\"1\"/>\n",
       "<polyline clip-path=\"url(#clip932)\" style=\"stroke:#000000; stroke-linecap:butt; stroke-linejoin:round; stroke-width:4; stroke-opacity:1; fill:none\" points=\"\n",
       "  -1185.51,864.137 -1185.51,876.922 -1147.7,876.922 -1147.7,864.137 -1185.51,864.137 \n",
       "  \"/>\n",
       "<path clip-path=\"url(#clip932)\" d=\"\n",
       "M-1147.7 876.922 L-1147.7 876.922 L-1109.89 876.922 L-1109.89 876.922 L-1147.7 876.922 L-1147.7 876.922  Z\n",
       "  \" fill=\"#4682b4\" fill-rule=\"evenodd\" fill-opacity=\"1\"/>\n",
       "<polyline clip-path=\"url(#clip932)\" style=\"stroke:#000000; stroke-linecap:butt; stroke-linejoin:round; stroke-width:4; stroke-opacity:1; fill:none\" points=\"\n",
       "  -1147.7,876.922 -1147.7,876.922 -1109.89,876.922 -1147.7,876.922 \n",
       "  \"/>\n",
       "<path clip-path=\"url(#clip932)\" d=\"\n",
       "M-1109.89 876.922 L-1109.89 876.922 L-1072.08 876.922 L-1072.08 876.922 L-1109.89 876.922 L-1109.89 876.922  Z\n",
       "  \" fill=\"#4682b4\" fill-rule=\"evenodd\" fill-opacity=\"1\"/>\n",
       "<polyline clip-path=\"url(#clip932)\" style=\"stroke:#000000; stroke-linecap:butt; stroke-linejoin:round; stroke-width:4; stroke-opacity:1; fill:none\" points=\"\n",
       "  -1109.89,876.922 -1109.89,876.922 -1072.08,876.922 -1109.89,876.922 \n",
       "  \"/>\n",
       "<path clip-path=\"url(#clip932)\" d=\"\n",
       "M-1072.08 876.922 L-1072.08 876.922 L-1034.27 876.922 L-1034.27 876.922 L-1072.08 876.922 L-1072.08 876.922  Z\n",
       "  \" fill=\"#4682b4\" fill-rule=\"evenodd\" fill-opacity=\"1\"/>\n",
       "<polyline clip-path=\"url(#clip932)\" style=\"stroke:#000000; stroke-linecap:butt; stroke-linejoin:round; stroke-width:4; stroke-opacity:1; fill:none\" points=\"\n",
       "  -1072.08,876.922 -1072.08,876.922 -1034.27,876.922 -1072.08,876.922 \n",
       "  \"/>\n",
       "<path clip-path=\"url(#clip932)\" d=\"\n",
       "M-1034.27 876.922 L-1034.27 876.922 L-996.461 876.922 L-996.461 876.922 L-1034.27 876.922 L-1034.27 876.922  Z\n",
       "  \" fill=\"#4682b4\" fill-rule=\"evenodd\" fill-opacity=\"1\"/>\n",
       "<polyline clip-path=\"url(#clip932)\" style=\"stroke:#000000; stroke-linecap:butt; stroke-linejoin:round; stroke-width:4; stroke-opacity:1; fill:none\" points=\"\n",
       "  -1034.27,876.922 -1034.27,876.922 -996.461,876.922 -1034.27,876.922 \n",
       "  \"/>\n",
       "<path clip-path=\"url(#clip932)\" d=\"\n",
       "M-996.461 876.922 L-996.461 876.922 L-958.651 876.922 L-958.651 876.922 L-996.461 876.922 L-996.461 876.922  Z\n",
       "  \" fill=\"#4682b4\" fill-rule=\"evenodd\" fill-opacity=\"1\"/>\n",
       "<polyline clip-path=\"url(#clip932)\" style=\"stroke:#000000; stroke-linecap:butt; stroke-linejoin:round; stroke-width:4; stroke-opacity:1; fill:none\" points=\"\n",
       "  -996.461,876.922 -996.461,876.922 -958.651,876.922 -996.461,876.922 \n",
       "  \"/>\n",
       "<path clip-path=\"url(#clip932)\" d=\"\n",
       "M-958.651 876.922 L-958.651 876.922 L-920.84 876.922 L-920.84 876.922 L-958.651 876.922 L-958.651 876.922  Z\n",
       "  \" fill=\"#4682b4\" fill-rule=\"evenodd\" fill-opacity=\"1\"/>\n",
       "<polyline clip-path=\"url(#clip932)\" style=\"stroke:#000000; stroke-linecap:butt; stroke-linejoin:round; stroke-width:4; stroke-opacity:1; fill:none\" points=\"\n",
       "  -958.651,876.922 -958.651,876.922 -920.84,876.922 -958.651,876.922 \n",
       "  \"/>\n",
       "<path clip-path=\"url(#clip932)\" d=\"\n",
       "M-920.84 876.922 L-920.84 876.922 L-883.03 876.922 L-883.03 876.922 L-920.84 876.922 L-920.84 876.922  Z\n",
       "  \" fill=\"#4682b4\" fill-rule=\"evenodd\" fill-opacity=\"1\"/>\n",
       "<polyline clip-path=\"url(#clip932)\" style=\"stroke:#000000; stroke-linecap:butt; stroke-linejoin:round; stroke-width:4; stroke-opacity:1; fill:none\" points=\"\n",
       "  -920.84,876.922 -920.84,876.922 -883.03,876.922 -920.84,876.922 \n",
       "  \"/>\n",
       "<path clip-path=\"url(#clip932)\" d=\"\n",
       "M-883.03 876.922 L-883.03 876.922 L-845.219 876.922 L-845.219 876.922 L-883.03 876.922 L-883.03 876.922  Z\n",
       "  \" fill=\"#4682b4\" fill-rule=\"evenodd\" fill-opacity=\"1\"/>\n",
       "<polyline clip-path=\"url(#clip932)\" style=\"stroke:#000000; stroke-linecap:butt; stroke-linejoin:round; stroke-width:4; stroke-opacity:1; fill:none\" points=\"\n",
       "  -883.03,876.922 -883.03,876.922 -845.219,876.922 -883.03,876.922 \n",
       "  \"/>\n",
       "<path clip-path=\"url(#clip932)\" d=\"\n",
       "M-845.219 876.922 L-845.219 876.922 L-807.409 876.922 L-807.409 876.922 L-845.219 876.922 L-845.219 876.922  Z\n",
       "  \" fill=\"#4682b4\" fill-rule=\"evenodd\" fill-opacity=\"1\"/>\n",
       "<polyline clip-path=\"url(#clip932)\" style=\"stroke:#000000; stroke-linecap:butt; stroke-linejoin:round; stroke-width:4; stroke-opacity:1; fill:none\" points=\"\n",
       "  -845.219,876.922 -845.219,876.922 -807.409,876.922 -845.219,876.922 \n",
       "  \"/>\n",
       "<path clip-path=\"url(#clip932)\" d=\"\n",
       "M-807.409 876.922 L-807.409 876.922 L-769.599 876.922 L-769.599 876.922 L-807.409 876.922 L-807.409 876.922  Z\n",
       "  \" fill=\"#4682b4\" fill-rule=\"evenodd\" fill-opacity=\"1\"/>\n",
       "<polyline clip-path=\"url(#clip932)\" style=\"stroke:#000000; stroke-linecap:butt; stroke-linejoin:round; stroke-width:4; stroke-opacity:1; fill:none\" points=\"\n",
       "  -807.409,876.922 -807.409,876.922 -769.599,876.922 -807.409,876.922 \n",
       "  \"/>\n",
       "<path clip-path=\"url(#clip932)\" d=\"\n",
       "M-769.599 876.922 L-769.599 876.922 L-731.788 876.922 L-731.788 876.922 L-769.599 876.922 L-769.599 876.922  Z\n",
       "  \" fill=\"#4682b4\" fill-rule=\"evenodd\" fill-opacity=\"1\"/>\n",
       "<polyline clip-path=\"url(#clip932)\" style=\"stroke:#000000; stroke-linecap:butt; stroke-linejoin:round; stroke-width:4; stroke-opacity:1; fill:none\" points=\"\n",
       "  -769.599,876.922 -769.599,876.922 -731.788,876.922 -769.599,876.922 \n",
       "  \"/>\n",
       "<path clip-path=\"url(#clip932)\" d=\"\n",
       "M-731.788 876.922 L-731.788 876.922 L-693.978 876.922 L-693.978 876.922 L-731.788 876.922 L-731.788 876.922  Z\n",
       "  \" fill=\"#4682b4\" fill-rule=\"evenodd\" fill-opacity=\"1\"/>\n",
       "<polyline clip-path=\"url(#clip932)\" style=\"stroke:#000000; stroke-linecap:butt; stroke-linejoin:round; stroke-width:4; stroke-opacity:1; fill:none\" points=\"\n",
       "  -731.788,876.922 -731.788,876.922 -693.978,876.922 -731.788,876.922 \n",
       "  \"/>\n",
       "<path clip-path=\"url(#clip932)\" d=\"\n",
       "M-693.978 876.922 L-693.978 876.922 L-656.167 876.922 L-656.167 876.922 L-693.978 876.922 L-693.978 876.922  Z\n",
       "  \" fill=\"#4682b4\" fill-rule=\"evenodd\" fill-opacity=\"1\"/>\n",
       "<polyline clip-path=\"url(#clip932)\" style=\"stroke:#000000; stroke-linecap:butt; stroke-linejoin:round; stroke-width:4; stroke-opacity:1; fill:none\" points=\"\n",
       "  -693.978,876.922 -693.978,876.922 -656.167,876.922 -693.978,876.922 \n",
       "  \"/>\n",
       "<path clip-path=\"url(#clip932)\" d=\"\n",
       "M-656.167 876.922 L-656.167 876.922 L-618.357 876.922 L-618.357 876.922 L-656.167 876.922 L-656.167 876.922  Z\n",
       "  \" fill=\"#4682b4\" fill-rule=\"evenodd\" fill-opacity=\"1\"/>\n",
       "<polyline clip-path=\"url(#clip932)\" style=\"stroke:#000000; stroke-linecap:butt; stroke-linejoin:round; stroke-width:4; stroke-opacity:1; fill:none\" points=\"\n",
       "  -656.167,876.922 -656.167,876.922 -618.357,876.922 -656.167,876.922 \n",
       "  \"/>\n",
       "<path clip-path=\"url(#clip932)\" d=\"\n",
       "M-618.357 876.922 L-618.357 876.922 L-580.546 876.922 L-580.546 876.922 L-618.357 876.922 L-618.357 876.922  Z\n",
       "  \" fill=\"#4682b4\" fill-rule=\"evenodd\" fill-opacity=\"1\"/>\n",
       "<polyline clip-path=\"url(#clip932)\" style=\"stroke:#000000; stroke-linecap:butt; stroke-linejoin:round; stroke-width:4; stroke-opacity:1; fill:none\" points=\"\n",
       "  -618.357,876.922 -618.357,876.922 -580.546,876.922 -618.357,876.922 \n",
       "  \"/>\n",
       "<path clip-path=\"url(#clip932)\" d=\"\n",
       "M-580.546 876.922 L-580.546 876.922 L-542.736 876.922 L-542.736 876.922 L-580.546 876.922 L-580.546 876.922  Z\n",
       "  \" fill=\"#4682b4\" fill-rule=\"evenodd\" fill-opacity=\"1\"/>\n",
       "<polyline clip-path=\"url(#clip932)\" style=\"stroke:#000000; stroke-linecap:butt; stroke-linejoin:round; stroke-width:4; stroke-opacity:1; fill:none\" points=\"\n",
       "  -580.546,876.922 -580.546,876.922 -542.736,876.922 -580.546,876.922 \n",
       "  \"/>\n",
       "<path clip-path=\"url(#clip932)\" d=\"\n",
       "M-542.736 876.922 L-542.736 876.922 L-504.925 876.922 L-504.925 876.922 L-542.736 876.922 L-542.736 876.922  Z\n",
       "  \" fill=\"#4682b4\" fill-rule=\"evenodd\" fill-opacity=\"1\"/>\n",
       "<polyline clip-path=\"url(#clip932)\" style=\"stroke:#000000; stroke-linecap:butt; stroke-linejoin:round; stroke-width:4; stroke-opacity:1; fill:none\" points=\"\n",
       "  -542.736,876.922 -542.736,876.922 -504.925,876.922 -542.736,876.922 \n",
       "  \"/>\n",
       "<path clip-path=\"url(#clip932)\" d=\"\n",
       "M-504.925 876.922 L-504.925 876.922 L-467.115 876.922 L-467.115 876.922 L-504.925 876.922 L-504.925 876.922  Z\n",
       "  \" fill=\"#4682b4\" fill-rule=\"evenodd\" fill-opacity=\"1\"/>\n",
       "<polyline clip-path=\"url(#clip932)\" style=\"stroke:#000000; stroke-linecap:butt; stroke-linejoin:round; stroke-width:4; stroke-opacity:1; fill:none\" points=\"\n",
       "  -504.925,876.922 -504.925,876.922 -467.115,876.922 -504.925,876.922 \n",
       "  \"/>\n",
       "<path clip-path=\"url(#clip932)\" d=\"\n",
       "M-467.115 876.922 L-467.115 876.922 L-429.304 876.922 L-429.304 876.922 L-467.115 876.922 L-467.115 876.922  Z\n",
       "  \" fill=\"#4682b4\" fill-rule=\"evenodd\" fill-opacity=\"1\"/>\n",
       "<polyline clip-path=\"url(#clip932)\" style=\"stroke:#000000; stroke-linecap:butt; stroke-linejoin:round; stroke-width:4; stroke-opacity:1; fill:none\" points=\"\n",
       "  -467.115,876.922 -467.115,876.922 -429.304,876.922 -467.115,876.922 \n",
       "  \"/>\n",
       "<path clip-path=\"url(#clip932)\" d=\"\n",
       "M-429.304 876.922 L-429.304 876.922 L-391.494 876.922 L-391.494 876.922 L-429.304 876.922 L-429.304 876.922  Z\n",
       "  \" fill=\"#4682b4\" fill-rule=\"evenodd\" fill-opacity=\"1\"/>\n",
       "<polyline clip-path=\"url(#clip932)\" style=\"stroke:#000000; stroke-linecap:butt; stroke-linejoin:round; stroke-width:4; stroke-opacity:1; fill:none\" points=\"\n",
       "  -429.304,876.922 -429.304,876.922 -391.494,876.922 -429.304,876.922 \n",
       "  \"/>\n",
       "<path clip-path=\"url(#clip932)\" d=\"\n",
       "M-391.494 876.922 L-391.494 876.922 L-353.683 876.922 L-353.683 876.922 L-391.494 876.922 L-391.494 876.922  Z\n",
       "  \" fill=\"#4682b4\" fill-rule=\"evenodd\" fill-opacity=\"1\"/>\n",
       "<polyline clip-path=\"url(#clip932)\" style=\"stroke:#000000; stroke-linecap:butt; stroke-linejoin:round; stroke-width:4; stroke-opacity:1; fill:none\" points=\"\n",
       "  -391.494,876.922 -391.494,876.922 -353.683,876.922 -391.494,876.922 \n",
       "  \"/>\n",
       "<path clip-path=\"url(#clip932)\" d=\"\n",
       "M-353.683 876.922 L-353.683 876.922 L-315.873 876.922 L-315.873 876.922 L-353.683 876.922 L-353.683 876.922  Z\n",
       "  \" fill=\"#4682b4\" fill-rule=\"evenodd\" fill-opacity=\"1\"/>\n",
       "<polyline clip-path=\"url(#clip932)\" style=\"stroke:#000000; stroke-linecap:butt; stroke-linejoin:round; stroke-width:4; stroke-opacity:1; fill:none\" points=\"\n",
       "  -353.683,876.922 -353.683,876.922 -315.873,876.922 -353.683,876.922 \n",
       "  \"/>\n",
       "<path clip-path=\"url(#clip932)\" d=\"\n",
       "M-315.873 876.922 L-315.873 876.922 L-278.062 876.922 L-278.062 876.922 L-315.873 876.922 L-315.873 876.922  Z\n",
       "  \" fill=\"#4682b4\" fill-rule=\"evenodd\" fill-opacity=\"1\"/>\n",
       "<polyline clip-path=\"url(#clip932)\" style=\"stroke:#000000; stroke-linecap:butt; stroke-linejoin:round; stroke-width:4; stroke-opacity:1; fill:none\" points=\"\n",
       "  -315.873,876.922 -315.873,876.922 -278.062,876.922 -315.873,876.922 \n",
       "  \"/>\n",
       "<path clip-path=\"url(#clip932)\" d=\"\n",
       "M-278.062 876.922 L-278.062 876.922 L-240.252 876.922 L-240.252 876.922 L-278.062 876.922 L-278.062 876.922  Z\n",
       "  \" fill=\"#4682b4\" fill-rule=\"evenodd\" fill-opacity=\"1\"/>\n",
       "<polyline clip-path=\"url(#clip932)\" style=\"stroke:#000000; stroke-linecap:butt; stroke-linejoin:round; stroke-width:4; stroke-opacity:1; fill:none\" points=\"\n",
       "  -278.062,876.922 -278.062,876.922 -240.252,876.922 -278.062,876.922 \n",
       "  \"/>\n",
       "<path clip-path=\"url(#clip932)\" d=\"\n",
       "M-240.252 876.922 L-240.252 876.922 L-202.441 876.922 L-202.441 876.922 L-240.252 876.922 L-240.252 876.922  Z\n",
       "  \" fill=\"#4682b4\" fill-rule=\"evenodd\" fill-opacity=\"1\"/>\n",
       "<polyline clip-path=\"url(#clip932)\" style=\"stroke:#000000; stroke-linecap:butt; stroke-linejoin:round; stroke-width:4; stroke-opacity:1; fill:none\" points=\"\n",
       "  -240.252,876.922 -240.252,876.922 -202.441,876.922 -240.252,876.922 \n",
       "  \"/>\n",
       "<path clip-path=\"url(#clip932)\" d=\"\n",
       "M-202.441 876.922 L-202.441 876.922 L-164.631 876.922 L-164.631 876.922 L-202.441 876.922 L-202.441 876.922  Z\n",
       "  \" fill=\"#4682b4\" fill-rule=\"evenodd\" fill-opacity=\"1\"/>\n",
       "<polyline clip-path=\"url(#clip932)\" style=\"stroke:#000000; stroke-linecap:butt; stroke-linejoin:round; stroke-width:4; stroke-opacity:1; fill:none\" points=\"\n",
       "  -202.441,876.922 -202.441,876.922 -164.631,876.922 -202.441,876.922 \n",
       "  \"/>\n",
       "<path clip-path=\"url(#clip932)\" d=\"\n",
       "M-164.631 876.922 L-164.631 876.922 L-126.82 876.922 L-126.82 876.922 L-164.631 876.922 L-164.631 876.922  Z\n",
       "  \" fill=\"#4682b4\" fill-rule=\"evenodd\" fill-opacity=\"1\"/>\n",
       "<polyline clip-path=\"url(#clip932)\" style=\"stroke:#000000; stroke-linecap:butt; stroke-linejoin:round; stroke-width:4; stroke-opacity:1; fill:none\" points=\"\n",
       "  -164.631,876.922 -164.631,876.922 -126.82,876.922 -164.631,876.922 \n",
       "  \"/>\n",
       "<path clip-path=\"url(#clip932)\" d=\"\n",
       "M-126.82 876.922 L-126.82 876.922 L-89.0099 876.922 L-89.0099 876.922 L-126.82 876.922 L-126.82 876.922  Z\n",
       "  \" fill=\"#4682b4\" fill-rule=\"evenodd\" fill-opacity=\"1\"/>\n",
       "<polyline clip-path=\"url(#clip932)\" style=\"stroke:#000000; stroke-linecap:butt; stroke-linejoin:round; stroke-width:4; stroke-opacity:1; fill:none\" points=\"\n",
       "  -126.82,876.922 -126.82,876.922 -89.0099,876.922 -126.82,876.922 \n",
       "  \"/>\n",
       "<path clip-path=\"url(#clip932)\" d=\"\n",
       "M-89.0099 876.922 L-89.0099 876.922 L-51.1994 876.922 L-51.1994 876.922 L-89.0099 876.922 L-89.0099 876.922  Z\n",
       "  \" fill=\"#4682b4\" fill-rule=\"evenodd\" fill-opacity=\"1\"/>\n",
       "<polyline clip-path=\"url(#clip932)\" style=\"stroke:#000000; stroke-linecap:butt; stroke-linejoin:round; stroke-width:4; stroke-opacity:1; fill:none\" points=\"\n",
       "  -89.0099,876.922 -89.0099,876.922 -51.1994,876.922 -89.0099,876.922 \n",
       "  \"/>\n",
       "<path clip-path=\"url(#clip932)\" d=\"\n",
       "M-51.1994 876.922 L-51.1994 876.922 L-13.389 876.922 L-13.389 876.922 L-51.1994 876.922 L-51.1994 876.922  Z\n",
       "  \" fill=\"#4682b4\" fill-rule=\"evenodd\" fill-opacity=\"1\"/>\n",
       "<polyline clip-path=\"url(#clip932)\" style=\"stroke:#000000; stroke-linecap:butt; stroke-linejoin:round; stroke-width:4; stroke-opacity:1; fill:none\" points=\"\n",
       "  -51.1994,876.922 -51.1994,876.922 -13.389,876.922 -51.1994,876.922 \n",
       "  \"/>\n",
       "<path clip-path=\"url(#clip932)\" d=\"\n",
       "M-13.389 876.922 L-13.389 876.922 L24.4215 876.922 L24.4215 876.922 L-13.389 876.922 L-13.389 876.922  Z\n",
       "  \" fill=\"#4682b4\" fill-rule=\"evenodd\" fill-opacity=\"1\"/>\n",
       "<polyline clip-path=\"url(#clip932)\" style=\"stroke:#000000; stroke-linecap:butt; stroke-linejoin:round; stroke-width:4; stroke-opacity:1; fill:none\" points=\"\n",
       "  -13.389,876.922 -13.389,876.922 24.4215,876.922 -13.389,876.922 \n",
       "  \"/>\n",
       "<path clip-path=\"url(#clip932)\" d=\"\n",
       "M24.4215 876.922 L24.4215 876.922 L62.232 876.922 L62.232 876.922 L24.4215 876.922 L24.4215 876.922  Z\n",
       "  \" fill=\"#4682b4\" fill-rule=\"evenodd\" fill-opacity=\"1\"/>\n",
       "<polyline clip-path=\"url(#clip932)\" style=\"stroke:#000000; stroke-linecap:butt; stroke-linejoin:round; stroke-width:4; stroke-opacity:1; fill:none\" points=\"\n",
       "  24.4215,876.922 24.4215,876.922 62.232,876.922 24.4215,876.922 \n",
       "  \"/>\n",
       "<path clip-path=\"url(#clip932)\" d=\"\n",
       "M62.232 876.922 L62.232 876.922 L100.042 876.922 L100.042 876.922 L62.232 876.922 L62.232 876.922  Z\n",
       "  \" fill=\"#4682b4\" fill-rule=\"evenodd\" fill-opacity=\"1\"/>\n",
       "<polyline clip-path=\"url(#clip932)\" style=\"stroke:#000000; stroke-linecap:butt; stroke-linejoin:round; stroke-width:4; stroke-opacity:1; fill:none\" points=\"\n",
       "  62.232,876.922 62.232,876.922 100.042,876.922 62.232,876.922 \n",
       "  \"/>\n",
       "<path clip-path=\"url(#clip932)\" d=\"\n",
       "M100.042 876.922 L100.042 876.922 L137.853 876.922 L137.853 876.922 L100.042 876.922 L100.042 876.922  Z\n",
       "  \" fill=\"#4682b4\" fill-rule=\"evenodd\" fill-opacity=\"1\"/>\n",
       "<polyline clip-path=\"url(#clip932)\" style=\"stroke:#000000; stroke-linecap:butt; stroke-linejoin:round; stroke-width:4; stroke-opacity:1; fill:none\" points=\"\n",
       "  100.042,876.922 100.042,876.922 137.853,876.922 100.042,876.922 \n",
       "  \"/>\n",
       "<path clip-path=\"url(#clip932)\" d=\"\n",
       "M137.853 876.922 L137.853 876.922 L175.663 876.922 L175.663 876.922 L137.853 876.922 L137.853 876.922  Z\n",
       "  \" fill=\"#4682b4\" fill-rule=\"evenodd\" fill-opacity=\"1\"/>\n",
       "<polyline clip-path=\"url(#clip932)\" style=\"stroke:#000000; stroke-linecap:butt; stroke-linejoin:round; stroke-width:4; stroke-opacity:1; fill:none\" points=\"\n",
       "  137.853,876.922 137.853,876.922 175.663,876.922 137.853,876.922 \n",
       "  \"/>\n",
       "<path clip-path=\"url(#clip932)\" d=\"\n",
       "M175.663 864.137 L175.663 876.922 L213.474 876.922 L213.474 864.137 L175.663 864.137 L175.663 864.137  Z\n",
       "  \" fill=\"#4682b4\" fill-rule=\"evenodd\" fill-opacity=\"1\"/>\n",
       "<polyline clip-path=\"url(#clip932)\" style=\"stroke:#000000; stroke-linecap:butt; stroke-linejoin:round; stroke-width:4; stroke-opacity:1; fill:none\" points=\"\n",
       "  175.663,864.137 175.663,876.922 213.474,876.922 213.474,864.137 175.663,864.137 \n",
       "  \"/>\n",
       "<path clip-path=\"url(#clip932)\" d=\"\n",
       "M213.474 876.922 L213.474 876.922 L251.284 876.922 L251.284 876.922 L213.474 876.922 L213.474 876.922  Z\n",
       "  \" fill=\"#4682b4\" fill-rule=\"evenodd\" fill-opacity=\"1\"/>\n",
       "<polyline clip-path=\"url(#clip932)\" style=\"stroke:#000000; stroke-linecap:butt; stroke-linejoin:round; stroke-width:4; stroke-opacity:1; fill:none\" points=\"\n",
       "  213.474,876.922 213.474,876.922 251.284,876.922 213.474,876.922 \n",
       "  \"/>\n",
       "<path clip-path=\"url(#clip932)\" d=\"\n",
       "M251.284 851.351 L251.284 876.922 L289.095 876.922 L289.095 851.351 L251.284 851.351 L251.284 851.351  Z\n",
       "  \" fill=\"#4682b4\" fill-rule=\"evenodd\" fill-opacity=\"1\"/>\n",
       "<polyline clip-path=\"url(#clip932)\" style=\"stroke:#000000; stroke-linecap:butt; stroke-linejoin:round; stroke-width:4; stroke-opacity:1; fill:none\" points=\"\n",
       "  251.284,851.351 251.284,876.922 289.095,876.922 289.095,851.351 251.284,851.351 \n",
       "  \"/>\n",
       "<path clip-path=\"url(#clip932)\" d=\"\n",
       "M289.095 876.922 L289.095 876.922 L326.905 876.922 L326.905 876.922 L289.095 876.922 L289.095 876.922  Z\n",
       "  \" fill=\"#4682b4\" fill-rule=\"evenodd\" fill-opacity=\"1\"/>\n",
       "<polyline clip-path=\"url(#clip932)\" style=\"stroke:#000000; stroke-linecap:butt; stroke-linejoin:round; stroke-width:4; stroke-opacity:1; fill:none\" points=\"\n",
       "  289.095,876.922 289.095,876.922 326.905,876.922 289.095,876.922 \n",
       "  \"/>\n",
       "<path clip-path=\"url(#clip932)\" d=\"\n",
       "M326.905 876.922 L326.905 876.922 L364.716 876.922 L364.716 876.922 L326.905 876.922 L326.905 876.922  Z\n",
       "  \" fill=\"#4682b4\" fill-rule=\"evenodd\" fill-opacity=\"1\"/>\n",
       "<polyline clip-path=\"url(#clip932)\" style=\"stroke:#000000; stroke-linecap:butt; stroke-linejoin:round; stroke-width:4; stroke-opacity:1; fill:none\" points=\"\n",
       "  326.905,876.922 326.905,876.922 364.716,876.922 326.905,876.922 \n",
       "  \"/>\n",
       "<path clip-path=\"url(#clip932)\" d=\"\n",
       "M364.716 851.351 L364.716 876.922 L402.526 876.922 L402.526 851.351 L364.716 851.351 L364.716 851.351  Z\n",
       "  \" fill=\"#4682b4\" fill-rule=\"evenodd\" fill-opacity=\"1\"/>\n",
       "<polyline clip-path=\"url(#clip932)\" style=\"stroke:#000000; stroke-linecap:butt; stroke-linejoin:round; stroke-width:4; stroke-opacity:1; fill:none\" points=\"\n",
       "  364.716,851.351 364.716,876.922 402.526,876.922 402.526,851.351 364.716,851.351 \n",
       "  \"/>\n",
       "<path clip-path=\"url(#clip932)\" d=\"\n",
       "M402.526 851.351 L402.526 876.922 L440.337 876.922 L440.337 851.351 L402.526 851.351 L402.526 851.351  Z\n",
       "  \" fill=\"#4682b4\" fill-rule=\"evenodd\" fill-opacity=\"1\"/>\n",
       "<polyline clip-path=\"url(#clip932)\" style=\"stroke:#000000; stroke-linecap:butt; stroke-linejoin:round; stroke-width:4; stroke-opacity:1; fill:none\" points=\"\n",
       "  402.526,851.351 402.526,876.922 440.337,876.922 440.337,851.351 402.526,851.351 \n",
       "  \"/>\n",
       "<path clip-path=\"url(#clip932)\" d=\"\n",
       "M440.337 876.922 L440.337 876.922 L478.147 876.922 L478.147 876.922 L440.337 876.922 L440.337 876.922  Z\n",
       "  \" fill=\"#4682b4\" fill-rule=\"evenodd\" fill-opacity=\"1\"/>\n",
       "<polyline clip-path=\"url(#clip932)\" style=\"stroke:#000000; stroke-linecap:butt; stroke-linejoin:round; stroke-width:4; stroke-opacity:1; fill:none\" points=\"\n",
       "  440.337,876.922 440.337,876.922 478.147,876.922 440.337,876.922 \n",
       "  \"/>\n",
       "<path clip-path=\"url(#clip932)\" d=\"\n",
       "M478.147 838.565 L478.147 876.922 L515.958 876.922 L515.958 838.565 L478.147 838.565 L478.147 838.565  Z\n",
       "  \" fill=\"#4682b4\" fill-rule=\"evenodd\" fill-opacity=\"1\"/>\n",
       "<polyline clip-path=\"url(#clip932)\" style=\"stroke:#000000; stroke-linecap:butt; stroke-linejoin:round; stroke-width:4; stroke-opacity:1; fill:none\" points=\"\n",
       "  478.147,838.565 478.147,876.922 515.958,876.922 515.958,838.565 478.147,838.565 \n",
       "  \"/>\n",
       "<path clip-path=\"url(#clip932)\" d=\"\n",
       "M515.958 838.565 L515.958 876.922 L553.768 876.922 L553.768 838.565 L515.958 838.565 L515.958 838.565  Z\n",
       "  \" fill=\"#4682b4\" fill-rule=\"evenodd\" fill-opacity=\"1\"/>\n",
       "<polyline clip-path=\"url(#clip932)\" style=\"stroke:#000000; stroke-linecap:butt; stroke-linejoin:round; stroke-width:4; stroke-opacity:1; fill:none\" points=\"\n",
       "  515.958,838.565 515.958,876.922 553.768,876.922 553.768,838.565 515.958,838.565 \n",
       "  \"/>\n",
       "<path clip-path=\"url(#clip932)\" d=\"\n",
       "M553.768 851.351 L553.768 876.922 L591.579 876.922 L591.579 851.351 L553.768 851.351 L553.768 851.351  Z\n",
       "  \" fill=\"#4682b4\" fill-rule=\"evenodd\" fill-opacity=\"1\"/>\n",
       "<polyline clip-path=\"url(#clip932)\" style=\"stroke:#000000; stroke-linecap:butt; stroke-linejoin:round; stroke-width:4; stroke-opacity:1; fill:none\" points=\"\n",
       "  553.768,851.351 553.768,876.922 591.579,876.922 591.579,851.351 553.768,851.351 \n",
       "  \"/>\n",
       "<path clip-path=\"url(#clip932)\" d=\"\n",
       "M591.579 838.565 L591.579 876.922 L629.389 876.922 L629.389 838.565 L591.579 838.565 L591.579 838.565  Z\n",
       "  \" fill=\"#4682b4\" fill-rule=\"evenodd\" fill-opacity=\"1\"/>\n",
       "<polyline clip-path=\"url(#clip932)\" style=\"stroke:#000000; stroke-linecap:butt; stroke-linejoin:round; stroke-width:4; stroke-opacity:1; fill:none\" points=\"\n",
       "  591.579,838.565 591.579,876.922 629.389,876.922 629.389,838.565 591.579,838.565 \n",
       "  \"/>\n",
       "<path clip-path=\"url(#clip932)\" d=\"\n",
       "M629.389 812.993 L629.389 876.922 L667.2 876.922 L667.2 812.993 L629.389 812.993 L629.389 812.993  Z\n",
       "  \" fill=\"#4682b4\" fill-rule=\"evenodd\" fill-opacity=\"1\"/>\n",
       "<polyline clip-path=\"url(#clip932)\" style=\"stroke:#000000; stroke-linecap:butt; stroke-linejoin:round; stroke-width:4; stroke-opacity:1; fill:none\" points=\"\n",
       "  629.389,812.993 629.389,876.922 667.2,876.922 667.2,812.993 629.389,812.993 \n",
       "  \"/>\n",
       "<path clip-path=\"url(#clip932)\" d=\"\n",
       "M667.2 812.993 L667.2 876.922 L705.01 876.922 L705.01 812.993 L667.2 812.993 L667.2 812.993  Z\n",
       "  \" fill=\"#4682b4\" fill-rule=\"evenodd\" fill-opacity=\"1\"/>\n",
       "<polyline clip-path=\"url(#clip932)\" style=\"stroke:#000000; stroke-linecap:butt; stroke-linejoin:round; stroke-width:4; stroke-opacity:1; fill:none\" points=\"\n",
       "  667.2,812.993 667.2,876.922 705.01,876.922 705.01,812.993 667.2,812.993 \n",
       "  \"/>\n",
       "<path clip-path=\"url(#clip932)\" d=\"\n",
       "M705.01 800.207 L705.01 876.922 L742.821 876.922 L742.821 800.207 L705.01 800.207 L705.01 800.207  Z\n",
       "  \" fill=\"#4682b4\" fill-rule=\"evenodd\" fill-opacity=\"1\"/>\n",
       "<polyline clip-path=\"url(#clip932)\" style=\"stroke:#000000; stroke-linecap:butt; stroke-linejoin:round; stroke-width:4; stroke-opacity:1; fill:none\" points=\"\n",
       "  705.01,800.207 705.01,876.922 742.821,876.922 742.821,800.207 705.01,800.207 \n",
       "  \"/>\n",
       "<path clip-path=\"url(#clip932)\" d=\"\n",
       "M742.821 774.635 L742.821 876.922 L780.631 876.922 L780.631 774.635 L742.821 774.635 L742.821 774.635  Z\n",
       "  \" fill=\"#4682b4\" fill-rule=\"evenodd\" fill-opacity=\"1\"/>\n",
       "<polyline clip-path=\"url(#clip932)\" style=\"stroke:#000000; stroke-linecap:butt; stroke-linejoin:round; stroke-width:4; stroke-opacity:1; fill:none\" points=\"\n",
       "  742.821,774.635 742.821,876.922 780.631,876.922 780.631,774.635 742.821,774.635 \n",
       "  \"/>\n",
       "<path clip-path=\"url(#clip932)\" d=\"\n",
       "M780.631 800.207 L780.631 876.922 L818.442 876.922 L818.442 800.207 L780.631 800.207 L780.631 800.207  Z\n",
       "  \" fill=\"#4682b4\" fill-rule=\"evenodd\" fill-opacity=\"1\"/>\n",
       "<polyline clip-path=\"url(#clip932)\" style=\"stroke:#000000; stroke-linecap:butt; stroke-linejoin:round; stroke-width:4; stroke-opacity:1; fill:none\" points=\"\n",
       "  780.631,800.207 780.631,876.922 818.442,876.922 818.442,800.207 780.631,800.207 \n",
       "  \"/>\n",
       "<path clip-path=\"url(#clip932)\" d=\"\n",
       "M818.442 749.063 L818.442 876.922 L856.252 876.922 L856.252 749.063 L818.442 749.063 L818.442 749.063  Z\n",
       "  \" fill=\"#4682b4\" fill-rule=\"evenodd\" fill-opacity=\"1\"/>\n",
       "<polyline clip-path=\"url(#clip932)\" style=\"stroke:#000000; stroke-linecap:butt; stroke-linejoin:round; stroke-width:4; stroke-opacity:1; fill:none\" points=\"\n",
       "  818.442,749.063 818.442,876.922 856.252,876.922 856.252,749.063 818.442,749.063 \n",
       "  \"/>\n",
       "<path clip-path=\"url(#clip932)\" d=\"\n",
       "M856.252 761.849 L856.252 876.922 L894.063 876.922 L894.063 761.849 L856.252 761.849 L856.252 761.849  Z\n",
       "  \" fill=\"#4682b4\" fill-rule=\"evenodd\" fill-opacity=\"1\"/>\n",
       "<polyline clip-path=\"url(#clip932)\" style=\"stroke:#000000; stroke-linecap:butt; stroke-linejoin:round; stroke-width:4; stroke-opacity:1; fill:none\" points=\"\n",
       "  856.252,761.849 856.252,876.922 894.063,876.922 894.063,761.849 856.252,761.849 \n",
       "  \"/>\n",
       "<path clip-path=\"url(#clip932)\" d=\"\n",
       "M894.063 736.277 L894.063 876.922 L931.873 876.922 L931.873 736.277 L894.063 736.277 L894.063 736.277  Z\n",
       "  \" fill=\"#4682b4\" fill-rule=\"evenodd\" fill-opacity=\"1\"/>\n",
       "<polyline clip-path=\"url(#clip932)\" style=\"stroke:#000000; stroke-linecap:butt; stroke-linejoin:round; stroke-width:4; stroke-opacity:1; fill:none\" points=\"\n",
       "  894.063,736.277 894.063,876.922 931.873,876.922 931.873,736.277 894.063,736.277 \n",
       "  \"/>\n",
       "<path clip-path=\"url(#clip932)\" d=\"\n",
       "M931.873 736.277 L931.873 876.922 L969.683 876.922 L969.683 736.277 L931.873 736.277 L931.873 736.277  Z\n",
       "  \" fill=\"#4682b4\" fill-rule=\"evenodd\" fill-opacity=\"1\"/>\n",
       "<polyline clip-path=\"url(#clip932)\" style=\"stroke:#000000; stroke-linecap:butt; stroke-linejoin:round; stroke-width:4; stroke-opacity:1; fill:none\" points=\"\n",
       "  931.873,736.277 931.873,876.922 969.683,876.922 969.683,736.277 931.873,736.277 \n",
       "  \"/>\n",
       "<path clip-path=\"url(#clip932)\" d=\"\n",
       "M969.683 723.491 L969.683 876.922 L1007.49 876.922 L1007.49 723.491 L969.683 723.491 L969.683 723.491  Z\n",
       "  \" fill=\"#4682b4\" fill-rule=\"evenodd\" fill-opacity=\"1\"/>\n",
       "<polyline clip-path=\"url(#clip932)\" style=\"stroke:#000000; stroke-linecap:butt; stroke-linejoin:round; stroke-width:4; stroke-opacity:1; fill:none\" points=\"\n",
       "  969.683,723.491 969.683,876.922 1007.49,876.922 1007.49,723.491 969.683,723.491 \n",
       "  \"/>\n",
       "<path clip-path=\"url(#clip932)\" d=\"\n",
       "M1007.49 646.776 L1007.49 876.922 L1045.3 876.922 L1045.3 646.776 L1007.49 646.776 L1007.49 646.776  Z\n",
       "  \" fill=\"#4682b4\" fill-rule=\"evenodd\" fill-opacity=\"1\"/>\n",
       "<polyline clip-path=\"url(#clip932)\" style=\"stroke:#000000; stroke-linecap:butt; stroke-linejoin:round; stroke-width:4; stroke-opacity:1; fill:none\" points=\"\n",
       "  1007.49,646.776 1007.49,876.922 1045.3,876.922 1045.3,646.776 1007.49,646.776 \n",
       "  \"/>\n",
       "<path clip-path=\"url(#clip932)\" d=\"\n",
       "M1045.3 633.99 L1045.3 876.922 L1083.11 876.922 L1083.11 633.99 L1045.3 633.99 L1045.3 633.99  Z\n",
       "  \" fill=\"#4682b4\" fill-rule=\"evenodd\" fill-opacity=\"1\"/>\n",
       "<polyline clip-path=\"url(#clip932)\" style=\"stroke:#000000; stroke-linecap:butt; stroke-linejoin:round; stroke-width:4; stroke-opacity:1; fill:none\" points=\"\n",
       "  1045.3,633.99 1045.3,876.922 1083.11,876.922 1083.11,633.99 1045.3,633.99 \n",
       "  \"/>\n",
       "<path clip-path=\"url(#clip932)\" d=\"\n",
       "M1083.11 493.345 L1083.11 876.922 L1120.93 876.922 L1120.93 493.345 L1083.11 493.345 L1083.11 493.345  Z\n",
       "  \" fill=\"#4682b4\" fill-rule=\"evenodd\" fill-opacity=\"1\"/>\n",
       "<polyline clip-path=\"url(#clip932)\" style=\"stroke:#000000; stroke-linecap:butt; stroke-linejoin:round; stroke-width:4; stroke-opacity:1; fill:none\" points=\"\n",
       "  1083.11,493.345 1083.11,876.922 1120.93,876.922 1120.93,493.345 1083.11,493.345 \n",
       "  \"/>\n",
       "<path clip-path=\"url(#clip932)\" d=\"\n",
       "M1120.93 416.629 L1120.93 876.922 L1158.74 876.922 L1158.74 416.629 L1120.93 416.629 L1120.93 416.629  Z\n",
       "  \" fill=\"#4682b4\" fill-rule=\"evenodd\" fill-opacity=\"1\"/>\n",
       "<polyline clip-path=\"url(#clip932)\" style=\"stroke:#000000; stroke-linecap:butt; stroke-linejoin:round; stroke-width:4; stroke-opacity:1; fill:none\" points=\"\n",
       "  1120.93,416.629 1120.93,876.922 1158.74,876.922 1158.74,416.629 1120.93,416.629 \n",
       "  \"/>\n",
       "<path clip-path=\"url(#clip932)\" d=\"\n",
       "M1158.74 263.198 L1158.74 876.922 L1196.55 876.922 L1196.55 263.198 L1158.74 263.198 L1158.74 263.198  Z\n",
       "  \" fill=\"#4682b4\" fill-rule=\"evenodd\" fill-opacity=\"1\"/>\n",
       "<polyline clip-path=\"url(#clip932)\" style=\"stroke:#000000; stroke-linecap:butt; stroke-linejoin:round; stroke-width:4; stroke-opacity:1; fill:none\" points=\"\n",
       "  1158.74,263.198 1158.74,876.922 1196.55,876.922 1196.55,263.198 1158.74,263.198 \n",
       "  \"/>\n",
       "<path clip-path=\"url(#clip932)\" d=\"\n",
       "M1196.55 122.553 L1196.55 876.922 L1234.36 876.922 L1234.36 122.553 L1196.55 122.553 L1196.55 122.553  Z\n",
       "  \" fill=\"#4682b4\" fill-rule=\"evenodd\" fill-opacity=\"1\"/>\n",
       "<polyline clip-path=\"url(#clip932)\" style=\"stroke:#000000; stroke-linecap:butt; stroke-linejoin:round; stroke-width:4; stroke-opacity:1; fill:none\" points=\"\n",
       "  1196.55,122.553 1196.55,876.922 1234.36,876.922 1234.36,122.553 1196.55,122.553 \n",
       "  \"/>\n",
       "<path clip-path=\"url(#clip932)\" d=\"\n",
       "M1234.36 71.4095 L1234.36 876.922 L1272.17 876.922 L1272.17 71.4095 L1234.36 71.4095 L1234.36 71.4095  Z\n",
       "  \" fill=\"#4682b4\" fill-rule=\"evenodd\" fill-opacity=\"1\"/>\n",
       "<polyline clip-path=\"url(#clip932)\" style=\"stroke:#000000; stroke-linecap:butt; stroke-linejoin:round; stroke-width:4; stroke-opacity:1; fill:none\" points=\"\n",
       "  1234.36,71.4095 1234.36,876.922 1272.17,876.922 1272.17,71.4095 1234.36,71.4095 \n",
       "  \"/>\n",
       "<path clip-path=\"url(#clip932)\" d=\"\n",
       "M1272.17 148.125 L1272.17 876.922 L1309.98 876.922 L1309.98 148.125 L1272.17 148.125 L1272.17 148.125  Z\n",
       "  \" fill=\"#4682b4\" fill-rule=\"evenodd\" fill-opacity=\"1\"/>\n",
       "<polyline clip-path=\"url(#clip932)\" style=\"stroke:#000000; stroke-linecap:butt; stroke-linejoin:round; stroke-width:4; stroke-opacity:1; fill:none\" points=\"\n",
       "  1272.17,148.125 1272.17,876.922 1309.98,876.922 1309.98,148.125 1272.17,148.125 \n",
       "  \"/>\n",
       "<path clip-path=\"url(#clip932)\" d=\"\n",
       "M1309.98 429.415 L1309.98 876.922 L1347.79 876.922 L1347.79 429.415 L1309.98 429.415 L1309.98 429.415  Z\n",
       "  \" fill=\"#4682b4\" fill-rule=\"evenodd\" fill-opacity=\"1\"/>\n",
       "<polyline clip-path=\"url(#clip932)\" style=\"stroke:#000000; stroke-linecap:butt; stroke-linejoin:round; stroke-width:4; stroke-opacity:1; fill:none\" points=\"\n",
       "  1309.98,429.415 1309.98,876.922 1347.79,876.922 1347.79,429.415 1309.98,429.415 \n",
       "  \"/>\n",
       "<path clip-path=\"url(#clip932)\" d=\"\n",
       "M1347.79 646.776 L1347.79 876.922 L1385.6 876.922 L1385.6 646.776 L1347.79 646.776 L1347.79 646.776  Z\n",
       "  \" fill=\"#4682b4\" fill-rule=\"evenodd\" fill-opacity=\"1\"/>\n",
       "<polyline clip-path=\"url(#clip932)\" style=\"stroke:#000000; stroke-linecap:butt; stroke-linejoin:round; stroke-width:4; stroke-opacity:1; fill:none\" points=\"\n",
       "  1347.79,646.776 1347.79,876.922 1385.6,876.922 1385.6,646.776 1347.79,646.776 \n",
       "  \"/>\n",
       "<path clip-path=\"url(#clip932)\" d=\"\n",
       "M1385.6 787.421 L1385.6 876.922 L1423.41 876.922 L1423.41 787.421 L1385.6 787.421 L1385.6 787.421  Z\n",
       "  \" fill=\"#4682b4\" fill-rule=\"evenodd\" fill-opacity=\"1\"/>\n",
       "<polyline clip-path=\"url(#clip932)\" style=\"stroke:#000000; stroke-linecap:butt; stroke-linejoin:round; stroke-width:4; stroke-opacity:1; fill:none\" points=\"\n",
       "  1385.6,787.421 1385.6,876.922 1423.41,876.922 1423.41,787.421 1385.6,787.421 \n",
       "  \"/>\n",
       "<path clip-path=\"url(#clip932)\" d=\"\n",
       "M1423.41 825.779 L1423.41 876.922 L1461.22 876.922 L1461.22 825.779 L1423.41 825.779 L1423.41 825.779  Z\n",
       "  \" fill=\"#4682b4\" fill-rule=\"evenodd\" fill-opacity=\"1\"/>\n",
       "<polyline clip-path=\"url(#clip932)\" style=\"stroke:#000000; stroke-linecap:butt; stroke-linejoin:round; stroke-width:4; stroke-opacity:1; fill:none\" points=\"\n",
       "  1423.41,825.779 1423.41,876.922 1461.22,876.922 1461.22,825.779 1423.41,825.779 \n",
       "  \"/>\n",
       "<path clip-path=\"url(#clip932)\" d=\"\n",
       "M1461.22 851.351 L1461.22 876.922 L1499.03 876.922 L1499.03 851.351 L1461.22 851.351 L1461.22 851.351  Z\n",
       "  \" fill=\"#4682b4\" fill-rule=\"evenodd\" fill-opacity=\"1\"/>\n",
       "<polyline clip-path=\"url(#clip932)\" style=\"stroke:#000000; stroke-linecap:butt; stroke-linejoin:round; stroke-width:4; stroke-opacity:1; fill:none\" points=\"\n",
       "  1461.22,851.351 1461.22,876.922 1499.03,876.922 1499.03,851.351 1461.22,851.351 \n",
       "  \"/>\n",
       "<circle clip-path=\"url(#clip932)\" style=\"fill:#4682b4; stroke:none; fill-opacity:0\" cx=\"156.758\" cy=\"876.922\" r=\"2\"/>\n",
       "<circle clip-path=\"url(#clip932)\" style=\"fill:#4682b4; stroke:none; fill-opacity:0\" cx=\"194.569\" cy=\"864.137\" r=\"2\"/>\n",
       "<circle clip-path=\"url(#clip932)\" style=\"fill:#4682b4; stroke:none; fill-opacity:0\" cx=\"232.379\" cy=\"876.922\" r=\"2\"/>\n",
       "<circle clip-path=\"url(#clip932)\" style=\"fill:#4682b4; stroke:none; fill-opacity:0\" cx=\"270.19\" cy=\"851.351\" r=\"2\"/>\n",
       "<circle clip-path=\"url(#clip932)\" style=\"fill:#4682b4; stroke:none; fill-opacity:0\" cx=\"308\" cy=\"876.922\" r=\"2\"/>\n",
       "<circle clip-path=\"url(#clip932)\" style=\"fill:#4682b4; stroke:none; fill-opacity:0\" cx=\"345.811\" cy=\"876.922\" r=\"2\"/>\n",
       "<circle clip-path=\"url(#clip932)\" style=\"fill:#4682b4; stroke:none; fill-opacity:0\" cx=\"383.621\" cy=\"851.351\" r=\"2\"/>\n",
       "<circle clip-path=\"url(#clip932)\" style=\"fill:#4682b4; stroke:none; fill-opacity:0\" cx=\"421.432\" cy=\"851.351\" r=\"2\"/>\n",
       "<circle clip-path=\"url(#clip932)\" style=\"fill:#4682b4; stroke:none; fill-opacity:0\" cx=\"459.242\" cy=\"876.922\" r=\"2\"/>\n",
       "<circle clip-path=\"url(#clip932)\" style=\"fill:#4682b4; stroke:none; fill-opacity:0\" cx=\"497.052\" cy=\"838.565\" r=\"2\"/>\n",
       "<circle clip-path=\"url(#clip932)\" style=\"fill:#4682b4; stroke:none; fill-opacity:0\" cx=\"534.863\" cy=\"838.565\" r=\"2\"/>\n",
       "<circle clip-path=\"url(#clip932)\" style=\"fill:#4682b4; stroke:none; fill-opacity:0\" cx=\"572.673\" cy=\"851.351\" r=\"2\"/>\n",
       "<circle clip-path=\"url(#clip932)\" style=\"fill:#4682b4; stroke:none; fill-opacity:0\" cx=\"610.484\" cy=\"838.565\" r=\"2\"/>\n",
       "<circle clip-path=\"url(#clip932)\" style=\"fill:#4682b4; stroke:none; fill-opacity:0\" cx=\"648.294\" cy=\"812.993\" r=\"2\"/>\n",
       "<circle clip-path=\"url(#clip932)\" style=\"fill:#4682b4; stroke:none; fill-opacity:0\" cx=\"686.105\" cy=\"812.993\" r=\"2\"/>\n",
       "<circle clip-path=\"url(#clip932)\" style=\"fill:#4682b4; stroke:none; fill-opacity:0\" cx=\"723.915\" cy=\"800.207\" r=\"2\"/>\n",
       "<circle clip-path=\"url(#clip932)\" style=\"fill:#4682b4; stroke:none; fill-opacity:0\" cx=\"761.726\" cy=\"774.635\" r=\"2\"/>\n",
       "<circle clip-path=\"url(#clip932)\" style=\"fill:#4682b4; stroke:none; fill-opacity:0\" cx=\"799.536\" cy=\"800.207\" r=\"2\"/>\n",
       "<circle clip-path=\"url(#clip932)\" style=\"fill:#4682b4; stroke:none; fill-opacity:0\" cx=\"837.347\" cy=\"749.063\" r=\"2\"/>\n",
       "<circle clip-path=\"url(#clip932)\" style=\"fill:#4682b4; stroke:none; fill-opacity:0\" cx=\"875.157\" cy=\"761.849\" r=\"2\"/>\n",
       "<circle clip-path=\"url(#clip932)\" style=\"fill:#4682b4; stroke:none; fill-opacity:0\" cx=\"912.968\" cy=\"736.277\" r=\"2\"/>\n",
       "<circle clip-path=\"url(#clip932)\" style=\"fill:#4682b4; stroke:none; fill-opacity:0\" cx=\"950.778\" cy=\"736.277\" r=\"2\"/>\n",
       "<circle clip-path=\"url(#clip932)\" style=\"fill:#4682b4; stroke:none; fill-opacity:0\" cx=\"988.589\" cy=\"723.491\" r=\"2\"/>\n",
       "<circle clip-path=\"url(#clip932)\" style=\"fill:#4682b4; stroke:none; fill-opacity:0\" cx=\"1026.4\" cy=\"646.776\" r=\"2\"/>\n",
       "<circle clip-path=\"url(#clip932)\" style=\"fill:#4682b4; stroke:none; fill-opacity:0\" cx=\"1064.21\" cy=\"633.99\" r=\"2\"/>\n",
       "<circle clip-path=\"url(#clip932)\" style=\"fill:#4682b4; stroke:none; fill-opacity:0\" cx=\"1102.02\" cy=\"493.345\" r=\"2\"/>\n",
       "<circle clip-path=\"url(#clip932)\" style=\"fill:#4682b4; stroke:none; fill-opacity:0\" cx=\"1139.83\" cy=\"416.629\" r=\"2\"/>\n",
       "<circle clip-path=\"url(#clip932)\" style=\"fill:#4682b4; stroke:none; fill-opacity:0\" cx=\"1177.64\" cy=\"263.198\" r=\"2\"/>\n",
       "<circle clip-path=\"url(#clip932)\" style=\"fill:#4682b4; stroke:none; fill-opacity:0\" cx=\"1215.45\" cy=\"122.553\" r=\"2\"/>\n",
       "<circle clip-path=\"url(#clip932)\" style=\"fill:#4682b4; stroke:none; fill-opacity:0\" cx=\"1253.26\" cy=\"71.4095\" r=\"2\"/>\n",
       "<circle clip-path=\"url(#clip932)\" style=\"fill:#4682b4; stroke:none; fill-opacity:0\" cx=\"1291.07\" cy=\"148.125\" r=\"2\"/>\n",
       "<circle clip-path=\"url(#clip932)\" style=\"fill:#4682b4; stroke:none; fill-opacity:0\" cx=\"1328.88\" cy=\"429.415\" r=\"2\"/>\n",
       "<circle clip-path=\"url(#clip932)\" style=\"fill:#4682b4; stroke:none; fill-opacity:0\" cx=\"1366.69\" cy=\"646.776\" r=\"2\"/>\n",
       "<circle clip-path=\"url(#clip932)\" style=\"fill:#4682b4; stroke:none; fill-opacity:0\" cx=\"1404.5\" cy=\"787.421\" r=\"2\"/>\n",
       "<circle clip-path=\"url(#clip932)\" style=\"fill:#4682b4; stroke:none; fill-opacity:0\" cx=\"1442.31\" cy=\"825.779\" r=\"2\"/>\n",
       "<circle clip-path=\"url(#clip932)\" style=\"fill:#4682b4; stroke:none; fill-opacity:0\" cx=\"1480.12\" cy=\"851.351\" r=\"2\"/>\n",
       "<path clip-path=\"url(#clip930)\" d=\"\n",
       "M339.509 526.006 L1335.3 526.006 L1335.3 422.326 L339.509 422.326  Z\n",
       "  \" fill=\"#ffffff\" fill-rule=\"evenodd\" fill-opacity=\"1\"/>\n",
       "<polyline clip-path=\"url(#clip930)\" style=\"stroke:#000000; stroke-linecap:butt; stroke-linejoin:round; stroke-width:4; stroke-opacity:1; fill:none\" points=\"\n",
       "  339.509,526.006 1335.3,526.006 1335.3,422.326 339.509,422.326 339.509,526.006 \n",
       "  \"/>\n",
       "<path clip-path=\"url(#clip930)\" d=\"\n",
       "M359.674 494.902 L480.668 494.902 L480.668 453.43 L359.674 453.43 L359.674 494.902  Z\n",
       "  \" fill=\"#4682b4\" fill-rule=\"evenodd\" fill-opacity=\"1\"/>\n",
       "<polyline clip-path=\"url(#clip930)\" style=\"stroke:#000000; stroke-linecap:butt; stroke-linejoin:round; stroke-width:4; stroke-opacity:1; fill:none\" points=\"\n",
       "  359.674,494.902 480.668,494.902 480.668,453.43 359.674,453.43 359.674,494.902 \n",
       "  \"/>\n",
       "<path clip-path=\"url(#clip930)\" d=\"M500.834 455.428 L505.093 455.428 L505.093 491.446 L500.834 491.446 L500.834 455.428 Z\" fill=\"#000000\" fill-rule=\"evenodd\" fill-opacity=\"1\" /><path clip-path=\"url(#clip930)\" d=\"M524.051 468.506 Q520.625 468.506 518.634 471.191 Q516.644 473.853 516.644 478.506 Q516.644 483.159 518.611 485.844 Q520.602 488.506 524.051 488.506 Q527.454 488.506 529.444 485.821 Q531.435 483.136 531.435 478.506 Q531.435 473.9 529.444 471.215 Q527.454 468.506 524.051 468.506 M524.051 464.895 Q529.607 464.895 532.778 468.506 Q535.949 472.117 535.949 478.506 Q535.949 484.872 532.778 488.506 Q529.607 492.117 524.051 492.117 Q518.472 492.117 515.301 488.506 Q512.153 484.872 512.153 478.506 Q512.153 472.117 515.301 468.506 Q518.472 464.895 524.051 464.895 Z\" fill=\"#000000\" fill-rule=\"evenodd\" fill-opacity=\"1\" /><path clip-path=\"url(#clip930)\" d=\"M560.069 478.182 Q560.069 473.553 558.148 471.006 Q556.25 468.46 552.801 468.46 Q549.375 468.46 547.454 471.006 Q545.556 473.553 545.556 478.182 Q545.556 482.789 547.454 485.335 Q549.375 487.881 552.801 487.881 Q556.25 487.881 558.148 485.335 Q560.069 482.789 560.069 478.182 M564.329 488.228 Q564.329 494.849 561.389 498.066 Q558.449 501.307 552.384 501.307 Q550.139 501.307 548.148 500.96 Q546.157 500.636 544.282 499.941 L544.282 495.798 Q546.157 496.816 547.986 497.302 Q549.815 497.789 551.713 497.789 Q555.903 497.789 557.986 495.589 Q560.069 493.414 560.069 488.992 L560.069 486.886 Q558.75 489.177 556.69 490.312 Q554.63 491.446 551.759 491.446 Q546.991 491.446 544.074 487.812 Q541.157 484.178 541.157 478.182 Q541.157 472.164 544.074 468.529 Q546.991 464.895 551.759 464.895 Q554.63 464.895 556.69 466.029 Q558.75 467.164 560.069 469.455 L560.069 465.52 L564.329 465.52 L564.329 488.228 Z\" fill=\"#000000\" fill-rule=\"evenodd\" fill-opacity=\"1\" /><path clip-path=\"url(#clip930)\" d=\"M584.884 478.414 Q579.722 478.414 577.731 479.594 Q575.741 480.775 575.741 483.622 Q575.741 485.89 577.222 487.233 Q578.727 488.552 581.296 488.552 Q584.838 488.552 586.967 486.052 Q589.12 483.529 589.12 479.363 L589.12 478.414 L584.884 478.414 M593.379 476.654 L593.379 491.446 L589.12 491.446 L589.12 487.511 Q587.662 489.872 585.486 491.006 Q583.31 492.117 580.162 492.117 Q576.18 492.117 573.819 489.895 Q571.481 487.65 571.481 483.9 Q571.481 479.525 574.398 477.303 Q577.338 475.08 583.148 475.08 L589.12 475.08 L589.12 474.664 Q589.12 471.724 587.176 470.127 Q585.254 468.506 581.759 468.506 Q579.537 468.506 577.43 469.039 Q575.324 469.571 573.379 470.636 L573.379 466.701 Q575.717 465.798 577.916 465.358 Q580.116 464.895 582.199 464.895 Q587.824 464.895 590.602 467.812 Q593.379 470.729 593.379 476.654 Z\" fill=\"#000000\" fill-rule=\"evenodd\" fill-opacity=\"1\" /><path clip-path=\"url(#clip930)\" d=\"M617.176 469.502 Q616.458 469.085 615.601 468.9 Q614.768 468.691 613.75 468.691 Q610.139 468.691 608.194 471.053 Q606.273 473.391 606.273 477.789 L606.273 491.446 L601.99 491.446 L601.99 465.52 L606.273 465.52 L606.273 469.548 Q607.615 467.187 609.768 466.053 Q611.921 464.895 615 464.895 Q615.439 464.895 615.972 464.965 Q616.504 465.011 617.152 465.127 L617.176 469.502 Z\" fill=\"#000000\" fill-rule=\"evenodd\" fill-opacity=\"1\" /><path clip-path=\"url(#clip930)\" d=\"M621.643 465.52 L625.902 465.52 L625.902 491.446 L621.643 491.446 L621.643 465.52 M621.643 455.428 L625.902 455.428 L625.902 460.821 L621.643 460.821 L621.643 455.428 Z\" fill=\"#000000\" fill-rule=\"evenodd\" fill-opacity=\"1\" /><path clip-path=\"url(#clip930)\" d=\"M639.027 458.159 L639.027 465.52 L647.8 465.52 L647.8 468.83 L639.027 468.83 L639.027 482.904 Q639.027 486.076 639.884 486.978 Q640.763 487.881 643.425 487.881 L647.8 487.881 L647.8 491.446 L643.425 491.446 Q638.495 491.446 636.62 489.617 Q634.745 487.765 634.745 482.904 L634.745 468.83 L631.62 468.83 L631.62 465.52 L634.745 465.52 L634.745 458.159 L639.027 458.159 Z\" fill=\"#000000\" fill-rule=\"evenodd\" fill-opacity=\"1\" /><path clip-path=\"url(#clip930)\" d=\"M674.953 475.798 L674.953 491.446 L670.694 491.446 L670.694 475.937 Q670.694 472.256 669.259 470.428 Q667.823 468.599 664.953 468.599 Q661.504 468.599 659.513 470.798 Q657.523 472.997 657.523 476.793 L657.523 491.446 L653.24 491.446 L653.24 455.428 L657.523 455.428 L657.523 469.548 Q659.05 467.21 661.11 466.053 Q663.194 464.895 665.902 464.895 Q670.37 464.895 672.661 467.673 Q674.953 470.428 674.953 475.798 Z\" fill=\"#000000\" fill-rule=\"evenodd\" fill-opacity=\"1\" /><path clip-path=\"url(#clip930)\" d=\"M703.633 470.497 Q705.231 467.627 707.453 466.261 Q709.675 464.895 712.684 464.895 Q716.735 464.895 718.934 467.742 Q721.133 470.566 721.133 475.798 L721.133 491.446 L716.851 491.446 L716.851 475.937 Q716.851 472.21 715.531 470.404 Q714.212 468.599 711.504 468.599 Q708.194 468.599 706.272 470.798 Q704.351 472.997 704.351 476.793 L704.351 491.446 L700.069 491.446 L700.069 475.937 Q700.069 472.187 698.749 470.404 Q697.43 468.599 694.675 468.599 Q691.411 468.599 689.49 470.821 Q687.569 473.02 687.569 476.793 L687.569 491.446 L683.286 491.446 L683.286 465.52 L687.569 465.52 L687.569 469.548 Q689.027 467.164 691.064 466.029 Q693.101 464.895 695.902 464.895 Q698.726 464.895 700.694 466.33 Q702.684 467.766 703.633 470.497 Z\" fill=\"#000000\" fill-rule=\"evenodd\" fill-opacity=\"1\" /><path clip-path=\"url(#clip930)\" d=\"M746.156 466.284 L746.156 470.312 Q744.351 469.386 742.406 468.923 Q740.462 468.46 738.379 468.46 Q735.207 468.46 733.61 469.432 Q732.036 470.404 732.036 472.349 Q732.036 473.83 733.17 474.687 Q734.305 475.52 737.73 476.284 L739.189 476.608 Q743.726 477.58 745.624 479.363 Q747.545 481.122 747.545 484.293 Q747.545 487.904 744.675 490.011 Q741.828 492.117 736.828 492.117 Q734.744 492.117 732.476 491.701 Q730.23 491.307 727.73 490.497 L727.73 486.099 Q730.092 487.326 732.383 487.951 Q734.675 488.552 736.92 488.552 Q739.929 488.552 741.55 487.534 Q743.17 486.492 743.17 484.617 Q743.17 482.881 741.99 481.955 Q740.832 481.029 736.874 480.173 L735.392 479.826 Q731.434 478.992 729.675 477.279 Q727.916 475.543 727.916 472.534 Q727.916 468.877 730.508 466.886 Q733.101 464.895 737.869 464.895 Q740.23 464.895 742.314 465.242 Q744.397 465.59 746.156 466.284 Z\" fill=\"#000000\" fill-rule=\"evenodd\" fill-opacity=\"1\" /><path clip-path=\"url(#clip930)\" d=\"M779.443 468.506 Q776.017 468.506 774.027 471.191 Q772.036 473.853 772.036 478.506 Q772.036 483.159 774.003 485.844 Q775.994 488.506 779.443 488.506 Q782.846 488.506 784.837 485.821 Q786.827 483.136 786.827 478.506 Q786.827 473.9 784.837 471.215 Q782.846 468.506 779.443 468.506 M779.443 464.895 Q784.999 464.895 788.17 468.506 Q791.341 472.117 791.341 478.506 Q791.341 484.872 788.17 488.506 Q784.999 492.117 779.443 492.117 Q773.864 492.117 770.693 488.506 Q767.545 484.872 767.545 478.506 Q767.545 472.117 770.693 468.506 Q773.864 464.895 779.443 464.895 Z\" fill=\"#000000\" fill-rule=\"evenodd\" fill-opacity=\"1\" /><path clip-path=\"url(#clip930)\" d=\"M811.526 455.428 L811.526 458.969 L807.452 458.969 Q805.161 458.969 804.258 459.895 Q803.378 460.821 803.378 463.229 L803.378 465.52 L810.392 465.52 L810.392 468.83 L803.378 468.83 L803.378 491.446 L799.096 491.446 L799.096 468.83 L795.022 468.83 L795.022 465.52 L799.096 465.52 L799.096 463.715 Q799.096 459.386 801.11 457.418 Q803.124 455.428 807.499 455.428 L811.526 455.428 Z\" fill=\"#000000\" fill-rule=\"evenodd\" fill-opacity=\"1\" /><path clip-path=\"url(#clip930)\" d=\"M846.688 466.284 L846.688 470.312 Q844.883 469.386 842.938 468.923 Q840.994 468.46 838.91 468.46 Q835.739 468.46 834.142 469.432 Q832.568 470.404 832.568 472.349 Q832.568 473.83 833.702 474.687 Q834.836 475.52 838.262 476.284 L839.721 476.608 Q844.258 477.58 846.156 479.363 Q848.077 481.122 848.077 484.293 Q848.077 487.904 845.207 490.011 Q842.359 492.117 837.36 492.117 Q835.276 492.117 833.008 491.701 Q830.762 491.307 828.262 490.497 L828.262 486.099 Q830.623 487.326 832.915 487.951 Q835.207 488.552 837.452 488.552 Q840.461 488.552 842.082 487.534 Q843.702 486.492 843.702 484.617 Q843.702 482.881 842.522 481.955 Q841.364 481.029 837.406 480.173 L835.924 479.826 Q831.966 478.992 830.207 477.279 Q828.448 475.543 828.448 472.534 Q828.448 468.877 831.04 466.886 Q833.633 464.895 838.401 464.895 Q840.762 464.895 842.846 465.242 Q844.929 465.59 846.688 466.284 Z\" fill=\"#000000\" fill-rule=\"evenodd\" fill-opacity=\"1\" /><path clip-path=\"url(#clip930)\" d=\"M854.859 465.52 L859.119 465.52 L859.119 491.446 L854.859 491.446 L854.859 465.52 M854.859 455.428 L859.119 455.428 L859.119 460.821 L854.859 460.821 L854.859 455.428 Z\" fill=\"#000000\" fill-rule=\"evenodd\" fill-opacity=\"1\" /><path clip-path=\"url(#clip930)\" d=\"M889.581 475.798 L889.581 491.446 L885.322 491.446 L885.322 475.937 Q885.322 472.256 883.887 470.428 Q882.452 468.599 879.582 468.599 Q876.132 468.599 874.142 470.798 Q872.151 472.997 872.151 476.793 L872.151 491.446 L867.869 491.446 L867.869 465.52 L872.151 465.52 L872.151 469.548 Q873.679 467.21 875.739 466.053 Q877.822 464.895 880.531 464.895 Q884.998 464.895 887.29 467.673 Q889.581 470.428 889.581 475.798 Z\" fill=\"#000000\" fill-rule=\"evenodd\" fill-opacity=\"1\" /><path clip-path=\"url(#clip930)\" d=\"M915.137 478.182 Q915.137 473.553 913.216 471.006 Q911.317 468.46 907.868 468.46 Q904.442 468.46 902.521 471.006 Q900.623 473.553 900.623 478.182 Q900.623 482.789 902.521 485.335 Q904.442 487.881 907.868 487.881 Q911.317 487.881 913.216 485.335 Q915.137 482.789 915.137 478.182 M919.396 488.228 Q919.396 494.849 916.456 498.066 Q913.517 501.307 907.452 501.307 Q905.206 501.307 903.216 500.96 Q901.225 500.636 899.35 499.941 L899.35 495.798 Q901.225 496.816 903.054 497.302 Q904.882 497.789 906.78 497.789 Q910.97 497.789 913.054 495.589 Q915.137 493.414 915.137 488.992 L915.137 486.886 Q913.817 489.177 911.757 490.312 Q909.697 491.446 906.827 491.446 Q902.058 491.446 899.142 487.812 Q896.225 484.178 896.225 478.182 Q896.225 472.164 899.142 468.529 Q902.058 464.895 906.827 464.895 Q909.697 464.895 911.757 466.029 Q913.817 467.164 915.137 469.455 L915.137 465.52 L919.396 465.52 L919.396 488.228 Z\" fill=\"#000000\" fill-rule=\"evenodd\" fill-opacity=\"1\" /><path clip-path=\"url(#clip930)\" d=\"M927.729 481.215 L927.729 465.52 L931.989 465.52 L931.989 481.053 Q931.989 484.733 933.424 486.585 Q934.859 488.414 937.729 488.414 Q941.178 488.414 943.169 486.215 Q945.183 484.015 945.183 480.219 L945.183 465.52 L949.442 465.52 L949.442 491.446 L945.183 491.446 L945.183 487.465 Q943.632 489.826 941.572 490.983 Q939.535 492.117 936.827 492.117 Q932.359 492.117 930.044 489.34 Q927.729 486.562 927.729 481.215 M938.447 464.895 L938.447 464.895 Z\" fill=\"#000000\" fill-rule=\"evenodd\" fill-opacity=\"1\" /><path clip-path=\"url(#clip930)\" d=\"M958.215 455.428 L962.475 455.428 L962.475 491.446 L958.215 491.446 L958.215 455.428 Z\" fill=\"#000000\" fill-rule=\"evenodd\" fill-opacity=\"1\" /><path clip-path=\"url(#clip930)\" d=\"M983.169 478.414 Q978.007 478.414 976.016 479.594 Q974.025 480.775 974.025 483.622 Q974.025 485.89 975.507 487.233 Q977.012 488.552 979.581 488.552 Q983.123 488.552 985.252 486.052 Q987.405 483.529 987.405 479.363 L987.405 478.414 L983.169 478.414 M991.664 476.654 L991.664 491.446 L987.405 491.446 L987.405 487.511 Q985.947 489.872 983.771 491.006 Q981.595 492.117 978.447 492.117 Q974.465 492.117 972.104 489.895 Q969.766 487.65 969.766 483.9 Q969.766 479.525 972.683 477.303 Q975.623 475.08 981.433 475.08 L987.405 475.08 L987.405 474.664 Q987.405 471.724 985.461 470.127 Q983.539 468.506 980.044 468.506 Q977.822 468.506 975.715 469.039 Q973.609 469.571 971.664 470.636 L971.664 466.701 Q974.002 465.798 976.201 465.358 Q978.4 464.895 980.484 464.895 Q986.109 464.895 988.886 467.812 Q991.664 470.729 991.664 476.654 Z\" fill=\"#000000\" fill-rule=\"evenodd\" fill-opacity=\"1\" /><path clip-path=\"url(#clip930)\" d=\"M1015.46 469.502 Q1014.74 469.085 1013.89 468.9 Q1013.05 468.691 1012.03 468.691 Q1008.42 468.691 1006.48 471.053 Q1004.56 473.391 1004.56 477.789 L1004.56 491.446 L1000.28 491.446 L1000.28 465.52 L1004.56 465.52 L1004.56 469.548 Q1005.9 467.187 1008.05 466.053 Q1010.21 464.895 1013.28 464.895 Q1013.72 464.895 1014.26 464.965 Q1014.79 465.011 1015.44 465.127 L1015.46 469.502 Z\" fill=\"#000000\" fill-rule=\"evenodd\" fill-opacity=\"1\" /><path clip-path=\"url(#clip930)\" d=\"M1031.94 465.52 L1036.46 465.52 L1044.56 487.279 L1052.66 465.52 L1057.17 465.52 L1047.45 491.446 L1041.66 491.446 L1031.94 465.52 Z\" fill=\"#000000\" fill-rule=\"evenodd\" fill-opacity=\"1\" /><path clip-path=\"url(#clip930)\" d=\"M1074.84 478.414 Q1069.67 478.414 1067.68 479.594 Q1065.69 480.775 1065.69 483.622 Q1065.69 485.89 1067.17 487.233 Q1068.68 488.552 1071.25 488.552 Q1074.79 488.552 1076.92 486.052 Q1079.07 483.529 1079.07 479.363 L1079.07 478.414 L1074.84 478.414 M1083.33 476.654 L1083.33 491.446 L1079.07 491.446 L1079.07 487.511 Q1077.61 489.872 1075.44 491.006 Q1073.26 492.117 1070.11 492.117 Q1066.13 492.117 1063.77 489.895 Q1061.43 487.65 1061.43 483.9 Q1061.43 479.525 1064.35 477.303 Q1067.29 475.08 1073.1 475.08 L1079.07 475.08 L1079.07 474.664 Q1079.07 471.724 1077.13 470.127 Q1075.21 468.506 1071.71 468.506 Q1069.49 468.506 1067.38 469.039 Q1065.27 469.571 1063.33 470.636 L1063.33 466.701 Q1065.67 465.798 1067.87 465.358 Q1070.07 464.895 1072.15 464.895 Q1077.77 464.895 1080.55 467.812 Q1083.33 470.729 1083.33 476.654 Z\" fill=\"#000000\" fill-rule=\"evenodd\" fill-opacity=\"1\" /><path clip-path=\"url(#clip930)\" d=\"M1092.1 455.428 L1096.36 455.428 L1096.36 491.446 L1092.1 491.446 L1092.1 455.428 Z\" fill=\"#000000\" fill-rule=\"evenodd\" fill-opacity=\"1\" /><path clip-path=\"url(#clip930)\" d=\"M1104.83 481.215 L1104.83 465.52 L1109.09 465.52 L1109.09 481.053 Q1109.09 484.733 1110.53 486.585 Q1111.96 488.414 1114.83 488.414 Q1118.28 488.414 1120.27 486.215 Q1122.29 484.015 1122.29 480.219 L1122.29 465.52 L1126.55 465.52 L1126.55 491.446 L1122.29 491.446 L1122.29 487.465 Q1120.74 489.826 1118.68 490.983 Q1116.64 492.117 1113.93 492.117 Q1109.46 492.117 1107.15 489.34 Q1104.83 486.562 1104.83 481.215 M1115.55 464.895 L1115.55 464.895 Z\" fill=\"#000000\" fill-rule=\"evenodd\" fill-opacity=\"1\" /><path clip-path=\"url(#clip930)\" d=\"M1157.5 477.418 L1157.5 479.502 L1137.91 479.502 Q1138.19 483.9 1140.55 486.215 Q1142.94 488.506 1147.17 488.506 Q1149.63 488.506 1151.92 487.904 Q1154.23 487.302 1156.5 486.099 L1156.5 490.127 Q1154.21 491.099 1151.8 491.608 Q1149.39 492.117 1146.92 492.117 Q1140.71 492.117 1137.08 488.506 Q1133.47 484.895 1133.47 478.738 Q1133.47 472.372 1136.89 468.645 Q1140.34 464.895 1146.18 464.895 Q1151.41 464.895 1154.44 468.275 Q1157.5 471.631 1157.5 477.418 M1153.24 476.168 Q1153.19 472.673 1151.27 470.59 Q1149.37 468.506 1146.22 468.506 Q1142.66 468.506 1140.51 470.52 Q1138.38 472.534 1138.05 476.191 L1153.24 476.168 Z\" fill=\"#000000\" fill-rule=\"evenodd\" fill-opacity=\"1\" /><path clip-path=\"url(#clip930)\" d=\"M1181.02 466.284 L1181.02 470.312 Q1179.21 469.386 1177.27 468.923 Q1175.32 468.46 1173.24 468.46 Q1170.07 468.46 1168.47 469.432 Q1166.89 470.404 1166.89 472.349 Q1166.89 473.83 1168.03 474.687 Q1169.16 475.52 1172.59 476.284 L1174.05 476.608 Q1178.58 477.58 1180.48 479.363 Q1182.4 481.122 1182.4 484.293 Q1182.4 487.904 1179.53 490.011 Q1176.69 492.117 1171.69 492.117 Q1169.6 492.117 1167.33 491.701 Q1165.09 491.307 1162.59 490.497 L1162.59 486.099 Q1164.95 487.326 1167.24 487.951 Q1169.53 488.552 1171.78 488.552 Q1174.79 488.552 1176.41 487.534 Q1178.03 486.492 1178.03 484.617 Q1178.03 482.881 1176.85 481.955 Q1175.69 481.029 1171.73 480.173 L1170.25 479.826 Q1166.29 478.992 1164.53 477.279 Q1162.77 475.543 1162.77 472.534 Q1162.77 468.877 1165.37 466.886 Q1167.96 464.895 1172.73 464.895 Q1175.09 464.895 1177.17 465.242 Q1179.26 465.59 1181.02 466.284 Z\" fill=\"#000000\" fill-rule=\"evenodd\" fill-opacity=\"1\" /><path clip-path=\"url(#clip930)\" d=\"M1214.3 468.506 Q1210.88 468.506 1208.89 471.191 Q1206.89 473.853 1206.89 478.506 Q1206.89 483.159 1208.86 485.844 Q1210.85 488.506 1214.3 488.506 Q1217.7 488.506 1219.7 485.821 Q1221.69 483.136 1221.69 478.506 Q1221.69 473.9 1219.7 471.215 Q1217.7 468.506 1214.3 468.506 M1214.3 464.895 Q1219.86 464.895 1223.03 468.506 Q1226.2 472.117 1226.2 478.506 Q1226.2 484.872 1223.03 488.506 Q1219.86 492.117 1214.3 492.117 Q1208.72 492.117 1205.55 488.506 Q1202.4 484.872 1202.4 478.506 Q1202.4 472.117 1205.55 468.506 Q1208.72 464.895 1214.3 464.895 Z\" fill=\"#000000\" fill-rule=\"evenodd\" fill-opacity=\"1\" /><path clip-path=\"url(#clip930)\" d=\"M1246.39 455.428 L1246.39 458.969 L1242.31 458.969 Q1240.02 458.969 1239.12 459.895 Q1238.24 460.821 1238.24 463.229 L1238.24 465.52 L1245.25 465.52 L1245.25 468.83 L1238.24 468.83 L1238.24 491.446 L1233.95 491.446 L1233.95 468.83 L1229.88 468.83 L1229.88 465.52 L1233.95 465.52 L1233.95 463.715 Q1233.95 459.386 1235.97 457.418 Q1237.98 455.428 1242.36 455.428 L1246.39 455.428 Z\" fill=\"#000000\" fill-rule=\"evenodd\" fill-opacity=\"1\" /><path clip-path=\"url(#clip930)\" d=\"M1294.97 487.326 L1294.97 491.446 L1281.08 491.446 L1281.08 487.326 Q1285.18 485.08 1287.47 481.238 Q1289.76 477.395 1289.76 472.719 Q1289.76 467.164 1286.71 463.807 Q1283.65 460.451 1278.65 460.451 Q1273.65 460.451 1270.57 463.83 Q1267.52 467.187 1267.52 472.719 Q1267.52 477.395 1269.81 481.238 Q1272.13 485.08 1276.25 487.326 L1276.25 491.446 L1262.36 491.446 L1262.36 487.326 L1269.74 487.326 Q1266.08 484.108 1264.39 480.659 Q1262.73 477.21 1262.73 472.951 Q1262.73 465.59 1267.17 461.029 Q1271.59 456.469 1278.65 456.469 Q1285.67 456.469 1290.13 461.029 Q1294.58 465.566 1294.58 472.719 Q1294.58 477.21 1292.94 480.636 Q1291.29 484.062 1287.57 487.326 L1294.97 487.326 Z\" fill=\"#000000\" fill-rule=\"evenodd\" fill-opacity=\"1\" /></svg>\n"
      ]
     },
     "execution_count": 156,
     "metadata": {},
     "output_type": "execute_result"
    }
   ],
   "source": [
    "histogram(log.(svals), color = :steelblue, \n",
    "            nbins = 100, size = (500,250), \n",
    "                     xticks = -14:2:10, xlims = (-14,10),\n",
    "                     label = \"logarithms of singular values of Ω\", legend = (0.2,0.5))"
   ]
  },
  {
   "cell_type": "markdown",
   "metadata": {},
   "source": [
    "It seems that the majority of singular values is below $\\exp(2)$.\n",
    "\n",
    "Let us choose the linear subspace that is spanned by all eigenvectors for eigenvalues $\\lambda \\geq \\exp(x)$. "
   ]
  },
  {
   "cell_type": "code",
   "execution_count": 157,
   "metadata": {},
   "outputs": [
    {
     "data": {
      "text/plain": [
       "32"
      ]
     },
     "execution_count": 157,
     "metadata": {},
     "output_type": "execute_result"
    }
   ],
   "source": [
    "λ = exp(2)\n",
    "d = findfirst(svals .< λ)"
   ]
  },
  {
   "cell_type": "markdown",
   "metadata": {},
   "source": [
    "We aim to approximate the data by a model $x = A\\zeta + b + \\epsilon$ of dimension, where $A\\in\\mathbb R^{D\\times d}$ and\n",
    "\n",
    "$$\\epsilon \\sim N(0,\\sigma^2\\mathbf{1}_D) \\text{ and } \\zeta \\sim N(\\nu, B)$$\n",
    "\n",
    "If $\\Omega = UDV^T$ we take $A$ to be the first $d$ columns of $V$ and $d=\\bar{x}$."
   ]
  },
  {
   "cell_type": "code",
   "execution_count": 158,
   "metadata": {},
   "outputs": [],
   "source": [
    "A = S.V[:, 1:d];\n",
    "b = x̄;"
   ]
  },
  {
   "cell_type": "markdown",
   "metadata": {},
   "source": [
    "We also take $\\sigma^2 = 0.001$, $\\nu = 0$ and $C=2\\mathbf 1_d$. \n",
    "\n",
    "This choice seems to work well."
   ]
  },
  {
   "cell_type": "code",
   "execution_count": 180,
   "metadata": {},
   "outputs": [],
   "source": [
    "σ² = 0.001\n",
    "ν = zeros(d)\n",
    "B = diagm(2 .* ones(d));"
   ]
  },
  {
   "cell_type": "markdown",
   "metadata": {},
   "source": [
    " We use the [Distributions.jl](https://juliastats.org/Distributions.jl/stable/) package to generate the distributions for $\\epsilon$ and $\\zeta$."
   ]
  },
  {
   "cell_type": "code",
   "execution_count": 181,
   "metadata": {},
   "outputs": [],
   "source": [
    "N_ζ = MvNormal(ν, B);\n",
    "N_ϵ = MvNormal(zeros(D), diagm(σ² .* ones(D)));"
   ]
  },
  {
   "cell_type": "markdown",
   "metadata": {},
   "source": [
    "Let us now use our model to generate synthetic data."
   ]
  },
  {
   "cell_type": "code",
   "execution_count": 182,
   "metadata": {},
   "outputs": [],
   "source": [
    "ζ = rand(N_ζ, 4)\n",
    "ϵ = rand(N_ϵ, 4)\n",
    "synthetic_data =[A * ζ[:,i] + b + ϵ[:,i] for i in 1:4];\n",
    "synthetic_images = [reshape(u, 28, 28) for u in synthetic_data];"
   ]
  },
  {
   "cell_type": "markdown",
   "metadata": {},
   "source": [
    "The array `synthetic_images` now contains 8 randomly chosen points from our model.\n",
    "\n",
    "Let us display the corresponding pictures."
   ]
  },
  {
   "cell_type": "code",
   "execution_count": 183,
   "metadata": {},
   "outputs": [
    {
     "data": {
      "text/html": [
       "<table><tbody><tr><td style='text-align:center;vertical-align:middle; margin: 0.5em;border:1px #90999f solid;border-collapse:collapse'><img style='max-width: 100px; max-height:100px;display:inline' src=\"data:image/png;base64,iVBORw0KGgoAAAANSUhEUgAAAHAAAABwCAAAAADji6uXAAAABGdBTUEAALGPC/xhBQAAAAFzUkdCAK7OHOkAAAAgY0hSTQAAeiYAAICEAAD6AAAAgOgAAHUwAADqYAAAOpgAABdwnLpRPAAABP1JREFUaAW9wU2I3GcdAOBnZn/zPbNf2aRNCYlhE0vaRiO02tpEG7XQQ/HgxYD10oMIEaE3QSyKgjfx4s1T1YOFQnsrqAQUDaXVNrWhaGhrt03d3XQ/kt2Z+c/Hzhh4hSX0/j5PlBAYoYaBfTOYoIoy+vY1MZKMUMZEUsMAdRRooSsJmYXMQmYxxUgykJQQmGIGY8lBjNHDBC1sSyaSJnqSQtKVNBEyC5mFzML/lTCVTLGHiTvtook5lLCHDpqoo4oJehijhB0ECvQQMguZhcyihgFaGGKMOsroYiqpSNrYRg1N7GIBa5jHEB2U0MAGrqOBQMgsZBYyi5Fk174CE1RRlhSYokAZVYxxGH2MsYEOCvQxj0JSwQAhs5BZyCwmkiomGGMiGUoCdQSmGKFAEz0cwBlcRh1dLGAWfUxQoEDILGQWMos6CgzdqYqhZIwxahjgOObQQRlfwDa6eBstzOMgltDDJkoImYXMQmZRSDrYwTx2MJRUMEIdJdyNJTyATVzFGE/iJF7GJeyhgz6a2MQUIbOQWcgsKhhhR9LHnqSOARroS57EY9hDHVX8DvfiPL6M57CLPl7EHI6gi5BZyCxkFiNJGRMMJC0UmKKPA/gqfoQ5yTy+hgF+jWdxCj/Hq/gZNtDGHAqEzEJmIbOoYohZSRXr6EpKWMa38azk97gg+QEu4/v4Ju6VPIQLqOM6/ooWQmYhs5BZDFHCGEPclNTQwjfwDI7jx3gXv8FRvI5FPIgynsCncR9qaOAIvoWX8BJCZiGzkFm4rYQCbbTRwSzO4yt4AZcQ2MN3cAGL9l3ERTyF57EoOYMRHsefEDILmYXMoowTaKGPRVRwFOu4hB1cxHt4Ga/hYfwDG3gEbclvMcar+AgVnMFR/AQhs5BZyCzctoUP0ME1fAlP4DwO4+94Eet4FC/gTdTxMf6NGh7EEg7hEZ/0eYTMQmYhs5jgBuZwFs/giyhLbmAZP5Xs4Xv4Fd7AFKfxKG7iiOQt7GINn8FxtBEyC5mFzKKOp7GAwPP4JZYwwikcxzKu4od4353O4jJu4gFMsIoapvgvTqKDkFnILGQWTZzAACMs43NYxjwmCDQxxjkcwSm0UcVpnMMxnzTFB7iFZYTMQmYhs6jgb3gFi7gfDTyHa2hiFqu4bl8Xp9HAn/EK/oM3sYIaBpLAaTQQMguZhcziMXwdJ/AvXEEHC3gIB1HCAXwWbZxDD13sYYLXcR+extsooYm3sIE1lBEyC5mFzOId/AXH8F1cwybexQCzmGALf8AafoER3sD9qKOK99HFCFOs23cWCwiZhcxCZvEaZrCOVdRxAKewhSY62MEe5nAPtnAWFZzEFdzCw+jiEFZRR4HANYTMQmYhs3DbFWzgKuZxDIfQwl3YxWG8h0U08RFa2MFl9HAMJdTwIVro4kPcjesImYXMQmZRQhNbmMUK1vEpFPgjyphBF4GbuAu3sIVVVFHCDBroY4w6pljBDYTMQmYhsyiji0UMJNv4J9qSGurYwDx20McEa5IBppJd+8YYo4MKQmYhs5BZ7GEWPRQYo4I5jLGJDnqYxzZmsSKpoI0aehhiHn20MEYXVewgZBYyC5mF27bQQB09VNHADJqYoIMeShhI7sEYfRQ4hDqGqKGMEuawhC5CZiGzkFkEAn30EdjFLXRQRgMTDNHGKgIrqKAkeQezGKIvqWMGBcoImYXMQmb/A3l6WjXhKU5xAAAAAElFTkSuQmCC\"></td><td style='text-align:center;vertical-align:middle; margin: 0.5em;border:1px #90999f solid;border-collapse:collapse'><img style='max-width: 100px; max-height:100px;display:inline' src=\"data:image/png;base64,iVBORw0KGgoAAAANSUhEUgAAAHAAAABwCAAAAADji6uXAAAABGdBTUEAALGPC/xhBQAAAAFzUkdCAK7OHOkAAAAgY0hSTQAAeiYAAICEAAD6AAAAgOgAAHUwAADqYAAAOpgAABdwnLpRPAAABMJJREFUaAW9wUuI3HcdAPDPf+a7s7O72U02m93sJk1sGrNqfJSiVRBsoaFoD+lNPGoPInhQPAl6EfRSxJsgaCGIFwVRsQ8vemhtaWmtFKt9JaFpzDY2k8dmH7Mzs/Mw8DsMAZ+X7+cTE9hVzKCLPmbRQ1dRYaSoY4Qp1LBprKnoKOawgToGCMlCspAsGpjCBrYVFXbRVezBADuYQR99HMZbigoHsIEu6mhgAw30FCFZSBaSxTYq1DA01kQHlWKkmMNxrCHwQRzCDhYwRBfrGGCIvxgLyUKykCxqGKJyu3VFhS00FKtoYYgRruAQuriOWVxFHbuoo8IEhgjJQrKQLIaYRhsN7GKkaKCHRbRwCJfQxAE0MIfANCp0sQdraKCBGWyhgZAsJAvJwi19NDDECDVFT7GBaWxhRTHERaxiBTfQRU9xLwLnsY0pDBGShWQhWQR6mEEXDfQwiS7q6KKOg9hEoI870cR5vA8V1rCKfVjGB9DF33EdIVlIFpJFA31so0IfDezBCD3FAGtYwgqu4jljy1jEFl7H53E3DqKH3+NFhGQhWUgWI2N1VOjjmmIabSyihTuwgJeMPYVJHMYmWvg4+vgzTmEfLiAkC8lCsuggUGFXsRc3FW3FVbwfR/FrYyfxB9yLZ/BlnESFKRxSfAw/Q0gWkoVkMcIMujiA97CLGoaoYR6TmMOzWME0zmMGf8QPFEM8gE+73ZNYQ0gWkoVkUVd0sI0JtI0tYwVnMYtH8Q38VfFJXDT2XbyA+/FtY19ShGQhWUgWQzQUe3FZMatYxGmcUDyoOIzX8VP8GHfiQ5jEMh7CJl7FEWMhWUgWksUI+xWbmMYGjuE0Pos/4Xn8UPEF/Fyxil9gHZdwEafRxPOYxX6cwSMIyUKykCwC5zDAEk7ic/im4gn8CGdxDfuNvYITOIYevoo3MMQOPoxT6OKLeAQhWUgWkkUfX8E9+BTuwhzaeA5LeAz3GfsJHscbuBvn0MQLmMJhrOAuXMBxVIqQLCQLyWIBd+BprOEU5nEUD7rdo5jBm3hccdbYPfgOVjHCFtro4GlUCMlCspAsruEMdvBb/ArzOIHP4AgGmEIL38LQ7b6Hj+JhY+9iHS/jSXRxH0KykCwki0/g67iAeVzGUziDM/69VdyPB3AdNXwNL+NttLAPV1FDE22EZCFZSBY38DuMsAeH8H0cQQddNPEs1tHBDq7gN3gMI//aVcUQbUVIFpKFZBFo4UV8BC/hl9jFKh7GTZzHAAtooYsZnMQ2pvGM/y4kC8lCsngT5zCFd/AedhVv4Qn/2QX/n5AsJAvJYhoHsYjzWMImmphDH/sUryiW0cMWprHufxeShWQhWbhlHgexH21MINDGHHpoYgmbil3sxWtYNxboKyYwwgg17CIkC8lCshiig7+hjSPoYwI1dNDFHCoMsIEZvI3LCARqaBsboIYBBoqQLCQLyaKDCgvYwkXU0UQfCxigjUnFENdwGfuxF2000cQl7MEQDWxhgC2EZCFZSBZueQ0HMIdprOAKWriJRWziXcxiFhWOoVKs4AamcBwjNHET+1DHOwjJQrKQLNwyQgstBF5VHFX8A9tYxhY2cAU7mMEGJtFBhRr6mMMERmjgJkKykCwk+ydoD0akSFjkFgAAAABJRU5ErkJg\"></td><td style='text-align:center;vertical-align:middle; margin: 0.5em;border:1px #90999f solid;border-collapse:collapse'><img style='max-width: 100px; max-height:100px;display:inline' src=\"data:image/png;base64,iVBORw0KGgoAAAANSUhEUgAAAHAAAABwCAAAAADji6uXAAAABGdBTUEAALGPC/xhBQAAAAFzUkdCAK7OHOkAAAAgY0hSTQAAeiYAAICEAAD6AAAAgOgAAHUwAADqYAAAOpgAABdwnLpRPAAABJRJREFUaAW9wU2InAcZAOBn5ntndnb2Z9JJt4kJxta2IFXRUkHEpoUeFYKIaE4itEgPvXkQlZ68ePDgRQ+KWO1BxB8woiBUKoKoLf5GUGMaCCJtkmazM7vz/82Mga8wrFl/Tu/zxDb6Kh30VBqYOVrgLtzAGibYwBQz1LBEC2MUKm2EZCFZSBYlttFHDw2s4UAl0MFNNDBDiQIbGKCJAZoqS9QwxgYGKvsIyUKykCyG7rTEGjq4jpsqM2yjhj7WMEeBE7iJTZUO+pg4LCQLyUKyKDC3MsNMZYpAiU1sYB91DDHDBjYxQwNdjLGHdfRU6iohWUgWkkULAytNTNHCnpUxWhiii3uwwB666OIqDjDANhpooMRCJSQLyUKyGKBABz3MVKYOa2CIDsaYo4ZjqOEi2mijjn30sYMRNjBASBaShWThtgV2EViqLLCBgcoYS+ygQIn7sIO/oYUFrqCjchINtFGqhGQhWUgWbmtggSU2MUaJiUoLUywxQV/lMv5oZR1djHA/trDAHGNMEJKFZCFZuG2KBkrMUWINU9RQWOlbGThspDLCBC38BQOcwQAhWUgWkoU3BGYYoUANTUww8N/t4IbKSOXvDnsWn0dIFpKFZFFDgZFKoMQCSxSYO+wt+BI+gPNYoIefu9Mn0MBT+AxCspAsJIslSislNlFijLmVD+LL+BP28CQ2UOAJvA0L9PFpvBvfwNdVHkdIFpKFZOEIB+70A3TxFfwKZ/B+fA0DfBPn8EWcwiv4KL6rsoePICQLyUKy8D98HE/jBfwV/8D3sYMf4lO4gEu4gAsOeycu4hg+hJAsJAvJwn9Q4GlcwXl8DJ/DQ1YewlfRx1245bDHcBoTlRZCspAsJAtHeAQFfoyn8D48a2WI7+ARvAfP4STOYoB3oIsmxngBv8F7EZKFZCFZfBbP4GW8iD/jNYzQxIt4GM+jjz/gHpzAF/BhPIfL+AkCHTyPy1aewPcQkoVkIVms4004h3OO1sPLCDyDB/A7FFjDo/gnHsaP8FN3GmKGkCwkC8liiG/h13gQTRzHYzil0sGjKPA6buIszlr5JPp4EhPUsIsCv8QMuwjJQrKQLF7CMZzCFLv4Ni5gjDdjHVfxdlzDEveixGlcwi+wiTpexTYGqOE0zmCMkCwkC8niZ7iOB9HGBh7HGPehjVdxLxo4j2sY4q24hAdwGgVewbtwEnMscDcu4yWEZCFZSBZuu4iLKjvYQhe/xVUssERP5X6M0EQbB9jDFHNM0cQCHQzRwR5CspAsJAv/5gZu4IrD1jBR+T0K1LGOfSwd7ZbKdZWQLCQLycIbtrCv0sYSI3QwwwwdDNHEBEvsY+n/F5KFZCFZnMAcr+MY2phhiG2VbQwR2MIMbZQYooOewxqYqRSYo46QLCQLyeIatrCJAeqYYBsDrOE13I05xthED1PU0UMXQyxRwxKBBkrMEQjJQrKQLBqYo446apjjFppooo0DrKGOAiWOY4x1lFhXaaGHBoboYoA6QrKQLCSLGWZoYYIlpgjMMEeJKUocxy0ssIclAgOUVtYxxAYmWMcuQrKQLCT7F3ZrRoyB8E66AAAAAElFTkSuQmCC\"></td><td style='text-align:center;vertical-align:middle; margin: 0.5em;border:1px #90999f solid;border-collapse:collapse'><img style='max-width: 100px; max-height:100px;display:inline' src=\"data:image/png;base64,iVBORw0KGgoAAAANSUhEUgAAAHAAAABwCAAAAADji6uXAAAABGdBTUEAALGPC/xhBQAAAAFzUkdCAK7OHOkAAAAgY0hSTQAAeiYAAICEAAD6AAAAgOgAAHUwAADqYAAAOpgAABdwnLpRPAAABMpJREFUaAW9wU2InAcZAODnm3l3Zmf2p9vdzWabNrZJT1JDLdIaCVJBC60XxZbQk4j4c6oUPQgpqODFkxRFqaCCelFU9CAePClW1KJiUkkuTQsmaZLNZjc7uzOzM7PfjIHvMCyl4Ol9nmhgaKqJISYoVCZoYoA5dNFCHy0cYIQZjFFiFvveKSQLyUKyOHDYwNQEDdSwr9LFMmYxgw7msIAtU/um5tHFBCFZSBaSxRgt9FUaGKq0UWKMAhMsoYY+5tDCOq5hFUdxBfejgzr+ayokC8lCsmjiQGUeeyqL6KCFvqkFlOijgzncQUNlGw3cRhsDlXkMEZKFZCFZuGuksodF1LCDOsYqcyixhxLL2EcN+wg0MIstlNjCKuqYYIiQLCQLyaKBIRYwRIk9FChRooYujmCEA4zQxw6W0cMDKFUWMcIGxhirhGQhWUgWu2iigya6Km30VOo4ghIDtNHBrsqWyiWHLWJPZYQ2QrKQLCQLd01UBiqr2DM1wiZK1NH3/+mYKlRCspAsJIsaamhgFh1soo0aCpQoMYd9hz2Fz+FLuOndjXCAkCwkC8lijH2VAqHSc1gLXTyAq3gQ5/AclvE0TuOSw36MJXwKE4RkIVlIFm30MUGJFnqmZrCEOib4AD6DJ/ExvIYnsIgv49vo4qN4CQ1cNBWShWQhWQwRaKKHBnZVlvEQmngGZ/APvIpvqjxh6kF8FbN4Gq/ij/iRqZAsJAvJ4gB1dNFCHcdxCqfwLB7H1/AsvovfmJqgUHlK5ed4Bn9VeRHfwwghWUgWksUsTuDDWMDD+ASOqVzFaZT4Ac6qvB9ncQ53sGTqeTyPIWq4hD/gIkKykCwki0X8Ey2HbeL7+DpewRdVfomfocBLmMcXcAOrCFMNlVP4LF5BSBaShWRxFufxAvZwG7dQ4OP4HVbwE+ziRZR4UuUr+BeewyNYw5x3ehRvICQLyUKyqOENnMFfcBnrOI0F/BoXsI05HMXb+BPuRxOv4STWcMJhf8bf8S2VkCwkC8niO/gtXvbuJhjjAnq4iJdxFovoYAM/xS9wHgXO45bDQrKQLCQLd31S5XG8gDM4aapAHY+pnMHn8Treh9/josp7cQL/xocwxH24F99ASBaShWRxHBsY4AI+rVJgHWN8ECXWcQrbKNDGrzCPFazhOtpYxAD7uIxreAshWUgWkkUD59DB69hFDauo41EcoI0S11DgKnbQwSxG2MBbOIld3ELfYSFZSBaSxWX8EI9hDY+o9LCF/6CLJnrYwUm8jR7q2MUGrmMdeyjxMPoYYgEjhGQhWUgWC7iJv+EAyziOFbwHS2iiRBcDFGgjMMAujuEj6KrsY4B7cQ1NnEdIFpKFZDHBQwhs4zauo0AdgUADY9TRxg7WsIsbWEEXM2hiDzuoIxCYRUgWkoVkMcYVtDGLEe7DDHYQKDBGAwPsYAk3sIcCNzBGHTUUWME2CnTQQUgWkoVk0UMbdYzQwAYaCIzQxzxu4h4EOujhGK6hiREWVQbYwDwWUMcBQrKQLCQLd/XQw1HM4w5a2MARdDFGYIIaejiCDhYQ2MAculhGAwuYYIgCIVlIFpJFAyVquIUxmriisoU2ZlBiE4so8SYKBGZQ4joa2MQ9uI0OWugjJAvJQrL/AQsMS1OknqQcAAAAAElFTkSuQmCC\"></td></tr></tbody></table><div><small>(a vector displayed as a row to save space)</small></div>"
      ],
      "text/plain": [
       "4-element Vector{Adjoint{Gray{Float64}, Matrix{Gray{Float64}}}}:\n",
       " [Gray{Float64}(0.0023429227285650324) Gray{Float64}(0.02033690673383249) … Gray{Float64}(-0.025885668459151488) Gray{Float64}(-0.009261129758120096); Gray{Float64}(-0.04685461808864027) Gray{Float64}(-0.0035821395092023784) … Gray{Float64}(-0.06087242845619088) Gray{Float64}(0.03909479709046187); … ; Gray{Float64}(-0.043485491586161) Gray{Float64}(0.0006086785725836676) … Gray{Float64}(0.17879602205462197) Gray{Float64}(0.03052578341090277); Gray{Float64}(0.017494261136502175) Gray{Float64}(0.03140227617828082) … Gray{Float64}(0.07182891754772389) Gray{Float64}(0.03970451567883985)]\n",
       " [Gray{Float64}(0.020575087934500403) Gray{Float64}(-0.06776301518371758) … Gray{Float64}(0.009859573527696501) Gray{Float64}(-0.025049028218256313); Gray{Float64}(0.042278932864647026) Gray{Float64}(0.055909720034247115) … Gray{Float64}(-0.012986190916693799) Gray{Float64}(-0.009087752808348856); … ; Gray{Float64}(-0.0039198666265862405) Gray{Float64}(0.0019694528607314982) … Gray{Float64}(0.1802438905599908) Gray{Float64}(0.05833106260035797); Gray{Float64}(-0.04473289908673318) Gray{Float64}(-0.06338073316267609) … Gray{Float64}(0.09534031941497924) Gray{Float64}(-0.005115863183953761)]\n",
       " [Gray{Float64}(0.054581385219292705) Gray{Float64}(-0.019509437164815974) … Gray{Float64}(0.011006765291580413) Gray{Float64}(0.04930865937233461); Gray{Float64}(0.03966158079833173) Gray{Float64}(0.05674612325671326) … Gray{Float64}(-0.0658429774473309) Gray{Float64}(-0.011539055083676654); … ; Gray{Float64}(0.019232396845203524) Gray{Float64}(0.03985957662899561) … Gray{Float64}(0.03699004986035846) Gray{Float64}(0.04398871162867331); Gray{Float64}(0.0018739632722654103) Gray{Float64}(-0.015155951559130344) … Gray{Float64}(0.06868865610803845) Gray{Float64}(-0.008238344714855048)]\n",
       " [Gray{Float64}(0.022939203689840433) Gray{Float64}(-0.009178094221435541) … Gray{Float64}(-0.04114649765407131) Gray{Float64}(-0.0013032942693217509); Gray{Float64}(0.007418775984108446) Gray{Float64}(-0.01414786125609834) … Gray{Float64}(0.0024276576621344546) Gray{Float64}(0.0018837746202134008); … ; Gray{Float64}(-0.0027564711056125525) Gray{Float64}(-0.007667196266127883) … Gray{Float64}(0.07261318889970247) Gray{Float64}(0.058850005031413084); Gray{Float64}(0.02356650155013585) Gray{Float64}(0.01274175107907488) … Gray{Float64}(0.03631033342897121) Gray{Float64}(-0.05156880842466692)]"
      ]
     },
     "execution_count": 183,
     "metadata": {},
     "output_type": "execute_result"
    }
   ],
   "source": [
    "create_image(img) = [Gray(img[i,j]) for\n",
    "                        (i,j) in product(1:28, 1:28)]'\n",
    "map(create_image, synthetic_images)"
   ]
  },
  {
   "cell_type": "markdown",
   "metadata": {},
   "source": [
    "Finally, we use the distribution $N(\\nu,B)$ as a prior to compute the distribution of $(\\zeta \\mid x)$, where $x$ is an additional data point outside of our subsample"
   ]
  },
  {
   "cell_type": "code",
   "execution_count": 194,
   "metadata": {},
   "outputs": [],
   "source": [
    "testsample = setdiff(1:n_images, subsample);\n",
    "j = rand(testsample);\n",
    "x =  Float64.(vec(sneakers[:,:,j]));"
   ]
  },
  {
   "cell_type": "markdown",
   "metadata": {},
   "source": [
    "Let us look at the image corresponding to `x`."
   ]
  },
  {
   "cell_type": "code",
   "execution_count": 195,
   "metadata": {},
   "outputs": [
    {
     "data": {
      "image/png": "[encoded data removed]",
      "text/plain": [
       "28×28 reinterpret(reshape, Gray{N0f8}, ::Array{N0f8,2}) with eltype Gray{N0f8}:\n",
       " Gray{N0f8}(0.0)    Gray{N0f8}(0.0)    …  Gray{N0f8}(0.0)\n",
       " Gray{N0f8}(0.0)    Gray{N0f8}(0.0)       Gray{N0f8}(0.0)\n",
       " Gray{N0f8}(0.0)    Gray{N0f8}(0.0)       Gray{N0f8}(0.0)\n",
       " Gray{N0f8}(0.0)    Gray{N0f8}(0.0)       Gray{N0f8}(0.0)\n",
       " Gray{N0f8}(0.0)    Gray{N0f8}(0.0)       Gray{N0f8}(0.0)\n",
       " Gray{N0f8}(0.0)    Gray{N0f8}(0.0)    …  Gray{N0f8}(0.0)\n",
       " Gray{N0f8}(0.0)    Gray{N0f8}(0.0)       Gray{N0f8}(0.0)\n",
       " Gray{N0f8}(0.0)    Gray{N0f8}(0.0)       Gray{N0f8}(0.0)\n",
       " Gray{N0f8}(0.0)    Gray{N0f8}(0.0)       Gray{N0f8}(0.0)\n",
       " Gray{N0f8}(0.0)    Gray{N0f8}(0.0)       Gray{N0f8}(0.0)\n",
       " Gray{N0f8}(0.0)    Gray{N0f8}(0.0)    …  Gray{N0f8}(0.0)\n",
       " Gray{N0f8}(0.0)    Gray{N0f8}(0.0)       Gray{N0f8}(0.0)\n",
       " Gray{N0f8}(0.0)    Gray{N0f8}(0.0)       Gray{N0f8}(0.0)\n",
       " ⋮                                     ⋱  \n",
       " Gray{N0f8}(0.259)  Gray{N0f8}(0.267)     Gray{N0f8}(0.047)\n",
       " Gray{N0f8}(0.161)  Gray{N0f8}(0.318)     Gray{N0f8}(0.145)\n",
       " Gray{N0f8}(0.0)    Gray{N0f8}(0.0)       Gray{N0f8}(0.212)\n",
       " Gray{N0f8}(0.0)    Gray{N0f8}(0.0)       Gray{N0f8}(0.016)\n",
       " Gray{N0f8}(0.0)    Gray{N0f8}(0.0)    …  Gray{N0f8}(0.0)\n",
       " Gray{N0f8}(0.0)    Gray{N0f8}(0.0)       Gray{N0f8}(0.0)\n",
       " Gray{N0f8}(0.0)    Gray{N0f8}(0.0)       Gray{N0f8}(0.0)\n",
       " Gray{N0f8}(0.0)    Gray{N0f8}(0.0)       Gray{N0f8}(0.0)\n",
       " Gray{N0f8}(0.0)    Gray{N0f8}(0.0)       Gray{N0f8}(0.0)\n",
       " Gray{N0f8}(0.0)    Gray{N0f8}(0.0)    …  Gray{N0f8}(0.0)\n",
       " Gray{N0f8}(0.0)    Gray{N0f8}(0.0)       Gray{N0f8}(0.0)\n",
       " Gray{N0f8}(0.0)    Gray{N0f8}(0.0)       Gray{N0f8}(0.0)"
      ]
     },
     "execution_count": 195,
     "metadata": {},
     "output_type": "execute_result"
    }
   ],
   "source": [
    "FashionMNIST.convert2image(sneakers[:,:,j])"
   ]
  },
  {
   "cell_type": "markdown",
   "metadata": {},
   "source": [
    "We use the formula for the posterior distribution"
   ]
  },
  {
   "cell_type": "code",
   "execution_count": 196,
   "metadata": {},
   "outputs": [],
   "source": [
    "B⁻¹ = inv(B)\n",
    "C = inv((1/σ²) .* diagm(ones(d)) + B⁻¹)\n",
    "m = C * ((1/σ²) .* A' * (x - b) + B⁻¹ * ν);\n",
    "N_ζ_posterior = MvNormal(m, C);"
   ]
  },
  {
   "cell_type": "markdown",
   "metadata": {},
   "source": [
    "and use the posterior distribution for generating synthetic data."
   ]
  },
  {
   "cell_type": "code",
   "execution_count": 197,
   "metadata": {},
   "outputs": [],
   "source": [
    "ζ = rand(N_ζ_posterior, 4)\n",
    "ϵ = rand(N_ϵ, 4)\n",
    "synthetic_data_2 =[A * ζ[:,i] + b + ϵ[:,i] for i in 1:4]\n",
    "synthetic_images_2 = [reshape(u, 28, 28) for u in synthetic_data_2];"
   ]
  },
  {
   "cell_type": "markdown",
   "metadata": {},
   "source": [
    "Here is again the original image:"
   ]
  },
  {
   "cell_type": "code",
   "execution_count": 198,
   "metadata": {},
   "outputs": [
    {
     "data": {
      "image/png": "[encoded data removed]",
      "text/plain": [
       "28×28 reinterpret(reshape, Gray{N0f8}, ::Array{N0f8,2}) with eltype Gray{N0f8}:\n",
       " Gray{N0f8}(0.0)    Gray{N0f8}(0.0)    …  Gray{N0f8}(0.0)\n",
       " Gray{N0f8}(0.0)    Gray{N0f8}(0.0)       Gray{N0f8}(0.0)\n",
       " Gray{N0f8}(0.0)    Gray{N0f8}(0.0)       Gray{N0f8}(0.0)\n",
       " Gray{N0f8}(0.0)    Gray{N0f8}(0.0)       Gray{N0f8}(0.0)\n",
       " Gray{N0f8}(0.0)    Gray{N0f8}(0.0)       Gray{N0f8}(0.0)\n",
       " Gray{N0f8}(0.0)    Gray{N0f8}(0.0)    …  Gray{N0f8}(0.0)\n",
       " Gray{N0f8}(0.0)    Gray{N0f8}(0.0)       Gray{N0f8}(0.0)\n",
       " Gray{N0f8}(0.0)    Gray{N0f8}(0.0)       Gray{N0f8}(0.0)\n",
       " Gray{N0f8}(0.0)    Gray{N0f8}(0.0)       Gray{N0f8}(0.0)\n",
       " Gray{N0f8}(0.0)    Gray{N0f8}(0.0)       Gray{N0f8}(0.0)\n",
       " Gray{N0f8}(0.0)    Gray{N0f8}(0.0)    …  Gray{N0f8}(0.0)\n",
       " Gray{N0f8}(0.0)    Gray{N0f8}(0.0)       Gray{N0f8}(0.0)\n",
       " Gray{N0f8}(0.0)    Gray{N0f8}(0.0)       Gray{N0f8}(0.0)\n",
       " ⋮                                     ⋱  \n",
       " Gray{N0f8}(0.259)  Gray{N0f8}(0.267)     Gray{N0f8}(0.047)\n",
       " Gray{N0f8}(0.161)  Gray{N0f8}(0.318)     Gray{N0f8}(0.145)\n",
       " Gray{N0f8}(0.0)    Gray{N0f8}(0.0)       Gray{N0f8}(0.212)\n",
       " Gray{N0f8}(0.0)    Gray{N0f8}(0.0)       Gray{N0f8}(0.016)\n",
       " Gray{N0f8}(0.0)    Gray{N0f8}(0.0)    …  Gray{N0f8}(0.0)\n",
       " Gray{N0f8}(0.0)    Gray{N0f8}(0.0)       Gray{N0f8}(0.0)\n",
       " Gray{N0f8}(0.0)    Gray{N0f8}(0.0)       Gray{N0f8}(0.0)\n",
       " Gray{N0f8}(0.0)    Gray{N0f8}(0.0)       Gray{N0f8}(0.0)\n",
       " Gray{N0f8}(0.0)    Gray{N0f8}(0.0)       Gray{N0f8}(0.0)\n",
       " Gray{N0f8}(0.0)    Gray{N0f8}(0.0)    …  Gray{N0f8}(0.0)\n",
       " Gray{N0f8}(0.0)    Gray{N0f8}(0.0)       Gray{N0f8}(0.0)\n",
       " Gray{N0f8}(0.0)    Gray{N0f8}(0.0)       Gray{N0f8}(0.0)"
      ]
     },
     "execution_count": 198,
     "metadata": {},
     "output_type": "execute_result"
    }
   ],
   "source": [
    "FashionMNIST.convert2image(sneakers[:,:,j])"
   ]
  },
  {
   "cell_type": "markdown",
   "metadata": {},
   "source": [
    "and the newly generated images:"
   ]
  },
  {
   "cell_type": "code",
   "execution_count": 199,
   "metadata": {},
   "outputs": [
    {
     "data": {
      "text/html": [
       "<table><tbody><tr><td style='text-align:center;vertical-align:middle; margin: 0.5em;border:1px #90999f solid;border-collapse:collapse'><img style='max-width: 100px; max-height:100px;display:inline' src=\"data:image/png;base64,iVBORw0KGgoAAAANSUhEUgAAAHAAAABwCAAAAADji6uXAAAABGdBTUEAALGPC/xhBQAAAAFzUkdCAK7OHOkAAAAgY0hSTQAAeiYAAICEAAD6AAAAgOgAAHUwAADqYAAAOpgAABdwnLpRPAAABGpJREFUaAW9wbuPXHcZANBz537z8r7MYjvJxo4tOw0IoQgpRagIICFoqfkTaUGEMkWQoCGFJUQeDopAsXfXeGdmZ+7MfWDpV4xWCe13Tnitxm0s0GOKFo29QyxRY0CPGj0Ge1O06BQTbO2FZCFZSBYValwoRoqtItBiiRk2CAzoUWFAhUCjqDDCIRqsFCFZSBaSRWCrmGCLtb1WMcda0WHADFvMscaACmNsMcclDjFXhGQhWUgWI9ToMSgCW9zCDBUuFHdwjS02ig4jDBiwxQxr1FgqKoRkIVlIFg3G6NAqKsU1rjHFDBssMMIUMyzRo3dTh87eCD1CspAsJItDLDHBVtFghhn+i0ZRYYc5Voo51jjBDg0mWCsOsMIJFgjJQrKQLJaKHkdYoMIGgREm2KDGBBtFhTUCGzSYosUUDVaKa7QIyUKykCymaNBigRodAg16bBQ9rnGCFQYc4ApTNGh8ty1qhGQhWUgWDY6wwCFWmGFAY69Gp1ijxR38DP/Gf/Cl/2/ACCFZSBaShddqzNBhwBa9m0LR4RE+wPu4wIf4IxpscW7vAHfxDDuEZCFZSBZe22CjqDHDyt4xKryL9/EedrhAjfv4HR7iI5zjBCd4jCf4M75BSBaShWQxxRQ7dPg+VhhjhznewU/xa3yOj3GKt/EDnOEEb+IB/okpNngTb+MKf0JIFpKFZDHGK3sLzFHhDn6LD9Hg97jAE/wQZ4qXaPAGfoMLLNDgErfxC3yMkCwkC8liozjCBgPu4Zf4CVr8FZ/iAe7jXRxhwBmu0OAZVhjjGJf4Ob5Ciy1CspAsJIsDnOExTvEQc1T4G77CFB9ghlO8hyVeYosJJphhi7tYYIq/o8YIDxCShWQhWdzGGQ6xwic4wCVOcIgf4THewi3FjxF4iR4DjnGJ57jCGDscoMMMIVlIFpKF1z7FEnPs8BbewALHeIrAP3CEGn/BQ3yBS4xxrniBNTo0qDHgKUKykCwkixa/QocrrDDD15jgX5jgc8WAJZY4QIdLVLiNGmPMUaHGAe7iCUKykCwki3N8hCd4hAGP8A469GhxhQucokGLCqeoUeNIcYgWh5ijwxZfIyQLyUKyaPAcz/EJTvAHHOM+aixwDy1afINTxQ5zvMAdLDHDOca4hyUW+AwhWUgWkkWNTjHCK8UVnmKCFs/c9KWbxujQ4wAre9/DBiOEZCFZSBa9vd5NFbYYo/dtB7jGgJ29KVo0ihod1gjJQrKQLAbFGD06e7ewws63jbFyU40Ol246V4wRkoVkIVl47S626HCNCTZYIdArKnSKTnGIraLGGhUG3y0kC8lCspjghb0pBsUca4xQY4cRegyKFQbFVDEopmgUt3CNkCwkC8lijgE1KkWvWCt6e1PUWKJGhR49GtToUGPAMRaoMUFIFpKFZPEKFXb2Zm4aY4xrNBijRocjrDFFhcAVKvTYIXCNDiFZSBaSxRSBDhvFoBhhjhV2uIfnGKHDHAtFi8CgaBWtYooOIVlIFpL9D976VJsMPsKPAAAAAElFTkSuQmCC\"></td><td style='text-align:center;vertical-align:middle; margin: 0.5em;border:1px #90999f solid;border-collapse:collapse'><img style='max-width: 100px; max-height:100px;display:inline' src=\"data:image/png;base64,iVBORw0KGgoAAAANSUhEUgAAAHAAAABwCAAAAADji6uXAAAABGdBTUEAALGPC/xhBQAAAAFzUkdCAK7OHOkAAAAgY0hSTQAAeiYAAICEAAD6AAAAgOgAAHUwAADqYAAAOpgAABdwnLpRPAAABHlJREFUaAW9wd2LXHcZAODnnHnnY3d2dre7SUobY1RKCGpRFKRgKeKdoH+td96IV3ol1iIEg9rSGvOx2Wzme87MOePC72IIiJfv80SNPfYOhtgoAjtFH1tFD62iwh4TrLFFjc67AiFZSBaSRYdAjQYDbBzsFMdYKno4whxjLBQzxXuYocMQY1xjiJAsJAvJwq0d7uAKjaKPE7zBEJ2DDmvFAue4UQyxxg59vIcVTjFFSBaShWTh1gTX3rXFG8UGxwicYo5TXKND42CjOEZggTW2ipAsJAvJYoAlOgRqNA56iiUqTDHGFcZYYKmoMMYcS/9bSBaShWSxReAcS6wUEywxwQIthljjrWKNCTYILB1U2DsYYo+QLCQLyaKHLV6j72CGERboFBsHPbSY4QgNRpjjBHPFAHtU2CAkC8lCstgpKmwVR+hhrhhjgT4ajLFQ9DDGHK1i46BR7BQhWUgWksUxWnSo0KBBqxhhgQEaTLDCAA1+jRX+hB22Dmp0ij5ahGQhWUgWNZYIbDHCWnGMBieYI7DDA3yK+7jEESb4G77GEieY4xITfKkIyUKykCzmip1ijSOsscQEa/TxCR7hI0zRQ4d7+CUq7HCFY1zgYzzEH/EFQrKQLCSLEdaKC1xjgwE2OMMP8Rke4wa/x138BB/jDD/Cj/EH/EtxjhEeYY+/IiQLyUKy2DpYKDrcxX18gk/xD/wOV7iDn+MYb7DBh3iAX+FL1HiGPTa4wBAhWUgWkkWLAfY4wRCP8FN8hmf4C/6JD/EYFzhB4HuY4RU2+BqnmOExWvRwjFOEZCFZSBb38DPcxwZ3MEQfv0WDAb6veIDvYogGSwSGOMIFPsAWb/EcQ1R4jJAsJAvJosYVpmhwgTcItPgFzvAtVPgI76PBEHsMMMASFQbYYI072OAELxGShWQhWfTxBXqY49sY4QLneIIzXGOCZ2hwFyM8RY0JniLwEmssFIEZniIkC8lCsujjN+jjG4xxjRrfYIhXeIIOLzDGDT7AV1hgjFMM0UeLuwjFQ1whJAvJQrL4Cv/BD3COMzxQ1Jhhhz1uMMQY7+MSD9FHD+cYoFUMcB8zBD5HSBaShWTRosGf0SEUA3wHDSaocYwOz3GEV5iijwprTNBijgHu4RW2+DtCspAsJAu3amwVO8UOT9DhHl6ih1bRQ42t/2+ARjFESBaShWRxghZbHGGHLWoEGrSoMMZUUWOIEZYYY6oYYa1oMcIaG4RkIVlIFnNMFCuMsUWHBhVeK+Y4xQp7zB1MHTQOWlSo0SEkC8lCsnCrU9zHvxUDjLDEDoEdltgpJlhgjBnOscUGHWpFoIcKIVlIFpKFW0v08RyBI6wwxSlWaBWVgxX2mKHGjYPAGVZYoUKHkCwkC8nCrT0u8AITzDDEHlPv2jqoFTt0qDBCixqvHewVIVlIFpKFWxVeKOaosMEYS+wVNTpU2KNBhR4qxUpxig3GmOMEW4RkIVlIFmMsHQwxxhQ19opLzHCEtwj0sEGr6OESr7HEHlv0sUKLkCwkC8n+CzTWTb8ty8KuAAAAAElFTkSuQmCC\"></td><td style='text-align:center;vertical-align:middle; margin: 0.5em;border:1px #90999f solid;border-collapse:collapse'><img style='max-width: 100px; max-height:100px;display:inline' src=\"data:image/png;base64,iVBORw0KGgoAAAANSUhEUgAAAHAAAABwCAAAAADji6uXAAAABGdBTUEAALGPC/xhBQAAAAFzUkdCAK7OHOkAAAAgY0hSTQAAeiYAAICEAAD6AAAAgOgAAHUwAADqYAAAOpgAABdwnLpRPAAABGxJREFUaAW9wcuLZHcZANBz7/3qdlX39Dw7PQ9HY8QwjGHigFtBFNy488914VLBKLgxoDi6UTIJpns6/ahbVfflwG+gmOj6Oyd8y11coMUODQ7RY+P/qzCjxYwRM2bFAgOWCMlCspAsfMsF7uECK2zRYUCLCYPiIS6wRYMGnb0GI0ZU6BCShWQhWSwwY8QRrnGFCp1iUgQ6e1/Zq1FhhQ4VKsVkLyQLyUKy6BUVRizQe98KG3SoMWFWHGFAj97eARpMOECPASFZSBaShXcOscasOMKAUMxosVO0WOISC0xoUaHHgI2isxeShWQhWXhnhxkL9LhRbNEqDrBDjQlbLNBjiQ1qHGJnLzAgEJKFZCFZeGuFCQv0aNBio5gVo2LChBq9YkSLCT129gbFjJAsJAvJwlsdlligx4geLXr0qLBGjQUm7BQrbDArBv+rRiAkC8lCsmixw0ZRo1ZsFTUmNGjRY8ZjfIQWf8aMG4xoMOIYV2iwRUgWkoVk4Z0aNVpsMSqW2GCFBms8xy/wEB0e4gSf4VIxosUBjvGFIiQLyUKy2CkmTBgUS2ywwS0c4Sl+hu8g8BoP8BFOcAu/xTlOMeMEn+L3+CtCspAsJAtvrbDFZG9WnOIufo3neIO/Y8YzfII7eIEf4gVeYcI5foxTNHiFkCwkC8nCW52iQo0DNHiJn+MFbvAHXOMYn+AHOFMMeIRf4ie4wBsEvsanOEFIFpKFZHEHV5iwwoDn+BU+xhl+hwss8SMEniqeosUZtjjHKU7wBJf4EP/GIUKykCwkiyv8FA+wxPdxF2f4I77AHTzDCR7iARb4Gxpc4QkWaPAEO3TYoUODY4RkIVlIFh/iIc5xiWsM6LHFSzzCA3wXFY7xBI9xrFjiBjPOMaNHhQqBESFZSBaSxYzP8CVOsMZTxSNscYYOC7T4Jz7AAn/BIV5jwoAzxSUOsMaANwjJQrKQLALP8DEWOMOEARf4Ex7jHA1u0GHCFjMucYQR38OI+zjAiG/wFC1CspAsJItXuMJLfIBTHKHBFktc4xhr3EKFwAVO0eMR7qJHj0MEDjHjS9xDSBaShWThra/wG8UhGtzDMWbMuI1LBG7jGtdocYXPcQ9b3MVr3FEEtvgHQrKQLCSLQ6ztrXEH/0KFCffxNf6DCjVGxWtM2KDGhAUqjFigxwprhGQhWUgWaywxoMUaPWbMCJwjFDNG3MKEHj0OUeMGE1rsMKLCtSIkC8lCsqgxosYWNdb2BsWgCAy49r4Ra8WIXlFhVqwQkoVkIVlMaLDADit0OMKNolLMGHCEHSZUaLFCgzXuo8OAGTUmdAjJQrKQLA6wRa/YosKIGjNm1FhiRIMGPZZYY604xrniNkbcoMGIkCwkC8mit1dhUuww4RADdoodGgyKA2zQosK1vUtFg1ERkoVkIVnUmBSzosGIBmsssEKHA3RYKb7BLWy9r8UOKyxwqQjJQrKQLAZ7DUaM3tejxwqBGR2WGHCtqDBjhQ4NOnS4jUuEZCFZSPZfixBdma+hL74AAAAASUVORK5C\"></td><td style='text-align:center;vertical-align:middle; margin: 0.5em;border:1px #90999f solid;border-collapse:collapse'><img style='max-width: 100px; max-height:100px;display:inline' src=\"data:image/png;base64,iVBORw0KGgoAAAANSUhEUgAAAHAAAABwCAAAAADji6uXAAAABGdBTUEAALGPC/xhBQAAAAFzUkdCAK7OHOkAAAAgY0hSTQAAeiYAAICEAAD6AAAAgOgAAHUwAADqYAAAOpgAABdwnLpRPAAABHJJREFUaAW9wU2PW2cZANBj+/H1+GPGE5J2klAlSksRFaitCggJtogFOyT+JiwrsWIHqliAWICKSipEqhAykPF4fG3fe20T6UVyoirb55y4g0tHgc7rhmgVgQ6BCjV6GKLBCFtvFpKFZCFZXDoaoIcBDoohtooxeuihRYcTbNAotoo+hhiixl4RkoVkIVn0cFDsMEQPE2zRKfpYo48ZDthjjI2jORaYY4k99ooRQrKQLCSLg6MZbhQNehihxR5nuMY1AgNUigF2qFGhjx5aR1uEZCFZSBZescI7WOEFhooTbHCNMTboocIzTLHCCbYYYYEOPRxwgg1CspAsJAv/d4ZrPFHcwgoNDooKawzRolWsFB0qNOihh4NiowjJQrKQLLw0xdJRYIHAHoEdGkWHCg36OOCADp03O0VIFpKFZDFCjYOihw5zrDDFStFHhT5q9LDHCDt03qzCEiFZSBaSxRZjrBUTrLDAGDX62GOPDfqYocIHuI1PcYFnvm6ErSIkC8lCsvDS2tEegQ4jdGgdTfA+vo8LBG5jhD+hxhKBDue4h78qQrKQLCQLr5hjgSnGuFIEOnyIj/FT1PgHRvgAD3GG32KCG8zxE0wxwRcIyUKykCy8YqfYYKe4hbv4Bb6HS/wGEzzCx7iPM0zxCf6GBU7xTcUMjxGShWQhWQywU9woZhhihp/jh2jxayzwAD/GGC1WaPEe7uFdHPAEV3gLt/ApQrKQLCSLCmvFFKd4gPfxM2zwBzzDKT5CHyvcx9uocY0GN6hQ413cxWMsEQjJQrKQLBp8F/dwgQkeYYnf4yvMcB8P8B18AwM8x1NMMMce5+jhIRZ4ij56uIuQLCQLyeIMcwzxJSr8GX2M8S18hHdQ4xQTXOAhNhgr/oNTvMACNW7Q4hodQrKQLCSL2/gLWpxhgFuYYIgVPsML9HCFp7iPUzzGBEtcYqt4jj0GaLDA3xGShWQhWQzwS1xjhyVqtHiK53iEX2GGBfpocYk5/o2p4g4azHGCKZ7gPdxBSBaShWTxOf6JH+FtfIJO8RwdxvgBvkIfB/TwFk7wIUaY4j7+hQHuYIdvY4gvEJKFZCFZeKnG77DFEGOMcY4hhuijQo0J/osLbNFigwp/xARr7DDBBgN8iZAsJAvJwksVKhzQoMU1GnRYKgbYOfpccRs1ZrjEwdddYI+QLCQLyWKIBg0maBy9wADnuMIIW+y8boUKSxwUQ7SKGZ4pQrKQLCSLCq2ijz72jna4UtSKCg0mqLHBxlEPrWKGtaOQLCQLycJL57jCjWKAHSaKBjucYI0OM6wdVZjjOSo0CNTYOwrJQrKQLDpsMMQQfdSKWnGOGmvFHjded8AlKjQYYaMYoUUPIVlIFpLFVjFCrZhihTEa1NhhghojbBGosEVP0SBwwBw9XKFCi5AsJAvJYoIWNc6xwAonWGOMLaZYKrYYokWHCfpoFAccUCsCDWYIyUKykCxqDDBEjROsscEQHfYYKAId9jhFjVoxwA477LxugBuEZCFZSPY/QF5ITwfxnbEAAAAASUVORK5C\"></td></tr></tbody></table><div><small>(a vector displayed as a row to save space)</small></div>"
      ],
      "text/plain": [
       "4-element Vector{Adjoint{Gray{Float64}, Matrix{Gray{Float64}}}}:\n",
       " [Gray{Float64}(0.000750233036893004) Gray{Float64}(0.01033278182734913) … Gray{Float64}(-0.019941270287948648) Gray{Float64}(-0.003220235314674315); Gray{Float64}(0.0057787422389568134) Gray{Float64}(0.024998755486467874) … Gray{Float64}(-0.0013406956797415448) Gray{Float64}(-0.07815377780416306); … ; Gray{Float64}(-0.015635252581110287) Gray{Float64}(0.00265061965083544) … Gray{Float64}(0.012337586069702788) Gray{Float64}(-0.016544931754451115); Gray{Float64}(0.029105114205089426) Gray{Float64}(0.04188305541404984) … Gray{Float64}(0.027999793171844204) Gray{Float64}(-0.0407530771899033)]\n",
       " [Gray{Float64}(0.00835044764013819) Gray{Float64}(0.0038882851756146222) … Gray{Float64}(-0.016882019608719476) Gray{Float64}(0.017251834155576278); Gray{Float64}(-0.04243665022987905) Gray{Float64}(0.015421075308792977) … Gray{Float64}(-0.020700308142101647) Gray{Float64}(0.04482957468239746); … ; Gray{Float64}(-0.03846613690944304) Gray{Float64}(0.005144153566564454) … Gray{Float64}(0.0470109128912419) Gray{Float64}(0.02776363679408657); Gray{Float64}(0.04198016502096846) Gray{Float64}(0.0022952498318025176) … Gray{Float64}(0.01266267048703819) Gray{Float64}(-0.010720269902393272)]\n",
       " [Gray{Float64}(-0.030828992161482986) Gray{Float64}(-0.010504396765802844) … Gray{Float64}(0.0030962258594972986) Gray{Float64}(0.034393087016023734); Gray{Float64}(-0.024275614289933828) Gray{Float64}(-0.03462125724492108) … Gray{Float64}(0.009739146219307495) Gray{Float64}(-0.010375397028020115); … ; Gray{Float64}(0.013764539626859428) Gray{Float64}(-0.006733060057146443) … Gray{Float64}(-0.0324326129534367) Gray{Float64}(0.0003779735610507373); Gray{Float64}(-0.02507420501001965) Gray{Float64}(-0.022709636273586516) … Gray{Float64}(0.056210628746933035) Gray{Float64}(-0.019477205493626776)]\n",
       " [Gray{Float64}(0.07767832123804866) Gray{Float64}(-0.004917676697937099) … Gray{Float64}(-0.059264269461945726) Gray{Float64}(-0.010756192250925797); Gray{Float64}(0.0003638189431670258) Gray{Float64}(-0.0011414431914548507) … Gray{Float64}(-0.050812412675496944) Gray{Float64}(-0.026739253710764313); … ; Gray{Float64}(0.04001178916090413) Gray{Float64}(0.0212261120958053) … Gray{Float64}(-0.013375839257531472) Gray{Float64}(0.045258616369197854); Gray{Float64}(-0.010850510168966005) Gray{Float64}(0.01129079416385727) … Gray{Float64}(0.012675346570997397) Gray{Float64}(-0.01577407564932089)]"
      ]
     },
     "execution_count": 199,
     "metadata": {},
     "output_type": "execute_result"
    }
   ],
   "source": [
    "map(create_image, synthetic_images_2)"
   ]
  },
  {
   "cell_type": "code",
   "execution_count": null,
   "metadata": {},
   "outputs": [],
   "source": []
  }
 ],
 "metadata": {
  "@webio": {
   "lastCommId": null,
   "lastKernelId": null
  },
  "kernelspec": {
   "display_name": "Julia 1.7.2",
   "language": "julia",
   "name": "julia-1.7"
  },
  "language_info": {
   "file_extension": ".jl",
   "mimetype": "application/julia",
   "name": "julia",
   "version": "1.7.2"
  }
 },
 "nbformat": 4,
 "nbformat_minor": 2
}
