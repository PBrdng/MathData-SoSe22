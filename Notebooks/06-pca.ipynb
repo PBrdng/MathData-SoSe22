{
 "cells": [
  {
   "cell_type": "code",
   "execution_count": null,
   "metadata": {},
   "outputs": [],
   "source": [
    "using Pkg\n",
    "Pkg.activate(\"NB06\")"
   ]
  },
  {
   "cell_type": "code",
   "execution_count": 2,
   "metadata": {},
   "outputs": [],
   "source": [
    "using MLDatasets\n",
    "using Plots, LinearAlgebra, StatsBase, Distributions\n",
    "using Images, ImageCore\n",
    "import Base.Iterators: product"
   ]
  },
  {
   "cell_type": "markdown",
   "metadata": {},
   "source": [
    "*Warning:* For this notebook I had to pin `CSV.jl` to version 0.8.5, because otherwise `MLDatasets` would not compile. This restricts `MLDatasets` to version 0.5. The latest version has a different syntax than the one used here."
   ]
  },
  {
   "cell_type": "markdown",
   "metadata": {},
   "source": [
    "# Principal Component Analysis\n",
    "\n",
    "In this notebook we will apply PCA to three datasets.\n"
   ]
  },
  {
   "cell_type": "markdown",
   "metadata": {},
   "source": [
    "## Points on a circle\n",
    "\n",
    "\n",
    "The first dataset is synthetic data generated from the unit circle $S^1 \\subset \\mathbb R^2$.\n",
    "\n",
    "We want to use PCA to learn the geometry of the data.\n",
    "\n",
    "Let us first generate $n=100$ random points on $S^1$ and add Gaussian noise with variance $\\sigma^2 = 0.01$."
   ]
  },
  {
   "cell_type": "code",
   "execution_count": 148,
   "metadata": {},
   "outputs": [],
   "source": [
    "n = 100\n",
    "σ² = 0.01\n",
    "X = [[cos(ϕ); sin(ϕ)] + sqrt(σ²) .* randn(2) for ϕ in rand(0:0.1:2π, n)];"
   ]
  },
  {
   "cell_type": "markdown",
   "metadata": {},
   "source": [
    "We center the data"
   ]
  },
  {
   "cell_type": "code",
   "execution_count": 149,
   "metadata": {},
   "outputs": [],
   "source": [
    "x̄ = mean(X);\n",
    "X = map(x -> x - x̄, X);"
   ]
  },
  {
   "cell_type": "markdown",
   "metadata": {},
   "source": [
    "and plot the data."
   ]
  },
  {
   "cell_type": "code",
   "execution_count": 156,
   "metadata": {},
   "outputs": [
    {
     "data": {
      "image/svg+xml": [
       "<?xml version=\"1.0\" encoding=\"utf-8\"?>\n",
       "<svg xmlns=\"http://www.w3.org/2000/svg\" xmlns:xlink=\"http://www.w3.org/1999/xlink\" width=\"750\" height=\"250\" viewBox=\"0 0 3000 1000\">\n",
       "<defs>\n",
       "  <clipPath id=\"clip130\">\n",
       "    <rect x=\"0\" y=\"0\" width=\"3000\" height=\"1000\"/>\n",
       "  </clipPath>\n",
       "</defs>\n",
       "<path clip-path=\"url(#clip130)\" d=\"\n",
       "M0 1000 L3000 1000 L3000 0 L0 0  Z\n",
       "  \" fill=\"#ffffff\" fill-rule=\"evenodd\" fill-opacity=\"1\"/>\n",
       "<defs>\n",
       "  <clipPath id=\"clip131\">\n",
       "    <rect x=\"600\" y=\"0\" width=\"2101\" height=\"1000\"/>\n",
       "  </clipPath>\n",
       "</defs>\n",
       "<path clip-path=\"url(#clip130)\" d=\"\n",
       "M199.936 909.728 L2952.76 909.728 L2952.76 47.2441 L199.936 47.2441  Z\n",
       "  \" fill=\"#ffffff\" fill-rule=\"evenodd\" fill-opacity=\"1\"/>\n",
       "<defs>\n",
       "  <clipPath id=\"clip132\">\n",
       "    <rect x=\"199\" y=\"47\" width=\"2754\" height=\"863\"/>\n",
       "  </clipPath>\n",
       "</defs>\n",
       "<polyline clip-path=\"url(#clip132)\" style=\"stroke:#000000; stroke-linecap:butt; stroke-linejoin:round; stroke-width:2; stroke-opacity:0.1; fill:none\" points=\"\n",
       "  483.994,909.728 483.994,47.2441 \n",
       "  \"/>\n",
       "<polyline clip-path=\"url(#clip132)\" style=\"stroke:#000000; stroke-linecap:butt; stroke-linejoin:round; stroke-width:2; stroke-opacity:0.1; fill:none\" points=\"\n",
       "  852.364,909.728 852.364,47.2441 \n",
       "  \"/>\n",
       "<polyline clip-path=\"url(#clip132)\" style=\"stroke:#000000; stroke-linecap:butt; stroke-linejoin:round; stroke-width:2; stroke-opacity:0.1; fill:none\" points=\"\n",
       "  1220.73,909.728 1220.73,47.2441 \n",
       "  \"/>\n",
       "<polyline clip-path=\"url(#clip132)\" style=\"stroke:#000000; stroke-linecap:butt; stroke-linejoin:round; stroke-width:2; stroke-opacity:0.1; fill:none\" points=\"\n",
       "  1589.1,909.728 1589.1,47.2441 \n",
       "  \"/>\n",
       "<polyline clip-path=\"url(#clip132)\" style=\"stroke:#000000; stroke-linecap:butt; stroke-linejoin:round; stroke-width:2; stroke-opacity:0.1; fill:none\" points=\"\n",
       "  1957.47,909.728 1957.47,47.2441 \n",
       "  \"/>\n",
       "<polyline clip-path=\"url(#clip132)\" style=\"stroke:#000000; stroke-linecap:butt; stroke-linejoin:round; stroke-width:2; stroke-opacity:0.1; fill:none\" points=\"\n",
       "  2325.84,909.728 2325.84,47.2441 \n",
       "  \"/>\n",
       "<polyline clip-path=\"url(#clip132)\" style=\"stroke:#000000; stroke-linecap:butt; stroke-linejoin:round; stroke-width:2; stroke-opacity:0.1; fill:none\" points=\"\n",
       "  2694.21,909.728 2694.21,47.2441 \n",
       "  \"/>\n",
       "<polyline clip-path=\"url(#clip130)\" style=\"stroke:#000000; stroke-linecap:butt; stroke-linejoin:round; stroke-width:4; stroke-opacity:1; fill:none\" points=\"\n",
       "  199.936,909.728 2952.76,909.728 \n",
       "  \"/>\n",
       "<polyline clip-path=\"url(#clip130)\" style=\"stroke:#000000; stroke-linecap:butt; stroke-linejoin:round; stroke-width:4; stroke-opacity:1; fill:none\" points=\"\n",
       "  483.994,909.728 483.994,890.83 \n",
       "  \"/>\n",
       "<polyline clip-path=\"url(#clip130)\" style=\"stroke:#000000; stroke-linecap:butt; stroke-linejoin:round; stroke-width:4; stroke-opacity:1; fill:none\" points=\"\n",
       "  852.364,909.728 852.364,890.83 \n",
       "  \"/>\n",
       "<polyline clip-path=\"url(#clip130)\" style=\"stroke:#000000; stroke-linecap:butt; stroke-linejoin:round; stroke-width:4; stroke-opacity:1; fill:none\" points=\"\n",
       "  1220.73,909.728 1220.73,890.83 \n",
       "  \"/>\n",
       "<polyline clip-path=\"url(#clip130)\" style=\"stroke:#000000; stroke-linecap:butt; stroke-linejoin:round; stroke-width:4; stroke-opacity:1; fill:none\" points=\"\n",
       "  1589.1,909.728 1589.1,890.83 \n",
       "  \"/>\n",
       "<polyline clip-path=\"url(#clip130)\" style=\"stroke:#000000; stroke-linecap:butt; stroke-linejoin:round; stroke-width:4; stroke-opacity:1; fill:none\" points=\"\n",
       "  1957.47,909.728 1957.47,890.83 \n",
       "  \"/>\n",
       "<polyline clip-path=\"url(#clip130)\" style=\"stroke:#000000; stroke-linecap:butt; stroke-linejoin:round; stroke-width:4; stroke-opacity:1; fill:none\" points=\"\n",
       "  2325.84,909.728 2325.84,890.83 \n",
       "  \"/>\n",
       "<polyline clip-path=\"url(#clip130)\" style=\"stroke:#000000; stroke-linecap:butt; stroke-linejoin:round; stroke-width:4; stroke-opacity:1; fill:none\" points=\"\n",
       "  2694.21,909.728 2694.21,890.83 \n",
       "  \"/>\n",
       "<path clip-path=\"url(#clip130)\" d=\"M453.462 960.099 L483.138 960.099 L483.138 964.034 L453.462 964.034 L453.462 960.099 Z\" fill=\"#000000\" fill-rule=\"evenodd\" fill-opacity=\"1\" /><path clip-path=\"url(#clip130)\" d=\"M507.397 958.294 Q510.753 959.011 512.628 961.28 Q514.527 963.548 514.527 966.882 Q514.527 971.997 511.008 974.798 Q507.49 977.599 501.008 977.599 Q498.832 977.599 496.517 977.159 Q494.226 976.743 491.772 975.886 L491.772 971.372 Q493.716 972.507 496.031 973.085 Q498.346 973.664 500.869 973.664 Q505.267 973.664 507.559 971.928 Q509.874 970.192 509.874 966.882 Q509.874 963.826 507.721 962.113 Q505.591 960.377 501.772 960.377 L497.744 960.377 L497.744 956.534 L501.957 956.534 Q505.406 956.534 507.235 955.169 Q509.064 953.78 509.064 951.187 Q509.064 948.525 507.165 947.113 Q505.29 945.678 501.772 945.678 Q499.851 945.678 497.652 946.095 Q495.453 946.511 492.814 947.391 L492.814 943.224 Q495.476 942.484 497.791 942.113 Q500.128 941.743 502.189 941.743 Q507.513 941.743 510.615 944.173 Q513.716 946.581 513.716 950.701 Q513.716 953.572 512.073 955.562 Q510.429 957.53 507.397 958.294 Z\" fill=\"#000000\" fill-rule=\"evenodd\" fill-opacity=\"1\" /><path clip-path=\"url(#clip130)\" d=\"M822.306 960.099 L851.982 960.099 L851.982 964.034 L822.306 964.034 L822.306 960.099 Z\" fill=\"#000000\" fill-rule=\"evenodd\" fill-opacity=\"1\" /><path clip-path=\"url(#clip130)\" d=\"M866.102 972.993 L882.422 972.993 L882.422 976.928 L860.478 976.928 L860.478 972.993 Q863.14 970.238 867.723 965.608 Q872.329 960.956 873.51 959.613 Q875.755 957.09 876.635 955.354 Q877.538 953.595 877.538 951.905 Q877.538 949.15 875.593 947.414 Q873.672 945.678 870.57 945.678 Q868.371 945.678 865.917 946.442 Q863.487 947.206 860.709 948.757 L860.709 944.035 Q863.533 942.9 865.987 942.322 Q868.44 941.743 870.477 941.743 Q875.848 941.743 879.042 944.428 Q882.237 947.113 882.237 951.604 Q882.237 953.734 881.426 955.655 Q880.639 957.553 878.533 960.146 Q877.954 960.817 874.852 964.034 Q871.751 967.229 866.102 972.993 Z\" fill=\"#000000\" fill-rule=\"evenodd\" fill-opacity=\"1\" /><path clip-path=\"url(#clip130)\" d=\"M1190.49 960.099 L1220.17 960.099 L1220.17 964.034 L1190.49 964.034 L1190.49 960.099 Z\" fill=\"#000000\" fill-rule=\"evenodd\" fill-opacity=\"1\" /><path clip-path=\"url(#clip130)\" d=\"M1231.07 972.993 L1238.71 972.993 L1238.71 946.627 L1230.4 948.294 L1230.4 944.035 L1238.66 942.368 L1243.34 942.368 L1243.34 972.993 L1250.98 972.993 L1250.98 976.928 L1231.07 976.928 L1231.07 972.993 Z\" fill=\"#000000\" fill-rule=\"evenodd\" fill-opacity=\"1\" /><path clip-path=\"url(#clip130)\" d=\"M1589.1 945.447 Q1585.49 945.447 1583.66 949.011 Q1581.86 952.553 1581.86 959.683 Q1581.86 966.789 1583.66 970.354 Q1585.49 973.895 1589.1 973.895 Q1592.74 973.895 1594.54 970.354 Q1596.37 966.789 1596.37 959.683 Q1596.37 952.553 1594.54 949.011 Q1592.74 945.447 1589.1 945.447 M1589.1 941.743 Q1594.91 941.743 1597.97 946.349 Q1601.05 950.933 1601.05 959.683 Q1601.05 968.409 1597.97 973.016 Q1594.91 977.599 1589.1 977.599 Q1583.29 977.599 1580.21 973.016 Q1577.16 968.409 1577.16 959.683 Q1577.16 950.933 1580.21 946.349 Q1583.29 941.743 1589.1 941.743 Z\" fill=\"#000000\" fill-rule=\"evenodd\" fill-opacity=\"1\" /><path clip-path=\"url(#clip130)\" d=\"M1947.86 972.993 L1955.49 972.993 L1955.49 946.627 L1947.18 948.294 L1947.18 944.035 L1955.45 942.368 L1960.12 942.368 L1960.12 972.993 L1967.76 972.993 L1967.76 976.928 L1947.86 976.928 L1947.86 972.993 Z\" fill=\"#000000\" fill-rule=\"evenodd\" fill-opacity=\"1\" /><path clip-path=\"url(#clip130)\" d=\"M2320.5 972.993 L2336.82 972.993 L2336.82 976.928 L2314.87 976.928 L2314.87 972.993 Q2317.53 970.238 2322.12 965.608 Q2326.72 960.956 2327.9 959.613 Q2330.15 957.09 2331.03 955.354 Q2331.93 953.595 2331.93 951.905 Q2331.93 949.15 2329.99 947.414 Q2328.07 945.678 2324.96 945.678 Q2322.76 945.678 2320.31 946.442 Q2317.88 947.206 2315.1 948.757 L2315.1 944.035 Q2317.93 942.9 2320.38 942.322 Q2322.83 941.743 2324.87 941.743 Q2330.24 941.743 2333.44 944.428 Q2336.63 947.113 2336.63 951.604 Q2336.63 953.734 2335.82 955.655 Q2335.03 957.553 2332.93 960.146 Q2332.35 960.817 2329.25 964.034 Q2326.14 967.229 2320.5 972.993 Z\" fill=\"#000000\" fill-rule=\"evenodd\" fill-opacity=\"1\" /><path clip-path=\"url(#clip130)\" d=\"M2698.46 958.294 Q2701.82 959.011 2703.69 961.28 Q2705.59 963.548 2705.59 966.882 Q2705.59 971.997 2702.07 974.798 Q2698.55 977.599 2692.07 977.599 Q2689.9 977.599 2687.58 977.159 Q2685.29 976.743 2682.84 975.886 L2682.84 971.372 Q2684.78 972.507 2687.1 973.085 Q2689.41 973.664 2691.93 973.664 Q2696.33 973.664 2698.62 971.928 Q2700.94 970.192 2700.94 966.882 Q2700.94 963.826 2698.79 962.113 Q2696.66 960.377 2692.84 960.377 L2688.81 960.377 L2688.81 956.534 L2693.02 956.534 Q2696.47 956.534 2698.3 955.169 Q2700.13 953.78 2700.13 951.187 Q2700.13 948.525 2698.23 947.113 Q2696.35 945.678 2692.84 945.678 Q2690.91 945.678 2688.72 946.095 Q2686.52 946.511 2683.88 947.391 L2683.88 943.224 Q2686.54 942.484 2688.85 942.113 Q2691.19 941.743 2693.25 941.743 Q2698.58 941.743 2701.68 944.173 Q2704.78 946.581 2704.78 950.701 Q2704.78 953.572 2703.14 955.562 Q2701.49 957.53 2698.46 958.294 Z\" fill=\"#000000\" fill-rule=\"evenodd\" fill-opacity=\"1\" /><polyline clip-path=\"url(#clip132)\" style=\"stroke:#000000; stroke-linecap:butt; stroke-linejoin:round; stroke-width:2; stroke-opacity:0.1; fill:none\" points=\"\n",
       "  199.936,879.265 2952.76,879.265 \n",
       "  \"/>\n",
       "<polyline clip-path=\"url(#clip132)\" style=\"stroke:#000000; stroke-linecap:butt; stroke-linejoin:round; stroke-width:2; stroke-opacity:0.1; fill:none\" points=\"\n",
       "  199.936,695.08 2952.76,695.08 \n",
       "  \"/>\n",
       "<polyline clip-path=\"url(#clip132)\" style=\"stroke:#000000; stroke-linecap:butt; stroke-linejoin:round; stroke-width:2; stroke-opacity:0.1; fill:none\" points=\"\n",
       "  199.936,510.896 2952.76,510.896 \n",
       "  \"/>\n",
       "<polyline clip-path=\"url(#clip132)\" style=\"stroke:#000000; stroke-linecap:butt; stroke-linejoin:round; stroke-width:2; stroke-opacity:0.1; fill:none\" points=\"\n",
       "  199.936,326.711 2952.76,326.711 \n",
       "  \"/>\n",
       "<polyline clip-path=\"url(#clip132)\" style=\"stroke:#000000; stroke-linecap:butt; stroke-linejoin:round; stroke-width:2; stroke-opacity:0.1; fill:none\" points=\"\n",
       "  199.936,142.526 2952.76,142.526 \n",
       "  \"/>\n",
       "<polyline clip-path=\"url(#clip130)\" style=\"stroke:#000000; stroke-linecap:butt; stroke-linejoin:round; stroke-width:4; stroke-opacity:1; fill:none\" points=\"\n",
       "  199.936,909.728 199.936,47.2441 \n",
       "  \"/>\n",
       "<polyline clip-path=\"url(#clip130)\" style=\"stroke:#000000; stroke-linecap:butt; stroke-linejoin:round; stroke-width:4; stroke-opacity:1; fill:none\" points=\"\n",
       "  199.936,879.265 218.834,879.265 \n",
       "  \"/>\n",
       "<polyline clip-path=\"url(#clip130)\" style=\"stroke:#000000; stroke-linecap:butt; stroke-linejoin:round; stroke-width:4; stroke-opacity:1; fill:none\" points=\"\n",
       "  199.936,695.08 218.834,695.08 \n",
       "  \"/>\n",
       "<polyline clip-path=\"url(#clip130)\" style=\"stroke:#000000; stroke-linecap:butt; stroke-linejoin:round; stroke-width:4; stroke-opacity:1; fill:none\" points=\"\n",
       "  199.936,510.896 218.834,510.896 \n",
       "  \"/>\n",
       "<polyline clip-path=\"url(#clip130)\" style=\"stroke:#000000; stroke-linecap:butt; stroke-linejoin:round; stroke-width:4; stroke-opacity:1; fill:none\" points=\"\n",
       "  199.936,326.711 218.834,326.711 \n",
       "  \"/>\n",
       "<polyline clip-path=\"url(#clip130)\" style=\"stroke:#000000; stroke-linecap:butt; stroke-linejoin:round; stroke-width:4; stroke-opacity:1; fill:none\" points=\"\n",
       "  199.936,142.526 218.834,142.526 \n",
       "  \"/>\n",
       "<path clip-path=\"url(#clip130)\" d=\"M47.9921 879.717 L77.6679 879.717 L77.6679 883.652 L47.9921 883.652 L47.9921 879.717 Z\" fill=\"#000000\" fill-rule=\"evenodd\" fill-opacity=\"1\" /><path clip-path=\"url(#clip130)\" d=\"M88.5706 892.61 L96.2095 892.61 L96.2095 866.245 L87.8993 867.911 L87.8993 863.652 L96.1632 861.985 L100.839 861.985 L100.839 892.61 L108.478 892.61 L108.478 896.545 L88.5706 896.545 L88.5706 892.61 Z\" fill=\"#000000\" fill-rule=\"evenodd\" fill-opacity=\"1\" /><path clip-path=\"url(#clip130)\" d=\"M117.922 890.666 L122.807 890.666 L122.807 896.545 L117.922 896.545 L117.922 890.666 Z\" fill=\"#000000\" fill-rule=\"evenodd\" fill-opacity=\"1\" /><path clip-path=\"url(#clip130)\" d=\"M142.992 865.064 Q139.381 865.064 137.552 868.629 Q135.746 872.171 135.746 879.3 Q135.746 886.407 137.552 889.971 Q139.381 893.513 142.992 893.513 Q146.626 893.513 148.431 889.971 Q150.26 886.407 150.26 879.3 Q150.26 872.171 148.431 868.629 Q146.626 865.064 142.992 865.064 M142.992 861.36 Q148.802 861.36 151.857 865.967 Q154.936 870.55 154.936 879.3 Q154.936 888.027 151.857 892.633 Q148.802 897.217 142.992 897.217 Q137.181 897.217 134.103 892.633 Q131.047 888.027 131.047 879.3 Q131.047 870.55 134.103 865.967 Q137.181 861.36 142.992 861.36 Z\" fill=\"#000000\" fill-rule=\"evenodd\" fill-opacity=\"1\" /><path clip-path=\"url(#clip130)\" d=\"M48.9875 695.532 L78.6633 695.532 L78.6633 699.467 L48.9875 699.467 L48.9875 695.532 Z\" fill=\"#000000\" fill-rule=\"evenodd\" fill-opacity=\"1\" /><path clip-path=\"url(#clip130)\" d=\"M98.7557 680.879 Q95.1447 680.879 93.316 684.444 Q91.5104 687.986 91.5104 695.115 Q91.5104 702.222 93.316 705.786 Q95.1447 709.328 98.7557 709.328 Q102.39 709.328 104.196 705.786 Q106.024 702.222 106.024 695.115 Q106.024 687.986 104.196 684.444 Q102.39 680.879 98.7557 680.879 M98.7557 677.175 Q104.566 677.175 107.621 681.782 Q110.7 686.365 110.7 695.115 Q110.7 703.842 107.621 708.448 Q104.566 713.032 98.7557 713.032 Q92.9456 713.032 89.8669 708.448 Q86.8114 703.842 86.8114 695.115 Q86.8114 686.365 89.8669 681.782 Q92.9456 677.175 98.7557 677.175 Z\" fill=\"#000000\" fill-rule=\"evenodd\" fill-opacity=\"1\" /><path clip-path=\"url(#clip130)\" d=\"M118.918 706.481 L123.802 706.481 L123.802 712.36 L118.918 712.36 L118.918 706.481 Z\" fill=\"#000000\" fill-rule=\"evenodd\" fill-opacity=\"1\" /><path clip-path=\"url(#clip130)\" d=\"M134.033 677.8 L152.39 677.8 L152.39 681.736 L138.316 681.736 L138.316 690.208 Q139.334 689.861 140.353 689.699 Q141.371 689.513 142.39 689.513 Q148.177 689.513 151.556 692.685 Q154.936 695.856 154.936 701.273 Q154.936 706.851 151.464 709.953 Q147.992 713.032 141.672 713.032 Q139.496 713.032 137.228 712.661 Q134.982 712.291 132.575 711.55 L132.575 706.851 Q134.658 707.986 136.881 708.541 Q139.103 709.097 141.58 709.097 Q145.584 709.097 147.922 706.99 Q150.26 704.884 150.26 701.273 Q150.26 697.661 147.922 695.555 Q145.584 693.449 141.58 693.449 Q139.705 693.449 137.83 693.865 Q135.978 694.282 134.033 695.162 L134.033 677.8 Z\" fill=\"#000000\" fill-rule=\"evenodd\" fill-opacity=\"1\" /><path clip-path=\"url(#clip130)\" d=\"M97.7604 496.694 Q94.1493 496.694 92.3206 500.259 Q90.515 503.801 90.515 510.93 Q90.515 518.037 92.3206 521.602 Q94.1493 525.143 97.7604 525.143 Q101.395 525.143 103.2 521.602 Q105.029 518.037 105.029 510.93 Q105.029 503.801 103.2 500.259 Q101.395 496.694 97.7604 496.694 M97.7604 492.991 Q103.571 492.991 106.626 497.597 Q109.705 502.18 109.705 510.93 Q109.705 519.657 106.626 524.264 Q103.571 528.847 97.7604 528.847 Q91.9502 528.847 88.8715 524.264 Q85.816 519.657 85.816 510.93 Q85.816 502.18 88.8715 497.597 Q91.9502 492.991 97.7604 492.991 Z\" fill=\"#000000\" fill-rule=\"evenodd\" fill-opacity=\"1\" /><path clip-path=\"url(#clip130)\" d=\"M117.922 522.296 L122.807 522.296 L122.807 528.176 L117.922 528.176 L117.922 522.296 Z\" fill=\"#000000\" fill-rule=\"evenodd\" fill-opacity=\"1\" /><path clip-path=\"url(#clip130)\" d=\"M142.992 496.694 Q139.381 496.694 137.552 500.259 Q135.746 503.801 135.746 510.93 Q135.746 518.037 137.552 521.602 Q139.381 525.143 142.992 525.143 Q146.626 525.143 148.431 521.602 Q150.26 518.037 150.26 510.93 Q150.26 503.801 148.431 500.259 Q146.626 496.694 142.992 496.694 M142.992 492.991 Q148.802 492.991 151.857 497.597 Q154.936 502.18 154.936 510.93 Q154.936 519.657 151.857 524.264 Q148.802 528.847 142.992 528.847 Q137.181 528.847 134.103 524.264 Q131.047 519.657 131.047 510.93 Q131.047 502.18 134.103 497.597 Q137.181 492.991 142.992 492.991 Z\" fill=\"#000000\" fill-rule=\"evenodd\" fill-opacity=\"1\" /><path clip-path=\"url(#clip130)\" d=\"M98.7557 312.509 Q95.1447 312.509 93.316 316.074 Q91.5104 319.616 91.5104 326.745 Q91.5104 333.852 93.316 337.417 Q95.1447 340.958 98.7557 340.958 Q102.39 340.958 104.196 337.417 Q106.024 333.852 106.024 326.745 Q106.024 319.616 104.196 316.074 Q102.39 312.509 98.7557 312.509 M98.7557 308.806 Q104.566 308.806 107.621 313.412 Q110.7 317.995 110.7 326.745 Q110.7 335.472 107.621 340.079 Q104.566 344.662 98.7557 344.662 Q92.9456 344.662 89.8669 340.079 Q86.8114 335.472 86.8114 326.745 Q86.8114 317.995 89.8669 313.412 Q92.9456 308.806 98.7557 308.806 Z\" fill=\"#000000\" fill-rule=\"evenodd\" fill-opacity=\"1\" /><path clip-path=\"url(#clip130)\" d=\"M118.918 338.111 L123.802 338.111 L123.802 343.991 L118.918 343.991 L118.918 338.111 Z\" fill=\"#000000\" fill-rule=\"evenodd\" fill-opacity=\"1\" /><path clip-path=\"url(#clip130)\" d=\"M134.033 309.431 L152.39 309.431 L152.39 313.366 L138.316 313.366 L138.316 321.838 Q139.334 321.491 140.353 321.329 Q141.371 321.144 142.39 321.144 Q148.177 321.144 151.556 324.315 Q154.936 327.486 154.936 332.903 Q154.936 338.481 151.464 341.583 Q147.992 344.662 141.672 344.662 Q139.496 344.662 137.228 344.292 Q134.982 343.921 132.575 343.18 L132.575 338.481 Q134.658 339.616 136.881 340.171 Q139.103 340.727 141.58 340.727 Q145.584 340.727 147.922 338.62 Q150.26 336.514 150.26 332.903 Q150.26 329.292 147.922 327.185 Q145.584 325.079 141.58 325.079 Q139.705 325.079 137.83 325.495 Q135.978 325.912 134.033 326.792 L134.033 309.431 Z\" fill=\"#000000\" fill-rule=\"evenodd\" fill-opacity=\"1\" /><path clip-path=\"url(#clip130)\" d=\"M88.5706 155.871 L96.2095 155.871 L96.2095 129.505 L87.8993 131.172 L87.8993 126.912 L96.1632 125.246 L100.839 125.246 L100.839 155.871 L108.478 155.871 L108.478 159.806 L88.5706 159.806 L88.5706 155.871 Z\" fill=\"#000000\" fill-rule=\"evenodd\" fill-opacity=\"1\" /><path clip-path=\"url(#clip130)\" d=\"M117.922 153.926 L122.807 153.926 L122.807 159.806 L117.922 159.806 L117.922 153.926 Z\" fill=\"#000000\" fill-rule=\"evenodd\" fill-opacity=\"1\" /><path clip-path=\"url(#clip130)\" d=\"M142.992 128.324 Q139.381 128.324 137.552 131.889 Q135.746 135.431 135.746 142.56 Q135.746 149.667 137.552 153.232 Q139.381 156.773 142.992 156.773 Q146.626 156.773 148.431 153.232 Q150.26 149.667 150.26 142.56 Q150.26 135.431 148.431 131.889 Q146.626 128.324 142.992 128.324 M142.992 124.621 Q148.802 124.621 151.857 129.227 Q154.936 133.81 154.936 142.56 Q154.936 151.287 151.857 155.894 Q148.802 160.477 142.992 160.477 Q137.181 160.477 134.103 155.894 Q131.047 151.287 131.047 142.56 Q131.047 133.81 134.103 129.227 Q137.181 124.621 142.992 124.621 Z\" fill=\"#000000\" fill-rule=\"evenodd\" fill-opacity=\"1\" /><circle clip-path=\"url(#clip132)\" cx=\"1821.26\" cy=\"217.878\" r=\"14\" fill=\"#4682b4\" fill-rule=\"evenodd\" fill-opacity=\"1\" stroke=\"#000000\" stroke-opacity=\"1\" stroke-width=\"2\"/>\n",
       "<circle clip-path=\"url(#clip132)\" cx=\"1747.21\" cy=\"176.13\" r=\"14\" fill=\"#4682b4\" fill-rule=\"evenodd\" fill-opacity=\"1\" stroke=\"#000000\" stroke-opacity=\"1\" stroke-width=\"2\"/>\n",
       "<circle clip-path=\"url(#clip132)\" cx=\"1129.84\" cy=\"391.665\" r=\"14\" fill=\"#4682b4\" fill-rule=\"evenodd\" fill-opacity=\"1\" stroke=\"#000000\" stroke-opacity=\"1\" stroke-width=\"2\"/>\n",
       "<circle clip-path=\"url(#clip132)\" cx=\"1273.63\" cy=\"589.226\" r=\"14\" fill=\"#4682b4\" fill-rule=\"evenodd\" fill-opacity=\"1\" stroke=\"#000000\" stroke-opacity=\"1\" stroke-width=\"2\"/>\n",
       "<circle clip-path=\"url(#clip132)\" cx=\"1915.28\" cy=\"454.497\" r=\"14\" fill=\"#4682b4\" fill-rule=\"evenodd\" fill-opacity=\"1\" stroke=\"#000000\" stroke-opacity=\"1\" stroke-width=\"2\"/>\n",
       "<circle clip-path=\"url(#clip132)\" cx=\"1869.94\" cy=\"292.497\" r=\"14\" fill=\"#4682b4\" fill-rule=\"evenodd\" fill-opacity=\"1\" stroke=\"#000000\" stroke-opacity=\"1\" stroke-width=\"2\"/>\n",
       "<circle clip-path=\"url(#clip132)\" cx=\"1921.68\" cy=\"370.916\" r=\"14\" fill=\"#4682b4\" fill-rule=\"evenodd\" fill-opacity=\"1\" stroke=\"#000000\" stroke-opacity=\"1\" stroke-width=\"2\"/>\n",
       "<circle clip-path=\"url(#clip132)\" cx=\"1239.71\" cy=\"603.098\" r=\"14\" fill=\"#4682b4\" fill-rule=\"evenodd\" fill-opacity=\"1\" stroke=\"#000000\" stroke-opacity=\"1\" stroke-width=\"2\"/>\n",
       "<circle clip-path=\"url(#clip132)\" cx=\"1741.62\" cy=\"181.925\" r=\"14\" fill=\"#4682b4\" fill-rule=\"evenodd\" fill-opacity=\"1\" stroke=\"#000000\" stroke-opacity=\"1\" stroke-width=\"2\"/>\n",
       "<circle clip-path=\"url(#clip132)\" cx=\"1836.81\" cy=\"248.963\" r=\"14\" fill=\"#4682b4\" fill-rule=\"evenodd\" fill-opacity=\"1\" stroke=\"#000000\" stroke-opacity=\"1\" stroke-width=\"2\"/>\n",
       "<circle clip-path=\"url(#clip132)\" cx=\"1913.87\" cy=\"421.551\" r=\"14\" fill=\"#4682b4\" fill-rule=\"evenodd\" fill-opacity=\"1\" stroke=\"#000000\" stroke-opacity=\"1\" stroke-width=\"2\"/>\n",
       "<circle clip-path=\"url(#clip132)\" cx=\"1202.1\" cy=\"649.838\" r=\"14\" fill=\"#4682b4\" fill-rule=\"evenodd\" fill-opacity=\"1\" stroke=\"#000000\" stroke-opacity=\"1\" stroke-width=\"2\"/>\n",
       "<circle clip-path=\"url(#clip132)\" cx=\"1614.24\" cy=\"176.061\" r=\"14\" fill=\"#4682b4\" fill-rule=\"evenodd\" fill-opacity=\"1\" stroke=\"#000000\" stroke-opacity=\"1\" stroke-width=\"2\"/>\n",
       "<circle clip-path=\"url(#clip132)\" cx=\"1341.5\" cy=\"234.855\" r=\"14\" fill=\"#4682b4\" fill-rule=\"evenodd\" fill-opacity=\"1\" stroke=\"#000000\" stroke-opacity=\"1\" stroke-width=\"2\"/>\n",
       "<circle clip-path=\"url(#clip132)\" cx=\"1344.06\" cy=\"747.483\" r=\"14\" fill=\"#4682b4\" fill-rule=\"evenodd\" fill-opacity=\"1\" stroke=\"#000000\" stroke-opacity=\"1\" stroke-width=\"2\"/>\n",
       "<circle clip-path=\"url(#clip132)\" cx=\"1907.76\" cy=\"541.178\" r=\"14\" fill=\"#4682b4\" fill-rule=\"evenodd\" fill-opacity=\"1\" stroke=\"#000000\" stroke-opacity=\"1\" stroke-width=\"2\"/>\n",
       "<circle clip-path=\"url(#clip132)\" cx=\"1244.26\" cy=\"772.085\" r=\"14\" fill=\"#4682b4\" fill-rule=\"evenodd\" fill-opacity=\"1\" stroke=\"#000000\" stroke-opacity=\"1\" stroke-width=\"2\"/>\n",
       "<circle clip-path=\"url(#clip132)\" cx=\"1585.87\" cy=\"837.47\" r=\"14\" fill=\"#4682b4\" fill-rule=\"evenodd\" fill-opacity=\"1\" stroke=\"#000000\" stroke-opacity=\"1\" stroke-width=\"2\"/>\n",
       "<circle clip-path=\"url(#clip132)\" cx=\"1337.85\" cy=\"811.909\" r=\"14\" fill=\"#4682b4\" fill-rule=\"evenodd\" fill-opacity=\"1\" stroke=\"#000000\" stroke-opacity=\"1\" stroke-width=\"2\"/>\n",
       "<circle clip-path=\"url(#clip132)\" cx=\"1172.38\" cy=\"416.387\" r=\"14\" fill=\"#4682b4\" fill-rule=\"evenodd\" fill-opacity=\"1\" stroke=\"#000000\" stroke-opacity=\"1\" stroke-width=\"2\"/>\n",
       "<circle clip-path=\"url(#clip132)\" cx=\"1759.88\" cy=\"817.744\" r=\"14\" fill=\"#4682b4\" fill-rule=\"evenodd\" fill-opacity=\"1\" stroke=\"#000000\" stroke-opacity=\"1\" stroke-width=\"2\"/>\n",
       "<circle clip-path=\"url(#clip132)\" cx=\"1618.45\" cy=\"165.338\" r=\"14\" fill=\"#4682b4\" fill-rule=\"evenodd\" fill-opacity=\"1\" stroke=\"#000000\" stroke-opacity=\"1\" stroke-width=\"2\"/>\n",
       "<circle clip-path=\"url(#clip132)\" cx=\"1456.29\" cy=\"851.564\" r=\"14\" fill=\"#4682b4\" fill-rule=\"evenodd\" fill-opacity=\"1\" stroke=\"#000000\" stroke-opacity=\"1\" stroke-width=\"2\"/>\n",
       "<circle clip-path=\"url(#clip132)\" cx=\"1678.62\" cy=\"821.563\" r=\"14\" fill=\"#4682b4\" fill-rule=\"evenodd\" fill-opacity=\"1\" stroke=\"#000000\" stroke-opacity=\"1\" stroke-width=\"2\"/>\n",
       "<circle clip-path=\"url(#clip132)\" cx=\"1620\" cy=\"854.008\" r=\"14\" fill=\"#4682b4\" fill-rule=\"evenodd\" fill-opacity=\"1\" stroke=\"#000000\" stroke-opacity=\"1\" stroke-width=\"2\"/>\n",
       "<circle clip-path=\"url(#clip132)\" cx=\"1896.95\" cy=\"679.82\" r=\"14\" fill=\"#4682b4\" fill-rule=\"evenodd\" fill-opacity=\"1\" stroke=\"#000000\" stroke-opacity=\"1\" stroke-width=\"2\"/>\n",
       "<circle clip-path=\"url(#clip132)\" cx=\"1989.81\" cy=\"515.715\" r=\"14\" fill=\"#4682b4\" fill-rule=\"evenodd\" fill-opacity=\"1\" stroke=\"#000000\" stroke-opacity=\"1\" stroke-width=\"2\"/>\n",
       "<circle clip-path=\"url(#clip132)\" cx=\"1776.19\" cy=\"799.753\" r=\"14\" fill=\"#4682b4\" fill-rule=\"evenodd\" fill-opacity=\"1\" stroke=\"#000000\" stroke-opacity=\"1\" stroke-width=\"2\"/>\n",
       "<circle clip-path=\"url(#clip132)\" cx=\"1825.84\" cy=\"639.82\" r=\"14\" fill=\"#4682b4\" fill-rule=\"evenodd\" fill-opacity=\"1\" stroke=\"#000000\" stroke-opacity=\"1\" stroke-width=\"2\"/>\n",
       "<circle clip-path=\"url(#clip132)\" cx=\"1688.75\" cy=\"137.874\" r=\"14\" fill=\"#4682b4\" fill-rule=\"evenodd\" fill-opacity=\"1\" stroke=\"#000000\" stroke-opacity=\"1\" stroke-width=\"2\"/>\n",
       "<circle clip-path=\"url(#clip132)\" cx=\"1535.98\" cy=\"88.8344\" r=\"14\" fill=\"#4682b4\" fill-rule=\"evenodd\" fill-opacity=\"1\" stroke=\"#000000\" stroke-opacity=\"1\" stroke-width=\"2\"/>\n",
       "<circle clip-path=\"url(#clip132)\" cx=\"1529.11\" cy=\"817.493\" r=\"14\" fill=\"#4682b4\" fill-rule=\"evenodd\" fill-opacity=\"1\" stroke=\"#000000\" stroke-opacity=\"1\" stroke-width=\"2\"/>\n",
       "<circle clip-path=\"url(#clip132)\" cx=\"1706.26\" cy=\"786.969\" r=\"14\" fill=\"#4682b4\" fill-rule=\"evenodd\" fill-opacity=\"1\" stroke=\"#000000\" stroke-opacity=\"1\" stroke-width=\"2\"/>\n",
       "<circle clip-path=\"url(#clip132)\" cx=\"1929.58\" cy=\"659.142\" r=\"14\" fill=\"#4682b4\" fill-rule=\"evenodd\" fill-opacity=\"1\" stroke=\"#000000\" stroke-opacity=\"1\" stroke-width=\"2\"/>\n",
       "<circle clip-path=\"url(#clip132)\" cx=\"1861.07\" cy=\"641.858\" r=\"14\" fill=\"#4682b4\" fill-rule=\"evenodd\" fill-opacity=\"1\" stroke=\"#000000\" stroke-opacity=\"1\" stroke-width=\"2\"/>\n",
       "<circle clip-path=\"url(#clip132)\" cx=\"1353.55\" cy=\"706.553\" r=\"14\" fill=\"#4682b4\" fill-rule=\"evenodd\" fill-opacity=\"1\" stroke=\"#000000\" stroke-opacity=\"1\" stroke-width=\"2\"/>\n",
       "<circle clip-path=\"url(#clip132)\" cx=\"1188.22\" cy=\"530.802\" r=\"14\" fill=\"#4682b4\" fill-rule=\"evenodd\" fill-opacity=\"1\" stroke=\"#000000\" stroke-opacity=\"1\" stroke-width=\"2\"/>\n",
       "<circle clip-path=\"url(#clip132)\" cx=\"1532.42\" cy=\"871.45\" r=\"14\" fill=\"#4682b4\" fill-rule=\"evenodd\" fill-opacity=\"1\" stroke=\"#000000\" stroke-opacity=\"1\" stroke-width=\"2\"/>\n",
       "<circle clip-path=\"url(#clip132)\" cx=\"1263.88\" cy=\"661.456\" r=\"14\" fill=\"#4682b4\" fill-rule=\"evenodd\" fill-opacity=\"1\" stroke=\"#000000\" stroke-opacity=\"1\" stroke-width=\"2\"/>\n",
       "<circle clip-path=\"url(#clip132)\" cx=\"1234.67\" cy=\"694.28\" r=\"14\" fill=\"#4682b4\" fill-rule=\"evenodd\" fill-opacity=\"1\" stroke=\"#000000\" stroke-opacity=\"1\" stroke-width=\"2\"/>\n",
       "<circle clip-path=\"url(#clip132)\" cx=\"1846.32\" cy=\"665.522\" r=\"14\" fill=\"#4682b4\" fill-rule=\"evenodd\" fill-opacity=\"1\" stroke=\"#000000\" stroke-opacity=\"1\" stroke-width=\"2\"/>\n",
       "<circle clip-path=\"url(#clip132)\" cx=\"1158.03\" cy=\"403.257\" r=\"14\" fill=\"#4682b4\" fill-rule=\"evenodd\" fill-opacity=\"1\" stroke=\"#000000\" stroke-opacity=\"1\" stroke-width=\"2\"/>\n",
       "<circle clip-path=\"url(#clip132)\" cx=\"1940.59\" cy=\"524.29\" r=\"14\" fill=\"#4682b4\" fill-rule=\"evenodd\" fill-opacity=\"1\" stroke=\"#000000\" stroke-opacity=\"1\" stroke-width=\"2\"/>\n",
       "<circle clip-path=\"url(#clip132)\" cx=\"1196.9\" cy=\"628.348\" r=\"14\" fill=\"#4682b4\" fill-rule=\"evenodd\" fill-opacity=\"1\" stroke=\"#000000\" stroke-opacity=\"1\" stroke-width=\"2\"/>\n",
       "<circle clip-path=\"url(#clip132)\" cx=\"1783.66\" cy=\"794.62\" r=\"14\" fill=\"#4682b4\" fill-rule=\"evenodd\" fill-opacity=\"1\" stroke=\"#000000\" stroke-opacity=\"1\" stroke-width=\"2\"/>\n",
       "<circle clip-path=\"url(#clip132)\" cx=\"1552.7\" cy=\"855.087\" r=\"14\" fill=\"#4682b4\" fill-rule=\"evenodd\" fill-opacity=\"1\" stroke=\"#000000\" stroke-opacity=\"1\" stroke-width=\"2\"/>\n",
       "<circle clip-path=\"url(#clip132)\" cx=\"1570.85\" cy=\"136.372\" r=\"14\" fill=\"#4682b4\" fill-rule=\"evenodd\" fill-opacity=\"1\" stroke=\"#000000\" stroke-opacity=\"1\" stroke-width=\"2\"/>\n",
       "<circle clip-path=\"url(#clip132)\" cx=\"1624.13\" cy=\"163.011\" r=\"14\" fill=\"#4682b4\" fill-rule=\"evenodd\" fill-opacity=\"1\" stroke=\"#000000\" stroke-opacity=\"1\" stroke-width=\"2\"/>\n",
       "<circle clip-path=\"url(#clip132)\" cx=\"1534.13\" cy=\"841.844\" r=\"14\" fill=\"#4682b4\" fill-rule=\"evenodd\" fill-opacity=\"1\" stroke=\"#000000\" stroke-opacity=\"1\" stroke-width=\"2\"/>\n",
       "<circle clip-path=\"url(#clip132)\" cx=\"1315.66\" cy=\"279.916\" r=\"14\" fill=\"#4682b4\" fill-rule=\"evenodd\" fill-opacity=\"1\" stroke=\"#000000\" stroke-opacity=\"1\" stroke-width=\"2\"/>\n",
       "<circle clip-path=\"url(#clip132)\" cx=\"1892.1\" cy=\"581.453\" r=\"14\" fill=\"#4682b4\" fill-rule=\"evenodd\" fill-opacity=\"1\" stroke=\"#000000\" stroke-opacity=\"1\" stroke-width=\"2\"/>\n",
       "<circle clip-path=\"url(#clip132)\" cx=\"1587.36\" cy=\"774.099\" r=\"14\" fill=\"#4682b4\" fill-rule=\"evenodd\" fill-opacity=\"1\" stroke=\"#000000\" stroke-opacity=\"1\" stroke-width=\"2\"/>\n",
       "<circle clip-path=\"url(#clip132)\" cx=\"1289.02\" cy=\"745.536\" r=\"14\" fill=\"#4682b4\" fill-rule=\"evenodd\" fill-opacity=\"1\" stroke=\"#000000\" stroke-opacity=\"1\" stroke-width=\"2\"/>\n",
       "<circle clip-path=\"url(#clip132)\" cx=\"1380.43\" cy=\"94.9116\" r=\"14\" fill=\"#4682b4\" fill-rule=\"evenodd\" fill-opacity=\"1\" stroke=\"#000000\" stroke-opacity=\"1\" stroke-width=\"2\"/>\n",
       "<circle clip-path=\"url(#clip132)\" cx=\"1963.05\" cy=\"619.591\" r=\"14\" fill=\"#4682b4\" fill-rule=\"evenodd\" fill-opacity=\"1\" stroke=\"#000000\" stroke-opacity=\"1\" stroke-width=\"2\"/>\n",
       "<circle clip-path=\"url(#clip132)\" cx=\"1174.99\" cy=\"526.135\" r=\"14\" fill=\"#4682b4\" fill-rule=\"evenodd\" fill-opacity=\"1\" stroke=\"#000000\" stroke-opacity=\"1\" stroke-width=\"2\"/>\n",
       "<circle clip-path=\"url(#clip132)\" cx=\"1934.3\" cy=\"445.388\" r=\"14\" fill=\"#4682b4\" fill-rule=\"evenodd\" fill-opacity=\"1\" stroke=\"#000000\" stroke-opacity=\"1\" stroke-width=\"2\"/>\n",
       "<circle clip-path=\"url(#clip132)\" cx=\"1190.65\" cy=\"403.548\" r=\"14\" fill=\"#4682b4\" fill-rule=\"evenodd\" fill-opacity=\"1\" stroke=\"#000000\" stroke-opacity=\"1\" stroke-width=\"2\"/>\n",
       "<circle clip-path=\"url(#clip132)\" cx=\"1855.88\" cy=\"406.92\" r=\"14\" fill=\"#4682b4\" fill-rule=\"evenodd\" fill-opacity=\"1\" stroke=\"#000000\" stroke-opacity=\"1\" stroke-width=\"2\"/>\n",
       "<circle clip-path=\"url(#clip132)\" cx=\"1645.55\" cy=\"821.75\" r=\"14\" fill=\"#4682b4\" fill-rule=\"evenodd\" fill-opacity=\"1\" stroke=\"#000000\" stroke-opacity=\"1\" stroke-width=\"2\"/>\n",
       "<circle clip-path=\"url(#clip132)\" cx=\"1751.55\" cy=\"764.497\" r=\"14\" fill=\"#4682b4\" fill-rule=\"evenodd\" fill-opacity=\"1\" stroke=\"#000000\" stroke-opacity=\"1\" stroke-width=\"2\"/>\n",
       "<circle clip-path=\"url(#clip132)\" cx=\"1219.26\" cy=\"607.041\" r=\"14\" fill=\"#4682b4\" fill-rule=\"evenodd\" fill-opacity=\"1\" stroke=\"#000000\" stroke-opacity=\"1\" stroke-width=\"2\"/>\n",
       "<circle clip-path=\"url(#clip132)\" cx=\"1898.8\" cy=\"668.705\" r=\"14\" fill=\"#4682b4\" fill-rule=\"evenodd\" fill-opacity=\"1\" stroke=\"#000000\" stroke-opacity=\"1\" stroke-width=\"2\"/>\n",
       "<circle clip-path=\"url(#clip132)\" cx=\"1817.97\" cy=\"141.67\" r=\"14\" fill=\"#4682b4\" fill-rule=\"evenodd\" fill-opacity=\"1\" stroke=\"#000000\" stroke-opacity=\"1\" stroke-width=\"2\"/>\n",
       "<circle clip-path=\"url(#clip132)\" cx=\"1233.51\" cy=\"415.184\" r=\"14\" fill=\"#4682b4\" fill-rule=\"evenodd\" fill-opacity=\"1\" stroke=\"#000000\" stroke-opacity=\"1\" stroke-width=\"2\"/>\n",
       "<circle clip-path=\"url(#clip132)\" cx=\"2022.85\" cy=\"671.381\" r=\"14\" fill=\"#4682b4\" fill-rule=\"evenodd\" fill-opacity=\"1\" stroke=\"#000000\" stroke-opacity=\"1\" stroke-width=\"2\"/>\n",
       "<circle clip-path=\"url(#clip132)\" cx=\"1385.73\" cy=\"71.654\" r=\"14\" fill=\"#4682b4\" fill-rule=\"evenodd\" fill-opacity=\"1\" stroke=\"#000000\" stroke-opacity=\"1\" stroke-width=\"2\"/>\n",
       "<circle clip-path=\"url(#clip132)\" cx=\"1694.24\" cy=\"852.747\" r=\"14\" fill=\"#4682b4\" fill-rule=\"evenodd\" fill-opacity=\"1\" stroke=\"#000000\" stroke-opacity=\"1\" stroke-width=\"2\"/>\n",
       "<circle clip-path=\"url(#clip132)\" cx=\"1361.74\" cy=\"119.504\" r=\"14\" fill=\"#4682b4\" fill-rule=\"evenodd\" fill-opacity=\"1\" stroke=\"#000000\" stroke-opacity=\"1\" stroke-width=\"2\"/>\n",
       "<circle clip-path=\"url(#clip132)\" cx=\"1790.35\" cy=\"237.072\" r=\"14\" fill=\"#4682b4\" fill-rule=\"evenodd\" fill-opacity=\"1\" stroke=\"#000000\" stroke-opacity=\"1\" stroke-width=\"2\"/>\n",
       "<circle clip-path=\"url(#clip132)\" cx=\"1815.45\" cy=\"735.903\" r=\"14\" fill=\"#4682b4\" fill-rule=\"evenodd\" fill-opacity=\"1\" stroke=\"#000000\" stroke-opacity=\"1\" stroke-width=\"2\"/>\n",
       "<circle clip-path=\"url(#clip132)\" cx=\"1783.32\" cy=\"209.236\" r=\"14\" fill=\"#4682b4\" fill-rule=\"evenodd\" fill-opacity=\"1\" stroke=\"#000000\" stroke-opacity=\"1\" stroke-width=\"2\"/>\n",
       "<circle clip-path=\"url(#clip132)\" cx=\"1954.77\" cy=\"343.074\" r=\"14\" fill=\"#4682b4\" fill-rule=\"evenodd\" fill-opacity=\"1\" stroke=\"#000000\" stroke-opacity=\"1\" stroke-width=\"2\"/>\n",
       "<circle clip-path=\"url(#clip132)\" cx=\"1286.33\" cy=\"258.127\" r=\"14\" fill=\"#4682b4\" fill-rule=\"evenodd\" fill-opacity=\"1\" stroke=\"#000000\" stroke-opacity=\"1\" stroke-width=\"2\"/>\n",
       "<circle clip-path=\"url(#clip132)\" cx=\"1706.28\" cy=\"815.936\" r=\"14\" fill=\"#4682b4\" fill-rule=\"evenodd\" fill-opacity=\"1\" stroke=\"#000000\" stroke-opacity=\"1\" stroke-width=\"2\"/>\n",
       "<circle clip-path=\"url(#clip132)\" cx=\"1201.02\" cy=\"340.347\" r=\"14\" fill=\"#4682b4\" fill-rule=\"evenodd\" fill-opacity=\"1\" stroke=\"#000000\" stroke-opacity=\"1\" stroke-width=\"2\"/>\n",
       "<circle clip-path=\"url(#clip132)\" cx=\"1856.73\" cy=\"296.578\" r=\"14\" fill=\"#4682b4\" fill-rule=\"evenodd\" fill-opacity=\"1\" stroke=\"#000000\" stroke-opacity=\"1\" stroke-width=\"2\"/>\n",
       "<circle clip-path=\"url(#clip132)\" cx=\"1281.84\" cy=\"404.468\" r=\"14\" fill=\"#4682b4\" fill-rule=\"evenodd\" fill-opacity=\"1\" stroke=\"#000000\" stroke-opacity=\"1\" stroke-width=\"2\"/>\n",
       "<circle clip-path=\"url(#clip132)\" cx=\"1527.36\" cy=\"151.452\" r=\"14\" fill=\"#4682b4\" fill-rule=\"evenodd\" fill-opacity=\"1\" stroke=\"#000000\" stroke-opacity=\"1\" stroke-width=\"2\"/>\n",
       "<circle clip-path=\"url(#clip132)\" cx=\"1324.26\" cy=\"769.955\" r=\"14\" fill=\"#4682b4\" fill-rule=\"evenodd\" fill-opacity=\"1\" stroke=\"#000000\" stroke-opacity=\"1\" stroke-width=\"2\"/>\n",
       "<circle clip-path=\"url(#clip132)\" cx=\"1713.64\" cy=\"102.029\" r=\"14\" fill=\"#4682b4\" fill-rule=\"evenodd\" fill-opacity=\"1\" stroke=\"#000000\" stroke-opacity=\"1\" stroke-width=\"2\"/>\n",
       "<circle clip-path=\"url(#clip132)\" cx=\"1756.94\" cy=\"134.501\" r=\"14\" fill=\"#4682b4\" fill-rule=\"evenodd\" fill-opacity=\"1\" stroke=\"#000000\" stroke-opacity=\"1\" stroke-width=\"2\"/>\n",
       "<circle clip-path=\"url(#clip132)\" cx=\"1252.68\" cy=\"632.408\" r=\"14\" fill=\"#4682b4\" fill-rule=\"evenodd\" fill-opacity=\"1\" stroke=\"#000000\" stroke-opacity=\"1\" stroke-width=\"2\"/>\n",
       "<circle clip-path=\"url(#clip132)\" cx=\"1748.13\" cy=\"100.958\" r=\"14\" fill=\"#4682b4\" fill-rule=\"evenodd\" fill-opacity=\"1\" stroke=\"#000000\" stroke-opacity=\"1\" stroke-width=\"2\"/>\n",
       "<circle clip-path=\"url(#clip132)\" cx=\"1841.23\" cy=\"669.276\" r=\"14\" fill=\"#4682b4\" fill-rule=\"evenodd\" fill-opacity=\"1\" stroke=\"#000000\" stroke-opacity=\"1\" stroke-width=\"2\"/>\n",
       "<circle clip-path=\"url(#clip132)\" cx=\"1197.88\" cy=\"337.079\" r=\"14\" fill=\"#4682b4\" fill-rule=\"evenodd\" fill-opacity=\"1\" stroke=\"#000000\" stroke-opacity=\"1\" stroke-width=\"2\"/>\n",
       "<circle clip-path=\"url(#clip132)\" cx=\"1706.04\" cy=\"204.114\" r=\"14\" fill=\"#4682b4\" fill-rule=\"evenodd\" fill-opacity=\"1\" stroke=\"#000000\" stroke-opacity=\"1\" stroke-width=\"2\"/>\n",
       "<circle clip-path=\"url(#clip132)\" cx=\"1658.66\" cy=\"820.889\" r=\"14\" fill=\"#4682b4\" fill-rule=\"evenodd\" fill-opacity=\"1\" stroke=\"#000000\" stroke-opacity=\"1\" stroke-width=\"2\"/>\n",
       "<circle clip-path=\"url(#clip132)\" cx=\"1465.6\" cy=\"885.318\" r=\"14\" fill=\"#4682b4\" fill-rule=\"evenodd\" fill-opacity=\"1\" stroke=\"#000000\" stroke-opacity=\"1\" stroke-width=\"2\"/>\n",
       "<circle clip-path=\"url(#clip132)\" cx=\"1423.29\" cy=\"89.3643\" r=\"14\" fill=\"#4682b4\" fill-rule=\"evenodd\" fill-opacity=\"1\" stroke=\"#000000\" stroke-opacity=\"1\" stroke-width=\"2\"/>\n",
       "<circle clip-path=\"url(#clip132)\" cx=\"1952.65\" cy=\"593.023\" r=\"14\" fill=\"#4682b4\" fill-rule=\"evenodd\" fill-opacity=\"1\" stroke=\"#000000\" stroke-opacity=\"1\" stroke-width=\"2\"/>\n",
       "<circle clip-path=\"url(#clip132)\" cx=\"1398.77\" cy=\"787.845\" r=\"14\" fill=\"#4682b4\" fill-rule=\"evenodd\" fill-opacity=\"1\" stroke=\"#000000\" stroke-opacity=\"1\" stroke-width=\"2\"/>\n",
       "<circle clip-path=\"url(#clip132)\" cx=\"1430.83\" cy=\"816.991\" r=\"14\" fill=\"#4682b4\" fill-rule=\"evenodd\" fill-opacity=\"1\" stroke=\"#000000\" stroke-opacity=\"1\" stroke-width=\"2\"/>\n",
       "<circle clip-path=\"url(#clip132)\" cx=\"1833.08\" cy=\"691.323\" r=\"14\" fill=\"#4682b4\" fill-rule=\"evenodd\" fill-opacity=\"1\" stroke=\"#000000\" stroke-opacity=\"1\" stroke-width=\"2\"/>\n",
       "<circle clip-path=\"url(#clip132)\" cx=\"1791.25\" cy=\"199.741\" r=\"14\" fill=\"#4682b4\" fill-rule=\"evenodd\" fill-opacity=\"1\" stroke=\"#000000\" stroke-opacity=\"1\" stroke-width=\"2\"/>\n",
       "<circle clip-path=\"url(#clip132)\" cx=\"1347.56\" cy=\"181.033\" r=\"14\" fill=\"#4682b4\" fill-rule=\"evenodd\" fill-opacity=\"1\" stroke=\"#000000\" stroke-opacity=\"1\" stroke-width=\"2\"/>\n",
       "<circle clip-path=\"url(#clip132)\" cx=\"1885\" cy=\"274.799\" r=\"14\" fill=\"#4682b4\" fill-rule=\"evenodd\" fill-opacity=\"1\" stroke=\"#000000\" stroke-opacity=\"1\" stroke-width=\"2\"/>\n",
       "<circle clip-path=\"url(#clip132)\" cx=\"1225.85\" cy=\"396.986\" r=\"14\" fill=\"#4682b4\" fill-rule=\"evenodd\" fill-opacity=\"1\" stroke=\"#000000\" stroke-opacity=\"1\" stroke-width=\"2\"/>\n",
       "<circle clip-path=\"url(#clip132)\" cx=\"1599.64\" cy=\"849.128\" r=\"14\" fill=\"#4682b4\" fill-rule=\"evenodd\" fill-opacity=\"1\" stroke=\"#000000\" stroke-opacity=\"1\" stroke-width=\"2\"/>\n",
       "<circle clip-path=\"url(#clip132)\" cx=\"1725.54\" cy=\"858.971\" r=\"14\" fill=\"#4682b4\" fill-rule=\"evenodd\" fill-opacity=\"1\" stroke=\"#000000\" stroke-opacity=\"1\" stroke-width=\"2\"/>\n",
       "</svg>\n"
      ]
     },
     "execution_count": 156,
     "metadata": {},
     "output_type": "execute_result"
    }
   ],
   "source": [
    "X_mat = hcat(X...);\n",
    "scatter(X_mat[1,:], X_mat[2,:], \n",
    "        color = :steelblue, size = (750,250), aspect_ratio = :equal, legend = false)"
   ]
  },
  {
   "cell_type": "markdown",
   "metadata": {},
   "source": [
    "We suspect that there is a polynomial of degree 2 vanishing on the data set.\n",
    "\n",
    "To detect this using PCA we introduce the feature map $\\phi :\\mathbb R^2 \\to \\mathbb R^6$ that sends $x$ to all monomials of degree at most 2 in $x$."
   ]
  },
  {
   "cell_type": "code",
   "execution_count": 151,
   "metadata": {},
   "outputs": [
    {
     "data": {
      "text/plain": [
       "ϕ (generic function with 1 method)"
      ]
     },
     "execution_count": 151,
     "metadata": {},
     "output_type": "execute_result"
    }
   ],
   "source": [
    "ϕ(x) = [1; x[1]; x[2]; x[1]*x[2]; x[1]^2; x[2]^2]"
   ]
  },
  {
   "cell_type": "markdown",
   "metadata": {},
   "source": [
    "The corresponding feature matrix is $\\Omega$."
   ]
  },
  {
   "cell_type": "code",
   "execution_count": 152,
   "metadata": {},
   "outputs": [],
   "source": [
    "Ω = hcat(map(ϕ, X)...) |> transpose;"
   ]
  },
  {
   "cell_type": "markdown",
   "metadata": {},
   "source": [
    "Let us compute a singular value decomposition of $\\Omega$.\n",
    "\n",
    "We extract the singular values in the array `svals`."
   ]
  },
  {
   "cell_type": "code",
   "execution_count": 153,
   "metadata": {},
   "outputs": [],
   "source": [
    "S = svd(Ω)\n",
    "svals = S.S;"
   ]
  },
  {
   "cell_type": "markdown",
   "metadata": {},
   "source": [
    "The normalized differences of the entries of `svals` are"
   ]
  },
  {
   "cell_type": "code",
   "execution_count": 154,
   "metadata": {},
   "outputs": [
    {
     "data": {
      "text/plain": [
       "5-element Vector{Float64}:\n",
       " -0.6921387421559912\n",
       " -0.030353644654756727\n",
       " -0.3813061188478873\n",
       " -0.43181192826603276\n",
       " -2.11110892734877"
      ]
     },
     "execution_count": 154,
     "metadata": {},
     "output_type": "execute_result"
    }
   ],
   "source": [
    "diff(svals) ./ svals[2:end]"
   ]
  },
  {
   "cell_type": "markdown",
   "metadata": {},
   "source": [
    "It seems that there is significant gap when passing from the 5th to the 6th singular value.\n",
    "\n",
    "Let us check the singular vector corresponding to the 6th singular value."
   ]
  },
  {
   "cell_type": "code",
   "execution_count": 155,
   "metadata": {},
   "outputs": [
    {
     "name": "stdout",
     "output_type": "stream",
     "text": [
      "-0.989 + 0.134 x₁ + -0.171 x₂ + 0.074 x₁x₂ + 0.943 x₁²+ 1.0 x₂²\n"
     ]
    }
   ],
   "source": [
    "u = S.V[:, 6] \n",
    "f = round.(u ./ u[end], digits = 3)\n",
    "println(\"$(f[1]) + $(f[2]) x₁ + $(f[3]) x₂ + $(f[4]) x₁x₂ + $(f[5]) x₁²+ $(f[6]) x₂²\")"
   ]
  },
  {
   "cell_type": "markdown",
   "metadata": {},
   "source": [
    "This is close to the actual equation $-1 + x_1^2 + x_2^2 = 0$."
   ]
  },
  {
   "cell_type": "markdown",
   "metadata": {},
   "source": [
    "# Geometry of Images\n",
    "\n",
    "Let us next consider data from the [CIFAR10](http://www.cs.toronto.edu/~kriz/cifar.html) dataset."
   ]
  },
  {
   "cell_type": "code",
   "execution_count": 158,
   "metadata": {},
   "outputs": [],
   "source": [
    "data_X, data_Y = CIFAR10.traindata();"
   ]
  },
  {
   "cell_type": "markdown",
   "metadata": {},
   "source": [
    "The dataset contains images of 10 classes of objects:"
   ]
  },
  {
   "cell_type": "code",
   "execution_count": 159,
   "metadata": {},
   "outputs": [],
   "source": [
    "labels = [\"airplane\", \n",
    "          \"automobile\", \n",
    "          \"bird\", \n",
    "          \"cat\", \n",
    "          \"deer\", \n",
    "          \"dog\", \n",
    "          \"frog\", \n",
    "          \"horse\", \n",
    "          \"ship\", \n",
    "          \"truck\"];"
   ]
  },
  {
   "cell_type": "markdown",
   "metadata": {},
   "source": [
    "Let us take the subsset consisting of images of trucks."
   ]
  },
  {
   "cell_type": "code",
   "execution_count": 160,
   "metadata": {},
   "outputs": [],
   "source": [
    "idx = findfirst(labels .== \"truck\") - 1\n",
    "trucks = data_X[:,:,:, data_Y .== idx];"
   ]
  },
  {
   "cell_type": "markdown",
   "metadata": {},
   "source": [
    "We now have 5000 images of trucks."
   ]
  },
  {
   "cell_type": "code",
   "execution_count": 161,
   "metadata": {},
   "outputs": [
    {
     "data": {
      "text/plain": [
       "5000"
      ]
     },
     "execution_count": 161,
     "metadata": {},
     "output_type": "execute_result"
    }
   ],
   "source": [
    "n_images = size(trucks, 4)"
   ]
  },
  {
   "cell_type": "markdown",
   "metadata": {},
   "source": [
    "Each image consists of $D=32 \\cdot 32 \\cdot 3 = 3072$ numerical values. \n",
    "\n",
    "They represent the RGB values of $32\\times 32$ pixels.\n",
    "\n",
    "Thus, we have data in $\\mathbb R^D$."
   ]
  },
  {
   "cell_type": "code",
   "execution_count": 162,
   "metadata": {},
   "outputs": [
    {
     "data": {
      "text/plain": [
       "3072"
      ]
     },
     "execution_count": 162,
     "metadata": {},
     "output_type": "execute_result"
    }
   ],
   "source": [
    "D = 32 * 32 * 3"
   ]
  },
  {
   "cell_type": "markdown",
   "metadata": {},
   "source": [
    "Let us consider a subset $X$ of 500 data points."
   ]
  },
  {
   "cell_type": "code",
   "execution_count": 163,
   "metadata": {},
   "outputs": [],
   "source": [
    "n = 500\n",
    "subsample = sample(1:n_images, n, replace = false)\n",
    "\n",
    "X = map(subsample) do i\n",
    "    xᵢ = vec(trucks[:,:,:,i])\n",
    "    Float64.(xᵢ)\n",
    "    end;"
   ]
  },
  {
   "cell_type": "markdown",
   "metadata": {},
   "source": [
    "We normalize the data."
   ]
  },
  {
   "cell_type": "code",
   "execution_count": 164,
   "metadata": {},
   "outputs": [],
   "source": [
    "x̄ = mean(X);\n",
    "stds = std(X);\n",
    "X = map(x -> (x - x̄) ./ stds, X);"
   ]
  },
  {
   "cell_type": "markdown",
   "metadata": {},
   "source": [
    "Let us take a look at a random subset of 6 images from our data."
   ]
  },
  {
   "cell_type": "code",
   "execution_count": 18,
   "metadata": {},
   "outputs": [
    {
     "data": {
      "text/html": [
       "<table><tbody><tr><td style='text-align:center;vertical-align:middle; margin: 0.5em;border:1px #90999f solid;border-collapse:collapse'><img style='max-width: 100px; max-height:100px;display:inline' src=\"data:image/png;base64,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\"></td><td style='text-align:center;vertical-align:middle; margin: 0.5em;border:1px #90999f solid;border-collapse:collapse'><img style='max-width: 100px; max-height:100px;display:inline' src=\"data:image/png;base64,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\"></td><td style='text-align:center;vertical-align:middle; margin: 0.5em;border:1px #90999f solid;border-collapse:collapse'><img style='max-width: 100px; max-height:100px;display:inline' src=\"data:image/png;base64,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\"></td><td style='text-align:center;vertical-align:middle; margin: 0.5em;border:1px #90999f solid;border-collapse:collapse'><img style='max-width: 100px; max-height:100px;display:inline' src=\"data:image/png;base64,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\"></td><td style='text-align:center;vertical-align:middle; margin: 0.5em;border:1px #90999f solid;border-collapse:collapse'><img style='max-width: 100px; max-height:100px;display:inline' src=\"data:image/png;base64,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\"></td><td style='text-align:center;vertical-align:middle; margin: 0.5em;border:1px #90999f solid;border-collapse:collapse'><img style='max-width: 100px; max-height:100px;display:inline' src=\"data:image/png;base64,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\"></td></tr></tbody></table><div><small>(a vector displayed as a row to save space)</small></div>"
      ],
      "text/plain": [
       "6-element Vector{Base.ReinterpretArray{RGB{N0f8}, 2, N0f8, Array{N0f8, 3}, true}}:\n",
       " [RGB{N0f8}(0.694,0.698,0.776) RGB{N0f8}(0.694,0.698,0.776) … RGB{N0f8}(0.925,0.937,0.973) RGB{N0f8}(0.922,0.929,0.973); RGB{N0f8}(0.694,0.698,0.776) RGB{N0f8}(0.694,0.698,0.776) … RGB{N0f8}(0.918,0.925,0.965) RGB{N0f8}(0.906,0.914,0.961); … ; RGB{N0f8}(0.435,0.357,0.31) RGB{N0f8}(0.408,0.337,0.278) … RGB{N0f8}(0.459,0.38,0.314) RGB{N0f8}(0.463,0.376,0.31); RGB{N0f8}(0.416,0.353,0.29) RGB{N0f8}(0.424,0.357,0.294) … RGB{N0f8}(0.475,0.404,0.322) RGB{N0f8}(0.447,0.384,0.29)]\n",
       " [RGB{N0f8}(0.318,0.576,0.867) RGB{N0f8}(0.31,0.565,0.851) … RGB{N0f8}(0.322,0.58,0.863) RGB{N0f8}(0.325,0.584,0.867); RGB{N0f8}(0.333,0.6,0.886) RGB{N0f8}(0.325,0.588,0.867) … RGB{N0f8}(0.337,0.6,0.882) RGB{N0f8}(0.341,0.604,0.886); … ; RGB{N0f8}(0.655,0.549,0.42) RGB{N0f8}(0.659,0.557,0.427) … RGB{N0f8}(0.776,0.698,0.588) RGB{N0f8}(0.8,0.718,0.62); RGB{N0f8}(0.627,0.525,0.396) RGB{N0f8}(0.647,0.545,0.42) … RGB{N0f8}(0.804,0.725,0.647) RGB{N0f8}(0.816,0.733,0.667)]\n",
       " [RGB{N0f8}(0.976,0.992,0.984) RGB{N0f8}(0.929,0.941,0.965) … RGB{N0f8}(0.949,0.949,0.973) RGB{N0f8}(0.984,0.98,1.0); RGB{N0f8}(0.984,1.0,0.98) RGB{N0f8}(0.871,0.882,0.918) … RGB{N0f8}(0.843,0.839,0.918) RGB{N0f8}(0.965,0.961,0.992); … ; RGB{N0f8}(0.992,1.0,0.988) RGB{N0f8}(0.969,0.976,0.965) … RGB{N0f8}(0.937,0.933,0.918) RGB{N0f8}(0.996,0.996,0.98); RGB{N0f8}(0.98,0.992,0.988) RGB{N0f8}(0.961,0.973,0.969) … RGB{N0f8}(0.965,0.976,0.957) RGB{N0f8}(0.98,0.996,0.973)]\n",
       " [RGB{N0f8}(1.0,1.0,0.992) RGB{N0f8}(0.988,0.98,0.988) … RGB{N0f8}(0.988,0.988,0.988) RGB{N0f8}(1.0,1.0,1.0); RGB{N0f8}(1.0,1.0,1.0) RGB{N0f8}(1.0,0.992,1.0) … RGB{N0f8}(1.0,1.0,1.0) RGB{N0f8}(1.0,1.0,1.0); … ; RGB{N0f8}(0.42,0.376,0.333) RGB{N0f8}(0.416,0.376,0.329) … RGB{N0f8}(0.494,0.463,0.455) RGB{N0f8}(0.486,0.455,0.447); RGB{N0f8}(0.439,0.404,0.373) RGB{N0f8}(0.451,0.416,0.38) … RGB{N0f8}(0.471,0.439,0.431) RGB{N0f8}(0.467,0.435,0.427)]\n",
       " [RGB{N0f8}(0.333,0.451,0.651) RGB{N0f8}(0.329,0.447,0.639) … RGB{N0f8}(0.322,0.447,0.655) RGB{N0f8}(0.329,0.443,0.643); RGB{N0f8}(0.357,0.478,0.675) RGB{N0f8}(0.349,0.471,0.663) … RGB{N0f8}(0.333,0.475,0.686) RGB{N0f8}(0.329,0.478,0.694); … ; RGB{N0f8}(0.369,0.376,0.4) RGB{N0f8}(0.286,0.275,0.282) … RGB{N0f8}(0.212,0.231,0.278) RGB{N0f8}(0.216,0.235,0.278); RGB{N0f8}(0.373,0.388,0.412) RGB{N0f8}(0.329,0.333,0.349) … RGB{N0f8}(0.235,0.251,0.29) RGB{N0f8}(0.243,0.259,0.298)]\n",
       " [RGB{N0f8}(0.965,0.965,1.0) RGB{N0f8}(0.98,0.973,0.98) … RGB{N0f8}(0.8,0.851,0.894) RGB{N0f8}(0.757,0.831,0.875); RGB{N0f8}(0.98,0.984,1.0) RGB{N0f8}(0.996,0.988,0.992) … RGB{N0f8}(0.82,0.871,0.918) RGB{N0f8}(0.773,0.847,0.894); … ; RGB{N0f8}(0.725,0.835,0.847) RGB{N0f8}(0.733,0.835,0.843) … RGB{N0f8}(0.475,0.569,0.592) RGB{N0f8}(0.475,0.584,0.608); RGB{N0f8}(0.686,0.808,0.82) RGB{N0f8}(0.69,0.808,0.816) … RGB{N0f8}(0.447,0.553,0.584) RGB{N0f8}(0.439,0.561,0.588)]"
      ]
     },
     "execution_count": 18,
     "metadata": {},
     "output_type": "execute_result"
    }
   ],
   "source": [
    "k = rand(subsample, 6)\n",
    "[CIFAR10.convert2image(trucks[:,:,:,i]) for i in k]"
   ]
  },
  {
   "cell_type": "markdown",
   "metadata": {},
   "source": [
    "We now want to see if there could be a polynomial equation of degree $k=4$ vanishing on the data.\n",
    "\n",
    "For this, we define the kernel map."
   ]
  },
  {
   "cell_type": "code",
   "execution_count": 173,
   "metadata": {},
   "outputs": [
    {
     "data": {
      "text/plain": [
       "κ (generic function with 1 method)"
      ]
     },
     "execution_count": 173,
     "metadata": {},
     "output_type": "execute_result"
    }
   ],
   "source": [
    "k = 4\n",
    "κ(x₁, x₂) = (x₁ ⋅ x₂ + 1)^k"
   ]
  },
  {
   "cell_type": "markdown",
   "metadata": {},
   "source": [
    "Next, we compute the matrix $R:=W^TW$ from the lecture notes."
   ]
  },
  {
   "cell_type": "code",
   "execution_count": 174,
   "metadata": {},
   "outputs": [],
   "source": [
    "e = ones(n);\n",
    "P = diagm(e) - (1/n) .* (e*e');\n",
    "G = [κ(x₁, x₂) for (x₁, x₂) in product(X,X)]\n",
    "\n",
    "R = P * G * P;"
   ]
  },
  {
   "cell_type": "markdown",
   "metadata": {},
   "source": [
    "We compute the eigenvalues of $R$"
   ]
  },
  {
   "cell_type": "code",
   "execution_count": 175,
   "metadata": {},
   "outputs": [],
   "source": [
    "E = eigen(R);\n",
    "evals = E.values;"
   ]
  },
  {
   "cell_type": "markdown",
   "metadata": {},
   "source": [
    "and plot their normalized differences."
   ]
  },
  {
   "cell_type": "code",
   "execution_count": 177,
   "metadata": {},
   "outputs": [
    {
     "data": {
      "image/svg+xml": [
       "<?xml version=\"1.0\" encoding=\"utf-8\"?>\n",
       "<svg xmlns=\"http://www.w3.org/2000/svg\" xmlns:xlink=\"http://www.w3.org/1999/xlink\" width=\"800\" height=\"250\" viewBox=\"0 0 3200 1000\">\n",
       "<defs>\n",
       "  <clipPath id=\"clip220\">\n",
       "    <rect x=\"0\" y=\"0\" width=\"3200\" height=\"1000\"/>\n",
       "  </clipPath>\n",
       "</defs>\n",
       "<path clip-path=\"url(#clip220)\" d=\"\n",
       "M0 1000 L3200 1000 L3200 0 L0 0  Z\n",
       "  \" fill=\"#ffffff\" fill-rule=\"evenodd\" fill-opacity=\"1\"/>\n",
       "<defs>\n",
       "  <clipPath id=\"clip221\">\n",
       "    <rect x=\"640\" y=\"0\" width=\"2241\" height=\"1000\"/>\n",
       "  </clipPath>\n",
       "</defs>\n",
       "<path clip-path=\"url(#clip220)\" d=\"\n",
       "M194.274 910.808 L3152.76 910.808 L3152.76 47.2441 L194.274 47.2441  Z\n",
       "  \" fill=\"#ffffff\" fill-rule=\"evenodd\" fill-opacity=\"1\"/>\n",
       "<defs>\n",
       "  <clipPath id=\"clip222\">\n",
       "    <rect x=\"194\" y=\"47\" width=\"2959\" height=\"865\"/>\n",
       "  </clipPath>\n",
       "</defs>\n",
       "<polyline clip-path=\"url(#clip222)\" style=\"stroke:#000000; stroke-linecap:butt; stroke-linejoin:round; stroke-width:2; stroke-opacity:0.1; fill:none\" points=\"\n",
       "  272.4,910.808 272.4,47.2441 \n",
       "  \"/>\n",
       "<polyline clip-path=\"url(#clip222)\" style=\"stroke:#000000; stroke-linecap:butt; stroke-linejoin:round; stroke-width:2; stroke-opacity:0.1; fill:none\" points=\"\n",
       "  832.846,910.808 832.846,47.2441 \n",
       "  \"/>\n",
       "<polyline clip-path=\"url(#clip222)\" style=\"stroke:#000000; stroke-linecap:butt; stroke-linejoin:round; stroke-width:2; stroke-opacity:0.1; fill:none\" points=\"\n",
       "  1393.29,910.808 1393.29,47.2441 \n",
       "  \"/>\n",
       "<polyline clip-path=\"url(#clip222)\" style=\"stroke:#000000; stroke-linecap:butt; stroke-linejoin:round; stroke-width:2; stroke-opacity:0.1; fill:none\" points=\"\n",
       "  1953.74,910.808 1953.74,47.2441 \n",
       "  \"/>\n",
       "<polyline clip-path=\"url(#clip222)\" style=\"stroke:#000000; stroke-linecap:butt; stroke-linejoin:round; stroke-width:2; stroke-opacity:0.1; fill:none\" points=\"\n",
       "  2514.18,910.808 2514.18,47.2441 \n",
       "  \"/>\n",
       "<polyline clip-path=\"url(#clip222)\" style=\"stroke:#000000; stroke-linecap:butt; stroke-linejoin:round; stroke-width:2; stroke-opacity:0.1; fill:none\" points=\"\n",
       "  3074.63,910.808 3074.63,47.2441 \n",
       "  \"/>\n",
       "<polyline clip-path=\"url(#clip220)\" style=\"stroke:#000000; stroke-linecap:butt; stroke-linejoin:round; stroke-width:4; stroke-opacity:1; fill:none\" points=\"\n",
       "  194.274,910.808 3152.76,910.808 \n",
       "  \"/>\n",
       "<polyline clip-path=\"url(#clip220)\" style=\"stroke:#000000; stroke-linecap:butt; stroke-linejoin:round; stroke-width:4; stroke-opacity:1; fill:none\" points=\"\n",
       "  272.4,910.808 272.4,891.91 \n",
       "  \"/>\n",
       "<polyline clip-path=\"url(#clip220)\" style=\"stroke:#000000; stroke-linecap:butt; stroke-linejoin:round; stroke-width:4; stroke-opacity:1; fill:none\" points=\"\n",
       "  832.846,910.808 832.846,891.91 \n",
       "  \"/>\n",
       "<polyline clip-path=\"url(#clip220)\" style=\"stroke:#000000; stroke-linecap:butt; stroke-linejoin:round; stroke-width:4; stroke-opacity:1; fill:none\" points=\"\n",
       "  1393.29,910.808 1393.29,891.91 \n",
       "  \"/>\n",
       "<polyline clip-path=\"url(#clip220)\" style=\"stroke:#000000; stroke-linecap:butt; stroke-linejoin:round; stroke-width:4; stroke-opacity:1; fill:none\" points=\"\n",
       "  1953.74,910.808 1953.74,891.91 \n",
       "  \"/>\n",
       "<polyline clip-path=\"url(#clip220)\" style=\"stroke:#000000; stroke-linecap:butt; stroke-linejoin:round; stroke-width:4; stroke-opacity:1; fill:none\" points=\"\n",
       "  2514.18,910.808 2514.18,891.91 \n",
       "  \"/>\n",
       "<polyline clip-path=\"url(#clip220)\" style=\"stroke:#000000; stroke-linecap:butt; stroke-linejoin:round; stroke-width:4; stroke-opacity:1; fill:none\" points=\"\n",
       "  3074.63,910.808 3074.63,891.91 \n",
       "  \"/>\n",
       "<path clip-path=\"url(#clip220)\" d=\"M272.4 948.127 Q268.789 948.127 266.96 951.691 Q265.155 955.233 265.155 962.363 Q265.155 969.469 266.96 973.034 Q268.789 976.575 272.4 976.575 Q276.034 976.575 277.84 973.034 Q279.669 969.469 279.669 962.363 Q279.669 955.233 277.84 951.691 Q276.034 948.127 272.4 948.127 M272.4 944.423 Q278.21 944.423 281.266 949.029 Q284.345 953.613 284.345 962.363 Q284.345 971.089 281.266 975.696 Q278.21 980.279 272.4 980.279 Q266.59 980.279 263.511 975.696 Q260.456 971.089 260.456 962.363 Q260.456 953.613 263.511 949.029 Q266.59 944.423 272.4 944.423 Z\" fill=\"#000000\" fill-rule=\"evenodd\" fill-opacity=\"1\" /><path clip-path=\"url(#clip220)\" d=\"M792.453 975.673 L800.092 975.673 L800.092 949.307 L791.781 950.974 L791.781 946.715 L800.045 945.048 L804.721 945.048 L804.721 975.673 L812.36 975.673 L812.36 979.608 L792.453 979.608 L792.453 975.673 Z\" fill=\"#000000\" fill-rule=\"evenodd\" fill-opacity=\"1\" /><path clip-path=\"url(#clip220)\" d=\"M831.804 948.127 Q828.193 948.127 826.365 951.691 Q824.559 955.233 824.559 962.363 Q824.559 969.469 826.365 973.034 Q828.193 976.575 831.804 976.575 Q835.439 976.575 837.244 973.034 Q839.073 969.469 839.073 962.363 Q839.073 955.233 837.244 951.691 Q835.439 948.127 831.804 948.127 M831.804 944.423 Q837.615 944.423 840.67 949.029 Q843.749 953.613 843.749 962.363 Q843.749 971.089 840.67 975.696 Q837.615 980.279 831.804 980.279 Q825.994 980.279 822.916 975.696 Q819.86 971.089 819.86 962.363 Q819.86 953.613 822.916 949.029 Q825.994 944.423 831.804 944.423 Z\" fill=\"#000000\" fill-rule=\"evenodd\" fill-opacity=\"1\" /><path clip-path=\"url(#clip220)\" d=\"M861.966 948.127 Q858.355 948.127 856.527 951.691 Q854.721 955.233 854.721 962.363 Q854.721 969.469 856.527 973.034 Q858.355 976.575 861.966 976.575 Q865.601 976.575 867.406 973.034 Q869.235 969.469 869.235 962.363 Q869.235 955.233 867.406 951.691 Q865.601 948.127 861.966 948.127 M861.966 944.423 Q867.776 944.423 870.832 949.029 Q873.911 953.613 873.911 962.363 Q873.911 971.089 870.832 975.696 Q867.776 980.279 861.966 980.279 Q856.156 980.279 853.077 975.696 Q850.022 971.089 850.022 962.363 Q850.022 953.613 853.077 949.029 Q856.156 944.423 861.966 944.423 Z\" fill=\"#000000\" fill-rule=\"evenodd\" fill-opacity=\"1\" /><path clip-path=\"url(#clip220)\" d=\"M1356.98 975.673 L1373.3 975.673 L1373.3 979.608 L1351.36 979.608 L1351.36 975.673 Q1354.02 972.918 1358.6 968.288 Q1363.21 963.636 1364.39 962.293 Q1366.64 959.77 1367.52 958.034 Q1368.42 956.275 1368.42 954.585 Q1368.42 951.83 1366.48 950.094 Q1364.55 948.358 1361.45 948.358 Q1359.25 948.358 1356.8 949.122 Q1354.37 949.886 1351.59 951.437 L1351.59 946.715 Q1354.41 945.58 1356.87 945.002 Q1359.32 944.423 1361.36 944.423 Q1366.73 944.423 1369.92 947.108 Q1373.12 949.793 1373.12 954.284 Q1373.12 956.414 1372.31 958.335 Q1371.52 960.233 1369.41 962.826 Q1368.84 963.497 1365.73 966.714 Q1362.63 969.909 1356.98 975.673 Z\" fill=\"#000000\" fill-rule=\"evenodd\" fill-opacity=\"1\" /><path clip-path=\"url(#clip220)\" d=\"M1393.12 948.127 Q1389.51 948.127 1387.68 951.691 Q1385.87 955.233 1385.87 962.363 Q1385.87 969.469 1387.68 973.034 Q1389.51 976.575 1393.12 976.575 Q1396.75 976.575 1398.56 973.034 Q1400.39 969.469 1400.39 962.363 Q1400.39 955.233 1398.56 951.691 Q1396.75 948.127 1393.12 948.127 M1393.12 944.423 Q1398.93 944.423 1401.98 949.029 Q1405.06 953.613 1405.06 962.363 Q1405.06 971.089 1401.98 975.696 Q1398.93 980.279 1393.12 980.279 Q1387.31 980.279 1384.23 975.696 Q1381.17 971.089 1381.17 962.363 Q1381.17 953.613 1384.23 949.029 Q1387.31 944.423 1393.12 944.423 Z\" fill=\"#000000\" fill-rule=\"evenodd\" fill-opacity=\"1\" /><path clip-path=\"url(#clip220)\" d=\"M1423.28 948.127 Q1419.67 948.127 1417.84 951.691 Q1416.03 955.233 1416.03 962.363 Q1416.03 969.469 1417.84 973.034 Q1419.67 976.575 1423.28 976.575 Q1426.91 976.575 1428.72 973.034 Q1430.55 969.469 1430.55 962.363 Q1430.55 955.233 1428.72 951.691 Q1426.91 948.127 1423.28 948.127 M1423.28 944.423 Q1429.09 944.423 1432.15 949.029 Q1435.22 953.613 1435.22 962.363 Q1435.22 971.089 1432.15 975.696 Q1429.09 980.279 1423.28 980.279 Q1417.47 980.279 1414.39 975.696 Q1411.34 971.089 1411.34 962.363 Q1411.34 953.613 1414.39 949.029 Q1417.47 944.423 1423.28 944.423 Z\" fill=\"#000000\" fill-rule=\"evenodd\" fill-opacity=\"1\" /><path clip-path=\"url(#clip220)\" d=\"M1927.5 960.974 Q1930.86 961.691 1932.73 963.96 Q1934.63 966.228 1934.63 969.562 Q1934.63 974.677 1931.11 977.478 Q1927.59 980.279 1921.11 980.279 Q1918.93 980.279 1916.62 979.839 Q1914.33 979.423 1911.87 978.566 L1911.87 974.052 Q1913.82 975.187 1916.13 975.765 Q1918.45 976.344 1920.97 976.344 Q1925.37 976.344 1927.66 974.608 Q1929.98 972.872 1929.98 969.562 Q1929.98 966.506 1927.82 964.793 Q1925.69 963.057 1921.87 963.057 L1917.85 963.057 L1917.85 959.214 L1922.06 959.214 Q1925.51 959.214 1927.34 957.849 Q1929.17 956.46 1929.17 953.867 Q1929.17 951.205 1927.27 949.793 Q1925.39 948.358 1921.87 948.358 Q1919.95 948.358 1917.75 948.775 Q1915.56 949.191 1912.92 950.071 L1912.92 945.904 Q1915.58 945.164 1917.89 944.793 Q1920.23 944.423 1922.29 944.423 Q1927.62 944.423 1930.72 946.853 Q1933.82 949.261 1933.82 953.381 Q1933.82 956.252 1932.18 958.242 Q1930.53 960.21 1927.5 960.974 Z\" fill=\"#000000\" fill-rule=\"evenodd\" fill-opacity=\"1\" /><path clip-path=\"url(#clip220)\" d=\"M1953.49 948.127 Q1949.88 948.127 1948.06 951.691 Q1946.25 955.233 1946.25 962.363 Q1946.25 969.469 1948.06 973.034 Q1949.88 976.575 1953.49 976.575 Q1957.13 976.575 1958.93 973.034 Q1960.76 969.469 1960.76 962.363 Q1960.76 955.233 1958.93 951.691 Q1957.13 948.127 1953.49 948.127 M1953.49 944.423 Q1959.31 944.423 1962.36 949.029 Q1965.44 953.613 1965.44 962.363 Q1965.44 971.089 1962.36 975.696 Q1959.31 980.279 1953.49 980.279 Q1947.68 980.279 1944.61 975.696 Q1941.55 971.089 1941.55 962.363 Q1941.55 953.613 1944.61 949.029 Q1947.68 944.423 1953.49 944.423 Z\" fill=\"#000000\" fill-rule=\"evenodd\" fill-opacity=\"1\" /><path clip-path=\"url(#clip220)\" d=\"M1983.66 948.127 Q1980.05 948.127 1978.22 951.691 Q1976.41 955.233 1976.41 962.363 Q1976.41 969.469 1978.22 973.034 Q1980.05 976.575 1983.66 976.575 Q1987.29 976.575 1989.1 973.034 Q1990.93 969.469 1990.93 962.363 Q1990.93 955.233 1989.1 951.691 Q1987.29 948.127 1983.66 948.127 M1983.66 944.423 Q1989.47 944.423 1992.52 949.029 Q1995.6 953.613 1995.6 962.363 Q1995.6 971.089 1992.52 975.696 Q1989.47 980.279 1983.66 980.279 Q1977.85 980.279 1974.77 975.696 Q1971.71 971.089 1971.71 962.363 Q1971.71 953.613 1974.77 949.029 Q1977.85 944.423 1983.66 944.423 Z\" fill=\"#000000\" fill-rule=\"evenodd\" fill-opacity=\"1\" /><path clip-path=\"url(#clip220)\" d=\"M2487.27 949.122 L2475.47 967.571 L2487.27 967.571 L2487.27 949.122 M2486.05 945.048 L2491.93 945.048 L2491.93 967.571 L2496.86 967.571 L2496.86 971.46 L2491.93 971.46 L2491.93 979.608 L2487.27 979.608 L2487.27 971.46 L2471.67 971.46 L2471.67 966.946 L2486.05 945.048 Z\" fill=\"#000000\" fill-rule=\"evenodd\" fill-opacity=\"1\" /><path clip-path=\"url(#clip220)\" d=\"M2514.59 948.127 Q2510.98 948.127 2509.15 951.691 Q2507.34 955.233 2507.34 962.363 Q2507.34 969.469 2509.15 973.034 Q2510.98 976.575 2514.59 976.575 Q2518.22 976.575 2520.03 973.034 Q2521.86 969.469 2521.86 962.363 Q2521.86 955.233 2520.03 951.691 Q2518.22 948.127 2514.59 948.127 M2514.59 944.423 Q2520.4 944.423 2523.45 949.029 Q2526.53 953.613 2526.53 962.363 Q2526.53 971.089 2523.45 975.696 Q2520.4 980.279 2514.59 980.279 Q2508.78 980.279 2505.7 975.696 Q2502.64 971.089 2502.64 962.363 Q2502.64 953.613 2505.7 949.029 Q2508.78 944.423 2514.59 944.423 Z\" fill=\"#000000\" fill-rule=\"evenodd\" fill-opacity=\"1\" /><path clip-path=\"url(#clip220)\" d=\"M2544.75 948.127 Q2541.14 948.127 2539.31 951.691 Q2537.51 955.233 2537.51 962.363 Q2537.51 969.469 2539.31 973.034 Q2541.14 976.575 2544.75 976.575 Q2548.39 976.575 2550.19 973.034 Q2552.02 969.469 2552.02 962.363 Q2552.02 955.233 2550.19 951.691 Q2548.39 948.127 2544.75 948.127 M2544.75 944.423 Q2550.56 944.423 2553.62 949.029 Q2556.7 953.613 2556.7 962.363 Q2556.7 971.089 2553.62 975.696 Q2550.56 980.279 2544.75 980.279 Q2538.94 980.279 2535.86 975.696 Q2532.81 971.089 2532.81 962.363 Q2532.81 953.613 2535.86 949.029 Q2538.94 944.423 2544.75 944.423 Z\" fill=\"#000000\" fill-rule=\"evenodd\" fill-opacity=\"1\" /><path clip-path=\"url(#clip220)\" d=\"M3034.25 945.048 L3052.6 945.048 L3052.6 948.983 L3038.53 948.983 L3038.53 957.455 Q3039.55 957.108 3040.57 956.946 Q3041.59 956.761 3042.6 956.761 Q3048.39 956.761 3051.77 959.932 Q3055.15 963.103 3055.15 968.52 Q3055.15 974.099 3051.68 977.2 Q3048.21 980.279 3041.89 980.279 Q3039.71 980.279 3037.44 979.909 Q3035.2 979.538 3032.79 978.798 L3032.79 974.099 Q3034.87 975.233 3037.1 975.788 Q3039.32 976.344 3041.79 976.344 Q3045.8 976.344 3048.14 974.238 Q3050.47 972.131 3050.47 968.52 Q3050.47 964.909 3048.14 962.802 Q3045.8 960.696 3041.79 960.696 Q3039.92 960.696 3038.04 961.113 Q3036.19 961.529 3034.25 962.409 L3034.25 945.048 Z\" fill=\"#000000\" fill-rule=\"evenodd\" fill-opacity=\"1\" /><path clip-path=\"url(#clip220)\" d=\"M3074.36 948.127 Q3070.75 948.127 3068.92 951.691 Q3067.12 955.233 3067.12 962.363 Q3067.12 969.469 3068.92 973.034 Q3070.75 976.575 3074.36 976.575 Q3078 976.575 3079.8 973.034 Q3081.63 969.469 3081.63 962.363 Q3081.63 955.233 3079.8 951.691 Q3078 948.127 3074.36 948.127 M3074.36 944.423 Q3080.17 944.423 3083.23 949.029 Q3086.31 953.613 3086.31 962.363 Q3086.31 971.089 3083.23 975.696 Q3080.17 980.279 3074.36 980.279 Q3068.55 980.279 3065.47 975.696 Q3062.42 971.089 3062.42 962.363 Q3062.42 953.613 3065.47 949.029 Q3068.55 944.423 3074.36 944.423 Z\" fill=\"#000000\" fill-rule=\"evenodd\" fill-opacity=\"1\" /><path clip-path=\"url(#clip220)\" d=\"M3104.53 948.127 Q3100.91 948.127 3099.09 951.691 Q3097.28 955.233 3097.28 962.363 Q3097.28 969.469 3099.09 973.034 Q3100.91 976.575 3104.53 976.575 Q3108.16 976.575 3109.97 973.034 Q3111.79 969.469 3111.79 962.363 Q3111.79 955.233 3109.97 951.691 Q3108.16 948.127 3104.53 948.127 M3104.53 944.423 Q3110.34 944.423 3113.39 949.029 Q3116.47 953.613 3116.47 962.363 Q3116.47 971.089 3113.39 975.696 Q3110.34 980.279 3104.53 980.279 Q3098.72 980.279 3095.64 975.696 Q3092.58 971.089 3092.58 962.363 Q3092.58 953.613 3095.64 949.029 Q3098.72 944.423 3104.53 944.423 Z\" fill=\"#000000\" fill-rule=\"evenodd\" fill-opacity=\"1\" /><polyline clip-path=\"url(#clip222)\" style=\"stroke:#000000; stroke-linecap:butt; stroke-linejoin:round; stroke-width:2; stroke-opacity:0.1; fill:none\" points=\"\n",
       "  194.274,886.671 3152.76,886.671 \n",
       "  \"/>\n",
       "<polyline clip-path=\"url(#clip222)\" style=\"stroke:#000000; stroke-linecap:butt; stroke-linejoin:round; stroke-width:2; stroke-opacity:0.1; fill:none\" points=\"\n",
       "  194.274,682.924 3152.76,682.924 \n",
       "  \"/>\n",
       "<polyline clip-path=\"url(#clip222)\" style=\"stroke:#000000; stroke-linecap:butt; stroke-linejoin:round; stroke-width:2; stroke-opacity:0.1; fill:none\" points=\"\n",
       "  194.274,479.178 3152.76,479.178 \n",
       "  \"/>\n",
       "<polyline clip-path=\"url(#clip222)\" style=\"stroke:#000000; stroke-linecap:butt; stroke-linejoin:round; stroke-width:2; stroke-opacity:0.1; fill:none\" points=\"\n",
       "  194.274,275.431 3152.76,275.431 \n",
       "  \"/>\n",
       "<polyline clip-path=\"url(#clip222)\" style=\"stroke:#000000; stroke-linecap:butt; stroke-linejoin:round; stroke-width:2; stroke-opacity:0.1; fill:none\" points=\"\n",
       "  194.274,71.6846 3152.76,71.6846 \n",
       "  \"/>\n",
       "<polyline clip-path=\"url(#clip220)\" style=\"stroke:#000000; stroke-linecap:butt; stroke-linejoin:round; stroke-width:4; stroke-opacity:1; fill:none\" points=\"\n",
       "  194.274,910.808 194.274,47.2441 \n",
       "  \"/>\n",
       "<polyline clip-path=\"url(#clip220)\" style=\"stroke:#000000; stroke-linecap:butt; stroke-linejoin:round; stroke-width:4; stroke-opacity:1; fill:none\" points=\"\n",
       "  194.274,886.671 213.172,886.671 \n",
       "  \"/>\n",
       "<polyline clip-path=\"url(#clip220)\" style=\"stroke:#000000; stroke-linecap:butt; stroke-linejoin:round; stroke-width:4; stroke-opacity:1; fill:none\" points=\"\n",
       "  194.274,682.924 213.172,682.924 \n",
       "  \"/>\n",
       "<polyline clip-path=\"url(#clip220)\" style=\"stroke:#000000; stroke-linecap:butt; stroke-linejoin:round; stroke-width:4; stroke-opacity:1; fill:none\" points=\"\n",
       "  194.274,479.178 213.172,479.178 \n",
       "  \"/>\n",
       "<polyline clip-path=\"url(#clip220)\" style=\"stroke:#000000; stroke-linecap:butt; stroke-linejoin:round; stroke-width:4; stroke-opacity:1; fill:none\" points=\"\n",
       "  194.274,275.431 213.172,275.431 \n",
       "  \"/>\n",
       "<polyline clip-path=\"url(#clip220)\" style=\"stroke:#000000; stroke-linecap:butt; stroke-linejoin:round; stroke-width:4; stroke-opacity:1; fill:none\" points=\"\n",
       "  194.274,71.6846 213.172,71.6846 \n",
       "  \"/>\n",
       "<path clip-path=\"url(#clip220)\" d=\"M58.9365 872.47 Q55.3254 872.47 53.4967 876.035 Q51.6912 879.576 51.6912 886.706 Q51.6912 893.812 53.4967 897.377 Q55.3254 900.919 58.9365 900.919 Q62.5707 900.919 64.3763 897.377 Q66.205 893.812 66.205 886.706 Q66.205 879.576 64.3763 876.035 Q62.5707 872.47 58.9365 872.47 M58.9365 868.766 Q64.7467 868.766 67.8022 873.373 Q70.8809 877.956 70.8809 886.706 Q70.8809 895.433 67.8022 900.039 Q64.7467 904.622 58.9365 904.622 Q53.1264 904.622 50.0477 900.039 Q46.9921 895.433 46.9921 886.706 Q46.9921 877.956 50.0477 873.373 Q53.1264 868.766 58.9365 868.766 Z\" fill=\"#000000\" fill-rule=\"evenodd\" fill-opacity=\"1\" /><path clip-path=\"url(#clip220)\" d=\"M79.0984 898.071 L83.9827 898.071 L83.9827 903.951 L79.0984 903.951 L79.0984 898.071 Z\" fill=\"#000000\" fill-rule=\"evenodd\" fill-opacity=\"1\" /><path clip-path=\"url(#clip220)\" d=\"M104.168 872.47 Q100.557 872.47 98.728 876.035 Q96.9224 879.576 96.9224 886.706 Q96.9224 893.812 98.728 897.377 Q100.557 900.919 104.168 900.919 Q107.802 900.919 109.608 897.377 Q111.436 893.812 111.436 886.706 Q111.436 879.576 109.608 876.035 Q107.802 872.47 104.168 872.47 M104.168 868.766 Q109.978 868.766 113.033 873.373 Q116.112 877.956 116.112 886.706 Q116.112 895.433 113.033 900.039 Q109.978 904.622 104.168 904.622 Q98.3576 904.622 95.2789 900.039 Q92.2234 895.433 92.2234 886.706 Q92.2234 877.956 95.2789 873.373 Q98.3576 868.766 104.168 868.766 Z\" fill=\"#000000\" fill-rule=\"evenodd\" fill-opacity=\"1\" /><path clip-path=\"url(#clip220)\" d=\"M134.33 872.47 Q130.719 872.47 128.89 876.035 Q127.084 879.576 127.084 886.706 Q127.084 893.812 128.89 897.377 Q130.719 900.919 134.33 900.919 Q137.964 900.919 139.769 897.377 Q141.598 893.812 141.598 886.706 Q141.598 879.576 139.769 876.035 Q137.964 872.47 134.33 872.47 M134.33 868.766 Q140.14 868.766 143.195 873.373 Q146.274 877.956 146.274 886.706 Q146.274 895.433 143.195 900.039 Q140.14 904.622 134.33 904.622 Q128.519 904.622 125.441 900.039 Q122.385 895.433 122.385 886.706 Q122.385 877.956 125.441 873.373 Q128.519 868.766 134.33 868.766 Z\" fill=\"#000000\" fill-rule=\"evenodd\" fill-opacity=\"1\" /><path clip-path=\"url(#clip220)\" d=\"M59.9319 668.723 Q56.3208 668.723 54.4921 672.288 Q52.6865 675.83 52.6865 682.959 Q52.6865 690.066 54.4921 693.63 Q56.3208 697.172 59.9319 697.172 Q63.5661 697.172 65.3717 693.63 Q67.2004 690.066 67.2004 682.959 Q67.2004 675.83 65.3717 672.288 Q63.5661 668.723 59.9319 668.723 M59.9319 665.019 Q65.742 665.019 68.7976 669.626 Q71.8763 674.209 71.8763 682.959 Q71.8763 691.686 68.7976 696.292 Q65.742 700.876 59.9319 700.876 Q54.1217 700.876 51.043 696.292 Q47.9875 691.686 47.9875 682.959 Q47.9875 674.209 51.043 669.626 Q54.1217 665.019 59.9319 665.019 Z\" fill=\"#000000\" fill-rule=\"evenodd\" fill-opacity=\"1\" /><path clip-path=\"url(#clip220)\" d=\"M80.0938 694.325 L84.978 694.325 L84.978 700.204 L80.0938 700.204 L80.0938 694.325 Z\" fill=\"#000000\" fill-rule=\"evenodd\" fill-opacity=\"1\" /><path clip-path=\"url(#clip220)\" d=\"M99.1909 696.269 L115.51 696.269 L115.51 700.204 L93.566 700.204 L93.566 696.269 Q96.228 693.515 100.811 688.885 Q105.418 684.232 106.598 682.89 Q108.844 680.367 109.723 678.63 Q110.626 676.871 110.626 675.181 Q110.626 672.427 108.682 670.691 Q106.76 668.955 103.658 668.955 Q101.459 668.955 99.0057 669.718 Q96.5752 670.482 93.7974 672.033 L93.7974 667.311 Q96.6215 666.177 99.0752 665.598 Q101.529 665.019 103.566 665.019 Q108.936 665.019 112.131 667.705 Q115.325 670.39 115.325 674.88 Q115.325 677.01 114.515 678.931 Q113.728 680.83 111.621 683.422 Q111.043 684.093 107.941 687.311 Q104.839 690.505 99.1909 696.269 Z\" fill=\"#000000\" fill-rule=\"evenodd\" fill-opacity=\"1\" /><path clip-path=\"url(#clip220)\" d=\"M125.371 665.644 L143.728 665.644 L143.728 669.58 L129.654 669.58 L129.654 678.052 Q130.672 677.705 131.691 677.543 Q132.709 677.357 133.728 677.357 Q139.515 677.357 142.894 680.529 Q146.274 683.7 146.274 689.117 Q146.274 694.695 142.802 697.797 Q139.33 700.876 133.01 700.876 Q130.834 700.876 128.566 700.505 Q126.32 700.135 123.913 699.394 L123.913 694.695 Q125.996 695.829 128.219 696.385 Q130.441 696.941 132.918 696.941 Q136.922 696.941 139.26 694.834 Q141.598 692.728 141.598 689.117 Q141.598 685.505 139.26 683.399 Q136.922 681.292 132.918 681.292 Q131.043 681.292 129.168 681.709 Q127.316 682.126 125.371 683.005 L125.371 665.644 Z\" fill=\"#000000\" fill-rule=\"evenodd\" fill-opacity=\"1\" /><path clip-path=\"url(#clip220)\" d=\"M58.9365 464.977 Q55.3254 464.977 53.4967 468.541 Q51.6912 472.083 51.6912 479.213 Q51.6912 486.319 53.4967 489.884 Q55.3254 493.425 58.9365 493.425 Q62.5707 493.425 64.3763 489.884 Q66.205 486.319 66.205 479.213 Q66.205 472.083 64.3763 468.541 Q62.5707 464.977 58.9365 464.977 M58.9365 461.273 Q64.7467 461.273 67.8022 465.879 Q70.8809 470.463 70.8809 479.213 Q70.8809 487.939 67.8022 492.546 Q64.7467 497.129 58.9365 497.129 Q53.1264 497.129 50.0477 492.546 Q46.9921 487.939 46.9921 479.213 Q46.9921 470.463 50.0477 465.879 Q53.1264 461.273 58.9365 461.273 Z\" fill=\"#000000\" fill-rule=\"evenodd\" fill-opacity=\"1\" /><path clip-path=\"url(#clip220)\" d=\"M79.0984 490.578 L83.9827 490.578 L83.9827 496.458 L79.0984 496.458 L79.0984 490.578 Z\" fill=\"#000000\" fill-rule=\"evenodd\" fill-opacity=\"1\" /><path clip-path=\"url(#clip220)\" d=\"M94.2141 461.898 L112.57 461.898 L112.57 465.833 L98.4965 465.833 L98.4965 474.305 Q99.515 473.958 100.534 473.796 Q101.552 473.611 102.571 473.611 Q108.358 473.611 111.737 476.782 Q115.117 479.953 115.117 485.37 Q115.117 490.949 111.645 494.05 Q108.172 497.129 101.853 497.129 Q99.677 497.129 97.4085 496.759 Q95.1632 496.388 92.7558 495.648 L92.7558 490.949 Q94.8391 492.083 97.0613 492.638 Q99.2835 493.194 101.76 493.194 Q105.765 493.194 108.103 491.087 Q110.441 488.981 110.441 485.37 Q110.441 481.759 108.103 479.652 Q105.765 477.546 101.76 477.546 Q99.8854 477.546 98.0104 477.963 Q96.1585 478.379 94.2141 479.259 L94.2141 461.898 Z\" fill=\"#000000\" fill-rule=\"evenodd\" fill-opacity=\"1\" /><path clip-path=\"url(#clip220)\" d=\"M134.33 464.977 Q130.719 464.977 128.89 468.541 Q127.084 472.083 127.084 479.213 Q127.084 486.319 128.89 489.884 Q130.719 493.425 134.33 493.425 Q137.964 493.425 139.769 489.884 Q141.598 486.319 141.598 479.213 Q141.598 472.083 139.769 468.541 Q137.964 464.977 134.33 464.977 M134.33 461.273 Q140.14 461.273 143.195 465.879 Q146.274 470.463 146.274 479.213 Q146.274 487.939 143.195 492.546 Q140.14 497.129 134.33 497.129 Q128.519 497.129 125.441 492.546 Q122.385 487.939 122.385 479.213 Q122.385 470.463 125.441 465.879 Q128.519 461.273 134.33 461.273 Z\" fill=\"#000000\" fill-rule=\"evenodd\" fill-opacity=\"1\" /><path clip-path=\"url(#clip220)\" d=\"M59.9319 261.23 Q56.3208 261.23 54.4921 264.795 Q52.6865 268.336 52.6865 275.466 Q52.6865 282.572 54.4921 286.137 Q56.3208 289.679 59.9319 289.679 Q63.5661 289.679 65.3717 286.137 Q67.2004 282.572 67.2004 275.466 Q67.2004 268.336 65.3717 264.795 Q63.5661 261.23 59.9319 261.23 M59.9319 257.526 Q65.742 257.526 68.7976 262.133 Q71.8763 266.716 71.8763 275.466 Q71.8763 284.193 68.7976 288.799 Q65.742 293.382 59.9319 293.382 Q54.1217 293.382 51.043 288.799 Q47.9875 284.193 47.9875 275.466 Q47.9875 266.716 51.043 262.133 Q54.1217 257.526 59.9319 257.526 Z\" fill=\"#000000\" fill-rule=\"evenodd\" fill-opacity=\"1\" /><path clip-path=\"url(#clip220)\" d=\"M80.0938 286.832 L84.978 286.832 L84.978 292.711 L80.0938 292.711 L80.0938 286.832 Z\" fill=\"#000000\" fill-rule=\"evenodd\" fill-opacity=\"1\" /><path clip-path=\"url(#clip220)\" d=\"M93.9826 258.151 L116.205 258.151 L116.205 260.142 L103.658 292.711 L98.7743 292.711 L110.58 262.086 L93.9826 262.086 L93.9826 258.151 Z\" fill=\"#000000\" fill-rule=\"evenodd\" fill-opacity=\"1\" /><path clip-path=\"url(#clip220)\" d=\"M125.371 258.151 L143.728 258.151 L143.728 262.086 L129.654 262.086 L129.654 270.559 Q130.672 270.211 131.691 270.049 Q132.709 269.864 133.728 269.864 Q139.515 269.864 142.894 273.035 Q146.274 276.207 146.274 281.623 Q146.274 287.202 142.802 290.304 Q139.33 293.382 133.01 293.382 Q130.834 293.382 128.566 293.012 Q126.32 292.642 123.913 291.901 L123.913 287.202 Q125.996 288.336 128.219 288.892 Q130.441 289.447 132.918 289.447 Q136.922 289.447 139.26 287.341 Q141.598 285.234 141.598 281.623 Q141.598 278.012 139.26 275.906 Q136.922 273.799 132.918 273.799 Q131.043 273.799 129.168 274.216 Q127.316 274.633 125.371 275.512 L125.371 258.151 Z\" fill=\"#000000\" fill-rule=\"evenodd\" fill-opacity=\"1\" /><path clip-path=\"url(#clip220)\" d=\"M49.7467 85.0294 L57.3856 85.0294 L57.3856 58.6638 L49.0754 60.3305 L49.0754 56.0712 L57.3393 54.4046 L62.0152 54.4046 L62.0152 85.0294 L69.654 85.0294 L69.654 88.9646 L49.7467 88.9646 L49.7467 85.0294 Z\" fill=\"#000000\" fill-rule=\"evenodd\" fill-opacity=\"1\" /><path clip-path=\"url(#clip220)\" d=\"M79.0984 83.085 L83.9827 83.085 L83.9827 88.9646 L79.0984 88.9646 L79.0984 83.085 Z\" fill=\"#000000\" fill-rule=\"evenodd\" fill-opacity=\"1\" /><path clip-path=\"url(#clip220)\" d=\"M104.168 57.4833 Q100.557 57.4833 98.728 61.0481 Q96.9224 64.5897 96.9224 71.7193 Q96.9224 78.8257 98.728 82.3905 Q100.557 85.9322 104.168 85.9322 Q107.802 85.9322 109.608 82.3905 Q111.436 78.8257 111.436 71.7193 Q111.436 64.5897 109.608 61.0481 Q107.802 57.4833 104.168 57.4833 M104.168 53.7796 Q109.978 53.7796 113.033 58.386 Q116.112 62.9693 116.112 71.7193 Q116.112 80.4461 113.033 85.0526 Q109.978 89.6359 104.168 89.6359 Q98.3576 89.6359 95.2789 85.0526 Q92.2234 80.4461 92.2234 71.7193 Q92.2234 62.9693 95.2789 58.386 Q98.3576 53.7796 104.168 53.7796 Z\" fill=\"#000000\" fill-rule=\"evenodd\" fill-opacity=\"1\" /><path clip-path=\"url(#clip220)\" d=\"M134.33 57.4833 Q130.719 57.4833 128.89 61.0481 Q127.084 64.5897 127.084 71.7193 Q127.084 78.8257 128.89 82.3905 Q130.719 85.9322 134.33 85.9322 Q137.964 85.9322 139.769 82.3905 Q141.598 78.8257 141.598 71.7193 Q141.598 64.5897 139.769 61.0481 Q137.964 57.4833 134.33 57.4833 M134.33 53.7796 Q140.14 53.7796 143.195 58.386 Q146.274 62.9693 146.274 71.7193 Q146.274 80.4461 143.195 85.0526 Q140.14 89.6359 134.33 89.6359 Q128.519 89.6359 125.441 85.0526 Q122.385 80.4461 122.385 71.7193 Q122.385 62.9693 125.441 58.386 Q128.519 53.7796 134.33 53.7796 Z\" fill=\"#000000\" fill-rule=\"evenodd\" fill-opacity=\"1\" /><polyline clip-path=\"url(#clip222)\" style=\"stroke:#009af9; stroke-linecap:butt; stroke-linejoin:round; stroke-width:10; stroke-opacity:1; fill:none\" stroke-dasharray=\"40, 25\" points=\"\n",
       "  278.005,71.6846 283.609,123.9 289.214,787.437 294.818,805.691 300.422,865.785 306.027,843.042 311.631,825.779 317.236,802.27 322.84,773.837 328.445,772.642 \n",
       "  334.049,838.341 339.654,821.588 345.258,866.393 350.863,849.042 356.467,815.891 362.072,850.167 367.676,859.129 373.28,821.898 378.885,876.296 384.489,860.253 \n",
       "  390.094,863.222 395.698,859.316 401.303,836.949 406.907,820.747 412.512,863.958 418.116,874.692 423.721,859.373 429.325,835.545 434.929,860.356 440.534,871.89 \n",
       "  446.138,829.561 451.743,882.626 457.347,877.269 462.952,878.857 468.556,870.563 474.161,855.796 479.765,869.084 485.37,856.49 490.974,879.341 496.579,874.979 \n",
       "  502.183,865.732 507.787,884.122 513.392,872.369 518.996,866.744 524.601,860.36 530.205,866.591 535.81,848.865 541.414,869.654 547.019,881.438 552.623,874.41 \n",
       "  558.228,873.054 563.832,872.684 569.436,867.044 575.041,865.318 580.645,878.339 586.25,873.175 591.854,880.797 597.459,879.124 603.063,876.233 608.668,880.479 \n",
       "  614.272,868.483 619.877,883.609 625.481,884.795 631.086,883.224 636.69,884.012 642.294,880.403 647.899,875.381 653.503,881.442 659.108,883.244 664.712,882.48 \n",
       "  670.317,882.633 675.921,882.959 681.526,871.362 687.13,876.373 692.735,875.843 698.339,878.867 703.944,873.689 709.548,884.212 715.152,874.436 720.757,882.986 \n",
       "  726.361,878.749 731.966,865.677 737.57,880.574 743.175,877.841 748.779,877.423 754.384,880.267 759.988,874.149 765.593,867.435 771.197,882.918 776.801,871.935 \n",
       "  782.406,874.042 788.01,871.745 793.615,879.744 799.219,877.334 804.824,878.315 810.428,880.87 816.033,868.567 821.637,877.596 827.242,865.376 832.846,880.774 \n",
       "  838.451,877.057 844.055,883.352 849.659,872.118 855.264,878.742 860.868,871.329 866.473,874.61 872.077,882.47 877.682,884.077 883.286,879.891 888.891,880.278 \n",
       "  894.495,869.462 900.1,881.711 905.704,870.722 911.309,884.316 916.913,880.179 922.517,882.69 928.122,881.92 933.726,879.455 939.331,882.293 944.935,883.147 \n",
       "  950.54,878.746 956.144,881.732 961.749,882.175 967.353,876.438 972.958,882.065 978.562,881.339 984.166,880.334 989.771,878.87 995.375,883.454 1000.98,883.45 \n",
       "  1006.58,880.243 1012.19,880.612 1017.79,876.18 1023.4,875.504 1029,880.456 1034.61,882.544 1040.21,879.529 1045.82,883.249 1051.42,880.806 1057.02,883.39 \n",
       "  1062.63,879.36 1068.23,885.125 1073.84,885.468 1079.44,883.113 1085.05,873.554 1090.65,882.52 1096.26,861.959 1101.86,876.925 1107.46,871.846 1113.07,880.578 \n",
       "  1118.67,876.816 1124.28,880.625 1129.88,883.008 1135.49,885.076 1141.09,882.112 1146.7,880.155 1152.3,878.629 1157.9,883.253 1163.51,879.338 1169.11,884.545 \n",
       "  1174.72,881.687 1180.32,877.058 1185.93,880.168 1191.53,884.208 1197.14,884.07 1202.74,882.091 1208.34,883.164 1213.95,881.593 1219.55,865.667 1225.16,877.694 \n",
       "  1230.76,881.911 1236.37,877.553 1241.97,885.328 1247.58,883.735 1253.18,867.438 1258.78,884.137 1264.39,874.724 1269.99,872.211 1275.6,886.196 1281.2,884.153 \n",
       "  1286.81,884.777 1292.41,884.238 1298.02,880.89 1303.62,876.52 1309.23,879.202 1314.83,883.313 1320.43,874.123 1326.04,877.504 1331.64,884.009 1337.25,885.187 \n",
       "  1342.85,883.523 1348.46,882.637 1354.06,876.263 1359.67,873.146 1365.27,882.36 1370.87,879.17 1376.48,874.319 1382.08,878.341 1387.69,882.61 1393.29,880.516 \n",
       "  1398.9,881.89 1404.5,882.004 1410.11,881.275 1415.71,883.118 1421.31,882.485 1426.92,878.731 1432.52,882.92 1438.13,882.406 1443.73,881.394 1449.34,883.52 \n",
       "  1454.94,884.767 1460.55,882.009 1466.15,855.688 1471.75,873.429 1477.36,874.276 1482.96,882.117 1488.57,884.84 1494.17,883.168 1499.78,882.128 1505.38,882.084 \n",
       "  1510.99,883.312 1516.59,882.074 1522.19,883.383 1527.8,875.491 1533.4,881.33 1539.01,879.854 1544.61,883.316 1550.22,885.455 1555.82,882.547 1561.43,878.612 \n",
       "  1567.03,880.922 1572.63,879.99 1578.24,881.808 1583.84,885.23 1589.45,882.284 1595.05,872.181 1600.66,881.618 1606.26,882.931 1611.87,877.92 1617.47,879.467 \n",
       "  1623.07,881.784 1628.68,875.46 1634.28,883.738 1639.89,880.469 1645.49,879.872 1651.1,876.76 1656.7,881.479 1662.31,881.689 1667.91,871.012 1673.51,882.069 \n",
       "  1679.12,883.972 1684.72,878.847 1690.33,885.391 1695.93,881.757 1701.54,875.799 1707.14,881.303 1712.75,873.236 1718.35,880.039 1723.96,868.824 1729.56,885.589 \n",
       "  1735.16,884.41 1740.77,880.521 1746.37,880.542 1751.98,885.125 1757.58,883.224 1763.19,884.489 1768.79,882.017 1774.4,880.716 1780,879.948 1785.6,885.871 \n",
       "  1791.21,879.16 1796.81,875.581 1802.42,879.247 1808.02,879.238 1813.63,882.763 1819.23,878.102 1824.84,882.067 1830.44,881.179 1836.04,873.945 1841.65,877.935 \n",
       "  1847.25,880.779 1852.86,883.088 1858.46,884 1864.07,881.427 1869.67,884.737 1875.28,881.439 1880.88,868.066 1886.48,883.709 1892.09,882.018 1897.69,870.99 \n",
       "  1903.3,885.453 1908.9,884.03 1914.51,884.67 1920.11,876.755 1925.72,884.552 1931.32,880.9 1936.92,883.379 1942.53,883.525 1948.13,881.122 1953.74,884.285 \n",
       "  1959.34,882.62 1964.95,879.296 1970.55,883.558 1976.16,883.037 1981.76,872.385 1987.36,883.666 1992.97,878.249 1998.57,880.866 2004.18,882.364 2009.78,872.398 \n",
       "  2015.39,882.011 2020.99,874.976 2026.6,877.582 2032.2,880.115 2037.8,877.952 2043.41,884.993 2049.01,885.636 2054.62,880.239 2060.22,884.33 2065.83,883.946 \n",
       "  2071.43,879.277 2077.04,881.499 2082.64,884.514 2088.24,882.167 2093.85,881.204 2099.45,881.485 2105.06,884.117 2110.66,883.189 2116.27,881.719 2121.87,877.431 \n",
       "  2127.48,875.121 2133.08,882.655 2138.69,874.154 2144.29,882.174 2149.89,879.548 2155.5,876.412 2161.1,885.483 2166.71,879.571 2172.31,883.958 2177.92,882.587 \n",
       "  2183.52,884.254 2189.13,877.457 2194.73,885.601 2200.33,883.392 2205.94,883.39 2211.54,884.685 2217.15,874.8 2222.75,885.981 2228.36,883.582 2233.96,869.374 \n",
       "  2239.57,876.236 2245.17,882.278 2250.77,876.974 2256.38,879.896 2261.98,868.849 2267.59,884.54 2273.19,880.151 2278.8,884.683 2284.4,881.433 2290.01,881.005 \n",
       "  2295.61,875.117 2301.21,877.774 2306.82,878.982 2312.42,879.194 2318.03,864.336 2323.63,881.341 2329.24,882.517 2334.84,882.633 2340.45,877.759 2346.05,879.24 \n",
       "  2351.65,881.555 2357.26,869.094 2362.86,880.419 2368.47,869.956 2374.07,879.951 2379.68,865.526 2385.28,882.477 2390.89,868.167 2396.49,873.246 2402.09,877.555 \n",
       "  2407.7,878.186 2413.3,878.096 2418.91,867.848 2424.51,880.27 2430.12,883.909 2435.72,881.497 2441.33,868.584 2446.93,881.345 2452.53,876.338 2458.14,866.333 \n",
       "  2463.74,881.943 2469.35,879.873 2474.95,876.802 2480.56,880.26 2486.16,885.7 2491.77,861.358 2497.37,878.992 2502.97,874.384 2508.58,877.65 2514.18,883.624 \n",
       "  2519.79,876.953 2525.39,880.214 2531,876.591 2536.6,876.799 2542.21,883.009 2547.81,881.037 2553.42,878.128 2559.02,883.475 2564.62,884.426 2570.23,878.587 \n",
       "  2575.83,867.948 2581.44,863.867 2587.04,858.257 2592.65,876.801 2598.25,861.54 2603.86,865.657 2609.46,865.025 2615.06,886.367 2620.67,873.449 2626.27,872.409 \n",
       "  2631.88,863.726 2637.48,875.821 2643.09,876.93 2648.69,882.319 2654.3,877.619 2659.9,883.959 2665.5,873.865 2671.11,880.298 2676.71,872.308 2682.32,871.16 \n",
       "  2687.92,857.509 2693.53,872.784 2699.13,883.993 2704.74,876.518 2710.34,868.817 2715.94,883.198 2721.55,880.505 2727.15,850.213 2732.76,871.887 2738.36,874.667 \n",
       "  2743.97,872.417 2749.57,872.436 2755.18,876.741 2760.78,877.664 2766.38,880.72 2771.99,878.429 2777.59,878.622 2783.2,877.784 2788.8,872.373 2794.41,873.842 \n",
       "  2800.01,869.751 2805.62,872.442 2811.22,879.962 2816.82,882.529 2822.43,867.465 2828.03,877.288 2833.64,870.321 2839.24,873.055 2844.85,882.747 2850.45,874.159 \n",
       "  2856.06,872.259 2861.66,873.242 2867.26,875.335 2872.87,851.66 2878.47,867.484 2884.08,864.269 2889.68,877.746 2895.29,871.421 2900.89,853.388 2906.5,871.356 \n",
       "  2912.1,858.121 2917.7,842.674 2923.31,873.436 2928.91,860.832 2934.52,858.458 2940.12,872.304 2945.73,848.191 2951.33,864.123 2956.94,882.432 2962.54,860.192 \n",
       "  2968.15,872.017 2973.75,882.256 2979.35,839.995 2984.96,865.919 2990.56,868.334 2996.17,837.106 3001.77,870.819 3007.38,854.198 3012.98,833.789 3018.59,833.918 \n",
       "  3024.19,787.79 3029.79,869.275 3035.4,875.95 3041,812.19 3046.61,724.628 3052.21,768.447 3057.82,809.527 3063.42,764.663 3069.03,476.282 \n",
       "  \"/>\n",
       "<circle clip-path=\"url(#clip222)\" cx=\"278.005\" cy=\"71.6846\" r=\"14\" fill=\"#cd5c5c\" fill-rule=\"evenodd\" fill-opacity=\"1\" stroke=\"none\"/>\n",
       "<circle clip-path=\"url(#clip222)\" cx=\"283.609\" cy=\"123.9\" r=\"14\" fill=\"#cd5c5c\" fill-rule=\"evenodd\" fill-opacity=\"1\" stroke=\"none\"/>\n",
       "<circle clip-path=\"url(#clip222)\" cx=\"289.214\" cy=\"787.437\" r=\"14\" fill=\"#cd5c5c\" fill-rule=\"evenodd\" fill-opacity=\"1\" stroke=\"none\"/>\n",
       "<circle clip-path=\"url(#clip222)\" cx=\"294.818\" cy=\"805.691\" r=\"14\" fill=\"#cd5c5c\" fill-rule=\"evenodd\" fill-opacity=\"1\" stroke=\"none\"/>\n",
       "<circle clip-path=\"url(#clip222)\" cx=\"300.422\" cy=\"865.785\" r=\"14\" fill=\"#cd5c5c\" fill-rule=\"evenodd\" fill-opacity=\"1\" stroke=\"none\"/>\n",
       "<circle clip-path=\"url(#clip222)\" cx=\"306.027\" cy=\"843.042\" r=\"14\" fill=\"#cd5c5c\" fill-rule=\"evenodd\" fill-opacity=\"1\" stroke=\"none\"/>\n",
       "<circle clip-path=\"url(#clip222)\" cx=\"311.631\" cy=\"825.779\" r=\"14\" fill=\"#cd5c5c\" fill-rule=\"evenodd\" fill-opacity=\"1\" stroke=\"none\"/>\n",
       "<circle clip-path=\"url(#clip222)\" cx=\"317.236\" cy=\"802.27\" r=\"14\" fill=\"#cd5c5c\" fill-rule=\"evenodd\" fill-opacity=\"1\" stroke=\"none\"/>\n",
       "<circle clip-path=\"url(#clip222)\" cx=\"322.84\" cy=\"773.837\" r=\"14\" fill=\"#cd5c5c\" fill-rule=\"evenodd\" fill-opacity=\"1\" stroke=\"none\"/>\n",
       "<circle clip-path=\"url(#clip222)\" cx=\"328.445\" cy=\"772.642\" r=\"14\" fill=\"#cd5c5c\" fill-rule=\"evenodd\" fill-opacity=\"1\" stroke=\"none\"/>\n",
       "<circle clip-path=\"url(#clip222)\" cx=\"334.049\" cy=\"838.341\" r=\"14\" fill=\"#cd5c5c\" fill-rule=\"evenodd\" fill-opacity=\"1\" stroke=\"none\"/>\n",
       "<circle clip-path=\"url(#clip222)\" cx=\"339.654\" cy=\"821.588\" r=\"14\" fill=\"#cd5c5c\" fill-rule=\"evenodd\" fill-opacity=\"1\" stroke=\"none\"/>\n",
       "<circle clip-path=\"url(#clip222)\" cx=\"345.258\" cy=\"866.393\" r=\"14\" fill=\"#cd5c5c\" fill-rule=\"evenodd\" fill-opacity=\"1\" stroke=\"none\"/>\n",
       "<circle clip-path=\"url(#clip222)\" cx=\"350.863\" cy=\"849.042\" r=\"14\" fill=\"#cd5c5c\" fill-rule=\"evenodd\" fill-opacity=\"1\" stroke=\"none\"/>\n",
       "<circle clip-path=\"url(#clip222)\" cx=\"356.467\" cy=\"815.891\" r=\"14\" fill=\"#cd5c5c\" fill-rule=\"evenodd\" fill-opacity=\"1\" stroke=\"none\"/>\n",
       "<circle clip-path=\"url(#clip222)\" cx=\"362.072\" cy=\"850.167\" r=\"14\" fill=\"#cd5c5c\" fill-rule=\"evenodd\" fill-opacity=\"1\" stroke=\"none\"/>\n",
       "<circle clip-path=\"url(#clip222)\" cx=\"367.676\" cy=\"859.129\" r=\"14\" fill=\"#cd5c5c\" fill-rule=\"evenodd\" fill-opacity=\"1\" stroke=\"none\"/>\n",
       "<circle clip-path=\"url(#clip222)\" cx=\"373.28\" cy=\"821.898\" r=\"14\" fill=\"#cd5c5c\" fill-rule=\"evenodd\" fill-opacity=\"1\" stroke=\"none\"/>\n",
       "<circle clip-path=\"url(#clip222)\" cx=\"378.885\" cy=\"876.296\" r=\"14\" fill=\"#cd5c5c\" fill-rule=\"evenodd\" fill-opacity=\"1\" stroke=\"none\"/>\n",
       "<circle clip-path=\"url(#clip222)\" cx=\"384.489\" cy=\"860.253\" r=\"14\" fill=\"#cd5c5c\" fill-rule=\"evenodd\" fill-opacity=\"1\" stroke=\"none\"/>\n",
       "<circle clip-path=\"url(#clip222)\" cx=\"390.094\" cy=\"863.222\" r=\"14\" fill=\"#cd5c5c\" fill-rule=\"evenodd\" fill-opacity=\"1\" stroke=\"none\"/>\n",
       "<circle clip-path=\"url(#clip222)\" cx=\"395.698\" cy=\"859.316\" r=\"14\" fill=\"#cd5c5c\" fill-rule=\"evenodd\" fill-opacity=\"1\" stroke=\"none\"/>\n",
       "<circle clip-path=\"url(#clip222)\" cx=\"401.303\" cy=\"836.949\" r=\"14\" fill=\"#cd5c5c\" fill-rule=\"evenodd\" fill-opacity=\"1\" stroke=\"none\"/>\n",
       "<circle clip-path=\"url(#clip222)\" cx=\"406.907\" cy=\"820.747\" r=\"14\" fill=\"#cd5c5c\" fill-rule=\"evenodd\" fill-opacity=\"1\" stroke=\"none\"/>\n",
       "<circle clip-path=\"url(#clip222)\" cx=\"412.512\" cy=\"863.958\" r=\"14\" fill=\"#cd5c5c\" fill-rule=\"evenodd\" fill-opacity=\"1\" stroke=\"none\"/>\n",
       "<circle clip-path=\"url(#clip222)\" cx=\"418.116\" cy=\"874.692\" r=\"14\" fill=\"#cd5c5c\" fill-rule=\"evenodd\" fill-opacity=\"1\" stroke=\"none\"/>\n",
       "<circle clip-path=\"url(#clip222)\" cx=\"423.721\" cy=\"859.373\" r=\"14\" fill=\"#cd5c5c\" fill-rule=\"evenodd\" fill-opacity=\"1\" stroke=\"none\"/>\n",
       "<circle clip-path=\"url(#clip222)\" cx=\"429.325\" cy=\"835.545\" r=\"14\" fill=\"#cd5c5c\" fill-rule=\"evenodd\" fill-opacity=\"1\" stroke=\"none\"/>\n",
       "<circle clip-path=\"url(#clip222)\" cx=\"434.929\" cy=\"860.356\" r=\"14\" fill=\"#cd5c5c\" fill-rule=\"evenodd\" fill-opacity=\"1\" stroke=\"none\"/>\n",
       "<circle clip-path=\"url(#clip222)\" cx=\"440.534\" cy=\"871.89\" r=\"14\" fill=\"#cd5c5c\" fill-rule=\"evenodd\" fill-opacity=\"1\" stroke=\"none\"/>\n",
       "<circle clip-path=\"url(#clip222)\" cx=\"446.138\" cy=\"829.561\" r=\"14\" fill=\"#cd5c5c\" fill-rule=\"evenodd\" fill-opacity=\"1\" stroke=\"none\"/>\n",
       "<circle clip-path=\"url(#clip222)\" cx=\"451.743\" cy=\"882.626\" r=\"14\" fill=\"#cd5c5c\" fill-rule=\"evenodd\" fill-opacity=\"1\" stroke=\"none\"/>\n",
       "<circle clip-path=\"url(#clip222)\" cx=\"457.347\" cy=\"877.269\" r=\"14\" fill=\"#cd5c5c\" fill-rule=\"evenodd\" fill-opacity=\"1\" stroke=\"none\"/>\n",
       "<circle clip-path=\"url(#clip222)\" cx=\"462.952\" cy=\"878.857\" r=\"14\" fill=\"#cd5c5c\" fill-rule=\"evenodd\" fill-opacity=\"1\" stroke=\"none\"/>\n",
       "<circle clip-path=\"url(#clip222)\" cx=\"468.556\" cy=\"870.563\" r=\"14\" fill=\"#cd5c5c\" fill-rule=\"evenodd\" fill-opacity=\"1\" stroke=\"none\"/>\n",
       "<circle clip-path=\"url(#clip222)\" cx=\"474.161\" cy=\"855.796\" r=\"14\" fill=\"#cd5c5c\" fill-rule=\"evenodd\" fill-opacity=\"1\" stroke=\"none\"/>\n",
       "<circle clip-path=\"url(#clip222)\" cx=\"479.765\" cy=\"869.084\" r=\"14\" fill=\"#cd5c5c\" fill-rule=\"evenodd\" fill-opacity=\"1\" stroke=\"none\"/>\n",
       "<circle clip-path=\"url(#clip222)\" cx=\"485.37\" cy=\"856.49\" r=\"14\" fill=\"#cd5c5c\" fill-rule=\"evenodd\" fill-opacity=\"1\" stroke=\"none\"/>\n",
       "<circle clip-path=\"url(#clip222)\" cx=\"490.974\" cy=\"879.341\" r=\"14\" fill=\"#cd5c5c\" fill-rule=\"evenodd\" fill-opacity=\"1\" stroke=\"none\"/>\n",
       "<circle clip-path=\"url(#clip222)\" cx=\"496.579\" cy=\"874.979\" r=\"14\" fill=\"#cd5c5c\" fill-rule=\"evenodd\" fill-opacity=\"1\" stroke=\"none\"/>\n",
       "<circle clip-path=\"url(#clip222)\" cx=\"502.183\" cy=\"865.732\" r=\"14\" fill=\"#cd5c5c\" fill-rule=\"evenodd\" fill-opacity=\"1\" stroke=\"none\"/>\n",
       "<circle clip-path=\"url(#clip222)\" cx=\"507.787\" cy=\"884.122\" r=\"14\" fill=\"#cd5c5c\" fill-rule=\"evenodd\" fill-opacity=\"1\" stroke=\"none\"/>\n",
       "<circle clip-path=\"url(#clip222)\" cx=\"513.392\" cy=\"872.369\" r=\"14\" fill=\"#cd5c5c\" fill-rule=\"evenodd\" fill-opacity=\"1\" stroke=\"none\"/>\n",
       "<circle clip-path=\"url(#clip222)\" cx=\"518.996\" cy=\"866.744\" r=\"14\" fill=\"#cd5c5c\" fill-rule=\"evenodd\" fill-opacity=\"1\" stroke=\"none\"/>\n",
       "<circle clip-path=\"url(#clip222)\" cx=\"524.601\" cy=\"860.36\" r=\"14\" fill=\"#cd5c5c\" fill-rule=\"evenodd\" fill-opacity=\"1\" stroke=\"none\"/>\n",
       "<circle clip-path=\"url(#clip222)\" cx=\"530.205\" cy=\"866.591\" r=\"14\" fill=\"#cd5c5c\" fill-rule=\"evenodd\" fill-opacity=\"1\" stroke=\"none\"/>\n",
       "<circle clip-path=\"url(#clip222)\" cx=\"535.81\" cy=\"848.865\" r=\"14\" fill=\"#cd5c5c\" fill-rule=\"evenodd\" fill-opacity=\"1\" stroke=\"none\"/>\n",
       "<circle clip-path=\"url(#clip222)\" cx=\"541.414\" cy=\"869.654\" r=\"14\" fill=\"#cd5c5c\" fill-rule=\"evenodd\" fill-opacity=\"1\" stroke=\"none\"/>\n",
       "<circle clip-path=\"url(#clip222)\" cx=\"547.019\" cy=\"881.438\" r=\"14\" fill=\"#cd5c5c\" fill-rule=\"evenodd\" fill-opacity=\"1\" stroke=\"none\"/>\n",
       "<circle clip-path=\"url(#clip222)\" cx=\"552.623\" cy=\"874.41\" r=\"14\" fill=\"#cd5c5c\" fill-rule=\"evenodd\" fill-opacity=\"1\" stroke=\"none\"/>\n",
       "<circle clip-path=\"url(#clip222)\" cx=\"558.228\" cy=\"873.054\" r=\"14\" fill=\"#cd5c5c\" fill-rule=\"evenodd\" fill-opacity=\"1\" stroke=\"none\"/>\n",
       "<circle clip-path=\"url(#clip222)\" cx=\"563.832\" cy=\"872.684\" r=\"14\" fill=\"#cd5c5c\" fill-rule=\"evenodd\" fill-opacity=\"1\" stroke=\"none\"/>\n",
       "<circle clip-path=\"url(#clip222)\" cx=\"569.436\" cy=\"867.044\" r=\"14\" fill=\"#cd5c5c\" fill-rule=\"evenodd\" fill-opacity=\"1\" stroke=\"none\"/>\n",
       "<circle clip-path=\"url(#clip222)\" cx=\"575.041\" cy=\"865.318\" r=\"14\" fill=\"#cd5c5c\" fill-rule=\"evenodd\" fill-opacity=\"1\" stroke=\"none\"/>\n",
       "<circle clip-path=\"url(#clip222)\" cx=\"580.645\" cy=\"878.339\" r=\"14\" fill=\"#cd5c5c\" fill-rule=\"evenodd\" fill-opacity=\"1\" stroke=\"none\"/>\n",
       "<circle clip-path=\"url(#clip222)\" cx=\"586.25\" cy=\"873.175\" r=\"14\" fill=\"#cd5c5c\" fill-rule=\"evenodd\" fill-opacity=\"1\" stroke=\"none\"/>\n",
       "<circle clip-path=\"url(#clip222)\" cx=\"591.854\" cy=\"880.797\" r=\"14\" fill=\"#cd5c5c\" fill-rule=\"evenodd\" fill-opacity=\"1\" stroke=\"none\"/>\n",
       "<circle clip-path=\"url(#clip222)\" cx=\"597.459\" cy=\"879.124\" r=\"14\" fill=\"#cd5c5c\" fill-rule=\"evenodd\" fill-opacity=\"1\" stroke=\"none\"/>\n",
       "<circle clip-path=\"url(#clip222)\" cx=\"603.063\" cy=\"876.233\" r=\"14\" fill=\"#cd5c5c\" fill-rule=\"evenodd\" fill-opacity=\"1\" stroke=\"none\"/>\n",
       "<circle clip-path=\"url(#clip222)\" cx=\"608.668\" cy=\"880.479\" r=\"14\" fill=\"#cd5c5c\" fill-rule=\"evenodd\" fill-opacity=\"1\" stroke=\"none\"/>\n",
       "<circle clip-path=\"url(#clip222)\" cx=\"614.272\" cy=\"868.483\" r=\"14\" fill=\"#cd5c5c\" fill-rule=\"evenodd\" fill-opacity=\"1\" stroke=\"none\"/>\n",
       "<circle clip-path=\"url(#clip222)\" cx=\"619.877\" cy=\"883.609\" r=\"14\" fill=\"#cd5c5c\" fill-rule=\"evenodd\" fill-opacity=\"1\" stroke=\"none\"/>\n",
       "<circle clip-path=\"url(#clip222)\" cx=\"625.481\" cy=\"884.795\" r=\"14\" fill=\"#cd5c5c\" fill-rule=\"evenodd\" fill-opacity=\"1\" stroke=\"none\"/>\n",
       "<circle clip-path=\"url(#clip222)\" cx=\"631.086\" cy=\"883.224\" r=\"14\" fill=\"#cd5c5c\" fill-rule=\"evenodd\" fill-opacity=\"1\" stroke=\"none\"/>\n",
       "<circle clip-path=\"url(#clip222)\" cx=\"636.69\" cy=\"884.012\" r=\"14\" fill=\"#cd5c5c\" fill-rule=\"evenodd\" fill-opacity=\"1\" stroke=\"none\"/>\n",
       "<circle clip-path=\"url(#clip222)\" cx=\"642.294\" cy=\"880.403\" r=\"14\" fill=\"#cd5c5c\" fill-rule=\"evenodd\" fill-opacity=\"1\" stroke=\"none\"/>\n",
       "<circle clip-path=\"url(#clip222)\" cx=\"647.899\" cy=\"875.381\" r=\"14\" fill=\"#cd5c5c\" fill-rule=\"evenodd\" fill-opacity=\"1\" stroke=\"none\"/>\n",
       "<circle clip-path=\"url(#clip222)\" cx=\"653.503\" cy=\"881.442\" r=\"14\" fill=\"#cd5c5c\" fill-rule=\"evenodd\" fill-opacity=\"1\" stroke=\"none\"/>\n",
       "<circle clip-path=\"url(#clip222)\" cx=\"659.108\" cy=\"883.244\" r=\"14\" fill=\"#cd5c5c\" fill-rule=\"evenodd\" fill-opacity=\"1\" stroke=\"none\"/>\n",
       "<circle clip-path=\"url(#clip222)\" cx=\"664.712\" cy=\"882.48\" r=\"14\" fill=\"#cd5c5c\" fill-rule=\"evenodd\" fill-opacity=\"1\" stroke=\"none\"/>\n",
       "<circle clip-path=\"url(#clip222)\" cx=\"670.317\" cy=\"882.633\" r=\"14\" fill=\"#cd5c5c\" fill-rule=\"evenodd\" fill-opacity=\"1\" stroke=\"none\"/>\n",
       "<circle clip-path=\"url(#clip222)\" cx=\"675.921\" cy=\"882.959\" r=\"14\" fill=\"#cd5c5c\" fill-rule=\"evenodd\" fill-opacity=\"1\" stroke=\"none\"/>\n",
       "<circle clip-path=\"url(#clip222)\" cx=\"681.526\" cy=\"871.362\" r=\"14\" fill=\"#cd5c5c\" fill-rule=\"evenodd\" fill-opacity=\"1\" stroke=\"none\"/>\n",
       "<circle clip-path=\"url(#clip222)\" cx=\"687.13\" cy=\"876.373\" r=\"14\" fill=\"#cd5c5c\" fill-rule=\"evenodd\" fill-opacity=\"1\" stroke=\"none\"/>\n",
       "<circle clip-path=\"url(#clip222)\" cx=\"692.735\" cy=\"875.843\" r=\"14\" fill=\"#cd5c5c\" fill-rule=\"evenodd\" fill-opacity=\"1\" stroke=\"none\"/>\n",
       "<circle clip-path=\"url(#clip222)\" cx=\"698.339\" cy=\"878.867\" r=\"14\" fill=\"#cd5c5c\" fill-rule=\"evenodd\" fill-opacity=\"1\" stroke=\"none\"/>\n",
       "<circle clip-path=\"url(#clip222)\" cx=\"703.944\" cy=\"873.689\" r=\"14\" fill=\"#cd5c5c\" fill-rule=\"evenodd\" fill-opacity=\"1\" stroke=\"none\"/>\n",
       "<circle clip-path=\"url(#clip222)\" cx=\"709.548\" cy=\"884.212\" r=\"14\" fill=\"#cd5c5c\" fill-rule=\"evenodd\" fill-opacity=\"1\" stroke=\"none\"/>\n",
       "<circle clip-path=\"url(#clip222)\" cx=\"715.152\" cy=\"874.436\" r=\"14\" fill=\"#cd5c5c\" fill-rule=\"evenodd\" fill-opacity=\"1\" stroke=\"none\"/>\n",
       "<circle clip-path=\"url(#clip222)\" cx=\"720.757\" cy=\"882.986\" r=\"14\" fill=\"#cd5c5c\" fill-rule=\"evenodd\" fill-opacity=\"1\" stroke=\"none\"/>\n",
       "<circle clip-path=\"url(#clip222)\" cx=\"726.361\" cy=\"878.749\" r=\"14\" fill=\"#cd5c5c\" fill-rule=\"evenodd\" fill-opacity=\"1\" stroke=\"none\"/>\n",
       "<circle clip-path=\"url(#clip222)\" cx=\"731.966\" cy=\"865.677\" r=\"14\" fill=\"#cd5c5c\" fill-rule=\"evenodd\" fill-opacity=\"1\" stroke=\"none\"/>\n",
       "<circle clip-path=\"url(#clip222)\" cx=\"737.57\" cy=\"880.574\" r=\"14\" fill=\"#cd5c5c\" fill-rule=\"evenodd\" fill-opacity=\"1\" stroke=\"none\"/>\n",
       "<circle clip-path=\"url(#clip222)\" cx=\"743.175\" cy=\"877.841\" r=\"14\" fill=\"#cd5c5c\" fill-rule=\"evenodd\" fill-opacity=\"1\" stroke=\"none\"/>\n",
       "<circle clip-path=\"url(#clip222)\" cx=\"748.779\" cy=\"877.423\" r=\"14\" fill=\"#cd5c5c\" fill-rule=\"evenodd\" fill-opacity=\"1\" stroke=\"none\"/>\n",
       "<circle clip-path=\"url(#clip222)\" cx=\"754.384\" cy=\"880.267\" r=\"14\" fill=\"#cd5c5c\" fill-rule=\"evenodd\" fill-opacity=\"1\" stroke=\"none\"/>\n",
       "<circle clip-path=\"url(#clip222)\" cx=\"759.988\" cy=\"874.149\" r=\"14\" fill=\"#cd5c5c\" fill-rule=\"evenodd\" fill-opacity=\"1\" stroke=\"none\"/>\n",
       "<circle clip-path=\"url(#clip222)\" cx=\"765.593\" cy=\"867.435\" r=\"14\" fill=\"#cd5c5c\" fill-rule=\"evenodd\" fill-opacity=\"1\" stroke=\"none\"/>\n",
       "<circle clip-path=\"url(#clip222)\" cx=\"771.197\" cy=\"882.918\" r=\"14\" fill=\"#cd5c5c\" fill-rule=\"evenodd\" fill-opacity=\"1\" stroke=\"none\"/>\n",
       "<circle clip-path=\"url(#clip222)\" cx=\"776.801\" cy=\"871.935\" r=\"14\" fill=\"#cd5c5c\" fill-rule=\"evenodd\" fill-opacity=\"1\" stroke=\"none\"/>\n",
       "<circle clip-path=\"url(#clip222)\" cx=\"782.406\" cy=\"874.042\" r=\"14\" fill=\"#cd5c5c\" fill-rule=\"evenodd\" fill-opacity=\"1\" stroke=\"none\"/>\n",
       "<circle clip-path=\"url(#clip222)\" cx=\"788.01\" cy=\"871.745\" r=\"14\" fill=\"#cd5c5c\" fill-rule=\"evenodd\" fill-opacity=\"1\" stroke=\"none\"/>\n",
       "<circle clip-path=\"url(#clip222)\" cx=\"793.615\" cy=\"879.744\" r=\"14\" fill=\"#cd5c5c\" fill-rule=\"evenodd\" fill-opacity=\"1\" stroke=\"none\"/>\n",
       "<circle clip-path=\"url(#clip222)\" cx=\"799.219\" cy=\"877.334\" r=\"14\" fill=\"#cd5c5c\" fill-rule=\"evenodd\" fill-opacity=\"1\" stroke=\"none\"/>\n",
       "<circle clip-path=\"url(#clip222)\" cx=\"804.824\" cy=\"878.315\" r=\"14\" fill=\"#cd5c5c\" fill-rule=\"evenodd\" fill-opacity=\"1\" stroke=\"none\"/>\n",
       "<circle clip-path=\"url(#clip222)\" cx=\"810.428\" cy=\"880.87\" r=\"14\" fill=\"#cd5c5c\" fill-rule=\"evenodd\" fill-opacity=\"1\" stroke=\"none\"/>\n",
       "<circle clip-path=\"url(#clip222)\" cx=\"816.033\" cy=\"868.567\" r=\"14\" fill=\"#cd5c5c\" fill-rule=\"evenodd\" fill-opacity=\"1\" stroke=\"none\"/>\n",
       "<circle clip-path=\"url(#clip222)\" cx=\"821.637\" cy=\"877.596\" r=\"14\" fill=\"#cd5c5c\" fill-rule=\"evenodd\" fill-opacity=\"1\" stroke=\"none\"/>\n",
       "<circle clip-path=\"url(#clip222)\" cx=\"827.242\" cy=\"865.376\" r=\"14\" fill=\"#cd5c5c\" fill-rule=\"evenodd\" fill-opacity=\"1\" stroke=\"none\"/>\n",
       "<circle clip-path=\"url(#clip222)\" cx=\"832.846\" cy=\"880.774\" r=\"14\" fill=\"#cd5c5c\" fill-rule=\"evenodd\" fill-opacity=\"1\" stroke=\"none\"/>\n",
       "<circle clip-path=\"url(#clip222)\" cx=\"838.451\" cy=\"877.057\" r=\"14\" fill=\"#cd5c5c\" fill-rule=\"evenodd\" fill-opacity=\"1\" stroke=\"none\"/>\n",
       "<circle clip-path=\"url(#clip222)\" cx=\"844.055\" cy=\"883.352\" r=\"14\" fill=\"#cd5c5c\" fill-rule=\"evenodd\" fill-opacity=\"1\" stroke=\"none\"/>\n",
       "<circle clip-path=\"url(#clip222)\" cx=\"849.659\" cy=\"872.118\" r=\"14\" fill=\"#cd5c5c\" fill-rule=\"evenodd\" fill-opacity=\"1\" stroke=\"none\"/>\n",
       "<circle clip-path=\"url(#clip222)\" cx=\"855.264\" cy=\"878.742\" r=\"14\" fill=\"#cd5c5c\" fill-rule=\"evenodd\" fill-opacity=\"1\" stroke=\"none\"/>\n",
       "<circle clip-path=\"url(#clip222)\" cx=\"860.868\" cy=\"871.329\" r=\"14\" fill=\"#cd5c5c\" fill-rule=\"evenodd\" fill-opacity=\"1\" stroke=\"none\"/>\n",
       "<circle clip-path=\"url(#clip222)\" cx=\"866.473\" cy=\"874.61\" r=\"14\" fill=\"#cd5c5c\" fill-rule=\"evenodd\" fill-opacity=\"1\" stroke=\"none\"/>\n",
       "<circle clip-path=\"url(#clip222)\" cx=\"872.077\" cy=\"882.47\" r=\"14\" fill=\"#cd5c5c\" fill-rule=\"evenodd\" fill-opacity=\"1\" stroke=\"none\"/>\n",
       "<circle clip-path=\"url(#clip222)\" cx=\"877.682\" cy=\"884.077\" r=\"14\" fill=\"#cd5c5c\" fill-rule=\"evenodd\" fill-opacity=\"1\" stroke=\"none\"/>\n",
       "<circle clip-path=\"url(#clip222)\" cx=\"883.286\" cy=\"879.891\" r=\"14\" fill=\"#cd5c5c\" fill-rule=\"evenodd\" fill-opacity=\"1\" stroke=\"none\"/>\n",
       "<circle clip-path=\"url(#clip222)\" cx=\"888.891\" cy=\"880.278\" r=\"14\" fill=\"#cd5c5c\" fill-rule=\"evenodd\" fill-opacity=\"1\" stroke=\"none\"/>\n",
       "<circle clip-path=\"url(#clip222)\" cx=\"894.495\" cy=\"869.462\" r=\"14\" fill=\"#cd5c5c\" fill-rule=\"evenodd\" fill-opacity=\"1\" stroke=\"none\"/>\n",
       "<circle clip-path=\"url(#clip222)\" cx=\"900.1\" cy=\"881.711\" r=\"14\" fill=\"#cd5c5c\" fill-rule=\"evenodd\" fill-opacity=\"1\" stroke=\"none\"/>\n",
       "<circle clip-path=\"url(#clip222)\" cx=\"905.704\" cy=\"870.722\" r=\"14\" fill=\"#cd5c5c\" fill-rule=\"evenodd\" fill-opacity=\"1\" stroke=\"none\"/>\n",
       "<circle clip-path=\"url(#clip222)\" cx=\"911.309\" cy=\"884.316\" r=\"14\" fill=\"#cd5c5c\" fill-rule=\"evenodd\" fill-opacity=\"1\" stroke=\"none\"/>\n",
       "<circle clip-path=\"url(#clip222)\" cx=\"916.913\" cy=\"880.179\" r=\"14\" fill=\"#cd5c5c\" fill-rule=\"evenodd\" fill-opacity=\"1\" stroke=\"none\"/>\n",
       "<circle clip-path=\"url(#clip222)\" cx=\"922.517\" cy=\"882.69\" r=\"14\" fill=\"#cd5c5c\" fill-rule=\"evenodd\" fill-opacity=\"1\" stroke=\"none\"/>\n",
       "<circle clip-path=\"url(#clip222)\" cx=\"928.122\" cy=\"881.92\" r=\"14\" fill=\"#cd5c5c\" fill-rule=\"evenodd\" fill-opacity=\"1\" stroke=\"none\"/>\n",
       "<circle clip-path=\"url(#clip222)\" cx=\"933.726\" cy=\"879.455\" r=\"14\" fill=\"#cd5c5c\" fill-rule=\"evenodd\" fill-opacity=\"1\" stroke=\"none\"/>\n",
       "<circle clip-path=\"url(#clip222)\" cx=\"939.331\" cy=\"882.293\" r=\"14\" fill=\"#cd5c5c\" fill-rule=\"evenodd\" fill-opacity=\"1\" stroke=\"none\"/>\n",
       "<circle clip-path=\"url(#clip222)\" cx=\"944.935\" cy=\"883.147\" r=\"14\" fill=\"#cd5c5c\" fill-rule=\"evenodd\" fill-opacity=\"1\" stroke=\"none\"/>\n",
       "<circle clip-path=\"url(#clip222)\" cx=\"950.54\" cy=\"878.746\" r=\"14\" fill=\"#cd5c5c\" fill-rule=\"evenodd\" fill-opacity=\"1\" stroke=\"none\"/>\n",
       "<circle clip-path=\"url(#clip222)\" cx=\"956.144\" cy=\"881.732\" r=\"14\" fill=\"#cd5c5c\" fill-rule=\"evenodd\" fill-opacity=\"1\" stroke=\"none\"/>\n",
       "<circle clip-path=\"url(#clip222)\" cx=\"961.749\" cy=\"882.175\" r=\"14\" fill=\"#cd5c5c\" fill-rule=\"evenodd\" fill-opacity=\"1\" stroke=\"none\"/>\n",
       "<circle clip-path=\"url(#clip222)\" cx=\"967.353\" cy=\"876.438\" r=\"14\" fill=\"#cd5c5c\" fill-rule=\"evenodd\" fill-opacity=\"1\" stroke=\"none\"/>\n",
       "<circle clip-path=\"url(#clip222)\" cx=\"972.958\" cy=\"882.065\" r=\"14\" fill=\"#cd5c5c\" fill-rule=\"evenodd\" fill-opacity=\"1\" stroke=\"none\"/>\n",
       "<circle clip-path=\"url(#clip222)\" cx=\"978.562\" cy=\"881.339\" r=\"14\" fill=\"#cd5c5c\" fill-rule=\"evenodd\" fill-opacity=\"1\" stroke=\"none\"/>\n",
       "<circle clip-path=\"url(#clip222)\" cx=\"984.166\" cy=\"880.334\" r=\"14\" fill=\"#cd5c5c\" fill-rule=\"evenodd\" fill-opacity=\"1\" stroke=\"none\"/>\n",
       "<circle clip-path=\"url(#clip222)\" cx=\"989.771\" cy=\"878.87\" r=\"14\" fill=\"#cd5c5c\" fill-rule=\"evenodd\" fill-opacity=\"1\" stroke=\"none\"/>\n",
       "<circle clip-path=\"url(#clip222)\" cx=\"995.375\" cy=\"883.454\" r=\"14\" fill=\"#cd5c5c\" fill-rule=\"evenodd\" fill-opacity=\"1\" stroke=\"none\"/>\n",
       "<circle clip-path=\"url(#clip222)\" cx=\"1000.98\" cy=\"883.45\" r=\"14\" fill=\"#cd5c5c\" fill-rule=\"evenodd\" fill-opacity=\"1\" stroke=\"none\"/>\n",
       "<circle clip-path=\"url(#clip222)\" cx=\"1006.58\" cy=\"880.243\" r=\"14\" fill=\"#cd5c5c\" fill-rule=\"evenodd\" fill-opacity=\"1\" stroke=\"none\"/>\n",
       "<circle clip-path=\"url(#clip222)\" cx=\"1012.19\" cy=\"880.612\" r=\"14\" fill=\"#cd5c5c\" fill-rule=\"evenodd\" fill-opacity=\"1\" stroke=\"none\"/>\n",
       "<circle clip-path=\"url(#clip222)\" cx=\"1017.79\" cy=\"876.18\" r=\"14\" fill=\"#cd5c5c\" fill-rule=\"evenodd\" fill-opacity=\"1\" stroke=\"none\"/>\n",
       "<circle clip-path=\"url(#clip222)\" cx=\"1023.4\" cy=\"875.504\" r=\"14\" fill=\"#cd5c5c\" fill-rule=\"evenodd\" fill-opacity=\"1\" stroke=\"none\"/>\n",
       "<circle clip-path=\"url(#clip222)\" cx=\"1029\" cy=\"880.456\" r=\"14\" fill=\"#cd5c5c\" fill-rule=\"evenodd\" fill-opacity=\"1\" stroke=\"none\"/>\n",
       "<circle clip-path=\"url(#clip222)\" cx=\"1034.61\" cy=\"882.544\" r=\"14\" fill=\"#cd5c5c\" fill-rule=\"evenodd\" fill-opacity=\"1\" stroke=\"none\"/>\n",
       "<circle clip-path=\"url(#clip222)\" cx=\"1040.21\" cy=\"879.529\" r=\"14\" fill=\"#cd5c5c\" fill-rule=\"evenodd\" fill-opacity=\"1\" stroke=\"none\"/>\n",
       "<circle clip-path=\"url(#clip222)\" cx=\"1045.82\" cy=\"883.249\" r=\"14\" fill=\"#cd5c5c\" fill-rule=\"evenodd\" fill-opacity=\"1\" stroke=\"none\"/>\n",
       "<circle clip-path=\"url(#clip222)\" cx=\"1051.42\" cy=\"880.806\" r=\"14\" fill=\"#cd5c5c\" fill-rule=\"evenodd\" fill-opacity=\"1\" stroke=\"none\"/>\n",
       "<circle clip-path=\"url(#clip222)\" cx=\"1057.02\" cy=\"883.39\" r=\"14\" fill=\"#cd5c5c\" fill-rule=\"evenodd\" fill-opacity=\"1\" stroke=\"none\"/>\n",
       "<circle clip-path=\"url(#clip222)\" cx=\"1062.63\" cy=\"879.36\" r=\"14\" fill=\"#cd5c5c\" fill-rule=\"evenodd\" fill-opacity=\"1\" stroke=\"none\"/>\n",
       "<circle clip-path=\"url(#clip222)\" cx=\"1068.23\" cy=\"885.125\" r=\"14\" fill=\"#cd5c5c\" fill-rule=\"evenodd\" fill-opacity=\"1\" stroke=\"none\"/>\n",
       "<circle clip-path=\"url(#clip222)\" cx=\"1073.84\" cy=\"885.468\" r=\"14\" fill=\"#cd5c5c\" fill-rule=\"evenodd\" fill-opacity=\"1\" stroke=\"none\"/>\n",
       "<circle clip-path=\"url(#clip222)\" cx=\"1079.44\" cy=\"883.113\" r=\"14\" fill=\"#cd5c5c\" fill-rule=\"evenodd\" fill-opacity=\"1\" stroke=\"none\"/>\n",
       "<circle clip-path=\"url(#clip222)\" cx=\"1085.05\" cy=\"873.554\" r=\"14\" fill=\"#cd5c5c\" fill-rule=\"evenodd\" fill-opacity=\"1\" stroke=\"none\"/>\n",
       "<circle clip-path=\"url(#clip222)\" cx=\"1090.65\" cy=\"882.52\" r=\"14\" fill=\"#cd5c5c\" fill-rule=\"evenodd\" fill-opacity=\"1\" stroke=\"none\"/>\n",
       "<circle clip-path=\"url(#clip222)\" cx=\"1096.26\" cy=\"861.959\" r=\"14\" fill=\"#cd5c5c\" fill-rule=\"evenodd\" fill-opacity=\"1\" stroke=\"none\"/>\n",
       "<circle clip-path=\"url(#clip222)\" cx=\"1101.86\" cy=\"876.925\" r=\"14\" fill=\"#cd5c5c\" fill-rule=\"evenodd\" fill-opacity=\"1\" stroke=\"none\"/>\n",
       "<circle clip-path=\"url(#clip222)\" cx=\"1107.46\" cy=\"871.846\" r=\"14\" fill=\"#cd5c5c\" fill-rule=\"evenodd\" fill-opacity=\"1\" stroke=\"none\"/>\n",
       "<circle clip-path=\"url(#clip222)\" cx=\"1113.07\" cy=\"880.578\" r=\"14\" fill=\"#cd5c5c\" fill-rule=\"evenodd\" fill-opacity=\"1\" stroke=\"none\"/>\n",
       "<circle clip-path=\"url(#clip222)\" cx=\"1118.67\" cy=\"876.816\" r=\"14\" fill=\"#cd5c5c\" fill-rule=\"evenodd\" fill-opacity=\"1\" stroke=\"none\"/>\n",
       "<circle clip-path=\"url(#clip222)\" cx=\"1124.28\" cy=\"880.625\" r=\"14\" fill=\"#cd5c5c\" fill-rule=\"evenodd\" fill-opacity=\"1\" stroke=\"none\"/>\n",
       "<circle clip-path=\"url(#clip222)\" cx=\"1129.88\" cy=\"883.008\" r=\"14\" fill=\"#cd5c5c\" fill-rule=\"evenodd\" fill-opacity=\"1\" stroke=\"none\"/>\n",
       "<circle clip-path=\"url(#clip222)\" cx=\"1135.49\" cy=\"885.076\" r=\"14\" fill=\"#cd5c5c\" fill-rule=\"evenodd\" fill-opacity=\"1\" stroke=\"none\"/>\n",
       "<circle clip-path=\"url(#clip222)\" cx=\"1141.09\" cy=\"882.112\" r=\"14\" fill=\"#cd5c5c\" fill-rule=\"evenodd\" fill-opacity=\"1\" stroke=\"none\"/>\n",
       "<circle clip-path=\"url(#clip222)\" cx=\"1146.7\" cy=\"880.155\" r=\"14\" fill=\"#cd5c5c\" fill-rule=\"evenodd\" fill-opacity=\"1\" stroke=\"none\"/>\n",
       "<circle clip-path=\"url(#clip222)\" cx=\"1152.3\" cy=\"878.629\" r=\"14\" fill=\"#cd5c5c\" fill-rule=\"evenodd\" fill-opacity=\"1\" stroke=\"none\"/>\n",
       "<circle clip-path=\"url(#clip222)\" cx=\"1157.9\" cy=\"883.253\" r=\"14\" fill=\"#cd5c5c\" fill-rule=\"evenodd\" fill-opacity=\"1\" stroke=\"none\"/>\n",
       "<circle clip-path=\"url(#clip222)\" cx=\"1163.51\" cy=\"879.338\" r=\"14\" fill=\"#cd5c5c\" fill-rule=\"evenodd\" fill-opacity=\"1\" stroke=\"none\"/>\n",
       "<circle clip-path=\"url(#clip222)\" cx=\"1169.11\" cy=\"884.545\" r=\"14\" fill=\"#cd5c5c\" fill-rule=\"evenodd\" fill-opacity=\"1\" stroke=\"none\"/>\n",
       "<circle clip-path=\"url(#clip222)\" cx=\"1174.72\" cy=\"881.687\" r=\"14\" fill=\"#cd5c5c\" fill-rule=\"evenodd\" fill-opacity=\"1\" stroke=\"none\"/>\n",
       "<circle clip-path=\"url(#clip222)\" cx=\"1180.32\" cy=\"877.058\" r=\"14\" fill=\"#cd5c5c\" fill-rule=\"evenodd\" fill-opacity=\"1\" stroke=\"none\"/>\n",
       "<circle clip-path=\"url(#clip222)\" cx=\"1185.93\" cy=\"880.168\" r=\"14\" fill=\"#cd5c5c\" fill-rule=\"evenodd\" fill-opacity=\"1\" stroke=\"none\"/>\n",
       "<circle clip-path=\"url(#clip222)\" cx=\"1191.53\" cy=\"884.208\" r=\"14\" fill=\"#cd5c5c\" fill-rule=\"evenodd\" fill-opacity=\"1\" stroke=\"none\"/>\n",
       "<circle clip-path=\"url(#clip222)\" cx=\"1197.14\" cy=\"884.07\" r=\"14\" fill=\"#cd5c5c\" fill-rule=\"evenodd\" fill-opacity=\"1\" stroke=\"none\"/>\n",
       "<circle clip-path=\"url(#clip222)\" cx=\"1202.74\" cy=\"882.091\" r=\"14\" fill=\"#cd5c5c\" fill-rule=\"evenodd\" fill-opacity=\"1\" stroke=\"none\"/>\n",
       "<circle clip-path=\"url(#clip222)\" cx=\"1208.34\" cy=\"883.164\" r=\"14\" fill=\"#cd5c5c\" fill-rule=\"evenodd\" fill-opacity=\"1\" stroke=\"none\"/>\n",
       "<circle clip-path=\"url(#clip222)\" cx=\"1213.95\" cy=\"881.593\" r=\"14\" fill=\"#cd5c5c\" fill-rule=\"evenodd\" fill-opacity=\"1\" stroke=\"none\"/>\n",
       "<circle clip-path=\"url(#clip222)\" cx=\"1219.55\" cy=\"865.667\" r=\"14\" fill=\"#cd5c5c\" fill-rule=\"evenodd\" fill-opacity=\"1\" stroke=\"none\"/>\n",
       "<circle clip-path=\"url(#clip222)\" cx=\"1225.16\" cy=\"877.694\" r=\"14\" fill=\"#cd5c5c\" fill-rule=\"evenodd\" fill-opacity=\"1\" stroke=\"none\"/>\n",
       "<circle clip-path=\"url(#clip222)\" cx=\"1230.76\" cy=\"881.911\" r=\"14\" fill=\"#cd5c5c\" fill-rule=\"evenodd\" fill-opacity=\"1\" stroke=\"none\"/>\n",
       "<circle clip-path=\"url(#clip222)\" cx=\"1236.37\" cy=\"877.553\" r=\"14\" fill=\"#cd5c5c\" fill-rule=\"evenodd\" fill-opacity=\"1\" stroke=\"none\"/>\n",
       "<circle clip-path=\"url(#clip222)\" cx=\"1241.97\" cy=\"885.328\" r=\"14\" fill=\"#cd5c5c\" fill-rule=\"evenodd\" fill-opacity=\"1\" stroke=\"none\"/>\n",
       "<circle clip-path=\"url(#clip222)\" cx=\"1247.58\" cy=\"883.735\" r=\"14\" fill=\"#cd5c5c\" fill-rule=\"evenodd\" fill-opacity=\"1\" stroke=\"none\"/>\n",
       "<circle clip-path=\"url(#clip222)\" cx=\"1253.18\" cy=\"867.438\" r=\"14\" fill=\"#cd5c5c\" fill-rule=\"evenodd\" fill-opacity=\"1\" stroke=\"none\"/>\n",
       "<circle clip-path=\"url(#clip222)\" cx=\"1258.78\" cy=\"884.137\" r=\"14\" fill=\"#cd5c5c\" fill-rule=\"evenodd\" fill-opacity=\"1\" stroke=\"none\"/>\n",
       "<circle clip-path=\"url(#clip222)\" cx=\"1264.39\" cy=\"874.724\" r=\"14\" fill=\"#cd5c5c\" fill-rule=\"evenodd\" fill-opacity=\"1\" stroke=\"none\"/>\n",
       "<circle clip-path=\"url(#clip222)\" cx=\"1269.99\" cy=\"872.211\" r=\"14\" fill=\"#cd5c5c\" fill-rule=\"evenodd\" fill-opacity=\"1\" stroke=\"none\"/>\n",
       "<circle clip-path=\"url(#clip222)\" cx=\"1275.6\" cy=\"886.196\" r=\"14\" fill=\"#cd5c5c\" fill-rule=\"evenodd\" fill-opacity=\"1\" stroke=\"none\"/>\n",
       "<circle clip-path=\"url(#clip222)\" cx=\"1281.2\" cy=\"884.153\" r=\"14\" fill=\"#cd5c5c\" fill-rule=\"evenodd\" fill-opacity=\"1\" stroke=\"none\"/>\n",
       "<circle clip-path=\"url(#clip222)\" cx=\"1286.81\" cy=\"884.777\" r=\"14\" fill=\"#cd5c5c\" fill-rule=\"evenodd\" fill-opacity=\"1\" stroke=\"none\"/>\n",
       "<circle clip-path=\"url(#clip222)\" cx=\"1292.41\" cy=\"884.238\" r=\"14\" fill=\"#cd5c5c\" fill-rule=\"evenodd\" fill-opacity=\"1\" stroke=\"none\"/>\n",
       "<circle clip-path=\"url(#clip222)\" cx=\"1298.02\" cy=\"880.89\" r=\"14\" fill=\"#cd5c5c\" fill-rule=\"evenodd\" fill-opacity=\"1\" stroke=\"none\"/>\n",
       "<circle clip-path=\"url(#clip222)\" cx=\"1303.62\" cy=\"876.52\" r=\"14\" fill=\"#cd5c5c\" fill-rule=\"evenodd\" fill-opacity=\"1\" stroke=\"none\"/>\n",
       "<circle clip-path=\"url(#clip222)\" cx=\"1309.23\" cy=\"879.202\" r=\"14\" fill=\"#cd5c5c\" fill-rule=\"evenodd\" fill-opacity=\"1\" stroke=\"none\"/>\n",
       "<circle clip-path=\"url(#clip222)\" cx=\"1314.83\" cy=\"883.313\" r=\"14\" fill=\"#cd5c5c\" fill-rule=\"evenodd\" fill-opacity=\"1\" stroke=\"none\"/>\n",
       "<circle clip-path=\"url(#clip222)\" cx=\"1320.43\" cy=\"874.123\" r=\"14\" fill=\"#cd5c5c\" fill-rule=\"evenodd\" fill-opacity=\"1\" stroke=\"none\"/>\n",
       "<circle clip-path=\"url(#clip222)\" cx=\"1326.04\" cy=\"877.504\" r=\"14\" fill=\"#cd5c5c\" fill-rule=\"evenodd\" fill-opacity=\"1\" stroke=\"none\"/>\n",
       "<circle clip-path=\"url(#clip222)\" cx=\"1331.64\" cy=\"884.009\" r=\"14\" fill=\"#cd5c5c\" fill-rule=\"evenodd\" fill-opacity=\"1\" stroke=\"none\"/>\n",
       "<circle clip-path=\"url(#clip222)\" cx=\"1337.25\" cy=\"885.187\" r=\"14\" fill=\"#cd5c5c\" fill-rule=\"evenodd\" fill-opacity=\"1\" stroke=\"none\"/>\n",
       "<circle clip-path=\"url(#clip222)\" cx=\"1342.85\" cy=\"883.523\" r=\"14\" fill=\"#cd5c5c\" fill-rule=\"evenodd\" fill-opacity=\"1\" stroke=\"none\"/>\n",
       "<circle clip-path=\"url(#clip222)\" cx=\"1348.46\" cy=\"882.637\" r=\"14\" fill=\"#cd5c5c\" fill-rule=\"evenodd\" fill-opacity=\"1\" stroke=\"none\"/>\n",
       "<circle clip-path=\"url(#clip222)\" cx=\"1354.06\" cy=\"876.263\" r=\"14\" fill=\"#cd5c5c\" fill-rule=\"evenodd\" fill-opacity=\"1\" stroke=\"none\"/>\n",
       "<circle clip-path=\"url(#clip222)\" cx=\"1359.67\" cy=\"873.146\" r=\"14\" fill=\"#cd5c5c\" fill-rule=\"evenodd\" fill-opacity=\"1\" stroke=\"none\"/>\n",
       "<circle clip-path=\"url(#clip222)\" cx=\"1365.27\" cy=\"882.36\" r=\"14\" fill=\"#cd5c5c\" fill-rule=\"evenodd\" fill-opacity=\"1\" stroke=\"none\"/>\n",
       "<circle clip-path=\"url(#clip222)\" cx=\"1370.87\" cy=\"879.17\" r=\"14\" fill=\"#cd5c5c\" fill-rule=\"evenodd\" fill-opacity=\"1\" stroke=\"none\"/>\n",
       "<circle clip-path=\"url(#clip222)\" cx=\"1376.48\" cy=\"874.319\" r=\"14\" fill=\"#cd5c5c\" fill-rule=\"evenodd\" fill-opacity=\"1\" stroke=\"none\"/>\n",
       "<circle clip-path=\"url(#clip222)\" cx=\"1382.08\" cy=\"878.341\" r=\"14\" fill=\"#cd5c5c\" fill-rule=\"evenodd\" fill-opacity=\"1\" stroke=\"none\"/>\n",
       "<circle clip-path=\"url(#clip222)\" cx=\"1387.69\" cy=\"882.61\" r=\"14\" fill=\"#cd5c5c\" fill-rule=\"evenodd\" fill-opacity=\"1\" stroke=\"none\"/>\n",
       "<circle clip-path=\"url(#clip222)\" cx=\"1393.29\" cy=\"880.516\" r=\"14\" fill=\"#cd5c5c\" fill-rule=\"evenodd\" fill-opacity=\"1\" stroke=\"none\"/>\n",
       "<circle clip-path=\"url(#clip222)\" cx=\"1398.9\" cy=\"881.89\" r=\"14\" fill=\"#cd5c5c\" fill-rule=\"evenodd\" fill-opacity=\"1\" stroke=\"none\"/>\n",
       "<circle clip-path=\"url(#clip222)\" cx=\"1404.5\" cy=\"882.004\" r=\"14\" fill=\"#cd5c5c\" fill-rule=\"evenodd\" fill-opacity=\"1\" stroke=\"none\"/>\n",
       "<circle clip-path=\"url(#clip222)\" cx=\"1410.11\" cy=\"881.275\" r=\"14\" fill=\"#cd5c5c\" fill-rule=\"evenodd\" fill-opacity=\"1\" stroke=\"none\"/>\n",
       "<circle clip-path=\"url(#clip222)\" cx=\"1415.71\" cy=\"883.118\" r=\"14\" fill=\"#cd5c5c\" fill-rule=\"evenodd\" fill-opacity=\"1\" stroke=\"none\"/>\n",
       "<circle clip-path=\"url(#clip222)\" cx=\"1421.31\" cy=\"882.485\" r=\"14\" fill=\"#cd5c5c\" fill-rule=\"evenodd\" fill-opacity=\"1\" stroke=\"none\"/>\n",
       "<circle clip-path=\"url(#clip222)\" cx=\"1426.92\" cy=\"878.731\" r=\"14\" fill=\"#cd5c5c\" fill-rule=\"evenodd\" fill-opacity=\"1\" stroke=\"none\"/>\n",
       "<circle clip-path=\"url(#clip222)\" cx=\"1432.52\" cy=\"882.92\" r=\"14\" fill=\"#cd5c5c\" fill-rule=\"evenodd\" fill-opacity=\"1\" stroke=\"none\"/>\n",
       "<circle clip-path=\"url(#clip222)\" cx=\"1438.13\" cy=\"882.406\" r=\"14\" fill=\"#cd5c5c\" fill-rule=\"evenodd\" fill-opacity=\"1\" stroke=\"none\"/>\n",
       "<circle clip-path=\"url(#clip222)\" cx=\"1443.73\" cy=\"881.394\" r=\"14\" fill=\"#cd5c5c\" fill-rule=\"evenodd\" fill-opacity=\"1\" stroke=\"none\"/>\n",
       "<circle clip-path=\"url(#clip222)\" cx=\"1449.34\" cy=\"883.52\" r=\"14\" fill=\"#cd5c5c\" fill-rule=\"evenodd\" fill-opacity=\"1\" stroke=\"none\"/>\n",
       "<circle clip-path=\"url(#clip222)\" cx=\"1454.94\" cy=\"884.767\" r=\"14\" fill=\"#cd5c5c\" fill-rule=\"evenodd\" fill-opacity=\"1\" stroke=\"none\"/>\n",
       "<circle clip-path=\"url(#clip222)\" cx=\"1460.55\" cy=\"882.009\" r=\"14\" fill=\"#cd5c5c\" fill-rule=\"evenodd\" fill-opacity=\"1\" stroke=\"none\"/>\n",
       "<circle clip-path=\"url(#clip222)\" cx=\"1466.15\" cy=\"855.688\" r=\"14\" fill=\"#cd5c5c\" fill-rule=\"evenodd\" fill-opacity=\"1\" stroke=\"none\"/>\n",
       "<circle clip-path=\"url(#clip222)\" cx=\"1471.75\" cy=\"873.429\" r=\"14\" fill=\"#cd5c5c\" fill-rule=\"evenodd\" fill-opacity=\"1\" stroke=\"none\"/>\n",
       "<circle clip-path=\"url(#clip222)\" cx=\"1477.36\" cy=\"874.276\" r=\"14\" fill=\"#cd5c5c\" fill-rule=\"evenodd\" fill-opacity=\"1\" stroke=\"none\"/>\n",
       "<circle clip-path=\"url(#clip222)\" cx=\"1482.96\" cy=\"882.117\" r=\"14\" fill=\"#cd5c5c\" fill-rule=\"evenodd\" fill-opacity=\"1\" stroke=\"none\"/>\n",
       "<circle clip-path=\"url(#clip222)\" cx=\"1488.57\" cy=\"884.84\" r=\"14\" fill=\"#cd5c5c\" fill-rule=\"evenodd\" fill-opacity=\"1\" stroke=\"none\"/>\n",
       "<circle clip-path=\"url(#clip222)\" cx=\"1494.17\" cy=\"883.168\" r=\"14\" fill=\"#cd5c5c\" fill-rule=\"evenodd\" fill-opacity=\"1\" stroke=\"none\"/>\n",
       "<circle clip-path=\"url(#clip222)\" cx=\"1499.78\" cy=\"882.128\" r=\"14\" fill=\"#cd5c5c\" fill-rule=\"evenodd\" fill-opacity=\"1\" stroke=\"none\"/>\n",
       "<circle clip-path=\"url(#clip222)\" cx=\"1505.38\" cy=\"882.084\" r=\"14\" fill=\"#cd5c5c\" fill-rule=\"evenodd\" fill-opacity=\"1\" stroke=\"none\"/>\n",
       "<circle clip-path=\"url(#clip222)\" cx=\"1510.99\" cy=\"883.312\" r=\"14\" fill=\"#cd5c5c\" fill-rule=\"evenodd\" fill-opacity=\"1\" stroke=\"none\"/>\n",
       "<circle clip-path=\"url(#clip222)\" cx=\"1516.59\" cy=\"882.074\" r=\"14\" fill=\"#cd5c5c\" fill-rule=\"evenodd\" fill-opacity=\"1\" stroke=\"none\"/>\n",
       "<circle clip-path=\"url(#clip222)\" cx=\"1522.19\" cy=\"883.383\" r=\"14\" fill=\"#cd5c5c\" fill-rule=\"evenodd\" fill-opacity=\"1\" stroke=\"none\"/>\n",
       "<circle clip-path=\"url(#clip222)\" cx=\"1527.8\" cy=\"875.491\" r=\"14\" fill=\"#cd5c5c\" fill-rule=\"evenodd\" fill-opacity=\"1\" stroke=\"none\"/>\n",
       "<circle clip-path=\"url(#clip222)\" cx=\"1533.4\" cy=\"881.33\" r=\"14\" fill=\"#cd5c5c\" fill-rule=\"evenodd\" fill-opacity=\"1\" stroke=\"none\"/>\n",
       "<circle clip-path=\"url(#clip222)\" cx=\"1539.01\" cy=\"879.854\" r=\"14\" fill=\"#cd5c5c\" fill-rule=\"evenodd\" fill-opacity=\"1\" stroke=\"none\"/>\n",
       "<circle clip-path=\"url(#clip222)\" cx=\"1544.61\" cy=\"883.316\" r=\"14\" fill=\"#cd5c5c\" fill-rule=\"evenodd\" fill-opacity=\"1\" stroke=\"none\"/>\n",
       "<circle clip-path=\"url(#clip222)\" cx=\"1550.22\" cy=\"885.455\" r=\"14\" fill=\"#cd5c5c\" fill-rule=\"evenodd\" fill-opacity=\"1\" stroke=\"none\"/>\n",
       "<circle clip-path=\"url(#clip222)\" cx=\"1555.82\" cy=\"882.547\" r=\"14\" fill=\"#cd5c5c\" fill-rule=\"evenodd\" fill-opacity=\"1\" stroke=\"none\"/>\n",
       "<circle clip-path=\"url(#clip222)\" cx=\"1561.43\" cy=\"878.612\" r=\"14\" fill=\"#cd5c5c\" fill-rule=\"evenodd\" fill-opacity=\"1\" stroke=\"none\"/>\n",
       "<circle clip-path=\"url(#clip222)\" cx=\"1567.03\" cy=\"880.922\" r=\"14\" fill=\"#cd5c5c\" fill-rule=\"evenodd\" fill-opacity=\"1\" stroke=\"none\"/>\n",
       "<circle clip-path=\"url(#clip222)\" cx=\"1572.63\" cy=\"879.99\" r=\"14\" fill=\"#cd5c5c\" fill-rule=\"evenodd\" fill-opacity=\"1\" stroke=\"none\"/>\n",
       "<circle clip-path=\"url(#clip222)\" cx=\"1578.24\" cy=\"881.808\" r=\"14\" fill=\"#cd5c5c\" fill-rule=\"evenodd\" fill-opacity=\"1\" stroke=\"none\"/>\n",
       "<circle clip-path=\"url(#clip222)\" cx=\"1583.84\" cy=\"885.23\" r=\"14\" fill=\"#cd5c5c\" fill-rule=\"evenodd\" fill-opacity=\"1\" stroke=\"none\"/>\n",
       "<circle clip-path=\"url(#clip222)\" cx=\"1589.45\" cy=\"882.284\" r=\"14\" fill=\"#cd5c5c\" fill-rule=\"evenodd\" fill-opacity=\"1\" stroke=\"none\"/>\n",
       "<circle clip-path=\"url(#clip222)\" cx=\"1595.05\" cy=\"872.181\" r=\"14\" fill=\"#cd5c5c\" fill-rule=\"evenodd\" fill-opacity=\"1\" stroke=\"none\"/>\n",
       "<circle clip-path=\"url(#clip222)\" cx=\"1600.66\" cy=\"881.618\" r=\"14\" fill=\"#cd5c5c\" fill-rule=\"evenodd\" fill-opacity=\"1\" stroke=\"none\"/>\n",
       "<circle clip-path=\"url(#clip222)\" cx=\"1606.26\" cy=\"882.931\" r=\"14\" fill=\"#cd5c5c\" fill-rule=\"evenodd\" fill-opacity=\"1\" stroke=\"none\"/>\n",
       "<circle clip-path=\"url(#clip222)\" cx=\"1611.87\" cy=\"877.92\" r=\"14\" fill=\"#cd5c5c\" fill-rule=\"evenodd\" fill-opacity=\"1\" stroke=\"none\"/>\n",
       "<circle clip-path=\"url(#clip222)\" cx=\"1617.47\" cy=\"879.467\" r=\"14\" fill=\"#cd5c5c\" fill-rule=\"evenodd\" fill-opacity=\"1\" stroke=\"none\"/>\n",
       "<circle clip-path=\"url(#clip222)\" cx=\"1623.07\" cy=\"881.784\" r=\"14\" fill=\"#cd5c5c\" fill-rule=\"evenodd\" fill-opacity=\"1\" stroke=\"none\"/>\n",
       "<circle clip-path=\"url(#clip222)\" cx=\"1628.68\" cy=\"875.46\" r=\"14\" fill=\"#cd5c5c\" fill-rule=\"evenodd\" fill-opacity=\"1\" stroke=\"none\"/>\n",
       "<circle clip-path=\"url(#clip222)\" cx=\"1634.28\" cy=\"883.738\" r=\"14\" fill=\"#cd5c5c\" fill-rule=\"evenodd\" fill-opacity=\"1\" stroke=\"none\"/>\n",
       "<circle clip-path=\"url(#clip222)\" cx=\"1639.89\" cy=\"880.469\" r=\"14\" fill=\"#cd5c5c\" fill-rule=\"evenodd\" fill-opacity=\"1\" stroke=\"none\"/>\n",
       "<circle clip-path=\"url(#clip222)\" cx=\"1645.49\" cy=\"879.872\" r=\"14\" fill=\"#cd5c5c\" fill-rule=\"evenodd\" fill-opacity=\"1\" stroke=\"none\"/>\n",
       "<circle clip-path=\"url(#clip222)\" cx=\"1651.1\" cy=\"876.76\" r=\"14\" fill=\"#cd5c5c\" fill-rule=\"evenodd\" fill-opacity=\"1\" stroke=\"none\"/>\n",
       "<circle clip-path=\"url(#clip222)\" cx=\"1656.7\" cy=\"881.479\" r=\"14\" fill=\"#cd5c5c\" fill-rule=\"evenodd\" fill-opacity=\"1\" stroke=\"none\"/>\n",
       "<circle clip-path=\"url(#clip222)\" cx=\"1662.31\" cy=\"881.689\" r=\"14\" fill=\"#cd5c5c\" fill-rule=\"evenodd\" fill-opacity=\"1\" stroke=\"none\"/>\n",
       "<circle clip-path=\"url(#clip222)\" cx=\"1667.91\" cy=\"871.012\" r=\"14\" fill=\"#cd5c5c\" fill-rule=\"evenodd\" fill-opacity=\"1\" stroke=\"none\"/>\n",
       "<circle clip-path=\"url(#clip222)\" cx=\"1673.51\" cy=\"882.069\" r=\"14\" fill=\"#cd5c5c\" fill-rule=\"evenodd\" fill-opacity=\"1\" stroke=\"none\"/>\n",
       "<circle clip-path=\"url(#clip222)\" cx=\"1679.12\" cy=\"883.972\" r=\"14\" fill=\"#cd5c5c\" fill-rule=\"evenodd\" fill-opacity=\"1\" stroke=\"none\"/>\n",
       "<circle clip-path=\"url(#clip222)\" cx=\"1684.72\" cy=\"878.847\" r=\"14\" fill=\"#cd5c5c\" fill-rule=\"evenodd\" fill-opacity=\"1\" stroke=\"none\"/>\n",
       "<circle clip-path=\"url(#clip222)\" cx=\"1690.33\" cy=\"885.391\" r=\"14\" fill=\"#cd5c5c\" fill-rule=\"evenodd\" fill-opacity=\"1\" stroke=\"none\"/>\n",
       "<circle clip-path=\"url(#clip222)\" cx=\"1695.93\" cy=\"881.757\" r=\"14\" fill=\"#cd5c5c\" fill-rule=\"evenodd\" fill-opacity=\"1\" stroke=\"none\"/>\n",
       "<circle clip-path=\"url(#clip222)\" cx=\"1701.54\" cy=\"875.799\" r=\"14\" fill=\"#cd5c5c\" fill-rule=\"evenodd\" fill-opacity=\"1\" stroke=\"none\"/>\n",
       "<circle clip-path=\"url(#clip222)\" cx=\"1707.14\" cy=\"881.303\" r=\"14\" fill=\"#cd5c5c\" fill-rule=\"evenodd\" fill-opacity=\"1\" stroke=\"none\"/>\n",
       "<circle clip-path=\"url(#clip222)\" cx=\"1712.75\" cy=\"873.236\" r=\"14\" fill=\"#cd5c5c\" fill-rule=\"evenodd\" fill-opacity=\"1\" stroke=\"none\"/>\n",
       "<circle clip-path=\"url(#clip222)\" cx=\"1718.35\" cy=\"880.039\" r=\"14\" fill=\"#cd5c5c\" fill-rule=\"evenodd\" fill-opacity=\"1\" stroke=\"none\"/>\n",
       "<circle clip-path=\"url(#clip222)\" cx=\"1723.96\" cy=\"868.824\" r=\"14\" fill=\"#cd5c5c\" fill-rule=\"evenodd\" fill-opacity=\"1\" stroke=\"none\"/>\n",
       "<circle clip-path=\"url(#clip222)\" cx=\"1729.56\" cy=\"885.589\" r=\"14\" fill=\"#cd5c5c\" fill-rule=\"evenodd\" fill-opacity=\"1\" stroke=\"none\"/>\n",
       "<circle clip-path=\"url(#clip222)\" cx=\"1735.16\" cy=\"884.41\" r=\"14\" fill=\"#cd5c5c\" fill-rule=\"evenodd\" fill-opacity=\"1\" stroke=\"none\"/>\n",
       "<circle clip-path=\"url(#clip222)\" cx=\"1740.77\" cy=\"880.521\" r=\"14\" fill=\"#cd5c5c\" fill-rule=\"evenodd\" fill-opacity=\"1\" stroke=\"none\"/>\n",
       "<circle clip-path=\"url(#clip222)\" cx=\"1746.37\" cy=\"880.542\" r=\"14\" fill=\"#cd5c5c\" fill-rule=\"evenodd\" fill-opacity=\"1\" stroke=\"none\"/>\n",
       "<circle clip-path=\"url(#clip222)\" cx=\"1751.98\" cy=\"885.125\" r=\"14\" fill=\"#cd5c5c\" fill-rule=\"evenodd\" fill-opacity=\"1\" stroke=\"none\"/>\n",
       "<circle clip-path=\"url(#clip222)\" cx=\"1757.58\" cy=\"883.224\" r=\"14\" fill=\"#cd5c5c\" fill-rule=\"evenodd\" fill-opacity=\"1\" stroke=\"none\"/>\n",
       "<circle clip-path=\"url(#clip222)\" cx=\"1763.19\" cy=\"884.489\" r=\"14\" fill=\"#cd5c5c\" fill-rule=\"evenodd\" fill-opacity=\"1\" stroke=\"none\"/>\n",
       "<circle clip-path=\"url(#clip222)\" cx=\"1768.79\" cy=\"882.017\" r=\"14\" fill=\"#cd5c5c\" fill-rule=\"evenodd\" fill-opacity=\"1\" stroke=\"none\"/>\n",
       "<circle clip-path=\"url(#clip222)\" cx=\"1774.4\" cy=\"880.716\" r=\"14\" fill=\"#cd5c5c\" fill-rule=\"evenodd\" fill-opacity=\"1\" stroke=\"none\"/>\n",
       "<circle clip-path=\"url(#clip222)\" cx=\"1780\" cy=\"879.948\" r=\"14\" fill=\"#cd5c5c\" fill-rule=\"evenodd\" fill-opacity=\"1\" stroke=\"none\"/>\n",
       "<circle clip-path=\"url(#clip222)\" cx=\"1785.6\" cy=\"885.871\" r=\"14\" fill=\"#cd5c5c\" fill-rule=\"evenodd\" fill-opacity=\"1\" stroke=\"none\"/>\n",
       "<circle clip-path=\"url(#clip222)\" cx=\"1791.21\" cy=\"879.16\" r=\"14\" fill=\"#cd5c5c\" fill-rule=\"evenodd\" fill-opacity=\"1\" stroke=\"none\"/>\n",
       "<circle clip-path=\"url(#clip222)\" cx=\"1796.81\" cy=\"875.581\" r=\"14\" fill=\"#cd5c5c\" fill-rule=\"evenodd\" fill-opacity=\"1\" stroke=\"none\"/>\n",
       "<circle clip-path=\"url(#clip222)\" cx=\"1802.42\" cy=\"879.247\" r=\"14\" fill=\"#cd5c5c\" fill-rule=\"evenodd\" fill-opacity=\"1\" stroke=\"none\"/>\n",
       "<circle clip-path=\"url(#clip222)\" cx=\"1808.02\" cy=\"879.238\" r=\"14\" fill=\"#cd5c5c\" fill-rule=\"evenodd\" fill-opacity=\"1\" stroke=\"none\"/>\n",
       "<circle clip-path=\"url(#clip222)\" cx=\"1813.63\" cy=\"882.763\" r=\"14\" fill=\"#cd5c5c\" fill-rule=\"evenodd\" fill-opacity=\"1\" stroke=\"none\"/>\n",
       "<circle clip-path=\"url(#clip222)\" cx=\"1819.23\" cy=\"878.102\" r=\"14\" fill=\"#cd5c5c\" fill-rule=\"evenodd\" fill-opacity=\"1\" stroke=\"none\"/>\n",
       "<circle clip-path=\"url(#clip222)\" cx=\"1824.84\" cy=\"882.067\" r=\"14\" fill=\"#cd5c5c\" fill-rule=\"evenodd\" fill-opacity=\"1\" stroke=\"none\"/>\n",
       "<circle clip-path=\"url(#clip222)\" cx=\"1830.44\" cy=\"881.179\" r=\"14\" fill=\"#cd5c5c\" fill-rule=\"evenodd\" fill-opacity=\"1\" stroke=\"none\"/>\n",
       "<circle clip-path=\"url(#clip222)\" cx=\"1836.04\" cy=\"873.945\" r=\"14\" fill=\"#cd5c5c\" fill-rule=\"evenodd\" fill-opacity=\"1\" stroke=\"none\"/>\n",
       "<circle clip-path=\"url(#clip222)\" cx=\"1841.65\" cy=\"877.935\" r=\"14\" fill=\"#cd5c5c\" fill-rule=\"evenodd\" fill-opacity=\"1\" stroke=\"none\"/>\n",
       "<circle clip-path=\"url(#clip222)\" cx=\"1847.25\" cy=\"880.779\" r=\"14\" fill=\"#cd5c5c\" fill-rule=\"evenodd\" fill-opacity=\"1\" stroke=\"none\"/>\n",
       "<circle clip-path=\"url(#clip222)\" cx=\"1852.86\" cy=\"883.088\" r=\"14\" fill=\"#cd5c5c\" fill-rule=\"evenodd\" fill-opacity=\"1\" stroke=\"none\"/>\n",
       "<circle clip-path=\"url(#clip222)\" cx=\"1858.46\" cy=\"884\" r=\"14\" fill=\"#cd5c5c\" fill-rule=\"evenodd\" fill-opacity=\"1\" stroke=\"none\"/>\n",
       "<circle clip-path=\"url(#clip222)\" cx=\"1864.07\" cy=\"881.427\" r=\"14\" fill=\"#cd5c5c\" fill-rule=\"evenodd\" fill-opacity=\"1\" stroke=\"none\"/>\n",
       "<circle clip-path=\"url(#clip222)\" cx=\"1869.67\" cy=\"884.737\" r=\"14\" fill=\"#cd5c5c\" fill-rule=\"evenodd\" fill-opacity=\"1\" stroke=\"none\"/>\n",
       "<circle clip-path=\"url(#clip222)\" cx=\"1875.28\" cy=\"881.439\" r=\"14\" fill=\"#cd5c5c\" fill-rule=\"evenodd\" fill-opacity=\"1\" stroke=\"none\"/>\n",
       "<circle clip-path=\"url(#clip222)\" cx=\"1880.88\" cy=\"868.066\" r=\"14\" fill=\"#cd5c5c\" fill-rule=\"evenodd\" fill-opacity=\"1\" stroke=\"none\"/>\n",
       "<circle clip-path=\"url(#clip222)\" cx=\"1886.48\" cy=\"883.709\" r=\"14\" fill=\"#cd5c5c\" fill-rule=\"evenodd\" fill-opacity=\"1\" stroke=\"none\"/>\n",
       "<circle clip-path=\"url(#clip222)\" cx=\"1892.09\" cy=\"882.018\" r=\"14\" fill=\"#cd5c5c\" fill-rule=\"evenodd\" fill-opacity=\"1\" stroke=\"none\"/>\n",
       "<circle clip-path=\"url(#clip222)\" cx=\"1897.69\" cy=\"870.99\" r=\"14\" fill=\"#cd5c5c\" fill-rule=\"evenodd\" fill-opacity=\"1\" stroke=\"none\"/>\n",
       "<circle clip-path=\"url(#clip222)\" cx=\"1903.3\" cy=\"885.453\" r=\"14\" fill=\"#cd5c5c\" fill-rule=\"evenodd\" fill-opacity=\"1\" stroke=\"none\"/>\n",
       "<circle clip-path=\"url(#clip222)\" cx=\"1908.9\" cy=\"884.03\" r=\"14\" fill=\"#cd5c5c\" fill-rule=\"evenodd\" fill-opacity=\"1\" stroke=\"none\"/>\n",
       "<circle clip-path=\"url(#clip222)\" cx=\"1914.51\" cy=\"884.67\" r=\"14\" fill=\"#cd5c5c\" fill-rule=\"evenodd\" fill-opacity=\"1\" stroke=\"none\"/>\n",
       "<circle clip-path=\"url(#clip222)\" cx=\"1920.11\" cy=\"876.755\" r=\"14\" fill=\"#cd5c5c\" fill-rule=\"evenodd\" fill-opacity=\"1\" stroke=\"none\"/>\n",
       "<circle clip-path=\"url(#clip222)\" cx=\"1925.72\" cy=\"884.552\" r=\"14\" fill=\"#cd5c5c\" fill-rule=\"evenodd\" fill-opacity=\"1\" stroke=\"none\"/>\n",
       "<circle clip-path=\"url(#clip222)\" cx=\"1931.32\" cy=\"880.9\" r=\"14\" fill=\"#cd5c5c\" fill-rule=\"evenodd\" fill-opacity=\"1\" stroke=\"none\"/>\n",
       "<circle clip-path=\"url(#clip222)\" cx=\"1936.92\" cy=\"883.379\" r=\"14\" fill=\"#cd5c5c\" fill-rule=\"evenodd\" fill-opacity=\"1\" stroke=\"none\"/>\n",
       "<circle clip-path=\"url(#clip222)\" cx=\"1942.53\" cy=\"883.525\" r=\"14\" fill=\"#cd5c5c\" fill-rule=\"evenodd\" fill-opacity=\"1\" stroke=\"none\"/>\n",
       "<circle clip-path=\"url(#clip222)\" cx=\"1948.13\" cy=\"881.122\" r=\"14\" fill=\"#cd5c5c\" fill-rule=\"evenodd\" fill-opacity=\"1\" stroke=\"none\"/>\n",
       "<circle clip-path=\"url(#clip222)\" cx=\"1953.74\" cy=\"884.285\" r=\"14\" fill=\"#cd5c5c\" fill-rule=\"evenodd\" fill-opacity=\"1\" stroke=\"none\"/>\n",
       "<circle clip-path=\"url(#clip222)\" cx=\"1959.34\" cy=\"882.62\" r=\"14\" fill=\"#cd5c5c\" fill-rule=\"evenodd\" fill-opacity=\"1\" stroke=\"none\"/>\n",
       "<circle clip-path=\"url(#clip222)\" cx=\"1964.95\" cy=\"879.296\" r=\"14\" fill=\"#cd5c5c\" fill-rule=\"evenodd\" fill-opacity=\"1\" stroke=\"none\"/>\n",
       "<circle clip-path=\"url(#clip222)\" cx=\"1970.55\" cy=\"883.558\" r=\"14\" fill=\"#cd5c5c\" fill-rule=\"evenodd\" fill-opacity=\"1\" stroke=\"none\"/>\n",
       "<circle clip-path=\"url(#clip222)\" cx=\"1976.16\" cy=\"883.037\" r=\"14\" fill=\"#cd5c5c\" fill-rule=\"evenodd\" fill-opacity=\"1\" stroke=\"none\"/>\n",
       "<circle clip-path=\"url(#clip222)\" cx=\"1981.76\" cy=\"872.385\" r=\"14\" fill=\"#cd5c5c\" fill-rule=\"evenodd\" fill-opacity=\"1\" stroke=\"none\"/>\n",
       "<circle clip-path=\"url(#clip222)\" cx=\"1987.36\" cy=\"883.666\" r=\"14\" fill=\"#cd5c5c\" fill-rule=\"evenodd\" fill-opacity=\"1\" stroke=\"none\"/>\n",
       "<circle clip-path=\"url(#clip222)\" cx=\"1992.97\" cy=\"878.249\" r=\"14\" fill=\"#cd5c5c\" fill-rule=\"evenodd\" fill-opacity=\"1\" stroke=\"none\"/>\n",
       "<circle clip-path=\"url(#clip222)\" cx=\"1998.57\" cy=\"880.866\" r=\"14\" fill=\"#cd5c5c\" fill-rule=\"evenodd\" fill-opacity=\"1\" stroke=\"none\"/>\n",
       "<circle clip-path=\"url(#clip222)\" cx=\"2004.18\" cy=\"882.364\" r=\"14\" fill=\"#cd5c5c\" fill-rule=\"evenodd\" fill-opacity=\"1\" stroke=\"none\"/>\n",
       "<circle clip-path=\"url(#clip222)\" cx=\"2009.78\" cy=\"872.398\" r=\"14\" fill=\"#cd5c5c\" fill-rule=\"evenodd\" fill-opacity=\"1\" stroke=\"none\"/>\n",
       "<circle clip-path=\"url(#clip222)\" cx=\"2015.39\" cy=\"882.011\" r=\"14\" fill=\"#cd5c5c\" fill-rule=\"evenodd\" fill-opacity=\"1\" stroke=\"none\"/>\n",
       "<circle clip-path=\"url(#clip222)\" cx=\"2020.99\" cy=\"874.976\" r=\"14\" fill=\"#cd5c5c\" fill-rule=\"evenodd\" fill-opacity=\"1\" stroke=\"none\"/>\n",
       "<circle clip-path=\"url(#clip222)\" cx=\"2026.6\" cy=\"877.582\" r=\"14\" fill=\"#cd5c5c\" fill-rule=\"evenodd\" fill-opacity=\"1\" stroke=\"none\"/>\n",
       "<circle clip-path=\"url(#clip222)\" cx=\"2032.2\" cy=\"880.115\" r=\"14\" fill=\"#cd5c5c\" fill-rule=\"evenodd\" fill-opacity=\"1\" stroke=\"none\"/>\n",
       "<circle clip-path=\"url(#clip222)\" cx=\"2037.8\" cy=\"877.952\" r=\"14\" fill=\"#cd5c5c\" fill-rule=\"evenodd\" fill-opacity=\"1\" stroke=\"none\"/>\n",
       "<circle clip-path=\"url(#clip222)\" cx=\"2043.41\" cy=\"884.993\" r=\"14\" fill=\"#cd5c5c\" fill-rule=\"evenodd\" fill-opacity=\"1\" stroke=\"none\"/>\n",
       "<circle clip-path=\"url(#clip222)\" cx=\"2049.01\" cy=\"885.636\" r=\"14\" fill=\"#cd5c5c\" fill-rule=\"evenodd\" fill-opacity=\"1\" stroke=\"none\"/>\n",
       "<circle clip-path=\"url(#clip222)\" cx=\"2054.62\" cy=\"880.239\" r=\"14\" fill=\"#cd5c5c\" fill-rule=\"evenodd\" fill-opacity=\"1\" stroke=\"none\"/>\n",
       "<circle clip-path=\"url(#clip222)\" cx=\"2060.22\" cy=\"884.33\" r=\"14\" fill=\"#cd5c5c\" fill-rule=\"evenodd\" fill-opacity=\"1\" stroke=\"none\"/>\n",
       "<circle clip-path=\"url(#clip222)\" cx=\"2065.83\" cy=\"883.946\" r=\"14\" fill=\"#cd5c5c\" fill-rule=\"evenodd\" fill-opacity=\"1\" stroke=\"none\"/>\n",
       "<circle clip-path=\"url(#clip222)\" cx=\"2071.43\" cy=\"879.277\" r=\"14\" fill=\"#cd5c5c\" fill-rule=\"evenodd\" fill-opacity=\"1\" stroke=\"none\"/>\n",
       "<circle clip-path=\"url(#clip222)\" cx=\"2077.04\" cy=\"881.499\" r=\"14\" fill=\"#cd5c5c\" fill-rule=\"evenodd\" fill-opacity=\"1\" stroke=\"none\"/>\n",
       "<circle clip-path=\"url(#clip222)\" cx=\"2082.64\" cy=\"884.514\" r=\"14\" fill=\"#cd5c5c\" fill-rule=\"evenodd\" fill-opacity=\"1\" stroke=\"none\"/>\n",
       "<circle clip-path=\"url(#clip222)\" cx=\"2088.24\" cy=\"882.167\" r=\"14\" fill=\"#cd5c5c\" fill-rule=\"evenodd\" fill-opacity=\"1\" stroke=\"none\"/>\n",
       "<circle clip-path=\"url(#clip222)\" cx=\"2093.85\" cy=\"881.204\" r=\"14\" fill=\"#cd5c5c\" fill-rule=\"evenodd\" fill-opacity=\"1\" stroke=\"none\"/>\n",
       "<circle clip-path=\"url(#clip222)\" cx=\"2099.45\" cy=\"881.485\" r=\"14\" fill=\"#cd5c5c\" fill-rule=\"evenodd\" fill-opacity=\"1\" stroke=\"none\"/>\n",
       "<circle clip-path=\"url(#clip222)\" cx=\"2105.06\" cy=\"884.117\" r=\"14\" fill=\"#cd5c5c\" fill-rule=\"evenodd\" fill-opacity=\"1\" stroke=\"none\"/>\n",
       "<circle clip-path=\"url(#clip222)\" cx=\"2110.66\" cy=\"883.189\" r=\"14\" fill=\"#cd5c5c\" fill-rule=\"evenodd\" fill-opacity=\"1\" stroke=\"none\"/>\n",
       "<circle clip-path=\"url(#clip222)\" cx=\"2116.27\" cy=\"881.719\" r=\"14\" fill=\"#cd5c5c\" fill-rule=\"evenodd\" fill-opacity=\"1\" stroke=\"none\"/>\n",
       "<circle clip-path=\"url(#clip222)\" cx=\"2121.87\" cy=\"877.431\" r=\"14\" fill=\"#cd5c5c\" fill-rule=\"evenodd\" fill-opacity=\"1\" stroke=\"none\"/>\n",
       "<circle clip-path=\"url(#clip222)\" cx=\"2127.48\" cy=\"875.121\" r=\"14\" fill=\"#cd5c5c\" fill-rule=\"evenodd\" fill-opacity=\"1\" stroke=\"none\"/>\n",
       "<circle clip-path=\"url(#clip222)\" cx=\"2133.08\" cy=\"882.655\" r=\"14\" fill=\"#cd5c5c\" fill-rule=\"evenodd\" fill-opacity=\"1\" stroke=\"none\"/>\n",
       "<circle clip-path=\"url(#clip222)\" cx=\"2138.69\" cy=\"874.154\" r=\"14\" fill=\"#cd5c5c\" fill-rule=\"evenodd\" fill-opacity=\"1\" stroke=\"none\"/>\n",
       "<circle clip-path=\"url(#clip222)\" cx=\"2144.29\" cy=\"882.174\" r=\"14\" fill=\"#cd5c5c\" fill-rule=\"evenodd\" fill-opacity=\"1\" stroke=\"none\"/>\n",
       "<circle clip-path=\"url(#clip222)\" cx=\"2149.89\" cy=\"879.548\" r=\"14\" fill=\"#cd5c5c\" fill-rule=\"evenodd\" fill-opacity=\"1\" stroke=\"none\"/>\n",
       "<circle clip-path=\"url(#clip222)\" cx=\"2155.5\" cy=\"876.412\" r=\"14\" fill=\"#cd5c5c\" fill-rule=\"evenodd\" fill-opacity=\"1\" stroke=\"none\"/>\n",
       "<circle clip-path=\"url(#clip222)\" cx=\"2161.1\" cy=\"885.483\" r=\"14\" fill=\"#cd5c5c\" fill-rule=\"evenodd\" fill-opacity=\"1\" stroke=\"none\"/>\n",
       "<circle clip-path=\"url(#clip222)\" cx=\"2166.71\" cy=\"879.571\" r=\"14\" fill=\"#cd5c5c\" fill-rule=\"evenodd\" fill-opacity=\"1\" stroke=\"none\"/>\n",
       "<circle clip-path=\"url(#clip222)\" cx=\"2172.31\" cy=\"883.958\" r=\"14\" fill=\"#cd5c5c\" fill-rule=\"evenodd\" fill-opacity=\"1\" stroke=\"none\"/>\n",
       "<circle clip-path=\"url(#clip222)\" cx=\"2177.92\" cy=\"882.587\" r=\"14\" fill=\"#cd5c5c\" fill-rule=\"evenodd\" fill-opacity=\"1\" stroke=\"none\"/>\n",
       "<circle clip-path=\"url(#clip222)\" cx=\"2183.52\" cy=\"884.254\" r=\"14\" fill=\"#cd5c5c\" fill-rule=\"evenodd\" fill-opacity=\"1\" stroke=\"none\"/>\n",
       "<circle clip-path=\"url(#clip222)\" cx=\"2189.13\" cy=\"877.457\" r=\"14\" fill=\"#cd5c5c\" fill-rule=\"evenodd\" fill-opacity=\"1\" stroke=\"none\"/>\n",
       "<circle clip-path=\"url(#clip222)\" cx=\"2194.73\" cy=\"885.601\" r=\"14\" fill=\"#cd5c5c\" fill-rule=\"evenodd\" fill-opacity=\"1\" stroke=\"none\"/>\n",
       "<circle clip-path=\"url(#clip222)\" cx=\"2200.33\" cy=\"883.392\" r=\"14\" fill=\"#cd5c5c\" fill-rule=\"evenodd\" fill-opacity=\"1\" stroke=\"none\"/>\n",
       "<circle clip-path=\"url(#clip222)\" cx=\"2205.94\" cy=\"883.39\" r=\"14\" fill=\"#cd5c5c\" fill-rule=\"evenodd\" fill-opacity=\"1\" stroke=\"none\"/>\n",
       "<circle clip-path=\"url(#clip222)\" cx=\"2211.54\" cy=\"884.685\" r=\"14\" fill=\"#cd5c5c\" fill-rule=\"evenodd\" fill-opacity=\"1\" stroke=\"none\"/>\n",
       "<circle clip-path=\"url(#clip222)\" cx=\"2217.15\" cy=\"874.8\" r=\"14\" fill=\"#cd5c5c\" fill-rule=\"evenodd\" fill-opacity=\"1\" stroke=\"none\"/>\n",
       "<circle clip-path=\"url(#clip222)\" cx=\"2222.75\" cy=\"885.981\" r=\"14\" fill=\"#cd5c5c\" fill-rule=\"evenodd\" fill-opacity=\"1\" stroke=\"none\"/>\n",
       "<circle clip-path=\"url(#clip222)\" cx=\"2228.36\" cy=\"883.582\" r=\"14\" fill=\"#cd5c5c\" fill-rule=\"evenodd\" fill-opacity=\"1\" stroke=\"none\"/>\n",
       "<circle clip-path=\"url(#clip222)\" cx=\"2233.96\" cy=\"869.374\" r=\"14\" fill=\"#cd5c5c\" fill-rule=\"evenodd\" fill-opacity=\"1\" stroke=\"none\"/>\n",
       "<circle clip-path=\"url(#clip222)\" cx=\"2239.57\" cy=\"876.236\" r=\"14\" fill=\"#cd5c5c\" fill-rule=\"evenodd\" fill-opacity=\"1\" stroke=\"none\"/>\n",
       "<circle clip-path=\"url(#clip222)\" cx=\"2245.17\" cy=\"882.278\" r=\"14\" fill=\"#cd5c5c\" fill-rule=\"evenodd\" fill-opacity=\"1\" stroke=\"none\"/>\n",
       "<circle clip-path=\"url(#clip222)\" cx=\"2250.77\" cy=\"876.974\" r=\"14\" fill=\"#cd5c5c\" fill-rule=\"evenodd\" fill-opacity=\"1\" stroke=\"none\"/>\n",
       "<circle clip-path=\"url(#clip222)\" cx=\"2256.38\" cy=\"879.896\" r=\"14\" fill=\"#cd5c5c\" fill-rule=\"evenodd\" fill-opacity=\"1\" stroke=\"none\"/>\n",
       "<circle clip-path=\"url(#clip222)\" cx=\"2261.98\" cy=\"868.849\" r=\"14\" fill=\"#cd5c5c\" fill-rule=\"evenodd\" fill-opacity=\"1\" stroke=\"none\"/>\n",
       "<circle clip-path=\"url(#clip222)\" cx=\"2267.59\" cy=\"884.54\" r=\"14\" fill=\"#cd5c5c\" fill-rule=\"evenodd\" fill-opacity=\"1\" stroke=\"none\"/>\n",
       "<circle clip-path=\"url(#clip222)\" cx=\"2273.19\" cy=\"880.151\" r=\"14\" fill=\"#cd5c5c\" fill-rule=\"evenodd\" fill-opacity=\"1\" stroke=\"none\"/>\n",
       "<circle clip-path=\"url(#clip222)\" cx=\"2278.8\" cy=\"884.683\" r=\"14\" fill=\"#cd5c5c\" fill-rule=\"evenodd\" fill-opacity=\"1\" stroke=\"none\"/>\n",
       "<circle clip-path=\"url(#clip222)\" cx=\"2284.4\" cy=\"881.433\" r=\"14\" fill=\"#cd5c5c\" fill-rule=\"evenodd\" fill-opacity=\"1\" stroke=\"none\"/>\n",
       "<circle clip-path=\"url(#clip222)\" cx=\"2290.01\" cy=\"881.005\" r=\"14\" fill=\"#cd5c5c\" fill-rule=\"evenodd\" fill-opacity=\"1\" stroke=\"none\"/>\n",
       "<circle clip-path=\"url(#clip222)\" cx=\"2295.61\" cy=\"875.117\" r=\"14\" fill=\"#cd5c5c\" fill-rule=\"evenodd\" fill-opacity=\"1\" stroke=\"none\"/>\n",
       "<circle clip-path=\"url(#clip222)\" cx=\"2301.21\" cy=\"877.774\" r=\"14\" fill=\"#cd5c5c\" fill-rule=\"evenodd\" fill-opacity=\"1\" stroke=\"none\"/>\n",
       "<circle clip-path=\"url(#clip222)\" cx=\"2306.82\" cy=\"878.982\" r=\"14\" fill=\"#cd5c5c\" fill-rule=\"evenodd\" fill-opacity=\"1\" stroke=\"none\"/>\n",
       "<circle clip-path=\"url(#clip222)\" cx=\"2312.42\" cy=\"879.194\" r=\"14\" fill=\"#cd5c5c\" fill-rule=\"evenodd\" fill-opacity=\"1\" stroke=\"none\"/>\n",
       "<circle clip-path=\"url(#clip222)\" cx=\"2318.03\" cy=\"864.336\" r=\"14\" fill=\"#cd5c5c\" fill-rule=\"evenodd\" fill-opacity=\"1\" stroke=\"none\"/>\n",
       "<circle clip-path=\"url(#clip222)\" cx=\"2323.63\" cy=\"881.341\" r=\"14\" fill=\"#cd5c5c\" fill-rule=\"evenodd\" fill-opacity=\"1\" stroke=\"none\"/>\n",
       "<circle clip-path=\"url(#clip222)\" cx=\"2329.24\" cy=\"882.517\" r=\"14\" fill=\"#cd5c5c\" fill-rule=\"evenodd\" fill-opacity=\"1\" stroke=\"none\"/>\n",
       "<circle clip-path=\"url(#clip222)\" cx=\"2334.84\" cy=\"882.633\" r=\"14\" fill=\"#cd5c5c\" fill-rule=\"evenodd\" fill-opacity=\"1\" stroke=\"none\"/>\n",
       "<circle clip-path=\"url(#clip222)\" cx=\"2340.45\" cy=\"877.759\" r=\"14\" fill=\"#cd5c5c\" fill-rule=\"evenodd\" fill-opacity=\"1\" stroke=\"none\"/>\n",
       "<circle clip-path=\"url(#clip222)\" cx=\"2346.05\" cy=\"879.24\" r=\"14\" fill=\"#cd5c5c\" fill-rule=\"evenodd\" fill-opacity=\"1\" stroke=\"none\"/>\n",
       "<circle clip-path=\"url(#clip222)\" cx=\"2351.65\" cy=\"881.555\" r=\"14\" fill=\"#cd5c5c\" fill-rule=\"evenodd\" fill-opacity=\"1\" stroke=\"none\"/>\n",
       "<circle clip-path=\"url(#clip222)\" cx=\"2357.26\" cy=\"869.094\" r=\"14\" fill=\"#cd5c5c\" fill-rule=\"evenodd\" fill-opacity=\"1\" stroke=\"none\"/>\n",
       "<circle clip-path=\"url(#clip222)\" cx=\"2362.86\" cy=\"880.419\" r=\"14\" fill=\"#cd5c5c\" fill-rule=\"evenodd\" fill-opacity=\"1\" stroke=\"none\"/>\n",
       "<circle clip-path=\"url(#clip222)\" cx=\"2368.47\" cy=\"869.956\" r=\"14\" fill=\"#cd5c5c\" fill-rule=\"evenodd\" fill-opacity=\"1\" stroke=\"none\"/>\n",
       "<circle clip-path=\"url(#clip222)\" cx=\"2374.07\" cy=\"879.951\" r=\"14\" fill=\"#cd5c5c\" fill-rule=\"evenodd\" fill-opacity=\"1\" stroke=\"none\"/>\n",
       "<circle clip-path=\"url(#clip222)\" cx=\"2379.68\" cy=\"865.526\" r=\"14\" fill=\"#cd5c5c\" fill-rule=\"evenodd\" fill-opacity=\"1\" stroke=\"none\"/>\n",
       "<circle clip-path=\"url(#clip222)\" cx=\"2385.28\" cy=\"882.477\" r=\"14\" fill=\"#cd5c5c\" fill-rule=\"evenodd\" fill-opacity=\"1\" stroke=\"none\"/>\n",
       "<circle clip-path=\"url(#clip222)\" cx=\"2390.89\" cy=\"868.167\" r=\"14\" fill=\"#cd5c5c\" fill-rule=\"evenodd\" fill-opacity=\"1\" stroke=\"none\"/>\n",
       "<circle clip-path=\"url(#clip222)\" cx=\"2396.49\" cy=\"873.246\" r=\"14\" fill=\"#cd5c5c\" fill-rule=\"evenodd\" fill-opacity=\"1\" stroke=\"none\"/>\n",
       "<circle clip-path=\"url(#clip222)\" cx=\"2402.09\" cy=\"877.555\" r=\"14\" fill=\"#cd5c5c\" fill-rule=\"evenodd\" fill-opacity=\"1\" stroke=\"none\"/>\n",
       "<circle clip-path=\"url(#clip222)\" cx=\"2407.7\" cy=\"878.186\" r=\"14\" fill=\"#cd5c5c\" fill-rule=\"evenodd\" fill-opacity=\"1\" stroke=\"none\"/>\n",
       "<circle clip-path=\"url(#clip222)\" cx=\"2413.3\" cy=\"878.096\" r=\"14\" fill=\"#cd5c5c\" fill-rule=\"evenodd\" fill-opacity=\"1\" stroke=\"none\"/>\n",
       "<circle clip-path=\"url(#clip222)\" cx=\"2418.91\" cy=\"867.848\" r=\"14\" fill=\"#cd5c5c\" fill-rule=\"evenodd\" fill-opacity=\"1\" stroke=\"none\"/>\n",
       "<circle clip-path=\"url(#clip222)\" cx=\"2424.51\" cy=\"880.27\" r=\"14\" fill=\"#cd5c5c\" fill-rule=\"evenodd\" fill-opacity=\"1\" stroke=\"none\"/>\n",
       "<circle clip-path=\"url(#clip222)\" cx=\"2430.12\" cy=\"883.909\" r=\"14\" fill=\"#cd5c5c\" fill-rule=\"evenodd\" fill-opacity=\"1\" stroke=\"none\"/>\n",
       "<circle clip-path=\"url(#clip222)\" cx=\"2435.72\" cy=\"881.497\" r=\"14\" fill=\"#cd5c5c\" fill-rule=\"evenodd\" fill-opacity=\"1\" stroke=\"none\"/>\n",
       "<circle clip-path=\"url(#clip222)\" cx=\"2441.33\" cy=\"868.584\" r=\"14\" fill=\"#cd5c5c\" fill-rule=\"evenodd\" fill-opacity=\"1\" stroke=\"none\"/>\n",
       "<circle clip-path=\"url(#clip222)\" cx=\"2446.93\" cy=\"881.345\" r=\"14\" fill=\"#cd5c5c\" fill-rule=\"evenodd\" fill-opacity=\"1\" stroke=\"none\"/>\n",
       "<circle clip-path=\"url(#clip222)\" cx=\"2452.53\" cy=\"876.338\" r=\"14\" fill=\"#cd5c5c\" fill-rule=\"evenodd\" fill-opacity=\"1\" stroke=\"none\"/>\n",
       "<circle clip-path=\"url(#clip222)\" cx=\"2458.14\" cy=\"866.333\" r=\"14\" fill=\"#cd5c5c\" fill-rule=\"evenodd\" fill-opacity=\"1\" stroke=\"none\"/>\n",
       "<circle clip-path=\"url(#clip222)\" cx=\"2463.74\" cy=\"881.943\" r=\"14\" fill=\"#cd5c5c\" fill-rule=\"evenodd\" fill-opacity=\"1\" stroke=\"none\"/>\n",
       "<circle clip-path=\"url(#clip222)\" cx=\"2469.35\" cy=\"879.873\" r=\"14\" fill=\"#cd5c5c\" fill-rule=\"evenodd\" fill-opacity=\"1\" stroke=\"none\"/>\n",
       "<circle clip-path=\"url(#clip222)\" cx=\"2474.95\" cy=\"876.802\" r=\"14\" fill=\"#cd5c5c\" fill-rule=\"evenodd\" fill-opacity=\"1\" stroke=\"none\"/>\n",
       "<circle clip-path=\"url(#clip222)\" cx=\"2480.56\" cy=\"880.26\" r=\"14\" fill=\"#cd5c5c\" fill-rule=\"evenodd\" fill-opacity=\"1\" stroke=\"none\"/>\n",
       "<circle clip-path=\"url(#clip222)\" cx=\"2486.16\" cy=\"885.7\" r=\"14\" fill=\"#cd5c5c\" fill-rule=\"evenodd\" fill-opacity=\"1\" stroke=\"none\"/>\n",
       "<circle clip-path=\"url(#clip222)\" cx=\"2491.77\" cy=\"861.358\" r=\"14\" fill=\"#cd5c5c\" fill-rule=\"evenodd\" fill-opacity=\"1\" stroke=\"none\"/>\n",
       "<circle clip-path=\"url(#clip222)\" cx=\"2497.37\" cy=\"878.992\" r=\"14\" fill=\"#cd5c5c\" fill-rule=\"evenodd\" fill-opacity=\"1\" stroke=\"none\"/>\n",
       "<circle clip-path=\"url(#clip222)\" cx=\"2502.97\" cy=\"874.384\" r=\"14\" fill=\"#cd5c5c\" fill-rule=\"evenodd\" fill-opacity=\"1\" stroke=\"none\"/>\n",
       "<circle clip-path=\"url(#clip222)\" cx=\"2508.58\" cy=\"877.65\" r=\"14\" fill=\"#cd5c5c\" fill-rule=\"evenodd\" fill-opacity=\"1\" stroke=\"none\"/>\n",
       "<circle clip-path=\"url(#clip222)\" cx=\"2514.18\" cy=\"883.624\" r=\"14\" fill=\"#cd5c5c\" fill-rule=\"evenodd\" fill-opacity=\"1\" stroke=\"none\"/>\n",
       "<circle clip-path=\"url(#clip222)\" cx=\"2519.79\" cy=\"876.953\" r=\"14\" fill=\"#cd5c5c\" fill-rule=\"evenodd\" fill-opacity=\"1\" stroke=\"none\"/>\n",
       "<circle clip-path=\"url(#clip222)\" cx=\"2525.39\" cy=\"880.214\" r=\"14\" fill=\"#cd5c5c\" fill-rule=\"evenodd\" fill-opacity=\"1\" stroke=\"none\"/>\n",
       "<circle clip-path=\"url(#clip222)\" cx=\"2531\" cy=\"876.591\" r=\"14\" fill=\"#cd5c5c\" fill-rule=\"evenodd\" fill-opacity=\"1\" stroke=\"none\"/>\n",
       "<circle clip-path=\"url(#clip222)\" cx=\"2536.6\" cy=\"876.799\" r=\"14\" fill=\"#cd5c5c\" fill-rule=\"evenodd\" fill-opacity=\"1\" stroke=\"none\"/>\n",
       "<circle clip-path=\"url(#clip222)\" cx=\"2542.21\" cy=\"883.009\" r=\"14\" fill=\"#cd5c5c\" fill-rule=\"evenodd\" fill-opacity=\"1\" stroke=\"none\"/>\n",
       "<circle clip-path=\"url(#clip222)\" cx=\"2547.81\" cy=\"881.037\" r=\"14\" fill=\"#cd5c5c\" fill-rule=\"evenodd\" fill-opacity=\"1\" stroke=\"none\"/>\n",
       "<circle clip-path=\"url(#clip222)\" cx=\"2553.42\" cy=\"878.128\" r=\"14\" fill=\"#cd5c5c\" fill-rule=\"evenodd\" fill-opacity=\"1\" stroke=\"none\"/>\n",
       "<circle clip-path=\"url(#clip222)\" cx=\"2559.02\" cy=\"883.475\" r=\"14\" fill=\"#cd5c5c\" fill-rule=\"evenodd\" fill-opacity=\"1\" stroke=\"none\"/>\n",
       "<circle clip-path=\"url(#clip222)\" cx=\"2564.62\" cy=\"884.426\" r=\"14\" fill=\"#cd5c5c\" fill-rule=\"evenodd\" fill-opacity=\"1\" stroke=\"none\"/>\n",
       "<circle clip-path=\"url(#clip222)\" cx=\"2570.23\" cy=\"878.587\" r=\"14\" fill=\"#cd5c5c\" fill-rule=\"evenodd\" fill-opacity=\"1\" stroke=\"none\"/>\n",
       "<circle clip-path=\"url(#clip222)\" cx=\"2575.83\" cy=\"867.948\" r=\"14\" fill=\"#cd5c5c\" fill-rule=\"evenodd\" fill-opacity=\"1\" stroke=\"none\"/>\n",
       "<circle clip-path=\"url(#clip222)\" cx=\"2581.44\" cy=\"863.867\" r=\"14\" fill=\"#cd5c5c\" fill-rule=\"evenodd\" fill-opacity=\"1\" stroke=\"none\"/>\n",
       "<circle clip-path=\"url(#clip222)\" cx=\"2587.04\" cy=\"858.257\" r=\"14\" fill=\"#cd5c5c\" fill-rule=\"evenodd\" fill-opacity=\"1\" stroke=\"none\"/>\n",
       "<circle clip-path=\"url(#clip222)\" cx=\"2592.65\" cy=\"876.801\" r=\"14\" fill=\"#cd5c5c\" fill-rule=\"evenodd\" fill-opacity=\"1\" stroke=\"none\"/>\n",
       "<circle clip-path=\"url(#clip222)\" cx=\"2598.25\" cy=\"861.54\" r=\"14\" fill=\"#cd5c5c\" fill-rule=\"evenodd\" fill-opacity=\"1\" stroke=\"none\"/>\n",
       "<circle clip-path=\"url(#clip222)\" cx=\"2603.86\" cy=\"865.657\" r=\"14\" fill=\"#cd5c5c\" fill-rule=\"evenodd\" fill-opacity=\"1\" stroke=\"none\"/>\n",
       "<circle clip-path=\"url(#clip222)\" cx=\"2609.46\" cy=\"865.025\" r=\"14\" fill=\"#cd5c5c\" fill-rule=\"evenodd\" fill-opacity=\"1\" stroke=\"none\"/>\n",
       "<circle clip-path=\"url(#clip222)\" cx=\"2615.06\" cy=\"886.367\" r=\"14\" fill=\"#cd5c5c\" fill-rule=\"evenodd\" fill-opacity=\"1\" stroke=\"none\"/>\n",
       "<circle clip-path=\"url(#clip222)\" cx=\"2620.67\" cy=\"873.449\" r=\"14\" fill=\"#cd5c5c\" fill-rule=\"evenodd\" fill-opacity=\"1\" stroke=\"none\"/>\n",
       "<circle clip-path=\"url(#clip222)\" cx=\"2626.27\" cy=\"872.409\" r=\"14\" fill=\"#cd5c5c\" fill-rule=\"evenodd\" fill-opacity=\"1\" stroke=\"none\"/>\n",
       "<circle clip-path=\"url(#clip222)\" cx=\"2631.88\" cy=\"863.726\" r=\"14\" fill=\"#cd5c5c\" fill-rule=\"evenodd\" fill-opacity=\"1\" stroke=\"none\"/>\n",
       "<circle clip-path=\"url(#clip222)\" cx=\"2637.48\" cy=\"875.821\" r=\"14\" fill=\"#cd5c5c\" fill-rule=\"evenodd\" fill-opacity=\"1\" stroke=\"none\"/>\n",
       "<circle clip-path=\"url(#clip222)\" cx=\"2643.09\" cy=\"876.93\" r=\"14\" fill=\"#cd5c5c\" fill-rule=\"evenodd\" fill-opacity=\"1\" stroke=\"none\"/>\n",
       "<circle clip-path=\"url(#clip222)\" cx=\"2648.69\" cy=\"882.319\" r=\"14\" fill=\"#cd5c5c\" fill-rule=\"evenodd\" fill-opacity=\"1\" stroke=\"none\"/>\n",
       "<circle clip-path=\"url(#clip222)\" cx=\"2654.3\" cy=\"877.619\" r=\"14\" fill=\"#cd5c5c\" fill-rule=\"evenodd\" fill-opacity=\"1\" stroke=\"none\"/>\n",
       "<circle clip-path=\"url(#clip222)\" cx=\"2659.9\" cy=\"883.959\" r=\"14\" fill=\"#cd5c5c\" fill-rule=\"evenodd\" fill-opacity=\"1\" stroke=\"none\"/>\n",
       "<circle clip-path=\"url(#clip222)\" cx=\"2665.5\" cy=\"873.865\" r=\"14\" fill=\"#cd5c5c\" fill-rule=\"evenodd\" fill-opacity=\"1\" stroke=\"none\"/>\n",
       "<circle clip-path=\"url(#clip222)\" cx=\"2671.11\" cy=\"880.298\" r=\"14\" fill=\"#cd5c5c\" fill-rule=\"evenodd\" fill-opacity=\"1\" stroke=\"none\"/>\n",
       "<circle clip-path=\"url(#clip222)\" cx=\"2676.71\" cy=\"872.308\" r=\"14\" fill=\"#cd5c5c\" fill-rule=\"evenodd\" fill-opacity=\"1\" stroke=\"none\"/>\n",
       "<circle clip-path=\"url(#clip222)\" cx=\"2682.32\" cy=\"871.16\" r=\"14\" fill=\"#cd5c5c\" fill-rule=\"evenodd\" fill-opacity=\"1\" stroke=\"none\"/>\n",
       "<circle clip-path=\"url(#clip222)\" cx=\"2687.92\" cy=\"857.509\" r=\"14\" fill=\"#cd5c5c\" fill-rule=\"evenodd\" fill-opacity=\"1\" stroke=\"none\"/>\n",
       "<circle clip-path=\"url(#clip222)\" cx=\"2693.53\" cy=\"872.784\" r=\"14\" fill=\"#cd5c5c\" fill-rule=\"evenodd\" fill-opacity=\"1\" stroke=\"none\"/>\n",
       "<circle clip-path=\"url(#clip222)\" cx=\"2699.13\" cy=\"883.993\" r=\"14\" fill=\"#cd5c5c\" fill-rule=\"evenodd\" fill-opacity=\"1\" stroke=\"none\"/>\n",
       "<circle clip-path=\"url(#clip222)\" cx=\"2704.74\" cy=\"876.518\" r=\"14\" fill=\"#cd5c5c\" fill-rule=\"evenodd\" fill-opacity=\"1\" stroke=\"none\"/>\n",
       "<circle clip-path=\"url(#clip222)\" cx=\"2710.34\" cy=\"868.817\" r=\"14\" fill=\"#cd5c5c\" fill-rule=\"evenodd\" fill-opacity=\"1\" stroke=\"none\"/>\n",
       "<circle clip-path=\"url(#clip222)\" cx=\"2715.94\" cy=\"883.198\" r=\"14\" fill=\"#cd5c5c\" fill-rule=\"evenodd\" fill-opacity=\"1\" stroke=\"none\"/>\n",
       "<circle clip-path=\"url(#clip222)\" cx=\"2721.55\" cy=\"880.505\" r=\"14\" fill=\"#cd5c5c\" fill-rule=\"evenodd\" fill-opacity=\"1\" stroke=\"none\"/>\n",
       "<circle clip-path=\"url(#clip222)\" cx=\"2727.15\" cy=\"850.213\" r=\"14\" fill=\"#cd5c5c\" fill-rule=\"evenodd\" fill-opacity=\"1\" stroke=\"none\"/>\n",
       "<circle clip-path=\"url(#clip222)\" cx=\"2732.76\" cy=\"871.887\" r=\"14\" fill=\"#cd5c5c\" fill-rule=\"evenodd\" fill-opacity=\"1\" stroke=\"none\"/>\n",
       "<circle clip-path=\"url(#clip222)\" cx=\"2738.36\" cy=\"874.667\" r=\"14\" fill=\"#cd5c5c\" fill-rule=\"evenodd\" fill-opacity=\"1\" stroke=\"none\"/>\n",
       "<circle clip-path=\"url(#clip222)\" cx=\"2743.97\" cy=\"872.417\" r=\"14\" fill=\"#cd5c5c\" fill-rule=\"evenodd\" fill-opacity=\"1\" stroke=\"none\"/>\n",
       "<circle clip-path=\"url(#clip222)\" cx=\"2749.57\" cy=\"872.436\" r=\"14\" fill=\"#cd5c5c\" fill-rule=\"evenodd\" fill-opacity=\"1\" stroke=\"none\"/>\n",
       "<circle clip-path=\"url(#clip222)\" cx=\"2755.18\" cy=\"876.741\" r=\"14\" fill=\"#cd5c5c\" fill-rule=\"evenodd\" fill-opacity=\"1\" stroke=\"none\"/>\n",
       "<circle clip-path=\"url(#clip222)\" cx=\"2760.78\" cy=\"877.664\" r=\"14\" fill=\"#cd5c5c\" fill-rule=\"evenodd\" fill-opacity=\"1\" stroke=\"none\"/>\n",
       "<circle clip-path=\"url(#clip222)\" cx=\"2766.38\" cy=\"880.72\" r=\"14\" fill=\"#cd5c5c\" fill-rule=\"evenodd\" fill-opacity=\"1\" stroke=\"none\"/>\n",
       "<circle clip-path=\"url(#clip222)\" cx=\"2771.99\" cy=\"878.429\" r=\"14\" fill=\"#cd5c5c\" fill-rule=\"evenodd\" fill-opacity=\"1\" stroke=\"none\"/>\n",
       "<circle clip-path=\"url(#clip222)\" cx=\"2777.59\" cy=\"878.622\" r=\"14\" fill=\"#cd5c5c\" fill-rule=\"evenodd\" fill-opacity=\"1\" stroke=\"none\"/>\n",
       "<circle clip-path=\"url(#clip222)\" cx=\"2783.2\" cy=\"877.784\" r=\"14\" fill=\"#cd5c5c\" fill-rule=\"evenodd\" fill-opacity=\"1\" stroke=\"none\"/>\n",
       "<circle clip-path=\"url(#clip222)\" cx=\"2788.8\" cy=\"872.373\" r=\"14\" fill=\"#cd5c5c\" fill-rule=\"evenodd\" fill-opacity=\"1\" stroke=\"none\"/>\n",
       "<circle clip-path=\"url(#clip222)\" cx=\"2794.41\" cy=\"873.842\" r=\"14\" fill=\"#cd5c5c\" fill-rule=\"evenodd\" fill-opacity=\"1\" stroke=\"none\"/>\n",
       "<circle clip-path=\"url(#clip222)\" cx=\"2800.01\" cy=\"869.751\" r=\"14\" fill=\"#cd5c5c\" fill-rule=\"evenodd\" fill-opacity=\"1\" stroke=\"none\"/>\n",
       "<circle clip-path=\"url(#clip222)\" cx=\"2805.62\" cy=\"872.442\" r=\"14\" fill=\"#cd5c5c\" fill-rule=\"evenodd\" fill-opacity=\"1\" stroke=\"none\"/>\n",
       "<circle clip-path=\"url(#clip222)\" cx=\"2811.22\" cy=\"879.962\" r=\"14\" fill=\"#cd5c5c\" fill-rule=\"evenodd\" fill-opacity=\"1\" stroke=\"none\"/>\n",
       "<circle clip-path=\"url(#clip222)\" cx=\"2816.82\" cy=\"882.529\" r=\"14\" fill=\"#cd5c5c\" fill-rule=\"evenodd\" fill-opacity=\"1\" stroke=\"none\"/>\n",
       "<circle clip-path=\"url(#clip222)\" cx=\"2822.43\" cy=\"867.465\" r=\"14\" fill=\"#cd5c5c\" fill-rule=\"evenodd\" fill-opacity=\"1\" stroke=\"none\"/>\n",
       "<circle clip-path=\"url(#clip222)\" cx=\"2828.03\" cy=\"877.288\" r=\"14\" fill=\"#cd5c5c\" fill-rule=\"evenodd\" fill-opacity=\"1\" stroke=\"none\"/>\n",
       "<circle clip-path=\"url(#clip222)\" cx=\"2833.64\" cy=\"870.321\" r=\"14\" fill=\"#cd5c5c\" fill-rule=\"evenodd\" fill-opacity=\"1\" stroke=\"none\"/>\n",
       "<circle clip-path=\"url(#clip222)\" cx=\"2839.24\" cy=\"873.055\" r=\"14\" fill=\"#cd5c5c\" fill-rule=\"evenodd\" fill-opacity=\"1\" stroke=\"none\"/>\n",
       "<circle clip-path=\"url(#clip222)\" cx=\"2844.85\" cy=\"882.747\" r=\"14\" fill=\"#cd5c5c\" fill-rule=\"evenodd\" fill-opacity=\"1\" stroke=\"none\"/>\n",
       "<circle clip-path=\"url(#clip222)\" cx=\"2850.45\" cy=\"874.159\" r=\"14\" fill=\"#cd5c5c\" fill-rule=\"evenodd\" fill-opacity=\"1\" stroke=\"none\"/>\n",
       "<circle clip-path=\"url(#clip222)\" cx=\"2856.06\" cy=\"872.259\" r=\"14\" fill=\"#cd5c5c\" fill-rule=\"evenodd\" fill-opacity=\"1\" stroke=\"none\"/>\n",
       "<circle clip-path=\"url(#clip222)\" cx=\"2861.66\" cy=\"873.242\" r=\"14\" fill=\"#cd5c5c\" fill-rule=\"evenodd\" fill-opacity=\"1\" stroke=\"none\"/>\n",
       "<circle clip-path=\"url(#clip222)\" cx=\"2867.26\" cy=\"875.335\" r=\"14\" fill=\"#cd5c5c\" fill-rule=\"evenodd\" fill-opacity=\"1\" stroke=\"none\"/>\n",
       "<circle clip-path=\"url(#clip222)\" cx=\"2872.87\" cy=\"851.66\" r=\"14\" fill=\"#cd5c5c\" fill-rule=\"evenodd\" fill-opacity=\"1\" stroke=\"none\"/>\n",
       "<circle clip-path=\"url(#clip222)\" cx=\"2878.47\" cy=\"867.484\" r=\"14\" fill=\"#cd5c5c\" fill-rule=\"evenodd\" fill-opacity=\"1\" stroke=\"none\"/>\n",
       "<circle clip-path=\"url(#clip222)\" cx=\"2884.08\" cy=\"864.269\" r=\"14\" fill=\"#cd5c5c\" fill-rule=\"evenodd\" fill-opacity=\"1\" stroke=\"none\"/>\n",
       "<circle clip-path=\"url(#clip222)\" cx=\"2889.68\" cy=\"877.746\" r=\"14\" fill=\"#cd5c5c\" fill-rule=\"evenodd\" fill-opacity=\"1\" stroke=\"none\"/>\n",
       "<circle clip-path=\"url(#clip222)\" cx=\"2895.29\" cy=\"871.421\" r=\"14\" fill=\"#cd5c5c\" fill-rule=\"evenodd\" fill-opacity=\"1\" stroke=\"none\"/>\n",
       "<circle clip-path=\"url(#clip222)\" cx=\"2900.89\" cy=\"853.388\" r=\"14\" fill=\"#cd5c5c\" fill-rule=\"evenodd\" fill-opacity=\"1\" stroke=\"none\"/>\n",
       "<circle clip-path=\"url(#clip222)\" cx=\"2906.5\" cy=\"871.356\" r=\"14\" fill=\"#cd5c5c\" fill-rule=\"evenodd\" fill-opacity=\"1\" stroke=\"none\"/>\n",
       "<circle clip-path=\"url(#clip222)\" cx=\"2912.1\" cy=\"858.121\" r=\"14\" fill=\"#cd5c5c\" fill-rule=\"evenodd\" fill-opacity=\"1\" stroke=\"none\"/>\n",
       "<circle clip-path=\"url(#clip222)\" cx=\"2917.7\" cy=\"842.674\" r=\"14\" fill=\"#cd5c5c\" fill-rule=\"evenodd\" fill-opacity=\"1\" stroke=\"none\"/>\n",
       "<circle clip-path=\"url(#clip222)\" cx=\"2923.31\" cy=\"873.436\" r=\"14\" fill=\"#cd5c5c\" fill-rule=\"evenodd\" fill-opacity=\"1\" stroke=\"none\"/>\n",
       "<circle clip-path=\"url(#clip222)\" cx=\"2928.91\" cy=\"860.832\" r=\"14\" fill=\"#cd5c5c\" fill-rule=\"evenodd\" fill-opacity=\"1\" stroke=\"none\"/>\n",
       "<circle clip-path=\"url(#clip222)\" cx=\"2934.52\" cy=\"858.458\" r=\"14\" fill=\"#cd5c5c\" fill-rule=\"evenodd\" fill-opacity=\"1\" stroke=\"none\"/>\n",
       "<circle clip-path=\"url(#clip222)\" cx=\"2940.12\" cy=\"872.304\" r=\"14\" fill=\"#cd5c5c\" fill-rule=\"evenodd\" fill-opacity=\"1\" stroke=\"none\"/>\n",
       "<circle clip-path=\"url(#clip222)\" cx=\"2945.73\" cy=\"848.191\" r=\"14\" fill=\"#cd5c5c\" fill-rule=\"evenodd\" fill-opacity=\"1\" stroke=\"none\"/>\n",
       "<circle clip-path=\"url(#clip222)\" cx=\"2951.33\" cy=\"864.123\" r=\"14\" fill=\"#cd5c5c\" fill-rule=\"evenodd\" fill-opacity=\"1\" stroke=\"none\"/>\n",
       "<circle clip-path=\"url(#clip222)\" cx=\"2956.94\" cy=\"882.432\" r=\"14\" fill=\"#cd5c5c\" fill-rule=\"evenodd\" fill-opacity=\"1\" stroke=\"none\"/>\n",
       "<circle clip-path=\"url(#clip222)\" cx=\"2962.54\" cy=\"860.192\" r=\"14\" fill=\"#cd5c5c\" fill-rule=\"evenodd\" fill-opacity=\"1\" stroke=\"none\"/>\n",
       "<circle clip-path=\"url(#clip222)\" cx=\"2968.15\" cy=\"872.017\" r=\"14\" fill=\"#cd5c5c\" fill-rule=\"evenodd\" fill-opacity=\"1\" stroke=\"none\"/>\n",
       "<circle clip-path=\"url(#clip222)\" cx=\"2973.75\" cy=\"882.256\" r=\"14\" fill=\"#cd5c5c\" fill-rule=\"evenodd\" fill-opacity=\"1\" stroke=\"none\"/>\n",
       "<circle clip-path=\"url(#clip222)\" cx=\"2979.35\" cy=\"839.995\" r=\"14\" fill=\"#cd5c5c\" fill-rule=\"evenodd\" fill-opacity=\"1\" stroke=\"none\"/>\n",
       "<circle clip-path=\"url(#clip222)\" cx=\"2984.96\" cy=\"865.919\" r=\"14\" fill=\"#cd5c5c\" fill-rule=\"evenodd\" fill-opacity=\"1\" stroke=\"none\"/>\n",
       "<circle clip-path=\"url(#clip222)\" cx=\"2990.56\" cy=\"868.334\" r=\"14\" fill=\"#cd5c5c\" fill-rule=\"evenodd\" fill-opacity=\"1\" stroke=\"none\"/>\n",
       "<circle clip-path=\"url(#clip222)\" cx=\"2996.17\" cy=\"837.106\" r=\"14\" fill=\"#cd5c5c\" fill-rule=\"evenodd\" fill-opacity=\"1\" stroke=\"none\"/>\n",
       "<circle clip-path=\"url(#clip222)\" cx=\"3001.77\" cy=\"870.819\" r=\"14\" fill=\"#cd5c5c\" fill-rule=\"evenodd\" fill-opacity=\"1\" stroke=\"none\"/>\n",
       "<circle clip-path=\"url(#clip222)\" cx=\"3007.38\" cy=\"854.198\" r=\"14\" fill=\"#cd5c5c\" fill-rule=\"evenodd\" fill-opacity=\"1\" stroke=\"none\"/>\n",
       "<circle clip-path=\"url(#clip222)\" cx=\"3012.98\" cy=\"833.789\" r=\"14\" fill=\"#cd5c5c\" fill-rule=\"evenodd\" fill-opacity=\"1\" stroke=\"none\"/>\n",
       "<circle clip-path=\"url(#clip222)\" cx=\"3018.59\" cy=\"833.918\" r=\"14\" fill=\"#cd5c5c\" fill-rule=\"evenodd\" fill-opacity=\"1\" stroke=\"none\"/>\n",
       "<circle clip-path=\"url(#clip222)\" cx=\"3024.19\" cy=\"787.79\" r=\"14\" fill=\"#cd5c5c\" fill-rule=\"evenodd\" fill-opacity=\"1\" stroke=\"none\"/>\n",
       "<circle clip-path=\"url(#clip222)\" cx=\"3029.79\" cy=\"869.275\" r=\"14\" fill=\"#cd5c5c\" fill-rule=\"evenodd\" fill-opacity=\"1\" stroke=\"none\"/>\n",
       "<circle clip-path=\"url(#clip222)\" cx=\"3035.4\" cy=\"875.95\" r=\"14\" fill=\"#cd5c5c\" fill-rule=\"evenodd\" fill-opacity=\"1\" stroke=\"none\"/>\n",
       "<circle clip-path=\"url(#clip222)\" cx=\"3041\" cy=\"812.19\" r=\"14\" fill=\"#cd5c5c\" fill-rule=\"evenodd\" fill-opacity=\"1\" stroke=\"none\"/>\n",
       "<circle clip-path=\"url(#clip222)\" cx=\"3046.61\" cy=\"724.628\" r=\"14\" fill=\"#cd5c5c\" fill-rule=\"evenodd\" fill-opacity=\"1\" stroke=\"none\"/>\n",
       "<circle clip-path=\"url(#clip222)\" cx=\"3052.21\" cy=\"768.447\" r=\"14\" fill=\"#cd5c5c\" fill-rule=\"evenodd\" fill-opacity=\"1\" stroke=\"none\"/>\n",
       "<circle clip-path=\"url(#clip222)\" cx=\"3057.82\" cy=\"809.527\" r=\"14\" fill=\"#cd5c5c\" fill-rule=\"evenodd\" fill-opacity=\"1\" stroke=\"none\"/>\n",
       "<circle clip-path=\"url(#clip222)\" cx=\"3063.42\" cy=\"764.663\" r=\"14\" fill=\"#cd5c5c\" fill-rule=\"evenodd\" fill-opacity=\"1\" stroke=\"none\"/>\n",
       "<circle clip-path=\"url(#clip222)\" cx=\"3069.03\" cy=\"476.282\" r=\"14\" fill=\"#cd5c5c\" fill-rule=\"evenodd\" fill-opacity=\"1\" stroke=\"none\"/>\n",
       "</svg>\n"
      ]
     },
     "execution_count": 177,
     "metadata": {},
     "output_type": "execute_result"
    }
   ],
   "source": [
    "plot1 = plot(diff(evals) ./ evals[2:end], legend = false, size = (800,250), linewidth = 2.5, linestyle = :dash)\n",
    "scatter!(diff(evals) ./ evals[2:end], \n",
    "        markercolor = :indianred, markerstrokecolor = :indianred, markersize = 4)"
   ]
  },
  {
   "cell_type": "markdown",
   "metadata": {},
   "source": [
    "The eigenvalues are increasing from left to right. \n",
    "\n",
    "We know that $R$ always has a kernel. This is the leftmost point on top.\n",
    "\n",
    "In addition, we see more points on the left separating from the rest. \n",
    "\n",
    "This is an indicator that there could be indeed polynomial equations (approximately) vanishing on the data.\n",
    "\n",
    "For instance, the trucks are photographed from different angles, so that the equation could describe rotational symmetry."
   ]
  },
  {
   "cell_type": "markdown",
   "metadata": {},
   "source": [
    "# Generative Models\n",
    "\n",
    "We consider again the [FashionMNIST](https://github.com/zalandoresearch/fashion-mnist) dataset from [Zalando Research](https://github.com/zalandoresearch)."
   ]
  },
  {
   "cell_type": "code",
   "execution_count": 179,
   "metadata": {},
   "outputs": [],
   "source": [
    "data_X, data_Y = FashionMNIST.traindata();"
   ]
  },
  {
   "cell_type": "code",
   "execution_count": 180,
   "metadata": {},
   "outputs": [],
   "source": [
    "labels = [\"T-shirt/top\", \n",
    "            \"Trouser\", \n",
    "            \"Pullover\", \n",
    "            \"Dress\", \n",
    "            \"Coat\", \n",
    "            \"Sandal\", \n",
    "            \"Shirt\", \n",
    "            \"Sneaker\", \n",
    "            \"Bag\", \n",
    "            \"Ankle boot\"];"
   ]
  },
  {
   "cell_type": "markdown",
   "metadata": {},
   "source": [
    "Let us consider the subset of the data consisting of images of sneakers."
   ]
  },
  {
   "cell_type": "code",
   "execution_count": 181,
   "metadata": {},
   "outputs": [],
   "source": [
    "idx = findfirst(labels .== \"Sneaker\") - 1\n",
    "sneakers = data_X[:,:, data_Y .== idx];"
   ]
  },
  {
   "cell_type": "markdown",
   "metadata": {},
   "source": [
    "This dataset contains 6000 images. "
   ]
  },
  {
   "cell_type": "code",
   "execution_count": 182,
   "metadata": {},
   "outputs": [
    {
     "data": {
      "text/plain": [
       "6000"
      ]
     },
     "execution_count": 182,
     "metadata": {},
     "output_type": "execute_result"
    }
   ],
   "source": [
    "n_images = size(sneakers, 3)"
   ]
  },
  {
   "cell_type": "markdown",
   "metadata": {},
   "source": [
    "We take a subset of $n=500$ images."
   ]
  },
  {
   "cell_type": "code",
   "execution_count": 183,
   "metadata": {},
   "outputs": [],
   "source": [
    "n = 500\n",
    "subsample = sample(1:n_images, n, replace = false);"
   ]
  },
  {
   "cell_type": "markdown",
   "metadata": {},
   "source": [
    "Let us take a look at 6 randomly chosen images from our dataset."
   ]
  },
  {
   "cell_type": "code",
   "execution_count": 184,
   "metadata": {},
   "outputs": [
    {
     "data": {
      "text/html": [
       "<table><tbody><tr><td style='text-align:center;vertical-align:middle; margin: 0.5em;border:1px #90999f solid;border-collapse:collapse'><img style='max-width: 100px; max-height:100px;display:inline' src=\"data:image/png;base64,iVBORw0KGgoAAAANSUhEUgAAAHAAAABwCAAAAADji6uXAAAABGdBTUEAALGPC/xhBQAAAAFzUkdCAK7OHOkAAAAgY0hSTQAAeiYAAICEAAD6AAAAgOgAAHUwAADqYAAAOpgAABdwnLpRPAAAAntJREFUaAW9wU9rFgQAB+Dnnb81t6bOUuckMEJT8CKhhyIiY4HQIQiKunbs0LVT575DH6FbUFCnQdQtIYoOCdIftTRt4dY2te19E97gLehgRL/nibIoi7Ioi7Ioi7Ioi7Ioi7Ioi7Ioi7Ioi7Ioi7Ioi7Ioi7Ioi7Ioi7Ioi7Ioi7Ioi39pgJG/O4cVEwOMTATbxqIsyqIs7sMAAwwxMrYHL+MEZrBiLNg2NoUhtk1EWZRFWdyHEUbGDuB1PIlrWMUMXsF72DYxNPYGlvA2oizKoiz+wcDYyMRJvIqjGOIDzOE4FvEWlvEOvjV2CO/iRXxkLMqiLMriL6YwwsjEs3gej+NLfIh5nMAiHsMabuIZvIBLuIAjWMIKNnAQURZlUZZdGGKEoYlzWMYJXMFl7MN5PIxV3MAd/IKvcQs7mMM8PsciTuIwTiHKoizKsmPiCTyH09iLddzCISxgBRdwCscxg00cwDFs4hE8hH2YwibWsQvziLIoi7K452mcx1HcxQ3sYAu3sBs/YQuLWMAXuIRlHMQMhpjDLH7DdWNT2ME1RFmURVmewpu4iK+wgV24igVM40fsxxks4Hts4CUcw+94FJu4jnnM4QhmcAcL+AFRFmVRlgHWcBtLOIwB5jGNTzHCa7iIKziD05jFTaxhHbexgVWsYgtDPIhZ/Iwoi7Ioy2e4im08gBH2Ygq/YhX78T6+8d9FWZRFWdzzHWZxFndwENNYxBLuYjfOYgp7sIN1TGM3hpjBCFPYiwE2sIbL+BhRFmVRFn/awif+f1EWZVEWZVEWZVEWZVEWZVEWZVEWZVEWZVEWZVEWZVEWZVEWZVEWZVEWZVEWZVH2B21mfdGBOoMRAAAAAElFTkSuQmCC\"></td><td style='text-align:center;vertical-align:middle; margin: 0.5em;border:1px #90999f solid;border-collapse:collapse'><img style='max-width: 100px; max-height:100px;display:inline' src=\"data:image/png;base64,iVBORw0KGgoAAAANSUhEUgAAAHAAAABwCAAAAADji6uXAAAABGdBTUEAALGPC/xhBQAAAAFzUkdCAK7OHOkAAAAgY0hSTQAAeiYAAICEAAD6AAAAgOgAAHUwAADqYAAAOpgAABdwnLpRPAAAAr9JREFUaAW9wb9rnAUcB+Dncp/kLjE/jIm0gSDJJIggdRTdSidRVBQFV8fipJOL/4C4CS4uwUUEQUEFdZKiLo5WERSKhdbYa03S5sfd+xp4hQwVjIPf54liUSyKRbEoFsWiWBSLYlEsikWxKBbFolgUi2JRLIpFsSgWxaJYFItiUSyKRbE4hT4mTvTRx6HOJrbwIq5gFvs6fYydiGJRLIrFKUzQQ6szwUTnNTyPM5jVOUSrM9bZwK+IYlEsisV/0EOr8youYoxlXMVPOhMn7sEeXsLbiGJRLIrFKbVOfIWHsYfr6GPN3T7EOVzGF7iDKBbFolj8iyk0Ogv4EUOMcAMD/I5pvIdXMMYbeBbfYQNP4C1EsSgWxeIf9HRaNDoX8DmuocG72MBTuIkRXsCTmOAAX2IZLdZ1olgUi2JxrI9Wp0HrRB+f4Ty+wQGW8AwWMUKwgis6LZbwKI7Qw/06USyKRbE4NnG3GbyP53S+xhB3cIAB9tBHgxZ9BIdYwhHGGOisIopFsSgWx57G67iMdTyAFYzwLXaxjRUMnGixiD4WMcAegm2sYRc3sIIJolgUi2JZxTs4i3O4jSkcYB4NgimMMcQ05jGHGQzRQ7CIPRziZ/yCIb7HCFEsikWxPI4xfsAKGsxhgDnchx52sI8hhuhjFhPsY4xt7GCMaQRn0eKmThSLYlEsH+FNBL+hwTSCIQ4wwCJmMMEe/sRtHOJQp0EP0zjALYyxjE1cQBSLYlEsjj2Cl3ERm1jFH7iOPlrsosEUGgQPYoCrOEIP+2iwgwWMsY4e5hDFolgUi79tYUvnMZzHGayhhwXMYxdDXMMH2MEmHsIIQ9yLW5jBPD7GJ/gUUSyKRbE4NoUWrc4lXPL/iGJRLIrFsUadKBbFolgUi2JRLIpFsSgWxaJYFItiUSyKRbEoFsWiWBSLYlEsiv0FAGiX6tK3zUkAAAAASUVORK5C\"></td><td style='text-align:center;vertical-align:middle; margin: 0.5em;border:1px #90999f solid;border-collapse:collapse'><img style='max-width: 100px; max-height:100px;display:inline' src=\"data:image/png;base64,iVBORw0KGgoAAAANSUhEUgAAAHAAAABwCAAAAADji6uXAAAABGdBTUEAALGPC/xhBQAAAAFzUkdCAK7OHOkAAAAgY0hSTQAAeiYAAICEAAD6AAAAgOgAAHUwAADqYAAAOpgAABdwnLpRPAAAAmdJREFUaAW9wb9qHAQAB+Dv7n4m18RelNQQFVoR/EOlg4N/qIOKD+DWRTv4Ag76DH0LF0cfoW6t4KAuFSwVFJdolRYuSWmb9JKehRNCpUJx+H1flEVZlEVZlEVZlEVZlEVZlEVZlEVZlEVZlEVZlEVZlEVZlEVZlEVZlEVZlEVZlEVZlEVZlEVZ/A8jHFoY4gyueDxRFmVRFo9hgLkjhxbO4Vm8hS9x0cIAc0fewPcWoizKoiz+wwAD3Mfcw87iXbyALfyCT3HRwtyRDVzAR7iBKIuyKIsHBhhYGGGGOeYe9h4+xGn8iTFOYgl38Tm+wI6FMT7DGk7jEqIsyqIsHphjbuG+Ixt4ER/gFUxwE3/hBI5h2cIqzuMT/IZ9vIxt3MHHuIQoi7Ioi3+sIpjgJN7BqxhgBQPcwXE8hXu4hRlWMcJdDLGJfUyxh+uY4DSiLMqiLOfwNnZxD8vYxxi7OMQ21rGOJcwRjDHHMoIDzLCHfezjHg4wxRqiLMqiLD9jjA1sYoIZDjHFGlYwwzbWLQwxxBB3MMQensApbGCKGX7E8/gGURZlUZYruIr7OIHX8DpO4SWsWJhigJs4jlUMMcQ+ljDGM7iMCxhhhhUs4SqiLMqiLCM8iTHm+AHfYg9DzDHCAd7HV9jCc1jFCMu4jhE28SbO4Cx+xQ0cwzVEWZRFWQ4xdWQNT2NiYQkD/IFruIjfcRu3cBu72MIEP2EXM3yNmxhgD3uIsiiLsviXHezgukc77/F859GiLMqiLMqiLMqiLMqiLMqiLMqiLMqiLMqiLMqiLMqiLMqiLMqiLMqiLMqiLMqi7G++F3bvgWgg9AAAAABJRU5ErkJg\"></td><td style='text-align:center;vertical-align:middle; margin: 0.5em;border:1px #90999f solid;border-collapse:collapse'><img style='max-width: 100px; max-height:100px;display:inline' src=\"data:image/png;base64,iVBORw0KGgoAAAANSUhEUgAAAHAAAABwCAAAAADji6uXAAAABGdBTUEAALGPC/xhBQAAAAFzUkdCAK7OHOkAAAAgY0hSTQAAeiYAAICEAAD6AAAAgOgAAHUwAADqYAAAOpgAABdwnLpRPAAAAt5JREFUaAW9wbGL1nUcB/DX93ned57nqXmoqOilFVRDEC2BQ7U1NQYtUUMNjjY0NxUNYf9Df0BDkE0tgQ1BRFhBkWhDkJb3eHrnPffcc7+E3/BEBtJRn9crikWxKBbFolgUi2JRLIpFsSgWxaJYFItiUSyKRbEoFsWiWBSLYlEs/iMHsKbX0LCDptfpRbEoFsVilxo6Mx/iY3yCDp1eh2YmikWxKBa70NCZeR1zeBOH8RV+xSo6dGjoEMWiWBSLXegQbOMw3sPXCD7AAm5jhIt4CztoiGJRLIrFLm3rncc1DHACv+A3nMIYL+NFPIs1RLEoFsXiX2jozJzHcazjEDYxxgHcQYcfcRLv4xyiWBSLYvEADcEEnd6T+AhH8T2W0TCPOQxwF3swj008pxfFolgUiwfoMNF7DO/iBXyDS3gc1zDEEI9iAUcwwQ18h6leFItiUSz+oul1GGKq9zTO4SX8gE+xgifQ4Qxu4DNcwiLmMcEUB/AqziKKRbEoFvcMsIPOzFTvAl7BTXyOvXgGDVcxRYfTeANruIU57MNBTDDEOqJYFIticc+O+53BOziLL3EXAzyMVYxxBIsY4Q72YQn7McYObmOERSwhikWxKBb3PI8VPIVDOIrD2MRPWMUx7MUVLGMRm9jGPOYxwRgDLKBhA3sQnEEUi2JRLG/jNdzAGm5jDau4hUXcxB84gWV02MAQc2i4g4aGhjEaojfCMqJYFItiuYghjuMYDmEBcwg6rOAhXMEihjiJbb2BXkNDww6mWMC3eAQjRLEoFsVyGZfRYR+O4DRO4RgO6i1hgg38jgm2MNUbY6DX9NaxilVcxQaiWBSLYpnDKQywjhG+wNQ/a+7XzDS9AYYYYgkrGCKKRbEoli38bGYe+7EfQ8yhYUevmRmgodNraBhiGx2CDVzHdUSxKBbF4m+2sIWR/0cUi2JRLIpFsSgWxaJYFItiUSyKRbEoFsWiWBSLYlHsT3iKmtKJZlKWAAAAAElFTkSuQmCC\"></td><td style='text-align:center;vertical-align:middle; margin: 0.5em;border:1px #90999f solid;border-collapse:collapse'><img style='max-width: 100px; max-height:100px;display:inline' src=\"data:image/png;base64,iVBORw0KGgoAAAANSUhEUgAAAHAAAABwCAAAAADji6uXAAAABGdBTUEAALGPC/xhBQAAAAFzUkdCAK7OHOkAAAAgY0hSTQAAeiYAAICEAAD6AAAAgOgAAHUwAADqYAAAOpgAABdwnLpRPAAAAmxJREFUaAW9wbuKnAUABtAzM182u2ZNdiFE1kgQRMEbQlSsJMGHsBLBUnwI06QXfBUr04hgoyJaiKKVIAkStdjd7HVmfgN/MSykUcN3TpRFWZRFWZRFWZRFWZRFWZRFWZRFWZRFWZRFWZRFWZRFWZRFWZRFWZRFWZRFWZRFWTwG1/Gd0QQDJhgwwWAlyqIsyuJ/eA4f4iY+wy0MRoPRgCnWcYAoi7Ioi//gMt7CBj7HdXyMW0YTDFaWODCKsiiLsvgXJngZr+EY+7iCT7COp3EXg7M+whZuI8qiLMoywWA0sTI46xU8hatY4gVs4R628Sk+wB18beVVvIEbuI0oi7Ioi4cmVgYrUzyDmzjBk9jHJexhgU1McNnofdzAX7ho9CVex9uIsiiLsgwebQdv4iXcQ/AH1nGMczjEKTaxjwu4i01s4whreIAf8C6iLMqiLB7awQzbGPAidnCAL3ARW9jBDp7HOr7BOcwxxa7RPuZY4AQb+AozRFmURVm28R4O8BPu43d8i3MIdnDB6D4WmGEXaziPBWaYGy2xhm0MWOIBoizKoixX8D1OcQ3vYANzHGIXe9jEJUyMpnjWWVMsnTXHKabYQ5RFWZTlN1zDOn7Ez9jEBrawYbSH+zjGCY5xhCMscIo5jjDHEkucIFjDIaIsyqIsR7iDC7iKSzjE3/gVBzg1WmCOGSaYYmI0YIIZZphhhvOY4QlsIcqiLMoyxRIP8IuVi9jAGjaxNJpZmVqJsxZWTvAnjhBlURZlWXq0Xex6/KIsyqIsyqIsyqIsyqIsyqIsyqIsyqIsyqIsyqIsyqIsyqIsyqIsyqLsH9w7fRDiK/wWAAAAAElFTkSuQmCC\"></td><td style='text-align:center;vertical-align:middle; margin: 0.5em;border:1px #90999f solid;border-collapse:collapse'><img style='max-width: 100px; max-height:100px;display:inline' src=\"data:image/png;base64,iVBORw0KGgoAAAANSUhEUgAAAHAAAABwCAAAAADji6uXAAAABGdBTUEAALGPC/xhBQAAAAFzUkdCAK7OHOkAAAAgY0hSTQAAeiYAAICEAAD6AAAAgOgAAHUwAADqYAAAOpgAABdwnLpRPAAAAilJREFUaAW9wT1rXQUABuCHw8vFj8s1JjGUGMFmqBjFLzoJHXQRh/4CEWf/hYuTm/0FLu6C4O5gbRERLBWXCg5SSrkNscSaHA4KdwiXWugg7/NEWZRFWZRFWZRFWZRFWZRFWZRFWZRFWZRFWZRFWZRFWZRFWZRFWZRFWZRFWZRFWZRFWZRFWZTFYxowObOLN3Af31oXjP5blEVZlMVjmqzM8Ro+xk28ihtYOjM6M1iZrERZlEVZPMKAybo9vId3scQDbOEDXMGAybrJuiiLsiiLR5ic2cFlXMR5fIUD7OMIn+MKJg8b8DU+wXVEWZRFWQZMHrbABbyEi3gBX+I8djGzcg1zfIe3rfsUr2OBy7iOKIuyKMtkJRixj3dwgCX28CP+wCt4ChsIRryFX/Ey7uIbbGEfh7iKAW9igSiLsijLAe7gLl7E+5jjd9zGiF0cY8ARghlmmLCNX/AzZriJLzDhHLZxD3NEWZRFWfbwIa7iEjZxHzuYcIwZBjyJCX/hAU6wRDDHszjF87iEBSaM2MAFRFmURVm+x08YcAOb2MBz2MARnsAmtrHAFp5GEBzjFH9jwjHu4TeMOMECtxFlURZlOcKAc1hiwg/YwWd4Bic4xYQRf2LChAETBisnGDHDiCWOcAu3EGVRFmXxr0McWncHH/n/RVmURVmURVmURVmURVmURVmURVmURVmURVmURVmURVmURVmURVmURVmURVmURVmURVmURdk/BBRqy9OEweEAAAAASUVORK5C\"></td></tr></tbody></table><div><small>(a vector displayed as a row to save space)</small></div>"
      ],
      "text/plain": [
       "6-element Vector{Base.ReinterpretArray{Gray{N0f8}, 2, N0f8, Matrix{N0f8}, true}}:\n",
       " [Gray{N0f8}(0.0) Gray{N0f8}(0.0) … Gray{N0f8}(0.0) Gray{N0f8}(0.0); Gray{N0f8}(0.0) Gray{N0f8}(0.0) … Gray{N0f8}(0.0) Gray{N0f8}(0.0); … ; Gray{N0f8}(0.0) Gray{N0f8}(0.0) … Gray{N0f8}(0.0) Gray{N0f8}(0.0); Gray{N0f8}(0.0) Gray{N0f8}(0.0) … Gray{N0f8}(0.0) Gray{N0f8}(0.0)]\n",
       " [Gray{N0f8}(0.0) Gray{N0f8}(0.0) … Gray{N0f8}(0.0) Gray{N0f8}(0.0); Gray{N0f8}(0.0) Gray{N0f8}(0.0) … Gray{N0f8}(0.0) Gray{N0f8}(0.0); … ; Gray{N0f8}(0.0) Gray{N0f8}(0.0) … Gray{N0f8}(0.0) Gray{N0f8}(0.0); Gray{N0f8}(0.0) Gray{N0f8}(0.0) … Gray{N0f8}(0.0) Gray{N0f8}(0.0)]\n",
       " [Gray{N0f8}(0.0) Gray{N0f8}(0.0) … Gray{N0f8}(0.0) Gray{N0f8}(0.0); Gray{N0f8}(0.0) Gray{N0f8}(0.0) … Gray{N0f8}(0.0) Gray{N0f8}(0.0); … ; Gray{N0f8}(0.0) Gray{N0f8}(0.0) … Gray{N0f8}(0.0) Gray{N0f8}(0.0); Gray{N0f8}(0.0) Gray{N0f8}(0.0) … Gray{N0f8}(0.0) Gray{N0f8}(0.0)]\n",
       " [Gray{N0f8}(0.0) Gray{N0f8}(0.0) … Gray{N0f8}(0.0) Gray{N0f8}(0.0); Gray{N0f8}(0.0) Gray{N0f8}(0.0) … Gray{N0f8}(0.0) Gray{N0f8}(0.0); … ; Gray{N0f8}(0.0) Gray{N0f8}(0.0) … Gray{N0f8}(0.0) Gray{N0f8}(0.0); Gray{N0f8}(0.0) Gray{N0f8}(0.0) … Gray{N0f8}(0.0) Gray{N0f8}(0.0)]\n",
       " [Gray{N0f8}(0.0) Gray{N0f8}(0.0) … Gray{N0f8}(0.0) Gray{N0f8}(0.0); Gray{N0f8}(0.0) Gray{N0f8}(0.0) … Gray{N0f8}(0.0) Gray{N0f8}(0.0); … ; Gray{N0f8}(0.0) Gray{N0f8}(0.0) … Gray{N0f8}(0.0) Gray{N0f8}(0.0); Gray{N0f8}(0.0) Gray{N0f8}(0.0) … Gray{N0f8}(0.0) Gray{N0f8}(0.0)]\n",
       " [Gray{N0f8}(0.0) Gray{N0f8}(0.0) … Gray{N0f8}(0.0) Gray{N0f8}(0.0); Gray{N0f8}(0.0) Gray{N0f8}(0.0) … Gray{N0f8}(0.0) Gray{N0f8}(0.0); … ; Gray{N0f8}(0.0) Gray{N0f8}(0.0) … Gray{N0f8}(0.0) Gray{N0f8}(0.0); Gray{N0f8}(0.0) Gray{N0f8}(0.0) … Gray{N0f8}(0.0) Gray{N0f8}(0.0)]"
      ]
     },
     "execution_count": 184,
     "metadata": {},
     "output_type": "execute_result"
    }
   ],
   "source": [
    "k = rand(subsample, 6)\n",
    "[FashionMNIST.convert2image(sneakers[:,:,i]) for i in k]"
   ]
  },
  {
   "cell_type": "markdown",
   "metadata": {},
   "source": [
    "We embed the data in $\\mathbb R^D$ ($D= 28^2 = 784$ for $28\\times 28$ pixels) and center the data."
   ]
  },
  {
   "cell_type": "code",
   "execution_count": 191,
   "metadata": {},
   "outputs": [
    {
     "data": {
      "text/plain": [
       "784"
      ]
     },
     "execution_count": 191,
     "metadata": {},
     "output_type": "execute_result"
    }
   ],
   "source": [
    "D = 28^2"
   ]
  },
  {
   "cell_type": "code",
   "execution_count": 192,
   "metadata": {},
   "outputs": [],
   "source": [
    "X = map(subsample) do i\n",
    "    xᵢ = vec(sneakers[:,:,i])\n",
    "    Float64.(xᵢ)\n",
    "    end;\n",
    "\n",
    "x̄ = mean(X);\n",
    "X = map(x -> x .- x̄, X);"
   ]
  },
  {
   "cell_type": "markdown",
   "metadata": {},
   "source": [
    "The feature matrix $\\Omega$ in this case is simply the matrix having the data as rows."
   ]
  },
  {
   "cell_type": "code",
   "execution_count": 193,
   "metadata": {},
   "outputs": [],
   "source": [
    "Ω = hcat(X...) |> transpose;"
   ]
  },
  {
   "cell_type": "markdown",
   "metadata": {},
   "source": [
    "Now, we compute a singular value decomposition of $\\Omega$."
   ]
  },
  {
   "cell_type": "code",
   "execution_count": 194,
   "metadata": {},
   "outputs": [],
   "source": [
    "S = svd(Ω)\n",
    "svals = S.S;"
   ]
  },
  {
   "cell_type": "markdown",
   "metadata": {},
   "source": [
    "Let us plot the logarithms of the values in `svals`."
   ]
  },
  {
   "cell_type": "code",
   "execution_count": 196,
   "metadata": {
    "scrolled": true
   },
   "outputs": [
    {
     "data": {
      "image/svg+xml": [
       "<?xml version=\"1.0\" encoding=\"utf-8\"?>\n",
       "<svg xmlns=\"http://www.w3.org/2000/svg\" xmlns:xlink=\"http://www.w3.org/1999/xlink\" width=\"800\" height=\"250\" viewBox=\"0 0 3200 1000\">\n",
       "<defs>\n",
       "  <clipPath id=\"clip310\">\n",
       "    <rect x=\"0\" y=\"0\" width=\"3200\" height=\"1000\"/>\n",
       "  </clipPath>\n",
       "</defs>\n",
       "<path clip-path=\"url(#clip310)\" d=\"\n",
       "M0 1000 L3200 1000 L3200 0 L0 0  Z\n",
       "  \" fill=\"#ffffff\" fill-rule=\"evenodd\" fill-opacity=\"1\"/>\n",
       "<defs>\n",
       "  <clipPath id=\"clip311\">\n",
       "    <rect x=\"640\" y=\"0\" width=\"2241\" height=\"1000\"/>\n",
       "  </clipPath>\n",
       "</defs>\n",
       "<path clip-path=\"url(#clip310)\" d=\"\n",
       "M149.853 910.808 L3152.76 910.808 L3152.76 47.2441 L149.853 47.2441  Z\n",
       "  \" fill=\"#ffffff\" fill-rule=\"evenodd\" fill-opacity=\"1\"/>\n",
       "<defs>\n",
       "  <clipPath id=\"clip312\">\n",
       "    <rect x=\"149\" y=\"47\" width=\"3004\" height=\"865\"/>\n",
       "  </clipPath>\n",
       "</defs>\n",
       "<polyline clip-path=\"url(#clip312)\" style=\"stroke:#000000; stroke-linecap:butt; stroke-linejoin:round; stroke-width:2; stroke-opacity:0.1; fill:none\" points=\"\n",
       "  149.853,910.808 149.853,47.2441 \n",
       "  \"/>\n",
       "<polyline clip-path=\"url(#clip312)\" style=\"stroke:#000000; stroke-linecap:butt; stroke-linejoin:round; stroke-width:2; stroke-opacity:0.1; fill:none\" points=\"\n",
       "  400.095,910.808 400.095,47.2441 \n",
       "  \"/>\n",
       "<polyline clip-path=\"url(#clip312)\" style=\"stroke:#000000; stroke-linecap:butt; stroke-linejoin:round; stroke-width:2; stroke-opacity:0.1; fill:none\" points=\"\n",
       "  650.337,910.808 650.337,47.2441 \n",
       "  \"/>\n",
       "<polyline clip-path=\"url(#clip312)\" style=\"stroke:#000000; stroke-linecap:butt; stroke-linejoin:round; stroke-width:2; stroke-opacity:0.1; fill:none\" points=\"\n",
       "  900.579,910.808 900.579,47.2441 \n",
       "  \"/>\n",
       "<polyline clip-path=\"url(#clip312)\" style=\"stroke:#000000; stroke-linecap:butt; stroke-linejoin:round; stroke-width:2; stroke-opacity:0.1; fill:none\" points=\"\n",
       "  1150.82,910.808 1150.82,47.2441 \n",
       "  \"/>\n",
       "<polyline clip-path=\"url(#clip312)\" style=\"stroke:#000000; stroke-linecap:butt; stroke-linejoin:round; stroke-width:2; stroke-opacity:0.1; fill:none\" points=\"\n",
       "  1401.06,910.808 1401.06,47.2441 \n",
       "  \"/>\n",
       "<polyline clip-path=\"url(#clip312)\" style=\"stroke:#000000; stroke-linecap:butt; stroke-linejoin:round; stroke-width:2; stroke-opacity:0.1; fill:none\" points=\"\n",
       "  1651.3,910.808 1651.3,47.2441 \n",
       "  \"/>\n",
       "<polyline clip-path=\"url(#clip312)\" style=\"stroke:#000000; stroke-linecap:butt; stroke-linejoin:round; stroke-width:2; stroke-opacity:0.1; fill:none\" points=\"\n",
       "  1901.55,910.808 1901.55,47.2441 \n",
       "  \"/>\n",
       "<polyline clip-path=\"url(#clip312)\" style=\"stroke:#000000; stroke-linecap:butt; stroke-linejoin:round; stroke-width:2; stroke-opacity:0.1; fill:none\" points=\"\n",
       "  2151.79,910.808 2151.79,47.2441 \n",
       "  \"/>\n",
       "<polyline clip-path=\"url(#clip312)\" style=\"stroke:#000000; stroke-linecap:butt; stroke-linejoin:round; stroke-width:2; stroke-opacity:0.1; fill:none\" points=\"\n",
       "  2402.03,910.808 2402.03,47.2441 \n",
       "  \"/>\n",
       "<polyline clip-path=\"url(#clip312)\" style=\"stroke:#000000; stroke-linecap:butt; stroke-linejoin:round; stroke-width:2; stroke-opacity:0.1; fill:none\" points=\"\n",
       "  2652.27,910.808 2652.27,47.2441 \n",
       "  \"/>\n",
       "<polyline clip-path=\"url(#clip312)\" style=\"stroke:#000000; stroke-linecap:butt; stroke-linejoin:round; stroke-width:2; stroke-opacity:0.1; fill:none\" points=\"\n",
       "  2902.51,910.808 2902.51,47.2441 \n",
       "  \"/>\n",
       "<polyline clip-path=\"url(#clip312)\" style=\"stroke:#000000; stroke-linecap:butt; stroke-linejoin:round; stroke-width:2; stroke-opacity:0.1; fill:none\" points=\"\n",
       "  3152.76,910.808 3152.76,47.2441 \n",
       "  \"/>\n",
       "<polyline clip-path=\"url(#clip310)\" style=\"stroke:#000000; stroke-linecap:butt; stroke-linejoin:round; stroke-width:4; stroke-opacity:1; fill:none\" points=\"\n",
       "  149.853,910.808 3152.76,910.808 \n",
       "  \"/>\n",
       "<polyline clip-path=\"url(#clip310)\" style=\"stroke:#000000; stroke-linecap:butt; stroke-linejoin:round; stroke-width:4; stroke-opacity:1; fill:none\" points=\"\n",
       "  149.853,910.808 149.853,891.91 \n",
       "  \"/>\n",
       "<polyline clip-path=\"url(#clip310)\" style=\"stroke:#000000; stroke-linecap:butt; stroke-linejoin:round; stroke-width:4; stroke-opacity:1; fill:none\" points=\"\n",
       "  400.095,910.808 400.095,891.91 \n",
       "  \"/>\n",
       "<polyline clip-path=\"url(#clip310)\" style=\"stroke:#000000; stroke-linecap:butt; stroke-linejoin:round; stroke-width:4; stroke-opacity:1; fill:none\" points=\"\n",
       "  650.337,910.808 650.337,891.91 \n",
       "  \"/>\n",
       "<polyline clip-path=\"url(#clip310)\" style=\"stroke:#000000; stroke-linecap:butt; stroke-linejoin:round; stroke-width:4; stroke-opacity:1; fill:none\" points=\"\n",
       "  900.579,910.808 900.579,891.91 \n",
       "  \"/>\n",
       "<polyline clip-path=\"url(#clip310)\" style=\"stroke:#000000; stroke-linecap:butt; stroke-linejoin:round; stroke-width:4; stroke-opacity:1; fill:none\" points=\"\n",
       "  1150.82,910.808 1150.82,891.91 \n",
       "  \"/>\n",
       "<polyline clip-path=\"url(#clip310)\" style=\"stroke:#000000; stroke-linecap:butt; stroke-linejoin:round; stroke-width:4; stroke-opacity:1; fill:none\" points=\"\n",
       "  1401.06,910.808 1401.06,891.91 \n",
       "  \"/>\n",
       "<polyline clip-path=\"url(#clip310)\" style=\"stroke:#000000; stroke-linecap:butt; stroke-linejoin:round; stroke-width:4; stroke-opacity:1; fill:none\" points=\"\n",
       "  1651.3,910.808 1651.3,891.91 \n",
       "  \"/>\n",
       "<polyline clip-path=\"url(#clip310)\" style=\"stroke:#000000; stroke-linecap:butt; stroke-linejoin:round; stroke-width:4; stroke-opacity:1; fill:none\" points=\"\n",
       "  1901.55,910.808 1901.55,891.91 \n",
       "  \"/>\n",
       "<polyline clip-path=\"url(#clip310)\" style=\"stroke:#000000; stroke-linecap:butt; stroke-linejoin:round; stroke-width:4; stroke-opacity:1; fill:none\" points=\"\n",
       "  2151.79,910.808 2151.79,891.91 \n",
       "  \"/>\n",
       "<polyline clip-path=\"url(#clip310)\" style=\"stroke:#000000; stroke-linecap:butt; stroke-linejoin:round; stroke-width:4; stroke-opacity:1; fill:none\" points=\"\n",
       "  2402.03,910.808 2402.03,891.91 \n",
       "  \"/>\n",
       "<polyline clip-path=\"url(#clip310)\" style=\"stroke:#000000; stroke-linecap:butt; stroke-linejoin:round; stroke-width:4; stroke-opacity:1; fill:none\" points=\"\n",
       "  2652.27,910.808 2652.27,891.91 \n",
       "  \"/>\n",
       "<polyline clip-path=\"url(#clip310)\" style=\"stroke:#000000; stroke-linecap:butt; stroke-linejoin:round; stroke-width:4; stroke-opacity:1; fill:none\" points=\"\n",
       "  2902.51,910.808 2902.51,891.91 \n",
       "  \"/>\n",
       "<polyline clip-path=\"url(#clip310)\" style=\"stroke:#000000; stroke-linecap:butt; stroke-linejoin:round; stroke-width:4; stroke-opacity:1; fill:none\" points=\"\n",
       "  3152.76,910.808 3152.76,891.91 \n",
       "  \"/>\n",
       "<path clip-path=\"url(#clip310)\" d=\"M103.673 962.779 L133.348 962.779 L133.348 966.714 L103.673 966.714 L103.673 962.779 Z\" fill=\"#000000\" fill-rule=\"evenodd\" fill-opacity=\"1\" /><path clip-path=\"url(#clip310)\" d=\"M144.251 975.673 L151.89 975.673 L151.89 949.307 L143.58 950.974 L143.58 946.715 L151.844 945.048 L156.52 945.048 L156.52 975.673 L164.158 975.673 L164.158 979.608 L144.251 979.608 L144.251 975.673 Z\" fill=\"#000000\" fill-rule=\"evenodd\" fill-opacity=\"1\" /><path clip-path=\"url(#clip310)\" d=\"M186.45 949.122 L174.644 967.571 L186.45 967.571 L186.45 949.122 M185.223 945.048 L191.103 945.048 L191.103 967.571 L196.033 967.571 L196.033 971.46 L191.103 971.46 L191.103 979.608 L186.45 979.608 L186.45 971.46 L170.848 971.46 L170.848 966.946 L185.223 945.048 Z\" fill=\"#000000\" fill-rule=\"evenodd\" fill-opacity=\"1\" /><path clip-path=\"url(#clip310)\" d=\"M354.956 962.779 L384.632 962.779 L384.632 966.714 L354.956 966.714 L354.956 962.779 Z\" fill=\"#000000\" fill-rule=\"evenodd\" fill-opacity=\"1\" /><path clip-path=\"url(#clip310)\" d=\"M395.535 975.673 L403.174 975.673 L403.174 949.307 L394.863 950.974 L394.863 946.715 L403.127 945.048 L407.803 945.048 L407.803 975.673 L415.442 975.673 L415.442 979.608 L395.535 979.608 L395.535 975.673 Z\" fill=\"#000000\" fill-rule=\"evenodd\" fill-opacity=\"1\" /><path clip-path=\"url(#clip310)\" d=\"M428.914 975.673 L445.234 975.673 L445.234 979.608 L423.289 979.608 L423.289 975.673 Q425.951 972.918 430.535 968.288 Q435.141 963.636 436.322 962.293 Q438.567 959.77 439.446 958.034 Q440.349 956.275 440.349 954.585 Q440.349 951.83 438.405 950.094 Q436.484 948.358 433.382 948.358 Q431.183 948.358 428.729 949.122 Q426.298 949.886 423.521 951.437 L423.521 946.715 Q426.345 945.58 428.798 945.002 Q431.252 944.423 433.289 944.423 Q438.659 944.423 441.854 947.108 Q445.048 949.793 445.048 954.284 Q445.048 956.414 444.238 958.335 Q443.451 960.233 441.345 962.826 Q440.766 963.497 437.664 966.714 Q434.562 969.909 428.914 975.673 Z\" fill=\"#000000\" fill-rule=\"evenodd\" fill-opacity=\"1\" /><path clip-path=\"url(#clip310)\" d=\"M604.4 962.779 L634.075 962.779 L634.075 966.714 L604.4 966.714 L604.4 962.779 Z\" fill=\"#000000\" fill-rule=\"evenodd\" fill-opacity=\"1\" /><path clip-path=\"url(#clip310)\" d=\"M644.978 975.673 L652.617 975.673 L652.617 949.307 L644.307 950.974 L644.307 946.715 L652.571 945.048 L657.246 945.048 L657.246 975.673 L664.885 975.673 L664.885 979.608 L644.978 979.608 L644.978 975.673 Z\" fill=\"#000000\" fill-rule=\"evenodd\" fill-opacity=\"1\" /><path clip-path=\"url(#clip310)\" d=\"M684.33 948.127 Q680.719 948.127 678.89 951.691 Q677.084 955.233 677.084 962.363 Q677.084 969.469 678.89 973.034 Q680.719 976.575 684.33 976.575 Q687.964 976.575 689.769 973.034 Q691.598 969.469 691.598 962.363 Q691.598 955.233 689.769 951.691 Q687.964 948.127 684.33 948.127 M684.33 944.423 Q690.14 944.423 693.195 949.029 Q696.274 953.613 696.274 962.363 Q696.274 971.089 693.195 975.696 Q690.14 980.279 684.33 980.279 Q678.519 980.279 675.441 975.696 Q672.385 971.089 672.385 962.363 Q672.385 953.613 675.441 949.029 Q678.519 944.423 684.33 944.423 Z\" fill=\"#000000\" fill-rule=\"evenodd\" fill-opacity=\"1\" /><path clip-path=\"url(#clip310)\" d=\"M869.769 962.779 L899.444 962.779 L899.444 966.714 L869.769 966.714 L869.769 962.779 Z\" fill=\"#000000\" fill-rule=\"evenodd\" fill-opacity=\"1\" /><path clip-path=\"url(#clip310)\" d=\"M919.537 963.196 Q916.204 963.196 914.282 964.978 Q912.384 966.761 912.384 969.886 Q912.384 973.011 914.282 974.793 Q916.204 976.575 919.537 976.575 Q922.87 976.575 924.792 974.793 Q926.713 972.988 926.713 969.886 Q926.713 966.761 924.792 964.978 Q922.893 963.196 919.537 963.196 M914.861 961.205 Q911.852 960.464 910.162 958.404 Q908.495 956.344 908.495 953.381 Q908.495 949.238 911.435 946.83 Q914.398 944.423 919.537 944.423 Q924.699 944.423 927.639 946.83 Q930.579 949.238 930.579 953.381 Q930.579 956.344 928.889 958.404 Q927.222 960.464 924.236 961.205 Q927.616 961.992 929.491 964.284 Q931.389 966.576 931.389 969.886 Q931.389 974.909 928.31 977.594 Q925.254 980.279 919.537 980.279 Q913.819 980.279 910.741 977.594 Q907.685 974.909 907.685 969.886 Q907.685 966.576 909.583 964.284 Q911.481 961.992 914.861 961.205 M913.148 953.821 Q913.148 956.506 914.815 958.011 Q916.505 959.515 919.537 959.515 Q922.546 959.515 924.236 958.011 Q925.949 956.506 925.949 953.821 Q925.949 951.136 924.236 949.631 Q922.546 948.127 919.537 948.127 Q916.505 948.127 914.815 949.631 Q913.148 951.136 913.148 953.821 Z\" fill=\"#000000\" fill-rule=\"evenodd\" fill-opacity=\"1\" /><path clip-path=\"url(#clip310)\" d=\"M1119.88 962.779 L1149.56 962.779 L1149.56 966.714 L1119.88 966.714 L1119.88 962.779 Z\" fill=\"#000000\" fill-rule=\"evenodd\" fill-opacity=\"1\" /><path clip-path=\"url(#clip310)\" d=\"M1170.23 960.464 Q1167.08 960.464 1165.23 962.617 Q1163.4 964.77 1163.4 968.52 Q1163.4 972.247 1165.23 974.423 Q1167.08 976.575 1170.23 976.575 Q1173.38 976.575 1175.21 974.423 Q1177.06 972.247 1177.06 968.52 Q1177.06 964.77 1175.21 962.617 Q1173.38 960.464 1170.23 960.464 M1179.51 945.812 L1179.51 950.071 Q1177.75 949.238 1175.95 948.798 Q1174.17 948.358 1172.41 948.358 Q1167.78 948.358 1165.32 951.483 Q1162.89 954.608 1162.55 960.927 Q1163.91 958.914 1165.97 957.849 Q1168.03 956.761 1170.51 956.761 Q1175.72 956.761 1178.73 959.932 Q1181.76 963.08 1181.76 968.52 Q1181.76 973.844 1178.61 977.062 Q1175.46 980.279 1170.23 980.279 Q1164.23 980.279 1161.06 975.696 Q1157.89 971.089 1157.89 962.363 Q1157.89 954.168 1161.78 949.307 Q1165.67 944.423 1172.22 944.423 Q1173.98 944.423 1175.76 944.77 Q1177.57 945.117 1179.51 945.812 Z\" fill=\"#000000\" fill-rule=\"evenodd\" fill-opacity=\"1\" /><path clip-path=\"url(#clip310)\" d=\"M1369.96 962.779 L1399.64 962.779 L1399.64 966.714 L1369.96 966.714 L1369.96 962.779 Z\" fill=\"#000000\" fill-rule=\"evenodd\" fill-opacity=\"1\" /><path clip-path=\"url(#clip310)\" d=\"M1422.58 949.122 L1410.77 967.571 L1422.58 967.571 L1422.58 949.122 M1421.35 945.048 L1427.23 945.048 L1427.23 967.571 L1432.16 967.571 L1432.16 971.46 L1427.23 971.46 L1427.23 979.608 L1422.58 979.608 L1422.58 971.46 L1406.98 971.46 L1406.98 966.946 L1421.35 945.048 Z\" fill=\"#000000\" fill-rule=\"evenodd\" fill-opacity=\"1\" /><path clip-path=\"url(#clip310)\" d=\"M1621.25 962.779 L1650.92 962.779 L1650.92 966.714 L1621.25 966.714 L1621.25 962.779 Z\" fill=\"#000000\" fill-rule=\"evenodd\" fill-opacity=\"1\" /><path clip-path=\"url(#clip310)\" d=\"M1665.04 975.673 L1681.36 975.673 L1681.36 979.608 L1659.42 979.608 L1659.42 975.673 Q1662.08 972.918 1666.66 968.288 Q1671.27 963.636 1672.45 962.293 Q1674.7 959.77 1675.58 958.034 Q1676.48 956.275 1676.48 954.585 Q1676.48 951.83 1674.53 950.094 Q1672.61 948.358 1669.51 948.358 Q1667.31 948.358 1664.86 949.122 Q1662.43 949.886 1659.65 951.437 L1659.65 946.715 Q1662.47 945.58 1664.93 945.002 Q1667.38 944.423 1669.42 944.423 Q1674.79 944.423 1677.98 947.108 Q1681.18 949.793 1681.18 954.284 Q1681.18 956.414 1680.37 958.335 Q1679.58 960.233 1677.47 962.826 Q1676.89 963.497 1673.79 966.714 Q1670.69 969.909 1665.04 975.673 Z\" fill=\"#000000\" fill-rule=\"evenodd\" fill-opacity=\"1\" /><path clip-path=\"url(#clip310)\" d=\"M1901.55 948.127 Q1897.94 948.127 1896.11 951.691 Q1894.3 955.233 1894.3 962.363 Q1894.3 969.469 1896.11 973.034 Q1897.94 976.575 1901.55 976.575 Q1905.18 976.575 1906.99 973.034 Q1908.81 969.469 1908.81 962.363 Q1908.81 955.233 1906.99 951.691 Q1905.18 948.127 1901.55 948.127 M1901.55 944.423 Q1907.36 944.423 1910.41 949.029 Q1913.49 953.613 1913.49 962.363 Q1913.49 971.089 1910.41 975.696 Q1907.36 980.279 1901.55 980.279 Q1895.74 980.279 1892.66 975.696 Q1889.6 971.089 1889.6 962.363 Q1889.6 953.613 1892.66 949.029 Q1895.74 944.423 1901.55 944.423 Z\" fill=\"#000000\" fill-rule=\"evenodd\" fill-opacity=\"1\" /><path clip-path=\"url(#clip310)\" d=\"M2146.44 975.673 L2162.76 975.673 L2162.76 979.608 L2140.82 979.608 L2140.82 975.673 Q2143.48 972.918 2148.06 968.288 Q2152.67 963.636 2153.85 962.293 Q2156.09 959.77 2156.97 958.034 Q2157.88 956.275 2157.88 954.585 Q2157.88 951.83 2155.93 950.094 Q2154.01 948.358 2150.91 948.358 Q2148.71 948.358 2146.26 949.122 Q2143.83 949.886 2141.05 951.437 L2141.05 946.715 Q2143.87 945.58 2146.33 945.002 Q2148.78 944.423 2150.82 944.423 Q2156.19 944.423 2159.38 947.108 Q2162.58 949.793 2162.58 954.284 Q2162.58 956.414 2161.77 958.335 Q2160.98 960.233 2158.87 962.826 Q2158.29 963.497 2155.19 966.714 Q2152.09 969.909 2146.44 975.673 Z\" fill=\"#000000\" fill-rule=\"evenodd\" fill-opacity=\"1\" /><path clip-path=\"url(#clip310)\" d=\"M2405.04 949.122 L2393.23 967.571 L2405.04 967.571 L2405.04 949.122 M2403.81 945.048 L2409.69 945.048 L2409.69 967.571 L2414.62 967.571 L2414.62 971.46 L2409.69 971.46 L2409.69 979.608 L2405.04 979.608 L2405.04 971.46 L2389.44 971.46 L2389.44 966.946 L2403.81 945.048 Z\" fill=\"#000000\" fill-rule=\"evenodd\" fill-opacity=\"1\" /><path clip-path=\"url(#clip310)\" d=\"M2652.68 960.464 Q2649.53 960.464 2647.68 962.617 Q2645.85 964.77 2645.85 968.52 Q2645.85 972.247 2647.68 974.423 Q2649.53 976.575 2652.68 976.575 Q2655.83 976.575 2657.65 974.423 Q2659.51 972.247 2659.51 968.52 Q2659.51 964.77 2657.65 962.617 Q2655.83 960.464 2652.68 960.464 M2661.96 945.812 L2661.96 950.071 Q2660.2 949.238 2658.39 948.798 Q2656.61 948.358 2654.85 948.358 Q2650.22 948.358 2647.77 951.483 Q2645.34 954.608 2644.99 960.927 Q2646.36 958.914 2648.42 957.849 Q2650.48 956.761 2652.95 956.761 Q2658.16 956.761 2661.17 959.932 Q2664.2 963.08 2664.2 968.52 Q2664.2 973.844 2661.06 977.062 Q2657.91 980.279 2652.68 980.279 Q2646.68 980.279 2643.51 975.696 Q2640.34 971.089 2640.34 962.363 Q2640.34 954.168 2644.23 949.307 Q2648.12 944.423 2654.67 944.423 Q2656.43 944.423 2658.21 944.77 Q2660.02 945.117 2661.96 945.812 Z\" fill=\"#000000\" fill-rule=\"evenodd\" fill-opacity=\"1\" /><path clip-path=\"url(#clip310)\" d=\"M2902.51 963.196 Q2899.18 963.196 2897.26 964.978 Q2895.36 966.761 2895.36 969.886 Q2895.36 973.011 2897.26 974.793 Q2899.18 976.575 2902.51 976.575 Q2905.85 976.575 2907.77 974.793 Q2909.69 972.988 2909.69 969.886 Q2909.69 966.761 2907.77 964.978 Q2905.87 963.196 2902.51 963.196 M2897.84 961.205 Q2894.83 960.464 2893.14 958.404 Q2891.47 956.344 2891.47 953.381 Q2891.47 949.238 2894.41 946.83 Q2897.38 944.423 2902.51 944.423 Q2907.68 944.423 2910.62 946.83 Q2913.56 949.238 2913.56 953.381 Q2913.56 956.344 2911.87 958.404 Q2910.2 960.464 2907.21 961.205 Q2910.59 961.992 2912.47 964.284 Q2914.37 966.576 2914.37 969.886 Q2914.37 974.909 2911.29 977.594 Q2908.23 980.279 2902.51 980.279 Q2896.8 980.279 2893.72 977.594 Q2890.66 974.909 2890.66 969.886 Q2890.66 966.576 2892.56 964.284 Q2894.46 961.992 2897.84 961.205 M2896.13 953.821 Q2896.13 956.506 2897.79 958.011 Q2899.48 959.515 2902.51 959.515 Q2905.52 959.515 2907.21 958.011 Q2908.93 956.506 2908.93 953.821 Q2908.93 951.136 2907.21 949.631 Q2905.52 948.127 2902.51 948.127 Q2899.48 948.127 2897.79 949.631 Q2896.13 951.136 2896.13 953.821 Z\" fill=\"#000000\" fill-rule=\"evenodd\" fill-opacity=\"1\" /><path clip-path=\"url(#clip310)\" d=\"M3127.44 975.673 L3135.08 975.673 L3135.08 949.307 L3126.77 950.974 L3126.77 946.715 L3135.04 945.048 L3139.71 945.048 L3139.71 975.673 L3147.35 975.673 L3147.35 979.608 L3127.44 979.608 L3127.44 975.673 Z\" fill=\"#000000\" fill-rule=\"evenodd\" fill-opacity=\"1\" /><path clip-path=\"url(#clip310)\" d=\"M3166.8 948.127 Q3163.18 948.127 3161.36 951.691 Q3159.55 955.233 3159.55 962.363 Q3159.55 969.469 3161.36 973.034 Q3163.18 976.575 3166.8 976.575 Q3170.43 976.575 3172.23 973.034 Q3174.06 969.469 3174.06 962.363 Q3174.06 955.233 3172.23 951.691 Q3170.43 948.127 3166.8 948.127 M3166.8 944.423 Q3172.61 944.423 3175.66 949.029 Q3178.74 953.613 3178.74 962.363 Q3178.74 971.089 3175.66 975.696 Q3172.61 980.279 3166.8 980.279 Q3160.99 980.279 3157.91 975.696 Q3154.85 971.089 3154.85 962.363 Q3154.85 953.613 3157.91 949.029 Q3160.99 944.423 3166.8 944.423 Z\" fill=\"#000000\" fill-rule=\"evenodd\" fill-opacity=\"1\" /><polyline clip-path=\"url(#clip312)\" style=\"stroke:#000000; stroke-linecap:butt; stroke-linejoin:round; stroke-width:2; stroke-opacity:0.1; fill:none\" points=\"\n",
       "  149.853,886.367 3152.76,886.367 \n",
       "  \"/>\n",
       "<polyline clip-path=\"url(#clip312)\" style=\"stroke:#000000; stroke-linecap:butt; stroke-linejoin:round; stroke-width:2; stroke-opacity:0.1; fill:none\" points=\"\n",
       "  149.853,759.073 3152.76,759.073 \n",
       "  \"/>\n",
       "<polyline clip-path=\"url(#clip312)\" style=\"stroke:#000000; stroke-linecap:butt; stroke-linejoin:round; stroke-width:2; stroke-opacity:0.1; fill:none\" points=\"\n",
       "  149.853,631.779 3152.76,631.779 \n",
       "  \"/>\n",
       "<polyline clip-path=\"url(#clip312)\" style=\"stroke:#000000; stroke-linecap:butt; stroke-linejoin:round; stroke-width:2; stroke-opacity:0.1; fill:none\" points=\"\n",
       "  149.853,504.485 3152.76,504.485 \n",
       "  \"/>\n",
       "<polyline clip-path=\"url(#clip312)\" style=\"stroke:#000000; stroke-linecap:butt; stroke-linejoin:round; stroke-width:2; stroke-opacity:0.1; fill:none\" points=\"\n",
       "  149.853,377.191 3152.76,377.191 \n",
       "  \"/>\n",
       "<polyline clip-path=\"url(#clip312)\" style=\"stroke:#000000; stroke-linecap:butt; stroke-linejoin:round; stroke-width:2; stroke-opacity:0.1; fill:none\" points=\"\n",
       "  149.853,249.896 3152.76,249.896 \n",
       "  \"/>\n",
       "<polyline clip-path=\"url(#clip312)\" style=\"stroke:#000000; stroke-linecap:butt; stroke-linejoin:round; stroke-width:2; stroke-opacity:0.1; fill:none\" points=\"\n",
       "  149.853,122.602 3152.76,122.602 \n",
       "  \"/>\n",
       "<polyline clip-path=\"url(#clip310)\" style=\"stroke:#000000; stroke-linecap:butt; stroke-linejoin:round; stroke-width:4; stroke-opacity:1; fill:none\" points=\"\n",
       "  149.853,910.808 149.853,47.2441 \n",
       "  \"/>\n",
       "<polyline clip-path=\"url(#clip310)\" style=\"stroke:#000000; stroke-linecap:butt; stroke-linejoin:round; stroke-width:4; stroke-opacity:1; fill:none\" points=\"\n",
       "  149.853,886.367 168.751,886.367 \n",
       "  \"/>\n",
       "<polyline clip-path=\"url(#clip310)\" style=\"stroke:#000000; stroke-linecap:butt; stroke-linejoin:round; stroke-width:4; stroke-opacity:1; fill:none\" points=\"\n",
       "  149.853,759.073 168.751,759.073 \n",
       "  \"/>\n",
       "<polyline clip-path=\"url(#clip310)\" style=\"stroke:#000000; stroke-linecap:butt; stroke-linejoin:round; stroke-width:4; stroke-opacity:1; fill:none\" points=\"\n",
       "  149.853,631.779 168.751,631.779 \n",
       "  \"/>\n",
       "<polyline clip-path=\"url(#clip310)\" style=\"stroke:#000000; stroke-linecap:butt; stroke-linejoin:round; stroke-width:4; stroke-opacity:1; fill:none\" points=\"\n",
       "  149.853,504.485 168.751,504.485 \n",
       "  \"/>\n",
       "<polyline clip-path=\"url(#clip310)\" style=\"stroke:#000000; stroke-linecap:butt; stroke-linejoin:round; stroke-width:4; stroke-opacity:1; fill:none\" points=\"\n",
       "  149.853,377.191 168.751,377.191 \n",
       "  \"/>\n",
       "<polyline clip-path=\"url(#clip310)\" style=\"stroke:#000000; stroke-linecap:butt; stroke-linejoin:round; stroke-width:4; stroke-opacity:1; fill:none\" points=\"\n",
       "  149.853,249.896 168.751,249.896 \n",
       "  \"/>\n",
       "<polyline clip-path=\"url(#clip310)\" style=\"stroke:#000000; stroke-linecap:butt; stroke-linejoin:round; stroke-width:4; stroke-opacity:1; fill:none\" points=\"\n",
       "  149.853,122.602 168.751,122.602 \n",
       "  \"/>\n",
       "<path clip-path=\"url(#clip310)\" d=\"M89.9086 872.166 Q86.2975 872.166 84.4688 875.731 Q82.6632 879.273 82.6632 886.402 Q82.6632 893.509 84.4688 897.073 Q86.2975 900.615 89.9086 900.615 Q93.5428 900.615 95.3483 897.073 Q97.177 893.509 97.177 886.402 Q97.177 879.273 95.3483 875.731 Q93.5428 872.166 89.9086 872.166 M89.9086 868.462 Q95.7187 868.462 98.7743 873.069 Q101.853 877.652 101.853 886.402 Q101.853 895.129 98.7743 899.735 Q95.7187 904.319 89.9086 904.319 Q84.0984 904.319 81.0197 899.735 Q77.9642 895.129 77.9642 886.402 Q77.9642 877.652 81.0197 873.069 Q84.0984 868.462 89.9086 868.462 Z\" fill=\"#000000\" fill-rule=\"evenodd\" fill-opacity=\"1\" /><path clip-path=\"url(#clip310)\" d=\"M50.5569 772.418 L58.1958 772.418 L58.1958 746.052 L49.8856 747.719 L49.8856 743.46 L58.1495 741.793 L62.8254 741.793 L62.8254 772.418 L70.4642 772.418 L70.4642 776.353 L50.5569 776.353 L50.5569 772.418 Z\" fill=\"#000000\" fill-rule=\"evenodd\" fill-opacity=\"1\" /><path clip-path=\"url(#clip310)\" d=\"M89.9086 744.872 Q86.2975 744.872 84.4688 748.437 Q82.6632 751.978 82.6632 759.108 Q82.6632 766.214 84.4688 769.779 Q86.2975 773.321 89.9086 773.321 Q93.5428 773.321 95.3483 769.779 Q97.177 766.214 97.177 759.108 Q97.177 751.978 95.3483 748.437 Q93.5428 744.872 89.9086 744.872 M89.9086 741.168 Q95.7187 741.168 98.7743 745.775 Q101.853 750.358 101.853 759.108 Q101.853 767.835 98.7743 772.441 Q95.7187 777.024 89.9086 777.024 Q84.0984 777.024 81.0197 772.441 Q77.9642 767.835 77.9642 759.108 Q77.9642 750.358 81.0197 745.775 Q84.0984 741.168 89.9086 741.168 Z\" fill=\"#000000\" fill-rule=\"evenodd\" fill-opacity=\"1\" /><path clip-path=\"url(#clip310)\" d=\"M53.7745 645.124 L70.0939 645.124 L70.0939 649.059 L48.1495 649.059 L48.1495 645.124 Q50.8115 642.369 55.3949 637.74 Q60.0013 633.087 61.1819 631.744 Q63.4272 629.221 64.3068 627.485 Q65.2096 625.726 65.2096 624.036 Q65.2096 621.281 63.2652 619.545 Q61.3439 617.809 58.2421 617.809 Q56.043 617.809 53.5893 618.573 Q51.1588 619.337 48.381 620.888 L48.381 616.166 Q51.2051 615.031 53.6588 614.453 Q56.1124 613.874 58.1495 613.874 Q63.5198 613.874 66.7142 616.559 Q69.9087 619.244 69.9087 623.735 Q69.9087 625.865 69.0985 627.786 Q68.3115 629.684 66.205 632.277 Q65.6263 632.948 62.5245 636.166 Q59.4226 639.36 53.7745 645.124 Z\" fill=\"#000000\" fill-rule=\"evenodd\" fill-opacity=\"1\" /><path clip-path=\"url(#clip310)\" d=\"M89.9086 617.578 Q86.2975 617.578 84.4688 621.142 Q82.6632 624.684 82.6632 631.814 Q82.6632 638.92 84.4688 642.485 Q86.2975 646.027 89.9086 646.027 Q93.5428 646.027 95.3483 642.485 Q97.177 638.92 97.177 631.814 Q97.177 624.684 95.3483 621.142 Q93.5428 617.578 89.9086 617.578 M89.9086 613.874 Q95.7187 613.874 98.7743 618.48 Q101.853 623.064 101.853 631.814 Q101.853 640.541 98.7743 645.147 Q95.7187 649.73 89.9086 649.73 Q84.0984 649.73 81.0197 645.147 Q77.9642 640.541 77.9642 631.814 Q77.9642 623.064 81.0197 618.48 Q84.0984 613.874 89.9086 613.874 Z\" fill=\"#000000\" fill-rule=\"evenodd\" fill-opacity=\"1\" /><path clip-path=\"url(#clip310)\" d=\"M63.9133 503.131 Q67.2698 503.848 69.1448 506.117 Q71.0429 508.385 71.0429 511.719 Q71.0429 516.834 67.5244 519.635 Q64.0059 522.436 57.5245 522.436 Q55.3486 522.436 53.0338 521.996 Q50.7421 521.58 48.2884 520.723 L48.2884 516.209 Q50.2328 517.344 52.5477 517.922 Q54.8625 518.501 57.3856 518.501 Q61.7837 518.501 64.0754 516.765 Q66.3902 515.029 66.3902 511.719 Q66.3902 508.663 64.2374 506.95 Q62.1078 505.214 58.2884 505.214 L54.2606 505.214 L54.2606 501.371 L58.4735 501.371 Q61.9226 501.371 63.7513 500.006 Q65.58 498.617 65.58 496.024 Q65.58 493.362 63.6819 491.95 Q61.8069 490.515 58.2884 490.515 Q56.3671 490.515 54.168 490.932 Q51.969 491.348 49.3301 492.228 L49.3301 488.061 Q51.9921 487.321 54.3069 486.95 Q56.6449 486.58 58.705 486.58 Q64.0291 486.58 67.1309 489.01 Q70.2327 491.418 70.2327 495.538 Q70.2327 498.408 68.5892 500.399 Q66.9457 502.367 63.9133 503.131 Z\" fill=\"#000000\" fill-rule=\"evenodd\" fill-opacity=\"1\" /><path clip-path=\"url(#clip310)\" d=\"M89.9086 490.284 Q86.2975 490.284 84.4688 493.848 Q82.6632 497.39 82.6632 504.52 Q82.6632 511.626 84.4688 515.191 Q86.2975 518.732 89.9086 518.732 Q93.5428 518.732 95.3483 515.191 Q97.177 511.626 97.177 504.52 Q97.177 497.39 95.3483 493.848 Q93.5428 490.284 89.9086 490.284 M89.9086 486.58 Q95.7187 486.58 98.7743 491.186 Q101.853 495.77 101.853 504.52 Q101.853 513.246 98.7743 517.853 Q95.7187 522.436 89.9086 522.436 Q84.0984 522.436 81.0197 517.853 Q77.9642 513.246 77.9642 504.52 Q77.9642 495.77 81.0197 491.186 Q84.0984 486.58 89.9086 486.58 Z\" fill=\"#000000\" fill-rule=\"evenodd\" fill-opacity=\"1\" /><path clip-path=\"url(#clip310)\" d=\"M62.5939 363.985 L50.7884 382.434 L62.5939 382.434 L62.5939 363.985 M61.367 359.911 L67.2466 359.911 L67.2466 382.434 L72.1772 382.434 L72.1772 386.323 L67.2466 386.323 L67.2466 394.471 L62.5939 394.471 L62.5939 386.323 L46.9921 386.323 L46.9921 381.809 L61.367 359.911 Z\" fill=\"#000000\" fill-rule=\"evenodd\" fill-opacity=\"1\" /><path clip-path=\"url(#clip310)\" d=\"M89.9086 362.989 Q86.2975 362.989 84.4688 366.554 Q82.6632 370.096 82.6632 377.225 Q82.6632 384.332 84.4688 387.897 Q86.2975 391.438 89.9086 391.438 Q93.5428 391.438 95.3483 387.897 Q97.177 384.332 97.177 377.225 Q97.177 370.096 95.3483 366.554 Q93.5428 362.989 89.9086 362.989 M89.9086 359.286 Q95.7187 359.286 98.7743 363.892 Q101.853 368.475 101.853 377.225 Q101.853 385.952 98.7743 390.559 Q95.7187 395.142 89.9086 395.142 Q84.0984 395.142 81.0197 390.559 Q77.9642 385.952 77.9642 377.225 Q77.9642 368.475 81.0197 363.892 Q84.0984 359.286 89.9086 359.286 Z\" fill=\"#000000\" fill-rule=\"evenodd\" fill-opacity=\"1\" /><path clip-path=\"url(#clip310)\" d=\"M49.793 232.616 L68.1494 232.616 L68.1494 236.552 L54.0754 236.552 L54.0754 245.024 Q55.0939 244.677 56.1124 244.515 Q57.131 244.329 58.1495 244.329 Q63.9365 244.329 67.3161 247.501 Q70.6957 250.672 70.6957 256.089 Q70.6957 261.667 67.2235 264.769 Q63.7513 267.848 57.4319 267.848 Q55.256 267.848 52.9875 267.477 Q50.7421 267.107 48.3347 266.366 L48.3347 261.667 Q50.418 262.801 52.6402 263.357 Q54.8625 263.913 57.3393 263.913 Q61.3439 263.913 63.6819 261.806 Q66.0198 259.7 66.0198 256.089 Q66.0198 252.477 63.6819 250.371 Q61.3439 248.265 57.3393 248.265 Q55.4643 248.265 53.5893 248.681 Q51.7375 249.098 49.793 249.977 L49.793 232.616 Z\" fill=\"#000000\" fill-rule=\"evenodd\" fill-opacity=\"1\" /><path clip-path=\"url(#clip310)\" d=\"M89.9086 235.695 Q86.2975 235.695 84.4688 239.26 Q82.6632 242.802 82.6632 249.931 Q82.6632 257.038 84.4688 260.602 Q86.2975 264.144 89.9086 264.144 Q93.5428 264.144 95.3483 260.602 Q97.177 257.038 97.177 249.931 Q97.177 242.802 95.3483 239.26 Q93.5428 235.695 89.9086 235.695 M89.9086 231.991 Q95.7187 231.991 98.7743 236.598 Q101.853 241.181 101.853 249.931 Q101.853 258.658 98.7743 263.264 Q95.7187 267.848 89.9086 267.848 Q84.0984 267.848 81.0197 263.264 Q77.9642 258.658 77.9642 249.931 Q77.9642 241.181 81.0197 236.598 Q84.0984 231.991 89.9086 231.991 Z\" fill=\"#000000\" fill-rule=\"evenodd\" fill-opacity=\"1\" /><path clip-path=\"url(#clip310)\" d=\"M60.3254 120.739 Q57.1773 120.739 55.3254 122.892 Q53.4967 125.044 53.4967 128.794 Q53.4967 132.521 55.3254 134.697 Q57.1773 136.85 60.3254 136.85 Q63.4735 136.85 65.3022 134.697 Q67.1541 132.521 67.1541 128.794 Q67.1541 125.044 65.3022 122.892 Q63.4735 120.739 60.3254 120.739 M69.6077 106.086 L69.6077 110.345 Q67.8485 109.512 66.0429 109.072 Q64.2606 108.632 62.5013 108.632 Q57.8717 108.632 55.418 111.757 Q52.9875 114.882 52.6402 121.202 Q54.006 119.188 56.0662 118.123 Q58.1263 117.035 60.6032 117.035 Q65.8115 117.035 68.8207 120.206 Q71.8531 123.355 71.8531 128.794 Q71.8531 134.118 68.705 137.336 Q65.5568 140.554 60.3254 140.554 Q54.33 140.554 51.1588 135.97 Q47.9875 131.364 47.9875 122.637 Q47.9875 114.443 51.8764 109.581 Q55.7652 104.697 62.3161 104.697 Q64.0754 104.697 65.8578 105.044 Q67.6633 105.392 69.6077 106.086 Z\" fill=\"#000000\" fill-rule=\"evenodd\" fill-opacity=\"1\" /><path clip-path=\"url(#clip310)\" d=\"M89.9086 108.401 Q86.2975 108.401 84.4688 111.966 Q82.6632 115.507 82.6632 122.637 Q82.6632 129.743 84.4688 133.308 Q86.2975 136.85 89.9086 136.85 Q93.5428 136.85 95.3483 133.308 Q97.177 129.743 97.177 122.637 Q97.177 115.507 95.3483 111.966 Q93.5428 108.401 89.9086 108.401 M89.9086 104.697 Q95.7187 104.697 98.7743 109.304 Q101.853 113.887 101.853 122.637 Q101.853 131.364 98.7743 135.97 Q95.7187 140.554 89.9086 140.554 Q84.0984 140.554 81.0197 135.97 Q77.9642 131.364 77.9642 122.637 Q77.9642 113.887 81.0197 109.304 Q84.0984 104.697 89.9086 104.697 Z\" fill=\"#000000\" fill-rule=\"evenodd\" fill-opacity=\"1\" /><path clip-path=\"url(#clip312)\" d=\"\n",
       "M-2039.76 873.638 L-2039.76 886.367 L-1977.2 886.367 L-1977.2 873.638 L-2039.76 873.638 L-2039.76 873.638  Z\n",
       "  \" fill=\"#4682b4\" fill-rule=\"evenodd\" fill-opacity=\"1\"/>\n",
       "<polyline clip-path=\"url(#clip312)\" style=\"stroke:#000000; stroke-linecap:butt; stroke-linejoin:round; stroke-width:4; stroke-opacity:1; fill:none\" points=\"\n",
       "  -2039.76,873.638 -2039.76,886.367 -1977.2,886.367 -1977.2,873.638 -2039.76,873.638 \n",
       "  \"/>\n",
       "<path clip-path=\"url(#clip312)\" d=\"\n",
       "M-1977.2 886.367 L-1977.2 886.367 L-1914.64 886.367 L-1914.64 886.367 L-1977.2 886.367 L-1977.2 886.367  Z\n",
       "  \" fill=\"#4682b4\" fill-rule=\"evenodd\" fill-opacity=\"1\"/>\n",
       "<polyline clip-path=\"url(#clip312)\" style=\"stroke:#000000; stroke-linecap:butt; stroke-linejoin:round; stroke-width:4; stroke-opacity:1; fill:none\" points=\"\n",
       "  -1977.2,886.367 -1977.2,886.367 -1914.64,886.367 -1977.2,886.367 \n",
       "  \"/>\n",
       "<path clip-path=\"url(#clip312)\" d=\"\n",
       "M-1914.64 886.367 L-1914.64 886.367 L-1852.08 886.367 L-1852.08 886.367 L-1914.64 886.367 L-1914.64 886.367  Z\n",
       "  \" fill=\"#4682b4\" fill-rule=\"evenodd\" fill-opacity=\"1\"/>\n",
       "<polyline clip-path=\"url(#clip312)\" style=\"stroke:#000000; stroke-linecap:butt; stroke-linejoin:round; stroke-width:4; stroke-opacity:1; fill:none\" points=\"\n",
       "  -1914.64,886.367 -1914.64,886.367 -1852.08,886.367 -1914.64,886.367 \n",
       "  \"/>\n",
       "<path clip-path=\"url(#clip312)\" d=\"\n",
       "M-1852.08 886.367 L-1852.08 886.367 L-1789.52 886.367 L-1789.52 886.367 L-1852.08 886.367 L-1852.08 886.367  Z\n",
       "  \" fill=\"#4682b4\" fill-rule=\"evenodd\" fill-opacity=\"1\"/>\n",
       "<polyline clip-path=\"url(#clip312)\" style=\"stroke:#000000; stroke-linecap:butt; stroke-linejoin:round; stroke-width:4; stroke-opacity:1; fill:none\" points=\"\n",
       "  -1852.08,886.367 -1852.08,886.367 -1789.52,886.367 -1852.08,886.367 \n",
       "  \"/>\n",
       "<path clip-path=\"url(#clip312)\" d=\"\n",
       "M-1789.52 886.367 L-1789.52 886.367 L-1726.96 886.367 L-1726.96 886.367 L-1789.52 886.367 L-1789.52 886.367  Z\n",
       "  \" fill=\"#4682b4\" fill-rule=\"evenodd\" fill-opacity=\"1\"/>\n",
       "<polyline clip-path=\"url(#clip312)\" style=\"stroke:#000000; stroke-linecap:butt; stroke-linejoin:round; stroke-width:4; stroke-opacity:1; fill:none\" points=\"\n",
       "  -1789.52,886.367 -1789.52,886.367 -1726.96,886.367 -1789.52,886.367 \n",
       "  \"/>\n",
       "<path clip-path=\"url(#clip312)\" d=\"\n",
       "M-1726.96 886.367 L-1726.96 886.367 L-1664.4 886.367 L-1664.4 886.367 L-1726.96 886.367 L-1726.96 886.367  Z\n",
       "  \" fill=\"#4682b4\" fill-rule=\"evenodd\" fill-opacity=\"1\"/>\n",
       "<polyline clip-path=\"url(#clip312)\" style=\"stroke:#000000; stroke-linecap:butt; stroke-linejoin:round; stroke-width:4; stroke-opacity:1; fill:none\" points=\"\n",
       "  -1726.96,886.367 -1726.96,886.367 -1664.4,886.367 -1726.96,886.367 \n",
       "  \"/>\n",
       "<path clip-path=\"url(#clip312)\" d=\"\n",
       "M-1664.4 886.367 L-1664.4 886.367 L-1601.84 886.367 L-1601.84 886.367 L-1664.4 886.367 L-1664.4 886.367  Z\n",
       "  \" fill=\"#4682b4\" fill-rule=\"evenodd\" fill-opacity=\"1\"/>\n",
       "<polyline clip-path=\"url(#clip312)\" style=\"stroke:#000000; stroke-linecap:butt; stroke-linejoin:round; stroke-width:4; stroke-opacity:1; fill:none\" points=\"\n",
       "  -1664.4,886.367 -1664.4,886.367 -1601.84,886.367 -1664.4,886.367 \n",
       "  \"/>\n",
       "<path clip-path=\"url(#clip312)\" d=\"\n",
       "M-1601.84 886.367 L-1601.84 886.367 L-1539.28 886.367 L-1539.28 886.367 L-1601.84 886.367 L-1601.84 886.367  Z\n",
       "  \" fill=\"#4682b4\" fill-rule=\"evenodd\" fill-opacity=\"1\"/>\n",
       "<polyline clip-path=\"url(#clip312)\" style=\"stroke:#000000; stroke-linecap:butt; stroke-linejoin:round; stroke-width:4; stroke-opacity:1; fill:none\" points=\"\n",
       "  -1601.84,886.367 -1601.84,886.367 -1539.28,886.367 -1601.84,886.367 \n",
       "  \"/>\n",
       "<path clip-path=\"url(#clip312)\" d=\"\n",
       "M-1539.28 886.367 L-1539.28 886.367 L-1476.72 886.367 L-1476.72 886.367 L-1539.28 886.367 L-1539.28 886.367  Z\n",
       "  \" fill=\"#4682b4\" fill-rule=\"evenodd\" fill-opacity=\"1\"/>\n",
       "<polyline clip-path=\"url(#clip312)\" style=\"stroke:#000000; stroke-linecap:butt; stroke-linejoin:round; stroke-width:4; stroke-opacity:1; fill:none\" points=\"\n",
       "  -1539.28,886.367 -1539.28,886.367 -1476.72,886.367 -1539.28,886.367 \n",
       "  \"/>\n",
       "<path clip-path=\"url(#clip312)\" d=\"\n",
       "M-1476.72 886.367 L-1476.72 886.367 L-1414.16 886.367 L-1414.16 886.367 L-1476.72 886.367 L-1476.72 886.367  Z\n",
       "  \" fill=\"#4682b4\" fill-rule=\"evenodd\" fill-opacity=\"1\"/>\n",
       "<polyline clip-path=\"url(#clip312)\" style=\"stroke:#000000; stroke-linecap:butt; stroke-linejoin:round; stroke-width:4; stroke-opacity:1; fill:none\" points=\"\n",
       "  -1476.72,886.367 -1476.72,886.367 -1414.16,886.367 -1476.72,886.367 \n",
       "  \"/>\n",
       "<path clip-path=\"url(#clip312)\" d=\"\n",
       "M-1414.16 886.367 L-1414.16 886.367 L-1351.6 886.367 L-1351.6 886.367 L-1414.16 886.367 L-1414.16 886.367  Z\n",
       "  \" fill=\"#4682b4\" fill-rule=\"evenodd\" fill-opacity=\"1\"/>\n",
       "<polyline clip-path=\"url(#clip312)\" style=\"stroke:#000000; stroke-linecap:butt; stroke-linejoin:round; stroke-width:4; stroke-opacity:1; fill:none\" points=\"\n",
       "  -1414.16,886.367 -1414.16,886.367 -1351.6,886.367 -1414.16,886.367 \n",
       "  \"/>\n",
       "<path clip-path=\"url(#clip312)\" d=\"\n",
       "M-1351.6 886.367 L-1351.6 886.367 L-1289.04 886.367 L-1289.04 886.367 L-1351.6 886.367 L-1351.6 886.367  Z\n",
       "  \" fill=\"#4682b4\" fill-rule=\"evenodd\" fill-opacity=\"1\"/>\n",
       "<polyline clip-path=\"url(#clip312)\" style=\"stroke:#000000; stroke-linecap:butt; stroke-linejoin:round; stroke-width:4; stroke-opacity:1; fill:none\" points=\"\n",
       "  -1351.6,886.367 -1351.6,886.367 -1289.04,886.367 -1351.6,886.367 \n",
       "  \"/>\n",
       "<path clip-path=\"url(#clip312)\" d=\"\n",
       "M-1289.04 886.367 L-1289.04 886.367 L-1226.48 886.367 L-1226.48 886.367 L-1289.04 886.367 L-1289.04 886.367  Z\n",
       "  \" fill=\"#4682b4\" fill-rule=\"evenodd\" fill-opacity=\"1\"/>\n",
       "<polyline clip-path=\"url(#clip312)\" style=\"stroke:#000000; stroke-linecap:butt; stroke-linejoin:round; stroke-width:4; stroke-opacity:1; fill:none\" points=\"\n",
       "  -1289.04,886.367 -1289.04,886.367 -1226.48,886.367 -1289.04,886.367 \n",
       "  \"/>\n",
       "<path clip-path=\"url(#clip312)\" d=\"\n",
       "M-1226.48 886.367 L-1226.48 886.367 L-1163.92 886.367 L-1163.92 886.367 L-1226.48 886.367 L-1226.48 886.367  Z\n",
       "  \" fill=\"#4682b4\" fill-rule=\"evenodd\" fill-opacity=\"1\"/>\n",
       "<polyline clip-path=\"url(#clip312)\" style=\"stroke:#000000; stroke-linecap:butt; stroke-linejoin:round; stroke-width:4; stroke-opacity:1; fill:none\" points=\"\n",
       "  -1226.48,886.367 -1226.48,886.367 -1163.92,886.367 -1226.48,886.367 \n",
       "  \"/>\n",
       "<path clip-path=\"url(#clip312)\" d=\"\n",
       "M-1163.92 886.367 L-1163.92 886.367 L-1101.36 886.367 L-1101.36 886.367 L-1163.92 886.367 L-1163.92 886.367  Z\n",
       "  \" fill=\"#4682b4\" fill-rule=\"evenodd\" fill-opacity=\"1\"/>\n",
       "<polyline clip-path=\"url(#clip312)\" style=\"stroke:#000000; stroke-linecap:butt; stroke-linejoin:round; stroke-width:4; stroke-opacity:1; fill:none\" points=\"\n",
       "  -1163.92,886.367 -1163.92,886.367 -1101.36,886.367 -1163.92,886.367 \n",
       "  \"/>\n",
       "<path clip-path=\"url(#clip312)\" d=\"\n",
       "M-1101.36 886.367 L-1101.36 886.367 L-1038.8 886.367 L-1038.8 886.367 L-1101.36 886.367 L-1101.36 886.367  Z\n",
       "  \" fill=\"#4682b4\" fill-rule=\"evenodd\" fill-opacity=\"1\"/>\n",
       "<polyline clip-path=\"url(#clip312)\" style=\"stroke:#000000; stroke-linecap:butt; stroke-linejoin:round; stroke-width:4; stroke-opacity:1; fill:none\" points=\"\n",
       "  -1101.36,886.367 -1101.36,886.367 -1038.8,886.367 -1101.36,886.367 \n",
       "  \"/>\n",
       "<path clip-path=\"url(#clip312)\" d=\"\n",
       "M-1038.8 886.367 L-1038.8 886.367 L-976.236 886.367 L-976.236 886.367 L-1038.8 886.367 L-1038.8 886.367  Z\n",
       "  \" fill=\"#4682b4\" fill-rule=\"evenodd\" fill-opacity=\"1\"/>\n",
       "<polyline clip-path=\"url(#clip312)\" style=\"stroke:#000000; stroke-linecap:butt; stroke-linejoin:round; stroke-width:4; stroke-opacity:1; fill:none\" points=\"\n",
       "  -1038.8,886.367 -1038.8,886.367 -976.236,886.367 -1038.8,886.367 \n",
       "  \"/>\n",
       "<path clip-path=\"url(#clip312)\" d=\"\n",
       "M-976.236 886.367 L-976.236 886.367 L-913.675 886.367 L-913.675 886.367 L-976.236 886.367 L-976.236 886.367  Z\n",
       "  \" fill=\"#4682b4\" fill-rule=\"evenodd\" fill-opacity=\"1\"/>\n",
       "<polyline clip-path=\"url(#clip312)\" style=\"stroke:#000000; stroke-linecap:butt; stroke-linejoin:round; stroke-width:4; stroke-opacity:1; fill:none\" points=\"\n",
       "  -976.236,886.367 -976.236,886.367 -913.675,886.367 -976.236,886.367 \n",
       "  \"/>\n",
       "<path clip-path=\"url(#clip312)\" d=\"\n",
       "M-913.675 886.367 L-913.675 886.367 L-851.115 886.367 L-851.115 886.367 L-913.675 886.367 L-913.675 886.367  Z\n",
       "  \" fill=\"#4682b4\" fill-rule=\"evenodd\" fill-opacity=\"1\"/>\n",
       "<polyline clip-path=\"url(#clip312)\" style=\"stroke:#000000; stroke-linecap:butt; stroke-linejoin:round; stroke-width:4; stroke-opacity:1; fill:none\" points=\"\n",
       "  -913.675,886.367 -913.675,886.367 -851.115,886.367 -913.675,886.367 \n",
       "  \"/>\n",
       "<path clip-path=\"url(#clip312)\" d=\"\n",
       "M-851.115 886.367 L-851.115 886.367 L-788.554 886.367 L-788.554 886.367 L-851.115 886.367 L-851.115 886.367  Z\n",
       "  \" fill=\"#4682b4\" fill-rule=\"evenodd\" fill-opacity=\"1\"/>\n",
       "<polyline clip-path=\"url(#clip312)\" style=\"stroke:#000000; stroke-linecap:butt; stroke-linejoin:round; stroke-width:4; stroke-opacity:1; fill:none\" points=\"\n",
       "  -851.115,886.367 -851.115,886.367 -788.554,886.367 -851.115,886.367 \n",
       "  \"/>\n",
       "<path clip-path=\"url(#clip312)\" d=\"\n",
       "M-788.554 886.367 L-788.554 886.367 L-725.994 886.367 L-725.994 886.367 L-788.554 886.367 L-788.554 886.367  Z\n",
       "  \" fill=\"#4682b4\" fill-rule=\"evenodd\" fill-opacity=\"1\"/>\n",
       "<polyline clip-path=\"url(#clip312)\" style=\"stroke:#000000; stroke-linecap:butt; stroke-linejoin:round; stroke-width:4; stroke-opacity:1; fill:none\" points=\"\n",
       "  -788.554,886.367 -788.554,886.367 -725.994,886.367 -788.554,886.367 \n",
       "  \"/>\n",
       "<path clip-path=\"url(#clip312)\" d=\"\n",
       "M-725.994 886.367 L-725.994 886.367 L-663.433 886.367 L-663.433 886.367 L-725.994 886.367 L-725.994 886.367  Z\n",
       "  \" fill=\"#4682b4\" fill-rule=\"evenodd\" fill-opacity=\"1\"/>\n",
       "<polyline clip-path=\"url(#clip312)\" style=\"stroke:#000000; stroke-linecap:butt; stroke-linejoin:round; stroke-width:4; stroke-opacity:1; fill:none\" points=\"\n",
       "  -725.994,886.367 -725.994,886.367 -663.433,886.367 -725.994,886.367 \n",
       "  \"/>\n",
       "<path clip-path=\"url(#clip312)\" d=\"\n",
       "M-663.433 886.367 L-663.433 886.367 L-600.873 886.367 L-600.873 886.367 L-663.433 886.367 L-663.433 886.367  Z\n",
       "  \" fill=\"#4682b4\" fill-rule=\"evenodd\" fill-opacity=\"1\"/>\n",
       "<polyline clip-path=\"url(#clip312)\" style=\"stroke:#000000; stroke-linecap:butt; stroke-linejoin:round; stroke-width:4; stroke-opacity:1; fill:none\" points=\"\n",
       "  -663.433,886.367 -663.433,886.367 -600.873,886.367 -663.433,886.367 \n",
       "  \"/>\n",
       "<path clip-path=\"url(#clip312)\" d=\"\n",
       "M-600.873 886.367 L-600.873 886.367 L-538.312 886.367 L-538.312 886.367 L-600.873 886.367 L-600.873 886.367  Z\n",
       "  \" fill=\"#4682b4\" fill-rule=\"evenodd\" fill-opacity=\"1\"/>\n",
       "<polyline clip-path=\"url(#clip312)\" style=\"stroke:#000000; stroke-linecap:butt; stroke-linejoin:round; stroke-width:4; stroke-opacity:1; fill:none\" points=\"\n",
       "  -600.873,886.367 -600.873,886.367 -538.312,886.367 -600.873,886.367 \n",
       "  \"/>\n",
       "<path clip-path=\"url(#clip312)\" d=\"\n",
       "M-538.312 886.367 L-538.312 886.367 L-475.752 886.367 L-475.752 886.367 L-538.312 886.367 L-538.312 886.367  Z\n",
       "  \" fill=\"#4682b4\" fill-rule=\"evenodd\" fill-opacity=\"1\"/>\n",
       "<polyline clip-path=\"url(#clip312)\" style=\"stroke:#000000; stroke-linecap:butt; stroke-linejoin:round; stroke-width:4; stroke-opacity:1; fill:none\" points=\"\n",
       "  -538.312,886.367 -538.312,886.367 -475.752,886.367 -538.312,886.367 \n",
       "  \"/>\n",
       "<path clip-path=\"url(#clip312)\" d=\"\n",
       "M-475.752 886.367 L-475.752 886.367 L-413.191 886.367 L-413.191 886.367 L-475.752 886.367 L-475.752 886.367  Z\n",
       "  \" fill=\"#4682b4\" fill-rule=\"evenodd\" fill-opacity=\"1\"/>\n",
       "<polyline clip-path=\"url(#clip312)\" style=\"stroke:#000000; stroke-linecap:butt; stroke-linejoin:round; stroke-width:4; stroke-opacity:1; fill:none\" points=\"\n",
       "  -475.752,886.367 -475.752,886.367 -413.191,886.367 -475.752,886.367 \n",
       "  \"/>\n",
       "<path clip-path=\"url(#clip312)\" d=\"\n",
       "M-413.191 886.367 L-413.191 886.367 L-350.631 886.367 L-350.631 886.367 L-413.191 886.367 L-413.191 886.367  Z\n",
       "  \" fill=\"#4682b4\" fill-rule=\"evenodd\" fill-opacity=\"1\"/>\n",
       "<polyline clip-path=\"url(#clip312)\" style=\"stroke:#000000; stroke-linecap:butt; stroke-linejoin:round; stroke-width:4; stroke-opacity:1; fill:none\" points=\"\n",
       "  -413.191,886.367 -413.191,886.367 -350.631,886.367 -413.191,886.367 \n",
       "  \"/>\n",
       "<path clip-path=\"url(#clip312)\" d=\"\n",
       "M-350.631 886.367 L-350.631 886.367 L-288.07 886.367 L-288.07 886.367 L-350.631 886.367 L-350.631 886.367  Z\n",
       "  \" fill=\"#4682b4\" fill-rule=\"evenodd\" fill-opacity=\"1\"/>\n",
       "<polyline clip-path=\"url(#clip312)\" style=\"stroke:#000000; stroke-linecap:butt; stroke-linejoin:round; stroke-width:4; stroke-opacity:1; fill:none\" points=\"\n",
       "  -350.631,886.367 -350.631,886.367 -288.07,886.367 -350.631,886.367 \n",
       "  \"/>\n",
       "<path clip-path=\"url(#clip312)\" d=\"\n",
       "M-288.07 886.367 L-288.07 886.367 L-225.51 886.367 L-225.51 886.367 L-288.07 886.367 L-288.07 886.367  Z\n",
       "  \" fill=\"#4682b4\" fill-rule=\"evenodd\" fill-opacity=\"1\"/>\n",
       "<polyline clip-path=\"url(#clip312)\" style=\"stroke:#000000; stroke-linecap:butt; stroke-linejoin:round; stroke-width:4; stroke-opacity:1; fill:none\" points=\"\n",
       "  -288.07,886.367 -288.07,886.367 -225.51,886.367 -288.07,886.367 \n",
       "  \"/>\n",
       "<path clip-path=\"url(#clip312)\" d=\"\n",
       "M-225.51 886.367 L-225.51 886.367 L-162.949 886.367 L-162.949 886.367 L-225.51 886.367 L-225.51 886.367  Z\n",
       "  \" fill=\"#4682b4\" fill-rule=\"evenodd\" fill-opacity=\"1\"/>\n",
       "<polyline clip-path=\"url(#clip312)\" style=\"stroke:#000000; stroke-linecap:butt; stroke-linejoin:round; stroke-width:4; stroke-opacity:1; fill:none\" points=\"\n",
       "  -225.51,886.367 -225.51,886.367 -162.949,886.367 -225.51,886.367 \n",
       "  \"/>\n",
       "<path clip-path=\"url(#clip312)\" d=\"\n",
       "M-162.949 886.367 L-162.949 886.367 L-100.389 886.367 L-100.389 886.367 L-162.949 886.367 L-162.949 886.367  Z\n",
       "  \" fill=\"#4682b4\" fill-rule=\"evenodd\" fill-opacity=\"1\"/>\n",
       "<polyline clip-path=\"url(#clip312)\" style=\"stroke:#000000; stroke-linecap:butt; stroke-linejoin:round; stroke-width:4; stroke-opacity:1; fill:none\" points=\"\n",
       "  -162.949,886.367 -162.949,886.367 -100.389,886.367 -162.949,886.367 \n",
       "  \"/>\n",
       "<path clip-path=\"url(#clip312)\" d=\"\n",
       "M-100.389 886.367 L-100.389 886.367 L-37.8285 886.367 L-37.8285 886.367 L-100.389 886.367 L-100.389 886.367  Z\n",
       "  \" fill=\"#4682b4\" fill-rule=\"evenodd\" fill-opacity=\"1\"/>\n",
       "<polyline clip-path=\"url(#clip312)\" style=\"stroke:#000000; stroke-linecap:butt; stroke-linejoin:round; stroke-width:4; stroke-opacity:1; fill:none\" points=\"\n",
       "  -100.389,886.367 -100.389,886.367 -37.8285,886.367 -100.389,886.367 \n",
       "  \"/>\n",
       "<path clip-path=\"url(#clip312)\" d=\"\n",
       "M-37.8285 886.367 L-37.8285 886.367 L24.732 886.367 L24.732 886.367 L-37.8285 886.367 L-37.8285 886.367  Z\n",
       "  \" fill=\"#4682b4\" fill-rule=\"evenodd\" fill-opacity=\"1\"/>\n",
       "<polyline clip-path=\"url(#clip312)\" style=\"stroke:#000000; stroke-linecap:butt; stroke-linejoin:round; stroke-width:4; stroke-opacity:1; fill:none\" points=\"\n",
       "  -37.8285,886.367 -37.8285,886.367 24.732,886.367 -37.8285,886.367 \n",
       "  \"/>\n",
       "<path clip-path=\"url(#clip312)\" d=\"\n",
       "M24.732 886.367 L24.732 886.367 L87.2925 886.367 L87.2925 886.367 L24.732 886.367 L24.732 886.367  Z\n",
       "  \" fill=\"#4682b4\" fill-rule=\"evenodd\" fill-opacity=\"1\"/>\n",
       "<polyline clip-path=\"url(#clip312)\" style=\"stroke:#000000; stroke-linecap:butt; stroke-linejoin:round; stroke-width:4; stroke-opacity:1; fill:none\" points=\"\n",
       "  24.732,886.367 24.732,886.367 87.2925,886.367 24.732,886.367 \n",
       "  \"/>\n",
       "<path clip-path=\"url(#clip312)\" d=\"\n",
       "M87.2925 886.367 L87.2925 886.367 L149.853 886.367 L149.853 886.367 L87.2925 886.367 L87.2925 886.367  Z\n",
       "  \" fill=\"#4682b4\" fill-rule=\"evenodd\" fill-opacity=\"1\"/>\n",
       "<polyline clip-path=\"url(#clip312)\" style=\"stroke:#000000; stroke-linecap:butt; stroke-linejoin:round; stroke-width:4; stroke-opacity:1; fill:none\" points=\"\n",
       "  87.2925,886.367 87.2925,886.367 149.853,886.367 87.2925,886.367 \n",
       "  \"/>\n",
       "<path clip-path=\"url(#clip312)\" d=\"\n",
       "M149.853 886.367 L149.853 886.367 L212.413 886.367 L212.413 886.367 L149.853 886.367 L149.853 886.367  Z\n",
       "  \" fill=\"#4682b4\" fill-rule=\"evenodd\" fill-opacity=\"1\"/>\n",
       "<polyline clip-path=\"url(#clip312)\" style=\"stroke:#000000; stroke-linecap:butt; stroke-linejoin:round; stroke-width:4; stroke-opacity:1; fill:none\" points=\"\n",
       "  149.853,886.367 149.853,886.367 212.413,886.367 149.853,886.367 \n",
       "  \"/>\n",
       "<path clip-path=\"url(#clip312)\" d=\"\n",
       "M212.413 886.367 L212.413 886.367 L274.974 886.367 L274.974 886.367 L212.413 886.367 L212.413 886.367  Z\n",
       "  \" fill=\"#4682b4\" fill-rule=\"evenodd\" fill-opacity=\"1\"/>\n",
       "<polyline clip-path=\"url(#clip312)\" style=\"stroke:#000000; stroke-linecap:butt; stroke-linejoin:round; stroke-width:4; stroke-opacity:1; fill:none\" points=\"\n",
       "  212.413,886.367 212.413,886.367 274.974,886.367 212.413,886.367 \n",
       "  \"/>\n",
       "<path clip-path=\"url(#clip312)\" d=\"\n",
       "M274.974 886.367 L274.974 886.367 L337.534 886.367 L337.534 886.367 L274.974 886.367 L274.974 886.367  Z\n",
       "  \" fill=\"#4682b4\" fill-rule=\"evenodd\" fill-opacity=\"1\"/>\n",
       "<polyline clip-path=\"url(#clip312)\" style=\"stroke:#000000; stroke-linecap:butt; stroke-linejoin:round; stroke-width:4; stroke-opacity:1; fill:none\" points=\"\n",
       "  274.974,886.367 274.974,886.367 337.534,886.367 274.974,886.367 \n",
       "  \"/>\n",
       "<path clip-path=\"url(#clip312)\" d=\"\n",
       "M337.534 886.367 L337.534 886.367 L400.095 886.367 L400.095 886.367 L337.534 886.367 L337.534 886.367  Z\n",
       "  \" fill=\"#4682b4\" fill-rule=\"evenodd\" fill-opacity=\"1\"/>\n",
       "<polyline clip-path=\"url(#clip312)\" style=\"stroke:#000000; stroke-linecap:butt; stroke-linejoin:round; stroke-width:4; stroke-opacity:1; fill:none\" points=\"\n",
       "  337.534,886.367 337.534,886.367 400.095,886.367 337.534,886.367 \n",
       "  \"/>\n",
       "<path clip-path=\"url(#clip312)\" d=\"\n",
       "M400.095 873.638 L400.095 886.367 L462.655 886.367 L462.655 873.638 L400.095 873.638 L400.095 873.638  Z\n",
       "  \" fill=\"#4682b4\" fill-rule=\"evenodd\" fill-opacity=\"1\"/>\n",
       "<polyline clip-path=\"url(#clip312)\" style=\"stroke:#000000; stroke-linecap:butt; stroke-linejoin:round; stroke-width:4; stroke-opacity:1; fill:none\" points=\"\n",
       "  400.095,873.638 400.095,886.367 462.655,886.367 462.655,873.638 400.095,873.638 \n",
       "  \"/>\n",
       "<path clip-path=\"url(#clip312)\" d=\"\n",
       "M462.655 873.638 L462.655 886.367 L525.216 886.367 L525.216 873.638 L462.655 873.638 L462.655 873.638  Z\n",
       "  \" fill=\"#4682b4\" fill-rule=\"evenodd\" fill-opacity=\"1\"/>\n",
       "<polyline clip-path=\"url(#clip312)\" style=\"stroke:#000000; stroke-linecap:butt; stroke-linejoin:round; stroke-width:4; stroke-opacity:1; fill:none\" points=\"\n",
       "  462.655,873.638 462.655,886.367 525.216,886.367 525.216,873.638 462.655,873.638 \n",
       "  \"/>\n",
       "<path clip-path=\"url(#clip312)\" d=\"\n",
       "M525.216 873.638 L525.216 886.367 L587.776 886.367 L587.776 873.638 L525.216 873.638 L525.216 873.638  Z\n",
       "  \" fill=\"#4682b4\" fill-rule=\"evenodd\" fill-opacity=\"1\"/>\n",
       "<polyline clip-path=\"url(#clip312)\" style=\"stroke:#000000; stroke-linecap:butt; stroke-linejoin:round; stroke-width:4; stroke-opacity:1; fill:none\" points=\"\n",
       "  525.216,873.638 525.216,886.367 587.776,886.367 587.776,873.638 525.216,873.638 \n",
       "  \"/>\n",
       "<path clip-path=\"url(#clip312)\" d=\"\n",
       "M587.776 860.909 L587.776 886.367 L650.337 886.367 L650.337 860.909 L587.776 860.909 L587.776 860.909  Z\n",
       "  \" fill=\"#4682b4\" fill-rule=\"evenodd\" fill-opacity=\"1\"/>\n",
       "<polyline clip-path=\"url(#clip312)\" style=\"stroke:#000000; stroke-linecap:butt; stroke-linejoin:round; stroke-width:4; stroke-opacity:1; fill:none\" points=\"\n",
       "  587.776,860.909 587.776,886.367 650.337,886.367 650.337,860.909 587.776,860.909 \n",
       "  \"/>\n",
       "<path clip-path=\"url(#clip312)\" d=\"\n",
       "M650.337 873.638 L650.337 886.367 L712.897 886.367 L712.897 873.638 L650.337 873.638 L650.337 873.638  Z\n",
       "  \" fill=\"#4682b4\" fill-rule=\"evenodd\" fill-opacity=\"1\"/>\n",
       "<polyline clip-path=\"url(#clip312)\" style=\"stroke:#000000; stroke-linecap:butt; stroke-linejoin:round; stroke-width:4; stroke-opacity:1; fill:none\" points=\"\n",
       "  650.337,873.638 650.337,886.367 712.897,886.367 712.897,873.638 650.337,873.638 \n",
       "  \"/>\n",
       "<path clip-path=\"url(#clip312)\" d=\"\n",
       "M712.897 873.638 L712.897 886.367 L775.458 886.367 L775.458 873.638 L712.897 873.638 L712.897 873.638  Z\n",
       "  \" fill=\"#4682b4\" fill-rule=\"evenodd\" fill-opacity=\"1\"/>\n",
       "<polyline clip-path=\"url(#clip312)\" style=\"stroke:#000000; stroke-linecap:butt; stroke-linejoin:round; stroke-width:4; stroke-opacity:1; fill:none\" points=\"\n",
       "  712.897,873.638 712.897,886.367 775.458,886.367 775.458,873.638 712.897,873.638 \n",
       "  \"/>\n",
       "<path clip-path=\"url(#clip312)\" d=\"\n",
       "M775.458 848.179 L775.458 886.367 L838.018 886.367 L838.018 848.179 L775.458 848.179 L775.458 848.179  Z\n",
       "  \" fill=\"#4682b4\" fill-rule=\"evenodd\" fill-opacity=\"1\"/>\n",
       "<polyline clip-path=\"url(#clip312)\" style=\"stroke:#000000; stroke-linecap:butt; stroke-linejoin:round; stroke-width:4; stroke-opacity:1; fill:none\" points=\"\n",
       "  775.458,848.179 775.458,886.367 838.018,886.367 838.018,848.179 775.458,848.179 \n",
       "  \"/>\n",
       "<path clip-path=\"url(#clip312)\" d=\"\n",
       "M838.018 848.179 L838.018 886.367 L900.579 886.367 L900.579 848.179 L838.018 848.179 L838.018 848.179  Z\n",
       "  \" fill=\"#4682b4\" fill-rule=\"evenodd\" fill-opacity=\"1\"/>\n",
       "<polyline clip-path=\"url(#clip312)\" style=\"stroke:#000000; stroke-linecap:butt; stroke-linejoin:round; stroke-width:4; stroke-opacity:1; fill:none\" points=\"\n",
       "  838.018,848.179 838.018,886.367 900.579,886.367 900.579,848.179 838.018,848.179 \n",
       "  \"/>\n",
       "<path clip-path=\"url(#clip312)\" d=\"\n",
       "M900.579 848.179 L900.579 886.367 L963.139 886.367 L963.139 848.179 L900.579 848.179 L900.579 848.179  Z\n",
       "  \" fill=\"#4682b4\" fill-rule=\"evenodd\" fill-opacity=\"1\"/>\n",
       "<polyline clip-path=\"url(#clip312)\" style=\"stroke:#000000; stroke-linecap:butt; stroke-linejoin:round; stroke-width:4; stroke-opacity:1; fill:none\" points=\"\n",
       "  900.579,848.179 900.579,886.367 963.139,886.367 963.139,848.179 900.579,848.179 \n",
       "  \"/>\n",
       "<path clip-path=\"url(#clip312)\" d=\"\n",
       "M963.139 835.45 L963.139 886.367 L1025.7 886.367 L1025.7 835.45 L963.139 835.45 L963.139 835.45  Z\n",
       "  \" fill=\"#4682b4\" fill-rule=\"evenodd\" fill-opacity=\"1\"/>\n",
       "<polyline clip-path=\"url(#clip312)\" style=\"stroke:#000000; stroke-linecap:butt; stroke-linejoin:round; stroke-width:4; stroke-opacity:1; fill:none\" points=\"\n",
       "  963.139,835.45 963.139,886.367 1025.7,886.367 1025.7,835.45 963.139,835.45 \n",
       "  \"/>\n",
       "<path clip-path=\"url(#clip312)\" d=\"\n",
       "M1025.7 835.45 L1025.7 886.367 L1088.26 886.367 L1088.26 835.45 L1025.7 835.45 L1025.7 835.45  Z\n",
       "  \" fill=\"#4682b4\" fill-rule=\"evenodd\" fill-opacity=\"1\"/>\n",
       "<polyline clip-path=\"url(#clip312)\" style=\"stroke:#000000; stroke-linecap:butt; stroke-linejoin:round; stroke-width:4; stroke-opacity:1; fill:none\" points=\"\n",
       "  1025.7,835.45 1025.7,886.367 1088.26,886.367 1088.26,835.45 1025.7,835.45 \n",
       "  \"/>\n",
       "<path clip-path=\"url(#clip312)\" d=\"\n",
       "M1088.26 809.991 L1088.26 886.367 L1150.82 886.367 L1150.82 809.991 L1088.26 809.991 L1088.26 809.991  Z\n",
       "  \" fill=\"#4682b4\" fill-rule=\"evenodd\" fill-opacity=\"1\"/>\n",
       "<polyline clip-path=\"url(#clip312)\" style=\"stroke:#000000; stroke-linecap:butt; stroke-linejoin:round; stroke-width:4; stroke-opacity:1; fill:none\" points=\"\n",
       "  1088.26,809.991 1088.26,886.367 1150.82,886.367 1150.82,809.991 1088.26,809.991 \n",
       "  \"/>\n",
       "<path clip-path=\"url(#clip312)\" d=\"\n",
       "M1150.82 797.261 L1150.82 886.367 L1213.38 886.367 L1213.38 797.261 L1150.82 797.261 L1150.82 797.261  Z\n",
       "  \" fill=\"#4682b4\" fill-rule=\"evenodd\" fill-opacity=\"1\"/>\n",
       "<polyline clip-path=\"url(#clip312)\" style=\"stroke:#000000; stroke-linecap:butt; stroke-linejoin:round; stroke-width:4; stroke-opacity:1; fill:none\" points=\"\n",
       "  1150.82,797.261 1150.82,886.367 1213.38,886.367 1213.38,797.261 1150.82,797.261 \n",
       "  \"/>\n",
       "<path clip-path=\"url(#clip312)\" d=\"\n",
       "M1213.38 797.261 L1213.38 886.367 L1275.94 886.367 L1275.94 797.261 L1213.38 797.261 L1213.38 797.261  Z\n",
       "  \" fill=\"#4682b4\" fill-rule=\"evenodd\" fill-opacity=\"1\"/>\n",
       "<polyline clip-path=\"url(#clip312)\" style=\"stroke:#000000; stroke-linecap:butt; stroke-linejoin:round; stroke-width:4; stroke-opacity:1; fill:none\" points=\"\n",
       "  1213.38,797.261 1213.38,886.367 1275.94,886.367 1275.94,797.261 1213.38,797.261 \n",
       "  \"/>\n",
       "<path clip-path=\"url(#clip312)\" d=\"\n",
       "M1275.94 771.803 L1275.94 886.367 L1338.5 886.367 L1338.5 771.803 L1275.94 771.803 L1275.94 771.803  Z\n",
       "  \" fill=\"#4682b4\" fill-rule=\"evenodd\" fill-opacity=\"1\"/>\n",
       "<polyline clip-path=\"url(#clip312)\" style=\"stroke:#000000; stroke-linecap:butt; stroke-linejoin:round; stroke-width:4; stroke-opacity:1; fill:none\" points=\"\n",
       "  1275.94,771.803 1275.94,886.367 1338.5,886.367 1338.5,771.803 1275.94,771.803 \n",
       "  \"/>\n",
       "<path clip-path=\"url(#clip312)\" d=\"\n",
       "M1338.5 759.073 L1338.5 886.367 L1401.06 886.367 L1401.06 759.073 L1338.5 759.073 L1338.5 759.073  Z\n",
       "  \" fill=\"#4682b4\" fill-rule=\"evenodd\" fill-opacity=\"1\"/>\n",
       "<polyline clip-path=\"url(#clip312)\" style=\"stroke:#000000; stroke-linecap:butt; stroke-linejoin:round; stroke-width:4; stroke-opacity:1; fill:none\" points=\"\n",
       "  1338.5,759.073 1338.5,886.367 1401.06,886.367 1401.06,759.073 1338.5,759.073 \n",
       "  \"/>\n",
       "<path clip-path=\"url(#clip312)\" d=\"\n",
       "M1401.06 746.344 L1401.06 886.367 L1463.62 886.367 L1463.62 746.344 L1401.06 746.344 L1401.06 746.344  Z\n",
       "  \" fill=\"#4682b4\" fill-rule=\"evenodd\" fill-opacity=\"1\"/>\n",
       "<polyline clip-path=\"url(#clip312)\" style=\"stroke:#000000; stroke-linecap:butt; stroke-linejoin:round; stroke-width:4; stroke-opacity:1; fill:none\" points=\"\n",
       "  1401.06,746.344 1401.06,886.367 1463.62,886.367 1463.62,746.344 1401.06,746.344 \n",
       "  \"/>\n",
       "<path clip-path=\"url(#clip312)\" d=\"\n",
       "M1463.62 733.614 L1463.62 886.367 L1526.18 886.367 L1526.18 733.614 L1463.62 733.614 L1463.62 733.614  Z\n",
       "  \" fill=\"#4682b4\" fill-rule=\"evenodd\" fill-opacity=\"1\"/>\n",
       "<polyline clip-path=\"url(#clip312)\" style=\"stroke:#000000; stroke-linecap:butt; stroke-linejoin:round; stroke-width:4; stroke-opacity:1; fill:none\" points=\"\n",
       "  1463.62,733.614 1463.62,886.367 1526.18,886.367 1526.18,733.614 1463.62,733.614 \n",
       "  \"/>\n",
       "<path clip-path=\"url(#clip312)\" d=\"\n",
       "M1526.18 733.614 L1526.18 886.367 L1588.74 886.367 L1588.74 733.614 L1526.18 733.614 L1526.18 733.614  Z\n",
       "  \" fill=\"#4682b4\" fill-rule=\"evenodd\" fill-opacity=\"1\"/>\n",
       "<polyline clip-path=\"url(#clip312)\" style=\"stroke:#000000; stroke-linecap:butt; stroke-linejoin:round; stroke-width:4; stroke-opacity:1; fill:none\" points=\"\n",
       "  1526.18,733.614 1526.18,886.367 1588.74,886.367 1588.74,733.614 1526.18,733.614 \n",
       "  \"/>\n",
       "<path clip-path=\"url(#clip312)\" d=\"\n",
       "M1588.74 682.697 L1588.74 886.367 L1651.3 886.367 L1651.3 682.697 L1588.74 682.697 L1588.74 682.697  Z\n",
       "  \" fill=\"#4682b4\" fill-rule=\"evenodd\" fill-opacity=\"1\"/>\n",
       "<polyline clip-path=\"url(#clip312)\" style=\"stroke:#000000; stroke-linecap:butt; stroke-linejoin:round; stroke-width:4; stroke-opacity:1; fill:none\" points=\"\n",
       "  1588.74,682.697 1588.74,886.367 1651.3,886.367 1651.3,682.697 1588.74,682.697 \n",
       "  \"/>\n",
       "<path clip-path=\"url(#clip312)\" d=\"\n",
       "M1651.3 631.779 L1651.3 886.367 L1713.86 886.367 L1713.86 631.779 L1651.3 631.779 L1651.3 631.779  Z\n",
       "  \" fill=\"#4682b4\" fill-rule=\"evenodd\" fill-opacity=\"1\"/>\n",
       "<polyline clip-path=\"url(#clip312)\" style=\"stroke:#000000; stroke-linecap:butt; stroke-linejoin:round; stroke-width:4; stroke-opacity:1; fill:none\" points=\"\n",
       "  1651.3,631.779 1651.3,886.367 1713.86,886.367 1713.86,631.779 1651.3,631.779 \n",
       "  \"/>\n",
       "<path clip-path=\"url(#clip312)\" d=\"\n",
       "M1713.86 529.944 L1713.86 886.367 L1776.43 886.367 L1776.43 529.944 L1713.86 529.944 L1713.86 529.944  Z\n",
       "  \" fill=\"#4682b4\" fill-rule=\"evenodd\" fill-opacity=\"1\"/>\n",
       "<polyline clip-path=\"url(#clip312)\" style=\"stroke:#000000; stroke-linecap:butt; stroke-linejoin:round; stroke-width:4; stroke-opacity:1; fill:none\" points=\"\n",
       "  1713.86,529.944 1713.86,886.367 1776.43,886.367 1776.43,529.944 1713.86,529.944 \n",
       "  \"/>\n",
       "<path clip-path=\"url(#clip312)\" d=\"\n",
       "M1776.43 377.191 L1776.43 886.367 L1838.99 886.367 L1838.99 377.191 L1776.43 377.191 L1776.43 377.191  Z\n",
       "  \" fill=\"#4682b4\" fill-rule=\"evenodd\" fill-opacity=\"1\"/>\n",
       "<polyline clip-path=\"url(#clip312)\" style=\"stroke:#000000; stroke-linecap:butt; stroke-linejoin:round; stroke-width:4; stroke-opacity:1; fill:none\" points=\"\n",
       "  1776.43,377.191 1776.43,886.367 1838.99,886.367 1838.99,377.191 1776.43,377.191 \n",
       "  \"/>\n",
       "<path clip-path=\"url(#clip312)\" d=\"\n",
       "M1838.99 275.355 L1838.99 886.367 L1901.55 886.367 L1901.55 275.355 L1838.99 275.355 L1838.99 275.355  Z\n",
       "  \" fill=\"#4682b4\" fill-rule=\"evenodd\" fill-opacity=\"1\"/>\n",
       "<polyline clip-path=\"url(#clip312)\" style=\"stroke:#000000; stroke-linecap:butt; stroke-linejoin:round; stroke-width:4; stroke-opacity:1; fill:none\" points=\"\n",
       "  1838.99,275.355 1838.99,886.367 1901.55,886.367 1901.55,275.355 1838.99,275.355 \n",
       "  \"/>\n",
       "<path clip-path=\"url(#clip312)\" d=\"\n",
       "M1901.55 122.602 L1901.55 886.367 L1964.11 886.367 L1964.11 122.602 L1901.55 122.602 L1901.55 122.602  Z\n",
       "  \" fill=\"#4682b4\" fill-rule=\"evenodd\" fill-opacity=\"1\"/>\n",
       "<polyline clip-path=\"url(#clip312)\" style=\"stroke:#000000; stroke-linecap:butt; stroke-linejoin:round; stroke-width:4; stroke-opacity:1; fill:none\" points=\"\n",
       "  1901.55,122.602 1901.55,886.367 1964.11,886.367 1964.11,122.602 1901.55,122.602 \n",
       "  \"/>\n",
       "<path clip-path=\"url(#clip312)\" d=\"\n",
       "M1964.11 71.6846 L1964.11 886.367 L2026.67 886.367 L2026.67 71.6846 L1964.11 71.6846 L1964.11 71.6846  Z\n",
       "  \" fill=\"#4682b4\" fill-rule=\"evenodd\" fill-opacity=\"1\"/>\n",
       "<polyline clip-path=\"url(#clip312)\" style=\"stroke:#000000; stroke-linecap:butt; stroke-linejoin:round; stroke-width:4; stroke-opacity:1; fill:none\" points=\"\n",
       "  1964.11,71.6846 1964.11,886.367 2026.67,886.367 2026.67,71.6846 1964.11,71.6846 \n",
       "  \"/>\n",
       "<path clip-path=\"url(#clip312)\" d=\"\n",
       "M2026.67 186.249 L2026.67 886.367 L2089.23 886.367 L2089.23 186.249 L2026.67 186.249 L2026.67 186.249  Z\n",
       "  \" fill=\"#4682b4\" fill-rule=\"evenodd\" fill-opacity=\"1\"/>\n",
       "<polyline clip-path=\"url(#clip312)\" style=\"stroke:#000000; stroke-linecap:butt; stroke-linejoin:round; stroke-width:4; stroke-opacity:1; fill:none\" points=\"\n",
       "  2026.67,186.249 2026.67,886.367 2089.23,886.367 2089.23,186.249 2026.67,186.249 \n",
       "  \"/>\n",
       "<path clip-path=\"url(#clip312)\" d=\"\n",
       "M2089.23 377.191 L2089.23 886.367 L2151.79 886.367 L2151.79 377.191 L2089.23 377.191 L2089.23 377.191  Z\n",
       "  \" fill=\"#4682b4\" fill-rule=\"evenodd\" fill-opacity=\"1\"/>\n",
       "<polyline clip-path=\"url(#clip312)\" style=\"stroke:#000000; stroke-linecap:butt; stroke-linejoin:round; stroke-width:4; stroke-opacity:1; fill:none\" points=\"\n",
       "  2089.23,377.191 2089.23,886.367 2151.79,886.367 2151.79,377.191 2089.23,377.191 \n",
       "  \"/>\n",
       "<path clip-path=\"url(#clip312)\" d=\"\n",
       "M2151.79 669.967 L2151.79 886.367 L2214.35 886.367 L2214.35 669.967 L2151.79 669.967 L2151.79 669.967  Z\n",
       "  \" fill=\"#4682b4\" fill-rule=\"evenodd\" fill-opacity=\"1\"/>\n",
       "<polyline clip-path=\"url(#clip312)\" style=\"stroke:#000000; stroke-linecap:butt; stroke-linejoin:round; stroke-width:4; stroke-opacity:1; fill:none\" points=\"\n",
       "  2151.79,669.967 2151.79,886.367 2214.35,886.367 2214.35,669.967 2151.79,669.967 \n",
       "  \"/>\n",
       "<path clip-path=\"url(#clip312)\" d=\"\n",
       "M2214.35 797.261 L2214.35 886.367 L2276.91 886.367 L2276.91 797.261 L2214.35 797.261 L2214.35 797.261  Z\n",
       "  \" fill=\"#4682b4\" fill-rule=\"evenodd\" fill-opacity=\"1\"/>\n",
       "<polyline clip-path=\"url(#clip312)\" style=\"stroke:#000000; stroke-linecap:butt; stroke-linejoin:round; stroke-width:4; stroke-opacity:1; fill:none\" points=\"\n",
       "  2214.35,797.261 2214.35,886.367 2276.91,886.367 2276.91,797.261 2214.35,797.261 \n",
       "  \"/>\n",
       "<path clip-path=\"url(#clip312)\" d=\"\n",
       "M2276.91 835.45 L2276.91 886.367 L2339.47 886.367 L2339.47 835.45 L2276.91 835.45 L2276.91 835.45  Z\n",
       "  \" fill=\"#4682b4\" fill-rule=\"evenodd\" fill-opacity=\"1\"/>\n",
       "<polyline clip-path=\"url(#clip312)\" style=\"stroke:#000000; stroke-linecap:butt; stroke-linejoin:round; stroke-width:4; stroke-opacity:1; fill:none\" points=\"\n",
       "  2276.91,835.45 2276.91,886.367 2339.47,886.367 2339.47,835.45 2276.91,835.45 \n",
       "  \"/>\n",
       "<path clip-path=\"url(#clip312)\" d=\"\n",
       "M2339.47 873.638 L2339.47 886.367 L2402.03 886.367 L2402.03 873.638 L2339.47 873.638 L2339.47 873.638  Z\n",
       "  \" fill=\"#4682b4\" fill-rule=\"evenodd\" fill-opacity=\"1\"/>\n",
       "<polyline clip-path=\"url(#clip312)\" style=\"stroke:#000000; stroke-linecap:butt; stroke-linejoin:round; stroke-width:4; stroke-opacity:1; fill:none\" points=\"\n",
       "  2339.47,873.638 2339.47,886.367 2402.03,886.367 2402.03,873.638 2339.47,873.638 \n",
       "  \"/>\n",
       "<path clip-path=\"url(#clip312)\" d=\"\n",
       "M2402.03 873.638 L2402.03 886.367 L2464.59 886.367 L2464.59 873.638 L2402.03 873.638 L2402.03 873.638  Z\n",
       "  \" fill=\"#4682b4\" fill-rule=\"evenodd\" fill-opacity=\"1\"/>\n",
       "<polyline clip-path=\"url(#clip312)\" style=\"stroke:#000000; stroke-linecap:butt; stroke-linejoin:round; stroke-width:4; stroke-opacity:1; fill:none\" points=\"\n",
       "  2402.03,873.638 2402.03,886.367 2464.59,886.367 2464.59,873.638 2402.03,873.638 \n",
       "  \"/>\n",
       "<circle clip-path=\"url(#clip312)\" style=\"fill:#4682b4; stroke:none; fill-opacity:0\" cx=\"181.133\" cy=\"886.367\" r=\"2\"/>\n",
       "<circle clip-path=\"url(#clip312)\" style=\"fill:#4682b4; stroke:none; fill-opacity:0\" cx=\"243.694\" cy=\"886.367\" r=\"2\"/>\n",
       "<circle clip-path=\"url(#clip312)\" style=\"fill:#4682b4; stroke:none; fill-opacity:0\" cx=\"306.254\" cy=\"886.367\" r=\"2\"/>\n",
       "<circle clip-path=\"url(#clip312)\" style=\"fill:#4682b4; stroke:none; fill-opacity:0\" cx=\"368.815\" cy=\"886.367\" r=\"2\"/>\n",
       "<circle clip-path=\"url(#clip312)\" style=\"fill:#4682b4; stroke:none; fill-opacity:0\" cx=\"431.375\" cy=\"873.638\" r=\"2\"/>\n",
       "<circle clip-path=\"url(#clip312)\" style=\"fill:#4682b4; stroke:none; fill-opacity:0\" cx=\"493.936\" cy=\"873.638\" r=\"2\"/>\n",
       "<circle clip-path=\"url(#clip312)\" style=\"fill:#4682b4; stroke:none; fill-opacity:0\" cx=\"556.496\" cy=\"873.638\" r=\"2\"/>\n",
       "<circle clip-path=\"url(#clip312)\" style=\"fill:#4682b4; stroke:none; fill-opacity:0\" cx=\"619.057\" cy=\"860.909\" r=\"2\"/>\n",
       "<circle clip-path=\"url(#clip312)\" style=\"fill:#4682b4; stroke:none; fill-opacity:0\" cx=\"681.617\" cy=\"873.638\" r=\"2\"/>\n",
       "<circle clip-path=\"url(#clip312)\" style=\"fill:#4682b4; stroke:none; fill-opacity:0\" cx=\"744.177\" cy=\"873.638\" r=\"2\"/>\n",
       "<circle clip-path=\"url(#clip312)\" style=\"fill:#4682b4; stroke:none; fill-opacity:0\" cx=\"806.738\" cy=\"848.179\" r=\"2\"/>\n",
       "<circle clip-path=\"url(#clip312)\" style=\"fill:#4682b4; stroke:none; fill-opacity:0\" cx=\"869.298\" cy=\"848.179\" r=\"2\"/>\n",
       "<circle clip-path=\"url(#clip312)\" style=\"fill:#4682b4; stroke:none; fill-opacity:0\" cx=\"931.859\" cy=\"848.179\" r=\"2\"/>\n",
       "<circle clip-path=\"url(#clip312)\" style=\"fill:#4682b4; stroke:none; fill-opacity:0\" cx=\"994.419\" cy=\"835.45\" r=\"2\"/>\n",
       "<circle clip-path=\"url(#clip312)\" style=\"fill:#4682b4; stroke:none; fill-opacity:0\" cx=\"1056.98\" cy=\"835.45\" r=\"2\"/>\n",
       "<circle clip-path=\"url(#clip312)\" style=\"fill:#4682b4; stroke:none; fill-opacity:0\" cx=\"1119.54\" cy=\"809.991\" r=\"2\"/>\n",
       "<circle clip-path=\"url(#clip312)\" style=\"fill:#4682b4; stroke:none; fill-opacity:0\" cx=\"1182.1\" cy=\"797.261\" r=\"2\"/>\n",
       "<circle clip-path=\"url(#clip312)\" style=\"fill:#4682b4; stroke:none; fill-opacity:0\" cx=\"1244.66\" cy=\"797.261\" r=\"2\"/>\n",
       "<circle clip-path=\"url(#clip312)\" style=\"fill:#4682b4; stroke:none; fill-opacity:0\" cx=\"1307.22\" cy=\"771.803\" r=\"2\"/>\n",
       "<circle clip-path=\"url(#clip312)\" style=\"fill:#4682b4; stroke:none; fill-opacity:0\" cx=\"1369.78\" cy=\"759.073\" r=\"2\"/>\n",
       "<circle clip-path=\"url(#clip312)\" style=\"fill:#4682b4; stroke:none; fill-opacity:0\" cx=\"1432.34\" cy=\"746.344\" r=\"2\"/>\n",
       "<circle clip-path=\"url(#clip312)\" style=\"fill:#4682b4; stroke:none; fill-opacity:0\" cx=\"1494.9\" cy=\"733.614\" r=\"2\"/>\n",
       "<circle clip-path=\"url(#clip312)\" style=\"fill:#4682b4; stroke:none; fill-opacity:0\" cx=\"1557.46\" cy=\"733.614\" r=\"2\"/>\n",
       "<circle clip-path=\"url(#clip312)\" style=\"fill:#4682b4; stroke:none; fill-opacity:0\" cx=\"1620.02\" cy=\"682.697\" r=\"2\"/>\n",
       "<circle clip-path=\"url(#clip312)\" style=\"fill:#4682b4; stroke:none; fill-opacity:0\" cx=\"1682.58\" cy=\"631.779\" r=\"2\"/>\n",
       "<circle clip-path=\"url(#clip312)\" style=\"fill:#4682b4; stroke:none; fill-opacity:0\" cx=\"1745.15\" cy=\"529.944\" r=\"2\"/>\n",
       "<circle clip-path=\"url(#clip312)\" style=\"fill:#4682b4; stroke:none; fill-opacity:0\" cx=\"1807.71\" cy=\"377.191\" r=\"2\"/>\n",
       "<circle clip-path=\"url(#clip312)\" style=\"fill:#4682b4; stroke:none; fill-opacity:0\" cx=\"1870.27\" cy=\"275.355\" r=\"2\"/>\n",
       "<circle clip-path=\"url(#clip312)\" style=\"fill:#4682b4; stroke:none; fill-opacity:0\" cx=\"1932.83\" cy=\"122.602\" r=\"2\"/>\n",
       "<circle clip-path=\"url(#clip312)\" style=\"fill:#4682b4; stroke:none; fill-opacity:0\" cx=\"1995.39\" cy=\"71.6846\" r=\"2\"/>\n",
       "<circle clip-path=\"url(#clip312)\" style=\"fill:#4682b4; stroke:none; fill-opacity:0\" cx=\"2057.95\" cy=\"186.249\" r=\"2\"/>\n",
       "<circle clip-path=\"url(#clip312)\" style=\"fill:#4682b4; stroke:none; fill-opacity:0\" cx=\"2120.51\" cy=\"377.191\" r=\"2\"/>\n",
       "<circle clip-path=\"url(#clip312)\" style=\"fill:#4682b4; stroke:none; fill-opacity:0\" cx=\"2183.07\" cy=\"669.967\" r=\"2\"/>\n",
       "<circle clip-path=\"url(#clip312)\" style=\"fill:#4682b4; stroke:none; fill-opacity:0\" cx=\"2245.63\" cy=\"797.261\" r=\"2\"/>\n",
       "<circle clip-path=\"url(#clip312)\" style=\"fill:#4682b4; stroke:none; fill-opacity:0\" cx=\"2308.19\" cy=\"835.45\" r=\"2\"/>\n",
       "<circle clip-path=\"url(#clip312)\" style=\"fill:#4682b4; stroke:none; fill-opacity:0\" cx=\"2370.75\" cy=\"873.638\" r=\"2\"/>\n",
       "<circle clip-path=\"url(#clip312)\" style=\"fill:#4682b4; stroke:none; fill-opacity:0\" cx=\"2433.31\" cy=\"873.638\" r=\"2\"/>\n",
       "<path clip-path=\"url(#clip310)\" d=\"\n",
       "M483.509 530.866 L1611.3 530.866 L1611.3 427.186 L483.509 427.186  Z\n",
       "  \" fill=\"#ffffff\" fill-rule=\"evenodd\" fill-opacity=\"1\"/>\n",
       "<polyline clip-path=\"url(#clip310)\" style=\"stroke:#000000; stroke-linecap:butt; stroke-linejoin:round; stroke-width:4; stroke-opacity:1; fill:none\" points=\"\n",
       "  483.509,530.866 1611.3,530.866 1611.3,427.186 483.509,427.186 483.509,530.866 \n",
       "  \"/>\n",
       "<path clip-path=\"url(#clip310)\" d=\"\n",
       "M516.874 499.762 L717.068 499.762 L717.068 458.29 L516.874 458.29 L516.874 499.762  Z\n",
       "  \" fill=\"#4682b4\" fill-rule=\"evenodd\" fill-opacity=\"1\"/>\n",
       "<polyline clip-path=\"url(#clip310)\" style=\"stroke:#000000; stroke-linecap:butt; stroke-linejoin:round; stroke-width:4; stroke-opacity:1; fill:none\" points=\"\n",
       "  516.874,499.762 717.068,499.762 717.068,458.29 516.874,458.29 516.874,499.762 \n",
       "  \"/>\n",
       "<path clip-path=\"url(#clip310)\" d=\"M750.434 460.288 L754.693 460.288 L754.693 496.306 L750.434 496.306 L750.434 460.288 Z\" fill=\"#000000\" fill-rule=\"evenodd\" fill-opacity=\"1\" /><path clip-path=\"url(#clip310)\" d=\"M773.651 473.366 Q770.225 473.366 768.234 476.051 Q766.244 478.713 766.244 483.366 Q766.244 488.019 768.211 490.704 Q770.202 493.366 773.651 493.366 Q777.054 493.366 779.044 490.681 Q781.035 487.996 781.035 483.366 Q781.035 478.76 779.044 476.075 Q777.054 473.366 773.651 473.366 M773.651 469.755 Q779.207 469.755 782.378 473.366 Q785.549 476.977 785.549 483.366 Q785.549 489.732 782.378 493.366 Q779.207 496.977 773.651 496.977 Q768.072 496.977 764.901 493.366 Q761.753 489.732 761.753 483.366 Q761.753 476.977 764.901 473.366 Q768.072 469.755 773.651 469.755 Z\" fill=\"#000000\" fill-rule=\"evenodd\" fill-opacity=\"1\" /><path clip-path=\"url(#clip310)\" d=\"M809.669 483.042 Q809.669 478.413 807.748 475.866 Q805.85 473.32 802.401 473.32 Q798.975 473.32 797.054 475.866 Q795.156 478.413 795.156 483.042 Q795.156 487.649 797.054 490.195 Q798.975 492.741 802.401 492.741 Q805.85 492.741 807.748 490.195 Q809.669 487.649 809.669 483.042 M813.929 493.088 Q813.929 499.709 810.989 502.926 Q808.049 506.167 801.984 506.167 Q799.739 506.167 797.748 505.82 Q795.757 505.496 793.882 504.801 L793.882 500.658 Q795.757 501.676 797.586 502.162 Q799.415 502.649 801.313 502.649 Q805.503 502.649 807.586 500.449 Q809.669 498.274 809.669 493.852 L809.669 491.746 Q808.35 494.037 806.29 495.172 Q804.23 496.306 801.359 496.306 Q796.591 496.306 793.674 492.672 Q790.757 489.038 790.757 483.042 Q790.757 477.024 793.674 473.389 Q796.591 469.755 801.359 469.755 Q804.23 469.755 806.29 470.889 Q808.35 472.024 809.669 474.315 L809.669 470.38 L813.929 470.38 L813.929 493.088 Z\" fill=\"#000000\" fill-rule=\"evenodd\" fill-opacity=\"1\" /><path clip-path=\"url(#clip310)\" d=\"M834.484 483.274 Q829.322 483.274 827.331 484.454 Q825.341 485.635 825.341 488.482 Q825.341 490.75 826.822 492.093 Q828.327 493.412 830.896 493.412 Q834.438 493.412 836.567 490.912 Q838.72 488.389 838.72 484.223 L838.72 483.274 L834.484 483.274 M842.979 481.514 L842.979 496.306 L838.72 496.306 L838.72 492.371 Q837.262 494.732 835.086 495.866 Q832.91 496.977 829.762 496.977 Q825.78 496.977 823.419 494.755 Q821.081 492.51 821.081 488.76 Q821.081 484.385 823.998 482.163 Q826.938 479.94 832.748 479.94 L838.72 479.94 L838.72 479.524 Q838.72 476.584 836.776 474.987 Q834.854 473.366 831.359 473.366 Q829.137 473.366 827.03 473.899 Q824.924 474.431 822.979 475.496 L822.979 471.561 Q825.317 470.658 827.516 470.218 Q829.716 469.755 831.799 469.755 Q837.424 469.755 840.202 472.672 Q842.979 475.589 842.979 481.514 Z\" fill=\"#000000\" fill-rule=\"evenodd\" fill-opacity=\"1\" /><path clip-path=\"url(#clip310)\" d=\"M866.776 474.362 Q866.058 473.945 865.201 473.76 Q864.368 473.551 863.35 473.551 Q859.739 473.551 857.794 475.913 Q855.873 478.251 855.873 482.649 L855.873 496.306 L851.59 496.306 L851.59 470.38 L855.873 470.38 L855.873 474.408 Q857.215 472.047 859.368 470.913 Q861.521 469.755 864.6 469.755 Q865.039 469.755 865.572 469.825 Q866.104 469.871 866.752 469.987 L866.776 474.362 Z\" fill=\"#000000\" fill-rule=\"evenodd\" fill-opacity=\"1\" /><path clip-path=\"url(#clip310)\" d=\"M871.243 470.38 L875.502 470.38 L875.502 496.306 L871.243 496.306 L871.243 470.38 M871.243 460.288 L875.502 460.288 L875.502 465.681 L871.243 465.681 L871.243 460.288 Z\" fill=\"#000000\" fill-rule=\"evenodd\" fill-opacity=\"1\" /><path clip-path=\"url(#clip310)\" d=\"M888.627 463.019 L888.627 470.38 L897.4 470.38 L897.4 473.69 L888.627 473.69 L888.627 487.764 Q888.627 490.936 889.484 491.838 Q890.363 492.741 893.025 492.741 L897.4 492.741 L897.4 496.306 L893.025 496.306 Q888.095 496.306 886.22 494.477 Q884.345 492.625 884.345 487.764 L884.345 473.69 L881.22 473.69 L881.22 470.38 L884.345 470.38 L884.345 463.019 L888.627 463.019 Z\" fill=\"#000000\" fill-rule=\"evenodd\" fill-opacity=\"1\" /><path clip-path=\"url(#clip310)\" d=\"M924.553 480.658 L924.553 496.306 L920.294 496.306 L920.294 480.797 Q920.294 477.116 918.859 475.288 Q917.423 473.459 914.553 473.459 Q911.104 473.459 909.113 475.658 Q907.123 477.857 907.123 481.653 L907.123 496.306 L902.84 496.306 L902.84 460.288 L907.123 460.288 L907.123 474.408 Q908.65 472.07 910.71 470.913 Q912.794 469.755 915.502 469.755 Q919.97 469.755 922.261 472.533 Q924.553 475.288 924.553 480.658 Z\" fill=\"#000000\" fill-rule=\"evenodd\" fill-opacity=\"1\" /><path clip-path=\"url(#clip310)\" d=\"M953.233 475.357 Q954.831 472.487 957.053 471.121 Q959.275 469.755 962.284 469.755 Q966.335 469.755 968.534 472.602 Q970.733 475.426 970.733 480.658 L970.733 496.306 L966.451 496.306 L966.451 480.797 Q966.451 477.07 965.131 475.264 Q963.812 473.459 961.104 473.459 Q957.794 473.459 955.872 475.658 Q953.951 477.857 953.951 481.653 L953.951 496.306 L949.669 496.306 L949.669 480.797 Q949.669 477.047 948.349 475.264 Q947.03 473.459 944.275 473.459 Q941.011 473.459 939.09 475.681 Q937.169 477.88 937.169 481.653 L937.169 496.306 L932.886 496.306 L932.886 470.38 L937.169 470.38 L937.169 474.408 Q938.627 472.024 940.664 470.889 Q942.701 469.755 945.502 469.755 Q948.326 469.755 950.294 471.19 Q952.284 472.626 953.233 475.357 Z\" fill=\"#000000\" fill-rule=\"evenodd\" fill-opacity=\"1\" /><path clip-path=\"url(#clip310)\" d=\"M995.756 471.144 L995.756 475.172 Q993.951 474.246 992.006 473.783 Q990.062 473.32 987.979 473.32 Q984.807 473.32 983.21 474.292 Q981.636 475.264 981.636 477.209 Q981.636 478.69 982.77 479.547 Q983.905 480.38 987.33 481.144 L988.789 481.468 Q993.326 482.44 995.224 484.223 Q997.145 485.982 997.145 489.153 Q997.145 492.764 994.275 494.871 Q991.428 496.977 986.428 496.977 Q984.344 496.977 982.076 496.561 Q979.83 496.167 977.33 495.357 L977.33 490.959 Q979.692 492.186 981.983 492.811 Q984.275 493.412 986.52 493.412 Q989.529 493.412 991.15 492.394 Q992.77 491.352 992.77 489.477 Q992.77 487.741 991.59 486.815 Q990.432 485.889 986.474 485.033 L984.992 484.686 Q981.034 483.852 979.275 482.139 Q977.516 480.403 977.516 477.394 Q977.516 473.737 980.108 471.746 Q982.701 469.755 987.469 469.755 Q989.83 469.755 991.914 470.102 Q993.997 470.45 995.756 471.144 Z\" fill=\"#000000\" fill-rule=\"evenodd\" fill-opacity=\"1\" /><path clip-path=\"url(#clip310)\" d=\"M1029.04 473.366 Q1025.62 473.366 1023.63 476.051 Q1021.64 478.713 1021.64 483.366 Q1021.64 488.019 1023.6 490.704 Q1025.59 493.366 1029.04 493.366 Q1032.45 493.366 1034.44 490.681 Q1036.43 487.996 1036.43 483.366 Q1036.43 478.76 1034.44 476.075 Q1032.45 473.366 1029.04 473.366 M1029.04 469.755 Q1034.6 469.755 1037.77 473.366 Q1040.94 476.977 1040.94 483.366 Q1040.94 489.732 1037.77 493.366 Q1034.6 496.977 1029.04 496.977 Q1023.46 496.977 1020.29 493.366 Q1017.15 489.732 1017.15 483.366 Q1017.15 476.977 1020.29 473.366 Q1023.46 469.755 1029.04 469.755 Z\" fill=\"#000000\" fill-rule=\"evenodd\" fill-opacity=\"1\" /><path clip-path=\"url(#clip310)\" d=\"M1061.13 460.288 L1061.13 463.829 L1057.05 463.829 Q1054.76 463.829 1053.86 464.755 Q1052.98 465.681 1052.98 468.089 L1052.98 470.38 L1059.99 470.38 L1059.99 473.69 L1052.98 473.69 L1052.98 496.306 L1048.7 496.306 L1048.7 473.69 L1044.62 473.69 L1044.62 470.38 L1048.7 470.38 L1048.7 468.575 Q1048.7 464.246 1050.71 462.278 Q1052.72 460.288 1057.1 460.288 L1061.13 460.288 Z\" fill=\"#000000\" fill-rule=\"evenodd\" fill-opacity=\"1\" /><path clip-path=\"url(#clip310)\" d=\"M1096.29 471.144 L1096.29 475.172 Q1094.48 474.246 1092.54 473.783 Q1090.59 473.32 1088.51 473.32 Q1085.34 473.32 1083.74 474.292 Q1082.17 475.264 1082.17 477.209 Q1082.17 478.69 1083.3 479.547 Q1084.44 480.38 1087.86 481.144 L1089.32 481.468 Q1093.86 482.44 1095.76 484.223 Q1097.68 485.982 1097.68 489.153 Q1097.68 492.764 1094.81 494.871 Q1091.96 496.977 1086.96 496.977 Q1084.88 496.977 1082.61 496.561 Q1080.36 496.167 1077.86 495.357 L1077.86 490.959 Q1080.22 492.186 1082.52 492.811 Q1084.81 493.412 1087.05 493.412 Q1090.06 493.412 1091.68 492.394 Q1093.3 491.352 1093.3 489.477 Q1093.3 487.741 1092.12 486.815 Q1090.96 485.889 1087.01 485.033 L1085.52 484.686 Q1081.57 483.852 1079.81 482.139 Q1078.05 480.403 1078.05 477.394 Q1078.05 473.737 1080.64 471.746 Q1083.23 469.755 1088 469.755 Q1090.36 469.755 1092.45 470.102 Q1094.53 470.45 1096.29 471.144 Z\" fill=\"#000000\" fill-rule=\"evenodd\" fill-opacity=\"1\" /><path clip-path=\"url(#clip310)\" d=\"M1104.46 470.38 L1108.72 470.38 L1108.72 496.306 L1104.46 496.306 L1104.46 470.38 M1104.46 460.288 L1108.72 460.288 L1108.72 465.681 L1104.46 465.681 L1104.46 460.288 Z\" fill=\"#000000\" fill-rule=\"evenodd\" fill-opacity=\"1\" /><path clip-path=\"url(#clip310)\" d=\"M1139.18 480.658 L1139.18 496.306 L1134.92 496.306 L1134.92 480.797 Q1134.92 477.116 1133.49 475.288 Q1132.05 473.459 1129.18 473.459 Q1125.73 473.459 1123.74 475.658 Q1121.75 477.857 1121.75 481.653 L1121.75 496.306 L1117.47 496.306 L1117.47 470.38 L1121.75 470.38 L1121.75 474.408 Q1123.28 472.07 1125.34 470.913 Q1127.42 469.755 1130.13 469.755 Q1134.6 469.755 1136.89 472.533 Q1139.18 475.288 1139.18 480.658 Z\" fill=\"#000000\" fill-rule=\"evenodd\" fill-opacity=\"1\" /><path clip-path=\"url(#clip310)\" d=\"M1164.74 483.042 Q1164.74 478.413 1162.82 475.866 Q1160.92 473.32 1157.47 473.32 Q1154.04 473.32 1152.12 475.866 Q1150.22 478.413 1150.22 483.042 Q1150.22 487.649 1152.12 490.195 Q1154.04 492.741 1157.47 492.741 Q1160.92 492.741 1162.82 490.195 Q1164.74 487.649 1164.74 483.042 M1169 493.088 Q1169 499.709 1166.06 502.926 Q1163.12 506.167 1157.05 506.167 Q1154.81 506.167 1152.82 505.82 Q1150.82 505.496 1148.95 504.801 L1148.95 500.658 Q1150.82 501.676 1152.65 502.162 Q1154.48 502.649 1156.38 502.649 Q1160.57 502.649 1162.65 500.449 Q1164.74 498.274 1164.74 493.852 L1164.74 491.746 Q1163.42 494.037 1161.36 495.172 Q1159.3 496.306 1156.43 496.306 Q1151.66 496.306 1148.74 492.672 Q1145.82 489.038 1145.82 483.042 Q1145.82 477.024 1148.74 473.389 Q1151.66 469.755 1156.43 469.755 Q1159.3 469.755 1161.36 470.889 Q1163.42 472.024 1164.74 474.315 L1164.74 470.38 L1169 470.38 L1169 493.088 Z\" fill=\"#000000\" fill-rule=\"evenodd\" fill-opacity=\"1\" /><path clip-path=\"url(#clip310)\" d=\"M1177.33 486.075 L1177.33 470.38 L1181.59 470.38 L1181.59 485.913 Q1181.59 489.593 1183.02 491.445 Q1184.46 493.274 1187.33 493.274 Q1190.78 493.274 1192.77 491.075 Q1194.78 488.875 1194.78 485.079 L1194.78 470.38 L1199.04 470.38 L1199.04 496.306 L1194.78 496.306 L1194.78 492.325 Q1193.23 494.686 1191.17 495.843 Q1189.13 496.977 1186.43 496.977 Q1181.96 496.977 1179.64 494.2 Q1177.33 491.422 1177.33 486.075 M1188.05 469.755 L1188.05 469.755 Z\" fill=\"#000000\" fill-rule=\"evenodd\" fill-opacity=\"1\" /><path clip-path=\"url(#clip310)\" d=\"M1207.82 460.288 L1212.07 460.288 L1212.07 496.306 L1207.82 496.306 L1207.82 460.288 Z\" fill=\"#000000\" fill-rule=\"evenodd\" fill-opacity=\"1\" /><path clip-path=\"url(#clip310)\" d=\"M1232.77 483.274 Q1227.61 483.274 1225.62 484.454 Q1223.63 485.635 1223.63 488.482 Q1223.63 490.75 1225.11 492.093 Q1226.61 493.412 1229.18 493.412 Q1232.72 493.412 1234.85 490.912 Q1237.01 488.389 1237.01 484.223 L1237.01 483.274 L1232.77 483.274 M1241.26 481.514 L1241.26 496.306 L1237.01 496.306 L1237.01 492.371 Q1235.55 494.732 1233.37 495.866 Q1231.19 496.977 1228.05 496.977 Q1224.07 496.977 1221.7 494.755 Q1219.37 492.51 1219.37 488.76 Q1219.37 484.385 1222.28 482.163 Q1225.22 479.94 1231.03 479.94 L1237.01 479.94 L1237.01 479.524 Q1237.01 476.584 1235.06 474.987 Q1233.14 473.366 1229.64 473.366 Q1227.42 473.366 1225.32 473.899 Q1223.21 474.431 1221.26 475.496 L1221.26 471.561 Q1223.6 470.658 1225.8 470.218 Q1228 469.755 1230.08 469.755 Q1235.71 469.755 1238.49 472.672 Q1241.26 475.589 1241.26 481.514 Z\" fill=\"#000000\" fill-rule=\"evenodd\" fill-opacity=\"1\" /><path clip-path=\"url(#clip310)\" d=\"M1265.06 474.362 Q1264.34 473.945 1263.49 473.76 Q1262.65 473.551 1261.63 473.551 Q1258.02 473.551 1256.08 475.913 Q1254.16 478.251 1254.16 482.649 L1254.16 496.306 L1249.88 496.306 L1249.88 470.38 L1254.16 470.38 L1254.16 474.408 Q1255.5 472.047 1257.65 470.913 Q1259.81 469.755 1262.88 469.755 Q1263.32 469.755 1263.86 469.825 Q1264.39 469.871 1265.04 469.987 L1265.06 474.362 Z\" fill=\"#000000\" fill-rule=\"evenodd\" fill-opacity=\"1\" /><path clip-path=\"url(#clip310)\" d=\"M1281.54 470.38 L1286.06 470.38 L1294.16 492.139 L1302.26 470.38 L1306.77 470.38 L1297.05 496.306 L1291.26 496.306 L1281.54 470.38 Z\" fill=\"#000000\" fill-rule=\"evenodd\" fill-opacity=\"1\" /><path clip-path=\"url(#clip310)\" d=\"M1324.44 483.274 Q1319.27 483.274 1317.28 484.454 Q1315.29 485.635 1315.29 488.482 Q1315.29 490.75 1316.77 492.093 Q1318.28 493.412 1320.85 493.412 Q1324.39 493.412 1326.52 490.912 Q1328.67 488.389 1328.67 484.223 L1328.67 483.274 L1324.44 483.274 M1332.93 481.514 L1332.93 496.306 L1328.67 496.306 L1328.67 492.371 Q1327.21 494.732 1325.04 495.866 Q1322.86 496.977 1319.71 496.977 Q1315.73 496.977 1313.37 494.755 Q1311.03 492.51 1311.03 488.76 Q1311.03 484.385 1313.95 482.163 Q1316.89 479.94 1322.7 479.94 L1328.67 479.94 L1328.67 479.524 Q1328.67 476.584 1326.73 474.987 Q1324.81 473.366 1321.31 473.366 Q1319.09 473.366 1316.98 473.899 Q1314.87 474.431 1312.93 475.496 L1312.93 471.561 Q1315.27 470.658 1317.47 470.218 Q1319.67 469.755 1321.75 469.755 Q1327.37 469.755 1330.15 472.672 Q1332.93 475.589 1332.93 481.514 Z\" fill=\"#000000\" fill-rule=\"evenodd\" fill-opacity=\"1\" /><path clip-path=\"url(#clip310)\" d=\"M1341.7 460.288 L1345.96 460.288 L1345.96 496.306 L1341.7 496.306 L1341.7 460.288 Z\" fill=\"#000000\" fill-rule=\"evenodd\" fill-opacity=\"1\" /><path clip-path=\"url(#clip310)\" d=\"M1354.43 486.075 L1354.43 470.38 L1358.69 470.38 L1358.69 485.913 Q1358.69 489.593 1360.13 491.445 Q1361.56 493.274 1364.43 493.274 Q1367.88 493.274 1369.87 491.075 Q1371.89 488.875 1371.89 485.079 L1371.89 470.38 L1376.15 470.38 L1376.15 496.306 L1371.89 496.306 L1371.89 492.325 Q1370.34 494.686 1368.28 495.843 Q1366.24 496.977 1363.53 496.977 Q1359.06 496.977 1356.75 494.2 Q1354.43 491.422 1354.43 486.075 M1365.15 469.755 L1365.15 469.755 Z\" fill=\"#000000\" fill-rule=\"evenodd\" fill-opacity=\"1\" /><path clip-path=\"url(#clip310)\" d=\"M1407.1 482.278 L1407.1 484.362 L1387.51 484.362 Q1387.79 488.76 1390.15 491.075 Q1392.54 493.366 1396.77 493.366 Q1399.23 493.366 1401.52 492.764 Q1403.83 492.162 1406.1 490.959 L1406.1 494.987 Q1403.81 495.959 1401.4 496.468 Q1398.99 496.977 1396.52 496.977 Q1390.31 496.977 1386.68 493.366 Q1383.07 489.755 1383.07 483.598 Q1383.07 477.232 1386.49 473.505 Q1389.94 469.755 1395.78 469.755 Q1401.01 469.755 1404.04 473.135 Q1407.1 476.491 1407.1 482.278 M1402.84 481.028 Q1402.79 477.533 1400.87 475.45 Q1398.97 473.366 1395.82 473.366 Q1392.26 473.366 1390.11 475.38 Q1387.98 477.394 1387.65 481.051 L1402.84 481.028 Z\" fill=\"#000000\" fill-rule=\"evenodd\" fill-opacity=\"1\" /><path clip-path=\"url(#clip310)\" d=\"M1430.62 471.144 L1430.62 475.172 Q1428.81 474.246 1426.87 473.783 Q1424.92 473.32 1422.84 473.32 Q1419.67 473.32 1418.07 474.292 Q1416.49 475.264 1416.49 477.209 Q1416.49 478.69 1417.63 479.547 Q1418.76 480.38 1422.19 481.144 L1423.65 481.468 Q1428.18 482.44 1430.08 484.223 Q1432 485.982 1432 489.153 Q1432 492.764 1429.13 494.871 Q1426.29 496.977 1421.29 496.977 Q1419.2 496.977 1416.93 496.561 Q1414.69 496.167 1412.19 495.357 L1412.19 490.959 Q1414.55 492.186 1416.84 492.811 Q1419.13 493.412 1421.38 493.412 Q1424.39 493.412 1426.01 492.394 Q1427.63 491.352 1427.63 489.477 Q1427.63 487.741 1426.45 486.815 Q1425.29 485.889 1421.33 485.033 L1419.85 484.686 Q1415.89 483.852 1414.13 482.139 Q1412.37 480.403 1412.37 477.394 Q1412.37 473.737 1414.97 471.746 Q1417.56 469.755 1422.33 469.755 Q1424.69 469.755 1426.77 470.102 Q1428.86 470.45 1430.62 471.144 Z\" fill=\"#000000\" fill-rule=\"evenodd\" fill-opacity=\"1\" /><path clip-path=\"url(#clip310)\" d=\"M1463.9 473.366 Q1460.48 473.366 1458.49 476.051 Q1456.49 478.713 1456.49 483.366 Q1456.49 488.019 1458.46 490.704 Q1460.45 493.366 1463.9 493.366 Q1467.3 493.366 1469.3 490.681 Q1471.29 487.996 1471.29 483.366 Q1471.29 478.76 1469.3 476.075 Q1467.3 473.366 1463.9 473.366 M1463.9 469.755 Q1469.46 469.755 1472.63 473.366 Q1475.8 476.977 1475.8 483.366 Q1475.8 489.732 1472.63 493.366 Q1469.46 496.977 1463.9 496.977 Q1458.32 496.977 1455.15 493.366 Q1452 489.732 1452 483.366 Q1452 476.977 1455.15 473.366 Q1458.32 469.755 1463.9 469.755 Z\" fill=\"#000000\" fill-rule=\"evenodd\" fill-opacity=\"1\" /><path clip-path=\"url(#clip310)\" d=\"M1495.99 460.288 L1495.99 463.829 L1491.91 463.829 Q1489.62 463.829 1488.72 464.755 Q1487.84 465.681 1487.84 468.089 L1487.84 470.38 L1494.85 470.38 L1494.85 473.69 L1487.84 473.69 L1487.84 496.306 L1483.55 496.306 L1483.55 473.69 L1479.48 473.69 L1479.48 470.38 L1483.55 470.38 L1483.55 468.575 Q1483.55 464.246 1485.57 462.278 Q1487.58 460.288 1491.96 460.288 L1495.99 460.288 Z\" fill=\"#000000\" fill-rule=\"evenodd\" fill-opacity=\"1\" /><path clip-path=\"url(#clip310)\" d=\"M1544.57 492.186 L1544.57 496.306 L1530.68 496.306 L1530.68 492.186 Q1534.78 489.94 1537.07 486.098 Q1539.36 482.255 1539.36 477.579 Q1539.36 472.024 1536.31 468.667 Q1533.25 465.311 1528.25 465.311 Q1523.25 465.311 1520.17 468.69 Q1517.12 472.047 1517.12 477.579 Q1517.12 482.255 1519.41 486.098 Q1521.73 489.94 1525.85 492.186 L1525.85 496.306 L1511.96 496.306 L1511.96 492.186 L1519.34 492.186 Q1515.68 488.968 1513.99 485.519 Q1512.33 482.07 1512.33 477.811 Q1512.33 470.45 1516.77 465.889 Q1521.19 461.329 1528.25 461.329 Q1535.27 461.329 1539.73 465.889 Q1544.18 470.426 1544.18 477.579 Q1544.18 482.07 1542.54 485.496 Q1540.89 488.922 1537.17 492.186 L1544.57 492.186 Z\" fill=\"#000000\" fill-rule=\"evenodd\" fill-opacity=\"1\" /></svg>\n"
      ]
     },
     "execution_count": 196,
     "metadata": {},
     "output_type": "execute_result"
    }
   ],
   "source": [
    "histogram(log.(svals), color = :steelblue, nbins = 100, size = (800,250), \n",
    "                     xticks = -14:2:10, xlims = (-14,10),\n",
    "                     label = \"logarithms of singular values of Ω\", legend = (0.2,0.5))"
   ]
  },
  {
   "cell_type": "markdown",
   "metadata": {},
   "source": [
    "It seems that the majority of singular values is below $\\exp(2)$.\n",
    "\n",
    "Let us choose the linear subspace that is spanned by all eigenvectors for eigenvalues $\\lambda \\geq \\exp(x)$. "
   ]
  },
  {
   "cell_type": "code",
   "execution_count": 198,
   "metadata": {},
   "outputs": [
    {
     "data": {
      "text/plain": [
       "31"
      ]
     },
     "execution_count": 198,
     "metadata": {},
     "output_type": "execute_result"
    }
   ],
   "source": [
    "λ = exp(2)\n",
    "d = findfirst(svals .< λ)"
   ]
  },
  {
   "cell_type": "markdown",
   "metadata": {},
   "source": [
    "We aim to approximate the data by a model $x = A\\zeta + b + \\epsilon$ of dimension, where $A\\in\\mathbb R^{D\\times d}$ and\n",
    "\n",
    "$$\\epsilon \\sim N(0,\\sigma^2\\mathbf{1}_D) \\text{ and } \\zeta \\sim N(\\nu, B)$$\n",
    "\n",
    "If $\\Omega = UDV^T$ we take $A$ to be the first $d$ columns of $V$ and $d=\\bar{x}$."
   ]
  },
  {
   "cell_type": "code",
   "execution_count": 199,
   "metadata": {},
   "outputs": [],
   "source": [
    "A = S.V[:, 1:d];\n",
    "b = x̄;"
   ]
  },
  {
   "cell_type": "markdown",
   "metadata": {},
   "source": [
    "We also take $\\sigma^2 = 0.001$, $\\nu = 0$ and $C=2\\mathbf 1_d$. \n",
    "\n",
    "This choice seems to work well."
   ]
  },
  {
   "cell_type": "code",
   "execution_count": 204,
   "metadata": {},
   "outputs": [],
   "source": [
    "σ² = 0.001\n",
    "ν = zeros(d)\n",
    "B = diagm(2 .* ones(d));"
   ]
  },
  {
   "cell_type": "markdown",
   "metadata": {},
   "source": [
    " We use the [Distributions.jl](https://juliastats.org/Distributions.jl/stable/) package to generate the distributions for $\\epsilon$ and $\\zeta$."
   ]
  },
  {
   "cell_type": "code",
   "execution_count": 205,
   "metadata": {},
   "outputs": [],
   "source": [
    "N_ζ = MvNormal(ν, B);\n",
    "N_ϵ = MvNormal(zeros(D), diagm(σ² .* ones(D)));"
   ]
  },
  {
   "cell_type": "markdown",
   "metadata": {},
   "source": [
    "Let us now use our model to generate synthetic data."
   ]
  },
  {
   "cell_type": "code",
   "execution_count": 206,
   "metadata": {},
   "outputs": [],
   "source": [
    "ζ = rand(N_ζ, 8)\n",
    "ϵ = rand(N_ϵ, 8)\n",
    "synthetic_data =[A * ζ[:,i] + b + ϵ[:,i] for i in 1:8];\n",
    "synthetic_images = [reshape(u, 28, 28) for u in synthetic_data];"
   ]
  },
  {
   "cell_type": "markdown",
   "metadata": {},
   "source": [
    "The array `synthetic_images` now contains 8 randomly chosen points from our model.\n",
    "\n",
    "Let us display the corresponding pictures."
   ]
  },
  {
   "cell_type": "code",
   "execution_count": 210,
   "metadata": {},
   "outputs": [
    {
     "data": {
      "text/html": [
       "<table><tbody><tr><td style='text-align:center;vertical-align:middle; margin: 0.5em;border:1px #90999f solid;border-collapse:collapse'><img style='max-width: 100px; max-height:100px;display:inline' src=\"data:image/png;base64,iVBORw0KGgoAAAANSUhEUgAAAHAAAABwCAAAAADji6uXAAAABGdBTUEAALGPC/xhBQAAAAFzUkdCAK7OHOkAAAAgY0hSTQAAeiYAAICEAAD6AAAAgOgAAHUwAADqYAAAOpgAABdwnLpRPAAABD1JREFUaAW9wU2InAcZAOBnZt/52dmdnWysG81mk5Co7aHYVppWgz+Y9JSjeBCPPShCUU8FEb15FQqKigiCIEHEelEUDzVoIR6qDRYF+2ehWdMl2c3OzuzsN78ufIVxaUQvfZ8nHGpjir57a2KIFnpKFcwctYwxDlDHEE1MsIwdhGQhWUgWVRQYKgVmmJg7QAM9NFA4qoECPbRQwRCLGKCJXaWQLCQLyWKKKeoYYmyugRp6KJRaKFDBTGmGBgrsmxsoHWAVdxGShWQhWTg0NreAiVKBqaN2lKZYxhgFZljBAeoYY4SJ0o5SSBaShWThUA2BASZKFcww8t/tY2quiwamCKziFuooUEVIFpKFZNHGHkZKNUwwxSIGqGKKwNjc1DsVSovYxQzvUdpESBaShWSxh8BYqYKp0kBpATUU/n8D1HAae2hhBSFZSBaSRWBsroIGphgpjVA3V8N5bGHbO9WwjDXcj7+jiy5CspAsJIuxo4ZKM3N1VLGBES7gC/glfoRP4zlzgc/jY3gfbuCHeAshWUgWkoW3NVBgEQPUsYABFtDBKs7iyxjhx7gfX8Uq/oZNnMCfsYbHsY7vKoVkIVlIFg4toEAoNTEw9yE8iMewgW/j12jii3gYp/A17CFwCy/jO3gRm+ggJAvJQrJwaII2ZuihhWPo4GE8iHP4BX5l7uMY4iq+hK/jWbyAJu7iAZzDNbQQkoVkIVl4WwMLWEYbZ/ERrOE6vuWop/B+tPAIfosTeBo9/EPpFXwOP0EPIVlIFpLFClYQaGCGwBn8DK+b+yY+jGdxHE/iJfwe57GB59FTuolNPIB1vIGQLCQLyaLALs5gG+9FC8/hdaXLuIwX0MNJBH6Az+As/onT6OCveAkdXMEjeFMpJAvJQrJYwuO4iGPYR4GbOIcr6OAGFvEXXMAF3MZP8Q0EruMkHsMTuIi72MJTeAYhWUgWksUZPIkq1vEBdPAGajiNq/gETqKD41jDXTyEKer4JLZwCh2McAO7WFUKyUKykCyu4LNKP8f3cQc7mOJPWMVFnMUf0MFH0VU6wDGso4sKCryKfYxxTCkkC8lCsriKF/EpPIHvYQfb+B0uYQ1d9HEJLZzEW1hGHx3ch0sYYxOPYgOv4A6uISQLyUKy+CAW8bR7O44Cq2hhiDbGGKGtNMEJtDDCCeyijVexhVMIyUKykCx+g3P4CqqYoI/r6OM2+ujjNGZYRBOPYh130MB5bKOKKqaY4iE08UeEZCFZSBYOvYZnsIL7sIHLuI1VLKGCAcZYwk1s4WU00cC/sIc26tjGGCPcwvMIyUKykCz8hy66eA3XvDtCspAsJAuJOgjJQrKQLCQ6QEgWkoVksYQ+Gii8+0KykCwkiz4aGCotYOJ/W0LfvdUwMtfGPkYIyUKykCwcqqKNPUwc1cQIFbTQVeqjhkV0zTURGJmbYKIUkoVkIdm/AUwvEWfZUhBnAAAAAElFTkSuQmCC\"></td><td style='text-align:center;vertical-align:middle; margin: 0.5em;border:1px #90999f solid;border-collapse:collapse'><img style='max-width: 100px; max-height:100px;display:inline' src=\"data:image/png;base64,iVBORw0KGgoAAAANSUhEUgAAAHAAAABwCAAAAADji6uXAAAABGdBTUEAALGPC/xhBQAAAAFzUkdCAK7OHOkAAAAgY0hSTQAAeiYAAICEAAD6AAAAgOgAAHUwAADqYAAAOpgAABdwnLpRPAAABJFJREFUaAW9wUuI3XcZANBz7/3uY55pMzMZmzSGapraqDjYVlAXLVEsFRdiFQQpFFGhIoguRcSV4MrqsmA27sRNBVMRXAgKom6M1UBo0zSPiTaZTGamc1//+zDwEy5D6wMX3znhrkALQ7QxwgCLeNN/1kHfTKCNfQSamGCKOkKykCwkC3eNMMEEI7QVE7QxQA1TxQL20cCioo8mKjQUIzQxMBOShWQhWQTqmGKCZYwUS9hBGwMz+4o6binamMObGJjpKWpoISQLyUKy6GCCrqJCpfiHYgV1DFDHSBEYYQ0VulhAE7ccVMMAIVlIFpJFX9HGAD3MYYQWRthCDVNMFA30sY5FLGGCPkZoYVNRVywhJAvJQrKoYYox6uigqxiaaWGABubRxTHch02sYaqoMMAH8RraaOIqQrKQLCSLykE11DHBCrYcNMYAy5iihi0soo73oocJWjiMV3EbTYRkIVlIFu5qYajoYaLYQhMVBmYOoYcG/qBYwjwmqPAgtnEUi/gNKoRkIVlIFjUMEYqRooUhAhVWsKW4qXgA38Tz+BNO4g2s4QKW0MPfsK0IyUKykCyaGKGBAZawhxaGGCq6isAyHsfHcQwdfA+vKHbRxCI+g11cVIRkIVlIFhWmOIQpbirqinnsocJDOIWT+BV2sYHv4EP4tGITR/BdPIuf4NeKkCwkC8mirXgDc1hAF7uKPcWTeBqX8Ft8FU/hAn6Ep/AlTPFhfBaHFOtmQrKQLCSLCmNFz1v9EI/hAr6N9+MHmGIVG/g9vqY4o3gBW7iEj5gJyUKykCyaGCvW0MMxPIev4wq+jJdxBp/DhuL7GGMDn8RLip/jPjyKDXwU31CEZCFZSBZ9rOPzeBArOIItfAqX8QSexyn08CK6OI0BbmKI07gXZ/AIxriETXwFLyAkC8lCsngcL+Fn+CV62MUmnsa38DDuwRCv4zLO4X0I7KCDh7CN4/gplvEajuOUIiQLyUKyuIHbeAbPYBPn8ShWMUZDcRaH8S6cxibW8TB+h/N4DL/ADcUi3oE9RUgWkoVkcRH3K76IZ3ECq4qGmecU5/AJXMEVVPgC/oxVTLCMCW7jKjZwCCFZSBaSxXvwKiqcxVn/XhPvxnWcxBNYQwfvxMewiDGmCLyCc1jHZYRkIVlIFjfwJJYxj5exjuuYYAHXcRjHcRRrWMUhPID7ccJMQ7GLFTyCF3EeIVlIFpLFFH9EH0MMcBRjNDCPCk1U+CuWcQ0ncBR9fAB1XMQeLqKOPdzCNUVIFpKFZDHCDuqKCa45aA5XFfPooo6/4B7s4Mf+NyFZSBaSRQdL2McINVRYRA999FDDFF3FBFNsK1oYYgH73l4LIVlIFpLFHPZwBAOMsWNmHjWMMcIYU3TQQA0j9BX7aKLyVh2EZCFZSBbXMYe/YwEVOggMMI97cQdz2MUdTNA308JQUXl7ewjJQrKQLPzLHdxRzKOGLrrYxlhxGHPoOWjov5siJAvJQrII9BzUddDYzDam/j9NhGQhWUgWdQQmaKKJIWoYoI4lDNBXBEZoYIw2Bqhjoqijhb6DQrKQLCT7J9CdPFCZ5HcTAAAAAElFTkSuQmCC\"></td><td style='text-align:center;vertical-align:middle; margin: 0.5em;border:1px #90999f solid;border-collapse:collapse'><img style='max-width: 100px; max-height:100px;display:inline' src=\"data:image/png;base64,iVBORw0KGgoAAAANSUhEUgAAAHAAAABwCAAAAADji6uXAAAABGdBTUEAALGPC/xhBQAAAAFzUkdCAK7OHOkAAAAgY0hSTQAAeiYAAICEAAD6AAAAgOgAAHUwAADqYAAAOpgAABdwnLpRPAAABGhJREFUaAW9wU2InHcdAOBnZn4zs7vZneyysSUmsc0GqYQokWANflxExdKDCILQq6KHIjmI4M2TVy/SevJSsAcvehIUrNCiLEhrwCBi2oRosk3iZrf7OfPOvDNj4C+MIYm0Hn7PE/7jKHYULaxgEy2M0cQETTTQQQ+bCAQmaKDGBMvYwUjRRUgWkoVkEaixo+iiwibaGCkm6GKKIfroo4UKI0zQwCJa2DQTqBGShWQhWbRQo4sKlZmRooEpKjNdNNBGA7uKHobYQxtT1OhhCyFZSBaSRYUFjNHAcWwo5jBSHMFAMUSlGGJiZkcxh6O4o9hCAyFZSBaShfsO0cAU22baijZ2sYBDD5p4tAEGaGGsaCIkC8lCsmhhjCbGGKGJCQ6wgH00ceiDG5sZIyQLyUKy6GCIsWKKiWKCfcVU0cTEw+awgC3/W0gWkoVk0Vd0MMQiKtSo0UWFVdzDHAK7ipM4hWvo4zSue7yQLCQLyaKNI6jQxACVYh4dzGERqzjECt5GH1/F03gV+2hjDdewiH10UaGHkCwkC8mijQlqNDHCAvroYx5tVIozWMU/0EcfLfwZF/AE9tDDBvZRKfYQkoVkIVlMMMIIHQQOzWzjDI7hKjZwE6t4EmvYVbypOI9D3PWgKUKykCwkiwHWMMAdDLGEUCyjxrrinuJlfAS38Bl8HecUl80s4HN4DTVCspAsJIvAFItYxCJ2sYE2rptp4jx+hA/jdSzhNZzDFVzC7/AEvoUe3katCMlCspAsOjjEEHtoofKgZ/FFVLiAX+KPeA5fw2W8jo/jBTyHKeZxHT0zIVlIFpLFPOZxR1GbOYHv4Wm8infwG+ziEC9jHefxMXwU/8QB7uATWMMOjmETIVlIFpLFPbyAF3EaHcVtDPFXXMOnsIg38V18Hr9HjYtYwnX0cA5P4V1s4G/YVIRkIVlIFu77CX6Nr+ASWthGB6ewh7N4Eb/FK7iM0/gVforv4NO4hsAUQwzQxkWsIyQLyUKyeAbfxM/wEl7ysBM4gxX8BWdxHM/iEnroeLQbOIlXsI6QLCQLyaKHL+D72MLP8Xe8g3ncxTL62MdFPI9b+CFGuOL9C8lCspAs7uHbWMZn8WU8jzXFuziGNv6EPVzFe/gG3sAAd7GLLlawjU+ijVUcxy8QkoVkIVk0UOEq/oAfY4AOjqKJTQy9PxVuK9Y9LCQLyUKyuI1n8CVMMVBcwS5ueLxlnMVTOIoVdLCCU5jgBk7jQ/gBQrKQLCSLA7yFt3ASZ7CACziumGAJQ1ToYQHvYQm3MEVP0cUG9nAXW3gDlxGShWQhWfgvN3HT453Av9BBjYEHLaGBIdpoo4EG+jhESBaShWThA7ilGHq0PcUR7CkCtSIQkoVkIVm4r42R/1/gSWxjjAMEehiiQgsDhGQhWUgWgZGigSnaaKIy08YIC5jDEFMMMcIW+mZq7GAOXQwVIVlIFpJFjUXUaGCAEVoeNFK0sYta0UYXfTOBGmMcINDFFCFZSBaS/Rtj/TXQHgrxawAAAABJRU5ErkJg\"></td><td style='text-align:center;vertical-align:middle; margin: 0.5em;border:1px #90999f solid;border-collapse:collapse'><img style='max-width: 100px; max-height:100px;display:inline' src=\"data:image/png;base64,iVBORw0KGgoAAAANSUhEUgAAAHAAAABwCAAAAADji6uXAAAABGdBTUEAALGPC/xhBQAAAAFzUkdCAK7OHOkAAAAgY0hSTQAAeiYAAICEAAD6AAAAgOgAAHUwAADqYAAAOpgAABdwnLpRPAAABFNJREFUaAW9wcuLnXcZAODnfOc9c8tkEufUTNOGJBZjGqaaKrRNcZGF3bnwVlddCNqNSxfiX9CdSxEXuhEXLagLUaRKQVFEKC0zaUupF9S0sczNZObMyZzrdxz4FQ7DNEItvM8TFWrFDAaKBiZoKBbQVSxhqOijVsyhj4mpCrWpkCwkC8miNjVAE02MMIueoosmFrGLJho4gQ5a6ClmMMAi9k01EJKFZCFZOFShxiL2MYcB+phHCwNMsIsmlrGFjmKIBgJDBEY4gS4WcICQLCQLycKhFoboYwZdnEQHIwwxRqUY47bjJhhiEfsYmbqLUwjJQrKQLBzqYw41xooa8zhQVKgUp7GDOfTQwAQn0UHPcQ3sISQLyUKyqFCjpwhFFw1FhVoxhwoNfAy30UEby3gTS9jCfdhWtNBGSBaShWQxg56pEWYwQIVZ3FUsYx49PIzAddzFZayjhwdxBmvYwwAN7CAkC8lCsugpKsVJ7OIU9tDHLProoYXzCFzAEp7CY7iGF/Ea9rGET+If+A9aCMlCspAsvOcERthX7CoqjBQn8CTa+C1uo4lncBVXsYmP4Hc4hwFeUQwRkoVkIVk41EBHUTlqgjHO4UH83FFfw3VT38QOvo3n8LajQrKQLCSLFlpo4gAjzKGnqBXv4B1HPY8rjmvjNfwBr6CFoSIkC8lCshhjiAZO4Q7mMEEfteN+iG8ofoNf4wLW8RMMsKlo4U94TBGShWQhWdQ4iRX0MYsN7+9ZfBGfN3UFY6xjG6v4F87iGj6BER7FGkKykCwkC4e6+DsmjruKr2IFz2Be8RL+ghUs4XE8gLOKAXr4M36PH+AaQrKQLCQLhy7hLN7GBI9iiA18C6uYx7ziOXwfgQ7m8QDOo40+nsJb+CO+jPsVIVlIFpLF1/EjUxvYxhuKp1GZ+hJexi66ihb6uIj7FetYwCMY4AzOISQLyUKyuIUfo4PLuIRVrHp/38VPcQmrmMEy1vEpnHZvX0FIFpKFZPEidvEwfoWn8XFcw4ypm3gLT+A6XscNtLCHG/gbKnTxafTxOtpo4yZCspAsJAuHLuA7CNxCBz/DNv6JIQI9vIQVvIs3cQUdPIHP4Zd4HPfhDTSxho9iBSFZSBaShUMv4AXFZ/AFtLCMFXQxgwMsoIPzOIXARXwWu7iKEdZwgAU8gpexhpAsJAvJ4iK62FK8ild9MG18D3dwHXfQwV+xaWoOIVlIFpJF4EnsYwPb2PDB7GBH8bx7ewghWUgWksUefoEzCJzBZXQwi2VsIXAaexigj3PYRQ9L2MQSbuI8DnALWwhsIyQLyUKy2FTsYIx/4ywGqHEXDbQwRKCPIW64t1uOGmETIVlIFpKF94xNvatoKFroooGe/18gJAvJQrLwP0wUAzQx9uHUCMlCspAsZtFXVKgwUsyirxj78GqEZCFZSBZ9LGIfNWpFE5WijR1UqB01iz4amCAwQqWoFfOoEJKFZCHZfwGugx/5nuDIswAAAABJRU5ErkJg\"></td><td style='text-align:center;vertical-align:middle; margin: 0.5em;border:1px #90999f solid;border-collapse:collapse'><img style='max-width: 100px; max-height:100px;display:inline' src=\"data:image/png;base64,iVBORw0KGgoAAAANSUhEUgAAAHAAAABwCAAAAADji6uXAAAABGdBTUEAALGPC/xhBQAAAAFzUkdCAK7OHOkAAAAgY0hSTQAAeiYAAICEAAD6AAAAgOgAAHUwAADqYAAAOpgAABdwnLpRPAAABIhJREFUaAW9wc1rpAcdAODnnfllZjaZJNNksx/NrkuWVguulXVRSumlUrS1C9JDKfRPEDwIgkdh/TiIB++Cd13Ei+BBKKweLBas4FIrNbRLSW12N9/JZD4y8xp4Dy+lBZGF3/NED7sITFBiEUMM0cUhSnQwQQNDlTYmOMG8yoHaDMZqIVlIFpLFLlpYwYbKHppo4ECljTb2sIACQzRQooddFGrzOFJpIhCShWQhWQRG2EAPJzjERC0wxQBnsI8uBhhhAXtoY4g5HOMIU8yigRFCspAsJIsTzGCMXZ9UoINjlRkMVQ5VptjxSUeYwxgjTDDBCCFZSBaSRRtDtQIlzmCAY8xgjBOfVqoN1Y5UWhihVAnJQrKQLEoUKFU6KHGsNkUHI5T+PyO1HkKykCwkixF62FU5VmthggnamHo0+wjJQrKQLJw6RhtDdHGIpkobffQ9uilCspAsJAunxihVhioTTDFSOYstlB5NSBaShWThVAsDzGGMHnZRqs1hB118G1s4xJu4itfwG2xgT20N76uFZCFZSBZOjdHCAD1sqc1jgCO8jKdxiJdwFa/hPL6JL+MNdHEDV3FdpVAJyUKykCycamCENnZwHtu4gLN4Ac/jNv6J7+MZlX/hx/glXsW3sIgRrqt1MEBIFpKFZFGoXcQxzuEyvoKbKHAPr+MFtU0s4RZ+i1/gGAUWsI7nsYbf4SWEZCFZSBYlVvEK2ljEKtbxHJZQ4AYuqkzxazyLGZUr+C6GGGAZY2ziCl5UCclCspAs1nATX0MfHTyBl7GECSYocIgu7qKBB7iCj/Eu9rCKHnbwLFawjidVQrKQLCSLWczjDu6hg6dwGUfYxgQ/QOAtLOMbaOKPeBoruIsPcQnzuIDf4w4+pxKShWQhWZzFT1T6eAO38JZKgRI/wyu4hkXM4Aaa+BuexDv4AH9AH99BX6WnEpKFZCFZ3EGBV/FTvIibeAeH+CL6WELTZxuhhe9hE3/CFp7BCnbwI/wQIVlIFpLFAvZxG7d9tsASzuE6CrSwgqewiimu4Ty+jr9iBQV6+BVuISQLyUKy2McaetjHuk87wX3cx1218+hgER/hS3gPGyhVVrGhFpKFZCFZLOJ9dHAZ17CIWRzhAoZo4j4G6OJtDLGGAo/hCayiiQF62MUX0MfPEZKFZCFZLOA5FHiIdexjH7v+tzcxizHeQwPz6KKBOQTuoY2QLCQLyeJDPMBXcRGfxxhjzOMALUzRQBNbaOAcdhEYYw4FZtFBiWM0UWKCkCwkC8nCqSbeRh8tzKHA49jGGqZoYgF9dPEXXMImHscDtDHCMlo4wAR/xwlCspAsJIvAFMvoYRtTTPEPLODPKk3MYAVbKnP4D7bwGIYo0McYh3gXXZWQLCQLyeIEDXSwj4uYoIke+ljFGC0U6KKJGRS4oFJiHm1McA+XsIe+SkgWkoVk4VSJf6s8RAMNLKPEDE7QxBgfoYUz+ABNNLCPEiU6mMXHmKqFZCFZSBZOjbGMLUyxhIfYwQhDTLCp0sYBppjDEZpoooE2ttFHiaFaSBaShWT/BZsSMfBiGl6PAAAAAElFTkSuQmCC\"></td><td style='text-align:center;vertical-align:middle; margin: 0.5em;border:1px #90999f solid;border-collapse:collapse'><img style='max-width: 100px; max-height:100px;display:inline' src=\"data:image/png;base64,iVBORw0KGgoAAAANSUhEUgAAAHAAAABwCAAAAADji6uXAAAABGdBTUEAALGPC/xhBQAAAAFzUkdCAK7OHOkAAAAgY0hSTQAAeiYAAICEAAD6AAAAgOgAAHUwAADqYAAAOpgAABdwnLpRPAAAA9RJREFUaAW9wd+LlXkdAODH93xmzpkz6vg7dE2dLSooCsLQjLZ2kW3BLhbBi24KYr0osLrqr+iym7C7MCQquioikELSaiVatlxciNhFzVnFcRzPrznvOSZ8L14OM0Z08Xme2IYOJhjjKfagh5FZgVpRYapYRE8jUGtUmCpCspAsJIsKA40uHmFesR1PUGEetWKq0dPoYqhoY4Q2BqgQkoVkIVlMsA0L6GMbpqgVPcUUfUWFKZawZtYI2/EYI7QwUEwRkoVkIVm0UGGi6KGLEQK1IlArOuhjzWYTPNaYmBWShWQhWUzxFGPMIVBjopjDGLWii77/X0gWkoVkEagwwhhjzGkExlhQtDzfLmzDqs06GCIkC8lCsqjxFAsYKMaoUGGgGOAI3sciehoHFfdR29pQEZKFZCFZVJhggApTxSLW0UVfsaroaZzAMi5rtDHSqLATfYRkIVlIFhMEarQxUPQUbfQV62Z9Cb/HP3BZY2TWC6ixiJAsJAvJwjPzqDHQCGxg1dYu4g3FJ23tuziI1/Az/BAhWUgWkkUXfZttKCpMNT6Hc7iEKc7iqc3OYA/O4FMY4EcIyUKykCz6thaoMcV+3McpTPF9nMQSbmAFn8Fb+A6O4BDu4ojifcwhJAvJQrLoYGizGoEa97EL13AeX8DH8R5uYh4H8TJ+g3Ucx5fxADtxDPcQkoVkIVkM0UIbXRxGGw/wT8VutHAWc1jGfgyxgRWcwRl8BbfwRXxWY68iJAvJQrL4EL6ODm6jwm9xGy/i0ziLX+M9nMbn0cLruICL6OBvOILX0DPrI4qQLCQLyWINd7GCuziAZXwMe7ETB/A9/ATnsA/r6KOL87iNP+DPmCAwxCmzQrKQLCSLIS5prOKritN4hAonsBc/x6uo8AM8xCewHX/CAG/iw+hgjCVUipAsJAvJwjPfxD7cxAh3cBQT7MAvcQe7cBVX8AbO4o/YgY9iH36FNv6Kl7CC6wgcQEgWkoVk4ZnruIBv4ZjNvqbxOv6Ca3iMt3EVKzZ7gqPo4ttYR0gWkoVk0cUqfozfYRkL2Ic5PMRVtDHCu9iBv2MBA7OOYzcWcBhtHMVP8QuEZCFZSBZDnESNFfwbS9iNQ3iAoxjjCV7BLXwD7+AeNtDCHdzw34VkIVlIFlNcMauLRczjRbQxwnYM0cK/MESNDxBmLWBgVhchWUgWkoUt9NFX3PG/2TBrYLM+QrKQLCQLiToIyUKykCwkGiIkC8lCspjHhhwVQrKQLCSLDXlaCMlCspAsWpgoFtHTWMKaWfOoMfV8gQVsoIM5rGGMkCwkC8n+A1vJ8Pwk1fQoAAAAAElFTkSuQmCC\"></td><td style='text-align:center;vertical-align:middle; margin: 0.5em;border:1px #90999f solid;border-collapse:collapse'><img style='max-width: 100px; max-height:100px;display:inline' src=\"data:image/png;base64,iVBORw0KGgoAAAANSUhEUgAAAHAAAABwCAAAAADji6uXAAAABGdBTUEAALGPC/xhBQAAAAFzUkdCAK7OHOkAAAAgY0hSTQAAeiYAAICEAAD6AAAAgOgAAHUwAADqYAAAOpgAABdwnLpRPAAAA/lJREFUaAW9wc2L1HUcAOBn5vdxdmZddzMtTQ2jLGu1Fwl7o6KiS0X0cgi6dejQIahu4TX6AyqCOnWLDgZBURAhUlL0eoheyOjNtTdCsW1mZ3d2Xlr4CoPYdoj8PE/UFZNoYwptp6swQIUBGhihjj7W4QQCIwwUNVToK0KykCwki6Gio2hjAjUsGguMMFD0nOqEoo9K0UAffTSxiJAsJAvJwkkjNDCJrqLCQLGECjWMEOj7ZyNFz9iiIiQLyUKyaKGr6KFndQNjfasbWl1IFpKFZNFVVBgYa6CHCSxhHRYw8N/UUUdIFpKFZNHEIkZoYYAeemihQhMLGDhdE+vxq39XoY6QLCQLycKKQB+LmEJP0cUk2la3C3uxhJesbhlNhGQhWUgWPQxRxxB/oYYKNfSsbgaPYBIXYAf240tswpyxFnoIyUKykCyGiqGxCmtQR8fqHsfDeAVt3IgH8DyO4X3FNHbiFYRkIVlIFi00MMRfij76qCNQQwvzxp7Do4oHcTcewbc4HxOYwiwewm4cQEgWkoVk0UVXsQ4LGGGIGvqKZcVmHEWlOKR4HZ/jHmzEMTyAfcbOQ0gWkoVk4aQKPdQUNQwU2zCDHXjK2E/YjDdxJ37Cs7gWN2OfU32HkCwkC8nCSQMMjK1BAzfhBuzBRbgMX+AwjqCLO/ADXkUdZ+M+YyfwDCYQkoVkIVkE+mhiEy7ENdiOWfyB47gRa/E6dmMK72AvOgjcjkvQwhJ+xEbM4U00EJKFZCFZ1PEY1uMsXITNmMcBnI37cRb6qOE4rsJTeBs/Yg/2o4MbcAn62IbLcRdeQEgWkoVkcTU+RYVpvIUNuBxPoqX4Cj9jMz7GL9iL7TiE23Ar6qgwgZ2ooYvr8SJCspAsJIsPcCvuw/mYQgPLOIIK3+A1XIENitfwO/ZgK/Zji+Ir7EaFbWhhIyYRkoVkIVlY8TVGeAJXYi1qaOEX7MQLqIzNYg7zmMcxdNDCLKbxG7bgewzxG0KykCwki3sxh4M46FR1bMEmrME0AltxHXZgFzbgHqv7FS+jjZAsJAvJooen8QaO4zA+UQxxFEfRwtVYjyG+xZf4AkfwLjo4jEU00HO6kCwkC8niU+zDOZjFBHaihz8wgw9xAh9jSdHEVsyiwjnYjgvwDW7GNIaYxiZ8hJAsJAvJYh6/Kw6gwixGmMIsLkUHGzHAAiqM0MYcjuNczOAW1HEEc+ighj8RkoVkIVl0jS1jGZ8Ze8//Zy1CspAsJAuJOgjJQrKQLCQLyUKykCysmELbmTeNkCwkC8nCirZiGvPOnDZCspAsJAsrahhhATP4E00soo4GFo0FAkuoY4AJLDnVxfgeAzTQREgWkoVkfwOarfGC5PgCOgAAAABJRU5ErkJg\"></td><td style='text-align:center;vertical-align:middle; margin: 0.5em;border:1px #90999f solid;border-collapse:collapse'><img style='max-width: 100px; max-height:100px;display:inline' src=\"data:image/png;base64,iVBORw0KGgoAAAANSUhEUgAAAHAAAABwCAAAAADji6uXAAAABGdBTUEAALGPC/xhBQAAAAFzUkdCAK7OHOkAAAAgY0hSTQAAeiYAAICEAAD6AAAAgOgAAHUwAADqYAAAOpgAABdwnLpRPAAABJFJREFUaAW9wU1opHcdAODnnfnNZJPNJtlkN4lbty2tLVXcVdB6sZ66CnpQqOBBpR6k0IMo9FDwoJaiYvHiUU/1E9GboDfFg1So+IFa2da2bmztfphldtNMPuadj9fAX5iEdW/ye55wYAYDt9dF7ag25rGFFloYYQaz6KPC0FEhWUgWkkUbjalZTDBAFzXGmEcfHQwxQa1oo8EMhhiYqtCgQoOQLCQLyWKMMY5hgj20FJWpPmYwQBsVakWFOWxhDkNMMEYHJzDBDYRkIVlIFhVmsatoY6zoosYYXbQUY3QwQmAVNU5gW7GEIXawh11FSBaShWTRYM9RgQ720CAwg20EjqGPFSxjBcvo4TV0sYF5tHBS0UVIFpKFZOFAo2gjUGOERcUWtjGPPvbRwRzOIvAPLOM+XMFbMUKDHazhDYRkIVlIFv6rwhgNGsWWYhk9DNDCCIEdzGMDL5o6iyFOYws1uqgRkoVkIVkE5lFjFxNHVegpArOKN7GOR/BdR72u6OFO9PGSIiQLyUKyGOGmooUORooKHewp9jBGjXvxWyziM6jcaohXHRWShWQhWSxiC4ERhpiYGqFCo6hxHn921FN4ylEP4y/YNBWShWQhWWyhgyFaWMBNRYUGjalH8UX8GKfxIzyLr+A3+BXuwlfxIJ7Bs6ZCspAsJAsHhooJthRd1KY6eBd+h6/hB7iJ7+EJPI4fYl0xxHewiLuxoQjJQrKQLBxyAmPsonbUEH/HRZxBg1fwEfwRH8OLbvUgHsXTipAsJAvJoo3AO3AZu271XnwAn8cZfAnfwodxAefxWfwN30eD9+HjeDtqPK0IyUKykCza+AKW0cHzeBkbuAOfwifxC1zANs7jHHYwwOvYwCq+jDswi0VFF+/ECwjJQrKQLD6HZ3AFP8e9WMNDGOAPuIg1XMAEd+E6Gizgo3gBffweA+yig4uo0FOEZCFZSBbfxiN4Px4z9VcE9rGIexQ30MYC/oSf4ZfYwBWcwvNuLyQLyUKy2MVDinU8gU/gnP/tJF5BD+tYxWV8Gvt4CXtYxP24D0s4jm8gJAvJQrJwyFU8iScVp/BB3Inj+BAaXMI13IP34DxuYAkP4OvYx7piC4t4DiFZSBaShUPuxjmcxQ528GtcxdvwTZzCPk6hhTUMcAnvxgJ+gjewgxoTvIwhQrKQLCQLh2xgQ3Ea9+NhVDiJCqvoYYhX0UYPD6DCT1G7vZAsJAvJYglvwT7+iYliE5t4zv9XSBaShWTRwkRxHCuYYIglbCtqzGETNYaKZUzQUtQI7KKNDoZYwBghWUgWksUANYZYwzXFCfwLM5jHDhrMoY0VLGEVe9jFNsa4gVVcxwp62EONkCwkC8liB5cUy1hAhQqLGGMfx9BgDg2O4TL20cMQS2jQYIIOXsNJNOgjJAvJQrJwSE+xhD2cwE2MsIYGmziOqwhsYgcVruAM9vEm+ljHVcxjgpAsJAvJwoEuOhhghJumRoprmMEMritO4bqiQRv/VvQVPUVfEZKFZCFZOFCjRoUWuhihMtXGABNT1xUtzGEXs+ibqk0FQrKQLCT7D/VSQdjUuowXAAAAAElFTkSuQmCC\"></td></tr></tbody></table><div><small>(a vector displayed as a row to save space)</small></div>"
      ],
      "text/plain": [
       "8-element Vector{Adjoint{Gray{Float64}, Matrix{Gray{Float64}}}}:\n",
       " [Gray{Float64}(-0.02651995662031536) Gray{Float64}(0.04994314284206627) … Gray{Float64}(0.06615994834310937) Gray{Float64}(-0.016048365314535365); Gray{Float64}(0.009002912572269477) Gray{Float64}(0.022349315389194695) … Gray{Float64}(0.008522518365546091) Gray{Float64}(0.0005057235279153941); … ; Gray{Float64}(0.0005273816892003247) Gray{Float64}(0.02835146396589278) … Gray{Float64}(0.012164902021216565) Gray{Float64}(0.009132255038876567); Gray{Float64}(-0.06056426069463619) Gray{Float64}(0.035668658491389144) … Gray{Float64}(-0.032211415202235215) Gray{Float64}(-0.022819974186795582)]\n",
       " [Gray{Float64}(-0.001150933000341242) Gray{Float64}(0.017410676985956327) … Gray{Float64}(0.025182198941331568) Gray{Float64}(0.03311781366681317); Gray{Float64}(-0.002063880732192798) Gray{Float64}(-0.04090341531697014) … Gray{Float64}(-0.011993016172882004) Gray{Float64}(-0.06267699438161649); … ; Gray{Float64}(0.017261419643490254) Gray{Float64}(-0.012076872334337501) … Gray{Float64}(-0.027781857458981995) Gray{Float64}(0.019468535475103296); Gray{Float64}(0.023653280736151607) Gray{Float64}(0.01560678524540004) … Gray{Float64}(-0.04294365618365552) Gray{Float64}(0.01880368340624888)]\n",
       " [Gray{Float64}(-0.01677459626352666) Gray{Float64}(-0.04906169453924915) … Gray{Float64}(-0.005351835700334566) Gray{Float64}(0.027956161761258775); Gray{Float64}(0.01487269486170559) Gray{Float64}(0.0012221600482437349) … Gray{Float64}(0.014746241847943539) Gray{Float64}(0.009842459722926161); … ; Gray{Float64}(0.013818409071235686) Gray{Float64}(-0.003613211163388634) … Gray{Float64}(0.024314751744304926) Gray{Float64}(-0.024964226921348066); Gray{Float64}(-0.018606723992670306) Gray{Float64}(0.048370015912116975) … Gray{Float64}(0.04440697354892217) Gray{Float64}(0.021321391838751782)]\n",
       " [Gray{Float64}(0.008746342988188728) Gray{Float64}(-0.01877498929933593) … Gray{Float64}(-0.007489328777958685) Gray{Float64}(-0.01913216458417903); Gray{Float64}(-0.013436010524726098) Gray{Float64}(-0.02970193182084641) … Gray{Float64}(-0.027316458005805823) Gray{Float64}(0.0020128716046812355); … ; Gray{Float64}(0.028270718148157167) Gray{Float64}(-0.03141606820204485) … Gray{Float64}(-0.03176691977287477) Gray{Float64}(-0.016497651672903214); Gray{Float64}(-0.02134388290443277) Gray{Float64}(0.047731595924897154) … Gray{Float64}(0.03404359760664868) Gray{Float64}(0.045038413251565386)]\n",
       " [Gray{Float64}(0.06359964886193958) Gray{Float64}(-0.01719009295083172) … Gray{Float64}(-0.009821178454411966) Gray{Float64}(-0.02228464619272737); Gray{Float64}(-0.0261272507196639) Gray{Float64}(0.022533393006883572) … Gray{Float64}(0.01182667219554051) Gray{Float64}(0.029152380925533516); … ; Gray{Float64}(-0.024283642493244845) Gray{Float64}(0.021198962248125817) … Gray{Float64}(0.0859144985402262) Gray{Float64}(-0.03979811454379088); Gray{Float64}(-0.03557895626943607) Gray{Float64}(-0.08201708337675319) … Gray{Float64}(-0.003914581873519061) Gray{Float64}(-0.02014515626963596)]\n",
       " [Gray{Float64}(0.0021796816183776084) Gray{Float64}(0.03504965223660997) … Gray{Float64}(-0.003763994101315226) Gray{Float64}(-0.02712325626390781); Gray{Float64}(0.01142743410359985) Gray{Float64}(-0.011141875474570084) … Gray{Float64}(-0.00011770431473541926) Gray{Float64}(0.0077820630680388815); … ; Gray{Float64}(-0.012472887489924393) Gray{Float64}(-0.06516859879241585) … Gray{Float64}(-0.021062899083375636) Gray{Float64}(0.01877596462213101); Gray{Float64}(0.011685849288002753) Gray{Float64}(-0.023623032085524253) … Gray{Float64}(0.020344484540126332) Gray{Float64}(-0.016123650241405465)]\n",
       " [Gray{Float64}(0.006553380838922956) Gray{Float64}(0.009191109839464957) … Gray{Float64}(-0.04087521720124762) Gray{Float64}(-0.036740504089848525); Gray{Float64}(-0.04604746305580109) Gray{Float64}(-0.04867173454578226) … Gray{Float64}(0.032646143635784365) Gray{Float64}(-0.05435150698260582); … ; Gray{Float64}(-0.0026325570620713895) Gray{Float64}(-0.05443767026342222) … Gray{Float64}(-0.09376191205952684) Gray{Float64}(0.006771188854419627); Gray{Float64}(-0.03311294334600175) Gray{Float64}(0.005845019836180773) … Gray{Float64}(0.023376026916731907) Gray{Float64}(0.05382124330000189)]\n",
       " [Gray{Float64}(-0.025088697020894446) Gray{Float64}(0.028885691598191512) … Gray{Float64}(-0.0045854554287648504) Gray{Float64}(-0.0009804828792762791); Gray{Float64}(0.010690506755237769) Gray{Float64}(0.022663599334149603) … Gray{Float64}(0.0026762574214245585) Gray{Float64}(-0.03186173143540247); … ; Gray{Float64}(-0.012624323104664785) Gray{Float64}(0.02260791921100457) … Gray{Float64}(-0.009866975255080387) Gray{Float64}(-0.03885605368749983); Gray{Float64}(-0.01809018498502473) Gray{Float64}(-0.023060827735462933) … Gray{Float64}(-0.028689637931576386) Gray{Float64}(0.017539913186819536)]"
      ]
     },
     "execution_count": 210,
     "metadata": {},
     "output_type": "execute_result"
    }
   ],
   "source": [
    "create_image(img) = [Gray(img[i,j]) for (i,j) in product(1:28, 1:28)]'\n",
    "map(create_image, synthetic_images)"
   ]
  },
  {
   "cell_type": "markdown",
   "metadata": {},
   "source": [
    "Finally, we use the distribution $N(\\nu,B)$ as a prior to compute the distribution of $(\\zeta \\mid x)$, where $x$ is an additional data point outside of our subsample"
   ]
  },
  {
   "cell_type": "code",
   "execution_count": 220,
   "metadata": {},
   "outputs": [],
   "source": [
    "testsample = setdiff(1:n_images, subsample);\n",
    "j = rand(testsample);\n",
    "x =  Float64.(vec(sneakers[:,:,j]));"
   ]
  },
  {
   "cell_type": "markdown",
   "metadata": {},
   "source": [
    "Let us look at the image corresponding to `x`."
   ]
  },
  {
   "cell_type": "code",
   "execution_count": 221,
   "metadata": {},
   "outputs": [
    {
     "data": {
      "image/png": "[encoded data removed]",
      "text/plain": [
       "28×28 reinterpret(reshape, Gray{N0f8}, ::Array{N0f8,2}) with eltype Gray{N0f8}:\n",
       " Gray{N0f8}(0.0)    Gray{N0f8}(0.0)    …  Gray{N0f8}(0.0)\n",
       " Gray{N0f8}(0.0)    Gray{N0f8}(0.0)       Gray{N0f8}(0.0)\n",
       " Gray{N0f8}(0.0)    Gray{N0f8}(0.0)       Gray{N0f8}(0.0)\n",
       " Gray{N0f8}(0.0)    Gray{N0f8}(0.0)       Gray{N0f8}(0.0)\n",
       " Gray{N0f8}(0.0)    Gray{N0f8}(0.0)       Gray{N0f8}(0.0)\n",
       " Gray{N0f8}(0.0)    Gray{N0f8}(0.0)    …  Gray{N0f8}(0.0)\n",
       " Gray{N0f8}(0.0)    Gray{N0f8}(0.0)       Gray{N0f8}(0.0)\n",
       " Gray{N0f8}(0.0)    Gray{N0f8}(0.0)       Gray{N0f8}(0.0)\n",
       " Gray{N0f8}(0.0)    Gray{N0f8}(0.0)       Gray{N0f8}(0.0)\n",
       " Gray{N0f8}(0.0)    Gray{N0f8}(0.0)       Gray{N0f8}(0.0)\n",
       " Gray{N0f8}(0.0)    Gray{N0f8}(0.0)    …  Gray{N0f8}(0.0)\n",
       " Gray{N0f8}(0.0)    Gray{N0f8}(0.0)       Gray{N0f8}(0.0)\n",
       " Gray{N0f8}(0.0)    Gray{N0f8}(0.012)     Gray{N0f8}(0.0)\n",
       " ⋮                                     ⋱  \n",
       " Gray{N0f8}(0.498)  Gray{N0f8}(0.89)      Gray{N0f8}(0.0)\n",
       " Gray{N0f8}(0.231)  Gray{N0f8}(0.988)     Gray{N0f8}(0.09)\n",
       " Gray{N0f8}(0.0)    Gray{N0f8}(0.071)     Gray{N0f8}(0.267)\n",
       " Gray{N0f8}(0.0)    Gray{N0f8}(0.0)       Gray{N0f8}(0.18)\n",
       " Gray{N0f8}(0.0)    Gray{N0f8}(0.0)    …  Gray{N0f8}(0.0)\n",
       " Gray{N0f8}(0.0)    Gray{N0f8}(0.0)       Gray{N0f8}(0.0)\n",
       " Gray{N0f8}(0.0)    Gray{N0f8}(0.0)       Gray{N0f8}(0.0)\n",
       " Gray{N0f8}(0.0)    Gray{N0f8}(0.0)       Gray{N0f8}(0.0)\n",
       " Gray{N0f8}(0.0)    Gray{N0f8}(0.0)       Gray{N0f8}(0.0)\n",
       " Gray{N0f8}(0.0)    Gray{N0f8}(0.0)    …  Gray{N0f8}(0.0)\n",
       " Gray{N0f8}(0.0)    Gray{N0f8}(0.0)       Gray{N0f8}(0.0)\n",
       " Gray{N0f8}(0.0)    Gray{N0f8}(0.0)       Gray{N0f8}(0.0)"
      ]
     },
     "execution_count": 221,
     "metadata": {},
     "output_type": "execute_result"
    }
   ],
   "source": [
    "FashionMNIST.convert2image(sneakers[:,:,j])"
   ]
  },
  {
   "cell_type": "markdown",
   "metadata": {},
   "source": [
    "We use the formula for the posterior distribution"
   ]
  },
  {
   "cell_type": "code",
   "execution_count": 222,
   "metadata": {},
   "outputs": [],
   "source": [
    "B⁻¹ = inv(B)\n",
    "C = inv((1/σ²) .* diagm(ones(d)) + B⁻¹)\n",
    "m = C * ((1/σ²) .* A' * (x - b) + B⁻¹ * ν);\n",
    "N_ζ_posterior = MvNormal(m, C);"
   ]
  },
  {
   "cell_type": "markdown",
   "metadata": {},
   "source": [
    "and use the posterior distribution for generating synthetic data."
   ]
  },
  {
   "cell_type": "code",
   "execution_count": 223,
   "metadata": {},
   "outputs": [],
   "source": [
    "ζ = rand(N_ζ_posterior, 4)\n",
    "ϵ = rand(N_ϵ, 4)\n",
    "synthetic_data_2 =[A * ζ[:,i] + b + ϵ[:,i] for i in 1:4]\n",
    "synthetic_images_2 = [reshape(u, 28, 28) for u in synthetic_data_2];"
   ]
  },
  {
   "cell_type": "markdown",
   "metadata": {},
   "source": [
    "Here is again the original image:"
   ]
  },
  {
   "cell_type": "code",
   "execution_count": 224,
   "metadata": {},
   "outputs": [
    {
     "data": {
      "image/png": "[encoded data removed]",
      "text/plain": [
       "28×28 reinterpret(reshape, Gray{N0f8}, ::Array{N0f8,2}) with eltype Gray{N0f8}:\n",
       " Gray{N0f8}(0.0)    Gray{N0f8}(0.0)    …  Gray{N0f8}(0.0)\n",
       " Gray{N0f8}(0.0)    Gray{N0f8}(0.0)       Gray{N0f8}(0.0)\n",
       " Gray{N0f8}(0.0)    Gray{N0f8}(0.0)       Gray{N0f8}(0.0)\n",
       " Gray{N0f8}(0.0)    Gray{N0f8}(0.0)       Gray{N0f8}(0.0)\n",
       " Gray{N0f8}(0.0)    Gray{N0f8}(0.0)       Gray{N0f8}(0.0)\n",
       " Gray{N0f8}(0.0)    Gray{N0f8}(0.0)    …  Gray{N0f8}(0.0)\n",
       " Gray{N0f8}(0.0)    Gray{N0f8}(0.0)       Gray{N0f8}(0.0)\n",
       " Gray{N0f8}(0.0)    Gray{N0f8}(0.0)       Gray{N0f8}(0.0)\n",
       " Gray{N0f8}(0.0)    Gray{N0f8}(0.0)       Gray{N0f8}(0.0)\n",
       " Gray{N0f8}(0.0)    Gray{N0f8}(0.0)       Gray{N0f8}(0.0)\n",
       " Gray{N0f8}(0.0)    Gray{N0f8}(0.0)    …  Gray{N0f8}(0.0)\n",
       " Gray{N0f8}(0.0)    Gray{N0f8}(0.0)       Gray{N0f8}(0.0)\n",
       " Gray{N0f8}(0.0)    Gray{N0f8}(0.012)     Gray{N0f8}(0.0)\n",
       " ⋮                                     ⋱  \n",
       " Gray{N0f8}(0.498)  Gray{N0f8}(0.89)      Gray{N0f8}(0.0)\n",
       " Gray{N0f8}(0.231)  Gray{N0f8}(0.988)     Gray{N0f8}(0.09)\n",
       " Gray{N0f8}(0.0)    Gray{N0f8}(0.071)     Gray{N0f8}(0.267)\n",
       " Gray{N0f8}(0.0)    Gray{N0f8}(0.0)       Gray{N0f8}(0.18)\n",
       " Gray{N0f8}(0.0)    Gray{N0f8}(0.0)    …  Gray{N0f8}(0.0)\n",
       " Gray{N0f8}(0.0)    Gray{N0f8}(0.0)       Gray{N0f8}(0.0)\n",
       " Gray{N0f8}(0.0)    Gray{N0f8}(0.0)       Gray{N0f8}(0.0)\n",
       " Gray{N0f8}(0.0)    Gray{N0f8}(0.0)       Gray{N0f8}(0.0)\n",
       " Gray{N0f8}(0.0)    Gray{N0f8}(0.0)       Gray{N0f8}(0.0)\n",
       " Gray{N0f8}(0.0)    Gray{N0f8}(0.0)    …  Gray{N0f8}(0.0)\n",
       " Gray{N0f8}(0.0)    Gray{N0f8}(0.0)       Gray{N0f8}(0.0)\n",
       " Gray{N0f8}(0.0)    Gray{N0f8}(0.0)       Gray{N0f8}(0.0)"
      ]
     },
     "execution_count": 224,
     "metadata": {},
     "output_type": "execute_result"
    }
   ],
   "source": [
    "FashionMNIST.convert2image(sneakers[:,:,j])"
   ]
  },
  {
   "cell_type": "markdown",
   "metadata": {},
   "source": [
    "and the newly generated images:"
   ]
  },
  {
   "cell_type": "code",
   "execution_count": 225,
   "metadata": {},
   "outputs": [
    {
     "data": {
      "text/html": [
       "<table><tbody><tr><td style='text-align:center;vertical-align:middle; margin: 0.5em;border:1px #90999f solid;border-collapse:collapse'><img style='max-width: 100px; max-height:100px;display:inline' src=\"data:image/png;base64,iVBORw0KGgoAAAANSUhEUgAAAHAAAABwCAAAAADji6uXAAAABGdBTUEAALGPC/xhBQAAAAFzUkdCAK7OHOkAAAAgY0hSTQAAeiYAAICEAAD6AAAAgOgAAHUwAADqYAAAOpgAABdwnLpRPAAABHhJREFUaAW9wV2LXHcdAOBnzvnNzO7sJNvQuklMbNdCMKhVKRTB4gcQ9EZ8uem1KEIv/UJ+BL3US8ELoYJNMdU0TTDNi407u/O2Z86cGQN/YVgab3/PE307B5grtlhjiApL9LFGDxsM0WBfsfRFA2xxiM8RkoVkIVm0GGCFNSo0CEVjp1Vs0UeDAZaKA8xd1KHDTBGShWQhWeyjVcxQYYgtxmjR+KKhYqWoMEcfLcbosHRRSBaShWTRx9rOBo2ixR6GaBQ9bDFT9FBhgDU22EeDNSpscI4DhGQhWUgWZwg7NTrFFkOs0McWa/TRKrYYYoE+OozwHJdRYaLYICQLyUKy8MJa0bMzwApzDFDjXNFigBWGaBR9tHiuOHPREiFZSBaSxRBrdOhjpagULVrFEI1ipdhDiwUWihEqLNG5KCQLyUKyaFDjEqao0aHBq3hup7FTY4AWFQJrxUJxgDUaOyFZSBaSRYUOjaKPEaY4wx7OvdxX8ATfwxP81UVzRYWNIiQLyUKyOMQJVooWI0VghSEaOyO8jR/jJr6B3+E+Tu308Es8we/RIiQLyUKyOEWFDWp0mCiWik5R4wZ+hfexwIdY4j08wm8xwav4Kb6Nd/ER7iIkC8lCsuihQk8xRKPYQ4053sHP8AtMcQePMMafcR3v4Rg30EfgAdb4Gv6BkCwkC8lig0uY4DLO0cMWFd7Bb/ADbHAPz/AxGryJGzjBBmPs4xEe4Tqu4Uf4ACFZSBaSxRY9vI4Ox/g6voyf41sI/A2PcIJD9DHBB3gbr+AyeuhwDTcR6OM2RgjJQrKQLMb4Nb6DDY5wjANscBcf4whXcII72GCMHv6Om3iKCmMc4TFavIbruIWQLCQLyeIn+CHWOMIB/oOHmKDG6/gMLdZoMcAWC9zHQ7yFEWr8G19CX3GCBiFZSBaSxRuKGWbY4jGu4gwrPMcZPsVVnGKDHr6K2+jjGG/ZeYYtnuIUE4RkIVlIFn/CN/FdjHAZEzR4jiWWeIjvK97FEc4wxCH+hU9whk9R4yHuoMMUTxCShWQhWfwB9/AmbuEWXsNVvIF9nOMKnuEB/oIP8Tn+iali5v/bxzFCspAsJAsv3Md9/NHL9bD1cge4gTFqtIoebuMEQ8VdhGQhWUgWXhjjEmaY4RJ6WGOOGhUuY4DPcB1HuIc59vEANzHHNXyENe6hQoWQLCQLycILM8wUezjDGD0c4gCP0WCGEaaYYIUFTtDhE0xxhgm2CCwwQkgWkoVk4X/6aHGOPczsnKLGEjUWLqqxUDSKZzjEKVpFhZAsJAvJokanCAyw9XJr1IoRVtigc1GFGlPsY4UOC4RkIVlIFjV6aO1sFCMEztApagywwAGWdmp02GCDHpZ2NgjJQrKQLDp0eAVzbDBEgyVqxSGmaNAp5nYGWGEP54ojPHVRSBaShWTRKSaKPSwRWGOLClNcwQwdBljZae3sYY2nGGCFGn2EZCFZSBZe6GGrOEeFLXro0Mcac6xQYYU9nOMKThR9TBUjLFBjjFOEZCFZSPZf+WxUjjLY67sAAAAASUVORK5C\"></td><td style='text-align:center;vertical-align:middle; margin: 0.5em;border:1px #90999f solid;border-collapse:collapse'><img style='max-width: 100px; max-height:100px;display:inline' src=\"data:image/png;base64,iVBORw0KGgoAAAANSUhEUgAAAHAAAABwCAAAAADji6uXAAAABGdBTUEAALGPC/xhBQAAAAFzUkdCAK7OHOkAAAAgY0hSTQAAeiYAAICEAAD6AAAAgOgAAHUwAADqYAAAOpgAABdwnLpRPAAABJJJREFUaAW9wUuPW2cZAODnHL8+9sx4nMmFJu00QANShBAS4tIVAnFZVIIFC1igbtofgNjye1h20303qBICAV1QKUWEBBEYkiCaNJmL7bF9fA6RPiRrBGzf5wkv1BigxhodKjRYocIeTlFhD2fYx6niABucosYAHTZo0GGAkCwkC8ligA32sUSHMdboMECLU+xggQ1qrDDGOZ5jpOjQYYApTtGjRUgWkoVk0StaDBQtOjRY2FooFoqlrRotBujRYYMTDDHCGUKykCwkiz0ssUaraDDHAnuYYYxz1Oj8t04RqNDZWmONCUKykCwkiw1adBiiwxwVpjhRDBSdrQE2LmqxixYjrNArzhCShWQhWcwVO+gwxBo9jm3NFCO0qNFihKViiB7nGKJDb2uEkCwkC8nCfyzRKWp0ignOUKHHEgd4jkBna61oUGMX55grlgjJQrKQLC5jjqWtoWKNHiMsMUCH5xgjMMMOFrZWijU2mOAMNUKykCwki2MMFA0qrNAjsESLCiMsbE1xgM9jhV+7aIMGG0WHkCwkC8liiE6xwhg99tBhgRoV5ooBbuHHuIGv4z3cx79sHeK7il/gGkKykCwkiyV2sUaDjWLmog0OcIA38VM8xUNcxvdxF+/iBJ/Bj/A6JvgA9xGShWQhWVSYY4xzW4EWFSZ4BW/jLWxwgj9hB+/jKt7CNxRD3MLvMcZN3ENIFpKFZNErAhWmmGGKXXwZb+INTPAYd/AYA1zBIf6IBtdwjE9wF9dxGz/E7xCShWQhWUwV1/ASanwKh3gDX8EhPsRf0aDGZTzCHXwa30SFZ3iOMb6GJc7xLVxCSBaShWTR4+e4hTVexpdwFS3u4X3cxCHW+C06jPEEO1ihQY/vYI6neI5LWOOzCMlCspAsvocfYA89BniIv+AEU9xEj4c4xT4eYKq4iwPcRIN7+Biv4QoOcIYGIVlIFpLFt/EqPsIQH2KCfaxwihon+AA3MUePc7yE6zjEJbyGGi2eYoYj7GGGkCwkC8niHXwRN3AVr+NvOEaFFY7wCn6CGRa4jae4jAmO8Hc8wiPM8GcscYQaDxCShWQhWfwKP8MNfAGHuIwr+CqO8Dms8AxP8BHexR8wwz8wwhytrRqdYoTbCMlCspAsJriDO/glNi4aYu3/28EBJpiixwA1hhjiOv6J3yAkC8lCspjjGs5wjl20mGCNUxygwxJTnCtexRFO8TIeY4oxPsF1fIy7OMEaIVlIFpJFhyeKCktFrdjHDo6xo2ixwANF4D7O8BQNZniIHgNsMEZIFpKFZHEF55ijwVLxRFFjhg4rdOgUC8UAFSoEZi7aINAhJAvJQrI4QatYokan2MVcUaFVVKjQYQcNjlFjoQi0ihotAiFZSBaSRYPreIgpZqgxxtrWGCsMsEKvWGCh6Gy1toZYokVIFpKFZDHHHIE5BlhhhRZDxUKxsVWjRotdzP1vS0WNkCwkC8nCC5WiRaOoMMIAcxc1WKFDhwZzxT5OMUSLQI0laoRkIVlIFl7o0WKEpWKtCDRYKRqs0KDGDp4pAitFhR5rjNBghZAsJAvJ/g0SelofvS7e2QAAAABJRU5ErkJg\"></td><td style='text-align:center;vertical-align:middle; margin: 0.5em;border:1px #90999f solid;border-collapse:collapse'><img style='max-width: 100px; max-height:100px;display:inline' src=\"data:image/png;base64,iVBORw0KGgoAAAANSUhEUgAAAHAAAABwCAAAAADji6uXAAAABGdBTUEAALGPC/xhBQAAAAFzUkdCAK7OHOkAAAAgY0hSTQAAeiYAAICEAAD6AAAAgOgAAHUwAADqYAAAOpgAABdwnLpRPAAABG1JREFUaAW9wU2LXXcdAODn3vO7d+6dmU4nTiZvQ0qaLhqRQpS6FFwI3bhQEFTwE7jqxpUfxo+g+4LFhRbbhVQxVKyQJgrOpJnJvN2Xc88518C/cDrE9e95wkuv41QxROeqLVwqxlgrVv6/CRq0WGMTMwwQkoVkIVl46VSvwxCdXuhVmCsCjWIDSwywRoMJAg0GWCMkC8lCsvA1G1iic9WF3hxj1Gj0XscR1lhiC5d6I6wQkoVkIVn4mqViCzNM0KDTG6F2VeAIU2ziBAtsYo05BoqQLCQLyWKCBQJjTLDEGAussYMLDLFSjLBCoMEYQzzHCC1qDDFAjQohWUgWksUCQwwVLzDFUq/GNs4wwgoVVhgqatSKIdZoXDVBSBaShWQxwQo1agQaV62wULSKhaJCoNHbwBIjzPUuEZKFZCFZLLHWa9CgQqto9TrFBIE5Wled6W2jRq0IyUKykCzWrhpgjRFaxRQrNHoLbGOM93CIj7yqRq0YISQLyUKy2MESS0ywUDR6c4xcdQ+/xD7ewGf4N57qjfELnOC36BCShWQhWZzpLTBVzF21whhv4sf4NU7xCW5jH4/wG8zwNr6PhzjA5/gbQrKQLCSLfTzDFHPMvarCNbyPX2GMx3iKHfwB1/EDHOAOhtjFZzjB2zhGSBaShWRxin2cYIoaHSbYw1v4Ed5XPMIZPscA9/EA/0SHfUzwJf6Kd3AXP8EfEZKFZCFZ1LiOXVzDCDfwLfwQ76LCn/ECNW6hwiHm2MO30WCBZ7iD+zjCAge4i5AsJAvJYoyf4w28iWvYwQ1M8XucY4J9HONjtNjGM6zR4BL3cB+BJ7iDLXwDuwjJQrKQLH6K97CNNTYwwwc4xwEe4FM8wQSb+AILbOIxtnATp1jhLm5jggsEBgjJQrKQLN7FAEdY4hAzvKZ4jhP8A2fYwS5qzHAP38MMD7GPBoEZLtDhLzhBSBaShWTxO3wHFb6LERrMcYwZTvBNtLiF27jEEDfQ4BTH+Bf+iwFO8Qhn2MNjhGQhWUgWH+JnOMBDvIM7uIkhdnEDJ1jgU3yIx/g7ahziCCPUGGKKS8UWKtxFSBaShWThpf/gEB8rNlArNjHCDLVXXccmHmAPHSqsMcAOBljiE4RkIVlIFr6yiy+xjRoDdLjELaxxHVOs8Rx7WCpu4immqDHBBZ7gOS4UIVlIFpKFrxwrAmPM0aLDJUY4xjYusECrmOBP2MYXaDBSrBSbmCEkC8lCshhiBy8wwQuvOscAI5xgjAkuFBeY4lgxxEqxgSVm2EBIFpKFZOGlRrFQVGgxwkoxxlIxR4UROrSYI9DoVWj0GoRkIVlIFhUuFIEGLaaosMIWxlhiijkqNOgUFRpFp2gxVIwVIVlIFpLFUK9Chw5zVIpLrDHBQNGi02sVgUavU9QYICQLyUKyWGGMBkvFCBuo0SpmGGOhWGOIzlWNXoVWMcYaIVlIFpLFBDNsYKloMECNMWoEOr0Om1hhpajQ4hrO0Spew7kiJAvJQrL/Acd3SkIkvp1xAAAAAElFTkSuQmCC\"></td><td style='text-align:center;vertical-align:middle; margin: 0.5em;border:1px #90999f solid;border-collapse:collapse'><img style='max-width: 100px; max-height:100px;display:inline' src=\"data:image/png;base64,iVBORw0KGgoAAAANSUhEUgAAAHAAAABwCAAAAADji6uXAAAABGdBTUEAALGPC/xhBQAAAAFzUkdCAK7OHOkAAAAgY0hSTQAAeiYAAICEAAD6AAAAgOgAAHUwAADqYAAAOpgAABdwnLpRPAAABIFJREFUaAW9wc+OW3cZANDj688eezyZTNJMkrYUSqgQqhSRUtjQDUKq1DwAC1YsEOzYseEZeAUkeALEQ4BYsCGoFETSEJGJ8nfqGY/HHtv3XhPph2SNBlh+54TXumgUOzhDjQqti/pYKoaYOy+wRoM+KjSoEJKFZCFZBFr00McUPQwxxxWMsYUFOlg6r0JrY4iZYokBepghJAvJQrJosEaLDnpYYaU4USzQx9J5S7TO6yDQKFZoFCFZSBaSxRoVKjRoMECLNVY2lngDh7iKUyzQRYMtNJgoKrRoMMQcIVlIFpLFHo6wgzW6OMYafRv7eIlDbOMIraJCgwV66GELNc4Uc4wQkoVkIVksFSvM0ccaFZboosEUA6zQokUXgYWNwFyxUlzDK5wiJAvJQrJoFXNUWGIXE3SwRoU5hmjQQR8jjBGoFXPFGhVGeGUjJAvJQrI4Qx89nGKAU+xgiArH6GChqHEZQ6wxcVGtOEEXjSIkC8lCsqiwhVqxwBotXiq6GGFh4xgtAnfxdzzDqYuGmCpCspAsJIsKKywVa8VCsYMpJs77AD/ELm7jz/glTm18CXexwm8UIVlIFpJFjdpFDXqY2ejgffwAv8AjTNDiDj7CC8zwDj7G9zHG7/EAIVlIFpLFZSywg1c2trCw8T5+hJ9hjn/gEXZwH9fxY3yMGS5hhAdY4gMcICQLyUKyOEOFY0UHa1zFNr6Mn+NbuInH+BQvcYj38FWM8RA9bOMEn2If30UXf0RIFpKFZLFAD7cQ2MJNfBN38RHW+Cd+hxrbihqf4TbewylqPME1vI0JBvgEv0JIFpKFZHEDP8W7eBs93MIeLuM+/opd3MBz/A1n+BpOcA+nGKDCh5jhKXZRYR/7CMlCspAsvodPMMdV7GGKIzzGCO/gC3yODvZwH89whOfo4i30McYxRqjQQYN9hGQhWUgWd7CHMR7jEU7QRx//QhcHmGGNSzjDU7yJD3ENl/AuBlihwhQPcR8vEZKFZCFZ/BZ3cAPfwAQ38TlajPECI0zxJoZ4C0u0GOIML/EUx6jxAI/xHH08Q0gWkoVk8Sf8BF/B1/FtLHAb+xjhFuaY4B7GOMATfIYJGizQ+N++g5AsJAvJwmsHOMAf8GtsY6ao0PrvKlzBG7iJLgJjbOEm5thGjb8gJAvJQrII1NjCAKeKEfoY4zpWWGEHNbq4jIliiRcYYYU+7imeYBczhGQhWUgWXcUCLWrs4BQDXMICDbZxiDVqTNHiEMc4QYM1HipuoI8xugjJQrKQLLxWYw9H6OEIXRwqLmGKKQK14tTG2Hk9rPDcRgchWUgWkkVHcYQeVoq14jpeoI8lWlRoFV30MXde66IGIVlIFpJFi0BgqdjGDH3MFLuYYIU1hpijQQddNDYaF/UQkoVkIVlUWKJCi6s4UyyxhS6OUGMLHcwxwBoVGv/fLiYIyUKykCzOFA328QUaxRVFB13UWKCvOMMAU+ygixO0ij6WzgvJQrKQLPxHhVfOG2MbNWoM0cUU1zDDTDG10UWDJXpYYaYIyUKykOzf6TJa0Fjx6o4AAAAASUVORK5C\"></td></tr></tbody></table><div><small>(a vector displayed as a row to save space)</small></div>"
      ],
      "text/plain": [
       "4-element Vector{Adjoint{Gray{Float64}, Matrix{Gray{Float64}}}}:\n",
       " [Gray{Float64}(0.01790289056433033) Gray{Float64}(0.020821422827670508) … Gray{Float64}(0.07846279455670065) Gray{Float64}(-0.027663176295717923); Gray{Float64}(-0.06209116082498092) Gray{Float64}(0.022897197294160013) … Gray{Float64}(0.031125649892497234) Gray{Float64}(-0.0011363181603790456); … ; Gray{Float64}(-0.0229017743261409) Gray{Float64}(-0.01540742912852429) … Gray{Float64}(0.011930366719666807) Gray{Float64}(0.03257802035949876); Gray{Float64}(-0.03775427731060893) Gray{Float64}(0.0019653403136814154) … Gray{Float64}(0.05829487289309807) Gray{Float64}(-0.022361312155443624)]\n",
       " [Gray{Float64}(-0.014688599409079925) Gray{Float64}(0.007602176785455106) … Gray{Float64}(0.014742600978614429) Gray{Float64}(0.028596589562857617); Gray{Float64}(0.01150354024609376) Gray{Float64}(-0.0020209234786207246) … Gray{Float64}(-0.06954774376054443) Gray{Float64}(-0.016323738769982197); … ; Gray{Float64}(-0.06015288343580764) Gray{Float64}(0.003952153554740799) … Gray{Float64}(-0.035621663758638844) Gray{Float64}(0.016286603110619333); Gray{Float64}(-0.00197923324576934) Gray{Float64}(-0.02768762615931556) … Gray{Float64}(0.024502485407074257) Gray{Float64}(0.0010316702709977797)]\n",
       " [Gray{Float64}(-0.008980949089786694) Gray{Float64}(0.05977284828151989) … Gray{Float64}(-0.04351021298239039) Gray{Float64}(0.005602646770838758); Gray{Float64}(-0.0043733602619265045) Gray{Float64}(-0.020609139969235343) … Gray{Float64}(0.005447914431581497) Gray{Float64}(-0.030467557823505676); … ; Gray{Float64}(0.008840991140195919) Gray{Float64}(0.022640514917964562) … Gray{Float64}(0.021940467666168712) Gray{Float64}(0.018389017583864492); Gray{Float64}(0.040475741982314135) Gray{Float64}(-0.010557987876316498) … Gray{Float64}(-0.05693916986143089) Gray{Float64}(-0.019054557923163906)]\n",
       " [Gray{Float64}(-0.02270339093056557) Gray{Float64}(0.01179182631075297) … Gray{Float64}(0.017972677453036767) Gray{Float64}(0.027694025075757803); Gray{Float64}(0.015204135387293599) Gray{Float64}(0.0075502289022478485) … Gray{Float64}(0.039300254740782185) Gray{Float64}(-0.013906931613721522); … ; Gray{Float64}(-0.062294102819048285) Gray{Float64}(-0.014931311403783796) … Gray{Float64}(0.056623244457920004) Gray{Float64}(-0.012512330618123648); Gray{Float64}(-0.013642494131693364) Gray{Float64}(-0.01159373965691358) … Gray{Float64}(0.015329244294352336) Gray{Float64}(0.0015919454690273014)]"
      ]
     },
     "execution_count": 225,
     "metadata": {},
     "output_type": "execute_result"
    }
   ],
   "source": [
    "map(create_image, synthetic_images_2)"
   ]
  },
  {
   "cell_type": "code",
   "execution_count": null,
   "metadata": {},
   "outputs": [],
   "source": []
  }
 ],
 "metadata": {
  "@webio": {
   "lastCommId": null,
   "lastKernelId": null
  },
  "kernelspec": {
   "display_name": "Julia 1.7.2",
   "language": "julia",
   "name": "julia-1.7"
  },
  "language_info": {
   "file_extension": ".jl",
   "mimetype": "application/julia",
   "name": "julia",
   "version": "1.7.2"
  }
 },
 "nbformat": 4,
 "nbformat_minor": 2
}
