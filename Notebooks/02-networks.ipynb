{
 "cells": [
  {
   "cell_type": "code",
   "execution_count": null,
   "metadata": {},
   "outputs": [],
   "source": [
    "using Pkg\n",
    "# environmentName will be used several times in this notebook\n",
    "environmentName = \"02-networks\"\n",
    "Pkg.activate(joinpath(dirname(pwd()), \"conf\", environmentName))\n",
    "Pkg.instantiate();"
   ]
  },
  {
   "cell_type": "markdown",
   "metadata": {},
   "source": [
    "# Network Analysis\n",
    "\n",
    "What this notebook does:\n",
    "1. load graph-data used in this notebook\n",
    "2. create the adjacency matrix $A$\n",
    "3. create a graph $G$ from $A$ (sparse, no loops) and plot the graph\n",
    "5. calculate the Laplace matrix $L$\n",
    "6. calculate the eigenvalues $\\lambda_i$ of $L$ and plot the spectrum\n",
    "7. find the largest component $H$ von $G$ and plot its graph\n",
    "8. calculate the eigenvalues of $H$ and plot the spectrum\n",
    "9. use the eigenvector $f_H$ of eigenvalue $\\lambda_H$ to cluster $H$ (split $H$ in two clusters)\n",
    "9. use the eigenvector $f_{|V(H)|-1}$ of eigenvalue $\\lambda_{|V(H)|-1}$ (find \"most important\" nodes)"
   ]
  },
  {
   "cell_type": "markdown",
   "metadata": {},
   "source": [
    "# Load graph data\n",
    "\n",
    "The data for this notebook is located in `\"data/02-networks/graph.json\"`. This [JSON file](https://en.wikipedia.org/wiki/JSON) contains an array of entries, each with the attributes `\"name\"` and `\"links\"`. The `\"links\"` attribute is itself an array of strings. Each entry represents a [Wikipedia page (english)](https://en.wikipedia.org/wiki/Main_Page) whose name or title contains either *\"data\"* or *\"science\"* (case-insensitive). The pages (identified by `\"name\"`) serve as the **nodes** of our graph, and the `\"links\"` define **directed edges** between them.\n",
    "\n",
    "However, in the analysis that follows, we will **disregard the directionality** of the edges and consider two nodes to be connected by an edge if a directed link exists between them in either direction.\n",
    "\n",
    "## Example data (made up)\n",
    "```JSON\n",
    "[\n",
    "    {\n",
    "        \"name\": \"Data_science\",\n",
    "        \"links\": [\n",
    "            \"Data\",\n",
    "            \"Science\"\n",
    "        ]\n",
    "    },\n",
    "    {\n",
    "        \"name\": \"Data\",\n",
    "        \"links\": [\n",
    "            \"Data_science\",\n",
    "            \"Science\"\n",
    "        ]\n",
    "    },\n",
    "    {\n",
    "        \"name\": \"Science\",\n",
    "        \"links\": [\n",
    "            \"Data_science\",\n",
    "            \"Database\"\n",
    "        ]\n",
    "    },\n",
    "    {\n",
    "        \"name\": \"Database\",\n",
    "        \"links\": [\n",
    "            \"Data\"\n",
    "        ]\n",
    "    }\n",
    "]\n",
    "```\n",
    "\n",
    "## Example Graph\n",
    "\n",
    "We consider a graph $G = (V, E)$ with:\n",
    "$V = \\{\\text{Data\\_science},\\ \\text{Data},\\ \\text{Science},\\ \\text{Database}\\}$ and\n",
    "\n",
    "$E = \\{\\{\\text{Data\\_science}, \\text{Data}\\},\\ \\{\\text{Data\\_science}, \\text{Science}\\},\\ \\{\\text{Data}, \\text{Science}\\},\\ \\{\\text{Database}, \\text{Science}\\},\\ \\{\\text{Data}, \\text{Database}\\}\\}$\n",
    "\n",
    "For simplicity, the nodes $V$ can also be indexed numerically."
   ]
  },
  {
   "cell_type": "code",
   "execution_count": null,
   "metadata": {},
   "outputs": [],
   "source": [
    "using JSON3\n",
    "\n",
    "data = JSON3.read(read(joinpath(dirname(pwd()), \"data\", environmentName, \"graph.json\")))\n",
    "println(\"typeof(data) = \" * string(typeof(data)))\n",
    "println(\"Anzahl Einträge im Array = \" * string(length(data)))\n",
    "# print the first 5 entries\n",
    "println(first(data, 10))"
   ]
  },
  {
   "cell_type": "markdown",
   "metadata": {},
   "source": [
    "# Calculate Adjaceny matrix $A$"
   ]
  },
  {
   "cell_type": "code",
   "execution_count": null,
   "metadata": {},
   "outputs": [],
   "source": [
    "using SparseArrays\n",
    "\n",
    "n = length(data)\n",
    "V = 1:n\n",
    "# maps page names to node indices\n",
    "name_map = Dict()\n",
    "A = zeros(Int, n, n)\n",
    "E = []\n",
    "\n",
    "# associate page names with node indices\n",
    "for i = V\n",
    "    name_map[data[i].name] = i\n",
    "end\n",
    "\n",
    "for i = V\n",
    "    page = data[i]\n",
    "    for j = 1:length(page.links)\n",
    "        linked_page = page.links[j]\n",
    "        # ignore trailing links\n",
    "        if haskey(name_map, linked_page)\n",
    "            # A is a symmetric matrix (undirected graph)\n",
    "            A[i, name_map[linked_page]] = A[name_map[linked_page], i] = 1\n",
    "        end\n",
    "    end\n",
    "end\n",
    "\n",
    "A = sparse(A)\n",
    "A"
   ]
  },
  {
   "cell_type": "markdown",
   "metadata": {},
   "source": [
    "The edges of graph $G$ are defined by $A$."
   ]
  },
  {
   "cell_type": "code",
   "execution_count": null,
   "metadata": {},
   "outputs": [],
   "source": [
    "using Graphs\n",
    "\n",
    "G = Graphs.Graph(A)"
   ]
  },
  {
   "cell_type": "markdown",
   "metadata": {},
   "source": [
    "We will remove all isolated nodes."
   ]
  },
  {
   "cell_type": "code",
   "execution_count": null,
   "metadata": {},
   "outputs": [],
   "source": [
    "d = Graphs.degree(G)\n",
    "not0 = findall(d .!= 0)\n",
    "V = V[not0]\n",
    "A = A[not0,not0]\n",
    "d = d[not0]\n",
    "G = Graphs.Graph(A)"
   ]
  },
  {
   "cell_type": "markdown",
   "metadata": {},
   "source": [
    "The following cell visualises the graph. Some nodes of the graph seem to have many neighbours of degree one which look like leafs in a treelike graph while other nodes are more interconnected."
   ]
  },
  {
   "cell_type": "code",
   "execution_count": null,
   "metadata": {},
   "outputs": [],
   "source": [
    "using GraphPlot, Plots, Compose, Cairo, Fontconfig\n",
    "\n",
    "c = sortperm(d, rev = true)[1:5]\n",
    "labels = [\"\" for v in V]\n",
    "node_names = [data[v].name for v in V]\n",
    "labels[c] = node_names[c]\n",
    "layout = spring_layout(G; C=5)\n",
    "P1 = gplot(G, layout...;\n",
    "        linetype=\"curve\", \n",
    "        nodelabel=labels,\n",
    "        nodelabeldist=2,\n",
    "        nodefillc = colorant\"steelblue\"\n",
    ")\n",
    "draw(PNG(joinpath(dirname(pwd()), \"img\", environmentName, \"graph_visualisation.png\"), 16cm, 16cm), P1)\n",
    "P1"
   ]
  },
  {
   "cell_type": "markdown",
   "metadata": {},
   "source": [
    "---\n",
    "---\n",
    "# The Laplace matrix"
   ]
  },
  {
   "cell_type": "code",
   "execution_count": null,
   "metadata": {},
   "outputs": [],
   "source": [
    "n = length(d)\n",
    "L = zeros(n, n)\n",
    "for i in 1:n\n",
    "    for j in 1:n\n",
    "        if i == j\n",
    "            L[i,j] = 1\n",
    "        elseif A[i,j] == 1\n",
    "            L[i,j] = - 1 / sqrt(d[i] * d[j])\n",
    "        end\n",
    "    end\n",
    "end\n",
    "L"
   ]
  },
  {
   "cell_type": "markdown",
   "metadata": {},
   "source": [
    "The eigenvalues of $L$ are called the spectrum and its plot looks like this:"
   ]
  },
  {
   "cell_type": "code",
   "execution_count": null,
   "metadata": {},
   "outputs": [],
   "source": [
    "using LinearAlgebra\n",
    "\n",
    "E = eigen(L)\n",
    "λ = E.values\n",
    "P2 = plot(λ, label = \"The spectrum of G\", \n",
    "             legend = :bottomright,\n",
    "             linewidth = 3,\n",
    "             xlab = \"i\",\n",
    "             ylab = \"λᵢ\")\n",
    "savefig(P2, joinpath(dirname(pwd()), \"img\", environmentName, \"spectrum_of_G.png\"))\n",
    "P2"
   ]
  },
  {
   "cell_type": "markdown",
   "metadata": {},
   "source": [
    "The number of components of $G$ is equal to $\\text{dim}(\\text{ker}(L)) = \\text{dim}(\\text{Eig}_0)$."
   ]
  },
  {
   "cell_type": "code",
   "execution_count": null,
   "metadata": {},
   "outputs": [],
   "source": [
    "n_components = count(λ .< 1e-14)"
   ]
  },
  {
   "cell_type": "code",
   "execution_count": null,
   "metadata": {},
   "outputs": [],
   "source": [
    "C = connected_components(G)"
   ]
  },
  {
   "cell_type": "code",
   "execution_count": null,
   "metadata": {},
   "outputs": [],
   "source": [
    "sum(λ), n"
   ]
  },
  {
   "cell_type": "markdown",
   "metadata": {},
   "source": [
    "---\n",
    "# Analysing the largest component"
   ]
  },
  {
   "cell_type": "code",
   "execution_count": null,
   "metadata": {},
   "outputs": [],
   "source": [
    "k = findmax(length.(C))\n",
    "I = C[k[2]];\n",
    "H = Graph(A[I, I])"
   ]
  },
  {
   "cell_type": "code",
   "execution_count": null,
   "metadata": {},
   "outputs": [],
   "source": [
    "layout_H = (layout[1][I], layout[2][I])\n",
    "P3 = gplot(H, layout_H...;\n",
    "        linetype=\"curve\", \n",
    "        nodelabeldist=2,\n",
    "        nodefillc = colorant\"steelblue\"\n",
    ")\n",
    "draw(PNG(joinpath(dirname(pwd()), \"img\", environmentName, \"graph_H_visualisation.png\"), 16cm, 16cm), P3)\n",
    "P3"
   ]
  },
  {
   "cell_type": "code",
   "execution_count": null,
   "metadata": {},
   "outputs": [],
   "source": [
    "L_H = L[I,I]\n",
    "E_H = eigen(L_H)\n",
    "λ_H = E_H.values\n",
    "P4 = plot(λ_H, legend = false, linewidth = 3)\n",
    "savefig(P4, joinpath(dirname(pwd()), \"img\", environmentName, \"spectrum_of_H.png\"))\n",
    "P4"
   ]
  },
  {
   "cell_type": "markdown",
   "metadata": {},
   "source": [
    "Let $w$ be the eigenvector to eigenvalue $\\lambda_G$. We are gonna plot the graph and color the nodes red if their corresponding entry in $w$ is positive, blue if the entry is negative, and yellow if the entry is 0. This induces a clustering into two partitions."
   ]
  },
  {
   "cell_type": "code",
   "execution_count": null,
   "metadata": {},
   "outputs": [],
   "source": [
    "using Images, IJulia\n",
    "\n",
    "w = E_H.vectors[:,2]\n",
    "cols = []\n",
    "for wᵢ in w\n",
    "    if abs(wᵢ) > 1e-12 \n",
    "        if wᵢ < 0\n",
    "            push!(cols, colorant\"steelblue\")\n",
    "        else\n",
    "            push!(cols, colorant\"indianred\")\n",
    "        end\n",
    "    else\n",
    "        push!(cols, colorant\"orange\")\n",
    "    end\n",
    "end\n",
    "layout= x -> spring_layout(x; C=5)\n",
    "P5 = gplot(H, layout_H...;\n",
    "        linetype=\"curve\", \n",
    "        nodelabeldist=2,\n",
    "        nodefillc = cols\n",
    ")\n",
    "# wir speichern das Bild und plotten dann das nachgeladene Bild,\n",
    "# weil jupyter teilweise Probleme damit hat gefärbte Graphen anzuzeigen, die viele Knoten enthalten\n",
    "imagePath = joinpath(dirname(pwd()), \"img\", environmentName, \"clustering_of_H_by_smallest_lambda.png\")\n",
    "draw(PNG(imagePath, 16cm, 16cm), P5)\n",
    "IJulia.display(load(imagePath))"
   ]
  },
  {
   "cell_type": "markdown",
   "metadata": {},
   "source": [
    "Lets have a look at the node-labels of their respective clusters:"
   ]
  },
  {
   "cell_type": "code",
   "execution_count": null,
   "metadata": {},
   "outputs": [],
   "source": [
    "[entry.name for entry in data[I][w .> 0]]"
   ]
  },
  {
   "cell_type": "code",
   "execution_count": null,
   "metadata": {},
   "outputs": [],
   "source": [
    "[entry.name for entry in data[I][w .< 0]]"
   ]
  },
  {
   "cell_type": "markdown",
   "metadata": {},
   "source": [
    "Similarly we can partition the node set by using the eigenvector to eigenvalue $\\lambda_{|V(H)|-1}$."
   ]
  },
  {
   "cell_type": "code",
   "execution_count": null,
   "metadata": {},
   "outputs": [],
   "source": [
    "using IJulia, Images\n",
    "\n",
    "u = E_H.vectors[:,end]\n",
    "cols = []\n",
    "for uᵢ in u\n",
    "    if abs(uᵢ) > 1e-12 \n",
    "        if uᵢ < 0\n",
    "            push!(cols, colorant\"steelblue\")\n",
    "        else\n",
    "            push!(cols, colorant\"indianred\")\n",
    "        end\n",
    "    else\n",
    "        push!(cols, colorant\"orange\")\n",
    "    end\n",
    "end\n",
    "P6 = gplot(H, layout_H...;\n",
    "        linetype=\"curve\",\n",
    "        nodefillc = cols\n",
    ")\n",
    "# wir speichern das Bild und plotten dann das nachgeladene Bild,\n",
    "# weil jupyter teilweise Probleme damit hat gefärbte Graphen anzuzeigen, die viele Knoten enthalten\n",
    "imagePath = joinpath(dirname(pwd()), \"img\", environmentName, \"clustering_of_H_by_largest_lambda.png\")\n",
    "draw(PNG(imagePath, 16cm, 16cm), P6)\n",
    "IJulia.display(load(imagePath))"
   ]
  },
  {
   "cell_type": "code",
   "execution_count": null,
   "metadata": {},
   "outputs": [],
   "source": [
    "[entry.name for entry in data[I][u .> 1e-12]]"
   ]
  },
  {
   "cell_type": "code",
   "execution_count": null,
   "metadata": {},
   "outputs": [],
   "source": [
    "[entry.name for entry in data[I][u .< 1e-12]]"
   ]
  }
 ],
 "metadata": {
  "kernelspec": {
   "display_name": "Julia 1.11.4",
   "language": "julia",
   "name": "julia-1.11"
  },
  "language_info": {
   "file_extension": ".jl",
   "mimetype": "application/julia",
   "name": "julia",
   "version": "1.11.4"
  }
 },
 "nbformat": 4,
 "nbformat_minor": 2
}
