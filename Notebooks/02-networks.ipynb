{
 "cells": [
  {
   "cell_type": "code",
   "execution_count": null,
   "metadata": {},
   "outputs": [],
   "source": [
    "using Pkg\n",
    "Pkg.activate(\"Twitter\")\n",
    "Pkg.resolve()"
   ]
  },
  {
   "cell_type": "code",
   "execution_count": null,
   "metadata": {},
   "outputs": [],
   "source": [
    "using Twitter, Graphs, GraphPlot, SparseArrays, LinearAlgebra, Colors, Plots"
   ]
  },
  {
   "cell_type": "markdown",
   "metadata": {},
   "source": [
    "---\n",
    "---\n",
    "# Laden der Daten\n",
    "\n",
    "Zunächst laden wir Daten von Twitter. \n",
    "\n",
    "dazu müssen wir uns zunächst authentifizieren.\n",
    "\n",
    "Im Twitter [Developer Portal](https://developer.twitter.com/en) muss eine neue Application erstellt werden.\n",
    "\n",
    "Dort können dann `CONSUMER_KEY`, `CONSUMER_SECRET`, `ACCESS_TOKEN` und `ACCESS_TOKEN_SECRET` generiert werden.\n",
    "\n",
    "Siehe auch die [Dokumentation des Twitter.jl Packages](https://github.com/randyzwitch/Twitter.jl)\n",
    "\n"
   ]
  },
  {
   "cell_type": "code",
   "execution_count": null,
   "metadata": {},
   "outputs": [],
   "source": [
    "CONSUMER_KEY = \"\";\n",
    "CONSUMER_SECRET = \"\";\n",
    "ACCESS_TOKEN = \"\";\n",
    "ACCESS_TOKEN_SECRET = \"\";\n",
    "\n",
    "twitterauth(CONSUMER_KEY, CONSUMER_SECRET, ACCESS_TOKEN, ACCESS_TOKEN_SECRET);"
   ]
  },
  {
   "cell_type": "markdown",
   "metadata": {},
   "source": [
    "Wir laden die letzten 200 Tweet, die das Wort `Osnabrück` enthalten."
   ]
  },
  {
   "cell_type": "code",
   "execution_count": null,
   "metadata": {},
   "outputs": [],
   "source": [
    "tweets = get_search_tweets(q = \"Osnabrück\", count = 200);"
   ]
  },
  {
   "cell_type": "markdown",
   "metadata": {},
   "source": [
    "Wir wollen die Hashtags in diesen Tweets analysieren. \n",
    "\n",
    "Dazu erstellen wir eine Listen von Listen. Die $i$-te Liste enthält die Hashtags im $i$-ten Tweet"
   ]
  },
  {
   "cell_type": "code",
   "execution_count": null,
   "metadata": {},
   "outputs": [],
   "source": [
    "T = tweets[\"statuses\"]\n",
    "hashtags = Vector{Vector{String}}()\n",
    "for (i,t) in enumerate(T)\n",
    "    push!(hashtags, Vector{String}())\n",
    "    for entry in t.entities[\"hashtags\"]\n",
    "        push!(hashtags[i], entry[\"text\"])\n",
    "    end\n",
    "end\n",
    "filter!(x -> !isempty(x), hashtags)"
   ]
  },
  {
   "cell_type": "markdown",
   "metadata": {},
   "source": [
    "Außerdem erstellen wir das Array `unique_hashtags`, welches alle Hashtags einzeln listet."
   ]
  },
  {
   "cell_type": "code",
   "execution_count": null,
   "metadata": {},
   "outputs": [],
   "source": [
    "all_hashtags = vcat(hashtags...)\n",
    "unique_hashtags = unique(all_hashtags)"
   ]
  },
  {
   "cell_type": "markdown",
   "metadata": {},
   "source": [
    "---\n",
    "---\n",
    "# Definition des Graphen\n",
    "\n",
    "Aus den Daten erstellen wir ein Netzwerk.\n",
    "\n",
    "Die Knoten im Graphen sind die Hashtags.\n",
    "\n",
    "Wir definieren eine Kante zwischen zwei Knoten, falls die zwei Hashtags in einem gemeinsamen Tweet auftauchen.\n",
    "\n",
    "Zuerst berechnen wir die Adjazenzmatrix."
   ]
  },
  {
   "cell_type": "code",
   "execution_count": null,
   "metadata": {},
   "outputs": [],
   "source": [
    "n = length(unique_hashtags)\n",
    "A = zeros(Int, n, n)\n",
    "\n",
    "function edge(hᵢ, hⱼ)\n",
    "    for h in hashtags\n",
    "        if hᵢ in h && hⱼ in h\n",
    "            return 1\n",
    "        end\n",
    "    end\n",
    "    return 0\n",
    "end\n",
    "    \n",
    "    \n",
    "for i in 2:(n-1)\n",
    "    hᵢ = unique_hashtags[i]\n",
    "    for j in (i+1):n\n",
    "        hⱼ = unique_hashtags[j]\n",
    "        A[i,j] = edge(hᵢ, hⱼ)\n",
    "    end\n",
    "end    \n",
    "A = sparse(max.(A, A'))"
   ]
  },
  {
   "cell_type": "markdown",
   "metadata": {},
   "source": [
    "die Adjazenzmatrix `A` definiert den Graphen `G`."
   ]
  },
  {
   "cell_type": "code",
   "execution_count": null,
   "metadata": {},
   "outputs": [],
   "source": [
    "G = Graphs.Graph(A)"
   ]
  },
  {
   "cell_type": "markdown",
   "metadata": {},
   "source": [
    "---\n",
    "---\n",
    "# Visualisierung\n",
    "\n",
    "Wir visualisieren den Graphen wie folgt.\n",
    "\n",
    "Dabei plotten wir Labels nur für jene Knoten, die einene Grad größer als 3 haben."
   ]
  },
  {
   "cell_type": "code",
   "execution_count": null,
   "metadata": {},
   "outputs": [],
   "source": [
    "d = Graphs.degree(G)\n",
    "c = findall(d .> 5)\n",
    "labels = [\"\" for _ in 1:n]\n",
    "labels[c] = unique_hashtags[c] \n",
    "layout= x -> spring_layout(x; C=25)\n",
    "gplot(G, layout=layout, \n",
    "        linetype=\"curve\", \n",
    "        nodelabel=labels,\n",
    "        nodelabeldist=5,\n",
    "        nodefillc = colorant\"steelblue\"\n",
    ")"
   ]
  },
  {
   "cell_type": "markdown",
   "metadata": {},
   "source": [
    "---\n",
    "---\n",
    "# Die Laplace Matrix\n",
    "\n",
    "Wir berechnen die Laplace Matrix `L` von `G`."
   ]
  },
  {
   "cell_type": "code",
   "execution_count": null,
   "metadata": {},
   "outputs": [],
   "source": [
    "L = zeros(n, n)\n",
    "for i in 1:n\n",
    "    for j in 1:n\n",
    "        if i == j\n",
    "            L[i,j] = 1\n",
    "        elseif A[i,j] == 1\n",
    "            L[i,j] = - 1 / sqrt(d[i] * d[j])\n",
    "        end\n",
    "    end\n",
    "end\n",
    "L"
   ]
  },
  {
   "cell_type": "markdown",
   "metadata": {},
   "source": [
    "die Eigenwerte von `L` werden dann wie folgt berechnet:"
   ]
  },
  {
   "cell_type": "code",
   "execution_count": null,
   "metadata": {},
   "outputs": [],
   "source": [
    "E = eigen(L)\n",
    "λ = E.values"
   ]
  },
  {
   "cell_type": "code",
   "execution_count": null,
   "metadata": {},
   "outputs": [],
   "source": [
    "plot(λ, legend = false, linewidth = 3)"
   ]
  },
  {
   "cell_type": "markdown",
   "metadata": {},
   "source": [
    "Die Summe der Eigenwerte ist gleich der Anzahl der Knoten."
   ]
  },
  {
   "cell_type": "code",
   "execution_count": null,
   "metadata": {},
   "outputs": [],
   "source": [
    "sum(λ), n"
   ]
  },
  {
   "cell_type": "markdown",
   "metadata": {},
   "source": [
    "Ist `G` bipartit?"
   ]
  },
  {
   "cell_type": "code",
   "execution_count": null,
   "metadata": {},
   "outputs": [],
   "source": [
    "is_bipartite(G)"
   ]
  },
  {
   "cell_type": "markdown",
   "metadata": {},
   "source": [
    "Wir analysieren einen Eigenvektor zum größten Eigenwert. "
   ]
  },
  {
   "cell_type": "code",
   "execution_count": null,
   "metadata": {},
   "outputs": [],
   "source": [
    "v = E.vectors[:, n]\n",
    "I = findall(abs.(v) .>  1e-8)\n",
    "unique_hashtags[I]"
   ]
  },
  {
   "cell_type": "markdown",
   "metadata": {},
   "source": [
    "Dieser eigenvektor definiert einen Untergraphen, der wie folgt aussieht:"
   ]
  },
  {
   "cell_type": "code",
   "execution_count": null,
   "metadata": {},
   "outputs": [],
   "source": [
    "H = Graphs.Graph(A[I,I])"
   ]
  },
  {
   "cell_type": "code",
   "execution_count": null,
   "metadata": {},
   "outputs": [],
   "source": [
    "labels = unique_hashtags[I]\n",
    "layout= x -> spring_layout(x; C=21)\n",
    "gplot(H, layout = layout,\n",
    "        nodefillc = colorant\"steelblue\",\n",
    "        linetype=\"curve\", \n",
    "        nodelabel=labels,\n",
    "        nodelabeldist=-1\n",
    ")"
   ]
  },
  {
   "cell_type": "markdown",
   "metadata": {},
   "source": [
    "Wir berechnen auch die Zusammenhangskomponenten"
   ]
  },
  {
   "cell_type": "code",
   "execution_count": null,
   "metadata": {},
   "outputs": [],
   "source": [
    "C = connected_components(G)\n",
    "filter!(c -> length(c)>1, C)"
   ]
  },
  {
   "cell_type": "markdown",
   "metadata": {},
   "source": [
    "Wir plotten einer der Komponenten"
   ]
  },
  {
   "cell_type": "code",
   "execution_count": null,
   "metadata": {},
   "outputs": [],
   "source": [
    "J = C[1]\n",
    "K = Graphs.Graph(A[J,J])\n",
    "d = Graphs.degree(K)\n",
    "c = findall(d .> 3)\n",
    "labels = [\"\" for _ in 1:length(J)]\n",
    "labels[c] = unique_hashtags[J][c] \n",
    "layout= x -> spring_layout(x; C=21)\n",
    "gplot(K, layout = layout,\n",
    "        nodefillc = colorant\"steelblue\",\n",
    "        linetype=\"curve\", \n",
    "        nodelabel=labels,\n",
    "        nodelabeldist=-2\n",
    ")"
   ]
  },
  {
   "cell_type": "code",
   "execution_count": null,
   "metadata": {},
   "outputs": [],
   "source": []
  },
  {
   "cell_type": "code",
   "execution_count": null,
   "metadata": {},
   "outputs": [],
   "source": []
  },
  {
   "cell_type": "code",
   "execution_count": null,
   "metadata": {},
   "outputs": [],
   "source": []
  },
  {
   "cell_type": "code",
   "execution_count": null,
   "metadata": {},
   "outputs": [],
   "source": []
  }
 ],
 "metadata": {
  "@webio": {
   "lastCommId": null,
   "lastKernelId": null
  },
  "kernelspec": {
   "display_name": "Julia 1.7.1",
   "language": "julia",
   "name": "julia-1.7"
  },
  "language_info": {
   "file_extension": ".jl",
   "mimetype": "application/julia",
   "name": "julia",
   "version": "1.7.1"
  }
 },
 "nbformat": 4,
 "nbformat_minor": 2
}
