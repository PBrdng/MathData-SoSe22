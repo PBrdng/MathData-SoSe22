{
 "cells": [
  {
   "cell_type": "code",
   "execution_count": null,
   "metadata": {},
   "outputs": [],
   "source": [
    "using Pkg\n",
    "Pkg.activate(\"NB05\")"
   ]
  },
  {
   "cell_type": "code",
   "execution_count": 5,
   "metadata": {},
   "outputs": [],
   "source": [
    "using MLDatasets\n",
    "using Plots, LinearAlgebra, Statistics\n",
    "using Images, ImageCore\n",
    "using JuMP, NLopt, Flux "
   ]
  },
  {
   "cell_type": "markdown",
   "metadata": {},
   "source": [
    "*Warning:* For this notebook I had to pin `CSV.jl` to version 0.8.5, because otherwise `MLDatasets` would not compile. This restricts `MLDatasets` to version 0.5. The latest version has a different syntax than the one used here."
   ]
  },
  {
   "cell_type": "markdown",
   "metadata": {},
   "source": [
    "# Classification\n",
    "\n",
    "We consider the [FashionMNIST](https://github.com/zalandoresearch/fashion-mnist) dataset from [Zalando Research](https://github.com/zalandoresearch).\n",
    "\n",
    "It contains images of Fashion items from 9 categories.\n",
    "\n",
    "In Julia this dataset can be loaded through the [MLDatasets](https://github.com/JuliaML/MLDatasets.jl) package."
   ]
  },
  {
   "cell_type": "code",
   "execution_count": 6,
   "metadata": {},
   "outputs": [],
   "source": [
    "X_all, Y_all = FashionMNIST.traindata();"
   ]
  },
  {
   "cell_type": "markdown",
   "metadata": {},
   "source": [
    "Now, `X_all` contains the input data and `Y_all` the output data of the training data in the `FashionMNIST` dataset.\n",
    "\n",
    "The entries of `Y_all` correspond to the following categories:"
   ]
  },
  {
   "cell_type": "code",
   "execution_count": 7,
   "metadata": {},
   "outputs": [],
   "source": [
    "labels = [\"T-shirt/top\", \n",
    "            \"Trouser\", \n",
    "            \"Pullover\", \n",
    "            \"Dress\", \n",
    "            \"Coat\", \n",
    "            \"Sandal\", \n",
    "            \"Shirt\", \n",
    "            \"Sneaker\", \n",
    "            \"Bag\", \n",
    "            \"Ankle boot\"];"
   ]
  },
  {
   "cell_type": "markdown",
   "metadata": {},
   "source": [
    "Since `Julia` indexing starts at `1` and `Y_all` contains values between `0` and `9`, it will be convenient to add 1 to all values `Y_all`.  "
   ]
  },
  {
   "cell_type": "code",
   "execution_count": 8,
   "metadata": {},
   "outputs": [],
   "source": [
    "Y_all = Y_all .+ 1;"
   ]
  },
  {
   "cell_type": "markdown",
   "metadata": {},
   "source": [
    "Let us take a look at 6 randomly chosen images along with their labels."
   ]
  },
  {
   "cell_type": "code",
   "execution_count": 10,
   "metadata": {},
   "outputs": [
    {
     "name": "stdout",
     "output_type": "stream",
     "text": [
      "[\"Bag\", \"Ankle boot\", \"Pullover\", \"Sneaker\", \"Sneaker\", \"Bag\"]\n"
     ]
    },
    {
     "data": {
      "text/html": [
       "<table><tbody><tr><td style='text-align:center;vertical-align:middle; margin: 0.5em;border:1px #90999f solid;border-collapse:collapse'><img style='max-width: 100px; max-height:100px;display:inline' src=\"data:image/png;base64,iVBORw0KGgoAAAANSUhEUgAAAHAAAABwCAAAAADji6uXAAAABGdBTUEAALGPC/xhBQAAAAFzUkdCAK7OHOkAAAAgY0hSTQAAeiYAAICEAAD6AAAAgOgAAHUwAADqYAAAOpgAABdwnLpRPAAABCpJREFUaAW9wU2IXWcZAODnO+e9d2bSTBrT2B8dg9KA2kWhRSSKuFELdtNF664grkRFKOhCRNpFqYg7dSFIsSsX0epGilJEFBGkxL+lq7SJWqZJ2qZOZzL33nM+A9+F68BMRJD3ecL/6Et4FP/CBTztoKKpDheShWQhWfgvegya8/gkvoPf4Tl8DE/hD5qKDtXhQrKQLCQLt9Bh0PwQD+MOzDTvxddwHl/ECwgsHC0kC8lCsnALPUY8hsfxFcwc9C08gGfwAhboMThcSBaShWThFuaaT+MivqfpMKLDiO/jx3gMz2OCweFCspAsJAtHKKia+/EnK6OmaH6DiziH51EdLSQLyUKycIQeC9yGe/BnzSb2McNo5TpOafYdLSQLyUKycFOHUdNjQNXcjimua3ZRNNXKa7jhoILqoJAsJAvJwlJBRUXBFHt4EMdwt2bQBCoGzR2Yazp0mhGjlZAsJAvJwk0jipWKPc0e3sJHHbRw0IfxK82I0eFCspAsJAtLFT0GrOGDuIwHcAnreAj/QOAduIbr2MIbOI5H8B4s8Eu8bKUgJAvJQrKwVDDgE3gGJ3EnruJlzPEs3o0XcRqv4Bw2cQGb+AEu4208jHN4EH9HRUgWkoVkYalqPod7sI1tHMdZBF7DNWxhwBlcwTXchbfxT9xAwRZ28CxewpMIyUKykCz8h99jE1ewgQV2NDNsoOIGNrCHHSxwDNvocQKbWMebOIu78SRCspAsJAtLH8d92Mbr2MYZ7OANdJhjgsAMe5hghhETzLGPq9jFB3AKr2hCspAsJAtLT+BpfBanUDDgNuzjGPYxYEBBaHrMNT06BLZwCpfwXXwTIVlIFpKFpZ/iR3gE92s6FExRMUFgRGCOARuYYE0zYMQJnMFP8D58GyFZSBaShaWLeAr3YoYJehRMND0KOnSoKJoOPTp0OI11vIqP4HE8h5AsJAvJwtK78FW8iV2sYUTBFB0KOk3FDAUd5pgh0Gl2MMc+7sVZhGQhWUgWll7HJcxxJ2YomommoKAgsItA1RT0mGKCd+ItHMNn8EeEZCFZSBaWXsJJzDCgQ8EcBR0KOitTKwtMsY7ABAM6vB+/1YRkIVlIFpY+hV/jUbyKDoHOSkVFRYceIwp69OjRYUCg4BJO4wpCspAsJAtLP8M3sIEZJuhQNUVTUTFiREHBFBUdOgwY0SOwpwnJQrKQLNz0kOa6ZhMFBXMUFFRUzQQjimbQ9OhR0KNijl1NSBaShWThphfxN3wBV3AcHfawgxvoUDUVVzHDFBOsoaBDRcGAOQbsaEKykCwkC0vn8WVcxgRruAsb2MeoqZoZBnSYOqigYMQUC3SakCwkC8nC0n04gdMYsIW/atYxaqqmR8WIQdOhoscMa/gLfo4dTUgWkoVkYenruICT+BB+gc/7/yoIyUKykOzf2noD3sDKliAAAAAASUVORK5C\"></td><td style='text-align:center;vertical-align:middle; margin: 0.5em;border:1px #90999f solid;border-collapse:collapse'><img style='max-width: 100px; max-height:100px;display:inline' src=\"data:image/png;base64,iVBORw0KGgoAAAANSUhEUgAAAHAAAABwCAAAAADji6uXAAAABGdBTUEAALGPC/xhBQAAAAFzUkdCAK7OHOkAAAAgY0hSTQAAeiYAAICEAAD6AAAAgOgAAHUwAADqYAAAOpgAABdwnLpRPAAAAutJREFUaAW9wcFr1gUcB+Dn9+7zurl3g62pS0ikDC8lBXWQwC4VGJ6KqEN06CbRKYIOQoeQIKGu/Q+d8p/oECHUMLQoyoiGOjc3m/rO9/11+B3GLEImfJ8nikWxKBbFolgUi2JRLIpFsSgWxaJYFItiUSyKRbEoFsWiWBSLYlEsHkKDFhM6Y7R26mGMeTyFKBbFoljsUg+tzsi2Bg1aOx3CLKJYFItisQuNTqvzAc7jF7RodRqMdVawF1EsikWx2IXWtoM4g6M4badW512cxDlEsSgWxWKXWp1PcB5zWMUMrmINF7GB/ZjGVUSxKBbF4gE0aG3rYYxTeBzXcADXsY4Gc3gZS/gJz2ALUSyKRbF4QA1a9DDGAt7BNcxhDtO4hQYj3MEKemixjCgWxaJY3KexU4sWDRqMMYnP0SDYwhg97NHZgx42MYVVnSgWxaJY3Kf1bxMYo8U+fKrTYhKb6KPRGWMGN3AD+9HqRLEoFsXiPzRoMNYZ6byOkxhiDYexiklMYIi7aHQ2cA9jLKKPKBbFolh6aNDDlk6L1rYX8Bau4yxew3H8hT3YxAJW0MMQC7iFPqYwwCFEsSgWxdJghJFOHzN4FCfwPJZxDn/iFbyB7/EdjuNn3MQiNrCAFt/gAA6iwT5EsSgWxTLCPE5hESNMYwKX8DGWdd7DaXyNs5jELJ7ElziGAWZxBQMcwRqewG1EsSgWxdLHF5jHZVzED7iBv9HD+ziBSXyFb/EhnsNBTONX3EUfVzHCIn7DFJawhCgWxaJYXsJx/I6jOIwZ9LEXU5jFJlbwIt7EBm5iGfcwwACbGGAaW5jBI1jQiWJRLIrlIi5ggBk8iwYj3MEQdzDEAGNMYB770cMWVnEbr2JT5y6GWMfT2IsoFsWiWP7A27YdwwCP4SgOYBZbGOpcwCX8iHU7fYYjuKJzDWNcxm1EsSgWxeI+Sx7OR/5fFItiUSyKRbEoFsWiWBSLYlEsikWxKBbFolgUi2JR7B8kC6FnVoAy1QAAAABJRU5ErkJg\"></td><td style='text-align:center;vertical-align:middle; margin: 0.5em;border:1px #90999f solid;border-collapse:collapse'><img style='max-width: 100px; max-height:100px;display:inline' src=\"data:image/png;base64,iVBORw0KGgoAAAANSUhEUgAAAHAAAABwCAAAAADji6uXAAAABGdBTUEAALGPC/xhBQAAAAFzUkdCAK7OHOkAAAAgY0hSTQAAeiYAAICEAAD6AAAAgOgAAHUwAADqYAAAOpgAABdwnLpRPAAAA6tJREFUaAW9wc2rXPUZAODnnHnPnTsTY/xqbmjSSCNEJQtx48KNULvspsvaVf+quhaRQqGbLly7KYiU0voVQeFGIcREjUlzb+bO+fh1cRbDmRlLu3mfJ/wffo3f4RN8hWu4gXfxgf9NSBaShWThv5jjZVzFCZZ4Db9HjQaf4X28iSWOcROt/UKykCwkCz/hFdzAXdwzuolf4S1cxS38CQ2O8BCXcQP/xOd2hWQhWUgW9jjAVdxEhwMMuIQTvI0zzPELLHCGBrdxFy/iK6xNhWQhWUgW9riMggpzU0u8ioIVOvRGBXOs0eMFfG4qJAvJQrKwxxEO8CRW6FCjQ8GJ0YCCAT0GLLFA4JxdIVlIFpKFPWo8MpphbTQY9TYKGpzDKToc4hQLu0KykCwkC3ss8Agv4VOEUYcOMxsDztAZFTyPL3DerpAsJAvJwh4L3MEruIJ3cA2DUYViVGGGCvfwG/wcH+FZu0KykCwkC3vUqHGMt/BHNJhhhgHFRo0FTvBb/AUNartCspAsJAt7zHABX+M9PI0T9BjsGrDGU/gzbmOJ2q6QLCQLycKWOYrRRTwwGjDYKKhsFMxxH+fQoEOD1kZIFpKFZGFLY7TCdXyJFWYIowrFaECNBitcwDX8CxdwiNZGSBaShWRhywEqtLiIz9CjmKqMaqMej/EYP8MaDRpTIVlIFpKFLYdocWD0EIHBVG3Uo8IMSzxAwRIrHJoKyUKykCxsWaDFEf6N+2hQo7ffDDUqPMApnkOLpamQLCQLycKWHi2ex/f4FhUGox5hqmDAIe7gLi7jGJ2pkCwkC8nClkPUOMFVNGhQo0VBsasymuEaPkaHhamQLCQLycKWGVZGV3CGCgOKUbFR2ajQ4RJqnCFMhWQhWUgWtsxxhotY4wdcwoCCQDEaUNCjxxJ30OIIx3aFZCFZSBa2dEbncR8PcQUdiv0KBjS4jx+xxAqVqZAsJAvJwpaCDnPcQ4saLXrM7NdhjgF3sLBfSBaShWRhS40Kl/AJBlSoUDDYKDYq1Cj4BtdR2RWShWQhWdijxzO4hTUKVqhRbBSjgh4dWhzjdbR2hWQhWUgWtoTRIf6OJ3AOAxrUmKFGQYU1VljiAv6BP+AAramQLCQLycKW23gD3+EWruNpnEeNQIMBnVGHDgsc4Sa+xy/xN1MhWUgWkoUtp3gBa6MvcRstBqMZBvRGNWao0Rqd4iV8YCokC8lCsrBlhQ/xsdGAR6ZaUz1aU3/FY/xoKiQLyUKy/wAGAvFJascwuAAAAABJRU5ErkJg\"></td><td style='text-align:center;vertical-align:middle; margin: 0.5em;border:1px #90999f solid;border-collapse:collapse'><img style='max-width: 100px; max-height:100px;display:inline' src=\"data:image/png;base64,iVBORw0KGgoAAAANSUhEUgAAAHAAAABwCAAAAADji6uXAAAABGdBTUEAALGPC/xhBQAAAAFzUkdCAK7OHOkAAAAgY0hSTQAAeiYAAICEAAD6AAAAgOgAAHUwAADqYAAAOpgAABdwnLpRPAAAAkFJREFUaAW9wT1rXQUABuDn5L65beoNqdU6qFXqUkRB/AoOHZwKQkYdBX+As7vODir4A1zcpIODi5Pg4ODSiosgOETQYKCQEBPuzXE4Qgh1iMv7PFEWZVEWZVEWZVEWZVEWZVEWZVEWZVEWZVEWZVEWZVEWZVEWZVEWZVEWZVEWZVEWZVEWZVEWZXEBwdLDBnyIT/GXyWAy+m9RFmVRFhewxIDR5D28hjlu4hreNxmdN2B0JsqiLMrigkZcwmfYxoCfcYRXMGD0sNF5URZlURb/GjBiZrJyZoaP8DpO8BP2cBNLDPgYX+CeM5t4Hjt4A3cQZVEWZRmwhpXJynkv4HM8ha/xIr7EAb7D7/gN72AH97DAAlfwJHZN3kSURVmUZcTKmQVexjZu4VX8gLu4jUN8YzKYbGCGTbyEHdzALu7jBM/gOqIsyqIsM7yF21jHFjawwiHu41lsYB+38Am+xw08jVt4FFvYwx7muIp1zLDAL4iyKIuyvI0P8CNGnOIQj+MJrOE6trGLB7iDd7HCgD9xhBNcw3M4wgMc4NjkEFEWZVGWb/EV1rGF4DLmGLDAMa7gEezjEpYmA0YMmOMY+zjEmskMj+FXRFmURVkWOMYKf2D0/w0YTeYYsIZTjJjhACtEWZRFWXZxGZu4ihGn2MCIv7GBJU4xMxlxarLEgLnJETYwYoVghn1EWZRFWZY4wIGOKIuyKIuyKIuyKIuyKIuyKIuyKIuyKIuyKIuyKIuyKIuyKIuyKIuyKIuyKIuyKPsHd7xroT5IqQcAAAAASUVORK5C\"></td><td style='text-align:center;vertical-align:middle; margin: 0.5em;border:1px #90999f solid;border-collapse:collapse'><img style='max-width: 100px; max-height:100px;display:inline' src=\"data:image/png;base64,iVBORw0KGgoAAAANSUhEUgAAAHAAAABwCAAAAADji6uXAAAABGdBTUEAALGPC/xhBQAAAAFzUkdCAK7OHOkAAAAgY0hSTQAAeiYAAICEAAD6AAAAgOgAAHUwAADqYAAAOpgAABdwnLpRPAAAAnFJREFUaAW9wb2KXAUABtBzZ7/sbv5YthBJESUJKuoDBCMqgqJYCNYWVmJnZWuhRUBQEAuxSe0z2FnYBwRrE4yGYFxCYmJ2Z+aOwg2Mgpht/M6JsiiLsiiLsiiLsiiLsiiLsiiLsiiLsiiLsiiLsiiLsiiLsiiLsiiLsiiLsiiLsiiLQxgwYDQZsLJ2ASfxjYeLsiiLsjiEAaO1lckW3sLrOINr+AEDVtaOYIZ9RFmURVkcwmgyw2jyCr7GR7iED/E+3sPKP82tRVmURVkcwoAVRpMvcBpv402cxwlc8e9ewvO4iCiLsiiLQ1iZvIwPcAs/4mM8ibv4BefxOa7hBHZxGmdxExcRZVEWZfHADCuTDSysfYJn8RS+x1m8iju4hw08jnN4Eb/iFgbMcYA9kyiLsiiLB0ZrC5Mn8CWu4jO8gddM9jDDPhbYwgY2sIUTuI0V5tg0ibIoi7L4m228gAs4hWfwLb7Cp1hgD7s4wDbmOIIRMww4hi2cxD3cwWM4hyiLsijL03gHj2DEAkvs4Bgexbs4gxmOYgfHMcOutTlu4DfcxCZ+x3XsYhdRFmVRlm3cwh3cxw38jPPYxDaew09YYoWruIkruIrr2MMfHi7KoizKchmXrR3DAt9h7r/NEATBDraxjQErbGDAiCWiLMqiLKdwHAuMGLDADCOCTRzHDnZwFEvMscQKI0Yc4DaWWGGFEXPsI8qiLMpyHZuYYQtbGDDDpsmIu9jDiAXmGDFghgUGDFhiZjJihRH7iLIoi7L4y4HJff+/KIuyKIuyKIuyKIuyKIuyKIuyKIuyKIuyKIuyKIuyKIuyKIuyKIuyKPsTzKaDc05K0WAAAAAASUVORK5C\"></td><td style='text-align:center;vertical-align:middle; margin: 0.5em;border:1px #90999f solid;border-collapse:collapse'><img style='max-width: 100px; max-height:100px;display:inline' src=\"data:image/png;base64,iVBORw0KGgoAAAANSUhEUgAAAHAAAABwCAAAAADji6uXAAAABGdBTUEAALGPC/xhBQAAAAFzUkdCAK7OHOkAAAAgY0hSTQAAeiYAAICEAAD6AAAAgOgAAHUwAADqYAAAOpgAABdwnLpRPAAAA9xJREFUaAW9wTGPXGcVANBzv3dn14vtxJgYiAsiEAVxT0eRv0GPREXJb6Cip0xBAdSIAho6RJ+CBogiEJLlhNjsetfeN+9SfCPNWAEkmntO+h+e4H18C+emGzzHp/gXPsNLvEJhxYKPvSlQSM1Ss9QsnTjDa9zFr/AEe1zhPm4wcIHFNDBwiwWfILDDU/wUv0OZUrPULDVLB4HXpl/gu/gHNgT+jpd4gZfYIxB4gB12OMcZrvFN/Bo/xIem1Cw1S83SQZm+hyf4Gx7gNQYuTCte4xYLEjvsTHvsUbjEx/gxPjSlZqlZapZOvIcfIXAXGzbsHRV2SAwkdggMU2FD4gqP8AF+j9QsNUvN0onP8S4CZ3gbN7hGmMoUWLBDYsVrBG4ROMOKxJdMqVlqlpqlE4/wLq5wg78iMTAwEBgo04LAQ9wzXWCPxBUKH+A3SM1Ss9QsnfgOAgvO8GXsUCgsCBRWFAorrrFgNaXpOR7j26bULDVLzdKJO3iGRxi4QCJQCBQKiTAV9lgxUFixw2M8xJ9MqVlqlpqlg7fwOW4xsMelaWDDHoHEQGFgIBAoDBRe4jO8gzSlZqlZapYOXuAjfA0DF0gUFizYTAOBWwwM7BGmwIYdNtxHmFKz1Cw1Syf2uI9nuMCtacOGRGHDhsIOZ9gwEKa96RUusTOlZqlZapZOPEY4KhQKhRWLqTBQ2LChTGEqLKYLU2qWmqVm6cQZhikQpsCCDWUaGI4GAuGoMEzDlJqlZqlZOnEPC8JUKAQCi6NyNLA5KiQ2LAhHqVlqlpqlE/cQ/ruBYSpTIRAIBMJRoLCYUrPULDVLJ86xYMFA+qINA8NUKKSpEFixoEz3TKlZapaapRPnGBgYKFOYChtW08BiKkeFcBTYTKlZapaapRM/wDU2FMpUKFOZFoQpvCkQCIQ3pWapWWqWDt7HE1zh3DS8KRwNlP+svCkcpWapWWqWDn6Ct3FpSmwYKBQCZRrYsGFgQ6AQGCiE6dyUmqVmqVk6uERgh8BAYKBQGBgI7LEhUAhT+KLA3pSapWapWTpYUViwYIdCONqwoRwt2GNzFAhTYODGlJqlZqlZOniBS6xYcI1AmDYMFBJluoNrDAyUKbAi8BxXptQsNUvN0sFv8X1s2GOgUNihTBsWXGGHGwwUyrRixcBLvIWPTKlZapaapYNXuMAN9igMFAqB1VQo7PAV3GJFmQKFW7yDW/zclJqlZqlZOvgz7uIZLnCOgUCgEAgUvoqn+CW+jnNc4Cke4FO8wh/xB/zTlJqlZqlZOvgLwvQevoGHuMAd3MMZBlas+BlW/5/ULDVLzf4NBGz/0z83BFgAAAAASUVORK5C\"></td></tr></tbody></table><div><small>(a vector displayed as a row to save space)</small></div>"
      ],
      "text/plain": [
       "6-element Vector{Base.ReinterpretArray{Gray{N0f8}, 2, N0f8, Matrix{N0f8}, true}}:\n",
       " [Gray{N0f8}(0.0) Gray{N0f8}(0.0) … Gray{N0f8}(0.0) Gray{N0f8}(0.0); Gray{N0f8}(0.0) Gray{N0f8}(0.0) … Gray{N0f8}(0.0) Gray{N0f8}(0.0); … ; Gray{N0f8}(0.0) Gray{N0f8}(0.0) … Gray{N0f8}(0.0) Gray{N0f8}(0.0); Gray{N0f8}(0.0) Gray{N0f8}(0.0) … Gray{N0f8}(0.0) Gray{N0f8}(0.004)]\n",
       " [Gray{N0f8}(0.0) Gray{N0f8}(0.0) … Gray{N0f8}(0.0) Gray{N0f8}(0.0); Gray{N0f8}(0.0) Gray{N0f8}(0.0) … Gray{N0f8}(0.0) Gray{N0f8}(0.0); … ; Gray{N0f8}(0.0) Gray{N0f8}(0.0) … Gray{N0f8}(0.0) Gray{N0f8}(0.0); Gray{N0f8}(0.0) Gray{N0f8}(0.0) … Gray{N0f8}(0.0) Gray{N0f8}(0.0)]\n",
       " [Gray{N0f8}(0.0) Gray{N0f8}(0.0) … Gray{N0f8}(0.0) Gray{N0f8}(0.0); Gray{N0f8}(0.0) Gray{N0f8}(0.0) … Gray{N0f8}(0.0) Gray{N0f8}(0.0); … ; Gray{N0f8}(0.0) Gray{N0f8}(0.0) … Gray{N0f8}(0.0) Gray{N0f8}(0.0); Gray{N0f8}(0.0) Gray{N0f8}(0.0) … Gray{N0f8}(0.0) Gray{N0f8}(0.0)]\n",
       " [Gray{N0f8}(0.0) Gray{N0f8}(0.0) … Gray{N0f8}(0.0) Gray{N0f8}(0.0); Gray{N0f8}(0.0) Gray{N0f8}(0.0) … Gray{N0f8}(0.0) Gray{N0f8}(0.0); … ; Gray{N0f8}(0.0) Gray{N0f8}(0.0) … Gray{N0f8}(0.0) Gray{N0f8}(0.0); Gray{N0f8}(0.0) Gray{N0f8}(0.0) … Gray{N0f8}(0.0) Gray{N0f8}(0.0)]\n",
       " [Gray{N0f8}(0.0) Gray{N0f8}(0.0) … Gray{N0f8}(0.0) Gray{N0f8}(0.0); Gray{N0f8}(0.0) Gray{N0f8}(0.0) … Gray{N0f8}(0.0) Gray{N0f8}(0.0); … ; Gray{N0f8}(0.0) Gray{N0f8}(0.0) … Gray{N0f8}(0.0) Gray{N0f8}(0.0); Gray{N0f8}(0.0) Gray{N0f8}(0.0) … Gray{N0f8}(0.0) Gray{N0f8}(0.0)]\n",
       " [Gray{N0f8}(0.0) Gray{N0f8}(0.0) … Gray{N0f8}(0.004) Gray{N0f8}(0.0); Gray{N0f8}(0.0) Gray{N0f8}(0.0) … Gray{N0f8}(0.0) Gray{N0f8}(0.0); … ; Gray{N0f8}(0.0) Gray{N0f8}(0.0) … Gray{N0f8}(0.0) Gray{N0f8}(0.0); Gray{N0f8}(0.0) Gray{N0f8}(0.0) … Gray{N0f8}(0.0) Gray{N0f8}(0.0)]"
      ]
     },
     "execution_count": 10,
     "metadata": {},
     "output_type": "execute_result"
    }
   ],
   "source": [
    "k = rand(1:60000, 6)\n",
    "println([\"$(labels[Y_all[i]])\" for i in k])\n",
    "[FashionMNIST.convert2image(X_all[:,:,i]) for i in k]"
   ]
  },
  {
   "cell_type": "markdown",
   "metadata": {},
   "source": [
    "## Choosing two categories\n",
    "\n",
    "To illustrate how the classification methods from the lecture work we consider only two items, namely Coats and Sandals. The goal is to learn an algorithm that can distinguish pictures from these two categories.\n",
    "\n",
    "First, we compute the locations of Coats and Sandals in the data."
   ]
  },
  {
   "cell_type": "code",
   "execution_count": 11,
   "metadata": {},
   "outputs": [
    {
     "data": {
      "text/plain": [
       "12000"
      ]
     },
     "execution_count": 11,
     "metadata": {},
     "output_type": "execute_result"
    }
   ],
   "source": [
    "l₁ = findfirst(labels .== \"Coat\")\n",
    "l₂ = findfirst(labels .== \"Sandal\")\n",
    "l = findall(y -> y == l₁ || y == l₂, Y_all);\n",
    "length(l)"
   ]
  },
  {
   "cell_type": "markdown",
   "metadata": {},
   "source": [
    "I.e., there are 12000 items in the data, which are either Coats or Sandals.\n",
    "\n",
    "For training let us consider a subsample of size $n=50$. \n",
    "\n",
    "Since the goal of this notebook is to illustrate how classification works, we will not stick to the algorithm for approaching machine learning problems. We will simply take the first $n$ items in the data set (instead of choosing them randomly). We also take another $n$ items for testing. "
   ]
  },
  {
   "cell_type": "code",
   "execution_count": 12,
   "metadata": {},
   "outputs": [
    {
     "data": {
      "text/plain": [
       "50"
      ]
     },
     "execution_count": 12,
     "metadata": {},
     "output_type": "execute_result"
    }
   ],
   "source": [
    "n = 50"
   ]
  },
  {
   "cell_type": "markdown",
   "metadata": {},
   "source": [
    "Now, we split the data into the training and test data"
   ]
  },
  {
   "cell_type": "code",
   "execution_count": 13,
   "metadata": {},
   "outputs": [],
   "source": [
    "train_indices = l[1:n];\n",
    "test_indices = l[n+1:2*n];\n",
    "\n",
    "X_test = X_all[:, :, test_indices]\n",
    "Y_test = Y_all[test_indices];\n",
    "\n",
    "X = X_all[:, :, train_indices]\n",
    "Y = Y_all[train_indices];"
   ]
  },
  {
   "cell_type": "markdown",
   "metadata": {},
   "source": [
    "Let us look at a subsample of the training data:"
   ]
  },
  {
   "cell_type": "code",
   "execution_count": 14,
   "metadata": {},
   "outputs": [
    {
     "name": "stdout",
     "output_type": "stream",
     "text": [
      "[\"Coat\", \"Coat\", \"Coat\", \"Sandal\", \"Coat\", \"Coat\"]\n"
     ]
    },
    {
     "data": {
      "text/html": [
       "<table><tbody><tr><td style='text-align:center;vertical-align:middle; margin: 0.5em;border:1px #90999f solid;border-collapse:collapse'><img style='max-width: 100px; max-height:100px;display:inline' src=\"data:image/png;base64,iVBORw0KGgoAAAANSUhEUgAAAHAAAABwCAAAAADji6uXAAAABGdBTUEAALGPC/xhBQAAAAFzUkdCAK7OHOkAAAAgY0hSTQAAeiYAAICEAAD6AAAAgOgAAHUwAADqYAAAOpgAABdwnLpRPAAAA+ZJREFUaAW9wb+PHIUZANA3O9/urO/2zmf7bMuWkAyxBBGKXST5C9wFiYoEGhAdRYokQhSRQovcUQESRSB1IoWkQ/SpIoTkSCmChZATm1+2z75b397M7g7FFJFn147SfO+F/6FAq/M0LmGICXbwd+zhU50CLQq0VoVkIVlIFh6jxALbeAXP4gy+wgxX8AzO4ff4I1oUHi0kC8lCstBToEWBhc6bOMLnuINrWKDBHhq8jn/hMwTm1gvJQrKQLDzCAAv8GD/HL1HjHM7gOv6JH+BT1HgBn6HxaCFZSBaShZ5WZ6HzM+zhF/gHLuEifoS/4jp2MMXz+J3HC8lCspAs9BRodT7ED3GEy/gJvsYf8B6+xCVU2MIDXMNr+Jv1QrKQLCQLPa3On7CLA5TYR4WncAW/wnPYRY0FZpjht3gVt60KyUKykCyscQab+A67CIwww7/xJP6Ms5jqzDHGLRR4Ee9aFZKFZCFZWOOnGKLFAgUOUGCKGV7CTdRoMcB93MUWLlsvJAvJQrKwxrNoUOFbHKJAhQPU+BYXcB/buIcBdlHhvPVCspAsJAtrnMEhHuBp3MQSDXawh0/wBkoMMcEIQ9zFtvVCspAsJAtrnMUACwxxgFLnCC0qFLiHLUxxDKewwElsYd/DQrKQLCQLaxzHHIE5AnNU2McRTqLGQqfGMbQYo8YO9j0sJAvJQrKwxgT/wV0cw4bOFBOUmGGM0xhiolPiABUu4oaHhWQhWUgWegqM0GKCERpUaDFCgcACDzBBgwpjTLGD81aFZCFZSBZ6NlFiiBJzHKFGgUNMUWAfdxBoECiwhW20VoVkIVlIFnomWGCKESpsoMA+xjjEHCexxAZqjHBC5zbOWhWShWQhWejZxQLf4TiWaDBB6FQYocBAp0GBwHHs45xVIVlIFpKFni0UmGADDSosMcAMd9Bihrs4hQIFlhhijAOrQrKQLCQLPTsosY0harSoscQm7mCJMSqUOq3OESo8sCokC8lCstBzCgf4Bk9hiDnGaDDCJgqMsK0TaBA4xBEmVoVkIVlIFnpOotUJHKFFgxL3sECJGoeYYI4lahQYYGBVSBaShWShZ4QBTmCJCiXmqNDiPjZQokaLJSoUGGMT160KyUKykCz0jDDDHnZRIVCgwQhDBMbYxlAnsI8Wt9BaFZKFZCFZ6HkCNU6jxhc6BWosUKJGgxJLLDFHiU20CKtCspAsJAs9N3AZJX6NtzHGHrbQosAFBDZRYAMn8A5eRuBjq0KykCwkCz1v4arOElfxGzQYYIipzgxTzNDgfXyEDzxaSBaShWRhjaX/+gh/QYEWBVoMsPD/C8lCspDse5BE75s9KmZPAAAAAElFTkSuQmCC\"></td><td style='text-align:center;vertical-align:middle; margin: 0.5em;border:1px #90999f solid;border-collapse:collapse'><img style='max-width: 100px; max-height:100px;display:inline' src=\"data:image/png;base64,iVBORw0KGgoAAAANSUhEUgAAAHAAAABwCAAAAADji6uXAAAABGdBTUEAALGPC/xhBQAAAAFzUkdCAK7OHOkAAAAgY0hSTQAAeiYAAICEAAD6AAAAgOgAAHUwAADqYAAAOpgAABdwnLpRPAAAA/FJREFUaAW9wT2IZWcZAODnnPPeM3dmMpOQCBILIaIxRNMkXdhCsFEQxU5UFNTCQrCzE9Mo6bRLYbBImzqQLp0RhEAqWbbYJa6G7GxWNjPembnnnu+zOMX92xBs3ucJn6HDiAO8h4cYsMKX8Vu8gRbFZwvJQrKQLHyKBhWjybN4HmfocIUv4Pt4A8Vai+LRQrKQLCQLGxo0KKgmJ/gRfoIFHuAOzvFNvIBf4k18bFJ8upAsJAvJwoaKavIc/owbJg+xQIcXUdHhCbyG13Abb+OPuOXRQrKQLCQLj/B7/BwD/oEBHXoc4y5OMcc93MVjOMT38AP8Bq/bF5KFZCFZeIQf4wwjDtCjwwKBD/B5FHR4Cj3OsMIpfofX7QvJQrKQLOz4Lg5xjg4DGhQc4ALPosc5TnCBm3gBKyzR4ov4wLaQLCQLycKOX2NAh4oVWlSs0CBQMUeLDg+wwAkucIAf4lXbQrKQLCQLO27gLjo0KGhQrS3R4xAL9PgOHuAKLUa8bF9IFpKFZGHHiIKCQyxNWnRYYECLDpcm91BwihEf4Rv2hWQhWUgWNjyHAww4RMUMI65wiBYLdHgcMyxxiA4VV7jGCb6Km9ZCspAsJAsbXsSIBuc4QUWPAQNmOEbBEhUFR6hYmRxjiW/hprWQLCQLycKGLyGwQoceCzSY4wrFpMUVGsxxgcdxjE+wwiWetC0kC8lCsrDhXyZLnKBBjwHVJDBihoIRPa5REGgQOMW7toVkIVlIFjYMaFAxxwHOUdGaVBRUDOhMZjjHERpcmTxhW0gWkoVkYcMZKgoKlhgwwwqBFXq0Jp1JgxEDOhyZ3LEtJAvJQrKw4SEaBAYU9KhoMKLFaHKEiorOpKDFymRhW0gWkoVkYcPfMGCG1qRiRIMBM5OCFiMKwqTDiMHkzLaQLCQLycKGwAy9SWCJDgUVK3Ro0aBFILBCQcEBCj60LSQLyUKysOFpkyV6NGjRoUFFh/+gxQkCDa7wGGaoJsW+kCwkC8nChn/iNmZYomJEQcEKDXr06HBtUjBDwYgWM3wO962FZCFZSBZ2zNFggVMcoeAaK1QcoceIOUZ0JpfoEbjGfdtCspAsJAs7Kloc4zYu8QyuMWLEAgs0OEUg8Hcc4SsYcNu+kCwkC8nCjrfwbSzxX3wNT+M+RvT4GD0CM7QIfB1v4hk0+Kt9IVlIFpKFHTewxBy38Af8FP9GgzlGFJNLHOElvIs7OMAD/Ay/QLUWkoVkIVnY8Qr+hAu8gnt4x//nV3gKf0G1LSQLyUKysOMu5rjAwiRQrFU01ioaFJOCQ7xvX0gWkoVkYccZbuETFJOCYlu1rbW2xEMc2xeShWQh2f8AEPUOGXdmG4MAAAAASUVORK5C\"></td><td style='text-align:center;vertical-align:middle; margin: 0.5em;border:1px #90999f solid;border-collapse:collapse'><img style='max-width: 100px; max-height:100px;display:inline' src=\"data:image/png;base64,iVBORw0KGgoAAAANSUhEUgAAAHAAAABwCAAAAADji6uXAAAABGdBTUEAALGPC/xhBQAAAAFzUkdCAK7OHOkAAAAgY0hSTQAAeiYAAICEAAD6AAAAgOgAAHUwAADqYAAAOpgAABdwnLpRPAAAA99JREFUaAW9wUtvVAUYANAzd77Oo9OWhhZL5SFCRCOGGENcaHTtRhN/gDv/mzsTFy40wcTEjcREEKMEiYIgoaGFtrQznbeLu2hm+mD3nROOUWCkNIcruILf0MUq1nBLqYKx44VkIVlIFo4xUnoT87iMq9jCcyyigQpuYuzlQrKQLCQLL3EJZ/EAq6hjDfcxxAYWcQ2/eLmQLCQLycJLLOIJuniEL/A5vsV1/Ik1XEATHccLyUKykCwcocBFzOFdPMR/uIQ+6ngVH+A8LuERvsIjRwvJQrKQLBzhIs6jjXu4ihtYwwV8hBt4Hw/xA4b4EHfxq8OFZCFZSBaOsIg1LGKM77GNT/EdqriOIapYwi5msIq/sOOgkCwkC8nCIZqoYYA2mjiFBh5gBjfwGG9jgAIFAhWcxR0HhWQhWUgWDrGMCvbQwDPU0cQivsQznEYFPQQGWEUPK7jjoJAsJAvJwiEaaGIem5jFCF208Rl+xH2cQKCKJlZxE6cdLiQLyUKycIgT2ME8dtBDXamJ63iIJvbQQA91tNFDAxWMTQrJQrKQLEyZxQJ6eB272MQYY9TwAgUKVBEYoYlljNDCEtZNCslCspAsTBljiBYW0LUvMEITHaU5VNDHZZzBDHaxgnWTQrKQLCQLU2bQxgy62MASxggU2EUHNfQRSi2sYwsNNB0UkoVkIVmYMosqxjiJOsaoYIACFZzELrqYRRUDrGAFG2g4KCQLyUKyMGUJNVTRVhqghhF6SgX2sIARathAEwX2cM5BIVlIFpKFKTXU8AYKPME72EFDaYwhepjHc1zDFtawggqWHRSShWQhWZjSRxV1bKCGWewotdDFHBbQxSYu4A/cwCe4jQrewh37QrKQLCQLU5oYoo6fMMIuqkoDjBFKbSzintI6NtDDGMsmhWQhWUgWpvSwgz30UdhXxxZ6aGAbZ1Dgb5zBU8yhhofYNSkkC8lCsjClgiq2sYMWhigwQCAwQoHAJuo4hRp+RgsdvDApJAvJQrIwZYhAHeu4Zl8XBXqoYAF7aCnt4Bzu4mN0sWhSSBaShWThCB2lDmYQGGCEIQI9NNHCFrZRwyaqGKNrUkgWkoVk4RB1/IsFXMFtVFBFoIo+umiiixH6qGOgNEDVpJAsJAvJwpR5nMNNvIYLuIUqBigwxGMsYYg2FtDGKxhjgGUMTQrJQrKQLEz5Hf9gC0v4BrOoYIAKuujhBF6ghSE6WEYNX2MefZNCspAsJAtTtrGt9J5SV6mlNMI8hmihoTSHKs7jHl44KCQLyUKycIRAF3tooIMxBgjsYYBTeIoWttHBtlKBkUkhWUgWkv0Pqvb0ZdMWg8EAAAAASUVORK5C\"></td><td style='text-align:center;vertical-align:middle; margin: 0.5em;border:1px #90999f solid;border-collapse:collapse'><img style='max-width: 100px; max-height:100px;display:inline' src=\"data:image/png;base64,iVBORw0KGgoAAAANSUhEUgAAAHAAAABwCAAAAADji6uXAAAABGdBTUEAALGPC/xhBQAAAAFzUkdCAK7OHOkAAAAgY0hSTQAAeiYAAICEAAD6AAAAgOgAAHUwAADqYAAAOpgAABdwnLpRPAAAArhJREFUaAW9wTtongUYBtDzJ09CbGNtDL0gFrQ2rRZBjVCwBkSxIEUHqYM4OARxc3BzEHR1UVxcFBdBB4eq4NKhDiLYJUORmKJQVGrSNCZpjc3FJJ/CF/gppRiX95woFsWiWBSLYlEsikWxKBbFolgUi2JRLIpFsSgWxaJYFItiUSyKRbEoFsWiWBSLYlEsikWx+B96sKn1GBYw5WYdNFq96GBdK4pFsSgW29SLDa0TGMcKvsQXWkEPNtGLVWy4URSLYlEstmlD6y0cwA84jJfxLF7Buq51rVEcxwP4HFEsikWx+A/9WMMxfISv8DOexHf4CadwBl9jFtfxIPZjCauYwWFEsSgWxWJLBw066KAH61jTehXTeBN78DjGsIRPcQRHcT86uIx5rOBvnMcZRLEoFsViS6PVoMGmrmcwhMtaV/Ac9uIDjOBbLKIPQ9iH33AW53RFsSgWxdJBDxpsau3A03gKB7EHv2PAjWbxAt7DSziHQQzjXUy6UQdRLIpFsTTY0PUaxjCLGfyIhzCK67o6aLRex0k8gjlMYVKrg0arQRSLYlEs/rUbt2EaOzGFKxjGAM5iGS/qarQexUHsxRr+wN14G7djA/O4hE8QxaJYFMv72I0pHMAMrmIIK+jHUXyD+3ASPTiBQcxhAcMYwCHswCLW0eBOjOIvRLEoFsXyGd7BEcyhHzP4FQvowwCG8DHGMYtpXMMhjGE/+rGMZTRYwTKWMIwLiGJRLIrlezyB5zGOU7gDK1jHJVzFNQyiB7twDH0YwTwWsYZ9WMMi+tGLP3EPGkSxKBbFYstpnNY1iofRi+NYxS/YhQs4jwk3uxcjuAs7tebxBiYRxaJYFItbmMCE1oe27yIuurUoFsWiWBSLYlEsikWxKBbFolgUi2JRLIpFsSgWxaJYFItiUSyKRbEoFsWi2D8JH5KG73Ik1QAAAABJRU5ErkJg\"></td><td style='text-align:center;vertical-align:middle; margin: 0.5em;border:1px #90999f solid;border-collapse:collapse'><img style='max-width: 100px; max-height:100px;display:inline' src=\"data:image/png;base64,iVBORw0KGgoAAAANSUhEUgAAAHAAAABwCAAAAADji6uXAAAABGdBTUEAALGPC/xhBQAAAAFzUkdCAK7OHOkAAAAgY0hSTQAAeiYAAICEAAD6AAAAgOgAAHUwAADqYAAAOpgAABdwnLpRPAAAA7hJREFUaAW9wT2PVGUYANBz731mdpaFRRCFSEBEwWhiYqKFjYVGTeysTSz9ERZWFJr4A6hM/AM2xsZOE7WwsLHwgxhCCIKAIJ/L7My8r8UtNtyZTbB5zgmP6H28iScwwiau4wd85tGFZCFZSBZ20aLo3cQmbuMy9uIunsXbOIOJXoNqdyFZSBaShV0UvefQ4mc8hqu4gg5TXMAJfIKPUNGiWC0kC8lCsjDQoOo9gzO4jacwwjrG2IOLCNzAu7iFT1HQolgWkoVkIVkYqHqf4x1cx3U8iRkCl3ASezHBPdzDh3gN76GgRfGwkCwkC8nCCm/gdfyBDjPcwxQVm/gemziKBe7gb7yAj3EGxbKQLCQLycIKH2CGNb2KByiYIjDHAl/gGE5jHTfxgt2FZCFZSBZWGCGwH39irx2BQIeK5zHCYdzFHMfsLiQLyUKysMIhFBzGX9hGYIEGLRps4zimuIMX8QfWcQrnLAvJQrKQLKywT2+MI7iGGTq9BxihxRQzrGOCgj04inOWhWQhWUgWVngeVzHWa7GGESoKxnqBBgtUNHov4VvLQrKQLCQLAwexgTnW0GEDE9zGBC0qOjQYYYSKiopXrBaShWQhWRg4jg5Vb4QZ5pjrFTRo9Qr2YY5G75jVQrKQLCQLA4cxQ0GLiqrXoUWjVzHBNm7iCPagYma1kCwkC8nCwCGEHTNUtKioqHbMEbiPdTQo2LRaSBaShWRh4CCu6N3AFUzQ6DWoqHoFgTF+wkGMccBqIVlIFpKFgXWMUXEL13AaW2jRoEFBRYsF1vELNjFBZ7WQLCQLycLAAwRG+B3/YB9uIdCiQYOCgoIxLuNVtKgYYeZhIVlIFpKFgYoRKv5FRYsFOlS0dhQssIF/MMUmHuApXPCwkCwkC8nCwBwtOlxGoGKOERZ6LQoKCtZxE7/hBLZwABc8LCQLyUKyMLCNijVcwilso6CioGKMDjMUdKg4jzEK9lsWkoVkIVkYmKNgjIt4GVtoUNDqLfRabGML+/QavUOWhWQhWUgWBtb0OkzRYoYGBQ1aLFDRosEWGhSMMMVey0KykCwkCwMbmGMDR3AfjV6DVq+iokGDGQ5ggSm2MbEsJAvJQrIw0OA2nkaHe7iLgoVeg4qKqncVm/gVU1SsWRaShWQhWVjhLhr8iXewH1N0CL1qxxwjnMR3WKDD2LKQLCQLycLADMfR4Ty+weu4jw4tGiyw0KvYjx9xDhM8jkOWhWQhWUgWBr7GW2hxFWdx1v/zFVp8aVlIFpKFZP8BOOzrOs51RmMAAAAASUVORK5C\"></td><td style='text-align:center;vertical-align:middle; margin: 0.5em;border:1px #90999f solid;border-collapse:collapse'><img style='max-width: 100px; max-height:100px;display:inline' src=\"data:image/png;base64,iVBORw0KGgoAAAANSUhEUgAAAHAAAABwCAAAAADji6uXAAAABGdBTUEAALGPC/xhBQAAAAFzUkdCAK7OHOkAAAAgY0hSTQAAeiYAAICEAAD6AAAAgOgAAHUwAADqYAAAOpgAABdwnLpRPAAAA45JREFUaAW9wUuIVQUYAODv3vPf0ZkJkVIZSDB7kq8iEBdBUNCmlQuNNkGrFgWF0NKdEUGR1CqQiIqCFrVolYRQ2NOxF9X0UrHSGqfxMTOO15n7anEWw3DPdVr93xeShWQhWUgWVlBDz5IevkOBUdyMmiV1dA0WkoVkIVlYQU9pM7ZjHDsxhbV4HgdwGJ+i69pCspAsJAsr2I8HcD8+wl4cwSg+xFv4HvsxgZfwmsFCspAsJAsVCnTwHu7DNH7AFhzCYTyB03gWFzCNERzEI3hQtZAsJAvJQoWa0tu4HU0MYwZbsQUv4klcxgwamEUHEwYLyUKykCxUaCu9j+fQQwt1TCPwOM5hDqvQRgPr8LTBQrKQLCQLAxTo4DAexQkMo4YGPsC9CHTRxQZ8pjSMpn4hWUgWkoUBAh38hGF00EUNXRRoo40htDGCCaURNPULyUKykCwMEFhAGwUWMYQ6rmIX2mihwCICPaWGaiFZSBaShQHqSqvQxjC6qKHAH9ik1MJqNFFgDIVqIVlIFpKFARZxO37EOMZwAQUKfIuNaKCLUZzC17gb36gWkoVkIVkYYAHbcBpT2IYLqGMRu1FHE12M4E9cxJ04qlpIFpKFZOEa1uM6zOFnrEEHBc5jPTqoYRhT2IQxzKsWkoVkIVmoUEMPM9iBYziOAziBBj7GY/gbd+ANfIGtmDNYSBaShWThGqbxL47hZVxWquEhzKGGOjbiXTyFFlahha7lQrKQLCQLFQq0sQYXMIHbcA6BOgIdrMYsdirNYww1FOhaLiQLyUKycA0bMIsdGEELQ7iCT7AHTbQwjAIz2IS6UstyIVlIFpKFAQrM4ziewVW00MAQ7lLqYhZr8SoO4RaMYl6/kCwkC8lChYbS7+hhJ2awDvMIbEITq1HHAnbjICZRxxCuWC4kC8lCslChiwVsxl8Yx2Y0cSvO4iR2YRb/KI3jNPZgQbWQLCQLyUKFLlajjgVM4jguYj+uRwejOIk3sR03YghNDOGKfiFZSBaShQot3IBFXMIvWIubMIkGLmMKTdyDNo7gEmYxinn9QrKQLCQLA1zBebTxjiUvWNk8htDWLyQLyUKyMMAsTllSoGOwQFvpDH5DT7+QLCQLyUKFfXgYX2KfUke1GnpoW7IXr+B1HLRcSBaShWShwlFsxhkr6+l3Fl/hc/1CspAsJAsVJvErxpVq6Pn/jmIR5/ULyUKykOw/8sLfDTN6aVkAAAAASUVORK5C\"></td></tr></tbody></table><div><small>(a vector displayed as a row to save space)</small></div>"
      ],
      "text/plain": [
       "6-element Vector{Base.ReinterpretArray{Gray{N0f8}, 2, N0f8, Matrix{N0f8}, true}}:\n",
       " [Gray{N0f8}(0.0) Gray{N0f8}(0.0) … Gray{N0f8}(0.0) Gray{N0f8}(0.0); Gray{N0f8}(0.0) Gray{N0f8}(0.0) … Gray{N0f8}(0.0) Gray{N0f8}(0.0); … ; Gray{N0f8}(0.0) Gray{N0f8}(0.0) … Gray{N0f8}(0.0) Gray{N0f8}(0.0); Gray{N0f8}(0.0) Gray{N0f8}(0.0) … Gray{N0f8}(0.0) Gray{N0f8}(0.0)]\n",
       " [Gray{N0f8}(0.0) Gray{N0f8}(0.0) … Gray{N0f8}(0.0) Gray{N0f8}(0.0); Gray{N0f8}(0.0) Gray{N0f8}(0.0) … Gray{N0f8}(0.0) Gray{N0f8}(0.0); … ; Gray{N0f8}(0.0) Gray{N0f8}(0.0) … Gray{N0f8}(0.0) Gray{N0f8}(0.0); Gray{N0f8}(0.0) Gray{N0f8}(0.0) … Gray{N0f8}(0.0) Gray{N0f8}(0.0)]\n",
       " [Gray{N0f8}(0.0) Gray{N0f8}(0.0) … Gray{N0f8}(0.0) Gray{N0f8}(0.0); Gray{N0f8}(0.0) Gray{N0f8}(0.0) … Gray{N0f8}(0.0) Gray{N0f8}(0.0); … ; Gray{N0f8}(0.0) Gray{N0f8}(0.0) … Gray{N0f8}(0.0) Gray{N0f8}(0.0); Gray{N0f8}(0.0) Gray{N0f8}(0.0) … Gray{N0f8}(0.0) Gray{N0f8}(0.0)]\n",
       " [Gray{N0f8}(0.0) Gray{N0f8}(0.0) … Gray{N0f8}(0.0) Gray{N0f8}(0.0); Gray{N0f8}(0.0) Gray{N0f8}(0.0) … Gray{N0f8}(0.0) Gray{N0f8}(0.0); … ; Gray{N0f8}(0.0) Gray{N0f8}(0.0) … Gray{N0f8}(0.0) Gray{N0f8}(0.0); Gray{N0f8}(0.0) Gray{N0f8}(0.0) … Gray{N0f8}(0.0) Gray{N0f8}(0.0)]\n",
       " [Gray{N0f8}(0.0) Gray{N0f8}(0.0) … Gray{N0f8}(0.0) Gray{N0f8}(0.0); Gray{N0f8}(0.0) Gray{N0f8}(0.0) … Gray{N0f8}(0.0) Gray{N0f8}(0.0); … ; Gray{N0f8}(0.0) Gray{N0f8}(0.0) … Gray{N0f8}(0.0) Gray{N0f8}(0.0); Gray{N0f8}(0.0) Gray{N0f8}(0.0) … Gray{N0f8}(0.0) Gray{N0f8}(0.0)]\n",
       " [Gray{N0f8}(0.0) Gray{N0f8}(0.0) … Gray{N0f8}(0.0) Gray{N0f8}(0.0); Gray{N0f8}(0.0) Gray{N0f8}(0.0) … Gray{N0f8}(0.0) Gray{N0f8}(0.0); … ; Gray{N0f8}(0.0) Gray{N0f8}(0.0) … Gray{N0f8}(0.0) Gray{N0f8}(0.0); Gray{N0f8}(0.0) Gray{N0f8}(0.0) … Gray{N0f8}(0.0) Gray{N0f8}(0.0)]"
      ]
     },
     "execution_count": 14,
     "metadata": {},
     "output_type": "execute_result"
    }
   ],
   "source": [
    "k = rand(1:n, 6)\n",
    "println([\"$(labels[Y[i]])\" for i in k])\n",
    "[FashionMNIST.convert2image(X[:,:,i]) for i in k]"
   ]
  },
  {
   "cell_type": "markdown",
   "metadata": {},
   "source": [
    "## Visualizing the data\n",
    "\n",
    "Each input data point is an image consisting of grey values for $28\\times 28$ pixels.\n",
    "\n",
    "Thus the data lives in $\\mathbb R^D$ with $D=28^2 = 784$."
   ]
  },
  {
   "cell_type": "code",
   "execution_count": 15,
   "metadata": {},
   "outputs": [
    {
     "data": {
      "text/plain": [
       "784"
      ]
     },
     "execution_count": 15,
     "metadata": {},
     "output_type": "execute_result"
    }
   ],
   "source": [
    "D = 28^2"
   ]
  },
  {
   "cell_type": "markdown",
   "metadata": {},
   "source": [
    "Let us look at the structure of the first input data point:"
   ]
  },
  {
   "cell_type": "code",
   "execution_count": 17,
   "metadata": {},
   "outputs": [
    {
     "data": {
      "text/plain": [
       "Matrix{N0f8} (alias for Array{Normed{UInt8, 8}, 2})"
      ]
     },
     "execution_count": 17,
     "metadata": {},
     "output_type": "execute_result"
    }
   ],
   "source": [
    "typeof(X[:,:,1])"
   ]
  },
  {
   "cell_type": "markdown",
   "metadata": {},
   "source": [
    "We see that the input data consists of matrices. \n",
    "\n",
    "For using machine learning algorithm we first transform the input data points into vectors using the `vec` function."
   ]
  },
  {
   "cell_type": "code",
   "execution_count": 41,
   "metadata": {},
   "outputs": [],
   "source": [
    "X_vec = [vec(X[:,:,i]) for i in 1:n];\n",
    "X_test_vec = [vec(X_test[:,:,i]) for i in 1:n];"
   ]
  },
  {
   "cell_type": "markdown",
   "metadata": {},
   "source": [
    "We can visualize this data by randomly projecting the points in $\\mathbb R^D$ to $\\mathbb R^2$. For instance, we can first center the data and then sample a random projection matrix:"
   ]
  },
  {
   "cell_type": "code",
   "execution_count": 19,
   "metadata": {},
   "outputs": [],
   "source": [
    "x̄ = mean(X_vec)\n",
    "Pr = randn(2, D)\n",
    "X_Pr = hcat(map(x -> Pr*(x - x̄), X_vec)...);"
   ]
  },
  {
   "cell_type": "markdown",
   "metadata": {},
   "source": [
    "We can now apply a scatter plot the the projected data."
   ]
  },
  {
   "cell_type": "code",
   "execution_count": 57,
   "metadata": {},
   "outputs": [
    {
     "data": {
      "image/svg+xml": [
       "<?xml version=\"1.0\" encoding=\"utf-8\"?>\n",
       "<svg xmlns=\"http://www.w3.org/2000/svg\" xmlns:xlink=\"http://www.w3.org/1999/xlink\" width=\"600\" height=\"300\" viewBox=\"0 0 2400 1200\">\n",
       "<defs>\n",
       "  <clipPath id=\"clip420\">\n",
       "    <rect x=\"0\" y=\"0\" width=\"2400\" height=\"1200\"/>\n",
       "  </clipPath>\n",
       "</defs>\n",
       "<path clip-path=\"url(#clip420)\" d=\"\n",
       "M0 1200 L2400 1200 L2400 0 L0 0  Z\n",
       "  \" fill=\"#ffffff\" fill-rule=\"evenodd\" fill-opacity=\"1\"/>\n",
       "<defs>\n",
       "  <clipPath id=\"clip421\">\n",
       "    <rect x=\"480\" y=\"0\" width=\"1681\" height=\"1200\"/>\n",
       "  </clipPath>\n",
       "</defs>\n",
       "<path clip-path=\"url(#clip420)\" d=\"\n",
       "M178.867 1099.09 L2352.76 1099.09 L2352.76 47.2441 L178.867 47.2441  Z\n",
       "  \" fill=\"#ffffff\" fill-rule=\"evenodd\" fill-opacity=\"1\"/>\n",
       "<defs>\n",
       "  <clipPath id=\"clip422\">\n",
       "    <rect x=\"178\" y=\"47\" width=\"2175\" height=\"1053\"/>\n",
       "  </clipPath>\n",
       "</defs>\n",
       "<polyline clip-path=\"url(#clip422)\" style=\"stroke:#000000; stroke-linecap:butt; stroke-linejoin:round; stroke-width:2; stroke-opacity:0.1; fill:none\" points=\"\n",
       "  242.563,1099.09 242.563,47.2441 \n",
       "  \"/>\n",
       "<polyline clip-path=\"url(#clip422)\" style=\"stroke:#000000; stroke-linecap:butt; stroke-linejoin:round; stroke-width:2; stroke-opacity:0.1; fill:none\" points=\"\n",
       "  654.06,1099.09 654.06,47.2441 \n",
       "  \"/>\n",
       "<polyline clip-path=\"url(#clip422)\" style=\"stroke:#000000; stroke-linecap:butt; stroke-linejoin:round; stroke-width:2; stroke-opacity:0.1; fill:none\" points=\"\n",
       "  1065.56,1099.09 1065.56,47.2441 \n",
       "  \"/>\n",
       "<polyline clip-path=\"url(#clip422)\" style=\"stroke:#000000; stroke-linecap:butt; stroke-linejoin:round; stroke-width:2; stroke-opacity:0.1; fill:none\" points=\"\n",
       "  1477.05,1099.09 1477.05,47.2441 \n",
       "  \"/>\n",
       "<polyline clip-path=\"url(#clip422)\" style=\"stroke:#000000; stroke-linecap:butt; stroke-linejoin:round; stroke-width:2; stroke-opacity:0.1; fill:none\" points=\"\n",
       "  1888.55,1099.09 1888.55,47.2441 \n",
       "  \"/>\n",
       "<polyline clip-path=\"url(#clip422)\" style=\"stroke:#000000; stroke-linecap:butt; stroke-linejoin:round; stroke-width:2; stroke-opacity:0.1; fill:none\" points=\"\n",
       "  2300.05,1099.09 2300.05,47.2441 \n",
       "  \"/>\n",
       "<polyline clip-path=\"url(#clip420)\" style=\"stroke:#000000; stroke-linecap:butt; stroke-linejoin:round; stroke-width:4; stroke-opacity:1; fill:none\" points=\"\n",
       "  178.867,1099.09 2352.76,1099.09 \n",
       "  \"/>\n",
       "<polyline clip-path=\"url(#clip420)\" style=\"stroke:#000000; stroke-linecap:butt; stroke-linejoin:round; stroke-width:4; stroke-opacity:1; fill:none\" points=\"\n",
       "  242.563,1099.09 242.563,1080.19 \n",
       "  \"/>\n",
       "<polyline clip-path=\"url(#clip420)\" style=\"stroke:#000000; stroke-linecap:butt; stroke-linejoin:round; stroke-width:4; stroke-opacity:1; fill:none\" points=\"\n",
       "  654.06,1099.09 654.06,1080.19 \n",
       "  \"/>\n",
       "<polyline clip-path=\"url(#clip420)\" style=\"stroke:#000000; stroke-linecap:butt; stroke-linejoin:round; stroke-width:4; stroke-opacity:1; fill:none\" points=\"\n",
       "  1065.56,1099.09 1065.56,1080.19 \n",
       "  \"/>\n",
       "<polyline clip-path=\"url(#clip420)\" style=\"stroke:#000000; stroke-linecap:butt; stroke-linejoin:round; stroke-width:4; stroke-opacity:1; fill:none\" points=\"\n",
       "  1477.05,1099.09 1477.05,1080.19 \n",
       "  \"/>\n",
       "<polyline clip-path=\"url(#clip420)\" style=\"stroke:#000000; stroke-linecap:butt; stroke-linejoin:round; stroke-width:4; stroke-opacity:1; fill:none\" points=\"\n",
       "  1888.55,1099.09 1888.55,1080.19 \n",
       "  \"/>\n",
       "<polyline clip-path=\"url(#clip420)\" style=\"stroke:#000000; stroke-linecap:butt; stroke-linejoin:round; stroke-width:4; stroke-opacity:1; fill:none\" points=\"\n",
       "  2300.05,1099.09 2300.05,1080.19 \n",
       "  \"/>\n",
       "<path clip-path=\"url(#clip420)\" d=\"M196.625 1144.66 L226.301 1144.66 L226.301 1148.59 L196.625 1148.59 L196.625 1144.66 Z\" fill=\"#000000\" fill-rule=\"evenodd\" fill-opacity=\"1\" /><path clip-path=\"url(#clip420)\" d=\"M250.56 1142.85 Q253.917 1143.57 255.792 1145.84 Q257.69 1148.11 257.69 1151.44 Q257.69 1156.56 254.171 1159.36 Q250.653 1162.16 244.171 1162.16 Q241.995 1162.16 239.681 1161.72 Q237.389 1161.3 234.935 1160.45 L234.935 1155.93 Q236.88 1157.07 239.195 1157.65 Q241.509 1158.22 244.033 1158.22 Q248.431 1158.22 250.722 1156.49 Q253.037 1154.75 253.037 1151.44 Q253.037 1148.39 250.884 1146.67 Q248.755 1144.94 244.935 1144.94 L240.908 1144.94 L240.908 1141.09 L245.12 1141.09 Q248.57 1141.09 250.398 1139.73 Q252.227 1138.34 252.227 1135.75 Q252.227 1133.09 250.329 1131.67 Q248.454 1130.24 244.935 1130.24 Q243.014 1130.24 240.815 1130.65 Q238.616 1131.07 235.977 1131.95 L235.977 1127.78 Q238.639 1127.04 240.954 1126.67 Q243.292 1126.3 245.352 1126.3 Q250.676 1126.3 253.778 1128.73 Q256.88 1131.14 256.88 1135.26 Q256.88 1138.13 255.236 1140.12 Q253.593 1142.09 250.56 1142.85 Z\" fill=\"#000000\" fill-rule=\"evenodd\" fill-opacity=\"1\" /><path clip-path=\"url(#clip420)\" d=\"M276.555 1130.01 Q272.944 1130.01 271.116 1133.57 Q269.31 1137.11 269.31 1144.24 Q269.31 1151.35 271.116 1154.91 Q272.944 1158.46 276.555 1158.46 Q280.19 1158.46 281.995 1154.91 Q283.824 1151.35 283.824 1144.24 Q283.824 1137.11 281.995 1133.57 Q280.19 1130.01 276.555 1130.01 M276.555 1126.3 Q282.366 1126.3 285.421 1130.91 Q288.5 1135.49 288.5 1144.24 Q288.5 1152.97 285.421 1157.58 Q282.366 1162.16 276.555 1162.16 Q270.745 1162.16 267.667 1157.58 Q264.611 1152.97 264.611 1144.24 Q264.611 1135.49 267.667 1130.91 Q270.745 1126.3 276.555 1126.3 Z\" fill=\"#000000\" fill-rule=\"evenodd\" fill-opacity=\"1\" /><path clip-path=\"url(#clip420)\" d=\"M608.123 1144.66 L637.798 1144.66 L637.798 1148.59 L608.123 1148.59 L608.123 1144.66 Z\" fill=\"#000000\" fill-rule=\"evenodd\" fill-opacity=\"1\" /><path clip-path=\"url(#clip420)\" d=\"M651.919 1157.55 L668.238 1157.55 L668.238 1161.49 L646.294 1161.49 L646.294 1157.55 Q648.956 1154.8 653.539 1150.17 Q658.145 1145.52 659.326 1144.17 Q661.571 1141.65 662.451 1139.91 Q663.354 1138.15 663.354 1136.46 Q663.354 1133.71 661.409 1131.97 Q659.488 1130.24 656.386 1130.24 Q654.187 1130.24 651.733 1131 Q649.303 1131.77 646.525 1133.32 L646.525 1128.59 Q649.349 1127.46 651.803 1126.88 Q654.257 1126.3 656.294 1126.3 Q661.664 1126.3 664.858 1128.99 Q668.053 1131.67 668.053 1136.16 Q668.053 1138.29 667.243 1140.21 Q666.456 1142.11 664.349 1144.71 Q663.77 1145.38 660.669 1148.59 Q657.567 1151.79 651.919 1157.55 Z\" fill=\"#000000\" fill-rule=\"evenodd\" fill-opacity=\"1\" /><path clip-path=\"url(#clip420)\" d=\"M688.053 1130.01 Q684.442 1130.01 682.613 1133.57 Q680.807 1137.11 680.807 1144.24 Q680.807 1151.35 682.613 1154.91 Q684.442 1158.46 688.053 1158.46 Q691.687 1158.46 693.492 1154.91 Q695.321 1151.35 695.321 1144.24 Q695.321 1137.11 693.492 1133.57 Q691.687 1130.01 688.053 1130.01 M688.053 1126.3 Q693.863 1126.3 696.918 1130.91 Q699.997 1135.49 699.997 1144.24 Q699.997 1152.97 696.918 1157.58 Q693.863 1162.16 688.053 1162.16 Q682.243 1162.16 679.164 1157.58 Q676.108 1152.97 676.108 1144.24 Q676.108 1135.49 679.164 1130.91 Q682.243 1126.3 688.053 1126.3 Z\" fill=\"#000000\" fill-rule=\"evenodd\" fill-opacity=\"1\" /><path clip-path=\"url(#clip420)\" d=\"M1019.62 1144.66 L1049.3 1144.66 L1049.3 1148.59 L1019.62 1148.59 L1019.62 1144.66 Z\" fill=\"#000000\" fill-rule=\"evenodd\" fill-opacity=\"1\" /><path clip-path=\"url(#clip420)\" d=\"M1060.2 1157.55 L1067.84 1157.55 L1067.84 1131.19 L1059.53 1132.85 L1059.53 1128.59 L1067.79 1126.93 L1072.47 1126.93 L1072.47 1157.55 L1080.11 1157.55 L1080.11 1161.49 L1060.2 1161.49 L1060.2 1157.55 Z\" fill=\"#000000\" fill-rule=\"evenodd\" fill-opacity=\"1\" /><path clip-path=\"url(#clip420)\" d=\"M1099.55 1130.01 Q1095.94 1130.01 1094.11 1133.57 Q1092.3 1137.11 1092.3 1144.24 Q1092.3 1151.35 1094.11 1154.91 Q1095.94 1158.46 1099.55 1158.46 Q1103.18 1158.46 1104.99 1154.91 Q1106.82 1151.35 1106.82 1144.24 Q1106.82 1137.11 1104.99 1133.57 Q1103.18 1130.01 1099.55 1130.01 M1099.55 1126.3 Q1105.36 1126.3 1108.42 1130.91 Q1111.49 1135.49 1111.49 1144.24 Q1111.49 1152.97 1108.42 1157.58 Q1105.36 1162.16 1099.55 1162.16 Q1093.74 1162.16 1090.66 1157.58 Q1087.61 1152.97 1087.61 1144.24 Q1087.61 1135.49 1090.66 1130.91 Q1093.74 1126.3 1099.55 1126.3 Z\" fill=\"#000000\" fill-rule=\"evenodd\" fill-opacity=\"1\" /><path clip-path=\"url(#clip420)\" d=\"M1477.05 1130.01 Q1473.44 1130.01 1471.61 1133.57 Q1469.81 1137.11 1469.81 1144.24 Q1469.81 1151.35 1471.61 1154.91 Q1473.44 1158.46 1477.05 1158.46 Q1480.69 1158.46 1482.49 1154.91 Q1484.32 1151.35 1484.32 1144.24 Q1484.32 1137.11 1482.49 1133.57 Q1480.69 1130.01 1477.05 1130.01 M1477.05 1126.3 Q1482.86 1126.3 1485.92 1130.91 Q1489 1135.49 1489 1144.24 Q1489 1152.97 1485.92 1157.58 Q1482.86 1162.16 1477.05 1162.16 Q1471.24 1162.16 1468.17 1157.58 Q1465.11 1152.97 1465.11 1144.24 Q1465.11 1135.49 1468.17 1130.91 Q1471.24 1126.3 1477.05 1126.3 Z\" fill=\"#000000\" fill-rule=\"evenodd\" fill-opacity=\"1\" /><path clip-path=\"url(#clip420)\" d=\"M1863.24 1157.55 L1870.88 1157.55 L1870.88 1131.19 L1862.57 1132.85 L1862.57 1128.59 L1870.83 1126.93 L1875.51 1126.93 L1875.51 1157.55 L1883.15 1157.55 L1883.15 1161.49 L1863.24 1161.49 L1863.24 1157.55 Z\" fill=\"#000000\" fill-rule=\"evenodd\" fill-opacity=\"1\" /><path clip-path=\"url(#clip420)\" d=\"M1902.59 1130.01 Q1898.98 1130.01 1897.15 1133.57 Q1895.35 1137.11 1895.35 1144.24 Q1895.35 1151.35 1897.15 1154.91 Q1898.98 1158.46 1902.59 1158.46 Q1906.22 1158.46 1908.03 1154.91 Q1909.86 1151.35 1909.86 1144.24 Q1909.86 1137.11 1908.03 1133.57 Q1906.22 1130.01 1902.59 1130.01 M1902.59 1126.3 Q1908.4 1126.3 1911.46 1130.91 Q1914.53 1135.49 1914.53 1144.24 Q1914.53 1152.97 1911.46 1157.58 Q1908.4 1162.16 1902.59 1162.16 Q1896.78 1162.16 1893.7 1157.58 Q1890.65 1152.97 1890.65 1144.24 Q1890.65 1135.49 1893.7 1130.91 Q1896.78 1126.3 1902.59 1126.3 Z\" fill=\"#000000\" fill-rule=\"evenodd\" fill-opacity=\"1\" /><path clip-path=\"url(#clip420)\" d=\"M2278.82 1157.55 L2295.14 1157.55 L2295.14 1161.49 L2273.2 1161.49 L2273.2 1157.55 Q2275.86 1154.8 2280.44 1150.17 Q2285.05 1145.52 2286.23 1144.17 Q2288.47 1141.65 2289.35 1139.91 Q2290.26 1138.15 2290.26 1136.46 Q2290.26 1133.71 2288.31 1131.97 Q2286.39 1130.24 2283.29 1130.24 Q2281.09 1130.24 2278.64 1131 Q2276.21 1131.77 2273.43 1133.32 L2273.43 1128.59 Q2276.25 1127.46 2278.71 1126.88 Q2281.16 1126.3 2283.2 1126.3 Q2288.57 1126.3 2291.76 1128.99 Q2294.96 1131.67 2294.96 1136.16 Q2294.96 1138.29 2294.15 1140.21 Q2293.36 1142.11 2291.25 1144.71 Q2290.67 1145.38 2287.57 1148.59 Q2284.47 1151.79 2278.82 1157.55 Z\" fill=\"#000000\" fill-rule=\"evenodd\" fill-opacity=\"1\" /><path clip-path=\"url(#clip420)\" d=\"M2314.96 1130.01 Q2311.34 1130.01 2309.52 1133.57 Q2307.71 1137.11 2307.71 1144.24 Q2307.71 1151.35 2309.52 1154.91 Q2311.34 1158.46 2314.96 1158.46 Q2318.59 1158.46 2320.4 1154.91 Q2322.22 1151.35 2322.22 1144.24 Q2322.22 1137.11 2320.4 1133.57 Q2318.59 1130.01 2314.96 1130.01 M2314.96 1126.3 Q2320.77 1126.3 2323.82 1130.91 Q2326.9 1135.49 2326.9 1144.24 Q2326.9 1152.97 2323.82 1157.58 Q2320.77 1162.16 2314.96 1162.16 Q2309.15 1162.16 2306.07 1157.58 Q2303.01 1152.97 2303.01 1144.24 Q2303.01 1135.49 2306.07 1130.91 Q2309.15 1126.3 2314.96 1126.3 Z\" fill=\"#000000\" fill-rule=\"evenodd\" fill-opacity=\"1\" /><polyline clip-path=\"url(#clip422)\" style=\"stroke:#000000; stroke-linecap:butt; stroke-linejoin:round; stroke-width:2; stroke-opacity:0.1; fill:none\" points=\"\n",
       "  178.867,1005.72 2352.76,1005.72 \n",
       "  \"/>\n",
       "<polyline clip-path=\"url(#clip422)\" style=\"stroke:#000000; stroke-linecap:butt; stroke-linejoin:round; stroke-width:2; stroke-opacity:0.1; fill:none\" points=\"\n",
       "  178.867,857.854 2352.76,857.854 \n",
       "  \"/>\n",
       "<polyline clip-path=\"url(#clip422)\" style=\"stroke:#000000; stroke-linecap:butt; stroke-linejoin:round; stroke-width:2; stroke-opacity:0.1; fill:none\" points=\"\n",
       "  178.867,709.991 2352.76,709.991 \n",
       "  \"/>\n",
       "<polyline clip-path=\"url(#clip422)\" style=\"stroke:#000000; stroke-linecap:butt; stroke-linejoin:round; stroke-width:2; stroke-opacity:0.1; fill:none\" points=\"\n",
       "  178.867,562.127 2352.76,562.127 \n",
       "  \"/>\n",
       "<polyline clip-path=\"url(#clip422)\" style=\"stroke:#000000; stroke-linecap:butt; stroke-linejoin:round; stroke-width:2; stroke-opacity:0.1; fill:none\" points=\"\n",
       "  178.867,414.264 2352.76,414.264 \n",
       "  \"/>\n",
       "<polyline clip-path=\"url(#clip422)\" style=\"stroke:#000000; stroke-linecap:butt; stroke-linejoin:round; stroke-width:2; stroke-opacity:0.1; fill:none\" points=\"\n",
       "  178.867,266.4 2352.76,266.4 \n",
       "  \"/>\n",
       "<polyline clip-path=\"url(#clip422)\" style=\"stroke:#000000; stroke-linecap:butt; stroke-linejoin:round; stroke-width:2; stroke-opacity:0.1; fill:none\" points=\"\n",
       "  178.867,118.536 2352.76,118.536 \n",
       "  \"/>\n",
       "<polyline clip-path=\"url(#clip420)\" style=\"stroke:#000000; stroke-linecap:butt; stroke-linejoin:round; stroke-width:4; stroke-opacity:1; fill:none\" points=\"\n",
       "  178.867,1099.09 178.867,47.2441 \n",
       "  \"/>\n",
       "<polyline clip-path=\"url(#clip420)\" style=\"stroke:#000000; stroke-linecap:butt; stroke-linejoin:round; stroke-width:4; stroke-opacity:1; fill:none\" points=\"\n",
       "  178.867,1005.72 197.764,1005.72 \n",
       "  \"/>\n",
       "<polyline clip-path=\"url(#clip420)\" style=\"stroke:#000000; stroke-linecap:butt; stroke-linejoin:round; stroke-width:4; stroke-opacity:1; fill:none\" points=\"\n",
       "  178.867,857.854 197.764,857.854 \n",
       "  \"/>\n",
       "<polyline clip-path=\"url(#clip420)\" style=\"stroke:#000000; stroke-linecap:butt; stroke-linejoin:round; stroke-width:4; stroke-opacity:1; fill:none\" points=\"\n",
       "  178.867,709.991 197.764,709.991 \n",
       "  \"/>\n",
       "<polyline clip-path=\"url(#clip420)\" style=\"stroke:#000000; stroke-linecap:butt; stroke-linejoin:round; stroke-width:4; stroke-opacity:1; fill:none\" points=\"\n",
       "  178.867,562.127 197.764,562.127 \n",
       "  \"/>\n",
       "<polyline clip-path=\"url(#clip420)\" style=\"stroke:#000000; stroke-linecap:butt; stroke-linejoin:round; stroke-width:4; stroke-opacity:1; fill:none\" points=\"\n",
       "  178.867,414.264 197.764,414.264 \n",
       "  \"/>\n",
       "<polyline clip-path=\"url(#clip420)\" style=\"stroke:#000000; stroke-linecap:butt; stroke-linejoin:round; stroke-width:4; stroke-opacity:1; fill:none\" points=\"\n",
       "  178.867,266.4 197.764,266.4 \n",
       "  \"/>\n",
       "<polyline clip-path=\"url(#clip420)\" style=\"stroke:#000000; stroke-linecap:butt; stroke-linejoin:round; stroke-width:4; stroke-opacity:1; fill:none\" points=\"\n",
       "  178.867,118.536 197.764,118.536 \n",
       "  \"/>\n",
       "<path clip-path=\"url(#clip420)\" d=\"M51.9875 1006.17 L81.6633 1006.17 L81.6633 1010.1 L51.9875 1010.1 L51.9875 1006.17 Z\" fill=\"#000000\" fill-rule=\"evenodd\" fill-opacity=\"1\" /><path clip-path=\"url(#clip420)\" d=\"M92.566 1019.06 L100.205 1019.06 L100.205 992.697 L91.8947 994.364 L91.8947 990.105 L100.159 988.438 L104.834 988.438 L104.834 1019.06 L112.473 1019.06 L112.473 1023 L92.566 1023 L92.566 1019.06 Z\" fill=\"#000000\" fill-rule=\"evenodd\" fill-opacity=\"1\" /><path clip-path=\"url(#clip420)\" d=\"M121.964 988.438 L140.32 988.438 L140.32 992.373 L126.246 992.373 L126.246 1000.85 Q127.265 1000.5 128.283 1000.34 Q129.302 1000.15 130.32 1000.15 Q136.107 1000.15 139.487 1003.32 Q142.867 1006.49 142.867 1011.91 Q142.867 1017.49 139.394 1020.59 Q135.922 1023.67 129.603 1023.67 Q127.427 1023.67 125.158 1023.3 Q122.913 1022.93 120.506 1022.19 L120.506 1017.49 Q122.589 1018.62 124.811 1019.18 Q127.033 1019.73 129.51 1019.73 Q133.515 1019.73 135.853 1017.63 Q138.191 1015.52 138.191 1011.91 Q138.191 1008.3 135.853 1006.19 Q133.515 1004.09 129.51 1004.09 Q127.635 1004.09 125.76 1004.5 Q123.908 1004.92 121.964 1005.8 L121.964 988.438 Z\" fill=\"#000000\" fill-rule=\"evenodd\" fill-opacity=\"1\" /><path clip-path=\"url(#clip420)\" d=\"M50.9921 858.306 L80.6679 858.306 L80.6679 862.241 L50.9921 862.241 L50.9921 858.306 Z\" fill=\"#000000\" fill-rule=\"evenodd\" fill-opacity=\"1\" /><path clip-path=\"url(#clip420)\" d=\"M91.5706 871.199 L99.2095 871.199 L99.2095 844.834 L90.8993 846.5 L90.8993 842.241 L99.1632 840.574 L103.839 840.574 L103.839 871.199 L111.478 871.199 L111.478 875.134 L91.5706 875.134 L91.5706 871.199 Z\" fill=\"#000000\" fill-rule=\"evenodd\" fill-opacity=\"1\" /><path clip-path=\"url(#clip420)\" d=\"M130.922 843.653 Q127.311 843.653 125.482 847.218 Q123.677 850.76 123.677 857.889 Q123.677 864.996 125.482 868.56 Q127.311 872.102 130.922 872.102 Q134.556 872.102 136.362 868.56 Q138.191 864.996 138.191 857.889 Q138.191 850.76 136.362 847.218 Q134.556 843.653 130.922 843.653 M130.922 839.949 Q136.732 839.949 139.788 844.556 Q142.867 849.139 142.867 857.889 Q142.867 866.616 139.788 871.222 Q136.732 875.806 130.922 875.806 Q125.112 875.806 122.033 871.222 Q118.978 866.616 118.978 857.889 Q118.978 849.139 122.033 844.556 Q125.112 839.949 130.922 839.949 Z\" fill=\"#000000\" fill-rule=\"evenodd\" fill-opacity=\"1\" /><path clip-path=\"url(#clip420)\" d=\"M82.1494 710.442 L111.825 710.442 L111.825 714.377 L82.1494 714.377 L82.1494 710.442 Z\" fill=\"#000000\" fill-rule=\"evenodd\" fill-opacity=\"1\" /><path clip-path=\"url(#clip420)\" d=\"M121.964 692.711 L140.32 692.711 L140.32 696.646 L126.246 696.646 L126.246 705.118 Q127.265 704.771 128.283 704.609 Q129.302 704.424 130.32 704.424 Q136.107 704.424 139.487 707.595 Q142.867 710.766 142.867 716.183 Q142.867 721.762 139.394 724.863 Q135.922 727.942 129.603 727.942 Q127.427 727.942 125.158 727.572 Q122.913 727.201 120.506 726.461 L120.506 721.762 Q122.589 722.896 124.811 723.451 Q127.033 724.007 129.51 724.007 Q133.515 724.007 135.853 721.901 Q138.191 719.794 138.191 716.183 Q138.191 712.572 135.853 710.465 Q133.515 708.359 129.51 708.359 Q127.635 708.359 125.76 708.776 Q123.908 709.192 121.964 710.072 L121.964 692.711 Z\" fill=\"#000000\" fill-rule=\"evenodd\" fill-opacity=\"1\" /><path clip-path=\"url(#clip420)\" d=\"M130.922 547.926 Q127.311 547.926 125.482 551.491 Q123.677 555.032 123.677 562.162 Q123.677 569.268 125.482 572.833 Q127.311 576.375 130.922 576.375 Q134.556 576.375 136.362 572.833 Q138.191 569.268 138.191 562.162 Q138.191 555.032 136.362 551.491 Q134.556 547.926 130.922 547.926 M130.922 544.222 Q136.732 544.222 139.788 548.829 Q142.867 553.412 142.867 562.162 Q142.867 570.889 139.788 575.495 Q136.732 580.079 130.922 580.079 Q125.112 580.079 122.033 575.495 Q118.978 570.889 118.978 562.162 Q118.978 553.412 122.033 548.829 Q125.112 544.222 130.922 544.222 Z\" fill=\"#000000\" fill-rule=\"evenodd\" fill-opacity=\"1\" /><path clip-path=\"url(#clip420)\" d=\"M121.964 396.984 L140.32 396.984 L140.32 400.919 L126.246 400.919 L126.246 409.391 Q127.265 409.044 128.283 408.882 Q129.302 408.697 130.32 408.697 Q136.107 408.697 139.487 411.868 Q142.867 415.039 142.867 420.456 Q142.867 426.034 139.394 429.136 Q135.922 432.215 129.603 432.215 Q127.427 432.215 125.158 431.845 Q122.913 431.474 120.506 430.733 L120.506 426.034 Q122.589 427.169 124.811 427.724 Q127.033 428.28 129.51 428.28 Q133.515 428.28 135.853 426.173 Q138.191 424.067 138.191 420.456 Q138.191 416.845 135.853 414.738 Q133.515 412.632 129.51 412.632 Q127.635 412.632 125.76 413.048 Q123.908 413.465 121.964 414.345 L121.964 396.984 Z\" fill=\"#000000\" fill-rule=\"evenodd\" fill-opacity=\"1\" /><path clip-path=\"url(#clip420)\" d=\"M91.5706 279.745 L99.2095 279.745 L99.2095 253.379 L90.8993 255.046 L90.8993 250.787 L99.1632 249.12 L103.839 249.12 L103.839 279.745 L111.478 279.745 L111.478 283.68 L91.5706 283.68 L91.5706 279.745 Z\" fill=\"#000000\" fill-rule=\"evenodd\" fill-opacity=\"1\" /><path clip-path=\"url(#clip420)\" d=\"M130.922 252.199 Q127.311 252.199 125.482 255.763 Q123.677 259.305 123.677 266.435 Q123.677 273.541 125.482 277.106 Q127.311 280.648 130.922 280.648 Q134.556 280.648 136.362 277.106 Q138.191 273.541 138.191 266.435 Q138.191 259.305 136.362 255.763 Q134.556 252.199 130.922 252.199 M130.922 248.495 Q136.732 248.495 139.788 253.101 Q142.867 257.685 142.867 266.435 Q142.867 275.162 139.788 279.768 Q136.732 284.351 130.922 284.351 Q125.112 284.351 122.033 279.768 Q118.978 275.162 118.978 266.435 Q118.978 257.685 122.033 253.101 Q125.112 248.495 130.922 248.495 Z\" fill=\"#000000\" fill-rule=\"evenodd\" fill-opacity=\"1\" /><path clip-path=\"url(#clip420)\" d=\"M92.566 131.881 L100.205 131.881 L100.205 105.516 L91.8947 107.182 L91.8947 102.923 L100.159 101.256 L104.834 101.256 L104.834 131.881 L112.473 131.881 L112.473 135.816 L92.566 135.816 L92.566 131.881 Z\" fill=\"#000000\" fill-rule=\"evenodd\" fill-opacity=\"1\" /><path clip-path=\"url(#clip420)\" d=\"M121.964 101.256 L140.32 101.256 L140.32 105.192 L126.246 105.192 L126.246 113.664 Q127.265 113.316 128.283 113.154 Q129.302 112.969 130.32 112.969 Q136.107 112.969 139.487 116.141 Q142.867 119.312 142.867 124.728 Q142.867 130.307 139.394 133.409 Q135.922 136.488 129.603 136.488 Q127.427 136.488 125.158 136.117 Q122.913 135.747 120.506 135.006 L120.506 130.307 Q122.589 131.441 124.811 131.997 Q127.033 132.552 129.51 132.552 Q133.515 132.552 135.853 130.446 Q138.191 128.34 138.191 124.728 Q138.191 121.117 135.853 119.011 Q133.515 116.904 129.51 116.904 Q127.635 116.904 125.76 117.321 Q123.908 117.738 121.964 118.617 L121.964 101.256 Z\" fill=\"#000000\" fill-rule=\"evenodd\" fill-opacity=\"1\" /><circle clip-path=\"url(#clip422)\" cx=\"1576.31\" cy=\"605.9\" r=\"14\" fill=\"#cd5c5c\" fill-rule=\"evenodd\" fill-opacity=\"1\" stroke=\"#000000\" stroke-opacity=\"1\" stroke-width=\"2.4\"/>\n",
       "<circle clip-path=\"url(#clip422)\" cx=\"1528.83\" cy=\"538.128\" r=\"14\" fill=\"#cd5c5c\" fill-rule=\"evenodd\" fill-opacity=\"1\" stroke=\"#000000\" stroke-opacity=\"1\" stroke-width=\"2.4\"/>\n",
       "<circle clip-path=\"url(#clip422)\" cx=\"2238.4\" cy=\"792.818\" r=\"14\" fill=\"#cd5c5c\" fill-rule=\"evenodd\" fill-opacity=\"1\" stroke=\"#000000\" stroke-opacity=\"1\" stroke-width=\"2.4\"/>\n",
       "<circle clip-path=\"url(#clip422)\" cx=\"2050.88\" cy=\"611.113\" r=\"14\" fill=\"#cd5c5c\" fill-rule=\"evenodd\" fill-opacity=\"1\" stroke=\"#000000\" stroke-opacity=\"1\" stroke-width=\"2.4\"/>\n",
       "<circle clip-path=\"url(#clip422)\" cx=\"2095.9\" cy=\"922.183\" r=\"14\" fill=\"#cd5c5c\" fill-rule=\"evenodd\" fill-opacity=\"1\" stroke=\"#000000\" stroke-opacity=\"1\" stroke-width=\"2.4\"/>\n",
       "<circle clip-path=\"url(#clip422)\" cx=\"1712.7\" cy=\"639.921\" r=\"14\" fill=\"#cd5c5c\" fill-rule=\"evenodd\" fill-opacity=\"1\" stroke=\"#000000\" stroke-opacity=\"1\" stroke-width=\"2.4\"/>\n",
       "<circle clip-path=\"url(#clip422)\" cx=\"1848.46\" cy=\"968.805\" r=\"14\" fill=\"#cd5c5c\" fill-rule=\"evenodd\" fill-opacity=\"1\" stroke=\"#000000\" stroke-opacity=\"1\" stroke-width=\"2.4\"/>\n",
       "<circle clip-path=\"url(#clip422)\" cx=\"1996.27\" cy=\"294.883\" r=\"14\" fill=\"#cd5c5c\" fill-rule=\"evenodd\" fill-opacity=\"1\" stroke=\"#000000\" stroke-opacity=\"1\" stroke-width=\"2.4\"/>\n",
       "<circle clip-path=\"url(#clip422)\" cx=\"1412.3\" cy=\"549.823\" r=\"14\" fill=\"#cd5c5c\" fill-rule=\"evenodd\" fill-opacity=\"1\" stroke=\"#000000\" stroke-opacity=\"1\" stroke-width=\"2.4\"/>\n",
       "<circle clip-path=\"url(#clip422)\" cx=\"1415.51\" cy=\"767.478\" r=\"14\" fill=\"#cd5c5c\" fill-rule=\"evenodd\" fill-opacity=\"1\" stroke=\"#000000\" stroke-opacity=\"1\" stroke-width=\"2.4\"/>\n",
       "<circle clip-path=\"url(#clip422)\" cx=\"1860.03\" cy=\"950.286\" r=\"14\" fill=\"#cd5c5c\" fill-rule=\"evenodd\" fill-opacity=\"1\" stroke=\"#000000\" stroke-opacity=\"1\" stroke-width=\"2.4\"/>\n",
       "<circle clip-path=\"url(#clip422)\" cx=\"1682.05\" cy=\"549.955\" r=\"14\" fill=\"#cd5c5c\" fill-rule=\"evenodd\" fill-opacity=\"1\" stroke=\"#000000\" stroke-opacity=\"1\" stroke-width=\"2.4\"/>\n",
       "<circle clip-path=\"url(#clip422)\" cx=\"2291.23\" cy=\"989.918\" r=\"14\" fill=\"#cd5c5c\" fill-rule=\"evenodd\" fill-opacity=\"1\" stroke=\"#000000\" stroke-opacity=\"1\" stroke-width=\"2.4\"/>\n",
       "<circle clip-path=\"url(#clip422)\" cx=\"2162.47\" cy=\"834.39\" r=\"14\" fill=\"#cd5c5c\" fill-rule=\"evenodd\" fill-opacity=\"1\" stroke=\"#000000\" stroke-opacity=\"1\" stroke-width=\"2.4\"/>\n",
       "<circle clip-path=\"url(#clip422)\" cx=\"2050.29\" cy=\"905.565\" r=\"14\" fill=\"#cd5c5c\" fill-rule=\"evenodd\" fill-opacity=\"1\" stroke=\"#000000\" stroke-opacity=\"1\" stroke-width=\"2.4\"/>\n",
       "<circle clip-path=\"url(#clip422)\" cx=\"1683.15\" cy=\"786.696\" r=\"14\" fill=\"#cd5c5c\" fill-rule=\"evenodd\" fill-opacity=\"1\" stroke=\"#000000\" stroke-opacity=\"1\" stroke-width=\"2.4\"/>\n",
       "<circle clip-path=\"url(#clip422)\" cx=\"1767.38\" cy=\"930.573\" r=\"14\" fill=\"#cd5c5c\" fill-rule=\"evenodd\" fill-opacity=\"1\" stroke=\"#000000\" stroke-opacity=\"1\" stroke-width=\"2.4\"/>\n",
       "<circle clip-path=\"url(#clip422)\" cx=\"2074.04\" cy=\"1069.32\" r=\"14\" fill=\"#cd5c5c\" fill-rule=\"evenodd\" fill-opacity=\"1\" stroke=\"#000000\" stroke-opacity=\"1\" stroke-width=\"2.4\"/>\n",
       "<circle clip-path=\"url(#clip422)\" cx=\"1887.69\" cy=\"740.713\" r=\"14\" fill=\"#cd5c5c\" fill-rule=\"evenodd\" fill-opacity=\"1\" stroke=\"#000000\" stroke-opacity=\"1\" stroke-width=\"2.4\"/>\n",
       "<circle clip-path=\"url(#clip422)\" cx=\"1461.69\" cy=\"784.523\" r=\"14\" fill=\"#cd5c5c\" fill-rule=\"evenodd\" fill-opacity=\"1\" stroke=\"#000000\" stroke-opacity=\"1\" stroke-width=\"2.4\"/>\n",
       "<circle clip-path=\"url(#clip422)\" cx=\"1758.61\" cy=\"733.988\" r=\"14\" fill=\"#cd5c5c\" fill-rule=\"evenodd\" fill-opacity=\"1\" stroke=\"#000000\" stroke-opacity=\"1\" stroke-width=\"2.4\"/>\n",
       "<circle clip-path=\"url(#clip422)\" cx=\"1860.76\" cy=\"852.584\" r=\"14\" fill=\"#cd5c5c\" fill-rule=\"evenodd\" fill-opacity=\"1\" stroke=\"#000000\" stroke-opacity=\"1\" stroke-width=\"2.4\"/>\n",
       "<circle clip-path=\"url(#clip422)\" cx=\"2170.95\" cy=\"803.72\" r=\"14\" fill=\"#cd5c5c\" fill-rule=\"evenodd\" fill-opacity=\"1\" stroke=\"#000000\" stroke-opacity=\"1\" stroke-width=\"2.4\"/>\n",
       "<circle clip-path=\"url(#clip422)\" cx=\"2089.36\" cy=\"870.903\" r=\"14\" fill=\"#cd5c5c\" fill-rule=\"evenodd\" fill-opacity=\"1\" stroke=\"#000000\" stroke-opacity=\"1\" stroke-width=\"2.4\"/>\n",
       "<circle clip-path=\"url(#clip422)\" cx=\"1238.63\" cy=\"199.344\" r=\"14\" fill=\"#4682b4\" fill-rule=\"evenodd\" fill-opacity=\"1\" stroke=\"#000000\" stroke-opacity=\"1\" stroke-width=\"2.4\"/>\n",
       "<circle clip-path=\"url(#clip422)\" cx=\"240.392\" cy=\"728.09\" r=\"14\" fill=\"#4682b4\" fill-rule=\"evenodd\" fill-opacity=\"1\" stroke=\"#000000\" stroke-opacity=\"1\" stroke-width=\"2.4\"/>\n",
       "<circle clip-path=\"url(#clip422)\" cx=\"1036.74\" cy=\"281.942\" r=\"14\" fill=\"#4682b4\" fill-rule=\"evenodd\" fill-opacity=\"1\" stroke=\"#000000\" stroke-opacity=\"1\" stroke-width=\"2.4\"/>\n",
       "<circle clip-path=\"url(#clip422)\" cx=\"1031.89\" cy=\"590.059\" r=\"14\" fill=\"#4682b4\" fill-rule=\"evenodd\" fill-opacity=\"1\" stroke=\"#000000\" stroke-opacity=\"1\" stroke-width=\"2.4\"/>\n",
       "<circle clip-path=\"url(#clip422)\" cx=\"1152.91\" cy=\"244.018\" r=\"14\" fill=\"#4682b4\" fill-rule=\"evenodd\" fill-opacity=\"1\" stroke=\"#000000\" stroke-opacity=\"1\" stroke-width=\"2.4\"/>\n",
       "<circle clip-path=\"url(#clip422)\" cx=\"1184.38\" cy=\"113.192\" r=\"14\" fill=\"#4682b4\" fill-rule=\"evenodd\" fill-opacity=\"1\" stroke=\"#000000\" stroke-opacity=\"1\" stroke-width=\"2.4\"/>\n",
       "<circle clip-path=\"url(#clip422)\" cx=\"1389.71\" cy=\"277.79\" r=\"14\" fill=\"#4682b4\" fill-rule=\"evenodd\" fill-opacity=\"1\" stroke=\"#000000\" stroke-opacity=\"1\" stroke-width=\"2.4\"/>\n",
       "<circle clip-path=\"url(#clip422)\" cx=\"808.338\" cy=\"676.899\" r=\"14\" fill=\"#4682b4\" fill-rule=\"evenodd\" fill-opacity=\"1\" stroke=\"#000000\" stroke-opacity=\"1\" stroke-width=\"2.4\"/>\n",
       "<circle clip-path=\"url(#clip422)\" cx=\"1169.89\" cy=\"283.226\" r=\"14\" fill=\"#4682b4\" fill-rule=\"evenodd\" fill-opacity=\"1\" stroke=\"#000000\" stroke-opacity=\"1\" stroke-width=\"2.4\"/>\n",
       "<circle clip-path=\"url(#clip422)\" cx=\"1467.35\" cy=\"344.464\" r=\"14\" fill=\"#4682b4\" fill-rule=\"evenodd\" fill-opacity=\"1\" stroke=\"#000000\" stroke-opacity=\"1\" stroke-width=\"2.4\"/>\n",
       "<circle clip-path=\"url(#clip422)\" cx=\"568.585\" cy=\"339.829\" r=\"14\" fill=\"#4682b4\" fill-rule=\"evenodd\" fill-opacity=\"1\" stroke=\"#000000\" stroke-opacity=\"1\" stroke-width=\"2.4\"/>\n",
       "<circle clip-path=\"url(#clip422)\" cx=\"1412.3\" cy=\"282.357\" r=\"14\" fill=\"#4682b4\" fill-rule=\"evenodd\" fill-opacity=\"1\" stroke=\"#000000\" stroke-opacity=\"1\" stroke-width=\"2.4\"/>\n",
       "<circle clip-path=\"url(#clip422)\" cx=\"1132.16\" cy=\"498.188\" r=\"14\" fill=\"#4682b4\" fill-rule=\"evenodd\" fill-opacity=\"1\" stroke=\"#000000\" stroke-opacity=\"1\" stroke-width=\"2.4\"/>\n",
       "<circle clip-path=\"url(#clip422)\" cx=\"1686.35\" cy=\"309.27\" r=\"14\" fill=\"#4682b4\" fill-rule=\"evenodd\" fill-opacity=\"1\" stroke=\"#000000\" stroke-opacity=\"1\" stroke-width=\"2.4\"/>\n",
       "<circle clip-path=\"url(#clip422)\" cx=\"1087.03\" cy=\"254.542\" r=\"14\" fill=\"#4682b4\" fill-rule=\"evenodd\" fill-opacity=\"1\" stroke=\"#000000\" stroke-opacity=\"1\" stroke-width=\"2.4\"/>\n",
       "<circle clip-path=\"url(#clip422)\" cx=\"1192.95\" cy=\"418.589\" r=\"14\" fill=\"#4682b4\" fill-rule=\"evenodd\" fill-opacity=\"1\" stroke=\"#000000\" stroke-opacity=\"1\" stroke-width=\"2.4\"/>\n",
       "<circle clip-path=\"url(#clip422)\" cx=\"1080.07\" cy=\"273.397\" r=\"14\" fill=\"#4682b4\" fill-rule=\"evenodd\" fill-opacity=\"1\" stroke=\"#000000\" stroke-opacity=\"1\" stroke-width=\"2.4\"/>\n",
       "<circle clip-path=\"url(#clip422)\" cx=\"1367.19\" cy=\"250.569\" r=\"14\" fill=\"#4682b4\" fill-rule=\"evenodd\" fill-opacity=\"1\" stroke=\"#000000\" stroke-opacity=\"1\" stroke-width=\"2.4\"/>\n",
       "<circle clip-path=\"url(#clip422)\" cx=\"569.103\" cy=\"583.977\" r=\"14\" fill=\"#4682b4\" fill-rule=\"evenodd\" fill-opacity=\"1\" stroke=\"#000000\" stroke-opacity=\"1\" stroke-width=\"2.4\"/>\n",
       "<circle clip-path=\"url(#clip422)\" cx=\"947.747\" cy=\"529.241\" r=\"14\" fill=\"#4682b4\" fill-rule=\"evenodd\" fill-opacity=\"1\" stroke=\"#000000\" stroke-opacity=\"1\" stroke-width=\"2.4\"/>\n",
       "<circle clip-path=\"url(#clip422)\" cx=\"1295.59\" cy=\"195.637\" r=\"14\" fill=\"#4682b4\" fill-rule=\"evenodd\" fill-opacity=\"1\" stroke=\"#000000\" stroke-opacity=\"1\" stroke-width=\"2.4\"/>\n",
       "<circle clip-path=\"url(#clip422)\" cx=\"775.356\" cy=\"310.651\" r=\"14\" fill=\"#4682b4\" fill-rule=\"evenodd\" fill-opacity=\"1\" stroke=\"#000000\" stroke-opacity=\"1\" stroke-width=\"2.4\"/>\n",
       "<circle clip-path=\"url(#clip422)\" cx=\"1424.4\" cy=\"413.742\" r=\"14\" fill=\"#4682b4\" fill-rule=\"evenodd\" fill-opacity=\"1\" stroke=\"#000000\" stroke-opacity=\"1\" stroke-width=\"2.4\"/>\n",
       "<circle clip-path=\"url(#clip422)\" cx=\"1206.95\" cy=\"729.145\" r=\"14\" fill=\"#4682b4\" fill-rule=\"evenodd\" fill-opacity=\"1\" stroke=\"#000000\" stroke-opacity=\"1\" stroke-width=\"2.4\"/>\n",
       "<circle clip-path=\"url(#clip422)\" cx=\"1451.35\" cy=\"407.008\" r=\"14\" fill=\"#4682b4\" fill-rule=\"evenodd\" fill-opacity=\"1\" stroke=\"#000000\" stroke-opacity=\"1\" stroke-width=\"2.4\"/>\n",
       "<circle clip-path=\"url(#clip422)\" cx=\"1260.09\" cy=\"77.0133\" r=\"14\" fill=\"#4682b4\" fill-rule=\"evenodd\" fill-opacity=\"1\" stroke=\"#000000\" stroke-opacity=\"1\" stroke-width=\"2.4\"/>\n",
       "<path clip-path=\"url(#clip420)\" d=\"\n",
       "M1884.82 237.826 L2280.29 237.826 L2280.29 82.3056 L1884.82 82.3056  Z\n",
       "  \" fill=\"#ffffff\" fill-rule=\"evenodd\" fill-opacity=\"1\"/>\n",
       "<polyline clip-path=\"url(#clip420)\" style=\"stroke:#000000; stroke-linecap:butt; stroke-linejoin:round; stroke-width:4; stroke-opacity:1; fill:none\" points=\"\n",
       "  1884.82,237.826 2280.29,237.826 2280.29,82.3056 1884.82,82.3056 1884.82,237.826 \n",
       "  \"/>\n",
       "<circle clip-path=\"url(#clip420)\" cx=\"1981.43\" cy=\"134.146\" r=\"23\" fill=\"#cd5c5c\" fill-rule=\"evenodd\" fill-opacity=\"1\" stroke=\"#000000\" stroke-opacity=\"1\" stroke-width=\"3.84\"/>\n",
       "<path clip-path=\"url(#clip420)\" d=\"M2105.92 119.528 L2105.92 124.458 Q2103.56 122.259 2100.87 121.171 Q2098.21 120.083 2095.2 120.083 Q2089.28 120.083 2086.13 123.717 Q2082.98 127.328 2082.98 134.18 Q2082.98 141.009 2086.13 144.643 Q2089.28 148.254 2095.2 148.254 Q2098.21 148.254 2100.87 147.166 Q2103.56 146.078 2105.92 143.879 L2105.92 148.764 Q2103.47 150.43 2100.71 151.264 Q2097.98 152.097 2094.92 152.097 Q2087.08 152.097 2082.56 147.305 Q2078.05 142.49 2078.05 134.18 Q2078.05 125.847 2082.56 121.055 Q2087.08 116.241 2094.92 116.241 Q2098.03 116.241 2100.76 117.074 Q2103.51 117.884 2105.92 119.528 Z\" fill=\"#000000\" fill-rule=\"evenodd\" fill-opacity=\"1\" /><path clip-path=\"url(#clip420)\" d=\"M2123 128.486 Q2119.58 128.486 2117.59 131.171 Q2115.6 133.833 2115.6 138.486 Q2115.6 143.139 2117.56 145.824 Q2119.55 148.486 2123 148.486 Q2126.41 148.486 2128.4 145.801 Q2130.39 143.115 2130.39 138.486 Q2130.39 133.879 2128.4 131.194 Q2126.41 128.486 2123 128.486 M2123 124.875 Q2128.56 124.875 2131.73 128.486 Q2134.9 132.097 2134.9 138.486 Q2134.9 144.852 2131.73 148.486 Q2128.56 152.097 2123 152.097 Q2117.42 152.097 2114.25 148.486 Q2111.11 144.852 2111.11 138.486 Q2111.11 132.097 2114.25 128.486 Q2117.42 124.875 2123 124.875 Z\" fill=\"#000000\" fill-rule=\"evenodd\" fill-opacity=\"1\" /><path clip-path=\"url(#clip420)\" d=\"M2153.74 138.393 Q2148.58 138.393 2146.59 139.574 Q2144.6 140.754 2144.6 143.602 Q2144.6 145.87 2146.08 147.213 Q2147.59 148.532 2150.16 148.532 Q2153.7 148.532 2155.83 146.032 Q2157.98 143.509 2157.98 139.342 L2157.98 138.393 L2153.74 138.393 M2162.24 136.634 L2162.24 151.426 L2157.98 151.426 L2157.98 147.49 Q2156.52 149.851 2154.35 150.986 Q2152.17 152.097 2149.02 152.097 Q2145.04 152.097 2142.68 149.875 Q2140.34 147.629 2140.34 143.879 Q2140.34 139.504 2143.26 137.282 Q2146.2 135.06 2152.01 135.06 L2157.98 135.06 L2157.98 134.643 Q2157.98 131.703 2156.04 130.106 Q2154.11 128.486 2150.62 128.486 Q2148.4 128.486 2146.29 129.018 Q2144.18 129.551 2142.24 130.615 L2142.24 126.68 Q2144.58 125.778 2146.78 125.338 Q2148.98 124.875 2151.06 124.875 Q2156.68 124.875 2159.46 127.791 Q2162.24 130.708 2162.24 136.634 Z\" fill=\"#000000\" fill-rule=\"evenodd\" fill-opacity=\"1\" /><path clip-path=\"url(#clip420)\" d=\"M2175.23 118.139 L2175.23 125.5 L2184 125.5 L2184 128.81 L2175.23 128.81 L2175.23 142.884 Q2175.23 146.055 2176.08 146.958 Q2176.96 147.861 2179.62 147.861 L2184 147.861 L2184 151.426 L2179.62 151.426 Q2174.69 151.426 2172.82 149.597 Q2170.94 147.745 2170.94 142.884 L2170.94 128.81 L2167.82 128.81 L2167.82 125.5 L2170.94 125.5 L2170.94 118.139 L2175.23 118.139 Z\" fill=\"#000000\" fill-rule=\"evenodd\" fill-opacity=\"1\" /><circle clip-path=\"url(#clip420)\" cx=\"1981.43\" cy=\"185.986\" r=\"23\" fill=\"#4682b4\" fill-rule=\"evenodd\" fill-opacity=\"1\" stroke=\"#000000\" stroke-opacity=\"1\" stroke-width=\"3.84\"/>\n",
       "<path clip-path=\"url(#clip420)\" d=\"M2100.3 169.84 L2100.3 174.4 Q2097.63 173.127 2095.27 172.502 Q2092.91 171.877 2090.71 171.877 Q2086.89 171.877 2084.81 173.358 Q2082.75 174.84 2082.75 177.571 Q2082.75 179.863 2084.11 181.043 Q2085.5 182.201 2089.35 182.918 L2092.17 183.497 Q2097.4 184.493 2099.88 187.016 Q2102.38 189.516 2102.38 193.729 Q2102.38 198.752 2099 201.344 Q2095.64 203.937 2089.14 203.937 Q2086.68 203.937 2083.91 203.381 Q2081.15 202.826 2078.19 201.738 L2078.19 196.923 Q2081.04 198.52 2083.77 199.33 Q2086.5 200.141 2089.14 200.141 Q2093.14 200.141 2095.32 198.567 Q2097.49 196.992 2097.49 194.076 Q2097.49 191.53 2095.92 190.094 Q2094.37 188.659 2090.8 187.942 L2087.96 187.386 Q2082.73 186.344 2080.39 184.122 Q2078.05 181.9 2078.05 177.942 Q2078.05 173.358 2081.27 170.719 Q2084.51 168.081 2090.18 168.081 Q2092.61 168.081 2095.13 168.52 Q2097.66 168.96 2100.3 169.84 Z\" fill=\"#000000\" fill-rule=\"evenodd\" fill-opacity=\"1\" /><path clip-path=\"url(#clip420)\" d=\"M2121.27 190.233 Q2116.11 190.233 2114.11 191.414 Q2112.12 192.594 2112.12 195.442 Q2112.12 197.71 2113.61 199.053 Q2115.11 200.372 2117.68 200.372 Q2121.22 200.372 2123.35 197.872 Q2125.5 195.349 2125.5 191.182 L2125.5 190.233 L2121.27 190.233 M2129.76 188.474 L2129.76 203.266 L2125.5 203.266 L2125.5 199.33 Q2124.05 201.691 2121.87 202.826 Q2119.69 203.937 2116.55 203.937 Q2112.56 203.937 2110.2 201.715 Q2107.86 199.469 2107.86 195.719 Q2107.86 191.344 2110.78 189.122 Q2113.72 186.9 2119.53 186.9 L2125.5 186.9 L2125.5 186.483 Q2125.5 183.543 2123.56 181.946 Q2121.64 180.326 2118.14 180.326 Q2115.92 180.326 2113.81 180.858 Q2111.71 181.391 2109.76 182.455 L2109.76 178.52 Q2112.1 177.618 2114.3 177.178 Q2116.5 176.715 2118.58 176.715 Q2124.21 176.715 2126.98 179.631 Q2129.76 182.548 2129.76 188.474 Z\" fill=\"#000000\" fill-rule=\"evenodd\" fill-opacity=\"1\" /><path clip-path=\"url(#clip420)\" d=\"M2160.09 187.617 L2160.09 203.266 L2155.83 203.266 L2155.83 187.756 Q2155.83 184.076 2154.39 182.247 Q2152.96 180.418 2150.09 180.418 Q2146.64 180.418 2144.65 182.618 Q2142.66 184.817 2142.66 188.613 L2142.66 203.266 L2138.37 203.266 L2138.37 177.34 L2142.66 177.34 L2142.66 181.368 Q2144.18 179.03 2146.24 177.872 Q2148.33 176.715 2151.04 176.715 Q2155.5 176.715 2157.79 179.493 Q2160.09 182.247 2160.09 187.617 Z\" fill=\"#000000\" fill-rule=\"evenodd\" fill-opacity=\"1\" /><path clip-path=\"url(#clip420)\" d=\"M2185.64 181.275 L2185.64 167.247 L2189.9 167.247 L2189.9 203.266 L2185.64 203.266 L2185.64 199.377 Q2184.3 201.691 2182.24 202.826 Q2180.2 203.937 2177.33 203.937 Q2172.63 203.937 2169.67 200.187 Q2166.73 196.437 2166.73 190.326 Q2166.73 184.215 2169.67 180.465 Q2172.63 176.715 2177.33 176.715 Q2180.2 176.715 2182.24 177.849 Q2184.3 178.96 2185.64 181.275 M2171.13 190.326 Q2171.13 195.025 2173.05 197.71 Q2174.99 200.372 2178.37 200.372 Q2181.75 200.372 2183.7 197.71 Q2185.64 195.025 2185.64 190.326 Q2185.64 185.627 2183.7 182.965 Q2181.75 180.28 2178.37 180.28 Q2174.99 180.28 2173.05 182.965 Q2171.13 185.627 2171.13 190.326 Z\" fill=\"#000000\" fill-rule=\"evenodd\" fill-opacity=\"1\" /><path clip-path=\"url(#clip420)\" d=\"M2210.46 190.233 Q2205.29 190.233 2203.3 191.414 Q2201.31 192.594 2201.31 195.442 Q2201.31 197.71 2202.79 199.053 Q2204.3 200.372 2206.87 200.372 Q2210.41 200.372 2212.54 197.872 Q2214.69 195.349 2214.69 191.182 L2214.69 190.233 L2210.46 190.233 M2218.95 188.474 L2218.95 203.266 L2214.69 203.266 L2214.69 199.33 Q2213.23 201.691 2211.06 202.826 Q2208.88 203.937 2205.73 203.937 Q2201.75 203.937 2199.39 201.715 Q2197.05 199.469 2197.05 195.719 Q2197.05 191.344 2199.97 189.122 Q2202.91 186.9 2208.72 186.9 L2214.69 186.9 L2214.69 186.483 Q2214.69 183.543 2212.75 181.946 Q2210.83 180.326 2207.33 180.326 Q2205.11 180.326 2203 180.858 Q2200.9 181.391 2198.95 182.455 L2198.95 178.52 Q2201.29 177.618 2203.49 177.178 Q2205.69 176.715 2207.77 176.715 Q2213.4 176.715 2216.17 179.631 Q2218.95 182.548 2218.95 188.474 Z\" fill=\"#000000\" fill-rule=\"evenodd\" fill-opacity=\"1\" /><path clip-path=\"url(#clip420)\" d=\"M2227.73 167.247 L2231.98 167.247 L2231.98 203.266 L2227.73 203.266 L2227.73 167.247 Z\" fill=\"#000000\" fill-rule=\"evenodd\" fill-opacity=\"1\" /></svg>\n"
      ]
     },
     "execution_count": 57,
     "metadata": {},
     "output_type": "execute_result"
    }
   ],
   "source": [
    "scatter(X_Pr[1, Y .== l₁], X_Pr[2, Y .== l₁], \n",
    "            color = :indianred,\n",
    "            label = labels[l₁],\n",
    "            size = (800,300))\n",
    "scatter!(X_Pr[1, Y .== l₂], X_Pr[2, Y .== l₂], \n",
    "            color = :steelblue,\n",
    "            label = labels[l₂],\n",
    "            size = (600,300))"
   ]
  },
  {
   "cell_type": "markdown",
   "metadata": {},
   "source": [
    "## Support Vector Machine\n",
    "\n",
    "The first attempt to learn an algorithm for classification is using an SVM.\n",
    "\n",
    "We will use the simple kernel that gives back the standard inner product between data points."
   ]
  },
  {
   "cell_type": "code",
   "execution_count": 24,
   "metadata": {},
   "outputs": [
    {
     "data": {
      "text/plain": [
       "κ (generic function with 1 method)"
      ]
     },
     "execution_count": 24,
     "metadata": {},
     "output_type": "execute_result"
    }
   ],
   "source": [
    "κ(x₁,x₂) = x₁ ⋅ x₂"
   ]
  },
  {
   "cell_type": "markdown",
   "metadata": {},
   "source": [
    "The kernel defines a kernel matrix as follows:"
   ]
  },
  {
   "cell_type": "code",
   "execution_count": 27,
   "metadata": {},
   "outputs": [],
   "source": [
    "G = [κ(x₁,x₂) for (x₁,x₂) in Iterators.product(X_vec,X_vec)];"
   ]
  },
  {
   "cell_type": "markdown",
   "metadata": {},
   "source": [
    "We also need to transform the output data so that it takes values in $\\{-1,1\\}$."
   ]
  },
  {
   "cell_type": "code",
   "execution_count": 29,
   "metadata": {},
   "outputs": [],
   "source": [
    "y = map(Y) do Yᵢ\n",
    "    if Yᵢ==l₁\n",
    "        -1\n",
    "    elseif Yᵢ==l₂\n",
    "        1\n",
    "    end\n",
    "    end;"
   ]
  },
  {
   "cell_type": "markdown",
   "metadata": {},
   "source": [
    "We are now ready to set up the optimization problem solving the Dual SVM.\n",
    "\n",
    "The regularization parameter is set to $C=5$.\n",
    "\n",
    "We use [JuMP](https://jump.dev/JuMP.jl/stable/) for setting up the model and [NLopt](https://github.com/JuliaOpt/NLopt.jl) for solving the optimization problem."
   ]
  },
  {
   "cell_type": "code",
   "execution_count": 33,
   "metadata": {},
   "outputs": [],
   "source": [
    "C = 5;\n",
    "\n",
    "model = Model(NLopt.Optimizer)\n",
    "\n",
    "set_optimizer_attribute(model, \"algorithm\", :AUGLAG)\n",
    "set_optimizer_attribute(model, \"local_optimizer\", :LD_LBFGS)\n",
    "\n",
    "@variable(model, α[1:n]);"
   ]
  },
  {
   "cell_type": "markdown",
   "metadata": {},
   "source": [
    "The constraints are defined next:"
   ]
  },
  {
   "cell_type": "code",
   "execution_count": 34,
   "metadata": {},
   "outputs": [],
   "source": [
    "@constraint(model, c₁, sum(y .* α) .== 0);\n",
    "@constraint(model, c₂, α .>= zeros(n));\n",
    "@constraint(model, c₃, α .<= C .* ones(n));"
   ]
  },
  {
   "cell_type": "markdown",
   "metadata": {},
   "source": [
    "Finally, we define the objective function."
   ]
  },
  {
   "cell_type": "code",
   "execution_count": 36,
   "metadata": {},
   "outputs": [],
   "source": [
    "@objective(model, Min, \n",
    "            4*sum(α) - sum(y[i]*α[i]*y[j]*α[j]*G[i,j] \n",
    "            for (i,j) in Iterators.product(1:n,1:n)));"
   ]
  },
  {
   "cell_type": "markdown",
   "metadata": {},
   "source": [
    "Using the following command we can now solve the optimization problem "
   ]
  },
  {
   "cell_type": "code",
   "execution_count": 37,
   "metadata": {},
   "outputs": [],
   "source": [
    "JuMP.optimize!(model)"
   ]
  },
  {
   "cell_type": "markdown",
   "metadata": {},
   "source": [
    "We use the optimal value to define $a$ and $b$ for our SVM."
   ]
  },
  {
   "cell_type": "code",
   "execution_count": 43,
   "metadata": {},
   "outputs": [
    {
     "data": {
      "text/plain": [
       "1301.573557965795"
      ]
     },
     "execution_count": 43,
     "metadata": {},
     "output_type": "execute_result"
    }
   ],
   "source": [
    "α_opt = value.(α);\n",
    "a = sum((0.5 * y[i] * α_opt[i]) .* X_vec[i] for i in 1:n);\n",
    "b = median(abs(y[i] - a ⋅ X_vec[i]) for i in 1:n if abs(α_opt[i]) > 1e-8)"
   ]
  },
  {
   "cell_type": "markdown",
   "metadata": {},
   "source": [
    "This defines the following function for classification."
   ]
  },
  {
   "cell_type": "code",
   "execution_count": 44,
   "metadata": {},
   "outputs": [
    {
     "data": {
      "text/plain": [
       "f_class (generic function with 1 method)"
      ]
     },
     "execution_count": 44,
     "metadata": {},
     "output_type": "execute_result"
    }
   ],
   "source": [
    "f_class(x) = Int(sign(a ⋅ x + b))"
   ]
  },
  {
   "cell_type": "markdown",
   "metadata": {},
   "source": [
    "We can use `f_class` in a prediction function:"
   ]
  },
  {
   "cell_type": "code",
   "execution_count": 45,
   "metadata": {},
   "outputs": [
    {
     "data": {
      "text/plain": [
       "predict (generic function with 1 method)"
      ]
     },
     "execution_count": 45,
     "metadata": {},
     "output_type": "execute_result"
    }
   ],
   "source": [
    "function predict(f, x)\n",
    "    if f(x) == -1\n",
    "        println(\"This is a $(labels[l₁]):\")\n",
    "    elseif f(x) == 1\n",
    "         println(\"This is a $(labels[l₂]):\")\n",
    "    end\n",
    "end"
   ]
  },
  {
   "cell_type": "markdown",
   "metadata": {},
   "source": [
    "#### How well does our prediction function work?\n",
    "\n",
    "We can now check the quality of our prediction function.\n",
    "\n",
    "For instance, we can randomly choose items from the test data and let our algorithm predict what item it is."
   ]
  },
  {
   "cell_type": "code",
   "execution_count": 48,
   "metadata": {},
   "outputs": [
    {
     "name": "stdout",
     "output_type": "stream",
     "text": [
      "This is a Sandal:\n"
     ]
    },
    {
     "data": {
      "image/png": "[encoded data removed]",
      "text/plain": [
       "28×28 reinterpret(reshape, Gray{N0f8}, ::Array{N0f8,2}) with eltype Gray{N0f8}:\n",
       " Gray{N0f8}(0.0)    Gray{N0f8}(0.0)    …  Gray{N0f8}(0.0)\n",
       " Gray{N0f8}(0.0)    Gray{N0f8}(0.0)       Gray{N0f8}(0.0)\n",
       " Gray{N0f8}(0.0)    Gray{N0f8}(0.0)       Gray{N0f8}(0.0)\n",
       " Gray{N0f8}(0.0)    Gray{N0f8}(0.0)       Gray{N0f8}(0.0)\n",
       " Gray{N0f8}(0.0)    Gray{N0f8}(0.0)       Gray{N0f8}(0.0)\n",
       " Gray{N0f8}(0.0)    Gray{N0f8}(0.0)    …  Gray{N0f8}(0.0)\n",
       " Gray{N0f8}(0.0)    Gray{N0f8}(0.0)       Gray{N0f8}(0.0)\n",
       " Gray{N0f8}(0.0)    Gray{N0f8}(0.0)       Gray{N0f8}(0.0)\n",
       " Gray{N0f8}(0.0)    Gray{N0f8}(0.0)       Gray{N0f8}(0.0)\n",
       " Gray{N0f8}(0.0)    Gray{N0f8}(0.0)       Gray{N0f8}(0.0)\n",
       " Gray{N0f8}(0.0)    Gray{N0f8}(0.0)    …  Gray{N0f8}(0.067)\n",
       " Gray{N0f8}(0.0)    Gray{N0f8}(0.0)       Gray{N0f8}(0.333)\n",
       " Gray{N0f8}(0.008)  Gray{N0f8}(0.0)       Gray{N0f8}(0.102)\n",
       " ⋮                                     ⋱  \n",
       " Gray{N0f8}(0.0)    Gray{N0f8}(0.0)       Gray{N0f8}(0.0)\n",
       " Gray{N0f8}(0.0)    Gray{N0f8}(0.008)     Gray{N0f8}(0.0)\n",
       " Gray{N0f8}(0.016)  Gray{N0f8}(0.0)       Gray{N0f8}(0.0)\n",
       " Gray{N0f8}(0.016)  Gray{N0f8}(0.0)       Gray{N0f8}(0.0)\n",
       " Gray{N0f8}(0.008)  Gray{N0f8}(0.0)    …  Gray{N0f8}(0.0)\n",
       " Gray{N0f8}(0.0)    Gray{N0f8}(0.0)       Gray{N0f8}(0.0)\n",
       " Gray{N0f8}(0.239)  Gray{N0f8}(0.204)     Gray{N0f8}(0.0)\n",
       " Gray{N0f8}(0.412)  Gray{N0f8}(0.627)     Gray{N0f8}(0.0)\n",
       " Gray{N0f8}(0.0)    Gray{N0f8}(0.0)       Gray{N0f8}(0.0)\n",
       " Gray{N0f8}(0.0)    Gray{N0f8}(0.0)    …  Gray{N0f8}(0.0)\n",
       " Gray{N0f8}(0.0)    Gray{N0f8}(0.0)       Gray{N0f8}(0.0)\n",
       " Gray{N0f8}(0.0)    Gray{N0f8}(0.0)       Gray{N0f8}(0.0)"
      ]
     },
     "execution_count": 48,
     "metadata": {},
     "output_type": "execute_result"
    }
   ],
   "source": [
    "ℓ = rand(1:n)\n",
    "predict(f_opt, X_test_vec[ℓ])\n",
    "FashionMNIST.convert2image(X_test[:,:,ℓ])"
   ]
  },
  {
   "cell_type": "markdown",
   "metadata": {},
   "source": [
    "As a second check, we plot projected test data points along with our predictions. \n"
   ]
  },
  {
   "cell_type": "code",
   "execution_count": 55,
   "metadata": {},
   "outputs": [],
   "source": [
    "x̄_test = mean(X_test_vec);\n",
    "X_test_Pr = hcat(map(x -> Pr*(x - x̄_test), X_test_vec)...);"
   ]
  },
  {
   "cell_type": "markdown",
   "metadata": {},
   "source": [
    "\n",
    "For this, we produce $y_{\\mathrm{test}}\\in\\{-1,1\\}$ for the true labels and $\\hat{y}_{\\mathrm{test}}$ is the vector of predictions "
   ]
  },
  {
   "cell_type": "code",
   "execution_count": 56,
   "metadata": {},
   "outputs": [],
   "source": [
    "y_test = map(Y_test) do y\n",
    "    if y==l₁\n",
    "        -1\n",
    "    elseif y==l₂\n",
    "        1\n",
    "    end\n",
    "    end;\n",
    "ŷ_test = map(f_opt, X_test_vec);"
   ]
  },
  {
   "cell_type": "markdown",
   "metadata": {},
   "source": [
    "The visualization comes next:"
   ]
  },
  {
   "cell_type": "code",
   "execution_count": 71,
   "metadata": {},
   "outputs": [
    {
     "data": {
      "image/svg+xml": [
       "<?xml version=\"1.0\" encoding=\"utf-8\"?>\n",
       "<svg xmlns=\"http://www.w3.org/2000/svg\" xmlns:xlink=\"http://www.w3.org/1999/xlink\" width=\"600\" height=\"300\" viewBox=\"0 0 2400 1200\">\n",
       "<defs>\n",
       "  <clipPath id=\"clip780\">\n",
       "    <rect x=\"0\" y=\"0\" width=\"2400\" height=\"1200\"/>\n",
       "  </clipPath>\n",
       "</defs>\n",
       "<path clip-path=\"url(#clip780)\" d=\"\n",
       "M0 1200 L2400 1200 L2400 0 L0 0  Z\n",
       "  \" fill=\"#ffffff\" fill-rule=\"evenodd\" fill-opacity=\"1\"/>\n",
       "<defs>\n",
       "  <clipPath id=\"clip781\">\n",
       "    <rect x=\"480\" y=\"0\" width=\"1681\" height=\"1200\"/>\n",
       "  </clipPath>\n",
       "</defs>\n",
       "<path clip-path=\"url(#clip780)\" d=\"\n",
       "M178.867 1047.7 L1152.76 1047.7 L1152.76 47.2441 L178.867 47.2441  Z\n",
       "  \" fill=\"#ffffff\" fill-rule=\"evenodd\" fill-opacity=\"1\"/>\n",
       "<defs>\n",
       "  <clipPath id=\"clip782\">\n",
       "    <rect x=\"178\" y=\"47\" width=\"975\" height=\"1001\"/>\n",
       "  </clipPath>\n",
       "</defs>\n",
       "<polyline clip-path=\"url(#clip782)\" style=\"stroke:#000000; stroke-linecap:butt; stroke-linejoin:round; stroke-width:2; stroke-opacity:0.1; fill:none\" points=\"\n",
       "  255.937,1047.7 255.937,47.2441 \n",
       "  \"/>\n",
       "<polyline clip-path=\"url(#clip782)\" style=\"stroke:#000000; stroke-linecap:butt; stroke-linejoin:round; stroke-width:2; stroke-opacity:0.1; fill:none\" points=\"\n",
       "  471.961,1047.7 471.961,47.2441 \n",
       "  \"/>\n",
       "<polyline clip-path=\"url(#clip782)\" style=\"stroke:#000000; stroke-linecap:butt; stroke-linejoin:round; stroke-width:2; stroke-opacity:0.1; fill:none\" points=\"\n",
       "  687.984,1047.7 687.984,47.2441 \n",
       "  \"/>\n",
       "<polyline clip-path=\"url(#clip782)\" style=\"stroke:#000000; stroke-linecap:butt; stroke-linejoin:round; stroke-width:2; stroke-opacity:0.1; fill:none\" points=\"\n",
       "  904.007,1047.7 904.007,47.2441 \n",
       "  \"/>\n",
       "<polyline clip-path=\"url(#clip782)\" style=\"stroke:#000000; stroke-linecap:butt; stroke-linejoin:round; stroke-width:2; stroke-opacity:0.1; fill:none\" points=\"\n",
       "  1120.03,1047.7 1120.03,47.2441 \n",
       "  \"/>\n",
       "<polyline clip-path=\"url(#clip780)\" style=\"stroke:#000000; stroke-linecap:butt; stroke-linejoin:round; stroke-width:4; stroke-opacity:1; fill:none\" points=\"\n",
       "  178.867,1047.7 1152.76,1047.7 \n",
       "  \"/>\n",
       "<polyline clip-path=\"url(#clip780)\" style=\"stroke:#000000; stroke-linecap:butt; stroke-linejoin:round; stroke-width:4; stroke-opacity:1; fill:none\" points=\"\n",
       "  255.937,1047.7 255.937,1028.8 \n",
       "  \"/>\n",
       "<polyline clip-path=\"url(#clip780)\" style=\"stroke:#000000; stroke-linecap:butt; stroke-linejoin:round; stroke-width:4; stroke-opacity:1; fill:none\" points=\"\n",
       "  471.961,1047.7 471.961,1028.8 \n",
       "  \"/>\n",
       "<polyline clip-path=\"url(#clip780)\" style=\"stroke:#000000; stroke-linecap:butt; stroke-linejoin:round; stroke-width:4; stroke-opacity:1; fill:none\" points=\"\n",
       "  687.984,1047.7 687.984,1028.8 \n",
       "  \"/>\n",
       "<polyline clip-path=\"url(#clip780)\" style=\"stroke:#000000; stroke-linecap:butt; stroke-linejoin:round; stroke-width:4; stroke-opacity:1; fill:none\" points=\"\n",
       "  904.007,1047.7 904.007,1028.8 \n",
       "  \"/>\n",
       "<polyline clip-path=\"url(#clip780)\" style=\"stroke:#000000; stroke-linecap:butt; stroke-linejoin:round; stroke-width:4; stroke-opacity:1; fill:none\" points=\"\n",
       "  1120.03,1047.7 1120.03,1028.8 \n",
       "  \"/>\n",
       "<path clip-path=\"url(#clip780)\" d=\"M210 1093.27 L239.676 1093.27 L239.676 1097.21 L210 1097.21 L210 1093.27 Z\" fill=\"#000000\" fill-rule=\"evenodd\" fill-opacity=\"1\" /><path clip-path=\"url(#clip780)\" d=\"M253.796 1106.16 L270.116 1106.16 L270.116 1110.1 L248.171 1110.1 L248.171 1106.16 Q250.833 1103.41 255.417 1098.78 Q260.023 1094.13 261.204 1092.79 Q263.449 1090.26 264.329 1088.53 Q265.231 1086.77 265.231 1085.08 Q265.231 1082.32 263.287 1080.59 Q261.366 1078.85 258.264 1078.85 Q256.065 1078.85 253.611 1079.61 Q251.181 1080.38 248.403 1081.93 L248.403 1077.21 Q251.227 1076.07 253.681 1075.49 Q256.134 1074.91 258.171 1074.91 Q263.542 1074.91 266.736 1077.6 Q269.93 1080.29 269.93 1084.78 Q269.93 1086.91 269.12 1088.83 Q268.333 1090.72 266.227 1093.32 Q265.648 1093.99 262.546 1097.21 Q259.444 1100.4 253.796 1106.16 Z\" fill=\"#000000\" fill-rule=\"evenodd\" fill-opacity=\"1\" /><path clip-path=\"url(#clip780)\" d=\"M289.93 1078.62 Q286.319 1078.62 284.491 1082.18 Q282.685 1085.72 282.685 1092.85 Q282.685 1099.96 284.491 1103.53 Q286.319 1107.07 289.93 1107.07 Q293.565 1107.07 295.37 1103.53 Q297.199 1099.96 297.199 1092.85 Q297.199 1085.72 295.37 1082.18 Q293.565 1078.62 289.93 1078.62 M289.93 1074.91 Q295.741 1074.91 298.796 1079.52 Q301.875 1084.1 301.875 1092.85 Q301.875 1101.58 298.796 1106.19 Q295.741 1110.77 289.93 1110.77 Q284.12 1110.77 281.042 1106.19 Q277.986 1101.58 277.986 1092.85 Q277.986 1084.1 281.042 1079.52 Q284.12 1074.91 289.93 1074.91 Z\" fill=\"#000000\" fill-rule=\"evenodd\" fill-opacity=\"1\" /><path clip-path=\"url(#clip780)\" d=\"M426.023 1093.27 L455.699 1093.27 L455.699 1097.21 L426.023 1097.21 L426.023 1093.27 Z\" fill=\"#000000\" fill-rule=\"evenodd\" fill-opacity=\"1\" /><path clip-path=\"url(#clip780)\" d=\"M466.602 1106.16 L474.241 1106.16 L474.241 1079.8 L465.931 1081.47 L465.931 1077.21 L474.194 1075.54 L478.87 1075.54 L478.87 1106.16 L486.509 1106.16 L486.509 1110.1 L466.602 1110.1 L466.602 1106.16 Z\" fill=\"#000000\" fill-rule=\"evenodd\" fill-opacity=\"1\" /><path clip-path=\"url(#clip780)\" d=\"M505.954 1078.62 Q502.342 1078.62 500.514 1082.18 Q498.708 1085.72 498.708 1092.85 Q498.708 1099.96 500.514 1103.53 Q502.342 1107.07 505.954 1107.07 Q509.588 1107.07 511.393 1103.53 Q513.222 1099.96 513.222 1092.85 Q513.222 1085.72 511.393 1082.18 Q509.588 1078.62 505.954 1078.62 M505.954 1074.91 Q511.764 1074.91 514.819 1079.52 Q517.898 1084.1 517.898 1092.85 Q517.898 1101.58 514.819 1106.19 Q511.764 1110.77 505.954 1110.77 Q500.143 1110.77 497.065 1106.19 Q494.009 1101.58 494.009 1092.85 Q494.009 1084.1 497.065 1079.52 Q500.143 1074.91 505.954 1074.91 Z\" fill=\"#000000\" fill-rule=\"evenodd\" fill-opacity=\"1\" /><path clip-path=\"url(#clip780)\" d=\"M687.984 1078.62 Q684.373 1078.62 682.544 1082.18 Q680.739 1085.72 680.739 1092.85 Q680.739 1099.96 682.544 1103.53 Q684.373 1107.07 687.984 1107.07 Q691.618 1107.07 693.424 1103.53 Q695.252 1099.96 695.252 1092.85 Q695.252 1085.72 693.424 1082.18 Q691.618 1078.62 687.984 1078.62 M687.984 1074.91 Q693.794 1074.91 696.85 1079.52 Q699.928 1084.1 699.928 1092.85 Q699.928 1101.58 696.85 1106.19 Q693.794 1110.77 687.984 1110.77 Q682.174 1110.77 679.095 1106.19 Q676.04 1101.58 676.04 1092.85 Q676.04 1084.1 679.095 1079.52 Q682.174 1074.91 687.984 1074.91 Z\" fill=\"#000000\" fill-rule=\"evenodd\" fill-opacity=\"1\" /><path clip-path=\"url(#clip780)\" d=\"M878.695 1106.16 L886.334 1106.16 L886.334 1079.8 L878.023 1081.47 L878.023 1077.21 L886.287 1075.54 L890.963 1075.54 L890.963 1106.16 L898.602 1106.16 L898.602 1110.1 L878.695 1110.1 L878.695 1106.16 Z\" fill=\"#000000\" fill-rule=\"evenodd\" fill-opacity=\"1\" /><path clip-path=\"url(#clip780)\" d=\"M918.046 1078.62 Q914.435 1078.62 912.607 1082.18 Q910.801 1085.72 910.801 1092.85 Q910.801 1099.96 912.607 1103.53 Q914.435 1107.07 918.046 1107.07 Q921.681 1107.07 923.486 1103.53 Q925.315 1099.96 925.315 1092.85 Q925.315 1085.72 923.486 1082.18 Q921.681 1078.62 918.046 1078.62 M918.046 1074.91 Q923.857 1074.91 926.912 1079.52 Q929.991 1084.1 929.991 1092.85 Q929.991 1101.58 926.912 1106.19 Q923.857 1110.77 918.046 1110.77 Q912.236 1110.77 909.158 1106.19 Q906.102 1101.58 906.102 1092.85 Q906.102 1084.1 909.158 1079.52 Q912.236 1074.91 918.046 1074.91 Z\" fill=\"#000000\" fill-rule=\"evenodd\" fill-opacity=\"1\" /><path clip-path=\"url(#clip780)\" d=\"M1098.8 1106.16 L1115.12 1106.16 L1115.12 1110.1 L1093.18 1110.1 L1093.18 1106.16 Q1095.84 1103.41 1100.42 1098.78 Q1105.03 1094.13 1106.21 1092.79 Q1108.46 1090.26 1109.34 1088.53 Q1110.24 1086.77 1110.24 1085.08 Q1110.24 1082.32 1108.29 1080.59 Q1106.37 1078.85 1103.27 1078.85 Q1101.07 1078.85 1098.62 1079.61 Q1096.19 1080.38 1093.41 1081.93 L1093.41 1077.21 Q1096.23 1076.07 1098.69 1075.49 Q1101.14 1074.91 1103.18 1074.91 Q1108.55 1074.91 1111.74 1077.6 Q1114.94 1080.29 1114.94 1084.78 Q1114.94 1086.91 1114.13 1088.83 Q1113.34 1090.72 1111.23 1093.32 Q1110.66 1093.99 1107.55 1097.21 Q1104.45 1100.4 1098.8 1106.16 Z\" fill=\"#000000\" fill-rule=\"evenodd\" fill-opacity=\"1\" /><path clip-path=\"url(#clip780)\" d=\"M1134.94 1078.62 Q1131.33 1078.62 1129.5 1082.18 Q1127.69 1085.72 1127.69 1092.85 Q1127.69 1099.96 1129.5 1103.53 Q1131.33 1107.07 1134.94 1107.07 Q1138.57 1107.07 1140.38 1103.53 Q1142.21 1099.96 1142.21 1092.85 Q1142.21 1085.72 1140.38 1082.18 Q1138.57 1078.62 1134.94 1078.62 M1134.94 1074.91 Q1140.75 1074.91 1143.8 1079.52 Q1146.88 1084.1 1146.88 1092.85 Q1146.88 1101.58 1143.8 1106.19 Q1140.75 1110.77 1134.94 1110.77 Q1129.13 1110.77 1126.05 1106.19 Q1122.99 1101.58 1122.99 1092.85 Q1122.99 1084.1 1126.05 1079.52 Q1129.13 1074.91 1134.94 1074.91 Z\" fill=\"#000000\" fill-rule=\"evenodd\" fill-opacity=\"1\" /><path clip-path=\"url(#clip780)\" d=\"M350.056 1146.79 L350.056 1156.92 L362.119 1156.92 L362.119 1161.47 L350.056 1161.47 L350.056 1180.82 Q350.056 1185.18 351.234 1186.42 Q352.443 1187.66 356.104 1187.66 L362.119 1187.66 L362.119 1192.56 L356.104 1192.56 Q349.324 1192.56 346.746 1190.05 Q344.168 1187.5 344.168 1180.82 L344.168 1161.47 L339.871 1161.47 L339.871 1156.92 L344.168 1156.92 L344.168 1146.79 L350.056 1146.79 Z\" fill=\"#000000\" fill-rule=\"evenodd\" fill-opacity=\"1\" /><path clip-path=\"url(#clip780)\" d=\"M390.479 1162.39 Q389.492 1161.82 388.314 1161.56 Q387.168 1161.28 385.768 1161.28 Q380.803 1161.28 378.129 1164.52 Q375.487 1167.74 375.487 1173.79 L375.487 1192.56 L369.599 1192.56 L369.599 1156.92 L375.487 1156.92 L375.487 1162.45 Q377.333 1159.21 380.293 1157.65 Q383.253 1156.06 387.487 1156.06 Q388.091 1156.06 388.823 1156.15 Q389.556 1156.22 390.447 1156.37 L390.479 1162.39 Z\" fill=\"#000000\" fill-rule=\"evenodd\" fill-opacity=\"1\" /><path clip-path=\"url(#clip780)\" d=\"M396.017 1178.5 L396.017 1156.92 L401.873 1156.92 L401.873 1178.27 Q401.873 1183.33 403.847 1185.88 Q405.82 1188.39 409.767 1188.39 Q414.509 1188.39 417.246 1185.37 Q420.015 1182.35 420.015 1177.13 L420.015 1156.92 L425.872 1156.92 L425.872 1192.56 L420.015 1192.56 L420.015 1187.09 Q417.883 1190.34 415.05 1191.93 Q412.249 1193.49 408.525 1193.49 Q402.382 1193.49 399.2 1189.67 Q396.017 1185.85 396.017 1178.5 M410.753 1156.06 L410.753 1156.06 Z\" fill=\"#000000\" fill-rule=\"evenodd\" fill-opacity=\"1\" /><path clip-path=\"url(#clip780)\" d=\"M468.427 1173.28 L468.427 1176.14 L441.5 1176.14 Q441.882 1182.19 445.128 1185.37 Q448.406 1188.52 454.231 1188.52 Q457.605 1188.52 460.756 1187.69 Q463.939 1186.87 467.058 1185.21 L467.058 1190.75 Q463.907 1192.09 460.597 1192.79 Q457.287 1193.49 453.881 1193.49 Q445.351 1193.49 440.354 1188.52 Q435.389 1183.56 435.389 1175.09 Q435.389 1166.34 440.099 1161.21 Q444.842 1156.06 452.862 1156.06 Q460.056 1156.06 464.225 1160.7 Q468.427 1165.32 468.427 1173.28 M462.57 1171.56 Q462.507 1166.75 459.865 1163.89 Q457.255 1161.02 452.926 1161.02 Q448.025 1161.02 445.064 1163.79 Q442.136 1166.56 441.691 1171.59 L462.57 1171.56 Z\" fill=\"#000000\" fill-rule=\"evenodd\" fill-opacity=\"1\" /><path clip-path=\"url(#clip780)\" d=\"M498.759 1143.04 L504.616 1143.04 L504.616 1192.56 L498.759 1192.56 L498.759 1143.04 Z\" fill=\"#000000\" fill-rule=\"evenodd\" fill-opacity=\"1\" /><path clip-path=\"url(#clip780)\" d=\"M533.07 1174.64 Q525.973 1174.64 523.235 1176.27 Q520.498 1177.89 520.498 1181.81 Q520.498 1184.92 522.535 1186.77 Q524.604 1188.59 528.137 1188.59 Q533.007 1188.59 535.935 1185.15 Q538.895 1181.68 538.895 1175.95 L538.895 1174.64 L533.07 1174.64 M544.751 1172.23 L544.751 1192.56 L538.895 1192.56 L538.895 1187.15 Q536.89 1190.4 533.898 1191.96 Q530.906 1193.49 526.577 1193.49 Q521.103 1193.49 517.856 1190.43 Q514.642 1187.34 514.642 1182.19 Q514.642 1176.17 518.652 1173.12 Q522.694 1170.06 530.683 1170.06 L538.895 1170.06 L538.895 1169.49 Q538.895 1165.45 536.221 1163.25 Q533.58 1161.02 528.774 1161.02 Q525.718 1161.02 522.822 1161.75 Q519.925 1162.49 517.252 1163.95 L517.252 1158.54 Q520.466 1157.3 523.49 1156.69 Q526.514 1156.06 529.378 1156.06 Q537.113 1156.06 540.932 1160.07 Q544.751 1164.08 544.751 1172.23 Z\" fill=\"#000000\" fill-rule=\"evenodd\" fill-opacity=\"1\" /><path clip-path=\"url(#clip780)\" d=\"M582.405 1174.77 Q582.405 1168.31 579.731 1164.65 Q577.089 1160.96 572.442 1160.96 Q567.795 1160.96 565.122 1164.65 Q562.48 1168.31 562.48 1174.77 Q562.48 1181.23 565.122 1184.92 Q567.795 1188.59 572.442 1188.59 Q577.089 1188.59 579.731 1184.92 Q582.405 1181.23 582.405 1174.77 M562.48 1162.33 Q564.326 1159.14 567.127 1157.62 Q569.96 1156.06 573.875 1156.06 Q580.368 1156.06 584.41 1161.21 Q588.484 1166.37 588.484 1174.77 Q588.484 1183.17 584.41 1188.33 Q580.368 1193.49 573.875 1193.49 Q569.96 1193.49 567.127 1191.96 Q564.326 1190.4 562.48 1187.22 L562.48 1192.56 L556.592 1192.56 L556.592 1143.04 L562.48 1143.04 L562.48 1162.33 Z\" fill=\"#000000\" fill-rule=\"evenodd\" fill-opacity=\"1\" /><path clip-path=\"url(#clip780)\" d=\"M628.683 1173.28 L628.683 1176.14 L601.756 1176.14 Q602.138 1182.19 605.385 1185.37 Q608.663 1188.52 614.488 1188.52 Q617.862 1188.52 621.013 1187.69 Q624.195 1186.87 627.315 1185.21 L627.315 1190.75 Q624.164 1192.09 620.853 1192.79 Q617.543 1193.49 614.138 1193.49 Q605.608 1193.49 600.611 1188.52 Q595.645 1183.56 595.645 1175.09 Q595.645 1166.34 600.356 1161.21 Q605.098 1156.06 613.119 1156.06 Q620.312 1156.06 624.482 1160.7 Q628.683 1165.32 628.683 1173.28 M622.827 1171.56 Q622.763 1166.75 620.121 1163.89 Q617.511 1161.02 613.183 1161.02 Q608.281 1161.02 605.321 1163.79 Q602.393 1166.56 601.947 1171.59 L622.827 1171.56 Z\" fill=\"#000000\" fill-rule=\"evenodd\" fill-opacity=\"1\" /><path clip-path=\"url(#clip780)\" d=\"M638.296 1143.04 L644.152 1143.04 L644.152 1192.56 L638.296 1192.56 L638.296 1143.04 Z\" fill=\"#000000\" fill-rule=\"evenodd\" fill-opacity=\"1\" /><path clip-path=\"url(#clip780)\" d=\"M679.132 1157.97 L679.132 1163.5 Q676.649 1162.23 673.975 1161.59 Q671.302 1160.96 668.437 1160.96 Q664.077 1160.96 661.88 1162.29 Q659.716 1163.63 659.716 1166.31 Q659.716 1168.34 661.276 1169.52 Q662.835 1170.67 667.546 1171.72 L669.551 1172.16 Q675.79 1173.5 678.399 1175.95 Q681.041 1178.37 681.041 1182.73 Q681.041 1187.69 677.094 1190.59 Q673.18 1193.49 666.305 1193.49 Q663.44 1193.49 660.321 1192.91 Q657.233 1192.37 653.796 1191.26 L653.796 1185.21 Q657.043 1186.9 660.194 1187.76 Q663.345 1188.59 666.432 1188.59 Q670.57 1188.59 672.798 1187.18 Q675.026 1185.75 675.026 1183.17 Q675.026 1180.79 673.402 1179.51 Q671.811 1178.24 666.368 1177.06 L664.331 1176.59 Q658.889 1175.44 656.47 1173.08 Q654.051 1170.7 654.051 1166.56 Q654.051 1161.53 657.615 1158.79 Q661.18 1156.06 667.737 1156.06 Q670.983 1156.06 673.848 1156.53 Q676.713 1157.01 679.132 1157.97 Z\" fill=\"#000000\" fill-rule=\"evenodd\" fill-opacity=\"1\" /><path clip-path=\"url(#clip780)\" d=\"M716.88 1146.79 L716.88 1156.92 L728.943 1156.92 L728.943 1161.47 L716.88 1161.47 L716.88 1180.82 Q716.88 1185.18 718.058 1186.42 Q719.267 1187.66 722.928 1187.66 L728.943 1187.66 L728.943 1192.56 L722.928 1192.56 Q716.148 1192.56 713.57 1190.05 Q710.992 1187.5 710.992 1180.82 L710.992 1161.47 L706.695 1161.47 L706.695 1156.92 L710.992 1156.92 L710.992 1146.79 L716.88 1146.79 Z\" fill=\"#000000\" fill-rule=\"evenodd\" fill-opacity=\"1\" /><path clip-path=\"url(#clip780)\" d=\"M767.137 1173.28 L767.137 1176.14 L740.21 1176.14 Q740.592 1182.19 743.839 1185.37 Q747.117 1188.52 752.942 1188.52 Q756.316 1188.52 759.467 1187.69 Q762.65 1186.87 765.769 1185.21 L765.769 1190.75 Q762.618 1192.09 759.308 1192.79 Q755.997 1193.49 752.592 1193.49 Q744.062 1193.49 739.065 1188.52 Q734.099 1183.56 734.099 1175.09 Q734.099 1166.34 738.81 1161.21 Q743.552 1156.06 751.573 1156.06 Q758.767 1156.06 762.936 1160.7 Q767.137 1165.32 767.137 1173.28 M761.281 1171.56 Q761.217 1166.75 758.576 1163.89 Q755.966 1161.02 751.637 1161.02 Q746.735 1161.02 743.775 1163.79 Q740.847 1166.56 740.401 1171.59 L761.281 1171.56 Z\" fill=\"#000000\" fill-rule=\"evenodd\" fill-opacity=\"1\" /><path clip-path=\"url(#clip780)\" d=\"M799.475 1157.97 L799.475 1163.5 Q796.993 1162.23 794.319 1161.59 Q791.645 1160.96 788.781 1160.96 Q784.42 1160.96 782.224 1162.29 Q780.06 1163.63 780.06 1166.31 Q780.06 1168.34 781.619 1169.52 Q783.179 1170.67 787.89 1171.72 L789.895 1172.16 Q796.133 1173.5 798.743 1175.95 Q801.385 1178.37 801.385 1182.73 Q801.385 1187.69 797.438 1190.59 Q793.523 1193.49 786.648 1193.49 Q783.784 1193.49 780.665 1192.91 Q777.577 1192.37 774.14 1191.26 L774.14 1185.21 Q777.386 1186.9 780.537 1187.76 Q783.688 1188.59 786.776 1188.59 Q790.913 1188.59 793.141 1187.18 Q795.369 1185.75 795.369 1183.17 Q795.369 1180.79 793.746 1179.51 Q792.155 1178.24 786.712 1177.06 L784.675 1176.59 Q779.232 1175.44 776.813 1173.08 Q774.394 1170.7 774.394 1166.56 Q774.394 1161.53 777.959 1158.79 Q781.524 1156.06 788.081 1156.06 Q791.327 1156.06 794.192 1156.53 Q797.056 1157.01 799.475 1157.97 Z\" fill=\"#000000\" fill-rule=\"evenodd\" fill-opacity=\"1\" /><path clip-path=\"url(#clip780)\" d=\"M816.503 1146.79 L816.503 1156.92 L828.566 1156.92 L828.566 1161.47 L816.503 1161.47 L816.503 1180.82 Q816.503 1185.18 817.681 1186.42 Q818.891 1187.66 822.551 1187.66 L828.566 1187.66 L828.566 1192.56 L822.551 1192.56 Q815.771 1192.56 813.193 1190.05 Q810.615 1187.5 810.615 1180.82 L810.615 1161.47 L806.318 1161.47 L806.318 1156.92 L810.615 1156.92 L810.615 1146.79 L816.503 1146.79 Z\" fill=\"#000000\" fill-rule=\"evenodd\" fill-opacity=\"1\" /><path clip-path=\"url(#clip780)\" d=\"M880.447 1162.33 L880.447 1143.04 L886.303 1143.04 L886.303 1192.56 L880.447 1192.56 L880.447 1187.22 Q878.601 1190.4 875.768 1191.96 Q872.967 1193.49 869.021 1193.49 Q862.559 1193.49 858.485 1188.33 Q854.443 1183.17 854.443 1174.77 Q854.443 1166.37 858.485 1161.21 Q862.559 1156.06 869.021 1156.06 Q872.967 1156.06 875.768 1157.62 Q878.601 1159.14 880.447 1162.33 M860.49 1174.77 Q860.49 1181.23 863.132 1184.92 Q865.806 1188.59 870.453 1188.59 Q875.1 1188.59 877.773 1184.92 Q880.447 1181.23 880.447 1174.77 Q880.447 1168.31 877.773 1164.65 Q875.1 1160.96 870.453 1160.96 Q865.806 1160.96 863.132 1164.65 Q860.49 1168.31 860.49 1174.77 Z\" fill=\"#000000\" fill-rule=\"evenodd\" fill-opacity=\"1\" /><path clip-path=\"url(#clip780)\" d=\"M914.567 1174.64 Q907.469 1174.64 904.732 1176.27 Q901.995 1177.89 901.995 1181.81 Q901.995 1184.92 904.032 1186.77 Q906.101 1188.59 909.634 1188.59 Q914.504 1188.59 917.432 1185.15 Q920.392 1181.68 920.392 1175.95 L920.392 1174.64 L914.567 1174.64 M926.248 1172.23 L926.248 1192.56 L920.392 1192.56 L920.392 1187.15 Q918.387 1190.4 915.395 1191.96 Q912.403 1193.49 908.074 1193.49 Q902.6 1193.49 899.353 1190.43 Q896.138 1187.34 896.138 1182.19 Q896.138 1176.17 900.149 1173.12 Q904.191 1170.06 912.18 1170.06 L920.392 1170.06 L920.392 1169.49 Q920.392 1165.45 917.718 1163.25 Q915.076 1161.02 910.27 1161.02 Q907.215 1161.02 904.318 1161.75 Q901.422 1162.49 898.748 1163.95 L898.748 1158.54 Q901.963 1157.3 904.987 1156.69 Q908.01 1156.06 910.875 1156.06 Q918.609 1156.06 922.429 1160.07 Q926.248 1164.08 926.248 1172.23 Z\" fill=\"#000000\" fill-rule=\"evenodd\" fill-opacity=\"1\" /><path clip-path=\"url(#clip780)\" d=\"M944.104 1146.79 L944.104 1156.92 L956.167 1156.92 L956.167 1161.47 L944.104 1161.47 L944.104 1180.82 Q944.104 1185.18 945.282 1186.42 Q946.491 1187.66 950.151 1187.66 L956.167 1187.66 L956.167 1192.56 L950.151 1192.56 Q943.372 1192.56 940.794 1190.05 Q938.216 1187.5 938.216 1180.82 L938.216 1161.47 L933.919 1161.47 L933.919 1156.92 L938.216 1156.92 L938.216 1146.79 L944.104 1146.79 Z\" fill=\"#000000\" fill-rule=\"evenodd\" fill-opacity=\"1\" /><path clip-path=\"url(#clip780)\" d=\"M980.07 1174.64 Q972.973 1174.64 970.235 1176.27 Q967.498 1177.89 967.498 1181.81 Q967.498 1184.92 969.535 1186.77 Q971.604 1188.59 975.137 1188.59 Q980.007 1188.59 982.935 1185.15 Q985.895 1181.68 985.895 1175.95 L985.895 1174.64 L980.07 1174.64 M991.751 1172.23 L991.751 1192.56 L985.895 1192.56 L985.895 1187.15 Q983.89 1190.4 980.898 1191.96 Q977.906 1193.49 973.577 1193.49 Q968.103 1193.49 964.856 1190.43 Q961.642 1187.34 961.642 1182.19 Q961.642 1176.17 965.652 1173.12 Q969.694 1170.06 977.683 1170.06 L985.895 1170.06 L985.895 1169.49 Q985.895 1165.45 983.221 1163.25 Q980.58 1161.02 975.773 1161.02 Q972.718 1161.02 969.822 1161.75 Q966.925 1162.49 964.252 1163.95 L964.252 1158.54 Q967.466 1157.3 970.49 1156.69 Q973.514 1156.06 976.378 1156.06 Q984.113 1156.06 987.932 1160.07 Q991.751 1164.08 991.751 1172.23 Z\" fill=\"#000000\" fill-rule=\"evenodd\" fill-opacity=\"1\" /><polyline clip-path=\"url(#clip782)\" style=\"stroke:#000000; stroke-linecap:butt; stroke-linejoin:round; stroke-width:2; stroke-opacity:0.1; fill:none\" points=\"\n",
       "  178.867,980.114 1152.76,980.114 \n",
       "  \"/>\n",
       "<polyline clip-path=\"url(#clip782)\" style=\"stroke:#000000; stroke-linecap:butt; stroke-linejoin:round; stroke-width:2; stroke-opacity:0.1; fill:none\" points=\"\n",
       "  178.867,718.272 1152.76,718.272 \n",
       "  \"/>\n",
       "<polyline clip-path=\"url(#clip782)\" style=\"stroke:#000000; stroke-linecap:butt; stroke-linejoin:round; stroke-width:2; stroke-opacity:0.1; fill:none\" points=\"\n",
       "  178.867,456.43 1152.76,456.43 \n",
       "  \"/>\n",
       "<polyline clip-path=\"url(#clip782)\" style=\"stroke:#000000; stroke-linecap:butt; stroke-linejoin:round; stroke-width:2; stroke-opacity:0.1; fill:none\" points=\"\n",
       "  178.867,194.588 1152.76,194.588 \n",
       "  \"/>\n",
       "<polyline clip-path=\"url(#clip780)\" style=\"stroke:#000000; stroke-linecap:butt; stroke-linejoin:round; stroke-width:4; stroke-opacity:1; fill:none\" points=\"\n",
       "  178.867,1047.7 178.867,47.2441 \n",
       "  \"/>\n",
       "<polyline clip-path=\"url(#clip780)\" style=\"stroke:#000000; stroke-linecap:butt; stroke-linejoin:round; stroke-width:4; stroke-opacity:1; fill:none\" points=\"\n",
       "  178.867,980.114 197.764,980.114 \n",
       "  \"/>\n",
       "<polyline clip-path=\"url(#clip780)\" style=\"stroke:#000000; stroke-linecap:butt; stroke-linejoin:round; stroke-width:4; stroke-opacity:1; fill:none\" points=\"\n",
       "  178.867,718.272 197.764,718.272 \n",
       "  \"/>\n",
       "<polyline clip-path=\"url(#clip780)\" style=\"stroke:#000000; stroke-linecap:butt; stroke-linejoin:round; stroke-width:4; stroke-opacity:1; fill:none\" points=\"\n",
       "  178.867,456.43 197.764,456.43 \n",
       "  \"/>\n",
       "<polyline clip-path=\"url(#clip780)\" style=\"stroke:#000000; stroke-linecap:butt; stroke-linejoin:round; stroke-width:4; stroke-opacity:1; fill:none\" points=\"\n",
       "  178.867,194.588 197.764,194.588 \n",
       "  \"/>\n",
       "<path clip-path=\"url(#clip780)\" d=\"M50.9921 980.565 L80.6679 980.565 L80.6679 984.5 L50.9921 984.5 L50.9921 980.565 Z\" fill=\"#000000\" fill-rule=\"evenodd\" fill-opacity=\"1\" /><path clip-path=\"url(#clip780)\" d=\"M94.7882 993.459 L111.108 993.459 L111.108 997.394 L89.1632 997.394 L89.1632 993.459 Q91.8252 990.704 96.4085 986.075 Q101.015 981.422 102.196 980.079 Q104.441 977.556 105.321 975.82 Q106.223 974.061 106.223 972.371 Q106.223 969.616 104.279 967.88 Q102.358 966.144 99.2558 966.144 Q97.0567 966.144 94.603 966.908 Q92.1725 967.672 89.3947 969.223 L89.3947 964.501 Q92.2188 963.366 94.6724 962.788 Q97.1261 962.209 99.1632 962.209 Q104.534 962.209 107.728 964.894 Q110.922 967.579 110.922 972.07 Q110.922 974.2 110.112 976.121 Q109.325 978.019 107.219 980.612 Q106.64 981.283 103.538 984.5 Q100.436 987.695 94.7882 993.459 Z\" fill=\"#000000\" fill-rule=\"evenodd\" fill-opacity=\"1\" /><path clip-path=\"url(#clip780)\" d=\"M130.922 965.913 Q127.311 965.913 125.482 969.477 Q123.677 973.019 123.677 980.149 Q123.677 987.255 125.482 990.82 Q127.311 994.362 130.922 994.362 Q134.556 994.362 136.362 990.82 Q138.191 987.255 138.191 980.149 Q138.191 973.019 136.362 969.477 Q134.556 965.913 130.922 965.913 M130.922 962.209 Q136.732 962.209 139.788 966.815 Q142.867 971.399 142.867 980.149 Q142.867 988.875 139.788 993.482 Q136.732 998.065 130.922 998.065 Q125.112 998.065 122.033 993.482 Q118.978 988.875 118.978 980.149 Q118.978 971.399 122.033 966.815 Q125.112 962.209 130.922 962.209 Z\" fill=\"#000000\" fill-rule=\"evenodd\" fill-opacity=\"1\" /><path clip-path=\"url(#clip780)\" d=\"M50.9921 718.723 L80.6679 718.723 L80.6679 722.658 L50.9921 722.658 L50.9921 718.723 Z\" fill=\"#000000\" fill-rule=\"evenodd\" fill-opacity=\"1\" /><path clip-path=\"url(#clip780)\" d=\"M91.5706 731.617 L99.2095 731.617 L99.2095 705.251 L90.8993 706.918 L90.8993 702.658 L99.1632 700.992 L103.839 700.992 L103.839 731.617 L111.478 731.617 L111.478 735.552 L91.5706 735.552 L91.5706 731.617 Z\" fill=\"#000000\" fill-rule=\"evenodd\" fill-opacity=\"1\" /><path clip-path=\"url(#clip780)\" d=\"M130.922 704.071 Q127.311 704.071 125.482 707.635 Q123.677 711.177 123.677 718.307 Q123.677 725.413 125.482 728.978 Q127.311 732.519 130.922 732.519 Q134.556 732.519 136.362 728.978 Q138.191 725.413 138.191 718.307 Q138.191 711.177 136.362 707.635 Q134.556 704.071 130.922 704.071 M130.922 700.367 Q136.732 700.367 139.788 704.973 Q142.867 709.557 142.867 718.307 Q142.867 727.033 139.788 731.64 Q136.732 736.223 130.922 736.223 Q125.112 736.223 122.033 731.64 Q118.978 727.033 118.978 718.307 Q118.978 709.557 122.033 704.973 Q125.112 700.367 130.922 700.367 Z\" fill=\"#000000\" fill-rule=\"evenodd\" fill-opacity=\"1\" /><path clip-path=\"url(#clip780)\" d=\"M130.922 442.228 Q127.311 442.228 125.482 445.793 Q123.677 449.335 123.677 456.464 Q123.677 463.571 125.482 467.136 Q127.311 470.677 130.922 470.677 Q134.556 470.677 136.362 467.136 Q138.191 463.571 138.191 456.464 Q138.191 449.335 136.362 445.793 Q134.556 442.228 130.922 442.228 M130.922 438.525 Q136.732 438.525 139.788 443.131 Q142.867 447.714 142.867 456.464 Q142.867 465.191 139.788 469.798 Q136.732 474.381 130.922 474.381 Q125.112 474.381 122.033 469.798 Q118.978 465.191 118.978 456.464 Q118.978 447.714 122.033 443.131 Q125.112 438.525 130.922 438.525 Z\" fill=\"#000000\" fill-rule=\"evenodd\" fill-opacity=\"1\" /><path clip-path=\"url(#clip780)\" d=\"M91.5706 207.932 L99.2095 207.932 L99.2095 181.567 L90.8993 183.234 L90.8993 178.974 L99.1632 177.308 L103.839 177.308 L103.839 207.932 L111.478 207.932 L111.478 211.868 L91.5706 211.868 L91.5706 207.932 Z\" fill=\"#000000\" fill-rule=\"evenodd\" fill-opacity=\"1\" /><path clip-path=\"url(#clip780)\" d=\"M130.922 180.386 Q127.311 180.386 125.482 183.951 Q123.677 187.493 123.677 194.622 Q123.677 201.729 125.482 205.294 Q127.311 208.835 130.922 208.835 Q134.556 208.835 136.362 205.294 Q138.191 201.729 138.191 194.622 Q138.191 187.493 136.362 183.951 Q134.556 180.386 130.922 180.386 M130.922 176.683 Q136.732 176.683 139.788 181.289 Q142.867 185.872 142.867 194.622 Q142.867 203.349 139.788 207.956 Q136.732 212.539 130.922 212.539 Q125.112 212.539 122.033 207.956 Q118.978 203.349 118.978 194.622 Q118.978 185.872 122.033 181.289 Q125.112 176.683 130.922 176.683 Z\" fill=\"#000000\" fill-rule=\"evenodd\" fill-opacity=\"1\" /><circle clip-path=\"url(#clip782)\" cx=\"945.287\" cy=\"764.502\" r=\"14\" fill=\"#cd5c5c\" fill-rule=\"evenodd\" fill-opacity=\"1\" stroke=\"#000000\" stroke-opacity=\"1\" stroke-width=\"2.4\"/>\n",
       "<circle clip-path=\"url(#clip782)\" cx=\"1071.03\" cy=\"794.41\" r=\"14\" fill=\"#cd5c5c\" fill-rule=\"evenodd\" fill-opacity=\"1\" stroke=\"#000000\" stroke-opacity=\"1\" stroke-width=\"2.4\"/>\n",
       "<circle clip-path=\"url(#clip782)\" cx=\"1074.05\" cy=\"760.192\" r=\"14\" fill=\"#cd5c5c\" fill-rule=\"evenodd\" fill-opacity=\"1\" stroke=\"#000000\" stroke-opacity=\"1\" stroke-width=\"2.4\"/>\n",
       "<circle clip-path=\"url(#clip782)\" cx=\"933.175\" cy=\"712.992\" r=\"14\" fill=\"#cd5c5c\" fill-rule=\"evenodd\" fill-opacity=\"1\" stroke=\"#000000\" stroke-opacity=\"1\" stroke-width=\"2.4\"/>\n",
       "<circle clip-path=\"url(#clip782)\" cx=\"677.122\" cy=\"358.396\" r=\"14\" fill=\"#cd5c5c\" fill-rule=\"evenodd\" fill-opacity=\"1\" stroke=\"#000000\" stroke-opacity=\"1\" stroke-width=\"2.4\"/>\n",
       "<circle clip-path=\"url(#clip782)\" cx=\"804.433\" cy=\"500.197\" r=\"14\" fill=\"#cd5c5c\" fill-rule=\"evenodd\" fill-opacity=\"1\" stroke=\"#000000\" stroke-opacity=\"1\" stroke-width=\"2.4\"/>\n",
       "<circle clip-path=\"url(#clip782)\" cx=\"683.957\" cy=\"654.535\" r=\"14\" fill=\"#cd5c5c\" fill-rule=\"evenodd\" fill-opacity=\"1\" stroke=\"#000000\" stroke-opacity=\"1\" stroke-width=\"2.4\"/>\n",
       "<circle clip-path=\"url(#clip782)\" cx=\"755.91\" cy=\"513.496\" r=\"14\" fill=\"#cd5c5c\" fill-rule=\"evenodd\" fill-opacity=\"1\" stroke=\"#000000\" stroke-opacity=\"1\" stroke-width=\"2.4\"/>\n",
       "<circle clip-path=\"url(#clip782)\" cx=\"892.638\" cy=\"684.488\" r=\"14\" fill=\"#cd5c5c\" fill-rule=\"evenodd\" fill-opacity=\"1\" stroke=\"#000000\" stroke-opacity=\"1\" stroke-width=\"2.4\"/>\n",
       "<circle clip-path=\"url(#clip782)\" cx=\"674.229\" cy=\"273.122\" r=\"14\" fill=\"#cd5c5c\" fill-rule=\"evenodd\" fill-opacity=\"1\" stroke=\"#000000\" stroke-opacity=\"1\" stroke-width=\"2.4\"/>\n",
       "<circle clip-path=\"url(#clip782)\" cx=\"799.811\" cy=\"621.767\" r=\"14\" fill=\"#cd5c5c\" fill-rule=\"evenodd\" fill-opacity=\"1\" stroke=\"#000000\" stroke-opacity=\"1\" stroke-width=\"2.4\"/>\n",
       "<circle clip-path=\"url(#clip782)\" cx=\"992.895\" cy=\"806.66\" r=\"14\" fill=\"#cd5c5c\" fill-rule=\"evenodd\" fill-opacity=\"1\" stroke=\"#000000\" stroke-opacity=\"1\" stroke-width=\"2.4\"/>\n",
       "<circle clip-path=\"url(#clip782)\" cx=\"746.999\" cy=\"709.2\" r=\"14\" fill=\"#cd5c5c\" fill-rule=\"evenodd\" fill-opacity=\"1\" stroke=\"#000000\" stroke-opacity=\"1\" stroke-width=\"2.4\"/>\n",
       "<circle clip-path=\"url(#clip782)\" cx=\"831.457\" cy=\"574.752\" r=\"14\" fill=\"#cd5c5c\" fill-rule=\"evenodd\" fill-opacity=\"1\" stroke=\"#000000\" stroke-opacity=\"1\" stroke-width=\"2.4\"/>\n",
       "<circle clip-path=\"url(#clip782)\" cx=\"741.642\" cy=\"434.832\" r=\"14\" fill=\"#cd5c5c\" fill-rule=\"evenodd\" fill-opacity=\"1\" stroke=\"#000000\" stroke-opacity=\"1\" stroke-width=\"2.4\"/>\n",
       "<circle clip-path=\"url(#clip782)\" cx=\"1125.19\" cy=\"611.94\" r=\"14\" fill=\"#cd5c5c\" fill-rule=\"evenodd\" fill-opacity=\"1\" stroke=\"#000000\" stroke-opacity=\"1\" stroke-width=\"2.4\"/>\n",
       "<circle clip-path=\"url(#clip782)\" cx=\"1061.74\" cy=\"588.02\" r=\"14\" fill=\"#cd5c5c\" fill-rule=\"evenodd\" fill-opacity=\"1\" stroke=\"#000000\" stroke-opacity=\"1\" stroke-width=\"2.4\"/>\n",
       "<circle clip-path=\"url(#clip782)\" cx=\"915.978\" cy=\"530.644\" r=\"14\" fill=\"#cd5c5c\" fill-rule=\"evenodd\" fill-opacity=\"1\" stroke=\"#000000\" stroke-opacity=\"1\" stroke-width=\"2.4\"/>\n",
       "<circle clip-path=\"url(#clip782)\" cx=\"1082.72\" cy=\"883.249\" r=\"14\" fill=\"#cd5c5c\" fill-rule=\"evenodd\" fill-opacity=\"1\" stroke=\"#000000\" stroke-opacity=\"1\" stroke-width=\"2.4\"/>\n",
       "<circle clip-path=\"url(#clip782)\" cx=\"939.668\" cy=\"750.353\" r=\"14\" fill=\"#cd5c5c\" fill-rule=\"evenodd\" fill-opacity=\"1\" stroke=\"#000000\" stroke-opacity=\"1\" stroke-width=\"2.4\"/>\n",
       "<circle clip-path=\"url(#clip782)\" cx=\"731.277\" cy=\"501.577\" r=\"14\" fill=\"#cd5c5c\" fill-rule=\"evenodd\" fill-opacity=\"1\" stroke=\"#000000\" stroke-opacity=\"1\" stroke-width=\"2.4\"/>\n",
       "<circle clip-path=\"url(#clip782)\" cx=\"982.267\" cy=\"722.101\" r=\"14\" fill=\"#cd5c5c\" fill-rule=\"evenodd\" fill-opacity=\"1\" stroke=\"#000000\" stroke-opacity=\"1\" stroke-width=\"2.4\"/>\n",
       "<circle clip-path=\"url(#clip782)\" cx=\"990.601\" cy=\"1019.39\" r=\"14\" fill=\"#cd5c5c\" fill-rule=\"evenodd\" fill-opacity=\"1\" stroke=\"#000000\" stroke-opacity=\"1\" stroke-width=\"2.4\"/>\n",
       "<circle clip-path=\"url(#clip782)\" cx=\"620.375\" cy=\"248.182\" r=\"14\" fill=\"#cd5c5c\" fill-rule=\"evenodd\" fill-opacity=\"1\" stroke=\"#000000\" stroke-opacity=\"1\" stroke-width=\"2.4\"/>\n",
       "<circle clip-path=\"url(#clip782)\" cx=\"977.259\" cy=\"643.011\" r=\"14\" fill=\"#cd5c5c\" fill-rule=\"evenodd\" fill-opacity=\"1\" stroke=\"#000000\" stroke-opacity=\"1\" stroke-width=\"2.4\"/>\n",
       "<circle clip-path=\"url(#clip782)\" cx=\"929.892\" cy=\"659.015\" r=\"14\" fill=\"#cd5c5c\" fill-rule=\"evenodd\" fill-opacity=\"1\" stroke=\"#000000\" stroke-opacity=\"1\" stroke-width=\"2.4\"/>\n",
       "<circle clip-path=\"url(#clip782)\" cx=\"330.89\" cy=\"467.463\" r=\"14\" fill=\"#4682b4\" fill-rule=\"evenodd\" fill-opacity=\"1\" stroke=\"#000000\" stroke-opacity=\"1\" stroke-width=\"2.4\"/>\n",
       "<circle clip-path=\"url(#clip782)\" cx=\"257.081\" cy=\"243.313\" r=\"14\" fill=\"#4682b4\" fill-rule=\"evenodd\" fill-opacity=\"1\" stroke=\"#000000\" stroke-opacity=\"1\" stroke-width=\"2.4\"/>\n",
       "<circle clip-path=\"url(#clip782)\" cx=\"538.215\" cy=\"290.745\" r=\"14\" fill=\"#4682b4\" fill-rule=\"evenodd\" fill-opacity=\"1\" stroke=\"#000000\" stroke-opacity=\"1\" stroke-width=\"2.4\"/>\n",
       "<circle clip-path=\"url(#clip782)\" cx=\"374.727\" cy=\"499.618\" r=\"14\" fill=\"#4682b4\" fill-rule=\"evenodd\" fill-opacity=\"1\" stroke=\"#000000\" stroke-opacity=\"1\" stroke-width=\"2.4\"/>\n",
       "<circle clip-path=\"url(#clip782)\" cx=\"698.865\" cy=\"115.592\" r=\"14\" fill=\"#4682b4\" fill-rule=\"evenodd\" fill-opacity=\"1\" stroke=\"#000000\" stroke-opacity=\"1\" stroke-width=\"2.4\"/>\n",
       "<circle clip-path=\"url(#clip782)\" cx=\"570.98\" cy=\"381.334\" r=\"14\" fill=\"#4682b4\" fill-rule=\"evenodd\" fill-opacity=\"1\" stroke=\"#000000\" stroke-opacity=\"1\" stroke-width=\"2.4\"/>\n",
       "<circle clip-path=\"url(#clip782)\" cx=\"477.851\" cy=\"119.261\" r=\"14\" fill=\"#4682b4\" fill-rule=\"evenodd\" fill-opacity=\"1\" stroke=\"#000000\" stroke-opacity=\"1\" stroke-width=\"2.4\"/>\n",
       "<circle clip-path=\"url(#clip782)\" cx=\"520.253\" cy=\"324.001\" r=\"14\" fill=\"#4682b4\" fill-rule=\"evenodd\" fill-opacity=\"1\" stroke=\"#000000\" stroke-opacity=\"1\" stroke-width=\"2.4\"/>\n",
       "<circle clip-path=\"url(#clip782)\" cx=\"664.607\" cy=\"251.204\" r=\"14\" fill=\"#4682b4\" fill-rule=\"evenodd\" fill-opacity=\"1\" stroke=\"#000000\" stroke-opacity=\"1\" stroke-width=\"2.4\"/>\n",
       "<circle clip-path=\"url(#clip782)\" cx=\"309.797\" cy=\"91.9159\" r=\"14\" fill=\"#4682b4\" fill-rule=\"evenodd\" fill-opacity=\"1\" stroke=\"#000000\" stroke-opacity=\"1\" stroke-width=\"2.4\"/>\n",
       "<circle clip-path=\"url(#clip782)\" cx=\"571.288\" cy=\"212.247\" r=\"14\" fill=\"#4682b4\" fill-rule=\"evenodd\" fill-opacity=\"1\" stroke=\"#000000\" stroke-opacity=\"1\" stroke-width=\"2.4\"/>\n",
       "<circle clip-path=\"url(#clip782)\" cx=\"453.001\" cy=\"359.057\" r=\"14\" fill=\"#4682b4\" fill-rule=\"evenodd\" fill-opacity=\"1\" stroke=\"#000000\" stroke-opacity=\"1\" stroke-width=\"2.4\"/>\n",
       "<circle clip-path=\"url(#clip782)\" cx=\"355.332\" cy=\"542.552\" r=\"14\" fill=\"#4682b4\" fill-rule=\"evenodd\" fill-opacity=\"1\" stroke=\"#000000\" stroke-opacity=\"1\" stroke-width=\"2.4\"/>\n",
       "<circle clip-path=\"url(#clip782)\" cx=\"549.869\" cy=\"75.5589\" r=\"14\" fill=\"#4682b4\" fill-rule=\"evenodd\" fill-opacity=\"1\" stroke=\"#000000\" stroke-opacity=\"1\" stroke-width=\"2.4\"/>\n",
       "<circle clip-path=\"url(#clip782)\" cx=\"493.093\" cy=\"447.026\" r=\"14\" fill=\"#4682b4\" fill-rule=\"evenodd\" fill-opacity=\"1\" stroke=\"#000000\" stroke-opacity=\"1\" stroke-width=\"2.4\"/>\n",
       "<circle clip-path=\"url(#clip782)\" cx=\"596.96\" cy=\"255.805\" r=\"14\" fill=\"#4682b4\" fill-rule=\"evenodd\" fill-opacity=\"1\" stroke=\"#000000\" stroke-opacity=\"1\" stroke-width=\"2.4\"/>\n",
       "<circle clip-path=\"url(#clip782)\" cx=\"466.422\" cy=\"182.115\" r=\"14\" fill=\"#4682b4\" fill-rule=\"evenodd\" fill-opacity=\"1\" stroke=\"#000000\" stroke-opacity=\"1\" stroke-width=\"2.4\"/>\n",
       "<circle clip-path=\"url(#clip782)\" cx=\"536.652\" cy=\"271.415\" r=\"14\" fill=\"#4682b4\" fill-rule=\"evenodd\" fill-opacity=\"1\" stroke=\"#000000\" stroke-opacity=\"1\" stroke-width=\"2.4\"/>\n",
       "<circle clip-path=\"url(#clip782)\" cx=\"540.736\" cy=\"228.768\" r=\"14\" fill=\"#4682b4\" fill-rule=\"evenodd\" fill-opacity=\"1\" stroke=\"#000000\" stroke-opacity=\"1\" stroke-width=\"2.4\"/>\n",
       "<circle clip-path=\"url(#clip782)\" cx=\"206.43\" cy=\"92.9667\" r=\"14\" fill=\"#4682b4\" fill-rule=\"evenodd\" fill-opacity=\"1\" stroke=\"#000000\" stroke-opacity=\"1\" stroke-width=\"2.4\"/>\n",
       "<circle clip-path=\"url(#clip782)\" cx=\"595.57\" cy=\"84.4466\" r=\"14\" fill=\"#4682b4\" fill-rule=\"evenodd\" fill-opacity=\"1\" stroke=\"#000000\" stroke-opacity=\"1\" stroke-width=\"2.4\"/>\n",
       "<circle clip-path=\"url(#clip782)\" cx=\"458.946\" cy=\"190.725\" r=\"14\" fill=\"#4682b4\" fill-rule=\"evenodd\" fill-opacity=\"1\" stroke=\"#000000\" stroke-opacity=\"1\" stroke-width=\"2.4\"/>\n",
       "<circle clip-path=\"url(#clip782)\" cx=\"481.714\" cy=\"370.1\" r=\"14\" fill=\"#4682b4\" fill-rule=\"evenodd\" fill-opacity=\"1\" stroke=\"#000000\" stroke-opacity=\"1\" stroke-width=\"2.4\"/>\n",
       "<circle clip-path=\"url(#clip782)\" cx=\"368.31\" cy=\"403.241\" r=\"14\" fill=\"#4682b4\" fill-rule=\"evenodd\" fill-opacity=\"1\" stroke=\"#000000\" stroke-opacity=\"1\" stroke-width=\"2.4\"/>\n",
       "<path clip-path=\"url(#clip780)\" d=\"\n",
       "M858.149 236.113 L1120.29 236.113 L1120.29 80.5926 L858.149 80.5926  Z\n",
       "  \" fill=\"#ffffff\" fill-rule=\"evenodd\" fill-opacity=\"1\"/>\n",
       "<polyline clip-path=\"url(#clip780)\" style=\"stroke:#000000; stroke-linecap:butt; stroke-linejoin:round; stroke-width:4; stroke-opacity:1; fill:none\" points=\"\n",
       "  858.149,236.113 1120.29,236.113 1120.29,80.5926 858.149,80.5926 858.149,236.113 \n",
       "  \"/>\n",
       "<circle clip-path=\"url(#clip780)\" cx=\"901.433\" cy=\"132.433\" r=\"23\" fill=\"#cd5c5c\" fill-rule=\"evenodd\" fill-opacity=\"1\" stroke=\"#000000\" stroke-opacity=\"1\" stroke-width=\"3.84\"/>\n",
       "<path clip-path=\"url(#clip780)\" d=\"M972.587 117.815 L972.587 122.745 Q970.226 120.546 967.541 119.458 Q964.879 118.37 961.869 118.37 Q955.943 118.37 952.795 122.004 Q949.647 125.616 949.647 132.467 Q949.647 139.296 952.795 142.93 Q955.943 146.541 961.869 146.541 Q964.879 146.541 967.541 145.453 Q970.226 144.365 972.587 142.166 L972.587 147.051 Q970.133 148.717 967.379 149.551 Q964.647 150.384 961.591 150.384 Q953.744 150.384 949.23 145.592 Q944.717 140.777 944.717 132.467 Q944.717 124.134 949.23 119.342 Q953.744 114.528 961.591 114.528 Q964.693 114.528 967.425 115.361 Q970.179 116.171 972.587 117.815 Z\" fill=\"#000000\" fill-rule=\"evenodd\" fill-opacity=\"1\" /><path clip-path=\"url(#clip780)\" d=\"M989.67 126.773 Q986.244 126.773 984.253 129.458 Q982.263 132.12 982.263 136.773 Q982.263 141.426 984.23 144.111 Q986.221 146.773 989.67 146.773 Q993.073 146.773 995.064 144.088 Q997.054 141.402 997.054 136.773 Q997.054 132.166 995.064 129.481 Q993.073 126.773 989.67 126.773 M989.67 123.162 Q995.226 123.162 998.397 126.773 Q1001.57 130.384 1001.57 136.773 Q1001.57 143.139 998.397 146.773 Q995.226 150.384 989.67 150.384 Q984.091 150.384 980.92 146.773 Q977.772 143.139 977.772 136.773 Q977.772 130.384 980.92 126.773 Q984.091 123.162 989.67 123.162 Z\" fill=\"#000000\" fill-rule=\"evenodd\" fill-opacity=\"1\" /><path clip-path=\"url(#clip780)\" d=\"M1020.41 136.68 Q1015.25 136.68 1013.26 137.861 Q1011.27 139.041 1011.27 141.889 Q1011.27 144.157 1012.75 145.5 Q1014.25 146.819 1016.82 146.819 Q1020.36 146.819 1022.49 144.319 Q1024.65 141.796 1024.65 137.629 L1024.65 136.68 L1020.41 136.68 M1028.91 134.921 L1028.91 149.713 L1024.65 149.713 L1024.65 145.777 Q1023.19 148.139 1021.01 149.273 Q1018.84 150.384 1015.69 150.384 Q1011.71 150.384 1009.35 148.162 Q1007.01 145.916 1007.01 142.166 Q1007.01 137.791 1009.92 135.569 Q1012.86 133.347 1018.67 133.347 L1024.65 133.347 L1024.65 132.93 Q1024.65 129.991 1022.7 128.393 Q1020.78 126.773 1017.29 126.773 Q1015.06 126.773 1012.96 127.305 Q1010.85 127.838 1008.91 128.903 L1008.91 124.967 Q1011.24 124.065 1013.44 123.625 Q1015.64 123.162 1017.73 123.162 Q1023.35 123.162 1026.13 126.078 Q1028.91 128.995 1028.91 134.921 Z\" fill=\"#000000\" fill-rule=\"evenodd\" fill-opacity=\"1\" /><path clip-path=\"url(#clip780)\" d=\"M1041.89 116.426 L1041.89 123.787 L1050.67 123.787 L1050.67 127.097 L1041.89 127.097 L1041.89 141.171 Q1041.89 144.342 1042.75 145.245 Q1043.63 146.148 1046.29 146.148 L1050.67 146.148 L1050.67 149.713 L1046.29 149.713 Q1041.36 149.713 1039.48 147.884 Q1037.61 146.032 1037.61 141.171 L1037.61 127.097 L1034.48 127.097 L1034.48 123.787 L1037.61 123.787 L1037.61 116.426 L1041.89 116.426 Z\" fill=\"#000000\" fill-rule=\"evenodd\" fill-opacity=\"1\" /><circle clip-path=\"url(#clip780)\" cx=\"901.433\" cy=\"184.273\" r=\"23\" fill=\"#4682b4\" fill-rule=\"evenodd\" fill-opacity=\"1\" stroke=\"#000000\" stroke-opacity=\"1\" stroke-width=\"3.84\"/>\n",
       "<path clip-path=\"url(#clip780)\" d=\"M966.962 168.127 L966.962 172.687 Q964.3 171.414 961.939 170.789 Q959.578 170.164 957.379 170.164 Q953.559 170.164 951.476 171.645 Q949.416 173.127 949.416 175.858 Q949.416 178.15 950.781 179.331 Q952.17 180.488 956.013 181.206 L958.837 181.784 Q964.068 182.78 966.545 185.303 Q969.045 187.803 969.045 192.016 Q969.045 197.039 965.666 199.631 Q962.309 202.224 955.804 202.224 Q953.351 202.224 950.573 201.668 Q947.818 201.113 944.855 200.025 L944.855 195.21 Q947.703 196.807 950.434 197.617 Q953.166 198.428 955.804 198.428 Q959.809 198.428 961.985 196.854 Q964.161 195.28 964.161 192.363 Q964.161 189.817 962.587 188.381 Q961.036 186.946 957.471 186.229 L954.624 185.673 Q949.392 184.631 947.055 182.409 Q944.717 180.187 944.717 176.229 Q944.717 171.645 947.934 169.006 Q951.175 166.368 956.846 166.368 Q959.277 166.368 961.8 166.807 Q964.323 167.247 966.962 168.127 Z\" fill=\"#000000\" fill-rule=\"evenodd\" fill-opacity=\"1\" /><path clip-path=\"url(#clip780)\" d=\"M987.934 188.52 Q982.772 188.52 980.781 189.701 Q978.79 190.881 978.79 193.729 Q978.79 195.997 980.272 197.34 Q981.777 198.659 984.346 198.659 Q987.888 198.659 990.017 196.159 Q992.17 193.636 992.17 189.469 L992.17 188.52 L987.934 188.52 M996.429 186.761 L996.429 201.553 L992.17 201.553 L992.17 197.617 Q990.712 199.979 988.536 201.113 Q986.36 202.224 983.212 202.224 Q979.23 202.224 976.869 200.002 Q974.531 197.756 974.531 194.006 Q974.531 189.631 977.448 187.409 Q980.388 185.187 986.198 185.187 L992.17 185.187 L992.17 184.77 Q992.17 181.831 990.226 180.233 Q988.304 178.613 984.809 178.613 Q982.587 178.613 980.48 179.145 Q978.374 179.678 976.429 180.743 L976.429 176.807 Q978.767 175.905 980.966 175.465 Q983.165 175.002 985.249 175.002 Q990.874 175.002 993.652 177.918 Q996.429 180.835 996.429 186.761 Z\" fill=\"#000000\" fill-rule=\"evenodd\" fill-opacity=\"1\" /><path clip-path=\"url(#clip780)\" d=\"M1026.75 185.905 L1026.75 201.553 L1022.49 201.553 L1022.49 186.043 Q1022.49 182.363 1021.06 180.534 Q1019.62 178.706 1016.75 178.706 Q1013.3 178.706 1011.31 180.905 Q1009.32 183.104 1009.32 186.9 L1009.32 201.553 L1005.04 201.553 L1005.04 175.627 L1009.32 175.627 L1009.32 179.655 Q1010.85 177.317 1012.91 176.159 Q1014.99 175.002 1017.7 175.002 Q1022.17 175.002 1024.46 177.78 Q1026.75 180.534 1026.75 185.905 Z\" fill=\"#000000\" fill-rule=\"evenodd\" fill-opacity=\"1\" /><path clip-path=\"url(#clip780)\" d=\"M1052.31 179.562 L1052.31 165.534 L1056.57 165.534 L1056.57 201.553 L1052.31 201.553 L1052.31 197.664 Q1050.97 199.979 1048.91 201.113 Q1046.87 202.224 1044 202.224 Q1039.3 202.224 1036.34 198.474 Q1033.4 194.724 1033.4 188.613 Q1033.4 182.502 1036.34 178.752 Q1039.3 175.002 1044 175.002 Q1046.87 175.002 1048.91 176.136 Q1050.97 177.247 1052.31 179.562 M1037.79 188.613 Q1037.79 193.312 1039.72 195.997 Q1041.66 198.659 1045.04 198.659 Q1048.42 198.659 1050.36 195.997 Q1052.31 193.312 1052.31 188.613 Q1052.31 183.914 1050.36 181.252 Q1048.42 178.567 1045.04 178.567 Q1041.66 178.567 1039.72 181.252 Q1037.79 183.914 1037.79 188.613 Z\" fill=\"#000000\" fill-rule=\"evenodd\" fill-opacity=\"1\" /><path clip-path=\"url(#clip780)\" d=\"M1077.12 188.52 Q1071.96 188.52 1069.97 189.701 Q1067.98 190.881 1067.98 193.729 Q1067.98 195.997 1069.46 197.34 Q1070.97 198.659 1073.54 198.659 Q1077.08 198.659 1079.21 196.159 Q1081.36 193.636 1081.36 189.469 L1081.36 188.52 L1077.12 188.52 M1085.62 186.761 L1085.62 201.553 L1081.36 201.553 L1081.36 197.617 Q1079.9 199.979 1077.73 201.113 Q1075.55 202.224 1072.4 202.224 Q1068.42 202.224 1066.06 200.002 Q1063.72 197.756 1063.72 194.006 Q1063.72 189.631 1066.64 187.409 Q1069.58 185.187 1075.39 185.187 L1081.36 185.187 L1081.36 184.77 Q1081.36 181.831 1079.41 180.233 Q1077.49 178.613 1074 178.613 Q1071.78 178.613 1069.67 179.145 Q1067.56 179.678 1065.62 180.743 L1065.62 176.807 Q1067.96 175.905 1070.16 175.465 Q1072.35 175.002 1074.44 175.002 Q1080.06 175.002 1082.84 177.918 Q1085.62 180.835 1085.62 186.761 Z\" fill=\"#000000\" fill-rule=\"evenodd\" fill-opacity=\"1\" /><path clip-path=\"url(#clip780)\" d=\"M1094.39 165.534 L1098.65 165.534 L1098.65 201.553 L1094.39 201.553 L1094.39 165.534 Z\" fill=\"#000000\" fill-rule=\"evenodd\" fill-opacity=\"1\" /><path clip-path=\"url(#clip780)\" d=\"\n",
       "M1378.87 1047.7 L2352.76 1047.7 L2352.76 47.2441 L1378.87 47.2441  Z\n",
       "  \" fill=\"#ffffff\" fill-rule=\"evenodd\" fill-opacity=\"1\"/>\n",
       "<defs>\n",
       "  <clipPath id=\"clip783\">\n",
       "    <rect x=\"1378\" y=\"47\" width=\"975\" height=\"1001\"/>\n",
       "  </clipPath>\n",
       "</defs>\n",
       "<polyline clip-path=\"url(#clip783)\" style=\"stroke:#000000; stroke-linecap:butt; stroke-linejoin:round; stroke-width:2; stroke-opacity:0.1; fill:none\" points=\"\n",
       "  1455.94,1047.7 1455.94,47.2441 \n",
       "  \"/>\n",
       "<polyline clip-path=\"url(#clip783)\" style=\"stroke:#000000; stroke-linecap:butt; stroke-linejoin:round; stroke-width:2; stroke-opacity:0.1; fill:none\" points=\"\n",
       "  1671.96,1047.7 1671.96,47.2441 \n",
       "  \"/>\n",
       "<polyline clip-path=\"url(#clip783)\" style=\"stroke:#000000; stroke-linecap:butt; stroke-linejoin:round; stroke-width:2; stroke-opacity:0.1; fill:none\" points=\"\n",
       "  1887.98,1047.7 1887.98,47.2441 \n",
       "  \"/>\n",
       "<polyline clip-path=\"url(#clip783)\" style=\"stroke:#000000; stroke-linecap:butt; stroke-linejoin:round; stroke-width:2; stroke-opacity:0.1; fill:none\" points=\"\n",
       "  2104.01,1047.7 2104.01,47.2441 \n",
       "  \"/>\n",
       "<polyline clip-path=\"url(#clip783)\" style=\"stroke:#000000; stroke-linecap:butt; stroke-linejoin:round; stroke-width:2; stroke-opacity:0.1; fill:none\" points=\"\n",
       "  2320.03,1047.7 2320.03,47.2441 \n",
       "  \"/>\n",
       "<polyline clip-path=\"url(#clip780)\" style=\"stroke:#000000; stroke-linecap:butt; stroke-linejoin:round; stroke-width:4; stroke-opacity:1; fill:none\" points=\"\n",
       "  1378.87,1047.7 2352.76,1047.7 \n",
       "  \"/>\n",
       "<polyline clip-path=\"url(#clip780)\" style=\"stroke:#000000; stroke-linecap:butt; stroke-linejoin:round; stroke-width:4; stroke-opacity:1; fill:none\" points=\"\n",
       "  1455.94,1047.7 1455.94,1028.8 \n",
       "  \"/>\n",
       "<polyline clip-path=\"url(#clip780)\" style=\"stroke:#000000; stroke-linecap:butt; stroke-linejoin:round; stroke-width:4; stroke-opacity:1; fill:none\" points=\"\n",
       "  1671.96,1047.7 1671.96,1028.8 \n",
       "  \"/>\n",
       "<polyline clip-path=\"url(#clip780)\" style=\"stroke:#000000; stroke-linecap:butt; stroke-linejoin:round; stroke-width:4; stroke-opacity:1; fill:none\" points=\"\n",
       "  1887.98,1047.7 1887.98,1028.8 \n",
       "  \"/>\n",
       "<polyline clip-path=\"url(#clip780)\" style=\"stroke:#000000; stroke-linecap:butt; stroke-linejoin:round; stroke-width:4; stroke-opacity:1; fill:none\" points=\"\n",
       "  2104.01,1047.7 2104.01,1028.8 \n",
       "  \"/>\n",
       "<polyline clip-path=\"url(#clip780)\" style=\"stroke:#000000; stroke-linecap:butt; stroke-linejoin:round; stroke-width:4; stroke-opacity:1; fill:none\" points=\"\n",
       "  2320.03,1047.7 2320.03,1028.8 \n",
       "  \"/>\n",
       "<path clip-path=\"url(#clip780)\" d=\"M1410 1093.27 L1439.68 1093.27 L1439.68 1097.21 L1410 1097.21 L1410 1093.27 Z\" fill=\"#000000\" fill-rule=\"evenodd\" fill-opacity=\"1\" /><path clip-path=\"url(#clip780)\" d=\"M1453.8 1106.16 L1470.12 1106.16 L1470.12 1110.1 L1448.17 1110.1 L1448.17 1106.16 Q1450.83 1103.41 1455.42 1098.78 Q1460.02 1094.13 1461.2 1092.79 Q1463.45 1090.26 1464.33 1088.53 Q1465.23 1086.77 1465.23 1085.08 Q1465.23 1082.32 1463.29 1080.59 Q1461.37 1078.85 1458.26 1078.85 Q1456.06 1078.85 1453.61 1079.61 Q1451.18 1080.38 1448.4 1081.93 L1448.4 1077.21 Q1451.23 1076.07 1453.68 1075.49 Q1456.13 1074.91 1458.17 1074.91 Q1463.54 1074.91 1466.74 1077.6 Q1469.93 1080.29 1469.93 1084.78 Q1469.93 1086.91 1469.12 1088.83 Q1468.33 1090.72 1466.23 1093.32 Q1465.65 1093.99 1462.55 1097.21 Q1459.44 1100.4 1453.8 1106.16 Z\" fill=\"#000000\" fill-rule=\"evenodd\" fill-opacity=\"1\" /><path clip-path=\"url(#clip780)\" d=\"M1489.93 1078.62 Q1486.32 1078.62 1484.49 1082.18 Q1482.69 1085.72 1482.69 1092.85 Q1482.69 1099.96 1484.49 1103.53 Q1486.32 1107.07 1489.93 1107.07 Q1493.56 1107.07 1495.37 1103.53 Q1497.2 1099.96 1497.2 1092.85 Q1497.2 1085.72 1495.37 1082.18 Q1493.56 1078.62 1489.93 1078.62 M1489.93 1074.91 Q1495.74 1074.91 1498.8 1079.52 Q1501.87 1084.1 1501.87 1092.85 Q1501.87 1101.58 1498.8 1106.19 Q1495.74 1110.77 1489.93 1110.77 Q1484.12 1110.77 1481.04 1106.19 Q1477.99 1101.58 1477.99 1092.85 Q1477.99 1084.1 1481.04 1079.52 Q1484.12 1074.91 1489.93 1074.91 Z\" fill=\"#000000\" fill-rule=\"evenodd\" fill-opacity=\"1\" /><path clip-path=\"url(#clip780)\" d=\"M1626.02 1093.27 L1655.7 1093.27 L1655.7 1097.21 L1626.02 1097.21 L1626.02 1093.27 Z\" fill=\"#000000\" fill-rule=\"evenodd\" fill-opacity=\"1\" /><path clip-path=\"url(#clip780)\" d=\"M1666.6 1106.16 L1674.24 1106.16 L1674.24 1079.8 L1665.93 1081.47 L1665.93 1077.21 L1674.19 1075.54 L1678.87 1075.54 L1678.87 1106.16 L1686.51 1106.16 L1686.51 1110.1 L1666.6 1110.1 L1666.6 1106.16 Z\" fill=\"#000000\" fill-rule=\"evenodd\" fill-opacity=\"1\" /><path clip-path=\"url(#clip780)\" d=\"M1705.95 1078.62 Q1702.34 1078.62 1700.51 1082.18 Q1698.71 1085.72 1698.71 1092.85 Q1698.71 1099.96 1700.51 1103.53 Q1702.34 1107.07 1705.95 1107.07 Q1709.59 1107.07 1711.39 1103.53 Q1713.22 1099.96 1713.22 1092.85 Q1713.22 1085.72 1711.39 1082.18 Q1709.59 1078.62 1705.95 1078.62 M1705.95 1074.91 Q1711.76 1074.91 1714.82 1079.52 Q1717.9 1084.1 1717.9 1092.85 Q1717.9 1101.58 1714.82 1106.19 Q1711.76 1110.77 1705.95 1110.77 Q1700.14 1110.77 1697.06 1106.19 Q1694.01 1101.58 1694.01 1092.85 Q1694.01 1084.1 1697.06 1079.52 Q1700.14 1074.91 1705.95 1074.91 Z\" fill=\"#000000\" fill-rule=\"evenodd\" fill-opacity=\"1\" /><path clip-path=\"url(#clip780)\" d=\"M1887.98 1078.62 Q1884.37 1078.62 1882.54 1082.18 Q1880.74 1085.72 1880.74 1092.85 Q1880.74 1099.96 1882.54 1103.53 Q1884.37 1107.07 1887.98 1107.07 Q1891.62 1107.07 1893.42 1103.53 Q1895.25 1099.96 1895.25 1092.85 Q1895.25 1085.72 1893.42 1082.18 Q1891.62 1078.62 1887.98 1078.62 M1887.98 1074.91 Q1893.79 1074.91 1896.85 1079.52 Q1899.93 1084.1 1899.93 1092.85 Q1899.93 1101.58 1896.85 1106.19 Q1893.79 1110.77 1887.98 1110.77 Q1882.17 1110.77 1879.1 1106.19 Q1876.04 1101.58 1876.04 1092.85 Q1876.04 1084.1 1879.1 1079.52 Q1882.17 1074.91 1887.98 1074.91 Z\" fill=\"#000000\" fill-rule=\"evenodd\" fill-opacity=\"1\" /><path clip-path=\"url(#clip780)\" d=\"M2078.69 1106.16 L2086.33 1106.16 L2086.33 1079.8 L2078.02 1081.47 L2078.02 1077.21 L2086.29 1075.54 L2090.96 1075.54 L2090.96 1106.16 L2098.6 1106.16 L2098.6 1110.1 L2078.69 1110.1 L2078.69 1106.16 Z\" fill=\"#000000\" fill-rule=\"evenodd\" fill-opacity=\"1\" /><path clip-path=\"url(#clip780)\" d=\"M2118.05 1078.62 Q2114.44 1078.62 2112.61 1082.18 Q2110.8 1085.72 2110.8 1092.85 Q2110.8 1099.96 2112.61 1103.53 Q2114.44 1107.07 2118.05 1107.07 Q2121.68 1107.07 2123.49 1103.53 Q2125.31 1099.96 2125.31 1092.85 Q2125.31 1085.72 2123.49 1082.18 Q2121.68 1078.62 2118.05 1078.62 M2118.05 1074.91 Q2123.86 1074.91 2126.91 1079.52 Q2129.99 1084.1 2129.99 1092.85 Q2129.99 1101.58 2126.91 1106.19 Q2123.86 1110.77 2118.05 1110.77 Q2112.24 1110.77 2109.16 1106.19 Q2106.1 1101.58 2106.1 1092.85 Q2106.1 1084.1 2109.16 1079.52 Q2112.24 1074.91 2118.05 1074.91 Z\" fill=\"#000000\" fill-rule=\"evenodd\" fill-opacity=\"1\" /><path clip-path=\"url(#clip780)\" d=\"M2298.8 1106.16 L2315.12 1106.16 L2315.12 1110.1 L2293.18 1110.1 L2293.18 1106.16 Q2295.84 1103.41 2300.42 1098.78 Q2305.03 1094.13 2306.21 1092.79 Q2308.46 1090.26 2309.34 1088.53 Q2310.24 1086.77 2310.24 1085.08 Q2310.24 1082.32 2308.29 1080.59 Q2306.37 1078.85 2303.27 1078.85 Q2301.07 1078.85 2298.62 1079.61 Q2296.19 1080.38 2293.41 1081.93 L2293.41 1077.21 Q2296.23 1076.07 2298.69 1075.49 Q2301.14 1074.91 2303.18 1074.91 Q2308.55 1074.91 2311.74 1077.6 Q2314.94 1080.29 2314.94 1084.78 Q2314.94 1086.91 2314.13 1088.83 Q2313.34 1090.72 2311.23 1093.32 Q2310.66 1093.99 2307.55 1097.21 Q2304.45 1100.4 2298.8 1106.16 Z\" fill=\"#000000\" fill-rule=\"evenodd\" fill-opacity=\"1\" /><path clip-path=\"url(#clip780)\" d=\"M2334.94 1078.62 Q2331.33 1078.62 2329.5 1082.18 Q2327.69 1085.72 2327.69 1092.85 Q2327.69 1099.96 2329.5 1103.53 Q2331.33 1107.07 2334.94 1107.07 Q2338.57 1107.07 2340.38 1103.53 Q2342.21 1099.96 2342.21 1092.85 Q2342.21 1085.72 2340.38 1082.18 Q2338.57 1078.62 2334.94 1078.62 M2334.94 1074.91 Q2340.75 1074.91 2343.8 1079.52 Q2346.88 1084.1 2346.88 1092.85 Q2346.88 1101.58 2343.8 1106.19 Q2340.75 1110.77 2334.94 1110.77 Q2329.13 1110.77 2326.05 1106.19 Q2322.99 1101.58 2322.99 1092.85 Q2322.99 1084.1 2326.05 1079.52 Q2329.13 1074.91 2334.94 1074.91 Z\" fill=\"#000000\" fill-rule=\"evenodd\" fill-opacity=\"1\" /><path clip-path=\"url(#clip780)\" d=\"M1540.4 1187.22 L1540.4 1206.12 L1534.51 1206.12 L1534.51 1156.92 L1540.4 1156.92 L1540.4 1162.33 Q1542.24 1159.14 1545.04 1157.62 Q1547.88 1156.06 1551.79 1156.06 Q1558.28 1156.06 1562.33 1161.21 Q1566.4 1166.37 1566.4 1174.77 Q1566.4 1183.17 1562.33 1188.33 Q1558.28 1193.49 1551.79 1193.49 Q1547.88 1193.49 1545.04 1191.96 Q1542.24 1190.4 1540.4 1187.22 M1560.32 1174.77 Q1560.32 1168.31 1557.65 1164.65 Q1555.01 1160.96 1550.36 1160.96 Q1545.71 1160.96 1543.04 1164.65 Q1540.4 1168.31 1540.4 1174.77 Q1540.4 1181.23 1543.04 1184.92 Q1545.71 1188.59 1550.36 1188.59 Q1555.01 1188.59 1557.65 1184.92 Q1560.32 1181.23 1560.32 1174.77 Z\" fill=\"#000000\" fill-rule=\"evenodd\" fill-opacity=\"1\" /><path clip-path=\"url(#clip780)\" d=\"M1596.76 1162.39 Q1595.78 1161.82 1594.6 1161.56 Q1593.45 1161.28 1592.05 1161.28 Q1587.09 1161.28 1584.42 1164.52 Q1581.77 1167.74 1581.77 1173.79 L1581.77 1192.56 L1575.89 1192.56 L1575.89 1156.92 L1581.77 1156.92 L1581.77 1162.45 Q1583.62 1159.21 1586.58 1157.65 Q1589.54 1156.06 1593.77 1156.06 Q1594.38 1156.06 1595.11 1156.15 Q1595.84 1156.22 1596.73 1156.37 L1596.76 1162.39 Z\" fill=\"#000000\" fill-rule=\"evenodd\" fill-opacity=\"1\" /><path clip-path=\"url(#clip780)\" d=\"M1631.97 1173.28 L1631.97 1176.14 L1605.04 1176.14 Q1605.42 1182.19 1608.67 1185.37 Q1611.95 1188.52 1617.77 1188.52 Q1621.15 1188.52 1624.3 1187.69 Q1627.48 1186.87 1630.6 1185.21 L1630.6 1190.75 Q1627.45 1192.09 1624.14 1192.79 Q1620.83 1193.49 1617.42 1193.49 Q1608.89 1193.49 1603.89 1188.52 Q1598.93 1183.56 1598.93 1175.09 Q1598.93 1166.34 1603.64 1161.21 Q1608.38 1156.06 1616.4 1156.06 Q1623.6 1156.06 1627.77 1160.7 Q1631.97 1165.32 1631.97 1173.28 M1626.11 1171.56 Q1626.05 1166.75 1623.41 1163.89 Q1620.8 1161.02 1616.47 1161.02 Q1611.56 1161.02 1608.6 1163.79 Q1605.68 1166.56 1605.23 1171.59 L1626.11 1171.56 Z\" fill=\"#000000\" fill-rule=\"evenodd\" fill-opacity=\"1\" /><path clip-path=\"url(#clip780)\" d=\"M1665.04 1162.33 L1665.04 1143.04 L1670.89 1143.04 L1670.89 1192.56 L1665.04 1192.56 L1665.04 1187.22 Q1663.19 1190.4 1660.36 1191.96 Q1657.56 1193.49 1653.61 1193.49 Q1647.15 1193.49 1643.08 1188.33 Q1639.03 1183.17 1639.03 1174.77 Q1639.03 1166.37 1643.08 1161.21 Q1647.15 1156.06 1653.61 1156.06 Q1657.56 1156.06 1660.36 1157.62 Q1663.19 1159.14 1665.04 1162.33 M1645.08 1174.77 Q1645.08 1181.23 1647.72 1184.92 Q1650.4 1188.59 1655.04 1188.59 Q1659.69 1188.59 1662.36 1184.92 Q1665.04 1181.23 1665.04 1174.77 Q1665.04 1168.31 1662.36 1164.65 Q1659.69 1160.96 1655.04 1160.96 Q1650.4 1160.96 1647.72 1164.65 Q1645.08 1168.31 1645.08 1174.77 Z\" fill=\"#000000\" fill-rule=\"evenodd\" fill-opacity=\"1\" /><path clip-path=\"url(#clip780)\" d=\"M1682.96 1156.92 L1688.81 1156.92 L1688.81 1192.56 L1682.96 1192.56 L1682.96 1156.92 M1682.96 1143.04 L1688.81 1143.04 L1688.81 1150.45 L1682.96 1150.45 L1682.96 1143.04 Z\" fill=\"#000000\" fill-rule=\"evenodd\" fill-opacity=\"1\" /><path clip-path=\"url(#clip780)\" d=\"M1726.72 1158.28 L1726.72 1163.76 Q1724.24 1162.39 1721.72 1161.72 Q1719.24 1161.02 1716.69 1161.02 Q1711 1161.02 1707.85 1164.65 Q1704.7 1168.25 1704.7 1174.77 Q1704.7 1181.3 1707.85 1184.92 Q1711 1188.52 1716.69 1188.52 Q1719.24 1188.52 1721.72 1187.85 Q1724.24 1187.15 1726.72 1185.78 L1726.72 1191.2 Q1724.27 1192.34 1721.63 1192.91 Q1719.02 1193.49 1716.06 1193.49 Q1708.01 1193.49 1703.26 1188.43 Q1698.52 1183.37 1698.52 1174.77 Q1698.52 1166.05 1703.29 1161.05 Q1708.1 1156.06 1716.44 1156.06 Q1719.15 1156.06 1721.72 1156.63 Q1724.3 1157.17 1726.72 1158.28 Z\" fill=\"#000000\" fill-rule=\"evenodd\" fill-opacity=\"1\" /><path clip-path=\"url(#clip780)\" d=\"M1742.7 1146.79 L1742.7 1156.92 L1754.76 1156.92 L1754.76 1161.47 L1742.7 1161.47 L1742.7 1180.82 Q1742.7 1185.18 1743.88 1186.42 Q1745.09 1187.66 1748.75 1187.66 L1754.76 1187.66 L1754.76 1192.56 L1748.75 1192.56 Q1741.97 1192.56 1739.39 1190.05 Q1736.81 1187.5 1736.81 1180.82 L1736.81 1161.47 L1732.51 1161.47 L1732.51 1156.92 L1736.81 1156.92 L1736.81 1146.79 L1742.7 1146.79 Z\" fill=\"#000000\" fill-rule=\"evenodd\" fill-opacity=\"1\" /><path clip-path=\"url(#clip780)\" d=\"M1762.46 1156.92 L1768.32 1156.92 L1768.32 1192.56 L1762.46 1192.56 L1762.46 1156.92 M1762.46 1143.04 L1768.32 1143.04 L1768.32 1150.45 L1762.46 1150.45 L1762.46 1143.04 Z\" fill=\"#000000\" fill-rule=\"evenodd\" fill-opacity=\"1\" /><path clip-path=\"url(#clip780)\" d=\"M1794.39 1161.02 Q1789.68 1161.02 1786.94 1164.71 Q1784.2 1168.37 1784.2 1174.77 Q1784.2 1181.17 1786.91 1184.86 Q1789.65 1188.52 1794.39 1188.52 Q1799.07 1188.52 1801.8 1184.83 Q1804.54 1181.14 1804.54 1174.77 Q1804.54 1168.44 1801.8 1164.75 Q1799.07 1161.02 1794.39 1161.02 M1794.39 1156.06 Q1802.03 1156.06 1806.39 1161.02 Q1810.75 1165.99 1810.75 1174.77 Q1810.75 1183.52 1806.39 1188.52 Q1802.03 1193.49 1794.39 1193.49 Q1786.72 1193.49 1782.36 1188.52 Q1778.03 1183.52 1778.03 1174.77 Q1778.03 1165.99 1782.36 1161.02 Q1786.72 1156.06 1794.39 1156.06 Z\" fill=\"#000000\" fill-rule=\"evenodd\" fill-opacity=\"1\" /><path clip-path=\"url(#clip780)\" d=\"M1850.09 1171.05 L1850.09 1192.56 L1844.23 1192.56 L1844.23 1171.24 Q1844.23 1166.18 1842.26 1163.66 Q1840.28 1161.15 1836.34 1161.15 Q1831.6 1161.15 1828.86 1164.17 Q1826.12 1167.2 1826.12 1172.42 L1826.12 1192.56 L1820.23 1192.56 L1820.23 1156.92 L1826.12 1156.92 L1826.12 1162.45 Q1828.22 1159.24 1831.05 1157.65 Q1833.92 1156.06 1837.64 1156.06 Q1843.79 1156.06 1846.94 1159.88 Q1850.09 1163.66 1850.09 1171.05 Z\" fill=\"#000000\" fill-rule=\"evenodd\" fill-opacity=\"1\" /><path clip-path=\"url(#clip780)\" d=\"M1884.49 1157.97 L1884.49 1163.5 Q1882.01 1162.23 1879.34 1161.59 Q1876.66 1160.96 1873.8 1160.96 Q1869.44 1160.96 1867.24 1162.29 Q1865.08 1163.63 1865.08 1166.31 Q1865.08 1168.34 1866.64 1169.52 Q1868.2 1170.67 1872.91 1171.72 L1874.91 1172.16 Q1881.15 1173.5 1883.76 1175.95 Q1886.4 1178.37 1886.4 1182.73 Q1886.4 1187.69 1882.46 1190.59 Q1878.54 1193.49 1871.67 1193.49 Q1868.8 1193.49 1865.68 1192.91 Q1862.6 1192.37 1859.16 1191.26 L1859.16 1185.21 Q1862.41 1186.9 1865.56 1187.76 Q1868.71 1188.59 1871.8 1188.59 Q1875.93 1188.59 1878.16 1187.18 Q1880.39 1185.75 1880.39 1183.17 Q1880.39 1180.79 1878.77 1179.51 Q1877.17 1178.24 1871.73 1177.06 L1869.69 1176.59 Q1864.25 1175.44 1861.83 1173.08 Q1859.41 1170.7 1859.41 1166.56 Q1859.41 1161.53 1862.98 1158.79 Q1866.54 1156.06 1873.1 1156.06 Q1876.35 1156.06 1879.21 1156.53 Q1882.08 1157.01 1884.49 1157.97 Z\" fill=\"#000000\" fill-rule=\"evenodd\" fill-opacity=\"1\" /><path clip-path=\"url(#clip780)\" d=\"M1922.24 1146.79 L1922.24 1156.92 L1934.31 1156.92 L1934.31 1161.47 L1922.24 1161.47 L1922.24 1180.82 Q1922.24 1185.18 1923.42 1186.42 Q1924.63 1187.66 1928.29 1187.66 L1934.31 1187.66 L1934.31 1192.56 L1928.29 1192.56 Q1921.51 1192.56 1918.93 1190.05 Q1916.35 1187.5 1916.35 1180.82 L1916.35 1161.47 L1912.06 1161.47 L1912.06 1156.92 L1916.35 1156.92 L1916.35 1146.79 L1922.24 1146.79 Z\" fill=\"#000000\" fill-rule=\"evenodd\" fill-opacity=\"1\" /><path clip-path=\"url(#clip780)\" d=\"M1972.5 1173.28 L1972.5 1176.14 L1945.57 1176.14 Q1945.96 1182.19 1949.2 1185.37 Q1952.48 1188.52 1958.3 1188.52 Q1961.68 1188.52 1964.83 1187.69 Q1968.01 1186.87 1971.13 1185.21 L1971.13 1190.75 Q1967.98 1192.09 1964.67 1192.79 Q1961.36 1193.49 1957.95 1193.49 Q1949.42 1193.49 1944.43 1188.52 Q1939.46 1183.56 1939.46 1175.09 Q1939.46 1166.34 1944.17 1161.21 Q1948.92 1156.06 1956.94 1156.06 Q1964.13 1156.06 1968.3 1160.7 Q1972.5 1165.32 1972.5 1173.28 M1966.64 1171.56 Q1966.58 1166.75 1963.94 1163.89 Q1961.33 1161.02 1957 1161.02 Q1952.1 1161.02 1949.14 1163.79 Q1946.21 1166.56 1945.76 1171.59 L1966.64 1171.56 Z\" fill=\"#000000\" fill-rule=\"evenodd\" fill-opacity=\"1\" /><path clip-path=\"url(#clip780)\" d=\"M2004.84 1157.97 L2004.84 1163.5 Q2002.36 1162.23 1999.68 1161.59 Q1997.01 1160.96 1994.14 1160.96 Q1989.78 1160.96 1987.59 1162.29 Q1985.42 1163.63 1985.42 1166.31 Q1985.42 1168.34 1986.98 1169.52 Q1988.54 1170.67 1993.25 1171.72 L1995.26 1172.16 Q2001.5 1173.5 2004.11 1175.95 Q2006.75 1178.37 2006.75 1182.73 Q2006.75 1187.69 2002.8 1190.59 Q1998.89 1193.49 1992.01 1193.49 Q1989.15 1193.49 1986.03 1192.91 Q1982.94 1192.37 1979.5 1191.26 L1979.5 1185.21 Q1982.75 1186.9 1985.9 1187.76 Q1989.05 1188.59 1992.14 1188.59 Q1996.28 1188.59 1998.5 1187.18 Q2000.73 1185.75 2000.73 1183.17 Q2000.73 1180.79 1999.11 1179.51 Q1997.52 1178.24 1992.08 1177.06 L1990.04 1176.59 Q1984.6 1175.44 1982.18 1173.08 Q1979.76 1170.7 1979.76 1166.56 Q1979.76 1161.53 1983.32 1158.79 Q1986.89 1156.06 1993.44 1156.06 Q1996.69 1156.06 1999.55 1156.53 Q2002.42 1157.01 2004.84 1157.97 Z\" fill=\"#000000\" fill-rule=\"evenodd\" fill-opacity=\"1\" /><path clip-path=\"url(#clip780)\" d=\"M2021.87 1146.79 L2021.87 1156.92 L2033.93 1156.92 L2033.93 1161.47 L2021.87 1161.47 L2021.87 1180.82 Q2021.87 1185.18 2023.04 1186.42 Q2024.25 1187.66 2027.91 1187.66 L2033.93 1187.66 L2033.93 1192.56 L2027.91 1192.56 Q2021.13 1192.56 2018.56 1190.05 Q2015.98 1187.5 2015.98 1180.82 L2015.98 1161.47 L2011.68 1161.47 L2011.68 1156.92 L2015.98 1156.92 L2015.98 1146.79 L2021.87 1146.79 Z\" fill=\"#000000\" fill-rule=\"evenodd\" fill-opacity=\"1\" /><path clip-path=\"url(#clip780)\" d=\"M2085.81 1162.33 L2085.81 1143.04 L2091.67 1143.04 L2091.67 1192.56 L2085.81 1192.56 L2085.81 1187.22 Q2083.96 1190.4 2081.13 1191.96 Q2078.33 1193.49 2074.38 1193.49 Q2067.92 1193.49 2063.85 1188.33 Q2059.81 1183.17 2059.81 1174.77 Q2059.81 1166.37 2063.85 1161.21 Q2067.92 1156.06 2074.38 1156.06 Q2078.33 1156.06 2081.13 1157.62 Q2083.96 1159.14 2085.81 1162.33 M2065.85 1174.77 Q2065.85 1181.23 2068.5 1184.92 Q2071.17 1188.59 2075.82 1188.59 Q2080.46 1188.59 2083.14 1184.92 Q2085.81 1181.23 2085.81 1174.77 Q2085.81 1168.31 2083.14 1164.65 Q2080.46 1160.96 2075.82 1160.96 Q2071.17 1160.96 2068.5 1164.65 Q2065.85 1168.31 2065.85 1174.77 Z\" fill=\"#000000\" fill-rule=\"evenodd\" fill-opacity=\"1\" /><path clip-path=\"url(#clip780)\" d=\"M2119.93 1174.64 Q2112.83 1174.64 2110.1 1176.27 Q2107.36 1177.89 2107.36 1181.81 Q2107.36 1184.92 2109.4 1186.77 Q2111.46 1188.59 2115 1188.59 Q2119.87 1188.59 2122.79 1185.15 Q2125.75 1181.68 2125.75 1175.95 L2125.75 1174.64 L2119.93 1174.64 M2131.61 1172.23 L2131.61 1192.56 L2125.75 1192.56 L2125.75 1187.15 Q2123.75 1190.4 2120.76 1191.96 Q2117.77 1193.49 2113.44 1193.49 Q2107.96 1193.49 2104.72 1190.43 Q2101.5 1187.34 2101.5 1182.19 Q2101.5 1176.17 2105.51 1173.12 Q2109.55 1170.06 2117.54 1170.06 L2125.75 1170.06 L2125.75 1169.49 Q2125.75 1165.45 2123.08 1163.25 Q2120.44 1161.02 2115.63 1161.02 Q2112.58 1161.02 2109.68 1161.75 Q2106.79 1162.49 2104.11 1163.95 L2104.11 1158.54 Q2107.33 1157.3 2110.35 1156.69 Q2113.37 1156.06 2116.24 1156.06 Q2123.97 1156.06 2127.79 1160.07 Q2131.61 1164.08 2131.61 1172.23 Z\" fill=\"#000000\" fill-rule=\"evenodd\" fill-opacity=\"1\" /><path clip-path=\"url(#clip780)\" d=\"M2149.47 1146.79 L2149.47 1156.92 L2161.53 1156.92 L2161.53 1161.47 L2149.47 1161.47 L2149.47 1180.82 Q2149.47 1185.18 2150.64 1186.42 Q2151.85 1187.66 2155.51 1187.66 L2161.53 1187.66 L2161.53 1192.56 L2155.51 1192.56 Q2148.74 1192.56 2146.16 1190.05 Q2143.58 1187.5 2143.58 1180.82 L2143.58 1161.47 L2139.28 1161.47 L2139.28 1156.92 L2143.58 1156.92 L2143.58 1146.79 L2149.47 1146.79 Z\" fill=\"#000000\" fill-rule=\"evenodd\" fill-opacity=\"1\" /><path clip-path=\"url(#clip780)\" d=\"M2185.43 1174.64 Q2178.34 1174.64 2175.6 1176.27 Q2172.86 1177.89 2172.86 1181.81 Q2172.86 1184.92 2174.9 1186.77 Q2176.97 1188.59 2180.5 1188.59 Q2185.37 1188.59 2188.3 1185.15 Q2191.26 1181.68 2191.26 1175.95 L2191.26 1174.64 L2185.43 1174.64 M2197.11 1172.23 L2197.11 1192.56 L2191.26 1192.56 L2191.26 1187.15 Q2189.25 1190.4 2186.26 1191.96 Q2183.27 1193.49 2178.94 1193.49 Q2173.47 1193.49 2170.22 1190.43 Q2167 1187.34 2167 1182.19 Q2167 1176.17 2171.02 1173.12 Q2175.06 1170.06 2183.05 1170.06 L2191.26 1170.06 L2191.26 1169.49 Q2191.26 1165.45 2188.58 1163.25 Q2185.94 1161.02 2181.14 1161.02 Q2178.08 1161.02 2175.18 1161.75 Q2172.29 1162.49 2169.61 1163.95 L2169.61 1158.54 Q2172.83 1157.3 2175.85 1156.69 Q2178.88 1156.06 2181.74 1156.06 Q2189.48 1156.06 2193.3 1160.07 Q2197.11 1164.08 2197.11 1172.23 Z\" fill=\"#000000\" fill-rule=\"evenodd\" fill-opacity=\"1\" /><polyline clip-path=\"url(#clip783)\" style=\"stroke:#000000; stroke-linecap:butt; stroke-linejoin:round; stroke-width:2; stroke-opacity:0.1; fill:none\" points=\"\n",
       "  1378.87,980.114 2352.76,980.114 \n",
       "  \"/>\n",
       "<polyline clip-path=\"url(#clip783)\" style=\"stroke:#000000; stroke-linecap:butt; stroke-linejoin:round; stroke-width:2; stroke-opacity:0.1; fill:none\" points=\"\n",
       "  1378.87,718.272 2352.76,718.272 \n",
       "  \"/>\n",
       "<polyline clip-path=\"url(#clip783)\" style=\"stroke:#000000; stroke-linecap:butt; stroke-linejoin:round; stroke-width:2; stroke-opacity:0.1; fill:none\" points=\"\n",
       "  1378.87,456.43 2352.76,456.43 \n",
       "  \"/>\n",
       "<polyline clip-path=\"url(#clip783)\" style=\"stroke:#000000; stroke-linecap:butt; stroke-linejoin:round; stroke-width:2; stroke-opacity:0.1; fill:none\" points=\"\n",
       "  1378.87,194.588 2352.76,194.588 \n",
       "  \"/>\n",
       "<polyline clip-path=\"url(#clip780)\" style=\"stroke:#000000; stroke-linecap:butt; stroke-linejoin:round; stroke-width:4; stroke-opacity:1; fill:none\" points=\"\n",
       "  1378.87,1047.7 1378.87,47.2441 \n",
       "  \"/>\n",
       "<polyline clip-path=\"url(#clip780)\" style=\"stroke:#000000; stroke-linecap:butt; stroke-linejoin:round; stroke-width:4; stroke-opacity:1; fill:none\" points=\"\n",
       "  1378.87,980.114 1397.76,980.114 \n",
       "  \"/>\n",
       "<polyline clip-path=\"url(#clip780)\" style=\"stroke:#000000; stroke-linecap:butt; stroke-linejoin:round; stroke-width:4; stroke-opacity:1; fill:none\" points=\"\n",
       "  1378.87,718.272 1397.76,718.272 \n",
       "  \"/>\n",
       "<polyline clip-path=\"url(#clip780)\" style=\"stroke:#000000; stroke-linecap:butt; stroke-linejoin:round; stroke-width:4; stroke-opacity:1; fill:none\" points=\"\n",
       "  1378.87,456.43 1397.76,456.43 \n",
       "  \"/>\n",
       "<polyline clip-path=\"url(#clip780)\" style=\"stroke:#000000; stroke-linecap:butt; stroke-linejoin:round; stroke-width:4; stroke-opacity:1; fill:none\" points=\"\n",
       "  1378.87,194.588 1397.76,194.588 \n",
       "  \"/>\n",
       "<path clip-path=\"url(#clip780)\" d=\"M1250.99 980.565 L1280.67 980.565 L1280.67 984.5 L1250.99 984.5 L1250.99 980.565 Z\" fill=\"#000000\" fill-rule=\"evenodd\" fill-opacity=\"1\" /><path clip-path=\"url(#clip780)\" d=\"M1294.79 993.459 L1311.11 993.459 L1311.11 997.394 L1289.16 997.394 L1289.16 993.459 Q1291.83 990.704 1296.41 986.075 Q1301.02 981.422 1302.2 980.079 Q1304.44 977.556 1305.32 975.82 Q1306.22 974.061 1306.22 972.371 Q1306.22 969.616 1304.28 967.88 Q1302.36 966.144 1299.26 966.144 Q1297.06 966.144 1294.6 966.908 Q1292.17 967.672 1289.39 969.223 L1289.39 964.501 Q1292.22 963.366 1294.67 962.788 Q1297.13 962.209 1299.16 962.209 Q1304.53 962.209 1307.73 964.894 Q1310.92 967.579 1310.92 972.07 Q1310.92 974.2 1310.11 976.121 Q1309.33 978.019 1307.22 980.612 Q1306.64 981.283 1303.54 984.5 Q1300.44 987.695 1294.79 993.459 Z\" fill=\"#000000\" fill-rule=\"evenodd\" fill-opacity=\"1\" /><path clip-path=\"url(#clip780)\" d=\"M1330.92 965.913 Q1327.31 965.913 1325.48 969.477 Q1323.68 973.019 1323.68 980.149 Q1323.68 987.255 1325.48 990.82 Q1327.31 994.362 1330.92 994.362 Q1334.56 994.362 1336.36 990.82 Q1338.19 987.255 1338.19 980.149 Q1338.19 973.019 1336.36 969.477 Q1334.56 965.913 1330.92 965.913 M1330.92 962.209 Q1336.73 962.209 1339.79 966.815 Q1342.87 971.399 1342.87 980.149 Q1342.87 988.875 1339.79 993.482 Q1336.73 998.065 1330.92 998.065 Q1325.11 998.065 1322.03 993.482 Q1318.98 988.875 1318.98 980.149 Q1318.98 971.399 1322.03 966.815 Q1325.11 962.209 1330.92 962.209 Z\" fill=\"#000000\" fill-rule=\"evenodd\" fill-opacity=\"1\" /><path clip-path=\"url(#clip780)\" d=\"M1250.99 718.723 L1280.67 718.723 L1280.67 722.658 L1250.99 722.658 L1250.99 718.723 Z\" fill=\"#000000\" fill-rule=\"evenodd\" fill-opacity=\"1\" /><path clip-path=\"url(#clip780)\" d=\"M1291.57 731.617 L1299.21 731.617 L1299.21 705.251 L1290.9 706.918 L1290.9 702.658 L1299.16 700.992 L1303.84 700.992 L1303.84 731.617 L1311.48 731.617 L1311.48 735.552 L1291.57 735.552 L1291.57 731.617 Z\" fill=\"#000000\" fill-rule=\"evenodd\" fill-opacity=\"1\" /><path clip-path=\"url(#clip780)\" d=\"M1330.92 704.071 Q1327.31 704.071 1325.48 707.635 Q1323.68 711.177 1323.68 718.307 Q1323.68 725.413 1325.48 728.978 Q1327.31 732.519 1330.92 732.519 Q1334.56 732.519 1336.36 728.978 Q1338.19 725.413 1338.19 718.307 Q1338.19 711.177 1336.36 707.635 Q1334.56 704.071 1330.92 704.071 M1330.92 700.367 Q1336.73 700.367 1339.79 704.973 Q1342.87 709.557 1342.87 718.307 Q1342.87 727.033 1339.79 731.64 Q1336.73 736.223 1330.92 736.223 Q1325.11 736.223 1322.03 731.64 Q1318.98 727.033 1318.98 718.307 Q1318.98 709.557 1322.03 704.973 Q1325.11 700.367 1330.92 700.367 Z\" fill=\"#000000\" fill-rule=\"evenodd\" fill-opacity=\"1\" /><path clip-path=\"url(#clip780)\" d=\"M1330.92 442.228 Q1327.31 442.228 1325.48 445.793 Q1323.68 449.335 1323.68 456.464 Q1323.68 463.571 1325.48 467.136 Q1327.31 470.677 1330.92 470.677 Q1334.56 470.677 1336.36 467.136 Q1338.19 463.571 1338.19 456.464 Q1338.19 449.335 1336.36 445.793 Q1334.56 442.228 1330.92 442.228 M1330.92 438.525 Q1336.73 438.525 1339.79 443.131 Q1342.87 447.714 1342.87 456.464 Q1342.87 465.191 1339.79 469.798 Q1336.73 474.381 1330.92 474.381 Q1325.11 474.381 1322.03 469.798 Q1318.98 465.191 1318.98 456.464 Q1318.98 447.714 1322.03 443.131 Q1325.11 438.525 1330.92 438.525 Z\" fill=\"#000000\" fill-rule=\"evenodd\" fill-opacity=\"1\" /><path clip-path=\"url(#clip780)\" d=\"M1291.57 207.932 L1299.21 207.932 L1299.21 181.567 L1290.9 183.234 L1290.9 178.974 L1299.16 177.308 L1303.84 177.308 L1303.84 207.932 L1311.48 207.932 L1311.48 211.868 L1291.57 211.868 L1291.57 207.932 Z\" fill=\"#000000\" fill-rule=\"evenodd\" fill-opacity=\"1\" /><path clip-path=\"url(#clip780)\" d=\"M1330.92 180.386 Q1327.31 180.386 1325.48 183.951 Q1323.68 187.493 1323.68 194.622 Q1323.68 201.729 1325.48 205.294 Q1327.31 208.835 1330.92 208.835 Q1334.56 208.835 1336.36 205.294 Q1338.19 201.729 1338.19 194.622 Q1338.19 187.493 1336.36 183.951 Q1334.56 180.386 1330.92 180.386 M1330.92 176.683 Q1336.73 176.683 1339.79 181.289 Q1342.87 185.872 1342.87 194.622 Q1342.87 203.349 1339.79 207.956 Q1336.73 212.539 1330.92 212.539 Q1325.11 212.539 1322.03 207.956 Q1318.98 203.349 1318.98 194.622 Q1318.98 185.872 1322.03 181.289 Q1325.11 176.683 1330.92 176.683 Z\" fill=\"#000000\" fill-rule=\"evenodd\" fill-opacity=\"1\" /><circle clip-path=\"url(#clip783)\" cx=\"1457.08\" cy=\"243.313\" r=\"14\" fill=\"#cd5c5c\" fill-rule=\"evenodd\" fill-opacity=\"1\" stroke=\"#000000\" stroke-opacity=\"1\" stroke-width=\"2.4\"/>\n",
       "<circle clip-path=\"url(#clip783)\" cx=\"2145.29\" cy=\"764.502\" r=\"14\" fill=\"#cd5c5c\" fill-rule=\"evenodd\" fill-opacity=\"1\" stroke=\"#000000\" stroke-opacity=\"1\" stroke-width=\"2.4\"/>\n",
       "<circle clip-path=\"url(#clip783)\" cx=\"2271.03\" cy=\"794.41\" r=\"14\" fill=\"#cd5c5c\" fill-rule=\"evenodd\" fill-opacity=\"1\" stroke=\"#000000\" stroke-opacity=\"1\" stroke-width=\"2.4\"/>\n",
       "<circle clip-path=\"url(#clip783)\" cx=\"2274.05\" cy=\"760.192\" r=\"14\" fill=\"#cd5c5c\" fill-rule=\"evenodd\" fill-opacity=\"1\" stroke=\"#000000\" stroke-opacity=\"1\" stroke-width=\"2.4\"/>\n",
       "<circle clip-path=\"url(#clip783)\" cx=\"2133.17\" cy=\"712.992\" r=\"14\" fill=\"#cd5c5c\" fill-rule=\"evenodd\" fill-opacity=\"1\" stroke=\"#000000\" stroke-opacity=\"1\" stroke-width=\"2.4\"/>\n",
       "<circle clip-path=\"url(#clip783)\" cx=\"2004.43\" cy=\"500.197\" r=\"14\" fill=\"#cd5c5c\" fill-rule=\"evenodd\" fill-opacity=\"1\" stroke=\"#000000\" stroke-opacity=\"1\" stroke-width=\"2.4\"/>\n",
       "<circle clip-path=\"url(#clip783)\" cx=\"1883.96\" cy=\"654.535\" r=\"14\" fill=\"#cd5c5c\" fill-rule=\"evenodd\" fill-opacity=\"1\" stroke=\"#000000\" stroke-opacity=\"1\" stroke-width=\"2.4\"/>\n",
       "<circle clip-path=\"url(#clip783)\" cx=\"1955.91\" cy=\"513.496\" r=\"14\" fill=\"#cd5c5c\" fill-rule=\"evenodd\" fill-opacity=\"1\" stroke=\"#000000\" stroke-opacity=\"1\" stroke-width=\"2.4\"/>\n",
       "<circle clip-path=\"url(#clip783)\" cx=\"2092.64\" cy=\"684.488\" r=\"14\" fill=\"#cd5c5c\" fill-rule=\"evenodd\" fill-opacity=\"1\" stroke=\"#000000\" stroke-opacity=\"1\" stroke-width=\"2.4\"/>\n",
       "<circle clip-path=\"url(#clip783)\" cx=\"1999.81\" cy=\"621.767\" r=\"14\" fill=\"#cd5c5c\" fill-rule=\"evenodd\" fill-opacity=\"1\" stroke=\"#000000\" stroke-opacity=\"1\" stroke-width=\"2.4\"/>\n",
       "<circle clip-path=\"url(#clip783)\" cx=\"2192.9\" cy=\"806.66\" r=\"14\" fill=\"#cd5c5c\" fill-rule=\"evenodd\" fill-opacity=\"1\" stroke=\"#000000\" stroke-opacity=\"1\" stroke-width=\"2.4\"/>\n",
       "<circle clip-path=\"url(#clip783)\" cx=\"1947\" cy=\"709.2\" r=\"14\" fill=\"#cd5c5c\" fill-rule=\"evenodd\" fill-opacity=\"1\" stroke=\"#000000\" stroke-opacity=\"1\" stroke-width=\"2.4\"/>\n",
       "<circle clip-path=\"url(#clip783)\" cx=\"2031.46\" cy=\"574.752\" r=\"14\" fill=\"#cd5c5c\" fill-rule=\"evenodd\" fill-opacity=\"1\" stroke=\"#000000\" stroke-opacity=\"1\" stroke-width=\"2.4\"/>\n",
       "<circle clip-path=\"url(#clip783)\" cx=\"2325.19\" cy=\"611.94\" r=\"14\" fill=\"#cd5c5c\" fill-rule=\"evenodd\" fill-opacity=\"1\" stroke=\"#000000\" stroke-opacity=\"1\" stroke-width=\"2.4\"/>\n",
       "<circle clip-path=\"url(#clip783)\" cx=\"2261.74\" cy=\"588.02\" r=\"14\" fill=\"#cd5c5c\" fill-rule=\"evenodd\" fill-opacity=\"1\" stroke=\"#000000\" stroke-opacity=\"1\" stroke-width=\"2.4\"/>\n",
       "<circle clip-path=\"url(#clip783)\" cx=\"2115.98\" cy=\"530.644\" r=\"14\" fill=\"#cd5c5c\" fill-rule=\"evenodd\" fill-opacity=\"1\" stroke=\"#000000\" stroke-opacity=\"1\" stroke-width=\"2.4\"/>\n",
       "<circle clip-path=\"url(#clip783)\" cx=\"2282.72\" cy=\"883.249\" r=\"14\" fill=\"#cd5c5c\" fill-rule=\"evenodd\" fill-opacity=\"1\" stroke=\"#000000\" stroke-opacity=\"1\" stroke-width=\"2.4\"/>\n",
       "<circle clip-path=\"url(#clip783)\" cx=\"2139.67\" cy=\"750.353\" r=\"14\" fill=\"#cd5c5c\" fill-rule=\"evenodd\" fill-opacity=\"1\" stroke=\"#000000\" stroke-opacity=\"1\" stroke-width=\"2.4\"/>\n",
       "<circle clip-path=\"url(#clip783)\" cx=\"1931.28\" cy=\"501.577\" r=\"14\" fill=\"#cd5c5c\" fill-rule=\"evenodd\" fill-opacity=\"1\" stroke=\"#000000\" stroke-opacity=\"1\" stroke-width=\"2.4\"/>\n",
       "<circle clip-path=\"url(#clip783)\" cx=\"2182.27\" cy=\"722.101\" r=\"14\" fill=\"#cd5c5c\" fill-rule=\"evenodd\" fill-opacity=\"1\" stroke=\"#000000\" stroke-opacity=\"1\" stroke-width=\"2.4\"/>\n",
       "<circle clip-path=\"url(#clip783)\" cx=\"2190.6\" cy=\"1019.39\" r=\"14\" fill=\"#cd5c5c\" fill-rule=\"evenodd\" fill-opacity=\"1\" stroke=\"#000000\" stroke-opacity=\"1\" stroke-width=\"2.4\"/>\n",
       "<circle clip-path=\"url(#clip783)\" cx=\"2177.26\" cy=\"643.011\" r=\"14\" fill=\"#cd5c5c\" fill-rule=\"evenodd\" fill-opacity=\"1\" stroke=\"#000000\" stroke-opacity=\"1\" stroke-width=\"2.4\"/>\n",
       "<circle clip-path=\"url(#clip783)\" cx=\"2129.89\" cy=\"659.015\" r=\"14\" fill=\"#cd5c5c\" fill-rule=\"evenodd\" fill-opacity=\"1\" stroke=\"#000000\" stroke-opacity=\"1\" stroke-width=\"2.4\"/>\n",
       "<circle clip-path=\"url(#clip783)\" cx=\"1530.89\" cy=\"467.463\" r=\"14\" fill=\"#4682b4\" fill-rule=\"evenodd\" fill-opacity=\"1\" stroke=\"#000000\" stroke-opacity=\"1\" stroke-width=\"2.4\"/>\n",
       "<circle clip-path=\"url(#clip783)\" cx=\"1738.22\" cy=\"290.745\" r=\"14\" fill=\"#4682b4\" fill-rule=\"evenodd\" fill-opacity=\"1\" stroke=\"#000000\" stroke-opacity=\"1\" stroke-width=\"2.4\"/>\n",
       "<circle clip-path=\"url(#clip783)\" cx=\"1574.73\" cy=\"499.618\" r=\"14\" fill=\"#4682b4\" fill-rule=\"evenodd\" fill-opacity=\"1\" stroke=\"#000000\" stroke-opacity=\"1\" stroke-width=\"2.4\"/>\n",
       "<circle clip-path=\"url(#clip783)\" cx=\"1898.87\" cy=\"115.592\" r=\"14\" fill=\"#4682b4\" fill-rule=\"evenodd\" fill-opacity=\"1\" stroke=\"#000000\" stroke-opacity=\"1\" stroke-width=\"2.4\"/>\n",
       "<circle clip-path=\"url(#clip783)\" cx=\"1877.12\" cy=\"358.396\" r=\"14\" fill=\"#4682b4\" fill-rule=\"evenodd\" fill-opacity=\"1\" stroke=\"#000000\" stroke-opacity=\"1\" stroke-width=\"2.4\"/>\n",
       "<circle clip-path=\"url(#clip783)\" cx=\"1770.98\" cy=\"381.334\" r=\"14\" fill=\"#4682b4\" fill-rule=\"evenodd\" fill-opacity=\"1\" stroke=\"#000000\" stroke-opacity=\"1\" stroke-width=\"2.4\"/>\n",
       "<circle clip-path=\"url(#clip783)\" cx=\"1677.85\" cy=\"119.261\" r=\"14\" fill=\"#4682b4\" fill-rule=\"evenodd\" fill-opacity=\"1\" stroke=\"#000000\" stroke-opacity=\"1\" stroke-width=\"2.4\"/>\n",
       "<circle clip-path=\"url(#clip783)\" cx=\"1720.25\" cy=\"324.001\" r=\"14\" fill=\"#4682b4\" fill-rule=\"evenodd\" fill-opacity=\"1\" stroke=\"#000000\" stroke-opacity=\"1\" stroke-width=\"2.4\"/>\n",
       "<circle clip-path=\"url(#clip783)\" cx=\"1874.23\" cy=\"273.122\" r=\"14\" fill=\"#4682b4\" fill-rule=\"evenodd\" fill-opacity=\"1\" stroke=\"#000000\" stroke-opacity=\"1\" stroke-width=\"2.4\"/>\n",
       "<circle clip-path=\"url(#clip783)\" cx=\"1864.61\" cy=\"251.204\" r=\"14\" fill=\"#4682b4\" fill-rule=\"evenodd\" fill-opacity=\"1\" stroke=\"#000000\" stroke-opacity=\"1\" stroke-width=\"2.4\"/>\n",
       "<circle clip-path=\"url(#clip783)\" cx=\"1509.8\" cy=\"91.9159\" r=\"14\" fill=\"#4682b4\" fill-rule=\"evenodd\" fill-opacity=\"1\" stroke=\"#000000\" stroke-opacity=\"1\" stroke-width=\"2.4\"/>\n",
       "<circle clip-path=\"url(#clip783)\" cx=\"1771.29\" cy=\"212.247\" r=\"14\" fill=\"#4682b4\" fill-rule=\"evenodd\" fill-opacity=\"1\" stroke=\"#000000\" stroke-opacity=\"1\" stroke-width=\"2.4\"/>\n",
       "<circle clip-path=\"url(#clip783)\" cx=\"1653\" cy=\"359.057\" r=\"14\" fill=\"#4682b4\" fill-rule=\"evenodd\" fill-opacity=\"1\" stroke=\"#000000\" stroke-opacity=\"1\" stroke-width=\"2.4\"/>\n",
       "<circle clip-path=\"url(#clip783)\" cx=\"1555.33\" cy=\"542.552\" r=\"14\" fill=\"#4682b4\" fill-rule=\"evenodd\" fill-opacity=\"1\" stroke=\"#000000\" stroke-opacity=\"1\" stroke-width=\"2.4\"/>\n",
       "<circle clip-path=\"url(#clip783)\" cx=\"1749.87\" cy=\"75.5589\" r=\"14\" fill=\"#4682b4\" fill-rule=\"evenodd\" fill-opacity=\"1\" stroke=\"#000000\" stroke-opacity=\"1\" stroke-width=\"2.4\"/>\n",
       "<circle clip-path=\"url(#clip783)\" cx=\"1693.09\" cy=\"447.026\" r=\"14\" fill=\"#4682b4\" fill-rule=\"evenodd\" fill-opacity=\"1\" stroke=\"#000000\" stroke-opacity=\"1\" stroke-width=\"2.4\"/>\n",
       "<circle clip-path=\"url(#clip783)\" cx=\"1796.96\" cy=\"255.805\" r=\"14\" fill=\"#4682b4\" fill-rule=\"evenodd\" fill-opacity=\"1\" stroke=\"#000000\" stroke-opacity=\"1\" stroke-width=\"2.4\"/>\n",
       "<circle clip-path=\"url(#clip783)\" cx=\"1666.42\" cy=\"182.115\" r=\"14\" fill=\"#4682b4\" fill-rule=\"evenodd\" fill-opacity=\"1\" stroke=\"#000000\" stroke-opacity=\"1\" stroke-width=\"2.4\"/>\n",
       "<circle clip-path=\"url(#clip783)\" cx=\"1941.64\" cy=\"434.832\" r=\"14\" fill=\"#4682b4\" fill-rule=\"evenodd\" fill-opacity=\"1\" stroke=\"#000000\" stroke-opacity=\"1\" stroke-width=\"2.4\"/>\n",
       "<circle clip-path=\"url(#clip783)\" cx=\"1736.65\" cy=\"271.415\" r=\"14\" fill=\"#4682b4\" fill-rule=\"evenodd\" fill-opacity=\"1\" stroke=\"#000000\" stroke-opacity=\"1\" stroke-width=\"2.4\"/>\n",
       "<circle clip-path=\"url(#clip783)\" cx=\"1740.74\" cy=\"228.768\" r=\"14\" fill=\"#4682b4\" fill-rule=\"evenodd\" fill-opacity=\"1\" stroke=\"#000000\" stroke-opacity=\"1\" stroke-width=\"2.4\"/>\n",
       "<circle clip-path=\"url(#clip783)\" cx=\"1406.43\" cy=\"92.9667\" r=\"14\" fill=\"#4682b4\" fill-rule=\"evenodd\" fill-opacity=\"1\" stroke=\"#000000\" stroke-opacity=\"1\" stroke-width=\"2.4\"/>\n",
       "<circle clip-path=\"url(#clip783)\" cx=\"1795.57\" cy=\"84.4466\" r=\"14\" fill=\"#4682b4\" fill-rule=\"evenodd\" fill-opacity=\"1\" stroke=\"#000000\" stroke-opacity=\"1\" stroke-width=\"2.4\"/>\n",
       "<circle clip-path=\"url(#clip783)\" cx=\"1820.38\" cy=\"248.182\" r=\"14\" fill=\"#4682b4\" fill-rule=\"evenodd\" fill-opacity=\"1\" stroke=\"#000000\" stroke-opacity=\"1\" stroke-width=\"2.4\"/>\n",
       "<circle clip-path=\"url(#clip783)\" cx=\"1658.95\" cy=\"190.725\" r=\"14\" fill=\"#4682b4\" fill-rule=\"evenodd\" fill-opacity=\"1\" stroke=\"#000000\" stroke-opacity=\"1\" stroke-width=\"2.4\"/>\n",
       "<circle clip-path=\"url(#clip783)\" cx=\"1681.71\" cy=\"370.1\" r=\"14\" fill=\"#4682b4\" fill-rule=\"evenodd\" fill-opacity=\"1\" stroke=\"#000000\" stroke-opacity=\"1\" stroke-width=\"2.4\"/>\n",
       "<circle clip-path=\"url(#clip783)\" cx=\"1568.31\" cy=\"403.241\" r=\"14\" fill=\"#4682b4\" fill-rule=\"evenodd\" fill-opacity=\"1\" stroke=\"#000000\" stroke-opacity=\"1\" stroke-width=\"2.4\"/>\n",
       "<path clip-path=\"url(#clip780)\" d=\"\n",
       "M2058.15 236.113 L2320.29 236.113 L2320.29 80.5926 L2058.15 80.5926  Z\n",
       "  \" fill=\"#ffffff\" fill-rule=\"evenodd\" fill-opacity=\"1\"/>\n",
       "<polyline clip-path=\"url(#clip780)\" style=\"stroke:#000000; stroke-linecap:butt; stroke-linejoin:round; stroke-width:4; stroke-opacity:1; fill:none\" points=\"\n",
       "  2058.15,236.113 2320.29,236.113 2320.29,80.5926 2058.15,80.5926 2058.15,236.113 \n",
       "  \"/>\n",
       "<circle clip-path=\"url(#clip780)\" cx=\"2101.43\" cy=\"132.433\" r=\"23\" fill=\"#cd5c5c\" fill-rule=\"evenodd\" fill-opacity=\"1\" stroke=\"#000000\" stroke-opacity=\"1\" stroke-width=\"3.84\"/>\n",
       "<path clip-path=\"url(#clip780)\" d=\"M2172.59 117.815 L2172.59 122.745 Q2170.23 120.546 2167.54 119.458 Q2164.88 118.37 2161.87 118.37 Q2155.94 118.37 2152.8 122.004 Q2149.65 125.616 2149.65 132.467 Q2149.65 139.296 2152.8 142.93 Q2155.94 146.541 2161.87 146.541 Q2164.88 146.541 2167.54 145.453 Q2170.23 144.365 2172.59 142.166 L2172.59 147.051 Q2170.13 148.717 2167.38 149.551 Q2164.65 150.384 2161.59 150.384 Q2153.74 150.384 2149.23 145.592 Q2144.72 140.777 2144.72 132.467 Q2144.72 124.134 2149.23 119.342 Q2153.74 114.528 2161.59 114.528 Q2164.69 114.528 2167.42 115.361 Q2170.18 116.171 2172.59 117.815 Z\" fill=\"#000000\" fill-rule=\"evenodd\" fill-opacity=\"1\" /><path clip-path=\"url(#clip780)\" d=\"M2189.67 126.773 Q2186.24 126.773 2184.25 129.458 Q2182.26 132.12 2182.26 136.773 Q2182.26 141.426 2184.23 144.111 Q2186.22 146.773 2189.67 146.773 Q2193.07 146.773 2195.06 144.088 Q2197.05 141.402 2197.05 136.773 Q2197.05 132.166 2195.06 129.481 Q2193.07 126.773 2189.67 126.773 M2189.67 123.162 Q2195.23 123.162 2198.4 126.773 Q2201.57 130.384 2201.57 136.773 Q2201.57 143.139 2198.4 146.773 Q2195.23 150.384 2189.67 150.384 Q2184.09 150.384 2180.92 146.773 Q2177.77 143.139 2177.77 136.773 Q2177.77 130.384 2180.92 126.773 Q2184.09 123.162 2189.67 123.162 Z\" fill=\"#000000\" fill-rule=\"evenodd\" fill-opacity=\"1\" /><path clip-path=\"url(#clip780)\" d=\"M2220.41 136.68 Q2215.25 136.68 2213.26 137.861 Q2211.27 139.041 2211.27 141.889 Q2211.27 144.157 2212.75 145.5 Q2214.25 146.819 2216.82 146.819 Q2220.36 146.819 2222.49 144.319 Q2224.65 141.796 2224.65 137.629 L2224.65 136.68 L2220.41 136.68 M2228.91 134.921 L2228.91 149.713 L2224.65 149.713 L2224.65 145.777 Q2223.19 148.139 2221.01 149.273 Q2218.84 150.384 2215.69 150.384 Q2211.71 150.384 2209.35 148.162 Q2207.01 145.916 2207.01 142.166 Q2207.01 137.791 2209.92 135.569 Q2212.86 133.347 2218.67 133.347 L2224.65 133.347 L2224.65 132.93 Q2224.65 129.991 2222.7 128.393 Q2220.78 126.773 2217.29 126.773 Q2215.06 126.773 2212.96 127.305 Q2210.85 127.838 2208.91 128.903 L2208.91 124.967 Q2211.24 124.065 2213.44 123.625 Q2215.64 123.162 2217.73 123.162 Q2223.35 123.162 2226.13 126.078 Q2228.91 128.995 2228.91 134.921 Z\" fill=\"#000000\" fill-rule=\"evenodd\" fill-opacity=\"1\" /><path clip-path=\"url(#clip780)\" d=\"M2241.89 116.426 L2241.89 123.787 L2250.67 123.787 L2250.67 127.097 L2241.89 127.097 L2241.89 141.171 Q2241.89 144.342 2242.75 145.245 Q2243.63 146.148 2246.29 146.148 L2250.67 146.148 L2250.67 149.713 L2246.29 149.713 Q2241.36 149.713 2239.48 147.884 Q2237.61 146.032 2237.61 141.171 L2237.61 127.097 L2234.48 127.097 L2234.48 123.787 L2237.61 123.787 L2237.61 116.426 L2241.89 116.426 Z\" fill=\"#000000\" fill-rule=\"evenodd\" fill-opacity=\"1\" /><circle clip-path=\"url(#clip780)\" cx=\"2101.43\" cy=\"184.273\" r=\"23\" fill=\"#4682b4\" fill-rule=\"evenodd\" fill-opacity=\"1\" stroke=\"#000000\" stroke-opacity=\"1\" stroke-width=\"3.84\"/>\n",
       "<path clip-path=\"url(#clip780)\" d=\"M2166.96 168.127 L2166.96 172.687 Q2164.3 171.414 2161.94 170.789 Q2159.58 170.164 2157.38 170.164 Q2153.56 170.164 2151.48 171.645 Q2149.42 173.127 2149.42 175.858 Q2149.42 178.15 2150.78 179.331 Q2152.17 180.488 2156.01 181.206 L2158.84 181.784 Q2164.07 182.78 2166.55 185.303 Q2169.05 187.803 2169.05 192.016 Q2169.05 197.039 2165.67 199.631 Q2162.31 202.224 2155.8 202.224 Q2153.35 202.224 2150.57 201.668 Q2147.82 201.113 2144.86 200.025 L2144.86 195.21 Q2147.7 196.807 2150.43 197.617 Q2153.17 198.428 2155.8 198.428 Q2159.81 198.428 2161.99 196.854 Q2164.16 195.28 2164.16 192.363 Q2164.16 189.817 2162.59 188.381 Q2161.04 186.946 2157.47 186.229 L2154.62 185.673 Q2149.39 184.631 2147.05 182.409 Q2144.72 180.187 2144.72 176.229 Q2144.72 171.645 2147.93 169.006 Q2151.17 166.368 2156.85 166.368 Q2159.28 166.368 2161.8 166.807 Q2164.32 167.247 2166.96 168.127 Z\" fill=\"#000000\" fill-rule=\"evenodd\" fill-opacity=\"1\" /><path clip-path=\"url(#clip780)\" d=\"M2187.93 188.52 Q2182.77 188.52 2180.78 189.701 Q2178.79 190.881 2178.79 193.729 Q2178.79 195.997 2180.27 197.34 Q2181.78 198.659 2184.35 198.659 Q2187.89 198.659 2190.02 196.159 Q2192.17 193.636 2192.17 189.469 L2192.17 188.52 L2187.93 188.52 M2196.43 186.761 L2196.43 201.553 L2192.17 201.553 L2192.17 197.617 Q2190.71 199.979 2188.54 201.113 Q2186.36 202.224 2183.21 202.224 Q2179.23 202.224 2176.87 200.002 Q2174.53 197.756 2174.53 194.006 Q2174.53 189.631 2177.45 187.409 Q2180.39 185.187 2186.2 185.187 L2192.17 185.187 L2192.17 184.77 Q2192.17 181.831 2190.23 180.233 Q2188.3 178.613 2184.81 178.613 Q2182.59 178.613 2180.48 179.145 Q2178.37 179.678 2176.43 180.743 L2176.43 176.807 Q2178.77 175.905 2180.97 175.465 Q2183.17 175.002 2185.25 175.002 Q2190.87 175.002 2193.65 177.918 Q2196.43 180.835 2196.43 186.761 Z\" fill=\"#000000\" fill-rule=\"evenodd\" fill-opacity=\"1\" /><path clip-path=\"url(#clip780)\" d=\"M2226.75 185.905 L2226.75 201.553 L2222.49 201.553 L2222.49 186.043 Q2222.49 182.363 2221.06 180.534 Q2219.62 178.706 2216.75 178.706 Q2213.3 178.706 2211.31 180.905 Q2209.32 183.104 2209.32 186.9 L2209.32 201.553 L2205.04 201.553 L2205.04 175.627 L2209.32 175.627 L2209.32 179.655 Q2210.85 177.317 2212.91 176.159 Q2214.99 175.002 2217.7 175.002 Q2222.17 175.002 2224.46 177.78 Q2226.75 180.534 2226.75 185.905 Z\" fill=\"#000000\" fill-rule=\"evenodd\" fill-opacity=\"1\" /><path clip-path=\"url(#clip780)\" d=\"M2252.31 179.562 L2252.31 165.534 L2256.57 165.534 L2256.57 201.553 L2252.31 201.553 L2252.31 197.664 Q2250.97 199.979 2248.91 201.113 Q2246.87 202.224 2244 202.224 Q2239.3 202.224 2236.34 198.474 Q2233.4 194.724 2233.4 188.613 Q2233.4 182.502 2236.34 178.752 Q2239.3 175.002 2244 175.002 Q2246.87 175.002 2248.91 176.136 Q2250.97 177.247 2252.31 179.562 M2237.79 188.613 Q2237.79 193.312 2239.72 195.997 Q2241.66 198.659 2245.04 198.659 Q2248.42 198.659 2250.36 195.997 Q2252.31 193.312 2252.31 188.613 Q2252.31 183.914 2250.36 181.252 Q2248.42 178.567 2245.04 178.567 Q2241.66 178.567 2239.72 181.252 Q2237.79 183.914 2237.79 188.613 Z\" fill=\"#000000\" fill-rule=\"evenodd\" fill-opacity=\"1\" /><path clip-path=\"url(#clip780)\" d=\"M2277.12 188.52 Q2271.96 188.52 2269.97 189.701 Q2267.98 190.881 2267.98 193.729 Q2267.98 195.997 2269.46 197.34 Q2270.97 198.659 2273.54 198.659 Q2277.08 198.659 2279.21 196.159 Q2281.36 193.636 2281.36 189.469 L2281.36 188.52 L2277.12 188.52 M2285.62 186.761 L2285.62 201.553 L2281.36 201.553 L2281.36 197.617 Q2279.9 199.979 2277.73 201.113 Q2275.55 202.224 2272.4 202.224 Q2268.42 202.224 2266.06 200.002 Q2263.72 197.756 2263.72 194.006 Q2263.72 189.631 2266.64 187.409 Q2269.58 185.187 2275.39 185.187 L2281.36 185.187 L2281.36 184.77 Q2281.36 181.831 2279.41 180.233 Q2277.49 178.613 2274 178.613 Q2271.78 178.613 2269.67 179.145 Q2267.56 179.678 2265.62 180.743 L2265.62 176.807 Q2267.96 175.905 2270.16 175.465 Q2272.35 175.002 2274.44 175.002 Q2280.06 175.002 2282.84 177.918 Q2285.62 180.835 2285.62 186.761 Z\" fill=\"#000000\" fill-rule=\"evenodd\" fill-opacity=\"1\" /><path clip-path=\"url(#clip780)\" d=\"M2294.39 165.534 L2298.65 165.534 L2298.65 201.553 L2294.39 201.553 L2294.39 165.534 Z\" fill=\"#000000\" fill-rule=\"evenodd\" fill-opacity=\"1\" /></svg>\n"
      ]
     },
     "execution_count": 71,
     "metadata": {},
     "output_type": "execute_result"
    }
   ],
   "source": [
    "scatter(X_test_Pr[1, y_test .== -1], X_test_Pr[2, y_test .== -1], \n",
    "            color = :indianred,\n",
    "            label = labels[l₁],\n",
    "            size = (800,300),\n",
    "            subplot = 1, layout = 2,\n",
    "            xlabel = \"true labels test data\")\n",
    "scatter!(X_test_Pr[1, y_test .== 1], X_test_Pr[2, y_test .== 1], \n",
    "            color = :steelblue,\n",
    "            label = labels[l₂],\n",
    "            size = (600,300),\n",
    "            subplot = 1, layout = 2)\n",
    "scatter!(X_test_Pr[1, ŷ_test .== -1], X_test_Pr[2, ŷ_test .== -1], \n",
    "            color = :indianred,\n",
    "            label = labels[l₁],\n",
    "            size = (800,300),\n",
    "            subplot = 2, layout = 2,\n",
    "            xlabel = \"predictions test data\")\n",
    "scatter!(X_test_Pr[1, ŷ_test .== 1], X_test_Pr[2, ŷ_test .== 1], \n",
    "            color = :steelblue,\n",
    "            label = labels[l₂],\n",
    "            size = (600,300),\n",
    "            subplot = 2, layout = 2)"
   ]
  },
  {
   "cell_type": "markdown",
   "metadata": {},
   "source": [
    "The fraction of correctly prediced data points is"
   ]
  },
  {
   "cell_type": "code",
   "execution_count": 72,
   "metadata": {},
   "outputs": [
    {
     "data": {
      "text/plain": [
       "0.1"
      ]
     },
     "execution_count": 72,
     "metadata": {},
     "output_type": "execute_result"
    }
   ],
   "source": [
    "count(y_test-ŷ_test .!= 0)/n"
   ]
  },
  {
   "cell_type": "markdown",
   "metadata": {},
   "source": [
    "# Neural Networks\n",
    "\n",
    "We will now compute a classification algorithm using a neural network.\n",
    "\n",
    "Instead of setting up the network by hand as we did in Notebook 4, we will use [Flux.jl](https://fluxml.ai).\n",
    "\n",
    "We set up a neural network with three layers.\n",
    "\n",
    "The first layer is $\\mathbb R^D\\to\\mathbb R^{N_1}$. \n",
    "\n",
    "The second layer is $\\mathbb R^{N_1}\\to\\mathbb R^{N_2}$. \n",
    "\n",
    "The third layer is $\\mathbb R^{N_2}\\to\\mathbb R^{2}$.\n",
    "\n",
    "The output in $\\mathbb R^{2}$ will be a discrete probability distribution for our two items. Therefore, we use as the activation function in the last layer the softmax function. The other activation functions are chosen to be the ReLu function."
   ]
  },
  {
   "cell_type": "code",
   "execution_count": 103,
   "metadata": {},
   "outputs": [
    {
     "data": {
      "text/plain": [
       "Chain(\n",
       "  Dense(784 => 20, relu),               \u001b[90m# 15_700 parameters\u001b[39m\n",
       "  Dense(20 => 15, relu),                \u001b[90m# 315 parameters\u001b[39m\n",
       "  Dense(15 => 2),                       \u001b[90m# 32 parameters\u001b[39m\n",
       "  NNlib.softmax,\n",
       ") \u001b[90m                  # Total: 6 arrays, \u001b[39m16_047 parameters, 63.059 KiB."
      ]
     },
     "execution_count": 103,
     "metadata": {},
     "output_type": "execute_result"
    }
   ],
   "source": [
    "N₁, N₂ = 20, 15\n",
    "\n",
    "NN = Flux.Chain(\n",
    "          Dense(28^2, N₁, relu),\n",
    "          Dense(N₁, N₂, relu),\n",
    "          Dense(N₂, 2),\n",
    "          softmax)"
   ]
  },
  {
   "cell_type": "markdown",
   "metadata": {},
   "source": [
    "We have to modify the output data accordingly."
   ]
  },
  {
   "cell_type": "code",
   "execution_count": 104,
   "metadata": {},
   "outputs": [],
   "source": [
    "y₀ = map(Y) do Yᵢ\n",
    "    if Yᵢ==l₁\n",
    "        [1;0]\n",
    "    elseif Yᵢ==l₂\n",
    "        [0;1]\n",
    "    end\n",
    "    end;"
   ]
  },
  {
   "cell_type": "markdown",
   "metadata": {},
   "source": [
    "As loss function we take the [crossentropy](https://en.wikipedia.org/wiki/Cross_entropy) function `ℓ(p,q) = -p₁ log(q₁) - p₂ log(q₂).`"
   ]
  },
  {
   "cell_type": "code",
   "execution_count": 111,
   "metadata": {},
   "outputs": [],
   "source": [
    "loss(x, y) = Flux.crossentropy(NN(x), y; dims = 2);\n",
    "# in Flux.jl the first variable is in ℝ^D"
   ]
  },
  {
   "cell_type": "markdown",
   "metadata": {},
   "source": [
    "The framework to set up a Flux.jl' model is as follows:\n",
    "\n",
    "(The code is adapted from the lecture on [Neural Nets](https://github.com/JuliaAcademy/DataScience/blob/main/10.%20Neural%20Nets.ipynb) by [Huda Nassar](https://github.com/nassarhuda).)"
   ]
  },
  {
   "cell_type": "code",
   "execution_count": 112,
   "metadata": {},
   "outputs": [],
   "source": [
    "ps = Flux.params(NN);\n",
    "dataset = [(Float32.(x),y) for (x,y) in zip(X_vec, y₀)];\n",
    "opt = ADAM();"
   ]
  },
  {
   "cell_type": "markdown",
   "metadata": {},
   "source": [
    "The model is the trained using Flux.jl's `train!` function."
   ]
  },
  {
   "cell_type": "code",
   "execution_count": 113,
   "metadata": {},
   "outputs": [],
   "source": [
    "Flux.train!(loss, ps, dataset, opt)"
   ]
  },
  {
   "cell_type": "markdown",
   "metadata": {},
   "source": [
    "Let us now see what the algorithm that we have learned predicts on randomly chosen elements from the test data set."
   ]
  },
  {
   "cell_type": "code",
   "execution_count": 114,
   "metadata": {},
   "outputs": [
    {
     "name": "stdout",
     "output_type": "stream",
     "text": [
      "With probability 9.847778e-5: Coat.\n",
      "\n",
      "With probability 0.99990153: Sandal.\n",
      "\n"
     ]
    },
    {
     "data": {
      "image/png": "[encoded data removed]",
      "text/plain": [
       "28×28 reinterpret(reshape, Gray{N0f8}, ::Array{N0f8,2}) with eltype Gray{N0f8}:\n",
       " Gray{N0f8}(0.0)    Gray{N0f8}(0.0)    …  Gray{N0f8}(0.0)\n",
       " Gray{N0f8}(0.0)    Gray{N0f8}(0.0)       Gray{N0f8}(0.0)\n",
       " Gray{N0f8}(0.0)    Gray{N0f8}(0.0)       Gray{N0f8}(0.0)\n",
       " Gray{N0f8}(0.0)    Gray{N0f8}(0.0)       Gray{N0f8}(0.0)\n",
       " Gray{N0f8}(0.0)    Gray{N0f8}(0.0)       Gray{N0f8}(0.0)\n",
       " Gray{N0f8}(0.0)    Gray{N0f8}(0.0)    …  Gray{N0f8}(0.0)\n",
       " Gray{N0f8}(0.0)    Gray{N0f8}(0.0)       Gray{N0f8}(0.0)\n",
       " Gray{N0f8}(0.0)    Gray{N0f8}(0.0)       Gray{N0f8}(0.0)\n",
       " Gray{N0f8}(0.0)    Gray{N0f8}(0.0)       Gray{N0f8}(0.0)\n",
       " Gray{N0f8}(0.0)    Gray{N0f8}(0.0)       Gray{N0f8}(0.482)\n",
       " Gray{N0f8}(0.0)    Gray{N0f8}(0.0)    …  Gray{N0f8}(0.224)\n",
       " Gray{N0f8}(0.0)    Gray{N0f8}(0.0)       Gray{N0f8}(0.188)\n",
       " Gray{N0f8}(0.004)  Gray{N0f8}(0.0)       Gray{N0f8}(0.325)\n",
       " ⋮                                     ⋱  \n",
       " Gray{N0f8}(0.0)    Gray{N0f8}(0.024)     Gray{N0f8}(0.459)\n",
       " Gray{N0f8}(0.0)    Gray{N0f8}(0.0)       Gray{N0f8}(0.047)\n",
       " Gray{N0f8}(0.0)    Gray{N0f8}(0.0)       Gray{N0f8}(0.0)\n",
       " Gray{N0f8}(0.224)  Gray{N0f8}(0.616)     Gray{N0f8}(0.008)\n",
       " Gray{N0f8}(0.561)  Gray{N0f8}(0.706)  …  Gray{N0f8}(0.0)\n",
       " Gray{N0f8}(0.067)  Gray{N0f8}(0.545)     Gray{N0f8}(0.0)\n",
       " Gray{N0f8}(0.0)    Gray{N0f8}(0.0)       Gray{N0f8}(0.0)\n",
       " Gray{N0f8}(0.0)    Gray{N0f8}(0.0)       Gray{N0f8}(0.0)\n",
       " Gray{N0f8}(0.0)    Gray{N0f8}(0.0)       Gray{N0f8}(0.0)\n",
       " Gray{N0f8}(0.0)    Gray{N0f8}(0.0)    …  Gray{N0f8}(0.0)\n",
       " Gray{N0f8}(0.0)    Gray{N0f8}(0.0)       Gray{N0f8}(0.0)\n",
       " Gray{N0f8}(0.0)    Gray{N0f8}(0.0)       Gray{N0f8}(0.0)"
      ]
     },
     "execution_count": 114,
     "metadata": {},
     "output_type": "execute_result"
    }
   ],
   "source": [
    "ℓ = rand(1:n)\n",
    "p = NN(X_test_vec[ℓ])\n",
    "println(\"With probability $(p[1]): Coat.\\n\")\n",
    "println(\"With probability $(p[2]): Sandal.\\n\")\n",
    "FashionMNIST.convert2image(X_test[:,:,ℓ])"
   ]
  }
 ],
 "metadata": {
  "@webio": {
   "lastCommId": null,
   "lastKernelId": null
  },
  "kernelspec": {
   "display_name": "Julia 1.7.2",
   "language": "julia",
   "name": "julia-1.7"
  },
  "language_info": {
   "file_extension": ".jl",
   "mimetype": "application/julia",
   "name": "julia",
   "version": "1.7.2"
  }
 },
 "nbformat": 4,
 "nbformat_minor": 2
}
