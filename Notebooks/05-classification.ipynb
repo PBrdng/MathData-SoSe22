{
 "cells": [
  {
   "cell_type": "code",
   "execution_count": null,
   "metadata": {},
   "outputs": [],
   "source": [
    "using Pkg\n",
    "Pkg.activate(\"NB05\")"
   ]
  },
  {
   "cell_type": "code",
   "execution_count": 2,
   "metadata": {},
   "outputs": [],
   "source": [
    "using MLDatasets\n",
    "using Plots, LinearAlgebra, Statistics\n",
    "using Images, ImageCore\n",
    "using JuMP, NLopt, Flux "
   ]
  },
  {
   "cell_type": "markdown",
   "metadata": {},
   "source": [
    "*Warning:* For this notebook I had to pin `CSV.jl` to version 0.8.5, because otherwise `MLDatasets` would not compile. This restricts `MLDatasets` to version 0.5. The latest version has a different syntax than the one used here."
   ]
  },
  {
   "cell_type": "markdown",
   "metadata": {},
   "source": [
    "# Classification\n",
    "\n",
    "We consider the [FashionMNIST](https://github.com/zalandoresearch/fashion-mnist) dataset from [Zalando Research](https://github.com/zalandoresearch).\n",
    "\n",
    "It contains images of Fashion items from 9 categories.\n",
    "\n",
    "In Julia this dataset can be loaded through the [MLDatasets](https://github.com/JuliaML/MLDatasets.jl) package."
   ]
  },
  {
   "cell_type": "code",
   "execution_count": 61,
   "metadata": {},
   "outputs": [],
   "source": [
    "X_all, Y_all = FashionMNIST.traindata();"
   ]
  },
  {
   "cell_type": "markdown",
   "metadata": {},
   "source": [
    "Now, `X_all` contains the input data and `Y_all` the output data of the training data in the `FashionMNIST` dataset.\n",
    "\n",
    "The entries of `Y_all` correspond to the following categories:"
   ]
  },
  {
   "cell_type": "code",
   "execution_count": 62,
   "metadata": {},
   "outputs": [],
   "source": [
    "labels = [\"T-shirt/top\", \n",
    "            \"Trouser\", \n",
    "            \"Pullover\", \n",
    "            \"Dress\", \n",
    "            \"Coat\", \n",
    "            \"Sandal\", \n",
    "            \"Shirt\", \n",
    "            \"Sneaker\", \n",
    "            \"Bag\", \n",
    "            \"Ankle boot\"];"
   ]
  },
  {
   "cell_type": "markdown",
   "metadata": {},
   "source": [
    "Since `Julia` indexing starts at `1` and `Y_all` contains values between `0` and `9`, it will be convenient to add 1 to all values `Y_all`.  "
   ]
  },
  {
   "cell_type": "code",
   "execution_count": 63,
   "metadata": {},
   "outputs": [],
   "source": [
    "Y_all = Y_all .+ 1;"
   ]
  },
  {
   "cell_type": "markdown",
   "metadata": {},
   "source": [
    "Let us take a look at 6 randomly chosen images along with their labels."
   ]
  },
  {
   "cell_type": "code",
   "execution_count": 64,
   "metadata": {
    "scrolled": true
   },
   "outputs": [
    {
     "name": "stdout",
     "output_type": "stream",
     "text": [
      "[\"Ankle boot\", \"T-shirt/top\", \"Sandal\", \"Ankle boot\", \"Sneaker\", \"T-shirt/top\"]\n"
     ]
    },
    {
     "data": {
      "text/html": [
       "<table><tbody><tr><td style='text-align:center;vertical-align:middle; margin: 0.5em;border:1px #90999f solid;border-collapse:collapse'><img style='max-width: 100px; max-height:100px;display:inline' src=\"data:image/png;base64,iVBORw0KGgoAAAANSUhEUgAAAHAAAABwCAAAAADji6uXAAAABGdBTUEAALGPC/xhBQAAAAFzUkdCAK7OHOkAAAAgY0hSTQAAeiYAAICEAAD6AAAAgOgAAHUwAADqYAAAOpgAABdwnLpRPAAAA0pJREFUaAW9wc9rl3UcAPDX833e3323ta2JDiI1I0EyBQ91KNIIiuhSCNGhIDp4LoouHTrVob+igx69CkHXQIIolFYgBBb9MBsVzs1t3x/P8zT4BEsLFMr36xWShWQhWUgWkoVkIVlIFpKFZCFZSBaShWQhWUgW7qIKnZuFZCFZSBb+Bx/gNbyBc3Z0igqdIiQLyUKy8B+9heexhdNosYwrOINP0NkRkoVkIVm4Q5WiQw+t4iQajLCBXXgCDV7Cp3gTlxQhWUgWkoU7UCk6Ras4g0VsYApz2MAENYZ4Fp9hlyIkC8lCsnAblaJT9NDidTyHs3gRDbbQxzQq9LCGL+wIyUKykCzcoQodWsUJ/IhHMVRsoocGPXSosWhHSBaShWThNjr/9ApexSUcwRo2cBWzmFb8gT04iEVcQ0gWkoVk4RY1GlSKCi0CE7yLt3EBS5jHN7iMx/E9GtyLFj9jiFCEZCFZSBZu0aBGiw4d+hgrTuErHMIP+BKP4CnFw1jFDVQYYA+mFSFZSBaShX/RokaHBmMcw3tYwSbO4mUMcAV78TWGCMygwyx+xf34CSFZSBaShb/0UKFFh4kdR/AhHsQqDuEAAj1cwCI6zGMXanQYoYfD+BwhWUgWkoVtFVo324ujOI53cBEXcRQr+BYnMcDTGGAOU6gxRKBCheM4jZAsJAvJwrYOcziIK3gBH+EXNDiPJXyHExhiFqsYYRHXsIUBOkwwQB8tDipCspAsJAvbTuE4PsYxPIb3cR77cR/2YYzfMMJD+B0tNrEbs2jQQ6vYwhALipAsJAvJwraTeAAthpjBORzAMezHPJ7EFGYRqBTr2MIaajToI9Bggk4RkoVkIVksYBnzOIEZjPEMavSxiQY9TFBjE1uKGjUGaBUjxQhjDDGNkCwkC8liH67jLJawhFnMYgELmMI81nEd62gxxAbGGGMdN9CgRot7sIYOhxGShWQhWVxCjaNYxwpajDBGjQ4DTCkmaNCiQh81WvTQQ40RVjDBHqwiJAvJQrJosYxl1JjDDHZjDn1MMIUBAkNM0KFSdKgwQI0t9DBGhYu4jJAsJAvJwt80WMUqrro7QrKQLCQLyUKykCwkC8lCspAsJAvJQrKQLCT7E1YtzDtW/AzaAAAAAElFTkSuQmCC\"></td><td style='text-align:center;vertical-align:middle; margin: 0.5em;border:1px #90999f solid;border-collapse:collapse'><img style='max-width: 100px; max-height:100px;display:inline' src=\"data:image/png;base64,iVBORw0KGgoAAAANSUhEUgAAAHAAAABwCAAAAADji6uXAAAABGdBTUEAALGPC/xhBQAAAAFzUkdCAK7OHOkAAAAgY0hSTQAAeiYAAICEAAD6AAAAgOgAAHUwAADqYAAAOpgAABdwnLpRPAAAA6JJREFUaAW9wb2LZeUdAODnfc/v3pmJu/gRFUJiKdrkL0gXECy2SpFCQiCFjYWg/gNpIqQQRbBRSLFFCCkkVaLYWaZIUtkEIQkILn6MwzrrzL3nnDfFW5y59+6O3e95wve4jQm/cb3f4Wn80vVCspAsJAsP8Dxex6MIfIo/4UN8rLuFZ/BrPIYL/B2v4y/uLyQLyUKycEVBw3N4D3dxigE38RJ+gf9ijadxhHN8rat4E0/iXYdCspAsJAtXNN3v8TUmnKDiDHexwrOYcIqKpgvMuINXcRsXdoVkIVlIFva8gcdwBzfQ0HCCEQ2nWCEw6womrHEPA/6AF+wKyUKykCxcscbPcYY1Zl3DSjfjCCe4iwkVFRscI/AVforH8aVFSBaShWThinfwE3yKNSYcYcKEii2OcIERIyoewgW2OMIGj+NtvGARkoVkIVm44kV8hN/q7uEEIyYMqBgxougCTVdxjM/wFv5oV0gWkoVkYc+fcYYP8E80DLiHh3EPgRUudQUjApf4EX6FU4dCspAsJAv38SGewse4xAojCmYUzBiwQbW4iQ9wqitoFiFZSBaShQe4hRs4xxoNIwbdjDUuUDBhxoB/WzS7QrKQLCQLV1TMqHgNdxFoaJjtGlB0Myq+wCt4H58gMFqEZCFZSBbuY8bfcAsTKgZsMWDAJSoqjvAdClZ4BZ/oJrtCspAsJAt7Bkx4GT/DQ7qKGYNuwAYVDRs8jP/htq6g2RWShWQhWbii2TVazJixxqyr2CAwoOEZi4JmV0gWkoVk4YqGYlExo2BAQ7NY4VsMuob/WDSHQrKQLCQLe5pFQdOtsMWIQNMVTBbFoqDZFZKFZCFZ2FPQdEXXUHUNFU23whYFDYPrhWQhWUgW9jSLomsYdA0NA0YMmCzCojgUkoVkIVnYU9B0AyZUVBRMmBGYdAUNBcX1QrKQLCQL16iY0RDYYI2KLVaYUHRFV9DQHArJQrKQLFwjsMGENUacYMA5jlEwYtINqJhQHArJQrKQLOwpFhUNMwYUXUNBRWBE01WsMKE4FJKFZCFZuMaEARNGVIRuwCWOcYk1ZlRUDxaShWQhWfgegQ0ucIKKGQNG3EBDQ0NB9WAhWUgWkoU9zeIMj2CFC2xwiQEDtjhHwRYrbLHVNYdCspAsJAt7msV3eBZn+CG2GHGMERXf4FHcwRE+x6VudigkC8lCsrCnWfwV/8Bn+DGOsMVN/AtP4AcY8DnOUS2aQyFZSBaS/R+aO+vzFt76JwAAAABJRU5ErkJg\"></td><td style='text-align:center;vertical-align:middle; margin: 0.5em;border:1px #90999f solid;border-collapse:collapse'><img style='max-width: 100px; max-height:100px;display:inline' src=\"data:image/png;base64,iVBORw0KGgoAAAANSUhEUgAAAHAAAABwCAAAAADji6uXAAAABGdBTUEAALGPC/xhBQAAAAFzUkdCAK7OHOkAAAAgY0hSTQAAeiYAAICEAAD6AAAAgOgAAHUwAADqYAAAOpgAABdwnLpRPAAAAmRJREFUaAW9wTuolgUABuDn//7Xc7BQ7GIIkdhgEBEFItVQOkRbdNmjKSgagyiopaEhKqHFpWg0cHQLWnKopeWADS5WSsQxu9hFj+e/FHyDlUpF9D5PlEVZlEVZlEVZlEVZlEVZlEVZlEVZlEVZlEVZlEVZlEVZlEVZlEVZlEVZlEVZlEVZ/AsDFkYHsQsfuGzAAhMsXV2URVmUxT+0ig2jp/A07sEvOGa0xIABM6xiwCZmRlEWZVEWf2PAAhtGH2GCb3EAx3AfXsESSyyMNlwpyqIsyuIvBiwQBBeNDuAQXsKHOIFH8B2exA84jb14B+fxPvbjYXxjFGVRFmVxFQNmmGEX3sIZPISfjZ7Ae5jiJzxrNOBVfIzbsQ1reB5HEWVRFmXxBxMsjB7HCm7G6zhhNMUcJ/EgHsARrCO4Duu4F2fxK27B3TiKKIuyKMsUE8yxNDqMFbyMdaOt2MTMaIIlPsEerOIc1nEGL+IFPIZn8K5RlEVZlGVuFMywGwdxp9EUU1zAgAFLLP3Z21jBNnyG4zjuSlEWZVGWndiCr42+wiGXzTE3Wri20ziJATcarWCO7VjBWURZlEVZnsOjuIDvcQnBTdiJH7GBDUwwxQ7cgFuxG9uxFQMu4Dacwh58gTm2401EWZRFWV7DG7gDd2EfBuzDDkyxBZcwQbCJiziHz3EaJ7GGw9iL8/gSc2xiAycQZVEWZfG7i1jDGo74b/bjfpzFHJcww/U4hSiLsiiL/8Gnri3KoizKoizKoizKoizKoizKoizKoizKoizKoizKoizKoizKoizKoizKoizKoizKfgOxeHpMsBUE0QAAAABJRU5ErkJg\"></td><td style='text-align:center;vertical-align:middle; margin: 0.5em;border:1px #90999f solid;border-collapse:collapse'><img style='max-width: 100px; max-height:100px;display:inline' src=\"data:image/png;base64,iVBORw0KGgoAAAANSUhEUgAAAHAAAABwCAAAAADji6uXAAAABGdBTUEAALGPC/xhBQAAAAFzUkdCAK7OHOkAAAAgY0hSTQAAeiYAAICEAAD6AAAAgOgAAHUwAADqYAAAOpgAABdwnLpRPAAAAxtJREFUaAW9wcuLVQUcB/DPufc7c68142OUaDLJoAcZboxwEbRp0UqJXhtXRvQHRLVpIe2iVdvQTft2tcmIWopRVgQ9IQxSnMlwfDDOzLn3JJxAtKB08ft8olgUi2JRLIpFsSgWxaJYFItiUSyKRbEoFsWiWBSLYlEsikWxKBbF4jY16PQ+xRzO4TX85EYNOr0oFsWiWNyGAWawhmewCS124UecxVt4T69zXRSLYlEsbsMU63pHcArL2I+T2IK38Qa+wLs4oRfFolgUi1vUoEOHl3ABs9iDeTS4gNPYhSfxFI7jEKJYFIticQsadHoP4whW8Dme1ltHgwk6LGOA/XgFUSyKRbH4HwZ6U703cRg/4xccwBWMMUKHzVjDAtbRYQ+iWBSLYvEfgtZ1z+FZnMYQj+hNcQmzGGMBQwzRYYSTiGJRLIrFTRo0GKBFqzeHj7EF57GKgd4mLOIKJmjRYoQVzOIhfIYoFsWiWFwz1JugQ4ep647iCZzHEi5hEVOsYglnsYgtaLCOEeawhg5LiGJRLIrFNRM3ug/78DxewLdYwirGuAsrmGAO8wgarGGIrbiCPzFCgy2IYlEsisU1e3EQj2EHFjGHDfyAPzCLnTiHZYwxwgSbMIsWLVp8jwbbMKN3L6JYFItieRWv4xKCCa5iBROsYysu4gxmMMAEDYLLGGCCq2gwwf0YYRXnMY8oFsWiWHbjLMa4iDV0uIAhZrCOEabYwBADvQ4DjDFFiyl2IpjFBNsRRLEoFsXyCVaxDQ9iAZswj8sYokOLGXS4Aw0GaDDEBtYwxgbO46ze7ziFdUSxKBbF8iEeRYsTGGIRC9iMKU5gFQ2uYIIWLSZoMUaDVu8SpmhxD17EIUSxKBbF4pq38TIexwbW8Q1W0GINM5jHdszjTowxxFb8hllM0WEvBrgbO7CII4hiUSyKxd+O4Rj2YYqDmMcqDuAkHsAHWMB3mOAMduM4ZtBggMMY4X0sYRm/IopFsSgWN/lK72vXHXWjj9zoS//0jn8XxaJYFItiUSyKRbEoFsWiWBSLYlEsikWxKBbFolgU+wt6LboM+s0rxwAAAABJRU5ErkJg\"></td><td style='text-align:center;vertical-align:middle; margin: 0.5em;border:1px #90999f solid;border-collapse:collapse'><img style='max-width: 100px; max-height:100px;display:inline' src=\"data:image/png;base64,iVBORw0KGgoAAAANSUhEUgAAAHAAAABwCAAAAADji6uXAAAABGdBTUEAALGPC/xhBQAAAAFzUkdCAK7OHOkAAAAgY0hSTQAAeiYAAICEAAD6AAAAgOgAAHUwAADqYAAAOpgAABdwnLpRPAAAAppJREFUaAW9wb9rXQUcB9Dz4icveabJSynVpYIaEaQWf1RxE5cOoqOTgw5OroIIOrh07uJcEETo1C66+BeI1BacWwgIxlLa1KTJMy/v3mvhCjHQGl2+50SxKBbFolgUi2JRLIpFsSgWxaJYFItiUSyKRbEoFsWiWBSLYlEsikWxKBbFolgUi2JRLIrFEQboHDbCxNHmMUKDHb0oFsWiWByhc2AOLSZ6J3Hbww2wj329ATpEsSgWxeI/mkOr9yKuI1jAVC+YYYgplvEpzmOqF8WiWBSLRxhggFav1fsG72EHDfZwFtcw05vqfYc38S5e1YtiUSyKZYA5vTnM0KFD58CH+Bpb2MA2gm38jO9xEVexivN4Gj/iFXyCC4hiUSyKpUOj1zjsDN7HZ5jgdzQIljFAg5t4G+847Fc8hT/xMS4gikWxKBZ/W8PLOIM1nMOTuI/fsIMFLGOAYIYWHTYwxaJehwU0mOI5rCKKRbEoFg+sY4g7WMFd3MBPOIk/8CyWsYElLGGGFgsYY4YZOkww1NvXewNRLIpFsXyEVdxAhxlmWMRxjPAMrmGIE5iixQJazHAPQzSYx3EMMcSe3kuIYlEsimUHOziFPbRocQID7GKMsxhghF3sYQO3MMFjesfQYR7LeusY43lEsSgWxXIJU3yBBktocRe7aDHCWG8f8xhjDafRYYJNbOI+5rCJ4BRewxVEsSgWxeKBy7iMNXyA13EaI4yxj3vYxgqu4hdcx22s4C2cwwtYRIOgxR18i68QxaJYFIt/uIkvHVjBMb0BbmHm4X7A53gcT2ALU0zQOBDFolgUi3+xhS3/zy7WPVoUi2JRLIpFsSgWxaJYFItiUSyKRbEoFsWiWBSLYlEsikWxKBbFolgUi2JR7C/OnpVJcGN2hgAAAABJRU5ErkJg\"></td><td style='text-align:center;vertical-align:middle; margin: 0.5em;border:1px #90999f solid;border-collapse:collapse'><img style='max-width: 100px; max-height:100px;display:inline' src=\"data:image/png;base64,iVBORw0KGgoAAAANSUhEUgAAAHAAAABwCAAAAADji6uXAAAABGdBTUEAALGPC/xhBQAAAAFzUkdCAK7OHOkAAAAgY0hSTQAAeiYAAICEAAD6AAAAgOgAAHUwAADqYAAAOpgAABdwnLpRPAAAA4NJREFUaAW9wb+rnuUZAODrec/95RxDj/WYEygW2jGL9KTVOjiE4NJ/QUiXlnbsZqGTII5iUaG72IKDS+LWbC7OaimlBKQQByGEJC0x3/l+vHeH58Cb7/xyu68rfI/X8XvcwgfO9lv8Af/ELXzidKFYKBaKhVO8jL/gFZPX8L7JZ2i4ZtNV3ND9Hb/DNyahWCgWioVjbuAjDHiCQwxYYBfbOMQtHOAa1niIbaywhW38Cv/GVdzRhWKhWCgWjnkPcyxwARd1M8zxP+zjz7o5vsM2ZiZLPMYP8Tku60KxUCwUC0/5FPv4Ly6gYYmGxJbuARa6bcx0KzSkbsAjXMKv8TeEYqFYKBaOPIdrmKMhMSIRaBgRSISuIdFM1hh0iYYXdaFYKBaKhSMP8S7exA7uYweJ1KVJ0yUSqUsMOETiMv6KP+lCsVAsFAtPeRs38RUu4REGLDDY1JBIJAYMGJF4HgN+gw9NQrFQLBQLx/wDDe/gDdxDYoZ0UtM9xgwjdjHgJ7hrUygWioVi4UhDYgtr/BFvYAf3sOd0qVtjjRX28THuoiFNQrFQLBQLRxrSpu8ww47zNTyLBRa6m7oBa5NQLBQLxcKRRMNocgc/w46uOV1ihW0Mui91iYbUhWKhWCgWjqSTvsABVriIpa4hTRoa1mi6uUmahGKhWCgWTtGQeKALjM43YI217lCXNoVioVgoFk4xYI1RN8eusyUSgaVuD9+iIU1CsVAsFAunGHV7uhHN2RpW2EFigSv4FwaMJqFYKBaKhVOk7gpG7GD0/RpmGHCAm0ibQrFQLBQLxzSk7pd4gotYOlvq1hiQuI63sLYpFAvFQrFwTEPqZjjEyvma7hBbupdMGlIXioVioVg4ZsCIV/EEazSkSTqpYYYV5tjFBSxsCsVCsVAsnOHneAZzXMDCJNFsSqzQcIhncB23MWCtC8VCsVAsHLPS/UI3YokB6XwNAxYIXMVtDFjrQrFQLBQLZ3gJS6yxhaZL50sMWOJAtzQJxUKxUCwcabrU/QgrhEnTNYxOarrU/dRJoVgoFoqFpzSk7j5+gAGBEWnSbEokGrawwhUnhWKhWCgWzvAcFljiEImGAc1JiURiwBz3TAaMCMVCsVAsnOEFJBKDTYnRpGEwWWKGPZPUhWKhWCgWjiTSpOF1vIDAPnbxY+zrGhoa7uMxHuEhvsZ/TFIXioViodj/AQ3e3g0BbquRAAAAAElFTkSuQmCC\"></td></tr></tbody></table><div><small>(a vector displayed as a row to save space)</small></div>"
      ],
      "text/plain": [
       "6-element Vector{Base.ReinterpretArray{Gray{N0f8}, 2, N0f8, Matrix{N0f8}, true}}:\n",
       " [Gray{N0f8}(0.0) Gray{N0f8}(0.0) … Gray{N0f8}(0.0) Gray{N0f8}(0.0); Gray{N0f8}(0.0) Gray{N0f8}(0.0) … Gray{N0f8}(0.0) Gray{N0f8}(0.0); … ; Gray{N0f8}(0.0) Gray{N0f8}(0.0) … Gray{N0f8}(0.0) Gray{N0f8}(0.0); Gray{N0f8}(0.0) Gray{N0f8}(0.0) … Gray{N0f8}(0.0) Gray{N0f8}(0.0)]\n",
       " [Gray{N0f8}(0.0) Gray{N0f8}(0.0) … Gray{N0f8}(0.0) Gray{N0f8}(0.0); Gray{N0f8}(0.0) Gray{N0f8}(0.0) … Gray{N0f8}(0.0) Gray{N0f8}(0.0); … ; Gray{N0f8}(0.0) Gray{N0f8}(0.0) … Gray{N0f8}(0.0) Gray{N0f8}(0.0); Gray{N0f8}(0.0) Gray{N0f8}(0.0) … Gray{N0f8}(0.0) Gray{N0f8}(0.0)]\n",
       " [Gray{N0f8}(0.0) Gray{N0f8}(0.0) … Gray{N0f8}(0.0) Gray{N0f8}(0.0); Gray{N0f8}(0.0) Gray{N0f8}(0.0) … Gray{N0f8}(0.0) Gray{N0f8}(0.0); … ; Gray{N0f8}(0.0) Gray{N0f8}(0.0) … Gray{N0f8}(0.0) Gray{N0f8}(0.0); Gray{N0f8}(0.0) Gray{N0f8}(0.0) … Gray{N0f8}(0.0) Gray{N0f8}(0.0)]\n",
       " [Gray{N0f8}(0.0) Gray{N0f8}(0.0) … Gray{N0f8}(0.0) Gray{N0f8}(0.0); Gray{N0f8}(0.0) Gray{N0f8}(0.0) … Gray{N0f8}(0.0) Gray{N0f8}(0.0); … ; Gray{N0f8}(0.0) Gray{N0f8}(0.0) … Gray{N0f8}(0.0) Gray{N0f8}(0.0); Gray{N0f8}(0.0) Gray{N0f8}(0.0) … Gray{N0f8}(0.0) Gray{N0f8}(0.0)]\n",
       " [Gray{N0f8}(0.0) Gray{N0f8}(0.0) … Gray{N0f8}(0.0) Gray{N0f8}(0.0); Gray{N0f8}(0.0) Gray{N0f8}(0.0) … Gray{N0f8}(0.0) Gray{N0f8}(0.0); … ; Gray{N0f8}(0.0) Gray{N0f8}(0.0) … Gray{N0f8}(0.0) Gray{N0f8}(0.0); Gray{N0f8}(0.0) Gray{N0f8}(0.0) … Gray{N0f8}(0.0) Gray{N0f8}(0.0)]\n",
       " [Gray{N0f8}(0.0) Gray{N0f8}(0.0) … Gray{N0f8}(0.0) Gray{N0f8}(0.0); Gray{N0f8}(0.0) Gray{N0f8}(0.0) … Gray{N0f8}(0.0) Gray{N0f8}(0.0); … ; Gray{N0f8}(0.0) Gray{N0f8}(0.0) … Gray{N0f8}(0.004) Gray{N0f8}(0.0); Gray{N0f8}(0.0) Gray{N0f8}(0.0) … Gray{N0f8}(0.0) Gray{N0f8}(0.0)]"
      ]
     },
     "execution_count": 64,
     "metadata": {},
     "output_type": "execute_result"
    }
   ],
   "source": [
    "k = rand(1:60000, 6)\n",
    "println([\"$(labels[Y_all[i]])\" for i in k])\n",
    "[FashionMNIST.convert2image(X_all[:,:,i]) for i in k]"
   ]
  },
  {
   "cell_type": "markdown",
   "metadata": {},
   "source": [
    "## Choosing two categories\n",
    "\n",
    "To illustrate how the classification methods from the lecture work we consider only two items, namely Coats and Sandals. The goal is to learn an algorithm that can distinguish pictures from these two categories.\n",
    "\n",
    "First, we compute the locations of Coats and Sandals in the data."
   ]
  },
  {
   "cell_type": "code",
   "execution_count": 65,
   "metadata": {},
   "outputs": [
    {
     "data": {
      "text/plain": [
       "12000"
      ]
     },
     "execution_count": 65,
     "metadata": {},
     "output_type": "execute_result"
    }
   ],
   "source": [
    "l₁ = findfirst(labels .== \"Coat\")\n",
    "l₂ = findfirst(labels .== \"Sandal\")\n",
    "l = findall(y -> y == l₁ || y == l₂, Y_all);\n",
    "length(l)"
   ]
  },
  {
   "cell_type": "markdown",
   "metadata": {},
   "source": [
    "I.e., there are 12000 items in the data, which are either Coats or Sandals.\n",
    "\n",
    "For training let us consider a subsample of size $n=50$. \n",
    "\n",
    "Since the goal of this notebook is to illustrate how classification works, we will not stick to the algorithm for approaching machine learning problems. We will simply take the first $n$ items in the data set (instead of choosing them randomly). We also take another $n$ items for testing. "
   ]
  },
  {
   "cell_type": "code",
   "execution_count": 66,
   "metadata": {},
   "outputs": [
    {
     "data": {
      "text/plain": [
       "50"
      ]
     },
     "execution_count": 66,
     "metadata": {},
     "output_type": "execute_result"
    }
   ],
   "source": [
    "n = 50"
   ]
  },
  {
   "cell_type": "markdown",
   "metadata": {},
   "source": [
    "Now, we split the data into the training and test data"
   ]
  },
  {
   "cell_type": "code",
   "execution_count": 67,
   "metadata": {},
   "outputs": [],
   "source": [
    "train_indices = l[1:n];\n",
    "test_indices = l[n+1:2*n];\n",
    "\n",
    "X_test = X_all[:, :, test_indices]\n",
    "Y_test = Y_all[test_indices];\n",
    "\n",
    "X = X_all[:, :, train_indices]\n",
    "Y = Y_all[train_indices];"
   ]
  },
  {
   "cell_type": "markdown",
   "metadata": {},
   "source": [
    "Let us look at a subsample of the training data:"
   ]
  },
  {
   "cell_type": "code",
   "execution_count": 68,
   "metadata": {},
   "outputs": [
    {
     "name": "stdout",
     "output_type": "stream",
     "text": [
      "[\"Coat\", \"Coat\", \"Sandal\", \"Sandal\", \"Coat\", \"Sandal\"]\n"
     ]
    },
    {
     "data": {
      "text/html": [
       "<table><tbody><tr><td style='text-align:center;vertical-align:middle; margin: 0.5em;border:1px #90999f solid;border-collapse:collapse'><img style='max-width: 100px; max-height:100px;display:inline' src=\"data:image/png;base64,iVBORw0KGgoAAAANSUhEUgAAAHAAAABwCAAAAADji6uXAAAABGdBTUEAALGPC/xhBQAAAAFzUkdCAK7OHOkAAAAgY0hSTQAAeiYAAICEAAD6AAAAgOgAAHUwAADqYAAAOpgAABdwnLpRPAAAA+1JREFUaAW9wUuIXYUZAODv3vnn/YgzMY0h4yRjbKVWY2KRChUXGlBB6cJlKbjP0o1INyl0U1rqwkKrBE2EiuIqiNAHQjelLtQYghiihpBH81KTed3J3HvP6eIsgvecKVn93xdu0wN4CYuYQA/bcBZ/wDG3JyQLyUKy8H+0Uai8iGcxhh6G0UHgtzimMoyuzYVkIVlIFjbRRuGWsziMy3gaZ7CK8ygwgyV00UKpWUgWkoVkocEQ+iov4EFcxxmsYRn/xVVM4Bp+j4s4gjNoo1AXkoVkIVlo0Ff5K75GgW3YirO4iX34O6YwjTZ6OIRD+EqzkCwkC8nCJv6EZ/Eb3MQdmMccVlAiMI1rOInP8TxexTOahWQhWUgWNvEkVhC4iVWcxhR66GAMqygQ2IUpPGRzIVlIFpKFBrPYjuv4Dh1sxwRGsYxZbGAFy7iIRUxjGvtwXF1IFpKFZKHBTzCJZWzBKsawjktYxHV8g53YilUsYhgjWMBxdSFZSBaShQZzaGMcu3EBNzCDAgvoYkJlAyUmMIQS+3FMXUgWkoVkocE8SoxiDz7ANhToYQqXUKDACIaxB4EensIhdSFZSBaShQbzKDGMVQQK3IEOSrTQxjrWMYM2SvTxY81CspAsJAsN9qKPUbyDAj/CBaxhBbPoYy/G8AlewasYw7pmIVlIFpKFBvehRAvncBD34DG8pnINd+KH+A9+hf04ghKTmMd53xeShWQhWWiwgAJX8TOcxGH8GlvQw6jKZbyHOfwc/8IB9PAEjvq+kCwkC8lCgyWMYBI7cQVvYAl9TGINN3EP3sbrWMCKyhD2qAvJQrKQLAyYxAS6GMJl/BIfYCva6GIM4ziLj3AQL2M3CpW71IVkIVlIFgbMoo1AgfO4G//GJNbQRgclAkvYgQVcwINoYVRdSBaShWRhwBaUGMI5XMPH+AUuoYNxLKOLHbgXf8M/8VP0ESjVhWQhWUgWBkyjhRY6KkcxgeexAz1M405cxR8xgmGcwAG00VUXkoVkIVloUKJADwdwP1bwAP6BZYxjHffhcSziIlpYwxhKdSFZSBaShQFdlGjhBqZwHht4H0sqJS7gUwzjC4zjFB7FVmyoC8lCspAsDNhAC0N4C1fwHApcwTwCw9iC0+hgO77E73AQLfTUhWQhWUgWBnRVSryJEufwMB7CDOYwgx9gG07hXXyoUqq01YVkIVlIFgb0MYQeZvEtTuCE23cFuzCiLiQLyUKyMOAMOriBb1WG0EYPpbpAH6XKZ3gEc+pCspAsJAsDehjHd24p0FdpoeWWEj2VNgqsqoyrC8lCspAsNHgLq5qVKDUrVf6CHfizupAsJAvJ/gcjJ/WwALFNEAAAAABJRU5ErkJg\"></td><td style='text-align:center;vertical-align:middle; margin: 0.5em;border:1px #90999f solid;border-collapse:collapse'><img style='max-width: 100px; max-height:100px;display:inline' src=\"data:image/png;base64,iVBORw0KGgoAAAANSUhEUgAAAHAAAABwCAAAAADji6uXAAAABGdBTUEAALGPC/xhBQAAAAFzUkdCAK7OHOkAAAAgY0hSTQAAeiYAAICEAAD6AAAAgOgAAHUwAADqYAAAOpgAABdwnLpRPAAABDVJREFUaAW9wb2LZWcdAODnPfd3Z+69M+vOziSowSVoZPMhCYKQFGn8qFIGBbW2Mo1/gElrZ2tvYyFIwEqwyLIgIojYaWFIcOK6K7o7OzM7c+fec85rcYpz76Apf88T/o+CioKK1/FTozUmWOFZPMR3cIZiWzUKyUKykCz8DwXVoBp8z2Afx3gdD3AbxzjF13AXBRUVDapRSBaShWThmoKKBhXVoMPPcYYVXsRPsIuCfbyAu+hRUFBtC8lCspAsbCioBr3BHfwAB7iB23iIf+AWZtjFAvt4B7/AiUGDahSShWQhWdjQoKLHa3gLn8UnuMQED/AUr2AXK1xhhVM8i3fxa9xDtS0kC8lCsrChR8Wb+CH+hPs4RYdq0OEcLTpMcYEZHuMM38cufmtbSBaShWRhQ8UO3sbf8BS7WGCNalDQGlQUzDDFGg3+irfwO1wYhWQhWUgWrnkeuyj4CHOsELhCgx69QUXFKVrM0KNihTfwgVFIFpKFZOGaL+MUR2jQoqDY1hhUVMzRo2CCC9xHZ1tIFpKFZOGa53GGPRR0RtWgR4+Cih4NJghcYYqXsY97RiFZSBaShWtu4jGOsIMOO+hQUVHRoqBHRYceLS7wDXwFX7AtJAvJQrKwoUEYtCjo0GFiUNCjN6goCKxQ0aDH33FpW0gWkoVkYcMBCnoc4WPs48qgoKJHY1DRokGgojO4wtS2kCwkC8nChgUm6LGHS7TYRUVvUA0agwZrTNGhN6h4jFt4bBCShWQhWdgwwRme4hJ7WGKNBj0aVBSjgg4rgxlW+DqO8RJ+bxCShWQhWdgwxxGWOMQSO5igRxhM0KAYVEzQYI0G9/BPvIaHRiFZSBaShQ2v4kf4CEf4JR5hhjUmBid4hP/gEebosYMlDvFVPMQn6I1CspAsJAsbWpzjAeb4Mf6IHi0aFJzjJr6NK+ygwwxLPIc7eIQ7+AAfG4RkIVlIFjYssMYFWhzgFdxEb9BgjYIXscIULRq0mOBDXGIH1SgkC8lCsrBhgRYLzHGCJ1hijUCPHgfocIYZWvTosYc9PMEO5kYhWUgWkoUNN9BjiRXWaFAxQ8UUV+hQ0KBgjiUadAg0aHHDKCQLyUKysGGGFoEFLlENKjpM0KCgwwQdpihYoUNFwRLPGIVkIVlIFjYcouIcBfs4xgwNKq4QaNBighZLTNCgYheBNQ6NQrKQLCQLG57BEl/EDCf4DHZxjh0UVDQGPaZYoWCOFp/DE5zhwCgkC8lCsrDhGN/Fn3GIn+FbuI85VqioKEYNZlijQ4t/4Tmc4LZRSBaShWRhw3t4z2iOqcE5ChZYokePihXWKHgJf8GX8DZexodGIVlIFpKFT/EO7uJNrHCCMzxBILBA4PO4hX/jXYP38b5tIVlIFpKFT3GJN3CAb+JVvIBDLAyWOMev8Bv8waigQY9qEJKFZCHZfwFLhjB8QdUu2AAAAABJRU5ErkJg\"></td><td style='text-align:center;vertical-align:middle; margin: 0.5em;border:1px #90999f solid;border-collapse:collapse'><img style='max-width: 100px; max-height:100px;display:inline' src=\"data:image/png;base64,iVBORw0KGgoAAAANSUhEUgAAAHAAAABwCAAAAADji6uXAAAABGdBTUEAALGPC/xhBQAAAAFzUkdCAK7OHOkAAAAgY0hSTQAAeiYAAICEAAD6AAAAgOgAAHUwAADqYAAAOpgAABdwnLpRPAAAAtBJREFUaAW9wTGI1nUcB+CHv5/jIOUwjqsbsiNwCBcddDjOJIgjCJeDhltMIiJaNAiXaIqoLVxcxSaHCBeXaEgsh2gRDvUQUeRCcDi85Ox44fVPw2940+sS9Pg+TxSLYlEsikWxKBbFolgUi2JRLIrFNpnAcSzhkq1FsSgWxeI5degxjwXcxjwO4DgmMMCy5itNFItiUSxe0ApWsI7L2MA0JnAXYziGhziNKBbFolg8p16zjG89aTfWMIFTOIspTRSLYlEsXlCHDj16zZrmFB5jN37VRLEoFsXiBfXoEXQYahYxg2vYgQuaKBbFolhsk6EnzeEPHMAJI1EsikWx2EbjGGARA+zFz3iEcQwQxaJYFIttNNAsYAWzOKkZaKJYFItisU2CIXbiMcZwycgcJhHFolgUi212AntwGTP4DPtwCL8gikWxKBbbZKj5HZN4BZOYwRiWsIQoFsWiWDylQ2+kM9LbLBhqxjGNMcxjCstYwiSuIIpFsSgWW+g0vaZDh95Ih6HmbRzBIqbwA87jGxzEHawiikWxKBZP6TW9ZjfGcV/Todf0mqM4gkVcwz4jX+A8bmEVUSyKRbHYwn7swBSO4G+cwZonHcV7eBen8Z1mHANsYA33NFEsikWx+JcOPV7HIdzGQ3yPg/gSZ3Fd8xbmsICPcVGzEwPNAOu4o4liUSyKJUaGml24jR4PsIAbWMbnOIcB3sExfI2LRh6h0zxA8EATxaJYFMvQZodxD/M4iVkcxmP8hU9wFbP4CWdsrcMO3NJEsSgWxbIf7+MGVnAdL+FNrGIWtzCDgeZPzGEDH/l/PVZxTxPFolgUywbuYg8O4zVMax7iU0zjKn7Dy1jAVcx5tnUcxBu4jigWxaJYbuKmzV7FXuzFNHZhCuv4AD8a6dD7b2u4gKEmikWxKBZbuI/7uOLZepv1Rj40EsWiWBSLYlEsikWxKBbFolgU+wdLUZfNtS6gFQAAAABJRU5ErkJg\"></td><td style='text-align:center;vertical-align:middle; margin: 0.5em;border:1px #90999f solid;border-collapse:collapse'><img style='max-width: 100px; max-height:100px;display:inline' src=\"data:image/png;base64,iVBORw0KGgoAAAANSUhEUgAAAHAAAABwCAAAAADji6uXAAAABGdBTUEAALGPC/xhBQAAAAFzUkdCAK7OHOkAAAAgY0hSTQAAeiYAAICEAAD6AAAAgOgAAHUwAADqYAAAOpgAABdwnLpRPAAAA6RJREFUaAW9wW+I33McAPDX73fvswtb2DDjbEsbdqOMsrnyQDIPzJSh5c+0zJORNvOviJQwkVLWavFgHpiVxYibeKAJ0zp/SiYzZw27LQ07+3P3+32pj7ruZtqder9eIVlIFpKFZCFZSBaShWQhWUgWkoVkYQRqqBCo0DDoHPyBgxiHhViIWYoWNBCShWQhWTgGNVSoFAOKybgfkzEFhzEd2zEGvY4UkoVkIVkYgVb0YzE6MQm7MROBCn2YiDp2YjmeQx0NhGQhWUgWRuFGzMV32Iom2tBAEwPYhmnYa6iQLCQLycII9Cv60IU2XIMv0MCfGI93cDM+wGLFgCIkC8lCsnAMKkNdb9AL+B5z8Rk2Yw5mY45BFWoIyUKykCz8T3crBnAKZuEZXKloxQDG4BBCspAsJAujUENlqA50YSp68L6iX3FQEZKFZCFZGIVK0YIG2rEfn+N1PG+oW/AkFiAkC8lCsvAfaqgcXQsaGI+7cIZiJc7FyzgTx6OOVoRkIVlIFoapo2lkJmAtvsSF+BTtOIAD2Iun8BFCspAsJAvDVIo6AgNo+ncNxc/YjM1YinZswTdox2ScjgohWUgWkoVh6qijH4f9t4biVtyDL3AqHkQ7ujAPvVilCMlCspAs/KOmaKChuBwfKupoOtIjWIo92IAObML5uAzz8AKOU4RkIVlIFjXUUaGJGu5FJ67A15iDpiM9geXYgibOwn4sw1dow4noNigkC8lCsqjQMOgNXIbd6MGluAHr0Yp+xeNYgf3oxTqswE/YgTV4BZtwMvYoQrKQLCSLNrRjH/ZgFw6gBa3YgUewHv2KVbgTX2EmZuFZfIvTsQ0rMQ0P43hFDSFZSBaSxaNYgl9wGnaiwjicgDV4ADUswkuKn9GD1bgUHbgE0zEb49CDZVinaEFIFpKFZPEQJmAy+nAxmujGDCzHEoxFL67DRPyGbpyN+7AIv2MffsTDWIDteFVRISQLyUKy8LdeBF7EuZiLtTiMbejEtRiLHbgOp2Ih5it+QD+m4hu8izZMQp+iiZAsJAvJwt824mNUWI+tmIEpOAur8CZuwlicgemYhArzsRFvYxpWoBMVduEPRYWQLCQLyaKOT3AV3sJt+BoXGPSgYiNeQwfa8QBWGnQmDqELd+BKTMIGBAYQkoVkIVk0Fe9hDC7C7fgVE3ESaqjhapyH1XjCkXYa9DTG4jFFXRGShWQhWRimG91GZ56jO6wIyUKykCwkC8lCspDsL6nm1SmyoYCxAAAAAElFTkSuQmCC\"></td><td style='text-align:center;vertical-align:middle; margin: 0.5em;border:1px #90999f solid;border-collapse:collapse'><img style='max-width: 100px; max-height:100px;display:inline' src=\"data:image/png;base64,iVBORw0KGgoAAAANSUhEUgAAAHAAAABwCAAAAADji6uXAAAABGdBTUEAALGPC/xhBQAAAAFzUkdCAK7OHOkAAAAgY0hSTQAAeiYAAICEAAD6AAAAgOgAAHUwAADqYAAAOpgAABdwnLpRPAAABH1JREFUaAW9wU1s3gUdAOCnb3/0bSkt7datKx1jXx2mq2zqlkxluplMEiDCAbKgMYuaOGMWTQx+BD1w8OTRIMrBaAzRCCZyWSILYDJR2KR8lC3KGNR9dDC7dlvfdlu7t62HHvb/F1T08Hue8AHdjR9jGC+jFXdgFNt8cCFZSBaShf/iYazBOvSiHavRhhvQiRl8H7/Hcf9ZSBaShWTh3/gq7kcbHkcFmzCPp9CLe3EKdQxgOy7hOziJBswrC8lCspAsFFQwh8/ga6jhKVQxhHfxIL5lwRk8g9tQx9/Rh59iL04jUHdNSBaShWShYN6CtfgbVqMVq/FrHMBb+DwewSBux/W4gn6cQz/uwmOYVRaShWQhWSiYt+BTqKGKaZzFLtyDNfgz/oIvYC+ew58whh0YxkctmFcWkoVkIVl4HxvxAi5gEw7gLvSgC1VsxjJMYAda8RJ6cAy93l9IFpKFZGGRAbTjQ5hDO76MJkzhKAaxCxfQgufQh/X4HVbhPNoxoSwkC8lCsrDIdpzBCI5hKW7BzaijhhF04DL2oB/nMI5GbEEL1uNlZSFZSBaShUXexos4jz14F5O4Dt34Ab6Eq3ge+7AGB3A3bsFxzKPLe4VkIVlIFhbZha34JZbhRjyDJ/BF7MOL2I0fYQnOYQjfQKAFFZz3XiFZSBaShUWu4CSa8QTuRA01vIH1aMNP8BB+hRXowwyWohuTWIu/KgvJQrKQLCzycRzHTpzBJfThedyEpagi8A/0oc+CS2hGFVN4EL9VFpKFZCFZKKhgI15HBZ/GUexAK2bQhg0YxwBO4CXMoIZGXEI72hCouyYkC8lCslAwgDfQiE1Yhf04hc/in2hFF5ZgCjvxNNZjGYYxiSrm0I8h14RkIVlIFgoGMIoBbEANVUzgN/gkHsWtaMVHcBFvYRTb8HU8jtdQwwYMuSYkC8lCslBQwygOYjMmsQ7teAjNeBI/xzvYie3Yg5/hNbRgFD0YQpuykCwkC8lCwXLch0dQw2VM4hj24jJ+iGGMYRvuwGZ8Dg3YjLOYwkYcVBaShWQhWSiYxlJsQQfexCFU8WEM4ioaMYcBHEKgBefQhy04ikasUhaShWQhWSiYxWn0YBAr0IHTaMDHMIZ2NGAc07gJ8wjsx+3owhzGlYVkIVlIFgo60IuLGMII7sUvcARL0IxZjKELM2jADJrQiMPYiipGlYVkIVlIFgpuwAjmsBVHcBu+i8MYw2o0Yxg3ohN1NGMlmnARFRzGcmUhWUgWkoWCPtTRhrN4Gn/AA1iHGq6gBZ1oQi+u4B1cwCewArOoo1tZSBaShWShYAJnUMVyfBtvYyMOYSWmcBoVNOIqGrACLbgObZhANzqVhWQhWUgWCurowDQew5NYi1GMYB/6UUU3KvgehrEMFQxiNx7GWZxQFpKFZCFZKNiOwDxO4DxuxRqMYwRNmMYgJrEJN6OKTozgFbTieqxUFpKFZCFZKPgmvoIeHMYFPOp/N4o/Yj9eVRaShWQhWShoxLPowbD/3ywOogNNykKykCwk+xcTdwqpN5zFugAAAABJRU5ErkJg\"></td><td style='text-align:center;vertical-align:middle; margin: 0.5em;border:1px #90999f solid;border-collapse:collapse'><img style='max-width: 100px; max-height:100px;display:inline' src=\"data:image/png;base64,iVBORw0KGgoAAAANSUhEUgAAAHAAAABwCAAAAADji6uXAAAABGdBTUEAALGPC/xhBQAAAAFzUkdCAK7OHOkAAAAgY0hSTQAAeiYAAICEAAD6AAAAgOgAAHUwAADqYAAAOpgAABdwnLpRPAAAA3xJREFUaAW9wUuIVQUYAODv3Pvn+LrOqFiaGUVGUGaT4Co3bXoQREiLCleB0EMKDCHClZuMohau2pS0kEAko6AMol2RQUFBCRLhFOQixtedh+M957Q4A8dhDGwc/u8Li2g7HsS92IB/8A7+0ArJQrKQLCyCl7AefUziBNbgNZzEOq2QLCQLycIiuA99TOM0TmhsxS7cjdMaIVlIFpKFRfAyhvAkduIAvsYV/I7HcVojJAvJQrJwAwrUGpdxFEexGl/hF3yJEa2QLCQLycICFKhRa2zCTuzA/RjCfoxhDKu1QrKQLCQLC1CjgwodvIhxfIAvtHbjJ/S1QrKQLCQLC1Cg1qhwEg/jEbyNFfgIP6CPvlZIFpKFZGEBanMdx3GtHl7FDnyOArVGSBaShWThBhXooNRYixfQwxGNArVGSBaShWThBtUo8QxewRA+xVsYRweVVkgWkoVkYREcwFbswY9aBWpzhWQhWUgWFqBAgQqrMI6ntLooUZsvJAvJQrJwnQrU5qvwp7lKjGIUh9FBpRGShWQhWbhONQrUWh30MYkncB4bMIxR/KrRQaURkoVkIVn4H2oUGpXWZezBNCoUqLBMo9IKyUKykCxcQ6FRa3RRYIBaYyUKPI07MIYeprEKZ3BCo9YKyUKykCxcQ61VoDTXfuzDXpzCh3hPYxsO4YhWrRWShWQhWfgPBQpUuBU1NuFZbMYhbMdz6OIiRnAYRzQCNUqtkCwkC8nCrAK1Vo0ao/gen+B1vIv9uIQLOIPl6KHE+1oD84VkIVlIFq7SRYlHMYqb0cXzWIZj+A7j6GEYqzGJ9fgMt2M7+ihxCn9phWQhWUgWZtUoUeAB/I29eAMdjWMYxQBLMY1JTGISu7AbXZzDOryJj7VCspAsJAuzHsI2TKBCjd24E8NYgyn8jNswgsAmjGADAmcxgyEEvjVXSBaShWRh1ko8hgncghlM4hJ6KBFYhbUYwU2oUOEsKpSoUKHEWXOFZCFZSBZmnUKFAhV62IgV6GosQYVLmNCaQQehUaHCFGbMFZKFZCFZmDWGzbiAAS7jIgZYiikMsBwD1CgxjQIddFHgCnq4Yr6QLCQLycKsGluwD7uwHktQI1CigwKFRgehUaDAAL+hi2/MF5KFZCFZuEqJgziIe7AFd2EjupjAFC5iChOYRh9T6GMafZzHOfOFZCFZSPYv6o/WyYFl6FUAAAAASUVORK5C\"></td></tr></tbody></table><div><small>(a vector displayed as a row to save space)</small></div>"
      ],
      "text/plain": [
       "6-element Vector{Base.ReinterpretArray{Gray{N0f8}, 2, N0f8, Matrix{N0f8}, true}}:\n",
       " [Gray{N0f8}(0.0) Gray{N0f8}(0.0) … Gray{N0f8}(0.0) Gray{N0f8}(0.0); Gray{N0f8}(0.0) Gray{N0f8}(0.0) … Gray{N0f8}(0.0) Gray{N0f8}(0.0); … ; Gray{N0f8}(0.0) Gray{N0f8}(0.0) … Gray{N0f8}(0.0) Gray{N0f8}(0.0); Gray{N0f8}(0.0) Gray{N0f8}(0.0) … Gray{N0f8}(0.0) Gray{N0f8}(0.0)]\n",
       " [Gray{N0f8}(0.0) Gray{N0f8}(0.0) … Gray{N0f8}(0.0) Gray{N0f8}(0.0); Gray{N0f8}(0.0) Gray{N0f8}(0.0) … Gray{N0f8}(0.0) Gray{N0f8}(0.0); … ; Gray{N0f8}(0.0) Gray{N0f8}(0.0) … Gray{N0f8}(0.0) Gray{N0f8}(0.0); Gray{N0f8}(0.0) Gray{N0f8}(0.0) … Gray{N0f8}(0.0) Gray{N0f8}(0.0)]\n",
       " [Gray{N0f8}(0.0) Gray{N0f8}(0.0) … Gray{N0f8}(0.0) Gray{N0f8}(0.0); Gray{N0f8}(0.0) Gray{N0f8}(0.0) … Gray{N0f8}(0.0) Gray{N0f8}(0.0); … ; Gray{N0f8}(0.0) Gray{N0f8}(0.0) … Gray{N0f8}(0.0) Gray{N0f8}(0.0); Gray{N0f8}(0.0) Gray{N0f8}(0.0) … Gray{N0f8}(0.0) Gray{N0f8}(0.0)]\n",
       " [Gray{N0f8}(0.0) Gray{N0f8}(0.0) … Gray{N0f8}(0.0) Gray{N0f8}(0.0); Gray{N0f8}(0.0) Gray{N0f8}(0.0) … Gray{N0f8}(0.0) Gray{N0f8}(0.0); … ; Gray{N0f8}(0.0) Gray{N0f8}(0.0) … Gray{N0f8}(0.0) Gray{N0f8}(0.0); Gray{N0f8}(0.0) Gray{N0f8}(0.0) … Gray{N0f8}(0.0) Gray{N0f8}(0.0)]\n",
       " [Gray{N0f8}(0.0) Gray{N0f8}(0.0) … Gray{N0f8}(0.0) Gray{N0f8}(0.0); Gray{N0f8}(0.0) Gray{N0f8}(0.0) … Gray{N0f8}(0.0) Gray{N0f8}(0.0); … ; Gray{N0f8}(0.0) Gray{N0f8}(0.0) … Gray{N0f8}(0.0) Gray{N0f8}(0.0); Gray{N0f8}(0.0) Gray{N0f8}(0.0) … Gray{N0f8}(0.0) Gray{N0f8}(0.0)]\n",
       " [Gray{N0f8}(0.0) Gray{N0f8}(0.0) … Gray{N0f8}(0.0) Gray{N0f8}(0.0); Gray{N0f8}(0.0) Gray{N0f8}(0.0) … Gray{N0f8}(0.0) Gray{N0f8}(0.0); … ; Gray{N0f8}(0.0) Gray{N0f8}(0.0) … Gray{N0f8}(0.0) Gray{N0f8}(0.0); Gray{N0f8}(0.0) Gray{N0f8}(0.0) … Gray{N0f8}(0.0) Gray{N0f8}(0.0)]"
      ]
     },
     "execution_count": 68,
     "metadata": {},
     "output_type": "execute_result"
    }
   ],
   "source": [
    "k = rand(1:n, 6)\n",
    "println([\"$(labels[Y[i]])\" for i in k])\n",
    "[FashionMNIST.convert2image(X[:,:,i]) for i in k]"
   ]
  },
  {
   "cell_type": "markdown",
   "metadata": {},
   "source": [
    "## Visualizing the data\n",
    "\n",
    "Each input data point is an image consisting of grey values for $28\\times 28$ pixels.\n",
    "\n",
    "Thus the data lives in $\\mathbb R^D$ with $D=28^2 = 784$."
   ]
  },
  {
   "cell_type": "code",
   "execution_count": 69,
   "metadata": {},
   "outputs": [
    {
     "data": {
      "text/plain": [
       "784"
      ]
     },
     "execution_count": 69,
     "metadata": {},
     "output_type": "execute_result"
    }
   ],
   "source": [
    "D = 28^2"
   ]
  },
  {
   "cell_type": "markdown",
   "metadata": {},
   "source": [
    "Let us look at the structure of the first input data point:"
   ]
  },
  {
   "cell_type": "code",
   "execution_count": 70,
   "metadata": {},
   "outputs": [
    {
     "data": {
      "text/plain": [
       "Matrix{N0f8} (alias for Array{Normed{UInt8, 8}, 2})"
      ]
     },
     "execution_count": 70,
     "metadata": {},
     "output_type": "execute_result"
    }
   ],
   "source": [
    "typeof(X[:,:,1])"
   ]
  },
  {
   "cell_type": "markdown",
   "metadata": {},
   "source": [
    "We see that the input data consists of matrices. \n",
    "\n",
    "For using machine learning algorithm we first transform the input data points into vectors using the `vec` function."
   ]
  },
  {
   "cell_type": "code",
   "execution_count": 71,
   "metadata": {},
   "outputs": [],
   "source": [
    "X_vec = [Float64.(vec(X[:,:,i])) for i in 1:n];\n",
    "X_test_vec = [Float64.(vec(X_test[:,:,i])) for i in 1:n];"
   ]
  },
  {
   "cell_type": "markdown",
   "metadata": {},
   "source": [
    "We also normalize the data to account for numerical accuracy."
   ]
  },
  {
   "cell_type": "code",
   "execution_count": 72,
   "metadata": {},
   "outputs": [],
   "source": [
    "M = maximum(norm.(X_vec))\n",
    "X_vec = X_vec ./ M\n",
    "X_test_vec = X_test_vec ./ M;"
   ]
  },
  {
   "cell_type": "markdown",
   "metadata": {},
   "source": [
    "We can visualize this data by randomly projecting the points in $\\mathbb R^D$ to $\\mathbb R^2$. \n",
    "\n",
    "For instance, we can first center the data and then sample a random projection matrix:"
   ]
  },
  {
   "cell_type": "code",
   "execution_count": 73,
   "metadata": {},
   "outputs": [],
   "source": [
    "x̄ = mean(X_vec)\n",
    "Pr = randn(2, D)\n",
    "X_Pr = hcat(map(x -> Pr*(x - x̄), X_vec)...);"
   ]
  },
  {
   "cell_type": "markdown",
   "metadata": {},
   "source": [
    "We can now apply a scatter plot the the projected data."
   ]
  },
  {
   "cell_type": "code",
   "execution_count": 74,
   "metadata": {},
   "outputs": [
    {
     "data": {
      "image/svg+xml": [
       "<?xml version=\"1.0\" encoding=\"utf-8\"?>\n",
       "<svg xmlns=\"http://www.w3.org/2000/svg\" xmlns:xlink=\"http://www.w3.org/1999/xlink\" width=\"600\" height=\"300\" viewBox=\"0 0 2400 1200\">\n",
       "<defs>\n",
       "  <clipPath id=\"clip690\">\n",
       "    <rect x=\"0\" y=\"0\" width=\"2400\" height=\"1200\"/>\n",
       "  </clipPath>\n",
       "</defs>\n",
       "<path clip-path=\"url(#clip690)\" d=\"\n",
       "M0 1200 L2400 1200 L2400 0 L0 0  Z\n",
       "  \" fill=\"#ffffff\" fill-rule=\"evenodd\" fill-opacity=\"1\"/>\n",
       "<defs>\n",
       "  <clipPath id=\"clip691\">\n",
       "    <rect x=\"480\" y=\"0\" width=\"1681\" height=\"1200\"/>\n",
       "  </clipPath>\n",
       "</defs>\n",
       "<path clip-path=\"url(#clip690)\" d=\"\n",
       "M193.936 1099.09 L2352.76 1099.09 L2352.76 47.2441 L193.936 47.2441  Z\n",
       "  \" fill=\"#ffffff\" fill-rule=\"evenodd\" fill-opacity=\"1\"/>\n",
       "<defs>\n",
       "  <clipPath id=\"clip692\">\n",
       "    <rect x=\"193\" y=\"47\" width=\"2160\" height=\"1053\"/>\n",
       "  </clipPath>\n",
       "</defs>\n",
       "<polyline clip-path=\"url(#clip692)\" style=\"stroke:#000000; stroke-linecap:butt; stroke-linejoin:round; stroke-width:2; stroke-opacity:0.1; fill:none\" points=\"\n",
       "  542.485,1099.09 542.485,47.2441 \n",
       "  \"/>\n",
       "<polyline clip-path=\"url(#clip692)\" style=\"stroke:#000000; stroke-linecap:butt; stroke-linejoin:round; stroke-width:2; stroke-opacity:0.1; fill:none\" points=\"\n",
       "  1115.79,1099.09 1115.79,47.2441 \n",
       "  \"/>\n",
       "<polyline clip-path=\"url(#clip692)\" style=\"stroke:#000000; stroke-linecap:butt; stroke-linejoin:round; stroke-width:2; stroke-opacity:0.1; fill:none\" points=\"\n",
       "  1689.09,1099.09 1689.09,47.2441 \n",
       "  \"/>\n",
       "<polyline clip-path=\"url(#clip692)\" style=\"stroke:#000000; stroke-linecap:butt; stroke-linejoin:round; stroke-width:2; stroke-opacity:0.1; fill:none\" points=\"\n",
       "  2262.39,1099.09 2262.39,47.2441 \n",
       "  \"/>\n",
       "<polyline clip-path=\"url(#clip690)\" style=\"stroke:#000000; stroke-linecap:butt; stroke-linejoin:round; stroke-width:4; stroke-opacity:1; fill:none\" points=\"\n",
       "  193.936,1099.09 2352.76,1099.09 \n",
       "  \"/>\n",
       "<polyline clip-path=\"url(#clip690)\" style=\"stroke:#000000; stroke-linecap:butt; stroke-linejoin:round; stroke-width:4; stroke-opacity:1; fill:none\" points=\"\n",
       "  542.485,1099.09 542.485,1080.19 \n",
       "  \"/>\n",
       "<polyline clip-path=\"url(#clip690)\" style=\"stroke:#000000; stroke-linecap:butt; stroke-linejoin:round; stroke-width:4; stroke-opacity:1; fill:none\" points=\"\n",
       "  1115.79,1099.09 1115.79,1080.19 \n",
       "  \"/>\n",
       "<polyline clip-path=\"url(#clip690)\" style=\"stroke:#000000; stroke-linecap:butt; stroke-linejoin:round; stroke-width:4; stroke-opacity:1; fill:none\" points=\"\n",
       "  1689.09,1099.09 1689.09,1080.19 \n",
       "  \"/>\n",
       "<polyline clip-path=\"url(#clip690)\" style=\"stroke:#000000; stroke-linecap:butt; stroke-linejoin:round; stroke-width:4; stroke-opacity:1; fill:none\" points=\"\n",
       "  2262.39,1099.09 2262.39,1080.19 \n",
       "  \"/>\n",
       "<path clip-path=\"url(#clip690)\" d=\"M489.51 1144.66 L519.186 1144.66 L519.186 1148.59 L489.51 1148.59 L489.51 1144.66 Z\" fill=\"#000000\" fill-rule=\"evenodd\" fill-opacity=\"1\" /><path clip-path=\"url(#clip690)\" d=\"M539.279 1130.01 Q535.667 1130.01 533.839 1133.57 Q532.033 1137.11 532.033 1144.24 Q532.033 1151.35 533.839 1154.91 Q535.667 1158.46 539.279 1158.46 Q542.913 1158.46 544.718 1154.91 Q546.547 1151.35 546.547 1144.24 Q546.547 1137.11 544.718 1133.57 Q542.913 1130.01 539.279 1130.01 M539.279 1126.3 Q545.089 1126.3 548.144 1130.91 Q551.223 1135.49 551.223 1144.24 Q551.223 1152.97 548.144 1157.58 Q545.089 1162.16 539.279 1162.16 Q533.468 1162.16 530.39 1157.58 Q527.334 1152.97 527.334 1144.24 Q527.334 1135.49 530.39 1130.91 Q533.468 1126.3 539.279 1126.3 Z\" fill=\"#000000\" fill-rule=\"evenodd\" fill-opacity=\"1\" /><path clip-path=\"url(#clip690)\" d=\"M559.441 1155.61 L564.325 1155.61 L564.325 1161.49 L559.441 1161.49 L559.441 1155.61 Z\" fill=\"#000000\" fill-rule=\"evenodd\" fill-opacity=\"1\" /><path clip-path=\"url(#clip690)\" d=\"M574.556 1126.93 L592.913 1126.93 L592.913 1130.86 L578.839 1130.86 L578.839 1139.34 Q579.857 1138.99 580.876 1138.83 Q581.894 1138.64 582.913 1138.64 Q588.7 1138.64 592.079 1141.81 Q595.459 1144.98 595.459 1150.4 Q595.459 1155.98 591.987 1159.08 Q588.514 1162.16 582.195 1162.16 Q580.019 1162.16 577.751 1161.79 Q575.505 1161.42 573.098 1160.68 L573.098 1155.98 Q575.181 1157.11 577.403 1157.67 Q579.626 1158.22 582.102 1158.22 Q586.107 1158.22 588.445 1156.12 Q590.783 1154.01 590.783 1150.4 Q590.783 1146.79 588.445 1144.68 Q586.107 1142.58 582.102 1142.58 Q580.227 1142.58 578.352 1142.99 Q576.501 1143.41 574.556 1144.29 L574.556 1126.93 Z\" fill=\"#000000\" fill-rule=\"evenodd\" fill-opacity=\"1\" /><path clip-path=\"url(#clip690)\" d=\"M1093.17 1130.01 Q1089.56 1130.01 1087.73 1133.57 Q1085.93 1137.11 1085.93 1144.24 Q1085.93 1151.35 1087.73 1154.91 Q1089.56 1158.46 1093.17 1158.46 Q1096.8 1158.46 1098.61 1154.91 Q1100.44 1151.35 1100.44 1144.24 Q1100.44 1137.11 1098.61 1133.57 Q1096.8 1130.01 1093.17 1130.01 M1093.17 1126.3 Q1098.98 1126.3 1102.04 1130.91 Q1105.12 1135.49 1105.12 1144.24 Q1105.12 1152.97 1102.04 1157.58 Q1098.98 1162.16 1093.17 1162.16 Q1087.36 1162.16 1084.28 1157.58 Q1081.23 1152.97 1081.23 1144.24 Q1081.23 1135.49 1084.28 1130.91 Q1087.36 1126.3 1093.17 1126.3 Z\" fill=\"#000000\" fill-rule=\"evenodd\" fill-opacity=\"1\" /><path clip-path=\"url(#clip690)\" d=\"M1113.33 1155.61 L1118.22 1155.61 L1118.22 1161.49 L1113.33 1161.49 L1113.33 1155.61 Z\" fill=\"#000000\" fill-rule=\"evenodd\" fill-opacity=\"1\" /><path clip-path=\"url(#clip690)\" d=\"M1138.4 1130.01 Q1134.79 1130.01 1132.96 1133.57 Q1131.16 1137.11 1131.16 1144.24 Q1131.16 1151.35 1132.96 1154.91 Q1134.79 1158.46 1138.4 1158.46 Q1142.04 1158.46 1143.84 1154.91 Q1145.67 1151.35 1145.67 1144.24 Q1145.67 1137.11 1143.84 1133.57 Q1142.04 1130.01 1138.4 1130.01 M1138.4 1126.3 Q1144.21 1126.3 1147.27 1130.91 Q1150.35 1135.49 1150.35 1144.24 Q1150.35 1152.97 1147.27 1157.58 Q1144.21 1162.16 1138.4 1162.16 Q1132.59 1162.16 1129.51 1157.58 Q1126.46 1152.97 1126.46 1144.24 Q1126.46 1135.49 1129.51 1130.91 Q1132.59 1126.3 1138.4 1126.3 Z\" fill=\"#000000\" fill-rule=\"evenodd\" fill-opacity=\"1\" /><path clip-path=\"url(#clip690)\" d=\"M1666.97 1130.01 Q1663.36 1130.01 1661.53 1133.57 Q1659.72 1137.11 1659.72 1144.24 Q1659.72 1151.35 1661.53 1154.91 Q1663.36 1158.46 1666.97 1158.46 Q1670.6 1158.46 1672.41 1154.91 Q1674.24 1151.35 1674.24 1144.24 Q1674.24 1137.11 1672.41 1133.57 Q1670.6 1130.01 1666.97 1130.01 M1666.97 1126.3 Q1672.78 1126.3 1675.84 1130.91 Q1678.91 1135.49 1678.91 1144.24 Q1678.91 1152.97 1675.84 1157.58 Q1672.78 1162.16 1666.97 1162.16 Q1661.16 1162.16 1658.08 1157.58 Q1655.03 1152.97 1655.03 1144.24 Q1655.03 1135.49 1658.08 1130.91 Q1661.16 1126.3 1666.97 1126.3 Z\" fill=\"#000000\" fill-rule=\"evenodd\" fill-opacity=\"1\" /><path clip-path=\"url(#clip690)\" d=\"M1687.13 1155.61 L1692.02 1155.61 L1692.02 1161.49 L1687.13 1161.49 L1687.13 1155.61 Z\" fill=\"#000000\" fill-rule=\"evenodd\" fill-opacity=\"1\" /><path clip-path=\"url(#clip690)\" d=\"M1702.25 1126.93 L1720.6 1126.93 L1720.6 1130.86 L1706.53 1130.86 L1706.53 1139.34 Q1707.55 1138.99 1708.57 1138.83 Q1709.59 1138.64 1710.6 1138.64 Q1716.39 1138.64 1719.77 1141.81 Q1723.15 1144.98 1723.15 1150.4 Q1723.15 1155.98 1719.68 1159.08 Q1716.21 1162.16 1709.89 1162.16 Q1707.71 1162.16 1705.44 1161.79 Q1703.2 1161.42 1700.79 1160.68 L1700.79 1155.98 Q1702.87 1157.11 1705.09 1157.67 Q1707.32 1158.22 1709.79 1158.22 Q1713.8 1158.22 1716.14 1156.12 Q1718.47 1154.01 1718.47 1150.4 Q1718.47 1146.79 1716.14 1144.68 Q1713.8 1142.58 1709.79 1142.58 Q1707.92 1142.58 1706.04 1142.99 Q1704.19 1143.41 1702.25 1144.29 L1702.25 1126.93 Z\" fill=\"#000000\" fill-rule=\"evenodd\" fill-opacity=\"1\" /><path clip-path=\"url(#clip690)\" d=\"M2229.54 1157.55 L2237.18 1157.55 L2237.18 1131.19 L2228.87 1132.85 L2228.87 1128.59 L2237.14 1126.93 L2241.81 1126.93 L2241.81 1157.55 L2249.45 1157.55 L2249.45 1161.49 L2229.54 1161.49 L2229.54 1157.55 Z\" fill=\"#000000\" fill-rule=\"evenodd\" fill-opacity=\"1\" /><path clip-path=\"url(#clip690)\" d=\"M2258.89 1155.61 L2263.78 1155.61 L2263.78 1161.49 L2258.89 1161.49 L2258.89 1155.61 Z\" fill=\"#000000\" fill-rule=\"evenodd\" fill-opacity=\"1\" /><path clip-path=\"url(#clip690)\" d=\"M2283.96 1130.01 Q2280.35 1130.01 2278.52 1133.57 Q2276.72 1137.11 2276.72 1144.24 Q2276.72 1151.35 2278.52 1154.91 Q2280.35 1158.46 2283.96 1158.46 Q2287.6 1158.46 2289.4 1154.91 Q2291.23 1151.35 2291.23 1144.24 Q2291.23 1137.11 2289.4 1133.57 Q2287.6 1130.01 2283.96 1130.01 M2283.96 1126.3 Q2289.77 1126.3 2292.83 1130.91 Q2295.91 1135.49 2295.91 1144.24 Q2295.91 1152.97 2292.83 1157.58 Q2289.77 1162.16 2283.96 1162.16 Q2278.15 1162.16 2275.07 1157.58 Q2272.02 1152.97 2272.02 1144.24 Q2272.02 1135.49 2275.07 1130.91 Q2278.15 1126.3 2283.96 1126.3 Z\" fill=\"#000000\" fill-rule=\"evenodd\" fill-opacity=\"1\" /><polyline clip-path=\"url(#clip692)\" style=\"stroke:#000000; stroke-linecap:butt; stroke-linejoin:round; stroke-width:2; stroke-opacity:0.1; fill:none\" points=\"\n",
       "  193.936,1087.09 2352.76,1087.09 \n",
       "  \"/>\n",
       "<polyline clip-path=\"url(#clip692)\" style=\"stroke:#000000; stroke-linecap:butt; stroke-linejoin:round; stroke-width:2; stroke-opacity:0.1; fill:none\" points=\"\n",
       "  193.936,915.765 2352.76,915.765 \n",
       "  \"/>\n",
       "<polyline clip-path=\"url(#clip692)\" style=\"stroke:#000000; stroke-linecap:butt; stroke-linejoin:round; stroke-width:2; stroke-opacity:0.1; fill:none\" points=\"\n",
       "  193.936,744.442 2352.76,744.442 \n",
       "  \"/>\n",
       "<polyline clip-path=\"url(#clip692)\" style=\"stroke:#000000; stroke-linecap:butt; stroke-linejoin:round; stroke-width:2; stroke-opacity:0.1; fill:none\" points=\"\n",
       "  193.936,573.12 2352.76,573.12 \n",
       "  \"/>\n",
       "<polyline clip-path=\"url(#clip692)\" style=\"stroke:#000000; stroke-linecap:butt; stroke-linejoin:round; stroke-width:2; stroke-opacity:0.1; fill:none\" points=\"\n",
       "  193.936,401.797 2352.76,401.797 \n",
       "  \"/>\n",
       "<polyline clip-path=\"url(#clip692)\" style=\"stroke:#000000; stroke-linecap:butt; stroke-linejoin:round; stroke-width:2; stroke-opacity:0.1; fill:none\" points=\"\n",
       "  193.936,230.475 2352.76,230.475 \n",
       "  \"/>\n",
       "<polyline clip-path=\"url(#clip692)\" style=\"stroke:#000000; stroke-linecap:butt; stroke-linejoin:round; stroke-width:2; stroke-opacity:0.1; fill:none\" points=\"\n",
       "  193.936,59.1524 2352.76,59.1524 \n",
       "  \"/>\n",
       "<polyline clip-path=\"url(#clip690)\" style=\"stroke:#000000; stroke-linecap:butt; stroke-linejoin:round; stroke-width:4; stroke-opacity:1; fill:none\" points=\"\n",
       "  193.936,1099.09 193.936,47.2441 \n",
       "  \"/>\n",
       "<polyline clip-path=\"url(#clip690)\" style=\"stroke:#000000; stroke-linecap:butt; stroke-linejoin:round; stroke-width:4; stroke-opacity:1; fill:none\" points=\"\n",
       "  193.936,1087.09 212.834,1087.09 \n",
       "  \"/>\n",
       "<polyline clip-path=\"url(#clip690)\" style=\"stroke:#000000; stroke-linecap:butt; stroke-linejoin:round; stroke-width:4; stroke-opacity:1; fill:none\" points=\"\n",
       "  193.936,915.765 212.834,915.765 \n",
       "  \"/>\n",
       "<polyline clip-path=\"url(#clip690)\" style=\"stroke:#000000; stroke-linecap:butt; stroke-linejoin:round; stroke-width:4; stroke-opacity:1; fill:none\" points=\"\n",
       "  193.936,744.442 212.834,744.442 \n",
       "  \"/>\n",
       "<polyline clip-path=\"url(#clip690)\" style=\"stroke:#000000; stroke-linecap:butt; stroke-linejoin:round; stroke-width:4; stroke-opacity:1; fill:none\" points=\"\n",
       "  193.936,573.12 212.834,573.12 \n",
       "  \"/>\n",
       "<polyline clip-path=\"url(#clip690)\" style=\"stroke:#000000; stroke-linecap:butt; stroke-linejoin:round; stroke-width:4; stroke-opacity:1; fill:none\" points=\"\n",
       "  193.936,401.797 212.834,401.797 \n",
       "  \"/>\n",
       "<polyline clip-path=\"url(#clip690)\" style=\"stroke:#000000; stroke-linecap:butt; stroke-linejoin:round; stroke-width:4; stroke-opacity:1; fill:none\" points=\"\n",
       "  193.936,230.475 212.834,230.475 \n",
       "  \"/>\n",
       "<polyline clip-path=\"url(#clip690)\" style=\"stroke:#000000; stroke-linecap:butt; stroke-linejoin:round; stroke-width:4; stroke-opacity:1; fill:none\" points=\"\n",
       "  193.936,59.1524 212.834,59.1524 \n",
       "  \"/>\n",
       "<path clip-path=\"url(#clip690)\" d=\"M51.9875 1087.54 L81.6633 1087.54 L81.6633 1091.47 L51.9875 1091.47 L51.9875 1087.54 Z\" fill=\"#000000\" fill-rule=\"evenodd\" fill-opacity=\"1\" /><path clip-path=\"url(#clip690)\" d=\"M92.566 1100.43 L100.205 1100.43 L100.205 1074.07 L91.8947 1075.73 L91.8947 1071.47 L100.159 1069.81 L104.834 1069.81 L104.834 1100.43 L112.473 1100.43 L112.473 1104.37 L92.566 1104.37 L92.566 1100.43 Z\" fill=\"#000000\" fill-rule=\"evenodd\" fill-opacity=\"1\" /><path clip-path=\"url(#clip690)\" d=\"M121.918 1098.49 L126.802 1098.49 L126.802 1104.37 L121.918 1104.37 L121.918 1098.49 Z\" fill=\"#000000\" fill-rule=\"evenodd\" fill-opacity=\"1\" /><path clip-path=\"url(#clip690)\" d=\"M137.033 1069.81 L155.39 1069.81 L155.39 1073.74 L141.316 1073.74 L141.316 1082.21 Q142.334 1081.87 143.353 1081.71 Q144.371 1081.52 145.39 1081.52 Q151.177 1081.52 154.556 1084.69 Q157.936 1087.86 157.936 1093.28 Q157.936 1098.86 154.464 1101.96 Q150.992 1105.04 144.672 1105.04 Q142.496 1105.04 140.228 1104.67 Q137.982 1104.3 135.575 1103.56 L135.575 1098.86 Q137.658 1099.99 139.881 1100.55 Q142.103 1101.1 144.58 1101.1 Q148.584 1101.1 150.922 1099 Q153.26 1096.89 153.26 1093.28 Q153.26 1089.67 150.922 1087.56 Q148.584 1085.46 144.58 1085.46 Q142.705 1085.46 140.83 1085.87 Q138.978 1086.29 137.033 1087.17 L137.033 1069.81 Z\" fill=\"#000000\" fill-rule=\"evenodd\" fill-opacity=\"1\" /><path clip-path=\"url(#clip690)\" d=\"M50.9921 916.216 L80.6679 916.216 L80.6679 920.151 L50.9921 920.151 L50.9921 916.216 Z\" fill=\"#000000\" fill-rule=\"evenodd\" fill-opacity=\"1\" /><path clip-path=\"url(#clip690)\" d=\"M91.5706 929.11 L99.2095 929.11 L99.2095 902.744 L90.8993 904.411 L90.8993 900.151 L99.1632 898.485 L103.839 898.485 L103.839 929.11 L111.478 929.11 L111.478 933.045 L91.5706 933.045 L91.5706 929.11 Z\" fill=\"#000000\" fill-rule=\"evenodd\" fill-opacity=\"1\" /><path clip-path=\"url(#clip690)\" d=\"M120.922 927.165 L125.807 927.165 L125.807 933.045 L120.922 933.045 L120.922 927.165 Z\" fill=\"#000000\" fill-rule=\"evenodd\" fill-opacity=\"1\" /><path clip-path=\"url(#clip690)\" d=\"M145.992 901.563 Q142.381 901.563 140.552 905.128 Q138.746 908.67 138.746 915.8 Q138.746 922.906 140.552 926.471 Q142.381 930.012 145.992 930.012 Q149.626 930.012 151.431 926.471 Q153.26 922.906 153.26 915.8 Q153.26 908.67 151.431 905.128 Q149.626 901.563 145.992 901.563 M145.992 897.86 Q151.802 897.86 154.857 902.466 Q157.936 907.05 157.936 915.8 Q157.936 924.526 154.857 929.133 Q151.802 933.716 145.992 933.716 Q140.181 933.716 137.103 929.133 Q134.047 924.526 134.047 915.8 Q134.047 907.05 137.103 902.466 Q140.181 897.86 145.992 897.86 Z\" fill=\"#000000\" fill-rule=\"evenodd\" fill-opacity=\"1\" /><path clip-path=\"url(#clip690)\" d=\"M51.9875 744.894 L81.6633 744.894 L81.6633 748.829 L51.9875 748.829 L51.9875 744.894 Z\" fill=\"#000000\" fill-rule=\"evenodd\" fill-opacity=\"1\" /><path clip-path=\"url(#clip690)\" d=\"M101.756 730.241 Q98.1447 730.241 96.316 733.806 Q94.5104 737.347 94.5104 744.477 Q94.5104 751.583 96.316 755.148 Q98.1447 758.69 101.756 758.69 Q105.39 758.69 107.196 755.148 Q109.024 751.583 109.024 744.477 Q109.024 737.347 107.196 733.806 Q105.39 730.241 101.756 730.241 M101.756 726.537 Q107.566 726.537 110.621 731.144 Q113.7 735.727 113.7 744.477 Q113.7 753.204 110.621 757.81 Q107.566 762.394 101.756 762.394 Q95.9456 762.394 92.8669 757.81 Q89.8114 753.204 89.8114 744.477 Q89.8114 735.727 92.8669 731.144 Q95.9456 726.537 101.756 726.537 Z\" fill=\"#000000\" fill-rule=\"evenodd\" fill-opacity=\"1\" /><path clip-path=\"url(#clip690)\" d=\"M121.918 755.843 L126.802 755.843 L126.802 761.722 L121.918 761.722 L121.918 755.843 Z\" fill=\"#000000\" fill-rule=\"evenodd\" fill-opacity=\"1\" /><path clip-path=\"url(#clip690)\" d=\"M137.033 727.162 L155.39 727.162 L155.39 731.097 L141.316 731.097 L141.316 739.57 Q142.334 739.222 143.353 739.06 Q144.371 738.875 145.39 738.875 Q151.177 738.875 154.556 742.046 Q157.936 745.218 157.936 750.634 Q157.936 756.213 154.464 759.315 Q150.992 762.394 144.672 762.394 Q142.496 762.394 140.228 762.023 Q137.982 761.653 135.575 760.912 L135.575 756.213 Q137.658 757.347 139.881 757.903 Q142.103 758.458 144.58 758.458 Q148.584 758.458 150.922 756.352 Q153.26 754.245 153.26 750.634 Q153.26 747.023 150.922 744.917 Q148.584 742.81 144.58 742.81 Q142.705 742.81 140.83 743.227 Q138.978 743.644 137.033 744.523 L137.033 727.162 Z\" fill=\"#000000\" fill-rule=\"evenodd\" fill-opacity=\"1\" /><path clip-path=\"url(#clip690)\" d=\"M100.76 558.919 Q97.1493 558.919 95.3206 562.483 Q93.515 566.025 93.515 573.155 Q93.515 580.261 95.3206 583.826 Q97.1493 587.367 100.76 587.367 Q104.395 587.367 106.2 583.826 Q108.029 580.261 108.029 573.155 Q108.029 566.025 106.2 562.483 Q104.395 558.919 100.76 558.919 M100.76 555.215 Q106.571 555.215 109.626 559.821 Q112.705 564.405 112.705 573.155 Q112.705 581.881 109.626 586.488 Q106.571 591.071 100.76 591.071 Q94.9502 591.071 91.8715 586.488 Q88.816 581.881 88.816 573.155 Q88.816 564.405 91.8715 559.821 Q94.9502 555.215 100.76 555.215 Z\" fill=\"#000000\" fill-rule=\"evenodd\" fill-opacity=\"1\" /><path clip-path=\"url(#clip690)\" d=\"M120.922 584.52 L125.807 584.52 L125.807 590.4 L120.922 590.4 L120.922 584.52 Z\" fill=\"#000000\" fill-rule=\"evenodd\" fill-opacity=\"1\" /><path clip-path=\"url(#clip690)\" d=\"M145.992 558.919 Q142.381 558.919 140.552 562.483 Q138.746 566.025 138.746 573.155 Q138.746 580.261 140.552 583.826 Q142.381 587.367 145.992 587.367 Q149.626 587.367 151.431 583.826 Q153.26 580.261 153.26 573.155 Q153.26 566.025 151.431 562.483 Q149.626 558.919 145.992 558.919 M145.992 555.215 Q151.802 555.215 154.857 559.821 Q157.936 564.405 157.936 573.155 Q157.936 581.881 154.857 586.488 Q151.802 591.071 145.992 591.071 Q140.181 591.071 137.103 586.488 Q134.047 581.881 134.047 573.155 Q134.047 564.405 137.103 559.821 Q140.181 555.215 145.992 555.215 Z\" fill=\"#000000\" fill-rule=\"evenodd\" fill-opacity=\"1\" /><path clip-path=\"url(#clip690)\" d=\"M101.756 387.596 Q98.1447 387.596 96.316 391.161 Q94.5104 394.702 94.5104 401.832 Q94.5104 408.939 96.316 412.503 Q98.1447 416.045 101.756 416.045 Q105.39 416.045 107.196 412.503 Q109.024 408.939 109.024 401.832 Q109.024 394.702 107.196 391.161 Q105.39 387.596 101.756 387.596 M101.756 383.892 Q107.566 383.892 110.621 388.499 Q113.7 393.082 113.7 401.832 Q113.7 410.559 110.621 415.165 Q107.566 419.749 101.756 419.749 Q95.9456 419.749 92.8669 415.165 Q89.8114 410.559 89.8114 401.832 Q89.8114 393.082 92.8669 388.499 Q95.9456 383.892 101.756 383.892 Z\" fill=\"#000000\" fill-rule=\"evenodd\" fill-opacity=\"1\" /><path clip-path=\"url(#clip690)\" d=\"M121.918 413.198 L126.802 413.198 L126.802 419.077 L121.918 419.077 L121.918 413.198 Z\" fill=\"#000000\" fill-rule=\"evenodd\" fill-opacity=\"1\" /><path clip-path=\"url(#clip690)\" d=\"M137.033 384.517 L155.39 384.517 L155.39 388.453 L141.316 388.453 L141.316 396.925 Q142.334 396.577 143.353 396.415 Q144.371 396.23 145.39 396.23 Q151.177 396.23 154.556 399.402 Q157.936 402.573 157.936 407.989 Q157.936 413.568 154.464 416.67 Q150.992 419.749 144.672 419.749 Q142.496 419.749 140.228 419.378 Q137.982 419.008 135.575 418.267 L135.575 413.568 Q137.658 414.702 139.881 415.258 Q142.103 415.813 144.58 415.813 Q148.584 415.813 150.922 413.707 Q153.26 411.601 153.26 407.989 Q153.26 404.378 150.922 402.272 Q148.584 400.165 144.58 400.165 Q142.705 400.165 140.83 400.582 Q138.978 400.999 137.033 401.878 L137.033 384.517 Z\" fill=\"#000000\" fill-rule=\"evenodd\" fill-opacity=\"1\" /><path clip-path=\"url(#clip690)\" d=\"M91.5706 243.82 L99.2095 243.82 L99.2095 217.454 L90.8993 219.121 L90.8993 214.862 L99.1632 213.195 L103.839 213.195 L103.839 243.82 L111.478 243.82 L111.478 247.755 L91.5706 247.755 L91.5706 243.82 Z\" fill=\"#000000\" fill-rule=\"evenodd\" fill-opacity=\"1\" /><path clip-path=\"url(#clip690)\" d=\"M120.922 241.875 L125.807 241.875 L125.807 247.755 L120.922 247.755 L120.922 241.875 Z\" fill=\"#000000\" fill-rule=\"evenodd\" fill-opacity=\"1\" /><path clip-path=\"url(#clip690)\" d=\"M145.992 216.274 Q142.381 216.274 140.552 219.838 Q138.746 223.38 138.746 230.51 Q138.746 237.616 140.552 241.181 Q142.381 244.722 145.992 244.722 Q149.626 244.722 151.431 241.181 Q153.26 237.616 153.26 230.51 Q153.26 223.38 151.431 219.838 Q149.626 216.274 145.992 216.274 M145.992 212.57 Q151.802 212.57 154.857 217.176 Q157.936 221.76 157.936 230.51 Q157.936 239.236 154.857 243.843 Q151.802 248.426 145.992 248.426 Q140.181 248.426 137.103 243.843 Q134.047 239.236 134.047 230.51 Q134.047 221.76 137.103 217.176 Q140.181 212.57 145.992 212.57 Z\" fill=\"#000000\" fill-rule=\"evenodd\" fill-opacity=\"1\" /><path clip-path=\"url(#clip690)\" d=\"M92.566 72.4972 L100.205 72.4972 L100.205 46.1316 L91.8947 47.7983 L91.8947 43.539 L100.159 41.8724 L104.834 41.8724 L104.834 72.4972 L112.473 72.4972 L112.473 76.4324 L92.566 76.4324 L92.566 72.4972 Z\" fill=\"#000000\" fill-rule=\"evenodd\" fill-opacity=\"1\" /><path clip-path=\"url(#clip690)\" d=\"M121.918 70.5528 L126.802 70.5528 L126.802 76.4324 L121.918 76.4324 L121.918 70.5528 Z\" fill=\"#000000\" fill-rule=\"evenodd\" fill-opacity=\"1\" /><path clip-path=\"url(#clip690)\" d=\"M137.033 41.8724 L155.39 41.8724 L155.39 45.8075 L141.316 45.8075 L141.316 54.2797 Q142.334 53.9325 143.353 53.7705 Q144.371 53.5853 145.39 53.5853 Q151.177 53.5853 154.556 56.7565 Q157.936 59.9278 157.936 65.3445 Q157.936 70.9231 154.464 74.025 Q150.992 77.1037 144.672 77.1037 Q142.496 77.1037 140.228 76.7333 Q137.982 76.3629 135.575 75.6222 L135.575 70.9231 Q137.658 72.0574 139.881 72.6129 Q142.103 73.1685 144.58 73.1685 Q148.584 73.1685 150.922 71.062 Q153.26 68.9556 153.26 65.3445 Q153.26 61.7334 150.922 59.6269 Q148.584 57.5204 144.58 57.5204 Q142.705 57.5204 140.83 57.9371 Q138.978 58.3538 137.033 59.2334 L137.033 41.8724 Z\" fill=\"#000000\" fill-rule=\"evenodd\" fill-opacity=\"1\" /><circle clip-path=\"url(#clip692)\" cx=\"1296.86\" cy=\"564.475\" r=\"14\" fill=\"#cd5c5c\" fill-rule=\"evenodd\" fill-opacity=\"1\" stroke=\"#000000\" stroke-opacity=\"1\" stroke-width=\"2.4\"/>\n",
       "<circle clip-path=\"url(#clip692)\" cx=\"1303.81\" cy=\"838.209\" r=\"14\" fill=\"#cd5c5c\" fill-rule=\"evenodd\" fill-opacity=\"1\" stroke=\"#000000\" stroke-opacity=\"1\" stroke-width=\"2.4\"/>\n",
       "<circle clip-path=\"url(#clip692)\" cx=\"1714.9\" cy=\"1069.32\" r=\"14\" fill=\"#cd5c5c\" fill-rule=\"evenodd\" fill-opacity=\"1\" stroke=\"#000000\" stroke-opacity=\"1\" stroke-width=\"2.4\"/>\n",
       "<circle clip-path=\"url(#clip692)\" cx=\"1280.48\" cy=\"877.731\" r=\"14\" fill=\"#cd5c5c\" fill-rule=\"evenodd\" fill-opacity=\"1\" stroke=\"#000000\" stroke-opacity=\"1\" stroke-width=\"2.4\"/>\n",
       "<circle clip-path=\"url(#clip692)\" cx=\"1676.47\" cy=\"870.84\" r=\"14\" fill=\"#cd5c5c\" fill-rule=\"evenodd\" fill-opacity=\"1\" stroke=\"#000000\" stroke-opacity=\"1\" stroke-width=\"2.4\"/>\n",
       "<circle clip-path=\"url(#clip692)\" cx=\"1508.7\" cy=\"618.813\" r=\"14\" fill=\"#cd5c5c\" fill-rule=\"evenodd\" fill-opacity=\"1\" stroke=\"#000000\" stroke-opacity=\"1\" stroke-width=\"2.4\"/>\n",
       "<circle clip-path=\"url(#clip692)\" cx=\"1010.15\" cy=\"846.869\" r=\"14\" fill=\"#cd5c5c\" fill-rule=\"evenodd\" fill-opacity=\"1\" stroke=\"#000000\" stroke-opacity=\"1\" stroke-width=\"2.4\"/>\n",
       "<circle clip-path=\"url(#clip692)\" cx=\"928.372\" cy=\"903.355\" r=\"14\" fill=\"#cd5c5c\" fill-rule=\"evenodd\" fill-opacity=\"1\" stroke=\"#000000\" stroke-opacity=\"1\" stroke-width=\"2.4\"/>\n",
       "<circle clip-path=\"url(#clip692)\" cx=\"904.099\" cy=\"627.899\" r=\"14\" fill=\"#cd5c5c\" fill-rule=\"evenodd\" fill-opacity=\"1\" stroke=\"#000000\" stroke-opacity=\"1\" stroke-width=\"2.4\"/>\n",
       "<circle clip-path=\"url(#clip692)\" cx=\"1432.28\" cy=\"685.129\" r=\"14\" fill=\"#cd5c5c\" fill-rule=\"evenodd\" fill-opacity=\"1\" stroke=\"#000000\" stroke-opacity=\"1\" stroke-width=\"2.4\"/>\n",
       "<circle clip-path=\"url(#clip692)\" cx=\"1571.59\" cy=\"831.78\" r=\"14\" fill=\"#cd5c5c\" fill-rule=\"evenodd\" fill-opacity=\"1\" stroke=\"#000000\" stroke-opacity=\"1\" stroke-width=\"2.4\"/>\n",
       "<circle clip-path=\"url(#clip692)\" cx=\"1159.98\" cy=\"724.27\" r=\"14\" fill=\"#cd5c5c\" fill-rule=\"evenodd\" fill-opacity=\"1\" stroke=\"#000000\" stroke-opacity=\"1\" stroke-width=\"2.4\"/>\n",
       "<circle clip-path=\"url(#clip692)\" cx=\"1510.81\" cy=\"933.136\" r=\"14\" fill=\"#cd5c5c\" fill-rule=\"evenodd\" fill-opacity=\"1\" stroke=\"#000000\" stroke-opacity=\"1\" stroke-width=\"2.4\"/>\n",
       "<circle clip-path=\"url(#clip692)\" cx=\"1113.02\" cy=\"957\" r=\"14\" fill=\"#cd5c5c\" fill-rule=\"evenodd\" fill-opacity=\"1\" stroke=\"#000000\" stroke-opacity=\"1\" stroke-width=\"2.4\"/>\n",
       "<circle clip-path=\"url(#clip692)\" cx=\"1393.59\" cy=\"851.882\" r=\"14\" fill=\"#cd5c5c\" fill-rule=\"evenodd\" fill-opacity=\"1\" stroke=\"#000000\" stroke-opacity=\"1\" stroke-width=\"2.4\"/>\n",
       "<circle clip-path=\"url(#clip692)\" cx=\"2291.66\" cy=\"768.642\" r=\"14\" fill=\"#cd5c5c\" fill-rule=\"evenodd\" fill-opacity=\"1\" stroke=\"#000000\" stroke-opacity=\"1\" stroke-width=\"2.4\"/>\n",
       "<circle clip-path=\"url(#clip692)\" cx=\"1648.15\" cy=\"769.464\" r=\"14\" fill=\"#cd5c5c\" fill-rule=\"evenodd\" fill-opacity=\"1\" stroke=\"#000000\" stroke-opacity=\"1\" stroke-width=\"2.4\"/>\n",
       "<circle clip-path=\"url(#clip692)\" cx=\"1572.18\" cy=\"730.605\" r=\"14\" fill=\"#cd5c5c\" fill-rule=\"evenodd\" fill-opacity=\"1\" stroke=\"#000000\" stroke-opacity=\"1\" stroke-width=\"2.4\"/>\n",
       "<circle clip-path=\"url(#clip692)\" cx=\"1108.65\" cy=\"811.075\" r=\"14\" fill=\"#cd5c5c\" fill-rule=\"evenodd\" fill-opacity=\"1\" stroke=\"#000000\" stroke-opacity=\"1\" stroke-width=\"2.4\"/>\n",
       "<circle clip-path=\"url(#clip692)\" cx=\"1497.32\" cy=\"717.16\" r=\"14\" fill=\"#cd5c5c\" fill-rule=\"evenodd\" fill-opacity=\"1\" stroke=\"#000000\" stroke-opacity=\"1\" stroke-width=\"2.4\"/>\n",
       "<circle clip-path=\"url(#clip692)\" cx=\"1516.87\" cy=\"780.03\" r=\"14\" fill=\"#cd5c5c\" fill-rule=\"evenodd\" fill-opacity=\"1\" stroke=\"#000000\" stroke-opacity=\"1\" stroke-width=\"2.4\"/>\n",
       "<circle clip-path=\"url(#clip692)\" cx=\"1428.61\" cy=\"798.967\" r=\"14\" fill=\"#cd5c5c\" fill-rule=\"evenodd\" fill-opacity=\"1\" stroke=\"#000000\" stroke-opacity=\"1\" stroke-width=\"2.4\"/>\n",
       "<circle clip-path=\"url(#clip692)\" cx=\"1428.48\" cy=\"846.609\" r=\"14\" fill=\"#cd5c5c\" fill-rule=\"evenodd\" fill-opacity=\"1\" stroke=\"#000000\" stroke-opacity=\"1\" stroke-width=\"2.4\"/>\n",
       "<circle clip-path=\"url(#clip692)\" cx=\"1427.13\" cy=\"875.448\" r=\"14\" fill=\"#cd5c5c\" fill-rule=\"evenodd\" fill-opacity=\"1\" stroke=\"#000000\" stroke-opacity=\"1\" stroke-width=\"2.4\"/>\n",
       "<circle clip-path=\"url(#clip692)\" cx=\"1374.94\" cy=\"275.348\" r=\"14\" fill=\"#4682b4\" fill-rule=\"evenodd\" fill-opacity=\"1\" stroke=\"#000000\" stroke-opacity=\"1\" stroke-width=\"2.4\"/>\n",
       "<circle clip-path=\"url(#clip692)\" cx=\"697.691\" cy=\"401.057\" r=\"14\" fill=\"#4682b4\" fill-rule=\"evenodd\" fill-opacity=\"1\" stroke=\"#000000\" stroke-opacity=\"1\" stroke-width=\"2.4\"/>\n",
       "<circle clip-path=\"url(#clip692)\" cx=\"649.209\" cy=\"363.053\" r=\"14\" fill=\"#4682b4\" fill-rule=\"evenodd\" fill-opacity=\"1\" stroke=\"#000000\" stroke-opacity=\"1\" stroke-width=\"2.4\"/>\n",
       "<circle clip-path=\"url(#clip692)\" cx=\"1097.8\" cy=\"296.805\" r=\"14\" fill=\"#4682b4\" fill-rule=\"evenodd\" fill-opacity=\"1\" stroke=\"#000000\" stroke-opacity=\"1\" stroke-width=\"2.4\"/>\n",
       "<circle clip-path=\"url(#clip692)\" cx=\"1291.58\" cy=\"354.19\" r=\"14\" fill=\"#4682b4\" fill-rule=\"evenodd\" fill-opacity=\"1\" stroke=\"#000000\" stroke-opacity=\"1\" stroke-width=\"2.4\"/>\n",
       "<circle clip-path=\"url(#clip692)\" cx=\"1538.15\" cy=\"695.919\" r=\"14\" fill=\"#4682b4\" fill-rule=\"evenodd\" fill-opacity=\"1\" stroke=\"#000000\" stroke-opacity=\"1\" stroke-width=\"2.4\"/>\n",
       "<circle clip-path=\"url(#clip692)\" cx=\"844.193\" cy=\"483.051\" r=\"14\" fill=\"#4682b4\" fill-rule=\"evenodd\" fill-opacity=\"1\" stroke=\"#000000\" stroke-opacity=\"1\" stroke-width=\"2.4\"/>\n",
       "<circle clip-path=\"url(#clip692)\" cx=\"349.406\" cy=\"377.812\" r=\"14\" fill=\"#4682b4\" fill-rule=\"evenodd\" fill-opacity=\"1\" stroke=\"#000000\" stroke-opacity=\"1\" stroke-width=\"2.4\"/>\n",
       "<circle clip-path=\"url(#clip692)\" cx=\"923.212\" cy=\"477.116\" r=\"14\" fill=\"#4682b4\" fill-rule=\"evenodd\" fill-opacity=\"1\" stroke=\"#000000\" stroke-opacity=\"1\" stroke-width=\"2.4\"/>\n",
       "<circle clip-path=\"url(#clip692)\" cx=\"1150.39\" cy=\"449.78\" r=\"14\" fill=\"#4682b4\" fill-rule=\"evenodd\" fill-opacity=\"1\" stroke=\"#000000\" stroke-opacity=\"1\" stroke-width=\"2.4\"/>\n",
       "<circle clip-path=\"url(#clip692)\" cx=\"1110.81\" cy=\"389.536\" r=\"14\" fill=\"#4682b4\" fill-rule=\"evenodd\" fill-opacity=\"1\" stroke=\"#000000\" stroke-opacity=\"1\" stroke-width=\"2.4\"/>\n",
       "<circle clip-path=\"url(#clip692)\" cx=\"860.311\" cy=\"358.648\" r=\"14\" fill=\"#4682b4\" fill-rule=\"evenodd\" fill-opacity=\"1\" stroke=\"#000000\" stroke-opacity=\"1\" stroke-width=\"2.4\"/>\n",
       "<circle clip-path=\"url(#clip692)\" cx=\"970.258\" cy=\"407.706\" r=\"14\" fill=\"#4682b4\" fill-rule=\"evenodd\" fill-opacity=\"1\" stroke=\"#000000\" stroke-opacity=\"1\" stroke-width=\"2.4\"/>\n",
       "<circle clip-path=\"url(#clip692)\" cx=\"422.879\" cy=\"478.21\" r=\"14\" fill=\"#4682b4\" fill-rule=\"evenodd\" fill-opacity=\"1\" stroke=\"#000000\" stroke-opacity=\"1\" stroke-width=\"2.4\"/>\n",
       "<circle clip-path=\"url(#clip692)\" cx=\"683.445\" cy=\"382.234\" r=\"14\" fill=\"#4682b4\" fill-rule=\"evenodd\" fill-opacity=\"1\" stroke=\"#000000\" stroke-opacity=\"1\" stroke-width=\"2.4\"/>\n",
       "<circle clip-path=\"url(#clip692)\" cx=\"797.729\" cy=\"325.93\" r=\"14\" fill=\"#4682b4\" fill-rule=\"evenodd\" fill-opacity=\"1\" stroke=\"#000000\" stroke-opacity=\"1\" stroke-width=\"2.4\"/>\n",
       "<circle clip-path=\"url(#clip692)\" cx=\"1460.16\" cy=\"272.027\" r=\"14\" fill=\"#4682b4\" fill-rule=\"evenodd\" fill-opacity=\"1\" stroke=\"#000000\" stroke-opacity=\"1\" stroke-width=\"2.4\"/>\n",
       "<circle clip-path=\"url(#clip692)\" cx=\"840.438\" cy=\"134.141\" r=\"14\" fill=\"#4682b4\" fill-rule=\"evenodd\" fill-opacity=\"1\" stroke=\"#000000\" stroke-opacity=\"1\" stroke-width=\"2.4\"/>\n",
       "<circle clip-path=\"url(#clip692)\" cx=\"1118.68\" cy=\"286.236\" r=\"14\" fill=\"#4682b4\" fill-rule=\"evenodd\" fill-opacity=\"1\" stroke=\"#000000\" stroke-opacity=\"1\" stroke-width=\"2.4\"/>\n",
       "<circle clip-path=\"url(#clip692)\" cx=\"255.035\" cy=\"77.0133\" r=\"14\" fill=\"#4682b4\" fill-rule=\"evenodd\" fill-opacity=\"1\" stroke=\"#000000\" stroke-opacity=\"1\" stroke-width=\"2.4\"/>\n",
       "<circle clip-path=\"url(#clip692)\" cx=\"1083.06\" cy=\"295.307\" r=\"14\" fill=\"#4682b4\" fill-rule=\"evenodd\" fill-opacity=\"1\" stroke=\"#000000\" stroke-opacity=\"1\" stroke-width=\"2.4\"/>\n",
       "<circle clip-path=\"url(#clip692)\" cx=\"1008.69\" cy=\"237.9\" r=\"14\" fill=\"#4682b4\" fill-rule=\"evenodd\" fill-opacity=\"1\" stroke=\"#000000\" stroke-opacity=\"1\" stroke-width=\"2.4\"/>\n",
       "<circle clip-path=\"url(#clip692)\" cx=\"314.755\" cy=\"479.118\" r=\"14\" fill=\"#4682b4\" fill-rule=\"evenodd\" fill-opacity=\"1\" stroke=\"#000000\" stroke-opacity=\"1\" stroke-width=\"2.4\"/>\n",
       "<circle clip-path=\"url(#clip692)\" cx=\"396.569\" cy=\"267.958\" r=\"14\" fill=\"#4682b4\" fill-rule=\"evenodd\" fill-opacity=\"1\" stroke=\"#000000\" stroke-opacity=\"1\" stroke-width=\"2.4\"/>\n",
       "<circle clip-path=\"url(#clip692)\" cx=\"475.499\" cy=\"311.829\" r=\"14\" fill=\"#4682b4\" fill-rule=\"evenodd\" fill-opacity=\"1\" stroke=\"#000000\" stroke-opacity=\"1\" stroke-width=\"2.4\"/>\n",
       "<circle clip-path=\"url(#clip692)\" cx=\"350.277\" cy=\"479.362\" r=\"14\" fill=\"#4682b4\" fill-rule=\"evenodd\" fill-opacity=\"1\" stroke=\"#000000\" stroke-opacity=\"1\" stroke-width=\"2.4\"/>\n",
       "<path clip-path=\"url(#clip690)\" d=\"\n",
       "M1886.99 237.826 L2280.8 237.826 L2280.8 82.3056 L1886.99 82.3056  Z\n",
       "  \" fill=\"#ffffff\" fill-rule=\"evenodd\" fill-opacity=\"1\"/>\n",
       "<polyline clip-path=\"url(#clip690)\" style=\"stroke:#000000; stroke-linecap:butt; stroke-linejoin:round; stroke-width:4; stroke-opacity:1; fill:none\" points=\"\n",
       "  1886.99,237.826 2280.8,237.826 2280.8,82.3056 1886.99,82.3056 1886.99,237.826 \n",
       "  \"/>\n",
       "<circle clip-path=\"url(#clip690)\" cx=\"1982.94\" cy=\"134.146\" r=\"23\" fill=\"#cd5c5c\" fill-rule=\"evenodd\" fill-opacity=\"1\" stroke=\"#000000\" stroke-opacity=\"1\" stroke-width=\"3.84\"/>\n",
       "<path clip-path=\"url(#clip690)\" d=\"M2106.76 119.528 L2106.76 124.458 Q2104.4 122.259 2101.71 121.171 Q2099.05 120.083 2096.04 120.083 Q2090.11 120.083 2086.97 123.717 Q2083.82 127.328 2083.82 134.18 Q2083.82 141.009 2086.97 144.643 Q2090.11 148.254 2096.04 148.254 Q2099.05 148.254 2101.71 147.166 Q2104.4 146.078 2106.76 143.879 L2106.76 148.764 Q2104.3 150.43 2101.55 151.264 Q2098.82 152.097 2095.76 152.097 Q2087.91 152.097 2083.4 147.305 Q2078.89 142.49 2078.89 134.18 Q2078.89 125.847 2083.4 121.055 Q2087.91 116.241 2095.76 116.241 Q2098.86 116.241 2101.6 117.074 Q2104.35 117.884 2106.76 119.528 Z\" fill=\"#000000\" fill-rule=\"evenodd\" fill-opacity=\"1\" /><path clip-path=\"url(#clip690)\" d=\"M2123.84 128.486 Q2120.41 128.486 2118.42 131.171 Q2116.43 133.833 2116.43 138.486 Q2116.43 143.139 2118.4 145.824 Q2120.39 148.486 2123.84 148.486 Q2127.24 148.486 2129.23 145.801 Q2131.22 143.115 2131.22 138.486 Q2131.22 133.879 2129.23 131.194 Q2127.24 128.486 2123.84 128.486 M2123.84 124.875 Q2129.4 124.875 2132.57 128.486 Q2135.74 132.097 2135.74 138.486 Q2135.74 144.852 2132.57 148.486 Q2129.4 152.097 2123.84 152.097 Q2118.26 152.097 2115.09 148.486 Q2111.94 144.852 2111.94 138.486 Q2111.94 132.097 2115.09 128.486 Q2118.26 124.875 2123.84 124.875 Z\" fill=\"#000000\" fill-rule=\"evenodd\" fill-opacity=\"1\" /><path clip-path=\"url(#clip690)\" d=\"M2154.58 138.393 Q2149.42 138.393 2147.43 139.574 Q2145.44 140.754 2145.44 143.602 Q2145.44 145.87 2146.92 147.213 Q2148.42 148.532 2150.99 148.532 Q2154.53 148.532 2156.66 146.032 Q2158.82 143.509 2158.82 139.342 L2158.82 138.393 L2154.58 138.393 M2163.08 136.634 L2163.08 151.426 L2158.82 151.426 L2158.82 147.49 Q2157.36 149.851 2155.18 150.986 Q2153.01 152.097 2149.86 152.097 Q2145.88 152.097 2143.52 149.875 Q2141.18 147.629 2141.18 143.879 Q2141.18 139.504 2144.1 137.282 Q2147.03 135.06 2152.85 135.06 L2158.82 135.06 L2158.82 134.643 Q2158.82 131.703 2156.87 130.106 Q2154.95 128.486 2151.46 128.486 Q2149.23 128.486 2147.13 129.018 Q2145.02 129.551 2143.08 130.615 L2143.08 126.68 Q2145.41 125.778 2147.61 125.338 Q2149.81 124.875 2151.9 124.875 Q2157.52 124.875 2160.3 127.791 Q2163.08 130.708 2163.08 136.634 Z\" fill=\"#000000\" fill-rule=\"evenodd\" fill-opacity=\"1\" /><path clip-path=\"url(#clip690)\" d=\"M2176.06 118.139 L2176.06 125.5 L2184.84 125.5 L2184.84 128.81 L2176.06 128.81 L2176.06 142.884 Q2176.06 146.055 2176.92 146.958 Q2177.8 147.861 2180.46 147.861 L2184.84 147.861 L2184.84 151.426 L2180.46 151.426 Q2175.53 151.426 2173.66 149.597 Q2171.78 147.745 2171.78 142.884 L2171.78 128.81 L2168.66 128.81 L2168.66 125.5 L2171.78 125.5 L2171.78 118.139 L2176.06 118.139 Z\" fill=\"#000000\" fill-rule=\"evenodd\" fill-opacity=\"1\" /><circle clip-path=\"url(#clip690)\" cx=\"1982.94\" cy=\"185.986\" r=\"23\" fill=\"#4682b4\" fill-rule=\"evenodd\" fill-opacity=\"1\" stroke=\"#000000\" stroke-opacity=\"1\" stroke-width=\"3.84\"/>\n",
       "<path clip-path=\"url(#clip690)\" d=\"M2101.13 169.84 L2101.13 174.4 Q2098.47 173.127 2096.11 172.502 Q2093.75 171.877 2091.55 171.877 Q2087.73 171.877 2085.65 173.358 Q2083.59 174.84 2083.59 177.571 Q2083.59 179.863 2084.95 181.043 Q2086.34 182.201 2090.18 182.918 L2093.01 183.497 Q2098.24 184.493 2100.72 187.016 Q2103.22 189.516 2103.22 193.729 Q2103.22 198.752 2099.84 201.344 Q2096.48 203.937 2089.98 203.937 Q2087.52 203.937 2084.74 203.381 Q2081.99 202.826 2079.03 201.738 L2079.03 196.923 Q2081.87 198.52 2084.6 199.33 Q2087.34 200.141 2089.98 200.141 Q2093.98 200.141 2096.16 198.567 Q2098.33 196.992 2098.33 194.076 Q2098.33 191.53 2096.76 190.094 Q2095.21 188.659 2091.64 187.942 L2088.79 187.386 Q2083.56 186.344 2081.23 184.122 Q2078.89 181.9 2078.89 177.942 Q2078.89 173.358 2082.1 170.719 Q2085.35 168.081 2091.02 168.081 Q2093.45 168.081 2095.97 168.52 Q2098.49 168.96 2101.13 169.84 Z\" fill=\"#000000\" fill-rule=\"evenodd\" fill-opacity=\"1\" /><path clip-path=\"url(#clip690)\" d=\"M2122.1 190.233 Q2116.94 190.233 2114.95 191.414 Q2112.96 192.594 2112.96 195.442 Q2112.96 197.71 2114.44 199.053 Q2115.95 200.372 2118.52 200.372 Q2122.06 200.372 2124.19 197.872 Q2126.34 195.349 2126.34 191.182 L2126.34 190.233 L2122.1 190.233 M2130.6 188.474 L2130.6 203.266 L2126.34 203.266 L2126.34 199.33 Q2124.88 201.691 2122.71 202.826 Q2120.53 203.937 2117.38 203.937 Q2113.4 203.937 2111.04 201.715 Q2108.7 199.469 2108.7 195.719 Q2108.7 191.344 2111.62 189.122 Q2114.56 186.9 2120.37 186.9 L2126.34 186.9 L2126.34 186.483 Q2126.34 183.543 2124.4 181.946 Q2122.47 180.326 2118.98 180.326 Q2116.76 180.326 2114.65 180.858 Q2112.54 181.391 2110.6 182.455 L2110.6 178.52 Q2112.94 177.618 2115.14 177.178 Q2117.34 176.715 2119.42 176.715 Q2125.04 176.715 2127.82 179.631 Q2130.6 182.548 2130.6 188.474 Z\" fill=\"#000000\" fill-rule=\"evenodd\" fill-opacity=\"1\" /><path clip-path=\"url(#clip690)\" d=\"M2160.92 187.617 L2160.92 203.266 L2156.66 203.266 L2156.66 187.756 Q2156.66 184.076 2155.23 182.247 Q2153.79 180.418 2150.92 180.418 Q2147.47 180.418 2145.48 182.618 Q2143.49 184.817 2143.49 188.613 L2143.49 203.266 L2139.21 203.266 L2139.21 177.34 L2143.49 177.34 L2143.49 181.368 Q2145.02 179.03 2147.08 177.872 Q2149.16 176.715 2151.87 176.715 Q2156.34 176.715 2158.63 179.493 Q2160.92 182.247 2160.92 187.617 Z\" fill=\"#000000\" fill-rule=\"evenodd\" fill-opacity=\"1\" /><path clip-path=\"url(#clip690)\" d=\"M2186.48 181.275 L2186.48 167.247 L2190.74 167.247 L2190.74 203.266 L2186.48 203.266 L2186.48 199.377 Q2185.14 201.691 2183.08 202.826 Q2181.04 203.937 2178.17 203.937 Q2173.47 203.937 2170.51 200.187 Q2167.57 196.437 2167.57 190.326 Q2167.57 184.215 2170.51 180.465 Q2173.47 176.715 2178.17 176.715 Q2181.04 176.715 2183.08 177.849 Q2185.14 178.96 2186.48 181.275 M2171.97 190.326 Q2171.97 195.025 2173.89 197.71 Q2175.83 200.372 2179.21 200.372 Q2182.59 200.372 2184.53 197.71 Q2186.48 195.025 2186.48 190.326 Q2186.48 185.627 2184.53 182.965 Q2182.59 180.28 2179.21 180.28 Q2175.83 180.28 2173.89 182.965 Q2171.97 185.627 2171.97 190.326 Z\" fill=\"#000000\" fill-rule=\"evenodd\" fill-opacity=\"1\" /><path clip-path=\"url(#clip690)\" d=\"M2211.29 190.233 Q2206.13 190.233 2204.14 191.414 Q2202.15 192.594 2202.15 195.442 Q2202.15 197.71 2203.63 199.053 Q2205.14 200.372 2207.71 200.372 Q2211.25 200.372 2213.38 197.872 Q2215.53 195.349 2215.53 191.182 L2215.53 190.233 L2211.29 190.233 M2219.79 188.474 L2219.79 203.266 L2215.53 203.266 L2215.53 199.33 Q2214.07 201.691 2211.9 202.826 Q2209.72 203.937 2206.57 203.937 Q2202.59 203.937 2200.23 201.715 Q2197.89 199.469 2197.89 195.719 Q2197.89 191.344 2200.81 189.122 Q2203.75 186.9 2209.56 186.9 L2215.53 186.9 L2215.53 186.483 Q2215.53 183.543 2213.59 181.946 Q2211.66 180.326 2208.17 180.326 Q2205.95 180.326 2203.84 180.858 Q2201.73 181.391 2199.79 182.455 L2199.79 178.52 Q2202.13 177.618 2204.33 177.178 Q2206.53 176.715 2208.61 176.715 Q2214.23 176.715 2217.01 179.631 Q2219.79 182.548 2219.79 188.474 Z\" fill=\"#000000\" fill-rule=\"evenodd\" fill-opacity=\"1\" /><path clip-path=\"url(#clip690)\" d=\"M2228.56 167.247 L2232.82 167.247 L2232.82 203.266 L2228.56 203.266 L2228.56 167.247 Z\" fill=\"#000000\" fill-rule=\"evenodd\" fill-opacity=\"1\" /></svg>\n"
      ]
     },
     "execution_count": 74,
     "metadata": {},
     "output_type": "execute_result"
    }
   ],
   "source": [
    "scatter(X_Pr[1, Y .== l₁], X_Pr[2, Y .== l₁], \n",
    "            color = :indianred,\n",
    "            label = labels[l₁],\n",
    "            size = (800,300))\n",
    "scatter!(X_Pr[1, Y .== l₂], X_Pr[2, Y .== l₂], \n",
    "            color = :steelblue,\n",
    "            label = labels[l₂],\n",
    "            size = (600,300))"
   ]
  },
  {
   "cell_type": "markdown",
   "metadata": {},
   "source": [
    "## Support Vector Machine\n",
    "\n",
    "The first attempt to learn an algorithm for classification is using an SVM.\n",
    "\n",
    "We will use the simple kernel that gives back the standard inner product between data points."
   ]
  },
  {
   "cell_type": "code",
   "execution_count": 75,
   "metadata": {},
   "outputs": [
    {
     "data": {
      "text/plain": [
       "κ (generic function with 1 method)"
      ]
     },
     "execution_count": 75,
     "metadata": {},
     "output_type": "execute_result"
    }
   ],
   "source": [
    "κ(x₁,x₂) = x₁ ⋅ x₂"
   ]
  },
  {
   "cell_type": "markdown",
   "metadata": {},
   "source": [
    "The kernel defines a kernel matrix as follows:"
   ]
  },
  {
   "cell_type": "code",
   "execution_count": 76,
   "metadata": {},
   "outputs": [],
   "source": [
    "G = [κ(x₁,x₂) for (x₁,x₂) in Iterators.product(X_vec,X_vec)];"
   ]
  },
  {
   "cell_type": "markdown",
   "metadata": {},
   "source": [
    "We also need to transform the output data so that it takes values in $\\{-1,1\\}$."
   ]
  },
  {
   "cell_type": "code",
   "execution_count": 77,
   "metadata": {},
   "outputs": [],
   "source": [
    "y = map(Y) do Yᵢ\n",
    "    if Yᵢ==l₁\n",
    "        -1\n",
    "    elseif Yᵢ==l₂\n",
    "        1\n",
    "    end\n",
    "    end;"
   ]
  },
  {
   "cell_type": "markdown",
   "metadata": {},
   "source": [
    "We are now ready to set up the optimization problem solving the Dual SVM.\n",
    "\n",
    "The regularization parameter is set to $C=5$.\n",
    "\n",
    "We use [JuMP](https://jump.dev/JuMP.jl/stable/) for setting up the model and [NLopt](https://github.com/JuliaOpt/NLopt.jl) for solving the optimization problem."
   ]
  },
  {
   "cell_type": "code",
   "execution_count": 78,
   "metadata": {},
   "outputs": [],
   "source": [
    "C = 5;\n",
    "model = Model(NLopt.Optimizer)\n",
    "\n",
    "set_optimizer_attribute(model, \"algorithm\", :AUGLAG)\n",
    "set_optimizer_attribute(model, \"local_optimizer\", :LD_LBFGS)\n",
    "\n",
    "@variable(model, α[1:n]);"
   ]
  },
  {
   "cell_type": "markdown",
   "metadata": {},
   "source": [
    "The constraints are defined next:"
   ]
  },
  {
   "cell_type": "code",
   "execution_count": 79,
   "metadata": {},
   "outputs": [],
   "source": [
    "@constraint(model, c₁, sum(y .* α) .== 0);\n",
    "@constraint(model, c₂, α .>= zeros(n));\n",
    "@constraint(model, c₃, α .<= C .* ones(n));"
   ]
  },
  {
   "cell_type": "markdown",
   "metadata": {},
   "source": [
    "Finally, we define the objective function."
   ]
  },
  {
   "cell_type": "code",
   "execution_count": 80,
   "metadata": {},
   "outputs": [],
   "source": [
    "@objective(model, Min, \n",
    "           4 * sum(α) - sum(y[i]*α[i]*y[j]*α[j]*G[i,j] \n",
    "            for (i,j) in Iterators.product(1:n,1:n)));"
   ]
  },
  {
   "cell_type": "markdown",
   "metadata": {},
   "source": [
    "Using the following command we can now solve the optimization problem "
   ]
  },
  {
   "cell_type": "code",
   "execution_count": 81,
   "metadata": {},
   "outputs": [],
   "source": [
    "JuMP.optimize!(model)"
   ]
  },
  {
   "cell_type": "markdown",
   "metadata": {},
   "source": [
    "We use the optimal value to define $\\psi$ and $b$ for our SVM."
   ]
  },
  {
   "cell_type": "code",
   "execution_count": 82,
   "metadata": {},
   "outputs": [
    {
     "data": {
      "text/plain": [
       "8.056516850561867"
      ]
     },
     "execution_count": 82,
     "metadata": {},
     "output_type": "execute_result"
    }
   ],
   "source": [
    "α_opt = value.(α);\n",
    "ψ(x) =  sum(0.5 * y[i] * α_opt[i] * κ(x, X_vec[i]) for i in 1:n)\n",
    "b = median(abs(y[i] - ψ(X_vec[i])) for i in 1:n if abs(α_opt[i]) > 1e-8)"
   ]
  },
  {
   "cell_type": "markdown",
   "metadata": {},
   "source": [
    "This defines the following function for classification."
   ]
  },
  {
   "cell_type": "code",
   "execution_count": 83,
   "metadata": {},
   "outputs": [
    {
     "data": {
      "text/plain": [
       "f_class (generic function with 1 method)"
      ]
     },
     "execution_count": 83,
     "metadata": {},
     "output_type": "execute_result"
    }
   ],
   "source": [
    "f_class(x) = Int(sign(ψ(x) + b))"
   ]
  },
  {
   "cell_type": "markdown",
   "metadata": {},
   "source": [
    "We can use `f_class` in a prediction function:"
   ]
  },
  {
   "cell_type": "code",
   "execution_count": 84,
   "metadata": {},
   "outputs": [
    {
     "data": {
      "text/plain": [
       "predict (generic function with 1 method)"
      ]
     },
     "execution_count": 84,
     "metadata": {},
     "output_type": "execute_result"
    }
   ],
   "source": [
    "function predict(f, x)\n",
    "    if f(x) == -1\n",
    "        println(\"This is a $(labels[l₁]):\")\n",
    "    elseif f(x) == 1\n",
    "         println(\"This is a $(labels[l₂]):\")\n",
    "    end\n",
    "end"
   ]
  },
  {
   "cell_type": "markdown",
   "metadata": {},
   "source": [
    "#### How well does our prediction function work?\n",
    "\n",
    "We can now check the quality of our prediction function.\n",
    "\n",
    "For instance, we can randomly choose items from the test data and let our algorithm predict what item it is."
   ]
  },
  {
   "cell_type": "code",
   "execution_count": 85,
   "metadata": {},
   "outputs": [
    {
     "name": "stdout",
     "output_type": "stream",
     "text": [
      "This is a Coat:\n"
     ]
    },
    {
     "data": {
      "image/png": "[encoded data removed]",
      "text/plain": [
       "28×28 reinterpret(reshape, Gray{N0f8}, ::Array{N0f8,2}) with eltype Gray{N0f8}:\n",
       " Gray{N0f8}(0.0)  Gray{N0f8}(0.0)  …  Gray{N0f8}(0.0)  Gray{N0f8}(0.0)\n",
       " Gray{N0f8}(0.0)  Gray{N0f8}(0.0)     Gray{N0f8}(0.0)  Gray{N0f8}(0.0)\n",
       " Gray{N0f8}(0.0)  Gray{N0f8}(0.0)     Gray{N0f8}(0.0)  Gray{N0f8}(0.0)\n",
       " Gray{N0f8}(0.0)  Gray{N0f8}(0.0)     Gray{N0f8}(0.0)  Gray{N0f8}(0.0)\n",
       " Gray{N0f8}(0.0)  Gray{N0f8}(0.0)     Gray{N0f8}(0.0)  Gray{N0f8}(0.0)\n",
       " Gray{N0f8}(0.0)  Gray{N0f8}(0.0)  …  Gray{N0f8}(0.0)  Gray{N0f8}(0.0)\n",
       " Gray{N0f8}(0.0)  Gray{N0f8}(0.0)     Gray{N0f8}(0.0)  Gray{N0f8}(0.0)\n",
       " Gray{N0f8}(0.0)  Gray{N0f8}(0.0)     Gray{N0f8}(0.0)  Gray{N0f8}(0.0)\n",
       " Gray{N0f8}(0.0)  Gray{N0f8}(0.0)     Gray{N0f8}(0.0)  Gray{N0f8}(0.0)\n",
       " Gray{N0f8}(0.0)  Gray{N0f8}(0.0)     Gray{N0f8}(0.0)  Gray{N0f8}(0.0)\n",
       " Gray{N0f8}(0.0)  Gray{N0f8}(0.0)  …  Gray{N0f8}(0.0)  Gray{N0f8}(0.0)\n",
       " Gray{N0f8}(0.0)  Gray{N0f8}(0.0)     Gray{N0f8}(0.0)  Gray{N0f8}(0.0)\n",
       " Gray{N0f8}(0.0)  Gray{N0f8}(0.0)     Gray{N0f8}(0.0)  Gray{N0f8}(0.0)\n",
       " ⋮                                 ⋱                   \n",
       " Gray{N0f8}(0.0)  Gray{N0f8}(0.0)     Gray{N0f8}(0.0)  Gray{N0f8}(0.0)\n",
       " Gray{N0f8}(0.0)  Gray{N0f8}(0.0)     Gray{N0f8}(0.0)  Gray{N0f8}(0.0)\n",
       " Gray{N0f8}(0.0)  Gray{N0f8}(0.0)     Gray{N0f8}(0.0)  Gray{N0f8}(0.0)\n",
       " Gray{N0f8}(0.0)  Gray{N0f8}(0.0)     Gray{N0f8}(0.0)  Gray{N0f8}(0.0)\n",
       " Gray{N0f8}(0.0)  Gray{N0f8}(0.0)  …  Gray{N0f8}(0.0)  Gray{N0f8}(0.0)\n",
       " Gray{N0f8}(0.0)  Gray{N0f8}(0.0)     Gray{N0f8}(0.0)  Gray{N0f8}(0.0)\n",
       " Gray{N0f8}(0.0)  Gray{N0f8}(0.0)     Gray{N0f8}(0.0)  Gray{N0f8}(0.0)\n",
       " Gray{N0f8}(0.0)  Gray{N0f8}(0.0)     Gray{N0f8}(0.0)  Gray{N0f8}(0.0)\n",
       " Gray{N0f8}(0.0)  Gray{N0f8}(0.0)     Gray{N0f8}(0.0)  Gray{N0f8}(0.0)\n",
       " Gray{N0f8}(0.0)  Gray{N0f8}(0.0)  …  Gray{N0f8}(0.0)  Gray{N0f8}(0.0)\n",
       " Gray{N0f8}(0.0)  Gray{N0f8}(0.0)     Gray{N0f8}(0.0)  Gray{N0f8}(0.0)\n",
       " Gray{N0f8}(0.0)  Gray{N0f8}(0.0)     Gray{N0f8}(0.0)  Gray{N0f8}(0.0)"
      ]
     },
     "execution_count": 85,
     "metadata": {},
     "output_type": "execute_result"
    }
   ],
   "source": [
    "ℓ = rand(1:n)\n",
    "predict(f_class, X_test_vec[ℓ])\n",
    "FashionMNIST.convert2image(X_test[:,:,ℓ])"
   ]
  },
  {
   "cell_type": "markdown",
   "metadata": {},
   "source": [
    "As a second check, we plot projected test data points along with our predictions. \n"
   ]
  },
  {
   "cell_type": "code",
   "execution_count": 86,
   "metadata": {},
   "outputs": [],
   "source": [
    "x̄_test = mean(X_test_vec);\n",
    "X_test_Pr = hcat(map(x -> Pr*(x - x̄_test), X_test_vec)...);"
   ]
  },
  {
   "cell_type": "markdown",
   "metadata": {},
   "source": [
    "\n",
    "For this, we produce $y_{\\mathrm{test}}\\in\\{-1,1\\}$ for the true labels and $\\hat{y}_{\\mathrm{test}}$ is the vector of predictions "
   ]
  },
  {
   "cell_type": "code",
   "execution_count": 87,
   "metadata": {},
   "outputs": [],
   "source": [
    "y_test = map(Y_test) do y\n",
    "    if y==l₁\n",
    "        -1\n",
    "    elseif y==l₂\n",
    "        1\n",
    "    end\n",
    "    end;\n",
    "ŷ_test = map(f_class, X_test_vec);"
   ]
  },
  {
   "cell_type": "markdown",
   "metadata": {},
   "source": [
    "The visualization comes next:"
   ]
  },
  {
   "cell_type": "code",
   "execution_count": 88,
   "metadata": {},
   "outputs": [
    {
     "data": {
      "image/svg+xml": [
       "<?xml version=\"1.0\" encoding=\"utf-8\"?>\n",
       "<svg xmlns=\"http://www.w3.org/2000/svg\" xmlns:xlink=\"http://www.w3.org/1999/xlink\" width=\"600\" height=\"300\" viewBox=\"0 0 2400 1200\">\n",
       "<defs>\n",
       "  <clipPath id=\"clip730\">\n",
       "    <rect x=\"0\" y=\"0\" width=\"2400\" height=\"1200\"/>\n",
       "  </clipPath>\n",
       "</defs>\n",
       "<path clip-path=\"url(#clip730)\" d=\"\n",
       "M0 1200 L2400 1200 L2400 0 L0 0  Z\n",
       "  \" fill=\"#ffffff\" fill-rule=\"evenodd\" fill-opacity=\"1\"/>\n",
       "<defs>\n",
       "  <clipPath id=\"clip731\">\n",
       "    <rect x=\"480\" y=\"0\" width=\"1681\" height=\"1200\"/>\n",
       "  </clipPath>\n",
       "</defs>\n",
       "<path clip-path=\"url(#clip730)\" d=\"\n",
       "M193.936 1047.7 L1152.76 1047.7 L1152.76 47.2441 L193.936 47.2441  Z\n",
       "  \" fill=\"#ffffff\" fill-rule=\"evenodd\" fill-opacity=\"1\"/>\n",
       "<defs>\n",
       "  <clipPath id=\"clip732\">\n",
       "    <rect x=\"193\" y=\"47\" width=\"960\" height=\"1001\"/>\n",
       "  </clipPath>\n",
       "</defs>\n",
       "<polyline clip-path=\"url(#clip732)\" style=\"stroke:#000000; stroke-linecap:butt; stroke-linejoin:round; stroke-width:2; stroke-opacity:0.1; fill:none\" points=\"\n",
       "  324.57,1047.7 324.57,47.2441 \n",
       "  \"/>\n",
       "<polyline clip-path=\"url(#clip732)\" style=\"stroke:#000000; stroke-linecap:butt; stroke-linejoin:round; stroke-width:2; stroke-opacity:0.1; fill:none\" points=\"\n",
       "  492.207,1047.7 492.207,47.2441 \n",
       "  \"/>\n",
       "<polyline clip-path=\"url(#clip732)\" style=\"stroke:#000000; stroke-linecap:butt; stroke-linejoin:round; stroke-width:2; stroke-opacity:0.1; fill:none\" points=\"\n",
       "  659.844,1047.7 659.844,47.2441 \n",
       "  \"/>\n",
       "<polyline clip-path=\"url(#clip732)\" style=\"stroke:#000000; stroke-linecap:butt; stroke-linejoin:round; stroke-width:2; stroke-opacity:0.1; fill:none\" points=\"\n",
       "  827.481,1047.7 827.481,47.2441 \n",
       "  \"/>\n",
       "<polyline clip-path=\"url(#clip732)\" style=\"stroke:#000000; stroke-linecap:butt; stroke-linejoin:round; stroke-width:2; stroke-opacity:0.1; fill:none\" points=\"\n",
       "  995.118,1047.7 995.118,47.2441 \n",
       "  \"/>\n",
       "<polyline clip-path=\"url(#clip730)\" style=\"stroke:#000000; stroke-linecap:butt; stroke-linejoin:round; stroke-width:4; stroke-opacity:1; fill:none\" points=\"\n",
       "  193.936,1047.7 1152.76,1047.7 \n",
       "  \"/>\n",
       "<polyline clip-path=\"url(#clip730)\" style=\"stroke:#000000; stroke-linecap:butt; stroke-linejoin:round; stroke-width:4; stroke-opacity:1; fill:none\" points=\"\n",
       "  324.57,1047.7 324.57,1028.8 \n",
       "  \"/>\n",
       "<polyline clip-path=\"url(#clip730)\" style=\"stroke:#000000; stroke-linecap:butt; stroke-linejoin:round; stroke-width:4; stroke-opacity:1; fill:none\" points=\"\n",
       "  492.207,1047.7 492.207,1028.8 \n",
       "  \"/>\n",
       "<polyline clip-path=\"url(#clip730)\" style=\"stroke:#000000; stroke-linecap:butt; stroke-linejoin:round; stroke-width:4; stroke-opacity:1; fill:none\" points=\"\n",
       "  659.844,1047.7 659.844,1028.8 \n",
       "  \"/>\n",
       "<polyline clip-path=\"url(#clip730)\" style=\"stroke:#000000; stroke-linecap:butt; stroke-linejoin:round; stroke-width:4; stroke-opacity:1; fill:none\" points=\"\n",
       "  827.481,1047.7 827.481,1028.8 \n",
       "  \"/>\n",
       "<polyline clip-path=\"url(#clip730)\" style=\"stroke:#000000; stroke-linecap:butt; stroke-linejoin:round; stroke-width:4; stroke-opacity:1; fill:none\" points=\"\n",
       "  995.118,1047.7 995.118,1028.8 \n",
       "  \"/>\n",
       "<path clip-path=\"url(#clip730)\" d=\"M271.017 1093.27 L300.693 1093.27 L300.693 1097.21 L271.017 1097.21 L271.017 1093.27 Z\" fill=\"#000000\" fill-rule=\"evenodd\" fill-opacity=\"1\" /><path clip-path=\"url(#clip730)\" d=\"M320.785 1078.62 Q317.174 1078.62 315.345 1082.18 Q313.54 1085.72 313.54 1092.85 Q313.54 1099.96 315.345 1103.53 Q317.174 1107.07 320.785 1107.07 Q324.419 1107.07 326.225 1103.53 Q328.054 1099.96 328.054 1092.85 Q328.054 1085.72 326.225 1082.18 Q324.419 1078.62 320.785 1078.62 M320.785 1074.91 Q326.595 1074.91 329.651 1079.52 Q332.73 1084.1 332.73 1092.85 Q332.73 1101.58 329.651 1106.19 Q326.595 1110.77 320.785 1110.77 Q314.975 1110.77 311.896 1106.19 Q308.841 1101.58 308.841 1092.85 Q308.841 1084.1 311.896 1079.52 Q314.975 1074.91 320.785 1074.91 Z\" fill=\"#000000\" fill-rule=\"evenodd\" fill-opacity=\"1\" /><path clip-path=\"url(#clip730)\" d=\"M340.947 1104.22 L345.831 1104.22 L345.831 1110.1 L340.947 1110.1 L340.947 1104.22 Z\" fill=\"#000000\" fill-rule=\"evenodd\" fill-opacity=\"1\" /><path clip-path=\"url(#clip730)\" d=\"M366.595 1090.96 Q363.447 1090.96 361.595 1093.11 Q359.766 1095.26 359.766 1099.01 Q359.766 1102.74 361.595 1104.91 Q363.447 1107.07 366.595 1107.07 Q369.743 1107.07 371.572 1104.91 Q373.424 1102.74 373.424 1099.01 Q373.424 1095.26 371.572 1093.11 Q369.743 1090.96 366.595 1090.96 M375.877 1076.3 L375.877 1080.56 Q374.118 1079.73 372.313 1079.29 Q370.53 1078.85 368.771 1078.85 Q364.141 1078.85 361.688 1081.97 Q359.257 1085.1 358.91 1091.42 Q360.276 1089.41 362.336 1088.34 Q364.396 1087.25 366.873 1087.25 Q372.081 1087.25 375.09 1090.42 Q378.123 1093.57 378.123 1099.01 Q378.123 1104.34 374.975 1107.55 Q371.827 1110.77 366.595 1110.77 Q360.6 1110.77 357.428 1106.19 Q354.257 1101.58 354.257 1092.85 Q354.257 1084.66 358.146 1079.8 Q362.035 1074.91 368.586 1074.91 Q370.345 1074.91 372.127 1075.26 Q373.933 1075.61 375.877 1076.3 Z\" fill=\"#000000\" fill-rule=\"evenodd\" fill-opacity=\"1\" /><path clip-path=\"url(#clip730)\" d=\"M439.059 1093.27 L468.735 1093.27 L468.735 1097.21 L439.059 1097.21 L439.059 1093.27 Z\" fill=\"#000000\" fill-rule=\"evenodd\" fill-opacity=\"1\" /><path clip-path=\"url(#clip730)\" d=\"M488.827 1078.62 Q485.216 1078.62 483.388 1082.18 Q481.582 1085.72 481.582 1092.85 Q481.582 1099.96 483.388 1103.53 Q485.216 1107.07 488.827 1107.07 Q492.462 1107.07 494.267 1103.53 Q496.096 1099.96 496.096 1092.85 Q496.096 1085.72 494.267 1082.18 Q492.462 1078.62 488.827 1078.62 M488.827 1074.91 Q494.637 1074.91 497.693 1079.52 Q500.772 1084.1 500.772 1092.85 Q500.772 1101.58 497.693 1106.19 Q494.637 1110.77 488.827 1110.77 Q483.017 1110.77 479.938 1106.19 Q476.883 1101.58 476.883 1092.85 Q476.883 1084.1 479.938 1079.52 Q483.017 1074.91 488.827 1074.91 Z\" fill=\"#000000\" fill-rule=\"evenodd\" fill-opacity=\"1\" /><path clip-path=\"url(#clip730)\" d=\"M508.989 1104.22 L513.873 1104.22 L513.873 1110.1 L508.989 1110.1 L508.989 1104.22 Z\" fill=\"#000000\" fill-rule=\"evenodd\" fill-opacity=\"1\" /><path clip-path=\"url(#clip730)\" d=\"M538.225 1091.47 Q541.582 1092.18 543.457 1094.45 Q545.355 1096.72 545.355 1100.05 Q545.355 1105.17 541.836 1107.97 Q538.318 1110.77 531.836 1110.77 Q529.66 1110.77 527.346 1110.33 Q525.054 1109.91 522.6 1109.06 L522.6 1104.54 Q524.545 1105.68 526.86 1106.26 Q529.174 1106.84 531.697 1106.84 Q536.096 1106.84 538.387 1105.1 Q540.702 1103.36 540.702 1100.05 Q540.702 1097 538.549 1095.29 Q536.42 1093.55 532.6 1093.55 L528.572 1093.55 L528.572 1089.71 L532.785 1089.71 Q536.234 1089.71 538.063 1088.34 Q539.892 1086.95 539.892 1084.36 Q539.892 1081.7 537.994 1080.29 Q536.119 1078.85 532.6 1078.85 Q530.679 1078.85 528.48 1079.27 Q526.281 1079.68 523.642 1080.56 L523.642 1076.4 Q526.304 1075.66 528.619 1075.29 Q530.957 1074.91 533.017 1074.91 Q538.341 1074.91 541.443 1077.35 Q544.545 1079.75 544.545 1083.87 Q544.545 1086.74 542.901 1088.73 Q541.258 1090.7 538.225 1091.47 Z\" fill=\"#000000\" fill-rule=\"evenodd\" fill-opacity=\"1\" /><path clip-path=\"url(#clip730)\" d=\"M637.228 1078.62 Q633.617 1078.62 631.789 1082.18 Q629.983 1085.72 629.983 1092.85 Q629.983 1099.96 631.789 1103.53 Q633.617 1107.07 637.228 1107.07 Q640.863 1107.07 642.668 1103.53 Q644.497 1099.96 644.497 1092.85 Q644.497 1085.72 642.668 1082.18 Q640.863 1078.62 637.228 1078.62 M637.228 1074.91 Q643.039 1074.91 646.094 1079.52 Q649.173 1084.1 649.173 1092.85 Q649.173 1101.58 646.094 1106.19 Q643.039 1110.77 637.228 1110.77 Q631.418 1110.77 628.34 1106.19 Q625.284 1101.58 625.284 1092.85 Q625.284 1084.1 628.34 1079.52 Q631.418 1074.91 637.228 1074.91 Z\" fill=\"#000000\" fill-rule=\"evenodd\" fill-opacity=\"1\" /><path clip-path=\"url(#clip730)\" d=\"M657.39 1104.22 L662.275 1104.22 L662.275 1110.1 L657.39 1110.1 L657.39 1104.22 Z\" fill=\"#000000\" fill-rule=\"evenodd\" fill-opacity=\"1\" /><path clip-path=\"url(#clip730)\" d=\"M682.46 1078.62 Q678.849 1078.62 677.02 1082.18 Q675.214 1085.72 675.214 1092.85 Q675.214 1099.96 677.02 1103.53 Q678.849 1107.07 682.46 1107.07 Q686.094 1107.07 687.899 1103.53 Q689.728 1099.96 689.728 1092.85 Q689.728 1085.72 687.899 1082.18 Q686.094 1078.62 682.46 1078.62 M682.46 1074.91 Q688.27 1074.91 691.325 1079.52 Q694.404 1084.1 694.404 1092.85 Q694.404 1101.58 691.325 1106.19 Q688.27 1110.77 682.46 1110.77 Q676.649 1110.77 673.571 1106.19 Q670.515 1101.58 670.515 1092.85 Q670.515 1084.1 673.571 1079.52 Q676.649 1074.91 682.46 1074.91 Z\" fill=\"#000000\" fill-rule=\"evenodd\" fill-opacity=\"1\" /><path clip-path=\"url(#clip730)\" d=\"M805.19 1078.62 Q801.578 1078.62 799.75 1082.18 Q797.944 1085.72 797.944 1092.85 Q797.944 1099.96 799.75 1103.53 Q801.578 1107.07 805.19 1107.07 Q808.824 1107.07 810.629 1103.53 Q812.458 1099.96 812.458 1092.85 Q812.458 1085.72 810.629 1082.18 Q808.824 1078.62 805.19 1078.62 M805.19 1074.91 Q811 1074.91 814.055 1079.52 Q817.134 1084.1 817.134 1092.85 Q817.134 1101.58 814.055 1106.19 Q811 1110.77 805.19 1110.77 Q799.379 1110.77 796.301 1106.19 Q793.245 1101.58 793.245 1092.85 Q793.245 1084.1 796.301 1079.52 Q799.379 1074.91 805.19 1074.91 Z\" fill=\"#000000\" fill-rule=\"evenodd\" fill-opacity=\"1\" /><path clip-path=\"url(#clip730)\" d=\"M825.352 1104.22 L830.236 1104.22 L830.236 1110.1 L825.352 1110.1 L825.352 1104.22 Z\" fill=\"#000000\" fill-rule=\"evenodd\" fill-opacity=\"1\" /><path clip-path=\"url(#clip730)\" d=\"M854.587 1091.47 Q857.944 1092.18 859.819 1094.45 Q861.717 1096.72 861.717 1100.05 Q861.717 1105.17 858.199 1107.97 Q854.68 1110.77 848.199 1110.77 Q846.023 1110.77 843.708 1110.33 Q841.416 1109.91 838.963 1109.06 L838.963 1104.54 Q840.907 1105.68 843.222 1106.26 Q845.537 1106.84 848.06 1106.84 Q852.458 1106.84 854.749 1105.1 Q857.064 1103.36 857.064 1100.05 Q857.064 1097 854.912 1095.29 Q852.782 1093.55 848.962 1093.55 L844.935 1093.55 L844.935 1089.71 L849.148 1089.71 Q852.597 1089.71 854.425 1088.34 Q856.254 1086.95 856.254 1084.36 Q856.254 1081.7 854.356 1080.29 Q852.481 1078.85 848.962 1078.85 Q847.041 1078.85 844.842 1079.27 Q842.643 1079.68 840.004 1080.56 L840.004 1076.4 Q842.666 1075.66 844.981 1075.29 Q847.319 1074.91 849.379 1074.91 Q854.703 1074.91 857.805 1077.35 Q860.907 1079.75 860.907 1083.87 Q860.907 1086.74 859.263 1088.73 Q857.62 1090.7 854.587 1091.47 Z\" fill=\"#000000\" fill-rule=\"evenodd\" fill-opacity=\"1\" /><path clip-path=\"url(#clip730)\" d=\"M972.422 1078.62 Q968.81 1078.62 966.982 1082.18 Q965.176 1085.72 965.176 1092.85 Q965.176 1099.96 966.982 1103.53 Q968.81 1107.07 972.422 1107.07 Q976.056 1107.07 977.861 1103.53 Q979.69 1099.96 979.69 1092.85 Q979.69 1085.72 977.861 1082.18 Q976.056 1078.62 972.422 1078.62 M972.422 1074.91 Q978.232 1074.91 981.287 1079.52 Q984.366 1084.1 984.366 1092.85 Q984.366 1101.58 981.287 1106.19 Q978.232 1110.77 972.422 1110.77 Q966.611 1110.77 963.533 1106.19 Q960.477 1101.58 960.477 1092.85 Q960.477 1084.1 963.533 1079.52 Q966.611 1074.91 972.422 1074.91 Z\" fill=\"#000000\" fill-rule=\"evenodd\" fill-opacity=\"1\" /><path clip-path=\"url(#clip730)\" d=\"M992.584 1104.22 L997.468 1104.22 L997.468 1110.1 L992.584 1110.1 L992.584 1104.22 Z\" fill=\"#000000\" fill-rule=\"evenodd\" fill-opacity=\"1\" /><path clip-path=\"url(#clip730)\" d=\"M1018.23 1090.96 Q1015.08 1090.96 1013.23 1093.11 Q1011.4 1095.26 1011.4 1099.01 Q1011.4 1102.74 1013.23 1104.91 Q1015.08 1107.07 1018.23 1107.07 Q1021.38 1107.07 1023.21 1104.91 Q1025.06 1102.74 1025.06 1099.01 Q1025.06 1095.26 1023.21 1093.11 Q1021.38 1090.96 1018.23 1090.96 M1027.51 1076.3 L1027.51 1080.56 Q1025.75 1079.73 1023.95 1079.29 Q1022.17 1078.85 1020.41 1078.85 Q1015.78 1078.85 1013.32 1081.97 Q1010.89 1085.1 1010.55 1091.42 Q1011.91 1089.41 1013.97 1088.34 Q1016.03 1087.25 1018.51 1087.25 Q1023.72 1087.25 1026.73 1090.42 Q1029.76 1093.57 1029.76 1099.01 Q1029.76 1104.34 1026.61 1107.55 Q1023.46 1110.77 1018.23 1110.77 Q1012.24 1110.77 1009.06 1106.19 Q1005.89 1101.58 1005.89 1092.85 Q1005.89 1084.66 1009.78 1079.8 Q1013.67 1074.91 1020.22 1074.91 Q1021.98 1074.91 1023.76 1075.26 Q1025.57 1075.61 1027.51 1076.3 Z\" fill=\"#000000\" fill-rule=\"evenodd\" fill-opacity=\"1\" /><path clip-path=\"url(#clip730)\" d=\"M357.591 1146.79 L357.591 1156.92 L369.654 1156.92 L369.654 1161.47 L357.591 1161.47 L357.591 1180.82 Q357.591 1185.18 358.769 1186.42 Q359.978 1187.66 363.638 1187.66 L369.654 1187.66 L369.654 1192.56 L363.638 1192.56 Q356.859 1192.56 354.281 1190.05 Q351.703 1187.5 351.703 1180.82 L351.703 1161.47 L347.406 1161.47 L347.406 1156.92 L351.703 1156.92 L351.703 1146.79 L357.591 1146.79 Z\" fill=\"#000000\" fill-rule=\"evenodd\" fill-opacity=\"1\" /><path clip-path=\"url(#clip730)\" d=\"M398.013 1162.39 Q397.027 1161.82 395.849 1161.56 Q394.703 1161.28 393.303 1161.28 Q388.337 1161.28 385.664 1164.52 Q383.022 1167.74 383.022 1173.79 L383.022 1192.56 L377.134 1192.56 L377.134 1156.92 L383.022 1156.92 L383.022 1162.45 Q384.868 1159.21 387.828 1157.65 Q390.788 1156.06 395.021 1156.06 Q395.626 1156.06 396.358 1156.15 Q397.09 1156.22 397.981 1156.37 L398.013 1162.39 Z\" fill=\"#000000\" fill-rule=\"evenodd\" fill-opacity=\"1\" /><path clip-path=\"url(#clip730)\" d=\"M403.551 1178.5 L403.551 1156.92 L409.408 1156.92 L409.408 1178.27 Q409.408 1183.33 411.381 1185.88 Q413.355 1188.39 417.301 1188.39 Q422.044 1188.39 424.781 1185.37 Q427.55 1182.35 427.55 1177.13 L427.55 1156.92 L433.407 1156.92 L433.407 1192.56 L427.55 1192.56 L427.55 1187.09 Q425.418 1190.34 422.585 1191.93 Q419.784 1193.49 416.06 1193.49 Q409.917 1193.49 406.734 1189.67 Q403.551 1185.85 403.551 1178.5 M418.288 1156.06 L418.288 1156.06 Z\" fill=\"#000000\" fill-rule=\"evenodd\" fill-opacity=\"1\" /><path clip-path=\"url(#clip730)\" d=\"M475.961 1173.28 L475.961 1176.14 L449.034 1176.14 Q449.416 1182.19 452.663 1185.37 Q455.941 1188.52 461.766 1188.52 Q465.14 1188.52 468.291 1187.69 Q471.473 1186.87 474.593 1185.21 L474.593 1190.75 Q471.442 1192.09 468.131 1192.79 Q464.821 1193.49 461.416 1193.49 Q452.886 1193.49 447.889 1188.52 Q442.923 1183.56 442.923 1175.09 Q442.923 1166.34 447.634 1161.21 Q452.376 1156.06 460.397 1156.06 Q467.59 1156.06 471.76 1160.7 Q475.961 1165.32 475.961 1173.28 M470.105 1171.56 Q470.041 1166.75 467.399 1163.89 Q464.789 1161.02 460.461 1161.02 Q455.559 1161.02 452.599 1163.79 Q449.671 1166.56 449.225 1171.59 L470.105 1171.56 Z\" fill=\"#000000\" fill-rule=\"evenodd\" fill-opacity=\"1\" /><path clip-path=\"url(#clip730)\" d=\"M506.294 1143.04 L512.15 1143.04 L512.15 1192.56 L506.294 1192.56 L506.294 1143.04 Z\" fill=\"#000000\" fill-rule=\"evenodd\" fill-opacity=\"1\" /><path clip-path=\"url(#clip730)\" d=\"M540.605 1174.64 Q533.507 1174.64 530.77 1176.27 Q528.033 1177.89 528.033 1181.81 Q528.033 1184.92 530.07 1186.77 Q532.139 1188.59 535.672 1188.59 Q540.541 1188.59 543.47 1185.15 Q546.43 1181.68 546.43 1175.95 L546.43 1174.64 L540.605 1174.64 M552.286 1172.23 L552.286 1192.56 L546.43 1192.56 L546.43 1187.15 Q544.424 1190.4 541.433 1191.96 Q538.441 1193.49 534.112 1193.49 Q528.638 1193.49 525.391 1190.43 Q522.176 1187.34 522.176 1182.19 Q522.176 1176.17 526.187 1173.12 Q530.229 1170.06 538.218 1170.06 L546.43 1170.06 L546.43 1169.49 Q546.43 1165.45 543.756 1163.25 Q541.114 1161.02 536.308 1161.02 Q533.253 1161.02 530.356 1161.75 Q527.46 1162.49 524.786 1163.95 L524.786 1158.54 Q528.001 1157.3 531.025 1156.69 Q534.048 1156.06 536.913 1156.06 Q544.647 1156.06 548.467 1160.07 Q552.286 1164.08 552.286 1172.23 Z\" fill=\"#000000\" fill-rule=\"evenodd\" fill-opacity=\"1\" /><path clip-path=\"url(#clip730)\" d=\"M589.939 1174.77 Q589.939 1168.31 587.266 1164.65 Q584.624 1160.96 579.977 1160.96 Q575.33 1160.96 572.656 1164.65 Q570.015 1168.31 570.015 1174.77 Q570.015 1181.23 572.656 1184.92 Q575.33 1188.59 579.977 1188.59 Q584.624 1188.59 587.266 1184.92 Q589.939 1181.23 589.939 1174.77 M570.015 1162.33 Q571.861 1159.14 574.662 1157.62 Q577.494 1156.06 581.409 1156.06 Q587.902 1156.06 591.944 1161.21 Q596.019 1166.37 596.019 1174.77 Q596.019 1183.17 591.944 1188.33 Q587.902 1193.49 581.409 1193.49 Q577.494 1193.49 574.662 1191.96 Q571.861 1190.4 570.015 1187.22 L570.015 1192.56 L564.126 1192.56 L564.126 1143.04 L570.015 1143.04 L570.015 1162.33 Z\" fill=\"#000000\" fill-rule=\"evenodd\" fill-opacity=\"1\" /><path clip-path=\"url(#clip730)\" d=\"M636.218 1173.28 L636.218 1176.14 L609.291 1176.14 Q609.673 1182.19 612.919 1185.37 Q616.198 1188.52 622.022 1188.52 Q625.396 1188.52 628.547 1187.69 Q631.73 1186.87 634.849 1185.21 L634.849 1190.75 Q631.698 1192.09 628.388 1192.79 Q625.078 1193.49 621.672 1193.49 Q613.142 1193.49 608.145 1188.52 Q603.18 1183.56 603.18 1175.09 Q603.18 1166.34 607.891 1161.21 Q612.633 1156.06 620.654 1156.06 Q627.847 1156.06 632.017 1160.7 Q636.218 1165.32 636.218 1173.28 M630.362 1171.56 Q630.298 1166.75 627.656 1163.89 Q625.046 1161.02 620.717 1161.02 Q615.816 1161.02 612.856 1163.79 Q609.928 1166.56 609.482 1171.59 L630.362 1171.56 Z\" fill=\"#000000\" fill-rule=\"evenodd\" fill-opacity=\"1\" /><path clip-path=\"url(#clip730)\" d=\"M645.83 1143.04 L651.687 1143.04 L651.687 1192.56 L645.83 1192.56 L645.83 1143.04 Z\" fill=\"#000000\" fill-rule=\"evenodd\" fill-opacity=\"1\" /><path clip-path=\"url(#clip730)\" d=\"M686.666 1157.97 L686.666 1163.5 Q684.184 1162.23 681.51 1161.59 Q678.836 1160.96 675.972 1160.96 Q671.611 1160.96 669.415 1162.29 Q667.251 1163.63 667.251 1166.31 Q667.251 1168.34 668.81 1169.52 Q670.37 1170.67 675.081 1171.72 L677.086 1172.16 Q683.324 1173.5 685.934 1175.95 Q688.576 1178.37 688.576 1182.73 Q688.576 1187.69 684.629 1190.59 Q680.714 1193.49 673.839 1193.49 Q670.975 1193.49 667.856 1192.91 Q664.768 1192.37 661.331 1191.26 L661.331 1185.21 Q664.577 1186.9 667.728 1187.76 Q670.879 1188.59 673.967 1188.59 Q678.104 1188.59 680.332 1187.18 Q682.56 1185.75 682.56 1183.17 Q682.56 1180.79 680.937 1179.51 Q679.346 1178.24 673.903 1177.06 L671.866 1176.59 Q666.423 1175.44 664.004 1173.08 Q661.585 1170.7 661.585 1166.56 Q661.585 1161.53 665.15 1158.79 Q668.715 1156.06 675.272 1156.06 Q678.518 1156.06 681.383 1156.53 Q684.247 1157.01 686.666 1157.97 Z\" fill=\"#000000\" fill-rule=\"evenodd\" fill-opacity=\"1\" /><path clip-path=\"url(#clip730)\" d=\"M724.415 1146.79 L724.415 1156.92 L736.478 1156.92 L736.478 1161.47 L724.415 1161.47 L724.415 1180.82 Q724.415 1185.18 725.592 1186.42 Q726.802 1187.66 730.462 1187.66 L736.478 1187.66 L736.478 1192.56 L730.462 1192.56 Q723.683 1192.56 721.105 1190.05 Q718.527 1187.5 718.527 1180.82 L718.527 1161.47 L714.23 1161.47 L714.23 1156.92 L718.527 1156.92 L718.527 1146.79 L724.415 1146.79 Z\" fill=\"#000000\" fill-rule=\"evenodd\" fill-opacity=\"1\" /><path clip-path=\"url(#clip730)\" d=\"M774.672 1173.28 L774.672 1176.14 L747.745 1176.14 Q748.127 1182.19 751.374 1185.37 Q754.652 1188.52 760.477 1188.52 Q763.85 1188.52 767.001 1187.69 Q770.184 1186.87 773.303 1185.21 L773.303 1190.75 Q770.152 1192.09 766.842 1192.79 Q763.532 1193.49 760.126 1193.49 Q751.596 1193.49 746.599 1188.52 Q741.634 1183.56 741.634 1175.09 Q741.634 1166.34 746.345 1161.21 Q751.087 1156.06 759.108 1156.06 Q766.301 1156.06 770.471 1160.7 Q774.672 1165.32 774.672 1173.28 M768.816 1171.56 Q768.752 1166.75 766.11 1163.89 Q763.5 1161.02 759.172 1161.02 Q754.27 1161.02 751.31 1163.79 Q748.382 1166.56 747.936 1171.59 L768.816 1171.56 Z\" fill=\"#000000\" fill-rule=\"evenodd\" fill-opacity=\"1\" /><path clip-path=\"url(#clip730)\" d=\"M807.01 1157.97 L807.01 1163.5 Q804.527 1162.23 801.854 1161.59 Q799.18 1160.96 796.315 1160.96 Q791.955 1160.96 789.759 1162.29 Q787.594 1163.63 787.594 1166.31 Q787.594 1168.34 789.154 1169.52 Q790.714 1170.67 795.424 1171.72 L797.429 1172.16 Q803.668 1173.5 806.278 1175.95 Q808.92 1178.37 808.92 1182.73 Q808.92 1187.69 804.973 1190.59 Q801.058 1193.49 794.183 1193.49 Q791.318 1193.49 788.199 1192.91 Q785.112 1192.37 781.674 1191.26 L781.674 1185.21 Q784.921 1186.9 788.072 1187.76 Q791.223 1188.59 794.31 1188.59 Q798.448 1188.59 800.676 1187.18 Q802.904 1185.75 802.904 1183.17 Q802.904 1180.79 801.281 1179.51 Q799.689 1178.24 794.247 1177.06 L792.21 1176.59 Q786.767 1175.44 784.348 1173.08 Q781.929 1170.7 781.929 1166.56 Q781.929 1161.53 785.494 1158.79 Q789.059 1156.06 795.615 1156.06 Q798.862 1156.06 801.726 1156.53 Q804.591 1157.01 807.01 1157.97 Z\" fill=\"#000000\" fill-rule=\"evenodd\" fill-opacity=\"1\" /><path clip-path=\"url(#clip730)\" d=\"M824.038 1146.79 L824.038 1156.92 L836.101 1156.92 L836.101 1161.47 L824.038 1161.47 L824.038 1180.82 Q824.038 1185.18 825.216 1186.42 Q826.425 1187.66 830.086 1187.66 L836.101 1187.66 L836.101 1192.56 L830.086 1192.56 Q823.306 1192.56 820.728 1190.05 Q818.15 1187.5 818.15 1180.82 L818.15 1161.47 L813.853 1161.47 L813.853 1156.92 L818.15 1156.92 L818.15 1146.79 L824.038 1146.79 Z\" fill=\"#000000\" fill-rule=\"evenodd\" fill-opacity=\"1\" /><path clip-path=\"url(#clip730)\" d=\"M887.982 1162.33 L887.982 1143.04 L893.838 1143.04 L893.838 1192.56 L887.982 1192.56 L887.982 1187.22 Q886.136 1190.4 883.303 1191.96 Q880.502 1193.49 876.555 1193.49 Q870.094 1193.49 866.02 1188.33 Q861.978 1183.17 861.978 1174.77 Q861.978 1166.37 866.02 1161.21 Q870.094 1156.06 876.555 1156.06 Q880.502 1156.06 883.303 1157.62 Q886.136 1159.14 887.982 1162.33 M868.025 1174.77 Q868.025 1181.23 870.667 1184.92 Q873.341 1188.59 877.988 1188.59 Q882.634 1188.59 885.308 1184.92 Q887.982 1181.23 887.982 1174.77 Q887.982 1168.31 885.308 1164.65 Q882.634 1160.96 877.988 1160.96 Q873.341 1160.96 870.667 1164.65 Q868.025 1168.31 868.025 1174.77 Z\" fill=\"#000000\" fill-rule=\"evenodd\" fill-opacity=\"1\" /><path clip-path=\"url(#clip730)\" d=\"M922.102 1174.64 Q915.004 1174.64 912.267 1176.27 Q909.53 1177.89 909.53 1181.81 Q909.53 1184.92 911.567 1186.77 Q913.635 1188.59 917.168 1188.59 Q922.038 1188.59 924.966 1185.15 Q927.926 1181.68 927.926 1175.95 L927.926 1174.64 L922.102 1174.64 M933.783 1172.23 L933.783 1192.56 L927.926 1192.56 L927.926 1187.15 Q925.921 1190.4 922.929 1191.96 Q919.938 1193.49 915.609 1193.49 Q910.134 1193.49 906.888 1190.43 Q903.673 1187.34 903.673 1182.19 Q903.673 1176.17 907.684 1173.12 Q911.726 1170.06 919.715 1170.06 L927.926 1170.06 L927.926 1169.49 Q927.926 1165.45 925.253 1163.25 Q922.611 1161.02 917.805 1161.02 Q914.749 1161.02 911.853 1161.75 Q908.957 1162.49 906.283 1163.95 L906.283 1158.54 Q909.498 1157.3 912.521 1156.69 Q915.545 1156.06 918.41 1156.06 Q926.144 1156.06 929.964 1160.07 Q933.783 1164.08 933.783 1172.23 Z\" fill=\"#000000\" fill-rule=\"evenodd\" fill-opacity=\"1\" /><path clip-path=\"url(#clip730)\" d=\"M951.639 1146.79 L951.639 1156.92 L963.702 1156.92 L963.702 1161.47 L951.639 1161.47 L951.639 1180.82 Q951.639 1185.18 952.816 1186.42 Q954.026 1187.66 957.686 1187.66 L963.702 1187.66 L963.702 1192.56 L957.686 1192.56 Q950.907 1192.56 948.329 1190.05 Q945.75 1187.5 945.75 1180.82 L945.75 1161.47 L941.454 1161.47 L941.454 1156.92 L945.75 1156.92 L945.75 1146.79 L951.639 1146.79 Z\" fill=\"#000000\" fill-rule=\"evenodd\" fill-opacity=\"1\" /><path clip-path=\"url(#clip730)\" d=\"M987.605 1174.64 Q980.507 1174.64 977.77 1176.27 Q975.033 1177.89 975.033 1181.81 Q975.033 1184.92 977.07 1186.77 Q979.139 1188.59 982.672 1188.59 Q987.541 1188.59 990.47 1185.15 Q993.43 1181.68 993.43 1175.95 L993.43 1174.64 L987.605 1174.64 M999.286 1172.23 L999.286 1192.56 L993.43 1192.56 L993.43 1187.15 Q991.424 1190.4 988.433 1191.96 Q985.441 1193.49 981.112 1193.49 Q975.637 1193.49 972.391 1190.43 Q969.176 1187.34 969.176 1182.19 Q969.176 1176.17 973.187 1173.12 Q977.229 1170.06 985.218 1170.06 L993.43 1170.06 L993.43 1169.49 Q993.43 1165.45 990.756 1163.25 Q988.114 1161.02 983.308 1161.02 Q980.253 1161.02 977.356 1161.75 Q974.46 1162.49 971.786 1163.95 L971.786 1158.54 Q975.001 1157.3 978.025 1156.69 Q981.048 1156.06 983.913 1156.06 Q991.647 1156.06 995.467 1160.07 Q999.286 1164.08 999.286 1172.23 Z\" fill=\"#000000\" fill-rule=\"evenodd\" fill-opacity=\"1\" /><polyline clip-path=\"url(#clip732)\" style=\"stroke:#000000; stroke-linecap:butt; stroke-linejoin:round; stroke-width:2; stroke-opacity:0.1; fill:none\" points=\"\n",
       "  193.936,880.983 1152.76,880.983 \n",
       "  \"/>\n",
       "<polyline clip-path=\"url(#clip732)\" style=\"stroke:#000000; stroke-linecap:butt; stroke-linejoin:round; stroke-width:2; stroke-opacity:0.1; fill:none\" points=\"\n",
       "  193.936,712.685 1152.76,712.685 \n",
       "  \"/>\n",
       "<polyline clip-path=\"url(#clip732)\" style=\"stroke:#000000; stroke-linecap:butt; stroke-linejoin:round; stroke-width:2; stroke-opacity:0.1; fill:none\" points=\"\n",
       "  193.936,544.386 1152.76,544.386 \n",
       "  \"/>\n",
       "<polyline clip-path=\"url(#clip732)\" style=\"stroke:#000000; stroke-linecap:butt; stroke-linejoin:round; stroke-width:2; stroke-opacity:0.1; fill:none\" points=\"\n",
       "  193.936,376.087 1152.76,376.087 \n",
       "  \"/>\n",
       "<polyline clip-path=\"url(#clip732)\" style=\"stroke:#000000; stroke-linecap:butt; stroke-linejoin:round; stroke-width:2; stroke-opacity:0.1; fill:none\" points=\"\n",
       "  193.936,207.789 1152.76,207.789 \n",
       "  \"/>\n",
       "<polyline clip-path=\"url(#clip730)\" style=\"stroke:#000000; stroke-linecap:butt; stroke-linejoin:round; stroke-width:4; stroke-opacity:1; fill:none\" points=\"\n",
       "  193.936,1047.7 193.936,47.2441 \n",
       "  \"/>\n",
       "<polyline clip-path=\"url(#clip730)\" style=\"stroke:#000000; stroke-linecap:butt; stroke-linejoin:round; stroke-width:4; stroke-opacity:1; fill:none\" points=\"\n",
       "  193.936,880.983 212.834,880.983 \n",
       "  \"/>\n",
       "<polyline clip-path=\"url(#clip730)\" style=\"stroke:#000000; stroke-linecap:butt; stroke-linejoin:round; stroke-width:4; stroke-opacity:1; fill:none\" points=\"\n",
       "  193.936,712.685 212.834,712.685 \n",
       "  \"/>\n",
       "<polyline clip-path=\"url(#clip730)\" style=\"stroke:#000000; stroke-linecap:butt; stroke-linejoin:round; stroke-width:4; stroke-opacity:1; fill:none\" points=\"\n",
       "  193.936,544.386 212.834,544.386 \n",
       "  \"/>\n",
       "<polyline clip-path=\"url(#clip730)\" style=\"stroke:#000000; stroke-linecap:butt; stroke-linejoin:round; stroke-width:4; stroke-opacity:1; fill:none\" points=\"\n",
       "  193.936,376.087 212.834,376.087 \n",
       "  \"/>\n",
       "<polyline clip-path=\"url(#clip730)\" style=\"stroke:#000000; stroke-linecap:butt; stroke-linejoin:round; stroke-width:4; stroke-opacity:1; fill:none\" points=\"\n",
       "  193.936,207.789 212.834,207.789 \n",
       "  \"/>\n",
       "<path clip-path=\"url(#clip730)\" d=\"M50.9921 881.435 L80.6679 881.435 L80.6679 885.37 L50.9921 885.37 L50.9921 881.435 Z\" fill=\"#000000\" fill-rule=\"evenodd\" fill-opacity=\"1\" /><path clip-path=\"url(#clip730)\" d=\"M91.5706 894.328 L99.2095 894.328 L99.2095 867.963 L90.8993 869.629 L90.8993 865.37 L99.1632 863.703 L103.839 863.703 L103.839 894.328 L111.478 894.328 L111.478 898.263 L91.5706 898.263 L91.5706 894.328 Z\" fill=\"#000000\" fill-rule=\"evenodd\" fill-opacity=\"1\" /><path clip-path=\"url(#clip730)\" d=\"M120.922 892.384 L125.807 892.384 L125.807 898.263 L120.922 898.263 L120.922 892.384 Z\" fill=\"#000000\" fill-rule=\"evenodd\" fill-opacity=\"1\" /><path clip-path=\"url(#clip730)\" d=\"M145.992 866.782 Q142.381 866.782 140.552 870.347 Q138.746 873.889 138.746 881.018 Q138.746 888.125 140.552 891.689 Q142.381 895.231 145.992 895.231 Q149.626 895.231 151.431 891.689 Q153.26 888.125 153.26 881.018 Q153.26 873.889 151.431 870.347 Q149.626 866.782 145.992 866.782 M145.992 863.078 Q151.802 863.078 154.857 867.685 Q157.936 872.268 157.936 881.018 Q157.936 889.745 154.857 894.351 Q151.802 898.935 145.992 898.935 Q140.181 898.935 137.103 894.351 Q134.047 889.745 134.047 881.018 Q134.047 872.268 137.103 867.685 Q140.181 863.078 145.992 863.078 Z\" fill=\"#000000\" fill-rule=\"evenodd\" fill-opacity=\"1\" /><path clip-path=\"url(#clip730)\" d=\"M51.9875 713.136 L81.6633 713.136 L81.6633 717.071 L51.9875 717.071 L51.9875 713.136 Z\" fill=\"#000000\" fill-rule=\"evenodd\" fill-opacity=\"1\" /><path clip-path=\"url(#clip730)\" d=\"M101.756 698.483 Q98.1447 698.483 96.316 702.048 Q94.5104 705.59 94.5104 712.72 Q94.5104 719.826 96.316 723.391 Q98.1447 726.932 101.756 726.932 Q105.39 726.932 107.196 723.391 Q109.024 719.826 109.024 712.72 Q109.024 705.59 107.196 702.048 Q105.39 698.483 101.756 698.483 M101.756 694.78 Q107.566 694.78 110.621 699.386 Q113.7 703.97 113.7 712.72 Q113.7 721.446 110.621 726.053 Q107.566 730.636 101.756 730.636 Q95.9456 730.636 92.8669 726.053 Q89.8114 721.446 89.8114 712.72 Q89.8114 703.97 92.8669 699.386 Q95.9456 694.78 101.756 694.78 Z\" fill=\"#000000\" fill-rule=\"evenodd\" fill-opacity=\"1\" /><path clip-path=\"url(#clip730)\" d=\"M121.918 724.085 L126.802 724.085 L126.802 729.965 L121.918 729.965 L121.918 724.085 Z\" fill=\"#000000\" fill-rule=\"evenodd\" fill-opacity=\"1\" /><path clip-path=\"url(#clip730)\" d=\"M137.033 695.405 L155.39 695.405 L155.39 699.34 L141.316 699.34 L141.316 707.812 Q142.334 707.465 143.353 707.303 Q144.371 707.118 145.39 707.118 Q151.177 707.118 154.556 710.289 Q157.936 713.46 157.936 718.877 Q157.936 724.456 154.464 727.557 Q150.992 730.636 144.672 730.636 Q142.496 730.636 140.228 730.266 Q137.982 729.895 135.575 729.155 L135.575 724.456 Q137.658 725.59 139.881 726.145 Q142.103 726.701 144.58 726.701 Q148.584 726.701 150.922 724.594 Q153.26 722.488 153.26 718.877 Q153.26 715.266 150.922 713.159 Q148.584 711.053 144.58 711.053 Q142.705 711.053 140.83 711.47 Q138.978 711.886 137.033 712.766 L137.033 695.405 Z\" fill=\"#000000\" fill-rule=\"evenodd\" fill-opacity=\"1\" /><path clip-path=\"url(#clip730)\" d=\"M100.76 530.185 Q97.1493 530.185 95.3206 533.75 Q93.515 537.291 93.515 544.421 Q93.515 551.527 95.3206 555.092 Q97.1493 558.634 100.76 558.634 Q104.395 558.634 106.2 555.092 Q108.029 551.527 108.029 544.421 Q108.029 537.291 106.2 533.75 Q104.395 530.185 100.76 530.185 M100.76 526.481 Q106.571 526.481 109.626 531.088 Q112.705 535.671 112.705 544.421 Q112.705 553.148 109.626 557.754 Q106.571 562.337 100.76 562.337 Q94.9502 562.337 91.8715 557.754 Q88.816 553.148 88.816 544.421 Q88.816 535.671 91.8715 531.088 Q94.9502 526.481 100.76 526.481 Z\" fill=\"#000000\" fill-rule=\"evenodd\" fill-opacity=\"1\" /><path clip-path=\"url(#clip730)\" d=\"M120.922 555.787 L125.807 555.787 L125.807 561.666 L120.922 561.666 L120.922 555.787 Z\" fill=\"#000000\" fill-rule=\"evenodd\" fill-opacity=\"1\" /><path clip-path=\"url(#clip730)\" d=\"M145.992 530.185 Q142.381 530.185 140.552 533.75 Q138.746 537.291 138.746 544.421 Q138.746 551.527 140.552 555.092 Q142.381 558.634 145.992 558.634 Q149.626 558.634 151.431 555.092 Q153.26 551.527 153.26 544.421 Q153.26 537.291 151.431 533.75 Q149.626 530.185 145.992 530.185 M145.992 526.481 Q151.802 526.481 154.857 531.088 Q157.936 535.671 157.936 544.421 Q157.936 553.148 154.857 557.754 Q151.802 562.337 145.992 562.337 Q140.181 562.337 137.103 557.754 Q134.047 553.148 134.047 544.421 Q134.047 535.671 137.103 531.088 Q140.181 526.481 145.992 526.481 Z\" fill=\"#000000\" fill-rule=\"evenodd\" fill-opacity=\"1\" /><path clip-path=\"url(#clip730)\" d=\"M101.756 361.886 Q98.1447 361.886 96.316 365.451 Q94.5104 368.993 94.5104 376.122 Q94.5104 383.229 96.316 386.793 Q98.1447 390.335 101.756 390.335 Q105.39 390.335 107.196 386.793 Q109.024 383.229 109.024 376.122 Q109.024 368.993 107.196 365.451 Q105.39 361.886 101.756 361.886 M101.756 358.183 Q107.566 358.183 110.621 362.789 Q113.7 367.372 113.7 376.122 Q113.7 384.849 110.621 389.455 Q107.566 394.039 101.756 394.039 Q95.9456 394.039 92.8669 389.455 Q89.8114 384.849 89.8114 376.122 Q89.8114 367.372 92.8669 362.789 Q95.9456 358.183 101.756 358.183 Z\" fill=\"#000000\" fill-rule=\"evenodd\" fill-opacity=\"1\" /><path clip-path=\"url(#clip730)\" d=\"M121.918 387.488 L126.802 387.488 L126.802 393.367 L121.918 393.367 L121.918 387.488 Z\" fill=\"#000000\" fill-rule=\"evenodd\" fill-opacity=\"1\" /><path clip-path=\"url(#clip730)\" d=\"M137.033 358.807 L155.39 358.807 L155.39 362.743 L141.316 362.743 L141.316 371.215 Q142.334 370.868 143.353 370.706 Q144.371 370.52 145.39 370.52 Q151.177 370.52 154.556 373.692 Q157.936 376.863 157.936 382.28 Q157.936 387.858 154.464 390.96 Q150.992 394.039 144.672 394.039 Q142.496 394.039 140.228 393.668 Q137.982 393.298 135.575 392.557 L135.575 387.858 Q137.658 388.993 139.881 389.548 Q142.103 390.104 144.58 390.104 Q148.584 390.104 150.922 387.997 Q153.26 385.891 153.26 382.28 Q153.26 378.669 150.922 376.562 Q148.584 374.456 144.58 374.456 Q142.705 374.456 140.83 374.872 Q138.978 375.289 137.033 376.169 L137.033 358.807 Z\" fill=\"#000000\" fill-rule=\"evenodd\" fill-opacity=\"1\" /><path clip-path=\"url(#clip730)\" d=\"M91.5706 221.134 L99.2095 221.134 L99.2095 194.768 L90.8993 196.435 L90.8993 192.176 L99.1632 190.509 L103.839 190.509 L103.839 221.134 L111.478 221.134 L111.478 225.069 L91.5706 225.069 L91.5706 221.134 Z\" fill=\"#000000\" fill-rule=\"evenodd\" fill-opacity=\"1\" /><path clip-path=\"url(#clip730)\" d=\"M120.922 219.189 L125.807 219.189 L125.807 225.069 L120.922 225.069 L120.922 219.189 Z\" fill=\"#000000\" fill-rule=\"evenodd\" fill-opacity=\"1\" /><path clip-path=\"url(#clip730)\" d=\"M145.992 193.588 Q142.381 193.588 140.552 197.152 Q138.746 200.694 138.746 207.824 Q138.746 214.93 140.552 218.495 Q142.381 222.036 145.992 222.036 Q149.626 222.036 151.431 218.495 Q153.26 214.93 153.26 207.824 Q153.26 200.694 151.431 197.152 Q149.626 193.588 145.992 193.588 M145.992 189.884 Q151.802 189.884 154.857 194.49 Q157.936 199.074 157.936 207.824 Q157.936 216.55 154.857 221.157 Q151.802 225.74 145.992 225.74 Q140.181 225.74 137.103 221.157 Q134.047 216.55 134.047 207.824 Q134.047 199.074 137.103 194.49 Q140.181 189.884 145.992 189.884 Z\" fill=\"#000000\" fill-rule=\"evenodd\" fill-opacity=\"1\" /><circle clip-path=\"url(#clip732)\" cx=\"927.153\" cy=\"766.01\" r=\"14\" fill=\"#cd5c5c\" fill-rule=\"evenodd\" fill-opacity=\"1\" stroke=\"#000000\" stroke-opacity=\"1\" stroke-width=\"2.4\"/>\n",
       "<circle clip-path=\"url(#clip732)\" cx=\"1030.96\" cy=\"947.813\" r=\"14\" fill=\"#cd5c5c\" fill-rule=\"evenodd\" fill-opacity=\"1\" stroke=\"#000000\" stroke-opacity=\"1\" stroke-width=\"2.4\"/>\n",
       "<circle clip-path=\"url(#clip732)\" cx=\"883.988\" cy=\"889.213\" r=\"14\" fill=\"#cd5c5c\" fill-rule=\"evenodd\" fill-opacity=\"1\" stroke=\"#000000\" stroke-opacity=\"1\" stroke-width=\"2.4\"/>\n",
       "<circle clip-path=\"url(#clip732)\" cx=\"1125.62\" cy=\"836.92\" r=\"14\" fill=\"#cd5c5c\" fill-rule=\"evenodd\" fill-opacity=\"1\" stroke=\"#000000\" stroke-opacity=\"1\" stroke-width=\"2.4\"/>\n",
       "<circle clip-path=\"url(#clip732)\" cx=\"687.659\" cy=\"447.583\" r=\"14\" fill=\"#cd5c5c\" fill-rule=\"evenodd\" fill-opacity=\"1\" stroke=\"#000000\" stroke-opacity=\"1\" stroke-width=\"2.4\"/>\n",
       "<circle clip-path=\"url(#clip732)\" cx=\"1065.37\" cy=\"939.511\" r=\"14\" fill=\"#cd5c5c\" fill-rule=\"evenodd\" fill-opacity=\"1\" stroke=\"#000000\" stroke-opacity=\"1\" stroke-width=\"2.4\"/>\n",
       "<circle clip-path=\"url(#clip732)\" cx=\"853.276\" cy=\"903.956\" r=\"14\" fill=\"#cd5c5c\" fill-rule=\"evenodd\" fill-opacity=\"1\" stroke=\"#000000\" stroke-opacity=\"1\" stroke-width=\"2.4\"/>\n",
       "<circle clip-path=\"url(#clip732)\" cx=\"409.137\" cy=\"728.987\" r=\"14\" fill=\"#cd5c5c\" fill-rule=\"evenodd\" fill-opacity=\"1\" stroke=\"#000000\" stroke-opacity=\"1\" stroke-width=\"2.4\"/>\n",
       "<circle clip-path=\"url(#clip732)\" cx=\"561.239\" cy=\"808.445\" r=\"14\" fill=\"#cd5c5c\" fill-rule=\"evenodd\" fill-opacity=\"1\" stroke=\"#000000\" stroke-opacity=\"1\" stroke-width=\"2.4\"/>\n",
       "<circle clip-path=\"url(#clip732)\" cx=\"447.149\" cy=\"412.86\" r=\"14\" fill=\"#cd5c5c\" fill-rule=\"evenodd\" fill-opacity=\"1\" stroke=\"#000000\" stroke-opacity=\"1\" stroke-width=\"2.4\"/>\n",
       "<circle clip-path=\"url(#clip732)\" cx=\"410.419\" cy=\"801.516\" r=\"14\" fill=\"#cd5c5c\" fill-rule=\"evenodd\" fill-opacity=\"1\" stroke=\"#000000\" stroke-opacity=\"1\" stroke-width=\"2.4\"/>\n",
       "<circle clip-path=\"url(#clip732)\" cx=\"905.826\" cy=\"860.675\" r=\"14\" fill=\"#cd5c5c\" fill-rule=\"evenodd\" fill-opacity=\"1\" stroke=\"#000000\" stroke-opacity=\"1\" stroke-width=\"2.4\"/>\n",
       "<circle clip-path=\"url(#clip732)\" cx=\"583.634\" cy=\"916.911\" r=\"14\" fill=\"#cd5c5c\" fill-rule=\"evenodd\" fill-opacity=\"1\" stroke=\"#000000\" stroke-opacity=\"1\" stroke-width=\"2.4\"/>\n",
       "<circle clip-path=\"url(#clip732)\" cx=\"616.052\" cy=\"601.416\" r=\"14\" fill=\"#cd5c5c\" fill-rule=\"evenodd\" fill-opacity=\"1\" stroke=\"#000000\" stroke-opacity=\"1\" stroke-width=\"2.4\"/>\n",
       "<circle clip-path=\"url(#clip732)\" cx=\"663.971\" cy=\"446.445\" r=\"14\" fill=\"#cd5c5c\" fill-rule=\"evenodd\" fill-opacity=\"1\" stroke=\"#000000\" stroke-opacity=\"1\" stroke-width=\"2.4\"/>\n",
       "<circle clip-path=\"url(#clip732)\" cx=\"763.871\" cy=\"956.672\" r=\"14\" fill=\"#cd5c5c\" fill-rule=\"evenodd\" fill-opacity=\"1\" stroke=\"#000000\" stroke-opacity=\"1\" stroke-width=\"2.4\"/>\n",
       "<circle clip-path=\"url(#clip732)\" cx=\"898.776\" cy=\"1009.13\" r=\"14\" fill=\"#cd5c5c\" fill-rule=\"evenodd\" fill-opacity=\"1\" stroke=\"#000000\" stroke-opacity=\"1\" stroke-width=\"2.4\"/>\n",
       "<circle clip-path=\"url(#clip732)\" cx=\"663.62\" cy=\"672.387\" r=\"14\" fill=\"#cd5c5c\" fill-rule=\"evenodd\" fill-opacity=\"1\" stroke=\"#000000\" stroke-opacity=\"1\" stroke-width=\"2.4\"/>\n",
       "<circle clip-path=\"url(#clip732)\" cx=\"1102.89\" cy=\"779.348\" r=\"14\" fill=\"#cd5c5c\" fill-rule=\"evenodd\" fill-opacity=\"1\" stroke=\"#000000\" stroke-opacity=\"1\" stroke-width=\"2.4\"/>\n",
       "<circle clip-path=\"url(#clip732)\" cx=\"860.101\" cy=\"771.86\" r=\"14\" fill=\"#cd5c5c\" fill-rule=\"evenodd\" fill-opacity=\"1\" stroke=\"#000000\" stroke-opacity=\"1\" stroke-width=\"2.4\"/>\n",
       "<circle clip-path=\"url(#clip732)\" cx=\"650.793\" cy=\"741.365\" r=\"14\" fill=\"#cd5c5c\" fill-rule=\"evenodd\" fill-opacity=\"1\" stroke=\"#000000\" stroke-opacity=\"1\" stroke-width=\"2.4\"/>\n",
       "<circle clip-path=\"url(#clip732)\" cx=\"950.494\" cy=\"817.48\" r=\"14\" fill=\"#cd5c5c\" fill-rule=\"evenodd\" fill-opacity=\"1\" stroke=\"#000000\" stroke-opacity=\"1\" stroke-width=\"2.4\"/>\n",
       "<circle clip-path=\"url(#clip732)\" cx=\"1092.84\" cy=\"786.778\" r=\"14\" fill=\"#cd5c5c\" fill-rule=\"evenodd\" fill-opacity=\"1\" stroke=\"#000000\" stroke-opacity=\"1\" stroke-width=\"2.4\"/>\n",
       "<circle clip-path=\"url(#clip732)\" cx=\"419.082\" cy=\"600.092\" r=\"14\" fill=\"#cd5c5c\" fill-rule=\"evenodd\" fill-opacity=\"1\" stroke=\"#000000\" stroke-opacity=\"1\" stroke-width=\"2.4\"/>\n",
       "<circle clip-path=\"url(#clip732)\" cx=\"675.509\" cy=\"758.07\" r=\"14\" fill=\"#cd5c5c\" fill-rule=\"evenodd\" fill-opacity=\"1\" stroke=\"#000000\" stroke-opacity=\"1\" stroke-width=\"2.4\"/>\n",
       "<circle clip-path=\"url(#clip732)\" cx=\"816.075\" cy=\"1019.39\" r=\"14\" fill=\"#cd5c5c\" fill-rule=\"evenodd\" fill-opacity=\"1\" stroke=\"#000000\" stroke-opacity=\"1\" stroke-width=\"2.4\"/>\n",
       "<circle clip-path=\"url(#clip732)\" cx=\"712.648\" cy=\"197.152\" r=\"14\" fill=\"#4682b4\" fill-rule=\"evenodd\" fill-opacity=\"1\" stroke=\"#000000\" stroke-opacity=\"1\" stroke-width=\"2.4\"/>\n",
       "<circle clip-path=\"url(#clip732)\" cx=\"610.696\" cy=\"417.851\" r=\"14\" fill=\"#4682b4\" fill-rule=\"evenodd\" fill-opacity=\"1\" stroke=\"#000000\" stroke-opacity=\"1\" stroke-width=\"2.4\"/>\n",
       "<circle clip-path=\"url(#clip732)\" cx=\"602.502\" cy=\"307.229\" r=\"14\" fill=\"#4682b4\" fill-rule=\"evenodd\" fill-opacity=\"1\" stroke=\"#000000\" stroke-opacity=\"1\" stroke-width=\"2.4\"/>\n",
       "<circle clip-path=\"url(#clip732)\" cx=\"274.026\" cy=\"131.15\" r=\"14\" fill=\"#4682b4\" fill-rule=\"evenodd\" fill-opacity=\"1\" stroke=\"#000000\" stroke-opacity=\"1\" stroke-width=\"2.4\"/>\n",
       "<circle clip-path=\"url(#clip732)\" cx=\"707.086\" cy=\"408.771\" r=\"14\" fill=\"#4682b4\" fill-rule=\"evenodd\" fill-opacity=\"1\" stroke=\"#000000\" stroke-opacity=\"1\" stroke-width=\"2.4\"/>\n",
       "<circle clip-path=\"url(#clip732)\" cx=\"638.034\" cy=\"269.452\" r=\"14\" fill=\"#4682b4\" fill-rule=\"evenodd\" fill-opacity=\"1\" stroke=\"#000000\" stroke-opacity=\"1\" stroke-width=\"2.4\"/>\n",
       "<circle clip-path=\"url(#clip732)\" cx=\"447.216\" cy=\"310.217\" r=\"14\" fill=\"#4682b4\" fill-rule=\"evenodd\" fill-opacity=\"1\" stroke=\"#000000\" stroke-opacity=\"1\" stroke-width=\"2.4\"/>\n",
       "<circle clip-path=\"url(#clip732)\" cx=\"671.269\" cy=\"147.466\" r=\"14\" fill=\"#4682b4\" fill-rule=\"evenodd\" fill-opacity=\"1\" stroke=\"#000000\" stroke-opacity=\"1\" stroke-width=\"2.4\"/>\n",
       "<circle clip-path=\"url(#clip732)\" cx=\"683.574\" cy=\"469.275\" r=\"14\" fill=\"#4682b4\" fill-rule=\"evenodd\" fill-opacity=\"1\" stroke=\"#000000\" stroke-opacity=\"1\" stroke-width=\"2.4\"/>\n",
       "<circle clip-path=\"url(#clip732)\" cx=\"398.767\" cy=\"442.094\" r=\"14\" fill=\"#4682b4\" fill-rule=\"evenodd\" fill-opacity=\"1\" stroke=\"#000000\" stroke-opacity=\"1\" stroke-width=\"2.4\"/>\n",
       "<circle clip-path=\"url(#clip732)\" cx=\"502.406\" cy=\"284.221\" r=\"14\" fill=\"#4682b4\" fill-rule=\"evenodd\" fill-opacity=\"1\" stroke=\"#000000\" stroke-opacity=\"1\" stroke-width=\"2.4\"/>\n",
       "<circle clip-path=\"url(#clip732)\" cx=\"526.376\" cy=\"425.593\" r=\"14\" fill=\"#4682b4\" fill-rule=\"evenodd\" fill-opacity=\"1\" stroke=\"#000000\" stroke-opacity=\"1\" stroke-width=\"2.4\"/>\n",
       "<circle clip-path=\"url(#clip732)\" cx=\"492.96\" cy=\"328.792\" r=\"14\" fill=\"#4682b4\" fill-rule=\"evenodd\" fill-opacity=\"1\" stroke=\"#000000\" stroke-opacity=\"1\" stroke-width=\"2.4\"/>\n",
       "<circle clip-path=\"url(#clip732)\" cx=\"496.014\" cy=\"373.875\" r=\"14\" fill=\"#4682b4\" fill-rule=\"evenodd\" fill-opacity=\"1\" stroke=\"#000000\" stroke-opacity=\"1\" stroke-width=\"2.4\"/>\n",
       "<circle clip-path=\"url(#clip732)\" cx=\"268.754\" cy=\"287.459\" r=\"14\" fill=\"#4682b4\" fill-rule=\"evenodd\" fill-opacity=\"1\" stroke=\"#000000\" stroke-opacity=\"1\" stroke-width=\"2.4\"/>\n",
       "<circle clip-path=\"url(#clip732)\" cx=\"468.108\" cy=\"309.001\" r=\"14\" fill=\"#4682b4\" fill-rule=\"evenodd\" fill-opacity=\"1\" stroke=\"#000000\" stroke-opacity=\"1\" stroke-width=\"2.4\"/>\n",
       "<circle clip-path=\"url(#clip732)\" cx=\"861.204\" cy=\"330.112\" r=\"14\" fill=\"#4682b4\" fill-rule=\"evenodd\" fill-opacity=\"1\" stroke=\"#000000\" stroke-opacity=\"1\" stroke-width=\"2.4\"/>\n",
       "<circle clip-path=\"url(#clip732)\" cx=\"352.471\" cy=\"136.466\" r=\"14\" fill=\"#4682b4\" fill-rule=\"evenodd\" fill-opacity=\"1\" stroke=\"#000000\" stroke-opacity=\"1\" stroke-width=\"2.4\"/>\n",
       "<circle clip-path=\"url(#clip732)\" cx=\"688.719\" cy=\"289.377\" r=\"14\" fill=\"#4682b4\" fill-rule=\"evenodd\" fill-opacity=\"1\" stroke=\"#000000\" stroke-opacity=\"1\" stroke-width=\"2.4\"/>\n",
       "<circle clip-path=\"url(#clip732)\" cx=\"295.387\" cy=\"261.974\" r=\"14\" fill=\"#4682b4\" fill-rule=\"evenodd\" fill-opacity=\"1\" stroke=\"#000000\" stroke-opacity=\"1\" stroke-width=\"2.4\"/>\n",
       "<circle clip-path=\"url(#clip732)\" cx=\"1022.68\" cy=\"75.5589\" r=\"14\" fill=\"#4682b4\" fill-rule=\"evenodd\" fill-opacity=\"1\" stroke=\"#000000\" stroke-opacity=\"1\" stroke-width=\"2.4\"/>\n",
       "<circle clip-path=\"url(#clip732)\" cx=\"463.73\" cy=\"228.965\" r=\"14\" fill=\"#4682b4\" fill-rule=\"evenodd\" fill-opacity=\"1\" stroke=\"#000000\" stroke-opacity=\"1\" stroke-width=\"2.4\"/>\n",
       "<circle clip-path=\"url(#clip732)\" cx=\"221.072\" cy=\"406.75\" r=\"14\" fill=\"#4682b4\" fill-rule=\"evenodd\" fill-opacity=\"1\" stroke=\"#000000\" stroke-opacity=\"1\" stroke-width=\"2.4\"/>\n",
       "<circle clip-path=\"url(#clip732)\" cx=\"521\" cy=\"159.677\" r=\"14\" fill=\"#4682b4\" fill-rule=\"evenodd\" fill-opacity=\"1\" stroke=\"#000000\" stroke-opacity=\"1\" stroke-width=\"2.4\"/>\n",
       "<path clip-path=\"url(#clip730)\" d=\"\n",
       "M860.325 236.113 L1120.8 236.113 L1120.8 80.5926 L860.325 80.5926  Z\n",
       "  \" fill=\"#ffffff\" fill-rule=\"evenodd\" fill-opacity=\"1\"/>\n",
       "<polyline clip-path=\"url(#clip730)\" style=\"stroke:#000000; stroke-linecap:butt; stroke-linejoin:round; stroke-width:4; stroke-opacity:1; fill:none\" points=\"\n",
       "  860.325,236.113 1120.8,236.113 1120.8,80.5926 860.325,80.5926 860.325,236.113 \n",
       "  \"/>\n",
       "<circle clip-path=\"url(#clip730)\" cx=\"902.94\" cy=\"132.433\" r=\"23\" fill=\"#cd5c5c\" fill-rule=\"evenodd\" fill-opacity=\"1\" stroke=\"#000000\" stroke-opacity=\"1\" stroke-width=\"3.84\"/>\n",
       "<path clip-path=\"url(#clip730)\" d=\"M973.424 117.815 L973.424 122.745 Q971.063 120.546 968.378 119.458 Q965.716 118.37 962.706 118.37 Q956.781 118.37 953.632 122.004 Q950.484 125.616 950.484 132.467 Q950.484 139.296 953.632 142.93 Q956.781 146.541 962.706 146.541 Q965.716 146.541 968.378 145.453 Q971.063 144.365 973.424 142.166 L973.424 147.051 Q970.97 148.717 968.216 149.551 Q965.484 150.384 962.429 150.384 Q954.582 150.384 950.068 145.592 Q945.554 140.777 945.554 132.467 Q945.554 124.134 950.068 119.342 Q954.582 114.528 962.429 114.528 Q965.531 114.528 968.262 115.361 Q971.017 116.171 973.424 117.815 Z\" fill=\"#000000\" fill-rule=\"evenodd\" fill-opacity=\"1\" /><path clip-path=\"url(#clip730)\" d=\"M990.507 126.773 Q987.081 126.773 985.091 129.458 Q983.1 132.12 983.1 136.773 Q983.1 141.426 985.067 144.111 Q987.058 146.773 990.507 146.773 Q993.91 146.773 995.901 144.088 Q997.891 141.402 997.891 136.773 Q997.891 132.166 995.901 129.481 Q993.91 126.773 990.507 126.773 M990.507 123.162 Q996.063 123.162 999.234 126.773 Q1002.41 130.384 1002.41 136.773 Q1002.41 143.139 999.234 146.773 Q996.063 150.384 990.507 150.384 Q984.929 150.384 981.757 146.773 Q978.609 143.139 978.609 136.773 Q978.609 130.384 981.757 126.773 Q984.929 123.162 990.507 123.162 Z\" fill=\"#000000\" fill-rule=\"evenodd\" fill-opacity=\"1\" /><path clip-path=\"url(#clip730)\" d=\"M1021.25 136.68 Q1016.09 136.68 1014.1 137.861 Q1012.1 139.041 1012.1 141.889 Q1012.1 144.157 1013.59 145.5 Q1015.09 146.819 1017.66 146.819 Q1021.2 146.819 1023.33 144.319 Q1025.48 141.796 1025.48 137.629 L1025.48 136.68 L1021.25 136.68 M1029.74 134.921 L1029.74 149.713 L1025.48 149.713 L1025.48 145.777 Q1024.03 148.139 1021.85 149.273 Q1019.67 150.384 1016.53 150.384 Q1012.54 150.384 1010.18 148.162 Q1007.85 145.916 1007.85 142.166 Q1007.85 137.791 1010.76 135.569 Q1013.7 133.347 1019.51 133.347 L1025.48 133.347 L1025.48 132.93 Q1025.48 129.991 1023.54 128.393 Q1021.62 126.773 1018.12 126.773 Q1015.9 126.773 1013.79 127.305 Q1011.69 127.838 1009.74 128.903 L1009.74 124.967 Q1012.08 124.065 1014.28 123.625 Q1016.48 123.162 1018.56 123.162 Q1024.19 123.162 1026.97 126.078 Q1029.74 128.995 1029.74 134.921 Z\" fill=\"#000000\" fill-rule=\"evenodd\" fill-opacity=\"1\" /><path clip-path=\"url(#clip730)\" d=\"M1042.73 116.426 L1042.73 123.787 L1051.5 123.787 L1051.5 127.097 L1042.73 127.097 L1042.73 141.171 Q1042.73 144.342 1043.59 145.245 Q1044.47 146.148 1047.13 146.148 L1051.5 146.148 L1051.5 149.713 L1047.13 149.713 Q1042.2 149.713 1040.32 147.884 Q1038.45 146.032 1038.45 141.171 L1038.45 127.097 L1035.32 127.097 L1035.32 123.787 L1038.45 123.787 L1038.45 116.426 L1042.73 116.426 Z\" fill=\"#000000\" fill-rule=\"evenodd\" fill-opacity=\"1\" /><circle clip-path=\"url(#clip730)\" cx=\"902.94\" cy=\"184.273\" r=\"23\" fill=\"#4682b4\" fill-rule=\"evenodd\" fill-opacity=\"1\" stroke=\"#000000\" stroke-opacity=\"1\" stroke-width=\"3.84\"/>\n",
       "<path clip-path=\"url(#clip730)\" d=\"M967.799 168.127 L967.799 172.687 Q965.137 171.414 962.776 170.789 Q960.415 170.164 958.216 170.164 Q954.396 170.164 952.313 171.645 Q950.253 173.127 950.253 175.858 Q950.253 178.15 951.619 179.331 Q953.007 180.488 956.85 181.206 L959.674 181.784 Q964.906 182.78 967.382 185.303 Q969.882 187.803 969.882 192.016 Q969.882 197.039 966.503 199.631 Q963.146 202.224 956.642 202.224 Q954.188 202.224 951.41 201.668 Q948.656 201.113 945.693 200.025 L945.693 195.21 Q948.54 196.807 951.271 197.617 Q954.003 198.428 956.642 198.428 Q960.646 198.428 962.822 196.854 Q964.998 195.28 964.998 192.363 Q964.998 189.817 963.424 188.381 Q961.873 186.946 958.308 186.229 L955.461 185.673 Q950.23 184.631 947.892 182.409 Q945.554 180.187 945.554 176.229 Q945.554 171.645 948.771 169.006 Q952.012 166.368 957.683 166.368 Q960.114 166.368 962.637 166.807 Q965.16 167.247 967.799 168.127 Z\" fill=\"#000000\" fill-rule=\"evenodd\" fill-opacity=\"1\" /><path clip-path=\"url(#clip730)\" d=\"M988.771 188.52 Q983.609 188.52 981.618 189.701 Q979.628 190.881 979.628 193.729 Q979.628 195.997 981.109 197.34 Q982.614 198.659 985.183 198.659 Q988.725 198.659 990.854 196.159 Q993.007 193.636 993.007 189.469 L993.007 188.52 L988.771 188.52 M997.266 186.761 L997.266 201.553 L993.007 201.553 L993.007 197.617 Q991.549 199.979 989.373 201.113 Q987.197 202.224 984.049 202.224 Q980.067 202.224 977.706 200.002 Q975.368 197.756 975.368 194.006 Q975.368 189.631 978.285 187.409 Q981.225 185.187 987.035 185.187 L993.007 185.187 L993.007 184.77 Q993.007 181.831 991.063 180.233 Q989.142 178.613 985.646 178.613 Q983.424 178.613 981.317 179.145 Q979.211 179.678 977.267 180.743 L977.267 176.807 Q979.605 175.905 981.804 175.465 Q984.003 175.002 986.086 175.002 Q991.711 175.002 994.489 177.918 Q997.266 180.835 997.266 186.761 Z\" fill=\"#000000\" fill-rule=\"evenodd\" fill-opacity=\"1\" /><path clip-path=\"url(#clip730)\" d=\"M1027.59 185.905 L1027.59 201.553 L1023.33 201.553 L1023.33 186.043 Q1023.33 182.363 1021.9 180.534 Q1020.46 178.706 1017.59 178.706 Q1014.14 178.706 1012.15 180.905 Q1010.16 183.104 1010.16 186.9 L1010.16 201.553 L1005.88 201.553 L1005.88 175.627 L1010.16 175.627 L1010.16 179.655 Q1011.69 177.317 1013.75 176.159 Q1015.83 175.002 1018.54 175.002 Q1023.01 175.002 1025.3 177.78 Q1027.59 180.534 1027.59 185.905 Z\" fill=\"#000000\" fill-rule=\"evenodd\" fill-opacity=\"1\" /><path clip-path=\"url(#clip730)\" d=\"M1053.15 179.562 L1053.15 165.534 L1057.41 165.534 L1057.41 201.553 L1053.15 201.553 L1053.15 197.664 Q1051.8 199.979 1049.74 201.113 Q1047.71 202.224 1044.84 202.224 Q1040.14 202.224 1037.17 198.474 Q1034.23 194.724 1034.23 188.613 Q1034.23 182.502 1037.17 178.752 Q1040.14 175.002 1044.84 175.002 Q1047.71 175.002 1049.74 176.136 Q1051.8 177.247 1053.15 179.562 M1038.63 188.613 Q1038.63 193.312 1040.55 195.997 Q1042.5 198.659 1045.88 198.659 Q1049.26 198.659 1051.2 195.997 Q1053.15 193.312 1053.15 188.613 Q1053.15 183.914 1051.2 181.252 Q1049.26 178.567 1045.88 178.567 Q1042.5 178.567 1040.55 181.252 Q1038.63 183.914 1038.63 188.613 Z\" fill=\"#000000\" fill-rule=\"evenodd\" fill-opacity=\"1\" /><path clip-path=\"url(#clip730)\" d=\"M1077.96 188.52 Q1072.8 188.52 1070.81 189.701 Q1068.82 190.881 1068.82 193.729 Q1068.82 195.997 1070.3 197.34 Q1071.8 198.659 1074.37 198.659 Q1077.91 198.659 1080.04 196.159 Q1082.2 193.636 1082.2 189.469 L1082.2 188.52 L1077.96 188.52 M1086.46 186.761 L1086.46 201.553 L1082.2 201.553 L1082.2 197.617 Q1080.74 199.979 1078.56 201.113 Q1076.39 202.224 1073.24 202.224 Q1069.26 202.224 1066.9 200.002 Q1064.56 197.756 1064.56 194.006 Q1064.56 189.631 1067.47 187.409 Q1070.41 185.187 1076.22 185.187 L1082.2 185.187 L1082.2 184.77 Q1082.2 181.831 1080.25 180.233 Q1078.33 178.613 1074.84 178.613 Q1072.61 178.613 1070.51 179.145 Q1068.4 179.678 1066.46 180.743 L1066.46 176.807 Q1068.79 175.905 1070.99 175.465 Q1073.19 175.002 1075.28 175.002 Q1080.9 175.002 1083.68 177.918 Q1086.46 180.835 1086.46 186.761 Z\" fill=\"#000000\" fill-rule=\"evenodd\" fill-opacity=\"1\" /><path clip-path=\"url(#clip730)\" d=\"M1095.23 165.534 L1099.49 165.534 L1099.49 201.553 L1095.23 201.553 L1095.23 165.534 Z\" fill=\"#000000\" fill-rule=\"evenodd\" fill-opacity=\"1\" /><path clip-path=\"url(#clip730)\" d=\"\n",
       "M1393.94 1047.7 L2352.76 1047.7 L2352.76 47.2441 L1393.94 47.2441  Z\n",
       "  \" fill=\"#ffffff\" fill-rule=\"evenodd\" fill-opacity=\"1\"/>\n",
       "<defs>\n",
       "  <clipPath id=\"clip733\">\n",
       "    <rect x=\"1393\" y=\"47\" width=\"960\" height=\"1001\"/>\n",
       "  </clipPath>\n",
       "</defs>\n",
       "<polyline clip-path=\"url(#clip733)\" style=\"stroke:#000000; stroke-linecap:butt; stroke-linejoin:round; stroke-width:2; stroke-opacity:0.1; fill:none\" points=\"\n",
       "  1524.57,1047.7 1524.57,47.2441 \n",
       "  \"/>\n",
       "<polyline clip-path=\"url(#clip733)\" style=\"stroke:#000000; stroke-linecap:butt; stroke-linejoin:round; stroke-width:2; stroke-opacity:0.1; fill:none\" points=\"\n",
       "  1692.21,1047.7 1692.21,47.2441 \n",
       "  \"/>\n",
       "<polyline clip-path=\"url(#clip733)\" style=\"stroke:#000000; stroke-linecap:butt; stroke-linejoin:round; stroke-width:2; stroke-opacity:0.1; fill:none\" points=\"\n",
       "  1859.84,1047.7 1859.84,47.2441 \n",
       "  \"/>\n",
       "<polyline clip-path=\"url(#clip733)\" style=\"stroke:#000000; stroke-linecap:butt; stroke-linejoin:round; stroke-width:2; stroke-opacity:0.1; fill:none\" points=\"\n",
       "  2027.48,1047.7 2027.48,47.2441 \n",
       "  \"/>\n",
       "<polyline clip-path=\"url(#clip733)\" style=\"stroke:#000000; stroke-linecap:butt; stroke-linejoin:round; stroke-width:2; stroke-opacity:0.1; fill:none\" points=\"\n",
       "  2195.12,1047.7 2195.12,47.2441 \n",
       "  \"/>\n",
       "<polyline clip-path=\"url(#clip730)\" style=\"stroke:#000000; stroke-linecap:butt; stroke-linejoin:round; stroke-width:4; stroke-opacity:1; fill:none\" points=\"\n",
       "  1393.94,1047.7 2352.76,1047.7 \n",
       "  \"/>\n",
       "<polyline clip-path=\"url(#clip730)\" style=\"stroke:#000000; stroke-linecap:butt; stroke-linejoin:round; stroke-width:4; stroke-opacity:1; fill:none\" points=\"\n",
       "  1524.57,1047.7 1524.57,1028.8 \n",
       "  \"/>\n",
       "<polyline clip-path=\"url(#clip730)\" style=\"stroke:#000000; stroke-linecap:butt; stroke-linejoin:round; stroke-width:4; stroke-opacity:1; fill:none\" points=\"\n",
       "  1692.21,1047.7 1692.21,1028.8 \n",
       "  \"/>\n",
       "<polyline clip-path=\"url(#clip730)\" style=\"stroke:#000000; stroke-linecap:butt; stroke-linejoin:round; stroke-width:4; stroke-opacity:1; fill:none\" points=\"\n",
       "  1859.84,1047.7 1859.84,1028.8 \n",
       "  \"/>\n",
       "<polyline clip-path=\"url(#clip730)\" style=\"stroke:#000000; stroke-linecap:butt; stroke-linejoin:round; stroke-width:4; stroke-opacity:1; fill:none\" points=\"\n",
       "  2027.48,1047.7 2027.48,1028.8 \n",
       "  \"/>\n",
       "<polyline clip-path=\"url(#clip730)\" style=\"stroke:#000000; stroke-linecap:butt; stroke-linejoin:round; stroke-width:4; stroke-opacity:1; fill:none\" points=\"\n",
       "  2195.12,1047.7 2195.12,1028.8 \n",
       "  \"/>\n",
       "<path clip-path=\"url(#clip730)\" d=\"M1471.02 1093.27 L1500.69 1093.27 L1500.69 1097.21 L1471.02 1097.21 L1471.02 1093.27 Z\" fill=\"#000000\" fill-rule=\"evenodd\" fill-opacity=\"1\" /><path clip-path=\"url(#clip730)\" d=\"M1520.79 1078.62 Q1517.17 1078.62 1515.35 1082.18 Q1513.54 1085.72 1513.54 1092.85 Q1513.54 1099.96 1515.35 1103.53 Q1517.17 1107.07 1520.79 1107.07 Q1524.42 1107.07 1526.22 1103.53 Q1528.05 1099.96 1528.05 1092.85 Q1528.05 1085.72 1526.22 1082.18 Q1524.42 1078.62 1520.79 1078.62 M1520.79 1074.91 Q1526.6 1074.91 1529.65 1079.52 Q1532.73 1084.1 1532.73 1092.85 Q1532.73 1101.58 1529.65 1106.19 Q1526.6 1110.77 1520.79 1110.77 Q1514.97 1110.77 1511.9 1106.19 Q1508.84 1101.58 1508.84 1092.85 Q1508.84 1084.1 1511.9 1079.52 Q1514.97 1074.91 1520.79 1074.91 Z\" fill=\"#000000\" fill-rule=\"evenodd\" fill-opacity=\"1\" /><path clip-path=\"url(#clip730)\" d=\"M1540.95 1104.22 L1545.83 1104.22 L1545.83 1110.1 L1540.95 1110.1 L1540.95 1104.22 Z\" fill=\"#000000\" fill-rule=\"evenodd\" fill-opacity=\"1\" /><path clip-path=\"url(#clip730)\" d=\"M1566.6 1090.96 Q1563.45 1090.96 1561.6 1093.11 Q1559.77 1095.26 1559.77 1099.01 Q1559.77 1102.74 1561.6 1104.91 Q1563.45 1107.07 1566.6 1107.07 Q1569.74 1107.07 1571.57 1104.91 Q1573.42 1102.74 1573.42 1099.01 Q1573.42 1095.26 1571.57 1093.11 Q1569.74 1090.96 1566.6 1090.96 M1575.88 1076.3 L1575.88 1080.56 Q1574.12 1079.73 1572.31 1079.29 Q1570.53 1078.85 1568.77 1078.85 Q1564.14 1078.85 1561.69 1081.97 Q1559.26 1085.1 1558.91 1091.42 Q1560.28 1089.41 1562.34 1088.34 Q1564.4 1087.25 1566.87 1087.25 Q1572.08 1087.25 1575.09 1090.42 Q1578.12 1093.57 1578.12 1099.01 Q1578.12 1104.34 1574.97 1107.55 Q1571.83 1110.77 1566.6 1110.77 Q1560.6 1110.77 1557.43 1106.19 Q1554.26 1101.58 1554.26 1092.85 Q1554.26 1084.66 1558.15 1079.8 Q1562.03 1074.91 1568.59 1074.91 Q1570.35 1074.91 1572.13 1075.26 Q1573.93 1075.61 1575.88 1076.3 Z\" fill=\"#000000\" fill-rule=\"evenodd\" fill-opacity=\"1\" /><path clip-path=\"url(#clip730)\" d=\"M1639.06 1093.27 L1668.73 1093.27 L1668.73 1097.21 L1639.06 1097.21 L1639.06 1093.27 Z\" fill=\"#000000\" fill-rule=\"evenodd\" fill-opacity=\"1\" /><path clip-path=\"url(#clip730)\" d=\"M1688.83 1078.62 Q1685.22 1078.62 1683.39 1082.18 Q1681.58 1085.72 1681.58 1092.85 Q1681.58 1099.96 1683.39 1103.53 Q1685.22 1107.07 1688.83 1107.07 Q1692.46 1107.07 1694.27 1103.53 Q1696.1 1099.96 1696.1 1092.85 Q1696.1 1085.72 1694.27 1082.18 Q1692.46 1078.62 1688.83 1078.62 M1688.83 1074.91 Q1694.64 1074.91 1697.69 1079.52 Q1700.77 1084.1 1700.77 1092.85 Q1700.77 1101.58 1697.69 1106.19 Q1694.64 1110.77 1688.83 1110.77 Q1683.02 1110.77 1679.94 1106.19 Q1676.88 1101.58 1676.88 1092.85 Q1676.88 1084.1 1679.94 1079.52 Q1683.02 1074.91 1688.83 1074.91 Z\" fill=\"#000000\" fill-rule=\"evenodd\" fill-opacity=\"1\" /><path clip-path=\"url(#clip730)\" d=\"M1708.99 1104.22 L1713.87 1104.22 L1713.87 1110.1 L1708.99 1110.1 L1708.99 1104.22 Z\" fill=\"#000000\" fill-rule=\"evenodd\" fill-opacity=\"1\" /><path clip-path=\"url(#clip730)\" d=\"M1738.23 1091.47 Q1741.58 1092.18 1743.46 1094.45 Q1745.35 1096.72 1745.35 1100.05 Q1745.35 1105.17 1741.84 1107.97 Q1738.32 1110.77 1731.84 1110.77 Q1729.66 1110.77 1727.35 1110.33 Q1725.05 1109.91 1722.6 1109.06 L1722.6 1104.54 Q1724.54 1105.68 1726.86 1106.26 Q1729.17 1106.84 1731.7 1106.84 Q1736.1 1106.84 1738.39 1105.1 Q1740.7 1103.36 1740.7 1100.05 Q1740.7 1097 1738.55 1095.29 Q1736.42 1093.55 1732.6 1093.55 L1728.57 1093.55 L1728.57 1089.71 L1732.79 1089.71 Q1736.23 1089.71 1738.06 1088.34 Q1739.89 1086.95 1739.89 1084.36 Q1739.89 1081.7 1737.99 1080.29 Q1736.12 1078.85 1732.6 1078.85 Q1730.68 1078.85 1728.48 1079.27 Q1726.28 1079.68 1723.64 1080.56 L1723.64 1076.4 Q1726.3 1075.66 1728.62 1075.29 Q1730.96 1074.91 1733.02 1074.91 Q1738.34 1074.91 1741.44 1077.35 Q1744.54 1079.75 1744.54 1083.87 Q1744.54 1086.74 1742.9 1088.73 Q1741.26 1090.7 1738.23 1091.47 Z\" fill=\"#000000\" fill-rule=\"evenodd\" fill-opacity=\"1\" /><path clip-path=\"url(#clip730)\" d=\"M1837.23 1078.62 Q1833.62 1078.62 1831.79 1082.18 Q1829.98 1085.72 1829.98 1092.85 Q1829.98 1099.96 1831.79 1103.53 Q1833.62 1107.07 1837.23 1107.07 Q1840.86 1107.07 1842.67 1103.53 Q1844.5 1099.96 1844.5 1092.85 Q1844.5 1085.72 1842.67 1082.18 Q1840.86 1078.62 1837.23 1078.62 M1837.23 1074.91 Q1843.04 1074.91 1846.09 1079.52 Q1849.17 1084.1 1849.17 1092.85 Q1849.17 1101.58 1846.09 1106.19 Q1843.04 1110.77 1837.23 1110.77 Q1831.42 1110.77 1828.34 1106.19 Q1825.28 1101.58 1825.28 1092.85 Q1825.28 1084.1 1828.34 1079.52 Q1831.42 1074.91 1837.23 1074.91 Z\" fill=\"#000000\" fill-rule=\"evenodd\" fill-opacity=\"1\" /><path clip-path=\"url(#clip730)\" d=\"M1857.39 1104.22 L1862.27 1104.22 L1862.27 1110.1 L1857.39 1110.1 L1857.39 1104.22 Z\" fill=\"#000000\" fill-rule=\"evenodd\" fill-opacity=\"1\" /><path clip-path=\"url(#clip730)\" d=\"M1882.46 1078.62 Q1878.85 1078.62 1877.02 1082.18 Q1875.21 1085.72 1875.21 1092.85 Q1875.21 1099.96 1877.02 1103.53 Q1878.85 1107.07 1882.46 1107.07 Q1886.09 1107.07 1887.9 1103.53 Q1889.73 1099.96 1889.73 1092.85 Q1889.73 1085.72 1887.9 1082.18 Q1886.09 1078.62 1882.46 1078.62 M1882.46 1074.91 Q1888.27 1074.91 1891.33 1079.52 Q1894.4 1084.1 1894.4 1092.85 Q1894.4 1101.58 1891.33 1106.19 Q1888.27 1110.77 1882.46 1110.77 Q1876.65 1110.77 1873.57 1106.19 Q1870.52 1101.58 1870.52 1092.85 Q1870.52 1084.1 1873.57 1079.52 Q1876.65 1074.91 1882.46 1074.91 Z\" fill=\"#000000\" fill-rule=\"evenodd\" fill-opacity=\"1\" /><path clip-path=\"url(#clip730)\" d=\"M2005.19 1078.62 Q2001.58 1078.62 1999.75 1082.18 Q1997.94 1085.72 1997.94 1092.85 Q1997.94 1099.96 1999.75 1103.53 Q2001.58 1107.07 2005.19 1107.07 Q2008.82 1107.07 2010.63 1103.53 Q2012.46 1099.96 2012.46 1092.85 Q2012.46 1085.72 2010.63 1082.18 Q2008.82 1078.62 2005.19 1078.62 M2005.19 1074.91 Q2011 1074.91 2014.06 1079.52 Q2017.13 1084.1 2017.13 1092.85 Q2017.13 1101.58 2014.06 1106.19 Q2011 1110.77 2005.19 1110.77 Q1999.38 1110.77 1996.3 1106.19 Q1993.25 1101.58 1993.25 1092.85 Q1993.25 1084.1 1996.3 1079.52 Q1999.38 1074.91 2005.19 1074.91 Z\" fill=\"#000000\" fill-rule=\"evenodd\" fill-opacity=\"1\" /><path clip-path=\"url(#clip730)\" d=\"M2025.35 1104.22 L2030.24 1104.22 L2030.24 1110.1 L2025.35 1110.1 L2025.35 1104.22 Z\" fill=\"#000000\" fill-rule=\"evenodd\" fill-opacity=\"1\" /><path clip-path=\"url(#clip730)\" d=\"M2054.59 1091.47 Q2057.94 1092.18 2059.82 1094.45 Q2061.72 1096.72 2061.72 1100.05 Q2061.72 1105.17 2058.2 1107.97 Q2054.68 1110.77 2048.2 1110.77 Q2046.02 1110.77 2043.71 1110.33 Q2041.42 1109.91 2038.96 1109.06 L2038.96 1104.54 Q2040.91 1105.68 2043.22 1106.26 Q2045.54 1106.84 2048.06 1106.84 Q2052.46 1106.84 2054.75 1105.1 Q2057.06 1103.36 2057.06 1100.05 Q2057.06 1097 2054.91 1095.29 Q2052.78 1093.55 2048.96 1093.55 L2044.93 1093.55 L2044.93 1089.71 L2049.15 1089.71 Q2052.6 1089.71 2054.43 1088.34 Q2056.25 1086.95 2056.25 1084.36 Q2056.25 1081.7 2054.36 1080.29 Q2052.48 1078.85 2048.96 1078.85 Q2047.04 1078.85 2044.84 1079.27 Q2042.64 1079.68 2040 1080.56 L2040 1076.4 Q2042.67 1075.66 2044.98 1075.29 Q2047.32 1074.91 2049.38 1074.91 Q2054.7 1074.91 2057.81 1077.35 Q2060.91 1079.75 2060.91 1083.87 Q2060.91 1086.74 2059.26 1088.73 Q2057.62 1090.7 2054.59 1091.47 Z\" fill=\"#000000\" fill-rule=\"evenodd\" fill-opacity=\"1\" /><path clip-path=\"url(#clip730)\" d=\"M2172.42 1078.62 Q2168.81 1078.62 2166.98 1082.18 Q2165.18 1085.72 2165.18 1092.85 Q2165.18 1099.96 2166.98 1103.53 Q2168.81 1107.07 2172.42 1107.07 Q2176.06 1107.07 2177.86 1103.53 Q2179.69 1099.96 2179.69 1092.85 Q2179.69 1085.72 2177.86 1082.18 Q2176.06 1078.62 2172.42 1078.62 M2172.42 1074.91 Q2178.23 1074.91 2181.29 1079.52 Q2184.37 1084.1 2184.37 1092.85 Q2184.37 1101.58 2181.29 1106.19 Q2178.23 1110.77 2172.42 1110.77 Q2166.61 1110.77 2163.53 1106.19 Q2160.48 1101.58 2160.48 1092.85 Q2160.48 1084.1 2163.53 1079.52 Q2166.61 1074.91 2172.42 1074.91 Z\" fill=\"#000000\" fill-rule=\"evenodd\" fill-opacity=\"1\" /><path clip-path=\"url(#clip730)\" d=\"M2192.58 1104.22 L2197.47 1104.22 L2197.47 1110.1 L2192.58 1110.1 L2192.58 1104.22 Z\" fill=\"#000000\" fill-rule=\"evenodd\" fill-opacity=\"1\" /><path clip-path=\"url(#clip730)\" d=\"M2218.23 1090.96 Q2215.08 1090.96 2213.23 1093.11 Q2211.4 1095.26 2211.4 1099.01 Q2211.4 1102.74 2213.23 1104.91 Q2215.08 1107.07 2218.23 1107.07 Q2221.38 1107.07 2223.21 1104.91 Q2225.06 1102.74 2225.06 1099.01 Q2225.06 1095.26 2223.21 1093.11 Q2221.38 1090.96 2218.23 1090.96 M2227.51 1076.3 L2227.51 1080.56 Q2225.75 1079.73 2223.95 1079.29 Q2222.17 1078.85 2220.41 1078.85 Q2215.78 1078.85 2213.32 1081.97 Q2210.89 1085.1 2210.55 1091.42 Q2211.91 1089.41 2213.97 1088.34 Q2216.03 1087.25 2218.51 1087.25 Q2223.72 1087.25 2226.73 1090.42 Q2229.76 1093.57 2229.76 1099.01 Q2229.76 1104.34 2226.61 1107.55 Q2223.46 1110.77 2218.23 1110.77 Q2212.24 1110.77 2209.06 1106.19 Q2205.89 1101.58 2205.89 1092.85 Q2205.89 1084.66 2209.78 1079.8 Q2213.67 1074.91 2220.22 1074.91 Q2221.98 1074.91 2223.76 1075.26 Q2225.57 1075.61 2227.51 1076.3 Z\" fill=\"#000000\" fill-rule=\"evenodd\" fill-opacity=\"1\" /><path clip-path=\"url(#clip730)\" d=\"M1547.93 1187.22 L1547.93 1206.12 L1542.04 1206.12 L1542.04 1156.92 L1547.93 1156.92 L1547.93 1162.33 Q1549.78 1159.14 1552.58 1157.62 Q1555.41 1156.06 1559.33 1156.06 Q1565.82 1156.06 1569.86 1161.21 Q1573.93 1166.37 1573.93 1174.77 Q1573.93 1183.17 1569.86 1188.33 Q1565.82 1193.49 1559.33 1193.49 Q1555.41 1193.49 1552.58 1191.96 Q1549.78 1190.4 1547.93 1187.22 M1567.86 1174.77 Q1567.86 1168.31 1565.18 1164.65 Q1562.54 1160.96 1557.89 1160.96 Q1553.25 1160.96 1550.57 1164.65 Q1547.93 1168.31 1547.93 1174.77 Q1547.93 1181.23 1550.57 1184.92 Q1553.25 1188.59 1557.89 1188.59 Q1562.54 1188.59 1565.18 1184.92 Q1567.86 1181.23 1567.86 1174.77 Z\" fill=\"#000000\" fill-rule=\"evenodd\" fill-opacity=\"1\" /><path clip-path=\"url(#clip730)\" d=\"M1604.3 1162.39 Q1603.31 1161.82 1602.14 1161.56 Q1600.99 1161.28 1599.59 1161.28 Q1594.62 1161.28 1591.95 1164.52 Q1589.31 1167.74 1589.31 1173.79 L1589.31 1192.56 L1583.42 1192.56 L1583.42 1156.92 L1589.31 1156.92 L1589.31 1162.45 Q1591.15 1159.21 1594.11 1157.65 Q1597.07 1156.06 1601.31 1156.06 Q1601.91 1156.06 1602.64 1156.15 Q1603.38 1156.22 1604.27 1156.37 L1604.3 1162.39 Z\" fill=\"#000000\" fill-rule=\"evenodd\" fill-opacity=\"1\" /><path clip-path=\"url(#clip730)\" d=\"M1639.5 1173.28 L1639.5 1176.14 L1612.57 1176.14 Q1612.96 1182.19 1616.2 1185.37 Q1619.48 1188.52 1625.31 1188.52 Q1628.68 1188.52 1631.83 1187.69 Q1635.01 1186.87 1638.13 1185.21 L1638.13 1190.75 Q1634.98 1192.09 1631.67 1192.79 Q1628.36 1193.49 1624.96 1193.49 Q1616.43 1193.49 1611.43 1188.52 Q1606.46 1183.56 1606.46 1175.09 Q1606.46 1166.34 1611.17 1161.21 Q1615.92 1156.06 1623.94 1156.06 Q1631.13 1156.06 1635.3 1160.7 Q1639.5 1165.32 1639.5 1173.28 M1633.65 1171.56 Q1633.58 1166.75 1630.94 1163.89 Q1628.33 1161.02 1624 1161.02 Q1619.1 1161.02 1616.14 1163.79 Q1613.21 1166.56 1612.77 1171.59 L1633.65 1171.56 Z\" fill=\"#000000\" fill-rule=\"evenodd\" fill-opacity=\"1\" /><path clip-path=\"url(#clip730)\" d=\"M1672.57 1162.33 L1672.57 1143.04 L1678.43 1143.04 L1678.43 1192.56 L1672.57 1192.56 L1672.57 1187.22 Q1670.73 1190.4 1667.89 1191.96 Q1665.09 1193.49 1661.15 1193.49 Q1654.68 1193.49 1650.61 1188.33 Q1646.57 1183.17 1646.57 1174.77 Q1646.57 1166.37 1650.61 1161.21 Q1654.68 1156.06 1661.15 1156.06 Q1665.09 1156.06 1667.89 1157.62 Q1670.73 1159.14 1672.57 1162.33 M1652.62 1174.77 Q1652.62 1181.23 1655.26 1184.92 Q1657.93 1188.59 1662.58 1188.59 Q1667.22 1188.59 1669.9 1184.92 Q1672.57 1181.23 1672.57 1174.77 Q1672.57 1168.31 1669.9 1164.65 Q1667.22 1160.96 1662.58 1160.96 Q1657.93 1160.96 1655.26 1164.65 Q1652.62 1168.31 1652.62 1174.77 Z\" fill=\"#000000\" fill-rule=\"evenodd\" fill-opacity=\"1\" /><path clip-path=\"url(#clip730)\" d=\"M1690.49 1156.92 L1696.35 1156.92 L1696.35 1192.56 L1690.49 1192.56 L1690.49 1156.92 M1690.49 1143.04 L1696.35 1143.04 L1696.35 1150.45 L1690.49 1150.45 L1690.49 1143.04 Z\" fill=\"#000000\" fill-rule=\"evenodd\" fill-opacity=\"1\" /><path clip-path=\"url(#clip730)\" d=\"M1734.26 1158.28 L1734.26 1163.76 Q1731.77 1162.39 1729.26 1161.72 Q1726.78 1161.02 1724.23 1161.02 Q1718.53 1161.02 1715.38 1164.65 Q1712.23 1168.25 1712.23 1174.77 Q1712.23 1181.3 1715.38 1184.92 Q1718.53 1188.52 1724.23 1188.52 Q1726.78 1188.52 1729.26 1187.85 Q1731.77 1187.15 1734.26 1185.78 L1734.26 1191.2 Q1731.8 1192.34 1729.16 1192.91 Q1726.55 1193.49 1723.59 1193.49 Q1715.54 1193.49 1710.8 1188.43 Q1706.06 1183.37 1706.06 1174.77 Q1706.06 1166.05 1710.83 1161.05 Q1715.64 1156.06 1723.97 1156.06 Q1726.68 1156.06 1729.26 1156.63 Q1731.84 1157.17 1734.26 1158.28 Z\" fill=\"#000000\" fill-rule=\"evenodd\" fill-opacity=\"1\" /><path clip-path=\"url(#clip730)\" d=\"M1750.23 1146.79 L1750.23 1156.92 L1762.3 1156.92 L1762.3 1161.47 L1750.23 1161.47 L1750.23 1180.82 Q1750.23 1185.18 1751.41 1186.42 Q1752.62 1187.66 1756.28 1187.66 L1762.3 1187.66 L1762.3 1192.56 L1756.28 1192.56 Q1749.5 1192.56 1746.92 1190.05 Q1744.34 1187.5 1744.34 1180.82 L1744.34 1161.47 L1740.05 1161.47 L1740.05 1156.92 L1744.34 1156.92 L1744.34 1146.79 L1750.23 1146.79 Z\" fill=\"#000000\" fill-rule=\"evenodd\" fill-opacity=\"1\" /><path clip-path=\"url(#clip730)\" d=\"M1770 1156.92 L1775.86 1156.92 L1775.86 1192.56 L1770 1192.56 L1770 1156.92 M1770 1143.04 L1775.86 1143.04 L1775.86 1150.45 L1770 1150.45 L1770 1143.04 Z\" fill=\"#000000\" fill-rule=\"evenodd\" fill-opacity=\"1\" /><path clip-path=\"url(#clip730)\" d=\"M1801.92 1161.02 Q1797.21 1161.02 1794.47 1164.71 Q1791.74 1168.37 1791.74 1174.77 Q1791.74 1181.17 1794.44 1184.86 Q1797.18 1188.52 1801.92 1188.52 Q1806.6 1188.52 1809.34 1184.83 Q1812.08 1181.14 1812.08 1174.77 Q1812.08 1168.44 1809.34 1164.75 Q1806.6 1161.02 1801.92 1161.02 M1801.92 1156.06 Q1809.56 1156.06 1813.92 1161.02 Q1818.28 1165.99 1818.28 1174.77 Q1818.28 1183.52 1813.92 1188.52 Q1809.56 1193.49 1801.92 1193.49 Q1794.25 1193.49 1789.89 1188.52 Q1785.56 1183.52 1785.56 1174.77 Q1785.56 1165.99 1789.89 1161.02 Q1794.25 1156.06 1801.92 1156.06 Z\" fill=\"#000000\" fill-rule=\"evenodd\" fill-opacity=\"1\" /><path clip-path=\"url(#clip730)\" d=\"M1857.62 1171.05 L1857.62 1192.56 L1851.77 1192.56 L1851.77 1171.24 Q1851.77 1166.18 1849.79 1163.66 Q1847.82 1161.15 1843.87 1161.15 Q1839.13 1161.15 1836.39 1164.17 Q1833.66 1167.2 1833.66 1172.42 L1833.66 1192.56 L1827.77 1192.56 L1827.77 1156.92 L1833.66 1156.92 L1833.66 1162.45 Q1835.76 1159.24 1838.59 1157.65 Q1841.45 1156.06 1845.18 1156.06 Q1851.32 1156.06 1854.47 1159.88 Q1857.62 1163.66 1857.62 1171.05 Z\" fill=\"#000000\" fill-rule=\"evenodd\" fill-opacity=\"1\" /><path clip-path=\"url(#clip730)\" d=\"M1892.03 1157.97 L1892.03 1163.5 Q1889.55 1162.23 1886.87 1161.59 Q1884.2 1160.96 1881.33 1160.96 Q1876.97 1160.96 1874.78 1162.29 Q1872.61 1163.63 1872.61 1166.31 Q1872.61 1168.34 1874.17 1169.52 Q1875.73 1170.67 1880.44 1171.72 L1882.45 1172.16 Q1888.69 1173.5 1891.3 1175.95 Q1893.94 1178.37 1893.94 1182.73 Q1893.94 1187.69 1889.99 1190.59 Q1886.08 1193.49 1879.2 1193.49 Q1876.34 1193.49 1873.22 1192.91 Q1870.13 1192.37 1866.69 1191.26 L1866.69 1185.21 Q1869.94 1186.9 1873.09 1187.76 Q1876.24 1188.59 1879.33 1188.59 Q1883.47 1188.59 1885.7 1187.18 Q1887.92 1185.75 1887.92 1183.17 Q1887.92 1180.79 1886.3 1179.51 Q1884.71 1178.24 1879.27 1177.06 L1877.23 1176.59 Q1871.79 1175.44 1869.37 1173.08 Q1866.95 1170.7 1866.95 1166.56 Q1866.95 1161.53 1870.51 1158.79 Q1874.08 1156.06 1880.63 1156.06 Q1883.88 1156.06 1886.75 1156.53 Q1889.61 1157.01 1892.03 1157.97 Z\" fill=\"#000000\" fill-rule=\"evenodd\" fill-opacity=\"1\" /><path clip-path=\"url(#clip730)\" d=\"M1929.78 1146.79 L1929.78 1156.92 L1941.84 1156.92 L1941.84 1161.47 L1929.78 1161.47 L1929.78 1180.82 Q1929.78 1185.18 1930.96 1186.42 Q1932.17 1187.66 1935.83 1187.66 L1941.84 1187.66 L1941.84 1192.56 L1935.83 1192.56 Q1929.05 1192.56 1926.47 1190.05 Q1923.89 1187.5 1923.89 1180.82 L1923.89 1161.47 L1919.59 1161.47 L1919.59 1156.92 L1923.89 1156.92 L1923.89 1146.79 L1929.78 1146.79 Z\" fill=\"#000000\" fill-rule=\"evenodd\" fill-opacity=\"1\" /><path clip-path=\"url(#clip730)\" d=\"M1980.04 1173.28 L1980.04 1176.14 L1953.11 1176.14 Q1953.49 1182.19 1956.74 1185.37 Q1960.02 1188.52 1965.84 1188.52 Q1969.21 1188.52 1972.36 1187.69 Q1975.55 1186.87 1978.67 1185.21 L1978.67 1190.75 Q1975.52 1192.09 1972.21 1192.79 Q1968.9 1193.49 1965.49 1193.49 Q1956.96 1193.49 1951.96 1188.52 Q1947 1183.56 1947 1175.09 Q1947 1166.34 1951.71 1161.21 Q1956.45 1156.06 1964.47 1156.06 Q1971.66 1156.06 1975.83 1160.7 Q1980.04 1165.32 1980.04 1173.28 M1974.18 1171.56 Q1974.12 1166.75 1971.47 1163.89 Q1968.86 1161.02 1964.53 1161.02 Q1959.63 1161.02 1956.67 1163.79 Q1953.74 1166.56 1953.3 1171.59 L1974.18 1171.56 Z\" fill=\"#000000\" fill-rule=\"evenodd\" fill-opacity=\"1\" /><path clip-path=\"url(#clip730)\" d=\"M2012.37 1157.97 L2012.37 1163.5 Q2009.89 1162.23 2007.22 1161.59 Q2004.54 1160.96 2001.68 1160.96 Q1997.32 1160.96 1995.12 1162.29 Q1992.96 1163.63 1992.96 1166.31 Q1992.96 1168.34 1994.52 1169.52 Q1996.08 1170.67 2000.79 1171.72 L2002.79 1172.16 Q2009.03 1173.5 2011.64 1175.95 Q2014.28 1178.37 2014.28 1182.73 Q2014.28 1187.69 2010.34 1190.59 Q2006.42 1193.49 1999.55 1193.49 Q1996.68 1193.49 1993.56 1192.91 Q1990.47 1192.37 1987.04 1191.26 L1987.04 1185.21 Q1990.28 1186.9 1993.44 1187.76 Q1996.59 1188.59 1999.67 1188.59 Q2003.81 1188.59 2006.04 1187.18 Q2008.27 1185.75 2008.27 1183.17 Q2008.27 1180.79 2006.64 1179.51 Q2005.05 1178.24 1999.61 1177.06 L1997.57 1176.59 Q1992.13 1175.44 1989.71 1173.08 Q1987.29 1170.7 1987.29 1166.56 Q1987.29 1161.53 1990.86 1158.79 Q1994.42 1156.06 2000.98 1156.06 Q2004.22 1156.06 2007.09 1156.53 Q2009.95 1157.01 2012.37 1157.97 Z\" fill=\"#000000\" fill-rule=\"evenodd\" fill-opacity=\"1\" /><path clip-path=\"url(#clip730)\" d=\"M2029.4 1146.79 L2029.4 1156.92 L2041.46 1156.92 L2041.46 1161.47 L2029.4 1161.47 L2029.4 1180.82 Q2029.4 1185.18 2030.58 1186.42 Q2031.79 1187.66 2035.45 1187.66 L2041.46 1187.66 L2041.46 1192.56 L2035.45 1192.56 Q2028.67 1192.56 2026.09 1190.05 Q2023.51 1187.5 2023.51 1180.82 L2023.51 1161.47 L2019.22 1161.47 L2019.22 1156.92 L2023.51 1156.92 L2023.51 1146.79 L2029.4 1146.79 Z\" fill=\"#000000\" fill-rule=\"evenodd\" fill-opacity=\"1\" /><path clip-path=\"url(#clip730)\" d=\"M2093.34 1162.33 L2093.34 1143.04 L2099.2 1143.04 L2099.2 1192.56 L2093.34 1192.56 L2093.34 1187.22 Q2091.5 1190.4 2088.67 1191.96 Q2085.87 1193.49 2081.92 1193.49 Q2075.46 1193.49 2071.38 1188.33 Q2067.34 1183.17 2067.34 1174.77 Q2067.34 1166.37 2071.38 1161.21 Q2075.46 1156.06 2081.92 1156.06 Q2085.87 1156.06 2088.67 1157.62 Q2091.5 1159.14 2093.34 1162.33 M2073.39 1174.77 Q2073.39 1181.23 2076.03 1184.92 Q2078.7 1188.59 2083.35 1188.59 Q2088 1188.59 2090.67 1184.92 Q2093.34 1181.23 2093.34 1174.77 Q2093.34 1168.31 2090.67 1164.65 Q2088 1160.96 2083.35 1160.96 Q2078.7 1160.96 2076.03 1164.65 Q2073.39 1168.31 2073.39 1174.77 Z\" fill=\"#000000\" fill-rule=\"evenodd\" fill-opacity=\"1\" /><path clip-path=\"url(#clip730)\" d=\"M2127.46 1174.64 Q2120.37 1174.64 2117.63 1176.27 Q2114.89 1177.89 2114.89 1181.81 Q2114.89 1184.92 2116.93 1186.77 Q2119 1188.59 2122.53 1188.59 Q2127.4 1188.59 2130.33 1185.15 Q2133.29 1181.68 2133.29 1175.95 L2133.29 1174.64 L2127.46 1174.64 M2139.15 1172.23 L2139.15 1192.56 L2133.29 1192.56 L2133.29 1187.15 Q2131.28 1190.4 2128.29 1191.96 Q2125.3 1193.49 2120.97 1193.49 Q2115.5 1193.49 2112.25 1190.43 Q2109.04 1187.34 2109.04 1182.19 Q2109.04 1176.17 2113.05 1173.12 Q2117.09 1170.06 2125.08 1170.06 L2133.29 1170.06 L2133.29 1169.49 Q2133.29 1165.45 2130.62 1163.25 Q2127.97 1161.02 2123.17 1161.02 Q2120.11 1161.02 2117.22 1161.75 Q2114.32 1162.49 2111.65 1163.95 L2111.65 1158.54 Q2114.86 1157.3 2117.88 1156.69 Q2120.91 1156.06 2123.77 1156.06 Q2131.51 1156.06 2135.33 1160.07 Q2139.15 1164.08 2139.15 1172.23 Z\" fill=\"#000000\" fill-rule=\"evenodd\" fill-opacity=\"1\" /><path clip-path=\"url(#clip730)\" d=\"M2157 1146.79 L2157 1156.92 L2169.06 1156.92 L2169.06 1161.47 L2157 1161.47 L2157 1180.82 Q2157 1185.18 2158.18 1186.42 Q2159.39 1187.66 2163.05 1187.66 L2169.06 1187.66 L2169.06 1192.56 L2163.05 1192.56 Q2156.27 1192.56 2153.69 1190.05 Q2151.11 1187.5 2151.11 1180.82 L2151.11 1161.47 L2146.82 1161.47 L2146.82 1156.92 L2151.11 1156.92 L2151.11 1146.79 L2157 1146.79 Z\" fill=\"#000000\" fill-rule=\"evenodd\" fill-opacity=\"1\" /><path clip-path=\"url(#clip730)\" d=\"M2192.97 1174.64 Q2185.87 1174.64 2183.13 1176.27 Q2180.4 1177.89 2180.4 1181.81 Q2180.4 1184.92 2182.43 1186.77 Q2184.5 1188.59 2188.03 1188.59 Q2192.9 1188.59 2195.83 1185.15 Q2198.79 1181.68 2198.79 1175.95 L2198.79 1174.64 L2192.97 1174.64 M2204.65 1172.23 L2204.65 1192.56 L2198.79 1192.56 L2198.79 1187.15 Q2196.79 1190.4 2193.8 1191.96 Q2190.8 1193.49 2186.48 1193.49 Q2181 1193.49 2177.75 1190.43 Q2174.54 1187.34 2174.54 1182.19 Q2174.54 1176.17 2178.55 1173.12 Q2182.59 1170.06 2190.58 1170.06 L2198.79 1170.06 L2198.79 1169.49 Q2198.79 1165.45 2196.12 1163.25 Q2193.48 1161.02 2188.67 1161.02 Q2185.62 1161.02 2182.72 1161.75 Q2179.82 1162.49 2177.15 1163.95 L2177.15 1158.54 Q2180.36 1157.3 2183.39 1156.69 Q2186.41 1156.06 2189.28 1156.06 Q2197.01 1156.06 2200.83 1160.07 Q2204.65 1164.08 2204.65 1172.23 Z\" fill=\"#000000\" fill-rule=\"evenodd\" fill-opacity=\"1\" /><polyline clip-path=\"url(#clip733)\" style=\"stroke:#000000; stroke-linecap:butt; stroke-linejoin:round; stroke-width:2; stroke-opacity:0.1; fill:none\" points=\"\n",
       "  1393.94,880.983 2352.76,880.983 \n",
       "  \"/>\n",
       "<polyline clip-path=\"url(#clip733)\" style=\"stroke:#000000; stroke-linecap:butt; stroke-linejoin:round; stroke-width:2; stroke-opacity:0.1; fill:none\" points=\"\n",
       "  1393.94,712.685 2352.76,712.685 \n",
       "  \"/>\n",
       "<polyline clip-path=\"url(#clip733)\" style=\"stroke:#000000; stroke-linecap:butt; stroke-linejoin:round; stroke-width:2; stroke-opacity:0.1; fill:none\" points=\"\n",
       "  1393.94,544.386 2352.76,544.386 \n",
       "  \"/>\n",
       "<polyline clip-path=\"url(#clip733)\" style=\"stroke:#000000; stroke-linecap:butt; stroke-linejoin:round; stroke-width:2; stroke-opacity:0.1; fill:none\" points=\"\n",
       "  1393.94,376.087 2352.76,376.087 \n",
       "  \"/>\n",
       "<polyline clip-path=\"url(#clip733)\" style=\"stroke:#000000; stroke-linecap:butt; stroke-linejoin:round; stroke-width:2; stroke-opacity:0.1; fill:none\" points=\"\n",
       "  1393.94,207.789 2352.76,207.789 \n",
       "  \"/>\n",
       "<polyline clip-path=\"url(#clip730)\" style=\"stroke:#000000; stroke-linecap:butt; stroke-linejoin:round; stroke-width:4; stroke-opacity:1; fill:none\" points=\"\n",
       "  1393.94,1047.7 1393.94,47.2441 \n",
       "  \"/>\n",
       "<polyline clip-path=\"url(#clip730)\" style=\"stroke:#000000; stroke-linecap:butt; stroke-linejoin:round; stroke-width:4; stroke-opacity:1; fill:none\" points=\"\n",
       "  1393.94,880.983 1412.83,880.983 \n",
       "  \"/>\n",
       "<polyline clip-path=\"url(#clip730)\" style=\"stroke:#000000; stroke-linecap:butt; stroke-linejoin:round; stroke-width:4; stroke-opacity:1; fill:none\" points=\"\n",
       "  1393.94,712.685 1412.83,712.685 \n",
       "  \"/>\n",
       "<polyline clip-path=\"url(#clip730)\" style=\"stroke:#000000; stroke-linecap:butt; stroke-linejoin:round; stroke-width:4; stroke-opacity:1; fill:none\" points=\"\n",
       "  1393.94,544.386 1412.83,544.386 \n",
       "  \"/>\n",
       "<polyline clip-path=\"url(#clip730)\" style=\"stroke:#000000; stroke-linecap:butt; stroke-linejoin:round; stroke-width:4; stroke-opacity:1; fill:none\" points=\"\n",
       "  1393.94,376.087 1412.83,376.087 \n",
       "  \"/>\n",
       "<polyline clip-path=\"url(#clip730)\" style=\"stroke:#000000; stroke-linecap:butt; stroke-linejoin:round; stroke-width:4; stroke-opacity:1; fill:none\" points=\"\n",
       "  1393.94,207.789 1412.83,207.789 \n",
       "  \"/>\n",
       "<path clip-path=\"url(#clip730)\" d=\"M1250.99 881.435 L1280.67 881.435 L1280.67 885.37 L1250.99 885.37 L1250.99 881.435 Z\" fill=\"#000000\" fill-rule=\"evenodd\" fill-opacity=\"1\" /><path clip-path=\"url(#clip730)\" d=\"M1291.57 894.328 L1299.21 894.328 L1299.21 867.963 L1290.9 869.629 L1290.9 865.37 L1299.16 863.703 L1303.84 863.703 L1303.84 894.328 L1311.48 894.328 L1311.48 898.263 L1291.57 898.263 L1291.57 894.328 Z\" fill=\"#000000\" fill-rule=\"evenodd\" fill-opacity=\"1\" /><path clip-path=\"url(#clip730)\" d=\"M1320.92 892.384 L1325.81 892.384 L1325.81 898.263 L1320.92 898.263 L1320.92 892.384 Z\" fill=\"#000000\" fill-rule=\"evenodd\" fill-opacity=\"1\" /><path clip-path=\"url(#clip730)\" d=\"M1345.99 866.782 Q1342.38 866.782 1340.55 870.347 Q1338.75 873.889 1338.75 881.018 Q1338.75 888.125 1340.55 891.689 Q1342.38 895.231 1345.99 895.231 Q1349.63 895.231 1351.43 891.689 Q1353.26 888.125 1353.26 881.018 Q1353.26 873.889 1351.43 870.347 Q1349.63 866.782 1345.99 866.782 M1345.99 863.078 Q1351.8 863.078 1354.86 867.685 Q1357.94 872.268 1357.94 881.018 Q1357.94 889.745 1354.86 894.351 Q1351.8 898.935 1345.99 898.935 Q1340.18 898.935 1337.1 894.351 Q1334.05 889.745 1334.05 881.018 Q1334.05 872.268 1337.1 867.685 Q1340.18 863.078 1345.99 863.078 Z\" fill=\"#000000\" fill-rule=\"evenodd\" fill-opacity=\"1\" /><path clip-path=\"url(#clip730)\" d=\"M1251.99 713.136 L1281.66 713.136 L1281.66 717.071 L1251.99 717.071 L1251.99 713.136 Z\" fill=\"#000000\" fill-rule=\"evenodd\" fill-opacity=\"1\" /><path clip-path=\"url(#clip730)\" d=\"M1301.76 698.483 Q1298.14 698.483 1296.32 702.048 Q1294.51 705.59 1294.51 712.72 Q1294.51 719.826 1296.32 723.391 Q1298.14 726.932 1301.76 726.932 Q1305.39 726.932 1307.2 723.391 Q1309.02 719.826 1309.02 712.72 Q1309.02 705.59 1307.2 702.048 Q1305.39 698.483 1301.76 698.483 M1301.76 694.78 Q1307.57 694.78 1310.62 699.386 Q1313.7 703.97 1313.7 712.72 Q1313.7 721.446 1310.62 726.053 Q1307.57 730.636 1301.76 730.636 Q1295.95 730.636 1292.87 726.053 Q1289.81 721.446 1289.81 712.72 Q1289.81 703.97 1292.87 699.386 Q1295.95 694.78 1301.76 694.78 Z\" fill=\"#000000\" fill-rule=\"evenodd\" fill-opacity=\"1\" /><path clip-path=\"url(#clip730)\" d=\"M1321.92 724.085 L1326.8 724.085 L1326.8 729.965 L1321.92 729.965 L1321.92 724.085 Z\" fill=\"#000000\" fill-rule=\"evenodd\" fill-opacity=\"1\" /><path clip-path=\"url(#clip730)\" d=\"M1337.03 695.405 L1355.39 695.405 L1355.39 699.34 L1341.32 699.34 L1341.32 707.812 Q1342.33 707.465 1343.35 707.303 Q1344.37 707.118 1345.39 707.118 Q1351.18 707.118 1354.56 710.289 Q1357.94 713.46 1357.94 718.877 Q1357.94 724.456 1354.46 727.557 Q1350.99 730.636 1344.67 730.636 Q1342.5 730.636 1340.23 730.266 Q1337.98 729.895 1335.58 729.155 L1335.58 724.456 Q1337.66 725.59 1339.88 726.145 Q1342.1 726.701 1344.58 726.701 Q1348.58 726.701 1350.92 724.594 Q1353.26 722.488 1353.26 718.877 Q1353.26 715.266 1350.92 713.159 Q1348.58 711.053 1344.58 711.053 Q1342.7 711.053 1340.83 711.47 Q1338.98 711.886 1337.03 712.766 L1337.03 695.405 Z\" fill=\"#000000\" fill-rule=\"evenodd\" fill-opacity=\"1\" /><path clip-path=\"url(#clip730)\" d=\"M1300.76 530.185 Q1297.15 530.185 1295.32 533.75 Q1293.52 537.291 1293.52 544.421 Q1293.52 551.527 1295.32 555.092 Q1297.15 558.634 1300.76 558.634 Q1304.39 558.634 1306.2 555.092 Q1308.03 551.527 1308.03 544.421 Q1308.03 537.291 1306.2 533.75 Q1304.39 530.185 1300.76 530.185 M1300.76 526.481 Q1306.57 526.481 1309.63 531.088 Q1312.7 535.671 1312.7 544.421 Q1312.7 553.148 1309.63 557.754 Q1306.57 562.337 1300.76 562.337 Q1294.95 562.337 1291.87 557.754 Q1288.82 553.148 1288.82 544.421 Q1288.82 535.671 1291.87 531.088 Q1294.95 526.481 1300.76 526.481 Z\" fill=\"#000000\" fill-rule=\"evenodd\" fill-opacity=\"1\" /><path clip-path=\"url(#clip730)\" d=\"M1320.92 555.787 L1325.81 555.787 L1325.81 561.666 L1320.92 561.666 L1320.92 555.787 Z\" fill=\"#000000\" fill-rule=\"evenodd\" fill-opacity=\"1\" /><path clip-path=\"url(#clip730)\" d=\"M1345.99 530.185 Q1342.38 530.185 1340.55 533.75 Q1338.75 537.291 1338.75 544.421 Q1338.75 551.527 1340.55 555.092 Q1342.38 558.634 1345.99 558.634 Q1349.63 558.634 1351.43 555.092 Q1353.26 551.527 1353.26 544.421 Q1353.26 537.291 1351.43 533.75 Q1349.63 530.185 1345.99 530.185 M1345.99 526.481 Q1351.8 526.481 1354.86 531.088 Q1357.94 535.671 1357.94 544.421 Q1357.94 553.148 1354.86 557.754 Q1351.8 562.337 1345.99 562.337 Q1340.18 562.337 1337.1 557.754 Q1334.05 553.148 1334.05 544.421 Q1334.05 535.671 1337.1 531.088 Q1340.18 526.481 1345.99 526.481 Z\" fill=\"#000000\" fill-rule=\"evenodd\" fill-opacity=\"1\" /><path clip-path=\"url(#clip730)\" d=\"M1301.76 361.886 Q1298.14 361.886 1296.32 365.451 Q1294.51 368.993 1294.51 376.122 Q1294.51 383.229 1296.32 386.793 Q1298.14 390.335 1301.76 390.335 Q1305.39 390.335 1307.2 386.793 Q1309.02 383.229 1309.02 376.122 Q1309.02 368.993 1307.2 365.451 Q1305.39 361.886 1301.76 361.886 M1301.76 358.183 Q1307.57 358.183 1310.62 362.789 Q1313.7 367.372 1313.7 376.122 Q1313.7 384.849 1310.62 389.455 Q1307.57 394.039 1301.76 394.039 Q1295.95 394.039 1292.87 389.455 Q1289.81 384.849 1289.81 376.122 Q1289.81 367.372 1292.87 362.789 Q1295.95 358.183 1301.76 358.183 Z\" fill=\"#000000\" fill-rule=\"evenodd\" fill-opacity=\"1\" /><path clip-path=\"url(#clip730)\" d=\"M1321.92 387.488 L1326.8 387.488 L1326.8 393.367 L1321.92 393.367 L1321.92 387.488 Z\" fill=\"#000000\" fill-rule=\"evenodd\" fill-opacity=\"1\" /><path clip-path=\"url(#clip730)\" d=\"M1337.03 358.807 L1355.39 358.807 L1355.39 362.743 L1341.32 362.743 L1341.32 371.215 Q1342.33 370.868 1343.35 370.706 Q1344.37 370.52 1345.39 370.52 Q1351.18 370.52 1354.56 373.692 Q1357.94 376.863 1357.94 382.28 Q1357.94 387.858 1354.46 390.96 Q1350.99 394.039 1344.67 394.039 Q1342.5 394.039 1340.23 393.668 Q1337.98 393.298 1335.58 392.557 L1335.58 387.858 Q1337.66 388.993 1339.88 389.548 Q1342.1 390.104 1344.58 390.104 Q1348.58 390.104 1350.92 387.997 Q1353.26 385.891 1353.26 382.28 Q1353.26 378.669 1350.92 376.562 Q1348.58 374.456 1344.58 374.456 Q1342.7 374.456 1340.83 374.872 Q1338.98 375.289 1337.03 376.169 L1337.03 358.807 Z\" fill=\"#000000\" fill-rule=\"evenodd\" fill-opacity=\"1\" /><path clip-path=\"url(#clip730)\" d=\"M1291.57 221.134 L1299.21 221.134 L1299.21 194.768 L1290.9 196.435 L1290.9 192.176 L1299.16 190.509 L1303.84 190.509 L1303.84 221.134 L1311.48 221.134 L1311.48 225.069 L1291.57 225.069 L1291.57 221.134 Z\" fill=\"#000000\" fill-rule=\"evenodd\" fill-opacity=\"1\" /><path clip-path=\"url(#clip730)\" d=\"M1320.92 219.189 L1325.81 219.189 L1325.81 225.069 L1320.92 225.069 L1320.92 219.189 Z\" fill=\"#000000\" fill-rule=\"evenodd\" fill-opacity=\"1\" /><path clip-path=\"url(#clip730)\" d=\"M1345.99 193.588 Q1342.38 193.588 1340.55 197.152 Q1338.75 200.694 1338.75 207.824 Q1338.75 214.93 1340.55 218.495 Q1342.38 222.036 1345.99 222.036 Q1349.63 222.036 1351.43 218.495 Q1353.26 214.93 1353.26 207.824 Q1353.26 200.694 1351.43 197.152 Q1349.63 193.588 1345.99 193.588 M1345.99 189.884 Q1351.8 189.884 1354.86 194.49 Q1357.94 199.074 1357.94 207.824 Q1357.94 216.55 1354.86 221.157 Q1351.8 225.74 1345.99 225.74 Q1340.18 225.74 1337.1 221.157 Q1334.05 216.55 1334.05 207.824 Q1334.05 199.074 1337.1 194.49 Q1340.18 189.884 1345.99 189.884 Z\" fill=\"#000000\" fill-rule=\"evenodd\" fill-opacity=\"1\" /><circle clip-path=\"url(#clip733)\" cx=\"1810.7\" cy=\"417.851\" r=\"14\" fill=\"#cd5c5c\" fill-rule=\"evenodd\" fill-opacity=\"1\" stroke=\"#000000\" stroke-opacity=\"1\" stroke-width=\"2.4\"/>\n",
       "<circle clip-path=\"url(#clip733)\" cx=\"2127.15\" cy=\"766.01\" r=\"14\" fill=\"#cd5c5c\" fill-rule=\"evenodd\" fill-opacity=\"1\" stroke=\"#000000\" stroke-opacity=\"1\" stroke-width=\"2.4\"/>\n",
       "<circle clip-path=\"url(#clip733)\" cx=\"2230.96\" cy=\"947.813\" r=\"14\" fill=\"#cd5c5c\" fill-rule=\"evenodd\" fill-opacity=\"1\" stroke=\"#000000\" stroke-opacity=\"1\" stroke-width=\"2.4\"/>\n",
       "<circle clip-path=\"url(#clip733)\" cx=\"2083.99\" cy=\"889.213\" r=\"14\" fill=\"#cd5c5c\" fill-rule=\"evenodd\" fill-opacity=\"1\" stroke=\"#000000\" stroke-opacity=\"1\" stroke-width=\"2.4\"/>\n",
       "<circle clip-path=\"url(#clip733)\" cx=\"2325.62\" cy=\"836.92\" r=\"14\" fill=\"#cd5c5c\" fill-rule=\"evenodd\" fill-opacity=\"1\" stroke=\"#000000\" stroke-opacity=\"1\" stroke-width=\"2.4\"/>\n",
       "<circle clip-path=\"url(#clip733)\" cx=\"2265.37\" cy=\"939.511\" r=\"14\" fill=\"#cd5c5c\" fill-rule=\"evenodd\" fill-opacity=\"1\" stroke=\"#000000\" stroke-opacity=\"1\" stroke-width=\"2.4\"/>\n",
       "<circle clip-path=\"url(#clip733)\" cx=\"2053.28\" cy=\"903.956\" r=\"14\" fill=\"#cd5c5c\" fill-rule=\"evenodd\" fill-opacity=\"1\" stroke=\"#000000\" stroke-opacity=\"1\" stroke-width=\"2.4\"/>\n",
       "<circle clip-path=\"url(#clip733)\" cx=\"1609.14\" cy=\"728.987\" r=\"14\" fill=\"#cd5c5c\" fill-rule=\"evenodd\" fill-opacity=\"1\" stroke=\"#000000\" stroke-opacity=\"1\" stroke-width=\"2.4\"/>\n",
       "<circle clip-path=\"url(#clip733)\" cx=\"1761.24\" cy=\"808.445\" r=\"14\" fill=\"#cd5c5c\" fill-rule=\"evenodd\" fill-opacity=\"1\" stroke=\"#000000\" stroke-opacity=\"1\" stroke-width=\"2.4\"/>\n",
       "<circle clip-path=\"url(#clip733)\" cx=\"1610.42\" cy=\"801.516\" r=\"14\" fill=\"#cd5c5c\" fill-rule=\"evenodd\" fill-opacity=\"1\" stroke=\"#000000\" stroke-opacity=\"1\" stroke-width=\"2.4\"/>\n",
       "<circle clip-path=\"url(#clip733)\" cx=\"2105.83\" cy=\"860.675\" r=\"14\" fill=\"#cd5c5c\" fill-rule=\"evenodd\" fill-opacity=\"1\" stroke=\"#000000\" stroke-opacity=\"1\" stroke-width=\"2.4\"/>\n",
       "<circle clip-path=\"url(#clip733)\" cx=\"1783.63\" cy=\"916.911\" r=\"14\" fill=\"#cd5c5c\" fill-rule=\"evenodd\" fill-opacity=\"1\" stroke=\"#000000\" stroke-opacity=\"1\" stroke-width=\"2.4\"/>\n",
       "<circle clip-path=\"url(#clip733)\" cx=\"1816.05\" cy=\"601.416\" r=\"14\" fill=\"#cd5c5c\" fill-rule=\"evenodd\" fill-opacity=\"1\" stroke=\"#000000\" stroke-opacity=\"1\" stroke-width=\"2.4\"/>\n",
       "<circle clip-path=\"url(#clip733)\" cx=\"1963.87\" cy=\"956.672\" r=\"14\" fill=\"#cd5c5c\" fill-rule=\"evenodd\" fill-opacity=\"1\" stroke=\"#000000\" stroke-opacity=\"1\" stroke-width=\"2.4\"/>\n",
       "<circle clip-path=\"url(#clip733)\" cx=\"2098.78\" cy=\"1009.13\" r=\"14\" fill=\"#cd5c5c\" fill-rule=\"evenodd\" fill-opacity=\"1\" stroke=\"#000000\" stroke-opacity=\"1\" stroke-width=\"2.4\"/>\n",
       "<circle clip-path=\"url(#clip733)\" cx=\"1863.62\" cy=\"672.387\" r=\"14\" fill=\"#cd5c5c\" fill-rule=\"evenodd\" fill-opacity=\"1\" stroke=\"#000000\" stroke-opacity=\"1\" stroke-width=\"2.4\"/>\n",
       "<circle clip-path=\"url(#clip733)\" cx=\"2302.89\" cy=\"779.348\" r=\"14\" fill=\"#cd5c5c\" fill-rule=\"evenodd\" fill-opacity=\"1\" stroke=\"#000000\" stroke-opacity=\"1\" stroke-width=\"2.4\"/>\n",
       "<circle clip-path=\"url(#clip733)\" cx=\"2060.1\" cy=\"771.86\" r=\"14\" fill=\"#cd5c5c\" fill-rule=\"evenodd\" fill-opacity=\"1\" stroke=\"#000000\" stroke-opacity=\"1\" stroke-width=\"2.4\"/>\n",
       "<circle clip-path=\"url(#clip733)\" cx=\"1850.79\" cy=\"741.365\" r=\"14\" fill=\"#cd5c5c\" fill-rule=\"evenodd\" fill-opacity=\"1\" stroke=\"#000000\" stroke-opacity=\"1\" stroke-width=\"2.4\"/>\n",
       "<circle clip-path=\"url(#clip733)\" cx=\"2150.49\" cy=\"817.48\" r=\"14\" fill=\"#cd5c5c\" fill-rule=\"evenodd\" fill-opacity=\"1\" stroke=\"#000000\" stroke-opacity=\"1\" stroke-width=\"2.4\"/>\n",
       "<circle clip-path=\"url(#clip733)\" cx=\"2292.84\" cy=\"786.778\" r=\"14\" fill=\"#cd5c5c\" fill-rule=\"evenodd\" fill-opacity=\"1\" stroke=\"#000000\" stroke-opacity=\"1\" stroke-width=\"2.4\"/>\n",
       "<circle clip-path=\"url(#clip733)\" cx=\"1875.51\" cy=\"758.07\" r=\"14\" fill=\"#cd5c5c\" fill-rule=\"evenodd\" fill-opacity=\"1\" stroke=\"#000000\" stroke-opacity=\"1\" stroke-width=\"2.4\"/>\n",
       "<circle clip-path=\"url(#clip733)\" cx=\"2016.08\" cy=\"1019.39\" r=\"14\" fill=\"#cd5c5c\" fill-rule=\"evenodd\" fill-opacity=\"1\" stroke=\"#000000\" stroke-opacity=\"1\" stroke-width=\"2.4\"/>\n",
       "<circle clip-path=\"url(#clip733)\" cx=\"1912.65\" cy=\"197.152\" r=\"14\" fill=\"#4682b4\" fill-rule=\"evenodd\" fill-opacity=\"1\" stroke=\"#000000\" stroke-opacity=\"1\" stroke-width=\"2.4\"/>\n",
       "<circle clip-path=\"url(#clip733)\" cx=\"1802.5\" cy=\"307.229\" r=\"14\" fill=\"#4682b4\" fill-rule=\"evenodd\" fill-opacity=\"1\" stroke=\"#000000\" stroke-opacity=\"1\" stroke-width=\"2.4\"/>\n",
       "<circle clip-path=\"url(#clip733)\" cx=\"1474.03\" cy=\"131.15\" r=\"14\" fill=\"#4682b4\" fill-rule=\"evenodd\" fill-opacity=\"1\" stroke=\"#000000\" stroke-opacity=\"1\" stroke-width=\"2.4\"/>\n",
       "<circle clip-path=\"url(#clip733)\" cx=\"1907.09\" cy=\"408.771\" r=\"14\" fill=\"#4682b4\" fill-rule=\"evenodd\" fill-opacity=\"1\" stroke=\"#000000\" stroke-opacity=\"1\" stroke-width=\"2.4\"/>\n",
       "<circle clip-path=\"url(#clip733)\" cx=\"1887.66\" cy=\"447.583\" r=\"14\" fill=\"#4682b4\" fill-rule=\"evenodd\" fill-opacity=\"1\" stroke=\"#000000\" stroke-opacity=\"1\" stroke-width=\"2.4\"/>\n",
       "<circle clip-path=\"url(#clip733)\" cx=\"1838.03\" cy=\"269.452\" r=\"14\" fill=\"#4682b4\" fill-rule=\"evenodd\" fill-opacity=\"1\" stroke=\"#000000\" stroke-opacity=\"1\" stroke-width=\"2.4\"/>\n",
       "<circle clip-path=\"url(#clip733)\" cx=\"1647.22\" cy=\"310.217\" r=\"14\" fill=\"#4682b4\" fill-rule=\"evenodd\" fill-opacity=\"1\" stroke=\"#000000\" stroke-opacity=\"1\" stroke-width=\"2.4\"/>\n",
       "<circle clip-path=\"url(#clip733)\" cx=\"1871.27\" cy=\"147.466\" r=\"14\" fill=\"#4682b4\" fill-rule=\"evenodd\" fill-opacity=\"1\" stroke=\"#000000\" stroke-opacity=\"1\" stroke-width=\"2.4\"/>\n",
       "<circle clip-path=\"url(#clip733)\" cx=\"1647.15\" cy=\"412.86\" r=\"14\" fill=\"#4682b4\" fill-rule=\"evenodd\" fill-opacity=\"1\" stroke=\"#000000\" stroke-opacity=\"1\" stroke-width=\"2.4\"/>\n",
       "<circle clip-path=\"url(#clip733)\" cx=\"1883.57\" cy=\"469.275\" r=\"14\" fill=\"#4682b4\" fill-rule=\"evenodd\" fill-opacity=\"1\" stroke=\"#000000\" stroke-opacity=\"1\" stroke-width=\"2.4\"/>\n",
       "<circle clip-path=\"url(#clip733)\" cx=\"1598.77\" cy=\"442.094\" r=\"14\" fill=\"#4682b4\" fill-rule=\"evenodd\" fill-opacity=\"1\" stroke=\"#000000\" stroke-opacity=\"1\" stroke-width=\"2.4\"/>\n",
       "<circle clip-path=\"url(#clip733)\" cx=\"1702.41\" cy=\"284.221\" r=\"14\" fill=\"#4682b4\" fill-rule=\"evenodd\" fill-opacity=\"1\" stroke=\"#000000\" stroke-opacity=\"1\" stroke-width=\"2.4\"/>\n",
       "<circle clip-path=\"url(#clip733)\" cx=\"1726.38\" cy=\"425.593\" r=\"14\" fill=\"#4682b4\" fill-rule=\"evenodd\" fill-opacity=\"1\" stroke=\"#000000\" stroke-opacity=\"1\" stroke-width=\"2.4\"/>\n",
       "<circle clip-path=\"url(#clip733)\" cx=\"1692.96\" cy=\"328.792\" r=\"14\" fill=\"#4682b4\" fill-rule=\"evenodd\" fill-opacity=\"1\" stroke=\"#000000\" stroke-opacity=\"1\" stroke-width=\"2.4\"/>\n",
       "<circle clip-path=\"url(#clip733)\" cx=\"1696.01\" cy=\"373.875\" r=\"14\" fill=\"#4682b4\" fill-rule=\"evenodd\" fill-opacity=\"1\" stroke=\"#000000\" stroke-opacity=\"1\" stroke-width=\"2.4\"/>\n",
       "<circle clip-path=\"url(#clip733)\" cx=\"1468.75\" cy=\"287.459\" r=\"14\" fill=\"#4682b4\" fill-rule=\"evenodd\" fill-opacity=\"1\" stroke=\"#000000\" stroke-opacity=\"1\" stroke-width=\"2.4\"/>\n",
       "<circle clip-path=\"url(#clip733)\" cx=\"1668.11\" cy=\"309.001\" r=\"14\" fill=\"#4682b4\" fill-rule=\"evenodd\" fill-opacity=\"1\" stroke=\"#000000\" stroke-opacity=\"1\" stroke-width=\"2.4\"/>\n",
       "<circle clip-path=\"url(#clip733)\" cx=\"2061.2\" cy=\"330.112\" r=\"14\" fill=\"#4682b4\" fill-rule=\"evenodd\" fill-opacity=\"1\" stroke=\"#000000\" stroke-opacity=\"1\" stroke-width=\"2.4\"/>\n",
       "<circle clip-path=\"url(#clip733)\" cx=\"1863.97\" cy=\"446.445\" r=\"14\" fill=\"#4682b4\" fill-rule=\"evenodd\" fill-opacity=\"1\" stroke=\"#000000\" stroke-opacity=\"1\" stroke-width=\"2.4\"/>\n",
       "<circle clip-path=\"url(#clip733)\" cx=\"1552.47\" cy=\"136.466\" r=\"14\" fill=\"#4682b4\" fill-rule=\"evenodd\" fill-opacity=\"1\" stroke=\"#000000\" stroke-opacity=\"1\" stroke-width=\"2.4\"/>\n",
       "<circle clip-path=\"url(#clip733)\" cx=\"1888.72\" cy=\"289.377\" r=\"14\" fill=\"#4682b4\" fill-rule=\"evenodd\" fill-opacity=\"1\" stroke=\"#000000\" stroke-opacity=\"1\" stroke-width=\"2.4\"/>\n",
       "<circle clip-path=\"url(#clip733)\" cx=\"1495.39\" cy=\"261.974\" r=\"14\" fill=\"#4682b4\" fill-rule=\"evenodd\" fill-opacity=\"1\" stroke=\"#000000\" stroke-opacity=\"1\" stroke-width=\"2.4\"/>\n",
       "<circle clip-path=\"url(#clip733)\" cx=\"2222.68\" cy=\"75.5589\" r=\"14\" fill=\"#4682b4\" fill-rule=\"evenodd\" fill-opacity=\"1\" stroke=\"#000000\" stroke-opacity=\"1\" stroke-width=\"2.4\"/>\n",
       "<circle clip-path=\"url(#clip733)\" cx=\"1619.08\" cy=\"600.092\" r=\"14\" fill=\"#4682b4\" fill-rule=\"evenodd\" fill-opacity=\"1\" stroke=\"#000000\" stroke-opacity=\"1\" stroke-width=\"2.4\"/>\n",
       "<circle clip-path=\"url(#clip733)\" cx=\"1663.73\" cy=\"228.965\" r=\"14\" fill=\"#4682b4\" fill-rule=\"evenodd\" fill-opacity=\"1\" stroke=\"#000000\" stroke-opacity=\"1\" stroke-width=\"2.4\"/>\n",
       "<circle clip-path=\"url(#clip733)\" cx=\"1421.07\" cy=\"406.75\" r=\"14\" fill=\"#4682b4\" fill-rule=\"evenodd\" fill-opacity=\"1\" stroke=\"#000000\" stroke-opacity=\"1\" stroke-width=\"2.4\"/>\n",
       "<circle clip-path=\"url(#clip733)\" cx=\"1721\" cy=\"159.677\" r=\"14\" fill=\"#4682b4\" fill-rule=\"evenodd\" fill-opacity=\"1\" stroke=\"#000000\" stroke-opacity=\"1\" stroke-width=\"2.4\"/>\n",
       "<path clip-path=\"url(#clip730)\" d=\"\n",
       "M2060.33 236.113 L2320.8 236.113 L2320.8 80.5926 L2060.33 80.5926  Z\n",
       "  \" fill=\"#ffffff\" fill-rule=\"evenodd\" fill-opacity=\"1\"/>\n",
       "<polyline clip-path=\"url(#clip730)\" style=\"stroke:#000000; stroke-linecap:butt; stroke-linejoin:round; stroke-width:4; stroke-opacity:1; fill:none\" points=\"\n",
       "  2060.33,236.113 2320.8,236.113 2320.8,80.5926 2060.33,80.5926 2060.33,236.113 \n",
       "  \"/>\n",
       "<circle clip-path=\"url(#clip730)\" cx=\"2102.94\" cy=\"132.433\" r=\"23\" fill=\"#cd5c5c\" fill-rule=\"evenodd\" fill-opacity=\"1\" stroke=\"#000000\" stroke-opacity=\"1\" stroke-width=\"3.84\"/>\n",
       "<path clip-path=\"url(#clip730)\" d=\"M2173.42 117.815 L2173.42 122.745 Q2171.06 120.546 2168.38 119.458 Q2165.72 118.37 2162.71 118.37 Q2156.78 118.37 2153.63 122.004 Q2150.48 125.616 2150.48 132.467 Q2150.48 139.296 2153.63 142.93 Q2156.78 146.541 2162.71 146.541 Q2165.72 146.541 2168.38 145.453 Q2171.06 144.365 2173.42 142.166 L2173.42 147.051 Q2170.97 148.717 2168.22 149.551 Q2165.48 150.384 2162.43 150.384 Q2154.58 150.384 2150.07 145.592 Q2145.55 140.777 2145.55 132.467 Q2145.55 124.134 2150.07 119.342 Q2154.58 114.528 2162.43 114.528 Q2165.53 114.528 2168.26 115.361 Q2171.02 116.171 2173.42 117.815 Z\" fill=\"#000000\" fill-rule=\"evenodd\" fill-opacity=\"1\" /><path clip-path=\"url(#clip730)\" d=\"M2190.51 126.773 Q2187.08 126.773 2185.09 129.458 Q2183.1 132.12 2183.1 136.773 Q2183.1 141.426 2185.07 144.111 Q2187.06 146.773 2190.51 146.773 Q2193.91 146.773 2195.9 144.088 Q2197.89 141.402 2197.89 136.773 Q2197.89 132.166 2195.9 129.481 Q2193.91 126.773 2190.51 126.773 M2190.51 123.162 Q2196.06 123.162 2199.23 126.773 Q2202.41 130.384 2202.41 136.773 Q2202.41 143.139 2199.23 146.773 Q2196.06 150.384 2190.51 150.384 Q2184.93 150.384 2181.76 146.773 Q2178.61 143.139 2178.61 136.773 Q2178.61 130.384 2181.76 126.773 Q2184.93 123.162 2190.51 123.162 Z\" fill=\"#000000\" fill-rule=\"evenodd\" fill-opacity=\"1\" /><path clip-path=\"url(#clip730)\" d=\"M2221.25 136.68 Q2216.09 136.68 2214.1 137.861 Q2212.1 139.041 2212.1 141.889 Q2212.1 144.157 2213.59 145.5 Q2215.09 146.819 2217.66 146.819 Q2221.2 146.819 2223.33 144.319 Q2225.48 141.796 2225.48 137.629 L2225.48 136.68 L2221.25 136.68 M2229.74 134.921 L2229.74 149.713 L2225.48 149.713 L2225.48 145.777 Q2224.03 148.139 2221.85 149.273 Q2219.67 150.384 2216.53 150.384 Q2212.54 150.384 2210.18 148.162 Q2207.85 145.916 2207.85 142.166 Q2207.85 137.791 2210.76 135.569 Q2213.7 133.347 2219.51 133.347 L2225.48 133.347 L2225.48 132.93 Q2225.48 129.991 2223.54 128.393 Q2221.62 126.773 2218.12 126.773 Q2215.9 126.773 2213.79 127.305 Q2211.69 127.838 2209.74 128.903 L2209.74 124.967 Q2212.08 124.065 2214.28 123.625 Q2216.48 123.162 2218.56 123.162 Q2224.19 123.162 2226.97 126.078 Q2229.74 128.995 2229.74 134.921 Z\" fill=\"#000000\" fill-rule=\"evenodd\" fill-opacity=\"1\" /><path clip-path=\"url(#clip730)\" d=\"M2242.73 116.426 L2242.73 123.787 L2251.5 123.787 L2251.5 127.097 L2242.73 127.097 L2242.73 141.171 Q2242.73 144.342 2243.59 145.245 Q2244.47 146.148 2247.13 146.148 L2251.5 146.148 L2251.5 149.713 L2247.13 149.713 Q2242.2 149.713 2240.32 147.884 Q2238.45 146.032 2238.45 141.171 L2238.45 127.097 L2235.32 127.097 L2235.32 123.787 L2238.45 123.787 L2238.45 116.426 L2242.73 116.426 Z\" fill=\"#000000\" fill-rule=\"evenodd\" fill-opacity=\"1\" /><circle clip-path=\"url(#clip730)\" cx=\"2102.94\" cy=\"184.273\" r=\"23\" fill=\"#4682b4\" fill-rule=\"evenodd\" fill-opacity=\"1\" stroke=\"#000000\" stroke-opacity=\"1\" stroke-width=\"3.84\"/>\n",
       "<path clip-path=\"url(#clip730)\" d=\"M2167.8 168.127 L2167.8 172.687 Q2165.14 171.414 2162.78 170.789 Q2160.41 170.164 2158.22 170.164 Q2154.4 170.164 2152.31 171.645 Q2150.25 173.127 2150.25 175.858 Q2150.25 178.15 2151.62 179.331 Q2153.01 180.488 2156.85 181.206 L2159.67 181.784 Q2164.91 182.78 2167.38 185.303 Q2169.88 187.803 2169.88 192.016 Q2169.88 197.039 2166.5 199.631 Q2163.15 202.224 2156.64 202.224 Q2154.19 202.224 2151.41 201.668 Q2148.66 201.113 2145.69 200.025 L2145.69 195.21 Q2148.54 196.807 2151.27 197.617 Q2154 198.428 2156.64 198.428 Q2160.65 198.428 2162.82 196.854 Q2165 195.28 2165 192.363 Q2165 189.817 2163.42 188.381 Q2161.87 186.946 2158.31 186.229 L2155.46 185.673 Q2150.23 184.631 2147.89 182.409 Q2145.55 180.187 2145.55 176.229 Q2145.55 171.645 2148.77 169.006 Q2152.01 166.368 2157.68 166.368 Q2160.11 166.368 2162.64 166.807 Q2165.16 167.247 2167.8 168.127 Z\" fill=\"#000000\" fill-rule=\"evenodd\" fill-opacity=\"1\" /><path clip-path=\"url(#clip730)\" d=\"M2188.77 188.52 Q2183.61 188.52 2181.62 189.701 Q2179.63 190.881 2179.63 193.729 Q2179.63 195.997 2181.11 197.34 Q2182.61 198.659 2185.18 198.659 Q2188.72 198.659 2190.85 196.159 Q2193.01 193.636 2193.01 189.469 L2193.01 188.52 L2188.77 188.52 M2197.27 186.761 L2197.27 201.553 L2193.01 201.553 L2193.01 197.617 Q2191.55 199.979 2189.37 201.113 Q2187.2 202.224 2184.05 202.224 Q2180.07 202.224 2177.71 200.002 Q2175.37 197.756 2175.37 194.006 Q2175.37 189.631 2178.29 187.409 Q2181.22 185.187 2187.04 185.187 L2193.01 185.187 L2193.01 184.77 Q2193.01 181.831 2191.06 180.233 Q2189.14 178.613 2185.65 178.613 Q2183.42 178.613 2181.32 179.145 Q2179.21 179.678 2177.27 180.743 L2177.27 176.807 Q2179.6 175.905 2181.8 175.465 Q2184 175.002 2186.09 175.002 Q2191.71 175.002 2194.49 177.918 Q2197.27 180.835 2197.27 186.761 Z\" fill=\"#000000\" fill-rule=\"evenodd\" fill-opacity=\"1\" /><path clip-path=\"url(#clip730)\" d=\"M2227.59 185.905 L2227.59 201.553 L2223.33 201.553 L2223.33 186.043 Q2223.33 182.363 2221.9 180.534 Q2220.46 178.706 2217.59 178.706 Q2214.14 178.706 2212.15 180.905 Q2210.16 183.104 2210.16 186.9 L2210.16 201.553 L2205.88 201.553 L2205.88 175.627 L2210.16 175.627 L2210.16 179.655 Q2211.69 177.317 2213.75 176.159 Q2215.83 175.002 2218.54 175.002 Q2223.01 175.002 2225.3 177.78 Q2227.59 180.534 2227.59 185.905 Z\" fill=\"#000000\" fill-rule=\"evenodd\" fill-opacity=\"1\" /><path clip-path=\"url(#clip730)\" d=\"M2253.15 179.562 L2253.15 165.534 L2257.41 165.534 L2257.41 201.553 L2253.15 201.553 L2253.15 197.664 Q2251.8 199.979 2249.74 201.113 Q2247.71 202.224 2244.84 202.224 Q2240.14 202.224 2237.17 198.474 Q2234.23 194.724 2234.23 188.613 Q2234.23 182.502 2237.17 178.752 Q2240.14 175.002 2244.84 175.002 Q2247.71 175.002 2249.74 176.136 Q2251.8 177.247 2253.15 179.562 M2238.63 188.613 Q2238.63 193.312 2240.55 195.997 Q2242.5 198.659 2245.88 198.659 Q2249.26 198.659 2251.2 195.997 Q2253.15 193.312 2253.15 188.613 Q2253.15 183.914 2251.2 181.252 Q2249.26 178.567 2245.88 178.567 Q2242.5 178.567 2240.55 181.252 Q2238.63 183.914 2238.63 188.613 Z\" fill=\"#000000\" fill-rule=\"evenodd\" fill-opacity=\"1\" /><path clip-path=\"url(#clip730)\" d=\"M2277.96 188.52 Q2272.8 188.52 2270.81 189.701 Q2268.82 190.881 2268.82 193.729 Q2268.82 195.997 2270.3 197.34 Q2271.8 198.659 2274.37 198.659 Q2277.91 198.659 2280.04 196.159 Q2282.2 193.636 2282.2 189.469 L2282.2 188.52 L2277.96 188.52 M2286.46 186.761 L2286.46 201.553 L2282.2 201.553 L2282.2 197.617 Q2280.74 199.979 2278.56 201.113 Q2276.39 202.224 2273.24 202.224 Q2269.26 202.224 2266.9 200.002 Q2264.56 197.756 2264.56 194.006 Q2264.56 189.631 2267.47 187.409 Q2270.41 185.187 2276.22 185.187 L2282.2 185.187 L2282.2 184.77 Q2282.2 181.831 2280.25 180.233 Q2278.33 178.613 2274.84 178.613 Q2272.61 178.613 2270.51 179.145 Q2268.4 179.678 2266.46 180.743 L2266.46 176.807 Q2268.79 175.905 2270.99 175.465 Q2273.19 175.002 2275.28 175.002 Q2280.9 175.002 2283.68 177.918 Q2286.46 180.835 2286.46 186.761 Z\" fill=\"#000000\" fill-rule=\"evenodd\" fill-opacity=\"1\" /><path clip-path=\"url(#clip730)\" d=\"M2295.23 165.534 L2299.49 165.534 L2299.49 201.553 L2295.23 201.553 L2295.23 165.534 Z\" fill=\"#000000\" fill-rule=\"evenodd\" fill-opacity=\"1\" /></svg>\n"
      ]
     },
     "execution_count": 88,
     "metadata": {},
     "output_type": "execute_result"
    }
   ],
   "source": [
    "scatter(X_test_Pr[1, y_test .== -1], X_test_Pr[2, y_test .== -1], \n",
    "            color = :indianred,\n",
    "            label = labels[l₁],\n",
    "            size = (600,300),\n",
    "            subplot = 1, layout = 2,\n",
    "            xlabel = \"true labels test data\")\n",
    "scatter!(X_test_Pr[1, y_test .== 1], X_test_Pr[2, y_test .== 1], \n",
    "            color = :steelblue,\n",
    "            label = labels[l₂],\n",
    "            subplot = 1, layout = 2)\n",
    "scatter!(X_test_Pr[1, ŷ_test .== -1], X_test_Pr[2, ŷ_test .== -1], \n",
    "            color = :indianred,\n",
    "            label = labels[l₁],\n",
    "            size = (600,300),\n",
    "            subplot = 2, layout = 2,\n",
    "            xlabel = \"predictions test data\")\n",
    "scatter!(X_test_Pr[1, ŷ_test .== 1], X_test_Pr[2, ŷ_test .== 1], \n",
    "            color = :steelblue,\n",
    "            label = labels[l₂],\n",
    "            subplot = 2, layout = 2)"
   ]
  },
  {
   "cell_type": "markdown",
   "metadata": {},
   "source": [
    "The fraction of correctly prediced data points is"
   ]
  },
  {
   "cell_type": "code",
   "execution_count": 89,
   "metadata": {},
   "outputs": [
    {
     "data": {
      "text/plain": [
       "0.1"
      ]
     },
     "execution_count": 89,
     "metadata": {},
     "output_type": "execute_result"
    }
   ],
   "source": [
    "count(y_test-ŷ_test .!= 0)/n"
   ]
  },
  {
   "cell_type": "markdown",
   "metadata": {},
   "source": [
    "# Neural Networks\n",
    "\n",
    "We will now compute a classification algorithm using a neural network.\n",
    "\n",
    "Instead of setting up the network by hand as we did in Notebook 4, we will use [Flux.jl](https://fluxml.ai).\n",
    "\n",
    "We set up a neural network with three layers.\n",
    "\n",
    "The first layer is $\\mathbb R^D\\to\\mathbb R^{N_1}$. \n",
    "\n",
    "The second layer is $\\mathbb R^{N_1}\\to\\mathbb R^{N_2}$. \n",
    "\n",
    "The third layer is $\\mathbb R^{N_2}\\to\\mathbb R^{2}$.\n",
    "\n",
    "The output in $\\mathbb R^{2}$ will be a discrete probability distribution for our two items. Therefore, we use as the activation function in the last layer the softmax function. The other activation functions are chosen to be the ReLu function."
   ]
  },
  {
   "cell_type": "code",
   "execution_count": 90,
   "metadata": {},
   "outputs": [
    {
     "data": {
      "text/plain": [
       "Chain(\n",
       "  Dense(784 => 20, relu),               \u001b[90m# 15_700 parameters\u001b[39m\n",
       "  Dense(20 => 15, relu),                \u001b[90m# 315 parameters\u001b[39m\n",
       "  Dense(15 => 2),                       \u001b[90m# 32 parameters\u001b[39m\n",
       "  NNlib.softmax,\n",
       ") \u001b[90m                  # Total: 6 arrays, \u001b[39m16_047 parameters, 63.059 KiB."
      ]
     },
     "execution_count": 90,
     "metadata": {},
     "output_type": "execute_result"
    }
   ],
   "source": [
    "N₁, N₂ = 20, 15\n",
    "\n",
    "NN = Flux.Chain(\n",
    "          Dense(28^2, N₁, relu),\n",
    "          Dense(N₁, N₂, relu),\n",
    "          Dense(N₂, 2),\n",
    "          softmax)"
   ]
  },
  {
   "cell_type": "markdown",
   "metadata": {},
   "source": [
    "We have to modify the output data accordingly."
   ]
  },
  {
   "cell_type": "code",
   "execution_count": 91,
   "metadata": {},
   "outputs": [],
   "source": [
    "y₀ = map(Y) do Yᵢ\n",
    "    if Yᵢ==l₁\n",
    "        [1;0]\n",
    "    elseif Yᵢ==l₂\n",
    "        [0;1]\n",
    "    end\n",
    "    end;"
   ]
  },
  {
   "cell_type": "markdown",
   "metadata": {},
   "source": [
    "As loss function we take the [crossentropy](https://en.wikipedia.org/wiki/Cross_entropy) function `ℓ(p,q) = -p₁ log(q₁) - p₂ log(q₂).`"
   ]
  },
  {
   "cell_type": "code",
   "execution_count": 92,
   "metadata": {},
   "outputs": [],
   "source": [
    "loss(x, y) = Flux.crossentropy(NN(x), y; dims = 2);\n",
    "# in Flux.jl the first variable is in ℝ^D"
   ]
  },
  {
   "cell_type": "markdown",
   "metadata": {},
   "source": [
    "The framework to set up a Flux.jl' model is as follows:\n",
    "\n",
    "(The code is adapted from the lecture on [Neural Nets](https://github.com/JuliaAcademy/DataScience/blob/main/10.%20Neural%20Nets.ipynb) by [Huda Nassar](https://github.com/nassarhuda).)"
   ]
  },
  {
   "cell_type": "code",
   "execution_count": 93,
   "metadata": {},
   "outputs": [],
   "source": [
    "ps = Flux.params(NN);\n",
    "dataset = [(Float32.(x),y) for (x,y) in zip(X_vec, y₀)];\n",
    "opt = ADAM();"
   ]
  },
  {
   "cell_type": "markdown",
   "metadata": {},
   "source": [
    "The model is the trained using Flux.jl's `train!` function."
   ]
  },
  {
   "cell_type": "code",
   "execution_count": 94,
   "metadata": {},
   "outputs": [
    {
     "name": "stderr",
     "output_type": "stream",
     "text": [
      "┌ Info: Epoch 1\n",
      "└ @ Main /Users/pb/.julia/packages/Flux/6Q5r4/src/optimise/train.jl:154\n",
      "┌ Info: Epoch 2\n",
      "└ @ Main /Users/pb/.julia/packages/Flux/6Q5r4/src/optimise/train.jl:154\n",
      "┌ Info: Epoch 3\n",
      "└ @ Main /Users/pb/.julia/packages/Flux/6Q5r4/src/optimise/train.jl:154\n"
     ]
    }
   ],
   "source": [
    "Flux.@epochs 3 Flux.train!(loss, ps, dataset, opt)"
   ]
  },
  {
   "cell_type": "markdown",
   "metadata": {},
   "source": [
    "Let us now see what the algorithm that we have learned predicts on randomly chosen elements from the test data set."
   ]
  },
  {
   "cell_type": "code",
   "execution_count": 95,
   "metadata": {},
   "outputs": [
    {
     "name": "stdout",
     "output_type": "stream",
     "text": [
      "With probability 0.247392214813419: Coat.\n",
      "\n",
      "With probability 0.752607785186581: Sandal.\n",
      "\n"
     ]
    },
    {
     "data": {
      "image/png": "[encoded data removed]",
      "text/plain": [
       "28×28 reinterpret(reshape, Gray{N0f8}, ::Array{N0f8,2}) with eltype Gray{N0f8}:\n",
       " Gray{N0f8}(0.0)    Gray{N0f8}(0.0)    …  Gray{N0f8}(0.0)\n",
       " Gray{N0f8}(0.0)    Gray{N0f8}(0.0)       Gray{N0f8}(0.0)\n",
       " Gray{N0f8}(0.0)    Gray{N0f8}(0.0)       Gray{N0f8}(0.0)\n",
       " Gray{N0f8}(0.0)    Gray{N0f8}(0.004)     Gray{N0f8}(0.0)\n",
       " Gray{N0f8}(0.0)    Gray{N0f8}(0.004)     Gray{N0f8}(0.0)\n",
       " Gray{N0f8}(0.0)    Gray{N0f8}(0.0)    …  Gray{N0f8}(0.0)\n",
       " Gray{N0f8}(0.004)  Gray{N0f8}(0.0)       Gray{N0f8}(0.0)\n",
       " Gray{N0f8}(0.0)    Gray{N0f8}(0.0)       Gray{N0f8}(0.0)\n",
       " Gray{N0f8}(0.0)    Gray{N0f8}(0.0)       Gray{N0f8}(0.0)\n",
       " Gray{N0f8}(0.0)    Gray{N0f8}(0.0)       Gray{N0f8}(0.008)\n",
       " Gray{N0f8}(0.0)    Gray{N0f8}(0.0)    …  Gray{N0f8}(0.0)\n",
       " Gray{N0f8}(0.0)    Gray{N0f8}(0.0)       Gray{N0f8}(0.259)\n",
       " Gray{N0f8}(0.0)    Gray{N0f8}(0.0)       Gray{N0f8}(0.396)\n",
       " ⋮                                     ⋱  \n",
       " Gray{N0f8}(0.0)    Gray{N0f8}(0.004)     Gray{N0f8}(0.0)\n",
       " Gray{N0f8}(0.0)    Gray{N0f8}(0.0)       Gray{N0f8}(0.0)\n",
       " Gray{N0f8}(0.0)    Gray{N0f8}(0.0)       Gray{N0f8}(0.0)\n",
       " Gray{N0f8}(0.004)  Gray{N0f8}(0.0)       Gray{N0f8}(0.0)\n",
       " Gray{N0f8}(0.0)    Gray{N0f8}(0.0)    …  Gray{N0f8}(0.0)\n",
       " Gray{N0f8}(0.004)  Gray{N0f8}(0.016)     Gray{N0f8}(0.0)\n",
       " Gray{N0f8}(0.0)    Gray{N0f8}(0.0)       Gray{N0f8}(0.0)\n",
       " Gray{N0f8}(0.157)  Gray{N0f8}(0.322)     Gray{N0f8}(0.0)\n",
       " Gray{N0f8}(0.169)  Gray{N0f8}(0.631)     Gray{N0f8}(0.0)\n",
       " Gray{N0f8}(0.0)    Gray{N0f8}(0.0)    …  Gray{N0f8}(0.0)\n",
       " Gray{N0f8}(0.0)    Gray{N0f8}(0.0)       Gray{N0f8}(0.0)\n",
       " Gray{N0f8}(0.0)    Gray{N0f8}(0.0)       Gray{N0f8}(0.0)"
      ]
     },
     "execution_count": 95,
     "metadata": {},
     "output_type": "execute_result"
    }
   ],
   "source": [
    "ℓ = rand(1:n)\n",
    "p = NN(X_test_vec[ℓ])\n",
    "println(\"With probability $(p[1]): Coat.\\n\")\n",
    "println(\"With probability $(p[2]): Sandal.\\n\")\n",
    "FashionMNIST.convert2image(X_test[:,:,ℓ])"
   ]
  },
  {
   "cell_type": "markdown",
   "metadata": {},
   "source": [
    "Finally, we consider again the projected data and compare the labels from the neural network to the true labels on the test data.\n",
    "\n",
    "The size of the points should be proportional to the probability returned from the neural network."
   ]
  },
  {
   "cell_type": "code",
   "execution_count": 118,
   "metadata": {},
   "outputs": [],
   "source": [
    "sizes = map(x->maximum(NN(x)), X_test_vec) .* 6\n",
    "ŷ₀_test = map(x->argmax(NN(x)), X_test_vec);"
   ]
  },
  {
   "cell_type": "code",
   "execution_count": 119,
   "metadata": {},
   "outputs": [
    {
     "data": {
      "image/svg+xml": [
       "<?xml version=\"1.0\" encoding=\"utf-8\"?>\n",
       "<svg xmlns=\"http://www.w3.org/2000/svg\" xmlns:xlink=\"http://www.w3.org/1999/xlink\" width=\"600\" height=\"300\" viewBox=\"0 0 2400 1200\">\n",
       "<defs>\n",
       "  <clipPath id=\"clip250\">\n",
       "    <rect x=\"0\" y=\"0\" width=\"2400\" height=\"1200\"/>\n",
       "  </clipPath>\n",
       "</defs>\n",
       "<path clip-path=\"url(#clip250)\" d=\"\n",
       "M0 1200 L2400 1200 L2400 0 L0 0  Z\n",
       "  \" fill=\"#ffffff\" fill-rule=\"evenodd\" fill-opacity=\"1\"/>\n",
       "<defs>\n",
       "  <clipPath id=\"clip251\">\n",
       "    <rect x=\"480\" y=\"0\" width=\"1681\" height=\"1200\"/>\n",
       "  </clipPath>\n",
       "</defs>\n",
       "<path clip-path=\"url(#clip250)\" d=\"\n",
       "M193.936 1047.7 L1152.76 1047.7 L1152.76 47.2441 L193.936 47.2441  Z\n",
       "  \" fill=\"#ffffff\" fill-rule=\"evenodd\" fill-opacity=\"1\"/>\n",
       "<defs>\n",
       "  <clipPath id=\"clip252\">\n",
       "    <rect x=\"193\" y=\"47\" width=\"960\" height=\"1001\"/>\n",
       "  </clipPath>\n",
       "</defs>\n",
       "<polyline clip-path=\"url(#clip252)\" style=\"stroke:#000000; stroke-linecap:butt; stroke-linejoin:round; stroke-width:2; stroke-opacity:0.1; fill:none\" points=\"\n",
       "  324.57,1047.7 324.57,47.2441 \n",
       "  \"/>\n",
       "<polyline clip-path=\"url(#clip252)\" style=\"stroke:#000000; stroke-linecap:butt; stroke-linejoin:round; stroke-width:2; stroke-opacity:0.1; fill:none\" points=\"\n",
       "  492.207,1047.7 492.207,47.2441 \n",
       "  \"/>\n",
       "<polyline clip-path=\"url(#clip252)\" style=\"stroke:#000000; stroke-linecap:butt; stroke-linejoin:round; stroke-width:2; stroke-opacity:0.1; fill:none\" points=\"\n",
       "  659.844,1047.7 659.844,47.2441 \n",
       "  \"/>\n",
       "<polyline clip-path=\"url(#clip252)\" style=\"stroke:#000000; stroke-linecap:butt; stroke-linejoin:round; stroke-width:2; stroke-opacity:0.1; fill:none\" points=\"\n",
       "  827.481,1047.7 827.481,47.2441 \n",
       "  \"/>\n",
       "<polyline clip-path=\"url(#clip252)\" style=\"stroke:#000000; stroke-linecap:butt; stroke-linejoin:round; stroke-width:2; stroke-opacity:0.1; fill:none\" points=\"\n",
       "  995.118,1047.7 995.118,47.2441 \n",
       "  \"/>\n",
       "<polyline clip-path=\"url(#clip250)\" style=\"stroke:#000000; stroke-linecap:butt; stroke-linejoin:round; stroke-width:4; stroke-opacity:1; fill:none\" points=\"\n",
       "  193.936,1047.7 1152.76,1047.7 \n",
       "  \"/>\n",
       "<polyline clip-path=\"url(#clip250)\" style=\"stroke:#000000; stroke-linecap:butt; stroke-linejoin:round; stroke-width:4; stroke-opacity:1; fill:none\" points=\"\n",
       "  324.57,1047.7 324.57,1028.8 \n",
       "  \"/>\n",
       "<polyline clip-path=\"url(#clip250)\" style=\"stroke:#000000; stroke-linecap:butt; stroke-linejoin:round; stroke-width:4; stroke-opacity:1; fill:none\" points=\"\n",
       "  492.207,1047.7 492.207,1028.8 \n",
       "  \"/>\n",
       "<polyline clip-path=\"url(#clip250)\" style=\"stroke:#000000; stroke-linecap:butt; stroke-linejoin:round; stroke-width:4; stroke-opacity:1; fill:none\" points=\"\n",
       "  659.844,1047.7 659.844,1028.8 \n",
       "  \"/>\n",
       "<polyline clip-path=\"url(#clip250)\" style=\"stroke:#000000; stroke-linecap:butt; stroke-linejoin:round; stroke-width:4; stroke-opacity:1; fill:none\" points=\"\n",
       "  827.481,1047.7 827.481,1028.8 \n",
       "  \"/>\n",
       "<polyline clip-path=\"url(#clip250)\" style=\"stroke:#000000; stroke-linecap:butt; stroke-linejoin:round; stroke-width:4; stroke-opacity:1; fill:none\" points=\"\n",
       "  995.118,1047.7 995.118,1028.8 \n",
       "  \"/>\n",
       "<path clip-path=\"url(#clip250)\" d=\"M271.017 1093.27 L300.693 1093.27 L300.693 1097.21 L271.017 1097.21 L271.017 1093.27 Z\" fill=\"#000000\" fill-rule=\"evenodd\" fill-opacity=\"1\" /><path clip-path=\"url(#clip250)\" d=\"M320.785 1078.62 Q317.174 1078.62 315.345 1082.18 Q313.54 1085.72 313.54 1092.85 Q313.54 1099.96 315.345 1103.53 Q317.174 1107.07 320.785 1107.07 Q324.419 1107.07 326.225 1103.53 Q328.054 1099.96 328.054 1092.85 Q328.054 1085.72 326.225 1082.18 Q324.419 1078.62 320.785 1078.62 M320.785 1074.91 Q326.595 1074.91 329.651 1079.52 Q332.73 1084.1 332.73 1092.85 Q332.73 1101.58 329.651 1106.19 Q326.595 1110.77 320.785 1110.77 Q314.975 1110.77 311.896 1106.19 Q308.841 1101.58 308.841 1092.85 Q308.841 1084.1 311.896 1079.52 Q314.975 1074.91 320.785 1074.91 Z\" fill=\"#000000\" fill-rule=\"evenodd\" fill-opacity=\"1\" /><path clip-path=\"url(#clip250)\" d=\"M340.947 1104.22 L345.831 1104.22 L345.831 1110.1 L340.947 1110.1 L340.947 1104.22 Z\" fill=\"#000000\" fill-rule=\"evenodd\" fill-opacity=\"1\" /><path clip-path=\"url(#clip250)\" d=\"M366.595 1090.96 Q363.447 1090.96 361.595 1093.11 Q359.766 1095.26 359.766 1099.01 Q359.766 1102.74 361.595 1104.91 Q363.447 1107.07 366.595 1107.07 Q369.743 1107.07 371.572 1104.91 Q373.424 1102.74 373.424 1099.01 Q373.424 1095.26 371.572 1093.11 Q369.743 1090.96 366.595 1090.96 M375.877 1076.3 L375.877 1080.56 Q374.118 1079.73 372.313 1079.29 Q370.53 1078.85 368.771 1078.85 Q364.141 1078.85 361.688 1081.97 Q359.257 1085.1 358.91 1091.42 Q360.276 1089.41 362.336 1088.34 Q364.396 1087.25 366.873 1087.25 Q372.081 1087.25 375.09 1090.42 Q378.123 1093.57 378.123 1099.01 Q378.123 1104.34 374.975 1107.55 Q371.827 1110.77 366.595 1110.77 Q360.6 1110.77 357.428 1106.19 Q354.257 1101.58 354.257 1092.85 Q354.257 1084.66 358.146 1079.8 Q362.035 1074.91 368.586 1074.91 Q370.345 1074.91 372.127 1075.26 Q373.933 1075.61 375.877 1076.3 Z\" fill=\"#000000\" fill-rule=\"evenodd\" fill-opacity=\"1\" /><path clip-path=\"url(#clip250)\" d=\"M439.059 1093.27 L468.735 1093.27 L468.735 1097.21 L439.059 1097.21 L439.059 1093.27 Z\" fill=\"#000000\" fill-rule=\"evenodd\" fill-opacity=\"1\" /><path clip-path=\"url(#clip250)\" d=\"M488.827 1078.62 Q485.216 1078.62 483.388 1082.18 Q481.582 1085.72 481.582 1092.85 Q481.582 1099.96 483.388 1103.53 Q485.216 1107.07 488.827 1107.07 Q492.462 1107.07 494.267 1103.53 Q496.096 1099.96 496.096 1092.85 Q496.096 1085.72 494.267 1082.18 Q492.462 1078.62 488.827 1078.62 M488.827 1074.91 Q494.637 1074.91 497.693 1079.52 Q500.772 1084.1 500.772 1092.85 Q500.772 1101.58 497.693 1106.19 Q494.637 1110.77 488.827 1110.77 Q483.017 1110.77 479.938 1106.19 Q476.883 1101.58 476.883 1092.85 Q476.883 1084.1 479.938 1079.52 Q483.017 1074.91 488.827 1074.91 Z\" fill=\"#000000\" fill-rule=\"evenodd\" fill-opacity=\"1\" /><path clip-path=\"url(#clip250)\" d=\"M508.989 1104.22 L513.873 1104.22 L513.873 1110.1 L508.989 1110.1 L508.989 1104.22 Z\" fill=\"#000000\" fill-rule=\"evenodd\" fill-opacity=\"1\" /><path clip-path=\"url(#clip250)\" d=\"M538.225 1091.47 Q541.582 1092.18 543.457 1094.45 Q545.355 1096.72 545.355 1100.05 Q545.355 1105.17 541.836 1107.97 Q538.318 1110.77 531.836 1110.77 Q529.66 1110.77 527.346 1110.33 Q525.054 1109.91 522.6 1109.06 L522.6 1104.54 Q524.545 1105.68 526.86 1106.26 Q529.174 1106.84 531.697 1106.84 Q536.096 1106.84 538.387 1105.1 Q540.702 1103.36 540.702 1100.05 Q540.702 1097 538.549 1095.29 Q536.42 1093.55 532.6 1093.55 L528.572 1093.55 L528.572 1089.71 L532.785 1089.71 Q536.234 1089.71 538.063 1088.34 Q539.892 1086.95 539.892 1084.36 Q539.892 1081.7 537.994 1080.29 Q536.119 1078.85 532.6 1078.85 Q530.679 1078.85 528.48 1079.27 Q526.281 1079.68 523.642 1080.56 L523.642 1076.4 Q526.304 1075.66 528.619 1075.29 Q530.957 1074.91 533.017 1074.91 Q538.341 1074.91 541.443 1077.35 Q544.545 1079.75 544.545 1083.87 Q544.545 1086.74 542.901 1088.73 Q541.258 1090.7 538.225 1091.47 Z\" fill=\"#000000\" fill-rule=\"evenodd\" fill-opacity=\"1\" /><path clip-path=\"url(#clip250)\" d=\"M637.228 1078.62 Q633.617 1078.62 631.789 1082.18 Q629.983 1085.72 629.983 1092.85 Q629.983 1099.96 631.789 1103.53 Q633.617 1107.07 637.228 1107.07 Q640.863 1107.07 642.668 1103.53 Q644.497 1099.96 644.497 1092.85 Q644.497 1085.72 642.668 1082.18 Q640.863 1078.62 637.228 1078.62 M637.228 1074.91 Q643.039 1074.91 646.094 1079.52 Q649.173 1084.1 649.173 1092.85 Q649.173 1101.58 646.094 1106.19 Q643.039 1110.77 637.228 1110.77 Q631.418 1110.77 628.34 1106.19 Q625.284 1101.58 625.284 1092.85 Q625.284 1084.1 628.34 1079.52 Q631.418 1074.91 637.228 1074.91 Z\" fill=\"#000000\" fill-rule=\"evenodd\" fill-opacity=\"1\" /><path clip-path=\"url(#clip250)\" d=\"M657.39 1104.22 L662.275 1104.22 L662.275 1110.1 L657.39 1110.1 L657.39 1104.22 Z\" fill=\"#000000\" fill-rule=\"evenodd\" fill-opacity=\"1\" /><path clip-path=\"url(#clip250)\" d=\"M682.46 1078.62 Q678.849 1078.62 677.02 1082.18 Q675.214 1085.72 675.214 1092.85 Q675.214 1099.96 677.02 1103.53 Q678.849 1107.07 682.46 1107.07 Q686.094 1107.07 687.899 1103.53 Q689.728 1099.96 689.728 1092.85 Q689.728 1085.72 687.899 1082.18 Q686.094 1078.62 682.46 1078.62 M682.46 1074.91 Q688.27 1074.91 691.325 1079.52 Q694.404 1084.1 694.404 1092.85 Q694.404 1101.58 691.325 1106.19 Q688.27 1110.77 682.46 1110.77 Q676.649 1110.77 673.571 1106.19 Q670.515 1101.58 670.515 1092.85 Q670.515 1084.1 673.571 1079.52 Q676.649 1074.91 682.46 1074.91 Z\" fill=\"#000000\" fill-rule=\"evenodd\" fill-opacity=\"1\" /><path clip-path=\"url(#clip250)\" d=\"M805.19 1078.62 Q801.578 1078.62 799.75 1082.18 Q797.944 1085.72 797.944 1092.85 Q797.944 1099.96 799.75 1103.53 Q801.578 1107.07 805.19 1107.07 Q808.824 1107.07 810.629 1103.53 Q812.458 1099.96 812.458 1092.85 Q812.458 1085.72 810.629 1082.18 Q808.824 1078.62 805.19 1078.62 M805.19 1074.91 Q811 1074.91 814.055 1079.52 Q817.134 1084.1 817.134 1092.85 Q817.134 1101.58 814.055 1106.19 Q811 1110.77 805.19 1110.77 Q799.379 1110.77 796.301 1106.19 Q793.245 1101.58 793.245 1092.85 Q793.245 1084.1 796.301 1079.52 Q799.379 1074.91 805.19 1074.91 Z\" fill=\"#000000\" fill-rule=\"evenodd\" fill-opacity=\"1\" /><path clip-path=\"url(#clip250)\" d=\"M825.352 1104.22 L830.236 1104.22 L830.236 1110.1 L825.352 1110.1 L825.352 1104.22 Z\" fill=\"#000000\" fill-rule=\"evenodd\" fill-opacity=\"1\" /><path clip-path=\"url(#clip250)\" d=\"M854.587 1091.47 Q857.944 1092.18 859.819 1094.45 Q861.717 1096.72 861.717 1100.05 Q861.717 1105.17 858.199 1107.97 Q854.68 1110.77 848.199 1110.77 Q846.023 1110.77 843.708 1110.33 Q841.416 1109.91 838.963 1109.06 L838.963 1104.54 Q840.907 1105.68 843.222 1106.26 Q845.537 1106.84 848.06 1106.84 Q852.458 1106.84 854.749 1105.1 Q857.064 1103.36 857.064 1100.05 Q857.064 1097 854.912 1095.29 Q852.782 1093.55 848.962 1093.55 L844.935 1093.55 L844.935 1089.71 L849.148 1089.71 Q852.597 1089.71 854.425 1088.34 Q856.254 1086.95 856.254 1084.36 Q856.254 1081.7 854.356 1080.29 Q852.481 1078.85 848.962 1078.85 Q847.041 1078.85 844.842 1079.27 Q842.643 1079.68 840.004 1080.56 L840.004 1076.4 Q842.666 1075.66 844.981 1075.29 Q847.319 1074.91 849.379 1074.91 Q854.703 1074.91 857.805 1077.35 Q860.907 1079.75 860.907 1083.87 Q860.907 1086.74 859.263 1088.73 Q857.62 1090.7 854.587 1091.47 Z\" fill=\"#000000\" fill-rule=\"evenodd\" fill-opacity=\"1\" /><path clip-path=\"url(#clip250)\" d=\"M972.422 1078.62 Q968.81 1078.62 966.982 1082.18 Q965.176 1085.72 965.176 1092.85 Q965.176 1099.96 966.982 1103.53 Q968.81 1107.07 972.422 1107.07 Q976.056 1107.07 977.861 1103.53 Q979.69 1099.96 979.69 1092.85 Q979.69 1085.72 977.861 1082.18 Q976.056 1078.62 972.422 1078.62 M972.422 1074.91 Q978.232 1074.91 981.287 1079.52 Q984.366 1084.1 984.366 1092.85 Q984.366 1101.58 981.287 1106.19 Q978.232 1110.77 972.422 1110.77 Q966.611 1110.77 963.533 1106.19 Q960.477 1101.58 960.477 1092.85 Q960.477 1084.1 963.533 1079.52 Q966.611 1074.91 972.422 1074.91 Z\" fill=\"#000000\" fill-rule=\"evenodd\" fill-opacity=\"1\" /><path clip-path=\"url(#clip250)\" d=\"M992.584 1104.22 L997.468 1104.22 L997.468 1110.1 L992.584 1110.1 L992.584 1104.22 Z\" fill=\"#000000\" fill-rule=\"evenodd\" fill-opacity=\"1\" /><path clip-path=\"url(#clip250)\" d=\"M1018.23 1090.96 Q1015.08 1090.96 1013.23 1093.11 Q1011.4 1095.26 1011.4 1099.01 Q1011.4 1102.74 1013.23 1104.91 Q1015.08 1107.07 1018.23 1107.07 Q1021.38 1107.07 1023.21 1104.91 Q1025.06 1102.74 1025.06 1099.01 Q1025.06 1095.26 1023.21 1093.11 Q1021.38 1090.96 1018.23 1090.96 M1027.51 1076.3 L1027.51 1080.56 Q1025.75 1079.73 1023.95 1079.29 Q1022.17 1078.85 1020.41 1078.85 Q1015.78 1078.85 1013.32 1081.97 Q1010.89 1085.1 1010.55 1091.42 Q1011.91 1089.41 1013.97 1088.34 Q1016.03 1087.25 1018.51 1087.25 Q1023.72 1087.25 1026.73 1090.42 Q1029.76 1093.57 1029.76 1099.01 Q1029.76 1104.34 1026.61 1107.55 Q1023.46 1110.77 1018.23 1110.77 Q1012.24 1110.77 1009.06 1106.19 Q1005.89 1101.58 1005.89 1092.85 Q1005.89 1084.66 1009.78 1079.8 Q1013.67 1074.91 1020.22 1074.91 Q1021.98 1074.91 1023.76 1075.26 Q1025.57 1075.61 1027.51 1076.3 Z\" fill=\"#000000\" fill-rule=\"evenodd\" fill-opacity=\"1\" /><path clip-path=\"url(#clip250)\" d=\"M357.591 1146.79 L357.591 1156.92 L369.654 1156.92 L369.654 1161.47 L357.591 1161.47 L357.591 1180.82 Q357.591 1185.18 358.769 1186.42 Q359.978 1187.66 363.638 1187.66 L369.654 1187.66 L369.654 1192.56 L363.638 1192.56 Q356.859 1192.56 354.281 1190.05 Q351.703 1187.5 351.703 1180.82 L351.703 1161.47 L347.406 1161.47 L347.406 1156.92 L351.703 1156.92 L351.703 1146.79 L357.591 1146.79 Z\" fill=\"#000000\" fill-rule=\"evenodd\" fill-opacity=\"1\" /><path clip-path=\"url(#clip250)\" d=\"M398.013 1162.39 Q397.027 1161.82 395.849 1161.56 Q394.703 1161.28 393.303 1161.28 Q388.337 1161.28 385.664 1164.52 Q383.022 1167.74 383.022 1173.79 L383.022 1192.56 L377.134 1192.56 L377.134 1156.92 L383.022 1156.92 L383.022 1162.45 Q384.868 1159.21 387.828 1157.65 Q390.788 1156.06 395.021 1156.06 Q395.626 1156.06 396.358 1156.15 Q397.09 1156.22 397.981 1156.37 L398.013 1162.39 Z\" fill=\"#000000\" fill-rule=\"evenodd\" fill-opacity=\"1\" /><path clip-path=\"url(#clip250)\" d=\"M403.551 1178.5 L403.551 1156.92 L409.408 1156.92 L409.408 1178.27 Q409.408 1183.33 411.381 1185.88 Q413.355 1188.39 417.301 1188.39 Q422.044 1188.39 424.781 1185.37 Q427.55 1182.35 427.55 1177.13 L427.55 1156.92 L433.407 1156.92 L433.407 1192.56 L427.55 1192.56 L427.55 1187.09 Q425.418 1190.34 422.585 1191.93 Q419.784 1193.49 416.06 1193.49 Q409.917 1193.49 406.734 1189.67 Q403.551 1185.85 403.551 1178.5 M418.288 1156.06 L418.288 1156.06 Z\" fill=\"#000000\" fill-rule=\"evenodd\" fill-opacity=\"1\" /><path clip-path=\"url(#clip250)\" d=\"M475.961 1173.28 L475.961 1176.14 L449.034 1176.14 Q449.416 1182.19 452.663 1185.37 Q455.941 1188.52 461.766 1188.52 Q465.14 1188.52 468.291 1187.69 Q471.473 1186.87 474.593 1185.21 L474.593 1190.75 Q471.442 1192.09 468.131 1192.79 Q464.821 1193.49 461.416 1193.49 Q452.886 1193.49 447.889 1188.52 Q442.923 1183.56 442.923 1175.09 Q442.923 1166.34 447.634 1161.21 Q452.376 1156.06 460.397 1156.06 Q467.59 1156.06 471.76 1160.7 Q475.961 1165.32 475.961 1173.28 M470.105 1171.56 Q470.041 1166.75 467.399 1163.89 Q464.789 1161.02 460.461 1161.02 Q455.559 1161.02 452.599 1163.79 Q449.671 1166.56 449.225 1171.59 L470.105 1171.56 Z\" fill=\"#000000\" fill-rule=\"evenodd\" fill-opacity=\"1\" /><path clip-path=\"url(#clip250)\" d=\"M506.294 1143.04 L512.15 1143.04 L512.15 1192.56 L506.294 1192.56 L506.294 1143.04 Z\" fill=\"#000000\" fill-rule=\"evenodd\" fill-opacity=\"1\" /><path clip-path=\"url(#clip250)\" d=\"M540.605 1174.64 Q533.507 1174.64 530.77 1176.27 Q528.033 1177.89 528.033 1181.81 Q528.033 1184.92 530.07 1186.77 Q532.139 1188.59 535.672 1188.59 Q540.541 1188.59 543.47 1185.15 Q546.43 1181.68 546.43 1175.95 L546.43 1174.64 L540.605 1174.64 M552.286 1172.23 L552.286 1192.56 L546.43 1192.56 L546.43 1187.15 Q544.424 1190.4 541.433 1191.96 Q538.441 1193.49 534.112 1193.49 Q528.638 1193.49 525.391 1190.43 Q522.176 1187.34 522.176 1182.19 Q522.176 1176.17 526.187 1173.12 Q530.229 1170.06 538.218 1170.06 L546.43 1170.06 L546.43 1169.49 Q546.43 1165.45 543.756 1163.25 Q541.114 1161.02 536.308 1161.02 Q533.253 1161.02 530.356 1161.75 Q527.46 1162.49 524.786 1163.95 L524.786 1158.54 Q528.001 1157.3 531.025 1156.69 Q534.048 1156.06 536.913 1156.06 Q544.647 1156.06 548.467 1160.07 Q552.286 1164.08 552.286 1172.23 Z\" fill=\"#000000\" fill-rule=\"evenodd\" fill-opacity=\"1\" /><path clip-path=\"url(#clip250)\" d=\"M589.939 1174.77 Q589.939 1168.31 587.266 1164.65 Q584.624 1160.96 579.977 1160.96 Q575.33 1160.96 572.656 1164.65 Q570.015 1168.31 570.015 1174.77 Q570.015 1181.23 572.656 1184.92 Q575.33 1188.59 579.977 1188.59 Q584.624 1188.59 587.266 1184.92 Q589.939 1181.23 589.939 1174.77 M570.015 1162.33 Q571.861 1159.14 574.662 1157.62 Q577.494 1156.06 581.409 1156.06 Q587.902 1156.06 591.944 1161.21 Q596.019 1166.37 596.019 1174.77 Q596.019 1183.17 591.944 1188.33 Q587.902 1193.49 581.409 1193.49 Q577.494 1193.49 574.662 1191.96 Q571.861 1190.4 570.015 1187.22 L570.015 1192.56 L564.126 1192.56 L564.126 1143.04 L570.015 1143.04 L570.015 1162.33 Z\" fill=\"#000000\" fill-rule=\"evenodd\" fill-opacity=\"1\" /><path clip-path=\"url(#clip250)\" d=\"M636.218 1173.28 L636.218 1176.14 L609.291 1176.14 Q609.673 1182.19 612.919 1185.37 Q616.198 1188.52 622.022 1188.52 Q625.396 1188.52 628.547 1187.69 Q631.73 1186.87 634.849 1185.21 L634.849 1190.75 Q631.698 1192.09 628.388 1192.79 Q625.078 1193.49 621.672 1193.49 Q613.142 1193.49 608.145 1188.52 Q603.18 1183.56 603.18 1175.09 Q603.18 1166.34 607.891 1161.21 Q612.633 1156.06 620.654 1156.06 Q627.847 1156.06 632.017 1160.7 Q636.218 1165.32 636.218 1173.28 M630.362 1171.56 Q630.298 1166.75 627.656 1163.89 Q625.046 1161.02 620.717 1161.02 Q615.816 1161.02 612.856 1163.79 Q609.928 1166.56 609.482 1171.59 L630.362 1171.56 Z\" fill=\"#000000\" fill-rule=\"evenodd\" fill-opacity=\"1\" /><path clip-path=\"url(#clip250)\" d=\"M645.83 1143.04 L651.687 1143.04 L651.687 1192.56 L645.83 1192.56 L645.83 1143.04 Z\" fill=\"#000000\" fill-rule=\"evenodd\" fill-opacity=\"1\" /><path clip-path=\"url(#clip250)\" d=\"M686.666 1157.97 L686.666 1163.5 Q684.184 1162.23 681.51 1161.59 Q678.836 1160.96 675.972 1160.96 Q671.611 1160.96 669.415 1162.29 Q667.251 1163.63 667.251 1166.31 Q667.251 1168.34 668.81 1169.52 Q670.37 1170.67 675.081 1171.72 L677.086 1172.16 Q683.324 1173.5 685.934 1175.95 Q688.576 1178.37 688.576 1182.73 Q688.576 1187.69 684.629 1190.59 Q680.714 1193.49 673.839 1193.49 Q670.975 1193.49 667.856 1192.91 Q664.768 1192.37 661.331 1191.26 L661.331 1185.21 Q664.577 1186.9 667.728 1187.76 Q670.879 1188.59 673.967 1188.59 Q678.104 1188.59 680.332 1187.18 Q682.56 1185.75 682.56 1183.17 Q682.56 1180.79 680.937 1179.51 Q679.346 1178.24 673.903 1177.06 L671.866 1176.59 Q666.423 1175.44 664.004 1173.08 Q661.585 1170.7 661.585 1166.56 Q661.585 1161.53 665.15 1158.79 Q668.715 1156.06 675.272 1156.06 Q678.518 1156.06 681.383 1156.53 Q684.247 1157.01 686.666 1157.97 Z\" fill=\"#000000\" fill-rule=\"evenodd\" fill-opacity=\"1\" /><path clip-path=\"url(#clip250)\" d=\"M724.415 1146.79 L724.415 1156.92 L736.478 1156.92 L736.478 1161.47 L724.415 1161.47 L724.415 1180.82 Q724.415 1185.18 725.592 1186.42 Q726.802 1187.66 730.462 1187.66 L736.478 1187.66 L736.478 1192.56 L730.462 1192.56 Q723.683 1192.56 721.105 1190.05 Q718.527 1187.5 718.527 1180.82 L718.527 1161.47 L714.23 1161.47 L714.23 1156.92 L718.527 1156.92 L718.527 1146.79 L724.415 1146.79 Z\" fill=\"#000000\" fill-rule=\"evenodd\" fill-opacity=\"1\" /><path clip-path=\"url(#clip250)\" d=\"M774.672 1173.28 L774.672 1176.14 L747.745 1176.14 Q748.127 1182.19 751.374 1185.37 Q754.652 1188.52 760.477 1188.52 Q763.85 1188.52 767.001 1187.69 Q770.184 1186.87 773.303 1185.21 L773.303 1190.75 Q770.152 1192.09 766.842 1192.79 Q763.532 1193.49 760.126 1193.49 Q751.596 1193.49 746.599 1188.52 Q741.634 1183.56 741.634 1175.09 Q741.634 1166.34 746.345 1161.21 Q751.087 1156.06 759.108 1156.06 Q766.301 1156.06 770.471 1160.7 Q774.672 1165.32 774.672 1173.28 M768.816 1171.56 Q768.752 1166.75 766.11 1163.89 Q763.5 1161.02 759.172 1161.02 Q754.27 1161.02 751.31 1163.79 Q748.382 1166.56 747.936 1171.59 L768.816 1171.56 Z\" fill=\"#000000\" fill-rule=\"evenodd\" fill-opacity=\"1\" /><path clip-path=\"url(#clip250)\" d=\"M807.01 1157.97 L807.01 1163.5 Q804.527 1162.23 801.854 1161.59 Q799.18 1160.96 796.315 1160.96 Q791.955 1160.96 789.759 1162.29 Q787.594 1163.63 787.594 1166.31 Q787.594 1168.34 789.154 1169.52 Q790.714 1170.67 795.424 1171.72 L797.429 1172.16 Q803.668 1173.5 806.278 1175.95 Q808.92 1178.37 808.92 1182.73 Q808.92 1187.69 804.973 1190.59 Q801.058 1193.49 794.183 1193.49 Q791.318 1193.49 788.199 1192.91 Q785.112 1192.37 781.674 1191.26 L781.674 1185.21 Q784.921 1186.9 788.072 1187.76 Q791.223 1188.59 794.31 1188.59 Q798.448 1188.59 800.676 1187.18 Q802.904 1185.75 802.904 1183.17 Q802.904 1180.79 801.281 1179.51 Q799.689 1178.24 794.247 1177.06 L792.21 1176.59 Q786.767 1175.44 784.348 1173.08 Q781.929 1170.7 781.929 1166.56 Q781.929 1161.53 785.494 1158.79 Q789.059 1156.06 795.615 1156.06 Q798.862 1156.06 801.726 1156.53 Q804.591 1157.01 807.01 1157.97 Z\" fill=\"#000000\" fill-rule=\"evenodd\" fill-opacity=\"1\" /><path clip-path=\"url(#clip250)\" d=\"M824.038 1146.79 L824.038 1156.92 L836.101 1156.92 L836.101 1161.47 L824.038 1161.47 L824.038 1180.82 Q824.038 1185.18 825.216 1186.42 Q826.425 1187.66 830.086 1187.66 L836.101 1187.66 L836.101 1192.56 L830.086 1192.56 Q823.306 1192.56 820.728 1190.05 Q818.15 1187.5 818.15 1180.82 L818.15 1161.47 L813.853 1161.47 L813.853 1156.92 L818.15 1156.92 L818.15 1146.79 L824.038 1146.79 Z\" fill=\"#000000\" fill-rule=\"evenodd\" fill-opacity=\"1\" /><path clip-path=\"url(#clip250)\" d=\"M887.982 1162.33 L887.982 1143.04 L893.838 1143.04 L893.838 1192.56 L887.982 1192.56 L887.982 1187.22 Q886.136 1190.4 883.303 1191.96 Q880.502 1193.49 876.555 1193.49 Q870.094 1193.49 866.02 1188.33 Q861.978 1183.17 861.978 1174.77 Q861.978 1166.37 866.02 1161.21 Q870.094 1156.06 876.555 1156.06 Q880.502 1156.06 883.303 1157.62 Q886.136 1159.14 887.982 1162.33 M868.025 1174.77 Q868.025 1181.23 870.667 1184.92 Q873.341 1188.59 877.988 1188.59 Q882.634 1188.59 885.308 1184.92 Q887.982 1181.23 887.982 1174.77 Q887.982 1168.31 885.308 1164.65 Q882.634 1160.96 877.988 1160.96 Q873.341 1160.96 870.667 1164.65 Q868.025 1168.31 868.025 1174.77 Z\" fill=\"#000000\" fill-rule=\"evenodd\" fill-opacity=\"1\" /><path clip-path=\"url(#clip250)\" d=\"M922.102 1174.64 Q915.004 1174.64 912.267 1176.27 Q909.53 1177.89 909.53 1181.81 Q909.53 1184.92 911.567 1186.77 Q913.635 1188.59 917.168 1188.59 Q922.038 1188.59 924.966 1185.15 Q927.926 1181.68 927.926 1175.95 L927.926 1174.64 L922.102 1174.64 M933.783 1172.23 L933.783 1192.56 L927.926 1192.56 L927.926 1187.15 Q925.921 1190.4 922.929 1191.96 Q919.938 1193.49 915.609 1193.49 Q910.134 1193.49 906.888 1190.43 Q903.673 1187.34 903.673 1182.19 Q903.673 1176.17 907.684 1173.12 Q911.726 1170.06 919.715 1170.06 L927.926 1170.06 L927.926 1169.49 Q927.926 1165.45 925.253 1163.25 Q922.611 1161.02 917.805 1161.02 Q914.749 1161.02 911.853 1161.75 Q908.957 1162.49 906.283 1163.95 L906.283 1158.54 Q909.498 1157.3 912.521 1156.69 Q915.545 1156.06 918.41 1156.06 Q926.144 1156.06 929.964 1160.07 Q933.783 1164.08 933.783 1172.23 Z\" fill=\"#000000\" fill-rule=\"evenodd\" fill-opacity=\"1\" /><path clip-path=\"url(#clip250)\" d=\"M951.639 1146.79 L951.639 1156.92 L963.702 1156.92 L963.702 1161.47 L951.639 1161.47 L951.639 1180.82 Q951.639 1185.18 952.816 1186.42 Q954.026 1187.66 957.686 1187.66 L963.702 1187.66 L963.702 1192.56 L957.686 1192.56 Q950.907 1192.56 948.329 1190.05 Q945.75 1187.5 945.75 1180.82 L945.75 1161.47 L941.454 1161.47 L941.454 1156.92 L945.75 1156.92 L945.75 1146.79 L951.639 1146.79 Z\" fill=\"#000000\" fill-rule=\"evenodd\" fill-opacity=\"1\" /><path clip-path=\"url(#clip250)\" d=\"M987.605 1174.64 Q980.507 1174.64 977.77 1176.27 Q975.033 1177.89 975.033 1181.81 Q975.033 1184.92 977.07 1186.77 Q979.139 1188.59 982.672 1188.59 Q987.541 1188.59 990.47 1185.15 Q993.43 1181.68 993.43 1175.95 L993.43 1174.64 L987.605 1174.64 M999.286 1172.23 L999.286 1192.56 L993.43 1192.56 L993.43 1187.15 Q991.424 1190.4 988.433 1191.96 Q985.441 1193.49 981.112 1193.49 Q975.637 1193.49 972.391 1190.43 Q969.176 1187.34 969.176 1182.19 Q969.176 1176.17 973.187 1173.12 Q977.229 1170.06 985.218 1170.06 L993.43 1170.06 L993.43 1169.49 Q993.43 1165.45 990.756 1163.25 Q988.114 1161.02 983.308 1161.02 Q980.253 1161.02 977.356 1161.75 Q974.46 1162.49 971.786 1163.95 L971.786 1158.54 Q975.001 1157.3 978.025 1156.69 Q981.048 1156.06 983.913 1156.06 Q991.647 1156.06 995.467 1160.07 Q999.286 1164.08 999.286 1172.23 Z\" fill=\"#000000\" fill-rule=\"evenodd\" fill-opacity=\"1\" /><polyline clip-path=\"url(#clip252)\" style=\"stroke:#000000; stroke-linecap:butt; stroke-linejoin:round; stroke-width:2; stroke-opacity:0.1; fill:none\" points=\"\n",
       "  193.936,880.983 1152.76,880.983 \n",
       "  \"/>\n",
       "<polyline clip-path=\"url(#clip252)\" style=\"stroke:#000000; stroke-linecap:butt; stroke-linejoin:round; stroke-width:2; stroke-opacity:0.1; fill:none\" points=\"\n",
       "  193.936,712.685 1152.76,712.685 \n",
       "  \"/>\n",
       "<polyline clip-path=\"url(#clip252)\" style=\"stroke:#000000; stroke-linecap:butt; stroke-linejoin:round; stroke-width:2; stroke-opacity:0.1; fill:none\" points=\"\n",
       "  193.936,544.386 1152.76,544.386 \n",
       "  \"/>\n",
       "<polyline clip-path=\"url(#clip252)\" style=\"stroke:#000000; stroke-linecap:butt; stroke-linejoin:round; stroke-width:2; stroke-opacity:0.1; fill:none\" points=\"\n",
       "  193.936,376.087 1152.76,376.087 \n",
       "  \"/>\n",
       "<polyline clip-path=\"url(#clip252)\" style=\"stroke:#000000; stroke-linecap:butt; stroke-linejoin:round; stroke-width:2; stroke-opacity:0.1; fill:none\" points=\"\n",
       "  193.936,207.789 1152.76,207.789 \n",
       "  \"/>\n",
       "<polyline clip-path=\"url(#clip250)\" style=\"stroke:#000000; stroke-linecap:butt; stroke-linejoin:round; stroke-width:4; stroke-opacity:1; fill:none\" points=\"\n",
       "  193.936,1047.7 193.936,47.2441 \n",
       "  \"/>\n",
       "<polyline clip-path=\"url(#clip250)\" style=\"stroke:#000000; stroke-linecap:butt; stroke-linejoin:round; stroke-width:4; stroke-opacity:1; fill:none\" points=\"\n",
       "  193.936,880.983 212.834,880.983 \n",
       "  \"/>\n",
       "<polyline clip-path=\"url(#clip250)\" style=\"stroke:#000000; stroke-linecap:butt; stroke-linejoin:round; stroke-width:4; stroke-opacity:1; fill:none\" points=\"\n",
       "  193.936,712.685 212.834,712.685 \n",
       "  \"/>\n",
       "<polyline clip-path=\"url(#clip250)\" style=\"stroke:#000000; stroke-linecap:butt; stroke-linejoin:round; stroke-width:4; stroke-opacity:1; fill:none\" points=\"\n",
       "  193.936,544.386 212.834,544.386 \n",
       "  \"/>\n",
       "<polyline clip-path=\"url(#clip250)\" style=\"stroke:#000000; stroke-linecap:butt; stroke-linejoin:round; stroke-width:4; stroke-opacity:1; fill:none\" points=\"\n",
       "  193.936,376.087 212.834,376.087 \n",
       "  \"/>\n",
       "<polyline clip-path=\"url(#clip250)\" style=\"stroke:#000000; stroke-linecap:butt; stroke-linejoin:round; stroke-width:4; stroke-opacity:1; fill:none\" points=\"\n",
       "  193.936,207.789 212.834,207.789 \n",
       "  \"/>\n",
       "<path clip-path=\"url(#clip250)\" d=\"M50.9921 881.435 L80.6679 881.435 L80.6679 885.37 L50.9921 885.37 L50.9921 881.435 Z\" fill=\"#000000\" fill-rule=\"evenodd\" fill-opacity=\"1\" /><path clip-path=\"url(#clip250)\" d=\"M91.5706 894.328 L99.2095 894.328 L99.2095 867.963 L90.8993 869.629 L90.8993 865.37 L99.1632 863.703 L103.839 863.703 L103.839 894.328 L111.478 894.328 L111.478 898.263 L91.5706 898.263 L91.5706 894.328 Z\" fill=\"#000000\" fill-rule=\"evenodd\" fill-opacity=\"1\" /><path clip-path=\"url(#clip250)\" d=\"M120.922 892.384 L125.807 892.384 L125.807 898.263 L120.922 898.263 L120.922 892.384 Z\" fill=\"#000000\" fill-rule=\"evenodd\" fill-opacity=\"1\" /><path clip-path=\"url(#clip250)\" d=\"M145.992 866.782 Q142.381 866.782 140.552 870.347 Q138.746 873.889 138.746 881.018 Q138.746 888.125 140.552 891.689 Q142.381 895.231 145.992 895.231 Q149.626 895.231 151.431 891.689 Q153.26 888.125 153.26 881.018 Q153.26 873.889 151.431 870.347 Q149.626 866.782 145.992 866.782 M145.992 863.078 Q151.802 863.078 154.857 867.685 Q157.936 872.268 157.936 881.018 Q157.936 889.745 154.857 894.351 Q151.802 898.935 145.992 898.935 Q140.181 898.935 137.103 894.351 Q134.047 889.745 134.047 881.018 Q134.047 872.268 137.103 867.685 Q140.181 863.078 145.992 863.078 Z\" fill=\"#000000\" fill-rule=\"evenodd\" fill-opacity=\"1\" /><path clip-path=\"url(#clip250)\" d=\"M51.9875 713.136 L81.6633 713.136 L81.6633 717.071 L51.9875 717.071 L51.9875 713.136 Z\" fill=\"#000000\" fill-rule=\"evenodd\" fill-opacity=\"1\" /><path clip-path=\"url(#clip250)\" d=\"M101.756 698.483 Q98.1447 698.483 96.316 702.048 Q94.5104 705.59 94.5104 712.72 Q94.5104 719.826 96.316 723.391 Q98.1447 726.932 101.756 726.932 Q105.39 726.932 107.196 723.391 Q109.024 719.826 109.024 712.72 Q109.024 705.59 107.196 702.048 Q105.39 698.483 101.756 698.483 M101.756 694.78 Q107.566 694.78 110.621 699.386 Q113.7 703.97 113.7 712.72 Q113.7 721.446 110.621 726.053 Q107.566 730.636 101.756 730.636 Q95.9456 730.636 92.8669 726.053 Q89.8114 721.446 89.8114 712.72 Q89.8114 703.97 92.8669 699.386 Q95.9456 694.78 101.756 694.78 Z\" fill=\"#000000\" fill-rule=\"evenodd\" fill-opacity=\"1\" /><path clip-path=\"url(#clip250)\" d=\"M121.918 724.085 L126.802 724.085 L126.802 729.965 L121.918 729.965 L121.918 724.085 Z\" fill=\"#000000\" fill-rule=\"evenodd\" fill-opacity=\"1\" /><path clip-path=\"url(#clip250)\" d=\"M137.033 695.405 L155.39 695.405 L155.39 699.34 L141.316 699.34 L141.316 707.812 Q142.334 707.465 143.353 707.303 Q144.371 707.118 145.39 707.118 Q151.177 707.118 154.556 710.289 Q157.936 713.46 157.936 718.877 Q157.936 724.456 154.464 727.557 Q150.992 730.636 144.672 730.636 Q142.496 730.636 140.228 730.266 Q137.982 729.895 135.575 729.155 L135.575 724.456 Q137.658 725.59 139.881 726.145 Q142.103 726.701 144.58 726.701 Q148.584 726.701 150.922 724.594 Q153.26 722.488 153.26 718.877 Q153.26 715.266 150.922 713.159 Q148.584 711.053 144.58 711.053 Q142.705 711.053 140.83 711.47 Q138.978 711.886 137.033 712.766 L137.033 695.405 Z\" fill=\"#000000\" fill-rule=\"evenodd\" fill-opacity=\"1\" /><path clip-path=\"url(#clip250)\" d=\"M100.76 530.185 Q97.1493 530.185 95.3206 533.75 Q93.515 537.291 93.515 544.421 Q93.515 551.527 95.3206 555.092 Q97.1493 558.634 100.76 558.634 Q104.395 558.634 106.2 555.092 Q108.029 551.527 108.029 544.421 Q108.029 537.291 106.2 533.75 Q104.395 530.185 100.76 530.185 M100.76 526.481 Q106.571 526.481 109.626 531.088 Q112.705 535.671 112.705 544.421 Q112.705 553.148 109.626 557.754 Q106.571 562.337 100.76 562.337 Q94.9502 562.337 91.8715 557.754 Q88.816 553.148 88.816 544.421 Q88.816 535.671 91.8715 531.088 Q94.9502 526.481 100.76 526.481 Z\" fill=\"#000000\" fill-rule=\"evenodd\" fill-opacity=\"1\" /><path clip-path=\"url(#clip250)\" d=\"M120.922 555.787 L125.807 555.787 L125.807 561.666 L120.922 561.666 L120.922 555.787 Z\" fill=\"#000000\" fill-rule=\"evenodd\" fill-opacity=\"1\" /><path clip-path=\"url(#clip250)\" d=\"M145.992 530.185 Q142.381 530.185 140.552 533.75 Q138.746 537.291 138.746 544.421 Q138.746 551.527 140.552 555.092 Q142.381 558.634 145.992 558.634 Q149.626 558.634 151.431 555.092 Q153.26 551.527 153.26 544.421 Q153.26 537.291 151.431 533.75 Q149.626 530.185 145.992 530.185 M145.992 526.481 Q151.802 526.481 154.857 531.088 Q157.936 535.671 157.936 544.421 Q157.936 553.148 154.857 557.754 Q151.802 562.337 145.992 562.337 Q140.181 562.337 137.103 557.754 Q134.047 553.148 134.047 544.421 Q134.047 535.671 137.103 531.088 Q140.181 526.481 145.992 526.481 Z\" fill=\"#000000\" fill-rule=\"evenodd\" fill-opacity=\"1\" /><path clip-path=\"url(#clip250)\" d=\"M101.756 361.886 Q98.1447 361.886 96.316 365.451 Q94.5104 368.993 94.5104 376.122 Q94.5104 383.229 96.316 386.793 Q98.1447 390.335 101.756 390.335 Q105.39 390.335 107.196 386.793 Q109.024 383.229 109.024 376.122 Q109.024 368.993 107.196 365.451 Q105.39 361.886 101.756 361.886 M101.756 358.183 Q107.566 358.183 110.621 362.789 Q113.7 367.372 113.7 376.122 Q113.7 384.849 110.621 389.455 Q107.566 394.039 101.756 394.039 Q95.9456 394.039 92.8669 389.455 Q89.8114 384.849 89.8114 376.122 Q89.8114 367.372 92.8669 362.789 Q95.9456 358.183 101.756 358.183 Z\" fill=\"#000000\" fill-rule=\"evenodd\" fill-opacity=\"1\" /><path clip-path=\"url(#clip250)\" d=\"M121.918 387.488 L126.802 387.488 L126.802 393.367 L121.918 393.367 L121.918 387.488 Z\" fill=\"#000000\" fill-rule=\"evenodd\" fill-opacity=\"1\" /><path clip-path=\"url(#clip250)\" d=\"M137.033 358.807 L155.39 358.807 L155.39 362.743 L141.316 362.743 L141.316 371.215 Q142.334 370.868 143.353 370.706 Q144.371 370.52 145.39 370.52 Q151.177 370.52 154.556 373.692 Q157.936 376.863 157.936 382.28 Q157.936 387.858 154.464 390.96 Q150.992 394.039 144.672 394.039 Q142.496 394.039 140.228 393.668 Q137.982 393.298 135.575 392.557 L135.575 387.858 Q137.658 388.993 139.881 389.548 Q142.103 390.104 144.58 390.104 Q148.584 390.104 150.922 387.997 Q153.26 385.891 153.26 382.28 Q153.26 378.669 150.922 376.562 Q148.584 374.456 144.58 374.456 Q142.705 374.456 140.83 374.872 Q138.978 375.289 137.033 376.169 L137.033 358.807 Z\" fill=\"#000000\" fill-rule=\"evenodd\" fill-opacity=\"1\" /><path clip-path=\"url(#clip250)\" d=\"M91.5706 221.134 L99.2095 221.134 L99.2095 194.768 L90.8993 196.435 L90.8993 192.176 L99.1632 190.509 L103.839 190.509 L103.839 221.134 L111.478 221.134 L111.478 225.069 L91.5706 225.069 L91.5706 221.134 Z\" fill=\"#000000\" fill-rule=\"evenodd\" fill-opacity=\"1\" /><path clip-path=\"url(#clip250)\" d=\"M120.922 219.189 L125.807 219.189 L125.807 225.069 L120.922 225.069 L120.922 219.189 Z\" fill=\"#000000\" fill-rule=\"evenodd\" fill-opacity=\"1\" /><path clip-path=\"url(#clip250)\" d=\"M145.992 193.588 Q142.381 193.588 140.552 197.152 Q138.746 200.694 138.746 207.824 Q138.746 214.93 140.552 218.495 Q142.381 222.036 145.992 222.036 Q149.626 222.036 151.431 218.495 Q153.26 214.93 153.26 207.824 Q153.26 200.694 151.431 197.152 Q149.626 193.588 145.992 193.588 M145.992 189.884 Q151.802 189.884 154.857 194.49 Q157.936 199.074 157.936 207.824 Q157.936 216.55 154.857 221.157 Q151.802 225.74 145.992 225.74 Q140.181 225.74 137.103 221.157 Q134.047 216.55 134.047 207.824 Q134.047 199.074 137.103 194.49 Q140.181 189.884 145.992 189.884 Z\" fill=\"#000000\" fill-rule=\"evenodd\" fill-opacity=\"1\" /><circle clip-path=\"url(#clip252)\" cx=\"927.153\" cy=\"766.01\" r=\"14\" fill=\"#cd5c5c\" fill-rule=\"evenodd\" fill-opacity=\"1\" stroke=\"#000000\" stroke-opacity=\"1\" stroke-width=\"2.4\"/>\n",
       "<circle clip-path=\"url(#clip252)\" cx=\"1030.96\" cy=\"947.813\" r=\"14\" fill=\"#cd5c5c\" fill-rule=\"evenodd\" fill-opacity=\"1\" stroke=\"#000000\" stroke-opacity=\"1\" stroke-width=\"2.4\"/>\n",
       "<circle clip-path=\"url(#clip252)\" cx=\"883.988\" cy=\"889.213\" r=\"14\" fill=\"#cd5c5c\" fill-rule=\"evenodd\" fill-opacity=\"1\" stroke=\"#000000\" stroke-opacity=\"1\" stroke-width=\"2.4\"/>\n",
       "<circle clip-path=\"url(#clip252)\" cx=\"1125.62\" cy=\"836.92\" r=\"14\" fill=\"#cd5c5c\" fill-rule=\"evenodd\" fill-opacity=\"1\" stroke=\"#000000\" stroke-opacity=\"1\" stroke-width=\"2.4\"/>\n",
       "<circle clip-path=\"url(#clip252)\" cx=\"687.659\" cy=\"447.583\" r=\"14\" fill=\"#cd5c5c\" fill-rule=\"evenodd\" fill-opacity=\"1\" stroke=\"#000000\" stroke-opacity=\"1\" stroke-width=\"2.4\"/>\n",
       "<circle clip-path=\"url(#clip252)\" cx=\"1065.37\" cy=\"939.511\" r=\"14\" fill=\"#cd5c5c\" fill-rule=\"evenodd\" fill-opacity=\"1\" stroke=\"#000000\" stroke-opacity=\"1\" stroke-width=\"2.4\"/>\n",
       "<circle clip-path=\"url(#clip252)\" cx=\"853.276\" cy=\"903.956\" r=\"14\" fill=\"#cd5c5c\" fill-rule=\"evenodd\" fill-opacity=\"1\" stroke=\"#000000\" stroke-opacity=\"1\" stroke-width=\"2.4\"/>\n",
       "<circle clip-path=\"url(#clip252)\" cx=\"409.137\" cy=\"728.987\" r=\"14\" fill=\"#cd5c5c\" fill-rule=\"evenodd\" fill-opacity=\"1\" stroke=\"#000000\" stroke-opacity=\"1\" stroke-width=\"2.4\"/>\n",
       "<circle clip-path=\"url(#clip252)\" cx=\"561.239\" cy=\"808.445\" r=\"14\" fill=\"#cd5c5c\" fill-rule=\"evenodd\" fill-opacity=\"1\" stroke=\"#000000\" stroke-opacity=\"1\" stroke-width=\"2.4\"/>\n",
       "<circle clip-path=\"url(#clip252)\" cx=\"447.149\" cy=\"412.86\" r=\"14\" fill=\"#cd5c5c\" fill-rule=\"evenodd\" fill-opacity=\"1\" stroke=\"#000000\" stroke-opacity=\"1\" stroke-width=\"2.4\"/>\n",
       "<circle clip-path=\"url(#clip252)\" cx=\"410.419\" cy=\"801.516\" r=\"14\" fill=\"#cd5c5c\" fill-rule=\"evenodd\" fill-opacity=\"1\" stroke=\"#000000\" stroke-opacity=\"1\" stroke-width=\"2.4\"/>\n",
       "<circle clip-path=\"url(#clip252)\" cx=\"905.826\" cy=\"860.675\" r=\"14\" fill=\"#cd5c5c\" fill-rule=\"evenodd\" fill-opacity=\"1\" stroke=\"#000000\" stroke-opacity=\"1\" stroke-width=\"2.4\"/>\n",
       "<circle clip-path=\"url(#clip252)\" cx=\"583.634\" cy=\"916.911\" r=\"14\" fill=\"#cd5c5c\" fill-rule=\"evenodd\" fill-opacity=\"1\" stroke=\"#000000\" stroke-opacity=\"1\" stroke-width=\"2.4\"/>\n",
       "<circle clip-path=\"url(#clip252)\" cx=\"616.052\" cy=\"601.416\" r=\"14\" fill=\"#cd5c5c\" fill-rule=\"evenodd\" fill-opacity=\"1\" stroke=\"#000000\" stroke-opacity=\"1\" stroke-width=\"2.4\"/>\n",
       "<circle clip-path=\"url(#clip252)\" cx=\"663.971\" cy=\"446.445\" r=\"14\" fill=\"#cd5c5c\" fill-rule=\"evenodd\" fill-opacity=\"1\" stroke=\"#000000\" stroke-opacity=\"1\" stroke-width=\"2.4\"/>\n",
       "<circle clip-path=\"url(#clip252)\" cx=\"763.871\" cy=\"956.672\" r=\"14\" fill=\"#cd5c5c\" fill-rule=\"evenodd\" fill-opacity=\"1\" stroke=\"#000000\" stroke-opacity=\"1\" stroke-width=\"2.4\"/>\n",
       "<circle clip-path=\"url(#clip252)\" cx=\"898.776\" cy=\"1009.13\" r=\"14\" fill=\"#cd5c5c\" fill-rule=\"evenodd\" fill-opacity=\"1\" stroke=\"#000000\" stroke-opacity=\"1\" stroke-width=\"2.4\"/>\n",
       "<circle clip-path=\"url(#clip252)\" cx=\"663.62\" cy=\"672.387\" r=\"14\" fill=\"#cd5c5c\" fill-rule=\"evenodd\" fill-opacity=\"1\" stroke=\"#000000\" stroke-opacity=\"1\" stroke-width=\"2.4\"/>\n",
       "<circle clip-path=\"url(#clip252)\" cx=\"1102.89\" cy=\"779.348\" r=\"14\" fill=\"#cd5c5c\" fill-rule=\"evenodd\" fill-opacity=\"1\" stroke=\"#000000\" stroke-opacity=\"1\" stroke-width=\"2.4\"/>\n",
       "<circle clip-path=\"url(#clip252)\" cx=\"860.101\" cy=\"771.86\" r=\"14\" fill=\"#cd5c5c\" fill-rule=\"evenodd\" fill-opacity=\"1\" stroke=\"#000000\" stroke-opacity=\"1\" stroke-width=\"2.4\"/>\n",
       "<circle clip-path=\"url(#clip252)\" cx=\"650.793\" cy=\"741.365\" r=\"14\" fill=\"#cd5c5c\" fill-rule=\"evenodd\" fill-opacity=\"1\" stroke=\"#000000\" stroke-opacity=\"1\" stroke-width=\"2.4\"/>\n",
       "<circle clip-path=\"url(#clip252)\" cx=\"950.494\" cy=\"817.48\" r=\"14\" fill=\"#cd5c5c\" fill-rule=\"evenodd\" fill-opacity=\"1\" stroke=\"#000000\" stroke-opacity=\"1\" stroke-width=\"2.4\"/>\n",
       "<circle clip-path=\"url(#clip252)\" cx=\"1092.84\" cy=\"786.778\" r=\"14\" fill=\"#cd5c5c\" fill-rule=\"evenodd\" fill-opacity=\"1\" stroke=\"#000000\" stroke-opacity=\"1\" stroke-width=\"2.4\"/>\n",
       "<circle clip-path=\"url(#clip252)\" cx=\"419.082\" cy=\"600.092\" r=\"14\" fill=\"#cd5c5c\" fill-rule=\"evenodd\" fill-opacity=\"1\" stroke=\"#000000\" stroke-opacity=\"1\" stroke-width=\"2.4\"/>\n",
       "<circle clip-path=\"url(#clip252)\" cx=\"675.509\" cy=\"758.07\" r=\"14\" fill=\"#cd5c5c\" fill-rule=\"evenodd\" fill-opacity=\"1\" stroke=\"#000000\" stroke-opacity=\"1\" stroke-width=\"2.4\"/>\n",
       "<circle clip-path=\"url(#clip252)\" cx=\"816.075\" cy=\"1019.39\" r=\"14\" fill=\"#cd5c5c\" fill-rule=\"evenodd\" fill-opacity=\"1\" stroke=\"#000000\" stroke-opacity=\"1\" stroke-width=\"2.4\"/>\n",
       "<circle clip-path=\"url(#clip252)\" cx=\"712.648\" cy=\"197.152\" r=\"14\" fill=\"#4682b4\" fill-rule=\"evenodd\" fill-opacity=\"1\" stroke=\"#000000\" stroke-opacity=\"1\" stroke-width=\"2.4\"/>\n",
       "<circle clip-path=\"url(#clip252)\" cx=\"610.696\" cy=\"417.851\" r=\"14\" fill=\"#4682b4\" fill-rule=\"evenodd\" fill-opacity=\"1\" stroke=\"#000000\" stroke-opacity=\"1\" stroke-width=\"2.4\"/>\n",
       "<circle clip-path=\"url(#clip252)\" cx=\"602.502\" cy=\"307.229\" r=\"14\" fill=\"#4682b4\" fill-rule=\"evenodd\" fill-opacity=\"1\" stroke=\"#000000\" stroke-opacity=\"1\" stroke-width=\"2.4\"/>\n",
       "<circle clip-path=\"url(#clip252)\" cx=\"274.026\" cy=\"131.15\" r=\"14\" fill=\"#4682b4\" fill-rule=\"evenodd\" fill-opacity=\"1\" stroke=\"#000000\" stroke-opacity=\"1\" stroke-width=\"2.4\"/>\n",
       "<circle clip-path=\"url(#clip252)\" cx=\"707.086\" cy=\"408.771\" r=\"14\" fill=\"#4682b4\" fill-rule=\"evenodd\" fill-opacity=\"1\" stroke=\"#000000\" stroke-opacity=\"1\" stroke-width=\"2.4\"/>\n",
       "<circle clip-path=\"url(#clip252)\" cx=\"638.034\" cy=\"269.452\" r=\"14\" fill=\"#4682b4\" fill-rule=\"evenodd\" fill-opacity=\"1\" stroke=\"#000000\" stroke-opacity=\"1\" stroke-width=\"2.4\"/>\n",
       "<circle clip-path=\"url(#clip252)\" cx=\"447.216\" cy=\"310.217\" r=\"14\" fill=\"#4682b4\" fill-rule=\"evenodd\" fill-opacity=\"1\" stroke=\"#000000\" stroke-opacity=\"1\" stroke-width=\"2.4\"/>\n",
       "<circle clip-path=\"url(#clip252)\" cx=\"671.269\" cy=\"147.466\" r=\"14\" fill=\"#4682b4\" fill-rule=\"evenodd\" fill-opacity=\"1\" stroke=\"#000000\" stroke-opacity=\"1\" stroke-width=\"2.4\"/>\n",
       "<circle clip-path=\"url(#clip252)\" cx=\"683.574\" cy=\"469.275\" r=\"14\" fill=\"#4682b4\" fill-rule=\"evenodd\" fill-opacity=\"1\" stroke=\"#000000\" stroke-opacity=\"1\" stroke-width=\"2.4\"/>\n",
       "<circle clip-path=\"url(#clip252)\" cx=\"398.767\" cy=\"442.094\" r=\"14\" fill=\"#4682b4\" fill-rule=\"evenodd\" fill-opacity=\"1\" stroke=\"#000000\" stroke-opacity=\"1\" stroke-width=\"2.4\"/>\n",
       "<circle clip-path=\"url(#clip252)\" cx=\"502.406\" cy=\"284.221\" r=\"14\" fill=\"#4682b4\" fill-rule=\"evenodd\" fill-opacity=\"1\" stroke=\"#000000\" stroke-opacity=\"1\" stroke-width=\"2.4\"/>\n",
       "<circle clip-path=\"url(#clip252)\" cx=\"526.376\" cy=\"425.593\" r=\"14\" fill=\"#4682b4\" fill-rule=\"evenodd\" fill-opacity=\"1\" stroke=\"#000000\" stroke-opacity=\"1\" stroke-width=\"2.4\"/>\n",
       "<circle clip-path=\"url(#clip252)\" cx=\"492.96\" cy=\"328.792\" r=\"14\" fill=\"#4682b4\" fill-rule=\"evenodd\" fill-opacity=\"1\" stroke=\"#000000\" stroke-opacity=\"1\" stroke-width=\"2.4\"/>\n",
       "<circle clip-path=\"url(#clip252)\" cx=\"496.014\" cy=\"373.875\" r=\"14\" fill=\"#4682b4\" fill-rule=\"evenodd\" fill-opacity=\"1\" stroke=\"#000000\" stroke-opacity=\"1\" stroke-width=\"2.4\"/>\n",
       "<circle clip-path=\"url(#clip252)\" cx=\"268.754\" cy=\"287.459\" r=\"14\" fill=\"#4682b4\" fill-rule=\"evenodd\" fill-opacity=\"1\" stroke=\"#000000\" stroke-opacity=\"1\" stroke-width=\"2.4\"/>\n",
       "<circle clip-path=\"url(#clip252)\" cx=\"468.108\" cy=\"309.001\" r=\"14\" fill=\"#4682b4\" fill-rule=\"evenodd\" fill-opacity=\"1\" stroke=\"#000000\" stroke-opacity=\"1\" stroke-width=\"2.4\"/>\n",
       "<circle clip-path=\"url(#clip252)\" cx=\"861.204\" cy=\"330.112\" r=\"14\" fill=\"#4682b4\" fill-rule=\"evenodd\" fill-opacity=\"1\" stroke=\"#000000\" stroke-opacity=\"1\" stroke-width=\"2.4\"/>\n",
       "<circle clip-path=\"url(#clip252)\" cx=\"352.471\" cy=\"136.466\" r=\"14\" fill=\"#4682b4\" fill-rule=\"evenodd\" fill-opacity=\"1\" stroke=\"#000000\" stroke-opacity=\"1\" stroke-width=\"2.4\"/>\n",
       "<circle clip-path=\"url(#clip252)\" cx=\"688.719\" cy=\"289.377\" r=\"14\" fill=\"#4682b4\" fill-rule=\"evenodd\" fill-opacity=\"1\" stroke=\"#000000\" stroke-opacity=\"1\" stroke-width=\"2.4\"/>\n",
       "<circle clip-path=\"url(#clip252)\" cx=\"295.387\" cy=\"261.974\" r=\"14\" fill=\"#4682b4\" fill-rule=\"evenodd\" fill-opacity=\"1\" stroke=\"#000000\" stroke-opacity=\"1\" stroke-width=\"2.4\"/>\n",
       "<circle clip-path=\"url(#clip252)\" cx=\"1022.68\" cy=\"75.5589\" r=\"14\" fill=\"#4682b4\" fill-rule=\"evenodd\" fill-opacity=\"1\" stroke=\"#000000\" stroke-opacity=\"1\" stroke-width=\"2.4\"/>\n",
       "<circle clip-path=\"url(#clip252)\" cx=\"463.73\" cy=\"228.965\" r=\"14\" fill=\"#4682b4\" fill-rule=\"evenodd\" fill-opacity=\"1\" stroke=\"#000000\" stroke-opacity=\"1\" stroke-width=\"2.4\"/>\n",
       "<circle clip-path=\"url(#clip252)\" cx=\"221.072\" cy=\"406.75\" r=\"14\" fill=\"#4682b4\" fill-rule=\"evenodd\" fill-opacity=\"1\" stroke=\"#000000\" stroke-opacity=\"1\" stroke-width=\"2.4\"/>\n",
       "<circle clip-path=\"url(#clip252)\" cx=\"521\" cy=\"159.677\" r=\"14\" fill=\"#4682b4\" fill-rule=\"evenodd\" fill-opacity=\"1\" stroke=\"#000000\" stroke-opacity=\"1\" stroke-width=\"2.4\"/>\n",
       "<path clip-path=\"url(#clip250)\" d=\"\n",
       "M860.325 236.113 L1120.8 236.113 L1120.8 80.5926 L860.325 80.5926  Z\n",
       "  \" fill=\"#ffffff\" fill-rule=\"evenodd\" fill-opacity=\"1\"/>\n",
       "<polyline clip-path=\"url(#clip250)\" style=\"stroke:#000000; stroke-linecap:butt; stroke-linejoin:round; stroke-width:4; stroke-opacity:1; fill:none\" points=\"\n",
       "  860.325,236.113 1120.8,236.113 1120.8,80.5926 860.325,80.5926 860.325,236.113 \n",
       "  \"/>\n",
       "<circle clip-path=\"url(#clip250)\" cx=\"902.94\" cy=\"132.433\" r=\"23\" fill=\"#cd5c5c\" fill-rule=\"evenodd\" fill-opacity=\"1\" stroke=\"#000000\" stroke-opacity=\"1\" stroke-width=\"3.84\"/>\n",
       "<path clip-path=\"url(#clip250)\" d=\"M973.424 117.815 L973.424 122.745 Q971.063 120.546 968.378 119.458 Q965.716 118.37 962.706 118.37 Q956.781 118.37 953.632 122.004 Q950.484 125.616 950.484 132.467 Q950.484 139.296 953.632 142.93 Q956.781 146.541 962.706 146.541 Q965.716 146.541 968.378 145.453 Q971.063 144.365 973.424 142.166 L973.424 147.051 Q970.97 148.717 968.216 149.551 Q965.484 150.384 962.429 150.384 Q954.582 150.384 950.068 145.592 Q945.554 140.777 945.554 132.467 Q945.554 124.134 950.068 119.342 Q954.582 114.528 962.429 114.528 Q965.531 114.528 968.262 115.361 Q971.017 116.171 973.424 117.815 Z\" fill=\"#000000\" fill-rule=\"evenodd\" fill-opacity=\"1\" /><path clip-path=\"url(#clip250)\" d=\"M990.507 126.773 Q987.081 126.773 985.091 129.458 Q983.1 132.12 983.1 136.773 Q983.1 141.426 985.067 144.111 Q987.058 146.773 990.507 146.773 Q993.91 146.773 995.901 144.088 Q997.891 141.402 997.891 136.773 Q997.891 132.166 995.901 129.481 Q993.91 126.773 990.507 126.773 M990.507 123.162 Q996.063 123.162 999.234 126.773 Q1002.41 130.384 1002.41 136.773 Q1002.41 143.139 999.234 146.773 Q996.063 150.384 990.507 150.384 Q984.929 150.384 981.757 146.773 Q978.609 143.139 978.609 136.773 Q978.609 130.384 981.757 126.773 Q984.929 123.162 990.507 123.162 Z\" fill=\"#000000\" fill-rule=\"evenodd\" fill-opacity=\"1\" /><path clip-path=\"url(#clip250)\" d=\"M1021.25 136.68 Q1016.09 136.68 1014.1 137.861 Q1012.1 139.041 1012.1 141.889 Q1012.1 144.157 1013.59 145.5 Q1015.09 146.819 1017.66 146.819 Q1021.2 146.819 1023.33 144.319 Q1025.48 141.796 1025.48 137.629 L1025.48 136.68 L1021.25 136.68 M1029.74 134.921 L1029.74 149.713 L1025.48 149.713 L1025.48 145.777 Q1024.03 148.139 1021.85 149.273 Q1019.67 150.384 1016.53 150.384 Q1012.54 150.384 1010.18 148.162 Q1007.85 145.916 1007.85 142.166 Q1007.85 137.791 1010.76 135.569 Q1013.7 133.347 1019.51 133.347 L1025.48 133.347 L1025.48 132.93 Q1025.48 129.991 1023.54 128.393 Q1021.62 126.773 1018.12 126.773 Q1015.9 126.773 1013.79 127.305 Q1011.69 127.838 1009.74 128.903 L1009.74 124.967 Q1012.08 124.065 1014.28 123.625 Q1016.48 123.162 1018.56 123.162 Q1024.19 123.162 1026.97 126.078 Q1029.74 128.995 1029.74 134.921 Z\" fill=\"#000000\" fill-rule=\"evenodd\" fill-opacity=\"1\" /><path clip-path=\"url(#clip250)\" d=\"M1042.73 116.426 L1042.73 123.787 L1051.5 123.787 L1051.5 127.097 L1042.73 127.097 L1042.73 141.171 Q1042.73 144.342 1043.59 145.245 Q1044.47 146.148 1047.13 146.148 L1051.5 146.148 L1051.5 149.713 L1047.13 149.713 Q1042.2 149.713 1040.32 147.884 Q1038.45 146.032 1038.45 141.171 L1038.45 127.097 L1035.32 127.097 L1035.32 123.787 L1038.45 123.787 L1038.45 116.426 L1042.73 116.426 Z\" fill=\"#000000\" fill-rule=\"evenodd\" fill-opacity=\"1\" /><circle clip-path=\"url(#clip250)\" cx=\"902.94\" cy=\"184.273\" r=\"23\" fill=\"#4682b4\" fill-rule=\"evenodd\" fill-opacity=\"1\" stroke=\"#000000\" stroke-opacity=\"1\" stroke-width=\"3.84\"/>\n",
       "<path clip-path=\"url(#clip250)\" d=\"M967.799 168.127 L967.799 172.687 Q965.137 171.414 962.776 170.789 Q960.415 170.164 958.216 170.164 Q954.396 170.164 952.313 171.645 Q950.253 173.127 950.253 175.858 Q950.253 178.15 951.619 179.331 Q953.007 180.488 956.85 181.206 L959.674 181.784 Q964.906 182.78 967.382 185.303 Q969.882 187.803 969.882 192.016 Q969.882 197.039 966.503 199.631 Q963.146 202.224 956.642 202.224 Q954.188 202.224 951.41 201.668 Q948.656 201.113 945.693 200.025 L945.693 195.21 Q948.54 196.807 951.271 197.617 Q954.003 198.428 956.642 198.428 Q960.646 198.428 962.822 196.854 Q964.998 195.28 964.998 192.363 Q964.998 189.817 963.424 188.381 Q961.873 186.946 958.308 186.229 L955.461 185.673 Q950.23 184.631 947.892 182.409 Q945.554 180.187 945.554 176.229 Q945.554 171.645 948.771 169.006 Q952.012 166.368 957.683 166.368 Q960.114 166.368 962.637 166.807 Q965.16 167.247 967.799 168.127 Z\" fill=\"#000000\" fill-rule=\"evenodd\" fill-opacity=\"1\" /><path clip-path=\"url(#clip250)\" d=\"M988.771 188.52 Q983.609 188.52 981.618 189.701 Q979.628 190.881 979.628 193.729 Q979.628 195.997 981.109 197.34 Q982.614 198.659 985.183 198.659 Q988.725 198.659 990.854 196.159 Q993.007 193.636 993.007 189.469 L993.007 188.52 L988.771 188.52 M997.266 186.761 L997.266 201.553 L993.007 201.553 L993.007 197.617 Q991.549 199.979 989.373 201.113 Q987.197 202.224 984.049 202.224 Q980.067 202.224 977.706 200.002 Q975.368 197.756 975.368 194.006 Q975.368 189.631 978.285 187.409 Q981.225 185.187 987.035 185.187 L993.007 185.187 L993.007 184.77 Q993.007 181.831 991.063 180.233 Q989.142 178.613 985.646 178.613 Q983.424 178.613 981.317 179.145 Q979.211 179.678 977.267 180.743 L977.267 176.807 Q979.605 175.905 981.804 175.465 Q984.003 175.002 986.086 175.002 Q991.711 175.002 994.489 177.918 Q997.266 180.835 997.266 186.761 Z\" fill=\"#000000\" fill-rule=\"evenodd\" fill-opacity=\"1\" /><path clip-path=\"url(#clip250)\" d=\"M1027.59 185.905 L1027.59 201.553 L1023.33 201.553 L1023.33 186.043 Q1023.33 182.363 1021.9 180.534 Q1020.46 178.706 1017.59 178.706 Q1014.14 178.706 1012.15 180.905 Q1010.16 183.104 1010.16 186.9 L1010.16 201.553 L1005.88 201.553 L1005.88 175.627 L1010.16 175.627 L1010.16 179.655 Q1011.69 177.317 1013.75 176.159 Q1015.83 175.002 1018.54 175.002 Q1023.01 175.002 1025.3 177.78 Q1027.59 180.534 1027.59 185.905 Z\" fill=\"#000000\" fill-rule=\"evenodd\" fill-opacity=\"1\" /><path clip-path=\"url(#clip250)\" d=\"M1053.15 179.562 L1053.15 165.534 L1057.41 165.534 L1057.41 201.553 L1053.15 201.553 L1053.15 197.664 Q1051.8 199.979 1049.74 201.113 Q1047.71 202.224 1044.84 202.224 Q1040.14 202.224 1037.17 198.474 Q1034.23 194.724 1034.23 188.613 Q1034.23 182.502 1037.17 178.752 Q1040.14 175.002 1044.84 175.002 Q1047.71 175.002 1049.74 176.136 Q1051.8 177.247 1053.15 179.562 M1038.63 188.613 Q1038.63 193.312 1040.55 195.997 Q1042.5 198.659 1045.88 198.659 Q1049.26 198.659 1051.2 195.997 Q1053.15 193.312 1053.15 188.613 Q1053.15 183.914 1051.2 181.252 Q1049.26 178.567 1045.88 178.567 Q1042.5 178.567 1040.55 181.252 Q1038.63 183.914 1038.63 188.613 Z\" fill=\"#000000\" fill-rule=\"evenodd\" fill-opacity=\"1\" /><path clip-path=\"url(#clip250)\" d=\"M1077.96 188.52 Q1072.8 188.52 1070.81 189.701 Q1068.82 190.881 1068.82 193.729 Q1068.82 195.997 1070.3 197.34 Q1071.8 198.659 1074.37 198.659 Q1077.91 198.659 1080.04 196.159 Q1082.2 193.636 1082.2 189.469 L1082.2 188.52 L1077.96 188.52 M1086.46 186.761 L1086.46 201.553 L1082.2 201.553 L1082.2 197.617 Q1080.74 199.979 1078.56 201.113 Q1076.39 202.224 1073.24 202.224 Q1069.26 202.224 1066.9 200.002 Q1064.56 197.756 1064.56 194.006 Q1064.56 189.631 1067.47 187.409 Q1070.41 185.187 1076.22 185.187 L1082.2 185.187 L1082.2 184.77 Q1082.2 181.831 1080.25 180.233 Q1078.33 178.613 1074.84 178.613 Q1072.61 178.613 1070.51 179.145 Q1068.4 179.678 1066.46 180.743 L1066.46 176.807 Q1068.79 175.905 1070.99 175.465 Q1073.19 175.002 1075.28 175.002 Q1080.9 175.002 1083.68 177.918 Q1086.46 180.835 1086.46 186.761 Z\" fill=\"#000000\" fill-rule=\"evenodd\" fill-opacity=\"1\" /><path clip-path=\"url(#clip250)\" d=\"M1095.23 165.534 L1099.49 165.534 L1099.49 201.553 L1095.23 201.553 L1095.23 165.534 Z\" fill=\"#000000\" fill-rule=\"evenodd\" fill-opacity=\"1\" /><path clip-path=\"url(#clip250)\" d=\"\n",
       "M1393.94 1047.7 L2352.76 1047.7 L2352.76 47.2441 L1393.94 47.2441  Z\n",
       "  \" fill=\"#ffffff\" fill-rule=\"evenodd\" fill-opacity=\"1\"/>\n",
       "<defs>\n",
       "  <clipPath id=\"clip253\">\n",
       "    <rect x=\"1393\" y=\"47\" width=\"960\" height=\"1001\"/>\n",
       "  </clipPath>\n",
       "</defs>\n",
       "<polyline clip-path=\"url(#clip253)\" style=\"stroke:#000000; stroke-linecap:butt; stroke-linejoin:round; stroke-width:2; stroke-opacity:0.1; fill:none\" points=\"\n",
       "  1524.57,1047.7 1524.57,47.2441 \n",
       "  \"/>\n",
       "<polyline clip-path=\"url(#clip253)\" style=\"stroke:#000000; stroke-linecap:butt; stroke-linejoin:round; stroke-width:2; stroke-opacity:0.1; fill:none\" points=\"\n",
       "  1692.21,1047.7 1692.21,47.2441 \n",
       "  \"/>\n",
       "<polyline clip-path=\"url(#clip253)\" style=\"stroke:#000000; stroke-linecap:butt; stroke-linejoin:round; stroke-width:2; stroke-opacity:0.1; fill:none\" points=\"\n",
       "  1859.84,1047.7 1859.84,47.2441 \n",
       "  \"/>\n",
       "<polyline clip-path=\"url(#clip253)\" style=\"stroke:#000000; stroke-linecap:butt; stroke-linejoin:round; stroke-width:2; stroke-opacity:0.1; fill:none\" points=\"\n",
       "  2027.48,1047.7 2027.48,47.2441 \n",
       "  \"/>\n",
       "<polyline clip-path=\"url(#clip253)\" style=\"stroke:#000000; stroke-linecap:butt; stroke-linejoin:round; stroke-width:2; stroke-opacity:0.1; fill:none\" points=\"\n",
       "  2195.12,1047.7 2195.12,47.2441 \n",
       "  \"/>\n",
       "<polyline clip-path=\"url(#clip250)\" style=\"stroke:#000000; stroke-linecap:butt; stroke-linejoin:round; stroke-width:4; stroke-opacity:1; fill:none\" points=\"\n",
       "  1393.94,1047.7 2352.76,1047.7 \n",
       "  \"/>\n",
       "<polyline clip-path=\"url(#clip250)\" style=\"stroke:#000000; stroke-linecap:butt; stroke-linejoin:round; stroke-width:4; stroke-opacity:1; fill:none\" points=\"\n",
       "  1524.57,1047.7 1524.57,1028.8 \n",
       "  \"/>\n",
       "<polyline clip-path=\"url(#clip250)\" style=\"stroke:#000000; stroke-linecap:butt; stroke-linejoin:round; stroke-width:4; stroke-opacity:1; fill:none\" points=\"\n",
       "  1692.21,1047.7 1692.21,1028.8 \n",
       "  \"/>\n",
       "<polyline clip-path=\"url(#clip250)\" style=\"stroke:#000000; stroke-linecap:butt; stroke-linejoin:round; stroke-width:4; stroke-opacity:1; fill:none\" points=\"\n",
       "  1859.84,1047.7 1859.84,1028.8 \n",
       "  \"/>\n",
       "<polyline clip-path=\"url(#clip250)\" style=\"stroke:#000000; stroke-linecap:butt; stroke-linejoin:round; stroke-width:4; stroke-opacity:1; fill:none\" points=\"\n",
       "  2027.48,1047.7 2027.48,1028.8 \n",
       "  \"/>\n",
       "<polyline clip-path=\"url(#clip250)\" style=\"stroke:#000000; stroke-linecap:butt; stroke-linejoin:round; stroke-width:4; stroke-opacity:1; fill:none\" points=\"\n",
       "  2195.12,1047.7 2195.12,1028.8 \n",
       "  \"/>\n",
       "<path clip-path=\"url(#clip250)\" d=\"M1471.02 1093.27 L1500.69 1093.27 L1500.69 1097.21 L1471.02 1097.21 L1471.02 1093.27 Z\" fill=\"#000000\" fill-rule=\"evenodd\" fill-opacity=\"1\" /><path clip-path=\"url(#clip250)\" d=\"M1520.79 1078.62 Q1517.17 1078.62 1515.35 1082.18 Q1513.54 1085.72 1513.54 1092.85 Q1513.54 1099.96 1515.35 1103.53 Q1517.17 1107.07 1520.79 1107.07 Q1524.42 1107.07 1526.22 1103.53 Q1528.05 1099.96 1528.05 1092.85 Q1528.05 1085.72 1526.22 1082.18 Q1524.42 1078.62 1520.79 1078.62 M1520.79 1074.91 Q1526.6 1074.91 1529.65 1079.52 Q1532.73 1084.1 1532.73 1092.85 Q1532.73 1101.58 1529.65 1106.19 Q1526.6 1110.77 1520.79 1110.77 Q1514.97 1110.77 1511.9 1106.19 Q1508.84 1101.58 1508.84 1092.85 Q1508.84 1084.1 1511.9 1079.52 Q1514.97 1074.91 1520.79 1074.91 Z\" fill=\"#000000\" fill-rule=\"evenodd\" fill-opacity=\"1\" /><path clip-path=\"url(#clip250)\" d=\"M1540.95 1104.22 L1545.83 1104.22 L1545.83 1110.1 L1540.95 1110.1 L1540.95 1104.22 Z\" fill=\"#000000\" fill-rule=\"evenodd\" fill-opacity=\"1\" /><path clip-path=\"url(#clip250)\" d=\"M1566.6 1090.96 Q1563.45 1090.96 1561.6 1093.11 Q1559.77 1095.26 1559.77 1099.01 Q1559.77 1102.74 1561.6 1104.91 Q1563.45 1107.07 1566.6 1107.07 Q1569.74 1107.07 1571.57 1104.91 Q1573.42 1102.74 1573.42 1099.01 Q1573.42 1095.26 1571.57 1093.11 Q1569.74 1090.96 1566.6 1090.96 M1575.88 1076.3 L1575.88 1080.56 Q1574.12 1079.73 1572.31 1079.29 Q1570.53 1078.85 1568.77 1078.85 Q1564.14 1078.85 1561.69 1081.97 Q1559.26 1085.1 1558.91 1091.42 Q1560.28 1089.41 1562.34 1088.34 Q1564.4 1087.25 1566.87 1087.25 Q1572.08 1087.25 1575.09 1090.42 Q1578.12 1093.57 1578.12 1099.01 Q1578.12 1104.34 1574.97 1107.55 Q1571.83 1110.77 1566.6 1110.77 Q1560.6 1110.77 1557.43 1106.19 Q1554.26 1101.58 1554.26 1092.85 Q1554.26 1084.66 1558.15 1079.8 Q1562.03 1074.91 1568.59 1074.91 Q1570.35 1074.91 1572.13 1075.26 Q1573.93 1075.61 1575.88 1076.3 Z\" fill=\"#000000\" fill-rule=\"evenodd\" fill-opacity=\"1\" /><path clip-path=\"url(#clip250)\" d=\"M1639.06 1093.27 L1668.73 1093.27 L1668.73 1097.21 L1639.06 1097.21 L1639.06 1093.27 Z\" fill=\"#000000\" fill-rule=\"evenodd\" fill-opacity=\"1\" /><path clip-path=\"url(#clip250)\" d=\"M1688.83 1078.62 Q1685.22 1078.62 1683.39 1082.18 Q1681.58 1085.72 1681.58 1092.85 Q1681.58 1099.96 1683.39 1103.53 Q1685.22 1107.07 1688.83 1107.07 Q1692.46 1107.07 1694.27 1103.53 Q1696.1 1099.96 1696.1 1092.85 Q1696.1 1085.72 1694.27 1082.18 Q1692.46 1078.62 1688.83 1078.62 M1688.83 1074.91 Q1694.64 1074.91 1697.69 1079.52 Q1700.77 1084.1 1700.77 1092.85 Q1700.77 1101.58 1697.69 1106.19 Q1694.64 1110.77 1688.83 1110.77 Q1683.02 1110.77 1679.94 1106.19 Q1676.88 1101.58 1676.88 1092.85 Q1676.88 1084.1 1679.94 1079.52 Q1683.02 1074.91 1688.83 1074.91 Z\" fill=\"#000000\" fill-rule=\"evenodd\" fill-opacity=\"1\" /><path clip-path=\"url(#clip250)\" d=\"M1708.99 1104.22 L1713.87 1104.22 L1713.87 1110.1 L1708.99 1110.1 L1708.99 1104.22 Z\" fill=\"#000000\" fill-rule=\"evenodd\" fill-opacity=\"1\" /><path clip-path=\"url(#clip250)\" d=\"M1738.23 1091.47 Q1741.58 1092.18 1743.46 1094.45 Q1745.35 1096.72 1745.35 1100.05 Q1745.35 1105.17 1741.84 1107.97 Q1738.32 1110.77 1731.84 1110.77 Q1729.66 1110.77 1727.35 1110.33 Q1725.05 1109.91 1722.6 1109.06 L1722.6 1104.54 Q1724.54 1105.68 1726.86 1106.26 Q1729.17 1106.84 1731.7 1106.84 Q1736.1 1106.84 1738.39 1105.1 Q1740.7 1103.36 1740.7 1100.05 Q1740.7 1097 1738.55 1095.29 Q1736.42 1093.55 1732.6 1093.55 L1728.57 1093.55 L1728.57 1089.71 L1732.79 1089.71 Q1736.23 1089.71 1738.06 1088.34 Q1739.89 1086.95 1739.89 1084.36 Q1739.89 1081.7 1737.99 1080.29 Q1736.12 1078.85 1732.6 1078.85 Q1730.68 1078.85 1728.48 1079.27 Q1726.28 1079.68 1723.64 1080.56 L1723.64 1076.4 Q1726.3 1075.66 1728.62 1075.29 Q1730.96 1074.91 1733.02 1074.91 Q1738.34 1074.91 1741.44 1077.35 Q1744.54 1079.75 1744.54 1083.87 Q1744.54 1086.74 1742.9 1088.73 Q1741.26 1090.7 1738.23 1091.47 Z\" fill=\"#000000\" fill-rule=\"evenodd\" fill-opacity=\"1\" /><path clip-path=\"url(#clip250)\" d=\"M1837.23 1078.62 Q1833.62 1078.62 1831.79 1082.18 Q1829.98 1085.72 1829.98 1092.85 Q1829.98 1099.96 1831.79 1103.53 Q1833.62 1107.07 1837.23 1107.07 Q1840.86 1107.07 1842.67 1103.53 Q1844.5 1099.96 1844.5 1092.85 Q1844.5 1085.72 1842.67 1082.18 Q1840.86 1078.62 1837.23 1078.62 M1837.23 1074.91 Q1843.04 1074.91 1846.09 1079.52 Q1849.17 1084.1 1849.17 1092.85 Q1849.17 1101.58 1846.09 1106.19 Q1843.04 1110.77 1837.23 1110.77 Q1831.42 1110.77 1828.34 1106.19 Q1825.28 1101.58 1825.28 1092.85 Q1825.28 1084.1 1828.34 1079.52 Q1831.42 1074.91 1837.23 1074.91 Z\" fill=\"#000000\" fill-rule=\"evenodd\" fill-opacity=\"1\" /><path clip-path=\"url(#clip250)\" d=\"M1857.39 1104.22 L1862.27 1104.22 L1862.27 1110.1 L1857.39 1110.1 L1857.39 1104.22 Z\" fill=\"#000000\" fill-rule=\"evenodd\" fill-opacity=\"1\" /><path clip-path=\"url(#clip250)\" d=\"M1882.46 1078.62 Q1878.85 1078.62 1877.02 1082.18 Q1875.21 1085.72 1875.21 1092.85 Q1875.21 1099.96 1877.02 1103.53 Q1878.85 1107.07 1882.46 1107.07 Q1886.09 1107.07 1887.9 1103.53 Q1889.73 1099.96 1889.73 1092.85 Q1889.73 1085.72 1887.9 1082.18 Q1886.09 1078.62 1882.46 1078.62 M1882.46 1074.91 Q1888.27 1074.91 1891.33 1079.52 Q1894.4 1084.1 1894.4 1092.85 Q1894.4 1101.58 1891.33 1106.19 Q1888.27 1110.77 1882.46 1110.77 Q1876.65 1110.77 1873.57 1106.19 Q1870.52 1101.58 1870.52 1092.85 Q1870.52 1084.1 1873.57 1079.52 Q1876.65 1074.91 1882.46 1074.91 Z\" fill=\"#000000\" fill-rule=\"evenodd\" fill-opacity=\"1\" /><path clip-path=\"url(#clip250)\" d=\"M2005.19 1078.62 Q2001.58 1078.62 1999.75 1082.18 Q1997.94 1085.72 1997.94 1092.85 Q1997.94 1099.96 1999.75 1103.53 Q2001.58 1107.07 2005.19 1107.07 Q2008.82 1107.07 2010.63 1103.53 Q2012.46 1099.96 2012.46 1092.85 Q2012.46 1085.72 2010.63 1082.18 Q2008.82 1078.62 2005.19 1078.62 M2005.19 1074.91 Q2011 1074.91 2014.06 1079.52 Q2017.13 1084.1 2017.13 1092.85 Q2017.13 1101.58 2014.06 1106.19 Q2011 1110.77 2005.19 1110.77 Q1999.38 1110.77 1996.3 1106.19 Q1993.25 1101.58 1993.25 1092.85 Q1993.25 1084.1 1996.3 1079.52 Q1999.38 1074.91 2005.19 1074.91 Z\" fill=\"#000000\" fill-rule=\"evenodd\" fill-opacity=\"1\" /><path clip-path=\"url(#clip250)\" d=\"M2025.35 1104.22 L2030.24 1104.22 L2030.24 1110.1 L2025.35 1110.1 L2025.35 1104.22 Z\" fill=\"#000000\" fill-rule=\"evenodd\" fill-opacity=\"1\" /><path clip-path=\"url(#clip250)\" d=\"M2054.59 1091.47 Q2057.94 1092.18 2059.82 1094.45 Q2061.72 1096.72 2061.72 1100.05 Q2061.72 1105.17 2058.2 1107.97 Q2054.68 1110.77 2048.2 1110.77 Q2046.02 1110.77 2043.71 1110.33 Q2041.42 1109.91 2038.96 1109.06 L2038.96 1104.54 Q2040.91 1105.68 2043.22 1106.26 Q2045.54 1106.84 2048.06 1106.84 Q2052.46 1106.84 2054.75 1105.1 Q2057.06 1103.36 2057.06 1100.05 Q2057.06 1097 2054.91 1095.29 Q2052.78 1093.55 2048.96 1093.55 L2044.93 1093.55 L2044.93 1089.71 L2049.15 1089.71 Q2052.6 1089.71 2054.43 1088.34 Q2056.25 1086.95 2056.25 1084.36 Q2056.25 1081.7 2054.36 1080.29 Q2052.48 1078.85 2048.96 1078.85 Q2047.04 1078.85 2044.84 1079.27 Q2042.64 1079.68 2040 1080.56 L2040 1076.4 Q2042.67 1075.66 2044.98 1075.29 Q2047.32 1074.91 2049.38 1074.91 Q2054.7 1074.91 2057.81 1077.35 Q2060.91 1079.75 2060.91 1083.87 Q2060.91 1086.74 2059.26 1088.73 Q2057.62 1090.7 2054.59 1091.47 Z\" fill=\"#000000\" fill-rule=\"evenodd\" fill-opacity=\"1\" /><path clip-path=\"url(#clip250)\" d=\"M2172.42 1078.62 Q2168.81 1078.62 2166.98 1082.18 Q2165.18 1085.72 2165.18 1092.85 Q2165.18 1099.96 2166.98 1103.53 Q2168.81 1107.07 2172.42 1107.07 Q2176.06 1107.07 2177.86 1103.53 Q2179.69 1099.96 2179.69 1092.85 Q2179.69 1085.72 2177.86 1082.18 Q2176.06 1078.62 2172.42 1078.62 M2172.42 1074.91 Q2178.23 1074.91 2181.29 1079.52 Q2184.37 1084.1 2184.37 1092.85 Q2184.37 1101.58 2181.29 1106.19 Q2178.23 1110.77 2172.42 1110.77 Q2166.61 1110.77 2163.53 1106.19 Q2160.48 1101.58 2160.48 1092.85 Q2160.48 1084.1 2163.53 1079.52 Q2166.61 1074.91 2172.42 1074.91 Z\" fill=\"#000000\" fill-rule=\"evenodd\" fill-opacity=\"1\" /><path clip-path=\"url(#clip250)\" d=\"M2192.58 1104.22 L2197.47 1104.22 L2197.47 1110.1 L2192.58 1110.1 L2192.58 1104.22 Z\" fill=\"#000000\" fill-rule=\"evenodd\" fill-opacity=\"1\" /><path clip-path=\"url(#clip250)\" d=\"M2218.23 1090.96 Q2215.08 1090.96 2213.23 1093.11 Q2211.4 1095.26 2211.4 1099.01 Q2211.4 1102.74 2213.23 1104.91 Q2215.08 1107.07 2218.23 1107.07 Q2221.38 1107.07 2223.21 1104.91 Q2225.06 1102.74 2225.06 1099.01 Q2225.06 1095.26 2223.21 1093.11 Q2221.38 1090.96 2218.23 1090.96 M2227.51 1076.3 L2227.51 1080.56 Q2225.75 1079.73 2223.95 1079.29 Q2222.17 1078.85 2220.41 1078.85 Q2215.78 1078.85 2213.32 1081.97 Q2210.89 1085.1 2210.55 1091.42 Q2211.91 1089.41 2213.97 1088.34 Q2216.03 1087.25 2218.51 1087.25 Q2223.72 1087.25 2226.73 1090.42 Q2229.76 1093.57 2229.76 1099.01 Q2229.76 1104.34 2226.61 1107.55 Q2223.46 1110.77 2218.23 1110.77 Q2212.24 1110.77 2209.06 1106.19 Q2205.89 1101.58 2205.89 1092.85 Q2205.89 1084.66 2209.78 1079.8 Q2213.67 1074.91 2220.22 1074.91 Q2221.98 1074.91 2223.76 1075.26 Q2225.57 1075.61 2227.51 1076.3 Z\" fill=\"#000000\" fill-rule=\"evenodd\" fill-opacity=\"1\" /><path clip-path=\"url(#clip250)\" d=\"M1547.93 1187.22 L1547.93 1206.12 L1542.04 1206.12 L1542.04 1156.92 L1547.93 1156.92 L1547.93 1162.33 Q1549.78 1159.14 1552.58 1157.62 Q1555.41 1156.06 1559.33 1156.06 Q1565.82 1156.06 1569.86 1161.21 Q1573.93 1166.37 1573.93 1174.77 Q1573.93 1183.17 1569.86 1188.33 Q1565.82 1193.49 1559.33 1193.49 Q1555.41 1193.49 1552.58 1191.96 Q1549.78 1190.4 1547.93 1187.22 M1567.86 1174.77 Q1567.86 1168.31 1565.18 1164.65 Q1562.54 1160.96 1557.89 1160.96 Q1553.25 1160.96 1550.57 1164.65 Q1547.93 1168.31 1547.93 1174.77 Q1547.93 1181.23 1550.57 1184.92 Q1553.25 1188.59 1557.89 1188.59 Q1562.54 1188.59 1565.18 1184.92 Q1567.86 1181.23 1567.86 1174.77 Z\" fill=\"#000000\" fill-rule=\"evenodd\" fill-opacity=\"1\" /><path clip-path=\"url(#clip250)\" d=\"M1604.3 1162.39 Q1603.31 1161.82 1602.14 1161.56 Q1600.99 1161.28 1599.59 1161.28 Q1594.62 1161.28 1591.95 1164.52 Q1589.31 1167.74 1589.31 1173.79 L1589.31 1192.56 L1583.42 1192.56 L1583.42 1156.92 L1589.31 1156.92 L1589.31 1162.45 Q1591.15 1159.21 1594.11 1157.65 Q1597.07 1156.06 1601.31 1156.06 Q1601.91 1156.06 1602.64 1156.15 Q1603.38 1156.22 1604.27 1156.37 L1604.3 1162.39 Z\" fill=\"#000000\" fill-rule=\"evenodd\" fill-opacity=\"1\" /><path clip-path=\"url(#clip250)\" d=\"M1639.5 1173.28 L1639.5 1176.14 L1612.57 1176.14 Q1612.96 1182.19 1616.2 1185.37 Q1619.48 1188.52 1625.31 1188.52 Q1628.68 1188.52 1631.83 1187.69 Q1635.01 1186.87 1638.13 1185.21 L1638.13 1190.75 Q1634.98 1192.09 1631.67 1192.79 Q1628.36 1193.49 1624.96 1193.49 Q1616.43 1193.49 1611.43 1188.52 Q1606.46 1183.56 1606.46 1175.09 Q1606.46 1166.34 1611.17 1161.21 Q1615.92 1156.06 1623.94 1156.06 Q1631.13 1156.06 1635.3 1160.7 Q1639.5 1165.32 1639.5 1173.28 M1633.65 1171.56 Q1633.58 1166.75 1630.94 1163.89 Q1628.33 1161.02 1624 1161.02 Q1619.1 1161.02 1616.14 1163.79 Q1613.21 1166.56 1612.77 1171.59 L1633.65 1171.56 Z\" fill=\"#000000\" fill-rule=\"evenodd\" fill-opacity=\"1\" /><path clip-path=\"url(#clip250)\" d=\"M1672.57 1162.33 L1672.57 1143.04 L1678.43 1143.04 L1678.43 1192.56 L1672.57 1192.56 L1672.57 1187.22 Q1670.73 1190.4 1667.89 1191.96 Q1665.09 1193.49 1661.15 1193.49 Q1654.68 1193.49 1650.61 1188.33 Q1646.57 1183.17 1646.57 1174.77 Q1646.57 1166.37 1650.61 1161.21 Q1654.68 1156.06 1661.15 1156.06 Q1665.09 1156.06 1667.89 1157.62 Q1670.73 1159.14 1672.57 1162.33 M1652.62 1174.77 Q1652.62 1181.23 1655.26 1184.92 Q1657.93 1188.59 1662.58 1188.59 Q1667.22 1188.59 1669.9 1184.92 Q1672.57 1181.23 1672.57 1174.77 Q1672.57 1168.31 1669.9 1164.65 Q1667.22 1160.96 1662.58 1160.96 Q1657.93 1160.96 1655.26 1164.65 Q1652.62 1168.31 1652.62 1174.77 Z\" fill=\"#000000\" fill-rule=\"evenodd\" fill-opacity=\"1\" /><path clip-path=\"url(#clip250)\" d=\"M1690.49 1156.92 L1696.35 1156.92 L1696.35 1192.56 L1690.49 1192.56 L1690.49 1156.92 M1690.49 1143.04 L1696.35 1143.04 L1696.35 1150.45 L1690.49 1150.45 L1690.49 1143.04 Z\" fill=\"#000000\" fill-rule=\"evenodd\" fill-opacity=\"1\" /><path clip-path=\"url(#clip250)\" d=\"M1734.26 1158.28 L1734.26 1163.76 Q1731.77 1162.39 1729.26 1161.72 Q1726.78 1161.02 1724.23 1161.02 Q1718.53 1161.02 1715.38 1164.65 Q1712.23 1168.25 1712.23 1174.77 Q1712.23 1181.3 1715.38 1184.92 Q1718.53 1188.52 1724.23 1188.52 Q1726.78 1188.52 1729.26 1187.85 Q1731.77 1187.15 1734.26 1185.78 L1734.26 1191.2 Q1731.8 1192.34 1729.16 1192.91 Q1726.55 1193.49 1723.59 1193.49 Q1715.54 1193.49 1710.8 1188.43 Q1706.06 1183.37 1706.06 1174.77 Q1706.06 1166.05 1710.83 1161.05 Q1715.64 1156.06 1723.97 1156.06 Q1726.68 1156.06 1729.26 1156.63 Q1731.84 1157.17 1734.26 1158.28 Z\" fill=\"#000000\" fill-rule=\"evenodd\" fill-opacity=\"1\" /><path clip-path=\"url(#clip250)\" d=\"M1750.23 1146.79 L1750.23 1156.92 L1762.3 1156.92 L1762.3 1161.47 L1750.23 1161.47 L1750.23 1180.82 Q1750.23 1185.18 1751.41 1186.42 Q1752.62 1187.66 1756.28 1187.66 L1762.3 1187.66 L1762.3 1192.56 L1756.28 1192.56 Q1749.5 1192.56 1746.92 1190.05 Q1744.34 1187.5 1744.34 1180.82 L1744.34 1161.47 L1740.05 1161.47 L1740.05 1156.92 L1744.34 1156.92 L1744.34 1146.79 L1750.23 1146.79 Z\" fill=\"#000000\" fill-rule=\"evenodd\" fill-opacity=\"1\" /><path clip-path=\"url(#clip250)\" d=\"M1770 1156.92 L1775.86 1156.92 L1775.86 1192.56 L1770 1192.56 L1770 1156.92 M1770 1143.04 L1775.86 1143.04 L1775.86 1150.45 L1770 1150.45 L1770 1143.04 Z\" fill=\"#000000\" fill-rule=\"evenodd\" fill-opacity=\"1\" /><path clip-path=\"url(#clip250)\" d=\"M1801.92 1161.02 Q1797.21 1161.02 1794.47 1164.71 Q1791.74 1168.37 1791.74 1174.77 Q1791.74 1181.17 1794.44 1184.86 Q1797.18 1188.52 1801.92 1188.52 Q1806.6 1188.52 1809.34 1184.83 Q1812.08 1181.14 1812.08 1174.77 Q1812.08 1168.44 1809.34 1164.75 Q1806.6 1161.02 1801.92 1161.02 M1801.92 1156.06 Q1809.56 1156.06 1813.92 1161.02 Q1818.28 1165.99 1818.28 1174.77 Q1818.28 1183.52 1813.92 1188.52 Q1809.56 1193.49 1801.92 1193.49 Q1794.25 1193.49 1789.89 1188.52 Q1785.56 1183.52 1785.56 1174.77 Q1785.56 1165.99 1789.89 1161.02 Q1794.25 1156.06 1801.92 1156.06 Z\" fill=\"#000000\" fill-rule=\"evenodd\" fill-opacity=\"1\" /><path clip-path=\"url(#clip250)\" d=\"M1857.62 1171.05 L1857.62 1192.56 L1851.77 1192.56 L1851.77 1171.24 Q1851.77 1166.18 1849.79 1163.66 Q1847.82 1161.15 1843.87 1161.15 Q1839.13 1161.15 1836.39 1164.17 Q1833.66 1167.2 1833.66 1172.42 L1833.66 1192.56 L1827.77 1192.56 L1827.77 1156.92 L1833.66 1156.92 L1833.66 1162.45 Q1835.76 1159.24 1838.59 1157.65 Q1841.45 1156.06 1845.18 1156.06 Q1851.32 1156.06 1854.47 1159.88 Q1857.62 1163.66 1857.62 1171.05 Z\" fill=\"#000000\" fill-rule=\"evenodd\" fill-opacity=\"1\" /><path clip-path=\"url(#clip250)\" d=\"M1892.03 1157.97 L1892.03 1163.5 Q1889.55 1162.23 1886.87 1161.59 Q1884.2 1160.96 1881.33 1160.96 Q1876.97 1160.96 1874.78 1162.29 Q1872.61 1163.63 1872.61 1166.31 Q1872.61 1168.34 1874.17 1169.52 Q1875.73 1170.67 1880.44 1171.72 L1882.45 1172.16 Q1888.69 1173.5 1891.3 1175.95 Q1893.94 1178.37 1893.94 1182.73 Q1893.94 1187.69 1889.99 1190.59 Q1886.08 1193.49 1879.2 1193.49 Q1876.34 1193.49 1873.22 1192.91 Q1870.13 1192.37 1866.69 1191.26 L1866.69 1185.21 Q1869.94 1186.9 1873.09 1187.76 Q1876.24 1188.59 1879.33 1188.59 Q1883.47 1188.59 1885.7 1187.18 Q1887.92 1185.75 1887.92 1183.17 Q1887.92 1180.79 1886.3 1179.51 Q1884.71 1178.24 1879.27 1177.06 L1877.23 1176.59 Q1871.79 1175.44 1869.37 1173.08 Q1866.95 1170.7 1866.95 1166.56 Q1866.95 1161.53 1870.51 1158.79 Q1874.08 1156.06 1880.63 1156.06 Q1883.88 1156.06 1886.75 1156.53 Q1889.61 1157.01 1892.03 1157.97 Z\" fill=\"#000000\" fill-rule=\"evenodd\" fill-opacity=\"1\" /><path clip-path=\"url(#clip250)\" d=\"M1929.78 1146.79 L1929.78 1156.92 L1941.84 1156.92 L1941.84 1161.47 L1929.78 1161.47 L1929.78 1180.82 Q1929.78 1185.18 1930.96 1186.42 Q1932.17 1187.66 1935.83 1187.66 L1941.84 1187.66 L1941.84 1192.56 L1935.83 1192.56 Q1929.05 1192.56 1926.47 1190.05 Q1923.89 1187.5 1923.89 1180.82 L1923.89 1161.47 L1919.59 1161.47 L1919.59 1156.92 L1923.89 1156.92 L1923.89 1146.79 L1929.78 1146.79 Z\" fill=\"#000000\" fill-rule=\"evenodd\" fill-opacity=\"1\" /><path clip-path=\"url(#clip250)\" d=\"M1980.04 1173.28 L1980.04 1176.14 L1953.11 1176.14 Q1953.49 1182.19 1956.74 1185.37 Q1960.02 1188.52 1965.84 1188.52 Q1969.21 1188.52 1972.36 1187.69 Q1975.55 1186.87 1978.67 1185.21 L1978.67 1190.75 Q1975.52 1192.09 1972.21 1192.79 Q1968.9 1193.49 1965.49 1193.49 Q1956.96 1193.49 1951.96 1188.52 Q1947 1183.56 1947 1175.09 Q1947 1166.34 1951.71 1161.21 Q1956.45 1156.06 1964.47 1156.06 Q1971.66 1156.06 1975.83 1160.7 Q1980.04 1165.32 1980.04 1173.28 M1974.18 1171.56 Q1974.12 1166.75 1971.47 1163.89 Q1968.86 1161.02 1964.53 1161.02 Q1959.63 1161.02 1956.67 1163.79 Q1953.74 1166.56 1953.3 1171.59 L1974.18 1171.56 Z\" fill=\"#000000\" fill-rule=\"evenodd\" fill-opacity=\"1\" /><path clip-path=\"url(#clip250)\" d=\"M2012.37 1157.97 L2012.37 1163.5 Q2009.89 1162.23 2007.22 1161.59 Q2004.54 1160.96 2001.68 1160.96 Q1997.32 1160.96 1995.12 1162.29 Q1992.96 1163.63 1992.96 1166.31 Q1992.96 1168.34 1994.52 1169.52 Q1996.08 1170.67 2000.79 1171.72 L2002.79 1172.16 Q2009.03 1173.5 2011.64 1175.95 Q2014.28 1178.37 2014.28 1182.73 Q2014.28 1187.69 2010.34 1190.59 Q2006.42 1193.49 1999.55 1193.49 Q1996.68 1193.49 1993.56 1192.91 Q1990.47 1192.37 1987.04 1191.26 L1987.04 1185.21 Q1990.28 1186.9 1993.44 1187.76 Q1996.59 1188.59 1999.67 1188.59 Q2003.81 1188.59 2006.04 1187.18 Q2008.27 1185.75 2008.27 1183.17 Q2008.27 1180.79 2006.64 1179.51 Q2005.05 1178.24 1999.61 1177.06 L1997.57 1176.59 Q1992.13 1175.44 1989.71 1173.08 Q1987.29 1170.7 1987.29 1166.56 Q1987.29 1161.53 1990.86 1158.79 Q1994.42 1156.06 2000.98 1156.06 Q2004.22 1156.06 2007.09 1156.53 Q2009.95 1157.01 2012.37 1157.97 Z\" fill=\"#000000\" fill-rule=\"evenodd\" fill-opacity=\"1\" /><path clip-path=\"url(#clip250)\" d=\"M2029.4 1146.79 L2029.4 1156.92 L2041.46 1156.92 L2041.46 1161.47 L2029.4 1161.47 L2029.4 1180.82 Q2029.4 1185.18 2030.58 1186.42 Q2031.79 1187.66 2035.45 1187.66 L2041.46 1187.66 L2041.46 1192.56 L2035.45 1192.56 Q2028.67 1192.56 2026.09 1190.05 Q2023.51 1187.5 2023.51 1180.82 L2023.51 1161.47 L2019.22 1161.47 L2019.22 1156.92 L2023.51 1156.92 L2023.51 1146.79 L2029.4 1146.79 Z\" fill=\"#000000\" fill-rule=\"evenodd\" fill-opacity=\"1\" /><path clip-path=\"url(#clip250)\" d=\"M2093.34 1162.33 L2093.34 1143.04 L2099.2 1143.04 L2099.2 1192.56 L2093.34 1192.56 L2093.34 1187.22 Q2091.5 1190.4 2088.67 1191.96 Q2085.87 1193.49 2081.92 1193.49 Q2075.46 1193.49 2071.38 1188.33 Q2067.34 1183.17 2067.34 1174.77 Q2067.34 1166.37 2071.38 1161.21 Q2075.46 1156.06 2081.92 1156.06 Q2085.87 1156.06 2088.67 1157.62 Q2091.5 1159.14 2093.34 1162.33 M2073.39 1174.77 Q2073.39 1181.23 2076.03 1184.92 Q2078.7 1188.59 2083.35 1188.59 Q2088 1188.59 2090.67 1184.92 Q2093.34 1181.23 2093.34 1174.77 Q2093.34 1168.31 2090.67 1164.65 Q2088 1160.96 2083.35 1160.96 Q2078.7 1160.96 2076.03 1164.65 Q2073.39 1168.31 2073.39 1174.77 Z\" fill=\"#000000\" fill-rule=\"evenodd\" fill-opacity=\"1\" /><path clip-path=\"url(#clip250)\" d=\"M2127.46 1174.64 Q2120.37 1174.64 2117.63 1176.27 Q2114.89 1177.89 2114.89 1181.81 Q2114.89 1184.92 2116.93 1186.77 Q2119 1188.59 2122.53 1188.59 Q2127.4 1188.59 2130.33 1185.15 Q2133.29 1181.68 2133.29 1175.95 L2133.29 1174.64 L2127.46 1174.64 M2139.15 1172.23 L2139.15 1192.56 L2133.29 1192.56 L2133.29 1187.15 Q2131.28 1190.4 2128.29 1191.96 Q2125.3 1193.49 2120.97 1193.49 Q2115.5 1193.49 2112.25 1190.43 Q2109.04 1187.34 2109.04 1182.19 Q2109.04 1176.17 2113.05 1173.12 Q2117.09 1170.06 2125.08 1170.06 L2133.29 1170.06 L2133.29 1169.49 Q2133.29 1165.45 2130.62 1163.25 Q2127.97 1161.02 2123.17 1161.02 Q2120.11 1161.02 2117.22 1161.75 Q2114.32 1162.49 2111.65 1163.95 L2111.65 1158.54 Q2114.86 1157.3 2117.88 1156.69 Q2120.91 1156.06 2123.77 1156.06 Q2131.51 1156.06 2135.33 1160.07 Q2139.15 1164.08 2139.15 1172.23 Z\" fill=\"#000000\" fill-rule=\"evenodd\" fill-opacity=\"1\" /><path clip-path=\"url(#clip250)\" d=\"M2157 1146.79 L2157 1156.92 L2169.06 1156.92 L2169.06 1161.47 L2157 1161.47 L2157 1180.82 Q2157 1185.18 2158.18 1186.42 Q2159.39 1187.66 2163.05 1187.66 L2169.06 1187.66 L2169.06 1192.56 L2163.05 1192.56 Q2156.27 1192.56 2153.69 1190.05 Q2151.11 1187.5 2151.11 1180.82 L2151.11 1161.47 L2146.82 1161.47 L2146.82 1156.92 L2151.11 1156.92 L2151.11 1146.79 L2157 1146.79 Z\" fill=\"#000000\" fill-rule=\"evenodd\" fill-opacity=\"1\" /><path clip-path=\"url(#clip250)\" d=\"M2192.97 1174.64 Q2185.87 1174.64 2183.13 1176.27 Q2180.4 1177.89 2180.4 1181.81 Q2180.4 1184.92 2182.43 1186.77 Q2184.5 1188.59 2188.03 1188.59 Q2192.9 1188.59 2195.83 1185.15 Q2198.79 1181.68 2198.79 1175.95 L2198.79 1174.64 L2192.97 1174.64 M2204.65 1172.23 L2204.65 1192.56 L2198.79 1192.56 L2198.79 1187.15 Q2196.79 1190.4 2193.8 1191.96 Q2190.8 1193.49 2186.48 1193.49 Q2181 1193.49 2177.75 1190.43 Q2174.54 1187.34 2174.54 1182.19 Q2174.54 1176.17 2178.55 1173.12 Q2182.59 1170.06 2190.58 1170.06 L2198.79 1170.06 L2198.79 1169.49 Q2198.79 1165.45 2196.12 1163.25 Q2193.48 1161.02 2188.67 1161.02 Q2185.62 1161.02 2182.72 1161.75 Q2179.82 1162.49 2177.15 1163.95 L2177.15 1158.54 Q2180.36 1157.3 2183.39 1156.69 Q2186.41 1156.06 2189.28 1156.06 Q2197.01 1156.06 2200.83 1160.07 Q2204.65 1164.08 2204.65 1172.23 Z\" fill=\"#000000\" fill-rule=\"evenodd\" fill-opacity=\"1\" /><polyline clip-path=\"url(#clip253)\" style=\"stroke:#000000; stroke-linecap:butt; stroke-linejoin:round; stroke-width:2; stroke-opacity:0.1; fill:none\" points=\"\n",
       "  1393.94,880.983 2352.76,880.983 \n",
       "  \"/>\n",
       "<polyline clip-path=\"url(#clip253)\" style=\"stroke:#000000; stroke-linecap:butt; stroke-linejoin:round; stroke-width:2; stroke-opacity:0.1; fill:none\" points=\"\n",
       "  1393.94,712.685 2352.76,712.685 \n",
       "  \"/>\n",
       "<polyline clip-path=\"url(#clip253)\" style=\"stroke:#000000; stroke-linecap:butt; stroke-linejoin:round; stroke-width:2; stroke-opacity:0.1; fill:none\" points=\"\n",
       "  1393.94,544.386 2352.76,544.386 \n",
       "  \"/>\n",
       "<polyline clip-path=\"url(#clip253)\" style=\"stroke:#000000; stroke-linecap:butt; stroke-linejoin:round; stroke-width:2; stroke-opacity:0.1; fill:none\" points=\"\n",
       "  1393.94,376.087 2352.76,376.087 \n",
       "  \"/>\n",
       "<polyline clip-path=\"url(#clip253)\" style=\"stroke:#000000; stroke-linecap:butt; stroke-linejoin:round; stroke-width:2; stroke-opacity:0.1; fill:none\" points=\"\n",
       "  1393.94,207.789 2352.76,207.789 \n",
       "  \"/>\n",
       "<polyline clip-path=\"url(#clip250)\" style=\"stroke:#000000; stroke-linecap:butt; stroke-linejoin:round; stroke-width:4; stroke-opacity:1; fill:none\" points=\"\n",
       "  1393.94,1047.7 1393.94,47.2441 \n",
       "  \"/>\n",
       "<polyline clip-path=\"url(#clip250)\" style=\"stroke:#000000; stroke-linecap:butt; stroke-linejoin:round; stroke-width:4; stroke-opacity:1; fill:none\" points=\"\n",
       "  1393.94,880.983 1412.83,880.983 \n",
       "  \"/>\n",
       "<polyline clip-path=\"url(#clip250)\" style=\"stroke:#000000; stroke-linecap:butt; stroke-linejoin:round; stroke-width:4; stroke-opacity:1; fill:none\" points=\"\n",
       "  1393.94,712.685 1412.83,712.685 \n",
       "  \"/>\n",
       "<polyline clip-path=\"url(#clip250)\" style=\"stroke:#000000; stroke-linecap:butt; stroke-linejoin:round; stroke-width:4; stroke-opacity:1; fill:none\" points=\"\n",
       "  1393.94,544.386 1412.83,544.386 \n",
       "  \"/>\n",
       "<polyline clip-path=\"url(#clip250)\" style=\"stroke:#000000; stroke-linecap:butt; stroke-linejoin:round; stroke-width:4; stroke-opacity:1; fill:none\" points=\"\n",
       "  1393.94,376.087 1412.83,376.087 \n",
       "  \"/>\n",
       "<polyline clip-path=\"url(#clip250)\" style=\"stroke:#000000; stroke-linecap:butt; stroke-linejoin:round; stroke-width:4; stroke-opacity:1; fill:none\" points=\"\n",
       "  1393.94,207.789 1412.83,207.789 \n",
       "  \"/>\n",
       "<path clip-path=\"url(#clip250)\" d=\"M1250.99 881.435 L1280.67 881.435 L1280.67 885.37 L1250.99 885.37 L1250.99 881.435 Z\" fill=\"#000000\" fill-rule=\"evenodd\" fill-opacity=\"1\" /><path clip-path=\"url(#clip250)\" d=\"M1291.57 894.328 L1299.21 894.328 L1299.21 867.963 L1290.9 869.629 L1290.9 865.37 L1299.16 863.703 L1303.84 863.703 L1303.84 894.328 L1311.48 894.328 L1311.48 898.263 L1291.57 898.263 L1291.57 894.328 Z\" fill=\"#000000\" fill-rule=\"evenodd\" fill-opacity=\"1\" /><path clip-path=\"url(#clip250)\" d=\"M1320.92 892.384 L1325.81 892.384 L1325.81 898.263 L1320.92 898.263 L1320.92 892.384 Z\" fill=\"#000000\" fill-rule=\"evenodd\" fill-opacity=\"1\" /><path clip-path=\"url(#clip250)\" d=\"M1345.99 866.782 Q1342.38 866.782 1340.55 870.347 Q1338.75 873.889 1338.75 881.018 Q1338.75 888.125 1340.55 891.689 Q1342.38 895.231 1345.99 895.231 Q1349.63 895.231 1351.43 891.689 Q1353.26 888.125 1353.26 881.018 Q1353.26 873.889 1351.43 870.347 Q1349.63 866.782 1345.99 866.782 M1345.99 863.078 Q1351.8 863.078 1354.86 867.685 Q1357.94 872.268 1357.94 881.018 Q1357.94 889.745 1354.86 894.351 Q1351.8 898.935 1345.99 898.935 Q1340.18 898.935 1337.1 894.351 Q1334.05 889.745 1334.05 881.018 Q1334.05 872.268 1337.1 867.685 Q1340.18 863.078 1345.99 863.078 Z\" fill=\"#000000\" fill-rule=\"evenodd\" fill-opacity=\"1\" /><path clip-path=\"url(#clip250)\" d=\"M1251.99 713.136 L1281.66 713.136 L1281.66 717.071 L1251.99 717.071 L1251.99 713.136 Z\" fill=\"#000000\" fill-rule=\"evenodd\" fill-opacity=\"1\" /><path clip-path=\"url(#clip250)\" d=\"M1301.76 698.483 Q1298.14 698.483 1296.32 702.048 Q1294.51 705.59 1294.51 712.72 Q1294.51 719.826 1296.32 723.391 Q1298.14 726.932 1301.76 726.932 Q1305.39 726.932 1307.2 723.391 Q1309.02 719.826 1309.02 712.72 Q1309.02 705.59 1307.2 702.048 Q1305.39 698.483 1301.76 698.483 M1301.76 694.78 Q1307.57 694.78 1310.62 699.386 Q1313.7 703.97 1313.7 712.72 Q1313.7 721.446 1310.62 726.053 Q1307.57 730.636 1301.76 730.636 Q1295.95 730.636 1292.87 726.053 Q1289.81 721.446 1289.81 712.72 Q1289.81 703.97 1292.87 699.386 Q1295.95 694.78 1301.76 694.78 Z\" fill=\"#000000\" fill-rule=\"evenodd\" fill-opacity=\"1\" /><path clip-path=\"url(#clip250)\" d=\"M1321.92 724.085 L1326.8 724.085 L1326.8 729.965 L1321.92 729.965 L1321.92 724.085 Z\" fill=\"#000000\" fill-rule=\"evenodd\" fill-opacity=\"1\" /><path clip-path=\"url(#clip250)\" d=\"M1337.03 695.405 L1355.39 695.405 L1355.39 699.34 L1341.32 699.34 L1341.32 707.812 Q1342.33 707.465 1343.35 707.303 Q1344.37 707.118 1345.39 707.118 Q1351.18 707.118 1354.56 710.289 Q1357.94 713.46 1357.94 718.877 Q1357.94 724.456 1354.46 727.557 Q1350.99 730.636 1344.67 730.636 Q1342.5 730.636 1340.23 730.266 Q1337.98 729.895 1335.58 729.155 L1335.58 724.456 Q1337.66 725.59 1339.88 726.145 Q1342.1 726.701 1344.58 726.701 Q1348.58 726.701 1350.92 724.594 Q1353.26 722.488 1353.26 718.877 Q1353.26 715.266 1350.92 713.159 Q1348.58 711.053 1344.58 711.053 Q1342.7 711.053 1340.83 711.47 Q1338.98 711.886 1337.03 712.766 L1337.03 695.405 Z\" fill=\"#000000\" fill-rule=\"evenodd\" fill-opacity=\"1\" /><path clip-path=\"url(#clip250)\" d=\"M1300.76 530.185 Q1297.15 530.185 1295.32 533.75 Q1293.52 537.291 1293.52 544.421 Q1293.52 551.527 1295.32 555.092 Q1297.15 558.634 1300.76 558.634 Q1304.39 558.634 1306.2 555.092 Q1308.03 551.527 1308.03 544.421 Q1308.03 537.291 1306.2 533.75 Q1304.39 530.185 1300.76 530.185 M1300.76 526.481 Q1306.57 526.481 1309.63 531.088 Q1312.7 535.671 1312.7 544.421 Q1312.7 553.148 1309.63 557.754 Q1306.57 562.337 1300.76 562.337 Q1294.95 562.337 1291.87 557.754 Q1288.82 553.148 1288.82 544.421 Q1288.82 535.671 1291.87 531.088 Q1294.95 526.481 1300.76 526.481 Z\" fill=\"#000000\" fill-rule=\"evenodd\" fill-opacity=\"1\" /><path clip-path=\"url(#clip250)\" d=\"M1320.92 555.787 L1325.81 555.787 L1325.81 561.666 L1320.92 561.666 L1320.92 555.787 Z\" fill=\"#000000\" fill-rule=\"evenodd\" fill-opacity=\"1\" /><path clip-path=\"url(#clip250)\" d=\"M1345.99 530.185 Q1342.38 530.185 1340.55 533.75 Q1338.75 537.291 1338.75 544.421 Q1338.75 551.527 1340.55 555.092 Q1342.38 558.634 1345.99 558.634 Q1349.63 558.634 1351.43 555.092 Q1353.26 551.527 1353.26 544.421 Q1353.26 537.291 1351.43 533.75 Q1349.63 530.185 1345.99 530.185 M1345.99 526.481 Q1351.8 526.481 1354.86 531.088 Q1357.94 535.671 1357.94 544.421 Q1357.94 553.148 1354.86 557.754 Q1351.8 562.337 1345.99 562.337 Q1340.18 562.337 1337.1 557.754 Q1334.05 553.148 1334.05 544.421 Q1334.05 535.671 1337.1 531.088 Q1340.18 526.481 1345.99 526.481 Z\" fill=\"#000000\" fill-rule=\"evenodd\" fill-opacity=\"1\" /><path clip-path=\"url(#clip250)\" d=\"M1301.76 361.886 Q1298.14 361.886 1296.32 365.451 Q1294.51 368.993 1294.51 376.122 Q1294.51 383.229 1296.32 386.793 Q1298.14 390.335 1301.76 390.335 Q1305.39 390.335 1307.2 386.793 Q1309.02 383.229 1309.02 376.122 Q1309.02 368.993 1307.2 365.451 Q1305.39 361.886 1301.76 361.886 M1301.76 358.183 Q1307.57 358.183 1310.62 362.789 Q1313.7 367.372 1313.7 376.122 Q1313.7 384.849 1310.62 389.455 Q1307.57 394.039 1301.76 394.039 Q1295.95 394.039 1292.87 389.455 Q1289.81 384.849 1289.81 376.122 Q1289.81 367.372 1292.87 362.789 Q1295.95 358.183 1301.76 358.183 Z\" fill=\"#000000\" fill-rule=\"evenodd\" fill-opacity=\"1\" /><path clip-path=\"url(#clip250)\" d=\"M1321.92 387.488 L1326.8 387.488 L1326.8 393.367 L1321.92 393.367 L1321.92 387.488 Z\" fill=\"#000000\" fill-rule=\"evenodd\" fill-opacity=\"1\" /><path clip-path=\"url(#clip250)\" d=\"M1337.03 358.807 L1355.39 358.807 L1355.39 362.743 L1341.32 362.743 L1341.32 371.215 Q1342.33 370.868 1343.35 370.706 Q1344.37 370.52 1345.39 370.52 Q1351.18 370.52 1354.56 373.692 Q1357.94 376.863 1357.94 382.28 Q1357.94 387.858 1354.46 390.96 Q1350.99 394.039 1344.67 394.039 Q1342.5 394.039 1340.23 393.668 Q1337.98 393.298 1335.58 392.557 L1335.58 387.858 Q1337.66 388.993 1339.88 389.548 Q1342.1 390.104 1344.58 390.104 Q1348.58 390.104 1350.92 387.997 Q1353.26 385.891 1353.26 382.28 Q1353.26 378.669 1350.92 376.562 Q1348.58 374.456 1344.58 374.456 Q1342.7 374.456 1340.83 374.872 Q1338.98 375.289 1337.03 376.169 L1337.03 358.807 Z\" fill=\"#000000\" fill-rule=\"evenodd\" fill-opacity=\"1\" /><path clip-path=\"url(#clip250)\" d=\"M1291.57 221.134 L1299.21 221.134 L1299.21 194.768 L1290.9 196.435 L1290.9 192.176 L1299.16 190.509 L1303.84 190.509 L1303.84 221.134 L1311.48 221.134 L1311.48 225.069 L1291.57 225.069 L1291.57 221.134 Z\" fill=\"#000000\" fill-rule=\"evenodd\" fill-opacity=\"1\" /><path clip-path=\"url(#clip250)\" d=\"M1320.92 219.189 L1325.81 219.189 L1325.81 225.069 L1320.92 225.069 L1320.92 219.189 Z\" fill=\"#000000\" fill-rule=\"evenodd\" fill-opacity=\"1\" /><path clip-path=\"url(#clip250)\" d=\"M1345.99 193.588 Q1342.38 193.588 1340.55 197.152 Q1338.75 200.694 1338.75 207.824 Q1338.75 214.93 1340.55 218.495 Q1342.38 222.036 1345.99 222.036 Q1349.63 222.036 1351.43 218.495 Q1353.26 214.93 1353.26 207.824 Q1353.26 200.694 1351.43 197.152 Q1349.63 193.588 1345.99 193.588 M1345.99 189.884 Q1351.8 189.884 1354.86 194.49 Q1357.94 199.074 1357.94 207.824 Q1357.94 216.55 1354.86 221.157 Q1351.8 225.74 1345.99 225.74 Q1340.18 225.74 1337.1 221.157 Q1334.05 216.55 1334.05 207.824 Q1334.05 199.074 1337.1 194.49 Q1340.18 189.884 1345.99 189.884 Z\" fill=\"#000000\" fill-rule=\"evenodd\" fill-opacity=\"1\" /><circle clip-path=\"url(#clip253)\" cx=\"2127.15\" cy=\"766.01\" r=\"18\" fill=\"#cd5c5c\" fill-rule=\"evenodd\" fill-opacity=\"1\" stroke=\"#000000\" stroke-opacity=\"1\" stroke-width=\"2.4\"/>\n",
       "<circle clip-path=\"url(#clip253)\" cx=\"2230.96\" cy=\"947.813\" r=\"19\" fill=\"#cd5c5c\" fill-rule=\"evenodd\" fill-opacity=\"1\" stroke=\"#000000\" stroke-opacity=\"1\" stroke-width=\"2.4\"/>\n",
       "<circle clip-path=\"url(#clip253)\" cx=\"2083.99\" cy=\"889.213\" r=\"19\" fill=\"#cd5c5c\" fill-rule=\"evenodd\" fill-opacity=\"1\" stroke=\"#000000\" stroke-opacity=\"1\" stroke-width=\"2.4\"/>\n",
       "<circle clip-path=\"url(#clip253)\" cx=\"2325.62\" cy=\"836.92\" r=\"18\" fill=\"#cd5c5c\" fill-rule=\"evenodd\" fill-opacity=\"1\" stroke=\"#000000\" stroke-opacity=\"1\" stroke-width=\"2.4\"/>\n",
       "<circle clip-path=\"url(#clip253)\" cx=\"2265.37\" cy=\"939.511\" r=\"19\" fill=\"#cd5c5c\" fill-rule=\"evenodd\" fill-opacity=\"1\" stroke=\"#000000\" stroke-opacity=\"1\" stroke-width=\"2.4\"/>\n",
       "<circle clip-path=\"url(#clip253)\" cx=\"2053.28\" cy=\"903.956\" r=\"14\" fill=\"#cd5c5c\" fill-rule=\"evenodd\" fill-opacity=\"1\" stroke=\"#000000\" stroke-opacity=\"1\" stroke-width=\"2.4\"/>\n",
       "<circle clip-path=\"url(#clip253)\" cx=\"1609.14\" cy=\"728.987\" r=\"17\" fill=\"#cd5c5c\" fill-rule=\"evenodd\" fill-opacity=\"1\" stroke=\"#000000\" stroke-opacity=\"1\" stroke-width=\"2.4\"/>\n",
       "<circle clip-path=\"url(#clip253)\" cx=\"1761.24\" cy=\"808.445\" r=\"18\" fill=\"#cd5c5c\" fill-rule=\"evenodd\" fill-opacity=\"1\" stroke=\"#000000\" stroke-opacity=\"1\" stroke-width=\"2.4\"/>\n",
       "<circle clip-path=\"url(#clip253)\" cx=\"1610.42\" cy=\"801.516\" r=\"17\" fill=\"#cd5c5c\" fill-rule=\"evenodd\" fill-opacity=\"1\" stroke=\"#000000\" stroke-opacity=\"1\" stroke-width=\"2.4\"/>\n",
       "<circle clip-path=\"url(#clip253)\" cx=\"2105.83\" cy=\"860.675\" r=\"18\" fill=\"#cd5c5c\" fill-rule=\"evenodd\" fill-opacity=\"1\" stroke=\"#000000\" stroke-opacity=\"1\" stroke-width=\"2.4\"/>\n",
       "<circle clip-path=\"url(#clip253)\" cx=\"1783.63\" cy=\"916.911\" r=\"18\" fill=\"#cd5c5c\" fill-rule=\"evenodd\" fill-opacity=\"1\" stroke=\"#000000\" stroke-opacity=\"1\" stroke-width=\"2.4\"/>\n",
       "<circle clip-path=\"url(#clip253)\" cx=\"1816.05\" cy=\"601.416\" r=\"16\" fill=\"#cd5c5c\" fill-rule=\"evenodd\" fill-opacity=\"1\" stroke=\"#000000\" stroke-opacity=\"1\" stroke-width=\"2.4\"/>\n",
       "<circle clip-path=\"url(#clip253)\" cx=\"1863.97\" cy=\"446.445\" r=\"12\" fill=\"#cd5c5c\" fill-rule=\"evenodd\" fill-opacity=\"1\" stroke=\"#000000\" stroke-opacity=\"1\" stroke-width=\"2.4\"/>\n",
       "<circle clip-path=\"url(#clip253)\" cx=\"1963.87\" cy=\"956.672\" r=\"19\" fill=\"#cd5c5c\" fill-rule=\"evenodd\" fill-opacity=\"1\" stroke=\"#000000\" stroke-opacity=\"1\" stroke-width=\"2.4\"/>\n",
       "<circle clip-path=\"url(#clip253)\" cx=\"2098.78\" cy=\"1009.13\" r=\"19\" fill=\"#cd5c5c\" fill-rule=\"evenodd\" fill-opacity=\"1\" stroke=\"#000000\" stroke-opacity=\"1\" stroke-width=\"2.4\"/>\n",
       "<circle clip-path=\"url(#clip253)\" cx=\"1863.62\" cy=\"672.387\" r=\"16\" fill=\"#cd5c5c\" fill-rule=\"evenodd\" fill-opacity=\"1\" stroke=\"#000000\" stroke-opacity=\"1\" stroke-width=\"2.4\"/>\n",
       "<circle clip-path=\"url(#clip253)\" cx=\"2302.89\" cy=\"779.348\" r=\"18\" fill=\"#cd5c5c\" fill-rule=\"evenodd\" fill-opacity=\"1\" stroke=\"#000000\" stroke-opacity=\"1\" stroke-width=\"2.4\"/>\n",
       "<circle clip-path=\"url(#clip253)\" cx=\"2060.1\" cy=\"771.86\" r=\"18\" fill=\"#cd5c5c\" fill-rule=\"evenodd\" fill-opacity=\"1\" stroke=\"#000000\" stroke-opacity=\"1\" stroke-width=\"2.4\"/>\n",
       "<circle clip-path=\"url(#clip253)\" cx=\"1850.79\" cy=\"741.365\" r=\"16\" fill=\"#cd5c5c\" fill-rule=\"evenodd\" fill-opacity=\"1\" stroke=\"#000000\" stroke-opacity=\"1\" stroke-width=\"2.4\"/>\n",
       "<circle clip-path=\"url(#clip253)\" cx=\"2150.49\" cy=\"817.48\" r=\"19\" fill=\"#cd5c5c\" fill-rule=\"evenodd\" fill-opacity=\"1\" stroke=\"#000000\" stroke-opacity=\"1\" stroke-width=\"2.4\"/>\n",
       "<circle clip-path=\"url(#clip253)\" cx=\"2292.84\" cy=\"786.778\" r=\"19\" fill=\"#cd5c5c\" fill-rule=\"evenodd\" fill-opacity=\"1\" stroke=\"#000000\" stroke-opacity=\"1\" stroke-width=\"2.4\"/>\n",
       "<circle clip-path=\"url(#clip253)\" cx=\"1619.08\" cy=\"600.092\" r=\"12\" fill=\"#cd5c5c\" fill-rule=\"evenodd\" fill-opacity=\"1\" stroke=\"#000000\" stroke-opacity=\"1\" stroke-width=\"2.4\"/>\n",
       "<circle clip-path=\"url(#clip253)\" cx=\"1875.51\" cy=\"758.07\" r=\"17\" fill=\"#cd5c5c\" fill-rule=\"evenodd\" fill-opacity=\"1\" stroke=\"#000000\" stroke-opacity=\"1\" stroke-width=\"2.4\"/>\n",
       "<circle clip-path=\"url(#clip253)\" cx=\"2016.08\" cy=\"1019.39\" r=\"18\" fill=\"#cd5c5c\" fill-rule=\"evenodd\" fill-opacity=\"1\" stroke=\"#000000\" stroke-opacity=\"1\" stroke-width=\"2.4\"/>\n",
       "<circle clip-path=\"url(#clip253)\" cx=\"1912.65\" cy=\"197.152\" r=\"18\" fill=\"#4682b4\" fill-rule=\"evenodd\" fill-opacity=\"1\" stroke=\"#000000\" stroke-opacity=\"1\" stroke-width=\"2.4\"/>\n",
       "<circle clip-path=\"url(#clip253)\" cx=\"1810.7\" cy=\"417.851\" r=\"19\" fill=\"#4682b4\" fill-rule=\"evenodd\" fill-opacity=\"1\" stroke=\"#000000\" stroke-opacity=\"1\" stroke-width=\"2.4\"/>\n",
       "<circle clip-path=\"url(#clip253)\" cx=\"1802.5\" cy=\"307.229\" r=\"17\" fill=\"#4682b4\" fill-rule=\"evenodd\" fill-opacity=\"1\" stroke=\"#000000\" stroke-opacity=\"1\" stroke-width=\"2.4\"/>\n",
       "<circle clip-path=\"url(#clip253)\" cx=\"1474.03\" cy=\"131.15\" r=\"18\" fill=\"#4682b4\" fill-rule=\"evenodd\" fill-opacity=\"1\" stroke=\"#000000\" stroke-opacity=\"1\" stroke-width=\"2.4\"/>\n",
       "<circle clip-path=\"url(#clip253)\" cx=\"1907.09\" cy=\"408.771\" r=\"14\" fill=\"#4682b4\" fill-rule=\"evenodd\" fill-opacity=\"1\" stroke=\"#000000\" stroke-opacity=\"1\" stroke-width=\"2.4\"/>\n",
       "<circle clip-path=\"url(#clip253)\" cx=\"1887.66\" cy=\"447.583\" r=\"11\" fill=\"#4682b4\" fill-rule=\"evenodd\" fill-opacity=\"1\" stroke=\"#000000\" stroke-opacity=\"1\" stroke-width=\"2.4\"/>\n",
       "<circle clip-path=\"url(#clip253)\" cx=\"1838.03\" cy=\"269.452\" r=\"16\" fill=\"#4682b4\" fill-rule=\"evenodd\" fill-opacity=\"1\" stroke=\"#000000\" stroke-opacity=\"1\" stroke-width=\"2.4\"/>\n",
       "<circle clip-path=\"url(#clip253)\" cx=\"1647.22\" cy=\"310.217\" r=\"16\" fill=\"#4682b4\" fill-rule=\"evenodd\" fill-opacity=\"1\" stroke=\"#000000\" stroke-opacity=\"1\" stroke-width=\"2.4\"/>\n",
       "<circle clip-path=\"url(#clip253)\" cx=\"1871.27\" cy=\"147.466\" r=\"16\" fill=\"#4682b4\" fill-rule=\"evenodd\" fill-opacity=\"1\" stroke=\"#000000\" stroke-opacity=\"1\" stroke-width=\"2.4\"/>\n",
       "<circle clip-path=\"url(#clip253)\" cx=\"1647.15\" cy=\"412.86\" r=\"12\" fill=\"#4682b4\" fill-rule=\"evenodd\" fill-opacity=\"1\" stroke=\"#000000\" stroke-opacity=\"1\" stroke-width=\"2.4\"/>\n",
       "<circle clip-path=\"url(#clip253)\" cx=\"1883.57\" cy=\"469.275\" r=\"16\" fill=\"#4682b4\" fill-rule=\"evenodd\" fill-opacity=\"1\" stroke=\"#000000\" stroke-opacity=\"1\" stroke-width=\"2.4\"/>\n",
       "<circle clip-path=\"url(#clip253)\" cx=\"1598.77\" cy=\"442.094\" r=\"16\" fill=\"#4682b4\" fill-rule=\"evenodd\" fill-opacity=\"1\" stroke=\"#000000\" stroke-opacity=\"1\" stroke-width=\"2.4\"/>\n",
       "<circle clip-path=\"url(#clip253)\" cx=\"1702.41\" cy=\"284.221\" r=\"16\" fill=\"#4682b4\" fill-rule=\"evenodd\" fill-opacity=\"1\" stroke=\"#000000\" stroke-opacity=\"1\" stroke-width=\"2.4\"/>\n",
       "<circle clip-path=\"url(#clip253)\" cx=\"1726.38\" cy=\"425.593\" r=\"18\" fill=\"#4682b4\" fill-rule=\"evenodd\" fill-opacity=\"1\" stroke=\"#000000\" stroke-opacity=\"1\" stroke-width=\"2.4\"/>\n",
       "<circle clip-path=\"url(#clip253)\" cx=\"1692.96\" cy=\"328.792\" r=\"17\" fill=\"#4682b4\" fill-rule=\"evenodd\" fill-opacity=\"1\" stroke=\"#000000\" stroke-opacity=\"1\" stroke-width=\"2.4\"/>\n",
       "<circle clip-path=\"url(#clip253)\" cx=\"1696.01\" cy=\"373.875\" r=\"16\" fill=\"#4682b4\" fill-rule=\"evenodd\" fill-opacity=\"1\" stroke=\"#000000\" stroke-opacity=\"1\" stroke-width=\"2.4\"/>\n",
       "<circle clip-path=\"url(#clip253)\" cx=\"1468.75\" cy=\"287.459\" r=\"18\" fill=\"#4682b4\" fill-rule=\"evenodd\" fill-opacity=\"1\" stroke=\"#000000\" stroke-opacity=\"1\" stroke-width=\"2.4\"/>\n",
       "<circle clip-path=\"url(#clip253)\" cx=\"1668.11\" cy=\"309.001\" r=\"16\" fill=\"#4682b4\" fill-rule=\"evenodd\" fill-opacity=\"1\" stroke=\"#000000\" stroke-opacity=\"1\" stroke-width=\"2.4\"/>\n",
       "<circle clip-path=\"url(#clip253)\" cx=\"2061.2\" cy=\"330.112\" r=\"17\" fill=\"#4682b4\" fill-rule=\"evenodd\" fill-opacity=\"1\" stroke=\"#000000\" stroke-opacity=\"1\" stroke-width=\"2.4\"/>\n",
       "<circle clip-path=\"url(#clip253)\" cx=\"1552.47\" cy=\"136.466\" r=\"18\" fill=\"#4682b4\" fill-rule=\"evenodd\" fill-opacity=\"1\" stroke=\"#000000\" stroke-opacity=\"1\" stroke-width=\"2.4\"/>\n",
       "<circle clip-path=\"url(#clip253)\" cx=\"1888.72\" cy=\"289.377\" r=\"18\" fill=\"#4682b4\" fill-rule=\"evenodd\" fill-opacity=\"1\" stroke=\"#000000\" stroke-opacity=\"1\" stroke-width=\"2.4\"/>\n",
       "<circle clip-path=\"url(#clip253)\" cx=\"1495.39\" cy=\"261.974\" r=\"18\" fill=\"#4682b4\" fill-rule=\"evenodd\" fill-opacity=\"1\" stroke=\"#000000\" stroke-opacity=\"1\" stroke-width=\"2.4\"/>\n",
       "<circle clip-path=\"url(#clip253)\" cx=\"2222.68\" cy=\"75.5589\" r=\"18\" fill=\"#4682b4\" fill-rule=\"evenodd\" fill-opacity=\"1\" stroke=\"#000000\" stroke-opacity=\"1\" stroke-width=\"2.4\"/>\n",
       "<circle clip-path=\"url(#clip253)\" cx=\"1663.73\" cy=\"228.965\" r=\"18\" fill=\"#4682b4\" fill-rule=\"evenodd\" fill-opacity=\"1\" stroke=\"#000000\" stroke-opacity=\"1\" stroke-width=\"2.4\"/>\n",
       "<circle clip-path=\"url(#clip253)\" cx=\"1421.07\" cy=\"406.75\" r=\"17\" fill=\"#4682b4\" fill-rule=\"evenodd\" fill-opacity=\"1\" stroke=\"#000000\" stroke-opacity=\"1\" stroke-width=\"2.4\"/>\n",
       "<circle clip-path=\"url(#clip253)\" cx=\"1721\" cy=\"159.677\" r=\"17\" fill=\"#4682b4\" fill-rule=\"evenodd\" fill-opacity=\"1\" stroke=\"#000000\" stroke-opacity=\"1\" stroke-width=\"2.4\"/>\n",
       "<path clip-path=\"url(#clip250)\" d=\"\n",
       "M2060.33 236.113 L2320.8 236.113 L2320.8 80.5926 L2060.33 80.5926  Z\n",
       "  \" fill=\"#ffffff\" fill-rule=\"evenodd\" fill-opacity=\"1\"/>\n",
       "<polyline clip-path=\"url(#clip250)\" style=\"stroke:#000000; stroke-linecap:butt; stroke-linejoin:round; stroke-width:4; stroke-opacity:1; fill:none\" points=\"\n",
       "  2060.33,236.113 2320.8,236.113 2320.8,80.5926 2060.33,80.5926 2060.33,236.113 \n",
       "  \"/>\n",
       "<circle clip-path=\"url(#clip250)\" cx=\"2102.94\" cy=\"132.433\" r=\"23\" fill=\"#cd5c5c\" fill-rule=\"evenodd\" fill-opacity=\"1\" stroke=\"#000000\" stroke-opacity=\"1\" stroke-width=\"2.99848\"/>\n",
       "<path clip-path=\"url(#clip250)\" d=\"M2173.42 117.815 L2173.42 122.745 Q2171.06 120.546 2168.38 119.458 Q2165.72 118.37 2162.71 118.37 Q2156.78 118.37 2153.63 122.004 Q2150.48 125.616 2150.48 132.467 Q2150.48 139.296 2153.63 142.93 Q2156.78 146.541 2162.71 146.541 Q2165.72 146.541 2168.38 145.453 Q2171.06 144.365 2173.42 142.166 L2173.42 147.051 Q2170.97 148.717 2168.22 149.551 Q2165.48 150.384 2162.43 150.384 Q2154.58 150.384 2150.07 145.592 Q2145.55 140.777 2145.55 132.467 Q2145.55 124.134 2150.07 119.342 Q2154.58 114.528 2162.43 114.528 Q2165.53 114.528 2168.26 115.361 Q2171.02 116.171 2173.42 117.815 Z\" fill=\"#000000\" fill-rule=\"evenodd\" fill-opacity=\"1\" /><path clip-path=\"url(#clip250)\" d=\"M2190.51 126.773 Q2187.08 126.773 2185.09 129.458 Q2183.1 132.12 2183.1 136.773 Q2183.1 141.426 2185.07 144.111 Q2187.06 146.773 2190.51 146.773 Q2193.91 146.773 2195.9 144.088 Q2197.89 141.402 2197.89 136.773 Q2197.89 132.166 2195.9 129.481 Q2193.91 126.773 2190.51 126.773 M2190.51 123.162 Q2196.06 123.162 2199.23 126.773 Q2202.41 130.384 2202.41 136.773 Q2202.41 143.139 2199.23 146.773 Q2196.06 150.384 2190.51 150.384 Q2184.93 150.384 2181.76 146.773 Q2178.61 143.139 2178.61 136.773 Q2178.61 130.384 2181.76 126.773 Q2184.93 123.162 2190.51 123.162 Z\" fill=\"#000000\" fill-rule=\"evenodd\" fill-opacity=\"1\" /><path clip-path=\"url(#clip250)\" d=\"M2221.25 136.68 Q2216.09 136.68 2214.1 137.861 Q2212.1 139.041 2212.1 141.889 Q2212.1 144.157 2213.59 145.5 Q2215.09 146.819 2217.66 146.819 Q2221.2 146.819 2223.33 144.319 Q2225.48 141.796 2225.48 137.629 L2225.48 136.68 L2221.25 136.68 M2229.74 134.921 L2229.74 149.713 L2225.48 149.713 L2225.48 145.777 Q2224.03 148.139 2221.85 149.273 Q2219.67 150.384 2216.53 150.384 Q2212.54 150.384 2210.18 148.162 Q2207.85 145.916 2207.85 142.166 Q2207.85 137.791 2210.76 135.569 Q2213.7 133.347 2219.51 133.347 L2225.48 133.347 L2225.48 132.93 Q2225.48 129.991 2223.54 128.393 Q2221.62 126.773 2218.12 126.773 Q2215.9 126.773 2213.79 127.305 Q2211.69 127.838 2209.74 128.903 L2209.74 124.967 Q2212.08 124.065 2214.28 123.625 Q2216.48 123.162 2218.56 123.162 Q2224.19 123.162 2226.97 126.078 Q2229.74 128.995 2229.74 134.921 Z\" fill=\"#000000\" fill-rule=\"evenodd\" fill-opacity=\"1\" /><path clip-path=\"url(#clip250)\" d=\"M2242.73 116.426 L2242.73 123.787 L2251.5 123.787 L2251.5 127.097 L2242.73 127.097 L2242.73 141.171 Q2242.73 144.342 2243.59 145.245 Q2244.47 146.148 2247.13 146.148 L2251.5 146.148 L2251.5 149.713 L2247.13 149.713 Q2242.2 149.713 2240.32 147.884 Q2238.45 146.032 2238.45 141.171 L2238.45 127.097 L2235.32 127.097 L2235.32 123.787 L2238.45 123.787 L2238.45 116.426 L2242.73 116.426 Z\" fill=\"#000000\" fill-rule=\"evenodd\" fill-opacity=\"1\" /><circle clip-path=\"url(#clip250)\" cx=\"2102.94\" cy=\"184.273\" r=\"23\" fill=\"#4682b4\" fill-rule=\"evenodd\" fill-opacity=\"1\" stroke=\"#000000\" stroke-opacity=\"1\" stroke-width=\"3.03741\"/>\n",
       "<path clip-path=\"url(#clip250)\" d=\"M2167.8 168.127 L2167.8 172.687 Q2165.14 171.414 2162.78 170.789 Q2160.41 170.164 2158.22 170.164 Q2154.4 170.164 2152.31 171.645 Q2150.25 173.127 2150.25 175.858 Q2150.25 178.15 2151.62 179.331 Q2153.01 180.488 2156.85 181.206 L2159.67 181.784 Q2164.91 182.78 2167.38 185.303 Q2169.88 187.803 2169.88 192.016 Q2169.88 197.039 2166.5 199.631 Q2163.15 202.224 2156.64 202.224 Q2154.19 202.224 2151.41 201.668 Q2148.66 201.113 2145.69 200.025 L2145.69 195.21 Q2148.54 196.807 2151.27 197.617 Q2154 198.428 2156.64 198.428 Q2160.65 198.428 2162.82 196.854 Q2165 195.28 2165 192.363 Q2165 189.817 2163.42 188.381 Q2161.87 186.946 2158.31 186.229 L2155.46 185.673 Q2150.23 184.631 2147.89 182.409 Q2145.55 180.187 2145.55 176.229 Q2145.55 171.645 2148.77 169.006 Q2152.01 166.368 2157.68 166.368 Q2160.11 166.368 2162.64 166.807 Q2165.16 167.247 2167.8 168.127 Z\" fill=\"#000000\" fill-rule=\"evenodd\" fill-opacity=\"1\" /><path clip-path=\"url(#clip250)\" d=\"M2188.77 188.52 Q2183.61 188.52 2181.62 189.701 Q2179.63 190.881 2179.63 193.729 Q2179.63 195.997 2181.11 197.34 Q2182.61 198.659 2185.18 198.659 Q2188.72 198.659 2190.85 196.159 Q2193.01 193.636 2193.01 189.469 L2193.01 188.52 L2188.77 188.52 M2197.27 186.761 L2197.27 201.553 L2193.01 201.553 L2193.01 197.617 Q2191.55 199.979 2189.37 201.113 Q2187.2 202.224 2184.05 202.224 Q2180.07 202.224 2177.71 200.002 Q2175.37 197.756 2175.37 194.006 Q2175.37 189.631 2178.29 187.409 Q2181.22 185.187 2187.04 185.187 L2193.01 185.187 L2193.01 184.77 Q2193.01 181.831 2191.06 180.233 Q2189.14 178.613 2185.65 178.613 Q2183.42 178.613 2181.32 179.145 Q2179.21 179.678 2177.27 180.743 L2177.27 176.807 Q2179.6 175.905 2181.8 175.465 Q2184 175.002 2186.09 175.002 Q2191.71 175.002 2194.49 177.918 Q2197.27 180.835 2197.27 186.761 Z\" fill=\"#000000\" fill-rule=\"evenodd\" fill-opacity=\"1\" /><path clip-path=\"url(#clip250)\" d=\"M2227.59 185.905 L2227.59 201.553 L2223.33 201.553 L2223.33 186.043 Q2223.33 182.363 2221.9 180.534 Q2220.46 178.706 2217.59 178.706 Q2214.14 178.706 2212.15 180.905 Q2210.16 183.104 2210.16 186.9 L2210.16 201.553 L2205.88 201.553 L2205.88 175.627 L2210.16 175.627 L2210.16 179.655 Q2211.69 177.317 2213.75 176.159 Q2215.83 175.002 2218.54 175.002 Q2223.01 175.002 2225.3 177.78 Q2227.59 180.534 2227.59 185.905 Z\" fill=\"#000000\" fill-rule=\"evenodd\" fill-opacity=\"1\" /><path clip-path=\"url(#clip250)\" d=\"M2253.15 179.562 L2253.15 165.534 L2257.41 165.534 L2257.41 201.553 L2253.15 201.553 L2253.15 197.664 Q2251.8 199.979 2249.74 201.113 Q2247.71 202.224 2244.84 202.224 Q2240.14 202.224 2237.17 198.474 Q2234.23 194.724 2234.23 188.613 Q2234.23 182.502 2237.17 178.752 Q2240.14 175.002 2244.84 175.002 Q2247.71 175.002 2249.74 176.136 Q2251.8 177.247 2253.15 179.562 M2238.63 188.613 Q2238.63 193.312 2240.55 195.997 Q2242.5 198.659 2245.88 198.659 Q2249.26 198.659 2251.2 195.997 Q2253.15 193.312 2253.15 188.613 Q2253.15 183.914 2251.2 181.252 Q2249.26 178.567 2245.88 178.567 Q2242.5 178.567 2240.55 181.252 Q2238.63 183.914 2238.63 188.613 Z\" fill=\"#000000\" fill-rule=\"evenodd\" fill-opacity=\"1\" /><path clip-path=\"url(#clip250)\" d=\"M2277.96 188.52 Q2272.8 188.52 2270.81 189.701 Q2268.82 190.881 2268.82 193.729 Q2268.82 195.997 2270.3 197.34 Q2271.8 198.659 2274.37 198.659 Q2277.91 198.659 2280.04 196.159 Q2282.2 193.636 2282.2 189.469 L2282.2 188.52 L2277.96 188.52 M2286.46 186.761 L2286.46 201.553 L2282.2 201.553 L2282.2 197.617 Q2280.74 199.979 2278.56 201.113 Q2276.39 202.224 2273.24 202.224 Q2269.26 202.224 2266.9 200.002 Q2264.56 197.756 2264.56 194.006 Q2264.56 189.631 2267.47 187.409 Q2270.41 185.187 2276.22 185.187 L2282.2 185.187 L2282.2 184.77 Q2282.2 181.831 2280.25 180.233 Q2278.33 178.613 2274.84 178.613 Q2272.61 178.613 2270.51 179.145 Q2268.4 179.678 2266.46 180.743 L2266.46 176.807 Q2268.79 175.905 2270.99 175.465 Q2273.19 175.002 2275.28 175.002 Q2280.9 175.002 2283.68 177.918 Q2286.46 180.835 2286.46 186.761 Z\" fill=\"#000000\" fill-rule=\"evenodd\" fill-opacity=\"1\" /><path clip-path=\"url(#clip250)\" d=\"M2295.23 165.534 L2299.49 165.534 L2299.49 201.553 L2295.23 201.553 L2295.23 165.534 Z\" fill=\"#000000\" fill-rule=\"evenodd\" fill-opacity=\"1\" /></svg>\n"
      ]
     },
     "execution_count": 119,
     "metadata": {},
     "output_type": "execute_result"
    }
   ],
   "source": [
    "scatter(X_test_Pr[1, y_test .== -1], X_test_Pr[2, y_test .== -1], \n",
    "            color = :indianred,\n",
    "            label = labels[l₁],\n",
    "            size = (600,300),\n",
    "            subplot = 1, layout = 2,\n",
    "            xlabel = \"true labels test data\")\n",
    "scatter!(X_test_Pr[1, y_test .== 1], X_test_Pr[2, y_test .== 1], \n",
    "            color = :steelblue,\n",
    "            label = labels[l₂],\n",
    "            subplot = 1, layout = 2)\n",
    "scatter!(X_test_Pr[1, ŷ₀_test .== 1], X_test_Pr[2, ŷ₀_test .== 1], \n",
    "            color = :indianred,\n",
    "            label = labels[l₁], subplot = 2,\n",
    "            size = (600,300), markersizes = sizes[ŷ₀_test .== 1],\n",
    "            xlabel = \"predictions test data\")\n",
    "scatter!(X_test_Pr[1, ŷ₀_test .== 2], X_test_Pr[2, ŷ₀_test .== 2], \n",
    "            color = :steelblue, subplot = 2, markersizes = sizes[ŷ₀_test .== 2],\n",
    "            label = labels[l₂])"
   ]
  },
  {
   "cell_type": "code",
   "execution_count": null,
   "metadata": {},
   "outputs": [],
   "source": []
  }
 ],
 "metadata": {
  "@webio": {
   "lastCommId": null,
   "lastKernelId": null
  },
  "kernelspec": {
   "display_name": "Julia 1.7.2",
   "language": "julia",
   "name": "julia-1.7"
  },
  "language_info": {
   "file_extension": ".jl",
   "mimetype": "application/julia",
   "name": "julia",
   "version": "1.7.2"
  }
 },
 "nbformat": 4,
 "nbformat_minor": 2
}
