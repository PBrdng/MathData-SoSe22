{
 "cells": [
  {
   "cell_type": "code",
   "execution_count": 1,
   "metadata": {},
   "outputs": [
    {
     "name": "stderr",
     "output_type": "stream",
     "text": [
      "\u001b[32m\u001b[1m  Activating\u001b[22m\u001b[39m project at `~/Documents/Lehre/Uni Osnabrück/Math Methoden der Datenanalyse 2022/MathData-SoSe22/Notebooks/NB05`\n"
     ]
    }
   ],
   "source": [
    "using Pkg\n",
    "Pkg.activate(\"NB05\")"
   ]
  },
  {
   "cell_type": "code",
   "execution_count": 2,
   "metadata": {},
   "outputs": [],
   "source": [
    "using MLDatasets\n",
    "using Plots, LinearAlgebra, Statistics\n",
    "using Images, ImageCore\n",
    "using JuMP, NLopt, Flux "
   ]
  },
  {
   "cell_type": "markdown",
   "metadata": {},
   "source": [
    "*Warning:* For this notebook I had to pin `CSV.jl` to version 0.8.5, because otherwise `MLDatasets` would not compile. This restricts `MLDatasets` to version 0.5. The latest version has a different syntax than the one used here."
   ]
  },
  {
   "cell_type": "markdown",
   "metadata": {},
   "source": [
    "# Classification\n",
    "\n",
    "We consider the [FashionMNIST](https://github.com/zalandoresearch/fashion-mnist) dataset from [Zalando Research](https://github.com/zalandoresearch).\n",
    "\n",
    "It contains images of Fashion items from 9 categories.\n",
    "\n",
    "In Julia this dataset can be loaded through the [MLDatasets](https://github.com/JuliaML/MLDatasets.jl) package."
   ]
  },
  {
   "cell_type": "code",
   "execution_count": 3,
   "metadata": {},
   "outputs": [],
   "source": [
    "X_all, Y_all = FashionMNIST.traindata();"
   ]
  },
  {
   "cell_type": "markdown",
   "metadata": {},
   "source": [
    "Now, `X_all` contains the input data and `Y_all` the output data of the training data in the `FashionMNIST` dataset.\n",
    "\n",
    "The entries of `Y_all` correspond to the following categories:"
   ]
  },
  {
   "cell_type": "code",
   "execution_count": 4,
   "metadata": {},
   "outputs": [],
   "source": [
    "labels = [\"T-shirt/top\", \n",
    "            \"Trouser\", \n",
    "            \"Pullover\", \n",
    "            \"Dress\", \n",
    "            \"Coat\", \n",
    "            \"Sandal\", \n",
    "            \"Shirt\", \n",
    "            \"Sneaker\", \n",
    "            \"Bag\", \n",
    "            \"Ankle boot\"];"
   ]
  },
  {
   "cell_type": "markdown",
   "metadata": {},
   "source": [
    "Since `Julia` indexing starts at `1` and `Y_all` contains values between `0` and `9`, it will be convenient to add 1 to all values `Y_all`.  "
   ]
  },
  {
   "cell_type": "code",
   "execution_count": 5,
   "metadata": {},
   "outputs": [],
   "source": [
    "Y_all = Y_all .+ 1;"
   ]
  },
  {
   "cell_type": "markdown",
   "metadata": {},
   "source": [
    "Let us take a look at 6 randomly chosen images along with their labels."
   ]
  },
  {
   "cell_type": "code",
   "execution_count": 6,
   "metadata": {
    "scrolled": true
   },
   "outputs": [
    {
     "name": "stdout",
     "output_type": "stream",
     "text": [
      "[\"Coat\", \"Dress\", \"Bag\", \"Pullover\", \"Sneaker\", \"Coat\"]\n"
     ]
    },
    {
     "data": {
      "text/html": [
       "<table><tbody><tr><td style='text-align:center;vertical-align:middle; margin: 0.5em;border:1px #90999f solid;border-collapse:collapse'><img style='max-width: 100px; max-height:100px;display:inline' src=\"data:image/png;base64,iVBORw0KGgoAAAANSUhEUgAAAHAAAABwCAAAAADji6uXAAAABGdBTUEAALGPC/xhBQAAAAFzUkdCAK7OHOkAAAAgY0hSTQAAeiYAAICEAAD6AAAAgOgAAHUwAADqYAAAOpgAABdwnLpRPAAAA05JREFUaAW9wc2LlAUcAOBnZn6zM7PruqvimlmtBgUF9kVQEdRJUCSif6FzHbNDdOrYoVvQrUNBl4KowMB7hw7ihgh2qE1RVzd1v2dnd+ft8B5EnHdmuvyeJ/wPn+AE5tFFB7/ic+MLyUKykCwMUUOh9DMWMY0/8AauYAnPYgVLRgvJQrKQLAxRKB3BdRzCOSziRVxSegWzWDJaSBaShWShQg0FZnESn+IsPsbf6KCO+/gHs5jDbdRQGCwkC8lCslChUDqI17CF7/ENPsD7+AxPoIE+nsRtFKqFZCFZSBZGmMZVzGMNe/gFx5V6uIe38BdewAJqKDwqJAvJQrIwxASauIuTuKe0h0lMYxm7WMcippQKg4VkIVlIFoY4g1vo41X8gE0U2MU2CrQxjyXsooE9g4VkIVlIFoZ4HFfxPJaxhQb6WMMOauhiFRO4hj3VQrKQLCQLQ1zFFZzDUTRRINBFgUmsoYN9qBsuJAvJQrIwxIzSJdQwix66mEATNaXD+FepiR2DhWQhWUgWKsyiofQmvsIzuIzrCNSwiiP4EqdxHCvYMVhIFpKFZKHCY7iptImn8TJ+Qx19tNDF6+hjBpPoqhaShWQhWahwFDdxEN/iHXyNFvooPPAT3kMH64YLyUKykCxUmMKfKFDDJO7iGK5hH9roYQs3sYLn8LtqIVlIFpKFCnM4hfMocBkHsB+HsYEVzKKFe7iI03gXPxosJAvJQrJQ4UO8hBpWsYACi1hFG03cwQTuYwvz+AJncN6jQrKQLCQLFT7C20qH0MFttNDDOppooIa60nc4hYsGC8lCspAsVLiAC0o1FNhGYB/aSi2lPg7gFs6qFpKFZCFZqNBAHwXamMAuGuhhBTsoUMeOBxrYM1hIFpKFZKHCngc2sR9PYQZ3MI0OtjCDaSwr9VULyUKykCyMoY0NLGMTB9FBAz10PaxQLSQLyUKyMIYu1lFHHVu4q7SLLvpoGS0kC8lCsjCGGiYxhTq2MaXURgsttI0WkoVkIVkYQw8dTKCGLgo0sY0O+iiMFpKFZCFZGEMbs9hADy00UUOBOg4gjBaShWQhWRjDIuZwDG0UOIEpHMEc+rhhtJAsJAvJwhgWsOBhM1jEBm4YX0gWkoVk/wHin7tyU3nZEQAAAABJRU5ErkJg\"></td><td style='text-align:center;vertical-align:middle; margin: 0.5em;border:1px #90999f solid;border-collapse:collapse'><img style='max-width: 100px; max-height:100px;display:inline' src=\"data:image/png;base64,iVBORw0KGgoAAAANSUhEUgAAAHAAAABwCAAAAADji6uXAAAABGdBTUEAALGPC/xhBQAAAAFzUkdCAK7OHOkAAAAgY0hSTQAAeiYAAICEAAD6AAAAgOgAAHUwAADqYAAAOpgAABdwnLpRPAAAAmRJREFUaAW9wbFqHAQcB+Dv7n6XS6tVY5KziJYERZfqoiCIRbCT4NBJqA8gvkA3R19EEHwDwUkQFyFzQAjYQdQSDZomMcklOYd7gPxv+X9fLGEbH2MHv+JzfI3f1EWzaBbNouhT3MM+7uEBTvEZJvgKc9eLZtEsmkXRv/gDxxjgEge4jV8wVxPNolk0i6Lv8RBT7OIC72EDX6qLZtEsmkXBEFf4Fg/wAyZ4HzuWE82iWTSLgrmFn/AIH2CGTfxoYYC560WzaBbNomBu4RiXuIFDTLFrOdEsmkWzWNIBjiyMsI49zNVEs2gWzaJggDnu4wVcYow93MfP6qJZNItmUTC38BAXmGKOTaxbTjSLZtEslvA29jCzcIo1THCmJppFs2gWS3iKU7yMI/yH5/EWdtREs2gWzaJoghW8jn8sbGMD29hRE82iWTSLopewhjPsYwtzHGOsLppFs2gWRZsY4gxv4gjnuImoi2bRLJpF0Rwj3MTfGCFYxV110SyaRbMoegVXGGCEZ3CMGbbURbNoFs2i6AvcxiEuMMEUQ8zURbNoFs2iaBcf4Rhv4BSHmGKmLppFs2gWReuY4QJ/4gqrmOFVddEsmkWzKHoH5xhgFQNc4QQvqotm0SyaRdEKJpjhBDOMMcENddEsmkWzKJriL9zCGFcY4Nxyolk0i2ZRtIYTjDDEBCOcWdjCY9eLZtEsmkXBGPsY4xQzBCPM8Tvu4LHrRbNoFs2i4F2McIkhLnCGFQTP4Y6aaBbNolkUvIYBnuAuNvAUQzzBs7ilJppFs2gWBd/gOxxY+MTCh3hkOdEsmkWz/wFnunCOgIt/iwAAAABJRU5ErkJg\"></td><td style='text-align:center;vertical-align:middle; margin: 0.5em;border:1px #90999f solid;border-collapse:collapse'><img style='max-width: 100px; max-height:100px;display:inline' src=\"data:image/png;base64,iVBORw0KGgoAAAANSUhEUgAAAHAAAABwCAAAAADji6uXAAAABGdBTUEAALGPC/xhBQAAAAFzUkdCAK7OHOkAAAAgY0hSTQAAeiYAAICEAAD6AAAAgOgAAHUwAADqYAAAOpgAABdwnLpRPAAAA4dJREFUaAW9wTurXFUYANC1z/lm7kye5GkKDSGgFmIULYNVbAQb0WAh/gMFG1t/gKCtD7AxNtpaKv4BA74QREUEJQ9yjUm8JrmZc872whZGQezyrRWShWQhWUgWkoVkIVlIFpKFZCFZSBaShWQhWUgW7rIeB7CpCclCspAs/O09bOAmvsYBnMSEPRhwDb/jXsyxhevYxgE8imPosBt78BV24zO8gpAsJAvJwo4HcQY/YBdOYo5dGNBpBixwDB0GXMCfmlv4DgMqRnSY43FNSBaShWRhx1PYtDZHwQ3NFraxjd2YYUDBJm5igYoZ9qBghhFXUXEWIVlIFpKFHaexxEUcxlLToaIiMGELGwjNCazQYULFiAETKgIjHkJIFpKFZGHHWXyO3biFmabXdJhQsYEZOnQYsMKAqpmszbAXe/AuQrKQLCQLOx7DApdwFDNMqJhQUVBQUFFR0KFHj9HapFlhgcu4gJAsJAvJwo4XcBBfYo7b6DUFk6ZHwRwDelQUjKiaCaNmGz2+wNMIyUKykCzsOIOrOIJtjOgxoaBHRcWEFUaMmFDRoWJARY8BI67jMg4jJAvJQrI4iEfwCQ5hCwtMqCj+W4eCqqnWehTcwALX8QAeRkgWkoVksQ+v4RRO4SdU/6+iomDAiE5TUHEHS0w4jo/wLEKykCwkiyXexzuaDoGCCRMC1VqHDgUrVFRUa4GKLdyDy3gVIVlIFpLFEziPLdzBEhVVUzGiomBCsdajR9UUa53mCp7DHYRkIVlIFodxDUdwBQsMKAhNRUFBh4pJM6CiaDoMmh5zXMLz+BkhWUgWksVpvI0T+B4nsI1Ah4IJBUXTo6L6t87aDBMWuKH5ESFZSBaSxS+4iuP4FT2KpqKiaopm0nSYY8CIDhUVIzpsILAf5xGShWQhWbxubRP7sRe30aNg1EyomKwVFE2HCQUdVphhn+ZbhGQhWUgWz+ANrHAIKyxRMaIgMGLEgAkzzW3cRkHFhDkuouIgCrbwMUKykCwkixP4AOdxAwV7sQ83scI25ug0t/AHKjpsIDBoAvdhgd9wEB9qQrKQLCSLl/EiXsL9mHAUFXs1FXP0mBAomGkGTFhhQofrmGPAIXyjCclCspAs7DiHc/gUgUuaggEdBgwYsUTR3MQ2llhigR5L3MJlvIm3NCFZSBaShX940t0XkoVkIVlIFpKFZCFZSBaShWQh2V+n1PIbMhbS7wAAAABJRU5ErkJg\"></td><td style='text-align:center;vertical-align:middle; margin: 0.5em;border:1px #90999f solid;border-collapse:collapse'><img style='max-width: 100px; max-height:100px;display:inline' src=\"data:image/png;base64,iVBORw0KGgoAAAANSUhEUgAAAHAAAABwCAAAAADji6uXAAAABGdBTUEAALGPC/xhBQAAAAFzUkdCAK7OHOkAAAAgY0hSTQAAeiYAAICEAAD6AAAAgOgAAHUwAADqYAAAOpgAABdwnLpRPAAAA+RJREFUaAW9wT2rZHcdAOBnzvnNzM7cuTc3JiRssqAuikTQD6ALGsU+oJWltZ2N6HfRxspKrFKJjSBB1MKXRY2Fm2Cyuwn7cndmzpw3i39xOWcX7H7PE15ggdHU97HFh7hChz0G3MQJvzVVYTAVkoVkIVl4gVHxJbyNO2jxEF9Ehft4gme4jTfxHbyH3+EhBs8LyUKykCy8wFfxQ9SocEKFz6DCiA16HLDHPWzwLdzBQ/wMD0yFZCFZSBZe4Ad4BY/QYUSgQosjHmFAh5ViwF5xGz/Cj02FZCFZSBZmdvgcWpyjwwkDWpww4hInXKFTVKiwwhVWWOHkWkgWkoVkYeazWCkCLRZoMKLHCUtUCBwxYsCIFZa4iddxz7WQLCQLycLMDm/gfWyxwBEjKowY0CuWOChOWOEMI1a4iXuuhWQhWUgWZl5SDHgdHykGLBHosUaNZ1ijxwEbXOIKHXamQrKQLCQLMy9jxDN8HhvsscNRsUSPNQJbnHDEt7HFe2hQmwrJQrKQLMxcosEKn+LXuIOPEFihV+yxwAJXeA2/wdsIxcZUSBaShWRh5hlaNDjiXbyDB2gQ6LFQNKjR4RX8BO9gi8bzQrKQLCQLMw1GnGGFo6laMaLCiA6BQIMLbLDHwVRIFpKFZGFmiRErxd+wxRJHLBWDYlCMrq2xRo3WVEgWkoVkYeZNPMICZ/gUGzxBhQErnFzrEegUb+Cv2KA1FZKFZCFZmHkVLdZY4y1sTNWuDQi02CvuYocGW1MhWUgWkoWZNU5Y4gN8DZ+gw1oxet6AFhUGrNDgwlRIFpKFZGGmwYDAfdzCUyxQYVCMGBSBI7aKFucYsDYVkoVkIVmY6VDjAv9EoFUMigoLxYgWI3YYcAM7dNiYCslCspAszDxRvIpfoEaFHiNq1FggEOiwQo8af8I30eFoKiQLyUKyMPMYK9S4i69jRI0aPTq02OAGjugQeBl/xjfQ4GAqJAvJQrIw8xRrtOjxFZywQKDDAgdsscVBscYl/oIFRnSmQrKQLCQLMy022ONj3MIRgRojWkWNczxQNLiFf6NCjc5USBaShWRhZsRTLPEJdniENVZY4IQOC1xig/s4w5fxB0WPk6mQLCQLycJMhxo9HuMMH2NAg05RI9BhhwP+iz+iwQGB3lRIFpKFZGEmUGPAgNv4AJ2iQYMKRyxxAzfwH/weFR5jgcFUSBaShWRh5gw9/oURv8KABc5xrhjxEjZ4DQ/wXXyIn6NHi95USBaShWRh5gu4wFrxPdfWOMNKUSuOOCj2eAsX2GBnKiQLyUKyMPNL/AN3Pa9B4//7O36KHd43FZKFZCHZ/wAUaAtRWu7nnwAAAABJRU5ErkJg\"></td><td style='text-align:center;vertical-align:middle; margin: 0.5em;border:1px #90999f solid;border-collapse:collapse'><img style='max-width: 100px; max-height:100px;display:inline' src=\"data:image/png;base64,iVBORw0KGgoAAAANSUhEUgAAAHAAAABwCAAAAADji6uXAAAABGdBTUEAALGPC/xhBQAAAAFzUkdCAK7OHOkAAAAgY0hSTQAAeiYAAICEAAD6AAAAgOgAAHUwAADqYAAAOpgAABdwnLpRPAAAAm1JREFUaAW9wT2LFgQAB/Df3f318bkX8aUrj0whRBAbGoQiGlpzaugDFDjU1hx9gD5BU7NLEE7RUmNDRFtU0CAJknCDeXf6PD5vCU9wXQS69P/9oizKoizKoizKoizKoizKoizKoizKoizKoizKoizKoizKoizKoizKoizKoizKoizK4hmtYu6oTTyPCe54NlEWZVEWT7GCNUwtbeFdbOA8trGFW7jpqBUssI1PcQNRFmVRFk+xwNTSZXyE53ARv2KAE7iOr3DfoYWlD/EmriLKoizK4l9iaerQBXyAt/A7zuAAF7GJCdbxLT7D5w6dx2vYxxVEWZRFWTyxilVMMXXU+3gPx/AYp7GCEU5hhpPYwR4+xg18hwHexh9YwVVEWZRFWTwxx9yhbQxxE2/gC7yELeziADvYwwQPMLQ0xim8gzXs4RHWsYkoi7Ioi79dxnVcwAm8iC/xm6UfsI7X8RC7CE5jjAmOYYQpVvAQYwwxxnFEWZRFWa7gE8wwxQRT/IlXsYY72MZZ/IQdvIDbmGKAGWZYwwEWOIYhBtjCy4iyKIuyXMM1LDDGI8ywwBALXMI+FjiDxziOS3iELWxihmADQ6zhHnbxI24hyqIsyvI1fsY5vILz2MJpDLCJsziFA4wwwl1MsI97uIt93McBxriNO1g4FGVRFmXZxVl8j28wxtx/C6ae3TrOIdjACFEWZVGWBX6xdBIDS0PE0ggTBDOsWZphgFXMLc2xwAIj7GKGuaUoi7Ioi3944NB9/48oi7Ioi7Ioi7Ioi7Ioi7Ioi7Ioi7Ioi7Ioi7Ioi7Ioi7Ioi7Ioi7Ioi7Ioi7Io+wt1mH9Pb+K61AAAAABJRU5ErkJg\"></td><td style='text-align:center;vertical-align:middle; margin: 0.5em;border:1px #90999f solid;border-collapse:collapse'><img style='max-width: 100px; max-height:100px;display:inline' src=\"data:image/png;base64,iVBORw0KGgoAAAANSUhEUgAAAHAAAABwCAAAAADji6uXAAAABGdBTUEAALGPC/xhBQAAAAFzUkdCAK7OHOkAAAAgY0hSTQAAeiYAAICEAAD6AAAAgOgAAHUwAADqYAAAOpgAABdwnLpRPAAAA3lJREFUaAW9wb2OFQUYANAzd74792+BXSCgIImNlkZiYiisLGi0NCbWvoMFb+GD2FgZY0yIiTEgIVKoUYwBNCiI7N4Fdvf+zFhMQcjOCNV3TuhRoHHYeZxDjV1c1hqgQaNVoHFYSBaShWShR4MCjafexBe4iRrv4G1cRe1ZjW4hWUgWkoUeBRqt47iIE7iFCmv8gAu4gK/wk+cLyUKykCx0KNBgCx/jHOb4GlfwBg7wIy7jI3yIIT7HFf1CspAsJAsdGq2LWt9hhQ9QY4wCZ3EJn+EkDvAu/sVN3UKykCwkCz1O4zTuo8Y53NG6hTmu4QwqbGMHU5zHTd1CspAsJAs9zmKMBgv8jgav4zd8ixK/YIp9jLDEWL+QLCQLyUKPU9jGJsYY4RU8wD3MsYURhljgCPYx0y8kC8lCstBjhjUCgTmuYgtvYYC7GOIAhdYagcDKYSFZSBaShR4NAhV2tY6hxDXsYoAVKuzhGPZRYIJdh4VkIVlIFnpUWKJGhQcYYYUSNQIlBmiwhV8xxQi7DgvJQrKQLPSY4gAv4THuo8QSB1qBpdYIFRYoMNUtJAvJQrLQoUCNAUqssdY6wHu4gduosMQSU60aR3ULyUKykCx0mGCAwDbmGGGBI/gGO5hggQIF9rCBBQa6hWQhWUgWOoxRYgcNptjEP5hggRI1KhRoUGILcxzTLSQLyUKy0KFChQYjHGCJUmsDTzDCEgOtPQT2MdItJAvJQrLQocIaE8zxCGsU2MX7+B53sKFV4iGOYI1Kt5AsJAvJQocVCq0pSgywh018iQNMtBqU2MFr+BmFbiFZSBaShQ4NaiywwgpDBArMsMIMBZYo8BBrVJjqFpKFZCFZ6PAaCtTYQYEVZmhwGg0WWGgdx10ssI8zuoVkIVlIFjrMMMbLGGMfJ/AAM5zEfTzGUTxBgTUCm1joFpKFZCFZ6PAXTqDA35hoDbGFG3iEEdYIjLGDP3EUd3QLyUKykCx0uI7rnrqEeyhRYKY1whOssYk/8Kn/F5KFZCFZeAETlFhjgn3UGGKmVSI8X0gWkoVk4QUMUGgdxzZWWCBQedYAtW4hWUgWkoUeBRqtCiusMcA+FtjDUGuIUqvQLyQLyUKy8AIavIoJTmGGGhsYYYjASqvRLyQLyUKy0KPBADU+wQaGuI4KCzzBGnPcxlqr1i8kC8lCsv8AwkHQu3niLbgAAAAASUVORK5C\"></td></tr></tbody></table><div><small>(a vector displayed as a row to save space)</small></div>"
      ],
      "text/plain": [
       "6-element Vector{Base.ReinterpretArray{Gray{N0f8}, 2, N0f8, Matrix{N0f8}, true}}:\n",
       " [Gray{N0f8}(0.0) Gray{N0f8}(0.0) … Gray{N0f8}(0.0) Gray{N0f8}(0.0); Gray{N0f8}(0.0) Gray{N0f8}(0.0) … Gray{N0f8}(0.0) Gray{N0f8}(0.0); … ; Gray{N0f8}(0.0) Gray{N0f8}(0.0) … Gray{N0f8}(0.0) Gray{N0f8}(0.0); Gray{N0f8}(0.0) Gray{N0f8}(0.0) … Gray{N0f8}(0.0) Gray{N0f8}(0.0)]\n",
       " [Gray{N0f8}(0.0) Gray{N0f8}(0.0) … Gray{N0f8}(0.0) Gray{N0f8}(0.0); Gray{N0f8}(0.0) Gray{N0f8}(0.0) … Gray{N0f8}(0.0) Gray{N0f8}(0.0); … ; Gray{N0f8}(0.0) Gray{N0f8}(0.0) … Gray{N0f8}(0.0) Gray{N0f8}(0.0); Gray{N0f8}(0.0) Gray{N0f8}(0.0) … Gray{N0f8}(0.0) Gray{N0f8}(0.0)]\n",
       " [Gray{N0f8}(0.0) Gray{N0f8}(0.0) … Gray{N0f8}(0.0) Gray{N0f8}(0.0); Gray{N0f8}(0.0) Gray{N0f8}(0.0) … Gray{N0f8}(0.0) Gray{N0f8}(0.0); … ; Gray{N0f8}(0.0) Gray{N0f8}(0.0) … Gray{N0f8}(0.0) Gray{N0f8}(0.0); Gray{N0f8}(0.0) Gray{N0f8}(0.0) … Gray{N0f8}(0.0) Gray{N0f8}(0.0)]\n",
       " [Gray{N0f8}(0.0) Gray{N0f8}(0.0) … Gray{N0f8}(0.0) Gray{N0f8}(0.0); Gray{N0f8}(0.0) Gray{N0f8}(0.0) … Gray{N0f8}(0.0) Gray{N0f8}(0.0); … ; Gray{N0f8}(0.0) Gray{N0f8}(0.0) … Gray{N0f8}(0.0) Gray{N0f8}(0.0); Gray{N0f8}(0.0) Gray{N0f8}(0.0) … Gray{N0f8}(0.0) Gray{N0f8}(0.0)]\n",
       " [Gray{N0f8}(0.0) Gray{N0f8}(0.0) … Gray{N0f8}(0.0) Gray{N0f8}(0.0); Gray{N0f8}(0.0) Gray{N0f8}(0.0) … Gray{N0f8}(0.0) Gray{N0f8}(0.0); … ; Gray{N0f8}(0.0) Gray{N0f8}(0.0) … Gray{N0f8}(0.0) Gray{N0f8}(0.0); Gray{N0f8}(0.0) Gray{N0f8}(0.0) … Gray{N0f8}(0.0) Gray{N0f8}(0.0)]\n",
       " [Gray{N0f8}(0.0) Gray{N0f8}(0.0) … Gray{N0f8}(0.0) Gray{N0f8}(0.0); Gray{N0f8}(0.0) Gray{N0f8}(0.0) … Gray{N0f8}(0.0) Gray{N0f8}(0.0); … ; Gray{N0f8}(0.0) Gray{N0f8}(0.0) … Gray{N0f8}(0.0) Gray{N0f8}(0.0); Gray{N0f8}(0.0) Gray{N0f8}(0.0) … Gray{N0f8}(0.0) Gray{N0f8}(0.0)]"
      ]
     },
     "execution_count": 6,
     "metadata": {},
     "output_type": "execute_result"
    }
   ],
   "source": [
    "k = rand(1:60000, 6)\n",
    "println([\"$(labels[Y_all[i]])\" for i in k])\n",
    "[FashionMNIST.convert2image(X_all[:,:,i]) for i in k]"
   ]
  },
  {
   "cell_type": "markdown",
   "metadata": {},
   "source": [
    "## Choosing two categories\n",
    "\n",
    "To illustrate how the classification methods from the lecture work we consider only two items, namely Coats and Sandals. The goal is to learn an algorithm that can distinguish pictures from these two categories.\n",
    "\n",
    "First, we compute the locations of Coats and Sandals in the data."
   ]
  },
  {
   "cell_type": "code",
   "execution_count": 7,
   "metadata": {},
   "outputs": [
    {
     "data": {
      "text/plain": [
       "12000"
      ]
     },
     "execution_count": 7,
     "metadata": {},
     "output_type": "execute_result"
    }
   ],
   "source": [
    "l₁ = findfirst(labels .== \"Coat\")\n",
    "l₂ = findfirst(labels .== \"Sandal\")\n",
    "l = findall(y -> y == l₁ || y == l₂, Y_all);\n",
    "length(l)"
   ]
  },
  {
   "cell_type": "markdown",
   "metadata": {},
   "source": [
    "I.e., there are 12000 items in the data, which are either Coats or Sandals.\n",
    "\n",
    "For training let us consider a subsample of size $n=50$. \n",
    "\n",
    "Since the goal of this notebook is to illustrate how classification works, we will not stick to the algorithm for approaching machine learning problems. We will simply take the first $n$ items in the data set (instead of choosing them randomly). We also take another $n$ items for testing. "
   ]
  },
  {
   "cell_type": "code",
   "execution_count": 8,
   "metadata": {},
   "outputs": [
    {
     "data": {
      "text/plain": [
       "50"
      ]
     },
     "execution_count": 8,
     "metadata": {},
     "output_type": "execute_result"
    }
   ],
   "source": [
    "n = 50"
   ]
  },
  {
   "cell_type": "markdown",
   "metadata": {},
   "source": [
    "Now, we split the data into the training and test data"
   ]
  },
  {
   "cell_type": "code",
   "execution_count": 9,
   "metadata": {},
   "outputs": [],
   "source": [
    "train_indices = l[1:n];\n",
    "test_indices = l[n+1:2*n];\n",
    "\n",
    "X_test = X_all[:, :, test_indices]\n",
    "Y_test = Y_all[test_indices];\n",
    "\n",
    "X = X_all[:, :, train_indices]\n",
    "Y = Y_all[train_indices];"
   ]
  },
  {
   "cell_type": "markdown",
   "metadata": {},
   "source": [
    "Let us look at a subsample of the training data:"
   ]
  },
  {
   "cell_type": "code",
   "execution_count": 10,
   "metadata": {},
   "outputs": [
    {
     "name": "stdout",
     "output_type": "stream",
     "text": [
      "[\"Sandal\", \"Coat\", \"Coat\", \"Coat\", \"Sandal\", \"Coat\"]\n"
     ]
    },
    {
     "data": {
      "text/html": [
       "<table><tbody><tr><td style='text-align:center;vertical-align:middle; margin: 0.5em;border:1px #90999f solid;border-collapse:collapse'><img style='max-width: 100px; max-height:100px;display:inline' src=\"data:image/png;base64,iVBORw0KGgoAAAANSUhEUgAAAHAAAABwCAAAAADji6uXAAAABGdBTUEAALGPC/xhBQAAAAFzUkdCAK7OHOkAAAAgY0hSTQAAeiYAAICEAAD6AAAAgOgAAHUwAADqYAAAOpgAABdwnLpRPAAAAphJREFUaAW9wb9rnAUcB+DnzX0uEdIYrRqCQ0sNtYro4C8Uh4hDFwelgro5iwgODv0DikhWwcVFRASHCnUIUgQHV3FQUaucP4JG7ZImIQSTu3sV3uEsOiTFfp8nikWxKBbFolgUi2JRLIpFsSgWxaJYFItiUSyKRbEoFsWiWBSLYlEs/icNWp0eTuJufINvTUSxKBbF4ho9hF/wm06rcwKnsKmziJ+xqxPFolgUi0No0GIRL2Ee5/GuzuN4BD+gwRd4AKdxQSeKRbEoFgfUoEUfr2FO51Us4UM8iHUEu3ge01gxEcWiWBSLA2rRx5s4gk3cgz/xFJ7DCnZwFE/jE1zQ6WGEKBbFolgc0jxuxAI2cBtu0XkZH+FTvI8tEyOdKBbFolgcwj6exXksYoxp9LGFPbyCD7Dlv0WxKBbF4ho8g9dxBkMMMKvzFT7DC3gHd+J23I+PEcWiWBSLA2rQmjiLAc7iDvyEfczgc6xgCZuYxh52EMWiWBSLA2r921t4D29gGVO4hFX8ij6mMcTNGCKKRbEolgatq/UwRosjOInvsKPToNXZwY84hov4EvO4CVOuNkYUi2JRLC0aTOmMMIWHMYcNDPEYLuq0Og3OYQZvo49jmDIxRg99BFEsikWx+FuLkYkFDPE9dvAojmOAgc4sXsQfGOAG7GKIIcYm9nEFa4hiUSyK5S6cxiwu42ssYxEDrOEU9vAkVnEGx7GLbSxjAcEMrqBnYh/34VZEsSgWxXIJ+ziBo1hCg9+xiCewhhHmcC9mcRkbWNBZxwjb2MUYY2xjE6tYRxSLYlEsLQYYoEHr+uhhhCgWxaJY/EPr+hnpRLEoFsWiWBSLYlEsikWxKBbFolgUi2JRLIpFsSgWxaJYFItiUewvN1CKJFrgav4AAAAASUVORK5C\"></td><td style='text-align:center;vertical-align:middle; margin: 0.5em;border:1px #90999f solid;border-collapse:collapse'><img style='max-width: 100px; max-height:100px;display:inline' src=\"data:image/png;base64,iVBORw0KGgoAAAANSUhEUgAAAHAAAABwCAAAAADji6uXAAAABGdBTUEAALGPC/xhBQAAAAFzUkdCAK7OHOkAAAAgY0hSTQAAeiYAAICEAAD6AAAAgOgAAHUwAADqYAAAOpgAABdwnLpRPAAABAJJREFUaAW9wTuPXIUZANAzM9/OzM6O1/tivWvA2JFAESl5NAiljJCSPmUKaChoiBQiJUGiQxT8C4pI/AAqmiikSBSDQEjINjhylgV72ffszuPOpbiFNbPXiOo7J/wMLRQqv0cfJVbxPgqVBko/LSQLyUKy8AhNTFUKlXfwV3yGAlfxHm7gG5QqDZTqhWQhWUgWHmHqoefxGn6HrxHYxRpu4RO8iY+wh9KjhWQhWUgWfsJb+C02VW6jiRfxLAb4J3r4C/6MKf6A/6oXkoVkIVmY00CJd/AqvsEdnOMXmOIOnsFtLGENZ/gBm/gQL+IBGig9FJKFZCFZmFOq/BpfYw+bOMQdDPECvsMK7qGHY5ziAD38DW+gNCskC8lCslDjMWzgDIHL2MEi1nGIgUoXX2GKJfTQxEvqhWQhWUgWamygiUs4xfdYRxdDlRJjDNDBVRyhgwJL6oVkIVlIFmpcxwIWMUEbJfYxwiWM0MB1jDFFGxvYwTZ6GJgVkoVkIVmocRUl2ljAKXo4wxDnaKKLEfZwjDWs4i7uYxu3zQrJQrKQLNS4hgIl2jhCiVU0UaKPYwQCA3TRRgeBa7htVkgWkoVkocYmhiiwjAECpUoXE5USK+jgQGWMMZ7Gx2aFZCFZSBZqrGCIM7Sxh8ATOMEB+uihQIFVDFQmaGDTRSFZSBaShRpdrGKKCYboYQ8n2EIb+zjAOhrYV+lihGUXhWQhWUgWavTQxhSHeAxt7KKDFsZooYERjrGqEjjHDReFZCFZSBZqbKGBCa7jCN/jcfRwGf/BL7GAW+hjWaVEH4+7KCQLyUKyUKODBhqYosQ1TDFEA9dRYheb2MIRSjQwQbgoJAvJQrJQo4kSBU7RwgmGOEcXSxjhWexhjDZGOEcDT7koJAvJQrJQo6kS6KCNBk5QYqgyxj6OUGAF97CEIZZcFJKFZCFZmLOIDgp0MMEpetjGEGsYYUFljAla+BdewV00cRU7HgrJQrKQLMx5CgWO8QRuYg1nWMQKFtDEAdaxjftYxi5W8TkeYBs7HgrJQrKQLMxZRQsj9LGHFg5xA7uYqmxhhEso0cU9lTYm6JkVkoVkIVmYs4wWNjDCPtbRxRco8Bx28D8cYgMFSnyJb7GBA1wxKyQLyUKyMGcLLbTxKe7iN/gEa9jGKR7gEhZxjAd4BgPcxyZGuGJWSBaShWRhzhXcx5O4iQ6eVCnRwzG62EAfJ/gV1nELA7RQYmJWSBaShWRhTh9jTNDH6/gAbSzi/3gXC3gVBUZYxA/4DgOVc7TMCslCspAszNnAFVxGqfKlWX/EAQbq/RsvY4wXzArJQrKQLMz5E/6ONr5QCZSYosSOWU00UaDE2/gHjnDTrJAsJAvJfgR99AJMIt8oHwAAAABJRU5ErkJg\"></td><td style='text-align:center;vertical-align:middle; margin: 0.5em;border:1px #90999f solid;border-collapse:collapse'><img style='max-width: 100px; max-height:100px;display:inline' src=\"data:image/png;base64,iVBORw0KGgoAAAANSUhEUgAAAHAAAABwCAAAAADji6uXAAAABGdBTUEAALGPC/xhBQAAAAFzUkdCAK7OHOkAAAAgY0hSTQAAeiYAAICEAAD6AAAAgOgAAHUwAADqYAAAOpgAABdwnLpRPAAAA99JREFUaAW9wUtvVAUYANAzd77Oo9OWhhZL5SFCRCOGGENcaHTtRhN/gDv/mzsTFy40wcTEjcREEKMEiYIgoaGFtrQznbeLu2hm+mD3nROOUWCkNIcruILf0MUq1nBLqYKx44VkIVlIFo4xUnoT87iMq9jCcyyigQpuYuzlQrKQLCQLL3EJZ/EAq6hjDfcxxAYWcQ2/eLmQLCQLycJLLOIJuniEL/A5vsV1/Ik1XEATHccLyUKykCwcocBFzOFdPMR/uIQ+6ngVH+A8LuERvsIjRwvJQrKQLBzhIs6jjXu4ihtYwwV8hBt4Hw/xA4b4EHfxq8OFZCFZSBaOsIg1LGKM77GNT/EdqriOIapYwi5msIq/sOOgkCwkC8nCIZqoYYA2mjiFBh5gBjfwGG9jgAIFAhWcxR0HhWQhWUgWDrGMCvbQwDPU0cQivsQznEYFPQQGWEUPK7jjoJAsJAvJwiEaaGIem5jFCF208Rl+xH2cQKCKJlZxE6cdLiQLyUKycIgT2ME8dtBDXamJ63iIJvbQQA91tNFDAxWMTQrJQrKQLEyZxQJ6eB272MQYY9TwAgUKVBEYoYlljNDCEtZNCslCspAsTBljiBYW0LUvMEITHaU5VNDHZZzBDHaxgnWTQrKQLCQLU2bQxgy62MASxggU2EUHNfQRSi2sYwsNNB0UkoVkIVmYMosqxjiJOsaoYIACFZzELrqYRRUDrGAFG2g4KCQLyUKyMGUJNVTRVhqghhF6SgX2sIARathAEwX2cM5BIVlIFpKFKTXU8AYKPME72EFDaYwhepjHc1zDFtawggqWHRSShWQhWZjSRxV1bKCGWewotdDFHBbQxSYu4A/cwCe4jQrewh37QrKQLCQLU5oYoo6fMMIuqkoDjBFKbSzintI6NtDDGMsmhWQhWUgWpvSwgz30UdhXxxZ6aGAbZ1Dgb5zBU8yhhofYNSkkC8lCsjClgiq2sYMWhigwQCAwQoHAJuo4hRp+RgsdvDApJAvJQrIwZYhAHeu4Zl8XBXqoYAF7aCnt4Bzu4mN0sWhSSBaShWThCB2lDmYQGGCEIQI9NNHCFrZRwyaqGKNrUkgWkoVk4RB1/IsFXMFtVFBFoIo+umiiixH6qGOgNEDVpJAsJAvJwpR5nMNNvIYLuIUqBigwxGMsYYg2FtDGKxhjgGUMTQrJQrKQLEz5Hf9gC0v4BrOoYIAKuujhBF6ghSE6WEYNX2MefZNCspAsJAtTtrGt9J5SV6mlNMI8hmihoTSHKs7jHl44KCQLyUKycIRAF3tooIMxBgjsYYBTeIoWttHBtlKBkUkhWUgWkv0Pqvb0ZdMWg8EAAAAASUVORK5C\"></td><td style='text-align:center;vertical-align:middle; margin: 0.5em;border:1px #90999f solid;border-collapse:collapse'><img style='max-width: 100px; max-height:100px;display:inline' src=\"data:image/png;base64,iVBORw0KGgoAAAANSUhEUgAAAHAAAABwCAAAAADji6uXAAAABGdBTUEAALGPC/xhBQAAAAFzUkdCAK7OHOkAAAAgY0hSTQAAeiYAAICEAAD6AAAAgOgAAHUwAADqYAAAOpgAABdwnLpRPAAAA9JJREFUaAW9wbtvVQUcAOCv5/56b9uLtJS2POShAj7wyaCDxoUwKJODuhiNiYO66GbiaNwddHDwDzAx0eikIcRoHHxF1ISYGlBQtMQWWh59XXp76nCm5p6CLr/vC//Tm9iHwBV8gGMqfVhzfSFZSBaShRsoUKpMYwGnUeIgXsD3eAhrKFDaWEgWkoVk4QYKlHgKk/gGP2MYO/AtDuMenESB0sZCspAsJAs3UKo8gn9wEE08gClsxdd4EifdWEgWkoVk4ToKlCoTuIzb8CPGcRFruIKbVbooUKoXkoVkIVm4jlLlRdyFv3Ecm/EW7scY+rELh/E5ShsLyUKykCzUKFBiEz7EKRzH3TiCY3gVm3EW53EOz+AJvKJSoLReSBaShWShRoEST+MvXEWJSSxhMz7Cg5jBWbSxhnHciUkUKK0XkoVkIVmo0VXZr7IdMyqDGMBlLGIe4ypdLOJRTKoXkoVkIVnYwOMYRYFR/IZV7MImPItDeA0j6GA/rmA/mrimV0gWkoVkYQPP4jw2YRwNNHECo/gFP2BEpcQELmAMb+B1vUKykCwkCxuYwyoKLKAPgYbKRSxjQGUZHQzjAqbUC8lCspAsbGACZzCCFnahi8A8nsMcvsIYuhjGKmaxXb2QLCQLyUKNURRYRQOLaGIBHRT4Dv1oYgVtLKKFBvrVC8lCspAs1NiJLoZwCr/iMcxgBTdhEiMYwiVsxTt4CQW2qheShWQhWaixDUvYiS8xi904gwks4DDmcAmr2Id3sQ3TaKKJa9YLyUKykCzUGEcHY7iAJn7HHAJL2Is2TqssoItptLCKbThnvZAsJAvJQo0JLKHANI7gGoZwDRN4H+MYxTwaGMBPOIApbMM564VkIVlIFmqMoMQI/sQOLKKNFvowjgH0YQ2DGMUc2mhgSK+QLCQLyUKNFhqYwQiGMYXLKit4HmfxKdo4jztwBQUKtPUKyUKykCzUGEAfprAb2zGLQSyjg4+xCXtUujiAz1QK9OsVkoVkIVmo0UI/OrgdixjCAroYxyQ6GESJm9DGFpUBtPQKyUKykCxcxwpuwUXMqMyjg5dxGl+oLGIA96GDPrT0CslCspAs1OhHA8toYRRX0cQWzOEE2tiNAtNoYQwNlFjTKyQLyUKyUKNAC/0YxhI6mMcl7MBpDGEZgc2YxTx2YRgDeoVkIVlIFmr0YQ1ncAh70UAXsxjCvSgxhUXcjL14GwvoqheShWQhWagxjHnciqN4Hks4iC7+wn408QmWUOIEBnEUf6gXkoVkIVmoUeJhXMQK3vPfXcUO7MHveoVkIVlI9i8G7t9NknHiAAAAAABJRU5ErkJg\"></td><td style='text-align:center;vertical-align:middle; margin: 0.5em;border:1px #90999f solid;border-collapse:collapse'><img style='max-width: 100px; max-height:100px;display:inline' src=\"data:image/png;base64,iVBORw0KGgoAAAANSUhEUgAAAHAAAABwCAAAAADji6uXAAAABGdBTUEAALGPC/xhBQAAAAFzUkdCAK7OHOkAAAAgY0hSTQAAeiYAAICEAAD6AAAAgOgAAHUwAADqYAAAOpgAABdwnLpRPAAAAwBJREFUaAW9wc9rFgQcB+DnfffZ3hn+6k3G0llmCEOwU1IQEXQRIcgOHsQi6BTStX+gLl2CJOigh7p2iU4hhJQYUQammaCOMu3HSmnzda/K3Pa+CW8wrARJ+D5PFItiUSyKRbEoFsWiWBSLYlEsikWxKBbFolgUi2JRLIpFsSgWxaJY3INNmMAX7l4Ui2JRLP6n3XgThzCL0+5sL6ZwDFEsikWxuEtN9LAB+zGBH7ENB/CUZSvxCtZhBbqYNhDFolgUi7vUMNDGJH7CJTyBMbyIz/AcXsAKHMUHOG1ZFItiUSzuoIk++gaWDJzCDLZiFsfxAN7FLziJt/E9pg00ECwgikWxKBb/0EQPPXf2Og7jeczhZ/yB13DEv/WxYCCKRbEolgb6BhroGRjHS9iJZ93ua3yInVhCE9exG0cMDGENVmIF1mMWUSyKRbG4pYm+Ze9gO+awFu9hn9u9ij14BpuwGi9jIz7FBFZhGItYwBSiWBSLYumj73ansRfn8AN24S1ctGwBJ7EPI/gS3+IUzuMYWgYW0cZlRLEoFsUygvvQQd/AQezB53gDX2EHDmIjnsRmjOI7fINraOECHscc1uIihjCBTxDFolgUy6PYgQaauIEuWtiFLm7iANoIFnAGLRzCdvxqYA2O4jEcxgSCs+ghikWxKJYuzuAcJtHBON7HFB7BfnyM4xjBPLbgArZhFi2MYBhbcAVP4ySaWI9LiGJRLIrlBjagjdWYwf24jAmcwEM4jm2YxRx+w3qM4gZaaKGJSwg6GEfQwHVEsSgWxXIVPXTQwDzm8CcexlY0MIYpDGEUTVzBGbQxjUnMYxQdzGAUFzGJLqJYFItiuYkOJnETbaxGFw000ccw2liHFlahiWEEDVxFDw9iI65jHn2cQA9RLIpFsbjlIzSxBeMYw2ZcwygW0UFwHjPoYhG/YxY9y4YwhgW0sISOgSgWxaJY/K2Hszjr3i1h2n+LYlEsikWxKBbFolgUi2JRLIpFsSgWxaJYFItiUSyKRbEoFsWi2F9B1Kvj4ThZ9wAAAABJRU5ErkJg\"></td><td style='text-align:center;vertical-align:middle; margin: 0.5em;border:1px #90999f solid;border-collapse:collapse'><img style='max-width: 100px; max-height:100px;display:inline' src=\"data:image/png;base64,iVBORw0KGgoAAAANSUhEUgAAAHAAAABwCAAAAADji6uXAAAABGdBTUEAALGPC/xhBQAAAAFzUkdCAK7OHOkAAAAgY0hSTQAAeiYAAICEAAD6AAAAgOgAAHUwAADqYAAAOpgAABdwnLpRPAAAA/FJREFUaAW9wT2IZWcZAODnnPPeM3dmMpOQCBILIaIxRNMkXdhCsFEQxU5UFNTCQrCzE9Mo6bRLYbBImzqQLp0RhEAqWbbYJa6G7GxWNjPembnnnu+zOMX92xBs3ucJn6HDiAO8h4cYsMKX8Vu8gRbFZwvJQrKQLHyKBhWjybN4HmfocIUv4Pt4A8Vai+LRQrKQLCQLGxo0KKgmJ/gRfoIFHuAOzvFNvIBf4k18bFJ8upAsJAvJwoaKavIc/owbJg+xQIcXUdHhCbyG13Abb+OPuOXRQrKQLCQLj/B7/BwD/oEBHXoc4y5OMcc93MVjOMT38AP8Bq/bF5KFZCFZeIQf4wwjDtCjwwKBD/B5FHR4Cj3OsMIpfofX7QvJQrKQLOz4Lg5xjg4DGhQc4ALPosc5TnCBm3gBKyzR4ov4wLaQLCQLycKOX2NAh4oVWlSs0CBQMUeLDg+wwAkucIAf4lXbQrKQLCQLO27gLjo0KGhQrS3R4xAL9PgOHuAKLUa8bF9IFpKFZGHHiIKCQyxNWnRYYECLDpcm91BwihEf4Rv2hWQhWUgWNjyHAww4RMUMI65wiBYLdHgcMyxxiA4VV7jGCb6Km9ZCspAsJAsbXsSIBuc4QUWPAQNmOEbBEhUFR6hYmRxjiW/hprWQLCQLycKGLyGwQoceCzSY4wrFpMUVGsxxgcdxjE+wwiWetC0kC8lCsrDhXyZLnKBBjwHVJDBihoIRPa5REGgQOMW7toVkIVlIFjYMaFAxxwHOUdGaVBRUDOhMZjjHERpcmTxhW0gWkoVkYcMZKgoKlhgwwwqBFXq0Jp1JgxEDOhyZ3LEtJAvJQrKw4SEaBAYU9KhoMKLFaHKEiorOpKDFymRhW0gWkoVkYcPfMGCG1qRiRIMBM5OCFiMKwqTDiMHkzLaQLCQLycKGwAy9SWCJDgUVK3Ro0aBFILBCQcEBCj60LSQLyUKysOFpkyV6NGjRoUFFh/+gxQkCDa7wGGaoJsW+kCwkC8nChn/iNmZYomJEQcEKDXr06HBtUjBDwYgWM3wO962FZCFZSBZ2zNFggVMcoeAaK1QcoceIOUZ0JpfoEbjGfdtCspAsJAs7Kloc4zYu8QyuMWLEAgs0OEUg8Hcc4SsYcNu+kCwkC8nCjrfwbSzxX3wNT+M+RvT4GD0CM7QIfB1v4hk0+Kt9IVlIFpKFHTewxBy38Af8FP9GgzlGFJNLHOElvIs7OMAD/Ay/QLUWkoVkIVnY8Qr+hAu8gnt4x//nV3gKf0G1LSQLyUKysOMu5rjAwiRQrFU01ioaFJOCQ7xvX0gWkoVkYccZbuETFJOCYlu1rbW2xEMc2xeShWQh2f8AEPUOGXdmG4MAAAAASUVORK5C\"></td></tr></tbody></table><div><small>(a vector displayed as a row to save space)</small></div>"
      ],
      "text/plain": [
       "6-element Vector{Base.ReinterpretArray{Gray{N0f8}, 2, N0f8, Matrix{N0f8}, true}}:\n",
       " [Gray{N0f8}(0.0) Gray{N0f8}(0.0) … Gray{N0f8}(0.0) Gray{N0f8}(0.0); Gray{N0f8}(0.0) Gray{N0f8}(0.0) … Gray{N0f8}(0.0) Gray{N0f8}(0.0); … ; Gray{N0f8}(0.0) Gray{N0f8}(0.0) … Gray{N0f8}(0.0) Gray{N0f8}(0.0); Gray{N0f8}(0.0) Gray{N0f8}(0.0) … Gray{N0f8}(0.0) Gray{N0f8}(0.0)]\n",
       " [Gray{N0f8}(0.0) Gray{N0f8}(0.0) … Gray{N0f8}(0.0) Gray{N0f8}(0.0); Gray{N0f8}(0.0) Gray{N0f8}(0.0) … Gray{N0f8}(0.0) Gray{N0f8}(0.0); … ; Gray{N0f8}(0.0) Gray{N0f8}(0.0) … Gray{N0f8}(0.0) Gray{N0f8}(0.0); Gray{N0f8}(0.0) Gray{N0f8}(0.0) … Gray{N0f8}(0.0) Gray{N0f8}(0.0)]\n",
       " [Gray{N0f8}(0.0) Gray{N0f8}(0.0) … Gray{N0f8}(0.0) Gray{N0f8}(0.0); Gray{N0f8}(0.0) Gray{N0f8}(0.0) … Gray{N0f8}(0.0) Gray{N0f8}(0.0); … ; Gray{N0f8}(0.0) Gray{N0f8}(0.0) … Gray{N0f8}(0.0) Gray{N0f8}(0.0); Gray{N0f8}(0.0) Gray{N0f8}(0.0) … Gray{N0f8}(0.0) Gray{N0f8}(0.0)]\n",
       " [Gray{N0f8}(0.0) Gray{N0f8}(0.0) … Gray{N0f8}(0.0) Gray{N0f8}(0.0); Gray{N0f8}(0.0) Gray{N0f8}(0.0) … Gray{N0f8}(0.0) Gray{N0f8}(0.0); … ; Gray{N0f8}(0.0) Gray{N0f8}(0.0) … Gray{N0f8}(0.0) Gray{N0f8}(0.0); Gray{N0f8}(0.0) Gray{N0f8}(0.0) … Gray{N0f8}(0.0) Gray{N0f8}(0.0)]\n",
       " [Gray{N0f8}(0.0) Gray{N0f8}(0.0) … Gray{N0f8}(0.0) Gray{N0f8}(0.0); Gray{N0f8}(0.0) Gray{N0f8}(0.0) … Gray{N0f8}(0.0) Gray{N0f8}(0.0); … ; Gray{N0f8}(0.0) Gray{N0f8}(0.0) … Gray{N0f8}(0.0) Gray{N0f8}(0.0); Gray{N0f8}(0.0) Gray{N0f8}(0.0) … Gray{N0f8}(0.0) Gray{N0f8}(0.0)]\n",
       " [Gray{N0f8}(0.0) Gray{N0f8}(0.0) … Gray{N0f8}(0.0) Gray{N0f8}(0.0); Gray{N0f8}(0.0) Gray{N0f8}(0.0) … Gray{N0f8}(0.0) Gray{N0f8}(0.0); … ; Gray{N0f8}(0.0) Gray{N0f8}(0.0) … Gray{N0f8}(0.0) Gray{N0f8}(0.0); Gray{N0f8}(0.0) Gray{N0f8}(0.0) … Gray{N0f8}(0.0) Gray{N0f8}(0.0)]"
      ]
     },
     "execution_count": 10,
     "metadata": {},
     "output_type": "execute_result"
    }
   ],
   "source": [
    "k = rand(1:n, 6)\n",
    "println([\"$(labels[Y[i]])\" for i in k])\n",
    "[FashionMNIST.convert2image(X[:,:,i]) for i in k]"
   ]
  },
  {
   "cell_type": "markdown",
   "metadata": {},
   "source": [
    "## Visualizing the data\n",
    "\n",
    "Each input data point is an image consisting of grey values for $28\\times 28$ pixels.\n",
    "\n",
    "Thus the data lives in $\\mathbb R^D$ with $D=28^2 = 784$."
   ]
  },
  {
   "cell_type": "code",
   "execution_count": 11,
   "metadata": {},
   "outputs": [
    {
     "data": {
      "text/plain": [
       "784"
      ]
     },
     "execution_count": 11,
     "metadata": {},
     "output_type": "execute_result"
    }
   ],
   "source": [
    "D = 28^2"
   ]
  },
  {
   "cell_type": "markdown",
   "metadata": {},
   "source": [
    "Let us look at the structure of the first input data point:"
   ]
  },
  {
   "cell_type": "code",
   "execution_count": 12,
   "metadata": {},
   "outputs": [
    {
     "data": {
      "text/plain": [
       "Matrix{N0f8} (alias for Array{Normed{UInt8, 8}, 2})"
      ]
     },
     "execution_count": 12,
     "metadata": {},
     "output_type": "execute_result"
    }
   ],
   "source": [
    "typeof(X[:,:,1])"
   ]
  },
  {
   "cell_type": "markdown",
   "metadata": {},
   "source": [
    "We see that the input data consists of matrices. \n",
    "\n",
    "For using machine learning algorithm we first transform the input data points into vectors using the `vec` function."
   ]
  },
  {
   "cell_type": "code",
   "execution_count": 13,
   "metadata": {},
   "outputs": [],
   "source": [
    "X_vec = [Float64.(vec(X[:,:,i])) for i in 1:n];\n",
    "X_test_vec = [Float64.(vec(X_test[:,:,i])) for i in 1:n];"
   ]
  },
  {
   "cell_type": "markdown",
   "metadata": {},
   "source": [
    "We also normalize the data to account for numerical accuracy."
   ]
  },
  {
   "cell_type": "code",
   "execution_count": 14,
   "metadata": {},
   "outputs": [],
   "source": [
    "M = maximum(norm.(X_vec))\n",
    "X_vec = X_vec ./ M\n",
    "X_test_vec = X_test_vec ./ M;"
   ]
  },
  {
   "cell_type": "markdown",
   "metadata": {},
   "source": [
    "We can visualize this data by randomly projecting the points in $\\mathbb R^D$ to $\\mathbb R^2$. \n",
    "\n",
    "For instance, we can first center the data and then sample a random projection matrix:"
   ]
  },
  {
   "cell_type": "code",
   "execution_count": 15,
   "metadata": {},
   "outputs": [],
   "source": [
    "x̄ = mean(X_vec)\n",
    "Pr = randn(2, D)\n",
    "X_Pr = hcat(map(x -> Pr*(x - x̄), X_vec)...);"
   ]
  },
  {
   "cell_type": "markdown",
   "metadata": {},
   "source": [
    "We can now apply a scatter plot the the projected data."
   ]
  },
  {
   "cell_type": "code",
   "execution_count": 16,
   "metadata": {},
   "outputs": [
    {
     "data": {
      "image/svg+xml": [
       "<?xml version=\"1.0\" encoding=\"utf-8\"?>\n",
       "<svg xmlns=\"http://www.w3.org/2000/svg\" xmlns:xlink=\"http://www.w3.org/1999/xlink\" width=\"600\" height=\"300\" viewBox=\"0 0 2400 1200\">\n",
       "<defs>\n",
       "  <clipPath id=\"clip540\">\n",
       "    <rect x=\"0\" y=\"0\" width=\"2400\" height=\"1200\"/>\n",
       "  </clipPath>\n",
       "</defs>\n",
       "<path clip-path=\"url(#clip540)\" d=\"\n",
       "M0 1200 L2400 1200 L2400 0 L0 0  Z\n",
       "  \" fill=\"#ffffff\" fill-rule=\"evenodd\" fill-opacity=\"1\"/>\n",
       "<defs>\n",
       "  <clipPath id=\"clip541\">\n",
       "    <rect x=\"480\" y=\"0\" width=\"1681\" height=\"1200\"/>\n",
       "  </clipPath>\n",
       "</defs>\n",
       "<path clip-path=\"url(#clip540)\" d=\"\n",
       "M192.941 1099.09 L2352.76 1099.09 L2352.76 47.2441 L192.941 47.2441  Z\n",
       "  \" fill=\"#ffffff\" fill-rule=\"evenodd\" fill-opacity=\"1\"/>\n",
       "<defs>\n",
       "  <clipPath id=\"clip542\">\n",
       "    <rect x=\"192\" y=\"47\" width=\"2161\" height=\"1053\"/>\n",
       "  </clipPath>\n",
       "</defs>\n",
       "<polyline clip-path=\"url(#clip542)\" style=\"stroke:#000000; stroke-linecap:butt; stroke-linejoin:round; stroke-width:2; stroke-opacity:0.1; fill:none\" points=\"\n",
       "  197.023,1099.09 197.023,47.2441 \n",
       "  \"/>\n",
       "<polyline clip-path=\"url(#clip542)\" style=\"stroke:#000000; stroke-linecap:butt; stroke-linejoin:round; stroke-width:2; stroke-opacity:0.1; fill:none\" points=\"\n",
       "  524.92,1099.09 524.92,47.2441 \n",
       "  \"/>\n",
       "<polyline clip-path=\"url(#clip542)\" style=\"stroke:#000000; stroke-linecap:butt; stroke-linejoin:round; stroke-width:2; stroke-opacity:0.1; fill:none\" points=\"\n",
       "  852.817,1099.09 852.817,47.2441 \n",
       "  \"/>\n",
       "<polyline clip-path=\"url(#clip542)\" style=\"stroke:#000000; stroke-linecap:butt; stroke-linejoin:round; stroke-width:2; stroke-opacity:0.1; fill:none\" points=\"\n",
       "  1180.71,1099.09 1180.71,47.2441 \n",
       "  \"/>\n",
       "<polyline clip-path=\"url(#clip542)\" style=\"stroke:#000000; stroke-linecap:butt; stroke-linejoin:round; stroke-width:2; stroke-opacity:0.1; fill:none\" points=\"\n",
       "  1508.61,1099.09 1508.61,47.2441 \n",
       "  \"/>\n",
       "<polyline clip-path=\"url(#clip542)\" style=\"stroke:#000000; stroke-linecap:butt; stroke-linejoin:round; stroke-width:2; stroke-opacity:0.1; fill:none\" points=\"\n",
       "  1836.51,1099.09 1836.51,47.2441 \n",
       "  \"/>\n",
       "<polyline clip-path=\"url(#clip542)\" style=\"stroke:#000000; stroke-linecap:butt; stroke-linejoin:round; stroke-width:2; stroke-opacity:0.1; fill:none\" points=\"\n",
       "  2164.41,1099.09 2164.41,47.2441 \n",
       "  \"/>\n",
       "<polyline clip-path=\"url(#clip540)\" style=\"stroke:#000000; stroke-linecap:butt; stroke-linejoin:round; stroke-width:4; stroke-opacity:1; fill:none\" points=\"\n",
       "  192.941,1099.09 2352.76,1099.09 \n",
       "  \"/>\n",
       "<polyline clip-path=\"url(#clip540)\" style=\"stroke:#000000; stroke-linecap:butt; stroke-linejoin:round; stroke-width:4; stroke-opacity:1; fill:none\" points=\"\n",
       "  197.023,1099.09 197.023,1080.19 \n",
       "  \"/>\n",
       "<polyline clip-path=\"url(#clip540)\" style=\"stroke:#000000; stroke-linecap:butt; stroke-linejoin:round; stroke-width:4; stroke-opacity:1; fill:none\" points=\"\n",
       "  524.92,1099.09 524.92,1080.19 \n",
       "  \"/>\n",
       "<polyline clip-path=\"url(#clip540)\" style=\"stroke:#000000; stroke-linecap:butt; stroke-linejoin:round; stroke-width:4; stroke-opacity:1; fill:none\" points=\"\n",
       "  852.817,1099.09 852.817,1080.19 \n",
       "  \"/>\n",
       "<polyline clip-path=\"url(#clip540)\" style=\"stroke:#000000; stroke-linecap:butt; stroke-linejoin:round; stroke-width:4; stroke-opacity:1; fill:none\" points=\"\n",
       "  1180.71,1099.09 1180.71,1080.19 \n",
       "  \"/>\n",
       "<polyline clip-path=\"url(#clip540)\" style=\"stroke:#000000; stroke-linecap:butt; stroke-linejoin:round; stroke-width:4; stroke-opacity:1; fill:none\" points=\"\n",
       "  1508.61,1099.09 1508.61,1080.19 \n",
       "  \"/>\n",
       "<polyline clip-path=\"url(#clip540)\" style=\"stroke:#000000; stroke-linecap:butt; stroke-linejoin:round; stroke-width:4; stroke-opacity:1; fill:none\" points=\"\n",
       "  1836.51,1099.09 1836.51,1080.19 \n",
       "  \"/>\n",
       "<polyline clip-path=\"url(#clip540)\" style=\"stroke:#000000; stroke-linecap:butt; stroke-linejoin:round; stroke-width:4; stroke-opacity:1; fill:none\" points=\"\n",
       "  2164.41,1099.09 2164.41,1080.19 \n",
       "  \"/>\n",
       "<path clip-path=\"url(#clip540)\" d=\"M144.049 1144.66 L173.724 1144.66 L173.724 1148.59 L144.049 1148.59 L144.049 1144.66 Z\" fill=\"#000000\" fill-rule=\"evenodd\" fill-opacity=\"1\" /><path clip-path=\"url(#clip540)\" d=\"M184.627 1157.55 L192.266 1157.55 L192.266 1131.19 L183.956 1132.85 L183.956 1128.59 L192.22 1126.93 L196.895 1126.93 L196.895 1157.55 L204.534 1157.55 L204.534 1161.49 L184.627 1161.49 L184.627 1157.55 Z\" fill=\"#000000\" fill-rule=\"evenodd\" fill-opacity=\"1\" /><path clip-path=\"url(#clip540)\" d=\"M213.979 1155.61 L218.863 1155.61 L218.863 1161.49 L213.979 1161.49 L213.979 1155.61 Z\" fill=\"#000000\" fill-rule=\"evenodd\" fill-opacity=\"1\" /><path clip-path=\"url(#clip540)\" d=\"M229.094 1126.93 L247.451 1126.93 L247.451 1130.86 L233.377 1130.86 L233.377 1139.34 Q234.395 1138.99 235.414 1138.83 Q236.432 1138.64 237.451 1138.64 Q243.238 1138.64 246.617 1141.81 Q249.997 1144.98 249.997 1150.4 Q249.997 1155.98 246.525 1159.08 Q243.053 1162.16 236.733 1162.16 Q234.557 1162.16 232.289 1161.79 Q230.043 1161.42 227.636 1160.68 L227.636 1155.98 Q229.719 1157.11 231.942 1157.67 Q234.164 1158.22 236.641 1158.22 Q240.645 1158.22 242.983 1156.12 Q245.321 1154.01 245.321 1150.4 Q245.321 1146.79 242.983 1144.68 Q240.645 1142.58 236.641 1142.58 Q234.766 1142.58 232.891 1142.99 Q231.039 1143.41 229.094 1144.29 L229.094 1126.93 Z\" fill=\"#000000\" fill-rule=\"evenodd\" fill-opacity=\"1\" /><path clip-path=\"url(#clip540)\" d=\"M471.448 1144.66 L501.124 1144.66 L501.124 1148.59 L471.448 1148.59 L471.448 1144.66 Z\" fill=\"#000000\" fill-rule=\"evenodd\" fill-opacity=\"1\" /><path clip-path=\"url(#clip540)\" d=\"M512.026 1157.55 L519.665 1157.55 L519.665 1131.19 L511.355 1132.85 L511.355 1128.59 L519.619 1126.93 L524.295 1126.93 L524.295 1157.55 L531.934 1157.55 L531.934 1161.49 L512.026 1161.49 L512.026 1157.55 Z\" fill=\"#000000\" fill-rule=\"evenodd\" fill-opacity=\"1\" /><path clip-path=\"url(#clip540)\" d=\"M541.378 1155.61 L546.262 1155.61 L546.262 1161.49 L541.378 1161.49 L541.378 1155.61 Z\" fill=\"#000000\" fill-rule=\"evenodd\" fill-opacity=\"1\" /><path clip-path=\"url(#clip540)\" d=\"M566.447 1130.01 Q562.836 1130.01 561.008 1133.57 Q559.202 1137.11 559.202 1144.24 Q559.202 1151.35 561.008 1154.91 Q562.836 1158.46 566.447 1158.46 Q570.082 1158.46 571.887 1154.91 Q573.716 1151.35 573.716 1144.24 Q573.716 1137.11 571.887 1133.57 Q570.082 1130.01 566.447 1130.01 M566.447 1126.3 Q572.258 1126.3 575.313 1130.91 Q578.392 1135.49 578.392 1144.24 Q578.392 1152.97 575.313 1157.58 Q572.258 1162.16 566.447 1162.16 Q560.637 1162.16 557.559 1157.58 Q554.503 1152.97 554.503 1144.24 Q554.503 1135.49 557.559 1130.91 Q560.637 1126.3 566.447 1126.3 Z\" fill=\"#000000\" fill-rule=\"evenodd\" fill-opacity=\"1\" /><path clip-path=\"url(#clip540)\" d=\"M799.843 1144.66 L829.518 1144.66 L829.518 1148.59 L799.843 1148.59 L799.843 1144.66 Z\" fill=\"#000000\" fill-rule=\"evenodd\" fill-opacity=\"1\" /><path clip-path=\"url(#clip540)\" d=\"M849.611 1130.01 Q846 1130.01 844.171 1133.57 Q842.366 1137.11 842.366 1144.24 Q842.366 1151.35 844.171 1154.91 Q846 1158.46 849.611 1158.46 Q853.245 1158.46 855.051 1154.91 Q856.879 1151.35 856.879 1144.24 Q856.879 1137.11 855.051 1133.57 Q853.245 1130.01 849.611 1130.01 M849.611 1126.3 Q855.421 1126.3 858.477 1130.91 Q861.555 1135.49 861.555 1144.24 Q861.555 1152.97 858.477 1157.58 Q855.421 1162.16 849.611 1162.16 Q843.801 1162.16 840.722 1157.58 Q837.667 1152.97 837.667 1144.24 Q837.667 1135.49 840.722 1130.91 Q843.801 1126.3 849.611 1126.3 Z\" fill=\"#000000\" fill-rule=\"evenodd\" fill-opacity=\"1\" /><path clip-path=\"url(#clip540)\" d=\"M869.773 1155.61 L874.657 1155.61 L874.657 1161.49 L869.773 1161.49 L869.773 1155.61 Z\" fill=\"#000000\" fill-rule=\"evenodd\" fill-opacity=\"1\" /><path clip-path=\"url(#clip540)\" d=\"M884.888 1126.93 L903.245 1126.93 L903.245 1130.86 L889.171 1130.86 L889.171 1139.34 Q890.189 1138.99 891.208 1138.83 Q892.226 1138.64 893.245 1138.64 Q899.032 1138.64 902.412 1141.81 Q905.791 1144.98 905.791 1150.4 Q905.791 1155.98 902.319 1159.08 Q898.847 1162.16 892.527 1162.16 Q890.351 1162.16 888.083 1161.79 Q885.838 1161.42 883.43 1160.68 L883.43 1155.98 Q885.513 1157.11 887.736 1157.67 Q889.958 1158.22 892.435 1158.22 Q896.439 1158.22 898.777 1156.12 Q901.115 1154.01 901.115 1150.4 Q901.115 1146.79 898.777 1144.68 Q896.439 1142.58 892.435 1142.58 Q890.56 1142.58 888.685 1142.99 Q886.833 1143.41 884.888 1144.29 L884.888 1126.93 Z\" fill=\"#000000\" fill-rule=\"evenodd\" fill-opacity=\"1\" /><path clip-path=\"url(#clip540)\" d=\"M1158.1 1130.01 Q1154.49 1130.01 1152.66 1133.57 Q1150.85 1137.11 1150.85 1144.24 Q1150.85 1151.35 1152.66 1154.91 Q1154.49 1158.46 1158.1 1158.46 Q1161.73 1158.46 1163.54 1154.91 Q1165.37 1151.35 1165.37 1144.24 Q1165.37 1137.11 1163.54 1133.57 Q1161.73 1130.01 1158.1 1130.01 M1158.1 1126.3 Q1163.91 1126.3 1166.96 1130.91 Q1170.04 1135.49 1170.04 1144.24 Q1170.04 1152.97 1166.96 1157.58 Q1163.91 1162.16 1158.1 1162.16 Q1152.29 1162.16 1149.21 1157.58 Q1146.15 1152.97 1146.15 1144.24 Q1146.15 1135.49 1149.21 1130.91 Q1152.29 1126.3 1158.1 1126.3 Z\" fill=\"#000000\" fill-rule=\"evenodd\" fill-opacity=\"1\" /><path clip-path=\"url(#clip540)\" d=\"M1178.26 1155.61 L1183.14 1155.61 L1183.14 1161.49 L1178.26 1161.49 L1178.26 1155.61 Z\" fill=\"#000000\" fill-rule=\"evenodd\" fill-opacity=\"1\" /><path clip-path=\"url(#clip540)\" d=\"M1203.33 1130.01 Q1199.72 1130.01 1197.89 1133.57 Q1196.08 1137.11 1196.08 1144.24 Q1196.08 1151.35 1197.89 1154.91 Q1199.72 1158.46 1203.33 1158.46 Q1206.96 1158.46 1208.77 1154.91 Q1210.6 1151.35 1210.6 1144.24 Q1210.6 1137.11 1208.77 1133.57 Q1206.96 1130.01 1203.33 1130.01 M1203.33 1126.3 Q1209.14 1126.3 1212.2 1130.91 Q1215.27 1135.49 1215.27 1144.24 Q1215.27 1152.97 1212.2 1157.58 Q1209.14 1162.16 1203.33 1162.16 Q1197.52 1162.16 1194.44 1157.58 Q1191.39 1152.97 1191.39 1144.24 Q1191.39 1135.49 1194.44 1130.91 Q1197.52 1126.3 1203.33 1126.3 Z\" fill=\"#000000\" fill-rule=\"evenodd\" fill-opacity=\"1\" /><path clip-path=\"url(#clip540)\" d=\"M1486.49 1130.01 Q1482.88 1130.01 1481.05 1133.57 Q1479.25 1137.11 1479.25 1144.24 Q1479.25 1151.35 1481.05 1154.91 Q1482.88 1158.46 1486.49 1158.46 Q1490.13 1158.46 1491.93 1154.91 Q1493.76 1151.35 1493.76 1144.24 Q1493.76 1137.11 1491.93 1133.57 Q1490.13 1130.01 1486.49 1130.01 M1486.49 1126.3 Q1492.3 1126.3 1495.36 1130.91 Q1498.44 1135.49 1498.44 1144.24 Q1498.44 1152.97 1495.36 1157.58 Q1492.3 1162.16 1486.49 1162.16 Q1480.68 1162.16 1477.6 1157.58 Q1474.55 1152.97 1474.55 1144.24 Q1474.55 1135.49 1477.6 1130.91 Q1480.68 1126.3 1486.49 1126.3 Z\" fill=\"#000000\" fill-rule=\"evenodd\" fill-opacity=\"1\" /><path clip-path=\"url(#clip540)\" d=\"M1506.66 1155.61 L1511.54 1155.61 L1511.54 1161.49 L1506.66 1161.49 L1506.66 1155.61 Z\" fill=\"#000000\" fill-rule=\"evenodd\" fill-opacity=\"1\" /><path clip-path=\"url(#clip540)\" d=\"M1521.77 1126.93 L1540.13 1126.93 L1540.13 1130.86 L1526.05 1130.86 L1526.05 1139.34 Q1527.07 1138.99 1528.09 1138.83 Q1529.11 1138.64 1530.13 1138.64 Q1535.91 1138.64 1539.29 1141.81 Q1542.67 1144.98 1542.67 1150.4 Q1542.67 1155.98 1539.2 1159.08 Q1535.73 1162.16 1529.41 1162.16 Q1527.23 1162.16 1524.97 1161.79 Q1522.72 1161.42 1520.31 1160.68 L1520.31 1155.98 Q1522.4 1157.11 1524.62 1157.67 Q1526.84 1158.22 1529.32 1158.22 Q1533.32 1158.22 1535.66 1156.12 Q1538 1154.01 1538 1150.4 Q1538 1146.79 1535.66 1144.68 Q1533.32 1142.58 1529.32 1142.58 Q1527.44 1142.58 1525.57 1142.99 Q1523.72 1143.41 1521.77 1144.29 L1521.77 1126.93 Z\" fill=\"#000000\" fill-rule=\"evenodd\" fill-opacity=\"1\" /><path clip-path=\"url(#clip540)\" d=\"M1803.66 1157.55 L1811.3 1157.55 L1811.3 1131.19 L1802.99 1132.85 L1802.99 1128.59 L1811.25 1126.93 L1815.93 1126.93 L1815.93 1157.55 L1823.57 1157.55 L1823.57 1161.49 L1803.66 1161.49 L1803.66 1157.55 Z\" fill=\"#000000\" fill-rule=\"evenodd\" fill-opacity=\"1\" /><path clip-path=\"url(#clip540)\" d=\"M1833.01 1155.61 L1837.9 1155.61 L1837.9 1161.49 L1833.01 1161.49 L1833.01 1155.61 Z\" fill=\"#000000\" fill-rule=\"evenodd\" fill-opacity=\"1\" /><path clip-path=\"url(#clip540)\" d=\"M1858.08 1130.01 Q1854.47 1130.01 1852.64 1133.57 Q1850.84 1137.11 1850.84 1144.24 Q1850.84 1151.35 1852.64 1154.91 Q1854.47 1158.46 1858.08 1158.46 Q1861.72 1158.46 1863.52 1154.91 Q1865.35 1151.35 1865.35 1144.24 Q1865.35 1137.11 1863.52 1133.57 Q1861.72 1130.01 1858.08 1130.01 M1858.08 1126.3 Q1863.89 1126.3 1866.95 1130.91 Q1870.03 1135.49 1870.03 1144.24 Q1870.03 1152.97 1866.95 1157.58 Q1863.89 1162.16 1858.08 1162.16 Q1852.27 1162.16 1849.19 1157.58 Q1846.14 1152.97 1846.14 1144.24 Q1846.14 1135.49 1849.19 1130.91 Q1852.27 1126.3 1858.08 1126.3 Z\" fill=\"#000000\" fill-rule=\"evenodd\" fill-opacity=\"1\" /><path clip-path=\"url(#clip540)\" d=\"M2132.06 1157.55 L2139.69 1157.55 L2139.69 1131.19 L2131.38 1132.85 L2131.38 1128.59 L2139.65 1126.93 L2144.32 1126.93 L2144.32 1157.55 L2151.96 1157.55 L2151.96 1161.49 L2132.06 1161.49 L2132.06 1157.55 Z\" fill=\"#000000\" fill-rule=\"evenodd\" fill-opacity=\"1\" /><path clip-path=\"url(#clip540)\" d=\"M2161.41 1155.61 L2166.29 1155.61 L2166.29 1161.49 L2161.41 1161.49 L2161.41 1155.61 Z\" fill=\"#000000\" fill-rule=\"evenodd\" fill-opacity=\"1\" /><path clip-path=\"url(#clip540)\" d=\"M2176.52 1126.93 L2194.88 1126.93 L2194.88 1130.86 L2180.81 1130.86 L2180.81 1139.34 Q2181.82 1138.99 2182.84 1138.83 Q2183.86 1138.64 2184.88 1138.64 Q2190.67 1138.64 2194.05 1141.81 Q2197.43 1144.98 2197.43 1150.4 Q2197.43 1155.98 2193.95 1159.08 Q2190.48 1162.16 2184.16 1162.16 Q2181.99 1162.16 2179.72 1161.79 Q2177.47 1161.42 2175.06 1160.68 L2175.06 1155.98 Q2177.15 1157.11 2179.37 1157.67 Q2181.59 1158.22 2184.07 1158.22 Q2188.07 1158.22 2190.41 1156.12 Q2192.75 1154.01 2192.75 1150.4 Q2192.75 1146.79 2190.41 1144.68 Q2188.07 1142.58 2184.07 1142.58 Q2182.19 1142.58 2180.32 1142.99 Q2178.47 1143.41 2176.52 1144.29 L2176.52 1126.93 Z\" fill=\"#000000\" fill-rule=\"evenodd\" fill-opacity=\"1\" /><polyline clip-path=\"url(#clip542)\" style=\"stroke:#000000; stroke-linecap:butt; stroke-linejoin:round; stroke-width:2; stroke-opacity:0.1; fill:none\" points=\"\n",
       "  192.941,881.903 2352.76,881.903 \n",
       "  \"/>\n",
       "<polyline clip-path=\"url(#clip542)\" style=\"stroke:#000000; stroke-linecap:butt; stroke-linejoin:round; stroke-width:2; stroke-opacity:0.1; fill:none\" points=\"\n",
       "  192.941,617.75 2352.76,617.75 \n",
       "  \"/>\n",
       "<polyline clip-path=\"url(#clip542)\" style=\"stroke:#000000; stroke-linecap:butt; stroke-linejoin:round; stroke-width:2; stroke-opacity:0.1; fill:none\" points=\"\n",
       "  192.941,353.598 2352.76,353.598 \n",
       "  \"/>\n",
       "<polyline clip-path=\"url(#clip542)\" style=\"stroke:#000000; stroke-linecap:butt; stroke-linejoin:round; stroke-width:2; stroke-opacity:0.1; fill:none\" points=\"\n",
       "  192.941,89.4458 2352.76,89.4458 \n",
       "  \"/>\n",
       "<polyline clip-path=\"url(#clip540)\" style=\"stroke:#000000; stroke-linecap:butt; stroke-linejoin:round; stroke-width:4; stroke-opacity:1; fill:none\" points=\"\n",
       "  192.941,1099.09 192.941,47.2441 \n",
       "  \"/>\n",
       "<polyline clip-path=\"url(#clip540)\" style=\"stroke:#000000; stroke-linecap:butt; stroke-linejoin:round; stroke-width:4; stroke-opacity:1; fill:none\" points=\"\n",
       "  192.941,881.903 211.838,881.903 \n",
       "  \"/>\n",
       "<polyline clip-path=\"url(#clip540)\" style=\"stroke:#000000; stroke-linecap:butt; stroke-linejoin:round; stroke-width:4; stroke-opacity:1; fill:none\" points=\"\n",
       "  192.941,617.75 211.838,617.75 \n",
       "  \"/>\n",
       "<polyline clip-path=\"url(#clip540)\" style=\"stroke:#000000; stroke-linecap:butt; stroke-linejoin:round; stroke-width:4; stroke-opacity:1; fill:none\" points=\"\n",
       "  192.941,353.598 211.838,353.598 \n",
       "  \"/>\n",
       "<polyline clip-path=\"url(#clip540)\" style=\"stroke:#000000; stroke-linecap:butt; stroke-linejoin:round; stroke-width:4; stroke-opacity:1; fill:none\" points=\"\n",
       "  192.941,89.4458 211.838,89.4458 \n",
       "  \"/>\n",
       "<path clip-path=\"url(#clip540)\" d=\"M50.9921 882.354 L80.6679 882.354 L80.6679 886.289 L50.9921 886.289 L50.9921 882.354 Z\" fill=\"#000000\" fill-rule=\"evenodd\" fill-opacity=\"1\" /><path clip-path=\"url(#clip540)\" d=\"M100.76 867.702 Q97.1493 867.702 95.3206 871.266 Q93.515 874.808 93.515 881.938 Q93.515 889.044 95.3206 892.609 Q97.1493 896.15 100.76 896.15 Q104.395 896.15 106.2 892.609 Q108.029 889.044 108.029 881.938 Q108.029 874.808 106.2 871.266 Q104.395 867.702 100.76 867.702 M100.76 863.998 Q106.571 863.998 109.626 868.604 Q112.705 873.188 112.705 881.938 Q112.705 890.664 109.626 895.271 Q106.571 899.854 100.76 899.854 Q94.9502 899.854 91.8715 895.271 Q88.816 890.664 88.816 881.938 Q88.816 873.188 91.8715 868.604 Q94.9502 863.998 100.76 863.998 Z\" fill=\"#000000\" fill-rule=\"evenodd\" fill-opacity=\"1\" /><path clip-path=\"url(#clip540)\" d=\"M120.922 893.303 L125.807 893.303 L125.807 899.183 L120.922 899.183 L120.922 893.303 Z\" fill=\"#000000\" fill-rule=\"evenodd\" fill-opacity=\"1\" /><path clip-path=\"url(#clip540)\" d=\"M136.038 864.623 L154.394 864.623 L154.394 868.558 L140.32 868.558 L140.32 877.03 Q141.339 876.683 142.357 876.521 Q143.376 876.336 144.394 876.336 Q150.181 876.336 153.561 879.507 Q156.941 882.678 156.941 888.095 Q156.941 893.674 153.468 896.775 Q149.996 899.854 143.677 899.854 Q141.501 899.854 139.232 899.484 Q136.987 899.113 134.58 898.373 L134.58 893.674 Q136.663 894.808 138.885 895.363 Q141.107 895.919 143.584 895.919 Q147.589 895.919 149.927 893.812 Q152.265 891.706 152.265 888.095 Q152.265 884.484 149.927 882.377 Q147.589 880.271 143.584 880.271 Q141.709 880.271 139.834 880.688 Q137.982 881.104 136.038 881.984 L136.038 864.623 Z\" fill=\"#000000\" fill-rule=\"evenodd\" fill-opacity=\"1\" /><path clip-path=\"url(#clip540)\" d=\"M99.765 603.549 Q96.1539 603.549 94.3252 607.114 Q92.5197 610.656 92.5197 617.785 Q92.5197 624.892 94.3252 628.456 Q96.1539 631.998 99.765 631.998 Q103.399 631.998 105.205 628.456 Q107.033 624.892 107.033 617.785 Q107.033 610.656 105.205 607.114 Q103.399 603.549 99.765 603.549 M99.765 599.845 Q105.575 599.845 108.631 604.452 Q111.709 609.035 111.709 617.785 Q111.709 626.512 108.631 631.118 Q105.575 635.702 99.765 635.702 Q93.9549 635.702 90.8762 631.118 Q87.8206 626.512 87.8206 617.785 Q87.8206 609.035 90.8762 604.452 Q93.9549 599.845 99.765 599.845 Z\" fill=\"#000000\" fill-rule=\"evenodd\" fill-opacity=\"1\" /><path clip-path=\"url(#clip540)\" d=\"M119.927 629.151 L124.811 629.151 L124.811 635.03 L119.927 635.03 L119.927 629.151 Z\" fill=\"#000000\" fill-rule=\"evenodd\" fill-opacity=\"1\" /><path clip-path=\"url(#clip540)\" d=\"M144.996 603.549 Q141.385 603.549 139.556 607.114 Q137.751 610.656 137.751 617.785 Q137.751 624.892 139.556 628.456 Q141.385 631.998 144.996 631.998 Q148.63 631.998 150.436 628.456 Q152.265 624.892 152.265 617.785 Q152.265 610.656 150.436 607.114 Q148.63 603.549 144.996 603.549 M144.996 599.845 Q150.806 599.845 153.862 604.452 Q156.941 609.035 156.941 617.785 Q156.941 626.512 153.862 631.118 Q150.806 635.702 144.996 635.702 Q139.186 635.702 136.107 631.118 Q133.052 626.512 133.052 617.785 Q133.052 609.035 136.107 604.452 Q139.186 599.845 144.996 599.845 Z\" fill=\"#000000\" fill-rule=\"evenodd\" fill-opacity=\"1\" /><path clip-path=\"url(#clip540)\" d=\"M100.76 339.397 Q97.1493 339.397 95.3206 342.962 Q93.515 346.503 93.515 353.633 Q93.515 360.739 95.3206 364.304 Q97.1493 367.846 100.76 367.846 Q104.395 367.846 106.2 364.304 Q108.029 360.739 108.029 353.633 Q108.029 346.503 106.2 342.962 Q104.395 339.397 100.76 339.397 M100.76 335.693 Q106.571 335.693 109.626 340.3 Q112.705 344.883 112.705 353.633 Q112.705 362.36 109.626 366.966 Q106.571 371.549 100.76 371.549 Q94.9502 371.549 91.8715 366.966 Q88.816 362.36 88.816 353.633 Q88.816 344.883 91.8715 340.3 Q94.9502 335.693 100.76 335.693 Z\" fill=\"#000000\" fill-rule=\"evenodd\" fill-opacity=\"1\" /><path clip-path=\"url(#clip540)\" d=\"M120.922 364.999 L125.807 364.999 L125.807 370.878 L120.922 370.878 L120.922 364.999 Z\" fill=\"#000000\" fill-rule=\"evenodd\" fill-opacity=\"1\" /><path clip-path=\"url(#clip540)\" d=\"M136.038 336.318 L154.394 336.318 L154.394 340.253 L140.32 340.253 L140.32 348.725 Q141.339 348.378 142.357 348.216 Q143.376 348.031 144.394 348.031 Q150.181 348.031 153.561 351.202 Q156.941 354.374 156.941 359.79 Q156.941 365.369 153.468 368.471 Q149.996 371.549 143.677 371.549 Q141.501 371.549 139.232 371.179 Q136.987 370.809 134.58 370.068 L134.58 365.369 Q136.663 366.503 138.885 367.059 Q141.107 367.614 143.584 367.614 Q147.589 367.614 149.927 365.508 Q152.265 363.401 152.265 359.79 Q152.265 356.179 149.927 354.073 Q147.589 351.966 143.584 351.966 Q141.709 351.966 139.834 352.383 Q137.982 352.8 136.038 353.679 L136.038 336.318 Z\" fill=\"#000000\" fill-rule=\"evenodd\" fill-opacity=\"1\" /><path clip-path=\"url(#clip540)\" d=\"M90.5752 102.791 L98.2141 102.791 L98.2141 76.425 L89.904 78.0917 L89.904 73.8324 L98.1678 72.1658 L102.844 72.1658 L102.844 102.791 L110.483 102.791 L110.483 106.726 L90.5752 106.726 L90.5752 102.791 Z\" fill=\"#000000\" fill-rule=\"evenodd\" fill-opacity=\"1\" /><path clip-path=\"url(#clip540)\" d=\"M119.927 100.846 L124.811 100.846 L124.811 106.726 L119.927 106.726 L119.927 100.846 Z\" fill=\"#000000\" fill-rule=\"evenodd\" fill-opacity=\"1\" /><path clip-path=\"url(#clip540)\" d=\"M144.996 75.2445 Q141.385 75.2445 139.556 78.8093 Q137.751 82.3509 137.751 89.4805 Q137.751 96.587 139.556 100.152 Q141.385 103.693 144.996 103.693 Q148.63 103.693 150.436 100.152 Q152.265 96.587 152.265 89.4805 Q152.265 82.3509 150.436 78.8093 Q148.63 75.2445 144.996 75.2445 M144.996 71.5408 Q150.806 71.5408 153.862 76.1472 Q156.941 80.7306 156.941 89.4805 Q156.941 98.2073 153.862 102.814 Q150.806 107.397 144.996 107.397 Q139.186 107.397 136.107 102.814 Q133.052 98.2073 133.052 89.4805 Q133.052 80.7306 136.107 76.1472 Q139.186 71.5408 144.996 71.5408 Z\" fill=\"#000000\" fill-rule=\"evenodd\" fill-opacity=\"1\" /><circle clip-path=\"url(#clip542)\" cx=\"838.081\" cy=\"716.258\" r=\"14\" fill=\"#cd5c5c\" fill-rule=\"evenodd\" fill-opacity=\"1\" stroke=\"#000000\" stroke-opacity=\"1\" stroke-width=\"2.4\"/>\n",
       "<circle clip-path=\"url(#clip542)\" cx=\"1425.26\" cy=\"597.647\" r=\"14\" fill=\"#cd5c5c\" fill-rule=\"evenodd\" fill-opacity=\"1\" stroke=\"#000000\" stroke-opacity=\"1\" stroke-width=\"2.4\"/>\n",
       "<circle clip-path=\"url(#clip542)\" cx=\"2233.95\" cy=\"187.248\" r=\"14\" fill=\"#cd5c5c\" fill-rule=\"evenodd\" fill-opacity=\"1\" stroke=\"#000000\" stroke-opacity=\"1\" stroke-width=\"2.4\"/>\n",
       "<circle clip-path=\"url(#clip542)\" cx=\"1567.26\" cy=\"569.909\" r=\"14\" fill=\"#cd5c5c\" fill-rule=\"evenodd\" fill-opacity=\"1\" stroke=\"#000000\" stroke-opacity=\"1\" stroke-width=\"2.4\"/>\n",
       "<circle clip-path=\"url(#clip542)\" cx=\"1915.26\" cy=\"435.192\" r=\"14\" fill=\"#cd5c5c\" fill-rule=\"evenodd\" fill-opacity=\"1\" stroke=\"#000000\" stroke-opacity=\"1\" stroke-width=\"2.4\"/>\n",
       "<circle clip-path=\"url(#clip542)\" cx=\"1596.15\" cy=\"512.296\" r=\"14\" fill=\"#cd5c5c\" fill-rule=\"evenodd\" fill-opacity=\"1\" stroke=\"#000000\" stroke-opacity=\"1\" stroke-width=\"2.4\"/>\n",
       "<circle clip-path=\"url(#clip542)\" cx=\"1857.49\" cy=\"447.201\" r=\"14\" fill=\"#cd5c5c\" fill-rule=\"evenodd\" fill-opacity=\"1\" stroke=\"#000000\" stroke-opacity=\"1\" stroke-width=\"2.4\"/>\n",
       "<circle clip-path=\"url(#clip542)\" cx=\"1541.04\" cy=\"312.514\" r=\"14\" fill=\"#cd5c5c\" fill-rule=\"evenodd\" fill-opacity=\"1\" stroke=\"#000000\" stroke-opacity=\"1\" stroke-width=\"2.4\"/>\n",
       "<circle clip-path=\"url(#clip542)\" cx=\"989.81\" cy=\"992.921\" r=\"14\" fill=\"#cd5c5c\" fill-rule=\"evenodd\" fill-opacity=\"1\" stroke=\"#000000\" stroke-opacity=\"1\" stroke-width=\"2.4\"/>\n",
       "<circle clip-path=\"url(#clip542)\" cx=\"1216.61\" cy=\"921.409\" r=\"14\" fill=\"#cd5c5c\" fill-rule=\"evenodd\" fill-opacity=\"1\" stroke=\"#000000\" stroke-opacity=\"1\" stroke-width=\"2.4\"/>\n",
       "<circle clip-path=\"url(#clip542)\" cx=\"2163.21\" cy=\"339.056\" r=\"14\" fill=\"#cd5c5c\" fill-rule=\"evenodd\" fill-opacity=\"1\" stroke=\"#000000\" stroke-opacity=\"1\" stroke-width=\"2.4\"/>\n",
       "<circle clip-path=\"url(#clip542)\" cx=\"1381.16\" cy=\"596.118\" r=\"14\" fill=\"#cd5c5c\" fill-rule=\"evenodd\" fill-opacity=\"1\" stroke=\"#000000\" stroke-opacity=\"1\" stroke-width=\"2.4\"/>\n",
       "<circle clip-path=\"url(#clip542)\" cx=\"2189.91\" cy=\"117.145\" r=\"14\" fill=\"#cd5c5c\" fill-rule=\"evenodd\" fill-opacity=\"1\" stroke=\"#000000\" stroke-opacity=\"1\" stroke-width=\"2.4\"/>\n",
       "<circle clip-path=\"url(#clip542)\" cx=\"2291.63\" cy=\"77.0133\" r=\"14\" fill=\"#cd5c5c\" fill-rule=\"evenodd\" fill-opacity=\"1\" stroke=\"#000000\" stroke-opacity=\"1\" stroke-width=\"2.4\"/>\n",
       "<circle clip-path=\"url(#clip542)\" cx=\"2008.3\" cy=\"299.436\" r=\"14\" fill=\"#cd5c5c\" fill-rule=\"evenodd\" fill-opacity=\"1\" stroke=\"#000000\" stroke-opacity=\"1\" stroke-width=\"2.4\"/>\n",
       "<circle clip-path=\"url(#clip542)\" cx=\"1215.17\" cy=\"730.072\" r=\"14\" fill=\"#cd5c5c\" fill-rule=\"evenodd\" fill-opacity=\"1\" stroke=\"#000000\" stroke-opacity=\"1\" stroke-width=\"2.4\"/>\n",
       "<circle clip-path=\"url(#clip542)\" cx=\"1540.27\" cy=\"502.213\" r=\"14\" fill=\"#cd5c5c\" fill-rule=\"evenodd\" fill-opacity=\"1\" stroke=\"#000000\" stroke-opacity=\"1\" stroke-width=\"2.4\"/>\n",
       "<circle clip-path=\"url(#clip542)\" cx=\"1934\" cy=\"154.618\" r=\"14\" fill=\"#cd5c5c\" fill-rule=\"evenodd\" fill-opacity=\"1\" stroke=\"#000000\" stroke-opacity=\"1\" stroke-width=\"2.4\"/>\n",
       "<circle clip-path=\"url(#clip542)\" cx=\"1719.8\" cy=\"309.143\" r=\"14\" fill=\"#cd5c5c\" fill-rule=\"evenodd\" fill-opacity=\"1\" stroke=\"#000000\" stroke-opacity=\"1\" stroke-width=\"2.4\"/>\n",
       "<circle clip-path=\"url(#clip542)\" cx=\"1618.55\" cy=\"401.591\" r=\"14\" fill=\"#cd5c5c\" fill-rule=\"evenodd\" fill-opacity=\"1\" stroke=\"#000000\" stroke-opacity=\"1\" stroke-width=\"2.4\"/>\n",
       "<circle clip-path=\"url(#clip542)\" cx=\"1613.42\" cy=\"340.158\" r=\"14\" fill=\"#cd5c5c\" fill-rule=\"evenodd\" fill-opacity=\"1\" stroke=\"#000000\" stroke-opacity=\"1\" stroke-width=\"2.4\"/>\n",
       "<circle clip-path=\"url(#clip542)\" cx=\"1762.4\" cy=\"335.399\" r=\"14\" fill=\"#cd5c5c\" fill-rule=\"evenodd\" fill-opacity=\"1\" stroke=\"#000000\" stroke-opacity=\"1\" stroke-width=\"2.4\"/>\n",
       "<circle clip-path=\"url(#clip542)\" cx=\"1894.99\" cy=\"134.087\" r=\"14\" fill=\"#cd5c5c\" fill-rule=\"evenodd\" fill-opacity=\"1\" stroke=\"#000000\" stroke-opacity=\"1\" stroke-width=\"2.4\"/>\n",
       "<circle clip-path=\"url(#clip542)\" cx=\"2231.24\" cy=\"121.758\" r=\"14\" fill=\"#cd5c5c\" fill-rule=\"evenodd\" fill-opacity=\"1\" stroke=\"#000000\" stroke-opacity=\"1\" stroke-width=\"2.4\"/>\n",
       "<circle clip-path=\"url(#clip542)\" cx=\"302.74\" cy=\"864.541\" r=\"14\" fill=\"#4682b4\" fill-rule=\"evenodd\" fill-opacity=\"1\" stroke=\"#000000\" stroke-opacity=\"1\" stroke-width=\"2.4\"/>\n",
       "<circle clip-path=\"url(#clip542)\" cx=\"1028.53\" cy=\"546.908\" r=\"14\" fill=\"#4682b4\" fill-rule=\"evenodd\" fill-opacity=\"1\" stroke=\"#000000\" stroke-opacity=\"1\" stroke-width=\"2.4\"/>\n",
       "<circle clip-path=\"url(#clip542)\" cx=\"801.165\" cy=\"669.541\" r=\"14\" fill=\"#4682b4\" fill-rule=\"evenodd\" fill-opacity=\"1\" stroke=\"#000000\" stroke-opacity=\"1\" stroke-width=\"2.4\"/>\n",
       "<circle clip-path=\"url(#clip542)\" cx=\"512.021\" cy=\"712.07\" r=\"14\" fill=\"#4682b4\" fill-rule=\"evenodd\" fill-opacity=\"1\" stroke=\"#000000\" stroke-opacity=\"1\" stroke-width=\"2.4\"/>\n",
       "<circle clip-path=\"url(#clip542)\" cx=\"793.021\" cy=\"1069.32\" r=\"14\" fill=\"#4682b4\" fill-rule=\"evenodd\" fill-opacity=\"1\" stroke=\"#000000\" stroke-opacity=\"1\" stroke-width=\"2.4\"/>\n",
       "<circle clip-path=\"url(#clip542)\" cx=\"569.544\" cy=\"795.046\" r=\"14\" fill=\"#4682b4\" fill-rule=\"evenodd\" fill-opacity=\"1\" stroke=\"#000000\" stroke-opacity=\"1\" stroke-width=\"2.4\"/>\n",
       "<circle clip-path=\"url(#clip542)\" cx=\"738.745\" cy=\"908.901\" r=\"14\" fill=\"#4682b4\" fill-rule=\"evenodd\" fill-opacity=\"1\" stroke=\"#000000\" stroke-opacity=\"1\" stroke-width=\"2.4\"/>\n",
       "<circle clip-path=\"url(#clip542)\" cx=\"840.855\" cy=\"814.927\" r=\"14\" fill=\"#4682b4\" fill-rule=\"evenodd\" fill-opacity=\"1\" stroke=\"#000000\" stroke-opacity=\"1\" stroke-width=\"2.4\"/>\n",
       "<circle clip-path=\"url(#clip542)\" cx=\"548.828\" cy=\"1022.59\" r=\"14\" fill=\"#4682b4\" fill-rule=\"evenodd\" fill-opacity=\"1\" stroke=\"#000000\" stroke-opacity=\"1\" stroke-width=\"2.4\"/>\n",
       "<circle clip-path=\"url(#clip542)\" cx=\"912.585\" cy=\"903.105\" r=\"14\" fill=\"#4682b4\" fill-rule=\"evenodd\" fill-opacity=\"1\" stroke=\"#000000\" stroke-opacity=\"1\" stroke-width=\"2.4\"/>\n",
       "<circle clip-path=\"url(#clip542)\" cx=\"705.281\" cy=\"856.462\" r=\"14\" fill=\"#4682b4\" fill-rule=\"evenodd\" fill-opacity=\"1\" stroke=\"#000000\" stroke-opacity=\"1\" stroke-width=\"2.4\"/>\n",
       "<circle clip-path=\"url(#clip542)\" cx=\"406.211\" cy=\"946.684\" r=\"14\" fill=\"#4682b4\" fill-rule=\"evenodd\" fill-opacity=\"1\" stroke=\"#000000\" stroke-opacity=\"1\" stroke-width=\"2.4\"/>\n",
       "<circle clip-path=\"url(#clip542)\" cx=\"254.067\" cy=\"1029.99\" r=\"14\" fill=\"#4682b4\" fill-rule=\"evenodd\" fill-opacity=\"1\" stroke=\"#000000\" stroke-opacity=\"1\" stroke-width=\"2.4\"/>\n",
       "<circle clip-path=\"url(#clip542)\" cx=\"519.528\" cy=\"753.656\" r=\"14\" fill=\"#4682b4\" fill-rule=\"evenodd\" fill-opacity=\"1\" stroke=\"#000000\" stroke-opacity=\"1\" stroke-width=\"2.4\"/>\n",
       "<circle clip-path=\"url(#clip542)\" cx=\"403.73\" cy=\"1025.07\" r=\"14\" fill=\"#4682b4\" fill-rule=\"evenodd\" fill-opacity=\"1\" stroke=\"#000000\" stroke-opacity=\"1\" stroke-width=\"2.4\"/>\n",
       "<circle clip-path=\"url(#clip542)\" cx=\"527.964\" cy=\"865.783\" r=\"14\" fill=\"#4682b4\" fill-rule=\"evenodd\" fill-opacity=\"1\" stroke=\"#000000\" stroke-opacity=\"1\" stroke-width=\"2.4\"/>\n",
       "<circle clip-path=\"url(#clip542)\" cx=\"517.588\" cy=\"660.753\" r=\"14\" fill=\"#4682b4\" fill-rule=\"evenodd\" fill-opacity=\"1\" stroke=\"#000000\" stroke-opacity=\"1\" stroke-width=\"2.4\"/>\n",
       "<circle clip-path=\"url(#clip542)\" cx=\"342.479\" cy=\"806.87\" r=\"14\" fill=\"#4682b4\" fill-rule=\"evenodd\" fill-opacity=\"1\" stroke=\"#000000\" stroke-opacity=\"1\" stroke-width=\"2.4\"/>\n",
       "<circle clip-path=\"url(#clip542)\" cx=\"1221.43\" cy=\"790.086\" r=\"14\" fill=\"#4682b4\" fill-rule=\"evenodd\" fill-opacity=\"1\" stroke=\"#000000\" stroke-opacity=\"1\" stroke-width=\"2.4\"/>\n",
       "<circle clip-path=\"url(#clip542)\" cx=\"883.891\" cy=\"709.148\" r=\"14\" fill=\"#4682b4\" fill-rule=\"evenodd\" fill-opacity=\"1\" stroke=\"#000000\" stroke-opacity=\"1\" stroke-width=\"2.4\"/>\n",
       "<circle clip-path=\"url(#clip542)\" cx=\"750.75\" cy=\"782.086\" r=\"14\" fill=\"#4682b4\" fill-rule=\"evenodd\" fill-opacity=\"1\" stroke=\"#000000\" stroke-opacity=\"1\" stroke-width=\"2.4\"/>\n",
       "<circle clip-path=\"url(#clip542)\" cx=\"858.951\" cy=\"341.683\" r=\"14\" fill=\"#4682b4\" fill-rule=\"evenodd\" fill-opacity=\"1\" stroke=\"#000000\" stroke-opacity=\"1\" stroke-width=\"2.4\"/>\n",
       "<circle clip-path=\"url(#clip542)\" cx=\"696.389\" cy=\"739.637\" r=\"14\" fill=\"#4682b4\" fill-rule=\"evenodd\" fill-opacity=\"1\" stroke=\"#000000\" stroke-opacity=\"1\" stroke-width=\"2.4\"/>\n",
       "<circle clip-path=\"url(#clip542)\" cx=\"1034.06\" cy=\"948.818\" r=\"14\" fill=\"#4682b4\" fill-rule=\"evenodd\" fill-opacity=\"1\" stroke=\"#000000\" stroke-opacity=\"1\" stroke-width=\"2.4\"/>\n",
       "<circle clip-path=\"url(#clip542)\" cx=\"1454.9\" cy=\"379.871\" r=\"14\" fill=\"#4682b4\" fill-rule=\"evenodd\" fill-opacity=\"1\" stroke=\"#000000\" stroke-opacity=\"1\" stroke-width=\"2.4\"/>\n",
       "<circle clip-path=\"url(#clip542)\" cx=\"665.47\" cy=\"793.572\" r=\"14\" fill=\"#4682b4\" fill-rule=\"evenodd\" fill-opacity=\"1\" stroke=\"#000000\" stroke-opacity=\"1\" stroke-width=\"2.4\"/>\n",
       "<path clip-path=\"url(#clip540)\" d=\"\n",
       "M1886.85 237.826 L2280.76 237.826 L2280.76 82.3056 L1886.85 82.3056  Z\n",
       "  \" fill=\"#ffffff\" fill-rule=\"evenodd\" fill-opacity=\"1\"/>\n",
       "<polyline clip-path=\"url(#clip540)\" style=\"stroke:#000000; stroke-linecap:butt; stroke-linejoin:round; stroke-width:4; stroke-opacity:1; fill:none\" points=\"\n",
       "  1886.85,237.826 2280.76,237.826 2280.76,82.3056 1886.85,82.3056 1886.85,237.826 \n",
       "  \"/>\n",
       "<circle clip-path=\"url(#clip540)\" cx=\"1982.84\" cy=\"134.146\" r=\"23\" fill=\"#cd5c5c\" fill-rule=\"evenodd\" fill-opacity=\"1\" stroke=\"#000000\" stroke-opacity=\"1\" stroke-width=\"3.84\"/>\n",
       "<path clip-path=\"url(#clip540)\" d=\"M2106.7 119.528 L2106.7 124.458 Q2104.34 122.259 2101.66 121.171 Q2098.99 120.083 2095.98 120.083 Q2090.06 120.083 2086.91 123.717 Q2083.76 127.328 2083.76 134.18 Q2083.76 141.009 2086.91 144.643 Q2090.06 148.254 2095.98 148.254 Q2098.99 148.254 2101.66 147.166 Q2104.34 146.078 2106.7 143.879 L2106.7 148.764 Q2104.25 150.43 2101.49 151.264 Q2098.76 152.097 2095.71 152.097 Q2087.86 152.097 2083.35 147.305 Q2078.83 142.49 2078.83 134.18 Q2078.83 125.847 2083.35 121.055 Q2087.86 116.241 2095.71 116.241 Q2098.81 116.241 2101.54 117.074 Q2104.29 117.884 2106.7 119.528 Z\" fill=\"#000000\" fill-rule=\"evenodd\" fill-opacity=\"1\" /><path clip-path=\"url(#clip540)\" d=\"M2123.79 128.486 Q2120.36 128.486 2118.37 131.171 Q2116.38 133.833 2116.38 138.486 Q2116.38 143.139 2118.35 145.824 Q2120.34 148.486 2123.79 148.486 Q2127.19 148.486 2129.18 145.801 Q2131.17 143.115 2131.17 138.486 Q2131.17 133.879 2129.18 131.194 Q2127.19 128.486 2123.79 128.486 M2123.79 124.875 Q2129.34 124.875 2132.51 128.486 Q2135.68 132.097 2135.68 138.486 Q2135.68 144.852 2132.51 148.486 Q2129.34 152.097 2123.79 152.097 Q2118.21 152.097 2115.04 148.486 Q2111.89 144.852 2111.89 138.486 Q2111.89 132.097 2115.04 128.486 Q2118.21 124.875 2123.79 124.875 Z\" fill=\"#000000\" fill-rule=\"evenodd\" fill-opacity=\"1\" /><path clip-path=\"url(#clip540)\" d=\"M2154.53 138.393 Q2149.36 138.393 2147.37 139.574 Q2145.38 140.754 2145.38 143.602 Q2145.38 145.87 2146.86 147.213 Q2148.37 148.532 2150.94 148.532 Q2154.48 148.532 2156.61 146.032 Q2158.76 143.509 2158.76 139.342 L2158.76 138.393 L2154.53 138.393 M2163.02 136.634 L2163.02 151.426 L2158.76 151.426 L2158.76 147.49 Q2157.3 149.851 2155.13 150.986 Q2152.95 152.097 2149.8 152.097 Q2145.82 152.097 2143.46 149.875 Q2141.12 147.629 2141.12 143.879 Q2141.12 139.504 2144.04 137.282 Q2146.98 135.06 2152.79 135.06 L2158.76 135.06 L2158.76 134.643 Q2158.76 131.703 2156.82 130.106 Q2154.9 128.486 2151.4 128.486 Q2149.18 128.486 2147.07 129.018 Q2144.97 129.551 2143.02 130.615 L2143.02 126.68 Q2145.36 125.778 2147.56 125.338 Q2149.76 124.875 2151.84 124.875 Q2157.47 124.875 2160.24 127.791 Q2163.02 130.708 2163.02 136.634 Z\" fill=\"#000000\" fill-rule=\"evenodd\" fill-opacity=\"1\" /><path clip-path=\"url(#clip540)\" d=\"M2176.01 118.139 L2176.01 125.5 L2184.78 125.5 L2184.78 128.81 L2176.01 128.81 L2176.01 142.884 Q2176.01 146.055 2176.86 146.958 Q2177.74 147.861 2180.41 147.861 L2184.78 147.861 L2184.78 151.426 L2180.41 151.426 Q2175.47 151.426 2173.6 149.597 Q2171.72 147.745 2171.72 142.884 L2171.72 128.81 L2168.6 128.81 L2168.6 125.5 L2171.72 125.5 L2171.72 118.139 L2176.01 118.139 Z\" fill=\"#000000\" fill-rule=\"evenodd\" fill-opacity=\"1\" /><circle clip-path=\"url(#clip540)\" cx=\"1982.84\" cy=\"185.986\" r=\"23\" fill=\"#4682b4\" fill-rule=\"evenodd\" fill-opacity=\"1\" stroke=\"#000000\" stroke-opacity=\"1\" stroke-width=\"3.84\"/>\n",
       "<path clip-path=\"url(#clip540)\" d=\"M2101.08 169.84 L2101.08 174.4 Q2098.42 173.127 2096.05 172.502 Q2093.69 171.877 2091.49 171.877 Q2087.67 171.877 2085.59 173.358 Q2083.53 174.84 2083.53 177.571 Q2083.53 179.863 2084.9 181.043 Q2086.29 182.201 2090.13 182.918 L2092.95 183.497 Q2098.18 184.493 2100.66 187.016 Q2103.16 189.516 2103.16 193.729 Q2103.16 198.752 2099.78 201.344 Q2096.42 203.937 2089.92 203.937 Q2087.47 203.937 2084.69 203.381 Q2081.93 202.826 2078.97 201.738 L2078.97 196.923 Q2081.82 198.52 2084.55 199.33 Q2087.28 200.141 2089.92 200.141 Q2093.92 200.141 2096.1 198.567 Q2098.28 196.992 2098.28 194.076 Q2098.28 191.53 2096.7 190.094 Q2095.15 188.659 2091.59 187.942 L2088.74 187.386 Q2083.51 186.344 2081.17 184.122 Q2078.83 181.9 2078.83 177.942 Q2078.83 173.358 2082.05 170.719 Q2085.29 168.081 2090.96 168.081 Q2093.39 168.081 2095.92 168.52 Q2098.44 168.96 2101.08 169.84 Z\" fill=\"#000000\" fill-rule=\"evenodd\" fill-opacity=\"1\" /><path clip-path=\"url(#clip540)\" d=\"M2122.05 190.233 Q2116.89 190.233 2114.9 191.414 Q2112.91 192.594 2112.91 195.442 Q2112.91 197.71 2114.39 199.053 Q2115.89 200.372 2118.46 200.372 Q2122 200.372 2124.13 197.872 Q2126.29 195.349 2126.29 191.182 L2126.29 190.233 L2122.05 190.233 M2130.54 188.474 L2130.54 203.266 L2126.29 203.266 L2126.29 199.33 Q2124.83 201.691 2122.65 202.826 Q2120.48 203.937 2117.33 203.937 Q2113.35 203.937 2110.98 201.715 Q2108.65 199.469 2108.65 195.719 Q2108.65 191.344 2111.56 189.122 Q2114.5 186.9 2120.31 186.9 L2126.29 186.9 L2126.29 186.483 Q2126.29 183.543 2124.34 181.946 Q2122.42 180.326 2118.92 180.326 Q2116.7 180.326 2114.6 180.858 Q2112.49 181.391 2110.54 182.455 L2110.54 178.52 Q2112.88 177.618 2115.08 177.178 Q2117.28 176.715 2119.36 176.715 Q2124.99 176.715 2127.77 179.631 Q2130.54 182.548 2130.54 188.474 Z\" fill=\"#000000\" fill-rule=\"evenodd\" fill-opacity=\"1\" /><path clip-path=\"url(#clip540)\" d=\"M2160.87 187.617 L2160.87 203.266 L2156.61 203.266 L2156.61 187.756 Q2156.61 184.076 2155.17 182.247 Q2153.74 180.418 2150.87 180.418 Q2147.42 180.418 2145.43 182.618 Q2143.44 184.817 2143.44 188.613 L2143.44 203.266 L2139.16 203.266 L2139.16 177.34 L2143.44 177.34 L2143.44 181.368 Q2144.97 179.03 2147.03 177.872 Q2149.11 176.715 2151.82 176.715 Q2156.29 176.715 2158.58 179.493 Q2160.87 182.247 2160.87 187.617 Z\" fill=\"#000000\" fill-rule=\"evenodd\" fill-opacity=\"1\" /><path clip-path=\"url(#clip540)\" d=\"M2186.42 181.275 L2186.42 167.247 L2190.68 167.247 L2190.68 203.266 L2186.42 203.266 L2186.42 199.377 Q2185.08 201.691 2183.02 202.826 Q2180.98 203.937 2178.11 203.937 Q2173.41 203.937 2170.45 200.187 Q2167.51 196.437 2167.51 190.326 Q2167.51 184.215 2170.45 180.465 Q2173.41 176.715 2178.11 176.715 Q2180.98 176.715 2183.02 177.849 Q2185.08 178.96 2186.42 181.275 M2171.91 190.326 Q2171.91 195.025 2173.83 197.71 Q2175.78 200.372 2179.16 200.372 Q2182.53 200.372 2184.48 197.71 Q2186.42 195.025 2186.42 190.326 Q2186.42 185.627 2184.48 182.965 Q2182.53 180.28 2179.16 180.28 Q2175.78 180.28 2173.83 182.965 Q2171.91 185.627 2171.91 190.326 Z\" fill=\"#000000\" fill-rule=\"evenodd\" fill-opacity=\"1\" /><path clip-path=\"url(#clip540)\" d=\"M2211.24 190.233 Q2206.08 190.233 2204.09 191.414 Q2202.1 192.594 2202.1 195.442 Q2202.1 197.71 2203.58 199.053 Q2205.08 200.372 2207.65 200.372 Q2211.19 200.372 2213.32 197.872 Q2215.47 195.349 2215.47 191.182 L2215.47 190.233 L2211.24 190.233 M2219.73 188.474 L2219.73 203.266 L2215.47 203.266 L2215.47 199.33 Q2214.02 201.691 2211.84 202.826 Q2209.66 203.937 2206.52 203.937 Q2202.53 203.937 2200.17 201.715 Q2197.84 199.469 2197.84 195.719 Q2197.84 191.344 2200.75 189.122 Q2203.69 186.9 2209.5 186.9 L2215.47 186.9 L2215.47 186.483 Q2215.47 183.543 2213.53 181.946 Q2211.61 180.326 2208.11 180.326 Q2205.89 180.326 2203.78 180.858 Q2201.68 181.391 2199.73 182.455 L2199.73 178.52 Q2202.07 177.618 2204.27 177.178 Q2206.47 176.715 2208.55 176.715 Q2214.18 176.715 2216.96 179.631 Q2219.73 182.548 2219.73 188.474 Z\" fill=\"#000000\" fill-rule=\"evenodd\" fill-opacity=\"1\" /><path clip-path=\"url(#clip540)\" d=\"M2228.51 167.247 L2232.77 167.247 L2232.77 203.266 L2228.51 203.266 L2228.51 167.247 Z\" fill=\"#000000\" fill-rule=\"evenodd\" fill-opacity=\"1\" /></svg>\n"
      ]
     },
     "execution_count": 16,
     "metadata": {},
     "output_type": "execute_result"
    }
   ],
   "source": [
    "scatter(X_Pr[1, Y .== l₁], X_Pr[2, Y .== l₁], \n",
    "            color = :indianred,\n",
    "            label = labels[l₁],\n",
    "            size = (800,300))\n",
    "scatter!(X_Pr[1, Y .== l₂], X_Pr[2, Y .== l₂], \n",
    "            color = :steelblue,\n",
    "            label = labels[l₂],\n",
    "            size = (600,300))"
   ]
  },
  {
   "cell_type": "markdown",
   "metadata": {},
   "source": [
    "## Support Vector Machine\n",
    "\n",
    "The first attempt to learn an algorithm for classification is using an SVM.\n",
    "\n",
    "We will use the simple kernel that gives back the standard inner product between data points."
   ]
  },
  {
   "cell_type": "code",
   "execution_count": 17,
   "metadata": {},
   "outputs": [
    {
     "data": {
      "text/plain": [
       "κ (generic function with 1 method)"
      ]
     },
     "execution_count": 17,
     "metadata": {},
     "output_type": "execute_result"
    }
   ],
   "source": [
    "κ(x₁,x₂) = x₁ ⋅ x₂"
   ]
  },
  {
   "cell_type": "markdown",
   "metadata": {},
   "source": [
    "The kernel defines a kernel matrix as follows:"
   ]
  },
  {
   "cell_type": "code",
   "execution_count": 18,
   "metadata": {},
   "outputs": [],
   "source": [
    "G = [κ(x₁,x₂) for (x₁,x₂) in \n",
    "        Iterators.product(X_vec,X_vec)];"
   ]
  },
  {
   "cell_type": "markdown",
   "metadata": {},
   "source": [
    "We also need to transform the output data so that it takes values in $\\{-1,1\\}$."
   ]
  },
  {
   "cell_type": "code",
   "execution_count": 19,
   "metadata": {},
   "outputs": [],
   "source": [
    "y = map(Y) do Yᵢ\n",
    "    if Yᵢ==l₁\n",
    "        -1\n",
    "    elseif Yᵢ==l₂\n",
    "        1\n",
    "    end\n",
    "    end;"
   ]
  },
  {
   "cell_type": "markdown",
   "metadata": {},
   "source": [
    "We are now ready to set up the optimization problem solving the Dual SVM.\n",
    "\n",
    "The regularization parameter is set to $C=5$.\n",
    "\n",
    "We use [JuMP](https://jump.dev/JuMP.jl/stable/) for setting up the model and [NLopt](https://github.com/JuliaOpt/NLopt.jl) for solving the optimization problem."
   ]
  },
  {
   "cell_type": "code",
   "execution_count": 20,
   "metadata": {},
   "outputs": [],
   "source": [
    "C = 5;\n",
    "model = Model(NLopt.Optimizer)\n",
    "\n",
    "set_optimizer_attribute(model, \"algorithm\", :AUGLAG)\n",
    "set_optimizer_attribute(model, \"local_optimizer\", :LD_LBFGS)\n",
    "\n",
    "@variable(model, α[1:n]);"
   ]
  },
  {
   "cell_type": "markdown",
   "metadata": {},
   "source": [
    "The constraints are defined next:"
   ]
  },
  {
   "cell_type": "code",
   "execution_count": 21,
   "metadata": {},
   "outputs": [],
   "source": [
    "@constraint(model, c₁, sum(y .* α) .== 0);\n",
    "@constraint(model, c₂, α .>= zeros(n));\n",
    "@constraint(model, c₃, α .<= C .* ones(n));"
   ]
  },
  {
   "cell_type": "markdown",
   "metadata": {},
   "source": [
    "Finally, we define the objective function."
   ]
  },
  {
   "cell_type": "code",
   "execution_count": 22,
   "metadata": {},
   "outputs": [],
   "source": [
    "@objective(model, Min, \n",
    "           4 * sum(α) - sum(y[i]*α[i]*y[j]*α[j]*G[i,j] \n",
    "            for (i,j) in Iterators.product(1:n,1:n)));"
   ]
  },
  {
   "cell_type": "markdown",
   "metadata": {},
   "source": [
    "Using the following command we can now solve the optimization problem "
   ]
  },
  {
   "cell_type": "code",
   "execution_count": 23,
   "metadata": {},
   "outputs": [],
   "source": [
    "JuMP.optimize!(model)"
   ]
  },
  {
   "cell_type": "markdown",
   "metadata": {},
   "source": [
    "We use the optimal value to define $\\psi$ and $b$ for our SVM."
   ]
  },
  {
   "cell_type": "code",
   "execution_count": 41,
   "metadata": {},
   "outputs": [
    {
     "data": {
      "text/plain": [
       "8.056516850561867"
      ]
     },
     "execution_count": 41,
     "metadata": {},
     "output_type": "execute_result"
    }
   ],
   "source": [
    "α_opt = value.(α);\n",
    "ψ(x) =  sum(0.5 * y[i] * α_opt[i] * κ(x, X_vec[i]) for i in 1:n)\n",
    "b = median(y[i] - ψ(X_vec[i]) for i in 1:n if abs(α_opt[i]) > 1e-8)"
   ]
  },
  {
   "cell_type": "markdown",
   "metadata": {},
   "source": [
    "This defines the following function for classification."
   ]
  },
  {
   "cell_type": "code",
   "execution_count": 42,
   "metadata": {},
   "outputs": [
    {
     "data": {
      "text/plain": [
       "f_class (generic function with 1 method)"
      ]
     },
     "execution_count": 42,
     "metadata": {},
     "output_type": "execute_result"
    }
   ],
   "source": [
    "f_class(x) = Int(sign(ψ(x) + b))"
   ]
  },
  {
   "cell_type": "markdown",
   "metadata": {},
   "source": [
    "We can use `f_class` in a prediction function:"
   ]
  },
  {
   "cell_type": "code",
   "execution_count": 26,
   "metadata": {},
   "outputs": [
    {
     "data": {
      "text/plain": [
       "predict (generic function with 1 method)"
      ]
     },
     "execution_count": 26,
     "metadata": {},
     "output_type": "execute_result"
    }
   ],
   "source": [
    "function predict(f, x)\n",
    "    if f(x) == -1\n",
    "        println(\"This is a $(labels[l₁]):\")\n",
    "    elseif f(x) == 1\n",
    "         println(\"This is a $(labels[l₂]):\")\n",
    "    end\n",
    "end"
   ]
  },
  {
   "cell_type": "markdown",
   "metadata": {},
   "source": [
    "#### How well does our prediction function work?\n",
    "\n",
    "We can now check the quality of our prediction function.\n",
    "\n",
    "For instance, we can randomly choose items from the test data and let our algorithm predict what item it is."
   ]
  },
  {
   "cell_type": "code",
   "execution_count": 27,
   "metadata": {},
   "outputs": [
    {
     "name": "stdout",
     "output_type": "stream",
     "text": [
      "This is a Sandal:\n"
     ]
    },
    {
     "data": {
      "image/png": "[encoded data removed]",
      "text/plain": [
       "28×28 reinterpret(reshape, Gray{N0f8}, ::Array{N0f8,2}) with eltype Gray{N0f8}:\n",
       " Gray{N0f8}(0.0)    Gray{N0f8}(0.0)    …  Gray{N0f8}(0.0)\n",
       " Gray{N0f8}(0.0)    Gray{N0f8}(0.0)       Gray{N0f8}(0.0)\n",
       " Gray{N0f8}(0.0)    Gray{N0f8}(0.0)       Gray{N0f8}(0.0)\n",
       " Gray{N0f8}(0.0)    Gray{N0f8}(0.0)       Gray{N0f8}(0.0)\n",
       " Gray{N0f8}(0.0)    Gray{N0f8}(0.0)       Gray{N0f8}(0.0)\n",
       " Gray{N0f8}(0.0)    Gray{N0f8}(0.0)    …  Gray{N0f8}(0.0)\n",
       " Gray{N0f8}(0.0)    Gray{N0f8}(0.0)       Gray{N0f8}(0.0)\n",
       " Gray{N0f8}(0.0)    Gray{N0f8}(0.0)       Gray{N0f8}(0.0)\n",
       " Gray{N0f8}(0.0)    Gray{N0f8}(0.0)       Gray{N0f8}(0.0)\n",
       " Gray{N0f8}(0.0)    Gray{N0f8}(0.0)       Gray{N0f8}(0.0)\n",
       " Gray{N0f8}(0.0)    Gray{N0f8}(0.0)    …  Gray{N0f8}(0.067)\n",
       " Gray{N0f8}(0.0)    Gray{N0f8}(0.0)       Gray{N0f8}(0.333)\n",
       " Gray{N0f8}(0.008)  Gray{N0f8}(0.0)       Gray{N0f8}(0.102)\n",
       " ⋮                                     ⋱  \n",
       " Gray{N0f8}(0.0)    Gray{N0f8}(0.0)       Gray{N0f8}(0.0)\n",
       " Gray{N0f8}(0.0)    Gray{N0f8}(0.008)     Gray{N0f8}(0.0)\n",
       " Gray{N0f8}(0.016)  Gray{N0f8}(0.0)       Gray{N0f8}(0.0)\n",
       " Gray{N0f8}(0.016)  Gray{N0f8}(0.0)       Gray{N0f8}(0.0)\n",
       " Gray{N0f8}(0.008)  Gray{N0f8}(0.0)    …  Gray{N0f8}(0.0)\n",
       " Gray{N0f8}(0.0)    Gray{N0f8}(0.0)       Gray{N0f8}(0.0)\n",
       " Gray{N0f8}(0.239)  Gray{N0f8}(0.204)     Gray{N0f8}(0.0)\n",
       " Gray{N0f8}(0.412)  Gray{N0f8}(0.627)     Gray{N0f8}(0.0)\n",
       " Gray{N0f8}(0.0)    Gray{N0f8}(0.0)       Gray{N0f8}(0.0)\n",
       " Gray{N0f8}(0.0)    Gray{N0f8}(0.0)    …  Gray{N0f8}(0.0)\n",
       " Gray{N0f8}(0.0)    Gray{N0f8}(0.0)       Gray{N0f8}(0.0)\n",
       " Gray{N0f8}(0.0)    Gray{N0f8}(0.0)       Gray{N0f8}(0.0)"
      ]
     },
     "execution_count": 27,
     "metadata": {},
     "output_type": "execute_result"
    }
   ],
   "source": [
    "ℓ = rand(1:n)\n",
    "predict(f_class, X_test_vec[ℓ])\n",
    "FashionMNIST.convert2image(X_test[:,:,ℓ])"
   ]
  },
  {
   "cell_type": "markdown",
   "metadata": {},
   "source": [
    "As a second check, we plot projected test data points along with our predictions. \n"
   ]
  },
  {
   "cell_type": "code",
   "execution_count": 28,
   "metadata": {},
   "outputs": [],
   "source": [
    "x̄_test = mean(X_test_vec);\n",
    "X_test_Pr = hcat(map(x -> Pr*(x - x̄_test), X_test_vec)...);"
   ]
  },
  {
   "cell_type": "markdown",
   "metadata": {},
   "source": [
    "\n",
    "For this, we produce $y_{\\mathrm{test}}\\in\\{-1,1\\}$ for the true labels and $\\hat{y}_{\\mathrm{test}}$ is the vector of predictions "
   ]
  },
  {
   "cell_type": "code",
   "execution_count": 29,
   "metadata": {},
   "outputs": [],
   "source": [
    "y_test = map(Y_test) do y\n",
    "    if y==l₁\n",
    "        -1\n",
    "    elseif y==l₂\n",
    "        1\n",
    "    end\n",
    "    end;\n",
    "ŷ_test = map(f_class, X_test_vec);"
   ]
  },
  {
   "cell_type": "markdown",
   "metadata": {},
   "source": [
    "The visualization comes next:"
   ]
  },
  {
   "cell_type": "code",
   "execution_count": 30,
   "metadata": {},
   "outputs": [
    {
     "data": {
      "image/svg+xml": [
       "<?xml version=\"1.0\" encoding=\"utf-8\"?>\n",
       "<svg xmlns=\"http://www.w3.org/2000/svg\" xmlns:xlink=\"http://www.w3.org/1999/xlink\" width=\"600\" height=\"300\" viewBox=\"0 0 2400 1200\">\n",
       "<defs>\n",
       "  <clipPath id=\"clip580\">\n",
       "    <rect x=\"0\" y=\"0\" width=\"2400\" height=\"1200\"/>\n",
       "  </clipPath>\n",
       "</defs>\n",
       "<path clip-path=\"url(#clip580)\" d=\"\n",
       "M0 1200 L2400 1200 L2400 0 L0 0  Z\n",
       "  \" fill=\"#ffffff\" fill-rule=\"evenodd\" fill-opacity=\"1\"/>\n",
       "<defs>\n",
       "  <clipPath id=\"clip581\">\n",
       "    <rect x=\"480\" y=\"0\" width=\"1681\" height=\"1200\"/>\n",
       "  </clipPath>\n",
       "</defs>\n",
       "<path clip-path=\"url(#clip580)\" d=\"\n",
       "M192.941 1047.7 L1152.76 1047.7 L1152.76 47.2441 L192.941 47.2441  Z\n",
       "  \" fill=\"#ffffff\" fill-rule=\"evenodd\" fill-opacity=\"1\"/>\n",
       "<defs>\n",
       "  <clipPath id=\"clip582\">\n",
       "    <rect x=\"192\" y=\"47\" width=\"961\" height=\"1001\"/>\n",
       "  </clipPath>\n",
       "</defs>\n",
       "<polyline clip-path=\"url(#clip582)\" style=\"stroke:#000000; stroke-linecap:butt; stroke-linejoin:round; stroke-width:2; stroke-opacity:0.1; fill:none\" points=\"\n",
       "  324.428,1047.7 324.428,47.2441 \n",
       "  \"/>\n",
       "<polyline clip-path=\"url(#clip582)\" style=\"stroke:#000000; stroke-linecap:butt; stroke-linejoin:round; stroke-width:2; stroke-opacity:0.1; fill:none\" points=\"\n",
       "  480.642,1047.7 480.642,47.2441 \n",
       "  \"/>\n",
       "<polyline clip-path=\"url(#clip582)\" style=\"stroke:#000000; stroke-linecap:butt; stroke-linejoin:round; stroke-width:2; stroke-opacity:0.1; fill:none\" points=\"\n",
       "  636.857,1047.7 636.857,47.2441 \n",
       "  \"/>\n",
       "<polyline clip-path=\"url(#clip582)\" style=\"stroke:#000000; stroke-linecap:butt; stroke-linejoin:round; stroke-width:2; stroke-opacity:0.1; fill:none\" points=\"\n",
       "  793.071,1047.7 793.071,47.2441 \n",
       "  \"/>\n",
       "<polyline clip-path=\"url(#clip582)\" style=\"stroke:#000000; stroke-linecap:butt; stroke-linejoin:round; stroke-width:2; stroke-opacity:0.1; fill:none\" points=\"\n",
       "  949.286,1047.7 949.286,47.2441 \n",
       "  \"/>\n",
       "<polyline clip-path=\"url(#clip582)\" style=\"stroke:#000000; stroke-linecap:butt; stroke-linejoin:round; stroke-width:2; stroke-opacity:0.1; fill:none\" points=\"\n",
       "  1105.5,1047.7 1105.5,47.2441 \n",
       "  \"/>\n",
       "<polyline clip-path=\"url(#clip580)\" style=\"stroke:#000000; stroke-linecap:butt; stroke-linejoin:round; stroke-width:4; stroke-opacity:1; fill:none\" points=\"\n",
       "  192.941,1047.7 1152.76,1047.7 \n",
       "  \"/>\n",
       "<polyline clip-path=\"url(#clip580)\" style=\"stroke:#000000; stroke-linecap:butt; stroke-linejoin:round; stroke-width:4; stroke-opacity:1; fill:none\" points=\"\n",
       "  324.428,1047.7 324.428,1028.8 \n",
       "  \"/>\n",
       "<polyline clip-path=\"url(#clip580)\" style=\"stroke:#000000; stroke-linecap:butt; stroke-linejoin:round; stroke-width:4; stroke-opacity:1; fill:none\" points=\"\n",
       "  480.642,1047.7 480.642,1028.8 \n",
       "  \"/>\n",
       "<polyline clip-path=\"url(#clip580)\" style=\"stroke:#000000; stroke-linecap:butt; stroke-linejoin:round; stroke-width:4; stroke-opacity:1; fill:none\" points=\"\n",
       "  636.857,1047.7 636.857,1028.8 \n",
       "  \"/>\n",
       "<polyline clip-path=\"url(#clip580)\" style=\"stroke:#000000; stroke-linecap:butt; stroke-linejoin:round; stroke-width:4; stroke-opacity:1; fill:none\" points=\"\n",
       "  793.071,1047.7 793.071,1028.8 \n",
       "  \"/>\n",
       "<polyline clip-path=\"url(#clip580)\" style=\"stroke:#000000; stroke-linecap:butt; stroke-linejoin:round; stroke-width:4; stroke-opacity:1; fill:none\" points=\"\n",
       "  949.286,1047.7 949.286,1028.8 \n",
       "  \"/>\n",
       "<polyline clip-path=\"url(#clip580)\" style=\"stroke:#000000; stroke-linecap:butt; stroke-linejoin:round; stroke-width:4; stroke-opacity:1; fill:none\" points=\"\n",
       "  1105.5,1047.7 1105.5,1028.8 \n",
       "  \"/>\n",
       "<path clip-path=\"url(#clip580)\" d=\"M270.956 1093.27 L300.632 1093.27 L300.632 1097.21 L270.956 1097.21 L270.956 1093.27 Z\" fill=\"#000000\" fill-rule=\"evenodd\" fill-opacity=\"1\" /><path clip-path=\"url(#clip580)\" d=\"M311.534 1106.16 L319.173 1106.16 L319.173 1079.8 L310.863 1081.47 L310.863 1077.21 L319.127 1075.54 L323.803 1075.54 L323.803 1106.16 L331.442 1106.16 L331.442 1110.1 L311.534 1110.1 L311.534 1106.16 Z\" fill=\"#000000\" fill-rule=\"evenodd\" fill-opacity=\"1\" /><path clip-path=\"url(#clip580)\" d=\"M340.886 1104.22 L345.77 1104.22 L345.77 1110.1 L340.886 1110.1 L340.886 1104.22 Z\" fill=\"#000000\" fill-rule=\"evenodd\" fill-opacity=\"1\" /><path clip-path=\"url(#clip580)\" d=\"M365.955 1078.62 Q362.344 1078.62 360.515 1082.18 Q358.71 1085.72 358.71 1092.85 Q358.71 1099.96 360.515 1103.53 Q362.344 1107.07 365.955 1107.07 Q369.59 1107.07 371.395 1103.53 Q373.224 1099.96 373.224 1092.85 Q373.224 1085.72 371.395 1082.18 Q369.59 1078.62 365.955 1078.62 M365.955 1074.91 Q371.765 1074.91 374.821 1079.52 Q377.9 1084.1 377.9 1092.85 Q377.9 1101.58 374.821 1106.19 Q371.765 1110.77 365.955 1110.77 Q360.145 1110.77 357.066 1106.19 Q354.011 1101.58 354.011 1092.85 Q354.011 1084.1 357.066 1079.52 Q360.145 1074.91 365.955 1074.91 Z\" fill=\"#000000\" fill-rule=\"evenodd\" fill-opacity=\"1\" /><path clip-path=\"url(#clip580)\" d=\"M427.668 1093.27 L457.344 1093.27 L457.344 1097.21 L427.668 1097.21 L427.668 1093.27 Z\" fill=\"#000000\" fill-rule=\"evenodd\" fill-opacity=\"1\" /><path clip-path=\"url(#clip580)\" d=\"M477.436 1078.62 Q473.825 1078.62 471.996 1082.18 Q470.191 1085.72 470.191 1092.85 Q470.191 1099.96 471.996 1103.53 Q473.825 1107.07 477.436 1107.07 Q481.07 1107.07 482.876 1103.53 Q484.705 1099.96 484.705 1092.85 Q484.705 1085.72 482.876 1082.18 Q481.07 1078.62 477.436 1078.62 M477.436 1074.91 Q483.246 1074.91 486.302 1079.52 Q489.381 1084.1 489.381 1092.85 Q489.381 1101.58 486.302 1106.19 Q483.246 1110.77 477.436 1110.77 Q471.626 1110.77 468.547 1106.19 Q465.492 1101.58 465.492 1092.85 Q465.492 1084.1 468.547 1079.52 Q471.626 1074.91 477.436 1074.91 Z\" fill=\"#000000\" fill-rule=\"evenodd\" fill-opacity=\"1\" /><path clip-path=\"url(#clip580)\" d=\"M497.598 1104.22 L502.482 1104.22 L502.482 1110.1 L497.598 1110.1 L497.598 1104.22 Z\" fill=\"#000000\" fill-rule=\"evenodd\" fill-opacity=\"1\" /><path clip-path=\"url(#clip580)\" d=\"M512.714 1075.54 L531.07 1075.54 L531.07 1079.48 L516.996 1079.48 L516.996 1087.95 Q518.015 1087.6 519.033 1087.44 Q520.052 1087.25 521.07 1087.25 Q526.857 1087.25 530.237 1090.42 Q533.616 1093.6 533.616 1099.01 Q533.616 1104.59 530.144 1107.69 Q526.672 1110.77 520.353 1110.77 Q518.177 1110.77 515.908 1110.4 Q513.663 1110.03 511.255 1109.29 L511.255 1104.59 Q513.339 1105.72 515.561 1106.28 Q517.783 1106.84 520.26 1106.84 Q524.265 1106.84 526.603 1104.73 Q528.941 1102.62 528.941 1099.01 Q528.941 1095.4 526.603 1093.29 Q524.265 1091.19 520.26 1091.19 Q518.385 1091.19 516.51 1091.6 Q514.658 1092.02 512.714 1092.9 L512.714 1075.54 Z\" fill=\"#000000\" fill-rule=\"evenodd\" fill-opacity=\"1\" /><path clip-path=\"url(#clip580)\" d=\"M614.241 1078.62 Q610.63 1078.62 608.801 1082.18 Q606.996 1085.72 606.996 1092.85 Q606.996 1099.96 608.801 1103.53 Q610.63 1107.07 614.241 1107.07 Q617.875 1107.07 619.681 1103.53 Q621.51 1099.96 621.51 1092.85 Q621.51 1085.72 619.681 1082.18 Q617.875 1078.62 614.241 1078.62 M614.241 1074.91 Q620.051 1074.91 623.107 1079.52 Q626.185 1084.1 626.185 1092.85 Q626.185 1101.58 623.107 1106.19 Q620.051 1110.77 614.241 1110.77 Q608.431 1110.77 605.352 1106.19 Q602.297 1101.58 602.297 1092.85 Q602.297 1084.1 605.352 1079.52 Q608.431 1074.91 614.241 1074.91 Z\" fill=\"#000000\" fill-rule=\"evenodd\" fill-opacity=\"1\" /><path clip-path=\"url(#clip580)\" d=\"M634.403 1104.22 L639.287 1104.22 L639.287 1110.1 L634.403 1110.1 L634.403 1104.22 Z\" fill=\"#000000\" fill-rule=\"evenodd\" fill-opacity=\"1\" /><path clip-path=\"url(#clip580)\" d=\"M659.472 1078.62 Q655.861 1078.62 654.033 1082.18 Q652.227 1085.72 652.227 1092.85 Q652.227 1099.96 654.033 1103.53 Q655.861 1107.07 659.472 1107.07 Q663.107 1107.07 664.912 1103.53 Q666.741 1099.96 666.741 1092.85 Q666.741 1085.72 664.912 1082.18 Q663.107 1078.62 659.472 1078.62 M659.472 1074.91 Q665.282 1074.91 668.338 1079.52 Q671.417 1084.1 671.417 1092.85 Q671.417 1101.58 668.338 1106.19 Q665.282 1110.77 659.472 1110.77 Q653.662 1110.77 650.584 1106.19 Q647.528 1101.58 647.528 1092.85 Q647.528 1084.1 650.584 1079.52 Q653.662 1074.91 659.472 1074.91 Z\" fill=\"#000000\" fill-rule=\"evenodd\" fill-opacity=\"1\" /><path clip-path=\"url(#clip580)\" d=\"M770.953 1078.62 Q767.342 1078.62 765.514 1082.18 Q763.708 1085.72 763.708 1092.85 Q763.708 1099.96 765.514 1103.53 Q767.342 1107.07 770.953 1107.07 Q774.588 1107.07 776.393 1103.53 Q778.222 1099.96 778.222 1092.85 Q778.222 1085.72 776.393 1082.18 Q774.588 1078.62 770.953 1078.62 M770.953 1074.91 Q776.763 1074.91 779.819 1079.52 Q782.898 1084.1 782.898 1092.85 Q782.898 1101.58 779.819 1106.19 Q776.763 1110.77 770.953 1110.77 Q765.143 1110.77 762.064 1106.19 Q759.009 1101.58 759.009 1092.85 Q759.009 1084.1 762.064 1079.52 Q765.143 1074.91 770.953 1074.91 Z\" fill=\"#000000\" fill-rule=\"evenodd\" fill-opacity=\"1\" /><path clip-path=\"url(#clip580)\" d=\"M791.115 1104.22 L795.999 1104.22 L795.999 1110.1 L791.115 1110.1 L791.115 1104.22 Z\" fill=\"#000000\" fill-rule=\"evenodd\" fill-opacity=\"1\" /><path clip-path=\"url(#clip580)\" d=\"M806.231 1075.54 L824.587 1075.54 L824.587 1079.48 L810.513 1079.48 L810.513 1087.95 Q811.532 1087.6 812.55 1087.44 Q813.569 1087.25 814.587 1087.25 Q820.374 1087.25 823.754 1090.42 Q827.134 1093.6 827.134 1099.01 Q827.134 1104.59 823.661 1107.69 Q820.189 1110.77 813.87 1110.77 Q811.694 1110.77 809.425 1110.4 Q807.18 1110.03 804.773 1109.29 L804.773 1104.59 Q806.856 1105.72 809.078 1106.28 Q811.3 1106.84 813.777 1106.84 Q817.782 1106.84 820.12 1104.73 Q822.458 1102.62 822.458 1099.01 Q822.458 1095.4 820.12 1093.29 Q817.782 1091.19 813.777 1091.19 Q811.902 1091.19 810.027 1091.6 Q808.175 1092.02 806.231 1092.9 L806.231 1075.54 Z\" fill=\"#000000\" fill-rule=\"evenodd\" fill-opacity=\"1\" /><path clip-path=\"url(#clip580)\" d=\"M916.439 1106.16 L924.078 1106.16 L924.078 1079.8 L915.767 1081.47 L915.767 1077.21 L924.031 1075.54 L928.707 1075.54 L928.707 1106.16 L936.346 1106.16 L936.346 1110.1 L916.439 1110.1 L916.439 1106.16 Z\" fill=\"#000000\" fill-rule=\"evenodd\" fill-opacity=\"1\" /><path clip-path=\"url(#clip580)\" d=\"M945.79 1104.22 L950.675 1104.22 L950.675 1110.1 L945.79 1110.1 L945.79 1104.22 Z\" fill=\"#000000\" fill-rule=\"evenodd\" fill-opacity=\"1\" /><path clip-path=\"url(#clip580)\" d=\"M970.86 1078.62 Q967.249 1078.62 965.42 1082.18 Q963.614 1085.72 963.614 1092.85 Q963.614 1099.96 965.42 1103.53 Q967.249 1107.07 970.86 1107.07 Q974.494 1107.07 976.299 1103.53 Q978.128 1099.96 978.128 1092.85 Q978.128 1085.72 976.299 1082.18 Q974.494 1078.62 970.86 1078.62 M970.86 1074.91 Q976.67 1074.91 979.725 1079.52 Q982.804 1084.1 982.804 1092.85 Q982.804 1101.58 979.725 1106.19 Q976.67 1110.77 970.86 1110.77 Q965.05 1110.77 961.971 1106.19 Q958.915 1101.58 958.915 1092.85 Q958.915 1084.1 961.971 1079.52 Q965.05 1074.91 970.86 1074.91 Z\" fill=\"#000000\" fill-rule=\"evenodd\" fill-opacity=\"1\" /><path clip-path=\"url(#clip580)\" d=\"M1073.15 1106.16 L1080.79 1106.16 L1080.79 1079.8 L1072.48 1081.47 L1072.48 1077.21 L1080.74 1075.54 L1085.42 1075.54 L1085.42 1106.16 L1093.06 1106.16 L1093.06 1110.1 L1073.15 1110.1 L1073.15 1106.16 Z\" fill=\"#000000\" fill-rule=\"evenodd\" fill-opacity=\"1\" /><path clip-path=\"url(#clip580)\" d=\"M1102.5 1104.22 L1107.39 1104.22 L1107.39 1110.1 L1102.5 1110.1 L1102.5 1104.22 Z\" fill=\"#000000\" fill-rule=\"evenodd\" fill-opacity=\"1\" /><path clip-path=\"url(#clip580)\" d=\"M1117.62 1075.54 L1135.97 1075.54 L1135.97 1079.48 L1121.9 1079.48 L1121.9 1087.95 Q1122.92 1087.6 1123.94 1087.44 Q1124.96 1087.25 1125.97 1087.25 Q1131.76 1087.25 1135.14 1090.42 Q1138.52 1093.6 1138.52 1099.01 Q1138.52 1104.59 1135.05 1107.69 Q1131.58 1110.77 1125.26 1110.77 Q1123.08 1110.77 1120.81 1110.4 Q1118.57 1110.03 1116.16 1109.29 L1116.16 1104.59 Q1118.24 1105.72 1120.47 1106.28 Q1122.69 1106.84 1125.16 1106.84 Q1129.17 1106.84 1131.51 1104.73 Q1133.84 1102.62 1133.84 1099.01 Q1133.84 1095.4 1131.51 1093.29 Q1129.17 1091.19 1125.16 1091.19 Q1123.29 1091.19 1121.41 1091.6 Q1119.56 1092.02 1117.62 1092.9 L1117.62 1075.54 Z\" fill=\"#000000\" fill-rule=\"evenodd\" fill-opacity=\"1\" /><path clip-path=\"url(#clip580)\" d=\"M357.093 1146.79 L357.093 1156.92 L369.156 1156.92 L369.156 1161.47 L357.093 1161.47 L357.093 1180.82 Q357.093 1185.18 358.271 1186.42 Q359.48 1187.66 363.141 1187.66 L369.156 1187.66 L369.156 1192.56 L363.141 1192.56 Q356.361 1192.56 353.783 1190.05 Q351.205 1187.5 351.205 1180.82 L351.205 1161.47 L346.908 1161.47 L346.908 1156.92 L351.205 1156.92 L351.205 1146.79 L357.093 1146.79 Z\" fill=\"#000000\" fill-rule=\"evenodd\" fill-opacity=\"1\" /><path clip-path=\"url(#clip580)\" d=\"M397.516 1162.39 Q396.529 1161.82 395.351 1161.56 Q394.205 1161.28 392.805 1161.28 Q387.84 1161.28 385.166 1164.52 Q382.524 1167.74 382.524 1173.79 L382.524 1192.56 L376.636 1192.56 L376.636 1156.92 L382.524 1156.92 L382.524 1162.45 Q384.37 1159.21 387.33 1157.65 Q390.29 1156.06 394.524 1156.06 Q395.128 1156.06 395.86 1156.15 Q396.593 1156.22 397.484 1156.37 L397.516 1162.39 Z\" fill=\"#000000\" fill-rule=\"evenodd\" fill-opacity=\"1\" /><path clip-path=\"url(#clip580)\" d=\"M403.054 1178.5 L403.054 1156.92 L408.91 1156.92 L408.91 1178.27 Q408.91 1183.33 410.884 1185.88 Q412.857 1188.39 416.804 1188.39 Q421.546 1188.39 424.283 1185.37 Q427.052 1182.35 427.052 1177.13 L427.052 1156.92 L432.909 1156.92 L432.909 1192.56 L427.052 1192.56 L427.052 1187.09 Q424.92 1190.34 422.087 1191.93 Q419.286 1193.49 415.562 1193.49 Q409.419 1193.49 406.237 1189.67 Q403.054 1185.85 403.054 1178.5 M417.79 1156.06 L417.79 1156.06 Z\" fill=\"#000000\" fill-rule=\"evenodd\" fill-opacity=\"1\" /><path clip-path=\"url(#clip580)\" d=\"M475.464 1173.28 L475.464 1176.14 L448.537 1176.14 Q448.919 1182.19 452.165 1185.37 Q455.443 1188.52 461.268 1188.52 Q464.642 1188.52 467.793 1187.69 Q470.976 1186.87 474.095 1185.21 L474.095 1190.75 Q470.944 1192.09 467.634 1192.79 Q464.324 1193.49 460.918 1193.49 Q452.388 1193.49 447.391 1188.52 Q442.426 1183.56 442.426 1175.09 Q442.426 1166.34 447.136 1161.21 Q451.879 1156.06 459.899 1156.06 Q467.093 1156.06 471.262 1160.7 Q475.464 1165.32 475.464 1173.28 M469.607 1171.56 Q469.544 1166.75 466.902 1163.89 Q464.292 1161.02 459.963 1161.02 Q455.062 1161.02 452.101 1163.79 Q449.173 1166.56 448.728 1171.59 L469.607 1171.56 Z\" fill=\"#000000\" fill-rule=\"evenodd\" fill-opacity=\"1\" /><path clip-path=\"url(#clip580)\" d=\"M505.796 1143.04 L511.653 1143.04 L511.653 1192.56 L505.796 1192.56 L505.796 1143.04 Z\" fill=\"#000000\" fill-rule=\"evenodd\" fill-opacity=\"1\" /><path clip-path=\"url(#clip580)\" d=\"M540.107 1174.64 Q533.01 1174.64 530.272 1176.27 Q527.535 1177.89 527.535 1181.81 Q527.535 1184.92 529.572 1186.77 Q531.641 1188.59 535.174 1188.59 Q540.044 1188.59 542.972 1185.15 Q545.932 1181.68 545.932 1175.95 L545.932 1174.64 L540.107 1174.64 M551.788 1172.23 L551.788 1192.56 L545.932 1192.56 L545.932 1187.15 Q543.927 1190.4 540.935 1191.96 Q537.943 1193.49 533.614 1193.49 Q528.14 1193.49 524.893 1190.43 Q521.679 1187.34 521.679 1182.19 Q521.679 1176.17 525.689 1173.12 Q529.731 1170.06 537.72 1170.06 L545.932 1170.06 L545.932 1169.49 Q545.932 1165.45 543.258 1163.25 Q540.617 1161.02 535.811 1161.02 Q532.755 1161.02 529.859 1161.75 Q526.962 1162.49 524.289 1163.95 L524.289 1158.54 Q527.503 1157.3 530.527 1156.69 Q533.551 1156.06 536.415 1156.06 Q544.15 1156.06 547.969 1160.07 Q551.788 1164.08 551.788 1172.23 Z\" fill=\"#000000\" fill-rule=\"evenodd\" fill-opacity=\"1\" /><path clip-path=\"url(#clip580)\" d=\"M589.442 1174.77 Q589.442 1168.31 586.768 1164.65 Q584.126 1160.96 579.479 1160.96 Q574.832 1160.96 572.159 1164.65 Q569.517 1168.31 569.517 1174.77 Q569.517 1181.23 572.159 1184.92 Q574.832 1188.59 579.479 1188.59 Q584.126 1188.59 586.768 1184.92 Q589.442 1181.23 589.442 1174.77 M569.517 1162.33 Q571.363 1159.14 574.164 1157.62 Q576.997 1156.06 580.912 1156.06 Q587.405 1156.06 591.447 1161.21 Q595.521 1166.37 595.521 1174.77 Q595.521 1183.17 591.447 1188.33 Q587.405 1193.49 580.912 1193.49 Q576.997 1193.49 574.164 1191.96 Q571.363 1190.4 569.517 1187.22 L569.517 1192.56 L563.629 1192.56 L563.629 1143.04 L569.517 1143.04 L569.517 1162.33 Z\" fill=\"#000000\" fill-rule=\"evenodd\" fill-opacity=\"1\" /><path clip-path=\"url(#clip580)\" d=\"M635.72 1173.28 L635.72 1176.14 L608.793 1176.14 Q609.175 1182.19 612.422 1185.37 Q615.7 1188.52 621.525 1188.52 Q624.899 1188.52 628.05 1187.69 Q631.232 1186.87 634.352 1185.21 L634.352 1190.75 Q631.201 1192.09 627.89 1192.79 Q624.58 1193.49 621.175 1193.49 Q612.645 1193.49 607.648 1188.52 Q602.682 1183.56 602.682 1175.09 Q602.682 1166.34 607.393 1161.21 Q612.135 1156.06 620.156 1156.06 Q627.349 1156.06 631.519 1160.7 Q635.72 1165.32 635.72 1173.28 M629.864 1171.56 Q629.8 1166.75 627.158 1163.89 Q624.548 1161.02 620.22 1161.02 Q615.318 1161.02 612.358 1163.79 Q609.43 1166.56 608.984 1171.59 L629.864 1171.56 Z\" fill=\"#000000\" fill-rule=\"evenodd\" fill-opacity=\"1\" /><path clip-path=\"url(#clip580)\" d=\"M645.333 1143.04 L651.189 1143.04 L651.189 1192.56 L645.333 1192.56 L645.333 1143.04 Z\" fill=\"#000000\" fill-rule=\"evenodd\" fill-opacity=\"1\" /><path clip-path=\"url(#clip580)\" d=\"M686.169 1157.97 L686.169 1163.5 Q683.686 1162.23 681.012 1161.59 Q678.339 1160.96 675.474 1160.96 Q671.114 1160.96 668.917 1162.29 Q666.753 1163.63 666.753 1166.31 Q666.753 1168.34 668.313 1169.52 Q669.872 1170.67 674.583 1171.72 L676.588 1172.16 Q682.827 1173.5 685.436 1175.95 Q688.078 1178.37 688.078 1182.73 Q688.078 1187.69 684.131 1190.59 Q680.217 1193.49 673.342 1193.49 Q670.477 1193.49 667.358 1192.91 Q664.27 1192.37 660.833 1191.26 L660.833 1185.21 Q664.08 1186.9 667.231 1187.76 Q670.382 1188.59 673.469 1188.59 Q677.607 1188.59 679.835 1187.18 Q682.063 1185.75 682.063 1183.17 Q682.063 1180.79 680.439 1179.51 Q678.848 1178.24 673.405 1177.06 L671.368 1176.59 Q665.926 1175.44 663.507 1173.08 Q661.088 1170.7 661.088 1166.56 Q661.088 1161.53 664.652 1158.79 Q668.217 1156.06 674.774 1156.06 Q678.02 1156.06 680.885 1156.53 Q683.75 1157.01 686.169 1157.97 Z\" fill=\"#000000\" fill-rule=\"evenodd\" fill-opacity=\"1\" /><path clip-path=\"url(#clip580)\" d=\"M723.917 1146.79 L723.917 1156.92 L735.98 1156.92 L735.98 1161.47 L723.917 1161.47 L723.917 1180.82 Q723.917 1185.18 725.095 1186.42 Q726.304 1187.66 729.965 1187.66 L735.98 1187.66 L735.98 1192.56 L729.965 1192.56 Q723.185 1192.56 720.607 1190.05 Q718.029 1187.5 718.029 1180.82 L718.029 1161.47 L713.732 1161.47 L713.732 1156.92 L718.029 1156.92 L718.029 1146.79 L723.917 1146.79 Z\" fill=\"#000000\" fill-rule=\"evenodd\" fill-opacity=\"1\" /><path clip-path=\"url(#clip580)\" d=\"M774.174 1173.28 L774.174 1176.14 L747.247 1176.14 Q747.629 1182.19 750.876 1185.37 Q754.154 1188.52 759.979 1188.52 Q763.353 1188.52 766.504 1187.69 Q769.687 1186.87 772.806 1185.21 L772.806 1190.75 Q769.655 1192.09 766.345 1192.79 Q763.034 1193.49 759.629 1193.49 Q751.099 1193.49 746.102 1188.52 Q741.136 1183.56 741.136 1175.09 Q741.136 1166.34 745.847 1161.21 Q750.589 1156.06 758.61 1156.06 Q765.804 1156.06 769.973 1160.7 Q774.174 1165.32 774.174 1173.28 M768.318 1171.56 Q768.254 1166.75 765.613 1163.89 Q763.003 1161.02 758.674 1161.02 Q753.772 1161.02 750.812 1163.79 Q747.884 1166.56 747.438 1171.59 L768.318 1171.56 Z\" fill=\"#000000\" fill-rule=\"evenodd\" fill-opacity=\"1\" /><path clip-path=\"url(#clip580)\" d=\"M806.512 1157.97 L806.512 1163.5 Q804.03 1162.23 801.356 1161.59 Q798.682 1160.96 795.818 1160.96 Q791.457 1160.96 789.261 1162.29 Q787.097 1163.63 787.097 1166.31 Q787.097 1168.34 788.656 1169.52 Q790.216 1170.67 794.927 1171.72 L796.932 1172.16 Q803.17 1173.5 805.78 1175.95 Q808.422 1178.37 808.422 1182.73 Q808.422 1187.69 804.475 1190.59 Q800.56 1193.49 793.685 1193.49 Q790.821 1193.49 787.702 1192.91 Q784.614 1192.37 781.177 1191.26 L781.177 1185.21 Q784.423 1186.9 787.574 1187.76 Q790.725 1188.59 793.813 1188.59 Q797.95 1188.59 800.178 1187.18 Q802.406 1185.75 802.406 1183.17 Q802.406 1180.79 800.783 1179.51 Q799.192 1178.24 793.749 1177.06 L791.712 1176.59 Q786.269 1175.44 783.85 1173.08 Q781.431 1170.7 781.431 1166.56 Q781.431 1161.53 784.996 1158.79 Q788.561 1156.06 795.118 1156.06 Q798.364 1156.06 801.229 1156.53 Q804.093 1157.01 806.512 1157.97 Z\" fill=\"#000000\" fill-rule=\"evenodd\" fill-opacity=\"1\" /><path clip-path=\"url(#clip580)\" d=\"M823.54 1146.79 L823.54 1156.92 L835.603 1156.92 L835.603 1161.47 L823.54 1161.47 L823.54 1180.82 Q823.54 1185.18 824.718 1186.42 Q825.928 1187.66 829.588 1187.66 L835.603 1187.66 L835.603 1192.56 L829.588 1192.56 Q822.808 1192.56 820.23 1190.05 Q817.652 1187.5 817.652 1180.82 L817.652 1161.47 L813.355 1161.47 L813.355 1156.92 L817.652 1156.92 L817.652 1146.79 L823.54 1146.79 Z\" fill=\"#000000\" fill-rule=\"evenodd\" fill-opacity=\"1\" /><path clip-path=\"url(#clip580)\" d=\"M887.484 1162.33 L887.484 1143.04 L893.34 1143.04 L893.34 1192.56 L887.484 1192.56 L887.484 1187.22 Q885.638 1190.4 882.805 1191.96 Q880.004 1193.49 876.058 1193.49 Q869.596 1193.49 865.522 1188.33 Q861.48 1183.17 861.48 1174.77 Q861.48 1166.37 865.522 1161.21 Q869.596 1156.06 876.058 1156.06 Q880.004 1156.06 882.805 1157.62 Q885.638 1159.14 887.484 1162.33 M867.527 1174.77 Q867.527 1181.23 870.169 1184.92 Q872.843 1188.59 877.49 1188.59 Q882.137 1188.59 884.81 1184.92 Q887.484 1181.23 887.484 1174.77 Q887.484 1168.31 884.81 1164.65 Q882.137 1160.96 877.49 1160.96 Q872.843 1160.96 870.169 1164.65 Q867.527 1168.31 867.527 1174.77 Z\" fill=\"#000000\" fill-rule=\"evenodd\" fill-opacity=\"1\" /><path clip-path=\"url(#clip580)\" d=\"M921.604 1174.64 Q914.506 1174.64 911.769 1176.27 Q909.032 1177.89 909.032 1181.81 Q909.032 1184.92 911.069 1186.77 Q913.138 1188.59 916.671 1188.59 Q921.541 1188.59 924.469 1185.15 Q927.429 1181.68 927.429 1175.95 L927.429 1174.64 L921.604 1174.64 M933.285 1172.23 L933.285 1192.56 L927.429 1192.56 L927.429 1187.15 Q925.424 1190.4 922.432 1191.96 Q919.44 1193.49 915.111 1193.49 Q909.637 1193.49 906.39 1190.43 Q903.175 1187.34 903.175 1182.19 Q903.175 1176.17 907.186 1173.12 Q911.228 1170.06 919.217 1170.06 L927.429 1170.06 L927.429 1169.49 Q927.429 1165.45 924.755 1163.25 Q922.113 1161.02 917.307 1161.02 Q914.252 1161.02 911.355 1161.75 Q908.459 1162.49 905.785 1163.95 L905.785 1158.54 Q909 1157.3 912.024 1156.69 Q915.047 1156.06 917.912 1156.06 Q925.646 1156.06 929.466 1160.07 Q933.285 1164.08 933.285 1172.23 Z\" fill=\"#000000\" fill-rule=\"evenodd\" fill-opacity=\"1\" /><path clip-path=\"url(#clip580)\" d=\"M951.141 1146.79 L951.141 1156.92 L963.204 1156.92 L963.204 1161.47 L951.141 1161.47 L951.141 1180.82 Q951.141 1185.18 952.319 1186.42 Q953.528 1187.66 957.188 1187.66 L963.204 1187.66 L963.204 1192.56 L957.188 1192.56 Q950.409 1192.56 947.831 1190.05 Q945.253 1187.5 945.253 1180.82 L945.253 1161.47 L940.956 1161.47 L940.956 1156.92 L945.253 1156.92 L945.253 1146.79 L951.141 1146.79 Z\" fill=\"#000000\" fill-rule=\"evenodd\" fill-opacity=\"1\" /><path clip-path=\"url(#clip580)\" d=\"M987.107 1174.64 Q980.01 1174.64 977.272 1176.27 Q974.535 1177.89 974.535 1181.81 Q974.535 1184.92 976.572 1186.77 Q978.641 1188.59 982.174 1188.59 Q987.044 1188.59 989.972 1185.15 Q992.932 1181.68 992.932 1175.95 L992.932 1174.64 L987.107 1174.64 M998.788 1172.23 L998.788 1192.56 L992.932 1192.56 L992.932 1187.15 Q990.927 1190.4 987.935 1191.96 Q984.943 1193.49 980.614 1193.49 Q975.14 1193.49 971.893 1190.43 Q968.679 1187.34 968.679 1182.19 Q968.679 1176.17 972.689 1173.12 Q976.731 1170.06 984.72 1170.06 L992.932 1170.06 L992.932 1169.49 Q992.932 1165.45 990.258 1163.25 Q987.617 1161.02 982.81 1161.02 Q979.755 1161.02 976.859 1161.75 Q973.962 1162.49 971.289 1163.95 L971.289 1158.54 Q974.503 1157.3 977.527 1156.69 Q980.551 1156.06 983.415 1156.06 Q991.15 1156.06 994.969 1160.07 Q998.788 1164.08 998.788 1172.23 Z\" fill=\"#000000\" fill-rule=\"evenodd\" fill-opacity=\"1\" /><polyline clip-path=\"url(#clip582)\" style=\"stroke:#000000; stroke-linecap:butt; stroke-linejoin:round; stroke-width:2; stroke-opacity:0.1; fill:none\" points=\"\n",
       "  192.941,828.118 1152.76,828.118 \n",
       "  \"/>\n",
       "<polyline clip-path=\"url(#clip582)\" style=\"stroke:#000000; stroke-linecap:butt; stroke-linejoin:round; stroke-width:2; stroke-opacity:0.1; fill:none\" points=\"\n",
       "  192.941,583.782 1152.76,583.782 \n",
       "  \"/>\n",
       "<polyline clip-path=\"url(#clip582)\" style=\"stroke:#000000; stroke-linecap:butt; stroke-linejoin:round; stroke-width:2; stroke-opacity:0.1; fill:none\" points=\"\n",
       "  192.941,339.447 1152.76,339.447 \n",
       "  \"/>\n",
       "<polyline clip-path=\"url(#clip582)\" style=\"stroke:#000000; stroke-linecap:butt; stroke-linejoin:round; stroke-width:2; stroke-opacity:0.1; fill:none\" points=\"\n",
       "  192.941,95.1112 1152.76,95.1112 \n",
       "  \"/>\n",
       "<polyline clip-path=\"url(#clip580)\" style=\"stroke:#000000; stroke-linecap:butt; stroke-linejoin:round; stroke-width:4; stroke-opacity:1; fill:none\" points=\"\n",
       "  192.941,1047.7 192.941,47.2441 \n",
       "  \"/>\n",
       "<polyline clip-path=\"url(#clip580)\" style=\"stroke:#000000; stroke-linecap:butt; stroke-linejoin:round; stroke-width:4; stroke-opacity:1; fill:none\" points=\"\n",
       "  192.941,828.118 211.838,828.118 \n",
       "  \"/>\n",
       "<polyline clip-path=\"url(#clip580)\" style=\"stroke:#000000; stroke-linecap:butt; stroke-linejoin:round; stroke-width:4; stroke-opacity:1; fill:none\" points=\"\n",
       "  192.941,583.782 211.838,583.782 \n",
       "  \"/>\n",
       "<polyline clip-path=\"url(#clip580)\" style=\"stroke:#000000; stroke-linecap:butt; stroke-linejoin:round; stroke-width:4; stroke-opacity:1; fill:none\" points=\"\n",
       "  192.941,339.447 211.838,339.447 \n",
       "  \"/>\n",
       "<polyline clip-path=\"url(#clip580)\" style=\"stroke:#000000; stroke-linecap:butt; stroke-linejoin:round; stroke-width:4; stroke-opacity:1; fill:none\" points=\"\n",
       "  192.941,95.1112 211.838,95.1112 \n",
       "  \"/>\n",
       "<path clip-path=\"url(#clip580)\" d=\"M50.9921 828.569 L80.6679 828.569 L80.6679 832.504 L50.9921 832.504 L50.9921 828.569 Z\" fill=\"#000000\" fill-rule=\"evenodd\" fill-opacity=\"1\" /><path clip-path=\"url(#clip580)\" d=\"M100.76 813.917 Q97.1493 813.917 95.3206 817.481 Q93.515 821.023 93.515 828.153 Q93.515 835.259 95.3206 838.824 Q97.1493 842.365 100.76 842.365 Q104.395 842.365 106.2 838.824 Q108.029 835.259 108.029 828.153 Q108.029 821.023 106.2 817.481 Q104.395 813.917 100.76 813.917 M100.76 810.213 Q106.571 810.213 109.626 814.819 Q112.705 819.403 112.705 828.153 Q112.705 836.879 109.626 841.486 Q106.571 846.069 100.76 846.069 Q94.9502 846.069 91.8715 841.486 Q88.816 836.879 88.816 828.153 Q88.816 819.403 91.8715 814.819 Q94.9502 810.213 100.76 810.213 Z\" fill=\"#000000\" fill-rule=\"evenodd\" fill-opacity=\"1\" /><path clip-path=\"url(#clip580)\" d=\"M120.922 839.518 L125.807 839.518 L125.807 845.398 L120.922 845.398 L120.922 839.518 Z\" fill=\"#000000\" fill-rule=\"evenodd\" fill-opacity=\"1\" /><path clip-path=\"url(#clip580)\" d=\"M136.038 810.838 L154.394 810.838 L154.394 814.773 L140.32 814.773 L140.32 823.245 Q141.339 822.898 142.357 822.736 Q143.376 822.551 144.394 822.551 Q150.181 822.551 153.561 825.722 Q156.941 828.893 156.941 834.31 Q156.941 839.889 153.468 842.99 Q149.996 846.069 143.677 846.069 Q141.501 846.069 139.232 845.699 Q136.987 845.328 134.58 844.588 L134.58 839.889 Q136.663 841.023 138.885 841.578 Q141.107 842.134 143.584 842.134 Q147.589 842.134 149.927 840.028 Q152.265 837.921 152.265 834.31 Q152.265 830.699 149.927 828.592 Q147.589 826.486 143.584 826.486 Q141.709 826.486 139.834 826.903 Q137.982 827.319 136.038 828.199 L136.038 810.838 Z\" fill=\"#000000\" fill-rule=\"evenodd\" fill-opacity=\"1\" /><path clip-path=\"url(#clip580)\" d=\"M99.765 569.581 Q96.1539 569.581 94.3252 573.146 Q92.5197 576.687 92.5197 583.817 Q92.5197 590.923 94.3252 594.488 Q96.1539 598.03 99.765 598.03 Q103.399 598.03 105.205 594.488 Q107.033 590.923 107.033 583.817 Q107.033 576.687 105.205 573.146 Q103.399 569.581 99.765 569.581 M99.765 565.877 Q105.575 565.877 108.631 570.484 Q111.709 575.067 111.709 583.817 Q111.709 592.544 108.631 597.15 Q105.575 601.734 99.765 601.734 Q93.9549 601.734 90.8762 597.15 Q87.8206 592.544 87.8206 583.817 Q87.8206 575.067 90.8762 570.484 Q93.9549 565.877 99.765 565.877 Z\" fill=\"#000000\" fill-rule=\"evenodd\" fill-opacity=\"1\" /><path clip-path=\"url(#clip580)\" d=\"M119.927 595.183 L124.811 595.183 L124.811 601.062 L119.927 601.062 L119.927 595.183 Z\" fill=\"#000000\" fill-rule=\"evenodd\" fill-opacity=\"1\" /><path clip-path=\"url(#clip580)\" d=\"M144.996 569.581 Q141.385 569.581 139.556 573.146 Q137.751 576.687 137.751 583.817 Q137.751 590.923 139.556 594.488 Q141.385 598.03 144.996 598.03 Q148.63 598.03 150.436 594.488 Q152.265 590.923 152.265 583.817 Q152.265 576.687 150.436 573.146 Q148.63 569.581 144.996 569.581 M144.996 565.877 Q150.806 565.877 153.862 570.484 Q156.941 575.067 156.941 583.817 Q156.941 592.544 153.862 597.15 Q150.806 601.734 144.996 601.734 Q139.186 601.734 136.107 597.15 Q133.052 592.544 133.052 583.817 Q133.052 575.067 136.107 570.484 Q139.186 565.877 144.996 565.877 Z\" fill=\"#000000\" fill-rule=\"evenodd\" fill-opacity=\"1\" /><path clip-path=\"url(#clip580)\" d=\"M100.76 325.245 Q97.1493 325.245 95.3206 328.81 Q93.515 332.352 93.515 339.481 Q93.515 346.588 95.3206 350.153 Q97.1493 353.694 100.76 353.694 Q104.395 353.694 106.2 350.153 Q108.029 346.588 108.029 339.481 Q108.029 332.352 106.2 328.81 Q104.395 325.245 100.76 325.245 M100.76 321.542 Q106.571 321.542 109.626 326.148 Q112.705 330.732 112.705 339.481 Q112.705 348.208 109.626 352.815 Q106.571 357.398 100.76 357.398 Q94.9502 357.398 91.8715 352.815 Q88.816 348.208 88.816 339.481 Q88.816 330.732 91.8715 326.148 Q94.9502 321.542 100.76 321.542 Z\" fill=\"#000000\" fill-rule=\"evenodd\" fill-opacity=\"1\" /><path clip-path=\"url(#clip580)\" d=\"M120.922 350.847 L125.807 350.847 L125.807 356.727 L120.922 356.727 L120.922 350.847 Z\" fill=\"#000000\" fill-rule=\"evenodd\" fill-opacity=\"1\" /><path clip-path=\"url(#clip580)\" d=\"M136.038 322.167 L154.394 322.167 L154.394 326.102 L140.32 326.102 L140.32 334.574 Q141.339 334.227 142.357 334.065 Q143.376 333.88 144.394 333.88 Q150.181 333.88 153.561 337.051 Q156.941 340.222 156.941 345.639 Q156.941 351.218 153.468 354.319 Q149.996 357.398 143.677 357.398 Q141.501 357.398 139.232 357.028 Q136.987 356.657 134.58 355.917 L134.58 351.218 Q136.663 352.352 138.885 352.907 Q141.107 353.463 143.584 353.463 Q147.589 353.463 149.927 351.356 Q152.265 349.25 152.265 345.639 Q152.265 342.028 149.927 339.921 Q147.589 337.815 143.584 337.815 Q141.709 337.815 139.834 338.231 Q137.982 338.648 136.038 339.528 L136.038 322.167 Z\" fill=\"#000000\" fill-rule=\"evenodd\" fill-opacity=\"1\" /><path clip-path=\"url(#clip580)\" d=\"M90.5752 108.456 L98.2141 108.456 L98.2141 82.0904 L89.904 83.7571 L89.904 79.4978 L98.1678 77.8312 L102.844 77.8312 L102.844 108.456 L110.483 108.456 L110.483 112.391 L90.5752 112.391 L90.5752 108.456 Z\" fill=\"#000000\" fill-rule=\"evenodd\" fill-opacity=\"1\" /><path clip-path=\"url(#clip580)\" d=\"M119.927 106.512 L124.811 106.512 L124.811 112.391 L119.927 112.391 L119.927 106.512 Z\" fill=\"#000000\" fill-rule=\"evenodd\" fill-opacity=\"1\" /><path clip-path=\"url(#clip580)\" d=\"M144.996 80.9099 Q141.385 80.9099 139.556 84.4747 Q137.751 88.0163 137.751 95.1459 Q137.751 102.252 139.556 105.817 Q141.385 109.359 144.996 109.359 Q148.63 109.359 150.436 105.817 Q152.265 102.252 152.265 95.1459 Q152.265 88.0163 150.436 84.4747 Q148.63 80.9099 144.996 80.9099 M144.996 77.2062 Q150.806 77.2062 153.862 81.8126 Q156.941 86.3959 156.941 95.1459 Q156.941 103.873 153.862 108.479 Q150.806 113.062 144.996 113.062 Q139.186 113.062 136.107 108.479 Q133.052 103.873 133.052 95.1459 Q133.052 86.3959 136.107 81.8126 Q139.186 77.2062 144.996 77.2062 Z\" fill=\"#000000\" fill-rule=\"evenodd\" fill-opacity=\"1\" /><circle clip-path=\"url(#clip582)\" cx=\"944.745\" cy=\"557.588\" r=\"14\" fill=\"#cd5c5c\" fill-rule=\"evenodd\" fill-opacity=\"1\" stroke=\"#000000\" stroke-opacity=\"1\" stroke-width=\"2.4\"/>\n",
       "<circle clip-path=\"url(#clip582)\" cx=\"1027.69\" cy=\"478.393\" r=\"14\" fill=\"#cd5c5c\" fill-rule=\"evenodd\" fill-opacity=\"1\" stroke=\"#000000\" stroke-opacity=\"1\" stroke-width=\"2.4\"/>\n",
       "<circle clip-path=\"url(#clip582)\" cx=\"1125.59\" cy=\"328.768\" r=\"14\" fill=\"#cd5c5c\" fill-rule=\"evenodd\" fill-opacity=\"1\" stroke=\"#000000\" stroke-opacity=\"1\" stroke-width=\"2.4\"/>\n",
       "<circle clip-path=\"url(#clip582)\" cx=\"758.106\" cy=\"550.513\" r=\"14\" fill=\"#cd5c5c\" fill-rule=\"evenodd\" fill-opacity=\"1\" stroke=\"#000000\" stroke-opacity=\"1\" stroke-width=\"2.4\"/>\n",
       "<circle clip-path=\"url(#clip582)\" cx=\"470.247\" cy=\"793.079\" r=\"14\" fill=\"#cd5c5c\" fill-rule=\"evenodd\" fill-opacity=\"1\" stroke=\"#000000\" stroke-opacity=\"1\" stroke-width=\"2.4\"/>\n",
       "<circle clip-path=\"url(#clip582)\" cx=\"851.54\" cy=\"121.349\" r=\"14\" fill=\"#cd5c5c\" fill-rule=\"evenodd\" fill-opacity=\"1\" stroke=\"#000000\" stroke-opacity=\"1\" stroke-width=\"2.4\"/>\n",
       "<circle clip-path=\"url(#clip582)\" cx=\"902.411\" cy=\"75.5589\" r=\"14\" fill=\"#cd5c5c\" fill-rule=\"evenodd\" fill-opacity=\"1\" stroke=\"#000000\" stroke-opacity=\"1\" stroke-width=\"2.4\"/>\n",
       "<circle clip-path=\"url(#clip582)\" cx=\"869.517\" cy=\"798.876\" r=\"14\" fill=\"#cd5c5c\" fill-rule=\"evenodd\" fill-opacity=\"1\" stroke=\"#000000\" stroke-opacity=\"1\" stroke-width=\"2.4\"/>\n",
       "<circle clip-path=\"url(#clip582)\" cx=\"996.52\" cy=\"476.909\" r=\"14\" fill=\"#cd5c5c\" fill-rule=\"evenodd\" fill-opacity=\"1\" stroke=\"#000000\" stroke-opacity=\"1\" stroke-width=\"2.4\"/>\n",
       "<circle clip-path=\"url(#clip582)\" cx=\"442.973\" cy=\"878.143\" r=\"14\" fill=\"#cd5c5c\" fill-rule=\"evenodd\" fill-opacity=\"1\" stroke=\"#000000\" stroke-opacity=\"1\" stroke-width=\"2.4\"/>\n",
       "<circle clip-path=\"url(#clip582)\" cx=\"935.954\" cy=\"339.61\" r=\"14\" fill=\"#cd5c5c\" fill-rule=\"evenodd\" fill-opacity=\"1\" stroke=\"#000000\" stroke-opacity=\"1\" stroke-width=\"2.4\"/>\n",
       "<circle clip-path=\"url(#clip582)\" cx=\"1042.54\" cy=\"247.197\" r=\"14\" fill=\"#cd5c5c\" fill-rule=\"evenodd\" fill-opacity=\"1\" stroke=\"#000000\" stroke-opacity=\"1\" stroke-width=\"2.4\"/>\n",
       "<circle clip-path=\"url(#clip582)\" cx=\"890.73\" cy=\"493.837\" r=\"14\" fill=\"#cd5c5c\" fill-rule=\"evenodd\" fill-opacity=\"1\" stroke=\"#000000\" stroke-opacity=\"1\" stroke-width=\"2.4\"/>\n",
       "<circle clip-path=\"url(#clip582)\" cx=\"789.091\" cy=\"371.365\" r=\"14\" fill=\"#cd5c5c\" fill-rule=\"evenodd\" fill-opacity=\"1\" stroke=\"#000000\" stroke-opacity=\"1\" stroke-width=\"2.4\"/>\n",
       "<circle clip-path=\"url(#clip582)\" cx=\"543.208\" cy=\"812.538\" r=\"14\" fill=\"#cd5c5c\" fill-rule=\"evenodd\" fill-opacity=\"1\" stroke=\"#000000\" stroke-opacity=\"1\" stroke-width=\"2.4\"/>\n",
       "<circle clip-path=\"url(#clip582)\" cx=\"1114.03\" cy=\"125.002\" r=\"14\" fill=\"#cd5c5c\" fill-rule=\"evenodd\" fill-opacity=\"1\" stroke=\"#000000\" stroke-opacity=\"1\" stroke-width=\"2.4\"/>\n",
       "<circle clip-path=\"url(#clip582)\" cx=\"1116.76\" cy=\"182.236\" r=\"14\" fill=\"#cd5c5c\" fill-rule=\"evenodd\" fill-opacity=\"1\" stroke=\"#000000\" stroke-opacity=\"1\" stroke-width=\"2.4\"/>\n",
       "<circle clip-path=\"url(#clip582)\" cx=\"817.847\" cy=\"445.607\" r=\"14\" fill=\"#cd5c5c\" fill-rule=\"evenodd\" fill-opacity=\"1\" stroke=\"#000000\" stroke-opacity=\"1\" stroke-width=\"2.4\"/>\n",
       "<circle clip-path=\"url(#clip582)\" cx=\"927.831\" cy=\"286.509\" r=\"14\" fill=\"#cd5c5c\" fill-rule=\"evenodd\" fill-opacity=\"1\" stroke=\"#000000\" stroke-opacity=\"1\" stroke-width=\"2.4\"/>\n",
       "<circle clip-path=\"url(#clip582)\" cx=\"902.54\" cy=\"270.908\" r=\"14\" fill=\"#cd5c5c\" fill-rule=\"evenodd\" fill-opacity=\"1\" stroke=\"#000000\" stroke-opacity=\"1\" stroke-width=\"2.4\"/>\n",
       "<circle clip-path=\"url(#clip582)\" cx=\"643.253\" cy=\"511.144\" r=\"14\" fill=\"#cd5c5c\" fill-rule=\"evenodd\" fill-opacity=\"1\" stroke=\"#000000\" stroke-opacity=\"1\" stroke-width=\"2.4\"/>\n",
       "<circle clip-path=\"url(#clip582)\" cx=\"1020.97\" cy=\"340.796\" r=\"14\" fill=\"#cd5c5c\" fill-rule=\"evenodd\" fill-opacity=\"1\" stroke=\"#000000\" stroke-opacity=\"1\" stroke-width=\"2.4\"/>\n",
       "<circle clip-path=\"url(#clip582)\" cx=\"1106.02\" cy=\"272.617\" r=\"14\" fill=\"#cd5c5c\" fill-rule=\"evenodd\" fill-opacity=\"1\" stroke=\"#000000\" stroke-opacity=\"1\" stroke-width=\"2.4\"/>\n",
       "<circle clip-path=\"url(#clip582)\" cx=\"508.367\" cy=\"841.74\" r=\"14\" fill=\"#cd5c5c\" fill-rule=\"evenodd\" fill-opacity=\"1\" stroke=\"#000000\" stroke-opacity=\"1\" stroke-width=\"2.4\"/>\n",
       "<circle clip-path=\"url(#clip582)\" cx=\"977.349\" cy=\"307.914\" r=\"14\" fill=\"#cd5c5c\" fill-rule=\"evenodd\" fill-opacity=\"1\" stroke=\"#000000\" stroke-opacity=\"1\" stroke-width=\"2.4\"/>\n",
       "<circle clip-path=\"url(#clip582)\" cx=\"1003.27\" cy=\"239.286\" r=\"14\" fill=\"#cd5c5c\" fill-rule=\"evenodd\" fill-opacity=\"1\" stroke=\"#000000\" stroke-opacity=\"1\" stroke-width=\"2.4\"/>\n",
       "<circle clip-path=\"url(#clip582)\" cx=\"483.765\" cy=\"649.969\" r=\"14\" fill=\"#4682b4\" fill-rule=\"evenodd\" fill-opacity=\"1\" stroke=\"#000000\" stroke-opacity=\"1\" stroke-width=\"2.4\"/>\n",
       "<circle clip-path=\"url(#clip582)\" cx=\"562.272\" cy=\"601.442\" r=\"14\" fill=\"#4682b4\" fill-rule=\"evenodd\" fill-opacity=\"1\" stroke=\"#000000\" stroke-opacity=\"1\" stroke-width=\"2.4\"/>\n",
       "<circle clip-path=\"url(#clip582)\" cx=\"264.104\" cy=\"771.341\" r=\"14\" fill=\"#4682b4\" fill-rule=\"evenodd\" fill-opacity=\"1\" stroke=\"#000000\" stroke-opacity=\"1\" stroke-width=\"2.4\"/>\n",
       "<circle clip-path=\"url(#clip582)\" cx=\"503.247\" cy=\"628.616\" r=\"14\" fill=\"#4682b4\" fill-rule=\"evenodd\" fill-opacity=\"1\" stroke=\"#000000\" stroke-opacity=\"1\" stroke-width=\"2.4\"/>\n",
       "<circle clip-path=\"url(#clip582)\" cx=\"245.575\" cy=\"1019.39\" r=\"14\" fill=\"#4682b4\" fill-rule=\"evenodd\" fill-opacity=\"1\" stroke=\"#000000\" stroke-opacity=\"1\" stroke-width=\"2.4\"/>\n",
       "<circle clip-path=\"url(#clip582)\" cx=\"395.743\" cy=\"825.52\" r=\"14\" fill=\"#4682b4\" fill-rule=\"evenodd\" fill-opacity=\"1\" stroke=\"#000000\" stroke-opacity=\"1\" stroke-width=\"2.4\"/>\n",
       "<circle clip-path=\"url(#clip582)\" cx=\"356.144\" cy=\"704.964\" r=\"14\" fill=\"#4682b4\" fill-rule=\"evenodd\" fill-opacity=\"1\" stroke=\"#000000\" stroke-opacity=\"1\" stroke-width=\"2.4\"/>\n",
       "<circle clip-path=\"url(#clip582)\" cx=\"242.458\" cy=\"898.181\" r=\"14\" fill=\"#4682b4\" fill-rule=\"evenodd\" fill-opacity=\"1\" stroke=\"#000000\" stroke-opacity=\"1\" stroke-width=\"2.4\"/>\n",
       "<circle clip-path=\"url(#clip582)\" cx=\"429.96\" cy=\"781.43\" r=\"14\" fill=\"#4682b4\" fill-rule=\"evenodd\" fill-opacity=\"1\" stroke=\"#000000\" stroke-opacity=\"1\" stroke-width=\"2.4\"/>\n",
       "<circle clip-path=\"url(#clip582)\" cx=\"745.62\" cy=\"647.379\" r=\"14\" fill=\"#4682b4\" fill-rule=\"evenodd\" fill-opacity=\"1\" stroke=\"#000000\" stroke-opacity=\"1\" stroke-width=\"2.4\"/>\n",
       "<circle clip-path=\"url(#clip582)\" cx=\"278.07\" cy=\"836.278\" r=\"14\" fill=\"#4682b4\" fill-rule=\"evenodd\" fill-opacity=\"1\" stroke=\"#000000\" stroke-opacity=\"1\" stroke-width=\"2.4\"/>\n",
       "<circle clip-path=\"url(#clip582)\" cx=\"409.949\" cy=\"546.9\" r=\"14\" fill=\"#4682b4\" fill-rule=\"evenodd\" fill-opacity=\"1\" stroke=\"#000000\" stroke-opacity=\"1\" stroke-width=\"2.4\"/>\n",
       "<circle clip-path=\"url(#clip582)\" cx=\"569.235\" cy=\"261.8\" r=\"14\" fill=\"#4682b4\" fill-rule=\"evenodd\" fill-opacity=\"1\" stroke=\"#000000\" stroke-opacity=\"1\" stroke-width=\"2.4\"/>\n",
       "<circle clip-path=\"url(#clip582)\" cx=\"361.018\" cy=\"989.758\" r=\"14\" fill=\"#4682b4\" fill-rule=\"evenodd\" fill-opacity=\"1\" stroke=\"#000000\" stroke-opacity=\"1\" stroke-width=\"2.4\"/>\n",
       "<circle clip-path=\"url(#clip582)\" cx=\"630.177\" cy=\"945.31\" r=\"14\" fill=\"#4682b4\" fill-rule=\"evenodd\" fill-opacity=\"1\" stroke=\"#000000\" stroke-opacity=\"1\" stroke-width=\"2.4\"/>\n",
       "<circle clip-path=\"url(#clip582)\" cx=\"346.984\" cy=\"785.327\" r=\"14\" fill=\"#4682b4\" fill-rule=\"evenodd\" fill-opacity=\"1\" stroke=\"#000000\" stroke-opacity=\"1\" stroke-width=\"2.4\"/>\n",
       "<circle clip-path=\"url(#clip582)\" cx=\"286.234\" cy=\"730.483\" r=\"14\" fill=\"#4682b4\" fill-rule=\"evenodd\" fill-opacity=\"1\" stroke=\"#000000\" stroke-opacity=\"1\" stroke-width=\"2.4\"/>\n",
       "<circle clip-path=\"url(#clip582)\" cx=\"289.034\" cy=\"751.044\" r=\"14\" fill=\"#4682b4\" fill-rule=\"evenodd\" fill-opacity=\"1\" stroke=\"#000000\" stroke-opacity=\"1\" stroke-width=\"2.4\"/>\n",
       "<circle clip-path=\"url(#clip582)\" cx=\"307.846\" cy=\"784.228\" r=\"14\" fill=\"#4682b4\" fill-rule=\"evenodd\" fill-opacity=\"1\" stroke=\"#000000\" stroke-opacity=\"1\" stroke-width=\"2.4\"/>\n",
       "<circle clip-path=\"url(#clip582)\" cx=\"220.105\" cy=\"675.425\" r=\"14\" fill=\"#4682b4\" fill-rule=\"evenodd\" fill-opacity=\"1\" stroke=\"#000000\" stroke-opacity=\"1\" stroke-width=\"2.4\"/>\n",
       "<circle clip-path=\"url(#clip582)\" cx=\"240.201\" cy=\"1015.69\" r=\"14\" fill=\"#4682b4\" fill-rule=\"evenodd\" fill-opacity=\"1\" stroke=\"#000000\" stroke-opacity=\"1\" stroke-width=\"2.4\"/>\n",
       "<circle clip-path=\"url(#clip582)\" cx=\"329.534\" cy=\"758.225\" r=\"14\" fill=\"#4682b4\" fill-rule=\"evenodd\" fill-opacity=\"1\" stroke=\"#000000\" stroke-opacity=\"1\" stroke-width=\"2.4\"/>\n",
       "<circle clip-path=\"url(#clip582)\" cx=\"257.251\" cy=\"772.175\" r=\"14\" fill=\"#4682b4\" fill-rule=\"evenodd\" fill-opacity=\"1\" stroke=\"#000000\" stroke-opacity=\"1\" stroke-width=\"2.4\"/>\n",
       "<circle clip-path=\"url(#clip582)\" cx=\"359.222\" cy=\"660.77\" r=\"14\" fill=\"#4682b4\" fill-rule=\"evenodd\" fill-opacity=\"1\" stroke=\"#000000\" stroke-opacity=\"1\" stroke-width=\"2.4\"/>\n",
       "<path clip-path=\"url(#clip580)\" d=\"\n",
       "M860.182 236.113 L1120.76 236.113 L1120.76 80.5926 L860.182 80.5926  Z\n",
       "  \" fill=\"#ffffff\" fill-rule=\"evenodd\" fill-opacity=\"1\"/>\n",
       "<polyline clip-path=\"url(#clip580)\" style=\"stroke:#000000; stroke-linecap:butt; stroke-linejoin:round; stroke-width:4; stroke-opacity:1; fill:none\" points=\"\n",
       "  860.182,236.113 1120.76,236.113 1120.76,80.5926 860.182,80.5926 860.182,236.113 \n",
       "  \"/>\n",
       "<circle clip-path=\"url(#clip580)\" cx=\"902.84\" cy=\"132.433\" r=\"23\" fill=\"#cd5c5c\" fill-rule=\"evenodd\" fill-opacity=\"1\" stroke=\"#000000\" stroke-opacity=\"1\" stroke-width=\"3.84\"/>\n",
       "<path clip-path=\"url(#clip580)\" d=\"M973.369 117.815 L973.369 122.745 Q971.008 120.546 968.322 119.458 Q965.66 118.37 962.651 118.37 Q956.725 118.37 953.577 122.004 Q950.429 125.616 950.429 132.467 Q950.429 139.296 953.577 142.93 Q956.725 146.541 962.651 146.541 Q965.66 146.541 968.322 145.453 Q971.008 144.365 973.369 142.166 L973.369 147.051 Q970.915 148.717 968.16 149.551 Q965.429 150.384 962.373 150.384 Q954.526 150.384 950.012 145.592 Q945.498 140.777 945.498 132.467 Q945.498 124.134 950.012 119.342 Q954.526 114.528 962.373 114.528 Q965.475 114.528 968.207 115.361 Q970.961 116.171 973.369 117.815 Z\" fill=\"#000000\" fill-rule=\"evenodd\" fill-opacity=\"1\" /><path clip-path=\"url(#clip580)\" d=\"M990.452 126.773 Q987.026 126.773 985.035 129.458 Q983.045 132.12 983.045 136.773 Q983.045 141.426 985.012 144.111 Q987.003 146.773 990.452 146.773 Q993.855 146.773 995.845 144.088 Q997.836 141.402 997.836 136.773 Q997.836 132.166 995.845 129.481 Q993.855 126.773 990.452 126.773 M990.452 123.162 Q996.007 123.162 999.179 126.773 Q1002.35 130.384 1002.35 136.773 Q1002.35 143.139 999.179 146.773 Q996.007 150.384 990.452 150.384 Q984.873 150.384 981.702 146.773 Q978.554 143.139 978.554 136.773 Q978.554 130.384 981.702 126.773 Q984.873 123.162 990.452 123.162 Z\" fill=\"#000000\" fill-rule=\"evenodd\" fill-opacity=\"1\" /><path clip-path=\"url(#clip580)\" d=\"M1021.19 136.68 Q1016.03 136.68 1014.04 137.861 Q1012.05 139.041 1012.05 141.889 Q1012.05 144.157 1013.53 145.5 Q1015.04 146.819 1017.6 146.819 Q1021.15 146.819 1023.28 144.319 Q1025.43 141.796 1025.43 137.629 L1025.43 136.68 L1021.19 136.68 M1029.69 134.921 L1029.69 149.713 L1025.43 149.713 L1025.43 145.777 Q1023.97 148.139 1021.79 149.273 Q1019.62 150.384 1016.47 150.384 Q1012.49 150.384 1010.13 148.162 Q1007.79 145.916 1007.79 142.166 Q1007.79 137.791 1010.71 135.569 Q1013.65 133.347 1019.46 133.347 L1025.43 133.347 L1025.43 132.93 Q1025.43 129.991 1023.48 128.393 Q1021.56 126.773 1018.07 126.773 Q1015.85 126.773 1013.74 127.305 Q1011.63 127.838 1009.69 128.903 L1009.69 124.967 Q1012.03 124.065 1014.22 123.625 Q1016.42 123.162 1018.51 123.162 Q1024.13 123.162 1026.91 126.078 Q1029.69 128.995 1029.69 134.921 Z\" fill=\"#000000\" fill-rule=\"evenodd\" fill-opacity=\"1\" /><path clip-path=\"url(#clip580)\" d=\"M1042.67 116.426 L1042.67 123.787 L1051.45 123.787 L1051.45 127.097 L1042.67 127.097 L1042.67 141.171 Q1042.67 144.342 1043.53 145.245 Q1044.41 146.148 1047.07 146.148 L1051.45 146.148 L1051.45 149.713 L1047.07 149.713 Q1042.14 149.713 1040.27 147.884 Q1038.39 146.032 1038.39 141.171 L1038.39 127.097 L1035.27 127.097 L1035.27 123.787 L1038.39 123.787 L1038.39 116.426 L1042.67 116.426 Z\" fill=\"#000000\" fill-rule=\"evenodd\" fill-opacity=\"1\" /><circle clip-path=\"url(#clip580)\" cx=\"902.84\" cy=\"184.273\" r=\"23\" fill=\"#4682b4\" fill-rule=\"evenodd\" fill-opacity=\"1\" stroke=\"#000000\" stroke-opacity=\"1\" stroke-width=\"3.84\"/>\n",
       "<path clip-path=\"url(#clip580)\" d=\"M967.744 168.127 L967.744 172.687 Q965.082 171.414 962.721 170.789 Q960.36 170.164 958.16 170.164 Q954.341 170.164 952.258 171.645 Q950.198 173.127 950.198 175.858 Q950.198 178.15 951.563 179.331 Q952.952 180.488 956.795 181.206 L959.619 181.784 Q964.85 182.78 967.327 185.303 Q969.827 187.803 969.827 192.016 Q969.827 197.039 966.447 199.631 Q963.091 202.224 956.586 202.224 Q954.133 202.224 951.355 201.668 Q948.6 201.113 945.637 200.025 L945.637 195.21 Q948.485 196.807 951.216 197.617 Q953.948 198.428 956.586 198.428 Q960.591 198.428 962.767 196.854 Q964.943 195.28 964.943 192.363 Q964.943 189.817 963.369 188.381 Q961.818 186.946 958.253 186.229 L955.406 185.673 Q950.174 184.631 947.836 182.409 Q945.498 180.187 945.498 176.229 Q945.498 171.645 948.716 169.006 Q951.957 166.368 957.628 166.368 Q960.059 166.368 962.582 166.807 Q965.105 167.247 967.744 168.127 Z\" fill=\"#000000\" fill-rule=\"evenodd\" fill-opacity=\"1\" /><path clip-path=\"url(#clip580)\" d=\"M988.716 188.52 Q983.554 188.52 981.563 189.701 Q979.572 190.881 979.572 193.729 Q979.572 195.997 981.054 197.34 Q982.558 198.659 985.128 198.659 Q988.67 198.659 990.799 196.159 Q992.952 193.636 992.952 189.469 L992.952 188.52 L988.716 188.52 M997.211 186.761 L997.211 201.553 L992.952 201.553 L992.952 197.617 Q991.494 199.979 989.318 201.113 Q987.142 202.224 983.994 202.224 Q980.012 202.224 977.651 200.002 Q975.313 197.756 975.313 194.006 Q975.313 189.631 978.23 187.409 Q981.17 185.187 986.98 185.187 L992.952 185.187 L992.952 184.77 Q992.952 181.831 991.007 180.233 Q989.086 178.613 985.591 178.613 Q983.369 178.613 981.262 179.145 Q979.156 179.678 977.211 180.743 L977.211 176.807 Q979.549 175.905 981.748 175.465 Q983.947 175.002 986.031 175.002 Q991.656 175.002 994.433 177.918 Q997.211 180.835 997.211 186.761 Z\" fill=\"#000000\" fill-rule=\"evenodd\" fill-opacity=\"1\" /><path clip-path=\"url(#clip580)\" d=\"M1027.54 185.905 L1027.54 201.553 L1023.28 201.553 L1023.28 186.043 Q1023.28 182.363 1021.84 180.534 Q1020.41 178.706 1017.54 178.706 Q1014.09 178.706 1012.1 180.905 Q1010.1 183.104 1010.1 186.9 L1010.1 201.553 L1005.82 201.553 L1005.82 175.627 L1010.1 175.627 L1010.1 179.655 Q1011.63 177.317 1013.69 176.159 Q1015.78 175.002 1018.48 175.002 Q1022.95 175.002 1025.24 177.78 Q1027.54 180.534 1027.54 185.905 Z\" fill=\"#000000\" fill-rule=\"evenodd\" fill-opacity=\"1\" /><path clip-path=\"url(#clip580)\" d=\"M1053.09 179.562 L1053.09 165.534 L1057.35 165.534 L1057.35 201.553 L1053.09 201.553 L1053.09 197.664 Q1051.75 199.979 1049.69 201.113 Q1047.65 202.224 1044.78 202.224 Q1040.08 202.224 1037.12 198.474 Q1034.18 194.724 1034.18 188.613 Q1034.18 182.502 1037.12 178.752 Q1040.08 175.002 1044.78 175.002 Q1047.65 175.002 1049.69 176.136 Q1051.75 177.247 1053.09 179.562 M1038.58 188.613 Q1038.58 193.312 1040.5 195.997 Q1042.44 198.659 1045.82 198.659 Q1049.2 198.659 1051.15 195.997 Q1053.09 193.312 1053.09 188.613 Q1053.09 183.914 1051.15 181.252 Q1049.2 178.567 1045.82 178.567 Q1042.44 178.567 1040.5 181.252 Q1038.58 183.914 1038.58 188.613 Z\" fill=\"#000000\" fill-rule=\"evenodd\" fill-opacity=\"1\" /><path clip-path=\"url(#clip580)\" d=\"M1077.91 188.52 Q1072.74 188.52 1070.75 189.701 Q1068.76 190.881 1068.76 193.729 Q1068.76 195.997 1070.24 197.34 Q1071.75 198.659 1074.32 198.659 Q1077.86 198.659 1079.99 196.159 Q1082.14 193.636 1082.14 189.469 L1082.14 188.52 L1077.91 188.52 M1086.4 186.761 L1086.4 201.553 L1082.14 201.553 L1082.14 197.617 Q1080.68 199.979 1078.51 201.113 Q1076.33 202.224 1073.18 202.224 Q1069.2 202.224 1066.84 200.002 Q1064.5 197.756 1064.5 194.006 Q1064.5 189.631 1067.42 187.409 Q1070.36 185.187 1076.17 185.187 L1082.14 185.187 L1082.14 184.77 Q1082.14 181.831 1080.2 180.233 Q1078.28 178.613 1074.78 178.613 Q1072.56 178.613 1070.45 179.145 Q1068.35 179.678 1066.4 180.743 L1066.4 176.807 Q1068.74 175.905 1070.94 175.465 Q1073.14 175.002 1075.22 175.002 Q1080.84 175.002 1083.62 177.918 Q1086.4 180.835 1086.4 186.761 Z\" fill=\"#000000\" fill-rule=\"evenodd\" fill-opacity=\"1\" /><path clip-path=\"url(#clip580)\" d=\"M1095.17 165.534 L1099.43 165.534 L1099.43 201.553 L1095.17 201.553 L1095.17 165.534 Z\" fill=\"#000000\" fill-rule=\"evenodd\" fill-opacity=\"1\" /><path clip-path=\"url(#clip580)\" d=\"\n",
       "M1392.94 1047.7 L2352.76 1047.7 L2352.76 47.2441 L1392.94 47.2441  Z\n",
       "  \" fill=\"#ffffff\" fill-rule=\"evenodd\" fill-opacity=\"1\"/>\n",
       "<defs>\n",
       "  <clipPath id=\"clip583\">\n",
       "    <rect x=\"1392\" y=\"47\" width=\"961\" height=\"1001\"/>\n",
       "  </clipPath>\n",
       "</defs>\n",
       "<polyline clip-path=\"url(#clip583)\" style=\"stroke:#000000; stroke-linecap:butt; stroke-linejoin:round; stroke-width:2; stroke-opacity:0.1; fill:none\" points=\"\n",
       "  1524.43,1047.7 1524.43,47.2441 \n",
       "  \"/>\n",
       "<polyline clip-path=\"url(#clip583)\" style=\"stroke:#000000; stroke-linecap:butt; stroke-linejoin:round; stroke-width:2; stroke-opacity:0.1; fill:none\" points=\"\n",
       "  1680.64,1047.7 1680.64,47.2441 \n",
       "  \"/>\n",
       "<polyline clip-path=\"url(#clip583)\" style=\"stroke:#000000; stroke-linecap:butt; stroke-linejoin:round; stroke-width:2; stroke-opacity:0.1; fill:none\" points=\"\n",
       "  1836.86,1047.7 1836.86,47.2441 \n",
       "  \"/>\n",
       "<polyline clip-path=\"url(#clip583)\" style=\"stroke:#000000; stroke-linecap:butt; stroke-linejoin:round; stroke-width:2; stroke-opacity:0.1; fill:none\" points=\"\n",
       "  1993.07,1047.7 1993.07,47.2441 \n",
       "  \"/>\n",
       "<polyline clip-path=\"url(#clip583)\" style=\"stroke:#000000; stroke-linecap:butt; stroke-linejoin:round; stroke-width:2; stroke-opacity:0.1; fill:none\" points=\"\n",
       "  2149.29,1047.7 2149.29,47.2441 \n",
       "  \"/>\n",
       "<polyline clip-path=\"url(#clip583)\" style=\"stroke:#000000; stroke-linecap:butt; stroke-linejoin:round; stroke-width:2; stroke-opacity:0.1; fill:none\" points=\"\n",
       "  2305.5,1047.7 2305.5,47.2441 \n",
       "  \"/>\n",
       "<polyline clip-path=\"url(#clip580)\" style=\"stroke:#000000; stroke-linecap:butt; stroke-linejoin:round; stroke-width:4; stroke-opacity:1; fill:none\" points=\"\n",
       "  1392.94,1047.7 2352.76,1047.7 \n",
       "  \"/>\n",
       "<polyline clip-path=\"url(#clip580)\" style=\"stroke:#000000; stroke-linecap:butt; stroke-linejoin:round; stroke-width:4; stroke-opacity:1; fill:none\" points=\"\n",
       "  1524.43,1047.7 1524.43,1028.8 \n",
       "  \"/>\n",
       "<polyline clip-path=\"url(#clip580)\" style=\"stroke:#000000; stroke-linecap:butt; stroke-linejoin:round; stroke-width:4; stroke-opacity:1; fill:none\" points=\"\n",
       "  1680.64,1047.7 1680.64,1028.8 \n",
       "  \"/>\n",
       "<polyline clip-path=\"url(#clip580)\" style=\"stroke:#000000; stroke-linecap:butt; stroke-linejoin:round; stroke-width:4; stroke-opacity:1; fill:none\" points=\"\n",
       "  1836.86,1047.7 1836.86,1028.8 \n",
       "  \"/>\n",
       "<polyline clip-path=\"url(#clip580)\" style=\"stroke:#000000; stroke-linecap:butt; stroke-linejoin:round; stroke-width:4; stroke-opacity:1; fill:none\" points=\"\n",
       "  1993.07,1047.7 1993.07,1028.8 \n",
       "  \"/>\n",
       "<polyline clip-path=\"url(#clip580)\" style=\"stroke:#000000; stroke-linecap:butt; stroke-linejoin:round; stroke-width:4; stroke-opacity:1; fill:none\" points=\"\n",
       "  2149.29,1047.7 2149.29,1028.8 \n",
       "  \"/>\n",
       "<polyline clip-path=\"url(#clip580)\" style=\"stroke:#000000; stroke-linecap:butt; stroke-linejoin:round; stroke-width:4; stroke-opacity:1; fill:none\" points=\"\n",
       "  2305.5,1047.7 2305.5,1028.8 \n",
       "  \"/>\n",
       "<path clip-path=\"url(#clip580)\" d=\"M1470.96 1093.27 L1500.63 1093.27 L1500.63 1097.21 L1470.96 1097.21 L1470.96 1093.27 Z\" fill=\"#000000\" fill-rule=\"evenodd\" fill-opacity=\"1\" /><path clip-path=\"url(#clip580)\" d=\"M1511.53 1106.16 L1519.17 1106.16 L1519.17 1079.8 L1510.86 1081.47 L1510.86 1077.21 L1519.13 1075.54 L1523.8 1075.54 L1523.8 1106.16 L1531.44 1106.16 L1531.44 1110.1 L1511.53 1110.1 L1511.53 1106.16 Z\" fill=\"#000000\" fill-rule=\"evenodd\" fill-opacity=\"1\" /><path clip-path=\"url(#clip580)\" d=\"M1540.89 1104.22 L1545.77 1104.22 L1545.77 1110.1 L1540.89 1110.1 L1540.89 1104.22 Z\" fill=\"#000000\" fill-rule=\"evenodd\" fill-opacity=\"1\" /><path clip-path=\"url(#clip580)\" d=\"M1565.96 1078.62 Q1562.34 1078.62 1560.52 1082.18 Q1558.71 1085.72 1558.71 1092.85 Q1558.71 1099.96 1560.52 1103.53 Q1562.34 1107.07 1565.96 1107.07 Q1569.59 1107.07 1571.4 1103.53 Q1573.22 1099.96 1573.22 1092.85 Q1573.22 1085.72 1571.4 1082.18 Q1569.59 1078.62 1565.96 1078.62 M1565.96 1074.91 Q1571.77 1074.91 1574.82 1079.52 Q1577.9 1084.1 1577.9 1092.85 Q1577.9 1101.58 1574.82 1106.19 Q1571.77 1110.77 1565.96 1110.77 Q1560.15 1110.77 1557.07 1106.19 Q1554.01 1101.58 1554.01 1092.85 Q1554.01 1084.1 1557.07 1079.52 Q1560.15 1074.91 1565.96 1074.91 Z\" fill=\"#000000\" fill-rule=\"evenodd\" fill-opacity=\"1\" /><path clip-path=\"url(#clip580)\" d=\"M1627.67 1093.27 L1657.34 1093.27 L1657.34 1097.21 L1627.67 1097.21 L1627.67 1093.27 Z\" fill=\"#000000\" fill-rule=\"evenodd\" fill-opacity=\"1\" /><path clip-path=\"url(#clip580)\" d=\"M1677.44 1078.62 Q1673.83 1078.62 1672 1082.18 Q1670.19 1085.72 1670.19 1092.85 Q1670.19 1099.96 1672 1103.53 Q1673.83 1107.07 1677.44 1107.07 Q1681.07 1107.07 1682.88 1103.53 Q1684.7 1099.96 1684.7 1092.85 Q1684.7 1085.72 1682.88 1082.18 Q1681.07 1078.62 1677.44 1078.62 M1677.44 1074.91 Q1683.25 1074.91 1686.3 1079.52 Q1689.38 1084.1 1689.38 1092.85 Q1689.38 1101.58 1686.3 1106.19 Q1683.25 1110.77 1677.44 1110.77 Q1671.63 1110.77 1668.55 1106.19 Q1665.49 1101.58 1665.49 1092.85 Q1665.49 1084.1 1668.55 1079.52 Q1671.63 1074.91 1677.44 1074.91 Z\" fill=\"#000000\" fill-rule=\"evenodd\" fill-opacity=\"1\" /><path clip-path=\"url(#clip580)\" d=\"M1697.6 1104.22 L1702.48 1104.22 L1702.48 1110.1 L1697.6 1110.1 L1697.6 1104.22 Z\" fill=\"#000000\" fill-rule=\"evenodd\" fill-opacity=\"1\" /><path clip-path=\"url(#clip580)\" d=\"M1712.71 1075.54 L1731.07 1075.54 L1731.07 1079.48 L1717 1079.48 L1717 1087.95 Q1718.01 1087.6 1719.03 1087.44 Q1720.05 1087.25 1721.07 1087.25 Q1726.86 1087.25 1730.24 1090.42 Q1733.62 1093.6 1733.62 1099.01 Q1733.62 1104.59 1730.14 1107.69 Q1726.67 1110.77 1720.35 1110.77 Q1718.18 1110.77 1715.91 1110.4 Q1713.66 1110.03 1711.26 1109.29 L1711.26 1104.59 Q1713.34 1105.72 1715.56 1106.28 Q1717.78 1106.84 1720.26 1106.84 Q1724.26 1106.84 1726.6 1104.73 Q1728.94 1102.62 1728.94 1099.01 Q1728.94 1095.4 1726.6 1093.29 Q1724.26 1091.19 1720.26 1091.19 Q1718.39 1091.19 1716.51 1091.6 Q1714.66 1092.02 1712.71 1092.9 L1712.71 1075.54 Z\" fill=\"#000000\" fill-rule=\"evenodd\" fill-opacity=\"1\" /><path clip-path=\"url(#clip580)\" d=\"M1814.24 1078.62 Q1810.63 1078.62 1808.8 1082.18 Q1807 1085.72 1807 1092.85 Q1807 1099.96 1808.8 1103.53 Q1810.63 1107.07 1814.24 1107.07 Q1817.88 1107.07 1819.68 1103.53 Q1821.51 1099.96 1821.51 1092.85 Q1821.51 1085.72 1819.68 1082.18 Q1817.88 1078.62 1814.24 1078.62 M1814.24 1074.91 Q1820.05 1074.91 1823.11 1079.52 Q1826.19 1084.1 1826.19 1092.85 Q1826.19 1101.58 1823.11 1106.19 Q1820.05 1110.77 1814.24 1110.77 Q1808.43 1110.77 1805.35 1106.19 Q1802.3 1101.58 1802.3 1092.85 Q1802.3 1084.1 1805.35 1079.52 Q1808.43 1074.91 1814.24 1074.91 Z\" fill=\"#000000\" fill-rule=\"evenodd\" fill-opacity=\"1\" /><path clip-path=\"url(#clip580)\" d=\"M1834.4 1104.22 L1839.29 1104.22 L1839.29 1110.1 L1834.4 1110.1 L1834.4 1104.22 Z\" fill=\"#000000\" fill-rule=\"evenodd\" fill-opacity=\"1\" /><path clip-path=\"url(#clip580)\" d=\"M1859.47 1078.62 Q1855.86 1078.62 1854.03 1082.18 Q1852.23 1085.72 1852.23 1092.85 Q1852.23 1099.96 1854.03 1103.53 Q1855.86 1107.07 1859.47 1107.07 Q1863.11 1107.07 1864.91 1103.53 Q1866.74 1099.96 1866.74 1092.85 Q1866.74 1085.72 1864.91 1082.18 Q1863.11 1078.62 1859.47 1078.62 M1859.47 1074.91 Q1865.28 1074.91 1868.34 1079.52 Q1871.42 1084.1 1871.42 1092.85 Q1871.42 1101.58 1868.34 1106.19 Q1865.28 1110.77 1859.47 1110.77 Q1853.66 1110.77 1850.58 1106.19 Q1847.53 1101.58 1847.53 1092.85 Q1847.53 1084.1 1850.58 1079.52 Q1853.66 1074.91 1859.47 1074.91 Z\" fill=\"#000000\" fill-rule=\"evenodd\" fill-opacity=\"1\" /><path clip-path=\"url(#clip580)\" d=\"M1970.95 1078.62 Q1967.34 1078.62 1965.51 1082.18 Q1963.71 1085.72 1963.71 1092.85 Q1963.71 1099.96 1965.51 1103.53 Q1967.34 1107.07 1970.95 1107.07 Q1974.59 1107.07 1976.39 1103.53 Q1978.22 1099.96 1978.22 1092.85 Q1978.22 1085.72 1976.39 1082.18 Q1974.59 1078.62 1970.95 1078.62 M1970.95 1074.91 Q1976.76 1074.91 1979.82 1079.52 Q1982.9 1084.1 1982.9 1092.85 Q1982.9 1101.58 1979.82 1106.19 Q1976.76 1110.77 1970.95 1110.77 Q1965.14 1110.77 1962.06 1106.19 Q1959.01 1101.58 1959.01 1092.85 Q1959.01 1084.1 1962.06 1079.52 Q1965.14 1074.91 1970.95 1074.91 Z\" fill=\"#000000\" fill-rule=\"evenodd\" fill-opacity=\"1\" /><path clip-path=\"url(#clip580)\" d=\"M1991.12 1104.22 L1996 1104.22 L1996 1110.1 L1991.12 1110.1 L1991.12 1104.22 Z\" fill=\"#000000\" fill-rule=\"evenodd\" fill-opacity=\"1\" /><path clip-path=\"url(#clip580)\" d=\"M2006.23 1075.54 L2024.59 1075.54 L2024.59 1079.48 L2010.51 1079.48 L2010.51 1087.95 Q2011.53 1087.6 2012.55 1087.44 Q2013.57 1087.25 2014.59 1087.25 Q2020.37 1087.25 2023.75 1090.42 Q2027.13 1093.6 2027.13 1099.01 Q2027.13 1104.59 2023.66 1107.69 Q2020.19 1110.77 2013.87 1110.77 Q2011.69 1110.77 2009.43 1110.4 Q2007.18 1110.03 2004.77 1109.29 L2004.77 1104.59 Q2006.86 1105.72 2009.08 1106.28 Q2011.3 1106.84 2013.78 1106.84 Q2017.78 1106.84 2020.12 1104.73 Q2022.46 1102.62 2022.46 1099.01 Q2022.46 1095.4 2020.12 1093.29 Q2017.78 1091.19 2013.78 1091.19 Q2011.9 1091.19 2010.03 1091.6 Q2008.18 1092.02 2006.23 1092.9 L2006.23 1075.54 Z\" fill=\"#000000\" fill-rule=\"evenodd\" fill-opacity=\"1\" /><path clip-path=\"url(#clip580)\" d=\"M2116.44 1106.16 L2124.08 1106.16 L2124.08 1079.8 L2115.77 1081.47 L2115.77 1077.21 L2124.03 1075.54 L2128.71 1075.54 L2128.71 1106.16 L2136.35 1106.16 L2136.35 1110.1 L2116.44 1110.1 L2116.44 1106.16 Z\" fill=\"#000000\" fill-rule=\"evenodd\" fill-opacity=\"1\" /><path clip-path=\"url(#clip580)\" d=\"M2145.79 1104.22 L2150.67 1104.22 L2150.67 1110.1 L2145.79 1110.1 L2145.79 1104.22 Z\" fill=\"#000000\" fill-rule=\"evenodd\" fill-opacity=\"1\" /><path clip-path=\"url(#clip580)\" d=\"M2170.86 1078.62 Q2167.25 1078.62 2165.42 1082.18 Q2163.61 1085.72 2163.61 1092.85 Q2163.61 1099.96 2165.42 1103.53 Q2167.25 1107.07 2170.86 1107.07 Q2174.49 1107.07 2176.3 1103.53 Q2178.13 1099.96 2178.13 1092.85 Q2178.13 1085.72 2176.3 1082.18 Q2174.49 1078.62 2170.86 1078.62 M2170.86 1074.91 Q2176.67 1074.91 2179.73 1079.52 Q2182.8 1084.1 2182.8 1092.85 Q2182.8 1101.58 2179.73 1106.19 Q2176.67 1110.77 2170.86 1110.77 Q2165.05 1110.77 2161.97 1106.19 Q2158.92 1101.58 2158.92 1092.85 Q2158.92 1084.1 2161.97 1079.52 Q2165.05 1074.91 2170.86 1074.91 Z\" fill=\"#000000\" fill-rule=\"evenodd\" fill-opacity=\"1\" /><path clip-path=\"url(#clip580)\" d=\"M2273.15 1106.16 L2280.79 1106.16 L2280.79 1079.8 L2272.48 1081.47 L2272.48 1077.21 L2280.74 1075.54 L2285.42 1075.54 L2285.42 1106.16 L2293.06 1106.16 L2293.06 1110.1 L2273.15 1110.1 L2273.15 1106.16 Z\" fill=\"#000000\" fill-rule=\"evenodd\" fill-opacity=\"1\" /><path clip-path=\"url(#clip580)\" d=\"M2302.5 1104.22 L2307.39 1104.22 L2307.39 1110.1 L2302.5 1110.1 L2302.5 1104.22 Z\" fill=\"#000000\" fill-rule=\"evenodd\" fill-opacity=\"1\" /><path clip-path=\"url(#clip580)\" d=\"M2317.62 1075.54 L2335.97 1075.54 L2335.97 1079.48 L2321.9 1079.48 L2321.9 1087.95 Q2322.92 1087.6 2323.94 1087.44 Q2324.96 1087.25 2325.97 1087.25 Q2331.76 1087.25 2335.14 1090.42 Q2338.52 1093.6 2338.52 1099.01 Q2338.52 1104.59 2335.05 1107.69 Q2331.58 1110.77 2325.26 1110.77 Q2323.08 1110.77 2320.81 1110.4 Q2318.57 1110.03 2316.16 1109.29 L2316.16 1104.59 Q2318.24 1105.72 2320.47 1106.28 Q2322.69 1106.84 2325.16 1106.84 Q2329.17 1106.84 2331.51 1104.73 Q2333.84 1102.62 2333.84 1099.01 Q2333.84 1095.4 2331.51 1093.29 Q2329.17 1091.19 2325.16 1091.19 Q2323.29 1091.19 2321.41 1091.6 Q2319.56 1092.02 2317.62 1092.9 L2317.62 1075.54 Z\" fill=\"#000000\" fill-rule=\"evenodd\" fill-opacity=\"1\" /><path clip-path=\"url(#clip580)\" d=\"M1547.43 1187.22 L1547.43 1206.12 L1541.55 1206.12 L1541.55 1156.92 L1547.43 1156.92 L1547.43 1162.33 Q1549.28 1159.14 1552.08 1157.62 Q1554.91 1156.06 1558.83 1156.06 Q1565.32 1156.06 1569.36 1161.21 Q1573.44 1166.37 1573.44 1174.77 Q1573.44 1183.17 1569.36 1188.33 Q1565.32 1193.49 1558.83 1193.49 Q1554.91 1193.49 1552.08 1191.96 Q1549.28 1190.4 1547.43 1187.22 M1567.36 1174.77 Q1567.36 1168.31 1564.68 1164.65 Q1562.04 1160.96 1557.4 1160.96 Q1552.75 1160.96 1550.08 1164.65 Q1547.43 1168.31 1547.43 1174.77 Q1547.43 1181.23 1550.08 1184.92 Q1552.75 1188.59 1557.4 1188.59 Q1562.04 1188.59 1564.68 1184.92 Q1567.36 1181.23 1567.36 1174.77 Z\" fill=\"#000000\" fill-rule=\"evenodd\" fill-opacity=\"1\" /><path clip-path=\"url(#clip580)\" d=\"M1603.8 1162.39 Q1602.81 1161.82 1601.64 1161.56 Q1600.49 1161.28 1599.09 1161.28 Q1594.13 1161.28 1591.45 1164.52 Q1588.81 1167.74 1588.81 1173.79 L1588.81 1192.56 L1582.92 1192.56 L1582.92 1156.92 L1588.81 1156.92 L1588.81 1162.45 Q1590.66 1159.21 1593.62 1157.65 Q1596.58 1156.06 1600.81 1156.06 Q1601.41 1156.06 1602.15 1156.15 Q1602.88 1156.22 1603.77 1156.37 L1603.8 1162.39 Z\" fill=\"#000000\" fill-rule=\"evenodd\" fill-opacity=\"1\" /><path clip-path=\"url(#clip580)\" d=\"M1639 1173.28 L1639 1176.14 L1612.08 1176.14 Q1612.46 1182.19 1615.71 1185.37 Q1618.98 1188.52 1624.81 1188.52 Q1628.18 1188.52 1631.33 1187.69 Q1634.52 1186.87 1637.64 1185.21 L1637.64 1190.75 Q1634.48 1192.09 1631.17 1192.79 Q1627.86 1193.49 1624.46 1193.49 Q1615.93 1193.49 1610.93 1188.52 Q1605.97 1183.56 1605.97 1175.09 Q1605.97 1166.34 1610.68 1161.21 Q1615.42 1156.06 1623.44 1156.06 Q1630.63 1156.06 1634.8 1160.7 Q1639 1165.32 1639 1173.28 M1633.15 1171.56 Q1633.08 1166.75 1630.44 1163.89 Q1627.83 1161.02 1623.5 1161.02 Q1618.6 1161.02 1615.64 1163.79 Q1612.71 1166.56 1612.27 1171.59 L1633.15 1171.56 Z\" fill=\"#000000\" fill-rule=\"evenodd\" fill-opacity=\"1\" /><path clip-path=\"url(#clip580)\" d=\"M1672.07 1162.33 L1672.07 1143.04 L1677.93 1143.04 L1677.93 1192.56 L1672.07 1192.56 L1672.07 1187.22 Q1670.23 1190.4 1667.4 1191.96 Q1664.59 1193.49 1660.65 1193.49 Q1654.19 1193.49 1650.11 1188.33 Q1646.07 1183.17 1646.07 1174.77 Q1646.07 1166.37 1650.11 1161.21 Q1654.19 1156.06 1660.65 1156.06 Q1664.59 1156.06 1667.4 1157.62 Q1670.23 1159.14 1672.07 1162.33 M1652.12 1174.77 Q1652.12 1181.23 1654.76 1184.92 Q1657.43 1188.59 1662.08 1188.59 Q1666.73 1188.59 1669.4 1184.92 Q1672.07 1181.23 1672.07 1174.77 Q1672.07 1168.31 1669.4 1164.65 Q1666.73 1160.96 1662.08 1160.96 Q1657.43 1160.96 1654.76 1164.65 Q1652.12 1168.31 1652.12 1174.77 Z\" fill=\"#000000\" fill-rule=\"evenodd\" fill-opacity=\"1\" /><path clip-path=\"url(#clip580)\" d=\"M1689.99 1156.92 L1695.85 1156.92 L1695.85 1192.56 L1689.99 1192.56 L1689.99 1156.92 M1689.99 1143.04 L1695.85 1143.04 L1695.85 1150.45 L1689.99 1150.45 L1689.99 1143.04 Z\" fill=\"#000000\" fill-rule=\"evenodd\" fill-opacity=\"1\" /><path clip-path=\"url(#clip580)\" d=\"M1733.76 1158.28 L1733.76 1163.76 Q1731.27 1162.39 1728.76 1161.72 Q1726.28 1161.02 1723.73 1161.02 Q1718.03 1161.02 1714.88 1164.65 Q1711.73 1168.25 1711.73 1174.77 Q1711.73 1181.3 1714.88 1184.92 Q1718.03 1188.52 1723.73 1188.52 Q1726.28 1188.52 1728.76 1187.85 Q1731.27 1187.15 1733.76 1185.78 L1733.76 1191.2 Q1731.31 1192.34 1728.67 1192.91 Q1726.06 1193.49 1723.1 1193.49 Q1715.04 1193.49 1710.3 1188.43 Q1705.56 1183.37 1705.56 1174.77 Q1705.56 1166.05 1710.33 1161.05 Q1715.14 1156.06 1723.48 1156.06 Q1726.18 1156.06 1728.76 1156.63 Q1731.34 1157.17 1733.76 1158.28 Z\" fill=\"#000000\" fill-rule=\"evenodd\" fill-opacity=\"1\" /><path clip-path=\"url(#clip580)\" d=\"M1749.74 1146.79 L1749.74 1156.92 L1761.8 1156.92 L1761.8 1161.47 L1749.74 1161.47 L1749.74 1180.82 Q1749.74 1185.18 1750.91 1186.42 Q1752.12 1187.66 1755.78 1187.66 L1761.8 1187.66 L1761.8 1192.56 L1755.78 1192.56 Q1749 1192.56 1746.43 1190.05 Q1743.85 1187.5 1743.85 1180.82 L1743.85 1161.47 L1739.55 1161.47 L1739.55 1156.92 L1743.85 1156.92 L1743.85 1146.79 L1749.74 1146.79 Z\" fill=\"#000000\" fill-rule=\"evenodd\" fill-opacity=\"1\" /><path clip-path=\"url(#clip580)\" d=\"M1769.5 1156.92 L1775.36 1156.92 L1775.36 1192.56 L1769.5 1192.56 L1769.5 1156.92 M1769.5 1143.04 L1775.36 1143.04 L1775.36 1150.45 L1769.5 1150.45 L1769.5 1143.04 Z\" fill=\"#000000\" fill-rule=\"evenodd\" fill-opacity=\"1\" /><path clip-path=\"url(#clip580)\" d=\"M1801.43 1161.02 Q1796.71 1161.02 1793.98 1164.71 Q1791.24 1168.37 1791.24 1174.77 Q1791.24 1181.17 1793.95 1184.86 Q1796.68 1188.52 1801.43 1188.52 Q1806.1 1188.52 1808.84 1184.83 Q1811.58 1181.14 1811.58 1174.77 Q1811.58 1168.44 1808.84 1164.75 Q1806.1 1161.02 1801.43 1161.02 M1801.43 1156.06 Q1809.06 1156.06 1813.42 1161.02 Q1817.78 1165.99 1817.78 1174.77 Q1817.78 1183.52 1813.42 1188.52 Q1809.06 1193.49 1801.43 1193.49 Q1793.75 1193.49 1789.39 1188.52 Q1785.07 1183.52 1785.07 1174.77 Q1785.07 1165.99 1789.39 1161.02 Q1793.75 1156.06 1801.43 1156.06 Z\" fill=\"#000000\" fill-rule=\"evenodd\" fill-opacity=\"1\" /><path clip-path=\"url(#clip580)\" d=\"M1857.12 1171.05 L1857.12 1192.56 L1851.27 1192.56 L1851.27 1171.24 Q1851.27 1166.18 1849.3 1163.66 Q1847.32 1161.15 1843.38 1161.15 Q1838.63 1161.15 1835.9 1164.17 Q1833.16 1167.2 1833.16 1172.42 L1833.16 1192.56 L1827.27 1192.56 L1827.27 1156.92 L1833.16 1156.92 L1833.16 1162.45 Q1835.26 1159.24 1838.09 1157.65 Q1840.96 1156.06 1844.68 1156.06 Q1850.82 1156.06 1853.97 1159.88 Q1857.12 1163.66 1857.12 1171.05 Z\" fill=\"#000000\" fill-rule=\"evenodd\" fill-opacity=\"1\" /><path clip-path=\"url(#clip580)\" d=\"M1891.53 1157.97 L1891.53 1163.5 Q1889.05 1162.23 1886.38 1161.59 Q1883.7 1160.96 1880.84 1160.96 Q1876.48 1160.96 1874.28 1162.29 Q1872.12 1163.63 1872.12 1166.31 Q1872.12 1168.34 1873.68 1169.52 Q1875.24 1170.67 1879.95 1171.72 L1881.95 1172.16 Q1888.19 1173.5 1890.8 1175.95 Q1893.44 1178.37 1893.44 1182.73 Q1893.44 1187.69 1889.49 1190.59 Q1885.58 1193.49 1878.7 1193.49 Q1875.84 1193.49 1872.72 1192.91 Q1869.63 1192.37 1866.2 1191.26 L1866.2 1185.21 Q1869.44 1186.9 1872.59 1187.76 Q1875.74 1188.59 1878.83 1188.59 Q1882.97 1188.59 1885.2 1187.18 Q1887.43 1185.75 1887.43 1183.17 Q1887.43 1180.79 1885.8 1179.51 Q1884.21 1178.24 1878.77 1177.06 L1876.73 1176.59 Q1871.29 1175.44 1868.87 1173.08 Q1866.45 1170.7 1866.45 1166.56 Q1866.45 1161.53 1870.02 1158.79 Q1873.58 1156.06 1880.14 1156.06 Q1883.38 1156.06 1886.25 1156.53 Q1889.11 1157.01 1891.53 1157.97 Z\" fill=\"#000000\" fill-rule=\"evenodd\" fill-opacity=\"1\" /><path clip-path=\"url(#clip580)\" d=\"M1929.28 1146.79 L1929.28 1156.92 L1941.34 1156.92 L1941.34 1161.47 L1929.28 1161.47 L1929.28 1180.82 Q1929.28 1185.18 1930.46 1186.42 Q1931.67 1187.66 1935.33 1187.66 L1941.34 1187.66 L1941.34 1192.56 L1935.33 1192.56 Q1928.55 1192.56 1925.97 1190.05 Q1923.39 1187.5 1923.39 1180.82 L1923.39 1161.47 L1919.1 1161.47 L1919.1 1156.92 L1923.39 1156.92 L1923.39 1146.79 L1929.28 1146.79 Z\" fill=\"#000000\" fill-rule=\"evenodd\" fill-opacity=\"1\" /><path clip-path=\"url(#clip580)\" d=\"M1979.54 1173.28 L1979.54 1176.14 L1952.61 1176.14 Q1952.99 1182.19 1956.24 1185.37 Q1959.52 1188.52 1965.34 1188.52 Q1968.72 1188.52 1971.87 1187.69 Q1975.05 1186.87 1978.17 1185.21 L1978.17 1190.75 Q1975.02 1192.09 1971.71 1192.79 Q1968.4 1193.49 1964.99 1193.49 Q1956.46 1193.49 1951.46 1188.52 Q1946.5 1183.56 1946.5 1175.09 Q1946.5 1166.34 1951.21 1161.21 Q1955.95 1156.06 1963.97 1156.06 Q1971.17 1156.06 1975.34 1160.7 Q1979.54 1165.32 1979.54 1173.28 M1973.68 1171.56 Q1973.62 1166.75 1970.98 1163.89 Q1968.37 1161.02 1964.04 1161.02 Q1959.14 1161.02 1956.18 1163.79 Q1953.25 1166.56 1952.8 1171.59 L1973.68 1171.56 Z\" fill=\"#000000\" fill-rule=\"evenodd\" fill-opacity=\"1\" /><path clip-path=\"url(#clip580)\" d=\"M2011.88 1157.97 L2011.88 1163.5 Q2009.39 1162.23 2006.72 1161.59 Q2004.05 1160.96 2001.18 1160.96 Q1996.82 1160.96 1994.62 1162.29 Q1992.46 1163.63 1992.46 1166.31 Q1992.46 1168.34 1994.02 1169.52 Q1995.58 1170.67 2000.29 1171.72 L2002.29 1172.16 Q2008.53 1173.5 2011.14 1175.95 Q2013.79 1178.37 2013.79 1182.73 Q2013.79 1187.69 2009.84 1190.59 Q2005.92 1193.49 1999.05 1193.49 Q1996.18 1193.49 1993.06 1192.91 Q1989.98 1192.37 1986.54 1191.26 L1986.54 1185.21 Q1989.79 1186.9 1992.94 1187.76 Q1996.09 1188.59 1999.18 1188.59 Q2003.31 1188.59 2005.54 1187.18 Q2007.77 1185.75 2007.77 1183.17 Q2007.77 1180.79 2006.15 1179.51 Q2004.55 1178.24 1999.11 1177.06 L1997.08 1176.59 Q1991.63 1175.44 1989.21 1173.08 Q1986.79 1170.7 1986.79 1166.56 Q1986.79 1161.53 1990.36 1158.79 Q1993.92 1156.06 2000.48 1156.06 Q2003.73 1156.06 2006.59 1156.53 Q2009.46 1157.01 2011.88 1157.97 Z\" fill=\"#000000\" fill-rule=\"evenodd\" fill-opacity=\"1\" /><path clip-path=\"url(#clip580)\" d=\"M2028.9 1146.79 L2028.9 1156.92 L2040.97 1156.92 L2040.97 1161.47 L2028.9 1161.47 L2028.9 1180.82 Q2028.9 1185.18 2030.08 1186.42 Q2031.29 1187.66 2034.95 1187.66 L2040.97 1187.66 L2040.97 1192.56 L2034.95 1192.56 Q2028.17 1192.56 2025.59 1190.05 Q2023.02 1187.5 2023.02 1180.82 L2023.02 1161.47 L2018.72 1161.47 L2018.72 1156.92 L2023.02 1156.92 L2023.02 1146.79 L2028.9 1146.79 Z\" fill=\"#000000\" fill-rule=\"evenodd\" fill-opacity=\"1\" /><path clip-path=\"url(#clip580)\" d=\"M2092.85 1162.33 L2092.85 1143.04 L2098.7 1143.04 L2098.7 1192.56 L2092.85 1192.56 L2092.85 1187.22 Q2091 1190.4 2088.17 1191.96 Q2085.37 1193.49 2081.42 1193.49 Q2074.96 1193.49 2070.89 1188.33 Q2066.84 1183.17 2066.84 1174.77 Q2066.84 1166.37 2070.89 1161.21 Q2074.96 1156.06 2081.42 1156.06 Q2085.37 1156.06 2088.17 1157.62 Q2091 1159.14 2092.85 1162.33 M2072.89 1174.77 Q2072.89 1181.23 2075.53 1184.92 Q2078.21 1188.59 2082.85 1188.59 Q2087.5 1188.59 2090.17 1184.92 Q2092.85 1181.23 2092.85 1174.77 Q2092.85 1168.31 2090.17 1164.65 Q2087.5 1160.96 2082.85 1160.96 Q2078.21 1160.96 2075.53 1164.65 Q2072.89 1168.31 2072.89 1174.77 Z\" fill=\"#000000\" fill-rule=\"evenodd\" fill-opacity=\"1\" /><path clip-path=\"url(#clip580)\" d=\"M2126.97 1174.64 Q2119.87 1174.64 2117.13 1176.27 Q2114.4 1177.89 2114.4 1181.81 Q2114.4 1184.92 2116.43 1186.77 Q2118.5 1188.59 2122.03 1188.59 Q2126.9 1188.59 2129.83 1185.15 Q2132.79 1181.68 2132.79 1175.95 L2132.79 1174.64 L2126.97 1174.64 M2138.65 1172.23 L2138.65 1192.56 L2132.79 1192.56 L2132.79 1187.15 Q2130.79 1190.4 2127.79 1191.96 Q2124.8 1193.49 2120.47 1193.49 Q2115 1193.49 2111.75 1190.43 Q2108.54 1187.34 2108.54 1182.19 Q2108.54 1176.17 2112.55 1173.12 Q2116.59 1170.06 2124.58 1170.06 L2132.79 1170.06 L2132.79 1169.49 Q2132.79 1165.45 2130.12 1163.25 Q2127.48 1161.02 2122.67 1161.02 Q2119.61 1161.02 2116.72 1161.75 Q2113.82 1162.49 2111.15 1163.95 L2111.15 1158.54 Q2114.36 1157.3 2117.39 1156.69 Q2120.41 1156.06 2123.28 1156.06 Q2131.01 1156.06 2134.83 1160.07 Q2138.65 1164.08 2138.65 1172.23 Z\" fill=\"#000000\" fill-rule=\"evenodd\" fill-opacity=\"1\" /><path clip-path=\"url(#clip580)\" d=\"M2156.5 1146.79 L2156.5 1156.92 L2168.57 1156.92 L2168.57 1161.47 L2156.5 1161.47 L2156.5 1180.82 Q2156.5 1185.18 2157.68 1186.42 Q2158.89 1187.66 2162.55 1187.66 L2168.57 1187.66 L2168.57 1192.56 L2162.55 1192.56 Q2155.77 1192.56 2153.19 1190.05 Q2150.62 1187.5 2150.62 1180.82 L2150.62 1161.47 L2146.32 1161.47 L2146.32 1156.92 L2150.62 1156.92 L2150.62 1146.79 L2156.5 1146.79 Z\" fill=\"#000000\" fill-rule=\"evenodd\" fill-opacity=\"1\" /><path clip-path=\"url(#clip580)\" d=\"M2192.47 1174.64 Q2185.37 1174.64 2182.64 1176.27 Q2179.9 1177.89 2179.9 1181.81 Q2179.9 1184.92 2181.94 1186.77 Q2184 1188.59 2187.54 1188.59 Q2192.41 1188.59 2195.33 1185.15 Q2198.3 1181.68 2198.3 1175.95 L2198.3 1174.64 L2192.47 1174.64 M2204.15 1172.23 L2204.15 1192.56 L2198.3 1192.56 L2198.3 1187.15 Q2196.29 1190.4 2193.3 1191.96 Q2190.31 1193.49 2185.98 1193.49 Q2180.5 1193.49 2177.26 1190.43 Q2174.04 1187.34 2174.04 1182.19 Q2174.04 1176.17 2178.05 1173.12 Q2182.09 1170.06 2190.08 1170.06 L2198.3 1170.06 L2198.3 1169.49 Q2198.3 1165.45 2195.62 1163.25 Q2192.98 1161.02 2188.17 1161.02 Q2185.12 1161.02 2182.22 1161.75 Q2179.33 1162.49 2176.65 1163.95 L2176.65 1158.54 Q2179.87 1157.3 2182.89 1156.69 Q2185.91 1156.06 2188.78 1156.06 Q2196.51 1156.06 2200.33 1160.07 Q2204.15 1164.08 2204.15 1172.23 Z\" fill=\"#000000\" fill-rule=\"evenodd\" fill-opacity=\"1\" /><polyline clip-path=\"url(#clip583)\" style=\"stroke:#000000; stroke-linecap:butt; stroke-linejoin:round; stroke-width:2; stroke-opacity:0.1; fill:none\" points=\"\n",
       "  1392.94,828.118 2352.76,828.118 \n",
       "  \"/>\n",
       "<polyline clip-path=\"url(#clip583)\" style=\"stroke:#000000; stroke-linecap:butt; stroke-linejoin:round; stroke-width:2; stroke-opacity:0.1; fill:none\" points=\"\n",
       "  1392.94,583.782 2352.76,583.782 \n",
       "  \"/>\n",
       "<polyline clip-path=\"url(#clip583)\" style=\"stroke:#000000; stroke-linecap:butt; stroke-linejoin:round; stroke-width:2; stroke-opacity:0.1; fill:none\" points=\"\n",
       "  1392.94,339.447 2352.76,339.447 \n",
       "  \"/>\n",
       "<polyline clip-path=\"url(#clip583)\" style=\"stroke:#000000; stroke-linecap:butt; stroke-linejoin:round; stroke-width:2; stroke-opacity:0.1; fill:none\" points=\"\n",
       "  1392.94,95.1112 2352.76,95.1112 \n",
       "  \"/>\n",
       "<polyline clip-path=\"url(#clip580)\" style=\"stroke:#000000; stroke-linecap:butt; stroke-linejoin:round; stroke-width:4; stroke-opacity:1; fill:none\" points=\"\n",
       "  1392.94,1047.7 1392.94,47.2441 \n",
       "  \"/>\n",
       "<polyline clip-path=\"url(#clip580)\" style=\"stroke:#000000; stroke-linecap:butt; stroke-linejoin:round; stroke-width:4; stroke-opacity:1; fill:none\" points=\"\n",
       "  1392.94,828.118 1411.84,828.118 \n",
       "  \"/>\n",
       "<polyline clip-path=\"url(#clip580)\" style=\"stroke:#000000; stroke-linecap:butt; stroke-linejoin:round; stroke-width:4; stroke-opacity:1; fill:none\" points=\"\n",
       "  1392.94,583.782 1411.84,583.782 \n",
       "  \"/>\n",
       "<polyline clip-path=\"url(#clip580)\" style=\"stroke:#000000; stroke-linecap:butt; stroke-linejoin:round; stroke-width:4; stroke-opacity:1; fill:none\" points=\"\n",
       "  1392.94,339.447 1411.84,339.447 \n",
       "  \"/>\n",
       "<polyline clip-path=\"url(#clip580)\" style=\"stroke:#000000; stroke-linecap:butt; stroke-linejoin:round; stroke-width:4; stroke-opacity:1; fill:none\" points=\"\n",
       "  1392.94,95.1112 1411.84,95.1112 \n",
       "  \"/>\n",
       "<path clip-path=\"url(#clip580)\" d=\"M1250.99 828.569 L1280.67 828.569 L1280.67 832.504 L1250.99 832.504 L1250.99 828.569 Z\" fill=\"#000000\" fill-rule=\"evenodd\" fill-opacity=\"1\" /><path clip-path=\"url(#clip580)\" d=\"M1300.76 813.917 Q1297.15 813.917 1295.32 817.481 Q1293.52 821.023 1293.52 828.153 Q1293.52 835.259 1295.32 838.824 Q1297.15 842.365 1300.76 842.365 Q1304.39 842.365 1306.2 838.824 Q1308.03 835.259 1308.03 828.153 Q1308.03 821.023 1306.2 817.481 Q1304.39 813.917 1300.76 813.917 M1300.76 810.213 Q1306.57 810.213 1309.63 814.819 Q1312.7 819.403 1312.7 828.153 Q1312.7 836.879 1309.63 841.486 Q1306.57 846.069 1300.76 846.069 Q1294.95 846.069 1291.87 841.486 Q1288.82 836.879 1288.82 828.153 Q1288.82 819.403 1291.87 814.819 Q1294.95 810.213 1300.76 810.213 Z\" fill=\"#000000\" fill-rule=\"evenodd\" fill-opacity=\"1\" /><path clip-path=\"url(#clip580)\" d=\"M1320.92 839.518 L1325.81 839.518 L1325.81 845.398 L1320.92 845.398 L1320.92 839.518 Z\" fill=\"#000000\" fill-rule=\"evenodd\" fill-opacity=\"1\" /><path clip-path=\"url(#clip580)\" d=\"M1336.04 810.838 L1354.39 810.838 L1354.39 814.773 L1340.32 814.773 L1340.32 823.245 Q1341.34 822.898 1342.36 822.736 Q1343.38 822.551 1344.39 822.551 Q1350.18 822.551 1353.56 825.722 Q1356.94 828.893 1356.94 834.31 Q1356.94 839.889 1353.47 842.99 Q1350 846.069 1343.68 846.069 Q1341.5 846.069 1339.23 845.699 Q1336.99 845.328 1334.58 844.588 L1334.58 839.889 Q1336.66 841.023 1338.89 841.578 Q1341.11 842.134 1343.58 842.134 Q1347.59 842.134 1349.93 840.028 Q1352.26 837.921 1352.26 834.31 Q1352.26 830.699 1349.93 828.592 Q1347.59 826.486 1343.58 826.486 Q1341.71 826.486 1339.83 826.903 Q1337.98 827.319 1336.04 828.199 L1336.04 810.838 Z\" fill=\"#000000\" fill-rule=\"evenodd\" fill-opacity=\"1\" /><path clip-path=\"url(#clip580)\" d=\"M1299.77 569.581 Q1296.15 569.581 1294.33 573.146 Q1292.52 576.687 1292.52 583.817 Q1292.52 590.923 1294.33 594.488 Q1296.15 598.03 1299.77 598.03 Q1303.4 598.03 1305.2 594.488 Q1307.03 590.923 1307.03 583.817 Q1307.03 576.687 1305.2 573.146 Q1303.4 569.581 1299.77 569.581 M1299.77 565.877 Q1305.58 565.877 1308.63 570.484 Q1311.71 575.067 1311.71 583.817 Q1311.71 592.544 1308.63 597.15 Q1305.58 601.734 1299.77 601.734 Q1293.95 601.734 1290.88 597.15 Q1287.82 592.544 1287.82 583.817 Q1287.82 575.067 1290.88 570.484 Q1293.95 565.877 1299.77 565.877 Z\" fill=\"#000000\" fill-rule=\"evenodd\" fill-opacity=\"1\" /><path clip-path=\"url(#clip580)\" d=\"M1319.93 595.183 L1324.81 595.183 L1324.81 601.062 L1319.93 601.062 L1319.93 595.183 Z\" fill=\"#000000\" fill-rule=\"evenodd\" fill-opacity=\"1\" /><path clip-path=\"url(#clip580)\" d=\"M1345 569.581 Q1341.39 569.581 1339.56 573.146 Q1337.75 576.687 1337.75 583.817 Q1337.75 590.923 1339.56 594.488 Q1341.39 598.03 1345 598.03 Q1348.63 598.03 1350.44 594.488 Q1352.26 590.923 1352.26 583.817 Q1352.26 576.687 1350.44 573.146 Q1348.63 569.581 1345 569.581 M1345 565.877 Q1350.81 565.877 1353.86 570.484 Q1356.94 575.067 1356.94 583.817 Q1356.94 592.544 1353.86 597.15 Q1350.81 601.734 1345 601.734 Q1339.19 601.734 1336.11 597.15 Q1333.05 592.544 1333.05 583.817 Q1333.05 575.067 1336.11 570.484 Q1339.19 565.877 1345 565.877 Z\" fill=\"#000000\" fill-rule=\"evenodd\" fill-opacity=\"1\" /><path clip-path=\"url(#clip580)\" d=\"M1300.76 325.245 Q1297.15 325.245 1295.32 328.81 Q1293.52 332.352 1293.52 339.481 Q1293.52 346.588 1295.32 350.153 Q1297.15 353.694 1300.76 353.694 Q1304.39 353.694 1306.2 350.153 Q1308.03 346.588 1308.03 339.481 Q1308.03 332.352 1306.2 328.81 Q1304.39 325.245 1300.76 325.245 M1300.76 321.542 Q1306.57 321.542 1309.63 326.148 Q1312.7 330.732 1312.7 339.481 Q1312.7 348.208 1309.63 352.815 Q1306.57 357.398 1300.76 357.398 Q1294.95 357.398 1291.87 352.815 Q1288.82 348.208 1288.82 339.481 Q1288.82 330.732 1291.87 326.148 Q1294.95 321.542 1300.76 321.542 Z\" fill=\"#000000\" fill-rule=\"evenodd\" fill-opacity=\"1\" /><path clip-path=\"url(#clip580)\" d=\"M1320.92 350.847 L1325.81 350.847 L1325.81 356.727 L1320.92 356.727 L1320.92 350.847 Z\" fill=\"#000000\" fill-rule=\"evenodd\" fill-opacity=\"1\" /><path clip-path=\"url(#clip580)\" d=\"M1336.04 322.167 L1354.39 322.167 L1354.39 326.102 L1340.32 326.102 L1340.32 334.574 Q1341.34 334.227 1342.36 334.065 Q1343.38 333.88 1344.39 333.88 Q1350.18 333.88 1353.56 337.051 Q1356.94 340.222 1356.94 345.639 Q1356.94 351.218 1353.47 354.319 Q1350 357.398 1343.68 357.398 Q1341.5 357.398 1339.23 357.028 Q1336.99 356.657 1334.58 355.917 L1334.58 351.218 Q1336.66 352.352 1338.89 352.907 Q1341.11 353.463 1343.58 353.463 Q1347.59 353.463 1349.93 351.356 Q1352.26 349.25 1352.26 345.639 Q1352.26 342.028 1349.93 339.921 Q1347.59 337.815 1343.58 337.815 Q1341.71 337.815 1339.83 338.231 Q1337.98 338.648 1336.04 339.528 L1336.04 322.167 Z\" fill=\"#000000\" fill-rule=\"evenodd\" fill-opacity=\"1\" /><path clip-path=\"url(#clip580)\" d=\"M1290.58 108.456 L1298.21 108.456 L1298.21 82.0904 L1289.9 83.7571 L1289.9 79.4978 L1298.17 77.8312 L1302.84 77.8312 L1302.84 108.456 L1310.48 108.456 L1310.48 112.391 L1290.58 112.391 L1290.58 108.456 Z\" fill=\"#000000\" fill-rule=\"evenodd\" fill-opacity=\"1\" /><path clip-path=\"url(#clip580)\" d=\"M1319.93 106.512 L1324.81 106.512 L1324.81 112.391 L1319.93 112.391 L1319.93 106.512 Z\" fill=\"#000000\" fill-rule=\"evenodd\" fill-opacity=\"1\" /><path clip-path=\"url(#clip580)\" d=\"M1345 80.9099 Q1341.39 80.9099 1339.56 84.4747 Q1337.75 88.0163 1337.75 95.1459 Q1337.75 102.252 1339.56 105.817 Q1341.39 109.359 1345 109.359 Q1348.63 109.359 1350.44 105.817 Q1352.26 102.252 1352.26 95.1459 Q1352.26 88.0163 1350.44 84.4747 Q1348.63 80.9099 1345 80.9099 M1345 77.2062 Q1350.81 77.2062 1353.86 81.8126 Q1356.94 86.3959 1356.94 95.1459 Q1356.94 103.873 1353.86 108.479 Q1350.81 113.062 1345 113.062 Q1339.19 113.062 1336.11 108.479 Q1333.05 103.873 1333.05 95.1459 Q1333.05 86.3959 1336.11 81.8126 Q1339.19 77.2062 1345 77.2062 Z\" fill=\"#000000\" fill-rule=\"evenodd\" fill-opacity=\"1\" /><circle clip-path=\"url(#clip583)\" cx=\"1762.27\" cy=\"601.442\" r=\"14\" fill=\"#cd5c5c\" fill-rule=\"evenodd\" fill-opacity=\"1\" stroke=\"#000000\" stroke-opacity=\"1\" stroke-width=\"2.4\"/>\n",
       "<circle clip-path=\"url(#clip583)\" cx=\"2144.75\" cy=\"557.588\" r=\"14\" fill=\"#cd5c5c\" fill-rule=\"evenodd\" fill-opacity=\"1\" stroke=\"#000000\" stroke-opacity=\"1\" stroke-width=\"2.4\"/>\n",
       "<circle clip-path=\"url(#clip583)\" cx=\"2227.69\" cy=\"478.393\" r=\"14\" fill=\"#cd5c5c\" fill-rule=\"evenodd\" fill-opacity=\"1\" stroke=\"#000000\" stroke-opacity=\"1\" stroke-width=\"2.4\"/>\n",
       "<circle clip-path=\"url(#clip583)\" cx=\"2325.59\" cy=\"328.768\" r=\"14\" fill=\"#cd5c5c\" fill-rule=\"evenodd\" fill-opacity=\"1\" stroke=\"#000000\" stroke-opacity=\"1\" stroke-width=\"2.4\"/>\n",
       "<circle clip-path=\"url(#clip583)\" cx=\"1958.11\" cy=\"550.513\" r=\"14\" fill=\"#cd5c5c\" fill-rule=\"evenodd\" fill-opacity=\"1\" stroke=\"#000000\" stroke-opacity=\"1\" stroke-width=\"2.4\"/>\n",
       "<circle clip-path=\"url(#clip583)\" cx=\"2051.54\" cy=\"121.349\" r=\"14\" fill=\"#cd5c5c\" fill-rule=\"evenodd\" fill-opacity=\"1\" stroke=\"#000000\" stroke-opacity=\"1\" stroke-width=\"2.4\"/>\n",
       "<circle clip-path=\"url(#clip583)\" cx=\"2102.41\" cy=\"75.5589\" r=\"14\" fill=\"#cd5c5c\" fill-rule=\"evenodd\" fill-opacity=\"1\" stroke=\"#000000\" stroke-opacity=\"1\" stroke-width=\"2.4\"/>\n",
       "<circle clip-path=\"url(#clip583)\" cx=\"2069.52\" cy=\"798.876\" r=\"14\" fill=\"#cd5c5c\" fill-rule=\"evenodd\" fill-opacity=\"1\" stroke=\"#000000\" stroke-opacity=\"1\" stroke-width=\"2.4\"/>\n",
       "<circle clip-path=\"url(#clip583)\" cx=\"2196.52\" cy=\"476.909\" r=\"14\" fill=\"#cd5c5c\" fill-rule=\"evenodd\" fill-opacity=\"1\" stroke=\"#000000\" stroke-opacity=\"1\" stroke-width=\"2.4\"/>\n",
       "<circle clip-path=\"url(#clip583)\" cx=\"2135.95\" cy=\"339.61\" r=\"14\" fill=\"#cd5c5c\" fill-rule=\"evenodd\" fill-opacity=\"1\" stroke=\"#000000\" stroke-opacity=\"1\" stroke-width=\"2.4\"/>\n",
       "<circle clip-path=\"url(#clip583)\" cx=\"2242.54\" cy=\"247.197\" r=\"14\" fill=\"#cd5c5c\" fill-rule=\"evenodd\" fill-opacity=\"1\" stroke=\"#000000\" stroke-opacity=\"1\" stroke-width=\"2.4\"/>\n",
       "<circle clip-path=\"url(#clip583)\" cx=\"2090.73\" cy=\"493.837\" r=\"14\" fill=\"#cd5c5c\" fill-rule=\"evenodd\" fill-opacity=\"1\" stroke=\"#000000\" stroke-opacity=\"1\" stroke-width=\"2.4\"/>\n",
       "<circle clip-path=\"url(#clip583)\" cx=\"1989.09\" cy=\"371.365\" r=\"14\" fill=\"#cd5c5c\" fill-rule=\"evenodd\" fill-opacity=\"1\" stroke=\"#000000\" stroke-opacity=\"1\" stroke-width=\"2.4\"/>\n",
       "<circle clip-path=\"url(#clip583)\" cx=\"2314.03\" cy=\"125.002\" r=\"14\" fill=\"#cd5c5c\" fill-rule=\"evenodd\" fill-opacity=\"1\" stroke=\"#000000\" stroke-opacity=\"1\" stroke-width=\"2.4\"/>\n",
       "<circle clip-path=\"url(#clip583)\" cx=\"2316.76\" cy=\"182.236\" r=\"14\" fill=\"#cd5c5c\" fill-rule=\"evenodd\" fill-opacity=\"1\" stroke=\"#000000\" stroke-opacity=\"1\" stroke-width=\"2.4\"/>\n",
       "<circle clip-path=\"url(#clip583)\" cx=\"2017.85\" cy=\"445.607\" r=\"14\" fill=\"#cd5c5c\" fill-rule=\"evenodd\" fill-opacity=\"1\" stroke=\"#000000\" stroke-opacity=\"1\" stroke-width=\"2.4\"/>\n",
       "<circle clip-path=\"url(#clip583)\" cx=\"2127.83\" cy=\"286.509\" r=\"14\" fill=\"#cd5c5c\" fill-rule=\"evenodd\" fill-opacity=\"1\" stroke=\"#000000\" stroke-opacity=\"1\" stroke-width=\"2.4\"/>\n",
       "<circle clip-path=\"url(#clip583)\" cx=\"2102.54\" cy=\"270.908\" r=\"14\" fill=\"#cd5c5c\" fill-rule=\"evenodd\" fill-opacity=\"1\" stroke=\"#000000\" stroke-opacity=\"1\" stroke-width=\"2.4\"/>\n",
       "<circle clip-path=\"url(#clip583)\" cx=\"1843.25\" cy=\"511.144\" r=\"14\" fill=\"#cd5c5c\" fill-rule=\"evenodd\" fill-opacity=\"1\" stroke=\"#000000\" stroke-opacity=\"1\" stroke-width=\"2.4\"/>\n",
       "<circle clip-path=\"url(#clip583)\" cx=\"2220.97\" cy=\"340.796\" r=\"14\" fill=\"#cd5c5c\" fill-rule=\"evenodd\" fill-opacity=\"1\" stroke=\"#000000\" stroke-opacity=\"1\" stroke-width=\"2.4\"/>\n",
       "<circle clip-path=\"url(#clip583)\" cx=\"2306.02\" cy=\"272.617\" r=\"14\" fill=\"#cd5c5c\" fill-rule=\"evenodd\" fill-opacity=\"1\" stroke=\"#000000\" stroke-opacity=\"1\" stroke-width=\"2.4\"/>\n",
       "<circle clip-path=\"url(#clip583)\" cx=\"2177.35\" cy=\"307.914\" r=\"14\" fill=\"#cd5c5c\" fill-rule=\"evenodd\" fill-opacity=\"1\" stroke=\"#000000\" stroke-opacity=\"1\" stroke-width=\"2.4\"/>\n",
       "<circle clip-path=\"url(#clip583)\" cx=\"2203.27\" cy=\"239.286\" r=\"14\" fill=\"#cd5c5c\" fill-rule=\"evenodd\" fill-opacity=\"1\" stroke=\"#000000\" stroke-opacity=\"1\" stroke-width=\"2.4\"/>\n",
       "<circle clip-path=\"url(#clip583)\" cx=\"1683.76\" cy=\"649.969\" r=\"14\" fill=\"#4682b4\" fill-rule=\"evenodd\" fill-opacity=\"1\" stroke=\"#000000\" stroke-opacity=\"1\" stroke-width=\"2.4\"/>\n",
       "<circle clip-path=\"url(#clip583)\" cx=\"1464.1\" cy=\"771.341\" r=\"14\" fill=\"#4682b4\" fill-rule=\"evenodd\" fill-opacity=\"1\" stroke=\"#000000\" stroke-opacity=\"1\" stroke-width=\"2.4\"/>\n",
       "<circle clip-path=\"url(#clip583)\" cx=\"1703.25\" cy=\"628.616\" r=\"14\" fill=\"#4682b4\" fill-rule=\"evenodd\" fill-opacity=\"1\" stroke=\"#000000\" stroke-opacity=\"1\" stroke-width=\"2.4\"/>\n",
       "<circle clip-path=\"url(#clip583)\" cx=\"1445.57\" cy=\"1019.39\" r=\"14\" fill=\"#4682b4\" fill-rule=\"evenodd\" fill-opacity=\"1\" stroke=\"#000000\" stroke-opacity=\"1\" stroke-width=\"2.4\"/>\n",
       "<circle clip-path=\"url(#clip583)\" cx=\"1670.25\" cy=\"793.079\" r=\"14\" fill=\"#4682b4\" fill-rule=\"evenodd\" fill-opacity=\"1\" stroke=\"#000000\" stroke-opacity=\"1\" stroke-width=\"2.4\"/>\n",
       "<circle clip-path=\"url(#clip583)\" cx=\"1595.74\" cy=\"825.52\" r=\"14\" fill=\"#4682b4\" fill-rule=\"evenodd\" fill-opacity=\"1\" stroke=\"#000000\" stroke-opacity=\"1\" stroke-width=\"2.4\"/>\n",
       "<circle clip-path=\"url(#clip583)\" cx=\"1556.14\" cy=\"704.964\" r=\"14\" fill=\"#4682b4\" fill-rule=\"evenodd\" fill-opacity=\"1\" stroke=\"#000000\" stroke-opacity=\"1\" stroke-width=\"2.4\"/>\n",
       "<circle clip-path=\"url(#clip583)\" cx=\"1442.46\" cy=\"898.181\" r=\"14\" fill=\"#4682b4\" fill-rule=\"evenodd\" fill-opacity=\"1\" stroke=\"#000000\" stroke-opacity=\"1\" stroke-width=\"2.4\"/>\n",
       "<circle clip-path=\"url(#clip583)\" cx=\"1642.97\" cy=\"878.143\" r=\"14\" fill=\"#4682b4\" fill-rule=\"evenodd\" fill-opacity=\"1\" stroke=\"#000000\" stroke-opacity=\"1\" stroke-width=\"2.4\"/>\n",
       "<circle clip-path=\"url(#clip583)\" cx=\"1629.96\" cy=\"781.43\" r=\"14\" fill=\"#4682b4\" fill-rule=\"evenodd\" fill-opacity=\"1\" stroke=\"#000000\" stroke-opacity=\"1\" stroke-width=\"2.4\"/>\n",
       "<circle clip-path=\"url(#clip583)\" cx=\"1945.62\" cy=\"647.379\" r=\"14\" fill=\"#4682b4\" fill-rule=\"evenodd\" fill-opacity=\"1\" stroke=\"#000000\" stroke-opacity=\"1\" stroke-width=\"2.4\"/>\n",
       "<circle clip-path=\"url(#clip583)\" cx=\"1478.07\" cy=\"836.278\" r=\"14\" fill=\"#4682b4\" fill-rule=\"evenodd\" fill-opacity=\"1\" stroke=\"#000000\" stroke-opacity=\"1\" stroke-width=\"2.4\"/>\n",
       "<circle clip-path=\"url(#clip583)\" cx=\"1609.95\" cy=\"546.9\" r=\"14\" fill=\"#4682b4\" fill-rule=\"evenodd\" fill-opacity=\"1\" stroke=\"#000000\" stroke-opacity=\"1\" stroke-width=\"2.4\"/>\n",
       "<circle clip-path=\"url(#clip583)\" cx=\"1769.23\" cy=\"261.8\" r=\"14\" fill=\"#4682b4\" fill-rule=\"evenodd\" fill-opacity=\"1\" stroke=\"#000000\" stroke-opacity=\"1\" stroke-width=\"2.4\"/>\n",
       "<circle clip-path=\"url(#clip583)\" cx=\"1561.02\" cy=\"989.758\" r=\"14\" fill=\"#4682b4\" fill-rule=\"evenodd\" fill-opacity=\"1\" stroke=\"#000000\" stroke-opacity=\"1\" stroke-width=\"2.4\"/>\n",
       "<circle clip-path=\"url(#clip583)\" cx=\"1830.18\" cy=\"945.31\" r=\"14\" fill=\"#4682b4\" fill-rule=\"evenodd\" fill-opacity=\"1\" stroke=\"#000000\" stroke-opacity=\"1\" stroke-width=\"2.4\"/>\n",
       "<circle clip-path=\"url(#clip583)\" cx=\"1546.98\" cy=\"785.327\" r=\"14\" fill=\"#4682b4\" fill-rule=\"evenodd\" fill-opacity=\"1\" stroke=\"#000000\" stroke-opacity=\"1\" stroke-width=\"2.4\"/>\n",
       "<circle clip-path=\"url(#clip583)\" cx=\"1486.23\" cy=\"730.483\" r=\"14\" fill=\"#4682b4\" fill-rule=\"evenodd\" fill-opacity=\"1\" stroke=\"#000000\" stroke-opacity=\"1\" stroke-width=\"2.4\"/>\n",
       "<circle clip-path=\"url(#clip583)\" cx=\"1743.21\" cy=\"812.538\" r=\"14\" fill=\"#4682b4\" fill-rule=\"evenodd\" fill-opacity=\"1\" stroke=\"#000000\" stroke-opacity=\"1\" stroke-width=\"2.4\"/>\n",
       "<circle clip-path=\"url(#clip583)\" cx=\"1489.03\" cy=\"751.044\" r=\"14\" fill=\"#4682b4\" fill-rule=\"evenodd\" fill-opacity=\"1\" stroke=\"#000000\" stroke-opacity=\"1\" stroke-width=\"2.4\"/>\n",
       "<circle clip-path=\"url(#clip583)\" cx=\"1507.85\" cy=\"784.228\" r=\"14\" fill=\"#4682b4\" fill-rule=\"evenodd\" fill-opacity=\"1\" stroke=\"#000000\" stroke-opacity=\"1\" stroke-width=\"2.4\"/>\n",
       "<circle clip-path=\"url(#clip583)\" cx=\"1420.11\" cy=\"675.425\" r=\"14\" fill=\"#4682b4\" fill-rule=\"evenodd\" fill-opacity=\"1\" stroke=\"#000000\" stroke-opacity=\"1\" stroke-width=\"2.4\"/>\n",
       "<circle clip-path=\"url(#clip583)\" cx=\"1440.2\" cy=\"1015.69\" r=\"14\" fill=\"#4682b4\" fill-rule=\"evenodd\" fill-opacity=\"1\" stroke=\"#000000\" stroke-opacity=\"1\" stroke-width=\"2.4\"/>\n",
       "<circle clip-path=\"url(#clip583)\" cx=\"1708.37\" cy=\"841.74\" r=\"14\" fill=\"#4682b4\" fill-rule=\"evenodd\" fill-opacity=\"1\" stroke=\"#000000\" stroke-opacity=\"1\" stroke-width=\"2.4\"/>\n",
       "<circle clip-path=\"url(#clip583)\" cx=\"1529.53\" cy=\"758.225\" r=\"14\" fill=\"#4682b4\" fill-rule=\"evenodd\" fill-opacity=\"1\" stroke=\"#000000\" stroke-opacity=\"1\" stroke-width=\"2.4\"/>\n",
       "<circle clip-path=\"url(#clip583)\" cx=\"1457.25\" cy=\"772.175\" r=\"14\" fill=\"#4682b4\" fill-rule=\"evenodd\" fill-opacity=\"1\" stroke=\"#000000\" stroke-opacity=\"1\" stroke-width=\"2.4\"/>\n",
       "<circle clip-path=\"url(#clip583)\" cx=\"1559.22\" cy=\"660.77\" r=\"14\" fill=\"#4682b4\" fill-rule=\"evenodd\" fill-opacity=\"1\" stroke=\"#000000\" stroke-opacity=\"1\" stroke-width=\"2.4\"/>\n",
       "<path clip-path=\"url(#clip580)\" d=\"\n",
       "M2060.18 236.113 L2320.76 236.113 L2320.76 80.5926 L2060.18 80.5926  Z\n",
       "  \" fill=\"#ffffff\" fill-rule=\"evenodd\" fill-opacity=\"1\"/>\n",
       "<polyline clip-path=\"url(#clip580)\" style=\"stroke:#000000; stroke-linecap:butt; stroke-linejoin:round; stroke-width:4; stroke-opacity:1; fill:none\" points=\"\n",
       "  2060.18,236.113 2320.76,236.113 2320.76,80.5926 2060.18,80.5926 2060.18,236.113 \n",
       "  \"/>\n",
       "<circle clip-path=\"url(#clip580)\" cx=\"2102.84\" cy=\"132.433\" r=\"23\" fill=\"#cd5c5c\" fill-rule=\"evenodd\" fill-opacity=\"1\" stroke=\"#000000\" stroke-opacity=\"1\" stroke-width=\"3.84\"/>\n",
       "<path clip-path=\"url(#clip580)\" d=\"M2173.37 117.815 L2173.37 122.745 Q2171.01 120.546 2168.32 119.458 Q2165.66 118.37 2162.65 118.37 Q2156.73 118.37 2153.58 122.004 Q2150.43 125.616 2150.43 132.467 Q2150.43 139.296 2153.58 142.93 Q2156.73 146.541 2162.65 146.541 Q2165.66 146.541 2168.32 145.453 Q2171.01 144.365 2173.37 142.166 L2173.37 147.051 Q2170.92 148.717 2168.16 149.551 Q2165.43 150.384 2162.37 150.384 Q2154.53 150.384 2150.01 145.592 Q2145.5 140.777 2145.5 132.467 Q2145.5 124.134 2150.01 119.342 Q2154.53 114.528 2162.37 114.528 Q2165.48 114.528 2168.21 115.361 Q2170.96 116.171 2173.37 117.815 Z\" fill=\"#000000\" fill-rule=\"evenodd\" fill-opacity=\"1\" /><path clip-path=\"url(#clip580)\" d=\"M2190.45 126.773 Q2187.03 126.773 2185.04 129.458 Q2183.04 132.12 2183.04 136.773 Q2183.04 141.426 2185.01 144.111 Q2187 146.773 2190.45 146.773 Q2193.85 146.773 2195.85 144.088 Q2197.84 141.402 2197.84 136.773 Q2197.84 132.166 2195.85 129.481 Q2193.85 126.773 2190.45 126.773 M2190.45 123.162 Q2196.01 123.162 2199.18 126.773 Q2202.35 130.384 2202.35 136.773 Q2202.35 143.139 2199.18 146.773 Q2196.01 150.384 2190.45 150.384 Q2184.87 150.384 2181.7 146.773 Q2178.55 143.139 2178.55 136.773 Q2178.55 130.384 2181.7 126.773 Q2184.87 123.162 2190.45 123.162 Z\" fill=\"#000000\" fill-rule=\"evenodd\" fill-opacity=\"1\" /><path clip-path=\"url(#clip580)\" d=\"M2221.19 136.68 Q2216.03 136.68 2214.04 137.861 Q2212.05 139.041 2212.05 141.889 Q2212.05 144.157 2213.53 145.5 Q2215.04 146.819 2217.6 146.819 Q2221.15 146.819 2223.28 144.319 Q2225.43 141.796 2225.43 137.629 L2225.43 136.68 L2221.19 136.68 M2229.69 134.921 L2229.69 149.713 L2225.43 149.713 L2225.43 145.777 Q2223.97 148.139 2221.79 149.273 Q2219.62 150.384 2216.47 150.384 Q2212.49 150.384 2210.13 148.162 Q2207.79 145.916 2207.79 142.166 Q2207.79 137.791 2210.71 135.569 Q2213.65 133.347 2219.46 133.347 L2225.43 133.347 L2225.43 132.93 Q2225.43 129.991 2223.48 128.393 Q2221.56 126.773 2218.07 126.773 Q2215.85 126.773 2213.74 127.305 Q2211.63 127.838 2209.69 128.903 L2209.69 124.967 Q2212.03 124.065 2214.22 123.625 Q2216.42 123.162 2218.51 123.162 Q2224.13 123.162 2226.91 126.078 Q2229.69 128.995 2229.69 134.921 Z\" fill=\"#000000\" fill-rule=\"evenodd\" fill-opacity=\"1\" /><path clip-path=\"url(#clip580)\" d=\"M2242.67 116.426 L2242.67 123.787 L2251.45 123.787 L2251.45 127.097 L2242.67 127.097 L2242.67 141.171 Q2242.67 144.342 2243.53 145.245 Q2244.41 146.148 2247.07 146.148 L2251.45 146.148 L2251.45 149.713 L2247.07 149.713 Q2242.14 149.713 2240.27 147.884 Q2238.39 146.032 2238.39 141.171 L2238.39 127.097 L2235.27 127.097 L2235.27 123.787 L2238.39 123.787 L2238.39 116.426 L2242.67 116.426 Z\" fill=\"#000000\" fill-rule=\"evenodd\" fill-opacity=\"1\" /><circle clip-path=\"url(#clip580)\" cx=\"2102.84\" cy=\"184.273\" r=\"23\" fill=\"#4682b4\" fill-rule=\"evenodd\" fill-opacity=\"1\" stroke=\"#000000\" stroke-opacity=\"1\" stroke-width=\"3.84\"/>\n",
       "<path clip-path=\"url(#clip580)\" d=\"M2167.74 168.127 L2167.74 172.687 Q2165.08 171.414 2162.72 170.789 Q2160.36 170.164 2158.16 170.164 Q2154.34 170.164 2152.26 171.645 Q2150.2 173.127 2150.2 175.858 Q2150.2 178.15 2151.56 179.331 Q2152.95 180.488 2156.79 181.206 L2159.62 181.784 Q2164.85 182.78 2167.33 185.303 Q2169.83 187.803 2169.83 192.016 Q2169.83 197.039 2166.45 199.631 Q2163.09 202.224 2156.59 202.224 Q2154.13 202.224 2151.35 201.668 Q2148.6 201.113 2145.64 200.025 L2145.64 195.21 Q2148.48 196.807 2151.22 197.617 Q2153.95 198.428 2156.59 198.428 Q2160.59 198.428 2162.77 196.854 Q2164.94 195.28 2164.94 192.363 Q2164.94 189.817 2163.37 188.381 Q2161.82 186.946 2158.25 186.229 L2155.41 185.673 Q2150.17 184.631 2147.84 182.409 Q2145.5 180.187 2145.5 176.229 Q2145.5 171.645 2148.72 169.006 Q2151.96 166.368 2157.63 166.368 Q2160.06 166.368 2162.58 166.807 Q2165.1 167.247 2167.74 168.127 Z\" fill=\"#000000\" fill-rule=\"evenodd\" fill-opacity=\"1\" /><path clip-path=\"url(#clip580)\" d=\"M2188.72 188.52 Q2183.55 188.52 2181.56 189.701 Q2179.57 190.881 2179.57 193.729 Q2179.57 195.997 2181.05 197.34 Q2182.56 198.659 2185.13 198.659 Q2188.67 198.659 2190.8 196.159 Q2192.95 193.636 2192.95 189.469 L2192.95 188.52 L2188.72 188.52 M2197.21 186.761 L2197.21 201.553 L2192.95 201.553 L2192.95 197.617 Q2191.49 199.979 2189.32 201.113 Q2187.14 202.224 2183.99 202.224 Q2180.01 202.224 2177.65 200.002 Q2175.31 197.756 2175.31 194.006 Q2175.31 189.631 2178.23 187.409 Q2181.17 185.187 2186.98 185.187 L2192.95 185.187 L2192.95 184.77 Q2192.95 181.831 2191.01 180.233 Q2189.09 178.613 2185.59 178.613 Q2183.37 178.613 2181.26 179.145 Q2179.16 179.678 2177.21 180.743 L2177.21 176.807 Q2179.55 175.905 2181.75 175.465 Q2183.95 175.002 2186.03 175.002 Q2191.66 175.002 2194.43 177.918 Q2197.21 180.835 2197.21 186.761 Z\" fill=\"#000000\" fill-rule=\"evenodd\" fill-opacity=\"1\" /><path clip-path=\"url(#clip580)\" d=\"M2227.54 185.905 L2227.54 201.553 L2223.28 201.553 L2223.28 186.043 Q2223.28 182.363 2221.84 180.534 Q2220.41 178.706 2217.54 178.706 Q2214.09 178.706 2212.1 180.905 Q2210.1 183.104 2210.1 186.9 L2210.1 201.553 L2205.82 201.553 L2205.82 175.627 L2210.1 175.627 L2210.1 179.655 Q2211.63 177.317 2213.69 176.159 Q2215.78 175.002 2218.48 175.002 Q2222.95 175.002 2225.24 177.78 Q2227.54 180.534 2227.54 185.905 Z\" fill=\"#000000\" fill-rule=\"evenodd\" fill-opacity=\"1\" /><path clip-path=\"url(#clip580)\" d=\"M2253.09 179.562 L2253.09 165.534 L2257.35 165.534 L2257.35 201.553 L2253.09 201.553 L2253.09 197.664 Q2251.75 199.979 2249.69 201.113 Q2247.65 202.224 2244.78 202.224 Q2240.08 202.224 2237.12 198.474 Q2234.18 194.724 2234.18 188.613 Q2234.18 182.502 2237.12 178.752 Q2240.08 175.002 2244.78 175.002 Q2247.65 175.002 2249.69 176.136 Q2251.75 177.247 2253.09 179.562 M2238.58 188.613 Q2238.58 193.312 2240.5 195.997 Q2242.44 198.659 2245.82 198.659 Q2249.2 198.659 2251.15 195.997 Q2253.09 193.312 2253.09 188.613 Q2253.09 183.914 2251.15 181.252 Q2249.2 178.567 2245.82 178.567 Q2242.44 178.567 2240.5 181.252 Q2238.58 183.914 2238.58 188.613 Z\" fill=\"#000000\" fill-rule=\"evenodd\" fill-opacity=\"1\" /><path clip-path=\"url(#clip580)\" d=\"M2277.91 188.52 Q2272.74 188.52 2270.75 189.701 Q2268.76 190.881 2268.76 193.729 Q2268.76 195.997 2270.24 197.34 Q2271.75 198.659 2274.32 198.659 Q2277.86 198.659 2279.99 196.159 Q2282.14 193.636 2282.14 189.469 L2282.14 188.52 L2277.91 188.52 M2286.4 186.761 L2286.4 201.553 L2282.14 201.553 L2282.14 197.617 Q2280.68 199.979 2278.51 201.113 Q2276.33 202.224 2273.18 202.224 Q2269.2 202.224 2266.84 200.002 Q2264.5 197.756 2264.5 194.006 Q2264.5 189.631 2267.42 187.409 Q2270.36 185.187 2276.17 185.187 L2282.14 185.187 L2282.14 184.77 Q2282.14 181.831 2280.2 180.233 Q2278.28 178.613 2274.78 178.613 Q2272.56 178.613 2270.45 179.145 Q2268.35 179.678 2266.4 180.743 L2266.4 176.807 Q2268.74 175.905 2270.94 175.465 Q2273.14 175.002 2275.22 175.002 Q2280.84 175.002 2283.62 177.918 Q2286.4 180.835 2286.4 186.761 Z\" fill=\"#000000\" fill-rule=\"evenodd\" fill-opacity=\"1\" /><path clip-path=\"url(#clip580)\" d=\"M2295.17 165.534 L2299.43 165.534 L2299.43 201.553 L2295.17 201.553 L2295.17 165.534 Z\" fill=\"#000000\" fill-rule=\"evenodd\" fill-opacity=\"1\" /></svg>\n"
      ]
     },
     "execution_count": 30,
     "metadata": {},
     "output_type": "execute_result"
    }
   ],
   "source": [
    "scatter(X_test_Pr[1, y_test .== -1], X_test_Pr[2, y_test .== -1], \n",
    "            color = :indianred,\n",
    "            label = labels[l₁],\n",
    "            size = (600,300),\n",
    "            subplot = 1, layout = 2,\n",
    "            xlabel = \"true labels test data\")\n",
    "scatter!(X_test_Pr[1, y_test .== 1], X_test_Pr[2, y_test .== 1], \n",
    "            color = :steelblue,\n",
    "            label = labels[l₂],\n",
    "            subplot = 1, layout = 2)\n",
    "scatter!(X_test_Pr[1, ŷ_test .== -1], X_test_Pr[2, ŷ_test .== -1], \n",
    "            color = :indianred,\n",
    "            label = labels[l₁],\n",
    "            size = (600,300),\n",
    "            subplot = 2, layout = 2,\n",
    "            xlabel = \"predictions test data\")\n",
    "scatter!(X_test_Pr[1, ŷ_test .== 1], X_test_Pr[2, ŷ_test .== 1], \n",
    "            color = :steelblue,\n",
    "            label = labels[l₂],\n",
    "            subplot = 2, layout = 2)"
   ]
  },
  {
   "cell_type": "markdown",
   "metadata": {},
   "source": [
    "The fraction of uncorrectly prediced data points is"
   ]
  },
  {
   "cell_type": "code",
   "execution_count": 31,
   "metadata": {},
   "outputs": [
    {
     "data": {
      "text/plain": [
       "0.1"
      ]
     },
     "execution_count": 31,
     "metadata": {},
     "output_type": "execute_result"
    }
   ],
   "source": [
    "count((y_test-ŷ_test) .!= 0)/n"
   ]
  },
  {
   "cell_type": "markdown",
   "metadata": {},
   "source": [
    "# Neural Networks\n",
    "\n",
    "We will now compute a classification algorithm using a neural network.\n",
    "\n",
    "Instead of setting up the network by hand as we did in Notebook 4, we will use [Flux.jl](https://fluxml.ai).\n",
    "\n",
    "We set up a neural network with three layers.\n",
    "\n",
    "The first layer is $\\mathbb R^D\\to\\mathbb R^{N_1}$. \n",
    "\n",
    "The second layer is $\\mathbb R^{N_1}\\to\\mathbb R^{N_2}$. \n",
    "\n",
    "The third layer is $\\mathbb R^{N_2}\\to\\mathbb R^{2}$.\n",
    "\n",
    "The output in $\\mathbb R^{2}$ will be a discrete probability distribution for our two items. Therefore, we use as the activation function in the last layer the softmax function. The other activation functions are chosen to be the ReLu function."
   ]
  },
  {
   "cell_type": "code",
   "execution_count": 32,
   "metadata": {},
   "outputs": [
    {
     "data": {
      "text/plain": [
       "Chain(\n",
       "  Dense(784 => 20, relu),               \u001b[90m# 15_700 parameters\u001b[39m\n",
       "  Dense(20 => 15, relu),                \u001b[90m# 315 parameters\u001b[39m\n",
       "  Dense(15 => 2),                       \u001b[90m# 32 parameters\u001b[39m\n",
       "  NNlib.softmax,\n",
       ") \u001b[90m                  # Total: 6 arrays, \u001b[39m16_047 parameters, 63.059 KiB."
      ]
     },
     "execution_count": 32,
     "metadata": {},
     "output_type": "execute_result"
    }
   ],
   "source": [
    "N₁, N₂ = 20, 15\n",
    "\n",
    "NN = Flux.Chain(\n",
    "          Dense(28^2, N₁, relu),\n",
    "          Dense(N₁, N₂, relu),\n",
    "          Dense(N₂, 2),\n",
    "          softmax)"
   ]
  },
  {
   "cell_type": "markdown",
   "metadata": {},
   "source": [
    "We have to modify the output data accordingly."
   ]
  },
  {
   "cell_type": "code",
   "execution_count": 33,
   "metadata": {},
   "outputs": [],
   "source": [
    "y₀ = map(Y) do Yᵢ\n",
    "    if Yᵢ==l₁\n",
    "        [1;0]\n",
    "    elseif Yᵢ==l₂\n",
    "        [0;1]\n",
    "    end\n",
    "    end;"
   ]
  },
  {
   "cell_type": "markdown",
   "metadata": {},
   "source": [
    "As loss function we take the [crossentropy](https://en.wikipedia.org/wiki/Cross_entropy) function `ℓ(p,q) = -p₁ log(q₁) - p₂ log(q₂).`"
   ]
  },
  {
   "cell_type": "code",
   "execution_count": 34,
   "metadata": {},
   "outputs": [],
   "source": [
    "loss(x, y) = Flux.crossentropy(NN(x), y; dims = 2);\n",
    "# in Flux.jl the first variable is in ℝ^D"
   ]
  },
  {
   "cell_type": "markdown",
   "metadata": {},
   "source": [
    "The framework to set up a Flux.jl' model is as follows:\n",
    "\n",
    "(The code is adapted from the lecture on [Neural Nets](https://github.com/JuliaAcademy/DataScience/blob/main/10.%20Neural%20Nets.ipynb) by [Huda Nassar](https://github.com/nassarhuda).)"
   ]
  },
  {
   "cell_type": "code",
   "execution_count": 35,
   "metadata": {},
   "outputs": [],
   "source": [
    "ps = Flux.params(NN);\n",
    "dataset = [(Float32.(x),y) for (x,y) in zip(X_vec, y₀)];\n",
    "opt = ADAM();"
   ]
  },
  {
   "cell_type": "markdown",
   "metadata": {},
   "source": [
    "The model is the trained using Flux.jl's `train!` function."
   ]
  },
  {
   "cell_type": "code",
   "execution_count": 36,
   "metadata": {},
   "outputs": [
    {
     "name": "stderr",
     "output_type": "stream",
     "text": [
      "┌ Info: Epoch 1\n",
      "└ @ Main /Users/pb/.julia/packages/Flux/6Q5r4/src/optimise/train.jl:154\n",
      "┌ Info: Epoch 2\n",
      "└ @ Main /Users/pb/.julia/packages/Flux/6Q5r4/src/optimise/train.jl:154\n",
      "┌ Info: Epoch 3\n",
      "└ @ Main /Users/pb/.julia/packages/Flux/6Q5r4/src/optimise/train.jl:154\n"
     ]
    }
   ],
   "source": [
    "Flux.@epochs 3 Flux.train!(loss, ps, dataset, opt)"
   ]
  },
  {
   "cell_type": "markdown",
   "metadata": {},
   "source": [
    "Let us now see what the algorithm that we have learned predicts on randomly chosen elements from the test data set."
   ]
  },
  {
   "cell_type": "code",
   "execution_count": 37,
   "metadata": {},
   "outputs": [
    {
     "name": "stdout",
     "output_type": "stream",
     "text": [
      "With probability 0.5104251281723913: Coat.\n",
      "\n",
      "With probability 0.4895748718276087: Sandal.\n",
      "\n"
     ]
    },
    {
     "data": {
      "image/png": "[encoded data removed]",
      "text/plain": [
       "28×28 reinterpret(reshape, Gray{N0f8}, ::Array{N0f8,2}) with eltype Gray{N0f8}:\n",
       " Gray{N0f8}(0.0)  Gray{N0f8}(0.0)  …  Gray{N0f8}(0.0)  Gray{N0f8}(0.0)\n",
       " Gray{N0f8}(0.0)  Gray{N0f8}(0.0)     Gray{N0f8}(0.0)  Gray{N0f8}(0.0)\n",
       " Gray{N0f8}(0.0)  Gray{N0f8}(0.0)     Gray{N0f8}(0.0)  Gray{N0f8}(0.0)\n",
       " Gray{N0f8}(0.0)  Gray{N0f8}(0.0)     Gray{N0f8}(0.0)  Gray{N0f8}(0.0)\n",
       " Gray{N0f8}(0.0)  Gray{N0f8}(0.0)     Gray{N0f8}(0.0)  Gray{N0f8}(0.0)\n",
       " Gray{N0f8}(0.0)  Gray{N0f8}(0.0)  …  Gray{N0f8}(0.0)  Gray{N0f8}(0.0)\n",
       " Gray{N0f8}(0.0)  Gray{N0f8}(0.0)     Gray{N0f8}(0.0)  Gray{N0f8}(0.0)\n",
       " Gray{N0f8}(0.0)  Gray{N0f8}(0.0)     Gray{N0f8}(0.0)  Gray{N0f8}(0.0)\n",
       " Gray{N0f8}(0.0)  Gray{N0f8}(0.0)     Gray{N0f8}(0.0)  Gray{N0f8}(0.0)\n",
       " Gray{N0f8}(0.0)  Gray{N0f8}(0.0)     Gray{N0f8}(0.0)  Gray{N0f8}(0.0)\n",
       " Gray{N0f8}(0.0)  Gray{N0f8}(0.0)  …  Gray{N0f8}(0.0)  Gray{N0f8}(0.0)\n",
       " Gray{N0f8}(0.0)  Gray{N0f8}(0.0)     Gray{N0f8}(0.0)  Gray{N0f8}(0.0)\n",
       " Gray{N0f8}(0.0)  Gray{N0f8}(0.0)     Gray{N0f8}(0.0)  Gray{N0f8}(0.0)\n",
       " ⋮                                 ⋱                   \n",
       " Gray{N0f8}(0.0)  Gray{N0f8}(0.0)     Gray{N0f8}(0.0)  Gray{N0f8}(0.0)\n",
       " Gray{N0f8}(0.0)  Gray{N0f8}(0.0)     Gray{N0f8}(0.0)  Gray{N0f8}(0.0)\n",
       " Gray{N0f8}(0.0)  Gray{N0f8}(0.0)     Gray{N0f8}(0.0)  Gray{N0f8}(0.0)\n",
       " Gray{N0f8}(0.0)  Gray{N0f8}(0.0)     Gray{N0f8}(0.0)  Gray{N0f8}(0.0)\n",
       " Gray{N0f8}(0.0)  Gray{N0f8}(0.0)  …  Gray{N0f8}(0.0)  Gray{N0f8}(0.0)\n",
       " Gray{N0f8}(0.0)  Gray{N0f8}(0.0)     Gray{N0f8}(0.0)  Gray{N0f8}(0.0)\n",
       " Gray{N0f8}(0.0)  Gray{N0f8}(0.0)     Gray{N0f8}(0.0)  Gray{N0f8}(0.0)\n",
       " Gray{N0f8}(0.0)  Gray{N0f8}(0.0)     Gray{N0f8}(0.0)  Gray{N0f8}(0.0)\n",
       " Gray{N0f8}(0.0)  Gray{N0f8}(0.0)     Gray{N0f8}(0.0)  Gray{N0f8}(0.0)\n",
       " Gray{N0f8}(0.0)  Gray{N0f8}(0.0)  …  Gray{N0f8}(0.0)  Gray{N0f8}(0.0)\n",
       " Gray{N0f8}(0.0)  Gray{N0f8}(0.0)     Gray{N0f8}(0.0)  Gray{N0f8}(0.0)\n",
       " Gray{N0f8}(0.0)  Gray{N0f8}(0.0)     Gray{N0f8}(0.0)  Gray{N0f8}(0.0)"
      ]
     },
     "execution_count": 37,
     "metadata": {},
     "output_type": "execute_result"
    }
   ],
   "source": [
    "ℓ = rand(1:n)\n",
    "p = NN(X_test_vec[ℓ])\n",
    "println(\"With probability $(p[1]): Coat.\\n\")\n",
    "println(\"With probability $(p[2]): Sandal.\\n\")\n",
    "FashionMNIST.convert2image(X_test[:,:,ℓ])"
   ]
  },
  {
   "cell_type": "markdown",
   "metadata": {},
   "source": [
    "Finally, we consider again the projected data and compare the labels from the neural network to the true labels on the test data.\n",
    "\n",
    "The size of the points should be proportional to the probability returned from the neural network."
   ]
  },
  {
   "cell_type": "code",
   "execution_count": 38,
   "metadata": {},
   "outputs": [],
   "source": [
    "sizes = map(x->maximum(NN(x)), X_test_vec) .* 6\n",
    "ŷ₀_test = map(x->argmax(NN(x)), X_test_vec);"
   ]
  },
  {
   "cell_type": "code",
   "execution_count": 39,
   "metadata": {},
   "outputs": [
    {
     "data": {
      "image/svg+xml": [
       "<?xml version=\"1.0\" encoding=\"utf-8\"?>\n",
       "<svg xmlns=\"http://www.w3.org/2000/svg\" xmlns:xlink=\"http://www.w3.org/1999/xlink\" width=\"600\" height=\"300\" viewBox=\"0 0 2400 1200\">\n",
       "<defs>\n",
       "  <clipPath id=\"clip620\">\n",
       "    <rect x=\"0\" y=\"0\" width=\"2400\" height=\"1200\"/>\n",
       "  </clipPath>\n",
       "</defs>\n",
       "<path clip-path=\"url(#clip620)\" d=\"\n",
       "M0 1200 L2400 1200 L2400 0 L0 0  Z\n",
       "  \" fill=\"#ffffff\" fill-rule=\"evenodd\" fill-opacity=\"1\"/>\n",
       "<defs>\n",
       "  <clipPath id=\"clip621\">\n",
       "    <rect x=\"480\" y=\"0\" width=\"1681\" height=\"1200\"/>\n",
       "  </clipPath>\n",
       "</defs>\n",
       "<path clip-path=\"url(#clip620)\" d=\"\n",
       "M192.941 1047.7 L1152.76 1047.7 L1152.76 47.2441 L192.941 47.2441  Z\n",
       "  \" fill=\"#ffffff\" fill-rule=\"evenodd\" fill-opacity=\"1\"/>\n",
       "<defs>\n",
       "  <clipPath id=\"clip622\">\n",
       "    <rect x=\"192\" y=\"47\" width=\"961\" height=\"1001\"/>\n",
       "  </clipPath>\n",
       "</defs>\n",
       "<polyline clip-path=\"url(#clip622)\" style=\"stroke:#000000; stroke-linecap:butt; stroke-linejoin:round; stroke-width:2; stroke-opacity:0.1; fill:none\" points=\"\n",
       "  324.428,1047.7 324.428,47.2441 \n",
       "  \"/>\n",
       "<polyline clip-path=\"url(#clip622)\" style=\"stroke:#000000; stroke-linecap:butt; stroke-linejoin:round; stroke-width:2; stroke-opacity:0.1; fill:none\" points=\"\n",
       "  480.642,1047.7 480.642,47.2441 \n",
       "  \"/>\n",
       "<polyline clip-path=\"url(#clip622)\" style=\"stroke:#000000; stroke-linecap:butt; stroke-linejoin:round; stroke-width:2; stroke-opacity:0.1; fill:none\" points=\"\n",
       "  636.857,1047.7 636.857,47.2441 \n",
       "  \"/>\n",
       "<polyline clip-path=\"url(#clip622)\" style=\"stroke:#000000; stroke-linecap:butt; stroke-linejoin:round; stroke-width:2; stroke-opacity:0.1; fill:none\" points=\"\n",
       "  793.071,1047.7 793.071,47.2441 \n",
       "  \"/>\n",
       "<polyline clip-path=\"url(#clip622)\" style=\"stroke:#000000; stroke-linecap:butt; stroke-linejoin:round; stroke-width:2; stroke-opacity:0.1; fill:none\" points=\"\n",
       "  949.286,1047.7 949.286,47.2441 \n",
       "  \"/>\n",
       "<polyline clip-path=\"url(#clip622)\" style=\"stroke:#000000; stroke-linecap:butt; stroke-linejoin:round; stroke-width:2; stroke-opacity:0.1; fill:none\" points=\"\n",
       "  1105.5,1047.7 1105.5,47.2441 \n",
       "  \"/>\n",
       "<polyline clip-path=\"url(#clip620)\" style=\"stroke:#000000; stroke-linecap:butt; stroke-linejoin:round; stroke-width:4; stroke-opacity:1; fill:none\" points=\"\n",
       "  192.941,1047.7 1152.76,1047.7 \n",
       "  \"/>\n",
       "<polyline clip-path=\"url(#clip620)\" style=\"stroke:#000000; stroke-linecap:butt; stroke-linejoin:round; stroke-width:4; stroke-opacity:1; fill:none\" points=\"\n",
       "  324.428,1047.7 324.428,1028.8 \n",
       "  \"/>\n",
       "<polyline clip-path=\"url(#clip620)\" style=\"stroke:#000000; stroke-linecap:butt; stroke-linejoin:round; stroke-width:4; stroke-opacity:1; fill:none\" points=\"\n",
       "  480.642,1047.7 480.642,1028.8 \n",
       "  \"/>\n",
       "<polyline clip-path=\"url(#clip620)\" style=\"stroke:#000000; stroke-linecap:butt; stroke-linejoin:round; stroke-width:4; stroke-opacity:1; fill:none\" points=\"\n",
       "  636.857,1047.7 636.857,1028.8 \n",
       "  \"/>\n",
       "<polyline clip-path=\"url(#clip620)\" style=\"stroke:#000000; stroke-linecap:butt; stroke-linejoin:round; stroke-width:4; stroke-opacity:1; fill:none\" points=\"\n",
       "  793.071,1047.7 793.071,1028.8 \n",
       "  \"/>\n",
       "<polyline clip-path=\"url(#clip620)\" style=\"stroke:#000000; stroke-linecap:butt; stroke-linejoin:round; stroke-width:4; stroke-opacity:1; fill:none\" points=\"\n",
       "  949.286,1047.7 949.286,1028.8 \n",
       "  \"/>\n",
       "<polyline clip-path=\"url(#clip620)\" style=\"stroke:#000000; stroke-linecap:butt; stroke-linejoin:round; stroke-width:4; stroke-opacity:1; fill:none\" points=\"\n",
       "  1105.5,1047.7 1105.5,1028.8 \n",
       "  \"/>\n",
       "<path clip-path=\"url(#clip620)\" d=\"M270.956 1093.27 L300.632 1093.27 L300.632 1097.21 L270.956 1097.21 L270.956 1093.27 Z\" fill=\"#000000\" fill-rule=\"evenodd\" fill-opacity=\"1\" /><path clip-path=\"url(#clip620)\" d=\"M311.534 1106.16 L319.173 1106.16 L319.173 1079.8 L310.863 1081.47 L310.863 1077.21 L319.127 1075.54 L323.803 1075.54 L323.803 1106.16 L331.442 1106.16 L331.442 1110.1 L311.534 1110.1 L311.534 1106.16 Z\" fill=\"#000000\" fill-rule=\"evenodd\" fill-opacity=\"1\" /><path clip-path=\"url(#clip620)\" d=\"M340.886 1104.22 L345.77 1104.22 L345.77 1110.1 L340.886 1110.1 L340.886 1104.22 Z\" fill=\"#000000\" fill-rule=\"evenodd\" fill-opacity=\"1\" /><path clip-path=\"url(#clip620)\" d=\"M365.955 1078.62 Q362.344 1078.62 360.515 1082.18 Q358.71 1085.72 358.71 1092.85 Q358.71 1099.96 360.515 1103.53 Q362.344 1107.07 365.955 1107.07 Q369.59 1107.07 371.395 1103.53 Q373.224 1099.96 373.224 1092.85 Q373.224 1085.72 371.395 1082.18 Q369.59 1078.62 365.955 1078.62 M365.955 1074.91 Q371.765 1074.91 374.821 1079.52 Q377.9 1084.1 377.9 1092.85 Q377.9 1101.58 374.821 1106.19 Q371.765 1110.77 365.955 1110.77 Q360.145 1110.77 357.066 1106.19 Q354.011 1101.58 354.011 1092.85 Q354.011 1084.1 357.066 1079.52 Q360.145 1074.91 365.955 1074.91 Z\" fill=\"#000000\" fill-rule=\"evenodd\" fill-opacity=\"1\" /><path clip-path=\"url(#clip620)\" d=\"M427.668 1093.27 L457.344 1093.27 L457.344 1097.21 L427.668 1097.21 L427.668 1093.27 Z\" fill=\"#000000\" fill-rule=\"evenodd\" fill-opacity=\"1\" /><path clip-path=\"url(#clip620)\" d=\"M477.436 1078.62 Q473.825 1078.62 471.996 1082.18 Q470.191 1085.72 470.191 1092.85 Q470.191 1099.96 471.996 1103.53 Q473.825 1107.07 477.436 1107.07 Q481.07 1107.07 482.876 1103.53 Q484.705 1099.96 484.705 1092.85 Q484.705 1085.72 482.876 1082.18 Q481.07 1078.62 477.436 1078.62 M477.436 1074.91 Q483.246 1074.91 486.302 1079.52 Q489.381 1084.1 489.381 1092.85 Q489.381 1101.58 486.302 1106.19 Q483.246 1110.77 477.436 1110.77 Q471.626 1110.77 468.547 1106.19 Q465.492 1101.58 465.492 1092.85 Q465.492 1084.1 468.547 1079.52 Q471.626 1074.91 477.436 1074.91 Z\" fill=\"#000000\" fill-rule=\"evenodd\" fill-opacity=\"1\" /><path clip-path=\"url(#clip620)\" d=\"M497.598 1104.22 L502.482 1104.22 L502.482 1110.1 L497.598 1110.1 L497.598 1104.22 Z\" fill=\"#000000\" fill-rule=\"evenodd\" fill-opacity=\"1\" /><path clip-path=\"url(#clip620)\" d=\"M512.714 1075.54 L531.07 1075.54 L531.07 1079.48 L516.996 1079.48 L516.996 1087.95 Q518.015 1087.6 519.033 1087.44 Q520.052 1087.25 521.07 1087.25 Q526.857 1087.25 530.237 1090.42 Q533.616 1093.6 533.616 1099.01 Q533.616 1104.59 530.144 1107.69 Q526.672 1110.77 520.353 1110.77 Q518.177 1110.77 515.908 1110.4 Q513.663 1110.03 511.255 1109.29 L511.255 1104.59 Q513.339 1105.72 515.561 1106.28 Q517.783 1106.84 520.26 1106.84 Q524.265 1106.84 526.603 1104.73 Q528.941 1102.62 528.941 1099.01 Q528.941 1095.4 526.603 1093.29 Q524.265 1091.19 520.26 1091.19 Q518.385 1091.19 516.51 1091.6 Q514.658 1092.02 512.714 1092.9 L512.714 1075.54 Z\" fill=\"#000000\" fill-rule=\"evenodd\" fill-opacity=\"1\" /><path clip-path=\"url(#clip620)\" d=\"M614.241 1078.62 Q610.63 1078.62 608.801 1082.18 Q606.996 1085.72 606.996 1092.85 Q606.996 1099.96 608.801 1103.53 Q610.63 1107.07 614.241 1107.07 Q617.875 1107.07 619.681 1103.53 Q621.51 1099.96 621.51 1092.85 Q621.51 1085.72 619.681 1082.18 Q617.875 1078.62 614.241 1078.62 M614.241 1074.91 Q620.051 1074.91 623.107 1079.52 Q626.185 1084.1 626.185 1092.85 Q626.185 1101.58 623.107 1106.19 Q620.051 1110.77 614.241 1110.77 Q608.431 1110.77 605.352 1106.19 Q602.297 1101.58 602.297 1092.85 Q602.297 1084.1 605.352 1079.52 Q608.431 1074.91 614.241 1074.91 Z\" fill=\"#000000\" fill-rule=\"evenodd\" fill-opacity=\"1\" /><path clip-path=\"url(#clip620)\" d=\"M634.403 1104.22 L639.287 1104.22 L639.287 1110.1 L634.403 1110.1 L634.403 1104.22 Z\" fill=\"#000000\" fill-rule=\"evenodd\" fill-opacity=\"1\" /><path clip-path=\"url(#clip620)\" d=\"M659.472 1078.62 Q655.861 1078.62 654.033 1082.18 Q652.227 1085.72 652.227 1092.85 Q652.227 1099.96 654.033 1103.53 Q655.861 1107.07 659.472 1107.07 Q663.107 1107.07 664.912 1103.53 Q666.741 1099.96 666.741 1092.85 Q666.741 1085.72 664.912 1082.18 Q663.107 1078.62 659.472 1078.62 M659.472 1074.91 Q665.282 1074.91 668.338 1079.52 Q671.417 1084.1 671.417 1092.85 Q671.417 1101.58 668.338 1106.19 Q665.282 1110.77 659.472 1110.77 Q653.662 1110.77 650.584 1106.19 Q647.528 1101.58 647.528 1092.85 Q647.528 1084.1 650.584 1079.52 Q653.662 1074.91 659.472 1074.91 Z\" fill=\"#000000\" fill-rule=\"evenodd\" fill-opacity=\"1\" /><path clip-path=\"url(#clip620)\" d=\"M770.953 1078.62 Q767.342 1078.62 765.514 1082.18 Q763.708 1085.72 763.708 1092.85 Q763.708 1099.96 765.514 1103.53 Q767.342 1107.07 770.953 1107.07 Q774.588 1107.07 776.393 1103.53 Q778.222 1099.96 778.222 1092.85 Q778.222 1085.72 776.393 1082.18 Q774.588 1078.62 770.953 1078.62 M770.953 1074.91 Q776.763 1074.91 779.819 1079.52 Q782.898 1084.1 782.898 1092.85 Q782.898 1101.58 779.819 1106.19 Q776.763 1110.77 770.953 1110.77 Q765.143 1110.77 762.064 1106.19 Q759.009 1101.58 759.009 1092.85 Q759.009 1084.1 762.064 1079.52 Q765.143 1074.91 770.953 1074.91 Z\" fill=\"#000000\" fill-rule=\"evenodd\" fill-opacity=\"1\" /><path clip-path=\"url(#clip620)\" d=\"M791.115 1104.22 L795.999 1104.22 L795.999 1110.1 L791.115 1110.1 L791.115 1104.22 Z\" fill=\"#000000\" fill-rule=\"evenodd\" fill-opacity=\"1\" /><path clip-path=\"url(#clip620)\" d=\"M806.231 1075.54 L824.587 1075.54 L824.587 1079.48 L810.513 1079.48 L810.513 1087.95 Q811.532 1087.6 812.55 1087.44 Q813.569 1087.25 814.587 1087.25 Q820.374 1087.25 823.754 1090.42 Q827.134 1093.6 827.134 1099.01 Q827.134 1104.59 823.661 1107.69 Q820.189 1110.77 813.87 1110.77 Q811.694 1110.77 809.425 1110.4 Q807.18 1110.03 804.773 1109.29 L804.773 1104.59 Q806.856 1105.72 809.078 1106.28 Q811.3 1106.84 813.777 1106.84 Q817.782 1106.84 820.12 1104.73 Q822.458 1102.62 822.458 1099.01 Q822.458 1095.4 820.12 1093.29 Q817.782 1091.19 813.777 1091.19 Q811.902 1091.19 810.027 1091.6 Q808.175 1092.02 806.231 1092.9 L806.231 1075.54 Z\" fill=\"#000000\" fill-rule=\"evenodd\" fill-opacity=\"1\" /><path clip-path=\"url(#clip620)\" d=\"M916.439 1106.16 L924.078 1106.16 L924.078 1079.8 L915.767 1081.47 L915.767 1077.21 L924.031 1075.54 L928.707 1075.54 L928.707 1106.16 L936.346 1106.16 L936.346 1110.1 L916.439 1110.1 L916.439 1106.16 Z\" fill=\"#000000\" fill-rule=\"evenodd\" fill-opacity=\"1\" /><path clip-path=\"url(#clip620)\" d=\"M945.79 1104.22 L950.675 1104.22 L950.675 1110.1 L945.79 1110.1 L945.79 1104.22 Z\" fill=\"#000000\" fill-rule=\"evenodd\" fill-opacity=\"1\" /><path clip-path=\"url(#clip620)\" d=\"M970.86 1078.62 Q967.249 1078.62 965.42 1082.18 Q963.614 1085.72 963.614 1092.85 Q963.614 1099.96 965.42 1103.53 Q967.249 1107.07 970.86 1107.07 Q974.494 1107.07 976.299 1103.53 Q978.128 1099.96 978.128 1092.85 Q978.128 1085.72 976.299 1082.18 Q974.494 1078.62 970.86 1078.62 M970.86 1074.91 Q976.67 1074.91 979.725 1079.52 Q982.804 1084.1 982.804 1092.85 Q982.804 1101.58 979.725 1106.19 Q976.67 1110.77 970.86 1110.77 Q965.05 1110.77 961.971 1106.19 Q958.915 1101.58 958.915 1092.85 Q958.915 1084.1 961.971 1079.52 Q965.05 1074.91 970.86 1074.91 Z\" fill=\"#000000\" fill-rule=\"evenodd\" fill-opacity=\"1\" /><path clip-path=\"url(#clip620)\" d=\"M1073.15 1106.16 L1080.79 1106.16 L1080.79 1079.8 L1072.48 1081.47 L1072.48 1077.21 L1080.74 1075.54 L1085.42 1075.54 L1085.42 1106.16 L1093.06 1106.16 L1093.06 1110.1 L1073.15 1110.1 L1073.15 1106.16 Z\" fill=\"#000000\" fill-rule=\"evenodd\" fill-opacity=\"1\" /><path clip-path=\"url(#clip620)\" d=\"M1102.5 1104.22 L1107.39 1104.22 L1107.39 1110.1 L1102.5 1110.1 L1102.5 1104.22 Z\" fill=\"#000000\" fill-rule=\"evenodd\" fill-opacity=\"1\" /><path clip-path=\"url(#clip620)\" d=\"M1117.62 1075.54 L1135.97 1075.54 L1135.97 1079.48 L1121.9 1079.48 L1121.9 1087.95 Q1122.92 1087.6 1123.94 1087.44 Q1124.96 1087.25 1125.97 1087.25 Q1131.76 1087.25 1135.14 1090.42 Q1138.52 1093.6 1138.52 1099.01 Q1138.52 1104.59 1135.05 1107.69 Q1131.58 1110.77 1125.26 1110.77 Q1123.08 1110.77 1120.81 1110.4 Q1118.57 1110.03 1116.16 1109.29 L1116.16 1104.59 Q1118.24 1105.72 1120.47 1106.28 Q1122.69 1106.84 1125.16 1106.84 Q1129.17 1106.84 1131.51 1104.73 Q1133.84 1102.62 1133.84 1099.01 Q1133.84 1095.4 1131.51 1093.29 Q1129.17 1091.19 1125.16 1091.19 Q1123.29 1091.19 1121.41 1091.6 Q1119.56 1092.02 1117.62 1092.9 L1117.62 1075.54 Z\" fill=\"#000000\" fill-rule=\"evenodd\" fill-opacity=\"1\" /><path clip-path=\"url(#clip620)\" d=\"M357.093 1146.79 L357.093 1156.92 L369.156 1156.92 L369.156 1161.47 L357.093 1161.47 L357.093 1180.82 Q357.093 1185.18 358.271 1186.42 Q359.48 1187.66 363.141 1187.66 L369.156 1187.66 L369.156 1192.56 L363.141 1192.56 Q356.361 1192.56 353.783 1190.05 Q351.205 1187.5 351.205 1180.82 L351.205 1161.47 L346.908 1161.47 L346.908 1156.92 L351.205 1156.92 L351.205 1146.79 L357.093 1146.79 Z\" fill=\"#000000\" fill-rule=\"evenodd\" fill-opacity=\"1\" /><path clip-path=\"url(#clip620)\" d=\"M397.516 1162.39 Q396.529 1161.82 395.351 1161.56 Q394.205 1161.28 392.805 1161.28 Q387.84 1161.28 385.166 1164.52 Q382.524 1167.74 382.524 1173.79 L382.524 1192.56 L376.636 1192.56 L376.636 1156.92 L382.524 1156.92 L382.524 1162.45 Q384.37 1159.21 387.33 1157.65 Q390.29 1156.06 394.524 1156.06 Q395.128 1156.06 395.86 1156.15 Q396.593 1156.22 397.484 1156.37 L397.516 1162.39 Z\" fill=\"#000000\" fill-rule=\"evenodd\" fill-opacity=\"1\" /><path clip-path=\"url(#clip620)\" d=\"M403.054 1178.5 L403.054 1156.92 L408.91 1156.92 L408.91 1178.27 Q408.91 1183.33 410.884 1185.88 Q412.857 1188.39 416.804 1188.39 Q421.546 1188.39 424.283 1185.37 Q427.052 1182.35 427.052 1177.13 L427.052 1156.92 L432.909 1156.92 L432.909 1192.56 L427.052 1192.56 L427.052 1187.09 Q424.92 1190.34 422.087 1191.93 Q419.286 1193.49 415.562 1193.49 Q409.419 1193.49 406.237 1189.67 Q403.054 1185.85 403.054 1178.5 M417.79 1156.06 L417.79 1156.06 Z\" fill=\"#000000\" fill-rule=\"evenodd\" fill-opacity=\"1\" /><path clip-path=\"url(#clip620)\" d=\"M475.464 1173.28 L475.464 1176.14 L448.537 1176.14 Q448.919 1182.19 452.165 1185.37 Q455.443 1188.52 461.268 1188.52 Q464.642 1188.52 467.793 1187.69 Q470.976 1186.87 474.095 1185.21 L474.095 1190.75 Q470.944 1192.09 467.634 1192.79 Q464.324 1193.49 460.918 1193.49 Q452.388 1193.49 447.391 1188.52 Q442.426 1183.56 442.426 1175.09 Q442.426 1166.34 447.136 1161.21 Q451.879 1156.06 459.899 1156.06 Q467.093 1156.06 471.262 1160.7 Q475.464 1165.32 475.464 1173.28 M469.607 1171.56 Q469.544 1166.75 466.902 1163.89 Q464.292 1161.02 459.963 1161.02 Q455.062 1161.02 452.101 1163.79 Q449.173 1166.56 448.728 1171.59 L469.607 1171.56 Z\" fill=\"#000000\" fill-rule=\"evenodd\" fill-opacity=\"1\" /><path clip-path=\"url(#clip620)\" d=\"M505.796 1143.04 L511.653 1143.04 L511.653 1192.56 L505.796 1192.56 L505.796 1143.04 Z\" fill=\"#000000\" fill-rule=\"evenodd\" fill-opacity=\"1\" /><path clip-path=\"url(#clip620)\" d=\"M540.107 1174.64 Q533.01 1174.64 530.272 1176.27 Q527.535 1177.89 527.535 1181.81 Q527.535 1184.92 529.572 1186.77 Q531.641 1188.59 535.174 1188.59 Q540.044 1188.59 542.972 1185.15 Q545.932 1181.68 545.932 1175.95 L545.932 1174.64 L540.107 1174.64 M551.788 1172.23 L551.788 1192.56 L545.932 1192.56 L545.932 1187.15 Q543.927 1190.4 540.935 1191.96 Q537.943 1193.49 533.614 1193.49 Q528.14 1193.49 524.893 1190.43 Q521.679 1187.34 521.679 1182.19 Q521.679 1176.17 525.689 1173.12 Q529.731 1170.06 537.72 1170.06 L545.932 1170.06 L545.932 1169.49 Q545.932 1165.45 543.258 1163.25 Q540.617 1161.02 535.811 1161.02 Q532.755 1161.02 529.859 1161.75 Q526.962 1162.49 524.289 1163.95 L524.289 1158.54 Q527.503 1157.3 530.527 1156.69 Q533.551 1156.06 536.415 1156.06 Q544.15 1156.06 547.969 1160.07 Q551.788 1164.08 551.788 1172.23 Z\" fill=\"#000000\" fill-rule=\"evenodd\" fill-opacity=\"1\" /><path clip-path=\"url(#clip620)\" d=\"M589.442 1174.77 Q589.442 1168.31 586.768 1164.65 Q584.126 1160.96 579.479 1160.96 Q574.832 1160.96 572.159 1164.65 Q569.517 1168.31 569.517 1174.77 Q569.517 1181.23 572.159 1184.92 Q574.832 1188.59 579.479 1188.59 Q584.126 1188.59 586.768 1184.92 Q589.442 1181.23 589.442 1174.77 M569.517 1162.33 Q571.363 1159.14 574.164 1157.62 Q576.997 1156.06 580.912 1156.06 Q587.405 1156.06 591.447 1161.21 Q595.521 1166.37 595.521 1174.77 Q595.521 1183.17 591.447 1188.33 Q587.405 1193.49 580.912 1193.49 Q576.997 1193.49 574.164 1191.96 Q571.363 1190.4 569.517 1187.22 L569.517 1192.56 L563.629 1192.56 L563.629 1143.04 L569.517 1143.04 L569.517 1162.33 Z\" fill=\"#000000\" fill-rule=\"evenodd\" fill-opacity=\"1\" /><path clip-path=\"url(#clip620)\" d=\"M635.72 1173.28 L635.72 1176.14 L608.793 1176.14 Q609.175 1182.19 612.422 1185.37 Q615.7 1188.52 621.525 1188.52 Q624.899 1188.52 628.05 1187.69 Q631.232 1186.87 634.352 1185.21 L634.352 1190.75 Q631.201 1192.09 627.89 1192.79 Q624.58 1193.49 621.175 1193.49 Q612.645 1193.49 607.648 1188.52 Q602.682 1183.56 602.682 1175.09 Q602.682 1166.34 607.393 1161.21 Q612.135 1156.06 620.156 1156.06 Q627.349 1156.06 631.519 1160.7 Q635.72 1165.32 635.72 1173.28 M629.864 1171.56 Q629.8 1166.75 627.158 1163.89 Q624.548 1161.02 620.22 1161.02 Q615.318 1161.02 612.358 1163.79 Q609.43 1166.56 608.984 1171.59 L629.864 1171.56 Z\" fill=\"#000000\" fill-rule=\"evenodd\" fill-opacity=\"1\" /><path clip-path=\"url(#clip620)\" d=\"M645.333 1143.04 L651.189 1143.04 L651.189 1192.56 L645.333 1192.56 L645.333 1143.04 Z\" fill=\"#000000\" fill-rule=\"evenodd\" fill-opacity=\"1\" /><path clip-path=\"url(#clip620)\" d=\"M686.169 1157.97 L686.169 1163.5 Q683.686 1162.23 681.012 1161.59 Q678.339 1160.96 675.474 1160.96 Q671.114 1160.96 668.917 1162.29 Q666.753 1163.63 666.753 1166.31 Q666.753 1168.34 668.313 1169.52 Q669.872 1170.67 674.583 1171.72 L676.588 1172.16 Q682.827 1173.5 685.436 1175.95 Q688.078 1178.37 688.078 1182.73 Q688.078 1187.69 684.131 1190.59 Q680.217 1193.49 673.342 1193.49 Q670.477 1193.49 667.358 1192.91 Q664.27 1192.37 660.833 1191.26 L660.833 1185.21 Q664.08 1186.9 667.231 1187.76 Q670.382 1188.59 673.469 1188.59 Q677.607 1188.59 679.835 1187.18 Q682.063 1185.75 682.063 1183.17 Q682.063 1180.79 680.439 1179.51 Q678.848 1178.24 673.405 1177.06 L671.368 1176.59 Q665.926 1175.44 663.507 1173.08 Q661.088 1170.7 661.088 1166.56 Q661.088 1161.53 664.652 1158.79 Q668.217 1156.06 674.774 1156.06 Q678.02 1156.06 680.885 1156.53 Q683.75 1157.01 686.169 1157.97 Z\" fill=\"#000000\" fill-rule=\"evenodd\" fill-opacity=\"1\" /><path clip-path=\"url(#clip620)\" d=\"M723.917 1146.79 L723.917 1156.92 L735.98 1156.92 L735.98 1161.47 L723.917 1161.47 L723.917 1180.82 Q723.917 1185.18 725.095 1186.42 Q726.304 1187.66 729.965 1187.66 L735.98 1187.66 L735.98 1192.56 L729.965 1192.56 Q723.185 1192.56 720.607 1190.05 Q718.029 1187.5 718.029 1180.82 L718.029 1161.47 L713.732 1161.47 L713.732 1156.92 L718.029 1156.92 L718.029 1146.79 L723.917 1146.79 Z\" fill=\"#000000\" fill-rule=\"evenodd\" fill-opacity=\"1\" /><path clip-path=\"url(#clip620)\" d=\"M774.174 1173.28 L774.174 1176.14 L747.247 1176.14 Q747.629 1182.19 750.876 1185.37 Q754.154 1188.52 759.979 1188.52 Q763.353 1188.52 766.504 1187.69 Q769.687 1186.87 772.806 1185.21 L772.806 1190.75 Q769.655 1192.09 766.345 1192.79 Q763.034 1193.49 759.629 1193.49 Q751.099 1193.49 746.102 1188.52 Q741.136 1183.56 741.136 1175.09 Q741.136 1166.34 745.847 1161.21 Q750.589 1156.06 758.61 1156.06 Q765.804 1156.06 769.973 1160.7 Q774.174 1165.32 774.174 1173.28 M768.318 1171.56 Q768.254 1166.75 765.613 1163.89 Q763.003 1161.02 758.674 1161.02 Q753.772 1161.02 750.812 1163.79 Q747.884 1166.56 747.438 1171.59 L768.318 1171.56 Z\" fill=\"#000000\" fill-rule=\"evenodd\" fill-opacity=\"1\" /><path clip-path=\"url(#clip620)\" d=\"M806.512 1157.97 L806.512 1163.5 Q804.03 1162.23 801.356 1161.59 Q798.682 1160.96 795.818 1160.96 Q791.457 1160.96 789.261 1162.29 Q787.097 1163.63 787.097 1166.31 Q787.097 1168.34 788.656 1169.52 Q790.216 1170.67 794.927 1171.72 L796.932 1172.16 Q803.17 1173.5 805.78 1175.95 Q808.422 1178.37 808.422 1182.73 Q808.422 1187.69 804.475 1190.59 Q800.56 1193.49 793.685 1193.49 Q790.821 1193.49 787.702 1192.91 Q784.614 1192.37 781.177 1191.26 L781.177 1185.21 Q784.423 1186.9 787.574 1187.76 Q790.725 1188.59 793.813 1188.59 Q797.95 1188.59 800.178 1187.18 Q802.406 1185.75 802.406 1183.17 Q802.406 1180.79 800.783 1179.51 Q799.192 1178.24 793.749 1177.06 L791.712 1176.59 Q786.269 1175.44 783.85 1173.08 Q781.431 1170.7 781.431 1166.56 Q781.431 1161.53 784.996 1158.79 Q788.561 1156.06 795.118 1156.06 Q798.364 1156.06 801.229 1156.53 Q804.093 1157.01 806.512 1157.97 Z\" fill=\"#000000\" fill-rule=\"evenodd\" fill-opacity=\"1\" /><path clip-path=\"url(#clip620)\" d=\"M823.54 1146.79 L823.54 1156.92 L835.603 1156.92 L835.603 1161.47 L823.54 1161.47 L823.54 1180.82 Q823.54 1185.18 824.718 1186.42 Q825.928 1187.66 829.588 1187.66 L835.603 1187.66 L835.603 1192.56 L829.588 1192.56 Q822.808 1192.56 820.23 1190.05 Q817.652 1187.5 817.652 1180.82 L817.652 1161.47 L813.355 1161.47 L813.355 1156.92 L817.652 1156.92 L817.652 1146.79 L823.54 1146.79 Z\" fill=\"#000000\" fill-rule=\"evenodd\" fill-opacity=\"1\" /><path clip-path=\"url(#clip620)\" d=\"M887.484 1162.33 L887.484 1143.04 L893.34 1143.04 L893.34 1192.56 L887.484 1192.56 L887.484 1187.22 Q885.638 1190.4 882.805 1191.96 Q880.004 1193.49 876.058 1193.49 Q869.596 1193.49 865.522 1188.33 Q861.48 1183.17 861.48 1174.77 Q861.48 1166.37 865.522 1161.21 Q869.596 1156.06 876.058 1156.06 Q880.004 1156.06 882.805 1157.62 Q885.638 1159.14 887.484 1162.33 M867.527 1174.77 Q867.527 1181.23 870.169 1184.92 Q872.843 1188.59 877.49 1188.59 Q882.137 1188.59 884.81 1184.92 Q887.484 1181.23 887.484 1174.77 Q887.484 1168.31 884.81 1164.65 Q882.137 1160.96 877.49 1160.96 Q872.843 1160.96 870.169 1164.65 Q867.527 1168.31 867.527 1174.77 Z\" fill=\"#000000\" fill-rule=\"evenodd\" fill-opacity=\"1\" /><path clip-path=\"url(#clip620)\" d=\"M921.604 1174.64 Q914.506 1174.64 911.769 1176.27 Q909.032 1177.89 909.032 1181.81 Q909.032 1184.92 911.069 1186.77 Q913.138 1188.59 916.671 1188.59 Q921.541 1188.59 924.469 1185.15 Q927.429 1181.68 927.429 1175.95 L927.429 1174.64 L921.604 1174.64 M933.285 1172.23 L933.285 1192.56 L927.429 1192.56 L927.429 1187.15 Q925.424 1190.4 922.432 1191.96 Q919.44 1193.49 915.111 1193.49 Q909.637 1193.49 906.39 1190.43 Q903.175 1187.34 903.175 1182.19 Q903.175 1176.17 907.186 1173.12 Q911.228 1170.06 919.217 1170.06 L927.429 1170.06 L927.429 1169.49 Q927.429 1165.45 924.755 1163.25 Q922.113 1161.02 917.307 1161.02 Q914.252 1161.02 911.355 1161.75 Q908.459 1162.49 905.785 1163.95 L905.785 1158.54 Q909 1157.3 912.024 1156.69 Q915.047 1156.06 917.912 1156.06 Q925.646 1156.06 929.466 1160.07 Q933.285 1164.08 933.285 1172.23 Z\" fill=\"#000000\" fill-rule=\"evenodd\" fill-opacity=\"1\" /><path clip-path=\"url(#clip620)\" d=\"M951.141 1146.79 L951.141 1156.92 L963.204 1156.92 L963.204 1161.47 L951.141 1161.47 L951.141 1180.82 Q951.141 1185.18 952.319 1186.42 Q953.528 1187.66 957.188 1187.66 L963.204 1187.66 L963.204 1192.56 L957.188 1192.56 Q950.409 1192.56 947.831 1190.05 Q945.253 1187.5 945.253 1180.82 L945.253 1161.47 L940.956 1161.47 L940.956 1156.92 L945.253 1156.92 L945.253 1146.79 L951.141 1146.79 Z\" fill=\"#000000\" fill-rule=\"evenodd\" fill-opacity=\"1\" /><path clip-path=\"url(#clip620)\" d=\"M987.107 1174.64 Q980.01 1174.64 977.272 1176.27 Q974.535 1177.89 974.535 1181.81 Q974.535 1184.92 976.572 1186.77 Q978.641 1188.59 982.174 1188.59 Q987.044 1188.59 989.972 1185.15 Q992.932 1181.68 992.932 1175.95 L992.932 1174.64 L987.107 1174.64 M998.788 1172.23 L998.788 1192.56 L992.932 1192.56 L992.932 1187.15 Q990.927 1190.4 987.935 1191.96 Q984.943 1193.49 980.614 1193.49 Q975.14 1193.49 971.893 1190.43 Q968.679 1187.34 968.679 1182.19 Q968.679 1176.17 972.689 1173.12 Q976.731 1170.06 984.72 1170.06 L992.932 1170.06 L992.932 1169.49 Q992.932 1165.45 990.258 1163.25 Q987.617 1161.02 982.81 1161.02 Q979.755 1161.02 976.859 1161.75 Q973.962 1162.49 971.289 1163.95 L971.289 1158.54 Q974.503 1157.3 977.527 1156.69 Q980.551 1156.06 983.415 1156.06 Q991.15 1156.06 994.969 1160.07 Q998.788 1164.08 998.788 1172.23 Z\" fill=\"#000000\" fill-rule=\"evenodd\" fill-opacity=\"1\" /><polyline clip-path=\"url(#clip622)\" style=\"stroke:#000000; stroke-linecap:butt; stroke-linejoin:round; stroke-width:2; stroke-opacity:0.1; fill:none\" points=\"\n",
       "  192.941,828.118 1152.76,828.118 \n",
       "  \"/>\n",
       "<polyline clip-path=\"url(#clip622)\" style=\"stroke:#000000; stroke-linecap:butt; stroke-linejoin:round; stroke-width:2; stroke-opacity:0.1; fill:none\" points=\"\n",
       "  192.941,583.782 1152.76,583.782 \n",
       "  \"/>\n",
       "<polyline clip-path=\"url(#clip622)\" style=\"stroke:#000000; stroke-linecap:butt; stroke-linejoin:round; stroke-width:2; stroke-opacity:0.1; fill:none\" points=\"\n",
       "  192.941,339.447 1152.76,339.447 \n",
       "  \"/>\n",
       "<polyline clip-path=\"url(#clip622)\" style=\"stroke:#000000; stroke-linecap:butt; stroke-linejoin:round; stroke-width:2; stroke-opacity:0.1; fill:none\" points=\"\n",
       "  192.941,95.1112 1152.76,95.1112 \n",
       "  \"/>\n",
       "<polyline clip-path=\"url(#clip620)\" style=\"stroke:#000000; stroke-linecap:butt; stroke-linejoin:round; stroke-width:4; stroke-opacity:1; fill:none\" points=\"\n",
       "  192.941,1047.7 192.941,47.2441 \n",
       "  \"/>\n",
       "<polyline clip-path=\"url(#clip620)\" style=\"stroke:#000000; stroke-linecap:butt; stroke-linejoin:round; stroke-width:4; stroke-opacity:1; fill:none\" points=\"\n",
       "  192.941,828.118 211.838,828.118 \n",
       "  \"/>\n",
       "<polyline clip-path=\"url(#clip620)\" style=\"stroke:#000000; stroke-linecap:butt; stroke-linejoin:round; stroke-width:4; stroke-opacity:1; fill:none\" points=\"\n",
       "  192.941,583.782 211.838,583.782 \n",
       "  \"/>\n",
       "<polyline clip-path=\"url(#clip620)\" style=\"stroke:#000000; stroke-linecap:butt; stroke-linejoin:round; stroke-width:4; stroke-opacity:1; fill:none\" points=\"\n",
       "  192.941,339.447 211.838,339.447 \n",
       "  \"/>\n",
       "<polyline clip-path=\"url(#clip620)\" style=\"stroke:#000000; stroke-linecap:butt; stroke-linejoin:round; stroke-width:4; stroke-opacity:1; fill:none\" points=\"\n",
       "  192.941,95.1112 211.838,95.1112 \n",
       "  \"/>\n",
       "<path clip-path=\"url(#clip620)\" d=\"M50.9921 828.569 L80.6679 828.569 L80.6679 832.504 L50.9921 832.504 L50.9921 828.569 Z\" fill=\"#000000\" fill-rule=\"evenodd\" fill-opacity=\"1\" /><path clip-path=\"url(#clip620)\" d=\"M100.76 813.917 Q97.1493 813.917 95.3206 817.481 Q93.515 821.023 93.515 828.153 Q93.515 835.259 95.3206 838.824 Q97.1493 842.365 100.76 842.365 Q104.395 842.365 106.2 838.824 Q108.029 835.259 108.029 828.153 Q108.029 821.023 106.2 817.481 Q104.395 813.917 100.76 813.917 M100.76 810.213 Q106.571 810.213 109.626 814.819 Q112.705 819.403 112.705 828.153 Q112.705 836.879 109.626 841.486 Q106.571 846.069 100.76 846.069 Q94.9502 846.069 91.8715 841.486 Q88.816 836.879 88.816 828.153 Q88.816 819.403 91.8715 814.819 Q94.9502 810.213 100.76 810.213 Z\" fill=\"#000000\" fill-rule=\"evenodd\" fill-opacity=\"1\" /><path clip-path=\"url(#clip620)\" d=\"M120.922 839.518 L125.807 839.518 L125.807 845.398 L120.922 845.398 L120.922 839.518 Z\" fill=\"#000000\" fill-rule=\"evenodd\" fill-opacity=\"1\" /><path clip-path=\"url(#clip620)\" d=\"M136.038 810.838 L154.394 810.838 L154.394 814.773 L140.32 814.773 L140.32 823.245 Q141.339 822.898 142.357 822.736 Q143.376 822.551 144.394 822.551 Q150.181 822.551 153.561 825.722 Q156.941 828.893 156.941 834.31 Q156.941 839.889 153.468 842.99 Q149.996 846.069 143.677 846.069 Q141.501 846.069 139.232 845.699 Q136.987 845.328 134.58 844.588 L134.58 839.889 Q136.663 841.023 138.885 841.578 Q141.107 842.134 143.584 842.134 Q147.589 842.134 149.927 840.028 Q152.265 837.921 152.265 834.31 Q152.265 830.699 149.927 828.592 Q147.589 826.486 143.584 826.486 Q141.709 826.486 139.834 826.903 Q137.982 827.319 136.038 828.199 L136.038 810.838 Z\" fill=\"#000000\" fill-rule=\"evenodd\" fill-opacity=\"1\" /><path clip-path=\"url(#clip620)\" d=\"M99.765 569.581 Q96.1539 569.581 94.3252 573.146 Q92.5197 576.687 92.5197 583.817 Q92.5197 590.923 94.3252 594.488 Q96.1539 598.03 99.765 598.03 Q103.399 598.03 105.205 594.488 Q107.033 590.923 107.033 583.817 Q107.033 576.687 105.205 573.146 Q103.399 569.581 99.765 569.581 M99.765 565.877 Q105.575 565.877 108.631 570.484 Q111.709 575.067 111.709 583.817 Q111.709 592.544 108.631 597.15 Q105.575 601.734 99.765 601.734 Q93.9549 601.734 90.8762 597.15 Q87.8206 592.544 87.8206 583.817 Q87.8206 575.067 90.8762 570.484 Q93.9549 565.877 99.765 565.877 Z\" fill=\"#000000\" fill-rule=\"evenodd\" fill-opacity=\"1\" /><path clip-path=\"url(#clip620)\" d=\"M119.927 595.183 L124.811 595.183 L124.811 601.062 L119.927 601.062 L119.927 595.183 Z\" fill=\"#000000\" fill-rule=\"evenodd\" fill-opacity=\"1\" /><path clip-path=\"url(#clip620)\" d=\"M144.996 569.581 Q141.385 569.581 139.556 573.146 Q137.751 576.687 137.751 583.817 Q137.751 590.923 139.556 594.488 Q141.385 598.03 144.996 598.03 Q148.63 598.03 150.436 594.488 Q152.265 590.923 152.265 583.817 Q152.265 576.687 150.436 573.146 Q148.63 569.581 144.996 569.581 M144.996 565.877 Q150.806 565.877 153.862 570.484 Q156.941 575.067 156.941 583.817 Q156.941 592.544 153.862 597.15 Q150.806 601.734 144.996 601.734 Q139.186 601.734 136.107 597.15 Q133.052 592.544 133.052 583.817 Q133.052 575.067 136.107 570.484 Q139.186 565.877 144.996 565.877 Z\" fill=\"#000000\" fill-rule=\"evenodd\" fill-opacity=\"1\" /><path clip-path=\"url(#clip620)\" d=\"M100.76 325.245 Q97.1493 325.245 95.3206 328.81 Q93.515 332.352 93.515 339.481 Q93.515 346.588 95.3206 350.153 Q97.1493 353.694 100.76 353.694 Q104.395 353.694 106.2 350.153 Q108.029 346.588 108.029 339.481 Q108.029 332.352 106.2 328.81 Q104.395 325.245 100.76 325.245 M100.76 321.542 Q106.571 321.542 109.626 326.148 Q112.705 330.732 112.705 339.481 Q112.705 348.208 109.626 352.815 Q106.571 357.398 100.76 357.398 Q94.9502 357.398 91.8715 352.815 Q88.816 348.208 88.816 339.481 Q88.816 330.732 91.8715 326.148 Q94.9502 321.542 100.76 321.542 Z\" fill=\"#000000\" fill-rule=\"evenodd\" fill-opacity=\"1\" /><path clip-path=\"url(#clip620)\" d=\"M120.922 350.847 L125.807 350.847 L125.807 356.727 L120.922 356.727 L120.922 350.847 Z\" fill=\"#000000\" fill-rule=\"evenodd\" fill-opacity=\"1\" /><path clip-path=\"url(#clip620)\" d=\"M136.038 322.167 L154.394 322.167 L154.394 326.102 L140.32 326.102 L140.32 334.574 Q141.339 334.227 142.357 334.065 Q143.376 333.88 144.394 333.88 Q150.181 333.88 153.561 337.051 Q156.941 340.222 156.941 345.639 Q156.941 351.218 153.468 354.319 Q149.996 357.398 143.677 357.398 Q141.501 357.398 139.232 357.028 Q136.987 356.657 134.58 355.917 L134.58 351.218 Q136.663 352.352 138.885 352.907 Q141.107 353.463 143.584 353.463 Q147.589 353.463 149.927 351.356 Q152.265 349.25 152.265 345.639 Q152.265 342.028 149.927 339.921 Q147.589 337.815 143.584 337.815 Q141.709 337.815 139.834 338.231 Q137.982 338.648 136.038 339.528 L136.038 322.167 Z\" fill=\"#000000\" fill-rule=\"evenodd\" fill-opacity=\"1\" /><path clip-path=\"url(#clip620)\" d=\"M90.5752 108.456 L98.2141 108.456 L98.2141 82.0904 L89.904 83.7571 L89.904 79.4978 L98.1678 77.8312 L102.844 77.8312 L102.844 108.456 L110.483 108.456 L110.483 112.391 L90.5752 112.391 L90.5752 108.456 Z\" fill=\"#000000\" fill-rule=\"evenodd\" fill-opacity=\"1\" /><path clip-path=\"url(#clip620)\" d=\"M119.927 106.512 L124.811 106.512 L124.811 112.391 L119.927 112.391 L119.927 106.512 Z\" fill=\"#000000\" fill-rule=\"evenodd\" fill-opacity=\"1\" /><path clip-path=\"url(#clip620)\" d=\"M144.996 80.9099 Q141.385 80.9099 139.556 84.4747 Q137.751 88.0163 137.751 95.1459 Q137.751 102.252 139.556 105.817 Q141.385 109.359 144.996 109.359 Q148.63 109.359 150.436 105.817 Q152.265 102.252 152.265 95.1459 Q152.265 88.0163 150.436 84.4747 Q148.63 80.9099 144.996 80.9099 M144.996 77.2062 Q150.806 77.2062 153.862 81.8126 Q156.941 86.3959 156.941 95.1459 Q156.941 103.873 153.862 108.479 Q150.806 113.062 144.996 113.062 Q139.186 113.062 136.107 108.479 Q133.052 103.873 133.052 95.1459 Q133.052 86.3959 136.107 81.8126 Q139.186 77.2062 144.996 77.2062 Z\" fill=\"#000000\" fill-rule=\"evenodd\" fill-opacity=\"1\" /><circle clip-path=\"url(#clip622)\" cx=\"944.745\" cy=\"557.588\" r=\"14\" fill=\"#cd5c5c\" fill-rule=\"evenodd\" fill-opacity=\"1\" stroke=\"#000000\" stroke-opacity=\"1\" stroke-width=\"2.4\"/>\n",
       "<circle clip-path=\"url(#clip622)\" cx=\"1027.69\" cy=\"478.393\" r=\"14\" fill=\"#cd5c5c\" fill-rule=\"evenodd\" fill-opacity=\"1\" stroke=\"#000000\" stroke-opacity=\"1\" stroke-width=\"2.4\"/>\n",
       "<circle clip-path=\"url(#clip622)\" cx=\"1125.59\" cy=\"328.768\" r=\"14\" fill=\"#cd5c5c\" fill-rule=\"evenodd\" fill-opacity=\"1\" stroke=\"#000000\" stroke-opacity=\"1\" stroke-width=\"2.4\"/>\n",
       "<circle clip-path=\"url(#clip622)\" cx=\"758.106\" cy=\"550.513\" r=\"14\" fill=\"#cd5c5c\" fill-rule=\"evenodd\" fill-opacity=\"1\" stroke=\"#000000\" stroke-opacity=\"1\" stroke-width=\"2.4\"/>\n",
       "<circle clip-path=\"url(#clip622)\" cx=\"470.247\" cy=\"793.079\" r=\"14\" fill=\"#cd5c5c\" fill-rule=\"evenodd\" fill-opacity=\"1\" stroke=\"#000000\" stroke-opacity=\"1\" stroke-width=\"2.4\"/>\n",
       "<circle clip-path=\"url(#clip622)\" cx=\"851.54\" cy=\"121.349\" r=\"14\" fill=\"#cd5c5c\" fill-rule=\"evenodd\" fill-opacity=\"1\" stroke=\"#000000\" stroke-opacity=\"1\" stroke-width=\"2.4\"/>\n",
       "<circle clip-path=\"url(#clip622)\" cx=\"902.411\" cy=\"75.5589\" r=\"14\" fill=\"#cd5c5c\" fill-rule=\"evenodd\" fill-opacity=\"1\" stroke=\"#000000\" stroke-opacity=\"1\" stroke-width=\"2.4\"/>\n",
       "<circle clip-path=\"url(#clip622)\" cx=\"869.517\" cy=\"798.876\" r=\"14\" fill=\"#cd5c5c\" fill-rule=\"evenodd\" fill-opacity=\"1\" stroke=\"#000000\" stroke-opacity=\"1\" stroke-width=\"2.4\"/>\n",
       "<circle clip-path=\"url(#clip622)\" cx=\"996.52\" cy=\"476.909\" r=\"14\" fill=\"#cd5c5c\" fill-rule=\"evenodd\" fill-opacity=\"1\" stroke=\"#000000\" stroke-opacity=\"1\" stroke-width=\"2.4\"/>\n",
       "<circle clip-path=\"url(#clip622)\" cx=\"442.973\" cy=\"878.143\" r=\"14\" fill=\"#cd5c5c\" fill-rule=\"evenodd\" fill-opacity=\"1\" stroke=\"#000000\" stroke-opacity=\"1\" stroke-width=\"2.4\"/>\n",
       "<circle clip-path=\"url(#clip622)\" cx=\"935.954\" cy=\"339.61\" r=\"14\" fill=\"#cd5c5c\" fill-rule=\"evenodd\" fill-opacity=\"1\" stroke=\"#000000\" stroke-opacity=\"1\" stroke-width=\"2.4\"/>\n",
       "<circle clip-path=\"url(#clip622)\" cx=\"1042.54\" cy=\"247.197\" r=\"14\" fill=\"#cd5c5c\" fill-rule=\"evenodd\" fill-opacity=\"1\" stroke=\"#000000\" stroke-opacity=\"1\" stroke-width=\"2.4\"/>\n",
       "<circle clip-path=\"url(#clip622)\" cx=\"890.73\" cy=\"493.837\" r=\"14\" fill=\"#cd5c5c\" fill-rule=\"evenodd\" fill-opacity=\"1\" stroke=\"#000000\" stroke-opacity=\"1\" stroke-width=\"2.4\"/>\n",
       "<circle clip-path=\"url(#clip622)\" cx=\"789.091\" cy=\"371.365\" r=\"14\" fill=\"#cd5c5c\" fill-rule=\"evenodd\" fill-opacity=\"1\" stroke=\"#000000\" stroke-opacity=\"1\" stroke-width=\"2.4\"/>\n",
       "<circle clip-path=\"url(#clip622)\" cx=\"543.208\" cy=\"812.538\" r=\"14\" fill=\"#cd5c5c\" fill-rule=\"evenodd\" fill-opacity=\"1\" stroke=\"#000000\" stroke-opacity=\"1\" stroke-width=\"2.4\"/>\n",
       "<circle clip-path=\"url(#clip622)\" cx=\"1114.03\" cy=\"125.002\" r=\"14\" fill=\"#cd5c5c\" fill-rule=\"evenodd\" fill-opacity=\"1\" stroke=\"#000000\" stroke-opacity=\"1\" stroke-width=\"2.4\"/>\n",
       "<circle clip-path=\"url(#clip622)\" cx=\"1116.76\" cy=\"182.236\" r=\"14\" fill=\"#cd5c5c\" fill-rule=\"evenodd\" fill-opacity=\"1\" stroke=\"#000000\" stroke-opacity=\"1\" stroke-width=\"2.4\"/>\n",
       "<circle clip-path=\"url(#clip622)\" cx=\"817.847\" cy=\"445.607\" r=\"14\" fill=\"#cd5c5c\" fill-rule=\"evenodd\" fill-opacity=\"1\" stroke=\"#000000\" stroke-opacity=\"1\" stroke-width=\"2.4\"/>\n",
       "<circle clip-path=\"url(#clip622)\" cx=\"927.831\" cy=\"286.509\" r=\"14\" fill=\"#cd5c5c\" fill-rule=\"evenodd\" fill-opacity=\"1\" stroke=\"#000000\" stroke-opacity=\"1\" stroke-width=\"2.4\"/>\n",
       "<circle clip-path=\"url(#clip622)\" cx=\"902.54\" cy=\"270.908\" r=\"14\" fill=\"#cd5c5c\" fill-rule=\"evenodd\" fill-opacity=\"1\" stroke=\"#000000\" stroke-opacity=\"1\" stroke-width=\"2.4\"/>\n",
       "<circle clip-path=\"url(#clip622)\" cx=\"643.253\" cy=\"511.144\" r=\"14\" fill=\"#cd5c5c\" fill-rule=\"evenodd\" fill-opacity=\"1\" stroke=\"#000000\" stroke-opacity=\"1\" stroke-width=\"2.4\"/>\n",
       "<circle clip-path=\"url(#clip622)\" cx=\"1020.97\" cy=\"340.796\" r=\"14\" fill=\"#cd5c5c\" fill-rule=\"evenodd\" fill-opacity=\"1\" stroke=\"#000000\" stroke-opacity=\"1\" stroke-width=\"2.4\"/>\n",
       "<circle clip-path=\"url(#clip622)\" cx=\"1106.02\" cy=\"272.617\" r=\"14\" fill=\"#cd5c5c\" fill-rule=\"evenodd\" fill-opacity=\"1\" stroke=\"#000000\" stroke-opacity=\"1\" stroke-width=\"2.4\"/>\n",
       "<circle clip-path=\"url(#clip622)\" cx=\"508.367\" cy=\"841.74\" r=\"14\" fill=\"#cd5c5c\" fill-rule=\"evenodd\" fill-opacity=\"1\" stroke=\"#000000\" stroke-opacity=\"1\" stroke-width=\"2.4\"/>\n",
       "<circle clip-path=\"url(#clip622)\" cx=\"977.349\" cy=\"307.914\" r=\"14\" fill=\"#cd5c5c\" fill-rule=\"evenodd\" fill-opacity=\"1\" stroke=\"#000000\" stroke-opacity=\"1\" stroke-width=\"2.4\"/>\n",
       "<circle clip-path=\"url(#clip622)\" cx=\"1003.27\" cy=\"239.286\" r=\"14\" fill=\"#cd5c5c\" fill-rule=\"evenodd\" fill-opacity=\"1\" stroke=\"#000000\" stroke-opacity=\"1\" stroke-width=\"2.4\"/>\n",
       "<circle clip-path=\"url(#clip622)\" cx=\"483.765\" cy=\"649.969\" r=\"14\" fill=\"#4682b4\" fill-rule=\"evenodd\" fill-opacity=\"1\" stroke=\"#000000\" stroke-opacity=\"1\" stroke-width=\"2.4\"/>\n",
       "<circle clip-path=\"url(#clip622)\" cx=\"562.272\" cy=\"601.442\" r=\"14\" fill=\"#4682b4\" fill-rule=\"evenodd\" fill-opacity=\"1\" stroke=\"#000000\" stroke-opacity=\"1\" stroke-width=\"2.4\"/>\n",
       "<circle clip-path=\"url(#clip622)\" cx=\"264.104\" cy=\"771.341\" r=\"14\" fill=\"#4682b4\" fill-rule=\"evenodd\" fill-opacity=\"1\" stroke=\"#000000\" stroke-opacity=\"1\" stroke-width=\"2.4\"/>\n",
       "<circle clip-path=\"url(#clip622)\" cx=\"503.247\" cy=\"628.616\" r=\"14\" fill=\"#4682b4\" fill-rule=\"evenodd\" fill-opacity=\"1\" stroke=\"#000000\" stroke-opacity=\"1\" stroke-width=\"2.4\"/>\n",
       "<circle clip-path=\"url(#clip622)\" cx=\"245.575\" cy=\"1019.39\" r=\"14\" fill=\"#4682b4\" fill-rule=\"evenodd\" fill-opacity=\"1\" stroke=\"#000000\" stroke-opacity=\"1\" stroke-width=\"2.4\"/>\n",
       "<circle clip-path=\"url(#clip622)\" cx=\"395.743\" cy=\"825.52\" r=\"14\" fill=\"#4682b4\" fill-rule=\"evenodd\" fill-opacity=\"1\" stroke=\"#000000\" stroke-opacity=\"1\" stroke-width=\"2.4\"/>\n",
       "<circle clip-path=\"url(#clip622)\" cx=\"356.144\" cy=\"704.964\" r=\"14\" fill=\"#4682b4\" fill-rule=\"evenodd\" fill-opacity=\"1\" stroke=\"#000000\" stroke-opacity=\"1\" stroke-width=\"2.4\"/>\n",
       "<circle clip-path=\"url(#clip622)\" cx=\"242.458\" cy=\"898.181\" r=\"14\" fill=\"#4682b4\" fill-rule=\"evenodd\" fill-opacity=\"1\" stroke=\"#000000\" stroke-opacity=\"1\" stroke-width=\"2.4\"/>\n",
       "<circle clip-path=\"url(#clip622)\" cx=\"429.96\" cy=\"781.43\" r=\"14\" fill=\"#4682b4\" fill-rule=\"evenodd\" fill-opacity=\"1\" stroke=\"#000000\" stroke-opacity=\"1\" stroke-width=\"2.4\"/>\n",
       "<circle clip-path=\"url(#clip622)\" cx=\"745.62\" cy=\"647.379\" r=\"14\" fill=\"#4682b4\" fill-rule=\"evenodd\" fill-opacity=\"1\" stroke=\"#000000\" stroke-opacity=\"1\" stroke-width=\"2.4\"/>\n",
       "<circle clip-path=\"url(#clip622)\" cx=\"278.07\" cy=\"836.278\" r=\"14\" fill=\"#4682b4\" fill-rule=\"evenodd\" fill-opacity=\"1\" stroke=\"#000000\" stroke-opacity=\"1\" stroke-width=\"2.4\"/>\n",
       "<circle clip-path=\"url(#clip622)\" cx=\"409.949\" cy=\"546.9\" r=\"14\" fill=\"#4682b4\" fill-rule=\"evenodd\" fill-opacity=\"1\" stroke=\"#000000\" stroke-opacity=\"1\" stroke-width=\"2.4\"/>\n",
       "<circle clip-path=\"url(#clip622)\" cx=\"569.235\" cy=\"261.8\" r=\"14\" fill=\"#4682b4\" fill-rule=\"evenodd\" fill-opacity=\"1\" stroke=\"#000000\" stroke-opacity=\"1\" stroke-width=\"2.4\"/>\n",
       "<circle clip-path=\"url(#clip622)\" cx=\"361.018\" cy=\"989.758\" r=\"14\" fill=\"#4682b4\" fill-rule=\"evenodd\" fill-opacity=\"1\" stroke=\"#000000\" stroke-opacity=\"1\" stroke-width=\"2.4\"/>\n",
       "<circle clip-path=\"url(#clip622)\" cx=\"630.177\" cy=\"945.31\" r=\"14\" fill=\"#4682b4\" fill-rule=\"evenodd\" fill-opacity=\"1\" stroke=\"#000000\" stroke-opacity=\"1\" stroke-width=\"2.4\"/>\n",
       "<circle clip-path=\"url(#clip622)\" cx=\"346.984\" cy=\"785.327\" r=\"14\" fill=\"#4682b4\" fill-rule=\"evenodd\" fill-opacity=\"1\" stroke=\"#000000\" stroke-opacity=\"1\" stroke-width=\"2.4\"/>\n",
       "<circle clip-path=\"url(#clip622)\" cx=\"286.234\" cy=\"730.483\" r=\"14\" fill=\"#4682b4\" fill-rule=\"evenodd\" fill-opacity=\"1\" stroke=\"#000000\" stroke-opacity=\"1\" stroke-width=\"2.4\"/>\n",
       "<circle clip-path=\"url(#clip622)\" cx=\"289.034\" cy=\"751.044\" r=\"14\" fill=\"#4682b4\" fill-rule=\"evenodd\" fill-opacity=\"1\" stroke=\"#000000\" stroke-opacity=\"1\" stroke-width=\"2.4\"/>\n",
       "<circle clip-path=\"url(#clip622)\" cx=\"307.846\" cy=\"784.228\" r=\"14\" fill=\"#4682b4\" fill-rule=\"evenodd\" fill-opacity=\"1\" stroke=\"#000000\" stroke-opacity=\"1\" stroke-width=\"2.4\"/>\n",
       "<circle clip-path=\"url(#clip622)\" cx=\"220.105\" cy=\"675.425\" r=\"14\" fill=\"#4682b4\" fill-rule=\"evenodd\" fill-opacity=\"1\" stroke=\"#000000\" stroke-opacity=\"1\" stroke-width=\"2.4\"/>\n",
       "<circle clip-path=\"url(#clip622)\" cx=\"240.201\" cy=\"1015.69\" r=\"14\" fill=\"#4682b4\" fill-rule=\"evenodd\" fill-opacity=\"1\" stroke=\"#000000\" stroke-opacity=\"1\" stroke-width=\"2.4\"/>\n",
       "<circle clip-path=\"url(#clip622)\" cx=\"329.534\" cy=\"758.225\" r=\"14\" fill=\"#4682b4\" fill-rule=\"evenodd\" fill-opacity=\"1\" stroke=\"#000000\" stroke-opacity=\"1\" stroke-width=\"2.4\"/>\n",
       "<circle clip-path=\"url(#clip622)\" cx=\"257.251\" cy=\"772.175\" r=\"14\" fill=\"#4682b4\" fill-rule=\"evenodd\" fill-opacity=\"1\" stroke=\"#000000\" stroke-opacity=\"1\" stroke-width=\"2.4\"/>\n",
       "<circle clip-path=\"url(#clip622)\" cx=\"359.222\" cy=\"660.77\" r=\"14\" fill=\"#4682b4\" fill-rule=\"evenodd\" fill-opacity=\"1\" stroke=\"#000000\" stroke-opacity=\"1\" stroke-width=\"2.4\"/>\n",
       "<path clip-path=\"url(#clip620)\" d=\"\n",
       "M860.182 236.113 L1120.76 236.113 L1120.76 80.5926 L860.182 80.5926  Z\n",
       "  \" fill=\"#ffffff\" fill-rule=\"evenodd\" fill-opacity=\"1\"/>\n",
       "<polyline clip-path=\"url(#clip620)\" style=\"stroke:#000000; stroke-linecap:butt; stroke-linejoin:round; stroke-width:4; stroke-opacity:1; fill:none\" points=\"\n",
       "  860.182,236.113 1120.76,236.113 1120.76,80.5926 860.182,80.5926 860.182,236.113 \n",
       "  \"/>\n",
       "<circle clip-path=\"url(#clip620)\" cx=\"902.84\" cy=\"132.433\" r=\"23\" fill=\"#cd5c5c\" fill-rule=\"evenodd\" fill-opacity=\"1\" stroke=\"#000000\" stroke-opacity=\"1\" stroke-width=\"3.84\"/>\n",
       "<path clip-path=\"url(#clip620)\" d=\"M973.369 117.815 L973.369 122.745 Q971.008 120.546 968.322 119.458 Q965.66 118.37 962.651 118.37 Q956.725 118.37 953.577 122.004 Q950.429 125.616 950.429 132.467 Q950.429 139.296 953.577 142.93 Q956.725 146.541 962.651 146.541 Q965.66 146.541 968.322 145.453 Q971.008 144.365 973.369 142.166 L973.369 147.051 Q970.915 148.717 968.16 149.551 Q965.429 150.384 962.373 150.384 Q954.526 150.384 950.012 145.592 Q945.498 140.777 945.498 132.467 Q945.498 124.134 950.012 119.342 Q954.526 114.528 962.373 114.528 Q965.475 114.528 968.207 115.361 Q970.961 116.171 973.369 117.815 Z\" fill=\"#000000\" fill-rule=\"evenodd\" fill-opacity=\"1\" /><path clip-path=\"url(#clip620)\" d=\"M990.452 126.773 Q987.026 126.773 985.035 129.458 Q983.045 132.12 983.045 136.773 Q983.045 141.426 985.012 144.111 Q987.003 146.773 990.452 146.773 Q993.855 146.773 995.845 144.088 Q997.836 141.402 997.836 136.773 Q997.836 132.166 995.845 129.481 Q993.855 126.773 990.452 126.773 M990.452 123.162 Q996.007 123.162 999.179 126.773 Q1002.35 130.384 1002.35 136.773 Q1002.35 143.139 999.179 146.773 Q996.007 150.384 990.452 150.384 Q984.873 150.384 981.702 146.773 Q978.554 143.139 978.554 136.773 Q978.554 130.384 981.702 126.773 Q984.873 123.162 990.452 123.162 Z\" fill=\"#000000\" fill-rule=\"evenodd\" fill-opacity=\"1\" /><path clip-path=\"url(#clip620)\" d=\"M1021.19 136.68 Q1016.03 136.68 1014.04 137.861 Q1012.05 139.041 1012.05 141.889 Q1012.05 144.157 1013.53 145.5 Q1015.04 146.819 1017.6 146.819 Q1021.15 146.819 1023.28 144.319 Q1025.43 141.796 1025.43 137.629 L1025.43 136.68 L1021.19 136.68 M1029.69 134.921 L1029.69 149.713 L1025.43 149.713 L1025.43 145.777 Q1023.97 148.139 1021.79 149.273 Q1019.62 150.384 1016.47 150.384 Q1012.49 150.384 1010.13 148.162 Q1007.79 145.916 1007.79 142.166 Q1007.79 137.791 1010.71 135.569 Q1013.65 133.347 1019.46 133.347 L1025.43 133.347 L1025.43 132.93 Q1025.43 129.991 1023.48 128.393 Q1021.56 126.773 1018.07 126.773 Q1015.85 126.773 1013.74 127.305 Q1011.63 127.838 1009.69 128.903 L1009.69 124.967 Q1012.03 124.065 1014.22 123.625 Q1016.42 123.162 1018.51 123.162 Q1024.13 123.162 1026.91 126.078 Q1029.69 128.995 1029.69 134.921 Z\" fill=\"#000000\" fill-rule=\"evenodd\" fill-opacity=\"1\" /><path clip-path=\"url(#clip620)\" d=\"M1042.67 116.426 L1042.67 123.787 L1051.45 123.787 L1051.45 127.097 L1042.67 127.097 L1042.67 141.171 Q1042.67 144.342 1043.53 145.245 Q1044.41 146.148 1047.07 146.148 L1051.45 146.148 L1051.45 149.713 L1047.07 149.713 Q1042.14 149.713 1040.27 147.884 Q1038.39 146.032 1038.39 141.171 L1038.39 127.097 L1035.27 127.097 L1035.27 123.787 L1038.39 123.787 L1038.39 116.426 L1042.67 116.426 Z\" fill=\"#000000\" fill-rule=\"evenodd\" fill-opacity=\"1\" /><circle clip-path=\"url(#clip620)\" cx=\"902.84\" cy=\"184.273\" r=\"23\" fill=\"#4682b4\" fill-rule=\"evenodd\" fill-opacity=\"1\" stroke=\"#000000\" stroke-opacity=\"1\" stroke-width=\"3.84\"/>\n",
       "<path clip-path=\"url(#clip620)\" d=\"M967.744 168.127 L967.744 172.687 Q965.082 171.414 962.721 170.789 Q960.36 170.164 958.16 170.164 Q954.341 170.164 952.258 171.645 Q950.198 173.127 950.198 175.858 Q950.198 178.15 951.563 179.331 Q952.952 180.488 956.795 181.206 L959.619 181.784 Q964.85 182.78 967.327 185.303 Q969.827 187.803 969.827 192.016 Q969.827 197.039 966.447 199.631 Q963.091 202.224 956.586 202.224 Q954.133 202.224 951.355 201.668 Q948.6 201.113 945.637 200.025 L945.637 195.21 Q948.485 196.807 951.216 197.617 Q953.948 198.428 956.586 198.428 Q960.591 198.428 962.767 196.854 Q964.943 195.28 964.943 192.363 Q964.943 189.817 963.369 188.381 Q961.818 186.946 958.253 186.229 L955.406 185.673 Q950.174 184.631 947.836 182.409 Q945.498 180.187 945.498 176.229 Q945.498 171.645 948.716 169.006 Q951.957 166.368 957.628 166.368 Q960.059 166.368 962.582 166.807 Q965.105 167.247 967.744 168.127 Z\" fill=\"#000000\" fill-rule=\"evenodd\" fill-opacity=\"1\" /><path clip-path=\"url(#clip620)\" d=\"M988.716 188.52 Q983.554 188.52 981.563 189.701 Q979.572 190.881 979.572 193.729 Q979.572 195.997 981.054 197.34 Q982.558 198.659 985.128 198.659 Q988.67 198.659 990.799 196.159 Q992.952 193.636 992.952 189.469 L992.952 188.52 L988.716 188.52 M997.211 186.761 L997.211 201.553 L992.952 201.553 L992.952 197.617 Q991.494 199.979 989.318 201.113 Q987.142 202.224 983.994 202.224 Q980.012 202.224 977.651 200.002 Q975.313 197.756 975.313 194.006 Q975.313 189.631 978.23 187.409 Q981.17 185.187 986.98 185.187 L992.952 185.187 L992.952 184.77 Q992.952 181.831 991.007 180.233 Q989.086 178.613 985.591 178.613 Q983.369 178.613 981.262 179.145 Q979.156 179.678 977.211 180.743 L977.211 176.807 Q979.549 175.905 981.748 175.465 Q983.947 175.002 986.031 175.002 Q991.656 175.002 994.433 177.918 Q997.211 180.835 997.211 186.761 Z\" fill=\"#000000\" fill-rule=\"evenodd\" fill-opacity=\"1\" /><path clip-path=\"url(#clip620)\" d=\"M1027.54 185.905 L1027.54 201.553 L1023.28 201.553 L1023.28 186.043 Q1023.28 182.363 1021.84 180.534 Q1020.41 178.706 1017.54 178.706 Q1014.09 178.706 1012.1 180.905 Q1010.1 183.104 1010.1 186.9 L1010.1 201.553 L1005.82 201.553 L1005.82 175.627 L1010.1 175.627 L1010.1 179.655 Q1011.63 177.317 1013.69 176.159 Q1015.78 175.002 1018.48 175.002 Q1022.95 175.002 1025.24 177.78 Q1027.54 180.534 1027.54 185.905 Z\" fill=\"#000000\" fill-rule=\"evenodd\" fill-opacity=\"1\" /><path clip-path=\"url(#clip620)\" d=\"M1053.09 179.562 L1053.09 165.534 L1057.35 165.534 L1057.35 201.553 L1053.09 201.553 L1053.09 197.664 Q1051.75 199.979 1049.69 201.113 Q1047.65 202.224 1044.78 202.224 Q1040.08 202.224 1037.12 198.474 Q1034.18 194.724 1034.18 188.613 Q1034.18 182.502 1037.12 178.752 Q1040.08 175.002 1044.78 175.002 Q1047.65 175.002 1049.69 176.136 Q1051.75 177.247 1053.09 179.562 M1038.58 188.613 Q1038.58 193.312 1040.5 195.997 Q1042.44 198.659 1045.82 198.659 Q1049.2 198.659 1051.15 195.997 Q1053.09 193.312 1053.09 188.613 Q1053.09 183.914 1051.15 181.252 Q1049.2 178.567 1045.82 178.567 Q1042.44 178.567 1040.5 181.252 Q1038.58 183.914 1038.58 188.613 Z\" fill=\"#000000\" fill-rule=\"evenodd\" fill-opacity=\"1\" /><path clip-path=\"url(#clip620)\" d=\"M1077.91 188.52 Q1072.74 188.52 1070.75 189.701 Q1068.76 190.881 1068.76 193.729 Q1068.76 195.997 1070.24 197.34 Q1071.75 198.659 1074.32 198.659 Q1077.86 198.659 1079.99 196.159 Q1082.14 193.636 1082.14 189.469 L1082.14 188.52 L1077.91 188.52 M1086.4 186.761 L1086.4 201.553 L1082.14 201.553 L1082.14 197.617 Q1080.68 199.979 1078.51 201.113 Q1076.33 202.224 1073.18 202.224 Q1069.2 202.224 1066.84 200.002 Q1064.5 197.756 1064.5 194.006 Q1064.5 189.631 1067.42 187.409 Q1070.36 185.187 1076.17 185.187 L1082.14 185.187 L1082.14 184.77 Q1082.14 181.831 1080.2 180.233 Q1078.28 178.613 1074.78 178.613 Q1072.56 178.613 1070.45 179.145 Q1068.35 179.678 1066.4 180.743 L1066.4 176.807 Q1068.74 175.905 1070.94 175.465 Q1073.14 175.002 1075.22 175.002 Q1080.84 175.002 1083.62 177.918 Q1086.4 180.835 1086.4 186.761 Z\" fill=\"#000000\" fill-rule=\"evenodd\" fill-opacity=\"1\" /><path clip-path=\"url(#clip620)\" d=\"M1095.17 165.534 L1099.43 165.534 L1099.43 201.553 L1095.17 201.553 L1095.17 165.534 Z\" fill=\"#000000\" fill-rule=\"evenodd\" fill-opacity=\"1\" /><path clip-path=\"url(#clip620)\" d=\"\n",
       "M1392.94 1047.7 L2352.76 1047.7 L2352.76 47.2441 L1392.94 47.2441  Z\n",
       "  \" fill=\"#ffffff\" fill-rule=\"evenodd\" fill-opacity=\"1\"/>\n",
       "<defs>\n",
       "  <clipPath id=\"clip623\">\n",
       "    <rect x=\"1392\" y=\"47\" width=\"961\" height=\"1001\"/>\n",
       "  </clipPath>\n",
       "</defs>\n",
       "<polyline clip-path=\"url(#clip623)\" style=\"stroke:#000000; stroke-linecap:butt; stroke-linejoin:round; stroke-width:2; stroke-opacity:0.1; fill:none\" points=\"\n",
       "  1524.43,1047.7 1524.43,47.2441 \n",
       "  \"/>\n",
       "<polyline clip-path=\"url(#clip623)\" style=\"stroke:#000000; stroke-linecap:butt; stroke-linejoin:round; stroke-width:2; stroke-opacity:0.1; fill:none\" points=\"\n",
       "  1680.64,1047.7 1680.64,47.2441 \n",
       "  \"/>\n",
       "<polyline clip-path=\"url(#clip623)\" style=\"stroke:#000000; stroke-linecap:butt; stroke-linejoin:round; stroke-width:2; stroke-opacity:0.1; fill:none\" points=\"\n",
       "  1836.86,1047.7 1836.86,47.2441 \n",
       "  \"/>\n",
       "<polyline clip-path=\"url(#clip623)\" style=\"stroke:#000000; stroke-linecap:butt; stroke-linejoin:round; stroke-width:2; stroke-opacity:0.1; fill:none\" points=\"\n",
       "  1993.07,1047.7 1993.07,47.2441 \n",
       "  \"/>\n",
       "<polyline clip-path=\"url(#clip623)\" style=\"stroke:#000000; stroke-linecap:butt; stroke-linejoin:round; stroke-width:2; stroke-opacity:0.1; fill:none\" points=\"\n",
       "  2149.29,1047.7 2149.29,47.2441 \n",
       "  \"/>\n",
       "<polyline clip-path=\"url(#clip623)\" style=\"stroke:#000000; stroke-linecap:butt; stroke-linejoin:round; stroke-width:2; stroke-opacity:0.1; fill:none\" points=\"\n",
       "  2305.5,1047.7 2305.5,47.2441 \n",
       "  \"/>\n",
       "<polyline clip-path=\"url(#clip620)\" style=\"stroke:#000000; stroke-linecap:butt; stroke-linejoin:round; stroke-width:4; stroke-opacity:1; fill:none\" points=\"\n",
       "  1392.94,1047.7 2352.76,1047.7 \n",
       "  \"/>\n",
       "<polyline clip-path=\"url(#clip620)\" style=\"stroke:#000000; stroke-linecap:butt; stroke-linejoin:round; stroke-width:4; stroke-opacity:1; fill:none\" points=\"\n",
       "  1524.43,1047.7 1524.43,1028.8 \n",
       "  \"/>\n",
       "<polyline clip-path=\"url(#clip620)\" style=\"stroke:#000000; stroke-linecap:butt; stroke-linejoin:round; stroke-width:4; stroke-opacity:1; fill:none\" points=\"\n",
       "  1680.64,1047.7 1680.64,1028.8 \n",
       "  \"/>\n",
       "<polyline clip-path=\"url(#clip620)\" style=\"stroke:#000000; stroke-linecap:butt; stroke-linejoin:round; stroke-width:4; stroke-opacity:1; fill:none\" points=\"\n",
       "  1836.86,1047.7 1836.86,1028.8 \n",
       "  \"/>\n",
       "<polyline clip-path=\"url(#clip620)\" style=\"stroke:#000000; stroke-linecap:butt; stroke-linejoin:round; stroke-width:4; stroke-opacity:1; fill:none\" points=\"\n",
       "  1993.07,1047.7 1993.07,1028.8 \n",
       "  \"/>\n",
       "<polyline clip-path=\"url(#clip620)\" style=\"stroke:#000000; stroke-linecap:butt; stroke-linejoin:round; stroke-width:4; stroke-opacity:1; fill:none\" points=\"\n",
       "  2149.29,1047.7 2149.29,1028.8 \n",
       "  \"/>\n",
       "<polyline clip-path=\"url(#clip620)\" style=\"stroke:#000000; stroke-linecap:butt; stroke-linejoin:round; stroke-width:4; stroke-opacity:1; fill:none\" points=\"\n",
       "  2305.5,1047.7 2305.5,1028.8 \n",
       "  \"/>\n",
       "<path clip-path=\"url(#clip620)\" d=\"M1470.96 1093.27 L1500.63 1093.27 L1500.63 1097.21 L1470.96 1097.21 L1470.96 1093.27 Z\" fill=\"#000000\" fill-rule=\"evenodd\" fill-opacity=\"1\" /><path clip-path=\"url(#clip620)\" d=\"M1511.53 1106.16 L1519.17 1106.16 L1519.17 1079.8 L1510.86 1081.47 L1510.86 1077.21 L1519.13 1075.54 L1523.8 1075.54 L1523.8 1106.16 L1531.44 1106.16 L1531.44 1110.1 L1511.53 1110.1 L1511.53 1106.16 Z\" fill=\"#000000\" fill-rule=\"evenodd\" fill-opacity=\"1\" /><path clip-path=\"url(#clip620)\" d=\"M1540.89 1104.22 L1545.77 1104.22 L1545.77 1110.1 L1540.89 1110.1 L1540.89 1104.22 Z\" fill=\"#000000\" fill-rule=\"evenodd\" fill-opacity=\"1\" /><path clip-path=\"url(#clip620)\" d=\"M1565.96 1078.62 Q1562.34 1078.62 1560.52 1082.18 Q1558.71 1085.72 1558.71 1092.85 Q1558.71 1099.96 1560.52 1103.53 Q1562.34 1107.07 1565.96 1107.07 Q1569.59 1107.07 1571.4 1103.53 Q1573.22 1099.96 1573.22 1092.85 Q1573.22 1085.72 1571.4 1082.18 Q1569.59 1078.62 1565.96 1078.62 M1565.96 1074.91 Q1571.77 1074.91 1574.82 1079.52 Q1577.9 1084.1 1577.9 1092.85 Q1577.9 1101.58 1574.82 1106.19 Q1571.77 1110.77 1565.96 1110.77 Q1560.15 1110.77 1557.07 1106.19 Q1554.01 1101.58 1554.01 1092.85 Q1554.01 1084.1 1557.07 1079.52 Q1560.15 1074.91 1565.96 1074.91 Z\" fill=\"#000000\" fill-rule=\"evenodd\" fill-opacity=\"1\" /><path clip-path=\"url(#clip620)\" d=\"M1627.67 1093.27 L1657.34 1093.27 L1657.34 1097.21 L1627.67 1097.21 L1627.67 1093.27 Z\" fill=\"#000000\" fill-rule=\"evenodd\" fill-opacity=\"1\" /><path clip-path=\"url(#clip620)\" d=\"M1677.44 1078.62 Q1673.83 1078.62 1672 1082.18 Q1670.19 1085.72 1670.19 1092.85 Q1670.19 1099.96 1672 1103.53 Q1673.83 1107.07 1677.44 1107.07 Q1681.07 1107.07 1682.88 1103.53 Q1684.7 1099.96 1684.7 1092.85 Q1684.7 1085.72 1682.88 1082.18 Q1681.07 1078.62 1677.44 1078.62 M1677.44 1074.91 Q1683.25 1074.91 1686.3 1079.52 Q1689.38 1084.1 1689.38 1092.85 Q1689.38 1101.58 1686.3 1106.19 Q1683.25 1110.77 1677.44 1110.77 Q1671.63 1110.77 1668.55 1106.19 Q1665.49 1101.58 1665.49 1092.85 Q1665.49 1084.1 1668.55 1079.52 Q1671.63 1074.91 1677.44 1074.91 Z\" fill=\"#000000\" fill-rule=\"evenodd\" fill-opacity=\"1\" /><path clip-path=\"url(#clip620)\" d=\"M1697.6 1104.22 L1702.48 1104.22 L1702.48 1110.1 L1697.6 1110.1 L1697.6 1104.22 Z\" fill=\"#000000\" fill-rule=\"evenodd\" fill-opacity=\"1\" /><path clip-path=\"url(#clip620)\" d=\"M1712.71 1075.54 L1731.07 1075.54 L1731.07 1079.48 L1717 1079.48 L1717 1087.95 Q1718.01 1087.6 1719.03 1087.44 Q1720.05 1087.25 1721.07 1087.25 Q1726.86 1087.25 1730.24 1090.42 Q1733.62 1093.6 1733.62 1099.01 Q1733.62 1104.59 1730.14 1107.69 Q1726.67 1110.77 1720.35 1110.77 Q1718.18 1110.77 1715.91 1110.4 Q1713.66 1110.03 1711.26 1109.29 L1711.26 1104.59 Q1713.34 1105.72 1715.56 1106.28 Q1717.78 1106.84 1720.26 1106.84 Q1724.26 1106.84 1726.6 1104.73 Q1728.94 1102.62 1728.94 1099.01 Q1728.94 1095.4 1726.6 1093.29 Q1724.26 1091.19 1720.26 1091.19 Q1718.39 1091.19 1716.51 1091.6 Q1714.66 1092.02 1712.71 1092.9 L1712.71 1075.54 Z\" fill=\"#000000\" fill-rule=\"evenodd\" fill-opacity=\"1\" /><path clip-path=\"url(#clip620)\" d=\"M1814.24 1078.62 Q1810.63 1078.62 1808.8 1082.18 Q1807 1085.72 1807 1092.85 Q1807 1099.96 1808.8 1103.53 Q1810.63 1107.07 1814.24 1107.07 Q1817.88 1107.07 1819.68 1103.53 Q1821.51 1099.96 1821.51 1092.85 Q1821.51 1085.72 1819.68 1082.18 Q1817.88 1078.62 1814.24 1078.62 M1814.24 1074.91 Q1820.05 1074.91 1823.11 1079.52 Q1826.19 1084.1 1826.19 1092.85 Q1826.19 1101.58 1823.11 1106.19 Q1820.05 1110.77 1814.24 1110.77 Q1808.43 1110.77 1805.35 1106.19 Q1802.3 1101.58 1802.3 1092.85 Q1802.3 1084.1 1805.35 1079.52 Q1808.43 1074.91 1814.24 1074.91 Z\" fill=\"#000000\" fill-rule=\"evenodd\" fill-opacity=\"1\" /><path clip-path=\"url(#clip620)\" d=\"M1834.4 1104.22 L1839.29 1104.22 L1839.29 1110.1 L1834.4 1110.1 L1834.4 1104.22 Z\" fill=\"#000000\" fill-rule=\"evenodd\" fill-opacity=\"1\" /><path clip-path=\"url(#clip620)\" d=\"M1859.47 1078.62 Q1855.86 1078.62 1854.03 1082.18 Q1852.23 1085.72 1852.23 1092.85 Q1852.23 1099.96 1854.03 1103.53 Q1855.86 1107.07 1859.47 1107.07 Q1863.11 1107.07 1864.91 1103.53 Q1866.74 1099.96 1866.74 1092.85 Q1866.74 1085.72 1864.91 1082.18 Q1863.11 1078.62 1859.47 1078.62 M1859.47 1074.91 Q1865.28 1074.91 1868.34 1079.52 Q1871.42 1084.1 1871.42 1092.85 Q1871.42 1101.58 1868.34 1106.19 Q1865.28 1110.77 1859.47 1110.77 Q1853.66 1110.77 1850.58 1106.19 Q1847.53 1101.58 1847.53 1092.85 Q1847.53 1084.1 1850.58 1079.52 Q1853.66 1074.91 1859.47 1074.91 Z\" fill=\"#000000\" fill-rule=\"evenodd\" fill-opacity=\"1\" /><path clip-path=\"url(#clip620)\" d=\"M1970.95 1078.62 Q1967.34 1078.62 1965.51 1082.18 Q1963.71 1085.72 1963.71 1092.85 Q1963.71 1099.96 1965.51 1103.53 Q1967.34 1107.07 1970.95 1107.07 Q1974.59 1107.07 1976.39 1103.53 Q1978.22 1099.96 1978.22 1092.85 Q1978.22 1085.72 1976.39 1082.18 Q1974.59 1078.62 1970.95 1078.62 M1970.95 1074.91 Q1976.76 1074.91 1979.82 1079.52 Q1982.9 1084.1 1982.9 1092.85 Q1982.9 1101.58 1979.82 1106.19 Q1976.76 1110.77 1970.95 1110.77 Q1965.14 1110.77 1962.06 1106.19 Q1959.01 1101.58 1959.01 1092.85 Q1959.01 1084.1 1962.06 1079.52 Q1965.14 1074.91 1970.95 1074.91 Z\" fill=\"#000000\" fill-rule=\"evenodd\" fill-opacity=\"1\" /><path clip-path=\"url(#clip620)\" d=\"M1991.12 1104.22 L1996 1104.22 L1996 1110.1 L1991.12 1110.1 L1991.12 1104.22 Z\" fill=\"#000000\" fill-rule=\"evenodd\" fill-opacity=\"1\" /><path clip-path=\"url(#clip620)\" d=\"M2006.23 1075.54 L2024.59 1075.54 L2024.59 1079.48 L2010.51 1079.48 L2010.51 1087.95 Q2011.53 1087.6 2012.55 1087.44 Q2013.57 1087.25 2014.59 1087.25 Q2020.37 1087.25 2023.75 1090.42 Q2027.13 1093.6 2027.13 1099.01 Q2027.13 1104.59 2023.66 1107.69 Q2020.19 1110.77 2013.87 1110.77 Q2011.69 1110.77 2009.43 1110.4 Q2007.18 1110.03 2004.77 1109.29 L2004.77 1104.59 Q2006.86 1105.72 2009.08 1106.28 Q2011.3 1106.84 2013.78 1106.84 Q2017.78 1106.84 2020.12 1104.73 Q2022.46 1102.62 2022.46 1099.01 Q2022.46 1095.4 2020.12 1093.29 Q2017.78 1091.19 2013.78 1091.19 Q2011.9 1091.19 2010.03 1091.6 Q2008.18 1092.02 2006.23 1092.9 L2006.23 1075.54 Z\" fill=\"#000000\" fill-rule=\"evenodd\" fill-opacity=\"1\" /><path clip-path=\"url(#clip620)\" d=\"M2116.44 1106.16 L2124.08 1106.16 L2124.08 1079.8 L2115.77 1081.47 L2115.77 1077.21 L2124.03 1075.54 L2128.71 1075.54 L2128.71 1106.16 L2136.35 1106.16 L2136.35 1110.1 L2116.44 1110.1 L2116.44 1106.16 Z\" fill=\"#000000\" fill-rule=\"evenodd\" fill-opacity=\"1\" /><path clip-path=\"url(#clip620)\" d=\"M2145.79 1104.22 L2150.67 1104.22 L2150.67 1110.1 L2145.79 1110.1 L2145.79 1104.22 Z\" fill=\"#000000\" fill-rule=\"evenodd\" fill-opacity=\"1\" /><path clip-path=\"url(#clip620)\" d=\"M2170.86 1078.62 Q2167.25 1078.62 2165.42 1082.18 Q2163.61 1085.72 2163.61 1092.85 Q2163.61 1099.96 2165.42 1103.53 Q2167.25 1107.07 2170.86 1107.07 Q2174.49 1107.07 2176.3 1103.53 Q2178.13 1099.96 2178.13 1092.85 Q2178.13 1085.72 2176.3 1082.18 Q2174.49 1078.62 2170.86 1078.62 M2170.86 1074.91 Q2176.67 1074.91 2179.73 1079.52 Q2182.8 1084.1 2182.8 1092.85 Q2182.8 1101.58 2179.73 1106.19 Q2176.67 1110.77 2170.86 1110.77 Q2165.05 1110.77 2161.97 1106.19 Q2158.92 1101.58 2158.92 1092.85 Q2158.92 1084.1 2161.97 1079.52 Q2165.05 1074.91 2170.86 1074.91 Z\" fill=\"#000000\" fill-rule=\"evenodd\" fill-opacity=\"1\" /><path clip-path=\"url(#clip620)\" d=\"M2273.15 1106.16 L2280.79 1106.16 L2280.79 1079.8 L2272.48 1081.47 L2272.48 1077.21 L2280.74 1075.54 L2285.42 1075.54 L2285.42 1106.16 L2293.06 1106.16 L2293.06 1110.1 L2273.15 1110.1 L2273.15 1106.16 Z\" fill=\"#000000\" fill-rule=\"evenodd\" fill-opacity=\"1\" /><path clip-path=\"url(#clip620)\" d=\"M2302.5 1104.22 L2307.39 1104.22 L2307.39 1110.1 L2302.5 1110.1 L2302.5 1104.22 Z\" fill=\"#000000\" fill-rule=\"evenodd\" fill-opacity=\"1\" /><path clip-path=\"url(#clip620)\" d=\"M2317.62 1075.54 L2335.97 1075.54 L2335.97 1079.48 L2321.9 1079.48 L2321.9 1087.95 Q2322.92 1087.6 2323.94 1087.44 Q2324.96 1087.25 2325.97 1087.25 Q2331.76 1087.25 2335.14 1090.42 Q2338.52 1093.6 2338.52 1099.01 Q2338.52 1104.59 2335.05 1107.69 Q2331.58 1110.77 2325.26 1110.77 Q2323.08 1110.77 2320.81 1110.4 Q2318.57 1110.03 2316.16 1109.29 L2316.16 1104.59 Q2318.24 1105.72 2320.47 1106.28 Q2322.69 1106.84 2325.16 1106.84 Q2329.17 1106.84 2331.51 1104.73 Q2333.84 1102.62 2333.84 1099.01 Q2333.84 1095.4 2331.51 1093.29 Q2329.17 1091.19 2325.16 1091.19 Q2323.29 1091.19 2321.41 1091.6 Q2319.56 1092.02 2317.62 1092.9 L2317.62 1075.54 Z\" fill=\"#000000\" fill-rule=\"evenodd\" fill-opacity=\"1\" /><path clip-path=\"url(#clip620)\" d=\"M1547.43 1187.22 L1547.43 1206.12 L1541.55 1206.12 L1541.55 1156.92 L1547.43 1156.92 L1547.43 1162.33 Q1549.28 1159.14 1552.08 1157.62 Q1554.91 1156.06 1558.83 1156.06 Q1565.32 1156.06 1569.36 1161.21 Q1573.44 1166.37 1573.44 1174.77 Q1573.44 1183.17 1569.36 1188.33 Q1565.32 1193.49 1558.83 1193.49 Q1554.91 1193.49 1552.08 1191.96 Q1549.28 1190.4 1547.43 1187.22 M1567.36 1174.77 Q1567.36 1168.31 1564.68 1164.65 Q1562.04 1160.96 1557.4 1160.96 Q1552.75 1160.96 1550.08 1164.65 Q1547.43 1168.31 1547.43 1174.77 Q1547.43 1181.23 1550.08 1184.92 Q1552.75 1188.59 1557.4 1188.59 Q1562.04 1188.59 1564.68 1184.92 Q1567.36 1181.23 1567.36 1174.77 Z\" fill=\"#000000\" fill-rule=\"evenodd\" fill-opacity=\"1\" /><path clip-path=\"url(#clip620)\" d=\"M1603.8 1162.39 Q1602.81 1161.82 1601.64 1161.56 Q1600.49 1161.28 1599.09 1161.28 Q1594.13 1161.28 1591.45 1164.52 Q1588.81 1167.74 1588.81 1173.79 L1588.81 1192.56 L1582.92 1192.56 L1582.92 1156.92 L1588.81 1156.92 L1588.81 1162.45 Q1590.66 1159.21 1593.62 1157.65 Q1596.58 1156.06 1600.81 1156.06 Q1601.41 1156.06 1602.15 1156.15 Q1602.88 1156.22 1603.77 1156.37 L1603.8 1162.39 Z\" fill=\"#000000\" fill-rule=\"evenodd\" fill-opacity=\"1\" /><path clip-path=\"url(#clip620)\" d=\"M1639 1173.28 L1639 1176.14 L1612.08 1176.14 Q1612.46 1182.19 1615.71 1185.37 Q1618.98 1188.52 1624.81 1188.52 Q1628.18 1188.52 1631.33 1187.69 Q1634.52 1186.87 1637.64 1185.21 L1637.64 1190.75 Q1634.48 1192.09 1631.17 1192.79 Q1627.86 1193.49 1624.46 1193.49 Q1615.93 1193.49 1610.93 1188.52 Q1605.97 1183.56 1605.97 1175.09 Q1605.97 1166.34 1610.68 1161.21 Q1615.42 1156.06 1623.44 1156.06 Q1630.63 1156.06 1634.8 1160.7 Q1639 1165.32 1639 1173.28 M1633.15 1171.56 Q1633.08 1166.75 1630.44 1163.89 Q1627.83 1161.02 1623.5 1161.02 Q1618.6 1161.02 1615.64 1163.79 Q1612.71 1166.56 1612.27 1171.59 L1633.15 1171.56 Z\" fill=\"#000000\" fill-rule=\"evenodd\" fill-opacity=\"1\" /><path clip-path=\"url(#clip620)\" d=\"M1672.07 1162.33 L1672.07 1143.04 L1677.93 1143.04 L1677.93 1192.56 L1672.07 1192.56 L1672.07 1187.22 Q1670.23 1190.4 1667.4 1191.96 Q1664.59 1193.49 1660.65 1193.49 Q1654.19 1193.49 1650.11 1188.33 Q1646.07 1183.17 1646.07 1174.77 Q1646.07 1166.37 1650.11 1161.21 Q1654.19 1156.06 1660.65 1156.06 Q1664.59 1156.06 1667.4 1157.62 Q1670.23 1159.14 1672.07 1162.33 M1652.12 1174.77 Q1652.12 1181.23 1654.76 1184.92 Q1657.43 1188.59 1662.08 1188.59 Q1666.73 1188.59 1669.4 1184.92 Q1672.07 1181.23 1672.07 1174.77 Q1672.07 1168.31 1669.4 1164.65 Q1666.73 1160.96 1662.08 1160.96 Q1657.43 1160.96 1654.76 1164.65 Q1652.12 1168.31 1652.12 1174.77 Z\" fill=\"#000000\" fill-rule=\"evenodd\" fill-opacity=\"1\" /><path clip-path=\"url(#clip620)\" d=\"M1689.99 1156.92 L1695.85 1156.92 L1695.85 1192.56 L1689.99 1192.56 L1689.99 1156.92 M1689.99 1143.04 L1695.85 1143.04 L1695.85 1150.45 L1689.99 1150.45 L1689.99 1143.04 Z\" fill=\"#000000\" fill-rule=\"evenodd\" fill-opacity=\"1\" /><path clip-path=\"url(#clip620)\" d=\"M1733.76 1158.28 L1733.76 1163.76 Q1731.27 1162.39 1728.76 1161.72 Q1726.28 1161.02 1723.73 1161.02 Q1718.03 1161.02 1714.88 1164.65 Q1711.73 1168.25 1711.73 1174.77 Q1711.73 1181.3 1714.88 1184.92 Q1718.03 1188.52 1723.73 1188.52 Q1726.28 1188.52 1728.76 1187.85 Q1731.27 1187.15 1733.76 1185.78 L1733.76 1191.2 Q1731.31 1192.34 1728.67 1192.91 Q1726.06 1193.49 1723.1 1193.49 Q1715.04 1193.49 1710.3 1188.43 Q1705.56 1183.37 1705.56 1174.77 Q1705.56 1166.05 1710.33 1161.05 Q1715.14 1156.06 1723.48 1156.06 Q1726.18 1156.06 1728.76 1156.63 Q1731.34 1157.17 1733.76 1158.28 Z\" fill=\"#000000\" fill-rule=\"evenodd\" fill-opacity=\"1\" /><path clip-path=\"url(#clip620)\" d=\"M1749.74 1146.79 L1749.74 1156.92 L1761.8 1156.92 L1761.8 1161.47 L1749.74 1161.47 L1749.74 1180.82 Q1749.74 1185.18 1750.91 1186.42 Q1752.12 1187.66 1755.78 1187.66 L1761.8 1187.66 L1761.8 1192.56 L1755.78 1192.56 Q1749 1192.56 1746.43 1190.05 Q1743.85 1187.5 1743.85 1180.82 L1743.85 1161.47 L1739.55 1161.47 L1739.55 1156.92 L1743.85 1156.92 L1743.85 1146.79 L1749.74 1146.79 Z\" fill=\"#000000\" fill-rule=\"evenodd\" fill-opacity=\"1\" /><path clip-path=\"url(#clip620)\" d=\"M1769.5 1156.92 L1775.36 1156.92 L1775.36 1192.56 L1769.5 1192.56 L1769.5 1156.92 M1769.5 1143.04 L1775.36 1143.04 L1775.36 1150.45 L1769.5 1150.45 L1769.5 1143.04 Z\" fill=\"#000000\" fill-rule=\"evenodd\" fill-opacity=\"1\" /><path clip-path=\"url(#clip620)\" d=\"M1801.43 1161.02 Q1796.71 1161.02 1793.98 1164.71 Q1791.24 1168.37 1791.24 1174.77 Q1791.24 1181.17 1793.95 1184.86 Q1796.68 1188.52 1801.43 1188.52 Q1806.1 1188.52 1808.84 1184.83 Q1811.58 1181.14 1811.58 1174.77 Q1811.58 1168.44 1808.84 1164.75 Q1806.1 1161.02 1801.43 1161.02 M1801.43 1156.06 Q1809.06 1156.06 1813.42 1161.02 Q1817.78 1165.99 1817.78 1174.77 Q1817.78 1183.52 1813.42 1188.52 Q1809.06 1193.49 1801.43 1193.49 Q1793.75 1193.49 1789.39 1188.52 Q1785.07 1183.52 1785.07 1174.77 Q1785.07 1165.99 1789.39 1161.02 Q1793.75 1156.06 1801.43 1156.06 Z\" fill=\"#000000\" fill-rule=\"evenodd\" fill-opacity=\"1\" /><path clip-path=\"url(#clip620)\" d=\"M1857.12 1171.05 L1857.12 1192.56 L1851.27 1192.56 L1851.27 1171.24 Q1851.27 1166.18 1849.3 1163.66 Q1847.32 1161.15 1843.38 1161.15 Q1838.63 1161.15 1835.9 1164.17 Q1833.16 1167.2 1833.16 1172.42 L1833.16 1192.56 L1827.27 1192.56 L1827.27 1156.92 L1833.16 1156.92 L1833.16 1162.45 Q1835.26 1159.24 1838.09 1157.65 Q1840.96 1156.06 1844.68 1156.06 Q1850.82 1156.06 1853.97 1159.88 Q1857.12 1163.66 1857.12 1171.05 Z\" fill=\"#000000\" fill-rule=\"evenodd\" fill-opacity=\"1\" /><path clip-path=\"url(#clip620)\" d=\"M1891.53 1157.97 L1891.53 1163.5 Q1889.05 1162.23 1886.38 1161.59 Q1883.7 1160.96 1880.84 1160.96 Q1876.48 1160.96 1874.28 1162.29 Q1872.12 1163.63 1872.12 1166.31 Q1872.12 1168.34 1873.68 1169.52 Q1875.24 1170.67 1879.95 1171.72 L1881.95 1172.16 Q1888.19 1173.5 1890.8 1175.95 Q1893.44 1178.37 1893.44 1182.73 Q1893.44 1187.69 1889.49 1190.59 Q1885.58 1193.49 1878.7 1193.49 Q1875.84 1193.49 1872.72 1192.91 Q1869.63 1192.37 1866.2 1191.26 L1866.2 1185.21 Q1869.44 1186.9 1872.59 1187.76 Q1875.74 1188.59 1878.83 1188.59 Q1882.97 1188.59 1885.2 1187.18 Q1887.43 1185.75 1887.43 1183.17 Q1887.43 1180.79 1885.8 1179.51 Q1884.21 1178.24 1878.77 1177.06 L1876.73 1176.59 Q1871.29 1175.44 1868.87 1173.08 Q1866.45 1170.7 1866.45 1166.56 Q1866.45 1161.53 1870.02 1158.79 Q1873.58 1156.06 1880.14 1156.06 Q1883.38 1156.06 1886.25 1156.53 Q1889.11 1157.01 1891.53 1157.97 Z\" fill=\"#000000\" fill-rule=\"evenodd\" fill-opacity=\"1\" /><path clip-path=\"url(#clip620)\" d=\"M1929.28 1146.79 L1929.28 1156.92 L1941.34 1156.92 L1941.34 1161.47 L1929.28 1161.47 L1929.28 1180.82 Q1929.28 1185.18 1930.46 1186.42 Q1931.67 1187.66 1935.33 1187.66 L1941.34 1187.66 L1941.34 1192.56 L1935.33 1192.56 Q1928.55 1192.56 1925.97 1190.05 Q1923.39 1187.5 1923.39 1180.82 L1923.39 1161.47 L1919.1 1161.47 L1919.1 1156.92 L1923.39 1156.92 L1923.39 1146.79 L1929.28 1146.79 Z\" fill=\"#000000\" fill-rule=\"evenodd\" fill-opacity=\"1\" /><path clip-path=\"url(#clip620)\" d=\"M1979.54 1173.28 L1979.54 1176.14 L1952.61 1176.14 Q1952.99 1182.19 1956.24 1185.37 Q1959.52 1188.52 1965.34 1188.52 Q1968.72 1188.52 1971.87 1187.69 Q1975.05 1186.87 1978.17 1185.21 L1978.17 1190.75 Q1975.02 1192.09 1971.71 1192.79 Q1968.4 1193.49 1964.99 1193.49 Q1956.46 1193.49 1951.46 1188.52 Q1946.5 1183.56 1946.5 1175.09 Q1946.5 1166.34 1951.21 1161.21 Q1955.95 1156.06 1963.97 1156.06 Q1971.17 1156.06 1975.34 1160.7 Q1979.54 1165.32 1979.54 1173.28 M1973.68 1171.56 Q1973.62 1166.75 1970.98 1163.89 Q1968.37 1161.02 1964.04 1161.02 Q1959.14 1161.02 1956.18 1163.79 Q1953.25 1166.56 1952.8 1171.59 L1973.68 1171.56 Z\" fill=\"#000000\" fill-rule=\"evenodd\" fill-opacity=\"1\" /><path clip-path=\"url(#clip620)\" d=\"M2011.88 1157.97 L2011.88 1163.5 Q2009.39 1162.23 2006.72 1161.59 Q2004.05 1160.96 2001.18 1160.96 Q1996.82 1160.96 1994.62 1162.29 Q1992.46 1163.63 1992.46 1166.31 Q1992.46 1168.34 1994.02 1169.52 Q1995.58 1170.67 2000.29 1171.72 L2002.29 1172.16 Q2008.53 1173.5 2011.14 1175.95 Q2013.79 1178.37 2013.79 1182.73 Q2013.79 1187.69 2009.84 1190.59 Q2005.92 1193.49 1999.05 1193.49 Q1996.18 1193.49 1993.06 1192.91 Q1989.98 1192.37 1986.54 1191.26 L1986.54 1185.21 Q1989.79 1186.9 1992.94 1187.76 Q1996.09 1188.59 1999.18 1188.59 Q2003.31 1188.59 2005.54 1187.18 Q2007.77 1185.75 2007.77 1183.17 Q2007.77 1180.79 2006.15 1179.51 Q2004.55 1178.24 1999.11 1177.06 L1997.08 1176.59 Q1991.63 1175.44 1989.21 1173.08 Q1986.79 1170.7 1986.79 1166.56 Q1986.79 1161.53 1990.36 1158.79 Q1993.92 1156.06 2000.48 1156.06 Q2003.73 1156.06 2006.59 1156.53 Q2009.46 1157.01 2011.88 1157.97 Z\" fill=\"#000000\" fill-rule=\"evenodd\" fill-opacity=\"1\" /><path clip-path=\"url(#clip620)\" d=\"M2028.9 1146.79 L2028.9 1156.92 L2040.97 1156.92 L2040.97 1161.47 L2028.9 1161.47 L2028.9 1180.82 Q2028.9 1185.18 2030.08 1186.42 Q2031.29 1187.66 2034.95 1187.66 L2040.97 1187.66 L2040.97 1192.56 L2034.95 1192.56 Q2028.17 1192.56 2025.59 1190.05 Q2023.02 1187.5 2023.02 1180.82 L2023.02 1161.47 L2018.72 1161.47 L2018.72 1156.92 L2023.02 1156.92 L2023.02 1146.79 L2028.9 1146.79 Z\" fill=\"#000000\" fill-rule=\"evenodd\" fill-opacity=\"1\" /><path clip-path=\"url(#clip620)\" d=\"M2092.85 1162.33 L2092.85 1143.04 L2098.7 1143.04 L2098.7 1192.56 L2092.85 1192.56 L2092.85 1187.22 Q2091 1190.4 2088.17 1191.96 Q2085.37 1193.49 2081.42 1193.49 Q2074.96 1193.49 2070.89 1188.33 Q2066.84 1183.17 2066.84 1174.77 Q2066.84 1166.37 2070.89 1161.21 Q2074.96 1156.06 2081.42 1156.06 Q2085.37 1156.06 2088.17 1157.62 Q2091 1159.14 2092.85 1162.33 M2072.89 1174.77 Q2072.89 1181.23 2075.53 1184.92 Q2078.21 1188.59 2082.85 1188.59 Q2087.5 1188.59 2090.17 1184.92 Q2092.85 1181.23 2092.85 1174.77 Q2092.85 1168.31 2090.17 1164.65 Q2087.5 1160.96 2082.85 1160.96 Q2078.21 1160.96 2075.53 1164.65 Q2072.89 1168.31 2072.89 1174.77 Z\" fill=\"#000000\" fill-rule=\"evenodd\" fill-opacity=\"1\" /><path clip-path=\"url(#clip620)\" d=\"M2126.97 1174.64 Q2119.87 1174.64 2117.13 1176.27 Q2114.4 1177.89 2114.4 1181.81 Q2114.4 1184.92 2116.43 1186.77 Q2118.5 1188.59 2122.03 1188.59 Q2126.9 1188.59 2129.83 1185.15 Q2132.79 1181.68 2132.79 1175.95 L2132.79 1174.64 L2126.97 1174.64 M2138.65 1172.23 L2138.65 1192.56 L2132.79 1192.56 L2132.79 1187.15 Q2130.79 1190.4 2127.79 1191.96 Q2124.8 1193.49 2120.47 1193.49 Q2115 1193.49 2111.75 1190.43 Q2108.54 1187.34 2108.54 1182.19 Q2108.54 1176.17 2112.55 1173.12 Q2116.59 1170.06 2124.58 1170.06 L2132.79 1170.06 L2132.79 1169.49 Q2132.79 1165.45 2130.12 1163.25 Q2127.48 1161.02 2122.67 1161.02 Q2119.61 1161.02 2116.72 1161.75 Q2113.82 1162.49 2111.15 1163.95 L2111.15 1158.54 Q2114.36 1157.3 2117.39 1156.69 Q2120.41 1156.06 2123.28 1156.06 Q2131.01 1156.06 2134.83 1160.07 Q2138.65 1164.08 2138.65 1172.23 Z\" fill=\"#000000\" fill-rule=\"evenodd\" fill-opacity=\"1\" /><path clip-path=\"url(#clip620)\" d=\"M2156.5 1146.79 L2156.5 1156.92 L2168.57 1156.92 L2168.57 1161.47 L2156.5 1161.47 L2156.5 1180.82 Q2156.5 1185.18 2157.68 1186.42 Q2158.89 1187.66 2162.55 1187.66 L2168.57 1187.66 L2168.57 1192.56 L2162.55 1192.56 Q2155.77 1192.56 2153.19 1190.05 Q2150.62 1187.5 2150.62 1180.82 L2150.62 1161.47 L2146.32 1161.47 L2146.32 1156.92 L2150.62 1156.92 L2150.62 1146.79 L2156.5 1146.79 Z\" fill=\"#000000\" fill-rule=\"evenodd\" fill-opacity=\"1\" /><path clip-path=\"url(#clip620)\" d=\"M2192.47 1174.64 Q2185.37 1174.64 2182.64 1176.27 Q2179.9 1177.89 2179.9 1181.81 Q2179.9 1184.92 2181.94 1186.77 Q2184 1188.59 2187.54 1188.59 Q2192.41 1188.59 2195.33 1185.15 Q2198.3 1181.68 2198.3 1175.95 L2198.3 1174.64 L2192.47 1174.64 M2204.15 1172.23 L2204.15 1192.56 L2198.3 1192.56 L2198.3 1187.15 Q2196.29 1190.4 2193.3 1191.96 Q2190.31 1193.49 2185.98 1193.49 Q2180.5 1193.49 2177.26 1190.43 Q2174.04 1187.34 2174.04 1182.19 Q2174.04 1176.17 2178.05 1173.12 Q2182.09 1170.06 2190.08 1170.06 L2198.3 1170.06 L2198.3 1169.49 Q2198.3 1165.45 2195.62 1163.25 Q2192.98 1161.02 2188.17 1161.02 Q2185.12 1161.02 2182.22 1161.75 Q2179.33 1162.49 2176.65 1163.95 L2176.65 1158.54 Q2179.87 1157.3 2182.89 1156.69 Q2185.91 1156.06 2188.78 1156.06 Q2196.51 1156.06 2200.33 1160.07 Q2204.15 1164.08 2204.15 1172.23 Z\" fill=\"#000000\" fill-rule=\"evenodd\" fill-opacity=\"1\" /><polyline clip-path=\"url(#clip623)\" style=\"stroke:#000000; stroke-linecap:butt; stroke-linejoin:round; stroke-width:2; stroke-opacity:0.1; fill:none\" points=\"\n",
       "  1392.94,828.118 2352.76,828.118 \n",
       "  \"/>\n",
       "<polyline clip-path=\"url(#clip623)\" style=\"stroke:#000000; stroke-linecap:butt; stroke-linejoin:round; stroke-width:2; stroke-opacity:0.1; fill:none\" points=\"\n",
       "  1392.94,583.782 2352.76,583.782 \n",
       "  \"/>\n",
       "<polyline clip-path=\"url(#clip623)\" style=\"stroke:#000000; stroke-linecap:butt; stroke-linejoin:round; stroke-width:2; stroke-opacity:0.1; fill:none\" points=\"\n",
       "  1392.94,339.447 2352.76,339.447 \n",
       "  \"/>\n",
       "<polyline clip-path=\"url(#clip623)\" style=\"stroke:#000000; stroke-linecap:butt; stroke-linejoin:round; stroke-width:2; stroke-opacity:0.1; fill:none\" points=\"\n",
       "  1392.94,95.1112 2352.76,95.1112 \n",
       "  \"/>\n",
       "<polyline clip-path=\"url(#clip620)\" style=\"stroke:#000000; stroke-linecap:butt; stroke-linejoin:round; stroke-width:4; stroke-opacity:1; fill:none\" points=\"\n",
       "  1392.94,1047.7 1392.94,47.2441 \n",
       "  \"/>\n",
       "<polyline clip-path=\"url(#clip620)\" style=\"stroke:#000000; stroke-linecap:butt; stroke-linejoin:round; stroke-width:4; stroke-opacity:1; fill:none\" points=\"\n",
       "  1392.94,828.118 1411.84,828.118 \n",
       "  \"/>\n",
       "<polyline clip-path=\"url(#clip620)\" style=\"stroke:#000000; stroke-linecap:butt; stroke-linejoin:round; stroke-width:4; stroke-opacity:1; fill:none\" points=\"\n",
       "  1392.94,583.782 1411.84,583.782 \n",
       "  \"/>\n",
       "<polyline clip-path=\"url(#clip620)\" style=\"stroke:#000000; stroke-linecap:butt; stroke-linejoin:round; stroke-width:4; stroke-opacity:1; fill:none\" points=\"\n",
       "  1392.94,339.447 1411.84,339.447 \n",
       "  \"/>\n",
       "<polyline clip-path=\"url(#clip620)\" style=\"stroke:#000000; stroke-linecap:butt; stroke-linejoin:round; stroke-width:4; stroke-opacity:1; fill:none\" points=\"\n",
       "  1392.94,95.1112 1411.84,95.1112 \n",
       "  \"/>\n",
       "<path clip-path=\"url(#clip620)\" d=\"M1250.99 828.569 L1280.67 828.569 L1280.67 832.504 L1250.99 832.504 L1250.99 828.569 Z\" fill=\"#000000\" fill-rule=\"evenodd\" fill-opacity=\"1\" /><path clip-path=\"url(#clip620)\" d=\"M1300.76 813.917 Q1297.15 813.917 1295.32 817.481 Q1293.52 821.023 1293.52 828.153 Q1293.52 835.259 1295.32 838.824 Q1297.15 842.365 1300.76 842.365 Q1304.39 842.365 1306.2 838.824 Q1308.03 835.259 1308.03 828.153 Q1308.03 821.023 1306.2 817.481 Q1304.39 813.917 1300.76 813.917 M1300.76 810.213 Q1306.57 810.213 1309.63 814.819 Q1312.7 819.403 1312.7 828.153 Q1312.7 836.879 1309.63 841.486 Q1306.57 846.069 1300.76 846.069 Q1294.95 846.069 1291.87 841.486 Q1288.82 836.879 1288.82 828.153 Q1288.82 819.403 1291.87 814.819 Q1294.95 810.213 1300.76 810.213 Z\" fill=\"#000000\" fill-rule=\"evenodd\" fill-opacity=\"1\" /><path clip-path=\"url(#clip620)\" d=\"M1320.92 839.518 L1325.81 839.518 L1325.81 845.398 L1320.92 845.398 L1320.92 839.518 Z\" fill=\"#000000\" fill-rule=\"evenodd\" fill-opacity=\"1\" /><path clip-path=\"url(#clip620)\" d=\"M1336.04 810.838 L1354.39 810.838 L1354.39 814.773 L1340.32 814.773 L1340.32 823.245 Q1341.34 822.898 1342.36 822.736 Q1343.38 822.551 1344.39 822.551 Q1350.18 822.551 1353.56 825.722 Q1356.94 828.893 1356.94 834.31 Q1356.94 839.889 1353.47 842.99 Q1350 846.069 1343.68 846.069 Q1341.5 846.069 1339.23 845.699 Q1336.99 845.328 1334.58 844.588 L1334.58 839.889 Q1336.66 841.023 1338.89 841.578 Q1341.11 842.134 1343.58 842.134 Q1347.59 842.134 1349.93 840.028 Q1352.26 837.921 1352.26 834.31 Q1352.26 830.699 1349.93 828.592 Q1347.59 826.486 1343.58 826.486 Q1341.71 826.486 1339.83 826.903 Q1337.98 827.319 1336.04 828.199 L1336.04 810.838 Z\" fill=\"#000000\" fill-rule=\"evenodd\" fill-opacity=\"1\" /><path clip-path=\"url(#clip620)\" d=\"M1299.77 569.581 Q1296.15 569.581 1294.33 573.146 Q1292.52 576.687 1292.52 583.817 Q1292.52 590.923 1294.33 594.488 Q1296.15 598.03 1299.77 598.03 Q1303.4 598.03 1305.2 594.488 Q1307.03 590.923 1307.03 583.817 Q1307.03 576.687 1305.2 573.146 Q1303.4 569.581 1299.77 569.581 M1299.77 565.877 Q1305.58 565.877 1308.63 570.484 Q1311.71 575.067 1311.71 583.817 Q1311.71 592.544 1308.63 597.15 Q1305.58 601.734 1299.77 601.734 Q1293.95 601.734 1290.88 597.15 Q1287.82 592.544 1287.82 583.817 Q1287.82 575.067 1290.88 570.484 Q1293.95 565.877 1299.77 565.877 Z\" fill=\"#000000\" fill-rule=\"evenodd\" fill-opacity=\"1\" /><path clip-path=\"url(#clip620)\" d=\"M1319.93 595.183 L1324.81 595.183 L1324.81 601.062 L1319.93 601.062 L1319.93 595.183 Z\" fill=\"#000000\" fill-rule=\"evenodd\" fill-opacity=\"1\" /><path clip-path=\"url(#clip620)\" d=\"M1345 569.581 Q1341.39 569.581 1339.56 573.146 Q1337.75 576.687 1337.75 583.817 Q1337.75 590.923 1339.56 594.488 Q1341.39 598.03 1345 598.03 Q1348.63 598.03 1350.44 594.488 Q1352.26 590.923 1352.26 583.817 Q1352.26 576.687 1350.44 573.146 Q1348.63 569.581 1345 569.581 M1345 565.877 Q1350.81 565.877 1353.86 570.484 Q1356.94 575.067 1356.94 583.817 Q1356.94 592.544 1353.86 597.15 Q1350.81 601.734 1345 601.734 Q1339.19 601.734 1336.11 597.15 Q1333.05 592.544 1333.05 583.817 Q1333.05 575.067 1336.11 570.484 Q1339.19 565.877 1345 565.877 Z\" fill=\"#000000\" fill-rule=\"evenodd\" fill-opacity=\"1\" /><path clip-path=\"url(#clip620)\" d=\"M1300.76 325.245 Q1297.15 325.245 1295.32 328.81 Q1293.52 332.352 1293.52 339.481 Q1293.52 346.588 1295.32 350.153 Q1297.15 353.694 1300.76 353.694 Q1304.39 353.694 1306.2 350.153 Q1308.03 346.588 1308.03 339.481 Q1308.03 332.352 1306.2 328.81 Q1304.39 325.245 1300.76 325.245 M1300.76 321.542 Q1306.57 321.542 1309.63 326.148 Q1312.7 330.732 1312.7 339.481 Q1312.7 348.208 1309.63 352.815 Q1306.57 357.398 1300.76 357.398 Q1294.95 357.398 1291.87 352.815 Q1288.82 348.208 1288.82 339.481 Q1288.82 330.732 1291.87 326.148 Q1294.95 321.542 1300.76 321.542 Z\" fill=\"#000000\" fill-rule=\"evenodd\" fill-opacity=\"1\" /><path clip-path=\"url(#clip620)\" d=\"M1320.92 350.847 L1325.81 350.847 L1325.81 356.727 L1320.92 356.727 L1320.92 350.847 Z\" fill=\"#000000\" fill-rule=\"evenodd\" fill-opacity=\"1\" /><path clip-path=\"url(#clip620)\" d=\"M1336.04 322.167 L1354.39 322.167 L1354.39 326.102 L1340.32 326.102 L1340.32 334.574 Q1341.34 334.227 1342.36 334.065 Q1343.38 333.88 1344.39 333.88 Q1350.18 333.88 1353.56 337.051 Q1356.94 340.222 1356.94 345.639 Q1356.94 351.218 1353.47 354.319 Q1350 357.398 1343.68 357.398 Q1341.5 357.398 1339.23 357.028 Q1336.99 356.657 1334.58 355.917 L1334.58 351.218 Q1336.66 352.352 1338.89 352.907 Q1341.11 353.463 1343.58 353.463 Q1347.59 353.463 1349.93 351.356 Q1352.26 349.25 1352.26 345.639 Q1352.26 342.028 1349.93 339.921 Q1347.59 337.815 1343.58 337.815 Q1341.71 337.815 1339.83 338.231 Q1337.98 338.648 1336.04 339.528 L1336.04 322.167 Z\" fill=\"#000000\" fill-rule=\"evenodd\" fill-opacity=\"1\" /><path clip-path=\"url(#clip620)\" d=\"M1290.58 108.456 L1298.21 108.456 L1298.21 82.0904 L1289.9 83.7571 L1289.9 79.4978 L1298.17 77.8312 L1302.84 77.8312 L1302.84 108.456 L1310.48 108.456 L1310.48 112.391 L1290.58 112.391 L1290.58 108.456 Z\" fill=\"#000000\" fill-rule=\"evenodd\" fill-opacity=\"1\" /><path clip-path=\"url(#clip620)\" d=\"M1319.93 106.512 L1324.81 106.512 L1324.81 112.391 L1319.93 112.391 L1319.93 106.512 Z\" fill=\"#000000\" fill-rule=\"evenodd\" fill-opacity=\"1\" /><path clip-path=\"url(#clip620)\" d=\"M1345 80.9099 Q1341.39 80.9099 1339.56 84.4747 Q1337.75 88.0163 1337.75 95.1459 Q1337.75 102.252 1339.56 105.817 Q1341.39 109.359 1345 109.359 Q1348.63 109.359 1350.44 105.817 Q1352.26 102.252 1352.26 95.1459 Q1352.26 88.0163 1350.44 84.4747 Q1348.63 80.9099 1345 80.9099 M1345 77.2062 Q1350.81 77.2062 1353.86 81.8126 Q1356.94 86.3959 1356.94 95.1459 Q1356.94 103.873 1353.86 108.479 Q1350.81 113.062 1345 113.062 Q1339.19 113.062 1336.11 108.479 Q1333.05 103.873 1333.05 95.1459 Q1333.05 86.3959 1336.11 81.8126 Q1339.19 77.2062 1345 77.2062 Z\" fill=\"#000000\" fill-rule=\"evenodd\" fill-opacity=\"1\" /><circle clip-path=\"url(#clip623)\" cx=\"2144.75\" cy=\"557.588\" r=\"20\" fill=\"#cd5c5c\" fill-rule=\"evenodd\" fill-opacity=\"1\" stroke=\"#000000\" stroke-opacity=\"1\" stroke-width=\"2.4\"/>\n",
       "<circle clip-path=\"url(#clip623)\" cx=\"2227.69\" cy=\"478.393\" r=\"21\" fill=\"#cd5c5c\" fill-rule=\"evenodd\" fill-opacity=\"1\" stroke=\"#000000\" stroke-opacity=\"1\" stroke-width=\"2.4\"/>\n",
       "<circle clip-path=\"url(#clip623)\" cx=\"2325.59\" cy=\"328.768\" r=\"20\" fill=\"#cd5c5c\" fill-rule=\"evenodd\" fill-opacity=\"1\" stroke=\"#000000\" stroke-opacity=\"1\" stroke-width=\"2.4\"/>\n",
       "<circle clip-path=\"url(#clip623)\" cx=\"1958.11\" cy=\"550.513\" r=\"20\" fill=\"#cd5c5c\" fill-rule=\"evenodd\" fill-opacity=\"1\" stroke=\"#000000\" stroke-opacity=\"1\" stroke-width=\"2.4\"/>\n",
       "<circle clip-path=\"url(#clip623)\" cx=\"1670.25\" cy=\"793.079\" r=\"12\" fill=\"#cd5c5c\" fill-rule=\"evenodd\" fill-opacity=\"1\" stroke=\"#000000\" stroke-opacity=\"1\" stroke-width=\"2.4\"/>\n",
       "<circle clip-path=\"url(#clip623)\" cx=\"2051.54\" cy=\"121.349\" r=\"20\" fill=\"#cd5c5c\" fill-rule=\"evenodd\" fill-opacity=\"1\" stroke=\"#000000\" stroke-opacity=\"1\" stroke-width=\"2.4\"/>\n",
       "<circle clip-path=\"url(#clip623)\" cx=\"2102.41\" cy=\"75.5589\" r=\"19\" fill=\"#cd5c5c\" fill-rule=\"evenodd\" fill-opacity=\"1\" stroke=\"#000000\" stroke-opacity=\"1\" stroke-width=\"2.4\"/>\n",
       "<circle clip-path=\"url(#clip623)\" cx=\"2069.52\" cy=\"798.876\" r=\"19\" fill=\"#cd5c5c\" fill-rule=\"evenodd\" fill-opacity=\"1\" stroke=\"#000000\" stroke-opacity=\"1\" stroke-width=\"2.4\"/>\n",
       "<circle clip-path=\"url(#clip623)\" cx=\"2196.52\" cy=\"476.909\" r=\"20\" fill=\"#cd5c5c\" fill-rule=\"evenodd\" fill-opacity=\"1\" stroke=\"#000000\" stroke-opacity=\"1\" stroke-width=\"2.4\"/>\n",
       "<circle clip-path=\"url(#clip623)\" cx=\"1642.97\" cy=\"878.143\" r=\"11\" fill=\"#cd5c5c\" fill-rule=\"evenodd\" fill-opacity=\"1\" stroke=\"#000000\" stroke-opacity=\"1\" stroke-width=\"2.4\"/>\n",
       "<circle clip-path=\"url(#clip623)\" cx=\"2135.95\" cy=\"339.61\" r=\"19\" fill=\"#cd5c5c\" fill-rule=\"evenodd\" fill-opacity=\"1\" stroke=\"#000000\" stroke-opacity=\"1\" stroke-width=\"2.4\"/>\n",
       "<circle clip-path=\"url(#clip623)\" cx=\"2242.54\" cy=\"247.197\" r=\"20\" fill=\"#cd5c5c\" fill-rule=\"evenodd\" fill-opacity=\"1\" stroke=\"#000000\" stroke-opacity=\"1\" stroke-width=\"2.4\"/>\n",
       "<circle clip-path=\"url(#clip623)\" cx=\"2090.73\" cy=\"493.837\" r=\"20\" fill=\"#cd5c5c\" fill-rule=\"evenodd\" fill-opacity=\"1\" stroke=\"#000000\" stroke-opacity=\"1\" stroke-width=\"2.4\"/>\n",
       "<circle clip-path=\"url(#clip623)\" cx=\"1989.09\" cy=\"371.365\" r=\"18\" fill=\"#cd5c5c\" fill-rule=\"evenodd\" fill-opacity=\"1\" stroke=\"#000000\" stroke-opacity=\"1\" stroke-width=\"2.4\"/>\n",
       "<circle clip-path=\"url(#clip623)\" cx=\"1743.21\" cy=\"812.538\" r=\"14\" fill=\"#cd5c5c\" fill-rule=\"evenodd\" fill-opacity=\"1\" stroke=\"#000000\" stroke-opacity=\"1\" stroke-width=\"2.4\"/>\n",
       "<circle clip-path=\"url(#clip623)\" cx=\"2314.03\" cy=\"125.002\" r=\"20\" fill=\"#cd5c5c\" fill-rule=\"evenodd\" fill-opacity=\"1\" stroke=\"#000000\" stroke-opacity=\"1\" stroke-width=\"2.4\"/>\n",
       "<circle clip-path=\"url(#clip623)\" cx=\"2316.76\" cy=\"182.236\" r=\"20\" fill=\"#cd5c5c\" fill-rule=\"evenodd\" fill-opacity=\"1\" stroke=\"#000000\" stroke-opacity=\"1\" stroke-width=\"2.4\"/>\n",
       "<circle clip-path=\"url(#clip623)\" cx=\"2017.85\" cy=\"445.607\" r=\"18\" fill=\"#cd5c5c\" fill-rule=\"evenodd\" fill-opacity=\"1\" stroke=\"#000000\" stroke-opacity=\"1\" stroke-width=\"2.4\"/>\n",
       "<circle clip-path=\"url(#clip623)\" cx=\"2127.83\" cy=\"286.509\" r=\"20\" fill=\"#cd5c5c\" fill-rule=\"evenodd\" fill-opacity=\"1\" stroke=\"#000000\" stroke-opacity=\"1\" stroke-width=\"2.4\"/>\n",
       "<circle clip-path=\"url(#clip623)\" cx=\"2102.54\" cy=\"270.908\" r=\"20\" fill=\"#cd5c5c\" fill-rule=\"evenodd\" fill-opacity=\"1\" stroke=\"#000000\" stroke-opacity=\"1\" stroke-width=\"2.4\"/>\n",
       "<circle clip-path=\"url(#clip623)\" cx=\"1843.25\" cy=\"511.144\" r=\"18\" fill=\"#cd5c5c\" fill-rule=\"evenodd\" fill-opacity=\"1\" stroke=\"#000000\" stroke-opacity=\"1\" stroke-width=\"2.4\"/>\n",
       "<circle clip-path=\"url(#clip623)\" cx=\"2220.97\" cy=\"340.796\" r=\"20\" fill=\"#cd5c5c\" fill-rule=\"evenodd\" fill-opacity=\"1\" stroke=\"#000000\" stroke-opacity=\"1\" stroke-width=\"2.4\"/>\n",
       "<circle clip-path=\"url(#clip623)\" cx=\"2306.02\" cy=\"272.617\" r=\"20\" fill=\"#cd5c5c\" fill-rule=\"evenodd\" fill-opacity=\"1\" stroke=\"#000000\" stroke-opacity=\"1\" stroke-width=\"2.4\"/>\n",
       "<circle clip-path=\"url(#clip623)\" cx=\"1708.37\" cy=\"841.74\" r=\"13\" fill=\"#cd5c5c\" fill-rule=\"evenodd\" fill-opacity=\"1\" stroke=\"#000000\" stroke-opacity=\"1\" stroke-width=\"2.4\"/>\n",
       "<circle clip-path=\"url(#clip623)\" cx=\"2177.35\" cy=\"307.914\" r=\"19\" fill=\"#cd5c5c\" fill-rule=\"evenodd\" fill-opacity=\"1\" stroke=\"#000000\" stroke-opacity=\"1\" stroke-width=\"2.4\"/>\n",
       "<circle clip-path=\"url(#clip623)\" cx=\"2203.27\" cy=\"239.286\" r=\"20\" fill=\"#cd5c5c\" fill-rule=\"evenodd\" fill-opacity=\"1\" stroke=\"#000000\" stroke-opacity=\"1\" stroke-width=\"2.4\"/>\n",
       "<circle clip-path=\"url(#clip623)\" cx=\"1683.76\" cy=\"649.969\" r=\"14\" fill=\"#4682b4\" fill-rule=\"evenodd\" fill-opacity=\"1\" stroke=\"#000000\" stroke-opacity=\"1\" stroke-width=\"2.4\"/>\n",
       "<circle clip-path=\"url(#clip623)\" cx=\"1762.27\" cy=\"601.442\" r=\"15\" fill=\"#4682b4\" fill-rule=\"evenodd\" fill-opacity=\"1\" stroke=\"#000000\" stroke-opacity=\"1\" stroke-width=\"2.4\"/>\n",
       "<circle clip-path=\"url(#clip623)\" cx=\"1464.1\" cy=\"771.341\" r=\"13\" fill=\"#4682b4\" fill-rule=\"evenodd\" fill-opacity=\"1\" stroke=\"#000000\" stroke-opacity=\"1\" stroke-width=\"2.4\"/>\n",
       "<circle clip-path=\"url(#clip623)\" cx=\"1703.25\" cy=\"628.616\" r=\"14\" fill=\"#4682b4\" fill-rule=\"evenodd\" fill-opacity=\"1\" stroke=\"#000000\" stroke-opacity=\"1\" stroke-width=\"2.4\"/>\n",
       "<circle clip-path=\"url(#clip623)\" cx=\"1445.57\" cy=\"1019.39\" r=\"11\" fill=\"#4682b4\" fill-rule=\"evenodd\" fill-opacity=\"1\" stroke=\"#000000\" stroke-opacity=\"1\" stroke-width=\"2.4\"/>\n",
       "<circle clip-path=\"url(#clip623)\" cx=\"1595.74\" cy=\"825.52\" r=\"13\" fill=\"#4682b4\" fill-rule=\"evenodd\" fill-opacity=\"1\" stroke=\"#000000\" stroke-opacity=\"1\" stroke-width=\"2.4\"/>\n",
       "<circle clip-path=\"url(#clip623)\" cx=\"1556.14\" cy=\"704.964\" r=\"13\" fill=\"#4682b4\" fill-rule=\"evenodd\" fill-opacity=\"1\" stroke=\"#000000\" stroke-opacity=\"1\" stroke-width=\"2.4\"/>\n",
       "<circle clip-path=\"url(#clip623)\" cx=\"1442.46\" cy=\"898.181\" r=\"13\" fill=\"#4682b4\" fill-rule=\"evenodd\" fill-opacity=\"1\" stroke=\"#000000\" stroke-opacity=\"1\" stroke-width=\"2.4\"/>\n",
       "<circle clip-path=\"url(#clip623)\" cx=\"1629.96\" cy=\"781.43\" r=\"13\" fill=\"#4682b4\" fill-rule=\"evenodd\" fill-opacity=\"1\" stroke=\"#000000\" stroke-opacity=\"1\" stroke-width=\"2.4\"/>\n",
       "<circle clip-path=\"url(#clip623)\" cx=\"1945.62\" cy=\"647.379\" r=\"12\" fill=\"#4682b4\" fill-rule=\"evenodd\" fill-opacity=\"1\" stroke=\"#000000\" stroke-opacity=\"1\" stroke-width=\"2.4\"/>\n",
       "<circle clip-path=\"url(#clip623)\" cx=\"1478.07\" cy=\"836.278\" r=\"13\" fill=\"#4682b4\" fill-rule=\"evenodd\" fill-opacity=\"1\" stroke=\"#000000\" stroke-opacity=\"1\" stroke-width=\"2.4\"/>\n",
       "<circle clip-path=\"url(#clip623)\" cx=\"1609.95\" cy=\"546.9\" r=\"14\" fill=\"#4682b4\" fill-rule=\"evenodd\" fill-opacity=\"1\" stroke=\"#000000\" stroke-opacity=\"1\" stroke-width=\"2.4\"/>\n",
       "<circle clip-path=\"url(#clip623)\" cx=\"1769.23\" cy=\"261.8\" r=\"13\" fill=\"#4682b4\" fill-rule=\"evenodd\" fill-opacity=\"1\" stroke=\"#000000\" stroke-opacity=\"1\" stroke-width=\"2.4\"/>\n",
       "<circle clip-path=\"url(#clip623)\" cx=\"1561.02\" cy=\"989.758\" r=\"13\" fill=\"#4682b4\" fill-rule=\"evenodd\" fill-opacity=\"1\" stroke=\"#000000\" stroke-opacity=\"1\" stroke-width=\"2.4\"/>\n",
       "<circle clip-path=\"url(#clip623)\" cx=\"1830.18\" cy=\"945.31\" r=\"14\" fill=\"#4682b4\" fill-rule=\"evenodd\" fill-opacity=\"1\" stroke=\"#000000\" stroke-opacity=\"1\" stroke-width=\"2.4\"/>\n",
       "<circle clip-path=\"url(#clip623)\" cx=\"1546.98\" cy=\"785.327\" r=\"13\" fill=\"#4682b4\" fill-rule=\"evenodd\" fill-opacity=\"1\" stroke=\"#000000\" stroke-opacity=\"1\" stroke-width=\"2.4\"/>\n",
       "<circle clip-path=\"url(#clip623)\" cx=\"1486.23\" cy=\"730.483\" r=\"13\" fill=\"#4682b4\" fill-rule=\"evenodd\" fill-opacity=\"1\" stroke=\"#000000\" stroke-opacity=\"1\" stroke-width=\"2.4\"/>\n",
       "<circle clip-path=\"url(#clip623)\" cx=\"1489.03\" cy=\"751.044\" r=\"14\" fill=\"#4682b4\" fill-rule=\"evenodd\" fill-opacity=\"1\" stroke=\"#000000\" stroke-opacity=\"1\" stroke-width=\"2.4\"/>\n",
       "<circle clip-path=\"url(#clip623)\" cx=\"1507.85\" cy=\"784.228\" r=\"14\" fill=\"#4682b4\" fill-rule=\"evenodd\" fill-opacity=\"1\" stroke=\"#000000\" stroke-opacity=\"1\" stroke-width=\"2.4\"/>\n",
       "<circle clip-path=\"url(#clip623)\" cx=\"1420.11\" cy=\"675.425\" r=\"14\" fill=\"#4682b4\" fill-rule=\"evenodd\" fill-opacity=\"1\" stroke=\"#000000\" stroke-opacity=\"1\" stroke-width=\"2.4\"/>\n",
       "<circle clip-path=\"url(#clip623)\" cx=\"1440.2\" cy=\"1015.69\" r=\"14\" fill=\"#4682b4\" fill-rule=\"evenodd\" fill-opacity=\"1\" stroke=\"#000000\" stroke-opacity=\"1\" stroke-width=\"2.4\"/>\n",
       "<circle clip-path=\"url(#clip623)\" cx=\"1529.53\" cy=\"758.225\" r=\"14\" fill=\"#4682b4\" fill-rule=\"evenodd\" fill-opacity=\"1\" stroke=\"#000000\" stroke-opacity=\"1\" stroke-width=\"2.4\"/>\n",
       "<circle clip-path=\"url(#clip623)\" cx=\"1457.25\" cy=\"772.175\" r=\"14\" fill=\"#4682b4\" fill-rule=\"evenodd\" fill-opacity=\"1\" stroke=\"#000000\" stroke-opacity=\"1\" stroke-width=\"2.4\"/>\n",
       "<circle clip-path=\"url(#clip623)\" cx=\"1559.22\" cy=\"660.77\" r=\"13\" fill=\"#4682b4\" fill-rule=\"evenodd\" fill-opacity=\"1\" stroke=\"#000000\" stroke-opacity=\"1\" stroke-width=\"2.4\"/>\n",
       "<path clip-path=\"url(#clip620)\" d=\"\n",
       "M2060.18 236.113 L2320.76 236.113 L2320.76 80.5926 L2060.18 80.5926  Z\n",
       "  \" fill=\"#ffffff\" fill-rule=\"evenodd\" fill-opacity=\"1\"/>\n",
       "<polyline clip-path=\"url(#clip620)\" style=\"stroke:#000000; stroke-linecap:butt; stroke-linejoin:round; stroke-width:4; stroke-opacity:1; fill:none\" points=\"\n",
       "  2060.18,236.113 2320.76,236.113 2320.76,80.5926 2060.18,80.5926 2060.18,236.113 \n",
       "  \"/>\n",
       "<circle clip-path=\"url(#clip620)\" cx=\"2102.84\" cy=\"132.433\" r=\"23\" fill=\"#cd5c5c\" fill-rule=\"evenodd\" fill-opacity=\"1\" stroke=\"#000000\" stroke-opacity=\"1\" stroke-width=\"2.72343\"/>\n",
       "<path clip-path=\"url(#clip620)\" d=\"M2173.37 117.815 L2173.37 122.745 Q2171.01 120.546 2168.32 119.458 Q2165.66 118.37 2162.65 118.37 Q2156.73 118.37 2153.58 122.004 Q2150.43 125.616 2150.43 132.467 Q2150.43 139.296 2153.58 142.93 Q2156.73 146.541 2162.65 146.541 Q2165.66 146.541 2168.32 145.453 Q2171.01 144.365 2173.37 142.166 L2173.37 147.051 Q2170.92 148.717 2168.16 149.551 Q2165.43 150.384 2162.37 150.384 Q2154.53 150.384 2150.01 145.592 Q2145.5 140.777 2145.5 132.467 Q2145.5 124.134 2150.01 119.342 Q2154.53 114.528 2162.37 114.528 Q2165.48 114.528 2168.21 115.361 Q2170.96 116.171 2173.37 117.815 Z\" fill=\"#000000\" fill-rule=\"evenodd\" fill-opacity=\"1\" /><path clip-path=\"url(#clip620)\" d=\"M2190.45 126.773 Q2187.03 126.773 2185.04 129.458 Q2183.04 132.12 2183.04 136.773 Q2183.04 141.426 2185.01 144.111 Q2187 146.773 2190.45 146.773 Q2193.85 146.773 2195.85 144.088 Q2197.84 141.402 2197.84 136.773 Q2197.84 132.166 2195.85 129.481 Q2193.85 126.773 2190.45 126.773 M2190.45 123.162 Q2196.01 123.162 2199.18 126.773 Q2202.35 130.384 2202.35 136.773 Q2202.35 143.139 2199.18 146.773 Q2196.01 150.384 2190.45 150.384 Q2184.87 150.384 2181.7 146.773 Q2178.55 143.139 2178.55 136.773 Q2178.55 130.384 2181.7 126.773 Q2184.87 123.162 2190.45 123.162 Z\" fill=\"#000000\" fill-rule=\"evenodd\" fill-opacity=\"1\" /><path clip-path=\"url(#clip620)\" d=\"M2221.19 136.68 Q2216.03 136.68 2214.04 137.861 Q2212.05 139.041 2212.05 141.889 Q2212.05 144.157 2213.53 145.5 Q2215.04 146.819 2217.6 146.819 Q2221.15 146.819 2223.28 144.319 Q2225.43 141.796 2225.43 137.629 L2225.43 136.68 L2221.19 136.68 M2229.69 134.921 L2229.69 149.713 L2225.43 149.713 L2225.43 145.777 Q2223.97 148.139 2221.79 149.273 Q2219.62 150.384 2216.47 150.384 Q2212.49 150.384 2210.13 148.162 Q2207.79 145.916 2207.79 142.166 Q2207.79 137.791 2210.71 135.569 Q2213.65 133.347 2219.46 133.347 L2225.43 133.347 L2225.43 132.93 Q2225.43 129.991 2223.48 128.393 Q2221.56 126.773 2218.07 126.773 Q2215.85 126.773 2213.74 127.305 Q2211.63 127.838 2209.69 128.903 L2209.69 124.967 Q2212.03 124.065 2214.22 123.625 Q2216.42 123.162 2218.51 123.162 Q2224.13 123.162 2226.91 126.078 Q2229.69 128.995 2229.69 134.921 Z\" fill=\"#000000\" fill-rule=\"evenodd\" fill-opacity=\"1\" /><path clip-path=\"url(#clip620)\" d=\"M2242.67 116.426 L2242.67 123.787 L2251.45 123.787 L2251.45 127.097 L2242.67 127.097 L2242.67 141.171 Q2242.67 144.342 2243.53 145.245 Q2244.41 146.148 2247.07 146.148 L2251.45 146.148 L2251.45 149.713 L2247.07 149.713 Q2242.14 149.713 2240.27 147.884 Q2238.39 146.032 2238.39 141.171 L2238.39 127.097 L2235.27 127.097 L2235.27 123.787 L2238.39 123.787 L2238.39 116.426 L2242.67 116.426 Z\" fill=\"#000000\" fill-rule=\"evenodd\" fill-opacity=\"1\" /><circle clip-path=\"url(#clip620)\" cx=\"2102.84\" cy=\"184.273\" r=\"23\" fill=\"#4682b4\" fill-rule=\"evenodd\" fill-opacity=\"1\" stroke=\"#000000\" stroke-opacity=\"1\" stroke-width=\"3.81974\"/>\n",
       "<path clip-path=\"url(#clip620)\" d=\"M2167.74 168.127 L2167.74 172.687 Q2165.08 171.414 2162.72 170.789 Q2160.36 170.164 2158.16 170.164 Q2154.34 170.164 2152.26 171.645 Q2150.2 173.127 2150.2 175.858 Q2150.2 178.15 2151.56 179.331 Q2152.95 180.488 2156.79 181.206 L2159.62 181.784 Q2164.85 182.78 2167.33 185.303 Q2169.83 187.803 2169.83 192.016 Q2169.83 197.039 2166.45 199.631 Q2163.09 202.224 2156.59 202.224 Q2154.13 202.224 2151.35 201.668 Q2148.6 201.113 2145.64 200.025 L2145.64 195.21 Q2148.48 196.807 2151.22 197.617 Q2153.95 198.428 2156.59 198.428 Q2160.59 198.428 2162.77 196.854 Q2164.94 195.28 2164.94 192.363 Q2164.94 189.817 2163.37 188.381 Q2161.82 186.946 2158.25 186.229 L2155.41 185.673 Q2150.17 184.631 2147.84 182.409 Q2145.5 180.187 2145.5 176.229 Q2145.5 171.645 2148.72 169.006 Q2151.96 166.368 2157.63 166.368 Q2160.06 166.368 2162.58 166.807 Q2165.1 167.247 2167.74 168.127 Z\" fill=\"#000000\" fill-rule=\"evenodd\" fill-opacity=\"1\" /><path clip-path=\"url(#clip620)\" d=\"M2188.72 188.52 Q2183.55 188.52 2181.56 189.701 Q2179.57 190.881 2179.57 193.729 Q2179.57 195.997 2181.05 197.34 Q2182.56 198.659 2185.13 198.659 Q2188.67 198.659 2190.8 196.159 Q2192.95 193.636 2192.95 189.469 L2192.95 188.52 L2188.72 188.52 M2197.21 186.761 L2197.21 201.553 L2192.95 201.553 L2192.95 197.617 Q2191.49 199.979 2189.32 201.113 Q2187.14 202.224 2183.99 202.224 Q2180.01 202.224 2177.65 200.002 Q2175.31 197.756 2175.31 194.006 Q2175.31 189.631 2178.23 187.409 Q2181.17 185.187 2186.98 185.187 L2192.95 185.187 L2192.95 184.77 Q2192.95 181.831 2191.01 180.233 Q2189.09 178.613 2185.59 178.613 Q2183.37 178.613 2181.26 179.145 Q2179.16 179.678 2177.21 180.743 L2177.21 176.807 Q2179.55 175.905 2181.75 175.465 Q2183.95 175.002 2186.03 175.002 Q2191.66 175.002 2194.43 177.918 Q2197.21 180.835 2197.21 186.761 Z\" fill=\"#000000\" fill-rule=\"evenodd\" fill-opacity=\"1\" /><path clip-path=\"url(#clip620)\" d=\"M2227.54 185.905 L2227.54 201.553 L2223.28 201.553 L2223.28 186.043 Q2223.28 182.363 2221.84 180.534 Q2220.41 178.706 2217.54 178.706 Q2214.09 178.706 2212.1 180.905 Q2210.1 183.104 2210.1 186.9 L2210.1 201.553 L2205.82 201.553 L2205.82 175.627 L2210.1 175.627 L2210.1 179.655 Q2211.63 177.317 2213.69 176.159 Q2215.78 175.002 2218.48 175.002 Q2222.95 175.002 2225.24 177.78 Q2227.54 180.534 2227.54 185.905 Z\" fill=\"#000000\" fill-rule=\"evenodd\" fill-opacity=\"1\" /><path clip-path=\"url(#clip620)\" d=\"M2253.09 179.562 L2253.09 165.534 L2257.35 165.534 L2257.35 201.553 L2253.09 201.553 L2253.09 197.664 Q2251.75 199.979 2249.69 201.113 Q2247.65 202.224 2244.78 202.224 Q2240.08 202.224 2237.12 198.474 Q2234.18 194.724 2234.18 188.613 Q2234.18 182.502 2237.12 178.752 Q2240.08 175.002 2244.78 175.002 Q2247.65 175.002 2249.69 176.136 Q2251.75 177.247 2253.09 179.562 M2238.58 188.613 Q2238.58 193.312 2240.5 195.997 Q2242.44 198.659 2245.82 198.659 Q2249.2 198.659 2251.15 195.997 Q2253.09 193.312 2253.09 188.613 Q2253.09 183.914 2251.15 181.252 Q2249.2 178.567 2245.82 178.567 Q2242.44 178.567 2240.5 181.252 Q2238.58 183.914 2238.58 188.613 Z\" fill=\"#000000\" fill-rule=\"evenodd\" fill-opacity=\"1\" /><path clip-path=\"url(#clip620)\" d=\"M2277.91 188.52 Q2272.74 188.52 2270.75 189.701 Q2268.76 190.881 2268.76 193.729 Q2268.76 195.997 2270.24 197.34 Q2271.75 198.659 2274.32 198.659 Q2277.86 198.659 2279.99 196.159 Q2282.14 193.636 2282.14 189.469 L2282.14 188.52 L2277.91 188.52 M2286.4 186.761 L2286.4 201.553 L2282.14 201.553 L2282.14 197.617 Q2280.68 199.979 2278.51 201.113 Q2276.33 202.224 2273.18 202.224 Q2269.2 202.224 2266.84 200.002 Q2264.5 197.756 2264.5 194.006 Q2264.5 189.631 2267.42 187.409 Q2270.36 185.187 2276.17 185.187 L2282.14 185.187 L2282.14 184.77 Q2282.14 181.831 2280.2 180.233 Q2278.28 178.613 2274.78 178.613 Q2272.56 178.613 2270.45 179.145 Q2268.35 179.678 2266.4 180.743 L2266.4 176.807 Q2268.74 175.905 2270.94 175.465 Q2273.14 175.002 2275.22 175.002 Q2280.84 175.002 2283.62 177.918 Q2286.4 180.835 2286.4 186.761 Z\" fill=\"#000000\" fill-rule=\"evenodd\" fill-opacity=\"1\" /><path clip-path=\"url(#clip620)\" d=\"M2295.17 165.534 L2299.43 165.534 L2299.43 201.553 L2295.17 201.553 L2295.17 165.534 Z\" fill=\"#000000\" fill-rule=\"evenodd\" fill-opacity=\"1\" /></svg>\n"
      ]
     },
     "execution_count": 39,
     "metadata": {},
     "output_type": "execute_result"
    }
   ],
   "source": [
    "scatter(X_test_Pr[1, y_test .== -1], X_test_Pr[2, y_test .== -1], \n",
    "            color = :indianred,\n",
    "            label = labels[l₁],\n",
    "            size = (600,300),\n",
    "            subplot = 1, layout = 2,\n",
    "            xlabel = \"true labels test data\")\n",
    "scatter!(X_test_Pr[1, y_test .== 1], X_test_Pr[2, y_test .== 1], \n",
    "            color = :steelblue,\n",
    "            label = labels[l₂],\n",
    "            subplot = 1, layout = 2)\n",
    "scatter!(X_test_Pr[1, ŷ₀_test .== 1], X_test_Pr[2, ŷ₀_test .== 1], \n",
    "            color = :indianred,\n",
    "            label = labels[l₁], subplot = 2,\n",
    "            size = (600,300), markersizes = sizes[ŷ₀_test .== 1],\n",
    "            xlabel = \"predictions test data\")\n",
    "scatter!(X_test_Pr[1, ŷ₀_test .== 2], X_test_Pr[2, ŷ₀_test .== 2], \n",
    "            color = :steelblue, subplot = 2, markersizes = sizes[ŷ₀_test .== 2],\n",
    "            label = labels[l₂])"
   ]
  },
  {
   "cell_type": "code",
   "execution_count": 40,
   "metadata": {},
   "outputs": [
    {
     "data": {
      "text/plain": [
       "0.0"
      ]
     },
     "execution_count": 40,
     "metadata": {},
     "output_type": "execute_result"
    }
   ],
   "source": [
    "count((y_test- 2 .* (ŷ₀_test .- 1.5)) .!= 0)/n"
   ]
  },
  {
   "cell_type": "code",
   "execution_count": null,
   "metadata": {},
   "outputs": [],
   "source": []
  }
 ],
 "metadata": {
  "@webio": {
   "lastCommId": null,
   "lastKernelId": null
  },
  "kernelspec": {
   "display_name": "Julia 1.7.2",
   "language": "julia",
   "name": "julia-1.7"
  },
  "language_info": {
   "file_extension": ".jl",
   "mimetype": "application/julia",
   "name": "julia",
   "version": "1.7.2"
  }
 },
 "nbformat": 4,
 "nbformat_minor": 2
}
