{
 "cells": [
  {
   "cell_type": "code",
   "execution_count": null,
   "metadata": {},
   "outputs": [],
   "source": [
    "using Pkg\n",
    "Pkg.activate(\"NB05\")"
   ]
  },
  {
   "cell_type": "code",
   "execution_count": 2,
   "metadata": {},
   "outputs": [],
   "source": [
    "using MLDatasets\n",
    "using Plots, LinearAlgebra, Statistics\n",
    "using Images, ImageCore\n",
    "using JuMP, NLopt, Flux "
   ]
  },
  {
   "cell_type": "markdown",
   "metadata": {},
   "source": [
    "*Warning:* For this notebook I had to pin `CSV.jl` to version 0.8.5, because otherwise `MLDatasets` would not compile. This restricts `MLDatasets` to version 0.5. The latest version has a different syntax than the one used here."
   ]
  },
  {
   "cell_type": "markdown",
   "metadata": {},
   "source": [
    "# Classification\n",
    "\n",
    "We consider the [FashionMNIST](https://github.com/zalandoresearch/fashion-mnist) dataset from [Zalando Research](https://github.com/zalandoresearch).\n",
    "\n",
    "It contains images of Fashion items from 9 categories.\n",
    "\n",
    "In Julia this dataset can be loaded through the [MLDatasets](https://github.com/JuliaML/MLDatasets.jl) package."
   ]
  },
  {
   "cell_type": "code",
   "execution_count": 3,
   "metadata": {},
   "outputs": [],
   "source": [
    "X_all, Y_all = FashionMNIST.traindata();"
   ]
  },
  {
   "cell_type": "markdown",
   "metadata": {},
   "source": [
    "Now, `X_all` contains the input data and `Y_all` the output data of the training data in the `FashionMNIST` dataset.\n",
    "\n",
    "The entries of `Y_all` correspond to the following categories:"
   ]
  },
  {
   "cell_type": "code",
   "execution_count": 4,
   "metadata": {},
   "outputs": [],
   "source": [
    "labels = [\"T-shirt/top\", \n",
    "            \"Trouser\", \n",
    "            \"Pullover\", \n",
    "            \"Dress\", \n",
    "            \"Coat\", \n",
    "            \"Sandal\", \n",
    "            \"Shirt\", \n",
    "            \"Sneaker\", \n",
    "            \"Bag\", \n",
    "            \"Ankle boot\"];"
   ]
  },
  {
   "cell_type": "markdown",
   "metadata": {},
   "source": [
    "Since `Julia` indexing starts at `1` and `Y_all` contains values between `0` and `9`, it will be convenient to add 1 to all values `Y_all`.  "
   ]
  },
  {
   "cell_type": "code",
   "execution_count": 5,
   "metadata": {},
   "outputs": [],
   "source": [
    "Y_all = Y_all .+ 1;"
   ]
  },
  {
   "cell_type": "markdown",
   "metadata": {},
   "source": [
    "Let us take a look at 6 randomly chosen images along with their labels."
   ]
  },
  {
   "cell_type": "code",
   "execution_count": 6,
   "metadata": {},
   "outputs": [
    {
     "name": "stdout",
     "output_type": "stream",
     "text": [
      "[\"Dress\", \"Shirt\", \"Bag\", \"T-shirt/top\", \"Trouser\", \"Pullover\"]\n"
     ]
    },
    {
     "data": {
      "text/html": [
       "<table><tbody><tr><td style='text-align:center;vertical-align:middle; margin: 0.5em;border:1px #90999f solid;border-collapse:collapse'><img style='max-width: 100px; max-height:100px;display:inline' src=\"data:image/png;base64,iVBORw0KGgoAAAANSUhEUgAAAHAAAABwCAAAAADji6uXAAAABGdBTUEAALGPC/xhBQAAAAFzUkdCAK7OHOkAAAAgY0hSTQAAeiYAAICEAAD6AAAAgOgAAHUwAADqYAAAOpgAABdwnLpRPAAAAzZJREFUaAW9wc9r1gUcB/DXs+c9h1vptGYqSkZaUaHkIcs6WZfoWNhB7x3Cf6CgAg+dunWoMJIgKIogMAP7AdalUyoUGJplW9gUdOrcctN9OzzXPd/nEp/XKwbYiK9xDPP4B5P4FxO4F12MYjeexw39RbEoFsVigEfwIVZjJ57BFkxgCtcxieM4jH14X39RLIpFsWgxjGOYxnrtRvAT1uEQliwvikWxKBYt7sNBrMUOnEEwjJVYRINZ7MW3uIouliwvikWxKBYt9uMhLOAUtuAirqOL23oa/IgnsBun8bnlRbEoFsWixRfYhX34Enfjb/yFLm5jDo/iCjbiII7pL4pFsSgWLU7iJI7iVVzEELZhCCN6VmMOzxksikWxKBYtNmMe23EEDcbwAJawgHl0MYFtOINNmLK8KBbFolgM8Di24y3thvEy7sJl/UWxKBbFosUkJnHUYIt4D7fQ6C+KRbEoFi06aPS8gZX4AZcRjGEET2Eeb6KjXRSLYlEsWjTooMEUtmM/ljCBTZhBF9/p6aDRXxSLYlEsWnTQYAhH8AHuxAiGMYsVmEUXQ1hCB43lRbEoFsWiRQcNHsM1XMJ1zGMUHVzDIp7Fb5hEB43lRbEoFsWixTBu4jWswhQ24BAOYASz+B1P4xfsRRdLlhfFolgUixaLes7hYYxjHk9iGv9iFOM4iT/03NJfFItiUSxaNHrexg6MYRwLOItZrMYsLuKynkZ/USyKRbFo0ei5gAv+H1EsikWxGGAU6/Cn/oZxG/fjLBr9RbEoFsVigHHsxafo4CrmsAG3sRLrcQ578REm9RfFolgUiwG62IoXsAoN5nAPZtBgDWawE19hUn9RLIpFsRjgFoJtWKFnQc8YOliJVRjDkHZRLIpFsWgxhAs4jJdwCatxBVuxgGFcxRSu4GftolgUi2LRYgl7cAqvGCwYx4z+olgUi2IxwIP4DB/jVwzhKs5jCtM4gO/xDV7HO/qLYlEsisUAZ3EaW7EL6zGKNbiBSazDHpzHCe2iWBSLYjHAAqZxAScwo2cDFrGAaWzCKmzWLopFsSgWLTo4jgYvYg4dbMAEbqKLtbgD7+IT7aJYFIti/wFT8LbX1w6gKgAAAABJRU5ErkJg\"></td><td style='text-align:center;vertical-align:middle; margin: 0.5em;border:1px #90999f solid;border-collapse:collapse'><img style='max-width: 100px; max-height:100px;display:inline' src=\"data:image/png;base64,iVBORw0KGgoAAAANSUhEUgAAAHAAAABwCAAAAADji6uXAAAABGdBTUEAALGPC/xhBQAAAAFzUkdCAK7OHOkAAAAgY0hSTQAAeiYAAICEAAD6AAAAgOgAAHUwAADqYAAAOpgAABdwnLpRPAAAA/VJREFUaAW9wb+PpHUdAODnfefz7szuzOWWO/aEQ1QazRYkJkJhiAkFCZ1/gjQWJlba2tnS+gf4Z1gYiARjo0DUwzPmTDhUwhD2Lrvszu7O+8PiW0zm3dHy8zzh/6hQo8egeBsLnOAuvsQvbFSKwW4hWUgWkoX/oVJ0No5xhFdxBw9xghfxqWJQVIrBtpAsJAvJwkiFAYPiWfwAx3gJ72GFH+EjPMQv8R88wh/xZwx2C8lCspAsjNTocAc/wREuscRHeA4D3sLruIv3scB9vIkf4218igqDjZAsJAvJwkin+Cku8aFigRZLnOAQHyoqrHCGAQN+jp9hsC0kC8lCsrDDtxVnOFD0aHCJOZ4oOjTo0SBwiSXewG9tC8lCspAs7PANzPB1PEKDGi0G1FjgArUisMYKX8MC33JTSBaShWRhh3tY4WX8Ay0aDIoalW1rrPAdHONjHLkpJAvJQrKwwx2c4gW8gnfxPDrsocUKc7S4QoMzfB8VnuKOm0KykCwkCzvcwika3FfMcKVocKAIxQFO0OAET/CCm0KykCwkCzvM8QDneA2/RqBFhQaXqFBhhhrXOMZDnCJQo7cRkoVkIVnYYYIaJ3gWl7i2McNK0aFHhRXOcQsdBhzixEZIFpKFZGFkX7GHa5xhglpxrWgxwRRrVOhxgKeYocIcJzZCspAsJAsjEwRqrBHYVwzoUGOGAQN6xQINzvE8LjC1LSQLyUKyMDJHoMYEn6NFjR5T1KjRocMEA6b4APdwhDVmtoVkIVlIFkbmWKPFPs5t9AhcYY0GV6gwwSH+hLfwJRaY2xaShWQhWRiZ4QINDvAObmFAhwY9WkwwKCoEPkGHJQ4xtS0kC8lCsjCywBXuKv6ABVqEIjBBiz0Mihn+jifo0KGyLSQLyUKyMBK4xF3s4zG+pxjQKRqssUbgChM8xjGmuEZjW0gWkoVkYSRwgUM8gwsEBhsdzjHHGh063MZn+ApTXLopJAvJQrIwsocBAyr8FT/EEg1u4wBLDNhDjzWm+AIrBBpMbAvJQrKQLIxU6FDjZfTYQ4UBPWrMFCtMMChqLPEc/u2mkCwkC8nCSIdrzPEXxURR4QrXaHGAKVq0in18jCP8zU0hWUgWkoWRHi0O8Y6iVkwwYA8dOlSoUWGNKX6HV9Chsi0kC8lCsjDSIrDAbxQXaHGIFSrcwoABawyYYB+P8SomWNkWkoVkIVkYeYoeFR7hHu7jc6zQ4gotenQInCq+iXMEBpzZFpKFZCFZGKkxw21UWOIBXkKPc8wwQ4fAPu6jw+/xGvYxcVNIFpKFZGHkCzzCJ3ii+BUO8V28iBqBU3yFJR7gn4oL/AvXOLUtJAvJQrL/AiMhAfyMMf8JAAAAAElFTkSuQmCC\"></td><td style='text-align:center;vertical-align:middle; margin: 0.5em;border:1px #90999f solid;border-collapse:collapse'><img style='max-width: 100px; max-height:100px;display:inline' src=\"data:image/png;base64,iVBORw0KGgoAAAANSUhEUgAAAHAAAABwCAAAAADji6uXAAAABGdBTUEAALGPC/xhBQAAAAFzUkdCAK7OHOkAAAAgY0hSTQAAeiYAAICEAAD6AAAAgOgAAHUwAADqYAAAOpgAABdwnLpRPAAABI1JREFUaAW9wc2LXXcZAODnnPPeO/fOTDPODDUJMbWF1vqxsKJdhUogiKjgVt2I4KaIbkrNQhTcK7qx6kItqEg36kZBWlwMVFtrMWo1KrGhi9ZUm4yd75k795zj4ndgEv+A93lCspAsJAvJwqBCj8s4hxV06FAjUKNBgxF6RYcWx5hhD3u4ha+5U0gWkoVkYdDj7fgqauyjQq/o0Ss6tIpeUSl6tAj0+Cmuo0KPkCwkC8nCbb6MH+IithGo0WGOChV69IoePSo0CEWLf+LjuIINRUgWkoVkYXAaB/gZPoqbaFCjwhGmmKJHrejRYBcHWMM1vAN/x/fxGfwWxwjJQrKQLAwWsItVnMU1LKBFg1VU2McxenToUSNwP57GdTyIBzHB83gAVxGShWQhWRisYxd34RBzNKgVLXaxjzECtWIb5/FXfA8/xib2cRbHuBdXEZKFZCFZGKxjH6sIrGMJezhAp1hGhR4V5ngvajyEF3EDS9hGg3XsKkKykCwkC4NF7OMMtnGECjsITNEpjtEqxpjgFL6Dd+IFrKBFjXvxrCIkC8lCsjA4QGAFu9jCIaZYxr6iRYUeFR7GBB/Eo/gl1tBiAceYYKYIyUKykCwM5lhEoMUiVhQHmKFSVDjCJTyCI2zgzziNTSxhFXPMcaAIyUKykCwMxljAFpZwCh2OMHenGS7hi3gWv8KreBMrOI0aPXpMUStCspAsJAuDJTS4iRX8Aw161GjQYob34Qf4Oj6Gi3gOY2xihLcqKtyP1xQhWUgWkoVBhTl20KJHgwYtOszwblzFZxVP4iXUGKHGm7gPI9QYORGShWQhWRi06LCPG5jgKh7GFuZYwhYeUTyJDluYYI4GY8xxgB7LToRkIVlIFgaBFRyjxwq+gT/g91jD2/CA4iI+id9gGT0OsIwaHVq0+I8TIVlIFpKFQYsKWwis4G94HN/CcziPQ8W3cQUjtKjRYI4xQnEGW06EZCFZSBYGB+gxwwzLWMQTeMKdvoKz+BeW0GOGCodosY0F9O4UkoVkIVkYTDFGjRqbuIBnUKFXfABfwu8wRo8WI0zQY4YKq9jA406EZCFZSBYG9+EaOtSY4zKeQa94FzbwEkbo0WKMKRrUmGCKBcU1XMKvEZKFZCFZGCzjOjp02MF5PIVv4sP4PK7gEIEegSPsoEKFI5zFTcXzOKcIyUKykCwMbuAevIy7cYw5LuATeAWvYxlvQaVoUaPGCBUOsYxzinuwqQjJQrKQLAxexOfwI6zjVdS4hf9ijLvQo0KDBnNUqLCPCVr0mCg+jS8oQrKQLCQLgyu4gI/g56gwwSL+jTX0WMQce1hWVGjxBhYR6LCHD2GEDUVIFpKFZOE2v8Cj+Avej8A+1rGKOcaYo8IIFXos4AzGCLyOFTyNkRMhWUgWkoXbXMYLOIUZXsMZ1NhEpQjUmKFCjxotdjBFjTV8CnOMcIyQLCQLycL/+S4ewzamuBtzRY0aFTpUaNChdadFPISnFJ0iJAvJQrIwaNDiJ3gPbqHBywjUGGGMBh06VDjGHhq0qPAn/FFRoVWEZCFZSPY/wSQylQW7Q4MAAAAASUVORK5C\"></td><td style='text-align:center;vertical-align:middle; margin: 0.5em;border:1px #90999f solid;border-collapse:collapse'><img style='max-width: 100px; max-height:100px;display:inline' src=\"data:image/png;base64,iVBORw0KGgoAAAANSUhEUgAAAHAAAABwCAAAAADji6uXAAAABGdBTUEAALGPC/xhBQAAAAFzUkdCAK7OHOkAAAAgY0hSTQAAeiYAAICEAAD6AAAAgOgAAHUwAADqYAAAOpgAABdwnLpRPAAABDdJREFUaAW9wUuIXQcZAODvnPvPTO44005IbWtSc/uwNJFsRMRHq1Gi+OhQqFAUwY2r0pVuSksXllKKWEEX6k66UVAUweKiuFI0iqLFlihCW20INU2aeSTzvHPvPcfFuXBm7mSCq//7wi6lRuX6fopT+DNW8BFs4FH8x/8nJAvJQrIwVqJGrXUXPo9FfAgFZrGD87gXI7yCC/gLzuKP+KfrC8lCspAsjNWoNb6PE7gDUxjiPCrcjttwNy5hBR3M4zQ+iQHewiO4ggK1RkgWkoVkYazWeAaLuIpt7GCEOdyEZczjbXRxFBuocBU1RrgH38bXUGuFZCFZSBYmfAaX0cEAAwzwKt7AafwJs5jFEHdiCcewjhlcwsdxKy5rhWQhWUgWdjmDw1jBu/E4VtDVGOEqPoqzWMGdeAvncRKv4jFs4V14EC9ohWQhWUgWdvkYSgT6uA8v4yS20MMIXcziFvwXPXwK38UZjWkMcAYvaIVkIVlIFnZ5AAN0sIWzeB9K9PBhvI3f4yT62EIPf8Mc5lBjFlv4oL1CspAsJAu7vB/voEAHT+EIFvADPI8ncAoj9HACr6OLL+OX+BLWMMBRe4VkIVlIFsZux2UMMYUddDGNP+A7Gi9iDlO4DcfxWfTwO5zGKgKbeBPvwUWNkCwkC8nC2BkcwyWU6GMKU/iqxgKmcQUVVvAv/EbjV5hDoTGLI3gYP9QIyUKykCyM/QKncD9O4h2M8GPM4Bj6mMYdKLCMeRS4hjfwEAZYwVW8hJ9phWQhWUgWxvp4UusreA4vYgHTGGIaa5hCiT56uAk/wSP4Nb7u+kKykCwkC2MdVKg1/o4KF7CEDRQYYYgaJQr8G6/jMALLWgUKVBohWUgWkoWxkUaJCpvo4wt4CbfiGipsIzDCEOsaRxG4otHBCLVWSBaShWRhQq2xhgHux2+xic/hr7iIefRxCKXGIgosOVhIFpKFZGFCiRHWsYNjuIBF/AgPYQmHEejiHziEB7CNNY3afiFZSBaShQm1Rh/ruBufwC04jXO4B69gBhfRw9M4jj5WHCwkC8lCsjCh0Cqwg2/hm9jBp/Ey7sMqLqKLD2AKQ2w4WEgWkoVkYUKtNcIIXXwPP8c51HgNPSziWSxgFV30NQr7hWQhWUgWJhRaNUrsYA7f0HgTFeZxHFewjBIFhholRvYKyUKykCxMqLXeizV0sIwlTONmDLCNc6gwgxo1rjlYSBaShWThBgYoMESptY4BagQCNQpU2NCo7ReShWQhWZhQa20iUKFGiY5GiSEqzKBAhQpbDhaShWQhWbiBaziCDgqNGoX9Co0RagcLyUKykCxMqLU2cESjRqHRQaFRagxQYlOrQoFaKyQLyUKycANHsYBVzGAbI3tVmMIMDuGUvWp7hWQhWUgWbuBRfBEn0MVh3IwCNQoU2MFlrOJ5rdp+IVlIFpL9D+GZD2NGBftKAAAAAElFTkSuQmCC\"></td><td style='text-align:center;vertical-align:middle; margin: 0.5em;border:1px #90999f solid;border-collapse:collapse'><img style='max-width: 100px; max-height:100px;display:inline' src=\"data:image/png;base64,iVBORw0KGgoAAAANSUhEUgAAAHAAAABwCAAAAADji6uXAAAABGdBTUEAALGPC/xhBQAAAAFzUkdCAK7OHOkAAAAgY0hSTQAAeiYAAICEAAD6AAAAgOgAAHUwAADqYAAAOpgAABdwnLpRPAAAAnNJREFUaAW9wc9OnHUYBtDDzMPAUKhaCzFRqbGJxpWJ7vQOjLfitZj0LrwFV100Llw2EY2KtqWhQSy2wDAC88fFt3DH/GbznhMN1vEAM5xiD0Ps4gpnuI0H+NvNolgUi2LRYBf3sYs5vsQ99DHGU3yC7/HIzaJYFIti0eAzXOJnnGOIM8zxJg7wMT7HIzeLYlEsikWDPm7hD7zGXWziCL/iHsaYWCyKRbEoFg0OsY2XmOIjfIBfMMEZTvDcYlEsikWxaNDHBKvYwRAXuI8hDnGBkcWiWBSLYtHgGDOsYIg+vsU3eIYPcYmpxaJYFIti0eAAx3iBu9jE7xjiHHsYahPFolgUiwYneI1b2MIGjnGFDUx19iwWxaJYFItGL/EGxujjR5yihylmOLJYFItiUSwaPcYXOj2dMdYQvNAmikWxKBaN/sRXmOFfnTF6mONQmygWxaJYNDrERGegc4kJ5jjWJopFsSgWjX7DNk4QnWv0McdImygWxaJYNBrhJ9zBQGcdF7jCmTZRLIpFsVjCCtbR17nGW3iCfW2iWBSLYrGEHezgWucvvIs7ONcmikWxKBZLmGCAS50VTLGBFW2iWBSLYrGECeZY03mFPt7G+9i3WBSLYlEsljDEKno6q9jCKzzRJopFsSgWS7jWGehsYIZrXGkTxaJYFIsljNDzvx7m6GkXxaJYFIsl/IM+nusMMMFcuygWxaJYNOhhhh/wtc5t9LGGU5xqE8WiWBSLBnOdx5hhiuhMMcG5NlEsikWxWMIznOAdjHCsc6RdFItiUSyWMMIAW3gPO9jEgXZRLIpFsVjCHA/xKfbxHbbxULsoFsWi2H+u34aVslEfDwAAAABJRU5ErkJg\"></td><td style='text-align:center;vertical-align:middle; margin: 0.5em;border:1px #90999f solid;border-collapse:collapse'><img style='max-width: 100px; max-height:100px;display:inline' src=\"data:image/png;base64,iVBORw0KGgoAAAANSUhEUgAAAHAAAABwCAAAAADji6uXAAAABGdBTUEAALGPC/xhBQAAAAFzUkdCAK7OHOkAAAAgY0hSTQAAeiYAAICEAAD6AAAAgOgAAHUwAADqYAAAOpgAABdwnLpRPAAABDpJREFUaAW9wb1vXWcdAODnnPs717GdljSpU0oiEIGGVgiJjwGB+BjLwsJAWZAQQwc2tjIhFoQQ/AUIJlRRdoTEBKIsTBmKUIKEVFepyQchJomv7XvP+zK8Vzo2zvx7nrDWo3i6S/gVbuHXOIdH2MSP8Qf83GkdqrNCspAsJAtrxVmv43t4Btv4OLYQOMYncQHfwQ/xJn6Kf6J6upAsJAvJwlP8DF/FizjEARa4hEPs4fO4jn9hH3/DV/AF/Bdv4C/oUUxCspAsJAtrM4z4Pr6L27iHOTr0eIDX8CwOcQsd5jjGfaywiZ/g63iIwEoTkoVkIVlYGzWv4S5GzFAQGDV38S46bKJgRI8OPR7iAl7FWygmIVlIFpKF/xOo2MAxeiwxQ0VgW7NCQYcOBccYEPgS3kIxCclCspAsnPApvIAn2MY+Ok1FRcHSWSNWWOI8FnjZWSFZSBaShRM+hzkOsIEBBaPTBs0KBR0KFhjwPN7DDrZwYBKShWQhWTjhMzjCiB6bWGCGioqKoukxQ8ESj/EKCpZ4gM/ibZOQLCQLycIJX8Sh5hDn8AQ9DjVVU9FhRNV02MH7qJjjE3jbJCQLyUKycMI13NMM2MFjHGGGY6dVdKgo2MZlvIfAEl/GL01CspAsJAsnbKJghh6/xddwHwUVI3pNj4oRczzAb/Aq9rHCx5wWkoVkIVlYu4ZzOMJHcBM/wjexh8AMVVM0Kww4xoAf4FsYsMQFp4VkIVlIFtaeR4cR27iBR5olNjHHDAXHGDFDjxWu4yZu4wO4gy1cxy1NSBaShWRhbQcVA+a4YTJHRYcRK/QYUfEYM5zX3MRVDNjEFdzShGQhWUgW1l7AMVaaN/FpTWCGFTpUBCoqDtDhguYN/BW7OMBzJiFZSBaShbXL2MVK8wgvaUYM6NBjhiUKAgMWGDQ3ND16jCYhWUgWkoW1pSZMntV0WKGiaDp0qOgxYokPY1czwyMMJiFZSBaShbVOM8Oh5qOagg7V082xwAovYxcH6FDRmYRkIVlIFk6o6HFbcw0FI3oUTWeyxHnMcYArmn1s4A6KSUgWkoVkYW2Gig7vay7hATpUdJoOHWY4whLP4BAXNXuaDlsmIVlIFpKFtbkmcEezhaWmR+AYK1T0GLBCoOBFzS6uomJmEpKFZCFZWKsoKHhHcxEjVpijoscMK1QUFPQIfFBzF1dR8NgkJAvJQrKwdoSi2dVs4Ak2ULBChw6Bih4rVOzjvOY+Co5xZBKShWQhWVj7Dyo2sKcZULBEp+kwwxIVc3Q4whGuat7VdOhNQrKQLCQLawOuYIG7muewhyVGDOjRa0YUjCgoqJp/4zIqiklIFpKFZGHtz/gdDnDDZAcLnMcjLDGix4ABAx5qFprf4yIG/MkkJAvJQrKw9g6+7bQO38BLeAUfwgYCCzzEAvfwd/wDf9Qc4BfOCslCspDsf8jyKMmcmSxdAAAAAElFTkSuQmCC\"></td></tr></tbody></table><div><small>(a vector displayed as a row to save space)</small></div>"
      ],
      "text/plain": [
       "6-element Vector{Base.ReinterpretArray{Gray{N0f8}, 2, N0f8, Matrix{N0f8}, true}}:\n",
       " [Gray{N0f8}(0.0) Gray{N0f8}(0.0) … Gray{N0f8}(0.0) Gray{N0f8}(0.0); Gray{N0f8}(0.0) Gray{N0f8}(0.0) … Gray{N0f8}(0.0) Gray{N0f8}(0.0); … ; Gray{N0f8}(0.0) Gray{N0f8}(0.0) … Gray{N0f8}(0.0) Gray{N0f8}(0.0); Gray{N0f8}(0.0) Gray{N0f8}(0.0) … Gray{N0f8}(0.0) Gray{N0f8}(0.0)]\n",
       " [Gray{N0f8}(0.0) Gray{N0f8}(0.0) … Gray{N0f8}(0.0) Gray{N0f8}(0.0); Gray{N0f8}(0.0) Gray{N0f8}(0.0) … Gray{N0f8}(0.0) Gray{N0f8}(0.0); … ; Gray{N0f8}(0.0) Gray{N0f8}(0.0) … Gray{N0f8}(0.0) Gray{N0f8}(0.0); Gray{N0f8}(0.0) Gray{N0f8}(0.0) … Gray{N0f8}(0.0) Gray{N0f8}(0.0)]\n",
       " [Gray{N0f8}(0.0) Gray{N0f8}(0.0) … Gray{N0f8}(0.0) Gray{N0f8}(0.0); Gray{N0f8}(0.0) Gray{N0f8}(0.0) … Gray{N0f8}(0.0) Gray{N0f8}(0.0); … ; Gray{N0f8}(0.0) Gray{N0f8}(0.0) … Gray{N0f8}(0.012) Gray{N0f8}(0.0); Gray{N0f8}(0.0) Gray{N0f8}(0.0) … Gray{N0f8}(0.0) Gray{N0f8}(0.0)]\n",
       " [Gray{N0f8}(0.0) Gray{N0f8}(0.0) … Gray{N0f8}(0.0) Gray{N0f8}(0.0); Gray{N0f8}(0.0) Gray{N0f8}(0.0) … Gray{N0f8}(0.0) Gray{N0f8}(0.0); … ; Gray{N0f8}(0.0) Gray{N0f8}(0.0) … Gray{N0f8}(0.0) Gray{N0f8}(0.0); Gray{N0f8}(0.0) Gray{N0f8}(0.0) … Gray{N0f8}(0.0) Gray{N0f8}(0.0)]\n",
       " [Gray{N0f8}(0.0) Gray{N0f8}(0.0) … Gray{N0f8}(0.0) Gray{N0f8}(0.0); Gray{N0f8}(0.0) Gray{N0f8}(0.0) … Gray{N0f8}(0.0) Gray{N0f8}(0.0); … ; Gray{N0f8}(0.0) Gray{N0f8}(0.0) … Gray{N0f8}(0.0) Gray{N0f8}(0.0); Gray{N0f8}(0.0) Gray{N0f8}(0.0) … Gray{N0f8}(0.0) Gray{N0f8}(0.0)]\n",
       " [Gray{N0f8}(0.0) Gray{N0f8}(0.0) … Gray{N0f8}(0.0) Gray{N0f8}(0.0); Gray{N0f8}(0.0) Gray{N0f8}(0.0) … Gray{N0f8}(0.0) Gray{N0f8}(0.0); … ; Gray{N0f8}(0.0) Gray{N0f8}(0.0) … Gray{N0f8}(0.0) Gray{N0f8}(0.0); Gray{N0f8}(0.0) Gray{N0f8}(0.0) … Gray{N0f8}(0.0) Gray{N0f8}(0.0)]"
      ]
     },
     "execution_count": 6,
     "metadata": {},
     "output_type": "execute_result"
    }
   ],
   "source": [
    "k = rand(1:60000, 6)\n",
    "println([\"$(labels[Y_all[i]])\" for i in k])\n",
    "[FashionMNIST.convert2image(X_all[:,:,i]) for i in k]"
   ]
  },
  {
   "cell_type": "markdown",
   "metadata": {},
   "source": [
    "## Choosing two categories\n",
    "\n",
    "To illustrate how the classification methods from the lecture work we consider only two items, namely Coats and Sandals. The goal is to learn an algorithm that can distinguish pictures from these two categories.\n",
    "\n",
    "First, we compute the locations of Coats and Sandals in the data."
   ]
  },
  {
   "cell_type": "code",
   "execution_count": 7,
   "metadata": {},
   "outputs": [
    {
     "data": {
      "text/plain": [
       "12000"
      ]
     },
     "execution_count": 7,
     "metadata": {},
     "output_type": "execute_result"
    }
   ],
   "source": [
    "l₁ = findfirst(labels .== \"Coat\")\n",
    "l₂ = findfirst(labels .== \"Sandal\")\n",
    "l = findall(y -> y == l₁ || y == l₂, Y_all);\n",
    "length(l)"
   ]
  },
  {
   "cell_type": "markdown",
   "metadata": {},
   "source": [
    "I.e., there are 12000 items in the data, which are either Coats or Sandals.\n",
    "\n",
    "For training let us consider a subsample of size $n=50$. \n",
    "\n",
    "Since the goal of this notebook is to illustrate how classification works, we will not stick to the algorithm for approaching machine learning problems. We will simply take the first $n$ items in the data set (instead of choosing them randomly). We also take another $n$ items for testing. "
   ]
  },
  {
   "cell_type": "code",
   "execution_count": 8,
   "metadata": {},
   "outputs": [
    {
     "data": {
      "text/plain": [
       "50"
      ]
     },
     "execution_count": 8,
     "metadata": {},
     "output_type": "execute_result"
    }
   ],
   "source": [
    "n = 50"
   ]
  },
  {
   "cell_type": "markdown",
   "metadata": {},
   "source": [
    "Now, we split the data into the training and test data"
   ]
  },
  {
   "cell_type": "code",
   "execution_count": 9,
   "metadata": {},
   "outputs": [],
   "source": [
    "train_indices = l[1:n];\n",
    "test_indices = l[n+1:2*n];\n",
    "\n",
    "X_test = X_all[:, :, test_indices]\n",
    "Y_test = Y_all[test_indices];\n",
    "\n",
    "X = X_all[:, :, train_indices]\n",
    "Y = Y_all[train_indices];"
   ]
  },
  {
   "cell_type": "markdown",
   "metadata": {},
   "source": [
    "Let us look at a subsample of the training data:"
   ]
  },
  {
   "cell_type": "code",
   "execution_count": 10,
   "metadata": {},
   "outputs": [
    {
     "name": "stdout",
     "output_type": "stream",
     "text": [
      "[\"Sandal\", \"Coat\", \"Coat\", \"Sandal\", \"Coat\", \"Coat\"]\n"
     ]
    },
    {
     "data": {
      "text/html": [
       "<table><tbody><tr><td style='text-align:center;vertical-align:middle; margin: 0.5em;border:1px #90999f solid;border-collapse:collapse'><img style='max-width: 100px; max-height:100px;display:inline' src=\"data:image/png;base64,iVBORw0KGgoAAAANSUhEUgAAAHAAAABwCAAAAADji6uXAAAABGdBTUEAALGPC/xhBQAAAAFzUkdCAK7OHOkAAAAgY0hSTQAAeiYAAICEAAD6AAAAgOgAAHUwAADqYAAAOpgAABdwnLpRPAAAAzVJREFUaAW9wd9rlQUcB+CH1w/H45zaWkuGyEwzQ2SIhRTihUiEWHhRFxFdRAj1D3QdXfQXRDciIV7qXxBSSEEXuxChMCNhwpAxlvlzbs7DS8EbHERDJfg+TxSLYlEsikWxKBbFolgUi2JRLIpFsSgWxaJYFItiUSyKxRM0Oq2HNWjRoPXfPsM4vtKJYlEsisUTtB6v1WkNBX2MYSc+x0WMYz9mEMWiWBSLp9Cg9agXsRvjmEAQjOE6bmMPZnEIM4hiUSyKxVNoDb2AAV7BFDZgBMEA81jEbiziBr7FrE4Ui2JRLJ7RpzrLGOAm5jCFFuNYj4s461FRLIpFsXgGU3gVd3AGh7EP85jFCMZwAtcMNXgJK4hiUSyKxT8atDoNWkMNWuzCy7iErTiP8zof4ygu4U2c0tmJQ9iDjfgZUSyKRbE0HtagRYMWrU4PwSW8jj5WdE5hEjtwFR9gGQexiAUs4DKiWBSLYml1emgx0Gl1duF3/IJpzOE6PsJJQz9hGn1sxZ+YQRD0MEAUi2JRLA0aDNAaGsEWHMaH+AJrcABzOISTOg0OYhR3cRHB8zo3MYoVRLEoFsXSYKDTwzRGEKzDafyAL3EaJ3ENLfbiIo6hjxmsoodVNLiHPoJlRLEoFsXSGjqG7biMRUxgAudwAsfxHd7HLbyH5/AWFjGKNbiFFmuxilVswAqiWBSLYmkNncPbuIUFTGO/zjs6Z7EPmzGJI1hAH2uwpNPDDfTR4j4GiGJRLIqljz5uYi8O6JzBCN7AXWzGSRzHWgzwB6LToocGExhgCQPc0WkRxaJYFMu72Iar2IxJjOEIVvAaFvE1ruAT3MIDBEuYRIsGq7juYeMYxwNEsSgWxbIO97ENS7iABUxjFd8juIb1eBlXsII7mMQqBuhhgBbLuIcGG3APA0SxKBbF8iuOoo+dmMcOLOIGriM6azGHMZ0JBD30sYANGMUENqHBNUzhG0SxKBbFcgEX0GAKm7AR27EVY1hGsBb38ReWMI8B7mAe9/AAA2zBGG7gJhrcRhSLYlEs/tVi1tCP/p/fPF4Ui2JRLIpFsSgWxaJYFItiUSyKRbEoFsWiWBSLYlHsbxMpvxjdPspDAAAAAElFTkSuQmCC\"></td><td style='text-align:center;vertical-align:middle; margin: 0.5em;border:1px #90999f solid;border-collapse:collapse'><img style='max-width: 100px; max-height:100px;display:inline' src=\"data:image/png;base64,iVBORw0KGgoAAAANSUhEUgAAAHAAAABwCAAAAADji6uXAAAABGdBTUEAALGPC/xhBQAAAAFzUkdCAK7OHOkAAAAgY0hSTQAAeiYAAICEAAD6AAAAgOgAAHUwAADqYAAAOpgAABdwnLpRPAAAA7hJREFUaAW9wU2LXQcdB+Dnnvu7cyfz0mkztbUZpEiFuihCdakUkVZw486dIoKgH8GVX0DdunLnhxBcV1oqBCQIjW8hoU5tOmHMTObemftyjouzCvdM4ur/PPF/+ApO8Q5uYYEGf8FN/Bh38BH+6NmiWBSLYvEcv8G7+AQvYYUGV/g2djDDPr6Dv+MeGrQ2RbEoFsViQIMW72Afv8IN/BK3sESHLTT4Ps7wE3wT91wvikWxKBbP0OFjfBUf4If4BY7Q4gC/xxG+hvu4o9cZFsWiWBSLAZ3eX/Ej3Mb38DP8AFP8Fm+hwTfwJTzC0rNFsSgWxWJAp9fhNvZwF+/pHeK7OMDreIA/YxeH2MMTw6JYFIticY3gNfwBM1xgG6/jBBf4Ij7DAlMssMQR7hoWxaJYFItrvIwl3sRHuKU3wwQNHmGMVq/DDBPXi2JRLIrFNV7Aud4h1mjQ4QBrLNCgQYObuMAu9nFuUxSLYlEsBjTYwhTnWGGiN8MtXOEKI7QYYRcLBG/hA5uiWBSLYjFgCw22cIB/YokD7OA21tjRC+Z4gEOcul4Ui2JRLAY0uIEzHOFzXOIKDQ5xipHeDEc4R9BhblgUi2JRLAaMEczxGK/gBKeYosMSEwRrvIgzNJiiMSyKRbEoFgMaXOINnODfOMchnuBd3MYxtrGPO3pv4wFODItiUSyKxYDgIb6OTzHHPuZ4Ge/jv5hgjRuYYQ8TnGNlWBSLYlEsBgRXOMOXcYJL7CJ6E0wxx1pvhDNcoDEsikWxKBYDJrhEcIQ/IRjhCeZoMEUwR4crvQ4jjNB5WhSLYlEsBozQYYFzLDFGhzN8C5/gMwRBiyVaLDFBsPS0KBbFolgMaNFirHeB4Aqv4CHmaHATx5jrBS1aBEtPi2JRLIrFgAZrvRNs4xDHeBsfY4URDnAfr+IMFxhjhQnmnhbFolgUiwErjLDGTb1dHOIfmKLDGPewjx08xgRTXGJkUxSLYlEsBrToMNab4VN06PAaFmjRYYVjPMEcL+EYE5uiWBSLYjFgjQYX2MMO1tjCDG9gC//CGBMssIUpTtAhNkWxKBbFYkCLDmvMcIk9jPACPsQ5XsQCCzRosY05VhjZFMWiWBSLAdtocQP76NCiwxqvotVrscIIY+xgHwusbYpiUSyKxYC53n29XQQrjPEQV2gwQYsW27iLR3iMzqYoFsWiWAw41TvFHF/AAluY4z38B39DgwbbaPChZ4tiUSyKxXOc4HO9CX6K32GJPfwcv8YII88XxaJYFPsfVUr06MfUc3YAAAAASUVORK5C\"></td><td style='text-align:center;vertical-align:middle; margin: 0.5em;border:1px #90999f solid;border-collapse:collapse'><img style='max-width: 100px; max-height:100px;display:inline' src=\"data:image/png;base64,iVBORw0KGgoAAAANSUhEUgAAAHAAAABwCAAAAADji6uXAAAABGdBTUEAALGPC/xhBQAAAAFzUkdCAK7OHOkAAAAgY0hSTQAAeiYAAICEAAD6AAAAgOgAAHUwAADqYAAAOpgAABdwnLpRPAAABAVJREFUaAW9wT+oXXcdAPDPOed77333vbSpbVoTIamJaE2GSm1rUbCCf2btIkiXDgWhq5OTgqsdHR117lYQ3EQcKlqUFMQUEyLP1qQhfXnJu3/O+Tn8hnPvy6MUh+/nE/4Pr+DzuI85fosP0aDY1qE3CslCspAsfAqBNV7FL1U38QEu44f4BgoaNBjQoLEtJAvJQrLwCRoUrFWPYxfXscAl7OGzOINbKChoVGvbQrKQLCQLn6ConsWPcBH/wCmcR4/rWOBPuIbf4U0UtCi2hWQhWUgWTtBiUP0aX0aH/+I/uIR9vI8ZHsO/cAqv4Qd4GQM69EYhWUgWkoUTdBjwE7yIa5hhhX/jALt4BHvo8ABL3MTz+Bl+7mEhWUgWkoVjGqxU38QddOjQ4wImGBDYwcdocR43cAcvqXrbQrKQLCQLx7To0aHHAi16rDBggiX20KNgigk6fIynjVoMqpAsJAvJwoYWjeoFnMYCgSU61RECO1iixS4mOMAOrhk1RiFZSBaShQ2D0beNAkeY4wECcwxGLfawgwM0+AreRW8UkoVkIVk4ZlA9hxVCNcMMK+xhgh4FgR6BBkt8Dd/Fu2gxqEKykCwkCxtaDKqL+AAzLNBgwBECAwY0mKJFiwk+xAGeVw1GIVlIFpKFDR0GPIVbKAgcYo4VDtFhjRa9qkWDghkOccbDQrKQLCQLG9aqFzDFEgvMjR5BQYMeBR2mWCMwwX2c97CQLCQLycIJvoSCAUvs4QgFp1UNCgpa7GCNCaZYYI4ruGoUkoVkIVnYUFQXMGCFQIteNcMKE/Ro0KHBElMEiurruGoUkoVkIVk4wSUsjFpVi4IeM/SYItCiYAdLzFFwwbaQLCQLycIJnsRtNJigoKBDQaBDi4I1JuhxGo9igSXO2xaShWQhWTjmFG5hwC52UNCgRY8WAwomCCzxON7DPs7iCJdsC8lCspAsHPMcZjjEHNdxGXfRYY0GAxq0qgd4DO/g7/gpbuOibSFZSBaShWMuq3ZxHX/Et3ADj9rWoKgG1RH+gHO4iX3bQrKQLCQLx7yEAbv4G+4j0KNRDehUjW33cBUtBuzgHPZVIVlIFpKFY57BR3gWr+N76NEgEGhQbOtVh6oDtJjiCvZVIVlIFpKFDZ/BXRTM8U98BwWnUIwCDQoa9LiDVvUROtU5o5AsJAvJwoavIjDDe6p72EdgjUE1oKiWmGFAqP6CL6g+ZxSShWQhWdhwFgV7+JVqiUCDgkZ1hAa9aoUGd1Vv4w0sMTUKyUKykCxseBlPIPAb1Z9xBe8g8EXM0KPBGnfQ4gB/Vf0eb+A0njQKyUKykCxs+DG+j6dxpHofe5jjCdxDj7NYqVrcxW2jG/gFzuAto5AsJAvJ/gfcS/pYKaebzQAAAABJRU5ErkJg\"></td><td style='text-align:center;vertical-align:middle; margin: 0.5em;border:1px #90999f solid;border-collapse:collapse'><img style='max-width: 100px; max-height:100px;display:inline' src=\"data:image/png;base64,iVBORw0KGgoAAAANSUhEUgAAAHAAAABwCAAAAADji6uXAAAABGdBTUEAALGPC/xhBQAAAAFzUkdCAK7OHOkAAAAgY0hSTQAAeiYAAICEAAD6AAAAgOgAAHUwAADqYAAAOpgAABdwnLpRPAAAAx9JREFUaAW9wU2LlWUYAODrnXOnZSLlV9hoDtmXkSIxEAwIQ5S5cBMRrSpoUytJXdSmMIIIgqBFUEFQUNIPCEOISEFrk4W1CHURCBKSRmrzcfI9T4tn8XJGnaZB7usKyUKykCwkC8lCspAsJAv/U4MRDFBUjaoYNoFjuB8nURCShWQhWVikolMMm8QW3Iu30GAHZhGShWQhWViABkVV0Oo8h++xHbtxFltxCsfxMn7SCclCspAsLNJmBCYxjpX4FIdxHOMYRx/34LQqJAvJQrKwAEVnGSbwO/7Cx9iDs3gXa1HwKx7G45jBaVVIFpKFZGEBehigYDlm8RAm8SJ24pDqnGotLmAUL+AofkFIFpKFZGEBBiiqaTR4FJ/hJde2CivwA/pYilUIyUKykCwsQNG5hCM4oroFMyiqBgXr8Ccu4iusw0aEZCFZSBYWoYcBRlQjaA1bg8toMILluIKQLCQLycIitKoW0+ipGhTVrXgeX+IALmMaIVlIFpKFeTQo/luLnqpV/YEfMY4PsQnHEJKFZCFZmEexcK3ONpzAF9iFJ7AEZxCShWQhWbgBemhVr2AlPsCzOI+DGEMfIVlIFpKFG6DFGPYjcA5P4RRuwp3oq0KykCwkC3P00JpfDw2WYAqb8Q5OYgP2oai24W58pwrJQrKQLMzRqhpVcbUWPUxhFHvxDR7B04YV9DClCslCspAsXEdxbQ0KWtV+nMVWPONqA6xGXxWShWQhWZijQcFtuAPr8K1O0XkDV7AVT+qE6gp6WK0TkoVkIVmYo6gexAZcxDJMGTaKCdyM7YYVDFQFd+mEZCFZSBYNik6DgmPm9xHuwy5Xa9GoBnhAJyQLyUKyKIYVVYODGMXbOKDzOnbiPfxsfj3crhOShWQhWUyij0u4gL8xixnMYBP24mucww7sxmG86vqKagSzOiFZSBaSxRjGsAYr8A8uYIAz+Bwn8BgmsAVHsQ99LMWs65vGIZ2QLCQLyeITw1ZhPVZiPRpsxARW4CAO4Ixq1vymsQdvqkKykCwkC3Ocx3k3zm94XyckC8lCspDgNZ2QLCQLyf4FlyOujms2dOoAAAAASUVORK5C\"></td><td style='text-align:center;vertical-align:middle; margin: 0.5em;border:1px #90999f solid;border-collapse:collapse'><img style='max-width: 100px; max-height:100px;display:inline' src=\"data:image/png;base64,iVBORw0KGgoAAAANSUhEUgAAAHAAAABwCAAAAADji6uXAAAABGdBTUEAALGPC/xhBQAAAAFzUkdCAK7OHOkAAAAgY0hSTQAAeiYAAICEAAD6AAAAgOgAAHUwAADqYAAAOpgAABdwnLpRPAAAA9RJREFUaAW9wbuOXIUZAOBv5vwzZy6eXYf1ZbFjLMVuIgQxkmtHQiJKhRAFDW9BAw9AlydIkzoFeYEoUYSQnITINBAuwnbAkq21WJb1ZXc810NxishnDkhI6P++8DPrYo0OKptCspAsJAs/oIMKA/wer+DXOMQpLHGIEf6F9/AJ1iiw0i4kC8lCstCihwV28QEG+DfOYReHKHEeUzyPV/EZ3sQKHVQ2hWQhWUgWGjpYqL2Bm/gIU1xVu49f4jJu4Ct8gys4j7uotAvJQrKQLDRUau/gF/gYBfZxHa+jjwmm+BNO4xj/wNu4jj9rF5KFZCFZaHERp3EbZ7CFa7iJPVzEGh/iBVzCP7GP/+Ia/oZ9m0KykCwkCy2uYg/H+AIXcAqHuI0xjnEft7CLO2pjfIXf4i82hWQhWUgWWpxEhfB/n+NL/BG/wwH+gyc4gzXGOEYHz2oXkoVkIVloMVbrYo4CHTyLNW5jjhPYRokCK3TQw652IVlIFpKFFiXGGOIAExxhjTV2McUDVKjQwwznMcJYu5AsJAvJQostzPEc7uAIBxjiO6xQYYER9lEisELgoXYhWUgWkoUWE9xDhREeYIk+uqjQVetiH4ECeziFLe1CspAsJAsNA2zhHlZYoosO1qiwRgcVAku1J9jBFOe1C8lCspAsNEzQV+thGzOUKFGo9VAg0EcHFbbRxwh9zD0tJAvJQrLQMEBX7SSGOFKbYIAJHqOPAiVm6KPESfRQYu5pIVlIFpKFhh4GKLCPY3QwxT4WqBBY4xEqzNHHAttYYIRHnhaShWQhWWgI9BBYYoDHOIsBLmGBPq7gFiZ4hAorbOMbDG0KyUKykCw0FJhjjDWmagc4gb/jKpb4FDtYYo1H2MYJfI3SppAsJAvJQsMIRziBLmYosEAXQ6yxwAIPMMMYc3RQYYmRTSFZSBaShYYxDjHBfczRRR8FZijQRYkCYzxBhVLtIcY2hWQhWUgWGvo4wA4KzFFiiTkKdFGhhwILDLDAObVD9G0KyUKykCw0dFBhimcwwwAlhphjjiGm2MESJe5hgjVmKGwKyUKykCw0rDFCF2dRYoQlVuhhgT4G6Kl1MEIPxxhhaVNIFpKFZKFhgRVGeIj/oY8nmGGpNsUUC3yLEW7hJn6DFSqbQrKQLCQLDRUeYoj3cQ2/QhclbmCEY5zFi2pzXMZdvIQOejaFZCFZSBYajtFF4K94Fzs4whR7KHCEIXYwxwQX8BZeRoW1TSFZSBaShYYK2yiwh9f8uD942i5W2EbXppAsJAvJQsMZDHATUz/dY3yNLSxsCslCspDse4sW6xA1yAZzAAAAAElFTkSuQmCC\"></td><td style='text-align:center;vertical-align:middle; margin: 0.5em;border:1px #90999f solid;border-collapse:collapse'><img style='max-width: 100px; max-height:100px;display:inline' src=\"data:image/png;base64,iVBORw0KGgoAAAANSUhEUgAAAHAAAABwCAAAAADji6uXAAAABGdBTUEAALGPC/xhBQAAAAFzUkdCAK7OHOkAAAAgY0hSTQAAeiYAAICEAAD6AAAAgOgAAHUwAADqYAAAOpgAABdwnLpRPAAAA8dJREFUaAW9wT2LHIcZAOBnZt6Z273zXXTSOQqyYkUYu4nBJKQ1BJIqFrgIpAmBNMalHEhn439gSErjzv/AjTE4hXEhVcGFi6QxCpGIhEisr/va3dkZF1McmllB3LzPE56hQIHOmTdxHV/jCtb4racV6D1bSBaShWRhgxIdemc+wB8ww0vYQ41/4To+MegNCvSmQrKQLCQLIwU6g2t4Cy9gH/cxR4EF7qPAX/EevsU7+Ad6m4VkIVlIFkZ6gw/xBo5wggcocYqlqRlewqf4PW4g0HpaSBaShWRhg9fxG/wbFQqDDh0KbGGFGoEV7mEff8QNtKZCspAsJAsbXMMCNWZYYI0SDb7FEnN0OMUKc7R4xbOFZCFZSBY2uIwKFZYGPdYGHToU6FFiFw0e4hwu446pkCwkC8nCBq+gxwyHqLCLQ/TYRoc1amzjCAussYNXccdUSBaShWRhgx/hFFt4gkf4BlfQY4FtnMdt/A2/xBoVKryOz0yFZCFZSBY22MEhLqBFj108j8dYYIEGL2KNPRxjhR4v2ywkC8lCsjCyj0CLQIkZLuEu5uixwn/Q4ACPDRoU+LHNQrKQLCQLIz9BYG3QI3CCBg1qdKjR4wRbKFGjxyWbhWQhWUgWRvZQoMMWdtCiwRItAgVKgxoljrGDEjs2C8lCspAsjBygQ48FjrBEjR4dKmzjMeZoscQKWygMruKWp4VkIVlIFkYuosWpwRE6NChQ4glKVAYdKuyhQ4sOP8MtTwvJQrKQLIwcoEWJNc7hGAuUBgUqVFhhGwtnOnR43lRIFpKFZGHkAGsU6NChMGiwQI8lSpygMTjCBaywwg9NhWQhWUgWRvbRokCFY9QGPQoEaqxR4xQznKDBEie4aCokC8lCsjCyjRUKtDhFgxqBCod4gAO0aAy2sETgBOdMhWQhWUgWRhq0COyhwxHm6LHGLloEKmzhGIEdHKPF3FRIFpKFZGEk0OECvsJPcQ8nqFCjwQwVAo+wh1vo8Rr+h9JUSBaShWRhZI4FruIX+DPexn0UOMQaPRrUmOES3sV5/AWlzUKykCwkCyOtQYEWDX6ALZT4L47Qo8Y+Gszxc9xEjxK9qZAsJAvJwsgDXMZtXMCf8BU67GEHj3AX57HAI9zH3/ErLBAoTYVkIVlIFkYeGrR4zuBj/781lihwbCokC8lCsjCyi0CPtcEcK/ToURpUKLFCiSX+iVPU2DEVkoVkIVkY+Ry/w118bbBA50xn0DpTGtzDDJfwpamQLCQLycLITXyBb3w/vTPv49f4yFRIFpKFZN8BhnHrykwblVkAAAAASUVORK5C\"></td></tr></tbody></table><div><small>(a vector displayed as a row to save space)</small></div>"
      ],
      "text/plain": [
       "6-element Vector{Base.ReinterpretArray{Gray{N0f8}, 2, N0f8, Matrix{N0f8}, true}}:\n",
       " [Gray{N0f8}(0.0) Gray{N0f8}(0.0) … Gray{N0f8}(0.0) Gray{N0f8}(0.0); Gray{N0f8}(0.0) Gray{N0f8}(0.0) … Gray{N0f8}(0.0) Gray{N0f8}(0.0); … ; Gray{N0f8}(0.0) Gray{N0f8}(0.0) … Gray{N0f8}(0.0) Gray{N0f8}(0.0); Gray{N0f8}(0.0) Gray{N0f8}(0.0) … Gray{N0f8}(0.0) Gray{N0f8}(0.0)]\n",
       " [Gray{N0f8}(0.0) Gray{N0f8}(0.0) … Gray{N0f8}(0.0) Gray{N0f8}(0.0); Gray{N0f8}(0.0) Gray{N0f8}(0.0) … Gray{N0f8}(0.0) Gray{N0f8}(0.0); … ; Gray{N0f8}(0.0) Gray{N0f8}(0.0) … Gray{N0f8}(0.0) Gray{N0f8}(0.0); Gray{N0f8}(0.0) Gray{N0f8}(0.0) … Gray{N0f8}(0.0) Gray{N0f8}(0.0)]\n",
       " [Gray{N0f8}(0.0) Gray{N0f8}(0.0) … Gray{N0f8}(0.0) Gray{N0f8}(0.0); Gray{N0f8}(0.0) Gray{N0f8}(0.0) … Gray{N0f8}(0.0) Gray{N0f8}(0.0); … ; Gray{N0f8}(0.0) Gray{N0f8}(0.0) … Gray{N0f8}(0.0) Gray{N0f8}(0.0); Gray{N0f8}(0.0) Gray{N0f8}(0.0) … Gray{N0f8}(0.0) Gray{N0f8}(0.0)]\n",
       " [Gray{N0f8}(0.0) Gray{N0f8}(0.0) … Gray{N0f8}(0.0) Gray{N0f8}(0.0); Gray{N0f8}(0.0) Gray{N0f8}(0.0) … Gray{N0f8}(0.0) Gray{N0f8}(0.0); … ; Gray{N0f8}(0.0) Gray{N0f8}(0.0) … Gray{N0f8}(0.0) Gray{N0f8}(0.0); Gray{N0f8}(0.0) Gray{N0f8}(0.0) … Gray{N0f8}(0.0) Gray{N0f8}(0.0)]\n",
       " [Gray{N0f8}(0.0) Gray{N0f8}(0.0) … Gray{N0f8}(0.0) Gray{N0f8}(0.0); Gray{N0f8}(0.0) Gray{N0f8}(0.0) … Gray{N0f8}(0.0) Gray{N0f8}(0.0); … ; Gray{N0f8}(0.0) Gray{N0f8}(0.0) … Gray{N0f8}(0.0) Gray{N0f8}(0.0); Gray{N0f8}(0.0) Gray{N0f8}(0.0) … Gray{N0f8}(0.0) Gray{N0f8}(0.0)]\n",
       " [Gray{N0f8}(0.0) Gray{N0f8}(0.0) … Gray{N0f8}(0.0) Gray{N0f8}(0.0); Gray{N0f8}(0.0) Gray{N0f8}(0.0) … Gray{N0f8}(0.0) Gray{N0f8}(0.0); … ; Gray{N0f8}(0.0) Gray{N0f8}(0.0) … Gray{N0f8}(0.0) Gray{N0f8}(0.0); Gray{N0f8}(0.0) Gray{N0f8}(0.0) … Gray{N0f8}(0.0) Gray{N0f8}(0.0)]"
      ]
     },
     "execution_count": 10,
     "metadata": {},
     "output_type": "execute_result"
    }
   ],
   "source": [
    "k = rand(1:n, 6)\n",
    "println([\"$(labels[Y[i]])\" for i in k])\n",
    "[FashionMNIST.convert2image(X[:,:,i]) for i in k]"
   ]
  },
  {
   "cell_type": "markdown",
   "metadata": {},
   "source": [
    "## Visualizing the data\n",
    "\n",
    "Each input data point is an image consisting of grey values for $28\\times 28$ pixels.\n",
    "\n",
    "Thus the data lives in $\\mathbb R^D$ with $D=28^2 = 784$."
   ]
  },
  {
   "cell_type": "code",
   "execution_count": 11,
   "metadata": {},
   "outputs": [
    {
     "data": {
      "text/plain": [
       "784"
      ]
     },
     "execution_count": 11,
     "metadata": {},
     "output_type": "execute_result"
    }
   ],
   "source": [
    "D = 28^2"
   ]
  },
  {
   "cell_type": "markdown",
   "metadata": {},
   "source": [
    "Let us look at the structure of the first input data point:"
   ]
  },
  {
   "cell_type": "code",
   "execution_count": 12,
   "metadata": {},
   "outputs": [
    {
     "data": {
      "text/plain": [
       "Matrix{N0f8} (alias for Array{Normed{UInt8, 8}, 2})"
      ]
     },
     "execution_count": 12,
     "metadata": {},
     "output_type": "execute_result"
    }
   ],
   "source": [
    "typeof(X[:,:,1])"
   ]
  },
  {
   "cell_type": "markdown",
   "metadata": {},
   "source": [
    "We see that the input data consists of matrices. \n",
    "\n",
    "For using machine learning algorithm we first transform the input data points into vectors using the `vec` function."
   ]
  },
  {
   "cell_type": "code",
   "execution_count": 354,
   "metadata": {},
   "outputs": [],
   "source": [
    "X_vec = [Float64.(vec(X[:,:,i])) for i in 1:n];\n",
    "X_test_vec = [Float64.(vec(X_test[:,:,i])) for i in 1:n];"
   ]
  },
  {
   "cell_type": "markdown",
   "metadata": {},
   "source": [
    "We also normalize the data to account for numerical accuracy."
   ]
  },
  {
   "cell_type": "code",
   "execution_count": 355,
   "metadata": {},
   "outputs": [],
   "source": [
    "M = maximum(norm.(X_vec))\n",
    "X_vec = X_vec ./ M\n",
    "X_test_vec = X_test_vec ./ M;"
   ]
  },
  {
   "cell_type": "markdown",
   "metadata": {},
   "source": [
    "We can visualize this data by randomly projecting the points in $\\mathbb R^D$ to $\\mathbb R^2$. \n",
    "\n",
    "For instance, we can first center the data and then sample a random projection matrix:"
   ]
  },
  {
   "cell_type": "code",
   "execution_count": 356,
   "metadata": {},
   "outputs": [],
   "source": [
    "x̄ = mean(X_vec)\n",
    "Pr = randn(2, D)\n",
    "X_Pr = hcat(map(x -> Pr*(x - x̄), X_vec)...);"
   ]
  },
  {
   "cell_type": "markdown",
   "metadata": {},
   "source": [
    "We can now apply a scatter plot the the projected data."
   ]
  },
  {
   "cell_type": "code",
   "execution_count": 357,
   "metadata": {},
   "outputs": [
    {
     "data": {
      "image/svg+xml": [
       "<?xml version=\"1.0\" encoding=\"utf-8\"?>\n",
       "<svg xmlns=\"http://www.w3.org/2000/svg\" xmlns:xlink=\"http://www.w3.org/1999/xlink\" width=\"600\" height=\"300\" viewBox=\"0 0 2400 1200\">\n",
       "<defs>\n",
       "  <clipPath id=\"clip400\">\n",
       "    <rect x=\"0\" y=\"0\" width=\"2400\" height=\"1200\"/>\n",
       "  </clipPath>\n",
       "</defs>\n",
       "<path clip-path=\"url(#clip400)\" d=\"\n",
       "M0 1200 L2400 1200 L2400 0 L0 0  Z\n",
       "  \" fill=\"#ffffff\" fill-rule=\"evenodd\" fill-opacity=\"1\"/>\n",
       "<defs>\n",
       "  <clipPath id=\"clip401\">\n",
       "    <rect x=\"480\" y=\"0\" width=\"1681\" height=\"1200\"/>\n",
       "  </clipPath>\n",
       "</defs>\n",
       "<path clip-path=\"url(#clip400)\" d=\"\n",
       "M192.941 1099.09 L2352.76 1099.09 L2352.76 47.2441 L192.941 47.2441  Z\n",
       "  \" fill=\"#ffffff\" fill-rule=\"evenodd\" fill-opacity=\"1\"/>\n",
       "<defs>\n",
       "  <clipPath id=\"clip402\">\n",
       "    <rect x=\"192\" y=\"47\" width=\"2161\" height=\"1053\"/>\n",
       "  </clipPath>\n",
       "</defs>\n",
       "<polyline clip-path=\"url(#clip402)\" style=\"stroke:#000000; stroke-linecap:butt; stroke-linejoin:round; stroke-width:2; stroke-opacity:0.1; fill:none\" points=\"\n",
       "  584.915,1099.09 584.915,47.2441 \n",
       "  \"/>\n",
       "<polyline clip-path=\"url(#clip402)\" style=\"stroke:#000000; stroke-linecap:butt; stroke-linejoin:round; stroke-width:2; stroke-opacity:0.1; fill:none\" points=\"\n",
       "  1018.68,1099.09 1018.68,47.2441 \n",
       "  \"/>\n",
       "<polyline clip-path=\"url(#clip402)\" style=\"stroke:#000000; stroke-linecap:butt; stroke-linejoin:round; stroke-width:2; stroke-opacity:0.1; fill:none\" points=\"\n",
       "  1452.45,1099.09 1452.45,47.2441 \n",
       "  \"/>\n",
       "<polyline clip-path=\"url(#clip402)\" style=\"stroke:#000000; stroke-linecap:butt; stroke-linejoin:round; stroke-width:2; stroke-opacity:0.1; fill:none\" points=\"\n",
       "  1886.21,1099.09 1886.21,47.2441 \n",
       "  \"/>\n",
       "<polyline clip-path=\"url(#clip402)\" style=\"stroke:#000000; stroke-linecap:butt; stroke-linejoin:round; stroke-width:2; stroke-opacity:0.1; fill:none\" points=\"\n",
       "  2319.98,1099.09 2319.98,47.2441 \n",
       "  \"/>\n",
       "<polyline clip-path=\"url(#clip400)\" style=\"stroke:#000000; stroke-linecap:butt; stroke-linejoin:round; stroke-width:4; stroke-opacity:1; fill:none\" points=\"\n",
       "  192.941,1099.09 2352.76,1099.09 \n",
       "  \"/>\n",
       "<polyline clip-path=\"url(#clip400)\" style=\"stroke:#000000; stroke-linecap:butt; stroke-linejoin:round; stroke-width:4; stroke-opacity:1; fill:none\" points=\"\n",
       "  584.915,1099.09 584.915,1080.19 \n",
       "  \"/>\n",
       "<polyline clip-path=\"url(#clip400)\" style=\"stroke:#000000; stroke-linecap:butt; stroke-linejoin:round; stroke-width:4; stroke-opacity:1; fill:none\" points=\"\n",
       "  1018.68,1099.09 1018.68,1080.19 \n",
       "  \"/>\n",
       "<polyline clip-path=\"url(#clip400)\" style=\"stroke:#000000; stroke-linecap:butt; stroke-linejoin:round; stroke-width:4; stroke-opacity:1; fill:none\" points=\"\n",
       "  1452.45,1099.09 1452.45,1080.19 \n",
       "  \"/>\n",
       "<polyline clip-path=\"url(#clip400)\" style=\"stroke:#000000; stroke-linecap:butt; stroke-linejoin:round; stroke-width:4; stroke-opacity:1; fill:none\" points=\"\n",
       "  1886.21,1099.09 1886.21,1080.19 \n",
       "  \"/>\n",
       "<polyline clip-path=\"url(#clip400)\" style=\"stroke:#000000; stroke-linecap:butt; stroke-linejoin:round; stroke-width:4; stroke-opacity:1; fill:none\" points=\"\n",
       "  2319.98,1099.09 2319.98,1080.19 \n",
       "  \"/>\n",
       "<path clip-path=\"url(#clip400)\" d=\"M516.363 1144.66 L546.038 1144.66 L546.038 1148.59 L516.363 1148.59 L516.363 1144.66 Z\" fill=\"#000000\" fill-rule=\"evenodd\" fill-opacity=\"1\" /><path clip-path=\"url(#clip400)\" d=\"M566.131 1130.01 Q562.52 1130.01 560.691 1133.57 Q558.885 1137.11 558.885 1144.24 Q558.885 1151.35 560.691 1154.91 Q562.52 1158.46 566.131 1158.46 Q569.765 1158.46 571.571 1154.91 Q573.399 1151.35 573.399 1144.24 Q573.399 1137.11 571.571 1133.57 Q569.765 1130.01 566.131 1130.01 M566.131 1126.3 Q571.941 1126.3 574.996 1130.91 Q578.075 1135.49 578.075 1144.24 Q578.075 1152.97 574.996 1157.58 Q571.941 1162.16 566.131 1162.16 Q560.321 1162.16 557.242 1157.58 Q554.186 1152.97 554.186 1144.24 Q554.186 1135.49 557.242 1130.91 Q560.321 1126.3 566.131 1126.3 Z\" fill=\"#000000\" fill-rule=\"evenodd\" fill-opacity=\"1\" /><path clip-path=\"url(#clip400)\" d=\"M586.293 1155.61 L591.177 1155.61 L591.177 1161.49 L586.293 1161.49 L586.293 1155.61 Z\" fill=\"#000000\" fill-rule=\"evenodd\" fill-opacity=\"1\" /><path clip-path=\"url(#clip400)\" d=\"M601.408 1126.93 L619.765 1126.93 L619.765 1130.86 L605.691 1130.86 L605.691 1139.34 Q606.709 1138.99 607.728 1138.83 Q608.746 1138.64 609.765 1138.64 Q615.552 1138.64 618.931 1141.81 Q622.311 1144.98 622.311 1150.4 Q622.311 1155.98 618.839 1159.08 Q615.367 1162.16 609.047 1162.16 Q606.871 1162.16 604.603 1161.79 Q602.357 1161.42 599.95 1160.68 L599.95 1155.98 Q602.033 1157.11 604.256 1157.67 Q606.478 1158.22 608.955 1158.22 Q612.959 1158.22 615.297 1156.12 Q617.635 1154.01 617.635 1150.4 Q617.635 1146.79 615.297 1144.68 Q612.959 1142.58 608.955 1142.58 Q607.08 1142.58 605.205 1142.99 Q603.353 1143.41 601.408 1144.29 L601.408 1126.93 Z\" fill=\"#000000\" fill-rule=\"evenodd\" fill-opacity=\"1\" /><path clip-path=\"url(#clip400)\" d=\"M641.524 1130.01 Q637.913 1130.01 636.084 1133.57 Q634.279 1137.11 634.279 1144.24 Q634.279 1151.35 636.084 1154.91 Q637.913 1158.46 641.524 1158.46 Q645.158 1158.46 646.964 1154.91 Q648.792 1151.35 648.792 1144.24 Q648.792 1137.11 646.964 1133.57 Q645.158 1130.01 641.524 1130.01 M641.524 1126.3 Q647.334 1126.3 650.39 1130.91 Q653.468 1135.49 653.468 1144.24 Q653.468 1152.97 650.39 1157.58 Q647.334 1162.16 641.524 1162.16 Q635.714 1162.16 632.635 1157.58 Q629.58 1152.97 629.58 1144.24 Q629.58 1135.49 632.635 1130.91 Q635.714 1126.3 641.524 1126.3 Z\" fill=\"#000000\" fill-rule=\"evenodd\" fill-opacity=\"1\" /><path clip-path=\"url(#clip400)\" d=\"M950.625 1144.66 L980.301 1144.66 L980.301 1148.59 L950.625 1148.59 L950.625 1144.66 Z\" fill=\"#000000\" fill-rule=\"evenodd\" fill-opacity=\"1\" /><path clip-path=\"url(#clip400)\" d=\"M1000.39 1130.01 Q996.782 1130.01 994.954 1133.57 Q993.148 1137.11 993.148 1144.24 Q993.148 1151.35 994.954 1154.91 Q996.782 1158.46 1000.39 1158.46 Q1004.03 1158.46 1005.83 1154.91 Q1007.66 1151.35 1007.66 1144.24 Q1007.66 1137.11 1005.83 1133.57 Q1004.03 1130.01 1000.39 1130.01 M1000.39 1126.3 Q1006.2 1126.3 1009.26 1130.91 Q1012.34 1135.49 1012.34 1144.24 Q1012.34 1152.97 1009.26 1157.58 Q1006.2 1162.16 1000.39 1162.16 Q994.583 1162.16 991.505 1157.58 Q988.449 1152.97 988.449 1144.24 Q988.449 1135.49 991.505 1130.91 Q994.583 1126.3 1000.39 1126.3 Z\" fill=\"#000000\" fill-rule=\"evenodd\" fill-opacity=\"1\" /><path clip-path=\"url(#clip400)\" d=\"M1020.56 1155.61 L1025.44 1155.61 L1025.44 1161.49 L1020.56 1161.49 L1020.56 1155.61 Z\" fill=\"#000000\" fill-rule=\"evenodd\" fill-opacity=\"1\" /><path clip-path=\"url(#clip400)\" d=\"M1039.65 1157.55 L1055.97 1157.55 L1055.97 1161.49 L1034.03 1161.49 L1034.03 1157.55 Q1036.69 1154.8 1041.27 1150.17 Q1045.88 1145.52 1047.06 1144.17 Q1049.31 1141.65 1050.18 1139.91 Q1051.09 1138.15 1051.09 1136.46 Q1051.09 1133.71 1049.14 1131.97 Q1047.22 1130.24 1044.12 1130.24 Q1041.92 1130.24 1039.47 1131 Q1037.04 1131.77 1034.26 1133.32 L1034.26 1128.59 Q1037.08 1127.46 1039.54 1126.88 Q1041.99 1126.3 1044.03 1126.3 Q1049.4 1126.3 1052.59 1128.99 Q1055.79 1131.67 1055.79 1136.16 Q1055.79 1138.29 1054.98 1140.21 Q1054.19 1142.11 1052.08 1144.71 Q1051.5 1145.38 1048.4 1148.59 Q1045.3 1151.79 1039.65 1157.55 Z\" fill=\"#000000\" fill-rule=\"evenodd\" fill-opacity=\"1\" /><path clip-path=\"url(#clip400)\" d=\"M1065.83 1126.93 L1084.19 1126.93 L1084.19 1130.86 L1070.12 1130.86 L1070.12 1139.34 Q1071.13 1138.99 1072.15 1138.83 Q1073.17 1138.64 1074.19 1138.64 Q1079.98 1138.64 1083.36 1141.81 Q1086.74 1144.98 1086.74 1150.4 Q1086.74 1155.98 1083.26 1159.08 Q1079.79 1162.16 1073.47 1162.16 Q1071.3 1162.16 1069.03 1161.79 Q1066.78 1161.42 1064.37 1160.68 L1064.37 1155.98 Q1066.46 1157.11 1068.68 1157.67 Q1070.9 1158.22 1073.38 1158.22 Q1077.38 1158.22 1079.72 1156.12 Q1082.06 1154.01 1082.06 1150.4 Q1082.06 1146.79 1079.72 1144.68 Q1077.38 1142.58 1073.38 1142.58 Q1071.5 1142.58 1069.63 1142.99 Q1067.78 1143.41 1065.83 1144.29 L1065.83 1126.93 Z\" fill=\"#000000\" fill-rule=\"evenodd\" fill-opacity=\"1\" /><path clip-path=\"url(#clip400)\" d=\"M1414.75 1130.01 Q1411.14 1130.01 1409.31 1133.57 Q1407.5 1137.11 1407.5 1144.24 Q1407.5 1151.35 1409.31 1154.91 Q1411.14 1158.46 1414.75 1158.46 Q1418.38 1158.46 1420.19 1154.91 Q1422.02 1151.35 1422.02 1144.24 Q1422.02 1137.11 1420.19 1133.57 Q1418.38 1130.01 1414.75 1130.01 M1414.75 1126.3 Q1420.56 1126.3 1423.61 1130.91 Q1426.69 1135.49 1426.69 1144.24 Q1426.69 1152.97 1423.61 1157.58 Q1420.56 1162.16 1414.75 1162.16 Q1408.94 1162.16 1405.86 1157.58 Q1402.8 1152.97 1402.8 1144.24 Q1402.8 1135.49 1405.86 1130.91 Q1408.94 1126.3 1414.75 1126.3 Z\" fill=\"#000000\" fill-rule=\"evenodd\" fill-opacity=\"1\" /><path clip-path=\"url(#clip400)\" d=\"M1434.91 1155.61 L1439.8 1155.61 L1439.8 1161.49 L1434.91 1161.49 L1434.91 1155.61 Z\" fill=\"#000000\" fill-rule=\"evenodd\" fill-opacity=\"1\" /><path clip-path=\"url(#clip400)\" d=\"M1459.98 1130.01 Q1456.37 1130.01 1454.54 1133.57 Q1452.73 1137.11 1452.73 1144.24 Q1452.73 1151.35 1454.54 1154.91 Q1456.37 1158.46 1459.98 1158.46 Q1463.61 1158.46 1465.42 1154.91 Q1467.25 1151.35 1467.25 1144.24 Q1467.25 1137.11 1465.42 1133.57 Q1463.61 1130.01 1459.98 1130.01 M1459.98 1126.3 Q1465.79 1126.3 1468.85 1130.91 Q1471.92 1135.49 1471.92 1144.24 Q1471.92 1152.97 1468.85 1157.58 Q1465.79 1162.16 1459.98 1162.16 Q1454.17 1162.16 1451.09 1157.58 Q1448.04 1152.97 1448.04 1144.24 Q1448.04 1135.49 1451.09 1130.91 Q1454.17 1126.3 1459.98 1126.3 Z\" fill=\"#000000\" fill-rule=\"evenodd\" fill-opacity=\"1\" /><path clip-path=\"url(#clip400)\" d=\"M1490.14 1130.01 Q1486.53 1130.01 1484.7 1133.57 Q1482.9 1137.11 1482.9 1144.24 Q1482.9 1151.35 1484.7 1154.91 Q1486.53 1158.46 1490.14 1158.46 Q1493.78 1158.46 1495.58 1154.91 Q1497.41 1151.35 1497.41 1144.24 Q1497.41 1137.11 1495.58 1133.57 Q1493.78 1130.01 1490.14 1130.01 M1490.14 1126.3 Q1495.95 1126.3 1499.01 1130.91 Q1502.09 1135.49 1502.09 1144.24 Q1502.09 1152.97 1499.01 1157.58 Q1495.95 1162.16 1490.14 1162.16 Q1484.33 1162.16 1481.25 1157.58 Q1478.2 1152.97 1478.2 1144.24 Q1478.2 1135.49 1481.25 1130.91 Q1484.33 1126.3 1490.14 1126.3 Z\" fill=\"#000000\" fill-rule=\"evenodd\" fill-opacity=\"1\" /><path clip-path=\"url(#clip400)\" d=\"M1849.01 1130.01 Q1845.4 1130.01 1843.57 1133.57 Q1841.77 1137.11 1841.77 1144.24 Q1841.77 1151.35 1843.57 1154.91 Q1845.4 1158.46 1849.01 1158.46 Q1852.65 1158.46 1854.45 1154.91 Q1856.28 1151.35 1856.28 1144.24 Q1856.28 1137.11 1854.45 1133.57 Q1852.65 1130.01 1849.01 1130.01 M1849.01 1126.3 Q1854.82 1126.3 1857.88 1130.91 Q1860.96 1135.49 1860.96 1144.24 Q1860.96 1152.97 1857.88 1157.58 Q1854.82 1162.16 1849.01 1162.16 Q1843.2 1162.16 1840.12 1157.58 Q1837.07 1152.97 1837.07 1144.24 Q1837.07 1135.49 1840.12 1130.91 Q1843.2 1126.3 1849.01 1126.3 Z\" fill=\"#000000\" fill-rule=\"evenodd\" fill-opacity=\"1\" /><path clip-path=\"url(#clip400)\" d=\"M1869.17 1155.61 L1874.06 1155.61 L1874.06 1161.49 L1869.17 1161.49 L1869.17 1155.61 Z\" fill=\"#000000\" fill-rule=\"evenodd\" fill-opacity=\"1\" /><path clip-path=\"url(#clip400)\" d=\"M1888.27 1157.55 L1904.59 1157.55 L1904.59 1161.49 L1882.65 1161.49 L1882.65 1157.55 Q1885.31 1154.8 1889.89 1150.17 Q1894.5 1145.52 1895.68 1144.17 Q1897.92 1141.65 1898.8 1139.91 Q1899.71 1138.15 1899.71 1136.46 Q1899.71 1133.71 1897.76 1131.97 Q1895.84 1130.24 1892.74 1130.24 Q1890.54 1130.24 1888.09 1131 Q1885.65 1131.77 1882.88 1133.32 L1882.88 1128.59 Q1885.7 1127.46 1888.15 1126.88 Q1890.61 1126.3 1892.65 1126.3 Q1898.02 1126.3 1901.21 1128.99 Q1904.4 1131.67 1904.4 1136.16 Q1904.4 1138.29 1903.59 1140.21 Q1902.81 1142.11 1900.7 1144.71 Q1900.12 1145.38 1897.02 1148.59 Q1893.92 1151.79 1888.27 1157.55 Z\" fill=\"#000000\" fill-rule=\"evenodd\" fill-opacity=\"1\" /><path clip-path=\"url(#clip400)\" d=\"M1914.45 1126.93 L1932.81 1126.93 L1932.81 1130.86 L1918.73 1130.86 L1918.73 1139.34 Q1919.75 1138.99 1920.77 1138.83 Q1921.79 1138.64 1922.81 1138.64 Q1928.59 1138.64 1931.97 1141.81 Q1935.35 1144.98 1935.35 1150.4 Q1935.35 1155.98 1931.88 1159.08 Q1928.41 1162.16 1922.09 1162.16 Q1919.91 1162.16 1917.65 1161.79 Q1915.4 1161.42 1912.99 1160.68 L1912.99 1155.98 Q1915.08 1157.11 1917.3 1157.67 Q1919.52 1158.22 1922 1158.22 Q1926 1158.22 1928.34 1156.12 Q1930.68 1154.01 1930.68 1150.4 Q1930.68 1146.79 1928.34 1144.68 Q1926 1142.58 1922 1142.58 Q1920.12 1142.58 1918.25 1142.99 Q1916.4 1143.41 1914.45 1144.29 L1914.45 1126.93 Z\" fill=\"#000000\" fill-rule=\"evenodd\" fill-opacity=\"1\" /><path clip-path=\"url(#clip400)\" d=\"M2282.28 1130.01 Q2278.67 1130.01 2276.84 1133.57 Q2275.03 1137.11 2275.03 1144.24 Q2275.03 1151.35 2276.84 1154.91 Q2278.67 1158.46 2282.28 1158.46 Q2285.91 1158.46 2287.72 1154.91 Q2289.55 1151.35 2289.55 1144.24 Q2289.55 1137.11 2287.72 1133.57 Q2285.91 1130.01 2282.28 1130.01 M2282.28 1126.3 Q2288.09 1126.3 2291.14 1130.91 Q2294.22 1135.49 2294.22 1144.24 Q2294.22 1152.97 2291.14 1157.58 Q2288.09 1162.16 2282.28 1162.16 Q2276.47 1162.16 2273.39 1157.58 Q2270.33 1152.97 2270.33 1144.24 Q2270.33 1135.49 2273.39 1130.91 Q2276.47 1126.3 2282.28 1126.3 Z\" fill=\"#000000\" fill-rule=\"evenodd\" fill-opacity=\"1\" /><path clip-path=\"url(#clip400)\" d=\"M2302.44 1155.61 L2307.33 1155.61 L2307.33 1161.49 L2302.44 1161.49 L2302.44 1155.61 Z\" fill=\"#000000\" fill-rule=\"evenodd\" fill-opacity=\"1\" /><path clip-path=\"url(#clip400)\" d=\"M2317.56 1126.93 L2335.91 1126.93 L2335.91 1130.86 L2321.84 1130.86 L2321.84 1139.34 Q2322.86 1138.99 2323.88 1138.83 Q2324.89 1138.64 2325.91 1138.64 Q2331.7 1138.64 2335.08 1141.81 Q2338.46 1144.98 2338.46 1150.4 Q2338.46 1155.98 2334.99 1159.08 Q2331.51 1162.16 2325.2 1162.16 Q2323.02 1162.16 2320.75 1161.79 Q2318.51 1161.42 2316.1 1160.68 L2316.1 1155.98 Q2318.18 1157.11 2320.4 1157.67 Q2322.63 1158.22 2325.1 1158.22 Q2329.11 1158.22 2331.45 1156.12 Q2333.78 1154.01 2333.78 1150.4 Q2333.78 1146.79 2331.45 1144.68 Q2329.11 1142.58 2325.1 1142.58 Q2323.23 1142.58 2321.35 1142.99 Q2319.5 1143.41 2317.56 1144.29 L2317.56 1126.93 Z\" fill=\"#000000\" fill-rule=\"evenodd\" fill-opacity=\"1\" /><path clip-path=\"url(#clip400)\" d=\"M2357.67 1130.01 Q2354.06 1130.01 2352.23 1133.57 Q2350.43 1137.11 2350.43 1144.24 Q2350.43 1151.35 2352.23 1154.91 Q2354.06 1158.46 2357.67 1158.46 Q2361.31 1158.46 2363.11 1154.91 Q2364.94 1151.35 2364.94 1144.24 Q2364.94 1137.11 2363.11 1133.57 Q2361.31 1130.01 2357.67 1130.01 M2357.67 1126.3 Q2363.48 1126.3 2366.54 1130.91 Q2369.62 1135.49 2369.62 1144.24 Q2369.62 1152.97 2366.54 1157.58 Q2363.48 1162.16 2357.67 1162.16 Q2351.86 1162.16 2348.78 1157.58 Q2345.73 1152.97 2345.73 1144.24 Q2345.73 1135.49 2348.78 1130.91 Q2351.86 1126.3 2357.67 1126.3 Z\" fill=\"#000000\" fill-rule=\"evenodd\" fill-opacity=\"1\" /><polyline clip-path=\"url(#clip402)\" style=\"stroke:#000000; stroke-linecap:butt; stroke-linejoin:round; stroke-width:2; stroke-opacity:0.1; fill:none\" points=\"\n",
       "  192.941,968.413 2352.76,968.413 \n",
       "  \"/>\n",
       "<polyline clip-path=\"url(#clip402)\" style=\"stroke:#000000; stroke-linecap:butt; stroke-linejoin:round; stroke-width:2; stroke-opacity:0.1; fill:none\" points=\"\n",
       "  192.941,729.863 2352.76,729.863 \n",
       "  \"/>\n",
       "<polyline clip-path=\"url(#clip402)\" style=\"stroke:#000000; stroke-linecap:butt; stroke-linejoin:round; stroke-width:2; stroke-opacity:0.1; fill:none\" points=\"\n",
       "  192.941,491.314 2352.76,491.314 \n",
       "  \"/>\n",
       "<polyline clip-path=\"url(#clip402)\" style=\"stroke:#000000; stroke-linecap:butt; stroke-linejoin:round; stroke-width:2; stroke-opacity:0.1; fill:none\" points=\"\n",
       "  192.941,252.764 2352.76,252.764 \n",
       "  \"/>\n",
       "<polyline clip-path=\"url(#clip400)\" style=\"stroke:#000000; stroke-linecap:butt; stroke-linejoin:round; stroke-width:4; stroke-opacity:1; fill:none\" points=\"\n",
       "  192.941,1099.09 192.941,47.2441 \n",
       "  \"/>\n",
       "<polyline clip-path=\"url(#clip400)\" style=\"stroke:#000000; stroke-linecap:butt; stroke-linejoin:round; stroke-width:4; stroke-opacity:1; fill:none\" points=\"\n",
       "  192.941,968.413 211.838,968.413 \n",
       "  \"/>\n",
       "<polyline clip-path=\"url(#clip400)\" style=\"stroke:#000000; stroke-linecap:butt; stroke-linejoin:round; stroke-width:4; stroke-opacity:1; fill:none\" points=\"\n",
       "  192.941,729.863 211.838,729.863 \n",
       "  \"/>\n",
       "<polyline clip-path=\"url(#clip400)\" style=\"stroke:#000000; stroke-linecap:butt; stroke-linejoin:round; stroke-width:4; stroke-opacity:1; fill:none\" points=\"\n",
       "  192.941,491.314 211.838,491.314 \n",
       "  \"/>\n",
       "<polyline clip-path=\"url(#clip400)\" style=\"stroke:#000000; stroke-linecap:butt; stroke-linejoin:round; stroke-width:4; stroke-opacity:1; fill:none\" points=\"\n",
       "  192.941,252.764 211.838,252.764 \n",
       "  \"/>\n",
       "<path clip-path=\"url(#clip400)\" d=\"M50.9921 968.864 L80.6679 968.864 L80.6679 972.799 L50.9921 972.799 L50.9921 968.864 Z\" fill=\"#000000\" fill-rule=\"evenodd\" fill-opacity=\"1\" /><path clip-path=\"url(#clip400)\" d=\"M100.76 954.211 Q97.1493 954.211 95.3206 957.776 Q93.515 961.318 93.515 968.447 Q93.515 975.554 95.3206 979.119 Q97.1493 982.66 100.76 982.66 Q104.395 982.66 106.2 979.119 Q108.029 975.554 108.029 968.447 Q108.029 961.318 106.2 957.776 Q104.395 954.211 100.76 954.211 M100.76 950.508 Q106.571 950.508 109.626 955.114 Q112.705 959.697 112.705 968.447 Q112.705 977.174 109.626 981.781 Q106.571 986.364 100.76 986.364 Q94.9502 986.364 91.8715 981.781 Q88.816 977.174 88.816 968.447 Q88.816 959.697 91.8715 955.114 Q94.9502 950.508 100.76 950.508 Z\" fill=\"#000000\" fill-rule=\"evenodd\" fill-opacity=\"1\" /><path clip-path=\"url(#clip400)\" d=\"M120.922 979.813 L125.807 979.813 L125.807 985.693 L120.922 985.693 L120.922 979.813 Z\" fill=\"#000000\" fill-rule=\"evenodd\" fill-opacity=\"1\" /><path clip-path=\"url(#clip400)\" d=\"M136.038 951.133 L154.394 951.133 L154.394 955.068 L140.32 955.068 L140.32 963.54 Q141.339 963.193 142.357 963.031 Q143.376 962.845 144.394 962.845 Q150.181 962.845 153.561 966.017 Q156.941 969.188 156.941 974.605 Q156.941 980.183 153.468 983.285 Q149.996 986.364 143.677 986.364 Q141.501 986.364 139.232 985.993 Q136.987 985.623 134.58 984.882 L134.58 980.183 Q136.663 981.318 138.885 981.873 Q141.107 982.429 143.584 982.429 Q147.589 982.429 149.927 980.322 Q152.265 978.216 152.265 974.605 Q152.265 970.994 149.927 968.887 Q147.589 966.781 143.584 966.781 Q141.709 966.781 139.834 967.197 Q137.982 967.614 136.038 968.494 L136.038 951.133 Z\" fill=\"#000000\" fill-rule=\"evenodd\" fill-opacity=\"1\" /><path clip-path=\"url(#clip400)\" d=\"M99.765 715.662 Q96.1539 715.662 94.3252 719.227 Q92.5197 722.768 92.5197 729.898 Q92.5197 737.004 94.3252 740.569 Q96.1539 744.111 99.765 744.111 Q103.399 744.111 105.205 740.569 Q107.033 737.004 107.033 729.898 Q107.033 722.768 105.205 719.227 Q103.399 715.662 99.765 715.662 M99.765 711.958 Q105.575 711.958 108.631 716.565 Q111.709 721.148 111.709 729.898 Q111.709 738.625 108.631 743.231 Q105.575 747.814 99.765 747.814 Q93.9549 747.814 90.8762 743.231 Q87.8206 738.625 87.8206 729.898 Q87.8206 721.148 90.8762 716.565 Q93.9549 711.958 99.765 711.958 Z\" fill=\"#000000\" fill-rule=\"evenodd\" fill-opacity=\"1\" /><path clip-path=\"url(#clip400)\" d=\"M119.927 741.263 L124.811 741.263 L124.811 747.143 L119.927 747.143 L119.927 741.263 Z\" fill=\"#000000\" fill-rule=\"evenodd\" fill-opacity=\"1\" /><path clip-path=\"url(#clip400)\" d=\"M144.996 715.662 Q141.385 715.662 139.556 719.227 Q137.751 722.768 137.751 729.898 Q137.751 737.004 139.556 740.569 Q141.385 744.111 144.996 744.111 Q148.63 744.111 150.436 740.569 Q152.265 737.004 152.265 729.898 Q152.265 722.768 150.436 719.227 Q148.63 715.662 144.996 715.662 M144.996 711.958 Q150.806 711.958 153.862 716.565 Q156.941 721.148 156.941 729.898 Q156.941 738.625 153.862 743.231 Q150.806 747.814 144.996 747.814 Q139.186 747.814 136.107 743.231 Q133.052 738.625 133.052 729.898 Q133.052 721.148 136.107 716.565 Q139.186 711.958 144.996 711.958 Z\" fill=\"#000000\" fill-rule=\"evenodd\" fill-opacity=\"1\" /><path clip-path=\"url(#clip400)\" d=\"M100.76 477.112 Q97.1493 477.112 95.3206 480.677 Q93.515 484.219 93.515 491.348 Q93.515 498.455 95.3206 502.02 Q97.1493 505.561 100.76 505.561 Q104.395 505.561 106.2 502.02 Q108.029 498.455 108.029 491.348 Q108.029 484.219 106.2 480.677 Q104.395 477.112 100.76 477.112 M100.76 473.409 Q106.571 473.409 109.626 478.015 Q112.705 482.598 112.705 491.348 Q112.705 500.075 109.626 504.682 Q106.571 509.265 100.76 509.265 Q94.9502 509.265 91.8715 504.682 Q88.816 500.075 88.816 491.348 Q88.816 482.598 91.8715 478.015 Q94.9502 473.409 100.76 473.409 Z\" fill=\"#000000\" fill-rule=\"evenodd\" fill-opacity=\"1\" /><path clip-path=\"url(#clip400)\" d=\"M120.922 502.714 L125.807 502.714 L125.807 508.594 L120.922 508.594 L120.922 502.714 Z\" fill=\"#000000\" fill-rule=\"evenodd\" fill-opacity=\"1\" /><path clip-path=\"url(#clip400)\" d=\"M136.038 474.034 L154.394 474.034 L154.394 477.969 L140.32 477.969 L140.32 486.441 Q141.339 486.094 142.357 485.932 Q143.376 485.746 144.394 485.746 Q150.181 485.746 153.561 488.918 Q156.941 492.089 156.941 497.506 Q156.941 503.084 153.468 506.186 Q149.996 509.265 143.677 509.265 Q141.501 509.265 139.232 508.895 Q136.987 508.524 134.58 507.783 L134.58 503.084 Q136.663 504.219 138.885 504.774 Q141.107 505.33 143.584 505.33 Q147.589 505.33 149.927 503.223 Q152.265 501.117 152.265 497.506 Q152.265 493.895 149.927 491.788 Q147.589 489.682 143.584 489.682 Q141.709 489.682 139.834 490.098 Q137.982 490.515 136.038 491.395 L136.038 474.034 Z\" fill=\"#000000\" fill-rule=\"evenodd\" fill-opacity=\"1\" /><path clip-path=\"url(#clip400)\" d=\"M90.5752 266.109 L98.2141 266.109 L98.2141 239.743 L89.904 241.41 L89.904 237.151 L98.1678 235.484 L102.844 235.484 L102.844 266.109 L110.483 266.109 L110.483 270.044 L90.5752 270.044 L90.5752 266.109 Z\" fill=\"#000000\" fill-rule=\"evenodd\" fill-opacity=\"1\" /><path clip-path=\"url(#clip400)\" d=\"M119.927 264.165 L124.811 264.165 L124.811 270.044 L119.927 270.044 L119.927 264.165 Z\" fill=\"#000000\" fill-rule=\"evenodd\" fill-opacity=\"1\" /><path clip-path=\"url(#clip400)\" d=\"M144.996 238.563 Q141.385 238.563 139.556 242.128 Q137.751 245.669 137.751 252.799 Q137.751 259.905 139.556 263.47 Q141.385 267.012 144.996 267.012 Q148.63 267.012 150.436 263.47 Q152.265 259.905 152.265 252.799 Q152.265 245.669 150.436 242.128 Q148.63 238.563 144.996 238.563 M144.996 234.859 Q150.806 234.859 153.862 239.466 Q156.941 244.049 156.941 252.799 Q156.941 261.526 153.862 266.132 Q150.806 270.715 144.996 270.715 Q139.186 270.715 136.107 266.132 Q133.052 261.526 133.052 252.799 Q133.052 244.049 136.107 239.466 Q139.186 234.859 144.996 234.859 Z\" fill=\"#000000\" fill-rule=\"evenodd\" fill-opacity=\"1\" /><circle clip-path=\"url(#clip402)\" cx=\"1360.04\" cy=\"707.073\" r=\"14\" fill=\"#cd5c5c\" fill-rule=\"evenodd\" fill-opacity=\"1\" stroke=\"#000000\" stroke-opacity=\"1\" stroke-width=\"2.4\"/>\n",
       "<circle clip-path=\"url(#clip402)\" cx=\"1350.04\" cy=\"819.912\" r=\"14\" fill=\"#cd5c5c\" fill-rule=\"evenodd\" fill-opacity=\"1\" stroke=\"#000000\" stroke-opacity=\"1\" stroke-width=\"2.4\"/>\n",
       "<circle clip-path=\"url(#clip402)\" cx=\"1433.37\" cy=\"715.008\" r=\"14\" fill=\"#cd5c5c\" fill-rule=\"evenodd\" fill-opacity=\"1\" stroke=\"#000000\" stroke-opacity=\"1\" stroke-width=\"2.4\"/>\n",
       "<circle clip-path=\"url(#clip402)\" cx=\"1342.69\" cy=\"784.436\" r=\"14\" fill=\"#cd5c5c\" fill-rule=\"evenodd\" fill-opacity=\"1\" stroke=\"#000000\" stroke-opacity=\"1\" stroke-width=\"2.4\"/>\n",
       "<circle clip-path=\"url(#clip402)\" cx=\"1391.44\" cy=\"955.59\" r=\"14\" fill=\"#cd5c5c\" fill-rule=\"evenodd\" fill-opacity=\"1\" stroke=\"#000000\" stroke-opacity=\"1\" stroke-width=\"2.4\"/>\n",
       "<circle clip-path=\"url(#clip402)\" cx=\"1427.04\" cy=\"958.307\" r=\"14\" fill=\"#cd5c5c\" fill-rule=\"evenodd\" fill-opacity=\"1\" stroke=\"#000000\" stroke-opacity=\"1\" stroke-width=\"2.4\"/>\n",
       "<circle clip-path=\"url(#clip402)\" cx=\"382.016\" cy=\"590.723\" r=\"14\" fill=\"#cd5c5c\" fill-rule=\"evenodd\" fill-opacity=\"1\" stroke=\"#000000\" stroke-opacity=\"1\" stroke-width=\"2.4\"/>\n",
       "<circle clip-path=\"url(#clip402)\" cx=\"544.613\" cy=\"77.0133\" r=\"14\" fill=\"#cd5c5c\" fill-rule=\"evenodd\" fill-opacity=\"1\" stroke=\"#000000\" stroke-opacity=\"1\" stroke-width=\"2.4\"/>\n",
       "<circle clip-path=\"url(#clip402)\" cx=\"1241.29\" cy=\"632.239\" r=\"14\" fill=\"#cd5c5c\" fill-rule=\"evenodd\" fill-opacity=\"1\" stroke=\"#000000\" stroke-opacity=\"1\" stroke-width=\"2.4\"/>\n",
       "<circle clip-path=\"url(#clip402)\" cx=\"1894.94\" cy=\"1069.32\" r=\"14\" fill=\"#cd5c5c\" fill-rule=\"evenodd\" fill-opacity=\"1\" stroke=\"#000000\" stroke-opacity=\"1\" stroke-width=\"2.4\"/>\n",
       "<circle clip-path=\"url(#clip402)\" cx=\"1365.87\" cy=\"690.722\" r=\"14\" fill=\"#cd5c5c\" fill-rule=\"evenodd\" fill-opacity=\"1\" stroke=\"#000000\" stroke-opacity=\"1\" stroke-width=\"2.4\"/>\n",
       "<circle clip-path=\"url(#clip402)\" cx=\"1021.14\" cy=\"866.006\" r=\"14\" fill=\"#cd5c5c\" fill-rule=\"evenodd\" fill-opacity=\"1\" stroke=\"#000000\" stroke-opacity=\"1\" stroke-width=\"2.4\"/>\n",
       "<circle clip-path=\"url(#clip402)\" cx=\"2208.25\" cy=\"524.921\" r=\"14\" fill=\"#cd5c5c\" fill-rule=\"evenodd\" fill-opacity=\"1\" stroke=\"#000000\" stroke-opacity=\"1\" stroke-width=\"2.4\"/>\n",
       "<circle clip-path=\"url(#clip402)\" cx=\"1808.19\" cy=\"566.537\" r=\"14\" fill=\"#cd5c5c\" fill-rule=\"evenodd\" fill-opacity=\"1\" stroke=\"#000000\" stroke-opacity=\"1\" stroke-width=\"2.4\"/>\n",
       "<circle clip-path=\"url(#clip402)\" cx=\"1094.84\" cy=\"765.948\" r=\"14\" fill=\"#cd5c5c\" fill-rule=\"evenodd\" fill-opacity=\"1\" stroke=\"#000000\" stroke-opacity=\"1\" stroke-width=\"2.4\"/>\n",
       "<circle clip-path=\"url(#clip402)\" cx=\"2013.96\" cy=\"837.163\" r=\"14\" fill=\"#cd5c5c\" fill-rule=\"evenodd\" fill-opacity=\"1\" stroke=\"#000000\" stroke-opacity=\"1\" stroke-width=\"2.4\"/>\n",
       "<circle clip-path=\"url(#clip402)\" cx=\"1382.38\" cy=\"860.98\" r=\"14\" fill=\"#cd5c5c\" fill-rule=\"evenodd\" fill-opacity=\"1\" stroke=\"#000000\" stroke-opacity=\"1\" stroke-width=\"2.4\"/>\n",
       "<circle clip-path=\"url(#clip402)\" cx=\"1277.2\" cy=\"771.675\" r=\"14\" fill=\"#cd5c5c\" fill-rule=\"evenodd\" fill-opacity=\"1\" stroke=\"#000000\" stroke-opacity=\"1\" stroke-width=\"2.4\"/>\n",
       "<circle clip-path=\"url(#clip402)\" cx=\"1486.18\" cy=\"755.119\" r=\"14\" fill=\"#cd5c5c\" fill-rule=\"evenodd\" fill-opacity=\"1\" stroke=\"#000000\" stroke-opacity=\"1\" stroke-width=\"2.4\"/>\n",
       "<circle clip-path=\"url(#clip402)\" cx=\"1804.57\" cy=\"904.162\" r=\"14\" fill=\"#cd5c5c\" fill-rule=\"evenodd\" fill-opacity=\"1\" stroke=\"#000000\" stroke-opacity=\"1\" stroke-width=\"2.4\"/>\n",
       "<circle clip-path=\"url(#clip402)\" cx=\"1687.99\" cy=\"833.553\" r=\"14\" fill=\"#cd5c5c\" fill-rule=\"evenodd\" fill-opacity=\"1\" stroke=\"#000000\" stroke-opacity=\"1\" stroke-width=\"2.4\"/>\n",
       "<circle clip-path=\"url(#clip402)\" cx=\"1747.67\" cy=\"639.712\" r=\"14\" fill=\"#cd5c5c\" fill-rule=\"evenodd\" fill-opacity=\"1\" stroke=\"#000000\" stroke-opacity=\"1\" stroke-width=\"2.4\"/>\n",
       "<circle clip-path=\"url(#clip402)\" cx=\"1402.19\" cy=\"973.447\" r=\"14\" fill=\"#cd5c5c\" fill-rule=\"evenodd\" fill-opacity=\"1\" stroke=\"#000000\" stroke-opacity=\"1\" stroke-width=\"2.4\"/>\n",
       "<circle clip-path=\"url(#clip402)\" cx=\"1316.06\" cy=\"732.407\" r=\"14\" fill=\"#cd5c5c\" fill-rule=\"evenodd\" fill-opacity=\"1\" stroke=\"#000000\" stroke-opacity=\"1\" stroke-width=\"2.4\"/>\n",
       "<circle clip-path=\"url(#clip402)\" cx=\"848.522\" cy=\"584.145\" r=\"14\" fill=\"#4682b4\" fill-rule=\"evenodd\" fill-opacity=\"1\" stroke=\"#000000\" stroke-opacity=\"1\" stroke-width=\"2.4\"/>\n",
       "<circle clip-path=\"url(#clip402)\" cx=\"2272.04\" cy=\"633.489\" r=\"14\" fill=\"#4682b4\" fill-rule=\"evenodd\" fill-opacity=\"1\" stroke=\"#000000\" stroke-opacity=\"1\" stroke-width=\"2.4\"/>\n",
       "<circle clip-path=\"url(#clip402)\" cx=\"1313.27\" cy=\"844.467\" r=\"14\" fill=\"#4682b4\" fill-rule=\"evenodd\" fill-opacity=\"1\" stroke=\"#000000\" stroke-opacity=\"1\" stroke-width=\"2.4\"/>\n",
       "<circle clip-path=\"url(#clip402)\" cx=\"1865\" cy=\"862.456\" r=\"14\" fill=\"#4682b4\" fill-rule=\"evenodd\" fill-opacity=\"1\" stroke=\"#000000\" stroke-opacity=\"1\" stroke-width=\"2.4\"/>\n",
       "<circle clip-path=\"url(#clip402)\" cx=\"848.68\" cy=\"820.07\" r=\"14\" fill=\"#4682b4\" fill-rule=\"evenodd\" fill-opacity=\"1\" stroke=\"#000000\" stroke-opacity=\"1\" stroke-width=\"2.4\"/>\n",
       "<circle clip-path=\"url(#clip402)\" cx=\"2252.83\" cy=\"784.212\" r=\"14\" fill=\"#4682b4\" fill-rule=\"evenodd\" fill-opacity=\"1\" stroke=\"#000000\" stroke-opacity=\"1\" stroke-width=\"2.4\"/>\n",
       "<circle clip-path=\"url(#clip402)\" cx=\"1095.29\" cy=\"800.197\" r=\"14\" fill=\"#4682b4\" fill-rule=\"evenodd\" fill-opacity=\"1\" stroke=\"#000000\" stroke-opacity=\"1\" stroke-width=\"2.4\"/>\n",
       "<circle clip-path=\"url(#clip402)\" cx=\"1185.02\" cy=\"712.184\" r=\"14\" fill=\"#4682b4\" fill-rule=\"evenodd\" fill-opacity=\"1\" stroke=\"#000000\" stroke-opacity=\"1\" stroke-width=\"2.4\"/>\n",
       "<circle clip-path=\"url(#clip402)\" cx=\"1021.43\" cy=\"582.956\" r=\"14\" fill=\"#4682b4\" fill-rule=\"evenodd\" fill-opacity=\"1\" stroke=\"#000000\" stroke-opacity=\"1\" stroke-width=\"2.4\"/>\n",
       "<circle clip-path=\"url(#clip402)\" cx=\"889.069\" cy=\"674.525\" r=\"14\" fill=\"#4682b4\" fill-rule=\"evenodd\" fill-opacity=\"1\" stroke=\"#000000\" stroke-opacity=\"1\" stroke-width=\"2.4\"/>\n",
       "<circle clip-path=\"url(#clip402)\" cx=\"1576.54\" cy=\"303.634\" r=\"14\" fill=\"#4682b4\" fill-rule=\"evenodd\" fill-opacity=\"1\" stroke=\"#000000\" stroke-opacity=\"1\" stroke-width=\"2.4\"/>\n",
       "<circle clip-path=\"url(#clip402)\" cx=\"1488.92\" cy=\"841.843\" r=\"14\" fill=\"#4682b4\" fill-rule=\"evenodd\" fill-opacity=\"1\" stroke=\"#000000\" stroke-opacity=\"1\" stroke-width=\"2.4\"/>\n",
       "<circle clip-path=\"url(#clip402)\" cx=\"1683.41\" cy=\"767.48\" r=\"14\" fill=\"#4682b4\" fill-rule=\"evenodd\" fill-opacity=\"1\" stroke=\"#000000\" stroke-opacity=\"1\" stroke-width=\"2.4\"/>\n",
       "<circle clip-path=\"url(#clip402)\" cx=\"1233.55\" cy=\"561.015\" r=\"14\" fill=\"#4682b4\" fill-rule=\"evenodd\" fill-opacity=\"1\" stroke=\"#000000\" stroke-opacity=\"1\" stroke-width=\"2.4\"/>\n",
       "<circle clip-path=\"url(#clip402)\" cx=\"2186.49\" cy=\"849.352\" r=\"14\" fill=\"#4682b4\" fill-rule=\"evenodd\" fill-opacity=\"1\" stroke=\"#000000\" stroke-opacity=\"1\" stroke-width=\"2.4\"/>\n",
       "<circle clip-path=\"url(#clip402)\" cx=\"774.175\" cy=\"713.04\" r=\"14\" fill=\"#4682b4\" fill-rule=\"evenodd\" fill-opacity=\"1\" stroke=\"#000000\" stroke-opacity=\"1\" stroke-width=\"2.4\"/>\n",
       "<circle clip-path=\"url(#clip402)\" cx=\"2177.98\" cy=\"692.752\" r=\"14\" fill=\"#4682b4\" fill-rule=\"evenodd\" fill-opacity=\"1\" stroke=\"#000000\" stroke-opacity=\"1\" stroke-width=\"2.4\"/>\n",
       "<circle clip-path=\"url(#clip402)\" cx=\"1991.02\" cy=\"716.094\" r=\"14\" fill=\"#4682b4\" fill-rule=\"evenodd\" fill-opacity=\"1\" stroke=\"#000000\" stroke-opacity=\"1\" stroke-width=\"2.4\"/>\n",
       "<circle clip-path=\"url(#clip402)\" cx=\"1175.15\" cy=\"654.159\" r=\"14\" fill=\"#4682b4\" fill-rule=\"evenodd\" fill-opacity=\"1\" stroke=\"#000000\" stroke-opacity=\"1\" stroke-width=\"2.4\"/>\n",
       "<circle clip-path=\"url(#clip402)\" cx=\"2021.08\" cy=\"724.624\" r=\"14\" fill=\"#4682b4\" fill-rule=\"evenodd\" fill-opacity=\"1\" stroke=\"#000000\" stroke-opacity=\"1\" stroke-width=\"2.4\"/>\n",
       "<circle clip-path=\"url(#clip402)\" cx=\"1076.54\" cy=\"781.373\" r=\"14\" fill=\"#4682b4\" fill-rule=\"evenodd\" fill-opacity=\"1\" stroke=\"#000000\" stroke-opacity=\"1\" stroke-width=\"2.4\"/>\n",
       "<circle clip-path=\"url(#clip402)\" cx=\"2291.63\" cy=\"826.355\" r=\"14\" fill=\"#4682b4\" fill-rule=\"evenodd\" fill-opacity=\"1\" stroke=\"#000000\" stroke-opacity=\"1\" stroke-width=\"2.4\"/>\n",
       "<circle clip-path=\"url(#clip402)\" cx=\"712.184\" cy=\"623.594\" r=\"14\" fill=\"#4682b4\" fill-rule=\"evenodd\" fill-opacity=\"1\" stroke=\"#000000\" stroke-opacity=\"1\" stroke-width=\"2.4\"/>\n",
       "<circle clip-path=\"url(#clip402)\" cx=\"2157.32\" cy=\"845.113\" r=\"14\" fill=\"#4682b4\" fill-rule=\"evenodd\" fill-opacity=\"1\" stroke=\"#000000\" stroke-opacity=\"1\" stroke-width=\"2.4\"/>\n",
       "<circle clip-path=\"url(#clip402)\" cx=\"2247.12\" cy=\"622.254\" r=\"14\" fill=\"#4682b4\" fill-rule=\"evenodd\" fill-opacity=\"1\" stroke=\"#000000\" stroke-opacity=\"1\" stroke-width=\"2.4\"/>\n",
       "<circle clip-path=\"url(#clip402)\" cx=\"254.067\" cy=\"639.797\" r=\"14\" fill=\"#4682b4\" fill-rule=\"evenodd\" fill-opacity=\"1\" stroke=\"#000000\" stroke-opacity=\"1\" stroke-width=\"2.4\"/>\n",
       "<path clip-path=\"url(#clip400)\" d=\"\n",
       "M1886.85 237.826 L2280.76 237.826 L2280.76 82.3056 L1886.85 82.3056  Z\n",
       "  \" fill=\"#ffffff\" fill-rule=\"evenodd\" fill-opacity=\"1\"/>\n",
       "<polyline clip-path=\"url(#clip400)\" style=\"stroke:#000000; stroke-linecap:butt; stroke-linejoin:round; stroke-width:4; stroke-opacity:1; fill:none\" points=\"\n",
       "  1886.85,237.826 2280.76,237.826 2280.76,82.3056 1886.85,82.3056 1886.85,237.826 \n",
       "  \"/>\n",
       "<circle clip-path=\"url(#clip400)\" cx=\"1982.84\" cy=\"134.146\" r=\"23\" fill=\"#cd5c5c\" fill-rule=\"evenodd\" fill-opacity=\"1\" stroke=\"#000000\" stroke-opacity=\"1\" stroke-width=\"3.84\"/>\n",
       "<path clip-path=\"url(#clip400)\" d=\"M2106.7 119.528 L2106.7 124.458 Q2104.34 122.259 2101.66 121.171 Q2098.99 120.083 2095.98 120.083 Q2090.06 120.083 2086.91 123.717 Q2083.76 127.328 2083.76 134.18 Q2083.76 141.009 2086.91 144.643 Q2090.06 148.254 2095.98 148.254 Q2098.99 148.254 2101.66 147.166 Q2104.34 146.078 2106.7 143.879 L2106.7 148.764 Q2104.25 150.43 2101.49 151.264 Q2098.76 152.097 2095.71 152.097 Q2087.86 152.097 2083.35 147.305 Q2078.83 142.49 2078.83 134.18 Q2078.83 125.847 2083.35 121.055 Q2087.86 116.241 2095.71 116.241 Q2098.81 116.241 2101.54 117.074 Q2104.29 117.884 2106.7 119.528 Z\" fill=\"#000000\" fill-rule=\"evenodd\" fill-opacity=\"1\" /><path clip-path=\"url(#clip400)\" d=\"M2123.79 128.486 Q2120.36 128.486 2118.37 131.171 Q2116.38 133.833 2116.38 138.486 Q2116.38 143.139 2118.35 145.824 Q2120.34 148.486 2123.79 148.486 Q2127.19 148.486 2129.18 145.801 Q2131.17 143.115 2131.17 138.486 Q2131.17 133.879 2129.18 131.194 Q2127.19 128.486 2123.79 128.486 M2123.79 124.875 Q2129.34 124.875 2132.51 128.486 Q2135.68 132.097 2135.68 138.486 Q2135.68 144.852 2132.51 148.486 Q2129.34 152.097 2123.79 152.097 Q2118.21 152.097 2115.04 148.486 Q2111.89 144.852 2111.89 138.486 Q2111.89 132.097 2115.04 128.486 Q2118.21 124.875 2123.79 124.875 Z\" fill=\"#000000\" fill-rule=\"evenodd\" fill-opacity=\"1\" /><path clip-path=\"url(#clip400)\" d=\"M2154.53 138.393 Q2149.36 138.393 2147.37 139.574 Q2145.38 140.754 2145.38 143.602 Q2145.38 145.87 2146.86 147.213 Q2148.37 148.532 2150.94 148.532 Q2154.48 148.532 2156.61 146.032 Q2158.76 143.509 2158.76 139.342 L2158.76 138.393 L2154.53 138.393 M2163.02 136.634 L2163.02 151.426 L2158.76 151.426 L2158.76 147.49 Q2157.3 149.851 2155.13 150.986 Q2152.95 152.097 2149.8 152.097 Q2145.82 152.097 2143.46 149.875 Q2141.12 147.629 2141.12 143.879 Q2141.12 139.504 2144.04 137.282 Q2146.98 135.06 2152.79 135.06 L2158.76 135.06 L2158.76 134.643 Q2158.76 131.703 2156.82 130.106 Q2154.9 128.486 2151.4 128.486 Q2149.18 128.486 2147.07 129.018 Q2144.97 129.551 2143.02 130.615 L2143.02 126.68 Q2145.36 125.778 2147.56 125.338 Q2149.76 124.875 2151.84 124.875 Q2157.47 124.875 2160.24 127.791 Q2163.02 130.708 2163.02 136.634 Z\" fill=\"#000000\" fill-rule=\"evenodd\" fill-opacity=\"1\" /><path clip-path=\"url(#clip400)\" d=\"M2176.01 118.139 L2176.01 125.5 L2184.78 125.5 L2184.78 128.81 L2176.01 128.81 L2176.01 142.884 Q2176.01 146.055 2176.86 146.958 Q2177.74 147.861 2180.41 147.861 L2184.78 147.861 L2184.78 151.426 L2180.41 151.426 Q2175.47 151.426 2173.6 149.597 Q2171.72 147.745 2171.72 142.884 L2171.72 128.81 L2168.6 128.81 L2168.6 125.5 L2171.72 125.5 L2171.72 118.139 L2176.01 118.139 Z\" fill=\"#000000\" fill-rule=\"evenodd\" fill-opacity=\"1\" /><circle clip-path=\"url(#clip400)\" cx=\"1982.84\" cy=\"185.986\" r=\"23\" fill=\"#4682b4\" fill-rule=\"evenodd\" fill-opacity=\"1\" stroke=\"#000000\" stroke-opacity=\"1\" stroke-width=\"3.84\"/>\n",
       "<path clip-path=\"url(#clip400)\" d=\"M2101.08 169.84 L2101.08 174.4 Q2098.42 173.127 2096.05 172.502 Q2093.69 171.877 2091.49 171.877 Q2087.67 171.877 2085.59 173.358 Q2083.53 174.84 2083.53 177.571 Q2083.53 179.863 2084.9 181.043 Q2086.29 182.201 2090.13 182.918 L2092.95 183.497 Q2098.18 184.493 2100.66 187.016 Q2103.16 189.516 2103.16 193.729 Q2103.16 198.752 2099.78 201.344 Q2096.42 203.937 2089.92 203.937 Q2087.47 203.937 2084.69 203.381 Q2081.93 202.826 2078.97 201.738 L2078.97 196.923 Q2081.82 198.52 2084.55 199.33 Q2087.28 200.141 2089.92 200.141 Q2093.92 200.141 2096.1 198.567 Q2098.28 196.992 2098.28 194.076 Q2098.28 191.53 2096.7 190.094 Q2095.15 188.659 2091.59 187.942 L2088.74 187.386 Q2083.51 186.344 2081.17 184.122 Q2078.83 181.9 2078.83 177.942 Q2078.83 173.358 2082.05 170.719 Q2085.29 168.081 2090.96 168.081 Q2093.39 168.081 2095.92 168.52 Q2098.44 168.96 2101.08 169.84 Z\" fill=\"#000000\" fill-rule=\"evenodd\" fill-opacity=\"1\" /><path clip-path=\"url(#clip400)\" d=\"M2122.05 190.233 Q2116.89 190.233 2114.9 191.414 Q2112.91 192.594 2112.91 195.442 Q2112.91 197.71 2114.39 199.053 Q2115.89 200.372 2118.46 200.372 Q2122 200.372 2124.13 197.872 Q2126.29 195.349 2126.29 191.182 L2126.29 190.233 L2122.05 190.233 M2130.54 188.474 L2130.54 203.266 L2126.29 203.266 L2126.29 199.33 Q2124.83 201.691 2122.65 202.826 Q2120.48 203.937 2117.33 203.937 Q2113.35 203.937 2110.98 201.715 Q2108.65 199.469 2108.65 195.719 Q2108.65 191.344 2111.56 189.122 Q2114.5 186.9 2120.31 186.9 L2126.29 186.9 L2126.29 186.483 Q2126.29 183.543 2124.34 181.946 Q2122.42 180.326 2118.92 180.326 Q2116.7 180.326 2114.6 180.858 Q2112.49 181.391 2110.54 182.455 L2110.54 178.52 Q2112.88 177.618 2115.08 177.178 Q2117.28 176.715 2119.36 176.715 Q2124.99 176.715 2127.77 179.631 Q2130.54 182.548 2130.54 188.474 Z\" fill=\"#000000\" fill-rule=\"evenodd\" fill-opacity=\"1\" /><path clip-path=\"url(#clip400)\" d=\"M2160.87 187.617 L2160.87 203.266 L2156.61 203.266 L2156.61 187.756 Q2156.61 184.076 2155.17 182.247 Q2153.74 180.418 2150.87 180.418 Q2147.42 180.418 2145.43 182.618 Q2143.44 184.817 2143.44 188.613 L2143.44 203.266 L2139.16 203.266 L2139.16 177.34 L2143.44 177.34 L2143.44 181.368 Q2144.97 179.03 2147.03 177.872 Q2149.11 176.715 2151.82 176.715 Q2156.29 176.715 2158.58 179.493 Q2160.87 182.247 2160.87 187.617 Z\" fill=\"#000000\" fill-rule=\"evenodd\" fill-opacity=\"1\" /><path clip-path=\"url(#clip400)\" d=\"M2186.42 181.275 L2186.42 167.247 L2190.68 167.247 L2190.68 203.266 L2186.42 203.266 L2186.42 199.377 Q2185.08 201.691 2183.02 202.826 Q2180.98 203.937 2178.11 203.937 Q2173.41 203.937 2170.45 200.187 Q2167.51 196.437 2167.51 190.326 Q2167.51 184.215 2170.45 180.465 Q2173.41 176.715 2178.11 176.715 Q2180.98 176.715 2183.02 177.849 Q2185.08 178.96 2186.42 181.275 M2171.91 190.326 Q2171.91 195.025 2173.83 197.71 Q2175.78 200.372 2179.16 200.372 Q2182.53 200.372 2184.48 197.71 Q2186.42 195.025 2186.42 190.326 Q2186.42 185.627 2184.48 182.965 Q2182.53 180.28 2179.16 180.28 Q2175.78 180.28 2173.83 182.965 Q2171.91 185.627 2171.91 190.326 Z\" fill=\"#000000\" fill-rule=\"evenodd\" fill-opacity=\"1\" /><path clip-path=\"url(#clip400)\" d=\"M2211.24 190.233 Q2206.08 190.233 2204.09 191.414 Q2202.1 192.594 2202.1 195.442 Q2202.1 197.71 2203.58 199.053 Q2205.08 200.372 2207.65 200.372 Q2211.19 200.372 2213.32 197.872 Q2215.47 195.349 2215.47 191.182 L2215.47 190.233 L2211.24 190.233 M2219.73 188.474 L2219.73 203.266 L2215.47 203.266 L2215.47 199.33 Q2214.02 201.691 2211.84 202.826 Q2209.66 203.937 2206.52 203.937 Q2202.53 203.937 2200.17 201.715 Q2197.84 199.469 2197.84 195.719 Q2197.84 191.344 2200.75 189.122 Q2203.69 186.9 2209.5 186.9 L2215.47 186.9 L2215.47 186.483 Q2215.47 183.543 2213.53 181.946 Q2211.61 180.326 2208.11 180.326 Q2205.89 180.326 2203.78 180.858 Q2201.68 181.391 2199.73 182.455 L2199.73 178.52 Q2202.07 177.618 2204.27 177.178 Q2206.47 176.715 2208.55 176.715 Q2214.18 176.715 2216.96 179.631 Q2219.73 182.548 2219.73 188.474 Z\" fill=\"#000000\" fill-rule=\"evenodd\" fill-opacity=\"1\" /><path clip-path=\"url(#clip400)\" d=\"M2228.51 167.247 L2232.77 167.247 L2232.77 203.266 L2228.51 203.266 L2228.51 167.247 Z\" fill=\"#000000\" fill-rule=\"evenodd\" fill-opacity=\"1\" /></svg>\n"
      ]
     },
     "execution_count": 357,
     "metadata": {},
     "output_type": "execute_result"
    }
   ],
   "source": [
    "scatter(X_Pr[1, Y .== l₁], X_Pr[2, Y .== l₁], \n",
    "            color = :indianred,\n",
    "            label = labels[l₁],\n",
    "            size = (800,300))\n",
    "scatter!(X_Pr[1, Y .== l₂], X_Pr[2, Y .== l₂], \n",
    "            color = :steelblue,\n",
    "            label = labels[l₂],\n",
    "            size = (600,300))"
   ]
  },
  {
   "cell_type": "markdown",
   "metadata": {},
   "source": [
    "## Support Vector Machine\n",
    "\n",
    "The first attempt to learn an algorithm for classification is using an SVM.\n",
    "\n",
    "We will use the simple kernel that gives back the standard inner product between data points."
   ]
  },
  {
   "cell_type": "code",
   "execution_count": 358,
   "metadata": {},
   "outputs": [
    {
     "data": {
      "text/plain": [
       "κ (generic function with 1 method)"
      ]
     },
     "execution_count": 358,
     "metadata": {},
     "output_type": "execute_result"
    }
   ],
   "source": [
    "κ(x₁,x₂) = x₁ ⋅ x₂"
   ]
  },
  {
   "cell_type": "markdown",
   "metadata": {},
   "source": [
    "The kernel defines a kernel matrix as follows:"
   ]
  },
  {
   "cell_type": "code",
   "execution_count": 359,
   "metadata": {},
   "outputs": [],
   "source": [
    "G = [κ(x₁,x₂) for (x₁,x₂) in Iterators.product(X_vec,X_vec)];"
   ]
  },
  {
   "cell_type": "markdown",
   "metadata": {},
   "source": [
    "We also need to transform the output data so that it takes values in $\\{-1,1\\}$."
   ]
  },
  {
   "cell_type": "code",
   "execution_count": 360,
   "metadata": {},
   "outputs": [],
   "source": [
    "y = map(Y) do Yᵢ\n",
    "    if Yᵢ==l₁\n",
    "        -1\n",
    "    elseif Yᵢ==l₂\n",
    "        1\n",
    "    end\n",
    "    end;"
   ]
  },
  {
   "cell_type": "markdown",
   "metadata": {},
   "source": [
    "We are now ready to set up the optimization problem solving the Dual SVM.\n",
    "\n",
    "The regularization parameter is set to $C=5$.\n",
    "\n",
    "We use [JuMP](https://jump.dev/JuMP.jl/stable/) for setting up the model and [NLopt](https://github.com/JuliaOpt/NLopt.jl) for solving the optimization problem."
   ]
  },
  {
   "cell_type": "code",
   "execution_count": 361,
   "metadata": {},
   "outputs": [],
   "source": [
    "C = 5;\n",
    "model = Model(NLopt.Optimizer)\n",
    "\n",
    "set_optimizer_attribute(model, \"algorithm\", :AUGLAG)\n",
    "set_optimizer_attribute(model, \"local_optimizer\", :LD_LBFGS)\n",
    "\n",
    "@variable(model, α[1:n]);"
   ]
  },
  {
   "cell_type": "markdown",
   "metadata": {},
   "source": [
    "The constraints are defined next:"
   ]
  },
  {
   "cell_type": "code",
   "execution_count": 362,
   "metadata": {},
   "outputs": [],
   "source": [
    "@constraint(model, c₁, sum(y .* α) .== 0);\n",
    "@constraint(model, c₂, α .>= zeros(n));\n",
    "@constraint(model, c₃, α .<= C .* ones(n));"
   ]
  },
  {
   "cell_type": "markdown",
   "metadata": {},
   "source": [
    "Finally, we define the objective function."
   ]
  },
  {
   "cell_type": "code",
   "execution_count": 363,
   "metadata": {},
   "outputs": [],
   "source": [
    "@objective(model, Min, \n",
    "           4 * sum(α) - sum(y[i]*α[i]*y[j]*α[j]*G[i,j] \n",
    "            for (i,j) in Iterators.product(1:n,1:n)));"
   ]
  },
  {
   "cell_type": "markdown",
   "metadata": {},
   "source": [
    "Using the following command we can now solve the optimization problem "
   ]
  },
  {
   "cell_type": "code",
   "execution_count": 364,
   "metadata": {},
   "outputs": [],
   "source": [
    "JuMP.optimize!(model)"
   ]
  },
  {
   "cell_type": "markdown",
   "metadata": {},
   "source": [
    "We use the optimal value to define $\\psi$ and $b$ for our SVM."
   ]
  },
  {
   "cell_type": "code",
   "execution_count": 391,
   "metadata": {},
   "outputs": [
    {
     "data": {
      "text/plain": [
       "8.056516850561867"
      ]
     },
     "execution_count": 391,
     "metadata": {},
     "output_type": "execute_result"
    }
   ],
   "source": [
    "α_opt = value.(α);\n",
    "ψ(x) =  sum(0.5 * y[i] * α_opt[i] * κ(x, X_vec[i]) for i in 1:n)\n",
    "b = median(abs(y[i] - ψ(X_vec[i])) for i in 1:n if abs(α_opt[i]) > 1e-8)"
   ]
  },
  {
   "cell_type": "markdown",
   "metadata": {},
   "source": [
    "This defines the following function for classification."
   ]
  },
  {
   "cell_type": "code",
   "execution_count": 392,
   "metadata": {},
   "outputs": [
    {
     "data": {
      "text/plain": [
       "f_class (generic function with 1 method)"
      ]
     },
     "execution_count": 392,
     "metadata": {},
     "output_type": "execute_result"
    }
   ],
   "source": [
    "f_class(x) = Int(sign(ψ(x) + b))"
   ]
  },
  {
   "cell_type": "markdown",
   "metadata": {},
   "source": [
    "We can use `f_class` in a prediction function:"
   ]
  },
  {
   "cell_type": "code",
   "execution_count": 393,
   "metadata": {},
   "outputs": [
    {
     "data": {
      "text/plain": [
       "predict (generic function with 1 method)"
      ]
     },
     "execution_count": 393,
     "metadata": {},
     "output_type": "execute_result"
    }
   ],
   "source": [
    "function predict(f, x)\n",
    "    if f(x) == -1\n",
    "        println(\"This is a $(labels[l₁]):\")\n",
    "    elseif f(x) == 1\n",
    "         println(\"This is a $(labels[l₂]):\")\n",
    "    end\n",
    "end"
   ]
  },
  {
   "cell_type": "markdown",
   "metadata": {},
   "source": [
    "#### How well does our prediction function work?\n",
    "\n",
    "We can now check the quality of our prediction function.\n",
    "\n",
    "For instance, we can randomly choose items from the test data and let our algorithm predict what item it is."
   ]
  },
  {
   "cell_type": "code",
   "execution_count": 386,
   "metadata": {},
   "outputs": [
    {
     "name": "stdout",
     "output_type": "stream",
     "text": [
      "This is a Sandal:\n"
     ]
    },
    {
     "data": {
      "image/png": "[encoded data removed]",
      "text/plain": [
       "28×28 reinterpret(reshape, Gray{N0f8}, ::Array{N0f8,2}) with eltype Gray{N0f8}:\n",
       " Gray{N0f8}(0.0)    Gray{N0f8}(0.0)    …  Gray{N0f8}(0.0)\n",
       " Gray{N0f8}(0.0)    Gray{N0f8}(0.0)       Gray{N0f8}(0.0)\n",
       " Gray{N0f8}(0.0)    Gray{N0f8}(0.0)       Gray{N0f8}(0.0)\n",
       " Gray{N0f8}(0.0)    Gray{N0f8}(0.0)       Gray{N0f8}(0.0)\n",
       " Gray{N0f8}(0.0)    Gray{N0f8}(0.0)       Gray{N0f8}(0.0)\n",
       " Gray{N0f8}(0.0)    Gray{N0f8}(0.0)    …  Gray{N0f8}(0.0)\n",
       " Gray{N0f8}(0.0)    Gray{N0f8}(0.0)       Gray{N0f8}(0.0)\n",
       " Gray{N0f8}(0.0)    Gray{N0f8}(0.0)       Gray{N0f8}(0.0)\n",
       " Gray{N0f8}(0.0)    Gray{N0f8}(0.0)       Gray{N0f8}(0.0)\n",
       " Gray{N0f8}(0.0)    Gray{N0f8}(0.0)       Gray{N0f8}(0.0)\n",
       " Gray{N0f8}(0.0)    Gray{N0f8}(0.0)    …  Gray{N0f8}(0.067)\n",
       " Gray{N0f8}(0.0)    Gray{N0f8}(0.0)       Gray{N0f8}(0.333)\n",
       " Gray{N0f8}(0.008)  Gray{N0f8}(0.0)       Gray{N0f8}(0.102)\n",
       " ⋮                                     ⋱  \n",
       " Gray{N0f8}(0.0)    Gray{N0f8}(0.0)       Gray{N0f8}(0.0)\n",
       " Gray{N0f8}(0.0)    Gray{N0f8}(0.008)     Gray{N0f8}(0.0)\n",
       " Gray{N0f8}(0.016)  Gray{N0f8}(0.0)       Gray{N0f8}(0.0)\n",
       " Gray{N0f8}(0.016)  Gray{N0f8}(0.0)       Gray{N0f8}(0.0)\n",
       " Gray{N0f8}(0.008)  Gray{N0f8}(0.0)    …  Gray{N0f8}(0.0)\n",
       " Gray{N0f8}(0.0)    Gray{N0f8}(0.0)       Gray{N0f8}(0.0)\n",
       " Gray{N0f8}(0.239)  Gray{N0f8}(0.204)     Gray{N0f8}(0.0)\n",
       " Gray{N0f8}(0.412)  Gray{N0f8}(0.627)     Gray{N0f8}(0.0)\n",
       " Gray{N0f8}(0.0)    Gray{N0f8}(0.0)       Gray{N0f8}(0.0)\n",
       " Gray{N0f8}(0.0)    Gray{N0f8}(0.0)    …  Gray{N0f8}(0.0)\n",
       " Gray{N0f8}(0.0)    Gray{N0f8}(0.0)       Gray{N0f8}(0.0)\n",
       " Gray{N0f8}(0.0)    Gray{N0f8}(0.0)       Gray{N0f8}(0.0)"
      ]
     },
     "execution_count": 386,
     "metadata": {},
     "output_type": "execute_result"
    }
   ],
   "source": [
    "ℓ = rand(1:n)\n",
    "predict(f_class, X_test_vec[ℓ])\n",
    "FashionMNIST.convert2image(X_test[:,:,ℓ])"
   ]
  },
  {
   "cell_type": "markdown",
   "metadata": {},
   "source": [
    "As a second check, we plot projected test data points along with our predictions. \n"
   ]
  },
  {
   "cell_type": "code",
   "execution_count": 387,
   "metadata": {},
   "outputs": [],
   "source": [
    "x̄_test = mean(X_test_vec);\n",
    "X_test_Pr = hcat(map(x -> Pr*(x - x̄_test), X_test_vec)...);"
   ]
  },
  {
   "cell_type": "markdown",
   "metadata": {},
   "source": [
    "\n",
    "For this, we produce $y_{\\mathrm{test}}\\in\\{-1,1\\}$ for the true labels and $\\hat{y}_{\\mathrm{test}}$ is the vector of predictions "
   ]
  },
  {
   "cell_type": "code",
   "execution_count": 388,
   "metadata": {},
   "outputs": [],
   "source": [
    "y_test = map(Y_test) do y\n",
    "    if y==l₁\n",
    "        -1\n",
    "    elseif y==l₂\n",
    "        1\n",
    "    end\n",
    "    end;\n",
    "ŷ_test = map(f_class, X_test_vec);"
   ]
  },
  {
   "cell_type": "markdown",
   "metadata": {},
   "source": [
    "The visualization comes next:"
   ]
  },
  {
   "cell_type": "code",
   "execution_count": 389,
   "metadata": {},
   "outputs": [
    {
     "data": {
      "image/svg+xml": [
       "<?xml version=\"1.0\" encoding=\"utf-8\"?>\n",
       "<svg xmlns=\"http://www.w3.org/2000/svg\" xmlns:xlink=\"http://www.w3.org/1999/xlink\" width=\"600\" height=\"300\" viewBox=\"0 0 2400 1200\">\n",
       "<defs>\n",
       "  <clipPath id=\"clip480\">\n",
       "    <rect x=\"0\" y=\"0\" width=\"2400\" height=\"1200\"/>\n",
       "  </clipPath>\n",
       "</defs>\n",
       "<path clip-path=\"url(#clip480)\" d=\"\n",
       "M0 1200 L2400 1200 L2400 0 L0 0  Z\n",
       "  \" fill=\"#ffffff\" fill-rule=\"evenodd\" fill-opacity=\"1\"/>\n",
       "<defs>\n",
       "  <clipPath id=\"clip481\">\n",
       "    <rect x=\"480\" y=\"0\" width=\"1681\" height=\"1200\"/>\n",
       "  </clipPath>\n",
       "</defs>\n",
       "<path clip-path=\"url(#clip480)\" d=\"\n",
       "M224.098 1047.7 L1152.76 1047.7 L1152.76 47.2441 L224.098 47.2441  Z\n",
       "  \" fill=\"#ffffff\" fill-rule=\"evenodd\" fill-opacity=\"1\"/>\n",
       "<defs>\n",
       "  <clipPath id=\"clip482\">\n",
       "    <rect x=\"224\" y=\"47\" width=\"930\" height=\"1001\"/>\n",
       "  </clipPath>\n",
       "</defs>\n",
       "<polyline clip-path=\"url(#clip482)\" style=\"stroke:#000000; stroke-linecap:butt; stroke-linejoin:round; stroke-width:2; stroke-opacity:0.1; fill:none\" points=\"\n",
       "  313.073,1047.7 313.073,47.2441 \n",
       "  \"/>\n",
       "<polyline clip-path=\"url(#clip482)\" style=\"stroke:#000000; stroke-linecap:butt; stroke-linejoin:round; stroke-width:2; stroke-opacity:0.1; fill:none\" points=\"\n",
       "  499.801,1047.7 499.801,47.2441 \n",
       "  \"/>\n",
       "<polyline clip-path=\"url(#clip482)\" style=\"stroke:#000000; stroke-linecap:butt; stroke-linejoin:round; stroke-width:2; stroke-opacity:0.1; fill:none\" points=\"\n",
       "  686.528,1047.7 686.528,47.2441 \n",
       "  \"/>\n",
       "<polyline clip-path=\"url(#clip482)\" style=\"stroke:#000000; stroke-linecap:butt; stroke-linejoin:round; stroke-width:2; stroke-opacity:0.1; fill:none\" points=\"\n",
       "  873.255,1047.7 873.255,47.2441 \n",
       "  \"/>\n",
       "<polyline clip-path=\"url(#clip482)\" style=\"stroke:#000000; stroke-linecap:butt; stroke-linejoin:round; stroke-width:2; stroke-opacity:0.1; fill:none\" points=\"\n",
       "  1059.98,1047.7 1059.98,47.2441 \n",
       "  \"/>\n",
       "<polyline clip-path=\"url(#clip480)\" style=\"stroke:#000000; stroke-linecap:butt; stroke-linejoin:round; stroke-width:4; stroke-opacity:1; fill:none\" points=\"\n",
       "  224.098,1047.7 1152.76,1047.7 \n",
       "  \"/>\n",
       "<polyline clip-path=\"url(#clip480)\" style=\"stroke:#000000; stroke-linecap:butt; stroke-linejoin:round; stroke-width:4; stroke-opacity:1; fill:none\" points=\"\n",
       "  313.073,1047.7 313.073,1028.8 \n",
       "  \"/>\n",
       "<polyline clip-path=\"url(#clip480)\" style=\"stroke:#000000; stroke-linecap:butt; stroke-linejoin:round; stroke-width:4; stroke-opacity:1; fill:none\" points=\"\n",
       "  499.801,1047.7 499.801,1028.8 \n",
       "  \"/>\n",
       "<polyline clip-path=\"url(#clip480)\" style=\"stroke:#000000; stroke-linecap:butt; stroke-linejoin:round; stroke-width:4; stroke-opacity:1; fill:none\" points=\"\n",
       "  686.528,1047.7 686.528,1028.8 \n",
       "  \"/>\n",
       "<polyline clip-path=\"url(#clip480)\" style=\"stroke:#000000; stroke-linecap:butt; stroke-linejoin:round; stroke-width:4; stroke-opacity:1; fill:none\" points=\"\n",
       "  873.255,1047.7 873.255,1028.8 \n",
       "  \"/>\n",
       "<polyline clip-path=\"url(#clip480)\" style=\"stroke:#000000; stroke-linecap:butt; stroke-linejoin:round; stroke-width:4; stroke-opacity:1; fill:none\" points=\"\n",
       "  1059.98,1047.7 1059.98,1028.8 \n",
       "  \"/>\n",
       "<path clip-path=\"url(#clip480)\" d=\"M244.52 1093.27 L274.196 1093.27 L274.196 1097.21 L244.52 1097.21 L244.52 1093.27 Z\" fill=\"#000000\" fill-rule=\"evenodd\" fill-opacity=\"1\" /><path clip-path=\"url(#clip480)\" d=\"M294.289 1078.62 Q290.678 1078.62 288.849 1082.18 Q287.043 1085.72 287.043 1092.85 Q287.043 1099.96 288.849 1103.53 Q290.678 1107.07 294.289 1107.07 Q297.923 1107.07 299.728 1103.53 Q301.557 1099.96 301.557 1092.85 Q301.557 1085.72 299.728 1082.18 Q297.923 1078.62 294.289 1078.62 M294.289 1074.91 Q300.099 1074.91 303.154 1079.52 Q306.233 1084.1 306.233 1092.85 Q306.233 1101.58 303.154 1106.19 Q300.099 1110.77 294.289 1110.77 Q288.479 1110.77 285.4 1106.19 Q282.344 1101.58 282.344 1092.85 Q282.344 1084.1 285.4 1079.52 Q288.479 1074.91 294.289 1074.91 Z\" fill=\"#000000\" fill-rule=\"evenodd\" fill-opacity=\"1\" /><path clip-path=\"url(#clip480)\" d=\"M314.451 1104.22 L319.335 1104.22 L319.335 1110.1 L314.451 1110.1 L314.451 1104.22 Z\" fill=\"#000000\" fill-rule=\"evenodd\" fill-opacity=\"1\" /><path clip-path=\"url(#clip480)\" d=\"M329.566 1075.54 L347.923 1075.54 L347.923 1079.48 L333.849 1079.48 L333.849 1087.95 Q334.867 1087.6 335.886 1087.44 Q336.904 1087.25 337.923 1087.25 Q343.71 1087.25 347.089 1090.42 Q350.469 1093.6 350.469 1099.01 Q350.469 1104.59 346.997 1107.69 Q343.525 1110.77 337.205 1110.77 Q335.029 1110.77 332.761 1110.4 Q330.515 1110.03 328.108 1109.29 L328.108 1104.59 Q330.191 1105.72 332.413 1106.28 Q334.636 1106.84 337.113 1106.84 Q341.117 1106.84 343.455 1104.73 Q345.793 1102.62 345.793 1099.01 Q345.793 1095.4 343.455 1093.29 Q341.117 1091.19 337.113 1091.19 Q335.238 1091.19 333.363 1091.6 Q331.511 1092.02 329.566 1092.9 L329.566 1075.54 Z\" fill=\"#000000\" fill-rule=\"evenodd\" fill-opacity=\"1\" /><path clip-path=\"url(#clip480)\" d=\"M369.682 1078.62 Q366.071 1078.62 364.242 1082.18 Q362.436 1085.72 362.436 1092.85 Q362.436 1099.96 364.242 1103.53 Q366.071 1107.07 369.682 1107.07 Q373.316 1107.07 375.122 1103.53 Q376.95 1099.96 376.95 1092.85 Q376.95 1085.72 375.122 1082.18 Q373.316 1078.62 369.682 1078.62 M369.682 1074.91 Q375.492 1074.91 378.548 1079.52 Q381.626 1084.1 381.626 1092.85 Q381.626 1101.58 378.548 1106.19 Q375.492 1110.77 369.682 1110.77 Q363.872 1110.77 360.793 1106.19 Q357.737 1101.58 357.737 1092.85 Q357.737 1084.1 360.793 1079.52 Q363.872 1074.91 369.682 1074.91 Z\" fill=\"#000000\" fill-rule=\"evenodd\" fill-opacity=\"1\" /><path clip-path=\"url(#clip480)\" d=\"M431.745 1093.27 L461.421 1093.27 L461.421 1097.21 L431.745 1097.21 L431.745 1093.27 Z\" fill=\"#000000\" fill-rule=\"evenodd\" fill-opacity=\"1\" /><path clip-path=\"url(#clip480)\" d=\"M481.514 1078.62 Q477.903 1078.62 476.074 1082.18 Q474.268 1085.72 474.268 1092.85 Q474.268 1099.96 476.074 1103.53 Q477.903 1107.07 481.514 1107.07 Q485.148 1107.07 486.954 1103.53 Q488.782 1099.96 488.782 1092.85 Q488.782 1085.72 486.954 1082.18 Q485.148 1078.62 481.514 1078.62 M481.514 1074.91 Q487.324 1074.91 490.379 1079.52 Q493.458 1084.1 493.458 1092.85 Q493.458 1101.58 490.379 1106.19 Q487.324 1110.77 481.514 1110.77 Q475.704 1110.77 472.625 1106.19 Q469.569 1101.58 469.569 1092.85 Q469.569 1084.1 472.625 1079.52 Q475.704 1074.91 481.514 1074.91 Z\" fill=\"#000000\" fill-rule=\"evenodd\" fill-opacity=\"1\" /><path clip-path=\"url(#clip480)\" d=\"M501.676 1104.22 L506.56 1104.22 L506.56 1110.1 L501.676 1110.1 L501.676 1104.22 Z\" fill=\"#000000\" fill-rule=\"evenodd\" fill-opacity=\"1\" /><path clip-path=\"url(#clip480)\" d=\"M520.773 1106.16 L537.092 1106.16 L537.092 1110.1 L515.148 1110.1 L515.148 1106.16 Q517.81 1103.41 522.393 1098.78 Q527 1094.13 528.18 1092.79 Q530.426 1090.26 531.305 1088.53 Q532.208 1086.77 532.208 1085.08 Q532.208 1082.32 530.263 1080.59 Q528.342 1078.85 525.24 1078.85 Q523.041 1078.85 520.588 1079.61 Q518.157 1080.38 515.379 1081.93 L515.379 1077.21 Q518.203 1076.07 520.657 1075.49 Q523.111 1074.91 525.148 1074.91 Q530.518 1074.91 533.713 1077.6 Q536.907 1080.29 536.907 1084.78 Q536.907 1086.91 536.097 1088.83 Q535.31 1090.72 533.203 1093.32 Q532.625 1093.99 529.523 1097.21 Q526.421 1100.4 520.773 1106.16 Z\" fill=\"#000000\" fill-rule=\"evenodd\" fill-opacity=\"1\" /><path clip-path=\"url(#clip480)\" d=\"M546.953 1075.54 L565.31 1075.54 L565.31 1079.48 L551.236 1079.48 L551.236 1087.95 Q552.254 1087.6 553.273 1087.44 Q554.291 1087.25 555.31 1087.25 Q561.097 1087.25 564.476 1090.42 Q567.856 1093.6 567.856 1099.01 Q567.856 1104.59 564.384 1107.69 Q560.911 1110.77 554.592 1110.77 Q552.416 1110.77 550.148 1110.4 Q547.902 1110.03 545.495 1109.29 L545.495 1104.59 Q547.578 1105.72 549.8 1106.28 Q552.023 1106.84 554.499 1106.84 Q558.504 1106.84 560.842 1104.73 Q563.18 1102.62 563.18 1099.01 Q563.18 1095.4 560.842 1093.29 Q558.504 1091.19 554.499 1091.19 Q552.624 1091.19 550.749 1091.6 Q548.898 1092.02 546.953 1092.9 L546.953 1075.54 Z\" fill=\"#000000\" fill-rule=\"evenodd\" fill-opacity=\"1\" /><path clip-path=\"url(#clip480)\" d=\"M648.831 1078.62 Q645.22 1078.62 643.392 1082.18 Q641.586 1085.72 641.586 1092.85 Q641.586 1099.96 643.392 1103.53 Q645.22 1107.07 648.831 1107.07 Q652.466 1107.07 654.271 1103.53 Q656.1 1099.96 656.1 1092.85 Q656.1 1085.72 654.271 1082.18 Q652.466 1078.62 648.831 1078.62 M648.831 1074.91 Q654.642 1074.91 657.697 1079.52 Q660.776 1084.1 660.776 1092.85 Q660.776 1101.58 657.697 1106.19 Q654.642 1110.77 648.831 1110.77 Q643.021 1110.77 639.943 1106.19 Q636.887 1101.58 636.887 1092.85 Q636.887 1084.1 639.943 1079.52 Q643.021 1074.91 648.831 1074.91 Z\" fill=\"#000000\" fill-rule=\"evenodd\" fill-opacity=\"1\" /><path clip-path=\"url(#clip480)\" d=\"M668.993 1104.22 L673.878 1104.22 L673.878 1110.1 L668.993 1110.1 L668.993 1104.22 Z\" fill=\"#000000\" fill-rule=\"evenodd\" fill-opacity=\"1\" /><path clip-path=\"url(#clip480)\" d=\"M694.063 1078.62 Q690.452 1078.62 688.623 1082.18 Q686.817 1085.72 686.817 1092.85 Q686.817 1099.96 688.623 1103.53 Q690.452 1107.07 694.063 1107.07 Q697.697 1107.07 699.503 1103.53 Q701.331 1099.96 701.331 1092.85 Q701.331 1085.72 699.503 1082.18 Q697.697 1078.62 694.063 1078.62 M694.063 1074.91 Q699.873 1074.91 702.928 1079.52 Q706.007 1084.1 706.007 1092.85 Q706.007 1101.58 702.928 1106.19 Q699.873 1110.77 694.063 1110.77 Q688.253 1110.77 685.174 1106.19 Q682.118 1101.58 682.118 1092.85 Q682.118 1084.1 685.174 1079.52 Q688.253 1074.91 694.063 1074.91 Z\" fill=\"#000000\" fill-rule=\"evenodd\" fill-opacity=\"1\" /><path clip-path=\"url(#clip480)\" d=\"M724.225 1078.62 Q720.614 1078.62 718.785 1082.18 Q716.979 1085.72 716.979 1092.85 Q716.979 1099.96 718.785 1103.53 Q720.614 1107.07 724.225 1107.07 Q727.859 1107.07 729.664 1103.53 Q731.493 1099.96 731.493 1092.85 Q731.493 1085.72 729.664 1082.18 Q727.859 1078.62 724.225 1078.62 M724.225 1074.91 Q730.035 1074.91 733.09 1079.52 Q736.169 1084.1 736.169 1092.85 Q736.169 1101.58 733.09 1106.19 Q730.035 1110.77 724.225 1110.77 Q718.414 1110.77 715.336 1106.19 Q712.28 1101.58 712.28 1092.85 Q712.28 1084.1 715.336 1079.52 Q718.414 1074.91 724.225 1074.91 Z\" fill=\"#000000\" fill-rule=\"evenodd\" fill-opacity=\"1\" /><path clip-path=\"url(#clip480)\" d=\"M836.057 1078.62 Q832.445 1078.62 830.617 1082.18 Q828.811 1085.72 828.811 1092.85 Q828.811 1099.96 830.617 1103.53 Q832.445 1107.07 836.057 1107.07 Q839.691 1107.07 841.496 1103.53 Q843.325 1099.96 843.325 1092.85 Q843.325 1085.72 841.496 1082.18 Q839.691 1078.62 836.057 1078.62 M836.057 1074.91 Q841.867 1074.91 844.922 1079.52 Q848.001 1084.1 848.001 1092.85 Q848.001 1101.58 844.922 1106.19 Q841.867 1110.77 836.057 1110.77 Q830.246 1110.77 827.168 1106.19 Q824.112 1101.58 824.112 1092.85 Q824.112 1084.1 827.168 1079.52 Q830.246 1074.91 836.057 1074.91 Z\" fill=\"#000000\" fill-rule=\"evenodd\" fill-opacity=\"1\" /><path clip-path=\"url(#clip480)\" d=\"M856.218 1104.22 L861.103 1104.22 L861.103 1110.1 L856.218 1110.1 L856.218 1104.22 Z\" fill=\"#000000\" fill-rule=\"evenodd\" fill-opacity=\"1\" /><path clip-path=\"url(#clip480)\" d=\"M875.316 1106.16 L891.635 1106.16 L891.635 1110.1 L869.691 1110.1 L869.691 1106.16 Q872.353 1103.41 876.936 1098.78 Q881.542 1094.13 882.723 1092.79 Q884.968 1090.26 885.848 1088.53 Q886.751 1086.77 886.751 1085.08 Q886.751 1082.32 884.806 1080.59 Q882.885 1078.85 879.783 1078.85 Q877.584 1078.85 875.13 1079.61 Q872.7 1080.38 869.922 1081.93 L869.922 1077.21 Q872.746 1076.07 875.2 1075.49 Q877.654 1074.91 879.691 1074.91 Q885.061 1074.91 888.255 1077.6 Q891.45 1080.29 891.45 1084.78 Q891.45 1086.91 890.64 1088.83 Q889.853 1090.72 887.746 1093.32 Q887.167 1093.99 884.066 1097.21 Q880.964 1100.4 875.316 1106.16 Z\" fill=\"#000000\" fill-rule=\"evenodd\" fill-opacity=\"1\" /><path clip-path=\"url(#clip480)\" d=\"M901.496 1075.54 L919.852 1075.54 L919.852 1079.48 L905.778 1079.48 L905.778 1087.95 Q906.797 1087.6 907.815 1087.44 Q908.834 1087.25 909.852 1087.25 Q915.639 1087.25 919.019 1090.42 Q922.399 1093.6 922.399 1099.01 Q922.399 1104.59 918.926 1107.69 Q915.454 1110.77 909.135 1110.77 Q906.959 1110.77 904.69 1110.4 Q902.445 1110.03 900.038 1109.29 L900.038 1104.59 Q902.121 1105.72 904.343 1106.28 Q906.565 1106.84 909.042 1106.84 Q913.047 1106.84 915.385 1104.73 Q917.723 1102.62 917.723 1099.01 Q917.723 1095.4 915.385 1093.29 Q913.047 1091.19 909.042 1091.19 Q907.167 1091.19 905.292 1091.6 Q903.44 1092.02 901.496 1092.9 L901.496 1075.54 Z\" fill=\"#000000\" fill-rule=\"evenodd\" fill-opacity=\"1\" /><path clip-path=\"url(#clip480)\" d=\"M1022.29 1078.62 Q1018.68 1078.62 1016.85 1082.18 Q1015.04 1085.72 1015.04 1092.85 Q1015.04 1099.96 1016.85 1103.53 Q1018.68 1107.07 1022.29 1107.07 Q1025.92 1107.07 1027.73 1103.53 Q1029.55 1099.96 1029.55 1092.85 Q1029.55 1085.72 1027.73 1082.18 Q1025.92 1078.62 1022.29 1078.62 M1022.29 1074.91 Q1028.1 1074.91 1031.15 1079.52 Q1034.23 1084.1 1034.23 1092.85 Q1034.23 1101.58 1031.15 1106.19 Q1028.1 1110.77 1022.29 1110.77 Q1016.48 1110.77 1013.4 1106.19 Q1010.34 1101.58 1010.34 1092.85 Q1010.34 1084.1 1013.4 1079.52 Q1016.48 1074.91 1022.29 1074.91 Z\" fill=\"#000000\" fill-rule=\"evenodd\" fill-opacity=\"1\" /><path clip-path=\"url(#clip480)\" d=\"M1042.45 1104.22 L1047.33 1104.22 L1047.33 1110.1 L1042.45 1110.1 L1042.45 1104.22 Z\" fill=\"#000000\" fill-rule=\"evenodd\" fill-opacity=\"1\" /><path clip-path=\"url(#clip480)\" d=\"M1057.56 1075.54 L1075.92 1075.54 L1075.92 1079.48 L1061.85 1079.48 L1061.85 1087.95 Q1062.86 1087.6 1063.88 1087.44 Q1064.9 1087.25 1065.92 1087.25 Q1071.71 1087.25 1075.09 1090.42 Q1078.47 1093.6 1078.47 1099.01 Q1078.47 1104.59 1074.99 1107.69 Q1071.52 1110.77 1065.2 1110.77 Q1063.03 1110.77 1060.76 1110.4 Q1058.51 1110.03 1056.11 1109.29 L1056.11 1104.59 Q1058.19 1105.72 1060.41 1106.28 Q1062.63 1106.84 1065.11 1106.84 Q1069.11 1106.84 1071.45 1104.73 Q1073.79 1102.62 1073.79 1099.01 Q1073.79 1095.4 1071.45 1093.29 Q1069.11 1091.19 1065.11 1091.19 Q1063.24 1091.19 1061.36 1091.6 Q1059.51 1092.02 1057.56 1092.9 L1057.56 1075.54 Z\" fill=\"#000000\" fill-rule=\"evenodd\" fill-opacity=\"1\" /><path clip-path=\"url(#clip480)\" d=\"M1097.68 1078.62 Q1094.07 1078.62 1092.24 1082.18 Q1090.43 1085.72 1090.43 1092.85 Q1090.43 1099.96 1092.24 1103.53 Q1094.07 1107.07 1097.68 1107.07 Q1101.31 1107.07 1103.12 1103.53 Q1104.95 1099.96 1104.95 1092.85 Q1104.95 1085.72 1103.12 1082.18 Q1101.31 1078.62 1097.68 1078.62 M1097.68 1074.91 Q1103.49 1074.91 1106.55 1079.52 Q1109.62 1084.1 1109.62 1092.85 Q1109.62 1101.58 1106.55 1106.19 Q1103.49 1110.77 1097.68 1110.77 Q1091.87 1110.77 1088.79 1106.19 Q1085.73 1101.58 1085.73 1092.85 Q1085.73 1084.1 1088.79 1079.52 Q1091.87 1074.91 1097.68 1074.91 Z\" fill=\"#000000\" fill-rule=\"evenodd\" fill-opacity=\"1\" /><path clip-path=\"url(#clip480)\" d=\"M372.672 1146.79 L372.672 1156.92 L384.735 1156.92 L384.735 1161.47 L372.672 1161.47 L372.672 1180.82 Q372.672 1185.18 373.85 1186.42 Q375.059 1187.66 378.719 1187.66 L384.735 1187.66 L384.735 1192.56 L378.719 1192.56 Q371.94 1192.56 369.362 1190.05 Q366.784 1187.5 366.784 1180.82 L366.784 1161.47 L362.487 1161.47 L362.487 1156.92 L366.784 1156.92 L366.784 1146.79 L372.672 1146.79 Z\" fill=\"#000000\" fill-rule=\"evenodd\" fill-opacity=\"1\" /><path clip-path=\"url(#clip480)\" d=\"M413.094 1162.39 Q412.107 1161.82 410.93 1161.56 Q409.784 1161.28 408.384 1161.28 Q403.418 1161.28 400.745 1164.52 Q398.103 1167.74 398.103 1173.79 L398.103 1192.56 L392.215 1192.56 L392.215 1156.92 L398.103 1156.92 L398.103 1162.45 Q399.949 1159.21 402.909 1157.65 Q405.869 1156.06 410.102 1156.06 Q410.707 1156.06 411.439 1156.15 Q412.171 1156.22 413.062 1156.37 L413.094 1162.39 Z\" fill=\"#000000\" fill-rule=\"evenodd\" fill-opacity=\"1\" /><path clip-path=\"url(#clip480)\" d=\"M418.632 1178.5 L418.632 1156.92 L424.489 1156.92 L424.489 1178.27 Q424.489 1183.33 426.462 1185.88 Q428.436 1188.39 432.382 1188.39 Q437.125 1188.39 439.862 1185.37 Q442.631 1182.35 442.631 1177.13 L442.631 1156.92 L448.487 1156.92 L448.487 1192.56 L442.631 1192.56 L442.631 1187.09 Q440.499 1190.34 437.666 1191.93 Q434.865 1193.49 431.141 1193.49 Q424.998 1193.49 421.815 1189.67 Q418.632 1185.85 418.632 1178.5 M433.369 1156.06 L433.369 1156.06 Z\" fill=\"#000000\" fill-rule=\"evenodd\" fill-opacity=\"1\" /><path clip-path=\"url(#clip480)\" d=\"M491.042 1173.28 L491.042 1176.14 L464.115 1176.14 Q464.497 1182.19 467.744 1185.37 Q471.022 1188.52 476.847 1188.52 Q480.221 1188.52 483.372 1187.69 Q486.554 1186.87 489.674 1185.21 L489.674 1190.75 Q486.523 1192.09 483.212 1192.79 Q479.902 1193.49 476.497 1193.49 Q467.967 1193.49 462.969 1188.52 Q458.004 1183.56 458.004 1175.09 Q458.004 1166.34 462.715 1161.21 Q467.457 1156.06 475.478 1156.06 Q482.671 1156.06 486.841 1160.7 Q491.042 1165.32 491.042 1173.28 M485.186 1171.56 Q485.122 1166.75 482.48 1163.89 Q479.87 1161.02 475.542 1161.02 Q470.64 1161.02 467.68 1163.79 Q464.752 1166.56 464.306 1171.59 L485.186 1171.56 Z\" fill=\"#000000\" fill-rule=\"evenodd\" fill-opacity=\"1\" /><path clip-path=\"url(#clip480)\" d=\"M521.375 1143.04 L527.231 1143.04 L527.231 1192.56 L521.375 1192.56 L521.375 1143.04 Z\" fill=\"#000000\" fill-rule=\"evenodd\" fill-opacity=\"1\" /><path clip-path=\"url(#clip480)\" d=\"M555.686 1174.64 Q548.588 1174.64 545.851 1176.27 Q543.114 1177.89 543.114 1181.81 Q543.114 1184.92 545.151 1186.77 Q547.22 1188.59 550.753 1188.59 Q555.622 1188.59 558.551 1185.15 Q561.511 1181.68 561.511 1175.95 L561.511 1174.64 L555.686 1174.64 M567.367 1172.23 L567.367 1192.56 L561.511 1192.56 L561.511 1187.15 Q559.505 1190.4 556.514 1191.96 Q553.522 1193.49 549.193 1193.49 Q543.718 1193.49 540.472 1190.43 Q537.257 1187.34 537.257 1182.19 Q537.257 1176.17 541.268 1173.12 Q545.31 1170.06 553.299 1170.06 L561.511 1170.06 L561.511 1169.49 Q561.511 1165.45 558.837 1163.25 Q556.195 1161.02 551.389 1161.02 Q548.334 1161.02 545.437 1161.75 Q542.541 1162.49 539.867 1163.95 L539.867 1158.54 Q543.082 1157.3 546.106 1156.69 Q549.129 1156.06 551.994 1156.06 Q559.728 1156.06 563.548 1160.07 Q567.367 1164.08 567.367 1172.23 Z\" fill=\"#000000\" fill-rule=\"evenodd\" fill-opacity=\"1\" /><path clip-path=\"url(#clip480)\" d=\"M605.02 1174.77 Q605.02 1168.31 602.347 1164.65 Q599.705 1160.96 595.058 1160.96 Q590.411 1160.96 587.737 1164.65 Q585.096 1168.31 585.096 1174.77 Q585.096 1181.23 587.737 1184.92 Q590.411 1188.59 595.058 1188.59 Q599.705 1188.59 602.347 1184.92 Q605.02 1181.23 605.02 1174.77 M585.096 1162.33 Q586.942 1159.14 589.743 1157.62 Q592.575 1156.06 596.49 1156.06 Q602.983 1156.06 607.025 1161.21 Q611.099 1166.37 611.099 1174.77 Q611.099 1183.17 607.025 1188.33 Q602.983 1193.49 596.49 1193.49 Q592.575 1193.49 589.743 1191.96 Q586.942 1190.4 585.096 1187.22 L585.096 1192.56 L579.207 1192.56 L579.207 1143.04 L585.096 1143.04 L585.096 1162.33 Z\" fill=\"#000000\" fill-rule=\"evenodd\" fill-opacity=\"1\" /><path clip-path=\"url(#clip480)\" d=\"M651.299 1173.28 L651.299 1176.14 L624.372 1176.14 Q624.754 1182.19 628 1185.37 Q631.279 1188.52 637.103 1188.52 Q640.477 1188.52 643.628 1187.69 Q646.811 1186.87 649.93 1185.21 L649.93 1190.75 Q646.779 1192.09 643.469 1192.79 Q640.159 1193.49 636.753 1193.49 Q628.223 1193.49 623.226 1188.52 Q618.261 1183.56 618.261 1175.09 Q618.261 1166.34 622.972 1161.21 Q627.714 1156.06 635.735 1156.06 Q642.928 1156.06 647.098 1160.7 Q651.299 1165.32 651.299 1173.28 M645.442 1171.56 Q645.379 1166.75 642.737 1163.89 Q640.127 1161.02 635.798 1161.02 Q630.897 1161.02 627.937 1163.79 Q625.009 1166.56 624.563 1171.59 L645.442 1171.56 Z\" fill=\"#000000\" fill-rule=\"evenodd\" fill-opacity=\"1\" /><path clip-path=\"url(#clip480)\" d=\"M660.911 1143.04 L666.768 1143.04 L666.768 1192.56 L660.911 1192.56 L660.911 1143.04 Z\" fill=\"#000000\" fill-rule=\"evenodd\" fill-opacity=\"1\" /><path clip-path=\"url(#clip480)\" d=\"M701.747 1157.97 L701.747 1163.5 Q699.265 1162.23 696.591 1161.59 Q693.917 1160.96 691.053 1160.96 Q686.692 1160.96 684.496 1162.29 Q682.332 1163.63 682.332 1166.31 Q682.332 1168.34 683.891 1169.52 Q685.451 1170.67 690.162 1171.72 L692.167 1172.16 Q698.405 1173.5 701.015 1175.95 Q703.657 1178.37 703.657 1182.73 Q703.657 1187.69 699.71 1190.59 Q695.795 1193.49 688.92 1193.49 Q686.056 1193.49 682.936 1192.91 Q679.849 1192.37 676.412 1191.26 L676.412 1185.21 Q679.658 1186.9 682.809 1187.76 Q685.96 1188.59 689.048 1188.59 Q693.185 1188.59 695.413 1187.18 Q697.641 1185.75 697.641 1183.17 Q697.641 1180.79 696.018 1179.51 Q694.427 1178.24 688.984 1177.06 L686.947 1176.59 Q681.504 1175.44 679.085 1173.08 Q676.666 1170.7 676.666 1166.56 Q676.666 1161.53 680.231 1158.79 Q683.796 1156.06 690.353 1156.06 Q693.599 1156.06 696.464 1156.53 Q699.328 1157.01 701.747 1157.97 Z\" fill=\"#000000\" fill-rule=\"evenodd\" fill-opacity=\"1\" /><path clip-path=\"url(#clip480)\" d=\"M739.496 1146.79 L739.496 1156.92 L751.559 1156.92 L751.559 1161.47 L739.496 1161.47 L739.496 1180.82 Q739.496 1185.18 740.673 1186.42 Q741.883 1187.66 745.543 1187.66 L751.559 1187.66 L751.559 1192.56 L745.543 1192.56 Q738.764 1192.56 736.186 1190.05 Q733.607 1187.5 733.607 1180.82 L733.607 1161.47 L729.311 1161.47 L729.311 1156.92 L733.607 1156.92 L733.607 1146.79 L739.496 1146.79 Z\" fill=\"#000000\" fill-rule=\"evenodd\" fill-opacity=\"1\" /><path clip-path=\"url(#clip480)\" d=\"M789.753 1173.28 L789.753 1176.14 L762.826 1176.14 Q763.208 1182.19 766.455 1185.37 Q769.733 1188.52 775.557 1188.52 Q778.931 1188.52 782.082 1187.69 Q785.265 1186.87 788.384 1185.21 L788.384 1190.75 Q785.233 1192.09 781.923 1192.79 Q778.613 1193.49 775.207 1193.49 Q766.677 1193.49 761.68 1188.52 Q756.715 1183.56 756.715 1175.09 Q756.715 1166.34 761.426 1161.21 Q766.168 1156.06 774.189 1156.06 Q781.382 1156.06 785.552 1160.7 Q789.753 1165.32 789.753 1173.28 M783.897 1171.56 Q783.833 1166.75 781.191 1163.89 Q778.581 1161.02 774.253 1161.02 Q769.351 1161.02 766.391 1163.79 Q763.463 1166.56 763.017 1171.59 L783.897 1171.56 Z\" fill=\"#000000\" fill-rule=\"evenodd\" fill-opacity=\"1\" /><path clip-path=\"url(#clip480)\" d=\"M822.091 1157.97 L822.091 1163.5 Q819.608 1162.23 816.935 1161.59 Q814.261 1160.96 811.396 1160.96 Q807.036 1160.96 804.84 1162.29 Q802.675 1163.63 802.675 1166.31 Q802.675 1168.34 804.235 1169.52 Q805.795 1170.67 810.505 1171.72 L812.51 1172.16 Q818.749 1173.5 821.359 1175.95 Q824.001 1178.37 824.001 1182.73 Q824.001 1187.69 820.054 1190.59 Q816.139 1193.49 809.264 1193.49 Q806.399 1193.49 803.28 1192.91 Q800.193 1192.37 796.755 1191.26 L796.755 1185.21 Q800.002 1186.9 803.153 1187.76 Q806.304 1188.59 809.391 1188.59 Q813.529 1188.59 815.757 1187.18 Q817.985 1185.75 817.985 1183.17 Q817.985 1180.79 816.362 1179.51 Q814.77 1178.24 809.328 1177.06 L807.291 1176.59 Q801.848 1175.44 799.429 1173.08 Q797.01 1170.7 797.01 1166.56 Q797.01 1161.53 800.575 1158.79 Q804.14 1156.06 810.696 1156.06 Q813.943 1156.06 816.807 1156.53 Q819.672 1157.01 822.091 1157.97 Z\" fill=\"#000000\" fill-rule=\"evenodd\" fill-opacity=\"1\" /><path clip-path=\"url(#clip480)\" d=\"M839.119 1146.79 L839.119 1156.92 L851.182 1156.92 L851.182 1161.47 L839.119 1161.47 L839.119 1180.82 Q839.119 1185.18 840.297 1186.42 Q841.506 1187.66 845.167 1187.66 L851.182 1187.66 L851.182 1192.56 L845.167 1192.56 Q838.387 1192.56 835.809 1190.05 Q833.231 1187.5 833.231 1180.82 L833.231 1161.47 L828.934 1161.47 L828.934 1156.92 L833.231 1156.92 L833.231 1146.79 L839.119 1146.79 Z\" fill=\"#000000\" fill-rule=\"evenodd\" fill-opacity=\"1\" /><path clip-path=\"url(#clip480)\" d=\"M903.063 1162.33 L903.063 1143.04 L908.919 1143.04 L908.919 1192.56 L903.063 1192.56 L903.063 1187.22 Q901.217 1190.4 898.384 1191.96 Q895.583 1193.49 891.636 1193.49 Q885.175 1193.49 881.101 1188.33 Q877.059 1183.17 877.059 1174.77 Q877.059 1166.37 881.101 1161.21 Q885.175 1156.06 891.636 1156.06 Q895.583 1156.06 898.384 1157.62 Q901.217 1159.14 903.063 1162.33 M883.106 1174.77 Q883.106 1181.23 885.748 1184.92 Q888.421 1188.59 893.068 1188.59 Q897.715 1188.59 900.389 1184.92 Q903.063 1181.23 903.063 1174.77 Q903.063 1168.31 900.389 1164.65 Q897.715 1160.96 893.068 1160.96 Q888.421 1160.96 885.748 1164.65 Q883.106 1168.31 883.106 1174.77 Z\" fill=\"#000000\" fill-rule=\"evenodd\" fill-opacity=\"1\" /><path clip-path=\"url(#clip480)\" d=\"M937.183 1174.64 Q930.085 1174.64 927.348 1176.27 Q924.611 1177.89 924.611 1181.81 Q924.611 1184.92 926.648 1186.77 Q928.716 1188.59 932.249 1188.59 Q937.119 1188.59 940.047 1185.15 Q943.007 1181.68 943.007 1175.95 L943.007 1174.64 L937.183 1174.64 M948.864 1172.23 L948.864 1192.56 L943.007 1192.56 L943.007 1187.15 Q941.002 1190.4 938.01 1191.96 Q935.018 1193.49 930.69 1193.49 Q925.215 1193.49 921.969 1190.43 Q918.754 1187.34 918.754 1182.19 Q918.754 1176.17 922.764 1173.12 Q926.807 1170.06 934.796 1170.06 L943.007 1170.06 L943.007 1169.49 Q943.007 1165.45 940.334 1163.25 Q937.692 1161.02 932.886 1161.02 Q929.83 1161.02 926.934 1161.75 Q924.038 1162.49 921.364 1163.95 L921.364 1158.54 Q924.579 1157.3 927.602 1156.69 Q930.626 1156.06 933.491 1156.06 Q941.225 1156.06 945.044 1160.07 Q948.864 1164.08 948.864 1172.23 Z\" fill=\"#000000\" fill-rule=\"evenodd\" fill-opacity=\"1\" /><path clip-path=\"url(#clip480)\" d=\"M966.72 1146.79 L966.72 1156.92 L978.783 1156.92 L978.783 1161.47 L966.72 1161.47 L966.72 1180.82 Q966.72 1185.18 967.897 1186.42 Q969.107 1187.66 972.767 1187.66 L978.783 1187.66 L978.783 1192.56 L972.767 1192.56 Q965.988 1192.56 963.41 1190.05 Q960.831 1187.5 960.831 1180.82 L960.831 1161.47 L956.535 1161.47 L956.535 1156.92 L960.831 1156.92 L960.831 1146.79 L966.72 1146.79 Z\" fill=\"#000000\" fill-rule=\"evenodd\" fill-opacity=\"1\" /><path clip-path=\"url(#clip480)\" d=\"M1002.69 1174.64 Q995.588 1174.64 992.851 1176.27 Q990.114 1177.89 990.114 1181.81 Q990.114 1184.92 992.151 1186.77 Q994.22 1188.59 997.752 1188.59 Q1002.62 1188.59 1005.55 1185.15 Q1008.51 1181.68 1008.51 1175.95 L1008.51 1174.64 L1002.69 1174.64 M1014.37 1172.23 L1014.37 1192.56 L1008.51 1192.56 L1008.51 1187.15 Q1006.51 1190.4 1003.51 1191.96 Q1000.52 1193.49 996.193 1193.49 Q990.718 1193.49 987.472 1190.43 Q984.257 1187.34 984.257 1182.19 Q984.257 1176.17 988.268 1173.12 Q992.31 1170.06 1000.3 1170.06 L1008.51 1170.06 L1008.51 1169.49 Q1008.51 1165.45 1005.84 1163.25 Q1003.2 1161.02 998.389 1161.02 Q995.334 1161.02 992.437 1161.75 Q989.541 1162.49 986.867 1163.95 L986.867 1158.54 Q990.082 1157.3 993.106 1156.69 Q996.129 1156.06 998.994 1156.06 Q1006.73 1156.06 1010.55 1160.07 Q1014.37 1164.08 1014.37 1172.23 Z\" fill=\"#000000\" fill-rule=\"evenodd\" fill-opacity=\"1\" /><polyline clip-path=\"url(#clip482)\" style=\"stroke:#000000; stroke-linecap:butt; stroke-linejoin:round; stroke-width:2; stroke-opacity:0.1; fill:none\" points=\"\n",
       "  224.098,999.779 1152.76,999.779 \n",
       "  \"/>\n",
       "<polyline clip-path=\"url(#clip482)\" style=\"stroke:#000000; stroke-linecap:butt; stroke-linejoin:round; stroke-width:2; stroke-opacity:0.1; fill:none\" points=\"\n",
       "  224.098,794.377 1152.76,794.377 \n",
       "  \"/>\n",
       "<polyline clip-path=\"url(#clip482)\" style=\"stroke:#000000; stroke-linecap:butt; stroke-linejoin:round; stroke-width:2; stroke-opacity:0.1; fill:none\" points=\"\n",
       "  224.098,588.975 1152.76,588.975 \n",
       "  \"/>\n",
       "<polyline clip-path=\"url(#clip482)\" style=\"stroke:#000000; stroke-linecap:butt; stroke-linejoin:round; stroke-width:2; stroke-opacity:0.1; fill:none\" points=\"\n",
       "  224.098,383.573 1152.76,383.573 \n",
       "  \"/>\n",
       "<polyline clip-path=\"url(#clip482)\" style=\"stroke:#000000; stroke-linecap:butt; stroke-linejoin:round; stroke-width:2; stroke-opacity:0.1; fill:none\" points=\"\n",
       "  224.098,178.171 1152.76,178.171 \n",
       "  \"/>\n",
       "<polyline clip-path=\"url(#clip480)\" style=\"stroke:#000000; stroke-linecap:butt; stroke-linejoin:round; stroke-width:4; stroke-opacity:1; fill:none\" points=\"\n",
       "  224.098,1047.7 224.098,47.2441 \n",
       "  \"/>\n",
       "<polyline clip-path=\"url(#clip480)\" style=\"stroke:#000000; stroke-linecap:butt; stroke-linejoin:round; stroke-width:4; stroke-opacity:1; fill:none\" points=\"\n",
       "  224.098,999.779 242.996,999.779 \n",
       "  \"/>\n",
       "<polyline clip-path=\"url(#clip480)\" style=\"stroke:#000000; stroke-linecap:butt; stroke-linejoin:round; stroke-width:4; stroke-opacity:1; fill:none\" points=\"\n",
       "  224.098,794.377 242.996,794.377 \n",
       "  \"/>\n",
       "<polyline clip-path=\"url(#clip480)\" style=\"stroke:#000000; stroke-linecap:butt; stroke-linejoin:round; stroke-width:4; stroke-opacity:1; fill:none\" points=\"\n",
       "  224.098,588.975 242.996,588.975 \n",
       "  \"/>\n",
       "<polyline clip-path=\"url(#clip480)\" style=\"stroke:#000000; stroke-linecap:butt; stroke-linejoin:round; stroke-width:4; stroke-opacity:1; fill:none\" points=\"\n",
       "  224.098,383.573 242.996,383.573 \n",
       "  \"/>\n",
       "<polyline clip-path=\"url(#clip480)\" style=\"stroke:#000000; stroke-linecap:butt; stroke-linejoin:round; stroke-width:4; stroke-opacity:1; fill:none\" points=\"\n",
       "  224.098,178.171 242.996,178.171 \n",
       "  \"/>\n",
       "<path clip-path=\"url(#clip480)\" d=\"M50.9921 1000.23 L80.6679 1000.23 L80.6679 1004.17 L50.9921 1004.17 L50.9921 1000.23 Z\" fill=\"#000000\" fill-rule=\"evenodd\" fill-opacity=\"1\" /><path clip-path=\"url(#clip480)\" d=\"M100.76 985.578 Q97.1493 985.578 95.3206 989.143 Q93.515 992.684 93.515 999.814 Q93.515 1006.92 95.3206 1010.49 Q97.1493 1014.03 100.76 1014.03 Q104.395 1014.03 106.2 1010.49 Q108.029 1006.92 108.029 999.814 Q108.029 992.684 106.2 989.143 Q104.395 985.578 100.76 985.578 M100.76 981.874 Q106.571 981.874 109.626 986.481 Q112.705 991.064 112.705 999.814 Q112.705 1008.54 109.626 1013.15 Q106.571 1017.73 100.76 1017.73 Q94.9502 1017.73 91.8715 1013.15 Q88.816 1008.54 88.816 999.814 Q88.816 991.064 91.8715 986.481 Q94.9502 981.874 100.76 981.874 Z\" fill=\"#000000\" fill-rule=\"evenodd\" fill-opacity=\"1\" /><path clip-path=\"url(#clip480)\" d=\"M120.922 1011.18 L125.807 1011.18 L125.807 1017.06 L120.922 1017.06 L120.922 1011.18 Z\" fill=\"#000000\" fill-rule=\"evenodd\" fill-opacity=\"1\" /><path clip-path=\"url(#clip480)\" d=\"M136.038 982.499 L154.394 982.499 L154.394 986.434 L140.32 986.434 L140.32 994.906 Q141.339 994.559 142.357 994.397 Q143.376 994.212 144.394 994.212 Q150.181 994.212 153.561 997.383 Q156.941 1000.55 156.941 1005.97 Q156.941 1011.55 153.468 1014.65 Q149.996 1017.73 143.677 1017.73 Q141.501 1017.73 139.232 1017.36 Q136.987 1016.99 134.58 1016.25 L134.58 1011.55 Q136.663 1012.68 138.885 1013.24 Q141.107 1013.8 143.584 1013.8 Q147.589 1013.8 149.927 1011.69 Q152.265 1009.58 152.265 1005.97 Q152.265 1002.36 149.927 1000.25 Q147.589 998.147 143.584 998.147 Q141.709 998.147 139.834 998.564 Q137.982 998.98 136.038 999.86 L136.038 982.499 Z\" fill=\"#000000\" fill-rule=\"evenodd\" fill-opacity=\"1\" /><path clip-path=\"url(#clip480)\" d=\"M176.153 985.578 Q172.542 985.578 170.714 989.143 Q168.908 992.684 168.908 999.814 Q168.908 1006.92 170.714 1010.49 Q172.542 1014.03 176.153 1014.03 Q179.788 1014.03 181.593 1010.49 Q183.422 1006.92 183.422 999.814 Q183.422 992.684 181.593 989.143 Q179.788 985.578 176.153 985.578 M176.153 981.874 Q181.964 981.874 185.019 986.481 Q188.098 991.064 188.098 999.814 Q188.098 1008.54 185.019 1013.15 Q181.964 1017.73 176.153 1017.73 Q170.343 1017.73 167.265 1013.15 Q164.209 1008.54 164.209 999.814 Q164.209 991.064 167.265 986.481 Q170.343 981.874 176.153 981.874 Z\" fill=\"#000000\" fill-rule=\"evenodd\" fill-opacity=\"1\" /><path clip-path=\"url(#clip480)\" d=\"M51.9875 794.829 L81.6633 794.829 L81.6633 798.764 L51.9875 798.764 L51.9875 794.829 Z\" fill=\"#000000\" fill-rule=\"evenodd\" fill-opacity=\"1\" /><path clip-path=\"url(#clip480)\" d=\"M101.756 780.176 Q98.1447 780.176 96.316 783.741 Q94.5104 787.282 94.5104 794.412 Q94.5104 801.518 96.316 805.083 Q98.1447 808.625 101.756 808.625 Q105.39 808.625 107.196 805.083 Q109.024 801.518 109.024 794.412 Q109.024 787.282 107.196 783.741 Q105.39 780.176 101.756 780.176 M101.756 776.472 Q107.566 776.472 110.621 781.079 Q113.7 785.662 113.7 794.412 Q113.7 803.139 110.621 807.745 Q107.566 812.328 101.756 812.328 Q95.9456 812.328 92.8669 807.745 Q89.8114 803.139 89.8114 794.412 Q89.8114 785.662 92.8669 781.079 Q95.9456 776.472 101.756 776.472 Z\" fill=\"#000000\" fill-rule=\"evenodd\" fill-opacity=\"1\" /><path clip-path=\"url(#clip480)\" d=\"M121.918 805.778 L126.802 805.778 L126.802 811.657 L121.918 811.657 L121.918 805.778 Z\" fill=\"#000000\" fill-rule=\"evenodd\" fill-opacity=\"1\" /><path clip-path=\"url(#clip480)\" d=\"M141.015 807.722 L157.334 807.722 L157.334 811.657 L135.39 811.657 L135.39 807.722 Q138.052 804.967 142.635 800.338 Q147.242 795.685 148.422 794.342 Q150.668 791.819 151.547 790.083 Q152.45 788.324 152.45 786.634 Q152.45 783.88 150.505 782.143 Q148.584 780.407 145.482 780.407 Q143.283 780.407 140.83 781.171 Q138.399 781.935 135.621 783.486 L135.621 778.764 Q138.445 777.63 140.899 777.051 Q143.353 776.472 145.39 776.472 Q150.76 776.472 153.955 779.157 Q157.149 781.842 157.149 786.333 Q157.149 788.463 156.339 790.384 Q155.552 792.282 153.445 794.875 Q152.867 795.546 149.765 798.764 Q146.663 801.958 141.015 807.722 Z\" fill=\"#000000\" fill-rule=\"evenodd\" fill-opacity=\"1\" /><path clip-path=\"url(#clip480)\" d=\"M167.195 777.097 L185.552 777.097 L185.552 781.032 L171.478 781.032 L171.478 789.504 Q172.496 789.157 173.515 788.995 Q174.533 788.81 175.552 788.81 Q181.339 788.81 184.718 791.981 Q188.098 795.153 188.098 800.569 Q188.098 806.148 184.626 809.25 Q181.153 812.328 174.834 812.328 Q172.658 812.328 170.39 811.958 Q168.144 811.588 165.737 810.847 L165.737 806.148 Q167.82 807.282 170.042 807.838 Q172.265 808.393 174.741 808.393 Q178.746 808.393 181.084 806.287 Q183.422 804.18 183.422 800.569 Q183.422 796.958 181.084 794.852 Q178.746 792.745 174.741 792.745 Q172.866 792.745 170.991 793.162 Q169.14 793.579 167.195 794.458 L167.195 777.097 Z\" fill=\"#000000\" fill-rule=\"evenodd\" fill-opacity=\"1\" /><path clip-path=\"url(#clip480)\" d=\"M100.76 574.774 Q97.1493 574.774 95.3206 578.339 Q93.515 581.88 93.515 589.01 Q93.515 596.116 95.3206 599.681 Q97.1493 603.223 100.76 603.223 Q104.395 603.223 106.2 599.681 Q108.029 596.116 108.029 589.01 Q108.029 581.88 106.2 578.339 Q104.395 574.774 100.76 574.774 M100.76 571.07 Q106.571 571.07 109.626 575.677 Q112.705 580.26 112.705 589.01 Q112.705 597.737 109.626 602.343 Q106.571 606.926 100.76 606.926 Q94.9502 606.926 91.8715 602.343 Q88.816 597.737 88.816 589.01 Q88.816 580.26 91.8715 575.677 Q94.9502 571.07 100.76 571.07 Z\" fill=\"#000000\" fill-rule=\"evenodd\" fill-opacity=\"1\" /><path clip-path=\"url(#clip480)\" d=\"M120.922 600.376 L125.807 600.376 L125.807 606.255 L120.922 606.255 L120.922 600.376 Z\" fill=\"#000000\" fill-rule=\"evenodd\" fill-opacity=\"1\" /><path clip-path=\"url(#clip480)\" d=\"M145.992 574.774 Q142.381 574.774 140.552 578.339 Q138.746 581.88 138.746 589.01 Q138.746 596.116 140.552 599.681 Q142.381 603.223 145.992 603.223 Q149.626 603.223 151.431 599.681 Q153.26 596.116 153.26 589.01 Q153.26 581.88 151.431 578.339 Q149.626 574.774 145.992 574.774 M145.992 571.07 Q151.802 571.07 154.857 575.677 Q157.936 580.26 157.936 589.01 Q157.936 597.737 154.857 602.343 Q151.802 606.926 145.992 606.926 Q140.181 606.926 137.103 602.343 Q134.047 597.737 134.047 589.01 Q134.047 580.26 137.103 575.677 Q140.181 571.07 145.992 571.07 Z\" fill=\"#000000\" fill-rule=\"evenodd\" fill-opacity=\"1\" /><path clip-path=\"url(#clip480)\" d=\"M176.153 574.774 Q172.542 574.774 170.714 578.339 Q168.908 581.88 168.908 589.01 Q168.908 596.116 170.714 599.681 Q172.542 603.223 176.153 603.223 Q179.788 603.223 181.593 599.681 Q183.422 596.116 183.422 589.01 Q183.422 581.88 181.593 578.339 Q179.788 574.774 176.153 574.774 M176.153 571.07 Q181.964 571.07 185.019 575.677 Q188.098 580.26 188.098 589.01 Q188.098 597.737 185.019 602.343 Q181.964 606.926 176.153 606.926 Q170.343 606.926 167.265 602.343 Q164.209 597.737 164.209 589.01 Q164.209 580.26 167.265 575.677 Q170.343 571.07 176.153 571.07 Z\" fill=\"#000000\" fill-rule=\"evenodd\" fill-opacity=\"1\" /><path clip-path=\"url(#clip480)\" d=\"M101.756 369.372 Q98.1447 369.372 96.316 372.937 Q94.5104 376.478 94.5104 383.608 Q94.5104 390.714 96.316 394.279 Q98.1447 397.821 101.756 397.821 Q105.39 397.821 107.196 394.279 Q109.024 390.714 109.024 383.608 Q109.024 376.478 107.196 372.937 Q105.39 369.372 101.756 369.372 M101.756 365.668 Q107.566 365.668 110.621 370.275 Q113.7 374.858 113.7 383.608 Q113.7 392.335 110.621 396.941 Q107.566 401.525 101.756 401.525 Q95.9456 401.525 92.8669 396.941 Q89.8114 392.335 89.8114 383.608 Q89.8114 374.858 92.8669 370.275 Q95.9456 365.668 101.756 365.668 Z\" fill=\"#000000\" fill-rule=\"evenodd\" fill-opacity=\"1\" /><path clip-path=\"url(#clip480)\" d=\"M121.918 394.974 L126.802 394.974 L126.802 400.853 L121.918 400.853 L121.918 394.974 Z\" fill=\"#000000\" fill-rule=\"evenodd\" fill-opacity=\"1\" /><path clip-path=\"url(#clip480)\" d=\"M141.015 396.918 L157.334 396.918 L157.334 400.853 L135.39 400.853 L135.39 396.918 Q138.052 394.163 142.635 389.534 Q147.242 384.881 148.422 383.539 Q150.668 381.015 151.547 379.279 Q152.45 377.52 152.45 375.83 Q152.45 373.076 150.505 371.34 Q148.584 369.603 145.482 369.603 Q143.283 369.603 140.83 370.367 Q138.399 371.131 135.621 372.682 L135.621 367.96 Q138.445 366.826 140.899 366.247 Q143.353 365.668 145.39 365.668 Q150.76 365.668 153.955 368.353 Q157.149 371.039 157.149 375.529 Q157.149 377.659 156.339 379.58 Q155.552 381.478 153.445 384.071 Q152.867 384.742 149.765 387.96 Q146.663 391.154 141.015 396.918 Z\" fill=\"#000000\" fill-rule=\"evenodd\" fill-opacity=\"1\" /><path clip-path=\"url(#clip480)\" d=\"M167.195 366.293 L185.552 366.293 L185.552 370.228 L171.478 370.228 L171.478 378.701 Q172.496 378.353 173.515 378.191 Q174.533 378.006 175.552 378.006 Q181.339 378.006 184.718 381.177 Q188.098 384.349 188.098 389.765 Q188.098 395.344 184.626 398.446 Q181.153 401.525 174.834 401.525 Q172.658 401.525 170.39 401.154 Q168.144 400.784 165.737 400.043 L165.737 395.344 Q167.82 396.478 170.042 397.034 Q172.265 397.589 174.741 397.589 Q178.746 397.589 181.084 395.483 Q183.422 393.376 183.422 389.765 Q183.422 386.154 181.084 384.048 Q178.746 381.941 174.741 381.941 Q172.866 381.941 170.991 382.358 Q169.14 382.775 167.195 383.654 L167.195 366.293 Z\" fill=\"#000000\" fill-rule=\"evenodd\" fill-opacity=\"1\" /><path clip-path=\"url(#clip480)\" d=\"M100.76 163.97 Q97.1493 163.97 95.3206 167.535 Q93.515 171.076 93.515 178.206 Q93.515 185.312 95.3206 188.877 Q97.1493 192.419 100.76 192.419 Q104.395 192.419 106.2 188.877 Q108.029 185.312 108.029 178.206 Q108.029 171.076 106.2 167.535 Q104.395 163.97 100.76 163.97 M100.76 160.266 Q106.571 160.266 109.626 164.873 Q112.705 169.456 112.705 178.206 Q112.705 186.933 109.626 191.539 Q106.571 196.123 100.76 196.123 Q94.9502 196.123 91.8715 191.539 Q88.816 186.933 88.816 178.206 Q88.816 169.456 91.8715 164.873 Q94.9502 160.266 100.76 160.266 Z\" fill=\"#000000\" fill-rule=\"evenodd\" fill-opacity=\"1\" /><path clip-path=\"url(#clip480)\" d=\"M120.922 189.572 L125.807 189.572 L125.807 195.451 L120.922 195.451 L120.922 189.572 Z\" fill=\"#000000\" fill-rule=\"evenodd\" fill-opacity=\"1\" /><path clip-path=\"url(#clip480)\" d=\"M136.038 160.891 L154.394 160.891 L154.394 164.826 L140.32 164.826 L140.32 173.299 Q141.339 172.951 142.357 172.789 Q143.376 172.604 144.394 172.604 Q150.181 172.604 153.561 175.776 Q156.941 178.947 156.941 184.363 Q156.941 189.942 153.468 193.044 Q149.996 196.123 143.677 196.123 Q141.501 196.123 139.232 195.752 Q136.987 195.382 134.58 194.641 L134.58 189.942 Q136.663 191.076 138.885 191.632 Q141.107 192.187 143.584 192.187 Q147.589 192.187 149.927 190.081 Q152.265 187.975 152.265 184.363 Q152.265 180.752 149.927 178.646 Q147.589 176.539 143.584 176.539 Q141.709 176.539 139.834 176.956 Q137.982 177.373 136.038 178.252 L136.038 160.891 Z\" fill=\"#000000\" fill-rule=\"evenodd\" fill-opacity=\"1\" /><path clip-path=\"url(#clip480)\" d=\"M176.153 163.97 Q172.542 163.97 170.714 167.535 Q168.908 171.076 168.908 178.206 Q168.908 185.312 170.714 188.877 Q172.542 192.419 176.153 192.419 Q179.788 192.419 181.593 188.877 Q183.422 185.312 183.422 178.206 Q183.422 171.076 181.593 167.535 Q179.788 163.97 176.153 163.97 M176.153 160.266 Q181.964 160.266 185.019 164.873 Q188.098 169.456 188.098 178.206 Q188.098 186.933 185.019 191.539 Q181.964 196.123 176.153 196.123 Q170.343 196.123 167.265 191.539 Q164.209 186.933 164.209 178.206 Q164.209 169.456 167.265 164.873 Q170.343 160.266 176.153 160.266 Z\" fill=\"#000000\" fill-rule=\"evenodd\" fill-opacity=\"1\" /><circle clip-path=\"url(#clip482)\" cx=\"1046.84\" cy=\"410.39\" r=\"14\" fill=\"#cd5c5c\" fill-rule=\"evenodd\" fill-opacity=\"1\" stroke=\"#000000\" stroke-opacity=\"1\" stroke-width=\"2.4\"/>\n",
       "<circle clip-path=\"url(#clip482)\" cx=\"660.489\" cy=\"901.325\" r=\"14\" fill=\"#cd5c5c\" fill-rule=\"evenodd\" fill-opacity=\"1\" stroke=\"#000000\" stroke-opacity=\"1\" stroke-width=\"2.4\"/>\n",
       "<circle clip-path=\"url(#clip482)\" cx=\"663.52\" cy=\"1000.74\" r=\"14\" fill=\"#cd5c5c\" fill-rule=\"evenodd\" fill-opacity=\"1\" stroke=\"#000000\" stroke-opacity=\"1\" stroke-width=\"2.4\"/>\n",
       "<circle clip-path=\"url(#clip482)\" cx=\"662.997\" cy=\"930.093\" r=\"14\" fill=\"#cd5c5c\" fill-rule=\"evenodd\" fill-opacity=\"1\" stroke=\"#000000\" stroke-opacity=\"1\" stroke-width=\"2.4\"/>\n",
       "<circle clip-path=\"url(#clip482)\" cx=\"699.233\" cy=\"692.657\" r=\"14\" fill=\"#cd5c5c\" fill-rule=\"evenodd\" fill-opacity=\"1\" stroke=\"#000000\" stroke-opacity=\"1\" stroke-width=\"2.4\"/>\n",
       "<circle clip-path=\"url(#clip482)\" cx=\"629.152\" cy=\"946.932\" r=\"14\" fill=\"#cd5c5c\" fill-rule=\"evenodd\" fill-opacity=\"1\" stroke=\"#000000\" stroke-opacity=\"1\" stroke-width=\"2.4\"/>\n",
       "<circle clip-path=\"url(#clip482)\" cx=\"521.524\" cy=\"727.034\" r=\"14\" fill=\"#cd5c5c\" fill-rule=\"evenodd\" fill-opacity=\"1\" stroke=\"#000000\" stroke-opacity=\"1\" stroke-width=\"2.4\"/>\n",
       "<circle clip-path=\"url(#clip482)\" cx=\"250.381\" cy=\"616.088\" r=\"14\" fill=\"#cd5c5c\" fill-rule=\"evenodd\" fill-opacity=\"1\" stroke=\"#000000\" stroke-opacity=\"1\" stroke-width=\"2.4\"/>\n",
       "<circle clip-path=\"url(#clip482)\" cx=\"425.309\" cy=\"394.076\" r=\"14\" fill=\"#cd5c5c\" fill-rule=\"evenodd\" fill-opacity=\"1\" stroke=\"#000000\" stroke-opacity=\"1\" stroke-width=\"2.4\"/>\n",
       "<circle clip-path=\"url(#clip482)\" cx=\"684.644\" cy=\"546.484\" r=\"14\" fill=\"#cd5c5c\" fill-rule=\"evenodd\" fill-opacity=\"1\" stroke=\"#000000\" stroke-opacity=\"1\" stroke-width=\"2.4\"/>\n",
       "<circle clip-path=\"url(#clip482)\" cx=\"499.36\" cy=\"243.043\" r=\"14\" fill=\"#cd5c5c\" fill-rule=\"evenodd\" fill-opacity=\"1\" stroke=\"#000000\" stroke-opacity=\"1\" stroke-width=\"2.4\"/>\n",
       "<circle clip-path=\"url(#clip482)\" cx=\"966.897\" cy=\"656.054\" r=\"14\" fill=\"#cd5c5c\" fill-rule=\"evenodd\" fill-opacity=\"1\" stroke=\"#000000\" stroke-opacity=\"1\" stroke-width=\"2.4\"/>\n",
       "<circle clip-path=\"url(#clip482)\" cx=\"653.288\" cy=\"75.5589\" r=\"14\" fill=\"#cd5c5c\" fill-rule=\"evenodd\" fill-opacity=\"1\" stroke=\"#000000\" stroke-opacity=\"1\" stroke-width=\"2.4\"/>\n",
       "<circle clip-path=\"url(#clip482)\" cx=\"723.503\" cy=\"465.217\" r=\"14\" fill=\"#cd5c5c\" fill-rule=\"evenodd\" fill-opacity=\"1\" stroke=\"#000000\" stroke-opacity=\"1\" stroke-width=\"2.4\"/>\n",
       "<circle clip-path=\"url(#clip482)\" cx=\"616.794\" cy=\"535.018\" r=\"14\" fill=\"#cd5c5c\" fill-rule=\"evenodd\" fill-opacity=\"1\" stroke=\"#000000\" stroke-opacity=\"1\" stroke-width=\"2.4\"/>\n",
       "<circle clip-path=\"url(#clip482)\" cx=\"881.722\" cy=\"309.784\" r=\"14\" fill=\"#cd5c5c\" fill-rule=\"evenodd\" fill-opacity=\"1\" stroke=\"#000000\" stroke-opacity=\"1\" stroke-width=\"2.4\"/>\n",
       "<circle clip-path=\"url(#clip482)\" cx=\"610.048\" cy=\"952.347\" r=\"14\" fill=\"#cd5c5c\" fill-rule=\"evenodd\" fill-opacity=\"1\" stroke=\"#000000\" stroke-opacity=\"1\" stroke-width=\"2.4\"/>\n",
       "<circle clip-path=\"url(#clip482)\" cx=\"809.393\" cy=\"819.653\" r=\"14\" fill=\"#cd5c5c\" fill-rule=\"evenodd\" fill-opacity=\"1\" stroke=\"#000000\" stroke-opacity=\"1\" stroke-width=\"2.4\"/>\n",
       "<circle clip-path=\"url(#clip482)\" cx=\"583.161\" cy=\"924.895\" r=\"14\" fill=\"#cd5c5c\" fill-rule=\"evenodd\" fill-opacity=\"1\" stroke=\"#000000\" stroke-opacity=\"1\" stroke-width=\"2.4\"/>\n",
       "<circle clip-path=\"url(#clip482)\" cx=\"716.964\" cy=\"477.338\" r=\"14\" fill=\"#cd5c5c\" fill-rule=\"evenodd\" fill-opacity=\"1\" stroke=\"#000000\" stroke-opacity=\"1\" stroke-width=\"2.4\"/>\n",
       "<circle clip-path=\"url(#clip482)\" cx=\"717.518\" cy=\"416.738\" r=\"14\" fill=\"#cd5c5c\" fill-rule=\"evenodd\" fill-opacity=\"1\" stroke=\"#000000\" stroke-opacity=\"1\" stroke-width=\"2.4\"/>\n",
       "<circle clip-path=\"url(#clip482)\" cx=\"803.896\" cy=\"605.295\" r=\"14\" fill=\"#cd5c5c\" fill-rule=\"evenodd\" fill-opacity=\"1\" stroke=\"#000000\" stroke-opacity=\"1\" stroke-width=\"2.4\"/>\n",
       "<circle clip-path=\"url(#clip482)\" cx=\"736.681\" cy=\"656.431\" r=\"14\" fill=\"#cd5c5c\" fill-rule=\"evenodd\" fill-opacity=\"1\" stroke=\"#000000\" stroke-opacity=\"1\" stroke-width=\"2.4\"/>\n",
       "<circle clip-path=\"url(#clip482)\" cx=\"857.673\" cy=\"289.348\" r=\"14\" fill=\"#cd5c5c\" fill-rule=\"evenodd\" fill-opacity=\"1\" stroke=\"#000000\" stroke-opacity=\"1\" stroke-width=\"2.4\"/>\n",
       "<circle clip-path=\"url(#clip482)\" cx=\"704.885\" cy=\"649.161\" r=\"14\" fill=\"#cd5c5c\" fill-rule=\"evenodd\" fill-opacity=\"1\" stroke=\"#000000\" stroke-opacity=\"1\" stroke-width=\"2.4\"/>\n",
       "<circle clip-path=\"url(#clip482)\" cx=\"858.114\" cy=\"513.14\" r=\"14\" fill=\"#cd5c5c\" fill-rule=\"evenodd\" fill-opacity=\"1\" stroke=\"#000000\" stroke-opacity=\"1\" stroke-width=\"2.4\"/>\n",
       "<circle clip-path=\"url(#clip482)\" cx=\"802.534\" cy=\"405.059\" r=\"14\" fill=\"#4682b4\" fill-rule=\"evenodd\" fill-opacity=\"1\" stroke=\"#000000\" stroke-opacity=\"1\" stroke-width=\"2.4\"/>\n",
       "<circle clip-path=\"url(#clip482)\" cx=\"913.928\" cy=\"1019.39\" r=\"14\" fill=\"#4682b4\" fill-rule=\"evenodd\" fill-opacity=\"1\" stroke=\"#000000\" stroke-opacity=\"1\" stroke-width=\"2.4\"/>\n",
       "<circle clip-path=\"url(#clip482)\" cx=\"683.16\" cy=\"720.726\" r=\"14\" fill=\"#4682b4\" fill-rule=\"evenodd\" fill-opacity=\"1\" stroke=\"#000000\" stroke-opacity=\"1\" stroke-width=\"2.4\"/>\n",
       "<circle clip-path=\"url(#clip482)\" cx=\"642.952\" cy=\"605.567\" r=\"14\" fill=\"#4682b4\" fill-rule=\"evenodd\" fill-opacity=\"1\" stroke=\"#000000\" stroke-opacity=\"1\" stroke-width=\"2.4\"/>\n",
       "<circle clip-path=\"url(#clip482)\" cx=\"981.308\" cy=\"618.273\" r=\"14\" fill=\"#4682b4\" fill-rule=\"evenodd\" fill-opacity=\"1\" stroke=\"#000000\" stroke-opacity=\"1\" stroke-width=\"2.4\"/>\n",
       "<circle clip-path=\"url(#clip482)\" cx=\"445.897\" cy=\"755.893\" r=\"14\" fill=\"#4682b4\" fill-rule=\"evenodd\" fill-opacity=\"1\" stroke=\"#000000\" stroke-opacity=\"1\" stroke-width=\"2.4\"/>\n",
       "<circle clip-path=\"url(#clip482)\" cx=\"834.291\" cy=\"550.879\" r=\"14\" fill=\"#4682b4\" fill-rule=\"evenodd\" fill-opacity=\"1\" stroke=\"#000000\" stroke-opacity=\"1\" stroke-width=\"2.4\"/>\n",
       "<circle clip-path=\"url(#clip482)\" cx=\"408.882\" cy=\"703.806\" r=\"14\" fill=\"#4682b4\" fill-rule=\"evenodd\" fill-opacity=\"1\" stroke=\"#000000\" stroke-opacity=\"1\" stroke-width=\"2.4\"/>\n",
       "<circle clip-path=\"url(#clip482)\" cx=\"979.532\" cy=\"580.95\" r=\"14\" fill=\"#4682b4\" fill-rule=\"evenodd\" fill-opacity=\"1\" stroke=\"#000000\" stroke-opacity=\"1\" stroke-width=\"2.4\"/>\n",
       "<circle clip-path=\"url(#clip482)\" cx=\"686.316\" cy=\"396.889\" r=\"14\" fill=\"#4682b4\" fill-rule=\"evenodd\" fill-opacity=\"1\" stroke=\"#000000\" stroke-opacity=\"1\" stroke-width=\"2.4\"/>\n",
       "<circle clip-path=\"url(#clip482)\" cx=\"558.587\" cy=\"529.418\" r=\"14\" fill=\"#4682b4\" fill-rule=\"evenodd\" fill-opacity=\"1\" stroke=\"#000000\" stroke-opacity=\"1\" stroke-width=\"2.4\"/>\n",
       "<circle clip-path=\"url(#clip482)\" cx=\"752.255\" cy=\"644.857\" r=\"14\" fill=\"#4682b4\" fill-rule=\"evenodd\" fill-opacity=\"1\" stroke=\"#000000\" stroke-opacity=\"1\" stroke-width=\"2.4\"/>\n",
       "<circle clip-path=\"url(#clip482)\" cx=\"693.252\" cy=\"203.784\" r=\"14\" fill=\"#4682b4\" fill-rule=\"evenodd\" fill-opacity=\"1\" stroke=\"#000000\" stroke-opacity=\"1\" stroke-width=\"2.4\"/>\n",
       "<circle clip-path=\"url(#clip482)\" cx=\"883.168\" cy=\"423.828\" r=\"14\" fill=\"#4682b4\" fill-rule=\"evenodd\" fill-opacity=\"1\" stroke=\"#000000\" stroke-opacity=\"1\" stroke-width=\"2.4\"/>\n",
       "<circle clip-path=\"url(#clip482)\" cx=\"686.998\" cy=\"517.893\" r=\"14\" fill=\"#4682b4\" fill-rule=\"evenodd\" fill-opacity=\"1\" stroke=\"#000000\" stroke-opacity=\"1\" stroke-width=\"2.4\"/>\n",
       "<circle clip-path=\"url(#clip482)\" cx=\"407.278\" cy=\"390.104\" r=\"14\" fill=\"#4682b4\" fill-rule=\"evenodd\" fill-opacity=\"1\" stroke=\"#000000\" stroke-opacity=\"1\" stroke-width=\"2.4\"/>\n",
       "<circle clip-path=\"url(#clip482)\" cx=\"606.561\" cy=\"620.461\" r=\"14\" fill=\"#4682b4\" fill-rule=\"evenodd\" fill-opacity=\"1\" stroke=\"#000000\" stroke-opacity=\"1\" stroke-width=\"2.4\"/>\n",
       "<circle clip-path=\"url(#clip482)\" cx=\"1126.47\" cy=\"557.89\" r=\"14\" fill=\"#4682b4\" fill-rule=\"evenodd\" fill-opacity=\"1\" stroke=\"#000000\" stroke-opacity=\"1\" stroke-width=\"2.4\"/>\n",
       "<circle clip-path=\"url(#clip482)\" cx=\"276.247\" cy=\"912.56\" r=\"14\" fill=\"#4682b4\" fill-rule=\"evenodd\" fill-opacity=\"1\" stroke=\"#000000\" stroke-opacity=\"1\" stroke-width=\"2.4\"/>\n",
       "<circle clip-path=\"url(#clip482)\" cx=\"569.845\" cy=\"200.348\" r=\"14\" fill=\"#4682b4\" fill-rule=\"evenodd\" fill-opacity=\"1\" stroke=\"#000000\" stroke-opacity=\"1\" stroke-width=\"2.4\"/>\n",
       "<circle clip-path=\"url(#clip482)\" cx=\"1089.13\" cy=\"607.598\" r=\"14\" fill=\"#4682b4\" fill-rule=\"evenodd\" fill-opacity=\"1\" stroke=\"#000000\" stroke-opacity=\"1\" stroke-width=\"2.4\"/>\n",
       "<circle clip-path=\"url(#clip482)\" cx=\"302.495\" cy=\"795.527\" r=\"14\" fill=\"#4682b4\" fill-rule=\"evenodd\" fill-opacity=\"1\" stroke=\"#000000\" stroke-opacity=\"1\" stroke-width=\"2.4\"/>\n",
       "<circle clip-path=\"url(#clip482)\" cx=\"379.69\" cy=\"596.254\" r=\"14\" fill=\"#4682b4\" fill-rule=\"evenodd\" fill-opacity=\"1\" stroke=\"#000000\" stroke-opacity=\"1\" stroke-width=\"2.4\"/>\n",
       "<circle clip-path=\"url(#clip482)\" cx=\"631.631\" cy=\"335.972\" r=\"14\" fill=\"#4682b4\" fill-rule=\"evenodd\" fill-opacity=\"1\" stroke=\"#000000\" stroke-opacity=\"1\" stroke-width=\"2.4\"/>\n",
       "<path clip-path=\"url(#clip480)\" d=\"\n",
       "M864.682 236.113 L1121.8 236.113 L1121.8 80.5926 L864.682 80.5926  Z\n",
       "  \" fill=\"#ffffff\" fill-rule=\"evenodd\" fill-opacity=\"1\"/>\n",
       "<polyline clip-path=\"url(#clip480)\" style=\"stroke:#000000; stroke-linecap:butt; stroke-linejoin:round; stroke-width:4; stroke-opacity:1; fill:none\" points=\"\n",
       "  864.682,236.113 1121.8,236.113 1121.8,80.5926 864.682,80.5926 864.682,236.113 \n",
       "  \"/>\n",
       "<circle clip-path=\"url(#clip480)\" cx=\"905.956\" cy=\"132.433\" r=\"23\" fill=\"#cd5c5c\" fill-rule=\"evenodd\" fill-opacity=\"1\" stroke=\"#000000\" stroke-opacity=\"1\" stroke-width=\"3.84\"/>\n",
       "<path clip-path=\"url(#clip480)\" d=\"M975.1 117.815 L975.1 122.745 Q972.739 120.546 970.053 119.458 Q967.391 118.37 964.382 118.37 Q958.456 118.37 955.308 122.004 Q952.16 125.616 952.16 132.467 Q952.16 139.296 955.308 142.93 Q958.456 146.541 964.382 146.541 Q967.391 146.541 970.053 145.453 Q972.739 144.365 975.1 142.166 L975.1 147.051 Q972.646 148.717 969.891 149.551 Q967.16 150.384 964.104 150.384 Q956.257 150.384 951.743 145.592 Q947.229 140.777 947.229 132.467 Q947.229 124.134 951.743 119.342 Q956.257 114.528 964.104 114.528 Q967.206 114.528 969.938 115.361 Q972.692 116.171 975.1 117.815 Z\" fill=\"#000000\" fill-rule=\"evenodd\" fill-opacity=\"1\" /><path clip-path=\"url(#clip480)\" d=\"M992.183 126.773 Q988.757 126.773 986.766 129.458 Q984.776 132.12 984.776 136.773 Q984.776 141.426 986.743 144.111 Q988.734 146.773 992.183 146.773 Q995.586 146.773 997.576 144.088 Q999.567 141.402 999.567 136.773 Q999.567 132.166 997.576 129.481 Q995.586 126.773 992.183 126.773 M992.183 123.162 Q997.738 123.162 1000.91 126.773 Q1004.08 130.384 1004.08 136.773 Q1004.08 143.139 1000.91 146.773 Q997.738 150.384 992.183 150.384 Q986.604 150.384 983.433 146.773 Q980.285 143.139 980.285 136.773 Q980.285 130.384 983.433 126.773 Q986.604 123.162 992.183 123.162 Z\" fill=\"#000000\" fill-rule=\"evenodd\" fill-opacity=\"1\" /><path clip-path=\"url(#clip480)\" d=\"M1022.92 136.68 Q1017.76 136.68 1015.77 137.861 Q1013.78 139.041 1013.78 141.889 Q1013.78 144.157 1015.26 145.5 Q1016.77 146.819 1019.34 146.819 Q1022.88 146.819 1025.01 144.319 Q1027.16 141.796 1027.16 137.629 L1027.16 136.68 L1022.92 136.68 M1031.42 134.921 L1031.42 149.713 L1027.16 149.713 L1027.16 145.777 Q1025.7 148.139 1023.53 149.273 Q1021.35 150.384 1018.2 150.384 Q1014.22 150.384 1011.86 148.162 Q1009.52 145.916 1009.52 142.166 Q1009.52 137.791 1012.44 135.569 Q1015.38 133.347 1021.19 133.347 L1027.16 133.347 L1027.16 132.93 Q1027.16 129.991 1025.22 128.393 Q1023.29 126.773 1019.8 126.773 Q1017.58 126.773 1015.47 127.305 Q1013.36 127.838 1011.42 128.903 L1011.42 124.967 Q1013.76 124.065 1015.96 123.625 Q1018.15 123.162 1020.24 123.162 Q1025.86 123.162 1028.64 126.078 Q1031.42 128.995 1031.42 134.921 Z\" fill=\"#000000\" fill-rule=\"evenodd\" fill-opacity=\"1\" /><path clip-path=\"url(#clip480)\" d=\"M1044.4 116.426 L1044.4 123.787 L1053.18 123.787 L1053.18 127.097 L1044.4 127.097 L1044.4 141.171 Q1044.4 144.342 1045.26 145.245 Q1046.14 146.148 1048.8 146.148 L1053.18 146.148 L1053.18 149.713 L1048.8 149.713 Q1043.87 149.713 1042 147.884 Q1040.12 146.032 1040.12 141.171 L1040.12 127.097 L1037 127.097 L1037 123.787 L1040.12 123.787 L1040.12 116.426 L1044.4 116.426 Z\" fill=\"#000000\" fill-rule=\"evenodd\" fill-opacity=\"1\" /><circle clip-path=\"url(#clip480)\" cx=\"905.956\" cy=\"184.273\" r=\"23\" fill=\"#4682b4\" fill-rule=\"evenodd\" fill-opacity=\"1\" stroke=\"#000000\" stroke-opacity=\"1\" stroke-width=\"3.84\"/>\n",
       "<path clip-path=\"url(#clip480)\" d=\"M969.475 168.127 L969.475 172.687 Q966.813 171.414 964.452 170.789 Q962.09 170.164 959.891 170.164 Q956.072 170.164 953.989 171.645 Q951.928 173.127 951.928 175.858 Q951.928 178.15 953.294 179.331 Q954.683 180.488 958.526 181.206 L961.35 181.784 Q966.581 182.78 969.058 185.303 Q971.558 187.803 971.558 192.016 Q971.558 197.039 968.178 199.631 Q964.822 202.224 958.317 202.224 Q955.864 202.224 953.086 201.668 Q950.331 201.113 947.368 200.025 L947.368 195.21 Q950.216 196.807 952.947 197.617 Q955.678 198.428 958.317 198.428 Q962.322 198.428 964.498 196.854 Q966.674 195.28 966.674 192.363 Q966.674 189.817 965.1 188.381 Q963.549 186.946 959.984 186.229 L957.137 185.673 Q951.905 184.631 949.567 182.409 Q947.229 180.187 947.229 176.229 Q947.229 171.645 950.447 169.006 Q953.688 166.368 959.359 166.368 Q961.79 166.368 964.313 166.807 Q966.836 167.247 969.475 168.127 Z\" fill=\"#000000\" fill-rule=\"evenodd\" fill-opacity=\"1\" /><path clip-path=\"url(#clip480)\" d=\"M990.447 188.52 Q985.285 188.52 983.294 189.701 Q981.303 190.881 981.303 193.729 Q981.303 195.997 982.785 197.34 Q984.289 198.659 986.859 198.659 Q990.4 198.659 992.53 196.159 Q994.683 193.636 994.683 189.469 L994.683 188.52 L990.447 188.52 M998.942 186.761 L998.942 201.553 L994.683 201.553 L994.683 197.617 Q993.225 199.979 991.049 201.113 Q988.873 202.224 985.725 202.224 Q981.743 202.224 979.382 200.002 Q977.044 197.756 977.044 194.006 Q977.044 189.631 979.961 187.409 Q982.901 185.187 988.711 185.187 L994.683 185.187 L994.683 184.77 Q994.683 181.831 992.738 180.233 Q990.817 178.613 987.322 178.613 Q985.1 178.613 982.993 179.145 Q980.887 179.678 978.942 180.743 L978.942 176.807 Q981.28 175.905 983.479 175.465 Q985.678 175.002 987.762 175.002 Q993.387 175.002 996.164 177.918 Q998.942 180.835 998.942 186.761 Z\" fill=\"#000000\" fill-rule=\"evenodd\" fill-opacity=\"1\" /><path clip-path=\"url(#clip480)\" d=\"M1029.27 185.905 L1029.27 201.553 L1025.01 201.553 L1025.01 186.043 Q1025.01 182.363 1023.57 180.534 Q1022.14 178.706 1019.27 178.706 Q1015.82 178.706 1013.83 180.905 Q1011.84 183.104 1011.84 186.9 L1011.84 201.553 L1007.55 201.553 L1007.55 175.627 L1011.84 175.627 L1011.84 179.655 Q1013.36 177.317 1015.42 176.159 Q1017.51 175.002 1020.22 175.002 Q1024.68 175.002 1026.97 177.78 Q1029.27 180.534 1029.27 185.905 Z\" fill=\"#000000\" fill-rule=\"evenodd\" fill-opacity=\"1\" /><path clip-path=\"url(#clip480)\" d=\"M1054.82 179.562 L1054.82 165.534 L1059.08 165.534 L1059.08 201.553 L1054.82 201.553 L1054.82 197.664 Q1053.48 199.979 1051.42 201.113 Q1049.38 202.224 1046.51 202.224 Q1041.81 202.224 1038.85 198.474 Q1035.91 194.724 1035.91 188.613 Q1035.91 182.502 1038.85 178.752 Q1041.81 175.002 1046.51 175.002 Q1049.38 175.002 1051.42 176.136 Q1053.48 177.247 1054.82 179.562 M1040.31 188.613 Q1040.31 193.312 1042.23 195.997 Q1044.17 198.659 1047.55 198.659 Q1050.93 198.659 1052.88 195.997 Q1054.82 193.312 1054.82 188.613 Q1054.82 183.914 1052.88 181.252 Q1050.93 178.567 1047.55 178.567 Q1044.17 178.567 1042.23 181.252 Q1040.31 183.914 1040.31 188.613 Z\" fill=\"#000000\" fill-rule=\"evenodd\" fill-opacity=\"1\" /><path clip-path=\"url(#clip480)\" d=\"M1079.64 188.52 Q1074.47 188.52 1072.48 189.701 Q1070.49 190.881 1070.49 193.729 Q1070.49 195.997 1071.97 197.34 Q1073.48 198.659 1076.05 198.659 Q1079.59 198.659 1081.72 196.159 Q1083.87 193.636 1083.87 189.469 L1083.87 188.52 L1079.64 188.52 M1088.13 186.761 L1088.13 201.553 L1083.87 201.553 L1083.87 197.617 Q1082.41 199.979 1080.24 201.113 Q1078.06 202.224 1074.91 202.224 Q1070.93 202.224 1068.57 200.002 Q1066.23 197.756 1066.23 194.006 Q1066.23 189.631 1069.15 187.409 Q1072.09 185.187 1077.9 185.187 L1083.87 185.187 L1083.87 184.77 Q1083.87 181.831 1081.93 180.233 Q1080.01 178.613 1076.51 178.613 Q1074.29 178.613 1072.18 179.145 Q1070.08 179.678 1068.13 180.743 L1068.13 176.807 Q1070.47 175.905 1072.67 175.465 Q1074.87 175.002 1076.95 175.002 Q1082.58 175.002 1085.35 177.918 Q1088.13 180.835 1088.13 186.761 Z\" fill=\"#000000\" fill-rule=\"evenodd\" fill-opacity=\"1\" /><path clip-path=\"url(#clip480)\" d=\"M1096.9 165.534 L1101.16 165.534 L1101.16 201.553 L1096.9 201.553 L1096.9 165.534 Z\" fill=\"#000000\" fill-rule=\"evenodd\" fill-opacity=\"1\" /><path clip-path=\"url(#clip480)\" d=\"\n",
       "M1424.1 1047.7 L2352.76 1047.7 L2352.76 47.2441 L1424.1 47.2441  Z\n",
       "  \" fill=\"#ffffff\" fill-rule=\"evenodd\" fill-opacity=\"1\"/>\n",
       "<defs>\n",
       "  <clipPath id=\"clip483\">\n",
       "    <rect x=\"1424\" y=\"47\" width=\"930\" height=\"1001\"/>\n",
       "  </clipPath>\n",
       "</defs>\n",
       "<polyline clip-path=\"url(#clip483)\" style=\"stroke:#000000; stroke-linecap:butt; stroke-linejoin:round; stroke-width:2; stroke-opacity:0.1; fill:none\" points=\"\n",
       "  1513.07,1047.7 1513.07,47.2441 \n",
       "  \"/>\n",
       "<polyline clip-path=\"url(#clip483)\" style=\"stroke:#000000; stroke-linecap:butt; stroke-linejoin:round; stroke-width:2; stroke-opacity:0.1; fill:none\" points=\"\n",
       "  1699.8,1047.7 1699.8,47.2441 \n",
       "  \"/>\n",
       "<polyline clip-path=\"url(#clip483)\" style=\"stroke:#000000; stroke-linecap:butt; stroke-linejoin:round; stroke-width:2; stroke-opacity:0.1; fill:none\" points=\"\n",
       "  1886.53,1047.7 1886.53,47.2441 \n",
       "  \"/>\n",
       "<polyline clip-path=\"url(#clip483)\" style=\"stroke:#000000; stroke-linecap:butt; stroke-linejoin:round; stroke-width:2; stroke-opacity:0.1; fill:none\" points=\"\n",
       "  2073.26,1047.7 2073.26,47.2441 \n",
       "  \"/>\n",
       "<polyline clip-path=\"url(#clip483)\" style=\"stroke:#000000; stroke-linecap:butt; stroke-linejoin:round; stroke-width:2; stroke-opacity:0.1; fill:none\" points=\"\n",
       "  2259.98,1047.7 2259.98,47.2441 \n",
       "  \"/>\n",
       "<polyline clip-path=\"url(#clip480)\" style=\"stroke:#000000; stroke-linecap:butt; stroke-linejoin:round; stroke-width:4; stroke-opacity:1; fill:none\" points=\"\n",
       "  1424.1,1047.7 2352.76,1047.7 \n",
       "  \"/>\n",
       "<polyline clip-path=\"url(#clip480)\" style=\"stroke:#000000; stroke-linecap:butt; stroke-linejoin:round; stroke-width:4; stroke-opacity:1; fill:none\" points=\"\n",
       "  1513.07,1047.7 1513.07,1028.8 \n",
       "  \"/>\n",
       "<polyline clip-path=\"url(#clip480)\" style=\"stroke:#000000; stroke-linecap:butt; stroke-linejoin:round; stroke-width:4; stroke-opacity:1; fill:none\" points=\"\n",
       "  1699.8,1047.7 1699.8,1028.8 \n",
       "  \"/>\n",
       "<polyline clip-path=\"url(#clip480)\" style=\"stroke:#000000; stroke-linecap:butt; stroke-linejoin:round; stroke-width:4; stroke-opacity:1; fill:none\" points=\"\n",
       "  1886.53,1047.7 1886.53,1028.8 \n",
       "  \"/>\n",
       "<polyline clip-path=\"url(#clip480)\" style=\"stroke:#000000; stroke-linecap:butt; stroke-linejoin:round; stroke-width:4; stroke-opacity:1; fill:none\" points=\"\n",
       "  2073.26,1047.7 2073.26,1028.8 \n",
       "  \"/>\n",
       "<polyline clip-path=\"url(#clip480)\" style=\"stroke:#000000; stroke-linecap:butt; stroke-linejoin:round; stroke-width:4; stroke-opacity:1; fill:none\" points=\"\n",
       "  2259.98,1047.7 2259.98,1028.8 \n",
       "  \"/>\n",
       "<path clip-path=\"url(#clip480)\" d=\"M1444.52 1093.27 L1474.2 1093.27 L1474.2 1097.21 L1444.52 1097.21 L1444.52 1093.27 Z\" fill=\"#000000\" fill-rule=\"evenodd\" fill-opacity=\"1\" /><path clip-path=\"url(#clip480)\" d=\"M1494.29 1078.62 Q1490.68 1078.62 1488.85 1082.18 Q1487.04 1085.72 1487.04 1092.85 Q1487.04 1099.96 1488.85 1103.53 Q1490.68 1107.07 1494.29 1107.07 Q1497.92 1107.07 1499.73 1103.53 Q1501.56 1099.96 1501.56 1092.85 Q1501.56 1085.72 1499.73 1082.18 Q1497.92 1078.62 1494.29 1078.62 M1494.29 1074.91 Q1500.1 1074.91 1503.15 1079.52 Q1506.23 1084.1 1506.23 1092.85 Q1506.23 1101.58 1503.15 1106.19 Q1500.1 1110.77 1494.29 1110.77 Q1488.48 1110.77 1485.4 1106.19 Q1482.34 1101.58 1482.34 1092.85 Q1482.34 1084.1 1485.4 1079.52 Q1488.48 1074.91 1494.29 1074.91 Z\" fill=\"#000000\" fill-rule=\"evenodd\" fill-opacity=\"1\" /><path clip-path=\"url(#clip480)\" d=\"M1514.45 1104.22 L1519.33 1104.22 L1519.33 1110.1 L1514.45 1110.1 L1514.45 1104.22 Z\" fill=\"#000000\" fill-rule=\"evenodd\" fill-opacity=\"1\" /><path clip-path=\"url(#clip480)\" d=\"M1529.57 1075.54 L1547.92 1075.54 L1547.92 1079.48 L1533.85 1079.48 L1533.85 1087.95 Q1534.87 1087.6 1535.89 1087.44 Q1536.9 1087.25 1537.92 1087.25 Q1543.71 1087.25 1547.09 1090.42 Q1550.47 1093.6 1550.47 1099.01 Q1550.47 1104.59 1547 1107.69 Q1543.52 1110.77 1537.21 1110.77 Q1535.03 1110.77 1532.76 1110.4 Q1530.52 1110.03 1528.11 1109.29 L1528.11 1104.59 Q1530.19 1105.72 1532.41 1106.28 Q1534.64 1106.84 1537.11 1106.84 Q1541.12 1106.84 1543.46 1104.73 Q1545.79 1102.62 1545.79 1099.01 Q1545.79 1095.4 1543.46 1093.29 Q1541.12 1091.19 1537.11 1091.19 Q1535.24 1091.19 1533.36 1091.6 Q1531.51 1092.02 1529.57 1092.9 L1529.57 1075.54 Z\" fill=\"#000000\" fill-rule=\"evenodd\" fill-opacity=\"1\" /><path clip-path=\"url(#clip480)\" d=\"M1569.68 1078.62 Q1566.07 1078.62 1564.24 1082.18 Q1562.44 1085.72 1562.44 1092.85 Q1562.44 1099.96 1564.24 1103.53 Q1566.07 1107.07 1569.68 1107.07 Q1573.32 1107.07 1575.12 1103.53 Q1576.95 1099.96 1576.95 1092.85 Q1576.95 1085.72 1575.12 1082.18 Q1573.32 1078.62 1569.68 1078.62 M1569.68 1074.91 Q1575.49 1074.91 1578.55 1079.52 Q1581.63 1084.1 1581.63 1092.85 Q1581.63 1101.58 1578.55 1106.19 Q1575.49 1110.77 1569.68 1110.77 Q1563.87 1110.77 1560.79 1106.19 Q1557.74 1101.58 1557.74 1092.85 Q1557.74 1084.1 1560.79 1079.52 Q1563.87 1074.91 1569.68 1074.91 Z\" fill=\"#000000\" fill-rule=\"evenodd\" fill-opacity=\"1\" /><path clip-path=\"url(#clip480)\" d=\"M1631.75 1093.27 L1661.42 1093.27 L1661.42 1097.21 L1631.75 1097.21 L1631.75 1093.27 Z\" fill=\"#000000\" fill-rule=\"evenodd\" fill-opacity=\"1\" /><path clip-path=\"url(#clip480)\" d=\"M1681.51 1078.62 Q1677.9 1078.62 1676.07 1082.18 Q1674.27 1085.72 1674.27 1092.85 Q1674.27 1099.96 1676.07 1103.53 Q1677.9 1107.07 1681.51 1107.07 Q1685.15 1107.07 1686.95 1103.53 Q1688.78 1099.96 1688.78 1092.85 Q1688.78 1085.72 1686.95 1082.18 Q1685.15 1078.62 1681.51 1078.62 M1681.51 1074.91 Q1687.32 1074.91 1690.38 1079.52 Q1693.46 1084.1 1693.46 1092.85 Q1693.46 1101.58 1690.38 1106.19 Q1687.32 1110.77 1681.51 1110.77 Q1675.7 1110.77 1672.62 1106.19 Q1669.57 1101.58 1669.57 1092.85 Q1669.57 1084.1 1672.62 1079.52 Q1675.7 1074.91 1681.51 1074.91 Z\" fill=\"#000000\" fill-rule=\"evenodd\" fill-opacity=\"1\" /><path clip-path=\"url(#clip480)\" d=\"M1701.68 1104.22 L1706.56 1104.22 L1706.56 1110.1 L1701.68 1110.1 L1701.68 1104.22 Z\" fill=\"#000000\" fill-rule=\"evenodd\" fill-opacity=\"1\" /><path clip-path=\"url(#clip480)\" d=\"M1720.77 1106.16 L1737.09 1106.16 L1737.09 1110.1 L1715.15 1110.1 L1715.15 1106.16 Q1717.81 1103.41 1722.39 1098.78 Q1727 1094.13 1728.18 1092.79 Q1730.43 1090.26 1731.31 1088.53 Q1732.21 1086.77 1732.21 1085.08 Q1732.21 1082.32 1730.26 1080.59 Q1728.34 1078.85 1725.24 1078.85 Q1723.04 1078.85 1720.59 1079.61 Q1718.16 1080.38 1715.38 1081.93 L1715.38 1077.21 Q1718.2 1076.07 1720.66 1075.49 Q1723.11 1074.91 1725.15 1074.91 Q1730.52 1074.91 1733.71 1077.6 Q1736.91 1080.29 1736.91 1084.78 Q1736.91 1086.91 1736.1 1088.83 Q1735.31 1090.72 1733.2 1093.32 Q1732.62 1093.99 1729.52 1097.21 Q1726.42 1100.4 1720.77 1106.16 Z\" fill=\"#000000\" fill-rule=\"evenodd\" fill-opacity=\"1\" /><path clip-path=\"url(#clip480)\" d=\"M1746.95 1075.54 L1765.31 1075.54 L1765.31 1079.48 L1751.24 1079.48 L1751.24 1087.95 Q1752.25 1087.6 1753.27 1087.44 Q1754.29 1087.25 1755.31 1087.25 Q1761.1 1087.25 1764.48 1090.42 Q1767.86 1093.6 1767.86 1099.01 Q1767.86 1104.59 1764.38 1107.69 Q1760.91 1110.77 1754.59 1110.77 Q1752.42 1110.77 1750.15 1110.4 Q1747.9 1110.03 1745.49 1109.29 L1745.49 1104.59 Q1747.58 1105.72 1749.8 1106.28 Q1752.02 1106.84 1754.5 1106.84 Q1758.5 1106.84 1760.84 1104.73 Q1763.18 1102.62 1763.18 1099.01 Q1763.18 1095.4 1760.84 1093.29 Q1758.5 1091.19 1754.5 1091.19 Q1752.62 1091.19 1750.75 1091.6 Q1748.9 1092.02 1746.95 1092.9 L1746.95 1075.54 Z\" fill=\"#000000\" fill-rule=\"evenodd\" fill-opacity=\"1\" /><path clip-path=\"url(#clip480)\" d=\"M1848.83 1078.62 Q1845.22 1078.62 1843.39 1082.18 Q1841.59 1085.72 1841.59 1092.85 Q1841.59 1099.96 1843.39 1103.53 Q1845.22 1107.07 1848.83 1107.07 Q1852.47 1107.07 1854.27 1103.53 Q1856.1 1099.96 1856.1 1092.85 Q1856.1 1085.72 1854.27 1082.18 Q1852.47 1078.62 1848.83 1078.62 M1848.83 1074.91 Q1854.64 1074.91 1857.7 1079.52 Q1860.78 1084.1 1860.78 1092.85 Q1860.78 1101.58 1857.7 1106.19 Q1854.64 1110.77 1848.83 1110.77 Q1843.02 1110.77 1839.94 1106.19 Q1836.89 1101.58 1836.89 1092.85 Q1836.89 1084.1 1839.94 1079.52 Q1843.02 1074.91 1848.83 1074.91 Z\" fill=\"#000000\" fill-rule=\"evenodd\" fill-opacity=\"1\" /><path clip-path=\"url(#clip480)\" d=\"M1868.99 1104.22 L1873.88 1104.22 L1873.88 1110.1 L1868.99 1110.1 L1868.99 1104.22 Z\" fill=\"#000000\" fill-rule=\"evenodd\" fill-opacity=\"1\" /><path clip-path=\"url(#clip480)\" d=\"M1894.06 1078.62 Q1890.45 1078.62 1888.62 1082.18 Q1886.82 1085.72 1886.82 1092.85 Q1886.82 1099.96 1888.62 1103.53 Q1890.45 1107.07 1894.06 1107.07 Q1897.7 1107.07 1899.5 1103.53 Q1901.33 1099.96 1901.33 1092.85 Q1901.33 1085.72 1899.5 1082.18 Q1897.7 1078.62 1894.06 1078.62 M1894.06 1074.91 Q1899.87 1074.91 1902.93 1079.52 Q1906.01 1084.1 1906.01 1092.85 Q1906.01 1101.58 1902.93 1106.19 Q1899.87 1110.77 1894.06 1110.77 Q1888.25 1110.77 1885.17 1106.19 Q1882.12 1101.58 1882.12 1092.85 Q1882.12 1084.1 1885.17 1079.52 Q1888.25 1074.91 1894.06 1074.91 Z\" fill=\"#000000\" fill-rule=\"evenodd\" fill-opacity=\"1\" /><path clip-path=\"url(#clip480)\" d=\"M1924.22 1078.62 Q1920.61 1078.62 1918.78 1082.18 Q1916.98 1085.72 1916.98 1092.85 Q1916.98 1099.96 1918.78 1103.53 Q1920.61 1107.07 1924.22 1107.07 Q1927.86 1107.07 1929.66 1103.53 Q1931.49 1099.96 1931.49 1092.85 Q1931.49 1085.72 1929.66 1082.18 Q1927.86 1078.62 1924.22 1078.62 M1924.22 1074.91 Q1930.03 1074.91 1933.09 1079.52 Q1936.17 1084.1 1936.17 1092.85 Q1936.17 1101.58 1933.09 1106.19 Q1930.03 1110.77 1924.22 1110.77 Q1918.41 1110.77 1915.34 1106.19 Q1912.28 1101.58 1912.28 1092.85 Q1912.28 1084.1 1915.34 1079.52 Q1918.41 1074.91 1924.22 1074.91 Z\" fill=\"#000000\" fill-rule=\"evenodd\" fill-opacity=\"1\" /><path clip-path=\"url(#clip480)\" d=\"M2036.06 1078.62 Q2032.45 1078.62 2030.62 1082.18 Q2028.81 1085.72 2028.81 1092.85 Q2028.81 1099.96 2030.62 1103.53 Q2032.45 1107.07 2036.06 1107.07 Q2039.69 1107.07 2041.5 1103.53 Q2043.33 1099.96 2043.33 1092.85 Q2043.33 1085.72 2041.5 1082.18 Q2039.69 1078.62 2036.06 1078.62 M2036.06 1074.91 Q2041.87 1074.91 2044.92 1079.52 Q2048 1084.1 2048 1092.85 Q2048 1101.58 2044.92 1106.19 Q2041.87 1110.77 2036.06 1110.77 Q2030.25 1110.77 2027.17 1106.19 Q2024.11 1101.58 2024.11 1092.85 Q2024.11 1084.1 2027.17 1079.52 Q2030.25 1074.91 2036.06 1074.91 Z\" fill=\"#000000\" fill-rule=\"evenodd\" fill-opacity=\"1\" /><path clip-path=\"url(#clip480)\" d=\"M2056.22 1104.22 L2061.1 1104.22 L2061.1 1110.1 L2056.22 1110.1 L2056.22 1104.22 Z\" fill=\"#000000\" fill-rule=\"evenodd\" fill-opacity=\"1\" /><path clip-path=\"url(#clip480)\" d=\"M2075.32 1106.16 L2091.63 1106.16 L2091.63 1110.1 L2069.69 1110.1 L2069.69 1106.16 Q2072.35 1103.41 2076.94 1098.78 Q2081.54 1094.13 2082.72 1092.79 Q2084.97 1090.26 2085.85 1088.53 Q2086.75 1086.77 2086.75 1085.08 Q2086.75 1082.32 2084.81 1080.59 Q2082.88 1078.85 2079.78 1078.85 Q2077.58 1078.85 2075.13 1079.61 Q2072.7 1080.38 2069.92 1081.93 L2069.92 1077.21 Q2072.75 1076.07 2075.2 1075.49 Q2077.65 1074.91 2079.69 1074.91 Q2085.06 1074.91 2088.26 1077.6 Q2091.45 1080.29 2091.45 1084.78 Q2091.45 1086.91 2090.64 1088.83 Q2089.85 1090.72 2087.75 1093.32 Q2087.17 1093.99 2084.07 1097.21 Q2080.96 1100.4 2075.32 1106.16 Z\" fill=\"#000000\" fill-rule=\"evenodd\" fill-opacity=\"1\" /><path clip-path=\"url(#clip480)\" d=\"M2101.5 1075.54 L2119.85 1075.54 L2119.85 1079.48 L2105.78 1079.48 L2105.78 1087.95 Q2106.8 1087.6 2107.82 1087.44 Q2108.83 1087.25 2109.85 1087.25 Q2115.64 1087.25 2119.02 1090.42 Q2122.4 1093.6 2122.4 1099.01 Q2122.4 1104.59 2118.93 1107.69 Q2115.45 1110.77 2109.13 1110.77 Q2106.96 1110.77 2104.69 1110.4 Q2102.45 1110.03 2100.04 1109.29 L2100.04 1104.59 Q2102.12 1105.72 2104.34 1106.28 Q2106.57 1106.84 2109.04 1106.84 Q2113.05 1106.84 2115.38 1104.73 Q2117.72 1102.62 2117.72 1099.01 Q2117.72 1095.4 2115.38 1093.29 Q2113.05 1091.19 2109.04 1091.19 Q2107.17 1091.19 2105.29 1091.6 Q2103.44 1092.02 2101.5 1092.9 L2101.5 1075.54 Z\" fill=\"#000000\" fill-rule=\"evenodd\" fill-opacity=\"1\" /><path clip-path=\"url(#clip480)\" d=\"M2222.29 1078.62 Q2218.68 1078.62 2216.85 1082.18 Q2215.04 1085.72 2215.04 1092.85 Q2215.04 1099.96 2216.85 1103.53 Q2218.68 1107.07 2222.29 1107.07 Q2225.92 1107.07 2227.73 1103.53 Q2229.55 1099.96 2229.55 1092.85 Q2229.55 1085.72 2227.73 1082.18 Q2225.92 1078.62 2222.29 1078.62 M2222.29 1074.91 Q2228.1 1074.91 2231.15 1079.52 Q2234.23 1084.1 2234.23 1092.85 Q2234.23 1101.58 2231.15 1106.19 Q2228.1 1110.77 2222.29 1110.77 Q2216.48 1110.77 2213.4 1106.19 Q2210.34 1101.58 2210.34 1092.85 Q2210.34 1084.1 2213.4 1079.52 Q2216.48 1074.91 2222.29 1074.91 Z\" fill=\"#000000\" fill-rule=\"evenodd\" fill-opacity=\"1\" /><path clip-path=\"url(#clip480)\" d=\"M2242.45 1104.22 L2247.33 1104.22 L2247.33 1110.1 L2242.45 1110.1 L2242.45 1104.22 Z\" fill=\"#000000\" fill-rule=\"evenodd\" fill-opacity=\"1\" /><path clip-path=\"url(#clip480)\" d=\"M2257.56 1075.54 L2275.92 1075.54 L2275.92 1079.48 L2261.85 1079.48 L2261.85 1087.95 Q2262.86 1087.6 2263.88 1087.44 Q2264.9 1087.25 2265.92 1087.25 Q2271.71 1087.25 2275.09 1090.42 Q2278.47 1093.6 2278.47 1099.01 Q2278.47 1104.59 2274.99 1107.69 Q2271.52 1110.77 2265.2 1110.77 Q2263.03 1110.77 2260.76 1110.4 Q2258.51 1110.03 2256.11 1109.29 L2256.11 1104.59 Q2258.19 1105.72 2260.41 1106.28 Q2262.63 1106.84 2265.11 1106.84 Q2269.11 1106.84 2271.45 1104.73 Q2273.79 1102.62 2273.79 1099.01 Q2273.79 1095.4 2271.45 1093.29 Q2269.11 1091.19 2265.11 1091.19 Q2263.24 1091.19 2261.36 1091.6 Q2259.51 1092.02 2257.56 1092.9 L2257.56 1075.54 Z\" fill=\"#000000\" fill-rule=\"evenodd\" fill-opacity=\"1\" /><path clip-path=\"url(#clip480)\" d=\"M2297.68 1078.62 Q2294.07 1078.62 2292.24 1082.18 Q2290.43 1085.72 2290.43 1092.85 Q2290.43 1099.96 2292.24 1103.53 Q2294.07 1107.07 2297.68 1107.07 Q2301.31 1107.07 2303.12 1103.53 Q2304.95 1099.96 2304.95 1092.85 Q2304.95 1085.72 2303.12 1082.18 Q2301.31 1078.62 2297.68 1078.62 M2297.68 1074.91 Q2303.49 1074.91 2306.55 1079.52 Q2309.62 1084.1 2309.62 1092.85 Q2309.62 1101.58 2306.55 1106.19 Q2303.49 1110.77 2297.68 1110.77 Q2291.87 1110.77 2288.79 1106.19 Q2285.73 1101.58 2285.73 1092.85 Q2285.73 1084.1 2288.79 1079.52 Q2291.87 1074.91 2297.68 1074.91 Z\" fill=\"#000000\" fill-rule=\"evenodd\" fill-opacity=\"1\" /><path clip-path=\"url(#clip480)\" d=\"M1563.01 1187.22 L1563.01 1206.12 L1557.12 1206.12 L1557.12 1156.92 L1563.01 1156.92 L1563.01 1162.33 Q1564.86 1159.14 1567.66 1157.62 Q1570.49 1156.06 1574.41 1156.06 Q1580.9 1156.06 1584.94 1161.21 Q1589.02 1166.37 1589.02 1174.77 Q1589.02 1183.17 1584.94 1188.33 Q1580.9 1193.49 1574.41 1193.49 Q1570.49 1193.49 1567.66 1191.96 Q1564.86 1190.4 1563.01 1187.22 M1582.94 1174.77 Q1582.94 1168.31 1580.26 1164.65 Q1577.62 1160.96 1572.97 1160.96 Q1568.33 1160.96 1565.65 1164.65 Q1563.01 1168.31 1563.01 1174.77 Q1563.01 1181.23 1565.65 1184.92 Q1568.33 1188.59 1572.97 1188.59 Q1577.62 1188.59 1580.26 1184.92 Q1582.94 1181.23 1582.94 1174.77 Z\" fill=\"#000000\" fill-rule=\"evenodd\" fill-opacity=\"1\" /><path clip-path=\"url(#clip480)\" d=\"M1619.38 1162.39 Q1618.39 1161.82 1617.22 1161.56 Q1616.07 1161.28 1614.67 1161.28 Q1609.7 1161.28 1607.03 1164.52 Q1604.39 1167.74 1604.39 1173.79 L1604.39 1192.56 L1598.5 1192.56 L1598.5 1156.92 L1604.39 1156.92 L1604.39 1162.45 Q1606.24 1159.21 1609.2 1157.65 Q1612.16 1156.06 1616.39 1156.06 Q1616.99 1156.06 1617.73 1156.15 Q1618.46 1156.22 1619.35 1156.37 L1619.38 1162.39 Z\" fill=\"#000000\" fill-rule=\"evenodd\" fill-opacity=\"1\" /><path clip-path=\"url(#clip480)\" d=\"M1654.58 1173.28 L1654.58 1176.14 L1627.66 1176.14 Q1628.04 1182.19 1631.28 1185.37 Q1634.56 1188.52 1640.39 1188.52 Q1643.76 1188.52 1646.91 1187.69 Q1650.09 1186.87 1653.21 1185.21 L1653.21 1190.75 Q1650.06 1192.09 1646.75 1192.79 Q1643.44 1193.49 1640.04 1193.49 Q1631.51 1193.49 1626.51 1188.52 Q1621.54 1183.56 1621.54 1175.09 Q1621.54 1166.34 1626.26 1161.21 Q1631 1156.06 1639.02 1156.06 Q1646.21 1156.06 1650.38 1160.7 Q1654.58 1165.32 1654.58 1173.28 M1648.73 1171.56 Q1648.66 1166.75 1646.02 1163.89 Q1643.41 1161.02 1639.08 1161.02 Q1634.18 1161.02 1631.22 1163.79 Q1628.29 1166.56 1627.85 1171.59 L1648.73 1171.56 Z\" fill=\"#000000\" fill-rule=\"evenodd\" fill-opacity=\"1\" /><path clip-path=\"url(#clip480)\" d=\"M1687.65 1162.33 L1687.65 1143.04 L1693.51 1143.04 L1693.51 1192.56 L1687.65 1192.56 L1687.65 1187.22 Q1685.81 1190.4 1682.97 1191.96 Q1680.17 1193.49 1676.23 1193.49 Q1669.76 1193.49 1665.69 1188.33 Q1661.65 1183.17 1661.65 1174.77 Q1661.65 1166.37 1665.69 1161.21 Q1669.76 1156.06 1676.23 1156.06 Q1680.17 1156.06 1682.97 1157.62 Q1685.81 1159.14 1687.65 1162.33 M1667.7 1174.77 Q1667.7 1181.23 1670.34 1184.92 Q1673.01 1188.59 1677.66 1188.59 Q1682.31 1188.59 1684.98 1184.92 Q1687.65 1181.23 1687.65 1174.77 Q1687.65 1168.31 1684.98 1164.65 Q1682.31 1160.96 1677.66 1160.96 Q1673.01 1160.96 1670.34 1164.65 Q1667.7 1168.31 1667.7 1174.77 Z\" fill=\"#000000\" fill-rule=\"evenodd\" fill-opacity=\"1\" /><path clip-path=\"url(#clip480)\" d=\"M1705.57 1156.92 L1711.43 1156.92 L1711.43 1192.56 L1705.57 1192.56 L1705.57 1156.92 M1705.57 1143.04 L1711.43 1143.04 L1711.43 1150.45 L1705.57 1150.45 L1705.57 1143.04 Z\" fill=\"#000000\" fill-rule=\"evenodd\" fill-opacity=\"1\" /><path clip-path=\"url(#clip480)\" d=\"M1749.34 1158.28 L1749.34 1163.76 Q1746.85 1162.39 1744.34 1161.72 Q1741.86 1161.02 1739.31 1161.02 Q1733.61 1161.02 1730.46 1164.65 Q1727.31 1168.25 1727.31 1174.77 Q1727.31 1181.3 1730.46 1184.92 Q1733.61 1188.52 1739.31 1188.52 Q1741.86 1188.52 1744.34 1187.85 Q1746.85 1187.15 1749.34 1185.78 L1749.34 1191.2 Q1746.89 1192.34 1744.24 1192.91 Q1741.63 1193.49 1738.67 1193.49 Q1730.62 1193.49 1725.88 1188.43 Q1721.14 1183.37 1721.14 1174.77 Q1721.14 1166.05 1725.91 1161.05 Q1730.72 1156.06 1739.06 1156.06 Q1741.76 1156.06 1744.34 1156.63 Q1746.92 1157.17 1749.34 1158.28 Z\" fill=\"#000000\" fill-rule=\"evenodd\" fill-opacity=\"1\" /><path clip-path=\"url(#clip480)\" d=\"M1765.31 1146.79 L1765.31 1156.92 L1777.38 1156.92 L1777.38 1161.47 L1765.31 1161.47 L1765.31 1180.82 Q1765.31 1185.18 1766.49 1186.42 Q1767.7 1187.66 1771.36 1187.66 L1777.38 1187.66 L1777.38 1192.56 L1771.36 1192.56 Q1764.58 1192.56 1762 1190.05 Q1759.43 1187.5 1759.43 1180.82 L1759.43 1161.47 L1755.13 1161.47 L1755.13 1156.92 L1759.43 1156.92 L1759.43 1146.79 L1765.31 1146.79 Z\" fill=\"#000000\" fill-rule=\"evenodd\" fill-opacity=\"1\" /><path clip-path=\"url(#clip480)\" d=\"M1785.08 1156.92 L1790.94 1156.92 L1790.94 1192.56 L1785.08 1192.56 L1785.08 1156.92 M1785.08 1143.04 L1790.94 1143.04 L1790.94 1150.45 L1785.08 1150.45 L1785.08 1143.04 Z\" fill=\"#000000\" fill-rule=\"evenodd\" fill-opacity=\"1\" /><path clip-path=\"url(#clip480)\" d=\"M1817 1161.02 Q1812.29 1161.02 1809.56 1164.71 Q1806.82 1168.37 1806.82 1174.77 Q1806.82 1181.17 1809.52 1184.86 Q1812.26 1188.52 1817 1188.52 Q1821.68 1188.52 1824.42 1184.83 Q1827.16 1181.14 1827.16 1174.77 Q1827.16 1168.44 1824.42 1164.75 Q1821.68 1161.02 1817 1161.02 M1817 1156.06 Q1824.64 1156.06 1829 1161.02 Q1833.36 1165.99 1833.36 1174.77 Q1833.36 1183.52 1829 1188.52 Q1824.64 1193.49 1817 1193.49 Q1809.33 1193.49 1804.97 1188.52 Q1800.64 1183.52 1800.64 1174.77 Q1800.64 1165.99 1804.97 1161.02 Q1809.33 1156.06 1817 1156.06 Z\" fill=\"#000000\" fill-rule=\"evenodd\" fill-opacity=\"1\" /><path clip-path=\"url(#clip480)\" d=\"M1872.7 1171.05 L1872.7 1192.56 L1866.85 1192.56 L1866.85 1171.24 Q1866.85 1166.18 1864.87 1163.66 Q1862.9 1161.15 1858.95 1161.15 Q1854.21 1161.15 1851.47 1164.17 Q1848.74 1167.2 1848.74 1172.42 L1848.74 1192.56 L1842.85 1192.56 L1842.85 1156.92 L1848.74 1156.92 L1848.74 1162.45 Q1850.84 1159.24 1853.67 1157.65 Q1856.53 1156.06 1860.26 1156.06 Q1866.4 1156.06 1869.55 1159.88 Q1872.7 1163.66 1872.7 1171.05 Z\" fill=\"#000000\" fill-rule=\"evenodd\" fill-opacity=\"1\" /><path clip-path=\"url(#clip480)\" d=\"M1907.11 1157.97 L1907.11 1163.5 Q1904.63 1162.23 1901.95 1161.59 Q1899.28 1160.96 1896.42 1160.96 Q1892.06 1160.96 1889.86 1162.29 Q1887.69 1163.63 1887.69 1166.31 Q1887.69 1168.34 1889.25 1169.52 Q1890.81 1170.67 1895.52 1171.72 L1897.53 1172.16 Q1903.77 1173.5 1906.38 1175.95 Q1909.02 1178.37 1909.02 1182.73 Q1909.02 1187.69 1905.07 1190.59 Q1901.16 1193.49 1894.28 1193.49 Q1891.42 1193.49 1888.3 1192.91 Q1885.21 1192.37 1881.77 1191.26 L1881.77 1185.21 Q1885.02 1186.9 1888.17 1187.76 Q1891.32 1188.59 1894.41 1188.59 Q1898.55 1188.59 1900.78 1187.18 Q1903 1185.75 1903 1183.17 Q1903 1180.79 1901.38 1179.51 Q1899.79 1178.24 1894.35 1177.06 L1892.31 1176.59 Q1886.87 1175.44 1884.45 1173.08 Q1882.03 1170.7 1882.03 1166.56 Q1882.03 1161.53 1885.59 1158.79 Q1889.16 1156.06 1895.72 1156.06 Q1898.96 1156.06 1901.83 1156.53 Q1904.69 1157.01 1907.11 1157.97 Z\" fill=\"#000000\" fill-rule=\"evenodd\" fill-opacity=\"1\" /><path clip-path=\"url(#clip480)\" d=\"M1944.86 1146.79 L1944.86 1156.92 L1956.92 1156.92 L1956.92 1161.47 L1944.86 1161.47 L1944.86 1180.82 Q1944.86 1185.18 1946.04 1186.42 Q1947.25 1187.66 1950.91 1187.66 L1956.92 1187.66 L1956.92 1192.56 L1950.91 1192.56 Q1944.13 1192.56 1941.55 1190.05 Q1938.97 1187.5 1938.97 1180.82 L1938.97 1161.47 L1934.67 1161.47 L1934.67 1156.92 L1938.97 1156.92 L1938.97 1146.79 L1944.86 1146.79 Z\" fill=\"#000000\" fill-rule=\"evenodd\" fill-opacity=\"1\" /><path clip-path=\"url(#clip480)\" d=\"M1995.12 1173.28 L1995.12 1176.14 L1968.19 1176.14 Q1968.57 1182.19 1971.82 1185.37 Q1975.1 1188.52 1980.92 1188.52 Q1984.29 1188.52 1987.45 1187.69 Q1990.63 1186.87 1993.75 1185.21 L1993.75 1190.75 Q1990.6 1192.09 1987.29 1192.79 Q1983.98 1193.49 1980.57 1193.49 Q1972.04 1193.49 1967.04 1188.52 Q1962.08 1183.56 1962.08 1175.09 Q1962.08 1166.34 1966.79 1161.21 Q1971.53 1156.06 1979.55 1156.06 Q1986.75 1156.06 1990.91 1160.7 Q1995.12 1165.32 1995.12 1173.28 M1989.26 1171.56 Q1989.2 1166.75 1986.55 1163.89 Q1983.94 1161.02 1979.62 1161.02 Q1974.71 1161.02 1971.75 1163.79 Q1968.83 1166.56 1968.38 1171.59 L1989.26 1171.56 Z\" fill=\"#000000\" fill-rule=\"evenodd\" fill-opacity=\"1\" /><path clip-path=\"url(#clip480)\" d=\"M2027.45 1157.97 L2027.45 1163.5 Q2024.97 1162.23 2022.3 1161.59 Q2019.62 1160.96 2016.76 1160.96 Q2012.4 1160.96 2010.2 1162.29 Q2008.04 1163.63 2008.04 1166.31 Q2008.04 1168.34 2009.6 1169.52 Q2011.16 1170.67 2015.87 1171.72 L2017.87 1172.16 Q2024.11 1173.5 2026.72 1175.95 Q2029.36 1178.37 2029.36 1182.73 Q2029.36 1187.69 2025.42 1190.59 Q2021.5 1193.49 2014.63 1193.49 Q2011.76 1193.49 2008.64 1192.91 Q2005.56 1192.37 2002.12 1191.26 L2002.12 1185.21 Q2005.36 1186.9 2008.52 1187.76 Q2011.67 1188.59 2014.75 1188.59 Q2018.89 1188.59 2021.12 1187.18 Q2023.35 1185.75 2023.35 1183.17 Q2023.35 1180.79 2021.72 1179.51 Q2020.13 1178.24 2014.69 1177.06 L2012.65 1176.59 Q2007.21 1175.44 2004.79 1173.08 Q2002.37 1170.7 2002.37 1166.56 Q2002.37 1161.53 2005.94 1158.79 Q2009.5 1156.06 2016.06 1156.06 Q2019.31 1156.06 2022.17 1156.53 Q2025.03 1157.01 2027.45 1157.97 Z\" fill=\"#000000\" fill-rule=\"evenodd\" fill-opacity=\"1\" /><path clip-path=\"url(#clip480)\" d=\"M2044.48 1146.79 L2044.48 1156.92 L2056.55 1156.92 L2056.55 1161.47 L2044.48 1161.47 L2044.48 1180.82 Q2044.48 1185.18 2045.66 1186.42 Q2046.87 1187.66 2050.53 1187.66 L2056.55 1187.66 L2056.55 1192.56 L2050.53 1192.56 Q2043.75 1192.56 2041.17 1190.05 Q2038.59 1187.5 2038.59 1180.82 L2038.59 1161.47 L2034.3 1161.47 L2034.3 1156.92 L2038.59 1156.92 L2038.59 1146.79 L2044.48 1146.79 Z\" fill=\"#000000\" fill-rule=\"evenodd\" fill-opacity=\"1\" /><path clip-path=\"url(#clip480)\" d=\"M2108.43 1162.33 L2108.43 1143.04 L2114.28 1143.04 L2114.28 1192.56 L2108.43 1192.56 L2108.43 1187.22 Q2106.58 1190.4 2103.75 1191.96 Q2100.95 1193.49 2097 1193.49 Q2090.54 1193.49 2086.46 1188.33 Q2082.42 1183.17 2082.42 1174.77 Q2082.42 1166.37 2086.46 1161.21 Q2090.54 1156.06 2097 1156.06 Q2100.95 1156.06 2103.75 1157.62 Q2106.58 1159.14 2108.43 1162.33 M2088.47 1174.77 Q2088.47 1181.23 2091.11 1184.92 Q2093.78 1188.59 2098.43 1188.59 Q2103.08 1188.59 2105.75 1184.92 Q2108.43 1181.23 2108.43 1174.77 Q2108.43 1168.31 2105.75 1164.65 Q2103.08 1160.96 2098.43 1160.96 Q2093.78 1160.96 2091.11 1164.65 Q2088.47 1168.31 2088.47 1174.77 Z\" fill=\"#000000\" fill-rule=\"evenodd\" fill-opacity=\"1\" /><path clip-path=\"url(#clip480)\" d=\"M2142.55 1174.64 Q2135.45 1174.64 2132.71 1176.27 Q2129.97 1177.89 2129.97 1181.81 Q2129.97 1184.92 2132.01 1186.77 Q2134.08 1188.59 2137.61 1188.59 Q2142.48 1188.59 2145.41 1185.15 Q2148.37 1181.68 2148.37 1175.95 L2148.37 1174.64 L2142.55 1174.64 M2154.23 1172.23 L2154.23 1192.56 L2148.37 1192.56 L2148.37 1187.15 Q2146.37 1190.4 2143.37 1191.96 Q2140.38 1193.49 2136.05 1193.49 Q2130.58 1193.49 2127.33 1190.43 Q2124.12 1187.34 2124.12 1182.19 Q2124.12 1176.17 2128.13 1173.12 Q2132.17 1170.06 2140.16 1170.06 L2148.37 1170.06 L2148.37 1169.49 Q2148.37 1165.45 2145.7 1163.25 Q2143.06 1161.02 2138.25 1161.02 Q2135.19 1161.02 2132.3 1161.75 Q2129.4 1162.49 2126.73 1163.95 L2126.73 1158.54 Q2129.94 1157.3 2132.97 1156.69 Q2135.99 1156.06 2138.85 1156.06 Q2146.59 1156.06 2150.41 1160.07 Q2154.23 1164.08 2154.23 1172.23 Z\" fill=\"#000000\" fill-rule=\"evenodd\" fill-opacity=\"1\" /><path clip-path=\"url(#clip480)\" d=\"M2172.08 1146.79 L2172.08 1156.92 L2184.15 1156.92 L2184.15 1161.47 L2172.08 1161.47 L2172.08 1180.82 Q2172.08 1185.18 2173.26 1186.42 Q2174.47 1187.66 2178.13 1187.66 L2184.15 1187.66 L2184.15 1192.56 L2178.13 1192.56 Q2171.35 1192.56 2168.77 1190.05 Q2166.19 1187.5 2166.19 1180.82 L2166.19 1161.47 L2161.9 1161.47 L2161.9 1156.92 L2166.19 1156.92 L2166.19 1146.79 L2172.08 1146.79 Z\" fill=\"#000000\" fill-rule=\"evenodd\" fill-opacity=\"1\" /><path clip-path=\"url(#clip480)\" d=\"M2208.05 1174.64 Q2200.95 1174.64 2198.21 1176.27 Q2195.48 1177.89 2195.48 1181.81 Q2195.48 1184.92 2197.51 1186.77 Q2199.58 1188.59 2203.12 1188.59 Q2207.99 1188.59 2210.91 1185.15 Q2213.87 1181.68 2213.87 1175.95 L2213.87 1174.64 L2208.05 1174.64 M2219.73 1172.23 L2219.73 1192.56 L2213.87 1192.56 L2213.87 1187.15 Q2211.87 1190.4 2208.88 1191.96 Q2205.88 1193.49 2201.56 1193.49 Q2196.08 1193.49 2192.83 1190.43 Q2189.62 1187.34 2189.62 1182.19 Q2189.62 1176.17 2193.63 1173.12 Q2197.67 1170.06 2205.66 1170.06 L2213.87 1170.06 L2213.87 1169.49 Q2213.87 1165.45 2211.2 1163.25 Q2208.56 1161.02 2203.75 1161.02 Q2200.7 1161.02 2197.8 1161.75 Q2194.9 1162.49 2192.23 1163.95 L2192.23 1158.54 Q2195.44 1157.3 2198.47 1156.69 Q2201.49 1156.06 2204.36 1156.06 Q2212.09 1156.06 2215.91 1160.07 Q2219.73 1164.08 2219.73 1172.23 Z\" fill=\"#000000\" fill-rule=\"evenodd\" fill-opacity=\"1\" /><polyline clip-path=\"url(#clip483)\" style=\"stroke:#000000; stroke-linecap:butt; stroke-linejoin:round; stroke-width:2; stroke-opacity:0.1; fill:none\" points=\"\n",
       "  1424.1,999.779 2352.76,999.779 \n",
       "  \"/>\n",
       "<polyline clip-path=\"url(#clip483)\" style=\"stroke:#000000; stroke-linecap:butt; stroke-linejoin:round; stroke-width:2; stroke-opacity:0.1; fill:none\" points=\"\n",
       "  1424.1,794.377 2352.76,794.377 \n",
       "  \"/>\n",
       "<polyline clip-path=\"url(#clip483)\" style=\"stroke:#000000; stroke-linecap:butt; stroke-linejoin:round; stroke-width:2; stroke-opacity:0.1; fill:none\" points=\"\n",
       "  1424.1,588.975 2352.76,588.975 \n",
       "  \"/>\n",
       "<polyline clip-path=\"url(#clip483)\" style=\"stroke:#000000; stroke-linecap:butt; stroke-linejoin:round; stroke-width:2; stroke-opacity:0.1; fill:none\" points=\"\n",
       "  1424.1,383.573 2352.76,383.573 \n",
       "  \"/>\n",
       "<polyline clip-path=\"url(#clip483)\" style=\"stroke:#000000; stroke-linecap:butt; stroke-linejoin:round; stroke-width:2; stroke-opacity:0.1; fill:none\" points=\"\n",
       "  1424.1,178.171 2352.76,178.171 \n",
       "  \"/>\n",
       "<polyline clip-path=\"url(#clip480)\" style=\"stroke:#000000; stroke-linecap:butt; stroke-linejoin:round; stroke-width:4; stroke-opacity:1; fill:none\" points=\"\n",
       "  1424.1,1047.7 1424.1,47.2441 \n",
       "  \"/>\n",
       "<polyline clip-path=\"url(#clip480)\" style=\"stroke:#000000; stroke-linecap:butt; stroke-linejoin:round; stroke-width:4; stroke-opacity:1; fill:none\" points=\"\n",
       "  1424.1,999.779 1443,999.779 \n",
       "  \"/>\n",
       "<polyline clip-path=\"url(#clip480)\" style=\"stroke:#000000; stroke-linecap:butt; stroke-linejoin:round; stroke-width:4; stroke-opacity:1; fill:none\" points=\"\n",
       "  1424.1,794.377 1443,794.377 \n",
       "  \"/>\n",
       "<polyline clip-path=\"url(#clip480)\" style=\"stroke:#000000; stroke-linecap:butt; stroke-linejoin:round; stroke-width:4; stroke-opacity:1; fill:none\" points=\"\n",
       "  1424.1,588.975 1443,588.975 \n",
       "  \"/>\n",
       "<polyline clip-path=\"url(#clip480)\" style=\"stroke:#000000; stroke-linecap:butt; stroke-linejoin:round; stroke-width:4; stroke-opacity:1; fill:none\" points=\"\n",
       "  1424.1,383.573 1443,383.573 \n",
       "  \"/>\n",
       "<polyline clip-path=\"url(#clip480)\" style=\"stroke:#000000; stroke-linecap:butt; stroke-linejoin:round; stroke-width:4; stroke-opacity:1; fill:none\" points=\"\n",
       "  1424.1,178.171 1443,178.171 \n",
       "  \"/>\n",
       "<path clip-path=\"url(#clip480)\" d=\"M1250.99 1000.23 L1280.67 1000.23 L1280.67 1004.17 L1250.99 1004.17 L1250.99 1000.23 Z\" fill=\"#000000\" fill-rule=\"evenodd\" fill-opacity=\"1\" /><path clip-path=\"url(#clip480)\" d=\"M1300.76 985.578 Q1297.15 985.578 1295.32 989.143 Q1293.52 992.684 1293.52 999.814 Q1293.52 1006.92 1295.32 1010.49 Q1297.15 1014.03 1300.76 1014.03 Q1304.39 1014.03 1306.2 1010.49 Q1308.03 1006.92 1308.03 999.814 Q1308.03 992.684 1306.2 989.143 Q1304.39 985.578 1300.76 985.578 M1300.76 981.874 Q1306.57 981.874 1309.63 986.481 Q1312.7 991.064 1312.7 999.814 Q1312.7 1008.54 1309.63 1013.15 Q1306.57 1017.73 1300.76 1017.73 Q1294.95 1017.73 1291.87 1013.15 Q1288.82 1008.54 1288.82 999.814 Q1288.82 991.064 1291.87 986.481 Q1294.95 981.874 1300.76 981.874 Z\" fill=\"#000000\" fill-rule=\"evenodd\" fill-opacity=\"1\" /><path clip-path=\"url(#clip480)\" d=\"M1320.92 1011.18 L1325.81 1011.18 L1325.81 1017.06 L1320.92 1017.06 L1320.92 1011.18 Z\" fill=\"#000000\" fill-rule=\"evenodd\" fill-opacity=\"1\" /><path clip-path=\"url(#clip480)\" d=\"M1336.04 982.499 L1354.39 982.499 L1354.39 986.434 L1340.32 986.434 L1340.32 994.906 Q1341.34 994.559 1342.36 994.397 Q1343.38 994.212 1344.39 994.212 Q1350.18 994.212 1353.56 997.383 Q1356.94 1000.55 1356.94 1005.97 Q1356.94 1011.55 1353.47 1014.65 Q1350 1017.73 1343.68 1017.73 Q1341.5 1017.73 1339.23 1017.36 Q1336.99 1016.99 1334.58 1016.25 L1334.58 1011.55 Q1336.66 1012.68 1338.89 1013.24 Q1341.11 1013.8 1343.58 1013.8 Q1347.59 1013.8 1349.93 1011.69 Q1352.26 1009.58 1352.26 1005.97 Q1352.26 1002.36 1349.93 1000.25 Q1347.59 998.147 1343.58 998.147 Q1341.71 998.147 1339.83 998.564 Q1337.98 998.98 1336.04 999.86 L1336.04 982.499 Z\" fill=\"#000000\" fill-rule=\"evenodd\" fill-opacity=\"1\" /><path clip-path=\"url(#clip480)\" d=\"M1376.15 985.578 Q1372.54 985.578 1370.71 989.143 Q1368.91 992.684 1368.91 999.814 Q1368.91 1006.92 1370.71 1010.49 Q1372.54 1014.03 1376.15 1014.03 Q1379.79 1014.03 1381.59 1010.49 Q1383.42 1006.92 1383.42 999.814 Q1383.42 992.684 1381.59 989.143 Q1379.79 985.578 1376.15 985.578 M1376.15 981.874 Q1381.96 981.874 1385.02 986.481 Q1388.1 991.064 1388.1 999.814 Q1388.1 1008.54 1385.02 1013.15 Q1381.96 1017.73 1376.15 1017.73 Q1370.34 1017.73 1367.26 1013.15 Q1364.21 1008.54 1364.21 999.814 Q1364.21 991.064 1367.26 986.481 Q1370.34 981.874 1376.15 981.874 Z\" fill=\"#000000\" fill-rule=\"evenodd\" fill-opacity=\"1\" /><path clip-path=\"url(#clip480)\" d=\"M1251.99 794.829 L1281.66 794.829 L1281.66 798.764 L1251.99 798.764 L1251.99 794.829 Z\" fill=\"#000000\" fill-rule=\"evenodd\" fill-opacity=\"1\" /><path clip-path=\"url(#clip480)\" d=\"M1301.76 780.176 Q1298.14 780.176 1296.32 783.741 Q1294.51 787.282 1294.51 794.412 Q1294.51 801.518 1296.32 805.083 Q1298.14 808.625 1301.76 808.625 Q1305.39 808.625 1307.2 805.083 Q1309.02 801.518 1309.02 794.412 Q1309.02 787.282 1307.2 783.741 Q1305.39 780.176 1301.76 780.176 M1301.76 776.472 Q1307.57 776.472 1310.62 781.079 Q1313.7 785.662 1313.7 794.412 Q1313.7 803.139 1310.62 807.745 Q1307.57 812.328 1301.76 812.328 Q1295.95 812.328 1292.87 807.745 Q1289.81 803.139 1289.81 794.412 Q1289.81 785.662 1292.87 781.079 Q1295.95 776.472 1301.76 776.472 Z\" fill=\"#000000\" fill-rule=\"evenodd\" fill-opacity=\"1\" /><path clip-path=\"url(#clip480)\" d=\"M1321.92 805.778 L1326.8 805.778 L1326.8 811.657 L1321.92 811.657 L1321.92 805.778 Z\" fill=\"#000000\" fill-rule=\"evenodd\" fill-opacity=\"1\" /><path clip-path=\"url(#clip480)\" d=\"M1341.01 807.722 L1357.33 807.722 L1357.33 811.657 L1335.39 811.657 L1335.39 807.722 Q1338.05 804.967 1342.64 800.338 Q1347.24 795.685 1348.42 794.342 Q1350.67 791.819 1351.55 790.083 Q1352.45 788.324 1352.45 786.634 Q1352.45 783.88 1350.51 782.143 Q1348.58 780.407 1345.48 780.407 Q1343.28 780.407 1340.83 781.171 Q1338.4 781.935 1335.62 783.486 L1335.62 778.764 Q1338.45 777.63 1340.9 777.051 Q1343.35 776.472 1345.39 776.472 Q1350.76 776.472 1353.95 779.157 Q1357.15 781.842 1357.15 786.333 Q1357.15 788.463 1356.34 790.384 Q1355.55 792.282 1353.45 794.875 Q1352.87 795.546 1349.76 798.764 Q1346.66 801.958 1341.01 807.722 Z\" fill=\"#000000\" fill-rule=\"evenodd\" fill-opacity=\"1\" /><path clip-path=\"url(#clip480)\" d=\"M1367.2 777.097 L1385.55 777.097 L1385.55 781.032 L1371.48 781.032 L1371.48 789.504 Q1372.5 789.157 1373.51 788.995 Q1374.53 788.81 1375.55 788.81 Q1381.34 788.81 1384.72 791.981 Q1388.1 795.153 1388.1 800.569 Q1388.1 806.148 1384.63 809.25 Q1381.15 812.328 1374.83 812.328 Q1372.66 812.328 1370.39 811.958 Q1368.14 811.588 1365.74 810.847 L1365.74 806.148 Q1367.82 807.282 1370.04 807.838 Q1372.26 808.393 1374.74 808.393 Q1378.75 808.393 1381.08 806.287 Q1383.42 804.18 1383.42 800.569 Q1383.42 796.958 1381.08 794.852 Q1378.75 792.745 1374.74 792.745 Q1372.87 792.745 1370.99 793.162 Q1369.14 793.579 1367.2 794.458 L1367.2 777.097 Z\" fill=\"#000000\" fill-rule=\"evenodd\" fill-opacity=\"1\" /><path clip-path=\"url(#clip480)\" d=\"M1300.76 574.774 Q1297.15 574.774 1295.32 578.339 Q1293.52 581.88 1293.52 589.01 Q1293.52 596.116 1295.32 599.681 Q1297.15 603.223 1300.76 603.223 Q1304.39 603.223 1306.2 599.681 Q1308.03 596.116 1308.03 589.01 Q1308.03 581.88 1306.2 578.339 Q1304.39 574.774 1300.76 574.774 M1300.76 571.07 Q1306.57 571.07 1309.63 575.677 Q1312.7 580.26 1312.7 589.01 Q1312.7 597.737 1309.63 602.343 Q1306.57 606.926 1300.76 606.926 Q1294.95 606.926 1291.87 602.343 Q1288.82 597.737 1288.82 589.01 Q1288.82 580.26 1291.87 575.677 Q1294.95 571.07 1300.76 571.07 Z\" fill=\"#000000\" fill-rule=\"evenodd\" fill-opacity=\"1\" /><path clip-path=\"url(#clip480)\" d=\"M1320.92 600.376 L1325.81 600.376 L1325.81 606.255 L1320.92 606.255 L1320.92 600.376 Z\" fill=\"#000000\" fill-rule=\"evenodd\" fill-opacity=\"1\" /><path clip-path=\"url(#clip480)\" d=\"M1345.99 574.774 Q1342.38 574.774 1340.55 578.339 Q1338.75 581.88 1338.75 589.01 Q1338.75 596.116 1340.55 599.681 Q1342.38 603.223 1345.99 603.223 Q1349.63 603.223 1351.43 599.681 Q1353.26 596.116 1353.26 589.01 Q1353.26 581.88 1351.43 578.339 Q1349.63 574.774 1345.99 574.774 M1345.99 571.07 Q1351.8 571.07 1354.86 575.677 Q1357.94 580.26 1357.94 589.01 Q1357.94 597.737 1354.86 602.343 Q1351.8 606.926 1345.99 606.926 Q1340.18 606.926 1337.1 602.343 Q1334.05 597.737 1334.05 589.01 Q1334.05 580.26 1337.1 575.677 Q1340.18 571.07 1345.99 571.07 Z\" fill=\"#000000\" fill-rule=\"evenodd\" fill-opacity=\"1\" /><path clip-path=\"url(#clip480)\" d=\"M1376.15 574.774 Q1372.54 574.774 1370.71 578.339 Q1368.91 581.88 1368.91 589.01 Q1368.91 596.116 1370.71 599.681 Q1372.54 603.223 1376.15 603.223 Q1379.79 603.223 1381.59 599.681 Q1383.42 596.116 1383.42 589.01 Q1383.42 581.88 1381.59 578.339 Q1379.79 574.774 1376.15 574.774 M1376.15 571.07 Q1381.96 571.07 1385.02 575.677 Q1388.1 580.26 1388.1 589.01 Q1388.1 597.737 1385.02 602.343 Q1381.96 606.926 1376.15 606.926 Q1370.34 606.926 1367.26 602.343 Q1364.21 597.737 1364.21 589.01 Q1364.21 580.26 1367.26 575.677 Q1370.34 571.07 1376.15 571.07 Z\" fill=\"#000000\" fill-rule=\"evenodd\" fill-opacity=\"1\" /><path clip-path=\"url(#clip480)\" d=\"M1301.76 369.372 Q1298.14 369.372 1296.32 372.937 Q1294.51 376.478 1294.51 383.608 Q1294.51 390.714 1296.32 394.279 Q1298.14 397.821 1301.76 397.821 Q1305.39 397.821 1307.2 394.279 Q1309.02 390.714 1309.02 383.608 Q1309.02 376.478 1307.2 372.937 Q1305.39 369.372 1301.76 369.372 M1301.76 365.668 Q1307.57 365.668 1310.62 370.275 Q1313.7 374.858 1313.7 383.608 Q1313.7 392.335 1310.62 396.941 Q1307.57 401.525 1301.76 401.525 Q1295.95 401.525 1292.87 396.941 Q1289.81 392.335 1289.81 383.608 Q1289.81 374.858 1292.87 370.275 Q1295.95 365.668 1301.76 365.668 Z\" fill=\"#000000\" fill-rule=\"evenodd\" fill-opacity=\"1\" /><path clip-path=\"url(#clip480)\" d=\"M1321.92 394.974 L1326.8 394.974 L1326.8 400.853 L1321.92 400.853 L1321.92 394.974 Z\" fill=\"#000000\" fill-rule=\"evenodd\" fill-opacity=\"1\" /><path clip-path=\"url(#clip480)\" d=\"M1341.01 396.918 L1357.33 396.918 L1357.33 400.853 L1335.39 400.853 L1335.39 396.918 Q1338.05 394.163 1342.64 389.534 Q1347.24 384.881 1348.42 383.539 Q1350.67 381.015 1351.55 379.279 Q1352.45 377.52 1352.45 375.83 Q1352.45 373.076 1350.51 371.34 Q1348.58 369.603 1345.48 369.603 Q1343.28 369.603 1340.83 370.367 Q1338.4 371.131 1335.62 372.682 L1335.62 367.96 Q1338.45 366.826 1340.9 366.247 Q1343.35 365.668 1345.39 365.668 Q1350.76 365.668 1353.95 368.353 Q1357.15 371.039 1357.15 375.529 Q1357.15 377.659 1356.34 379.58 Q1355.55 381.478 1353.45 384.071 Q1352.87 384.742 1349.76 387.96 Q1346.66 391.154 1341.01 396.918 Z\" fill=\"#000000\" fill-rule=\"evenodd\" fill-opacity=\"1\" /><path clip-path=\"url(#clip480)\" d=\"M1367.2 366.293 L1385.55 366.293 L1385.55 370.228 L1371.48 370.228 L1371.48 378.701 Q1372.5 378.353 1373.51 378.191 Q1374.53 378.006 1375.55 378.006 Q1381.34 378.006 1384.72 381.177 Q1388.1 384.349 1388.1 389.765 Q1388.1 395.344 1384.63 398.446 Q1381.15 401.525 1374.83 401.525 Q1372.66 401.525 1370.39 401.154 Q1368.14 400.784 1365.74 400.043 L1365.74 395.344 Q1367.82 396.478 1370.04 397.034 Q1372.26 397.589 1374.74 397.589 Q1378.75 397.589 1381.08 395.483 Q1383.42 393.376 1383.42 389.765 Q1383.42 386.154 1381.08 384.048 Q1378.75 381.941 1374.74 381.941 Q1372.87 381.941 1370.99 382.358 Q1369.14 382.775 1367.2 383.654 L1367.2 366.293 Z\" fill=\"#000000\" fill-rule=\"evenodd\" fill-opacity=\"1\" /><path clip-path=\"url(#clip480)\" d=\"M1300.76 163.97 Q1297.15 163.97 1295.32 167.535 Q1293.52 171.076 1293.52 178.206 Q1293.52 185.312 1295.32 188.877 Q1297.15 192.419 1300.76 192.419 Q1304.39 192.419 1306.2 188.877 Q1308.03 185.312 1308.03 178.206 Q1308.03 171.076 1306.2 167.535 Q1304.39 163.97 1300.76 163.97 M1300.76 160.266 Q1306.57 160.266 1309.63 164.873 Q1312.7 169.456 1312.7 178.206 Q1312.7 186.933 1309.63 191.539 Q1306.57 196.123 1300.76 196.123 Q1294.95 196.123 1291.87 191.539 Q1288.82 186.933 1288.82 178.206 Q1288.82 169.456 1291.87 164.873 Q1294.95 160.266 1300.76 160.266 Z\" fill=\"#000000\" fill-rule=\"evenodd\" fill-opacity=\"1\" /><path clip-path=\"url(#clip480)\" d=\"M1320.92 189.572 L1325.81 189.572 L1325.81 195.451 L1320.92 195.451 L1320.92 189.572 Z\" fill=\"#000000\" fill-rule=\"evenodd\" fill-opacity=\"1\" /><path clip-path=\"url(#clip480)\" d=\"M1336.04 160.891 L1354.39 160.891 L1354.39 164.826 L1340.32 164.826 L1340.32 173.299 Q1341.34 172.951 1342.36 172.789 Q1343.38 172.604 1344.39 172.604 Q1350.18 172.604 1353.56 175.776 Q1356.94 178.947 1356.94 184.363 Q1356.94 189.942 1353.47 193.044 Q1350 196.123 1343.68 196.123 Q1341.5 196.123 1339.23 195.752 Q1336.99 195.382 1334.58 194.641 L1334.58 189.942 Q1336.66 191.076 1338.89 191.632 Q1341.11 192.187 1343.58 192.187 Q1347.59 192.187 1349.93 190.081 Q1352.26 187.975 1352.26 184.363 Q1352.26 180.752 1349.93 178.646 Q1347.59 176.539 1343.58 176.539 Q1341.71 176.539 1339.83 176.956 Q1337.98 177.373 1336.04 178.252 L1336.04 160.891 Z\" fill=\"#000000\" fill-rule=\"evenodd\" fill-opacity=\"1\" /><path clip-path=\"url(#clip480)\" d=\"M1376.15 163.97 Q1372.54 163.97 1370.71 167.535 Q1368.91 171.076 1368.91 178.206 Q1368.91 185.312 1370.71 188.877 Q1372.54 192.419 1376.15 192.419 Q1379.79 192.419 1381.59 188.877 Q1383.42 185.312 1383.42 178.206 Q1383.42 171.076 1381.59 167.535 Q1379.79 163.97 1376.15 163.97 M1376.15 160.266 Q1381.96 160.266 1385.02 164.873 Q1388.1 169.456 1388.1 178.206 Q1388.1 186.933 1385.02 191.539 Q1381.96 196.123 1376.15 196.123 Q1370.34 196.123 1367.26 191.539 Q1364.21 186.933 1364.21 178.206 Q1364.21 169.456 1367.26 164.873 Q1370.34 160.266 1376.15 160.266 Z\" fill=\"#000000\" fill-rule=\"evenodd\" fill-opacity=\"1\" /><circle clip-path=\"url(#clip483)\" cx=\"2113.93\" cy=\"1019.39\" r=\"14\" fill=\"#cd5c5c\" fill-rule=\"evenodd\" fill-opacity=\"1\" stroke=\"#000000\" stroke-opacity=\"1\" stroke-width=\"2.4\"/>\n",
       "<circle clip-path=\"url(#clip483)\" cx=\"2246.84\" cy=\"410.39\" r=\"14\" fill=\"#cd5c5c\" fill-rule=\"evenodd\" fill-opacity=\"1\" stroke=\"#000000\" stroke-opacity=\"1\" stroke-width=\"2.4\"/>\n",
       "<circle clip-path=\"url(#clip483)\" cx=\"1860.49\" cy=\"901.325\" r=\"14\" fill=\"#cd5c5c\" fill-rule=\"evenodd\" fill-opacity=\"1\" stroke=\"#000000\" stroke-opacity=\"1\" stroke-width=\"2.4\"/>\n",
       "<circle clip-path=\"url(#clip483)\" cx=\"1863.52\" cy=\"1000.74\" r=\"14\" fill=\"#cd5c5c\" fill-rule=\"evenodd\" fill-opacity=\"1\" stroke=\"#000000\" stroke-opacity=\"1\" stroke-width=\"2.4\"/>\n",
       "<circle clip-path=\"url(#clip483)\" cx=\"1863\" cy=\"930.093\" r=\"14\" fill=\"#cd5c5c\" fill-rule=\"evenodd\" fill-opacity=\"1\" stroke=\"#000000\" stroke-opacity=\"1\" stroke-width=\"2.4\"/>\n",
       "<circle clip-path=\"url(#clip483)\" cx=\"1829.15\" cy=\"946.932\" r=\"14\" fill=\"#cd5c5c\" fill-rule=\"evenodd\" fill-opacity=\"1\" stroke=\"#000000\" stroke-opacity=\"1\" stroke-width=\"2.4\"/>\n",
       "<circle clip-path=\"url(#clip483)\" cx=\"1721.52\" cy=\"727.034\" r=\"14\" fill=\"#cd5c5c\" fill-rule=\"evenodd\" fill-opacity=\"1\" stroke=\"#000000\" stroke-opacity=\"1\" stroke-width=\"2.4\"/>\n",
       "<circle clip-path=\"url(#clip483)\" cx=\"1450.38\" cy=\"616.088\" r=\"14\" fill=\"#cd5c5c\" fill-rule=\"evenodd\" fill-opacity=\"1\" stroke=\"#000000\" stroke-opacity=\"1\" stroke-width=\"2.4\"/>\n",
       "<circle clip-path=\"url(#clip483)\" cx=\"1625.31\" cy=\"394.076\" r=\"14\" fill=\"#cd5c5c\" fill-rule=\"evenodd\" fill-opacity=\"1\" stroke=\"#000000\" stroke-opacity=\"1\" stroke-width=\"2.4\"/>\n",
       "<circle clip-path=\"url(#clip483)\" cx=\"1699.36\" cy=\"243.043\" r=\"14\" fill=\"#cd5c5c\" fill-rule=\"evenodd\" fill-opacity=\"1\" stroke=\"#000000\" stroke-opacity=\"1\" stroke-width=\"2.4\"/>\n",
       "<circle clip-path=\"url(#clip483)\" cx=\"2166.9\" cy=\"656.054\" r=\"14\" fill=\"#cd5c5c\" fill-rule=\"evenodd\" fill-opacity=\"1\" stroke=\"#000000\" stroke-opacity=\"1\" stroke-width=\"2.4\"/>\n",
       "<circle clip-path=\"url(#clip483)\" cx=\"1853.29\" cy=\"75.5589\" r=\"14\" fill=\"#cd5c5c\" fill-rule=\"evenodd\" fill-opacity=\"1\" stroke=\"#000000\" stroke-opacity=\"1\" stroke-width=\"2.4\"/>\n",
       "<circle clip-path=\"url(#clip483)\" cx=\"1923.5\" cy=\"465.217\" r=\"14\" fill=\"#cd5c5c\" fill-rule=\"evenodd\" fill-opacity=\"1\" stroke=\"#000000\" stroke-opacity=\"1\" stroke-width=\"2.4\"/>\n",
       "<circle clip-path=\"url(#clip483)\" cx=\"2081.72\" cy=\"309.784\" r=\"14\" fill=\"#cd5c5c\" fill-rule=\"evenodd\" fill-opacity=\"1\" stroke=\"#000000\" stroke-opacity=\"1\" stroke-width=\"2.4\"/>\n",
       "<circle clip-path=\"url(#clip483)\" cx=\"1810.05\" cy=\"952.347\" r=\"14\" fill=\"#cd5c5c\" fill-rule=\"evenodd\" fill-opacity=\"1\" stroke=\"#000000\" stroke-opacity=\"1\" stroke-width=\"2.4\"/>\n",
       "<circle clip-path=\"url(#clip483)\" cx=\"2009.39\" cy=\"819.653\" r=\"14\" fill=\"#cd5c5c\" fill-rule=\"evenodd\" fill-opacity=\"1\" stroke=\"#000000\" stroke-opacity=\"1\" stroke-width=\"2.4\"/>\n",
       "<circle clip-path=\"url(#clip483)\" cx=\"1783.16\" cy=\"924.895\" r=\"14\" fill=\"#cd5c5c\" fill-rule=\"evenodd\" fill-opacity=\"1\" stroke=\"#000000\" stroke-opacity=\"1\" stroke-width=\"2.4\"/>\n",
       "<circle clip-path=\"url(#clip483)\" cx=\"1916.96\" cy=\"477.338\" r=\"14\" fill=\"#cd5c5c\" fill-rule=\"evenodd\" fill-opacity=\"1\" stroke=\"#000000\" stroke-opacity=\"1\" stroke-width=\"2.4\"/>\n",
       "<circle clip-path=\"url(#clip483)\" cx=\"1917.52\" cy=\"416.738\" r=\"14\" fill=\"#cd5c5c\" fill-rule=\"evenodd\" fill-opacity=\"1\" stroke=\"#000000\" stroke-opacity=\"1\" stroke-width=\"2.4\"/>\n",
       "<circle clip-path=\"url(#clip483)\" cx=\"2003.9\" cy=\"605.295\" r=\"14\" fill=\"#cd5c5c\" fill-rule=\"evenodd\" fill-opacity=\"1\" stroke=\"#000000\" stroke-opacity=\"1\" stroke-width=\"2.4\"/>\n",
       "<circle clip-path=\"url(#clip483)\" cx=\"1936.68\" cy=\"656.431\" r=\"14\" fill=\"#cd5c5c\" fill-rule=\"evenodd\" fill-opacity=\"1\" stroke=\"#000000\" stroke-opacity=\"1\" stroke-width=\"2.4\"/>\n",
       "<circle clip-path=\"url(#clip483)\" cx=\"1904.88\" cy=\"649.161\" r=\"14\" fill=\"#cd5c5c\" fill-rule=\"evenodd\" fill-opacity=\"1\" stroke=\"#000000\" stroke-opacity=\"1\" stroke-width=\"2.4\"/>\n",
       "<circle clip-path=\"url(#clip483)\" cx=\"2058.11\" cy=\"513.14\" r=\"14\" fill=\"#cd5c5c\" fill-rule=\"evenodd\" fill-opacity=\"1\" stroke=\"#000000\" stroke-opacity=\"1\" stroke-width=\"2.4\"/>\n",
       "<circle clip-path=\"url(#clip483)\" cx=\"2002.53\" cy=\"405.059\" r=\"14\" fill=\"#4682b4\" fill-rule=\"evenodd\" fill-opacity=\"1\" stroke=\"#000000\" stroke-opacity=\"1\" stroke-width=\"2.4\"/>\n",
       "<circle clip-path=\"url(#clip483)\" cx=\"1883.16\" cy=\"720.726\" r=\"14\" fill=\"#4682b4\" fill-rule=\"evenodd\" fill-opacity=\"1\" stroke=\"#000000\" stroke-opacity=\"1\" stroke-width=\"2.4\"/>\n",
       "<circle clip-path=\"url(#clip483)\" cx=\"1842.95\" cy=\"605.567\" r=\"14\" fill=\"#4682b4\" fill-rule=\"evenodd\" fill-opacity=\"1\" stroke=\"#000000\" stroke-opacity=\"1\" stroke-width=\"2.4\"/>\n",
       "<circle clip-path=\"url(#clip483)\" cx=\"2181.31\" cy=\"618.273\" r=\"14\" fill=\"#4682b4\" fill-rule=\"evenodd\" fill-opacity=\"1\" stroke=\"#000000\" stroke-opacity=\"1\" stroke-width=\"2.4\"/>\n",
       "<circle clip-path=\"url(#clip483)\" cx=\"1899.23\" cy=\"692.657\" r=\"14\" fill=\"#4682b4\" fill-rule=\"evenodd\" fill-opacity=\"1\" stroke=\"#000000\" stroke-opacity=\"1\" stroke-width=\"2.4\"/>\n",
       "<circle clip-path=\"url(#clip483)\" cx=\"1645.9\" cy=\"755.893\" r=\"14\" fill=\"#4682b4\" fill-rule=\"evenodd\" fill-opacity=\"1\" stroke=\"#000000\" stroke-opacity=\"1\" stroke-width=\"2.4\"/>\n",
       "<circle clip-path=\"url(#clip483)\" cx=\"2034.29\" cy=\"550.879\" r=\"14\" fill=\"#4682b4\" fill-rule=\"evenodd\" fill-opacity=\"1\" stroke=\"#000000\" stroke-opacity=\"1\" stroke-width=\"2.4\"/>\n",
       "<circle clip-path=\"url(#clip483)\" cx=\"1608.88\" cy=\"703.806\" r=\"14\" fill=\"#4682b4\" fill-rule=\"evenodd\" fill-opacity=\"1\" stroke=\"#000000\" stroke-opacity=\"1\" stroke-width=\"2.4\"/>\n",
       "<circle clip-path=\"url(#clip483)\" cx=\"1884.64\" cy=\"546.484\" r=\"14\" fill=\"#4682b4\" fill-rule=\"evenodd\" fill-opacity=\"1\" stroke=\"#000000\" stroke-opacity=\"1\" stroke-width=\"2.4\"/>\n",
       "<circle clip-path=\"url(#clip483)\" cx=\"2179.53\" cy=\"580.95\" r=\"14\" fill=\"#4682b4\" fill-rule=\"evenodd\" fill-opacity=\"1\" stroke=\"#000000\" stroke-opacity=\"1\" stroke-width=\"2.4\"/>\n",
       "<circle clip-path=\"url(#clip483)\" cx=\"1886.32\" cy=\"396.889\" r=\"14\" fill=\"#4682b4\" fill-rule=\"evenodd\" fill-opacity=\"1\" stroke=\"#000000\" stroke-opacity=\"1\" stroke-width=\"2.4\"/>\n",
       "<circle clip-path=\"url(#clip483)\" cx=\"1758.59\" cy=\"529.418\" r=\"14\" fill=\"#4682b4\" fill-rule=\"evenodd\" fill-opacity=\"1\" stroke=\"#000000\" stroke-opacity=\"1\" stroke-width=\"2.4\"/>\n",
       "<circle clip-path=\"url(#clip483)\" cx=\"1952.26\" cy=\"644.857\" r=\"14\" fill=\"#4682b4\" fill-rule=\"evenodd\" fill-opacity=\"1\" stroke=\"#000000\" stroke-opacity=\"1\" stroke-width=\"2.4\"/>\n",
       "<circle clip-path=\"url(#clip483)\" cx=\"1893.25\" cy=\"203.784\" r=\"14\" fill=\"#4682b4\" fill-rule=\"evenodd\" fill-opacity=\"1\" stroke=\"#000000\" stroke-opacity=\"1\" stroke-width=\"2.4\"/>\n",
       "<circle clip-path=\"url(#clip483)\" cx=\"2083.17\" cy=\"423.828\" r=\"14\" fill=\"#4682b4\" fill-rule=\"evenodd\" fill-opacity=\"1\" stroke=\"#000000\" stroke-opacity=\"1\" stroke-width=\"2.4\"/>\n",
       "<circle clip-path=\"url(#clip483)\" cx=\"1887\" cy=\"517.893\" r=\"14\" fill=\"#4682b4\" fill-rule=\"evenodd\" fill-opacity=\"1\" stroke=\"#000000\" stroke-opacity=\"1\" stroke-width=\"2.4\"/>\n",
       "<circle clip-path=\"url(#clip483)\" cx=\"1607.28\" cy=\"390.104\" r=\"14\" fill=\"#4682b4\" fill-rule=\"evenodd\" fill-opacity=\"1\" stroke=\"#000000\" stroke-opacity=\"1\" stroke-width=\"2.4\"/>\n",
       "<circle clip-path=\"url(#clip483)\" cx=\"1806.56\" cy=\"620.461\" r=\"14\" fill=\"#4682b4\" fill-rule=\"evenodd\" fill-opacity=\"1\" stroke=\"#000000\" stroke-opacity=\"1\" stroke-width=\"2.4\"/>\n",
       "<circle clip-path=\"url(#clip483)\" cx=\"1816.79\" cy=\"535.018\" r=\"14\" fill=\"#4682b4\" fill-rule=\"evenodd\" fill-opacity=\"1\" stroke=\"#000000\" stroke-opacity=\"1\" stroke-width=\"2.4\"/>\n",
       "<circle clip-path=\"url(#clip483)\" cx=\"2326.47\" cy=\"557.89\" r=\"14\" fill=\"#4682b4\" fill-rule=\"evenodd\" fill-opacity=\"1\" stroke=\"#000000\" stroke-opacity=\"1\" stroke-width=\"2.4\"/>\n",
       "<circle clip-path=\"url(#clip483)\" cx=\"1476.25\" cy=\"912.56\" r=\"14\" fill=\"#4682b4\" fill-rule=\"evenodd\" fill-opacity=\"1\" stroke=\"#000000\" stroke-opacity=\"1\" stroke-width=\"2.4\"/>\n",
       "<circle clip-path=\"url(#clip483)\" cx=\"1769.84\" cy=\"200.348\" r=\"14\" fill=\"#4682b4\" fill-rule=\"evenodd\" fill-opacity=\"1\" stroke=\"#000000\" stroke-opacity=\"1\" stroke-width=\"2.4\"/>\n",
       "<circle clip-path=\"url(#clip483)\" cx=\"2289.13\" cy=\"607.598\" r=\"14\" fill=\"#4682b4\" fill-rule=\"evenodd\" fill-opacity=\"1\" stroke=\"#000000\" stroke-opacity=\"1\" stroke-width=\"2.4\"/>\n",
       "<circle clip-path=\"url(#clip483)\" cx=\"2057.67\" cy=\"289.348\" r=\"14\" fill=\"#4682b4\" fill-rule=\"evenodd\" fill-opacity=\"1\" stroke=\"#000000\" stroke-opacity=\"1\" stroke-width=\"2.4\"/>\n",
       "<circle clip-path=\"url(#clip483)\" cx=\"1502.5\" cy=\"795.527\" r=\"14\" fill=\"#4682b4\" fill-rule=\"evenodd\" fill-opacity=\"1\" stroke=\"#000000\" stroke-opacity=\"1\" stroke-width=\"2.4\"/>\n",
       "<circle clip-path=\"url(#clip483)\" cx=\"1579.69\" cy=\"596.254\" r=\"14\" fill=\"#4682b4\" fill-rule=\"evenodd\" fill-opacity=\"1\" stroke=\"#000000\" stroke-opacity=\"1\" stroke-width=\"2.4\"/>\n",
       "<circle clip-path=\"url(#clip483)\" cx=\"1831.63\" cy=\"335.972\" r=\"14\" fill=\"#4682b4\" fill-rule=\"evenodd\" fill-opacity=\"1\" stroke=\"#000000\" stroke-opacity=\"1\" stroke-width=\"2.4\"/>\n",
       "<path clip-path=\"url(#clip480)\" d=\"\n",
       "M2064.68 236.113 L2321.8 236.113 L2321.8 80.5926 L2064.68 80.5926  Z\n",
       "  \" fill=\"#ffffff\" fill-rule=\"evenodd\" fill-opacity=\"1\"/>\n",
       "<polyline clip-path=\"url(#clip480)\" style=\"stroke:#000000; stroke-linecap:butt; stroke-linejoin:round; stroke-width:4; stroke-opacity:1; fill:none\" points=\"\n",
       "  2064.68,236.113 2321.8,236.113 2321.8,80.5926 2064.68,80.5926 2064.68,236.113 \n",
       "  \"/>\n",
       "<circle clip-path=\"url(#clip480)\" cx=\"2105.96\" cy=\"132.433\" r=\"23\" fill=\"#cd5c5c\" fill-rule=\"evenodd\" fill-opacity=\"1\" stroke=\"#000000\" stroke-opacity=\"1\" stroke-width=\"3.84\"/>\n",
       "<path clip-path=\"url(#clip480)\" d=\"M2175.1 117.815 L2175.1 122.745 Q2172.74 120.546 2170.05 119.458 Q2167.39 118.37 2164.38 118.37 Q2158.46 118.37 2155.31 122.004 Q2152.16 125.616 2152.16 132.467 Q2152.16 139.296 2155.31 142.93 Q2158.46 146.541 2164.38 146.541 Q2167.39 146.541 2170.05 145.453 Q2172.74 144.365 2175.1 142.166 L2175.1 147.051 Q2172.65 148.717 2169.89 149.551 Q2167.16 150.384 2164.1 150.384 Q2156.26 150.384 2151.74 145.592 Q2147.23 140.777 2147.23 132.467 Q2147.23 124.134 2151.74 119.342 Q2156.26 114.528 2164.1 114.528 Q2167.21 114.528 2169.94 115.361 Q2172.69 116.171 2175.1 117.815 Z\" fill=\"#000000\" fill-rule=\"evenodd\" fill-opacity=\"1\" /><path clip-path=\"url(#clip480)\" d=\"M2192.18 126.773 Q2188.76 126.773 2186.77 129.458 Q2184.78 132.12 2184.78 136.773 Q2184.78 141.426 2186.74 144.111 Q2188.73 146.773 2192.18 146.773 Q2195.59 146.773 2197.58 144.088 Q2199.57 141.402 2199.57 136.773 Q2199.57 132.166 2197.58 129.481 Q2195.59 126.773 2192.18 126.773 M2192.18 123.162 Q2197.74 123.162 2200.91 126.773 Q2204.08 130.384 2204.08 136.773 Q2204.08 143.139 2200.91 146.773 Q2197.74 150.384 2192.18 150.384 Q2186.6 150.384 2183.43 146.773 Q2180.28 143.139 2180.28 136.773 Q2180.28 130.384 2183.43 126.773 Q2186.6 123.162 2192.18 123.162 Z\" fill=\"#000000\" fill-rule=\"evenodd\" fill-opacity=\"1\" /><path clip-path=\"url(#clip480)\" d=\"M2222.92 136.68 Q2217.76 136.68 2215.77 137.861 Q2213.78 139.041 2213.78 141.889 Q2213.78 144.157 2215.26 145.5 Q2216.77 146.819 2219.34 146.819 Q2222.88 146.819 2225.01 144.319 Q2227.16 141.796 2227.16 137.629 L2227.16 136.68 L2222.92 136.68 M2231.42 134.921 L2231.42 149.713 L2227.16 149.713 L2227.16 145.777 Q2225.7 148.139 2223.53 149.273 Q2221.35 150.384 2218.2 150.384 Q2214.22 150.384 2211.86 148.162 Q2209.52 145.916 2209.52 142.166 Q2209.52 137.791 2212.44 135.569 Q2215.38 133.347 2221.19 133.347 L2227.16 133.347 L2227.16 132.93 Q2227.16 129.991 2225.22 128.393 Q2223.29 126.773 2219.8 126.773 Q2217.58 126.773 2215.47 127.305 Q2213.36 127.838 2211.42 128.903 L2211.42 124.967 Q2213.76 124.065 2215.96 123.625 Q2218.15 123.162 2220.24 123.162 Q2225.86 123.162 2228.64 126.078 Q2231.42 128.995 2231.42 134.921 Z\" fill=\"#000000\" fill-rule=\"evenodd\" fill-opacity=\"1\" /><path clip-path=\"url(#clip480)\" d=\"M2244.4 116.426 L2244.4 123.787 L2253.18 123.787 L2253.18 127.097 L2244.4 127.097 L2244.4 141.171 Q2244.4 144.342 2245.26 145.245 Q2246.14 146.148 2248.8 146.148 L2253.18 146.148 L2253.18 149.713 L2248.8 149.713 Q2243.87 149.713 2242 147.884 Q2240.12 146.032 2240.12 141.171 L2240.12 127.097 L2237 127.097 L2237 123.787 L2240.12 123.787 L2240.12 116.426 L2244.4 116.426 Z\" fill=\"#000000\" fill-rule=\"evenodd\" fill-opacity=\"1\" /><circle clip-path=\"url(#clip480)\" cx=\"2105.96\" cy=\"184.273\" r=\"23\" fill=\"#4682b4\" fill-rule=\"evenodd\" fill-opacity=\"1\" stroke=\"#000000\" stroke-opacity=\"1\" stroke-width=\"3.84\"/>\n",
       "<path clip-path=\"url(#clip480)\" d=\"M2169.47 168.127 L2169.47 172.687 Q2166.81 171.414 2164.45 170.789 Q2162.09 170.164 2159.89 170.164 Q2156.07 170.164 2153.99 171.645 Q2151.93 173.127 2151.93 175.858 Q2151.93 178.15 2153.29 179.331 Q2154.68 180.488 2158.53 181.206 L2161.35 181.784 Q2166.58 182.78 2169.06 185.303 Q2171.56 187.803 2171.56 192.016 Q2171.56 197.039 2168.18 199.631 Q2164.82 202.224 2158.32 202.224 Q2155.86 202.224 2153.09 201.668 Q2150.33 201.113 2147.37 200.025 L2147.37 195.21 Q2150.22 196.807 2152.95 197.617 Q2155.68 198.428 2158.32 198.428 Q2162.32 198.428 2164.5 196.854 Q2166.67 195.28 2166.67 192.363 Q2166.67 189.817 2165.1 188.381 Q2163.55 186.946 2159.98 186.229 L2157.14 185.673 Q2151.91 184.631 2149.57 182.409 Q2147.23 180.187 2147.23 176.229 Q2147.23 171.645 2150.45 169.006 Q2153.69 166.368 2159.36 166.368 Q2161.79 166.368 2164.31 166.807 Q2166.84 167.247 2169.47 168.127 Z\" fill=\"#000000\" fill-rule=\"evenodd\" fill-opacity=\"1\" /><path clip-path=\"url(#clip480)\" d=\"M2190.45 188.52 Q2185.28 188.52 2183.29 189.701 Q2181.3 190.881 2181.3 193.729 Q2181.3 195.997 2182.78 197.34 Q2184.29 198.659 2186.86 198.659 Q2190.4 198.659 2192.53 196.159 Q2194.68 193.636 2194.68 189.469 L2194.68 188.52 L2190.45 188.52 M2198.94 186.761 L2198.94 201.553 L2194.68 201.553 L2194.68 197.617 Q2193.22 199.979 2191.05 201.113 Q2188.87 202.224 2185.72 202.224 Q2181.74 202.224 2179.38 200.002 Q2177.04 197.756 2177.04 194.006 Q2177.04 189.631 2179.96 187.409 Q2182.9 185.187 2188.71 185.187 L2194.68 185.187 L2194.68 184.77 Q2194.68 181.831 2192.74 180.233 Q2190.82 178.613 2187.32 178.613 Q2185.1 178.613 2182.99 179.145 Q2180.89 179.678 2178.94 180.743 L2178.94 176.807 Q2181.28 175.905 2183.48 175.465 Q2185.68 175.002 2187.76 175.002 Q2193.39 175.002 2196.16 177.918 Q2198.94 180.835 2198.94 186.761 Z\" fill=\"#000000\" fill-rule=\"evenodd\" fill-opacity=\"1\" /><path clip-path=\"url(#clip480)\" d=\"M2229.27 185.905 L2229.27 201.553 L2225.01 201.553 L2225.01 186.043 Q2225.01 182.363 2223.57 180.534 Q2222.14 178.706 2219.27 178.706 Q2215.82 178.706 2213.83 180.905 Q2211.84 183.104 2211.84 186.9 L2211.84 201.553 L2207.55 201.553 L2207.55 175.627 L2211.84 175.627 L2211.84 179.655 Q2213.36 177.317 2215.42 176.159 Q2217.51 175.002 2220.22 175.002 Q2224.68 175.002 2226.97 177.78 Q2229.27 180.534 2229.27 185.905 Z\" fill=\"#000000\" fill-rule=\"evenodd\" fill-opacity=\"1\" /><path clip-path=\"url(#clip480)\" d=\"M2254.82 179.562 L2254.82 165.534 L2259.08 165.534 L2259.08 201.553 L2254.82 201.553 L2254.82 197.664 Q2253.48 199.979 2251.42 201.113 Q2249.38 202.224 2246.51 202.224 Q2241.81 202.224 2238.85 198.474 Q2235.91 194.724 2235.91 188.613 Q2235.91 182.502 2238.85 178.752 Q2241.81 175.002 2246.51 175.002 Q2249.38 175.002 2251.42 176.136 Q2253.48 177.247 2254.82 179.562 M2240.31 188.613 Q2240.31 193.312 2242.23 195.997 Q2244.17 198.659 2247.55 198.659 Q2250.93 198.659 2252.88 195.997 Q2254.82 193.312 2254.82 188.613 Q2254.82 183.914 2252.88 181.252 Q2250.93 178.567 2247.55 178.567 Q2244.17 178.567 2242.23 181.252 Q2240.31 183.914 2240.31 188.613 Z\" fill=\"#000000\" fill-rule=\"evenodd\" fill-opacity=\"1\" /><path clip-path=\"url(#clip480)\" d=\"M2279.64 188.52 Q2274.47 188.52 2272.48 189.701 Q2270.49 190.881 2270.49 193.729 Q2270.49 195.997 2271.97 197.34 Q2273.48 198.659 2276.05 198.659 Q2279.59 198.659 2281.72 196.159 Q2283.87 193.636 2283.87 189.469 L2283.87 188.52 L2279.64 188.52 M2288.13 186.761 L2288.13 201.553 L2283.87 201.553 L2283.87 197.617 Q2282.41 199.979 2280.24 201.113 Q2278.06 202.224 2274.91 202.224 Q2270.93 202.224 2268.57 200.002 Q2266.23 197.756 2266.23 194.006 Q2266.23 189.631 2269.15 187.409 Q2272.09 185.187 2277.9 185.187 L2283.87 185.187 L2283.87 184.77 Q2283.87 181.831 2281.93 180.233 Q2280.01 178.613 2276.51 178.613 Q2274.29 178.613 2272.18 179.145 Q2270.08 179.678 2268.13 180.743 L2268.13 176.807 Q2270.47 175.905 2272.67 175.465 Q2274.87 175.002 2276.95 175.002 Q2282.58 175.002 2285.35 177.918 Q2288.13 180.835 2288.13 186.761 Z\" fill=\"#000000\" fill-rule=\"evenodd\" fill-opacity=\"1\" /><path clip-path=\"url(#clip480)\" d=\"M2296.9 165.534 L2301.16 165.534 L2301.16 201.553 L2296.9 201.553 L2296.9 165.534 Z\" fill=\"#000000\" fill-rule=\"evenodd\" fill-opacity=\"1\" /></svg>\n"
      ]
     },
     "execution_count": 389,
     "metadata": {},
     "output_type": "execute_result"
    }
   ],
   "source": [
    "scatter(X_test_Pr[1, y_test .== -1], X_test_Pr[2, y_test .== -1], \n",
    "            color = :indianred,\n",
    "            label = labels[l₁],\n",
    "            size = (600,300),\n",
    "            subplot = 1, layout = 2,\n",
    "            xlabel = \"true labels test data\")\n",
    "scatter!(X_test_Pr[1, y_test .== 1], X_test_Pr[2, y_test .== 1], \n",
    "            color = :steelblue,\n",
    "            label = labels[l₂],\n",
    "            subplot = 1, layout = 2)\n",
    "scatter!(X_test_Pr[1, ŷ_test .== -1], X_test_Pr[2, ŷ_test .== -1], \n",
    "            color = :indianred,\n",
    "            label = labels[l₁],\n",
    "            size = (600,300),\n",
    "            subplot = 2, layout = 2,\n",
    "            xlabel = \"predictions test data\")\n",
    "scatter!(X_test_Pr[1, ŷ_test .== 1], X_test_Pr[2, ŷ_test .== 1], \n",
    "            color = :steelblue,\n",
    "            label = labels[l₂],\n",
    "            subplot = 2, layout = 2)"
   ]
  },
  {
   "cell_type": "markdown",
   "metadata": {},
   "source": [
    "The fraction of correctly prediced data points is"
   ]
  },
  {
   "cell_type": "code",
   "execution_count": 390,
   "metadata": {},
   "outputs": [
    {
     "data": {
      "text/plain": [
       "0.1"
      ]
     },
     "execution_count": 390,
     "metadata": {},
     "output_type": "execute_result"
    }
   ],
   "source": [
    "count(y_test-ŷ_test .!= 0)/n"
   ]
  },
  {
   "cell_type": "markdown",
   "metadata": {},
   "source": [
    "# Neural Networks\n",
    "\n",
    "We will now compute a classification algorithm using a neural network.\n",
    "\n",
    "Instead of setting up the network by hand as we did in Notebook 4, we will use [Flux.jl](https://fluxml.ai).\n",
    "\n",
    "We set up a neural network with three layers.\n",
    "\n",
    "The first layer is $\\mathbb R^D\\to\\mathbb R^{N_1}$. \n",
    "\n",
    "The second layer is $\\mathbb R^{N_1}\\to\\mathbb R^{N_2}$. \n",
    "\n",
    "The third layer is $\\mathbb R^{N_2}\\to\\mathbb R^{2}$.\n",
    "\n",
    "The output in $\\mathbb R^{2}$ will be a discrete probability distribution for our two items. Therefore, we use as the activation function in the last layer the softmax function. The other activation functions are chosen to be the ReLu function."
   ]
  },
  {
   "cell_type": "code",
   "execution_count": 413,
   "metadata": {},
   "outputs": [
    {
     "data": {
      "text/plain": [
       "Chain(\n",
       "  Dense(784 => 20, relu),               \u001b[90m# 15_700 parameters\u001b[39m\n",
       "  Dense(20 => 15, relu),                \u001b[90m# 315 parameters\u001b[39m\n",
       "  Dense(15 => 2),                       \u001b[90m# 32 parameters\u001b[39m\n",
       "  NNlib.softmax,\n",
       ") \u001b[90m                  # Total: 6 arrays, \u001b[39m16_047 parameters, 63.059 KiB."
      ]
     },
     "execution_count": 413,
     "metadata": {},
     "output_type": "execute_result"
    }
   ],
   "source": [
    "N₁, N₂ = 20, 15\n",
    "\n",
    "NN = Flux.Chain(\n",
    "          Dense(28^2, N₁, relu),\n",
    "          Dense(N₁, N₂, relu),\n",
    "          Dense(N₂, 2),\n",
    "          softmax)"
   ]
  },
  {
   "cell_type": "markdown",
   "metadata": {},
   "source": [
    "We have to modify the output data accordingly."
   ]
  },
  {
   "cell_type": "code",
   "execution_count": 414,
   "metadata": {},
   "outputs": [],
   "source": [
    "y₀ = map(Y) do Yᵢ\n",
    "    if Yᵢ==l₁\n",
    "        [1;0]\n",
    "    elseif Yᵢ==l₂\n",
    "        [0;1]\n",
    "    end\n",
    "    end;"
   ]
  },
  {
   "cell_type": "markdown",
   "metadata": {},
   "source": [
    "As loss function we take the [crossentropy](https://en.wikipedia.org/wiki/Cross_entropy) function `ℓ(p,q) = -p₁ log(q₁) - p₂ log(q₂).`"
   ]
  },
  {
   "cell_type": "code",
   "execution_count": 415,
   "metadata": {},
   "outputs": [],
   "source": [
    "loss(x, y) = Flux.crossentropy(NN(x), y; dims = 2);\n",
    "# in Flux.jl the first variable is in ℝ^D"
   ]
  },
  {
   "cell_type": "markdown",
   "metadata": {},
   "source": [
    "The framework to set up a Flux.jl' model is as follows:\n",
    "\n",
    "(The code is adapted from the lecture on [Neural Nets](https://github.com/JuliaAcademy/DataScience/blob/main/10.%20Neural%20Nets.ipynb) by [Huda Nassar](https://github.com/nassarhuda).)"
   ]
  },
  {
   "cell_type": "code",
   "execution_count": 416,
   "metadata": {},
   "outputs": [],
   "source": [
    "ps = Flux.params(NN);\n",
    "dataset = [(Float32.(x),y) for (x,y) in zip(X_vec, y₀)];\n",
    "opt = ADAM();"
   ]
  },
  {
   "cell_type": "markdown",
   "metadata": {},
   "source": [
    "The model is the trained using Flux.jl's `train!` function."
   ]
  },
  {
   "cell_type": "code",
   "execution_count": 417,
   "metadata": {},
   "outputs": [
    {
     "name": "stderr",
     "output_type": "stream",
     "text": [
      "┌ Info: Epoch 1\n",
      "└ @ Main /Users/pb/.julia/packages/Flux/6Q5r4/src/optimise/train.jl:154\n",
      "┌ Info: Epoch 2\n",
      "└ @ Main /Users/pb/.julia/packages/Flux/6Q5r4/src/optimise/train.jl:154\n",
      "┌ Info: Epoch 3\n",
      "└ @ Main /Users/pb/.julia/packages/Flux/6Q5r4/src/optimise/train.jl:154\n"
     ]
    }
   ],
   "source": [
    "Flux.@epochs 3 Flux.train!(loss, ps, dataset, opt)"
   ]
  },
  {
   "cell_type": "markdown",
   "metadata": {},
   "source": [
    "Let us now see what the algorithm that we have learned predicts on randomly chosen elements from the test data set."
   ]
  },
  {
   "cell_type": "code",
   "execution_count": 419,
   "metadata": {},
   "outputs": [
    {
     "name": "stdout",
     "output_type": "stream",
     "text": [
      "With probability 0.8798512312969115: Coat.\n",
      "\n",
      "With probability 0.12014876870308848: Sandal.\n",
      "\n"
     ]
    },
    {
     "data": {
      "image/png": "[encoded data removed]",
      "text/plain": [
       "28×28 reinterpret(reshape, Gray{N0f8}, ::Array{N0f8,2}) with eltype Gray{N0f8}:\n",
       " Gray{N0f8}(0.0)  Gray{N0f8}(0.0)  …  Gray{N0f8}(0.0)  Gray{N0f8}(0.0)\n",
       " Gray{N0f8}(0.0)  Gray{N0f8}(0.0)     Gray{N0f8}(0.0)  Gray{N0f8}(0.0)\n",
       " Gray{N0f8}(0.0)  Gray{N0f8}(0.0)     Gray{N0f8}(0.0)  Gray{N0f8}(0.0)\n",
       " Gray{N0f8}(0.0)  Gray{N0f8}(0.0)     Gray{N0f8}(0.0)  Gray{N0f8}(0.0)\n",
       " Gray{N0f8}(0.0)  Gray{N0f8}(0.0)     Gray{N0f8}(0.0)  Gray{N0f8}(0.0)\n",
       " Gray{N0f8}(0.0)  Gray{N0f8}(0.0)  …  Gray{N0f8}(0.0)  Gray{N0f8}(0.0)\n",
       " Gray{N0f8}(0.0)  Gray{N0f8}(0.0)     Gray{N0f8}(0.0)  Gray{N0f8}(0.0)\n",
       " Gray{N0f8}(0.0)  Gray{N0f8}(0.0)     Gray{N0f8}(0.0)  Gray{N0f8}(0.0)\n",
       " Gray{N0f8}(0.0)  Gray{N0f8}(0.0)     Gray{N0f8}(0.0)  Gray{N0f8}(0.0)\n",
       " Gray{N0f8}(0.0)  Gray{N0f8}(0.0)     Gray{N0f8}(0.0)  Gray{N0f8}(0.0)\n",
       " Gray{N0f8}(0.0)  Gray{N0f8}(0.0)  …  Gray{N0f8}(0.0)  Gray{N0f8}(0.0)\n",
       " Gray{N0f8}(0.0)  Gray{N0f8}(0.0)     Gray{N0f8}(0.0)  Gray{N0f8}(0.0)\n",
       " Gray{N0f8}(0.0)  Gray{N0f8}(0.0)     Gray{N0f8}(0.0)  Gray{N0f8}(0.0)\n",
       " ⋮                                 ⋱                   \n",
       " Gray{N0f8}(0.0)  Gray{N0f8}(0.0)     Gray{N0f8}(0.0)  Gray{N0f8}(0.0)\n",
       " Gray{N0f8}(0.0)  Gray{N0f8}(0.0)     Gray{N0f8}(0.0)  Gray{N0f8}(0.0)\n",
       " Gray{N0f8}(0.0)  Gray{N0f8}(0.0)     Gray{N0f8}(0.0)  Gray{N0f8}(0.0)\n",
       " Gray{N0f8}(0.0)  Gray{N0f8}(0.0)     Gray{N0f8}(0.0)  Gray{N0f8}(0.0)\n",
       " Gray{N0f8}(0.0)  Gray{N0f8}(0.0)  …  Gray{N0f8}(0.0)  Gray{N0f8}(0.0)\n",
       " Gray{N0f8}(0.0)  Gray{N0f8}(0.0)     Gray{N0f8}(0.0)  Gray{N0f8}(0.0)\n",
       " Gray{N0f8}(0.0)  Gray{N0f8}(0.0)     Gray{N0f8}(0.0)  Gray{N0f8}(0.0)\n",
       " Gray{N0f8}(0.0)  Gray{N0f8}(0.0)     Gray{N0f8}(0.0)  Gray{N0f8}(0.0)\n",
       " Gray{N0f8}(0.0)  Gray{N0f8}(0.0)     Gray{N0f8}(0.0)  Gray{N0f8}(0.0)\n",
       " Gray{N0f8}(0.0)  Gray{N0f8}(0.0)  …  Gray{N0f8}(0.0)  Gray{N0f8}(0.0)\n",
       " Gray{N0f8}(0.0)  Gray{N0f8}(0.0)     Gray{N0f8}(0.0)  Gray{N0f8}(0.0)\n",
       " Gray{N0f8}(0.0)  Gray{N0f8}(0.0)     Gray{N0f8}(0.0)  Gray{N0f8}(0.0)"
      ]
     },
     "execution_count": 419,
     "metadata": {},
     "output_type": "execute_result"
    }
   ],
   "source": [
    "ℓ = rand(1:n)\n",
    "p = NN(X_test_vec[ℓ])\n",
    "println(\"With probability $(p[1]): Coat.\\n\")\n",
    "println(\"With probability $(p[2]): Sandal.\\n\")\n",
    "FashionMNIST.convert2image(X_test[:,:,ℓ])"
   ]
  },
  {
   "cell_type": "code",
   "execution_count": null,
   "metadata": {},
   "outputs": [],
   "source": []
  }
 ],
 "metadata": {
  "@webio": {
   "lastCommId": null,
   "lastKernelId": null
  },
  "kernelspec": {
   "display_name": "Julia 1.7.2",
   "language": "julia",
   "name": "julia-1.7"
  },
  "language_info": {
   "file_extension": ".jl",
   "mimetype": "application/julia",
   "name": "julia",
   "version": "1.7.2"
  }
 },
 "nbformat": 4,
 "nbformat_minor": 2
}
