{
 "cells": [
  {
   "cell_type": "code",
   "execution_count": 1,
   "metadata": {},
   "outputs": [
    {
     "name": "stderr",
     "output_type": "stream",
     "text": [
      "\u001b[32m\u001b[1m  Activating\u001b[22m\u001b[39m project at `~/Documents/Lehre/Uni Osnabrück/Math Methoden der Datenanalyse 2022/MathData-SoSe22/Notebooks/NB05`\n"
     ]
    }
   ],
   "source": [
    "using Pkg\n",
    "Pkg.activate(\"NB05\")"
   ]
  },
  {
   "cell_type": "code",
   "execution_count": 2,
   "metadata": {},
   "outputs": [],
   "source": [
    "using MLDatasets\n",
    "using Plots, LinearAlgebra, Statistics\n",
    "using Images, ImageCore\n",
    "using JuMP, NLopt, Flux "
   ]
  },
  {
   "cell_type": "markdown",
   "metadata": {},
   "source": [
    "*Warning:* For this notebook I had to pin `CSV.jl` to version 0.8.5, because otherwise `MLDatasets` would not compile. This restricts `MLDatasets` to version 0.5. The latest version has a different syntax than the one used here."
   ]
  },
  {
   "cell_type": "markdown",
   "metadata": {},
   "source": [
    "# Classification\n",
    "\n",
    "We consider the [FashionMNIST](https://github.com/zalandoresearch/fashion-mnist) dataset from [Zalando Research](https://github.com/zalandoresearch).\n",
    "\n",
    "It contains images of Fashion items from 9 categories.\n",
    "\n",
    "In Julia this dataset can be loaded through the [MLDatasets](https://github.com/JuliaML/MLDatasets.jl) package."
   ]
  },
  {
   "cell_type": "code",
   "execution_count": 3,
   "metadata": {},
   "outputs": [],
   "source": [
    "X_all, Y_all = FashionMNIST.traindata();"
   ]
  },
  {
   "cell_type": "markdown",
   "metadata": {},
   "source": [
    "Now, `X_all` contains the input data and `Y_all` the output data of the training data in the `FashionMNIST` dataset.\n",
    "\n",
    "The entries of `Y_all` correspond to the following categories:"
   ]
  },
  {
   "cell_type": "code",
   "execution_count": 4,
   "metadata": {},
   "outputs": [],
   "source": [
    "labels = [\"T-shirt/top\", \n",
    "            \"Trouser\", \n",
    "            \"Pullover\", \n",
    "            \"Dress\", \n",
    "            \"Coat\", \n",
    "            \"Sandal\", \n",
    "            \"Shirt\", \n",
    "            \"Sneaker\", \n",
    "            \"Bag\", \n",
    "            \"Ankle boot\"];"
   ]
  },
  {
   "cell_type": "markdown",
   "metadata": {},
   "source": [
    "Since `Julia` indexing starts at `1` and `Y_all` contains values between `0` and `9`, it will be convenient to add 1 to all values `Y_all`.  "
   ]
  },
  {
   "cell_type": "code",
   "execution_count": 5,
   "metadata": {},
   "outputs": [],
   "source": [
    "Y_all = Y_all .+ 1;"
   ]
  },
  {
   "cell_type": "markdown",
   "metadata": {},
   "source": [
    "Let us take a look at 6 randomly chosen images along with their labels."
   ]
  },
  {
   "cell_type": "code",
   "execution_count": 6,
   "metadata": {
    "scrolled": true
   },
   "outputs": [
    {
     "name": "stdout",
     "output_type": "stream",
     "text": [
      "[\"Pullover\", \"T-shirt/top\", \"Coat\", \"Sandal\", \"Sandal\", \"Sandal\"]\n"
     ]
    },
    {
     "data": {
      "text/html": [
       "<table><tbody><tr><td style='text-align:center;vertical-align:middle; margin: 0.5em;border:1px #90999f solid;border-collapse:collapse'><img style='max-width: 100px; max-height:100px;display:inline' src=\"data:image/png;base64,iVBORw0KGgoAAAANSUhEUgAAAHAAAABwCAAAAADji6uXAAAABGdBTUEAALGPC/xhBQAAAAFzUkdCAK7OHOkAAAAgY0hSTQAAeiYAAICEAAD6AAAAgOgAAHUwAADqYAAAOpgAABdwnLpRPAAAA2hJREFUaAW9wT2rnGkdB+CLZ35nJpNhCNls9KCRKFv4WkgQrBasxHY/gVgJCtaW+yH8CuInsLW0sAgI7kZYwoIvIRw3HsIwOZmZ59xY3EWQvU92q/91xVtMaPgqfooNHur2uIMf4Dl+oZvQ3CyKRbEoFm/RdD/DB3iJE76D+9jgH3iKe3jhi0WxKBbF4kt4F8EJR/wJK/wNz/AjzLqGCc1YFItiUSy+wG08whbPcYEJFzjH93ALf8Sv8Vc0N4tiUSyKxVt8iHMc8Wfcxw/xGBs8wAus8Hf8EjN+i1fGolgUi2Jxg5/jHTzDhDVe4Sm+j5e4xDV22KFhiw/we2NRLIpFsbjBT/BvNN1nWOGAT7HGhCM+wXu4h//igZtFsSgWxWLgPoIFJsy6plugYYUX+BB/QMMd3XfxxOdFsSgWxWLgfXymm3DCCifdhAkNV1jjCns8xAlfwROfF8WiWBSLgR/jP9giuiX2ugmz7i5+g29jgxMu8DVjUSyKRbEYuMCk+zqeYYugYULDjAUe4ah7iB3uGotiUSyKxcBznGOLu3iNhsn/a7jWHXAXD/AJdsaiWBSLYjGwwhW+iXd0wQozTmi4xowjZt27OGBtLIpFsSgWA1fY4hKXuI3XmLwx4RrRLfEcH2ODl8aiWBSLYnGDLZ5hiW/gJSZvNCxwwIwNLrDBBpfGolgUi2Jxgw32OGCDYI0dGpY4YsJRN+GINZbGolgUi2Ix0DAhWOMMDRMmTJh0Z1hhjQVOumYsikWxKBYD1wh22GCJPTa6CQtMOGDGVtdwQjMWxaJYFIuBBVZouglLXOvOdNEdscYSM7Y4GYtiUSyKxUAwYYkNVlhjgaDhgBU2OCG6hgVWxqJYFItiMdDQMGPtjWs0BBOOuMICl/gW7uFfmIxFsSgWxWIguoYJe8xYYcJRFwQzTtjjiCVmY1EsikWxGFhh0k24gwsES+zQ0NAQnOECO6wRY1EsikWxGGjY4Db2mHDEHmeIriE4oWGDWzhiNhbFolgUi4FrBK9xB+/hFYIDFjihYcIGS7zAHgvEWBSLYlEsBmZsscM5HuExtjjqGk66GWscdVucGYtiUSyKxcAVVjjHr/A+/oItTljjiBPOcMCMx/gdbmFvLIpFsSgWA0/wMZ7iI3zky/sUwT+NRbEoFsX+B3zc0ZQoLB7nAAAAAElFTkSuQmCC\"></td><td style='text-align:center;vertical-align:middle; margin: 0.5em;border:1px #90999f solid;border-collapse:collapse'><img style='max-width: 100px; max-height:100px;display:inline' src=\"data:image/png;base64,iVBORw0KGgoAAAANSUhEUgAAAHAAAABwCAAAAADji6uXAAAABGdBTUEAALGPC/xhBQAAAAFzUkdCAK7OHOkAAAAgY0hSTQAAeiYAAICEAAD6AAAAgOgAAHUwAADqYAAAOpgAABdwnLpRPAAAA6xJREFUaAW9wTGLI+cZAOCH/V4NElq0aFk4zjgkHBgMxsHpHQ4WF25sDAGXDvhX5CekTBVSpEp/jWs3JpA6OJCYHD4SblkjI7yskBgxYgYXX7HsavbK93nCI04w4Bn+gBf4Dgu8wjNc4Ex1ia/wNU4wGBeShWQhWXjEoHqFP+FzXOJX+B4FOyywwl/wb9XgcSFZSBaShQdOMKhOMOAK/0eLNW7QoMO3eIKDaoKDx4VkIVlIFh5xgkF1iR5XOGCCDQo6rPAhXuLgzUKykCwkCw8MqkH1Pt7BSzzFASeYY8AUg+ojfO3NQrKQLCQLI04w4Bk+xcqdKXoU1Q4F13gPV/jO40KykCwkCyMG1Re4wgqNqkdBQVENKLjGJ/gvBuNCspAsJAuP+AANWszRo6BH786AKTocsMNv8Y1xIVlIFpKFR/weL9Fhhh49TlU9Cgo6DJhghef4D350LCQLyUKyMOK5qkWDHSYoqgYFHQpO0aFDr/oSf3QsJAvJQrIw4gvVAgcUdCgomGBAi4KCGRo0WOESb+PKfSFZSBaShREzLLFGjx57tGhUPaZYosdB1aPB+/gYf3VfSBaShWRhxK8xxRZ7bFGwRoOCLS7QoOAGPeY4xQz/cCwkC8lCsjDiW/wO1zjF2p1ONUOPBlMssUPBEg1+dCwkC8lCsjBijgZnuMUEG7yF/6FBoyrYY4Y5Cgo69I6FZCFZSBZGFPQoqj0KOlVBhzNMsESLghZz7HDrWEgWkoVk4Q1azFCwww2e4Ae0mGGNp9hjjqJ6isGxkCwkC8nCiNdoVS1uVFOs8BQ7bHGBnWqnWuJgXEgWkoVkYcS/sHPnFCtMcYY1nqBHiwX22OIcDVbGhWQhWUgWRvSYqA7o8Uu8QoszbNDiDBtVUe3wC+NCspAsJAsjnuOALW4xwwpTzLFHQaOaYYszbDHHGh/gn+4LyUKykCyMeAevsUePKW5QcIoNGjToVAUtOmxwgZ1jIVlIFpKFES1m6HCGA+bo0aLgFhdY4xy3aDHDT/gQa8dCspAsJAsjzvEaO3Q4YI5TrLDAHHucYosGPdZosMElXrgvJAvJQrLwwATv4ntMUDCobtFjgwV+wjkKCs5RsMI1Fo6FZCFZSBYeKPg7brDBhWqvatDjBjNs0eAaDTqscYONYyFZSBaShQc+xznW+A22mKHFBi1m2KJgjwVmmKiWeIbP8MJ9IVlIFpKFB1b4M17jAhdYonGnxwIFO9xigxY77PA3LB0LyUKykOxnaW72I9R+TckAAAAASUVORK5C\"></td><td style='text-align:center;vertical-align:middle; margin: 0.5em;border:1px #90999f solid;border-collapse:collapse'><img style='max-width: 100px; max-height:100px;display:inline' src=\"data:image/png;base64,iVBORw0KGgoAAAANSUhEUgAAAHAAAABwCAAAAADji6uXAAAABGdBTUEAALGPC/xhBQAAAAFzUkdCAK7OHOkAAAAgY0hSTQAAeiYAAICEAAD6AAAAgOgAAHUwAADqYAAAOpgAABdwnLpRPAAAA7dJREFUaAW9wT2PXHcZB9Bz7/xmZ3dt79iBKJhArEhGqXgrAqShgRaJhgKJgoYOCYkvgESRKkWIREUDadJT8DGQqKJ0SCQESBQnsfdldmbun+IWozs7K0TznBP/Q7Cx8yv8Ek+wxBN8z6g3GtwuikWxKBa36NGwsfMq3sQVHmONl/AL/AGDnTk2aKaiWBSLYrGnQ4fB6Mv4NX6MOT7AAms0fILf4HX8Hm/iU6wdFsWiWBSLPT22Rn/Ea5jhCk8Q3MWLuMQznGOBn+En+Ctex7sINnaiWBSLYrFna/QGfoh/GAUNzxC8hW/hAQZc4QoNr+FtvIqNqSgWxaJY3OL7+BALDNhghiPM8BLuG/UItujxbzzET/GOqSgWxaJYHPAY9/AUDQM6OxssjWZYo6HDCscIfoB3TEWxKBbF4oDvIujQY42ZnYbeaECwQcMJToy+6qYoFsWiWBzwHTQc4QgrNHRu6jGgwwwzBA2vuCmKRbEoFgc8RkOPM3zuph6d0YA5tvgSnmGFpZuiWBSLYnHAixiwxhIfYo5r9EbH6NGMZthgjg4d7rkpikWxKBYHPMBTo7VRZ9TZ6dBhQMOAK6PO6BW8ZyeKRbEoFgcs8RQzNGyxRY+GDj16dOiNGq6wwCWu8Qjv2YliUSyKxQEnGIwaGppRh4YenVGHHs3oPj7DHA9MRbEoFsViz33M0LDFgAE9tkYNnZ3BKAhWuEaPL5iKYlEsisWe57HFAivMsDbVmerRY4M15lhhjaWpKBbFoljsWWKNI1zgCGs0dGh2OjR0GNBwhuAIW3SmolgUi2Kx5xHWGPAcPscCDT0GdNhgQIeGDg0DrtAwR28qikWxKBZ77mKNDe7jP0ZzbEx16NEwR/AUL+CL+AzPm4piUSyKxZ4zbI1OsUFDb9TQjBoG9LjGDJeYYYELnJmKYlEsisWeO9hgQEPDEVZoaFjgHKc4QUPDHB/hZQw4x11TUSyKRbHYE6MtGo5xYRQEQTDDgA2CU/wdV1jifdwxFcWiWBSLW/Q4xQWOMKDDNYI7mOHa6GN8De/iEb6JFRamolgUi2JxQENwgbfwW3yMGQacY4NLzDDHElv8DV/Ht3GElakoFsWiWOw5xhMs8BHm+ArO0HCOSwy4i2CJYIlvoMOn6HFiKopFsSgWez7BHazR4y/4OV5AjwVO8S88RBCscA+/w9sYcIwjU1EsikWxOOBlrDHgffzJ/+chnkNwbCqKRbEoFnv+jEdY49JOj8HtejQ0vIEf4Z/4wFQUi2JR7L8DwuaSpa20agAAAABJRU5ErkJg\"></td><td style='text-align:center;vertical-align:middle; margin: 0.5em;border:1px #90999f solid;border-collapse:collapse'><img style='max-width: 100px; max-height:100px;display:inline' src=\"data:image/png;base64,iVBORw0KGgoAAAANSUhEUgAAAHAAAABwCAAAAADji6uXAAAABGdBTUEAALGPC/xhBQAAAAFzUkdCAK7OHOkAAAAgY0hSTQAAeiYAAICEAAD6AAAAgOgAAHUwAADqYAAAOpgAABdwnLpRPAAAAzlJREFUaAW9wU2I1GUcAODnP/tbd+nDMHXVNpVqscQNDEm9eBArqCQDD3WQ6NQh6JCnDnaKLtItCKK6dfDUIQJBFAsiKKEvISmyEtt2Cz9ScnKcnXk7vMK0ae0G8nuekCwkC8lCspAsJAvJQrKQLCQLyUKykCwkC8lCsnADNCjmGsbj+Ajn0aAgJAvJQrJwgzQoqlvxMFZhEw4bCMlCspAs/E8NirmKgXE8iFGcwXFVCz2EZCFZSBZuoHFsQB8dHERb1VOFZCFZSBbm0aiKqoU+irnWYAlmsBRHVQ2KgZAsJAvJwjwKGgM91xrDWnRVR1WNa4VkIVlIFhagqJZhI9o4jdOqe7FE9b6BYmAI6xGShWQhWViABgUPYQTfYxsO4lFsxxEccK0V2ID70EdIFpKFZGEBCm7DFuzHOozgSZzHGUybaxLrMY7L+B1thGQhWUgW5tGoOuhiBB300UMbh7Aaz+EY7sIEzmEGlzCMFkKykCwkC/MoaHAZr+MBrMNZLMUo2hjDWSzHIziOMxjBIlUbIVlIFpKFBSiq0ziHQ7iMe7ACk/gFX2EvDmMWI6phdDGMkCwkC8nCf1iGD/ElPsABXDJwEicxhC3YiVdxAnswiyto0EIPIVlIFpKFfzGJH7EXL+Il7MIr+MbA05jAbmxGFw1aqgYFQ5hFSBaShWThqgYF4xjDb1iMQziG17AVb2M3pvEERrADj6GLIfTQRwsFjaogJAvJQrLwDzdhNTqYwmZcwD68jI14Cj8gsAPvYBrD6Kr+xM3mmkVIFpKFZOGqorqIw5jEsziCtao3sRMF09iOLt5V9Q0UVYOCgi5CspAsJAtXjaKD23EHfsKn2IVTWI9V+BwdrMEzmDTQM9BgEa6gi1H0EJKFZCFZbEbgO9yCRbgTF7APO/AtTuFXDGMGz+MFVYOCBkV1Hm3MoIUxnEVIFpKFZDGFbdiKPzCGNpbhZ2zCSpzACdyNPdiPz8xVDGzE/bioGsN7CMlCspAspnBA1WAllmMCHbyFNhajg4/xBi64viH08AWmcBF9BD5BSBaShWThbwqmMY2vLVwx0FMddX0hWUgWkoVkIVlIFpKFZCFZSBaS/QUaXbxbMY1rpgAAAABJRU5ErkJg\"></td><td style='text-align:center;vertical-align:middle; margin: 0.5em;border:1px #90999f solid;border-collapse:collapse'><img style='max-width: 100px; max-height:100px;display:inline' src=\"data:image/png;base64,iVBORw0KGgoAAAANSUhEUgAAAHAAAABwCAAAAADji6uXAAAABGdBTUEAALGPC/xhBQAAAAFzUkdCAK7OHOkAAAAgY0hSTQAAeiYAAICEAAD6AAAAgOgAAHUwAADqYAAAOpgAABdwnLpRPAAAAulJREFUaAW9wUuI1QUYB9Bzrz+9TtiUjU4EaVpjQgNlmUFY6UYjbBGIC2nTooIiKAIlKPeREO5ctOglCBbRwnJnGFibhCRaJIw9TBvz0YCDcseZe1v8g2FK0tV3ThSLYlEsikWxKBbFolgUi2JRLIpFsSgWxaJYFItiUSyKRbEoFsWiWBSLYlEsisV1tDT6aKOn8QI24ln/r4M+ptFDFItiUSyuo6/RQk9jBxZhEHvxkkYLfbTRxjS65opiUSyKxQ2ajylswWP4HsewCfuxHX2NHnoaO7AWL+MiolgUi2Jxg2Y0vsBuXMEEjuNxfIxd+AXrsQttLMM0duINRLEoFsXiGtpoo4cWZjCDFvoYxTQ+xEqcx0YcwxQWoIs/cQoXsAojiGJRLIrFNfTQM1dbo40ZvI/NmMQ8/Iw2FuAsOliJJeigh98QxaJYFMs8dNDFjMbTGMAQPsEF9My1HAsxjlG0cARLsBAj6GEYD2ITphDFolgUywwum3Uz3sIP6GMrDuA9jfXYjeU4iD66WIeHcRYbcA6TCFpmRbEoFsXyCF7BIezHIZzCKqzARTyHd9HFOCbxI+5DF2MYxk04gTaCxVijcQ/GEMWiWBRLMIideBU9fIq7cD9Oo4MTGMIiDGAYKzCAcRzHYqxBG0swgq5ZWxDFolgUy1M4gEEsRwfP4AmcwQQ6mIdR3IGTOIkDGMMUhnAnFqOFAZzHAvyEMdyOKBbFoli+xAc4gq8xhWGsxWoM4Ry+wzv4C5cwgXvxALbhCvbhMm7FrziKSbSxGQ8hikWxKJZvsRqv4UVcxWnsxYTGAAaxAbfhD6zCZQziNNbhdXyGaQzjFizFKJbiTUSxKBbF4h97sAcD2IozeB7LcBSDeBSf4xK+wkdmzcdBdHA3DmMb3kbwDX5HFItiUSz+5Qr2aRx2467iSXPt9l9RLIpFsSgWxaJYFItiUSyKRbEoFsWiWBSLYlEsikWxKBbFolgUi2JRLIpFsb8BkiqaHY1ZaA0AAAAASUVORK5C\"></td><td style='text-align:center;vertical-align:middle; margin: 0.5em;border:1px #90999f solid;border-collapse:collapse'><img style='max-width: 100px; max-height:100px;display:inline' src=\"data:image/png;base64,iVBORw0KGgoAAAANSUhEUgAAAHAAAABwCAAAAADji6uXAAAABGdBTUEAALGPC/xhBQAAAAFzUkdCAK7OHOkAAAAgY0hSTQAAeiYAAICEAAD6AAAAgOgAAHUwAADqYAAAOpgAABdwnLpRPAAAAw1JREFUaAW9wUuL1gUcBtDzjo/OOF4YU3C8YUgXyNI0REsjygKLLIKINoFFtQnaGH2ANtImKrsgBSYYtigqI7OFCBGiIVRex4rEIk2cTFHRyZl5G/gvBsGiNr9zolgUi2JRLIpFsSgWxaJYFItiUSyKRbEoFsWiWBSLYlEsikWxKBbFolgUi2JRLP6DDnRgUOMO3Ib1GrPxGGbgK3yGMRhCS6OtEcWiWBSLf9BCG8EghtGJe/ES5uFP7MbD2I3J2K8xpNFCC8NoI4pFsSgWV9Gh0cIgOvACOrEBr6AXk/AAvsFeDLhSC8OuFMWiWBSLqxg2ajlW4FP04V1Mw3h8giNYjGV4HQNGtdGJxTiAc4hiUSyKZQw60IXzGjMxHTPQj/cxF504iw9xDLOxCtvQi/XYjD1YjYXoRTdexj5EsSgWxTKEIVw2ajrmYCHW4Vm8gefxHS5iKnqwGWuwEzvxEJ5EN37F7+jHXOxDFItiUSxGzMNibMdYrMSNWKFxCLNxHvfhfnThYxzGLqxCPy6hT6MbkzAHhzWiWBSLYlmKV9GBBfgSZ7ABL2I15uAUjuIyLuAsHsUS9GAcpuIaHNfowRfYi581olgUi2JZjZM4g1vQjz4swgJMQxtP4DVsxRTcjlOYggnYhS0YjzcxEUexDeeNimJRLIplKtroRRtrsAPfYj42oR9rsRbP4D30YRFmIvgRg7iIt/AIBnDJlaJYFItiOYQH8QNa6McydOMIWujCdjyO5/A57sY9GIshbEE3+rAf4zEWd+IXLMd0RLEoFsWyHsdwK1aiExOwBFNwF8bhD/TgJjyFDpxBMIifcBI3YCmGcQHrcBET8TWiWBSLYjFiK7biHczHLDyNFfgNkzEHf2EPlmEWNuJ6rML3+AgbsQPnsBD70YUxeBtRLIpFsRjRQhsncEJjk1EtXIvTOKcx7Oo+0OjEdTiIm3EcpxHFolgUixFt/66No/6fARzUOGBUFItiUSyKRbEoFsWiWBSLYlEsikWxKBbFolgUi2JRLIpFsSgWxaJYFItiUexva4yjFeA/xfwAAAAASUVORK5C\"></td></tr></tbody></table><div><small>(a vector displayed as a row to save space)</small></div>"
      ],
      "text/plain": [
       "6-element Vector{Base.ReinterpretArray{Gray{N0f8}, 2, N0f8, Matrix{N0f8}, true}}:\n",
       " [Gray{N0f8}(0.0) Gray{N0f8}(0.0) … Gray{N0f8}(0.0) Gray{N0f8}(0.0); Gray{N0f8}(0.0) Gray{N0f8}(0.0) … Gray{N0f8}(0.0) Gray{N0f8}(0.0); … ; Gray{N0f8}(0.0) Gray{N0f8}(0.0) … Gray{N0f8}(0.0) Gray{N0f8}(0.0); Gray{N0f8}(0.0) Gray{N0f8}(0.0) … Gray{N0f8}(0.0) Gray{N0f8}(0.0)]\n",
       " [Gray{N0f8}(0.0) Gray{N0f8}(0.0) … Gray{N0f8}(0.0) Gray{N0f8}(0.0); Gray{N0f8}(0.0) Gray{N0f8}(0.0) … Gray{N0f8}(0.0) Gray{N0f8}(0.0); … ; Gray{N0f8}(0.0) Gray{N0f8}(0.0) … Gray{N0f8}(0.0) Gray{N0f8}(0.0); Gray{N0f8}(0.0) Gray{N0f8}(0.0) … Gray{N0f8}(0.0) Gray{N0f8}(0.0)]\n",
       " [Gray{N0f8}(0.0) Gray{N0f8}(0.0) … Gray{N0f8}(0.0) Gray{N0f8}(0.0); Gray{N0f8}(0.0) Gray{N0f8}(0.0) … Gray{N0f8}(0.0) Gray{N0f8}(0.0); … ; Gray{N0f8}(0.0) Gray{N0f8}(0.0) … Gray{N0f8}(0.0) Gray{N0f8}(0.0); Gray{N0f8}(0.0) Gray{N0f8}(0.0) … Gray{N0f8}(0.0) Gray{N0f8}(0.0)]\n",
       " [Gray{N0f8}(0.0) Gray{N0f8}(0.0) … Gray{N0f8}(0.0) Gray{N0f8}(0.0); Gray{N0f8}(0.0) Gray{N0f8}(0.0) … Gray{N0f8}(0.0) Gray{N0f8}(0.0); … ; Gray{N0f8}(0.0) Gray{N0f8}(0.0) … Gray{N0f8}(0.0) Gray{N0f8}(0.0); Gray{N0f8}(0.0) Gray{N0f8}(0.0) … Gray{N0f8}(0.0) Gray{N0f8}(0.0)]\n",
       " [Gray{N0f8}(0.0) Gray{N0f8}(0.0) … Gray{N0f8}(0.0) Gray{N0f8}(0.0); Gray{N0f8}(0.0) Gray{N0f8}(0.0) … Gray{N0f8}(0.0) Gray{N0f8}(0.0); … ; Gray{N0f8}(0.0) Gray{N0f8}(0.0) … Gray{N0f8}(0.0) Gray{N0f8}(0.0); Gray{N0f8}(0.0) Gray{N0f8}(0.0) … Gray{N0f8}(0.0) Gray{N0f8}(0.0)]\n",
       " [Gray{N0f8}(0.0) Gray{N0f8}(0.0) … Gray{N0f8}(0.0) Gray{N0f8}(0.0); Gray{N0f8}(0.0) Gray{N0f8}(0.0) … Gray{N0f8}(0.0) Gray{N0f8}(0.0); … ; Gray{N0f8}(0.0) Gray{N0f8}(0.0) … Gray{N0f8}(0.0) Gray{N0f8}(0.0); Gray{N0f8}(0.0) Gray{N0f8}(0.0) … Gray{N0f8}(0.0) Gray{N0f8}(0.0)]"
      ]
     },
     "execution_count": 6,
     "metadata": {},
     "output_type": "execute_result"
    }
   ],
   "source": [
    "k = rand(1:60000, 6)\n",
    "println([\"$(labels[Y_all[i]])\" for i in k])\n",
    "[FashionMNIST.convert2image(X_all[:,:,i]) for i in k]"
   ]
  },
  {
   "cell_type": "markdown",
   "metadata": {},
   "source": [
    "## Choosing two categories\n",
    "\n",
    "To illustrate how the classification methods from the lecture work we consider only two items, namely Coats and Sandals. The goal is to learn an algorithm that can distinguish pictures from these two categories.\n",
    "\n",
    "First, we compute the locations of Coats and Sandals in the data."
   ]
  },
  {
   "cell_type": "code",
   "execution_count": 7,
   "metadata": {},
   "outputs": [
    {
     "data": {
      "text/plain": [
       "12000"
      ]
     },
     "execution_count": 7,
     "metadata": {},
     "output_type": "execute_result"
    }
   ],
   "source": [
    "l₁ = findfirst(labels .== \"Coat\")\n",
    "l₂ = findfirst(labels .== \"Sandal\")\n",
    "l = findall(y -> y == l₁ || y == l₂, Y_all);\n",
    "length(l)"
   ]
  },
  {
   "cell_type": "markdown",
   "metadata": {},
   "source": [
    "I.e., there are 12000 items in the data, which are either Coats or Sandals.\n",
    "\n",
    "For training let us consider a subsample of size $n=50$. \n",
    "\n",
    "Since the goal of this notebook is to illustrate how classification works, we will not stick to the algorithm for approaching machine learning problems. We will simply take the first $n$ items in the data set (instead of choosing them randomly). We also take another $n$ items for testing. "
   ]
  },
  {
   "cell_type": "code",
   "execution_count": 8,
   "metadata": {},
   "outputs": [
    {
     "data": {
      "text/plain": [
       "50"
      ]
     },
     "execution_count": 8,
     "metadata": {},
     "output_type": "execute_result"
    }
   ],
   "source": [
    "n = 50"
   ]
  },
  {
   "cell_type": "markdown",
   "metadata": {},
   "source": [
    "Now, we split the data into the training and test data"
   ]
  },
  {
   "cell_type": "code",
   "execution_count": 9,
   "metadata": {},
   "outputs": [],
   "source": [
    "train_indices = l[1:n];\n",
    "test_indices = l[n+1:2*n];\n",
    "\n",
    "X_test = X_all[:, :, test_indices]\n",
    "Y_test = Y_all[test_indices];\n",
    "\n",
    "X = X_all[:, :, train_indices]\n",
    "Y = Y_all[train_indices];"
   ]
  },
  {
   "cell_type": "markdown",
   "metadata": {},
   "source": [
    "Let us look at a subsample of the training data:"
   ]
  },
  {
   "cell_type": "code",
   "execution_count": 15,
   "metadata": {},
   "outputs": [
    {
     "name": "stdout",
     "output_type": "stream",
     "text": [
      "[\"Coat\", \"Sandal\", \"Sandal\", \"Sandal\", \"Coat\", \"Sandal\", \"Coat\", \"Coat\"]\n"
     ]
    },
    {
     "data": {
      "text/html": [
       "<table><tbody><tr><td style='text-align:center;vertical-align:middle; margin: 0.5em;border:1px #90999f solid;border-collapse:collapse'><img style='max-width: 100px; max-height:100px;display:inline' src=\"data:image/png;base64,iVBORw0KGgoAAAANSUhEUgAAAHAAAABwCAAAAADji6uXAAAABGdBTUEAALGPC/xhBQAAAAFzUkdCAK7OHOkAAAAgY0hSTQAAeiYAAICEAAD6AAAAgOgAAHUwAADqYAAAOpgAABdwnLpRPAAAA45JREFUaAW9wUuIVQUYAODv3vPf0ZkJkVIZSDB7kq8iEBdBUNCmlQuNNkGrFgWF0NKdEUGR1CqQiIqCFrVolYRQ2NOxF9X0UrHSGqfxMTOO15n7anEWw3DPdVr93xeShWQhWUgWVlBDz5IevkOBUdyMmiV1dA0WkoVkIVlYQU9pM7ZjHDsxhbV4HgdwGJ+i69pCspAsJAsr2I8HcD8+wl4cwSg+xFv4HvsxgZfwmsFCspAsJAsVCnTwHu7DNH7AFhzCYTyB03gWFzCNERzEI3hQtZAsJAvJQoWa0tu4HU0MYwZbsQUv4klcxgwamEUHEwYLyUKykCxUaCu9j+fQQwt1TCPwOM5hDqvQRgPr8LTBQrKQLCQLAxTo4DAexQkMo4YGPsC9CHTRxQZ8pjSMpn4hWUgWkoUBAh38hGF00EUNXRRoo40htDGCCaURNPULyUKykCwMEFhAGwUWMYQ6rmIX2mihwCICPaWGaiFZSBaShQHqSqvQxjC6qKHAH9ik1MJqNFFgDIVqIVlIFpKFARZxO37EOMZwAQUKfIuNaKCLUZzC17gb36gWkoVkIVkYYAHbcBpT2IYLqGMRu1FHE12M4E9cxJ04qlpIFpKFZOEa1uM6zOFnrEEHBc5jPTqoYRhT2IQxzKsWkoVkIVmoUEMPM9iBYziOAziBBj7GY/gbd+ANfIGtmDNYSBaShWThGqbxL47hZVxWquEhzKGGOjbiXTyFFlahha7lQrKQLCQLFQq0sQYXMIHbcA6BOgIdrMYsdirNYww1FOhaLiQLyUKycA0bMIsdGEELQ7iCT7AHTbQwjAIz2IS6UstyIVlIFpKFAQrM4ziewVW00MAQ7lLqYhZr8SoO4RaMYl6/kCwkC8lChYbS7+hhJ2awDvMIbEITq1HHAnbjICZRxxCuWC4kC8lCslChiwVsxl8Yx2Y0cSvO4iR2YRb/KI3jNPZgQbWQLCQLyUKFLlajjgVM4jguYj+uRwejOIk3sR03YghNDOGKfiFZSBaShQot3IBFXMIvWIubMIkGLmMKTdyDNo7gEmYxinn9QrKQLCQLA1zBebTxjiUvWNk8htDWLyQLyUKyMMAsTllSoGOwQFvpDH5DT7+QLCQLyUKFfXgYX2KfUke1GnpoW7IXr+B1HLRcSBaShWShwlFsxhkr6+l3Fl/hc/1CspAsJAsVJvErxpVq6Pn/jmIR5/ULyUKykOw/8sLfDTN6aVkAAAAASUVORK5C\"></td><td style='text-align:center;vertical-align:middle; margin: 0.5em;border:1px #90999f solid;border-collapse:collapse'><img style='max-width: 100px; max-height:100px;display:inline' src=\"data:image/png;base64,iVBORw0KGgoAAAANSUhEUgAAAHAAAABwCAAAAADji6uXAAAABGdBTUEAALGPC/xhBQAAAAFzUkdCAK7OHOkAAAAgY0hSTQAAeiYAAICEAAD6AAAAgOgAAHUwAADqYAAAOpgAABdwnLpRPAAAA3xJREFUaAW9wUuIVQUYAODv3Pvn+LrOqFiaGUVGUGaT4Co3bXoQREiLCleB0EMKDCHClZuMohau2pS0kEAko6AMol2RQUFBCRLhFOQixtedh+M957Q4A8dhDGwc/u8Li2g7HsS92IB/8A7+0ArJQrKQLCyCl7AefUziBNbgNZzEOq2QLCQLycIiuA99TOM0TmhsxS7cjdMaIVlIFpKFRfAyhvAkduIAvsYV/I7HcVojJAvJQrJwAwrUGpdxFEexGl/hF3yJEa2QLCQLycICFKhRa2zCTuzA/RjCfoxhDKu1QrKQLCQLC1CjgwodvIhxfIAvtHbjJ/S1QrKQLCQLC1Cg1qhwEg/jEbyNFfgIP6CPvlZIFpKFZGEBanMdx3GtHl7FDnyOArVGSBaShWThBhXooNRYixfQwxGNArVGSBaShWThBtUo8QxewRA+xVsYRweVVkgWkoVkYREcwFbswY9aBWpzhWQhWUgWFqBAgQqrMI6ntLooUZsvJAvJQrJwnQrU5qvwp7lKjGIUh9FBpRGShWQhWbhONQrUWh30MYkncB4bMIxR/KrRQaURkoVkIVn4H2oUGpXWZezBNCoUqLBMo9IKyUKykCxcQ6FRa3RRYIBaYyUKPI07MIYeprEKZ3BCo9YKyUKykCxcQ61VoDTXfuzDXpzCh3hPYxsO4YhWrRWShWQhWfgPBQpUuBU1NuFZbMYhbMdz6OIiRnAYRzQCNUqtkCwkC8nCrAK1Vo0ao/gen+B1vIv9uIQLOIPl6KHE+1oD84VkIVlIFq7SRYlHMYqb0cXzWIZj+A7j6GEYqzGJ9fgMt2M7+ihxCn9phWQhWUgWZtUoUeAB/I29eAMdjWMYxQBLMY1JTGISu7AbXZzDOryJj7VCspAsJAuzHsI2TKBCjd24E8NYgyn8jNswgsAmjGADAmcxgyEEvjVXSBaShWRh1ko8hgncghlM4hJ6KBFYhbUYwU2oUOEsKpSoUKHEWXOFZCFZSBZmnUKFAhV62IgV6GosQYVLmNCaQQehUaHCFGbMFZKFZCFZmDWGzbiAAS7jIgZYiikMsBwD1CgxjQIddFHgCnq4Yr6QLCQLycKsGluwD7uwHktQI1CigwKFRgehUaDAAL+hi2/MF5KFZCFZuEqJgziIe7AFd2EjupjAFC5iChOYRh9T6GMafZzHOfOFZCFZSPYv6o/WyYFl6FUAAAAASUVORK5C\"></td><td style='text-align:center;vertical-align:middle; margin: 0.5em;border:1px #90999f solid;border-collapse:collapse'><img style='max-width: 100px; max-height:100px;display:inline' src=\"data:image/png;base64,iVBORw0KGgoAAAANSUhEUgAAAHAAAABwCAAAAADji6uXAAAABGdBTUEAALGPC/xhBQAAAAFzUkdCAK7OHOkAAAAgY0hSTQAAeiYAAICEAAD6AAAAgOgAAHUwAADqYAAAOpgAABdwnLpRPAAAAx9JREFUaAW9wU2LlWUYAODrnXOnZSLlV9hoDtmXkSIxEAwIQ5S5cBMRrSpoUytJXdSmMIIIgqBFUEFQUNIPCEOISEFrk4W1CHURCBKSRmrzcfI9T4tn8XJGnaZB7usKyUKykCwkC8lCspAsJAv/U4MRDFBUjaoYNoFjuB8nURCShWQhWVikolMMm8QW3Iu30GAHZhGShWQhWViABkVV0Oo8h++xHbtxFltxCsfxMn7SCclCspAsLNJmBCYxjpX4FIdxHOMYRx/34LQqJAvJQrKwAEVnGSbwO/7Cx9iDs3gXa1HwKx7G45jBaVVIFpKFZGEBehigYDlm8RAm8SJ24pDqnGotLmAUL+AofkFIFpKFZGEBBiiqaTR4FJ/hJde2CivwA/pYilUIyUKykCwsQNG5hCM4oroFMyiqBgXr8Ccu4iusw0aEZCFZSBYWoYcBRlQjaA1bg8toMILluIKQLCQLycIitKoW0+ipGhTVrXgeX+IALmMaIVlIFpKFeTQo/luLnqpV/YEfMY4PsQnHEJKFZCFZmEexcK3ONpzAF9iFJ7AEZxCShWQhWbgBemhVr2AlPsCzOI+DGEMfIVlIFpKFG6DFGPYjcA5P4RRuwp3oq0KykCwkC3P00JpfDw2WYAqb8Q5OYgP2oai24W58pwrJQrKQLMzRqhpVcbUWPUxhFHvxDR7B04YV9DClCslCspAsXEdxbQ0KWtV+nMVWPONqA6xGXxWShWQhWZijQcFtuAPr8K1O0XkDV7AVT+qE6gp6WK0TkoVkIVmYo6gexAZcxDJMGTaKCdyM7YYVDFQFd+mEZCFZSBYNik6DgmPm9xHuwy5Xa9GoBnhAJyQLyUKyKIYVVYODGMXbOKDzOnbiPfxsfj3crhOShWQhWUyij0u4gL8xixnMYBP24mucww7sxmG86vqKagSzOiFZSBaSxRjGsAYr8A8uYIAz+Bwn8BgmsAVHsQ99LMWs65vGIZ2QLCQLyeITw1ZhPVZiPRpsxARW4CAO4Ixq1vymsQdvqkKykCwkC3Ocx3k3zm94XyckC8lCspDgNZ2QLCQLyf4FlyOujms2dOoAAAAASUVORK5C\"></td><td style='text-align:center;vertical-align:middle; margin: 0.5em;border:1px #90999f solid;border-collapse:collapse'><img style='max-width: 100px; max-height:100px;display:inline' src=\"data:image/png;base64,iVBORw0KGgoAAAANSUhEUgAAAHAAAABwCAAAAADji6uXAAAABGdBTUEAALGPC/xhBQAAAAFzUkdCAK7OHOkAAAAgY0hSTQAAeiYAAICEAAD6AAAAgOgAAHUwAADqYAAAOpgAABdwnLpRPAAAAyBJREFUaAW9wc9r1gUcB/DX8/jeTF1LcqaiKWQa1sF+eNOUkqIMgg4RRJ09dPFQHTqEdQqhv8BOBvYXFAUdgkyQTDq0xEyj4Q/8wZquTbc9z74F32BKB8XD5/WKYlEsikWxKBbFolgUi2JRLIpFsSgWxaJYFItiUSyKRbEoFsWiWBSLu9BB43ZdzLvdIJ7DTmzGYuzDWQuiWBSLYnGPGixCH7vxHh7GrNYQVuIL7MSMVhSLYlEs7kEHDYI+ZrEJ53ERHUxjCyYwiu24hCgWxaJY3EHHgg4aNFqzWt9jD5bgOl7F6/gA49iN3TiMKBbFoljcQaPVxbzWGlxEY8Eprb3Ygj24hjexHUe0olgUi2JxF7potJ7B2/gJn1vwFN7HKPZacBjv4hPsQBSLYlEs/tOxIOihg3k0aLASr2ACL2MzDuFJbMOnOO7/xjCGxxHFolgUi1t0tOa0Gq0Ga7APl/EgxrERB3AQH2EaHTRudwXDOIkoFsWiWNxiXmsL1mEtHsGHuIzN2IjfEPyBTXgDX2k1FgxgB/p4CKcQxaJYFEtHq4s+1uEATmMSb+BrHMVr2I+d6GMrhrEGX+IgdmE1NmIOS/AxftGKYlEsiqXR6mudw5+4H8P4FU/jqNZ+fINtuImbGMMe3MAR/IifMYklOIO+VhSLYlEsS/EWFmEU49iADZhDF+vxIp7VWowTOIFjmMB1jGMdVuF5bMBy7MMUOohiUSyKZRonsQqPYjmW4SquYTU24QKO4zIOYQQrMIInsBVTaDCMs+jiBnoWRLEoFsUyjB6+QzCJzzCALhajgxGsxkt4AMMYxDi6uIKrGMIYhrAMU1iBC1pRLIpFsazFC3gHU5jF31iFKfQxjBFcwjoM4BxmsBhddLAL1zGJOfTQwWO4oBXFolgUSw/HMINlWIohrMc0JtDgLwxiFGvRQxBcQw8/YBF6uIwhzOA+rQZRLIpFsZzGefyOYazGAL7FIAbQRw8zWlcwiznMo4dJNOihgwn00LhdFItiUSz+NY0zakSxKBbFolgUi2JRLIpFsSgWxaJYFItiUSyKRbEoFsX+ARS9uFUgoN4dAAAAAElFTkSuQmCC\"></td><td style='text-align:center;vertical-align:middle; margin: 0.5em;border:1px #90999f solid;border-collapse:collapse'><img style='max-width: 100px; max-height:100px;display:inline' src=\"data:image/png;base64,iVBORw0KGgoAAAANSUhEUgAAAHAAAABwCAAAAADji6uXAAAABGdBTUEAALGPC/xhBQAAAAFzUkdCAK7OHOkAAAAgY0hSTQAAeiYAAICEAAD6AAAAgOgAAHUwAADqYAAAOpgAABdwnLpRPAAAA7hJREFUaAW9wT2PVGUYANBz731mdpaFRRCFSEBEwWhiYqKFjYVGTeysTSz9ERZWFJr4A6hM/AM2xsZOE7WwsLHwgxhCCIKAIJ/L7My8r8UtNtyZTbB5zgmP6H28iScwwiau4wd85tGFZCFZSBZ20aLo3cQmbuMy9uIunsXbOIOJXoNqdyFZSBaShV0UvefQ4mc8hqu4gg5TXMAJfIKPUNGiWC0kC8lCsjDQoOo9gzO4jacwwjrG2IOLCNzAu7iFT1HQolgWkoVkIVkYqHqf4x1cx3U8iRkCl3ASezHBPdzDh3gN76GgRfGwkCwkC8nCCm/gdfyBDjPcwxQVm/gemziKBe7gb7yAj3EGxbKQLCQLycIKH2CGNb2KByiYIjDHAl/gGE5jHTfxgt2FZCFZSBZWGCGwH39irx2BQIeK5zHCYdzFHMfsLiQLyUKysMIhFBzGX9hGYIEGLRps4zimuIMX8QfWcQrnLAvJQrKQLKywT2+MI7iGGTq9BxihxRQzrGOCgj04inOWhWQhWUgWVngeVzHWa7GGESoKxnqBBgtUNHov4VvLQrKQLCQLAwexgTnW0GEDE9zGBC0qOjQYYYSKiopXrBaShWQhWRg4jg5Vb4QZ5pjrFTRo9Qr2YY5G75jVQrKQLCQLA4cxQ0GLiqrXoUWjVzHBNm7iCPagYma1kCwkC8nCwCGEHTNUtKioqHbMEbiPdTQo2LRaSBaShWRh4CCu6N3AFUzQ6DWoqHoFgTF+wkGMccBqIVlIFpKFgXWMUXEL13AaW2jRoEFBRYsF1vELNjFBZ7WQLCQLycLAAwRG+B3/YB9uIdCiQYOCgoIxLuNVtKgYYeZhIVlIFpKFgYoRKv5FRYsFOlS0dhQssIF/MMUmHuApXPCwkCwkC8nCwBwtOlxGoGKOERZ6LQoKCtZxE7/hBLZwABc8LCQLyUKyMLCNijVcwilso6CioGKMDjMUdKg4jzEK9lsWkoVkIVkYmKNgjIt4GVtoUNDqLfRabGML+/QavUOWhWQhWUgWBtb0OkzRYoYGBQ1aLFDRosEWGhSMMMVey0KykCwkCwMbmGMDR3AfjV6DVq+iokGDGQ5ggSm2MbEsJAvJQrIw0OA2nkaHe7iLgoVeg4qKqncVm/gVU1SsWRaShWQhWVjhLhr8iXewH1N0CL1qxxwjnMR3WKDD2LKQLCQLycLADMfR4Ty+weu4jw4tGiyw0KvYjx9xDhM8jkOWhWQhWUgWBr7GW2hxFWdx1v/zFVp8aVlIFpKFZP8BOOzrOs51RmMAAAAASUVORK5C\"></td><td style='text-align:center;vertical-align:middle; margin: 0.5em;border:1px #90999f solid;border-collapse:collapse'><img style='max-width: 100px; max-height:100px;display:inline' src=\"data:image/png;base64,iVBORw0KGgoAAAANSUhEUgAAAHAAAABwCAAAAADji6uXAAAABGdBTUEAALGPC/xhBQAAAAFzUkdCAK7OHOkAAAAgY0hSTQAAeiYAAICEAAD6AAAAgOgAAHUwAADqYAAAOpgAABdwnLpRPAAAAlBJREFUaAW9we+L3wMAB/DXd/e2G52GxTrHXWnM9sjJAz+KLp4osShLeyge7S/whDxd8nwSyopHxAPbg80jtVZKag7tSMmDdS7XuTrb95yrz4NrPMCT9+sVZVEWZVEWZVEWZVEWZVEWZVEWZVEWZVEWZVEWZVEWZVEWZVEWZVEWZVEWZVEWZVEWZVEWZVEW/8Mk/jCYwmFc8E8xCDbsGCHKoizK4j8YYRIbBm9gHx7EE/gZExhhjLHBGHfhHTyGLURZlEVZ/ItgjA3sx1mcxxqW8CTewqZrTWM3TmAeh7CIKIuyKIu/2YVd2IWrGBss4GWcwkd4GL/gKfyA3XgBq9iPWdyGVfyEo3gNURZlURbbRpjABK5gbMcM3sU0PsdLWMXjuA6/4RXcj0WsYgKz+BTLeBE3GkRZlEVZRtjCGGODGTyPA7jH4BjuwJ14DydwDms4h0XM432cwbIdR3DAIMqiLMqyZfAoDuIRLOAipvAxVvAsVvAlZvEAvsEneAiz2IujWHatKdxgEGVRFmWx7VXcjDdxGefxNeZwGWfxIVZwL17HCB/gCH7EEu7GF5iz4yD+xJpBlEVZlOUYnsZXWMA8jmMLE/gWh3A7nsNFrOOkwRVcxS24hH34DDfheqzge8zgGURZlEVZTuFXHMZ92IOT2IMpTOMCNnEGI1zCHJbwNiaxF5P4DrdiDb9jE+sYYR1RFmVRFttO47SOKIuyKIuyKIuyKIuyKIuyKIuyKIuyKIuyKIuyKIuyKIuyKIuyKIuyKIuyKIuyKIuyKIuyKPsLqF9qa+Fbi6gAAAAASUVORK5C\"></td><td style='text-align:center;vertical-align:middle; margin: 0.5em;border:1px #90999f solid;border-collapse:collapse'><img style='max-width: 100px; max-height:100px;display:inline' src=\"data:image/png;base64,iVBORw0KGgoAAAANSUhEUgAAAHAAAABwCAAAAADji6uXAAAABGdBTUEAALGPC/xhBQAAAAFzUkdCAK7OHOkAAAAgY0hSTQAAeiYAAICEAAD6AAAAgOgAAHUwAADqYAAAOpgAABdwnLpRPAAABFBJREFUaAW9wb1vnAcdAODn9f3uLv4422c7IcHnuFQFpUBDiYRaodBuSAwIiaVCCKqKseJfYKAzA2KpRCUkJAQDAwtCwJABCRr1g1Rq1KQOBFJwWid2fLbjj9i+l+EdfB8FMf2eJ3yMAqVR38MG3scOFvFJvIXbKgVK/11IFpKFZKFPDSV6CBypTOBVXMZ9XMcOLmAeh/gpXkOJQqU0KiQLyUKy0OcYhcoROvg1HuChyjSW0EMNbbyHr+NFPI+eSoHSoJAsJAvJwpBS5at4BQ9wgC0EGngaR9jHQ1zBc9jEb/Fz/BKlUSFZSBaShT4FSkzjh/gXDvEk/o7f47vYxzha+DEaOMIkNvAy3sSKUSFZSBaShT6lyivYRBfn8Rds4E94FudxjNdRYBFX8RjG0cUP8B2jQrKQLCQLQ87hEu5iA7fwN0yhjp/hR+jhz1hGGy1cwUUcoO3jhWQhWUgWhnTQxTaO0cILeIC7+CuuYAk9tLGCVXwNc3gPC3gGVw0KyUKykCwMuYtNnMFt9PA+XsA9HOBtlJjDGg7xDfTwBi5gC02jQrKQLCQLQ55AYBJncUflJ/gWvo9f4Z/YxRg+gQO8gy9hEdewaFRIFpKFZGFIGzU8xCZa2EWB2wi8hN/hIqbQxE3M4jm8jVN40qiQLCQLycKQ03iIedQxhY/QxA5u4BYu4So6uI0VXECJeaxgzqiQLCQLycKQL6KOHbSxj2NsYQ3nsIU/oI5b2MLnUUcTRyixYFRIFpKFZGHIUzjCR7iE17GAdfTQQ0NlFe/gm+iqbCNwDj2jQrKQLCQLQ7roYA0TmMM9tNHEJo7RwQw66GIeXbyLWQS6mMKOEyFZSBaShT7TWMd5dLCFJtYwgwVsoIE1BA5xHU+hwA08jxoeYRE3nQjJQrKQLPSZQQMPcB5v4d/oYB8H2MEMdrGEAxTYRIGb+DZWcAod3HQiJAvJQrLQZ0blDj6NCdzHs1jFPzCORygxhTE0cYg5FBhHE/cxY1BIFpKFZKHPDOoqY5jFOLo4xhns4B5aWMMszqKOaXwB65jGBxg3KCQLyUKy0KeFNvawiRt4HNt4hD3UsIwaJvEhmljCfbRQoEALdYNCspAsJAt9xlDDLOq4hqexji00MIl9tDCDbaxiHXX00MWXcQPjBoVkIVlIFvqMYRufwQeYxjzeRIkl7GASR+hhBntYxTKmcIwdnMGCQSFZSBaShT4tFGjgOiZwhLOooY0eairH2MIYeljGIT5EgdNoGBSShWQhWehzGj1s41108VnMqjQxhX10VQ6xjB5m8Rt0cIR9dA0KyUKykCz0eaTSxTN4Eb9QmUCBGhqYwCmUKLGFHeziNeziGg4MCslCspAs9NnDH3EZnzNo1//vMUyghoZBIVlIFpKFPpexh2kcODHmRIFCpVApUeJY5VPo4gm0DQrJQrKQLPR5FQe4iGknSpT+t8KJl/AV3MEbBoVkIVlI9h+L1g7YsnDY9QAAAABJRU5ErkJg\"></td><td style='text-align:center;vertical-align:middle; margin: 0.5em;border:1px #90999f solid;border-collapse:collapse'><img style='max-width: 100px; max-height:100px;display:inline' src=\"data:image/png;base64,iVBORw0KGgoAAAANSUhEUgAAAHAAAABwCAAAAADji6uXAAAABGdBTUEAALGPC/xhBQAAAAFzUkdCAK7OHOkAAAAgY0hSTQAAeiYAAICEAAD6AAAAgOgAAHUwAADqYAAAOpgAABdwnLpRPAAABAVJREFUaAW9wT+oXXcdAPDPOed77333vbSpbVoTIamJaE2GSm1rUbCCf2btIkiXDgWhq5OTgqsdHR117lYQ3EQcKlqUFMQUEyLP1qQhfXnJu3/O+Tn8hnPvy6MUh+/nE/4Pr+DzuI85fosP0aDY1qE3CslCspAsfAqBNV7FL1U38QEu44f4BgoaNBjQoLEtJAvJQrLwCRoUrFWPYxfXscAl7OGzOINbKChoVGvbQrKQLCQLn6ConsWPcBH/wCmcR4/rWOBPuIbf4U0UtCi2hWQhWUgWTtBiUP0aX0aH/+I/uIR9vI8ZHsO/cAqv4Qd4GQM69EYhWUgWkoUTdBjwE7yIa5hhhX/jALt4BHvo8ABL3MTz+Bl+7mEhWUgWkoVjGqxU38QddOjQ4wImGBDYwcdocR43cAcvqXrbQrKQLCQLx7To0aHHAi16rDBggiX20KNgigk6fIynjVoMqpAsJAvJwoYWjeoFnMYCgSU61RECO1iixS4mOMAOrhk1RiFZSBaShQ2D0beNAkeY4wECcwxGLfawgwM0+AreRW8UkoVkIVk4ZlA9hxVCNcMMK+xhgh4FgR6BBkt8Dd/Fu2gxqEKykCwkCxtaDKqL+AAzLNBgwBECAwY0mKJFiwk+xAGeVw1GIVlIFpKFDR0GPIVbKAgcYo4VDtFhjRa9qkWDghkOccbDQrKQLCQLG9aqFzDFEgvMjR5BQYMeBR2mWCMwwX2c97CQLCQLycIJvoSCAUvs4QgFp1UNCgpa7GCNCaZYYI4ruGoUkoVkIVnYUFQXMGCFQIteNcMKE/Ro0KHBElMEiurruGoUkoVkIVk4wSUsjFpVi4IeM/SYItCiYAdLzFFwwbaQLCQLycIJnsRtNJigoKBDQaBDi4I1JuhxGo9igSXO2xaShWQhWTjmFG5hwC52UNCgRY8WAwomCCzxON7DPs7iCJdsC8lCspAsHPMcZjjEHNdxGXfRYY0GAxq0qgd4DO/g7/gpbuOibSFZSBaShWMuq3ZxHX/Et3ADj9rWoKgG1RH+gHO4iX3bQrKQLCQLx7yEAbv4G+4j0KNRDehUjW33cBUtBuzgHPZVIVlIFpKFY57BR3gWr+N76NEgEGhQbOtVh6oDtJjiCvZVIVlIFpKFDZ/BXRTM8U98BwWnUIwCDQoa9LiDVvUROtU5o5AsJAvJwoavIjDDe6p72EdgjUE1oKiWmGFAqP6CL6g+ZxSShWQhWdhwFgV7+JVqiUCDgkZ1hAa9aoUGd1Vv4w0sMTUKyUKykCxseBlPIPAb1Z9xBe8g8EXM0KPBGnfQ4gB/Vf0eb+A0njQKyUKykCxs+DG+j6dxpHofe5jjCdxDj7NYqVrcxW2jG/gFzuAto5AsJAvJ/gfcS/pYKaebzQAAAABJRU5ErkJg\"></td></tr></tbody></table><div><small>(a vector displayed as a row to save space)</small></div>"
      ],
      "text/plain": [
       "8-element Vector{Base.ReinterpretArray{Gray{N0f8}, 2, N0f8, Matrix{N0f8}, true}}:\n",
       " [Gray{N0f8}(0.0) Gray{N0f8}(0.0) … Gray{N0f8}(0.0) Gray{N0f8}(0.0); Gray{N0f8}(0.0) Gray{N0f8}(0.0) … Gray{N0f8}(0.0) Gray{N0f8}(0.0); … ; Gray{N0f8}(0.0) Gray{N0f8}(0.0) … Gray{N0f8}(0.0) Gray{N0f8}(0.0); Gray{N0f8}(0.0) Gray{N0f8}(0.0) … Gray{N0f8}(0.0) Gray{N0f8}(0.0)]\n",
       " [Gray{N0f8}(0.0) Gray{N0f8}(0.0) … Gray{N0f8}(0.0) Gray{N0f8}(0.0); Gray{N0f8}(0.0) Gray{N0f8}(0.0) … Gray{N0f8}(0.0) Gray{N0f8}(0.0); … ; Gray{N0f8}(0.0) Gray{N0f8}(0.0) … Gray{N0f8}(0.0) Gray{N0f8}(0.0); Gray{N0f8}(0.0) Gray{N0f8}(0.0) … Gray{N0f8}(0.0) Gray{N0f8}(0.0)]\n",
       " [Gray{N0f8}(0.0) Gray{N0f8}(0.0) … Gray{N0f8}(0.0) Gray{N0f8}(0.0); Gray{N0f8}(0.0) Gray{N0f8}(0.0) … Gray{N0f8}(0.0) Gray{N0f8}(0.0); … ; Gray{N0f8}(0.0) Gray{N0f8}(0.0) … Gray{N0f8}(0.0) Gray{N0f8}(0.0); Gray{N0f8}(0.0) Gray{N0f8}(0.0) … Gray{N0f8}(0.0) Gray{N0f8}(0.0)]\n",
       " [Gray{N0f8}(0.0) Gray{N0f8}(0.0) … Gray{N0f8}(0.0) Gray{N0f8}(0.0); Gray{N0f8}(0.0) Gray{N0f8}(0.0) … Gray{N0f8}(0.0) Gray{N0f8}(0.0); … ; Gray{N0f8}(0.0) Gray{N0f8}(0.0) … Gray{N0f8}(0.0) Gray{N0f8}(0.0); Gray{N0f8}(0.0) Gray{N0f8}(0.0) … Gray{N0f8}(0.0) Gray{N0f8}(0.0)]\n",
       " [Gray{N0f8}(0.0) Gray{N0f8}(0.0) … Gray{N0f8}(0.0) Gray{N0f8}(0.0); Gray{N0f8}(0.0) Gray{N0f8}(0.0) … Gray{N0f8}(0.0) Gray{N0f8}(0.0); … ; Gray{N0f8}(0.0) Gray{N0f8}(0.0) … Gray{N0f8}(0.0) Gray{N0f8}(0.0); Gray{N0f8}(0.0) Gray{N0f8}(0.0) … Gray{N0f8}(0.0) Gray{N0f8}(0.0)]\n",
       " [Gray{N0f8}(0.0) Gray{N0f8}(0.0) … Gray{N0f8}(0.0) Gray{N0f8}(0.0); Gray{N0f8}(0.0) Gray{N0f8}(0.0) … Gray{N0f8}(0.0) Gray{N0f8}(0.0); … ; Gray{N0f8}(0.0) Gray{N0f8}(0.0) … Gray{N0f8}(0.0) Gray{N0f8}(0.0); Gray{N0f8}(0.0) Gray{N0f8}(0.0) … Gray{N0f8}(0.0) Gray{N0f8}(0.0)]\n",
       " [Gray{N0f8}(0.0) Gray{N0f8}(0.0) … Gray{N0f8}(0.0) Gray{N0f8}(0.0); Gray{N0f8}(0.0) Gray{N0f8}(0.0) … Gray{N0f8}(0.0) Gray{N0f8}(0.0); … ; Gray{N0f8}(0.0) Gray{N0f8}(0.0) … Gray{N0f8}(0.0) Gray{N0f8}(0.0); Gray{N0f8}(0.0) Gray{N0f8}(0.0) … Gray{N0f8}(0.0) Gray{N0f8}(0.0)]\n",
       " [Gray{N0f8}(0.0) Gray{N0f8}(0.0) … Gray{N0f8}(0.0) Gray{N0f8}(0.0); Gray{N0f8}(0.0) Gray{N0f8}(0.0) … Gray{N0f8}(0.0) Gray{N0f8}(0.0); … ; Gray{N0f8}(0.0) Gray{N0f8}(0.0) … Gray{N0f8}(0.0) Gray{N0f8}(0.0); Gray{N0f8}(0.0) Gray{N0f8}(0.0) … Gray{N0f8}(0.0) Gray{N0f8}(0.0)]"
      ]
     },
     "execution_count": 15,
     "metadata": {},
     "output_type": "execute_result"
    }
   ],
   "source": [
    "k = rand(1:n, 8)\n",
    "println([\"$(labels[Y[i]])\" for i in k])\n",
    "[FashionMNIST.convert2image(X[:,:,i]) for i in k]"
   ]
  },
  {
   "cell_type": "markdown",
   "metadata": {},
   "source": [
    "## Visualizing the data\n",
    "\n",
    "Each input data point is an image consisting of grey values for $28\\times 28$ pixels.\n",
    "\n",
    "Thus the data lives in $\\mathbb R^D$ with $D=28^2 = 784$."
   ]
  },
  {
   "cell_type": "code",
   "execution_count": 24,
   "metadata": {},
   "outputs": [
    {
     "data": {
      "text/plain": [
       "784"
      ]
     },
     "execution_count": 24,
     "metadata": {},
     "output_type": "execute_result"
    }
   ],
   "source": [
    "D = 28^2"
   ]
  },
  {
   "cell_type": "markdown",
   "metadata": {},
   "source": [
    "Let us look at the structure of the first input data point:"
   ]
  },
  {
   "cell_type": "code",
   "execution_count": 25,
   "metadata": {},
   "outputs": [
    {
     "data": {
      "text/plain": [
       "Matrix{N0f8} (alias for Array{Normed{UInt8, 8}, 2})"
      ]
     },
     "execution_count": 25,
     "metadata": {},
     "output_type": "execute_result"
    }
   ],
   "source": [
    "typeof(X[:,:,1])"
   ]
  },
  {
   "cell_type": "markdown",
   "metadata": {},
   "source": [
    "We see that the input data consists of matrices. \n",
    "\n",
    "For using machine learning algorithm we first transform the input data points into vectors using the `vec` function."
   ]
  },
  {
   "cell_type": "code",
   "execution_count": 26,
   "metadata": {},
   "outputs": [],
   "source": [
    "X_vec = [Float64.(vec(X[:,:,i])) for i in 1:n];\n",
    "X_test_vec = [Float64.(vec(X_test[:,:,i])) for i in 1:n];"
   ]
  },
  {
   "cell_type": "markdown",
   "metadata": {},
   "source": [
    "We also normalize the data to account for numerical accuracy."
   ]
  },
  {
   "cell_type": "code",
   "execution_count": 27,
   "metadata": {},
   "outputs": [],
   "source": [
    "M = maximum(norm.(X_vec))\n",
    "X_vec = X_vec ./ M\n",
    "X_test_vec = X_test_vec ./ M;"
   ]
  },
  {
   "cell_type": "markdown",
   "metadata": {},
   "source": [
    "We can visualize this data by randomly projecting the points in $\\mathbb R^D$ to $\\mathbb R^2$. \n",
    "\n",
    "For instance, we can first center the data and then sample a random projection matrix:"
   ]
  },
  {
   "cell_type": "code",
   "execution_count": 28,
   "metadata": {},
   "outputs": [],
   "source": [
    "x̄ = mean(X_vec)\n",
    "Pr = randn(2, D)\n",
    "X_Pr = hcat(map(x -> Pr*(x - x̄), X_vec)...);"
   ]
  },
  {
   "cell_type": "markdown",
   "metadata": {},
   "source": [
    "We can now apply a scatter plot the the projected data."
   ]
  },
  {
   "cell_type": "code",
   "execution_count": 29,
   "metadata": {},
   "outputs": [
    {
     "data": {
      "image/svg+xml": [
       "<?xml version=\"1.0\" encoding=\"utf-8\"?>\n",
       "<svg xmlns=\"http://www.w3.org/2000/svg\" xmlns:xlink=\"http://www.w3.org/1999/xlink\" width=\"600\" height=\"300\" viewBox=\"0 0 2400 1200\">\n",
       "<defs>\n",
       "  <clipPath id=\"clip290\">\n",
       "    <rect x=\"0\" y=\"0\" width=\"2400\" height=\"1200\"/>\n",
       "  </clipPath>\n",
       "</defs>\n",
       "<path clip-path=\"url(#clip290)\" d=\"\n",
       "M0 1200 L2400 1200 L2400 0 L0 0  Z\n",
       "  \" fill=\"#ffffff\" fill-rule=\"evenodd\" fill-opacity=\"1\"/>\n",
       "<defs>\n",
       "  <clipPath id=\"clip291\">\n",
       "    <rect x=\"480\" y=\"0\" width=\"1681\" height=\"1200\"/>\n",
       "  </clipPath>\n",
       "</defs>\n",
       "<path clip-path=\"url(#clip290)\" d=\"\n",
       "M193.936 1099.09 L2352.76 1099.09 L2352.76 47.2441 L193.936 47.2441  Z\n",
       "  \" fill=\"#ffffff\" fill-rule=\"evenodd\" fill-opacity=\"1\"/>\n",
       "<defs>\n",
       "  <clipPath id=\"clip292\">\n",
       "    <rect x=\"193\" y=\"47\" width=\"2160\" height=\"1053\"/>\n",
       "  </clipPath>\n",
       "</defs>\n",
       "<polyline clip-path=\"url(#clip292)\" style=\"stroke:#000000; stroke-linecap:butt; stroke-linejoin:round; stroke-width:2; stroke-opacity:0.1; fill:none\" points=\"\n",
       "  596.406,1099.09 596.406,47.2441 \n",
       "  \"/>\n",
       "<polyline clip-path=\"url(#clip292)\" style=\"stroke:#000000; stroke-linecap:butt; stroke-linejoin:round; stroke-width:2; stroke-opacity:0.1; fill:none\" points=\"\n",
       "  1012.65,1099.09 1012.65,47.2441 \n",
       "  \"/>\n",
       "<polyline clip-path=\"url(#clip292)\" style=\"stroke:#000000; stroke-linecap:butt; stroke-linejoin:round; stroke-width:2; stroke-opacity:0.1; fill:none\" points=\"\n",
       "  1428.89,1099.09 1428.89,47.2441 \n",
       "  \"/>\n",
       "<polyline clip-path=\"url(#clip292)\" style=\"stroke:#000000; stroke-linecap:butt; stroke-linejoin:round; stroke-width:2; stroke-opacity:0.1; fill:none\" points=\"\n",
       "  1845.13,1099.09 1845.13,47.2441 \n",
       "  \"/>\n",
       "<polyline clip-path=\"url(#clip292)\" style=\"stroke:#000000; stroke-linecap:butt; stroke-linejoin:round; stroke-width:2; stroke-opacity:0.1; fill:none\" points=\"\n",
       "  2261.37,1099.09 2261.37,47.2441 \n",
       "  \"/>\n",
       "<polyline clip-path=\"url(#clip290)\" style=\"stroke:#000000; stroke-linecap:butt; stroke-linejoin:round; stroke-width:4; stroke-opacity:1; fill:none\" points=\"\n",
       "  193.936,1099.09 2352.76,1099.09 \n",
       "  \"/>\n",
       "<polyline clip-path=\"url(#clip290)\" style=\"stroke:#000000; stroke-linecap:butt; stroke-linejoin:round; stroke-width:4; stroke-opacity:1; fill:none\" points=\"\n",
       "  596.406,1099.09 596.406,1080.19 \n",
       "  \"/>\n",
       "<polyline clip-path=\"url(#clip290)\" style=\"stroke:#000000; stroke-linecap:butt; stroke-linejoin:round; stroke-width:4; stroke-opacity:1; fill:none\" points=\"\n",
       "  1012.65,1099.09 1012.65,1080.19 \n",
       "  \"/>\n",
       "<polyline clip-path=\"url(#clip290)\" style=\"stroke:#000000; stroke-linecap:butt; stroke-linejoin:round; stroke-width:4; stroke-opacity:1; fill:none\" points=\"\n",
       "  1428.89,1099.09 1428.89,1080.19 \n",
       "  \"/>\n",
       "<polyline clip-path=\"url(#clip290)\" style=\"stroke:#000000; stroke-linecap:butt; stroke-linejoin:round; stroke-width:4; stroke-opacity:1; fill:none\" points=\"\n",
       "  1845.13,1099.09 1845.13,1080.19 \n",
       "  \"/>\n",
       "<polyline clip-path=\"url(#clip290)\" style=\"stroke:#000000; stroke-linecap:butt; stroke-linejoin:round; stroke-width:4; stroke-opacity:1; fill:none\" points=\"\n",
       "  2261.37,1099.09 2261.37,1080.19 \n",
       "  \"/>\n",
       "<path clip-path=\"url(#clip290)\" d=\"M543.432 1144.66 L573.108 1144.66 L573.108 1148.59 L543.432 1148.59 L543.432 1144.66 Z\" fill=\"#000000\" fill-rule=\"evenodd\" fill-opacity=\"1\" /><path clip-path=\"url(#clip290)\" d=\"M593.2 1130.01 Q589.589 1130.01 587.76 1133.57 Q585.955 1137.11 585.955 1144.24 Q585.955 1151.35 587.76 1154.91 Q589.589 1158.46 593.2 1158.46 Q596.834 1158.46 598.64 1154.91 Q600.468 1151.35 600.468 1144.24 Q600.468 1137.11 598.64 1133.57 Q596.834 1130.01 593.2 1130.01 M593.2 1126.3 Q599.01 1126.3 602.066 1130.91 Q605.144 1135.49 605.144 1144.24 Q605.144 1152.97 602.066 1157.58 Q599.01 1162.16 593.2 1162.16 Q587.39 1162.16 584.311 1157.58 Q581.256 1152.97 581.256 1144.24 Q581.256 1135.49 584.311 1130.91 Q587.39 1126.3 593.2 1126.3 Z\" fill=\"#000000\" fill-rule=\"evenodd\" fill-opacity=\"1\" /><path clip-path=\"url(#clip290)\" d=\"M613.362 1155.61 L618.246 1155.61 L618.246 1161.49 L613.362 1161.49 L613.362 1155.61 Z\" fill=\"#000000\" fill-rule=\"evenodd\" fill-opacity=\"1\" /><path clip-path=\"url(#clip290)\" d=\"M628.478 1126.93 L646.834 1126.93 L646.834 1130.86 L632.76 1130.86 L632.76 1139.34 Q633.779 1138.99 634.797 1138.83 Q635.816 1138.64 636.834 1138.64 Q642.621 1138.64 646.001 1141.81 Q649.38 1144.98 649.38 1150.4 Q649.38 1155.98 645.908 1159.08 Q642.436 1162.16 636.116 1162.16 Q633.941 1162.16 631.672 1161.79 Q629.427 1161.42 627.019 1160.68 L627.019 1155.98 Q629.103 1157.11 631.325 1157.67 Q633.547 1158.22 636.024 1158.22 Q640.028 1158.22 642.366 1156.12 Q644.704 1154.01 644.704 1150.4 Q644.704 1146.79 642.366 1144.68 Q640.028 1142.58 636.024 1142.58 Q634.149 1142.58 632.274 1142.99 Q630.422 1143.41 628.478 1144.29 L628.478 1126.93 Z\" fill=\"#000000\" fill-rule=\"evenodd\" fill-opacity=\"1\" /><path clip-path=\"url(#clip290)\" d=\"M990.031 1130.01 Q986.42 1130.01 984.591 1133.57 Q982.785 1137.11 982.785 1144.24 Q982.785 1151.35 984.591 1154.91 Q986.42 1158.46 990.031 1158.46 Q993.665 1158.46 995.47 1154.91 Q997.299 1151.35 997.299 1144.24 Q997.299 1137.11 995.47 1133.57 Q993.665 1130.01 990.031 1130.01 M990.031 1126.3 Q995.841 1126.3 998.896 1130.91 Q1001.98 1135.49 1001.98 1144.24 Q1001.98 1152.97 998.896 1157.58 Q995.841 1162.16 990.031 1162.16 Q984.221 1162.16 981.142 1157.58 Q978.086 1152.97 978.086 1144.24 Q978.086 1135.49 981.142 1130.91 Q984.221 1126.3 990.031 1126.3 Z\" fill=\"#000000\" fill-rule=\"evenodd\" fill-opacity=\"1\" /><path clip-path=\"url(#clip290)\" d=\"M1010.19 1155.61 L1015.08 1155.61 L1015.08 1161.49 L1010.19 1161.49 L1010.19 1155.61 Z\" fill=\"#000000\" fill-rule=\"evenodd\" fill-opacity=\"1\" /><path clip-path=\"url(#clip290)\" d=\"M1035.26 1130.01 Q1031.65 1130.01 1029.82 1133.57 Q1028.02 1137.11 1028.02 1144.24 Q1028.02 1151.35 1029.82 1154.91 Q1031.65 1158.46 1035.26 1158.46 Q1038.9 1158.46 1040.7 1154.91 Q1042.53 1151.35 1042.53 1144.24 Q1042.53 1137.11 1040.7 1133.57 Q1038.9 1130.01 1035.26 1130.01 M1035.26 1126.3 Q1041.07 1126.3 1044.13 1130.91 Q1047.21 1135.49 1047.21 1144.24 Q1047.21 1152.97 1044.13 1157.58 Q1041.07 1162.16 1035.26 1162.16 Q1029.45 1162.16 1026.37 1157.58 Q1023.32 1152.97 1023.32 1144.24 Q1023.32 1135.49 1026.37 1130.91 Q1029.45 1126.3 1035.26 1126.3 Z\" fill=\"#000000\" fill-rule=\"evenodd\" fill-opacity=\"1\" /><path clip-path=\"url(#clip290)\" d=\"M1406.77 1130.01 Q1403.16 1130.01 1401.33 1133.57 Q1399.52 1137.11 1399.52 1144.24 Q1399.52 1151.35 1401.33 1154.91 Q1403.16 1158.46 1406.77 1158.46 Q1410.4 1158.46 1412.21 1154.91 Q1414.04 1151.35 1414.04 1144.24 Q1414.04 1137.11 1412.21 1133.57 Q1410.4 1130.01 1406.77 1130.01 M1406.77 1126.3 Q1412.58 1126.3 1415.63 1130.91 Q1418.71 1135.49 1418.71 1144.24 Q1418.71 1152.97 1415.63 1157.58 Q1412.58 1162.16 1406.77 1162.16 Q1400.96 1162.16 1397.88 1157.58 Q1394.82 1152.97 1394.82 1144.24 Q1394.82 1135.49 1397.88 1130.91 Q1400.96 1126.3 1406.77 1126.3 Z\" fill=\"#000000\" fill-rule=\"evenodd\" fill-opacity=\"1\" /><path clip-path=\"url(#clip290)\" d=\"M1426.93 1155.61 L1431.81 1155.61 L1431.81 1161.49 L1426.93 1161.49 L1426.93 1155.61 Z\" fill=\"#000000\" fill-rule=\"evenodd\" fill-opacity=\"1\" /><path clip-path=\"url(#clip290)\" d=\"M1442.05 1126.93 L1460.4 1126.93 L1460.4 1130.86 L1446.33 1130.86 L1446.33 1139.34 Q1447.35 1138.99 1448.37 1138.83 Q1449.38 1138.64 1450.4 1138.64 Q1456.19 1138.64 1459.57 1141.81 Q1462.95 1144.98 1462.95 1150.4 Q1462.95 1155.98 1459.48 1159.08 Q1456 1162.16 1449.69 1162.16 Q1447.51 1162.16 1445.24 1161.79 Q1443 1161.42 1440.59 1160.68 L1440.59 1155.98 Q1442.67 1157.11 1444.89 1157.67 Q1447.12 1158.22 1449.59 1158.22 Q1453.6 1158.22 1455.94 1156.12 Q1458.27 1154.01 1458.27 1150.4 Q1458.27 1146.79 1455.94 1144.68 Q1453.6 1142.58 1449.59 1142.58 Q1447.72 1142.58 1445.84 1142.99 Q1443.99 1143.41 1442.05 1144.29 L1442.05 1126.93 Z\" fill=\"#000000\" fill-rule=\"evenodd\" fill-opacity=\"1\" /><path clip-path=\"url(#clip290)\" d=\"M1812.28 1157.55 L1819.92 1157.55 L1819.92 1131.19 L1811.61 1132.85 L1811.61 1128.59 L1819.87 1126.93 L1824.55 1126.93 L1824.55 1157.55 L1832.19 1157.55 L1832.19 1161.49 L1812.28 1161.49 L1812.28 1157.55 Z\" fill=\"#000000\" fill-rule=\"evenodd\" fill-opacity=\"1\" /><path clip-path=\"url(#clip290)\" d=\"M1841.63 1155.61 L1846.52 1155.61 L1846.52 1161.49 L1841.63 1161.49 L1841.63 1155.61 Z\" fill=\"#000000\" fill-rule=\"evenodd\" fill-opacity=\"1\" /><path clip-path=\"url(#clip290)\" d=\"M1866.7 1130.01 Q1863.09 1130.01 1861.26 1133.57 Q1859.46 1137.11 1859.46 1144.24 Q1859.46 1151.35 1861.26 1154.91 Q1863.09 1158.46 1866.7 1158.46 Q1870.34 1158.46 1872.14 1154.91 Q1873.97 1151.35 1873.97 1144.24 Q1873.97 1137.11 1872.14 1133.57 Q1870.34 1130.01 1866.7 1130.01 M1866.7 1126.3 Q1872.51 1126.3 1875.57 1130.91 Q1878.65 1135.49 1878.65 1144.24 Q1878.65 1152.97 1875.57 1157.58 Q1872.51 1162.16 1866.7 1162.16 Q1860.89 1162.16 1857.81 1157.58 Q1854.76 1152.97 1854.76 1144.24 Q1854.76 1135.49 1857.81 1130.91 Q1860.89 1126.3 1866.7 1126.3 Z\" fill=\"#000000\" fill-rule=\"evenodd\" fill-opacity=\"1\" /><path clip-path=\"url(#clip290)\" d=\"M2229.02 1157.55 L2236.66 1157.55 L2236.66 1131.19 L2228.35 1132.85 L2228.35 1128.59 L2236.61 1126.93 L2241.29 1126.93 L2241.29 1157.55 L2248.93 1157.55 L2248.93 1161.49 L2229.02 1161.49 L2229.02 1157.55 Z\" fill=\"#000000\" fill-rule=\"evenodd\" fill-opacity=\"1\" /><path clip-path=\"url(#clip290)\" d=\"M2258.37 1155.61 L2263.25 1155.61 L2263.25 1161.49 L2258.37 1161.49 L2258.37 1155.61 Z\" fill=\"#000000\" fill-rule=\"evenodd\" fill-opacity=\"1\" /><path clip-path=\"url(#clip290)\" d=\"M2273.49 1126.93 L2291.84 1126.93 L2291.84 1130.86 L2277.77 1130.86 L2277.77 1139.34 Q2278.79 1138.99 2279.8 1138.83 Q2280.82 1138.64 2281.84 1138.64 Q2287.63 1138.64 2291.01 1141.81 Q2294.39 1144.98 2294.39 1150.4 Q2294.39 1155.98 2290.92 1159.08 Q2287.44 1162.16 2281.12 1162.16 Q2278.95 1162.16 2276.68 1161.79 Q2274.43 1161.42 2272.03 1160.68 L2272.03 1155.98 Q2274.11 1157.11 2276.33 1157.67 Q2278.55 1158.22 2281.03 1158.22 Q2285.04 1158.22 2287.37 1156.12 Q2289.71 1154.01 2289.71 1150.4 Q2289.71 1146.79 2287.37 1144.68 Q2285.04 1142.58 2281.03 1142.58 Q2279.16 1142.58 2277.28 1142.99 Q2275.43 1143.41 2273.49 1144.29 L2273.49 1126.93 Z\" fill=\"#000000\" fill-rule=\"evenodd\" fill-opacity=\"1\" /><polyline clip-path=\"url(#clip292)\" style=\"stroke:#000000; stroke-linecap:butt; stroke-linejoin:round; stroke-width:2; stroke-opacity:0.1; fill:none\" points=\"\n",
       "  193.936,981.065 2352.76,981.065 \n",
       "  \"/>\n",
       "<polyline clip-path=\"url(#clip292)\" style=\"stroke:#000000; stroke-linecap:butt; stroke-linejoin:round; stroke-width:2; stroke-opacity:0.1; fill:none\" points=\"\n",
       "  193.936,751.894 2352.76,751.894 \n",
       "  \"/>\n",
       "<polyline clip-path=\"url(#clip292)\" style=\"stroke:#000000; stroke-linecap:butt; stroke-linejoin:round; stroke-width:2; stroke-opacity:0.1; fill:none\" points=\"\n",
       "  193.936,522.722 2352.76,522.722 \n",
       "  \"/>\n",
       "<polyline clip-path=\"url(#clip292)\" style=\"stroke:#000000; stroke-linecap:butt; stroke-linejoin:round; stroke-width:2; stroke-opacity:0.1; fill:none\" points=\"\n",
       "  193.936,293.551 2352.76,293.551 \n",
       "  \"/>\n",
       "<polyline clip-path=\"url(#clip292)\" style=\"stroke:#000000; stroke-linecap:butt; stroke-linejoin:round; stroke-width:2; stroke-opacity:0.1; fill:none\" points=\"\n",
       "  193.936,64.3798 2352.76,64.3798 \n",
       "  \"/>\n",
       "<polyline clip-path=\"url(#clip290)\" style=\"stroke:#000000; stroke-linecap:butt; stroke-linejoin:round; stroke-width:4; stroke-opacity:1; fill:none\" points=\"\n",
       "  193.936,1099.09 193.936,47.2441 \n",
       "  \"/>\n",
       "<polyline clip-path=\"url(#clip290)\" style=\"stroke:#000000; stroke-linecap:butt; stroke-linejoin:round; stroke-width:4; stroke-opacity:1; fill:none\" points=\"\n",
       "  193.936,981.065 212.834,981.065 \n",
       "  \"/>\n",
       "<polyline clip-path=\"url(#clip290)\" style=\"stroke:#000000; stroke-linecap:butt; stroke-linejoin:round; stroke-width:4; stroke-opacity:1; fill:none\" points=\"\n",
       "  193.936,751.894 212.834,751.894 \n",
       "  \"/>\n",
       "<polyline clip-path=\"url(#clip290)\" style=\"stroke:#000000; stroke-linecap:butt; stroke-linejoin:round; stroke-width:4; stroke-opacity:1; fill:none\" points=\"\n",
       "  193.936,522.722 212.834,522.722 \n",
       "  \"/>\n",
       "<polyline clip-path=\"url(#clip290)\" style=\"stroke:#000000; stroke-linecap:butt; stroke-linejoin:round; stroke-width:4; stroke-opacity:1; fill:none\" points=\"\n",
       "  193.936,293.551 212.834,293.551 \n",
       "  \"/>\n",
       "<polyline clip-path=\"url(#clip290)\" style=\"stroke:#000000; stroke-linecap:butt; stroke-linejoin:round; stroke-width:4; stroke-opacity:1; fill:none\" points=\"\n",
       "  193.936,64.3798 212.834,64.3798 \n",
       "  \"/>\n",
       "<path clip-path=\"url(#clip290)\" d=\"M50.9921 981.516 L80.6679 981.516 L80.6679 985.452 L50.9921 985.452 L50.9921 981.516 Z\" fill=\"#000000\" fill-rule=\"evenodd\" fill-opacity=\"1\" /><path clip-path=\"url(#clip290)\" d=\"M91.5706 994.41 L99.2095 994.41 L99.2095 968.044 L90.8993 969.711 L90.8993 965.452 L99.1632 963.785 L103.839 963.785 L103.839 994.41 L111.478 994.41 L111.478 998.345 L91.5706 998.345 L91.5706 994.41 Z\" fill=\"#000000\" fill-rule=\"evenodd\" fill-opacity=\"1\" /><path clip-path=\"url(#clip290)\" d=\"M120.922 992.465 L125.807 992.465 L125.807 998.345 L120.922 998.345 L120.922 992.465 Z\" fill=\"#000000\" fill-rule=\"evenodd\" fill-opacity=\"1\" /><path clip-path=\"url(#clip290)\" d=\"M145.992 966.864 Q142.381 966.864 140.552 970.429 Q138.746 973.97 138.746 981.1 Q138.746 988.206 140.552 991.771 Q142.381 995.313 145.992 995.313 Q149.626 995.313 151.431 991.771 Q153.26 988.206 153.26 981.1 Q153.26 973.97 151.431 970.429 Q149.626 966.864 145.992 966.864 M145.992 963.16 Q151.802 963.16 154.857 967.767 Q157.936 972.35 157.936 981.1 Q157.936 989.827 154.857 994.433 Q151.802 999.016 145.992 999.016 Q140.181 999.016 137.103 994.433 Q134.047 989.827 134.047 981.1 Q134.047 972.35 137.103 967.767 Q140.181 963.16 145.992 963.16 Z\" fill=\"#000000\" fill-rule=\"evenodd\" fill-opacity=\"1\" /><path clip-path=\"url(#clip290)\" d=\"M51.9875 752.345 L81.6633 752.345 L81.6633 756.28 L51.9875 756.28 L51.9875 752.345 Z\" fill=\"#000000\" fill-rule=\"evenodd\" fill-opacity=\"1\" /><path clip-path=\"url(#clip290)\" d=\"M101.756 737.692 Q98.1447 737.692 96.316 741.257 Q94.5104 744.799 94.5104 751.928 Q94.5104 759.035 96.316 762.6 Q98.1447 766.141 101.756 766.141 Q105.39 766.141 107.196 762.6 Q109.024 759.035 109.024 751.928 Q109.024 744.799 107.196 741.257 Q105.39 737.692 101.756 737.692 M101.756 733.989 Q107.566 733.989 110.621 738.595 Q113.7 743.179 113.7 751.928 Q113.7 760.655 110.621 765.262 Q107.566 769.845 101.756 769.845 Q95.9456 769.845 92.8669 765.262 Q89.8114 760.655 89.8114 751.928 Q89.8114 743.179 92.8669 738.595 Q95.9456 733.989 101.756 733.989 Z\" fill=\"#000000\" fill-rule=\"evenodd\" fill-opacity=\"1\" /><path clip-path=\"url(#clip290)\" d=\"M121.918 763.294 L126.802 763.294 L126.802 769.174 L121.918 769.174 L121.918 763.294 Z\" fill=\"#000000\" fill-rule=\"evenodd\" fill-opacity=\"1\" /><path clip-path=\"url(#clip290)\" d=\"M137.033 734.614 L155.39 734.614 L155.39 738.549 L141.316 738.549 L141.316 747.021 Q142.334 746.674 143.353 746.512 Q144.371 746.327 145.39 746.327 Q151.177 746.327 154.556 749.498 Q157.936 752.669 157.936 758.086 Q157.936 763.665 154.464 766.766 Q150.992 769.845 144.672 769.845 Q142.496 769.845 140.228 769.475 Q137.982 769.104 135.575 768.364 L135.575 763.665 Q137.658 764.799 139.881 765.354 Q142.103 765.91 144.58 765.91 Q148.584 765.91 150.922 763.803 Q153.26 761.697 153.26 758.086 Q153.26 754.475 150.922 752.368 Q148.584 750.262 144.58 750.262 Q142.705 750.262 140.83 750.678 Q138.978 751.095 137.033 751.975 L137.033 734.614 Z\" fill=\"#000000\" fill-rule=\"evenodd\" fill-opacity=\"1\" /><path clip-path=\"url(#clip290)\" d=\"M100.76 508.521 Q97.1493 508.521 95.3206 512.086 Q93.515 515.628 93.515 522.757 Q93.515 529.864 95.3206 533.428 Q97.1493 536.97 100.76 536.97 Q104.395 536.97 106.2 533.428 Q108.029 529.864 108.029 522.757 Q108.029 515.628 106.2 512.086 Q104.395 508.521 100.76 508.521 M100.76 504.817 Q106.571 504.817 109.626 509.424 Q112.705 514.007 112.705 522.757 Q112.705 531.484 109.626 536.09 Q106.571 540.674 100.76 540.674 Q94.9502 540.674 91.8715 536.09 Q88.816 531.484 88.816 522.757 Q88.816 514.007 91.8715 509.424 Q94.9502 504.817 100.76 504.817 Z\" fill=\"#000000\" fill-rule=\"evenodd\" fill-opacity=\"1\" /><path clip-path=\"url(#clip290)\" d=\"M120.922 534.123 L125.807 534.123 L125.807 540.002 L120.922 540.002 L120.922 534.123 Z\" fill=\"#000000\" fill-rule=\"evenodd\" fill-opacity=\"1\" /><path clip-path=\"url(#clip290)\" d=\"M145.992 508.521 Q142.381 508.521 140.552 512.086 Q138.746 515.628 138.746 522.757 Q138.746 529.864 140.552 533.428 Q142.381 536.97 145.992 536.97 Q149.626 536.97 151.431 533.428 Q153.26 529.864 153.26 522.757 Q153.26 515.628 151.431 512.086 Q149.626 508.521 145.992 508.521 M145.992 504.817 Q151.802 504.817 154.857 509.424 Q157.936 514.007 157.936 522.757 Q157.936 531.484 154.857 536.09 Q151.802 540.674 145.992 540.674 Q140.181 540.674 137.103 536.09 Q134.047 531.484 134.047 522.757 Q134.047 514.007 137.103 509.424 Q140.181 504.817 145.992 504.817 Z\" fill=\"#000000\" fill-rule=\"evenodd\" fill-opacity=\"1\" /><path clip-path=\"url(#clip290)\" d=\"M101.756 279.35 Q98.1447 279.35 96.316 282.915 Q94.5104 286.456 94.5104 293.586 Q94.5104 300.692 96.316 304.257 Q98.1447 307.799 101.756 307.799 Q105.39 307.799 107.196 304.257 Q109.024 300.692 109.024 293.586 Q109.024 286.456 107.196 282.915 Q105.39 279.35 101.756 279.35 M101.756 275.646 Q107.566 275.646 110.621 280.253 Q113.7 284.836 113.7 293.586 Q113.7 302.313 110.621 306.919 Q107.566 311.502 101.756 311.502 Q95.9456 311.502 92.8669 306.919 Q89.8114 302.313 89.8114 293.586 Q89.8114 284.836 92.8669 280.253 Q95.9456 275.646 101.756 275.646 Z\" fill=\"#000000\" fill-rule=\"evenodd\" fill-opacity=\"1\" /><path clip-path=\"url(#clip290)\" d=\"M121.918 304.951 L126.802 304.951 L126.802 310.831 L121.918 310.831 L121.918 304.951 Z\" fill=\"#000000\" fill-rule=\"evenodd\" fill-opacity=\"1\" /><path clip-path=\"url(#clip290)\" d=\"M137.033 276.271 L155.39 276.271 L155.39 280.206 L141.316 280.206 L141.316 288.678 Q142.334 288.331 143.353 288.169 Q144.371 287.984 145.39 287.984 Q151.177 287.984 154.556 291.155 Q157.936 294.327 157.936 299.743 Q157.936 305.322 154.464 308.424 Q150.992 311.502 144.672 311.502 Q142.496 311.502 140.228 311.132 Q137.982 310.762 135.575 310.021 L135.575 305.322 Q137.658 306.456 139.881 307.012 Q142.103 307.567 144.58 307.567 Q148.584 307.567 150.922 305.461 Q153.26 303.354 153.26 299.743 Q153.26 296.132 150.922 294.026 Q148.584 291.919 144.58 291.919 Q142.705 291.919 140.83 292.336 Q138.978 292.752 137.033 293.632 L137.033 276.271 Z\" fill=\"#000000\" fill-rule=\"evenodd\" fill-opacity=\"1\" /><path clip-path=\"url(#clip290)\" d=\"M91.5706 77.7246 L99.2095 77.7246 L99.2095 51.359 L90.8993 53.0257 L90.8993 48.7664 L99.1632 47.0998 L103.839 47.0998 L103.839 77.7246 L111.478 77.7246 L111.478 81.6598 L91.5706 81.6598 L91.5706 77.7246 Z\" fill=\"#000000\" fill-rule=\"evenodd\" fill-opacity=\"1\" /><path clip-path=\"url(#clip290)\" d=\"M120.922 75.7802 L125.807 75.7802 L125.807 81.6598 L120.922 81.6598 L120.922 75.7802 Z\" fill=\"#000000\" fill-rule=\"evenodd\" fill-opacity=\"1\" /><path clip-path=\"url(#clip290)\" d=\"M145.992 50.1784 Q142.381 50.1784 140.552 53.7432 Q138.746 57.2849 138.746 64.4145 Q138.746 71.5209 140.552 75.0857 Q142.381 78.6274 145.992 78.6274 Q149.626 78.6274 151.431 75.0857 Q153.26 71.5209 153.26 64.4145 Q153.26 57.2849 151.431 53.7432 Q149.626 50.1784 145.992 50.1784 M145.992 46.4748 Q151.802 46.4748 154.857 51.0812 Q157.936 55.6645 157.936 64.4145 Q157.936 73.1413 154.857 77.7477 Q151.802 82.3311 145.992 82.3311 Q140.181 82.3311 137.103 77.7477 Q134.047 73.1413 134.047 64.4145 Q134.047 55.6645 137.103 51.0812 Q140.181 46.4748 145.992 46.4748 Z\" fill=\"#000000\" fill-rule=\"evenodd\" fill-opacity=\"1\" /><circle clip-path=\"url(#clip292)\" cx=\"770.471\" cy=\"657.639\" r=\"14\" fill=\"#cd5c5c\" fill-rule=\"evenodd\" fill-opacity=\"1\" stroke=\"#000000\" stroke-opacity=\"1\" stroke-width=\"2.4\"/>\n",
       "<circle clip-path=\"url(#clip292)\" cx=\"793.245\" cy=\"603.244\" r=\"14\" fill=\"#cd5c5c\" fill-rule=\"evenodd\" fill-opacity=\"1\" stroke=\"#000000\" stroke-opacity=\"1\" stroke-width=\"2.4\"/>\n",
       "<circle clip-path=\"url(#clip292)\" cx=\"344.89\" cy=\"247.194\" r=\"14\" fill=\"#cd5c5c\" fill-rule=\"evenodd\" fill-opacity=\"1\" stroke=\"#000000\" stroke-opacity=\"1\" stroke-width=\"2.4\"/>\n",
       "<circle clip-path=\"url(#clip292)\" cx=\"582.3\" cy=\"370.357\" r=\"14\" fill=\"#cd5c5c\" fill-rule=\"evenodd\" fill-opacity=\"1\" stroke=\"#000000\" stroke-opacity=\"1\" stroke-width=\"2.4\"/>\n",
       "<circle clip-path=\"url(#clip292)\" cx=\"558.795\" cy=\"355.943\" r=\"14\" fill=\"#cd5c5c\" fill-rule=\"evenodd\" fill-opacity=\"1\" stroke=\"#000000\" stroke-opacity=\"1\" stroke-width=\"2.4\"/>\n",
       "<circle clip-path=\"url(#clip292)\" cx=\"952.703\" cy=\"326.152\" r=\"14\" fill=\"#cd5c5c\" fill-rule=\"evenodd\" fill-opacity=\"1\" stroke=\"#000000\" stroke-opacity=\"1\" stroke-width=\"2.4\"/>\n",
       "<circle clip-path=\"url(#clip292)\" cx=\"255.035\" cy=\"452.628\" r=\"14\" fill=\"#cd5c5c\" fill-rule=\"evenodd\" fill-opacity=\"1\" stroke=\"#000000\" stroke-opacity=\"1\" stroke-width=\"2.4\"/>\n",
       "<circle clip-path=\"url(#clip292)\" cx=\"310.309\" cy=\"375.008\" r=\"14\" fill=\"#cd5c5c\" fill-rule=\"evenodd\" fill-opacity=\"1\" stroke=\"#000000\" stroke-opacity=\"1\" stroke-width=\"2.4\"/>\n",
       "<circle clip-path=\"url(#clip292)\" cx=\"996.845\" cy=\"547.563\" r=\"14\" fill=\"#cd5c5c\" fill-rule=\"evenodd\" fill-opacity=\"1\" stroke=\"#000000\" stroke-opacity=\"1\" stroke-width=\"2.4\"/>\n",
       "<circle clip-path=\"url(#clip292)\" cx=\"621.36\" cy=\"541.201\" r=\"14\" fill=\"#cd5c5c\" fill-rule=\"evenodd\" fill-opacity=\"1\" stroke=\"#000000\" stroke-opacity=\"1\" stroke-width=\"2.4\"/>\n",
       "<circle clip-path=\"url(#clip292)\" cx=\"301.302\" cy=\"283.718\" r=\"14\" fill=\"#cd5c5c\" fill-rule=\"evenodd\" fill-opacity=\"1\" stroke=\"#000000\" stroke-opacity=\"1\" stroke-width=\"2.4\"/>\n",
       "<circle clip-path=\"url(#clip292)\" cx=\"818.451\" cy=\"522.908\" r=\"14\" fill=\"#cd5c5c\" fill-rule=\"evenodd\" fill-opacity=\"1\" stroke=\"#000000\" stroke-opacity=\"1\" stroke-width=\"2.4\"/>\n",
       "<circle clip-path=\"url(#clip292)\" cx=\"871.822\" cy=\"109.574\" r=\"14\" fill=\"#cd5c5c\" fill-rule=\"evenodd\" fill-opacity=\"1\" stroke=\"#000000\" stroke-opacity=\"1\" stroke-width=\"2.4\"/>\n",
       "<circle clip-path=\"url(#clip292)\" cx=\"508.332\" cy=\"77.0133\" r=\"14\" fill=\"#cd5c5c\" fill-rule=\"evenodd\" fill-opacity=\"1\" stroke=\"#000000\" stroke-opacity=\"1\" stroke-width=\"2.4\"/>\n",
       "<circle clip-path=\"url(#clip292)\" cx=\"450.57\" cy=\"462.539\" r=\"14\" fill=\"#cd5c5c\" fill-rule=\"evenodd\" fill-opacity=\"1\" stroke=\"#000000\" stroke-opacity=\"1\" stroke-width=\"2.4\"/>\n",
       "<circle clip-path=\"url(#clip292)\" cx=\"1007.41\" cy=\"476.061\" r=\"14\" fill=\"#cd5c5c\" fill-rule=\"evenodd\" fill-opacity=\"1\" stroke=\"#000000\" stroke-opacity=\"1\" stroke-width=\"2.4\"/>\n",
       "<circle clip-path=\"url(#clip292)\" cx=\"637.399\" cy=\"576.172\" r=\"14\" fill=\"#cd5c5c\" fill-rule=\"evenodd\" fill-opacity=\"1\" stroke=\"#000000\" stroke-opacity=\"1\" stroke-width=\"2.4\"/>\n",
       "<circle clip-path=\"url(#clip292)\" cx=\"1215.09\" cy=\"186.6\" r=\"14\" fill=\"#cd5c5c\" fill-rule=\"evenodd\" fill-opacity=\"1\" stroke=\"#000000\" stroke-opacity=\"1\" stroke-width=\"2.4\"/>\n",
       "<circle clip-path=\"url(#clip292)\" cx=\"837.068\" cy=\"214.706\" r=\"14\" fill=\"#cd5c5c\" fill-rule=\"evenodd\" fill-opacity=\"1\" stroke=\"#000000\" stroke-opacity=\"1\" stroke-width=\"2.4\"/>\n",
       "<circle clip-path=\"url(#clip292)\" cx=\"872.874\" cy=\"125.252\" r=\"14\" fill=\"#cd5c5c\" fill-rule=\"evenodd\" fill-opacity=\"1\" stroke=\"#000000\" stroke-opacity=\"1\" stroke-width=\"2.4\"/>\n",
       "<circle clip-path=\"url(#clip292)\" cx=\"570.49\" cy=\"450.574\" r=\"14\" fill=\"#cd5c5c\" fill-rule=\"evenodd\" fill-opacity=\"1\" stroke=\"#000000\" stroke-opacity=\"1\" stroke-width=\"2.4\"/>\n",
       "<circle clip-path=\"url(#clip292)\" cx=\"627.56\" cy=\"342.443\" r=\"14\" fill=\"#cd5c5c\" fill-rule=\"evenodd\" fill-opacity=\"1\" stroke=\"#000000\" stroke-opacity=\"1\" stroke-width=\"2.4\"/>\n",
       "<circle clip-path=\"url(#clip292)\" cx=\"809.473\" cy=\"144.208\" r=\"14\" fill=\"#cd5c5c\" fill-rule=\"evenodd\" fill-opacity=\"1\" stroke=\"#000000\" stroke-opacity=\"1\" stroke-width=\"2.4\"/>\n",
       "<circle clip-path=\"url(#clip292)\" cx=\"752.255\" cy=\"155.123\" r=\"14\" fill=\"#cd5c5c\" fill-rule=\"evenodd\" fill-opacity=\"1\" stroke=\"#000000\" stroke-opacity=\"1\" stroke-width=\"2.4\"/>\n",
       "<circle clip-path=\"url(#clip292)\" cx=\"1394.21\" cy=\"911.286\" r=\"14\" fill=\"#4682b4\" fill-rule=\"evenodd\" fill-opacity=\"1\" stroke=\"#000000\" stroke-opacity=\"1\" stroke-width=\"2.4\"/>\n",
       "<circle clip-path=\"url(#clip292)\" cx=\"2177.16\" cy=\"788.361\" r=\"14\" fill=\"#4682b4\" fill-rule=\"evenodd\" fill-opacity=\"1\" stroke=\"#000000\" stroke-opacity=\"1\" stroke-width=\"2.4\"/>\n",
       "<circle clip-path=\"url(#clip292)\" cx=\"625.363\" cy=\"607.926\" r=\"14\" fill=\"#4682b4\" fill-rule=\"evenodd\" fill-opacity=\"1\" stroke=\"#000000\" stroke-opacity=\"1\" stroke-width=\"2.4\"/>\n",
       "<circle clip-path=\"url(#clip292)\" cx=\"1025.38\" cy=\"721.11\" r=\"14\" fill=\"#4682b4\" fill-rule=\"evenodd\" fill-opacity=\"1\" stroke=\"#000000\" stroke-opacity=\"1\" stroke-width=\"2.4\"/>\n",
       "<circle clip-path=\"url(#clip292)\" cx=\"803.197\" cy=\"694.369\" r=\"14\" fill=\"#4682b4\" fill-rule=\"evenodd\" fill-opacity=\"1\" stroke=\"#000000\" stroke-opacity=\"1\" stroke-width=\"2.4\"/>\n",
       "<circle clip-path=\"url(#clip292)\" cx=\"740.965\" cy=\"983.23\" r=\"14\" fill=\"#4682b4\" fill-rule=\"evenodd\" fill-opacity=\"1\" stroke=\"#000000\" stroke-opacity=\"1\" stroke-width=\"2.4\"/>\n",
       "<circle clip-path=\"url(#clip292)\" cx=\"1273.59\" cy=\"480.486\" r=\"14\" fill=\"#4682b4\" fill-rule=\"evenodd\" fill-opacity=\"1\" stroke=\"#000000\" stroke-opacity=\"1\" stroke-width=\"2.4\"/>\n",
       "<circle clip-path=\"url(#clip292)\" cx=\"2291.66\" cy=\"630.107\" r=\"14\" fill=\"#4682b4\" fill-rule=\"evenodd\" fill-opacity=\"1\" stroke=\"#000000\" stroke-opacity=\"1\" stroke-width=\"2.4\"/>\n",
       "<circle clip-path=\"url(#clip292)\" cx=\"1160.44\" cy=\"793.824\" r=\"14\" fill=\"#4682b4\" fill-rule=\"evenodd\" fill-opacity=\"1\" stroke=\"#000000\" stroke-opacity=\"1\" stroke-width=\"2.4\"/>\n",
       "<circle clip-path=\"url(#clip292)\" cx=\"1013.69\" cy=\"539.681\" r=\"14\" fill=\"#4682b4\" fill-rule=\"evenodd\" fill-opacity=\"1\" stroke=\"#000000\" stroke-opacity=\"1\" stroke-width=\"2.4\"/>\n",
       "<circle clip-path=\"url(#clip292)\" cx=\"1525.04\" cy=\"705.843\" r=\"14\" fill=\"#4682b4\" fill-rule=\"evenodd\" fill-opacity=\"1\" stroke=\"#000000\" stroke-opacity=\"1\" stroke-width=\"2.4\"/>\n",
       "<circle clip-path=\"url(#clip292)\" cx=\"1776.99\" cy=\"1018.89\" r=\"14\" fill=\"#4682b4\" fill-rule=\"evenodd\" fill-opacity=\"1\" stroke=\"#000000\" stroke-opacity=\"1\" stroke-width=\"2.4\"/>\n",
       "<circle clip-path=\"url(#clip292)\" cx=\"1315.52\" cy=\"697.549\" r=\"14\" fill=\"#4682b4\" fill-rule=\"evenodd\" fill-opacity=\"1\" stroke=\"#000000\" stroke-opacity=\"1\" stroke-width=\"2.4\"/>\n",
       "<circle clip-path=\"url(#clip292)\" cx=\"1382.22\" cy=\"445.511\" r=\"14\" fill=\"#4682b4\" fill-rule=\"evenodd\" fill-opacity=\"1\" stroke=\"#000000\" stroke-opacity=\"1\" stroke-width=\"2.4\"/>\n",
       "<circle clip-path=\"url(#clip292)\" cx=\"1244.02\" cy=\"764.132\" r=\"14\" fill=\"#4682b4\" fill-rule=\"evenodd\" fill-opacity=\"1\" stroke=\"#000000\" stroke-opacity=\"1\" stroke-width=\"2.4\"/>\n",
       "<circle clip-path=\"url(#clip292)\" cx=\"1290.01\" cy=\"655.672\" r=\"14\" fill=\"#4682b4\" fill-rule=\"evenodd\" fill-opacity=\"1\" stroke=\"#000000\" stroke-opacity=\"1\" stroke-width=\"2.4\"/>\n",
       "<circle clip-path=\"url(#clip292)\" cx=\"1428.48\" cy=\"1069.32\" r=\"14\" fill=\"#4682b4\" fill-rule=\"evenodd\" fill-opacity=\"1\" stroke=\"#000000\" stroke-opacity=\"1\" stroke-width=\"2.4\"/>\n",
       "<circle clip-path=\"url(#clip292)\" cx=\"1615.4\" cy=\"829.601\" r=\"14\" fill=\"#4682b4\" fill-rule=\"evenodd\" fill-opacity=\"1\" stroke=\"#000000\" stroke-opacity=\"1\" stroke-width=\"2.4\"/>\n",
       "<circle clip-path=\"url(#clip292)\" cx=\"1398.31\" cy=\"503.08\" r=\"14\" fill=\"#4682b4\" fill-rule=\"evenodd\" fill-opacity=\"1\" stroke=\"#000000\" stroke-opacity=\"1\" stroke-width=\"2.4\"/>\n",
       "<circle clip-path=\"url(#clip292)\" cx=\"2173.27\" cy=\"561.161\" r=\"14\" fill=\"#4682b4\" fill-rule=\"evenodd\" fill-opacity=\"1\" stroke=\"#000000\" stroke-opacity=\"1\" stroke-width=\"2.4\"/>\n",
       "<circle clip-path=\"url(#clip292)\" cx=\"1334.58\" cy=\"446.54\" r=\"14\" fill=\"#4682b4\" fill-rule=\"evenodd\" fill-opacity=\"1\" stroke=\"#000000\" stroke-opacity=\"1\" stroke-width=\"2.4\"/>\n",
       "<circle clip-path=\"url(#clip292)\" cx=\"600.995\" cy=\"648.857\" r=\"14\" fill=\"#4682b4\" fill-rule=\"evenodd\" fill-opacity=\"1\" stroke=\"#000000\" stroke-opacity=\"1\" stroke-width=\"2.4\"/>\n",
       "<circle clip-path=\"url(#clip292)\" cx=\"1114.75\" cy=\"524.139\" r=\"14\" fill=\"#4682b4\" fill-rule=\"evenodd\" fill-opacity=\"1\" stroke=\"#000000\" stroke-opacity=\"1\" stroke-width=\"2.4\"/>\n",
       "<circle clip-path=\"url(#clip292)\" cx=\"1146.56\" cy=\"745.471\" r=\"14\" fill=\"#4682b4\" fill-rule=\"evenodd\" fill-opacity=\"1\" stroke=\"#000000\" stroke-opacity=\"1\" stroke-width=\"2.4\"/>\n",
       "<circle clip-path=\"url(#clip292)\" cx=\"1128.33\" cy=\"376.539\" r=\"14\" fill=\"#4682b4\" fill-rule=\"evenodd\" fill-opacity=\"1\" stroke=\"#000000\" stroke-opacity=\"1\" stroke-width=\"2.4\"/>\n",
       "<circle clip-path=\"url(#clip292)\" cx=\"1186.15\" cy=\"389.613\" r=\"14\" fill=\"#4682b4\" fill-rule=\"evenodd\" fill-opacity=\"1\" stroke=\"#000000\" stroke-opacity=\"1\" stroke-width=\"2.4\"/>\n",
       "<path clip-path=\"url(#clip290)\" d=\"\n",
       "M1886.99 237.826 L2280.8 237.826 L2280.8 82.3056 L1886.99 82.3056  Z\n",
       "  \" fill=\"#ffffff\" fill-rule=\"evenodd\" fill-opacity=\"1\"/>\n",
       "<polyline clip-path=\"url(#clip290)\" style=\"stroke:#000000; stroke-linecap:butt; stroke-linejoin:round; stroke-width:4; stroke-opacity:1; fill:none\" points=\"\n",
       "  1886.99,237.826 2280.8,237.826 2280.8,82.3056 1886.99,82.3056 1886.99,237.826 \n",
       "  \"/>\n",
       "<circle clip-path=\"url(#clip290)\" cx=\"1982.94\" cy=\"134.146\" r=\"23\" fill=\"#cd5c5c\" fill-rule=\"evenodd\" fill-opacity=\"1\" stroke=\"#000000\" stroke-opacity=\"1\" stroke-width=\"3.84\"/>\n",
       "<path clip-path=\"url(#clip290)\" d=\"M2106.76 119.528 L2106.76 124.458 Q2104.4 122.259 2101.71 121.171 Q2099.05 120.083 2096.04 120.083 Q2090.11 120.083 2086.97 123.717 Q2083.82 127.328 2083.82 134.18 Q2083.82 141.009 2086.97 144.643 Q2090.11 148.254 2096.04 148.254 Q2099.05 148.254 2101.71 147.166 Q2104.4 146.078 2106.76 143.879 L2106.76 148.764 Q2104.3 150.43 2101.55 151.264 Q2098.82 152.097 2095.76 152.097 Q2087.91 152.097 2083.4 147.305 Q2078.89 142.49 2078.89 134.18 Q2078.89 125.847 2083.4 121.055 Q2087.91 116.241 2095.76 116.241 Q2098.86 116.241 2101.6 117.074 Q2104.35 117.884 2106.76 119.528 Z\" fill=\"#000000\" fill-rule=\"evenodd\" fill-opacity=\"1\" /><path clip-path=\"url(#clip290)\" d=\"M2123.84 128.486 Q2120.41 128.486 2118.42 131.171 Q2116.43 133.833 2116.43 138.486 Q2116.43 143.139 2118.4 145.824 Q2120.39 148.486 2123.84 148.486 Q2127.24 148.486 2129.23 145.801 Q2131.22 143.115 2131.22 138.486 Q2131.22 133.879 2129.23 131.194 Q2127.24 128.486 2123.84 128.486 M2123.84 124.875 Q2129.4 124.875 2132.57 128.486 Q2135.74 132.097 2135.74 138.486 Q2135.74 144.852 2132.57 148.486 Q2129.4 152.097 2123.84 152.097 Q2118.26 152.097 2115.09 148.486 Q2111.94 144.852 2111.94 138.486 Q2111.94 132.097 2115.09 128.486 Q2118.26 124.875 2123.84 124.875 Z\" fill=\"#000000\" fill-rule=\"evenodd\" fill-opacity=\"1\" /><path clip-path=\"url(#clip290)\" d=\"M2154.58 138.393 Q2149.42 138.393 2147.43 139.574 Q2145.44 140.754 2145.44 143.602 Q2145.44 145.87 2146.92 147.213 Q2148.42 148.532 2150.99 148.532 Q2154.53 148.532 2156.66 146.032 Q2158.82 143.509 2158.82 139.342 L2158.82 138.393 L2154.58 138.393 M2163.08 136.634 L2163.08 151.426 L2158.82 151.426 L2158.82 147.49 Q2157.36 149.851 2155.18 150.986 Q2153.01 152.097 2149.86 152.097 Q2145.88 152.097 2143.52 149.875 Q2141.18 147.629 2141.18 143.879 Q2141.18 139.504 2144.1 137.282 Q2147.03 135.06 2152.85 135.06 L2158.82 135.06 L2158.82 134.643 Q2158.82 131.703 2156.87 130.106 Q2154.95 128.486 2151.46 128.486 Q2149.23 128.486 2147.13 129.018 Q2145.02 129.551 2143.08 130.615 L2143.08 126.68 Q2145.41 125.778 2147.61 125.338 Q2149.81 124.875 2151.9 124.875 Q2157.52 124.875 2160.3 127.791 Q2163.08 130.708 2163.08 136.634 Z\" fill=\"#000000\" fill-rule=\"evenodd\" fill-opacity=\"1\" /><path clip-path=\"url(#clip290)\" d=\"M2176.06 118.139 L2176.06 125.5 L2184.84 125.5 L2184.84 128.81 L2176.06 128.81 L2176.06 142.884 Q2176.06 146.055 2176.92 146.958 Q2177.8 147.861 2180.46 147.861 L2184.84 147.861 L2184.84 151.426 L2180.46 151.426 Q2175.53 151.426 2173.66 149.597 Q2171.78 147.745 2171.78 142.884 L2171.78 128.81 L2168.66 128.81 L2168.66 125.5 L2171.78 125.5 L2171.78 118.139 L2176.06 118.139 Z\" fill=\"#000000\" fill-rule=\"evenodd\" fill-opacity=\"1\" /><circle clip-path=\"url(#clip290)\" cx=\"1982.94\" cy=\"185.986\" r=\"23\" fill=\"#4682b4\" fill-rule=\"evenodd\" fill-opacity=\"1\" stroke=\"#000000\" stroke-opacity=\"1\" stroke-width=\"3.84\"/>\n",
       "<path clip-path=\"url(#clip290)\" d=\"M2101.13 169.84 L2101.13 174.4 Q2098.47 173.127 2096.11 172.502 Q2093.75 171.877 2091.55 171.877 Q2087.73 171.877 2085.65 173.358 Q2083.59 174.84 2083.59 177.571 Q2083.59 179.863 2084.95 181.043 Q2086.34 182.201 2090.18 182.918 L2093.01 183.497 Q2098.24 184.493 2100.72 187.016 Q2103.22 189.516 2103.22 193.729 Q2103.22 198.752 2099.84 201.344 Q2096.48 203.937 2089.98 203.937 Q2087.52 203.937 2084.74 203.381 Q2081.99 202.826 2079.03 201.738 L2079.03 196.923 Q2081.87 198.52 2084.6 199.33 Q2087.34 200.141 2089.98 200.141 Q2093.98 200.141 2096.16 198.567 Q2098.33 196.992 2098.33 194.076 Q2098.33 191.53 2096.76 190.094 Q2095.21 188.659 2091.64 187.942 L2088.79 187.386 Q2083.56 186.344 2081.23 184.122 Q2078.89 181.9 2078.89 177.942 Q2078.89 173.358 2082.1 170.719 Q2085.35 168.081 2091.02 168.081 Q2093.45 168.081 2095.97 168.52 Q2098.49 168.96 2101.13 169.84 Z\" fill=\"#000000\" fill-rule=\"evenodd\" fill-opacity=\"1\" /><path clip-path=\"url(#clip290)\" d=\"M2122.1 190.233 Q2116.94 190.233 2114.95 191.414 Q2112.96 192.594 2112.96 195.442 Q2112.96 197.71 2114.44 199.053 Q2115.95 200.372 2118.52 200.372 Q2122.06 200.372 2124.19 197.872 Q2126.34 195.349 2126.34 191.182 L2126.34 190.233 L2122.1 190.233 M2130.6 188.474 L2130.6 203.266 L2126.34 203.266 L2126.34 199.33 Q2124.88 201.691 2122.71 202.826 Q2120.53 203.937 2117.38 203.937 Q2113.4 203.937 2111.04 201.715 Q2108.7 199.469 2108.7 195.719 Q2108.7 191.344 2111.62 189.122 Q2114.56 186.9 2120.37 186.9 L2126.34 186.9 L2126.34 186.483 Q2126.34 183.543 2124.4 181.946 Q2122.47 180.326 2118.98 180.326 Q2116.76 180.326 2114.65 180.858 Q2112.54 181.391 2110.6 182.455 L2110.6 178.52 Q2112.94 177.618 2115.14 177.178 Q2117.34 176.715 2119.42 176.715 Q2125.04 176.715 2127.82 179.631 Q2130.6 182.548 2130.6 188.474 Z\" fill=\"#000000\" fill-rule=\"evenodd\" fill-opacity=\"1\" /><path clip-path=\"url(#clip290)\" d=\"M2160.92 187.617 L2160.92 203.266 L2156.66 203.266 L2156.66 187.756 Q2156.66 184.076 2155.23 182.247 Q2153.79 180.418 2150.92 180.418 Q2147.47 180.418 2145.48 182.618 Q2143.49 184.817 2143.49 188.613 L2143.49 203.266 L2139.21 203.266 L2139.21 177.34 L2143.49 177.34 L2143.49 181.368 Q2145.02 179.03 2147.08 177.872 Q2149.16 176.715 2151.87 176.715 Q2156.34 176.715 2158.63 179.493 Q2160.92 182.247 2160.92 187.617 Z\" fill=\"#000000\" fill-rule=\"evenodd\" fill-opacity=\"1\" /><path clip-path=\"url(#clip290)\" d=\"M2186.48 181.275 L2186.48 167.247 L2190.74 167.247 L2190.74 203.266 L2186.48 203.266 L2186.48 199.377 Q2185.14 201.691 2183.08 202.826 Q2181.04 203.937 2178.17 203.937 Q2173.47 203.937 2170.51 200.187 Q2167.57 196.437 2167.57 190.326 Q2167.57 184.215 2170.51 180.465 Q2173.47 176.715 2178.17 176.715 Q2181.04 176.715 2183.08 177.849 Q2185.14 178.96 2186.48 181.275 M2171.97 190.326 Q2171.97 195.025 2173.89 197.71 Q2175.83 200.372 2179.21 200.372 Q2182.59 200.372 2184.53 197.71 Q2186.48 195.025 2186.48 190.326 Q2186.48 185.627 2184.53 182.965 Q2182.59 180.28 2179.21 180.28 Q2175.83 180.28 2173.89 182.965 Q2171.97 185.627 2171.97 190.326 Z\" fill=\"#000000\" fill-rule=\"evenodd\" fill-opacity=\"1\" /><path clip-path=\"url(#clip290)\" d=\"M2211.29 190.233 Q2206.13 190.233 2204.14 191.414 Q2202.15 192.594 2202.15 195.442 Q2202.15 197.71 2203.63 199.053 Q2205.14 200.372 2207.71 200.372 Q2211.25 200.372 2213.38 197.872 Q2215.53 195.349 2215.53 191.182 L2215.53 190.233 L2211.29 190.233 M2219.79 188.474 L2219.79 203.266 L2215.53 203.266 L2215.53 199.33 Q2214.07 201.691 2211.9 202.826 Q2209.72 203.937 2206.57 203.937 Q2202.59 203.937 2200.23 201.715 Q2197.89 199.469 2197.89 195.719 Q2197.89 191.344 2200.81 189.122 Q2203.75 186.9 2209.56 186.9 L2215.53 186.9 L2215.53 186.483 Q2215.53 183.543 2213.59 181.946 Q2211.66 180.326 2208.17 180.326 Q2205.95 180.326 2203.84 180.858 Q2201.73 181.391 2199.79 182.455 L2199.79 178.52 Q2202.13 177.618 2204.33 177.178 Q2206.53 176.715 2208.61 176.715 Q2214.23 176.715 2217.01 179.631 Q2219.79 182.548 2219.79 188.474 Z\" fill=\"#000000\" fill-rule=\"evenodd\" fill-opacity=\"1\" /><path clip-path=\"url(#clip290)\" d=\"M2228.56 167.247 L2232.82 167.247 L2232.82 203.266 L2228.56 203.266 L2228.56 167.247 Z\" fill=\"#000000\" fill-rule=\"evenodd\" fill-opacity=\"1\" /></svg>\n"
      ]
     },
     "execution_count": 29,
     "metadata": {},
     "output_type": "execute_result"
    }
   ],
   "source": [
    "scatter(X_Pr[1, Y .== l₁], X_Pr[2, Y .== l₁], \n",
    "            color = :indianred,\n",
    "            label = labels[l₁],\n",
    "            size = (800,300))\n",
    "scatter!(X_Pr[1, Y .== l₂], X_Pr[2, Y .== l₂], \n",
    "            color = :steelblue,\n",
    "            label = labels[l₂],\n",
    "            size = (600,300))"
   ]
  },
  {
   "cell_type": "markdown",
   "metadata": {},
   "source": [
    "## Support Vector Machine\n",
    "\n",
    "The first attempt to learn an algorithm for classification is using an SVM.\n",
    "\n",
    "We will use the simple kernel that gives back the standard inner product between data points."
   ]
  },
  {
   "cell_type": "code",
   "execution_count": 30,
   "metadata": {},
   "outputs": [
    {
     "data": {
      "text/plain": [
       "κ (generic function with 1 method)"
      ]
     },
     "execution_count": 30,
     "metadata": {},
     "output_type": "execute_result"
    }
   ],
   "source": [
    "κ(x₁,x₂) = x₁ ⋅ x₂"
   ]
  },
  {
   "cell_type": "markdown",
   "metadata": {},
   "source": [
    "The kernel defines a kernel matrix as follows:"
   ]
  },
  {
   "cell_type": "code",
   "execution_count": 31,
   "metadata": {},
   "outputs": [],
   "source": [
    "G = [κ(x₁,x₂) for (x₁,x₂) in \n",
    "        Iterators.product(X_vec,X_vec)];"
   ]
  },
  {
   "cell_type": "markdown",
   "metadata": {},
   "source": [
    "We also need to transform the output data so that it takes values in $\\{-1,1\\}$."
   ]
  },
  {
   "cell_type": "code",
   "execution_count": 32,
   "metadata": {},
   "outputs": [],
   "source": [
    "y = map(Y) do Yᵢ\n",
    "    if Yᵢ==l₁\n",
    "        -1\n",
    "    elseif Yᵢ==l₂\n",
    "        1\n",
    "    end\n",
    "    end;"
   ]
  },
  {
   "cell_type": "markdown",
   "metadata": {},
   "source": [
    "We are now ready to set up the optimization problem solving the Dual SVM.\n",
    "\n",
    "The regularization parameter is set to $C=5$.\n",
    "\n",
    "We use [JuMP](https://jump.dev/JuMP.jl/stable/) for setting up the model and [NLopt](https://github.com/JuliaOpt/NLopt.jl) for solving the optimization problem."
   ]
  },
  {
   "cell_type": "code",
   "execution_count": 33,
   "metadata": {},
   "outputs": [],
   "source": [
    "C = 5;\n",
    "model = Model(NLopt.Optimizer)\n",
    "\n",
    "set_optimizer_attribute(model, \"algorithm\", :AUGLAG)\n",
    "set_optimizer_attribute(model, \"local_optimizer\", :LD_LBFGS)\n",
    "\n",
    "@variable(model, α[1:n]);"
   ]
  },
  {
   "cell_type": "markdown",
   "metadata": {},
   "source": [
    "The constraints are defined next:"
   ]
  },
  {
   "cell_type": "code",
   "execution_count": 34,
   "metadata": {},
   "outputs": [],
   "source": [
    "@constraint(model, c₁, sum(y .* α) .== 0);\n",
    "@constraint(model, c₂, α .>= zeros(n));\n",
    "@constraint(model, c₃, α .<= C .* ones(n));"
   ]
  },
  {
   "cell_type": "markdown",
   "metadata": {},
   "source": [
    "Finally, we define the objective function."
   ]
  },
  {
   "cell_type": "code",
   "execution_count": 35,
   "metadata": {},
   "outputs": [],
   "source": [
    "@objective(model, Min, \n",
    "           4 * sum(α) - sum(y[i]*α[i]*y[j]*α[j]*G[i,j] \n",
    "            for (i,j) in Iterators.product(1:n,1:n)));"
   ]
  },
  {
   "cell_type": "markdown",
   "metadata": {},
   "source": [
    "Using the following command we can now solve the optimization problem "
   ]
  },
  {
   "cell_type": "code",
   "execution_count": 36,
   "metadata": {},
   "outputs": [],
   "source": [
    "JuMP.optimize!(model)"
   ]
  },
  {
   "cell_type": "markdown",
   "metadata": {},
   "source": [
    "We use the optimal value to define $\\psi$ and $b$ for our SVM."
   ]
  },
  {
   "cell_type": "code",
   "execution_count": 37,
   "metadata": {},
   "outputs": [
    {
     "data": {
      "text/plain": [
       "8.056516850561867"
      ]
     },
     "execution_count": 37,
     "metadata": {},
     "output_type": "execute_result"
    }
   ],
   "source": [
    "α_opt = value.(α);\n",
    "ψ(x) =  sum(0.5 * y[i] * α_opt[i] * κ(x, X_vec[i]) for i in 1:n)\n",
    "b = median(y[i] - ψ(X_vec[i]) for i in 1:n if abs(α_opt[i]) > 1e-8)"
   ]
  },
  {
   "cell_type": "markdown",
   "metadata": {},
   "source": [
    "This defines the following function for classification."
   ]
  },
  {
   "cell_type": "code",
   "execution_count": 38,
   "metadata": {},
   "outputs": [
    {
     "data": {
      "text/plain": [
       "f_class (generic function with 1 method)"
      ]
     },
     "execution_count": 38,
     "metadata": {},
     "output_type": "execute_result"
    }
   ],
   "source": [
    "f_class(x) = Int(sign(ψ(x) + b))"
   ]
  },
  {
   "cell_type": "markdown",
   "metadata": {},
   "source": [
    "We can use `f_class` in a prediction function:"
   ]
  },
  {
   "cell_type": "code",
   "execution_count": 39,
   "metadata": {},
   "outputs": [
    {
     "data": {
      "text/plain": [
       "predict (generic function with 1 method)"
      ]
     },
     "execution_count": 39,
     "metadata": {},
     "output_type": "execute_result"
    }
   ],
   "source": [
    "function predict(f, x)\n",
    "    if f(x) == -1\n",
    "        println(\"This is a $(labels[l₁]):\")\n",
    "    elseif f(x) == 1\n",
    "         println(\"This is a $(labels[l₂]):\")\n",
    "    end\n",
    "end"
   ]
  },
  {
   "cell_type": "markdown",
   "metadata": {},
   "source": [
    "#### How well does our prediction function work?\n",
    "\n",
    "We can now check the quality of our prediction function.\n",
    "\n",
    "For instance, we can randomly choose items from the test data and let our algorithm predict what item it is."
   ]
  },
  {
   "cell_type": "code",
   "execution_count": 40,
   "metadata": {},
   "outputs": [
    {
     "name": "stdout",
     "output_type": "stream",
     "text": [
      "This is a Sandal:\n"
     ]
    },
    {
     "data": {
      "image/png": "[encoded data removed]",
      "text/plain": [
       "28×28 reinterpret(reshape, Gray{N0f8}, ::Array{N0f8,2}) with eltype Gray{N0f8}:\n",
       " Gray{N0f8}(0.0)    Gray{N0f8}(0.0)    …  Gray{N0f8}(0.0)\n",
       " Gray{N0f8}(0.0)    Gray{N0f8}(0.0)       Gray{N0f8}(0.0)\n",
       " Gray{N0f8}(0.0)    Gray{N0f8}(0.0)       Gray{N0f8}(0.0)\n",
       " Gray{N0f8}(0.0)    Gray{N0f8}(0.0)       Gray{N0f8}(0.0)\n",
       " Gray{N0f8}(0.0)    Gray{N0f8}(0.0)       Gray{N0f8}(0.0)\n",
       " Gray{N0f8}(0.0)    Gray{N0f8}(0.0)    …  Gray{N0f8}(0.0)\n",
       " Gray{N0f8}(0.0)    Gray{N0f8}(0.0)       Gray{N0f8}(0.0)\n",
       " Gray{N0f8}(0.0)    Gray{N0f8}(0.0)       Gray{N0f8}(0.0)\n",
       " Gray{N0f8}(0.0)    Gray{N0f8}(0.0)       Gray{N0f8}(0.0)\n",
       " Gray{N0f8}(0.0)    Gray{N0f8}(0.0)       Gray{N0f8}(0.0)\n",
       " Gray{N0f8}(0.0)    Gray{N0f8}(0.0)    …  Gray{N0f8}(0.0)\n",
       " Gray{N0f8}(0.004)  Gray{N0f8}(0.0)       Gray{N0f8}(0.0)\n",
       " Gray{N0f8}(0.004)  Gray{N0f8}(0.012)     Gray{N0f8}(0.0)\n",
       " ⋮                                     ⋱  \n",
       " Gray{N0f8}(0.149)  Gray{N0f8}(0.278)     Gray{N0f8}(0.035)\n",
       " Gray{N0f8}(0.204)  Gray{N0f8}(0.431)     Gray{N0f8}(0.098)\n",
       " Gray{N0f8}(0.0)    Gray{N0f8}(0.451)     Gray{N0f8}(0.231)\n",
       " Gray{N0f8}(0.0)    Gray{N0f8}(0.008)     Gray{N0f8}(0.0)\n",
       " Gray{N0f8}(0.004)  Gray{N0f8}(0.0)    …  Gray{N0f8}(0.0)\n",
       " Gray{N0f8}(0.0)    Gray{N0f8}(0.0)       Gray{N0f8}(0.0)\n",
       " Gray{N0f8}(0.0)    Gray{N0f8}(0.0)       Gray{N0f8}(0.0)\n",
       " Gray{N0f8}(0.0)    Gray{N0f8}(0.0)       Gray{N0f8}(0.0)\n",
       " Gray{N0f8}(0.0)    Gray{N0f8}(0.0)       Gray{N0f8}(0.0)\n",
       " Gray{N0f8}(0.0)    Gray{N0f8}(0.0)    …  Gray{N0f8}(0.0)\n",
       " Gray{N0f8}(0.0)    Gray{N0f8}(0.0)       Gray{N0f8}(0.0)\n",
       " Gray{N0f8}(0.0)    Gray{N0f8}(0.0)       Gray{N0f8}(0.0)"
      ]
     },
     "execution_count": 40,
     "metadata": {},
     "output_type": "execute_result"
    }
   ],
   "source": [
    "ℓ = rand(1:n)\n",
    "predict(f_class, X_test_vec[ℓ])\n",
    "FashionMNIST.convert2image(X_test[:,:,ℓ])"
   ]
  },
  {
   "cell_type": "markdown",
   "metadata": {},
   "source": [
    "As a second check, we plot projected test data points along with our predictions. \n"
   ]
  },
  {
   "cell_type": "code",
   "execution_count": 41,
   "metadata": {},
   "outputs": [],
   "source": [
    "x̄_test = mean(X_test_vec);\n",
    "X_test_Pr = hcat(map(x -> Pr*(x - x̄_test), X_test_vec)...);"
   ]
  },
  {
   "cell_type": "markdown",
   "metadata": {},
   "source": [
    "\n",
    "For this, we produce $y_{\\mathrm{test}}\\in\\{-1,1\\}$ for the true labels and $\\hat{y}_{\\mathrm{test}}$ is the vector of predictions "
   ]
  },
  {
   "cell_type": "code",
   "execution_count": 42,
   "metadata": {},
   "outputs": [],
   "source": [
    "y_test = map(Y_test) do y\n",
    "    if y==l₁\n",
    "        -1\n",
    "    elseif y==l₂\n",
    "        1\n",
    "    end\n",
    "    end;\n",
    "ŷ_test = map(f_class, X_test_vec);"
   ]
  },
  {
   "cell_type": "markdown",
   "metadata": {},
   "source": [
    "The visualization comes next:"
   ]
  },
  {
   "cell_type": "code",
   "execution_count": 43,
   "metadata": {},
   "outputs": [
    {
     "data": {
      "image/svg+xml": [
       "<?xml version=\"1.0\" encoding=\"utf-8\"?>\n",
       "<svg xmlns=\"http://www.w3.org/2000/svg\" xmlns:xlink=\"http://www.w3.org/1999/xlink\" width=\"600\" height=\"300\" viewBox=\"0 0 2400 1200\">\n",
       "<defs>\n",
       "  <clipPath id=\"clip330\">\n",
       "    <rect x=\"0\" y=\"0\" width=\"2400\" height=\"1200\"/>\n",
       "  </clipPath>\n",
       "</defs>\n",
       "<path clip-path=\"url(#clip330)\" d=\"\n",
       "M0 1200 L2400 1200 L2400 0 L0 0  Z\n",
       "  \" fill=\"#ffffff\" fill-rule=\"evenodd\" fill-opacity=\"1\"/>\n",
       "<defs>\n",
       "  <clipPath id=\"clip331\">\n",
       "    <rect x=\"480\" y=\"0\" width=\"1681\" height=\"1200\"/>\n",
       "  </clipPath>\n",
       "</defs>\n",
       "<path clip-path=\"url(#clip330)\" d=\"\n",
       "M193.936 1047.7 L1152.76 1047.7 L1152.76 47.2441 L193.936 47.2441  Z\n",
       "  \" fill=\"#ffffff\" fill-rule=\"evenodd\" fill-opacity=\"1\"/>\n",
       "<defs>\n",
       "  <clipPath id=\"clip332\">\n",
       "    <rect x=\"193\" y=\"47\" width=\"960\" height=\"1001\"/>\n",
       "  </clipPath>\n",
       "</defs>\n",
       "<polyline clip-path=\"url(#clip332)\" style=\"stroke:#000000; stroke-linecap:butt; stroke-linejoin:round; stroke-width:2; stroke-opacity:0.1; fill:none\" points=\"\n",
       "  264.876,1047.7 264.876,47.2441 \n",
       "  \"/>\n",
       "<polyline clip-path=\"url(#clip332)\" style=\"stroke:#000000; stroke-linecap:butt; stroke-linejoin:round; stroke-width:2; stroke-opacity:0.1; fill:none\" points=\"\n",
       "  446.579,1047.7 446.579,47.2441 \n",
       "  \"/>\n",
       "<polyline clip-path=\"url(#clip332)\" style=\"stroke:#000000; stroke-linecap:butt; stroke-linejoin:round; stroke-width:2; stroke-opacity:0.1; fill:none\" points=\"\n",
       "  628.281,1047.7 628.281,47.2441 \n",
       "  \"/>\n",
       "<polyline clip-path=\"url(#clip332)\" style=\"stroke:#000000; stroke-linecap:butt; stroke-linejoin:round; stroke-width:2; stroke-opacity:0.1; fill:none\" points=\"\n",
       "  809.984,1047.7 809.984,47.2441 \n",
       "  \"/>\n",
       "<polyline clip-path=\"url(#clip332)\" style=\"stroke:#000000; stroke-linecap:butt; stroke-linejoin:round; stroke-width:2; stroke-opacity:0.1; fill:none\" points=\"\n",
       "  991.687,1047.7 991.687,47.2441 \n",
       "  \"/>\n",
       "<polyline clip-path=\"url(#clip330)\" style=\"stroke:#000000; stroke-linecap:butt; stroke-linejoin:round; stroke-width:4; stroke-opacity:1; fill:none\" points=\"\n",
       "  193.936,1047.7 1152.76,1047.7 \n",
       "  \"/>\n",
       "<polyline clip-path=\"url(#clip330)\" style=\"stroke:#000000; stroke-linecap:butt; stroke-linejoin:round; stroke-width:4; stroke-opacity:1; fill:none\" points=\"\n",
       "  264.876,1047.7 264.876,1028.8 \n",
       "  \"/>\n",
       "<polyline clip-path=\"url(#clip330)\" style=\"stroke:#000000; stroke-linecap:butt; stroke-linejoin:round; stroke-width:4; stroke-opacity:1; fill:none\" points=\"\n",
       "  446.579,1047.7 446.579,1028.8 \n",
       "  \"/>\n",
       "<polyline clip-path=\"url(#clip330)\" style=\"stroke:#000000; stroke-linecap:butt; stroke-linejoin:round; stroke-width:4; stroke-opacity:1; fill:none\" points=\"\n",
       "  628.281,1047.7 628.281,1028.8 \n",
       "  \"/>\n",
       "<polyline clip-path=\"url(#clip330)\" style=\"stroke:#000000; stroke-linecap:butt; stroke-linejoin:round; stroke-width:4; stroke-opacity:1; fill:none\" points=\"\n",
       "  809.984,1047.7 809.984,1028.8 \n",
       "  \"/>\n",
       "<polyline clip-path=\"url(#clip330)\" style=\"stroke:#000000; stroke-linecap:butt; stroke-linejoin:round; stroke-width:4; stroke-opacity:1; fill:none\" points=\"\n",
       "  991.687,1047.7 991.687,1028.8 \n",
       "  \"/>\n",
       "<path clip-path=\"url(#clip330)\" d=\"M211.404 1093.27 L241.08 1093.27 L241.08 1097.21 L211.404 1097.21 L211.404 1093.27 Z\" fill=\"#000000\" fill-rule=\"evenodd\" fill-opacity=\"1\" /><path clip-path=\"url(#clip330)\" d=\"M251.983 1106.16 L259.622 1106.16 L259.622 1079.8 L251.311 1081.47 L251.311 1077.21 L259.575 1075.54 L264.251 1075.54 L264.251 1106.16 L271.89 1106.16 L271.89 1110.1 L251.983 1110.1 L251.983 1106.16 Z\" fill=\"#000000\" fill-rule=\"evenodd\" fill-opacity=\"1\" /><path clip-path=\"url(#clip330)\" d=\"M281.334 1104.22 L286.219 1104.22 L286.219 1110.1 L281.334 1110.1 L281.334 1104.22 Z\" fill=\"#000000\" fill-rule=\"evenodd\" fill-opacity=\"1\" /><path clip-path=\"url(#clip330)\" d=\"M306.404 1078.62 Q302.793 1078.62 300.964 1082.18 Q299.158 1085.72 299.158 1092.85 Q299.158 1099.96 300.964 1103.53 Q302.793 1107.07 306.404 1107.07 Q310.038 1107.07 311.843 1103.53 Q313.672 1099.96 313.672 1092.85 Q313.672 1085.72 311.843 1082.18 Q310.038 1078.62 306.404 1078.62 M306.404 1074.91 Q312.214 1074.91 315.269 1079.52 Q318.348 1084.1 318.348 1092.85 Q318.348 1101.58 315.269 1106.19 Q312.214 1110.77 306.404 1110.77 Q300.594 1110.77 297.515 1106.19 Q294.459 1101.58 294.459 1092.85 Q294.459 1084.1 297.515 1079.52 Q300.594 1074.91 306.404 1074.91 Z\" fill=\"#000000\" fill-rule=\"evenodd\" fill-opacity=\"1\" /><path clip-path=\"url(#clip330)\" d=\"M393.605 1093.27 L423.28 1093.27 L423.28 1097.21 L393.605 1097.21 L393.605 1093.27 Z\" fill=\"#000000\" fill-rule=\"evenodd\" fill-opacity=\"1\" /><path clip-path=\"url(#clip330)\" d=\"M443.373 1078.62 Q439.762 1078.62 437.933 1082.18 Q436.127 1085.72 436.127 1092.85 Q436.127 1099.96 437.933 1103.53 Q439.762 1107.07 443.373 1107.07 Q447.007 1107.07 448.813 1103.53 Q450.641 1099.96 450.641 1092.85 Q450.641 1085.72 448.813 1082.18 Q447.007 1078.62 443.373 1078.62 M443.373 1074.91 Q449.183 1074.91 452.238 1079.52 Q455.317 1084.1 455.317 1092.85 Q455.317 1101.58 452.238 1106.19 Q449.183 1110.77 443.373 1110.77 Q437.563 1110.77 434.484 1106.19 Q431.428 1101.58 431.428 1092.85 Q431.428 1084.1 434.484 1079.52 Q437.563 1074.91 443.373 1074.91 Z\" fill=\"#000000\" fill-rule=\"evenodd\" fill-opacity=\"1\" /><path clip-path=\"url(#clip330)\" d=\"M463.535 1104.22 L468.419 1104.22 L468.419 1110.1 L463.535 1110.1 L463.535 1104.22 Z\" fill=\"#000000\" fill-rule=\"evenodd\" fill-opacity=\"1\" /><path clip-path=\"url(#clip330)\" d=\"M478.65 1075.54 L497.007 1075.54 L497.007 1079.48 L482.933 1079.48 L482.933 1087.95 Q483.951 1087.6 484.97 1087.44 Q485.988 1087.25 487.007 1087.25 Q492.794 1087.25 496.173 1090.42 Q499.553 1093.6 499.553 1099.01 Q499.553 1104.59 496.081 1107.69 Q492.609 1110.77 486.289 1110.77 Q484.113 1110.77 481.845 1110.4 Q479.599 1110.03 477.192 1109.29 L477.192 1104.59 Q479.275 1105.72 481.498 1106.28 Q483.72 1106.84 486.197 1106.84 Q490.201 1106.84 492.539 1104.73 Q494.877 1102.62 494.877 1099.01 Q494.877 1095.4 492.539 1093.29 Q490.201 1091.19 486.197 1091.19 Q484.322 1091.19 482.447 1091.6 Q480.595 1092.02 478.65 1092.9 L478.65 1075.54 Z\" fill=\"#000000\" fill-rule=\"evenodd\" fill-opacity=\"1\" /><path clip-path=\"url(#clip330)\" d=\"M605.666 1078.62 Q602.055 1078.62 600.226 1082.18 Q598.42 1085.72 598.42 1092.85 Q598.42 1099.96 600.226 1103.53 Q602.055 1107.07 605.666 1107.07 Q609.3 1107.07 611.106 1103.53 Q612.934 1099.96 612.934 1092.85 Q612.934 1085.72 611.106 1082.18 Q609.3 1078.62 605.666 1078.62 M605.666 1074.91 Q611.476 1074.91 614.531 1079.52 Q617.61 1084.1 617.61 1092.85 Q617.61 1101.58 614.531 1106.19 Q611.476 1110.77 605.666 1110.77 Q599.856 1110.77 596.777 1106.19 Q593.721 1101.58 593.721 1092.85 Q593.721 1084.1 596.777 1079.52 Q599.856 1074.91 605.666 1074.91 Z\" fill=\"#000000\" fill-rule=\"evenodd\" fill-opacity=\"1\" /><path clip-path=\"url(#clip330)\" d=\"M625.828 1104.22 L630.712 1104.22 L630.712 1110.1 L625.828 1110.1 L625.828 1104.22 Z\" fill=\"#000000\" fill-rule=\"evenodd\" fill-opacity=\"1\" /><path clip-path=\"url(#clip330)\" d=\"M650.897 1078.62 Q647.286 1078.62 645.457 1082.18 Q643.652 1085.72 643.652 1092.85 Q643.652 1099.96 645.457 1103.53 Q647.286 1107.07 650.897 1107.07 Q654.531 1107.07 656.337 1103.53 Q658.166 1099.96 658.166 1092.85 Q658.166 1085.72 656.337 1082.18 Q654.531 1078.62 650.897 1078.62 M650.897 1074.91 Q656.707 1074.91 659.763 1079.52 Q662.841 1084.1 662.841 1092.85 Q662.841 1101.58 659.763 1106.19 Q656.707 1110.77 650.897 1110.77 Q645.087 1110.77 642.008 1106.19 Q638.953 1101.58 638.953 1092.85 Q638.953 1084.1 642.008 1079.52 Q645.087 1074.91 650.897 1074.91 Z\" fill=\"#000000\" fill-rule=\"evenodd\" fill-opacity=\"1\" /><path clip-path=\"url(#clip330)\" d=\"M787.866 1078.62 Q784.255 1078.62 782.426 1082.18 Q780.621 1085.72 780.621 1092.85 Q780.621 1099.96 782.426 1103.53 Q784.255 1107.07 787.866 1107.07 Q791.5 1107.07 793.306 1103.53 Q795.135 1099.96 795.135 1092.85 Q795.135 1085.72 793.306 1082.18 Q791.5 1078.62 787.866 1078.62 M787.866 1074.91 Q793.676 1074.91 796.732 1079.52 Q799.81 1084.1 799.81 1092.85 Q799.81 1101.58 796.732 1106.19 Q793.676 1110.77 787.866 1110.77 Q782.056 1110.77 778.977 1106.19 Q775.922 1101.58 775.922 1092.85 Q775.922 1084.1 778.977 1079.52 Q782.056 1074.91 787.866 1074.91 Z\" fill=\"#000000\" fill-rule=\"evenodd\" fill-opacity=\"1\" /><path clip-path=\"url(#clip330)\" d=\"M808.028 1104.22 L812.912 1104.22 L812.912 1110.1 L808.028 1110.1 L808.028 1104.22 Z\" fill=\"#000000\" fill-rule=\"evenodd\" fill-opacity=\"1\" /><path clip-path=\"url(#clip330)\" d=\"M823.144 1075.54 L841.5 1075.54 L841.5 1079.48 L827.426 1079.48 L827.426 1087.95 Q828.445 1087.6 829.463 1087.44 Q830.482 1087.25 831.5 1087.25 Q837.287 1087.25 840.667 1090.42 Q844.046 1093.6 844.046 1099.01 Q844.046 1104.59 840.574 1107.69 Q837.102 1110.77 830.783 1110.77 Q828.607 1110.77 826.338 1110.4 Q824.093 1110.03 821.685 1109.29 L821.685 1104.59 Q823.769 1105.72 825.991 1106.28 Q828.213 1106.84 830.69 1106.84 Q834.695 1106.84 837.032 1104.73 Q839.37 1102.62 839.37 1099.01 Q839.37 1095.4 837.032 1093.29 Q834.695 1091.19 830.69 1091.19 Q828.815 1091.19 826.94 1091.6 Q825.088 1092.02 823.144 1092.9 L823.144 1075.54 Z\" fill=\"#000000\" fill-rule=\"evenodd\" fill-opacity=\"1\" /><path clip-path=\"url(#clip330)\" d=\"M958.84 1106.16 L966.478 1106.16 L966.478 1079.8 L958.168 1081.47 L958.168 1077.21 L966.432 1075.54 L971.108 1075.54 L971.108 1106.16 L978.747 1106.16 L978.747 1110.1 L958.84 1110.1 L958.84 1106.16 Z\" fill=\"#000000\" fill-rule=\"evenodd\" fill-opacity=\"1\" /><path clip-path=\"url(#clip330)\" d=\"M988.191 1104.22 L993.076 1104.22 L993.076 1110.1 L988.191 1110.1 L988.191 1104.22 Z\" fill=\"#000000\" fill-rule=\"evenodd\" fill-opacity=\"1\" /><path clip-path=\"url(#clip330)\" d=\"M1013.26 1078.62 Q1009.65 1078.62 1007.82 1082.18 Q1006.02 1085.72 1006.02 1092.85 Q1006.02 1099.96 1007.82 1103.53 Q1009.65 1107.07 1013.26 1107.07 Q1016.89 1107.07 1018.7 1103.53 Q1020.53 1099.96 1020.53 1092.85 Q1020.53 1085.72 1018.7 1082.18 Q1016.89 1078.62 1013.26 1078.62 M1013.26 1074.91 Q1019.07 1074.91 1022.13 1079.52 Q1025.2 1084.1 1025.2 1092.85 Q1025.2 1101.58 1022.13 1106.19 Q1019.07 1110.77 1013.26 1110.77 Q1007.45 1110.77 1004.37 1106.19 Q1001.32 1101.58 1001.32 1092.85 Q1001.32 1084.1 1004.37 1079.52 Q1007.45 1074.91 1013.26 1074.91 Z\" fill=\"#000000\" fill-rule=\"evenodd\" fill-opacity=\"1\" /><path clip-path=\"url(#clip330)\" d=\"M357.591 1146.79 L357.591 1156.92 L369.654 1156.92 L369.654 1161.47 L357.591 1161.47 L357.591 1180.82 Q357.591 1185.18 358.769 1186.42 Q359.978 1187.66 363.638 1187.66 L369.654 1187.66 L369.654 1192.56 L363.638 1192.56 Q356.859 1192.56 354.281 1190.05 Q351.703 1187.5 351.703 1180.82 L351.703 1161.47 L347.406 1161.47 L347.406 1156.92 L351.703 1156.92 L351.703 1146.79 L357.591 1146.79 Z\" fill=\"#000000\" fill-rule=\"evenodd\" fill-opacity=\"1\" /><path clip-path=\"url(#clip330)\" d=\"M398.013 1162.39 Q397.027 1161.82 395.849 1161.56 Q394.703 1161.28 393.303 1161.28 Q388.337 1161.28 385.664 1164.52 Q383.022 1167.74 383.022 1173.79 L383.022 1192.56 L377.134 1192.56 L377.134 1156.92 L383.022 1156.92 L383.022 1162.45 Q384.868 1159.21 387.828 1157.65 Q390.788 1156.06 395.021 1156.06 Q395.626 1156.06 396.358 1156.15 Q397.09 1156.22 397.981 1156.37 L398.013 1162.39 Z\" fill=\"#000000\" fill-rule=\"evenodd\" fill-opacity=\"1\" /><path clip-path=\"url(#clip330)\" d=\"M403.551 1178.5 L403.551 1156.92 L409.408 1156.92 L409.408 1178.27 Q409.408 1183.33 411.381 1185.88 Q413.355 1188.39 417.301 1188.39 Q422.044 1188.39 424.781 1185.37 Q427.55 1182.35 427.55 1177.13 L427.55 1156.92 L433.407 1156.92 L433.407 1192.56 L427.55 1192.56 L427.55 1187.09 Q425.418 1190.34 422.585 1191.93 Q419.784 1193.49 416.06 1193.49 Q409.917 1193.49 406.734 1189.67 Q403.551 1185.85 403.551 1178.5 M418.288 1156.06 L418.288 1156.06 Z\" fill=\"#000000\" fill-rule=\"evenodd\" fill-opacity=\"1\" /><path clip-path=\"url(#clip330)\" d=\"M475.961 1173.28 L475.961 1176.14 L449.034 1176.14 Q449.416 1182.19 452.663 1185.37 Q455.941 1188.52 461.766 1188.52 Q465.14 1188.52 468.291 1187.69 Q471.473 1186.87 474.593 1185.21 L474.593 1190.75 Q471.442 1192.09 468.131 1192.79 Q464.821 1193.49 461.416 1193.49 Q452.886 1193.49 447.889 1188.52 Q442.923 1183.56 442.923 1175.09 Q442.923 1166.34 447.634 1161.21 Q452.376 1156.06 460.397 1156.06 Q467.59 1156.06 471.76 1160.7 Q475.961 1165.32 475.961 1173.28 M470.105 1171.56 Q470.041 1166.75 467.399 1163.89 Q464.789 1161.02 460.461 1161.02 Q455.559 1161.02 452.599 1163.79 Q449.671 1166.56 449.225 1171.59 L470.105 1171.56 Z\" fill=\"#000000\" fill-rule=\"evenodd\" fill-opacity=\"1\" /><path clip-path=\"url(#clip330)\" d=\"M506.294 1143.04 L512.15 1143.04 L512.15 1192.56 L506.294 1192.56 L506.294 1143.04 Z\" fill=\"#000000\" fill-rule=\"evenodd\" fill-opacity=\"1\" /><path clip-path=\"url(#clip330)\" d=\"M540.605 1174.64 Q533.507 1174.64 530.77 1176.27 Q528.033 1177.89 528.033 1181.81 Q528.033 1184.92 530.07 1186.77 Q532.139 1188.59 535.672 1188.59 Q540.541 1188.59 543.47 1185.15 Q546.43 1181.68 546.43 1175.95 L546.43 1174.64 L540.605 1174.64 M552.286 1172.23 L552.286 1192.56 L546.43 1192.56 L546.43 1187.15 Q544.424 1190.4 541.433 1191.96 Q538.441 1193.49 534.112 1193.49 Q528.638 1193.49 525.391 1190.43 Q522.176 1187.34 522.176 1182.19 Q522.176 1176.17 526.187 1173.12 Q530.229 1170.06 538.218 1170.06 L546.43 1170.06 L546.43 1169.49 Q546.43 1165.45 543.756 1163.25 Q541.114 1161.02 536.308 1161.02 Q533.253 1161.02 530.356 1161.75 Q527.46 1162.49 524.786 1163.95 L524.786 1158.54 Q528.001 1157.3 531.025 1156.69 Q534.048 1156.06 536.913 1156.06 Q544.647 1156.06 548.467 1160.07 Q552.286 1164.08 552.286 1172.23 Z\" fill=\"#000000\" fill-rule=\"evenodd\" fill-opacity=\"1\" /><path clip-path=\"url(#clip330)\" d=\"M589.939 1174.77 Q589.939 1168.31 587.266 1164.65 Q584.624 1160.96 579.977 1160.96 Q575.33 1160.96 572.656 1164.65 Q570.015 1168.31 570.015 1174.77 Q570.015 1181.23 572.656 1184.92 Q575.33 1188.59 579.977 1188.59 Q584.624 1188.59 587.266 1184.92 Q589.939 1181.23 589.939 1174.77 M570.015 1162.33 Q571.861 1159.14 574.662 1157.62 Q577.494 1156.06 581.409 1156.06 Q587.902 1156.06 591.944 1161.21 Q596.019 1166.37 596.019 1174.77 Q596.019 1183.17 591.944 1188.33 Q587.902 1193.49 581.409 1193.49 Q577.494 1193.49 574.662 1191.96 Q571.861 1190.4 570.015 1187.22 L570.015 1192.56 L564.126 1192.56 L564.126 1143.04 L570.015 1143.04 L570.015 1162.33 Z\" fill=\"#000000\" fill-rule=\"evenodd\" fill-opacity=\"1\" /><path clip-path=\"url(#clip330)\" d=\"M636.218 1173.28 L636.218 1176.14 L609.291 1176.14 Q609.673 1182.19 612.919 1185.37 Q616.198 1188.52 622.022 1188.52 Q625.396 1188.52 628.547 1187.69 Q631.73 1186.87 634.849 1185.21 L634.849 1190.75 Q631.698 1192.09 628.388 1192.79 Q625.078 1193.49 621.672 1193.49 Q613.142 1193.49 608.145 1188.52 Q603.18 1183.56 603.18 1175.09 Q603.18 1166.34 607.891 1161.21 Q612.633 1156.06 620.654 1156.06 Q627.847 1156.06 632.017 1160.7 Q636.218 1165.32 636.218 1173.28 M630.362 1171.56 Q630.298 1166.75 627.656 1163.89 Q625.046 1161.02 620.717 1161.02 Q615.816 1161.02 612.856 1163.79 Q609.928 1166.56 609.482 1171.59 L630.362 1171.56 Z\" fill=\"#000000\" fill-rule=\"evenodd\" fill-opacity=\"1\" /><path clip-path=\"url(#clip330)\" d=\"M645.83 1143.04 L651.687 1143.04 L651.687 1192.56 L645.83 1192.56 L645.83 1143.04 Z\" fill=\"#000000\" fill-rule=\"evenodd\" fill-opacity=\"1\" /><path clip-path=\"url(#clip330)\" d=\"M686.666 1157.97 L686.666 1163.5 Q684.184 1162.23 681.51 1161.59 Q678.836 1160.96 675.972 1160.96 Q671.611 1160.96 669.415 1162.29 Q667.251 1163.63 667.251 1166.31 Q667.251 1168.34 668.81 1169.52 Q670.37 1170.67 675.081 1171.72 L677.086 1172.16 Q683.324 1173.5 685.934 1175.95 Q688.576 1178.37 688.576 1182.73 Q688.576 1187.69 684.629 1190.59 Q680.714 1193.49 673.839 1193.49 Q670.975 1193.49 667.856 1192.91 Q664.768 1192.37 661.331 1191.26 L661.331 1185.21 Q664.577 1186.9 667.728 1187.76 Q670.879 1188.59 673.967 1188.59 Q678.104 1188.59 680.332 1187.18 Q682.56 1185.75 682.56 1183.17 Q682.56 1180.79 680.937 1179.51 Q679.346 1178.24 673.903 1177.06 L671.866 1176.59 Q666.423 1175.44 664.004 1173.08 Q661.585 1170.7 661.585 1166.56 Q661.585 1161.53 665.15 1158.79 Q668.715 1156.06 675.272 1156.06 Q678.518 1156.06 681.383 1156.53 Q684.247 1157.01 686.666 1157.97 Z\" fill=\"#000000\" fill-rule=\"evenodd\" fill-opacity=\"1\" /><path clip-path=\"url(#clip330)\" d=\"M724.415 1146.79 L724.415 1156.92 L736.478 1156.92 L736.478 1161.47 L724.415 1161.47 L724.415 1180.82 Q724.415 1185.18 725.592 1186.42 Q726.802 1187.66 730.462 1187.66 L736.478 1187.66 L736.478 1192.56 L730.462 1192.56 Q723.683 1192.56 721.105 1190.05 Q718.527 1187.5 718.527 1180.82 L718.527 1161.47 L714.23 1161.47 L714.23 1156.92 L718.527 1156.92 L718.527 1146.79 L724.415 1146.79 Z\" fill=\"#000000\" fill-rule=\"evenodd\" fill-opacity=\"1\" /><path clip-path=\"url(#clip330)\" d=\"M774.672 1173.28 L774.672 1176.14 L747.745 1176.14 Q748.127 1182.19 751.374 1185.37 Q754.652 1188.52 760.477 1188.52 Q763.85 1188.52 767.001 1187.69 Q770.184 1186.87 773.303 1185.21 L773.303 1190.75 Q770.152 1192.09 766.842 1192.79 Q763.532 1193.49 760.126 1193.49 Q751.596 1193.49 746.599 1188.52 Q741.634 1183.56 741.634 1175.09 Q741.634 1166.34 746.345 1161.21 Q751.087 1156.06 759.108 1156.06 Q766.301 1156.06 770.471 1160.7 Q774.672 1165.32 774.672 1173.28 M768.816 1171.56 Q768.752 1166.75 766.11 1163.89 Q763.5 1161.02 759.172 1161.02 Q754.27 1161.02 751.31 1163.79 Q748.382 1166.56 747.936 1171.59 L768.816 1171.56 Z\" fill=\"#000000\" fill-rule=\"evenodd\" fill-opacity=\"1\" /><path clip-path=\"url(#clip330)\" d=\"M807.01 1157.97 L807.01 1163.5 Q804.527 1162.23 801.854 1161.59 Q799.18 1160.96 796.315 1160.96 Q791.955 1160.96 789.759 1162.29 Q787.594 1163.63 787.594 1166.31 Q787.594 1168.34 789.154 1169.52 Q790.714 1170.67 795.424 1171.72 L797.429 1172.16 Q803.668 1173.5 806.278 1175.95 Q808.92 1178.37 808.92 1182.73 Q808.92 1187.69 804.973 1190.59 Q801.058 1193.49 794.183 1193.49 Q791.318 1193.49 788.199 1192.91 Q785.112 1192.37 781.674 1191.26 L781.674 1185.21 Q784.921 1186.9 788.072 1187.76 Q791.223 1188.59 794.31 1188.59 Q798.448 1188.59 800.676 1187.18 Q802.904 1185.75 802.904 1183.17 Q802.904 1180.79 801.281 1179.51 Q799.689 1178.24 794.247 1177.06 L792.21 1176.59 Q786.767 1175.44 784.348 1173.08 Q781.929 1170.7 781.929 1166.56 Q781.929 1161.53 785.494 1158.79 Q789.059 1156.06 795.615 1156.06 Q798.862 1156.06 801.726 1156.53 Q804.591 1157.01 807.01 1157.97 Z\" fill=\"#000000\" fill-rule=\"evenodd\" fill-opacity=\"1\" /><path clip-path=\"url(#clip330)\" d=\"M824.038 1146.79 L824.038 1156.92 L836.101 1156.92 L836.101 1161.47 L824.038 1161.47 L824.038 1180.82 Q824.038 1185.18 825.216 1186.42 Q826.425 1187.66 830.086 1187.66 L836.101 1187.66 L836.101 1192.56 L830.086 1192.56 Q823.306 1192.56 820.728 1190.05 Q818.15 1187.5 818.15 1180.82 L818.15 1161.47 L813.853 1161.47 L813.853 1156.92 L818.15 1156.92 L818.15 1146.79 L824.038 1146.79 Z\" fill=\"#000000\" fill-rule=\"evenodd\" fill-opacity=\"1\" /><path clip-path=\"url(#clip330)\" d=\"M887.982 1162.33 L887.982 1143.04 L893.838 1143.04 L893.838 1192.56 L887.982 1192.56 L887.982 1187.22 Q886.136 1190.4 883.303 1191.96 Q880.502 1193.49 876.555 1193.49 Q870.094 1193.49 866.02 1188.33 Q861.978 1183.17 861.978 1174.77 Q861.978 1166.37 866.02 1161.21 Q870.094 1156.06 876.555 1156.06 Q880.502 1156.06 883.303 1157.62 Q886.136 1159.14 887.982 1162.33 M868.025 1174.77 Q868.025 1181.23 870.667 1184.92 Q873.341 1188.59 877.988 1188.59 Q882.634 1188.59 885.308 1184.92 Q887.982 1181.23 887.982 1174.77 Q887.982 1168.31 885.308 1164.65 Q882.634 1160.96 877.988 1160.96 Q873.341 1160.96 870.667 1164.65 Q868.025 1168.31 868.025 1174.77 Z\" fill=\"#000000\" fill-rule=\"evenodd\" fill-opacity=\"1\" /><path clip-path=\"url(#clip330)\" d=\"M922.102 1174.64 Q915.004 1174.64 912.267 1176.27 Q909.53 1177.89 909.53 1181.81 Q909.53 1184.92 911.567 1186.77 Q913.635 1188.59 917.168 1188.59 Q922.038 1188.59 924.966 1185.15 Q927.926 1181.68 927.926 1175.95 L927.926 1174.64 L922.102 1174.64 M933.783 1172.23 L933.783 1192.56 L927.926 1192.56 L927.926 1187.15 Q925.921 1190.4 922.929 1191.96 Q919.938 1193.49 915.609 1193.49 Q910.134 1193.49 906.888 1190.43 Q903.673 1187.34 903.673 1182.19 Q903.673 1176.17 907.684 1173.12 Q911.726 1170.06 919.715 1170.06 L927.926 1170.06 L927.926 1169.49 Q927.926 1165.45 925.253 1163.25 Q922.611 1161.02 917.805 1161.02 Q914.749 1161.02 911.853 1161.75 Q908.957 1162.49 906.283 1163.95 L906.283 1158.54 Q909.498 1157.3 912.521 1156.69 Q915.545 1156.06 918.41 1156.06 Q926.144 1156.06 929.964 1160.07 Q933.783 1164.08 933.783 1172.23 Z\" fill=\"#000000\" fill-rule=\"evenodd\" fill-opacity=\"1\" /><path clip-path=\"url(#clip330)\" d=\"M951.639 1146.79 L951.639 1156.92 L963.702 1156.92 L963.702 1161.47 L951.639 1161.47 L951.639 1180.82 Q951.639 1185.18 952.816 1186.42 Q954.026 1187.66 957.686 1187.66 L963.702 1187.66 L963.702 1192.56 L957.686 1192.56 Q950.907 1192.56 948.329 1190.05 Q945.75 1187.5 945.75 1180.82 L945.75 1161.47 L941.454 1161.47 L941.454 1156.92 L945.75 1156.92 L945.75 1146.79 L951.639 1146.79 Z\" fill=\"#000000\" fill-rule=\"evenodd\" fill-opacity=\"1\" /><path clip-path=\"url(#clip330)\" d=\"M987.605 1174.64 Q980.507 1174.64 977.77 1176.27 Q975.033 1177.89 975.033 1181.81 Q975.033 1184.92 977.07 1186.77 Q979.139 1188.59 982.672 1188.59 Q987.541 1188.59 990.47 1185.15 Q993.43 1181.68 993.43 1175.95 L993.43 1174.64 L987.605 1174.64 M999.286 1172.23 L999.286 1192.56 L993.43 1192.56 L993.43 1187.15 Q991.424 1190.4 988.433 1191.96 Q985.441 1193.49 981.112 1193.49 Q975.637 1193.49 972.391 1190.43 Q969.176 1187.34 969.176 1182.19 Q969.176 1176.17 973.187 1173.12 Q977.229 1170.06 985.218 1170.06 L993.43 1170.06 L993.43 1169.49 Q993.43 1165.45 990.756 1163.25 Q988.114 1161.02 983.308 1161.02 Q980.253 1161.02 977.356 1161.75 Q974.46 1162.49 971.786 1163.95 L971.786 1158.54 Q975.001 1157.3 978.025 1156.69 Q981.048 1156.06 983.913 1156.06 Q991.647 1156.06 995.467 1160.07 Q999.286 1164.08 999.286 1172.23 Z\" fill=\"#000000\" fill-rule=\"evenodd\" fill-opacity=\"1\" /><polyline clip-path=\"url(#clip332)\" style=\"stroke:#000000; stroke-linecap:butt; stroke-linejoin:round; stroke-width:2; stroke-opacity:0.1; fill:none\" points=\"\n",
       "  193.936,1020.07 1152.76,1020.07 \n",
       "  \"/>\n",
       "<polyline clip-path=\"url(#clip332)\" style=\"stroke:#000000; stroke-linecap:butt; stroke-linejoin:round; stroke-width:2; stroke-opacity:0.1; fill:none\" points=\"\n",
       "  193.936,808.448 1152.76,808.448 \n",
       "  \"/>\n",
       "<polyline clip-path=\"url(#clip332)\" style=\"stroke:#000000; stroke-linecap:butt; stroke-linejoin:round; stroke-width:2; stroke-opacity:0.1; fill:none\" points=\"\n",
       "  193.936,596.829 1152.76,596.829 \n",
       "  \"/>\n",
       "<polyline clip-path=\"url(#clip332)\" style=\"stroke:#000000; stroke-linecap:butt; stroke-linejoin:round; stroke-width:2; stroke-opacity:0.1; fill:none\" points=\"\n",
       "  193.936,385.21 1152.76,385.21 \n",
       "  \"/>\n",
       "<polyline clip-path=\"url(#clip332)\" style=\"stroke:#000000; stroke-linecap:butt; stroke-linejoin:round; stroke-width:2; stroke-opacity:0.1; fill:none\" points=\"\n",
       "  193.936,173.591 1152.76,173.591 \n",
       "  \"/>\n",
       "<polyline clip-path=\"url(#clip330)\" style=\"stroke:#000000; stroke-linecap:butt; stroke-linejoin:round; stroke-width:4; stroke-opacity:1; fill:none\" points=\"\n",
       "  193.936,1047.7 193.936,47.2441 \n",
       "  \"/>\n",
       "<polyline clip-path=\"url(#clip330)\" style=\"stroke:#000000; stroke-linecap:butt; stroke-linejoin:round; stroke-width:4; stroke-opacity:1; fill:none\" points=\"\n",
       "  193.936,1020.07 212.834,1020.07 \n",
       "  \"/>\n",
       "<polyline clip-path=\"url(#clip330)\" style=\"stroke:#000000; stroke-linecap:butt; stroke-linejoin:round; stroke-width:4; stroke-opacity:1; fill:none\" points=\"\n",
       "  193.936,808.448 212.834,808.448 \n",
       "  \"/>\n",
       "<polyline clip-path=\"url(#clip330)\" style=\"stroke:#000000; stroke-linecap:butt; stroke-linejoin:round; stroke-width:4; stroke-opacity:1; fill:none\" points=\"\n",
       "  193.936,596.829 212.834,596.829 \n",
       "  \"/>\n",
       "<polyline clip-path=\"url(#clip330)\" style=\"stroke:#000000; stroke-linecap:butt; stroke-linejoin:round; stroke-width:4; stroke-opacity:1; fill:none\" points=\"\n",
       "  193.936,385.21 212.834,385.21 \n",
       "  \"/>\n",
       "<polyline clip-path=\"url(#clip330)\" style=\"stroke:#000000; stroke-linecap:butt; stroke-linejoin:round; stroke-width:4; stroke-opacity:1; fill:none\" points=\"\n",
       "  193.936,173.591 212.834,173.591 \n",
       "  \"/>\n",
       "<path clip-path=\"url(#clip330)\" d=\"M50.9921 1020.52 L80.6679 1020.52 L80.6679 1024.45 L50.9921 1024.45 L50.9921 1020.52 Z\" fill=\"#000000\" fill-rule=\"evenodd\" fill-opacity=\"1\" /><path clip-path=\"url(#clip330)\" d=\"M91.5706 1033.41 L99.2095 1033.41 L99.2095 1007.05 L90.8993 1008.71 L90.8993 1004.45 L99.1632 1002.79 L103.839 1002.79 L103.839 1033.41 L111.478 1033.41 L111.478 1037.35 L91.5706 1037.35 L91.5706 1033.41 Z\" fill=\"#000000\" fill-rule=\"evenodd\" fill-opacity=\"1\" /><path clip-path=\"url(#clip330)\" d=\"M120.922 1031.47 L125.807 1031.47 L125.807 1037.35 L120.922 1037.35 L120.922 1031.47 Z\" fill=\"#000000\" fill-rule=\"evenodd\" fill-opacity=\"1\" /><path clip-path=\"url(#clip330)\" d=\"M145.992 1005.87 Q142.381 1005.87 140.552 1009.43 Q138.746 1012.97 138.746 1020.1 Q138.746 1027.21 140.552 1030.77 Q142.381 1034.31 145.992 1034.31 Q149.626 1034.31 151.431 1030.77 Q153.26 1027.21 153.26 1020.1 Q153.26 1012.97 151.431 1009.43 Q149.626 1005.87 145.992 1005.87 M145.992 1002.16 Q151.802 1002.16 154.857 1006.77 Q157.936 1011.35 157.936 1020.1 Q157.936 1028.83 154.857 1033.44 Q151.802 1038.02 145.992 1038.02 Q140.181 1038.02 137.103 1033.44 Q134.047 1028.83 134.047 1020.1 Q134.047 1011.35 137.103 1006.77 Q140.181 1002.16 145.992 1002.16 Z\" fill=\"#000000\" fill-rule=\"evenodd\" fill-opacity=\"1\" /><path clip-path=\"url(#clip330)\" d=\"M51.9875 808.9 L81.6633 808.9 L81.6633 812.835 L51.9875 812.835 L51.9875 808.9 Z\" fill=\"#000000\" fill-rule=\"evenodd\" fill-opacity=\"1\" /><path clip-path=\"url(#clip330)\" d=\"M101.756 794.247 Q98.1447 794.247 96.316 797.812 Q94.5104 801.353 94.5104 808.483 Q94.5104 815.589 96.316 819.154 Q98.1447 822.696 101.756 822.696 Q105.39 822.696 107.196 819.154 Q109.024 815.589 109.024 808.483 Q109.024 801.353 107.196 797.812 Q105.39 794.247 101.756 794.247 M101.756 790.543 Q107.566 790.543 110.621 795.15 Q113.7 799.733 113.7 808.483 Q113.7 817.21 110.621 821.816 Q107.566 826.4 101.756 826.4 Q95.9456 826.4 92.8669 821.816 Q89.8114 817.21 89.8114 808.483 Q89.8114 799.733 92.8669 795.15 Q95.9456 790.543 101.756 790.543 Z\" fill=\"#000000\" fill-rule=\"evenodd\" fill-opacity=\"1\" /><path clip-path=\"url(#clip330)\" d=\"M121.918 819.849 L126.802 819.849 L126.802 825.728 L121.918 825.728 L121.918 819.849 Z\" fill=\"#000000\" fill-rule=\"evenodd\" fill-opacity=\"1\" /><path clip-path=\"url(#clip330)\" d=\"M137.033 791.168 L155.39 791.168 L155.39 795.103 L141.316 795.103 L141.316 803.576 Q142.334 803.228 143.353 803.066 Q144.371 802.881 145.39 802.881 Q151.177 802.881 154.556 806.052 Q157.936 809.224 157.936 814.64 Q157.936 820.219 154.464 823.321 Q150.992 826.4 144.672 826.4 Q142.496 826.4 140.228 826.029 Q137.982 825.659 135.575 824.918 L135.575 820.219 Q137.658 821.353 139.881 821.909 Q142.103 822.464 144.58 822.464 Q148.584 822.464 150.922 820.358 Q153.26 818.251 153.26 814.64 Q153.26 811.029 150.922 808.923 Q148.584 806.816 144.58 806.816 Q142.705 806.816 140.83 807.233 Q138.978 807.65 137.033 808.529 L137.033 791.168 Z\" fill=\"#000000\" fill-rule=\"evenodd\" fill-opacity=\"1\" /><path clip-path=\"url(#clip330)\" d=\"M100.76 582.628 Q97.1493 582.628 95.3206 586.193 Q93.515 589.734 93.515 596.864 Q93.515 603.97 95.3206 607.535 Q97.1493 611.077 100.76 611.077 Q104.395 611.077 106.2 607.535 Q108.029 603.97 108.029 596.864 Q108.029 589.734 106.2 586.193 Q104.395 582.628 100.76 582.628 M100.76 578.924 Q106.571 578.924 109.626 583.531 Q112.705 588.114 112.705 596.864 Q112.705 605.591 109.626 610.197 Q106.571 614.781 100.76 614.781 Q94.9502 614.781 91.8715 610.197 Q88.816 605.591 88.816 596.864 Q88.816 588.114 91.8715 583.531 Q94.9502 578.924 100.76 578.924 Z\" fill=\"#000000\" fill-rule=\"evenodd\" fill-opacity=\"1\" /><path clip-path=\"url(#clip330)\" d=\"M120.922 608.23 L125.807 608.23 L125.807 614.109 L120.922 614.109 L120.922 608.23 Z\" fill=\"#000000\" fill-rule=\"evenodd\" fill-opacity=\"1\" /><path clip-path=\"url(#clip330)\" d=\"M145.992 582.628 Q142.381 582.628 140.552 586.193 Q138.746 589.734 138.746 596.864 Q138.746 603.97 140.552 607.535 Q142.381 611.077 145.992 611.077 Q149.626 611.077 151.431 607.535 Q153.26 603.97 153.26 596.864 Q153.26 589.734 151.431 586.193 Q149.626 582.628 145.992 582.628 M145.992 578.924 Q151.802 578.924 154.857 583.531 Q157.936 588.114 157.936 596.864 Q157.936 605.591 154.857 610.197 Q151.802 614.781 145.992 614.781 Q140.181 614.781 137.103 610.197 Q134.047 605.591 134.047 596.864 Q134.047 588.114 137.103 583.531 Q140.181 578.924 145.992 578.924 Z\" fill=\"#000000\" fill-rule=\"evenodd\" fill-opacity=\"1\" /><path clip-path=\"url(#clip330)\" d=\"M101.756 371.009 Q98.1447 371.009 96.316 374.574 Q94.5104 378.115 94.5104 385.245 Q94.5104 392.352 96.316 395.916 Q98.1447 399.458 101.756 399.458 Q105.39 399.458 107.196 395.916 Q109.024 392.352 109.024 385.245 Q109.024 378.115 107.196 374.574 Q105.39 371.009 101.756 371.009 M101.756 367.305 Q107.566 367.305 110.621 371.912 Q113.7 376.495 113.7 385.245 Q113.7 393.972 110.621 398.578 Q107.566 403.162 101.756 403.162 Q95.9456 403.162 92.8669 398.578 Q89.8114 393.972 89.8114 385.245 Q89.8114 376.495 92.8669 371.912 Q95.9456 367.305 101.756 367.305 Z\" fill=\"#000000\" fill-rule=\"evenodd\" fill-opacity=\"1\" /><path clip-path=\"url(#clip330)\" d=\"M121.918 396.611 L126.802 396.611 L126.802 402.49 L121.918 402.49 L121.918 396.611 Z\" fill=\"#000000\" fill-rule=\"evenodd\" fill-opacity=\"1\" /><path clip-path=\"url(#clip330)\" d=\"M137.033 367.93 L155.39 367.93 L155.39 371.866 L141.316 371.866 L141.316 380.338 Q142.334 379.99 143.353 379.828 Q144.371 379.643 145.39 379.643 Q151.177 379.643 154.556 382.815 Q157.936 385.986 157.936 391.402 Q157.936 396.981 154.464 400.083 Q150.992 403.162 144.672 403.162 Q142.496 403.162 140.228 402.791 Q137.982 402.421 135.575 401.68 L135.575 396.981 Q137.658 398.115 139.881 398.671 Q142.103 399.226 144.58 399.226 Q148.584 399.226 150.922 397.12 Q153.26 395.014 153.26 391.402 Q153.26 387.791 150.922 385.685 Q148.584 383.578 144.58 383.578 Q142.705 383.578 140.83 383.995 Q138.978 384.412 137.033 385.291 L137.033 367.93 Z\" fill=\"#000000\" fill-rule=\"evenodd\" fill-opacity=\"1\" /><path clip-path=\"url(#clip330)\" d=\"M91.5706 186.936 L99.2095 186.936 L99.2095 160.571 L90.8993 162.237 L90.8993 157.978 L99.1632 156.311 L103.839 156.311 L103.839 186.936 L111.478 186.936 L111.478 190.871 L91.5706 190.871 L91.5706 186.936 Z\" fill=\"#000000\" fill-rule=\"evenodd\" fill-opacity=\"1\" /><path clip-path=\"url(#clip330)\" d=\"M120.922 184.992 L125.807 184.992 L125.807 190.871 L120.922 190.871 L120.922 184.992 Z\" fill=\"#000000\" fill-rule=\"evenodd\" fill-opacity=\"1\" /><path clip-path=\"url(#clip330)\" d=\"M145.992 159.39 Q142.381 159.39 140.552 162.955 Q138.746 166.497 138.746 173.626 Q138.746 180.733 140.552 184.297 Q142.381 187.839 145.992 187.839 Q149.626 187.839 151.431 184.297 Q153.26 180.733 153.26 173.626 Q153.26 166.497 151.431 162.955 Q149.626 159.39 145.992 159.39 M145.992 155.686 Q151.802 155.686 154.857 160.293 Q157.936 164.876 157.936 173.626 Q157.936 182.353 154.857 186.959 Q151.802 191.543 145.992 191.543 Q140.181 191.543 137.103 186.959 Q134.047 182.353 134.047 173.626 Q134.047 164.876 137.103 160.293 Q140.181 155.686 145.992 155.686 Z\" fill=\"#000000\" fill-rule=\"evenodd\" fill-opacity=\"1\" /><circle clip-path=\"url(#clip332)\" cx=\"376.077\" cy=\"548.97\" r=\"14\" fill=\"#cd5c5c\" fill-rule=\"evenodd\" fill-opacity=\"1\" stroke=\"#000000\" stroke-opacity=\"1\" stroke-width=\"2.4\"/>\n",
       "<circle clip-path=\"url(#clip332)\" cx=\"428.801\" cy=\"458.174\" r=\"14\" fill=\"#cd5c5c\" fill-rule=\"evenodd\" fill-opacity=\"1\" stroke=\"#000000\" stroke-opacity=\"1\" stroke-width=\"2.4\"/>\n",
       "<circle clip-path=\"url(#clip332)\" cx=\"565.612\" cy=\"346.046\" r=\"14\" fill=\"#cd5c5c\" fill-rule=\"evenodd\" fill-opacity=\"1\" stroke=\"#000000\" stroke-opacity=\"1\" stroke-width=\"2.4\"/>\n",
       "<circle clip-path=\"url(#clip332)\" cx=\"471.169\" cy=\"570.95\" r=\"14\" fill=\"#cd5c5c\" fill-rule=\"evenodd\" fill-opacity=\"1\" stroke=\"#000000\" stroke-opacity=\"1\" stroke-width=\"2.4\"/>\n",
       "<circle clip-path=\"url(#clip332)\" cx=\"694.967\" cy=\"729.613\" r=\"14\" fill=\"#cd5c5c\" fill-rule=\"evenodd\" fill-opacity=\"1\" stroke=\"#000000\" stroke-opacity=\"1\" stroke-width=\"2.4\"/>\n",
       "<circle clip-path=\"url(#clip332)\" cx=\"357.065\" cy=\"246.644\" r=\"14\" fill=\"#cd5c5c\" fill-rule=\"evenodd\" fill-opacity=\"1\" stroke=\"#000000\" stroke-opacity=\"1\" stroke-width=\"2.4\"/>\n",
       "<circle clip-path=\"url(#clip332)\" cx=\"626.661\" cy=\"321.716\" r=\"14\" fill=\"#cd5c5c\" fill-rule=\"evenodd\" fill-opacity=\"1\" stroke=\"#000000\" stroke-opacity=\"1\" stroke-width=\"2.4\"/>\n",
       "<circle clip-path=\"url(#clip332)\" cx=\"344.04\" cy=\"794.39\" r=\"14\" fill=\"#cd5c5c\" fill-rule=\"evenodd\" fill-opacity=\"1\" stroke=\"#000000\" stroke-opacity=\"1\" stroke-width=\"2.4\"/>\n",
       "<circle clip-path=\"url(#clip332)\" cx=\"321.717\" cy=\"542.215\" r=\"14\" fill=\"#cd5c5c\" fill-rule=\"evenodd\" fill-opacity=\"1\" stroke=\"#000000\" stroke-opacity=\"1\" stroke-width=\"2.4\"/>\n",
       "<circle clip-path=\"url(#clip332)\" cx=\"672.062\" cy=\"631.206\" r=\"14\" fill=\"#cd5c5c\" fill-rule=\"evenodd\" fill-opacity=\"1\" stroke=\"#000000\" stroke-opacity=\"1\" stroke-width=\"2.4\"/>\n",
       "<circle clip-path=\"url(#clip332)\" cx=\"427.32\" cy=\"543.517\" r=\"14\" fill=\"#cd5c5c\" fill-rule=\"evenodd\" fill-opacity=\"1\" stroke=\"#000000\" stroke-opacity=\"1\" stroke-width=\"2.4\"/>\n",
       "<circle clip-path=\"url(#clip332)\" cx=\"501.637\" cy=\"391.057\" r=\"14\" fill=\"#cd5c5c\" fill-rule=\"evenodd\" fill-opacity=\"1\" stroke=\"#000000\" stroke-opacity=\"1\" stroke-width=\"2.4\"/>\n",
       "<circle clip-path=\"url(#clip332)\" cx=\"221.072\" cy=\"518.399\" r=\"14\" fill=\"#cd5c5c\" fill-rule=\"evenodd\" fill-opacity=\"1\" stroke=\"#000000\" stroke-opacity=\"1\" stroke-width=\"2.4\"/>\n",
       "<circle clip-path=\"url(#clip332)\" cx=\"585.507\" cy=\"445.788\" r=\"14\" fill=\"#cd5c5c\" fill-rule=\"evenodd\" fill-opacity=\"1\" stroke=\"#000000\" stroke-opacity=\"1\" stroke-width=\"2.4\"/>\n",
       "<circle clip-path=\"url(#clip332)\" cx=\"716.865\" cy=\"802.525\" r=\"14\" fill=\"#cd5c5c\" fill-rule=\"evenodd\" fill-opacity=\"1\" stroke=\"#000000\" stroke-opacity=\"1\" stroke-width=\"2.4\"/>\n",
       "<circle clip-path=\"url(#clip332)\" cx=\"418.978\" cy=\"252.803\" r=\"14\" fill=\"#cd5c5c\" fill-rule=\"evenodd\" fill-opacity=\"1\" stroke=\"#000000\" stroke-opacity=\"1\" stroke-width=\"2.4\"/>\n",
       "<circle clip-path=\"url(#clip332)\" cx=\"337.185\" cy=\"292.812\" r=\"14\" fill=\"#cd5c5c\" fill-rule=\"evenodd\" fill-opacity=\"1\" stroke=\"#000000\" stroke-opacity=\"1\" stroke-width=\"2.4\"/>\n",
       "<circle clip-path=\"url(#clip332)\" cx=\"690.317\" cy=\"439.034\" r=\"14\" fill=\"#cd5c5c\" fill-rule=\"evenodd\" fill-opacity=\"1\" stroke=\"#000000\" stroke-opacity=\"1\" stroke-width=\"2.4\"/>\n",
       "<circle clip-path=\"url(#clip332)\" cx=\"455.178\" cy=\"605.079\" r=\"14\" fill=\"#cd5c5c\" fill-rule=\"evenodd\" fill-opacity=\"1\" stroke=\"#000000\" stroke-opacity=\"1\" stroke-width=\"2.4\"/>\n",
       "<circle clip-path=\"url(#clip332)\" cx=\"423.152\" cy=\"556.431\" r=\"14\" fill=\"#cd5c5c\" fill-rule=\"evenodd\" fill-opacity=\"1\" stroke=\"#000000\" stroke-opacity=\"1\" stroke-width=\"2.4\"/>\n",
       "<circle clip-path=\"url(#clip332)\" cx=\"349.401\" cy=\"588.783\" r=\"14\" fill=\"#cd5c5c\" fill-rule=\"evenodd\" fill-opacity=\"1\" stroke=\"#000000\" stroke-opacity=\"1\" stroke-width=\"2.4\"/>\n",
       "<circle clip-path=\"url(#clip332)\" cx=\"398.161\" cy=\"534.224\" r=\"14\" fill=\"#cd5c5c\" fill-rule=\"evenodd\" fill-opacity=\"1\" stroke=\"#000000\" stroke-opacity=\"1\" stroke-width=\"2.4\"/>\n",
       "<circle clip-path=\"url(#clip332)\" cx=\"493.583\" cy=\"405.337\" r=\"14\" fill=\"#cd5c5c\" fill-rule=\"evenodd\" fill-opacity=\"1\" stroke=\"#000000\" stroke-opacity=\"1\" stroke-width=\"2.4\"/>\n",
       "<circle clip-path=\"url(#clip332)\" cx=\"461.866\" cy=\"610.506\" r=\"14\" fill=\"#cd5c5c\" fill-rule=\"evenodd\" fill-opacity=\"1\" stroke=\"#000000\" stroke-opacity=\"1\" stroke-width=\"2.4\"/>\n",
       "<circle clip-path=\"url(#clip332)\" cx=\"625.737\" cy=\"384.134\" r=\"14\" fill=\"#cd5c5c\" fill-rule=\"evenodd\" fill-opacity=\"1\" stroke=\"#000000\" stroke-opacity=\"1\" stroke-width=\"2.4\"/>\n",
       "<circle clip-path=\"url(#clip332)\" cx=\"334.077\" cy=\"75.5589\" r=\"14\" fill=\"#cd5c5c\" fill-rule=\"evenodd\" fill-opacity=\"1\" stroke=\"#000000\" stroke-opacity=\"1\" stroke-width=\"2.4\"/>\n",
       "<circle clip-path=\"url(#clip332)\" cx=\"503.105\" cy=\"744.254\" r=\"14\" fill=\"#4682b4\" fill-rule=\"evenodd\" fill-opacity=\"1\" stroke=\"#000000\" stroke-opacity=\"1\" stroke-width=\"2.4\"/>\n",
       "<circle clip-path=\"url(#clip332)\" cx=\"925.861\" cy=\"639.042\" r=\"14\" fill=\"#4682b4\" fill-rule=\"evenodd\" fill-opacity=\"1\" stroke=\"#000000\" stroke-opacity=\"1\" stroke-width=\"2.4\"/>\n",
       "<circle clip-path=\"url(#clip332)\" cx=\"747.454\" cy=\"716.338\" r=\"14\" fill=\"#4682b4\" fill-rule=\"evenodd\" fill-opacity=\"1\" stroke=\"#000000\" stroke-opacity=\"1\" stroke-width=\"2.4\"/>\n",
       "<circle clip-path=\"url(#clip332)\" cx=\"820.1\" cy=\"747.535\" r=\"14\" fill=\"#4682b4\" fill-rule=\"evenodd\" fill-opacity=\"1\" stroke=\"#000000\" stroke-opacity=\"1\" stroke-width=\"2.4\"/>\n",
       "<circle clip-path=\"url(#clip332)\" cx=\"956.132\" cy=\"1019.39\" r=\"14\" fill=\"#4682b4\" fill-rule=\"evenodd\" fill-opacity=\"1\" stroke=\"#000000\" stroke-opacity=\"1\" stroke-width=\"2.4\"/>\n",
       "<circle clip-path=\"url(#clip332)\" cx=\"814.638\" cy=\"703.753\" r=\"14\" fill=\"#4682b4\" fill-rule=\"evenodd\" fill-opacity=\"1\" stroke=\"#000000\" stroke-opacity=\"1\" stroke-width=\"2.4\"/>\n",
       "<circle clip-path=\"url(#clip332)\" cx=\"893.519\" cy=\"858.585\" r=\"14\" fill=\"#4682b4\" fill-rule=\"evenodd\" fill-opacity=\"1\" stroke=\"#000000\" stroke-opacity=\"1\" stroke-width=\"2.4\"/>\n",
       "<circle clip-path=\"url(#clip332)\" cx=\"666.547\" cy=\"729.725\" r=\"14\" fill=\"#4682b4\" fill-rule=\"evenodd\" fill-opacity=\"1\" stroke=\"#000000\" stroke-opacity=\"1\" stroke-width=\"2.4\"/>\n",
       "<circle clip-path=\"url(#clip332)\" cx=\"782.048\" cy=\"727.348\" r=\"14\" fill=\"#4682b4\" fill-rule=\"evenodd\" fill-opacity=\"1\" stroke=\"#000000\" stroke-opacity=\"1\" stroke-width=\"2.4\"/>\n",
       "<circle clip-path=\"url(#clip332)\" cx=\"796.47\" cy=\"712.723\" r=\"14\" fill=\"#4682b4\" fill-rule=\"evenodd\" fill-opacity=\"1\" stroke=\"#000000\" stroke-opacity=\"1\" stroke-width=\"2.4\"/>\n",
       "<circle clip-path=\"url(#clip332)\" cx=\"735.098\" cy=\"660.206\" r=\"14\" fill=\"#4682b4\" fill-rule=\"evenodd\" fill-opacity=\"1\" stroke=\"#000000\" stroke-opacity=\"1\" stroke-width=\"2.4\"/>\n",
       "<circle clip-path=\"url(#clip332)\" cx=\"854.711\" cy=\"669.27\" r=\"14\" fill=\"#4682b4\" fill-rule=\"evenodd\" fill-opacity=\"1\" stroke=\"#000000\" stroke-opacity=\"1\" stroke-width=\"2.4\"/>\n",
       "<circle clip-path=\"url(#clip332)\" cx=\"541.084\" cy=\"569.382\" r=\"14\" fill=\"#4682b4\" fill-rule=\"evenodd\" fill-opacity=\"1\" stroke=\"#000000\" stroke-opacity=\"1\" stroke-width=\"2.4\"/>\n",
       "<circle clip-path=\"url(#clip332)\" cx=\"716.319\" cy=\"762.549\" r=\"14\" fill=\"#4682b4\" fill-rule=\"evenodd\" fill-opacity=\"1\" stroke=\"#000000\" stroke-opacity=\"1\" stroke-width=\"2.4\"/>\n",
       "<circle clip-path=\"url(#clip332)\" cx=\"874.854\" cy=\"690.603\" r=\"14\" fill=\"#4682b4\" fill-rule=\"evenodd\" fill-opacity=\"1\" stroke=\"#000000\" stroke-opacity=\"1\" stroke-width=\"2.4\"/>\n",
       "<circle clip-path=\"url(#clip332)\" cx=\"606.003\" cy=\"598.837\" r=\"14\" fill=\"#4682b4\" fill-rule=\"evenodd\" fill-opacity=\"1\" stroke=\"#000000\" stroke-opacity=\"1\" stroke-width=\"2.4\"/>\n",
       "<circle clip-path=\"url(#clip332)\" cx=\"786.619\" cy=\"600.357\" r=\"14\" fill=\"#4682b4\" fill-rule=\"evenodd\" fill-opacity=\"1\" stroke=\"#000000\" stroke-opacity=\"1\" stroke-width=\"2.4\"/>\n",
       "<circle clip-path=\"url(#clip332)\" cx=\"712.686\" cy=\"583.787\" r=\"14\" fill=\"#4682b4\" fill-rule=\"evenodd\" fill-opacity=\"1\" stroke=\"#000000\" stroke-opacity=\"1\" stroke-width=\"2.4\"/>\n",
       "<circle clip-path=\"url(#clip332)\" cx=\"761.724\" cy=\"627.014\" r=\"14\" fill=\"#4682b4\" fill-rule=\"evenodd\" fill-opacity=\"1\" stroke=\"#000000\" stroke-opacity=\"1\" stroke-width=\"2.4\"/>\n",
       "<circle clip-path=\"url(#clip332)\" cx=\"920.045\" cy=\"661.127\" r=\"14\" fill=\"#4682b4\" fill-rule=\"evenodd\" fill-opacity=\"1\" stroke=\"#000000\" stroke-opacity=\"1\" stroke-width=\"2.4\"/>\n",
       "<circle clip-path=\"url(#clip332)\" cx=\"1125.62\" cy=\"951.009\" r=\"14\" fill=\"#4682b4\" fill-rule=\"evenodd\" fill-opacity=\"1\" stroke=\"#000000\" stroke-opacity=\"1\" stroke-width=\"2.4\"/>\n",
       "<circle clip-path=\"url(#clip332)\" cx=\"810.006\" cy=\"557.177\" r=\"14\" fill=\"#4682b4\" fill-rule=\"evenodd\" fill-opacity=\"1\" stroke=\"#000000\" stroke-opacity=\"1\" stroke-width=\"2.4\"/>\n",
       "<circle clip-path=\"url(#clip332)\" cx=\"877.934\" cy=\"761.787\" r=\"14\" fill=\"#4682b4\" fill-rule=\"evenodd\" fill-opacity=\"1\" stroke=\"#000000\" stroke-opacity=\"1\" stroke-width=\"2.4\"/>\n",
       "<circle clip-path=\"url(#clip332)\" cx=\"887.284\" cy=\"913.759\" r=\"14\" fill=\"#4682b4\" fill-rule=\"evenodd\" fill-opacity=\"1\" stroke=\"#000000\" stroke-opacity=\"1\" stroke-width=\"2.4\"/>\n",
       "<path clip-path=\"url(#clip330)\" d=\"\n",
       "M860.325 236.113 L1120.8 236.113 L1120.8 80.5926 L860.325 80.5926  Z\n",
       "  \" fill=\"#ffffff\" fill-rule=\"evenodd\" fill-opacity=\"1\"/>\n",
       "<polyline clip-path=\"url(#clip330)\" style=\"stroke:#000000; stroke-linecap:butt; stroke-linejoin:round; stroke-width:4; stroke-opacity:1; fill:none\" points=\"\n",
       "  860.325,236.113 1120.8,236.113 1120.8,80.5926 860.325,80.5926 860.325,236.113 \n",
       "  \"/>\n",
       "<circle clip-path=\"url(#clip330)\" cx=\"902.94\" cy=\"132.433\" r=\"23\" fill=\"#cd5c5c\" fill-rule=\"evenodd\" fill-opacity=\"1\" stroke=\"#000000\" stroke-opacity=\"1\" stroke-width=\"3.84\"/>\n",
       "<path clip-path=\"url(#clip330)\" d=\"M973.424 117.815 L973.424 122.745 Q971.063 120.546 968.378 119.458 Q965.716 118.37 962.706 118.37 Q956.781 118.37 953.632 122.004 Q950.484 125.616 950.484 132.467 Q950.484 139.296 953.632 142.93 Q956.781 146.541 962.706 146.541 Q965.716 146.541 968.378 145.453 Q971.063 144.365 973.424 142.166 L973.424 147.051 Q970.97 148.717 968.216 149.551 Q965.484 150.384 962.429 150.384 Q954.582 150.384 950.068 145.592 Q945.554 140.777 945.554 132.467 Q945.554 124.134 950.068 119.342 Q954.582 114.528 962.429 114.528 Q965.531 114.528 968.262 115.361 Q971.017 116.171 973.424 117.815 Z\" fill=\"#000000\" fill-rule=\"evenodd\" fill-opacity=\"1\" /><path clip-path=\"url(#clip330)\" d=\"M990.507 126.773 Q987.081 126.773 985.091 129.458 Q983.1 132.12 983.1 136.773 Q983.1 141.426 985.067 144.111 Q987.058 146.773 990.507 146.773 Q993.91 146.773 995.901 144.088 Q997.891 141.402 997.891 136.773 Q997.891 132.166 995.901 129.481 Q993.91 126.773 990.507 126.773 M990.507 123.162 Q996.063 123.162 999.234 126.773 Q1002.41 130.384 1002.41 136.773 Q1002.41 143.139 999.234 146.773 Q996.063 150.384 990.507 150.384 Q984.929 150.384 981.757 146.773 Q978.609 143.139 978.609 136.773 Q978.609 130.384 981.757 126.773 Q984.929 123.162 990.507 123.162 Z\" fill=\"#000000\" fill-rule=\"evenodd\" fill-opacity=\"1\" /><path clip-path=\"url(#clip330)\" d=\"M1021.25 136.68 Q1016.09 136.68 1014.1 137.861 Q1012.1 139.041 1012.1 141.889 Q1012.1 144.157 1013.59 145.5 Q1015.09 146.819 1017.66 146.819 Q1021.2 146.819 1023.33 144.319 Q1025.48 141.796 1025.48 137.629 L1025.48 136.68 L1021.25 136.68 M1029.74 134.921 L1029.74 149.713 L1025.48 149.713 L1025.48 145.777 Q1024.03 148.139 1021.85 149.273 Q1019.67 150.384 1016.53 150.384 Q1012.54 150.384 1010.18 148.162 Q1007.85 145.916 1007.85 142.166 Q1007.85 137.791 1010.76 135.569 Q1013.7 133.347 1019.51 133.347 L1025.48 133.347 L1025.48 132.93 Q1025.48 129.991 1023.54 128.393 Q1021.62 126.773 1018.12 126.773 Q1015.9 126.773 1013.79 127.305 Q1011.69 127.838 1009.74 128.903 L1009.74 124.967 Q1012.08 124.065 1014.28 123.625 Q1016.48 123.162 1018.56 123.162 Q1024.19 123.162 1026.97 126.078 Q1029.74 128.995 1029.74 134.921 Z\" fill=\"#000000\" fill-rule=\"evenodd\" fill-opacity=\"1\" /><path clip-path=\"url(#clip330)\" d=\"M1042.73 116.426 L1042.73 123.787 L1051.5 123.787 L1051.5 127.097 L1042.73 127.097 L1042.73 141.171 Q1042.73 144.342 1043.59 145.245 Q1044.47 146.148 1047.13 146.148 L1051.5 146.148 L1051.5 149.713 L1047.13 149.713 Q1042.2 149.713 1040.32 147.884 Q1038.45 146.032 1038.45 141.171 L1038.45 127.097 L1035.32 127.097 L1035.32 123.787 L1038.45 123.787 L1038.45 116.426 L1042.73 116.426 Z\" fill=\"#000000\" fill-rule=\"evenodd\" fill-opacity=\"1\" /><circle clip-path=\"url(#clip330)\" cx=\"902.94\" cy=\"184.273\" r=\"23\" fill=\"#4682b4\" fill-rule=\"evenodd\" fill-opacity=\"1\" stroke=\"#000000\" stroke-opacity=\"1\" stroke-width=\"3.84\"/>\n",
       "<path clip-path=\"url(#clip330)\" d=\"M967.799 168.127 L967.799 172.687 Q965.137 171.414 962.776 170.789 Q960.415 170.164 958.216 170.164 Q954.396 170.164 952.313 171.645 Q950.253 173.127 950.253 175.858 Q950.253 178.15 951.619 179.331 Q953.007 180.488 956.85 181.206 L959.674 181.784 Q964.906 182.78 967.382 185.303 Q969.882 187.803 969.882 192.016 Q969.882 197.039 966.503 199.631 Q963.146 202.224 956.642 202.224 Q954.188 202.224 951.41 201.668 Q948.656 201.113 945.693 200.025 L945.693 195.21 Q948.54 196.807 951.271 197.617 Q954.003 198.428 956.642 198.428 Q960.646 198.428 962.822 196.854 Q964.998 195.28 964.998 192.363 Q964.998 189.817 963.424 188.381 Q961.873 186.946 958.308 186.229 L955.461 185.673 Q950.23 184.631 947.892 182.409 Q945.554 180.187 945.554 176.229 Q945.554 171.645 948.771 169.006 Q952.012 166.368 957.683 166.368 Q960.114 166.368 962.637 166.807 Q965.16 167.247 967.799 168.127 Z\" fill=\"#000000\" fill-rule=\"evenodd\" fill-opacity=\"1\" /><path clip-path=\"url(#clip330)\" d=\"M988.771 188.52 Q983.609 188.52 981.618 189.701 Q979.628 190.881 979.628 193.729 Q979.628 195.997 981.109 197.34 Q982.614 198.659 985.183 198.659 Q988.725 198.659 990.854 196.159 Q993.007 193.636 993.007 189.469 L993.007 188.52 L988.771 188.52 M997.266 186.761 L997.266 201.553 L993.007 201.553 L993.007 197.617 Q991.549 199.979 989.373 201.113 Q987.197 202.224 984.049 202.224 Q980.067 202.224 977.706 200.002 Q975.368 197.756 975.368 194.006 Q975.368 189.631 978.285 187.409 Q981.225 185.187 987.035 185.187 L993.007 185.187 L993.007 184.77 Q993.007 181.831 991.063 180.233 Q989.142 178.613 985.646 178.613 Q983.424 178.613 981.317 179.145 Q979.211 179.678 977.267 180.743 L977.267 176.807 Q979.605 175.905 981.804 175.465 Q984.003 175.002 986.086 175.002 Q991.711 175.002 994.489 177.918 Q997.266 180.835 997.266 186.761 Z\" fill=\"#000000\" fill-rule=\"evenodd\" fill-opacity=\"1\" /><path clip-path=\"url(#clip330)\" d=\"M1027.59 185.905 L1027.59 201.553 L1023.33 201.553 L1023.33 186.043 Q1023.33 182.363 1021.9 180.534 Q1020.46 178.706 1017.59 178.706 Q1014.14 178.706 1012.15 180.905 Q1010.16 183.104 1010.16 186.9 L1010.16 201.553 L1005.88 201.553 L1005.88 175.627 L1010.16 175.627 L1010.16 179.655 Q1011.69 177.317 1013.75 176.159 Q1015.83 175.002 1018.54 175.002 Q1023.01 175.002 1025.3 177.78 Q1027.59 180.534 1027.59 185.905 Z\" fill=\"#000000\" fill-rule=\"evenodd\" fill-opacity=\"1\" /><path clip-path=\"url(#clip330)\" d=\"M1053.15 179.562 L1053.15 165.534 L1057.41 165.534 L1057.41 201.553 L1053.15 201.553 L1053.15 197.664 Q1051.8 199.979 1049.74 201.113 Q1047.71 202.224 1044.84 202.224 Q1040.14 202.224 1037.17 198.474 Q1034.23 194.724 1034.23 188.613 Q1034.23 182.502 1037.17 178.752 Q1040.14 175.002 1044.84 175.002 Q1047.71 175.002 1049.74 176.136 Q1051.8 177.247 1053.15 179.562 M1038.63 188.613 Q1038.63 193.312 1040.55 195.997 Q1042.5 198.659 1045.88 198.659 Q1049.26 198.659 1051.2 195.997 Q1053.15 193.312 1053.15 188.613 Q1053.15 183.914 1051.2 181.252 Q1049.26 178.567 1045.88 178.567 Q1042.5 178.567 1040.55 181.252 Q1038.63 183.914 1038.63 188.613 Z\" fill=\"#000000\" fill-rule=\"evenodd\" fill-opacity=\"1\" /><path clip-path=\"url(#clip330)\" d=\"M1077.96 188.52 Q1072.8 188.52 1070.81 189.701 Q1068.82 190.881 1068.82 193.729 Q1068.82 195.997 1070.3 197.34 Q1071.8 198.659 1074.37 198.659 Q1077.91 198.659 1080.04 196.159 Q1082.2 193.636 1082.2 189.469 L1082.2 188.52 L1077.96 188.52 M1086.46 186.761 L1086.46 201.553 L1082.2 201.553 L1082.2 197.617 Q1080.74 199.979 1078.56 201.113 Q1076.39 202.224 1073.24 202.224 Q1069.26 202.224 1066.9 200.002 Q1064.56 197.756 1064.56 194.006 Q1064.56 189.631 1067.47 187.409 Q1070.41 185.187 1076.22 185.187 L1082.2 185.187 L1082.2 184.77 Q1082.2 181.831 1080.25 180.233 Q1078.33 178.613 1074.84 178.613 Q1072.61 178.613 1070.51 179.145 Q1068.4 179.678 1066.46 180.743 L1066.46 176.807 Q1068.79 175.905 1070.99 175.465 Q1073.19 175.002 1075.28 175.002 Q1080.9 175.002 1083.68 177.918 Q1086.46 180.835 1086.46 186.761 Z\" fill=\"#000000\" fill-rule=\"evenodd\" fill-opacity=\"1\" /><path clip-path=\"url(#clip330)\" d=\"M1095.23 165.534 L1099.49 165.534 L1099.49 201.553 L1095.23 201.553 L1095.23 165.534 Z\" fill=\"#000000\" fill-rule=\"evenodd\" fill-opacity=\"1\" /><path clip-path=\"url(#clip330)\" d=\"\n",
       "M1393.94 1047.7 L2352.76 1047.7 L2352.76 47.2441 L1393.94 47.2441  Z\n",
       "  \" fill=\"#ffffff\" fill-rule=\"evenodd\" fill-opacity=\"1\"/>\n",
       "<defs>\n",
       "  <clipPath id=\"clip333\">\n",
       "    <rect x=\"1393\" y=\"47\" width=\"960\" height=\"1001\"/>\n",
       "  </clipPath>\n",
       "</defs>\n",
       "<polyline clip-path=\"url(#clip333)\" style=\"stroke:#000000; stroke-linecap:butt; stroke-linejoin:round; stroke-width:2; stroke-opacity:0.1; fill:none\" points=\"\n",
       "  1464.88,1047.7 1464.88,47.2441 \n",
       "  \"/>\n",
       "<polyline clip-path=\"url(#clip333)\" style=\"stroke:#000000; stroke-linecap:butt; stroke-linejoin:round; stroke-width:2; stroke-opacity:0.1; fill:none\" points=\"\n",
       "  1646.58,1047.7 1646.58,47.2441 \n",
       "  \"/>\n",
       "<polyline clip-path=\"url(#clip333)\" style=\"stroke:#000000; stroke-linecap:butt; stroke-linejoin:round; stroke-width:2; stroke-opacity:0.1; fill:none\" points=\"\n",
       "  1828.28,1047.7 1828.28,47.2441 \n",
       "  \"/>\n",
       "<polyline clip-path=\"url(#clip333)\" style=\"stroke:#000000; stroke-linecap:butt; stroke-linejoin:round; stroke-width:2; stroke-opacity:0.1; fill:none\" points=\"\n",
       "  2009.98,1047.7 2009.98,47.2441 \n",
       "  \"/>\n",
       "<polyline clip-path=\"url(#clip333)\" style=\"stroke:#000000; stroke-linecap:butt; stroke-linejoin:round; stroke-width:2; stroke-opacity:0.1; fill:none\" points=\"\n",
       "  2191.69,1047.7 2191.69,47.2441 \n",
       "  \"/>\n",
       "<polyline clip-path=\"url(#clip330)\" style=\"stroke:#000000; stroke-linecap:butt; stroke-linejoin:round; stroke-width:4; stroke-opacity:1; fill:none\" points=\"\n",
       "  1393.94,1047.7 2352.76,1047.7 \n",
       "  \"/>\n",
       "<polyline clip-path=\"url(#clip330)\" style=\"stroke:#000000; stroke-linecap:butt; stroke-linejoin:round; stroke-width:4; stroke-opacity:1; fill:none\" points=\"\n",
       "  1464.88,1047.7 1464.88,1028.8 \n",
       "  \"/>\n",
       "<polyline clip-path=\"url(#clip330)\" style=\"stroke:#000000; stroke-linecap:butt; stroke-linejoin:round; stroke-width:4; stroke-opacity:1; fill:none\" points=\"\n",
       "  1646.58,1047.7 1646.58,1028.8 \n",
       "  \"/>\n",
       "<polyline clip-path=\"url(#clip330)\" style=\"stroke:#000000; stroke-linecap:butt; stroke-linejoin:round; stroke-width:4; stroke-opacity:1; fill:none\" points=\"\n",
       "  1828.28,1047.7 1828.28,1028.8 \n",
       "  \"/>\n",
       "<polyline clip-path=\"url(#clip330)\" style=\"stroke:#000000; stroke-linecap:butt; stroke-linejoin:round; stroke-width:4; stroke-opacity:1; fill:none\" points=\"\n",
       "  2009.98,1047.7 2009.98,1028.8 \n",
       "  \"/>\n",
       "<polyline clip-path=\"url(#clip330)\" style=\"stroke:#000000; stroke-linecap:butt; stroke-linejoin:round; stroke-width:4; stroke-opacity:1; fill:none\" points=\"\n",
       "  2191.69,1047.7 2191.69,1028.8 \n",
       "  \"/>\n",
       "<path clip-path=\"url(#clip330)\" d=\"M1411.4 1093.27 L1441.08 1093.27 L1441.08 1097.21 L1411.4 1097.21 L1411.4 1093.27 Z\" fill=\"#000000\" fill-rule=\"evenodd\" fill-opacity=\"1\" /><path clip-path=\"url(#clip330)\" d=\"M1451.98 1106.16 L1459.62 1106.16 L1459.62 1079.8 L1451.31 1081.47 L1451.31 1077.21 L1459.58 1075.54 L1464.25 1075.54 L1464.25 1106.16 L1471.89 1106.16 L1471.89 1110.1 L1451.98 1110.1 L1451.98 1106.16 Z\" fill=\"#000000\" fill-rule=\"evenodd\" fill-opacity=\"1\" /><path clip-path=\"url(#clip330)\" d=\"M1481.33 1104.22 L1486.22 1104.22 L1486.22 1110.1 L1481.33 1110.1 L1481.33 1104.22 Z\" fill=\"#000000\" fill-rule=\"evenodd\" fill-opacity=\"1\" /><path clip-path=\"url(#clip330)\" d=\"M1506.4 1078.62 Q1502.79 1078.62 1500.96 1082.18 Q1499.16 1085.72 1499.16 1092.85 Q1499.16 1099.96 1500.96 1103.53 Q1502.79 1107.07 1506.4 1107.07 Q1510.04 1107.07 1511.84 1103.53 Q1513.67 1099.96 1513.67 1092.85 Q1513.67 1085.72 1511.84 1082.18 Q1510.04 1078.62 1506.4 1078.62 M1506.4 1074.91 Q1512.21 1074.91 1515.27 1079.52 Q1518.35 1084.1 1518.35 1092.85 Q1518.35 1101.58 1515.27 1106.19 Q1512.21 1110.77 1506.4 1110.77 Q1500.59 1110.77 1497.51 1106.19 Q1494.46 1101.58 1494.46 1092.85 Q1494.46 1084.1 1497.51 1079.52 Q1500.59 1074.91 1506.4 1074.91 Z\" fill=\"#000000\" fill-rule=\"evenodd\" fill-opacity=\"1\" /><path clip-path=\"url(#clip330)\" d=\"M1593.6 1093.27 L1623.28 1093.27 L1623.28 1097.21 L1593.6 1097.21 L1593.6 1093.27 Z\" fill=\"#000000\" fill-rule=\"evenodd\" fill-opacity=\"1\" /><path clip-path=\"url(#clip330)\" d=\"M1643.37 1078.62 Q1639.76 1078.62 1637.93 1082.18 Q1636.13 1085.72 1636.13 1092.85 Q1636.13 1099.96 1637.93 1103.53 Q1639.76 1107.07 1643.37 1107.07 Q1647.01 1107.07 1648.81 1103.53 Q1650.64 1099.96 1650.64 1092.85 Q1650.64 1085.72 1648.81 1082.18 Q1647.01 1078.62 1643.37 1078.62 M1643.37 1074.91 Q1649.18 1074.91 1652.24 1079.52 Q1655.32 1084.1 1655.32 1092.85 Q1655.32 1101.58 1652.24 1106.19 Q1649.18 1110.77 1643.37 1110.77 Q1637.56 1110.77 1634.48 1106.19 Q1631.43 1101.58 1631.43 1092.85 Q1631.43 1084.1 1634.48 1079.52 Q1637.56 1074.91 1643.37 1074.91 Z\" fill=\"#000000\" fill-rule=\"evenodd\" fill-opacity=\"1\" /><path clip-path=\"url(#clip330)\" d=\"M1663.53 1104.22 L1668.42 1104.22 L1668.42 1110.1 L1663.53 1110.1 L1663.53 1104.22 Z\" fill=\"#000000\" fill-rule=\"evenodd\" fill-opacity=\"1\" /><path clip-path=\"url(#clip330)\" d=\"M1678.65 1075.54 L1697.01 1075.54 L1697.01 1079.48 L1682.93 1079.48 L1682.93 1087.95 Q1683.95 1087.6 1684.97 1087.44 Q1685.99 1087.25 1687.01 1087.25 Q1692.79 1087.25 1696.17 1090.42 Q1699.55 1093.6 1699.55 1099.01 Q1699.55 1104.59 1696.08 1107.69 Q1692.61 1110.77 1686.29 1110.77 Q1684.11 1110.77 1681.84 1110.4 Q1679.6 1110.03 1677.19 1109.29 L1677.19 1104.59 Q1679.28 1105.72 1681.5 1106.28 Q1683.72 1106.84 1686.2 1106.84 Q1690.2 1106.84 1692.54 1104.73 Q1694.88 1102.62 1694.88 1099.01 Q1694.88 1095.4 1692.54 1093.29 Q1690.2 1091.19 1686.2 1091.19 Q1684.32 1091.19 1682.45 1091.6 Q1680.59 1092.02 1678.65 1092.9 L1678.65 1075.54 Z\" fill=\"#000000\" fill-rule=\"evenodd\" fill-opacity=\"1\" /><path clip-path=\"url(#clip330)\" d=\"M1805.67 1078.62 Q1802.05 1078.62 1800.23 1082.18 Q1798.42 1085.72 1798.42 1092.85 Q1798.42 1099.96 1800.23 1103.53 Q1802.05 1107.07 1805.67 1107.07 Q1809.3 1107.07 1811.11 1103.53 Q1812.93 1099.96 1812.93 1092.85 Q1812.93 1085.72 1811.11 1082.18 Q1809.3 1078.62 1805.67 1078.62 M1805.67 1074.91 Q1811.48 1074.91 1814.53 1079.52 Q1817.61 1084.1 1817.61 1092.85 Q1817.61 1101.58 1814.53 1106.19 Q1811.48 1110.77 1805.67 1110.77 Q1799.86 1110.77 1796.78 1106.19 Q1793.72 1101.58 1793.72 1092.85 Q1793.72 1084.1 1796.78 1079.52 Q1799.86 1074.91 1805.67 1074.91 Z\" fill=\"#000000\" fill-rule=\"evenodd\" fill-opacity=\"1\" /><path clip-path=\"url(#clip330)\" d=\"M1825.83 1104.22 L1830.71 1104.22 L1830.71 1110.1 L1825.83 1110.1 L1825.83 1104.22 Z\" fill=\"#000000\" fill-rule=\"evenodd\" fill-opacity=\"1\" /><path clip-path=\"url(#clip330)\" d=\"M1850.9 1078.62 Q1847.29 1078.62 1845.46 1082.18 Q1843.65 1085.72 1843.65 1092.85 Q1843.65 1099.96 1845.46 1103.53 Q1847.29 1107.07 1850.9 1107.07 Q1854.53 1107.07 1856.34 1103.53 Q1858.17 1099.96 1858.17 1092.85 Q1858.17 1085.72 1856.34 1082.18 Q1854.53 1078.62 1850.9 1078.62 M1850.9 1074.91 Q1856.71 1074.91 1859.76 1079.52 Q1862.84 1084.1 1862.84 1092.85 Q1862.84 1101.58 1859.76 1106.19 Q1856.71 1110.77 1850.9 1110.77 Q1845.09 1110.77 1842.01 1106.19 Q1838.95 1101.58 1838.95 1092.85 Q1838.95 1084.1 1842.01 1079.52 Q1845.09 1074.91 1850.9 1074.91 Z\" fill=\"#000000\" fill-rule=\"evenodd\" fill-opacity=\"1\" /><path clip-path=\"url(#clip330)\" d=\"M1987.87 1078.62 Q1984.25 1078.62 1982.43 1082.18 Q1980.62 1085.72 1980.62 1092.85 Q1980.62 1099.96 1982.43 1103.53 Q1984.25 1107.07 1987.87 1107.07 Q1991.5 1107.07 1993.31 1103.53 Q1995.13 1099.96 1995.13 1092.85 Q1995.13 1085.72 1993.31 1082.18 Q1991.5 1078.62 1987.87 1078.62 M1987.87 1074.91 Q1993.68 1074.91 1996.73 1079.52 Q1999.81 1084.1 1999.81 1092.85 Q1999.81 1101.58 1996.73 1106.19 Q1993.68 1110.77 1987.87 1110.77 Q1982.06 1110.77 1978.98 1106.19 Q1975.92 1101.58 1975.92 1092.85 Q1975.92 1084.1 1978.98 1079.52 Q1982.06 1074.91 1987.87 1074.91 Z\" fill=\"#000000\" fill-rule=\"evenodd\" fill-opacity=\"1\" /><path clip-path=\"url(#clip330)\" d=\"M2008.03 1104.22 L2012.91 1104.22 L2012.91 1110.1 L2008.03 1110.1 L2008.03 1104.22 Z\" fill=\"#000000\" fill-rule=\"evenodd\" fill-opacity=\"1\" /><path clip-path=\"url(#clip330)\" d=\"M2023.14 1075.54 L2041.5 1075.54 L2041.5 1079.48 L2027.43 1079.48 L2027.43 1087.95 Q2028.44 1087.6 2029.46 1087.44 Q2030.48 1087.25 2031.5 1087.25 Q2037.29 1087.25 2040.67 1090.42 Q2044.05 1093.6 2044.05 1099.01 Q2044.05 1104.59 2040.57 1107.69 Q2037.1 1110.77 2030.78 1110.77 Q2028.61 1110.77 2026.34 1110.4 Q2024.09 1110.03 2021.69 1109.29 L2021.69 1104.59 Q2023.77 1105.72 2025.99 1106.28 Q2028.21 1106.84 2030.69 1106.84 Q2034.69 1106.84 2037.03 1104.73 Q2039.37 1102.62 2039.37 1099.01 Q2039.37 1095.4 2037.03 1093.29 Q2034.69 1091.19 2030.69 1091.19 Q2028.81 1091.19 2026.94 1091.6 Q2025.09 1092.02 2023.14 1092.9 L2023.14 1075.54 Z\" fill=\"#000000\" fill-rule=\"evenodd\" fill-opacity=\"1\" /><path clip-path=\"url(#clip330)\" d=\"M2158.84 1106.16 L2166.48 1106.16 L2166.48 1079.8 L2158.17 1081.47 L2158.17 1077.21 L2166.43 1075.54 L2171.11 1075.54 L2171.11 1106.16 L2178.75 1106.16 L2178.75 1110.1 L2158.84 1110.1 L2158.84 1106.16 Z\" fill=\"#000000\" fill-rule=\"evenodd\" fill-opacity=\"1\" /><path clip-path=\"url(#clip330)\" d=\"M2188.19 1104.22 L2193.08 1104.22 L2193.08 1110.1 L2188.19 1110.1 L2188.19 1104.22 Z\" fill=\"#000000\" fill-rule=\"evenodd\" fill-opacity=\"1\" /><path clip-path=\"url(#clip330)\" d=\"M2213.26 1078.62 Q2209.65 1078.62 2207.82 1082.18 Q2206.02 1085.72 2206.02 1092.85 Q2206.02 1099.96 2207.82 1103.53 Q2209.65 1107.07 2213.26 1107.07 Q2216.89 1107.07 2218.7 1103.53 Q2220.53 1099.96 2220.53 1092.85 Q2220.53 1085.72 2218.7 1082.18 Q2216.89 1078.62 2213.26 1078.62 M2213.26 1074.91 Q2219.07 1074.91 2222.13 1079.52 Q2225.2 1084.1 2225.2 1092.85 Q2225.2 1101.58 2222.13 1106.19 Q2219.07 1110.77 2213.26 1110.77 Q2207.45 1110.77 2204.37 1106.19 Q2201.32 1101.58 2201.32 1092.85 Q2201.32 1084.1 2204.37 1079.52 Q2207.45 1074.91 2213.26 1074.91 Z\" fill=\"#000000\" fill-rule=\"evenodd\" fill-opacity=\"1\" /><path clip-path=\"url(#clip330)\" d=\"M1547.93 1187.22 L1547.93 1206.12 L1542.04 1206.12 L1542.04 1156.92 L1547.93 1156.92 L1547.93 1162.33 Q1549.78 1159.14 1552.58 1157.62 Q1555.41 1156.06 1559.33 1156.06 Q1565.82 1156.06 1569.86 1161.21 Q1573.93 1166.37 1573.93 1174.77 Q1573.93 1183.17 1569.86 1188.33 Q1565.82 1193.49 1559.33 1193.49 Q1555.41 1193.49 1552.58 1191.96 Q1549.78 1190.4 1547.93 1187.22 M1567.86 1174.77 Q1567.86 1168.31 1565.18 1164.65 Q1562.54 1160.96 1557.89 1160.96 Q1553.25 1160.96 1550.57 1164.65 Q1547.93 1168.31 1547.93 1174.77 Q1547.93 1181.23 1550.57 1184.92 Q1553.25 1188.59 1557.89 1188.59 Q1562.54 1188.59 1565.18 1184.92 Q1567.86 1181.23 1567.86 1174.77 Z\" fill=\"#000000\" fill-rule=\"evenodd\" fill-opacity=\"1\" /><path clip-path=\"url(#clip330)\" d=\"M1604.3 1162.39 Q1603.31 1161.82 1602.14 1161.56 Q1600.99 1161.28 1599.59 1161.28 Q1594.62 1161.28 1591.95 1164.52 Q1589.31 1167.74 1589.31 1173.79 L1589.31 1192.56 L1583.42 1192.56 L1583.42 1156.92 L1589.31 1156.92 L1589.31 1162.45 Q1591.15 1159.21 1594.11 1157.65 Q1597.07 1156.06 1601.31 1156.06 Q1601.91 1156.06 1602.64 1156.15 Q1603.38 1156.22 1604.27 1156.37 L1604.3 1162.39 Z\" fill=\"#000000\" fill-rule=\"evenodd\" fill-opacity=\"1\" /><path clip-path=\"url(#clip330)\" d=\"M1639.5 1173.28 L1639.5 1176.14 L1612.57 1176.14 Q1612.96 1182.19 1616.2 1185.37 Q1619.48 1188.52 1625.31 1188.52 Q1628.68 1188.52 1631.83 1187.69 Q1635.01 1186.87 1638.13 1185.21 L1638.13 1190.75 Q1634.98 1192.09 1631.67 1192.79 Q1628.36 1193.49 1624.96 1193.49 Q1616.43 1193.49 1611.43 1188.52 Q1606.46 1183.56 1606.46 1175.09 Q1606.46 1166.34 1611.17 1161.21 Q1615.92 1156.06 1623.94 1156.06 Q1631.13 1156.06 1635.3 1160.7 Q1639.5 1165.32 1639.5 1173.28 M1633.65 1171.56 Q1633.58 1166.75 1630.94 1163.89 Q1628.33 1161.02 1624 1161.02 Q1619.1 1161.02 1616.14 1163.79 Q1613.21 1166.56 1612.77 1171.59 L1633.65 1171.56 Z\" fill=\"#000000\" fill-rule=\"evenodd\" fill-opacity=\"1\" /><path clip-path=\"url(#clip330)\" d=\"M1672.57 1162.33 L1672.57 1143.04 L1678.43 1143.04 L1678.43 1192.56 L1672.57 1192.56 L1672.57 1187.22 Q1670.73 1190.4 1667.89 1191.96 Q1665.09 1193.49 1661.15 1193.49 Q1654.68 1193.49 1650.61 1188.33 Q1646.57 1183.17 1646.57 1174.77 Q1646.57 1166.37 1650.61 1161.21 Q1654.68 1156.06 1661.15 1156.06 Q1665.09 1156.06 1667.89 1157.62 Q1670.73 1159.14 1672.57 1162.33 M1652.62 1174.77 Q1652.62 1181.23 1655.26 1184.92 Q1657.93 1188.59 1662.58 1188.59 Q1667.22 1188.59 1669.9 1184.92 Q1672.57 1181.23 1672.57 1174.77 Q1672.57 1168.31 1669.9 1164.65 Q1667.22 1160.96 1662.58 1160.96 Q1657.93 1160.96 1655.26 1164.65 Q1652.62 1168.31 1652.62 1174.77 Z\" fill=\"#000000\" fill-rule=\"evenodd\" fill-opacity=\"1\" /><path clip-path=\"url(#clip330)\" d=\"M1690.49 1156.92 L1696.35 1156.92 L1696.35 1192.56 L1690.49 1192.56 L1690.49 1156.92 M1690.49 1143.04 L1696.35 1143.04 L1696.35 1150.45 L1690.49 1150.45 L1690.49 1143.04 Z\" fill=\"#000000\" fill-rule=\"evenodd\" fill-opacity=\"1\" /><path clip-path=\"url(#clip330)\" d=\"M1734.26 1158.28 L1734.26 1163.76 Q1731.77 1162.39 1729.26 1161.72 Q1726.78 1161.02 1724.23 1161.02 Q1718.53 1161.02 1715.38 1164.65 Q1712.23 1168.25 1712.23 1174.77 Q1712.23 1181.3 1715.38 1184.92 Q1718.53 1188.52 1724.23 1188.52 Q1726.78 1188.52 1729.26 1187.85 Q1731.77 1187.15 1734.26 1185.78 L1734.26 1191.2 Q1731.8 1192.34 1729.16 1192.91 Q1726.55 1193.49 1723.59 1193.49 Q1715.54 1193.49 1710.8 1188.43 Q1706.06 1183.37 1706.06 1174.77 Q1706.06 1166.05 1710.83 1161.05 Q1715.64 1156.06 1723.97 1156.06 Q1726.68 1156.06 1729.26 1156.63 Q1731.84 1157.17 1734.26 1158.28 Z\" fill=\"#000000\" fill-rule=\"evenodd\" fill-opacity=\"1\" /><path clip-path=\"url(#clip330)\" d=\"M1750.23 1146.79 L1750.23 1156.92 L1762.3 1156.92 L1762.3 1161.47 L1750.23 1161.47 L1750.23 1180.82 Q1750.23 1185.18 1751.41 1186.42 Q1752.62 1187.66 1756.28 1187.66 L1762.3 1187.66 L1762.3 1192.56 L1756.28 1192.56 Q1749.5 1192.56 1746.92 1190.05 Q1744.34 1187.5 1744.34 1180.82 L1744.34 1161.47 L1740.05 1161.47 L1740.05 1156.92 L1744.34 1156.92 L1744.34 1146.79 L1750.23 1146.79 Z\" fill=\"#000000\" fill-rule=\"evenodd\" fill-opacity=\"1\" /><path clip-path=\"url(#clip330)\" d=\"M1770 1156.92 L1775.86 1156.92 L1775.86 1192.56 L1770 1192.56 L1770 1156.92 M1770 1143.04 L1775.86 1143.04 L1775.86 1150.45 L1770 1150.45 L1770 1143.04 Z\" fill=\"#000000\" fill-rule=\"evenodd\" fill-opacity=\"1\" /><path clip-path=\"url(#clip330)\" d=\"M1801.92 1161.02 Q1797.21 1161.02 1794.47 1164.71 Q1791.74 1168.37 1791.74 1174.77 Q1791.74 1181.17 1794.44 1184.86 Q1797.18 1188.52 1801.92 1188.52 Q1806.6 1188.52 1809.34 1184.83 Q1812.08 1181.14 1812.08 1174.77 Q1812.08 1168.44 1809.34 1164.75 Q1806.6 1161.02 1801.92 1161.02 M1801.92 1156.06 Q1809.56 1156.06 1813.92 1161.02 Q1818.28 1165.99 1818.28 1174.77 Q1818.28 1183.52 1813.92 1188.52 Q1809.56 1193.49 1801.92 1193.49 Q1794.25 1193.49 1789.89 1188.52 Q1785.56 1183.52 1785.56 1174.77 Q1785.56 1165.99 1789.89 1161.02 Q1794.25 1156.06 1801.92 1156.06 Z\" fill=\"#000000\" fill-rule=\"evenodd\" fill-opacity=\"1\" /><path clip-path=\"url(#clip330)\" d=\"M1857.62 1171.05 L1857.62 1192.56 L1851.77 1192.56 L1851.77 1171.24 Q1851.77 1166.18 1849.79 1163.66 Q1847.82 1161.15 1843.87 1161.15 Q1839.13 1161.15 1836.39 1164.17 Q1833.66 1167.2 1833.66 1172.42 L1833.66 1192.56 L1827.77 1192.56 L1827.77 1156.92 L1833.66 1156.92 L1833.66 1162.45 Q1835.76 1159.24 1838.59 1157.65 Q1841.45 1156.06 1845.18 1156.06 Q1851.32 1156.06 1854.47 1159.88 Q1857.62 1163.66 1857.62 1171.05 Z\" fill=\"#000000\" fill-rule=\"evenodd\" fill-opacity=\"1\" /><path clip-path=\"url(#clip330)\" d=\"M1892.03 1157.97 L1892.03 1163.5 Q1889.55 1162.23 1886.87 1161.59 Q1884.2 1160.96 1881.33 1160.96 Q1876.97 1160.96 1874.78 1162.29 Q1872.61 1163.63 1872.61 1166.31 Q1872.61 1168.34 1874.17 1169.52 Q1875.73 1170.67 1880.44 1171.72 L1882.45 1172.16 Q1888.69 1173.5 1891.3 1175.95 Q1893.94 1178.37 1893.94 1182.73 Q1893.94 1187.69 1889.99 1190.59 Q1886.08 1193.49 1879.2 1193.49 Q1876.34 1193.49 1873.22 1192.91 Q1870.13 1192.37 1866.69 1191.26 L1866.69 1185.21 Q1869.94 1186.9 1873.09 1187.76 Q1876.24 1188.59 1879.33 1188.59 Q1883.47 1188.59 1885.7 1187.18 Q1887.92 1185.75 1887.92 1183.17 Q1887.92 1180.79 1886.3 1179.51 Q1884.71 1178.24 1879.27 1177.06 L1877.23 1176.59 Q1871.79 1175.44 1869.37 1173.08 Q1866.95 1170.7 1866.95 1166.56 Q1866.95 1161.53 1870.51 1158.79 Q1874.08 1156.06 1880.63 1156.06 Q1883.88 1156.06 1886.75 1156.53 Q1889.61 1157.01 1892.03 1157.97 Z\" fill=\"#000000\" fill-rule=\"evenodd\" fill-opacity=\"1\" /><path clip-path=\"url(#clip330)\" d=\"M1929.78 1146.79 L1929.78 1156.92 L1941.84 1156.92 L1941.84 1161.47 L1929.78 1161.47 L1929.78 1180.82 Q1929.78 1185.18 1930.96 1186.42 Q1932.17 1187.66 1935.83 1187.66 L1941.84 1187.66 L1941.84 1192.56 L1935.83 1192.56 Q1929.05 1192.56 1926.47 1190.05 Q1923.89 1187.5 1923.89 1180.82 L1923.89 1161.47 L1919.59 1161.47 L1919.59 1156.92 L1923.89 1156.92 L1923.89 1146.79 L1929.78 1146.79 Z\" fill=\"#000000\" fill-rule=\"evenodd\" fill-opacity=\"1\" /><path clip-path=\"url(#clip330)\" d=\"M1980.04 1173.28 L1980.04 1176.14 L1953.11 1176.14 Q1953.49 1182.19 1956.74 1185.37 Q1960.02 1188.52 1965.84 1188.52 Q1969.21 1188.52 1972.36 1187.69 Q1975.55 1186.87 1978.67 1185.21 L1978.67 1190.75 Q1975.52 1192.09 1972.21 1192.79 Q1968.9 1193.49 1965.49 1193.49 Q1956.96 1193.49 1951.96 1188.52 Q1947 1183.56 1947 1175.09 Q1947 1166.34 1951.71 1161.21 Q1956.45 1156.06 1964.47 1156.06 Q1971.66 1156.06 1975.83 1160.7 Q1980.04 1165.32 1980.04 1173.28 M1974.18 1171.56 Q1974.12 1166.75 1971.47 1163.89 Q1968.86 1161.02 1964.53 1161.02 Q1959.63 1161.02 1956.67 1163.79 Q1953.74 1166.56 1953.3 1171.59 L1974.18 1171.56 Z\" fill=\"#000000\" fill-rule=\"evenodd\" fill-opacity=\"1\" /><path clip-path=\"url(#clip330)\" d=\"M2012.37 1157.97 L2012.37 1163.5 Q2009.89 1162.23 2007.22 1161.59 Q2004.54 1160.96 2001.68 1160.96 Q1997.32 1160.96 1995.12 1162.29 Q1992.96 1163.63 1992.96 1166.31 Q1992.96 1168.34 1994.52 1169.52 Q1996.08 1170.67 2000.79 1171.72 L2002.79 1172.16 Q2009.03 1173.5 2011.64 1175.95 Q2014.28 1178.37 2014.28 1182.73 Q2014.28 1187.69 2010.34 1190.59 Q2006.42 1193.49 1999.55 1193.49 Q1996.68 1193.49 1993.56 1192.91 Q1990.47 1192.37 1987.04 1191.26 L1987.04 1185.21 Q1990.28 1186.9 1993.44 1187.76 Q1996.59 1188.59 1999.67 1188.59 Q2003.81 1188.59 2006.04 1187.18 Q2008.27 1185.75 2008.27 1183.17 Q2008.27 1180.79 2006.64 1179.51 Q2005.05 1178.24 1999.61 1177.06 L1997.57 1176.59 Q1992.13 1175.44 1989.71 1173.08 Q1987.29 1170.7 1987.29 1166.56 Q1987.29 1161.53 1990.86 1158.79 Q1994.42 1156.06 2000.98 1156.06 Q2004.22 1156.06 2007.09 1156.53 Q2009.95 1157.01 2012.37 1157.97 Z\" fill=\"#000000\" fill-rule=\"evenodd\" fill-opacity=\"1\" /><path clip-path=\"url(#clip330)\" d=\"M2029.4 1146.79 L2029.4 1156.92 L2041.46 1156.92 L2041.46 1161.47 L2029.4 1161.47 L2029.4 1180.82 Q2029.4 1185.18 2030.58 1186.42 Q2031.79 1187.66 2035.45 1187.66 L2041.46 1187.66 L2041.46 1192.56 L2035.45 1192.56 Q2028.67 1192.56 2026.09 1190.05 Q2023.51 1187.5 2023.51 1180.82 L2023.51 1161.47 L2019.22 1161.47 L2019.22 1156.92 L2023.51 1156.92 L2023.51 1146.79 L2029.4 1146.79 Z\" fill=\"#000000\" fill-rule=\"evenodd\" fill-opacity=\"1\" /><path clip-path=\"url(#clip330)\" d=\"M2093.34 1162.33 L2093.34 1143.04 L2099.2 1143.04 L2099.2 1192.56 L2093.34 1192.56 L2093.34 1187.22 Q2091.5 1190.4 2088.67 1191.96 Q2085.87 1193.49 2081.92 1193.49 Q2075.46 1193.49 2071.38 1188.33 Q2067.34 1183.17 2067.34 1174.77 Q2067.34 1166.37 2071.38 1161.21 Q2075.46 1156.06 2081.92 1156.06 Q2085.87 1156.06 2088.67 1157.62 Q2091.5 1159.14 2093.34 1162.33 M2073.39 1174.77 Q2073.39 1181.23 2076.03 1184.92 Q2078.7 1188.59 2083.35 1188.59 Q2088 1188.59 2090.67 1184.92 Q2093.34 1181.23 2093.34 1174.77 Q2093.34 1168.31 2090.67 1164.65 Q2088 1160.96 2083.35 1160.96 Q2078.7 1160.96 2076.03 1164.65 Q2073.39 1168.31 2073.39 1174.77 Z\" fill=\"#000000\" fill-rule=\"evenodd\" fill-opacity=\"1\" /><path clip-path=\"url(#clip330)\" d=\"M2127.46 1174.64 Q2120.37 1174.64 2117.63 1176.27 Q2114.89 1177.89 2114.89 1181.81 Q2114.89 1184.92 2116.93 1186.77 Q2119 1188.59 2122.53 1188.59 Q2127.4 1188.59 2130.33 1185.15 Q2133.29 1181.68 2133.29 1175.95 L2133.29 1174.64 L2127.46 1174.64 M2139.15 1172.23 L2139.15 1192.56 L2133.29 1192.56 L2133.29 1187.15 Q2131.28 1190.4 2128.29 1191.96 Q2125.3 1193.49 2120.97 1193.49 Q2115.5 1193.49 2112.25 1190.43 Q2109.04 1187.34 2109.04 1182.19 Q2109.04 1176.17 2113.05 1173.12 Q2117.09 1170.06 2125.08 1170.06 L2133.29 1170.06 L2133.29 1169.49 Q2133.29 1165.45 2130.62 1163.25 Q2127.97 1161.02 2123.17 1161.02 Q2120.11 1161.02 2117.22 1161.75 Q2114.32 1162.49 2111.65 1163.95 L2111.65 1158.54 Q2114.86 1157.3 2117.88 1156.69 Q2120.91 1156.06 2123.77 1156.06 Q2131.51 1156.06 2135.33 1160.07 Q2139.15 1164.08 2139.15 1172.23 Z\" fill=\"#000000\" fill-rule=\"evenodd\" fill-opacity=\"1\" /><path clip-path=\"url(#clip330)\" d=\"M2157 1146.79 L2157 1156.92 L2169.06 1156.92 L2169.06 1161.47 L2157 1161.47 L2157 1180.82 Q2157 1185.18 2158.18 1186.42 Q2159.39 1187.66 2163.05 1187.66 L2169.06 1187.66 L2169.06 1192.56 L2163.05 1192.56 Q2156.27 1192.56 2153.69 1190.05 Q2151.11 1187.5 2151.11 1180.82 L2151.11 1161.47 L2146.82 1161.47 L2146.82 1156.92 L2151.11 1156.92 L2151.11 1146.79 L2157 1146.79 Z\" fill=\"#000000\" fill-rule=\"evenodd\" fill-opacity=\"1\" /><path clip-path=\"url(#clip330)\" d=\"M2192.97 1174.64 Q2185.87 1174.64 2183.13 1176.27 Q2180.4 1177.89 2180.4 1181.81 Q2180.4 1184.92 2182.43 1186.77 Q2184.5 1188.59 2188.03 1188.59 Q2192.9 1188.59 2195.83 1185.15 Q2198.79 1181.68 2198.79 1175.95 L2198.79 1174.64 L2192.97 1174.64 M2204.65 1172.23 L2204.65 1192.56 L2198.79 1192.56 L2198.79 1187.15 Q2196.79 1190.4 2193.8 1191.96 Q2190.8 1193.49 2186.48 1193.49 Q2181 1193.49 2177.75 1190.43 Q2174.54 1187.34 2174.54 1182.19 Q2174.54 1176.17 2178.55 1173.12 Q2182.59 1170.06 2190.58 1170.06 L2198.79 1170.06 L2198.79 1169.49 Q2198.79 1165.45 2196.12 1163.25 Q2193.48 1161.02 2188.67 1161.02 Q2185.62 1161.02 2182.72 1161.75 Q2179.82 1162.49 2177.15 1163.95 L2177.15 1158.54 Q2180.36 1157.3 2183.39 1156.69 Q2186.41 1156.06 2189.28 1156.06 Q2197.01 1156.06 2200.83 1160.07 Q2204.65 1164.08 2204.65 1172.23 Z\" fill=\"#000000\" fill-rule=\"evenodd\" fill-opacity=\"1\" /><polyline clip-path=\"url(#clip333)\" style=\"stroke:#000000; stroke-linecap:butt; stroke-linejoin:round; stroke-width:2; stroke-opacity:0.1; fill:none\" points=\"\n",
       "  1393.94,1020.07 2352.76,1020.07 \n",
       "  \"/>\n",
       "<polyline clip-path=\"url(#clip333)\" style=\"stroke:#000000; stroke-linecap:butt; stroke-linejoin:round; stroke-width:2; stroke-opacity:0.1; fill:none\" points=\"\n",
       "  1393.94,808.448 2352.76,808.448 \n",
       "  \"/>\n",
       "<polyline clip-path=\"url(#clip333)\" style=\"stroke:#000000; stroke-linecap:butt; stroke-linejoin:round; stroke-width:2; stroke-opacity:0.1; fill:none\" points=\"\n",
       "  1393.94,596.829 2352.76,596.829 \n",
       "  \"/>\n",
       "<polyline clip-path=\"url(#clip333)\" style=\"stroke:#000000; stroke-linecap:butt; stroke-linejoin:round; stroke-width:2; stroke-opacity:0.1; fill:none\" points=\"\n",
       "  1393.94,385.21 2352.76,385.21 \n",
       "  \"/>\n",
       "<polyline clip-path=\"url(#clip333)\" style=\"stroke:#000000; stroke-linecap:butt; stroke-linejoin:round; stroke-width:2; stroke-opacity:0.1; fill:none\" points=\"\n",
       "  1393.94,173.591 2352.76,173.591 \n",
       "  \"/>\n",
       "<polyline clip-path=\"url(#clip330)\" style=\"stroke:#000000; stroke-linecap:butt; stroke-linejoin:round; stroke-width:4; stroke-opacity:1; fill:none\" points=\"\n",
       "  1393.94,1047.7 1393.94,47.2441 \n",
       "  \"/>\n",
       "<polyline clip-path=\"url(#clip330)\" style=\"stroke:#000000; stroke-linecap:butt; stroke-linejoin:round; stroke-width:4; stroke-opacity:1; fill:none\" points=\"\n",
       "  1393.94,1020.07 1412.83,1020.07 \n",
       "  \"/>\n",
       "<polyline clip-path=\"url(#clip330)\" style=\"stroke:#000000; stroke-linecap:butt; stroke-linejoin:round; stroke-width:4; stroke-opacity:1; fill:none\" points=\"\n",
       "  1393.94,808.448 1412.83,808.448 \n",
       "  \"/>\n",
       "<polyline clip-path=\"url(#clip330)\" style=\"stroke:#000000; stroke-linecap:butt; stroke-linejoin:round; stroke-width:4; stroke-opacity:1; fill:none\" points=\"\n",
       "  1393.94,596.829 1412.83,596.829 \n",
       "  \"/>\n",
       "<polyline clip-path=\"url(#clip330)\" style=\"stroke:#000000; stroke-linecap:butt; stroke-linejoin:round; stroke-width:4; stroke-opacity:1; fill:none\" points=\"\n",
       "  1393.94,385.21 1412.83,385.21 \n",
       "  \"/>\n",
       "<polyline clip-path=\"url(#clip330)\" style=\"stroke:#000000; stroke-linecap:butt; stroke-linejoin:round; stroke-width:4; stroke-opacity:1; fill:none\" points=\"\n",
       "  1393.94,173.591 1412.83,173.591 \n",
       "  \"/>\n",
       "<path clip-path=\"url(#clip330)\" d=\"M1250.99 1020.52 L1280.67 1020.52 L1280.67 1024.45 L1250.99 1024.45 L1250.99 1020.52 Z\" fill=\"#000000\" fill-rule=\"evenodd\" fill-opacity=\"1\" /><path clip-path=\"url(#clip330)\" d=\"M1291.57 1033.41 L1299.21 1033.41 L1299.21 1007.05 L1290.9 1008.71 L1290.9 1004.45 L1299.16 1002.79 L1303.84 1002.79 L1303.84 1033.41 L1311.48 1033.41 L1311.48 1037.35 L1291.57 1037.35 L1291.57 1033.41 Z\" fill=\"#000000\" fill-rule=\"evenodd\" fill-opacity=\"1\" /><path clip-path=\"url(#clip330)\" d=\"M1320.92 1031.47 L1325.81 1031.47 L1325.81 1037.35 L1320.92 1037.35 L1320.92 1031.47 Z\" fill=\"#000000\" fill-rule=\"evenodd\" fill-opacity=\"1\" /><path clip-path=\"url(#clip330)\" d=\"M1345.99 1005.87 Q1342.38 1005.87 1340.55 1009.43 Q1338.75 1012.97 1338.75 1020.1 Q1338.75 1027.21 1340.55 1030.77 Q1342.38 1034.31 1345.99 1034.31 Q1349.63 1034.31 1351.43 1030.77 Q1353.26 1027.21 1353.26 1020.1 Q1353.26 1012.97 1351.43 1009.43 Q1349.63 1005.87 1345.99 1005.87 M1345.99 1002.16 Q1351.8 1002.16 1354.86 1006.77 Q1357.94 1011.35 1357.94 1020.1 Q1357.94 1028.83 1354.86 1033.44 Q1351.8 1038.02 1345.99 1038.02 Q1340.18 1038.02 1337.1 1033.44 Q1334.05 1028.83 1334.05 1020.1 Q1334.05 1011.35 1337.1 1006.77 Q1340.18 1002.16 1345.99 1002.16 Z\" fill=\"#000000\" fill-rule=\"evenodd\" fill-opacity=\"1\" /><path clip-path=\"url(#clip330)\" d=\"M1251.99 808.9 L1281.66 808.9 L1281.66 812.835 L1251.99 812.835 L1251.99 808.9 Z\" fill=\"#000000\" fill-rule=\"evenodd\" fill-opacity=\"1\" /><path clip-path=\"url(#clip330)\" d=\"M1301.76 794.247 Q1298.14 794.247 1296.32 797.812 Q1294.51 801.353 1294.51 808.483 Q1294.51 815.589 1296.32 819.154 Q1298.14 822.696 1301.76 822.696 Q1305.39 822.696 1307.2 819.154 Q1309.02 815.589 1309.02 808.483 Q1309.02 801.353 1307.2 797.812 Q1305.39 794.247 1301.76 794.247 M1301.76 790.543 Q1307.57 790.543 1310.62 795.15 Q1313.7 799.733 1313.7 808.483 Q1313.7 817.21 1310.62 821.816 Q1307.57 826.4 1301.76 826.4 Q1295.95 826.4 1292.87 821.816 Q1289.81 817.21 1289.81 808.483 Q1289.81 799.733 1292.87 795.15 Q1295.95 790.543 1301.76 790.543 Z\" fill=\"#000000\" fill-rule=\"evenodd\" fill-opacity=\"1\" /><path clip-path=\"url(#clip330)\" d=\"M1321.92 819.849 L1326.8 819.849 L1326.8 825.728 L1321.92 825.728 L1321.92 819.849 Z\" fill=\"#000000\" fill-rule=\"evenodd\" fill-opacity=\"1\" /><path clip-path=\"url(#clip330)\" d=\"M1337.03 791.168 L1355.39 791.168 L1355.39 795.103 L1341.32 795.103 L1341.32 803.576 Q1342.33 803.228 1343.35 803.066 Q1344.37 802.881 1345.39 802.881 Q1351.18 802.881 1354.56 806.052 Q1357.94 809.224 1357.94 814.64 Q1357.94 820.219 1354.46 823.321 Q1350.99 826.4 1344.67 826.4 Q1342.5 826.4 1340.23 826.029 Q1337.98 825.659 1335.58 824.918 L1335.58 820.219 Q1337.66 821.353 1339.88 821.909 Q1342.1 822.464 1344.58 822.464 Q1348.58 822.464 1350.92 820.358 Q1353.26 818.251 1353.26 814.64 Q1353.26 811.029 1350.92 808.923 Q1348.58 806.816 1344.58 806.816 Q1342.7 806.816 1340.83 807.233 Q1338.98 807.65 1337.03 808.529 L1337.03 791.168 Z\" fill=\"#000000\" fill-rule=\"evenodd\" fill-opacity=\"1\" /><path clip-path=\"url(#clip330)\" d=\"M1300.76 582.628 Q1297.15 582.628 1295.32 586.193 Q1293.52 589.734 1293.52 596.864 Q1293.52 603.97 1295.32 607.535 Q1297.15 611.077 1300.76 611.077 Q1304.39 611.077 1306.2 607.535 Q1308.03 603.97 1308.03 596.864 Q1308.03 589.734 1306.2 586.193 Q1304.39 582.628 1300.76 582.628 M1300.76 578.924 Q1306.57 578.924 1309.63 583.531 Q1312.7 588.114 1312.7 596.864 Q1312.7 605.591 1309.63 610.197 Q1306.57 614.781 1300.76 614.781 Q1294.95 614.781 1291.87 610.197 Q1288.82 605.591 1288.82 596.864 Q1288.82 588.114 1291.87 583.531 Q1294.95 578.924 1300.76 578.924 Z\" fill=\"#000000\" fill-rule=\"evenodd\" fill-opacity=\"1\" /><path clip-path=\"url(#clip330)\" d=\"M1320.92 608.23 L1325.81 608.23 L1325.81 614.109 L1320.92 614.109 L1320.92 608.23 Z\" fill=\"#000000\" fill-rule=\"evenodd\" fill-opacity=\"1\" /><path clip-path=\"url(#clip330)\" d=\"M1345.99 582.628 Q1342.38 582.628 1340.55 586.193 Q1338.75 589.734 1338.75 596.864 Q1338.75 603.97 1340.55 607.535 Q1342.38 611.077 1345.99 611.077 Q1349.63 611.077 1351.43 607.535 Q1353.26 603.97 1353.26 596.864 Q1353.26 589.734 1351.43 586.193 Q1349.63 582.628 1345.99 582.628 M1345.99 578.924 Q1351.8 578.924 1354.86 583.531 Q1357.94 588.114 1357.94 596.864 Q1357.94 605.591 1354.86 610.197 Q1351.8 614.781 1345.99 614.781 Q1340.18 614.781 1337.1 610.197 Q1334.05 605.591 1334.05 596.864 Q1334.05 588.114 1337.1 583.531 Q1340.18 578.924 1345.99 578.924 Z\" fill=\"#000000\" fill-rule=\"evenodd\" fill-opacity=\"1\" /><path clip-path=\"url(#clip330)\" d=\"M1301.76 371.009 Q1298.14 371.009 1296.32 374.574 Q1294.51 378.115 1294.51 385.245 Q1294.51 392.352 1296.32 395.916 Q1298.14 399.458 1301.76 399.458 Q1305.39 399.458 1307.2 395.916 Q1309.02 392.352 1309.02 385.245 Q1309.02 378.115 1307.2 374.574 Q1305.39 371.009 1301.76 371.009 M1301.76 367.305 Q1307.57 367.305 1310.62 371.912 Q1313.7 376.495 1313.7 385.245 Q1313.7 393.972 1310.62 398.578 Q1307.57 403.162 1301.76 403.162 Q1295.95 403.162 1292.87 398.578 Q1289.81 393.972 1289.81 385.245 Q1289.81 376.495 1292.87 371.912 Q1295.95 367.305 1301.76 367.305 Z\" fill=\"#000000\" fill-rule=\"evenodd\" fill-opacity=\"1\" /><path clip-path=\"url(#clip330)\" d=\"M1321.92 396.611 L1326.8 396.611 L1326.8 402.49 L1321.92 402.49 L1321.92 396.611 Z\" fill=\"#000000\" fill-rule=\"evenodd\" fill-opacity=\"1\" /><path clip-path=\"url(#clip330)\" d=\"M1337.03 367.93 L1355.39 367.93 L1355.39 371.866 L1341.32 371.866 L1341.32 380.338 Q1342.33 379.99 1343.35 379.828 Q1344.37 379.643 1345.39 379.643 Q1351.18 379.643 1354.56 382.815 Q1357.94 385.986 1357.94 391.402 Q1357.94 396.981 1354.46 400.083 Q1350.99 403.162 1344.67 403.162 Q1342.5 403.162 1340.23 402.791 Q1337.98 402.421 1335.58 401.68 L1335.58 396.981 Q1337.66 398.115 1339.88 398.671 Q1342.1 399.226 1344.58 399.226 Q1348.58 399.226 1350.92 397.12 Q1353.26 395.014 1353.26 391.402 Q1353.26 387.791 1350.92 385.685 Q1348.58 383.578 1344.58 383.578 Q1342.7 383.578 1340.83 383.995 Q1338.98 384.412 1337.03 385.291 L1337.03 367.93 Z\" fill=\"#000000\" fill-rule=\"evenodd\" fill-opacity=\"1\" /><path clip-path=\"url(#clip330)\" d=\"M1291.57 186.936 L1299.21 186.936 L1299.21 160.571 L1290.9 162.237 L1290.9 157.978 L1299.16 156.311 L1303.84 156.311 L1303.84 186.936 L1311.48 186.936 L1311.48 190.871 L1291.57 190.871 L1291.57 186.936 Z\" fill=\"#000000\" fill-rule=\"evenodd\" fill-opacity=\"1\" /><path clip-path=\"url(#clip330)\" d=\"M1320.92 184.992 L1325.81 184.992 L1325.81 190.871 L1320.92 190.871 L1320.92 184.992 Z\" fill=\"#000000\" fill-rule=\"evenodd\" fill-opacity=\"1\" /><path clip-path=\"url(#clip330)\" d=\"M1345.99 159.39 Q1342.38 159.39 1340.55 162.955 Q1338.75 166.497 1338.75 173.626 Q1338.75 180.733 1340.55 184.297 Q1342.38 187.839 1345.99 187.839 Q1349.63 187.839 1351.43 184.297 Q1353.26 180.733 1353.26 173.626 Q1353.26 166.497 1351.43 162.955 Q1349.63 159.39 1345.99 159.39 M1345.99 155.686 Q1351.8 155.686 1354.86 160.293 Q1357.94 164.876 1357.94 173.626 Q1357.94 182.353 1354.86 186.959 Q1351.8 191.543 1345.99 191.543 Q1340.18 191.543 1337.1 186.959 Q1334.05 182.353 1334.05 173.626 Q1334.05 164.876 1337.1 160.293 Q1340.18 155.686 1345.99 155.686 Z\" fill=\"#000000\" fill-rule=\"evenodd\" fill-opacity=\"1\" /><circle clip-path=\"url(#clip333)\" cx=\"2125.86\" cy=\"639.042\" r=\"14\" fill=\"#cd5c5c\" fill-rule=\"evenodd\" fill-opacity=\"1\" stroke=\"#000000\" stroke-opacity=\"1\" stroke-width=\"2.4\"/>\n",
       "<circle clip-path=\"url(#clip333)\" cx=\"1576.08\" cy=\"548.97\" r=\"14\" fill=\"#cd5c5c\" fill-rule=\"evenodd\" fill-opacity=\"1\" stroke=\"#000000\" stroke-opacity=\"1\" stroke-width=\"2.4\"/>\n",
       "<circle clip-path=\"url(#clip333)\" cx=\"1628.8\" cy=\"458.174\" r=\"14\" fill=\"#cd5c5c\" fill-rule=\"evenodd\" fill-opacity=\"1\" stroke=\"#000000\" stroke-opacity=\"1\" stroke-width=\"2.4\"/>\n",
       "<circle clip-path=\"url(#clip333)\" cx=\"1765.61\" cy=\"346.046\" r=\"14\" fill=\"#cd5c5c\" fill-rule=\"evenodd\" fill-opacity=\"1\" stroke=\"#000000\" stroke-opacity=\"1\" stroke-width=\"2.4\"/>\n",
       "<circle clip-path=\"url(#clip333)\" cx=\"1671.17\" cy=\"570.95\" r=\"14\" fill=\"#cd5c5c\" fill-rule=\"evenodd\" fill-opacity=\"1\" stroke=\"#000000\" stroke-opacity=\"1\" stroke-width=\"2.4\"/>\n",
       "<circle clip-path=\"url(#clip333)\" cx=\"1557.07\" cy=\"246.644\" r=\"14\" fill=\"#cd5c5c\" fill-rule=\"evenodd\" fill-opacity=\"1\" stroke=\"#000000\" stroke-opacity=\"1\" stroke-width=\"2.4\"/>\n",
       "<circle clip-path=\"url(#clip333)\" cx=\"1826.66\" cy=\"321.716\" r=\"14\" fill=\"#cd5c5c\" fill-rule=\"evenodd\" fill-opacity=\"1\" stroke=\"#000000\" stroke-opacity=\"1\" stroke-width=\"2.4\"/>\n",
       "<circle clip-path=\"url(#clip333)\" cx=\"1544.04\" cy=\"794.39\" r=\"14\" fill=\"#cd5c5c\" fill-rule=\"evenodd\" fill-opacity=\"1\" stroke=\"#000000\" stroke-opacity=\"1\" stroke-width=\"2.4\"/>\n",
       "<circle clip-path=\"url(#clip333)\" cx=\"1521.72\" cy=\"542.215\" r=\"14\" fill=\"#cd5c5c\" fill-rule=\"evenodd\" fill-opacity=\"1\" stroke=\"#000000\" stroke-opacity=\"1\" stroke-width=\"2.4\"/>\n",
       "<circle clip-path=\"url(#clip333)\" cx=\"1627.32\" cy=\"543.517\" r=\"14\" fill=\"#cd5c5c\" fill-rule=\"evenodd\" fill-opacity=\"1\" stroke=\"#000000\" stroke-opacity=\"1\" stroke-width=\"2.4\"/>\n",
       "<circle clip-path=\"url(#clip333)\" cx=\"1701.64\" cy=\"391.057\" r=\"14\" fill=\"#cd5c5c\" fill-rule=\"evenodd\" fill-opacity=\"1\" stroke=\"#000000\" stroke-opacity=\"1\" stroke-width=\"2.4\"/>\n",
       "<circle clip-path=\"url(#clip333)\" cx=\"1421.07\" cy=\"518.399\" r=\"14\" fill=\"#cd5c5c\" fill-rule=\"evenodd\" fill-opacity=\"1\" stroke=\"#000000\" stroke-opacity=\"1\" stroke-width=\"2.4\"/>\n",
       "<circle clip-path=\"url(#clip333)\" cx=\"1785.51\" cy=\"445.788\" r=\"14\" fill=\"#cd5c5c\" fill-rule=\"evenodd\" fill-opacity=\"1\" stroke=\"#000000\" stroke-opacity=\"1\" stroke-width=\"2.4\"/>\n",
       "<circle clip-path=\"url(#clip333)\" cx=\"1618.98\" cy=\"252.803\" r=\"14\" fill=\"#cd5c5c\" fill-rule=\"evenodd\" fill-opacity=\"1\" stroke=\"#000000\" stroke-opacity=\"1\" stroke-width=\"2.4\"/>\n",
       "<circle clip-path=\"url(#clip333)\" cx=\"1537.18\" cy=\"292.812\" r=\"14\" fill=\"#cd5c5c\" fill-rule=\"evenodd\" fill-opacity=\"1\" stroke=\"#000000\" stroke-opacity=\"1\" stroke-width=\"2.4\"/>\n",
       "<circle clip-path=\"url(#clip333)\" cx=\"1890.32\" cy=\"439.034\" r=\"14\" fill=\"#cd5c5c\" fill-rule=\"evenodd\" fill-opacity=\"1\" stroke=\"#000000\" stroke-opacity=\"1\" stroke-width=\"2.4\"/>\n",
       "<circle clip-path=\"url(#clip333)\" cx=\"1655.18\" cy=\"605.079\" r=\"14\" fill=\"#cd5c5c\" fill-rule=\"evenodd\" fill-opacity=\"1\" stroke=\"#000000\" stroke-opacity=\"1\" stroke-width=\"2.4\"/>\n",
       "<circle clip-path=\"url(#clip333)\" cx=\"1623.15\" cy=\"556.431\" r=\"14\" fill=\"#cd5c5c\" fill-rule=\"evenodd\" fill-opacity=\"1\" stroke=\"#000000\" stroke-opacity=\"1\" stroke-width=\"2.4\"/>\n",
       "<circle clip-path=\"url(#clip333)\" cx=\"1549.4\" cy=\"588.783\" r=\"14\" fill=\"#cd5c5c\" fill-rule=\"evenodd\" fill-opacity=\"1\" stroke=\"#000000\" stroke-opacity=\"1\" stroke-width=\"2.4\"/>\n",
       "<circle clip-path=\"url(#clip333)\" cx=\"1598.16\" cy=\"534.224\" r=\"14\" fill=\"#cd5c5c\" fill-rule=\"evenodd\" fill-opacity=\"1\" stroke=\"#000000\" stroke-opacity=\"1\" stroke-width=\"2.4\"/>\n",
       "<circle clip-path=\"url(#clip333)\" cx=\"1693.58\" cy=\"405.337\" r=\"14\" fill=\"#cd5c5c\" fill-rule=\"evenodd\" fill-opacity=\"1\" stroke=\"#000000\" stroke-opacity=\"1\" stroke-width=\"2.4\"/>\n",
       "<circle clip-path=\"url(#clip333)\" cx=\"1825.74\" cy=\"384.134\" r=\"14\" fill=\"#cd5c5c\" fill-rule=\"evenodd\" fill-opacity=\"1\" stroke=\"#000000\" stroke-opacity=\"1\" stroke-width=\"2.4\"/>\n",
       "<circle clip-path=\"url(#clip333)\" cx=\"1534.08\" cy=\"75.5589\" r=\"14\" fill=\"#cd5c5c\" fill-rule=\"evenodd\" fill-opacity=\"1\" stroke=\"#000000\" stroke-opacity=\"1\" stroke-width=\"2.4\"/>\n",
       "<circle clip-path=\"url(#clip333)\" cx=\"1703.11\" cy=\"744.254\" r=\"14\" fill=\"#4682b4\" fill-rule=\"evenodd\" fill-opacity=\"1\" stroke=\"#000000\" stroke-opacity=\"1\" stroke-width=\"2.4\"/>\n",
       "<circle clip-path=\"url(#clip333)\" cx=\"1947.45\" cy=\"716.338\" r=\"14\" fill=\"#4682b4\" fill-rule=\"evenodd\" fill-opacity=\"1\" stroke=\"#000000\" stroke-opacity=\"1\" stroke-width=\"2.4\"/>\n",
       "<circle clip-path=\"url(#clip333)\" cx=\"2020.1\" cy=\"747.535\" r=\"14\" fill=\"#4682b4\" fill-rule=\"evenodd\" fill-opacity=\"1\" stroke=\"#000000\" stroke-opacity=\"1\" stroke-width=\"2.4\"/>\n",
       "<circle clip-path=\"url(#clip333)\" cx=\"2156.13\" cy=\"1019.39\" r=\"14\" fill=\"#4682b4\" fill-rule=\"evenodd\" fill-opacity=\"1\" stroke=\"#000000\" stroke-opacity=\"1\" stroke-width=\"2.4\"/>\n",
       "<circle clip-path=\"url(#clip333)\" cx=\"1894.97\" cy=\"729.613\" r=\"14\" fill=\"#4682b4\" fill-rule=\"evenodd\" fill-opacity=\"1\" stroke=\"#000000\" stroke-opacity=\"1\" stroke-width=\"2.4\"/>\n",
       "<circle clip-path=\"url(#clip333)\" cx=\"2014.64\" cy=\"703.753\" r=\"14\" fill=\"#4682b4\" fill-rule=\"evenodd\" fill-opacity=\"1\" stroke=\"#000000\" stroke-opacity=\"1\" stroke-width=\"2.4\"/>\n",
       "<circle clip-path=\"url(#clip333)\" cx=\"2093.52\" cy=\"858.585\" r=\"14\" fill=\"#4682b4\" fill-rule=\"evenodd\" fill-opacity=\"1\" stroke=\"#000000\" stroke-opacity=\"1\" stroke-width=\"2.4\"/>\n",
       "<circle clip-path=\"url(#clip333)\" cx=\"1866.55\" cy=\"729.725\" r=\"14\" fill=\"#4682b4\" fill-rule=\"evenodd\" fill-opacity=\"1\" stroke=\"#000000\" stroke-opacity=\"1\" stroke-width=\"2.4\"/>\n",
       "<circle clip-path=\"url(#clip333)\" cx=\"1872.06\" cy=\"631.206\" r=\"14\" fill=\"#4682b4\" fill-rule=\"evenodd\" fill-opacity=\"1\" stroke=\"#000000\" stroke-opacity=\"1\" stroke-width=\"2.4\"/>\n",
       "<circle clip-path=\"url(#clip333)\" cx=\"1982.05\" cy=\"727.348\" r=\"14\" fill=\"#4682b4\" fill-rule=\"evenodd\" fill-opacity=\"1\" stroke=\"#000000\" stroke-opacity=\"1\" stroke-width=\"2.4\"/>\n",
       "<circle clip-path=\"url(#clip333)\" cx=\"1996.47\" cy=\"712.723\" r=\"14\" fill=\"#4682b4\" fill-rule=\"evenodd\" fill-opacity=\"1\" stroke=\"#000000\" stroke-opacity=\"1\" stroke-width=\"2.4\"/>\n",
       "<circle clip-path=\"url(#clip333)\" cx=\"1935.1\" cy=\"660.206\" r=\"14\" fill=\"#4682b4\" fill-rule=\"evenodd\" fill-opacity=\"1\" stroke=\"#000000\" stroke-opacity=\"1\" stroke-width=\"2.4\"/>\n",
       "<circle clip-path=\"url(#clip333)\" cx=\"2054.71\" cy=\"669.27\" r=\"14\" fill=\"#4682b4\" fill-rule=\"evenodd\" fill-opacity=\"1\" stroke=\"#000000\" stroke-opacity=\"1\" stroke-width=\"2.4\"/>\n",
       "<circle clip-path=\"url(#clip333)\" cx=\"1741.08\" cy=\"569.382\" r=\"14\" fill=\"#4682b4\" fill-rule=\"evenodd\" fill-opacity=\"1\" stroke=\"#000000\" stroke-opacity=\"1\" stroke-width=\"2.4\"/>\n",
       "<circle clip-path=\"url(#clip333)\" cx=\"1916.32\" cy=\"762.549\" r=\"14\" fill=\"#4682b4\" fill-rule=\"evenodd\" fill-opacity=\"1\" stroke=\"#000000\" stroke-opacity=\"1\" stroke-width=\"2.4\"/>\n",
       "<circle clip-path=\"url(#clip333)\" cx=\"2074.85\" cy=\"690.603\" r=\"14\" fill=\"#4682b4\" fill-rule=\"evenodd\" fill-opacity=\"1\" stroke=\"#000000\" stroke-opacity=\"1\" stroke-width=\"2.4\"/>\n",
       "<circle clip-path=\"url(#clip333)\" cx=\"1806\" cy=\"598.837\" r=\"14\" fill=\"#4682b4\" fill-rule=\"evenodd\" fill-opacity=\"1\" stroke=\"#000000\" stroke-opacity=\"1\" stroke-width=\"2.4\"/>\n",
       "<circle clip-path=\"url(#clip333)\" cx=\"1986.62\" cy=\"600.357\" r=\"14\" fill=\"#4682b4\" fill-rule=\"evenodd\" fill-opacity=\"1\" stroke=\"#000000\" stroke-opacity=\"1\" stroke-width=\"2.4\"/>\n",
       "<circle clip-path=\"url(#clip333)\" cx=\"1916.86\" cy=\"802.525\" r=\"14\" fill=\"#4682b4\" fill-rule=\"evenodd\" fill-opacity=\"1\" stroke=\"#000000\" stroke-opacity=\"1\" stroke-width=\"2.4\"/>\n",
       "<circle clip-path=\"url(#clip333)\" cx=\"1912.69\" cy=\"583.787\" r=\"14\" fill=\"#4682b4\" fill-rule=\"evenodd\" fill-opacity=\"1\" stroke=\"#000000\" stroke-opacity=\"1\" stroke-width=\"2.4\"/>\n",
       "<circle clip-path=\"url(#clip333)\" cx=\"1961.72\" cy=\"627.014\" r=\"14\" fill=\"#4682b4\" fill-rule=\"evenodd\" fill-opacity=\"1\" stroke=\"#000000\" stroke-opacity=\"1\" stroke-width=\"2.4\"/>\n",
       "<circle clip-path=\"url(#clip333)\" cx=\"2120.04\" cy=\"661.127\" r=\"14\" fill=\"#4682b4\" fill-rule=\"evenodd\" fill-opacity=\"1\" stroke=\"#000000\" stroke-opacity=\"1\" stroke-width=\"2.4\"/>\n",
       "<circle clip-path=\"url(#clip333)\" cx=\"2325.62\" cy=\"951.009\" r=\"14\" fill=\"#4682b4\" fill-rule=\"evenodd\" fill-opacity=\"1\" stroke=\"#000000\" stroke-opacity=\"1\" stroke-width=\"2.4\"/>\n",
       "<circle clip-path=\"url(#clip333)\" cx=\"1661.87\" cy=\"610.506\" r=\"14\" fill=\"#4682b4\" fill-rule=\"evenodd\" fill-opacity=\"1\" stroke=\"#000000\" stroke-opacity=\"1\" stroke-width=\"2.4\"/>\n",
       "<circle clip-path=\"url(#clip333)\" cx=\"2010.01\" cy=\"557.177\" r=\"14\" fill=\"#4682b4\" fill-rule=\"evenodd\" fill-opacity=\"1\" stroke=\"#000000\" stroke-opacity=\"1\" stroke-width=\"2.4\"/>\n",
       "<circle clip-path=\"url(#clip333)\" cx=\"2077.93\" cy=\"761.787\" r=\"14\" fill=\"#4682b4\" fill-rule=\"evenodd\" fill-opacity=\"1\" stroke=\"#000000\" stroke-opacity=\"1\" stroke-width=\"2.4\"/>\n",
       "<circle clip-path=\"url(#clip333)\" cx=\"2087.28\" cy=\"913.759\" r=\"14\" fill=\"#4682b4\" fill-rule=\"evenodd\" fill-opacity=\"1\" stroke=\"#000000\" stroke-opacity=\"1\" stroke-width=\"2.4\"/>\n",
       "<path clip-path=\"url(#clip330)\" d=\"\n",
       "M2060.33 236.113 L2320.8 236.113 L2320.8 80.5926 L2060.33 80.5926  Z\n",
       "  \" fill=\"#ffffff\" fill-rule=\"evenodd\" fill-opacity=\"1\"/>\n",
       "<polyline clip-path=\"url(#clip330)\" style=\"stroke:#000000; stroke-linecap:butt; stroke-linejoin:round; stroke-width:4; stroke-opacity:1; fill:none\" points=\"\n",
       "  2060.33,236.113 2320.8,236.113 2320.8,80.5926 2060.33,80.5926 2060.33,236.113 \n",
       "  \"/>\n",
       "<circle clip-path=\"url(#clip330)\" cx=\"2102.94\" cy=\"132.433\" r=\"23\" fill=\"#cd5c5c\" fill-rule=\"evenodd\" fill-opacity=\"1\" stroke=\"#000000\" stroke-opacity=\"1\" stroke-width=\"3.84\"/>\n",
       "<path clip-path=\"url(#clip330)\" d=\"M2173.42 117.815 L2173.42 122.745 Q2171.06 120.546 2168.38 119.458 Q2165.72 118.37 2162.71 118.37 Q2156.78 118.37 2153.63 122.004 Q2150.48 125.616 2150.48 132.467 Q2150.48 139.296 2153.63 142.93 Q2156.78 146.541 2162.71 146.541 Q2165.72 146.541 2168.38 145.453 Q2171.06 144.365 2173.42 142.166 L2173.42 147.051 Q2170.97 148.717 2168.22 149.551 Q2165.48 150.384 2162.43 150.384 Q2154.58 150.384 2150.07 145.592 Q2145.55 140.777 2145.55 132.467 Q2145.55 124.134 2150.07 119.342 Q2154.58 114.528 2162.43 114.528 Q2165.53 114.528 2168.26 115.361 Q2171.02 116.171 2173.42 117.815 Z\" fill=\"#000000\" fill-rule=\"evenodd\" fill-opacity=\"1\" /><path clip-path=\"url(#clip330)\" d=\"M2190.51 126.773 Q2187.08 126.773 2185.09 129.458 Q2183.1 132.12 2183.1 136.773 Q2183.1 141.426 2185.07 144.111 Q2187.06 146.773 2190.51 146.773 Q2193.91 146.773 2195.9 144.088 Q2197.89 141.402 2197.89 136.773 Q2197.89 132.166 2195.9 129.481 Q2193.91 126.773 2190.51 126.773 M2190.51 123.162 Q2196.06 123.162 2199.23 126.773 Q2202.41 130.384 2202.41 136.773 Q2202.41 143.139 2199.23 146.773 Q2196.06 150.384 2190.51 150.384 Q2184.93 150.384 2181.76 146.773 Q2178.61 143.139 2178.61 136.773 Q2178.61 130.384 2181.76 126.773 Q2184.93 123.162 2190.51 123.162 Z\" fill=\"#000000\" fill-rule=\"evenodd\" fill-opacity=\"1\" /><path clip-path=\"url(#clip330)\" d=\"M2221.25 136.68 Q2216.09 136.68 2214.1 137.861 Q2212.1 139.041 2212.1 141.889 Q2212.1 144.157 2213.59 145.5 Q2215.09 146.819 2217.66 146.819 Q2221.2 146.819 2223.33 144.319 Q2225.48 141.796 2225.48 137.629 L2225.48 136.68 L2221.25 136.68 M2229.74 134.921 L2229.74 149.713 L2225.48 149.713 L2225.48 145.777 Q2224.03 148.139 2221.85 149.273 Q2219.67 150.384 2216.53 150.384 Q2212.54 150.384 2210.18 148.162 Q2207.85 145.916 2207.85 142.166 Q2207.85 137.791 2210.76 135.569 Q2213.7 133.347 2219.51 133.347 L2225.48 133.347 L2225.48 132.93 Q2225.48 129.991 2223.54 128.393 Q2221.62 126.773 2218.12 126.773 Q2215.9 126.773 2213.79 127.305 Q2211.69 127.838 2209.74 128.903 L2209.74 124.967 Q2212.08 124.065 2214.28 123.625 Q2216.48 123.162 2218.56 123.162 Q2224.19 123.162 2226.97 126.078 Q2229.74 128.995 2229.74 134.921 Z\" fill=\"#000000\" fill-rule=\"evenodd\" fill-opacity=\"1\" /><path clip-path=\"url(#clip330)\" d=\"M2242.73 116.426 L2242.73 123.787 L2251.5 123.787 L2251.5 127.097 L2242.73 127.097 L2242.73 141.171 Q2242.73 144.342 2243.59 145.245 Q2244.47 146.148 2247.13 146.148 L2251.5 146.148 L2251.5 149.713 L2247.13 149.713 Q2242.2 149.713 2240.32 147.884 Q2238.45 146.032 2238.45 141.171 L2238.45 127.097 L2235.32 127.097 L2235.32 123.787 L2238.45 123.787 L2238.45 116.426 L2242.73 116.426 Z\" fill=\"#000000\" fill-rule=\"evenodd\" fill-opacity=\"1\" /><circle clip-path=\"url(#clip330)\" cx=\"2102.94\" cy=\"184.273\" r=\"23\" fill=\"#4682b4\" fill-rule=\"evenodd\" fill-opacity=\"1\" stroke=\"#000000\" stroke-opacity=\"1\" stroke-width=\"3.84\"/>\n",
       "<path clip-path=\"url(#clip330)\" d=\"M2167.8 168.127 L2167.8 172.687 Q2165.14 171.414 2162.78 170.789 Q2160.41 170.164 2158.22 170.164 Q2154.4 170.164 2152.31 171.645 Q2150.25 173.127 2150.25 175.858 Q2150.25 178.15 2151.62 179.331 Q2153.01 180.488 2156.85 181.206 L2159.67 181.784 Q2164.91 182.78 2167.38 185.303 Q2169.88 187.803 2169.88 192.016 Q2169.88 197.039 2166.5 199.631 Q2163.15 202.224 2156.64 202.224 Q2154.19 202.224 2151.41 201.668 Q2148.66 201.113 2145.69 200.025 L2145.69 195.21 Q2148.54 196.807 2151.27 197.617 Q2154 198.428 2156.64 198.428 Q2160.65 198.428 2162.82 196.854 Q2165 195.28 2165 192.363 Q2165 189.817 2163.42 188.381 Q2161.87 186.946 2158.31 186.229 L2155.46 185.673 Q2150.23 184.631 2147.89 182.409 Q2145.55 180.187 2145.55 176.229 Q2145.55 171.645 2148.77 169.006 Q2152.01 166.368 2157.68 166.368 Q2160.11 166.368 2162.64 166.807 Q2165.16 167.247 2167.8 168.127 Z\" fill=\"#000000\" fill-rule=\"evenodd\" fill-opacity=\"1\" /><path clip-path=\"url(#clip330)\" d=\"M2188.77 188.52 Q2183.61 188.52 2181.62 189.701 Q2179.63 190.881 2179.63 193.729 Q2179.63 195.997 2181.11 197.34 Q2182.61 198.659 2185.18 198.659 Q2188.72 198.659 2190.85 196.159 Q2193.01 193.636 2193.01 189.469 L2193.01 188.52 L2188.77 188.52 M2197.27 186.761 L2197.27 201.553 L2193.01 201.553 L2193.01 197.617 Q2191.55 199.979 2189.37 201.113 Q2187.2 202.224 2184.05 202.224 Q2180.07 202.224 2177.71 200.002 Q2175.37 197.756 2175.37 194.006 Q2175.37 189.631 2178.29 187.409 Q2181.22 185.187 2187.04 185.187 L2193.01 185.187 L2193.01 184.77 Q2193.01 181.831 2191.06 180.233 Q2189.14 178.613 2185.65 178.613 Q2183.42 178.613 2181.32 179.145 Q2179.21 179.678 2177.27 180.743 L2177.27 176.807 Q2179.6 175.905 2181.8 175.465 Q2184 175.002 2186.09 175.002 Q2191.71 175.002 2194.49 177.918 Q2197.27 180.835 2197.27 186.761 Z\" fill=\"#000000\" fill-rule=\"evenodd\" fill-opacity=\"1\" /><path clip-path=\"url(#clip330)\" d=\"M2227.59 185.905 L2227.59 201.553 L2223.33 201.553 L2223.33 186.043 Q2223.33 182.363 2221.9 180.534 Q2220.46 178.706 2217.59 178.706 Q2214.14 178.706 2212.15 180.905 Q2210.16 183.104 2210.16 186.9 L2210.16 201.553 L2205.88 201.553 L2205.88 175.627 L2210.16 175.627 L2210.16 179.655 Q2211.69 177.317 2213.75 176.159 Q2215.83 175.002 2218.54 175.002 Q2223.01 175.002 2225.3 177.78 Q2227.59 180.534 2227.59 185.905 Z\" fill=\"#000000\" fill-rule=\"evenodd\" fill-opacity=\"1\" /><path clip-path=\"url(#clip330)\" d=\"M2253.15 179.562 L2253.15 165.534 L2257.41 165.534 L2257.41 201.553 L2253.15 201.553 L2253.15 197.664 Q2251.8 199.979 2249.74 201.113 Q2247.71 202.224 2244.84 202.224 Q2240.14 202.224 2237.17 198.474 Q2234.23 194.724 2234.23 188.613 Q2234.23 182.502 2237.17 178.752 Q2240.14 175.002 2244.84 175.002 Q2247.71 175.002 2249.74 176.136 Q2251.8 177.247 2253.15 179.562 M2238.63 188.613 Q2238.63 193.312 2240.55 195.997 Q2242.5 198.659 2245.88 198.659 Q2249.26 198.659 2251.2 195.997 Q2253.15 193.312 2253.15 188.613 Q2253.15 183.914 2251.2 181.252 Q2249.26 178.567 2245.88 178.567 Q2242.5 178.567 2240.55 181.252 Q2238.63 183.914 2238.63 188.613 Z\" fill=\"#000000\" fill-rule=\"evenodd\" fill-opacity=\"1\" /><path clip-path=\"url(#clip330)\" d=\"M2277.96 188.52 Q2272.8 188.52 2270.81 189.701 Q2268.82 190.881 2268.82 193.729 Q2268.82 195.997 2270.3 197.34 Q2271.8 198.659 2274.37 198.659 Q2277.91 198.659 2280.04 196.159 Q2282.2 193.636 2282.2 189.469 L2282.2 188.52 L2277.96 188.52 M2286.46 186.761 L2286.46 201.553 L2282.2 201.553 L2282.2 197.617 Q2280.74 199.979 2278.56 201.113 Q2276.39 202.224 2273.24 202.224 Q2269.26 202.224 2266.9 200.002 Q2264.56 197.756 2264.56 194.006 Q2264.56 189.631 2267.47 187.409 Q2270.41 185.187 2276.22 185.187 L2282.2 185.187 L2282.2 184.77 Q2282.2 181.831 2280.25 180.233 Q2278.33 178.613 2274.84 178.613 Q2272.61 178.613 2270.51 179.145 Q2268.4 179.678 2266.46 180.743 L2266.46 176.807 Q2268.79 175.905 2270.99 175.465 Q2273.19 175.002 2275.28 175.002 Q2280.9 175.002 2283.68 177.918 Q2286.46 180.835 2286.46 186.761 Z\" fill=\"#000000\" fill-rule=\"evenodd\" fill-opacity=\"1\" /><path clip-path=\"url(#clip330)\" d=\"M2295.23 165.534 L2299.49 165.534 L2299.49 201.553 L2295.23 201.553 L2295.23 165.534 Z\" fill=\"#000000\" fill-rule=\"evenodd\" fill-opacity=\"1\" /></svg>\n"
      ]
     },
     "execution_count": 43,
     "metadata": {},
     "output_type": "execute_result"
    }
   ],
   "source": [
    "scatter(X_test_Pr[1, y_test .== -1], X_test_Pr[2, y_test .== -1], \n",
    "            color = :indianred,\n",
    "            label = labels[l₁],\n",
    "            size = (600,300),\n",
    "            subplot = 1, layout = 2,\n",
    "            xlabel = \"true labels test data\")\n",
    "scatter!(X_test_Pr[1, y_test .== 1], X_test_Pr[2, y_test .== 1], \n",
    "            color = :steelblue,\n",
    "            label = labels[l₂],\n",
    "            subplot = 1, layout = 2)\n",
    "scatter!(X_test_Pr[1, ŷ_test .== -1], X_test_Pr[2, ŷ_test .== -1], \n",
    "            color = :indianred,\n",
    "            label = labels[l₁],\n",
    "            size = (600,300),\n",
    "            subplot = 2, layout = 2,\n",
    "            xlabel = \"predictions test data\")\n",
    "scatter!(X_test_Pr[1, ŷ_test .== 1], X_test_Pr[2, ŷ_test .== 1], \n",
    "            color = :steelblue,\n",
    "            label = labels[l₂],\n",
    "            subplot = 2, layout = 2)"
   ]
  },
  {
   "cell_type": "markdown",
   "metadata": {},
   "source": [
    "The fraction of uncorrectly prediced data points is"
   ]
  },
  {
   "cell_type": "code",
   "execution_count": 44,
   "metadata": {},
   "outputs": [
    {
     "data": {
      "text/plain": [
       "0.1"
      ]
     },
     "execution_count": 44,
     "metadata": {},
     "output_type": "execute_result"
    }
   ],
   "source": [
    "count((y_test-ŷ_test) .!= 0)/n"
   ]
  },
  {
   "cell_type": "markdown",
   "metadata": {},
   "source": [
    "# Neural Networks\n",
    "\n",
    "We will now compute a classification algorithm using a neural network.\n",
    "\n",
    "Instead of setting up the network by hand as we did in Notebook 4, we will use [Flux.jl](https://fluxml.ai).\n",
    "\n",
    "We set up a neural network with three layers.\n",
    "\n",
    "The first layer is $\\mathbb R^D\\to\\mathbb R^{N_1}$. \n",
    "\n",
    "The second layer is $\\mathbb R^{N_1}\\to\\mathbb R^{N_2}$. \n",
    "\n",
    "The third layer is $\\mathbb R^{N_2}\\to\\mathbb R^{2}$.\n",
    "\n",
    "The output in $\\mathbb R^{2}$ will be a discrete probability distribution for our two items. Therefore, we use as the activation function in the last layer the softmax function. The other activation functions are chosen to be the ReLu function."
   ]
  },
  {
   "cell_type": "code",
   "execution_count": 79,
   "metadata": {},
   "outputs": [
    {
     "data": {
      "text/plain": [
       "Chain(\n",
       "  Dense(784 => 20, relu),               \u001b[90m# 15_700 parameters\u001b[39m\n",
       "  Dense(20 => 15, relu),                \u001b[90m# 315 parameters\u001b[39m\n",
       "  Dense(15 => 2),                       \u001b[90m# 32 parameters\u001b[39m\n",
       "  NNlib.softmax,\n",
       ") \u001b[90m                  # Total: 6 arrays, \u001b[39m16_047 parameters, 63.059 KiB."
      ]
     },
     "execution_count": 79,
     "metadata": {},
     "output_type": "execute_result"
    }
   ],
   "source": [
    "N₁, N₂ = 20, 15\n",
    "\n",
    "NN = Flux.Chain(\n",
    "          Dense(28^2, N₁, relu),\n",
    "          Dense(N₁, N₂, relu),\n",
    "          Dense(N₂, 2),\n",
    "          softmax)"
   ]
  },
  {
   "cell_type": "markdown",
   "metadata": {},
   "source": [
    "We have to modify the output data accordingly."
   ]
  },
  {
   "cell_type": "code",
   "execution_count": 80,
   "metadata": {},
   "outputs": [],
   "source": [
    "y₀ = map(Y) do Yᵢ\n",
    "    if Yᵢ==l₁\n",
    "        [1;0]\n",
    "    elseif Yᵢ==l₂\n",
    "        [0;1]\n",
    "    end\n",
    "    end;"
   ]
  },
  {
   "cell_type": "markdown",
   "metadata": {},
   "source": [
    "As loss function we take the [crossentropy](https://en.wikipedia.org/wiki/Cross_entropy) function `ℓ(p,q) = -p₁ log(q₁) - p₂ log(q₂).`"
   ]
  },
  {
   "cell_type": "code",
   "execution_count": 81,
   "metadata": {},
   "outputs": [],
   "source": [
    "loss(x, y) = Flux.crossentropy(NN(x), y; dims = 2);\n",
    "# in Flux.jl the first variable is in ℝ^D"
   ]
  },
  {
   "cell_type": "markdown",
   "metadata": {},
   "source": [
    "The framework to set up a Flux.jl' model is as follows:\n",
    "\n",
    "(The code is adapted from the lecture on [Neural Nets](https://github.com/JuliaAcademy/DataScience/blob/main/10.%20Neural%20Nets.ipynb) by [Huda Nassar](https://github.com/nassarhuda).)"
   ]
  },
  {
   "cell_type": "code",
   "execution_count": 82,
   "metadata": {},
   "outputs": [],
   "source": [
    "ps = Flux.params(NN);\n",
    "dataset = [(Float32.(x),y) for (x,y) in zip(X_vec, y₀)];\n",
    "opt = ADAM();"
   ]
  },
  {
   "cell_type": "markdown",
   "metadata": {},
   "source": [
    "The model is the trained using Flux.jl's `train!` function."
   ]
  },
  {
   "cell_type": "code",
   "execution_count": 83,
   "metadata": {},
   "outputs": [
    {
     "name": "stderr",
     "output_type": "stream",
     "text": [
      "┌ Info: Epoch 1\n",
      "└ @ Main /Users/pb/.julia/packages/Flux/6Q5r4/src/optimise/train.jl:154\n",
      "┌ Info: Epoch 2\n",
      "└ @ Main /Users/pb/.julia/packages/Flux/6Q5r4/src/optimise/train.jl:154\n",
      "┌ Info: Epoch 3\n",
      "└ @ Main /Users/pb/.julia/packages/Flux/6Q5r4/src/optimise/train.jl:154\n"
     ]
    }
   ],
   "source": [
    "Flux.@epochs 3 Flux.train!(loss, ps, dataset, opt)"
   ]
  },
  {
   "cell_type": "markdown",
   "metadata": {},
   "source": [
    "Let us now see what the algorithm that we have learned predicts on randomly chosen elements from the test data set."
   ]
  },
  {
   "cell_type": "code",
   "execution_count": 84,
   "metadata": {},
   "outputs": [
    {
     "name": "stdout",
     "output_type": "stream",
     "text": [
      "With probability 0.7880579023509195: Coat.\n",
      "\n",
      "With probability 0.21194209764908042: Sandal.\n",
      "\n"
     ]
    },
    {
     "data": {
      "image/png": "[encoded data removed]",
      "text/plain": [
       "28×28 reinterpret(reshape, Gray{N0f8}, ::Array{N0f8,2}) with eltype Gray{N0f8}:\n",
       " Gray{N0f8}(0.0)  Gray{N0f8}(0.0)  …  Gray{N0f8}(0.0)  Gray{N0f8}(0.0)\n",
       " Gray{N0f8}(0.0)  Gray{N0f8}(0.0)     Gray{N0f8}(0.0)  Gray{N0f8}(0.0)\n",
       " Gray{N0f8}(0.0)  Gray{N0f8}(0.0)     Gray{N0f8}(0.0)  Gray{N0f8}(0.0)\n",
       " Gray{N0f8}(0.0)  Gray{N0f8}(0.0)     Gray{N0f8}(0.0)  Gray{N0f8}(0.0)\n",
       " Gray{N0f8}(0.0)  Gray{N0f8}(0.0)     Gray{N0f8}(0.0)  Gray{N0f8}(0.0)\n",
       " Gray{N0f8}(0.0)  Gray{N0f8}(0.0)  …  Gray{N0f8}(0.0)  Gray{N0f8}(0.0)\n",
       " Gray{N0f8}(0.0)  Gray{N0f8}(0.0)     Gray{N0f8}(0.0)  Gray{N0f8}(0.0)\n",
       " Gray{N0f8}(0.0)  Gray{N0f8}(0.0)     Gray{N0f8}(0.0)  Gray{N0f8}(0.0)\n",
       " Gray{N0f8}(0.0)  Gray{N0f8}(0.0)     Gray{N0f8}(0.0)  Gray{N0f8}(0.0)\n",
       " Gray{N0f8}(0.0)  Gray{N0f8}(0.0)     Gray{N0f8}(0.0)  Gray{N0f8}(0.0)\n",
       " Gray{N0f8}(0.0)  Gray{N0f8}(0.0)  …  Gray{N0f8}(0.0)  Gray{N0f8}(0.0)\n",
       " Gray{N0f8}(0.0)  Gray{N0f8}(0.0)     Gray{N0f8}(0.0)  Gray{N0f8}(0.0)\n",
       " Gray{N0f8}(0.0)  Gray{N0f8}(0.0)     Gray{N0f8}(0.0)  Gray{N0f8}(0.0)\n",
       " ⋮                                 ⋱                   \n",
       " Gray{N0f8}(0.0)  Gray{N0f8}(0.0)     Gray{N0f8}(0.0)  Gray{N0f8}(0.0)\n",
       " Gray{N0f8}(0.0)  Gray{N0f8}(0.0)     Gray{N0f8}(0.0)  Gray{N0f8}(0.0)\n",
       " Gray{N0f8}(0.0)  Gray{N0f8}(0.0)     Gray{N0f8}(0.0)  Gray{N0f8}(0.0)\n",
       " Gray{N0f8}(0.0)  Gray{N0f8}(0.0)     Gray{N0f8}(0.0)  Gray{N0f8}(0.0)\n",
       " Gray{N0f8}(0.0)  Gray{N0f8}(0.0)  …  Gray{N0f8}(0.0)  Gray{N0f8}(0.0)\n",
       " Gray{N0f8}(0.0)  Gray{N0f8}(0.0)     Gray{N0f8}(0.0)  Gray{N0f8}(0.0)\n",
       " Gray{N0f8}(0.0)  Gray{N0f8}(0.0)     Gray{N0f8}(0.0)  Gray{N0f8}(0.0)\n",
       " Gray{N0f8}(0.0)  Gray{N0f8}(0.0)     Gray{N0f8}(0.0)  Gray{N0f8}(0.0)\n",
       " Gray{N0f8}(0.0)  Gray{N0f8}(0.0)     Gray{N0f8}(0.0)  Gray{N0f8}(0.0)\n",
       " Gray{N0f8}(0.0)  Gray{N0f8}(0.0)  …  Gray{N0f8}(0.0)  Gray{N0f8}(0.0)\n",
       " Gray{N0f8}(0.0)  Gray{N0f8}(0.0)     Gray{N0f8}(0.0)  Gray{N0f8}(0.0)\n",
       " Gray{N0f8}(0.0)  Gray{N0f8}(0.0)     Gray{N0f8}(0.0)  Gray{N0f8}(0.0)"
      ]
     },
     "execution_count": 84,
     "metadata": {},
     "output_type": "execute_result"
    }
   ],
   "source": [
    "ℓ = rand(1:n)\n",
    "p = NN(X_test_vec[ℓ])\n",
    "println(\"With probability $(p[1]): Coat.\\n\")\n",
    "println(\"With probability $(p[2]): Sandal.\\n\")\n",
    "FashionMNIST.convert2image(X_test[:,:,ℓ])"
   ]
  },
  {
   "cell_type": "markdown",
   "metadata": {},
   "source": [
    "Finally, we consider again the projected data and compare the labels from the neural network to the true labels on the test data.\n",
    "\n",
    "The size of the points should be proportional to the probability returned from the neural network."
   ]
  },
  {
   "cell_type": "code",
   "execution_count": 85,
   "metadata": {},
   "outputs": [],
   "source": [
    "sizes = map(x->maximum(NN(x)), X_test_vec) .* 6\n",
    "ŷ₀_test = map(x->argmax(NN(x)), X_test_vec);"
   ]
  },
  {
   "cell_type": "code",
   "execution_count": 86,
   "metadata": {},
   "outputs": [
    {
     "data": {
      "image/svg+xml": [
       "<?xml version=\"1.0\" encoding=\"utf-8\"?>\n",
       "<svg xmlns=\"http://www.w3.org/2000/svg\" xmlns:xlink=\"http://www.w3.org/1999/xlink\" width=\"600\" height=\"300\" viewBox=\"0 0 2400 1200\">\n",
       "<defs>\n",
       "  <clipPath id=\"clip270\">\n",
       "    <rect x=\"0\" y=\"0\" width=\"2400\" height=\"1200\"/>\n",
       "  </clipPath>\n",
       "</defs>\n",
       "<path clip-path=\"url(#clip270)\" d=\"\n",
       "M0 1200 L2400 1200 L2400 0 L0 0  Z\n",
       "  \" fill=\"#ffffff\" fill-rule=\"evenodd\" fill-opacity=\"1\"/>\n",
       "<defs>\n",
       "  <clipPath id=\"clip271\">\n",
       "    <rect x=\"480\" y=\"0\" width=\"1681\" height=\"1200\"/>\n",
       "  </clipPath>\n",
       "</defs>\n",
       "<path clip-path=\"url(#clip270)\" d=\"\n",
       "M193.936 1047.7 L1152.76 1047.7 L1152.76 47.2441 L193.936 47.2441  Z\n",
       "  \" fill=\"#ffffff\" fill-rule=\"evenodd\" fill-opacity=\"1\"/>\n",
       "<defs>\n",
       "  <clipPath id=\"clip272\">\n",
       "    <rect x=\"193\" y=\"47\" width=\"960\" height=\"1001\"/>\n",
       "  </clipPath>\n",
       "</defs>\n",
       "<polyline clip-path=\"url(#clip272)\" style=\"stroke:#000000; stroke-linecap:butt; stroke-linejoin:round; stroke-width:2; stroke-opacity:0.1; fill:none\" points=\"\n",
       "  264.876,1047.7 264.876,47.2441 \n",
       "  \"/>\n",
       "<polyline clip-path=\"url(#clip272)\" style=\"stroke:#000000; stroke-linecap:butt; stroke-linejoin:round; stroke-width:2; stroke-opacity:0.1; fill:none\" points=\"\n",
       "  446.579,1047.7 446.579,47.2441 \n",
       "  \"/>\n",
       "<polyline clip-path=\"url(#clip272)\" style=\"stroke:#000000; stroke-linecap:butt; stroke-linejoin:round; stroke-width:2; stroke-opacity:0.1; fill:none\" points=\"\n",
       "  628.281,1047.7 628.281,47.2441 \n",
       "  \"/>\n",
       "<polyline clip-path=\"url(#clip272)\" style=\"stroke:#000000; stroke-linecap:butt; stroke-linejoin:round; stroke-width:2; stroke-opacity:0.1; fill:none\" points=\"\n",
       "  809.984,1047.7 809.984,47.2441 \n",
       "  \"/>\n",
       "<polyline clip-path=\"url(#clip272)\" style=\"stroke:#000000; stroke-linecap:butt; stroke-linejoin:round; stroke-width:2; stroke-opacity:0.1; fill:none\" points=\"\n",
       "  991.687,1047.7 991.687,47.2441 \n",
       "  \"/>\n",
       "<polyline clip-path=\"url(#clip270)\" style=\"stroke:#000000; stroke-linecap:butt; stroke-linejoin:round; stroke-width:4; stroke-opacity:1; fill:none\" points=\"\n",
       "  193.936,1047.7 1152.76,1047.7 \n",
       "  \"/>\n",
       "<polyline clip-path=\"url(#clip270)\" style=\"stroke:#000000; stroke-linecap:butt; stroke-linejoin:round; stroke-width:4; stroke-opacity:1; fill:none\" points=\"\n",
       "  264.876,1047.7 264.876,1028.8 \n",
       "  \"/>\n",
       "<polyline clip-path=\"url(#clip270)\" style=\"stroke:#000000; stroke-linecap:butt; stroke-linejoin:round; stroke-width:4; stroke-opacity:1; fill:none\" points=\"\n",
       "  446.579,1047.7 446.579,1028.8 \n",
       "  \"/>\n",
       "<polyline clip-path=\"url(#clip270)\" style=\"stroke:#000000; stroke-linecap:butt; stroke-linejoin:round; stroke-width:4; stroke-opacity:1; fill:none\" points=\"\n",
       "  628.281,1047.7 628.281,1028.8 \n",
       "  \"/>\n",
       "<polyline clip-path=\"url(#clip270)\" style=\"stroke:#000000; stroke-linecap:butt; stroke-linejoin:round; stroke-width:4; stroke-opacity:1; fill:none\" points=\"\n",
       "  809.984,1047.7 809.984,1028.8 \n",
       "  \"/>\n",
       "<polyline clip-path=\"url(#clip270)\" style=\"stroke:#000000; stroke-linecap:butt; stroke-linejoin:round; stroke-width:4; stroke-opacity:1; fill:none\" points=\"\n",
       "  991.687,1047.7 991.687,1028.8 \n",
       "  \"/>\n",
       "<path clip-path=\"url(#clip270)\" d=\"M211.404 1093.27 L241.08 1093.27 L241.08 1097.21 L211.404 1097.21 L211.404 1093.27 Z\" fill=\"#000000\" fill-rule=\"evenodd\" fill-opacity=\"1\" /><path clip-path=\"url(#clip270)\" d=\"M251.983 1106.16 L259.622 1106.16 L259.622 1079.8 L251.311 1081.47 L251.311 1077.21 L259.575 1075.54 L264.251 1075.54 L264.251 1106.16 L271.89 1106.16 L271.89 1110.1 L251.983 1110.1 L251.983 1106.16 Z\" fill=\"#000000\" fill-rule=\"evenodd\" fill-opacity=\"1\" /><path clip-path=\"url(#clip270)\" d=\"M281.334 1104.22 L286.219 1104.22 L286.219 1110.1 L281.334 1110.1 L281.334 1104.22 Z\" fill=\"#000000\" fill-rule=\"evenodd\" fill-opacity=\"1\" /><path clip-path=\"url(#clip270)\" d=\"M306.404 1078.62 Q302.793 1078.62 300.964 1082.18 Q299.158 1085.72 299.158 1092.85 Q299.158 1099.96 300.964 1103.53 Q302.793 1107.07 306.404 1107.07 Q310.038 1107.07 311.843 1103.53 Q313.672 1099.96 313.672 1092.85 Q313.672 1085.72 311.843 1082.18 Q310.038 1078.62 306.404 1078.62 M306.404 1074.91 Q312.214 1074.91 315.269 1079.52 Q318.348 1084.1 318.348 1092.85 Q318.348 1101.58 315.269 1106.19 Q312.214 1110.77 306.404 1110.77 Q300.594 1110.77 297.515 1106.19 Q294.459 1101.58 294.459 1092.85 Q294.459 1084.1 297.515 1079.52 Q300.594 1074.91 306.404 1074.91 Z\" fill=\"#000000\" fill-rule=\"evenodd\" fill-opacity=\"1\" /><path clip-path=\"url(#clip270)\" d=\"M393.605 1093.27 L423.28 1093.27 L423.28 1097.21 L393.605 1097.21 L393.605 1093.27 Z\" fill=\"#000000\" fill-rule=\"evenodd\" fill-opacity=\"1\" /><path clip-path=\"url(#clip270)\" d=\"M443.373 1078.62 Q439.762 1078.62 437.933 1082.18 Q436.127 1085.72 436.127 1092.85 Q436.127 1099.96 437.933 1103.53 Q439.762 1107.07 443.373 1107.07 Q447.007 1107.07 448.813 1103.53 Q450.641 1099.96 450.641 1092.85 Q450.641 1085.72 448.813 1082.18 Q447.007 1078.62 443.373 1078.62 M443.373 1074.91 Q449.183 1074.91 452.238 1079.52 Q455.317 1084.1 455.317 1092.85 Q455.317 1101.58 452.238 1106.19 Q449.183 1110.77 443.373 1110.77 Q437.563 1110.77 434.484 1106.19 Q431.428 1101.58 431.428 1092.85 Q431.428 1084.1 434.484 1079.52 Q437.563 1074.91 443.373 1074.91 Z\" fill=\"#000000\" fill-rule=\"evenodd\" fill-opacity=\"1\" /><path clip-path=\"url(#clip270)\" d=\"M463.535 1104.22 L468.419 1104.22 L468.419 1110.1 L463.535 1110.1 L463.535 1104.22 Z\" fill=\"#000000\" fill-rule=\"evenodd\" fill-opacity=\"1\" /><path clip-path=\"url(#clip270)\" d=\"M478.65 1075.54 L497.007 1075.54 L497.007 1079.48 L482.933 1079.48 L482.933 1087.95 Q483.951 1087.6 484.97 1087.44 Q485.988 1087.25 487.007 1087.25 Q492.794 1087.25 496.173 1090.42 Q499.553 1093.6 499.553 1099.01 Q499.553 1104.59 496.081 1107.69 Q492.609 1110.77 486.289 1110.77 Q484.113 1110.77 481.845 1110.4 Q479.599 1110.03 477.192 1109.29 L477.192 1104.59 Q479.275 1105.72 481.498 1106.28 Q483.72 1106.84 486.197 1106.84 Q490.201 1106.84 492.539 1104.73 Q494.877 1102.62 494.877 1099.01 Q494.877 1095.4 492.539 1093.29 Q490.201 1091.19 486.197 1091.19 Q484.322 1091.19 482.447 1091.6 Q480.595 1092.02 478.65 1092.9 L478.65 1075.54 Z\" fill=\"#000000\" fill-rule=\"evenodd\" fill-opacity=\"1\" /><path clip-path=\"url(#clip270)\" d=\"M605.666 1078.62 Q602.055 1078.62 600.226 1082.18 Q598.42 1085.72 598.42 1092.85 Q598.42 1099.96 600.226 1103.53 Q602.055 1107.07 605.666 1107.07 Q609.3 1107.07 611.106 1103.53 Q612.934 1099.96 612.934 1092.85 Q612.934 1085.72 611.106 1082.18 Q609.3 1078.62 605.666 1078.62 M605.666 1074.91 Q611.476 1074.91 614.531 1079.52 Q617.61 1084.1 617.61 1092.85 Q617.61 1101.58 614.531 1106.19 Q611.476 1110.77 605.666 1110.77 Q599.856 1110.77 596.777 1106.19 Q593.721 1101.58 593.721 1092.85 Q593.721 1084.1 596.777 1079.52 Q599.856 1074.91 605.666 1074.91 Z\" fill=\"#000000\" fill-rule=\"evenodd\" fill-opacity=\"1\" /><path clip-path=\"url(#clip270)\" d=\"M625.828 1104.22 L630.712 1104.22 L630.712 1110.1 L625.828 1110.1 L625.828 1104.22 Z\" fill=\"#000000\" fill-rule=\"evenodd\" fill-opacity=\"1\" /><path clip-path=\"url(#clip270)\" d=\"M650.897 1078.62 Q647.286 1078.62 645.457 1082.18 Q643.652 1085.72 643.652 1092.85 Q643.652 1099.96 645.457 1103.53 Q647.286 1107.07 650.897 1107.07 Q654.531 1107.07 656.337 1103.53 Q658.166 1099.96 658.166 1092.85 Q658.166 1085.72 656.337 1082.18 Q654.531 1078.62 650.897 1078.62 M650.897 1074.91 Q656.707 1074.91 659.763 1079.52 Q662.841 1084.1 662.841 1092.85 Q662.841 1101.58 659.763 1106.19 Q656.707 1110.77 650.897 1110.77 Q645.087 1110.77 642.008 1106.19 Q638.953 1101.58 638.953 1092.85 Q638.953 1084.1 642.008 1079.52 Q645.087 1074.91 650.897 1074.91 Z\" fill=\"#000000\" fill-rule=\"evenodd\" fill-opacity=\"1\" /><path clip-path=\"url(#clip270)\" d=\"M787.866 1078.62 Q784.255 1078.62 782.426 1082.18 Q780.621 1085.72 780.621 1092.85 Q780.621 1099.96 782.426 1103.53 Q784.255 1107.07 787.866 1107.07 Q791.5 1107.07 793.306 1103.53 Q795.135 1099.96 795.135 1092.85 Q795.135 1085.72 793.306 1082.18 Q791.5 1078.62 787.866 1078.62 M787.866 1074.91 Q793.676 1074.91 796.732 1079.52 Q799.81 1084.1 799.81 1092.85 Q799.81 1101.58 796.732 1106.19 Q793.676 1110.77 787.866 1110.77 Q782.056 1110.77 778.977 1106.19 Q775.922 1101.58 775.922 1092.85 Q775.922 1084.1 778.977 1079.52 Q782.056 1074.91 787.866 1074.91 Z\" fill=\"#000000\" fill-rule=\"evenodd\" fill-opacity=\"1\" /><path clip-path=\"url(#clip270)\" d=\"M808.028 1104.22 L812.912 1104.22 L812.912 1110.1 L808.028 1110.1 L808.028 1104.22 Z\" fill=\"#000000\" fill-rule=\"evenodd\" fill-opacity=\"1\" /><path clip-path=\"url(#clip270)\" d=\"M823.144 1075.54 L841.5 1075.54 L841.5 1079.48 L827.426 1079.48 L827.426 1087.95 Q828.445 1087.6 829.463 1087.44 Q830.482 1087.25 831.5 1087.25 Q837.287 1087.25 840.667 1090.42 Q844.046 1093.6 844.046 1099.01 Q844.046 1104.59 840.574 1107.69 Q837.102 1110.77 830.783 1110.77 Q828.607 1110.77 826.338 1110.4 Q824.093 1110.03 821.685 1109.29 L821.685 1104.59 Q823.769 1105.72 825.991 1106.28 Q828.213 1106.84 830.69 1106.84 Q834.695 1106.84 837.032 1104.73 Q839.37 1102.62 839.37 1099.01 Q839.37 1095.4 837.032 1093.29 Q834.695 1091.19 830.69 1091.19 Q828.815 1091.19 826.94 1091.6 Q825.088 1092.02 823.144 1092.9 L823.144 1075.54 Z\" fill=\"#000000\" fill-rule=\"evenodd\" fill-opacity=\"1\" /><path clip-path=\"url(#clip270)\" d=\"M958.84 1106.16 L966.478 1106.16 L966.478 1079.8 L958.168 1081.47 L958.168 1077.21 L966.432 1075.54 L971.108 1075.54 L971.108 1106.16 L978.747 1106.16 L978.747 1110.1 L958.84 1110.1 L958.84 1106.16 Z\" fill=\"#000000\" fill-rule=\"evenodd\" fill-opacity=\"1\" /><path clip-path=\"url(#clip270)\" d=\"M988.191 1104.22 L993.076 1104.22 L993.076 1110.1 L988.191 1110.1 L988.191 1104.22 Z\" fill=\"#000000\" fill-rule=\"evenodd\" fill-opacity=\"1\" /><path clip-path=\"url(#clip270)\" d=\"M1013.26 1078.62 Q1009.65 1078.62 1007.82 1082.18 Q1006.02 1085.72 1006.02 1092.85 Q1006.02 1099.96 1007.82 1103.53 Q1009.65 1107.07 1013.26 1107.07 Q1016.89 1107.07 1018.7 1103.53 Q1020.53 1099.96 1020.53 1092.85 Q1020.53 1085.72 1018.7 1082.18 Q1016.89 1078.62 1013.26 1078.62 M1013.26 1074.91 Q1019.07 1074.91 1022.13 1079.52 Q1025.2 1084.1 1025.2 1092.85 Q1025.2 1101.58 1022.13 1106.19 Q1019.07 1110.77 1013.26 1110.77 Q1007.45 1110.77 1004.37 1106.19 Q1001.32 1101.58 1001.32 1092.85 Q1001.32 1084.1 1004.37 1079.52 Q1007.45 1074.91 1013.26 1074.91 Z\" fill=\"#000000\" fill-rule=\"evenodd\" fill-opacity=\"1\" /><path clip-path=\"url(#clip270)\" d=\"M357.591 1146.79 L357.591 1156.92 L369.654 1156.92 L369.654 1161.47 L357.591 1161.47 L357.591 1180.82 Q357.591 1185.18 358.769 1186.42 Q359.978 1187.66 363.638 1187.66 L369.654 1187.66 L369.654 1192.56 L363.638 1192.56 Q356.859 1192.56 354.281 1190.05 Q351.703 1187.5 351.703 1180.82 L351.703 1161.47 L347.406 1161.47 L347.406 1156.92 L351.703 1156.92 L351.703 1146.79 L357.591 1146.79 Z\" fill=\"#000000\" fill-rule=\"evenodd\" fill-opacity=\"1\" /><path clip-path=\"url(#clip270)\" d=\"M398.013 1162.39 Q397.027 1161.82 395.849 1161.56 Q394.703 1161.28 393.303 1161.28 Q388.337 1161.28 385.664 1164.52 Q383.022 1167.74 383.022 1173.79 L383.022 1192.56 L377.134 1192.56 L377.134 1156.92 L383.022 1156.92 L383.022 1162.45 Q384.868 1159.21 387.828 1157.65 Q390.788 1156.06 395.021 1156.06 Q395.626 1156.06 396.358 1156.15 Q397.09 1156.22 397.981 1156.37 L398.013 1162.39 Z\" fill=\"#000000\" fill-rule=\"evenodd\" fill-opacity=\"1\" /><path clip-path=\"url(#clip270)\" d=\"M403.551 1178.5 L403.551 1156.92 L409.408 1156.92 L409.408 1178.27 Q409.408 1183.33 411.381 1185.88 Q413.355 1188.39 417.301 1188.39 Q422.044 1188.39 424.781 1185.37 Q427.55 1182.35 427.55 1177.13 L427.55 1156.92 L433.407 1156.92 L433.407 1192.56 L427.55 1192.56 L427.55 1187.09 Q425.418 1190.34 422.585 1191.93 Q419.784 1193.49 416.06 1193.49 Q409.917 1193.49 406.734 1189.67 Q403.551 1185.85 403.551 1178.5 M418.288 1156.06 L418.288 1156.06 Z\" fill=\"#000000\" fill-rule=\"evenodd\" fill-opacity=\"1\" /><path clip-path=\"url(#clip270)\" d=\"M475.961 1173.28 L475.961 1176.14 L449.034 1176.14 Q449.416 1182.19 452.663 1185.37 Q455.941 1188.52 461.766 1188.52 Q465.14 1188.52 468.291 1187.69 Q471.473 1186.87 474.593 1185.21 L474.593 1190.75 Q471.442 1192.09 468.131 1192.79 Q464.821 1193.49 461.416 1193.49 Q452.886 1193.49 447.889 1188.52 Q442.923 1183.56 442.923 1175.09 Q442.923 1166.34 447.634 1161.21 Q452.376 1156.06 460.397 1156.06 Q467.59 1156.06 471.76 1160.7 Q475.961 1165.32 475.961 1173.28 M470.105 1171.56 Q470.041 1166.75 467.399 1163.89 Q464.789 1161.02 460.461 1161.02 Q455.559 1161.02 452.599 1163.79 Q449.671 1166.56 449.225 1171.59 L470.105 1171.56 Z\" fill=\"#000000\" fill-rule=\"evenodd\" fill-opacity=\"1\" /><path clip-path=\"url(#clip270)\" d=\"M506.294 1143.04 L512.15 1143.04 L512.15 1192.56 L506.294 1192.56 L506.294 1143.04 Z\" fill=\"#000000\" fill-rule=\"evenodd\" fill-opacity=\"1\" /><path clip-path=\"url(#clip270)\" d=\"M540.605 1174.64 Q533.507 1174.64 530.77 1176.27 Q528.033 1177.89 528.033 1181.81 Q528.033 1184.92 530.07 1186.77 Q532.139 1188.59 535.672 1188.59 Q540.541 1188.59 543.47 1185.15 Q546.43 1181.68 546.43 1175.95 L546.43 1174.64 L540.605 1174.64 M552.286 1172.23 L552.286 1192.56 L546.43 1192.56 L546.43 1187.15 Q544.424 1190.4 541.433 1191.96 Q538.441 1193.49 534.112 1193.49 Q528.638 1193.49 525.391 1190.43 Q522.176 1187.34 522.176 1182.19 Q522.176 1176.17 526.187 1173.12 Q530.229 1170.06 538.218 1170.06 L546.43 1170.06 L546.43 1169.49 Q546.43 1165.45 543.756 1163.25 Q541.114 1161.02 536.308 1161.02 Q533.253 1161.02 530.356 1161.75 Q527.46 1162.49 524.786 1163.95 L524.786 1158.54 Q528.001 1157.3 531.025 1156.69 Q534.048 1156.06 536.913 1156.06 Q544.647 1156.06 548.467 1160.07 Q552.286 1164.08 552.286 1172.23 Z\" fill=\"#000000\" fill-rule=\"evenodd\" fill-opacity=\"1\" /><path clip-path=\"url(#clip270)\" d=\"M589.939 1174.77 Q589.939 1168.31 587.266 1164.65 Q584.624 1160.96 579.977 1160.96 Q575.33 1160.96 572.656 1164.65 Q570.015 1168.31 570.015 1174.77 Q570.015 1181.23 572.656 1184.92 Q575.33 1188.59 579.977 1188.59 Q584.624 1188.59 587.266 1184.92 Q589.939 1181.23 589.939 1174.77 M570.015 1162.33 Q571.861 1159.14 574.662 1157.62 Q577.494 1156.06 581.409 1156.06 Q587.902 1156.06 591.944 1161.21 Q596.019 1166.37 596.019 1174.77 Q596.019 1183.17 591.944 1188.33 Q587.902 1193.49 581.409 1193.49 Q577.494 1193.49 574.662 1191.96 Q571.861 1190.4 570.015 1187.22 L570.015 1192.56 L564.126 1192.56 L564.126 1143.04 L570.015 1143.04 L570.015 1162.33 Z\" fill=\"#000000\" fill-rule=\"evenodd\" fill-opacity=\"1\" /><path clip-path=\"url(#clip270)\" d=\"M636.218 1173.28 L636.218 1176.14 L609.291 1176.14 Q609.673 1182.19 612.919 1185.37 Q616.198 1188.52 622.022 1188.52 Q625.396 1188.52 628.547 1187.69 Q631.73 1186.87 634.849 1185.21 L634.849 1190.75 Q631.698 1192.09 628.388 1192.79 Q625.078 1193.49 621.672 1193.49 Q613.142 1193.49 608.145 1188.52 Q603.18 1183.56 603.18 1175.09 Q603.18 1166.34 607.891 1161.21 Q612.633 1156.06 620.654 1156.06 Q627.847 1156.06 632.017 1160.7 Q636.218 1165.32 636.218 1173.28 M630.362 1171.56 Q630.298 1166.75 627.656 1163.89 Q625.046 1161.02 620.717 1161.02 Q615.816 1161.02 612.856 1163.79 Q609.928 1166.56 609.482 1171.59 L630.362 1171.56 Z\" fill=\"#000000\" fill-rule=\"evenodd\" fill-opacity=\"1\" /><path clip-path=\"url(#clip270)\" d=\"M645.83 1143.04 L651.687 1143.04 L651.687 1192.56 L645.83 1192.56 L645.83 1143.04 Z\" fill=\"#000000\" fill-rule=\"evenodd\" fill-opacity=\"1\" /><path clip-path=\"url(#clip270)\" d=\"M686.666 1157.97 L686.666 1163.5 Q684.184 1162.23 681.51 1161.59 Q678.836 1160.96 675.972 1160.96 Q671.611 1160.96 669.415 1162.29 Q667.251 1163.63 667.251 1166.31 Q667.251 1168.34 668.81 1169.52 Q670.37 1170.67 675.081 1171.72 L677.086 1172.16 Q683.324 1173.5 685.934 1175.95 Q688.576 1178.37 688.576 1182.73 Q688.576 1187.69 684.629 1190.59 Q680.714 1193.49 673.839 1193.49 Q670.975 1193.49 667.856 1192.91 Q664.768 1192.37 661.331 1191.26 L661.331 1185.21 Q664.577 1186.9 667.728 1187.76 Q670.879 1188.59 673.967 1188.59 Q678.104 1188.59 680.332 1187.18 Q682.56 1185.75 682.56 1183.17 Q682.56 1180.79 680.937 1179.51 Q679.346 1178.24 673.903 1177.06 L671.866 1176.59 Q666.423 1175.44 664.004 1173.08 Q661.585 1170.7 661.585 1166.56 Q661.585 1161.53 665.15 1158.79 Q668.715 1156.06 675.272 1156.06 Q678.518 1156.06 681.383 1156.53 Q684.247 1157.01 686.666 1157.97 Z\" fill=\"#000000\" fill-rule=\"evenodd\" fill-opacity=\"1\" /><path clip-path=\"url(#clip270)\" d=\"M724.415 1146.79 L724.415 1156.92 L736.478 1156.92 L736.478 1161.47 L724.415 1161.47 L724.415 1180.82 Q724.415 1185.18 725.592 1186.42 Q726.802 1187.66 730.462 1187.66 L736.478 1187.66 L736.478 1192.56 L730.462 1192.56 Q723.683 1192.56 721.105 1190.05 Q718.527 1187.5 718.527 1180.82 L718.527 1161.47 L714.23 1161.47 L714.23 1156.92 L718.527 1156.92 L718.527 1146.79 L724.415 1146.79 Z\" fill=\"#000000\" fill-rule=\"evenodd\" fill-opacity=\"1\" /><path clip-path=\"url(#clip270)\" d=\"M774.672 1173.28 L774.672 1176.14 L747.745 1176.14 Q748.127 1182.19 751.374 1185.37 Q754.652 1188.52 760.477 1188.52 Q763.85 1188.52 767.001 1187.69 Q770.184 1186.87 773.303 1185.21 L773.303 1190.75 Q770.152 1192.09 766.842 1192.79 Q763.532 1193.49 760.126 1193.49 Q751.596 1193.49 746.599 1188.52 Q741.634 1183.56 741.634 1175.09 Q741.634 1166.34 746.345 1161.21 Q751.087 1156.06 759.108 1156.06 Q766.301 1156.06 770.471 1160.7 Q774.672 1165.32 774.672 1173.28 M768.816 1171.56 Q768.752 1166.75 766.11 1163.89 Q763.5 1161.02 759.172 1161.02 Q754.27 1161.02 751.31 1163.79 Q748.382 1166.56 747.936 1171.59 L768.816 1171.56 Z\" fill=\"#000000\" fill-rule=\"evenodd\" fill-opacity=\"1\" /><path clip-path=\"url(#clip270)\" d=\"M807.01 1157.97 L807.01 1163.5 Q804.527 1162.23 801.854 1161.59 Q799.18 1160.96 796.315 1160.96 Q791.955 1160.96 789.759 1162.29 Q787.594 1163.63 787.594 1166.31 Q787.594 1168.34 789.154 1169.52 Q790.714 1170.67 795.424 1171.72 L797.429 1172.16 Q803.668 1173.5 806.278 1175.95 Q808.92 1178.37 808.92 1182.73 Q808.92 1187.69 804.973 1190.59 Q801.058 1193.49 794.183 1193.49 Q791.318 1193.49 788.199 1192.91 Q785.112 1192.37 781.674 1191.26 L781.674 1185.21 Q784.921 1186.9 788.072 1187.76 Q791.223 1188.59 794.31 1188.59 Q798.448 1188.59 800.676 1187.18 Q802.904 1185.75 802.904 1183.17 Q802.904 1180.79 801.281 1179.51 Q799.689 1178.24 794.247 1177.06 L792.21 1176.59 Q786.767 1175.44 784.348 1173.08 Q781.929 1170.7 781.929 1166.56 Q781.929 1161.53 785.494 1158.79 Q789.059 1156.06 795.615 1156.06 Q798.862 1156.06 801.726 1156.53 Q804.591 1157.01 807.01 1157.97 Z\" fill=\"#000000\" fill-rule=\"evenodd\" fill-opacity=\"1\" /><path clip-path=\"url(#clip270)\" d=\"M824.038 1146.79 L824.038 1156.92 L836.101 1156.92 L836.101 1161.47 L824.038 1161.47 L824.038 1180.82 Q824.038 1185.18 825.216 1186.42 Q826.425 1187.66 830.086 1187.66 L836.101 1187.66 L836.101 1192.56 L830.086 1192.56 Q823.306 1192.56 820.728 1190.05 Q818.15 1187.5 818.15 1180.82 L818.15 1161.47 L813.853 1161.47 L813.853 1156.92 L818.15 1156.92 L818.15 1146.79 L824.038 1146.79 Z\" fill=\"#000000\" fill-rule=\"evenodd\" fill-opacity=\"1\" /><path clip-path=\"url(#clip270)\" d=\"M887.982 1162.33 L887.982 1143.04 L893.838 1143.04 L893.838 1192.56 L887.982 1192.56 L887.982 1187.22 Q886.136 1190.4 883.303 1191.96 Q880.502 1193.49 876.555 1193.49 Q870.094 1193.49 866.02 1188.33 Q861.978 1183.17 861.978 1174.77 Q861.978 1166.37 866.02 1161.21 Q870.094 1156.06 876.555 1156.06 Q880.502 1156.06 883.303 1157.62 Q886.136 1159.14 887.982 1162.33 M868.025 1174.77 Q868.025 1181.23 870.667 1184.92 Q873.341 1188.59 877.988 1188.59 Q882.634 1188.59 885.308 1184.92 Q887.982 1181.23 887.982 1174.77 Q887.982 1168.31 885.308 1164.65 Q882.634 1160.96 877.988 1160.96 Q873.341 1160.96 870.667 1164.65 Q868.025 1168.31 868.025 1174.77 Z\" fill=\"#000000\" fill-rule=\"evenodd\" fill-opacity=\"1\" /><path clip-path=\"url(#clip270)\" d=\"M922.102 1174.64 Q915.004 1174.64 912.267 1176.27 Q909.53 1177.89 909.53 1181.81 Q909.53 1184.92 911.567 1186.77 Q913.635 1188.59 917.168 1188.59 Q922.038 1188.59 924.966 1185.15 Q927.926 1181.68 927.926 1175.95 L927.926 1174.64 L922.102 1174.64 M933.783 1172.23 L933.783 1192.56 L927.926 1192.56 L927.926 1187.15 Q925.921 1190.4 922.929 1191.96 Q919.938 1193.49 915.609 1193.49 Q910.134 1193.49 906.888 1190.43 Q903.673 1187.34 903.673 1182.19 Q903.673 1176.17 907.684 1173.12 Q911.726 1170.06 919.715 1170.06 L927.926 1170.06 L927.926 1169.49 Q927.926 1165.45 925.253 1163.25 Q922.611 1161.02 917.805 1161.02 Q914.749 1161.02 911.853 1161.75 Q908.957 1162.49 906.283 1163.95 L906.283 1158.54 Q909.498 1157.3 912.521 1156.69 Q915.545 1156.06 918.41 1156.06 Q926.144 1156.06 929.964 1160.07 Q933.783 1164.08 933.783 1172.23 Z\" fill=\"#000000\" fill-rule=\"evenodd\" fill-opacity=\"1\" /><path clip-path=\"url(#clip270)\" d=\"M951.639 1146.79 L951.639 1156.92 L963.702 1156.92 L963.702 1161.47 L951.639 1161.47 L951.639 1180.82 Q951.639 1185.18 952.816 1186.42 Q954.026 1187.66 957.686 1187.66 L963.702 1187.66 L963.702 1192.56 L957.686 1192.56 Q950.907 1192.56 948.329 1190.05 Q945.75 1187.5 945.75 1180.82 L945.75 1161.47 L941.454 1161.47 L941.454 1156.92 L945.75 1156.92 L945.75 1146.79 L951.639 1146.79 Z\" fill=\"#000000\" fill-rule=\"evenodd\" fill-opacity=\"1\" /><path clip-path=\"url(#clip270)\" d=\"M987.605 1174.64 Q980.507 1174.64 977.77 1176.27 Q975.033 1177.89 975.033 1181.81 Q975.033 1184.92 977.07 1186.77 Q979.139 1188.59 982.672 1188.59 Q987.541 1188.59 990.47 1185.15 Q993.43 1181.68 993.43 1175.95 L993.43 1174.64 L987.605 1174.64 M999.286 1172.23 L999.286 1192.56 L993.43 1192.56 L993.43 1187.15 Q991.424 1190.4 988.433 1191.96 Q985.441 1193.49 981.112 1193.49 Q975.637 1193.49 972.391 1190.43 Q969.176 1187.34 969.176 1182.19 Q969.176 1176.17 973.187 1173.12 Q977.229 1170.06 985.218 1170.06 L993.43 1170.06 L993.43 1169.49 Q993.43 1165.45 990.756 1163.25 Q988.114 1161.02 983.308 1161.02 Q980.253 1161.02 977.356 1161.75 Q974.46 1162.49 971.786 1163.95 L971.786 1158.54 Q975.001 1157.3 978.025 1156.69 Q981.048 1156.06 983.913 1156.06 Q991.647 1156.06 995.467 1160.07 Q999.286 1164.08 999.286 1172.23 Z\" fill=\"#000000\" fill-rule=\"evenodd\" fill-opacity=\"1\" /><polyline clip-path=\"url(#clip272)\" style=\"stroke:#000000; stroke-linecap:butt; stroke-linejoin:round; stroke-width:2; stroke-opacity:0.1; fill:none\" points=\"\n",
       "  193.936,1020.07 1152.76,1020.07 \n",
       "  \"/>\n",
       "<polyline clip-path=\"url(#clip272)\" style=\"stroke:#000000; stroke-linecap:butt; stroke-linejoin:round; stroke-width:2; stroke-opacity:0.1; fill:none\" points=\"\n",
       "  193.936,808.448 1152.76,808.448 \n",
       "  \"/>\n",
       "<polyline clip-path=\"url(#clip272)\" style=\"stroke:#000000; stroke-linecap:butt; stroke-linejoin:round; stroke-width:2; stroke-opacity:0.1; fill:none\" points=\"\n",
       "  193.936,596.829 1152.76,596.829 \n",
       "  \"/>\n",
       "<polyline clip-path=\"url(#clip272)\" style=\"stroke:#000000; stroke-linecap:butt; stroke-linejoin:round; stroke-width:2; stroke-opacity:0.1; fill:none\" points=\"\n",
       "  193.936,385.21 1152.76,385.21 \n",
       "  \"/>\n",
       "<polyline clip-path=\"url(#clip272)\" style=\"stroke:#000000; stroke-linecap:butt; stroke-linejoin:round; stroke-width:2; stroke-opacity:0.1; fill:none\" points=\"\n",
       "  193.936,173.591 1152.76,173.591 \n",
       "  \"/>\n",
       "<polyline clip-path=\"url(#clip270)\" style=\"stroke:#000000; stroke-linecap:butt; stroke-linejoin:round; stroke-width:4; stroke-opacity:1; fill:none\" points=\"\n",
       "  193.936,1047.7 193.936,47.2441 \n",
       "  \"/>\n",
       "<polyline clip-path=\"url(#clip270)\" style=\"stroke:#000000; stroke-linecap:butt; stroke-linejoin:round; stroke-width:4; stroke-opacity:1; fill:none\" points=\"\n",
       "  193.936,1020.07 212.834,1020.07 \n",
       "  \"/>\n",
       "<polyline clip-path=\"url(#clip270)\" style=\"stroke:#000000; stroke-linecap:butt; stroke-linejoin:round; stroke-width:4; stroke-opacity:1; fill:none\" points=\"\n",
       "  193.936,808.448 212.834,808.448 \n",
       "  \"/>\n",
       "<polyline clip-path=\"url(#clip270)\" style=\"stroke:#000000; stroke-linecap:butt; stroke-linejoin:round; stroke-width:4; stroke-opacity:1; fill:none\" points=\"\n",
       "  193.936,596.829 212.834,596.829 \n",
       "  \"/>\n",
       "<polyline clip-path=\"url(#clip270)\" style=\"stroke:#000000; stroke-linecap:butt; stroke-linejoin:round; stroke-width:4; stroke-opacity:1; fill:none\" points=\"\n",
       "  193.936,385.21 212.834,385.21 \n",
       "  \"/>\n",
       "<polyline clip-path=\"url(#clip270)\" style=\"stroke:#000000; stroke-linecap:butt; stroke-linejoin:round; stroke-width:4; stroke-opacity:1; fill:none\" points=\"\n",
       "  193.936,173.591 212.834,173.591 \n",
       "  \"/>\n",
       "<path clip-path=\"url(#clip270)\" d=\"M50.9921 1020.52 L80.6679 1020.52 L80.6679 1024.45 L50.9921 1024.45 L50.9921 1020.52 Z\" fill=\"#000000\" fill-rule=\"evenodd\" fill-opacity=\"1\" /><path clip-path=\"url(#clip270)\" d=\"M91.5706 1033.41 L99.2095 1033.41 L99.2095 1007.05 L90.8993 1008.71 L90.8993 1004.45 L99.1632 1002.79 L103.839 1002.79 L103.839 1033.41 L111.478 1033.41 L111.478 1037.35 L91.5706 1037.35 L91.5706 1033.41 Z\" fill=\"#000000\" fill-rule=\"evenodd\" fill-opacity=\"1\" /><path clip-path=\"url(#clip270)\" d=\"M120.922 1031.47 L125.807 1031.47 L125.807 1037.35 L120.922 1037.35 L120.922 1031.47 Z\" fill=\"#000000\" fill-rule=\"evenodd\" fill-opacity=\"1\" /><path clip-path=\"url(#clip270)\" d=\"M145.992 1005.87 Q142.381 1005.87 140.552 1009.43 Q138.746 1012.97 138.746 1020.1 Q138.746 1027.21 140.552 1030.77 Q142.381 1034.31 145.992 1034.31 Q149.626 1034.31 151.431 1030.77 Q153.26 1027.21 153.26 1020.1 Q153.26 1012.97 151.431 1009.43 Q149.626 1005.87 145.992 1005.87 M145.992 1002.16 Q151.802 1002.16 154.857 1006.77 Q157.936 1011.35 157.936 1020.1 Q157.936 1028.83 154.857 1033.44 Q151.802 1038.02 145.992 1038.02 Q140.181 1038.02 137.103 1033.44 Q134.047 1028.83 134.047 1020.1 Q134.047 1011.35 137.103 1006.77 Q140.181 1002.16 145.992 1002.16 Z\" fill=\"#000000\" fill-rule=\"evenodd\" fill-opacity=\"1\" /><path clip-path=\"url(#clip270)\" d=\"M51.9875 808.9 L81.6633 808.9 L81.6633 812.835 L51.9875 812.835 L51.9875 808.9 Z\" fill=\"#000000\" fill-rule=\"evenodd\" fill-opacity=\"1\" /><path clip-path=\"url(#clip270)\" d=\"M101.756 794.247 Q98.1447 794.247 96.316 797.812 Q94.5104 801.353 94.5104 808.483 Q94.5104 815.589 96.316 819.154 Q98.1447 822.696 101.756 822.696 Q105.39 822.696 107.196 819.154 Q109.024 815.589 109.024 808.483 Q109.024 801.353 107.196 797.812 Q105.39 794.247 101.756 794.247 M101.756 790.543 Q107.566 790.543 110.621 795.15 Q113.7 799.733 113.7 808.483 Q113.7 817.21 110.621 821.816 Q107.566 826.4 101.756 826.4 Q95.9456 826.4 92.8669 821.816 Q89.8114 817.21 89.8114 808.483 Q89.8114 799.733 92.8669 795.15 Q95.9456 790.543 101.756 790.543 Z\" fill=\"#000000\" fill-rule=\"evenodd\" fill-opacity=\"1\" /><path clip-path=\"url(#clip270)\" d=\"M121.918 819.849 L126.802 819.849 L126.802 825.728 L121.918 825.728 L121.918 819.849 Z\" fill=\"#000000\" fill-rule=\"evenodd\" fill-opacity=\"1\" /><path clip-path=\"url(#clip270)\" d=\"M137.033 791.168 L155.39 791.168 L155.39 795.103 L141.316 795.103 L141.316 803.576 Q142.334 803.228 143.353 803.066 Q144.371 802.881 145.39 802.881 Q151.177 802.881 154.556 806.052 Q157.936 809.224 157.936 814.64 Q157.936 820.219 154.464 823.321 Q150.992 826.4 144.672 826.4 Q142.496 826.4 140.228 826.029 Q137.982 825.659 135.575 824.918 L135.575 820.219 Q137.658 821.353 139.881 821.909 Q142.103 822.464 144.58 822.464 Q148.584 822.464 150.922 820.358 Q153.26 818.251 153.26 814.64 Q153.26 811.029 150.922 808.923 Q148.584 806.816 144.58 806.816 Q142.705 806.816 140.83 807.233 Q138.978 807.65 137.033 808.529 L137.033 791.168 Z\" fill=\"#000000\" fill-rule=\"evenodd\" fill-opacity=\"1\" /><path clip-path=\"url(#clip270)\" d=\"M100.76 582.628 Q97.1493 582.628 95.3206 586.193 Q93.515 589.734 93.515 596.864 Q93.515 603.97 95.3206 607.535 Q97.1493 611.077 100.76 611.077 Q104.395 611.077 106.2 607.535 Q108.029 603.97 108.029 596.864 Q108.029 589.734 106.2 586.193 Q104.395 582.628 100.76 582.628 M100.76 578.924 Q106.571 578.924 109.626 583.531 Q112.705 588.114 112.705 596.864 Q112.705 605.591 109.626 610.197 Q106.571 614.781 100.76 614.781 Q94.9502 614.781 91.8715 610.197 Q88.816 605.591 88.816 596.864 Q88.816 588.114 91.8715 583.531 Q94.9502 578.924 100.76 578.924 Z\" fill=\"#000000\" fill-rule=\"evenodd\" fill-opacity=\"1\" /><path clip-path=\"url(#clip270)\" d=\"M120.922 608.23 L125.807 608.23 L125.807 614.109 L120.922 614.109 L120.922 608.23 Z\" fill=\"#000000\" fill-rule=\"evenodd\" fill-opacity=\"1\" /><path clip-path=\"url(#clip270)\" d=\"M145.992 582.628 Q142.381 582.628 140.552 586.193 Q138.746 589.734 138.746 596.864 Q138.746 603.97 140.552 607.535 Q142.381 611.077 145.992 611.077 Q149.626 611.077 151.431 607.535 Q153.26 603.97 153.26 596.864 Q153.26 589.734 151.431 586.193 Q149.626 582.628 145.992 582.628 M145.992 578.924 Q151.802 578.924 154.857 583.531 Q157.936 588.114 157.936 596.864 Q157.936 605.591 154.857 610.197 Q151.802 614.781 145.992 614.781 Q140.181 614.781 137.103 610.197 Q134.047 605.591 134.047 596.864 Q134.047 588.114 137.103 583.531 Q140.181 578.924 145.992 578.924 Z\" fill=\"#000000\" fill-rule=\"evenodd\" fill-opacity=\"1\" /><path clip-path=\"url(#clip270)\" d=\"M101.756 371.009 Q98.1447 371.009 96.316 374.574 Q94.5104 378.115 94.5104 385.245 Q94.5104 392.352 96.316 395.916 Q98.1447 399.458 101.756 399.458 Q105.39 399.458 107.196 395.916 Q109.024 392.352 109.024 385.245 Q109.024 378.115 107.196 374.574 Q105.39 371.009 101.756 371.009 M101.756 367.305 Q107.566 367.305 110.621 371.912 Q113.7 376.495 113.7 385.245 Q113.7 393.972 110.621 398.578 Q107.566 403.162 101.756 403.162 Q95.9456 403.162 92.8669 398.578 Q89.8114 393.972 89.8114 385.245 Q89.8114 376.495 92.8669 371.912 Q95.9456 367.305 101.756 367.305 Z\" fill=\"#000000\" fill-rule=\"evenodd\" fill-opacity=\"1\" /><path clip-path=\"url(#clip270)\" d=\"M121.918 396.611 L126.802 396.611 L126.802 402.49 L121.918 402.49 L121.918 396.611 Z\" fill=\"#000000\" fill-rule=\"evenodd\" fill-opacity=\"1\" /><path clip-path=\"url(#clip270)\" d=\"M137.033 367.93 L155.39 367.93 L155.39 371.866 L141.316 371.866 L141.316 380.338 Q142.334 379.99 143.353 379.828 Q144.371 379.643 145.39 379.643 Q151.177 379.643 154.556 382.815 Q157.936 385.986 157.936 391.402 Q157.936 396.981 154.464 400.083 Q150.992 403.162 144.672 403.162 Q142.496 403.162 140.228 402.791 Q137.982 402.421 135.575 401.68 L135.575 396.981 Q137.658 398.115 139.881 398.671 Q142.103 399.226 144.58 399.226 Q148.584 399.226 150.922 397.12 Q153.26 395.014 153.26 391.402 Q153.26 387.791 150.922 385.685 Q148.584 383.578 144.58 383.578 Q142.705 383.578 140.83 383.995 Q138.978 384.412 137.033 385.291 L137.033 367.93 Z\" fill=\"#000000\" fill-rule=\"evenodd\" fill-opacity=\"1\" /><path clip-path=\"url(#clip270)\" d=\"M91.5706 186.936 L99.2095 186.936 L99.2095 160.571 L90.8993 162.237 L90.8993 157.978 L99.1632 156.311 L103.839 156.311 L103.839 186.936 L111.478 186.936 L111.478 190.871 L91.5706 190.871 L91.5706 186.936 Z\" fill=\"#000000\" fill-rule=\"evenodd\" fill-opacity=\"1\" /><path clip-path=\"url(#clip270)\" d=\"M120.922 184.992 L125.807 184.992 L125.807 190.871 L120.922 190.871 L120.922 184.992 Z\" fill=\"#000000\" fill-rule=\"evenodd\" fill-opacity=\"1\" /><path clip-path=\"url(#clip270)\" d=\"M145.992 159.39 Q142.381 159.39 140.552 162.955 Q138.746 166.497 138.746 173.626 Q138.746 180.733 140.552 184.297 Q142.381 187.839 145.992 187.839 Q149.626 187.839 151.431 184.297 Q153.26 180.733 153.26 173.626 Q153.26 166.497 151.431 162.955 Q149.626 159.39 145.992 159.39 M145.992 155.686 Q151.802 155.686 154.857 160.293 Q157.936 164.876 157.936 173.626 Q157.936 182.353 154.857 186.959 Q151.802 191.543 145.992 191.543 Q140.181 191.543 137.103 186.959 Q134.047 182.353 134.047 173.626 Q134.047 164.876 137.103 160.293 Q140.181 155.686 145.992 155.686 Z\" fill=\"#000000\" fill-rule=\"evenodd\" fill-opacity=\"1\" /><circle clip-path=\"url(#clip272)\" cx=\"376.077\" cy=\"548.97\" r=\"14\" fill=\"#cd5c5c\" fill-rule=\"evenodd\" fill-opacity=\"1\" stroke=\"#000000\" stroke-opacity=\"1\" stroke-width=\"2.4\"/>\n",
       "<circle clip-path=\"url(#clip272)\" cx=\"428.801\" cy=\"458.174\" r=\"14\" fill=\"#cd5c5c\" fill-rule=\"evenodd\" fill-opacity=\"1\" stroke=\"#000000\" stroke-opacity=\"1\" stroke-width=\"2.4\"/>\n",
       "<circle clip-path=\"url(#clip272)\" cx=\"565.612\" cy=\"346.046\" r=\"14\" fill=\"#cd5c5c\" fill-rule=\"evenodd\" fill-opacity=\"1\" stroke=\"#000000\" stroke-opacity=\"1\" stroke-width=\"2.4\"/>\n",
       "<circle clip-path=\"url(#clip272)\" cx=\"471.169\" cy=\"570.95\" r=\"14\" fill=\"#cd5c5c\" fill-rule=\"evenodd\" fill-opacity=\"1\" stroke=\"#000000\" stroke-opacity=\"1\" stroke-width=\"2.4\"/>\n",
       "<circle clip-path=\"url(#clip272)\" cx=\"694.967\" cy=\"729.613\" r=\"14\" fill=\"#cd5c5c\" fill-rule=\"evenodd\" fill-opacity=\"1\" stroke=\"#000000\" stroke-opacity=\"1\" stroke-width=\"2.4\"/>\n",
       "<circle clip-path=\"url(#clip272)\" cx=\"357.065\" cy=\"246.644\" r=\"14\" fill=\"#cd5c5c\" fill-rule=\"evenodd\" fill-opacity=\"1\" stroke=\"#000000\" stroke-opacity=\"1\" stroke-width=\"2.4\"/>\n",
       "<circle clip-path=\"url(#clip272)\" cx=\"626.661\" cy=\"321.716\" r=\"14\" fill=\"#cd5c5c\" fill-rule=\"evenodd\" fill-opacity=\"1\" stroke=\"#000000\" stroke-opacity=\"1\" stroke-width=\"2.4\"/>\n",
       "<circle clip-path=\"url(#clip272)\" cx=\"344.04\" cy=\"794.39\" r=\"14\" fill=\"#cd5c5c\" fill-rule=\"evenodd\" fill-opacity=\"1\" stroke=\"#000000\" stroke-opacity=\"1\" stroke-width=\"2.4\"/>\n",
       "<circle clip-path=\"url(#clip272)\" cx=\"321.717\" cy=\"542.215\" r=\"14\" fill=\"#cd5c5c\" fill-rule=\"evenodd\" fill-opacity=\"1\" stroke=\"#000000\" stroke-opacity=\"1\" stroke-width=\"2.4\"/>\n",
       "<circle clip-path=\"url(#clip272)\" cx=\"672.062\" cy=\"631.206\" r=\"14\" fill=\"#cd5c5c\" fill-rule=\"evenodd\" fill-opacity=\"1\" stroke=\"#000000\" stroke-opacity=\"1\" stroke-width=\"2.4\"/>\n",
       "<circle clip-path=\"url(#clip272)\" cx=\"427.32\" cy=\"543.517\" r=\"14\" fill=\"#cd5c5c\" fill-rule=\"evenodd\" fill-opacity=\"1\" stroke=\"#000000\" stroke-opacity=\"1\" stroke-width=\"2.4\"/>\n",
       "<circle clip-path=\"url(#clip272)\" cx=\"501.637\" cy=\"391.057\" r=\"14\" fill=\"#cd5c5c\" fill-rule=\"evenodd\" fill-opacity=\"1\" stroke=\"#000000\" stroke-opacity=\"1\" stroke-width=\"2.4\"/>\n",
       "<circle clip-path=\"url(#clip272)\" cx=\"221.072\" cy=\"518.399\" r=\"14\" fill=\"#cd5c5c\" fill-rule=\"evenodd\" fill-opacity=\"1\" stroke=\"#000000\" stroke-opacity=\"1\" stroke-width=\"2.4\"/>\n",
       "<circle clip-path=\"url(#clip272)\" cx=\"585.507\" cy=\"445.788\" r=\"14\" fill=\"#cd5c5c\" fill-rule=\"evenodd\" fill-opacity=\"1\" stroke=\"#000000\" stroke-opacity=\"1\" stroke-width=\"2.4\"/>\n",
       "<circle clip-path=\"url(#clip272)\" cx=\"716.865\" cy=\"802.525\" r=\"14\" fill=\"#cd5c5c\" fill-rule=\"evenodd\" fill-opacity=\"1\" stroke=\"#000000\" stroke-opacity=\"1\" stroke-width=\"2.4\"/>\n",
       "<circle clip-path=\"url(#clip272)\" cx=\"418.978\" cy=\"252.803\" r=\"14\" fill=\"#cd5c5c\" fill-rule=\"evenodd\" fill-opacity=\"1\" stroke=\"#000000\" stroke-opacity=\"1\" stroke-width=\"2.4\"/>\n",
       "<circle clip-path=\"url(#clip272)\" cx=\"337.185\" cy=\"292.812\" r=\"14\" fill=\"#cd5c5c\" fill-rule=\"evenodd\" fill-opacity=\"1\" stroke=\"#000000\" stroke-opacity=\"1\" stroke-width=\"2.4\"/>\n",
       "<circle clip-path=\"url(#clip272)\" cx=\"690.317\" cy=\"439.034\" r=\"14\" fill=\"#cd5c5c\" fill-rule=\"evenodd\" fill-opacity=\"1\" stroke=\"#000000\" stroke-opacity=\"1\" stroke-width=\"2.4\"/>\n",
       "<circle clip-path=\"url(#clip272)\" cx=\"455.178\" cy=\"605.079\" r=\"14\" fill=\"#cd5c5c\" fill-rule=\"evenodd\" fill-opacity=\"1\" stroke=\"#000000\" stroke-opacity=\"1\" stroke-width=\"2.4\"/>\n",
       "<circle clip-path=\"url(#clip272)\" cx=\"423.152\" cy=\"556.431\" r=\"14\" fill=\"#cd5c5c\" fill-rule=\"evenodd\" fill-opacity=\"1\" stroke=\"#000000\" stroke-opacity=\"1\" stroke-width=\"2.4\"/>\n",
       "<circle clip-path=\"url(#clip272)\" cx=\"349.401\" cy=\"588.783\" r=\"14\" fill=\"#cd5c5c\" fill-rule=\"evenodd\" fill-opacity=\"1\" stroke=\"#000000\" stroke-opacity=\"1\" stroke-width=\"2.4\"/>\n",
       "<circle clip-path=\"url(#clip272)\" cx=\"398.161\" cy=\"534.224\" r=\"14\" fill=\"#cd5c5c\" fill-rule=\"evenodd\" fill-opacity=\"1\" stroke=\"#000000\" stroke-opacity=\"1\" stroke-width=\"2.4\"/>\n",
       "<circle clip-path=\"url(#clip272)\" cx=\"493.583\" cy=\"405.337\" r=\"14\" fill=\"#cd5c5c\" fill-rule=\"evenodd\" fill-opacity=\"1\" stroke=\"#000000\" stroke-opacity=\"1\" stroke-width=\"2.4\"/>\n",
       "<circle clip-path=\"url(#clip272)\" cx=\"461.866\" cy=\"610.506\" r=\"14\" fill=\"#cd5c5c\" fill-rule=\"evenodd\" fill-opacity=\"1\" stroke=\"#000000\" stroke-opacity=\"1\" stroke-width=\"2.4\"/>\n",
       "<circle clip-path=\"url(#clip272)\" cx=\"625.737\" cy=\"384.134\" r=\"14\" fill=\"#cd5c5c\" fill-rule=\"evenodd\" fill-opacity=\"1\" stroke=\"#000000\" stroke-opacity=\"1\" stroke-width=\"2.4\"/>\n",
       "<circle clip-path=\"url(#clip272)\" cx=\"334.077\" cy=\"75.5589\" r=\"14\" fill=\"#cd5c5c\" fill-rule=\"evenodd\" fill-opacity=\"1\" stroke=\"#000000\" stroke-opacity=\"1\" stroke-width=\"2.4\"/>\n",
       "<circle clip-path=\"url(#clip272)\" cx=\"503.105\" cy=\"744.254\" r=\"14\" fill=\"#4682b4\" fill-rule=\"evenodd\" fill-opacity=\"1\" stroke=\"#000000\" stroke-opacity=\"1\" stroke-width=\"2.4\"/>\n",
       "<circle clip-path=\"url(#clip272)\" cx=\"925.861\" cy=\"639.042\" r=\"14\" fill=\"#4682b4\" fill-rule=\"evenodd\" fill-opacity=\"1\" stroke=\"#000000\" stroke-opacity=\"1\" stroke-width=\"2.4\"/>\n",
       "<circle clip-path=\"url(#clip272)\" cx=\"747.454\" cy=\"716.338\" r=\"14\" fill=\"#4682b4\" fill-rule=\"evenodd\" fill-opacity=\"1\" stroke=\"#000000\" stroke-opacity=\"1\" stroke-width=\"2.4\"/>\n",
       "<circle clip-path=\"url(#clip272)\" cx=\"820.1\" cy=\"747.535\" r=\"14\" fill=\"#4682b4\" fill-rule=\"evenodd\" fill-opacity=\"1\" stroke=\"#000000\" stroke-opacity=\"1\" stroke-width=\"2.4\"/>\n",
       "<circle clip-path=\"url(#clip272)\" cx=\"956.132\" cy=\"1019.39\" r=\"14\" fill=\"#4682b4\" fill-rule=\"evenodd\" fill-opacity=\"1\" stroke=\"#000000\" stroke-opacity=\"1\" stroke-width=\"2.4\"/>\n",
       "<circle clip-path=\"url(#clip272)\" cx=\"814.638\" cy=\"703.753\" r=\"14\" fill=\"#4682b4\" fill-rule=\"evenodd\" fill-opacity=\"1\" stroke=\"#000000\" stroke-opacity=\"1\" stroke-width=\"2.4\"/>\n",
       "<circle clip-path=\"url(#clip272)\" cx=\"893.519\" cy=\"858.585\" r=\"14\" fill=\"#4682b4\" fill-rule=\"evenodd\" fill-opacity=\"1\" stroke=\"#000000\" stroke-opacity=\"1\" stroke-width=\"2.4\"/>\n",
       "<circle clip-path=\"url(#clip272)\" cx=\"666.547\" cy=\"729.725\" r=\"14\" fill=\"#4682b4\" fill-rule=\"evenodd\" fill-opacity=\"1\" stroke=\"#000000\" stroke-opacity=\"1\" stroke-width=\"2.4\"/>\n",
       "<circle clip-path=\"url(#clip272)\" cx=\"782.048\" cy=\"727.348\" r=\"14\" fill=\"#4682b4\" fill-rule=\"evenodd\" fill-opacity=\"1\" stroke=\"#000000\" stroke-opacity=\"1\" stroke-width=\"2.4\"/>\n",
       "<circle clip-path=\"url(#clip272)\" cx=\"796.47\" cy=\"712.723\" r=\"14\" fill=\"#4682b4\" fill-rule=\"evenodd\" fill-opacity=\"1\" stroke=\"#000000\" stroke-opacity=\"1\" stroke-width=\"2.4\"/>\n",
       "<circle clip-path=\"url(#clip272)\" cx=\"735.098\" cy=\"660.206\" r=\"14\" fill=\"#4682b4\" fill-rule=\"evenodd\" fill-opacity=\"1\" stroke=\"#000000\" stroke-opacity=\"1\" stroke-width=\"2.4\"/>\n",
       "<circle clip-path=\"url(#clip272)\" cx=\"854.711\" cy=\"669.27\" r=\"14\" fill=\"#4682b4\" fill-rule=\"evenodd\" fill-opacity=\"1\" stroke=\"#000000\" stroke-opacity=\"1\" stroke-width=\"2.4\"/>\n",
       "<circle clip-path=\"url(#clip272)\" cx=\"541.084\" cy=\"569.382\" r=\"14\" fill=\"#4682b4\" fill-rule=\"evenodd\" fill-opacity=\"1\" stroke=\"#000000\" stroke-opacity=\"1\" stroke-width=\"2.4\"/>\n",
       "<circle clip-path=\"url(#clip272)\" cx=\"716.319\" cy=\"762.549\" r=\"14\" fill=\"#4682b4\" fill-rule=\"evenodd\" fill-opacity=\"1\" stroke=\"#000000\" stroke-opacity=\"1\" stroke-width=\"2.4\"/>\n",
       "<circle clip-path=\"url(#clip272)\" cx=\"874.854\" cy=\"690.603\" r=\"14\" fill=\"#4682b4\" fill-rule=\"evenodd\" fill-opacity=\"1\" stroke=\"#000000\" stroke-opacity=\"1\" stroke-width=\"2.4\"/>\n",
       "<circle clip-path=\"url(#clip272)\" cx=\"606.003\" cy=\"598.837\" r=\"14\" fill=\"#4682b4\" fill-rule=\"evenodd\" fill-opacity=\"1\" stroke=\"#000000\" stroke-opacity=\"1\" stroke-width=\"2.4\"/>\n",
       "<circle clip-path=\"url(#clip272)\" cx=\"786.619\" cy=\"600.357\" r=\"14\" fill=\"#4682b4\" fill-rule=\"evenodd\" fill-opacity=\"1\" stroke=\"#000000\" stroke-opacity=\"1\" stroke-width=\"2.4\"/>\n",
       "<circle clip-path=\"url(#clip272)\" cx=\"712.686\" cy=\"583.787\" r=\"14\" fill=\"#4682b4\" fill-rule=\"evenodd\" fill-opacity=\"1\" stroke=\"#000000\" stroke-opacity=\"1\" stroke-width=\"2.4\"/>\n",
       "<circle clip-path=\"url(#clip272)\" cx=\"761.724\" cy=\"627.014\" r=\"14\" fill=\"#4682b4\" fill-rule=\"evenodd\" fill-opacity=\"1\" stroke=\"#000000\" stroke-opacity=\"1\" stroke-width=\"2.4\"/>\n",
       "<circle clip-path=\"url(#clip272)\" cx=\"920.045\" cy=\"661.127\" r=\"14\" fill=\"#4682b4\" fill-rule=\"evenodd\" fill-opacity=\"1\" stroke=\"#000000\" stroke-opacity=\"1\" stroke-width=\"2.4\"/>\n",
       "<circle clip-path=\"url(#clip272)\" cx=\"1125.62\" cy=\"951.009\" r=\"14\" fill=\"#4682b4\" fill-rule=\"evenodd\" fill-opacity=\"1\" stroke=\"#000000\" stroke-opacity=\"1\" stroke-width=\"2.4\"/>\n",
       "<circle clip-path=\"url(#clip272)\" cx=\"810.006\" cy=\"557.177\" r=\"14\" fill=\"#4682b4\" fill-rule=\"evenodd\" fill-opacity=\"1\" stroke=\"#000000\" stroke-opacity=\"1\" stroke-width=\"2.4\"/>\n",
       "<circle clip-path=\"url(#clip272)\" cx=\"877.934\" cy=\"761.787\" r=\"14\" fill=\"#4682b4\" fill-rule=\"evenodd\" fill-opacity=\"1\" stroke=\"#000000\" stroke-opacity=\"1\" stroke-width=\"2.4\"/>\n",
       "<circle clip-path=\"url(#clip272)\" cx=\"887.284\" cy=\"913.759\" r=\"14\" fill=\"#4682b4\" fill-rule=\"evenodd\" fill-opacity=\"1\" stroke=\"#000000\" stroke-opacity=\"1\" stroke-width=\"2.4\"/>\n",
       "<path clip-path=\"url(#clip270)\" d=\"\n",
       "M860.325 236.113 L1120.8 236.113 L1120.8 80.5926 L860.325 80.5926  Z\n",
       "  \" fill=\"#ffffff\" fill-rule=\"evenodd\" fill-opacity=\"1\"/>\n",
       "<polyline clip-path=\"url(#clip270)\" style=\"stroke:#000000; stroke-linecap:butt; stroke-linejoin:round; stroke-width:4; stroke-opacity:1; fill:none\" points=\"\n",
       "  860.325,236.113 1120.8,236.113 1120.8,80.5926 860.325,80.5926 860.325,236.113 \n",
       "  \"/>\n",
       "<circle clip-path=\"url(#clip270)\" cx=\"902.94\" cy=\"132.433\" r=\"23\" fill=\"#cd5c5c\" fill-rule=\"evenodd\" fill-opacity=\"1\" stroke=\"#000000\" stroke-opacity=\"1\" stroke-width=\"3.84\"/>\n",
       "<path clip-path=\"url(#clip270)\" d=\"M973.424 117.815 L973.424 122.745 Q971.063 120.546 968.378 119.458 Q965.716 118.37 962.706 118.37 Q956.781 118.37 953.632 122.004 Q950.484 125.616 950.484 132.467 Q950.484 139.296 953.632 142.93 Q956.781 146.541 962.706 146.541 Q965.716 146.541 968.378 145.453 Q971.063 144.365 973.424 142.166 L973.424 147.051 Q970.97 148.717 968.216 149.551 Q965.484 150.384 962.429 150.384 Q954.582 150.384 950.068 145.592 Q945.554 140.777 945.554 132.467 Q945.554 124.134 950.068 119.342 Q954.582 114.528 962.429 114.528 Q965.531 114.528 968.262 115.361 Q971.017 116.171 973.424 117.815 Z\" fill=\"#000000\" fill-rule=\"evenodd\" fill-opacity=\"1\" /><path clip-path=\"url(#clip270)\" d=\"M990.507 126.773 Q987.081 126.773 985.091 129.458 Q983.1 132.12 983.1 136.773 Q983.1 141.426 985.067 144.111 Q987.058 146.773 990.507 146.773 Q993.91 146.773 995.901 144.088 Q997.891 141.402 997.891 136.773 Q997.891 132.166 995.901 129.481 Q993.91 126.773 990.507 126.773 M990.507 123.162 Q996.063 123.162 999.234 126.773 Q1002.41 130.384 1002.41 136.773 Q1002.41 143.139 999.234 146.773 Q996.063 150.384 990.507 150.384 Q984.929 150.384 981.757 146.773 Q978.609 143.139 978.609 136.773 Q978.609 130.384 981.757 126.773 Q984.929 123.162 990.507 123.162 Z\" fill=\"#000000\" fill-rule=\"evenodd\" fill-opacity=\"1\" /><path clip-path=\"url(#clip270)\" d=\"M1021.25 136.68 Q1016.09 136.68 1014.1 137.861 Q1012.1 139.041 1012.1 141.889 Q1012.1 144.157 1013.59 145.5 Q1015.09 146.819 1017.66 146.819 Q1021.2 146.819 1023.33 144.319 Q1025.48 141.796 1025.48 137.629 L1025.48 136.68 L1021.25 136.68 M1029.74 134.921 L1029.74 149.713 L1025.48 149.713 L1025.48 145.777 Q1024.03 148.139 1021.85 149.273 Q1019.67 150.384 1016.53 150.384 Q1012.54 150.384 1010.18 148.162 Q1007.85 145.916 1007.85 142.166 Q1007.85 137.791 1010.76 135.569 Q1013.7 133.347 1019.51 133.347 L1025.48 133.347 L1025.48 132.93 Q1025.48 129.991 1023.54 128.393 Q1021.62 126.773 1018.12 126.773 Q1015.9 126.773 1013.79 127.305 Q1011.69 127.838 1009.74 128.903 L1009.74 124.967 Q1012.08 124.065 1014.28 123.625 Q1016.48 123.162 1018.56 123.162 Q1024.19 123.162 1026.97 126.078 Q1029.74 128.995 1029.74 134.921 Z\" fill=\"#000000\" fill-rule=\"evenodd\" fill-opacity=\"1\" /><path clip-path=\"url(#clip270)\" d=\"M1042.73 116.426 L1042.73 123.787 L1051.5 123.787 L1051.5 127.097 L1042.73 127.097 L1042.73 141.171 Q1042.73 144.342 1043.59 145.245 Q1044.47 146.148 1047.13 146.148 L1051.5 146.148 L1051.5 149.713 L1047.13 149.713 Q1042.2 149.713 1040.32 147.884 Q1038.45 146.032 1038.45 141.171 L1038.45 127.097 L1035.32 127.097 L1035.32 123.787 L1038.45 123.787 L1038.45 116.426 L1042.73 116.426 Z\" fill=\"#000000\" fill-rule=\"evenodd\" fill-opacity=\"1\" /><circle clip-path=\"url(#clip270)\" cx=\"902.94\" cy=\"184.273\" r=\"23\" fill=\"#4682b4\" fill-rule=\"evenodd\" fill-opacity=\"1\" stroke=\"#000000\" stroke-opacity=\"1\" stroke-width=\"3.84\"/>\n",
       "<path clip-path=\"url(#clip270)\" d=\"M967.799 168.127 L967.799 172.687 Q965.137 171.414 962.776 170.789 Q960.415 170.164 958.216 170.164 Q954.396 170.164 952.313 171.645 Q950.253 173.127 950.253 175.858 Q950.253 178.15 951.619 179.331 Q953.007 180.488 956.85 181.206 L959.674 181.784 Q964.906 182.78 967.382 185.303 Q969.882 187.803 969.882 192.016 Q969.882 197.039 966.503 199.631 Q963.146 202.224 956.642 202.224 Q954.188 202.224 951.41 201.668 Q948.656 201.113 945.693 200.025 L945.693 195.21 Q948.54 196.807 951.271 197.617 Q954.003 198.428 956.642 198.428 Q960.646 198.428 962.822 196.854 Q964.998 195.28 964.998 192.363 Q964.998 189.817 963.424 188.381 Q961.873 186.946 958.308 186.229 L955.461 185.673 Q950.23 184.631 947.892 182.409 Q945.554 180.187 945.554 176.229 Q945.554 171.645 948.771 169.006 Q952.012 166.368 957.683 166.368 Q960.114 166.368 962.637 166.807 Q965.16 167.247 967.799 168.127 Z\" fill=\"#000000\" fill-rule=\"evenodd\" fill-opacity=\"1\" /><path clip-path=\"url(#clip270)\" d=\"M988.771 188.52 Q983.609 188.52 981.618 189.701 Q979.628 190.881 979.628 193.729 Q979.628 195.997 981.109 197.34 Q982.614 198.659 985.183 198.659 Q988.725 198.659 990.854 196.159 Q993.007 193.636 993.007 189.469 L993.007 188.52 L988.771 188.52 M997.266 186.761 L997.266 201.553 L993.007 201.553 L993.007 197.617 Q991.549 199.979 989.373 201.113 Q987.197 202.224 984.049 202.224 Q980.067 202.224 977.706 200.002 Q975.368 197.756 975.368 194.006 Q975.368 189.631 978.285 187.409 Q981.225 185.187 987.035 185.187 L993.007 185.187 L993.007 184.77 Q993.007 181.831 991.063 180.233 Q989.142 178.613 985.646 178.613 Q983.424 178.613 981.317 179.145 Q979.211 179.678 977.267 180.743 L977.267 176.807 Q979.605 175.905 981.804 175.465 Q984.003 175.002 986.086 175.002 Q991.711 175.002 994.489 177.918 Q997.266 180.835 997.266 186.761 Z\" fill=\"#000000\" fill-rule=\"evenodd\" fill-opacity=\"1\" /><path clip-path=\"url(#clip270)\" d=\"M1027.59 185.905 L1027.59 201.553 L1023.33 201.553 L1023.33 186.043 Q1023.33 182.363 1021.9 180.534 Q1020.46 178.706 1017.59 178.706 Q1014.14 178.706 1012.15 180.905 Q1010.16 183.104 1010.16 186.9 L1010.16 201.553 L1005.88 201.553 L1005.88 175.627 L1010.16 175.627 L1010.16 179.655 Q1011.69 177.317 1013.75 176.159 Q1015.83 175.002 1018.54 175.002 Q1023.01 175.002 1025.3 177.78 Q1027.59 180.534 1027.59 185.905 Z\" fill=\"#000000\" fill-rule=\"evenodd\" fill-opacity=\"1\" /><path clip-path=\"url(#clip270)\" d=\"M1053.15 179.562 L1053.15 165.534 L1057.41 165.534 L1057.41 201.553 L1053.15 201.553 L1053.15 197.664 Q1051.8 199.979 1049.74 201.113 Q1047.71 202.224 1044.84 202.224 Q1040.14 202.224 1037.17 198.474 Q1034.23 194.724 1034.23 188.613 Q1034.23 182.502 1037.17 178.752 Q1040.14 175.002 1044.84 175.002 Q1047.71 175.002 1049.74 176.136 Q1051.8 177.247 1053.15 179.562 M1038.63 188.613 Q1038.63 193.312 1040.55 195.997 Q1042.5 198.659 1045.88 198.659 Q1049.26 198.659 1051.2 195.997 Q1053.15 193.312 1053.15 188.613 Q1053.15 183.914 1051.2 181.252 Q1049.26 178.567 1045.88 178.567 Q1042.5 178.567 1040.55 181.252 Q1038.63 183.914 1038.63 188.613 Z\" fill=\"#000000\" fill-rule=\"evenodd\" fill-opacity=\"1\" /><path clip-path=\"url(#clip270)\" d=\"M1077.96 188.52 Q1072.8 188.52 1070.81 189.701 Q1068.82 190.881 1068.82 193.729 Q1068.82 195.997 1070.3 197.34 Q1071.8 198.659 1074.37 198.659 Q1077.91 198.659 1080.04 196.159 Q1082.2 193.636 1082.2 189.469 L1082.2 188.52 L1077.96 188.52 M1086.46 186.761 L1086.46 201.553 L1082.2 201.553 L1082.2 197.617 Q1080.74 199.979 1078.56 201.113 Q1076.39 202.224 1073.24 202.224 Q1069.26 202.224 1066.9 200.002 Q1064.56 197.756 1064.56 194.006 Q1064.56 189.631 1067.47 187.409 Q1070.41 185.187 1076.22 185.187 L1082.2 185.187 L1082.2 184.77 Q1082.2 181.831 1080.25 180.233 Q1078.33 178.613 1074.84 178.613 Q1072.61 178.613 1070.51 179.145 Q1068.4 179.678 1066.46 180.743 L1066.46 176.807 Q1068.79 175.905 1070.99 175.465 Q1073.19 175.002 1075.28 175.002 Q1080.9 175.002 1083.68 177.918 Q1086.46 180.835 1086.46 186.761 Z\" fill=\"#000000\" fill-rule=\"evenodd\" fill-opacity=\"1\" /><path clip-path=\"url(#clip270)\" d=\"M1095.23 165.534 L1099.49 165.534 L1099.49 201.553 L1095.23 201.553 L1095.23 165.534 Z\" fill=\"#000000\" fill-rule=\"evenodd\" fill-opacity=\"1\" /><path clip-path=\"url(#clip270)\" d=\"\n",
       "M1393.94 1047.7 L2352.76 1047.7 L2352.76 47.2441 L1393.94 47.2441  Z\n",
       "  \" fill=\"#ffffff\" fill-rule=\"evenodd\" fill-opacity=\"1\"/>\n",
       "<defs>\n",
       "  <clipPath id=\"clip273\">\n",
       "    <rect x=\"1393\" y=\"47\" width=\"960\" height=\"1001\"/>\n",
       "  </clipPath>\n",
       "</defs>\n",
       "<polyline clip-path=\"url(#clip273)\" style=\"stroke:#000000; stroke-linecap:butt; stroke-linejoin:round; stroke-width:2; stroke-opacity:0.1; fill:none\" points=\"\n",
       "  1464.88,1047.7 1464.88,47.2441 \n",
       "  \"/>\n",
       "<polyline clip-path=\"url(#clip273)\" style=\"stroke:#000000; stroke-linecap:butt; stroke-linejoin:round; stroke-width:2; stroke-opacity:0.1; fill:none\" points=\"\n",
       "  1646.58,1047.7 1646.58,47.2441 \n",
       "  \"/>\n",
       "<polyline clip-path=\"url(#clip273)\" style=\"stroke:#000000; stroke-linecap:butt; stroke-linejoin:round; stroke-width:2; stroke-opacity:0.1; fill:none\" points=\"\n",
       "  1828.28,1047.7 1828.28,47.2441 \n",
       "  \"/>\n",
       "<polyline clip-path=\"url(#clip273)\" style=\"stroke:#000000; stroke-linecap:butt; stroke-linejoin:round; stroke-width:2; stroke-opacity:0.1; fill:none\" points=\"\n",
       "  2009.98,1047.7 2009.98,47.2441 \n",
       "  \"/>\n",
       "<polyline clip-path=\"url(#clip273)\" style=\"stroke:#000000; stroke-linecap:butt; stroke-linejoin:round; stroke-width:2; stroke-opacity:0.1; fill:none\" points=\"\n",
       "  2191.69,1047.7 2191.69,47.2441 \n",
       "  \"/>\n",
       "<polyline clip-path=\"url(#clip270)\" style=\"stroke:#000000; stroke-linecap:butt; stroke-linejoin:round; stroke-width:4; stroke-opacity:1; fill:none\" points=\"\n",
       "  1393.94,1047.7 2352.76,1047.7 \n",
       "  \"/>\n",
       "<polyline clip-path=\"url(#clip270)\" style=\"stroke:#000000; stroke-linecap:butt; stroke-linejoin:round; stroke-width:4; stroke-opacity:1; fill:none\" points=\"\n",
       "  1464.88,1047.7 1464.88,1028.8 \n",
       "  \"/>\n",
       "<polyline clip-path=\"url(#clip270)\" style=\"stroke:#000000; stroke-linecap:butt; stroke-linejoin:round; stroke-width:4; stroke-opacity:1; fill:none\" points=\"\n",
       "  1646.58,1047.7 1646.58,1028.8 \n",
       "  \"/>\n",
       "<polyline clip-path=\"url(#clip270)\" style=\"stroke:#000000; stroke-linecap:butt; stroke-linejoin:round; stroke-width:4; stroke-opacity:1; fill:none\" points=\"\n",
       "  1828.28,1047.7 1828.28,1028.8 \n",
       "  \"/>\n",
       "<polyline clip-path=\"url(#clip270)\" style=\"stroke:#000000; stroke-linecap:butt; stroke-linejoin:round; stroke-width:4; stroke-opacity:1; fill:none\" points=\"\n",
       "  2009.98,1047.7 2009.98,1028.8 \n",
       "  \"/>\n",
       "<polyline clip-path=\"url(#clip270)\" style=\"stroke:#000000; stroke-linecap:butt; stroke-linejoin:round; stroke-width:4; stroke-opacity:1; fill:none\" points=\"\n",
       "  2191.69,1047.7 2191.69,1028.8 \n",
       "  \"/>\n",
       "<path clip-path=\"url(#clip270)\" d=\"M1411.4 1093.27 L1441.08 1093.27 L1441.08 1097.21 L1411.4 1097.21 L1411.4 1093.27 Z\" fill=\"#000000\" fill-rule=\"evenodd\" fill-opacity=\"1\" /><path clip-path=\"url(#clip270)\" d=\"M1451.98 1106.16 L1459.62 1106.16 L1459.62 1079.8 L1451.31 1081.47 L1451.31 1077.21 L1459.58 1075.54 L1464.25 1075.54 L1464.25 1106.16 L1471.89 1106.16 L1471.89 1110.1 L1451.98 1110.1 L1451.98 1106.16 Z\" fill=\"#000000\" fill-rule=\"evenodd\" fill-opacity=\"1\" /><path clip-path=\"url(#clip270)\" d=\"M1481.33 1104.22 L1486.22 1104.22 L1486.22 1110.1 L1481.33 1110.1 L1481.33 1104.22 Z\" fill=\"#000000\" fill-rule=\"evenodd\" fill-opacity=\"1\" /><path clip-path=\"url(#clip270)\" d=\"M1506.4 1078.62 Q1502.79 1078.62 1500.96 1082.18 Q1499.16 1085.72 1499.16 1092.85 Q1499.16 1099.96 1500.96 1103.53 Q1502.79 1107.07 1506.4 1107.07 Q1510.04 1107.07 1511.84 1103.53 Q1513.67 1099.96 1513.67 1092.85 Q1513.67 1085.72 1511.84 1082.18 Q1510.04 1078.62 1506.4 1078.62 M1506.4 1074.91 Q1512.21 1074.91 1515.27 1079.52 Q1518.35 1084.1 1518.35 1092.85 Q1518.35 1101.58 1515.27 1106.19 Q1512.21 1110.77 1506.4 1110.77 Q1500.59 1110.77 1497.51 1106.19 Q1494.46 1101.58 1494.46 1092.85 Q1494.46 1084.1 1497.51 1079.52 Q1500.59 1074.91 1506.4 1074.91 Z\" fill=\"#000000\" fill-rule=\"evenodd\" fill-opacity=\"1\" /><path clip-path=\"url(#clip270)\" d=\"M1593.6 1093.27 L1623.28 1093.27 L1623.28 1097.21 L1593.6 1097.21 L1593.6 1093.27 Z\" fill=\"#000000\" fill-rule=\"evenodd\" fill-opacity=\"1\" /><path clip-path=\"url(#clip270)\" d=\"M1643.37 1078.62 Q1639.76 1078.62 1637.93 1082.18 Q1636.13 1085.72 1636.13 1092.85 Q1636.13 1099.96 1637.93 1103.53 Q1639.76 1107.07 1643.37 1107.07 Q1647.01 1107.07 1648.81 1103.53 Q1650.64 1099.96 1650.64 1092.85 Q1650.64 1085.72 1648.81 1082.18 Q1647.01 1078.62 1643.37 1078.62 M1643.37 1074.91 Q1649.18 1074.91 1652.24 1079.52 Q1655.32 1084.1 1655.32 1092.85 Q1655.32 1101.58 1652.24 1106.19 Q1649.18 1110.77 1643.37 1110.77 Q1637.56 1110.77 1634.48 1106.19 Q1631.43 1101.58 1631.43 1092.85 Q1631.43 1084.1 1634.48 1079.52 Q1637.56 1074.91 1643.37 1074.91 Z\" fill=\"#000000\" fill-rule=\"evenodd\" fill-opacity=\"1\" /><path clip-path=\"url(#clip270)\" d=\"M1663.53 1104.22 L1668.42 1104.22 L1668.42 1110.1 L1663.53 1110.1 L1663.53 1104.22 Z\" fill=\"#000000\" fill-rule=\"evenodd\" fill-opacity=\"1\" /><path clip-path=\"url(#clip270)\" d=\"M1678.65 1075.54 L1697.01 1075.54 L1697.01 1079.48 L1682.93 1079.48 L1682.93 1087.95 Q1683.95 1087.6 1684.97 1087.44 Q1685.99 1087.25 1687.01 1087.25 Q1692.79 1087.25 1696.17 1090.42 Q1699.55 1093.6 1699.55 1099.01 Q1699.55 1104.59 1696.08 1107.69 Q1692.61 1110.77 1686.29 1110.77 Q1684.11 1110.77 1681.84 1110.4 Q1679.6 1110.03 1677.19 1109.29 L1677.19 1104.59 Q1679.28 1105.72 1681.5 1106.28 Q1683.72 1106.84 1686.2 1106.84 Q1690.2 1106.84 1692.54 1104.73 Q1694.88 1102.62 1694.88 1099.01 Q1694.88 1095.4 1692.54 1093.29 Q1690.2 1091.19 1686.2 1091.19 Q1684.32 1091.19 1682.45 1091.6 Q1680.59 1092.02 1678.65 1092.9 L1678.65 1075.54 Z\" fill=\"#000000\" fill-rule=\"evenodd\" fill-opacity=\"1\" /><path clip-path=\"url(#clip270)\" d=\"M1805.67 1078.62 Q1802.05 1078.62 1800.23 1082.18 Q1798.42 1085.72 1798.42 1092.85 Q1798.42 1099.96 1800.23 1103.53 Q1802.05 1107.07 1805.67 1107.07 Q1809.3 1107.07 1811.11 1103.53 Q1812.93 1099.96 1812.93 1092.85 Q1812.93 1085.72 1811.11 1082.18 Q1809.3 1078.62 1805.67 1078.62 M1805.67 1074.91 Q1811.48 1074.91 1814.53 1079.52 Q1817.61 1084.1 1817.61 1092.85 Q1817.61 1101.58 1814.53 1106.19 Q1811.48 1110.77 1805.67 1110.77 Q1799.86 1110.77 1796.78 1106.19 Q1793.72 1101.58 1793.72 1092.85 Q1793.72 1084.1 1796.78 1079.52 Q1799.86 1074.91 1805.67 1074.91 Z\" fill=\"#000000\" fill-rule=\"evenodd\" fill-opacity=\"1\" /><path clip-path=\"url(#clip270)\" d=\"M1825.83 1104.22 L1830.71 1104.22 L1830.71 1110.1 L1825.83 1110.1 L1825.83 1104.22 Z\" fill=\"#000000\" fill-rule=\"evenodd\" fill-opacity=\"1\" /><path clip-path=\"url(#clip270)\" d=\"M1850.9 1078.62 Q1847.29 1078.62 1845.46 1082.18 Q1843.65 1085.72 1843.65 1092.85 Q1843.65 1099.96 1845.46 1103.53 Q1847.29 1107.07 1850.9 1107.07 Q1854.53 1107.07 1856.34 1103.53 Q1858.17 1099.96 1858.17 1092.85 Q1858.17 1085.72 1856.34 1082.18 Q1854.53 1078.62 1850.9 1078.62 M1850.9 1074.91 Q1856.71 1074.91 1859.76 1079.52 Q1862.84 1084.1 1862.84 1092.85 Q1862.84 1101.58 1859.76 1106.19 Q1856.71 1110.77 1850.9 1110.77 Q1845.09 1110.77 1842.01 1106.19 Q1838.95 1101.58 1838.95 1092.85 Q1838.95 1084.1 1842.01 1079.52 Q1845.09 1074.91 1850.9 1074.91 Z\" fill=\"#000000\" fill-rule=\"evenodd\" fill-opacity=\"1\" /><path clip-path=\"url(#clip270)\" d=\"M1987.87 1078.62 Q1984.25 1078.62 1982.43 1082.18 Q1980.62 1085.72 1980.62 1092.85 Q1980.62 1099.96 1982.43 1103.53 Q1984.25 1107.07 1987.87 1107.07 Q1991.5 1107.07 1993.31 1103.53 Q1995.13 1099.96 1995.13 1092.85 Q1995.13 1085.72 1993.31 1082.18 Q1991.5 1078.62 1987.87 1078.62 M1987.87 1074.91 Q1993.68 1074.91 1996.73 1079.52 Q1999.81 1084.1 1999.81 1092.85 Q1999.81 1101.58 1996.73 1106.19 Q1993.68 1110.77 1987.87 1110.77 Q1982.06 1110.77 1978.98 1106.19 Q1975.92 1101.58 1975.92 1092.85 Q1975.92 1084.1 1978.98 1079.52 Q1982.06 1074.91 1987.87 1074.91 Z\" fill=\"#000000\" fill-rule=\"evenodd\" fill-opacity=\"1\" /><path clip-path=\"url(#clip270)\" d=\"M2008.03 1104.22 L2012.91 1104.22 L2012.91 1110.1 L2008.03 1110.1 L2008.03 1104.22 Z\" fill=\"#000000\" fill-rule=\"evenodd\" fill-opacity=\"1\" /><path clip-path=\"url(#clip270)\" d=\"M2023.14 1075.54 L2041.5 1075.54 L2041.5 1079.48 L2027.43 1079.48 L2027.43 1087.95 Q2028.44 1087.6 2029.46 1087.44 Q2030.48 1087.25 2031.5 1087.25 Q2037.29 1087.25 2040.67 1090.42 Q2044.05 1093.6 2044.05 1099.01 Q2044.05 1104.59 2040.57 1107.69 Q2037.1 1110.77 2030.78 1110.77 Q2028.61 1110.77 2026.34 1110.4 Q2024.09 1110.03 2021.69 1109.29 L2021.69 1104.59 Q2023.77 1105.72 2025.99 1106.28 Q2028.21 1106.84 2030.69 1106.84 Q2034.69 1106.84 2037.03 1104.73 Q2039.37 1102.62 2039.37 1099.01 Q2039.37 1095.4 2037.03 1093.29 Q2034.69 1091.19 2030.69 1091.19 Q2028.81 1091.19 2026.94 1091.6 Q2025.09 1092.02 2023.14 1092.9 L2023.14 1075.54 Z\" fill=\"#000000\" fill-rule=\"evenodd\" fill-opacity=\"1\" /><path clip-path=\"url(#clip270)\" d=\"M2158.84 1106.16 L2166.48 1106.16 L2166.48 1079.8 L2158.17 1081.47 L2158.17 1077.21 L2166.43 1075.54 L2171.11 1075.54 L2171.11 1106.16 L2178.75 1106.16 L2178.75 1110.1 L2158.84 1110.1 L2158.84 1106.16 Z\" fill=\"#000000\" fill-rule=\"evenodd\" fill-opacity=\"1\" /><path clip-path=\"url(#clip270)\" d=\"M2188.19 1104.22 L2193.08 1104.22 L2193.08 1110.1 L2188.19 1110.1 L2188.19 1104.22 Z\" fill=\"#000000\" fill-rule=\"evenodd\" fill-opacity=\"1\" /><path clip-path=\"url(#clip270)\" d=\"M2213.26 1078.62 Q2209.65 1078.62 2207.82 1082.18 Q2206.02 1085.72 2206.02 1092.85 Q2206.02 1099.96 2207.82 1103.53 Q2209.65 1107.07 2213.26 1107.07 Q2216.89 1107.07 2218.7 1103.53 Q2220.53 1099.96 2220.53 1092.85 Q2220.53 1085.72 2218.7 1082.18 Q2216.89 1078.62 2213.26 1078.62 M2213.26 1074.91 Q2219.07 1074.91 2222.13 1079.52 Q2225.2 1084.1 2225.2 1092.85 Q2225.2 1101.58 2222.13 1106.19 Q2219.07 1110.77 2213.26 1110.77 Q2207.45 1110.77 2204.37 1106.19 Q2201.32 1101.58 2201.32 1092.85 Q2201.32 1084.1 2204.37 1079.52 Q2207.45 1074.91 2213.26 1074.91 Z\" fill=\"#000000\" fill-rule=\"evenodd\" fill-opacity=\"1\" /><path clip-path=\"url(#clip270)\" d=\"M1547.93 1187.22 L1547.93 1206.12 L1542.04 1206.12 L1542.04 1156.92 L1547.93 1156.92 L1547.93 1162.33 Q1549.78 1159.14 1552.58 1157.62 Q1555.41 1156.06 1559.33 1156.06 Q1565.82 1156.06 1569.86 1161.21 Q1573.93 1166.37 1573.93 1174.77 Q1573.93 1183.17 1569.86 1188.33 Q1565.82 1193.49 1559.33 1193.49 Q1555.41 1193.49 1552.58 1191.96 Q1549.78 1190.4 1547.93 1187.22 M1567.86 1174.77 Q1567.86 1168.31 1565.18 1164.65 Q1562.54 1160.96 1557.89 1160.96 Q1553.25 1160.96 1550.57 1164.65 Q1547.93 1168.31 1547.93 1174.77 Q1547.93 1181.23 1550.57 1184.92 Q1553.25 1188.59 1557.89 1188.59 Q1562.54 1188.59 1565.18 1184.92 Q1567.86 1181.23 1567.86 1174.77 Z\" fill=\"#000000\" fill-rule=\"evenodd\" fill-opacity=\"1\" /><path clip-path=\"url(#clip270)\" d=\"M1604.3 1162.39 Q1603.31 1161.82 1602.14 1161.56 Q1600.99 1161.28 1599.59 1161.28 Q1594.62 1161.28 1591.95 1164.52 Q1589.31 1167.74 1589.31 1173.79 L1589.31 1192.56 L1583.42 1192.56 L1583.42 1156.92 L1589.31 1156.92 L1589.31 1162.45 Q1591.15 1159.21 1594.11 1157.65 Q1597.07 1156.06 1601.31 1156.06 Q1601.91 1156.06 1602.64 1156.15 Q1603.38 1156.22 1604.27 1156.37 L1604.3 1162.39 Z\" fill=\"#000000\" fill-rule=\"evenodd\" fill-opacity=\"1\" /><path clip-path=\"url(#clip270)\" d=\"M1639.5 1173.28 L1639.5 1176.14 L1612.57 1176.14 Q1612.96 1182.19 1616.2 1185.37 Q1619.48 1188.52 1625.31 1188.52 Q1628.68 1188.52 1631.83 1187.69 Q1635.01 1186.87 1638.13 1185.21 L1638.13 1190.75 Q1634.98 1192.09 1631.67 1192.79 Q1628.36 1193.49 1624.96 1193.49 Q1616.43 1193.49 1611.43 1188.52 Q1606.46 1183.56 1606.46 1175.09 Q1606.46 1166.34 1611.17 1161.21 Q1615.92 1156.06 1623.94 1156.06 Q1631.13 1156.06 1635.3 1160.7 Q1639.5 1165.32 1639.5 1173.28 M1633.65 1171.56 Q1633.58 1166.75 1630.94 1163.89 Q1628.33 1161.02 1624 1161.02 Q1619.1 1161.02 1616.14 1163.79 Q1613.21 1166.56 1612.77 1171.59 L1633.65 1171.56 Z\" fill=\"#000000\" fill-rule=\"evenodd\" fill-opacity=\"1\" /><path clip-path=\"url(#clip270)\" d=\"M1672.57 1162.33 L1672.57 1143.04 L1678.43 1143.04 L1678.43 1192.56 L1672.57 1192.56 L1672.57 1187.22 Q1670.73 1190.4 1667.89 1191.96 Q1665.09 1193.49 1661.15 1193.49 Q1654.68 1193.49 1650.61 1188.33 Q1646.57 1183.17 1646.57 1174.77 Q1646.57 1166.37 1650.61 1161.21 Q1654.68 1156.06 1661.15 1156.06 Q1665.09 1156.06 1667.89 1157.62 Q1670.73 1159.14 1672.57 1162.33 M1652.62 1174.77 Q1652.62 1181.23 1655.26 1184.92 Q1657.93 1188.59 1662.58 1188.59 Q1667.22 1188.59 1669.9 1184.92 Q1672.57 1181.23 1672.57 1174.77 Q1672.57 1168.31 1669.9 1164.65 Q1667.22 1160.96 1662.58 1160.96 Q1657.93 1160.96 1655.26 1164.65 Q1652.62 1168.31 1652.62 1174.77 Z\" fill=\"#000000\" fill-rule=\"evenodd\" fill-opacity=\"1\" /><path clip-path=\"url(#clip270)\" d=\"M1690.49 1156.92 L1696.35 1156.92 L1696.35 1192.56 L1690.49 1192.56 L1690.49 1156.92 M1690.49 1143.04 L1696.35 1143.04 L1696.35 1150.45 L1690.49 1150.45 L1690.49 1143.04 Z\" fill=\"#000000\" fill-rule=\"evenodd\" fill-opacity=\"1\" /><path clip-path=\"url(#clip270)\" d=\"M1734.26 1158.28 L1734.26 1163.76 Q1731.77 1162.39 1729.26 1161.72 Q1726.78 1161.02 1724.23 1161.02 Q1718.53 1161.02 1715.38 1164.65 Q1712.23 1168.25 1712.23 1174.77 Q1712.23 1181.3 1715.38 1184.92 Q1718.53 1188.52 1724.23 1188.52 Q1726.78 1188.52 1729.26 1187.85 Q1731.77 1187.15 1734.26 1185.78 L1734.26 1191.2 Q1731.8 1192.34 1729.16 1192.91 Q1726.55 1193.49 1723.59 1193.49 Q1715.54 1193.49 1710.8 1188.43 Q1706.06 1183.37 1706.06 1174.77 Q1706.06 1166.05 1710.83 1161.05 Q1715.64 1156.06 1723.97 1156.06 Q1726.68 1156.06 1729.26 1156.63 Q1731.84 1157.17 1734.26 1158.28 Z\" fill=\"#000000\" fill-rule=\"evenodd\" fill-opacity=\"1\" /><path clip-path=\"url(#clip270)\" d=\"M1750.23 1146.79 L1750.23 1156.92 L1762.3 1156.92 L1762.3 1161.47 L1750.23 1161.47 L1750.23 1180.82 Q1750.23 1185.18 1751.41 1186.42 Q1752.62 1187.66 1756.28 1187.66 L1762.3 1187.66 L1762.3 1192.56 L1756.28 1192.56 Q1749.5 1192.56 1746.92 1190.05 Q1744.34 1187.5 1744.34 1180.82 L1744.34 1161.47 L1740.05 1161.47 L1740.05 1156.92 L1744.34 1156.92 L1744.34 1146.79 L1750.23 1146.79 Z\" fill=\"#000000\" fill-rule=\"evenodd\" fill-opacity=\"1\" /><path clip-path=\"url(#clip270)\" d=\"M1770 1156.92 L1775.86 1156.92 L1775.86 1192.56 L1770 1192.56 L1770 1156.92 M1770 1143.04 L1775.86 1143.04 L1775.86 1150.45 L1770 1150.45 L1770 1143.04 Z\" fill=\"#000000\" fill-rule=\"evenodd\" fill-opacity=\"1\" /><path clip-path=\"url(#clip270)\" d=\"M1801.92 1161.02 Q1797.21 1161.02 1794.47 1164.71 Q1791.74 1168.37 1791.74 1174.77 Q1791.74 1181.17 1794.44 1184.86 Q1797.18 1188.52 1801.92 1188.52 Q1806.6 1188.52 1809.34 1184.83 Q1812.08 1181.14 1812.08 1174.77 Q1812.08 1168.44 1809.34 1164.75 Q1806.6 1161.02 1801.92 1161.02 M1801.92 1156.06 Q1809.56 1156.06 1813.92 1161.02 Q1818.28 1165.99 1818.28 1174.77 Q1818.28 1183.52 1813.92 1188.52 Q1809.56 1193.49 1801.92 1193.49 Q1794.25 1193.49 1789.89 1188.52 Q1785.56 1183.52 1785.56 1174.77 Q1785.56 1165.99 1789.89 1161.02 Q1794.25 1156.06 1801.92 1156.06 Z\" fill=\"#000000\" fill-rule=\"evenodd\" fill-opacity=\"1\" /><path clip-path=\"url(#clip270)\" d=\"M1857.62 1171.05 L1857.62 1192.56 L1851.77 1192.56 L1851.77 1171.24 Q1851.77 1166.18 1849.79 1163.66 Q1847.82 1161.15 1843.87 1161.15 Q1839.13 1161.15 1836.39 1164.17 Q1833.66 1167.2 1833.66 1172.42 L1833.66 1192.56 L1827.77 1192.56 L1827.77 1156.92 L1833.66 1156.92 L1833.66 1162.45 Q1835.76 1159.24 1838.59 1157.65 Q1841.45 1156.06 1845.18 1156.06 Q1851.32 1156.06 1854.47 1159.88 Q1857.62 1163.66 1857.62 1171.05 Z\" fill=\"#000000\" fill-rule=\"evenodd\" fill-opacity=\"1\" /><path clip-path=\"url(#clip270)\" d=\"M1892.03 1157.97 L1892.03 1163.5 Q1889.55 1162.23 1886.87 1161.59 Q1884.2 1160.96 1881.33 1160.96 Q1876.97 1160.96 1874.78 1162.29 Q1872.61 1163.63 1872.61 1166.31 Q1872.61 1168.34 1874.17 1169.52 Q1875.73 1170.67 1880.44 1171.72 L1882.45 1172.16 Q1888.69 1173.5 1891.3 1175.95 Q1893.94 1178.37 1893.94 1182.73 Q1893.94 1187.69 1889.99 1190.59 Q1886.08 1193.49 1879.2 1193.49 Q1876.34 1193.49 1873.22 1192.91 Q1870.13 1192.37 1866.69 1191.26 L1866.69 1185.21 Q1869.94 1186.9 1873.09 1187.76 Q1876.24 1188.59 1879.33 1188.59 Q1883.47 1188.59 1885.7 1187.18 Q1887.92 1185.75 1887.92 1183.17 Q1887.92 1180.79 1886.3 1179.51 Q1884.71 1178.24 1879.27 1177.06 L1877.23 1176.59 Q1871.79 1175.44 1869.37 1173.08 Q1866.95 1170.7 1866.95 1166.56 Q1866.95 1161.53 1870.51 1158.79 Q1874.08 1156.06 1880.63 1156.06 Q1883.88 1156.06 1886.75 1156.53 Q1889.61 1157.01 1892.03 1157.97 Z\" fill=\"#000000\" fill-rule=\"evenodd\" fill-opacity=\"1\" /><path clip-path=\"url(#clip270)\" d=\"M1929.78 1146.79 L1929.78 1156.92 L1941.84 1156.92 L1941.84 1161.47 L1929.78 1161.47 L1929.78 1180.82 Q1929.78 1185.18 1930.96 1186.42 Q1932.17 1187.66 1935.83 1187.66 L1941.84 1187.66 L1941.84 1192.56 L1935.83 1192.56 Q1929.05 1192.56 1926.47 1190.05 Q1923.89 1187.5 1923.89 1180.82 L1923.89 1161.47 L1919.59 1161.47 L1919.59 1156.92 L1923.89 1156.92 L1923.89 1146.79 L1929.78 1146.79 Z\" fill=\"#000000\" fill-rule=\"evenodd\" fill-opacity=\"1\" /><path clip-path=\"url(#clip270)\" d=\"M1980.04 1173.28 L1980.04 1176.14 L1953.11 1176.14 Q1953.49 1182.19 1956.74 1185.37 Q1960.02 1188.52 1965.84 1188.52 Q1969.21 1188.52 1972.36 1187.69 Q1975.55 1186.87 1978.67 1185.21 L1978.67 1190.75 Q1975.52 1192.09 1972.21 1192.79 Q1968.9 1193.49 1965.49 1193.49 Q1956.96 1193.49 1951.96 1188.52 Q1947 1183.56 1947 1175.09 Q1947 1166.34 1951.71 1161.21 Q1956.45 1156.06 1964.47 1156.06 Q1971.66 1156.06 1975.83 1160.7 Q1980.04 1165.32 1980.04 1173.28 M1974.18 1171.56 Q1974.12 1166.75 1971.47 1163.89 Q1968.86 1161.02 1964.53 1161.02 Q1959.63 1161.02 1956.67 1163.79 Q1953.74 1166.56 1953.3 1171.59 L1974.18 1171.56 Z\" fill=\"#000000\" fill-rule=\"evenodd\" fill-opacity=\"1\" /><path clip-path=\"url(#clip270)\" d=\"M2012.37 1157.97 L2012.37 1163.5 Q2009.89 1162.23 2007.22 1161.59 Q2004.54 1160.96 2001.68 1160.96 Q1997.32 1160.96 1995.12 1162.29 Q1992.96 1163.63 1992.96 1166.31 Q1992.96 1168.34 1994.52 1169.52 Q1996.08 1170.67 2000.79 1171.72 L2002.79 1172.16 Q2009.03 1173.5 2011.64 1175.95 Q2014.28 1178.37 2014.28 1182.73 Q2014.28 1187.69 2010.34 1190.59 Q2006.42 1193.49 1999.55 1193.49 Q1996.68 1193.49 1993.56 1192.91 Q1990.47 1192.37 1987.04 1191.26 L1987.04 1185.21 Q1990.28 1186.9 1993.44 1187.76 Q1996.59 1188.59 1999.67 1188.59 Q2003.81 1188.59 2006.04 1187.18 Q2008.27 1185.75 2008.27 1183.17 Q2008.27 1180.79 2006.64 1179.51 Q2005.05 1178.24 1999.61 1177.06 L1997.57 1176.59 Q1992.13 1175.44 1989.71 1173.08 Q1987.29 1170.7 1987.29 1166.56 Q1987.29 1161.53 1990.86 1158.79 Q1994.42 1156.06 2000.98 1156.06 Q2004.22 1156.06 2007.09 1156.53 Q2009.95 1157.01 2012.37 1157.97 Z\" fill=\"#000000\" fill-rule=\"evenodd\" fill-opacity=\"1\" /><path clip-path=\"url(#clip270)\" d=\"M2029.4 1146.79 L2029.4 1156.92 L2041.46 1156.92 L2041.46 1161.47 L2029.4 1161.47 L2029.4 1180.82 Q2029.4 1185.18 2030.58 1186.42 Q2031.79 1187.66 2035.45 1187.66 L2041.46 1187.66 L2041.46 1192.56 L2035.45 1192.56 Q2028.67 1192.56 2026.09 1190.05 Q2023.51 1187.5 2023.51 1180.82 L2023.51 1161.47 L2019.22 1161.47 L2019.22 1156.92 L2023.51 1156.92 L2023.51 1146.79 L2029.4 1146.79 Z\" fill=\"#000000\" fill-rule=\"evenodd\" fill-opacity=\"1\" /><path clip-path=\"url(#clip270)\" d=\"M2093.34 1162.33 L2093.34 1143.04 L2099.2 1143.04 L2099.2 1192.56 L2093.34 1192.56 L2093.34 1187.22 Q2091.5 1190.4 2088.67 1191.96 Q2085.87 1193.49 2081.92 1193.49 Q2075.46 1193.49 2071.38 1188.33 Q2067.34 1183.17 2067.34 1174.77 Q2067.34 1166.37 2071.38 1161.21 Q2075.46 1156.06 2081.92 1156.06 Q2085.87 1156.06 2088.67 1157.62 Q2091.5 1159.14 2093.34 1162.33 M2073.39 1174.77 Q2073.39 1181.23 2076.03 1184.92 Q2078.7 1188.59 2083.35 1188.59 Q2088 1188.59 2090.67 1184.92 Q2093.34 1181.23 2093.34 1174.77 Q2093.34 1168.31 2090.67 1164.65 Q2088 1160.96 2083.35 1160.96 Q2078.7 1160.96 2076.03 1164.65 Q2073.39 1168.31 2073.39 1174.77 Z\" fill=\"#000000\" fill-rule=\"evenodd\" fill-opacity=\"1\" /><path clip-path=\"url(#clip270)\" d=\"M2127.46 1174.64 Q2120.37 1174.64 2117.63 1176.27 Q2114.89 1177.89 2114.89 1181.81 Q2114.89 1184.92 2116.93 1186.77 Q2119 1188.59 2122.53 1188.59 Q2127.4 1188.59 2130.33 1185.15 Q2133.29 1181.68 2133.29 1175.95 L2133.29 1174.64 L2127.46 1174.64 M2139.15 1172.23 L2139.15 1192.56 L2133.29 1192.56 L2133.29 1187.15 Q2131.28 1190.4 2128.29 1191.96 Q2125.3 1193.49 2120.97 1193.49 Q2115.5 1193.49 2112.25 1190.43 Q2109.04 1187.34 2109.04 1182.19 Q2109.04 1176.17 2113.05 1173.12 Q2117.09 1170.06 2125.08 1170.06 L2133.29 1170.06 L2133.29 1169.49 Q2133.29 1165.45 2130.62 1163.25 Q2127.97 1161.02 2123.17 1161.02 Q2120.11 1161.02 2117.22 1161.75 Q2114.32 1162.49 2111.65 1163.95 L2111.65 1158.54 Q2114.86 1157.3 2117.88 1156.69 Q2120.91 1156.06 2123.77 1156.06 Q2131.51 1156.06 2135.33 1160.07 Q2139.15 1164.08 2139.15 1172.23 Z\" fill=\"#000000\" fill-rule=\"evenodd\" fill-opacity=\"1\" /><path clip-path=\"url(#clip270)\" d=\"M2157 1146.79 L2157 1156.92 L2169.06 1156.92 L2169.06 1161.47 L2157 1161.47 L2157 1180.82 Q2157 1185.18 2158.18 1186.42 Q2159.39 1187.66 2163.05 1187.66 L2169.06 1187.66 L2169.06 1192.56 L2163.05 1192.56 Q2156.27 1192.56 2153.69 1190.05 Q2151.11 1187.5 2151.11 1180.82 L2151.11 1161.47 L2146.82 1161.47 L2146.82 1156.92 L2151.11 1156.92 L2151.11 1146.79 L2157 1146.79 Z\" fill=\"#000000\" fill-rule=\"evenodd\" fill-opacity=\"1\" /><path clip-path=\"url(#clip270)\" d=\"M2192.97 1174.64 Q2185.87 1174.64 2183.13 1176.27 Q2180.4 1177.89 2180.4 1181.81 Q2180.4 1184.92 2182.43 1186.77 Q2184.5 1188.59 2188.03 1188.59 Q2192.9 1188.59 2195.83 1185.15 Q2198.79 1181.68 2198.79 1175.95 L2198.79 1174.64 L2192.97 1174.64 M2204.65 1172.23 L2204.65 1192.56 L2198.79 1192.56 L2198.79 1187.15 Q2196.79 1190.4 2193.8 1191.96 Q2190.8 1193.49 2186.48 1193.49 Q2181 1193.49 2177.75 1190.43 Q2174.54 1187.34 2174.54 1182.19 Q2174.54 1176.17 2178.55 1173.12 Q2182.59 1170.06 2190.58 1170.06 L2198.79 1170.06 L2198.79 1169.49 Q2198.79 1165.45 2196.12 1163.25 Q2193.48 1161.02 2188.67 1161.02 Q2185.62 1161.02 2182.72 1161.75 Q2179.82 1162.49 2177.15 1163.95 L2177.15 1158.54 Q2180.36 1157.3 2183.39 1156.69 Q2186.41 1156.06 2189.28 1156.06 Q2197.01 1156.06 2200.83 1160.07 Q2204.65 1164.08 2204.65 1172.23 Z\" fill=\"#000000\" fill-rule=\"evenodd\" fill-opacity=\"1\" /><polyline clip-path=\"url(#clip273)\" style=\"stroke:#000000; stroke-linecap:butt; stroke-linejoin:round; stroke-width:2; stroke-opacity:0.1; fill:none\" points=\"\n",
       "  1393.94,1020.07 2352.76,1020.07 \n",
       "  \"/>\n",
       "<polyline clip-path=\"url(#clip273)\" style=\"stroke:#000000; stroke-linecap:butt; stroke-linejoin:round; stroke-width:2; stroke-opacity:0.1; fill:none\" points=\"\n",
       "  1393.94,808.448 2352.76,808.448 \n",
       "  \"/>\n",
       "<polyline clip-path=\"url(#clip273)\" style=\"stroke:#000000; stroke-linecap:butt; stroke-linejoin:round; stroke-width:2; stroke-opacity:0.1; fill:none\" points=\"\n",
       "  1393.94,596.829 2352.76,596.829 \n",
       "  \"/>\n",
       "<polyline clip-path=\"url(#clip273)\" style=\"stroke:#000000; stroke-linecap:butt; stroke-linejoin:round; stroke-width:2; stroke-opacity:0.1; fill:none\" points=\"\n",
       "  1393.94,385.21 2352.76,385.21 \n",
       "  \"/>\n",
       "<polyline clip-path=\"url(#clip273)\" style=\"stroke:#000000; stroke-linecap:butt; stroke-linejoin:round; stroke-width:2; stroke-opacity:0.1; fill:none\" points=\"\n",
       "  1393.94,173.591 2352.76,173.591 \n",
       "  \"/>\n",
       "<polyline clip-path=\"url(#clip270)\" style=\"stroke:#000000; stroke-linecap:butt; stroke-linejoin:round; stroke-width:4; stroke-opacity:1; fill:none\" points=\"\n",
       "  1393.94,1047.7 1393.94,47.2441 \n",
       "  \"/>\n",
       "<polyline clip-path=\"url(#clip270)\" style=\"stroke:#000000; stroke-linecap:butt; stroke-linejoin:round; stroke-width:4; stroke-opacity:1; fill:none\" points=\"\n",
       "  1393.94,1020.07 1412.83,1020.07 \n",
       "  \"/>\n",
       "<polyline clip-path=\"url(#clip270)\" style=\"stroke:#000000; stroke-linecap:butt; stroke-linejoin:round; stroke-width:4; stroke-opacity:1; fill:none\" points=\"\n",
       "  1393.94,808.448 1412.83,808.448 \n",
       "  \"/>\n",
       "<polyline clip-path=\"url(#clip270)\" style=\"stroke:#000000; stroke-linecap:butt; stroke-linejoin:round; stroke-width:4; stroke-opacity:1; fill:none\" points=\"\n",
       "  1393.94,596.829 1412.83,596.829 \n",
       "  \"/>\n",
       "<polyline clip-path=\"url(#clip270)\" style=\"stroke:#000000; stroke-linecap:butt; stroke-linejoin:round; stroke-width:4; stroke-opacity:1; fill:none\" points=\"\n",
       "  1393.94,385.21 1412.83,385.21 \n",
       "  \"/>\n",
       "<polyline clip-path=\"url(#clip270)\" style=\"stroke:#000000; stroke-linecap:butt; stroke-linejoin:round; stroke-width:4; stroke-opacity:1; fill:none\" points=\"\n",
       "  1393.94,173.591 1412.83,173.591 \n",
       "  \"/>\n",
       "<path clip-path=\"url(#clip270)\" d=\"M1250.99 1020.52 L1280.67 1020.52 L1280.67 1024.45 L1250.99 1024.45 L1250.99 1020.52 Z\" fill=\"#000000\" fill-rule=\"evenodd\" fill-opacity=\"1\" /><path clip-path=\"url(#clip270)\" d=\"M1291.57 1033.41 L1299.21 1033.41 L1299.21 1007.05 L1290.9 1008.71 L1290.9 1004.45 L1299.16 1002.79 L1303.84 1002.79 L1303.84 1033.41 L1311.48 1033.41 L1311.48 1037.35 L1291.57 1037.35 L1291.57 1033.41 Z\" fill=\"#000000\" fill-rule=\"evenodd\" fill-opacity=\"1\" /><path clip-path=\"url(#clip270)\" d=\"M1320.92 1031.47 L1325.81 1031.47 L1325.81 1037.35 L1320.92 1037.35 L1320.92 1031.47 Z\" fill=\"#000000\" fill-rule=\"evenodd\" fill-opacity=\"1\" /><path clip-path=\"url(#clip270)\" d=\"M1345.99 1005.87 Q1342.38 1005.87 1340.55 1009.43 Q1338.75 1012.97 1338.75 1020.1 Q1338.75 1027.21 1340.55 1030.77 Q1342.38 1034.31 1345.99 1034.31 Q1349.63 1034.31 1351.43 1030.77 Q1353.26 1027.21 1353.26 1020.1 Q1353.26 1012.97 1351.43 1009.43 Q1349.63 1005.87 1345.99 1005.87 M1345.99 1002.16 Q1351.8 1002.16 1354.86 1006.77 Q1357.94 1011.35 1357.94 1020.1 Q1357.94 1028.83 1354.86 1033.44 Q1351.8 1038.02 1345.99 1038.02 Q1340.18 1038.02 1337.1 1033.44 Q1334.05 1028.83 1334.05 1020.1 Q1334.05 1011.35 1337.1 1006.77 Q1340.18 1002.16 1345.99 1002.16 Z\" fill=\"#000000\" fill-rule=\"evenodd\" fill-opacity=\"1\" /><path clip-path=\"url(#clip270)\" d=\"M1251.99 808.9 L1281.66 808.9 L1281.66 812.835 L1251.99 812.835 L1251.99 808.9 Z\" fill=\"#000000\" fill-rule=\"evenodd\" fill-opacity=\"1\" /><path clip-path=\"url(#clip270)\" d=\"M1301.76 794.247 Q1298.14 794.247 1296.32 797.812 Q1294.51 801.353 1294.51 808.483 Q1294.51 815.589 1296.32 819.154 Q1298.14 822.696 1301.76 822.696 Q1305.39 822.696 1307.2 819.154 Q1309.02 815.589 1309.02 808.483 Q1309.02 801.353 1307.2 797.812 Q1305.39 794.247 1301.76 794.247 M1301.76 790.543 Q1307.57 790.543 1310.62 795.15 Q1313.7 799.733 1313.7 808.483 Q1313.7 817.21 1310.62 821.816 Q1307.57 826.4 1301.76 826.4 Q1295.95 826.4 1292.87 821.816 Q1289.81 817.21 1289.81 808.483 Q1289.81 799.733 1292.87 795.15 Q1295.95 790.543 1301.76 790.543 Z\" fill=\"#000000\" fill-rule=\"evenodd\" fill-opacity=\"1\" /><path clip-path=\"url(#clip270)\" d=\"M1321.92 819.849 L1326.8 819.849 L1326.8 825.728 L1321.92 825.728 L1321.92 819.849 Z\" fill=\"#000000\" fill-rule=\"evenodd\" fill-opacity=\"1\" /><path clip-path=\"url(#clip270)\" d=\"M1337.03 791.168 L1355.39 791.168 L1355.39 795.103 L1341.32 795.103 L1341.32 803.576 Q1342.33 803.228 1343.35 803.066 Q1344.37 802.881 1345.39 802.881 Q1351.18 802.881 1354.56 806.052 Q1357.94 809.224 1357.94 814.64 Q1357.94 820.219 1354.46 823.321 Q1350.99 826.4 1344.67 826.4 Q1342.5 826.4 1340.23 826.029 Q1337.98 825.659 1335.58 824.918 L1335.58 820.219 Q1337.66 821.353 1339.88 821.909 Q1342.1 822.464 1344.58 822.464 Q1348.58 822.464 1350.92 820.358 Q1353.26 818.251 1353.26 814.64 Q1353.26 811.029 1350.92 808.923 Q1348.58 806.816 1344.58 806.816 Q1342.7 806.816 1340.83 807.233 Q1338.98 807.65 1337.03 808.529 L1337.03 791.168 Z\" fill=\"#000000\" fill-rule=\"evenodd\" fill-opacity=\"1\" /><path clip-path=\"url(#clip270)\" d=\"M1300.76 582.628 Q1297.15 582.628 1295.32 586.193 Q1293.52 589.734 1293.52 596.864 Q1293.52 603.97 1295.32 607.535 Q1297.15 611.077 1300.76 611.077 Q1304.39 611.077 1306.2 607.535 Q1308.03 603.97 1308.03 596.864 Q1308.03 589.734 1306.2 586.193 Q1304.39 582.628 1300.76 582.628 M1300.76 578.924 Q1306.57 578.924 1309.63 583.531 Q1312.7 588.114 1312.7 596.864 Q1312.7 605.591 1309.63 610.197 Q1306.57 614.781 1300.76 614.781 Q1294.95 614.781 1291.87 610.197 Q1288.82 605.591 1288.82 596.864 Q1288.82 588.114 1291.87 583.531 Q1294.95 578.924 1300.76 578.924 Z\" fill=\"#000000\" fill-rule=\"evenodd\" fill-opacity=\"1\" /><path clip-path=\"url(#clip270)\" d=\"M1320.92 608.23 L1325.81 608.23 L1325.81 614.109 L1320.92 614.109 L1320.92 608.23 Z\" fill=\"#000000\" fill-rule=\"evenodd\" fill-opacity=\"1\" /><path clip-path=\"url(#clip270)\" d=\"M1345.99 582.628 Q1342.38 582.628 1340.55 586.193 Q1338.75 589.734 1338.75 596.864 Q1338.75 603.97 1340.55 607.535 Q1342.38 611.077 1345.99 611.077 Q1349.63 611.077 1351.43 607.535 Q1353.26 603.97 1353.26 596.864 Q1353.26 589.734 1351.43 586.193 Q1349.63 582.628 1345.99 582.628 M1345.99 578.924 Q1351.8 578.924 1354.86 583.531 Q1357.94 588.114 1357.94 596.864 Q1357.94 605.591 1354.86 610.197 Q1351.8 614.781 1345.99 614.781 Q1340.18 614.781 1337.1 610.197 Q1334.05 605.591 1334.05 596.864 Q1334.05 588.114 1337.1 583.531 Q1340.18 578.924 1345.99 578.924 Z\" fill=\"#000000\" fill-rule=\"evenodd\" fill-opacity=\"1\" /><path clip-path=\"url(#clip270)\" d=\"M1301.76 371.009 Q1298.14 371.009 1296.32 374.574 Q1294.51 378.115 1294.51 385.245 Q1294.51 392.352 1296.32 395.916 Q1298.14 399.458 1301.76 399.458 Q1305.39 399.458 1307.2 395.916 Q1309.02 392.352 1309.02 385.245 Q1309.02 378.115 1307.2 374.574 Q1305.39 371.009 1301.76 371.009 M1301.76 367.305 Q1307.57 367.305 1310.62 371.912 Q1313.7 376.495 1313.7 385.245 Q1313.7 393.972 1310.62 398.578 Q1307.57 403.162 1301.76 403.162 Q1295.95 403.162 1292.87 398.578 Q1289.81 393.972 1289.81 385.245 Q1289.81 376.495 1292.87 371.912 Q1295.95 367.305 1301.76 367.305 Z\" fill=\"#000000\" fill-rule=\"evenodd\" fill-opacity=\"1\" /><path clip-path=\"url(#clip270)\" d=\"M1321.92 396.611 L1326.8 396.611 L1326.8 402.49 L1321.92 402.49 L1321.92 396.611 Z\" fill=\"#000000\" fill-rule=\"evenodd\" fill-opacity=\"1\" /><path clip-path=\"url(#clip270)\" d=\"M1337.03 367.93 L1355.39 367.93 L1355.39 371.866 L1341.32 371.866 L1341.32 380.338 Q1342.33 379.99 1343.35 379.828 Q1344.37 379.643 1345.39 379.643 Q1351.18 379.643 1354.56 382.815 Q1357.94 385.986 1357.94 391.402 Q1357.94 396.981 1354.46 400.083 Q1350.99 403.162 1344.67 403.162 Q1342.5 403.162 1340.23 402.791 Q1337.98 402.421 1335.58 401.68 L1335.58 396.981 Q1337.66 398.115 1339.88 398.671 Q1342.1 399.226 1344.58 399.226 Q1348.58 399.226 1350.92 397.12 Q1353.26 395.014 1353.26 391.402 Q1353.26 387.791 1350.92 385.685 Q1348.58 383.578 1344.58 383.578 Q1342.7 383.578 1340.83 383.995 Q1338.98 384.412 1337.03 385.291 L1337.03 367.93 Z\" fill=\"#000000\" fill-rule=\"evenodd\" fill-opacity=\"1\" /><path clip-path=\"url(#clip270)\" d=\"M1291.57 186.936 L1299.21 186.936 L1299.21 160.571 L1290.9 162.237 L1290.9 157.978 L1299.16 156.311 L1303.84 156.311 L1303.84 186.936 L1311.48 186.936 L1311.48 190.871 L1291.57 190.871 L1291.57 186.936 Z\" fill=\"#000000\" fill-rule=\"evenodd\" fill-opacity=\"1\" /><path clip-path=\"url(#clip270)\" d=\"M1320.92 184.992 L1325.81 184.992 L1325.81 190.871 L1320.92 190.871 L1320.92 184.992 Z\" fill=\"#000000\" fill-rule=\"evenodd\" fill-opacity=\"1\" /><path clip-path=\"url(#clip270)\" d=\"M1345.99 159.39 Q1342.38 159.39 1340.55 162.955 Q1338.75 166.497 1338.75 173.626 Q1338.75 180.733 1340.55 184.297 Q1342.38 187.839 1345.99 187.839 Q1349.63 187.839 1351.43 184.297 Q1353.26 180.733 1353.26 173.626 Q1353.26 166.497 1351.43 162.955 Q1349.63 159.39 1345.99 159.39 M1345.99 155.686 Q1351.8 155.686 1354.86 160.293 Q1357.94 164.876 1357.94 173.626 Q1357.94 182.353 1354.86 186.959 Q1351.8 191.543 1345.99 191.543 Q1340.18 191.543 1337.1 186.959 Q1334.05 182.353 1334.05 173.626 Q1334.05 164.876 1337.1 160.293 Q1340.18 155.686 1345.99 155.686 Z\" fill=\"#000000\" fill-rule=\"evenodd\" fill-opacity=\"1\" /><circle clip-path=\"url(#clip273)\" cx=\"1576.08\" cy=\"548.97\" r=\"19\" fill=\"#cd5c5c\" fill-rule=\"evenodd\" fill-opacity=\"1\" stroke=\"#000000\" stroke-opacity=\"1\" stroke-width=\"2.4\"/>\n",
       "<circle clip-path=\"url(#clip273)\" cx=\"1628.8\" cy=\"458.174\" r=\"20\" fill=\"#cd5c5c\" fill-rule=\"evenodd\" fill-opacity=\"1\" stroke=\"#000000\" stroke-opacity=\"1\" stroke-width=\"2.4\"/>\n",
       "<circle clip-path=\"url(#clip273)\" cx=\"1765.61\" cy=\"346.046\" r=\"20\" fill=\"#cd5c5c\" fill-rule=\"evenodd\" fill-opacity=\"1\" stroke=\"#000000\" stroke-opacity=\"1\" stroke-width=\"2.4\"/>\n",
       "<circle clip-path=\"url(#clip273)\" cx=\"1671.17\" cy=\"570.95\" r=\"19\" fill=\"#cd5c5c\" fill-rule=\"evenodd\" fill-opacity=\"1\" stroke=\"#000000\" stroke-opacity=\"1\" stroke-width=\"2.4\"/>\n",
       "<circle clip-path=\"url(#clip273)\" cx=\"1894.97\" cy=\"729.613\" r=\"10\" fill=\"#cd5c5c\" fill-rule=\"evenodd\" fill-opacity=\"1\" stroke=\"#000000\" stroke-opacity=\"1\" stroke-width=\"2.4\"/>\n",
       "<circle clip-path=\"url(#clip273)\" cx=\"1557.07\" cy=\"246.644\" r=\"20\" fill=\"#cd5c5c\" fill-rule=\"evenodd\" fill-opacity=\"1\" stroke=\"#000000\" stroke-opacity=\"1\" stroke-width=\"2.4\"/>\n",
       "<circle clip-path=\"url(#clip273)\" cx=\"1826.66\" cy=\"321.716\" r=\"16\" fill=\"#cd5c5c\" fill-rule=\"evenodd\" fill-opacity=\"1\" stroke=\"#000000\" stroke-opacity=\"1\" stroke-width=\"2.4\"/>\n",
       "<circle clip-path=\"url(#clip273)\" cx=\"1544.04\" cy=\"794.39\" r=\"17\" fill=\"#cd5c5c\" fill-rule=\"evenodd\" fill-opacity=\"1\" stroke=\"#000000\" stroke-opacity=\"1\" stroke-width=\"2.4\"/>\n",
       "<circle clip-path=\"url(#clip273)\" cx=\"1521.72\" cy=\"542.215\" r=\"18\" fill=\"#cd5c5c\" fill-rule=\"evenodd\" fill-opacity=\"1\" stroke=\"#000000\" stroke-opacity=\"1\" stroke-width=\"2.4\"/>\n",
       "<circle clip-path=\"url(#clip273)\" cx=\"1627.32\" cy=\"543.517\" r=\"18\" fill=\"#cd5c5c\" fill-rule=\"evenodd\" fill-opacity=\"1\" stroke=\"#000000\" stroke-opacity=\"1\" stroke-width=\"2.4\"/>\n",
       "<circle clip-path=\"url(#clip273)\" cx=\"1701.64\" cy=\"391.057\" r=\"19\" fill=\"#cd5c5c\" fill-rule=\"evenodd\" fill-opacity=\"1\" stroke=\"#000000\" stroke-opacity=\"1\" stroke-width=\"2.4\"/>\n",
       "<circle clip-path=\"url(#clip273)\" cx=\"1421.07\" cy=\"518.399\" r=\"19\" fill=\"#cd5c5c\" fill-rule=\"evenodd\" fill-opacity=\"1\" stroke=\"#000000\" stroke-opacity=\"1\" stroke-width=\"2.4\"/>\n",
       "<circle clip-path=\"url(#clip273)\" cx=\"1785.51\" cy=\"445.788\" r=\"17\" fill=\"#cd5c5c\" fill-rule=\"evenodd\" fill-opacity=\"1\" stroke=\"#000000\" stroke-opacity=\"1\" stroke-width=\"2.4\"/>\n",
       "<circle clip-path=\"url(#clip273)\" cx=\"1916.86\" cy=\"802.525\" r=\"13\" fill=\"#cd5c5c\" fill-rule=\"evenodd\" fill-opacity=\"1\" stroke=\"#000000\" stroke-opacity=\"1\" stroke-width=\"2.4\"/>\n",
       "<circle clip-path=\"url(#clip273)\" cx=\"1618.98\" cy=\"252.803\" r=\"20\" fill=\"#cd5c5c\" fill-rule=\"evenodd\" fill-opacity=\"1\" stroke=\"#000000\" stroke-opacity=\"1\" stroke-width=\"2.4\"/>\n",
       "<circle clip-path=\"url(#clip273)\" cx=\"1537.18\" cy=\"292.812\" r=\"20\" fill=\"#cd5c5c\" fill-rule=\"evenodd\" fill-opacity=\"1\" stroke=\"#000000\" stroke-opacity=\"1\" stroke-width=\"2.4\"/>\n",
       "<circle clip-path=\"url(#clip273)\" cx=\"1890.32\" cy=\"439.034\" r=\"17\" fill=\"#cd5c5c\" fill-rule=\"evenodd\" fill-opacity=\"1\" stroke=\"#000000\" stroke-opacity=\"1\" stroke-width=\"2.4\"/>\n",
       "<circle clip-path=\"url(#clip273)\" cx=\"1655.18\" cy=\"605.079\" r=\"19\" fill=\"#cd5c5c\" fill-rule=\"evenodd\" fill-opacity=\"1\" stroke=\"#000000\" stroke-opacity=\"1\" stroke-width=\"2.4\"/>\n",
       "<circle clip-path=\"url(#clip273)\" cx=\"1623.15\" cy=\"556.431\" r=\"19\" fill=\"#cd5c5c\" fill-rule=\"evenodd\" fill-opacity=\"1\" stroke=\"#000000\" stroke-opacity=\"1\" stroke-width=\"2.4\"/>\n",
       "<circle clip-path=\"url(#clip273)\" cx=\"1549.4\" cy=\"588.783\" r=\"17\" fill=\"#cd5c5c\" fill-rule=\"evenodd\" fill-opacity=\"1\" stroke=\"#000000\" stroke-opacity=\"1\" stroke-width=\"2.4\"/>\n",
       "<circle clip-path=\"url(#clip273)\" cx=\"1598.16\" cy=\"534.224\" r=\"19\" fill=\"#cd5c5c\" fill-rule=\"evenodd\" fill-opacity=\"1\" stroke=\"#000000\" stroke-opacity=\"1\" stroke-width=\"2.4\"/>\n",
       "<circle clip-path=\"url(#clip273)\" cx=\"1693.58\" cy=\"405.337\" r=\"20\" fill=\"#cd5c5c\" fill-rule=\"evenodd\" fill-opacity=\"1\" stroke=\"#000000\" stroke-opacity=\"1\" stroke-width=\"2.4\"/>\n",
       "<circle clip-path=\"url(#clip273)\" cx=\"1661.87\" cy=\"610.506\" r=\"12\" fill=\"#cd5c5c\" fill-rule=\"evenodd\" fill-opacity=\"1\" stroke=\"#000000\" stroke-opacity=\"1\" stroke-width=\"2.4\"/>\n",
       "<circle clip-path=\"url(#clip273)\" cx=\"1825.74\" cy=\"384.134\" r=\"18\" fill=\"#cd5c5c\" fill-rule=\"evenodd\" fill-opacity=\"1\" stroke=\"#000000\" stroke-opacity=\"1\" stroke-width=\"2.4\"/>\n",
       "<circle clip-path=\"url(#clip273)\" cx=\"1534.08\" cy=\"75.5589\" r=\"19\" fill=\"#cd5c5c\" fill-rule=\"evenodd\" fill-opacity=\"1\" stroke=\"#000000\" stroke-opacity=\"1\" stroke-width=\"2.4\"/>\n",
       "<circle clip-path=\"url(#clip273)\" cx=\"1703.11\" cy=\"744.254\" r=\"16\" fill=\"#4682b4\" fill-rule=\"evenodd\" fill-opacity=\"1\" stroke=\"#000000\" stroke-opacity=\"1\" stroke-width=\"2.4\"/>\n",
       "<circle clip-path=\"url(#clip273)\" cx=\"2125.86\" cy=\"639.042\" r=\"17\" fill=\"#4682b4\" fill-rule=\"evenodd\" fill-opacity=\"1\" stroke=\"#000000\" stroke-opacity=\"1\" stroke-width=\"2.4\"/>\n",
       "<circle clip-path=\"url(#clip273)\" cx=\"1947.45\" cy=\"716.338\" r=\"15\" fill=\"#4682b4\" fill-rule=\"evenodd\" fill-opacity=\"1\" stroke=\"#000000\" stroke-opacity=\"1\" stroke-width=\"2.4\"/>\n",
       "<circle clip-path=\"url(#clip273)\" cx=\"2020.1\" cy=\"747.535\" r=\"16\" fill=\"#4682b4\" fill-rule=\"evenodd\" fill-opacity=\"1\" stroke=\"#000000\" stroke-opacity=\"1\" stroke-width=\"2.4\"/>\n",
       "<circle clip-path=\"url(#clip273)\" cx=\"2156.13\" cy=\"1019.39\" r=\"12\" fill=\"#4682b4\" fill-rule=\"evenodd\" fill-opacity=\"1\" stroke=\"#000000\" stroke-opacity=\"1\" stroke-width=\"2.4\"/>\n",
       "<circle clip-path=\"url(#clip273)\" cx=\"2014.64\" cy=\"703.753\" r=\"15\" fill=\"#4682b4\" fill-rule=\"evenodd\" fill-opacity=\"1\" stroke=\"#000000\" stroke-opacity=\"1\" stroke-width=\"2.4\"/>\n",
       "<circle clip-path=\"url(#clip273)\" cx=\"2093.52\" cy=\"858.585\" r=\"15\" fill=\"#4682b4\" fill-rule=\"evenodd\" fill-opacity=\"1\" stroke=\"#000000\" stroke-opacity=\"1\" stroke-width=\"2.4\"/>\n",
       "<circle clip-path=\"url(#clip273)\" cx=\"1866.55\" cy=\"729.725\" r=\"15\" fill=\"#4682b4\" fill-rule=\"evenodd\" fill-opacity=\"1\" stroke=\"#000000\" stroke-opacity=\"1\" stroke-width=\"2.4\"/>\n",
       "<circle clip-path=\"url(#clip273)\" cx=\"1872.06\" cy=\"631.206\" r=\"11\" fill=\"#4682b4\" fill-rule=\"evenodd\" fill-opacity=\"1\" stroke=\"#000000\" stroke-opacity=\"1\" stroke-width=\"2.4\"/>\n",
       "<circle clip-path=\"url(#clip273)\" cx=\"1982.05\" cy=\"727.348\" r=\"15\" fill=\"#4682b4\" fill-rule=\"evenodd\" fill-opacity=\"1\" stroke=\"#000000\" stroke-opacity=\"1\" stroke-width=\"2.4\"/>\n",
       "<circle clip-path=\"url(#clip273)\" cx=\"1996.47\" cy=\"712.723\" r=\"14\" fill=\"#4682b4\" fill-rule=\"evenodd\" fill-opacity=\"1\" stroke=\"#000000\" stroke-opacity=\"1\" stroke-width=\"2.4\"/>\n",
       "<circle clip-path=\"url(#clip273)\" cx=\"1935.1\" cy=\"660.206\" r=\"14\" fill=\"#4682b4\" fill-rule=\"evenodd\" fill-opacity=\"1\" stroke=\"#000000\" stroke-opacity=\"1\" stroke-width=\"2.4\"/>\n",
       "<circle clip-path=\"url(#clip273)\" cx=\"2054.71\" cy=\"669.27\" r=\"17\" fill=\"#4682b4\" fill-rule=\"evenodd\" fill-opacity=\"1\" stroke=\"#000000\" stroke-opacity=\"1\" stroke-width=\"2.4\"/>\n",
       "<circle clip-path=\"url(#clip273)\" cx=\"1741.08\" cy=\"569.382\" r=\"15\" fill=\"#4682b4\" fill-rule=\"evenodd\" fill-opacity=\"1\" stroke=\"#000000\" stroke-opacity=\"1\" stroke-width=\"2.4\"/>\n",
       "<circle clip-path=\"url(#clip273)\" cx=\"1916.32\" cy=\"762.549\" r=\"14\" fill=\"#4682b4\" fill-rule=\"evenodd\" fill-opacity=\"1\" stroke=\"#000000\" stroke-opacity=\"1\" stroke-width=\"2.4\"/>\n",
       "<circle clip-path=\"url(#clip273)\" cx=\"2074.85\" cy=\"690.603\" r=\"16\" fill=\"#4682b4\" fill-rule=\"evenodd\" fill-opacity=\"1\" stroke=\"#000000\" stroke-opacity=\"1\" stroke-width=\"2.4\"/>\n",
       "<circle clip-path=\"url(#clip273)\" cx=\"1806\" cy=\"598.837\" r=\"14\" fill=\"#4682b4\" fill-rule=\"evenodd\" fill-opacity=\"1\" stroke=\"#000000\" stroke-opacity=\"1\" stroke-width=\"2.4\"/>\n",
       "<circle clip-path=\"url(#clip273)\" cx=\"1986.62\" cy=\"600.357\" r=\"15\" fill=\"#4682b4\" fill-rule=\"evenodd\" fill-opacity=\"1\" stroke=\"#000000\" stroke-opacity=\"1\" stroke-width=\"2.4\"/>\n",
       "<circle clip-path=\"url(#clip273)\" cx=\"1912.69\" cy=\"583.787\" r=\"17\" fill=\"#4682b4\" fill-rule=\"evenodd\" fill-opacity=\"1\" stroke=\"#000000\" stroke-opacity=\"1\" stroke-width=\"2.4\"/>\n",
       "<circle clip-path=\"url(#clip273)\" cx=\"1961.72\" cy=\"627.014\" r=\"16\" fill=\"#4682b4\" fill-rule=\"evenodd\" fill-opacity=\"1\" stroke=\"#000000\" stroke-opacity=\"1\" stroke-width=\"2.4\"/>\n",
       "<circle clip-path=\"url(#clip273)\" cx=\"2120.04\" cy=\"661.127\" r=\"16\" fill=\"#4682b4\" fill-rule=\"evenodd\" fill-opacity=\"1\" stroke=\"#000000\" stroke-opacity=\"1\" stroke-width=\"2.4\"/>\n",
       "<circle clip-path=\"url(#clip273)\" cx=\"2325.62\" cy=\"951.009\" r=\"17\" fill=\"#4682b4\" fill-rule=\"evenodd\" fill-opacity=\"1\" stroke=\"#000000\" stroke-opacity=\"1\" stroke-width=\"2.4\"/>\n",
       "<circle clip-path=\"url(#clip273)\" cx=\"2010.01\" cy=\"557.177\" r=\"16\" fill=\"#4682b4\" fill-rule=\"evenodd\" fill-opacity=\"1\" stroke=\"#000000\" stroke-opacity=\"1\" stroke-width=\"2.4\"/>\n",
       "<circle clip-path=\"url(#clip273)\" cx=\"2077.93\" cy=\"761.787\" r=\"16\" fill=\"#4682b4\" fill-rule=\"evenodd\" fill-opacity=\"1\" stroke=\"#000000\" stroke-opacity=\"1\" stroke-width=\"2.4\"/>\n",
       "<circle clip-path=\"url(#clip273)\" cx=\"2087.28\" cy=\"913.759\" r=\"16\" fill=\"#4682b4\" fill-rule=\"evenodd\" fill-opacity=\"1\" stroke=\"#000000\" stroke-opacity=\"1\" stroke-width=\"2.4\"/>\n",
       "<path clip-path=\"url(#clip270)\" d=\"\n",
       "M2060.33 236.113 L2320.8 236.113 L2320.8 80.5926 L2060.33 80.5926  Z\n",
       "  \" fill=\"#ffffff\" fill-rule=\"evenodd\" fill-opacity=\"1\"/>\n",
       "<polyline clip-path=\"url(#clip270)\" style=\"stroke:#000000; stroke-linecap:butt; stroke-linejoin:round; stroke-width:4; stroke-opacity:1; fill:none\" points=\"\n",
       "  2060.33,236.113 2320.8,236.113 2320.8,80.5926 2060.33,80.5926 2060.33,236.113 \n",
       "  \"/>\n",
       "<circle clip-path=\"url(#clip270)\" cx=\"2102.94\" cy=\"132.433\" r=\"23\" fill=\"#cd5c5c\" fill-rule=\"evenodd\" fill-opacity=\"1\" stroke=\"#000000\" stroke-opacity=\"1\" stroke-width=\"2.88199\"/>\n",
       "<path clip-path=\"url(#clip270)\" d=\"M2173.42 117.815 L2173.42 122.745 Q2171.06 120.546 2168.38 119.458 Q2165.72 118.37 2162.71 118.37 Q2156.78 118.37 2153.63 122.004 Q2150.48 125.616 2150.48 132.467 Q2150.48 139.296 2153.63 142.93 Q2156.78 146.541 2162.71 146.541 Q2165.72 146.541 2168.38 145.453 Q2171.06 144.365 2173.42 142.166 L2173.42 147.051 Q2170.97 148.717 2168.22 149.551 Q2165.48 150.384 2162.43 150.384 Q2154.58 150.384 2150.07 145.592 Q2145.55 140.777 2145.55 132.467 Q2145.55 124.134 2150.07 119.342 Q2154.58 114.528 2162.43 114.528 Q2165.53 114.528 2168.26 115.361 Q2171.02 116.171 2173.42 117.815 Z\" fill=\"#000000\" fill-rule=\"evenodd\" fill-opacity=\"1\" /><path clip-path=\"url(#clip270)\" d=\"M2190.51 126.773 Q2187.08 126.773 2185.09 129.458 Q2183.1 132.12 2183.1 136.773 Q2183.1 141.426 2185.07 144.111 Q2187.06 146.773 2190.51 146.773 Q2193.91 146.773 2195.9 144.088 Q2197.89 141.402 2197.89 136.773 Q2197.89 132.166 2195.9 129.481 Q2193.91 126.773 2190.51 126.773 M2190.51 123.162 Q2196.06 123.162 2199.23 126.773 Q2202.41 130.384 2202.41 136.773 Q2202.41 143.139 2199.23 146.773 Q2196.06 150.384 2190.51 150.384 Q2184.93 150.384 2181.76 146.773 Q2178.61 143.139 2178.61 136.773 Q2178.61 130.384 2181.76 126.773 Q2184.93 123.162 2190.51 123.162 Z\" fill=\"#000000\" fill-rule=\"evenodd\" fill-opacity=\"1\" /><path clip-path=\"url(#clip270)\" d=\"M2221.25 136.68 Q2216.09 136.68 2214.1 137.861 Q2212.1 139.041 2212.1 141.889 Q2212.1 144.157 2213.59 145.5 Q2215.09 146.819 2217.66 146.819 Q2221.2 146.819 2223.33 144.319 Q2225.48 141.796 2225.48 137.629 L2225.48 136.68 L2221.25 136.68 M2229.74 134.921 L2229.74 149.713 L2225.48 149.713 L2225.48 145.777 Q2224.03 148.139 2221.85 149.273 Q2219.67 150.384 2216.53 150.384 Q2212.54 150.384 2210.18 148.162 Q2207.85 145.916 2207.85 142.166 Q2207.85 137.791 2210.76 135.569 Q2213.7 133.347 2219.51 133.347 L2225.48 133.347 L2225.48 132.93 Q2225.48 129.991 2223.54 128.393 Q2221.62 126.773 2218.12 126.773 Q2215.9 126.773 2213.79 127.305 Q2211.69 127.838 2209.74 128.903 L2209.74 124.967 Q2212.08 124.065 2214.28 123.625 Q2216.48 123.162 2218.56 123.162 Q2224.19 123.162 2226.97 126.078 Q2229.74 128.995 2229.74 134.921 Z\" fill=\"#000000\" fill-rule=\"evenodd\" fill-opacity=\"1\" /><path clip-path=\"url(#clip270)\" d=\"M2242.73 116.426 L2242.73 123.787 L2251.5 123.787 L2251.5 127.097 L2242.73 127.097 L2242.73 141.171 Q2242.73 144.342 2243.59 145.245 Q2244.47 146.148 2247.13 146.148 L2251.5 146.148 L2251.5 149.713 L2247.13 149.713 Q2242.2 149.713 2240.32 147.884 Q2238.45 146.032 2238.45 141.171 L2238.45 127.097 L2235.32 127.097 L2235.32 123.787 L2238.45 123.787 L2238.45 116.426 L2242.73 116.426 Z\" fill=\"#000000\" fill-rule=\"evenodd\" fill-opacity=\"1\" /><circle clip-path=\"url(#clip270)\" cx=\"2102.94\" cy=\"184.273\" r=\"23\" fill=\"#4682b4\" fill-rule=\"evenodd\" fill-opacity=\"1\" stroke=\"#000000\" stroke-opacity=\"1\" stroke-width=\"3.30436\"/>\n",
       "<path clip-path=\"url(#clip270)\" d=\"M2167.8 168.127 L2167.8 172.687 Q2165.14 171.414 2162.78 170.789 Q2160.41 170.164 2158.22 170.164 Q2154.4 170.164 2152.31 171.645 Q2150.25 173.127 2150.25 175.858 Q2150.25 178.15 2151.62 179.331 Q2153.01 180.488 2156.85 181.206 L2159.67 181.784 Q2164.91 182.78 2167.38 185.303 Q2169.88 187.803 2169.88 192.016 Q2169.88 197.039 2166.5 199.631 Q2163.15 202.224 2156.64 202.224 Q2154.19 202.224 2151.41 201.668 Q2148.66 201.113 2145.69 200.025 L2145.69 195.21 Q2148.54 196.807 2151.27 197.617 Q2154 198.428 2156.64 198.428 Q2160.65 198.428 2162.82 196.854 Q2165 195.28 2165 192.363 Q2165 189.817 2163.42 188.381 Q2161.87 186.946 2158.31 186.229 L2155.46 185.673 Q2150.23 184.631 2147.89 182.409 Q2145.55 180.187 2145.55 176.229 Q2145.55 171.645 2148.77 169.006 Q2152.01 166.368 2157.68 166.368 Q2160.11 166.368 2162.64 166.807 Q2165.16 167.247 2167.8 168.127 Z\" fill=\"#000000\" fill-rule=\"evenodd\" fill-opacity=\"1\" /><path clip-path=\"url(#clip270)\" d=\"M2188.77 188.52 Q2183.61 188.52 2181.62 189.701 Q2179.63 190.881 2179.63 193.729 Q2179.63 195.997 2181.11 197.34 Q2182.61 198.659 2185.18 198.659 Q2188.72 198.659 2190.85 196.159 Q2193.01 193.636 2193.01 189.469 L2193.01 188.52 L2188.77 188.52 M2197.27 186.761 L2197.27 201.553 L2193.01 201.553 L2193.01 197.617 Q2191.55 199.979 2189.37 201.113 Q2187.2 202.224 2184.05 202.224 Q2180.07 202.224 2177.71 200.002 Q2175.37 197.756 2175.37 194.006 Q2175.37 189.631 2178.29 187.409 Q2181.22 185.187 2187.04 185.187 L2193.01 185.187 L2193.01 184.77 Q2193.01 181.831 2191.06 180.233 Q2189.14 178.613 2185.65 178.613 Q2183.42 178.613 2181.32 179.145 Q2179.21 179.678 2177.27 180.743 L2177.27 176.807 Q2179.6 175.905 2181.8 175.465 Q2184 175.002 2186.09 175.002 Q2191.71 175.002 2194.49 177.918 Q2197.27 180.835 2197.27 186.761 Z\" fill=\"#000000\" fill-rule=\"evenodd\" fill-opacity=\"1\" /><path clip-path=\"url(#clip270)\" d=\"M2227.59 185.905 L2227.59 201.553 L2223.33 201.553 L2223.33 186.043 Q2223.33 182.363 2221.9 180.534 Q2220.46 178.706 2217.59 178.706 Q2214.14 178.706 2212.15 180.905 Q2210.16 183.104 2210.16 186.9 L2210.16 201.553 L2205.88 201.553 L2205.88 175.627 L2210.16 175.627 L2210.16 179.655 Q2211.69 177.317 2213.75 176.159 Q2215.83 175.002 2218.54 175.002 Q2223.01 175.002 2225.3 177.78 Q2227.59 180.534 2227.59 185.905 Z\" fill=\"#000000\" fill-rule=\"evenodd\" fill-opacity=\"1\" /><path clip-path=\"url(#clip270)\" d=\"M2253.15 179.562 L2253.15 165.534 L2257.41 165.534 L2257.41 201.553 L2253.15 201.553 L2253.15 197.664 Q2251.8 199.979 2249.74 201.113 Q2247.71 202.224 2244.84 202.224 Q2240.14 202.224 2237.17 198.474 Q2234.23 194.724 2234.23 188.613 Q2234.23 182.502 2237.17 178.752 Q2240.14 175.002 2244.84 175.002 Q2247.71 175.002 2249.74 176.136 Q2251.8 177.247 2253.15 179.562 M2238.63 188.613 Q2238.63 193.312 2240.55 195.997 Q2242.5 198.659 2245.88 198.659 Q2249.26 198.659 2251.2 195.997 Q2253.15 193.312 2253.15 188.613 Q2253.15 183.914 2251.2 181.252 Q2249.26 178.567 2245.88 178.567 Q2242.5 178.567 2240.55 181.252 Q2238.63 183.914 2238.63 188.613 Z\" fill=\"#000000\" fill-rule=\"evenodd\" fill-opacity=\"1\" /><path clip-path=\"url(#clip270)\" d=\"M2277.96 188.52 Q2272.8 188.52 2270.81 189.701 Q2268.82 190.881 2268.82 193.729 Q2268.82 195.997 2270.3 197.34 Q2271.8 198.659 2274.37 198.659 Q2277.91 198.659 2280.04 196.159 Q2282.2 193.636 2282.2 189.469 L2282.2 188.52 L2277.96 188.52 M2286.46 186.761 L2286.46 201.553 L2282.2 201.553 L2282.2 197.617 Q2280.74 199.979 2278.56 201.113 Q2276.39 202.224 2273.24 202.224 Q2269.26 202.224 2266.9 200.002 Q2264.56 197.756 2264.56 194.006 Q2264.56 189.631 2267.47 187.409 Q2270.41 185.187 2276.22 185.187 L2282.2 185.187 L2282.2 184.77 Q2282.2 181.831 2280.25 180.233 Q2278.33 178.613 2274.84 178.613 Q2272.61 178.613 2270.51 179.145 Q2268.4 179.678 2266.46 180.743 L2266.46 176.807 Q2268.79 175.905 2270.99 175.465 Q2273.19 175.002 2275.28 175.002 Q2280.9 175.002 2283.68 177.918 Q2286.46 180.835 2286.46 186.761 Z\" fill=\"#000000\" fill-rule=\"evenodd\" fill-opacity=\"1\" /><path clip-path=\"url(#clip270)\" d=\"M2295.23 165.534 L2299.49 165.534 L2299.49 201.553 L2295.23 201.553 L2295.23 165.534 Z\" fill=\"#000000\" fill-rule=\"evenodd\" fill-opacity=\"1\" /></svg>\n"
      ]
     },
     "execution_count": 86,
     "metadata": {},
     "output_type": "execute_result"
    }
   ],
   "source": [
    "scatter(X_test_Pr[1, y_test .== -1], X_test_Pr[2, y_test .== -1], \n",
    "            color = :indianred,\n",
    "            label = labels[l₁],\n",
    "            size = (600,300),\n",
    "            subplot = 1, layout = 2,\n",
    "            xlabel = \"true labels test data\")\n",
    "scatter!(X_test_Pr[1, y_test .== 1], X_test_Pr[2, y_test .== 1], \n",
    "            color = :steelblue,\n",
    "            label = labels[l₂],\n",
    "            subplot = 1, layout = 2)\n",
    "scatter!(X_test_Pr[1, ŷ₀_test .== 1], X_test_Pr[2, ŷ₀_test .== 1], \n",
    "            color = :indianred,\n",
    "            label = labels[l₁], subplot = 2,\n",
    "            size = (600,300), markersizes = sizes[ŷ₀_test .== 1],\n",
    "            xlabel = \"predictions test data\")\n",
    "scatter!(X_test_Pr[1, ŷ₀_test .== 2], X_test_Pr[2, ŷ₀_test .== 2], \n",
    "            color = :steelblue, subplot = 2, markersizes = sizes[ŷ₀_test .== 2],\n",
    "            label = labels[l₂])"
   ]
  },
  {
   "cell_type": "code",
   "execution_count": 87,
   "metadata": {},
   "outputs": [
    {
     "data": {
      "text/plain": [
       "0.02"
      ]
     },
     "execution_count": 87,
     "metadata": {},
     "output_type": "execute_result"
    }
   ],
   "source": [
    "count((y_test- 2 .* (ŷ₀_test .- 1.5)) .!= 0)/n"
   ]
  },
  {
   "cell_type": "code",
   "execution_count": null,
   "metadata": {},
   "outputs": [],
   "source": []
  }
 ],
 "metadata": {
  "@webio": {
   "lastCommId": null,
   "lastKernelId": null
  },
  "kernelspec": {
   "display_name": "Julia 1.7.2",
   "language": "julia",
   "name": "julia-1.7"
  },
  "language_info": {
   "file_extension": ".jl",
   "mimetype": "application/julia",
   "name": "julia",
   "version": "1.7.2"
  }
 },
 "nbformat": 4,
 "nbformat_minor": 2
}
