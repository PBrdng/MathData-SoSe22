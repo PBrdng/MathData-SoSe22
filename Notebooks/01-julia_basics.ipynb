{
 "cells": [
  {
   "cell_type": "markdown",
   "metadata": {},
   "source": [
    "# Installation and usage of Julia packages\n",
    "The built-in package manager of Julia is called \"Pkg\" and allows the dynamic download and usage of packages that are available in online repositories. A lot of those packages can be found (open source) on github and similar websites and provide some sort of documentation (some better than others).\n",
    "\n",
    "The Jupyter Notebooks provided in this repository use so called environments that encapsulate packages (with specified versions) for each notebook. This way version conflicts among different notebooks can be prevented.\n",
    "\n",
    "To use \"Pkg\" call \n",
    "```julia\n",
    "using Pkg\n",
    "```\n",
    "\n",
    "Afterwards activate an environment with\n",
    "```julia\n",
    "Pkg.activate(\"/path/to/your/environment\")\n",
    "```\n",
    "and add packages with\n",
    "```julia\n",
    "Pkg.add(\"name of some package\")\n",
    "Pkg.add(name=\"name of another package\", version=\"1.2.3\")\n",
    "```\n",
    "\n",
    "The path \"/path/to/your/environment\" will then contain two toml-files: \"Manifest.toml\" and \"Project.toml\" containing information about the packages used in that environment.\n",
    "\n",
    "The notebooks in this repository use the folder \"conf/name_of_the_notebook\" for each notebook, e.g. \"conf/01-julia_basics\" for this notebook.\n",
    "\n",
    "First time activation of environments might take several minutes due to the package manager downloading and precompiling the added packages and all of their dependencies (which easily can be thousands of packages!)."
   ]
  },
  {
   "cell_type": "code",
   "execution_count": 271,
   "metadata": {},
   "outputs": [
    {
     "name": "stderr",
     "output_type": "stream",
     "text": [
      "\u001b[32m\u001b[1m   Resolving\u001b[22m\u001b[39m package versions...\n",
      "\u001b[32m\u001b[1m  No Changes\u001b[22m\u001b[39m to `~/Syncthing/Programmierung/MathData-SoSe22/conf/01-julia_basics/Project.toml`\n",
      "\u001b[32m\u001b[1m  No Changes\u001b[22m\u001b[39m to `~/Syncthing/Programmierung/MathData-SoSe22/conf/01-julia_basics/Manifest.toml`\n",
      "\u001b[32m\u001b[1m  Activating\u001b[22m\u001b[39m project at `~/Syncthing/Programmierung/MathData-SoSe22/conf/01-julia_basics`\n"
     ]
    },
    {
     "name": "stdout",
     "output_type": "stream",
     "text": [
      "\u001b[32m\u001b[1mStatus\u001b[22m\u001b[39m `~/Syncthing/Programmierung/MathData-SoSe22/conf/01-julia_basics/Project.toml`\n",
      "\u001b[32m⌃\u001b[39m \u001b[90m[91a5bcdd] \u001b[39mPlots v1.40.9\n",
      "\u001b[36m\u001b[1mInfo\u001b[22m\u001b[39m Packages marked with \u001b[32m⌃\u001b[39m have new versions available and may be upgradable.\n"
     ]
    }
   ],
   "source": [
    "# tell julia to use the package \"Pkg\"\n",
    "using Pkg\n",
    "# add package \"Plots\" of version \"1.40.9\" - this will not be added to an environment since we haven't activated one (yet)\n",
    "Pkg.add(PackageSpec(name=\"Plots\", version=\"1.40.9\"))\n",
    "# activate the environment \"conf/01-julia_basics\"\n",
    "Pkg.activate(joinpath(dirname(pwd()), \"conf\", \"01-julia_basics\"))\n",
    "# create a Manifest.toml, resolve dependencies, download and precompile all packages needed for this environment\n",
    "Pkg.instantiate()\n",
    "# show the status of the package manager\n",
    "Pkg.status()"
   ]
  },
  {
   "cell_type": "markdown",
   "metadata": {},
   "source": [
    "The environments for all notebooks have been created with \"conf/setup.jl\" to speedup notebook execution. In principal each notebook could add their packages on every execution, but this might be very slow."
   ]
  },
  {
   "cell_type": "markdown",
   "metadata": {},
   "source": [
    "# Variables"
   ]
  },
  {
   "cell_type": "code",
   "execution_count": 272,
   "metadata": {},
   "outputs": [
    {
     "data": {
      "text/plain": [
       "4"
      ]
     },
     "metadata": {},
     "output_type": "display_data"
    }
   ],
   "source": [
    "my_integer = 4"
   ]
  },
  {
   "cell_type": "code",
   "execution_count": 273,
   "metadata": {},
   "outputs": [
    {
     "data": {
      "text/plain": [
       "Int64"
      ]
     },
     "metadata": {},
     "output_type": "display_data"
    }
   ],
   "source": [
    "typeof(my_integer)"
   ]
  },
  {
   "cell_type": "code",
   "execution_count": 274,
   "metadata": {},
   "outputs": [
    {
     "data": {
      "text/plain": [
       "2.3"
      ]
     },
     "metadata": {},
     "output_type": "display_data"
    }
   ],
   "source": [
    "my_float = 2.3"
   ]
  },
  {
   "cell_type": "code",
   "execution_count": 275,
   "metadata": {},
   "outputs": [
    {
     "data": {
      "text/plain": [
       "Float64"
      ]
     },
     "metadata": {},
     "output_type": "display_data"
    }
   ],
   "source": [
    "typeof(my_float)"
   ]
  },
  {
   "cell_type": "code",
   "execution_count": 276,
   "metadata": {},
   "outputs": [
    {
     "data": {
      "text/plain": [
       "Complex{Int64}"
      ]
     },
     "metadata": {},
     "output_type": "display_data"
    }
   ],
   "source": [
    "my_complex_number = 2 + 3im\n",
    "typeof(my_complex_number)"
   ]
  },
  {
   "cell_type": "code",
   "execution_count": 277,
   "metadata": {},
   "outputs": [
    {
     "data": {
      "text/plain": [
       "ComplexF64\u001b[90m (alias for \u001b[39m\u001b[90mComplex{Float64}\u001b[39m\u001b[90m)\u001b[39m"
      ]
     },
     "metadata": {},
     "output_type": "display_data"
    }
   ],
   "source": [
    "my_complex_number2 = 2.2 + 3.2im\n",
    "typeof(my_complex_number2)"
   ]
  },
  {
   "cell_type": "markdown",
   "metadata": {},
   "source": [
    "Using the Julia REPL (command line) the following help information can be displayed\n",
    "```julia\n",
    "?Complex\n",
    "```\n",
    "which yields\n",
    "\n",
    "\n",
    "search: Complex complex ComplexF32 ComplexF16 ComplexF64\n",
    "\n",
    "  Complex{T<:Real} <: Number\n",
    "\n",
    "  Complex number type with real and imaginary part of type T.\n",
    "\n",
    "  ComplexF16, ComplexF32 and ComplexF64 are aliases for Complex{Float16}, Complex{Float32} and Complex{Float64} respectively.\n",
    "\n",
    "  See also: Real, complex, real."
   ]
  },
  {
   "cell_type": "code",
   "execution_count": 278,
   "metadata": {},
   "outputs": [
    {
     "data": {
      "text/plain": [
       "6.283185307179586"
      ]
     },
     "metadata": {},
     "output_type": "display_data"
    }
   ],
   "source": [
    "# support for latex\n",
    "α = 2π"
   ]
  },
  {
   "cell_type": "code",
   "execution_count": 279,
   "metadata": {},
   "outputs": [
    {
     "data": {
      "text/plain": [
       "1.0"
      ]
     },
     "metadata": {},
     "output_type": "display_data"
    }
   ],
   "source": [
    "cos(α)"
   ]
  },
  {
   "cell_type": "markdown",
   "metadata": {},
   "source": [
    "# Syntax for some basic mathematical operations"
   ]
  },
  {
   "cell_type": "code",
   "execution_count": 280,
   "metadata": {},
   "outputs": [
    {
     "data": {
      "text/plain": [
       "5"
      ]
     },
     "metadata": {},
     "output_type": "display_data"
    }
   ],
   "source": [
    "summation = 2 + 3"
   ]
  },
  {
   "cell_type": "code",
   "execution_count": 281,
   "metadata": {},
   "outputs": [
    {
     "data": {
      "text/plain": [
       "3"
      ]
     },
     "metadata": {},
     "output_type": "display_data"
    }
   ],
   "source": [
    "difference = 5 - 2"
   ]
  },
  {
   "cell_type": "code",
   "execution_count": 282,
   "metadata": {},
   "outputs": [
    {
     "data": {
      "text/plain": [
       "15"
      ]
     },
     "metadata": {},
     "output_type": "display_data"
    }
   ],
   "source": [
    "product = 3 * 5"
   ]
  },
  {
   "cell_type": "code",
   "execution_count": 283,
   "metadata": {},
   "outputs": [
    {
     "data": {
      "text/plain": [
       "0.8"
      ]
     },
     "metadata": {},
     "output_type": "display_data"
    }
   ],
   "source": [
    "quotient = 4 / 5"
   ]
  },
  {
   "cell_type": "code",
   "execution_count": 284,
   "metadata": {},
   "outputs": [
    {
     "data": {
      "text/plain": [
       "(4//5, Rational{Int64})"
      ]
     },
     "metadata": {},
     "output_type": "display_data"
    }
   ],
   "source": [
    "rational = 4 // 5\n",
    "rational, typeof(rational)"
   ]
  },
  {
   "cell_type": "code",
   "execution_count": 285,
   "metadata": {},
   "outputs": [
    {
     "data": {
      "text/plain": [
       "25"
      ]
     },
     "metadata": {},
     "output_type": "display_data"
    }
   ],
   "source": [
    "power = 5^2"
   ]
  },
  {
   "cell_type": "code",
   "execution_count": 286,
   "metadata": {},
   "outputs": [
    {
     "data": {
      "text/plain": [
       "25.0"
      ]
     },
     "metadata": {},
     "output_type": "display_data"
    }
   ],
   "source": [
    "power = 5.0^2"
   ]
  },
  {
   "cell_type": "markdown",
   "metadata": {},
   "source": [
    "# Control Flow"
   ]
  },
  {
   "cell_type": "markdown",
   "metadata": {
    "slideshow": {
     "slide_type": "fragment"
    }
   },
   "source": [
    "### For loops\n",
    "\n",
    "The syntax for a `for` loop is \n",
    "```julia\n",
    "for *var* in *loop iterable*\n",
    "    *loop body*\n",
    "end\n",
    "```"
   ]
  },
  {
   "cell_type": "code",
   "execution_count": 287,
   "metadata": {},
   "outputs": [
    {
     "name": "stdout",
     "output_type": "stream",
     "text": [
      "aᵢ = 1\n",
      "aᵢ = 2\n",
      "aᵢ = 3\n",
      "aᵢ = 4\n",
      "aᵢ = 5\n"
     ]
    }
   ],
   "source": [
    "a = [1, 2, 3, 4, 5]\n",
    "for aᵢ in a\n",
    "    @show aᵢ\n",
    "end"
   ]
  },
  {
   "cell_type": "markdown",
   "metadata": {},
   "source": [
    "## If statements"
   ]
  },
  {
   "cell_type": "code",
   "execution_count": 288,
   "metadata": {},
   "outputs": [
    {
     "name": "stdout",
     "output_type": "stream",
     "text": [
      "v == w\n"
     ]
    }
   ],
   "source": [
    "v = 3\n",
    "w = 3\n",
    "\n",
    "if v < w\n",
    "    println(\"v < w\")\n",
    "elseif v > w\n",
    "    println(\"v > w\")\n",
    "else\n",
    "    println(\"v == w\")\n",
    "end"
   ]
  },
  {
   "cell_type": "markdown",
   "metadata": {},
   "source": [
    "# Arrays"
   ]
  },
  {
   "cell_type": "markdown",
   "metadata": {},
   "source": [
    "Julia has built-in support multi-dimensional arrays (i.e. tensors)."
   ]
  },
  {
   "cell_type": "code",
   "execution_count": 289,
   "metadata": {},
   "outputs": [
    {
     "data": {
      "text/plain": [
       "5-element Vector{Int64}:\n",
       " 1\n",
       " 2\n",
       " 3\n",
       " 4\n",
       " 5"
      ]
     },
     "metadata": {},
     "output_type": "display_data"
    }
   ],
   "source": [
    "vector = [1, 2, 3, 4, 5]"
   ]
  },
  {
   "cell_type": "code",
   "execution_count": 290,
   "metadata": {},
   "outputs": [
    {
     "data": {
      "text/plain": [
       "2×3 Matrix{Int64}:\n",
       " 1  2  3\n",
       " 4  5  6"
      ]
     },
     "metadata": {},
     "output_type": "display_data"
    }
   ],
   "source": [
    "matrix = [1 2 3; 4 5 6]"
   ]
  },
  {
   "cell_type": "code",
   "execution_count": 291,
   "metadata": {},
   "outputs": [
    {
     "data": {
      "text/plain": [
       "2×3 Matrix{Int64}:\n",
       " 1  2  3\n",
       " 4  5  6"
      ]
     },
     "metadata": {},
     "output_type": "display_data"
    }
   ],
   "source": [
    "spacing_matrix = [1 2 3\n",
    "                  4 5 6]"
   ]
  },
  {
   "cell_type": "code",
   "execution_count": 292,
   "metadata": {},
   "outputs": [
    {
     "data": {
      "text/plain": [
       "4×5 Matrix{Int64}:\n",
       " 6  8   9  4  10\n",
       " 8  5  10  6  10\n",
       " 2  5   7  2   1\n",
       " 7  8   2  2   3"
      ]
     },
     "metadata": {},
     "output_type": "display_data"
    }
   ],
   "source": [
    "random_matrix = rand(1:10, 4, 5)"
   ]
  },
  {
   "cell_type": "code",
   "execution_count": 293,
   "metadata": {},
   "outputs": [
    {
     "data": {
      "text/plain": [
       "2×3×4 Array{Int64, 3}:\n",
       "[:, :, 1] =\n",
       " 2  2  9\n",
       " 3  4  5\n",
       "\n",
       "[:, :, 2] =\n",
       " 5  3  2\n",
       " 4  4  8\n",
       "\n",
       "[:, :, 3] =\n",
       " 9  5  8\n",
       " 4  4  6\n",
       "\n",
       "[:, :, 4] =\n",
       "  7  10  7\n",
       " 10   6  2"
      ]
     },
     "metadata": {},
     "output_type": "display_data"
    }
   ],
   "source": [
    "random_tensor = rand(1:10, 2, 3, 4)"
   ]
  },
  {
   "cell_type": "markdown",
   "metadata": {},
   "source": [
    "### Manipulating Arrays "
   ]
  },
  {
   "cell_type": "code",
   "execution_count": 294,
   "metadata": {},
   "outputs": [
    {
     "data": {
      "text/plain": [
       "5-element Vector{Int64}:\n",
       " 1\n",
       " 2\n",
       " 3\n",
       " 4\n",
       " 5"
      ]
     },
     "metadata": {},
     "output_type": "display_data"
    }
   ],
   "source": [
    "vector"
   ]
  },
  {
   "cell_type": "code",
   "execution_count": 295,
   "metadata": {},
   "outputs": [
    {
     "data": {
      "text/plain": [
       "3-element Vector{Int64}:\n",
       " 2\n",
       " 3\n",
       " 4"
      ]
     },
     "metadata": {},
     "output_type": "display_data"
    }
   ],
   "source": [
    "vector[2:4]"
   ]
  },
  {
   "cell_type": "code",
   "execution_count": 296,
   "metadata": {},
   "outputs": [
    {
     "data": {
      "text/plain": [
       "2-element Vector{Int64}:\n",
       " 4\n",
       " 5"
      ]
     },
     "metadata": {},
     "output_type": "display_data"
    }
   ],
   "source": [
    "vector[4:end]"
   ]
  },
  {
   "cell_type": "code",
   "execution_count": 297,
   "metadata": {},
   "outputs": [
    {
     "data": {
      "text/plain": [
       "2×3 Matrix{Int64}:\n",
       " 1  2  3\n",
       " 4  5  6"
      ]
     },
     "metadata": {},
     "output_type": "display_data"
    }
   ],
   "source": [
    "matrix"
   ]
  },
  {
   "cell_type": "code",
   "execution_count": 298,
   "metadata": {},
   "outputs": [
    {
     "data": {
      "text/plain": [
       "2-element Vector{Int64}:\n",
       " 2\n",
       " 5"
      ]
     },
     "metadata": {},
     "output_type": "display_data"
    }
   ],
   "source": [
    "matrix[:, 2]"
   ]
  },
  {
   "cell_type": "code",
   "execution_count": 299,
   "metadata": {},
   "outputs": [
    {
     "data": {
      "text/plain": [
       "3-element Vector{Int64}:\n",
       " 1\n",
       " 2\n",
       " 3"
      ]
     },
     "metadata": {},
     "output_type": "display_data"
    }
   ],
   "source": [
    "matrix[1,:]"
   ]
  },
  {
   "cell_type": "code",
   "execution_count": 300,
   "metadata": {},
   "outputs": [
    {
     "data": {
      "text/plain": [
       "2×2 Matrix{Int64}:\n",
       " 1  2\n",
       " 4  5"
      ]
     },
     "metadata": {},
     "output_type": "display_data"
    }
   ],
   "source": [
    "matrix[:, 1:2]"
   ]
  },
  {
   "cell_type": "code",
   "execution_count": 301,
   "metadata": {},
   "outputs": [
    {
     "data": {
      "text/plain": [
       "5×2 Matrix{Int64}:\n",
       " 1  1\n",
       " 2  2\n",
       " 3  3\n",
       " 4  4\n",
       " 5  5"
      ]
     },
     "metadata": {},
     "output_type": "display_data"
    }
   ],
   "source": [
    "[vector vector]"
   ]
  },
  {
   "cell_type": "code",
   "execution_count": 302,
   "metadata": {},
   "outputs": [
    {
     "data": {
      "text/plain": [
       "10-element Vector{Int64}:\n",
       " 1\n",
       " 2\n",
       " 3\n",
       " 4\n",
       " 5\n",
       " 1\n",
       " 2\n",
       " 3\n",
       " 4\n",
       " 5"
      ]
     },
     "metadata": {},
     "output_type": "display_data"
    }
   ],
   "source": [
    "[vector; vector]"
   ]
  },
  {
   "cell_type": "code",
   "execution_count": 303,
   "metadata": {},
   "outputs": [
    {
     "data": {
      "text/plain": [
       "2×6 Matrix{Int64}:\n",
       " 1  2  3  1  2  3\n",
       " 4  5  6  4  5  6"
      ]
     },
     "metadata": {},
     "output_type": "display_data"
    }
   ],
   "source": [
    "[matrix matrix]"
   ]
  },
  {
   "cell_type": "code",
   "execution_count": 304,
   "metadata": {},
   "outputs": [
    {
     "data": {
      "text/plain": [
       "4×3 Matrix{Int64}:\n",
       " 1  2  3\n",
       " 4  5  6\n",
       " 1  2  3\n",
       " 4  5  6"
      ]
     },
     "metadata": {},
     "output_type": "display_data"
    }
   ],
   "source": [
    "[matrix; matrix]"
   ]
  },
  {
   "cell_type": "markdown",
   "metadata": {},
   "source": [
    "# Functions, Multiple Dispatch"
   ]
  },
  {
   "cell_type": "markdown",
   "metadata": {},
   "source": [
    "A typical function has the form\n",
    "```julia\n",
    "function *func_name*(*arg1*, *arg2*, ...)\n",
    "   *body* \n",
    "end\n",
    "```"
   ]
  },
  {
   "cell_type": "code",
   "execution_count": 305,
   "metadata": {},
   "outputs": [
    {
     "data": {
      "text/plain": [
       "biased_sum (generic function with 3 methods)"
      ]
     },
     "metadata": {},
     "output_type": "display_data"
    }
   ],
   "source": [
    "function biased_sum(a, b)\n",
    "    a + b + 2\n",
    "end "
   ]
  },
  {
   "cell_type": "code",
   "execution_count": 306,
   "metadata": {},
   "outputs": [
    {
     "data": {
      "text/plain": [
       "2"
      ]
     },
     "metadata": {},
     "output_type": "display_data"
    }
   ],
   "source": [
    "biased_sum(2, 3)"
   ]
  },
  {
   "cell_type": "code",
   "execution_count": 307,
   "metadata": {},
   "outputs": [
    {
     "data": {
      "text/html": [
       "# 3 methods for generic function <b>biased_sum</b> from \u001b[35mMain\u001b[39m:<ul><li> biased_sum(a::<b>Integer</b>, b::<b>Integer</b>) in Main at <a href=\"https://github.com/johanneslatzel/MathData-SoSe22/tree/cb407bbb42a3c82b7e0f8e91156c730871d212b0//Notebooks/jl_notebook_cell_df34fa98e69747e1a8f8a730347b8e2f_Y101sZmlsZQ==.jl#L1\" target=\"_blank\">/home/johannes/Syncthing/Programmierung/MathData-SoSe22/Notebooks/jl_notebook_cell_df34fa98e69747e1a8f8a730347b8e2f_Y101sZmlsZQ==.jl:1</a></li> <li> biased_sum(a::<b>Complex</b>, b) in Main at <a href=\"https://github.com/johanneslatzel/MathData-SoSe22/tree/cb407bbb42a3c82b7e0f8e91156c730871d212b0//Notebooks/jl_notebook_cell_df34fa98e69747e1a8f8a730347b8e2f_Y105sZmlsZQ==.jl#L1\" target=\"_blank\">/home/johannes/Syncthing/Programmierung/MathData-SoSe22/Notebooks/jl_notebook_cell_df34fa98e69747e1a8f8a730347b8e2f_Y105sZmlsZQ==.jl:1</a></li> <li> biased_sum(a, b) in Main at <a href=\"https://github.com/johanneslatzel/MathData-SoSe22/tree/cb407bbb42a3c82b7e0f8e91156c730871d212b0//Notebooks/jl_notebook_cell_df34fa98e69747e1a8f8a730347b8e2f_X65sZmlsZQ==.jl#L1\" target=\"_blank\">/home/johannes/Syncthing/Programmierung/MathData-SoSe22/Notebooks/jl_notebook_cell_df34fa98e69747e1a8f8a730347b8e2f_X65sZmlsZQ==.jl:1</a></li> </ul>"
      ],
      "text/plain": [
       "# 3 methods for generic function \"biased_sum\" from \u001b[35mMain\u001b[39m:\n",
       " [1] biased_sum(\u001b[90ma\u001b[39m::\u001b[1mInteger\u001b[22m, \u001b[90mb\u001b[39m::\u001b[1mInteger\u001b[22m)\n",
       "\u001b[90m     @\u001b[39m \u001b[90m~/Syncthing/Programmierung/MathData-SoSe22/Notebooks/\u001b[39m\u001b[90m\u001b[4mjl_notebook_cell_df34fa98e69747e1a8f8a730347b8e2f_Y101sZmlsZQ==.jl:1\u001b[24m\u001b[39m\n",
       " [2] biased_sum(\u001b[90ma\u001b[39m::\u001b[1mComplex\u001b[22m, \u001b[90mb\u001b[39m)\n",
       "\u001b[90m     @\u001b[39m \u001b[90m~/Syncthing/Programmierung/MathData-SoSe22/Notebooks/\u001b[39m\u001b[90m\u001b[4mjl_notebook_cell_df34fa98e69747e1a8f8a730347b8e2f_Y105sZmlsZQ==.jl:1\u001b[24m\u001b[39m\n",
       " [3] biased_sum(\u001b[90ma\u001b[39m, \u001b[90mb\u001b[39m)\n",
       "\u001b[90m     @\u001b[39m \u001b[90m~/Syncthing/Programmierung/MathData-SoSe22/Notebooks/\u001b[39m\u001b[90m\u001b[4mjl_notebook_cell_df34fa98e69747e1a8f8a730347b8e2f_X65sZmlsZQ==.jl:1\u001b[24m\u001b[39m"
      ]
     },
     "metadata": {},
     "output_type": "display_data"
    }
   ],
   "source": [
    "methods(biased_sum)"
   ]
  },
  {
   "cell_type": "code",
   "execution_count": 308,
   "metadata": {},
   "outputs": [
    {
     "data": {
      "text/plain": [
       "biased_sum (generic function with 3 methods)"
      ]
     },
     "metadata": {},
     "output_type": "display_data"
    }
   ],
   "source": [
    "function biased_sum(a::Integer, b::Integer)\n",
    "    a + b - 3\n",
    "end"
   ]
  },
  {
   "cell_type": "code",
   "execution_count": 309,
   "metadata": {},
   "outputs": [
    {
     "data": {
      "text/plain": [
       "2"
      ]
     },
     "metadata": {},
     "output_type": "display_data"
    }
   ],
   "source": [
    "biased_sum(2, 3)"
   ]
  },
  {
   "cell_type": "code",
   "execution_count": 310,
   "metadata": {},
   "outputs": [
    {
     "data": {
      "text/plain": [
       "9.0"
      ]
     },
     "metadata": {},
     "output_type": "display_data"
    }
   ],
   "source": [
    "biased_sum(5.0, 2.0)"
   ]
  },
  {
   "cell_type": "code",
   "execution_count": 311,
   "metadata": {},
   "outputs": [
    {
     "data": {
      "text/html": [
       "# 3 methods for generic function <b>biased_sum</b> from \u001b[35mMain\u001b[39m:<ul><li> biased_sum(a::<b>Integer</b>, b::<b>Integer</b>) in Main at <a href=\"https://github.com/johanneslatzel/MathData-SoSe22/tree/cb407bbb42a3c82b7e0f8e91156c730871d212b0//Notebooks/jl_notebook_cell_df34fa98e69747e1a8f8a730347b8e2f_Y101sZmlsZQ==.jl#L1\" target=\"_blank\">/home/johannes/Syncthing/Programmierung/MathData-SoSe22/Notebooks/jl_notebook_cell_df34fa98e69747e1a8f8a730347b8e2f_Y101sZmlsZQ==.jl:1</a></li> <li> biased_sum(a::<b>Complex</b>, b) in Main at <a href=\"https://github.com/johanneslatzel/MathData-SoSe22/tree/cb407bbb42a3c82b7e0f8e91156c730871d212b0//Notebooks/jl_notebook_cell_df34fa98e69747e1a8f8a730347b8e2f_Y105sZmlsZQ==.jl#L1\" target=\"_blank\">/home/johannes/Syncthing/Programmierung/MathData-SoSe22/Notebooks/jl_notebook_cell_df34fa98e69747e1a8f8a730347b8e2f_Y105sZmlsZQ==.jl:1</a></li> <li> biased_sum(a, b) in Main at <a href=\"https://github.com/johanneslatzel/MathData-SoSe22/tree/cb407bbb42a3c82b7e0f8e91156c730871d212b0//Notebooks/jl_notebook_cell_df34fa98e69747e1a8f8a730347b8e2f_X65sZmlsZQ==.jl#L1\" target=\"_blank\">/home/johannes/Syncthing/Programmierung/MathData-SoSe22/Notebooks/jl_notebook_cell_df34fa98e69747e1a8f8a730347b8e2f_X65sZmlsZQ==.jl:1</a></li> </ul>"
      ],
      "text/plain": [
       "# 3 methods for generic function \"biased_sum\" from \u001b[35mMain\u001b[39m:\n",
       " [1] biased_sum(\u001b[90ma\u001b[39m::\u001b[1mInteger\u001b[22m, \u001b[90mb\u001b[39m::\u001b[1mInteger\u001b[22m)\n",
       "\u001b[90m     @\u001b[39m \u001b[90m~/Syncthing/Programmierung/MathData-SoSe22/Notebooks/\u001b[39m\u001b[90m\u001b[4mjl_notebook_cell_df34fa98e69747e1a8f8a730347b8e2f_Y101sZmlsZQ==.jl:1\u001b[24m\u001b[39m\n",
       " [2] biased_sum(\u001b[90ma\u001b[39m::\u001b[1mComplex\u001b[22m, \u001b[90mb\u001b[39m)\n",
       "\u001b[90m     @\u001b[39m \u001b[90m~/Syncthing/Programmierung/MathData-SoSe22/Notebooks/\u001b[39m\u001b[90m\u001b[4mjl_notebook_cell_df34fa98e69747e1a8f8a730347b8e2f_Y105sZmlsZQ==.jl:1\u001b[24m\u001b[39m\n",
       " [3] biased_sum(\u001b[90ma\u001b[39m, \u001b[90mb\u001b[39m)\n",
       "\u001b[90m     @\u001b[39m \u001b[90m~/Syncthing/Programmierung/MathData-SoSe22/Notebooks/\u001b[39m\u001b[90m\u001b[4mjl_notebook_cell_df34fa98e69747e1a8f8a730347b8e2f_X65sZmlsZQ==.jl:1\u001b[24m\u001b[39m"
      ]
     },
     "metadata": {},
     "output_type": "display_data"
    }
   ],
   "source": [
    "methods(biased_sum)"
   ]
  },
  {
   "cell_type": "code",
   "execution_count": 312,
   "metadata": {},
   "outputs": [
    {
     "data": {
      "text/plain": [
       "biased_sum (generic function with 3 methods)"
      ]
     },
     "metadata": {},
     "output_type": "display_data"
    }
   ],
   "source": [
    "biased_sum(a::Complex, b) = a + b - 2im"
   ]
  },
  {
   "cell_type": "code",
   "execution_count": 313,
   "metadata": {},
   "outputs": [
    {
     "data": {
      "text/plain": [
       "4 + 1im"
      ]
     },
     "metadata": {},
     "output_type": "display_data"
    }
   ],
   "source": [
    "biased_sum(2+3im, 2)"
   ]
  },
  {
   "cell_type": "code",
   "execution_count": 314,
   "metadata": {},
   "outputs": [],
   "source": [
    "# Keyword arguments"
   ]
  },
  {
   "cell_type": "code",
   "execution_count": 315,
   "metadata": {},
   "outputs": [
    {
     "data": {
      "text/plain": [
       "biased_pow (generic function with 1 method)"
      ]
     },
     "metadata": {},
     "output_type": "display_data"
    }
   ],
   "source": [
    "function biased_pow(a, b; bias::Bool = true)\n",
    "    if bias\n",
    "        a^b - 3\n",
    "    else\n",
    "        a^b\n",
    "    end\n",
    "end"
   ]
  },
  {
   "cell_type": "code",
   "execution_count": 316,
   "metadata": {},
   "outputs": [
    {
     "data": {
      "text/plain": [
       "5"
      ]
     },
     "metadata": {},
     "output_type": "display_data"
    }
   ],
   "source": [
    "biased_pow(2, 3)"
   ]
  },
  {
   "cell_type": "code",
   "execution_count": 317,
   "metadata": {},
   "outputs": [
    {
     "data": {
      "text/plain": [
       "8"
      ]
     },
     "metadata": {},
     "output_type": "display_data"
    }
   ],
   "source": [
    "biased_pow(2, 3; bias = false)"
   ]
  },
  {
   "cell_type": "code",
   "execution_count": 318,
   "metadata": {},
   "outputs": [
    {
     "data": {
      "text/plain": [
       "5"
      ]
     },
     "metadata": {},
     "output_type": "display_data"
    }
   ],
   "source": [
    "biased_pow(2, 3; bias = true)"
   ]
  },
  {
   "cell_type": "markdown",
   "metadata": {},
   "source": [
    "# Linear Algebra"
   ]
  },
  {
   "cell_type": "code",
   "execution_count": 319,
   "metadata": {},
   "outputs": [],
   "source": [
    "using LinearAlgebra"
   ]
  },
  {
   "cell_type": "code",
   "execution_count": 320,
   "metadata": {},
   "outputs": [
    {
     "data": {
      "text/plain": [
       "3×3 Matrix{Int64}:\n",
       " 1  2  3\n",
       " 2  3  5\n",
       " 1  0  4"
      ]
     },
     "metadata": {},
     "output_type": "display_data"
    }
   ],
   "source": [
    "b = [1; 2; 1]\n",
    "A = [1 2 3; 2 3 5; 1 0 4]"
   ]
  },
  {
   "cell_type": "code",
   "execution_count": 321,
   "metadata": {},
   "outputs": [
    {
     "data": {
      "text/plain": [
       "6"
      ]
     },
     "metadata": {},
     "output_type": "display_data"
    }
   ],
   "source": [
    "dot(b, b)"
   ]
  },
  {
   "cell_type": "code",
   "execution_count": 322,
   "metadata": {},
   "outputs": [
    {
     "data": {
      "text/plain": [
       "6"
      ]
     },
     "metadata": {},
     "output_type": "display_data"
    }
   ],
   "source": [
    "b ⋅ b "
   ]
  },
  {
   "cell_type": "code",
   "execution_count": 323,
   "metadata": {},
   "outputs": [
    {
     "data": {
      "text/plain": [
       "-3.0"
      ]
     },
     "metadata": {},
     "output_type": "display_data"
    }
   ],
   "source": [
    "det(A)"
   ]
  },
  {
   "cell_type": "code",
   "execution_count": 324,
   "metadata": {},
   "outputs": [
    {
     "data": {
      "text/plain": [
       "3-element Vector{Int64}:\n",
       " -3\n",
       "  2\n",
       " -1"
      ]
     },
     "metadata": {},
     "output_type": "display_data"
    }
   ],
   "source": [
    "cross(b, A[:,2])"
   ]
  },
  {
   "cell_type": "code",
   "execution_count": 325,
   "metadata": {},
   "outputs": [
    {
     "data": {
      "text/plain": [
       "3-element Vector{Int64}:\n",
       " -3\n",
       "  2\n",
       " -1"
      ]
     },
     "metadata": {},
     "output_type": "display_data"
    }
   ],
   "source": [
    "v = b × A[:,2]"
   ]
  },
  {
   "cell_type": "code",
   "execution_count": 326,
   "metadata": {},
   "outputs": [
    {
     "data": {
      "text/plain": [
       "0"
      ]
     },
     "metadata": {},
     "output_type": "display_data"
    }
   ],
   "source": [
    "v ⋅ b"
   ]
  },
  {
   "cell_type": "code",
   "execution_count": 327,
   "metadata": {},
   "outputs": [
    {
     "data": {
      "text/plain": [
       "3-element Vector{Float64}:\n",
       "  1.0\n",
       " -0.0\n",
       "  0.0"
      ]
     },
     "metadata": {},
     "output_type": "display_data"
    }
   ],
   "source": [
    "w = A\\b"
   ]
  },
  {
   "cell_type": "code",
   "execution_count": 328,
   "metadata": {},
   "outputs": [
    {
     "data": {
      "text/plain": [
       "3-element Vector{Float64}:\n",
       " 0.0\n",
       " 0.0\n",
       " 0.0"
      ]
     },
     "metadata": {},
     "output_type": "display_data"
    }
   ],
   "source": [
    "b - A*w"
   ]
  },
  {
   "cell_type": "markdown",
   "metadata": {},
   "source": [
    "# Statistic"
   ]
  },
  {
   "cell_type": "code",
   "execution_count": 329,
   "metadata": {},
   "outputs": [],
   "source": [
    "using Statistics, Plots"
   ]
  },
  {
   "cell_type": "code",
   "execution_count": 330,
   "metadata": {},
   "outputs": [
    {
     "data": {
      "image/png": "[encoded data removed]",
      "image/svg+xml": [
       "<?xml version=\"1.0\" encoding=\"utf-8\"?>\n",
       "<svg xmlns=\"http://www.w3.org/2000/svg\" xmlns:xlink=\"http://www.w3.org/1999/xlink\" width=\"600\" height=\"400\" viewBox=\"0 0 2400 1600\">\n",
       "<defs>\n",
       "  <clipPath id=\"clip750\">\n",
       "    <rect x=\"0\" y=\"0\" width=\"2400\" height=\"1600\"/>\n",
       "  </clipPath>\n",
       "</defs>\n",
       "<path clip-path=\"url(#clip750)\" d=\"M0 1600 L2400 1600 L2400 0 L0 0  Z\" fill=\"#ffffff\" fill-rule=\"evenodd\" fill-opacity=\"1\"/>\n",
       "<defs>\n",
       "  <clipPath id=\"clip751\">\n",
       "    <rect x=\"480\" y=\"0\" width=\"1681\" height=\"1600\"/>\n",
       "  </clipPath>\n",
       "</defs>\n",
       "<path clip-path=\"url(#clip750)\" d=\"M156.598 1486.45 L2352.76 1486.45 L2352.76 47.2441 L156.598 47.2441  Z\" fill=\"#ffffff\" fill-rule=\"evenodd\" fill-opacity=\"1\"/>\n",
       "<defs>\n",
       "  <clipPath id=\"clip752\">\n",
       "    <rect x=\"156\" y=\"47\" width=\"2197\" height=\"1440\"/>\n",
       "  </clipPath>\n",
       "</defs>\n",
       "<polyline clip-path=\"url(#clip752)\" style=\"stroke:#000000; stroke-linecap:round; stroke-linejoin:round; stroke-width:2; stroke-opacity:0.1; fill:none\" points=\"170.291,1486.45 170.291,47.2441 \"/>\n",
       "<polyline clip-path=\"url(#clip752)\" style=\"stroke:#000000; stroke-linecap:round; stroke-linejoin:round; stroke-width:2; stroke-opacity:0.1; fill:none\" points=\"705.79,1486.45 705.79,47.2441 \"/>\n",
       "<polyline clip-path=\"url(#clip752)\" style=\"stroke:#000000; stroke-linecap:round; stroke-linejoin:round; stroke-width:2; stroke-opacity:0.1; fill:none\" points=\"1241.29,1486.45 1241.29,47.2441 \"/>\n",
       "<polyline clip-path=\"url(#clip752)\" style=\"stroke:#000000; stroke-linecap:round; stroke-linejoin:round; stroke-width:2; stroke-opacity:0.1; fill:none\" points=\"1776.79,1486.45 1776.79,47.2441 \"/>\n",
       "<polyline clip-path=\"url(#clip752)\" style=\"stroke:#000000; stroke-linecap:round; stroke-linejoin:round; stroke-width:2; stroke-opacity:0.1; fill:none\" points=\"2312.29,1486.45 2312.29,47.2441 \"/>\n",
       "<polyline clip-path=\"url(#clip752)\" style=\"stroke:#000000; stroke-linecap:round; stroke-linejoin:round; stroke-width:2; stroke-opacity:0.1; fill:none\" points=\"156.598,1486.45 2352.76,1486.45 \"/>\n",
       "<polyline clip-path=\"url(#clip752)\" style=\"stroke:#000000; stroke-linecap:round; stroke-linejoin:round; stroke-width:2; stroke-opacity:0.1; fill:none\" points=\"156.598,1160.84 2352.76,1160.84 \"/>\n",
       "<polyline clip-path=\"url(#clip752)\" style=\"stroke:#000000; stroke-linecap:round; stroke-linejoin:round; stroke-width:2; stroke-opacity:0.1; fill:none\" points=\"156.598,835.224 2352.76,835.224 \"/>\n",
       "<polyline clip-path=\"url(#clip752)\" style=\"stroke:#000000; stroke-linecap:round; stroke-linejoin:round; stroke-width:2; stroke-opacity:0.1; fill:none\" points=\"156.598,509.613 2352.76,509.613 \"/>\n",
       "<polyline clip-path=\"url(#clip752)\" style=\"stroke:#000000; stroke-linecap:round; stroke-linejoin:round; stroke-width:2; stroke-opacity:0.1; fill:none\" points=\"156.598,184.001 2352.76,184.001 \"/>\n",
       "<polyline clip-path=\"url(#clip750)\" style=\"stroke:#000000; stroke-linecap:round; stroke-linejoin:round; stroke-width:4; stroke-opacity:1; fill:none\" points=\"156.598,1486.45 2352.76,1486.45 \"/>\n",
       "<polyline clip-path=\"url(#clip750)\" style=\"stroke:#000000; stroke-linecap:round; stroke-linejoin:round; stroke-width:4; stroke-opacity:1; fill:none\" points=\"170.291,1486.45 170.291,1467.55 \"/>\n",
       "<polyline clip-path=\"url(#clip750)\" style=\"stroke:#000000; stroke-linecap:round; stroke-linejoin:round; stroke-width:4; stroke-opacity:1; fill:none\" points=\"705.79,1486.45 705.79,1467.55 \"/>\n",
       "<polyline clip-path=\"url(#clip750)\" style=\"stroke:#000000; stroke-linecap:round; stroke-linejoin:round; stroke-width:4; stroke-opacity:1; fill:none\" points=\"1241.29,1486.45 1241.29,1467.55 \"/>\n",
       "<polyline clip-path=\"url(#clip750)\" style=\"stroke:#000000; stroke-linecap:round; stroke-linejoin:round; stroke-width:4; stroke-opacity:1; fill:none\" points=\"1776.79,1486.45 1776.79,1467.55 \"/>\n",
       "<polyline clip-path=\"url(#clip750)\" style=\"stroke:#000000; stroke-linecap:round; stroke-linejoin:round; stroke-width:4; stroke-opacity:1; fill:none\" points=\"2312.29,1486.45 2312.29,1467.55 \"/>\n",
       "<path clip-path=\"url(#clip750)\" d=\"M139.192 1532.02 L168.867 1532.02 L168.867 1535.95 L139.192 1535.95 L139.192 1532.02 Z\" fill=\"#000000\" fill-rule=\"nonzero\" fill-opacity=\"1\" /><path clip-path=\"url(#clip750)\" d=\"M191.807 1518.36 L180.002 1536.81 L191.807 1536.81 L191.807 1518.36 M190.58 1514.29 L196.46 1514.29 L196.46 1536.81 L201.39 1536.81 L201.39 1540.7 L196.46 1540.7 L196.46 1548.85 L191.807 1548.85 L191.807 1540.7 L176.205 1540.7 L176.205 1536.19 L190.58 1514.29 Z\" fill=\"#000000\" fill-rule=\"nonzero\" fill-opacity=\"1\" /><path clip-path=\"url(#clip750)\" d=\"M675.733 1532.02 L705.408 1532.02 L705.408 1535.95 L675.733 1535.95 L675.733 1532.02 Z\" fill=\"#000000\" fill-rule=\"nonzero\" fill-opacity=\"1\" /><path clip-path=\"url(#clip750)\" d=\"M719.529 1544.91 L735.848 1544.91 L735.848 1548.85 L713.904 1548.85 L713.904 1544.91 Q716.566 1542.16 721.149 1537.53 Q725.755 1532.88 726.936 1531.53 Q729.181 1529.01 730.061 1527.27 Q730.964 1525.51 730.964 1523.82 Q730.964 1521.07 729.019 1519.33 Q727.098 1517.6 723.996 1517.6 Q721.797 1517.6 719.343 1518.36 Q716.913 1519.13 714.135 1520.68 L714.135 1515.95 Q716.959 1514.82 719.413 1514.24 Q721.867 1513.66 723.904 1513.66 Q729.274 1513.66 732.468 1516.35 Q735.663 1519.03 735.663 1523.52 Q735.663 1525.65 734.853 1527.57 Q734.066 1529.47 731.959 1532.07 Q731.38 1532.74 728.279 1535.95 Q725.177 1539.15 719.529 1544.91 Z\" fill=\"#000000\" fill-rule=\"nonzero\" fill-opacity=\"1\" /><path clip-path=\"url(#clip750)\" d=\"M1241.29 1517.37 Q1237.68 1517.37 1235.85 1520.93 Q1234.04 1524.47 1234.04 1531.6 Q1234.04 1538.71 1235.85 1542.27 Q1237.68 1545.82 1241.29 1545.82 Q1244.92 1545.82 1246.73 1542.27 Q1248.56 1538.71 1248.56 1531.6 Q1248.56 1524.47 1246.73 1520.93 Q1244.92 1517.37 1241.29 1517.37 M1241.29 1513.66 Q1247.1 1513.66 1250.16 1518.27 Q1253.23 1522.85 1253.23 1531.6 Q1253.23 1540.33 1250.16 1544.94 Q1247.1 1549.52 1241.29 1549.52 Q1235.48 1549.52 1232.4 1544.94 Q1229.35 1540.33 1229.35 1531.6 Q1229.35 1522.85 1232.4 1518.27 Q1235.48 1513.66 1241.29 1513.66 Z\" fill=\"#000000\" fill-rule=\"nonzero\" fill-opacity=\"1\" /><path clip-path=\"url(#clip750)\" d=\"M1771.44 1544.91 L1787.76 1544.91 L1787.76 1548.85 L1765.82 1548.85 L1765.82 1544.91 Q1768.48 1542.16 1773.06 1537.53 Q1777.67 1532.88 1778.85 1531.53 Q1781.09 1529.01 1781.97 1527.27 Q1782.88 1525.51 1782.88 1523.82 Q1782.88 1521.07 1780.93 1519.33 Q1779.01 1517.6 1775.91 1517.6 Q1773.71 1517.6 1771.26 1518.36 Q1768.83 1519.13 1766.05 1520.68 L1766.05 1515.95 Q1768.87 1514.82 1771.33 1514.24 Q1773.78 1513.66 1775.82 1513.66 Q1781.19 1513.66 1784.38 1516.35 Q1787.58 1519.03 1787.58 1523.52 Q1787.58 1525.65 1786.77 1527.57 Q1785.98 1529.47 1783.87 1532.07 Q1783.29 1532.74 1780.19 1535.95 Q1777.09 1539.15 1771.44 1544.91 Z\" fill=\"#000000\" fill-rule=\"nonzero\" fill-opacity=\"1\" /><path clip-path=\"url(#clip750)\" d=\"M2315.3 1518.36 L2303.49 1536.81 L2315.3 1536.81 L2315.3 1518.36 M2314.07 1514.29 L2319.95 1514.29 L2319.95 1536.81 L2324.88 1536.81 L2324.88 1540.7 L2319.95 1540.7 L2319.95 1548.85 L2315.3 1548.85 L2315.3 1540.7 L2299.7 1540.7 L2299.7 1536.19 L2314.07 1514.29 Z\" fill=\"#000000\" fill-rule=\"nonzero\" fill-opacity=\"1\" /><polyline clip-path=\"url(#clip750)\" style=\"stroke:#000000; stroke-linecap:round; stroke-linejoin:round; stroke-width:4; stroke-opacity:1; fill:none\" points=\"156.598,1486.45 156.598,47.2441 \"/>\n",
       "<polyline clip-path=\"url(#clip750)\" style=\"stroke:#000000; stroke-linecap:round; stroke-linejoin:round; stroke-width:4; stroke-opacity:1; fill:none\" points=\"156.598,1486.45 175.496,1486.45 \"/>\n",
       "<polyline clip-path=\"url(#clip750)\" style=\"stroke:#000000; stroke-linecap:round; stroke-linejoin:round; stroke-width:4; stroke-opacity:1; fill:none\" points=\"156.598,1160.84 175.496,1160.84 \"/>\n",
       "<polyline clip-path=\"url(#clip750)\" style=\"stroke:#000000; stroke-linecap:round; stroke-linejoin:round; stroke-width:4; stroke-opacity:1; fill:none\" points=\"156.598,835.224 175.496,835.224 \"/>\n",
       "<polyline clip-path=\"url(#clip750)\" style=\"stroke:#000000; stroke-linecap:round; stroke-linejoin:round; stroke-width:4; stroke-opacity:1; fill:none\" points=\"156.598,509.613 175.496,509.613 \"/>\n",
       "<polyline clip-path=\"url(#clip750)\" style=\"stroke:#000000; stroke-linecap:round; stroke-linejoin:round; stroke-width:4; stroke-opacity:1; fill:none\" points=\"156.598,184.001 175.496,184.001 \"/>\n",
       "<path clip-path=\"url(#clip750)\" d=\"M63.4226 1472.25 Q59.8115 1472.25 57.9828 1475.81 Q56.1773 1479.35 56.1773 1486.48 Q56.1773 1493.59 57.9828 1497.15 Q59.8115 1500.7 63.4226 1500.7 Q67.0569 1500.7 68.8624 1497.15 Q70.6911 1493.59 70.6911 1486.48 Q70.6911 1479.35 68.8624 1475.81 Q67.0569 1472.25 63.4226 1472.25 M63.4226 1468.54 Q69.2328 1468.54 72.2883 1473.15 Q75.367 1477.73 75.367 1486.48 Q75.367 1495.21 72.2883 1499.82 Q69.2328 1504.4 63.4226 1504.4 Q57.6125 1504.4 54.5338 1499.82 Q51.4782 1495.21 51.4782 1486.48 Q51.4782 1477.73 54.5338 1473.15 Q57.6125 1468.54 63.4226 1468.54 Z\" fill=\"#000000\" fill-rule=\"nonzero\" fill-opacity=\"1\" /><path clip-path=\"url(#clip750)\" d=\"M83.5845 1497.85 L88.4688 1497.85 L88.4688 1503.73 L83.5845 1503.73 L83.5845 1497.85 Z\" fill=\"#000000\" fill-rule=\"nonzero\" fill-opacity=\"1\" /><path clip-path=\"url(#clip750)\" d=\"M108.654 1472.25 Q105.043 1472.25 103.214 1475.81 Q101.409 1479.35 101.409 1486.48 Q101.409 1493.59 103.214 1497.15 Q105.043 1500.7 108.654 1500.7 Q112.288 1500.7 114.094 1497.15 Q115.922 1493.59 115.922 1486.48 Q115.922 1479.35 114.094 1475.81 Q112.288 1472.25 108.654 1472.25 M108.654 1468.54 Q114.464 1468.54 117.52 1473.15 Q120.598 1477.73 120.598 1486.48 Q120.598 1495.21 117.52 1499.82 Q114.464 1504.4 108.654 1504.4 Q102.844 1504.4 99.765 1499.82 Q96.7095 1495.21 96.7095 1486.48 Q96.7095 1477.73 99.765 1473.15 Q102.844 1468.54 108.654 1468.54 Z\" fill=\"#000000\" fill-rule=\"nonzero\" fill-opacity=\"1\" /><path clip-path=\"url(#clip750)\" d=\"M64.6495 1146.63 Q61.0384 1146.63 59.2097 1150.2 Q57.4041 1153.74 57.4041 1160.87 Q57.4041 1167.98 59.2097 1171.54 Q61.0384 1175.08 64.6495 1175.08 Q68.2837 1175.08 70.0892 1171.54 Q71.9179 1167.98 71.9179 1160.87 Q71.9179 1153.74 70.0892 1150.2 Q68.2837 1146.63 64.6495 1146.63 M64.6495 1142.93 Q70.4596 1142.93 73.5152 1147.54 Q76.5938 1152.12 76.5938 1160.87 Q76.5938 1169.6 73.5152 1174.2 Q70.4596 1178.79 64.6495 1178.79 Q58.8393 1178.79 55.7606 1174.2 Q52.7051 1169.6 52.7051 1160.87 Q52.7051 1152.12 55.7606 1147.54 Q58.8393 1142.93 64.6495 1142.93 Z\" fill=\"#000000\" fill-rule=\"nonzero\" fill-opacity=\"1\" /><path clip-path=\"url(#clip750)\" d=\"M84.8114 1172.24 L89.6956 1172.24 L89.6956 1178.12 L84.8114 1178.12 L84.8114 1172.24 Z\" fill=\"#000000\" fill-rule=\"nonzero\" fill-opacity=\"1\" /><path clip-path=\"url(#clip750)\" d=\"M100.691 1174.18 L108.33 1174.18 L108.33 1147.82 L100.02 1149.48 L100.02 1145.22 L108.283 1143.56 L112.959 1143.56 L112.959 1174.18 L120.598 1174.18 L120.598 1178.12 L100.691 1178.12 L100.691 1174.18 Z\" fill=\"#000000\" fill-rule=\"nonzero\" fill-opacity=\"1\" /><path clip-path=\"url(#clip750)\" d=\"M65.0198 821.023 Q61.4087 821.023 59.58 824.588 Q57.7745 828.13 57.7745 835.259 Q57.7745 842.366 59.58 845.93 Q61.4087 849.472 65.0198 849.472 Q68.6541 849.472 70.4596 845.93 Q72.2883 842.366 72.2883 835.259 Q72.2883 828.13 70.4596 824.588 Q68.6541 821.023 65.0198 821.023 M65.0198 817.319 Q70.83 817.319 73.8855 821.926 Q76.9642 826.509 76.9642 835.259 Q76.9642 843.986 73.8855 848.592 Q70.83 853.176 65.0198 853.176 Q59.2097 853.176 56.131 848.592 Q53.0754 843.986 53.0754 835.259 Q53.0754 826.509 56.131 821.926 Q59.2097 817.319 65.0198 817.319 Z\" fill=\"#000000\" fill-rule=\"nonzero\" fill-opacity=\"1\" /><path clip-path=\"url(#clip750)\" d=\"M85.1818 846.625 L90.066 846.625 L90.066 852.504 L85.1818 852.504 L85.1818 846.625 Z\" fill=\"#000000\" fill-rule=\"nonzero\" fill-opacity=\"1\" /><path clip-path=\"url(#clip750)\" d=\"M104.279 848.569 L120.598 848.569 L120.598 852.504 L98.6539 852.504 L98.6539 848.569 Q101.316 845.815 105.899 841.185 Q110.506 836.532 111.686 835.19 Q113.932 832.667 114.811 830.93 Q115.714 829.171 115.714 827.481 Q115.714 824.727 113.77 822.991 Q111.848 821.255 108.746 821.255 Q106.547 821.255 104.094 822.018 Q101.663 822.782 98.8854 824.333 L98.8854 819.611 Q101.709 818.477 104.163 817.898 Q106.617 817.319 108.654 817.319 Q114.024 817.319 117.219 820.005 Q120.413 822.69 120.413 827.181 Q120.413 829.31 119.603 831.231 Q118.816 833.13 116.709 835.722 Q116.131 836.393 113.029 839.611 Q109.927 842.805 104.279 848.569 Z\" fill=\"#000000\" fill-rule=\"nonzero\" fill-opacity=\"1\" /><path clip-path=\"url(#clip750)\" d=\"M64.0708 495.411 Q60.4597 495.411 58.631 498.976 Q56.8254 502.518 56.8254 509.647 Q56.8254 516.754 58.631 520.319 Q60.4597 523.86 64.0708 523.86 Q67.705 523.86 69.5105 520.319 Q71.3392 516.754 71.3392 509.647 Q71.3392 502.518 69.5105 498.976 Q67.705 495.411 64.0708 495.411 M64.0708 491.708 Q69.8809 491.708 72.9365 496.314 Q76.0151 500.897 76.0151 509.647 Q76.0151 518.374 72.9365 522.981 Q69.8809 527.564 64.0708 527.564 Q58.2606 527.564 55.1819 522.981 Q52.1264 518.374 52.1264 509.647 Q52.1264 500.897 55.1819 496.314 Q58.2606 491.708 64.0708 491.708 Z\" fill=\"#000000\" fill-rule=\"nonzero\" fill-opacity=\"1\" /><path clip-path=\"url(#clip750)\" d=\"M84.2327 521.013 L89.1169 521.013 L89.1169 526.893 L84.2327 526.893 L84.2327 521.013 Z\" fill=\"#000000\" fill-rule=\"nonzero\" fill-opacity=\"1\" /><path clip-path=\"url(#clip750)\" d=\"M113.469 508.259 Q116.825 508.976 118.7 511.245 Q120.598 513.513 120.598 516.846 Q120.598 521.962 117.08 524.763 Q113.561 527.564 107.08 527.564 Q104.904 527.564 102.589 527.124 Q100.297 526.708 97.8437 525.851 L97.8437 521.337 Q99.7882 522.471 102.103 523.05 Q104.418 523.629 106.941 523.629 Q111.339 523.629 113.631 521.893 Q115.945 520.157 115.945 516.846 Q115.945 513.791 113.793 512.078 Q111.663 510.342 107.844 510.342 L103.816 510.342 L103.816 506.499 L108.029 506.499 Q111.478 506.499 113.307 505.134 Q115.135 503.745 115.135 501.152 Q115.135 498.49 113.237 497.078 Q111.362 495.643 107.844 495.643 Q105.922 495.643 103.723 496.06 Q101.524 496.476 98.8854 497.356 L98.8854 493.189 Q101.547 492.448 103.862 492.078 Q106.2 491.708 108.26 491.708 Q113.584 491.708 116.686 494.138 Q119.788 496.546 119.788 500.666 Q119.788 503.536 118.145 505.527 Q116.501 507.495 113.469 508.259 Z\" fill=\"#000000\" fill-rule=\"nonzero\" fill-opacity=\"1\" /><path clip-path=\"url(#clip750)\" d=\"M62.9365 169.8 Q59.3254 169.8 57.4967 173.364 Q55.6912 176.906 55.6912 184.036 Q55.6912 191.142 57.4967 194.707 Q59.3254 198.249 62.9365 198.249 Q66.5707 198.249 68.3763 194.707 Q70.205 191.142 70.205 184.036 Q70.205 176.906 68.3763 173.364 Q66.5707 169.8 62.9365 169.8 M62.9365 166.096 Q68.7467 166.096 71.8022 170.702 Q74.8809 175.286 74.8809 184.036 Q74.8809 192.763 71.8022 197.369 Q68.7467 201.952 62.9365 201.952 Q57.1264 201.952 54.0477 197.369 Q50.9921 192.763 50.9921 184.036 Q50.9921 175.286 54.0477 170.702 Q57.1264 166.096 62.9365 166.096 Z\" fill=\"#000000\" fill-rule=\"nonzero\" fill-opacity=\"1\" /><path clip-path=\"url(#clip750)\" d=\"M83.0984 195.401 L87.9827 195.401 L87.9827 201.281 L83.0984 201.281 L83.0984 195.401 Z\" fill=\"#000000\" fill-rule=\"nonzero\" fill-opacity=\"1\" /><path clip-path=\"url(#clip750)\" d=\"M111.015 170.795 L99.2095 189.244 L111.015 189.244 L111.015 170.795 M109.788 166.721 L115.668 166.721 L115.668 189.244 L120.598 189.244 L120.598 193.133 L115.668 193.133 L115.668 201.281 L111.015 201.281 L111.015 193.133 L95.4132 193.133 L95.4132 188.619 L109.788 166.721 Z\" fill=\"#000000\" fill-rule=\"nonzero\" fill-opacity=\"1\" /><path clip-path=\"url(#clip752)\" d=\"M277.391 1479.94 L277.391 1486.45 L304.166 1486.45 L304.166 1479.94 L277.391 1479.94 L277.391 1479.94  Z\" fill=\"#009af9\" fill-rule=\"evenodd\" fill-opacity=\"0.8\"/>\n",
       "<polyline clip-path=\"url(#clip752)\" style=\"stroke:#000000; stroke-linecap:round; stroke-linejoin:round; stroke-width:4; stroke-opacity:0.8; fill:none\" points=\"277.391,1479.94 277.391,1486.45 304.166,1486.45 304.166,1479.94 277.391,1479.94 \"/>\n",
       "<path clip-path=\"url(#clip752)\" d=\"M304.166 1479.94 L304.166 1486.45 L330.941 1486.45 L330.941 1479.94 L304.166 1479.94 L304.166 1479.94  Z\" fill=\"#009af9\" fill-rule=\"evenodd\" fill-opacity=\"0.8\"/>\n",
       "<polyline clip-path=\"url(#clip752)\" style=\"stroke:#000000; stroke-linecap:round; stroke-linejoin:round; stroke-width:4; stroke-opacity:0.8; fill:none\" points=\"304.166,1479.94 304.166,1486.45 330.941,1486.45 330.941,1479.94 304.166,1479.94 \"/>\n",
       "<path clip-path=\"url(#clip752)\" d=\"M330.941 1486.45 L330.941 1486.45 L357.716 1486.45 L357.716 1486.45 L330.941 1486.45 L330.941 1486.45  Z\" fill=\"#009af9\" fill-rule=\"evenodd\" fill-opacity=\"0.8\"/>\n",
       "<polyline clip-path=\"url(#clip752)\" style=\"stroke:#000000; stroke-linecap:round; stroke-linejoin:round; stroke-width:4; stroke-opacity:0.8; fill:none\" points=\"330.941,1486.45 330.941,1486.45 357.716,1486.45 330.941,1486.45 \"/>\n",
       "<path clip-path=\"url(#clip752)\" d=\"M357.716 1479.94 L357.716 1486.45 L384.491 1486.45 L384.491 1479.94 L357.716 1479.94 L357.716 1479.94  Z\" fill=\"#009af9\" fill-rule=\"evenodd\" fill-opacity=\"0.8\"/>\n",
       "<polyline clip-path=\"url(#clip752)\" style=\"stroke:#000000; stroke-linecap:round; stroke-linejoin:round; stroke-width:4; stroke-opacity:0.8; fill:none\" points=\"357.716,1479.94 357.716,1486.45 384.491,1486.45 384.491,1479.94 357.716,1479.94 \"/>\n",
       "<path clip-path=\"url(#clip752)\" d=\"M384.491 1486.45 L384.491 1486.45 L411.266 1486.45 L411.266 1486.45 L384.491 1486.45 L384.491 1486.45  Z\" fill=\"#009af9\" fill-rule=\"evenodd\" fill-opacity=\"0.8\"/>\n",
       "<polyline clip-path=\"url(#clip752)\" style=\"stroke:#000000; stroke-linecap:round; stroke-linejoin:round; stroke-width:4; stroke-opacity:0.8; fill:none\" points=\"384.491,1486.45 384.491,1486.45 411.266,1486.45 384.491,1486.45 \"/>\n",
       "<path clip-path=\"url(#clip752)\" d=\"M411.266 1479.94 L411.266 1486.45 L438.041 1486.45 L438.041 1479.94 L411.266 1479.94 L411.266 1479.94  Z\" fill=\"#009af9\" fill-rule=\"evenodd\" fill-opacity=\"0.8\"/>\n",
       "<polyline clip-path=\"url(#clip752)\" style=\"stroke:#000000; stroke-linecap:round; stroke-linejoin:round; stroke-width:4; stroke-opacity:0.8; fill:none\" points=\"411.266,1479.94 411.266,1486.45 438.041,1486.45 438.041,1479.94 411.266,1479.94 \"/>\n",
       "<path clip-path=\"url(#clip752)\" d=\"M438.041 1479.94 L438.041 1486.45 L464.816 1486.45 L464.816 1479.94 L438.041 1479.94 L438.041 1479.94  Z\" fill=\"#009af9\" fill-rule=\"evenodd\" fill-opacity=\"0.8\"/>\n",
       "<polyline clip-path=\"url(#clip752)\" style=\"stroke:#000000; stroke-linecap:round; stroke-linejoin:round; stroke-width:4; stroke-opacity:0.8; fill:none\" points=\"438.041,1479.94 438.041,1486.45 464.816,1486.45 464.816,1479.94 438.041,1479.94 \"/>\n",
       "<path clip-path=\"url(#clip752)\" d=\"M464.816 1460.4 L464.816 1486.45 L491.591 1486.45 L491.591 1460.4 L464.816 1460.4 L464.816 1460.4  Z\" fill=\"#009af9\" fill-rule=\"evenodd\" fill-opacity=\"0.8\"/>\n",
       "<polyline clip-path=\"url(#clip752)\" style=\"stroke:#000000; stroke-linecap:round; stroke-linejoin:round; stroke-width:4; stroke-opacity:0.8; fill:none\" points=\"464.816,1460.4 464.816,1486.45 491.591,1486.45 491.591,1460.4 464.816,1460.4 \"/>\n",
       "<path clip-path=\"url(#clip752)\" d=\"M491.591 1460.4 L491.591 1486.45 L518.366 1486.45 L518.366 1460.4 L491.591 1460.4 L491.591 1460.4  Z\" fill=\"#009af9\" fill-rule=\"evenodd\" fill-opacity=\"0.8\"/>\n",
       "<polyline clip-path=\"url(#clip752)\" style=\"stroke:#000000; stroke-linecap:round; stroke-linejoin:round; stroke-width:4; stroke-opacity:0.8; fill:none\" points=\"491.591,1460.4 491.591,1486.45 518.366,1486.45 518.366,1460.4 491.591,1460.4 \"/>\n",
       "<path clip-path=\"url(#clip752)\" d=\"M518.366 1447.37 L518.366 1486.45 L545.14 1486.45 L545.14 1447.37 L518.366 1447.37 L518.366 1447.37  Z\" fill=\"#009af9\" fill-rule=\"evenodd\" fill-opacity=\"0.8\"/>\n",
       "<polyline clip-path=\"url(#clip752)\" style=\"stroke:#000000; stroke-linecap:round; stroke-linejoin:round; stroke-width:4; stroke-opacity:0.8; fill:none\" points=\"518.366,1447.37 518.366,1486.45 545.14,1486.45 545.14,1447.37 518.366,1447.37 \"/>\n",
       "<path clip-path=\"url(#clip752)\" d=\"M545.14 1447.37 L545.14 1486.45 L571.915 1486.45 L571.915 1447.37 L545.14 1447.37 L545.14 1447.37  Z\" fill=\"#009af9\" fill-rule=\"evenodd\" fill-opacity=\"0.8\"/>\n",
       "<polyline clip-path=\"url(#clip752)\" style=\"stroke:#000000; stroke-linecap:round; stroke-linejoin:round; stroke-width:4; stroke-opacity:0.8; fill:none\" points=\"545.14,1447.37 545.14,1486.45 571.915,1486.45 571.915,1447.37 545.14,1447.37 \"/>\n",
       "<path clip-path=\"url(#clip752)\" d=\"M571.915 1440.86 L571.915 1486.45 L598.69 1486.45 L598.69 1440.86 L571.915 1440.86 L571.915 1440.86  Z\" fill=\"#009af9\" fill-rule=\"evenodd\" fill-opacity=\"0.8\"/>\n",
       "<polyline clip-path=\"url(#clip752)\" style=\"stroke:#000000; stroke-linecap:round; stroke-linejoin:round; stroke-width:4; stroke-opacity:0.8; fill:none\" points=\"571.915,1440.86 571.915,1486.45 598.69,1486.45 598.69,1440.86 571.915,1440.86 \"/>\n",
       "<path clip-path=\"url(#clip752)\" d=\"M598.69 1408.3 L598.69 1486.45 L625.465 1486.45 L625.465 1408.3 L598.69 1408.3 L598.69 1408.3  Z\" fill=\"#009af9\" fill-rule=\"evenodd\" fill-opacity=\"0.8\"/>\n",
       "<polyline clip-path=\"url(#clip752)\" style=\"stroke:#000000; stroke-linecap:round; stroke-linejoin:round; stroke-width:4; stroke-opacity:0.8; fill:none\" points=\"598.69,1408.3 598.69,1486.45 625.465,1486.45 625.465,1408.3 598.69,1408.3 \"/>\n",
       "<path clip-path=\"url(#clip752)\" d=\"M625.465 1408.3 L625.465 1486.45 L652.24 1486.45 L652.24 1408.3 L625.465 1408.3 L625.465 1408.3  Z\" fill=\"#009af9\" fill-rule=\"evenodd\" fill-opacity=\"0.8\"/>\n",
       "<polyline clip-path=\"url(#clip752)\" style=\"stroke:#000000; stroke-linecap:round; stroke-linejoin:round; stroke-width:4; stroke-opacity:0.8; fill:none\" points=\"625.465,1408.3 625.465,1486.45 652.24,1486.45 652.24,1408.3 625.465,1408.3 \"/>\n",
       "<path clip-path=\"url(#clip752)\" d=\"M652.24 1317.13 L652.24 1486.45 L679.015 1486.45 L679.015 1317.13 L652.24 1317.13 L652.24 1317.13  Z\" fill=\"#009af9\" fill-rule=\"evenodd\" fill-opacity=\"0.8\"/>\n",
       "<polyline clip-path=\"url(#clip752)\" style=\"stroke:#000000; stroke-linecap:round; stroke-linejoin:round; stroke-width:4; stroke-opacity:0.8; fill:none\" points=\"652.24,1317.13 652.24,1486.45 679.015,1486.45 679.015,1317.13 652.24,1317.13 \"/>\n",
       "<path clip-path=\"url(#clip752)\" d=\"M679.015 1323.64 L679.015 1486.45 L705.79 1486.45 L705.79 1323.64 L679.015 1323.64 L679.015 1323.64  Z\" fill=\"#009af9\" fill-rule=\"evenodd\" fill-opacity=\"0.8\"/>\n",
       "<polyline clip-path=\"url(#clip752)\" style=\"stroke:#000000; stroke-linecap:round; stroke-linejoin:round; stroke-width:4; stroke-opacity:0.8; fill:none\" points=\"679.015,1323.64 679.015,1486.45 705.79,1486.45 705.79,1323.64 679.015,1323.64 \"/>\n",
       "<path clip-path=\"url(#clip752)\" d=\"M705.79 1343.18 L705.79 1486.45 L732.565 1486.45 L732.565 1343.18 L705.79 1343.18 L705.79 1343.18  Z\" fill=\"#009af9\" fill-rule=\"evenodd\" fill-opacity=\"0.8\"/>\n",
       "<polyline clip-path=\"url(#clip752)\" style=\"stroke:#000000; stroke-linecap:round; stroke-linejoin:round; stroke-width:4; stroke-opacity:0.8; fill:none\" points=\"705.79,1343.18 705.79,1486.45 732.565,1486.45 732.565,1343.18 705.79,1343.18 \"/>\n",
       "<path clip-path=\"url(#clip752)\" d=\"M732.565 1317.13 L732.565 1486.45 L759.34 1486.45 L759.34 1317.13 L732.565 1317.13 L732.565 1317.13  Z\" fill=\"#009af9\" fill-rule=\"evenodd\" fill-opacity=\"0.8\"/>\n",
       "<polyline clip-path=\"url(#clip752)\" style=\"stroke:#000000; stroke-linecap:round; stroke-linejoin:round; stroke-width:4; stroke-opacity:0.8; fill:none\" points=\"732.565,1317.13 732.565,1486.45 759.34,1486.45 759.34,1317.13 732.565,1317.13 \"/>\n",
       "<path clip-path=\"url(#clip752)\" d=\"M759.34 1173.86 L759.34 1486.45 L786.115 1486.45 L786.115 1173.86 L759.34 1173.86 L759.34 1173.86  Z\" fill=\"#009af9\" fill-rule=\"evenodd\" fill-opacity=\"0.8\"/>\n",
       "<polyline clip-path=\"url(#clip752)\" style=\"stroke:#000000; stroke-linecap:round; stroke-linejoin:round; stroke-width:4; stroke-opacity:0.8; fill:none\" points=\"759.34,1173.86 759.34,1486.45 786.115,1486.45 786.115,1173.86 759.34,1173.86 \"/>\n",
       "<path clip-path=\"url(#clip752)\" d=\"M786.115 1225.96 L786.115 1486.45 L812.89 1486.45 L812.89 1225.96 L786.115 1225.96 L786.115 1225.96  Z\" fill=\"#009af9\" fill-rule=\"evenodd\" fill-opacity=\"0.8\"/>\n",
       "<polyline clip-path=\"url(#clip752)\" style=\"stroke:#000000; stroke-linecap:round; stroke-linejoin:round; stroke-width:4; stroke-opacity:0.8; fill:none\" points=\"786.115,1225.96 786.115,1486.45 812.89,1486.45 812.89,1225.96 786.115,1225.96 \"/>\n",
       "<path clip-path=\"url(#clip752)\" d=\"M812.89 1147.81 L812.89 1486.45 L839.665 1486.45 L839.665 1147.81 L812.89 1147.81 L812.89 1147.81  Z\" fill=\"#009af9\" fill-rule=\"evenodd\" fill-opacity=\"0.8\"/>\n",
       "<polyline clip-path=\"url(#clip752)\" style=\"stroke:#000000; stroke-linecap:round; stroke-linejoin:round; stroke-width:4; stroke-opacity:0.8; fill:none\" points=\"812.89,1147.81 812.89,1486.45 839.665,1486.45 839.665,1147.81 812.89,1147.81 \"/>\n",
       "<path clip-path=\"url(#clip752)\" d=\"M839.665 1108.74 L839.665 1486.45 L866.44 1486.45 L866.44 1108.74 L839.665 1108.74 L839.665 1108.74  Z\" fill=\"#009af9\" fill-rule=\"evenodd\" fill-opacity=\"0.8\"/>\n",
       "<polyline clip-path=\"url(#clip752)\" style=\"stroke:#000000; stroke-linecap:round; stroke-linejoin:round; stroke-width:4; stroke-opacity:0.8; fill:none\" points=\"839.665,1108.74 839.665,1486.45 866.44,1486.45 866.44,1108.74 839.665,1108.74 \"/>\n",
       "<path clip-path=\"url(#clip752)\" d=\"M866.44 991.518 L866.44 1486.45 L893.215 1486.45 L893.215 991.518 L866.44 991.518 L866.44 991.518  Z\" fill=\"#009af9\" fill-rule=\"evenodd\" fill-opacity=\"0.8\"/>\n",
       "<polyline clip-path=\"url(#clip752)\" style=\"stroke:#000000; stroke-linecap:round; stroke-linejoin:round; stroke-width:4; stroke-opacity:0.8; fill:none\" points=\"866.44,991.518 866.44,1486.45 893.215,1486.45 893.215,991.518 866.44,991.518 \"/>\n",
       "<path clip-path=\"url(#clip752)\" d=\"M893.215 958.957 L893.215 1486.45 L919.99 1486.45 L919.99 958.957 L893.215 958.957 L893.215 958.957  Z\" fill=\"#009af9\" fill-rule=\"evenodd\" fill-opacity=\"0.8\"/>\n",
       "<polyline clip-path=\"url(#clip752)\" style=\"stroke:#000000; stroke-linecap:round; stroke-linejoin:round; stroke-width:4; stroke-opacity:0.8; fill:none\" points=\"893.215,958.957 893.215,1486.45 919.99,1486.45 919.99,958.957 893.215,958.957 \"/>\n",
       "<path clip-path=\"url(#clip752)\" d=\"M919.99 750.565 L919.99 1486.45 L946.765 1486.45 L946.765 750.565 L919.99 750.565 L919.99 750.565  Z\" fill=\"#009af9\" fill-rule=\"evenodd\" fill-opacity=\"0.8\"/>\n",
       "<polyline clip-path=\"url(#clip752)\" style=\"stroke:#000000; stroke-linecap:round; stroke-linejoin:round; stroke-width:4; stroke-opacity:0.8; fill:none\" points=\"919.99,750.565 919.99,1486.45 946.765,1486.45 946.765,750.565 919.99,750.565 \"/>\n",
       "<path clip-path=\"url(#clip752)\" d=\"M946.765 691.955 L946.765 1486.45 L973.54 1486.45 L973.54 691.955 L946.765 691.955 L946.765 691.955  Z\" fill=\"#009af9\" fill-rule=\"evenodd\" fill-opacity=\"0.8\"/>\n",
       "<polyline clip-path=\"url(#clip752)\" style=\"stroke:#000000; stroke-linecap:round; stroke-linejoin:round; stroke-width:4; stroke-opacity:0.8; fill:none\" points=\"946.765,691.955 946.765,1486.45 973.54,1486.45 973.54,691.955 946.765,691.955 \"/>\n",
       "<path clip-path=\"url(#clip752)\" d=\"M973.54 659.394 L973.54 1486.45 L1000.31 1486.45 L1000.31 659.394 L973.54 659.394 L973.54 659.394  Z\" fill=\"#009af9\" fill-rule=\"evenodd\" fill-opacity=\"0.8\"/>\n",
       "<polyline clip-path=\"url(#clip752)\" style=\"stroke:#000000; stroke-linecap:round; stroke-linejoin:round; stroke-width:4; stroke-opacity:0.8; fill:none\" points=\"973.54,659.394 973.54,1486.45 1000.31,1486.45 1000.31,659.394 973.54,659.394 \"/>\n",
       "<path clip-path=\"url(#clip752)\" d=\"M1000.31 711.492 L1000.31 1486.45 L1027.09 1486.45 L1027.09 711.492 L1000.31 711.492 L1000.31 711.492  Z\" fill=\"#009af9\" fill-rule=\"evenodd\" fill-opacity=\"0.8\"/>\n",
       "<polyline clip-path=\"url(#clip752)\" style=\"stroke:#000000; stroke-linecap:round; stroke-linejoin:round; stroke-width:4; stroke-opacity:0.8; fill:none\" points=\"1000.31,711.492 1000.31,1486.45 1027.09,1486.45 1027.09,711.492 1000.31,711.492 \"/>\n",
       "<path clip-path=\"url(#clip752)\" d=\"M1027.09 464.027 L1027.09 1486.45 L1053.86 1486.45 L1053.86 464.027 L1027.09 464.027 L1027.09 464.027  Z\" fill=\"#009af9\" fill-rule=\"evenodd\" fill-opacity=\"0.8\"/>\n",
       "<polyline clip-path=\"url(#clip752)\" style=\"stroke:#000000; stroke-linecap:round; stroke-linejoin:round; stroke-width:4; stroke-opacity:0.8; fill:none\" points=\"1027.09,464.027 1027.09,1486.45 1053.86,1486.45 1053.86,464.027 1027.09,464.027 \"/>\n",
       "<path clip-path=\"url(#clip752)\" d=\"M1053.86 496.588 L1053.86 1486.45 L1080.64 1486.45 L1080.64 496.588 L1053.86 496.588 L1053.86 496.588  Z\" fill=\"#009af9\" fill-rule=\"evenodd\" fill-opacity=\"0.8\"/>\n",
       "<polyline clip-path=\"url(#clip752)\" style=\"stroke:#000000; stroke-linecap:round; stroke-linejoin:round; stroke-width:4; stroke-opacity:0.8; fill:none\" points=\"1053.86,496.588 1053.86,1486.45 1080.64,1486.45 1080.64,496.588 1053.86,496.588 \"/>\n",
       "<path clip-path=\"url(#clip752)\" d=\"M1080.64 464.027 L1080.64 1486.45 L1107.41 1486.45 L1107.41 464.027 L1080.64 464.027 L1080.64 464.027  Z\" fill=\"#009af9\" fill-rule=\"evenodd\" fill-opacity=\"0.8\"/>\n",
       "<polyline clip-path=\"url(#clip752)\" style=\"stroke:#000000; stroke-linecap:round; stroke-linejoin:round; stroke-width:4; stroke-opacity:0.8; fill:none\" points=\"1080.64,464.027 1080.64,1486.45 1107.41,1486.45 1107.41,464.027 1080.64,464.027 \"/>\n",
       "<path clip-path=\"url(#clip752)\" d=\"M1107.41 210.05 L1107.41 1486.45 L1134.19 1486.45 L1134.19 210.05 L1107.41 210.05 L1107.41 210.05  Z\" fill=\"#009af9\" fill-rule=\"evenodd\" fill-opacity=\"0.8\"/>\n",
       "<polyline clip-path=\"url(#clip752)\" style=\"stroke:#000000; stroke-linecap:round; stroke-linejoin:round; stroke-width:4; stroke-opacity:0.8; fill:none\" points=\"1107.41,210.05 1107.41,1486.45 1134.19,1486.45 1134.19,210.05 1107.41,210.05 \"/>\n",
       "<path clip-path=\"url(#clip752)\" d=\"M1134.19 451.003 L1134.19 1486.45 L1160.96 1486.45 L1160.96 451.003 L1134.19 451.003 L1134.19 451.003  Z\" fill=\"#009af9\" fill-rule=\"evenodd\" fill-opacity=\"0.8\"/>\n",
       "<polyline clip-path=\"url(#clip752)\" style=\"stroke:#000000; stroke-linecap:round; stroke-linejoin:round; stroke-width:4; stroke-opacity:0.8; fill:none\" points=\"1134.19,451.003 1134.19,1486.45 1160.96,1486.45 1160.96,451.003 1134.19,451.003 \"/>\n",
       "<path clip-path=\"url(#clip752)\" d=\"M1160.96 131.903 L1160.96 1486.45 L1187.74 1486.45 L1187.74 131.903 L1160.96 131.903 L1160.96 131.903  Z\" fill=\"#009af9\" fill-rule=\"evenodd\" fill-opacity=\"0.8\"/>\n",
       "<polyline clip-path=\"url(#clip752)\" style=\"stroke:#000000; stroke-linecap:round; stroke-linejoin:round; stroke-width:4; stroke-opacity:0.8; fill:none\" points=\"1160.96,131.903 1160.96,1486.45 1187.74,1486.45 1187.74,131.903 1160.96,131.903 \"/>\n",
       "<path clip-path=\"url(#clip752)\" d=\"M1187.74 47.2441 L1187.74 1486.45 L1214.51 1486.45 L1214.51 47.2441 L1187.74 47.2441 L1187.74 47.2441  Z\" fill=\"#009af9\" fill-rule=\"evenodd\" fill-opacity=\"0.8\"/>\n",
       "<polyline clip-path=\"url(#clip752)\" style=\"stroke:#000000; stroke-linecap:round; stroke-linejoin:round; stroke-width:4; stroke-opacity:0.8; fill:none\" points=\"1187.74,47.2441 1187.74,1486.45 1214.51,1486.45 1214.51,47.2441 1187.74,47.2441 \"/>\n",
       "<path clip-path=\"url(#clip752)\" d=\"M1214.51 92.8297 L1214.51 1486.45 L1241.29 1486.45 L1241.29 92.8297 L1214.51 92.8297 L1214.51 92.8297  Z\" fill=\"#009af9\" fill-rule=\"evenodd\" fill-opacity=\"0.8\"/>\n",
       "<polyline clip-path=\"url(#clip752)\" style=\"stroke:#000000; stroke-linecap:round; stroke-linejoin:round; stroke-width:4; stroke-opacity:0.8; fill:none\" points=\"1214.51,92.8297 1214.51,1486.45 1241.29,1486.45 1241.29,92.8297 1214.51,92.8297 \"/>\n",
       "<path clip-path=\"url(#clip752)\" d=\"M1241.29 105.854 L1241.29 1486.45 L1268.06 1486.45 L1268.06 105.854 L1241.29 105.854 L1241.29 105.854  Z\" fill=\"#009af9\" fill-rule=\"evenodd\" fill-opacity=\"0.8\"/>\n",
       "<polyline clip-path=\"url(#clip752)\" style=\"stroke:#000000; stroke-linecap:round; stroke-linejoin:round; stroke-width:4; stroke-opacity:0.8; fill:none\" points=\"1241.29,105.854 1241.29,1486.45 1268.06,1486.45 1268.06,105.854 1241.29,105.854 \"/>\n",
       "<path clip-path=\"url(#clip752)\" d=\"M1268.06 131.903 L1268.06 1486.45 L1294.84 1486.45 L1294.84 131.903 L1268.06 131.903 L1268.06 131.903  Z\" fill=\"#009af9\" fill-rule=\"evenodd\" fill-opacity=\"0.8\"/>\n",
       "<polyline clip-path=\"url(#clip752)\" style=\"stroke:#000000; stroke-linecap:round; stroke-linejoin:round; stroke-width:4; stroke-opacity:0.8; fill:none\" points=\"1268.06,131.903 1268.06,1486.45 1294.84,1486.45 1294.84,131.903 1268.06,131.903 \"/>\n",
       "<path clip-path=\"url(#clip752)\" d=\"M1294.84 184.001 L1294.84 1486.45 L1321.61 1486.45 L1321.61 184.001 L1294.84 184.001 L1294.84 184.001  Z\" fill=\"#009af9\" fill-rule=\"evenodd\" fill-opacity=\"0.8\"/>\n",
       "<polyline clip-path=\"url(#clip752)\" style=\"stroke:#000000; stroke-linecap:round; stroke-linejoin:round; stroke-width:4; stroke-opacity:0.8; fill:none\" points=\"1294.84,184.001 1294.84,1486.45 1321.61,1486.45 1321.61,184.001 1294.84,184.001 \"/>\n",
       "<path clip-path=\"url(#clip752)\" d=\"M1321.61 242.611 L1321.61 1486.45 L1348.39 1486.45 L1348.39 242.611 L1321.61 242.611 L1321.61 242.611  Z\" fill=\"#009af9\" fill-rule=\"evenodd\" fill-opacity=\"0.8\"/>\n",
       "<polyline clip-path=\"url(#clip752)\" style=\"stroke:#000000; stroke-linecap:round; stroke-linejoin:round; stroke-width:4; stroke-opacity:0.8; fill:none\" points=\"1321.61,242.611 1321.61,1486.45 1348.39,1486.45 1348.39,242.611 1321.61,242.611 \"/>\n",
       "<path clip-path=\"url(#clip752)\" d=\"M1348.39 340.295 L1348.39 1486.45 L1375.16 1486.45 L1375.16 340.295 L1348.39 340.295 L1348.39 340.295  Z\" fill=\"#009af9\" fill-rule=\"evenodd\" fill-opacity=\"0.8\"/>\n",
       "<polyline clip-path=\"url(#clip752)\" style=\"stroke:#000000; stroke-linecap:round; stroke-linejoin:round; stroke-width:4; stroke-opacity:0.8; fill:none\" points=\"1348.39,340.295 1348.39,1486.45 1375.16,1486.45 1375.16,340.295 1348.39,340.295 \"/>\n",
       "<path clip-path=\"url(#clip752)\" d=\"M1375.16 392.393 L1375.16 1486.45 L1401.94 1486.45 L1401.94 392.393 L1375.16 392.393 L1375.16 392.393  Z\" fill=\"#009af9\" fill-rule=\"evenodd\" fill-opacity=\"0.8\"/>\n",
       "<polyline clip-path=\"url(#clip752)\" style=\"stroke:#000000; stroke-linecap:round; stroke-linejoin:round; stroke-width:4; stroke-opacity:0.8; fill:none\" points=\"1375.16,392.393 1375.16,1486.45 1401.94,1486.45 1401.94,392.393 1375.16,392.393 \"/>\n",
       "<path clip-path=\"url(#clip752)\" d=\"M1401.94 392.393 L1401.94 1486.45 L1428.71 1486.45 L1428.71 392.393 L1401.94 392.393 L1401.94 392.393  Z\" fill=\"#009af9\" fill-rule=\"evenodd\" fill-opacity=\"0.8\"/>\n",
       "<polyline clip-path=\"url(#clip752)\" style=\"stroke:#000000; stroke-linecap:round; stroke-linejoin:round; stroke-width:4; stroke-opacity:0.8; fill:none\" points=\"1401.94,392.393 1401.94,1486.45 1428.71,1486.45 1428.71,392.393 1401.94,392.393 \"/>\n",
       "<path clip-path=\"url(#clip752)\" d=\"M1428.71 561.711 L1428.71 1486.45 L1455.49 1486.45 L1455.49 561.711 L1428.71 561.711 L1428.71 561.711  Z\" fill=\"#009af9\" fill-rule=\"evenodd\" fill-opacity=\"0.8\"/>\n",
       "<polyline clip-path=\"url(#clip752)\" style=\"stroke:#000000; stroke-linecap:round; stroke-linejoin:round; stroke-width:4; stroke-opacity:0.8; fill:none\" points=\"1428.71,561.711 1428.71,1486.45 1455.49,1486.45 1455.49,561.711 1428.71,561.711 \"/>\n",
       "<path clip-path=\"url(#clip752)\" d=\"M1455.49 568.223 L1455.49 1486.45 L1482.26 1486.45 L1482.26 568.223 L1455.49 568.223 L1455.49 568.223  Z\" fill=\"#009af9\" fill-rule=\"evenodd\" fill-opacity=\"0.8\"/>\n",
       "<polyline clip-path=\"url(#clip752)\" style=\"stroke:#000000; stroke-linecap:round; stroke-linejoin:round; stroke-width:4; stroke-opacity:0.8; fill:none\" points=\"1455.49,568.223 1455.49,1486.45 1482.26,1486.45 1482.26,568.223 1455.49,568.223 \"/>\n",
       "<path clip-path=\"url(#clip752)\" d=\"M1482.26 639.857 L1482.26 1486.45 L1509.04 1486.45 L1509.04 639.857 L1482.26 639.857 L1482.26 639.857  Z\" fill=\"#009af9\" fill-rule=\"evenodd\" fill-opacity=\"0.8\"/>\n",
       "<polyline clip-path=\"url(#clip752)\" style=\"stroke:#000000; stroke-linecap:round; stroke-linejoin:round; stroke-width:4; stroke-opacity:0.8; fill:none\" points=\"1482.26,639.857 1482.26,1486.45 1509.04,1486.45 1509.04,639.857 1482.26,639.857 \"/>\n",
       "<path clip-path=\"url(#clip752)\" d=\"M1509.04 737.541 L1509.04 1486.45 L1535.81 1486.45 L1535.81 737.541 L1509.04 737.541 L1509.04 737.541  Z\" fill=\"#009af9\" fill-rule=\"evenodd\" fill-opacity=\"0.8\"/>\n",
       "<polyline clip-path=\"url(#clip752)\" style=\"stroke:#000000; stroke-linecap:round; stroke-linejoin:round; stroke-width:4; stroke-opacity:0.8; fill:none\" points=\"1509.04,737.541 1509.04,1486.45 1535.81,1486.45 1535.81,737.541 1509.04,737.541 \"/>\n",
       "<path clip-path=\"url(#clip752)\" d=\"M1535.81 802.663 L1535.81 1486.45 L1562.59 1486.45 L1562.59 802.663 L1535.81 802.663 L1535.81 802.663  Z\" fill=\"#009af9\" fill-rule=\"evenodd\" fill-opacity=\"0.8\"/>\n",
       "<polyline clip-path=\"url(#clip752)\" style=\"stroke:#000000; stroke-linecap:round; stroke-linejoin:round; stroke-width:4; stroke-opacity:0.8; fill:none\" points=\"1535.81,802.663 1535.81,1486.45 1562.59,1486.45 1562.59,802.663 1535.81,802.663 \"/>\n",
       "<path clip-path=\"url(#clip752)\" d=\"M1562.59 867.786 L1562.59 1486.45 L1589.36 1486.45 L1589.36 867.786 L1562.59 867.786 L1562.59 867.786  Z\" fill=\"#009af9\" fill-rule=\"evenodd\" fill-opacity=\"0.8\"/>\n",
       "<polyline clip-path=\"url(#clip752)\" style=\"stroke:#000000; stroke-linecap:round; stroke-linejoin:round; stroke-width:4; stroke-opacity:0.8; fill:none\" points=\"1562.59,867.786 1562.59,1486.45 1589.36,1486.45 1589.36,867.786 1562.59,867.786 \"/>\n",
       "<path clip-path=\"url(#clip752)\" d=\"M1589.36 848.249 L1589.36 1486.45 L1616.14 1486.45 L1616.14 848.249 L1589.36 848.249 L1589.36 848.249  Z\" fill=\"#009af9\" fill-rule=\"evenodd\" fill-opacity=\"0.8\"/>\n",
       "<polyline clip-path=\"url(#clip752)\" style=\"stroke:#000000; stroke-linecap:round; stroke-linejoin:round; stroke-width:4; stroke-opacity:0.8; fill:none\" points=\"1589.36,848.249 1589.36,1486.45 1616.14,1486.45 1616.14,848.249 1589.36,848.249 \"/>\n",
       "<path clip-path=\"url(#clip752)\" d=\"M1616.14 952.445 L1616.14 1486.45 L1642.91 1486.45 L1642.91 952.445 L1616.14 952.445 L1616.14 952.445  Z\" fill=\"#009af9\" fill-rule=\"evenodd\" fill-opacity=\"0.8\"/>\n",
       "<polyline clip-path=\"url(#clip752)\" style=\"stroke:#000000; stroke-linecap:round; stroke-linejoin:round; stroke-width:4; stroke-opacity:0.8; fill:none\" points=\"1616.14,952.445 1616.14,1486.45 1642.91,1486.45 1642.91,952.445 1616.14,952.445 \"/>\n",
       "<path clip-path=\"url(#clip752)\" d=\"M1642.91 1160.84 L1642.91 1486.45 L1669.69 1486.45 L1669.69 1160.84 L1642.91 1160.84 L1642.91 1160.84  Z\" fill=\"#009af9\" fill-rule=\"evenodd\" fill-opacity=\"0.8\"/>\n",
       "<polyline clip-path=\"url(#clip752)\" style=\"stroke:#000000; stroke-linecap:round; stroke-linejoin:round; stroke-width:4; stroke-opacity:0.8; fill:none\" points=\"1642.91,1160.84 1642.91,1486.45 1669.69,1486.45 1669.69,1160.84 1642.91,1160.84 \"/>\n",
       "<path clip-path=\"url(#clip752)\" d=\"M1669.69 1167.35 L1669.69 1486.45 L1696.46 1486.45 L1696.46 1167.35 L1669.69 1167.35 L1669.69 1167.35  Z\" fill=\"#009af9\" fill-rule=\"evenodd\" fill-opacity=\"0.8\"/>\n",
       "<polyline clip-path=\"url(#clip752)\" style=\"stroke:#000000; stroke-linecap:round; stroke-linejoin:round; stroke-width:4; stroke-opacity:0.8; fill:none\" points=\"1669.69,1167.35 1669.69,1486.45 1696.46,1486.45 1696.46,1167.35 1669.69,1167.35 \"/>\n",
       "<path clip-path=\"url(#clip752)\" d=\"M1696.46 1238.98 L1696.46 1486.45 L1723.24 1486.45 L1723.24 1238.98 L1696.46 1238.98 L1696.46 1238.98  Z\" fill=\"#009af9\" fill-rule=\"evenodd\" fill-opacity=\"0.8\"/>\n",
       "<polyline clip-path=\"url(#clip752)\" style=\"stroke:#000000; stroke-linecap:round; stroke-linejoin:round; stroke-width:4; stroke-opacity:0.8; fill:none\" points=\"1696.46,1238.98 1696.46,1486.45 1723.24,1486.45 1723.24,1238.98 1696.46,1238.98 \"/>\n",
       "<path clip-path=\"url(#clip752)\" d=\"M1723.24 1252.01 L1723.24 1486.45 L1750.01 1486.45 L1750.01 1252.01 L1723.24 1252.01 L1723.24 1252.01  Z\" fill=\"#009af9\" fill-rule=\"evenodd\" fill-opacity=\"0.8\"/>\n",
       "<polyline clip-path=\"url(#clip752)\" style=\"stroke:#000000; stroke-linecap:round; stroke-linejoin:round; stroke-width:4; stroke-opacity:0.8; fill:none\" points=\"1723.24,1252.01 1723.24,1486.45 1750.01,1486.45 1750.01,1252.01 1723.24,1252.01 \"/>\n",
       "<path clip-path=\"url(#clip752)\" d=\"M1750.01 1278.06 L1750.01 1486.45 L1776.79 1486.45 L1776.79 1278.06 L1750.01 1278.06 L1750.01 1278.06  Z\" fill=\"#009af9\" fill-rule=\"evenodd\" fill-opacity=\"0.8\"/>\n",
       "<polyline clip-path=\"url(#clip752)\" style=\"stroke:#000000; stroke-linecap:round; stroke-linejoin:round; stroke-width:4; stroke-opacity:0.8; fill:none\" points=\"1750.01,1278.06 1750.01,1486.45 1776.79,1486.45 1776.79,1278.06 1750.01,1278.06 \"/>\n",
       "<path clip-path=\"url(#clip752)\" d=\"M1776.79 1310.62 L1776.79 1486.45 L1803.56 1486.45 L1803.56 1310.62 L1776.79 1310.62 L1776.79 1310.62  Z\" fill=\"#009af9\" fill-rule=\"evenodd\" fill-opacity=\"0.8\"/>\n",
       "<polyline clip-path=\"url(#clip752)\" style=\"stroke:#000000; stroke-linecap:round; stroke-linejoin:round; stroke-width:4; stroke-opacity:0.8; fill:none\" points=\"1776.79,1310.62 1776.79,1486.45 1803.56,1486.45 1803.56,1310.62 1776.79,1310.62 \"/>\n",
       "<path clip-path=\"url(#clip752)\" d=\"M1803.56 1382.25 L1803.56 1486.45 L1830.34 1486.45 L1830.34 1382.25 L1803.56 1382.25 L1803.56 1382.25  Z\" fill=\"#009af9\" fill-rule=\"evenodd\" fill-opacity=\"0.8\"/>\n",
       "<polyline clip-path=\"url(#clip752)\" style=\"stroke:#000000; stroke-linecap:round; stroke-linejoin:round; stroke-width:4; stroke-opacity:0.8; fill:none\" points=\"1803.56,1382.25 1803.56,1486.45 1830.34,1486.45 1830.34,1382.25 1803.56,1382.25 \"/>\n",
       "<path clip-path=\"url(#clip752)\" d=\"M1830.34 1395.28 L1830.34 1486.45 L1857.11 1486.45 L1857.11 1395.28 L1830.34 1395.28 L1830.34 1395.28  Z\" fill=\"#009af9\" fill-rule=\"evenodd\" fill-opacity=\"0.8\"/>\n",
       "<polyline clip-path=\"url(#clip752)\" style=\"stroke:#000000; stroke-linecap:round; stroke-linejoin:round; stroke-width:4; stroke-opacity:0.8; fill:none\" points=\"1830.34,1395.28 1830.34,1486.45 1857.11,1486.45 1857.11,1395.28 1830.34,1395.28 \"/>\n",
       "<path clip-path=\"url(#clip752)\" d=\"M1857.11 1395.28 L1857.11 1486.45 L1883.89 1486.45 L1883.89 1395.28 L1857.11 1395.28 L1857.11 1395.28  Z\" fill=\"#009af9\" fill-rule=\"evenodd\" fill-opacity=\"0.8\"/>\n",
       "<polyline clip-path=\"url(#clip752)\" style=\"stroke:#000000; stroke-linecap:round; stroke-linejoin:round; stroke-width:4; stroke-opacity:0.8; fill:none\" points=\"1857.11,1395.28 1857.11,1486.45 1883.89,1486.45 1883.89,1395.28 1857.11,1395.28 \"/>\n",
       "<path clip-path=\"url(#clip752)\" d=\"M1883.89 1421.33 L1883.89 1486.45 L1910.66 1486.45 L1910.66 1421.33 L1883.89 1421.33 L1883.89 1421.33  Z\" fill=\"#009af9\" fill-rule=\"evenodd\" fill-opacity=\"0.8\"/>\n",
       "<polyline clip-path=\"url(#clip752)\" style=\"stroke:#000000; stroke-linecap:round; stroke-linejoin:round; stroke-width:4; stroke-opacity:0.8; fill:none\" points=\"1883.89,1421.33 1883.89,1486.45 1910.66,1486.45 1910.66,1421.33 1883.89,1421.33 \"/>\n",
       "<path clip-path=\"url(#clip752)\" d=\"M1910.66 1447.37 L1910.66 1486.45 L1937.44 1486.45 L1937.44 1447.37 L1910.66 1447.37 L1910.66 1447.37  Z\" fill=\"#009af9\" fill-rule=\"evenodd\" fill-opacity=\"0.8\"/>\n",
       "<polyline clip-path=\"url(#clip752)\" style=\"stroke:#000000; stroke-linecap:round; stroke-linejoin:round; stroke-width:4; stroke-opacity:0.8; fill:none\" points=\"1910.66,1447.37 1910.66,1486.45 1937.44,1486.45 1937.44,1447.37 1910.66,1447.37 \"/>\n",
       "<path clip-path=\"url(#clip752)\" d=\"M1937.44 1460.4 L1937.44 1486.45 L1964.21 1486.45 L1964.21 1460.4 L1937.44 1460.4 L1937.44 1460.4  Z\" fill=\"#009af9\" fill-rule=\"evenodd\" fill-opacity=\"0.8\"/>\n",
       "<polyline clip-path=\"url(#clip752)\" style=\"stroke:#000000; stroke-linecap:round; stroke-linejoin:round; stroke-width:4; stroke-opacity:0.8; fill:none\" points=\"1937.44,1460.4 1937.44,1486.45 1964.21,1486.45 1964.21,1460.4 1937.44,1460.4 \"/>\n",
       "<path clip-path=\"url(#clip752)\" d=\"M1964.21 1453.89 L1964.21 1486.45 L1990.99 1486.45 L1990.99 1453.89 L1964.21 1453.89 L1964.21 1453.89  Z\" fill=\"#009af9\" fill-rule=\"evenodd\" fill-opacity=\"0.8\"/>\n",
       "<polyline clip-path=\"url(#clip752)\" style=\"stroke:#000000; stroke-linecap:round; stroke-linejoin:round; stroke-width:4; stroke-opacity:0.8; fill:none\" points=\"1964.21,1453.89 1964.21,1486.45 1990.99,1486.45 1990.99,1453.89 1964.21,1453.89 \"/>\n",
       "<path clip-path=\"url(#clip752)\" d=\"M1990.99 1466.91 L1990.99 1486.45 L2017.76 1486.45 L2017.76 1466.91 L1990.99 1466.91 L1990.99 1466.91  Z\" fill=\"#009af9\" fill-rule=\"evenodd\" fill-opacity=\"0.8\"/>\n",
       "<polyline clip-path=\"url(#clip752)\" style=\"stroke:#000000; stroke-linecap:round; stroke-linejoin:round; stroke-width:4; stroke-opacity:0.8; fill:none\" points=\"1990.99,1466.91 1990.99,1486.45 2017.76,1486.45 2017.76,1466.91 1990.99,1466.91 \"/>\n",
       "<path clip-path=\"url(#clip752)\" d=\"M2017.76 1473.42 L2017.76 1486.45 L2044.54 1486.45 L2044.54 1473.42 L2017.76 1473.42 L2017.76 1473.42  Z\" fill=\"#009af9\" fill-rule=\"evenodd\" fill-opacity=\"0.8\"/>\n",
       "<polyline clip-path=\"url(#clip752)\" style=\"stroke:#000000; stroke-linecap:round; stroke-linejoin:round; stroke-width:4; stroke-opacity:0.8; fill:none\" points=\"2017.76,1473.42 2017.76,1486.45 2044.54,1486.45 2044.54,1473.42 2017.76,1473.42 \"/>\n",
       "<path clip-path=\"url(#clip752)\" d=\"M2044.54 1486.45 L2044.54 1486.45 L2071.31 1486.45 L2071.31 1486.45 L2044.54 1486.45 L2044.54 1486.45  Z\" fill=\"#009af9\" fill-rule=\"evenodd\" fill-opacity=\"0.8\"/>\n",
       "<polyline clip-path=\"url(#clip752)\" style=\"stroke:#000000; stroke-linecap:round; stroke-linejoin:round; stroke-width:4; stroke-opacity:0.8; fill:none\" points=\"2044.54,1486.45 2044.54,1486.45 2071.31,1486.45 2044.54,1486.45 \"/>\n",
       "<path clip-path=\"url(#clip752)\" d=\"M2071.31 1466.91 L2071.31 1486.45 L2098.09 1486.45 L2098.09 1466.91 L2071.31 1466.91 L2071.31 1466.91  Z\" fill=\"#009af9\" fill-rule=\"evenodd\" fill-opacity=\"0.8\"/>\n",
       "<polyline clip-path=\"url(#clip752)\" style=\"stroke:#000000; stroke-linecap:round; stroke-linejoin:round; stroke-width:4; stroke-opacity:0.8; fill:none\" points=\"2071.31,1466.91 2071.31,1486.45 2098.09,1486.45 2098.09,1466.91 2071.31,1466.91 \"/>\n",
       "<path clip-path=\"url(#clip752)\" d=\"M2098.09 1473.42 L2098.09 1486.45 L2124.86 1486.45 L2124.86 1473.42 L2098.09 1473.42 L2098.09 1473.42  Z\" fill=\"#009af9\" fill-rule=\"evenodd\" fill-opacity=\"0.8\"/>\n",
       "<polyline clip-path=\"url(#clip752)\" style=\"stroke:#000000; stroke-linecap:round; stroke-linejoin:round; stroke-width:4; stroke-opacity:0.8; fill:none\" points=\"2098.09,1473.42 2098.09,1486.45 2124.86,1486.45 2124.86,1473.42 2098.09,1473.42 \"/>\n",
       "<path clip-path=\"url(#clip752)\" d=\"M2124.86 1473.42 L2124.86 1486.45 L2151.64 1486.45 L2151.64 1473.42 L2124.86 1473.42 L2124.86 1473.42  Z\" fill=\"#009af9\" fill-rule=\"evenodd\" fill-opacity=\"0.8\"/>\n",
       "<polyline clip-path=\"url(#clip752)\" style=\"stroke:#000000; stroke-linecap:round; stroke-linejoin:round; stroke-width:4; stroke-opacity:0.8; fill:none\" points=\"2124.86,1473.42 2124.86,1486.45 2151.64,1486.45 2151.64,1473.42 2124.86,1473.42 \"/>\n",
       "<path clip-path=\"url(#clip752)\" d=\"M2151.64 1486.45 L2151.64 1486.45 L2178.41 1486.45 L2178.41 1486.45 L2151.64 1486.45 L2151.64 1486.45  Z\" fill=\"#009af9\" fill-rule=\"evenodd\" fill-opacity=\"0.8\"/>\n",
       "<polyline clip-path=\"url(#clip752)\" style=\"stroke:#000000; stroke-linecap:round; stroke-linejoin:round; stroke-width:4; stroke-opacity:0.8; fill:none\" points=\"2151.64,1486.45 2151.64,1486.45 2178.41,1486.45 2151.64,1486.45 \"/>\n",
       "<path clip-path=\"url(#clip752)\" d=\"M2178.41 1486.45 L2178.41 1486.45 L2205.19 1486.45 L2205.19 1486.45 L2178.41 1486.45 L2178.41 1486.45  Z\" fill=\"#009af9\" fill-rule=\"evenodd\" fill-opacity=\"0.8\"/>\n",
       "<polyline clip-path=\"url(#clip752)\" style=\"stroke:#000000; stroke-linecap:round; stroke-linejoin:round; stroke-width:4; stroke-opacity:0.8; fill:none\" points=\"2178.41,1486.45 2178.41,1486.45 2205.19,1486.45 2178.41,1486.45 \"/>\n",
       "<path clip-path=\"url(#clip752)\" d=\"M2205.19 1479.94 L2205.19 1486.45 L2231.96 1486.45 L2231.96 1479.94 L2205.19 1479.94 L2205.19 1479.94  Z\" fill=\"#009af9\" fill-rule=\"evenodd\" fill-opacity=\"0.8\"/>\n",
       "<polyline clip-path=\"url(#clip752)\" style=\"stroke:#000000; stroke-linecap:round; stroke-linejoin:round; stroke-width:4; stroke-opacity:0.8; fill:none\" points=\"2205.19,1479.94 2205.19,1486.45 2231.96,1486.45 2231.96,1479.94 2205.19,1479.94 \"/>\n",
       "<circle clip-path=\"url(#clip752)\" style=\"fill:#009af9; stroke:none; fill-opacity:0\" cx=\"290.778\" cy=\"1479.94\" r=\"2\"/>\n",
       "<circle clip-path=\"url(#clip752)\" style=\"fill:#009af9; stroke:none; fill-opacity:0\" cx=\"317.553\" cy=\"1479.94\" r=\"2\"/>\n",
       "<circle clip-path=\"url(#clip752)\" style=\"fill:#009af9; stroke:none; fill-opacity:0\" cx=\"344.328\" cy=\"1486.45\" r=\"2\"/>\n",
       "<circle clip-path=\"url(#clip752)\" style=\"fill:#009af9; stroke:none; fill-opacity:0\" cx=\"371.103\" cy=\"1479.94\" r=\"2\"/>\n",
       "<circle clip-path=\"url(#clip752)\" style=\"fill:#009af9; stroke:none; fill-opacity:0\" cx=\"397.878\" cy=\"1486.45\" r=\"2\"/>\n",
       "<circle clip-path=\"url(#clip752)\" style=\"fill:#009af9; stroke:none; fill-opacity:0\" cx=\"424.653\" cy=\"1479.94\" r=\"2\"/>\n",
       "<circle clip-path=\"url(#clip752)\" style=\"fill:#009af9; stroke:none; fill-opacity:0\" cx=\"451.428\" cy=\"1479.94\" r=\"2\"/>\n",
       "<circle clip-path=\"url(#clip752)\" style=\"fill:#009af9; stroke:none; fill-opacity:0\" cx=\"478.203\" cy=\"1460.4\" r=\"2\"/>\n",
       "<circle clip-path=\"url(#clip752)\" style=\"fill:#009af9; stroke:none; fill-opacity:0\" cx=\"504.978\" cy=\"1460.4\" r=\"2\"/>\n",
       "<circle clip-path=\"url(#clip752)\" style=\"fill:#009af9; stroke:none; fill-opacity:0\" cx=\"531.753\" cy=\"1447.37\" r=\"2\"/>\n",
       "<circle clip-path=\"url(#clip752)\" style=\"fill:#009af9; stroke:none; fill-opacity:0\" cx=\"558.528\" cy=\"1447.37\" r=\"2\"/>\n",
       "<circle clip-path=\"url(#clip752)\" style=\"fill:#009af9; stroke:none; fill-opacity:0\" cx=\"585.303\" cy=\"1440.86\" r=\"2\"/>\n",
       "<circle clip-path=\"url(#clip752)\" style=\"fill:#009af9; stroke:none; fill-opacity:0\" cx=\"612.078\" cy=\"1408.3\" r=\"2\"/>\n",
       "<circle clip-path=\"url(#clip752)\" style=\"fill:#009af9; stroke:none; fill-opacity:0\" cx=\"638.853\" cy=\"1408.3\" r=\"2\"/>\n",
       "<circle clip-path=\"url(#clip752)\" style=\"fill:#009af9; stroke:none; fill-opacity:0\" cx=\"665.628\" cy=\"1317.13\" r=\"2\"/>\n",
       "<circle clip-path=\"url(#clip752)\" style=\"fill:#009af9; stroke:none; fill-opacity:0\" cx=\"692.403\" cy=\"1323.64\" r=\"2\"/>\n",
       "<circle clip-path=\"url(#clip752)\" style=\"fill:#009af9; stroke:none; fill-opacity:0\" cx=\"719.178\" cy=\"1343.18\" r=\"2\"/>\n",
       "<circle clip-path=\"url(#clip752)\" style=\"fill:#009af9; stroke:none; fill-opacity:0\" cx=\"745.953\" cy=\"1317.13\" r=\"2\"/>\n",
       "<circle clip-path=\"url(#clip752)\" style=\"fill:#009af9; stroke:none; fill-opacity:0\" cx=\"772.728\" cy=\"1173.86\" r=\"2\"/>\n",
       "<circle clip-path=\"url(#clip752)\" style=\"fill:#009af9; stroke:none; fill-opacity:0\" cx=\"799.503\" cy=\"1225.96\" r=\"2\"/>\n",
       "<circle clip-path=\"url(#clip752)\" style=\"fill:#009af9; stroke:none; fill-opacity:0\" cx=\"826.278\" cy=\"1147.81\" r=\"2\"/>\n",
       "<circle clip-path=\"url(#clip752)\" style=\"fill:#009af9; stroke:none; fill-opacity:0\" cx=\"853.053\" cy=\"1108.74\" r=\"2\"/>\n",
       "<circle clip-path=\"url(#clip752)\" style=\"fill:#009af9; stroke:none; fill-opacity:0\" cx=\"879.828\" cy=\"991.518\" r=\"2\"/>\n",
       "<circle clip-path=\"url(#clip752)\" style=\"fill:#009af9; stroke:none; fill-opacity:0\" cx=\"906.603\" cy=\"958.957\" r=\"2\"/>\n",
       "<circle clip-path=\"url(#clip752)\" style=\"fill:#009af9; stroke:none; fill-opacity:0\" cx=\"933.377\" cy=\"750.565\" r=\"2\"/>\n",
       "<circle clip-path=\"url(#clip752)\" style=\"fill:#009af9; stroke:none; fill-opacity:0\" cx=\"960.152\" cy=\"691.955\" r=\"2\"/>\n",
       "<circle clip-path=\"url(#clip752)\" style=\"fill:#009af9; stroke:none; fill-opacity:0\" cx=\"986.927\" cy=\"659.394\" r=\"2\"/>\n",
       "<circle clip-path=\"url(#clip752)\" style=\"fill:#009af9; stroke:none; fill-opacity:0\" cx=\"1013.7\" cy=\"711.492\" r=\"2\"/>\n",
       "<circle clip-path=\"url(#clip752)\" style=\"fill:#009af9; stroke:none; fill-opacity:0\" cx=\"1040.48\" cy=\"464.027\" r=\"2\"/>\n",
       "<circle clip-path=\"url(#clip752)\" style=\"fill:#009af9; stroke:none; fill-opacity:0\" cx=\"1067.25\" cy=\"496.588\" r=\"2\"/>\n",
       "<circle clip-path=\"url(#clip752)\" style=\"fill:#009af9; stroke:none; fill-opacity:0\" cx=\"1094.03\" cy=\"464.027\" r=\"2\"/>\n",
       "<circle clip-path=\"url(#clip752)\" style=\"fill:#009af9; stroke:none; fill-opacity:0\" cx=\"1120.8\" cy=\"210.05\" r=\"2\"/>\n",
       "<circle clip-path=\"url(#clip752)\" style=\"fill:#009af9; stroke:none; fill-opacity:0\" cx=\"1147.58\" cy=\"451.003\" r=\"2\"/>\n",
       "<circle clip-path=\"url(#clip752)\" style=\"fill:#009af9; stroke:none; fill-opacity:0\" cx=\"1174.35\" cy=\"131.903\" r=\"2\"/>\n",
       "<circle clip-path=\"url(#clip752)\" style=\"fill:#009af9; stroke:none; fill-opacity:0\" cx=\"1201.13\" cy=\"47.2441\" r=\"2\"/>\n",
       "<circle clip-path=\"url(#clip752)\" style=\"fill:#009af9; stroke:none; fill-opacity:0\" cx=\"1227.9\" cy=\"92.8297\" r=\"2\"/>\n",
       "<circle clip-path=\"url(#clip752)\" style=\"fill:#009af9; stroke:none; fill-opacity:0\" cx=\"1254.68\" cy=\"105.854\" r=\"2\"/>\n",
       "<circle clip-path=\"url(#clip752)\" style=\"fill:#009af9; stroke:none; fill-opacity:0\" cx=\"1281.45\" cy=\"131.903\" r=\"2\"/>\n",
       "<circle clip-path=\"url(#clip752)\" style=\"fill:#009af9; stroke:none; fill-opacity:0\" cx=\"1308.23\" cy=\"184.001\" r=\"2\"/>\n",
       "<circle clip-path=\"url(#clip752)\" style=\"fill:#009af9; stroke:none; fill-opacity:0\" cx=\"1335\" cy=\"242.611\" r=\"2\"/>\n",
       "<circle clip-path=\"url(#clip752)\" style=\"fill:#009af9; stroke:none; fill-opacity:0\" cx=\"1361.78\" cy=\"340.295\" r=\"2\"/>\n",
       "<circle clip-path=\"url(#clip752)\" style=\"fill:#009af9; stroke:none; fill-opacity:0\" cx=\"1388.55\" cy=\"392.393\" r=\"2\"/>\n",
       "<circle clip-path=\"url(#clip752)\" style=\"fill:#009af9; stroke:none; fill-opacity:0\" cx=\"1415.33\" cy=\"392.393\" r=\"2\"/>\n",
       "<circle clip-path=\"url(#clip752)\" style=\"fill:#009af9; stroke:none; fill-opacity:0\" cx=\"1442.1\" cy=\"561.711\" r=\"2\"/>\n",
       "<circle clip-path=\"url(#clip752)\" style=\"fill:#009af9; stroke:none; fill-opacity:0\" cx=\"1468.88\" cy=\"568.223\" r=\"2\"/>\n",
       "<circle clip-path=\"url(#clip752)\" style=\"fill:#009af9; stroke:none; fill-opacity:0\" cx=\"1495.65\" cy=\"639.857\" r=\"2\"/>\n",
       "<circle clip-path=\"url(#clip752)\" style=\"fill:#009af9; stroke:none; fill-opacity:0\" cx=\"1522.43\" cy=\"737.541\" r=\"2\"/>\n",
       "<circle clip-path=\"url(#clip752)\" style=\"fill:#009af9; stroke:none; fill-opacity:0\" cx=\"1549.2\" cy=\"802.663\" r=\"2\"/>\n",
       "<circle clip-path=\"url(#clip752)\" style=\"fill:#009af9; stroke:none; fill-opacity:0\" cx=\"1575.98\" cy=\"867.786\" r=\"2\"/>\n",
       "<circle clip-path=\"url(#clip752)\" style=\"fill:#009af9; stroke:none; fill-opacity:0\" cx=\"1602.75\" cy=\"848.249\" r=\"2\"/>\n",
       "<circle clip-path=\"url(#clip752)\" style=\"fill:#009af9; stroke:none; fill-opacity:0\" cx=\"1629.53\" cy=\"952.445\" r=\"2\"/>\n",
       "<circle clip-path=\"url(#clip752)\" style=\"fill:#009af9; stroke:none; fill-opacity:0\" cx=\"1656.3\" cy=\"1160.84\" r=\"2\"/>\n",
       "<circle clip-path=\"url(#clip752)\" style=\"fill:#009af9; stroke:none; fill-opacity:0\" cx=\"1683.08\" cy=\"1167.35\" r=\"2\"/>\n",
       "<circle clip-path=\"url(#clip752)\" style=\"fill:#009af9; stroke:none; fill-opacity:0\" cx=\"1709.85\" cy=\"1238.98\" r=\"2\"/>\n",
       "<circle clip-path=\"url(#clip752)\" style=\"fill:#009af9; stroke:none; fill-opacity:0\" cx=\"1736.63\" cy=\"1252.01\" r=\"2\"/>\n",
       "<circle clip-path=\"url(#clip752)\" style=\"fill:#009af9; stroke:none; fill-opacity:0\" cx=\"1763.4\" cy=\"1278.06\" r=\"2\"/>\n",
       "<circle clip-path=\"url(#clip752)\" style=\"fill:#009af9; stroke:none; fill-opacity:0\" cx=\"1790.18\" cy=\"1310.62\" r=\"2\"/>\n",
       "<circle clip-path=\"url(#clip752)\" style=\"fill:#009af9; stroke:none; fill-opacity:0\" cx=\"1816.95\" cy=\"1382.25\" r=\"2\"/>\n",
       "<circle clip-path=\"url(#clip752)\" style=\"fill:#009af9; stroke:none; fill-opacity:0\" cx=\"1843.73\" cy=\"1395.28\" r=\"2\"/>\n",
       "<circle clip-path=\"url(#clip752)\" style=\"fill:#009af9; stroke:none; fill-opacity:0\" cx=\"1870.5\" cy=\"1395.28\" r=\"2\"/>\n",
       "<circle clip-path=\"url(#clip752)\" style=\"fill:#009af9; stroke:none; fill-opacity:0\" cx=\"1897.28\" cy=\"1421.33\" r=\"2\"/>\n",
       "<circle clip-path=\"url(#clip752)\" style=\"fill:#009af9; stroke:none; fill-opacity:0\" cx=\"1924.05\" cy=\"1447.37\" r=\"2\"/>\n",
       "<circle clip-path=\"url(#clip752)\" style=\"fill:#009af9; stroke:none; fill-opacity:0\" cx=\"1950.83\" cy=\"1460.4\" r=\"2\"/>\n",
       "<circle clip-path=\"url(#clip752)\" style=\"fill:#009af9; stroke:none; fill-opacity:0\" cx=\"1977.6\" cy=\"1453.89\" r=\"2\"/>\n",
       "<circle clip-path=\"url(#clip752)\" style=\"fill:#009af9; stroke:none; fill-opacity:0\" cx=\"2004.38\" cy=\"1466.91\" r=\"2\"/>\n",
       "<circle clip-path=\"url(#clip752)\" style=\"fill:#009af9; stroke:none; fill-opacity:0\" cx=\"2031.15\" cy=\"1473.42\" r=\"2\"/>\n",
       "<circle clip-path=\"url(#clip752)\" style=\"fill:#009af9; stroke:none; fill-opacity:0\" cx=\"2057.93\" cy=\"1486.45\" r=\"2\"/>\n",
       "<circle clip-path=\"url(#clip752)\" style=\"fill:#009af9; stroke:none; fill-opacity:0\" cx=\"2084.7\" cy=\"1466.91\" r=\"2\"/>\n",
       "<circle clip-path=\"url(#clip752)\" style=\"fill:#009af9; stroke:none; fill-opacity:0\" cx=\"2111.48\" cy=\"1473.42\" r=\"2\"/>\n",
       "<circle clip-path=\"url(#clip752)\" style=\"fill:#009af9; stroke:none; fill-opacity:0\" cx=\"2138.25\" cy=\"1473.42\" r=\"2\"/>\n",
       "<circle clip-path=\"url(#clip752)\" style=\"fill:#009af9; stroke:none; fill-opacity:0\" cx=\"2165.03\" cy=\"1486.45\" r=\"2\"/>\n",
       "<circle clip-path=\"url(#clip752)\" style=\"fill:#009af9; stroke:none; fill-opacity:0\" cx=\"2191.8\" cy=\"1486.45\" r=\"2\"/>\n",
       "<circle clip-path=\"url(#clip752)\" style=\"fill:#009af9; stroke:none; fill-opacity:0\" cx=\"2218.58\" cy=\"1479.94\" r=\"2\"/>\n",
       "</svg>\n"
      ],
      "text/html": [
       "<?xml version=\"1.0\" encoding=\"utf-8\"?>\n",
       "<svg xmlns=\"http://www.w3.org/2000/svg\" xmlns:xlink=\"http://www.w3.org/1999/xlink\" width=\"600\" height=\"400\" viewBox=\"0 0 2400 1600\">\n",
       "<defs>\n",
       "  <clipPath id=\"clip800\">\n",
       "    <rect x=\"0\" y=\"0\" width=\"2400\" height=\"1600\"/>\n",
       "  </clipPath>\n",
       "</defs>\n",
       "<path clip-path=\"url(#clip800)\" d=\"M0 1600 L2400 1600 L2400 0 L0 0  Z\" fill=\"#ffffff\" fill-rule=\"evenodd\" fill-opacity=\"1\"/>\n",
       "<defs>\n",
       "  <clipPath id=\"clip801\">\n",
       "    <rect x=\"480\" y=\"0\" width=\"1681\" height=\"1600\"/>\n",
       "  </clipPath>\n",
       "</defs>\n",
       "<path clip-path=\"url(#clip800)\" d=\"M156.598 1486.45 L2352.76 1486.45 L2352.76 47.2441 L156.598 47.2441  Z\" fill=\"#ffffff\" fill-rule=\"evenodd\" fill-opacity=\"1\"/>\n",
       "<defs>\n",
       "  <clipPath id=\"clip802\">\n",
       "    <rect x=\"156\" y=\"47\" width=\"2197\" height=\"1440\"/>\n",
       "  </clipPath>\n",
       "</defs>\n",
       "<polyline clip-path=\"url(#clip802)\" style=\"stroke:#000000; stroke-linecap:round; stroke-linejoin:round; stroke-width:2; stroke-opacity:0.1; fill:none\" points=\"170.291,1486.45 170.291,47.2441 \"/>\n",
       "<polyline clip-path=\"url(#clip802)\" style=\"stroke:#000000; stroke-linecap:round; stroke-linejoin:round; stroke-width:2; stroke-opacity:0.1; fill:none\" points=\"705.79,1486.45 705.79,47.2441 \"/>\n",
       "<polyline clip-path=\"url(#clip802)\" style=\"stroke:#000000; stroke-linecap:round; stroke-linejoin:round; stroke-width:2; stroke-opacity:0.1; fill:none\" points=\"1241.29,1486.45 1241.29,47.2441 \"/>\n",
       "<polyline clip-path=\"url(#clip802)\" style=\"stroke:#000000; stroke-linecap:round; stroke-linejoin:round; stroke-width:2; stroke-opacity:0.1; fill:none\" points=\"1776.79,1486.45 1776.79,47.2441 \"/>\n",
       "<polyline clip-path=\"url(#clip802)\" style=\"stroke:#000000; stroke-linecap:round; stroke-linejoin:round; stroke-width:2; stroke-opacity:0.1; fill:none\" points=\"2312.29,1486.45 2312.29,47.2441 \"/>\n",
       "<polyline clip-path=\"url(#clip802)\" style=\"stroke:#000000; stroke-linecap:round; stroke-linejoin:round; stroke-width:2; stroke-opacity:0.1; fill:none\" points=\"156.598,1486.45 2352.76,1486.45 \"/>\n",
       "<polyline clip-path=\"url(#clip802)\" style=\"stroke:#000000; stroke-linecap:round; stroke-linejoin:round; stroke-width:2; stroke-opacity:0.1; fill:none\" points=\"156.598,1160.84 2352.76,1160.84 \"/>\n",
       "<polyline clip-path=\"url(#clip802)\" style=\"stroke:#000000; stroke-linecap:round; stroke-linejoin:round; stroke-width:2; stroke-opacity:0.1; fill:none\" points=\"156.598,835.224 2352.76,835.224 \"/>\n",
       "<polyline clip-path=\"url(#clip802)\" style=\"stroke:#000000; stroke-linecap:round; stroke-linejoin:round; stroke-width:2; stroke-opacity:0.1; fill:none\" points=\"156.598,509.613 2352.76,509.613 \"/>\n",
       "<polyline clip-path=\"url(#clip802)\" style=\"stroke:#000000; stroke-linecap:round; stroke-linejoin:round; stroke-width:2; stroke-opacity:0.1; fill:none\" points=\"156.598,184.001 2352.76,184.001 \"/>\n",
       "<polyline clip-path=\"url(#clip800)\" style=\"stroke:#000000; stroke-linecap:round; stroke-linejoin:round; stroke-width:4; stroke-opacity:1; fill:none\" points=\"156.598,1486.45 2352.76,1486.45 \"/>\n",
       "<polyline clip-path=\"url(#clip800)\" style=\"stroke:#000000; stroke-linecap:round; stroke-linejoin:round; stroke-width:4; stroke-opacity:1; fill:none\" points=\"170.291,1486.45 170.291,1467.55 \"/>\n",
       "<polyline clip-path=\"url(#clip800)\" style=\"stroke:#000000; stroke-linecap:round; stroke-linejoin:round; stroke-width:4; stroke-opacity:1; fill:none\" points=\"705.79,1486.45 705.79,1467.55 \"/>\n",
       "<polyline clip-path=\"url(#clip800)\" style=\"stroke:#000000; stroke-linecap:round; stroke-linejoin:round; stroke-width:4; stroke-opacity:1; fill:none\" points=\"1241.29,1486.45 1241.29,1467.55 \"/>\n",
       "<polyline clip-path=\"url(#clip800)\" style=\"stroke:#000000; stroke-linecap:round; stroke-linejoin:round; stroke-width:4; stroke-opacity:1; fill:none\" points=\"1776.79,1486.45 1776.79,1467.55 \"/>\n",
       "<polyline clip-path=\"url(#clip800)\" style=\"stroke:#000000; stroke-linecap:round; stroke-linejoin:round; stroke-width:4; stroke-opacity:1; fill:none\" points=\"2312.29,1486.45 2312.29,1467.55 \"/>\n",
       "<path clip-path=\"url(#clip800)\" d=\"M139.192 1532.02 L168.867 1532.02 L168.867 1535.95 L139.192 1535.95 L139.192 1532.02 Z\" fill=\"#000000\" fill-rule=\"nonzero\" fill-opacity=\"1\" /><path clip-path=\"url(#clip800)\" d=\"M191.807 1518.36 L180.002 1536.81 L191.807 1536.81 L191.807 1518.36 M190.58 1514.29 L196.46 1514.29 L196.46 1536.81 L201.39 1536.81 L201.39 1540.7 L196.46 1540.7 L196.46 1548.85 L191.807 1548.85 L191.807 1540.7 L176.205 1540.7 L176.205 1536.19 L190.58 1514.29 Z\" fill=\"#000000\" fill-rule=\"nonzero\" fill-opacity=\"1\" /><path clip-path=\"url(#clip800)\" d=\"M675.733 1532.02 L705.408 1532.02 L705.408 1535.95 L675.733 1535.95 L675.733 1532.02 Z\" fill=\"#000000\" fill-rule=\"nonzero\" fill-opacity=\"1\" /><path clip-path=\"url(#clip800)\" d=\"M719.529 1544.91 L735.848 1544.91 L735.848 1548.85 L713.904 1548.85 L713.904 1544.91 Q716.566 1542.16 721.149 1537.53 Q725.755 1532.88 726.936 1531.53 Q729.181 1529.01 730.061 1527.27 Q730.964 1525.51 730.964 1523.82 Q730.964 1521.07 729.019 1519.33 Q727.098 1517.6 723.996 1517.6 Q721.797 1517.6 719.343 1518.36 Q716.913 1519.13 714.135 1520.68 L714.135 1515.95 Q716.959 1514.82 719.413 1514.24 Q721.867 1513.66 723.904 1513.66 Q729.274 1513.66 732.468 1516.35 Q735.663 1519.03 735.663 1523.52 Q735.663 1525.65 734.853 1527.57 Q734.066 1529.47 731.959 1532.07 Q731.38 1532.74 728.279 1535.95 Q725.177 1539.15 719.529 1544.91 Z\" fill=\"#000000\" fill-rule=\"nonzero\" fill-opacity=\"1\" /><path clip-path=\"url(#clip800)\" d=\"M1241.29 1517.37 Q1237.68 1517.37 1235.85 1520.93 Q1234.04 1524.47 1234.04 1531.6 Q1234.04 1538.71 1235.85 1542.27 Q1237.68 1545.82 1241.29 1545.82 Q1244.92 1545.82 1246.73 1542.27 Q1248.56 1538.71 1248.56 1531.6 Q1248.56 1524.47 1246.73 1520.93 Q1244.92 1517.37 1241.29 1517.37 M1241.29 1513.66 Q1247.1 1513.66 1250.16 1518.27 Q1253.23 1522.85 1253.23 1531.6 Q1253.23 1540.33 1250.16 1544.94 Q1247.1 1549.52 1241.29 1549.52 Q1235.48 1549.52 1232.4 1544.94 Q1229.35 1540.33 1229.35 1531.6 Q1229.35 1522.85 1232.4 1518.27 Q1235.48 1513.66 1241.29 1513.66 Z\" fill=\"#000000\" fill-rule=\"nonzero\" fill-opacity=\"1\" /><path clip-path=\"url(#clip800)\" d=\"M1771.44 1544.91 L1787.76 1544.91 L1787.76 1548.85 L1765.82 1548.85 L1765.82 1544.91 Q1768.48 1542.16 1773.06 1537.53 Q1777.67 1532.88 1778.85 1531.53 Q1781.09 1529.01 1781.97 1527.27 Q1782.88 1525.51 1782.88 1523.82 Q1782.88 1521.07 1780.93 1519.33 Q1779.01 1517.6 1775.91 1517.6 Q1773.71 1517.6 1771.26 1518.36 Q1768.83 1519.13 1766.05 1520.68 L1766.05 1515.95 Q1768.87 1514.82 1771.33 1514.24 Q1773.78 1513.66 1775.82 1513.66 Q1781.19 1513.66 1784.38 1516.35 Q1787.58 1519.03 1787.58 1523.52 Q1787.58 1525.65 1786.77 1527.57 Q1785.98 1529.47 1783.87 1532.07 Q1783.29 1532.74 1780.19 1535.95 Q1777.09 1539.15 1771.44 1544.91 Z\" fill=\"#000000\" fill-rule=\"nonzero\" fill-opacity=\"1\" /><path clip-path=\"url(#clip800)\" d=\"M2315.3 1518.36 L2303.49 1536.81 L2315.3 1536.81 L2315.3 1518.36 M2314.07 1514.29 L2319.95 1514.29 L2319.95 1536.81 L2324.88 1536.81 L2324.88 1540.7 L2319.95 1540.7 L2319.95 1548.85 L2315.3 1548.85 L2315.3 1540.7 L2299.7 1540.7 L2299.7 1536.19 L2314.07 1514.29 Z\" fill=\"#000000\" fill-rule=\"nonzero\" fill-opacity=\"1\" /><polyline clip-path=\"url(#clip800)\" style=\"stroke:#000000; stroke-linecap:round; stroke-linejoin:round; stroke-width:4; stroke-opacity:1; fill:none\" points=\"156.598,1486.45 156.598,47.2441 \"/>\n",
       "<polyline clip-path=\"url(#clip800)\" style=\"stroke:#000000; stroke-linecap:round; stroke-linejoin:round; stroke-width:4; stroke-opacity:1; fill:none\" points=\"156.598,1486.45 175.496,1486.45 \"/>\n",
       "<polyline clip-path=\"url(#clip800)\" style=\"stroke:#000000; stroke-linecap:round; stroke-linejoin:round; stroke-width:4; stroke-opacity:1; fill:none\" points=\"156.598,1160.84 175.496,1160.84 \"/>\n",
       "<polyline clip-path=\"url(#clip800)\" style=\"stroke:#000000; stroke-linecap:round; stroke-linejoin:round; stroke-width:4; stroke-opacity:1; fill:none\" points=\"156.598,835.224 175.496,835.224 \"/>\n",
       "<polyline clip-path=\"url(#clip800)\" style=\"stroke:#000000; stroke-linecap:round; stroke-linejoin:round; stroke-width:4; stroke-opacity:1; fill:none\" points=\"156.598,509.613 175.496,509.613 \"/>\n",
       "<polyline clip-path=\"url(#clip800)\" style=\"stroke:#000000; stroke-linecap:round; stroke-linejoin:round; stroke-width:4; stroke-opacity:1; fill:none\" points=\"156.598,184.001 175.496,184.001 \"/>\n",
       "<path clip-path=\"url(#clip800)\" d=\"M63.4226 1472.25 Q59.8115 1472.25 57.9828 1475.81 Q56.1773 1479.35 56.1773 1486.48 Q56.1773 1493.59 57.9828 1497.15 Q59.8115 1500.7 63.4226 1500.7 Q67.0569 1500.7 68.8624 1497.15 Q70.6911 1493.59 70.6911 1486.48 Q70.6911 1479.35 68.8624 1475.81 Q67.0569 1472.25 63.4226 1472.25 M63.4226 1468.54 Q69.2328 1468.54 72.2883 1473.15 Q75.367 1477.73 75.367 1486.48 Q75.367 1495.21 72.2883 1499.82 Q69.2328 1504.4 63.4226 1504.4 Q57.6125 1504.4 54.5338 1499.82 Q51.4782 1495.21 51.4782 1486.48 Q51.4782 1477.73 54.5338 1473.15 Q57.6125 1468.54 63.4226 1468.54 Z\" fill=\"#000000\" fill-rule=\"nonzero\" fill-opacity=\"1\" /><path clip-path=\"url(#clip800)\" d=\"M83.5845 1497.85 L88.4688 1497.85 L88.4688 1503.73 L83.5845 1503.73 L83.5845 1497.85 Z\" fill=\"#000000\" fill-rule=\"nonzero\" fill-opacity=\"1\" /><path clip-path=\"url(#clip800)\" d=\"M108.654 1472.25 Q105.043 1472.25 103.214 1475.81 Q101.409 1479.35 101.409 1486.48 Q101.409 1493.59 103.214 1497.15 Q105.043 1500.7 108.654 1500.7 Q112.288 1500.7 114.094 1497.15 Q115.922 1493.59 115.922 1486.48 Q115.922 1479.35 114.094 1475.81 Q112.288 1472.25 108.654 1472.25 M108.654 1468.54 Q114.464 1468.54 117.52 1473.15 Q120.598 1477.73 120.598 1486.48 Q120.598 1495.21 117.52 1499.82 Q114.464 1504.4 108.654 1504.4 Q102.844 1504.4 99.765 1499.82 Q96.7095 1495.21 96.7095 1486.48 Q96.7095 1477.73 99.765 1473.15 Q102.844 1468.54 108.654 1468.54 Z\" fill=\"#000000\" fill-rule=\"nonzero\" fill-opacity=\"1\" /><path clip-path=\"url(#clip800)\" d=\"M64.6495 1146.63 Q61.0384 1146.63 59.2097 1150.2 Q57.4041 1153.74 57.4041 1160.87 Q57.4041 1167.98 59.2097 1171.54 Q61.0384 1175.08 64.6495 1175.08 Q68.2837 1175.08 70.0892 1171.54 Q71.9179 1167.98 71.9179 1160.87 Q71.9179 1153.74 70.0892 1150.2 Q68.2837 1146.63 64.6495 1146.63 M64.6495 1142.93 Q70.4596 1142.93 73.5152 1147.54 Q76.5938 1152.12 76.5938 1160.87 Q76.5938 1169.6 73.5152 1174.2 Q70.4596 1178.79 64.6495 1178.79 Q58.8393 1178.79 55.7606 1174.2 Q52.7051 1169.6 52.7051 1160.87 Q52.7051 1152.12 55.7606 1147.54 Q58.8393 1142.93 64.6495 1142.93 Z\" fill=\"#000000\" fill-rule=\"nonzero\" fill-opacity=\"1\" /><path clip-path=\"url(#clip800)\" d=\"M84.8114 1172.24 L89.6956 1172.24 L89.6956 1178.12 L84.8114 1178.12 L84.8114 1172.24 Z\" fill=\"#000000\" fill-rule=\"nonzero\" fill-opacity=\"1\" /><path clip-path=\"url(#clip800)\" d=\"M100.691 1174.18 L108.33 1174.18 L108.33 1147.82 L100.02 1149.48 L100.02 1145.22 L108.283 1143.56 L112.959 1143.56 L112.959 1174.18 L120.598 1174.18 L120.598 1178.12 L100.691 1178.12 L100.691 1174.18 Z\" fill=\"#000000\" fill-rule=\"nonzero\" fill-opacity=\"1\" /><path clip-path=\"url(#clip800)\" d=\"M65.0198 821.023 Q61.4087 821.023 59.58 824.588 Q57.7745 828.13 57.7745 835.259 Q57.7745 842.366 59.58 845.93 Q61.4087 849.472 65.0198 849.472 Q68.6541 849.472 70.4596 845.93 Q72.2883 842.366 72.2883 835.259 Q72.2883 828.13 70.4596 824.588 Q68.6541 821.023 65.0198 821.023 M65.0198 817.319 Q70.83 817.319 73.8855 821.926 Q76.9642 826.509 76.9642 835.259 Q76.9642 843.986 73.8855 848.592 Q70.83 853.176 65.0198 853.176 Q59.2097 853.176 56.131 848.592 Q53.0754 843.986 53.0754 835.259 Q53.0754 826.509 56.131 821.926 Q59.2097 817.319 65.0198 817.319 Z\" fill=\"#000000\" fill-rule=\"nonzero\" fill-opacity=\"1\" /><path clip-path=\"url(#clip800)\" d=\"M85.1818 846.625 L90.066 846.625 L90.066 852.504 L85.1818 852.504 L85.1818 846.625 Z\" fill=\"#000000\" fill-rule=\"nonzero\" fill-opacity=\"1\" /><path clip-path=\"url(#clip800)\" d=\"M104.279 848.569 L120.598 848.569 L120.598 852.504 L98.6539 852.504 L98.6539 848.569 Q101.316 845.815 105.899 841.185 Q110.506 836.532 111.686 835.19 Q113.932 832.667 114.811 830.93 Q115.714 829.171 115.714 827.481 Q115.714 824.727 113.77 822.991 Q111.848 821.255 108.746 821.255 Q106.547 821.255 104.094 822.018 Q101.663 822.782 98.8854 824.333 L98.8854 819.611 Q101.709 818.477 104.163 817.898 Q106.617 817.319 108.654 817.319 Q114.024 817.319 117.219 820.005 Q120.413 822.69 120.413 827.181 Q120.413 829.31 119.603 831.231 Q118.816 833.13 116.709 835.722 Q116.131 836.393 113.029 839.611 Q109.927 842.805 104.279 848.569 Z\" fill=\"#000000\" fill-rule=\"nonzero\" fill-opacity=\"1\" /><path clip-path=\"url(#clip800)\" d=\"M64.0708 495.411 Q60.4597 495.411 58.631 498.976 Q56.8254 502.518 56.8254 509.647 Q56.8254 516.754 58.631 520.319 Q60.4597 523.86 64.0708 523.86 Q67.705 523.86 69.5105 520.319 Q71.3392 516.754 71.3392 509.647 Q71.3392 502.518 69.5105 498.976 Q67.705 495.411 64.0708 495.411 M64.0708 491.708 Q69.8809 491.708 72.9365 496.314 Q76.0151 500.897 76.0151 509.647 Q76.0151 518.374 72.9365 522.981 Q69.8809 527.564 64.0708 527.564 Q58.2606 527.564 55.1819 522.981 Q52.1264 518.374 52.1264 509.647 Q52.1264 500.897 55.1819 496.314 Q58.2606 491.708 64.0708 491.708 Z\" fill=\"#000000\" fill-rule=\"nonzero\" fill-opacity=\"1\" /><path clip-path=\"url(#clip800)\" d=\"M84.2327 521.013 L89.1169 521.013 L89.1169 526.893 L84.2327 526.893 L84.2327 521.013 Z\" fill=\"#000000\" fill-rule=\"nonzero\" fill-opacity=\"1\" /><path clip-path=\"url(#clip800)\" d=\"M113.469 508.259 Q116.825 508.976 118.7 511.245 Q120.598 513.513 120.598 516.846 Q120.598 521.962 117.08 524.763 Q113.561 527.564 107.08 527.564 Q104.904 527.564 102.589 527.124 Q100.297 526.708 97.8437 525.851 L97.8437 521.337 Q99.7882 522.471 102.103 523.05 Q104.418 523.629 106.941 523.629 Q111.339 523.629 113.631 521.893 Q115.945 520.157 115.945 516.846 Q115.945 513.791 113.793 512.078 Q111.663 510.342 107.844 510.342 L103.816 510.342 L103.816 506.499 L108.029 506.499 Q111.478 506.499 113.307 505.134 Q115.135 503.745 115.135 501.152 Q115.135 498.49 113.237 497.078 Q111.362 495.643 107.844 495.643 Q105.922 495.643 103.723 496.06 Q101.524 496.476 98.8854 497.356 L98.8854 493.189 Q101.547 492.448 103.862 492.078 Q106.2 491.708 108.26 491.708 Q113.584 491.708 116.686 494.138 Q119.788 496.546 119.788 500.666 Q119.788 503.536 118.145 505.527 Q116.501 507.495 113.469 508.259 Z\" fill=\"#000000\" fill-rule=\"nonzero\" fill-opacity=\"1\" /><path clip-path=\"url(#clip800)\" d=\"M62.9365 169.8 Q59.3254 169.8 57.4967 173.364 Q55.6912 176.906 55.6912 184.036 Q55.6912 191.142 57.4967 194.707 Q59.3254 198.249 62.9365 198.249 Q66.5707 198.249 68.3763 194.707 Q70.205 191.142 70.205 184.036 Q70.205 176.906 68.3763 173.364 Q66.5707 169.8 62.9365 169.8 M62.9365 166.096 Q68.7467 166.096 71.8022 170.702 Q74.8809 175.286 74.8809 184.036 Q74.8809 192.763 71.8022 197.369 Q68.7467 201.952 62.9365 201.952 Q57.1264 201.952 54.0477 197.369 Q50.9921 192.763 50.9921 184.036 Q50.9921 175.286 54.0477 170.702 Q57.1264 166.096 62.9365 166.096 Z\" fill=\"#000000\" fill-rule=\"nonzero\" fill-opacity=\"1\" /><path clip-path=\"url(#clip800)\" d=\"M83.0984 195.401 L87.9827 195.401 L87.9827 201.281 L83.0984 201.281 L83.0984 195.401 Z\" fill=\"#000000\" fill-rule=\"nonzero\" fill-opacity=\"1\" /><path clip-path=\"url(#clip800)\" d=\"M111.015 170.795 L99.2095 189.244 L111.015 189.244 L111.015 170.795 M109.788 166.721 L115.668 166.721 L115.668 189.244 L120.598 189.244 L120.598 193.133 L115.668 193.133 L115.668 201.281 L111.015 201.281 L111.015 193.133 L95.4132 193.133 L95.4132 188.619 L109.788 166.721 Z\" fill=\"#000000\" fill-rule=\"nonzero\" fill-opacity=\"1\" /><path clip-path=\"url(#clip802)\" d=\"M277.391 1479.94 L277.391 1486.45 L304.166 1486.45 L304.166 1479.94 L277.391 1479.94 L277.391 1479.94  Z\" fill=\"#009af9\" fill-rule=\"evenodd\" fill-opacity=\"0.8\"/>\n",
       "<polyline clip-path=\"url(#clip802)\" style=\"stroke:#000000; stroke-linecap:round; stroke-linejoin:round; stroke-width:4; stroke-opacity:0.8; fill:none\" points=\"277.391,1479.94 277.391,1486.45 304.166,1486.45 304.166,1479.94 277.391,1479.94 \"/>\n",
       "<path clip-path=\"url(#clip802)\" d=\"M304.166 1479.94 L304.166 1486.45 L330.941 1486.45 L330.941 1479.94 L304.166 1479.94 L304.166 1479.94  Z\" fill=\"#009af9\" fill-rule=\"evenodd\" fill-opacity=\"0.8\"/>\n",
       "<polyline clip-path=\"url(#clip802)\" style=\"stroke:#000000; stroke-linecap:round; stroke-linejoin:round; stroke-width:4; stroke-opacity:0.8; fill:none\" points=\"304.166,1479.94 304.166,1486.45 330.941,1486.45 330.941,1479.94 304.166,1479.94 \"/>\n",
       "<path clip-path=\"url(#clip802)\" d=\"M330.941 1486.45 L330.941 1486.45 L357.716 1486.45 L357.716 1486.45 L330.941 1486.45 L330.941 1486.45  Z\" fill=\"#009af9\" fill-rule=\"evenodd\" fill-opacity=\"0.8\"/>\n",
       "<polyline clip-path=\"url(#clip802)\" style=\"stroke:#000000; stroke-linecap:round; stroke-linejoin:round; stroke-width:4; stroke-opacity:0.8; fill:none\" points=\"330.941,1486.45 330.941,1486.45 357.716,1486.45 330.941,1486.45 \"/>\n",
       "<path clip-path=\"url(#clip802)\" d=\"M357.716 1479.94 L357.716 1486.45 L384.491 1486.45 L384.491 1479.94 L357.716 1479.94 L357.716 1479.94  Z\" fill=\"#009af9\" fill-rule=\"evenodd\" fill-opacity=\"0.8\"/>\n",
       "<polyline clip-path=\"url(#clip802)\" style=\"stroke:#000000; stroke-linecap:round; stroke-linejoin:round; stroke-width:4; stroke-opacity:0.8; fill:none\" points=\"357.716,1479.94 357.716,1486.45 384.491,1486.45 384.491,1479.94 357.716,1479.94 \"/>\n",
       "<path clip-path=\"url(#clip802)\" d=\"M384.491 1486.45 L384.491 1486.45 L411.266 1486.45 L411.266 1486.45 L384.491 1486.45 L384.491 1486.45  Z\" fill=\"#009af9\" fill-rule=\"evenodd\" fill-opacity=\"0.8\"/>\n",
       "<polyline clip-path=\"url(#clip802)\" style=\"stroke:#000000; stroke-linecap:round; stroke-linejoin:round; stroke-width:4; stroke-opacity:0.8; fill:none\" points=\"384.491,1486.45 384.491,1486.45 411.266,1486.45 384.491,1486.45 \"/>\n",
       "<path clip-path=\"url(#clip802)\" d=\"M411.266 1479.94 L411.266 1486.45 L438.041 1486.45 L438.041 1479.94 L411.266 1479.94 L411.266 1479.94  Z\" fill=\"#009af9\" fill-rule=\"evenodd\" fill-opacity=\"0.8\"/>\n",
       "<polyline clip-path=\"url(#clip802)\" style=\"stroke:#000000; stroke-linecap:round; stroke-linejoin:round; stroke-width:4; stroke-opacity:0.8; fill:none\" points=\"411.266,1479.94 411.266,1486.45 438.041,1486.45 438.041,1479.94 411.266,1479.94 \"/>\n",
       "<path clip-path=\"url(#clip802)\" d=\"M438.041 1479.94 L438.041 1486.45 L464.816 1486.45 L464.816 1479.94 L438.041 1479.94 L438.041 1479.94  Z\" fill=\"#009af9\" fill-rule=\"evenodd\" fill-opacity=\"0.8\"/>\n",
       "<polyline clip-path=\"url(#clip802)\" style=\"stroke:#000000; stroke-linecap:round; stroke-linejoin:round; stroke-width:4; stroke-opacity:0.8; fill:none\" points=\"438.041,1479.94 438.041,1486.45 464.816,1486.45 464.816,1479.94 438.041,1479.94 \"/>\n",
       "<path clip-path=\"url(#clip802)\" d=\"M464.816 1460.4 L464.816 1486.45 L491.591 1486.45 L491.591 1460.4 L464.816 1460.4 L464.816 1460.4  Z\" fill=\"#009af9\" fill-rule=\"evenodd\" fill-opacity=\"0.8\"/>\n",
       "<polyline clip-path=\"url(#clip802)\" style=\"stroke:#000000; stroke-linecap:round; stroke-linejoin:round; stroke-width:4; stroke-opacity:0.8; fill:none\" points=\"464.816,1460.4 464.816,1486.45 491.591,1486.45 491.591,1460.4 464.816,1460.4 \"/>\n",
       "<path clip-path=\"url(#clip802)\" d=\"M491.591 1460.4 L491.591 1486.45 L518.366 1486.45 L518.366 1460.4 L491.591 1460.4 L491.591 1460.4  Z\" fill=\"#009af9\" fill-rule=\"evenodd\" fill-opacity=\"0.8\"/>\n",
       "<polyline clip-path=\"url(#clip802)\" style=\"stroke:#000000; stroke-linecap:round; stroke-linejoin:round; stroke-width:4; stroke-opacity:0.8; fill:none\" points=\"491.591,1460.4 491.591,1486.45 518.366,1486.45 518.366,1460.4 491.591,1460.4 \"/>\n",
       "<path clip-path=\"url(#clip802)\" d=\"M518.366 1447.37 L518.366 1486.45 L545.14 1486.45 L545.14 1447.37 L518.366 1447.37 L518.366 1447.37  Z\" fill=\"#009af9\" fill-rule=\"evenodd\" fill-opacity=\"0.8\"/>\n",
       "<polyline clip-path=\"url(#clip802)\" style=\"stroke:#000000; stroke-linecap:round; stroke-linejoin:round; stroke-width:4; stroke-opacity:0.8; fill:none\" points=\"518.366,1447.37 518.366,1486.45 545.14,1486.45 545.14,1447.37 518.366,1447.37 \"/>\n",
       "<path clip-path=\"url(#clip802)\" d=\"M545.14 1447.37 L545.14 1486.45 L571.915 1486.45 L571.915 1447.37 L545.14 1447.37 L545.14 1447.37  Z\" fill=\"#009af9\" fill-rule=\"evenodd\" fill-opacity=\"0.8\"/>\n",
       "<polyline clip-path=\"url(#clip802)\" style=\"stroke:#000000; stroke-linecap:round; stroke-linejoin:round; stroke-width:4; stroke-opacity:0.8; fill:none\" points=\"545.14,1447.37 545.14,1486.45 571.915,1486.45 571.915,1447.37 545.14,1447.37 \"/>\n",
       "<path clip-path=\"url(#clip802)\" d=\"M571.915 1440.86 L571.915 1486.45 L598.69 1486.45 L598.69 1440.86 L571.915 1440.86 L571.915 1440.86  Z\" fill=\"#009af9\" fill-rule=\"evenodd\" fill-opacity=\"0.8\"/>\n",
       "<polyline clip-path=\"url(#clip802)\" style=\"stroke:#000000; stroke-linecap:round; stroke-linejoin:round; stroke-width:4; stroke-opacity:0.8; fill:none\" points=\"571.915,1440.86 571.915,1486.45 598.69,1486.45 598.69,1440.86 571.915,1440.86 \"/>\n",
       "<path clip-path=\"url(#clip802)\" d=\"M598.69 1408.3 L598.69 1486.45 L625.465 1486.45 L625.465 1408.3 L598.69 1408.3 L598.69 1408.3  Z\" fill=\"#009af9\" fill-rule=\"evenodd\" fill-opacity=\"0.8\"/>\n",
       "<polyline clip-path=\"url(#clip802)\" style=\"stroke:#000000; stroke-linecap:round; stroke-linejoin:round; stroke-width:4; stroke-opacity:0.8; fill:none\" points=\"598.69,1408.3 598.69,1486.45 625.465,1486.45 625.465,1408.3 598.69,1408.3 \"/>\n",
       "<path clip-path=\"url(#clip802)\" d=\"M625.465 1408.3 L625.465 1486.45 L652.24 1486.45 L652.24 1408.3 L625.465 1408.3 L625.465 1408.3  Z\" fill=\"#009af9\" fill-rule=\"evenodd\" fill-opacity=\"0.8\"/>\n",
       "<polyline clip-path=\"url(#clip802)\" style=\"stroke:#000000; stroke-linecap:round; stroke-linejoin:round; stroke-width:4; stroke-opacity:0.8; fill:none\" points=\"625.465,1408.3 625.465,1486.45 652.24,1486.45 652.24,1408.3 625.465,1408.3 \"/>\n",
       "<path clip-path=\"url(#clip802)\" d=\"M652.24 1317.13 L652.24 1486.45 L679.015 1486.45 L679.015 1317.13 L652.24 1317.13 L652.24 1317.13  Z\" fill=\"#009af9\" fill-rule=\"evenodd\" fill-opacity=\"0.8\"/>\n",
       "<polyline clip-path=\"url(#clip802)\" style=\"stroke:#000000; stroke-linecap:round; stroke-linejoin:round; stroke-width:4; stroke-opacity:0.8; fill:none\" points=\"652.24,1317.13 652.24,1486.45 679.015,1486.45 679.015,1317.13 652.24,1317.13 \"/>\n",
       "<path clip-path=\"url(#clip802)\" d=\"M679.015 1323.64 L679.015 1486.45 L705.79 1486.45 L705.79 1323.64 L679.015 1323.64 L679.015 1323.64  Z\" fill=\"#009af9\" fill-rule=\"evenodd\" fill-opacity=\"0.8\"/>\n",
       "<polyline clip-path=\"url(#clip802)\" style=\"stroke:#000000; stroke-linecap:round; stroke-linejoin:round; stroke-width:4; stroke-opacity:0.8; fill:none\" points=\"679.015,1323.64 679.015,1486.45 705.79,1486.45 705.79,1323.64 679.015,1323.64 \"/>\n",
       "<path clip-path=\"url(#clip802)\" d=\"M705.79 1343.18 L705.79 1486.45 L732.565 1486.45 L732.565 1343.18 L705.79 1343.18 L705.79 1343.18  Z\" fill=\"#009af9\" fill-rule=\"evenodd\" fill-opacity=\"0.8\"/>\n",
       "<polyline clip-path=\"url(#clip802)\" style=\"stroke:#000000; stroke-linecap:round; stroke-linejoin:round; stroke-width:4; stroke-opacity:0.8; fill:none\" points=\"705.79,1343.18 705.79,1486.45 732.565,1486.45 732.565,1343.18 705.79,1343.18 \"/>\n",
       "<path clip-path=\"url(#clip802)\" d=\"M732.565 1317.13 L732.565 1486.45 L759.34 1486.45 L759.34 1317.13 L732.565 1317.13 L732.565 1317.13  Z\" fill=\"#009af9\" fill-rule=\"evenodd\" fill-opacity=\"0.8\"/>\n",
       "<polyline clip-path=\"url(#clip802)\" style=\"stroke:#000000; stroke-linecap:round; stroke-linejoin:round; stroke-width:4; stroke-opacity:0.8; fill:none\" points=\"732.565,1317.13 732.565,1486.45 759.34,1486.45 759.34,1317.13 732.565,1317.13 \"/>\n",
       "<path clip-path=\"url(#clip802)\" d=\"M759.34 1173.86 L759.34 1486.45 L786.115 1486.45 L786.115 1173.86 L759.34 1173.86 L759.34 1173.86  Z\" fill=\"#009af9\" fill-rule=\"evenodd\" fill-opacity=\"0.8\"/>\n",
       "<polyline clip-path=\"url(#clip802)\" style=\"stroke:#000000; stroke-linecap:round; stroke-linejoin:round; stroke-width:4; stroke-opacity:0.8; fill:none\" points=\"759.34,1173.86 759.34,1486.45 786.115,1486.45 786.115,1173.86 759.34,1173.86 \"/>\n",
       "<path clip-path=\"url(#clip802)\" d=\"M786.115 1225.96 L786.115 1486.45 L812.89 1486.45 L812.89 1225.96 L786.115 1225.96 L786.115 1225.96  Z\" fill=\"#009af9\" fill-rule=\"evenodd\" fill-opacity=\"0.8\"/>\n",
       "<polyline clip-path=\"url(#clip802)\" style=\"stroke:#000000; stroke-linecap:round; stroke-linejoin:round; stroke-width:4; stroke-opacity:0.8; fill:none\" points=\"786.115,1225.96 786.115,1486.45 812.89,1486.45 812.89,1225.96 786.115,1225.96 \"/>\n",
       "<path clip-path=\"url(#clip802)\" d=\"M812.89 1147.81 L812.89 1486.45 L839.665 1486.45 L839.665 1147.81 L812.89 1147.81 L812.89 1147.81  Z\" fill=\"#009af9\" fill-rule=\"evenodd\" fill-opacity=\"0.8\"/>\n",
       "<polyline clip-path=\"url(#clip802)\" style=\"stroke:#000000; stroke-linecap:round; stroke-linejoin:round; stroke-width:4; stroke-opacity:0.8; fill:none\" points=\"812.89,1147.81 812.89,1486.45 839.665,1486.45 839.665,1147.81 812.89,1147.81 \"/>\n",
       "<path clip-path=\"url(#clip802)\" d=\"M839.665 1108.74 L839.665 1486.45 L866.44 1486.45 L866.44 1108.74 L839.665 1108.74 L839.665 1108.74  Z\" fill=\"#009af9\" fill-rule=\"evenodd\" fill-opacity=\"0.8\"/>\n",
       "<polyline clip-path=\"url(#clip802)\" style=\"stroke:#000000; stroke-linecap:round; stroke-linejoin:round; stroke-width:4; stroke-opacity:0.8; fill:none\" points=\"839.665,1108.74 839.665,1486.45 866.44,1486.45 866.44,1108.74 839.665,1108.74 \"/>\n",
       "<path clip-path=\"url(#clip802)\" d=\"M866.44 991.518 L866.44 1486.45 L893.215 1486.45 L893.215 991.518 L866.44 991.518 L866.44 991.518  Z\" fill=\"#009af9\" fill-rule=\"evenodd\" fill-opacity=\"0.8\"/>\n",
       "<polyline clip-path=\"url(#clip802)\" style=\"stroke:#000000; stroke-linecap:round; stroke-linejoin:round; stroke-width:4; stroke-opacity:0.8; fill:none\" points=\"866.44,991.518 866.44,1486.45 893.215,1486.45 893.215,991.518 866.44,991.518 \"/>\n",
       "<path clip-path=\"url(#clip802)\" d=\"M893.215 958.957 L893.215 1486.45 L919.99 1486.45 L919.99 958.957 L893.215 958.957 L893.215 958.957  Z\" fill=\"#009af9\" fill-rule=\"evenodd\" fill-opacity=\"0.8\"/>\n",
       "<polyline clip-path=\"url(#clip802)\" style=\"stroke:#000000; stroke-linecap:round; stroke-linejoin:round; stroke-width:4; stroke-opacity:0.8; fill:none\" points=\"893.215,958.957 893.215,1486.45 919.99,1486.45 919.99,958.957 893.215,958.957 \"/>\n",
       "<path clip-path=\"url(#clip802)\" d=\"M919.99 750.565 L919.99 1486.45 L946.765 1486.45 L946.765 750.565 L919.99 750.565 L919.99 750.565  Z\" fill=\"#009af9\" fill-rule=\"evenodd\" fill-opacity=\"0.8\"/>\n",
       "<polyline clip-path=\"url(#clip802)\" style=\"stroke:#000000; stroke-linecap:round; stroke-linejoin:round; stroke-width:4; stroke-opacity:0.8; fill:none\" points=\"919.99,750.565 919.99,1486.45 946.765,1486.45 946.765,750.565 919.99,750.565 \"/>\n",
       "<path clip-path=\"url(#clip802)\" d=\"M946.765 691.955 L946.765 1486.45 L973.54 1486.45 L973.54 691.955 L946.765 691.955 L946.765 691.955  Z\" fill=\"#009af9\" fill-rule=\"evenodd\" fill-opacity=\"0.8\"/>\n",
       "<polyline clip-path=\"url(#clip802)\" style=\"stroke:#000000; stroke-linecap:round; stroke-linejoin:round; stroke-width:4; stroke-opacity:0.8; fill:none\" points=\"946.765,691.955 946.765,1486.45 973.54,1486.45 973.54,691.955 946.765,691.955 \"/>\n",
       "<path clip-path=\"url(#clip802)\" d=\"M973.54 659.394 L973.54 1486.45 L1000.31 1486.45 L1000.31 659.394 L973.54 659.394 L973.54 659.394  Z\" fill=\"#009af9\" fill-rule=\"evenodd\" fill-opacity=\"0.8\"/>\n",
       "<polyline clip-path=\"url(#clip802)\" style=\"stroke:#000000; stroke-linecap:round; stroke-linejoin:round; stroke-width:4; stroke-opacity:0.8; fill:none\" points=\"973.54,659.394 973.54,1486.45 1000.31,1486.45 1000.31,659.394 973.54,659.394 \"/>\n",
       "<path clip-path=\"url(#clip802)\" d=\"M1000.31 711.492 L1000.31 1486.45 L1027.09 1486.45 L1027.09 711.492 L1000.31 711.492 L1000.31 711.492  Z\" fill=\"#009af9\" fill-rule=\"evenodd\" fill-opacity=\"0.8\"/>\n",
       "<polyline clip-path=\"url(#clip802)\" style=\"stroke:#000000; stroke-linecap:round; stroke-linejoin:round; stroke-width:4; stroke-opacity:0.8; fill:none\" points=\"1000.31,711.492 1000.31,1486.45 1027.09,1486.45 1027.09,711.492 1000.31,711.492 \"/>\n",
       "<path clip-path=\"url(#clip802)\" d=\"M1027.09 464.027 L1027.09 1486.45 L1053.86 1486.45 L1053.86 464.027 L1027.09 464.027 L1027.09 464.027  Z\" fill=\"#009af9\" fill-rule=\"evenodd\" fill-opacity=\"0.8\"/>\n",
       "<polyline clip-path=\"url(#clip802)\" style=\"stroke:#000000; stroke-linecap:round; stroke-linejoin:round; stroke-width:4; stroke-opacity:0.8; fill:none\" points=\"1027.09,464.027 1027.09,1486.45 1053.86,1486.45 1053.86,464.027 1027.09,464.027 \"/>\n",
       "<path clip-path=\"url(#clip802)\" d=\"M1053.86 496.588 L1053.86 1486.45 L1080.64 1486.45 L1080.64 496.588 L1053.86 496.588 L1053.86 496.588  Z\" fill=\"#009af9\" fill-rule=\"evenodd\" fill-opacity=\"0.8\"/>\n",
       "<polyline clip-path=\"url(#clip802)\" style=\"stroke:#000000; stroke-linecap:round; stroke-linejoin:round; stroke-width:4; stroke-opacity:0.8; fill:none\" points=\"1053.86,496.588 1053.86,1486.45 1080.64,1486.45 1080.64,496.588 1053.86,496.588 \"/>\n",
       "<path clip-path=\"url(#clip802)\" d=\"M1080.64 464.027 L1080.64 1486.45 L1107.41 1486.45 L1107.41 464.027 L1080.64 464.027 L1080.64 464.027  Z\" fill=\"#009af9\" fill-rule=\"evenodd\" fill-opacity=\"0.8\"/>\n",
       "<polyline clip-path=\"url(#clip802)\" style=\"stroke:#000000; stroke-linecap:round; stroke-linejoin:round; stroke-width:4; stroke-opacity:0.8; fill:none\" points=\"1080.64,464.027 1080.64,1486.45 1107.41,1486.45 1107.41,464.027 1080.64,464.027 \"/>\n",
       "<path clip-path=\"url(#clip802)\" d=\"M1107.41 210.05 L1107.41 1486.45 L1134.19 1486.45 L1134.19 210.05 L1107.41 210.05 L1107.41 210.05  Z\" fill=\"#009af9\" fill-rule=\"evenodd\" fill-opacity=\"0.8\"/>\n",
       "<polyline clip-path=\"url(#clip802)\" style=\"stroke:#000000; stroke-linecap:round; stroke-linejoin:round; stroke-width:4; stroke-opacity:0.8; fill:none\" points=\"1107.41,210.05 1107.41,1486.45 1134.19,1486.45 1134.19,210.05 1107.41,210.05 \"/>\n",
       "<path clip-path=\"url(#clip802)\" d=\"M1134.19 451.003 L1134.19 1486.45 L1160.96 1486.45 L1160.96 451.003 L1134.19 451.003 L1134.19 451.003  Z\" fill=\"#009af9\" fill-rule=\"evenodd\" fill-opacity=\"0.8\"/>\n",
       "<polyline clip-path=\"url(#clip802)\" style=\"stroke:#000000; stroke-linecap:round; stroke-linejoin:round; stroke-width:4; stroke-opacity:0.8; fill:none\" points=\"1134.19,451.003 1134.19,1486.45 1160.96,1486.45 1160.96,451.003 1134.19,451.003 \"/>\n",
       "<path clip-path=\"url(#clip802)\" d=\"M1160.96 131.903 L1160.96 1486.45 L1187.74 1486.45 L1187.74 131.903 L1160.96 131.903 L1160.96 131.903  Z\" fill=\"#009af9\" fill-rule=\"evenodd\" fill-opacity=\"0.8\"/>\n",
       "<polyline clip-path=\"url(#clip802)\" style=\"stroke:#000000; stroke-linecap:round; stroke-linejoin:round; stroke-width:4; stroke-opacity:0.8; fill:none\" points=\"1160.96,131.903 1160.96,1486.45 1187.74,1486.45 1187.74,131.903 1160.96,131.903 \"/>\n",
       "<path clip-path=\"url(#clip802)\" d=\"M1187.74 47.2441 L1187.74 1486.45 L1214.51 1486.45 L1214.51 47.2441 L1187.74 47.2441 L1187.74 47.2441  Z\" fill=\"#009af9\" fill-rule=\"evenodd\" fill-opacity=\"0.8\"/>\n",
       "<polyline clip-path=\"url(#clip802)\" style=\"stroke:#000000; stroke-linecap:round; stroke-linejoin:round; stroke-width:4; stroke-opacity:0.8; fill:none\" points=\"1187.74,47.2441 1187.74,1486.45 1214.51,1486.45 1214.51,47.2441 1187.74,47.2441 \"/>\n",
       "<path clip-path=\"url(#clip802)\" d=\"M1214.51 92.8297 L1214.51 1486.45 L1241.29 1486.45 L1241.29 92.8297 L1214.51 92.8297 L1214.51 92.8297  Z\" fill=\"#009af9\" fill-rule=\"evenodd\" fill-opacity=\"0.8\"/>\n",
       "<polyline clip-path=\"url(#clip802)\" style=\"stroke:#000000; stroke-linecap:round; stroke-linejoin:round; stroke-width:4; stroke-opacity:0.8; fill:none\" points=\"1214.51,92.8297 1214.51,1486.45 1241.29,1486.45 1241.29,92.8297 1214.51,92.8297 \"/>\n",
       "<path clip-path=\"url(#clip802)\" d=\"M1241.29 105.854 L1241.29 1486.45 L1268.06 1486.45 L1268.06 105.854 L1241.29 105.854 L1241.29 105.854  Z\" fill=\"#009af9\" fill-rule=\"evenodd\" fill-opacity=\"0.8\"/>\n",
       "<polyline clip-path=\"url(#clip802)\" style=\"stroke:#000000; stroke-linecap:round; stroke-linejoin:round; stroke-width:4; stroke-opacity:0.8; fill:none\" points=\"1241.29,105.854 1241.29,1486.45 1268.06,1486.45 1268.06,105.854 1241.29,105.854 \"/>\n",
       "<path clip-path=\"url(#clip802)\" d=\"M1268.06 131.903 L1268.06 1486.45 L1294.84 1486.45 L1294.84 131.903 L1268.06 131.903 L1268.06 131.903  Z\" fill=\"#009af9\" fill-rule=\"evenodd\" fill-opacity=\"0.8\"/>\n",
       "<polyline clip-path=\"url(#clip802)\" style=\"stroke:#000000; stroke-linecap:round; stroke-linejoin:round; stroke-width:4; stroke-opacity:0.8; fill:none\" points=\"1268.06,131.903 1268.06,1486.45 1294.84,1486.45 1294.84,131.903 1268.06,131.903 \"/>\n",
       "<path clip-path=\"url(#clip802)\" d=\"M1294.84 184.001 L1294.84 1486.45 L1321.61 1486.45 L1321.61 184.001 L1294.84 184.001 L1294.84 184.001  Z\" fill=\"#009af9\" fill-rule=\"evenodd\" fill-opacity=\"0.8\"/>\n",
       "<polyline clip-path=\"url(#clip802)\" style=\"stroke:#000000; stroke-linecap:round; stroke-linejoin:round; stroke-width:4; stroke-opacity:0.8; fill:none\" points=\"1294.84,184.001 1294.84,1486.45 1321.61,1486.45 1321.61,184.001 1294.84,184.001 \"/>\n",
       "<path clip-path=\"url(#clip802)\" d=\"M1321.61 242.611 L1321.61 1486.45 L1348.39 1486.45 L1348.39 242.611 L1321.61 242.611 L1321.61 242.611  Z\" fill=\"#009af9\" fill-rule=\"evenodd\" fill-opacity=\"0.8\"/>\n",
       "<polyline clip-path=\"url(#clip802)\" style=\"stroke:#000000; stroke-linecap:round; stroke-linejoin:round; stroke-width:4; stroke-opacity:0.8; fill:none\" points=\"1321.61,242.611 1321.61,1486.45 1348.39,1486.45 1348.39,242.611 1321.61,242.611 \"/>\n",
       "<path clip-path=\"url(#clip802)\" d=\"M1348.39 340.295 L1348.39 1486.45 L1375.16 1486.45 L1375.16 340.295 L1348.39 340.295 L1348.39 340.295  Z\" fill=\"#009af9\" fill-rule=\"evenodd\" fill-opacity=\"0.8\"/>\n",
       "<polyline clip-path=\"url(#clip802)\" style=\"stroke:#000000; stroke-linecap:round; stroke-linejoin:round; stroke-width:4; stroke-opacity:0.8; fill:none\" points=\"1348.39,340.295 1348.39,1486.45 1375.16,1486.45 1375.16,340.295 1348.39,340.295 \"/>\n",
       "<path clip-path=\"url(#clip802)\" d=\"M1375.16 392.393 L1375.16 1486.45 L1401.94 1486.45 L1401.94 392.393 L1375.16 392.393 L1375.16 392.393  Z\" fill=\"#009af9\" fill-rule=\"evenodd\" fill-opacity=\"0.8\"/>\n",
       "<polyline clip-path=\"url(#clip802)\" style=\"stroke:#000000; stroke-linecap:round; stroke-linejoin:round; stroke-width:4; stroke-opacity:0.8; fill:none\" points=\"1375.16,392.393 1375.16,1486.45 1401.94,1486.45 1401.94,392.393 1375.16,392.393 \"/>\n",
       "<path clip-path=\"url(#clip802)\" d=\"M1401.94 392.393 L1401.94 1486.45 L1428.71 1486.45 L1428.71 392.393 L1401.94 392.393 L1401.94 392.393  Z\" fill=\"#009af9\" fill-rule=\"evenodd\" fill-opacity=\"0.8\"/>\n",
       "<polyline clip-path=\"url(#clip802)\" style=\"stroke:#000000; stroke-linecap:round; stroke-linejoin:round; stroke-width:4; stroke-opacity:0.8; fill:none\" points=\"1401.94,392.393 1401.94,1486.45 1428.71,1486.45 1428.71,392.393 1401.94,392.393 \"/>\n",
       "<path clip-path=\"url(#clip802)\" d=\"M1428.71 561.711 L1428.71 1486.45 L1455.49 1486.45 L1455.49 561.711 L1428.71 561.711 L1428.71 561.711  Z\" fill=\"#009af9\" fill-rule=\"evenodd\" fill-opacity=\"0.8\"/>\n",
       "<polyline clip-path=\"url(#clip802)\" style=\"stroke:#000000; stroke-linecap:round; stroke-linejoin:round; stroke-width:4; stroke-opacity:0.8; fill:none\" points=\"1428.71,561.711 1428.71,1486.45 1455.49,1486.45 1455.49,561.711 1428.71,561.711 \"/>\n",
       "<path clip-path=\"url(#clip802)\" d=\"M1455.49 568.223 L1455.49 1486.45 L1482.26 1486.45 L1482.26 568.223 L1455.49 568.223 L1455.49 568.223  Z\" fill=\"#009af9\" fill-rule=\"evenodd\" fill-opacity=\"0.8\"/>\n",
       "<polyline clip-path=\"url(#clip802)\" style=\"stroke:#000000; stroke-linecap:round; stroke-linejoin:round; stroke-width:4; stroke-opacity:0.8; fill:none\" points=\"1455.49,568.223 1455.49,1486.45 1482.26,1486.45 1482.26,568.223 1455.49,568.223 \"/>\n",
       "<path clip-path=\"url(#clip802)\" d=\"M1482.26 639.857 L1482.26 1486.45 L1509.04 1486.45 L1509.04 639.857 L1482.26 639.857 L1482.26 639.857  Z\" fill=\"#009af9\" fill-rule=\"evenodd\" fill-opacity=\"0.8\"/>\n",
       "<polyline clip-path=\"url(#clip802)\" style=\"stroke:#000000; stroke-linecap:round; stroke-linejoin:round; stroke-width:4; stroke-opacity:0.8; fill:none\" points=\"1482.26,639.857 1482.26,1486.45 1509.04,1486.45 1509.04,639.857 1482.26,639.857 \"/>\n",
       "<path clip-path=\"url(#clip802)\" d=\"M1509.04 737.541 L1509.04 1486.45 L1535.81 1486.45 L1535.81 737.541 L1509.04 737.541 L1509.04 737.541  Z\" fill=\"#009af9\" fill-rule=\"evenodd\" fill-opacity=\"0.8\"/>\n",
       "<polyline clip-path=\"url(#clip802)\" style=\"stroke:#000000; stroke-linecap:round; stroke-linejoin:round; stroke-width:4; stroke-opacity:0.8; fill:none\" points=\"1509.04,737.541 1509.04,1486.45 1535.81,1486.45 1535.81,737.541 1509.04,737.541 \"/>\n",
       "<path clip-path=\"url(#clip802)\" d=\"M1535.81 802.663 L1535.81 1486.45 L1562.59 1486.45 L1562.59 802.663 L1535.81 802.663 L1535.81 802.663  Z\" fill=\"#009af9\" fill-rule=\"evenodd\" fill-opacity=\"0.8\"/>\n",
       "<polyline clip-path=\"url(#clip802)\" style=\"stroke:#000000; stroke-linecap:round; stroke-linejoin:round; stroke-width:4; stroke-opacity:0.8; fill:none\" points=\"1535.81,802.663 1535.81,1486.45 1562.59,1486.45 1562.59,802.663 1535.81,802.663 \"/>\n",
       "<path clip-path=\"url(#clip802)\" d=\"M1562.59 867.786 L1562.59 1486.45 L1589.36 1486.45 L1589.36 867.786 L1562.59 867.786 L1562.59 867.786  Z\" fill=\"#009af9\" fill-rule=\"evenodd\" fill-opacity=\"0.8\"/>\n",
       "<polyline clip-path=\"url(#clip802)\" style=\"stroke:#000000; stroke-linecap:round; stroke-linejoin:round; stroke-width:4; stroke-opacity:0.8; fill:none\" points=\"1562.59,867.786 1562.59,1486.45 1589.36,1486.45 1589.36,867.786 1562.59,867.786 \"/>\n",
       "<path clip-path=\"url(#clip802)\" d=\"M1589.36 848.249 L1589.36 1486.45 L1616.14 1486.45 L1616.14 848.249 L1589.36 848.249 L1589.36 848.249  Z\" fill=\"#009af9\" fill-rule=\"evenodd\" fill-opacity=\"0.8\"/>\n",
       "<polyline clip-path=\"url(#clip802)\" style=\"stroke:#000000; stroke-linecap:round; stroke-linejoin:round; stroke-width:4; stroke-opacity:0.8; fill:none\" points=\"1589.36,848.249 1589.36,1486.45 1616.14,1486.45 1616.14,848.249 1589.36,848.249 \"/>\n",
       "<path clip-path=\"url(#clip802)\" d=\"M1616.14 952.445 L1616.14 1486.45 L1642.91 1486.45 L1642.91 952.445 L1616.14 952.445 L1616.14 952.445  Z\" fill=\"#009af9\" fill-rule=\"evenodd\" fill-opacity=\"0.8\"/>\n",
       "<polyline clip-path=\"url(#clip802)\" style=\"stroke:#000000; stroke-linecap:round; stroke-linejoin:round; stroke-width:4; stroke-opacity:0.8; fill:none\" points=\"1616.14,952.445 1616.14,1486.45 1642.91,1486.45 1642.91,952.445 1616.14,952.445 \"/>\n",
       "<path clip-path=\"url(#clip802)\" d=\"M1642.91 1160.84 L1642.91 1486.45 L1669.69 1486.45 L1669.69 1160.84 L1642.91 1160.84 L1642.91 1160.84  Z\" fill=\"#009af9\" fill-rule=\"evenodd\" fill-opacity=\"0.8\"/>\n",
       "<polyline clip-path=\"url(#clip802)\" style=\"stroke:#000000; stroke-linecap:round; stroke-linejoin:round; stroke-width:4; stroke-opacity:0.8; fill:none\" points=\"1642.91,1160.84 1642.91,1486.45 1669.69,1486.45 1669.69,1160.84 1642.91,1160.84 \"/>\n",
       "<path clip-path=\"url(#clip802)\" d=\"M1669.69 1167.35 L1669.69 1486.45 L1696.46 1486.45 L1696.46 1167.35 L1669.69 1167.35 L1669.69 1167.35  Z\" fill=\"#009af9\" fill-rule=\"evenodd\" fill-opacity=\"0.8\"/>\n",
       "<polyline clip-path=\"url(#clip802)\" style=\"stroke:#000000; stroke-linecap:round; stroke-linejoin:round; stroke-width:4; stroke-opacity:0.8; fill:none\" points=\"1669.69,1167.35 1669.69,1486.45 1696.46,1486.45 1696.46,1167.35 1669.69,1167.35 \"/>\n",
       "<path clip-path=\"url(#clip802)\" d=\"M1696.46 1238.98 L1696.46 1486.45 L1723.24 1486.45 L1723.24 1238.98 L1696.46 1238.98 L1696.46 1238.98  Z\" fill=\"#009af9\" fill-rule=\"evenodd\" fill-opacity=\"0.8\"/>\n",
       "<polyline clip-path=\"url(#clip802)\" style=\"stroke:#000000; stroke-linecap:round; stroke-linejoin:round; stroke-width:4; stroke-opacity:0.8; fill:none\" points=\"1696.46,1238.98 1696.46,1486.45 1723.24,1486.45 1723.24,1238.98 1696.46,1238.98 \"/>\n",
       "<path clip-path=\"url(#clip802)\" d=\"M1723.24 1252.01 L1723.24 1486.45 L1750.01 1486.45 L1750.01 1252.01 L1723.24 1252.01 L1723.24 1252.01  Z\" fill=\"#009af9\" fill-rule=\"evenodd\" fill-opacity=\"0.8\"/>\n",
       "<polyline clip-path=\"url(#clip802)\" style=\"stroke:#000000; stroke-linecap:round; stroke-linejoin:round; stroke-width:4; stroke-opacity:0.8; fill:none\" points=\"1723.24,1252.01 1723.24,1486.45 1750.01,1486.45 1750.01,1252.01 1723.24,1252.01 \"/>\n",
       "<path clip-path=\"url(#clip802)\" d=\"M1750.01 1278.06 L1750.01 1486.45 L1776.79 1486.45 L1776.79 1278.06 L1750.01 1278.06 L1750.01 1278.06  Z\" fill=\"#009af9\" fill-rule=\"evenodd\" fill-opacity=\"0.8\"/>\n",
       "<polyline clip-path=\"url(#clip802)\" style=\"stroke:#000000; stroke-linecap:round; stroke-linejoin:round; stroke-width:4; stroke-opacity:0.8; fill:none\" points=\"1750.01,1278.06 1750.01,1486.45 1776.79,1486.45 1776.79,1278.06 1750.01,1278.06 \"/>\n",
       "<path clip-path=\"url(#clip802)\" d=\"M1776.79 1310.62 L1776.79 1486.45 L1803.56 1486.45 L1803.56 1310.62 L1776.79 1310.62 L1776.79 1310.62  Z\" fill=\"#009af9\" fill-rule=\"evenodd\" fill-opacity=\"0.8\"/>\n",
       "<polyline clip-path=\"url(#clip802)\" style=\"stroke:#000000; stroke-linecap:round; stroke-linejoin:round; stroke-width:4; stroke-opacity:0.8; fill:none\" points=\"1776.79,1310.62 1776.79,1486.45 1803.56,1486.45 1803.56,1310.62 1776.79,1310.62 \"/>\n",
       "<path clip-path=\"url(#clip802)\" d=\"M1803.56 1382.25 L1803.56 1486.45 L1830.34 1486.45 L1830.34 1382.25 L1803.56 1382.25 L1803.56 1382.25  Z\" fill=\"#009af9\" fill-rule=\"evenodd\" fill-opacity=\"0.8\"/>\n",
       "<polyline clip-path=\"url(#clip802)\" style=\"stroke:#000000; stroke-linecap:round; stroke-linejoin:round; stroke-width:4; stroke-opacity:0.8; fill:none\" points=\"1803.56,1382.25 1803.56,1486.45 1830.34,1486.45 1830.34,1382.25 1803.56,1382.25 \"/>\n",
       "<path clip-path=\"url(#clip802)\" d=\"M1830.34 1395.28 L1830.34 1486.45 L1857.11 1486.45 L1857.11 1395.28 L1830.34 1395.28 L1830.34 1395.28  Z\" fill=\"#009af9\" fill-rule=\"evenodd\" fill-opacity=\"0.8\"/>\n",
       "<polyline clip-path=\"url(#clip802)\" style=\"stroke:#000000; stroke-linecap:round; stroke-linejoin:round; stroke-width:4; stroke-opacity:0.8; fill:none\" points=\"1830.34,1395.28 1830.34,1486.45 1857.11,1486.45 1857.11,1395.28 1830.34,1395.28 \"/>\n",
       "<path clip-path=\"url(#clip802)\" d=\"M1857.11 1395.28 L1857.11 1486.45 L1883.89 1486.45 L1883.89 1395.28 L1857.11 1395.28 L1857.11 1395.28  Z\" fill=\"#009af9\" fill-rule=\"evenodd\" fill-opacity=\"0.8\"/>\n",
       "<polyline clip-path=\"url(#clip802)\" style=\"stroke:#000000; stroke-linecap:round; stroke-linejoin:round; stroke-width:4; stroke-opacity:0.8; fill:none\" points=\"1857.11,1395.28 1857.11,1486.45 1883.89,1486.45 1883.89,1395.28 1857.11,1395.28 \"/>\n",
       "<path clip-path=\"url(#clip802)\" d=\"M1883.89 1421.33 L1883.89 1486.45 L1910.66 1486.45 L1910.66 1421.33 L1883.89 1421.33 L1883.89 1421.33  Z\" fill=\"#009af9\" fill-rule=\"evenodd\" fill-opacity=\"0.8\"/>\n",
       "<polyline clip-path=\"url(#clip802)\" style=\"stroke:#000000; stroke-linecap:round; stroke-linejoin:round; stroke-width:4; stroke-opacity:0.8; fill:none\" points=\"1883.89,1421.33 1883.89,1486.45 1910.66,1486.45 1910.66,1421.33 1883.89,1421.33 \"/>\n",
       "<path clip-path=\"url(#clip802)\" d=\"M1910.66 1447.37 L1910.66 1486.45 L1937.44 1486.45 L1937.44 1447.37 L1910.66 1447.37 L1910.66 1447.37  Z\" fill=\"#009af9\" fill-rule=\"evenodd\" fill-opacity=\"0.8\"/>\n",
       "<polyline clip-path=\"url(#clip802)\" style=\"stroke:#000000; stroke-linecap:round; stroke-linejoin:round; stroke-width:4; stroke-opacity:0.8; fill:none\" points=\"1910.66,1447.37 1910.66,1486.45 1937.44,1486.45 1937.44,1447.37 1910.66,1447.37 \"/>\n",
       "<path clip-path=\"url(#clip802)\" d=\"M1937.44 1460.4 L1937.44 1486.45 L1964.21 1486.45 L1964.21 1460.4 L1937.44 1460.4 L1937.44 1460.4  Z\" fill=\"#009af9\" fill-rule=\"evenodd\" fill-opacity=\"0.8\"/>\n",
       "<polyline clip-path=\"url(#clip802)\" style=\"stroke:#000000; stroke-linecap:round; stroke-linejoin:round; stroke-width:4; stroke-opacity:0.8; fill:none\" points=\"1937.44,1460.4 1937.44,1486.45 1964.21,1486.45 1964.21,1460.4 1937.44,1460.4 \"/>\n",
       "<path clip-path=\"url(#clip802)\" d=\"M1964.21 1453.89 L1964.21 1486.45 L1990.99 1486.45 L1990.99 1453.89 L1964.21 1453.89 L1964.21 1453.89  Z\" fill=\"#009af9\" fill-rule=\"evenodd\" fill-opacity=\"0.8\"/>\n",
       "<polyline clip-path=\"url(#clip802)\" style=\"stroke:#000000; stroke-linecap:round; stroke-linejoin:round; stroke-width:4; stroke-opacity:0.8; fill:none\" points=\"1964.21,1453.89 1964.21,1486.45 1990.99,1486.45 1990.99,1453.89 1964.21,1453.89 \"/>\n",
       "<path clip-path=\"url(#clip802)\" d=\"M1990.99 1466.91 L1990.99 1486.45 L2017.76 1486.45 L2017.76 1466.91 L1990.99 1466.91 L1990.99 1466.91  Z\" fill=\"#009af9\" fill-rule=\"evenodd\" fill-opacity=\"0.8\"/>\n",
       "<polyline clip-path=\"url(#clip802)\" style=\"stroke:#000000; stroke-linecap:round; stroke-linejoin:round; stroke-width:4; stroke-opacity:0.8; fill:none\" points=\"1990.99,1466.91 1990.99,1486.45 2017.76,1486.45 2017.76,1466.91 1990.99,1466.91 \"/>\n",
       "<path clip-path=\"url(#clip802)\" d=\"M2017.76 1473.42 L2017.76 1486.45 L2044.54 1486.45 L2044.54 1473.42 L2017.76 1473.42 L2017.76 1473.42  Z\" fill=\"#009af9\" fill-rule=\"evenodd\" fill-opacity=\"0.8\"/>\n",
       "<polyline clip-path=\"url(#clip802)\" style=\"stroke:#000000; stroke-linecap:round; stroke-linejoin:round; stroke-width:4; stroke-opacity:0.8; fill:none\" points=\"2017.76,1473.42 2017.76,1486.45 2044.54,1486.45 2044.54,1473.42 2017.76,1473.42 \"/>\n",
       "<path clip-path=\"url(#clip802)\" d=\"M2044.54 1486.45 L2044.54 1486.45 L2071.31 1486.45 L2071.31 1486.45 L2044.54 1486.45 L2044.54 1486.45  Z\" fill=\"#009af9\" fill-rule=\"evenodd\" fill-opacity=\"0.8\"/>\n",
       "<polyline clip-path=\"url(#clip802)\" style=\"stroke:#000000; stroke-linecap:round; stroke-linejoin:round; stroke-width:4; stroke-opacity:0.8; fill:none\" points=\"2044.54,1486.45 2044.54,1486.45 2071.31,1486.45 2044.54,1486.45 \"/>\n",
       "<path clip-path=\"url(#clip802)\" d=\"M2071.31 1466.91 L2071.31 1486.45 L2098.09 1486.45 L2098.09 1466.91 L2071.31 1466.91 L2071.31 1466.91  Z\" fill=\"#009af9\" fill-rule=\"evenodd\" fill-opacity=\"0.8\"/>\n",
       "<polyline clip-path=\"url(#clip802)\" style=\"stroke:#000000; stroke-linecap:round; stroke-linejoin:round; stroke-width:4; stroke-opacity:0.8; fill:none\" points=\"2071.31,1466.91 2071.31,1486.45 2098.09,1486.45 2098.09,1466.91 2071.31,1466.91 \"/>\n",
       "<path clip-path=\"url(#clip802)\" d=\"M2098.09 1473.42 L2098.09 1486.45 L2124.86 1486.45 L2124.86 1473.42 L2098.09 1473.42 L2098.09 1473.42  Z\" fill=\"#009af9\" fill-rule=\"evenodd\" fill-opacity=\"0.8\"/>\n",
       "<polyline clip-path=\"url(#clip802)\" style=\"stroke:#000000; stroke-linecap:round; stroke-linejoin:round; stroke-width:4; stroke-opacity:0.8; fill:none\" points=\"2098.09,1473.42 2098.09,1486.45 2124.86,1486.45 2124.86,1473.42 2098.09,1473.42 \"/>\n",
       "<path clip-path=\"url(#clip802)\" d=\"M2124.86 1473.42 L2124.86 1486.45 L2151.64 1486.45 L2151.64 1473.42 L2124.86 1473.42 L2124.86 1473.42  Z\" fill=\"#009af9\" fill-rule=\"evenodd\" fill-opacity=\"0.8\"/>\n",
       "<polyline clip-path=\"url(#clip802)\" style=\"stroke:#000000; stroke-linecap:round; stroke-linejoin:round; stroke-width:4; stroke-opacity:0.8; fill:none\" points=\"2124.86,1473.42 2124.86,1486.45 2151.64,1486.45 2151.64,1473.42 2124.86,1473.42 \"/>\n",
       "<path clip-path=\"url(#clip802)\" d=\"M2151.64 1486.45 L2151.64 1486.45 L2178.41 1486.45 L2178.41 1486.45 L2151.64 1486.45 L2151.64 1486.45  Z\" fill=\"#009af9\" fill-rule=\"evenodd\" fill-opacity=\"0.8\"/>\n",
       "<polyline clip-path=\"url(#clip802)\" style=\"stroke:#000000; stroke-linecap:round; stroke-linejoin:round; stroke-width:4; stroke-opacity:0.8; fill:none\" points=\"2151.64,1486.45 2151.64,1486.45 2178.41,1486.45 2151.64,1486.45 \"/>\n",
       "<path clip-path=\"url(#clip802)\" d=\"M2178.41 1486.45 L2178.41 1486.45 L2205.19 1486.45 L2205.19 1486.45 L2178.41 1486.45 L2178.41 1486.45  Z\" fill=\"#009af9\" fill-rule=\"evenodd\" fill-opacity=\"0.8\"/>\n",
       "<polyline clip-path=\"url(#clip802)\" style=\"stroke:#000000; stroke-linecap:round; stroke-linejoin:round; stroke-width:4; stroke-opacity:0.8; fill:none\" points=\"2178.41,1486.45 2178.41,1486.45 2205.19,1486.45 2178.41,1486.45 \"/>\n",
       "<path clip-path=\"url(#clip802)\" d=\"M2205.19 1479.94 L2205.19 1486.45 L2231.96 1486.45 L2231.96 1479.94 L2205.19 1479.94 L2205.19 1479.94  Z\" fill=\"#009af9\" fill-rule=\"evenodd\" fill-opacity=\"0.8\"/>\n",
       "<polyline clip-path=\"url(#clip802)\" style=\"stroke:#000000; stroke-linecap:round; stroke-linejoin:round; stroke-width:4; stroke-opacity:0.8; fill:none\" points=\"2205.19,1479.94 2205.19,1486.45 2231.96,1486.45 2231.96,1479.94 2205.19,1479.94 \"/>\n",
       "<circle clip-path=\"url(#clip802)\" style=\"fill:#009af9; stroke:none; fill-opacity:0\" cx=\"290.778\" cy=\"1479.94\" r=\"2\"/>\n",
       "<circle clip-path=\"url(#clip802)\" style=\"fill:#009af9; stroke:none; fill-opacity:0\" cx=\"317.553\" cy=\"1479.94\" r=\"2\"/>\n",
       "<circle clip-path=\"url(#clip802)\" style=\"fill:#009af9; stroke:none; fill-opacity:0\" cx=\"344.328\" cy=\"1486.45\" r=\"2\"/>\n",
       "<circle clip-path=\"url(#clip802)\" style=\"fill:#009af9; stroke:none; fill-opacity:0\" cx=\"371.103\" cy=\"1479.94\" r=\"2\"/>\n",
       "<circle clip-path=\"url(#clip802)\" style=\"fill:#009af9; stroke:none; fill-opacity:0\" cx=\"397.878\" cy=\"1486.45\" r=\"2\"/>\n",
       "<circle clip-path=\"url(#clip802)\" style=\"fill:#009af9; stroke:none; fill-opacity:0\" cx=\"424.653\" cy=\"1479.94\" r=\"2\"/>\n",
       "<circle clip-path=\"url(#clip802)\" style=\"fill:#009af9; stroke:none; fill-opacity:0\" cx=\"451.428\" cy=\"1479.94\" r=\"2\"/>\n",
       "<circle clip-path=\"url(#clip802)\" style=\"fill:#009af9; stroke:none; fill-opacity:0\" cx=\"478.203\" cy=\"1460.4\" r=\"2\"/>\n",
       "<circle clip-path=\"url(#clip802)\" style=\"fill:#009af9; stroke:none; fill-opacity:0\" cx=\"504.978\" cy=\"1460.4\" r=\"2\"/>\n",
       "<circle clip-path=\"url(#clip802)\" style=\"fill:#009af9; stroke:none; fill-opacity:0\" cx=\"531.753\" cy=\"1447.37\" r=\"2\"/>\n",
       "<circle clip-path=\"url(#clip802)\" style=\"fill:#009af9; stroke:none; fill-opacity:0\" cx=\"558.528\" cy=\"1447.37\" r=\"2\"/>\n",
       "<circle clip-path=\"url(#clip802)\" style=\"fill:#009af9; stroke:none; fill-opacity:0\" cx=\"585.303\" cy=\"1440.86\" r=\"2\"/>\n",
       "<circle clip-path=\"url(#clip802)\" style=\"fill:#009af9; stroke:none; fill-opacity:0\" cx=\"612.078\" cy=\"1408.3\" r=\"2\"/>\n",
       "<circle clip-path=\"url(#clip802)\" style=\"fill:#009af9; stroke:none; fill-opacity:0\" cx=\"638.853\" cy=\"1408.3\" r=\"2\"/>\n",
       "<circle clip-path=\"url(#clip802)\" style=\"fill:#009af9; stroke:none; fill-opacity:0\" cx=\"665.628\" cy=\"1317.13\" r=\"2\"/>\n",
       "<circle clip-path=\"url(#clip802)\" style=\"fill:#009af9; stroke:none; fill-opacity:0\" cx=\"692.403\" cy=\"1323.64\" r=\"2\"/>\n",
       "<circle clip-path=\"url(#clip802)\" style=\"fill:#009af9; stroke:none; fill-opacity:0\" cx=\"719.178\" cy=\"1343.18\" r=\"2\"/>\n",
       "<circle clip-path=\"url(#clip802)\" style=\"fill:#009af9; stroke:none; fill-opacity:0\" cx=\"745.953\" cy=\"1317.13\" r=\"2\"/>\n",
       "<circle clip-path=\"url(#clip802)\" style=\"fill:#009af9; stroke:none; fill-opacity:0\" cx=\"772.728\" cy=\"1173.86\" r=\"2\"/>\n",
       "<circle clip-path=\"url(#clip802)\" style=\"fill:#009af9; stroke:none; fill-opacity:0\" cx=\"799.503\" cy=\"1225.96\" r=\"2\"/>\n",
       "<circle clip-path=\"url(#clip802)\" style=\"fill:#009af9; stroke:none; fill-opacity:0\" cx=\"826.278\" cy=\"1147.81\" r=\"2\"/>\n",
       "<circle clip-path=\"url(#clip802)\" style=\"fill:#009af9; stroke:none; fill-opacity:0\" cx=\"853.053\" cy=\"1108.74\" r=\"2\"/>\n",
       "<circle clip-path=\"url(#clip802)\" style=\"fill:#009af9; stroke:none; fill-opacity:0\" cx=\"879.828\" cy=\"991.518\" r=\"2\"/>\n",
       "<circle clip-path=\"url(#clip802)\" style=\"fill:#009af9; stroke:none; fill-opacity:0\" cx=\"906.603\" cy=\"958.957\" r=\"2\"/>\n",
       "<circle clip-path=\"url(#clip802)\" style=\"fill:#009af9; stroke:none; fill-opacity:0\" cx=\"933.377\" cy=\"750.565\" r=\"2\"/>\n",
       "<circle clip-path=\"url(#clip802)\" style=\"fill:#009af9; stroke:none; fill-opacity:0\" cx=\"960.152\" cy=\"691.955\" r=\"2\"/>\n",
       "<circle clip-path=\"url(#clip802)\" style=\"fill:#009af9; stroke:none; fill-opacity:0\" cx=\"986.927\" cy=\"659.394\" r=\"2\"/>\n",
       "<circle clip-path=\"url(#clip802)\" style=\"fill:#009af9; stroke:none; fill-opacity:0\" cx=\"1013.7\" cy=\"711.492\" r=\"2\"/>\n",
       "<circle clip-path=\"url(#clip802)\" style=\"fill:#009af9; stroke:none; fill-opacity:0\" cx=\"1040.48\" cy=\"464.027\" r=\"2\"/>\n",
       "<circle clip-path=\"url(#clip802)\" style=\"fill:#009af9; stroke:none; fill-opacity:0\" cx=\"1067.25\" cy=\"496.588\" r=\"2\"/>\n",
       "<circle clip-path=\"url(#clip802)\" style=\"fill:#009af9; stroke:none; fill-opacity:0\" cx=\"1094.03\" cy=\"464.027\" r=\"2\"/>\n",
       "<circle clip-path=\"url(#clip802)\" style=\"fill:#009af9; stroke:none; fill-opacity:0\" cx=\"1120.8\" cy=\"210.05\" r=\"2\"/>\n",
       "<circle clip-path=\"url(#clip802)\" style=\"fill:#009af9; stroke:none; fill-opacity:0\" cx=\"1147.58\" cy=\"451.003\" r=\"2\"/>\n",
       "<circle clip-path=\"url(#clip802)\" style=\"fill:#009af9; stroke:none; fill-opacity:0\" cx=\"1174.35\" cy=\"131.903\" r=\"2\"/>\n",
       "<circle clip-path=\"url(#clip802)\" style=\"fill:#009af9; stroke:none; fill-opacity:0\" cx=\"1201.13\" cy=\"47.2441\" r=\"2\"/>\n",
       "<circle clip-path=\"url(#clip802)\" style=\"fill:#009af9; stroke:none; fill-opacity:0\" cx=\"1227.9\" cy=\"92.8297\" r=\"2\"/>\n",
       "<circle clip-path=\"url(#clip802)\" style=\"fill:#009af9; stroke:none; fill-opacity:0\" cx=\"1254.68\" cy=\"105.854\" r=\"2\"/>\n",
       "<circle clip-path=\"url(#clip802)\" style=\"fill:#009af9; stroke:none; fill-opacity:0\" cx=\"1281.45\" cy=\"131.903\" r=\"2\"/>\n",
       "<circle clip-path=\"url(#clip802)\" style=\"fill:#009af9; stroke:none; fill-opacity:0\" cx=\"1308.23\" cy=\"184.001\" r=\"2\"/>\n",
       "<circle clip-path=\"url(#clip802)\" style=\"fill:#009af9; stroke:none; fill-opacity:0\" cx=\"1335\" cy=\"242.611\" r=\"2\"/>\n",
       "<circle clip-path=\"url(#clip802)\" style=\"fill:#009af9; stroke:none; fill-opacity:0\" cx=\"1361.78\" cy=\"340.295\" r=\"2\"/>\n",
       "<circle clip-path=\"url(#clip802)\" style=\"fill:#009af9; stroke:none; fill-opacity:0\" cx=\"1388.55\" cy=\"392.393\" r=\"2\"/>\n",
       "<circle clip-path=\"url(#clip802)\" style=\"fill:#009af9; stroke:none; fill-opacity:0\" cx=\"1415.33\" cy=\"392.393\" r=\"2\"/>\n",
       "<circle clip-path=\"url(#clip802)\" style=\"fill:#009af9; stroke:none; fill-opacity:0\" cx=\"1442.1\" cy=\"561.711\" r=\"2\"/>\n",
       "<circle clip-path=\"url(#clip802)\" style=\"fill:#009af9; stroke:none; fill-opacity:0\" cx=\"1468.88\" cy=\"568.223\" r=\"2\"/>\n",
       "<circle clip-path=\"url(#clip802)\" style=\"fill:#009af9; stroke:none; fill-opacity:0\" cx=\"1495.65\" cy=\"639.857\" r=\"2\"/>\n",
       "<circle clip-path=\"url(#clip802)\" style=\"fill:#009af9; stroke:none; fill-opacity:0\" cx=\"1522.43\" cy=\"737.541\" r=\"2\"/>\n",
       "<circle clip-path=\"url(#clip802)\" style=\"fill:#009af9; stroke:none; fill-opacity:0\" cx=\"1549.2\" cy=\"802.663\" r=\"2\"/>\n",
       "<circle clip-path=\"url(#clip802)\" style=\"fill:#009af9; stroke:none; fill-opacity:0\" cx=\"1575.98\" cy=\"867.786\" r=\"2\"/>\n",
       "<circle clip-path=\"url(#clip802)\" style=\"fill:#009af9; stroke:none; fill-opacity:0\" cx=\"1602.75\" cy=\"848.249\" r=\"2\"/>\n",
       "<circle clip-path=\"url(#clip802)\" style=\"fill:#009af9; stroke:none; fill-opacity:0\" cx=\"1629.53\" cy=\"952.445\" r=\"2\"/>\n",
       "<circle clip-path=\"url(#clip802)\" style=\"fill:#009af9; stroke:none; fill-opacity:0\" cx=\"1656.3\" cy=\"1160.84\" r=\"2\"/>\n",
       "<circle clip-path=\"url(#clip802)\" style=\"fill:#009af9; stroke:none; fill-opacity:0\" cx=\"1683.08\" cy=\"1167.35\" r=\"2\"/>\n",
       "<circle clip-path=\"url(#clip802)\" style=\"fill:#009af9; stroke:none; fill-opacity:0\" cx=\"1709.85\" cy=\"1238.98\" r=\"2\"/>\n",
       "<circle clip-path=\"url(#clip802)\" style=\"fill:#009af9; stroke:none; fill-opacity:0\" cx=\"1736.63\" cy=\"1252.01\" r=\"2\"/>\n",
       "<circle clip-path=\"url(#clip802)\" style=\"fill:#009af9; stroke:none; fill-opacity:0\" cx=\"1763.4\" cy=\"1278.06\" r=\"2\"/>\n",
       "<circle clip-path=\"url(#clip802)\" style=\"fill:#009af9; stroke:none; fill-opacity:0\" cx=\"1790.18\" cy=\"1310.62\" r=\"2\"/>\n",
       "<circle clip-path=\"url(#clip802)\" style=\"fill:#009af9; stroke:none; fill-opacity:0\" cx=\"1816.95\" cy=\"1382.25\" r=\"2\"/>\n",
       "<circle clip-path=\"url(#clip802)\" style=\"fill:#009af9; stroke:none; fill-opacity:0\" cx=\"1843.73\" cy=\"1395.28\" r=\"2\"/>\n",
       "<circle clip-path=\"url(#clip802)\" style=\"fill:#009af9; stroke:none; fill-opacity:0\" cx=\"1870.5\" cy=\"1395.28\" r=\"2\"/>\n",
       "<circle clip-path=\"url(#clip802)\" style=\"fill:#009af9; stroke:none; fill-opacity:0\" cx=\"1897.28\" cy=\"1421.33\" r=\"2\"/>\n",
       "<circle clip-path=\"url(#clip802)\" style=\"fill:#009af9; stroke:none; fill-opacity:0\" cx=\"1924.05\" cy=\"1447.37\" r=\"2\"/>\n",
       "<circle clip-path=\"url(#clip802)\" style=\"fill:#009af9; stroke:none; fill-opacity:0\" cx=\"1950.83\" cy=\"1460.4\" r=\"2\"/>\n",
       "<circle clip-path=\"url(#clip802)\" style=\"fill:#009af9; stroke:none; fill-opacity:0\" cx=\"1977.6\" cy=\"1453.89\" r=\"2\"/>\n",
       "<circle clip-path=\"url(#clip802)\" style=\"fill:#009af9; stroke:none; fill-opacity:0\" cx=\"2004.38\" cy=\"1466.91\" r=\"2\"/>\n",
       "<circle clip-path=\"url(#clip802)\" style=\"fill:#009af9; stroke:none; fill-opacity:0\" cx=\"2031.15\" cy=\"1473.42\" r=\"2\"/>\n",
       "<circle clip-path=\"url(#clip802)\" style=\"fill:#009af9; stroke:none; fill-opacity:0\" cx=\"2057.93\" cy=\"1486.45\" r=\"2\"/>\n",
       "<circle clip-path=\"url(#clip802)\" style=\"fill:#009af9; stroke:none; fill-opacity:0\" cx=\"2084.7\" cy=\"1466.91\" r=\"2\"/>\n",
       "<circle clip-path=\"url(#clip802)\" style=\"fill:#009af9; stroke:none; fill-opacity:0\" cx=\"2111.48\" cy=\"1473.42\" r=\"2\"/>\n",
       "<circle clip-path=\"url(#clip802)\" style=\"fill:#009af9; stroke:none; fill-opacity:0\" cx=\"2138.25\" cy=\"1473.42\" r=\"2\"/>\n",
       "<circle clip-path=\"url(#clip802)\" style=\"fill:#009af9; stroke:none; fill-opacity:0\" cx=\"2165.03\" cy=\"1486.45\" r=\"2\"/>\n",
       "<circle clip-path=\"url(#clip802)\" style=\"fill:#009af9; stroke:none; fill-opacity:0\" cx=\"2191.8\" cy=\"1486.45\" r=\"2\"/>\n",
       "<circle clip-path=\"url(#clip802)\" style=\"fill:#009af9; stroke:none; fill-opacity:0\" cx=\"2218.58\" cy=\"1479.94\" r=\"2\"/>\n",
       "</svg>\n"
      ]
     },
     "metadata": {},
     "output_type": "display_data"
    }
   ],
   "source": [
    "Ω = randn(5000);\n",
    "histogram(Ω, legend = false, norm=true, nbins = 100, alpha = 0.8)"
   ]
  },
  {
   "cell_type": "code",
   "execution_count": 331,
   "metadata": {},
   "outputs": [
    {
     "data": {
      "image/png": "[encoded data removed]",
      "image/svg+xml": [
       "<?xml version=\"1.0\" encoding=\"utf-8\"?>\n",
       "<svg xmlns=\"http://www.w3.org/2000/svg\" xmlns:xlink=\"http://www.w3.org/1999/xlink\" width=\"600\" height=\"400\" viewBox=\"0 0 2400 1600\">\n",
       "<defs>\n",
       "  <clipPath id=\"clip840\">\n",
       "    <rect x=\"0\" y=\"0\" width=\"2400\" height=\"1600\"/>\n",
       "  </clipPath>\n",
       "</defs>\n",
       "<path clip-path=\"url(#clip840)\" d=\"M0 1600 L2400 1600 L2400 0 L0 0  Z\" fill=\"#ffffff\" fill-rule=\"evenodd\" fill-opacity=\"1\"/>\n",
       "<defs>\n",
       "  <clipPath id=\"clip841\">\n",
       "    <rect x=\"480\" y=\"0\" width=\"1681\" height=\"1600\"/>\n",
       "  </clipPath>\n",
       "</defs>\n",
       "<path clip-path=\"url(#clip840)\" d=\"M156.598 1486.45 L2352.76 1486.45 L2352.76 47.2441 L156.598 47.2441  Z\" fill=\"#ffffff\" fill-rule=\"evenodd\" fill-opacity=\"1\"/>\n",
       "<defs>\n",
       "  <clipPath id=\"clip842\">\n",
       "    <rect x=\"156\" y=\"47\" width=\"2197\" height=\"1440\"/>\n",
       "  </clipPath>\n",
       "</defs>\n",
       "<polyline clip-path=\"url(#clip842)\" style=\"stroke:#000000; stroke-linecap:round; stroke-linejoin:round; stroke-width:2; stroke-opacity:0.1; fill:none\" points=\"425.938,1486.45 425.938,47.2441 \"/>\n",
       "<polyline clip-path=\"url(#clip842)\" style=\"stroke:#000000; stroke-linecap:round; stroke-linejoin:round; stroke-width:2; stroke-opacity:0.1; fill:none\" points=\"840.308,1486.45 840.308,47.2441 \"/>\n",
       "<polyline clip-path=\"url(#clip842)\" style=\"stroke:#000000; stroke-linecap:round; stroke-linejoin:round; stroke-width:2; stroke-opacity:0.1; fill:none\" points=\"1254.68,1486.45 1254.68,47.2441 \"/>\n",
       "<polyline clip-path=\"url(#clip842)\" style=\"stroke:#000000; stroke-linecap:round; stroke-linejoin:round; stroke-width:2; stroke-opacity:0.1; fill:none\" points=\"1669.05,1486.45 1669.05,47.2441 \"/>\n",
       "<polyline clip-path=\"url(#clip842)\" style=\"stroke:#000000; stroke-linecap:round; stroke-linejoin:round; stroke-width:2; stroke-opacity:0.1; fill:none\" points=\"2083.42,1486.45 2083.42,47.2441 \"/>\n",
       "<polyline clip-path=\"url(#clip842)\" style=\"stroke:#000000; stroke-linecap:round; stroke-linejoin:round; stroke-width:2; stroke-opacity:0.1; fill:none\" points=\"156.598,1486.45 2352.76,1486.45 \"/>\n",
       "<polyline clip-path=\"url(#clip842)\" style=\"stroke:#000000; stroke-linecap:round; stroke-linejoin:round; stroke-width:2; stroke-opacity:0.1; fill:none\" points=\"156.598,1160.84 2352.76,1160.84 \"/>\n",
       "<polyline clip-path=\"url(#clip842)\" style=\"stroke:#000000; stroke-linecap:round; stroke-linejoin:round; stroke-width:2; stroke-opacity:0.1; fill:none\" points=\"156.598,835.224 2352.76,835.224 \"/>\n",
       "<polyline clip-path=\"url(#clip842)\" style=\"stroke:#000000; stroke-linecap:round; stroke-linejoin:round; stroke-width:2; stroke-opacity:0.1; fill:none\" points=\"156.598,509.613 2352.76,509.613 \"/>\n",
       "<polyline clip-path=\"url(#clip842)\" style=\"stroke:#000000; stroke-linecap:round; stroke-linejoin:round; stroke-width:2; stroke-opacity:0.1; fill:none\" points=\"156.598,184.001 2352.76,184.001 \"/>\n",
       "<polyline clip-path=\"url(#clip840)\" style=\"stroke:#000000; stroke-linecap:round; stroke-linejoin:round; stroke-width:4; stroke-opacity:1; fill:none\" points=\"156.598,1486.45 2352.76,1486.45 \"/>\n",
       "<polyline clip-path=\"url(#clip840)\" style=\"stroke:#000000; stroke-linecap:round; stroke-linejoin:round; stroke-width:4; stroke-opacity:1; fill:none\" points=\"425.938,1486.45 425.938,1467.55 \"/>\n",
       "<polyline clip-path=\"url(#clip840)\" style=\"stroke:#000000; stroke-linecap:round; stroke-linejoin:round; stroke-width:4; stroke-opacity:1; fill:none\" points=\"840.308,1486.45 840.308,1467.55 \"/>\n",
       "<polyline clip-path=\"url(#clip840)\" style=\"stroke:#000000; stroke-linecap:round; stroke-linejoin:round; stroke-width:4; stroke-opacity:1; fill:none\" points=\"1254.68,1486.45 1254.68,1467.55 \"/>\n",
       "<polyline clip-path=\"url(#clip840)\" style=\"stroke:#000000; stroke-linecap:round; stroke-linejoin:round; stroke-width:4; stroke-opacity:1; fill:none\" points=\"1669.05,1486.45 1669.05,1467.55 \"/>\n",
       "<polyline clip-path=\"url(#clip840)\" style=\"stroke:#000000; stroke-linecap:round; stroke-linejoin:round; stroke-width:4; stroke-opacity:1; fill:none\" points=\"2083.42,1486.45 2083.42,1467.55 \"/>\n",
       "<path clip-path=\"url(#clip840)\" d=\"M394.839 1532.02 L424.515 1532.02 L424.515 1535.95 L394.839 1535.95 L394.839 1532.02 Z\" fill=\"#000000\" fill-rule=\"nonzero\" fill-opacity=\"1\" /><path clip-path=\"url(#clip840)\" d=\"M447.454 1518.36 L435.649 1536.81 L447.454 1536.81 L447.454 1518.36 M446.228 1514.29 L452.107 1514.29 L452.107 1536.81 L457.038 1536.81 L457.038 1540.7 L452.107 1540.7 L452.107 1548.85 L447.454 1548.85 L447.454 1540.7 L431.853 1540.7 L431.853 1536.19 L446.228 1514.29 Z\" fill=\"#000000\" fill-rule=\"nonzero\" fill-opacity=\"1\" /><path clip-path=\"url(#clip840)\" d=\"M810.25 1532.02 L839.926 1532.02 L839.926 1535.95 L810.25 1535.95 L810.25 1532.02 Z\" fill=\"#000000\" fill-rule=\"nonzero\" fill-opacity=\"1\" /><path clip-path=\"url(#clip840)\" d=\"M854.046 1544.91 L870.365 1544.91 L870.365 1548.85 L848.421 1548.85 L848.421 1544.91 Q851.083 1542.16 855.666 1537.53 Q860.273 1532.88 861.453 1531.53 Q863.699 1529.01 864.578 1527.27 Q865.481 1525.51 865.481 1523.82 Q865.481 1521.07 863.537 1519.33 Q861.615 1517.6 858.514 1517.6 Q856.315 1517.6 853.861 1518.36 Q851.43 1519.13 848.653 1520.68 L848.653 1515.95 Q851.477 1514.82 853.93 1514.24 Q856.384 1513.66 858.421 1513.66 Q863.791 1513.66 866.986 1516.35 Q870.18 1519.03 870.18 1523.52 Q870.18 1525.65 869.37 1527.57 Q868.583 1529.47 866.477 1532.07 Q865.898 1532.74 862.796 1535.95 Q859.694 1539.15 854.046 1544.91 Z\" fill=\"#000000\" fill-rule=\"nonzero\" fill-opacity=\"1\" /><path clip-path=\"url(#clip840)\" d=\"M1254.68 1517.37 Q1251.07 1517.37 1249.24 1520.93 Q1247.43 1524.47 1247.43 1531.6 Q1247.43 1538.71 1249.24 1542.27 Q1251.07 1545.82 1254.68 1545.82 Q1258.31 1545.82 1260.12 1542.27 Q1261.95 1538.71 1261.95 1531.6 Q1261.95 1524.47 1260.12 1520.93 Q1258.31 1517.37 1254.68 1517.37 M1254.68 1513.66 Q1260.49 1513.66 1263.54 1518.27 Q1266.62 1522.85 1266.62 1531.6 Q1266.62 1540.33 1263.54 1544.94 Q1260.49 1549.52 1254.68 1549.52 Q1248.87 1549.52 1245.79 1544.94 Q1242.73 1540.33 1242.73 1531.6 Q1242.73 1522.85 1245.79 1518.27 Q1248.87 1513.66 1254.68 1513.66 Z\" fill=\"#000000\" fill-rule=\"nonzero\" fill-opacity=\"1\" /><path clip-path=\"url(#clip840)\" d=\"M1663.7 1544.91 L1680.02 1544.91 L1680.02 1548.85 L1658.07 1548.85 L1658.07 1544.91 Q1660.74 1542.16 1665.32 1537.53 Q1669.93 1532.88 1671.11 1531.53 Q1673.35 1529.01 1674.23 1527.27 Q1675.13 1525.51 1675.13 1523.82 Q1675.13 1521.07 1673.19 1519.33 Q1671.27 1517.6 1668.17 1517.6 Q1665.97 1517.6 1663.51 1518.36 Q1661.08 1519.13 1658.31 1520.68 L1658.31 1515.95 Q1661.13 1514.82 1663.58 1514.24 Q1666.04 1513.66 1668.07 1513.66 Q1673.44 1513.66 1676.64 1516.35 Q1679.83 1519.03 1679.83 1523.52 Q1679.83 1525.65 1679.02 1527.57 Q1678.24 1529.47 1676.13 1532.07 Q1675.55 1532.74 1672.45 1535.95 Q1669.35 1539.15 1663.7 1544.91 Z\" fill=\"#000000\" fill-rule=\"nonzero\" fill-opacity=\"1\" /><path clip-path=\"url(#clip840)\" d=\"M2086.43 1518.36 L2074.62 1536.81 L2086.43 1536.81 L2086.43 1518.36 M2085.2 1514.29 L2091.08 1514.29 L2091.08 1536.81 L2096.01 1536.81 L2096.01 1540.7 L2091.08 1540.7 L2091.08 1548.85 L2086.43 1548.85 L2086.43 1540.7 L2070.82 1540.7 L2070.82 1536.19 L2085.2 1514.29 Z\" fill=\"#000000\" fill-rule=\"nonzero\" fill-opacity=\"1\" /><polyline clip-path=\"url(#clip840)\" style=\"stroke:#000000; stroke-linecap:round; stroke-linejoin:round; stroke-width:4; stroke-opacity:1; fill:none\" points=\"156.598,1486.45 156.598,47.2441 \"/>\n",
       "<polyline clip-path=\"url(#clip840)\" style=\"stroke:#000000; stroke-linecap:round; stroke-linejoin:round; stroke-width:4; stroke-opacity:1; fill:none\" points=\"156.598,1486.45 175.496,1486.45 \"/>\n",
       "<polyline clip-path=\"url(#clip840)\" style=\"stroke:#000000; stroke-linecap:round; stroke-linejoin:round; stroke-width:4; stroke-opacity:1; fill:none\" points=\"156.598,1160.84 175.496,1160.84 \"/>\n",
       "<polyline clip-path=\"url(#clip840)\" style=\"stroke:#000000; stroke-linecap:round; stroke-linejoin:round; stroke-width:4; stroke-opacity:1; fill:none\" points=\"156.598,835.224 175.496,835.224 \"/>\n",
       "<polyline clip-path=\"url(#clip840)\" style=\"stroke:#000000; stroke-linecap:round; stroke-linejoin:round; stroke-width:4; stroke-opacity:1; fill:none\" points=\"156.598,509.613 175.496,509.613 \"/>\n",
       "<polyline clip-path=\"url(#clip840)\" style=\"stroke:#000000; stroke-linecap:round; stroke-linejoin:round; stroke-width:4; stroke-opacity:1; fill:none\" points=\"156.598,184.001 175.496,184.001 \"/>\n",
       "<path clip-path=\"url(#clip840)\" d=\"M63.4226 1472.25 Q59.8115 1472.25 57.9828 1475.81 Q56.1773 1479.35 56.1773 1486.48 Q56.1773 1493.59 57.9828 1497.15 Q59.8115 1500.7 63.4226 1500.7 Q67.0569 1500.7 68.8624 1497.15 Q70.6911 1493.59 70.6911 1486.48 Q70.6911 1479.35 68.8624 1475.81 Q67.0569 1472.25 63.4226 1472.25 M63.4226 1468.54 Q69.2328 1468.54 72.2883 1473.15 Q75.367 1477.73 75.367 1486.48 Q75.367 1495.21 72.2883 1499.82 Q69.2328 1504.4 63.4226 1504.4 Q57.6125 1504.4 54.5338 1499.82 Q51.4782 1495.21 51.4782 1486.48 Q51.4782 1477.73 54.5338 1473.15 Q57.6125 1468.54 63.4226 1468.54 Z\" fill=\"#000000\" fill-rule=\"nonzero\" fill-opacity=\"1\" /><path clip-path=\"url(#clip840)\" d=\"M83.5845 1497.85 L88.4688 1497.85 L88.4688 1503.73 L83.5845 1503.73 L83.5845 1497.85 Z\" fill=\"#000000\" fill-rule=\"nonzero\" fill-opacity=\"1\" /><path clip-path=\"url(#clip840)\" d=\"M108.654 1472.25 Q105.043 1472.25 103.214 1475.81 Q101.409 1479.35 101.409 1486.48 Q101.409 1493.59 103.214 1497.15 Q105.043 1500.7 108.654 1500.7 Q112.288 1500.7 114.094 1497.15 Q115.922 1493.59 115.922 1486.48 Q115.922 1479.35 114.094 1475.81 Q112.288 1472.25 108.654 1472.25 M108.654 1468.54 Q114.464 1468.54 117.52 1473.15 Q120.598 1477.73 120.598 1486.48 Q120.598 1495.21 117.52 1499.82 Q114.464 1504.4 108.654 1504.4 Q102.844 1504.4 99.765 1499.82 Q96.7095 1495.21 96.7095 1486.48 Q96.7095 1477.73 99.765 1473.15 Q102.844 1468.54 108.654 1468.54 Z\" fill=\"#000000\" fill-rule=\"nonzero\" fill-opacity=\"1\" /><path clip-path=\"url(#clip840)\" d=\"M64.6495 1146.63 Q61.0384 1146.63 59.2097 1150.2 Q57.4041 1153.74 57.4041 1160.87 Q57.4041 1167.98 59.2097 1171.54 Q61.0384 1175.08 64.6495 1175.08 Q68.2837 1175.08 70.0892 1171.54 Q71.9179 1167.98 71.9179 1160.87 Q71.9179 1153.74 70.0892 1150.2 Q68.2837 1146.63 64.6495 1146.63 M64.6495 1142.93 Q70.4596 1142.93 73.5152 1147.54 Q76.5938 1152.12 76.5938 1160.87 Q76.5938 1169.6 73.5152 1174.2 Q70.4596 1178.79 64.6495 1178.79 Q58.8393 1178.79 55.7606 1174.2 Q52.7051 1169.6 52.7051 1160.87 Q52.7051 1152.12 55.7606 1147.54 Q58.8393 1142.93 64.6495 1142.93 Z\" fill=\"#000000\" fill-rule=\"nonzero\" fill-opacity=\"1\" /><path clip-path=\"url(#clip840)\" d=\"M84.8114 1172.24 L89.6956 1172.24 L89.6956 1178.12 L84.8114 1178.12 L84.8114 1172.24 Z\" fill=\"#000000\" fill-rule=\"nonzero\" fill-opacity=\"1\" /><path clip-path=\"url(#clip840)\" d=\"M100.691 1174.18 L108.33 1174.18 L108.33 1147.82 L100.02 1149.48 L100.02 1145.22 L108.283 1143.56 L112.959 1143.56 L112.959 1174.18 L120.598 1174.18 L120.598 1178.12 L100.691 1178.12 L100.691 1174.18 Z\" fill=\"#000000\" fill-rule=\"nonzero\" fill-opacity=\"1\" /><path clip-path=\"url(#clip840)\" d=\"M65.0198 821.023 Q61.4087 821.023 59.58 824.588 Q57.7745 828.13 57.7745 835.259 Q57.7745 842.366 59.58 845.93 Q61.4087 849.472 65.0198 849.472 Q68.6541 849.472 70.4596 845.93 Q72.2883 842.366 72.2883 835.259 Q72.2883 828.13 70.4596 824.588 Q68.6541 821.023 65.0198 821.023 M65.0198 817.319 Q70.83 817.319 73.8855 821.926 Q76.9642 826.509 76.9642 835.259 Q76.9642 843.986 73.8855 848.592 Q70.83 853.176 65.0198 853.176 Q59.2097 853.176 56.131 848.592 Q53.0754 843.986 53.0754 835.259 Q53.0754 826.509 56.131 821.926 Q59.2097 817.319 65.0198 817.319 Z\" fill=\"#000000\" fill-rule=\"nonzero\" fill-opacity=\"1\" /><path clip-path=\"url(#clip840)\" d=\"M85.1818 846.625 L90.066 846.625 L90.066 852.504 L85.1818 852.504 L85.1818 846.625 Z\" fill=\"#000000\" fill-rule=\"nonzero\" fill-opacity=\"1\" /><path clip-path=\"url(#clip840)\" d=\"M104.279 848.569 L120.598 848.569 L120.598 852.504 L98.6539 852.504 L98.6539 848.569 Q101.316 845.815 105.899 841.185 Q110.506 836.532 111.686 835.19 Q113.932 832.667 114.811 830.93 Q115.714 829.171 115.714 827.481 Q115.714 824.727 113.77 822.991 Q111.848 821.255 108.746 821.255 Q106.547 821.255 104.094 822.018 Q101.663 822.782 98.8854 824.333 L98.8854 819.611 Q101.709 818.477 104.163 817.898 Q106.617 817.319 108.654 817.319 Q114.024 817.319 117.219 820.005 Q120.413 822.69 120.413 827.181 Q120.413 829.31 119.603 831.231 Q118.816 833.13 116.709 835.722 Q116.131 836.393 113.029 839.611 Q109.927 842.805 104.279 848.569 Z\" fill=\"#000000\" fill-rule=\"nonzero\" fill-opacity=\"1\" /><path clip-path=\"url(#clip840)\" d=\"M64.0708 495.411 Q60.4597 495.411 58.631 498.976 Q56.8254 502.518 56.8254 509.647 Q56.8254 516.754 58.631 520.319 Q60.4597 523.86 64.0708 523.86 Q67.705 523.86 69.5105 520.319 Q71.3392 516.754 71.3392 509.647 Q71.3392 502.518 69.5105 498.976 Q67.705 495.411 64.0708 495.411 M64.0708 491.708 Q69.8809 491.708 72.9365 496.314 Q76.0151 500.897 76.0151 509.647 Q76.0151 518.374 72.9365 522.981 Q69.8809 527.564 64.0708 527.564 Q58.2606 527.564 55.1819 522.981 Q52.1264 518.374 52.1264 509.647 Q52.1264 500.897 55.1819 496.314 Q58.2606 491.708 64.0708 491.708 Z\" fill=\"#000000\" fill-rule=\"nonzero\" fill-opacity=\"1\" /><path clip-path=\"url(#clip840)\" d=\"M84.2327 521.013 L89.1169 521.013 L89.1169 526.893 L84.2327 526.893 L84.2327 521.013 Z\" fill=\"#000000\" fill-rule=\"nonzero\" fill-opacity=\"1\" /><path clip-path=\"url(#clip840)\" d=\"M113.469 508.259 Q116.825 508.976 118.7 511.245 Q120.598 513.513 120.598 516.846 Q120.598 521.962 117.08 524.763 Q113.561 527.564 107.08 527.564 Q104.904 527.564 102.589 527.124 Q100.297 526.708 97.8437 525.851 L97.8437 521.337 Q99.7882 522.471 102.103 523.05 Q104.418 523.629 106.941 523.629 Q111.339 523.629 113.631 521.893 Q115.945 520.157 115.945 516.846 Q115.945 513.791 113.793 512.078 Q111.663 510.342 107.844 510.342 L103.816 510.342 L103.816 506.499 L108.029 506.499 Q111.478 506.499 113.307 505.134 Q115.135 503.745 115.135 501.152 Q115.135 498.49 113.237 497.078 Q111.362 495.643 107.844 495.643 Q105.922 495.643 103.723 496.06 Q101.524 496.476 98.8854 497.356 L98.8854 493.189 Q101.547 492.448 103.862 492.078 Q106.2 491.708 108.26 491.708 Q113.584 491.708 116.686 494.138 Q119.788 496.546 119.788 500.666 Q119.788 503.536 118.145 505.527 Q116.501 507.495 113.469 508.259 Z\" fill=\"#000000\" fill-rule=\"nonzero\" fill-opacity=\"1\" /><path clip-path=\"url(#clip840)\" d=\"M62.9365 169.8 Q59.3254 169.8 57.4967 173.364 Q55.6912 176.906 55.6912 184.036 Q55.6912 191.142 57.4967 194.707 Q59.3254 198.249 62.9365 198.249 Q66.5707 198.249 68.3763 194.707 Q70.205 191.142 70.205 184.036 Q70.205 176.906 68.3763 173.364 Q66.5707 169.8 62.9365 169.8 M62.9365 166.096 Q68.7467 166.096 71.8022 170.702 Q74.8809 175.286 74.8809 184.036 Q74.8809 192.763 71.8022 197.369 Q68.7467 201.952 62.9365 201.952 Q57.1264 201.952 54.0477 197.369 Q50.9921 192.763 50.9921 184.036 Q50.9921 175.286 54.0477 170.702 Q57.1264 166.096 62.9365 166.096 Z\" fill=\"#000000\" fill-rule=\"nonzero\" fill-opacity=\"1\" /><path clip-path=\"url(#clip840)\" d=\"M83.0984 195.401 L87.9827 195.401 L87.9827 201.281 L83.0984 201.281 L83.0984 195.401 Z\" fill=\"#000000\" fill-rule=\"nonzero\" fill-opacity=\"1\" /><path clip-path=\"url(#clip840)\" d=\"M111.015 170.795 L99.2095 189.244 L111.015 189.244 L111.015 170.795 M109.788 166.721 L115.668 166.721 L115.668 189.244 L120.598 189.244 L120.598 193.133 L115.668 193.133 L115.668 201.281 L111.015 201.281 L111.015 193.133 L95.4132 193.133 L95.4132 188.619 L109.788 166.721 Z\" fill=\"#000000\" fill-rule=\"nonzero\" fill-opacity=\"1\" /><path clip-path=\"url(#clip842)\" d=\"M508.812 1479.94 L508.812 1486.45 L529.531 1486.45 L529.531 1479.94 L508.812 1479.94 L508.812 1479.94  Z\" fill=\"#009af9\" fill-rule=\"evenodd\" fill-opacity=\"0.8\"/>\n",
       "<polyline clip-path=\"url(#clip842)\" style=\"stroke:#000000; stroke-linecap:round; stroke-linejoin:round; stroke-width:4; stroke-opacity:0.8; fill:none\" points=\"508.812,1479.94 508.812,1486.45 529.531,1486.45 529.531,1479.94 508.812,1479.94 \"/>\n",
       "<path clip-path=\"url(#clip842)\" d=\"M529.531 1479.94 L529.531 1486.45 L550.249 1486.45 L550.249 1479.94 L529.531 1479.94 L529.531 1479.94  Z\" fill=\"#009af9\" fill-rule=\"evenodd\" fill-opacity=\"0.8\"/>\n",
       "<polyline clip-path=\"url(#clip842)\" style=\"stroke:#000000; stroke-linecap:round; stroke-linejoin:round; stroke-width:4; stroke-opacity:0.8; fill:none\" points=\"529.531,1479.94 529.531,1486.45 550.249,1486.45 550.249,1479.94 529.531,1479.94 \"/>\n",
       "<path clip-path=\"url(#clip842)\" d=\"M550.249 1486.45 L550.249 1486.45 L570.968 1486.45 L570.968 1486.45 L550.249 1486.45 L550.249 1486.45  Z\" fill=\"#009af9\" fill-rule=\"evenodd\" fill-opacity=\"0.8\"/>\n",
       "<polyline clip-path=\"url(#clip842)\" style=\"stroke:#000000; stroke-linecap:round; stroke-linejoin:round; stroke-width:4; stroke-opacity:0.8; fill:none\" points=\"550.249,1486.45 550.249,1486.45 570.968,1486.45 550.249,1486.45 \"/>\n",
       "<path clip-path=\"url(#clip842)\" d=\"M570.968 1479.94 L570.968 1486.45 L591.686 1486.45 L591.686 1479.94 L570.968 1479.94 L570.968 1479.94  Z\" fill=\"#009af9\" fill-rule=\"evenodd\" fill-opacity=\"0.8\"/>\n",
       "<polyline clip-path=\"url(#clip842)\" style=\"stroke:#000000; stroke-linecap:round; stroke-linejoin:round; stroke-width:4; stroke-opacity:0.8; fill:none\" points=\"570.968,1479.94 570.968,1486.45 591.686,1486.45 591.686,1479.94 570.968,1479.94 \"/>\n",
       "<path clip-path=\"url(#clip842)\" d=\"M591.686 1486.45 L591.686 1486.45 L612.405 1486.45 L612.405 1486.45 L591.686 1486.45 L591.686 1486.45  Z\" fill=\"#009af9\" fill-rule=\"evenodd\" fill-opacity=\"0.8\"/>\n",
       "<polyline clip-path=\"url(#clip842)\" style=\"stroke:#000000; stroke-linecap:round; stroke-linejoin:round; stroke-width:4; stroke-opacity:0.8; fill:none\" points=\"591.686,1486.45 591.686,1486.45 612.405,1486.45 591.686,1486.45 \"/>\n",
       "<path clip-path=\"url(#clip842)\" d=\"M612.405 1479.94 L612.405 1486.45 L633.123 1486.45 L633.123 1479.94 L612.405 1479.94 L612.405 1479.94  Z\" fill=\"#009af9\" fill-rule=\"evenodd\" fill-opacity=\"0.8\"/>\n",
       "<polyline clip-path=\"url(#clip842)\" style=\"stroke:#000000; stroke-linecap:round; stroke-linejoin:round; stroke-width:4; stroke-opacity:0.8; fill:none\" points=\"612.405,1479.94 612.405,1486.45 633.123,1486.45 633.123,1479.94 612.405,1479.94 \"/>\n",
       "<path clip-path=\"url(#clip842)\" d=\"M633.123 1479.94 L633.123 1486.45 L653.841 1486.45 L653.841 1479.94 L633.123 1479.94 L633.123 1479.94  Z\" fill=\"#009af9\" fill-rule=\"evenodd\" fill-opacity=\"0.8\"/>\n",
       "<polyline clip-path=\"url(#clip842)\" style=\"stroke:#000000; stroke-linecap:round; stroke-linejoin:round; stroke-width:4; stroke-opacity:0.8; fill:none\" points=\"633.123,1479.94 633.123,1486.45 653.841,1486.45 653.841,1479.94 633.123,1479.94 \"/>\n",
       "<path clip-path=\"url(#clip842)\" d=\"M653.841 1460.4 L653.841 1486.45 L674.56 1486.45 L674.56 1460.4 L653.841 1460.4 L653.841 1460.4  Z\" fill=\"#009af9\" fill-rule=\"evenodd\" fill-opacity=\"0.8\"/>\n",
       "<polyline clip-path=\"url(#clip842)\" style=\"stroke:#000000; stroke-linecap:round; stroke-linejoin:round; stroke-width:4; stroke-opacity:0.8; fill:none\" points=\"653.841,1460.4 653.841,1486.45 674.56,1486.45 674.56,1460.4 653.841,1460.4 \"/>\n",
       "<path clip-path=\"url(#clip842)\" d=\"M674.56 1460.4 L674.56 1486.45 L695.278 1486.45 L695.278 1460.4 L674.56 1460.4 L674.56 1460.4  Z\" fill=\"#009af9\" fill-rule=\"evenodd\" fill-opacity=\"0.8\"/>\n",
       "<polyline clip-path=\"url(#clip842)\" style=\"stroke:#000000; stroke-linecap:round; stroke-linejoin:round; stroke-width:4; stroke-opacity:0.8; fill:none\" points=\"674.56,1460.4 674.56,1486.45 695.278,1486.45 695.278,1460.4 674.56,1460.4 \"/>\n",
       "<path clip-path=\"url(#clip842)\" d=\"M695.278 1447.37 L695.278 1486.45 L715.997 1486.45 L715.997 1447.37 L695.278 1447.37 L695.278 1447.37  Z\" fill=\"#009af9\" fill-rule=\"evenodd\" fill-opacity=\"0.8\"/>\n",
       "<polyline clip-path=\"url(#clip842)\" style=\"stroke:#000000; stroke-linecap:round; stroke-linejoin:round; stroke-width:4; stroke-opacity:0.8; fill:none\" points=\"695.278,1447.37 695.278,1486.45 715.997,1486.45 715.997,1447.37 695.278,1447.37 \"/>\n",
       "<path clip-path=\"url(#clip842)\" d=\"M715.997 1447.37 L715.997 1486.45 L736.715 1486.45 L736.715 1447.37 L715.997 1447.37 L715.997 1447.37  Z\" fill=\"#009af9\" fill-rule=\"evenodd\" fill-opacity=\"0.8\"/>\n",
       "<polyline clip-path=\"url(#clip842)\" style=\"stroke:#000000; stroke-linecap:round; stroke-linejoin:round; stroke-width:4; stroke-opacity:0.8; fill:none\" points=\"715.997,1447.37 715.997,1486.45 736.715,1486.45 736.715,1447.37 715.997,1447.37 \"/>\n",
       "<path clip-path=\"url(#clip842)\" d=\"M736.715 1440.86 L736.715 1486.45 L757.434 1486.45 L757.434 1440.86 L736.715 1440.86 L736.715 1440.86  Z\" fill=\"#009af9\" fill-rule=\"evenodd\" fill-opacity=\"0.8\"/>\n",
       "<polyline clip-path=\"url(#clip842)\" style=\"stroke:#000000; stroke-linecap:round; stroke-linejoin:round; stroke-width:4; stroke-opacity:0.8; fill:none\" points=\"736.715,1440.86 736.715,1486.45 757.434,1486.45 757.434,1440.86 736.715,1440.86 \"/>\n",
       "<path clip-path=\"url(#clip842)\" d=\"M757.434 1408.3 L757.434 1486.45 L778.152 1486.45 L778.152 1408.3 L757.434 1408.3 L757.434 1408.3  Z\" fill=\"#009af9\" fill-rule=\"evenodd\" fill-opacity=\"0.8\"/>\n",
       "<polyline clip-path=\"url(#clip842)\" style=\"stroke:#000000; stroke-linecap:round; stroke-linejoin:round; stroke-width:4; stroke-opacity:0.8; fill:none\" points=\"757.434,1408.3 757.434,1486.45 778.152,1486.45 778.152,1408.3 757.434,1408.3 \"/>\n",
       "<path clip-path=\"url(#clip842)\" d=\"M778.152 1408.3 L778.152 1486.45 L798.871 1486.45 L798.871 1408.3 L778.152 1408.3 L778.152 1408.3  Z\" fill=\"#009af9\" fill-rule=\"evenodd\" fill-opacity=\"0.8\"/>\n",
       "<polyline clip-path=\"url(#clip842)\" style=\"stroke:#000000; stroke-linecap:round; stroke-linejoin:round; stroke-width:4; stroke-opacity:0.8; fill:none\" points=\"778.152,1408.3 778.152,1486.45 798.871,1486.45 798.871,1408.3 778.152,1408.3 \"/>\n",
       "<path clip-path=\"url(#clip842)\" d=\"M798.871 1317.13 L798.871 1486.45 L819.589 1486.45 L819.589 1317.13 L798.871 1317.13 L798.871 1317.13  Z\" fill=\"#009af9\" fill-rule=\"evenodd\" fill-opacity=\"0.8\"/>\n",
       "<polyline clip-path=\"url(#clip842)\" style=\"stroke:#000000; stroke-linecap:round; stroke-linejoin:round; stroke-width:4; stroke-opacity:0.8; fill:none\" points=\"798.871,1317.13 798.871,1486.45 819.589,1486.45 819.589,1317.13 798.871,1317.13 \"/>\n",
       "<path clip-path=\"url(#clip842)\" d=\"M819.589 1323.64 L819.589 1486.45 L840.308 1486.45 L840.308 1323.64 L819.589 1323.64 L819.589 1323.64  Z\" fill=\"#009af9\" fill-rule=\"evenodd\" fill-opacity=\"0.8\"/>\n",
       "<polyline clip-path=\"url(#clip842)\" style=\"stroke:#000000; stroke-linecap:round; stroke-linejoin:round; stroke-width:4; stroke-opacity:0.8; fill:none\" points=\"819.589,1323.64 819.589,1486.45 840.308,1486.45 840.308,1323.64 819.589,1323.64 \"/>\n",
       "<path clip-path=\"url(#clip842)\" d=\"M840.308 1343.18 L840.308 1486.45 L861.026 1486.45 L861.026 1343.18 L840.308 1343.18 L840.308 1343.18  Z\" fill=\"#009af9\" fill-rule=\"evenodd\" fill-opacity=\"0.8\"/>\n",
       "<polyline clip-path=\"url(#clip842)\" style=\"stroke:#000000; stroke-linecap:round; stroke-linejoin:round; stroke-width:4; stroke-opacity:0.8; fill:none\" points=\"840.308,1343.18 840.308,1486.45 861.026,1486.45 861.026,1343.18 840.308,1343.18 \"/>\n",
       "<path clip-path=\"url(#clip842)\" d=\"M861.026 1317.13 L861.026 1486.45 L881.745 1486.45 L881.745 1317.13 L861.026 1317.13 L861.026 1317.13  Z\" fill=\"#009af9\" fill-rule=\"evenodd\" fill-opacity=\"0.8\"/>\n",
       "<polyline clip-path=\"url(#clip842)\" style=\"stroke:#000000; stroke-linecap:round; stroke-linejoin:round; stroke-width:4; stroke-opacity:0.8; fill:none\" points=\"861.026,1317.13 861.026,1486.45 881.745,1486.45 881.745,1317.13 861.026,1317.13 \"/>\n",
       "<path clip-path=\"url(#clip842)\" d=\"M881.745 1173.86 L881.745 1486.45 L902.463 1486.45 L902.463 1173.86 L881.745 1173.86 L881.745 1173.86  Z\" fill=\"#009af9\" fill-rule=\"evenodd\" fill-opacity=\"0.8\"/>\n",
       "<polyline clip-path=\"url(#clip842)\" style=\"stroke:#000000; stroke-linecap:round; stroke-linejoin:round; stroke-width:4; stroke-opacity:0.8; fill:none\" points=\"881.745,1173.86 881.745,1486.45 902.463,1486.45 902.463,1173.86 881.745,1173.86 \"/>\n",
       "<path clip-path=\"url(#clip842)\" d=\"M902.463 1225.96 L902.463 1486.45 L923.182 1486.45 L923.182 1225.96 L902.463 1225.96 L902.463 1225.96  Z\" fill=\"#009af9\" fill-rule=\"evenodd\" fill-opacity=\"0.8\"/>\n",
       "<polyline clip-path=\"url(#clip842)\" style=\"stroke:#000000; stroke-linecap:round; stroke-linejoin:round; stroke-width:4; stroke-opacity:0.8; fill:none\" points=\"902.463,1225.96 902.463,1486.45 923.182,1486.45 923.182,1225.96 902.463,1225.96 \"/>\n",
       "<path clip-path=\"url(#clip842)\" d=\"M923.182 1147.81 L923.182 1486.45 L943.9 1486.45 L943.9 1147.81 L923.182 1147.81 L923.182 1147.81  Z\" fill=\"#009af9\" fill-rule=\"evenodd\" fill-opacity=\"0.8\"/>\n",
       "<polyline clip-path=\"url(#clip842)\" style=\"stroke:#000000; stroke-linecap:round; stroke-linejoin:round; stroke-width:4; stroke-opacity:0.8; fill:none\" points=\"923.182,1147.81 923.182,1486.45 943.9,1486.45 943.9,1147.81 923.182,1147.81 \"/>\n",
       "<path clip-path=\"url(#clip842)\" d=\"M943.9 1108.74 L943.9 1486.45 L964.619 1486.45 L964.619 1108.74 L943.9 1108.74 L943.9 1108.74  Z\" fill=\"#009af9\" fill-rule=\"evenodd\" fill-opacity=\"0.8\"/>\n",
       "<polyline clip-path=\"url(#clip842)\" style=\"stroke:#000000; stroke-linecap:round; stroke-linejoin:round; stroke-width:4; stroke-opacity:0.8; fill:none\" points=\"943.9,1108.74 943.9,1486.45 964.619,1486.45 964.619,1108.74 943.9,1108.74 \"/>\n",
       "<path clip-path=\"url(#clip842)\" d=\"M964.619 991.518 L964.619 1486.45 L985.337 1486.45 L985.337 991.518 L964.619 991.518 L964.619 991.518  Z\" fill=\"#009af9\" fill-rule=\"evenodd\" fill-opacity=\"0.8\"/>\n",
       "<polyline clip-path=\"url(#clip842)\" style=\"stroke:#000000; stroke-linecap:round; stroke-linejoin:round; stroke-width:4; stroke-opacity:0.8; fill:none\" points=\"964.619,991.518 964.619,1486.45 985.337,1486.45 985.337,991.518 964.619,991.518 \"/>\n",
       "<path clip-path=\"url(#clip842)\" d=\"M985.337 958.957 L985.337 1486.45 L1006.06 1486.45 L1006.06 958.957 L985.337 958.957 L985.337 958.957  Z\" fill=\"#009af9\" fill-rule=\"evenodd\" fill-opacity=\"0.8\"/>\n",
       "<polyline clip-path=\"url(#clip842)\" style=\"stroke:#000000; stroke-linecap:round; stroke-linejoin:round; stroke-width:4; stroke-opacity:0.8; fill:none\" points=\"985.337,958.957 985.337,1486.45 1006.06,1486.45 1006.06,958.957 985.337,958.957 \"/>\n",
       "<path clip-path=\"url(#clip842)\" d=\"M1006.06 750.565 L1006.06 1486.45 L1026.77 1486.45 L1026.77 750.565 L1006.06 750.565 L1006.06 750.565  Z\" fill=\"#009af9\" fill-rule=\"evenodd\" fill-opacity=\"0.8\"/>\n",
       "<polyline clip-path=\"url(#clip842)\" style=\"stroke:#000000; stroke-linecap:round; stroke-linejoin:round; stroke-width:4; stroke-opacity:0.8; fill:none\" points=\"1006.06,750.565 1006.06,1486.45 1026.77,1486.45 1026.77,750.565 1006.06,750.565 \"/>\n",
       "<path clip-path=\"url(#clip842)\" d=\"M1026.77 691.955 L1026.77 1486.45 L1047.49 1486.45 L1047.49 691.955 L1026.77 691.955 L1026.77 691.955  Z\" fill=\"#009af9\" fill-rule=\"evenodd\" fill-opacity=\"0.8\"/>\n",
       "<polyline clip-path=\"url(#clip842)\" style=\"stroke:#000000; stroke-linecap:round; stroke-linejoin:round; stroke-width:4; stroke-opacity:0.8; fill:none\" points=\"1026.77,691.955 1026.77,1486.45 1047.49,1486.45 1047.49,691.955 1026.77,691.955 \"/>\n",
       "<path clip-path=\"url(#clip842)\" d=\"M1047.49 659.394 L1047.49 1486.45 L1068.21 1486.45 L1068.21 659.394 L1047.49 659.394 L1047.49 659.394  Z\" fill=\"#009af9\" fill-rule=\"evenodd\" fill-opacity=\"0.8\"/>\n",
       "<polyline clip-path=\"url(#clip842)\" style=\"stroke:#000000; stroke-linecap:round; stroke-linejoin:round; stroke-width:4; stroke-opacity:0.8; fill:none\" points=\"1047.49,659.394 1047.49,1486.45 1068.21,1486.45 1068.21,659.394 1047.49,659.394 \"/>\n",
       "<path clip-path=\"url(#clip842)\" d=\"M1068.21 711.492 L1068.21 1486.45 L1088.93 1486.45 L1088.93 711.492 L1068.21 711.492 L1068.21 711.492  Z\" fill=\"#009af9\" fill-rule=\"evenodd\" fill-opacity=\"0.8\"/>\n",
       "<polyline clip-path=\"url(#clip842)\" style=\"stroke:#000000; stroke-linecap:round; stroke-linejoin:round; stroke-width:4; stroke-opacity:0.8; fill:none\" points=\"1068.21,711.492 1068.21,1486.45 1088.93,1486.45 1088.93,711.492 1068.21,711.492 \"/>\n",
       "<path clip-path=\"url(#clip842)\" d=\"M1088.93 464.027 L1088.93 1486.45 L1109.65 1486.45 L1109.65 464.027 L1088.93 464.027 L1088.93 464.027  Z\" fill=\"#009af9\" fill-rule=\"evenodd\" fill-opacity=\"0.8\"/>\n",
       "<polyline clip-path=\"url(#clip842)\" style=\"stroke:#000000; stroke-linecap:round; stroke-linejoin:round; stroke-width:4; stroke-opacity:0.8; fill:none\" points=\"1088.93,464.027 1088.93,1486.45 1109.65,1486.45 1109.65,464.027 1088.93,464.027 \"/>\n",
       "<path clip-path=\"url(#clip842)\" d=\"M1109.65 496.588 L1109.65 1486.45 L1130.37 1486.45 L1130.37 496.588 L1109.65 496.588 L1109.65 496.588  Z\" fill=\"#009af9\" fill-rule=\"evenodd\" fill-opacity=\"0.8\"/>\n",
       "<polyline clip-path=\"url(#clip842)\" style=\"stroke:#000000; stroke-linecap:round; stroke-linejoin:round; stroke-width:4; stroke-opacity:0.8; fill:none\" points=\"1109.65,496.588 1109.65,1486.45 1130.37,1486.45 1130.37,496.588 1109.65,496.588 \"/>\n",
       "<path clip-path=\"url(#clip842)\" d=\"M1130.37 464.027 L1130.37 1486.45 L1151.08 1486.45 L1151.08 464.027 L1130.37 464.027 L1130.37 464.027  Z\" fill=\"#009af9\" fill-rule=\"evenodd\" fill-opacity=\"0.8\"/>\n",
       "<polyline clip-path=\"url(#clip842)\" style=\"stroke:#000000; stroke-linecap:round; stroke-linejoin:round; stroke-width:4; stroke-opacity:0.8; fill:none\" points=\"1130.37,464.027 1130.37,1486.45 1151.08,1486.45 1151.08,464.027 1130.37,464.027 \"/>\n",
       "<path clip-path=\"url(#clip842)\" d=\"M1151.08 210.05 L1151.08 1486.45 L1171.8 1486.45 L1171.8 210.05 L1151.08 210.05 L1151.08 210.05  Z\" fill=\"#009af9\" fill-rule=\"evenodd\" fill-opacity=\"0.8\"/>\n",
       "<polyline clip-path=\"url(#clip842)\" style=\"stroke:#000000; stroke-linecap:round; stroke-linejoin:round; stroke-width:4; stroke-opacity:0.8; fill:none\" points=\"1151.08,210.05 1151.08,1486.45 1171.8,1486.45 1171.8,210.05 1151.08,210.05 \"/>\n",
       "<path clip-path=\"url(#clip842)\" d=\"M1171.8 451.003 L1171.8 1486.45 L1192.52 1486.45 L1192.52 451.003 L1171.8 451.003 L1171.8 451.003  Z\" fill=\"#009af9\" fill-rule=\"evenodd\" fill-opacity=\"0.8\"/>\n",
       "<polyline clip-path=\"url(#clip842)\" style=\"stroke:#000000; stroke-linecap:round; stroke-linejoin:round; stroke-width:4; stroke-opacity:0.8; fill:none\" points=\"1171.8,451.003 1171.8,1486.45 1192.52,1486.45 1192.52,451.003 1171.8,451.003 \"/>\n",
       "<path clip-path=\"url(#clip842)\" d=\"M1192.52 131.903 L1192.52 1486.45 L1213.24 1486.45 L1213.24 131.903 L1192.52 131.903 L1192.52 131.903  Z\" fill=\"#009af9\" fill-rule=\"evenodd\" fill-opacity=\"0.8\"/>\n",
       "<polyline clip-path=\"url(#clip842)\" style=\"stroke:#000000; stroke-linecap:round; stroke-linejoin:round; stroke-width:4; stroke-opacity:0.8; fill:none\" points=\"1192.52,131.903 1192.52,1486.45 1213.24,1486.45 1213.24,131.903 1192.52,131.903 \"/>\n",
       "<path clip-path=\"url(#clip842)\" d=\"M1213.24 47.2441 L1213.24 1486.45 L1233.96 1486.45 L1233.96 47.2441 L1213.24 47.2441 L1213.24 47.2441  Z\" fill=\"#009af9\" fill-rule=\"evenodd\" fill-opacity=\"0.8\"/>\n",
       "<polyline clip-path=\"url(#clip842)\" style=\"stroke:#000000; stroke-linecap:round; stroke-linejoin:round; stroke-width:4; stroke-opacity:0.8; fill:none\" points=\"1213.24,47.2441 1213.24,1486.45 1233.96,1486.45 1233.96,47.2441 1213.24,47.2441 \"/>\n",
       "<path clip-path=\"url(#clip842)\" d=\"M1233.96 92.8297 L1233.96 1486.45 L1254.68 1486.45 L1254.68 92.8297 L1233.96 92.8297 L1233.96 92.8297  Z\" fill=\"#009af9\" fill-rule=\"evenodd\" fill-opacity=\"0.8\"/>\n",
       "<polyline clip-path=\"url(#clip842)\" style=\"stroke:#000000; stroke-linecap:round; stroke-linejoin:round; stroke-width:4; stroke-opacity:0.8; fill:none\" points=\"1233.96,92.8297 1233.96,1486.45 1254.68,1486.45 1254.68,92.8297 1233.96,92.8297 \"/>\n",
       "<path clip-path=\"url(#clip842)\" d=\"M1254.68 105.854 L1254.68 1486.45 L1275.4 1486.45 L1275.4 105.854 L1254.68 105.854 L1254.68 105.854  Z\" fill=\"#009af9\" fill-rule=\"evenodd\" fill-opacity=\"0.8\"/>\n",
       "<polyline clip-path=\"url(#clip842)\" style=\"stroke:#000000; stroke-linecap:round; stroke-linejoin:round; stroke-width:4; stroke-opacity:0.8; fill:none\" points=\"1254.68,105.854 1254.68,1486.45 1275.4,1486.45 1275.4,105.854 1254.68,105.854 \"/>\n",
       "<path clip-path=\"url(#clip842)\" d=\"M1275.4 131.903 L1275.4 1486.45 L1296.11 1486.45 L1296.11 131.903 L1275.4 131.903 L1275.4 131.903  Z\" fill=\"#009af9\" fill-rule=\"evenodd\" fill-opacity=\"0.8\"/>\n",
       "<polyline clip-path=\"url(#clip842)\" style=\"stroke:#000000; stroke-linecap:round; stroke-linejoin:round; stroke-width:4; stroke-opacity:0.8; fill:none\" points=\"1275.4,131.903 1275.4,1486.45 1296.11,1486.45 1296.11,131.903 1275.4,131.903 \"/>\n",
       "<path clip-path=\"url(#clip842)\" d=\"M1296.11 184.001 L1296.11 1486.45 L1316.83 1486.45 L1316.83 184.001 L1296.11 184.001 L1296.11 184.001  Z\" fill=\"#009af9\" fill-rule=\"evenodd\" fill-opacity=\"0.8\"/>\n",
       "<polyline clip-path=\"url(#clip842)\" style=\"stroke:#000000; stroke-linecap:round; stroke-linejoin:round; stroke-width:4; stroke-opacity:0.8; fill:none\" points=\"1296.11,184.001 1296.11,1486.45 1316.83,1486.45 1316.83,184.001 1296.11,184.001 \"/>\n",
       "<path clip-path=\"url(#clip842)\" d=\"M1316.83 242.611 L1316.83 1486.45 L1337.55 1486.45 L1337.55 242.611 L1316.83 242.611 L1316.83 242.611  Z\" fill=\"#009af9\" fill-rule=\"evenodd\" fill-opacity=\"0.8\"/>\n",
       "<polyline clip-path=\"url(#clip842)\" style=\"stroke:#000000; stroke-linecap:round; stroke-linejoin:round; stroke-width:4; stroke-opacity:0.8; fill:none\" points=\"1316.83,242.611 1316.83,1486.45 1337.55,1486.45 1337.55,242.611 1316.83,242.611 \"/>\n",
       "<path clip-path=\"url(#clip842)\" d=\"M1337.55 340.295 L1337.55 1486.45 L1358.27 1486.45 L1358.27 340.295 L1337.55 340.295 L1337.55 340.295  Z\" fill=\"#009af9\" fill-rule=\"evenodd\" fill-opacity=\"0.8\"/>\n",
       "<polyline clip-path=\"url(#clip842)\" style=\"stroke:#000000; stroke-linecap:round; stroke-linejoin:round; stroke-width:4; stroke-opacity:0.8; fill:none\" points=\"1337.55,340.295 1337.55,1486.45 1358.27,1486.45 1358.27,340.295 1337.55,340.295 \"/>\n",
       "<path clip-path=\"url(#clip842)\" d=\"M1358.27 392.393 L1358.27 1486.45 L1378.99 1486.45 L1378.99 392.393 L1358.27 392.393 L1358.27 392.393  Z\" fill=\"#009af9\" fill-rule=\"evenodd\" fill-opacity=\"0.8\"/>\n",
       "<polyline clip-path=\"url(#clip842)\" style=\"stroke:#000000; stroke-linecap:round; stroke-linejoin:round; stroke-width:4; stroke-opacity:0.8; fill:none\" points=\"1358.27,392.393 1358.27,1486.45 1378.99,1486.45 1378.99,392.393 1358.27,392.393 \"/>\n",
       "<path clip-path=\"url(#clip842)\" d=\"M1378.99 392.393 L1378.99 1486.45 L1399.71 1486.45 L1399.71 392.393 L1378.99 392.393 L1378.99 392.393  Z\" fill=\"#009af9\" fill-rule=\"evenodd\" fill-opacity=\"0.8\"/>\n",
       "<polyline clip-path=\"url(#clip842)\" style=\"stroke:#000000; stroke-linecap:round; stroke-linejoin:round; stroke-width:4; stroke-opacity:0.8; fill:none\" points=\"1378.99,392.393 1378.99,1486.45 1399.71,1486.45 1399.71,392.393 1378.99,392.393 \"/>\n",
       "<path clip-path=\"url(#clip842)\" d=\"M1399.71 561.711 L1399.71 1486.45 L1420.42 1486.45 L1420.42 561.711 L1399.71 561.711 L1399.71 561.711  Z\" fill=\"#009af9\" fill-rule=\"evenodd\" fill-opacity=\"0.8\"/>\n",
       "<polyline clip-path=\"url(#clip842)\" style=\"stroke:#000000; stroke-linecap:round; stroke-linejoin:round; stroke-width:4; stroke-opacity:0.8; fill:none\" points=\"1399.71,561.711 1399.71,1486.45 1420.42,1486.45 1420.42,561.711 1399.71,561.711 \"/>\n",
       "<path clip-path=\"url(#clip842)\" d=\"M1420.42 568.223 L1420.42 1486.45 L1441.14 1486.45 L1441.14 568.223 L1420.42 568.223 L1420.42 568.223  Z\" fill=\"#009af9\" fill-rule=\"evenodd\" fill-opacity=\"0.8\"/>\n",
       "<polyline clip-path=\"url(#clip842)\" style=\"stroke:#000000; stroke-linecap:round; stroke-linejoin:round; stroke-width:4; stroke-opacity:0.8; fill:none\" points=\"1420.42,568.223 1420.42,1486.45 1441.14,1486.45 1441.14,568.223 1420.42,568.223 \"/>\n",
       "<path clip-path=\"url(#clip842)\" d=\"M1441.14 639.857 L1441.14 1486.45 L1461.86 1486.45 L1461.86 639.857 L1441.14 639.857 L1441.14 639.857  Z\" fill=\"#009af9\" fill-rule=\"evenodd\" fill-opacity=\"0.8\"/>\n",
       "<polyline clip-path=\"url(#clip842)\" style=\"stroke:#000000; stroke-linecap:round; stroke-linejoin:round; stroke-width:4; stroke-opacity:0.8; fill:none\" points=\"1441.14,639.857 1441.14,1486.45 1461.86,1486.45 1461.86,639.857 1441.14,639.857 \"/>\n",
       "<path clip-path=\"url(#clip842)\" d=\"M1461.86 737.541 L1461.86 1486.45 L1482.58 1486.45 L1482.58 737.541 L1461.86 737.541 L1461.86 737.541  Z\" fill=\"#009af9\" fill-rule=\"evenodd\" fill-opacity=\"0.8\"/>\n",
       "<polyline clip-path=\"url(#clip842)\" style=\"stroke:#000000; stroke-linecap:round; stroke-linejoin:round; stroke-width:4; stroke-opacity:0.8; fill:none\" points=\"1461.86,737.541 1461.86,1486.45 1482.58,1486.45 1482.58,737.541 1461.86,737.541 \"/>\n",
       "<path clip-path=\"url(#clip842)\" d=\"M1482.58 802.663 L1482.58 1486.45 L1503.3 1486.45 L1503.3 802.663 L1482.58 802.663 L1482.58 802.663  Z\" fill=\"#009af9\" fill-rule=\"evenodd\" fill-opacity=\"0.8\"/>\n",
       "<polyline clip-path=\"url(#clip842)\" style=\"stroke:#000000; stroke-linecap:round; stroke-linejoin:round; stroke-width:4; stroke-opacity:0.8; fill:none\" points=\"1482.58,802.663 1482.58,1486.45 1503.3,1486.45 1503.3,802.663 1482.58,802.663 \"/>\n",
       "<path clip-path=\"url(#clip842)\" d=\"M1503.3 867.786 L1503.3 1486.45 L1524.02 1486.45 L1524.02 867.786 L1503.3 867.786 L1503.3 867.786  Z\" fill=\"#009af9\" fill-rule=\"evenodd\" fill-opacity=\"0.8\"/>\n",
       "<polyline clip-path=\"url(#clip842)\" style=\"stroke:#000000; stroke-linecap:round; stroke-linejoin:round; stroke-width:4; stroke-opacity:0.8; fill:none\" points=\"1503.3,867.786 1503.3,1486.45 1524.02,1486.45 1524.02,867.786 1503.3,867.786 \"/>\n",
       "<path clip-path=\"url(#clip842)\" d=\"M1524.02 848.249 L1524.02 1486.45 L1544.74 1486.45 L1544.74 848.249 L1524.02 848.249 L1524.02 848.249  Z\" fill=\"#009af9\" fill-rule=\"evenodd\" fill-opacity=\"0.8\"/>\n",
       "<polyline clip-path=\"url(#clip842)\" style=\"stroke:#000000; stroke-linecap:round; stroke-linejoin:round; stroke-width:4; stroke-opacity:0.8; fill:none\" points=\"1524.02,848.249 1524.02,1486.45 1544.74,1486.45 1544.74,848.249 1524.02,848.249 \"/>\n",
       "<path clip-path=\"url(#clip842)\" d=\"M1544.74 952.445 L1544.74 1486.45 L1565.45 1486.45 L1565.45 952.445 L1544.74 952.445 L1544.74 952.445  Z\" fill=\"#009af9\" fill-rule=\"evenodd\" fill-opacity=\"0.8\"/>\n",
       "<polyline clip-path=\"url(#clip842)\" style=\"stroke:#000000; stroke-linecap:round; stroke-linejoin:round; stroke-width:4; stroke-opacity:0.8; fill:none\" points=\"1544.74,952.445 1544.74,1486.45 1565.45,1486.45 1565.45,952.445 1544.74,952.445 \"/>\n",
       "<path clip-path=\"url(#clip842)\" d=\"M1565.45 1160.84 L1565.45 1486.45 L1586.17 1486.45 L1586.17 1160.84 L1565.45 1160.84 L1565.45 1160.84  Z\" fill=\"#009af9\" fill-rule=\"evenodd\" fill-opacity=\"0.8\"/>\n",
       "<polyline clip-path=\"url(#clip842)\" style=\"stroke:#000000; stroke-linecap:round; stroke-linejoin:round; stroke-width:4; stroke-opacity:0.8; fill:none\" points=\"1565.45,1160.84 1565.45,1486.45 1586.17,1486.45 1586.17,1160.84 1565.45,1160.84 \"/>\n",
       "<path clip-path=\"url(#clip842)\" d=\"M1586.17 1167.35 L1586.17 1486.45 L1606.89 1486.45 L1606.89 1167.35 L1586.17 1167.35 L1586.17 1167.35  Z\" fill=\"#009af9\" fill-rule=\"evenodd\" fill-opacity=\"0.8\"/>\n",
       "<polyline clip-path=\"url(#clip842)\" style=\"stroke:#000000; stroke-linecap:round; stroke-linejoin:round; stroke-width:4; stroke-opacity:0.8; fill:none\" points=\"1586.17,1167.35 1586.17,1486.45 1606.89,1486.45 1606.89,1167.35 1586.17,1167.35 \"/>\n",
       "<path clip-path=\"url(#clip842)\" d=\"M1606.89 1238.98 L1606.89 1486.45 L1627.61 1486.45 L1627.61 1238.98 L1606.89 1238.98 L1606.89 1238.98  Z\" fill=\"#009af9\" fill-rule=\"evenodd\" fill-opacity=\"0.8\"/>\n",
       "<polyline clip-path=\"url(#clip842)\" style=\"stroke:#000000; stroke-linecap:round; stroke-linejoin:round; stroke-width:4; stroke-opacity:0.8; fill:none\" points=\"1606.89,1238.98 1606.89,1486.45 1627.61,1486.45 1627.61,1238.98 1606.89,1238.98 \"/>\n",
       "<path clip-path=\"url(#clip842)\" d=\"M1627.61 1252.01 L1627.61 1486.45 L1648.33 1486.45 L1648.33 1252.01 L1627.61 1252.01 L1627.61 1252.01  Z\" fill=\"#009af9\" fill-rule=\"evenodd\" fill-opacity=\"0.8\"/>\n",
       "<polyline clip-path=\"url(#clip842)\" style=\"stroke:#000000; stroke-linecap:round; stroke-linejoin:round; stroke-width:4; stroke-opacity:0.8; fill:none\" points=\"1627.61,1252.01 1627.61,1486.45 1648.33,1486.45 1648.33,1252.01 1627.61,1252.01 \"/>\n",
       "<path clip-path=\"url(#clip842)\" d=\"M1648.33 1278.06 L1648.33 1486.45 L1669.05 1486.45 L1669.05 1278.06 L1648.33 1278.06 L1648.33 1278.06  Z\" fill=\"#009af9\" fill-rule=\"evenodd\" fill-opacity=\"0.8\"/>\n",
       "<polyline clip-path=\"url(#clip842)\" style=\"stroke:#000000; stroke-linecap:round; stroke-linejoin:round; stroke-width:4; stroke-opacity:0.8; fill:none\" points=\"1648.33,1278.06 1648.33,1486.45 1669.05,1486.45 1669.05,1278.06 1648.33,1278.06 \"/>\n",
       "<path clip-path=\"url(#clip842)\" d=\"M1669.05 1310.62 L1669.05 1486.45 L1689.76 1486.45 L1689.76 1310.62 L1669.05 1310.62 L1669.05 1310.62  Z\" fill=\"#009af9\" fill-rule=\"evenodd\" fill-opacity=\"0.8\"/>\n",
       "<polyline clip-path=\"url(#clip842)\" style=\"stroke:#000000; stroke-linecap:round; stroke-linejoin:round; stroke-width:4; stroke-opacity:0.8; fill:none\" points=\"1669.05,1310.62 1669.05,1486.45 1689.76,1486.45 1689.76,1310.62 1669.05,1310.62 \"/>\n",
       "<path clip-path=\"url(#clip842)\" d=\"M1689.76 1382.25 L1689.76 1486.45 L1710.48 1486.45 L1710.48 1382.25 L1689.76 1382.25 L1689.76 1382.25  Z\" fill=\"#009af9\" fill-rule=\"evenodd\" fill-opacity=\"0.8\"/>\n",
       "<polyline clip-path=\"url(#clip842)\" style=\"stroke:#000000; stroke-linecap:round; stroke-linejoin:round; stroke-width:4; stroke-opacity:0.8; fill:none\" points=\"1689.76,1382.25 1689.76,1486.45 1710.48,1486.45 1710.48,1382.25 1689.76,1382.25 \"/>\n",
       "<path clip-path=\"url(#clip842)\" d=\"M1710.48 1395.28 L1710.48 1486.45 L1731.2 1486.45 L1731.2 1395.28 L1710.48 1395.28 L1710.48 1395.28  Z\" fill=\"#009af9\" fill-rule=\"evenodd\" fill-opacity=\"0.8\"/>\n",
       "<polyline clip-path=\"url(#clip842)\" style=\"stroke:#000000; stroke-linecap:round; stroke-linejoin:round; stroke-width:4; stroke-opacity:0.8; fill:none\" points=\"1710.48,1395.28 1710.48,1486.45 1731.2,1486.45 1731.2,1395.28 1710.48,1395.28 \"/>\n",
       "<path clip-path=\"url(#clip842)\" d=\"M1731.2 1395.28 L1731.2 1486.45 L1751.92 1486.45 L1751.92 1395.28 L1731.2 1395.28 L1731.2 1395.28  Z\" fill=\"#009af9\" fill-rule=\"evenodd\" fill-opacity=\"0.8\"/>\n",
       "<polyline clip-path=\"url(#clip842)\" style=\"stroke:#000000; stroke-linecap:round; stroke-linejoin:round; stroke-width:4; stroke-opacity:0.8; fill:none\" points=\"1731.2,1395.28 1731.2,1486.45 1751.92,1486.45 1751.92,1395.28 1731.2,1395.28 \"/>\n",
       "<path clip-path=\"url(#clip842)\" d=\"M1751.92 1421.33 L1751.92 1486.45 L1772.64 1486.45 L1772.64 1421.33 L1751.92 1421.33 L1751.92 1421.33  Z\" fill=\"#009af9\" fill-rule=\"evenodd\" fill-opacity=\"0.8\"/>\n",
       "<polyline clip-path=\"url(#clip842)\" style=\"stroke:#000000; stroke-linecap:round; stroke-linejoin:round; stroke-width:4; stroke-opacity:0.8; fill:none\" points=\"1751.92,1421.33 1751.92,1486.45 1772.64,1486.45 1772.64,1421.33 1751.92,1421.33 \"/>\n",
       "<path clip-path=\"url(#clip842)\" d=\"M1772.64 1447.37 L1772.64 1486.45 L1793.36 1486.45 L1793.36 1447.37 L1772.64 1447.37 L1772.64 1447.37  Z\" fill=\"#009af9\" fill-rule=\"evenodd\" fill-opacity=\"0.8\"/>\n",
       "<polyline clip-path=\"url(#clip842)\" style=\"stroke:#000000; stroke-linecap:round; stroke-linejoin:round; stroke-width:4; stroke-opacity:0.8; fill:none\" points=\"1772.64,1447.37 1772.64,1486.45 1793.36,1486.45 1793.36,1447.37 1772.64,1447.37 \"/>\n",
       "<path clip-path=\"url(#clip842)\" d=\"M1793.36 1460.4 L1793.36 1486.45 L1814.08 1486.45 L1814.08 1460.4 L1793.36 1460.4 L1793.36 1460.4  Z\" fill=\"#009af9\" fill-rule=\"evenodd\" fill-opacity=\"0.8\"/>\n",
       "<polyline clip-path=\"url(#clip842)\" style=\"stroke:#000000; stroke-linecap:round; stroke-linejoin:round; stroke-width:4; stroke-opacity:0.8; fill:none\" points=\"1793.36,1460.4 1793.36,1486.45 1814.08,1486.45 1814.08,1460.4 1793.36,1460.4 \"/>\n",
       "<path clip-path=\"url(#clip842)\" d=\"M1814.08 1453.89 L1814.08 1486.45 L1834.79 1486.45 L1834.79 1453.89 L1814.08 1453.89 L1814.08 1453.89  Z\" fill=\"#009af9\" fill-rule=\"evenodd\" fill-opacity=\"0.8\"/>\n",
       "<polyline clip-path=\"url(#clip842)\" style=\"stroke:#000000; stroke-linecap:round; stroke-linejoin:round; stroke-width:4; stroke-opacity:0.8; fill:none\" points=\"1814.08,1453.89 1814.08,1486.45 1834.79,1486.45 1834.79,1453.89 1814.08,1453.89 \"/>\n",
       "<path clip-path=\"url(#clip842)\" d=\"M1834.79 1466.91 L1834.79 1486.45 L1855.51 1486.45 L1855.51 1466.91 L1834.79 1466.91 L1834.79 1466.91  Z\" fill=\"#009af9\" fill-rule=\"evenodd\" fill-opacity=\"0.8\"/>\n",
       "<polyline clip-path=\"url(#clip842)\" style=\"stroke:#000000; stroke-linecap:round; stroke-linejoin:round; stroke-width:4; stroke-opacity:0.8; fill:none\" points=\"1834.79,1466.91 1834.79,1486.45 1855.51,1486.45 1855.51,1466.91 1834.79,1466.91 \"/>\n",
       "<path clip-path=\"url(#clip842)\" d=\"M1855.51 1473.42 L1855.51 1486.45 L1876.23 1486.45 L1876.23 1473.42 L1855.51 1473.42 L1855.51 1473.42  Z\" fill=\"#009af9\" fill-rule=\"evenodd\" fill-opacity=\"0.8\"/>\n",
       "<polyline clip-path=\"url(#clip842)\" style=\"stroke:#000000; stroke-linecap:round; stroke-linejoin:round; stroke-width:4; stroke-opacity:0.8; fill:none\" points=\"1855.51,1473.42 1855.51,1486.45 1876.23,1486.45 1876.23,1473.42 1855.51,1473.42 \"/>\n",
       "<path clip-path=\"url(#clip842)\" d=\"M1876.23 1486.45 L1876.23 1486.45 L1896.95 1486.45 L1896.95 1486.45 L1876.23 1486.45 L1876.23 1486.45  Z\" fill=\"#009af9\" fill-rule=\"evenodd\" fill-opacity=\"0.8\"/>\n",
       "<polyline clip-path=\"url(#clip842)\" style=\"stroke:#000000; stroke-linecap:round; stroke-linejoin:round; stroke-width:4; stroke-opacity:0.8; fill:none\" points=\"1876.23,1486.45 1876.23,1486.45 1896.95,1486.45 1876.23,1486.45 \"/>\n",
       "<path clip-path=\"url(#clip842)\" d=\"M1896.95 1466.91 L1896.95 1486.45 L1917.67 1486.45 L1917.67 1466.91 L1896.95 1466.91 L1896.95 1466.91  Z\" fill=\"#009af9\" fill-rule=\"evenodd\" fill-opacity=\"0.8\"/>\n",
       "<polyline clip-path=\"url(#clip842)\" style=\"stroke:#000000; stroke-linecap:round; stroke-linejoin:round; stroke-width:4; stroke-opacity:0.8; fill:none\" points=\"1896.95,1466.91 1896.95,1486.45 1917.67,1486.45 1917.67,1466.91 1896.95,1466.91 \"/>\n",
       "<path clip-path=\"url(#clip842)\" d=\"M1917.67 1473.42 L1917.67 1486.45 L1938.39 1486.45 L1938.39 1473.42 L1917.67 1473.42 L1917.67 1473.42  Z\" fill=\"#009af9\" fill-rule=\"evenodd\" fill-opacity=\"0.8\"/>\n",
       "<polyline clip-path=\"url(#clip842)\" style=\"stroke:#000000; stroke-linecap:round; stroke-linejoin:round; stroke-width:4; stroke-opacity:0.8; fill:none\" points=\"1917.67,1473.42 1917.67,1486.45 1938.39,1486.45 1938.39,1473.42 1917.67,1473.42 \"/>\n",
       "<path clip-path=\"url(#clip842)\" d=\"M1938.39 1473.42 L1938.39 1486.45 L1959.11 1486.45 L1959.11 1473.42 L1938.39 1473.42 L1938.39 1473.42  Z\" fill=\"#009af9\" fill-rule=\"evenodd\" fill-opacity=\"0.8\"/>\n",
       "<polyline clip-path=\"url(#clip842)\" style=\"stroke:#000000; stroke-linecap:round; stroke-linejoin:round; stroke-width:4; stroke-opacity:0.8; fill:none\" points=\"1938.39,1473.42 1938.39,1486.45 1959.11,1486.45 1959.11,1473.42 1938.39,1473.42 \"/>\n",
       "<path clip-path=\"url(#clip842)\" d=\"M1959.11 1486.45 L1959.11 1486.45 L1979.82 1486.45 L1979.82 1486.45 L1959.11 1486.45 L1959.11 1486.45  Z\" fill=\"#009af9\" fill-rule=\"evenodd\" fill-opacity=\"0.8\"/>\n",
       "<polyline clip-path=\"url(#clip842)\" style=\"stroke:#000000; stroke-linecap:round; stroke-linejoin:round; stroke-width:4; stroke-opacity:0.8; fill:none\" points=\"1959.11,1486.45 1959.11,1486.45 1979.82,1486.45 1959.11,1486.45 \"/>\n",
       "<path clip-path=\"url(#clip842)\" d=\"M1979.82 1486.45 L1979.82 1486.45 L2000.54 1486.45 L2000.54 1486.45 L1979.82 1486.45 L1979.82 1486.45  Z\" fill=\"#009af9\" fill-rule=\"evenodd\" fill-opacity=\"0.8\"/>\n",
       "<polyline clip-path=\"url(#clip842)\" style=\"stroke:#000000; stroke-linecap:round; stroke-linejoin:round; stroke-width:4; stroke-opacity:0.8; fill:none\" points=\"1979.82,1486.45 1979.82,1486.45 2000.54,1486.45 1979.82,1486.45 \"/>\n",
       "<path clip-path=\"url(#clip842)\" d=\"M2000.54 1479.94 L2000.54 1486.45 L2021.26 1486.45 L2021.26 1479.94 L2000.54 1479.94 L2000.54 1479.94  Z\" fill=\"#009af9\" fill-rule=\"evenodd\" fill-opacity=\"0.8\"/>\n",
       "<polyline clip-path=\"url(#clip842)\" style=\"stroke:#000000; stroke-linecap:round; stroke-linejoin:round; stroke-width:4; stroke-opacity:0.8; fill:none\" points=\"2000.54,1479.94 2000.54,1486.45 2021.26,1486.45 2021.26,1479.94 2000.54,1479.94 \"/>\n",
       "<circle clip-path=\"url(#clip842)\" style=\"fill:#009af9; stroke:none; fill-opacity:0\" cx=\"519.171\" cy=\"1479.94\" r=\"2\"/>\n",
       "<circle clip-path=\"url(#clip842)\" style=\"fill:#009af9; stroke:none; fill-opacity:0\" cx=\"539.89\" cy=\"1479.94\" r=\"2\"/>\n",
       "<circle clip-path=\"url(#clip842)\" style=\"fill:#009af9; stroke:none; fill-opacity:0\" cx=\"560.608\" cy=\"1486.45\" r=\"2\"/>\n",
       "<circle clip-path=\"url(#clip842)\" style=\"fill:#009af9; stroke:none; fill-opacity:0\" cx=\"581.327\" cy=\"1479.94\" r=\"2\"/>\n",
       "<circle clip-path=\"url(#clip842)\" style=\"fill:#009af9; stroke:none; fill-opacity:0\" cx=\"602.045\" cy=\"1486.45\" r=\"2\"/>\n",
       "<circle clip-path=\"url(#clip842)\" style=\"fill:#009af9; stroke:none; fill-opacity:0\" cx=\"622.764\" cy=\"1479.94\" r=\"2\"/>\n",
       "<circle clip-path=\"url(#clip842)\" style=\"fill:#009af9; stroke:none; fill-opacity:0\" cx=\"643.482\" cy=\"1479.94\" r=\"2\"/>\n",
       "<circle clip-path=\"url(#clip842)\" style=\"fill:#009af9; stroke:none; fill-opacity:0\" cx=\"664.201\" cy=\"1460.4\" r=\"2\"/>\n",
       "<circle clip-path=\"url(#clip842)\" style=\"fill:#009af9; stroke:none; fill-opacity:0\" cx=\"684.919\" cy=\"1460.4\" r=\"2\"/>\n",
       "<circle clip-path=\"url(#clip842)\" style=\"fill:#009af9; stroke:none; fill-opacity:0\" cx=\"705.638\" cy=\"1447.37\" r=\"2\"/>\n",
       "<circle clip-path=\"url(#clip842)\" style=\"fill:#009af9; stroke:none; fill-opacity:0\" cx=\"726.356\" cy=\"1447.37\" r=\"2\"/>\n",
       "<circle clip-path=\"url(#clip842)\" style=\"fill:#009af9; stroke:none; fill-opacity:0\" cx=\"747.075\" cy=\"1440.86\" r=\"2\"/>\n",
       "<circle clip-path=\"url(#clip842)\" style=\"fill:#009af9; stroke:none; fill-opacity:0\" cx=\"767.793\" cy=\"1408.3\" r=\"2\"/>\n",
       "<circle clip-path=\"url(#clip842)\" style=\"fill:#009af9; stroke:none; fill-opacity:0\" cx=\"788.512\" cy=\"1408.3\" r=\"2\"/>\n",
       "<circle clip-path=\"url(#clip842)\" style=\"fill:#009af9; stroke:none; fill-opacity:0\" cx=\"809.23\" cy=\"1317.13\" r=\"2\"/>\n",
       "<circle clip-path=\"url(#clip842)\" style=\"fill:#009af9; stroke:none; fill-opacity:0\" cx=\"829.948\" cy=\"1323.64\" r=\"2\"/>\n",
       "<circle clip-path=\"url(#clip842)\" style=\"fill:#009af9; stroke:none; fill-opacity:0\" cx=\"850.667\" cy=\"1343.18\" r=\"2\"/>\n",
       "<circle clip-path=\"url(#clip842)\" style=\"fill:#009af9; stroke:none; fill-opacity:0\" cx=\"871.385\" cy=\"1317.13\" r=\"2\"/>\n",
       "<circle clip-path=\"url(#clip842)\" style=\"fill:#009af9; stroke:none; fill-opacity:0\" cx=\"892.104\" cy=\"1173.86\" r=\"2\"/>\n",
       "<circle clip-path=\"url(#clip842)\" style=\"fill:#009af9; stroke:none; fill-opacity:0\" cx=\"912.822\" cy=\"1225.96\" r=\"2\"/>\n",
       "<circle clip-path=\"url(#clip842)\" style=\"fill:#009af9; stroke:none; fill-opacity:0\" cx=\"933.541\" cy=\"1147.81\" r=\"2\"/>\n",
       "<circle clip-path=\"url(#clip842)\" style=\"fill:#009af9; stroke:none; fill-opacity:0\" cx=\"954.259\" cy=\"1108.74\" r=\"2\"/>\n",
       "<circle clip-path=\"url(#clip842)\" style=\"fill:#009af9; stroke:none; fill-opacity:0\" cx=\"974.978\" cy=\"991.518\" r=\"2\"/>\n",
       "<circle clip-path=\"url(#clip842)\" style=\"fill:#009af9; stroke:none; fill-opacity:0\" cx=\"995.696\" cy=\"958.957\" r=\"2\"/>\n",
       "<circle clip-path=\"url(#clip842)\" style=\"fill:#009af9; stroke:none; fill-opacity:0\" cx=\"1016.41\" cy=\"750.565\" r=\"2\"/>\n",
       "<circle clip-path=\"url(#clip842)\" style=\"fill:#009af9; stroke:none; fill-opacity:0\" cx=\"1037.13\" cy=\"691.955\" r=\"2\"/>\n",
       "<circle clip-path=\"url(#clip842)\" style=\"fill:#009af9; stroke:none; fill-opacity:0\" cx=\"1057.85\" cy=\"659.394\" r=\"2\"/>\n",
       "<circle clip-path=\"url(#clip842)\" style=\"fill:#009af9; stroke:none; fill-opacity:0\" cx=\"1078.57\" cy=\"711.492\" r=\"2\"/>\n",
       "<circle clip-path=\"url(#clip842)\" style=\"fill:#009af9; stroke:none; fill-opacity:0\" cx=\"1099.29\" cy=\"464.027\" r=\"2\"/>\n",
       "<circle clip-path=\"url(#clip842)\" style=\"fill:#009af9; stroke:none; fill-opacity:0\" cx=\"1120.01\" cy=\"496.588\" r=\"2\"/>\n",
       "<circle clip-path=\"url(#clip842)\" style=\"fill:#009af9; stroke:none; fill-opacity:0\" cx=\"1140.73\" cy=\"464.027\" r=\"2\"/>\n",
       "<circle clip-path=\"url(#clip842)\" style=\"fill:#009af9; stroke:none; fill-opacity:0\" cx=\"1161.44\" cy=\"210.05\" r=\"2\"/>\n",
       "<circle clip-path=\"url(#clip842)\" style=\"fill:#009af9; stroke:none; fill-opacity:0\" cx=\"1182.16\" cy=\"451.003\" r=\"2\"/>\n",
       "<circle clip-path=\"url(#clip842)\" style=\"fill:#009af9; stroke:none; fill-opacity:0\" cx=\"1202.88\" cy=\"131.903\" r=\"2\"/>\n",
       "<circle clip-path=\"url(#clip842)\" style=\"fill:#009af9; stroke:none; fill-opacity:0\" cx=\"1223.6\" cy=\"47.2441\" r=\"2\"/>\n",
       "<circle clip-path=\"url(#clip842)\" style=\"fill:#009af9; stroke:none; fill-opacity:0\" cx=\"1244.32\" cy=\"92.8297\" r=\"2\"/>\n",
       "<circle clip-path=\"url(#clip842)\" style=\"fill:#009af9; stroke:none; fill-opacity:0\" cx=\"1265.04\" cy=\"105.854\" r=\"2\"/>\n",
       "<circle clip-path=\"url(#clip842)\" style=\"fill:#009af9; stroke:none; fill-opacity:0\" cx=\"1285.75\" cy=\"131.903\" r=\"2\"/>\n",
       "<circle clip-path=\"url(#clip842)\" style=\"fill:#009af9; stroke:none; fill-opacity:0\" cx=\"1306.47\" cy=\"184.001\" r=\"2\"/>\n",
       "<circle clip-path=\"url(#clip842)\" style=\"fill:#009af9; stroke:none; fill-opacity:0\" cx=\"1327.19\" cy=\"242.611\" r=\"2\"/>\n",
       "<circle clip-path=\"url(#clip842)\" style=\"fill:#009af9; stroke:none; fill-opacity:0\" cx=\"1347.91\" cy=\"340.295\" r=\"2\"/>\n",
       "<circle clip-path=\"url(#clip842)\" style=\"fill:#009af9; stroke:none; fill-opacity:0\" cx=\"1368.63\" cy=\"392.393\" r=\"2\"/>\n",
       "<circle clip-path=\"url(#clip842)\" style=\"fill:#009af9; stroke:none; fill-opacity:0\" cx=\"1389.35\" cy=\"392.393\" r=\"2\"/>\n",
       "<circle clip-path=\"url(#clip842)\" style=\"fill:#009af9; stroke:none; fill-opacity:0\" cx=\"1410.07\" cy=\"561.711\" r=\"2\"/>\n",
       "<circle clip-path=\"url(#clip842)\" style=\"fill:#009af9; stroke:none; fill-opacity:0\" cx=\"1430.78\" cy=\"568.223\" r=\"2\"/>\n",
       "<circle clip-path=\"url(#clip842)\" style=\"fill:#009af9; stroke:none; fill-opacity:0\" cx=\"1451.5\" cy=\"639.857\" r=\"2\"/>\n",
       "<circle clip-path=\"url(#clip842)\" style=\"fill:#009af9; stroke:none; fill-opacity:0\" cx=\"1472.22\" cy=\"737.541\" r=\"2\"/>\n",
       "<circle clip-path=\"url(#clip842)\" style=\"fill:#009af9; stroke:none; fill-opacity:0\" cx=\"1492.94\" cy=\"802.663\" r=\"2\"/>\n",
       "<circle clip-path=\"url(#clip842)\" style=\"fill:#009af9; stroke:none; fill-opacity:0\" cx=\"1513.66\" cy=\"867.786\" r=\"2\"/>\n",
       "<circle clip-path=\"url(#clip842)\" style=\"fill:#009af9; stroke:none; fill-opacity:0\" cx=\"1534.38\" cy=\"848.249\" r=\"2\"/>\n",
       "<circle clip-path=\"url(#clip842)\" style=\"fill:#009af9; stroke:none; fill-opacity:0\" cx=\"1555.09\" cy=\"952.445\" r=\"2\"/>\n",
       "<circle clip-path=\"url(#clip842)\" style=\"fill:#009af9; stroke:none; fill-opacity:0\" cx=\"1575.81\" cy=\"1160.84\" r=\"2\"/>\n",
       "<circle clip-path=\"url(#clip842)\" style=\"fill:#009af9; stroke:none; fill-opacity:0\" cx=\"1596.53\" cy=\"1167.35\" r=\"2\"/>\n",
       "<circle clip-path=\"url(#clip842)\" style=\"fill:#009af9; stroke:none; fill-opacity:0\" cx=\"1617.25\" cy=\"1238.98\" r=\"2\"/>\n",
       "<circle clip-path=\"url(#clip842)\" style=\"fill:#009af9; stroke:none; fill-opacity:0\" cx=\"1637.97\" cy=\"1252.01\" r=\"2\"/>\n",
       "<circle clip-path=\"url(#clip842)\" style=\"fill:#009af9; stroke:none; fill-opacity:0\" cx=\"1658.69\" cy=\"1278.06\" r=\"2\"/>\n",
       "<circle clip-path=\"url(#clip842)\" style=\"fill:#009af9; stroke:none; fill-opacity:0\" cx=\"1679.41\" cy=\"1310.62\" r=\"2\"/>\n",
       "<circle clip-path=\"url(#clip842)\" style=\"fill:#009af9; stroke:none; fill-opacity:0\" cx=\"1700.12\" cy=\"1382.25\" r=\"2\"/>\n",
       "<circle clip-path=\"url(#clip842)\" style=\"fill:#009af9; stroke:none; fill-opacity:0\" cx=\"1720.84\" cy=\"1395.28\" r=\"2\"/>\n",
       "<circle clip-path=\"url(#clip842)\" style=\"fill:#009af9; stroke:none; fill-opacity:0\" cx=\"1741.56\" cy=\"1395.28\" r=\"2\"/>\n",
       "<circle clip-path=\"url(#clip842)\" style=\"fill:#009af9; stroke:none; fill-opacity:0\" cx=\"1762.28\" cy=\"1421.33\" r=\"2\"/>\n",
       "<circle clip-path=\"url(#clip842)\" style=\"fill:#009af9; stroke:none; fill-opacity:0\" cx=\"1783\" cy=\"1447.37\" r=\"2\"/>\n",
       "<circle clip-path=\"url(#clip842)\" style=\"fill:#009af9; stroke:none; fill-opacity:0\" cx=\"1803.72\" cy=\"1460.4\" r=\"2\"/>\n",
       "<circle clip-path=\"url(#clip842)\" style=\"fill:#009af9; stroke:none; fill-opacity:0\" cx=\"1824.43\" cy=\"1453.89\" r=\"2\"/>\n",
       "<circle clip-path=\"url(#clip842)\" style=\"fill:#009af9; stroke:none; fill-opacity:0\" cx=\"1845.15\" cy=\"1466.91\" r=\"2\"/>\n",
       "<circle clip-path=\"url(#clip842)\" style=\"fill:#009af9; stroke:none; fill-opacity:0\" cx=\"1865.87\" cy=\"1473.42\" r=\"2\"/>\n",
       "<circle clip-path=\"url(#clip842)\" style=\"fill:#009af9; stroke:none; fill-opacity:0\" cx=\"1886.59\" cy=\"1486.45\" r=\"2\"/>\n",
       "<circle clip-path=\"url(#clip842)\" style=\"fill:#009af9; stroke:none; fill-opacity:0\" cx=\"1907.31\" cy=\"1466.91\" r=\"2\"/>\n",
       "<circle clip-path=\"url(#clip842)\" style=\"fill:#009af9; stroke:none; fill-opacity:0\" cx=\"1928.03\" cy=\"1473.42\" r=\"2\"/>\n",
       "<circle clip-path=\"url(#clip842)\" style=\"fill:#009af9; stroke:none; fill-opacity:0\" cx=\"1948.75\" cy=\"1473.42\" r=\"2\"/>\n",
       "<circle clip-path=\"url(#clip842)\" style=\"fill:#009af9; stroke:none; fill-opacity:0\" cx=\"1969.46\" cy=\"1486.45\" r=\"2\"/>\n",
       "<circle clip-path=\"url(#clip842)\" style=\"fill:#009af9; stroke:none; fill-opacity:0\" cx=\"1990.18\" cy=\"1486.45\" r=\"2\"/>\n",
       "<circle clip-path=\"url(#clip842)\" style=\"fill:#009af9; stroke:none; fill-opacity:0\" cx=\"2010.9\" cy=\"1479.94\" r=\"2\"/>\n",
       "<polyline clip-path=\"url(#clip842)\" style=\"stroke:#e26f46; stroke-linecap:round; stroke-linejoin:round; stroke-width:20; stroke-opacity:1; fill:none\" points=\"218.754,1486.44 239.472,1486.44 260.191,1486.43 280.909,1486.43 301.628,1486.41 322.346,1486.4 343.064,1486.37 363.783,1486.32 384.501,1486.26 405.22,1486.16 425.938,1486.01 446.657,1485.8 467.375,1485.5 488.094,1485.06 508.812,1484.46 529.531,1483.61 550.249,1482.44 570.968,1480.84 591.686,1478.69 612.405,1475.81 633.123,1472.02 653.841,1467.07 674.56,1460.67 695.278,1452.52 715.997,1442.22 736.715,1429.37 757.434,1413.53 778.152,1394.21 798.871,1370.94 819.589,1343.23 840.308,1310.65 861.026,1272.8 881.745,1229.38 902.463,1180.21 923.182,1125.28 943.9,1064.72 964.619,998.918 985.337,928.452 1006.06,854.155 1026.77,777.096 1047.49,698.563 1068.21,620.043 1088.93,543.178 1109.65,469.712 1130.37,401.43 1151.08,340.082 1171.8,287.317 1192.52,244.604 1213.24,213.167 1233.96,193.924 1254.68,187.445 1275.4,193.924 1296.11,213.167 1316.83,244.604 1337.55,287.317 1358.27,340.082 1378.99,401.43 1399.71,469.712 1420.42,543.178 1441.14,620.043 1461.86,698.563 1482.58,777.096 1503.3,854.155 1524.02,928.452 1544.74,998.918 1565.45,1064.72 1586.17,1125.28 1606.89,1180.21 1627.61,1229.38 1648.33,1272.8 1669.05,1310.65 1689.76,1343.23 1710.48,1370.94 1731.2,1394.21 1751.92,1413.53 1772.64,1429.37 1793.36,1442.22 1814.08,1452.52 1834.79,1460.67 1855.51,1467.07 1876.23,1472.02 1896.95,1475.81 1917.67,1478.69 1938.39,1480.84 1959.11,1482.44 1979.82,1483.61 2000.54,1484.46 2021.26,1485.06 2041.98,1485.5 2062.7,1485.8 2083.42,1486.01 2104.13,1486.16 2124.85,1486.26 2145.57,1486.32 2166.29,1486.37 2187.01,1486.4 2207.73,1486.41 2228.45,1486.43 2249.16,1486.43 2269.88,1486.44 2290.6,1486.44 \"/>\n",
       "</svg>\n"
      ],
      "text/html": [
       "<?xml version=\"1.0\" encoding=\"utf-8\"?>\n",
       "<svg xmlns=\"http://www.w3.org/2000/svg\" xmlns:xlink=\"http://www.w3.org/1999/xlink\" width=\"600\" height=\"400\" viewBox=\"0 0 2400 1600\">\n",
       "<defs>\n",
       "  <clipPath id=\"clip890\">\n",
       "    <rect x=\"0\" y=\"0\" width=\"2400\" height=\"1600\"/>\n",
       "  </clipPath>\n",
       "</defs>\n",
       "<path clip-path=\"url(#clip890)\" d=\"M0 1600 L2400 1600 L2400 0 L0 0  Z\" fill=\"#ffffff\" fill-rule=\"evenodd\" fill-opacity=\"1\"/>\n",
       "<defs>\n",
       "  <clipPath id=\"clip891\">\n",
       "    <rect x=\"480\" y=\"0\" width=\"1681\" height=\"1600\"/>\n",
       "  </clipPath>\n",
       "</defs>\n",
       "<path clip-path=\"url(#clip890)\" d=\"M156.598 1486.45 L2352.76 1486.45 L2352.76 47.2441 L156.598 47.2441  Z\" fill=\"#ffffff\" fill-rule=\"evenodd\" fill-opacity=\"1\"/>\n",
       "<defs>\n",
       "  <clipPath id=\"clip892\">\n",
       "    <rect x=\"156\" y=\"47\" width=\"2197\" height=\"1440\"/>\n",
       "  </clipPath>\n",
       "</defs>\n",
       "<polyline clip-path=\"url(#clip892)\" style=\"stroke:#000000; stroke-linecap:round; stroke-linejoin:round; stroke-width:2; stroke-opacity:0.1; fill:none\" points=\"425.938,1486.45 425.938,47.2441 \"/>\n",
       "<polyline clip-path=\"url(#clip892)\" style=\"stroke:#000000; stroke-linecap:round; stroke-linejoin:round; stroke-width:2; stroke-opacity:0.1; fill:none\" points=\"840.308,1486.45 840.308,47.2441 \"/>\n",
       "<polyline clip-path=\"url(#clip892)\" style=\"stroke:#000000; stroke-linecap:round; stroke-linejoin:round; stroke-width:2; stroke-opacity:0.1; fill:none\" points=\"1254.68,1486.45 1254.68,47.2441 \"/>\n",
       "<polyline clip-path=\"url(#clip892)\" style=\"stroke:#000000; stroke-linecap:round; stroke-linejoin:round; stroke-width:2; stroke-opacity:0.1; fill:none\" points=\"1669.05,1486.45 1669.05,47.2441 \"/>\n",
       "<polyline clip-path=\"url(#clip892)\" style=\"stroke:#000000; stroke-linecap:round; stroke-linejoin:round; stroke-width:2; stroke-opacity:0.1; fill:none\" points=\"2083.42,1486.45 2083.42,47.2441 \"/>\n",
       "<polyline clip-path=\"url(#clip892)\" style=\"stroke:#000000; stroke-linecap:round; stroke-linejoin:round; stroke-width:2; stroke-opacity:0.1; fill:none\" points=\"156.598,1486.45 2352.76,1486.45 \"/>\n",
       "<polyline clip-path=\"url(#clip892)\" style=\"stroke:#000000; stroke-linecap:round; stroke-linejoin:round; stroke-width:2; stroke-opacity:0.1; fill:none\" points=\"156.598,1160.84 2352.76,1160.84 \"/>\n",
       "<polyline clip-path=\"url(#clip892)\" style=\"stroke:#000000; stroke-linecap:round; stroke-linejoin:round; stroke-width:2; stroke-opacity:0.1; fill:none\" points=\"156.598,835.224 2352.76,835.224 \"/>\n",
       "<polyline clip-path=\"url(#clip892)\" style=\"stroke:#000000; stroke-linecap:round; stroke-linejoin:round; stroke-width:2; stroke-opacity:0.1; fill:none\" points=\"156.598,509.613 2352.76,509.613 \"/>\n",
       "<polyline clip-path=\"url(#clip892)\" style=\"stroke:#000000; stroke-linecap:round; stroke-linejoin:round; stroke-width:2; stroke-opacity:0.1; fill:none\" points=\"156.598,184.001 2352.76,184.001 \"/>\n",
       "<polyline clip-path=\"url(#clip890)\" style=\"stroke:#000000; stroke-linecap:round; stroke-linejoin:round; stroke-width:4; stroke-opacity:1; fill:none\" points=\"156.598,1486.45 2352.76,1486.45 \"/>\n",
       "<polyline clip-path=\"url(#clip890)\" style=\"stroke:#000000; stroke-linecap:round; stroke-linejoin:round; stroke-width:4; stroke-opacity:1; fill:none\" points=\"425.938,1486.45 425.938,1467.55 \"/>\n",
       "<polyline clip-path=\"url(#clip890)\" style=\"stroke:#000000; stroke-linecap:round; stroke-linejoin:round; stroke-width:4; stroke-opacity:1; fill:none\" points=\"840.308,1486.45 840.308,1467.55 \"/>\n",
       "<polyline clip-path=\"url(#clip890)\" style=\"stroke:#000000; stroke-linecap:round; stroke-linejoin:round; stroke-width:4; stroke-opacity:1; fill:none\" points=\"1254.68,1486.45 1254.68,1467.55 \"/>\n",
       "<polyline clip-path=\"url(#clip890)\" style=\"stroke:#000000; stroke-linecap:round; stroke-linejoin:round; stroke-width:4; stroke-opacity:1; fill:none\" points=\"1669.05,1486.45 1669.05,1467.55 \"/>\n",
       "<polyline clip-path=\"url(#clip890)\" style=\"stroke:#000000; stroke-linecap:round; stroke-linejoin:round; stroke-width:4; stroke-opacity:1; fill:none\" points=\"2083.42,1486.45 2083.42,1467.55 \"/>\n",
       "<path clip-path=\"url(#clip890)\" d=\"M394.839 1532.02 L424.515 1532.02 L424.515 1535.95 L394.839 1535.95 L394.839 1532.02 Z\" fill=\"#000000\" fill-rule=\"nonzero\" fill-opacity=\"1\" /><path clip-path=\"url(#clip890)\" d=\"M447.454 1518.36 L435.649 1536.81 L447.454 1536.81 L447.454 1518.36 M446.228 1514.29 L452.107 1514.29 L452.107 1536.81 L457.038 1536.81 L457.038 1540.7 L452.107 1540.7 L452.107 1548.85 L447.454 1548.85 L447.454 1540.7 L431.853 1540.7 L431.853 1536.19 L446.228 1514.29 Z\" fill=\"#000000\" fill-rule=\"nonzero\" fill-opacity=\"1\" /><path clip-path=\"url(#clip890)\" d=\"M810.25 1532.02 L839.926 1532.02 L839.926 1535.95 L810.25 1535.95 L810.25 1532.02 Z\" fill=\"#000000\" fill-rule=\"nonzero\" fill-opacity=\"1\" /><path clip-path=\"url(#clip890)\" d=\"M854.046 1544.91 L870.365 1544.91 L870.365 1548.85 L848.421 1548.85 L848.421 1544.91 Q851.083 1542.16 855.666 1537.53 Q860.273 1532.88 861.453 1531.53 Q863.699 1529.01 864.578 1527.27 Q865.481 1525.51 865.481 1523.82 Q865.481 1521.07 863.537 1519.33 Q861.615 1517.6 858.514 1517.6 Q856.315 1517.6 853.861 1518.36 Q851.43 1519.13 848.653 1520.68 L848.653 1515.95 Q851.477 1514.82 853.93 1514.24 Q856.384 1513.66 858.421 1513.66 Q863.791 1513.66 866.986 1516.35 Q870.18 1519.03 870.18 1523.52 Q870.18 1525.65 869.37 1527.57 Q868.583 1529.47 866.477 1532.07 Q865.898 1532.74 862.796 1535.95 Q859.694 1539.15 854.046 1544.91 Z\" fill=\"#000000\" fill-rule=\"nonzero\" fill-opacity=\"1\" /><path clip-path=\"url(#clip890)\" d=\"M1254.68 1517.37 Q1251.07 1517.37 1249.24 1520.93 Q1247.43 1524.47 1247.43 1531.6 Q1247.43 1538.71 1249.24 1542.27 Q1251.07 1545.82 1254.68 1545.82 Q1258.31 1545.82 1260.12 1542.27 Q1261.95 1538.71 1261.95 1531.6 Q1261.95 1524.47 1260.12 1520.93 Q1258.31 1517.37 1254.68 1517.37 M1254.68 1513.66 Q1260.49 1513.66 1263.54 1518.27 Q1266.62 1522.85 1266.62 1531.6 Q1266.62 1540.33 1263.54 1544.94 Q1260.49 1549.52 1254.68 1549.52 Q1248.87 1549.52 1245.79 1544.94 Q1242.73 1540.33 1242.73 1531.6 Q1242.73 1522.85 1245.79 1518.27 Q1248.87 1513.66 1254.68 1513.66 Z\" fill=\"#000000\" fill-rule=\"nonzero\" fill-opacity=\"1\" /><path clip-path=\"url(#clip890)\" d=\"M1663.7 1544.91 L1680.02 1544.91 L1680.02 1548.85 L1658.07 1548.85 L1658.07 1544.91 Q1660.74 1542.16 1665.32 1537.53 Q1669.93 1532.88 1671.11 1531.53 Q1673.35 1529.01 1674.23 1527.27 Q1675.13 1525.51 1675.13 1523.82 Q1675.13 1521.07 1673.19 1519.33 Q1671.27 1517.6 1668.17 1517.6 Q1665.97 1517.6 1663.51 1518.36 Q1661.08 1519.13 1658.31 1520.68 L1658.31 1515.95 Q1661.13 1514.82 1663.58 1514.24 Q1666.04 1513.66 1668.07 1513.66 Q1673.44 1513.66 1676.64 1516.35 Q1679.83 1519.03 1679.83 1523.52 Q1679.83 1525.65 1679.02 1527.57 Q1678.24 1529.47 1676.13 1532.07 Q1675.55 1532.74 1672.45 1535.95 Q1669.35 1539.15 1663.7 1544.91 Z\" fill=\"#000000\" fill-rule=\"nonzero\" fill-opacity=\"1\" /><path clip-path=\"url(#clip890)\" d=\"M2086.43 1518.36 L2074.62 1536.81 L2086.43 1536.81 L2086.43 1518.36 M2085.2 1514.29 L2091.08 1514.29 L2091.08 1536.81 L2096.01 1536.81 L2096.01 1540.7 L2091.08 1540.7 L2091.08 1548.85 L2086.43 1548.85 L2086.43 1540.7 L2070.82 1540.7 L2070.82 1536.19 L2085.2 1514.29 Z\" fill=\"#000000\" fill-rule=\"nonzero\" fill-opacity=\"1\" /><polyline clip-path=\"url(#clip890)\" style=\"stroke:#000000; stroke-linecap:round; stroke-linejoin:round; stroke-width:4; stroke-opacity:1; fill:none\" points=\"156.598,1486.45 156.598,47.2441 \"/>\n",
       "<polyline clip-path=\"url(#clip890)\" style=\"stroke:#000000; stroke-linecap:round; stroke-linejoin:round; stroke-width:4; stroke-opacity:1; fill:none\" points=\"156.598,1486.45 175.496,1486.45 \"/>\n",
       "<polyline clip-path=\"url(#clip890)\" style=\"stroke:#000000; stroke-linecap:round; stroke-linejoin:round; stroke-width:4; stroke-opacity:1; fill:none\" points=\"156.598,1160.84 175.496,1160.84 \"/>\n",
       "<polyline clip-path=\"url(#clip890)\" style=\"stroke:#000000; stroke-linecap:round; stroke-linejoin:round; stroke-width:4; stroke-opacity:1; fill:none\" points=\"156.598,835.224 175.496,835.224 \"/>\n",
       "<polyline clip-path=\"url(#clip890)\" style=\"stroke:#000000; stroke-linecap:round; stroke-linejoin:round; stroke-width:4; stroke-opacity:1; fill:none\" points=\"156.598,509.613 175.496,509.613 \"/>\n",
       "<polyline clip-path=\"url(#clip890)\" style=\"stroke:#000000; stroke-linecap:round; stroke-linejoin:round; stroke-width:4; stroke-opacity:1; fill:none\" points=\"156.598,184.001 175.496,184.001 \"/>\n",
       "<path clip-path=\"url(#clip890)\" d=\"M63.4226 1472.25 Q59.8115 1472.25 57.9828 1475.81 Q56.1773 1479.35 56.1773 1486.48 Q56.1773 1493.59 57.9828 1497.15 Q59.8115 1500.7 63.4226 1500.7 Q67.0569 1500.7 68.8624 1497.15 Q70.6911 1493.59 70.6911 1486.48 Q70.6911 1479.35 68.8624 1475.81 Q67.0569 1472.25 63.4226 1472.25 M63.4226 1468.54 Q69.2328 1468.54 72.2883 1473.15 Q75.367 1477.73 75.367 1486.48 Q75.367 1495.21 72.2883 1499.82 Q69.2328 1504.4 63.4226 1504.4 Q57.6125 1504.4 54.5338 1499.82 Q51.4782 1495.21 51.4782 1486.48 Q51.4782 1477.73 54.5338 1473.15 Q57.6125 1468.54 63.4226 1468.54 Z\" fill=\"#000000\" fill-rule=\"nonzero\" fill-opacity=\"1\" /><path clip-path=\"url(#clip890)\" d=\"M83.5845 1497.85 L88.4688 1497.85 L88.4688 1503.73 L83.5845 1503.73 L83.5845 1497.85 Z\" fill=\"#000000\" fill-rule=\"nonzero\" fill-opacity=\"1\" /><path clip-path=\"url(#clip890)\" d=\"M108.654 1472.25 Q105.043 1472.25 103.214 1475.81 Q101.409 1479.35 101.409 1486.48 Q101.409 1493.59 103.214 1497.15 Q105.043 1500.7 108.654 1500.7 Q112.288 1500.7 114.094 1497.15 Q115.922 1493.59 115.922 1486.48 Q115.922 1479.35 114.094 1475.81 Q112.288 1472.25 108.654 1472.25 M108.654 1468.54 Q114.464 1468.54 117.52 1473.15 Q120.598 1477.73 120.598 1486.48 Q120.598 1495.21 117.52 1499.82 Q114.464 1504.4 108.654 1504.4 Q102.844 1504.4 99.765 1499.82 Q96.7095 1495.21 96.7095 1486.48 Q96.7095 1477.73 99.765 1473.15 Q102.844 1468.54 108.654 1468.54 Z\" fill=\"#000000\" fill-rule=\"nonzero\" fill-opacity=\"1\" /><path clip-path=\"url(#clip890)\" d=\"M64.6495 1146.63 Q61.0384 1146.63 59.2097 1150.2 Q57.4041 1153.74 57.4041 1160.87 Q57.4041 1167.98 59.2097 1171.54 Q61.0384 1175.08 64.6495 1175.08 Q68.2837 1175.08 70.0892 1171.54 Q71.9179 1167.98 71.9179 1160.87 Q71.9179 1153.74 70.0892 1150.2 Q68.2837 1146.63 64.6495 1146.63 M64.6495 1142.93 Q70.4596 1142.93 73.5152 1147.54 Q76.5938 1152.12 76.5938 1160.87 Q76.5938 1169.6 73.5152 1174.2 Q70.4596 1178.79 64.6495 1178.79 Q58.8393 1178.79 55.7606 1174.2 Q52.7051 1169.6 52.7051 1160.87 Q52.7051 1152.12 55.7606 1147.54 Q58.8393 1142.93 64.6495 1142.93 Z\" fill=\"#000000\" fill-rule=\"nonzero\" fill-opacity=\"1\" /><path clip-path=\"url(#clip890)\" d=\"M84.8114 1172.24 L89.6956 1172.24 L89.6956 1178.12 L84.8114 1178.12 L84.8114 1172.24 Z\" fill=\"#000000\" fill-rule=\"nonzero\" fill-opacity=\"1\" /><path clip-path=\"url(#clip890)\" d=\"M100.691 1174.18 L108.33 1174.18 L108.33 1147.82 L100.02 1149.48 L100.02 1145.22 L108.283 1143.56 L112.959 1143.56 L112.959 1174.18 L120.598 1174.18 L120.598 1178.12 L100.691 1178.12 L100.691 1174.18 Z\" fill=\"#000000\" fill-rule=\"nonzero\" fill-opacity=\"1\" /><path clip-path=\"url(#clip890)\" d=\"M65.0198 821.023 Q61.4087 821.023 59.58 824.588 Q57.7745 828.13 57.7745 835.259 Q57.7745 842.366 59.58 845.93 Q61.4087 849.472 65.0198 849.472 Q68.6541 849.472 70.4596 845.93 Q72.2883 842.366 72.2883 835.259 Q72.2883 828.13 70.4596 824.588 Q68.6541 821.023 65.0198 821.023 M65.0198 817.319 Q70.83 817.319 73.8855 821.926 Q76.9642 826.509 76.9642 835.259 Q76.9642 843.986 73.8855 848.592 Q70.83 853.176 65.0198 853.176 Q59.2097 853.176 56.131 848.592 Q53.0754 843.986 53.0754 835.259 Q53.0754 826.509 56.131 821.926 Q59.2097 817.319 65.0198 817.319 Z\" fill=\"#000000\" fill-rule=\"nonzero\" fill-opacity=\"1\" /><path clip-path=\"url(#clip890)\" d=\"M85.1818 846.625 L90.066 846.625 L90.066 852.504 L85.1818 852.504 L85.1818 846.625 Z\" fill=\"#000000\" fill-rule=\"nonzero\" fill-opacity=\"1\" /><path clip-path=\"url(#clip890)\" d=\"M104.279 848.569 L120.598 848.569 L120.598 852.504 L98.6539 852.504 L98.6539 848.569 Q101.316 845.815 105.899 841.185 Q110.506 836.532 111.686 835.19 Q113.932 832.667 114.811 830.93 Q115.714 829.171 115.714 827.481 Q115.714 824.727 113.77 822.991 Q111.848 821.255 108.746 821.255 Q106.547 821.255 104.094 822.018 Q101.663 822.782 98.8854 824.333 L98.8854 819.611 Q101.709 818.477 104.163 817.898 Q106.617 817.319 108.654 817.319 Q114.024 817.319 117.219 820.005 Q120.413 822.69 120.413 827.181 Q120.413 829.31 119.603 831.231 Q118.816 833.13 116.709 835.722 Q116.131 836.393 113.029 839.611 Q109.927 842.805 104.279 848.569 Z\" fill=\"#000000\" fill-rule=\"nonzero\" fill-opacity=\"1\" /><path clip-path=\"url(#clip890)\" d=\"M64.0708 495.411 Q60.4597 495.411 58.631 498.976 Q56.8254 502.518 56.8254 509.647 Q56.8254 516.754 58.631 520.319 Q60.4597 523.86 64.0708 523.86 Q67.705 523.86 69.5105 520.319 Q71.3392 516.754 71.3392 509.647 Q71.3392 502.518 69.5105 498.976 Q67.705 495.411 64.0708 495.411 M64.0708 491.708 Q69.8809 491.708 72.9365 496.314 Q76.0151 500.897 76.0151 509.647 Q76.0151 518.374 72.9365 522.981 Q69.8809 527.564 64.0708 527.564 Q58.2606 527.564 55.1819 522.981 Q52.1264 518.374 52.1264 509.647 Q52.1264 500.897 55.1819 496.314 Q58.2606 491.708 64.0708 491.708 Z\" fill=\"#000000\" fill-rule=\"nonzero\" fill-opacity=\"1\" /><path clip-path=\"url(#clip890)\" d=\"M84.2327 521.013 L89.1169 521.013 L89.1169 526.893 L84.2327 526.893 L84.2327 521.013 Z\" fill=\"#000000\" fill-rule=\"nonzero\" fill-opacity=\"1\" /><path clip-path=\"url(#clip890)\" d=\"M113.469 508.259 Q116.825 508.976 118.7 511.245 Q120.598 513.513 120.598 516.846 Q120.598 521.962 117.08 524.763 Q113.561 527.564 107.08 527.564 Q104.904 527.564 102.589 527.124 Q100.297 526.708 97.8437 525.851 L97.8437 521.337 Q99.7882 522.471 102.103 523.05 Q104.418 523.629 106.941 523.629 Q111.339 523.629 113.631 521.893 Q115.945 520.157 115.945 516.846 Q115.945 513.791 113.793 512.078 Q111.663 510.342 107.844 510.342 L103.816 510.342 L103.816 506.499 L108.029 506.499 Q111.478 506.499 113.307 505.134 Q115.135 503.745 115.135 501.152 Q115.135 498.49 113.237 497.078 Q111.362 495.643 107.844 495.643 Q105.922 495.643 103.723 496.06 Q101.524 496.476 98.8854 497.356 L98.8854 493.189 Q101.547 492.448 103.862 492.078 Q106.2 491.708 108.26 491.708 Q113.584 491.708 116.686 494.138 Q119.788 496.546 119.788 500.666 Q119.788 503.536 118.145 505.527 Q116.501 507.495 113.469 508.259 Z\" fill=\"#000000\" fill-rule=\"nonzero\" fill-opacity=\"1\" /><path clip-path=\"url(#clip890)\" d=\"M62.9365 169.8 Q59.3254 169.8 57.4967 173.364 Q55.6912 176.906 55.6912 184.036 Q55.6912 191.142 57.4967 194.707 Q59.3254 198.249 62.9365 198.249 Q66.5707 198.249 68.3763 194.707 Q70.205 191.142 70.205 184.036 Q70.205 176.906 68.3763 173.364 Q66.5707 169.8 62.9365 169.8 M62.9365 166.096 Q68.7467 166.096 71.8022 170.702 Q74.8809 175.286 74.8809 184.036 Q74.8809 192.763 71.8022 197.369 Q68.7467 201.952 62.9365 201.952 Q57.1264 201.952 54.0477 197.369 Q50.9921 192.763 50.9921 184.036 Q50.9921 175.286 54.0477 170.702 Q57.1264 166.096 62.9365 166.096 Z\" fill=\"#000000\" fill-rule=\"nonzero\" fill-opacity=\"1\" /><path clip-path=\"url(#clip890)\" d=\"M83.0984 195.401 L87.9827 195.401 L87.9827 201.281 L83.0984 201.281 L83.0984 195.401 Z\" fill=\"#000000\" fill-rule=\"nonzero\" fill-opacity=\"1\" /><path clip-path=\"url(#clip890)\" d=\"M111.015 170.795 L99.2095 189.244 L111.015 189.244 L111.015 170.795 M109.788 166.721 L115.668 166.721 L115.668 189.244 L120.598 189.244 L120.598 193.133 L115.668 193.133 L115.668 201.281 L111.015 201.281 L111.015 193.133 L95.4132 193.133 L95.4132 188.619 L109.788 166.721 Z\" fill=\"#000000\" fill-rule=\"nonzero\" fill-opacity=\"1\" /><path clip-path=\"url(#clip892)\" d=\"M508.812 1479.94 L508.812 1486.45 L529.531 1486.45 L529.531 1479.94 L508.812 1479.94 L508.812 1479.94  Z\" fill=\"#009af9\" fill-rule=\"evenodd\" fill-opacity=\"0.8\"/>\n",
       "<polyline clip-path=\"url(#clip892)\" style=\"stroke:#000000; stroke-linecap:round; stroke-linejoin:round; stroke-width:4; stroke-opacity:0.8; fill:none\" points=\"508.812,1479.94 508.812,1486.45 529.531,1486.45 529.531,1479.94 508.812,1479.94 \"/>\n",
       "<path clip-path=\"url(#clip892)\" d=\"M529.531 1479.94 L529.531 1486.45 L550.249 1486.45 L550.249 1479.94 L529.531 1479.94 L529.531 1479.94  Z\" fill=\"#009af9\" fill-rule=\"evenodd\" fill-opacity=\"0.8\"/>\n",
       "<polyline clip-path=\"url(#clip892)\" style=\"stroke:#000000; stroke-linecap:round; stroke-linejoin:round; stroke-width:4; stroke-opacity:0.8; fill:none\" points=\"529.531,1479.94 529.531,1486.45 550.249,1486.45 550.249,1479.94 529.531,1479.94 \"/>\n",
       "<path clip-path=\"url(#clip892)\" d=\"M550.249 1486.45 L550.249 1486.45 L570.968 1486.45 L570.968 1486.45 L550.249 1486.45 L550.249 1486.45  Z\" fill=\"#009af9\" fill-rule=\"evenodd\" fill-opacity=\"0.8\"/>\n",
       "<polyline clip-path=\"url(#clip892)\" style=\"stroke:#000000; stroke-linecap:round; stroke-linejoin:round; stroke-width:4; stroke-opacity:0.8; fill:none\" points=\"550.249,1486.45 550.249,1486.45 570.968,1486.45 550.249,1486.45 \"/>\n",
       "<path clip-path=\"url(#clip892)\" d=\"M570.968 1479.94 L570.968 1486.45 L591.686 1486.45 L591.686 1479.94 L570.968 1479.94 L570.968 1479.94  Z\" fill=\"#009af9\" fill-rule=\"evenodd\" fill-opacity=\"0.8\"/>\n",
       "<polyline clip-path=\"url(#clip892)\" style=\"stroke:#000000; stroke-linecap:round; stroke-linejoin:round; stroke-width:4; stroke-opacity:0.8; fill:none\" points=\"570.968,1479.94 570.968,1486.45 591.686,1486.45 591.686,1479.94 570.968,1479.94 \"/>\n",
       "<path clip-path=\"url(#clip892)\" d=\"M591.686 1486.45 L591.686 1486.45 L612.405 1486.45 L612.405 1486.45 L591.686 1486.45 L591.686 1486.45  Z\" fill=\"#009af9\" fill-rule=\"evenodd\" fill-opacity=\"0.8\"/>\n",
       "<polyline clip-path=\"url(#clip892)\" style=\"stroke:#000000; stroke-linecap:round; stroke-linejoin:round; stroke-width:4; stroke-opacity:0.8; fill:none\" points=\"591.686,1486.45 591.686,1486.45 612.405,1486.45 591.686,1486.45 \"/>\n",
       "<path clip-path=\"url(#clip892)\" d=\"M612.405 1479.94 L612.405 1486.45 L633.123 1486.45 L633.123 1479.94 L612.405 1479.94 L612.405 1479.94  Z\" fill=\"#009af9\" fill-rule=\"evenodd\" fill-opacity=\"0.8\"/>\n",
       "<polyline clip-path=\"url(#clip892)\" style=\"stroke:#000000; stroke-linecap:round; stroke-linejoin:round; stroke-width:4; stroke-opacity:0.8; fill:none\" points=\"612.405,1479.94 612.405,1486.45 633.123,1486.45 633.123,1479.94 612.405,1479.94 \"/>\n",
       "<path clip-path=\"url(#clip892)\" d=\"M633.123 1479.94 L633.123 1486.45 L653.841 1486.45 L653.841 1479.94 L633.123 1479.94 L633.123 1479.94  Z\" fill=\"#009af9\" fill-rule=\"evenodd\" fill-opacity=\"0.8\"/>\n",
       "<polyline clip-path=\"url(#clip892)\" style=\"stroke:#000000; stroke-linecap:round; stroke-linejoin:round; stroke-width:4; stroke-opacity:0.8; fill:none\" points=\"633.123,1479.94 633.123,1486.45 653.841,1486.45 653.841,1479.94 633.123,1479.94 \"/>\n",
       "<path clip-path=\"url(#clip892)\" d=\"M653.841 1460.4 L653.841 1486.45 L674.56 1486.45 L674.56 1460.4 L653.841 1460.4 L653.841 1460.4  Z\" fill=\"#009af9\" fill-rule=\"evenodd\" fill-opacity=\"0.8\"/>\n",
       "<polyline clip-path=\"url(#clip892)\" style=\"stroke:#000000; stroke-linecap:round; stroke-linejoin:round; stroke-width:4; stroke-opacity:0.8; fill:none\" points=\"653.841,1460.4 653.841,1486.45 674.56,1486.45 674.56,1460.4 653.841,1460.4 \"/>\n",
       "<path clip-path=\"url(#clip892)\" d=\"M674.56 1460.4 L674.56 1486.45 L695.278 1486.45 L695.278 1460.4 L674.56 1460.4 L674.56 1460.4  Z\" fill=\"#009af9\" fill-rule=\"evenodd\" fill-opacity=\"0.8\"/>\n",
       "<polyline clip-path=\"url(#clip892)\" style=\"stroke:#000000; stroke-linecap:round; stroke-linejoin:round; stroke-width:4; stroke-opacity:0.8; fill:none\" points=\"674.56,1460.4 674.56,1486.45 695.278,1486.45 695.278,1460.4 674.56,1460.4 \"/>\n",
       "<path clip-path=\"url(#clip892)\" d=\"M695.278 1447.37 L695.278 1486.45 L715.997 1486.45 L715.997 1447.37 L695.278 1447.37 L695.278 1447.37  Z\" fill=\"#009af9\" fill-rule=\"evenodd\" fill-opacity=\"0.8\"/>\n",
       "<polyline clip-path=\"url(#clip892)\" style=\"stroke:#000000; stroke-linecap:round; stroke-linejoin:round; stroke-width:4; stroke-opacity:0.8; fill:none\" points=\"695.278,1447.37 695.278,1486.45 715.997,1486.45 715.997,1447.37 695.278,1447.37 \"/>\n",
       "<path clip-path=\"url(#clip892)\" d=\"M715.997 1447.37 L715.997 1486.45 L736.715 1486.45 L736.715 1447.37 L715.997 1447.37 L715.997 1447.37  Z\" fill=\"#009af9\" fill-rule=\"evenodd\" fill-opacity=\"0.8\"/>\n",
       "<polyline clip-path=\"url(#clip892)\" style=\"stroke:#000000; stroke-linecap:round; stroke-linejoin:round; stroke-width:4; stroke-opacity:0.8; fill:none\" points=\"715.997,1447.37 715.997,1486.45 736.715,1486.45 736.715,1447.37 715.997,1447.37 \"/>\n",
       "<path clip-path=\"url(#clip892)\" d=\"M736.715 1440.86 L736.715 1486.45 L757.434 1486.45 L757.434 1440.86 L736.715 1440.86 L736.715 1440.86  Z\" fill=\"#009af9\" fill-rule=\"evenodd\" fill-opacity=\"0.8\"/>\n",
       "<polyline clip-path=\"url(#clip892)\" style=\"stroke:#000000; stroke-linecap:round; stroke-linejoin:round; stroke-width:4; stroke-opacity:0.8; fill:none\" points=\"736.715,1440.86 736.715,1486.45 757.434,1486.45 757.434,1440.86 736.715,1440.86 \"/>\n",
       "<path clip-path=\"url(#clip892)\" d=\"M757.434 1408.3 L757.434 1486.45 L778.152 1486.45 L778.152 1408.3 L757.434 1408.3 L757.434 1408.3  Z\" fill=\"#009af9\" fill-rule=\"evenodd\" fill-opacity=\"0.8\"/>\n",
       "<polyline clip-path=\"url(#clip892)\" style=\"stroke:#000000; stroke-linecap:round; stroke-linejoin:round; stroke-width:4; stroke-opacity:0.8; fill:none\" points=\"757.434,1408.3 757.434,1486.45 778.152,1486.45 778.152,1408.3 757.434,1408.3 \"/>\n",
       "<path clip-path=\"url(#clip892)\" d=\"M778.152 1408.3 L778.152 1486.45 L798.871 1486.45 L798.871 1408.3 L778.152 1408.3 L778.152 1408.3  Z\" fill=\"#009af9\" fill-rule=\"evenodd\" fill-opacity=\"0.8\"/>\n",
       "<polyline clip-path=\"url(#clip892)\" style=\"stroke:#000000; stroke-linecap:round; stroke-linejoin:round; stroke-width:4; stroke-opacity:0.8; fill:none\" points=\"778.152,1408.3 778.152,1486.45 798.871,1486.45 798.871,1408.3 778.152,1408.3 \"/>\n",
       "<path clip-path=\"url(#clip892)\" d=\"M798.871 1317.13 L798.871 1486.45 L819.589 1486.45 L819.589 1317.13 L798.871 1317.13 L798.871 1317.13  Z\" fill=\"#009af9\" fill-rule=\"evenodd\" fill-opacity=\"0.8\"/>\n",
       "<polyline clip-path=\"url(#clip892)\" style=\"stroke:#000000; stroke-linecap:round; stroke-linejoin:round; stroke-width:4; stroke-opacity:0.8; fill:none\" points=\"798.871,1317.13 798.871,1486.45 819.589,1486.45 819.589,1317.13 798.871,1317.13 \"/>\n",
       "<path clip-path=\"url(#clip892)\" d=\"M819.589 1323.64 L819.589 1486.45 L840.308 1486.45 L840.308 1323.64 L819.589 1323.64 L819.589 1323.64  Z\" fill=\"#009af9\" fill-rule=\"evenodd\" fill-opacity=\"0.8\"/>\n",
       "<polyline clip-path=\"url(#clip892)\" style=\"stroke:#000000; stroke-linecap:round; stroke-linejoin:round; stroke-width:4; stroke-opacity:0.8; fill:none\" points=\"819.589,1323.64 819.589,1486.45 840.308,1486.45 840.308,1323.64 819.589,1323.64 \"/>\n",
       "<path clip-path=\"url(#clip892)\" d=\"M840.308 1343.18 L840.308 1486.45 L861.026 1486.45 L861.026 1343.18 L840.308 1343.18 L840.308 1343.18  Z\" fill=\"#009af9\" fill-rule=\"evenodd\" fill-opacity=\"0.8\"/>\n",
       "<polyline clip-path=\"url(#clip892)\" style=\"stroke:#000000; stroke-linecap:round; stroke-linejoin:round; stroke-width:4; stroke-opacity:0.8; fill:none\" points=\"840.308,1343.18 840.308,1486.45 861.026,1486.45 861.026,1343.18 840.308,1343.18 \"/>\n",
       "<path clip-path=\"url(#clip892)\" d=\"M861.026 1317.13 L861.026 1486.45 L881.745 1486.45 L881.745 1317.13 L861.026 1317.13 L861.026 1317.13  Z\" fill=\"#009af9\" fill-rule=\"evenodd\" fill-opacity=\"0.8\"/>\n",
       "<polyline clip-path=\"url(#clip892)\" style=\"stroke:#000000; stroke-linecap:round; stroke-linejoin:round; stroke-width:4; stroke-opacity:0.8; fill:none\" points=\"861.026,1317.13 861.026,1486.45 881.745,1486.45 881.745,1317.13 861.026,1317.13 \"/>\n",
       "<path clip-path=\"url(#clip892)\" d=\"M881.745 1173.86 L881.745 1486.45 L902.463 1486.45 L902.463 1173.86 L881.745 1173.86 L881.745 1173.86  Z\" fill=\"#009af9\" fill-rule=\"evenodd\" fill-opacity=\"0.8\"/>\n",
       "<polyline clip-path=\"url(#clip892)\" style=\"stroke:#000000; stroke-linecap:round; stroke-linejoin:round; stroke-width:4; stroke-opacity:0.8; fill:none\" points=\"881.745,1173.86 881.745,1486.45 902.463,1486.45 902.463,1173.86 881.745,1173.86 \"/>\n",
       "<path clip-path=\"url(#clip892)\" d=\"M902.463 1225.96 L902.463 1486.45 L923.182 1486.45 L923.182 1225.96 L902.463 1225.96 L902.463 1225.96  Z\" fill=\"#009af9\" fill-rule=\"evenodd\" fill-opacity=\"0.8\"/>\n",
       "<polyline clip-path=\"url(#clip892)\" style=\"stroke:#000000; stroke-linecap:round; stroke-linejoin:round; stroke-width:4; stroke-opacity:0.8; fill:none\" points=\"902.463,1225.96 902.463,1486.45 923.182,1486.45 923.182,1225.96 902.463,1225.96 \"/>\n",
       "<path clip-path=\"url(#clip892)\" d=\"M923.182 1147.81 L923.182 1486.45 L943.9 1486.45 L943.9 1147.81 L923.182 1147.81 L923.182 1147.81  Z\" fill=\"#009af9\" fill-rule=\"evenodd\" fill-opacity=\"0.8\"/>\n",
       "<polyline clip-path=\"url(#clip892)\" style=\"stroke:#000000; stroke-linecap:round; stroke-linejoin:round; stroke-width:4; stroke-opacity:0.8; fill:none\" points=\"923.182,1147.81 923.182,1486.45 943.9,1486.45 943.9,1147.81 923.182,1147.81 \"/>\n",
       "<path clip-path=\"url(#clip892)\" d=\"M943.9 1108.74 L943.9 1486.45 L964.619 1486.45 L964.619 1108.74 L943.9 1108.74 L943.9 1108.74  Z\" fill=\"#009af9\" fill-rule=\"evenodd\" fill-opacity=\"0.8\"/>\n",
       "<polyline clip-path=\"url(#clip892)\" style=\"stroke:#000000; stroke-linecap:round; stroke-linejoin:round; stroke-width:4; stroke-opacity:0.8; fill:none\" points=\"943.9,1108.74 943.9,1486.45 964.619,1486.45 964.619,1108.74 943.9,1108.74 \"/>\n",
       "<path clip-path=\"url(#clip892)\" d=\"M964.619 991.518 L964.619 1486.45 L985.337 1486.45 L985.337 991.518 L964.619 991.518 L964.619 991.518  Z\" fill=\"#009af9\" fill-rule=\"evenodd\" fill-opacity=\"0.8\"/>\n",
       "<polyline clip-path=\"url(#clip892)\" style=\"stroke:#000000; stroke-linecap:round; stroke-linejoin:round; stroke-width:4; stroke-opacity:0.8; fill:none\" points=\"964.619,991.518 964.619,1486.45 985.337,1486.45 985.337,991.518 964.619,991.518 \"/>\n",
       "<path clip-path=\"url(#clip892)\" d=\"M985.337 958.957 L985.337 1486.45 L1006.06 1486.45 L1006.06 958.957 L985.337 958.957 L985.337 958.957  Z\" fill=\"#009af9\" fill-rule=\"evenodd\" fill-opacity=\"0.8\"/>\n",
       "<polyline clip-path=\"url(#clip892)\" style=\"stroke:#000000; stroke-linecap:round; stroke-linejoin:round; stroke-width:4; stroke-opacity:0.8; fill:none\" points=\"985.337,958.957 985.337,1486.45 1006.06,1486.45 1006.06,958.957 985.337,958.957 \"/>\n",
       "<path clip-path=\"url(#clip892)\" d=\"M1006.06 750.565 L1006.06 1486.45 L1026.77 1486.45 L1026.77 750.565 L1006.06 750.565 L1006.06 750.565  Z\" fill=\"#009af9\" fill-rule=\"evenodd\" fill-opacity=\"0.8\"/>\n",
       "<polyline clip-path=\"url(#clip892)\" style=\"stroke:#000000; stroke-linecap:round; stroke-linejoin:round; stroke-width:4; stroke-opacity:0.8; fill:none\" points=\"1006.06,750.565 1006.06,1486.45 1026.77,1486.45 1026.77,750.565 1006.06,750.565 \"/>\n",
       "<path clip-path=\"url(#clip892)\" d=\"M1026.77 691.955 L1026.77 1486.45 L1047.49 1486.45 L1047.49 691.955 L1026.77 691.955 L1026.77 691.955  Z\" fill=\"#009af9\" fill-rule=\"evenodd\" fill-opacity=\"0.8\"/>\n",
       "<polyline clip-path=\"url(#clip892)\" style=\"stroke:#000000; stroke-linecap:round; stroke-linejoin:round; stroke-width:4; stroke-opacity:0.8; fill:none\" points=\"1026.77,691.955 1026.77,1486.45 1047.49,1486.45 1047.49,691.955 1026.77,691.955 \"/>\n",
       "<path clip-path=\"url(#clip892)\" d=\"M1047.49 659.394 L1047.49 1486.45 L1068.21 1486.45 L1068.21 659.394 L1047.49 659.394 L1047.49 659.394  Z\" fill=\"#009af9\" fill-rule=\"evenodd\" fill-opacity=\"0.8\"/>\n",
       "<polyline clip-path=\"url(#clip892)\" style=\"stroke:#000000; stroke-linecap:round; stroke-linejoin:round; stroke-width:4; stroke-opacity:0.8; fill:none\" points=\"1047.49,659.394 1047.49,1486.45 1068.21,1486.45 1068.21,659.394 1047.49,659.394 \"/>\n",
       "<path clip-path=\"url(#clip892)\" d=\"M1068.21 711.492 L1068.21 1486.45 L1088.93 1486.45 L1088.93 711.492 L1068.21 711.492 L1068.21 711.492  Z\" fill=\"#009af9\" fill-rule=\"evenodd\" fill-opacity=\"0.8\"/>\n",
       "<polyline clip-path=\"url(#clip892)\" style=\"stroke:#000000; stroke-linecap:round; stroke-linejoin:round; stroke-width:4; stroke-opacity:0.8; fill:none\" points=\"1068.21,711.492 1068.21,1486.45 1088.93,1486.45 1088.93,711.492 1068.21,711.492 \"/>\n",
       "<path clip-path=\"url(#clip892)\" d=\"M1088.93 464.027 L1088.93 1486.45 L1109.65 1486.45 L1109.65 464.027 L1088.93 464.027 L1088.93 464.027  Z\" fill=\"#009af9\" fill-rule=\"evenodd\" fill-opacity=\"0.8\"/>\n",
       "<polyline clip-path=\"url(#clip892)\" style=\"stroke:#000000; stroke-linecap:round; stroke-linejoin:round; stroke-width:4; stroke-opacity:0.8; fill:none\" points=\"1088.93,464.027 1088.93,1486.45 1109.65,1486.45 1109.65,464.027 1088.93,464.027 \"/>\n",
       "<path clip-path=\"url(#clip892)\" d=\"M1109.65 496.588 L1109.65 1486.45 L1130.37 1486.45 L1130.37 496.588 L1109.65 496.588 L1109.65 496.588  Z\" fill=\"#009af9\" fill-rule=\"evenodd\" fill-opacity=\"0.8\"/>\n",
       "<polyline clip-path=\"url(#clip892)\" style=\"stroke:#000000; stroke-linecap:round; stroke-linejoin:round; stroke-width:4; stroke-opacity:0.8; fill:none\" points=\"1109.65,496.588 1109.65,1486.45 1130.37,1486.45 1130.37,496.588 1109.65,496.588 \"/>\n",
       "<path clip-path=\"url(#clip892)\" d=\"M1130.37 464.027 L1130.37 1486.45 L1151.08 1486.45 L1151.08 464.027 L1130.37 464.027 L1130.37 464.027  Z\" fill=\"#009af9\" fill-rule=\"evenodd\" fill-opacity=\"0.8\"/>\n",
       "<polyline clip-path=\"url(#clip892)\" style=\"stroke:#000000; stroke-linecap:round; stroke-linejoin:round; stroke-width:4; stroke-opacity:0.8; fill:none\" points=\"1130.37,464.027 1130.37,1486.45 1151.08,1486.45 1151.08,464.027 1130.37,464.027 \"/>\n",
       "<path clip-path=\"url(#clip892)\" d=\"M1151.08 210.05 L1151.08 1486.45 L1171.8 1486.45 L1171.8 210.05 L1151.08 210.05 L1151.08 210.05  Z\" fill=\"#009af9\" fill-rule=\"evenodd\" fill-opacity=\"0.8\"/>\n",
       "<polyline clip-path=\"url(#clip892)\" style=\"stroke:#000000; stroke-linecap:round; stroke-linejoin:round; stroke-width:4; stroke-opacity:0.8; fill:none\" points=\"1151.08,210.05 1151.08,1486.45 1171.8,1486.45 1171.8,210.05 1151.08,210.05 \"/>\n",
       "<path clip-path=\"url(#clip892)\" d=\"M1171.8 451.003 L1171.8 1486.45 L1192.52 1486.45 L1192.52 451.003 L1171.8 451.003 L1171.8 451.003  Z\" fill=\"#009af9\" fill-rule=\"evenodd\" fill-opacity=\"0.8\"/>\n",
       "<polyline clip-path=\"url(#clip892)\" style=\"stroke:#000000; stroke-linecap:round; stroke-linejoin:round; stroke-width:4; stroke-opacity:0.8; fill:none\" points=\"1171.8,451.003 1171.8,1486.45 1192.52,1486.45 1192.52,451.003 1171.8,451.003 \"/>\n",
       "<path clip-path=\"url(#clip892)\" d=\"M1192.52 131.903 L1192.52 1486.45 L1213.24 1486.45 L1213.24 131.903 L1192.52 131.903 L1192.52 131.903  Z\" fill=\"#009af9\" fill-rule=\"evenodd\" fill-opacity=\"0.8\"/>\n",
       "<polyline clip-path=\"url(#clip892)\" style=\"stroke:#000000; stroke-linecap:round; stroke-linejoin:round; stroke-width:4; stroke-opacity:0.8; fill:none\" points=\"1192.52,131.903 1192.52,1486.45 1213.24,1486.45 1213.24,131.903 1192.52,131.903 \"/>\n",
       "<path clip-path=\"url(#clip892)\" d=\"M1213.24 47.2441 L1213.24 1486.45 L1233.96 1486.45 L1233.96 47.2441 L1213.24 47.2441 L1213.24 47.2441  Z\" fill=\"#009af9\" fill-rule=\"evenodd\" fill-opacity=\"0.8\"/>\n",
       "<polyline clip-path=\"url(#clip892)\" style=\"stroke:#000000; stroke-linecap:round; stroke-linejoin:round; stroke-width:4; stroke-opacity:0.8; fill:none\" points=\"1213.24,47.2441 1213.24,1486.45 1233.96,1486.45 1233.96,47.2441 1213.24,47.2441 \"/>\n",
       "<path clip-path=\"url(#clip892)\" d=\"M1233.96 92.8297 L1233.96 1486.45 L1254.68 1486.45 L1254.68 92.8297 L1233.96 92.8297 L1233.96 92.8297  Z\" fill=\"#009af9\" fill-rule=\"evenodd\" fill-opacity=\"0.8\"/>\n",
       "<polyline clip-path=\"url(#clip892)\" style=\"stroke:#000000; stroke-linecap:round; stroke-linejoin:round; stroke-width:4; stroke-opacity:0.8; fill:none\" points=\"1233.96,92.8297 1233.96,1486.45 1254.68,1486.45 1254.68,92.8297 1233.96,92.8297 \"/>\n",
       "<path clip-path=\"url(#clip892)\" d=\"M1254.68 105.854 L1254.68 1486.45 L1275.4 1486.45 L1275.4 105.854 L1254.68 105.854 L1254.68 105.854  Z\" fill=\"#009af9\" fill-rule=\"evenodd\" fill-opacity=\"0.8\"/>\n",
       "<polyline clip-path=\"url(#clip892)\" style=\"stroke:#000000; stroke-linecap:round; stroke-linejoin:round; stroke-width:4; stroke-opacity:0.8; fill:none\" points=\"1254.68,105.854 1254.68,1486.45 1275.4,1486.45 1275.4,105.854 1254.68,105.854 \"/>\n",
       "<path clip-path=\"url(#clip892)\" d=\"M1275.4 131.903 L1275.4 1486.45 L1296.11 1486.45 L1296.11 131.903 L1275.4 131.903 L1275.4 131.903  Z\" fill=\"#009af9\" fill-rule=\"evenodd\" fill-opacity=\"0.8\"/>\n",
       "<polyline clip-path=\"url(#clip892)\" style=\"stroke:#000000; stroke-linecap:round; stroke-linejoin:round; stroke-width:4; stroke-opacity:0.8; fill:none\" points=\"1275.4,131.903 1275.4,1486.45 1296.11,1486.45 1296.11,131.903 1275.4,131.903 \"/>\n",
       "<path clip-path=\"url(#clip892)\" d=\"M1296.11 184.001 L1296.11 1486.45 L1316.83 1486.45 L1316.83 184.001 L1296.11 184.001 L1296.11 184.001  Z\" fill=\"#009af9\" fill-rule=\"evenodd\" fill-opacity=\"0.8\"/>\n",
       "<polyline clip-path=\"url(#clip892)\" style=\"stroke:#000000; stroke-linecap:round; stroke-linejoin:round; stroke-width:4; stroke-opacity:0.8; fill:none\" points=\"1296.11,184.001 1296.11,1486.45 1316.83,1486.45 1316.83,184.001 1296.11,184.001 \"/>\n",
       "<path clip-path=\"url(#clip892)\" d=\"M1316.83 242.611 L1316.83 1486.45 L1337.55 1486.45 L1337.55 242.611 L1316.83 242.611 L1316.83 242.611  Z\" fill=\"#009af9\" fill-rule=\"evenodd\" fill-opacity=\"0.8\"/>\n",
       "<polyline clip-path=\"url(#clip892)\" style=\"stroke:#000000; stroke-linecap:round; stroke-linejoin:round; stroke-width:4; stroke-opacity:0.8; fill:none\" points=\"1316.83,242.611 1316.83,1486.45 1337.55,1486.45 1337.55,242.611 1316.83,242.611 \"/>\n",
       "<path clip-path=\"url(#clip892)\" d=\"M1337.55 340.295 L1337.55 1486.45 L1358.27 1486.45 L1358.27 340.295 L1337.55 340.295 L1337.55 340.295  Z\" fill=\"#009af9\" fill-rule=\"evenodd\" fill-opacity=\"0.8\"/>\n",
       "<polyline clip-path=\"url(#clip892)\" style=\"stroke:#000000; stroke-linecap:round; stroke-linejoin:round; stroke-width:4; stroke-opacity:0.8; fill:none\" points=\"1337.55,340.295 1337.55,1486.45 1358.27,1486.45 1358.27,340.295 1337.55,340.295 \"/>\n",
       "<path clip-path=\"url(#clip892)\" d=\"M1358.27 392.393 L1358.27 1486.45 L1378.99 1486.45 L1378.99 392.393 L1358.27 392.393 L1358.27 392.393  Z\" fill=\"#009af9\" fill-rule=\"evenodd\" fill-opacity=\"0.8\"/>\n",
       "<polyline clip-path=\"url(#clip892)\" style=\"stroke:#000000; stroke-linecap:round; stroke-linejoin:round; stroke-width:4; stroke-opacity:0.8; fill:none\" points=\"1358.27,392.393 1358.27,1486.45 1378.99,1486.45 1378.99,392.393 1358.27,392.393 \"/>\n",
       "<path clip-path=\"url(#clip892)\" d=\"M1378.99 392.393 L1378.99 1486.45 L1399.71 1486.45 L1399.71 392.393 L1378.99 392.393 L1378.99 392.393  Z\" fill=\"#009af9\" fill-rule=\"evenodd\" fill-opacity=\"0.8\"/>\n",
       "<polyline clip-path=\"url(#clip892)\" style=\"stroke:#000000; stroke-linecap:round; stroke-linejoin:round; stroke-width:4; stroke-opacity:0.8; fill:none\" points=\"1378.99,392.393 1378.99,1486.45 1399.71,1486.45 1399.71,392.393 1378.99,392.393 \"/>\n",
       "<path clip-path=\"url(#clip892)\" d=\"M1399.71 561.711 L1399.71 1486.45 L1420.42 1486.45 L1420.42 561.711 L1399.71 561.711 L1399.71 561.711  Z\" fill=\"#009af9\" fill-rule=\"evenodd\" fill-opacity=\"0.8\"/>\n",
       "<polyline clip-path=\"url(#clip892)\" style=\"stroke:#000000; stroke-linecap:round; stroke-linejoin:round; stroke-width:4; stroke-opacity:0.8; fill:none\" points=\"1399.71,561.711 1399.71,1486.45 1420.42,1486.45 1420.42,561.711 1399.71,561.711 \"/>\n",
       "<path clip-path=\"url(#clip892)\" d=\"M1420.42 568.223 L1420.42 1486.45 L1441.14 1486.45 L1441.14 568.223 L1420.42 568.223 L1420.42 568.223  Z\" fill=\"#009af9\" fill-rule=\"evenodd\" fill-opacity=\"0.8\"/>\n",
       "<polyline clip-path=\"url(#clip892)\" style=\"stroke:#000000; stroke-linecap:round; stroke-linejoin:round; stroke-width:4; stroke-opacity:0.8; fill:none\" points=\"1420.42,568.223 1420.42,1486.45 1441.14,1486.45 1441.14,568.223 1420.42,568.223 \"/>\n",
       "<path clip-path=\"url(#clip892)\" d=\"M1441.14 639.857 L1441.14 1486.45 L1461.86 1486.45 L1461.86 639.857 L1441.14 639.857 L1441.14 639.857  Z\" fill=\"#009af9\" fill-rule=\"evenodd\" fill-opacity=\"0.8\"/>\n",
       "<polyline clip-path=\"url(#clip892)\" style=\"stroke:#000000; stroke-linecap:round; stroke-linejoin:round; stroke-width:4; stroke-opacity:0.8; fill:none\" points=\"1441.14,639.857 1441.14,1486.45 1461.86,1486.45 1461.86,639.857 1441.14,639.857 \"/>\n",
       "<path clip-path=\"url(#clip892)\" d=\"M1461.86 737.541 L1461.86 1486.45 L1482.58 1486.45 L1482.58 737.541 L1461.86 737.541 L1461.86 737.541  Z\" fill=\"#009af9\" fill-rule=\"evenodd\" fill-opacity=\"0.8\"/>\n",
       "<polyline clip-path=\"url(#clip892)\" style=\"stroke:#000000; stroke-linecap:round; stroke-linejoin:round; stroke-width:4; stroke-opacity:0.8; fill:none\" points=\"1461.86,737.541 1461.86,1486.45 1482.58,1486.45 1482.58,737.541 1461.86,737.541 \"/>\n",
       "<path clip-path=\"url(#clip892)\" d=\"M1482.58 802.663 L1482.58 1486.45 L1503.3 1486.45 L1503.3 802.663 L1482.58 802.663 L1482.58 802.663  Z\" fill=\"#009af9\" fill-rule=\"evenodd\" fill-opacity=\"0.8\"/>\n",
       "<polyline clip-path=\"url(#clip892)\" style=\"stroke:#000000; stroke-linecap:round; stroke-linejoin:round; stroke-width:4; stroke-opacity:0.8; fill:none\" points=\"1482.58,802.663 1482.58,1486.45 1503.3,1486.45 1503.3,802.663 1482.58,802.663 \"/>\n",
       "<path clip-path=\"url(#clip892)\" d=\"M1503.3 867.786 L1503.3 1486.45 L1524.02 1486.45 L1524.02 867.786 L1503.3 867.786 L1503.3 867.786  Z\" fill=\"#009af9\" fill-rule=\"evenodd\" fill-opacity=\"0.8\"/>\n",
       "<polyline clip-path=\"url(#clip892)\" style=\"stroke:#000000; stroke-linecap:round; stroke-linejoin:round; stroke-width:4; stroke-opacity:0.8; fill:none\" points=\"1503.3,867.786 1503.3,1486.45 1524.02,1486.45 1524.02,867.786 1503.3,867.786 \"/>\n",
       "<path clip-path=\"url(#clip892)\" d=\"M1524.02 848.249 L1524.02 1486.45 L1544.74 1486.45 L1544.74 848.249 L1524.02 848.249 L1524.02 848.249  Z\" fill=\"#009af9\" fill-rule=\"evenodd\" fill-opacity=\"0.8\"/>\n",
       "<polyline clip-path=\"url(#clip892)\" style=\"stroke:#000000; stroke-linecap:round; stroke-linejoin:round; stroke-width:4; stroke-opacity:0.8; fill:none\" points=\"1524.02,848.249 1524.02,1486.45 1544.74,1486.45 1544.74,848.249 1524.02,848.249 \"/>\n",
       "<path clip-path=\"url(#clip892)\" d=\"M1544.74 952.445 L1544.74 1486.45 L1565.45 1486.45 L1565.45 952.445 L1544.74 952.445 L1544.74 952.445  Z\" fill=\"#009af9\" fill-rule=\"evenodd\" fill-opacity=\"0.8\"/>\n",
       "<polyline clip-path=\"url(#clip892)\" style=\"stroke:#000000; stroke-linecap:round; stroke-linejoin:round; stroke-width:4; stroke-opacity:0.8; fill:none\" points=\"1544.74,952.445 1544.74,1486.45 1565.45,1486.45 1565.45,952.445 1544.74,952.445 \"/>\n",
       "<path clip-path=\"url(#clip892)\" d=\"M1565.45 1160.84 L1565.45 1486.45 L1586.17 1486.45 L1586.17 1160.84 L1565.45 1160.84 L1565.45 1160.84  Z\" fill=\"#009af9\" fill-rule=\"evenodd\" fill-opacity=\"0.8\"/>\n",
       "<polyline clip-path=\"url(#clip892)\" style=\"stroke:#000000; stroke-linecap:round; stroke-linejoin:round; stroke-width:4; stroke-opacity:0.8; fill:none\" points=\"1565.45,1160.84 1565.45,1486.45 1586.17,1486.45 1586.17,1160.84 1565.45,1160.84 \"/>\n",
       "<path clip-path=\"url(#clip892)\" d=\"M1586.17 1167.35 L1586.17 1486.45 L1606.89 1486.45 L1606.89 1167.35 L1586.17 1167.35 L1586.17 1167.35  Z\" fill=\"#009af9\" fill-rule=\"evenodd\" fill-opacity=\"0.8\"/>\n",
       "<polyline clip-path=\"url(#clip892)\" style=\"stroke:#000000; stroke-linecap:round; stroke-linejoin:round; stroke-width:4; stroke-opacity:0.8; fill:none\" points=\"1586.17,1167.35 1586.17,1486.45 1606.89,1486.45 1606.89,1167.35 1586.17,1167.35 \"/>\n",
       "<path clip-path=\"url(#clip892)\" d=\"M1606.89 1238.98 L1606.89 1486.45 L1627.61 1486.45 L1627.61 1238.98 L1606.89 1238.98 L1606.89 1238.98  Z\" fill=\"#009af9\" fill-rule=\"evenodd\" fill-opacity=\"0.8\"/>\n",
       "<polyline clip-path=\"url(#clip892)\" style=\"stroke:#000000; stroke-linecap:round; stroke-linejoin:round; stroke-width:4; stroke-opacity:0.8; fill:none\" points=\"1606.89,1238.98 1606.89,1486.45 1627.61,1486.45 1627.61,1238.98 1606.89,1238.98 \"/>\n",
       "<path clip-path=\"url(#clip892)\" d=\"M1627.61 1252.01 L1627.61 1486.45 L1648.33 1486.45 L1648.33 1252.01 L1627.61 1252.01 L1627.61 1252.01  Z\" fill=\"#009af9\" fill-rule=\"evenodd\" fill-opacity=\"0.8\"/>\n",
       "<polyline clip-path=\"url(#clip892)\" style=\"stroke:#000000; stroke-linecap:round; stroke-linejoin:round; stroke-width:4; stroke-opacity:0.8; fill:none\" points=\"1627.61,1252.01 1627.61,1486.45 1648.33,1486.45 1648.33,1252.01 1627.61,1252.01 \"/>\n",
       "<path clip-path=\"url(#clip892)\" d=\"M1648.33 1278.06 L1648.33 1486.45 L1669.05 1486.45 L1669.05 1278.06 L1648.33 1278.06 L1648.33 1278.06  Z\" fill=\"#009af9\" fill-rule=\"evenodd\" fill-opacity=\"0.8\"/>\n",
       "<polyline clip-path=\"url(#clip892)\" style=\"stroke:#000000; stroke-linecap:round; stroke-linejoin:round; stroke-width:4; stroke-opacity:0.8; fill:none\" points=\"1648.33,1278.06 1648.33,1486.45 1669.05,1486.45 1669.05,1278.06 1648.33,1278.06 \"/>\n",
       "<path clip-path=\"url(#clip892)\" d=\"M1669.05 1310.62 L1669.05 1486.45 L1689.76 1486.45 L1689.76 1310.62 L1669.05 1310.62 L1669.05 1310.62  Z\" fill=\"#009af9\" fill-rule=\"evenodd\" fill-opacity=\"0.8\"/>\n",
       "<polyline clip-path=\"url(#clip892)\" style=\"stroke:#000000; stroke-linecap:round; stroke-linejoin:round; stroke-width:4; stroke-opacity:0.8; fill:none\" points=\"1669.05,1310.62 1669.05,1486.45 1689.76,1486.45 1689.76,1310.62 1669.05,1310.62 \"/>\n",
       "<path clip-path=\"url(#clip892)\" d=\"M1689.76 1382.25 L1689.76 1486.45 L1710.48 1486.45 L1710.48 1382.25 L1689.76 1382.25 L1689.76 1382.25  Z\" fill=\"#009af9\" fill-rule=\"evenodd\" fill-opacity=\"0.8\"/>\n",
       "<polyline clip-path=\"url(#clip892)\" style=\"stroke:#000000; stroke-linecap:round; stroke-linejoin:round; stroke-width:4; stroke-opacity:0.8; fill:none\" points=\"1689.76,1382.25 1689.76,1486.45 1710.48,1486.45 1710.48,1382.25 1689.76,1382.25 \"/>\n",
       "<path clip-path=\"url(#clip892)\" d=\"M1710.48 1395.28 L1710.48 1486.45 L1731.2 1486.45 L1731.2 1395.28 L1710.48 1395.28 L1710.48 1395.28  Z\" fill=\"#009af9\" fill-rule=\"evenodd\" fill-opacity=\"0.8\"/>\n",
       "<polyline clip-path=\"url(#clip892)\" style=\"stroke:#000000; stroke-linecap:round; stroke-linejoin:round; stroke-width:4; stroke-opacity:0.8; fill:none\" points=\"1710.48,1395.28 1710.48,1486.45 1731.2,1486.45 1731.2,1395.28 1710.48,1395.28 \"/>\n",
       "<path clip-path=\"url(#clip892)\" d=\"M1731.2 1395.28 L1731.2 1486.45 L1751.92 1486.45 L1751.92 1395.28 L1731.2 1395.28 L1731.2 1395.28  Z\" fill=\"#009af9\" fill-rule=\"evenodd\" fill-opacity=\"0.8\"/>\n",
       "<polyline clip-path=\"url(#clip892)\" style=\"stroke:#000000; stroke-linecap:round; stroke-linejoin:round; stroke-width:4; stroke-opacity:0.8; fill:none\" points=\"1731.2,1395.28 1731.2,1486.45 1751.92,1486.45 1751.92,1395.28 1731.2,1395.28 \"/>\n",
       "<path clip-path=\"url(#clip892)\" d=\"M1751.92 1421.33 L1751.92 1486.45 L1772.64 1486.45 L1772.64 1421.33 L1751.92 1421.33 L1751.92 1421.33  Z\" fill=\"#009af9\" fill-rule=\"evenodd\" fill-opacity=\"0.8\"/>\n",
       "<polyline clip-path=\"url(#clip892)\" style=\"stroke:#000000; stroke-linecap:round; stroke-linejoin:round; stroke-width:4; stroke-opacity:0.8; fill:none\" points=\"1751.92,1421.33 1751.92,1486.45 1772.64,1486.45 1772.64,1421.33 1751.92,1421.33 \"/>\n",
       "<path clip-path=\"url(#clip892)\" d=\"M1772.64 1447.37 L1772.64 1486.45 L1793.36 1486.45 L1793.36 1447.37 L1772.64 1447.37 L1772.64 1447.37  Z\" fill=\"#009af9\" fill-rule=\"evenodd\" fill-opacity=\"0.8\"/>\n",
       "<polyline clip-path=\"url(#clip892)\" style=\"stroke:#000000; stroke-linecap:round; stroke-linejoin:round; stroke-width:4; stroke-opacity:0.8; fill:none\" points=\"1772.64,1447.37 1772.64,1486.45 1793.36,1486.45 1793.36,1447.37 1772.64,1447.37 \"/>\n",
       "<path clip-path=\"url(#clip892)\" d=\"M1793.36 1460.4 L1793.36 1486.45 L1814.08 1486.45 L1814.08 1460.4 L1793.36 1460.4 L1793.36 1460.4  Z\" fill=\"#009af9\" fill-rule=\"evenodd\" fill-opacity=\"0.8\"/>\n",
       "<polyline clip-path=\"url(#clip892)\" style=\"stroke:#000000; stroke-linecap:round; stroke-linejoin:round; stroke-width:4; stroke-opacity:0.8; fill:none\" points=\"1793.36,1460.4 1793.36,1486.45 1814.08,1486.45 1814.08,1460.4 1793.36,1460.4 \"/>\n",
       "<path clip-path=\"url(#clip892)\" d=\"M1814.08 1453.89 L1814.08 1486.45 L1834.79 1486.45 L1834.79 1453.89 L1814.08 1453.89 L1814.08 1453.89  Z\" fill=\"#009af9\" fill-rule=\"evenodd\" fill-opacity=\"0.8\"/>\n",
       "<polyline clip-path=\"url(#clip892)\" style=\"stroke:#000000; stroke-linecap:round; stroke-linejoin:round; stroke-width:4; stroke-opacity:0.8; fill:none\" points=\"1814.08,1453.89 1814.08,1486.45 1834.79,1486.45 1834.79,1453.89 1814.08,1453.89 \"/>\n",
       "<path clip-path=\"url(#clip892)\" d=\"M1834.79 1466.91 L1834.79 1486.45 L1855.51 1486.45 L1855.51 1466.91 L1834.79 1466.91 L1834.79 1466.91  Z\" fill=\"#009af9\" fill-rule=\"evenodd\" fill-opacity=\"0.8\"/>\n",
       "<polyline clip-path=\"url(#clip892)\" style=\"stroke:#000000; stroke-linecap:round; stroke-linejoin:round; stroke-width:4; stroke-opacity:0.8; fill:none\" points=\"1834.79,1466.91 1834.79,1486.45 1855.51,1486.45 1855.51,1466.91 1834.79,1466.91 \"/>\n",
       "<path clip-path=\"url(#clip892)\" d=\"M1855.51 1473.42 L1855.51 1486.45 L1876.23 1486.45 L1876.23 1473.42 L1855.51 1473.42 L1855.51 1473.42  Z\" fill=\"#009af9\" fill-rule=\"evenodd\" fill-opacity=\"0.8\"/>\n",
       "<polyline clip-path=\"url(#clip892)\" style=\"stroke:#000000; stroke-linecap:round; stroke-linejoin:round; stroke-width:4; stroke-opacity:0.8; fill:none\" points=\"1855.51,1473.42 1855.51,1486.45 1876.23,1486.45 1876.23,1473.42 1855.51,1473.42 \"/>\n",
       "<path clip-path=\"url(#clip892)\" d=\"M1876.23 1486.45 L1876.23 1486.45 L1896.95 1486.45 L1896.95 1486.45 L1876.23 1486.45 L1876.23 1486.45  Z\" fill=\"#009af9\" fill-rule=\"evenodd\" fill-opacity=\"0.8\"/>\n",
       "<polyline clip-path=\"url(#clip892)\" style=\"stroke:#000000; stroke-linecap:round; stroke-linejoin:round; stroke-width:4; stroke-opacity:0.8; fill:none\" points=\"1876.23,1486.45 1876.23,1486.45 1896.95,1486.45 1876.23,1486.45 \"/>\n",
       "<path clip-path=\"url(#clip892)\" d=\"M1896.95 1466.91 L1896.95 1486.45 L1917.67 1486.45 L1917.67 1466.91 L1896.95 1466.91 L1896.95 1466.91  Z\" fill=\"#009af9\" fill-rule=\"evenodd\" fill-opacity=\"0.8\"/>\n",
       "<polyline clip-path=\"url(#clip892)\" style=\"stroke:#000000; stroke-linecap:round; stroke-linejoin:round; stroke-width:4; stroke-opacity:0.8; fill:none\" points=\"1896.95,1466.91 1896.95,1486.45 1917.67,1486.45 1917.67,1466.91 1896.95,1466.91 \"/>\n",
       "<path clip-path=\"url(#clip892)\" d=\"M1917.67 1473.42 L1917.67 1486.45 L1938.39 1486.45 L1938.39 1473.42 L1917.67 1473.42 L1917.67 1473.42  Z\" fill=\"#009af9\" fill-rule=\"evenodd\" fill-opacity=\"0.8\"/>\n",
       "<polyline clip-path=\"url(#clip892)\" style=\"stroke:#000000; stroke-linecap:round; stroke-linejoin:round; stroke-width:4; stroke-opacity:0.8; fill:none\" points=\"1917.67,1473.42 1917.67,1486.45 1938.39,1486.45 1938.39,1473.42 1917.67,1473.42 \"/>\n",
       "<path clip-path=\"url(#clip892)\" d=\"M1938.39 1473.42 L1938.39 1486.45 L1959.11 1486.45 L1959.11 1473.42 L1938.39 1473.42 L1938.39 1473.42  Z\" fill=\"#009af9\" fill-rule=\"evenodd\" fill-opacity=\"0.8\"/>\n",
       "<polyline clip-path=\"url(#clip892)\" style=\"stroke:#000000; stroke-linecap:round; stroke-linejoin:round; stroke-width:4; stroke-opacity:0.8; fill:none\" points=\"1938.39,1473.42 1938.39,1486.45 1959.11,1486.45 1959.11,1473.42 1938.39,1473.42 \"/>\n",
       "<path clip-path=\"url(#clip892)\" d=\"M1959.11 1486.45 L1959.11 1486.45 L1979.82 1486.45 L1979.82 1486.45 L1959.11 1486.45 L1959.11 1486.45  Z\" fill=\"#009af9\" fill-rule=\"evenodd\" fill-opacity=\"0.8\"/>\n",
       "<polyline clip-path=\"url(#clip892)\" style=\"stroke:#000000; stroke-linecap:round; stroke-linejoin:round; stroke-width:4; stroke-opacity:0.8; fill:none\" points=\"1959.11,1486.45 1959.11,1486.45 1979.82,1486.45 1959.11,1486.45 \"/>\n",
       "<path clip-path=\"url(#clip892)\" d=\"M1979.82 1486.45 L1979.82 1486.45 L2000.54 1486.45 L2000.54 1486.45 L1979.82 1486.45 L1979.82 1486.45  Z\" fill=\"#009af9\" fill-rule=\"evenodd\" fill-opacity=\"0.8\"/>\n",
       "<polyline clip-path=\"url(#clip892)\" style=\"stroke:#000000; stroke-linecap:round; stroke-linejoin:round; stroke-width:4; stroke-opacity:0.8; fill:none\" points=\"1979.82,1486.45 1979.82,1486.45 2000.54,1486.45 1979.82,1486.45 \"/>\n",
       "<path clip-path=\"url(#clip892)\" d=\"M2000.54 1479.94 L2000.54 1486.45 L2021.26 1486.45 L2021.26 1479.94 L2000.54 1479.94 L2000.54 1479.94  Z\" fill=\"#009af9\" fill-rule=\"evenodd\" fill-opacity=\"0.8\"/>\n",
       "<polyline clip-path=\"url(#clip892)\" style=\"stroke:#000000; stroke-linecap:round; stroke-linejoin:round; stroke-width:4; stroke-opacity:0.8; fill:none\" points=\"2000.54,1479.94 2000.54,1486.45 2021.26,1486.45 2021.26,1479.94 2000.54,1479.94 \"/>\n",
       "<circle clip-path=\"url(#clip892)\" style=\"fill:#009af9; stroke:none; fill-opacity:0\" cx=\"519.171\" cy=\"1479.94\" r=\"2\"/>\n",
       "<circle clip-path=\"url(#clip892)\" style=\"fill:#009af9; stroke:none; fill-opacity:0\" cx=\"539.89\" cy=\"1479.94\" r=\"2\"/>\n",
       "<circle clip-path=\"url(#clip892)\" style=\"fill:#009af9; stroke:none; fill-opacity:0\" cx=\"560.608\" cy=\"1486.45\" r=\"2\"/>\n",
       "<circle clip-path=\"url(#clip892)\" style=\"fill:#009af9; stroke:none; fill-opacity:0\" cx=\"581.327\" cy=\"1479.94\" r=\"2\"/>\n",
       "<circle clip-path=\"url(#clip892)\" style=\"fill:#009af9; stroke:none; fill-opacity:0\" cx=\"602.045\" cy=\"1486.45\" r=\"2\"/>\n",
       "<circle clip-path=\"url(#clip892)\" style=\"fill:#009af9; stroke:none; fill-opacity:0\" cx=\"622.764\" cy=\"1479.94\" r=\"2\"/>\n",
       "<circle clip-path=\"url(#clip892)\" style=\"fill:#009af9; stroke:none; fill-opacity:0\" cx=\"643.482\" cy=\"1479.94\" r=\"2\"/>\n",
       "<circle clip-path=\"url(#clip892)\" style=\"fill:#009af9; stroke:none; fill-opacity:0\" cx=\"664.201\" cy=\"1460.4\" r=\"2\"/>\n",
       "<circle clip-path=\"url(#clip892)\" style=\"fill:#009af9; stroke:none; fill-opacity:0\" cx=\"684.919\" cy=\"1460.4\" r=\"2\"/>\n",
       "<circle clip-path=\"url(#clip892)\" style=\"fill:#009af9; stroke:none; fill-opacity:0\" cx=\"705.638\" cy=\"1447.37\" r=\"2\"/>\n",
       "<circle clip-path=\"url(#clip892)\" style=\"fill:#009af9; stroke:none; fill-opacity:0\" cx=\"726.356\" cy=\"1447.37\" r=\"2\"/>\n",
       "<circle clip-path=\"url(#clip892)\" style=\"fill:#009af9; stroke:none; fill-opacity:0\" cx=\"747.075\" cy=\"1440.86\" r=\"2\"/>\n",
       "<circle clip-path=\"url(#clip892)\" style=\"fill:#009af9; stroke:none; fill-opacity:0\" cx=\"767.793\" cy=\"1408.3\" r=\"2\"/>\n",
       "<circle clip-path=\"url(#clip892)\" style=\"fill:#009af9; stroke:none; fill-opacity:0\" cx=\"788.512\" cy=\"1408.3\" r=\"2\"/>\n",
       "<circle clip-path=\"url(#clip892)\" style=\"fill:#009af9; stroke:none; fill-opacity:0\" cx=\"809.23\" cy=\"1317.13\" r=\"2\"/>\n",
       "<circle clip-path=\"url(#clip892)\" style=\"fill:#009af9; stroke:none; fill-opacity:0\" cx=\"829.948\" cy=\"1323.64\" r=\"2\"/>\n",
       "<circle clip-path=\"url(#clip892)\" style=\"fill:#009af9; stroke:none; fill-opacity:0\" cx=\"850.667\" cy=\"1343.18\" r=\"2\"/>\n",
       "<circle clip-path=\"url(#clip892)\" style=\"fill:#009af9; stroke:none; fill-opacity:0\" cx=\"871.385\" cy=\"1317.13\" r=\"2\"/>\n",
       "<circle clip-path=\"url(#clip892)\" style=\"fill:#009af9; stroke:none; fill-opacity:0\" cx=\"892.104\" cy=\"1173.86\" r=\"2\"/>\n",
       "<circle clip-path=\"url(#clip892)\" style=\"fill:#009af9; stroke:none; fill-opacity:0\" cx=\"912.822\" cy=\"1225.96\" r=\"2\"/>\n",
       "<circle clip-path=\"url(#clip892)\" style=\"fill:#009af9; stroke:none; fill-opacity:0\" cx=\"933.541\" cy=\"1147.81\" r=\"2\"/>\n",
       "<circle clip-path=\"url(#clip892)\" style=\"fill:#009af9; stroke:none; fill-opacity:0\" cx=\"954.259\" cy=\"1108.74\" r=\"2\"/>\n",
       "<circle clip-path=\"url(#clip892)\" style=\"fill:#009af9; stroke:none; fill-opacity:0\" cx=\"974.978\" cy=\"991.518\" r=\"2\"/>\n",
       "<circle clip-path=\"url(#clip892)\" style=\"fill:#009af9; stroke:none; fill-opacity:0\" cx=\"995.696\" cy=\"958.957\" r=\"2\"/>\n",
       "<circle clip-path=\"url(#clip892)\" style=\"fill:#009af9; stroke:none; fill-opacity:0\" cx=\"1016.41\" cy=\"750.565\" r=\"2\"/>\n",
       "<circle clip-path=\"url(#clip892)\" style=\"fill:#009af9; stroke:none; fill-opacity:0\" cx=\"1037.13\" cy=\"691.955\" r=\"2\"/>\n",
       "<circle clip-path=\"url(#clip892)\" style=\"fill:#009af9; stroke:none; fill-opacity:0\" cx=\"1057.85\" cy=\"659.394\" r=\"2\"/>\n",
       "<circle clip-path=\"url(#clip892)\" style=\"fill:#009af9; stroke:none; fill-opacity:0\" cx=\"1078.57\" cy=\"711.492\" r=\"2\"/>\n",
       "<circle clip-path=\"url(#clip892)\" style=\"fill:#009af9; stroke:none; fill-opacity:0\" cx=\"1099.29\" cy=\"464.027\" r=\"2\"/>\n",
       "<circle clip-path=\"url(#clip892)\" style=\"fill:#009af9; stroke:none; fill-opacity:0\" cx=\"1120.01\" cy=\"496.588\" r=\"2\"/>\n",
       "<circle clip-path=\"url(#clip892)\" style=\"fill:#009af9; stroke:none; fill-opacity:0\" cx=\"1140.73\" cy=\"464.027\" r=\"2\"/>\n",
       "<circle clip-path=\"url(#clip892)\" style=\"fill:#009af9; stroke:none; fill-opacity:0\" cx=\"1161.44\" cy=\"210.05\" r=\"2\"/>\n",
       "<circle clip-path=\"url(#clip892)\" style=\"fill:#009af9; stroke:none; fill-opacity:0\" cx=\"1182.16\" cy=\"451.003\" r=\"2\"/>\n",
       "<circle clip-path=\"url(#clip892)\" style=\"fill:#009af9; stroke:none; fill-opacity:0\" cx=\"1202.88\" cy=\"131.903\" r=\"2\"/>\n",
       "<circle clip-path=\"url(#clip892)\" style=\"fill:#009af9; stroke:none; fill-opacity:0\" cx=\"1223.6\" cy=\"47.2441\" r=\"2\"/>\n",
       "<circle clip-path=\"url(#clip892)\" style=\"fill:#009af9; stroke:none; fill-opacity:0\" cx=\"1244.32\" cy=\"92.8297\" r=\"2\"/>\n",
       "<circle clip-path=\"url(#clip892)\" style=\"fill:#009af9; stroke:none; fill-opacity:0\" cx=\"1265.04\" cy=\"105.854\" r=\"2\"/>\n",
       "<circle clip-path=\"url(#clip892)\" style=\"fill:#009af9; stroke:none; fill-opacity:0\" cx=\"1285.75\" cy=\"131.903\" r=\"2\"/>\n",
       "<circle clip-path=\"url(#clip892)\" style=\"fill:#009af9; stroke:none; fill-opacity:0\" cx=\"1306.47\" cy=\"184.001\" r=\"2\"/>\n",
       "<circle clip-path=\"url(#clip892)\" style=\"fill:#009af9; stroke:none; fill-opacity:0\" cx=\"1327.19\" cy=\"242.611\" r=\"2\"/>\n",
       "<circle clip-path=\"url(#clip892)\" style=\"fill:#009af9; stroke:none; fill-opacity:0\" cx=\"1347.91\" cy=\"340.295\" r=\"2\"/>\n",
       "<circle clip-path=\"url(#clip892)\" style=\"fill:#009af9; stroke:none; fill-opacity:0\" cx=\"1368.63\" cy=\"392.393\" r=\"2\"/>\n",
       "<circle clip-path=\"url(#clip892)\" style=\"fill:#009af9; stroke:none; fill-opacity:0\" cx=\"1389.35\" cy=\"392.393\" r=\"2\"/>\n",
       "<circle clip-path=\"url(#clip892)\" style=\"fill:#009af9; stroke:none; fill-opacity:0\" cx=\"1410.07\" cy=\"561.711\" r=\"2\"/>\n",
       "<circle clip-path=\"url(#clip892)\" style=\"fill:#009af9; stroke:none; fill-opacity:0\" cx=\"1430.78\" cy=\"568.223\" r=\"2\"/>\n",
       "<circle clip-path=\"url(#clip892)\" style=\"fill:#009af9; stroke:none; fill-opacity:0\" cx=\"1451.5\" cy=\"639.857\" r=\"2\"/>\n",
       "<circle clip-path=\"url(#clip892)\" style=\"fill:#009af9; stroke:none; fill-opacity:0\" cx=\"1472.22\" cy=\"737.541\" r=\"2\"/>\n",
       "<circle clip-path=\"url(#clip892)\" style=\"fill:#009af9; stroke:none; fill-opacity:0\" cx=\"1492.94\" cy=\"802.663\" r=\"2\"/>\n",
       "<circle clip-path=\"url(#clip892)\" style=\"fill:#009af9; stroke:none; fill-opacity:0\" cx=\"1513.66\" cy=\"867.786\" r=\"2\"/>\n",
       "<circle clip-path=\"url(#clip892)\" style=\"fill:#009af9; stroke:none; fill-opacity:0\" cx=\"1534.38\" cy=\"848.249\" r=\"2\"/>\n",
       "<circle clip-path=\"url(#clip892)\" style=\"fill:#009af9; stroke:none; fill-opacity:0\" cx=\"1555.09\" cy=\"952.445\" r=\"2\"/>\n",
       "<circle clip-path=\"url(#clip892)\" style=\"fill:#009af9; stroke:none; fill-opacity:0\" cx=\"1575.81\" cy=\"1160.84\" r=\"2\"/>\n",
       "<circle clip-path=\"url(#clip892)\" style=\"fill:#009af9; stroke:none; fill-opacity:0\" cx=\"1596.53\" cy=\"1167.35\" r=\"2\"/>\n",
       "<circle clip-path=\"url(#clip892)\" style=\"fill:#009af9; stroke:none; fill-opacity:0\" cx=\"1617.25\" cy=\"1238.98\" r=\"2\"/>\n",
       "<circle clip-path=\"url(#clip892)\" style=\"fill:#009af9; stroke:none; fill-opacity:0\" cx=\"1637.97\" cy=\"1252.01\" r=\"2\"/>\n",
       "<circle clip-path=\"url(#clip892)\" style=\"fill:#009af9; stroke:none; fill-opacity:0\" cx=\"1658.69\" cy=\"1278.06\" r=\"2\"/>\n",
       "<circle clip-path=\"url(#clip892)\" style=\"fill:#009af9; stroke:none; fill-opacity:0\" cx=\"1679.41\" cy=\"1310.62\" r=\"2\"/>\n",
       "<circle clip-path=\"url(#clip892)\" style=\"fill:#009af9; stroke:none; fill-opacity:0\" cx=\"1700.12\" cy=\"1382.25\" r=\"2\"/>\n",
       "<circle clip-path=\"url(#clip892)\" style=\"fill:#009af9; stroke:none; fill-opacity:0\" cx=\"1720.84\" cy=\"1395.28\" r=\"2\"/>\n",
       "<circle clip-path=\"url(#clip892)\" style=\"fill:#009af9; stroke:none; fill-opacity:0\" cx=\"1741.56\" cy=\"1395.28\" r=\"2\"/>\n",
       "<circle clip-path=\"url(#clip892)\" style=\"fill:#009af9; stroke:none; fill-opacity:0\" cx=\"1762.28\" cy=\"1421.33\" r=\"2\"/>\n",
       "<circle clip-path=\"url(#clip892)\" style=\"fill:#009af9; stroke:none; fill-opacity:0\" cx=\"1783\" cy=\"1447.37\" r=\"2\"/>\n",
       "<circle clip-path=\"url(#clip892)\" style=\"fill:#009af9; stroke:none; fill-opacity:0\" cx=\"1803.72\" cy=\"1460.4\" r=\"2\"/>\n",
       "<circle clip-path=\"url(#clip892)\" style=\"fill:#009af9; stroke:none; fill-opacity:0\" cx=\"1824.43\" cy=\"1453.89\" r=\"2\"/>\n",
       "<circle clip-path=\"url(#clip892)\" style=\"fill:#009af9; stroke:none; fill-opacity:0\" cx=\"1845.15\" cy=\"1466.91\" r=\"2\"/>\n",
       "<circle clip-path=\"url(#clip892)\" style=\"fill:#009af9; stroke:none; fill-opacity:0\" cx=\"1865.87\" cy=\"1473.42\" r=\"2\"/>\n",
       "<circle clip-path=\"url(#clip892)\" style=\"fill:#009af9; stroke:none; fill-opacity:0\" cx=\"1886.59\" cy=\"1486.45\" r=\"2\"/>\n",
       "<circle clip-path=\"url(#clip892)\" style=\"fill:#009af9; stroke:none; fill-opacity:0\" cx=\"1907.31\" cy=\"1466.91\" r=\"2\"/>\n",
       "<circle clip-path=\"url(#clip892)\" style=\"fill:#009af9; stroke:none; fill-opacity:0\" cx=\"1928.03\" cy=\"1473.42\" r=\"2\"/>\n",
       "<circle clip-path=\"url(#clip892)\" style=\"fill:#009af9; stroke:none; fill-opacity:0\" cx=\"1948.75\" cy=\"1473.42\" r=\"2\"/>\n",
       "<circle clip-path=\"url(#clip892)\" style=\"fill:#009af9; stroke:none; fill-opacity:0\" cx=\"1969.46\" cy=\"1486.45\" r=\"2\"/>\n",
       "<circle clip-path=\"url(#clip892)\" style=\"fill:#009af9; stroke:none; fill-opacity:0\" cx=\"1990.18\" cy=\"1486.45\" r=\"2\"/>\n",
       "<circle clip-path=\"url(#clip892)\" style=\"fill:#009af9; stroke:none; fill-opacity:0\" cx=\"2010.9\" cy=\"1479.94\" r=\"2\"/>\n",
       "<polyline clip-path=\"url(#clip892)\" style=\"stroke:#e26f46; stroke-linecap:round; stroke-linejoin:round; stroke-width:20; stroke-opacity:1; fill:none\" points=\"218.754,1486.44 239.472,1486.44 260.191,1486.43 280.909,1486.43 301.628,1486.41 322.346,1486.4 343.064,1486.37 363.783,1486.32 384.501,1486.26 405.22,1486.16 425.938,1486.01 446.657,1485.8 467.375,1485.5 488.094,1485.06 508.812,1484.46 529.531,1483.61 550.249,1482.44 570.968,1480.84 591.686,1478.69 612.405,1475.81 633.123,1472.02 653.841,1467.07 674.56,1460.67 695.278,1452.52 715.997,1442.22 736.715,1429.37 757.434,1413.53 778.152,1394.21 798.871,1370.94 819.589,1343.23 840.308,1310.65 861.026,1272.8 881.745,1229.38 902.463,1180.21 923.182,1125.28 943.9,1064.72 964.619,998.918 985.337,928.452 1006.06,854.155 1026.77,777.096 1047.49,698.563 1068.21,620.043 1088.93,543.178 1109.65,469.712 1130.37,401.43 1151.08,340.082 1171.8,287.317 1192.52,244.604 1213.24,213.167 1233.96,193.924 1254.68,187.445 1275.4,193.924 1296.11,213.167 1316.83,244.604 1337.55,287.317 1358.27,340.082 1378.99,401.43 1399.71,469.712 1420.42,543.178 1441.14,620.043 1461.86,698.563 1482.58,777.096 1503.3,854.155 1524.02,928.452 1544.74,998.918 1565.45,1064.72 1586.17,1125.28 1606.89,1180.21 1627.61,1229.38 1648.33,1272.8 1669.05,1310.65 1689.76,1343.23 1710.48,1370.94 1731.2,1394.21 1751.92,1413.53 1772.64,1429.37 1793.36,1442.22 1814.08,1452.52 1834.79,1460.67 1855.51,1467.07 1876.23,1472.02 1896.95,1475.81 1917.67,1478.69 1938.39,1480.84 1959.11,1482.44 1979.82,1483.61 2000.54,1484.46 2021.26,1485.06 2041.98,1485.5 2062.7,1485.8 2083.42,1486.01 2104.13,1486.16 2124.85,1486.26 2145.57,1486.32 2166.29,1486.37 2187.01,1486.4 2207.73,1486.41 2228.45,1486.43 2249.16,1486.43 2269.88,1486.44 2290.6,1486.44 \"/>\n",
       "</svg>\n"
      ]
     },
     "metadata": {},
     "output_type": "display_data"
    }
   ],
   "source": [
    "x = -5:0.1:5\n",
    "plot!(x, 1/sqrt(2*π) .* exp.(-x.^2 ./ 2), linewidth = 5)"
   ]
  },
  {
   "cell_type": "code",
   "execution_count": 332,
   "metadata": {},
   "outputs": [
    {
     "data": {
      "text/plain": [
       "0.026244462221665578"
      ]
     },
     "metadata": {},
     "output_type": "display_data"
    }
   ],
   "source": [
    "mean(Ω)"
   ]
  },
  {
   "cell_type": "code",
   "execution_count": 333,
   "metadata": {},
   "outputs": [
    {
     "data": {
      "text/plain": [
       "0.9588196905405082"
      ]
     },
     "metadata": {},
     "output_type": "display_data"
    }
   ],
   "source": [
    "var(Ω)"
   ]
  }
 ],
 "metadata": {
  "@webio": {
   "lastCommId": null,
   "lastKernelId": null
  },
  "kernelspec": {
   "display_name": "Julia 1.11.4",
   "language": "julia",
   "name": "julia-1.11"
  },
  "language_info": {
   "file_extension": ".jl",
   "mimetype": "application/julia",
   "name": "julia",
   "version": "1.11.4"
  }
 },
 "nbformat": 4,
 "nbformat_minor": 2
}
