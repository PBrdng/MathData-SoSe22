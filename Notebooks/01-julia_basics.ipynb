{
 "cells": [
  {
   "cell_type": "markdown",
   "metadata": {},
   "source": [
    "# Installation und Einbindung von Packages\n",
    "\n",
    "Es wird der builtin Package-Manager \"Pkg\" verwendet. Für jedes Notebook wird eine eigene Environment erstellt. In jeder dieser Environments findet eine unabhängige Paketverwaltung statt.\n",
    "\n",
    "Zuerst binden wir das Package \"Pkg\" ein. Mit der Methode \"add\" können wir das Package \"Plots\" hinzufügen. Anschließend aktivieren wir die Environment \"conf/01-julia_basics\". Es wird für alle Notebooks der Ordner \"conf\" verwendet, um die Struktur übersichtlicher zu halten. In den Unterordnern von \"conf\" befinden sich die Konfigurationsdateien der Environments, z.B. in \"conf/01-julia_basics\" befindet sich die \"Project.toml\" und \"Manifest.tomp\", die Auskunft über die verwendeten Packages (dependencies) und die verwendete Julia Version gibt.\n",
    "\n",
    "Der nachfolgende Codeblock nimmt möglicherweise mehrere Minuten in Anspruch, bis dieser durchgelaufen ist, da etliche Packages installiert werden, auf die Plots aufbaut. Eine erneute Ausführung in einer frischen Kernel-Instanz kann ebenfalls eine Minute in Anspruch nehmen."
   ]
  },
  {
   "cell_type": "code",
   "execution_count": 1,
   "metadata": {},
   "outputs": [
    {
     "name": "stderr",
     "output_type": "stream",
     "text": [
      "\u001b[32m\u001b[1m   Resolving\u001b[22m\u001b[39m package versions...\n",
      "\u001b[32m\u001b[1m  No Changes\u001b[22m\u001b[39m to `~/.julia/environments/v1.11/Project.toml`\n",
      "\u001b[32m\u001b[1m  No Changes\u001b[22m\u001b[39m to `~/.julia/environments/v1.11/Manifest.toml`\n",
      "\u001b[32m\u001b[1m  Activating\u001b[22m\u001b[39m project at `/media/johannes/DATA/Syncthing/Programmierung/MathData-SoSe22/Notebooks/conf/01-julia_basics`\n"
     ]
    },
    {
     "name": "stdout",
     "output_type": "stream",
     "text": [
      "\u001b[32m\u001b[1mStatus\u001b[22m\u001b[39m `/media/johannes/DATA/Syncthing/Programmierung/MathData-SoSe22/Notebooks/conf/01-julia_basics/Project.toml`\n",
      "\u001b[32m⌃\u001b[39m \u001b[90m[91a5bcdd] \u001b[39mPlots v1.40.9\n",
      "\u001b[36m\u001b[1mInfo\u001b[22m\u001b[39m Packages marked with \u001b[32m⌃\u001b[39m have new versions available and may be upgradable.\n"
     ]
    }
   ],
   "source": [
    "# Paket \"Pkg\" verwenden\n",
    "using Pkg\n",
    "# beispielhaft Package \"Plots\" der Version \"1.40.9\" der Environment hinzufügen\n",
    "Pkg.add(PackageSpec(name=\"Plots\", version=\"1.40.9\"))\n",
    "# Environment aktivieren\n",
    "Pkg.activate(joinpath(dirname(pwd()), \"Notebooks\", \"conf\", \"01-julia_basics\"))\n",
    "# Environment instantiieren\n",
    "Pkg.instantiate()\n",
    "# Anzeigen, ob Pakete aktualisierbar sind\n",
    "Pkg.status()"
   ]
  },
  {
   "cell_type": "markdown",
   "metadata": {},
   "source": [
    "Um nicht in jedem Notebook die gesamte Environment neu zu erstellen, wurden die Environments mit conf/setup.jl vorab generiert und nachfolgend nur geladen."
   ]
  },
  {
   "cell_type": "markdown",
   "metadata": {},
   "source": [
    "# Variablen"
   ]
  },
  {
   "cell_type": "code",
   "execution_count": 3,
   "metadata": {},
   "outputs": [
    {
     "data": {
      "text/plain": [
       "4"
      ]
     },
     "metadata": {},
     "output_type": "display_data"
    }
   ],
   "source": [
    "my_integer = 4"
   ]
  },
  {
   "cell_type": "code",
   "execution_count": 4,
   "metadata": {},
   "outputs": [
    {
     "data": {
      "text/plain": [
       "Int64"
      ]
     },
     "metadata": {},
     "output_type": "display_data"
    }
   ],
   "source": [
    "typeof(my_integer)"
   ]
  },
  {
   "cell_type": "code",
   "execution_count": 5,
   "metadata": {},
   "outputs": [
    {
     "data": {
      "text/plain": [
       "2.3"
      ]
     },
     "metadata": {},
     "output_type": "display_data"
    }
   ],
   "source": [
    "my_float = 2.3"
   ]
  },
  {
   "cell_type": "code",
   "execution_count": 6,
   "metadata": {},
   "outputs": [
    {
     "data": {
      "text/plain": [
       "Float64"
      ]
     },
     "metadata": {},
     "output_type": "display_data"
    }
   ],
   "source": [
    "typeof(my_float)"
   ]
  },
  {
   "cell_type": "code",
   "execution_count": 7,
   "metadata": {},
   "outputs": [
    {
     "data": {
      "text/plain": [
       "Complex{Int64}"
      ]
     },
     "metadata": {},
     "output_type": "display_data"
    }
   ],
   "source": [
    "my_complex_number = 2 + 3im\n",
    "typeof(my_complex_number)"
   ]
  },
  {
   "cell_type": "code",
   "execution_count": 8,
   "metadata": {},
   "outputs": [
    {
     "data": {
      "text/plain": [
       "ComplexF64\u001b[90m (alias for \u001b[39m\u001b[90mComplex{Float64}\u001b[39m\u001b[90m)\u001b[39m"
      ]
     },
     "metadata": {},
     "output_type": "display_data"
    }
   ],
   "source": [
    "my_complex_number2 = 2.2 + 3.2im\n",
    "typeof(my_complex_number2)"
   ]
  },
  {
   "cell_type": "code",
   "execution_count": 9,
   "metadata": {},
   "outputs": [
    {
     "ename": "Base.Meta.ParseError",
     "evalue": "ParseError:\n# Error @ /media/johannes/DATA/Syncthing/Programmierung/MathData-SoSe22/Notebooks/jl_notebook_cell_df34fa98e69747e1a8f8a730347b8e2f_X13sZmlsZQ==.jl:1:1\n?Complex\n╙ ── not a unary operator",
     "output_type": "error",
     "traceback": [
      "ParseError:\n",
      "# Error @ /media/johannes/DATA/Syncthing/Programmierung/MathData-SoSe22/Notebooks/jl_notebook_cell_df34fa98e69747e1a8f8a730347b8e2f_X13sZmlsZQ==.jl:1:1\n",
      "?Complex\n",
      "╙ ── not a unary operator\n",
      "\n",
      "Stacktrace:\n",
      " [1] top-level scope\n",
      "   @ /media/johannes/DATA/Syncthing/Programmierung/MathData-SoSe22/Notebooks/jl_notebook_cell_df34fa98e69747e1a8f8a730347b8e2f_X13sZmlsZQ==.jl:1"
     ]
    }
   ],
   "source": [
    "?Complex"
   ]
  },
  {
   "cell_type": "code",
   "execution_count": 10,
   "metadata": {},
   "outputs": [
    {
     "data": {
      "text/plain": [
       "6.283185307179586"
      ]
     },
     "metadata": {},
     "output_type": "display_data"
    }
   ],
   "source": [
    "# support for latex\n",
    "α = 2π"
   ]
  },
  {
   "cell_type": "code",
   "execution_count": 11,
   "metadata": {},
   "outputs": [
    {
     "data": {
      "text/plain": [
       "1.0"
      ]
     },
     "metadata": {},
     "output_type": "display_data"
    }
   ],
   "source": [
    "cos(α)"
   ]
  },
  {
   "cell_type": "markdown",
   "metadata": {},
   "source": [
    "# Grundlende Syntax für mathematische Operationen"
   ]
  },
  {
   "cell_type": "code",
   "execution_count": 12,
   "metadata": {},
   "outputs": [
    {
     "data": {
      "text/plain": [
       "5"
      ]
     },
     "metadata": {},
     "output_type": "display_data"
    }
   ],
   "source": [
    "summation = 2 + 3"
   ]
  },
  {
   "cell_type": "code",
   "execution_count": 13,
   "metadata": {},
   "outputs": [
    {
     "data": {
      "text/plain": [
       "3"
      ]
     },
     "metadata": {},
     "output_type": "display_data"
    }
   ],
   "source": [
    "difference = 5 - 2"
   ]
  },
  {
   "cell_type": "code",
   "execution_count": 14,
   "metadata": {},
   "outputs": [
    {
     "data": {
      "text/plain": [
       "15"
      ]
     },
     "metadata": {},
     "output_type": "display_data"
    }
   ],
   "source": [
    "product = 3 * 5"
   ]
  },
  {
   "cell_type": "code",
   "execution_count": 15,
   "metadata": {},
   "outputs": [
    {
     "data": {
      "text/plain": [
       "0.8"
      ]
     },
     "metadata": {},
     "output_type": "display_data"
    }
   ],
   "source": [
    "quotient = 4 / 5"
   ]
  },
  {
   "cell_type": "code",
   "execution_count": 16,
   "metadata": {},
   "outputs": [
    {
     "data": {
      "text/plain": [
       "(4//5, Rational{Int64})"
      ]
     },
     "metadata": {},
     "output_type": "display_data"
    }
   ],
   "source": [
    "rational = 4 // 5\n",
    "rational, typeof(rational)"
   ]
  },
  {
   "cell_type": "code",
   "execution_count": 17,
   "metadata": {},
   "outputs": [
    {
     "data": {
      "text/plain": [
       "25"
      ]
     },
     "metadata": {},
     "output_type": "display_data"
    }
   ],
   "source": [
    "power = 5^2"
   ]
  },
  {
   "cell_type": "code",
   "execution_count": 18,
   "metadata": {},
   "outputs": [
    {
     "data": {
      "text/plain": [
       "25.0"
      ]
     },
     "metadata": {},
     "output_type": "display_data"
    }
   ],
   "source": [
    "power = 5.0^2"
   ]
  },
  {
   "cell_type": "markdown",
   "metadata": {},
   "source": [
    "# Control Flow"
   ]
  },
  {
   "cell_type": "markdown",
   "metadata": {
    "slideshow": {
     "slide_type": "fragment"
    }
   },
   "source": [
    "### For loops\n",
    "\n",
    "The syntax for a `for` loop is \n",
    "```julia\n",
    "for *var* in *loop iterable*\n",
    "    *loop body*\n",
    "end\n",
    "```"
   ]
  },
  {
   "cell_type": "code",
   "execution_count": 19,
   "metadata": {},
   "outputs": [
    {
     "name": "stdout",
     "output_type": "stream",
     "text": [
      "aᵢ = 1\n",
      "aᵢ = 2\n",
      "aᵢ = 3\n",
      "aᵢ = 4\n",
      "aᵢ = 5\n"
     ]
    }
   ],
   "source": [
    "a = [1, 2, 3, 4, 5]\n",
    "for aᵢ in a\n",
    "    @show aᵢ\n",
    "end"
   ]
  },
  {
   "cell_type": "markdown",
   "metadata": {},
   "source": [
    "## If statements"
   ]
  },
  {
   "cell_type": "code",
   "execution_count": 20,
   "metadata": {},
   "outputs": [
    {
     "name": "stdout",
     "output_type": "stream",
     "text": [
      "v == w\n"
     ]
    }
   ],
   "source": [
    "v = 3\n",
    "w = 3\n",
    "\n",
    "if v < w\n",
    "    println(\"v < w\")\n",
    "elseif v > w\n",
    "    println(\"v > w\")\n",
    "else\n",
    "    println(\"v == w\")\n",
    "end"
   ]
  },
  {
   "cell_type": "markdown",
   "metadata": {},
   "source": [
    "# Arrays"
   ]
  },
  {
   "cell_type": "markdown",
   "metadata": {},
   "source": [
    "Julia has built-in support multi-dimensional arrays (i.e. tensors)."
   ]
  },
  {
   "cell_type": "code",
   "execution_count": 21,
   "metadata": {},
   "outputs": [
    {
     "data": {
      "text/plain": [
       "5-element Vector{Int64}:\n",
       " 1\n",
       " 2\n",
       " 3\n",
       " 4\n",
       " 5"
      ]
     },
     "metadata": {},
     "output_type": "display_data"
    }
   ],
   "source": [
    "vector = [1, 2, 3, 4, 5]"
   ]
  },
  {
   "cell_type": "code",
   "execution_count": 22,
   "metadata": {},
   "outputs": [
    {
     "data": {
      "text/plain": [
       "2×3 Matrix{Int64}:\n",
       " 1  2  3\n",
       " 4  5  6"
      ]
     },
     "metadata": {},
     "output_type": "display_data"
    }
   ],
   "source": [
    "matrix = [1 2 3; 4 5 6]"
   ]
  },
  {
   "cell_type": "code",
   "execution_count": 23,
   "metadata": {},
   "outputs": [
    {
     "data": {
      "text/plain": [
       "2×3 Matrix{Int64}:\n",
       " 1  2  3\n",
       " 4  5  6"
      ]
     },
     "metadata": {},
     "output_type": "display_data"
    }
   ],
   "source": [
    "spacing_matrix = [1 2 3\n",
    "                  4 5 6]"
   ]
  },
  {
   "cell_type": "code",
   "execution_count": 24,
   "metadata": {},
   "outputs": [
    {
     "data": {
      "text/plain": [
       "4×5 Matrix{Int64}:\n",
       " 3  4   6  8  2\n",
       " 9  6   4  7  6\n",
       " 2  7   6  4  3\n",
       " 2  4  10  5  6"
      ]
     },
     "metadata": {},
     "output_type": "display_data"
    }
   ],
   "source": [
    "random_matrix = rand(1:10, 4, 5)"
   ]
  },
  {
   "cell_type": "code",
   "execution_count": 25,
   "metadata": {},
   "outputs": [
    {
     "data": {
      "text/plain": [
       "2×3×4 Array{Int64, 3}:\n",
       "[:, :, 1] =\n",
       " 5  1   7\n",
       " 9  8  10\n",
       "\n",
       "[:, :, 2] =\n",
       " 2  7  1\n",
       " 6  8  3\n",
       "\n",
       "[:, :, 3] =\n",
       " 2  4  1\n",
       " 2  4  2\n",
       "\n",
       "[:, :, 4] =\n",
       " 3  6  10\n",
       " 5  2   1"
      ]
     },
     "metadata": {},
     "output_type": "display_data"
    }
   ],
   "source": [
    "random_tensor = rand(1:10, 2, 3, 4)"
   ]
  },
  {
   "cell_type": "markdown",
   "metadata": {},
   "source": [
    "### Manipulation von Arrays "
   ]
  },
  {
   "cell_type": "code",
   "execution_count": 26,
   "metadata": {},
   "outputs": [
    {
     "data": {
      "text/plain": [
       "5-element Vector{Int64}:\n",
       " 1\n",
       " 2\n",
       " 3\n",
       " 4\n",
       " 5"
      ]
     },
     "metadata": {},
     "output_type": "display_data"
    }
   ],
   "source": [
    "vector"
   ]
  },
  {
   "cell_type": "code",
   "execution_count": 27,
   "metadata": {},
   "outputs": [
    {
     "data": {
      "text/plain": [
       "3-element Vector{Int64}:\n",
       " 2\n",
       " 3\n",
       " 4"
      ]
     },
     "metadata": {},
     "output_type": "display_data"
    }
   ],
   "source": [
    "vector[2:4]"
   ]
  },
  {
   "cell_type": "code",
   "execution_count": 28,
   "metadata": {},
   "outputs": [
    {
     "data": {
      "text/plain": [
       "2-element Vector{Int64}:\n",
       " 4\n",
       " 5"
      ]
     },
     "metadata": {},
     "output_type": "display_data"
    }
   ],
   "source": [
    "vector[4:end]"
   ]
  },
  {
   "cell_type": "code",
   "execution_count": 29,
   "metadata": {},
   "outputs": [
    {
     "data": {
      "text/plain": [
       "2×3 Matrix{Int64}:\n",
       " 1  2  3\n",
       " 4  5  6"
      ]
     },
     "metadata": {},
     "output_type": "display_data"
    }
   ],
   "source": [
    "matrix"
   ]
  },
  {
   "cell_type": "code",
   "execution_count": 30,
   "metadata": {},
   "outputs": [
    {
     "data": {
      "text/plain": [
       "2-element Vector{Int64}:\n",
       " 2\n",
       " 5"
      ]
     },
     "metadata": {},
     "output_type": "display_data"
    }
   ],
   "source": [
    "matrix[:, 2]"
   ]
  },
  {
   "cell_type": "code",
   "execution_count": 31,
   "metadata": {},
   "outputs": [
    {
     "data": {
      "text/plain": [
       "3-element Vector{Int64}:\n",
       " 1\n",
       " 2\n",
       " 3"
      ]
     },
     "metadata": {},
     "output_type": "display_data"
    }
   ],
   "source": [
    "matrix[1,:]"
   ]
  },
  {
   "cell_type": "code",
   "execution_count": 32,
   "metadata": {},
   "outputs": [
    {
     "data": {
      "text/plain": [
       "2×2 Matrix{Int64}:\n",
       " 1  2\n",
       " 4  5"
      ]
     },
     "metadata": {},
     "output_type": "display_data"
    }
   ],
   "source": [
    "matrix[:, 1:2]"
   ]
  },
  {
   "cell_type": "code",
   "execution_count": 33,
   "metadata": {},
   "outputs": [
    {
     "data": {
      "text/plain": [
       "5×2 Matrix{Int64}:\n",
       " 1  1\n",
       " 2  2\n",
       " 3  3\n",
       " 4  4\n",
       " 5  5"
      ]
     },
     "metadata": {},
     "output_type": "display_data"
    }
   ],
   "source": [
    "[vector vector]"
   ]
  },
  {
   "cell_type": "code",
   "execution_count": 34,
   "metadata": {},
   "outputs": [
    {
     "data": {
      "text/plain": [
       "10-element Vector{Int64}:\n",
       " 1\n",
       " 2\n",
       " 3\n",
       " 4\n",
       " 5\n",
       " 1\n",
       " 2\n",
       " 3\n",
       " 4\n",
       " 5"
      ]
     },
     "metadata": {},
     "output_type": "display_data"
    }
   ],
   "source": [
    "[vector; vector]"
   ]
  },
  {
   "cell_type": "code",
   "execution_count": 35,
   "metadata": {},
   "outputs": [
    {
     "data": {
      "text/plain": [
       "2×6 Matrix{Int64}:\n",
       " 1  2  3  1  2  3\n",
       " 4  5  6  4  5  6"
      ]
     },
     "metadata": {},
     "output_type": "display_data"
    }
   ],
   "source": [
    "[matrix matrix]"
   ]
  },
  {
   "cell_type": "code",
   "execution_count": 36,
   "metadata": {},
   "outputs": [
    {
     "data": {
      "text/plain": [
       "4×3 Matrix{Int64}:\n",
       " 1  2  3\n",
       " 4  5  6\n",
       " 1  2  3\n",
       " 4  5  6"
      ]
     },
     "metadata": {},
     "output_type": "display_data"
    }
   ],
   "source": [
    "[matrix; matrix]"
   ]
  },
  {
   "cell_type": "markdown",
   "metadata": {},
   "source": [
    "# Functions, Multiple Dispatch"
   ]
  },
  {
   "cell_type": "markdown",
   "metadata": {},
   "source": [
    "A typical function has the form\n",
    "```julia\n",
    "function *func_name*(*arg1*, *arg2*, ...)\n",
    "   *body* \n",
    "end\n",
    "```"
   ]
  },
  {
   "cell_type": "code",
   "execution_count": 37,
   "metadata": {},
   "outputs": [
    {
     "data": {
      "text/plain": [
       "biased_sum (generic function with 1 method)"
      ]
     },
     "metadata": {},
     "output_type": "display_data"
    }
   ],
   "source": [
    "function biased_sum(a, b)\n",
    "    a + b + 2\n",
    "end "
   ]
  },
  {
   "cell_type": "code",
   "execution_count": 38,
   "metadata": {},
   "outputs": [
    {
     "data": {
      "text/plain": [
       "7"
      ]
     },
     "metadata": {},
     "output_type": "display_data"
    }
   ],
   "source": [
    "biased_sum(2, 3)"
   ]
  },
  {
   "cell_type": "code",
   "execution_count": 39,
   "metadata": {},
   "outputs": [
    {
     "data": {
      "text/html": [
       "# 1 method for generic function <b>biased_sum</b> from \u001b[35mMain\u001b[39m:<ul><li> biased_sum(a, b) in Main at <a href=\"https://github.com/johanneslatzel/MathData-SoSe22/tree/f460fef191be12cec6e31dd47af33ece68304055//Notebooks/jl_notebook_cell_df34fa98e69747e1a8f8a730347b8e2f_X65sZmlsZQ==.jl#L1\" target=\"_blank\">/media/johannes/DATA/Syncthing/Programmierung/MathData-SoSe22/Notebooks/jl_notebook_cell_df34fa98e69747e1a8f8a730347b8e2f_X65sZmlsZQ==.jl:1</a></li> </ul>"
      ],
      "text/plain": [
       "# 1 method for generic function \"biased_sum\" from \u001b[35mMain\u001b[39m:\n",
       " [1] biased_sum(\u001b[90ma\u001b[39m, \u001b[90mb\u001b[39m)\n",
       "\u001b[90m     @\u001b[39m \u001b[90m/media/johannes/DATA/Syncthing/Programmierung/MathData-SoSe22/Notebooks/\u001b[39m\u001b[90m\u001b[4mjl_notebook_cell_df34fa98e69747e1a8f8a730347b8e2f_X65sZmlsZQ==.jl:1\u001b[24m\u001b[39m"
      ]
     },
     "metadata": {},
     "output_type": "display_data"
    }
   ],
   "source": [
    "methods(biased_sum)"
   ]
  },
  {
   "cell_type": "code",
   "execution_count": 40,
   "metadata": {},
   "outputs": [
    {
     "data": {
      "text/plain": [
       "biased_sum (generic function with 2 methods)"
      ]
     },
     "metadata": {},
     "output_type": "display_data"
    }
   ],
   "source": [
    "function biased_sum(a::Integer, b::Integer)\n",
    "    a + b - 3\n",
    "end"
   ]
  },
  {
   "cell_type": "code",
   "execution_count": 41,
   "metadata": {},
   "outputs": [
    {
     "data": {
      "text/plain": [
       "2"
      ]
     },
     "metadata": {},
     "output_type": "display_data"
    }
   ],
   "source": [
    "biased_sum(2, 3)"
   ]
  },
  {
   "cell_type": "code",
   "execution_count": 42,
   "metadata": {},
   "outputs": [
    {
     "data": {
      "text/plain": [
       "9.0"
      ]
     },
     "metadata": {},
     "output_type": "display_data"
    }
   ],
   "source": [
    "biased_sum(5.0, 2.0)"
   ]
  },
  {
   "cell_type": "code",
   "execution_count": 43,
   "metadata": {},
   "outputs": [
    {
     "data": {
      "text/html": [
       "# 2 methods for generic function <b>biased_sum</b> from \u001b[35mMain\u001b[39m:<ul><li> biased_sum(a::<b>Integer</b>, b::<b>Integer</b>) in Main at <a href=\"https://github.com/johanneslatzel/MathData-SoSe22/tree/f460fef191be12cec6e31dd47af33ece68304055//Notebooks/jl_notebook_cell_df34fa98e69747e1a8f8a730347b8e2f_Y101sZmlsZQ==.jl#L1\" target=\"_blank\">/media/johannes/DATA/Syncthing/Programmierung/MathData-SoSe22/Notebooks/jl_notebook_cell_df34fa98e69747e1a8f8a730347b8e2f_Y101sZmlsZQ==.jl:1</a></li> <li> biased_sum(a, b) in Main at <a href=\"https://github.com/johanneslatzel/MathData-SoSe22/tree/f460fef191be12cec6e31dd47af33ece68304055//Notebooks/jl_notebook_cell_df34fa98e69747e1a8f8a730347b8e2f_X65sZmlsZQ==.jl#L1\" target=\"_blank\">/media/johannes/DATA/Syncthing/Programmierung/MathData-SoSe22/Notebooks/jl_notebook_cell_df34fa98e69747e1a8f8a730347b8e2f_X65sZmlsZQ==.jl:1</a></li> </ul>"
      ],
      "text/plain": [
       "# 2 methods for generic function \"biased_sum\" from \u001b[35mMain\u001b[39m:\n",
       " [1] biased_sum(\u001b[90ma\u001b[39m::\u001b[1mInteger\u001b[22m, \u001b[90mb\u001b[39m::\u001b[1mInteger\u001b[22m)\n",
       "\u001b[90m     @\u001b[39m \u001b[90m/media/johannes/DATA/Syncthing/Programmierung/MathData-SoSe22/Notebooks/\u001b[39m\u001b[90m\u001b[4mjl_notebook_cell_df34fa98e69747e1a8f8a730347b8e2f_Y101sZmlsZQ==.jl:1\u001b[24m\u001b[39m\n",
       " [2] biased_sum(\u001b[90ma\u001b[39m, \u001b[90mb\u001b[39m)\n",
       "\u001b[90m     @\u001b[39m \u001b[90m/media/johannes/DATA/Syncthing/Programmierung/MathData-SoSe22/Notebooks/\u001b[39m\u001b[90m\u001b[4mjl_notebook_cell_df34fa98e69747e1a8f8a730347b8e2f_X65sZmlsZQ==.jl:1\u001b[24m\u001b[39m"
      ]
     },
     "metadata": {},
     "output_type": "display_data"
    }
   ],
   "source": [
    "methods(biased_sum)"
   ]
  },
  {
   "cell_type": "code",
   "execution_count": 44,
   "metadata": {},
   "outputs": [
    {
     "data": {
      "text/plain": [
       "biased_sum (generic function with 3 methods)"
      ]
     },
     "metadata": {},
     "output_type": "display_data"
    }
   ],
   "source": [
    "biased_sum(a::Complex, b) = a + b - 2im"
   ]
  },
  {
   "cell_type": "code",
   "execution_count": 45,
   "metadata": {},
   "outputs": [
    {
     "data": {
      "text/plain": [
       "4 + 1im"
      ]
     },
     "metadata": {},
     "output_type": "display_data"
    }
   ],
   "source": [
    "biased_sum(2+3im, 2)"
   ]
  },
  {
   "cell_type": "code",
   "execution_count": 46,
   "metadata": {},
   "outputs": [],
   "source": [
    "# Keyword arguments"
   ]
  },
  {
   "cell_type": "code",
   "execution_count": 47,
   "metadata": {},
   "outputs": [
    {
     "data": {
      "text/plain": [
       "biased_pow (generic function with 1 method)"
      ]
     },
     "metadata": {},
     "output_type": "display_data"
    }
   ],
   "source": [
    "function biased_pow(a, b; bias::Bool = true)\n",
    "    if bias\n",
    "        a^b - 3\n",
    "    else\n",
    "        a^b\n",
    "    end\n",
    "end"
   ]
  },
  {
   "cell_type": "code",
   "execution_count": 48,
   "metadata": {},
   "outputs": [
    {
     "data": {
      "text/plain": [
       "5"
      ]
     },
     "metadata": {},
     "output_type": "display_data"
    }
   ],
   "source": [
    "biased_pow(2, 3)"
   ]
  },
  {
   "cell_type": "code",
   "execution_count": 49,
   "metadata": {},
   "outputs": [
    {
     "data": {
      "text/plain": [
       "8"
      ]
     },
     "metadata": {},
     "output_type": "display_data"
    }
   ],
   "source": [
    "biased_pow(2, 3; bias = false)"
   ]
  },
  {
   "cell_type": "code",
   "execution_count": 50,
   "metadata": {},
   "outputs": [
    {
     "data": {
      "text/plain": [
       "5"
      ]
     },
     "metadata": {},
     "output_type": "display_data"
    }
   ],
   "source": [
    "biased_pow(2, 3; bias = true)"
   ]
  },
  {
   "cell_type": "markdown",
   "metadata": {},
   "source": [
    "# Lineare Algebra"
   ]
  },
  {
   "cell_type": "code",
   "execution_count": 51,
   "metadata": {},
   "outputs": [],
   "source": [
    "using LinearAlgebra"
   ]
  },
  {
   "cell_type": "code",
   "execution_count": 52,
   "metadata": {},
   "outputs": [
    {
     "data": {
      "text/plain": [
       "3×3 Matrix{Int64}:\n",
       " 1  2  3\n",
       " 2  3  5\n",
       " 1  0  4"
      ]
     },
     "metadata": {},
     "output_type": "display_data"
    }
   ],
   "source": [
    "b = [1; 2; 1]\n",
    "A = [1 2 3; 2 3 5; 1 0 4]"
   ]
  },
  {
   "cell_type": "code",
   "execution_count": 53,
   "metadata": {},
   "outputs": [
    {
     "data": {
      "text/plain": [
       "6"
      ]
     },
     "metadata": {},
     "output_type": "display_data"
    }
   ],
   "source": [
    "dot(b, b)"
   ]
  },
  {
   "cell_type": "code",
   "execution_count": 54,
   "metadata": {},
   "outputs": [
    {
     "data": {
      "text/plain": [
       "6"
      ]
     },
     "metadata": {},
     "output_type": "display_data"
    }
   ],
   "source": [
    "b ⋅ b "
   ]
  },
  {
   "cell_type": "code",
   "execution_count": 55,
   "metadata": {},
   "outputs": [
    {
     "data": {
      "text/plain": [
       "-3.0"
      ]
     },
     "metadata": {},
     "output_type": "display_data"
    }
   ],
   "source": [
    "det(A)"
   ]
  },
  {
   "cell_type": "code",
   "execution_count": 56,
   "metadata": {},
   "outputs": [
    {
     "data": {
      "text/plain": [
       "3-element Vector{Int64}:\n",
       " -3\n",
       "  2\n",
       " -1"
      ]
     },
     "metadata": {},
     "output_type": "display_data"
    }
   ],
   "source": [
    "cross(b, A[:,2])"
   ]
  },
  {
   "cell_type": "code",
   "execution_count": 57,
   "metadata": {},
   "outputs": [
    {
     "data": {
      "text/plain": [
       "3-element Vector{Int64}:\n",
       " -3\n",
       "  2\n",
       " -1"
      ]
     },
     "metadata": {},
     "output_type": "display_data"
    }
   ],
   "source": [
    "v = b × A[:,2]"
   ]
  },
  {
   "cell_type": "code",
   "execution_count": 58,
   "metadata": {},
   "outputs": [
    {
     "data": {
      "text/plain": [
       "0"
      ]
     },
     "metadata": {},
     "output_type": "display_data"
    }
   ],
   "source": [
    "v ⋅ b"
   ]
  },
  {
   "cell_type": "code",
   "execution_count": 59,
   "metadata": {},
   "outputs": [
    {
     "data": {
      "text/plain": [
       "3-element Vector{Float64}:\n",
       "  1.0\n",
       " -0.0\n",
       "  0.0"
      ]
     },
     "metadata": {},
     "output_type": "display_data"
    }
   ],
   "source": [
    "w = A\\b"
   ]
  },
  {
   "cell_type": "code",
   "execution_count": 60,
   "metadata": {},
   "outputs": [
    {
     "data": {
      "text/plain": [
       "3-element Vector{Float64}:\n",
       " 0.0\n",
       " 0.0\n",
       " 0.0"
      ]
     },
     "metadata": {},
     "output_type": "display_data"
    }
   ],
   "source": [
    "b - A*w"
   ]
  },
  {
   "cell_type": "markdown",
   "metadata": {},
   "source": [
    "# Statistik"
   ]
  },
  {
   "cell_type": "code",
   "execution_count": 61,
   "metadata": {},
   "outputs": [],
   "source": [
    "using Statistics, Plots"
   ]
  },
  {
   "cell_type": "code",
   "execution_count": 62,
   "metadata": {},
   "outputs": [
    {
     "data": {
      "image/png": "[encoded data removed]",
      "image/svg+xml": [
       "<?xml version=\"1.0\" encoding=\"utf-8\"?>\n",
       "<svg xmlns=\"http://www.w3.org/2000/svg\" xmlns:xlink=\"http://www.w3.org/1999/xlink\" width=\"600\" height=\"400\" viewBox=\"0 0 2400 1600\">\n",
       "<defs>\n",
       "  <clipPath id=\"clip440\">\n",
       "    <rect x=\"0\" y=\"0\" width=\"2400\" height=\"1600\"/>\n",
       "  </clipPath>\n",
       "</defs>\n",
       "<path clip-path=\"url(#clip440)\" d=\"M0 1600 L2400 1600 L2400 0 L0 0  Z\" fill=\"#ffffff\" fill-rule=\"evenodd\" fill-opacity=\"1\"/>\n",
       "<defs>\n",
       "  <clipPath id=\"clip441\">\n",
       "    <rect x=\"480\" y=\"0\" width=\"1681\" height=\"1600\"/>\n",
       "  </clipPath>\n",
       "</defs>\n",
       "<path clip-path=\"url(#clip440)\" d=\"M156.598 1486.45 L2352.76 1486.45 L2352.76 47.2441 L156.598 47.2441  Z\" fill=\"#ffffff\" fill-rule=\"evenodd\" fill-opacity=\"1\"/>\n",
       "<defs>\n",
       "  <clipPath id=\"clip442\">\n",
       "    <rect x=\"156\" y=\"47\" width=\"2197\" height=\"1440\"/>\n",
       "  </clipPath>\n",
       "</defs>\n",
       "<polyline clip-path=\"url(#clip442)\" style=\"stroke:#000000; stroke-linecap:round; stroke-linejoin:round; stroke-width:2; stroke-opacity:0.1; fill:none\" points=\"252.959,1486.45 252.959,47.2441 \"/>\n",
       "<polyline clip-path=\"url(#clip442)\" style=\"stroke:#000000; stroke-linecap:round; stroke-linejoin:round; stroke-width:2; stroke-opacity:0.1; fill:none\" points=\"741.602,1486.45 741.602,47.2441 \"/>\n",
       "<polyline clip-path=\"url(#clip442)\" style=\"stroke:#000000; stroke-linecap:round; stroke-linejoin:round; stroke-width:2; stroke-opacity:0.1; fill:none\" points=\"1230.24,1486.45 1230.24,47.2441 \"/>\n",
       "<polyline clip-path=\"url(#clip442)\" style=\"stroke:#000000; stroke-linecap:round; stroke-linejoin:round; stroke-width:2; stroke-opacity:0.1; fill:none\" points=\"1718.89,1486.45 1718.89,47.2441 \"/>\n",
       "<polyline clip-path=\"url(#clip442)\" style=\"stroke:#000000; stroke-linecap:round; stroke-linejoin:round; stroke-width:2; stroke-opacity:0.1; fill:none\" points=\"2207.53,1486.45 2207.53,47.2441 \"/>\n",
       "<polyline clip-path=\"url(#clip442)\" style=\"stroke:#000000; stroke-linecap:round; stroke-linejoin:round; stroke-width:2; stroke-opacity:0.1; fill:none\" points=\"156.598,1486.45 2352.76,1486.45 \"/>\n",
       "<polyline clip-path=\"url(#clip442)\" style=\"stroke:#000000; stroke-linecap:round; stroke-linejoin:round; stroke-width:2; stroke-opacity:0.1; fill:none\" points=\"156.598,1185.36 2352.76,1185.36 \"/>\n",
       "<polyline clip-path=\"url(#clip442)\" style=\"stroke:#000000; stroke-linecap:round; stroke-linejoin:round; stroke-width:2; stroke-opacity:0.1; fill:none\" points=\"156.598,884.271 2352.76,884.271 \"/>\n",
       "<polyline clip-path=\"url(#clip442)\" style=\"stroke:#000000; stroke-linecap:round; stroke-linejoin:round; stroke-width:2; stroke-opacity:0.1; fill:none\" points=\"156.598,583.182 2352.76,583.182 \"/>\n",
       "<polyline clip-path=\"url(#clip442)\" style=\"stroke:#000000; stroke-linecap:round; stroke-linejoin:round; stroke-width:2; stroke-opacity:0.1; fill:none\" points=\"156.598,282.093 2352.76,282.093 \"/>\n",
       "<polyline clip-path=\"url(#clip440)\" style=\"stroke:#000000; stroke-linecap:round; stroke-linejoin:round; stroke-width:4; stroke-opacity:1; fill:none\" points=\"156.598,1486.45 2352.76,1486.45 \"/>\n",
       "<polyline clip-path=\"url(#clip440)\" style=\"stroke:#000000; stroke-linecap:round; stroke-linejoin:round; stroke-width:4; stroke-opacity:1; fill:none\" points=\"252.959,1486.45 252.959,1467.55 \"/>\n",
       "<polyline clip-path=\"url(#clip440)\" style=\"stroke:#000000; stroke-linecap:round; stroke-linejoin:round; stroke-width:4; stroke-opacity:1; fill:none\" points=\"741.602,1486.45 741.602,1467.55 \"/>\n",
       "<polyline clip-path=\"url(#clip440)\" style=\"stroke:#000000; stroke-linecap:round; stroke-linejoin:round; stroke-width:4; stroke-opacity:1; fill:none\" points=\"1230.24,1486.45 1230.24,1467.55 \"/>\n",
       "<polyline clip-path=\"url(#clip440)\" style=\"stroke:#000000; stroke-linecap:round; stroke-linejoin:round; stroke-width:4; stroke-opacity:1; fill:none\" points=\"1718.89,1486.45 1718.89,1467.55 \"/>\n",
       "<polyline clip-path=\"url(#clip440)\" style=\"stroke:#000000; stroke-linecap:round; stroke-linejoin:round; stroke-width:4; stroke-opacity:1; fill:none\" points=\"2207.53,1486.45 2207.53,1467.55 \"/>\n",
       "<path clip-path=\"url(#clip440)\" d=\"M221.859 1532.02 L251.535 1532.02 L251.535 1535.95 L221.859 1535.95 L221.859 1532.02 Z\" fill=\"#000000\" fill-rule=\"nonzero\" fill-opacity=\"1\" /><path clip-path=\"url(#clip440)\" d=\"M274.475 1518.36 L262.669 1536.81 L274.475 1536.81 L274.475 1518.36 M273.248 1514.29 L279.128 1514.29 L279.128 1536.81 L284.058 1536.81 L284.058 1540.7 L279.128 1540.7 L279.128 1548.85 L274.475 1548.85 L274.475 1540.7 L258.873 1540.7 L258.873 1536.19 L273.248 1514.29 Z\" fill=\"#000000\" fill-rule=\"nonzero\" fill-opacity=\"1\" /><path clip-path=\"url(#clip440)\" d=\"M711.544 1532.02 L741.22 1532.02 L741.22 1535.95 L711.544 1535.95 L711.544 1532.02 Z\" fill=\"#000000\" fill-rule=\"nonzero\" fill-opacity=\"1\" /><path clip-path=\"url(#clip440)\" d=\"M755.34 1544.91 L771.659 1544.91 L771.659 1548.85 L749.715 1548.85 L749.715 1544.91 Q752.377 1542.16 756.961 1537.53 Q761.567 1532.88 762.748 1531.53 Q764.993 1529.01 765.872 1527.27 Q766.775 1525.51 766.775 1523.82 Q766.775 1521.07 764.831 1519.33 Q762.91 1517.6 759.808 1517.6 Q757.609 1517.6 755.155 1518.36 Q752.724 1519.13 749.947 1520.68 L749.947 1515.95 Q752.771 1514.82 755.224 1514.24 Q757.678 1513.66 759.715 1513.66 Q765.085 1513.66 768.28 1516.35 Q771.474 1519.03 771.474 1523.52 Q771.474 1525.65 770.664 1527.57 Q769.877 1529.47 767.771 1532.07 Q767.192 1532.74 764.09 1535.95 Q760.988 1539.15 755.34 1544.91 Z\" fill=\"#000000\" fill-rule=\"nonzero\" fill-opacity=\"1\" /><path clip-path=\"url(#clip440)\" d=\"M1230.24 1517.37 Q1226.63 1517.37 1224.81 1520.93 Q1223 1524.47 1223 1531.6 Q1223 1538.71 1224.81 1542.27 Q1226.63 1545.82 1230.24 1545.82 Q1233.88 1545.82 1235.68 1542.27 Q1237.51 1538.71 1237.51 1531.6 Q1237.51 1524.47 1235.68 1520.93 Q1233.88 1517.37 1230.24 1517.37 M1230.24 1513.66 Q1236.06 1513.66 1239.11 1518.27 Q1242.19 1522.85 1242.19 1531.6 Q1242.19 1540.33 1239.11 1544.94 Q1236.06 1549.52 1230.24 1549.52 Q1224.43 1549.52 1221.36 1544.94 Q1218.3 1540.33 1218.3 1531.6 Q1218.3 1522.85 1221.36 1518.27 Q1224.43 1513.66 1230.24 1513.66 Z\" fill=\"#000000\" fill-rule=\"nonzero\" fill-opacity=\"1\" /><path clip-path=\"url(#clip440)\" d=\"M1713.54 1544.91 L1729.86 1544.91 L1729.86 1548.85 L1707.92 1548.85 L1707.92 1544.91 Q1710.58 1542.16 1715.16 1537.53 Q1719.77 1532.88 1720.95 1531.53 Q1723.19 1529.01 1724.07 1527.27 Q1724.98 1525.51 1724.98 1523.82 Q1724.98 1521.07 1723.03 1519.33 Q1721.11 1517.6 1718.01 1517.6 Q1715.81 1517.6 1713.36 1518.36 Q1710.93 1519.13 1708.15 1520.68 L1708.15 1515.95 Q1710.97 1514.82 1713.43 1514.24 Q1715.88 1513.66 1717.92 1513.66 Q1723.29 1513.66 1726.48 1516.35 Q1729.68 1519.03 1729.68 1523.52 Q1729.68 1525.65 1728.86 1527.57 Q1728.08 1529.47 1725.97 1532.07 Q1725.39 1532.74 1722.29 1535.95 Q1719.19 1539.15 1713.54 1544.91 Z\" fill=\"#000000\" fill-rule=\"nonzero\" fill-opacity=\"1\" /><path clip-path=\"url(#clip440)\" d=\"M2210.54 1518.36 L2198.73 1536.81 L2210.54 1536.81 L2210.54 1518.36 M2209.31 1514.29 L2215.19 1514.29 L2215.19 1536.81 L2220.12 1536.81 L2220.12 1540.7 L2215.19 1540.7 L2215.19 1548.85 L2210.54 1548.85 L2210.54 1540.7 L2194.94 1540.7 L2194.94 1536.19 L2209.31 1514.29 Z\" fill=\"#000000\" fill-rule=\"nonzero\" fill-opacity=\"1\" /><polyline clip-path=\"url(#clip440)\" style=\"stroke:#000000; stroke-linecap:round; stroke-linejoin:round; stroke-width:4; stroke-opacity:1; fill:none\" points=\"156.598,1486.45 156.598,47.2441 \"/>\n",
       "<polyline clip-path=\"url(#clip440)\" style=\"stroke:#000000; stroke-linecap:round; stroke-linejoin:round; stroke-width:4; stroke-opacity:1; fill:none\" points=\"156.598,1486.45 175.496,1486.45 \"/>\n",
       "<polyline clip-path=\"url(#clip440)\" style=\"stroke:#000000; stroke-linecap:round; stroke-linejoin:round; stroke-width:4; stroke-opacity:1; fill:none\" points=\"156.598,1185.36 175.496,1185.36 \"/>\n",
       "<polyline clip-path=\"url(#clip440)\" style=\"stroke:#000000; stroke-linecap:round; stroke-linejoin:round; stroke-width:4; stroke-opacity:1; fill:none\" points=\"156.598,884.271 175.496,884.271 \"/>\n",
       "<polyline clip-path=\"url(#clip440)\" style=\"stroke:#000000; stroke-linecap:round; stroke-linejoin:round; stroke-width:4; stroke-opacity:1; fill:none\" points=\"156.598,583.182 175.496,583.182 \"/>\n",
       "<polyline clip-path=\"url(#clip440)\" style=\"stroke:#000000; stroke-linecap:round; stroke-linejoin:round; stroke-width:4; stroke-opacity:1; fill:none\" points=\"156.598,282.093 175.496,282.093 \"/>\n",
       "<path clip-path=\"url(#clip440)\" d=\"M63.4226 1472.25 Q59.8115 1472.25 57.9828 1475.81 Q56.1773 1479.35 56.1773 1486.48 Q56.1773 1493.59 57.9828 1497.15 Q59.8115 1500.7 63.4226 1500.7 Q67.0569 1500.7 68.8624 1497.15 Q70.6911 1493.59 70.6911 1486.48 Q70.6911 1479.35 68.8624 1475.81 Q67.0569 1472.25 63.4226 1472.25 M63.4226 1468.54 Q69.2328 1468.54 72.2883 1473.15 Q75.367 1477.73 75.367 1486.48 Q75.367 1495.21 72.2883 1499.82 Q69.2328 1504.4 63.4226 1504.4 Q57.6125 1504.4 54.5338 1499.82 Q51.4782 1495.21 51.4782 1486.48 Q51.4782 1477.73 54.5338 1473.15 Q57.6125 1468.54 63.4226 1468.54 Z\" fill=\"#000000\" fill-rule=\"nonzero\" fill-opacity=\"1\" /><path clip-path=\"url(#clip440)\" d=\"M83.5845 1497.85 L88.4688 1497.85 L88.4688 1503.73 L83.5845 1503.73 L83.5845 1497.85 Z\" fill=\"#000000\" fill-rule=\"nonzero\" fill-opacity=\"1\" /><path clip-path=\"url(#clip440)\" d=\"M108.654 1472.25 Q105.043 1472.25 103.214 1475.81 Q101.409 1479.35 101.409 1486.48 Q101.409 1493.59 103.214 1497.15 Q105.043 1500.7 108.654 1500.7 Q112.288 1500.7 114.094 1497.15 Q115.922 1493.59 115.922 1486.48 Q115.922 1479.35 114.094 1475.81 Q112.288 1472.25 108.654 1472.25 M108.654 1468.54 Q114.464 1468.54 117.52 1473.15 Q120.598 1477.73 120.598 1486.48 Q120.598 1495.21 117.52 1499.82 Q114.464 1504.4 108.654 1504.4 Q102.844 1504.4 99.765 1499.82 Q96.7095 1495.21 96.7095 1486.48 Q96.7095 1477.73 99.765 1473.15 Q102.844 1468.54 108.654 1468.54 Z\" fill=\"#000000\" fill-rule=\"nonzero\" fill-opacity=\"1\" /><path clip-path=\"url(#clip440)\" d=\"M64.6495 1171.16 Q61.0384 1171.16 59.2097 1174.72 Q57.4041 1178.26 57.4041 1185.39 Q57.4041 1192.5 59.2097 1196.07 Q61.0384 1199.61 64.6495 1199.61 Q68.2837 1199.61 70.0892 1196.07 Q71.9179 1192.5 71.9179 1185.39 Q71.9179 1178.26 70.0892 1174.72 Q68.2837 1171.16 64.6495 1171.16 M64.6495 1167.45 Q70.4596 1167.45 73.5152 1172.06 Q76.5938 1176.64 76.5938 1185.39 Q76.5938 1194.12 73.5152 1198.73 Q70.4596 1203.31 64.6495 1203.31 Q58.8393 1203.31 55.7606 1198.73 Q52.7051 1194.12 52.7051 1185.39 Q52.7051 1176.64 55.7606 1172.06 Q58.8393 1167.45 64.6495 1167.45 Z\" fill=\"#000000\" fill-rule=\"nonzero\" fill-opacity=\"1\" /><path clip-path=\"url(#clip440)\" d=\"M84.8114 1196.76 L89.6956 1196.76 L89.6956 1202.64 L84.8114 1202.64 L84.8114 1196.76 Z\" fill=\"#000000\" fill-rule=\"nonzero\" fill-opacity=\"1\" /><path clip-path=\"url(#clip440)\" d=\"M100.691 1198.7 L108.33 1198.7 L108.33 1172.34 L100.02 1174.01 L100.02 1169.75 L108.283 1168.08 L112.959 1168.08 L112.959 1198.7 L120.598 1198.7 L120.598 1202.64 L100.691 1202.64 L100.691 1198.7 Z\" fill=\"#000000\" fill-rule=\"nonzero\" fill-opacity=\"1\" /><path clip-path=\"url(#clip440)\" d=\"M65.0198 870.069 Q61.4087 870.069 59.58 873.634 Q57.7745 877.176 57.7745 884.305 Q57.7745 891.412 59.58 894.977 Q61.4087 898.518 65.0198 898.518 Q68.6541 898.518 70.4596 894.977 Q72.2883 891.412 72.2883 884.305 Q72.2883 877.176 70.4596 873.634 Q68.6541 870.069 65.0198 870.069 M65.0198 866.366 Q70.83 866.366 73.8855 870.972 Q76.9642 875.555 76.9642 884.305 Q76.9642 893.032 73.8855 897.639 Q70.83 902.222 65.0198 902.222 Q59.2097 902.222 56.131 897.639 Q53.0754 893.032 53.0754 884.305 Q53.0754 875.555 56.131 870.972 Q59.2097 866.366 65.0198 866.366 Z\" fill=\"#000000\" fill-rule=\"nonzero\" fill-opacity=\"1\" /><path clip-path=\"url(#clip440)\" d=\"M85.1818 895.671 L90.066 895.671 L90.066 901.551 L85.1818 901.551 L85.1818 895.671 Z\" fill=\"#000000\" fill-rule=\"nonzero\" fill-opacity=\"1\" /><path clip-path=\"url(#clip440)\" d=\"M104.279 897.615 L120.598 897.615 L120.598 901.551 L98.6539 901.551 L98.6539 897.615 Q101.316 894.861 105.899 890.231 Q110.506 885.578 111.686 884.236 Q113.932 881.713 114.811 879.977 Q115.714 878.217 115.714 876.528 Q115.714 873.773 113.77 872.037 Q111.848 870.301 108.746 870.301 Q106.547 870.301 104.094 871.065 Q101.663 871.828 98.8854 873.379 L98.8854 868.657 Q101.709 867.523 104.163 866.944 Q106.617 866.366 108.654 866.366 Q114.024 866.366 117.219 869.051 Q120.413 871.736 120.413 876.227 Q120.413 878.356 119.603 880.278 Q118.816 882.176 116.709 884.768 Q116.131 885.44 113.029 888.657 Q109.927 891.852 104.279 897.615 Z\" fill=\"#000000\" fill-rule=\"nonzero\" fill-opacity=\"1\" /><path clip-path=\"url(#clip440)\" d=\"M64.0708 568.981 Q60.4597 568.981 58.631 572.545 Q56.8254 576.087 56.8254 583.217 Q56.8254 590.323 58.631 593.888 Q60.4597 597.43 64.0708 597.43 Q67.705 597.43 69.5105 593.888 Q71.3392 590.323 71.3392 583.217 Q71.3392 576.087 69.5105 572.545 Q67.705 568.981 64.0708 568.981 M64.0708 565.277 Q69.8809 565.277 72.9365 569.883 Q76.0151 574.467 76.0151 583.217 Q76.0151 591.943 72.9365 596.55 Q69.8809 601.133 64.0708 601.133 Q58.2606 601.133 55.1819 596.55 Q52.1264 591.943 52.1264 583.217 Q52.1264 574.467 55.1819 569.883 Q58.2606 565.277 64.0708 565.277 Z\" fill=\"#000000\" fill-rule=\"nonzero\" fill-opacity=\"1\" /><path clip-path=\"url(#clip440)\" d=\"M84.2327 594.582 L89.1169 594.582 L89.1169 600.462 L84.2327 600.462 L84.2327 594.582 Z\" fill=\"#000000\" fill-rule=\"nonzero\" fill-opacity=\"1\" /><path clip-path=\"url(#clip440)\" d=\"M113.469 581.828 Q116.825 582.545 118.7 584.814 Q120.598 587.082 120.598 590.416 Q120.598 595.531 117.08 598.332 Q113.561 601.133 107.08 601.133 Q104.904 601.133 102.589 600.693 Q100.297 600.277 97.8437 599.42 L97.8437 594.906 Q99.7882 596.041 102.103 596.619 Q104.418 597.198 106.941 597.198 Q111.339 597.198 113.631 595.462 Q115.945 593.726 115.945 590.416 Q115.945 587.36 113.793 585.647 Q111.663 583.911 107.844 583.911 L103.816 583.911 L103.816 580.068 L108.029 580.068 Q111.478 580.068 113.307 578.703 Q115.135 577.314 115.135 574.721 Q115.135 572.059 113.237 570.647 Q111.362 569.212 107.844 569.212 Q105.922 569.212 103.723 569.629 Q101.524 570.045 98.8854 570.925 L98.8854 566.758 Q101.547 566.018 103.862 565.647 Q106.2 565.277 108.26 565.277 Q113.584 565.277 116.686 567.707 Q119.788 570.115 119.788 574.235 Q119.788 577.106 118.145 579.096 Q116.501 581.064 113.469 581.828 Z\" fill=\"#000000\" fill-rule=\"nonzero\" fill-opacity=\"1\" /><path clip-path=\"url(#clip440)\" d=\"M62.9365 267.892 Q59.3254 267.892 57.4967 271.457 Q55.6912 274.998 55.6912 282.128 Q55.6912 289.234 57.4967 292.799 Q59.3254 296.341 62.9365 296.341 Q66.5707 296.341 68.3763 292.799 Q70.205 289.234 70.205 282.128 Q70.205 274.998 68.3763 271.457 Q66.5707 267.892 62.9365 267.892 M62.9365 264.188 Q68.7467 264.188 71.8022 268.795 Q74.8809 273.378 74.8809 282.128 Q74.8809 290.855 71.8022 295.461 Q68.7467 300.045 62.9365 300.045 Q57.1264 300.045 54.0477 295.461 Q50.9921 290.855 50.9921 282.128 Q50.9921 273.378 54.0477 268.795 Q57.1264 264.188 62.9365 264.188 Z\" fill=\"#000000\" fill-rule=\"nonzero\" fill-opacity=\"1\" /><path clip-path=\"url(#clip440)\" d=\"M83.0984 293.494 L87.9827 293.494 L87.9827 299.373 L83.0984 299.373 L83.0984 293.494 Z\" fill=\"#000000\" fill-rule=\"nonzero\" fill-opacity=\"1\" /><path clip-path=\"url(#clip440)\" d=\"M111.015 268.887 L99.2095 287.336 L111.015 287.336 L111.015 268.887 M109.788 264.813 L115.668 264.813 L115.668 287.336 L120.598 287.336 L120.598 291.225 L115.668 291.225 L115.668 299.373 L111.015 299.373 L111.015 291.225 L95.4132 291.225 L95.4132 286.711 L109.788 264.813 Z\" fill=\"#000000\" fill-rule=\"nonzero\" fill-opacity=\"1\" /><path clip-path=\"url(#clip442)\" d=\"M277.391 1480.43 L277.391 1486.45 L301.823 1486.45 L301.823 1480.43 L277.391 1480.43 L277.391 1480.43  Z\" fill=\"#009af9\" fill-rule=\"evenodd\" fill-opacity=\"0.8\"/>\n",
       "<polyline clip-path=\"url(#clip442)\" style=\"stroke:#000000; stroke-linecap:round; stroke-linejoin:round; stroke-width:4; stroke-opacity:0.8; fill:none\" points=\"277.391,1480.43 277.391,1486.45 301.823,1486.45 301.823,1480.43 277.391,1480.43 \"/>\n",
       "<path clip-path=\"url(#clip442)\" d=\"M301.823 1486.45 L301.823 1486.45 L326.255 1486.45 L326.255 1486.45 L301.823 1486.45 L301.823 1486.45  Z\" fill=\"#009af9\" fill-rule=\"evenodd\" fill-opacity=\"0.8\"/>\n",
       "<polyline clip-path=\"url(#clip442)\" style=\"stroke:#000000; stroke-linecap:round; stroke-linejoin:round; stroke-width:4; stroke-opacity:0.8; fill:none\" points=\"301.823,1486.45 301.823,1486.45 326.255,1486.45 301.823,1486.45 \"/>\n",
       "<path clip-path=\"url(#clip442)\" d=\"M326.255 1486.45 L326.255 1486.45 L350.687 1486.45 L350.687 1486.45 L326.255 1486.45 L326.255 1486.45  Z\" fill=\"#009af9\" fill-rule=\"evenodd\" fill-opacity=\"0.8\"/>\n",
       "<polyline clip-path=\"url(#clip442)\" style=\"stroke:#000000; stroke-linecap:round; stroke-linejoin:round; stroke-width:4; stroke-opacity:0.8; fill:none\" points=\"326.255,1486.45 326.255,1486.45 350.687,1486.45 326.255,1486.45 \"/>\n",
       "<path clip-path=\"url(#clip442)\" d=\"M350.687 1480.43 L350.687 1486.45 L375.119 1486.45 L375.119 1480.43 L350.687 1480.43 L350.687 1480.43  Z\" fill=\"#009af9\" fill-rule=\"evenodd\" fill-opacity=\"0.8\"/>\n",
       "<polyline clip-path=\"url(#clip442)\" style=\"stroke:#000000; stroke-linecap:round; stroke-linejoin:round; stroke-width:4; stroke-opacity:0.8; fill:none\" points=\"350.687,1480.43 350.687,1486.45 375.119,1486.45 375.119,1480.43 350.687,1480.43 \"/>\n",
       "<path clip-path=\"url(#clip442)\" d=\"M375.119 1486.45 L375.119 1486.45 L399.552 1486.45 L399.552 1486.45 L375.119 1486.45 L375.119 1486.45  Z\" fill=\"#009af9\" fill-rule=\"evenodd\" fill-opacity=\"0.8\"/>\n",
       "<polyline clip-path=\"url(#clip442)\" style=\"stroke:#000000; stroke-linecap:round; stroke-linejoin:round; stroke-width:4; stroke-opacity:0.8; fill:none\" points=\"375.119,1486.45 375.119,1486.45 399.552,1486.45 375.119,1486.45 \"/>\n",
       "<path clip-path=\"url(#clip442)\" d=\"M399.552 1480.43 L399.552 1486.45 L423.984 1486.45 L423.984 1480.43 L399.552 1480.43 L399.552 1480.43  Z\" fill=\"#009af9\" fill-rule=\"evenodd\" fill-opacity=\"0.8\"/>\n",
       "<polyline clip-path=\"url(#clip442)\" style=\"stroke:#000000; stroke-linecap:round; stroke-linejoin:round; stroke-width:4; stroke-opacity:0.8; fill:none\" points=\"399.552,1480.43 399.552,1486.45 423.984,1486.45 423.984,1480.43 399.552,1480.43 \"/>\n",
       "<path clip-path=\"url(#clip442)\" d=\"M423.984 1474.4 L423.984 1486.45 L448.416 1486.45 L448.416 1474.4 L423.984 1474.4 L423.984 1474.4  Z\" fill=\"#009af9\" fill-rule=\"evenodd\" fill-opacity=\"0.8\"/>\n",
       "<polyline clip-path=\"url(#clip442)\" style=\"stroke:#000000; stroke-linecap:round; stroke-linejoin:round; stroke-width:4; stroke-opacity:0.8; fill:none\" points=\"423.984,1474.4 423.984,1486.45 448.416,1486.45 448.416,1474.4 423.984,1474.4 \"/>\n",
       "<path clip-path=\"url(#clip442)\" d=\"M448.416 1486.45 L448.416 1486.45 L472.848 1486.45 L472.848 1486.45 L448.416 1486.45 L448.416 1486.45  Z\" fill=\"#009af9\" fill-rule=\"evenodd\" fill-opacity=\"0.8\"/>\n",
       "<polyline clip-path=\"url(#clip442)\" style=\"stroke:#000000; stroke-linecap:round; stroke-linejoin:round; stroke-width:4; stroke-opacity:0.8; fill:none\" points=\"448.416,1486.45 448.416,1486.45 472.848,1486.45 448.416,1486.45 \"/>\n",
       "<path clip-path=\"url(#clip442)\" d=\"M472.848 1468.38 L472.848 1486.45 L497.28 1486.45 L497.28 1468.38 L472.848 1468.38 L472.848 1468.38  Z\" fill=\"#009af9\" fill-rule=\"evenodd\" fill-opacity=\"0.8\"/>\n",
       "<polyline clip-path=\"url(#clip442)\" style=\"stroke:#000000; stroke-linecap:round; stroke-linejoin:round; stroke-width:4; stroke-opacity:0.8; fill:none\" points=\"472.848,1468.38 472.848,1486.45 497.28,1486.45 497.28,1468.38 472.848,1468.38 \"/>\n",
       "<path clip-path=\"url(#clip442)\" d=\"M497.28 1456.34 L497.28 1486.45 L521.712 1486.45 L521.712 1456.34 L497.28 1456.34 L497.28 1456.34  Z\" fill=\"#009af9\" fill-rule=\"evenodd\" fill-opacity=\"0.8\"/>\n",
       "<polyline clip-path=\"url(#clip442)\" style=\"stroke:#000000; stroke-linecap:round; stroke-linejoin:round; stroke-width:4; stroke-opacity:0.8; fill:none\" points=\"497.28,1456.34 497.28,1486.45 521.712,1486.45 521.712,1456.34 497.28,1456.34 \"/>\n",
       "<path clip-path=\"url(#clip442)\" d=\"M521.712 1486.45 L521.712 1486.45 L546.145 1486.45 L546.145 1486.45 L521.712 1486.45 L521.712 1486.45  Z\" fill=\"#009af9\" fill-rule=\"evenodd\" fill-opacity=\"0.8\"/>\n",
       "<polyline clip-path=\"url(#clip442)\" style=\"stroke:#000000; stroke-linecap:round; stroke-linejoin:round; stroke-width:4; stroke-opacity:0.8; fill:none\" points=\"521.712,1486.45 521.712,1486.45 546.145,1486.45 521.712,1486.45 \"/>\n",
       "<path clip-path=\"url(#clip442)\" d=\"M546.145 1474.4 L546.145 1486.45 L570.577 1486.45 L570.577 1474.4 L546.145 1474.4 L546.145 1474.4  Z\" fill=\"#009af9\" fill-rule=\"evenodd\" fill-opacity=\"0.8\"/>\n",
       "<polyline clip-path=\"url(#clip442)\" style=\"stroke:#000000; stroke-linecap:round; stroke-linejoin:round; stroke-width:4; stroke-opacity:0.8; fill:none\" points=\"546.145,1474.4 546.145,1486.45 570.577,1486.45 570.577,1474.4 546.145,1474.4 \"/>\n",
       "<path clip-path=\"url(#clip442)\" d=\"M570.577 1468.38 L570.577 1486.45 L595.009 1486.45 L595.009 1468.38 L570.577 1468.38 L570.577 1468.38  Z\" fill=\"#009af9\" fill-rule=\"evenodd\" fill-opacity=\"0.8\"/>\n",
       "<polyline clip-path=\"url(#clip442)\" style=\"stroke:#000000; stroke-linecap:round; stroke-linejoin:round; stroke-width:4; stroke-opacity:0.8; fill:none\" points=\"570.577,1468.38 570.577,1486.45 595.009,1486.45 595.009,1468.38 570.577,1468.38 \"/>\n",
       "<path clip-path=\"url(#clip442)\" d=\"M595.009 1426.23 L595.009 1486.45 L619.441 1486.45 L619.441 1426.23 L595.009 1426.23 L595.009 1426.23  Z\" fill=\"#009af9\" fill-rule=\"evenodd\" fill-opacity=\"0.8\"/>\n",
       "<polyline clip-path=\"url(#clip442)\" style=\"stroke:#000000; stroke-linecap:round; stroke-linejoin:round; stroke-width:4; stroke-opacity:0.8; fill:none\" points=\"595.009,1426.23 595.009,1486.45 619.441,1486.45 619.441,1426.23 595.009,1426.23 \"/>\n",
       "<path clip-path=\"url(#clip442)\" d=\"M619.441 1444.3 L619.441 1486.45 L643.873 1486.45 L643.873 1444.3 L619.441 1444.3 L619.441 1444.3  Z\" fill=\"#009af9\" fill-rule=\"evenodd\" fill-opacity=\"0.8\"/>\n",
       "<polyline clip-path=\"url(#clip442)\" style=\"stroke:#000000; stroke-linecap:round; stroke-linejoin:round; stroke-width:4; stroke-opacity:0.8; fill:none\" points=\"619.441,1444.3 619.441,1486.45 643.873,1486.45 643.873,1444.3 619.441,1444.3 \"/>\n",
       "<path clip-path=\"url(#clip442)\" d=\"M643.873 1438.27 L643.873 1486.45 L668.305 1486.45 L668.305 1438.27 L643.873 1438.27 L643.873 1438.27  Z\" fill=\"#009af9\" fill-rule=\"evenodd\" fill-opacity=\"0.8\"/>\n",
       "<polyline clip-path=\"url(#clip442)\" style=\"stroke:#000000; stroke-linecap:round; stroke-linejoin:round; stroke-width:4; stroke-opacity:0.8; fill:none\" points=\"643.873,1438.27 643.873,1486.45 668.305,1486.45 668.305,1438.27 643.873,1438.27 \"/>\n",
       "<path clip-path=\"url(#clip442)\" d=\"M668.305 1353.97 L668.305 1486.45 L692.737 1486.45 L692.737 1353.97 L668.305 1353.97 L668.305 1353.97  Z\" fill=\"#009af9\" fill-rule=\"evenodd\" fill-opacity=\"0.8\"/>\n",
       "<polyline clip-path=\"url(#clip442)\" style=\"stroke:#000000; stroke-linecap:round; stroke-linejoin:round; stroke-width:4; stroke-opacity:0.8; fill:none\" points=\"668.305,1353.97 668.305,1486.45 692.737,1486.45 692.737,1353.97 668.305,1353.97 \"/>\n",
       "<path clip-path=\"url(#clip442)\" d=\"M692.737 1323.86 L692.737 1486.45 L717.17 1486.45 L717.17 1323.86 L692.737 1323.86 L692.737 1323.86  Z\" fill=\"#009af9\" fill-rule=\"evenodd\" fill-opacity=\"0.8\"/>\n",
       "<polyline clip-path=\"url(#clip442)\" style=\"stroke:#000000; stroke-linecap:round; stroke-linejoin:round; stroke-width:4; stroke-opacity:0.8; fill:none\" points=\"692.737,1323.86 692.737,1486.45 717.17,1486.45 717.17,1323.86 692.737,1323.86 \"/>\n",
       "<path clip-path=\"url(#clip442)\" d=\"M717.17 1311.82 L717.17 1486.45 L741.602 1486.45 L741.602 1311.82 L717.17 1311.82 L717.17 1311.82  Z\" fill=\"#009af9\" fill-rule=\"evenodd\" fill-opacity=\"0.8\"/>\n",
       "<polyline clip-path=\"url(#clip442)\" style=\"stroke:#000000; stroke-linecap:round; stroke-linejoin:round; stroke-width:4; stroke-opacity:0.8; fill:none\" points=\"717.17,1311.82 717.17,1486.45 741.602,1486.45 741.602,1311.82 717.17,1311.82 \"/>\n",
       "<path clip-path=\"url(#clip442)\" d=\"M741.602 1317.84 L741.602 1486.45 L766.034 1486.45 L766.034 1317.84 L741.602 1317.84 L741.602 1317.84  Z\" fill=\"#009af9\" fill-rule=\"evenodd\" fill-opacity=\"0.8\"/>\n",
       "<polyline clip-path=\"url(#clip442)\" style=\"stroke:#000000; stroke-linecap:round; stroke-linejoin:round; stroke-width:4; stroke-opacity:0.8; fill:none\" points=\"741.602,1317.84 741.602,1486.45 766.034,1486.45 766.034,1317.84 741.602,1317.84 \"/>\n",
       "<path clip-path=\"url(#clip442)\" d=\"M766.034 1227.51 L766.034 1486.45 L790.466 1486.45 L790.466 1227.51 L766.034 1227.51 L766.034 1227.51  Z\" fill=\"#009af9\" fill-rule=\"evenodd\" fill-opacity=\"0.8\"/>\n",
       "<polyline clip-path=\"url(#clip442)\" style=\"stroke:#000000; stroke-linecap:round; stroke-linejoin:round; stroke-width:4; stroke-opacity:0.8; fill:none\" points=\"766.034,1227.51 766.034,1486.45 790.466,1486.45 790.466,1227.51 766.034,1227.51 \"/>\n",
       "<path clip-path=\"url(#clip442)\" d=\"M790.466 1251.6 L790.466 1486.45 L814.898 1486.45 L814.898 1251.6 L790.466 1251.6 L790.466 1251.6  Z\" fill=\"#009af9\" fill-rule=\"evenodd\" fill-opacity=\"0.8\"/>\n",
       "<polyline clip-path=\"url(#clip442)\" style=\"stroke:#000000; stroke-linecap:round; stroke-linejoin:round; stroke-width:4; stroke-opacity:0.8; fill:none\" points=\"790.466,1251.6 790.466,1486.45 814.898,1486.45 814.898,1251.6 790.466,1251.6 \"/>\n",
       "<path clip-path=\"url(#clip442)\" d=\"M814.898 1251.6 L814.898 1486.45 L839.33 1486.45 L839.33 1251.6 L814.898 1251.6 L814.898 1251.6  Z\" fill=\"#009af9\" fill-rule=\"evenodd\" fill-opacity=\"0.8\"/>\n",
       "<polyline clip-path=\"url(#clip442)\" style=\"stroke:#000000; stroke-linecap:round; stroke-linejoin:round; stroke-width:4; stroke-opacity:0.8; fill:none\" points=\"814.898,1251.6 814.898,1486.45 839.33,1486.45 839.33,1251.6 814.898,1251.6 \"/>\n",
       "<path clip-path=\"url(#clip442)\" d=\"M839.33 1107.08 L839.33 1486.45 L863.763 1486.45 L863.763 1107.08 L839.33 1107.08 L839.33 1107.08  Z\" fill=\"#009af9\" fill-rule=\"evenodd\" fill-opacity=\"0.8\"/>\n",
       "<polyline clip-path=\"url(#clip442)\" style=\"stroke:#000000; stroke-linecap:round; stroke-linejoin:round; stroke-width:4; stroke-opacity:0.8; fill:none\" points=\"839.33,1107.08 839.33,1486.45 863.763,1486.45 863.763,1107.08 839.33,1107.08 \"/>\n",
       "<path clip-path=\"url(#clip442)\" d=\"M863.763 1119.12 L863.763 1486.45 L888.195 1486.45 L888.195 1119.12 L863.763 1119.12 L863.763 1119.12  Z\" fill=\"#009af9\" fill-rule=\"evenodd\" fill-opacity=\"0.8\"/>\n",
       "<polyline clip-path=\"url(#clip442)\" style=\"stroke:#000000; stroke-linecap:round; stroke-linejoin:round; stroke-width:4; stroke-opacity:0.8; fill:none\" points=\"863.763,1119.12 863.763,1486.45 888.195,1486.45 888.195,1119.12 863.763,1119.12 \"/>\n",
       "<path clip-path=\"url(#clip442)\" d=\"M888.195 1010.73 L888.195 1486.45 L912.627 1486.45 L912.627 1010.73 L888.195 1010.73 L888.195 1010.73  Z\" fill=\"#009af9\" fill-rule=\"evenodd\" fill-opacity=\"0.8\"/>\n",
       "<polyline clip-path=\"url(#clip442)\" style=\"stroke:#000000; stroke-linecap:round; stroke-linejoin:round; stroke-width:4; stroke-opacity:0.8; fill:none\" points=\"888.195,1010.73 888.195,1486.45 912.627,1486.45 912.627,1010.73 888.195,1010.73 \"/>\n",
       "<path clip-path=\"url(#clip442)\" d=\"M912.627 872.227 L912.627 1486.45 L937.059 1486.45 L937.059 872.227 L912.627 872.227 L912.627 872.227  Z\" fill=\"#009af9\" fill-rule=\"evenodd\" fill-opacity=\"0.8\"/>\n",
       "<polyline clip-path=\"url(#clip442)\" style=\"stroke:#000000; stroke-linecap:round; stroke-linejoin:round; stroke-width:4; stroke-opacity:0.8; fill:none\" points=\"912.627,872.227 912.627,1486.45 937.059,1486.45 937.059,872.227 912.627,872.227 \"/>\n",
       "<path clip-path=\"url(#clip442)\" d=\"M937.059 866.205 L937.059 1486.45 L961.491 1486.45 L961.491 866.205 L937.059 866.205 L937.059 866.205  Z\" fill=\"#009af9\" fill-rule=\"evenodd\" fill-opacity=\"0.8\"/>\n",
       "<polyline clip-path=\"url(#clip442)\" style=\"stroke:#000000; stroke-linecap:round; stroke-linejoin:round; stroke-width:4; stroke-opacity:0.8; fill:none\" points=\"937.059,866.205 937.059,1486.45 961.491,1486.45 961.491,866.205 937.059,866.205 \"/>\n",
       "<path clip-path=\"url(#clip442)\" d=\"M961.491 902.336 L961.491 1486.45 L985.923 1486.45 L985.923 902.336 L961.491 902.336 L961.491 902.336  Z\" fill=\"#009af9\" fill-rule=\"evenodd\" fill-opacity=\"0.8\"/>\n",
       "<polyline clip-path=\"url(#clip442)\" style=\"stroke:#000000; stroke-linecap:round; stroke-linejoin:round; stroke-width:4; stroke-opacity:0.8; fill:none\" points=\"961.491,902.336 961.491,1486.45 985.923,1486.45 985.923,902.336 961.491,902.336 \"/>\n",
       "<path clip-path=\"url(#clip442)\" d=\"M985.923 661.465 L985.923 1486.45 L1010.36 1486.45 L1010.36 661.465 L985.923 661.465 L985.923 661.465  Z\" fill=\"#009af9\" fill-rule=\"evenodd\" fill-opacity=\"0.8\"/>\n",
       "<polyline clip-path=\"url(#clip442)\" style=\"stroke:#000000; stroke-linecap:round; stroke-linejoin:round; stroke-width:4; stroke-opacity:0.8; fill:none\" points=\"985.923,661.465 985.923,1486.45 1010.36,1486.45 1010.36,661.465 985.923,661.465 \"/>\n",
       "<path clip-path=\"url(#clip442)\" d=\"M1010.36 781.9 L1010.36 1486.45 L1034.79 1486.45 L1034.79 781.9 L1010.36 781.9 L1010.36 781.9  Z\" fill=\"#009af9\" fill-rule=\"evenodd\" fill-opacity=\"0.8\"/>\n",
       "<polyline clip-path=\"url(#clip442)\" style=\"stroke:#000000; stroke-linecap:round; stroke-linejoin:round; stroke-width:4; stroke-opacity:0.8; fill:none\" points=\"1010.36,781.9 1010.36,1486.45 1034.79,1486.45 1034.79,781.9 1010.36,781.9 \"/>\n",
       "<path clip-path=\"url(#clip442)\" d=\"M1034.79 691.574 L1034.79 1486.45 L1059.22 1486.45 L1059.22 691.574 L1034.79 691.574 L1034.79 691.574  Z\" fill=\"#009af9\" fill-rule=\"evenodd\" fill-opacity=\"0.8\"/>\n",
       "<polyline clip-path=\"url(#clip442)\" style=\"stroke:#000000; stroke-linecap:round; stroke-linejoin:round; stroke-width:4; stroke-opacity:0.8; fill:none\" points=\"1034.79,691.574 1034.79,1486.45 1059.22,1486.45 1059.22,691.574 1034.79,691.574 \"/>\n",
       "<path clip-path=\"url(#clip442)\" d=\"M1059.22 498.877 L1059.22 1486.45 L1083.65 1486.45 L1083.65 498.877 L1059.22 498.877 L1059.22 498.877  Z\" fill=\"#009af9\" fill-rule=\"evenodd\" fill-opacity=\"0.8\"/>\n",
       "<polyline clip-path=\"url(#clip442)\" style=\"stroke:#000000; stroke-linecap:round; stroke-linejoin:round; stroke-width:4; stroke-opacity:0.8; fill:none\" points=\"1059.22,498.877 1059.22,1486.45 1083.65,1486.45 1083.65,498.877 1059.22,498.877 \"/>\n",
       "<path clip-path=\"url(#clip442)\" d=\"M1083.65 450.703 L1083.65 1486.45 L1108.08 1486.45 L1108.08 450.703 L1083.65 450.703 L1083.65 450.703  Z\" fill=\"#009af9\" fill-rule=\"evenodd\" fill-opacity=\"0.8\"/>\n",
       "<polyline clip-path=\"url(#clip442)\" style=\"stroke:#000000; stroke-linecap:round; stroke-linejoin:round; stroke-width:4; stroke-opacity:0.8; fill:none\" points=\"1083.65,450.703 1083.65,1486.45 1108.08,1486.45 1108.08,450.703 1083.65,450.703 \"/>\n",
       "<path clip-path=\"url(#clip442)\" d=\"M1108.08 426.616 L1108.08 1486.45 L1132.52 1486.45 L1132.52 426.616 L1108.08 426.616 L1108.08 426.616  Z\" fill=\"#009af9\" fill-rule=\"evenodd\" fill-opacity=\"0.8\"/>\n",
       "<polyline clip-path=\"url(#clip442)\" style=\"stroke:#000000; stroke-linecap:round; stroke-linejoin:round; stroke-width:4; stroke-opacity:0.8; fill:none\" points=\"1108.08,426.616 1108.08,1486.45 1132.52,1486.45 1132.52,426.616 1108.08,426.616 \"/>\n",
       "<path clip-path=\"url(#clip442)\" d=\"M1132.52 396.507 L1132.52 1486.45 L1156.95 1486.45 L1156.95 396.507 L1132.52 396.507 L1132.52 396.507  Z\" fill=\"#009af9\" fill-rule=\"evenodd\" fill-opacity=\"0.8\"/>\n",
       "<polyline clip-path=\"url(#clip442)\" style=\"stroke:#000000; stroke-linecap:round; stroke-linejoin:round; stroke-width:4; stroke-opacity:0.8; fill:none\" points=\"1132.52,396.507 1132.52,1486.45 1156.95,1486.45 1156.95,396.507 1132.52,396.507 \"/>\n",
       "<path clip-path=\"url(#clip442)\" d=\"M1156.95 384.463 L1156.95 1486.45 L1181.38 1486.45 L1181.38 384.463 L1156.95 384.463 L1156.95 384.463  Z\" fill=\"#009af9\" fill-rule=\"evenodd\" fill-opacity=\"0.8\"/>\n",
       "<polyline clip-path=\"url(#clip442)\" style=\"stroke:#000000; stroke-linecap:round; stroke-linejoin:round; stroke-width:4; stroke-opacity:0.8; fill:none\" points=\"1156.95,384.463 1156.95,1486.45 1181.38,1486.45 1181.38,384.463 1156.95,384.463 \"/>\n",
       "<path clip-path=\"url(#clip442)\" d=\"M1181.38 396.507 L1181.38 1486.45 L1205.81 1486.45 L1205.81 396.507 L1181.38 396.507 L1181.38 396.507  Z\" fill=\"#009af9\" fill-rule=\"evenodd\" fill-opacity=\"0.8\"/>\n",
       "<polyline clip-path=\"url(#clip442)\" style=\"stroke:#000000; stroke-linecap:round; stroke-linejoin:round; stroke-width:4; stroke-opacity:0.8; fill:none\" points=\"1181.38,396.507 1181.38,1486.45 1205.81,1486.45 1205.81,396.507 1181.38,396.507 \"/>\n",
       "<path clip-path=\"url(#clip442)\" d=\"M1205.81 390.485 L1205.81 1486.45 L1230.24 1486.45 L1230.24 390.485 L1205.81 390.485 L1205.81 390.485  Z\" fill=\"#009af9\" fill-rule=\"evenodd\" fill-opacity=\"0.8\"/>\n",
       "<polyline clip-path=\"url(#clip442)\" style=\"stroke:#000000; stroke-linecap:round; stroke-linejoin:round; stroke-width:4; stroke-opacity:0.8; fill:none\" points=\"1205.81,390.485 1205.81,1486.45 1230.24,1486.45 1230.24,390.485 1205.81,390.485 \"/>\n",
       "<path clip-path=\"url(#clip442)\" d=\"M1230.24 384.463 L1230.24 1486.45 L1254.68 1486.45 L1254.68 384.463 L1230.24 384.463 L1230.24 384.463  Z\" fill=\"#009af9\" fill-rule=\"evenodd\" fill-opacity=\"0.8\"/>\n",
       "<polyline clip-path=\"url(#clip442)\" style=\"stroke:#000000; stroke-linecap:round; stroke-linejoin:round; stroke-width:4; stroke-opacity:0.8; fill:none\" points=\"1230.24,384.463 1230.24,1486.45 1254.68,1486.45 1254.68,384.463 1230.24,384.463 \"/>\n",
       "<path clip-path=\"url(#clip442)\" d=\"M1254.68 312.202 L1254.68 1486.45 L1279.11 1486.45 L1279.11 312.202 L1254.68 312.202 L1254.68 312.202  Z\" fill=\"#009af9\" fill-rule=\"evenodd\" fill-opacity=\"0.8\"/>\n",
       "<polyline clip-path=\"url(#clip442)\" style=\"stroke:#000000; stroke-linecap:round; stroke-linejoin:round; stroke-width:4; stroke-opacity:0.8; fill:none\" points=\"1254.68,312.202 1254.68,1486.45 1279.11,1486.45 1279.11,312.202 1254.68,312.202 \"/>\n",
       "<path clip-path=\"url(#clip442)\" d=\"M1279.11 47.2441 L1279.11 1486.45 L1303.54 1486.45 L1303.54 47.2441 L1279.11 47.2441 L1279.11 47.2441  Z\" fill=\"#009af9\" fill-rule=\"evenodd\" fill-opacity=\"0.8\"/>\n",
       "<polyline clip-path=\"url(#clip442)\" style=\"stroke:#000000; stroke-linecap:round; stroke-linejoin:round; stroke-width:4; stroke-opacity:0.8; fill:none\" points=\"1279.11,47.2441 1279.11,1486.45 1303.54,1486.45 1303.54,47.2441 1279.11,47.2441 \"/>\n",
       "<path clip-path=\"url(#clip442)\" d=\"M1303.54 306.18 L1303.54 1486.45 L1327.97 1486.45 L1327.97 306.18 L1303.54 306.18 L1303.54 306.18  Z\" fill=\"#009af9\" fill-rule=\"evenodd\" fill-opacity=\"0.8\"/>\n",
       "<polyline clip-path=\"url(#clip442)\" style=\"stroke:#000000; stroke-linecap:round; stroke-linejoin:round; stroke-width:4; stroke-opacity:0.8; fill:none\" points=\"1303.54,306.18 1303.54,1486.45 1327.97,1486.45 1327.97,306.18 1303.54,306.18 \"/>\n",
       "<path clip-path=\"url(#clip442)\" d=\"M1327.97 264.028 L1327.97 1486.45 L1352.41 1486.45 L1352.41 264.028 L1327.97 264.028 L1327.97 264.028  Z\" fill=\"#009af9\" fill-rule=\"evenodd\" fill-opacity=\"0.8\"/>\n",
       "<polyline clip-path=\"url(#clip442)\" style=\"stroke:#000000; stroke-linecap:round; stroke-linejoin:round; stroke-width:4; stroke-opacity:0.8; fill:none\" points=\"1327.97,264.028 1327.97,1486.45 1352.41,1486.45 1352.41,264.028 1327.97,264.028 \"/>\n",
       "<path clip-path=\"url(#clip442)\" d=\"M1352.41 438.659 L1352.41 1486.45 L1376.84 1486.45 L1376.84 438.659 L1352.41 438.659 L1352.41 438.659  Z\" fill=\"#009af9\" fill-rule=\"evenodd\" fill-opacity=\"0.8\"/>\n",
       "<polyline clip-path=\"url(#clip442)\" style=\"stroke:#000000; stroke-linecap:round; stroke-linejoin:round; stroke-width:4; stroke-opacity:0.8; fill:none\" points=\"1352.41,438.659 1352.41,1486.45 1376.84,1486.45 1376.84,438.659 1352.41,438.659 \"/>\n",
       "<path clip-path=\"url(#clip442)\" d=\"M1376.84 516.942 L1376.84 1486.45 L1401.27 1486.45 L1401.27 516.942 L1376.84 516.942 L1376.84 516.942  Z\" fill=\"#009af9\" fill-rule=\"evenodd\" fill-opacity=\"0.8\"/>\n",
       "<polyline clip-path=\"url(#clip442)\" style=\"stroke:#000000; stroke-linecap:round; stroke-linejoin:round; stroke-width:4; stroke-opacity:0.8; fill:none\" points=\"1376.84,516.942 1376.84,1486.45 1401.27,1486.45 1401.27,516.942 1376.84,516.942 \"/>\n",
       "<path clip-path=\"url(#clip442)\" d=\"M1401.27 498.877 L1401.27 1486.45 L1425.7 1486.45 L1425.7 498.877 L1401.27 498.877 L1401.27 498.877  Z\" fill=\"#009af9\" fill-rule=\"evenodd\" fill-opacity=\"0.8\"/>\n",
       "<polyline clip-path=\"url(#clip442)\" style=\"stroke:#000000; stroke-linecap:round; stroke-linejoin:round; stroke-width:4; stroke-opacity:0.8; fill:none\" points=\"1401.27,498.877 1401.27,1486.45 1425.7,1486.45 1425.7,498.877 1401.27,498.877 \"/>\n",
       "<path clip-path=\"url(#clip442)\" d=\"M1425.7 559.095 L1425.7 1486.45 L1450.13 1486.45 L1450.13 559.095 L1425.7 559.095 L1425.7 559.095  Z\" fill=\"#009af9\" fill-rule=\"evenodd\" fill-opacity=\"0.8\"/>\n",
       "<polyline clip-path=\"url(#clip442)\" style=\"stroke:#000000; stroke-linecap:round; stroke-linejoin:round; stroke-width:4; stroke-opacity:0.8; fill:none\" points=\"1425.7,559.095 1425.7,1486.45 1450.13,1486.45 1450.13,559.095 1425.7,559.095 \"/>\n",
       "<path clip-path=\"url(#clip442)\" d=\"M1450.13 589.204 L1450.13 1486.45 L1474.57 1486.45 L1474.57 589.204 L1450.13 589.204 L1450.13 589.204  Z\" fill=\"#009af9\" fill-rule=\"evenodd\" fill-opacity=\"0.8\"/>\n",
       "<polyline clip-path=\"url(#clip442)\" style=\"stroke:#000000; stroke-linecap:round; stroke-linejoin:round; stroke-width:4; stroke-opacity:0.8; fill:none\" points=\"1450.13,589.204 1450.13,1486.45 1474.57,1486.45 1474.57,589.204 1450.13,589.204 \"/>\n",
       "<path clip-path=\"url(#clip442)\" d=\"M1474.57 703.617 L1474.57 1486.45 L1499 1486.45 L1499 703.617 L1474.57 703.617 L1474.57 703.617  Z\" fill=\"#009af9\" fill-rule=\"evenodd\" fill-opacity=\"0.8\"/>\n",
       "<polyline clip-path=\"url(#clip442)\" style=\"stroke:#000000; stroke-linecap:round; stroke-linejoin:round; stroke-width:4; stroke-opacity:0.8; fill:none\" points=\"1474.57,703.617 1474.57,1486.45 1499,1486.45 1499,703.617 1474.57,703.617 \"/>\n",
       "<path clip-path=\"url(#clip442)\" d=\"M1499 956.532 L1499 1486.45 L1523.43 1486.45 L1523.43 956.532 L1499 956.532 L1499 956.532  Z\" fill=\"#009af9\" fill-rule=\"evenodd\" fill-opacity=\"0.8\"/>\n",
       "<polyline clip-path=\"url(#clip442)\" style=\"stroke:#000000; stroke-linecap:round; stroke-linejoin:round; stroke-width:4; stroke-opacity:0.8; fill:none\" points=\"1499,956.532 1499,1486.45 1523.43,1486.45 1523.43,956.532 1499,956.532 \"/>\n",
       "<path clip-path=\"url(#clip442)\" d=\"M1523.43 914.379 L1523.43 1486.45 L1547.86 1486.45 L1547.86 914.379 L1523.43 914.379 L1523.43 914.379  Z\" fill=\"#009af9\" fill-rule=\"evenodd\" fill-opacity=\"0.8\"/>\n",
       "<polyline clip-path=\"url(#clip442)\" style=\"stroke:#000000; stroke-linecap:round; stroke-linejoin:round; stroke-width:4; stroke-opacity:0.8; fill:none\" points=\"1523.43,914.379 1523.43,1486.45 1547.86,1486.45 1547.86,914.379 1523.43,914.379 \"/>\n",
       "<path clip-path=\"url(#clip442)\" d=\"M1547.86 974.597 L1547.86 1486.45 L1572.3 1486.45 L1572.3 974.597 L1547.86 974.597 L1547.86 974.597  Z\" fill=\"#009af9\" fill-rule=\"evenodd\" fill-opacity=\"0.8\"/>\n",
       "<polyline clip-path=\"url(#clip442)\" style=\"stroke:#000000; stroke-linecap:round; stroke-linejoin:round; stroke-width:4; stroke-opacity:0.8; fill:none\" points=\"1547.86,974.597 1547.86,1486.45 1572.3,1486.45 1572.3,974.597 1547.86,974.597 \"/>\n",
       "<path clip-path=\"url(#clip442)\" d=\"M1572.3 986.641 L1572.3 1486.45 L1596.73 1486.45 L1596.73 986.641 L1572.3 986.641 L1572.3 986.641  Z\" fill=\"#009af9\" fill-rule=\"evenodd\" fill-opacity=\"0.8\"/>\n",
       "<polyline clip-path=\"url(#clip442)\" style=\"stroke:#000000; stroke-linecap:round; stroke-linejoin:round; stroke-width:4; stroke-opacity:0.8; fill:none\" points=\"1572.3,986.641 1572.3,1486.45 1596.73,1486.45 1596.73,986.641 1572.3,986.641 \"/>\n",
       "<path clip-path=\"url(#clip442)\" d=\"M1596.73 1095.03 L1596.73 1486.45 L1621.16 1486.45 L1621.16 1095.03 L1596.73 1095.03 L1596.73 1095.03  Z\" fill=\"#009af9\" fill-rule=\"evenodd\" fill-opacity=\"0.8\"/>\n",
       "<polyline clip-path=\"url(#clip442)\" style=\"stroke:#000000; stroke-linecap:round; stroke-linejoin:round; stroke-width:4; stroke-opacity:0.8; fill:none\" points=\"1596.73,1095.03 1596.73,1486.45 1621.16,1486.45 1621.16,1095.03 1596.73,1095.03 \"/>\n",
       "<path clip-path=\"url(#clip442)\" d=\"M1621.16 1191.38 L1621.16 1486.45 L1645.59 1486.45 L1645.59 1191.38 L1621.16 1191.38 L1621.16 1191.38  Z\" fill=\"#009af9\" fill-rule=\"evenodd\" fill-opacity=\"0.8\"/>\n",
       "<polyline clip-path=\"url(#clip442)\" style=\"stroke:#000000; stroke-linecap:round; stroke-linejoin:round; stroke-width:4; stroke-opacity:0.8; fill:none\" points=\"1621.16,1191.38 1621.16,1486.45 1645.59,1486.45 1645.59,1191.38 1621.16,1191.38 \"/>\n",
       "<path clip-path=\"url(#clip442)\" d=\"M1645.59 1281.71 L1645.59 1486.45 L1670.02 1486.45 L1670.02 1281.71 L1645.59 1281.71 L1645.59 1281.71  Z\" fill=\"#009af9\" fill-rule=\"evenodd\" fill-opacity=\"0.8\"/>\n",
       "<polyline clip-path=\"url(#clip442)\" style=\"stroke:#000000; stroke-linecap:round; stroke-linejoin:round; stroke-width:4; stroke-opacity:0.8; fill:none\" points=\"1645.59,1281.71 1645.59,1486.45 1670.02,1486.45 1670.02,1281.71 1645.59,1281.71 \"/>\n",
       "<path clip-path=\"url(#clip442)\" d=\"M1670.02 1347.95 L1670.02 1486.45 L1694.46 1486.45 L1694.46 1347.95 L1670.02 1347.95 L1670.02 1347.95  Z\" fill=\"#009af9\" fill-rule=\"evenodd\" fill-opacity=\"0.8\"/>\n",
       "<polyline clip-path=\"url(#clip442)\" style=\"stroke:#000000; stroke-linecap:round; stroke-linejoin:round; stroke-width:4; stroke-opacity:0.8; fill:none\" points=\"1670.02,1347.95 1670.02,1486.45 1694.46,1486.45 1694.46,1347.95 1670.02,1347.95 \"/>\n",
       "<path clip-path=\"url(#clip442)\" d=\"M1694.46 1347.95 L1694.46 1486.45 L1718.89 1486.45 L1718.89 1347.95 L1694.46 1347.95 L1694.46 1347.95  Z\" fill=\"#009af9\" fill-rule=\"evenodd\" fill-opacity=\"0.8\"/>\n",
       "<polyline clip-path=\"url(#clip442)\" style=\"stroke:#000000; stroke-linecap:round; stroke-linejoin:round; stroke-width:4; stroke-opacity:0.8; fill:none\" points=\"1694.46,1347.95 1694.46,1486.45 1718.89,1486.45 1718.89,1347.95 1694.46,1347.95 \"/>\n",
       "<path clip-path=\"url(#clip442)\" d=\"M1718.89 1347.95 L1718.89 1486.45 L1743.32 1486.45 L1743.32 1347.95 L1718.89 1347.95 L1718.89 1347.95  Z\" fill=\"#009af9\" fill-rule=\"evenodd\" fill-opacity=\"0.8\"/>\n",
       "<polyline clip-path=\"url(#clip442)\" style=\"stroke:#000000; stroke-linecap:round; stroke-linejoin:round; stroke-width:4; stroke-opacity:0.8; fill:none\" points=\"1718.89,1347.95 1718.89,1486.45 1743.32,1486.45 1743.32,1347.95 1718.89,1347.95 \"/>\n",
       "<path clip-path=\"url(#clip442)\" d=\"M1743.32 1353.97 L1743.32 1486.45 L1767.75 1486.45 L1767.75 1353.97 L1743.32 1353.97 L1743.32 1353.97  Z\" fill=\"#009af9\" fill-rule=\"evenodd\" fill-opacity=\"0.8\"/>\n",
       "<polyline clip-path=\"url(#clip442)\" style=\"stroke:#000000; stroke-linecap:round; stroke-linejoin:round; stroke-width:4; stroke-opacity:0.8; fill:none\" points=\"1743.32,1353.97 1743.32,1486.45 1767.75,1486.45 1767.75,1353.97 1743.32,1353.97 \"/>\n",
       "<path clip-path=\"url(#clip442)\" d=\"M1767.75 1444.3 L1767.75 1486.45 L1792.18 1486.45 L1792.18 1444.3 L1767.75 1444.3 L1767.75 1444.3  Z\" fill=\"#009af9\" fill-rule=\"evenodd\" fill-opacity=\"0.8\"/>\n",
       "<polyline clip-path=\"url(#clip442)\" style=\"stroke:#000000; stroke-linecap:round; stroke-linejoin:round; stroke-width:4; stroke-opacity:0.8; fill:none\" points=\"1767.75,1444.3 1767.75,1486.45 1792.18,1486.45 1792.18,1444.3 1767.75,1444.3 \"/>\n",
       "<path clip-path=\"url(#clip442)\" d=\"M1792.18 1426.23 L1792.18 1486.45 L1816.62 1486.45 L1816.62 1426.23 L1792.18 1426.23 L1792.18 1426.23  Z\" fill=\"#009af9\" fill-rule=\"evenodd\" fill-opacity=\"0.8\"/>\n",
       "<polyline clip-path=\"url(#clip442)\" style=\"stroke:#000000; stroke-linecap:round; stroke-linejoin:round; stroke-width:4; stroke-opacity:0.8; fill:none\" points=\"1792.18,1426.23 1792.18,1486.45 1816.62,1486.45 1816.62,1426.23 1792.18,1426.23 \"/>\n",
       "<path clip-path=\"url(#clip442)\" d=\"M1816.62 1420.21 L1816.62 1486.45 L1841.05 1486.45 L1841.05 1420.21 L1816.62 1420.21 L1816.62 1420.21  Z\" fill=\"#009af9\" fill-rule=\"evenodd\" fill-opacity=\"0.8\"/>\n",
       "<polyline clip-path=\"url(#clip442)\" style=\"stroke:#000000; stroke-linecap:round; stroke-linejoin:round; stroke-width:4; stroke-opacity:0.8; fill:none\" points=\"1816.62,1420.21 1816.62,1486.45 1841.05,1486.45 1841.05,1420.21 1816.62,1420.21 \"/>\n",
       "<path clip-path=\"url(#clip442)\" d=\"M1841.05 1444.3 L1841.05 1486.45 L1865.48 1486.45 L1865.48 1444.3 L1841.05 1444.3 L1841.05 1444.3  Z\" fill=\"#009af9\" fill-rule=\"evenodd\" fill-opacity=\"0.8\"/>\n",
       "<polyline clip-path=\"url(#clip442)\" style=\"stroke:#000000; stroke-linecap:round; stroke-linejoin:round; stroke-width:4; stroke-opacity:0.8; fill:none\" points=\"1841.05,1444.3 1841.05,1486.45 1865.48,1486.45 1865.48,1444.3 1841.05,1444.3 \"/>\n",
       "<path clip-path=\"url(#clip442)\" d=\"M1865.48 1450.32 L1865.48 1486.45 L1889.91 1486.45 L1889.91 1450.32 L1865.48 1450.32 L1865.48 1450.32  Z\" fill=\"#009af9\" fill-rule=\"evenodd\" fill-opacity=\"0.8\"/>\n",
       "<polyline clip-path=\"url(#clip442)\" style=\"stroke:#000000; stroke-linecap:round; stroke-linejoin:round; stroke-width:4; stroke-opacity:0.8; fill:none\" points=\"1865.48,1450.32 1865.48,1486.45 1889.91,1486.45 1889.91,1450.32 1865.48,1450.32 \"/>\n",
       "<path clip-path=\"url(#clip442)\" d=\"M1889.91 1438.27 L1889.91 1486.45 L1914.35 1486.45 L1914.35 1438.27 L1889.91 1438.27 L1889.91 1438.27  Z\" fill=\"#009af9\" fill-rule=\"evenodd\" fill-opacity=\"0.8\"/>\n",
       "<polyline clip-path=\"url(#clip442)\" style=\"stroke:#000000; stroke-linecap:round; stroke-linejoin:round; stroke-width:4; stroke-opacity:0.8; fill:none\" points=\"1889.91,1438.27 1889.91,1486.45 1914.35,1486.45 1914.35,1438.27 1889.91,1438.27 \"/>\n",
       "<path clip-path=\"url(#clip442)\" d=\"M1914.35 1468.38 L1914.35 1486.45 L1938.78 1486.45 L1938.78 1468.38 L1914.35 1468.38 L1914.35 1468.38  Z\" fill=\"#009af9\" fill-rule=\"evenodd\" fill-opacity=\"0.8\"/>\n",
       "<polyline clip-path=\"url(#clip442)\" style=\"stroke:#000000; stroke-linecap:round; stroke-linejoin:round; stroke-width:4; stroke-opacity:0.8; fill:none\" points=\"1914.35,1468.38 1914.35,1486.45 1938.78,1486.45 1938.78,1468.38 1914.35,1468.38 \"/>\n",
       "<path clip-path=\"url(#clip442)\" d=\"M1938.78 1474.4 L1938.78 1486.45 L1963.21 1486.45 L1963.21 1474.4 L1938.78 1474.4 L1938.78 1474.4  Z\" fill=\"#009af9\" fill-rule=\"evenodd\" fill-opacity=\"0.8\"/>\n",
       "<polyline clip-path=\"url(#clip442)\" style=\"stroke:#000000; stroke-linecap:round; stroke-linejoin:round; stroke-width:4; stroke-opacity:0.8; fill:none\" points=\"1938.78,1474.4 1938.78,1486.45 1963.21,1486.45 1963.21,1474.4 1938.78,1474.4 \"/>\n",
       "<path clip-path=\"url(#clip442)\" d=\"M1963.21 1456.34 L1963.21 1486.45 L1987.64 1486.45 L1987.64 1456.34 L1963.21 1456.34 L1963.21 1456.34  Z\" fill=\"#009af9\" fill-rule=\"evenodd\" fill-opacity=\"0.8\"/>\n",
       "<polyline clip-path=\"url(#clip442)\" style=\"stroke:#000000; stroke-linecap:round; stroke-linejoin:round; stroke-width:4; stroke-opacity:0.8; fill:none\" points=\"1963.21,1456.34 1963.21,1486.45 1987.64,1486.45 1987.64,1456.34 1963.21,1456.34 \"/>\n",
       "<path clip-path=\"url(#clip442)\" d=\"M1987.64 1486.45 L1987.64 1486.45 L2012.07 1486.45 L2012.07 1486.45 L1987.64 1486.45 L1987.64 1486.45  Z\" fill=\"#009af9\" fill-rule=\"evenodd\" fill-opacity=\"0.8\"/>\n",
       "<polyline clip-path=\"url(#clip442)\" style=\"stroke:#000000; stroke-linecap:round; stroke-linejoin:round; stroke-width:4; stroke-opacity:0.8; fill:none\" points=\"1987.64,1486.45 1987.64,1486.45 2012.07,1486.45 1987.64,1486.45 \"/>\n",
       "<path clip-path=\"url(#clip442)\" d=\"M2012.07 1480.43 L2012.07 1486.45 L2036.51 1486.45 L2036.51 1480.43 L2012.07 1480.43 L2012.07 1480.43  Z\" fill=\"#009af9\" fill-rule=\"evenodd\" fill-opacity=\"0.8\"/>\n",
       "<polyline clip-path=\"url(#clip442)\" style=\"stroke:#000000; stroke-linecap:round; stroke-linejoin:round; stroke-width:4; stroke-opacity:0.8; fill:none\" points=\"2012.07,1480.43 2012.07,1486.45 2036.51,1486.45 2036.51,1480.43 2012.07,1480.43 \"/>\n",
       "<path clip-path=\"url(#clip442)\" d=\"M2036.51 1486.45 L2036.51 1486.45 L2060.94 1486.45 L2060.94 1486.45 L2036.51 1486.45 L2036.51 1486.45  Z\" fill=\"#009af9\" fill-rule=\"evenodd\" fill-opacity=\"0.8\"/>\n",
       "<polyline clip-path=\"url(#clip442)\" style=\"stroke:#000000; stroke-linecap:round; stroke-linejoin:round; stroke-width:4; stroke-opacity:0.8; fill:none\" points=\"2036.51,1486.45 2036.51,1486.45 2060.94,1486.45 2036.51,1486.45 \"/>\n",
       "<path clip-path=\"url(#clip442)\" d=\"M2060.94 1486.45 L2060.94 1486.45 L2085.37 1486.45 L2085.37 1486.45 L2060.94 1486.45 L2060.94 1486.45  Z\" fill=\"#009af9\" fill-rule=\"evenodd\" fill-opacity=\"0.8\"/>\n",
       "<polyline clip-path=\"url(#clip442)\" style=\"stroke:#000000; stroke-linecap:round; stroke-linejoin:round; stroke-width:4; stroke-opacity:0.8; fill:none\" points=\"2060.94,1486.45 2060.94,1486.45 2085.37,1486.45 2060.94,1486.45 \"/>\n",
       "<path clip-path=\"url(#clip442)\" d=\"M2085.37 1486.45 L2085.37 1486.45 L2109.8 1486.45 L2109.8 1486.45 L2085.37 1486.45 L2085.37 1486.45  Z\" fill=\"#009af9\" fill-rule=\"evenodd\" fill-opacity=\"0.8\"/>\n",
       "<polyline clip-path=\"url(#clip442)\" style=\"stroke:#000000; stroke-linecap:round; stroke-linejoin:round; stroke-width:4; stroke-opacity:0.8; fill:none\" points=\"2085.37,1486.45 2085.37,1486.45 2109.8,1486.45 2085.37,1486.45 \"/>\n",
       "<path clip-path=\"url(#clip442)\" d=\"M2109.8 1480.43 L2109.8 1486.45 L2134.23 1486.45 L2134.23 1480.43 L2109.8 1480.43 L2109.8 1480.43  Z\" fill=\"#009af9\" fill-rule=\"evenodd\" fill-opacity=\"0.8\"/>\n",
       "<polyline clip-path=\"url(#clip442)\" style=\"stroke:#000000; stroke-linecap:round; stroke-linejoin:round; stroke-width:4; stroke-opacity:0.8; fill:none\" points=\"2109.8,1480.43 2109.8,1486.45 2134.23,1486.45 2134.23,1480.43 2109.8,1480.43 \"/>\n",
       "<path clip-path=\"url(#clip442)\" d=\"M2134.23 1486.45 L2134.23 1486.45 L2158.67 1486.45 L2158.67 1486.45 L2134.23 1486.45 L2134.23 1486.45  Z\" fill=\"#009af9\" fill-rule=\"evenodd\" fill-opacity=\"0.8\"/>\n",
       "<polyline clip-path=\"url(#clip442)\" style=\"stroke:#000000; stroke-linecap:round; stroke-linejoin:round; stroke-width:4; stroke-opacity:0.8; fill:none\" points=\"2134.23,1486.45 2134.23,1486.45 2158.67,1486.45 2134.23,1486.45 \"/>\n",
       "<path clip-path=\"url(#clip442)\" d=\"M2158.67 1486.45 L2158.67 1486.45 L2183.1 1486.45 L2183.1 1486.45 L2158.67 1486.45 L2158.67 1486.45  Z\" fill=\"#009af9\" fill-rule=\"evenodd\" fill-opacity=\"0.8\"/>\n",
       "<polyline clip-path=\"url(#clip442)\" style=\"stroke:#000000; stroke-linecap:round; stroke-linejoin:round; stroke-width:4; stroke-opacity:0.8; fill:none\" points=\"2158.67,1486.45 2158.67,1486.45 2183.1,1486.45 2158.67,1486.45 \"/>\n",
       "<path clip-path=\"url(#clip442)\" d=\"M2183.1 1486.45 L2183.1 1486.45 L2207.53 1486.45 L2207.53 1486.45 L2183.1 1486.45 L2183.1 1486.45  Z\" fill=\"#009af9\" fill-rule=\"evenodd\" fill-opacity=\"0.8\"/>\n",
       "<polyline clip-path=\"url(#clip442)\" style=\"stroke:#000000; stroke-linecap:round; stroke-linejoin:round; stroke-width:4; stroke-opacity:0.8; fill:none\" points=\"2183.1,1486.45 2183.1,1486.45 2207.53,1486.45 2183.1,1486.45 \"/>\n",
       "<path clip-path=\"url(#clip442)\" d=\"M2207.53 1480.43 L2207.53 1486.45 L2231.96 1486.45 L2231.96 1480.43 L2207.53 1480.43 L2207.53 1480.43  Z\" fill=\"#009af9\" fill-rule=\"evenodd\" fill-opacity=\"0.8\"/>\n",
       "<polyline clip-path=\"url(#clip442)\" style=\"stroke:#000000; stroke-linecap:round; stroke-linejoin:round; stroke-width:4; stroke-opacity:0.8; fill:none\" points=\"2207.53,1480.43 2207.53,1486.45 2231.96,1486.45 2231.96,1480.43 2207.53,1480.43 \"/>\n",
       "<circle clip-path=\"url(#clip442)\" style=\"fill:#009af9; stroke:none; fill-opacity:0\" cx=\"289.607\" cy=\"1480.43\" r=\"2\"/>\n",
       "<circle clip-path=\"url(#clip442)\" style=\"fill:#009af9; stroke:none; fill-opacity:0\" cx=\"314.039\" cy=\"1486.45\" r=\"2\"/>\n",
       "<circle clip-path=\"url(#clip442)\" style=\"fill:#009af9; stroke:none; fill-opacity:0\" cx=\"338.471\" cy=\"1486.45\" r=\"2\"/>\n",
       "<circle clip-path=\"url(#clip442)\" style=\"fill:#009af9; stroke:none; fill-opacity:0\" cx=\"362.903\" cy=\"1480.43\" r=\"2\"/>\n",
       "<circle clip-path=\"url(#clip442)\" style=\"fill:#009af9; stroke:none; fill-opacity:0\" cx=\"387.336\" cy=\"1486.45\" r=\"2\"/>\n",
       "<circle clip-path=\"url(#clip442)\" style=\"fill:#009af9; stroke:none; fill-opacity:0\" cx=\"411.768\" cy=\"1480.43\" r=\"2\"/>\n",
       "<circle clip-path=\"url(#clip442)\" style=\"fill:#009af9; stroke:none; fill-opacity:0\" cx=\"436.2\" cy=\"1474.4\" r=\"2\"/>\n",
       "<circle clip-path=\"url(#clip442)\" style=\"fill:#009af9; stroke:none; fill-opacity:0\" cx=\"460.632\" cy=\"1486.45\" r=\"2\"/>\n",
       "<circle clip-path=\"url(#clip442)\" style=\"fill:#009af9; stroke:none; fill-opacity:0\" cx=\"485.064\" cy=\"1468.38\" r=\"2\"/>\n",
       "<circle clip-path=\"url(#clip442)\" style=\"fill:#009af9; stroke:none; fill-opacity:0\" cx=\"509.496\" cy=\"1456.34\" r=\"2\"/>\n",
       "<circle clip-path=\"url(#clip442)\" style=\"fill:#009af9; stroke:none; fill-opacity:0\" cx=\"533.928\" cy=\"1486.45\" r=\"2\"/>\n",
       "<circle clip-path=\"url(#clip442)\" style=\"fill:#009af9; stroke:none; fill-opacity:0\" cx=\"558.361\" cy=\"1474.4\" r=\"2\"/>\n",
       "<circle clip-path=\"url(#clip442)\" style=\"fill:#009af9; stroke:none; fill-opacity:0\" cx=\"582.793\" cy=\"1468.38\" r=\"2\"/>\n",
       "<circle clip-path=\"url(#clip442)\" style=\"fill:#009af9; stroke:none; fill-opacity:0\" cx=\"607.225\" cy=\"1426.23\" r=\"2\"/>\n",
       "<circle clip-path=\"url(#clip442)\" style=\"fill:#009af9; stroke:none; fill-opacity:0\" cx=\"631.657\" cy=\"1444.3\" r=\"2\"/>\n",
       "<circle clip-path=\"url(#clip442)\" style=\"fill:#009af9; stroke:none; fill-opacity:0\" cx=\"656.089\" cy=\"1438.27\" r=\"2\"/>\n",
       "<circle clip-path=\"url(#clip442)\" style=\"fill:#009af9; stroke:none; fill-opacity:0\" cx=\"680.521\" cy=\"1353.97\" r=\"2\"/>\n",
       "<circle clip-path=\"url(#clip442)\" style=\"fill:#009af9; stroke:none; fill-opacity:0\" cx=\"704.954\" cy=\"1323.86\" r=\"2\"/>\n",
       "<circle clip-path=\"url(#clip442)\" style=\"fill:#009af9; stroke:none; fill-opacity:0\" cx=\"729.386\" cy=\"1311.82\" r=\"2\"/>\n",
       "<circle clip-path=\"url(#clip442)\" style=\"fill:#009af9; stroke:none; fill-opacity:0\" cx=\"753.818\" cy=\"1317.84\" r=\"2\"/>\n",
       "<circle clip-path=\"url(#clip442)\" style=\"fill:#009af9; stroke:none; fill-opacity:0\" cx=\"778.25\" cy=\"1227.51\" r=\"2\"/>\n",
       "<circle clip-path=\"url(#clip442)\" style=\"fill:#009af9; stroke:none; fill-opacity:0\" cx=\"802.682\" cy=\"1251.6\" r=\"2\"/>\n",
       "<circle clip-path=\"url(#clip442)\" style=\"fill:#009af9; stroke:none; fill-opacity:0\" cx=\"827.114\" cy=\"1251.6\" r=\"2\"/>\n",
       "<circle clip-path=\"url(#clip442)\" style=\"fill:#009af9; stroke:none; fill-opacity:0\" cx=\"851.546\" cy=\"1107.08\" r=\"2\"/>\n",
       "<circle clip-path=\"url(#clip442)\" style=\"fill:#009af9; stroke:none; fill-opacity:0\" cx=\"875.979\" cy=\"1119.12\" r=\"2\"/>\n",
       "<circle clip-path=\"url(#clip442)\" style=\"fill:#009af9; stroke:none; fill-opacity:0\" cx=\"900.411\" cy=\"1010.73\" r=\"2\"/>\n",
       "<circle clip-path=\"url(#clip442)\" style=\"fill:#009af9; stroke:none; fill-opacity:0\" cx=\"924.843\" cy=\"872.227\" r=\"2\"/>\n",
       "<circle clip-path=\"url(#clip442)\" style=\"fill:#009af9; stroke:none; fill-opacity:0\" cx=\"949.275\" cy=\"866.205\" r=\"2\"/>\n",
       "<circle clip-path=\"url(#clip442)\" style=\"fill:#009af9; stroke:none; fill-opacity:0\" cx=\"973.707\" cy=\"902.336\" r=\"2\"/>\n",
       "<circle clip-path=\"url(#clip442)\" style=\"fill:#009af9; stroke:none; fill-opacity:0\" cx=\"998.139\" cy=\"661.465\" r=\"2\"/>\n",
       "<circle clip-path=\"url(#clip442)\" style=\"fill:#009af9; stroke:none; fill-opacity:0\" cx=\"1022.57\" cy=\"781.9\" r=\"2\"/>\n",
       "<circle clip-path=\"url(#clip442)\" style=\"fill:#009af9; stroke:none; fill-opacity:0\" cx=\"1047\" cy=\"691.574\" r=\"2\"/>\n",
       "<circle clip-path=\"url(#clip442)\" style=\"fill:#009af9; stroke:none; fill-opacity:0\" cx=\"1071.44\" cy=\"498.877\" r=\"2\"/>\n",
       "<circle clip-path=\"url(#clip442)\" style=\"fill:#009af9; stroke:none; fill-opacity:0\" cx=\"1095.87\" cy=\"450.703\" r=\"2\"/>\n",
       "<circle clip-path=\"url(#clip442)\" style=\"fill:#009af9; stroke:none; fill-opacity:0\" cx=\"1120.3\" cy=\"426.616\" r=\"2\"/>\n",
       "<circle clip-path=\"url(#clip442)\" style=\"fill:#009af9; stroke:none; fill-opacity:0\" cx=\"1144.73\" cy=\"396.507\" r=\"2\"/>\n",
       "<circle clip-path=\"url(#clip442)\" style=\"fill:#009af9; stroke:none; fill-opacity:0\" cx=\"1169.16\" cy=\"384.463\" r=\"2\"/>\n",
       "<circle clip-path=\"url(#clip442)\" style=\"fill:#009af9; stroke:none; fill-opacity:0\" cx=\"1193.6\" cy=\"396.507\" r=\"2\"/>\n",
       "<circle clip-path=\"url(#clip442)\" style=\"fill:#009af9; stroke:none; fill-opacity:0\" cx=\"1218.03\" cy=\"390.485\" r=\"2\"/>\n",
       "<circle clip-path=\"url(#clip442)\" style=\"fill:#009af9; stroke:none; fill-opacity:0\" cx=\"1242.46\" cy=\"384.463\" r=\"2\"/>\n",
       "<circle clip-path=\"url(#clip442)\" style=\"fill:#009af9; stroke:none; fill-opacity:0\" cx=\"1266.89\" cy=\"312.202\" r=\"2\"/>\n",
       "<circle clip-path=\"url(#clip442)\" style=\"fill:#009af9; stroke:none; fill-opacity:0\" cx=\"1291.33\" cy=\"47.2441\" r=\"2\"/>\n",
       "<circle clip-path=\"url(#clip442)\" style=\"fill:#009af9; stroke:none; fill-opacity:0\" cx=\"1315.76\" cy=\"306.18\" r=\"2\"/>\n",
       "<circle clip-path=\"url(#clip442)\" style=\"fill:#009af9; stroke:none; fill-opacity:0\" cx=\"1340.19\" cy=\"264.028\" r=\"2\"/>\n",
       "<circle clip-path=\"url(#clip442)\" style=\"fill:#009af9; stroke:none; fill-opacity:0\" cx=\"1364.62\" cy=\"438.659\" r=\"2\"/>\n",
       "<circle clip-path=\"url(#clip442)\" style=\"fill:#009af9; stroke:none; fill-opacity:0\" cx=\"1389.05\" cy=\"516.942\" r=\"2\"/>\n",
       "<circle clip-path=\"url(#clip442)\" style=\"fill:#009af9; stroke:none; fill-opacity:0\" cx=\"1413.49\" cy=\"498.877\" r=\"2\"/>\n",
       "<circle clip-path=\"url(#clip442)\" style=\"fill:#009af9; stroke:none; fill-opacity:0\" cx=\"1437.92\" cy=\"559.095\" r=\"2\"/>\n",
       "<circle clip-path=\"url(#clip442)\" style=\"fill:#009af9; stroke:none; fill-opacity:0\" cx=\"1462.35\" cy=\"589.204\" r=\"2\"/>\n",
       "<circle clip-path=\"url(#clip442)\" style=\"fill:#009af9; stroke:none; fill-opacity:0\" cx=\"1486.78\" cy=\"703.617\" r=\"2\"/>\n",
       "<circle clip-path=\"url(#clip442)\" style=\"fill:#009af9; stroke:none; fill-opacity:0\" cx=\"1511.21\" cy=\"956.532\" r=\"2\"/>\n",
       "<circle clip-path=\"url(#clip442)\" style=\"fill:#009af9; stroke:none; fill-opacity:0\" cx=\"1535.65\" cy=\"914.379\" r=\"2\"/>\n",
       "<circle clip-path=\"url(#clip442)\" style=\"fill:#009af9; stroke:none; fill-opacity:0\" cx=\"1560.08\" cy=\"974.597\" r=\"2\"/>\n",
       "<circle clip-path=\"url(#clip442)\" style=\"fill:#009af9; stroke:none; fill-opacity:0\" cx=\"1584.51\" cy=\"986.641\" r=\"2\"/>\n",
       "<circle clip-path=\"url(#clip442)\" style=\"fill:#009af9; stroke:none; fill-opacity:0\" cx=\"1608.94\" cy=\"1095.03\" r=\"2\"/>\n",
       "<circle clip-path=\"url(#clip442)\" style=\"fill:#009af9; stroke:none; fill-opacity:0\" cx=\"1633.38\" cy=\"1191.38\" r=\"2\"/>\n",
       "<circle clip-path=\"url(#clip442)\" style=\"fill:#009af9; stroke:none; fill-opacity:0\" cx=\"1657.81\" cy=\"1281.71\" r=\"2\"/>\n",
       "<circle clip-path=\"url(#clip442)\" style=\"fill:#009af9; stroke:none; fill-opacity:0\" cx=\"1682.24\" cy=\"1347.95\" r=\"2\"/>\n",
       "<circle clip-path=\"url(#clip442)\" style=\"fill:#009af9; stroke:none; fill-opacity:0\" cx=\"1706.67\" cy=\"1347.95\" r=\"2\"/>\n",
       "<circle clip-path=\"url(#clip442)\" style=\"fill:#009af9; stroke:none; fill-opacity:0\" cx=\"1731.1\" cy=\"1347.95\" r=\"2\"/>\n",
       "<circle clip-path=\"url(#clip442)\" style=\"fill:#009af9; stroke:none; fill-opacity:0\" cx=\"1755.54\" cy=\"1353.97\" r=\"2\"/>\n",
       "<circle clip-path=\"url(#clip442)\" style=\"fill:#009af9; stroke:none; fill-opacity:0\" cx=\"1779.97\" cy=\"1444.3\" r=\"2\"/>\n",
       "<circle clip-path=\"url(#clip442)\" style=\"fill:#009af9; stroke:none; fill-opacity:0\" cx=\"1804.4\" cy=\"1426.23\" r=\"2\"/>\n",
       "<circle clip-path=\"url(#clip442)\" style=\"fill:#009af9; stroke:none; fill-opacity:0\" cx=\"1828.83\" cy=\"1420.21\" r=\"2\"/>\n",
       "<circle clip-path=\"url(#clip442)\" style=\"fill:#009af9; stroke:none; fill-opacity:0\" cx=\"1853.26\" cy=\"1444.3\" r=\"2\"/>\n",
       "<circle clip-path=\"url(#clip442)\" style=\"fill:#009af9; stroke:none; fill-opacity:0\" cx=\"1877.7\" cy=\"1450.32\" r=\"2\"/>\n",
       "<circle clip-path=\"url(#clip442)\" style=\"fill:#009af9; stroke:none; fill-opacity:0\" cx=\"1902.13\" cy=\"1438.27\" r=\"2\"/>\n",
       "<circle clip-path=\"url(#clip442)\" style=\"fill:#009af9; stroke:none; fill-opacity:0\" cx=\"1926.56\" cy=\"1468.38\" r=\"2\"/>\n",
       "<circle clip-path=\"url(#clip442)\" style=\"fill:#009af9; stroke:none; fill-opacity:0\" cx=\"1950.99\" cy=\"1474.4\" r=\"2\"/>\n",
       "<circle clip-path=\"url(#clip442)\" style=\"fill:#009af9; stroke:none; fill-opacity:0\" cx=\"1975.43\" cy=\"1456.34\" r=\"2\"/>\n",
       "<circle clip-path=\"url(#clip442)\" style=\"fill:#009af9; stroke:none; fill-opacity:0\" cx=\"1999.86\" cy=\"1486.45\" r=\"2\"/>\n",
       "<circle clip-path=\"url(#clip442)\" style=\"fill:#009af9; stroke:none; fill-opacity:0\" cx=\"2024.29\" cy=\"1480.43\" r=\"2\"/>\n",
       "<circle clip-path=\"url(#clip442)\" style=\"fill:#009af9; stroke:none; fill-opacity:0\" cx=\"2048.72\" cy=\"1486.45\" r=\"2\"/>\n",
       "<circle clip-path=\"url(#clip442)\" style=\"fill:#009af9; stroke:none; fill-opacity:0\" cx=\"2073.15\" cy=\"1486.45\" r=\"2\"/>\n",
       "<circle clip-path=\"url(#clip442)\" style=\"fill:#009af9; stroke:none; fill-opacity:0\" cx=\"2097.59\" cy=\"1486.45\" r=\"2\"/>\n",
       "<circle clip-path=\"url(#clip442)\" style=\"fill:#009af9; stroke:none; fill-opacity:0\" cx=\"2122.02\" cy=\"1480.43\" r=\"2\"/>\n",
       "<circle clip-path=\"url(#clip442)\" style=\"fill:#009af9; stroke:none; fill-opacity:0\" cx=\"2146.45\" cy=\"1486.45\" r=\"2\"/>\n",
       "<circle clip-path=\"url(#clip442)\" style=\"fill:#009af9; stroke:none; fill-opacity:0\" cx=\"2170.88\" cy=\"1486.45\" r=\"2\"/>\n",
       "<circle clip-path=\"url(#clip442)\" style=\"fill:#009af9; stroke:none; fill-opacity:0\" cx=\"2195.32\" cy=\"1486.45\" r=\"2\"/>\n",
       "<circle clip-path=\"url(#clip442)\" style=\"fill:#009af9; stroke:none; fill-opacity:0\" cx=\"2219.75\" cy=\"1480.43\" r=\"2\"/>\n",
       "</svg>\n"
      ],
      "text/html": [
       "<?xml version=\"1.0\" encoding=\"utf-8\"?>\n",
       "<svg xmlns=\"http://www.w3.org/2000/svg\" xmlns:xlink=\"http://www.w3.org/1999/xlink\" width=\"600\" height=\"400\" viewBox=\"0 0 2400 1600\">\n",
       "<defs>\n",
       "  <clipPath id=\"clip490\">\n",
       "    <rect x=\"0\" y=\"0\" width=\"2400\" height=\"1600\"/>\n",
       "  </clipPath>\n",
       "</defs>\n",
       "<path clip-path=\"url(#clip490)\" d=\"M0 1600 L2400 1600 L2400 0 L0 0  Z\" fill=\"#ffffff\" fill-rule=\"evenodd\" fill-opacity=\"1\"/>\n",
       "<defs>\n",
       "  <clipPath id=\"clip491\">\n",
       "    <rect x=\"480\" y=\"0\" width=\"1681\" height=\"1600\"/>\n",
       "  </clipPath>\n",
       "</defs>\n",
       "<path clip-path=\"url(#clip490)\" d=\"M156.598 1486.45 L2352.76 1486.45 L2352.76 47.2441 L156.598 47.2441  Z\" fill=\"#ffffff\" fill-rule=\"evenodd\" fill-opacity=\"1\"/>\n",
       "<defs>\n",
       "  <clipPath id=\"clip492\">\n",
       "    <rect x=\"156\" y=\"47\" width=\"2197\" height=\"1440\"/>\n",
       "  </clipPath>\n",
       "</defs>\n",
       "<polyline clip-path=\"url(#clip492)\" style=\"stroke:#000000; stroke-linecap:round; stroke-linejoin:round; stroke-width:2; stroke-opacity:0.1; fill:none\" points=\"252.959,1486.45 252.959,47.2441 \"/>\n",
       "<polyline clip-path=\"url(#clip492)\" style=\"stroke:#000000; stroke-linecap:round; stroke-linejoin:round; stroke-width:2; stroke-opacity:0.1; fill:none\" points=\"741.602,1486.45 741.602,47.2441 \"/>\n",
       "<polyline clip-path=\"url(#clip492)\" style=\"stroke:#000000; stroke-linecap:round; stroke-linejoin:round; stroke-width:2; stroke-opacity:0.1; fill:none\" points=\"1230.24,1486.45 1230.24,47.2441 \"/>\n",
       "<polyline clip-path=\"url(#clip492)\" style=\"stroke:#000000; stroke-linecap:round; stroke-linejoin:round; stroke-width:2; stroke-opacity:0.1; fill:none\" points=\"1718.89,1486.45 1718.89,47.2441 \"/>\n",
       "<polyline clip-path=\"url(#clip492)\" style=\"stroke:#000000; stroke-linecap:round; stroke-linejoin:round; stroke-width:2; stroke-opacity:0.1; fill:none\" points=\"2207.53,1486.45 2207.53,47.2441 \"/>\n",
       "<polyline clip-path=\"url(#clip492)\" style=\"stroke:#000000; stroke-linecap:round; stroke-linejoin:round; stroke-width:2; stroke-opacity:0.1; fill:none\" points=\"156.598,1486.45 2352.76,1486.45 \"/>\n",
       "<polyline clip-path=\"url(#clip492)\" style=\"stroke:#000000; stroke-linecap:round; stroke-linejoin:round; stroke-width:2; stroke-opacity:0.1; fill:none\" points=\"156.598,1185.36 2352.76,1185.36 \"/>\n",
       "<polyline clip-path=\"url(#clip492)\" style=\"stroke:#000000; stroke-linecap:round; stroke-linejoin:round; stroke-width:2; stroke-opacity:0.1; fill:none\" points=\"156.598,884.271 2352.76,884.271 \"/>\n",
       "<polyline clip-path=\"url(#clip492)\" style=\"stroke:#000000; stroke-linecap:round; stroke-linejoin:round; stroke-width:2; stroke-opacity:0.1; fill:none\" points=\"156.598,583.182 2352.76,583.182 \"/>\n",
       "<polyline clip-path=\"url(#clip492)\" style=\"stroke:#000000; stroke-linecap:round; stroke-linejoin:round; stroke-width:2; stroke-opacity:0.1; fill:none\" points=\"156.598,282.093 2352.76,282.093 \"/>\n",
       "<polyline clip-path=\"url(#clip490)\" style=\"stroke:#000000; stroke-linecap:round; stroke-linejoin:round; stroke-width:4; stroke-opacity:1; fill:none\" points=\"156.598,1486.45 2352.76,1486.45 \"/>\n",
       "<polyline clip-path=\"url(#clip490)\" style=\"stroke:#000000; stroke-linecap:round; stroke-linejoin:round; stroke-width:4; stroke-opacity:1; fill:none\" points=\"252.959,1486.45 252.959,1467.55 \"/>\n",
       "<polyline clip-path=\"url(#clip490)\" style=\"stroke:#000000; stroke-linecap:round; stroke-linejoin:round; stroke-width:4; stroke-opacity:1; fill:none\" points=\"741.602,1486.45 741.602,1467.55 \"/>\n",
       "<polyline clip-path=\"url(#clip490)\" style=\"stroke:#000000; stroke-linecap:round; stroke-linejoin:round; stroke-width:4; stroke-opacity:1; fill:none\" points=\"1230.24,1486.45 1230.24,1467.55 \"/>\n",
       "<polyline clip-path=\"url(#clip490)\" style=\"stroke:#000000; stroke-linecap:round; stroke-linejoin:round; stroke-width:4; stroke-opacity:1; fill:none\" points=\"1718.89,1486.45 1718.89,1467.55 \"/>\n",
       "<polyline clip-path=\"url(#clip490)\" style=\"stroke:#000000; stroke-linecap:round; stroke-linejoin:round; stroke-width:4; stroke-opacity:1; fill:none\" points=\"2207.53,1486.45 2207.53,1467.55 \"/>\n",
       "<path clip-path=\"url(#clip490)\" d=\"M221.859 1532.02 L251.535 1532.02 L251.535 1535.95 L221.859 1535.95 L221.859 1532.02 Z\" fill=\"#000000\" fill-rule=\"nonzero\" fill-opacity=\"1\" /><path clip-path=\"url(#clip490)\" d=\"M274.475 1518.36 L262.669 1536.81 L274.475 1536.81 L274.475 1518.36 M273.248 1514.29 L279.128 1514.29 L279.128 1536.81 L284.058 1536.81 L284.058 1540.7 L279.128 1540.7 L279.128 1548.85 L274.475 1548.85 L274.475 1540.7 L258.873 1540.7 L258.873 1536.19 L273.248 1514.29 Z\" fill=\"#000000\" fill-rule=\"nonzero\" fill-opacity=\"1\" /><path clip-path=\"url(#clip490)\" d=\"M711.544 1532.02 L741.22 1532.02 L741.22 1535.95 L711.544 1535.95 L711.544 1532.02 Z\" fill=\"#000000\" fill-rule=\"nonzero\" fill-opacity=\"1\" /><path clip-path=\"url(#clip490)\" d=\"M755.34 1544.91 L771.659 1544.91 L771.659 1548.85 L749.715 1548.85 L749.715 1544.91 Q752.377 1542.16 756.961 1537.53 Q761.567 1532.88 762.748 1531.53 Q764.993 1529.01 765.872 1527.27 Q766.775 1525.51 766.775 1523.82 Q766.775 1521.07 764.831 1519.33 Q762.91 1517.6 759.808 1517.6 Q757.609 1517.6 755.155 1518.36 Q752.724 1519.13 749.947 1520.68 L749.947 1515.95 Q752.771 1514.82 755.224 1514.24 Q757.678 1513.66 759.715 1513.66 Q765.085 1513.66 768.28 1516.35 Q771.474 1519.03 771.474 1523.52 Q771.474 1525.65 770.664 1527.57 Q769.877 1529.47 767.771 1532.07 Q767.192 1532.74 764.09 1535.95 Q760.988 1539.15 755.34 1544.91 Z\" fill=\"#000000\" fill-rule=\"nonzero\" fill-opacity=\"1\" /><path clip-path=\"url(#clip490)\" d=\"M1230.24 1517.37 Q1226.63 1517.37 1224.81 1520.93 Q1223 1524.47 1223 1531.6 Q1223 1538.71 1224.81 1542.27 Q1226.63 1545.82 1230.24 1545.82 Q1233.88 1545.82 1235.68 1542.27 Q1237.51 1538.71 1237.51 1531.6 Q1237.51 1524.47 1235.68 1520.93 Q1233.88 1517.37 1230.24 1517.37 M1230.24 1513.66 Q1236.06 1513.66 1239.11 1518.27 Q1242.19 1522.85 1242.19 1531.6 Q1242.19 1540.33 1239.11 1544.94 Q1236.06 1549.52 1230.24 1549.52 Q1224.43 1549.52 1221.36 1544.94 Q1218.3 1540.33 1218.3 1531.6 Q1218.3 1522.85 1221.36 1518.27 Q1224.43 1513.66 1230.24 1513.66 Z\" fill=\"#000000\" fill-rule=\"nonzero\" fill-opacity=\"1\" /><path clip-path=\"url(#clip490)\" d=\"M1713.54 1544.91 L1729.86 1544.91 L1729.86 1548.85 L1707.92 1548.85 L1707.92 1544.91 Q1710.58 1542.16 1715.16 1537.53 Q1719.77 1532.88 1720.95 1531.53 Q1723.19 1529.01 1724.07 1527.27 Q1724.98 1525.51 1724.98 1523.82 Q1724.98 1521.07 1723.03 1519.33 Q1721.11 1517.6 1718.01 1517.6 Q1715.81 1517.6 1713.36 1518.36 Q1710.93 1519.13 1708.15 1520.68 L1708.15 1515.95 Q1710.97 1514.82 1713.43 1514.24 Q1715.88 1513.66 1717.92 1513.66 Q1723.29 1513.66 1726.48 1516.35 Q1729.68 1519.03 1729.68 1523.52 Q1729.68 1525.65 1728.86 1527.57 Q1728.08 1529.47 1725.97 1532.07 Q1725.39 1532.74 1722.29 1535.95 Q1719.19 1539.15 1713.54 1544.91 Z\" fill=\"#000000\" fill-rule=\"nonzero\" fill-opacity=\"1\" /><path clip-path=\"url(#clip490)\" d=\"M2210.54 1518.36 L2198.73 1536.81 L2210.54 1536.81 L2210.54 1518.36 M2209.31 1514.29 L2215.19 1514.29 L2215.19 1536.81 L2220.12 1536.81 L2220.12 1540.7 L2215.19 1540.7 L2215.19 1548.85 L2210.54 1548.85 L2210.54 1540.7 L2194.94 1540.7 L2194.94 1536.19 L2209.31 1514.29 Z\" fill=\"#000000\" fill-rule=\"nonzero\" fill-opacity=\"1\" /><polyline clip-path=\"url(#clip490)\" style=\"stroke:#000000; stroke-linecap:round; stroke-linejoin:round; stroke-width:4; stroke-opacity:1; fill:none\" points=\"156.598,1486.45 156.598,47.2441 \"/>\n",
       "<polyline clip-path=\"url(#clip490)\" style=\"stroke:#000000; stroke-linecap:round; stroke-linejoin:round; stroke-width:4; stroke-opacity:1; fill:none\" points=\"156.598,1486.45 175.496,1486.45 \"/>\n",
       "<polyline clip-path=\"url(#clip490)\" style=\"stroke:#000000; stroke-linecap:round; stroke-linejoin:round; stroke-width:4; stroke-opacity:1; fill:none\" points=\"156.598,1185.36 175.496,1185.36 \"/>\n",
       "<polyline clip-path=\"url(#clip490)\" style=\"stroke:#000000; stroke-linecap:round; stroke-linejoin:round; stroke-width:4; stroke-opacity:1; fill:none\" points=\"156.598,884.271 175.496,884.271 \"/>\n",
       "<polyline clip-path=\"url(#clip490)\" style=\"stroke:#000000; stroke-linecap:round; stroke-linejoin:round; stroke-width:4; stroke-opacity:1; fill:none\" points=\"156.598,583.182 175.496,583.182 \"/>\n",
       "<polyline clip-path=\"url(#clip490)\" style=\"stroke:#000000; stroke-linecap:round; stroke-linejoin:round; stroke-width:4; stroke-opacity:1; fill:none\" points=\"156.598,282.093 175.496,282.093 \"/>\n",
       "<path clip-path=\"url(#clip490)\" d=\"M63.4226 1472.25 Q59.8115 1472.25 57.9828 1475.81 Q56.1773 1479.35 56.1773 1486.48 Q56.1773 1493.59 57.9828 1497.15 Q59.8115 1500.7 63.4226 1500.7 Q67.0569 1500.7 68.8624 1497.15 Q70.6911 1493.59 70.6911 1486.48 Q70.6911 1479.35 68.8624 1475.81 Q67.0569 1472.25 63.4226 1472.25 M63.4226 1468.54 Q69.2328 1468.54 72.2883 1473.15 Q75.367 1477.73 75.367 1486.48 Q75.367 1495.21 72.2883 1499.82 Q69.2328 1504.4 63.4226 1504.4 Q57.6125 1504.4 54.5338 1499.82 Q51.4782 1495.21 51.4782 1486.48 Q51.4782 1477.73 54.5338 1473.15 Q57.6125 1468.54 63.4226 1468.54 Z\" fill=\"#000000\" fill-rule=\"nonzero\" fill-opacity=\"1\" /><path clip-path=\"url(#clip490)\" d=\"M83.5845 1497.85 L88.4688 1497.85 L88.4688 1503.73 L83.5845 1503.73 L83.5845 1497.85 Z\" fill=\"#000000\" fill-rule=\"nonzero\" fill-opacity=\"1\" /><path clip-path=\"url(#clip490)\" d=\"M108.654 1472.25 Q105.043 1472.25 103.214 1475.81 Q101.409 1479.35 101.409 1486.48 Q101.409 1493.59 103.214 1497.15 Q105.043 1500.7 108.654 1500.7 Q112.288 1500.7 114.094 1497.15 Q115.922 1493.59 115.922 1486.48 Q115.922 1479.35 114.094 1475.81 Q112.288 1472.25 108.654 1472.25 M108.654 1468.54 Q114.464 1468.54 117.52 1473.15 Q120.598 1477.73 120.598 1486.48 Q120.598 1495.21 117.52 1499.82 Q114.464 1504.4 108.654 1504.4 Q102.844 1504.4 99.765 1499.82 Q96.7095 1495.21 96.7095 1486.48 Q96.7095 1477.73 99.765 1473.15 Q102.844 1468.54 108.654 1468.54 Z\" fill=\"#000000\" fill-rule=\"nonzero\" fill-opacity=\"1\" /><path clip-path=\"url(#clip490)\" d=\"M64.6495 1171.16 Q61.0384 1171.16 59.2097 1174.72 Q57.4041 1178.26 57.4041 1185.39 Q57.4041 1192.5 59.2097 1196.07 Q61.0384 1199.61 64.6495 1199.61 Q68.2837 1199.61 70.0892 1196.07 Q71.9179 1192.5 71.9179 1185.39 Q71.9179 1178.26 70.0892 1174.72 Q68.2837 1171.16 64.6495 1171.16 M64.6495 1167.45 Q70.4596 1167.45 73.5152 1172.06 Q76.5938 1176.64 76.5938 1185.39 Q76.5938 1194.12 73.5152 1198.73 Q70.4596 1203.31 64.6495 1203.31 Q58.8393 1203.31 55.7606 1198.73 Q52.7051 1194.12 52.7051 1185.39 Q52.7051 1176.64 55.7606 1172.06 Q58.8393 1167.45 64.6495 1167.45 Z\" fill=\"#000000\" fill-rule=\"nonzero\" fill-opacity=\"1\" /><path clip-path=\"url(#clip490)\" d=\"M84.8114 1196.76 L89.6956 1196.76 L89.6956 1202.64 L84.8114 1202.64 L84.8114 1196.76 Z\" fill=\"#000000\" fill-rule=\"nonzero\" fill-opacity=\"1\" /><path clip-path=\"url(#clip490)\" d=\"M100.691 1198.7 L108.33 1198.7 L108.33 1172.34 L100.02 1174.01 L100.02 1169.75 L108.283 1168.08 L112.959 1168.08 L112.959 1198.7 L120.598 1198.7 L120.598 1202.64 L100.691 1202.64 L100.691 1198.7 Z\" fill=\"#000000\" fill-rule=\"nonzero\" fill-opacity=\"1\" /><path clip-path=\"url(#clip490)\" d=\"M65.0198 870.069 Q61.4087 870.069 59.58 873.634 Q57.7745 877.176 57.7745 884.305 Q57.7745 891.412 59.58 894.977 Q61.4087 898.518 65.0198 898.518 Q68.6541 898.518 70.4596 894.977 Q72.2883 891.412 72.2883 884.305 Q72.2883 877.176 70.4596 873.634 Q68.6541 870.069 65.0198 870.069 M65.0198 866.366 Q70.83 866.366 73.8855 870.972 Q76.9642 875.555 76.9642 884.305 Q76.9642 893.032 73.8855 897.639 Q70.83 902.222 65.0198 902.222 Q59.2097 902.222 56.131 897.639 Q53.0754 893.032 53.0754 884.305 Q53.0754 875.555 56.131 870.972 Q59.2097 866.366 65.0198 866.366 Z\" fill=\"#000000\" fill-rule=\"nonzero\" fill-opacity=\"1\" /><path clip-path=\"url(#clip490)\" d=\"M85.1818 895.671 L90.066 895.671 L90.066 901.551 L85.1818 901.551 L85.1818 895.671 Z\" fill=\"#000000\" fill-rule=\"nonzero\" fill-opacity=\"1\" /><path clip-path=\"url(#clip490)\" d=\"M104.279 897.615 L120.598 897.615 L120.598 901.551 L98.6539 901.551 L98.6539 897.615 Q101.316 894.861 105.899 890.231 Q110.506 885.578 111.686 884.236 Q113.932 881.713 114.811 879.977 Q115.714 878.217 115.714 876.528 Q115.714 873.773 113.77 872.037 Q111.848 870.301 108.746 870.301 Q106.547 870.301 104.094 871.065 Q101.663 871.828 98.8854 873.379 L98.8854 868.657 Q101.709 867.523 104.163 866.944 Q106.617 866.366 108.654 866.366 Q114.024 866.366 117.219 869.051 Q120.413 871.736 120.413 876.227 Q120.413 878.356 119.603 880.278 Q118.816 882.176 116.709 884.768 Q116.131 885.44 113.029 888.657 Q109.927 891.852 104.279 897.615 Z\" fill=\"#000000\" fill-rule=\"nonzero\" fill-opacity=\"1\" /><path clip-path=\"url(#clip490)\" d=\"M64.0708 568.981 Q60.4597 568.981 58.631 572.545 Q56.8254 576.087 56.8254 583.217 Q56.8254 590.323 58.631 593.888 Q60.4597 597.43 64.0708 597.43 Q67.705 597.43 69.5105 593.888 Q71.3392 590.323 71.3392 583.217 Q71.3392 576.087 69.5105 572.545 Q67.705 568.981 64.0708 568.981 M64.0708 565.277 Q69.8809 565.277 72.9365 569.883 Q76.0151 574.467 76.0151 583.217 Q76.0151 591.943 72.9365 596.55 Q69.8809 601.133 64.0708 601.133 Q58.2606 601.133 55.1819 596.55 Q52.1264 591.943 52.1264 583.217 Q52.1264 574.467 55.1819 569.883 Q58.2606 565.277 64.0708 565.277 Z\" fill=\"#000000\" fill-rule=\"nonzero\" fill-opacity=\"1\" /><path clip-path=\"url(#clip490)\" d=\"M84.2327 594.582 L89.1169 594.582 L89.1169 600.462 L84.2327 600.462 L84.2327 594.582 Z\" fill=\"#000000\" fill-rule=\"nonzero\" fill-opacity=\"1\" /><path clip-path=\"url(#clip490)\" d=\"M113.469 581.828 Q116.825 582.545 118.7 584.814 Q120.598 587.082 120.598 590.416 Q120.598 595.531 117.08 598.332 Q113.561 601.133 107.08 601.133 Q104.904 601.133 102.589 600.693 Q100.297 600.277 97.8437 599.42 L97.8437 594.906 Q99.7882 596.041 102.103 596.619 Q104.418 597.198 106.941 597.198 Q111.339 597.198 113.631 595.462 Q115.945 593.726 115.945 590.416 Q115.945 587.36 113.793 585.647 Q111.663 583.911 107.844 583.911 L103.816 583.911 L103.816 580.068 L108.029 580.068 Q111.478 580.068 113.307 578.703 Q115.135 577.314 115.135 574.721 Q115.135 572.059 113.237 570.647 Q111.362 569.212 107.844 569.212 Q105.922 569.212 103.723 569.629 Q101.524 570.045 98.8854 570.925 L98.8854 566.758 Q101.547 566.018 103.862 565.647 Q106.2 565.277 108.26 565.277 Q113.584 565.277 116.686 567.707 Q119.788 570.115 119.788 574.235 Q119.788 577.106 118.145 579.096 Q116.501 581.064 113.469 581.828 Z\" fill=\"#000000\" fill-rule=\"nonzero\" fill-opacity=\"1\" /><path clip-path=\"url(#clip490)\" d=\"M62.9365 267.892 Q59.3254 267.892 57.4967 271.457 Q55.6912 274.998 55.6912 282.128 Q55.6912 289.234 57.4967 292.799 Q59.3254 296.341 62.9365 296.341 Q66.5707 296.341 68.3763 292.799 Q70.205 289.234 70.205 282.128 Q70.205 274.998 68.3763 271.457 Q66.5707 267.892 62.9365 267.892 M62.9365 264.188 Q68.7467 264.188 71.8022 268.795 Q74.8809 273.378 74.8809 282.128 Q74.8809 290.855 71.8022 295.461 Q68.7467 300.045 62.9365 300.045 Q57.1264 300.045 54.0477 295.461 Q50.9921 290.855 50.9921 282.128 Q50.9921 273.378 54.0477 268.795 Q57.1264 264.188 62.9365 264.188 Z\" fill=\"#000000\" fill-rule=\"nonzero\" fill-opacity=\"1\" /><path clip-path=\"url(#clip490)\" d=\"M83.0984 293.494 L87.9827 293.494 L87.9827 299.373 L83.0984 299.373 L83.0984 293.494 Z\" fill=\"#000000\" fill-rule=\"nonzero\" fill-opacity=\"1\" /><path clip-path=\"url(#clip490)\" d=\"M111.015 268.887 L99.2095 287.336 L111.015 287.336 L111.015 268.887 M109.788 264.813 L115.668 264.813 L115.668 287.336 L120.598 287.336 L120.598 291.225 L115.668 291.225 L115.668 299.373 L111.015 299.373 L111.015 291.225 L95.4132 291.225 L95.4132 286.711 L109.788 264.813 Z\" fill=\"#000000\" fill-rule=\"nonzero\" fill-opacity=\"1\" /><path clip-path=\"url(#clip492)\" d=\"M277.391 1480.43 L277.391 1486.45 L301.823 1486.45 L301.823 1480.43 L277.391 1480.43 L277.391 1480.43  Z\" fill=\"#009af9\" fill-rule=\"evenodd\" fill-opacity=\"0.8\"/>\n",
       "<polyline clip-path=\"url(#clip492)\" style=\"stroke:#000000; stroke-linecap:round; stroke-linejoin:round; stroke-width:4; stroke-opacity:0.8; fill:none\" points=\"277.391,1480.43 277.391,1486.45 301.823,1486.45 301.823,1480.43 277.391,1480.43 \"/>\n",
       "<path clip-path=\"url(#clip492)\" d=\"M301.823 1486.45 L301.823 1486.45 L326.255 1486.45 L326.255 1486.45 L301.823 1486.45 L301.823 1486.45  Z\" fill=\"#009af9\" fill-rule=\"evenodd\" fill-opacity=\"0.8\"/>\n",
       "<polyline clip-path=\"url(#clip492)\" style=\"stroke:#000000; stroke-linecap:round; stroke-linejoin:round; stroke-width:4; stroke-opacity:0.8; fill:none\" points=\"301.823,1486.45 301.823,1486.45 326.255,1486.45 301.823,1486.45 \"/>\n",
       "<path clip-path=\"url(#clip492)\" d=\"M326.255 1486.45 L326.255 1486.45 L350.687 1486.45 L350.687 1486.45 L326.255 1486.45 L326.255 1486.45  Z\" fill=\"#009af9\" fill-rule=\"evenodd\" fill-opacity=\"0.8\"/>\n",
       "<polyline clip-path=\"url(#clip492)\" style=\"stroke:#000000; stroke-linecap:round; stroke-linejoin:round; stroke-width:4; stroke-opacity:0.8; fill:none\" points=\"326.255,1486.45 326.255,1486.45 350.687,1486.45 326.255,1486.45 \"/>\n",
       "<path clip-path=\"url(#clip492)\" d=\"M350.687 1480.43 L350.687 1486.45 L375.119 1486.45 L375.119 1480.43 L350.687 1480.43 L350.687 1480.43  Z\" fill=\"#009af9\" fill-rule=\"evenodd\" fill-opacity=\"0.8\"/>\n",
       "<polyline clip-path=\"url(#clip492)\" style=\"stroke:#000000; stroke-linecap:round; stroke-linejoin:round; stroke-width:4; stroke-opacity:0.8; fill:none\" points=\"350.687,1480.43 350.687,1486.45 375.119,1486.45 375.119,1480.43 350.687,1480.43 \"/>\n",
       "<path clip-path=\"url(#clip492)\" d=\"M375.119 1486.45 L375.119 1486.45 L399.552 1486.45 L399.552 1486.45 L375.119 1486.45 L375.119 1486.45  Z\" fill=\"#009af9\" fill-rule=\"evenodd\" fill-opacity=\"0.8\"/>\n",
       "<polyline clip-path=\"url(#clip492)\" style=\"stroke:#000000; stroke-linecap:round; stroke-linejoin:round; stroke-width:4; stroke-opacity:0.8; fill:none\" points=\"375.119,1486.45 375.119,1486.45 399.552,1486.45 375.119,1486.45 \"/>\n",
       "<path clip-path=\"url(#clip492)\" d=\"M399.552 1480.43 L399.552 1486.45 L423.984 1486.45 L423.984 1480.43 L399.552 1480.43 L399.552 1480.43  Z\" fill=\"#009af9\" fill-rule=\"evenodd\" fill-opacity=\"0.8\"/>\n",
       "<polyline clip-path=\"url(#clip492)\" style=\"stroke:#000000; stroke-linecap:round; stroke-linejoin:round; stroke-width:4; stroke-opacity:0.8; fill:none\" points=\"399.552,1480.43 399.552,1486.45 423.984,1486.45 423.984,1480.43 399.552,1480.43 \"/>\n",
       "<path clip-path=\"url(#clip492)\" d=\"M423.984 1474.4 L423.984 1486.45 L448.416 1486.45 L448.416 1474.4 L423.984 1474.4 L423.984 1474.4  Z\" fill=\"#009af9\" fill-rule=\"evenodd\" fill-opacity=\"0.8\"/>\n",
       "<polyline clip-path=\"url(#clip492)\" style=\"stroke:#000000; stroke-linecap:round; stroke-linejoin:round; stroke-width:4; stroke-opacity:0.8; fill:none\" points=\"423.984,1474.4 423.984,1486.45 448.416,1486.45 448.416,1474.4 423.984,1474.4 \"/>\n",
       "<path clip-path=\"url(#clip492)\" d=\"M448.416 1486.45 L448.416 1486.45 L472.848 1486.45 L472.848 1486.45 L448.416 1486.45 L448.416 1486.45  Z\" fill=\"#009af9\" fill-rule=\"evenodd\" fill-opacity=\"0.8\"/>\n",
       "<polyline clip-path=\"url(#clip492)\" style=\"stroke:#000000; stroke-linecap:round; stroke-linejoin:round; stroke-width:4; stroke-opacity:0.8; fill:none\" points=\"448.416,1486.45 448.416,1486.45 472.848,1486.45 448.416,1486.45 \"/>\n",
       "<path clip-path=\"url(#clip492)\" d=\"M472.848 1468.38 L472.848 1486.45 L497.28 1486.45 L497.28 1468.38 L472.848 1468.38 L472.848 1468.38  Z\" fill=\"#009af9\" fill-rule=\"evenodd\" fill-opacity=\"0.8\"/>\n",
       "<polyline clip-path=\"url(#clip492)\" style=\"stroke:#000000; stroke-linecap:round; stroke-linejoin:round; stroke-width:4; stroke-opacity:0.8; fill:none\" points=\"472.848,1468.38 472.848,1486.45 497.28,1486.45 497.28,1468.38 472.848,1468.38 \"/>\n",
       "<path clip-path=\"url(#clip492)\" d=\"M497.28 1456.34 L497.28 1486.45 L521.712 1486.45 L521.712 1456.34 L497.28 1456.34 L497.28 1456.34  Z\" fill=\"#009af9\" fill-rule=\"evenodd\" fill-opacity=\"0.8\"/>\n",
       "<polyline clip-path=\"url(#clip492)\" style=\"stroke:#000000; stroke-linecap:round; stroke-linejoin:round; stroke-width:4; stroke-opacity:0.8; fill:none\" points=\"497.28,1456.34 497.28,1486.45 521.712,1486.45 521.712,1456.34 497.28,1456.34 \"/>\n",
       "<path clip-path=\"url(#clip492)\" d=\"M521.712 1486.45 L521.712 1486.45 L546.145 1486.45 L546.145 1486.45 L521.712 1486.45 L521.712 1486.45  Z\" fill=\"#009af9\" fill-rule=\"evenodd\" fill-opacity=\"0.8\"/>\n",
       "<polyline clip-path=\"url(#clip492)\" style=\"stroke:#000000; stroke-linecap:round; stroke-linejoin:round; stroke-width:4; stroke-opacity:0.8; fill:none\" points=\"521.712,1486.45 521.712,1486.45 546.145,1486.45 521.712,1486.45 \"/>\n",
       "<path clip-path=\"url(#clip492)\" d=\"M546.145 1474.4 L546.145 1486.45 L570.577 1486.45 L570.577 1474.4 L546.145 1474.4 L546.145 1474.4  Z\" fill=\"#009af9\" fill-rule=\"evenodd\" fill-opacity=\"0.8\"/>\n",
       "<polyline clip-path=\"url(#clip492)\" style=\"stroke:#000000; stroke-linecap:round; stroke-linejoin:round; stroke-width:4; stroke-opacity:0.8; fill:none\" points=\"546.145,1474.4 546.145,1486.45 570.577,1486.45 570.577,1474.4 546.145,1474.4 \"/>\n",
       "<path clip-path=\"url(#clip492)\" d=\"M570.577 1468.38 L570.577 1486.45 L595.009 1486.45 L595.009 1468.38 L570.577 1468.38 L570.577 1468.38  Z\" fill=\"#009af9\" fill-rule=\"evenodd\" fill-opacity=\"0.8\"/>\n",
       "<polyline clip-path=\"url(#clip492)\" style=\"stroke:#000000; stroke-linecap:round; stroke-linejoin:round; stroke-width:4; stroke-opacity:0.8; fill:none\" points=\"570.577,1468.38 570.577,1486.45 595.009,1486.45 595.009,1468.38 570.577,1468.38 \"/>\n",
       "<path clip-path=\"url(#clip492)\" d=\"M595.009 1426.23 L595.009 1486.45 L619.441 1486.45 L619.441 1426.23 L595.009 1426.23 L595.009 1426.23  Z\" fill=\"#009af9\" fill-rule=\"evenodd\" fill-opacity=\"0.8\"/>\n",
       "<polyline clip-path=\"url(#clip492)\" style=\"stroke:#000000; stroke-linecap:round; stroke-linejoin:round; stroke-width:4; stroke-opacity:0.8; fill:none\" points=\"595.009,1426.23 595.009,1486.45 619.441,1486.45 619.441,1426.23 595.009,1426.23 \"/>\n",
       "<path clip-path=\"url(#clip492)\" d=\"M619.441 1444.3 L619.441 1486.45 L643.873 1486.45 L643.873 1444.3 L619.441 1444.3 L619.441 1444.3  Z\" fill=\"#009af9\" fill-rule=\"evenodd\" fill-opacity=\"0.8\"/>\n",
       "<polyline clip-path=\"url(#clip492)\" style=\"stroke:#000000; stroke-linecap:round; stroke-linejoin:round; stroke-width:4; stroke-opacity:0.8; fill:none\" points=\"619.441,1444.3 619.441,1486.45 643.873,1486.45 643.873,1444.3 619.441,1444.3 \"/>\n",
       "<path clip-path=\"url(#clip492)\" d=\"M643.873 1438.27 L643.873 1486.45 L668.305 1486.45 L668.305 1438.27 L643.873 1438.27 L643.873 1438.27  Z\" fill=\"#009af9\" fill-rule=\"evenodd\" fill-opacity=\"0.8\"/>\n",
       "<polyline clip-path=\"url(#clip492)\" style=\"stroke:#000000; stroke-linecap:round; stroke-linejoin:round; stroke-width:4; stroke-opacity:0.8; fill:none\" points=\"643.873,1438.27 643.873,1486.45 668.305,1486.45 668.305,1438.27 643.873,1438.27 \"/>\n",
       "<path clip-path=\"url(#clip492)\" d=\"M668.305 1353.97 L668.305 1486.45 L692.737 1486.45 L692.737 1353.97 L668.305 1353.97 L668.305 1353.97  Z\" fill=\"#009af9\" fill-rule=\"evenodd\" fill-opacity=\"0.8\"/>\n",
       "<polyline clip-path=\"url(#clip492)\" style=\"stroke:#000000; stroke-linecap:round; stroke-linejoin:round; stroke-width:4; stroke-opacity:0.8; fill:none\" points=\"668.305,1353.97 668.305,1486.45 692.737,1486.45 692.737,1353.97 668.305,1353.97 \"/>\n",
       "<path clip-path=\"url(#clip492)\" d=\"M692.737 1323.86 L692.737 1486.45 L717.17 1486.45 L717.17 1323.86 L692.737 1323.86 L692.737 1323.86  Z\" fill=\"#009af9\" fill-rule=\"evenodd\" fill-opacity=\"0.8\"/>\n",
       "<polyline clip-path=\"url(#clip492)\" style=\"stroke:#000000; stroke-linecap:round; stroke-linejoin:round; stroke-width:4; stroke-opacity:0.8; fill:none\" points=\"692.737,1323.86 692.737,1486.45 717.17,1486.45 717.17,1323.86 692.737,1323.86 \"/>\n",
       "<path clip-path=\"url(#clip492)\" d=\"M717.17 1311.82 L717.17 1486.45 L741.602 1486.45 L741.602 1311.82 L717.17 1311.82 L717.17 1311.82  Z\" fill=\"#009af9\" fill-rule=\"evenodd\" fill-opacity=\"0.8\"/>\n",
       "<polyline clip-path=\"url(#clip492)\" style=\"stroke:#000000; stroke-linecap:round; stroke-linejoin:round; stroke-width:4; stroke-opacity:0.8; fill:none\" points=\"717.17,1311.82 717.17,1486.45 741.602,1486.45 741.602,1311.82 717.17,1311.82 \"/>\n",
       "<path clip-path=\"url(#clip492)\" d=\"M741.602 1317.84 L741.602 1486.45 L766.034 1486.45 L766.034 1317.84 L741.602 1317.84 L741.602 1317.84  Z\" fill=\"#009af9\" fill-rule=\"evenodd\" fill-opacity=\"0.8\"/>\n",
       "<polyline clip-path=\"url(#clip492)\" style=\"stroke:#000000; stroke-linecap:round; stroke-linejoin:round; stroke-width:4; stroke-opacity:0.8; fill:none\" points=\"741.602,1317.84 741.602,1486.45 766.034,1486.45 766.034,1317.84 741.602,1317.84 \"/>\n",
       "<path clip-path=\"url(#clip492)\" d=\"M766.034 1227.51 L766.034 1486.45 L790.466 1486.45 L790.466 1227.51 L766.034 1227.51 L766.034 1227.51  Z\" fill=\"#009af9\" fill-rule=\"evenodd\" fill-opacity=\"0.8\"/>\n",
       "<polyline clip-path=\"url(#clip492)\" style=\"stroke:#000000; stroke-linecap:round; stroke-linejoin:round; stroke-width:4; stroke-opacity:0.8; fill:none\" points=\"766.034,1227.51 766.034,1486.45 790.466,1486.45 790.466,1227.51 766.034,1227.51 \"/>\n",
       "<path clip-path=\"url(#clip492)\" d=\"M790.466 1251.6 L790.466 1486.45 L814.898 1486.45 L814.898 1251.6 L790.466 1251.6 L790.466 1251.6  Z\" fill=\"#009af9\" fill-rule=\"evenodd\" fill-opacity=\"0.8\"/>\n",
       "<polyline clip-path=\"url(#clip492)\" style=\"stroke:#000000; stroke-linecap:round; stroke-linejoin:round; stroke-width:4; stroke-opacity:0.8; fill:none\" points=\"790.466,1251.6 790.466,1486.45 814.898,1486.45 814.898,1251.6 790.466,1251.6 \"/>\n",
       "<path clip-path=\"url(#clip492)\" d=\"M814.898 1251.6 L814.898 1486.45 L839.33 1486.45 L839.33 1251.6 L814.898 1251.6 L814.898 1251.6  Z\" fill=\"#009af9\" fill-rule=\"evenodd\" fill-opacity=\"0.8\"/>\n",
       "<polyline clip-path=\"url(#clip492)\" style=\"stroke:#000000; stroke-linecap:round; stroke-linejoin:round; stroke-width:4; stroke-opacity:0.8; fill:none\" points=\"814.898,1251.6 814.898,1486.45 839.33,1486.45 839.33,1251.6 814.898,1251.6 \"/>\n",
       "<path clip-path=\"url(#clip492)\" d=\"M839.33 1107.08 L839.33 1486.45 L863.763 1486.45 L863.763 1107.08 L839.33 1107.08 L839.33 1107.08  Z\" fill=\"#009af9\" fill-rule=\"evenodd\" fill-opacity=\"0.8\"/>\n",
       "<polyline clip-path=\"url(#clip492)\" style=\"stroke:#000000; stroke-linecap:round; stroke-linejoin:round; stroke-width:4; stroke-opacity:0.8; fill:none\" points=\"839.33,1107.08 839.33,1486.45 863.763,1486.45 863.763,1107.08 839.33,1107.08 \"/>\n",
       "<path clip-path=\"url(#clip492)\" d=\"M863.763 1119.12 L863.763 1486.45 L888.195 1486.45 L888.195 1119.12 L863.763 1119.12 L863.763 1119.12  Z\" fill=\"#009af9\" fill-rule=\"evenodd\" fill-opacity=\"0.8\"/>\n",
       "<polyline clip-path=\"url(#clip492)\" style=\"stroke:#000000; stroke-linecap:round; stroke-linejoin:round; stroke-width:4; stroke-opacity:0.8; fill:none\" points=\"863.763,1119.12 863.763,1486.45 888.195,1486.45 888.195,1119.12 863.763,1119.12 \"/>\n",
       "<path clip-path=\"url(#clip492)\" d=\"M888.195 1010.73 L888.195 1486.45 L912.627 1486.45 L912.627 1010.73 L888.195 1010.73 L888.195 1010.73  Z\" fill=\"#009af9\" fill-rule=\"evenodd\" fill-opacity=\"0.8\"/>\n",
       "<polyline clip-path=\"url(#clip492)\" style=\"stroke:#000000; stroke-linecap:round; stroke-linejoin:round; stroke-width:4; stroke-opacity:0.8; fill:none\" points=\"888.195,1010.73 888.195,1486.45 912.627,1486.45 912.627,1010.73 888.195,1010.73 \"/>\n",
       "<path clip-path=\"url(#clip492)\" d=\"M912.627 872.227 L912.627 1486.45 L937.059 1486.45 L937.059 872.227 L912.627 872.227 L912.627 872.227  Z\" fill=\"#009af9\" fill-rule=\"evenodd\" fill-opacity=\"0.8\"/>\n",
       "<polyline clip-path=\"url(#clip492)\" style=\"stroke:#000000; stroke-linecap:round; stroke-linejoin:round; stroke-width:4; stroke-opacity:0.8; fill:none\" points=\"912.627,872.227 912.627,1486.45 937.059,1486.45 937.059,872.227 912.627,872.227 \"/>\n",
       "<path clip-path=\"url(#clip492)\" d=\"M937.059 866.205 L937.059 1486.45 L961.491 1486.45 L961.491 866.205 L937.059 866.205 L937.059 866.205  Z\" fill=\"#009af9\" fill-rule=\"evenodd\" fill-opacity=\"0.8\"/>\n",
       "<polyline clip-path=\"url(#clip492)\" style=\"stroke:#000000; stroke-linecap:round; stroke-linejoin:round; stroke-width:4; stroke-opacity:0.8; fill:none\" points=\"937.059,866.205 937.059,1486.45 961.491,1486.45 961.491,866.205 937.059,866.205 \"/>\n",
       "<path clip-path=\"url(#clip492)\" d=\"M961.491 902.336 L961.491 1486.45 L985.923 1486.45 L985.923 902.336 L961.491 902.336 L961.491 902.336  Z\" fill=\"#009af9\" fill-rule=\"evenodd\" fill-opacity=\"0.8\"/>\n",
       "<polyline clip-path=\"url(#clip492)\" style=\"stroke:#000000; stroke-linecap:round; stroke-linejoin:round; stroke-width:4; stroke-opacity:0.8; fill:none\" points=\"961.491,902.336 961.491,1486.45 985.923,1486.45 985.923,902.336 961.491,902.336 \"/>\n",
       "<path clip-path=\"url(#clip492)\" d=\"M985.923 661.465 L985.923 1486.45 L1010.36 1486.45 L1010.36 661.465 L985.923 661.465 L985.923 661.465  Z\" fill=\"#009af9\" fill-rule=\"evenodd\" fill-opacity=\"0.8\"/>\n",
       "<polyline clip-path=\"url(#clip492)\" style=\"stroke:#000000; stroke-linecap:round; stroke-linejoin:round; stroke-width:4; stroke-opacity:0.8; fill:none\" points=\"985.923,661.465 985.923,1486.45 1010.36,1486.45 1010.36,661.465 985.923,661.465 \"/>\n",
       "<path clip-path=\"url(#clip492)\" d=\"M1010.36 781.9 L1010.36 1486.45 L1034.79 1486.45 L1034.79 781.9 L1010.36 781.9 L1010.36 781.9  Z\" fill=\"#009af9\" fill-rule=\"evenodd\" fill-opacity=\"0.8\"/>\n",
       "<polyline clip-path=\"url(#clip492)\" style=\"stroke:#000000; stroke-linecap:round; stroke-linejoin:round; stroke-width:4; stroke-opacity:0.8; fill:none\" points=\"1010.36,781.9 1010.36,1486.45 1034.79,1486.45 1034.79,781.9 1010.36,781.9 \"/>\n",
       "<path clip-path=\"url(#clip492)\" d=\"M1034.79 691.574 L1034.79 1486.45 L1059.22 1486.45 L1059.22 691.574 L1034.79 691.574 L1034.79 691.574  Z\" fill=\"#009af9\" fill-rule=\"evenodd\" fill-opacity=\"0.8\"/>\n",
       "<polyline clip-path=\"url(#clip492)\" style=\"stroke:#000000; stroke-linecap:round; stroke-linejoin:round; stroke-width:4; stroke-opacity:0.8; fill:none\" points=\"1034.79,691.574 1034.79,1486.45 1059.22,1486.45 1059.22,691.574 1034.79,691.574 \"/>\n",
       "<path clip-path=\"url(#clip492)\" d=\"M1059.22 498.877 L1059.22 1486.45 L1083.65 1486.45 L1083.65 498.877 L1059.22 498.877 L1059.22 498.877  Z\" fill=\"#009af9\" fill-rule=\"evenodd\" fill-opacity=\"0.8\"/>\n",
       "<polyline clip-path=\"url(#clip492)\" style=\"stroke:#000000; stroke-linecap:round; stroke-linejoin:round; stroke-width:4; stroke-opacity:0.8; fill:none\" points=\"1059.22,498.877 1059.22,1486.45 1083.65,1486.45 1083.65,498.877 1059.22,498.877 \"/>\n",
       "<path clip-path=\"url(#clip492)\" d=\"M1083.65 450.703 L1083.65 1486.45 L1108.08 1486.45 L1108.08 450.703 L1083.65 450.703 L1083.65 450.703  Z\" fill=\"#009af9\" fill-rule=\"evenodd\" fill-opacity=\"0.8\"/>\n",
       "<polyline clip-path=\"url(#clip492)\" style=\"stroke:#000000; stroke-linecap:round; stroke-linejoin:round; stroke-width:4; stroke-opacity:0.8; fill:none\" points=\"1083.65,450.703 1083.65,1486.45 1108.08,1486.45 1108.08,450.703 1083.65,450.703 \"/>\n",
       "<path clip-path=\"url(#clip492)\" d=\"M1108.08 426.616 L1108.08 1486.45 L1132.52 1486.45 L1132.52 426.616 L1108.08 426.616 L1108.08 426.616  Z\" fill=\"#009af9\" fill-rule=\"evenodd\" fill-opacity=\"0.8\"/>\n",
       "<polyline clip-path=\"url(#clip492)\" style=\"stroke:#000000; stroke-linecap:round; stroke-linejoin:round; stroke-width:4; stroke-opacity:0.8; fill:none\" points=\"1108.08,426.616 1108.08,1486.45 1132.52,1486.45 1132.52,426.616 1108.08,426.616 \"/>\n",
       "<path clip-path=\"url(#clip492)\" d=\"M1132.52 396.507 L1132.52 1486.45 L1156.95 1486.45 L1156.95 396.507 L1132.52 396.507 L1132.52 396.507  Z\" fill=\"#009af9\" fill-rule=\"evenodd\" fill-opacity=\"0.8\"/>\n",
       "<polyline clip-path=\"url(#clip492)\" style=\"stroke:#000000; stroke-linecap:round; stroke-linejoin:round; stroke-width:4; stroke-opacity:0.8; fill:none\" points=\"1132.52,396.507 1132.52,1486.45 1156.95,1486.45 1156.95,396.507 1132.52,396.507 \"/>\n",
       "<path clip-path=\"url(#clip492)\" d=\"M1156.95 384.463 L1156.95 1486.45 L1181.38 1486.45 L1181.38 384.463 L1156.95 384.463 L1156.95 384.463  Z\" fill=\"#009af9\" fill-rule=\"evenodd\" fill-opacity=\"0.8\"/>\n",
       "<polyline clip-path=\"url(#clip492)\" style=\"stroke:#000000; stroke-linecap:round; stroke-linejoin:round; stroke-width:4; stroke-opacity:0.8; fill:none\" points=\"1156.95,384.463 1156.95,1486.45 1181.38,1486.45 1181.38,384.463 1156.95,384.463 \"/>\n",
       "<path clip-path=\"url(#clip492)\" d=\"M1181.38 396.507 L1181.38 1486.45 L1205.81 1486.45 L1205.81 396.507 L1181.38 396.507 L1181.38 396.507  Z\" fill=\"#009af9\" fill-rule=\"evenodd\" fill-opacity=\"0.8\"/>\n",
       "<polyline clip-path=\"url(#clip492)\" style=\"stroke:#000000; stroke-linecap:round; stroke-linejoin:round; stroke-width:4; stroke-opacity:0.8; fill:none\" points=\"1181.38,396.507 1181.38,1486.45 1205.81,1486.45 1205.81,396.507 1181.38,396.507 \"/>\n",
       "<path clip-path=\"url(#clip492)\" d=\"M1205.81 390.485 L1205.81 1486.45 L1230.24 1486.45 L1230.24 390.485 L1205.81 390.485 L1205.81 390.485  Z\" fill=\"#009af9\" fill-rule=\"evenodd\" fill-opacity=\"0.8\"/>\n",
       "<polyline clip-path=\"url(#clip492)\" style=\"stroke:#000000; stroke-linecap:round; stroke-linejoin:round; stroke-width:4; stroke-opacity:0.8; fill:none\" points=\"1205.81,390.485 1205.81,1486.45 1230.24,1486.45 1230.24,390.485 1205.81,390.485 \"/>\n",
       "<path clip-path=\"url(#clip492)\" d=\"M1230.24 384.463 L1230.24 1486.45 L1254.68 1486.45 L1254.68 384.463 L1230.24 384.463 L1230.24 384.463  Z\" fill=\"#009af9\" fill-rule=\"evenodd\" fill-opacity=\"0.8\"/>\n",
       "<polyline clip-path=\"url(#clip492)\" style=\"stroke:#000000; stroke-linecap:round; stroke-linejoin:round; stroke-width:4; stroke-opacity:0.8; fill:none\" points=\"1230.24,384.463 1230.24,1486.45 1254.68,1486.45 1254.68,384.463 1230.24,384.463 \"/>\n",
       "<path clip-path=\"url(#clip492)\" d=\"M1254.68 312.202 L1254.68 1486.45 L1279.11 1486.45 L1279.11 312.202 L1254.68 312.202 L1254.68 312.202  Z\" fill=\"#009af9\" fill-rule=\"evenodd\" fill-opacity=\"0.8\"/>\n",
       "<polyline clip-path=\"url(#clip492)\" style=\"stroke:#000000; stroke-linecap:round; stroke-linejoin:round; stroke-width:4; stroke-opacity:0.8; fill:none\" points=\"1254.68,312.202 1254.68,1486.45 1279.11,1486.45 1279.11,312.202 1254.68,312.202 \"/>\n",
       "<path clip-path=\"url(#clip492)\" d=\"M1279.11 47.2441 L1279.11 1486.45 L1303.54 1486.45 L1303.54 47.2441 L1279.11 47.2441 L1279.11 47.2441  Z\" fill=\"#009af9\" fill-rule=\"evenodd\" fill-opacity=\"0.8\"/>\n",
       "<polyline clip-path=\"url(#clip492)\" style=\"stroke:#000000; stroke-linecap:round; stroke-linejoin:round; stroke-width:4; stroke-opacity:0.8; fill:none\" points=\"1279.11,47.2441 1279.11,1486.45 1303.54,1486.45 1303.54,47.2441 1279.11,47.2441 \"/>\n",
       "<path clip-path=\"url(#clip492)\" d=\"M1303.54 306.18 L1303.54 1486.45 L1327.97 1486.45 L1327.97 306.18 L1303.54 306.18 L1303.54 306.18  Z\" fill=\"#009af9\" fill-rule=\"evenodd\" fill-opacity=\"0.8\"/>\n",
       "<polyline clip-path=\"url(#clip492)\" style=\"stroke:#000000; stroke-linecap:round; stroke-linejoin:round; stroke-width:4; stroke-opacity:0.8; fill:none\" points=\"1303.54,306.18 1303.54,1486.45 1327.97,1486.45 1327.97,306.18 1303.54,306.18 \"/>\n",
       "<path clip-path=\"url(#clip492)\" d=\"M1327.97 264.028 L1327.97 1486.45 L1352.41 1486.45 L1352.41 264.028 L1327.97 264.028 L1327.97 264.028  Z\" fill=\"#009af9\" fill-rule=\"evenodd\" fill-opacity=\"0.8\"/>\n",
       "<polyline clip-path=\"url(#clip492)\" style=\"stroke:#000000; stroke-linecap:round; stroke-linejoin:round; stroke-width:4; stroke-opacity:0.8; fill:none\" points=\"1327.97,264.028 1327.97,1486.45 1352.41,1486.45 1352.41,264.028 1327.97,264.028 \"/>\n",
       "<path clip-path=\"url(#clip492)\" d=\"M1352.41 438.659 L1352.41 1486.45 L1376.84 1486.45 L1376.84 438.659 L1352.41 438.659 L1352.41 438.659  Z\" fill=\"#009af9\" fill-rule=\"evenodd\" fill-opacity=\"0.8\"/>\n",
       "<polyline clip-path=\"url(#clip492)\" style=\"stroke:#000000; stroke-linecap:round; stroke-linejoin:round; stroke-width:4; stroke-opacity:0.8; fill:none\" points=\"1352.41,438.659 1352.41,1486.45 1376.84,1486.45 1376.84,438.659 1352.41,438.659 \"/>\n",
       "<path clip-path=\"url(#clip492)\" d=\"M1376.84 516.942 L1376.84 1486.45 L1401.27 1486.45 L1401.27 516.942 L1376.84 516.942 L1376.84 516.942  Z\" fill=\"#009af9\" fill-rule=\"evenodd\" fill-opacity=\"0.8\"/>\n",
       "<polyline clip-path=\"url(#clip492)\" style=\"stroke:#000000; stroke-linecap:round; stroke-linejoin:round; stroke-width:4; stroke-opacity:0.8; fill:none\" points=\"1376.84,516.942 1376.84,1486.45 1401.27,1486.45 1401.27,516.942 1376.84,516.942 \"/>\n",
       "<path clip-path=\"url(#clip492)\" d=\"M1401.27 498.877 L1401.27 1486.45 L1425.7 1486.45 L1425.7 498.877 L1401.27 498.877 L1401.27 498.877  Z\" fill=\"#009af9\" fill-rule=\"evenodd\" fill-opacity=\"0.8\"/>\n",
       "<polyline clip-path=\"url(#clip492)\" style=\"stroke:#000000; stroke-linecap:round; stroke-linejoin:round; stroke-width:4; stroke-opacity:0.8; fill:none\" points=\"1401.27,498.877 1401.27,1486.45 1425.7,1486.45 1425.7,498.877 1401.27,498.877 \"/>\n",
       "<path clip-path=\"url(#clip492)\" d=\"M1425.7 559.095 L1425.7 1486.45 L1450.13 1486.45 L1450.13 559.095 L1425.7 559.095 L1425.7 559.095  Z\" fill=\"#009af9\" fill-rule=\"evenodd\" fill-opacity=\"0.8\"/>\n",
       "<polyline clip-path=\"url(#clip492)\" style=\"stroke:#000000; stroke-linecap:round; stroke-linejoin:round; stroke-width:4; stroke-opacity:0.8; fill:none\" points=\"1425.7,559.095 1425.7,1486.45 1450.13,1486.45 1450.13,559.095 1425.7,559.095 \"/>\n",
       "<path clip-path=\"url(#clip492)\" d=\"M1450.13 589.204 L1450.13 1486.45 L1474.57 1486.45 L1474.57 589.204 L1450.13 589.204 L1450.13 589.204  Z\" fill=\"#009af9\" fill-rule=\"evenodd\" fill-opacity=\"0.8\"/>\n",
       "<polyline clip-path=\"url(#clip492)\" style=\"stroke:#000000; stroke-linecap:round; stroke-linejoin:round; stroke-width:4; stroke-opacity:0.8; fill:none\" points=\"1450.13,589.204 1450.13,1486.45 1474.57,1486.45 1474.57,589.204 1450.13,589.204 \"/>\n",
       "<path clip-path=\"url(#clip492)\" d=\"M1474.57 703.617 L1474.57 1486.45 L1499 1486.45 L1499 703.617 L1474.57 703.617 L1474.57 703.617  Z\" fill=\"#009af9\" fill-rule=\"evenodd\" fill-opacity=\"0.8\"/>\n",
       "<polyline clip-path=\"url(#clip492)\" style=\"stroke:#000000; stroke-linecap:round; stroke-linejoin:round; stroke-width:4; stroke-opacity:0.8; fill:none\" points=\"1474.57,703.617 1474.57,1486.45 1499,1486.45 1499,703.617 1474.57,703.617 \"/>\n",
       "<path clip-path=\"url(#clip492)\" d=\"M1499 956.532 L1499 1486.45 L1523.43 1486.45 L1523.43 956.532 L1499 956.532 L1499 956.532  Z\" fill=\"#009af9\" fill-rule=\"evenodd\" fill-opacity=\"0.8\"/>\n",
       "<polyline clip-path=\"url(#clip492)\" style=\"stroke:#000000; stroke-linecap:round; stroke-linejoin:round; stroke-width:4; stroke-opacity:0.8; fill:none\" points=\"1499,956.532 1499,1486.45 1523.43,1486.45 1523.43,956.532 1499,956.532 \"/>\n",
       "<path clip-path=\"url(#clip492)\" d=\"M1523.43 914.379 L1523.43 1486.45 L1547.86 1486.45 L1547.86 914.379 L1523.43 914.379 L1523.43 914.379  Z\" fill=\"#009af9\" fill-rule=\"evenodd\" fill-opacity=\"0.8\"/>\n",
       "<polyline clip-path=\"url(#clip492)\" style=\"stroke:#000000; stroke-linecap:round; stroke-linejoin:round; stroke-width:4; stroke-opacity:0.8; fill:none\" points=\"1523.43,914.379 1523.43,1486.45 1547.86,1486.45 1547.86,914.379 1523.43,914.379 \"/>\n",
       "<path clip-path=\"url(#clip492)\" d=\"M1547.86 974.597 L1547.86 1486.45 L1572.3 1486.45 L1572.3 974.597 L1547.86 974.597 L1547.86 974.597  Z\" fill=\"#009af9\" fill-rule=\"evenodd\" fill-opacity=\"0.8\"/>\n",
       "<polyline clip-path=\"url(#clip492)\" style=\"stroke:#000000; stroke-linecap:round; stroke-linejoin:round; stroke-width:4; stroke-opacity:0.8; fill:none\" points=\"1547.86,974.597 1547.86,1486.45 1572.3,1486.45 1572.3,974.597 1547.86,974.597 \"/>\n",
       "<path clip-path=\"url(#clip492)\" d=\"M1572.3 986.641 L1572.3 1486.45 L1596.73 1486.45 L1596.73 986.641 L1572.3 986.641 L1572.3 986.641  Z\" fill=\"#009af9\" fill-rule=\"evenodd\" fill-opacity=\"0.8\"/>\n",
       "<polyline clip-path=\"url(#clip492)\" style=\"stroke:#000000; stroke-linecap:round; stroke-linejoin:round; stroke-width:4; stroke-opacity:0.8; fill:none\" points=\"1572.3,986.641 1572.3,1486.45 1596.73,1486.45 1596.73,986.641 1572.3,986.641 \"/>\n",
       "<path clip-path=\"url(#clip492)\" d=\"M1596.73 1095.03 L1596.73 1486.45 L1621.16 1486.45 L1621.16 1095.03 L1596.73 1095.03 L1596.73 1095.03  Z\" fill=\"#009af9\" fill-rule=\"evenodd\" fill-opacity=\"0.8\"/>\n",
       "<polyline clip-path=\"url(#clip492)\" style=\"stroke:#000000; stroke-linecap:round; stroke-linejoin:round; stroke-width:4; stroke-opacity:0.8; fill:none\" points=\"1596.73,1095.03 1596.73,1486.45 1621.16,1486.45 1621.16,1095.03 1596.73,1095.03 \"/>\n",
       "<path clip-path=\"url(#clip492)\" d=\"M1621.16 1191.38 L1621.16 1486.45 L1645.59 1486.45 L1645.59 1191.38 L1621.16 1191.38 L1621.16 1191.38  Z\" fill=\"#009af9\" fill-rule=\"evenodd\" fill-opacity=\"0.8\"/>\n",
       "<polyline clip-path=\"url(#clip492)\" style=\"stroke:#000000; stroke-linecap:round; stroke-linejoin:round; stroke-width:4; stroke-opacity:0.8; fill:none\" points=\"1621.16,1191.38 1621.16,1486.45 1645.59,1486.45 1645.59,1191.38 1621.16,1191.38 \"/>\n",
       "<path clip-path=\"url(#clip492)\" d=\"M1645.59 1281.71 L1645.59 1486.45 L1670.02 1486.45 L1670.02 1281.71 L1645.59 1281.71 L1645.59 1281.71  Z\" fill=\"#009af9\" fill-rule=\"evenodd\" fill-opacity=\"0.8\"/>\n",
       "<polyline clip-path=\"url(#clip492)\" style=\"stroke:#000000; stroke-linecap:round; stroke-linejoin:round; stroke-width:4; stroke-opacity:0.8; fill:none\" points=\"1645.59,1281.71 1645.59,1486.45 1670.02,1486.45 1670.02,1281.71 1645.59,1281.71 \"/>\n",
       "<path clip-path=\"url(#clip492)\" d=\"M1670.02 1347.95 L1670.02 1486.45 L1694.46 1486.45 L1694.46 1347.95 L1670.02 1347.95 L1670.02 1347.95  Z\" fill=\"#009af9\" fill-rule=\"evenodd\" fill-opacity=\"0.8\"/>\n",
       "<polyline clip-path=\"url(#clip492)\" style=\"stroke:#000000; stroke-linecap:round; stroke-linejoin:round; stroke-width:4; stroke-opacity:0.8; fill:none\" points=\"1670.02,1347.95 1670.02,1486.45 1694.46,1486.45 1694.46,1347.95 1670.02,1347.95 \"/>\n",
       "<path clip-path=\"url(#clip492)\" d=\"M1694.46 1347.95 L1694.46 1486.45 L1718.89 1486.45 L1718.89 1347.95 L1694.46 1347.95 L1694.46 1347.95  Z\" fill=\"#009af9\" fill-rule=\"evenodd\" fill-opacity=\"0.8\"/>\n",
       "<polyline clip-path=\"url(#clip492)\" style=\"stroke:#000000; stroke-linecap:round; stroke-linejoin:round; stroke-width:4; stroke-opacity:0.8; fill:none\" points=\"1694.46,1347.95 1694.46,1486.45 1718.89,1486.45 1718.89,1347.95 1694.46,1347.95 \"/>\n",
       "<path clip-path=\"url(#clip492)\" d=\"M1718.89 1347.95 L1718.89 1486.45 L1743.32 1486.45 L1743.32 1347.95 L1718.89 1347.95 L1718.89 1347.95  Z\" fill=\"#009af9\" fill-rule=\"evenodd\" fill-opacity=\"0.8\"/>\n",
       "<polyline clip-path=\"url(#clip492)\" style=\"stroke:#000000; stroke-linecap:round; stroke-linejoin:round; stroke-width:4; stroke-opacity:0.8; fill:none\" points=\"1718.89,1347.95 1718.89,1486.45 1743.32,1486.45 1743.32,1347.95 1718.89,1347.95 \"/>\n",
       "<path clip-path=\"url(#clip492)\" d=\"M1743.32 1353.97 L1743.32 1486.45 L1767.75 1486.45 L1767.75 1353.97 L1743.32 1353.97 L1743.32 1353.97  Z\" fill=\"#009af9\" fill-rule=\"evenodd\" fill-opacity=\"0.8\"/>\n",
       "<polyline clip-path=\"url(#clip492)\" style=\"stroke:#000000; stroke-linecap:round; stroke-linejoin:round; stroke-width:4; stroke-opacity:0.8; fill:none\" points=\"1743.32,1353.97 1743.32,1486.45 1767.75,1486.45 1767.75,1353.97 1743.32,1353.97 \"/>\n",
       "<path clip-path=\"url(#clip492)\" d=\"M1767.75 1444.3 L1767.75 1486.45 L1792.18 1486.45 L1792.18 1444.3 L1767.75 1444.3 L1767.75 1444.3  Z\" fill=\"#009af9\" fill-rule=\"evenodd\" fill-opacity=\"0.8\"/>\n",
       "<polyline clip-path=\"url(#clip492)\" style=\"stroke:#000000; stroke-linecap:round; stroke-linejoin:round; stroke-width:4; stroke-opacity:0.8; fill:none\" points=\"1767.75,1444.3 1767.75,1486.45 1792.18,1486.45 1792.18,1444.3 1767.75,1444.3 \"/>\n",
       "<path clip-path=\"url(#clip492)\" d=\"M1792.18 1426.23 L1792.18 1486.45 L1816.62 1486.45 L1816.62 1426.23 L1792.18 1426.23 L1792.18 1426.23  Z\" fill=\"#009af9\" fill-rule=\"evenodd\" fill-opacity=\"0.8\"/>\n",
       "<polyline clip-path=\"url(#clip492)\" style=\"stroke:#000000; stroke-linecap:round; stroke-linejoin:round; stroke-width:4; stroke-opacity:0.8; fill:none\" points=\"1792.18,1426.23 1792.18,1486.45 1816.62,1486.45 1816.62,1426.23 1792.18,1426.23 \"/>\n",
       "<path clip-path=\"url(#clip492)\" d=\"M1816.62 1420.21 L1816.62 1486.45 L1841.05 1486.45 L1841.05 1420.21 L1816.62 1420.21 L1816.62 1420.21  Z\" fill=\"#009af9\" fill-rule=\"evenodd\" fill-opacity=\"0.8\"/>\n",
       "<polyline clip-path=\"url(#clip492)\" style=\"stroke:#000000; stroke-linecap:round; stroke-linejoin:round; stroke-width:4; stroke-opacity:0.8; fill:none\" points=\"1816.62,1420.21 1816.62,1486.45 1841.05,1486.45 1841.05,1420.21 1816.62,1420.21 \"/>\n",
       "<path clip-path=\"url(#clip492)\" d=\"M1841.05 1444.3 L1841.05 1486.45 L1865.48 1486.45 L1865.48 1444.3 L1841.05 1444.3 L1841.05 1444.3  Z\" fill=\"#009af9\" fill-rule=\"evenodd\" fill-opacity=\"0.8\"/>\n",
       "<polyline clip-path=\"url(#clip492)\" style=\"stroke:#000000; stroke-linecap:round; stroke-linejoin:round; stroke-width:4; stroke-opacity:0.8; fill:none\" points=\"1841.05,1444.3 1841.05,1486.45 1865.48,1486.45 1865.48,1444.3 1841.05,1444.3 \"/>\n",
       "<path clip-path=\"url(#clip492)\" d=\"M1865.48 1450.32 L1865.48 1486.45 L1889.91 1486.45 L1889.91 1450.32 L1865.48 1450.32 L1865.48 1450.32  Z\" fill=\"#009af9\" fill-rule=\"evenodd\" fill-opacity=\"0.8\"/>\n",
       "<polyline clip-path=\"url(#clip492)\" style=\"stroke:#000000; stroke-linecap:round; stroke-linejoin:round; stroke-width:4; stroke-opacity:0.8; fill:none\" points=\"1865.48,1450.32 1865.48,1486.45 1889.91,1486.45 1889.91,1450.32 1865.48,1450.32 \"/>\n",
       "<path clip-path=\"url(#clip492)\" d=\"M1889.91 1438.27 L1889.91 1486.45 L1914.35 1486.45 L1914.35 1438.27 L1889.91 1438.27 L1889.91 1438.27  Z\" fill=\"#009af9\" fill-rule=\"evenodd\" fill-opacity=\"0.8\"/>\n",
       "<polyline clip-path=\"url(#clip492)\" style=\"stroke:#000000; stroke-linecap:round; stroke-linejoin:round; stroke-width:4; stroke-opacity:0.8; fill:none\" points=\"1889.91,1438.27 1889.91,1486.45 1914.35,1486.45 1914.35,1438.27 1889.91,1438.27 \"/>\n",
       "<path clip-path=\"url(#clip492)\" d=\"M1914.35 1468.38 L1914.35 1486.45 L1938.78 1486.45 L1938.78 1468.38 L1914.35 1468.38 L1914.35 1468.38  Z\" fill=\"#009af9\" fill-rule=\"evenodd\" fill-opacity=\"0.8\"/>\n",
       "<polyline clip-path=\"url(#clip492)\" style=\"stroke:#000000; stroke-linecap:round; stroke-linejoin:round; stroke-width:4; stroke-opacity:0.8; fill:none\" points=\"1914.35,1468.38 1914.35,1486.45 1938.78,1486.45 1938.78,1468.38 1914.35,1468.38 \"/>\n",
       "<path clip-path=\"url(#clip492)\" d=\"M1938.78 1474.4 L1938.78 1486.45 L1963.21 1486.45 L1963.21 1474.4 L1938.78 1474.4 L1938.78 1474.4  Z\" fill=\"#009af9\" fill-rule=\"evenodd\" fill-opacity=\"0.8\"/>\n",
       "<polyline clip-path=\"url(#clip492)\" style=\"stroke:#000000; stroke-linecap:round; stroke-linejoin:round; stroke-width:4; stroke-opacity:0.8; fill:none\" points=\"1938.78,1474.4 1938.78,1486.45 1963.21,1486.45 1963.21,1474.4 1938.78,1474.4 \"/>\n",
       "<path clip-path=\"url(#clip492)\" d=\"M1963.21 1456.34 L1963.21 1486.45 L1987.64 1486.45 L1987.64 1456.34 L1963.21 1456.34 L1963.21 1456.34  Z\" fill=\"#009af9\" fill-rule=\"evenodd\" fill-opacity=\"0.8\"/>\n",
       "<polyline clip-path=\"url(#clip492)\" style=\"stroke:#000000; stroke-linecap:round; stroke-linejoin:round; stroke-width:4; stroke-opacity:0.8; fill:none\" points=\"1963.21,1456.34 1963.21,1486.45 1987.64,1486.45 1987.64,1456.34 1963.21,1456.34 \"/>\n",
       "<path clip-path=\"url(#clip492)\" d=\"M1987.64 1486.45 L1987.64 1486.45 L2012.07 1486.45 L2012.07 1486.45 L1987.64 1486.45 L1987.64 1486.45  Z\" fill=\"#009af9\" fill-rule=\"evenodd\" fill-opacity=\"0.8\"/>\n",
       "<polyline clip-path=\"url(#clip492)\" style=\"stroke:#000000; stroke-linecap:round; stroke-linejoin:round; stroke-width:4; stroke-opacity:0.8; fill:none\" points=\"1987.64,1486.45 1987.64,1486.45 2012.07,1486.45 1987.64,1486.45 \"/>\n",
       "<path clip-path=\"url(#clip492)\" d=\"M2012.07 1480.43 L2012.07 1486.45 L2036.51 1486.45 L2036.51 1480.43 L2012.07 1480.43 L2012.07 1480.43  Z\" fill=\"#009af9\" fill-rule=\"evenodd\" fill-opacity=\"0.8\"/>\n",
       "<polyline clip-path=\"url(#clip492)\" style=\"stroke:#000000; stroke-linecap:round; stroke-linejoin:round; stroke-width:4; stroke-opacity:0.8; fill:none\" points=\"2012.07,1480.43 2012.07,1486.45 2036.51,1486.45 2036.51,1480.43 2012.07,1480.43 \"/>\n",
       "<path clip-path=\"url(#clip492)\" d=\"M2036.51 1486.45 L2036.51 1486.45 L2060.94 1486.45 L2060.94 1486.45 L2036.51 1486.45 L2036.51 1486.45  Z\" fill=\"#009af9\" fill-rule=\"evenodd\" fill-opacity=\"0.8\"/>\n",
       "<polyline clip-path=\"url(#clip492)\" style=\"stroke:#000000; stroke-linecap:round; stroke-linejoin:round; stroke-width:4; stroke-opacity:0.8; fill:none\" points=\"2036.51,1486.45 2036.51,1486.45 2060.94,1486.45 2036.51,1486.45 \"/>\n",
       "<path clip-path=\"url(#clip492)\" d=\"M2060.94 1486.45 L2060.94 1486.45 L2085.37 1486.45 L2085.37 1486.45 L2060.94 1486.45 L2060.94 1486.45  Z\" fill=\"#009af9\" fill-rule=\"evenodd\" fill-opacity=\"0.8\"/>\n",
       "<polyline clip-path=\"url(#clip492)\" style=\"stroke:#000000; stroke-linecap:round; stroke-linejoin:round; stroke-width:4; stroke-opacity:0.8; fill:none\" points=\"2060.94,1486.45 2060.94,1486.45 2085.37,1486.45 2060.94,1486.45 \"/>\n",
       "<path clip-path=\"url(#clip492)\" d=\"M2085.37 1486.45 L2085.37 1486.45 L2109.8 1486.45 L2109.8 1486.45 L2085.37 1486.45 L2085.37 1486.45  Z\" fill=\"#009af9\" fill-rule=\"evenodd\" fill-opacity=\"0.8\"/>\n",
       "<polyline clip-path=\"url(#clip492)\" style=\"stroke:#000000; stroke-linecap:round; stroke-linejoin:round; stroke-width:4; stroke-opacity:0.8; fill:none\" points=\"2085.37,1486.45 2085.37,1486.45 2109.8,1486.45 2085.37,1486.45 \"/>\n",
       "<path clip-path=\"url(#clip492)\" d=\"M2109.8 1480.43 L2109.8 1486.45 L2134.23 1486.45 L2134.23 1480.43 L2109.8 1480.43 L2109.8 1480.43  Z\" fill=\"#009af9\" fill-rule=\"evenodd\" fill-opacity=\"0.8\"/>\n",
       "<polyline clip-path=\"url(#clip492)\" style=\"stroke:#000000; stroke-linecap:round; stroke-linejoin:round; stroke-width:4; stroke-opacity:0.8; fill:none\" points=\"2109.8,1480.43 2109.8,1486.45 2134.23,1486.45 2134.23,1480.43 2109.8,1480.43 \"/>\n",
       "<path clip-path=\"url(#clip492)\" d=\"M2134.23 1486.45 L2134.23 1486.45 L2158.67 1486.45 L2158.67 1486.45 L2134.23 1486.45 L2134.23 1486.45  Z\" fill=\"#009af9\" fill-rule=\"evenodd\" fill-opacity=\"0.8\"/>\n",
       "<polyline clip-path=\"url(#clip492)\" style=\"stroke:#000000; stroke-linecap:round; stroke-linejoin:round; stroke-width:4; stroke-opacity:0.8; fill:none\" points=\"2134.23,1486.45 2134.23,1486.45 2158.67,1486.45 2134.23,1486.45 \"/>\n",
       "<path clip-path=\"url(#clip492)\" d=\"M2158.67 1486.45 L2158.67 1486.45 L2183.1 1486.45 L2183.1 1486.45 L2158.67 1486.45 L2158.67 1486.45  Z\" fill=\"#009af9\" fill-rule=\"evenodd\" fill-opacity=\"0.8\"/>\n",
       "<polyline clip-path=\"url(#clip492)\" style=\"stroke:#000000; stroke-linecap:round; stroke-linejoin:round; stroke-width:4; stroke-opacity:0.8; fill:none\" points=\"2158.67,1486.45 2158.67,1486.45 2183.1,1486.45 2158.67,1486.45 \"/>\n",
       "<path clip-path=\"url(#clip492)\" d=\"M2183.1 1486.45 L2183.1 1486.45 L2207.53 1486.45 L2207.53 1486.45 L2183.1 1486.45 L2183.1 1486.45  Z\" fill=\"#009af9\" fill-rule=\"evenodd\" fill-opacity=\"0.8\"/>\n",
       "<polyline clip-path=\"url(#clip492)\" style=\"stroke:#000000; stroke-linecap:round; stroke-linejoin:round; stroke-width:4; stroke-opacity:0.8; fill:none\" points=\"2183.1,1486.45 2183.1,1486.45 2207.53,1486.45 2183.1,1486.45 \"/>\n",
       "<path clip-path=\"url(#clip492)\" d=\"M2207.53 1480.43 L2207.53 1486.45 L2231.96 1486.45 L2231.96 1480.43 L2207.53 1480.43 L2207.53 1480.43  Z\" fill=\"#009af9\" fill-rule=\"evenodd\" fill-opacity=\"0.8\"/>\n",
       "<polyline clip-path=\"url(#clip492)\" style=\"stroke:#000000; stroke-linecap:round; stroke-linejoin:round; stroke-width:4; stroke-opacity:0.8; fill:none\" points=\"2207.53,1480.43 2207.53,1486.45 2231.96,1486.45 2231.96,1480.43 2207.53,1480.43 \"/>\n",
       "<circle clip-path=\"url(#clip492)\" style=\"fill:#009af9; stroke:none; fill-opacity:0\" cx=\"289.607\" cy=\"1480.43\" r=\"2\"/>\n",
       "<circle clip-path=\"url(#clip492)\" style=\"fill:#009af9; stroke:none; fill-opacity:0\" cx=\"314.039\" cy=\"1486.45\" r=\"2\"/>\n",
       "<circle clip-path=\"url(#clip492)\" style=\"fill:#009af9; stroke:none; fill-opacity:0\" cx=\"338.471\" cy=\"1486.45\" r=\"2\"/>\n",
       "<circle clip-path=\"url(#clip492)\" style=\"fill:#009af9; stroke:none; fill-opacity:0\" cx=\"362.903\" cy=\"1480.43\" r=\"2\"/>\n",
       "<circle clip-path=\"url(#clip492)\" style=\"fill:#009af9; stroke:none; fill-opacity:0\" cx=\"387.336\" cy=\"1486.45\" r=\"2\"/>\n",
       "<circle clip-path=\"url(#clip492)\" style=\"fill:#009af9; stroke:none; fill-opacity:0\" cx=\"411.768\" cy=\"1480.43\" r=\"2\"/>\n",
       "<circle clip-path=\"url(#clip492)\" style=\"fill:#009af9; stroke:none; fill-opacity:0\" cx=\"436.2\" cy=\"1474.4\" r=\"2\"/>\n",
       "<circle clip-path=\"url(#clip492)\" style=\"fill:#009af9; stroke:none; fill-opacity:0\" cx=\"460.632\" cy=\"1486.45\" r=\"2\"/>\n",
       "<circle clip-path=\"url(#clip492)\" style=\"fill:#009af9; stroke:none; fill-opacity:0\" cx=\"485.064\" cy=\"1468.38\" r=\"2\"/>\n",
       "<circle clip-path=\"url(#clip492)\" style=\"fill:#009af9; stroke:none; fill-opacity:0\" cx=\"509.496\" cy=\"1456.34\" r=\"2\"/>\n",
       "<circle clip-path=\"url(#clip492)\" style=\"fill:#009af9; stroke:none; fill-opacity:0\" cx=\"533.928\" cy=\"1486.45\" r=\"2\"/>\n",
       "<circle clip-path=\"url(#clip492)\" style=\"fill:#009af9; stroke:none; fill-opacity:0\" cx=\"558.361\" cy=\"1474.4\" r=\"2\"/>\n",
       "<circle clip-path=\"url(#clip492)\" style=\"fill:#009af9; stroke:none; fill-opacity:0\" cx=\"582.793\" cy=\"1468.38\" r=\"2\"/>\n",
       "<circle clip-path=\"url(#clip492)\" style=\"fill:#009af9; stroke:none; fill-opacity:0\" cx=\"607.225\" cy=\"1426.23\" r=\"2\"/>\n",
       "<circle clip-path=\"url(#clip492)\" style=\"fill:#009af9; stroke:none; fill-opacity:0\" cx=\"631.657\" cy=\"1444.3\" r=\"2\"/>\n",
       "<circle clip-path=\"url(#clip492)\" style=\"fill:#009af9; stroke:none; fill-opacity:0\" cx=\"656.089\" cy=\"1438.27\" r=\"2\"/>\n",
       "<circle clip-path=\"url(#clip492)\" style=\"fill:#009af9; stroke:none; fill-opacity:0\" cx=\"680.521\" cy=\"1353.97\" r=\"2\"/>\n",
       "<circle clip-path=\"url(#clip492)\" style=\"fill:#009af9; stroke:none; fill-opacity:0\" cx=\"704.954\" cy=\"1323.86\" r=\"2\"/>\n",
       "<circle clip-path=\"url(#clip492)\" style=\"fill:#009af9; stroke:none; fill-opacity:0\" cx=\"729.386\" cy=\"1311.82\" r=\"2\"/>\n",
       "<circle clip-path=\"url(#clip492)\" style=\"fill:#009af9; stroke:none; fill-opacity:0\" cx=\"753.818\" cy=\"1317.84\" r=\"2\"/>\n",
       "<circle clip-path=\"url(#clip492)\" style=\"fill:#009af9; stroke:none; fill-opacity:0\" cx=\"778.25\" cy=\"1227.51\" r=\"2\"/>\n",
       "<circle clip-path=\"url(#clip492)\" style=\"fill:#009af9; stroke:none; fill-opacity:0\" cx=\"802.682\" cy=\"1251.6\" r=\"2\"/>\n",
       "<circle clip-path=\"url(#clip492)\" style=\"fill:#009af9; stroke:none; fill-opacity:0\" cx=\"827.114\" cy=\"1251.6\" r=\"2\"/>\n",
       "<circle clip-path=\"url(#clip492)\" style=\"fill:#009af9; stroke:none; fill-opacity:0\" cx=\"851.546\" cy=\"1107.08\" r=\"2\"/>\n",
       "<circle clip-path=\"url(#clip492)\" style=\"fill:#009af9; stroke:none; fill-opacity:0\" cx=\"875.979\" cy=\"1119.12\" r=\"2\"/>\n",
       "<circle clip-path=\"url(#clip492)\" style=\"fill:#009af9; stroke:none; fill-opacity:0\" cx=\"900.411\" cy=\"1010.73\" r=\"2\"/>\n",
       "<circle clip-path=\"url(#clip492)\" style=\"fill:#009af9; stroke:none; fill-opacity:0\" cx=\"924.843\" cy=\"872.227\" r=\"2\"/>\n",
       "<circle clip-path=\"url(#clip492)\" style=\"fill:#009af9; stroke:none; fill-opacity:0\" cx=\"949.275\" cy=\"866.205\" r=\"2\"/>\n",
       "<circle clip-path=\"url(#clip492)\" style=\"fill:#009af9; stroke:none; fill-opacity:0\" cx=\"973.707\" cy=\"902.336\" r=\"2\"/>\n",
       "<circle clip-path=\"url(#clip492)\" style=\"fill:#009af9; stroke:none; fill-opacity:0\" cx=\"998.139\" cy=\"661.465\" r=\"2\"/>\n",
       "<circle clip-path=\"url(#clip492)\" style=\"fill:#009af9; stroke:none; fill-opacity:0\" cx=\"1022.57\" cy=\"781.9\" r=\"2\"/>\n",
       "<circle clip-path=\"url(#clip492)\" style=\"fill:#009af9; stroke:none; fill-opacity:0\" cx=\"1047\" cy=\"691.574\" r=\"2\"/>\n",
       "<circle clip-path=\"url(#clip492)\" style=\"fill:#009af9; stroke:none; fill-opacity:0\" cx=\"1071.44\" cy=\"498.877\" r=\"2\"/>\n",
       "<circle clip-path=\"url(#clip492)\" style=\"fill:#009af9; stroke:none; fill-opacity:0\" cx=\"1095.87\" cy=\"450.703\" r=\"2\"/>\n",
       "<circle clip-path=\"url(#clip492)\" style=\"fill:#009af9; stroke:none; fill-opacity:0\" cx=\"1120.3\" cy=\"426.616\" r=\"2\"/>\n",
       "<circle clip-path=\"url(#clip492)\" style=\"fill:#009af9; stroke:none; fill-opacity:0\" cx=\"1144.73\" cy=\"396.507\" r=\"2\"/>\n",
       "<circle clip-path=\"url(#clip492)\" style=\"fill:#009af9; stroke:none; fill-opacity:0\" cx=\"1169.16\" cy=\"384.463\" r=\"2\"/>\n",
       "<circle clip-path=\"url(#clip492)\" style=\"fill:#009af9; stroke:none; fill-opacity:0\" cx=\"1193.6\" cy=\"396.507\" r=\"2\"/>\n",
       "<circle clip-path=\"url(#clip492)\" style=\"fill:#009af9; stroke:none; fill-opacity:0\" cx=\"1218.03\" cy=\"390.485\" r=\"2\"/>\n",
       "<circle clip-path=\"url(#clip492)\" style=\"fill:#009af9; stroke:none; fill-opacity:0\" cx=\"1242.46\" cy=\"384.463\" r=\"2\"/>\n",
       "<circle clip-path=\"url(#clip492)\" style=\"fill:#009af9; stroke:none; fill-opacity:0\" cx=\"1266.89\" cy=\"312.202\" r=\"2\"/>\n",
       "<circle clip-path=\"url(#clip492)\" style=\"fill:#009af9; stroke:none; fill-opacity:0\" cx=\"1291.33\" cy=\"47.2441\" r=\"2\"/>\n",
       "<circle clip-path=\"url(#clip492)\" style=\"fill:#009af9; stroke:none; fill-opacity:0\" cx=\"1315.76\" cy=\"306.18\" r=\"2\"/>\n",
       "<circle clip-path=\"url(#clip492)\" style=\"fill:#009af9; stroke:none; fill-opacity:0\" cx=\"1340.19\" cy=\"264.028\" r=\"2\"/>\n",
       "<circle clip-path=\"url(#clip492)\" style=\"fill:#009af9; stroke:none; fill-opacity:0\" cx=\"1364.62\" cy=\"438.659\" r=\"2\"/>\n",
       "<circle clip-path=\"url(#clip492)\" style=\"fill:#009af9; stroke:none; fill-opacity:0\" cx=\"1389.05\" cy=\"516.942\" r=\"2\"/>\n",
       "<circle clip-path=\"url(#clip492)\" style=\"fill:#009af9; stroke:none; fill-opacity:0\" cx=\"1413.49\" cy=\"498.877\" r=\"2\"/>\n",
       "<circle clip-path=\"url(#clip492)\" style=\"fill:#009af9; stroke:none; fill-opacity:0\" cx=\"1437.92\" cy=\"559.095\" r=\"2\"/>\n",
       "<circle clip-path=\"url(#clip492)\" style=\"fill:#009af9; stroke:none; fill-opacity:0\" cx=\"1462.35\" cy=\"589.204\" r=\"2\"/>\n",
       "<circle clip-path=\"url(#clip492)\" style=\"fill:#009af9; stroke:none; fill-opacity:0\" cx=\"1486.78\" cy=\"703.617\" r=\"2\"/>\n",
       "<circle clip-path=\"url(#clip492)\" style=\"fill:#009af9; stroke:none; fill-opacity:0\" cx=\"1511.21\" cy=\"956.532\" r=\"2\"/>\n",
       "<circle clip-path=\"url(#clip492)\" style=\"fill:#009af9; stroke:none; fill-opacity:0\" cx=\"1535.65\" cy=\"914.379\" r=\"2\"/>\n",
       "<circle clip-path=\"url(#clip492)\" style=\"fill:#009af9; stroke:none; fill-opacity:0\" cx=\"1560.08\" cy=\"974.597\" r=\"2\"/>\n",
       "<circle clip-path=\"url(#clip492)\" style=\"fill:#009af9; stroke:none; fill-opacity:0\" cx=\"1584.51\" cy=\"986.641\" r=\"2\"/>\n",
       "<circle clip-path=\"url(#clip492)\" style=\"fill:#009af9; stroke:none; fill-opacity:0\" cx=\"1608.94\" cy=\"1095.03\" r=\"2\"/>\n",
       "<circle clip-path=\"url(#clip492)\" style=\"fill:#009af9; stroke:none; fill-opacity:0\" cx=\"1633.38\" cy=\"1191.38\" r=\"2\"/>\n",
       "<circle clip-path=\"url(#clip492)\" style=\"fill:#009af9; stroke:none; fill-opacity:0\" cx=\"1657.81\" cy=\"1281.71\" r=\"2\"/>\n",
       "<circle clip-path=\"url(#clip492)\" style=\"fill:#009af9; stroke:none; fill-opacity:0\" cx=\"1682.24\" cy=\"1347.95\" r=\"2\"/>\n",
       "<circle clip-path=\"url(#clip492)\" style=\"fill:#009af9; stroke:none; fill-opacity:0\" cx=\"1706.67\" cy=\"1347.95\" r=\"2\"/>\n",
       "<circle clip-path=\"url(#clip492)\" style=\"fill:#009af9; stroke:none; fill-opacity:0\" cx=\"1731.1\" cy=\"1347.95\" r=\"2\"/>\n",
       "<circle clip-path=\"url(#clip492)\" style=\"fill:#009af9; stroke:none; fill-opacity:0\" cx=\"1755.54\" cy=\"1353.97\" r=\"2\"/>\n",
       "<circle clip-path=\"url(#clip492)\" style=\"fill:#009af9; stroke:none; fill-opacity:0\" cx=\"1779.97\" cy=\"1444.3\" r=\"2\"/>\n",
       "<circle clip-path=\"url(#clip492)\" style=\"fill:#009af9; stroke:none; fill-opacity:0\" cx=\"1804.4\" cy=\"1426.23\" r=\"2\"/>\n",
       "<circle clip-path=\"url(#clip492)\" style=\"fill:#009af9; stroke:none; fill-opacity:0\" cx=\"1828.83\" cy=\"1420.21\" r=\"2\"/>\n",
       "<circle clip-path=\"url(#clip492)\" style=\"fill:#009af9; stroke:none; fill-opacity:0\" cx=\"1853.26\" cy=\"1444.3\" r=\"2\"/>\n",
       "<circle clip-path=\"url(#clip492)\" style=\"fill:#009af9; stroke:none; fill-opacity:0\" cx=\"1877.7\" cy=\"1450.32\" r=\"2\"/>\n",
       "<circle clip-path=\"url(#clip492)\" style=\"fill:#009af9; stroke:none; fill-opacity:0\" cx=\"1902.13\" cy=\"1438.27\" r=\"2\"/>\n",
       "<circle clip-path=\"url(#clip492)\" style=\"fill:#009af9; stroke:none; fill-opacity:0\" cx=\"1926.56\" cy=\"1468.38\" r=\"2\"/>\n",
       "<circle clip-path=\"url(#clip492)\" style=\"fill:#009af9; stroke:none; fill-opacity:0\" cx=\"1950.99\" cy=\"1474.4\" r=\"2\"/>\n",
       "<circle clip-path=\"url(#clip492)\" style=\"fill:#009af9; stroke:none; fill-opacity:0\" cx=\"1975.43\" cy=\"1456.34\" r=\"2\"/>\n",
       "<circle clip-path=\"url(#clip492)\" style=\"fill:#009af9; stroke:none; fill-opacity:0\" cx=\"1999.86\" cy=\"1486.45\" r=\"2\"/>\n",
       "<circle clip-path=\"url(#clip492)\" style=\"fill:#009af9; stroke:none; fill-opacity:0\" cx=\"2024.29\" cy=\"1480.43\" r=\"2\"/>\n",
       "<circle clip-path=\"url(#clip492)\" style=\"fill:#009af9; stroke:none; fill-opacity:0\" cx=\"2048.72\" cy=\"1486.45\" r=\"2\"/>\n",
       "<circle clip-path=\"url(#clip492)\" style=\"fill:#009af9; stroke:none; fill-opacity:0\" cx=\"2073.15\" cy=\"1486.45\" r=\"2\"/>\n",
       "<circle clip-path=\"url(#clip492)\" style=\"fill:#009af9; stroke:none; fill-opacity:0\" cx=\"2097.59\" cy=\"1486.45\" r=\"2\"/>\n",
       "<circle clip-path=\"url(#clip492)\" style=\"fill:#009af9; stroke:none; fill-opacity:0\" cx=\"2122.02\" cy=\"1480.43\" r=\"2\"/>\n",
       "<circle clip-path=\"url(#clip492)\" style=\"fill:#009af9; stroke:none; fill-opacity:0\" cx=\"2146.45\" cy=\"1486.45\" r=\"2\"/>\n",
       "<circle clip-path=\"url(#clip492)\" style=\"fill:#009af9; stroke:none; fill-opacity:0\" cx=\"2170.88\" cy=\"1486.45\" r=\"2\"/>\n",
       "<circle clip-path=\"url(#clip492)\" style=\"fill:#009af9; stroke:none; fill-opacity:0\" cx=\"2195.32\" cy=\"1486.45\" r=\"2\"/>\n",
       "<circle clip-path=\"url(#clip492)\" style=\"fill:#009af9; stroke:none; fill-opacity:0\" cx=\"2219.75\" cy=\"1480.43\" r=\"2\"/>\n",
       "</svg>\n"
      ]
     },
     "metadata": {},
     "output_type": "display_data"
    }
   ],
   "source": [
    "Ω = randn(5000);\n",
    "histogram(Ω, legend = false, norm=true, nbins = 100, alpha = 0.8)"
   ]
  },
  {
   "cell_type": "code",
   "execution_count": 63,
   "metadata": {},
   "outputs": [
    {
     "data": {
      "image/png": "[encoded data removed]",
      "image/svg+xml": [
       "<?xml version=\"1.0\" encoding=\"utf-8\"?>\n",
       "<svg xmlns=\"http://www.w3.org/2000/svg\" xmlns:xlink=\"http://www.w3.org/1999/xlink\" width=\"600\" height=\"400\" viewBox=\"0 0 2400 1600\">\n",
       "<defs>\n",
       "  <clipPath id=\"clip530\">\n",
       "    <rect x=\"0\" y=\"0\" width=\"2400\" height=\"1600\"/>\n",
       "  </clipPath>\n",
       "</defs>\n",
       "<path clip-path=\"url(#clip530)\" d=\"M0 1600 L2400 1600 L2400 0 L0 0  Z\" fill=\"#ffffff\" fill-rule=\"evenodd\" fill-opacity=\"1\"/>\n",
       "<defs>\n",
       "  <clipPath id=\"clip531\">\n",
       "    <rect x=\"480\" y=\"0\" width=\"1681\" height=\"1600\"/>\n",
       "  </clipPath>\n",
       "</defs>\n",
       "<path clip-path=\"url(#clip530)\" d=\"M156.598 1486.45 L2352.76 1486.45 L2352.76 47.2441 L156.598 47.2441  Z\" fill=\"#ffffff\" fill-rule=\"evenodd\" fill-opacity=\"1\"/>\n",
       "<defs>\n",
       "  <clipPath id=\"clip532\">\n",
       "    <rect x=\"156\" y=\"47\" width=\"2197\" height=\"1440\"/>\n",
       "  </clipPath>\n",
       "</defs>\n",
       "<polyline clip-path=\"url(#clip532)\" style=\"stroke:#000000; stroke-linecap:round; stroke-linejoin:round; stroke-width:2; stroke-opacity:0.1; fill:none\" points=\"425.938,1486.45 425.938,47.2441 \"/>\n",
       "<polyline clip-path=\"url(#clip532)\" style=\"stroke:#000000; stroke-linecap:round; stroke-linejoin:round; stroke-width:2; stroke-opacity:0.1; fill:none\" points=\"840.308,1486.45 840.308,47.2441 \"/>\n",
       "<polyline clip-path=\"url(#clip532)\" style=\"stroke:#000000; stroke-linecap:round; stroke-linejoin:round; stroke-width:2; stroke-opacity:0.1; fill:none\" points=\"1254.68,1486.45 1254.68,47.2441 \"/>\n",
       "<polyline clip-path=\"url(#clip532)\" style=\"stroke:#000000; stroke-linecap:round; stroke-linejoin:round; stroke-width:2; stroke-opacity:0.1; fill:none\" points=\"1669.05,1486.45 1669.05,47.2441 \"/>\n",
       "<polyline clip-path=\"url(#clip532)\" style=\"stroke:#000000; stroke-linecap:round; stroke-linejoin:round; stroke-width:2; stroke-opacity:0.1; fill:none\" points=\"2083.42,1486.45 2083.42,47.2441 \"/>\n",
       "<polyline clip-path=\"url(#clip532)\" style=\"stroke:#000000; stroke-linecap:round; stroke-linejoin:round; stroke-width:2; stroke-opacity:0.1; fill:none\" points=\"156.598,1486.45 2352.76,1486.45 \"/>\n",
       "<polyline clip-path=\"url(#clip532)\" style=\"stroke:#000000; stroke-linecap:round; stroke-linejoin:round; stroke-width:2; stroke-opacity:0.1; fill:none\" points=\"156.598,1185.36 2352.76,1185.36 \"/>\n",
       "<polyline clip-path=\"url(#clip532)\" style=\"stroke:#000000; stroke-linecap:round; stroke-linejoin:round; stroke-width:2; stroke-opacity:0.1; fill:none\" points=\"156.598,884.271 2352.76,884.271 \"/>\n",
       "<polyline clip-path=\"url(#clip532)\" style=\"stroke:#000000; stroke-linecap:round; stroke-linejoin:round; stroke-width:2; stroke-opacity:0.1; fill:none\" points=\"156.598,583.182 2352.76,583.182 \"/>\n",
       "<polyline clip-path=\"url(#clip532)\" style=\"stroke:#000000; stroke-linecap:round; stroke-linejoin:round; stroke-width:2; stroke-opacity:0.1; fill:none\" points=\"156.598,282.093 2352.76,282.093 \"/>\n",
       "<polyline clip-path=\"url(#clip530)\" style=\"stroke:#000000; stroke-linecap:round; stroke-linejoin:round; stroke-width:4; stroke-opacity:1; fill:none\" points=\"156.598,1486.45 2352.76,1486.45 \"/>\n",
       "<polyline clip-path=\"url(#clip530)\" style=\"stroke:#000000; stroke-linecap:round; stroke-linejoin:round; stroke-width:4; stroke-opacity:1; fill:none\" points=\"425.938,1486.45 425.938,1467.55 \"/>\n",
       "<polyline clip-path=\"url(#clip530)\" style=\"stroke:#000000; stroke-linecap:round; stroke-linejoin:round; stroke-width:4; stroke-opacity:1; fill:none\" points=\"840.308,1486.45 840.308,1467.55 \"/>\n",
       "<polyline clip-path=\"url(#clip530)\" style=\"stroke:#000000; stroke-linecap:round; stroke-linejoin:round; stroke-width:4; stroke-opacity:1; fill:none\" points=\"1254.68,1486.45 1254.68,1467.55 \"/>\n",
       "<polyline clip-path=\"url(#clip530)\" style=\"stroke:#000000; stroke-linecap:round; stroke-linejoin:round; stroke-width:4; stroke-opacity:1; fill:none\" points=\"1669.05,1486.45 1669.05,1467.55 \"/>\n",
       "<polyline clip-path=\"url(#clip530)\" style=\"stroke:#000000; stroke-linecap:round; stroke-linejoin:round; stroke-width:4; stroke-opacity:1; fill:none\" points=\"2083.42,1486.45 2083.42,1467.55 \"/>\n",
       "<path clip-path=\"url(#clip530)\" d=\"M394.839 1532.02 L424.515 1532.02 L424.515 1535.95 L394.839 1535.95 L394.839 1532.02 Z\" fill=\"#000000\" fill-rule=\"nonzero\" fill-opacity=\"1\" /><path clip-path=\"url(#clip530)\" d=\"M447.454 1518.36 L435.649 1536.81 L447.454 1536.81 L447.454 1518.36 M446.228 1514.29 L452.107 1514.29 L452.107 1536.81 L457.038 1536.81 L457.038 1540.7 L452.107 1540.7 L452.107 1548.85 L447.454 1548.85 L447.454 1540.7 L431.853 1540.7 L431.853 1536.19 L446.228 1514.29 Z\" fill=\"#000000\" fill-rule=\"nonzero\" fill-opacity=\"1\" /><path clip-path=\"url(#clip530)\" d=\"M810.25 1532.02 L839.926 1532.02 L839.926 1535.95 L810.25 1535.95 L810.25 1532.02 Z\" fill=\"#000000\" fill-rule=\"nonzero\" fill-opacity=\"1\" /><path clip-path=\"url(#clip530)\" d=\"M854.046 1544.91 L870.365 1544.91 L870.365 1548.85 L848.421 1548.85 L848.421 1544.91 Q851.083 1542.16 855.666 1537.53 Q860.273 1532.88 861.453 1531.53 Q863.699 1529.01 864.578 1527.27 Q865.481 1525.51 865.481 1523.82 Q865.481 1521.07 863.537 1519.33 Q861.615 1517.6 858.514 1517.6 Q856.315 1517.6 853.861 1518.36 Q851.43 1519.13 848.653 1520.68 L848.653 1515.95 Q851.477 1514.82 853.93 1514.24 Q856.384 1513.66 858.421 1513.66 Q863.791 1513.66 866.986 1516.35 Q870.18 1519.03 870.18 1523.52 Q870.18 1525.65 869.37 1527.57 Q868.583 1529.47 866.477 1532.07 Q865.898 1532.74 862.796 1535.95 Q859.694 1539.15 854.046 1544.91 Z\" fill=\"#000000\" fill-rule=\"nonzero\" fill-opacity=\"1\" /><path clip-path=\"url(#clip530)\" d=\"M1254.68 1517.37 Q1251.07 1517.37 1249.24 1520.93 Q1247.43 1524.47 1247.43 1531.6 Q1247.43 1538.71 1249.24 1542.27 Q1251.07 1545.82 1254.68 1545.82 Q1258.31 1545.82 1260.12 1542.27 Q1261.95 1538.71 1261.95 1531.6 Q1261.95 1524.47 1260.12 1520.93 Q1258.31 1517.37 1254.68 1517.37 M1254.68 1513.66 Q1260.49 1513.66 1263.54 1518.27 Q1266.62 1522.85 1266.62 1531.6 Q1266.62 1540.33 1263.54 1544.94 Q1260.49 1549.52 1254.68 1549.52 Q1248.87 1549.52 1245.79 1544.94 Q1242.73 1540.33 1242.73 1531.6 Q1242.73 1522.85 1245.79 1518.27 Q1248.87 1513.66 1254.68 1513.66 Z\" fill=\"#000000\" fill-rule=\"nonzero\" fill-opacity=\"1\" /><path clip-path=\"url(#clip530)\" d=\"M1663.7 1544.91 L1680.02 1544.91 L1680.02 1548.85 L1658.07 1548.85 L1658.07 1544.91 Q1660.74 1542.16 1665.32 1537.53 Q1669.93 1532.88 1671.11 1531.53 Q1673.35 1529.01 1674.23 1527.27 Q1675.13 1525.51 1675.13 1523.82 Q1675.13 1521.07 1673.19 1519.33 Q1671.27 1517.6 1668.17 1517.6 Q1665.97 1517.6 1663.51 1518.36 Q1661.08 1519.13 1658.31 1520.68 L1658.31 1515.95 Q1661.13 1514.82 1663.58 1514.24 Q1666.04 1513.66 1668.07 1513.66 Q1673.44 1513.66 1676.64 1516.35 Q1679.83 1519.03 1679.83 1523.52 Q1679.83 1525.65 1679.02 1527.57 Q1678.24 1529.47 1676.13 1532.07 Q1675.55 1532.74 1672.45 1535.95 Q1669.35 1539.15 1663.7 1544.91 Z\" fill=\"#000000\" fill-rule=\"nonzero\" fill-opacity=\"1\" /><path clip-path=\"url(#clip530)\" d=\"M2086.43 1518.36 L2074.62 1536.81 L2086.43 1536.81 L2086.43 1518.36 M2085.2 1514.29 L2091.08 1514.29 L2091.08 1536.81 L2096.01 1536.81 L2096.01 1540.7 L2091.08 1540.7 L2091.08 1548.85 L2086.43 1548.85 L2086.43 1540.7 L2070.82 1540.7 L2070.82 1536.19 L2085.2 1514.29 Z\" fill=\"#000000\" fill-rule=\"nonzero\" fill-opacity=\"1\" /><polyline clip-path=\"url(#clip530)\" style=\"stroke:#000000; stroke-linecap:round; stroke-linejoin:round; stroke-width:4; stroke-opacity:1; fill:none\" points=\"156.598,1486.45 156.598,47.2441 \"/>\n",
       "<polyline clip-path=\"url(#clip530)\" style=\"stroke:#000000; stroke-linecap:round; stroke-linejoin:round; stroke-width:4; stroke-opacity:1; fill:none\" points=\"156.598,1486.45 175.496,1486.45 \"/>\n",
       "<polyline clip-path=\"url(#clip530)\" style=\"stroke:#000000; stroke-linecap:round; stroke-linejoin:round; stroke-width:4; stroke-opacity:1; fill:none\" points=\"156.598,1185.36 175.496,1185.36 \"/>\n",
       "<polyline clip-path=\"url(#clip530)\" style=\"stroke:#000000; stroke-linecap:round; stroke-linejoin:round; stroke-width:4; stroke-opacity:1; fill:none\" points=\"156.598,884.271 175.496,884.271 \"/>\n",
       "<polyline clip-path=\"url(#clip530)\" style=\"stroke:#000000; stroke-linecap:round; stroke-linejoin:round; stroke-width:4; stroke-opacity:1; fill:none\" points=\"156.598,583.182 175.496,583.182 \"/>\n",
       "<polyline clip-path=\"url(#clip530)\" style=\"stroke:#000000; stroke-linecap:round; stroke-linejoin:round; stroke-width:4; stroke-opacity:1; fill:none\" points=\"156.598,282.093 175.496,282.093 \"/>\n",
       "<path clip-path=\"url(#clip530)\" d=\"M63.4226 1472.25 Q59.8115 1472.25 57.9828 1475.81 Q56.1773 1479.35 56.1773 1486.48 Q56.1773 1493.59 57.9828 1497.15 Q59.8115 1500.7 63.4226 1500.7 Q67.0569 1500.7 68.8624 1497.15 Q70.6911 1493.59 70.6911 1486.48 Q70.6911 1479.35 68.8624 1475.81 Q67.0569 1472.25 63.4226 1472.25 M63.4226 1468.54 Q69.2328 1468.54 72.2883 1473.15 Q75.367 1477.73 75.367 1486.48 Q75.367 1495.21 72.2883 1499.82 Q69.2328 1504.4 63.4226 1504.4 Q57.6125 1504.4 54.5338 1499.82 Q51.4782 1495.21 51.4782 1486.48 Q51.4782 1477.73 54.5338 1473.15 Q57.6125 1468.54 63.4226 1468.54 Z\" fill=\"#000000\" fill-rule=\"nonzero\" fill-opacity=\"1\" /><path clip-path=\"url(#clip530)\" d=\"M83.5845 1497.85 L88.4688 1497.85 L88.4688 1503.73 L83.5845 1503.73 L83.5845 1497.85 Z\" fill=\"#000000\" fill-rule=\"nonzero\" fill-opacity=\"1\" /><path clip-path=\"url(#clip530)\" d=\"M108.654 1472.25 Q105.043 1472.25 103.214 1475.81 Q101.409 1479.35 101.409 1486.48 Q101.409 1493.59 103.214 1497.15 Q105.043 1500.7 108.654 1500.7 Q112.288 1500.7 114.094 1497.15 Q115.922 1493.59 115.922 1486.48 Q115.922 1479.35 114.094 1475.81 Q112.288 1472.25 108.654 1472.25 M108.654 1468.54 Q114.464 1468.54 117.52 1473.15 Q120.598 1477.73 120.598 1486.48 Q120.598 1495.21 117.52 1499.82 Q114.464 1504.4 108.654 1504.4 Q102.844 1504.4 99.765 1499.82 Q96.7095 1495.21 96.7095 1486.48 Q96.7095 1477.73 99.765 1473.15 Q102.844 1468.54 108.654 1468.54 Z\" fill=\"#000000\" fill-rule=\"nonzero\" fill-opacity=\"1\" /><path clip-path=\"url(#clip530)\" d=\"M64.6495 1171.16 Q61.0384 1171.16 59.2097 1174.72 Q57.4041 1178.26 57.4041 1185.39 Q57.4041 1192.5 59.2097 1196.07 Q61.0384 1199.61 64.6495 1199.61 Q68.2837 1199.61 70.0892 1196.07 Q71.9179 1192.5 71.9179 1185.39 Q71.9179 1178.26 70.0892 1174.72 Q68.2837 1171.16 64.6495 1171.16 M64.6495 1167.45 Q70.4596 1167.45 73.5152 1172.06 Q76.5938 1176.64 76.5938 1185.39 Q76.5938 1194.12 73.5152 1198.73 Q70.4596 1203.31 64.6495 1203.31 Q58.8393 1203.31 55.7606 1198.73 Q52.7051 1194.12 52.7051 1185.39 Q52.7051 1176.64 55.7606 1172.06 Q58.8393 1167.45 64.6495 1167.45 Z\" fill=\"#000000\" fill-rule=\"nonzero\" fill-opacity=\"1\" /><path clip-path=\"url(#clip530)\" d=\"M84.8114 1196.76 L89.6956 1196.76 L89.6956 1202.64 L84.8114 1202.64 L84.8114 1196.76 Z\" fill=\"#000000\" fill-rule=\"nonzero\" fill-opacity=\"1\" /><path clip-path=\"url(#clip530)\" d=\"M100.691 1198.7 L108.33 1198.7 L108.33 1172.34 L100.02 1174.01 L100.02 1169.75 L108.283 1168.08 L112.959 1168.08 L112.959 1198.7 L120.598 1198.7 L120.598 1202.64 L100.691 1202.64 L100.691 1198.7 Z\" fill=\"#000000\" fill-rule=\"nonzero\" fill-opacity=\"1\" /><path clip-path=\"url(#clip530)\" d=\"M65.0198 870.069 Q61.4087 870.069 59.58 873.634 Q57.7745 877.176 57.7745 884.305 Q57.7745 891.412 59.58 894.977 Q61.4087 898.518 65.0198 898.518 Q68.6541 898.518 70.4596 894.977 Q72.2883 891.412 72.2883 884.305 Q72.2883 877.176 70.4596 873.634 Q68.6541 870.069 65.0198 870.069 M65.0198 866.366 Q70.83 866.366 73.8855 870.972 Q76.9642 875.555 76.9642 884.305 Q76.9642 893.032 73.8855 897.639 Q70.83 902.222 65.0198 902.222 Q59.2097 902.222 56.131 897.639 Q53.0754 893.032 53.0754 884.305 Q53.0754 875.555 56.131 870.972 Q59.2097 866.366 65.0198 866.366 Z\" fill=\"#000000\" fill-rule=\"nonzero\" fill-opacity=\"1\" /><path clip-path=\"url(#clip530)\" d=\"M85.1818 895.671 L90.066 895.671 L90.066 901.551 L85.1818 901.551 L85.1818 895.671 Z\" fill=\"#000000\" fill-rule=\"nonzero\" fill-opacity=\"1\" /><path clip-path=\"url(#clip530)\" d=\"M104.279 897.615 L120.598 897.615 L120.598 901.551 L98.6539 901.551 L98.6539 897.615 Q101.316 894.861 105.899 890.231 Q110.506 885.578 111.686 884.236 Q113.932 881.713 114.811 879.977 Q115.714 878.217 115.714 876.528 Q115.714 873.773 113.77 872.037 Q111.848 870.301 108.746 870.301 Q106.547 870.301 104.094 871.065 Q101.663 871.828 98.8854 873.379 L98.8854 868.657 Q101.709 867.523 104.163 866.944 Q106.617 866.366 108.654 866.366 Q114.024 866.366 117.219 869.051 Q120.413 871.736 120.413 876.227 Q120.413 878.356 119.603 880.278 Q118.816 882.176 116.709 884.768 Q116.131 885.44 113.029 888.657 Q109.927 891.852 104.279 897.615 Z\" fill=\"#000000\" fill-rule=\"nonzero\" fill-opacity=\"1\" /><path clip-path=\"url(#clip530)\" d=\"M64.0708 568.981 Q60.4597 568.981 58.631 572.545 Q56.8254 576.087 56.8254 583.217 Q56.8254 590.323 58.631 593.888 Q60.4597 597.43 64.0708 597.43 Q67.705 597.43 69.5105 593.888 Q71.3392 590.323 71.3392 583.217 Q71.3392 576.087 69.5105 572.545 Q67.705 568.981 64.0708 568.981 M64.0708 565.277 Q69.8809 565.277 72.9365 569.883 Q76.0151 574.467 76.0151 583.217 Q76.0151 591.943 72.9365 596.55 Q69.8809 601.133 64.0708 601.133 Q58.2606 601.133 55.1819 596.55 Q52.1264 591.943 52.1264 583.217 Q52.1264 574.467 55.1819 569.883 Q58.2606 565.277 64.0708 565.277 Z\" fill=\"#000000\" fill-rule=\"nonzero\" fill-opacity=\"1\" /><path clip-path=\"url(#clip530)\" d=\"M84.2327 594.582 L89.1169 594.582 L89.1169 600.462 L84.2327 600.462 L84.2327 594.582 Z\" fill=\"#000000\" fill-rule=\"nonzero\" fill-opacity=\"1\" /><path clip-path=\"url(#clip530)\" d=\"M113.469 581.828 Q116.825 582.545 118.7 584.814 Q120.598 587.082 120.598 590.416 Q120.598 595.531 117.08 598.332 Q113.561 601.133 107.08 601.133 Q104.904 601.133 102.589 600.693 Q100.297 600.277 97.8437 599.42 L97.8437 594.906 Q99.7882 596.041 102.103 596.619 Q104.418 597.198 106.941 597.198 Q111.339 597.198 113.631 595.462 Q115.945 593.726 115.945 590.416 Q115.945 587.36 113.793 585.647 Q111.663 583.911 107.844 583.911 L103.816 583.911 L103.816 580.068 L108.029 580.068 Q111.478 580.068 113.307 578.703 Q115.135 577.314 115.135 574.721 Q115.135 572.059 113.237 570.647 Q111.362 569.212 107.844 569.212 Q105.922 569.212 103.723 569.629 Q101.524 570.045 98.8854 570.925 L98.8854 566.758 Q101.547 566.018 103.862 565.647 Q106.2 565.277 108.26 565.277 Q113.584 565.277 116.686 567.707 Q119.788 570.115 119.788 574.235 Q119.788 577.106 118.145 579.096 Q116.501 581.064 113.469 581.828 Z\" fill=\"#000000\" fill-rule=\"nonzero\" fill-opacity=\"1\" /><path clip-path=\"url(#clip530)\" d=\"M62.9365 267.892 Q59.3254 267.892 57.4967 271.457 Q55.6912 274.998 55.6912 282.128 Q55.6912 289.234 57.4967 292.799 Q59.3254 296.341 62.9365 296.341 Q66.5707 296.341 68.3763 292.799 Q70.205 289.234 70.205 282.128 Q70.205 274.998 68.3763 271.457 Q66.5707 267.892 62.9365 267.892 M62.9365 264.188 Q68.7467 264.188 71.8022 268.795 Q74.8809 273.378 74.8809 282.128 Q74.8809 290.855 71.8022 295.461 Q68.7467 300.045 62.9365 300.045 Q57.1264 300.045 54.0477 295.461 Q50.9921 290.855 50.9921 282.128 Q50.9921 273.378 54.0477 268.795 Q57.1264 264.188 62.9365 264.188 Z\" fill=\"#000000\" fill-rule=\"nonzero\" fill-opacity=\"1\" /><path clip-path=\"url(#clip530)\" d=\"M83.0984 293.494 L87.9827 293.494 L87.9827 299.373 L83.0984 299.373 L83.0984 293.494 Z\" fill=\"#000000\" fill-rule=\"nonzero\" fill-opacity=\"1\" /><path clip-path=\"url(#clip530)\" d=\"M111.015 268.887 L99.2095 287.336 L111.015 287.336 L111.015 268.887 M109.788 264.813 L115.668 264.813 L115.668 287.336 L120.598 287.336 L120.598 291.225 L115.668 291.225 L115.668 299.373 L111.015 299.373 L111.015 291.225 L95.4132 291.225 L95.4132 286.711 L109.788 264.813 Z\" fill=\"#000000\" fill-rule=\"nonzero\" fill-opacity=\"1\" /><path clip-path=\"url(#clip532)\" d=\"M446.657 1480.43 L446.657 1486.45 L467.375 1486.45 L467.375 1480.43 L446.657 1480.43 L446.657 1480.43  Z\" fill=\"#009af9\" fill-rule=\"evenodd\" fill-opacity=\"0.8\"/>\n",
       "<polyline clip-path=\"url(#clip532)\" style=\"stroke:#000000; stroke-linecap:round; stroke-linejoin:round; stroke-width:4; stroke-opacity:0.8; fill:none\" points=\"446.657,1480.43 446.657,1486.45 467.375,1486.45 467.375,1480.43 446.657,1480.43 \"/>\n",
       "<path clip-path=\"url(#clip532)\" d=\"M467.375 1486.45 L467.375 1486.45 L488.094 1486.45 L488.094 1486.45 L467.375 1486.45 L467.375 1486.45  Z\" fill=\"#009af9\" fill-rule=\"evenodd\" fill-opacity=\"0.8\"/>\n",
       "<polyline clip-path=\"url(#clip532)\" style=\"stroke:#000000; stroke-linecap:round; stroke-linejoin:round; stroke-width:4; stroke-opacity:0.8; fill:none\" points=\"467.375,1486.45 467.375,1486.45 488.094,1486.45 467.375,1486.45 \"/>\n",
       "<path clip-path=\"url(#clip532)\" d=\"M488.094 1486.45 L488.094 1486.45 L508.812 1486.45 L508.812 1486.45 L488.094 1486.45 L488.094 1486.45  Z\" fill=\"#009af9\" fill-rule=\"evenodd\" fill-opacity=\"0.8\"/>\n",
       "<polyline clip-path=\"url(#clip532)\" style=\"stroke:#000000; stroke-linecap:round; stroke-linejoin:round; stroke-width:4; stroke-opacity:0.8; fill:none\" points=\"488.094,1486.45 488.094,1486.45 508.812,1486.45 488.094,1486.45 \"/>\n",
       "<path clip-path=\"url(#clip532)\" d=\"M508.812 1480.43 L508.812 1486.45 L529.531 1486.45 L529.531 1480.43 L508.812 1480.43 L508.812 1480.43  Z\" fill=\"#009af9\" fill-rule=\"evenodd\" fill-opacity=\"0.8\"/>\n",
       "<polyline clip-path=\"url(#clip532)\" style=\"stroke:#000000; stroke-linecap:round; stroke-linejoin:round; stroke-width:4; stroke-opacity:0.8; fill:none\" points=\"508.812,1480.43 508.812,1486.45 529.531,1486.45 529.531,1480.43 508.812,1480.43 \"/>\n",
       "<path clip-path=\"url(#clip532)\" d=\"M529.531 1486.45 L529.531 1486.45 L550.249 1486.45 L550.249 1486.45 L529.531 1486.45 L529.531 1486.45  Z\" fill=\"#009af9\" fill-rule=\"evenodd\" fill-opacity=\"0.8\"/>\n",
       "<polyline clip-path=\"url(#clip532)\" style=\"stroke:#000000; stroke-linecap:round; stroke-linejoin:round; stroke-width:4; stroke-opacity:0.8; fill:none\" points=\"529.531,1486.45 529.531,1486.45 550.249,1486.45 529.531,1486.45 \"/>\n",
       "<path clip-path=\"url(#clip532)\" d=\"M550.249 1480.43 L550.249 1486.45 L570.968 1486.45 L570.968 1480.43 L550.249 1480.43 L550.249 1480.43  Z\" fill=\"#009af9\" fill-rule=\"evenodd\" fill-opacity=\"0.8\"/>\n",
       "<polyline clip-path=\"url(#clip532)\" style=\"stroke:#000000; stroke-linecap:round; stroke-linejoin:round; stroke-width:4; stroke-opacity:0.8; fill:none\" points=\"550.249,1480.43 550.249,1486.45 570.968,1486.45 570.968,1480.43 550.249,1480.43 \"/>\n",
       "<path clip-path=\"url(#clip532)\" d=\"M570.968 1474.4 L570.968 1486.45 L591.686 1486.45 L591.686 1474.4 L570.968 1474.4 L570.968 1474.4  Z\" fill=\"#009af9\" fill-rule=\"evenodd\" fill-opacity=\"0.8\"/>\n",
       "<polyline clip-path=\"url(#clip532)\" style=\"stroke:#000000; stroke-linecap:round; stroke-linejoin:round; stroke-width:4; stroke-opacity:0.8; fill:none\" points=\"570.968,1474.4 570.968,1486.45 591.686,1486.45 591.686,1474.4 570.968,1474.4 \"/>\n",
       "<path clip-path=\"url(#clip532)\" d=\"M591.686 1486.45 L591.686 1486.45 L612.405 1486.45 L612.405 1486.45 L591.686 1486.45 L591.686 1486.45  Z\" fill=\"#009af9\" fill-rule=\"evenodd\" fill-opacity=\"0.8\"/>\n",
       "<polyline clip-path=\"url(#clip532)\" style=\"stroke:#000000; stroke-linecap:round; stroke-linejoin:round; stroke-width:4; stroke-opacity:0.8; fill:none\" points=\"591.686,1486.45 591.686,1486.45 612.405,1486.45 591.686,1486.45 \"/>\n",
       "<path clip-path=\"url(#clip532)\" d=\"M612.405 1468.38 L612.405 1486.45 L633.123 1486.45 L633.123 1468.38 L612.405 1468.38 L612.405 1468.38  Z\" fill=\"#009af9\" fill-rule=\"evenodd\" fill-opacity=\"0.8\"/>\n",
       "<polyline clip-path=\"url(#clip532)\" style=\"stroke:#000000; stroke-linecap:round; stroke-linejoin:round; stroke-width:4; stroke-opacity:0.8; fill:none\" points=\"612.405,1468.38 612.405,1486.45 633.123,1486.45 633.123,1468.38 612.405,1468.38 \"/>\n",
       "<path clip-path=\"url(#clip532)\" d=\"M633.123 1456.34 L633.123 1486.45 L653.841 1486.45 L653.841 1456.34 L633.123 1456.34 L633.123 1456.34  Z\" fill=\"#009af9\" fill-rule=\"evenodd\" fill-opacity=\"0.8\"/>\n",
       "<polyline clip-path=\"url(#clip532)\" style=\"stroke:#000000; stroke-linecap:round; stroke-linejoin:round; stroke-width:4; stroke-opacity:0.8; fill:none\" points=\"633.123,1456.34 633.123,1486.45 653.841,1486.45 653.841,1456.34 633.123,1456.34 \"/>\n",
       "<path clip-path=\"url(#clip532)\" d=\"M653.841 1486.45 L653.841 1486.45 L674.56 1486.45 L674.56 1486.45 L653.841 1486.45 L653.841 1486.45  Z\" fill=\"#009af9\" fill-rule=\"evenodd\" fill-opacity=\"0.8\"/>\n",
       "<polyline clip-path=\"url(#clip532)\" style=\"stroke:#000000; stroke-linecap:round; stroke-linejoin:round; stroke-width:4; stroke-opacity:0.8; fill:none\" points=\"653.841,1486.45 653.841,1486.45 674.56,1486.45 653.841,1486.45 \"/>\n",
       "<path clip-path=\"url(#clip532)\" d=\"M674.56 1474.4 L674.56 1486.45 L695.278 1486.45 L695.278 1474.4 L674.56 1474.4 L674.56 1474.4  Z\" fill=\"#009af9\" fill-rule=\"evenodd\" fill-opacity=\"0.8\"/>\n",
       "<polyline clip-path=\"url(#clip532)\" style=\"stroke:#000000; stroke-linecap:round; stroke-linejoin:round; stroke-width:4; stroke-opacity:0.8; fill:none\" points=\"674.56,1474.4 674.56,1486.45 695.278,1486.45 695.278,1474.4 674.56,1474.4 \"/>\n",
       "<path clip-path=\"url(#clip532)\" d=\"M695.278 1468.38 L695.278 1486.45 L715.997 1486.45 L715.997 1468.38 L695.278 1468.38 L695.278 1468.38  Z\" fill=\"#009af9\" fill-rule=\"evenodd\" fill-opacity=\"0.8\"/>\n",
       "<polyline clip-path=\"url(#clip532)\" style=\"stroke:#000000; stroke-linecap:round; stroke-linejoin:round; stroke-width:4; stroke-opacity:0.8; fill:none\" points=\"695.278,1468.38 695.278,1486.45 715.997,1486.45 715.997,1468.38 695.278,1468.38 \"/>\n",
       "<path clip-path=\"url(#clip532)\" d=\"M715.997 1426.23 L715.997 1486.45 L736.715 1486.45 L736.715 1426.23 L715.997 1426.23 L715.997 1426.23  Z\" fill=\"#009af9\" fill-rule=\"evenodd\" fill-opacity=\"0.8\"/>\n",
       "<polyline clip-path=\"url(#clip532)\" style=\"stroke:#000000; stroke-linecap:round; stroke-linejoin:round; stroke-width:4; stroke-opacity:0.8; fill:none\" points=\"715.997,1426.23 715.997,1486.45 736.715,1486.45 736.715,1426.23 715.997,1426.23 \"/>\n",
       "<path clip-path=\"url(#clip532)\" d=\"M736.715 1444.3 L736.715 1486.45 L757.434 1486.45 L757.434 1444.3 L736.715 1444.3 L736.715 1444.3  Z\" fill=\"#009af9\" fill-rule=\"evenodd\" fill-opacity=\"0.8\"/>\n",
       "<polyline clip-path=\"url(#clip532)\" style=\"stroke:#000000; stroke-linecap:round; stroke-linejoin:round; stroke-width:4; stroke-opacity:0.8; fill:none\" points=\"736.715,1444.3 736.715,1486.45 757.434,1486.45 757.434,1444.3 736.715,1444.3 \"/>\n",
       "<path clip-path=\"url(#clip532)\" d=\"M757.434 1438.27 L757.434 1486.45 L778.152 1486.45 L778.152 1438.27 L757.434 1438.27 L757.434 1438.27  Z\" fill=\"#009af9\" fill-rule=\"evenodd\" fill-opacity=\"0.8\"/>\n",
       "<polyline clip-path=\"url(#clip532)\" style=\"stroke:#000000; stroke-linecap:round; stroke-linejoin:round; stroke-width:4; stroke-opacity:0.8; fill:none\" points=\"757.434,1438.27 757.434,1486.45 778.152,1486.45 778.152,1438.27 757.434,1438.27 \"/>\n",
       "<path clip-path=\"url(#clip532)\" d=\"M778.152 1353.97 L778.152 1486.45 L798.871 1486.45 L798.871 1353.97 L778.152 1353.97 L778.152 1353.97  Z\" fill=\"#009af9\" fill-rule=\"evenodd\" fill-opacity=\"0.8\"/>\n",
       "<polyline clip-path=\"url(#clip532)\" style=\"stroke:#000000; stroke-linecap:round; stroke-linejoin:round; stroke-width:4; stroke-opacity:0.8; fill:none\" points=\"778.152,1353.97 778.152,1486.45 798.871,1486.45 798.871,1353.97 778.152,1353.97 \"/>\n",
       "<path clip-path=\"url(#clip532)\" d=\"M798.871 1323.86 L798.871 1486.45 L819.589 1486.45 L819.589 1323.86 L798.871 1323.86 L798.871 1323.86  Z\" fill=\"#009af9\" fill-rule=\"evenodd\" fill-opacity=\"0.8\"/>\n",
       "<polyline clip-path=\"url(#clip532)\" style=\"stroke:#000000; stroke-linecap:round; stroke-linejoin:round; stroke-width:4; stroke-opacity:0.8; fill:none\" points=\"798.871,1323.86 798.871,1486.45 819.589,1486.45 819.589,1323.86 798.871,1323.86 \"/>\n",
       "<path clip-path=\"url(#clip532)\" d=\"M819.589 1311.82 L819.589 1486.45 L840.308 1486.45 L840.308 1311.82 L819.589 1311.82 L819.589 1311.82  Z\" fill=\"#009af9\" fill-rule=\"evenodd\" fill-opacity=\"0.8\"/>\n",
       "<polyline clip-path=\"url(#clip532)\" style=\"stroke:#000000; stroke-linecap:round; stroke-linejoin:round; stroke-width:4; stroke-opacity:0.8; fill:none\" points=\"819.589,1311.82 819.589,1486.45 840.308,1486.45 840.308,1311.82 819.589,1311.82 \"/>\n",
       "<path clip-path=\"url(#clip532)\" d=\"M840.308 1317.84 L840.308 1486.45 L861.026 1486.45 L861.026 1317.84 L840.308 1317.84 L840.308 1317.84  Z\" fill=\"#009af9\" fill-rule=\"evenodd\" fill-opacity=\"0.8\"/>\n",
       "<polyline clip-path=\"url(#clip532)\" style=\"stroke:#000000; stroke-linecap:round; stroke-linejoin:round; stroke-width:4; stroke-opacity:0.8; fill:none\" points=\"840.308,1317.84 840.308,1486.45 861.026,1486.45 861.026,1317.84 840.308,1317.84 \"/>\n",
       "<path clip-path=\"url(#clip532)\" d=\"M861.026 1227.51 L861.026 1486.45 L881.745 1486.45 L881.745 1227.51 L861.026 1227.51 L861.026 1227.51  Z\" fill=\"#009af9\" fill-rule=\"evenodd\" fill-opacity=\"0.8\"/>\n",
       "<polyline clip-path=\"url(#clip532)\" style=\"stroke:#000000; stroke-linecap:round; stroke-linejoin:round; stroke-width:4; stroke-opacity:0.8; fill:none\" points=\"861.026,1227.51 861.026,1486.45 881.745,1486.45 881.745,1227.51 861.026,1227.51 \"/>\n",
       "<path clip-path=\"url(#clip532)\" d=\"M881.745 1251.6 L881.745 1486.45 L902.463 1486.45 L902.463 1251.6 L881.745 1251.6 L881.745 1251.6  Z\" fill=\"#009af9\" fill-rule=\"evenodd\" fill-opacity=\"0.8\"/>\n",
       "<polyline clip-path=\"url(#clip532)\" style=\"stroke:#000000; stroke-linecap:round; stroke-linejoin:round; stroke-width:4; stroke-opacity:0.8; fill:none\" points=\"881.745,1251.6 881.745,1486.45 902.463,1486.45 902.463,1251.6 881.745,1251.6 \"/>\n",
       "<path clip-path=\"url(#clip532)\" d=\"M902.463 1251.6 L902.463 1486.45 L923.182 1486.45 L923.182 1251.6 L902.463 1251.6 L902.463 1251.6  Z\" fill=\"#009af9\" fill-rule=\"evenodd\" fill-opacity=\"0.8\"/>\n",
       "<polyline clip-path=\"url(#clip532)\" style=\"stroke:#000000; stroke-linecap:round; stroke-linejoin:round; stroke-width:4; stroke-opacity:0.8; fill:none\" points=\"902.463,1251.6 902.463,1486.45 923.182,1486.45 923.182,1251.6 902.463,1251.6 \"/>\n",
       "<path clip-path=\"url(#clip532)\" d=\"M923.182 1107.08 L923.182 1486.45 L943.9 1486.45 L943.9 1107.08 L923.182 1107.08 L923.182 1107.08  Z\" fill=\"#009af9\" fill-rule=\"evenodd\" fill-opacity=\"0.8\"/>\n",
       "<polyline clip-path=\"url(#clip532)\" style=\"stroke:#000000; stroke-linecap:round; stroke-linejoin:round; stroke-width:4; stroke-opacity:0.8; fill:none\" points=\"923.182,1107.08 923.182,1486.45 943.9,1486.45 943.9,1107.08 923.182,1107.08 \"/>\n",
       "<path clip-path=\"url(#clip532)\" d=\"M943.9 1119.12 L943.9 1486.45 L964.619 1486.45 L964.619 1119.12 L943.9 1119.12 L943.9 1119.12  Z\" fill=\"#009af9\" fill-rule=\"evenodd\" fill-opacity=\"0.8\"/>\n",
       "<polyline clip-path=\"url(#clip532)\" style=\"stroke:#000000; stroke-linecap:round; stroke-linejoin:round; stroke-width:4; stroke-opacity:0.8; fill:none\" points=\"943.9,1119.12 943.9,1486.45 964.619,1486.45 964.619,1119.12 943.9,1119.12 \"/>\n",
       "<path clip-path=\"url(#clip532)\" d=\"M964.619 1010.73 L964.619 1486.45 L985.337 1486.45 L985.337 1010.73 L964.619 1010.73 L964.619 1010.73  Z\" fill=\"#009af9\" fill-rule=\"evenodd\" fill-opacity=\"0.8\"/>\n",
       "<polyline clip-path=\"url(#clip532)\" style=\"stroke:#000000; stroke-linecap:round; stroke-linejoin:round; stroke-width:4; stroke-opacity:0.8; fill:none\" points=\"964.619,1010.73 964.619,1486.45 985.337,1486.45 985.337,1010.73 964.619,1010.73 \"/>\n",
       "<path clip-path=\"url(#clip532)\" d=\"M985.337 872.227 L985.337 1486.45 L1006.06 1486.45 L1006.06 872.227 L985.337 872.227 L985.337 872.227  Z\" fill=\"#009af9\" fill-rule=\"evenodd\" fill-opacity=\"0.8\"/>\n",
       "<polyline clip-path=\"url(#clip532)\" style=\"stroke:#000000; stroke-linecap:round; stroke-linejoin:round; stroke-width:4; stroke-opacity:0.8; fill:none\" points=\"985.337,872.227 985.337,1486.45 1006.06,1486.45 1006.06,872.227 985.337,872.227 \"/>\n",
       "<path clip-path=\"url(#clip532)\" d=\"M1006.06 866.205 L1006.06 1486.45 L1026.77 1486.45 L1026.77 866.205 L1006.06 866.205 L1006.06 866.205  Z\" fill=\"#009af9\" fill-rule=\"evenodd\" fill-opacity=\"0.8\"/>\n",
       "<polyline clip-path=\"url(#clip532)\" style=\"stroke:#000000; stroke-linecap:round; stroke-linejoin:round; stroke-width:4; stroke-opacity:0.8; fill:none\" points=\"1006.06,866.205 1006.06,1486.45 1026.77,1486.45 1026.77,866.205 1006.06,866.205 \"/>\n",
       "<path clip-path=\"url(#clip532)\" d=\"M1026.77 902.336 L1026.77 1486.45 L1047.49 1486.45 L1047.49 902.336 L1026.77 902.336 L1026.77 902.336  Z\" fill=\"#009af9\" fill-rule=\"evenodd\" fill-opacity=\"0.8\"/>\n",
       "<polyline clip-path=\"url(#clip532)\" style=\"stroke:#000000; stroke-linecap:round; stroke-linejoin:round; stroke-width:4; stroke-opacity:0.8; fill:none\" points=\"1026.77,902.336 1026.77,1486.45 1047.49,1486.45 1047.49,902.336 1026.77,902.336 \"/>\n",
       "<path clip-path=\"url(#clip532)\" d=\"M1047.49 661.465 L1047.49 1486.45 L1068.21 1486.45 L1068.21 661.465 L1047.49 661.465 L1047.49 661.465  Z\" fill=\"#009af9\" fill-rule=\"evenodd\" fill-opacity=\"0.8\"/>\n",
       "<polyline clip-path=\"url(#clip532)\" style=\"stroke:#000000; stroke-linecap:round; stroke-linejoin:round; stroke-width:4; stroke-opacity:0.8; fill:none\" points=\"1047.49,661.465 1047.49,1486.45 1068.21,1486.45 1068.21,661.465 1047.49,661.465 \"/>\n",
       "<path clip-path=\"url(#clip532)\" d=\"M1068.21 781.9 L1068.21 1486.45 L1088.93 1486.45 L1088.93 781.9 L1068.21 781.9 L1068.21 781.9  Z\" fill=\"#009af9\" fill-rule=\"evenodd\" fill-opacity=\"0.8\"/>\n",
       "<polyline clip-path=\"url(#clip532)\" style=\"stroke:#000000; stroke-linecap:round; stroke-linejoin:round; stroke-width:4; stroke-opacity:0.8; fill:none\" points=\"1068.21,781.9 1068.21,1486.45 1088.93,1486.45 1088.93,781.9 1068.21,781.9 \"/>\n",
       "<path clip-path=\"url(#clip532)\" d=\"M1088.93 691.574 L1088.93 1486.45 L1109.65 1486.45 L1109.65 691.574 L1088.93 691.574 L1088.93 691.574  Z\" fill=\"#009af9\" fill-rule=\"evenodd\" fill-opacity=\"0.8\"/>\n",
       "<polyline clip-path=\"url(#clip532)\" style=\"stroke:#000000; stroke-linecap:round; stroke-linejoin:round; stroke-width:4; stroke-opacity:0.8; fill:none\" points=\"1088.93,691.574 1088.93,1486.45 1109.65,1486.45 1109.65,691.574 1088.93,691.574 \"/>\n",
       "<path clip-path=\"url(#clip532)\" d=\"M1109.65 498.877 L1109.65 1486.45 L1130.37 1486.45 L1130.37 498.877 L1109.65 498.877 L1109.65 498.877  Z\" fill=\"#009af9\" fill-rule=\"evenodd\" fill-opacity=\"0.8\"/>\n",
       "<polyline clip-path=\"url(#clip532)\" style=\"stroke:#000000; stroke-linecap:round; stroke-linejoin:round; stroke-width:4; stroke-opacity:0.8; fill:none\" points=\"1109.65,498.877 1109.65,1486.45 1130.37,1486.45 1130.37,498.877 1109.65,498.877 \"/>\n",
       "<path clip-path=\"url(#clip532)\" d=\"M1130.37 450.703 L1130.37 1486.45 L1151.08 1486.45 L1151.08 450.703 L1130.37 450.703 L1130.37 450.703  Z\" fill=\"#009af9\" fill-rule=\"evenodd\" fill-opacity=\"0.8\"/>\n",
       "<polyline clip-path=\"url(#clip532)\" style=\"stroke:#000000; stroke-linecap:round; stroke-linejoin:round; stroke-width:4; stroke-opacity:0.8; fill:none\" points=\"1130.37,450.703 1130.37,1486.45 1151.08,1486.45 1151.08,450.703 1130.37,450.703 \"/>\n",
       "<path clip-path=\"url(#clip532)\" d=\"M1151.08 426.616 L1151.08 1486.45 L1171.8 1486.45 L1171.8 426.616 L1151.08 426.616 L1151.08 426.616  Z\" fill=\"#009af9\" fill-rule=\"evenodd\" fill-opacity=\"0.8\"/>\n",
       "<polyline clip-path=\"url(#clip532)\" style=\"stroke:#000000; stroke-linecap:round; stroke-linejoin:round; stroke-width:4; stroke-opacity:0.8; fill:none\" points=\"1151.08,426.616 1151.08,1486.45 1171.8,1486.45 1171.8,426.616 1151.08,426.616 \"/>\n",
       "<path clip-path=\"url(#clip532)\" d=\"M1171.8 396.507 L1171.8 1486.45 L1192.52 1486.45 L1192.52 396.507 L1171.8 396.507 L1171.8 396.507  Z\" fill=\"#009af9\" fill-rule=\"evenodd\" fill-opacity=\"0.8\"/>\n",
       "<polyline clip-path=\"url(#clip532)\" style=\"stroke:#000000; stroke-linecap:round; stroke-linejoin:round; stroke-width:4; stroke-opacity:0.8; fill:none\" points=\"1171.8,396.507 1171.8,1486.45 1192.52,1486.45 1192.52,396.507 1171.8,396.507 \"/>\n",
       "<path clip-path=\"url(#clip532)\" d=\"M1192.52 384.463 L1192.52 1486.45 L1213.24 1486.45 L1213.24 384.463 L1192.52 384.463 L1192.52 384.463  Z\" fill=\"#009af9\" fill-rule=\"evenodd\" fill-opacity=\"0.8\"/>\n",
       "<polyline clip-path=\"url(#clip532)\" style=\"stroke:#000000; stroke-linecap:round; stroke-linejoin:round; stroke-width:4; stroke-opacity:0.8; fill:none\" points=\"1192.52,384.463 1192.52,1486.45 1213.24,1486.45 1213.24,384.463 1192.52,384.463 \"/>\n",
       "<path clip-path=\"url(#clip532)\" d=\"M1213.24 396.507 L1213.24 1486.45 L1233.96 1486.45 L1233.96 396.507 L1213.24 396.507 L1213.24 396.507  Z\" fill=\"#009af9\" fill-rule=\"evenodd\" fill-opacity=\"0.8\"/>\n",
       "<polyline clip-path=\"url(#clip532)\" style=\"stroke:#000000; stroke-linecap:round; stroke-linejoin:round; stroke-width:4; stroke-opacity:0.8; fill:none\" points=\"1213.24,396.507 1213.24,1486.45 1233.96,1486.45 1233.96,396.507 1213.24,396.507 \"/>\n",
       "<path clip-path=\"url(#clip532)\" d=\"M1233.96 390.485 L1233.96 1486.45 L1254.68 1486.45 L1254.68 390.485 L1233.96 390.485 L1233.96 390.485  Z\" fill=\"#009af9\" fill-rule=\"evenodd\" fill-opacity=\"0.8\"/>\n",
       "<polyline clip-path=\"url(#clip532)\" style=\"stroke:#000000; stroke-linecap:round; stroke-linejoin:round; stroke-width:4; stroke-opacity:0.8; fill:none\" points=\"1233.96,390.485 1233.96,1486.45 1254.68,1486.45 1254.68,390.485 1233.96,390.485 \"/>\n",
       "<path clip-path=\"url(#clip532)\" d=\"M1254.68 384.463 L1254.68 1486.45 L1275.4 1486.45 L1275.4 384.463 L1254.68 384.463 L1254.68 384.463  Z\" fill=\"#009af9\" fill-rule=\"evenodd\" fill-opacity=\"0.8\"/>\n",
       "<polyline clip-path=\"url(#clip532)\" style=\"stroke:#000000; stroke-linecap:round; stroke-linejoin:round; stroke-width:4; stroke-opacity:0.8; fill:none\" points=\"1254.68,384.463 1254.68,1486.45 1275.4,1486.45 1275.4,384.463 1254.68,384.463 \"/>\n",
       "<path clip-path=\"url(#clip532)\" d=\"M1275.4 312.202 L1275.4 1486.45 L1296.11 1486.45 L1296.11 312.202 L1275.4 312.202 L1275.4 312.202  Z\" fill=\"#009af9\" fill-rule=\"evenodd\" fill-opacity=\"0.8\"/>\n",
       "<polyline clip-path=\"url(#clip532)\" style=\"stroke:#000000; stroke-linecap:round; stroke-linejoin:round; stroke-width:4; stroke-opacity:0.8; fill:none\" points=\"1275.4,312.202 1275.4,1486.45 1296.11,1486.45 1296.11,312.202 1275.4,312.202 \"/>\n",
       "<path clip-path=\"url(#clip532)\" d=\"M1296.11 47.2441 L1296.11 1486.45 L1316.83 1486.45 L1316.83 47.2441 L1296.11 47.2441 L1296.11 47.2441  Z\" fill=\"#009af9\" fill-rule=\"evenodd\" fill-opacity=\"0.8\"/>\n",
       "<polyline clip-path=\"url(#clip532)\" style=\"stroke:#000000; stroke-linecap:round; stroke-linejoin:round; stroke-width:4; stroke-opacity:0.8; fill:none\" points=\"1296.11,47.2441 1296.11,1486.45 1316.83,1486.45 1316.83,47.2441 1296.11,47.2441 \"/>\n",
       "<path clip-path=\"url(#clip532)\" d=\"M1316.83 306.18 L1316.83 1486.45 L1337.55 1486.45 L1337.55 306.18 L1316.83 306.18 L1316.83 306.18  Z\" fill=\"#009af9\" fill-rule=\"evenodd\" fill-opacity=\"0.8\"/>\n",
       "<polyline clip-path=\"url(#clip532)\" style=\"stroke:#000000; stroke-linecap:round; stroke-linejoin:round; stroke-width:4; stroke-opacity:0.8; fill:none\" points=\"1316.83,306.18 1316.83,1486.45 1337.55,1486.45 1337.55,306.18 1316.83,306.18 \"/>\n",
       "<path clip-path=\"url(#clip532)\" d=\"M1337.55 264.028 L1337.55 1486.45 L1358.27 1486.45 L1358.27 264.028 L1337.55 264.028 L1337.55 264.028  Z\" fill=\"#009af9\" fill-rule=\"evenodd\" fill-opacity=\"0.8\"/>\n",
       "<polyline clip-path=\"url(#clip532)\" style=\"stroke:#000000; stroke-linecap:round; stroke-linejoin:round; stroke-width:4; stroke-opacity:0.8; fill:none\" points=\"1337.55,264.028 1337.55,1486.45 1358.27,1486.45 1358.27,264.028 1337.55,264.028 \"/>\n",
       "<path clip-path=\"url(#clip532)\" d=\"M1358.27 438.659 L1358.27 1486.45 L1378.99 1486.45 L1378.99 438.659 L1358.27 438.659 L1358.27 438.659  Z\" fill=\"#009af9\" fill-rule=\"evenodd\" fill-opacity=\"0.8\"/>\n",
       "<polyline clip-path=\"url(#clip532)\" style=\"stroke:#000000; stroke-linecap:round; stroke-linejoin:round; stroke-width:4; stroke-opacity:0.8; fill:none\" points=\"1358.27,438.659 1358.27,1486.45 1378.99,1486.45 1378.99,438.659 1358.27,438.659 \"/>\n",
       "<path clip-path=\"url(#clip532)\" d=\"M1378.99 516.942 L1378.99 1486.45 L1399.71 1486.45 L1399.71 516.942 L1378.99 516.942 L1378.99 516.942  Z\" fill=\"#009af9\" fill-rule=\"evenodd\" fill-opacity=\"0.8\"/>\n",
       "<polyline clip-path=\"url(#clip532)\" style=\"stroke:#000000; stroke-linecap:round; stroke-linejoin:round; stroke-width:4; stroke-opacity:0.8; fill:none\" points=\"1378.99,516.942 1378.99,1486.45 1399.71,1486.45 1399.71,516.942 1378.99,516.942 \"/>\n",
       "<path clip-path=\"url(#clip532)\" d=\"M1399.71 498.877 L1399.71 1486.45 L1420.42 1486.45 L1420.42 498.877 L1399.71 498.877 L1399.71 498.877  Z\" fill=\"#009af9\" fill-rule=\"evenodd\" fill-opacity=\"0.8\"/>\n",
       "<polyline clip-path=\"url(#clip532)\" style=\"stroke:#000000; stroke-linecap:round; stroke-linejoin:round; stroke-width:4; stroke-opacity:0.8; fill:none\" points=\"1399.71,498.877 1399.71,1486.45 1420.42,1486.45 1420.42,498.877 1399.71,498.877 \"/>\n",
       "<path clip-path=\"url(#clip532)\" d=\"M1420.42 559.095 L1420.42 1486.45 L1441.14 1486.45 L1441.14 559.095 L1420.42 559.095 L1420.42 559.095  Z\" fill=\"#009af9\" fill-rule=\"evenodd\" fill-opacity=\"0.8\"/>\n",
       "<polyline clip-path=\"url(#clip532)\" style=\"stroke:#000000; stroke-linecap:round; stroke-linejoin:round; stroke-width:4; stroke-opacity:0.8; fill:none\" points=\"1420.42,559.095 1420.42,1486.45 1441.14,1486.45 1441.14,559.095 1420.42,559.095 \"/>\n",
       "<path clip-path=\"url(#clip532)\" d=\"M1441.14 589.204 L1441.14 1486.45 L1461.86 1486.45 L1461.86 589.204 L1441.14 589.204 L1441.14 589.204  Z\" fill=\"#009af9\" fill-rule=\"evenodd\" fill-opacity=\"0.8\"/>\n",
       "<polyline clip-path=\"url(#clip532)\" style=\"stroke:#000000; stroke-linecap:round; stroke-linejoin:round; stroke-width:4; stroke-opacity:0.8; fill:none\" points=\"1441.14,589.204 1441.14,1486.45 1461.86,1486.45 1461.86,589.204 1441.14,589.204 \"/>\n",
       "<path clip-path=\"url(#clip532)\" d=\"M1461.86 703.617 L1461.86 1486.45 L1482.58 1486.45 L1482.58 703.617 L1461.86 703.617 L1461.86 703.617  Z\" fill=\"#009af9\" fill-rule=\"evenodd\" fill-opacity=\"0.8\"/>\n",
       "<polyline clip-path=\"url(#clip532)\" style=\"stroke:#000000; stroke-linecap:round; stroke-linejoin:round; stroke-width:4; stroke-opacity:0.8; fill:none\" points=\"1461.86,703.617 1461.86,1486.45 1482.58,1486.45 1482.58,703.617 1461.86,703.617 \"/>\n",
       "<path clip-path=\"url(#clip532)\" d=\"M1482.58 956.532 L1482.58 1486.45 L1503.3 1486.45 L1503.3 956.532 L1482.58 956.532 L1482.58 956.532  Z\" fill=\"#009af9\" fill-rule=\"evenodd\" fill-opacity=\"0.8\"/>\n",
       "<polyline clip-path=\"url(#clip532)\" style=\"stroke:#000000; stroke-linecap:round; stroke-linejoin:round; stroke-width:4; stroke-opacity:0.8; fill:none\" points=\"1482.58,956.532 1482.58,1486.45 1503.3,1486.45 1503.3,956.532 1482.58,956.532 \"/>\n",
       "<path clip-path=\"url(#clip532)\" d=\"M1503.3 914.379 L1503.3 1486.45 L1524.02 1486.45 L1524.02 914.379 L1503.3 914.379 L1503.3 914.379  Z\" fill=\"#009af9\" fill-rule=\"evenodd\" fill-opacity=\"0.8\"/>\n",
       "<polyline clip-path=\"url(#clip532)\" style=\"stroke:#000000; stroke-linecap:round; stroke-linejoin:round; stroke-width:4; stroke-opacity:0.8; fill:none\" points=\"1503.3,914.379 1503.3,1486.45 1524.02,1486.45 1524.02,914.379 1503.3,914.379 \"/>\n",
       "<path clip-path=\"url(#clip532)\" d=\"M1524.02 974.597 L1524.02 1486.45 L1544.74 1486.45 L1544.74 974.597 L1524.02 974.597 L1524.02 974.597  Z\" fill=\"#009af9\" fill-rule=\"evenodd\" fill-opacity=\"0.8\"/>\n",
       "<polyline clip-path=\"url(#clip532)\" style=\"stroke:#000000; stroke-linecap:round; stroke-linejoin:round; stroke-width:4; stroke-opacity:0.8; fill:none\" points=\"1524.02,974.597 1524.02,1486.45 1544.74,1486.45 1544.74,974.597 1524.02,974.597 \"/>\n",
       "<path clip-path=\"url(#clip532)\" d=\"M1544.74 986.641 L1544.74 1486.45 L1565.45 1486.45 L1565.45 986.641 L1544.74 986.641 L1544.74 986.641  Z\" fill=\"#009af9\" fill-rule=\"evenodd\" fill-opacity=\"0.8\"/>\n",
       "<polyline clip-path=\"url(#clip532)\" style=\"stroke:#000000; stroke-linecap:round; stroke-linejoin:round; stroke-width:4; stroke-opacity:0.8; fill:none\" points=\"1544.74,986.641 1544.74,1486.45 1565.45,1486.45 1565.45,986.641 1544.74,986.641 \"/>\n",
       "<path clip-path=\"url(#clip532)\" d=\"M1565.45 1095.03 L1565.45 1486.45 L1586.17 1486.45 L1586.17 1095.03 L1565.45 1095.03 L1565.45 1095.03  Z\" fill=\"#009af9\" fill-rule=\"evenodd\" fill-opacity=\"0.8\"/>\n",
       "<polyline clip-path=\"url(#clip532)\" style=\"stroke:#000000; stroke-linecap:round; stroke-linejoin:round; stroke-width:4; stroke-opacity:0.8; fill:none\" points=\"1565.45,1095.03 1565.45,1486.45 1586.17,1486.45 1586.17,1095.03 1565.45,1095.03 \"/>\n",
       "<path clip-path=\"url(#clip532)\" d=\"M1586.17 1191.38 L1586.17 1486.45 L1606.89 1486.45 L1606.89 1191.38 L1586.17 1191.38 L1586.17 1191.38  Z\" fill=\"#009af9\" fill-rule=\"evenodd\" fill-opacity=\"0.8\"/>\n",
       "<polyline clip-path=\"url(#clip532)\" style=\"stroke:#000000; stroke-linecap:round; stroke-linejoin:round; stroke-width:4; stroke-opacity:0.8; fill:none\" points=\"1586.17,1191.38 1586.17,1486.45 1606.89,1486.45 1606.89,1191.38 1586.17,1191.38 \"/>\n",
       "<path clip-path=\"url(#clip532)\" d=\"M1606.89 1281.71 L1606.89 1486.45 L1627.61 1486.45 L1627.61 1281.71 L1606.89 1281.71 L1606.89 1281.71  Z\" fill=\"#009af9\" fill-rule=\"evenodd\" fill-opacity=\"0.8\"/>\n",
       "<polyline clip-path=\"url(#clip532)\" style=\"stroke:#000000; stroke-linecap:round; stroke-linejoin:round; stroke-width:4; stroke-opacity:0.8; fill:none\" points=\"1606.89,1281.71 1606.89,1486.45 1627.61,1486.45 1627.61,1281.71 1606.89,1281.71 \"/>\n",
       "<path clip-path=\"url(#clip532)\" d=\"M1627.61 1347.95 L1627.61 1486.45 L1648.33 1486.45 L1648.33 1347.95 L1627.61 1347.95 L1627.61 1347.95  Z\" fill=\"#009af9\" fill-rule=\"evenodd\" fill-opacity=\"0.8\"/>\n",
       "<polyline clip-path=\"url(#clip532)\" style=\"stroke:#000000; stroke-linecap:round; stroke-linejoin:round; stroke-width:4; stroke-opacity:0.8; fill:none\" points=\"1627.61,1347.95 1627.61,1486.45 1648.33,1486.45 1648.33,1347.95 1627.61,1347.95 \"/>\n",
       "<path clip-path=\"url(#clip532)\" d=\"M1648.33 1347.95 L1648.33 1486.45 L1669.05 1486.45 L1669.05 1347.95 L1648.33 1347.95 L1648.33 1347.95  Z\" fill=\"#009af9\" fill-rule=\"evenodd\" fill-opacity=\"0.8\"/>\n",
       "<polyline clip-path=\"url(#clip532)\" style=\"stroke:#000000; stroke-linecap:round; stroke-linejoin:round; stroke-width:4; stroke-opacity:0.8; fill:none\" points=\"1648.33,1347.95 1648.33,1486.45 1669.05,1486.45 1669.05,1347.95 1648.33,1347.95 \"/>\n",
       "<path clip-path=\"url(#clip532)\" d=\"M1669.05 1347.95 L1669.05 1486.45 L1689.76 1486.45 L1689.76 1347.95 L1669.05 1347.95 L1669.05 1347.95  Z\" fill=\"#009af9\" fill-rule=\"evenodd\" fill-opacity=\"0.8\"/>\n",
       "<polyline clip-path=\"url(#clip532)\" style=\"stroke:#000000; stroke-linecap:round; stroke-linejoin:round; stroke-width:4; stroke-opacity:0.8; fill:none\" points=\"1669.05,1347.95 1669.05,1486.45 1689.76,1486.45 1689.76,1347.95 1669.05,1347.95 \"/>\n",
       "<path clip-path=\"url(#clip532)\" d=\"M1689.76 1353.97 L1689.76 1486.45 L1710.48 1486.45 L1710.48 1353.97 L1689.76 1353.97 L1689.76 1353.97  Z\" fill=\"#009af9\" fill-rule=\"evenodd\" fill-opacity=\"0.8\"/>\n",
       "<polyline clip-path=\"url(#clip532)\" style=\"stroke:#000000; stroke-linecap:round; stroke-linejoin:round; stroke-width:4; stroke-opacity:0.8; fill:none\" points=\"1689.76,1353.97 1689.76,1486.45 1710.48,1486.45 1710.48,1353.97 1689.76,1353.97 \"/>\n",
       "<path clip-path=\"url(#clip532)\" d=\"M1710.48 1444.3 L1710.48 1486.45 L1731.2 1486.45 L1731.2 1444.3 L1710.48 1444.3 L1710.48 1444.3  Z\" fill=\"#009af9\" fill-rule=\"evenodd\" fill-opacity=\"0.8\"/>\n",
       "<polyline clip-path=\"url(#clip532)\" style=\"stroke:#000000; stroke-linecap:round; stroke-linejoin:round; stroke-width:4; stroke-opacity:0.8; fill:none\" points=\"1710.48,1444.3 1710.48,1486.45 1731.2,1486.45 1731.2,1444.3 1710.48,1444.3 \"/>\n",
       "<path clip-path=\"url(#clip532)\" d=\"M1731.2 1426.23 L1731.2 1486.45 L1751.92 1486.45 L1751.92 1426.23 L1731.2 1426.23 L1731.2 1426.23  Z\" fill=\"#009af9\" fill-rule=\"evenodd\" fill-opacity=\"0.8\"/>\n",
       "<polyline clip-path=\"url(#clip532)\" style=\"stroke:#000000; stroke-linecap:round; stroke-linejoin:round; stroke-width:4; stroke-opacity:0.8; fill:none\" points=\"1731.2,1426.23 1731.2,1486.45 1751.92,1486.45 1751.92,1426.23 1731.2,1426.23 \"/>\n",
       "<path clip-path=\"url(#clip532)\" d=\"M1751.92 1420.21 L1751.92 1486.45 L1772.64 1486.45 L1772.64 1420.21 L1751.92 1420.21 L1751.92 1420.21  Z\" fill=\"#009af9\" fill-rule=\"evenodd\" fill-opacity=\"0.8\"/>\n",
       "<polyline clip-path=\"url(#clip532)\" style=\"stroke:#000000; stroke-linecap:round; stroke-linejoin:round; stroke-width:4; stroke-opacity:0.8; fill:none\" points=\"1751.92,1420.21 1751.92,1486.45 1772.64,1486.45 1772.64,1420.21 1751.92,1420.21 \"/>\n",
       "<path clip-path=\"url(#clip532)\" d=\"M1772.64 1444.3 L1772.64 1486.45 L1793.36 1486.45 L1793.36 1444.3 L1772.64 1444.3 L1772.64 1444.3  Z\" fill=\"#009af9\" fill-rule=\"evenodd\" fill-opacity=\"0.8\"/>\n",
       "<polyline clip-path=\"url(#clip532)\" style=\"stroke:#000000; stroke-linecap:round; stroke-linejoin:round; stroke-width:4; stroke-opacity:0.8; fill:none\" points=\"1772.64,1444.3 1772.64,1486.45 1793.36,1486.45 1793.36,1444.3 1772.64,1444.3 \"/>\n",
       "<path clip-path=\"url(#clip532)\" d=\"M1793.36 1450.32 L1793.36 1486.45 L1814.08 1486.45 L1814.08 1450.32 L1793.36 1450.32 L1793.36 1450.32  Z\" fill=\"#009af9\" fill-rule=\"evenodd\" fill-opacity=\"0.8\"/>\n",
       "<polyline clip-path=\"url(#clip532)\" style=\"stroke:#000000; stroke-linecap:round; stroke-linejoin:round; stroke-width:4; stroke-opacity:0.8; fill:none\" points=\"1793.36,1450.32 1793.36,1486.45 1814.08,1486.45 1814.08,1450.32 1793.36,1450.32 \"/>\n",
       "<path clip-path=\"url(#clip532)\" d=\"M1814.08 1438.27 L1814.08 1486.45 L1834.79 1486.45 L1834.79 1438.27 L1814.08 1438.27 L1814.08 1438.27  Z\" fill=\"#009af9\" fill-rule=\"evenodd\" fill-opacity=\"0.8\"/>\n",
       "<polyline clip-path=\"url(#clip532)\" style=\"stroke:#000000; stroke-linecap:round; stroke-linejoin:round; stroke-width:4; stroke-opacity:0.8; fill:none\" points=\"1814.08,1438.27 1814.08,1486.45 1834.79,1486.45 1834.79,1438.27 1814.08,1438.27 \"/>\n",
       "<path clip-path=\"url(#clip532)\" d=\"M1834.79 1468.38 L1834.79 1486.45 L1855.51 1486.45 L1855.51 1468.38 L1834.79 1468.38 L1834.79 1468.38  Z\" fill=\"#009af9\" fill-rule=\"evenodd\" fill-opacity=\"0.8\"/>\n",
       "<polyline clip-path=\"url(#clip532)\" style=\"stroke:#000000; stroke-linecap:round; stroke-linejoin:round; stroke-width:4; stroke-opacity:0.8; fill:none\" points=\"1834.79,1468.38 1834.79,1486.45 1855.51,1486.45 1855.51,1468.38 1834.79,1468.38 \"/>\n",
       "<path clip-path=\"url(#clip532)\" d=\"M1855.51 1474.4 L1855.51 1486.45 L1876.23 1486.45 L1876.23 1474.4 L1855.51 1474.4 L1855.51 1474.4  Z\" fill=\"#009af9\" fill-rule=\"evenodd\" fill-opacity=\"0.8\"/>\n",
       "<polyline clip-path=\"url(#clip532)\" style=\"stroke:#000000; stroke-linecap:round; stroke-linejoin:round; stroke-width:4; stroke-opacity:0.8; fill:none\" points=\"1855.51,1474.4 1855.51,1486.45 1876.23,1486.45 1876.23,1474.4 1855.51,1474.4 \"/>\n",
       "<path clip-path=\"url(#clip532)\" d=\"M1876.23 1456.34 L1876.23 1486.45 L1896.95 1486.45 L1896.95 1456.34 L1876.23 1456.34 L1876.23 1456.34  Z\" fill=\"#009af9\" fill-rule=\"evenodd\" fill-opacity=\"0.8\"/>\n",
       "<polyline clip-path=\"url(#clip532)\" style=\"stroke:#000000; stroke-linecap:round; stroke-linejoin:round; stroke-width:4; stroke-opacity:0.8; fill:none\" points=\"1876.23,1456.34 1876.23,1486.45 1896.95,1486.45 1896.95,1456.34 1876.23,1456.34 \"/>\n",
       "<path clip-path=\"url(#clip532)\" d=\"M1896.95 1486.45 L1896.95 1486.45 L1917.67 1486.45 L1917.67 1486.45 L1896.95 1486.45 L1896.95 1486.45  Z\" fill=\"#009af9\" fill-rule=\"evenodd\" fill-opacity=\"0.8\"/>\n",
       "<polyline clip-path=\"url(#clip532)\" style=\"stroke:#000000; stroke-linecap:round; stroke-linejoin:round; stroke-width:4; stroke-opacity:0.8; fill:none\" points=\"1896.95,1486.45 1896.95,1486.45 1917.67,1486.45 1896.95,1486.45 \"/>\n",
       "<path clip-path=\"url(#clip532)\" d=\"M1917.67 1480.43 L1917.67 1486.45 L1938.39 1486.45 L1938.39 1480.43 L1917.67 1480.43 L1917.67 1480.43  Z\" fill=\"#009af9\" fill-rule=\"evenodd\" fill-opacity=\"0.8\"/>\n",
       "<polyline clip-path=\"url(#clip532)\" style=\"stroke:#000000; stroke-linecap:round; stroke-linejoin:round; stroke-width:4; stroke-opacity:0.8; fill:none\" points=\"1917.67,1480.43 1917.67,1486.45 1938.39,1486.45 1938.39,1480.43 1917.67,1480.43 \"/>\n",
       "<path clip-path=\"url(#clip532)\" d=\"M1938.39 1486.45 L1938.39 1486.45 L1959.11 1486.45 L1959.11 1486.45 L1938.39 1486.45 L1938.39 1486.45  Z\" fill=\"#009af9\" fill-rule=\"evenodd\" fill-opacity=\"0.8\"/>\n",
       "<polyline clip-path=\"url(#clip532)\" style=\"stroke:#000000; stroke-linecap:round; stroke-linejoin:round; stroke-width:4; stroke-opacity:0.8; fill:none\" points=\"1938.39,1486.45 1938.39,1486.45 1959.11,1486.45 1938.39,1486.45 \"/>\n",
       "<path clip-path=\"url(#clip532)\" d=\"M1959.11 1486.45 L1959.11 1486.45 L1979.82 1486.45 L1979.82 1486.45 L1959.11 1486.45 L1959.11 1486.45  Z\" fill=\"#009af9\" fill-rule=\"evenodd\" fill-opacity=\"0.8\"/>\n",
       "<polyline clip-path=\"url(#clip532)\" style=\"stroke:#000000; stroke-linecap:round; stroke-linejoin:round; stroke-width:4; stroke-opacity:0.8; fill:none\" points=\"1959.11,1486.45 1959.11,1486.45 1979.82,1486.45 1959.11,1486.45 \"/>\n",
       "<path clip-path=\"url(#clip532)\" d=\"M1979.82 1486.45 L1979.82 1486.45 L2000.54 1486.45 L2000.54 1486.45 L1979.82 1486.45 L1979.82 1486.45  Z\" fill=\"#009af9\" fill-rule=\"evenodd\" fill-opacity=\"0.8\"/>\n",
       "<polyline clip-path=\"url(#clip532)\" style=\"stroke:#000000; stroke-linecap:round; stroke-linejoin:round; stroke-width:4; stroke-opacity:0.8; fill:none\" points=\"1979.82,1486.45 1979.82,1486.45 2000.54,1486.45 1979.82,1486.45 \"/>\n",
       "<path clip-path=\"url(#clip532)\" d=\"M2000.54 1480.43 L2000.54 1486.45 L2021.26 1486.45 L2021.26 1480.43 L2000.54 1480.43 L2000.54 1480.43  Z\" fill=\"#009af9\" fill-rule=\"evenodd\" fill-opacity=\"0.8\"/>\n",
       "<polyline clip-path=\"url(#clip532)\" style=\"stroke:#000000; stroke-linecap:round; stroke-linejoin:round; stroke-width:4; stroke-opacity:0.8; fill:none\" points=\"2000.54,1480.43 2000.54,1486.45 2021.26,1486.45 2021.26,1480.43 2000.54,1480.43 \"/>\n",
       "<path clip-path=\"url(#clip532)\" d=\"M2021.26 1486.45 L2021.26 1486.45 L2041.98 1486.45 L2041.98 1486.45 L2021.26 1486.45 L2021.26 1486.45  Z\" fill=\"#009af9\" fill-rule=\"evenodd\" fill-opacity=\"0.8\"/>\n",
       "<polyline clip-path=\"url(#clip532)\" style=\"stroke:#000000; stroke-linecap:round; stroke-linejoin:round; stroke-width:4; stroke-opacity:0.8; fill:none\" points=\"2021.26,1486.45 2021.26,1486.45 2041.98,1486.45 2021.26,1486.45 \"/>\n",
       "<path clip-path=\"url(#clip532)\" d=\"M2041.98 1486.45 L2041.98 1486.45 L2062.7 1486.45 L2062.7 1486.45 L2041.98 1486.45 L2041.98 1486.45  Z\" fill=\"#009af9\" fill-rule=\"evenodd\" fill-opacity=\"0.8\"/>\n",
       "<polyline clip-path=\"url(#clip532)\" style=\"stroke:#000000; stroke-linecap:round; stroke-linejoin:round; stroke-width:4; stroke-opacity:0.8; fill:none\" points=\"2041.98,1486.45 2041.98,1486.45 2062.7,1486.45 2041.98,1486.45 \"/>\n",
       "<path clip-path=\"url(#clip532)\" d=\"M2062.7 1486.45 L2062.7 1486.45 L2083.42 1486.45 L2083.42 1486.45 L2062.7 1486.45 L2062.7 1486.45  Z\" fill=\"#009af9\" fill-rule=\"evenodd\" fill-opacity=\"0.8\"/>\n",
       "<polyline clip-path=\"url(#clip532)\" style=\"stroke:#000000; stroke-linecap:round; stroke-linejoin:round; stroke-width:4; stroke-opacity:0.8; fill:none\" points=\"2062.7,1486.45 2062.7,1486.45 2083.42,1486.45 2062.7,1486.45 \"/>\n",
       "<path clip-path=\"url(#clip532)\" d=\"M2083.42 1480.43 L2083.42 1486.45 L2104.13 1486.45 L2104.13 1480.43 L2083.42 1480.43 L2083.42 1480.43  Z\" fill=\"#009af9\" fill-rule=\"evenodd\" fill-opacity=\"0.8\"/>\n",
       "<polyline clip-path=\"url(#clip532)\" style=\"stroke:#000000; stroke-linecap:round; stroke-linejoin:round; stroke-width:4; stroke-opacity:0.8; fill:none\" points=\"2083.42,1480.43 2083.42,1486.45 2104.13,1486.45 2104.13,1480.43 2083.42,1480.43 \"/>\n",
       "<circle clip-path=\"url(#clip532)\" style=\"fill:#009af9; stroke:none; fill-opacity:0\" cx=\"457.016\" cy=\"1480.43\" r=\"2\"/>\n",
       "<circle clip-path=\"url(#clip532)\" style=\"fill:#009af9; stroke:none; fill-opacity:0\" cx=\"477.734\" cy=\"1486.45\" r=\"2\"/>\n",
       "<circle clip-path=\"url(#clip532)\" style=\"fill:#009af9; stroke:none; fill-opacity:0\" cx=\"498.453\" cy=\"1486.45\" r=\"2\"/>\n",
       "<circle clip-path=\"url(#clip532)\" style=\"fill:#009af9; stroke:none; fill-opacity:0\" cx=\"519.171\" cy=\"1480.43\" r=\"2\"/>\n",
       "<circle clip-path=\"url(#clip532)\" style=\"fill:#009af9; stroke:none; fill-opacity:0\" cx=\"539.89\" cy=\"1486.45\" r=\"2\"/>\n",
       "<circle clip-path=\"url(#clip532)\" style=\"fill:#009af9; stroke:none; fill-opacity:0\" cx=\"560.608\" cy=\"1480.43\" r=\"2\"/>\n",
       "<circle clip-path=\"url(#clip532)\" style=\"fill:#009af9; stroke:none; fill-opacity:0\" cx=\"581.327\" cy=\"1474.4\" r=\"2\"/>\n",
       "<circle clip-path=\"url(#clip532)\" style=\"fill:#009af9; stroke:none; fill-opacity:0\" cx=\"602.045\" cy=\"1486.45\" r=\"2\"/>\n",
       "<circle clip-path=\"url(#clip532)\" style=\"fill:#009af9; stroke:none; fill-opacity:0\" cx=\"622.764\" cy=\"1468.38\" r=\"2\"/>\n",
       "<circle clip-path=\"url(#clip532)\" style=\"fill:#009af9; stroke:none; fill-opacity:0\" cx=\"643.482\" cy=\"1456.34\" r=\"2\"/>\n",
       "<circle clip-path=\"url(#clip532)\" style=\"fill:#009af9; stroke:none; fill-opacity:0\" cx=\"664.201\" cy=\"1486.45\" r=\"2\"/>\n",
       "<circle clip-path=\"url(#clip532)\" style=\"fill:#009af9; stroke:none; fill-opacity:0\" cx=\"684.919\" cy=\"1474.4\" r=\"2\"/>\n",
       "<circle clip-path=\"url(#clip532)\" style=\"fill:#009af9; stroke:none; fill-opacity:0\" cx=\"705.638\" cy=\"1468.38\" r=\"2\"/>\n",
       "<circle clip-path=\"url(#clip532)\" style=\"fill:#009af9; stroke:none; fill-opacity:0\" cx=\"726.356\" cy=\"1426.23\" r=\"2\"/>\n",
       "<circle clip-path=\"url(#clip532)\" style=\"fill:#009af9; stroke:none; fill-opacity:0\" cx=\"747.075\" cy=\"1444.3\" r=\"2\"/>\n",
       "<circle clip-path=\"url(#clip532)\" style=\"fill:#009af9; stroke:none; fill-opacity:0\" cx=\"767.793\" cy=\"1438.27\" r=\"2\"/>\n",
       "<circle clip-path=\"url(#clip532)\" style=\"fill:#009af9; stroke:none; fill-opacity:0\" cx=\"788.512\" cy=\"1353.97\" r=\"2\"/>\n",
       "<circle clip-path=\"url(#clip532)\" style=\"fill:#009af9; stroke:none; fill-opacity:0\" cx=\"809.23\" cy=\"1323.86\" r=\"2\"/>\n",
       "<circle clip-path=\"url(#clip532)\" style=\"fill:#009af9; stroke:none; fill-opacity:0\" cx=\"829.948\" cy=\"1311.82\" r=\"2\"/>\n",
       "<circle clip-path=\"url(#clip532)\" style=\"fill:#009af9; stroke:none; fill-opacity:0\" cx=\"850.667\" cy=\"1317.84\" r=\"2\"/>\n",
       "<circle clip-path=\"url(#clip532)\" style=\"fill:#009af9; stroke:none; fill-opacity:0\" cx=\"871.385\" cy=\"1227.51\" r=\"2\"/>\n",
       "<circle clip-path=\"url(#clip532)\" style=\"fill:#009af9; stroke:none; fill-opacity:0\" cx=\"892.104\" cy=\"1251.6\" r=\"2\"/>\n",
       "<circle clip-path=\"url(#clip532)\" style=\"fill:#009af9; stroke:none; fill-opacity:0\" cx=\"912.822\" cy=\"1251.6\" r=\"2\"/>\n",
       "<circle clip-path=\"url(#clip532)\" style=\"fill:#009af9; stroke:none; fill-opacity:0\" cx=\"933.541\" cy=\"1107.08\" r=\"2\"/>\n",
       "<circle clip-path=\"url(#clip532)\" style=\"fill:#009af9; stroke:none; fill-opacity:0\" cx=\"954.259\" cy=\"1119.12\" r=\"2\"/>\n",
       "<circle clip-path=\"url(#clip532)\" style=\"fill:#009af9; stroke:none; fill-opacity:0\" cx=\"974.978\" cy=\"1010.73\" r=\"2\"/>\n",
       "<circle clip-path=\"url(#clip532)\" style=\"fill:#009af9; stroke:none; fill-opacity:0\" cx=\"995.696\" cy=\"872.227\" r=\"2\"/>\n",
       "<circle clip-path=\"url(#clip532)\" style=\"fill:#009af9; stroke:none; fill-opacity:0\" cx=\"1016.41\" cy=\"866.205\" r=\"2\"/>\n",
       "<circle clip-path=\"url(#clip532)\" style=\"fill:#009af9; stroke:none; fill-opacity:0\" cx=\"1037.13\" cy=\"902.336\" r=\"2\"/>\n",
       "<circle clip-path=\"url(#clip532)\" style=\"fill:#009af9; stroke:none; fill-opacity:0\" cx=\"1057.85\" cy=\"661.465\" r=\"2\"/>\n",
       "<circle clip-path=\"url(#clip532)\" style=\"fill:#009af9; stroke:none; fill-opacity:0\" cx=\"1078.57\" cy=\"781.9\" r=\"2\"/>\n",
       "<circle clip-path=\"url(#clip532)\" style=\"fill:#009af9; stroke:none; fill-opacity:0\" cx=\"1099.29\" cy=\"691.574\" r=\"2\"/>\n",
       "<circle clip-path=\"url(#clip532)\" style=\"fill:#009af9; stroke:none; fill-opacity:0\" cx=\"1120.01\" cy=\"498.877\" r=\"2\"/>\n",
       "<circle clip-path=\"url(#clip532)\" style=\"fill:#009af9; stroke:none; fill-opacity:0\" cx=\"1140.73\" cy=\"450.703\" r=\"2\"/>\n",
       "<circle clip-path=\"url(#clip532)\" style=\"fill:#009af9; stroke:none; fill-opacity:0\" cx=\"1161.44\" cy=\"426.616\" r=\"2\"/>\n",
       "<circle clip-path=\"url(#clip532)\" style=\"fill:#009af9; stroke:none; fill-opacity:0\" cx=\"1182.16\" cy=\"396.507\" r=\"2\"/>\n",
       "<circle clip-path=\"url(#clip532)\" style=\"fill:#009af9; stroke:none; fill-opacity:0\" cx=\"1202.88\" cy=\"384.463\" r=\"2\"/>\n",
       "<circle clip-path=\"url(#clip532)\" style=\"fill:#009af9; stroke:none; fill-opacity:0\" cx=\"1223.6\" cy=\"396.507\" r=\"2\"/>\n",
       "<circle clip-path=\"url(#clip532)\" style=\"fill:#009af9; stroke:none; fill-opacity:0\" cx=\"1244.32\" cy=\"390.485\" r=\"2\"/>\n",
       "<circle clip-path=\"url(#clip532)\" style=\"fill:#009af9; stroke:none; fill-opacity:0\" cx=\"1265.04\" cy=\"384.463\" r=\"2\"/>\n",
       "<circle clip-path=\"url(#clip532)\" style=\"fill:#009af9; stroke:none; fill-opacity:0\" cx=\"1285.75\" cy=\"312.202\" r=\"2\"/>\n",
       "<circle clip-path=\"url(#clip532)\" style=\"fill:#009af9; stroke:none; fill-opacity:0\" cx=\"1306.47\" cy=\"47.2441\" r=\"2\"/>\n",
       "<circle clip-path=\"url(#clip532)\" style=\"fill:#009af9; stroke:none; fill-opacity:0\" cx=\"1327.19\" cy=\"306.18\" r=\"2\"/>\n",
       "<circle clip-path=\"url(#clip532)\" style=\"fill:#009af9; stroke:none; fill-opacity:0\" cx=\"1347.91\" cy=\"264.028\" r=\"2\"/>\n",
       "<circle clip-path=\"url(#clip532)\" style=\"fill:#009af9; stroke:none; fill-opacity:0\" cx=\"1368.63\" cy=\"438.659\" r=\"2\"/>\n",
       "<circle clip-path=\"url(#clip532)\" style=\"fill:#009af9; stroke:none; fill-opacity:0\" cx=\"1389.35\" cy=\"516.942\" r=\"2\"/>\n",
       "<circle clip-path=\"url(#clip532)\" style=\"fill:#009af9; stroke:none; fill-opacity:0\" cx=\"1410.07\" cy=\"498.877\" r=\"2\"/>\n",
       "<circle clip-path=\"url(#clip532)\" style=\"fill:#009af9; stroke:none; fill-opacity:0\" cx=\"1430.78\" cy=\"559.095\" r=\"2\"/>\n",
       "<circle clip-path=\"url(#clip532)\" style=\"fill:#009af9; stroke:none; fill-opacity:0\" cx=\"1451.5\" cy=\"589.204\" r=\"2\"/>\n",
       "<circle clip-path=\"url(#clip532)\" style=\"fill:#009af9; stroke:none; fill-opacity:0\" cx=\"1472.22\" cy=\"703.617\" r=\"2\"/>\n",
       "<circle clip-path=\"url(#clip532)\" style=\"fill:#009af9; stroke:none; fill-opacity:0\" cx=\"1492.94\" cy=\"956.532\" r=\"2\"/>\n",
       "<circle clip-path=\"url(#clip532)\" style=\"fill:#009af9; stroke:none; fill-opacity:0\" cx=\"1513.66\" cy=\"914.379\" r=\"2\"/>\n",
       "<circle clip-path=\"url(#clip532)\" style=\"fill:#009af9; stroke:none; fill-opacity:0\" cx=\"1534.38\" cy=\"974.597\" r=\"2\"/>\n",
       "<circle clip-path=\"url(#clip532)\" style=\"fill:#009af9; stroke:none; fill-opacity:0\" cx=\"1555.09\" cy=\"986.641\" r=\"2\"/>\n",
       "<circle clip-path=\"url(#clip532)\" style=\"fill:#009af9; stroke:none; fill-opacity:0\" cx=\"1575.81\" cy=\"1095.03\" r=\"2\"/>\n",
       "<circle clip-path=\"url(#clip532)\" style=\"fill:#009af9; stroke:none; fill-opacity:0\" cx=\"1596.53\" cy=\"1191.38\" r=\"2\"/>\n",
       "<circle clip-path=\"url(#clip532)\" style=\"fill:#009af9; stroke:none; fill-opacity:0\" cx=\"1617.25\" cy=\"1281.71\" r=\"2\"/>\n",
       "<circle clip-path=\"url(#clip532)\" style=\"fill:#009af9; stroke:none; fill-opacity:0\" cx=\"1637.97\" cy=\"1347.95\" r=\"2\"/>\n",
       "<circle clip-path=\"url(#clip532)\" style=\"fill:#009af9; stroke:none; fill-opacity:0\" cx=\"1658.69\" cy=\"1347.95\" r=\"2\"/>\n",
       "<circle clip-path=\"url(#clip532)\" style=\"fill:#009af9; stroke:none; fill-opacity:0\" cx=\"1679.41\" cy=\"1347.95\" r=\"2\"/>\n",
       "<circle clip-path=\"url(#clip532)\" style=\"fill:#009af9; stroke:none; fill-opacity:0\" cx=\"1700.12\" cy=\"1353.97\" r=\"2\"/>\n",
       "<circle clip-path=\"url(#clip532)\" style=\"fill:#009af9; stroke:none; fill-opacity:0\" cx=\"1720.84\" cy=\"1444.3\" r=\"2\"/>\n",
       "<circle clip-path=\"url(#clip532)\" style=\"fill:#009af9; stroke:none; fill-opacity:0\" cx=\"1741.56\" cy=\"1426.23\" r=\"2\"/>\n",
       "<circle clip-path=\"url(#clip532)\" style=\"fill:#009af9; stroke:none; fill-opacity:0\" cx=\"1762.28\" cy=\"1420.21\" r=\"2\"/>\n",
       "<circle clip-path=\"url(#clip532)\" style=\"fill:#009af9; stroke:none; fill-opacity:0\" cx=\"1783\" cy=\"1444.3\" r=\"2\"/>\n",
       "<circle clip-path=\"url(#clip532)\" style=\"fill:#009af9; stroke:none; fill-opacity:0\" cx=\"1803.72\" cy=\"1450.32\" r=\"2\"/>\n",
       "<circle clip-path=\"url(#clip532)\" style=\"fill:#009af9; stroke:none; fill-opacity:0\" cx=\"1824.43\" cy=\"1438.27\" r=\"2\"/>\n",
       "<circle clip-path=\"url(#clip532)\" style=\"fill:#009af9; stroke:none; fill-opacity:0\" cx=\"1845.15\" cy=\"1468.38\" r=\"2\"/>\n",
       "<circle clip-path=\"url(#clip532)\" style=\"fill:#009af9; stroke:none; fill-opacity:0\" cx=\"1865.87\" cy=\"1474.4\" r=\"2\"/>\n",
       "<circle clip-path=\"url(#clip532)\" style=\"fill:#009af9; stroke:none; fill-opacity:0\" cx=\"1886.59\" cy=\"1456.34\" r=\"2\"/>\n",
       "<circle clip-path=\"url(#clip532)\" style=\"fill:#009af9; stroke:none; fill-opacity:0\" cx=\"1907.31\" cy=\"1486.45\" r=\"2\"/>\n",
       "<circle clip-path=\"url(#clip532)\" style=\"fill:#009af9; stroke:none; fill-opacity:0\" cx=\"1928.03\" cy=\"1480.43\" r=\"2\"/>\n",
       "<circle clip-path=\"url(#clip532)\" style=\"fill:#009af9; stroke:none; fill-opacity:0\" cx=\"1948.75\" cy=\"1486.45\" r=\"2\"/>\n",
       "<circle clip-path=\"url(#clip532)\" style=\"fill:#009af9; stroke:none; fill-opacity:0\" cx=\"1969.46\" cy=\"1486.45\" r=\"2\"/>\n",
       "<circle clip-path=\"url(#clip532)\" style=\"fill:#009af9; stroke:none; fill-opacity:0\" cx=\"1990.18\" cy=\"1486.45\" r=\"2\"/>\n",
       "<circle clip-path=\"url(#clip532)\" style=\"fill:#009af9; stroke:none; fill-opacity:0\" cx=\"2010.9\" cy=\"1480.43\" r=\"2\"/>\n",
       "<circle clip-path=\"url(#clip532)\" style=\"fill:#009af9; stroke:none; fill-opacity:0\" cx=\"2031.62\" cy=\"1486.45\" r=\"2\"/>\n",
       "<circle clip-path=\"url(#clip532)\" style=\"fill:#009af9; stroke:none; fill-opacity:0\" cx=\"2052.34\" cy=\"1486.45\" r=\"2\"/>\n",
       "<circle clip-path=\"url(#clip532)\" style=\"fill:#009af9; stroke:none; fill-opacity:0\" cx=\"2073.06\" cy=\"1486.45\" r=\"2\"/>\n",
       "<circle clip-path=\"url(#clip532)\" style=\"fill:#009af9; stroke:none; fill-opacity:0\" cx=\"2093.78\" cy=\"1480.43\" r=\"2\"/>\n",
       "<polyline clip-path=\"url(#clip532)\" style=\"stroke:#e26f46; stroke-linecap:round; stroke-linejoin:round; stroke-width:20; stroke-opacity:1; fill:none\" points=\"218.754,1486.44 239.472,1486.44 260.191,1486.44 280.909,1486.43 301.628,1486.42 322.346,1486.4 343.064,1486.37 363.783,1486.33 384.501,1486.27 405.22,1486.18 425.938,1486.04 446.657,1485.85 467.375,1485.57 488.094,1485.17 508.812,1484.61 529.531,1483.82 550.249,1482.74 570.968,1481.26 591.686,1479.27 612.405,1476.61 633.123,1473.1 653.841,1468.53 674.56,1462.62 695.278,1455.07 715.997,1445.55 736.715,1433.67 757.434,1419.02 778.152,1401.16 798.871,1379.64 819.589,1354.02 840.308,1323.89 861.026,1288.89 881.745,1248.74 902.463,1203.28 923.182,1152.48 943.9,1096.49 964.619,1035.64 985.337,970.476 1006.06,901.776 1026.77,830.52 1047.49,757.901 1068.21,685.295 1088.93,614.219 1109.65,546.287 1130.37,483.146 1151.08,426.419 1171.8,377.628 1192.52,338.132 1213.24,309.063 1233.96,291.269 1254.68,285.278 1275.4,291.269 1296.11,309.063 1316.83,338.132 1337.55,377.628 1358.27,426.419 1378.99,483.146 1399.71,546.287 1420.42,614.219 1441.14,685.295 1461.86,757.901 1482.58,830.52 1503.3,901.776 1524.02,970.476 1544.74,1035.64 1565.45,1096.49 1586.17,1152.48 1606.89,1203.28 1627.61,1248.74 1648.33,1288.89 1669.05,1323.89 1689.76,1354.02 1710.48,1379.64 1731.2,1401.16 1751.92,1419.02 1772.64,1433.67 1793.36,1445.55 1814.08,1455.07 1834.79,1462.62 1855.51,1468.53 1876.23,1473.1 1896.95,1476.61 1917.67,1479.27 1938.39,1481.26 1959.11,1482.74 1979.82,1483.82 2000.54,1484.61 2021.26,1485.17 2041.98,1485.57 2062.7,1485.85 2083.42,1486.04 2104.13,1486.18 2124.85,1486.27 2145.57,1486.33 2166.29,1486.37 2187.01,1486.4 2207.73,1486.42 2228.45,1486.43 2249.16,1486.44 2269.88,1486.44 2290.6,1486.44 \"/>\n",
       "</svg>\n"
      ],
      "text/html": [
       "<?xml version=\"1.0\" encoding=\"utf-8\"?>\n",
       "<svg xmlns=\"http://www.w3.org/2000/svg\" xmlns:xlink=\"http://www.w3.org/1999/xlink\" width=\"600\" height=\"400\" viewBox=\"0 0 2400 1600\">\n",
       "<defs>\n",
       "  <clipPath id=\"clip580\">\n",
       "    <rect x=\"0\" y=\"0\" width=\"2400\" height=\"1600\"/>\n",
       "  </clipPath>\n",
       "</defs>\n",
       "<path clip-path=\"url(#clip580)\" d=\"M0 1600 L2400 1600 L2400 0 L0 0  Z\" fill=\"#ffffff\" fill-rule=\"evenodd\" fill-opacity=\"1\"/>\n",
       "<defs>\n",
       "  <clipPath id=\"clip581\">\n",
       "    <rect x=\"480\" y=\"0\" width=\"1681\" height=\"1600\"/>\n",
       "  </clipPath>\n",
       "</defs>\n",
       "<path clip-path=\"url(#clip580)\" d=\"M156.598 1486.45 L2352.76 1486.45 L2352.76 47.2441 L156.598 47.2441  Z\" fill=\"#ffffff\" fill-rule=\"evenodd\" fill-opacity=\"1\"/>\n",
       "<defs>\n",
       "  <clipPath id=\"clip582\">\n",
       "    <rect x=\"156\" y=\"47\" width=\"2197\" height=\"1440\"/>\n",
       "  </clipPath>\n",
       "</defs>\n",
       "<polyline clip-path=\"url(#clip582)\" style=\"stroke:#000000; stroke-linecap:round; stroke-linejoin:round; stroke-width:2; stroke-opacity:0.1; fill:none\" points=\"425.938,1486.45 425.938,47.2441 \"/>\n",
       "<polyline clip-path=\"url(#clip582)\" style=\"stroke:#000000; stroke-linecap:round; stroke-linejoin:round; stroke-width:2; stroke-opacity:0.1; fill:none\" points=\"840.308,1486.45 840.308,47.2441 \"/>\n",
       "<polyline clip-path=\"url(#clip582)\" style=\"stroke:#000000; stroke-linecap:round; stroke-linejoin:round; stroke-width:2; stroke-opacity:0.1; fill:none\" points=\"1254.68,1486.45 1254.68,47.2441 \"/>\n",
       "<polyline clip-path=\"url(#clip582)\" style=\"stroke:#000000; stroke-linecap:round; stroke-linejoin:round; stroke-width:2; stroke-opacity:0.1; fill:none\" points=\"1669.05,1486.45 1669.05,47.2441 \"/>\n",
       "<polyline clip-path=\"url(#clip582)\" style=\"stroke:#000000; stroke-linecap:round; stroke-linejoin:round; stroke-width:2; stroke-opacity:0.1; fill:none\" points=\"2083.42,1486.45 2083.42,47.2441 \"/>\n",
       "<polyline clip-path=\"url(#clip582)\" style=\"stroke:#000000; stroke-linecap:round; stroke-linejoin:round; stroke-width:2; stroke-opacity:0.1; fill:none\" points=\"156.598,1486.45 2352.76,1486.45 \"/>\n",
       "<polyline clip-path=\"url(#clip582)\" style=\"stroke:#000000; stroke-linecap:round; stroke-linejoin:round; stroke-width:2; stroke-opacity:0.1; fill:none\" points=\"156.598,1185.36 2352.76,1185.36 \"/>\n",
       "<polyline clip-path=\"url(#clip582)\" style=\"stroke:#000000; stroke-linecap:round; stroke-linejoin:round; stroke-width:2; stroke-opacity:0.1; fill:none\" points=\"156.598,884.271 2352.76,884.271 \"/>\n",
       "<polyline clip-path=\"url(#clip582)\" style=\"stroke:#000000; stroke-linecap:round; stroke-linejoin:round; stroke-width:2; stroke-opacity:0.1; fill:none\" points=\"156.598,583.182 2352.76,583.182 \"/>\n",
       "<polyline clip-path=\"url(#clip582)\" style=\"stroke:#000000; stroke-linecap:round; stroke-linejoin:round; stroke-width:2; stroke-opacity:0.1; fill:none\" points=\"156.598,282.093 2352.76,282.093 \"/>\n",
       "<polyline clip-path=\"url(#clip580)\" style=\"stroke:#000000; stroke-linecap:round; stroke-linejoin:round; stroke-width:4; stroke-opacity:1; fill:none\" points=\"156.598,1486.45 2352.76,1486.45 \"/>\n",
       "<polyline clip-path=\"url(#clip580)\" style=\"stroke:#000000; stroke-linecap:round; stroke-linejoin:round; stroke-width:4; stroke-opacity:1; fill:none\" points=\"425.938,1486.45 425.938,1467.55 \"/>\n",
       "<polyline clip-path=\"url(#clip580)\" style=\"stroke:#000000; stroke-linecap:round; stroke-linejoin:round; stroke-width:4; stroke-opacity:1; fill:none\" points=\"840.308,1486.45 840.308,1467.55 \"/>\n",
       "<polyline clip-path=\"url(#clip580)\" style=\"stroke:#000000; stroke-linecap:round; stroke-linejoin:round; stroke-width:4; stroke-opacity:1; fill:none\" points=\"1254.68,1486.45 1254.68,1467.55 \"/>\n",
       "<polyline clip-path=\"url(#clip580)\" style=\"stroke:#000000; stroke-linecap:round; stroke-linejoin:round; stroke-width:4; stroke-opacity:1; fill:none\" points=\"1669.05,1486.45 1669.05,1467.55 \"/>\n",
       "<polyline clip-path=\"url(#clip580)\" style=\"stroke:#000000; stroke-linecap:round; stroke-linejoin:round; stroke-width:4; stroke-opacity:1; fill:none\" points=\"2083.42,1486.45 2083.42,1467.55 \"/>\n",
       "<path clip-path=\"url(#clip580)\" d=\"M394.839 1532.02 L424.515 1532.02 L424.515 1535.95 L394.839 1535.95 L394.839 1532.02 Z\" fill=\"#000000\" fill-rule=\"nonzero\" fill-opacity=\"1\" /><path clip-path=\"url(#clip580)\" d=\"M447.454 1518.36 L435.649 1536.81 L447.454 1536.81 L447.454 1518.36 M446.228 1514.29 L452.107 1514.29 L452.107 1536.81 L457.038 1536.81 L457.038 1540.7 L452.107 1540.7 L452.107 1548.85 L447.454 1548.85 L447.454 1540.7 L431.853 1540.7 L431.853 1536.19 L446.228 1514.29 Z\" fill=\"#000000\" fill-rule=\"nonzero\" fill-opacity=\"1\" /><path clip-path=\"url(#clip580)\" d=\"M810.25 1532.02 L839.926 1532.02 L839.926 1535.95 L810.25 1535.95 L810.25 1532.02 Z\" fill=\"#000000\" fill-rule=\"nonzero\" fill-opacity=\"1\" /><path clip-path=\"url(#clip580)\" d=\"M854.046 1544.91 L870.365 1544.91 L870.365 1548.85 L848.421 1548.85 L848.421 1544.91 Q851.083 1542.16 855.666 1537.53 Q860.273 1532.88 861.453 1531.53 Q863.699 1529.01 864.578 1527.27 Q865.481 1525.51 865.481 1523.82 Q865.481 1521.07 863.537 1519.33 Q861.615 1517.6 858.514 1517.6 Q856.315 1517.6 853.861 1518.36 Q851.43 1519.13 848.653 1520.68 L848.653 1515.95 Q851.477 1514.82 853.93 1514.24 Q856.384 1513.66 858.421 1513.66 Q863.791 1513.66 866.986 1516.35 Q870.18 1519.03 870.18 1523.52 Q870.18 1525.65 869.37 1527.57 Q868.583 1529.47 866.477 1532.07 Q865.898 1532.74 862.796 1535.95 Q859.694 1539.15 854.046 1544.91 Z\" fill=\"#000000\" fill-rule=\"nonzero\" fill-opacity=\"1\" /><path clip-path=\"url(#clip580)\" d=\"M1254.68 1517.37 Q1251.07 1517.37 1249.24 1520.93 Q1247.43 1524.47 1247.43 1531.6 Q1247.43 1538.71 1249.24 1542.27 Q1251.07 1545.82 1254.68 1545.82 Q1258.31 1545.82 1260.12 1542.27 Q1261.95 1538.71 1261.95 1531.6 Q1261.95 1524.47 1260.12 1520.93 Q1258.31 1517.37 1254.68 1517.37 M1254.68 1513.66 Q1260.49 1513.66 1263.54 1518.27 Q1266.62 1522.85 1266.62 1531.6 Q1266.62 1540.33 1263.54 1544.94 Q1260.49 1549.52 1254.68 1549.52 Q1248.87 1549.52 1245.79 1544.94 Q1242.73 1540.33 1242.73 1531.6 Q1242.73 1522.85 1245.79 1518.27 Q1248.87 1513.66 1254.68 1513.66 Z\" fill=\"#000000\" fill-rule=\"nonzero\" fill-opacity=\"1\" /><path clip-path=\"url(#clip580)\" d=\"M1663.7 1544.91 L1680.02 1544.91 L1680.02 1548.85 L1658.07 1548.85 L1658.07 1544.91 Q1660.74 1542.16 1665.32 1537.53 Q1669.93 1532.88 1671.11 1531.53 Q1673.35 1529.01 1674.23 1527.27 Q1675.13 1525.51 1675.13 1523.82 Q1675.13 1521.07 1673.19 1519.33 Q1671.27 1517.6 1668.17 1517.6 Q1665.97 1517.6 1663.51 1518.36 Q1661.08 1519.13 1658.31 1520.68 L1658.31 1515.95 Q1661.13 1514.82 1663.58 1514.24 Q1666.04 1513.66 1668.07 1513.66 Q1673.44 1513.66 1676.64 1516.35 Q1679.83 1519.03 1679.83 1523.52 Q1679.83 1525.65 1679.02 1527.57 Q1678.24 1529.47 1676.13 1532.07 Q1675.55 1532.74 1672.45 1535.95 Q1669.35 1539.15 1663.7 1544.91 Z\" fill=\"#000000\" fill-rule=\"nonzero\" fill-opacity=\"1\" /><path clip-path=\"url(#clip580)\" d=\"M2086.43 1518.36 L2074.62 1536.81 L2086.43 1536.81 L2086.43 1518.36 M2085.2 1514.29 L2091.08 1514.29 L2091.08 1536.81 L2096.01 1536.81 L2096.01 1540.7 L2091.08 1540.7 L2091.08 1548.85 L2086.43 1548.85 L2086.43 1540.7 L2070.82 1540.7 L2070.82 1536.19 L2085.2 1514.29 Z\" fill=\"#000000\" fill-rule=\"nonzero\" fill-opacity=\"1\" /><polyline clip-path=\"url(#clip580)\" style=\"stroke:#000000; stroke-linecap:round; stroke-linejoin:round; stroke-width:4; stroke-opacity:1; fill:none\" points=\"156.598,1486.45 156.598,47.2441 \"/>\n",
       "<polyline clip-path=\"url(#clip580)\" style=\"stroke:#000000; stroke-linecap:round; stroke-linejoin:round; stroke-width:4; stroke-opacity:1; fill:none\" points=\"156.598,1486.45 175.496,1486.45 \"/>\n",
       "<polyline clip-path=\"url(#clip580)\" style=\"stroke:#000000; stroke-linecap:round; stroke-linejoin:round; stroke-width:4; stroke-opacity:1; fill:none\" points=\"156.598,1185.36 175.496,1185.36 \"/>\n",
       "<polyline clip-path=\"url(#clip580)\" style=\"stroke:#000000; stroke-linecap:round; stroke-linejoin:round; stroke-width:4; stroke-opacity:1; fill:none\" points=\"156.598,884.271 175.496,884.271 \"/>\n",
       "<polyline clip-path=\"url(#clip580)\" style=\"stroke:#000000; stroke-linecap:round; stroke-linejoin:round; stroke-width:4; stroke-opacity:1; fill:none\" points=\"156.598,583.182 175.496,583.182 \"/>\n",
       "<polyline clip-path=\"url(#clip580)\" style=\"stroke:#000000; stroke-linecap:round; stroke-linejoin:round; stroke-width:4; stroke-opacity:1; fill:none\" points=\"156.598,282.093 175.496,282.093 \"/>\n",
       "<path clip-path=\"url(#clip580)\" d=\"M63.4226 1472.25 Q59.8115 1472.25 57.9828 1475.81 Q56.1773 1479.35 56.1773 1486.48 Q56.1773 1493.59 57.9828 1497.15 Q59.8115 1500.7 63.4226 1500.7 Q67.0569 1500.7 68.8624 1497.15 Q70.6911 1493.59 70.6911 1486.48 Q70.6911 1479.35 68.8624 1475.81 Q67.0569 1472.25 63.4226 1472.25 M63.4226 1468.54 Q69.2328 1468.54 72.2883 1473.15 Q75.367 1477.73 75.367 1486.48 Q75.367 1495.21 72.2883 1499.82 Q69.2328 1504.4 63.4226 1504.4 Q57.6125 1504.4 54.5338 1499.82 Q51.4782 1495.21 51.4782 1486.48 Q51.4782 1477.73 54.5338 1473.15 Q57.6125 1468.54 63.4226 1468.54 Z\" fill=\"#000000\" fill-rule=\"nonzero\" fill-opacity=\"1\" /><path clip-path=\"url(#clip580)\" d=\"M83.5845 1497.85 L88.4688 1497.85 L88.4688 1503.73 L83.5845 1503.73 L83.5845 1497.85 Z\" fill=\"#000000\" fill-rule=\"nonzero\" fill-opacity=\"1\" /><path clip-path=\"url(#clip580)\" d=\"M108.654 1472.25 Q105.043 1472.25 103.214 1475.81 Q101.409 1479.35 101.409 1486.48 Q101.409 1493.59 103.214 1497.15 Q105.043 1500.7 108.654 1500.7 Q112.288 1500.7 114.094 1497.15 Q115.922 1493.59 115.922 1486.48 Q115.922 1479.35 114.094 1475.81 Q112.288 1472.25 108.654 1472.25 M108.654 1468.54 Q114.464 1468.54 117.52 1473.15 Q120.598 1477.73 120.598 1486.48 Q120.598 1495.21 117.52 1499.82 Q114.464 1504.4 108.654 1504.4 Q102.844 1504.4 99.765 1499.82 Q96.7095 1495.21 96.7095 1486.48 Q96.7095 1477.73 99.765 1473.15 Q102.844 1468.54 108.654 1468.54 Z\" fill=\"#000000\" fill-rule=\"nonzero\" fill-opacity=\"1\" /><path clip-path=\"url(#clip580)\" d=\"M64.6495 1171.16 Q61.0384 1171.16 59.2097 1174.72 Q57.4041 1178.26 57.4041 1185.39 Q57.4041 1192.5 59.2097 1196.07 Q61.0384 1199.61 64.6495 1199.61 Q68.2837 1199.61 70.0892 1196.07 Q71.9179 1192.5 71.9179 1185.39 Q71.9179 1178.26 70.0892 1174.72 Q68.2837 1171.16 64.6495 1171.16 M64.6495 1167.45 Q70.4596 1167.45 73.5152 1172.06 Q76.5938 1176.64 76.5938 1185.39 Q76.5938 1194.12 73.5152 1198.73 Q70.4596 1203.31 64.6495 1203.31 Q58.8393 1203.31 55.7606 1198.73 Q52.7051 1194.12 52.7051 1185.39 Q52.7051 1176.64 55.7606 1172.06 Q58.8393 1167.45 64.6495 1167.45 Z\" fill=\"#000000\" fill-rule=\"nonzero\" fill-opacity=\"1\" /><path clip-path=\"url(#clip580)\" d=\"M84.8114 1196.76 L89.6956 1196.76 L89.6956 1202.64 L84.8114 1202.64 L84.8114 1196.76 Z\" fill=\"#000000\" fill-rule=\"nonzero\" fill-opacity=\"1\" /><path clip-path=\"url(#clip580)\" d=\"M100.691 1198.7 L108.33 1198.7 L108.33 1172.34 L100.02 1174.01 L100.02 1169.75 L108.283 1168.08 L112.959 1168.08 L112.959 1198.7 L120.598 1198.7 L120.598 1202.64 L100.691 1202.64 L100.691 1198.7 Z\" fill=\"#000000\" fill-rule=\"nonzero\" fill-opacity=\"1\" /><path clip-path=\"url(#clip580)\" d=\"M65.0198 870.069 Q61.4087 870.069 59.58 873.634 Q57.7745 877.176 57.7745 884.305 Q57.7745 891.412 59.58 894.977 Q61.4087 898.518 65.0198 898.518 Q68.6541 898.518 70.4596 894.977 Q72.2883 891.412 72.2883 884.305 Q72.2883 877.176 70.4596 873.634 Q68.6541 870.069 65.0198 870.069 M65.0198 866.366 Q70.83 866.366 73.8855 870.972 Q76.9642 875.555 76.9642 884.305 Q76.9642 893.032 73.8855 897.639 Q70.83 902.222 65.0198 902.222 Q59.2097 902.222 56.131 897.639 Q53.0754 893.032 53.0754 884.305 Q53.0754 875.555 56.131 870.972 Q59.2097 866.366 65.0198 866.366 Z\" fill=\"#000000\" fill-rule=\"nonzero\" fill-opacity=\"1\" /><path clip-path=\"url(#clip580)\" d=\"M85.1818 895.671 L90.066 895.671 L90.066 901.551 L85.1818 901.551 L85.1818 895.671 Z\" fill=\"#000000\" fill-rule=\"nonzero\" fill-opacity=\"1\" /><path clip-path=\"url(#clip580)\" d=\"M104.279 897.615 L120.598 897.615 L120.598 901.551 L98.6539 901.551 L98.6539 897.615 Q101.316 894.861 105.899 890.231 Q110.506 885.578 111.686 884.236 Q113.932 881.713 114.811 879.977 Q115.714 878.217 115.714 876.528 Q115.714 873.773 113.77 872.037 Q111.848 870.301 108.746 870.301 Q106.547 870.301 104.094 871.065 Q101.663 871.828 98.8854 873.379 L98.8854 868.657 Q101.709 867.523 104.163 866.944 Q106.617 866.366 108.654 866.366 Q114.024 866.366 117.219 869.051 Q120.413 871.736 120.413 876.227 Q120.413 878.356 119.603 880.278 Q118.816 882.176 116.709 884.768 Q116.131 885.44 113.029 888.657 Q109.927 891.852 104.279 897.615 Z\" fill=\"#000000\" fill-rule=\"nonzero\" fill-opacity=\"1\" /><path clip-path=\"url(#clip580)\" d=\"M64.0708 568.981 Q60.4597 568.981 58.631 572.545 Q56.8254 576.087 56.8254 583.217 Q56.8254 590.323 58.631 593.888 Q60.4597 597.43 64.0708 597.43 Q67.705 597.43 69.5105 593.888 Q71.3392 590.323 71.3392 583.217 Q71.3392 576.087 69.5105 572.545 Q67.705 568.981 64.0708 568.981 M64.0708 565.277 Q69.8809 565.277 72.9365 569.883 Q76.0151 574.467 76.0151 583.217 Q76.0151 591.943 72.9365 596.55 Q69.8809 601.133 64.0708 601.133 Q58.2606 601.133 55.1819 596.55 Q52.1264 591.943 52.1264 583.217 Q52.1264 574.467 55.1819 569.883 Q58.2606 565.277 64.0708 565.277 Z\" fill=\"#000000\" fill-rule=\"nonzero\" fill-opacity=\"1\" /><path clip-path=\"url(#clip580)\" d=\"M84.2327 594.582 L89.1169 594.582 L89.1169 600.462 L84.2327 600.462 L84.2327 594.582 Z\" fill=\"#000000\" fill-rule=\"nonzero\" fill-opacity=\"1\" /><path clip-path=\"url(#clip580)\" d=\"M113.469 581.828 Q116.825 582.545 118.7 584.814 Q120.598 587.082 120.598 590.416 Q120.598 595.531 117.08 598.332 Q113.561 601.133 107.08 601.133 Q104.904 601.133 102.589 600.693 Q100.297 600.277 97.8437 599.42 L97.8437 594.906 Q99.7882 596.041 102.103 596.619 Q104.418 597.198 106.941 597.198 Q111.339 597.198 113.631 595.462 Q115.945 593.726 115.945 590.416 Q115.945 587.36 113.793 585.647 Q111.663 583.911 107.844 583.911 L103.816 583.911 L103.816 580.068 L108.029 580.068 Q111.478 580.068 113.307 578.703 Q115.135 577.314 115.135 574.721 Q115.135 572.059 113.237 570.647 Q111.362 569.212 107.844 569.212 Q105.922 569.212 103.723 569.629 Q101.524 570.045 98.8854 570.925 L98.8854 566.758 Q101.547 566.018 103.862 565.647 Q106.2 565.277 108.26 565.277 Q113.584 565.277 116.686 567.707 Q119.788 570.115 119.788 574.235 Q119.788 577.106 118.145 579.096 Q116.501 581.064 113.469 581.828 Z\" fill=\"#000000\" fill-rule=\"nonzero\" fill-opacity=\"1\" /><path clip-path=\"url(#clip580)\" d=\"M62.9365 267.892 Q59.3254 267.892 57.4967 271.457 Q55.6912 274.998 55.6912 282.128 Q55.6912 289.234 57.4967 292.799 Q59.3254 296.341 62.9365 296.341 Q66.5707 296.341 68.3763 292.799 Q70.205 289.234 70.205 282.128 Q70.205 274.998 68.3763 271.457 Q66.5707 267.892 62.9365 267.892 M62.9365 264.188 Q68.7467 264.188 71.8022 268.795 Q74.8809 273.378 74.8809 282.128 Q74.8809 290.855 71.8022 295.461 Q68.7467 300.045 62.9365 300.045 Q57.1264 300.045 54.0477 295.461 Q50.9921 290.855 50.9921 282.128 Q50.9921 273.378 54.0477 268.795 Q57.1264 264.188 62.9365 264.188 Z\" fill=\"#000000\" fill-rule=\"nonzero\" fill-opacity=\"1\" /><path clip-path=\"url(#clip580)\" d=\"M83.0984 293.494 L87.9827 293.494 L87.9827 299.373 L83.0984 299.373 L83.0984 293.494 Z\" fill=\"#000000\" fill-rule=\"nonzero\" fill-opacity=\"1\" /><path clip-path=\"url(#clip580)\" d=\"M111.015 268.887 L99.2095 287.336 L111.015 287.336 L111.015 268.887 M109.788 264.813 L115.668 264.813 L115.668 287.336 L120.598 287.336 L120.598 291.225 L115.668 291.225 L115.668 299.373 L111.015 299.373 L111.015 291.225 L95.4132 291.225 L95.4132 286.711 L109.788 264.813 Z\" fill=\"#000000\" fill-rule=\"nonzero\" fill-opacity=\"1\" /><path clip-path=\"url(#clip582)\" d=\"M446.657 1480.43 L446.657 1486.45 L467.375 1486.45 L467.375 1480.43 L446.657 1480.43 L446.657 1480.43  Z\" fill=\"#009af9\" fill-rule=\"evenodd\" fill-opacity=\"0.8\"/>\n",
       "<polyline clip-path=\"url(#clip582)\" style=\"stroke:#000000; stroke-linecap:round; stroke-linejoin:round; stroke-width:4; stroke-opacity:0.8; fill:none\" points=\"446.657,1480.43 446.657,1486.45 467.375,1486.45 467.375,1480.43 446.657,1480.43 \"/>\n",
       "<path clip-path=\"url(#clip582)\" d=\"M467.375 1486.45 L467.375 1486.45 L488.094 1486.45 L488.094 1486.45 L467.375 1486.45 L467.375 1486.45  Z\" fill=\"#009af9\" fill-rule=\"evenodd\" fill-opacity=\"0.8\"/>\n",
       "<polyline clip-path=\"url(#clip582)\" style=\"stroke:#000000; stroke-linecap:round; stroke-linejoin:round; stroke-width:4; stroke-opacity:0.8; fill:none\" points=\"467.375,1486.45 467.375,1486.45 488.094,1486.45 467.375,1486.45 \"/>\n",
       "<path clip-path=\"url(#clip582)\" d=\"M488.094 1486.45 L488.094 1486.45 L508.812 1486.45 L508.812 1486.45 L488.094 1486.45 L488.094 1486.45  Z\" fill=\"#009af9\" fill-rule=\"evenodd\" fill-opacity=\"0.8\"/>\n",
       "<polyline clip-path=\"url(#clip582)\" style=\"stroke:#000000; stroke-linecap:round; stroke-linejoin:round; stroke-width:4; stroke-opacity:0.8; fill:none\" points=\"488.094,1486.45 488.094,1486.45 508.812,1486.45 488.094,1486.45 \"/>\n",
       "<path clip-path=\"url(#clip582)\" d=\"M508.812 1480.43 L508.812 1486.45 L529.531 1486.45 L529.531 1480.43 L508.812 1480.43 L508.812 1480.43  Z\" fill=\"#009af9\" fill-rule=\"evenodd\" fill-opacity=\"0.8\"/>\n",
       "<polyline clip-path=\"url(#clip582)\" style=\"stroke:#000000; stroke-linecap:round; stroke-linejoin:round; stroke-width:4; stroke-opacity:0.8; fill:none\" points=\"508.812,1480.43 508.812,1486.45 529.531,1486.45 529.531,1480.43 508.812,1480.43 \"/>\n",
       "<path clip-path=\"url(#clip582)\" d=\"M529.531 1486.45 L529.531 1486.45 L550.249 1486.45 L550.249 1486.45 L529.531 1486.45 L529.531 1486.45  Z\" fill=\"#009af9\" fill-rule=\"evenodd\" fill-opacity=\"0.8\"/>\n",
       "<polyline clip-path=\"url(#clip582)\" style=\"stroke:#000000; stroke-linecap:round; stroke-linejoin:round; stroke-width:4; stroke-opacity:0.8; fill:none\" points=\"529.531,1486.45 529.531,1486.45 550.249,1486.45 529.531,1486.45 \"/>\n",
       "<path clip-path=\"url(#clip582)\" d=\"M550.249 1480.43 L550.249 1486.45 L570.968 1486.45 L570.968 1480.43 L550.249 1480.43 L550.249 1480.43  Z\" fill=\"#009af9\" fill-rule=\"evenodd\" fill-opacity=\"0.8\"/>\n",
       "<polyline clip-path=\"url(#clip582)\" style=\"stroke:#000000; stroke-linecap:round; stroke-linejoin:round; stroke-width:4; stroke-opacity:0.8; fill:none\" points=\"550.249,1480.43 550.249,1486.45 570.968,1486.45 570.968,1480.43 550.249,1480.43 \"/>\n",
       "<path clip-path=\"url(#clip582)\" d=\"M570.968 1474.4 L570.968 1486.45 L591.686 1486.45 L591.686 1474.4 L570.968 1474.4 L570.968 1474.4  Z\" fill=\"#009af9\" fill-rule=\"evenodd\" fill-opacity=\"0.8\"/>\n",
       "<polyline clip-path=\"url(#clip582)\" style=\"stroke:#000000; stroke-linecap:round; stroke-linejoin:round; stroke-width:4; stroke-opacity:0.8; fill:none\" points=\"570.968,1474.4 570.968,1486.45 591.686,1486.45 591.686,1474.4 570.968,1474.4 \"/>\n",
       "<path clip-path=\"url(#clip582)\" d=\"M591.686 1486.45 L591.686 1486.45 L612.405 1486.45 L612.405 1486.45 L591.686 1486.45 L591.686 1486.45  Z\" fill=\"#009af9\" fill-rule=\"evenodd\" fill-opacity=\"0.8\"/>\n",
       "<polyline clip-path=\"url(#clip582)\" style=\"stroke:#000000; stroke-linecap:round; stroke-linejoin:round; stroke-width:4; stroke-opacity:0.8; fill:none\" points=\"591.686,1486.45 591.686,1486.45 612.405,1486.45 591.686,1486.45 \"/>\n",
       "<path clip-path=\"url(#clip582)\" d=\"M612.405 1468.38 L612.405 1486.45 L633.123 1486.45 L633.123 1468.38 L612.405 1468.38 L612.405 1468.38  Z\" fill=\"#009af9\" fill-rule=\"evenodd\" fill-opacity=\"0.8\"/>\n",
       "<polyline clip-path=\"url(#clip582)\" style=\"stroke:#000000; stroke-linecap:round; stroke-linejoin:round; stroke-width:4; stroke-opacity:0.8; fill:none\" points=\"612.405,1468.38 612.405,1486.45 633.123,1486.45 633.123,1468.38 612.405,1468.38 \"/>\n",
       "<path clip-path=\"url(#clip582)\" d=\"M633.123 1456.34 L633.123 1486.45 L653.841 1486.45 L653.841 1456.34 L633.123 1456.34 L633.123 1456.34  Z\" fill=\"#009af9\" fill-rule=\"evenodd\" fill-opacity=\"0.8\"/>\n",
       "<polyline clip-path=\"url(#clip582)\" style=\"stroke:#000000; stroke-linecap:round; stroke-linejoin:round; stroke-width:4; stroke-opacity:0.8; fill:none\" points=\"633.123,1456.34 633.123,1486.45 653.841,1486.45 653.841,1456.34 633.123,1456.34 \"/>\n",
       "<path clip-path=\"url(#clip582)\" d=\"M653.841 1486.45 L653.841 1486.45 L674.56 1486.45 L674.56 1486.45 L653.841 1486.45 L653.841 1486.45  Z\" fill=\"#009af9\" fill-rule=\"evenodd\" fill-opacity=\"0.8\"/>\n",
       "<polyline clip-path=\"url(#clip582)\" style=\"stroke:#000000; stroke-linecap:round; stroke-linejoin:round; stroke-width:4; stroke-opacity:0.8; fill:none\" points=\"653.841,1486.45 653.841,1486.45 674.56,1486.45 653.841,1486.45 \"/>\n",
       "<path clip-path=\"url(#clip582)\" d=\"M674.56 1474.4 L674.56 1486.45 L695.278 1486.45 L695.278 1474.4 L674.56 1474.4 L674.56 1474.4  Z\" fill=\"#009af9\" fill-rule=\"evenodd\" fill-opacity=\"0.8\"/>\n",
       "<polyline clip-path=\"url(#clip582)\" style=\"stroke:#000000; stroke-linecap:round; stroke-linejoin:round; stroke-width:4; stroke-opacity:0.8; fill:none\" points=\"674.56,1474.4 674.56,1486.45 695.278,1486.45 695.278,1474.4 674.56,1474.4 \"/>\n",
       "<path clip-path=\"url(#clip582)\" d=\"M695.278 1468.38 L695.278 1486.45 L715.997 1486.45 L715.997 1468.38 L695.278 1468.38 L695.278 1468.38  Z\" fill=\"#009af9\" fill-rule=\"evenodd\" fill-opacity=\"0.8\"/>\n",
       "<polyline clip-path=\"url(#clip582)\" style=\"stroke:#000000; stroke-linecap:round; stroke-linejoin:round; stroke-width:4; stroke-opacity:0.8; fill:none\" points=\"695.278,1468.38 695.278,1486.45 715.997,1486.45 715.997,1468.38 695.278,1468.38 \"/>\n",
       "<path clip-path=\"url(#clip582)\" d=\"M715.997 1426.23 L715.997 1486.45 L736.715 1486.45 L736.715 1426.23 L715.997 1426.23 L715.997 1426.23  Z\" fill=\"#009af9\" fill-rule=\"evenodd\" fill-opacity=\"0.8\"/>\n",
       "<polyline clip-path=\"url(#clip582)\" style=\"stroke:#000000; stroke-linecap:round; stroke-linejoin:round; stroke-width:4; stroke-opacity:0.8; fill:none\" points=\"715.997,1426.23 715.997,1486.45 736.715,1486.45 736.715,1426.23 715.997,1426.23 \"/>\n",
       "<path clip-path=\"url(#clip582)\" d=\"M736.715 1444.3 L736.715 1486.45 L757.434 1486.45 L757.434 1444.3 L736.715 1444.3 L736.715 1444.3  Z\" fill=\"#009af9\" fill-rule=\"evenodd\" fill-opacity=\"0.8\"/>\n",
       "<polyline clip-path=\"url(#clip582)\" style=\"stroke:#000000; stroke-linecap:round; stroke-linejoin:round; stroke-width:4; stroke-opacity:0.8; fill:none\" points=\"736.715,1444.3 736.715,1486.45 757.434,1486.45 757.434,1444.3 736.715,1444.3 \"/>\n",
       "<path clip-path=\"url(#clip582)\" d=\"M757.434 1438.27 L757.434 1486.45 L778.152 1486.45 L778.152 1438.27 L757.434 1438.27 L757.434 1438.27  Z\" fill=\"#009af9\" fill-rule=\"evenodd\" fill-opacity=\"0.8\"/>\n",
       "<polyline clip-path=\"url(#clip582)\" style=\"stroke:#000000; stroke-linecap:round; stroke-linejoin:round; stroke-width:4; stroke-opacity:0.8; fill:none\" points=\"757.434,1438.27 757.434,1486.45 778.152,1486.45 778.152,1438.27 757.434,1438.27 \"/>\n",
       "<path clip-path=\"url(#clip582)\" d=\"M778.152 1353.97 L778.152 1486.45 L798.871 1486.45 L798.871 1353.97 L778.152 1353.97 L778.152 1353.97  Z\" fill=\"#009af9\" fill-rule=\"evenodd\" fill-opacity=\"0.8\"/>\n",
       "<polyline clip-path=\"url(#clip582)\" style=\"stroke:#000000; stroke-linecap:round; stroke-linejoin:round; stroke-width:4; stroke-opacity:0.8; fill:none\" points=\"778.152,1353.97 778.152,1486.45 798.871,1486.45 798.871,1353.97 778.152,1353.97 \"/>\n",
       "<path clip-path=\"url(#clip582)\" d=\"M798.871 1323.86 L798.871 1486.45 L819.589 1486.45 L819.589 1323.86 L798.871 1323.86 L798.871 1323.86  Z\" fill=\"#009af9\" fill-rule=\"evenodd\" fill-opacity=\"0.8\"/>\n",
       "<polyline clip-path=\"url(#clip582)\" style=\"stroke:#000000; stroke-linecap:round; stroke-linejoin:round; stroke-width:4; stroke-opacity:0.8; fill:none\" points=\"798.871,1323.86 798.871,1486.45 819.589,1486.45 819.589,1323.86 798.871,1323.86 \"/>\n",
       "<path clip-path=\"url(#clip582)\" d=\"M819.589 1311.82 L819.589 1486.45 L840.308 1486.45 L840.308 1311.82 L819.589 1311.82 L819.589 1311.82  Z\" fill=\"#009af9\" fill-rule=\"evenodd\" fill-opacity=\"0.8\"/>\n",
       "<polyline clip-path=\"url(#clip582)\" style=\"stroke:#000000; stroke-linecap:round; stroke-linejoin:round; stroke-width:4; stroke-opacity:0.8; fill:none\" points=\"819.589,1311.82 819.589,1486.45 840.308,1486.45 840.308,1311.82 819.589,1311.82 \"/>\n",
       "<path clip-path=\"url(#clip582)\" d=\"M840.308 1317.84 L840.308 1486.45 L861.026 1486.45 L861.026 1317.84 L840.308 1317.84 L840.308 1317.84  Z\" fill=\"#009af9\" fill-rule=\"evenodd\" fill-opacity=\"0.8\"/>\n",
       "<polyline clip-path=\"url(#clip582)\" style=\"stroke:#000000; stroke-linecap:round; stroke-linejoin:round; stroke-width:4; stroke-opacity:0.8; fill:none\" points=\"840.308,1317.84 840.308,1486.45 861.026,1486.45 861.026,1317.84 840.308,1317.84 \"/>\n",
       "<path clip-path=\"url(#clip582)\" d=\"M861.026 1227.51 L861.026 1486.45 L881.745 1486.45 L881.745 1227.51 L861.026 1227.51 L861.026 1227.51  Z\" fill=\"#009af9\" fill-rule=\"evenodd\" fill-opacity=\"0.8\"/>\n",
       "<polyline clip-path=\"url(#clip582)\" style=\"stroke:#000000; stroke-linecap:round; stroke-linejoin:round; stroke-width:4; stroke-opacity:0.8; fill:none\" points=\"861.026,1227.51 861.026,1486.45 881.745,1486.45 881.745,1227.51 861.026,1227.51 \"/>\n",
       "<path clip-path=\"url(#clip582)\" d=\"M881.745 1251.6 L881.745 1486.45 L902.463 1486.45 L902.463 1251.6 L881.745 1251.6 L881.745 1251.6  Z\" fill=\"#009af9\" fill-rule=\"evenodd\" fill-opacity=\"0.8\"/>\n",
       "<polyline clip-path=\"url(#clip582)\" style=\"stroke:#000000; stroke-linecap:round; stroke-linejoin:round; stroke-width:4; stroke-opacity:0.8; fill:none\" points=\"881.745,1251.6 881.745,1486.45 902.463,1486.45 902.463,1251.6 881.745,1251.6 \"/>\n",
       "<path clip-path=\"url(#clip582)\" d=\"M902.463 1251.6 L902.463 1486.45 L923.182 1486.45 L923.182 1251.6 L902.463 1251.6 L902.463 1251.6  Z\" fill=\"#009af9\" fill-rule=\"evenodd\" fill-opacity=\"0.8\"/>\n",
       "<polyline clip-path=\"url(#clip582)\" style=\"stroke:#000000; stroke-linecap:round; stroke-linejoin:round; stroke-width:4; stroke-opacity:0.8; fill:none\" points=\"902.463,1251.6 902.463,1486.45 923.182,1486.45 923.182,1251.6 902.463,1251.6 \"/>\n",
       "<path clip-path=\"url(#clip582)\" d=\"M923.182 1107.08 L923.182 1486.45 L943.9 1486.45 L943.9 1107.08 L923.182 1107.08 L923.182 1107.08  Z\" fill=\"#009af9\" fill-rule=\"evenodd\" fill-opacity=\"0.8\"/>\n",
       "<polyline clip-path=\"url(#clip582)\" style=\"stroke:#000000; stroke-linecap:round; stroke-linejoin:round; stroke-width:4; stroke-opacity:0.8; fill:none\" points=\"923.182,1107.08 923.182,1486.45 943.9,1486.45 943.9,1107.08 923.182,1107.08 \"/>\n",
       "<path clip-path=\"url(#clip582)\" d=\"M943.9 1119.12 L943.9 1486.45 L964.619 1486.45 L964.619 1119.12 L943.9 1119.12 L943.9 1119.12  Z\" fill=\"#009af9\" fill-rule=\"evenodd\" fill-opacity=\"0.8\"/>\n",
       "<polyline clip-path=\"url(#clip582)\" style=\"stroke:#000000; stroke-linecap:round; stroke-linejoin:round; stroke-width:4; stroke-opacity:0.8; fill:none\" points=\"943.9,1119.12 943.9,1486.45 964.619,1486.45 964.619,1119.12 943.9,1119.12 \"/>\n",
       "<path clip-path=\"url(#clip582)\" d=\"M964.619 1010.73 L964.619 1486.45 L985.337 1486.45 L985.337 1010.73 L964.619 1010.73 L964.619 1010.73  Z\" fill=\"#009af9\" fill-rule=\"evenodd\" fill-opacity=\"0.8\"/>\n",
       "<polyline clip-path=\"url(#clip582)\" style=\"stroke:#000000; stroke-linecap:round; stroke-linejoin:round; stroke-width:4; stroke-opacity:0.8; fill:none\" points=\"964.619,1010.73 964.619,1486.45 985.337,1486.45 985.337,1010.73 964.619,1010.73 \"/>\n",
       "<path clip-path=\"url(#clip582)\" d=\"M985.337 872.227 L985.337 1486.45 L1006.06 1486.45 L1006.06 872.227 L985.337 872.227 L985.337 872.227  Z\" fill=\"#009af9\" fill-rule=\"evenodd\" fill-opacity=\"0.8\"/>\n",
       "<polyline clip-path=\"url(#clip582)\" style=\"stroke:#000000; stroke-linecap:round; stroke-linejoin:round; stroke-width:4; stroke-opacity:0.8; fill:none\" points=\"985.337,872.227 985.337,1486.45 1006.06,1486.45 1006.06,872.227 985.337,872.227 \"/>\n",
       "<path clip-path=\"url(#clip582)\" d=\"M1006.06 866.205 L1006.06 1486.45 L1026.77 1486.45 L1026.77 866.205 L1006.06 866.205 L1006.06 866.205  Z\" fill=\"#009af9\" fill-rule=\"evenodd\" fill-opacity=\"0.8\"/>\n",
       "<polyline clip-path=\"url(#clip582)\" style=\"stroke:#000000; stroke-linecap:round; stroke-linejoin:round; stroke-width:4; stroke-opacity:0.8; fill:none\" points=\"1006.06,866.205 1006.06,1486.45 1026.77,1486.45 1026.77,866.205 1006.06,866.205 \"/>\n",
       "<path clip-path=\"url(#clip582)\" d=\"M1026.77 902.336 L1026.77 1486.45 L1047.49 1486.45 L1047.49 902.336 L1026.77 902.336 L1026.77 902.336  Z\" fill=\"#009af9\" fill-rule=\"evenodd\" fill-opacity=\"0.8\"/>\n",
       "<polyline clip-path=\"url(#clip582)\" style=\"stroke:#000000; stroke-linecap:round; stroke-linejoin:round; stroke-width:4; stroke-opacity:0.8; fill:none\" points=\"1026.77,902.336 1026.77,1486.45 1047.49,1486.45 1047.49,902.336 1026.77,902.336 \"/>\n",
       "<path clip-path=\"url(#clip582)\" d=\"M1047.49 661.465 L1047.49 1486.45 L1068.21 1486.45 L1068.21 661.465 L1047.49 661.465 L1047.49 661.465  Z\" fill=\"#009af9\" fill-rule=\"evenodd\" fill-opacity=\"0.8\"/>\n",
       "<polyline clip-path=\"url(#clip582)\" style=\"stroke:#000000; stroke-linecap:round; stroke-linejoin:round; stroke-width:4; stroke-opacity:0.8; fill:none\" points=\"1047.49,661.465 1047.49,1486.45 1068.21,1486.45 1068.21,661.465 1047.49,661.465 \"/>\n",
       "<path clip-path=\"url(#clip582)\" d=\"M1068.21 781.9 L1068.21 1486.45 L1088.93 1486.45 L1088.93 781.9 L1068.21 781.9 L1068.21 781.9  Z\" fill=\"#009af9\" fill-rule=\"evenodd\" fill-opacity=\"0.8\"/>\n",
       "<polyline clip-path=\"url(#clip582)\" style=\"stroke:#000000; stroke-linecap:round; stroke-linejoin:round; stroke-width:4; stroke-opacity:0.8; fill:none\" points=\"1068.21,781.9 1068.21,1486.45 1088.93,1486.45 1088.93,781.9 1068.21,781.9 \"/>\n",
       "<path clip-path=\"url(#clip582)\" d=\"M1088.93 691.574 L1088.93 1486.45 L1109.65 1486.45 L1109.65 691.574 L1088.93 691.574 L1088.93 691.574  Z\" fill=\"#009af9\" fill-rule=\"evenodd\" fill-opacity=\"0.8\"/>\n",
       "<polyline clip-path=\"url(#clip582)\" style=\"stroke:#000000; stroke-linecap:round; stroke-linejoin:round; stroke-width:4; stroke-opacity:0.8; fill:none\" points=\"1088.93,691.574 1088.93,1486.45 1109.65,1486.45 1109.65,691.574 1088.93,691.574 \"/>\n",
       "<path clip-path=\"url(#clip582)\" d=\"M1109.65 498.877 L1109.65 1486.45 L1130.37 1486.45 L1130.37 498.877 L1109.65 498.877 L1109.65 498.877  Z\" fill=\"#009af9\" fill-rule=\"evenodd\" fill-opacity=\"0.8\"/>\n",
       "<polyline clip-path=\"url(#clip582)\" style=\"stroke:#000000; stroke-linecap:round; stroke-linejoin:round; stroke-width:4; stroke-opacity:0.8; fill:none\" points=\"1109.65,498.877 1109.65,1486.45 1130.37,1486.45 1130.37,498.877 1109.65,498.877 \"/>\n",
       "<path clip-path=\"url(#clip582)\" d=\"M1130.37 450.703 L1130.37 1486.45 L1151.08 1486.45 L1151.08 450.703 L1130.37 450.703 L1130.37 450.703  Z\" fill=\"#009af9\" fill-rule=\"evenodd\" fill-opacity=\"0.8\"/>\n",
       "<polyline clip-path=\"url(#clip582)\" style=\"stroke:#000000; stroke-linecap:round; stroke-linejoin:round; stroke-width:4; stroke-opacity:0.8; fill:none\" points=\"1130.37,450.703 1130.37,1486.45 1151.08,1486.45 1151.08,450.703 1130.37,450.703 \"/>\n",
       "<path clip-path=\"url(#clip582)\" d=\"M1151.08 426.616 L1151.08 1486.45 L1171.8 1486.45 L1171.8 426.616 L1151.08 426.616 L1151.08 426.616  Z\" fill=\"#009af9\" fill-rule=\"evenodd\" fill-opacity=\"0.8\"/>\n",
       "<polyline clip-path=\"url(#clip582)\" style=\"stroke:#000000; stroke-linecap:round; stroke-linejoin:round; stroke-width:4; stroke-opacity:0.8; fill:none\" points=\"1151.08,426.616 1151.08,1486.45 1171.8,1486.45 1171.8,426.616 1151.08,426.616 \"/>\n",
       "<path clip-path=\"url(#clip582)\" d=\"M1171.8 396.507 L1171.8 1486.45 L1192.52 1486.45 L1192.52 396.507 L1171.8 396.507 L1171.8 396.507  Z\" fill=\"#009af9\" fill-rule=\"evenodd\" fill-opacity=\"0.8\"/>\n",
       "<polyline clip-path=\"url(#clip582)\" style=\"stroke:#000000; stroke-linecap:round; stroke-linejoin:round; stroke-width:4; stroke-opacity:0.8; fill:none\" points=\"1171.8,396.507 1171.8,1486.45 1192.52,1486.45 1192.52,396.507 1171.8,396.507 \"/>\n",
       "<path clip-path=\"url(#clip582)\" d=\"M1192.52 384.463 L1192.52 1486.45 L1213.24 1486.45 L1213.24 384.463 L1192.52 384.463 L1192.52 384.463  Z\" fill=\"#009af9\" fill-rule=\"evenodd\" fill-opacity=\"0.8\"/>\n",
       "<polyline clip-path=\"url(#clip582)\" style=\"stroke:#000000; stroke-linecap:round; stroke-linejoin:round; stroke-width:4; stroke-opacity:0.8; fill:none\" points=\"1192.52,384.463 1192.52,1486.45 1213.24,1486.45 1213.24,384.463 1192.52,384.463 \"/>\n",
       "<path clip-path=\"url(#clip582)\" d=\"M1213.24 396.507 L1213.24 1486.45 L1233.96 1486.45 L1233.96 396.507 L1213.24 396.507 L1213.24 396.507  Z\" fill=\"#009af9\" fill-rule=\"evenodd\" fill-opacity=\"0.8\"/>\n",
       "<polyline clip-path=\"url(#clip582)\" style=\"stroke:#000000; stroke-linecap:round; stroke-linejoin:round; stroke-width:4; stroke-opacity:0.8; fill:none\" points=\"1213.24,396.507 1213.24,1486.45 1233.96,1486.45 1233.96,396.507 1213.24,396.507 \"/>\n",
       "<path clip-path=\"url(#clip582)\" d=\"M1233.96 390.485 L1233.96 1486.45 L1254.68 1486.45 L1254.68 390.485 L1233.96 390.485 L1233.96 390.485  Z\" fill=\"#009af9\" fill-rule=\"evenodd\" fill-opacity=\"0.8\"/>\n",
       "<polyline clip-path=\"url(#clip582)\" style=\"stroke:#000000; stroke-linecap:round; stroke-linejoin:round; stroke-width:4; stroke-opacity:0.8; fill:none\" points=\"1233.96,390.485 1233.96,1486.45 1254.68,1486.45 1254.68,390.485 1233.96,390.485 \"/>\n",
       "<path clip-path=\"url(#clip582)\" d=\"M1254.68 384.463 L1254.68 1486.45 L1275.4 1486.45 L1275.4 384.463 L1254.68 384.463 L1254.68 384.463  Z\" fill=\"#009af9\" fill-rule=\"evenodd\" fill-opacity=\"0.8\"/>\n",
       "<polyline clip-path=\"url(#clip582)\" style=\"stroke:#000000; stroke-linecap:round; stroke-linejoin:round; stroke-width:4; stroke-opacity:0.8; fill:none\" points=\"1254.68,384.463 1254.68,1486.45 1275.4,1486.45 1275.4,384.463 1254.68,384.463 \"/>\n",
       "<path clip-path=\"url(#clip582)\" d=\"M1275.4 312.202 L1275.4 1486.45 L1296.11 1486.45 L1296.11 312.202 L1275.4 312.202 L1275.4 312.202  Z\" fill=\"#009af9\" fill-rule=\"evenodd\" fill-opacity=\"0.8\"/>\n",
       "<polyline clip-path=\"url(#clip582)\" style=\"stroke:#000000; stroke-linecap:round; stroke-linejoin:round; stroke-width:4; stroke-opacity:0.8; fill:none\" points=\"1275.4,312.202 1275.4,1486.45 1296.11,1486.45 1296.11,312.202 1275.4,312.202 \"/>\n",
       "<path clip-path=\"url(#clip582)\" d=\"M1296.11 47.2441 L1296.11 1486.45 L1316.83 1486.45 L1316.83 47.2441 L1296.11 47.2441 L1296.11 47.2441  Z\" fill=\"#009af9\" fill-rule=\"evenodd\" fill-opacity=\"0.8\"/>\n",
       "<polyline clip-path=\"url(#clip582)\" style=\"stroke:#000000; stroke-linecap:round; stroke-linejoin:round; stroke-width:4; stroke-opacity:0.8; fill:none\" points=\"1296.11,47.2441 1296.11,1486.45 1316.83,1486.45 1316.83,47.2441 1296.11,47.2441 \"/>\n",
       "<path clip-path=\"url(#clip582)\" d=\"M1316.83 306.18 L1316.83 1486.45 L1337.55 1486.45 L1337.55 306.18 L1316.83 306.18 L1316.83 306.18  Z\" fill=\"#009af9\" fill-rule=\"evenodd\" fill-opacity=\"0.8\"/>\n",
       "<polyline clip-path=\"url(#clip582)\" style=\"stroke:#000000; stroke-linecap:round; stroke-linejoin:round; stroke-width:4; stroke-opacity:0.8; fill:none\" points=\"1316.83,306.18 1316.83,1486.45 1337.55,1486.45 1337.55,306.18 1316.83,306.18 \"/>\n",
       "<path clip-path=\"url(#clip582)\" d=\"M1337.55 264.028 L1337.55 1486.45 L1358.27 1486.45 L1358.27 264.028 L1337.55 264.028 L1337.55 264.028  Z\" fill=\"#009af9\" fill-rule=\"evenodd\" fill-opacity=\"0.8\"/>\n",
       "<polyline clip-path=\"url(#clip582)\" style=\"stroke:#000000; stroke-linecap:round; stroke-linejoin:round; stroke-width:4; stroke-opacity:0.8; fill:none\" points=\"1337.55,264.028 1337.55,1486.45 1358.27,1486.45 1358.27,264.028 1337.55,264.028 \"/>\n",
       "<path clip-path=\"url(#clip582)\" d=\"M1358.27 438.659 L1358.27 1486.45 L1378.99 1486.45 L1378.99 438.659 L1358.27 438.659 L1358.27 438.659  Z\" fill=\"#009af9\" fill-rule=\"evenodd\" fill-opacity=\"0.8\"/>\n",
       "<polyline clip-path=\"url(#clip582)\" style=\"stroke:#000000; stroke-linecap:round; stroke-linejoin:round; stroke-width:4; stroke-opacity:0.8; fill:none\" points=\"1358.27,438.659 1358.27,1486.45 1378.99,1486.45 1378.99,438.659 1358.27,438.659 \"/>\n",
       "<path clip-path=\"url(#clip582)\" d=\"M1378.99 516.942 L1378.99 1486.45 L1399.71 1486.45 L1399.71 516.942 L1378.99 516.942 L1378.99 516.942  Z\" fill=\"#009af9\" fill-rule=\"evenodd\" fill-opacity=\"0.8\"/>\n",
       "<polyline clip-path=\"url(#clip582)\" style=\"stroke:#000000; stroke-linecap:round; stroke-linejoin:round; stroke-width:4; stroke-opacity:0.8; fill:none\" points=\"1378.99,516.942 1378.99,1486.45 1399.71,1486.45 1399.71,516.942 1378.99,516.942 \"/>\n",
       "<path clip-path=\"url(#clip582)\" d=\"M1399.71 498.877 L1399.71 1486.45 L1420.42 1486.45 L1420.42 498.877 L1399.71 498.877 L1399.71 498.877  Z\" fill=\"#009af9\" fill-rule=\"evenodd\" fill-opacity=\"0.8\"/>\n",
       "<polyline clip-path=\"url(#clip582)\" style=\"stroke:#000000; stroke-linecap:round; stroke-linejoin:round; stroke-width:4; stroke-opacity:0.8; fill:none\" points=\"1399.71,498.877 1399.71,1486.45 1420.42,1486.45 1420.42,498.877 1399.71,498.877 \"/>\n",
       "<path clip-path=\"url(#clip582)\" d=\"M1420.42 559.095 L1420.42 1486.45 L1441.14 1486.45 L1441.14 559.095 L1420.42 559.095 L1420.42 559.095  Z\" fill=\"#009af9\" fill-rule=\"evenodd\" fill-opacity=\"0.8\"/>\n",
       "<polyline clip-path=\"url(#clip582)\" style=\"stroke:#000000; stroke-linecap:round; stroke-linejoin:round; stroke-width:4; stroke-opacity:0.8; fill:none\" points=\"1420.42,559.095 1420.42,1486.45 1441.14,1486.45 1441.14,559.095 1420.42,559.095 \"/>\n",
       "<path clip-path=\"url(#clip582)\" d=\"M1441.14 589.204 L1441.14 1486.45 L1461.86 1486.45 L1461.86 589.204 L1441.14 589.204 L1441.14 589.204  Z\" fill=\"#009af9\" fill-rule=\"evenodd\" fill-opacity=\"0.8\"/>\n",
       "<polyline clip-path=\"url(#clip582)\" style=\"stroke:#000000; stroke-linecap:round; stroke-linejoin:round; stroke-width:4; stroke-opacity:0.8; fill:none\" points=\"1441.14,589.204 1441.14,1486.45 1461.86,1486.45 1461.86,589.204 1441.14,589.204 \"/>\n",
       "<path clip-path=\"url(#clip582)\" d=\"M1461.86 703.617 L1461.86 1486.45 L1482.58 1486.45 L1482.58 703.617 L1461.86 703.617 L1461.86 703.617  Z\" fill=\"#009af9\" fill-rule=\"evenodd\" fill-opacity=\"0.8\"/>\n",
       "<polyline clip-path=\"url(#clip582)\" style=\"stroke:#000000; stroke-linecap:round; stroke-linejoin:round; stroke-width:4; stroke-opacity:0.8; fill:none\" points=\"1461.86,703.617 1461.86,1486.45 1482.58,1486.45 1482.58,703.617 1461.86,703.617 \"/>\n",
       "<path clip-path=\"url(#clip582)\" d=\"M1482.58 956.532 L1482.58 1486.45 L1503.3 1486.45 L1503.3 956.532 L1482.58 956.532 L1482.58 956.532  Z\" fill=\"#009af9\" fill-rule=\"evenodd\" fill-opacity=\"0.8\"/>\n",
       "<polyline clip-path=\"url(#clip582)\" style=\"stroke:#000000; stroke-linecap:round; stroke-linejoin:round; stroke-width:4; stroke-opacity:0.8; fill:none\" points=\"1482.58,956.532 1482.58,1486.45 1503.3,1486.45 1503.3,956.532 1482.58,956.532 \"/>\n",
       "<path clip-path=\"url(#clip582)\" d=\"M1503.3 914.379 L1503.3 1486.45 L1524.02 1486.45 L1524.02 914.379 L1503.3 914.379 L1503.3 914.379  Z\" fill=\"#009af9\" fill-rule=\"evenodd\" fill-opacity=\"0.8\"/>\n",
       "<polyline clip-path=\"url(#clip582)\" style=\"stroke:#000000; stroke-linecap:round; stroke-linejoin:round; stroke-width:4; stroke-opacity:0.8; fill:none\" points=\"1503.3,914.379 1503.3,1486.45 1524.02,1486.45 1524.02,914.379 1503.3,914.379 \"/>\n",
       "<path clip-path=\"url(#clip582)\" d=\"M1524.02 974.597 L1524.02 1486.45 L1544.74 1486.45 L1544.74 974.597 L1524.02 974.597 L1524.02 974.597  Z\" fill=\"#009af9\" fill-rule=\"evenodd\" fill-opacity=\"0.8\"/>\n",
       "<polyline clip-path=\"url(#clip582)\" style=\"stroke:#000000; stroke-linecap:round; stroke-linejoin:round; stroke-width:4; stroke-opacity:0.8; fill:none\" points=\"1524.02,974.597 1524.02,1486.45 1544.74,1486.45 1544.74,974.597 1524.02,974.597 \"/>\n",
       "<path clip-path=\"url(#clip582)\" d=\"M1544.74 986.641 L1544.74 1486.45 L1565.45 1486.45 L1565.45 986.641 L1544.74 986.641 L1544.74 986.641  Z\" fill=\"#009af9\" fill-rule=\"evenodd\" fill-opacity=\"0.8\"/>\n",
       "<polyline clip-path=\"url(#clip582)\" style=\"stroke:#000000; stroke-linecap:round; stroke-linejoin:round; stroke-width:4; stroke-opacity:0.8; fill:none\" points=\"1544.74,986.641 1544.74,1486.45 1565.45,1486.45 1565.45,986.641 1544.74,986.641 \"/>\n",
       "<path clip-path=\"url(#clip582)\" d=\"M1565.45 1095.03 L1565.45 1486.45 L1586.17 1486.45 L1586.17 1095.03 L1565.45 1095.03 L1565.45 1095.03  Z\" fill=\"#009af9\" fill-rule=\"evenodd\" fill-opacity=\"0.8\"/>\n",
       "<polyline clip-path=\"url(#clip582)\" style=\"stroke:#000000; stroke-linecap:round; stroke-linejoin:round; stroke-width:4; stroke-opacity:0.8; fill:none\" points=\"1565.45,1095.03 1565.45,1486.45 1586.17,1486.45 1586.17,1095.03 1565.45,1095.03 \"/>\n",
       "<path clip-path=\"url(#clip582)\" d=\"M1586.17 1191.38 L1586.17 1486.45 L1606.89 1486.45 L1606.89 1191.38 L1586.17 1191.38 L1586.17 1191.38  Z\" fill=\"#009af9\" fill-rule=\"evenodd\" fill-opacity=\"0.8\"/>\n",
       "<polyline clip-path=\"url(#clip582)\" style=\"stroke:#000000; stroke-linecap:round; stroke-linejoin:round; stroke-width:4; stroke-opacity:0.8; fill:none\" points=\"1586.17,1191.38 1586.17,1486.45 1606.89,1486.45 1606.89,1191.38 1586.17,1191.38 \"/>\n",
       "<path clip-path=\"url(#clip582)\" d=\"M1606.89 1281.71 L1606.89 1486.45 L1627.61 1486.45 L1627.61 1281.71 L1606.89 1281.71 L1606.89 1281.71  Z\" fill=\"#009af9\" fill-rule=\"evenodd\" fill-opacity=\"0.8\"/>\n",
       "<polyline clip-path=\"url(#clip582)\" style=\"stroke:#000000; stroke-linecap:round; stroke-linejoin:round; stroke-width:4; stroke-opacity:0.8; fill:none\" points=\"1606.89,1281.71 1606.89,1486.45 1627.61,1486.45 1627.61,1281.71 1606.89,1281.71 \"/>\n",
       "<path clip-path=\"url(#clip582)\" d=\"M1627.61 1347.95 L1627.61 1486.45 L1648.33 1486.45 L1648.33 1347.95 L1627.61 1347.95 L1627.61 1347.95  Z\" fill=\"#009af9\" fill-rule=\"evenodd\" fill-opacity=\"0.8\"/>\n",
       "<polyline clip-path=\"url(#clip582)\" style=\"stroke:#000000; stroke-linecap:round; stroke-linejoin:round; stroke-width:4; stroke-opacity:0.8; fill:none\" points=\"1627.61,1347.95 1627.61,1486.45 1648.33,1486.45 1648.33,1347.95 1627.61,1347.95 \"/>\n",
       "<path clip-path=\"url(#clip582)\" d=\"M1648.33 1347.95 L1648.33 1486.45 L1669.05 1486.45 L1669.05 1347.95 L1648.33 1347.95 L1648.33 1347.95  Z\" fill=\"#009af9\" fill-rule=\"evenodd\" fill-opacity=\"0.8\"/>\n",
       "<polyline clip-path=\"url(#clip582)\" style=\"stroke:#000000; stroke-linecap:round; stroke-linejoin:round; stroke-width:4; stroke-opacity:0.8; fill:none\" points=\"1648.33,1347.95 1648.33,1486.45 1669.05,1486.45 1669.05,1347.95 1648.33,1347.95 \"/>\n",
       "<path clip-path=\"url(#clip582)\" d=\"M1669.05 1347.95 L1669.05 1486.45 L1689.76 1486.45 L1689.76 1347.95 L1669.05 1347.95 L1669.05 1347.95  Z\" fill=\"#009af9\" fill-rule=\"evenodd\" fill-opacity=\"0.8\"/>\n",
       "<polyline clip-path=\"url(#clip582)\" style=\"stroke:#000000; stroke-linecap:round; stroke-linejoin:round; stroke-width:4; stroke-opacity:0.8; fill:none\" points=\"1669.05,1347.95 1669.05,1486.45 1689.76,1486.45 1689.76,1347.95 1669.05,1347.95 \"/>\n",
       "<path clip-path=\"url(#clip582)\" d=\"M1689.76 1353.97 L1689.76 1486.45 L1710.48 1486.45 L1710.48 1353.97 L1689.76 1353.97 L1689.76 1353.97  Z\" fill=\"#009af9\" fill-rule=\"evenodd\" fill-opacity=\"0.8\"/>\n",
       "<polyline clip-path=\"url(#clip582)\" style=\"stroke:#000000; stroke-linecap:round; stroke-linejoin:round; stroke-width:4; stroke-opacity:0.8; fill:none\" points=\"1689.76,1353.97 1689.76,1486.45 1710.48,1486.45 1710.48,1353.97 1689.76,1353.97 \"/>\n",
       "<path clip-path=\"url(#clip582)\" d=\"M1710.48 1444.3 L1710.48 1486.45 L1731.2 1486.45 L1731.2 1444.3 L1710.48 1444.3 L1710.48 1444.3  Z\" fill=\"#009af9\" fill-rule=\"evenodd\" fill-opacity=\"0.8\"/>\n",
       "<polyline clip-path=\"url(#clip582)\" style=\"stroke:#000000; stroke-linecap:round; stroke-linejoin:round; stroke-width:4; stroke-opacity:0.8; fill:none\" points=\"1710.48,1444.3 1710.48,1486.45 1731.2,1486.45 1731.2,1444.3 1710.48,1444.3 \"/>\n",
       "<path clip-path=\"url(#clip582)\" d=\"M1731.2 1426.23 L1731.2 1486.45 L1751.92 1486.45 L1751.92 1426.23 L1731.2 1426.23 L1731.2 1426.23  Z\" fill=\"#009af9\" fill-rule=\"evenodd\" fill-opacity=\"0.8\"/>\n",
       "<polyline clip-path=\"url(#clip582)\" style=\"stroke:#000000; stroke-linecap:round; stroke-linejoin:round; stroke-width:4; stroke-opacity:0.8; fill:none\" points=\"1731.2,1426.23 1731.2,1486.45 1751.92,1486.45 1751.92,1426.23 1731.2,1426.23 \"/>\n",
       "<path clip-path=\"url(#clip582)\" d=\"M1751.92 1420.21 L1751.92 1486.45 L1772.64 1486.45 L1772.64 1420.21 L1751.92 1420.21 L1751.92 1420.21  Z\" fill=\"#009af9\" fill-rule=\"evenodd\" fill-opacity=\"0.8\"/>\n",
       "<polyline clip-path=\"url(#clip582)\" style=\"stroke:#000000; stroke-linecap:round; stroke-linejoin:round; stroke-width:4; stroke-opacity:0.8; fill:none\" points=\"1751.92,1420.21 1751.92,1486.45 1772.64,1486.45 1772.64,1420.21 1751.92,1420.21 \"/>\n",
       "<path clip-path=\"url(#clip582)\" d=\"M1772.64 1444.3 L1772.64 1486.45 L1793.36 1486.45 L1793.36 1444.3 L1772.64 1444.3 L1772.64 1444.3  Z\" fill=\"#009af9\" fill-rule=\"evenodd\" fill-opacity=\"0.8\"/>\n",
       "<polyline clip-path=\"url(#clip582)\" style=\"stroke:#000000; stroke-linecap:round; stroke-linejoin:round; stroke-width:4; stroke-opacity:0.8; fill:none\" points=\"1772.64,1444.3 1772.64,1486.45 1793.36,1486.45 1793.36,1444.3 1772.64,1444.3 \"/>\n",
       "<path clip-path=\"url(#clip582)\" d=\"M1793.36 1450.32 L1793.36 1486.45 L1814.08 1486.45 L1814.08 1450.32 L1793.36 1450.32 L1793.36 1450.32  Z\" fill=\"#009af9\" fill-rule=\"evenodd\" fill-opacity=\"0.8\"/>\n",
       "<polyline clip-path=\"url(#clip582)\" style=\"stroke:#000000; stroke-linecap:round; stroke-linejoin:round; stroke-width:4; stroke-opacity:0.8; fill:none\" points=\"1793.36,1450.32 1793.36,1486.45 1814.08,1486.45 1814.08,1450.32 1793.36,1450.32 \"/>\n",
       "<path clip-path=\"url(#clip582)\" d=\"M1814.08 1438.27 L1814.08 1486.45 L1834.79 1486.45 L1834.79 1438.27 L1814.08 1438.27 L1814.08 1438.27  Z\" fill=\"#009af9\" fill-rule=\"evenodd\" fill-opacity=\"0.8\"/>\n",
       "<polyline clip-path=\"url(#clip582)\" style=\"stroke:#000000; stroke-linecap:round; stroke-linejoin:round; stroke-width:4; stroke-opacity:0.8; fill:none\" points=\"1814.08,1438.27 1814.08,1486.45 1834.79,1486.45 1834.79,1438.27 1814.08,1438.27 \"/>\n",
       "<path clip-path=\"url(#clip582)\" d=\"M1834.79 1468.38 L1834.79 1486.45 L1855.51 1486.45 L1855.51 1468.38 L1834.79 1468.38 L1834.79 1468.38  Z\" fill=\"#009af9\" fill-rule=\"evenodd\" fill-opacity=\"0.8\"/>\n",
       "<polyline clip-path=\"url(#clip582)\" style=\"stroke:#000000; stroke-linecap:round; stroke-linejoin:round; stroke-width:4; stroke-opacity:0.8; fill:none\" points=\"1834.79,1468.38 1834.79,1486.45 1855.51,1486.45 1855.51,1468.38 1834.79,1468.38 \"/>\n",
       "<path clip-path=\"url(#clip582)\" d=\"M1855.51 1474.4 L1855.51 1486.45 L1876.23 1486.45 L1876.23 1474.4 L1855.51 1474.4 L1855.51 1474.4  Z\" fill=\"#009af9\" fill-rule=\"evenodd\" fill-opacity=\"0.8\"/>\n",
       "<polyline clip-path=\"url(#clip582)\" style=\"stroke:#000000; stroke-linecap:round; stroke-linejoin:round; stroke-width:4; stroke-opacity:0.8; fill:none\" points=\"1855.51,1474.4 1855.51,1486.45 1876.23,1486.45 1876.23,1474.4 1855.51,1474.4 \"/>\n",
       "<path clip-path=\"url(#clip582)\" d=\"M1876.23 1456.34 L1876.23 1486.45 L1896.95 1486.45 L1896.95 1456.34 L1876.23 1456.34 L1876.23 1456.34  Z\" fill=\"#009af9\" fill-rule=\"evenodd\" fill-opacity=\"0.8\"/>\n",
       "<polyline clip-path=\"url(#clip582)\" style=\"stroke:#000000; stroke-linecap:round; stroke-linejoin:round; stroke-width:4; stroke-opacity:0.8; fill:none\" points=\"1876.23,1456.34 1876.23,1486.45 1896.95,1486.45 1896.95,1456.34 1876.23,1456.34 \"/>\n",
       "<path clip-path=\"url(#clip582)\" d=\"M1896.95 1486.45 L1896.95 1486.45 L1917.67 1486.45 L1917.67 1486.45 L1896.95 1486.45 L1896.95 1486.45  Z\" fill=\"#009af9\" fill-rule=\"evenodd\" fill-opacity=\"0.8\"/>\n",
       "<polyline clip-path=\"url(#clip582)\" style=\"stroke:#000000; stroke-linecap:round; stroke-linejoin:round; stroke-width:4; stroke-opacity:0.8; fill:none\" points=\"1896.95,1486.45 1896.95,1486.45 1917.67,1486.45 1896.95,1486.45 \"/>\n",
       "<path clip-path=\"url(#clip582)\" d=\"M1917.67 1480.43 L1917.67 1486.45 L1938.39 1486.45 L1938.39 1480.43 L1917.67 1480.43 L1917.67 1480.43  Z\" fill=\"#009af9\" fill-rule=\"evenodd\" fill-opacity=\"0.8\"/>\n",
       "<polyline clip-path=\"url(#clip582)\" style=\"stroke:#000000; stroke-linecap:round; stroke-linejoin:round; stroke-width:4; stroke-opacity:0.8; fill:none\" points=\"1917.67,1480.43 1917.67,1486.45 1938.39,1486.45 1938.39,1480.43 1917.67,1480.43 \"/>\n",
       "<path clip-path=\"url(#clip582)\" d=\"M1938.39 1486.45 L1938.39 1486.45 L1959.11 1486.45 L1959.11 1486.45 L1938.39 1486.45 L1938.39 1486.45  Z\" fill=\"#009af9\" fill-rule=\"evenodd\" fill-opacity=\"0.8\"/>\n",
       "<polyline clip-path=\"url(#clip582)\" style=\"stroke:#000000; stroke-linecap:round; stroke-linejoin:round; stroke-width:4; stroke-opacity:0.8; fill:none\" points=\"1938.39,1486.45 1938.39,1486.45 1959.11,1486.45 1938.39,1486.45 \"/>\n",
       "<path clip-path=\"url(#clip582)\" d=\"M1959.11 1486.45 L1959.11 1486.45 L1979.82 1486.45 L1979.82 1486.45 L1959.11 1486.45 L1959.11 1486.45  Z\" fill=\"#009af9\" fill-rule=\"evenodd\" fill-opacity=\"0.8\"/>\n",
       "<polyline clip-path=\"url(#clip582)\" style=\"stroke:#000000; stroke-linecap:round; stroke-linejoin:round; stroke-width:4; stroke-opacity:0.8; fill:none\" points=\"1959.11,1486.45 1959.11,1486.45 1979.82,1486.45 1959.11,1486.45 \"/>\n",
       "<path clip-path=\"url(#clip582)\" d=\"M1979.82 1486.45 L1979.82 1486.45 L2000.54 1486.45 L2000.54 1486.45 L1979.82 1486.45 L1979.82 1486.45  Z\" fill=\"#009af9\" fill-rule=\"evenodd\" fill-opacity=\"0.8\"/>\n",
       "<polyline clip-path=\"url(#clip582)\" style=\"stroke:#000000; stroke-linecap:round; stroke-linejoin:round; stroke-width:4; stroke-opacity:0.8; fill:none\" points=\"1979.82,1486.45 1979.82,1486.45 2000.54,1486.45 1979.82,1486.45 \"/>\n",
       "<path clip-path=\"url(#clip582)\" d=\"M2000.54 1480.43 L2000.54 1486.45 L2021.26 1486.45 L2021.26 1480.43 L2000.54 1480.43 L2000.54 1480.43  Z\" fill=\"#009af9\" fill-rule=\"evenodd\" fill-opacity=\"0.8\"/>\n",
       "<polyline clip-path=\"url(#clip582)\" style=\"stroke:#000000; stroke-linecap:round; stroke-linejoin:round; stroke-width:4; stroke-opacity:0.8; fill:none\" points=\"2000.54,1480.43 2000.54,1486.45 2021.26,1486.45 2021.26,1480.43 2000.54,1480.43 \"/>\n",
       "<path clip-path=\"url(#clip582)\" d=\"M2021.26 1486.45 L2021.26 1486.45 L2041.98 1486.45 L2041.98 1486.45 L2021.26 1486.45 L2021.26 1486.45  Z\" fill=\"#009af9\" fill-rule=\"evenodd\" fill-opacity=\"0.8\"/>\n",
       "<polyline clip-path=\"url(#clip582)\" style=\"stroke:#000000; stroke-linecap:round; stroke-linejoin:round; stroke-width:4; stroke-opacity:0.8; fill:none\" points=\"2021.26,1486.45 2021.26,1486.45 2041.98,1486.45 2021.26,1486.45 \"/>\n",
       "<path clip-path=\"url(#clip582)\" d=\"M2041.98 1486.45 L2041.98 1486.45 L2062.7 1486.45 L2062.7 1486.45 L2041.98 1486.45 L2041.98 1486.45  Z\" fill=\"#009af9\" fill-rule=\"evenodd\" fill-opacity=\"0.8\"/>\n",
       "<polyline clip-path=\"url(#clip582)\" style=\"stroke:#000000; stroke-linecap:round; stroke-linejoin:round; stroke-width:4; stroke-opacity:0.8; fill:none\" points=\"2041.98,1486.45 2041.98,1486.45 2062.7,1486.45 2041.98,1486.45 \"/>\n",
       "<path clip-path=\"url(#clip582)\" d=\"M2062.7 1486.45 L2062.7 1486.45 L2083.42 1486.45 L2083.42 1486.45 L2062.7 1486.45 L2062.7 1486.45  Z\" fill=\"#009af9\" fill-rule=\"evenodd\" fill-opacity=\"0.8\"/>\n",
       "<polyline clip-path=\"url(#clip582)\" style=\"stroke:#000000; stroke-linecap:round; stroke-linejoin:round; stroke-width:4; stroke-opacity:0.8; fill:none\" points=\"2062.7,1486.45 2062.7,1486.45 2083.42,1486.45 2062.7,1486.45 \"/>\n",
       "<path clip-path=\"url(#clip582)\" d=\"M2083.42 1480.43 L2083.42 1486.45 L2104.13 1486.45 L2104.13 1480.43 L2083.42 1480.43 L2083.42 1480.43  Z\" fill=\"#009af9\" fill-rule=\"evenodd\" fill-opacity=\"0.8\"/>\n",
       "<polyline clip-path=\"url(#clip582)\" style=\"stroke:#000000; stroke-linecap:round; stroke-linejoin:round; stroke-width:4; stroke-opacity:0.8; fill:none\" points=\"2083.42,1480.43 2083.42,1486.45 2104.13,1486.45 2104.13,1480.43 2083.42,1480.43 \"/>\n",
       "<circle clip-path=\"url(#clip582)\" style=\"fill:#009af9; stroke:none; fill-opacity:0\" cx=\"457.016\" cy=\"1480.43\" r=\"2\"/>\n",
       "<circle clip-path=\"url(#clip582)\" style=\"fill:#009af9; stroke:none; fill-opacity:0\" cx=\"477.734\" cy=\"1486.45\" r=\"2\"/>\n",
       "<circle clip-path=\"url(#clip582)\" style=\"fill:#009af9; stroke:none; fill-opacity:0\" cx=\"498.453\" cy=\"1486.45\" r=\"2\"/>\n",
       "<circle clip-path=\"url(#clip582)\" style=\"fill:#009af9; stroke:none; fill-opacity:0\" cx=\"519.171\" cy=\"1480.43\" r=\"2\"/>\n",
       "<circle clip-path=\"url(#clip582)\" style=\"fill:#009af9; stroke:none; fill-opacity:0\" cx=\"539.89\" cy=\"1486.45\" r=\"2\"/>\n",
       "<circle clip-path=\"url(#clip582)\" style=\"fill:#009af9; stroke:none; fill-opacity:0\" cx=\"560.608\" cy=\"1480.43\" r=\"2\"/>\n",
       "<circle clip-path=\"url(#clip582)\" style=\"fill:#009af9; stroke:none; fill-opacity:0\" cx=\"581.327\" cy=\"1474.4\" r=\"2\"/>\n",
       "<circle clip-path=\"url(#clip582)\" style=\"fill:#009af9; stroke:none; fill-opacity:0\" cx=\"602.045\" cy=\"1486.45\" r=\"2\"/>\n",
       "<circle clip-path=\"url(#clip582)\" style=\"fill:#009af9; stroke:none; fill-opacity:0\" cx=\"622.764\" cy=\"1468.38\" r=\"2\"/>\n",
       "<circle clip-path=\"url(#clip582)\" style=\"fill:#009af9; stroke:none; fill-opacity:0\" cx=\"643.482\" cy=\"1456.34\" r=\"2\"/>\n",
       "<circle clip-path=\"url(#clip582)\" style=\"fill:#009af9; stroke:none; fill-opacity:0\" cx=\"664.201\" cy=\"1486.45\" r=\"2\"/>\n",
       "<circle clip-path=\"url(#clip582)\" style=\"fill:#009af9; stroke:none; fill-opacity:0\" cx=\"684.919\" cy=\"1474.4\" r=\"2\"/>\n",
       "<circle clip-path=\"url(#clip582)\" style=\"fill:#009af9; stroke:none; fill-opacity:0\" cx=\"705.638\" cy=\"1468.38\" r=\"2\"/>\n",
       "<circle clip-path=\"url(#clip582)\" style=\"fill:#009af9; stroke:none; fill-opacity:0\" cx=\"726.356\" cy=\"1426.23\" r=\"2\"/>\n",
       "<circle clip-path=\"url(#clip582)\" style=\"fill:#009af9; stroke:none; fill-opacity:0\" cx=\"747.075\" cy=\"1444.3\" r=\"2\"/>\n",
       "<circle clip-path=\"url(#clip582)\" style=\"fill:#009af9; stroke:none; fill-opacity:0\" cx=\"767.793\" cy=\"1438.27\" r=\"2\"/>\n",
       "<circle clip-path=\"url(#clip582)\" style=\"fill:#009af9; stroke:none; fill-opacity:0\" cx=\"788.512\" cy=\"1353.97\" r=\"2\"/>\n",
       "<circle clip-path=\"url(#clip582)\" style=\"fill:#009af9; stroke:none; fill-opacity:0\" cx=\"809.23\" cy=\"1323.86\" r=\"2\"/>\n",
       "<circle clip-path=\"url(#clip582)\" style=\"fill:#009af9; stroke:none; fill-opacity:0\" cx=\"829.948\" cy=\"1311.82\" r=\"2\"/>\n",
       "<circle clip-path=\"url(#clip582)\" style=\"fill:#009af9; stroke:none; fill-opacity:0\" cx=\"850.667\" cy=\"1317.84\" r=\"2\"/>\n",
       "<circle clip-path=\"url(#clip582)\" style=\"fill:#009af9; stroke:none; fill-opacity:0\" cx=\"871.385\" cy=\"1227.51\" r=\"2\"/>\n",
       "<circle clip-path=\"url(#clip582)\" style=\"fill:#009af9; stroke:none; fill-opacity:0\" cx=\"892.104\" cy=\"1251.6\" r=\"2\"/>\n",
       "<circle clip-path=\"url(#clip582)\" style=\"fill:#009af9; stroke:none; fill-opacity:0\" cx=\"912.822\" cy=\"1251.6\" r=\"2\"/>\n",
       "<circle clip-path=\"url(#clip582)\" style=\"fill:#009af9; stroke:none; fill-opacity:0\" cx=\"933.541\" cy=\"1107.08\" r=\"2\"/>\n",
       "<circle clip-path=\"url(#clip582)\" style=\"fill:#009af9; stroke:none; fill-opacity:0\" cx=\"954.259\" cy=\"1119.12\" r=\"2\"/>\n",
       "<circle clip-path=\"url(#clip582)\" style=\"fill:#009af9; stroke:none; fill-opacity:0\" cx=\"974.978\" cy=\"1010.73\" r=\"2\"/>\n",
       "<circle clip-path=\"url(#clip582)\" style=\"fill:#009af9; stroke:none; fill-opacity:0\" cx=\"995.696\" cy=\"872.227\" r=\"2\"/>\n",
       "<circle clip-path=\"url(#clip582)\" style=\"fill:#009af9; stroke:none; fill-opacity:0\" cx=\"1016.41\" cy=\"866.205\" r=\"2\"/>\n",
       "<circle clip-path=\"url(#clip582)\" style=\"fill:#009af9; stroke:none; fill-opacity:0\" cx=\"1037.13\" cy=\"902.336\" r=\"2\"/>\n",
       "<circle clip-path=\"url(#clip582)\" style=\"fill:#009af9; stroke:none; fill-opacity:0\" cx=\"1057.85\" cy=\"661.465\" r=\"2\"/>\n",
       "<circle clip-path=\"url(#clip582)\" style=\"fill:#009af9; stroke:none; fill-opacity:0\" cx=\"1078.57\" cy=\"781.9\" r=\"2\"/>\n",
       "<circle clip-path=\"url(#clip582)\" style=\"fill:#009af9; stroke:none; fill-opacity:0\" cx=\"1099.29\" cy=\"691.574\" r=\"2\"/>\n",
       "<circle clip-path=\"url(#clip582)\" style=\"fill:#009af9; stroke:none; fill-opacity:0\" cx=\"1120.01\" cy=\"498.877\" r=\"2\"/>\n",
       "<circle clip-path=\"url(#clip582)\" style=\"fill:#009af9; stroke:none; fill-opacity:0\" cx=\"1140.73\" cy=\"450.703\" r=\"2\"/>\n",
       "<circle clip-path=\"url(#clip582)\" style=\"fill:#009af9; stroke:none; fill-opacity:0\" cx=\"1161.44\" cy=\"426.616\" r=\"2\"/>\n",
       "<circle clip-path=\"url(#clip582)\" style=\"fill:#009af9; stroke:none; fill-opacity:0\" cx=\"1182.16\" cy=\"396.507\" r=\"2\"/>\n",
       "<circle clip-path=\"url(#clip582)\" style=\"fill:#009af9; stroke:none; fill-opacity:0\" cx=\"1202.88\" cy=\"384.463\" r=\"2\"/>\n",
       "<circle clip-path=\"url(#clip582)\" style=\"fill:#009af9; stroke:none; fill-opacity:0\" cx=\"1223.6\" cy=\"396.507\" r=\"2\"/>\n",
       "<circle clip-path=\"url(#clip582)\" style=\"fill:#009af9; stroke:none; fill-opacity:0\" cx=\"1244.32\" cy=\"390.485\" r=\"2\"/>\n",
       "<circle clip-path=\"url(#clip582)\" style=\"fill:#009af9; stroke:none; fill-opacity:0\" cx=\"1265.04\" cy=\"384.463\" r=\"2\"/>\n",
       "<circle clip-path=\"url(#clip582)\" style=\"fill:#009af9; stroke:none; fill-opacity:0\" cx=\"1285.75\" cy=\"312.202\" r=\"2\"/>\n",
       "<circle clip-path=\"url(#clip582)\" style=\"fill:#009af9; stroke:none; fill-opacity:0\" cx=\"1306.47\" cy=\"47.2441\" r=\"2\"/>\n",
       "<circle clip-path=\"url(#clip582)\" style=\"fill:#009af9; stroke:none; fill-opacity:0\" cx=\"1327.19\" cy=\"306.18\" r=\"2\"/>\n",
       "<circle clip-path=\"url(#clip582)\" style=\"fill:#009af9; stroke:none; fill-opacity:0\" cx=\"1347.91\" cy=\"264.028\" r=\"2\"/>\n",
       "<circle clip-path=\"url(#clip582)\" style=\"fill:#009af9; stroke:none; fill-opacity:0\" cx=\"1368.63\" cy=\"438.659\" r=\"2\"/>\n",
       "<circle clip-path=\"url(#clip582)\" style=\"fill:#009af9; stroke:none; fill-opacity:0\" cx=\"1389.35\" cy=\"516.942\" r=\"2\"/>\n",
       "<circle clip-path=\"url(#clip582)\" style=\"fill:#009af9; stroke:none; fill-opacity:0\" cx=\"1410.07\" cy=\"498.877\" r=\"2\"/>\n",
       "<circle clip-path=\"url(#clip582)\" style=\"fill:#009af9; stroke:none; fill-opacity:0\" cx=\"1430.78\" cy=\"559.095\" r=\"2\"/>\n",
       "<circle clip-path=\"url(#clip582)\" style=\"fill:#009af9; stroke:none; fill-opacity:0\" cx=\"1451.5\" cy=\"589.204\" r=\"2\"/>\n",
       "<circle clip-path=\"url(#clip582)\" style=\"fill:#009af9; stroke:none; fill-opacity:0\" cx=\"1472.22\" cy=\"703.617\" r=\"2\"/>\n",
       "<circle clip-path=\"url(#clip582)\" style=\"fill:#009af9; stroke:none; fill-opacity:0\" cx=\"1492.94\" cy=\"956.532\" r=\"2\"/>\n",
       "<circle clip-path=\"url(#clip582)\" style=\"fill:#009af9; stroke:none; fill-opacity:0\" cx=\"1513.66\" cy=\"914.379\" r=\"2\"/>\n",
       "<circle clip-path=\"url(#clip582)\" style=\"fill:#009af9; stroke:none; fill-opacity:0\" cx=\"1534.38\" cy=\"974.597\" r=\"2\"/>\n",
       "<circle clip-path=\"url(#clip582)\" style=\"fill:#009af9; stroke:none; fill-opacity:0\" cx=\"1555.09\" cy=\"986.641\" r=\"2\"/>\n",
       "<circle clip-path=\"url(#clip582)\" style=\"fill:#009af9; stroke:none; fill-opacity:0\" cx=\"1575.81\" cy=\"1095.03\" r=\"2\"/>\n",
       "<circle clip-path=\"url(#clip582)\" style=\"fill:#009af9; stroke:none; fill-opacity:0\" cx=\"1596.53\" cy=\"1191.38\" r=\"2\"/>\n",
       "<circle clip-path=\"url(#clip582)\" style=\"fill:#009af9; stroke:none; fill-opacity:0\" cx=\"1617.25\" cy=\"1281.71\" r=\"2\"/>\n",
       "<circle clip-path=\"url(#clip582)\" style=\"fill:#009af9; stroke:none; fill-opacity:0\" cx=\"1637.97\" cy=\"1347.95\" r=\"2\"/>\n",
       "<circle clip-path=\"url(#clip582)\" style=\"fill:#009af9; stroke:none; fill-opacity:0\" cx=\"1658.69\" cy=\"1347.95\" r=\"2\"/>\n",
       "<circle clip-path=\"url(#clip582)\" style=\"fill:#009af9; stroke:none; fill-opacity:0\" cx=\"1679.41\" cy=\"1347.95\" r=\"2\"/>\n",
       "<circle clip-path=\"url(#clip582)\" style=\"fill:#009af9; stroke:none; fill-opacity:0\" cx=\"1700.12\" cy=\"1353.97\" r=\"2\"/>\n",
       "<circle clip-path=\"url(#clip582)\" style=\"fill:#009af9; stroke:none; fill-opacity:0\" cx=\"1720.84\" cy=\"1444.3\" r=\"2\"/>\n",
       "<circle clip-path=\"url(#clip582)\" style=\"fill:#009af9; stroke:none; fill-opacity:0\" cx=\"1741.56\" cy=\"1426.23\" r=\"2\"/>\n",
       "<circle clip-path=\"url(#clip582)\" style=\"fill:#009af9; stroke:none; fill-opacity:0\" cx=\"1762.28\" cy=\"1420.21\" r=\"2\"/>\n",
       "<circle clip-path=\"url(#clip582)\" style=\"fill:#009af9; stroke:none; fill-opacity:0\" cx=\"1783\" cy=\"1444.3\" r=\"2\"/>\n",
       "<circle clip-path=\"url(#clip582)\" style=\"fill:#009af9; stroke:none; fill-opacity:0\" cx=\"1803.72\" cy=\"1450.32\" r=\"2\"/>\n",
       "<circle clip-path=\"url(#clip582)\" style=\"fill:#009af9; stroke:none; fill-opacity:0\" cx=\"1824.43\" cy=\"1438.27\" r=\"2\"/>\n",
       "<circle clip-path=\"url(#clip582)\" style=\"fill:#009af9; stroke:none; fill-opacity:0\" cx=\"1845.15\" cy=\"1468.38\" r=\"2\"/>\n",
       "<circle clip-path=\"url(#clip582)\" style=\"fill:#009af9; stroke:none; fill-opacity:0\" cx=\"1865.87\" cy=\"1474.4\" r=\"2\"/>\n",
       "<circle clip-path=\"url(#clip582)\" style=\"fill:#009af9; stroke:none; fill-opacity:0\" cx=\"1886.59\" cy=\"1456.34\" r=\"2\"/>\n",
       "<circle clip-path=\"url(#clip582)\" style=\"fill:#009af9; stroke:none; fill-opacity:0\" cx=\"1907.31\" cy=\"1486.45\" r=\"2\"/>\n",
       "<circle clip-path=\"url(#clip582)\" style=\"fill:#009af9; stroke:none; fill-opacity:0\" cx=\"1928.03\" cy=\"1480.43\" r=\"2\"/>\n",
       "<circle clip-path=\"url(#clip582)\" style=\"fill:#009af9; stroke:none; fill-opacity:0\" cx=\"1948.75\" cy=\"1486.45\" r=\"2\"/>\n",
       "<circle clip-path=\"url(#clip582)\" style=\"fill:#009af9; stroke:none; fill-opacity:0\" cx=\"1969.46\" cy=\"1486.45\" r=\"2\"/>\n",
       "<circle clip-path=\"url(#clip582)\" style=\"fill:#009af9; stroke:none; fill-opacity:0\" cx=\"1990.18\" cy=\"1486.45\" r=\"2\"/>\n",
       "<circle clip-path=\"url(#clip582)\" style=\"fill:#009af9; stroke:none; fill-opacity:0\" cx=\"2010.9\" cy=\"1480.43\" r=\"2\"/>\n",
       "<circle clip-path=\"url(#clip582)\" style=\"fill:#009af9; stroke:none; fill-opacity:0\" cx=\"2031.62\" cy=\"1486.45\" r=\"2\"/>\n",
       "<circle clip-path=\"url(#clip582)\" style=\"fill:#009af9; stroke:none; fill-opacity:0\" cx=\"2052.34\" cy=\"1486.45\" r=\"2\"/>\n",
       "<circle clip-path=\"url(#clip582)\" style=\"fill:#009af9; stroke:none; fill-opacity:0\" cx=\"2073.06\" cy=\"1486.45\" r=\"2\"/>\n",
       "<circle clip-path=\"url(#clip582)\" style=\"fill:#009af9; stroke:none; fill-opacity:0\" cx=\"2093.78\" cy=\"1480.43\" r=\"2\"/>\n",
       "<polyline clip-path=\"url(#clip582)\" style=\"stroke:#e26f46; stroke-linecap:round; stroke-linejoin:round; stroke-width:20; stroke-opacity:1; fill:none\" points=\"218.754,1486.44 239.472,1486.44 260.191,1486.44 280.909,1486.43 301.628,1486.42 322.346,1486.4 343.064,1486.37 363.783,1486.33 384.501,1486.27 405.22,1486.18 425.938,1486.04 446.657,1485.85 467.375,1485.57 488.094,1485.17 508.812,1484.61 529.531,1483.82 550.249,1482.74 570.968,1481.26 591.686,1479.27 612.405,1476.61 633.123,1473.1 653.841,1468.53 674.56,1462.62 695.278,1455.07 715.997,1445.55 736.715,1433.67 757.434,1419.02 778.152,1401.16 798.871,1379.64 819.589,1354.02 840.308,1323.89 861.026,1288.89 881.745,1248.74 902.463,1203.28 923.182,1152.48 943.9,1096.49 964.619,1035.64 985.337,970.476 1006.06,901.776 1026.77,830.52 1047.49,757.901 1068.21,685.295 1088.93,614.219 1109.65,546.287 1130.37,483.146 1151.08,426.419 1171.8,377.628 1192.52,338.132 1213.24,309.063 1233.96,291.269 1254.68,285.278 1275.4,291.269 1296.11,309.063 1316.83,338.132 1337.55,377.628 1358.27,426.419 1378.99,483.146 1399.71,546.287 1420.42,614.219 1441.14,685.295 1461.86,757.901 1482.58,830.52 1503.3,901.776 1524.02,970.476 1544.74,1035.64 1565.45,1096.49 1586.17,1152.48 1606.89,1203.28 1627.61,1248.74 1648.33,1288.89 1669.05,1323.89 1689.76,1354.02 1710.48,1379.64 1731.2,1401.16 1751.92,1419.02 1772.64,1433.67 1793.36,1445.55 1814.08,1455.07 1834.79,1462.62 1855.51,1468.53 1876.23,1473.1 1896.95,1476.61 1917.67,1479.27 1938.39,1481.26 1959.11,1482.74 1979.82,1483.82 2000.54,1484.61 2021.26,1485.17 2041.98,1485.57 2062.7,1485.85 2083.42,1486.04 2104.13,1486.18 2124.85,1486.27 2145.57,1486.33 2166.29,1486.37 2187.01,1486.4 2207.73,1486.42 2228.45,1486.43 2249.16,1486.44 2269.88,1486.44 2290.6,1486.44 \"/>\n",
       "</svg>\n"
      ]
     },
     "metadata": {},
     "output_type": "display_data"
    }
   ],
   "source": [
    "x = -5:0.1:5\n",
    "plot!(x, 1/sqrt(2*π) .* exp.(-x.^2 ./ 2), linewidth = 5)"
   ]
  },
  {
   "cell_type": "code",
   "execution_count": 64,
   "metadata": {},
   "outputs": [
    {
     "data": {
      "text/plain": [
       "0.01718068789147503"
      ]
     },
     "metadata": {},
     "output_type": "display_data"
    }
   ],
   "source": [
    "mean(Ω)"
   ]
  },
  {
   "cell_type": "code",
   "execution_count": 65,
   "metadata": {},
   "outputs": [
    {
     "data": {
      "text/plain": [
       "0.9853602394567471"
      ]
     },
     "metadata": {},
     "output_type": "display_data"
    }
   ],
   "source": [
    "var(Ω)"
   ]
  }
 ],
 "metadata": {
  "@webio": {
   "lastCommId": null,
   "lastKernelId": null
  },
  "kernelspec": {
   "display_name": "Julia 1.11.4",
   "language": "julia",
   "name": "julia-1.11"
  },
  "language_info": {
   "file_extension": ".jl",
   "mimetype": "application/julia",
   "name": "julia",
   "version": "1.11.4"
  }
 },
 "nbformat": 4,
 "nbformat_minor": 2
}
