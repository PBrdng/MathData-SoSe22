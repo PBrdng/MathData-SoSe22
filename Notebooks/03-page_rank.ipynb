{
 "cells": [
  {
   "cell_type": "code",
   "execution_count": null,
   "metadata": {},
   "outputs": [],
   "source": [
    "using Pkg\n",
    "Pkg.activate(joinpath(dirname(pwd()), \"conf\", \"03-page_rank\"))\n",
    "Pkg.instantiate();"
   ]
  },
  {
   "cell_type": "code",
   "execution_count": null,
   "metadata": {},
   "outputs": [],
   "source": [
    "using Graphs, DataFrames, SparseArrays, LinearAlgebra, Plots, FileIO\n",
    "using GraphPlot, Colors\n",
    "using VegaLite, VegaDatasets"
   ]
  },
  {
   "cell_type": "markdown",
   "metadata": {},
   "source": [
    "This notebook is in part based on [DataScience](https://github.com/JuliaAcademy/DataScience) of the JuliaAcademy by [Huda Nassar](https://github.com/nassarhuda). \n",
    "\n",
    "---\n",
    "---\n",
    "# Data loading"
   ]
  },
  {
   "cell_type": "markdown",
   "metadata": {},
   "source": [
    "We load the `flights-airport` dataset and display the first 8 dataframes"
   ]
  },
  {
   "cell_type": "code",
   "execution_count": null,
   "metadata": {},
   "outputs": [],
   "source": [
    "flights = dataset(\"flights-airport\") |> DataFrame;\n",
    "flights[1:8,:]"
   ]
  },
  {
   "cell_type": "markdown",
   "metadata": {},
   "source": [
    "All airport IDs are then extracted into the array `airports`."
   ]
  },
  {
   "cell_type": "code",
   "execution_count": null,
   "metadata": {},
   "outputs": [],
   "source": [
    "list_airports = vcat(flights[:,:origin],flights[:,:destination])\n",
    "airports = unique(list_airports)\n",
    "airports[1:5]\n",
    "length(airports)"
   ]
  },
  {
   "cell_type": "markdown",
   "metadata": {},
   "source": [
    "---\n",
    "---\n",
    "# Graph definition\n",
    "\n",
    "We use the adjacency matrix $A$ to define the graph of airports."
   ]
  },
  {
   "cell_type": "code",
   "execution_count": null,
   "metadata": {},
   "outputs": [],
   "source": [
    "# build the adjacency matrix\n",
    "n = length(airports)\n",
    "A = spzeros(n,n)\n",
    "for k = 1:size(flights, 1)\n",
    "    i = findfirst(airports .== flights[k,:origin])\n",
    "    j = findfirst(airports .== flights[k,:destination])\n",
    "    A[i,j] = 1\n",
    "end\n",
    "A = max.(A,A')"
   ]
  },
  {
   "cell_type": "code",
   "execution_count": null,
   "metadata": {},
   "outputs": [],
   "source": [
    "G = Graph(A)"
   ]
  },
  {
   "cell_type": "markdown",
   "metadata": {},
   "source": [
    "---\n",
    "---\n",
    "# Visualisation of the abstract graph"
   ]
  },
  {
   "cell_type": "code",
   "execution_count": null,
   "metadata": {},
   "outputs": [],
   "source": [
    "layout= x -> spring_layout(x; C=5)\n",
    "gplot(G, layout = layout,\n",
    "        nodefillc = colorant\"steelblue\",\n",
    "        linetype=\"curve\"\n",
    ")"
   ]
  },
  {
   "cell_type": "markdown",
   "metadata": {},
   "source": [
    "It seems like the distribution of the degrees of the nodes is not uniform. The following plot affirms this."
   ]
  },
  {
   "cell_type": "code",
   "execution_count": null,
   "metadata": {},
   "outputs": [],
   "source": [
    "degrees = degree(G)\n",
    "p1 = plot(sort(degrees,rev=true), ylabel=\"log degree\", legend=false, yaxis=:log, title=\"Grad Verteilung\")\n",
    "p2 = plot(sort(degrees,rev=true), ylabel=\"degree\", legend=false)\n",
    "plot(p1, p2, size=(600,200))"
   ]
  },
  {
   "cell_type": "markdown",
   "metadata": {},
   "source": [
    "---\n",
    "---\n",
    "# Visualisation of the graph using geographical coordinates\n",
    "We are gonna enrich the visualisation of the graph $G$ by pinning the nodes to their geographical coordinates in $\\mathbb{R}^2$.\n",
    "\n",
    "First we are gonna load the airport locations."
   ]
  },
  {
   "cell_type": "code",
   "execution_count": null,
   "metadata": {},
   "outputs": [],
   "source": [
    "all_locations = dataset(\"airports\") |> DataFrame\n",
    "k = [id in airports for id in all_locations[:,:iata]]\n",
    "locations = all_locations[k,:]\n",
    "locations[1:5,:]"
   ]
  },
  {
   "cell_type": "markdown",
   "metadata": {},
   "source": [
    "Using the `VegaLite` package we are now visualising the graph:"
   ]
  },
  {
   "cell_type": "code",
   "execution_count": null,
   "metadata": {
    "scrolled": true
   },
   "outputs": [],
   "source": [
    "us10m = dataset(\"us-10m\")\n",
    "P1 = @vlplot(width=800, height=500) +\n",
    "@vlplot(\n",
    "    mark={:geoshape, fill=:white, stroke=:lightgray},\n",
    "    data={values=us10m, format={type=:topojson,feature=:states}},\n",
    "    projection={type=:albersUsa}) +\n",
    "@vlplot(\n",
    "    :circle,\n",
    "    data=locations, projection={type=:albersUsa}, \n",
    "    longitude=\"longitude:q\", latitude=\"latitude:q\", \n",
    "    size={value=40}, color={value=:steelblue})+\n",
    "@vlplot(\n",
    "    mark={:rule, strokeWidth = 0.005,  opacity=0.1, color = \"grey\"},\n",
    "    data=flights, \n",
    "         transform=[\n",
    "                {lookup=:origin, \n",
    "                 from={data=locations, key=:iata, fields=[\"latitude\", \"longitude\"]},\n",
    "                 as=[\"origin_latitude\", \"origin_longitude\"]},\n",
    "                {lookup=:destination,\n",
    "                 from={data=locations, key=:iata, fields=[\"latitude\", \"longitude\"]},\n",
    "                 as=[\"dest_latitude\", \"dest_longitude\"]}],\n",
    "        projection={type=:albersUsa},\n",
    "        longitude=\"origin_longitude:q\", latitude=\"origin_latitude:q\",\n",
    "        longitude2=\"dest_longitude:q\", latitude2=\"dest_latitude:q\")"
   ]
  },
  {
   "cell_type": "markdown",
   "metadata": {},
   "source": [
    "---\n",
    "---\n",
    "# PageRank calculation\n",
    "\n",
    "We are now gonna calculate the PageRank of each node (=airport) in the graph $G=(V,E)$.\n",
    "\n",
    "The PageRank distribution is given by the eigenvector to eigenvalue 1 of the matrix\n",
    "$$ P = (p_{u,v})\\in \\mathbb R^{\\vert V\\vert \\times \\vert V\\vert} , \\quad p_{u,v}=\\begin{cases} 1/\\mathrm{deg}(v), & \\{u,v\\}\\in E\\\\ 0, &\\text{else}\\end{cases}.\n",
    "$$\n",
    "\n",
    "First we define the matrix."
   ]
  },
  {
   "cell_type": "code",
   "execution_count": null,
   "metadata": {},
   "outputs": [],
   "source": [
    "P = zeros(n, n);\n",
    "for u in 1:n\n",
    "    for v in 1:n\n",
    "        if A[u,v] == 1\n",
    "            P[u,v] = 1/degrees[v]\n",
    "        end\n",
    "    end\n",
    "end"
   ]
  },
  {
   "cell_type": "markdown",
   "metadata": {},
   "source": [
    "Now we can calculate their eigenvalues and eigenvectors."
   ]
  },
  {
   "cell_type": "code",
   "execution_count": null,
   "metadata": {},
   "outputs": [],
   "source": [
    "E = eigen(P)\n",
    "E.values[end-2:end]"
   ]
  },
  {
   "cell_type": "markdown",
   "metadata": {},
   "source": [
    "The last column of `E.vector` contains the eigenvector to eigenvalue 1."
   ]
  },
  {
   "cell_type": "code",
   "execution_count": null,
   "metadata": {},
   "outputs": [],
   "source": [
    "f = real.(E.vectors[:,end])\n",
    "# test:\n",
    "norm(P*f-f)"
   ]
  },
  {
   "cell_type": "markdown",
   "metadata": {},
   "source": [
    "We are gonna create a new `DataFrame` for the PageRank"
   ]
  },
  {
   "cell_type": "code",
   "execution_count": null,
   "metadata": {},
   "outputs": [],
   "source": [
    "PageRank =  DataFrame(airport = locations[:,:name], \n",
    "                      city = locations[:,:city],  \n",
    "                      rank = f ./ sum(f),\n",
    "                      longitude = locations[:,:longitude],\n",
    "                      latitude = locations[:,:latitude]\n",
    ")\n",
    "PageRank[1:5,:]"
   ]
  },
  {
   "cell_type": "markdown",
   "metadata": {},
   "source": [
    "Let's have a look at the 5 airports with largest PageRank value"
   ]
  },
  {
   "cell_type": "code",
   "execution_count": null,
   "metadata": {},
   "outputs": [],
   "source": [
    "PageRank_sorted = sort(PageRank,[:rank],rev=true)\n",
    "PageRank_sorted[1:5,:]"
   ]
  },
  {
   "cell_type": "markdown",
   "metadata": {},
   "source": [
    "---\n",
    "---\n",
    "# Visualisation of PageRank\n",
    "\n",
    "\n",
    "Additionally to previous visualisations we can further enrich the data by scaling the nodes in the visualisation with respect to their PageRank. Large node = large PageRank value"
   ]
  },
  {
   "cell_type": "code",
   "execution_count": null,
   "metadata": {},
   "outputs": [],
   "source": [
    "layout= x -> spring_layout(x; C=20)\n",
    "gplot(G, layout = layout,\n",
    "        nodefillc = colorant\"steelblue\",\n",
    "        linetype = \"curve\",\n",
    "        nodesize = PageRank[:,:rank]\n",
    ")"
   ]
  },
  {
   "cell_type": "markdown",
   "metadata": {},
   "source": [
    "Most of the total PageRank value is concentrated onto some airports."
   ]
  },
  {
   "cell_type": "code",
   "execution_count": null,
   "metadata": {},
   "outputs": [],
   "source": [
    "p1 = plot(PageRank_sorted[:,:rank], ylabel=\"log degree\", legend=false, yaxis=:log, title=\"PageRank Verteilung\")\n",
    "p2 = plot(PageRank_sorted[:,:rank], ylabel=\"degree\", legend=false)\n",
    "plot(p1, p2, size=(600,200))"
   ]
  },
  {
   "cell_type": "markdown",
   "metadata": {},
   "source": [
    "We are gonna combine the geographical location and the PageRank value into one visualisation."
   ]
  },
  {
   "cell_type": "code",
   "execution_count": null,
   "metadata": {},
   "outputs": [],
   "source": [
    "P2 = @vlplot(width=800, height=500) +\n",
    "@vlplot(\n",
    "    mark={:geoshape, fill=:white, stroke=:lightgray},\n",
    "    data={values=us10m, format={type=:topojson,feature=:states}},\n",
    "    projection={type=:albersUsa}) +\n",
    "@vlplot(\n",
    "    :circle,\n",
    "    data=PageRank, projection={type=:albersUsa}, \n",
    "    longitude=\"longitude:q\", latitude=\"latitude:q\", \n",
    "    size=\"rank\", color={value=:steelblue})"
   ]
  },
  {
   "cell_type": "markdown",
   "metadata": {},
   "source": [
    "---\n",
    "---\n",
    "# Markov Processes\n",
    "Now we want to approximate PageRank using Markov Processes. Let's sample a random airport $X$ and go from there:"
   ]
  },
  {
   "cell_type": "code",
   "execution_count": null,
   "metadata": {},
   "outputs": [],
   "source": [
    "X = rand(1:n)\n",
    "locations[X,:name]"
   ]
  },
  {
   "cell_type": "markdown",
   "metadata": {},
   "source": [
    "The column P_{-, X} is the distribution giving us the probablity of goging from $X$ to $Y$ as value $P_{Y, X}$."
   ]
  },
  {
   "cell_type": "code",
   "execution_count": null,
   "metadata": {},
   "outputs": [],
   "source": [
    "sum(P[:,X])"
   ]
  },
  {
   "cell_type": "code",
   "execution_count": null,
   "metadata": {},
   "outputs": [],
   "source": [
    "function step(X, P)\n",
    "    F = cumsum(P[:,X])\n",
    "    r = rand()\n",
    "    findfirst(F .> r)\n",
    "end"
   ]
  },
  {
   "cell_type": "markdown",
   "metadata": {},
   "source": [
    "The following cell simulates 10 steps of this random walk."
   ]
  },
  {
   "cell_type": "code",
   "execution_count": null,
   "metadata": {},
   "outputs": [],
   "source": [
    "ℓ = 10\n",
    "walk = zeros(Int, ℓ)\n",
    "walk[1] = X\n",
    "for i in 2:ℓ\n",
    "    walk[i] = step(walk[i-1], P)\n",
    "end\n",
    "locations[walk, :name]"
   ]
  },
  {
   "cell_type": "markdown",
   "metadata": {},
   "source": [
    "A random walk with $\\ell$ steps induces a distribution on the nodes of $G$. The function `sample` draws a random starting node and then simulates $\\ell-1$ steps and stops at a node that is then returned as a sample of said distribution. In total $\\ell$ nodes have been sampled from the distribution with $\\ell -1$ samples being discarded - this is a sort of \"warmup\" of the algorithm."
   ]
  },
  {
   "cell_type": "code",
   "execution_count": null,
   "metadata": {},
   "outputs": [],
   "source": [
    "function sample(ℓ, P)\n",
    "    X = rand(1:n)\n",
    "    for i in 2:ℓ\n",
    "        X = step(X, P)\n",
    "    end\n",
    "   X\n",
    "end"
   ]
  },
  {
   "cell_type": "markdown",
   "metadata": {},
   "source": [
    "Now lets sample with $\\ell = 1000$ to get a random airport like this:"
   ]
  },
  {
   "cell_type": "code",
   "execution_count": null,
   "metadata": {},
   "outputs": [],
   "source": [
    "X = sample(1000, P)\n",
    "locations[X, :name]"
   ]
  },
  {
   "cell_type": "markdown",
   "metadata": {},
   "source": [
    "Finally this gives us a methode to approximatley draw from the PageRank distribution without explicitly calculating the eigenvalues!"
   ]
  },
  {
   "cell_type": "code",
   "execution_count": null,
   "metadata": {},
   "outputs": [],
   "source": [
    "Ω = [sample(20, P) for _ in 1:1e4];\n",
    "p = [count(Ω .== i) for i in 1:n]\n",
    "PageRankApprox =  DataFrame(airport = locations[:, :name], \n",
    "                      city = locations[:, :city],  \n",
    "                      rank =  p./sum(p),\n",
    "                      longitude = locations[:, :longitude] .+ 0.5, #zur Visualisuerung\n",
    "                      latitude = locations[:, :latitude] .+ 0.5\n",
    ")\n",
    "PageRankApprox[1:5,:]"
   ]
  },
  {
   "cell_type": "markdown",
   "metadata": {},
   "source": [
    "Let's visualise the approximation: PageRank = blue, approximation = brown"
   ]
  },
  {
   "cell_type": "code",
   "execution_count": null,
   "metadata": {},
   "outputs": [],
   "source": [
    "@vlplot(width=800, height=500) +\n",
    "@vlplot(\n",
    "    mark={:geoshape, fill=:white, stroke=:lightgray},\n",
    "    data={values=us10m, format={type=:topojson,feature=:states}},\n",
    "    projection={type=:albersUsa}) +\n",
    "@vlplot(\n",
    "    :circle,\n",
    "    data=PageRankApprox, projection={type=:albersUsa}, \n",
    "    longitude=\"longitude:q\", latitude=\"latitude:q\", \n",
    "    size=\"rank\", color={value=:tan}) +\n",
    "@vlplot(\n",
    "    :circle,\n",
    "    data=PageRank, projection={type=:albersUsa}, \n",
    "    longitude=\"longitude:q\", latitude=\"latitude:q\", \n",
    "    size=\"rank\", color={value=:steelblue})"
   ]
  },
  {
   "cell_type": "markdown",
   "metadata": {},
   "source": [
    "Finally, we plot Page-Rank against the approximated Page-Rank."
   ]
  },
  {
   "cell_type": "code",
   "execution_count": null,
   "metadata": {},
   "outputs": [],
   "source": [
    "plot(sort(PageRankApprox[:,\"rank\"]), \n",
    "                    linewidth = 4, \n",
    "                    color = :tan,\n",
    "                    label = \"Approximation of Page-Rank by Markov process\",\n",
    "                    legend = :left,\n",
    "                    xlabel = \"vertices\",\n",
    "                    ylabel = \"centrality measure\")\n",
    "plot!(sort(PageRank[:,\"rank\"]), \n",
    "                    linewidth = 4, \n",
    "                    color = :steelblue,\n",
    "                    label = \"Page-Rank\",\n",
    "                    linestyle = :dash)"
   ]
  },
  {
   "cell_type": "markdown",
   "metadata": {},
   "source": [
    "---\n",
    "# Metropolis-Hastings\n",
    "\n",
    "Let $u\\in V$ be an airport then $f(u)$ is the number of connections from and to the airport.\n"
   ]
  },
  {
   "cell_type": "code",
   "execution_count": null,
   "metadata": {},
   "outputs": [],
   "source": [
    "f = zeros(n)\n",
    "for k = 1:n\n",
    "    i = findall(flights[:,:origin] .== airports[k])\n",
    "    f[k] += sum(flights[i, :count])\n",
    "    j = findall(flights[:,:destination] .== airports[k])\n",
    "    f[k] += sum(flights[j, :count])\n",
    "end\n",
    "plot(sort(f), label = \"f\", lw = 3, size = (600,300))"
   ]
  },
  {
   "cell_type": "markdown",
   "metadata": {},
   "source": [
    "We want to use Metropolis-Hastings to sample from\n",
    "$$\\pi(u) = \\frac{f(u)}{\\sum_{v\\in V} f(v)},\\quad v\\in V$$\n",
    "\n",
    "We define the transition matrix `Q` as\n",
    "\n",
    "$$q_{uv}=\n",
    "\\begin{cases}\n",
    "\\tfrac{1}{d}\\min\\{1, \\tfrac{\\pi(u)}{\\pi(v)}\\}, &\\text{ if } u\\neq v\\text{ and }\\{u,v\\}\\in E\\\\\n",
    "0, &\\text{ if } u\\neq v\\text{ and } \\{u,v\\}\\not\\in E\\\\\n",
    "1- \\sum_{i\\neq v} q_{iv}, &\\text{ if } u=v.\n",
    "\\end{cases}$$\n",
    "\n",
    "with $d>\\max_{v\\in V}\\mathrm{deg}(v)$."
   ]
  },
  {
   "cell_type": "code",
   "execution_count": null,
   "metadata": {},
   "outputs": [],
   "source": [
    "d = maximum(degrees)+1\n",
    "Q = (1/d) .* [A[u,v] .* min(1, f[u]/f[v]) for (u,v) in Iterators.product(1:n,1:n)]\n",
    "Q = Q + diagm(ones(n) - Q' * ones(n));"
   ]
  },
  {
   "cell_type": "markdown",
   "metadata": {},
   "source": [
    "We can start algorithm now by using 2000 steps and 1000 samples."
   ]
  },
  {
   "cell_type": "code",
   "execution_count": null,
   "metadata": {},
   "outputs": [],
   "source": [
    "Ω₂ = [sample(2000, Q) for _ in 1:1e3];\n",
    "q = [count(Ω₂  .== i) for i in 1:n]\n",
    "Count = DataFrame(airport = locations[:, :name], \n",
    "                      city = locations[:, :city],  \n",
    "                      rank =  q./sum(q),\n",
    "                      longitude = locations[:, :longitude],\n",
    "                      latitude = locations[:, :latitude])\n",
    "Count[1:5,:]"
   ]
  },
  {
   "cell_type": "code",
   "execution_count": null,
   "metadata": {},
   "outputs": [],
   "source": [
    "histogram(Count[:, :rank], label = \"Count\", lw = 3, size = (600,300))"
   ]
  },
  {
   "cell_type": "code",
   "execution_count": null,
   "metadata": {},
   "outputs": [],
   "source": [
    "@vlplot(width=800, height=500) +\n",
    "@vlplot(\n",
    "    mark={:geoshape, fill=:white, stroke=:lightgray},\n",
    "    data={values=us10m, format={type=:topojson,feature=:states}},\n",
    "    projection={type=:albersUsa}) +\n",
    "@vlplot(\n",
    "    :circle,\n",
    "    data=Count, projection={type=:albersUsa}, \n",
    "    longitude=\"longitude:q\", latitude=\"latitude:q\", \n",
    "    size=\"rank\", color={value=:indianred})"
   ]
  }
 ],
 "metadata": {
  "@webio": {
   "lastCommId": null,
   "lastKernelId": null
  },
  "kernelspec": {
   "display_name": "Julia 1.11.4",
   "language": "julia",
   "name": "julia-1.11"
  },
  "language_info": {
   "file_extension": ".jl",
   "mimetype": "application/julia",
   "name": "julia",
   "version": "1.11.4"
  }
 },
 "nbformat": 4,
 "nbformat_minor": 2
}
