{
 "cells": [
  {
   "cell_type": "code",
   "execution_count": null,
   "metadata": {},
   "outputs": [],
   "source": [
    "using Pkg\n",
    "Pkg.activate(\"NB03\")\n",
    "Pkg.resolve()"
   ]
  },
  {
   "cell_type": "code",
   "execution_count": null,
   "metadata": {},
   "outputs": [],
   "source": [
    "using Graphs, DataFrames, SparseArrays, LinearAlgebra, Plots\n",
    "using GraphPlot, Colors\n",
    "using VegaLite, VegaDatasets"
   ]
  },
  {
   "cell_type": "markdown",
   "metadata": {},
   "source": [
    "Dieses Notebook basiert zu Teilen auf dem Kurs [DataScience](https://github.com/JuliaAcademy/DataScience) der JuliaAcademy von [Huda Nassar](https://github.com/nassarhuda). \n",
    "\n",
    "---\n",
    "---\n",
    "# Laden der Daten"
   ]
  },
  {
   "cell_type": "markdown",
   "metadata": {},
   "source": [
    "Wir laden den `flights-airport` Datensatz:"
   ]
  },
  {
   "cell_type": "code",
   "execution_count": null,
   "metadata": {},
   "outputs": [],
   "source": [
    "flights = dataset(\"flights-airport\") |> DataFrame;"
   ]
  },
  {
   "cell_type": "markdown",
   "metadata": {},
   "source": [
    "Die ersten 8 Zeilen dieses `DataFrames` sind wie folgt:"
   ]
  },
  {
   "cell_type": "code",
   "execution_count": null,
   "metadata": {},
   "outputs": [],
   "source": [
    "flights[1:8,:]"
   ]
  },
  {
   "cell_type": "markdown",
   "metadata": {},
   "source": [
    "Wir extrahieren die IDs der Flughäfen in einem Array `airports`."
   ]
  },
  {
   "cell_type": "code",
   "execution_count": null,
   "metadata": {},
   "outputs": [],
   "source": [
    "list_airports = vcat(flights[:,:origin],flights[:,:destination])\n",
    "airports = unique(list_airports)\n",
    "airports[1:5]"
   ]
  },
  {
   "cell_type": "markdown",
   "metadata": {},
   "source": [
    "---\n",
    "---\n",
    "# Definition des Graphen\n",
    "\n",
    "Als nächstes berechnen wir die Adjanzenzmatrix `A`."
   ]
  },
  {
   "cell_type": "code",
   "execution_count": null,
   "metadata": {},
   "outputs": [],
   "source": [
    "# build the adjacency matrix\n",
    "n = length(airports)\n",
    "A = spzeros(n,n)\n",
    "for k = 1:size(flights, 1)\n",
    "    i = findfirst(airports .== flights[k,:origin])\n",
    "    j = findfirst(airports .== flights[k,:destination])\n",
    "    A[i,j] = 1\n",
    "end\n",
    "A = max.(A,A')"
   ]
  },
  {
   "cell_type": "markdown",
   "metadata": {},
   "source": [
    "Der Graph `G` wird durch Angabe von `A` definiert."
   ]
  },
  {
   "cell_type": "code",
   "execution_count": null,
   "metadata": {},
   "outputs": [],
   "source": [
    "G = Graph(A)"
   ]
  },
  {
   "cell_type": "markdown",
   "metadata": {},
   "source": [
    "---\n",
    "---\n",
    "# Visualisierung"
   ]
  },
  {
   "cell_type": "markdown",
   "metadata": {},
   "source": [
    "Wir schauen uns eine Visualisierung des Graphen an."
   ]
  },
  {
   "cell_type": "code",
   "execution_count": null,
   "metadata": {},
   "outputs": [],
   "source": [
    "layout= x -> spring_layout(x; C=20)\n",
    "gplot(G, layout = layout,\n",
    "        nodefillc = colorant\"steelblue\",\n",
    "        linetype=\"curve\"\n",
    ")"
   ]
  },
  {
   "cell_type": "markdown",
   "metadata": {},
   "source": [
    "Es scheint als wäre die Verteilung der Grade der blauen Knoten nicht gleichmäßig. Dies wird durch die folgendens Plots bestätigt."
   ]
  },
  {
   "cell_type": "code",
   "execution_count": null,
   "metadata": {},
   "outputs": [],
   "source": [
    "degrees = degree(G)\n",
    "p1 = plot(sort(degrees,rev=true), ylabel=\"log degree\", legend=false, yaxis=:log, title=\"Grad Verteilung\")\n",
    "p2 = plot(sort(degrees,rev=true), ylabel=\"degree\", legend=false)\n",
    "plot(p1, p2, size=(600,200))"
   ]
  },
  {
   "cell_type": "markdown",
   "metadata": {},
   "source": [
    "---\n",
    "---\n",
    "# Geographische Visualisierung\n",
    "\n",
    "Die erste Visualisierung hat `G` als Graphen ohne weitere Struktur verstanden. \n",
    "\n",
    "Die Knoten in `G` können mit Koordinaten in $\\mathbb R^2$ identifiziert werden. \n",
    "\n",
    "Diese zusätzlich Struktur können wir visuell darstellen.\n",
    "\n",
    "Zunächst laden wir einen Datensatz, der Längen- und Breitengrade der Flughäfen bereit stellt."
   ]
  },
  {
   "cell_type": "code",
   "execution_count": null,
   "metadata": {},
   "outputs": [],
   "source": [
    "all_locations = dataset(\"airports\") |> DataFrame\n",
    "k = [id in airports for id in all_locations[:,:iata]]\n",
    "locations = all_locations[k,:]\n",
    "locations[1:5,:]"
   ]
  },
  {
   "cell_type": "markdown",
   "metadata": {},
   "source": [
    "Mit Hilfe des `VegaLite` Packages können wir dann den Graphen visualisieren:"
   ]
  },
  {
   "cell_type": "code",
   "execution_count": null,
   "metadata": {},
   "outputs": [],
   "source": [
    "us10m = dataset(\"us-10m\")\n",
    "@vlplot(width=800, height=500) +\n",
    "@vlplot(\n",
    "    mark={:geoshape, fill=:lightgray, stroke=:white},\n",
    "    data={values=us10m, format={type=:topojson,feature=:states}},\n",
    "    projection={type=:albersUsa}) +\n",
    "@vlplot(\n",
    "    :circle,\n",
    "    data=locations, projection={type=:albersUsa}, \n",
    "    longitude=\"longitude:q\", latitude=\"latitude:q\", \n",
    "    size={value=40}, color={value=:steelblue})+\n",
    "@vlplot(\n",
    "    mark={:rule, strokeWidth = 0.01,  opacity=0.2, color = \"grey\"},\n",
    "    data=flights, \n",
    "         transform=[\n",
    "                {lookup=:origin, \n",
    "                 from={data=locations, key=:iata, fields=[\"latitude\", \"longitude\"]},\n",
    "                 as=[\"origin_latitude\", \"origin_longitude\"]},\n",
    "                {lookup=:destination,\n",
    "                 from={data=locations, key=:iata, fields=[\"latitude\", \"longitude\"]},\n",
    "                 as=[\"dest_latitude\", \"dest_longitude\"]}],\n",
    "        projection={type=:albersUsa},\n",
    "        longitude=\"origin_longitude:q\", latitude=\"origin_latitude:q\",\n",
    "        longitude2=\"dest_longitude:q\", latitude2=\"dest_latitude:q\")"
   ]
  },
  {
   "cell_type": "markdown",
   "metadata": {},
   "source": [
    "---\n",
    "---\n",
    "# Berechnung von PageRank\n",
    "\n",
    "Wir berechnen den PageRank jedes Flughafens in unserem Netzwerk $G=(V,E)$.\n",
    "\n",
    "Erinnerung: die PageRank Verteilung ist durch den Eigenvektor zum Eigenwert 1 der Matrix \n",
    "$$ P = (p_{u,v})\\in \\mathbb R^{\\vert V\\vert \\times \\vert V\\vert} , \\quad p_{u,v}=\\begin{cases} 1/\\mathrm{deg}(v), & \\{u,v\\}\\in E\\\\ 0, &\\text{sonst}\\end{cases}.\n",
    "$$\n",
    "gegeben.\n",
    "\n",
    "Zunächst definieren wir $P$."
   ]
  },
  {
   "cell_type": "code",
   "execution_count": null,
   "metadata": {},
   "outputs": [],
   "source": [
    "P = zeros(n, n);\n",
    "for u in 1:n\n",
    "    for v in 1:n\n",
    "        if A[u,v] == 1\n",
    "            P[u,v] = 1/degrees[v]\n",
    "        end\n",
    "    end\n",
    "end"
   ]
  },
  {
   "cell_type": "markdown",
   "metadata": {},
   "source": [
    "Dann berechnen wir seine Eigenvektoren."
   ]
  },
  {
   "cell_type": "code",
   "execution_count": null,
   "metadata": {},
   "outputs": [],
   "source": [
    "using LinearAlgebra\n",
    "E = eigen(P)\n",
    "E.values"
   ]
  },
  {
   "cell_type": "markdown",
   "metadata": {},
   "source": [
    "Der gesuchte Eigenvektor ist die letzte Spalte von `E.vector`."
   ]
  },
  {
   "cell_type": "code",
   "execution_count": null,
   "metadata": {},
   "outputs": [],
   "source": [
    "v = real.(E.vectors[:,end])\n",
    "# test:\n",
    "norm(P*v-v)"
   ]
  },
  {
   "cell_type": "markdown",
   "metadata": {},
   "source": [
    "Für PageRank erstellenw wir ein neues `DataFrame`:"
   ]
  },
  {
   "cell_type": "code",
   "execution_count": null,
   "metadata": {},
   "outputs": [],
   "source": [
    "PageRank =  DataFrame(airport = locations[:,:name], \n",
    "                      city = locations[:,:city],  \n",
    "                      rank = v ./ sum(v),\n",
    "                      longitude = locations[:,:longitude],\n",
    "                      latitude = locations[:,:latitude]\n",
    ")\n",
    "PageRank[1:5,:]"
   ]
  },
  {
   "cell_type": "markdown",
   "metadata": {},
   "source": [
    "Wir schauen, welche Flughäfen die größte PageRanks haben."
   ]
  },
  {
   "cell_type": "code",
   "execution_count": null,
   "metadata": {},
   "outputs": [],
   "source": [
    "PageRank_sorted = sort(PageRank,[:rank],rev=true)\n",
    "PageRank_sorted[1:5,:]"
   ]
  },
  {
   "cell_type": "markdown",
   "metadata": {},
   "source": [
    "---\n",
    "---\n",
    "# Visualisierung\n",
    "\n",
    "\n",
    "Wir können nun die Graphen wie zuvor visualisieren, aber die Knoten ihrem PageRank entsprechend skalieren."
   ]
  },
  {
   "cell_type": "code",
   "execution_count": null,
   "metadata": {},
   "outputs": [],
   "source": [
    "layout= x -> spring_layout(x; C=20)\n",
    "gplot(G, layout = layout,\n",
    "        nodefillc = colorant\"steelblue\",\n",
    "        linetype = \"curve\",\n",
    "        nodesize = PageRank[:,:rank]\n",
    ")"
   ]
  },
  {
   "cell_type": "markdown",
   "metadata": {},
   "source": [
    "Wir sehen, dass der PageRank sich auf einige Flughäfen konzentriert."
   ]
  },
  {
   "cell_type": "code",
   "execution_count": null,
   "metadata": {},
   "outputs": [],
   "source": [
    "p1 = plot(PageRank_sorted[:,:rank], ylabel=\"log degree\", legend=false, yaxis=:log, title=\"PageRank Verteilung\")\n",
    "p2 = plot(PageRank_sorted[:,:rank], ylabel=\"degree\", legend=false)\n",
    "plot(p1, p2, size=(600,200))"
   ]
  },
  {
   "cell_type": "markdown",
   "metadata": {},
   "source": [
    "Die zweite Visualisierung ist wie folgt:"
   ]
  },
  {
   "cell_type": "code",
   "execution_count": null,
   "metadata": {},
   "outputs": [],
   "source": [
    "@vlplot(width=800, height=500) +\n",
    "@vlplot(\n",
    "    mark={:geoshape, fill=:lightgray, stroke=:white},\n",
    "    data={values=us10m, format={type=:topojson,feature=:states}},\n",
    "    projection={type=:albersUsa}) +\n",
    "@vlplot(\n",
    "    :circle,\n",
    "    data=PageRank, projection={type=:albersUsa}, \n",
    "    longitude=\"longitude:q\", latitude=\"latitude:q\", \n",
    "    size=\"rank\", color={value=:steelblue})+\n",
    "@vlplot(\n",
    "    mark={:rule, strokeWidth = 0.01,  opacity=0.2, color = \"grey\"},\n",
    "    data=flights, \n",
    "         transform=[\n",
    "                {lookup=:origin, \n",
    "                 from={data=locations, key=:iata, fields=[\"latitude\", \"longitude\"]},\n",
    "                 as=[\"origin_latitude\", \"origin_longitude\"]},\n",
    "                {lookup=:destination,\n",
    "                 from={data=locations, key=:iata, fields=[\"latitude\", \"longitude\"]},\n",
    "                 as=[\"dest_latitude\", \"dest_longitude\"]}],\n",
    "        projection={type=:albersUsa},\n",
    "        longitude=\"origin_longitude:q\", latitude=\"origin_latitude:q\",\n",
    "        longitude2=\"dest_longitude:q\", latitude2=\"dest_latitude:q\")"
   ]
  },
  {
   "cell_type": "markdown",
   "metadata": {},
   "source": [
    "---\n",
    "---\n",
    "# Markov Prozesse\n",
    "Wir wollen PageRank mit Hilfe eines Markov Prozesses approximieren.\n",
    "\n",
    "Dazu samplen wir zunächst einen zufälligen Flughafen `X`."
   ]
  },
  {
   "cell_type": "code",
   "execution_count": null,
   "metadata": {},
   "outputs": [],
   "source": [
    "X = rand(1:n)\n",
    "locations[X,:name]"
   ]
  },
  {
   "cell_type": "markdown",
   "metadata": {},
   "source": [
    "Von `X` aus wollen wir zufällig zu einem weiteren Flughafen gehen. \n",
    "\n",
    "Die Zufallsverteilung wird dabei durch die zu `X`gehörende Spalte von `P` bestimmt."
   ]
  },
  {
   "cell_type": "code",
   "execution_count": null,
   "metadata": {},
   "outputs": [],
   "source": [
    "sum(P[:,X])"
   ]
  },
  {
   "cell_type": "markdown",
   "metadata": {},
   "source": [
    "Wir wählen den Flughafen `Y` mit Wahrscheinlichkeit `P[Y,X]` aus. \n",
    "\n",
    "Dazu definieren wir eine Funktion, die diese Zufallswahl ausführt."
   ]
  },
  {
   "cell_type": "code",
   "execution_count": null,
   "metadata": {},
   "outputs": [],
   "source": [
    "function step(X, P)\n",
    "    F = cumsum(P[:,X])\n",
    "    r = rand()\n",
    "    findfirst(F .> r)\n",
    "end"
   ]
  },
  {
   "cell_type": "markdown",
   "metadata": {},
   "source": [
    "Ein Zufallsprozess mit 10 Schritten kann dann wie folgt ausgeführt werden:"
   ]
  },
  {
   "cell_type": "code",
   "execution_count": null,
   "metadata": {},
   "outputs": [],
   "source": [
    "ℓ = 10\n",
    "walk = zeros(Int, ℓ)\n",
    "walk[1] = X\n",
    "for i in 2:ℓ\n",
    "    walk[i] = step(walk[i-1], P)\n",
    "end\n",
    "locations[walk, :name]"
   ]
  },
  {
   "cell_type": "markdown",
   "metadata": {},
   "source": [
    "Jeder Zufallsprozess mit $\\ell$ Schritten definiert einen Zufallsverteilung auf $G$. \n",
    "\n",
    "Wir definieren eine Funktion, die von dieser Verteilung zieht:"
   ]
  },
  {
   "cell_type": "code",
   "execution_count": null,
   "metadata": {},
   "outputs": [],
   "source": [
    "function sample(ℓ, P)\n",
    "    X = rand(1:n)\n",
    "    for i in 2:ℓ\n",
    "        X = step(X, P)\n",
    "    end\n",
    "   X\n",
    "end"
   ]
  },
  {
   "cell_type": "markdown",
   "metadata": {},
   "source": [
    "und samplen einen Flughafen von dieser Verteilung:"
   ]
  },
  {
   "cell_type": "code",
   "execution_count": null,
   "metadata": {},
   "outputs": [],
   "source": [
    "X = sample(10, P)\n",
    "locations[X, :name]"
   ]
  },
  {
   "cell_type": "markdown",
   "metadata": {},
   "source": [
    "wir haben nun eine Methode Zufallsobjekte zu generieren, deren Verteilung nahe bei der PageRank Verteilung liegt. Wir können so PageRank approximieren ohne Eigenwerte zu berechnen!"
   ]
  },
  {
   "cell_type": "code",
   "execution_count": null,
   "metadata": {},
   "outputs": [],
   "source": [
    "Ω = [sample(20, P) for _ in 1:1e4];\n",
    "p = [count(Ω .== i) for i in 1:n]\n",
    "PageRankApprox =  DataFrame(airport = locations[:, :name], \n",
    "                      city = locations[:, :city],  \n",
    "                      rank =  p./sum(p),\n",
    "                      longitude = locations[:, :longitude],\n",
    "                      latitude = locations[:, :latitude]\n",
    ")\n",
    "PageRankApprox[1:5,:]"
   ]
  },
  {
   "cell_type": "markdown",
   "metadata": {},
   "source": [
    "Hier ist eine Visualisierung unserer Approximation:"
   ]
  },
  {
   "cell_type": "code",
   "execution_count": null,
   "metadata": {},
   "outputs": [],
   "source": [
    "@vlplot(width=800, height=500) +\n",
    "@vlplot(\n",
    "    mark={:geoshape, fill=:lightgray, stroke=:white},\n",
    "    data={values=us10m, format={type=:topojson,feature=:states}},\n",
    "    projection={type=:albersUsa}) +\n",
    "@vlplot(\n",
    "    :circle,\n",
    "    data=PageRankApprox, projection={type=:albersUsa}, \n",
    "    longitude=\"longitude:q\", latitude=\"latitude:q\", \n",
    "    size=\"rank\", color={value=:steelblue})+\n",
    "@vlplot(\n",
    "    mark={:rule, strokeWidth = 0.01,  opacity=0.2, color = \"grey\"},\n",
    "    data=flights, \n",
    "         transform=[\n",
    "                {lookup=:origin, \n",
    "                 from={data=locations, key=:iata, fields=[\"latitude\", \"longitude\"]},\n",
    "                 as=[\"origin_latitude\", \"origin_longitude\"]},\n",
    "                {lookup=:destination,\n",
    "                 from={data=locations, key=:iata, fields=[\"latitude\", \"longitude\"]},\n",
    "                 as=[\"dest_latitude\", \"dest_longitude\"]}],\n",
    "        projection={type=:albersUsa},\n",
    "        longitude=\"origin_longitude:q\", latitude=\"origin_latitude:q\",\n",
    "        longitude2=\"dest_longitude:q\", latitude2=\"dest_latitude:q\")"
   ]
  }
 ],
 "metadata": {
  "@webio": {
   "lastCommId": null,
   "lastKernelId": null
  },
  "kernelspec": {
   "display_name": "Julia 1.7.1",
   "language": "julia",
   "name": "julia-1.7"
  },
  "language_info": {
   "file_extension": ".jl",
   "mimetype": "application/julia",
   "name": "julia",
   "version": "1.7.1"
  }
 },
 "nbformat": 4,
 "nbformat_minor": 2
}
