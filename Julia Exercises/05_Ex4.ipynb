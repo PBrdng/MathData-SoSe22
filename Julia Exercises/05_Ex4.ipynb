{
 "cells": [
  {
   "cell_type": "code",
   "execution_count": null,
   "id": "1fc2a522",
   "metadata": {},
   "outputs": [],
   "source": [
    "using Pkg\n",
    "Pkg.activate(joinpath(dirname(pwd()), \"conf\", \"05_Ex4\"))\n",
    "Pkg.instantiate();"
   ]
  },
  {
   "cell_type": "code",
   "execution_count": null,
   "id": "6571a799",
   "metadata": {},
   "outputs": [],
   "source": [
    "using Graphs, LinearAlgebra, GraphPlot, Plots, StatsBase;"
   ]
  },
  {
   "cell_type": "code",
   "execution_count": null,
   "id": "122b0d22",
   "metadata": {},
   "outputs": [],
   "source": [
    "A = [0 1 1; 1 0 0; 1 0 0]"
   ]
  },
  {
   "cell_type": "code",
   "execution_count": null,
   "id": "7f76071a",
   "metadata": {},
   "outputs": [],
   "source": [
    "G = Graph(A)"
   ]
  },
  {
   "cell_type": "code",
   "execution_count": null,
   "id": "d32b8654",
   "metadata": {},
   "outputs": [],
   "source": [
    "gplot(G)"
   ]
  },
  {
   "cell_type": "code",
   "execution_count": null,
   "id": "535dadf0",
   "metadata": {},
   "outputs": [],
   "source": [
    "myColors = [\"indianred\", \"steelblue\", \"goldenrod\", \"seagreen\"]"
   ]
  },
  {
   "cell_type": "code",
   "execution_count": null,
   "id": "471c4ef6",
   "metadata": {},
   "outputs": [],
   "source": [
    "initial_coloring = [\"indianred\", \"steelblue\", \"goldenrod\"]"
   ]
  },
  {
   "cell_type": "code",
   "execution_count": null,
   "id": "84ad27dc",
   "metadata": {},
   "outputs": [],
   "source": [
    "#We initialize a (not necessarily admissible!) random coloring\n",
    "random_initial_coloring = function(G)\n",
    "    coloring = [];\n",
    "    for i=1:3 \n",
    "        coloring = push!(coloring, myColors[rand(1:4)]);\n",
    "    end\n",
    "    return coloring;\n",
    "end"
   ]
  },
  {
   "cell_type": "code",
   "execution_count": null,
   "id": "eb7a02f0",
   "metadata": {},
   "outputs": [],
   "source": [
    "gplot(G, nodefillc = random_initial_coloring(G))"
   ]
  },
  {
   "cell_type": "code",
   "execution_count": null,
   "id": "685dd4e8",
   "metadata": {},
   "outputs": [],
   "source": [
    "step! = function(coloring, G)\n",
    "    rand_vertex = rand(1:3);\n",
    "    rand_color = myColors[rand(1:4)]\n",
    "    \n",
    "    vertex_neighbors = neighbors(G, rand_vertex)\n",
    "    if !(rand_color in coloring[vertex_neighbors])\n",
    "        coloring[rand_vertex] = rand_color \n",
    "    end\n",
    "    return coloring\n",
    "end"
   ]
  },
  {
   "cell_type": "code",
   "execution_count": null,
   "id": "d6179b1a",
   "metadata": {},
   "outputs": [],
   "source": [
    "step!(initial_coloring, G)"
   ]
  },
  {
   "cell_type": "code",
   "execution_count": null,
   "id": "fdfdb6bf",
   "metadata": {},
   "outputs": [],
   "source": [
    "walk_length = 20;\n",
    "\n",
    "sample_walk = function(coloring, G, walk_length)\n",
    "    coloring = copy(coloring)\n",
    "    for i=1:walk_length\n",
    "        step!(coloring, G)\n",
    "    end\n",
    "    return coloring;\n",
    "end"
   ]
  },
  {
   "cell_type": "code",
   "execution_count": null,
   "id": "136c3abb",
   "metadata": {},
   "outputs": [],
   "source": [
    "sample_walk(initial_coloring, G, 20)"
   ]
  },
  {
   "cell_type": "code",
   "execution_count": null,
   "id": "3dfd18d4",
   "metadata": {},
   "outputs": [],
   "source": [
    "sample = [sample_walk(random_initial_coloring(G), G, 20) for _ in 1:1e5]"
   ]
  },
  {
   "cell_type": "code",
   "execution_count": null,
   "id": "74da0405",
   "metadata": {},
   "outputs": [],
   "source": [
    "gplot(G, nodefillc = rand(sample))"
   ]
  },
  {
   "cell_type": "code",
   "execution_count": null,
   "id": "94de7611",
   "metadata": {},
   "outputs": [],
   "source": [
    "all_colorings = unique(sample)\n",
    "datamap = countmap(sample)"
   ]
  },
  {
   "cell_type": "code",
   "execution_count": null,
   "id": "6051968b",
   "metadata": {},
   "outputs": [],
   "source": [
    "bar((x -> datamap[x]).(all_colorings), label = \"Empirical Distribution of Colorings\")"
   ]
  },
  {
   "cell_type": "code",
   "execution_count": null,
   "id": "a967d9f9",
   "metadata": {},
   "outputs": [],
   "source": [
    "10^5/36"
   ]
  },
  {
   "cell_type": "code",
   "execution_count": null,
   "id": "5683f728",
   "metadata": {},
   "outputs": [],
   "source": [
    "collect(values(datamap))"
   ]
  },
  {
   "cell_type": "code",
   "execution_count": null,
   "id": "3d12b045",
   "metadata": {},
   "outputs": [],
   "source": [
    "collect(keys(datamap))[27]"
   ]
  }
 ],
 "metadata": {
  "kernelspec": {
   "display_name": "Julia 1.11.4",
   "language": "julia",
   "name": "julia-1.11"
  },
  "language_info": {
   "file_extension": ".jl",
   "mimetype": "application/julia",
   "name": "julia",
   "version": "1.11.4"
  }
 },
 "nbformat": 4,
 "nbformat_minor": 5
}
