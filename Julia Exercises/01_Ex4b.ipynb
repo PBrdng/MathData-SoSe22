{
 "cells": [
  {
   "cell_type": "code",
   "execution_count": null,
   "id": "cdc2b6fb",
   "metadata": {},
   "outputs": [],
   "source": [
    "using Pkg\n",
    "Pkg.activate(joinpath(dirname(pwd()), \"conf\", \"01_Ex4b\"))\n",
    "Pkg.instantiate();"
   ]
  },
  {
   "cell_type": "code",
   "execution_count": 3,
   "id": "42be4586",
   "metadata": {},
   "outputs": [],
   "source": [
    "using LinearAlgebra"
   ]
  },
  {
   "cell_type": "code",
   "execution_count": 4,
   "id": "cc1ff067",
   "metadata": {
    "scrolled": false
   },
   "outputs": [
    {
     "data": {
      "text/plain": [
       "3×2 Matrix{Float64}:\n",
       "  1.0  -0.5\n",
       "  0.0   0.0\n",
       " -2.0   1.0"
      ]
     },
     "metadata": {},
     "output_type": "display_data"
    }
   ],
   "source": [
    "A = [1 -1/2; 0 0; -2 1]"
   ]
  },
  {
   "cell_type": "markdown",
   "id": "e9ab4208",
   "metadata": {},
   "source": [
    "We compute the singular value decomposition of A using the command `svd`. Notice the \"almost zero\" eigenvalue."
   ]
  },
  {
   "cell_type": "code",
   "execution_count": 5,
   "id": "938a0cfb",
   "metadata": {},
   "outputs": [
    {
     "data": {
      "text/plain": [
       "SVD{Float64, Float64, Matrix{Float64}, Vector{Float64}}\n",
       "U factor:\n",
       "3×2 Matrix{Float64}:\n",
       " -0.447214  -0.894427\n",
       "  0.0        0.0\n",
       "  0.894427  -0.447214\n",
       "singular values:\n",
       "2-element Vector{Float64}:\n",
       " 2.5000000000000004\n",
       " 9.930136612989092e-17\n",
       "Vt factor:\n",
       "2×2 Matrix{Float64}:\n",
       " -0.894427   0.447214\n",
       " -0.447214  -0.894427"
      ]
     },
     "metadata": {},
     "output_type": "display_data"
    }
   ],
   "source": [
    "(U,S,Vt) = svd(A)"
   ]
  },
  {
   "cell_type": "code",
   "execution_count": 6,
   "id": "6ecb1c61",
   "metadata": {},
   "outputs": [],
   "source": [
    "Σ = diagm(S);\n",
    "V = transpose(Vt);\n",
    "Ut = transpose(U);"
   ]
  },
  {
   "cell_type": "code",
   "execution_count": 7,
   "id": "da17abd5",
   "metadata": {},
   "outputs": [
    {
     "data": {
      "text/plain": [
       "2×3 Matrix{Float64}:\n",
       "  0.16  0.0  -0.32\n",
       " -0.08  0.0   0.16"
      ]
     },
     "metadata": {},
     "output_type": "display_data"
    }
   ],
   "source": [
    "pinvA = pinv(A)"
   ]
  },
  {
   "cell_type": "code",
   "execution_count": 8,
   "id": "f5df81eb",
   "metadata": {},
   "outputs": [
    {
     "data": {
      "text/plain": [
       "2×3 Matrix{Float64}:\n",
       " -4.02814e15  0.0  -2.01407e15\n",
       "  8.05628e15  0.0   4.02814e15"
      ]
     },
     "metadata": {},
     "output_type": "display_data"
    }
   ],
   "source": [
    "bad_pinvA = V * Σ^(-1) * Ut"
   ]
  },
  {
   "cell_type": "markdown",
   "id": "df233912",
   "metadata": {},
   "source": [
    "The \"naive\" pseudoinverse `bad_pinvA` gives a wrong result due to inverting the \"almost zero\" eigenvalue. This effect can be replicated modifying the relative tolerance of the Julia command `pinv`."
   ]
  },
  {
   "cell_type": "code",
   "execution_count": 9,
   "id": "b6a999b1",
   "metadata": {},
   "outputs": [
    {
     "data": {
      "text/plain": [
       "2×3 Matrix{Float64}:\n",
       "  0.16  0.0  -0.32\n",
       " -0.08  0.0   0.16"
      ]
     },
     "metadata": {},
     "output_type": "display_data"
    }
   ],
   "source": [
    "pinv(A, rtol=1e-16)"
   ]
  },
  {
   "cell_type": "code",
   "execution_count": 10,
   "id": "811e8e05",
   "metadata": {},
   "outputs": [
    {
     "data": {
      "text/plain": [
       "2×3 Matrix{Float64}:\n",
       " 4.02814e15  0.0  2.01407e15\n",
       " 8.05628e15  0.0  4.02814e15"
      ]
     },
     "metadata": {},
     "output_type": "display_data"
    }
   ],
   "source": [
    "pinv(A, rtol=1e-17)"
   ]
  }
 ],
 "metadata": {
  "kernelspec": {
   "display_name": "Julia 1.11.4",
   "language": "julia",
   "name": "julia-1.11"
  },
  "language_info": {
   "file_extension": ".jl",
   "mimetype": "application/julia",
   "name": "julia",
   "version": "1.11.4"
  }
 },
 "nbformat": 4,
 "nbformat_minor": 5
}
