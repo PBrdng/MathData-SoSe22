{
 "cells": [
  {
   "cell_type": "code",
   "execution_count": null,
   "id": "42be4586",
   "metadata": {},
   "outputs": [],
   "source": [
    "using LinearAlgebra"
   ]
  },
  {
   "cell_type": "code",
   "execution_count": null,
   "id": "cc1ff067",
   "metadata": {
    "scrolled": false
   },
   "outputs": [],
   "source": [
    "A = [1 -1/2; 0 0; -2 1]"
   ]
  },
  {
   "cell_type": "markdown",
   "id": "e9ab4208",
   "metadata": {},
   "source": [
    "We compute the singular value decomposition of A using the command `svd`. Notice the \"almost zero\" eigenvalue."
   ]
  },
  {
   "cell_type": "code",
   "execution_count": null,
   "id": "938a0cfb",
   "metadata": {},
   "outputs": [],
   "source": [
    "(U,S,Vt) = svd(A)"
   ]
  },
  {
   "cell_type": "code",
   "execution_count": null,
   "id": "6ecb1c61",
   "metadata": {},
   "outputs": [],
   "source": [
    "Σ = diagm(S);\n",
    "V = transpose(Vt);\n",
    "Ut = transpose(U);"
   ]
  },
  {
   "cell_type": "code",
   "execution_count": null,
   "id": "da17abd5",
   "metadata": {},
   "outputs": [],
   "source": [
    "pinvA = pinv(A)"
   ]
  },
  {
   "cell_type": "code",
   "execution_count": null,
   "id": "f5df81eb",
   "metadata": {},
   "outputs": [],
   "source": [
    "bad_pinvA = V * Σ^(-1) * Ut"
   ]
  },
  {
   "cell_type": "markdown",
   "id": "df233912",
   "metadata": {},
   "source": [
    "The \"naive\" pseudoinverse `bad_pinvA` gives a wrong result due to inverting the \"almost zero\" eigenvalue. This effect can be replicated modifying the relative tolerance of the Julia command `pinv`."
   ]
  },
  {
   "cell_type": "code",
   "execution_count": null,
   "id": "b6a999b1",
   "metadata": {},
   "outputs": [],
   "source": [
    "pinv(A, rtol=1e-16)"
   ]
  },
  {
   "cell_type": "code",
   "execution_count": null,
   "id": "811e8e05",
   "metadata": {},
   "outputs": [],
   "source": [
    "pinv(A, rtol=1e-17)"
   ]
  }
 ],
 "metadata": {
  "kernelspec": {
   "display_name": "Julia 1.7.2",
   "language": "julia",
   "name": "julia-1.7"
  },
  "language_info": {
   "file_extension": ".jl",
   "mimetype": "application/julia",
   "name": "julia",
   "version": "1.7.2"
  }
 },
 "nbformat": 4,
 "nbformat_minor": 5
}
