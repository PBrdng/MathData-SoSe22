{
 "cells": [
  {
   "cell_type": "code",
   "execution_count": null,
   "id": "1b93c574",
   "metadata": {},
   "outputs": [],
   "source": [
    "using Pkg\n",
    "Pkg.activate(joinpath(dirname(pwd()), \"conf\", \"06_Ex3\"))\n",
    "Pkg.instantiate();"
   ]
  },
  {
   "cell_type": "code",
   "execution_count": null,
   "id": "08c48240",
   "metadata": {},
   "outputs": [],
   "source": [
    "using Graphs, LinearAlgebra, GraphPlot;"
   ]
  },
  {
   "cell_type": "code",
   "execution_count": null,
   "id": "acdaee69",
   "metadata": {},
   "outputs": [],
   "source": [
    "G = SimpleGraph(10,18); is_connected(G)"
   ]
  },
  {
   "cell_type": "code",
   "execution_count": null,
   "id": "9f23610b",
   "metadata": {},
   "outputs": [],
   "source": [
    "gplot(G)"
   ]
  },
  {
   "cell_type": "code",
   "execution_count": null,
   "id": "abe52393",
   "metadata": {},
   "outputs": [],
   "source": [
    "KrackhardtKite = Graph([0 1 1 1 0 1 0 0 0 0; 1 0 0 1 1 0 1 0 0 0; 1 0 0 1 0 1 0 0 0 0; 1 1 1 0 1 1 1 0 0 0; 0 1 0 1 0 0 1 0 0 0; 1 0 1 1 0 0 1 1 0 0; 0 1 0 1 1 1 0 1 0 0; 0 0 0 0 0 1 1 0 1 0; 0 0 0 0 0 0 0 1 0 1; 0 0 0 0 0 0 0 0 1 0])"
   ]
  },
  {
   "cell_type": "code",
   "execution_count": null,
   "id": "14795066",
   "metadata": {},
   "outputs": [],
   "source": [
    "gplot(KrackhardtKite)"
   ]
  },
  {
   "cell_type": "code",
   "execution_count": null,
   "id": "a41badb4",
   "metadata": {},
   "outputs": [],
   "source": [
    "A = adjacency_matrix(G)"
   ]
  },
  {
   "cell_type": "code",
   "execution_count": null,
   "id": "589af537",
   "metadata": {},
   "outputs": [],
   "source": [
    "#assuming G is connected and has vertices from 1 to n\n",
    "function myDistance(G, i, j)\n",
    "    n = length(vertices(G));\n",
    "    A = adjacency_matrix(G);\n",
    "    Ak = LinearAlgebra.I(n);\n",
    "    if is_connected(G) == false \n",
    "        return \"ERROR\"\n",
    "    else \n",
    "        for k=0:(n-1)\n",
    "            if Ak[i,j] > 0\n",
    "                return k\n",
    "            else Ak = Ak*A;\n",
    "            end\n",
    "        end\n",
    "    end\n",
    "end"
   ]
  },
  {
   "cell_type": "code",
   "execution_count": null,
   "id": "9c7c6021",
   "metadata": {},
   "outputs": [],
   "source": [
    "degreeCentrality = function(G,u)\n",
    "    return degree(G,u);\n",
    "end"
   ]
  },
  {
   "cell_type": "code",
   "execution_count": null,
   "id": "66d8be2c",
   "metadata": {},
   "outputs": [],
   "source": [
    "harmonicCentrality = function(G, u)\n",
    "    tmpCentrality = 0;\n",
    "    n = length(vertices(G));\n",
    "    for v=1:n\n",
    "        if v != u\n",
    "           tmpCentrality = tmpCentrality + (1/myDistance(G,u,v)); \n",
    "        end\n",
    "    end\n",
    "    return tmpCentrality;\n",
    "end"
   ]
  },
  {
   "cell_type": "code",
   "execution_count": null,
   "id": "2a986e51",
   "metadata": {},
   "outputs": [],
   "source": [
    "closenessCentrality = function(G, u)\n",
    "    tmpCentrality = 0;\n",
    "    n = length(vertices(G));\n",
    "    for v=1:n\n",
    "        if v != u\n",
    "           tmpCentrality = tmpCentrality + myDistance(G,u,v); \n",
    "        end\n",
    "    end\n",
    "    return (1/tmpCentrality);\n",
    "end"
   ]
  },
  {
   "cell_type": "code",
   "execution_count": null,
   "id": "d9d3aca4",
   "metadata": {},
   "outputs": [],
   "source": [
    "numberOfShortestPaths = function(G, u, v)\n",
    "    d = myDistance(G, u, v);\n",
    "    A = adjacency_matrix(G);\n",
    "    return (A^d)[u,v];\n",
    "end"
   ]
  },
  {
   "cell_type": "code",
   "execution_count": null,
   "id": "21ae62e1",
   "metadata": {},
   "outputs": [],
   "source": [
    "betweennessCentrality = function(G, u)\n",
    "    tmpCentrality = 0;\n",
    "    n = length(vertices(G));\n",
    "    A = adjacency_matrix(G);\n",
    "    sigma_xy_u = 0;\n",
    "    for x=1:(n-1)\n",
    "        for y=(x+1):n\n",
    "            d = myDistance(G, x, y);\n",
    "            for k=1:(d-1)\n",
    "                sigma_xy_u += ((A^k)[x,u] * (A^(d-k))[u,y]);\n",
    "            end\n",
    "            tmpCentrality += (sigma_xy_u / numberOfShortestPaths(G,x,y));\n",
    "            sigma_xy_u = 0;\n",
    "        end\n",
    "    end\n",
    "    return tmpCentrality;\n",
    "end"
   ]
  },
  {
   "cell_type": "code",
   "execution_count": null,
   "id": "d0c5529f",
   "metadata": {},
   "outputs": [],
   "source": [
    "bestVertex = function(G, opt)\n",
    "    n = length(vertices(G));\n",
    "    if opt == \"b\"\n",
    "        myCentrality = betweennessCentrality\n",
    "    elseif opt == \"c\"\n",
    "        myCentrality = closenessCentrality\n",
    "    elseif opt == \"d\"\n",
    "        myCentrality = degreeCentrality\n",
    "    elseif opt == \"h\"\n",
    "        myCentrality = harmonicCentrality\n",
    "    else return \"Invalid option\"\n",
    "    end\n",
    "    myBest = [1];\n",
    "    myBestValue = myCentrality(G,1);\n",
    "    for u=2:n\n",
    "        if myCentrality(G,u) > myCentrality(G,myBest[1])\n",
    "            myBest = [u];\n",
    "            myBestValue = myCentrality(G,u);\n",
    "        elseif myCentrality(G,u) == myCentrality(G,myBest[1])\n",
    "            myBest = push!(myBest,u);\n",
    "        end\n",
    "    end\n",
    "    return myBest;\n",
    "end"
   ]
  },
  {
   "cell_type": "code",
   "execution_count": null,
   "id": "79cd27aa",
   "metadata": {},
   "outputs": [],
   "source": [
    "bestVertices = []\n",
    "for i in [\"b\", \"c\", \"d\", \"h\"]\n",
    "    push!(bestVertices, bestVertex(G, i))\n",
    "end\n",
    "bestVertices"
   ]
  },
  {
   "cell_type": "code",
   "execution_count": null,
   "id": "d7aae9d6",
   "metadata": {},
   "outputs": [],
   "source": [
    "bestVerticesKrackhardt = []\n",
    "for i in [\"b\", \"c\", \"d\", \"h\"]\n",
    "    push!(bestVerticesKrackhardt, bestVertex(KrackhardtKite, i))\n",
    "end\n",
    "bestVerticesKrackhardt"
   ]
  }
 ],
 "metadata": {
  "kernelspec": {
   "display_name": "Julia 1.11.4",
   "language": "julia",
   "name": "julia-1.11"
  },
  "language_info": {
   "file_extension": ".jl",
   "mimetype": "application/julia",
   "name": "julia",
   "version": "1.11.4"
  }
 },
 "nbformat": 4,
 "nbformat_minor": 5
}
