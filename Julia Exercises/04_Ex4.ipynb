{
 "cells": [
  {
   "cell_type": "code",
   "execution_count": null,
   "id": "824dcdb1",
   "metadata": {},
   "outputs": [],
   "source": [
    "using Pkg\n",
    "# wird weiter unten verwendet\n",
    "environmentName = \"04_Ex4\"\n",
    "Pkg.activate(joinpath(dirname(pwd()), \"conf\", environmentName))\n",
    "Pkg.instantiate();"
   ]
  },
  {
   "cell_type": "code",
   "execution_count": null,
   "id": "cdc81c36",
   "metadata": {},
   "outputs": [],
   "source": [
    "using SparseArrays, Graphs, LinearAlgebra, Plots, GraphPlot;"
   ]
  },
  {
   "cell_type": "code",
   "execution_count": null,
   "id": "1691c684",
   "metadata": {},
   "outputs": [],
   "source": [
    "using JSON3\n",
    "\n",
    "data = JSON3.read(read(joinpath(dirname(pwd()), \"data\", \"02-networks\", \"graph.json\")))\n",
    "print(string(length(data)))"
   ]
  },
  {
   "cell_type": "code",
   "execution_count": null,
   "id": "2553b07e",
   "metadata": {},
   "outputs": [],
   "source": [
    "pages = []\n",
    "categories = []\n",
    "\n",
    "# verwende nur die ersten 25 pages, damit der Graph nicht zu groß wird\n",
    "for page in data[1:25]\n",
    "    if haskey(page, :categories) && length(page.categories) > 0\n",
    "        push!(pages, page.name)\n",
    "        for category in page.categories\n",
    "            push!(categories, category)\n",
    "        end\n",
    "    end\n",
    "end\n",
    "\n",
    "categories = unique(categories);"
   ]
  },
  {
   "cell_type": "code",
   "execution_count": null,
   "id": "162ffad9",
   "metadata": {},
   "outputs": [],
   "source": [
    "pages"
   ]
  },
  {
   "cell_type": "code",
   "execution_count": null,
   "id": "835139b7",
   "metadata": {},
   "outputs": [],
   "source": [
    "categories"
   ]
  },
  {
   "cell_type": "markdown",
   "id": "6bfdeeb3",
   "metadata": {},
   "source": [
    "Der Graph G hat die Knotenmenge bestehend aus allen pages und allen categories. Eine Kante existiert nur zwischen zwei Knoten $u$ und $v$, wenn:\n",
    "* $u$ ist eine page und $v$ ist eine category\n",
    "* $u$ referenziert $v$"
   ]
  },
  {
   "cell_type": "code",
   "execution_count": null,
   "id": "9dd10e18",
   "metadata": {},
   "outputs": [],
   "source": [
    "using SparseArrays\n",
    "\n",
    "n = length(pages) + length(categories)\n",
    "V = 1:n\n",
    "# diese Map übersetzt Namen von Seiten und Kategorien zu Knotennummern unter der Annahme, dass pages und categories disjoint sind\n",
    "name_map = Dict()\n",
    "# Gesamtanzahl an Knoten\n",
    "A = zeros(Int, n, n)\n",
    "E = []\n",
    "\n",
    "# Seitennamen mit Knotennummern assoziieren\n",
    "for i = 1:length(pages)\n",
    "    name_map[data[i].name] = i\n",
    "end\n",
    "# Kategorien mit Knotennummern assoziieren, offset ist die Anzahl der Seiten\n",
    "for j = 1:length(categories)\n",
    "    name_map[string(categories[j])] = length(pages) + j\n",
    "end\n",
    "\n",
    "for i = 1:length(pages)\n",
    "    page = data[i]\n",
    "    for j = 1:length(page.categories)\n",
    "        category = page.categories[j]\n",
    "        A[i, name_map[category]] = A[name_map[category], i] = 1\n",
    "    end\n",
    "end\n",
    "\n",
    "A = sparse(A)\n",
    "A"
   ]
  },
  {
   "cell_type": "code",
   "execution_count": null,
   "id": "632af4b7",
   "metadata": {},
   "outputs": [],
   "source": [
    "G = Graphs.Graph(A)"
   ]
  },
  {
   "cell_type": "code",
   "execution_count": null,
   "id": "7142954c",
   "metadata": {},
   "outputs": [],
   "source": [
    "d = Graphs.degree(G)\n",
    "not0 = findall(d .!= 0)"
   ]
  },
  {
   "cell_type": "code",
   "execution_count": null,
   "id": "b18efd29",
   "metadata": {},
   "outputs": [],
   "source": [
    "#eliminating isolated vertices from G\n",
    "A = A[not0,not0]\n",
    "d = d[not0]\n",
    "\n",
    "n = size(A)[1]; \n",
    "G = Graphs.Graph(A)\n",
    "sparse(A)"
   ]
  },
  {
   "cell_type": "code",
   "execution_count": null,
   "id": "e058a58d",
   "metadata": {},
   "outputs": [],
   "source": [
    "#building the Laplace matrix\n",
    "\n",
    "L = zeros(n, n)\n",
    "for i in 1:n\n",
    "    for j in 1:n\n",
    "        if i == j\n",
    "            L[i,j] = 1\n",
    "        elseif A[i,j] == 1\n",
    "            L[i,j] = - 1 / sqrt(d[i] * d[j])\n",
    "        end\n",
    "    end\n",
    "end\n",
    "L;"
   ]
  },
  {
   "cell_type": "code",
   "execution_count": null,
   "id": "bf4842a3",
   "metadata": {},
   "outputs": [],
   "source": [
    "#computing and plotting the spectrum\n",
    "\n",
    "E = eigen(L)\n",
    "λ = E.values\n",
    "P = plot(λ, label = \"The spectrum of G\",\n",
    "             linewidth = 3,\n",
    "             xlab = \"i\",\n",
    "             ylab = \"lambda_i\")"
   ]
  },
  {
   "cell_type": "code",
   "execution_count": null,
   "id": "921637d4",
   "metadata": {},
   "outputs": [],
   "source": [
    "revλ = sort(2 .-λ)"
   ]
  },
  {
   "cell_type": "code",
   "execution_count": null,
   "id": "babcfbe4",
   "metadata": {},
   "outputs": [],
   "source": [
    "#investigating symmetry of the spectrum around 1 (check Sheet 5!)\n",
    "count(abs.(λ .- revλ) .< 10^(-14)), n"
   ]
  },
  {
   "cell_type": "code",
   "execution_count": null,
   "id": "b79706c4",
   "metadata": {},
   "outputs": [],
   "source": [
    "#studying the biggest connected component H\n",
    "C = connected_components(G)\n",
    "k = findmax(length.(C))\n",
    "I = C[k[2]]\n",
    "H = Graph(A[I, I])"
   ]
  },
  {
   "cell_type": "code",
   "execution_count": null,
   "id": "0ce5f22f",
   "metadata": {},
   "outputs": [],
   "source": [
    "layout = (zeros(n), zeros(n))\n",
    "height = max(length(pages), length(categories))\n",
    "for i = 1:length(pages)\n",
    "        layout[1][i] = 10\n",
    "        layout[2][i] = i / length(pages) * height\n",
    "end\n",
    "for j = 1:length(categories)\n",
    "        layout[1][j + length(pages)] = 50\n",
    "        layout[2][j + length(pages)] = j / length(categories) * height\n",
    "end\n",
    "layout_H = (layout[1][I], layout[2][I])\n",
    "P2 = gplot(H, layout_H...;\n",
    "        nodelabeldist=2,\n",
    "        nodefillc = colorant\"steelblue\"\n",
    ")"
   ]
  },
  {
   "cell_type": "code",
   "execution_count": null,
   "id": "3443e415",
   "metadata": {},
   "outputs": [],
   "source": [
    "L_H = L[I,I]\n",
    "E_H = eigen(L_H)\n",
    "λ_H = E_H.values\n",
    "plot(λ_H, legend = false, linewidth = 3)"
   ]
  },
  {
   "cell_type": "code",
   "execution_count": null,
   "id": "6079e009",
   "metadata": {},
   "outputs": [],
   "source": [
    "using Compose, Cairo, Fontconfig, IJulia, FileIO, Images\n",
    "\n",
    "#finding the bipartition of H via the eigenvector associated with 2\n",
    "u = E_H.vectors[:,end]\n",
    "cols = []\n",
    "for uᵢ in u\n",
    "    if abs(uᵢ) > 1e-12 \n",
    "        if uᵢ < 0\n",
    "            push!(cols, colorant\"steelblue\")\n",
    "        else\n",
    "            push!(cols, colorant\"indianred\")\n",
    "        end\n",
    "    else\n",
    "        push!(cols, colorant\"orange\")\n",
    "    end\n",
    "end\n",
    "P3 = gplot(H, layout_H...;\n",
    "        nodelabeldist=2,\n",
    "        nodefillc = cols\n",
    ")\n",
    "# wir speichern das Bild und plotten dann das nachgeladene Bild,\n",
    "# weil jupyter teilweise Probleme damit hat gefärbte Graphen anzuzeigen, die viele Knoten enthalten\n",
    "imagePath = joinpath(dirname(pwd()), \"img\", environmentName, \"bipartiton_of_H.png\")\n",
    "draw(PNG(imagePath, 16cm, 16cm), P3)\n",
    "IJulia.display(load(imagePath))"
   ]
  }
 ],
 "metadata": {
  "kernelspec": {
   "display_name": "Julia 1.11.4",
   "language": "julia",
   "name": "julia-1.11"
  },
  "language_info": {
   "file_extension": ".jl",
   "mimetype": "application/julia",
   "name": "julia",
   "version": "1.11.4"
  }
 },
 "nbformat": 4,
 "nbformat_minor": 5
}
