{
 "cells": [
  {
   "cell_type": "code",
   "execution_count": null,
   "id": "fbc5e437",
   "metadata": {},
   "outputs": [],
   "source": [
    "using Pkg\n",
    "Pkg.activate(joinpath(dirname(pwd()), \"conf\", \"07_Ex4\"))\n",
    "Pkg.instantiate();"
   ]
  },
  {
   "cell_type": "code",
   "execution_count": null,
   "id": "fafae20d",
   "metadata": {},
   "outputs": [],
   "source": [
    "using RDatasets, LinearAlgebra"
   ]
  },
  {
   "cell_type": "code",
   "execution_count": null,
   "id": "d37a806c",
   "metadata": {},
   "outputs": [],
   "source": [
    "using Plots, Optim, StatsBase"
   ]
  },
  {
   "cell_type": "code",
   "execution_count": null,
   "id": "7953efe2",
   "metadata": {},
   "outputs": [],
   "source": [
    "data_pressure = dataset(\"datasets\", \"pressure\")"
   ]
  },
  {
   "cell_type": "code",
   "execution_count": null,
   "id": "fe7868b8",
   "metadata": {},
   "outputs": [],
   "source": [
    "names(data_pressure)"
   ]
  },
  {
   "cell_type": "code",
   "execution_count": null,
   "id": "2add8e40",
   "metadata": {},
   "outputs": [],
   "source": [
    "scatter(273.15.+data_pressure[:,1], data_pressure[:,2], \n",
    "            legend=false,\n",
    "            xlabel = \"Temperature\",\n",
    "            ylabel = \"Pressure\",\n",
    "            size = (600,300))"
   ]
  },
  {
   "cell_type": "code",
   "execution_count": null,
   "id": "13c4d48b",
   "metadata": {},
   "outputs": [],
   "source": [
    "k = size(data_pressure, 1)\n",
    "n = round(Int, k * 0.75);"
   ]
  },
  {
   "cell_type": "code",
   "execution_count": null,
   "id": "5ee5b234",
   "metadata": {},
   "outputs": [],
   "source": [
    "i_training = sample(1:k, n, replace = false)\n",
    "X = -1 ./(273.15 .+ data_pressure[i_training,1])\n",
    "Y = log10.(data_pressure[i_training,2])"
   ]
  },
  {
   "cell_type": "code",
   "execution_count": null,
   "id": "e39c3215",
   "metadata": {},
   "outputs": [],
   "source": [
    "i_test = setdiff(1:k, i_training)\n",
    "X_test = -1 ./ (273.15 .+ data_pressure[i_test,1]);\n",
    "Y_test = log10.(data_pressure[i_test,2]);"
   ]
  },
  {
   "cell_type": "code",
   "execution_count": null,
   "id": "a61740be",
   "metadata": {},
   "outputs": [],
   "source": [
    "Ω = [ones(n) X]"
   ]
  },
  {
   "cell_type": "code",
   "execution_count": null,
   "id": "03146711",
   "metadata": {},
   "outputs": [],
   "source": [
    "θ_ERM = pinv(Ω)*Y"
   ]
  },
  {
   "cell_type": "code",
   "execution_count": null,
   "id": "302f90f9",
   "metadata": {},
   "outputs": [],
   "source": [
    "println(\"a = $(θ_ERM[1]), b = $(θ_ERM[2])\") #log10(P) = a - b/x"
   ]
  },
  {
   "cell_type": "code",
   "execution_count": null,
   "id": "3934fa12",
   "metadata": {},
   "outputs": [],
   "source": [
    "Y[:]"
   ]
  },
  {
   "cell_type": "code",
   "execution_count": null,
   "id": "048f1130",
   "metadata": {},
   "outputs": [],
   "source": [
    "θ_ERM[1] .+ θ_ERM[2].*X[:]"
   ]
  },
  {
   "cell_type": "code",
   "execution_count": null,
   "id": "80b23a60",
   "metadata": {},
   "outputs": [],
   "source": [
    "f(u) = θ_ERM[1] + u * θ_ERM[2]"
   ]
  },
  {
   "cell_type": "code",
   "execution_count": null,
   "id": "abdc55dc",
   "metadata": {},
   "outputs": [],
   "source": [
    "scatter(X,Y, legend=false, \n",
    "            xlabel = \"-1/Temperature\",\n",
    "            ylabel = \"log10(Pressure)\",\n",
    "            size = (600,300))\n",
    "plot!(f, minimum(X)-0.0001, maximum(X)+0.0001, lw = 2)"
   ]
  },
  {
   "cell_type": "code",
   "execution_count": null,
   "id": "042ceaf2",
   "metadata": {},
   "outputs": [],
   "source": [
    "scatter(X_test,Y_test, legend=false, \n",
    "            xlabel = \"-1/Temperature\",\n",
    "            ylabel = \"log10(Pressure)\",\n",
    "            size = (600,300))\n",
    "plot!(f, minimum(X_test)-0.0001, maximum(X_test)+0.0001, lw = 2)"
   ]
  }
 ],
 "metadata": {
  "kernelspec": {
   "display_name": "Julia 1.11.4",
   "language": "julia",
   "name": "julia-1.11"
  },
  "language_info": {
   "file_extension": ".jl",
   "mimetype": "application/julia",
   "name": "julia",
   "version": "1.11.4"
  }
 },
 "nbformat": 4,
 "nbformat_minor": 5
}
